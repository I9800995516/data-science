{
 "cells": [
  {
   "cell_type": "markdown",
   "metadata": {
    "toc": true
   },
   "source": [
    "<h1>Содержание<span class=\"tocSkip\"></span></h1>\n",
    "<div class=\"toc\"><ul class=\"toc-item\"><li><span><a href=\"#Получение-и-обзор-данных\" data-toc-modified-id=\"Получение-и-обзор-данных-1\"><span class=\"toc-item-num\">1&nbsp;&nbsp;</span>Получение и обзор данных</a></span></li><li><span><a href=\"#Предобработка-данных\" data-toc-modified-id=\"Предобработка-данных-2\"><span class=\"toc-item-num\">2&nbsp;&nbsp;</span>Предобработка данных</a></span><ul class=\"toc-item\"><li><span><a href=\"#Обработка-пропусков\" data-toc-modified-id=\"Обработка-пропусков-2.1\"><span class=\"toc-item-num\">2.1&nbsp;&nbsp;</span>Обработка пропусков</a></span></li><li><span><a href=\"#Замена-типа-данных\" data-toc-modified-id=\"Замена-типа-данных-2.2\"><span class=\"toc-item-num\">2.2&nbsp;&nbsp;</span>Замена типа данных</a></span></li><li><span><a href=\"#Обработка-дубликатов\" data-toc-modified-id=\"Обработка-дубликатов-2.3\"><span class=\"toc-item-num\">2.3&nbsp;&nbsp;</span>Обработка дубликатов</a></span></li></ul></li><li><span><a href=\"#Формирование-новых-признаков\" data-toc-modified-id=\"Формирование-новых-признаков-3\"><span class=\"toc-item-num\">3&nbsp;&nbsp;</span>Формирование новых признаков</a></span><ul class=\"toc-item\"><li><span><a href=\"#Лемматизация\" data-toc-modified-id=\"Лемматизация-3.1\"><span class=\"toc-item-num\">3.1&nbsp;&nbsp;</span>Лемматизация</a></span></li><li><span><a href=\"#Категоризация-данных\" data-toc-modified-id=\"Категоризация-данных-3.2\"><span class=\"toc-item-num\">3.2&nbsp;&nbsp;</span>Категоризация данных</a></span></li></ul></li><li><span><a href=\"#Установление-зависимостей-целевого-признака-от-признаков-данных\" data-toc-modified-id=\"Установление-зависимостей-целевого-признака-от-признаков-данных-4\"><span class=\"toc-item-num\">4&nbsp;&nbsp;</span>Установление зависимостей целевого признака от признаков данных</a></span></li><li><span><a href=\"#Общий-вывод\" data-toc-modified-id=\"Общий-вывод-5\"><span class=\"toc-item-num\">5&nbsp;&nbsp;</span>Общий вывод</a></span></li></ul></div>"
   ]
  },
  {
   "cell_type": "markdown",
   "metadata": {},
   "source": [
    "# Исследование надёжности заёмщиков\n"
   ]
  },
  {
   "cell_type": "markdown",
   "metadata": {},
   "source": [
    "Входные данные от банка — статистика о платёжеспособности клиентов.\n",
    "\n",
    "Гипотеза: семейное положение и количество детей клиента влияет на факт погашения кредита в срок.\n",
    "\n",
    "Цель: проверить выдвинутую гипотезу. Если гипотеза подтвердится: установить, каким образом семейное положение и количество детей клиента влияет на факт погашения кредита в срок.\n",
    "\n",
    "Также, необходимо проверить влияние иных факторов на факт погашения кредита в срок."
   ]
  },
  {
   "cell_type": "markdown",
   "metadata": {},
   "source": [
    "## Получение и обзор данных"
   ]
  },
  {
   "cell_type": "code",
   "execution_count": 1,
   "metadata": {},
   "outputs": [],
   "source": [
    "import pandas as pd\n",
    "from nltk.stem import SnowballStemmer \n",
    "from pymystem3 import Mystem"
   ]
  },
  {
   "cell_type": "code",
   "execution_count": 2,
   "metadata": {},
   "outputs": [],
   "source": [
    "data = pd.read_csv('/datasets/data.csv')"
   ]
  },
  {
   "cell_type": "code",
   "execution_count": 3,
   "metadata": {},
   "outputs": [
    {
     "name": "stdout",
     "output_type": "stream",
     "text": [
      "Информация о количестве и типе данных в таблице:\n",
      "<class 'pandas.core.frame.DataFrame'>\n",
      "RangeIndex: 21525 entries, 0 to 21524\n",
      "Data columns (total 12 columns):\n",
      " #   Column            Non-Null Count  Dtype  \n",
      "---  ------            --------------  -----  \n",
      " 0   children          21525 non-null  int64  \n",
      " 1   days_employed     19351 non-null  float64\n",
      " 2   dob_years         21525 non-null  int64  \n",
      " 3   education         21525 non-null  object \n",
      " 4   education_id      21525 non-null  int64  \n",
      " 5   family_status     21525 non-null  object \n",
      " 6   family_status_id  21525 non-null  int64  \n",
      " 7   gender            21525 non-null  object \n",
      " 8   income_type       21525 non-null  object \n",
      " 9   debt              21525 non-null  int64  \n",
      " 10  total_income      19351 non-null  float64\n",
      " 11  purpose           21525 non-null  object \n",
      "dtypes: float64(2), int64(5), object(5)\n",
      "memory usage: 2.0+ MB\n"
     ]
    }
   ],
   "source": [
    "print('Информация о количестве и типе данных в таблице:')\n",
    "data.info()"
   ]
  },
  {
   "cell_type": "code",
   "execution_count": 4,
   "metadata": {},
   "outputs": [
    {
     "name": "stdout",
     "output_type": "stream",
     "text": [
      "Первые пять строк таблицы:\n"
     ]
    },
    {
     "data": {
      "text/html": [
       "<div>\n",
       "<style scoped>\n",
       "    .dataframe tbody tr th:only-of-type {\n",
       "        vertical-align: middle;\n",
       "    }\n",
       "\n",
       "    .dataframe tbody tr th {\n",
       "        vertical-align: top;\n",
       "    }\n",
       "\n",
       "    .dataframe thead th {\n",
       "        text-align: right;\n",
       "    }\n",
       "</style>\n",
       "<table border=\"1\" class=\"dataframe\">\n",
       "  <thead>\n",
       "    <tr style=\"text-align: right;\">\n",
       "      <th></th>\n",
       "      <th>children</th>\n",
       "      <th>days_employed</th>\n",
       "      <th>dob_years</th>\n",
       "      <th>education</th>\n",
       "      <th>education_id</th>\n",
       "      <th>family_status</th>\n",
       "      <th>family_status_id</th>\n",
       "      <th>gender</th>\n",
       "      <th>income_type</th>\n",
       "      <th>debt</th>\n",
       "      <th>total_income</th>\n",
       "      <th>purpose</th>\n",
       "    </tr>\n",
       "  </thead>\n",
       "  <tbody>\n",
       "    <tr>\n",
       "      <th>0</th>\n",
       "      <td>1</td>\n",
       "      <td>-8437.673028</td>\n",
       "      <td>42</td>\n",
       "      <td>высшее</td>\n",
       "      <td>0</td>\n",
       "      <td>женат / замужем</td>\n",
       "      <td>0</td>\n",
       "      <td>F</td>\n",
       "      <td>сотрудник</td>\n",
       "      <td>0</td>\n",
       "      <td>253875.639453</td>\n",
       "      <td>покупка жилья</td>\n",
       "    </tr>\n",
       "    <tr>\n",
       "      <th>1</th>\n",
       "      <td>1</td>\n",
       "      <td>-4024.803754</td>\n",
       "      <td>36</td>\n",
       "      <td>среднее</td>\n",
       "      <td>1</td>\n",
       "      <td>женат / замужем</td>\n",
       "      <td>0</td>\n",
       "      <td>F</td>\n",
       "      <td>сотрудник</td>\n",
       "      <td>0</td>\n",
       "      <td>112080.014102</td>\n",
       "      <td>приобретение автомобиля</td>\n",
       "    </tr>\n",
       "    <tr>\n",
       "      <th>2</th>\n",
       "      <td>0</td>\n",
       "      <td>-5623.422610</td>\n",
       "      <td>33</td>\n",
       "      <td>Среднее</td>\n",
       "      <td>1</td>\n",
       "      <td>женат / замужем</td>\n",
       "      <td>0</td>\n",
       "      <td>M</td>\n",
       "      <td>сотрудник</td>\n",
       "      <td>0</td>\n",
       "      <td>145885.952297</td>\n",
       "      <td>покупка жилья</td>\n",
       "    </tr>\n",
       "    <tr>\n",
       "      <th>3</th>\n",
       "      <td>3</td>\n",
       "      <td>-4124.747207</td>\n",
       "      <td>32</td>\n",
       "      <td>среднее</td>\n",
       "      <td>1</td>\n",
       "      <td>женат / замужем</td>\n",
       "      <td>0</td>\n",
       "      <td>M</td>\n",
       "      <td>сотрудник</td>\n",
       "      <td>0</td>\n",
       "      <td>267628.550329</td>\n",
       "      <td>дополнительное образование</td>\n",
       "    </tr>\n",
       "    <tr>\n",
       "      <th>4</th>\n",
       "      <td>0</td>\n",
       "      <td>340266.072047</td>\n",
       "      <td>53</td>\n",
       "      <td>среднее</td>\n",
       "      <td>1</td>\n",
       "      <td>гражданский брак</td>\n",
       "      <td>1</td>\n",
       "      <td>F</td>\n",
       "      <td>пенсионер</td>\n",
       "      <td>0</td>\n",
       "      <td>158616.077870</td>\n",
       "      <td>сыграть свадьбу</td>\n",
       "    </tr>\n",
       "  </tbody>\n",
       "</table>\n",
       "</div>"
      ],
      "text/plain": [
       "   children  days_employed  dob_years education  education_id  \\\n",
       "0         1   -8437.673028         42    высшее             0   \n",
       "1         1   -4024.803754         36   среднее             1   \n",
       "2         0   -5623.422610         33   Среднее             1   \n",
       "3         3   -4124.747207         32   среднее             1   \n",
       "4         0  340266.072047         53   среднее             1   \n",
       "\n",
       "      family_status  family_status_id gender income_type  debt   total_income  \\\n",
       "0   женат / замужем                 0      F   сотрудник     0  253875.639453   \n",
       "1   женат / замужем                 0      F   сотрудник     0  112080.014102   \n",
       "2   женат / замужем                 0      M   сотрудник     0  145885.952297   \n",
       "3   женат / замужем                 0      M   сотрудник     0  267628.550329   \n",
       "4  гражданский брак                 1      F   пенсионер     0  158616.077870   \n",
       "\n",
       "                      purpose  \n",
       "0               покупка жилья  \n",
       "1     приобретение автомобиля  \n",
       "2               покупка жилья  \n",
       "3  дополнительное образование  \n",
       "4             сыграть свадьбу  "
      ]
     },
     "metadata": {},
     "output_type": "display_data"
    }
   ],
   "source": [
    "print('Первые пять строк таблицы:')\n",
    "display(data.head())"
   ]
  },
  {
   "cell_type": "code",
   "execution_count": 5,
   "metadata": {},
   "outputs": [
    {
     "name": "stdout",
     "output_type": "stream",
     "text": [
      "Последние пять строк таблицы:\n"
     ]
    },
    {
     "data": {
      "text/html": [
       "<div>\n",
       "<style scoped>\n",
       "    .dataframe tbody tr th:only-of-type {\n",
       "        vertical-align: middle;\n",
       "    }\n",
       "\n",
       "    .dataframe tbody tr th {\n",
       "        vertical-align: top;\n",
       "    }\n",
       "\n",
       "    .dataframe thead th {\n",
       "        text-align: right;\n",
       "    }\n",
       "</style>\n",
       "<table border=\"1\" class=\"dataframe\">\n",
       "  <thead>\n",
       "    <tr style=\"text-align: right;\">\n",
       "      <th></th>\n",
       "      <th>children</th>\n",
       "      <th>days_employed</th>\n",
       "      <th>dob_years</th>\n",
       "      <th>education</th>\n",
       "      <th>education_id</th>\n",
       "      <th>family_status</th>\n",
       "      <th>family_status_id</th>\n",
       "      <th>gender</th>\n",
       "      <th>income_type</th>\n",
       "      <th>debt</th>\n",
       "      <th>total_income</th>\n",
       "      <th>purpose</th>\n",
       "    </tr>\n",
       "  </thead>\n",
       "  <tbody>\n",
       "    <tr>\n",
       "      <th>21520</th>\n",
       "      <td>1</td>\n",
       "      <td>-4529.316663</td>\n",
       "      <td>43</td>\n",
       "      <td>среднее</td>\n",
       "      <td>1</td>\n",
       "      <td>гражданский брак</td>\n",
       "      <td>1</td>\n",
       "      <td>F</td>\n",
       "      <td>компаньон</td>\n",
       "      <td>0</td>\n",
       "      <td>224791.862382</td>\n",
       "      <td>операции с жильем</td>\n",
       "    </tr>\n",
       "    <tr>\n",
       "      <th>21521</th>\n",
       "      <td>0</td>\n",
       "      <td>343937.404131</td>\n",
       "      <td>67</td>\n",
       "      <td>среднее</td>\n",
       "      <td>1</td>\n",
       "      <td>женат / замужем</td>\n",
       "      <td>0</td>\n",
       "      <td>F</td>\n",
       "      <td>пенсионер</td>\n",
       "      <td>0</td>\n",
       "      <td>155999.806512</td>\n",
       "      <td>сделка с автомобилем</td>\n",
       "    </tr>\n",
       "    <tr>\n",
       "      <th>21522</th>\n",
       "      <td>1</td>\n",
       "      <td>-2113.346888</td>\n",
       "      <td>38</td>\n",
       "      <td>среднее</td>\n",
       "      <td>1</td>\n",
       "      <td>гражданский брак</td>\n",
       "      <td>1</td>\n",
       "      <td>M</td>\n",
       "      <td>сотрудник</td>\n",
       "      <td>1</td>\n",
       "      <td>89672.561153</td>\n",
       "      <td>недвижимость</td>\n",
       "    </tr>\n",
       "    <tr>\n",
       "      <th>21523</th>\n",
       "      <td>3</td>\n",
       "      <td>-3112.481705</td>\n",
       "      <td>38</td>\n",
       "      <td>среднее</td>\n",
       "      <td>1</td>\n",
       "      <td>женат / замужем</td>\n",
       "      <td>0</td>\n",
       "      <td>M</td>\n",
       "      <td>сотрудник</td>\n",
       "      <td>1</td>\n",
       "      <td>244093.050500</td>\n",
       "      <td>на покупку своего автомобиля</td>\n",
       "    </tr>\n",
       "    <tr>\n",
       "      <th>21524</th>\n",
       "      <td>2</td>\n",
       "      <td>-1984.507589</td>\n",
       "      <td>40</td>\n",
       "      <td>среднее</td>\n",
       "      <td>1</td>\n",
       "      <td>женат / замужем</td>\n",
       "      <td>0</td>\n",
       "      <td>F</td>\n",
       "      <td>сотрудник</td>\n",
       "      <td>0</td>\n",
       "      <td>82047.418899</td>\n",
       "      <td>на покупку автомобиля</td>\n",
       "    </tr>\n",
       "  </tbody>\n",
       "</table>\n",
       "</div>"
      ],
      "text/plain": [
       "       children  days_employed  dob_years education  education_id  \\\n",
       "21520         1   -4529.316663         43   среднее             1   \n",
       "21521         0  343937.404131         67   среднее             1   \n",
       "21522         1   -2113.346888         38   среднее             1   \n",
       "21523         3   -3112.481705         38   среднее             1   \n",
       "21524         2   -1984.507589         40   среднее             1   \n",
       "\n",
       "          family_status  family_status_id gender income_type  debt  \\\n",
       "21520  гражданский брак                 1      F   компаньон     0   \n",
       "21521   женат / замужем                 0      F   пенсионер     0   \n",
       "21522  гражданский брак                 1      M   сотрудник     1   \n",
       "21523   женат / замужем                 0      M   сотрудник     1   \n",
       "21524   женат / замужем                 0      F   сотрудник     0   \n",
       "\n",
       "        total_income                       purpose  \n",
       "21520  224791.862382             операции с жильем  \n",
       "21521  155999.806512          сделка с автомобилем  \n",
       "21522   89672.561153                  недвижимость  \n",
       "21523  244093.050500  на покупку своего автомобиля  \n",
       "21524   82047.418899         на покупку автомобиля  "
      ]
     },
     "metadata": {},
     "output_type": "display_data"
    }
   ],
   "source": [
    "print('Последние пять строк таблицы:')\n",
    "display(data.tail())"
   ]
  },
  {
   "cell_type": "markdown",
   "metadata": {},
   "source": [
    "Описание столбцов:\n",
    "\n",
    "`children` — количество детей в семье\n",
    "\n",
    "`days_employed` — общий трудовой стаж в днях\n",
    "\n",
    "`dob_years` — возраст клиента в годах\n",
    "\n",
    "`education` — уровень образования клиента\n",
    "\n",
    "`education_id` — идентификатор уровня образования\n",
    "\n",
    "`family_status` — семейное положение\n",
    "\n",
    "`family_status_id` — идентификатор семейного положения\n",
    "\n",
    "`gender` — пол клиента\n",
    "\n",
    "`income_type` — тип занятости\n",
    "\n",
    "`debt` — имел ли задолженность по возврату кредитов\n",
    "\n",
    "`total_income` — ежемесячный доход\n",
    "\n",
    "`purpose` — цель получения кредита"
   ]
  },
  {
   "cell_type": "markdown",
   "metadata": {},
   "source": [
    "**Вывод** \n",
    "\n",
    "Всего в таблице 12 стобцов и 3 различных типа данных.\n",
    "Количество значений в столбцах различается. Это говорит о том, что в данных есть пропущенные значения.\n",
    "\n",
    "Таблица несет в себе информацию о заемщиках банка, определяющей для нас является информация о задолжности перед банком.\n",
    "\n",
    "Обработаем пропущенные значения, дубликаты и некорректные значения в таблице. Заменим тип данных в столбцах \"общий трудовой стаж\" и \"ежемесячный доход\". Сгруппируем данные, исходя из поставленной задачи. После этого установим зависимость между количеством детей и возвратом кредита в срок, уровнем дохода и возвратом кредита в срок, целью получения кредита и возвратом кредита в срок, семейным положением и возвратом кредита в срок.\n"
   ]
  },
  {
   "cell_type": "markdown",
   "metadata": {},
   "source": [
    "## Предобработка данных"
   ]
  },
  {
   "cell_type": "markdown",
   "metadata": {},
   "source": [
    "### Обработка пропусков"
   ]
  },
  {
   "cell_type": "code",
   "execution_count": 6,
   "metadata": {},
   "outputs": [
    {
     "name": "stdout",
     "output_type": "stream",
     "text": [
      "Количество пропусков:\n"
     ]
    },
    {
     "data": {
      "text/plain": [
       "children               0\n",
       "days_employed       2174\n",
       "dob_years              0\n",
       "education              0\n",
       "education_id           0\n",
       "family_status          0\n",
       "family_status_id       0\n",
       "gender                 0\n",
       "income_type            0\n",
       "debt                   0\n",
       "total_income        2174\n",
       "purpose                0\n",
       "dtype: int64"
      ]
     },
     "metadata": {},
     "output_type": "display_data"
    }
   ],
   "source": [
    "print('Количество пропусков:')\n",
    "display(data.isna().sum())"
   ]
  },
  {
   "cell_type": "markdown",
   "metadata": {},
   "source": [
    "Пропуски в столбце `days_employed` и `total_income`.\n",
    "\n"
   ]
  },
  {
   "cell_type": "code",
   "execution_count": 7,
   "metadata": {},
   "outputs": [
    {
     "data": {
      "text/html": [
       "<div>\n",
       "<style scoped>\n",
       "    .dataframe tbody tr th:only-of-type {\n",
       "        vertical-align: middle;\n",
       "    }\n",
       "\n",
       "    .dataframe tbody tr th {\n",
       "        vertical-align: top;\n",
       "    }\n",
       "\n",
       "    .dataframe thead th {\n",
       "        text-align: right;\n",
       "    }\n",
       "</style>\n",
       "<table border=\"1\" class=\"dataframe\">\n",
       "  <thead>\n",
       "    <tr style=\"text-align: right;\">\n",
       "      <th></th>\n",
       "      <th>children</th>\n",
       "      <th>days_employed</th>\n",
       "      <th>dob_years</th>\n",
       "      <th>education</th>\n",
       "      <th>education_id</th>\n",
       "      <th>family_status</th>\n",
       "      <th>family_status_id</th>\n",
       "      <th>gender</th>\n",
       "      <th>income_type</th>\n",
       "      <th>debt</th>\n",
       "      <th>total_income</th>\n",
       "      <th>purpose</th>\n",
       "    </tr>\n",
       "  </thead>\n",
       "  <tbody>\n",
       "    <tr>\n",
       "      <th>12</th>\n",
       "      <td>0</td>\n",
       "      <td>NaN</td>\n",
       "      <td>65</td>\n",
       "      <td>среднее</td>\n",
       "      <td>1</td>\n",
       "      <td>гражданский брак</td>\n",
       "      <td>1</td>\n",
       "      <td>M</td>\n",
       "      <td>пенсионер</td>\n",
       "      <td>0</td>\n",
       "      <td>NaN</td>\n",
       "      <td>сыграть свадьбу</td>\n",
       "    </tr>\n",
       "    <tr>\n",
       "      <th>26</th>\n",
       "      <td>0</td>\n",
       "      <td>NaN</td>\n",
       "      <td>41</td>\n",
       "      <td>среднее</td>\n",
       "      <td>1</td>\n",
       "      <td>женат / замужем</td>\n",
       "      <td>0</td>\n",
       "      <td>M</td>\n",
       "      <td>госслужащий</td>\n",
       "      <td>0</td>\n",
       "      <td>NaN</td>\n",
       "      <td>образование</td>\n",
       "    </tr>\n",
       "    <tr>\n",
       "      <th>29</th>\n",
       "      <td>0</td>\n",
       "      <td>NaN</td>\n",
       "      <td>63</td>\n",
       "      <td>среднее</td>\n",
       "      <td>1</td>\n",
       "      <td>Не женат / не замужем</td>\n",
       "      <td>4</td>\n",
       "      <td>F</td>\n",
       "      <td>пенсионер</td>\n",
       "      <td>0</td>\n",
       "      <td>NaN</td>\n",
       "      <td>строительство жилой недвижимости</td>\n",
       "    </tr>\n",
       "    <tr>\n",
       "      <th>41</th>\n",
       "      <td>0</td>\n",
       "      <td>NaN</td>\n",
       "      <td>50</td>\n",
       "      <td>среднее</td>\n",
       "      <td>1</td>\n",
       "      <td>женат / замужем</td>\n",
       "      <td>0</td>\n",
       "      <td>F</td>\n",
       "      <td>госслужащий</td>\n",
       "      <td>0</td>\n",
       "      <td>NaN</td>\n",
       "      <td>сделка с подержанным автомобилем</td>\n",
       "    </tr>\n",
       "    <tr>\n",
       "      <th>55</th>\n",
       "      <td>0</td>\n",
       "      <td>NaN</td>\n",
       "      <td>54</td>\n",
       "      <td>среднее</td>\n",
       "      <td>1</td>\n",
       "      <td>гражданский брак</td>\n",
       "      <td>1</td>\n",
       "      <td>F</td>\n",
       "      <td>пенсионер</td>\n",
       "      <td>1</td>\n",
       "      <td>NaN</td>\n",
       "      <td>сыграть свадьбу</td>\n",
       "    </tr>\n",
       "  </tbody>\n",
       "</table>\n",
       "</div>"
      ],
      "text/plain": [
       "    children  days_employed  dob_years education  education_id  \\\n",
       "12         0            NaN         65   среднее             1   \n",
       "26         0            NaN         41   среднее             1   \n",
       "29         0            NaN         63   среднее             1   \n",
       "41         0            NaN         50   среднее             1   \n",
       "55         0            NaN         54   среднее             1   \n",
       "\n",
       "            family_status  family_status_id gender  income_type  debt  \\\n",
       "12       гражданский брак                 1      M    пенсионер     0   \n",
       "26        женат / замужем                 0      M  госслужащий     0   \n",
       "29  Не женат / не замужем                 4      F    пенсионер     0   \n",
       "41        женат / замужем                 0      F  госслужащий     0   \n",
       "55       гражданский брак                 1      F    пенсионер     1   \n",
       "\n",
       "    total_income                           purpose  \n",
       "12           NaN                   сыграть свадьбу  \n",
       "26           NaN                       образование  \n",
       "29           NaN  строительство жилой недвижимости  \n",
       "41           NaN  сделка с подержанным автомобилем  \n",
       "55           NaN                   сыграть свадьбу  "
      ]
     },
     "metadata": {},
     "output_type": "display_data"
    },
    {
     "name": "stdout",
     "output_type": "stream",
     "text": [
      "\n"
     ]
    },
    {
     "data": {
      "text/html": [
       "<div>\n",
       "<style scoped>\n",
       "    .dataframe tbody tr th:only-of-type {\n",
       "        vertical-align: middle;\n",
       "    }\n",
       "\n",
       "    .dataframe tbody tr th {\n",
       "        vertical-align: top;\n",
       "    }\n",
       "\n",
       "    .dataframe thead th {\n",
       "        text-align: right;\n",
       "    }\n",
       "</style>\n",
       "<table border=\"1\" class=\"dataframe\">\n",
       "  <thead>\n",
       "    <tr style=\"text-align: right;\">\n",
       "      <th></th>\n",
       "      <th>children</th>\n",
       "      <th>days_employed</th>\n",
       "      <th>dob_years</th>\n",
       "      <th>education</th>\n",
       "      <th>education_id</th>\n",
       "      <th>family_status</th>\n",
       "      <th>family_status_id</th>\n",
       "      <th>gender</th>\n",
       "      <th>income_type</th>\n",
       "      <th>debt</th>\n",
       "      <th>total_income</th>\n",
       "      <th>purpose</th>\n",
       "    </tr>\n",
       "  </thead>\n",
       "  <tbody>\n",
       "    <tr>\n",
       "      <th>12</th>\n",
       "      <td>0</td>\n",
       "      <td>NaN</td>\n",
       "      <td>65</td>\n",
       "      <td>среднее</td>\n",
       "      <td>1</td>\n",
       "      <td>гражданский брак</td>\n",
       "      <td>1</td>\n",
       "      <td>M</td>\n",
       "      <td>пенсионер</td>\n",
       "      <td>0</td>\n",
       "      <td>NaN</td>\n",
       "      <td>сыграть свадьбу</td>\n",
       "    </tr>\n",
       "    <tr>\n",
       "      <th>26</th>\n",
       "      <td>0</td>\n",
       "      <td>NaN</td>\n",
       "      <td>41</td>\n",
       "      <td>среднее</td>\n",
       "      <td>1</td>\n",
       "      <td>женат / замужем</td>\n",
       "      <td>0</td>\n",
       "      <td>M</td>\n",
       "      <td>госслужащий</td>\n",
       "      <td>0</td>\n",
       "      <td>NaN</td>\n",
       "      <td>образование</td>\n",
       "    </tr>\n",
       "    <tr>\n",
       "      <th>29</th>\n",
       "      <td>0</td>\n",
       "      <td>NaN</td>\n",
       "      <td>63</td>\n",
       "      <td>среднее</td>\n",
       "      <td>1</td>\n",
       "      <td>Не женат / не замужем</td>\n",
       "      <td>4</td>\n",
       "      <td>F</td>\n",
       "      <td>пенсионер</td>\n",
       "      <td>0</td>\n",
       "      <td>NaN</td>\n",
       "      <td>строительство жилой недвижимости</td>\n",
       "    </tr>\n",
       "    <tr>\n",
       "      <th>41</th>\n",
       "      <td>0</td>\n",
       "      <td>NaN</td>\n",
       "      <td>50</td>\n",
       "      <td>среднее</td>\n",
       "      <td>1</td>\n",
       "      <td>женат / замужем</td>\n",
       "      <td>0</td>\n",
       "      <td>F</td>\n",
       "      <td>госслужащий</td>\n",
       "      <td>0</td>\n",
       "      <td>NaN</td>\n",
       "      <td>сделка с подержанным автомобилем</td>\n",
       "    </tr>\n",
       "    <tr>\n",
       "      <th>55</th>\n",
       "      <td>0</td>\n",
       "      <td>NaN</td>\n",
       "      <td>54</td>\n",
       "      <td>среднее</td>\n",
       "      <td>1</td>\n",
       "      <td>гражданский брак</td>\n",
       "      <td>1</td>\n",
       "      <td>F</td>\n",
       "      <td>пенсионер</td>\n",
       "      <td>1</td>\n",
       "      <td>NaN</td>\n",
       "      <td>сыграть свадьбу</td>\n",
       "    </tr>\n",
       "  </tbody>\n",
       "</table>\n",
       "</div>"
      ],
      "text/plain": [
       "    children  days_employed  dob_years education  education_id  \\\n",
       "12         0            NaN         65   среднее             1   \n",
       "26         0            NaN         41   среднее             1   \n",
       "29         0            NaN         63   среднее             1   \n",
       "41         0            NaN         50   среднее             1   \n",
       "55         0            NaN         54   среднее             1   \n",
       "\n",
       "            family_status  family_status_id gender  income_type  debt  \\\n",
       "12       гражданский брак                 1      M    пенсионер     0   \n",
       "26        женат / замужем                 0      M  госслужащий     0   \n",
       "29  Не женат / не замужем                 4      F    пенсионер     0   \n",
       "41        женат / замужем                 0      F  госслужащий     0   \n",
       "55       гражданский брак                 1      F    пенсионер     1   \n",
       "\n",
       "    total_income                           purpose  \n",
       "12           NaN                   сыграть свадьбу  \n",
       "26           NaN                       образование  \n",
       "29           NaN  строительство жилой недвижимости  \n",
       "41           NaN  сделка с подержанным автомобилем  \n",
       "55           NaN                   сыграть свадьбу  "
      ]
     },
     "metadata": {},
     "output_type": "display_data"
    }
   ],
   "source": [
    "display(data[data['days_employed'].isna()].head())\n",
    "print()\n",
    "display(data[data['total_income'].isna()].head())"
   ]
  },
  {
   "cell_type": "code",
   "execution_count": 8,
   "metadata": {},
   "outputs": [
    {
     "data": {
      "text/plain": [
       "-327.685916     1\n",
       "-1580.622577    1\n",
       "-4122.460569    1\n",
       "-2828.237691    1\n",
       "-2636.090517    1\n",
       "               ..\n",
       "-7120.517564    1\n",
       "-2146.884040    1\n",
       "-881.454684     1\n",
       "-794.666350     1\n",
       "-3382.113891    1\n",
       "Name: days_employed, Length: 19351, dtype: int64"
      ]
     },
     "metadata": {},
     "output_type": "display_data"
    }
   ],
   "source": [
    "display(data['days_employed'].value_counts())"
   ]
  },
  {
   "cell_type": "markdown",
   "metadata": {},
   "source": [
    "Так же обнаружен отрицательный трудовой стаж, чего быть не может. Уберем отрицательный знак перед значениями."
   ]
  },
  {
   "cell_type": "code",
   "execution_count": 9,
   "metadata": {},
   "outputs": [],
   "source": [
    "data['days_employed'] = abs(data['days_employed'])"
   ]
  },
  {
   "cell_type": "code",
   "execution_count": 10,
   "metadata": {},
   "outputs": [
    {
     "data": {
      "text/plain": [
       "169846.427535    1\n",
       "257737.077768    1\n",
       "200508.675866    1\n",
       "106196.235958    1\n",
       "248730.171354    1\n",
       "                ..\n",
       "175057.266090    1\n",
       "101516.604975    1\n",
       "239154.168013    1\n",
       "165009.733021    1\n",
       "189255.286637    1\n",
       "Name: total_income, Length: 19351, dtype: int64"
      ]
     },
     "metadata": {},
     "output_type": "display_data"
    }
   ],
   "source": [
    "display(data['total_income'].value_counts())"
   ]
  },
  {
   "cell_type": "markdown",
   "metadata": {},
   "source": [
    " Заменим пропущенные значения столбца `days_employed` на ноль. "
   ]
  },
  {
   "cell_type": "code",
   "execution_count": 11,
   "metadata": {},
   "outputs": [],
   "source": [
    "data['days_employed'] = data['days_employed'].fillna(0)"
   ]
  },
  {
   "cell_type": "code",
   "execution_count": 12,
   "metadata": {},
   "outputs": [
    {
     "data": {
      "text/plain": [
       "children               0\n",
       "days_employed          0\n",
       "dob_years              0\n",
       "education              0\n",
       "education_id           0\n",
       "family_status          0\n",
       "family_status_id       0\n",
       "gender                 0\n",
       "income_type            0\n",
       "debt                   0\n",
       "total_income        2174\n",
       "purpose                0\n",
       "dtype: int64"
      ]
     },
     "metadata": {},
     "output_type": "display_data"
    }
   ],
   "source": [
    "display(data.isna().sum())"
   ]
  },
  {
   "cell_type": "markdown",
   "metadata": {},
   "source": [
    "Для замены пропусков в столбце `total_income`, найдем характерные значения других столбцов в тех строках, где присутствуют пропуски. На основании этих характерных значений произведем замену. Вычислять будем медианные значения, для меньшего воздействия выбросов."
   ]
  },
  {
   "cell_type": "code",
   "execution_count": 13,
   "metadata": {},
   "outputs": [
    {
     "name": "stdout",
     "output_type": "stream",
     "text": [
      "1.0\n"
     ]
    }
   ],
   "source": [
    "print(data[data['total_income'].isna() == True]['education_id'].median())"
   ]
  },
  {
   "cell_type": "code",
   "execution_count": 14,
   "metadata": {},
   "outputs": [
    {
     "name": "stdout",
     "output_type": "stream",
     "text": [
      "0.0\n"
     ]
    }
   ],
   "source": [
    "print(data[data['total_income'].isna() == True]['children'].median())"
   ]
  },
  {
   "cell_type": "code",
   "execution_count": 15,
   "metadata": {},
   "outputs": [
    {
     "name": "stdout",
     "output_type": "stream",
     "text": [
      "0.0\n"
     ]
    }
   ],
   "source": [
    "print(data[data['total_income'].isna() == True]['family_status_id'].median())"
   ]
  },
  {
   "cell_type": "code",
   "execution_count": 16,
   "metadata": {},
   "outputs": [
    {
     "name": "stdout",
     "output_type": "stream",
     "text": [
      "[42 36 33 32 53 27 43 50 35 41 40 65 54 56 26 48 24 21 57 67 28 63 62 47\n",
      " 34 68 25 31 30 20 49 37 45 61 64 44 52 46 23 38 39 51  0 59 29 60 55 58\n",
      " 71 22 73 66 69 19 72 70 74 75]\n"
     ]
    }
   ],
   "source": [
    "print(data['dob_years'].unique())"
   ]
  },
  {
   "cell_type": "markdown",
   "metadata": {},
   "source": [
    "В столбце `dob_years` обнаружены значения ноль, удалим строки, с таким значением."
   ]
  },
  {
   "cell_type": "code",
   "execution_count": 17,
   "metadata": {},
   "outputs": [],
   "source": [
    "data = data[data['dob_years'] != 0]"
   ]
  },
  {
   "cell_type": "code",
   "execution_count": 18,
   "metadata": {},
   "outputs": [
    {
     "name": "stdout",
     "output_type": "stream",
     "text": [
      "43.0\n"
     ]
    }
   ],
   "source": [
    "print(data[data['total_income'].isna() == True]['dob_years'].median())\n"
   ]
  },
  {
   "cell_type": "code",
   "execution_count": 19,
   "metadata": {},
   "outputs": [],
   "source": [
    "total_income_isna_median = data[\n",
    "    (data['education_id'] == 1) & \n",
    "    (data['family_status_id'] == 1) & \n",
    "    (data['children'] <= 1) & \n",
    "    (data['dob_years'] > 33) &\n",
    "    (data['dob_years'] < 53)]['total_income'].median().round()\n",
    "\n"
   ]
  },
  {
   "cell_type": "code",
   "execution_count": 20,
   "metadata": {},
   "outputs": [],
   "source": [
    "data['total_income'] = data['total_income'].fillna(total_income_isna_median)"
   ]
  },
  {
   "cell_type": "markdown",
   "metadata": {},
   "source": [
    "\n",
    "**Вывод**\n",
    "\n",
    "Пропущенные значения обнаружены в столбцах \"общий трудовой стаж\" и \"ежемесячный доход\". Тип пропущенных значений в обоих столбцах - NaN, это говорит о том, что в ячейке находится «не число». Номера строк с пропущенными значениями в обоих столбцах совпадают. Это говорит о том, что расчет данных этих столбцов связан друг с другом. Скорее всего при формировании таблицы в некоторых случаях в столбец total_income пытались внести строковые значения.\n",
    "Чтобы не потерять данные, в первом случае, пропущенные значения заменены нулями, во втором случае, медианным значением, вычисленным по сгруппрованным данным. "
   ]
  },
  {
   "cell_type": "markdown",
   "metadata": {},
   "source": [
    "### Замена типа данных"
   ]
  },
  {
   "cell_type": "code",
   "execution_count": 21,
   "metadata": {},
   "outputs": [
    {
     "name": "stdout",
     "output_type": "stream",
     "text": [
      "Типы данных до изменения:\n",
      "<class 'pandas.core.frame.DataFrame'>\n",
      "Int64Index: 21424 entries, 0 to 21524\n",
      "Data columns (total 12 columns):\n",
      " #   Column            Non-Null Count  Dtype  \n",
      "---  ------            --------------  -----  \n",
      " 0   children          21424 non-null  int64  \n",
      " 1   days_employed     21424 non-null  float64\n",
      " 2   dob_years         21424 non-null  int64  \n",
      " 3   education         21424 non-null  object \n",
      " 4   education_id      21424 non-null  int64  \n",
      " 5   family_status     21424 non-null  object \n",
      " 6   family_status_id  21424 non-null  int64  \n",
      " 7   gender            21424 non-null  object \n",
      " 8   income_type       21424 non-null  object \n",
      " 9   debt              21424 non-null  int64  \n",
      " 10  total_income      21424 non-null  float64\n",
      " 11  purpose           21424 non-null  object \n",
      "dtypes: float64(2), int64(5), object(5)\n",
      "memory usage: 2.1+ MB\n"
     ]
    }
   ],
   "source": [
    "print('Типы данных до изменения:')\n",
    "data.info()"
   ]
  },
  {
   "cell_type": "markdown",
   "metadata": {},
   "source": [
    "Округлим значения столбцов с типом \"float\", так данные будут точнее при изменении типа."
   ]
  },
  {
   "cell_type": "code",
   "execution_count": 22,
   "metadata": {},
   "outputs": [],
   "source": [
    "data['days_employed'] = data['days_employed'].round()\n",
    "data['total_income'] = data['total_income'].round()"
   ]
  },
  {
   "cell_type": "code",
   "execution_count": 23,
   "metadata": {},
   "outputs": [],
   "source": [
    "data['days_employed'] = data['days_employed'].astype('int')\n",
    "data['total_income'] = data['total_income'].astype('int')"
   ]
  },
  {
   "cell_type": "code",
   "execution_count": 24,
   "metadata": {},
   "outputs": [
    {
     "name": "stdout",
     "output_type": "stream",
     "text": [
      "Типы данных после изменения:\n",
      "<class 'pandas.core.frame.DataFrame'>\n",
      "Int64Index: 21424 entries, 0 to 21524\n",
      "Data columns (total 12 columns):\n",
      " #   Column            Non-Null Count  Dtype \n",
      "---  ------            --------------  ----- \n",
      " 0   children          21424 non-null  int64 \n",
      " 1   days_employed     21424 non-null  int64 \n",
      " 2   dob_years         21424 non-null  int64 \n",
      " 3   education         21424 non-null  object\n",
      " 4   education_id      21424 non-null  int64 \n",
      " 5   family_status     21424 non-null  object\n",
      " 6   family_status_id  21424 non-null  int64 \n",
      " 7   gender            21424 non-null  object\n",
      " 8   income_type       21424 non-null  object\n",
      " 9   debt              21424 non-null  int64 \n",
      " 10  total_income      21424 non-null  int64 \n",
      " 11  purpose           21424 non-null  object\n",
      "dtypes: int64(7), object(5)\n",
      "memory usage: 2.1+ MB\n"
     ]
    }
   ],
   "source": [
    "print('Типы данных после изменения:')\n",
    "data.info()"
   ]
  },
  {
   "cell_type": "markdown",
   "metadata": {},
   "source": [
    "Перевод данных из вещественного типа в целочисленный был произведен методом astype."
   ]
  },
  {
   "cell_type": "markdown",
   "metadata": {},
   "source": [
    "### Обработка дубликатов\n"
   ]
  },
  {
   "cell_type": "code",
   "execution_count": 25,
   "metadata": {},
   "outputs": [
    {
     "name": "stdout",
     "output_type": "stream",
     "text": [
      "Распределение детей по возростам:\n",
      " 0     14080\n",
      " 1      4802\n",
      " 2      2042\n",
      " 3       328\n",
      " 20       75\n",
      "-1        47\n",
      " 4        41\n",
      " 5         9\n",
      "Name: children, dtype: int64\n"
     ]
    }
   ],
   "source": [
    "print('Распределение детей по возростам:')\n",
    "print(data['children'].value_counts())"
   ]
  },
  {
   "cell_type": "code",
   "execution_count": 26,
   "metadata": {},
   "outputs": [],
   "source": [
    "data['children'] = data['children'].replace(20, 2)\n",
    "data['children'] = data['children'].replace(-1, 1)"
   ]
  },
  {
   "cell_type": "code",
   "execution_count": 27,
   "metadata": {},
   "outputs": [
    {
     "name": "stdout",
     "output_type": "stream",
     "text": [
      "Гендеры:\n",
      "F      14164\n",
      "M       7259\n",
      "XNA        1\n",
      "Name: gender, dtype: int64\n"
     ]
    }
   ],
   "source": [
    "print('Гендеры:')\n",
    "print(data['gender'].value_counts())"
   ]
  },
  {
   "cell_type": "code",
   "execution_count": 28,
   "metadata": {},
   "outputs": [],
   "source": [
    "data = data.drop(data[data['gender'] == 'XNA'].index)"
   ]
  },
  {
   "cell_type": "code",
   "execution_count": 29,
   "metadata": {},
   "outputs": [
    {
     "name": "stdout",
     "output_type": "stream",
     "text": [
      "Уникальные значения столбца \"образование\":\n",
      "среднее                13691\n",
      "высшее                  4686\n",
      "СРЕДНЕЕ                  770\n",
      "Среднее                  708\n",
      "неоконченное высшее      665\n",
      "ВЫСШЕЕ                   273\n",
      "Высшее                   266\n",
      "начальное                250\n",
      "Неоконченное высшее       47\n",
      "НЕОКОНЧЕННОЕ ВЫСШЕЕ       29\n",
      "НАЧАЛЬНОЕ                 17\n",
      "Начальное                 15\n",
      "ученая степень             4\n",
      "УЧЕНАЯ СТЕПЕНЬ             1\n",
      "Ученая степень             1\n",
      "Name: education, dtype: int64\n"
     ]
    }
   ],
   "source": [
    "print('Уникальные значения столбца \"образование\":')\n",
    "print(data['education'].value_counts())"
   ]
  },
  {
   "cell_type": "code",
   "execution_count": 30,
   "metadata": {},
   "outputs": [],
   "source": [
    "data['education'] = data['education'].str.lower()"
   ]
  },
  {
   "cell_type": "code",
   "execution_count": 31,
   "metadata": {},
   "outputs": [
    {
     "name": "stdout",
     "output_type": "stream",
     "text": [
      "Уникальные значения столбца family_status и их количество:\n",
      "женат / замужем          12331\n",
      "гражданский брак          4155\n",
      "Не женат / не замужем     2797\n",
      "в разводе                 1185\n",
      "вдовец / вдова             955\n",
      "Name: family_status, dtype: int64\n"
     ]
    }
   ],
   "source": [
    "print('Уникальные значения столбца family_status и их количество:')\n",
    "print(data['family_status'].value_counts())"
   ]
  },
  {
   "cell_type": "code",
   "execution_count": 32,
   "metadata": {},
   "outputs": [
    {
     "name": "stdout",
     "output_type": "stream",
     "text": [
      "Уникальные значения столбца income_type и их количество:\n",
      "сотрудник          11064\n",
      "компаньон           5064\n",
      "пенсионер           3836\n",
      "госслужащий         1453\n",
      "предприниматель        2\n",
      "безработный            2\n",
      "студент                1\n",
      "в декрете              1\n",
      "Name: income_type, dtype: int64\n"
     ]
    }
   ],
   "source": [
    "print('Уникальные значения столбца income_type и их количество:')\n",
    "print(data['income_type'].value_counts())"
   ]
  },
  {
   "cell_type": "code",
   "execution_count": 33,
   "metadata": {},
   "outputs": [
    {
     "name": "stdout",
     "output_type": "stream",
     "text": [
      "Уникальные значения столбца debt и их количество:\n",
      "0    19690\n",
      "1     1733\n",
      "Name: debt, dtype: int64\n"
     ]
    }
   ],
   "source": [
    "print('Уникальные значения столбца debt и их количество:')\n",
    "print(data['debt'].value_counts())  "
   ]
  },
  {
   "cell_type": "code",
   "execution_count": 34,
   "metadata": {},
   "outputs": [
    {
     "name": "stdout",
     "output_type": "stream",
     "text": [
      "Уникальные значения столбца purpose и их количество:\n",
      "свадьба                                   792\n",
      "на проведение свадьбы                     773\n",
      "сыграть свадьбу                           769\n",
      "операции с недвижимостью                  673\n",
      "покупка коммерческой недвижимости         661\n",
      "покупка жилья для сдачи                   651\n",
      "операции с коммерческой недвижимостью     649\n",
      "операции с жильем                         647\n",
      "жилье                                     641\n",
      "покупка жилья                             641\n",
      "покупка жилья для семьи                   640\n",
      "строительство собственной недвижимости    633\n",
      "недвижимость                              630\n",
      "операции со своей недвижимостью           630\n",
      "строительство жилой недвижимости          623\n",
      "покупка недвижимости                      620\n",
      "строительство недвижимости                620\n",
      "покупка своего жилья                      619\n",
      "ремонт жилью                              610\n",
      "покупка жилой недвижимости                604\n",
      "на покупку своего автомобиля              502\n",
      "заняться высшим образованием              493\n",
      "автомобиль                                491\n",
      "сделка с подержанным автомобилем          487\n",
      "на покупку подержанного автомобиля        479\n",
      "свой автомобиль                           477\n",
      "автомобили                                476\n",
      "на покупку автомобиля                     467\n",
      "приобретение автомобиля                   460\n",
      "дополнительное образование                460\n",
      "сделка с автомобилем                      454\n",
      "высшее образование                        450\n",
      "получение дополнительного образования     445\n",
      "образование                               444\n",
      "получение образования                     442\n",
      "профильное образование                    435\n",
      "получение высшего образования             424\n",
      "заняться образованием                     411\n",
      "Name: purpose, dtype: int64\n"
     ]
    }
   ],
   "source": [
    "print('Уникальные значения столбца purpose и их количество:')\n",
    "print(data['purpose'].value_counts()) "
   ]
  },
  {
   "cell_type": "code",
   "execution_count": 35,
   "metadata": {},
   "outputs": [
    {
     "name": "stdout",
     "output_type": "stream",
     "text": [
      "Количество дубликатов:\n",
      "71\n"
     ]
    }
   ],
   "source": [
    "print('Количество дубликатов:')\n",
    "print(data.duplicated().sum())"
   ]
  },
  {
   "cell_type": "code",
   "execution_count": 36,
   "metadata": {},
   "outputs": [],
   "source": [
    "data = data.drop_duplicates().reset_index(drop=True)"
   ]
  },
  {
   "cell_type": "code",
   "execution_count": 37,
   "metadata": {},
   "outputs": [
    {
     "name": "stdout",
     "output_type": "stream",
     "text": [
      "Финальная проверка на дубликаты:\n",
      "0\n"
     ]
    }
   ],
   "source": [
    "print('Финальная проверка на дубликаты:')\n",
    "print(data.duplicated().sum())"
   ]
  },
  {
   "cell_type": "markdown",
   "metadata": {},
   "source": [
    "Вывод:\n",
    "\n",
    "В данных были обнаружены определенные \"артефакты\". В случае со столбцом children, данные были изменены. Количество детей не может быть отрицательным. Так же было предположено, что число детей \"20\", это ошибка, данные в этих строках были измененым в пользу наиболее вероятного значения \"2\". Также была удалена строка с гендером XNA. Методом str.lower строковые данные столбца education были приведены к нижнему регистру. Явные дубликаты были удалены."
   ]
  },
  {
   "cell_type": "markdown",
   "metadata": {},
   "source": [
    "## Формирование новых признаков"
   ]
  },
  {
   "cell_type": "markdown",
   "metadata": {},
   "source": [
    "### Лемматизация"
   ]
  },
  {
   "cell_type": "code",
   "execution_count": 38,
   "metadata": {},
   "outputs": [
    {
     "name": "stdout",
     "output_type": "stream",
     "text": [
      "Index(['свадьба', 'на проведение свадьбы', 'сыграть свадьбу',\n",
      "       'операции с недвижимостью', 'покупка коммерческой недвижимости',\n",
      "       'покупка жилья для сдачи', 'операции с коммерческой недвижимостью',\n",
      "       'операции с жильем', 'жилье', 'покупка жилья',\n",
      "       'покупка жилья для семьи', 'строительство собственной недвижимости',\n",
      "       'недвижимость', 'операции со своей недвижимостью',\n",
      "       'строительство жилой недвижимости', 'покупка своего жилья',\n",
      "       'строительство недвижимости', 'покупка недвижимости', 'ремонт жилью',\n",
      "       'покупка жилой недвижимости', 'на покупку своего автомобиля',\n",
      "       'заняться высшим образованием', 'автомобиль',\n",
      "       'сделка с подержанным автомобилем',\n",
      "       'на покупку подержанного автомобиля', 'автомобили', 'свой автомобиль',\n",
      "       'на покупку автомобиля', 'приобретение автомобиля',\n",
      "       'дополнительное образование', 'сделка с автомобилем',\n",
      "       'высшее образование', 'получение дополнительного образования',\n",
      "       'образование', 'получение образования', 'профильное образование',\n",
      "       'получение высшего образования', 'заняться образованием'],\n",
      "      dtype='object')\n"
     ]
    }
   ],
   "source": [
    "print(data['purpose'].value_counts().keys())"
   ]
  },
  {
   "cell_type": "markdown",
   "metadata": {},
   "source": [
    "Просматривая уникальныне значения столбца с целями получения кредита, можно заметить, что все цели сводятся к 4м различным категриям: опериции с недвижимостью (с жильем), получение кредита на свадьбу, на автомобиль и на образование.\n",
    "С помощью стемминга найдем основу этих слов, проведем лемматизацию столбца purpose и напишем функцию по распределению значений стобца purpose по 4м категориям.\n"
   ]
  },
  {
   "cell_type": "code",
   "execution_count": 39,
   "metadata": {},
   "outputs": [
    {
     "name": "stdout",
     "output_type": "stream",
     "text": [
      "Стеминг:\n",
      "Исходное слово - недвижимость, после стемминга - недвижим\n",
      "Исходное слово - жилье, после стемминга - жил\n",
      "Исходное слово - автомобиль, после стемминга - автомобил\n",
      "Исходное слово - свадьба, после стемминга - свадьб\n",
      "Исходное слово - образование, после стемминга - образован\n"
     ]
    }
   ],
   "source": [
    "russian_stemmer = SnowballStemmer('russian') \n",
    "words = [\"недвижимость\", \"жилье\", \"автомобиль\", \"свадьба\", \"образование\"]\n",
    "print('Стеминг:')\n",
    "for word in words:\n",
    "    print ('Исходное слово - ' + word + ', после стемминга - ' + russian_stemmer.stem(word)) "
   ]
  },
  {
   "cell_type": "code",
   "execution_count": 40,
   "metadata": {},
   "outputs": [],
   "source": [
    "m = Mystem()\n",
    "lemmas = data['purpose'].apply(m.lemmatize)\n"
   ]
  },
  {
   "cell_type": "code",
   "execution_count": 41,
   "metadata": {},
   "outputs": [
    {
     "name": "stdout",
     "output_type": "stream",
     "text": [
      "0                             [покупка,  , жилье, \\n]\n",
      "1                   [приобретение,  , автомобиль, \\n]\n",
      "2                             [покупка,  , жилье, \\n]\n",
      "3                [дополнительный,  , образование, \\n]\n",
      "4                           [сыграть,  , свадьба, \\n]\n",
      "                             ...                     \n",
      "21347                  [операция,  , с,  , жилье, \\n]\n",
      "21348               [сделка,  , с,  , автомобиль, \\n]\n",
      "21349                              [недвижимость, \\n]\n",
      "21350    [на,  , покупка,  , свой,  , автомобиль, \\n]\n",
      "21351             [на,  , покупка,  , автомобиль, \\n]\n",
      "Name: purpose, Length: 21352, dtype: object\n"
     ]
    }
   ],
   "source": [
    "print(lemmas)"
   ]
  },
  {
   "cell_type": "code",
   "execution_count": 42,
   "metadata": {},
   "outputs": [],
   "source": [
    "def sort_purpose_lemmas(lemmas):\n",
    "    for row in lemmas:\n",
    "        if 'недвижим' in row:\n",
    "            return 'недвижимость'\n",
    "        elif 'жил' in row:\n",
    "            return 'недвижимость'\n",
    "        elif 'свадьб' in row:\n",
    "            return 'свадьба'\n",
    "        elif 'автомобил' in row:\n",
    "            return 'автомобиль'\n",
    "        elif 'образован' in row:\n",
    "            return 'образование'\n",
    "        "
   ]
  },
  {
   "cell_type": "code",
   "execution_count": 43,
   "metadata": {},
   "outputs": [],
   "source": [
    "data['purpose_lemmas'] = lemmas.apply(sort_purpose_lemmas)\n"
   ]
  },
  {
   "cell_type": "code",
   "execution_count": 44,
   "metadata": {},
   "outputs": [
    {
     "data": {
      "text/html": [
       "<div>\n",
       "<style scoped>\n",
       "    .dataframe tbody tr th:only-of-type {\n",
       "        vertical-align: middle;\n",
       "    }\n",
       "\n",
       "    .dataframe tbody tr th {\n",
       "        vertical-align: top;\n",
       "    }\n",
       "\n",
       "    .dataframe thead th {\n",
       "        text-align: right;\n",
       "    }\n",
       "</style>\n",
       "<table border=\"1\" class=\"dataframe\">\n",
       "  <thead>\n",
       "    <tr style=\"text-align: right;\">\n",
       "      <th></th>\n",
       "      <th>children</th>\n",
       "      <th>days_employed</th>\n",
       "      <th>dob_years</th>\n",
       "      <th>education</th>\n",
       "      <th>education_id</th>\n",
       "      <th>family_status</th>\n",
       "      <th>family_status_id</th>\n",
       "      <th>gender</th>\n",
       "      <th>income_type</th>\n",
       "      <th>debt</th>\n",
       "      <th>total_income</th>\n",
       "      <th>purpose</th>\n",
       "      <th>purpose_lemmas</th>\n",
       "    </tr>\n",
       "  </thead>\n",
       "  <tbody>\n",
       "    <tr>\n",
       "      <th>0</th>\n",
       "      <td>1</td>\n",
       "      <td>8438</td>\n",
       "      <td>42</td>\n",
       "      <td>высшее</td>\n",
       "      <td>0</td>\n",
       "      <td>женат / замужем</td>\n",
       "      <td>0</td>\n",
       "      <td>F</td>\n",
       "      <td>сотрудник</td>\n",
       "      <td>0</td>\n",
       "      <td>253876</td>\n",
       "      <td>покупка жилья</td>\n",
       "      <td>недвижимость</td>\n",
       "    </tr>\n",
       "    <tr>\n",
       "      <th>1</th>\n",
       "      <td>1</td>\n",
       "      <td>4025</td>\n",
       "      <td>36</td>\n",
       "      <td>среднее</td>\n",
       "      <td>1</td>\n",
       "      <td>женат / замужем</td>\n",
       "      <td>0</td>\n",
       "      <td>F</td>\n",
       "      <td>сотрудник</td>\n",
       "      <td>0</td>\n",
       "      <td>112080</td>\n",
       "      <td>приобретение автомобиля</td>\n",
       "      <td>автомобиль</td>\n",
       "    </tr>\n",
       "    <tr>\n",
       "      <th>2</th>\n",
       "      <td>0</td>\n",
       "      <td>5623</td>\n",
       "      <td>33</td>\n",
       "      <td>среднее</td>\n",
       "      <td>1</td>\n",
       "      <td>женат / замужем</td>\n",
       "      <td>0</td>\n",
       "      <td>M</td>\n",
       "      <td>сотрудник</td>\n",
       "      <td>0</td>\n",
       "      <td>145886</td>\n",
       "      <td>покупка жилья</td>\n",
       "      <td>недвижимость</td>\n",
       "    </tr>\n",
       "    <tr>\n",
       "      <th>3</th>\n",
       "      <td>3</td>\n",
       "      <td>4125</td>\n",
       "      <td>32</td>\n",
       "      <td>среднее</td>\n",
       "      <td>1</td>\n",
       "      <td>женат / замужем</td>\n",
       "      <td>0</td>\n",
       "      <td>M</td>\n",
       "      <td>сотрудник</td>\n",
       "      <td>0</td>\n",
       "      <td>267629</td>\n",
       "      <td>дополнительное образование</td>\n",
       "      <td>образование</td>\n",
       "    </tr>\n",
       "    <tr>\n",
       "      <th>4</th>\n",
       "      <td>0</td>\n",
       "      <td>340266</td>\n",
       "      <td>53</td>\n",
       "      <td>среднее</td>\n",
       "      <td>1</td>\n",
       "      <td>гражданский брак</td>\n",
       "      <td>1</td>\n",
       "      <td>F</td>\n",
       "      <td>пенсионер</td>\n",
       "      <td>0</td>\n",
       "      <td>158616</td>\n",
       "      <td>сыграть свадьбу</td>\n",
       "      <td>свадьба</td>\n",
       "    </tr>\n",
       "    <tr>\n",
       "      <th>...</th>\n",
       "      <td>...</td>\n",
       "      <td>...</td>\n",
       "      <td>...</td>\n",
       "      <td>...</td>\n",
       "      <td>...</td>\n",
       "      <td>...</td>\n",
       "      <td>...</td>\n",
       "      <td>...</td>\n",
       "      <td>...</td>\n",
       "      <td>...</td>\n",
       "      <td>...</td>\n",
       "      <td>...</td>\n",
       "      <td>...</td>\n",
       "    </tr>\n",
       "    <tr>\n",
       "      <th>21347</th>\n",
       "      <td>1</td>\n",
       "      <td>4529</td>\n",
       "      <td>43</td>\n",
       "      <td>среднее</td>\n",
       "      <td>1</td>\n",
       "      <td>гражданский брак</td>\n",
       "      <td>1</td>\n",
       "      <td>F</td>\n",
       "      <td>компаньон</td>\n",
       "      <td>0</td>\n",
       "      <td>224792</td>\n",
       "      <td>операции с жильем</td>\n",
       "      <td>недвижимость</td>\n",
       "    </tr>\n",
       "    <tr>\n",
       "      <th>21348</th>\n",
       "      <td>0</td>\n",
       "      <td>343937</td>\n",
       "      <td>67</td>\n",
       "      <td>среднее</td>\n",
       "      <td>1</td>\n",
       "      <td>женат / замужем</td>\n",
       "      <td>0</td>\n",
       "      <td>F</td>\n",
       "      <td>пенсионер</td>\n",
       "      <td>0</td>\n",
       "      <td>156000</td>\n",
       "      <td>сделка с автомобилем</td>\n",
       "      <td>автомобиль</td>\n",
       "    </tr>\n",
       "    <tr>\n",
       "      <th>21349</th>\n",
       "      <td>1</td>\n",
       "      <td>2113</td>\n",
       "      <td>38</td>\n",
       "      <td>среднее</td>\n",
       "      <td>1</td>\n",
       "      <td>гражданский брак</td>\n",
       "      <td>1</td>\n",
       "      <td>M</td>\n",
       "      <td>сотрудник</td>\n",
       "      <td>1</td>\n",
       "      <td>89673</td>\n",
       "      <td>недвижимость</td>\n",
       "      <td>недвижимость</td>\n",
       "    </tr>\n",
       "    <tr>\n",
       "      <th>21350</th>\n",
       "      <td>3</td>\n",
       "      <td>3112</td>\n",
       "      <td>38</td>\n",
       "      <td>среднее</td>\n",
       "      <td>1</td>\n",
       "      <td>женат / замужем</td>\n",
       "      <td>0</td>\n",
       "      <td>M</td>\n",
       "      <td>сотрудник</td>\n",
       "      <td>1</td>\n",
       "      <td>244093</td>\n",
       "      <td>на покупку своего автомобиля</td>\n",
       "      <td>автомобиль</td>\n",
       "    </tr>\n",
       "    <tr>\n",
       "      <th>21351</th>\n",
       "      <td>2</td>\n",
       "      <td>1985</td>\n",
       "      <td>40</td>\n",
       "      <td>среднее</td>\n",
       "      <td>1</td>\n",
       "      <td>женат / замужем</td>\n",
       "      <td>0</td>\n",
       "      <td>F</td>\n",
       "      <td>сотрудник</td>\n",
       "      <td>0</td>\n",
       "      <td>82047</td>\n",
       "      <td>на покупку автомобиля</td>\n",
       "      <td>автомобиль</td>\n",
       "    </tr>\n",
       "  </tbody>\n",
       "</table>\n",
       "<p>21352 rows × 13 columns</p>\n",
       "</div>"
      ],
      "text/plain": [
       "       children  days_employed  dob_years education  education_id  \\\n",
       "0             1           8438         42    высшее             0   \n",
       "1             1           4025         36   среднее             1   \n",
       "2             0           5623         33   среднее             1   \n",
       "3             3           4125         32   среднее             1   \n",
       "4             0         340266         53   среднее             1   \n",
       "...         ...            ...        ...       ...           ...   \n",
       "21347         1           4529         43   среднее             1   \n",
       "21348         0         343937         67   среднее             1   \n",
       "21349         1           2113         38   среднее             1   \n",
       "21350         3           3112         38   среднее             1   \n",
       "21351         2           1985         40   среднее             1   \n",
       "\n",
       "          family_status  family_status_id gender income_type  debt  \\\n",
       "0       женат / замужем                 0      F   сотрудник     0   \n",
       "1       женат / замужем                 0      F   сотрудник     0   \n",
       "2       женат / замужем                 0      M   сотрудник     0   \n",
       "3       женат / замужем                 0      M   сотрудник     0   \n",
       "4      гражданский брак                 1      F   пенсионер     0   \n",
       "...                 ...               ...    ...         ...   ...   \n",
       "21347  гражданский брак                 1      F   компаньон     0   \n",
       "21348   женат / замужем                 0      F   пенсионер     0   \n",
       "21349  гражданский брак                 1      M   сотрудник     1   \n",
       "21350   женат / замужем                 0      M   сотрудник     1   \n",
       "21351   женат / замужем                 0      F   сотрудник     0   \n",
       "\n",
       "       total_income                       purpose purpose_lemmas  \n",
       "0            253876                 покупка жилья   недвижимость  \n",
       "1            112080       приобретение автомобиля     автомобиль  \n",
       "2            145886                 покупка жилья   недвижимость  \n",
       "3            267629    дополнительное образование    образование  \n",
       "4            158616               сыграть свадьбу        свадьба  \n",
       "...             ...                           ...            ...  \n",
       "21347        224792             операции с жильем   недвижимость  \n",
       "21348        156000          сделка с автомобилем     автомобиль  \n",
       "21349         89673                  недвижимость   недвижимость  \n",
       "21350        244093  на покупку своего автомобиля     автомобиль  \n",
       "21351         82047         на покупку автомобиля     автомобиль  \n",
       "\n",
       "[21352 rows x 13 columns]"
      ]
     },
     "metadata": {},
     "output_type": "display_data"
    }
   ],
   "source": [
    "display(data)"
   ]
  },
  {
   "cell_type": "markdown",
   "metadata": {},
   "source": [
    "**Вывод**"
   ]
  },
  {
   "cell_type": "markdown",
   "metadata": {},
   "source": [
    "Лемматизация проводилась, используя библиотеку pymystem3, и заключалась в определении 4х различных целей получения кредита. Это недвижимость, автомобиль, образование и свадьба. В таблицу добавлен новый столбец с названием категории для цели получения кредита."
   ]
  },
  {
   "cell_type": "markdown",
   "metadata": {},
   "source": [
    "### Категоризация данных"
   ]
  },
  {
   "cell_type": "code",
   "execution_count": 45,
   "metadata": {},
   "outputs": [
    {
     "name": "stdout",
     "output_type": "stream",
     "text": [
      "count      21352.0\n",
      "mean      165350.0\n",
      "std        98116.0\n",
      "min        20667.0\n",
      "25%       107649.0\n",
      "50%       145905.0\n",
      "75%       195760.0\n",
      "max      2265604.0\n",
      "Name: total_income, dtype: float64\n"
     ]
    }
   ],
   "source": [
    "print(data['total_income'].describe().round())"
   ]
  },
  {
   "cell_type": "markdown",
   "metadata": {},
   "source": [
    "Разбиение \"дохода\" на категории:"
   ]
  },
  {
   "cell_type": "code",
   "execution_count": 66,
   "metadata": {},
   "outputs": [],
   "source": [
    "T = []\n",
    "for raw in data['total_income']:\n",
    "    if raw == 0:\n",
    "        raw = 'доход не определен'\n",
    "        T.append(raw)\n",
    "    else:\n",
    "        if raw >= 30000 and raw < 60000:\n",
    "            raw = 'средний доход'\n",
    "            T.append(raw) \n",
    "        else:\n",
    "            if raw >= 60000 and raw < 100000:\n",
    "                raw = 'доход выше среднего'\n",
    "                T.append(raw)\n",
    "            else:\n",
    "                if raw >= 100000 and raw < 500000:\n",
    "                    raw = 'высокий доход'\n",
    "                    T.append(raw)\n",
    "                else:\n",
    "                    if raw >= 500000:\n",
    "                        raw = 'очень высокий доход'\n",
    "                        T.append(raw)\n",
    "                    else:\n",
    "                        raw = 'низкий доход'\n",
    "                        T.append(raw) \n",
    "\n",
    "data['total_income_category'] = T"
   ]
  },
  {
   "cell_type": "code",
   "execution_count": 67,
   "metadata": {},
   "outputs": [],
   "source": [
    "addiction_total_income_categor = data.pivot_table(\n",
    "    index='total_income_category', \n",
    "    values='debt',\n",
    "    aggfunc='mean'\n",
    "    )"
   ]
  },
  {
   "cell_type": "code",
   "execution_count": 68,
   "metadata": {},
   "outputs": [],
   "source": [
    "addiction_children = data.pivot_table(\n",
    "    index='children', \n",
    "    values='debt',\n",
    "    aggfunc='mean'\n",
    "    )"
   ]
  },
  {
   "cell_type": "code",
   "execution_count": 69,
   "metadata": {},
   "outputs": [],
   "source": [
    "addiction_family_status = data.pivot_table(\n",
    "    index='family_status', \n",
    "    values='debt',\n",
    "    aggfunc='mean'\n",
    "    )"
   ]
  },
  {
   "cell_type": "code",
   "execution_count": 70,
   "metadata": {},
   "outputs": [],
   "source": [
    "addiction_purpose_lemmas = data.pivot_table(\n",
    "    index='purpose_lemmas', \n",
    "    values='debt',\n",
    "    aggfunc='mean'\n",
    "    )"
   ]
  },
  {
   "cell_type": "markdown",
   "metadata": {},
   "source": [
    "Для категоризации данный по ежемесячному доходу, разобем значения этого столбца на 6 различных уровней дохода. Такое разделение обусловлено минимальным, максимальным, средним и медианным значением этого столбца. Значения равные нулю в этом столбце говорят о том, что уровень дохода заемщика, в данном случае, не определен. Добавим в таблицу столбец, характеризующий уровень дохода заемщика по категориям. Создадим сводные таблицы из данных наличия задолжности по кредиту."
   ]
  },
  {
   "cell_type": "markdown",
   "metadata": {},
   "source": [
    "**Вывод**\n",
    "\n",
    "Чтобы проследить зависимоть возврата кредита в срок от уровня дохода заемщика, потребовалось поместить данные об уровне дохода каждого заемщика в условную категорию, характеризующую его доход. Далее методом pivot_table была посчитана зависимоть между доходом заемщика и количесмтвом наличия задолжностей в этой катеогрии. Такая же зависимость была посчитана между количеством детей и возвратом кредита, между цель взятия кредита и возвратом кредита, между семейным положением заемщика и возвратом кредита. "
   ]
  },
  {
   "cell_type": "markdown",
   "metadata": {},
   "source": [
    "## Установление зависимостей целевого признака от признаков данных "
   ]
  },
  {
   "cell_type": "markdown",
   "metadata": {},
   "source": [
    "- Есть ли зависимость между наличием детей и возвратом кредита в срок?"
   ]
  },
  {
   "cell_type": "code",
   "execution_count": 72,
   "metadata": {},
   "outputs": [
    {
     "data": {
      "text/html": [
       "<div>\n",
       "<style scoped>\n",
       "    .dataframe tbody tr th:only-of-type {\n",
       "        vertical-align: middle;\n",
       "    }\n",
       "\n",
       "    .dataframe tbody tr th {\n",
       "        vertical-align: top;\n",
       "    }\n",
       "\n",
       "    .dataframe thead th {\n",
       "        text-align: right;\n",
       "    }\n",
       "</style>\n",
       "<table border=\"1\" class=\"dataframe\">\n",
       "  <thead>\n",
       "    <tr style=\"text-align: right;\">\n",
       "      <th></th>\n",
       "      <th>debt</th>\n",
       "    </tr>\n",
       "    <tr>\n",
       "      <th>children</th>\n",
       "      <th></th>\n",
       "    </tr>\n",
       "  </thead>\n",
       "  <tbody>\n",
       "    <tr>\n",
       "      <th>0</th>\n",
       "      <td>0.075458</td>\n",
       "    </tr>\n",
       "    <tr>\n",
       "      <th>1</th>\n",
       "      <td>0.091341</td>\n",
       "    </tr>\n",
       "    <tr>\n",
       "      <th>2</th>\n",
       "      <td>0.095553</td>\n",
       "    </tr>\n",
       "    <tr>\n",
       "      <th>3</th>\n",
       "      <td>0.082317</td>\n",
       "    </tr>\n",
       "    <tr>\n",
       "      <th>4</th>\n",
       "      <td>0.097561</td>\n",
       "    </tr>\n",
       "    <tr>\n",
       "      <th>5</th>\n",
       "      <td>0.000000</td>\n",
       "    </tr>\n",
       "  </tbody>\n",
       "</table>\n",
       "</div>"
      ],
      "text/plain": [
       "              debt\n",
       "children          \n",
       "0         0.075458\n",
       "1         0.091341\n",
       "2         0.095553\n",
       "3         0.082317\n",
       "4         0.097561\n",
       "5         0.000000"
      ]
     },
     "metadata": {},
     "output_type": "display_data"
    }
   ],
   "source": [
    "display(addiction_children)"
   ]
  },
  {
   "cell_type": "markdown",
   "metadata": {},
   "source": [
    "**Вывод**"
   ]
  },
  {
   "cell_type": "markdown",
   "metadata": {},
   "source": [
    "В целом наблюдается тенденция роста надежности заемщика с ростом количества детей. Заемщики без детей хуже всего возвращают кредит. Заемщик с количеством детей 5 не имеют задолжности по возврату кредита. "
   ]
  },
  {
   "cell_type": "markdown",
   "metadata": {},
   "source": [
    "- Есть ли зависимость между семейным положением и возвратом кредита в срок?"
   ]
  },
  {
   "cell_type": "code",
   "execution_count": 73,
   "metadata": {},
   "outputs": [
    {
     "data": {
      "text/html": [
       "<div>\n",
       "<style scoped>\n",
       "    .dataframe tbody tr th:only-of-type {\n",
       "        vertical-align: middle;\n",
       "    }\n",
       "\n",
       "    .dataframe tbody tr th {\n",
       "        vertical-align: top;\n",
       "    }\n",
       "\n",
       "    .dataframe thead th {\n",
       "        text-align: right;\n",
       "    }\n",
       "</style>\n",
       "<table border=\"1\" class=\"dataframe\">\n",
       "  <thead>\n",
       "    <tr style=\"text-align: right;\">\n",
       "      <th></th>\n",
       "      <th>debt</th>\n",
       "    </tr>\n",
       "    <tr>\n",
       "      <th>family_status</th>\n",
       "      <th></th>\n",
       "    </tr>\n",
       "  </thead>\n",
       "  <tbody>\n",
       "    <tr>\n",
       "      <th>Не женат / не замужем</th>\n",
       "      <td>0.097709</td>\n",
       "    </tr>\n",
       "    <tr>\n",
       "      <th>в разводе</th>\n",
       "      <td>0.071730</td>\n",
       "    </tr>\n",
       "    <tr>\n",
       "      <th>вдовец / вдова</th>\n",
       "      <td>0.064990</td>\n",
       "    </tr>\n",
       "    <tr>\n",
       "      <th>гражданский брак</th>\n",
       "      <td>0.093485</td>\n",
       "    </tr>\n",
       "    <tr>\n",
       "      <th>женат / замужем</th>\n",
       "      <td>0.075427</td>\n",
       "    </tr>\n",
       "  </tbody>\n",
       "</table>\n",
       "</div>"
      ],
      "text/plain": [
       "                           debt\n",
       "family_status                  \n",
       "Не женат / не замужем  0.097709\n",
       "в разводе              0.071730\n",
       "вдовец / вдова         0.064990\n",
       "гражданский брак       0.093485\n",
       "женат / замужем        0.075427"
      ]
     },
     "metadata": {},
     "output_type": "display_data"
    }
   ],
   "source": [
    "display(addiction_family_status)"
   ]
  },
  {
   "cell_type": "markdown",
   "metadata": {},
   "source": [
    "**Вывод**"
   ]
  },
  {
   "cell_type": "markdown",
   "metadata": {},
   "source": [
    "Не женатые / не замужние люди хуже всего отдают кредиты. Далее по степени возврата идут заемщики, находящиеся в гражданском браке. Далее - женатые и замужние. Далее - заемщики, находящиеся в разводе. Чаще всего возвращают кредиты в срок вдовы / вдовцы. "
   ]
  },
  {
   "cell_type": "markdown",
   "metadata": {},
   "source": [
    "- Есть ли зависимость между уровнем дохода и возвратом кредита в срок?"
   ]
  },
  {
   "cell_type": "code",
   "execution_count": 74,
   "metadata": {},
   "outputs": [
    {
     "data": {
      "text/html": [
       "<div>\n",
       "<style scoped>\n",
       "    .dataframe tbody tr th:only-of-type {\n",
       "        vertical-align: middle;\n",
       "    }\n",
       "\n",
       "    .dataframe tbody tr th {\n",
       "        vertical-align: top;\n",
       "    }\n",
       "\n",
       "    .dataframe thead th {\n",
       "        text-align: right;\n",
       "    }\n",
       "</style>\n",
       "<table border=\"1\" class=\"dataframe\">\n",
       "  <thead>\n",
       "    <tr style=\"text-align: right;\">\n",
       "      <th></th>\n",
       "      <th>debt</th>\n",
       "    </tr>\n",
       "    <tr>\n",
       "      <th>total_income_category</th>\n",
       "      <th></th>\n",
       "    </tr>\n",
       "  </thead>\n",
       "  <tbody>\n",
       "    <tr>\n",
       "      <th>высокий доход</th>\n",
       "      <td>0.081845</td>\n",
       "    </tr>\n",
       "    <tr>\n",
       "      <th>доход выше среднего</th>\n",
       "      <td>0.083562</td>\n",
       "    </tr>\n",
       "    <tr>\n",
       "      <th>низкий доход</th>\n",
       "      <td>0.090909</td>\n",
       "    </tr>\n",
       "    <tr>\n",
       "      <th>очень высокий доход</th>\n",
       "      <td>0.063063</td>\n",
       "    </tr>\n",
       "    <tr>\n",
       "      <th>средний доход</th>\n",
       "      <td>0.060256</td>\n",
       "    </tr>\n",
       "  </tbody>\n",
       "</table>\n",
       "</div>"
      ],
      "text/plain": [
       "                           debt\n",
       "total_income_category          \n",
       "высокий доход          0.081845\n",
       "доход выше среднего    0.083562\n",
       "низкий доход           0.090909\n",
       "очень высокий доход    0.063063\n",
       "средний доход          0.060256"
      ]
     },
     "metadata": {},
     "output_type": "display_data"
    }
   ],
   "source": [
    "display(addiction_total_income_categor)"
   ]
  },
  {
   "cell_type": "markdown",
   "metadata": {},
   "source": [
    "**Вывод**"
   ]
  },
  {
   "cell_type": "markdown",
   "metadata": {},
   "source": [
    "Люди со среднмм доходом и с очень высоким доходом (доход более 500000) чаще всего возвращают кредит. Самые худщие заемщики - люди с низким доходом (менее 30000). Люди с высоким доходом, с доходом выше среденего и люди, чей доход не определен имеют примерно одикаковый коэффициент возврата кредита, они склонны к невозврату кредита в срок. "
   ]
  },
  {
   "cell_type": "markdown",
   "metadata": {},
   "source": [
    "- Как разные цели кредита влияют на его возврат в срок?"
   ]
  },
  {
   "cell_type": "code",
   "execution_count": 75,
   "metadata": {},
   "outputs": [
    {
     "data": {
      "text/html": [
       "<div>\n",
       "<style scoped>\n",
       "    .dataframe tbody tr th:only-of-type {\n",
       "        vertical-align: middle;\n",
       "    }\n",
       "\n",
       "    .dataframe tbody tr th {\n",
       "        vertical-align: top;\n",
       "    }\n",
       "\n",
       "    .dataframe thead th {\n",
       "        text-align: right;\n",
       "    }\n",
       "</style>\n",
       "<table border=\"1\" class=\"dataframe\">\n",
       "  <thead>\n",
       "    <tr style=\"text-align: right;\">\n",
       "      <th></th>\n",
       "      <th>debt</th>\n",
       "    </tr>\n",
       "    <tr>\n",
       "      <th>purpose_lemmas</th>\n",
       "      <th></th>\n",
       "    </tr>\n",
       "  </thead>\n",
       "  <tbody>\n",
       "    <tr>\n",
       "      <th>автомобиль</th>\n",
       "      <td>0.093371</td>\n",
       "    </tr>\n",
       "    <tr>\n",
       "      <th>недвижимость</th>\n",
       "      <td>0.072378</td>\n",
       "    </tr>\n",
       "    <tr>\n",
       "      <th>образование</th>\n",
       "      <td>0.092616</td>\n",
       "    </tr>\n",
       "    <tr>\n",
       "      <th>свадьба</th>\n",
       "      <td>0.079654</td>\n",
       "    </tr>\n",
       "  </tbody>\n",
       "</table>\n",
       "</div>"
      ],
      "text/plain": [
       "                    debt\n",
       "purpose_lemmas          \n",
       "автомобиль      0.093371\n",
       "недвижимость    0.072378\n",
       "образование     0.092616\n",
       "свадьба         0.079654"
      ]
     },
     "metadata": {},
     "output_type": "display_data"
    }
   ],
   "source": [
    "display(addiction_purpose_lemmas)"
   ]
  },
  {
   "cell_type": "markdown",
   "metadata": {},
   "source": [
    "**Вывод**"
   ]
  },
  {
   "cell_type": "markdown",
   "metadata": {},
   "source": [
    "Кредит на недвижимость является самым возвращаемым кредитом. Далее по степени возврата идет кредит на свадьб, далее - кредит на образование. Хуже всего возвращают кредит, связанный с автомобилями. "
   ]
  },
  {
   "cell_type": "markdown",
   "metadata": {},
   "source": [
    "## Общий вывод\n",
    "\n",
    "\n",
    "Главным вопросом анализа этой таблицы с данными банка о заемщиках был, влияет ли семейное положение и количество детей клиента на факт погашения кредита в срок? Обработав и проанадизировав данные, можно уверенно сказать, что возврат кредита в срок стоит практически в прямой зависимости от количества детей и семейного положение заемщика. Большое количество детей может служить определенным маркером надежности заемщика перед банком. Вот такие дела."
   ]
  }
 ],
 "metadata": {
  "ExecuteTimeLog": [
   {
    "duration": 865,
    "start_time": "2021-07-28T05:13:39.655Z"
   },
   {
    "duration": 64,
    "start_time": "2021-07-28T05:13:44.784Z"
   },
   {
    "duration": 76,
    "start_time": "2021-07-28T05:13:56.115Z"
   },
   {
    "duration": 85,
    "start_time": "2021-07-28T05:21:46.775Z"
   },
   {
    "duration": 1115,
    "start_time": "2021-07-28T05:41:50.805Z"
   },
   {
    "duration": 86,
    "start_time": "2021-07-28T05:42:06.672Z"
   },
   {
    "duration": 88,
    "start_time": "2021-07-28T05:43:24.320Z"
   },
   {
    "duration": 497,
    "start_time": "2021-07-28T05:43:39.508Z"
   },
   {
    "duration": 117,
    "start_time": "2021-07-28T05:46:26.900Z"
   },
   {
    "duration": 87,
    "start_time": "2021-07-28T05:46:51.841Z"
   },
   {
    "duration": 88,
    "start_time": "2021-07-28T05:49:29.092Z"
   },
   {
    "duration": 442,
    "start_time": "2021-07-28T05:51:34.644Z"
   },
   {
    "duration": 468,
    "start_time": "2021-07-28T05:51:46.418Z"
   },
   {
    "duration": 496,
    "start_time": "2021-07-28T05:53:07.651Z"
   },
   {
    "duration": 458,
    "start_time": "2021-07-28T05:53:13.336Z"
   },
   {
    "duration": 470,
    "start_time": "2021-07-28T05:53:37.615Z"
   },
   {
    "duration": 475,
    "start_time": "2021-07-28T05:53:47.332Z"
   },
   {
    "duration": 98,
    "start_time": "2021-07-28T05:53:52.218Z"
   },
   {
    "duration": 94,
    "start_time": "2021-07-28T05:55:31.155Z"
   },
   {
    "duration": 91,
    "start_time": "2021-07-28T05:55:44.978Z"
   },
   {
    "duration": 88,
    "start_time": "2021-07-28T05:59:47.500Z"
   },
   {
    "duration": 97,
    "start_time": "2021-07-28T06:00:56.803Z"
   },
   {
    "duration": 7,
    "start_time": "2021-07-28T06:02:46.201Z"
   },
   {
    "duration": 11,
    "start_time": "2021-07-28T06:09:59.207Z"
   },
   {
    "duration": 85,
    "start_time": "2021-07-28T06:10:12.353Z"
   },
   {
    "duration": 19,
    "start_time": "2021-07-28T06:20:03.356Z"
   },
   {
    "duration": 25,
    "start_time": "2021-07-28T06:22:16.416Z"
   },
   {
    "duration": 13,
    "start_time": "2021-07-28T06:22:58.913Z"
   },
   {
    "duration": 19,
    "start_time": "2021-07-28T06:23:40.852Z"
   },
   {
    "duration": 25,
    "start_time": "2021-07-28T06:24:05.511Z"
   },
   {
    "duration": 179,
    "start_time": "2021-07-28T06:25:27.731Z"
   },
   {
    "duration": 14,
    "start_time": "2021-07-28T06:25:41.927Z"
   },
   {
    "duration": 14,
    "start_time": "2021-07-28T06:26:04.279Z"
   },
   {
    "duration": 13,
    "start_time": "2021-07-28T06:26:17.185Z"
   },
   {
    "duration": 17,
    "start_time": "2021-07-28T07:20:00.630Z"
   },
   {
    "duration": 839,
    "start_time": "2021-08-06T14:14:56.332Z"
   },
   {
    "duration": 95,
    "start_time": "2021-08-06T14:18:39.167Z"
   },
   {
    "duration": 74,
    "start_time": "2021-08-06T14:21:45.582Z"
   },
   {
    "duration": 18,
    "start_time": "2021-08-06T14:35:10.760Z"
   },
   {
    "duration": 12,
    "start_time": "2021-08-06T14:35:22.790Z"
   },
   {
    "duration": 90,
    "start_time": "2021-08-06T14:38:34.620Z"
   },
   {
    "duration": 17,
    "start_time": "2021-08-06T14:38:39.257Z"
   },
   {
    "duration": 17,
    "start_time": "2021-08-06T14:41:10.566Z"
   },
   {
    "duration": 15,
    "start_time": "2021-08-06T14:41:55.769Z"
   },
   {
    "duration": 14,
    "start_time": "2021-08-06T14:42:02.299Z"
   },
   {
    "duration": 19,
    "start_time": "2021-08-06T14:48:20.691Z"
   },
   {
    "duration": 13,
    "start_time": "2021-08-06T14:48:48.193Z"
   },
   {
    "duration": 13,
    "start_time": "2021-08-06T14:48:56.040Z"
   },
   {
    "duration": 641,
    "start_time": "2021-08-06T14:49:01.969Z"
   },
   {
    "duration": 14,
    "start_time": "2021-08-06T14:49:13.479Z"
   },
   {
    "duration": 15,
    "start_time": "2021-08-06T14:50:13.934Z"
   },
   {
    "duration": 6,
    "start_time": "2021-08-06T14:50:20.643Z"
   },
   {
    "duration": 6,
    "start_time": "2021-08-06T14:50:32.389Z"
   },
   {
    "duration": 275,
    "start_time": "2021-08-06T14:52:38.821Z"
   },
   {
    "duration": 267,
    "start_time": "2021-08-06T14:53:04.621Z"
   },
   {
    "duration": 89,
    "start_time": "2021-08-06T14:55:48.318Z"
   },
   {
    "duration": 103,
    "start_time": "2021-08-06T14:55:52.391Z"
   },
   {
    "duration": 12,
    "start_time": "2021-08-06T14:56:00.427Z"
   },
   {
    "duration": 24,
    "start_time": "2021-08-06T14:56:18.438Z"
   },
   {
    "duration": 20,
    "start_time": "2021-08-06T14:56:31.956Z"
   },
   {
    "duration": 13,
    "start_time": "2021-08-06T14:56:40.206Z"
   },
   {
    "duration": 6,
    "start_time": "2021-08-06T14:59:56.851Z"
   },
   {
    "duration": 15,
    "start_time": "2021-08-06T15:00:05.636Z"
   },
   {
    "duration": 14,
    "start_time": "2021-08-06T15:04:17.170Z"
   },
   {
    "duration": 13,
    "start_time": "2021-08-06T15:04:37.903Z"
   },
   {
    "duration": 18,
    "start_time": "2021-08-06T15:07:57.691Z"
   },
   {
    "duration": 21,
    "start_time": "2021-08-06T15:09:26.299Z"
   },
   {
    "duration": 23,
    "start_time": "2021-08-06T15:24:54.732Z"
   },
   {
    "duration": 93,
    "start_time": "2021-08-06T15:25:16.994Z"
   },
   {
    "duration": 28,
    "start_time": "2021-08-06T15:25:21.606Z"
   },
   {
    "duration": 23,
    "start_time": "2021-08-06T15:25:54.665Z"
   },
   {
    "duration": 122,
    "start_time": "2021-08-06T15:26:13.243Z"
   },
   {
    "duration": 97,
    "start_time": "2021-08-06T15:26:25.021Z"
   },
   {
    "duration": 26,
    "start_time": "2021-08-06T15:26:36.365Z"
   },
   {
    "duration": 7406,
    "start_time": "2021-08-06T15:28:56.585Z"
   },
   {
    "duration": 25,
    "start_time": "2021-08-06T15:29:04.224Z"
   },
   {
    "duration": 28,
    "start_time": "2021-08-06T15:34:39.960Z"
   },
   {
    "duration": 27,
    "start_time": "2021-08-06T15:36:12.178Z"
   },
   {
    "duration": 25,
    "start_time": "2021-08-06T15:36:49.774Z"
   },
   {
    "duration": 18,
    "start_time": "2021-08-06T15:37:43.422Z"
   },
   {
    "duration": 20,
    "start_time": "2021-08-06T15:39:09.566Z"
   },
   {
    "duration": 94,
    "start_time": "2021-08-06T15:40:31.227Z"
   },
   {
    "duration": 89,
    "start_time": "2021-08-06T15:40:54.277Z"
   },
   {
    "duration": 33,
    "start_time": "2021-08-06T15:42:17.806Z"
   },
   {
    "duration": 88,
    "start_time": "2021-08-06T15:46:33.389Z"
   },
   {
    "duration": 13,
    "start_time": "2021-08-06T15:46:56.909Z"
   },
   {
    "duration": 92,
    "start_time": "2021-08-06T15:47:07.015Z"
   },
   {
    "duration": 86,
    "start_time": "2021-08-06T15:47:13.472Z"
   },
   {
    "duration": 13,
    "start_time": "2021-08-06T15:48:08.475Z"
   },
   {
    "duration": 17,
    "start_time": "2021-08-06T15:48:19.566Z"
   },
   {
    "duration": 14,
    "start_time": "2021-08-06T15:48:26.291Z"
   },
   {
    "duration": 15,
    "start_time": "2021-08-06T15:50:24.835Z"
   },
   {
    "duration": 16,
    "start_time": "2021-08-06T15:50:39.129Z"
   },
   {
    "duration": 16,
    "start_time": "2021-08-06T15:50:47.330Z"
   },
   {
    "duration": 18,
    "start_time": "2021-08-06T15:50:55.769Z"
   },
   {
    "duration": 21,
    "start_time": "2021-08-06T15:51:00.339Z"
   },
   {
    "duration": 358,
    "start_time": "2021-08-06T15:51:35.582Z"
   },
   {
    "duration": 822,
    "start_time": "2021-08-06T15:51:43.774Z"
   },
   {
    "duration": 14,
    "start_time": "2021-08-06T15:51:50.578Z"
   },
   {
    "duration": 18,
    "start_time": "2021-08-06T15:52:08.187Z"
   },
   {
    "duration": 19,
    "start_time": "2021-08-06T15:58:34.408Z"
   },
   {
    "duration": 816,
    "start_time": "2021-08-06T15:59:00.974Z"
   },
   {
    "duration": 21,
    "start_time": "2021-08-06T15:59:03.442Z"
   },
   {
    "duration": 23,
    "start_time": "2021-08-06T16:03:00.207Z"
   },
   {
    "duration": 95,
    "start_time": "2021-08-06T16:04:54.983Z"
   },
   {
    "duration": 34,
    "start_time": "2021-08-06T16:05:08.160Z"
   },
   {
    "duration": 32,
    "start_time": "2021-08-06T16:21:18.865Z"
   },
   {
    "duration": 39,
    "start_time": "2021-08-06T16:22:43.212Z"
   },
   {
    "duration": 865,
    "start_time": "2021-08-06T16:25:39.160Z"
   },
   {
    "duration": 53,
    "start_time": "2021-08-06T16:25:42.183Z"
   },
   {
    "duration": 781,
    "start_time": "2021-08-06T16:30:02.605Z"
   },
   {
    "duration": 40,
    "start_time": "2021-08-06T16:30:06.072Z"
   },
   {
    "duration": 48,
    "start_time": "2021-08-06T16:30:50.784Z"
   },
   {
    "duration": 96,
    "start_time": "2021-08-06T16:36:10.629Z"
   },
   {
    "duration": 797,
    "start_time": "2021-08-06T16:36:16.775Z"
   },
   {
    "duration": 764,
    "start_time": "2021-08-06T16:36:41.900Z"
   },
   {
    "duration": 62,
    "start_time": "2021-08-06T16:36:53.189Z"
   },
   {
    "duration": 48,
    "start_time": "2021-08-06T16:37:59.872Z"
   },
   {
    "duration": 856,
    "start_time": "2021-08-06T16:38:21.252Z"
   },
   {
    "duration": 64,
    "start_time": "2021-08-06T16:38:24.959Z"
   },
   {
    "duration": 47,
    "start_time": "2021-08-06T16:39:40.881Z"
   },
   {
    "duration": 58,
    "start_time": "2021-08-06T16:42:14.241Z"
   },
   {
    "duration": 8122,
    "start_time": "2021-08-06T16:44:47.252Z"
   },
   {
    "duration": 1097,
    "start_time": "2021-08-06T16:45:01.199Z"
   },
   {
    "duration": 8099,
    "start_time": "2021-08-06T16:45:04.293Z"
   },
   {
    "duration": 10203,
    "start_time": "2021-08-06T16:45:37.807Z"
   },
   {
    "duration": 6416,
    "start_time": "2021-08-06T16:46:08.063Z"
   },
   {
    "duration": 67,
    "start_time": "2021-08-06T16:46:37.783Z"
   },
   {
    "duration": 598,
    "start_time": "2021-08-08T19:35:18.912Z"
   },
   {
    "duration": 47,
    "start_time": "2021-08-08T19:35:22.081Z"
   },
   {
    "duration": 258,
    "start_time": "2021-08-08T19:36:25.367Z"
   },
   {
    "duration": 576,
    "start_time": "2021-08-08T19:36:29.322Z"
   },
   {
    "duration": 32,
    "start_time": "2021-08-08T19:36:31.363Z"
   },
   {
    "duration": 40,
    "start_time": "2021-08-08T19:42:19.244Z"
   },
   {
    "duration": 30,
    "start_time": "2021-08-08T19:47:01.915Z"
   },
   {
    "duration": 583,
    "start_time": "2021-08-08T19:47:20.922Z"
   },
   {
    "duration": 32,
    "start_time": "2021-08-08T19:47:23.136Z"
   },
   {
    "duration": 36,
    "start_time": "2021-08-08T19:48:38.677Z"
   },
   {
    "duration": 625,
    "start_time": "2021-08-08T19:49:22.361Z"
   },
   {
    "duration": 37,
    "start_time": "2021-08-08T19:49:24.736Z"
   },
   {
    "duration": 32,
    "start_time": "2021-08-08T19:50:44.895Z"
   },
   {
    "duration": 37,
    "start_time": "2021-08-08T19:51:34.273Z"
   },
   {
    "duration": 35,
    "start_time": "2021-08-08T19:52:01.888Z"
   },
   {
    "duration": 582,
    "start_time": "2021-08-08T19:58:40.210Z"
   },
   {
    "duration": 46,
    "start_time": "2021-08-08T19:58:44.220Z"
   },
   {
    "duration": 377,
    "start_time": "2021-08-10T10:19:18.241Z"
   },
   {
    "duration": 835,
    "start_time": "2021-08-10T10:19:26.541Z"
   },
   {
    "duration": 83,
    "start_time": "2021-08-10T10:19:27.556Z"
   },
   {
    "duration": 88,
    "start_time": "2021-08-10T10:21:55.454Z"
   },
   {
    "duration": 125,
    "start_time": "2021-08-10T10:24:35.114Z"
   },
   {
    "duration": 120,
    "start_time": "2021-08-10T10:24:44.815Z"
   },
   {
    "duration": 537,
    "start_time": "2021-08-10T10:29:56.652Z"
   },
   {
    "duration": 411,
    "start_time": "2021-08-10T10:30:10.438Z"
   },
   {
    "duration": 400,
    "start_time": "2021-08-10T10:30:41.340Z"
   },
   {
    "duration": 147,
    "start_time": "2021-08-10T10:31:05.976Z"
   },
   {
    "duration": 130,
    "start_time": "2021-08-10T10:31:15.058Z"
   },
   {
    "duration": 137,
    "start_time": "2021-08-10T10:31:25.909Z"
   },
   {
    "duration": 116,
    "start_time": "2021-08-10T10:32:19.414Z"
   },
   {
    "duration": 127,
    "start_time": "2021-08-10T10:37:36.302Z"
   },
   {
    "duration": 126,
    "start_time": "2021-08-10T10:42:52.114Z"
   },
   {
    "duration": 904,
    "start_time": "2021-08-10T10:43:13.166Z"
   },
   {
    "duration": 132,
    "start_time": "2021-08-10T10:43:16.742Z"
   },
   {
    "duration": 135,
    "start_time": "2021-08-10T10:44:24.478Z"
   },
   {
    "duration": 422,
    "start_time": "2021-08-11T13:31:29.641Z"
   },
   {
    "duration": 813,
    "start_time": "2021-08-11T13:31:37.212Z"
   },
   {
    "duration": 132,
    "start_time": "2021-08-11T13:31:38.639Z"
   },
   {
    "duration": 126,
    "start_time": "2021-08-11T13:32:00.740Z"
   },
   {
    "duration": 4052,
    "start_time": "2021-08-11T14:04:46.561Z"
   },
   {
    "duration": 145,
    "start_time": "2021-08-11T14:05:26.259Z"
   },
   {
    "duration": 575,
    "start_time": "2021-08-11T14:05:40.500Z"
   },
   {
    "duration": 125,
    "start_time": "2021-08-11T14:06:58.436Z"
   },
   {
    "duration": 127,
    "start_time": "2021-08-11T14:07:28.884Z"
   },
   {
    "duration": 129,
    "start_time": "2021-08-11T14:07:40.859Z"
   },
   {
    "duration": 397,
    "start_time": "2021-08-11T14:08:05.656Z"
   },
   {
    "duration": 141,
    "start_time": "2021-08-11T14:08:21.331Z"
   },
   {
    "duration": 127,
    "start_time": "2021-08-11T14:15:46.699Z"
   },
   {
    "duration": 791,
    "start_time": "2021-08-11T14:16:17.498Z"
   },
   {
    "duration": 133,
    "start_time": "2021-08-11T14:16:19.383Z"
   },
   {
    "duration": 122,
    "start_time": "2021-08-11T14:17:48.136Z"
   },
   {
    "duration": 132,
    "start_time": "2021-08-11T14:18:06.363Z"
   },
   {
    "duration": 187,
    "start_time": "2021-08-11T14:30:46.435Z"
   },
   {
    "duration": 747,
    "start_time": "2021-08-11T14:30:52.950Z"
   },
   {
    "duration": 253,
    "start_time": "2021-08-11T14:31:09.032Z"
   },
   {
    "duration": 269,
    "start_time": "2021-08-11T14:31:15.916Z"
   },
   {
    "duration": 421,
    "start_time": "2021-08-11T14:31:41.999Z"
   },
   {
    "duration": 122,
    "start_time": "2021-08-11T14:46:38.220Z"
   },
   {
    "duration": 779,
    "start_time": "2021-08-11T14:47:01.617Z"
   },
   {
    "duration": 815,
    "start_time": "2021-08-11T14:47:03.581Z"
   },
   {
    "duration": 796,
    "start_time": "2021-08-11T14:49:38.696Z"
   },
   {
    "duration": 566,
    "start_time": "2021-08-11T14:49:40.696Z"
   },
   {
    "duration": 548,
    "start_time": "2021-08-11T14:50:59.554Z"
   },
   {
    "duration": 1014,
    "start_time": "2021-08-11T14:51:18.936Z"
   },
   {
    "duration": 136,
    "start_time": "2021-08-11T14:51:20.622Z"
   },
   {
    "duration": 126,
    "start_time": "2021-08-11T14:52:34.638Z"
   },
   {
    "duration": 575,
    "start_time": "2021-08-11T14:53:09.794Z"
   },
   {
    "duration": 133,
    "start_time": "2021-08-11T14:53:21.088Z"
   },
   {
    "duration": 140,
    "start_time": "2021-08-11T14:53:56.394Z"
   },
   {
    "duration": 135,
    "start_time": "2021-08-11T14:54:10.895Z"
   },
   {
    "duration": 852,
    "start_time": "2021-08-11T14:55:17.634Z"
   },
   {
    "duration": 161,
    "start_time": "2021-08-11T14:55:19.976Z"
   },
   {
    "duration": 15,
    "start_time": "2021-08-11T14:58:10.073Z"
   },
   {
    "duration": 8,
    "start_time": "2021-08-11T14:58:54.798Z"
   },
   {
    "duration": 21,
    "start_time": "2021-08-11T15:37:33.227Z"
   },
   {
    "duration": 28,
    "start_time": "2021-08-11T15:37:44.065Z"
   },
   {
    "duration": 27,
    "start_time": "2021-08-11T15:37:50.763Z"
   },
   {
    "duration": 38,
    "start_time": "2021-08-11T15:38:37.749Z"
   },
   {
    "duration": 36,
    "start_time": "2021-08-11T15:39:23.978Z"
   },
   {
    "duration": 483,
    "start_time": "2021-08-11T15:44:52.347Z"
   },
   {
    "duration": 39,
    "start_time": "2021-08-11T15:45:03.076Z"
   },
   {
    "duration": 44,
    "start_time": "2021-08-11T15:45:13.535Z"
   },
   {
    "duration": 53,
    "start_time": "2021-08-11T15:46:00.130Z"
   },
   {
    "duration": 56,
    "start_time": "2021-08-11T15:46:33.043Z"
   },
   {
    "duration": 81,
    "start_time": "2021-08-11T15:49:46.128Z"
   },
   {
    "duration": 791,
    "start_time": "2021-08-11T15:50:55.983Z"
   },
   {
    "duration": 155,
    "start_time": "2021-08-11T15:50:57.872Z"
   },
   {
    "duration": 15,
    "start_time": "2021-08-11T15:50:59.615Z"
   },
   {
    "duration": 87,
    "start_time": "2021-08-11T15:51:01.727Z"
   },
   {
    "duration": 771,
    "start_time": "2021-08-11T15:52:24.618Z"
   },
   {
    "duration": 122,
    "start_time": "2021-08-11T15:52:26.653Z"
   },
   {
    "duration": 15,
    "start_time": "2021-08-11T15:52:29.665Z"
   },
   {
    "duration": 84,
    "start_time": "2021-08-11T15:52:31.325Z"
   },
   {
    "duration": 125,
    "start_time": "2021-08-11T15:55:17.243Z"
   },
   {
    "duration": 462,
    "start_time": "2021-08-12T10:51:17.583Z"
   },
   {
    "duration": 817,
    "start_time": "2021-08-12T10:51:25.118Z"
   },
   {
    "duration": 149,
    "start_time": "2021-08-12T10:51:26.221Z"
   },
   {
    "duration": 14,
    "start_time": "2021-08-12T10:51:27.629Z"
   },
   {
    "duration": 120,
    "start_time": "2021-08-12T10:51:29.604Z"
   },
   {
    "duration": 9,
    "start_time": "2021-08-12T10:51:32.354Z"
   },
   {
    "duration": 386,
    "start_time": "2021-08-12T11:37:43.106Z"
   },
   {
    "duration": 775,
    "start_time": "2021-08-12T11:38:03.628Z"
   },
   {
    "duration": 140,
    "start_time": "2021-08-12T11:38:05.159Z"
   },
   {
    "duration": 15,
    "start_time": "2021-08-12T11:38:06.510Z"
   },
   {
    "duration": 120,
    "start_time": "2021-08-12T11:38:08.012Z"
   },
   {
    "duration": 484,
    "start_time": "2021-08-12T11:38:09.924Z"
   },
   {
    "duration": 352,
    "start_time": "2021-08-12T11:42:23.597Z"
   },
   {
    "duration": 12,
    "start_time": "2021-08-12T11:42:52.576Z"
   },
   {
    "duration": 12,
    "start_time": "2021-08-12T11:43:06.459Z"
   },
   {
    "duration": 865,
    "start_time": "2021-08-12T11:43:17.353Z"
   },
   {
    "duration": 142,
    "start_time": "2021-08-12T11:43:18.696Z"
   },
   {
    "duration": 18,
    "start_time": "2021-08-12T11:43:20.646Z"
   },
   {
    "duration": 124,
    "start_time": "2021-08-12T11:43:22.351Z"
   },
   {
    "duration": 12,
    "start_time": "2021-08-12T11:43:24.293Z"
   },
   {
    "duration": 435,
    "start_time": "2021-08-12T11:43:40.062Z"
   },
   {
    "duration": 371,
    "start_time": "2021-08-12T11:46:21.980Z"
   },
   {
    "duration": 345,
    "start_time": "2021-08-12T11:46:48.791Z"
   },
   {
    "duration": 376,
    "start_time": "2021-08-12T11:47:41.154Z"
   },
   {
    "duration": 14,
    "start_time": "2021-08-12T11:47:49.330Z"
   },
   {
    "duration": 359,
    "start_time": "2021-08-12T11:48:02.341Z"
   },
   {
    "duration": 1441,
    "start_time": "2021-08-12T11:48:41.628Z"
   },
   {
    "duration": 323,
    "start_time": "2021-08-12T11:52:16.143Z"
   },
   {
    "duration": 316,
    "start_time": "2021-08-12T11:53:32.214Z"
   },
   {
    "duration": 343,
    "start_time": "2021-08-12T11:56:02.364Z"
   },
   {
    "duration": 851,
    "start_time": "2021-08-12T11:56:12.248Z"
   },
   {
    "duration": 142,
    "start_time": "2021-08-12T11:56:13.505Z"
   },
   {
    "duration": 16,
    "start_time": "2021-08-12T11:56:14.575Z"
   },
   {
    "duration": 134,
    "start_time": "2021-08-12T11:56:16.079Z"
   },
   {
    "duration": 448,
    "start_time": "2021-08-12T11:56:21.901Z"
   },
   {
    "duration": 379,
    "start_time": "2021-08-12T11:56:59.026Z"
   },
   {
    "duration": 340,
    "start_time": "2021-08-12T11:57:09.233Z"
   },
   {
    "duration": 11,
    "start_time": "2021-08-12T12:01:23.788Z"
   },
   {
    "duration": 18,
    "start_time": "2021-08-12T12:01:46.609Z"
   },
   {
    "duration": 13,
    "start_time": "2021-08-12T12:05:05.751Z"
   },
   {
    "duration": 374,
    "start_time": "2021-08-12T12:14:27.107Z"
   },
   {
    "duration": 372,
    "start_time": "2021-08-12T12:14:39.996Z"
   },
   {
    "duration": 4608,
    "start_time": "2021-08-12T12:15:04.387Z"
   },
   {
    "duration": 4772,
    "start_time": "2021-08-12T12:21:28.894Z"
   },
   {
    "duration": 4609,
    "start_time": "2021-08-12T12:21:38.457Z"
   },
   {
    "duration": 4693,
    "start_time": "2021-08-12T12:21:59.692Z"
   },
   {
    "duration": 4668,
    "start_time": "2021-08-12T12:22:06.261Z"
   },
   {
    "duration": 4975,
    "start_time": "2021-08-12T12:30:42.363Z"
   },
   {
    "duration": 4886,
    "start_time": "2021-08-12T12:39:25.279Z"
   },
   {
    "duration": 4667,
    "start_time": "2021-08-12T12:39:54.674Z"
   },
   {
    "duration": 4456,
    "start_time": "2021-08-12T12:42:07.066Z"
   },
   {
    "duration": 4555,
    "start_time": "2021-08-12T12:43:10.765Z"
   },
   {
    "duration": 4980,
    "start_time": "2021-08-12T12:44:26.265Z"
   },
   {
    "duration": 13316,
    "start_time": "2021-08-12T12:44:56.760Z"
   },
   {
    "duration": 4643,
    "start_time": "2021-08-12T12:45:25.930Z"
   },
   {
    "duration": 4865,
    "start_time": "2021-08-12T13:03:23.181Z"
   },
   {
    "duration": 1341,
    "start_time": "2021-08-12T13:04:32.572Z"
   },
   {
    "duration": 413,
    "start_time": "2021-08-12T13:04:45.386Z"
   },
   {
    "duration": 115,
    "start_time": "2021-08-12T13:05:11.664Z"
   },
   {
    "duration": 292,
    "start_time": "2021-08-12T13:23:04.862Z"
   },
   {
    "duration": 119,
    "start_time": "2021-08-12T13:23:38.501Z"
   },
   {
    "duration": 117,
    "start_time": "2021-08-12T13:39:27.182Z"
   },
   {
    "duration": 110,
    "start_time": "2021-08-12T13:39:48.139Z"
   },
   {
    "duration": 61,
    "start_time": "2021-08-12T13:40:09.374Z"
   },
   {
    "duration": 66,
    "start_time": "2021-08-12T13:40:39.523Z"
   },
   {
    "duration": 8717,
    "start_time": "2021-08-12T13:41:18.235Z"
   },
   {
    "duration": 10169,
    "start_time": "2021-08-12T13:42:23.527Z"
   },
   {
    "duration": 16,
    "start_time": "2021-08-12T13:42:46.538Z"
   },
   {
    "duration": 820,
    "start_time": "2021-08-12T13:43:03.829Z"
   },
   {
    "duration": 163,
    "start_time": "2021-08-12T13:43:05.030Z"
   },
   {
    "duration": 14,
    "start_time": "2021-08-12T13:43:05.823Z"
   },
   {
    "duration": 130,
    "start_time": "2021-08-12T13:43:07.115Z"
   },
   {
    "duration": 5419,
    "start_time": "2021-08-12T13:43:09.454Z"
   },
   {
    "duration": 15,
    "start_time": "2021-08-12T13:43:14.885Z"
   },
   {
    "duration": 35,
    "start_time": "2021-08-12T13:43:55.245Z"
   },
   {
    "duration": 45,
    "start_time": "2021-08-12T13:47:26.304Z"
   },
   {
    "duration": 41,
    "start_time": "2021-08-12T13:47:56.022Z"
   },
   {
    "duration": 185,
    "start_time": "2021-08-12T13:48:18.361Z"
   },
   {
    "duration": 1018,
    "start_time": "2021-08-12T13:48:32.599Z"
   },
   {
    "duration": 187,
    "start_time": "2021-08-12T13:48:33.821Z"
   },
   {
    "duration": 15,
    "start_time": "2021-08-12T13:48:34.605Z"
   },
   {
    "duration": 136,
    "start_time": "2021-08-12T13:48:35.845Z"
   },
   {
    "duration": 5422,
    "start_time": "2021-08-12T13:48:37.717Z"
   },
   {
    "duration": 77,
    "start_time": "2021-08-12T13:48:43.143Z"
   },
   {
    "duration": 792,
    "start_time": "2021-08-13T04:21:15.597Z"
   },
   {
    "duration": 163,
    "start_time": "2021-08-13T04:21:16.392Z"
   },
   {
    "duration": 17,
    "start_time": "2021-08-13T04:21:16.558Z"
   },
   {
    "duration": 153,
    "start_time": "2021-08-13T04:21:16.578Z"
   },
   {
    "duration": 4486,
    "start_time": "2021-08-13T04:21:16.733Z"
   },
   {
    "duration": 60,
    "start_time": "2021-08-13T04:21:21.224Z"
   },
   {
    "duration": 820,
    "start_time": "2021-08-13T04:51:19.849Z"
   },
   {
    "duration": 148,
    "start_time": "2021-08-13T04:51:20.788Z"
   },
   {
    "duration": 15,
    "start_time": "2021-08-13T04:51:21.531Z"
   },
   {
    "duration": 121,
    "start_time": "2021-08-13T04:51:22.252Z"
   },
   {
    "duration": 4419,
    "start_time": "2021-08-13T04:51:23.172Z"
   },
   {
    "duration": 1903,
    "start_time": "2021-08-13T04:51:27.594Z"
   },
   {
    "duration": 43,
    "start_time": "2021-08-13T04:52:40.168Z"
   },
   {
    "duration": 332,
    "start_time": "2021-08-13T04:53:59.355Z"
   },
   {
    "duration": 469,
    "start_time": "2021-08-13T04:55:19.682Z"
   },
   {
    "duration": 327,
    "start_time": "2021-08-13T04:55:31.356Z"
   },
   {
    "duration": 46,
    "start_time": "2021-08-13T04:55:52.034Z"
   },
   {
    "duration": 42,
    "start_time": "2021-08-13T04:56:24.448Z"
   },
   {
    "duration": 7332,
    "start_time": "2021-08-13T05:02:44.797Z"
   },
   {
    "duration": 49,
    "start_time": "2021-08-13T05:03:19.756Z"
   },
   {
    "duration": 46,
    "start_time": "2021-08-13T05:10:16.111Z"
   },
   {
    "duration": 49,
    "start_time": "2021-08-13T05:10:34.592Z"
   },
   {
    "duration": 333,
    "start_time": "2021-08-13T05:15:00.040Z"
   },
   {
    "duration": 55,
    "start_time": "2021-08-13T05:16:04.198Z"
   },
   {
    "duration": 351,
    "start_time": "2021-08-13T05:24:33.966Z"
   },
   {
    "duration": 65,
    "start_time": "2021-08-13T05:25:18.464Z"
   },
   {
    "duration": 75,
    "start_time": "2021-08-13T05:25:44.223Z"
   },
   {
    "duration": 78,
    "start_time": "2021-08-13T05:27:16.879Z"
   },
   {
    "duration": 99,
    "start_time": "2021-08-13T05:28:46.413Z"
   },
   {
    "duration": 62,
    "start_time": "2021-08-13T05:28:51.832Z"
   },
   {
    "duration": 67,
    "start_time": "2021-08-13T05:35:38.791Z"
   },
   {
    "duration": 67,
    "start_time": "2021-08-13T05:39:02.389Z"
   },
   {
    "duration": 72,
    "start_time": "2021-08-13T05:40:26.969Z"
   },
   {
    "duration": 71,
    "start_time": "2021-08-13T05:40:36.449Z"
   },
   {
    "duration": 328,
    "start_time": "2021-08-13T05:42:17.601Z"
   },
   {
    "duration": 327,
    "start_time": "2021-08-13T05:42:39.505Z"
   },
   {
    "duration": 72,
    "start_time": "2021-08-13T05:43:11.024Z"
   },
   {
    "duration": 77,
    "start_time": "2021-08-13T05:44:47.788Z"
   },
   {
    "duration": 351,
    "start_time": "2021-08-13T05:49:35.782Z"
   },
   {
    "duration": 349,
    "start_time": "2021-08-13T05:50:03.654Z"
   },
   {
    "duration": 72,
    "start_time": "2021-08-13T05:50:11.189Z"
   },
   {
    "duration": 76,
    "start_time": "2021-08-13T05:50:38.356Z"
   },
   {
    "duration": 76,
    "start_time": "2021-08-13T05:51:15.559Z"
   },
   {
    "duration": 75,
    "start_time": "2021-08-13T05:51:27.268Z"
   },
   {
    "duration": 74,
    "start_time": "2021-08-13T05:52:18.072Z"
   },
   {
    "duration": 79,
    "start_time": "2021-08-13T05:53:45.706Z"
   },
   {
    "duration": 79,
    "start_time": "2021-08-13T05:54:08.019Z"
   },
   {
    "duration": 796,
    "start_time": "2021-08-13T05:54:31.186Z"
   },
   {
    "duration": 147,
    "start_time": "2021-08-13T05:54:32.301Z"
   },
   {
    "duration": 14,
    "start_time": "2021-08-13T05:54:33.107Z"
   },
   {
    "duration": 141,
    "start_time": "2021-08-13T05:54:34.322Z"
   },
   {
    "duration": 4493,
    "start_time": "2021-08-13T05:54:36.247Z"
   },
   {
    "duration": 99,
    "start_time": "2021-08-13T05:54:40.755Z"
   },
   {
    "duration": 79,
    "start_time": "2021-08-13T05:55:16.841Z"
   },
   {
    "duration": 79,
    "start_time": "2021-08-13T05:56:05.994Z"
   },
   {
    "duration": 437,
    "start_time": "2021-08-13T05:57:30.807Z"
   },
   {
    "duration": 312,
    "start_time": "2021-08-13T06:00:41.253Z"
   },
   {
    "duration": 94,
    "start_time": "2021-08-13T06:00:58.230Z"
   },
   {
    "duration": 79,
    "start_time": "2021-08-13T06:01:27.925Z"
   },
   {
    "duration": 91,
    "start_time": "2021-08-13T06:02:19.499Z"
   },
   {
    "duration": 90,
    "start_time": "2021-08-13T06:02:56.377Z"
   },
   {
    "duration": 90,
    "start_time": "2021-08-13T06:03:14.978Z"
   },
   {
    "duration": 96,
    "start_time": "2021-08-13T06:11:23.188Z"
   },
   {
    "duration": 91,
    "start_time": "2021-08-13T06:11:31.194Z"
   },
   {
    "duration": 1246,
    "start_time": "2021-08-13T06:11:47.797Z"
   },
   {
    "duration": 1432,
    "start_time": "2021-08-13T06:12:18.823Z"
   },
   {
    "duration": 1248,
    "start_time": "2021-08-13T06:13:40.050Z"
   },
   {
    "duration": 91,
    "start_time": "2021-08-13T06:21:03.395Z"
   },
   {
    "duration": 101,
    "start_time": "2021-08-13T06:21:19.512Z"
   },
   {
    "duration": 413,
    "start_time": "2021-08-13T06:21:30.592Z"
   },
   {
    "duration": 806,
    "start_time": "2021-08-13T06:22:51.264Z"
   },
   {
    "duration": 155,
    "start_time": "2021-08-13T06:22:52.660Z"
   },
   {
    "duration": 15,
    "start_time": "2021-08-13T06:22:53.423Z"
   },
   {
    "duration": 137,
    "start_time": "2021-08-13T06:22:54.212Z"
   },
   {
    "duration": 4383,
    "start_time": "2021-08-13T06:22:55.150Z"
   },
   {
    "duration": 536,
    "start_time": "2021-08-13T06:22:59.536Z"
   },
   {
    "duration": 90,
    "start_time": "2021-08-13T06:23:23.727Z"
   },
   {
    "duration": 97,
    "start_time": "2021-08-13T06:23:43.189Z"
   },
   {
    "duration": 6586,
    "start_time": "2021-08-13T06:24:52.832Z"
   },
   {
    "duration": 108,
    "start_time": "2021-08-13T06:28:58.614Z"
   },
   {
    "duration": 89,
    "start_time": "2021-08-13T06:30:33.498Z"
   },
   {
    "duration": 94,
    "start_time": "2021-08-13T06:31:18.275Z"
   },
   {
    "duration": 111,
    "start_time": "2021-08-13T06:31:36.479Z"
   },
   {
    "duration": 107,
    "start_time": "2021-08-13T06:33:21.567Z"
   },
   {
    "duration": 253,
    "start_time": "2021-08-13T06:41:44.941Z"
   },
   {
    "duration": 268,
    "start_time": "2021-08-13T06:42:12.504Z"
   },
   {
    "duration": 111,
    "start_time": "2021-08-13T06:43:19.350Z"
   },
   {
    "duration": 101,
    "start_time": "2021-08-13T06:43:47.601Z"
   },
   {
    "duration": 99,
    "start_time": "2021-08-13T06:44:38.272Z"
   },
   {
    "duration": 784,
    "start_time": "2021-08-13T06:45:24.501Z"
   },
   {
    "duration": 191,
    "start_time": "2021-08-13T06:45:25.926Z"
   },
   {
    "duration": 15,
    "start_time": "2021-08-13T06:45:26.913Z"
   },
   {
    "duration": 132,
    "start_time": "2021-08-13T06:45:28.534Z"
   },
   {
    "duration": 4416,
    "start_time": "2021-08-13T06:45:30.710Z"
   },
   {
    "duration": 494,
    "start_time": "2021-08-13T06:45:35.130Z"
   },
   {
    "duration": 352,
    "start_time": "2021-08-13T06:46:06.406Z"
   },
   {
    "duration": 380,
    "start_time": "2021-08-13T06:46:32.132Z"
   },
   {
    "duration": 870,
    "start_time": "2021-08-13T06:46:55.048Z"
   },
   {
    "duration": 151,
    "start_time": "2021-08-13T06:46:56.225Z"
   },
   {
    "duration": 15,
    "start_time": "2021-08-13T06:46:57.095Z"
   },
   {
    "duration": 129,
    "start_time": "2021-08-13T06:46:58.447Z"
   },
   {
    "duration": 4417,
    "start_time": "2021-08-13T06:47:00.424Z"
   },
   {
    "duration": 489,
    "start_time": "2021-08-13T06:47:04.844Z"
   },
   {
    "duration": 362,
    "start_time": "2021-08-13T06:48:18.538Z"
   },
   {
    "duration": 88,
    "start_time": "2021-08-13T06:49:44.897Z"
   },
   {
    "duration": 111,
    "start_time": "2021-08-13T06:52:02.171Z"
   },
   {
    "duration": 99,
    "start_time": "2021-08-13T06:52:44.103Z"
   },
   {
    "duration": 842,
    "start_time": "2021-08-13T06:53:07.823Z"
   },
   {
    "duration": 176,
    "start_time": "2021-08-13T06:53:09.136Z"
   },
   {
    "duration": 15,
    "start_time": "2021-08-13T06:53:10.108Z"
   },
   {
    "duration": 124,
    "start_time": "2021-08-13T06:53:11.739Z"
   },
   {
    "duration": 4340,
    "start_time": "2021-08-13T06:53:13.868Z"
   },
   {
    "duration": 152,
    "start_time": "2021-08-13T06:53:18.212Z"
   },
   {
    "duration": 849,
    "start_time": "2021-08-13T06:54:47.248Z"
   },
   {
    "duration": 152,
    "start_time": "2021-08-13T06:54:48.573Z"
   },
   {
    "duration": 14,
    "start_time": "2021-08-13T06:54:49.459Z"
   },
   {
    "duration": 130,
    "start_time": "2021-08-13T06:54:50.387Z"
   },
   {
    "duration": 4424,
    "start_time": "2021-08-13T06:54:51.419Z"
   },
   {
    "duration": 134,
    "start_time": "2021-08-13T06:54:55.855Z"
   },
   {
    "duration": 92,
    "start_time": "2021-08-13T06:58:51.939Z"
   },
   {
    "duration": 158,
    "start_time": "2021-08-13T06:58:59.505Z"
   },
   {
    "duration": 827,
    "start_time": "2021-08-13T07:01:40.541Z"
   },
   {
    "duration": 153,
    "start_time": "2021-08-13T07:01:41.462Z"
   },
   {
    "duration": 15,
    "start_time": "2021-08-13T07:01:42.166Z"
   },
   {
    "duration": 123,
    "start_time": "2021-08-13T07:01:42.900Z"
   },
   {
    "duration": 4323,
    "start_time": "2021-08-13T07:01:43.847Z"
   },
   {
    "duration": 105,
    "start_time": "2021-08-13T07:01:48.173Z"
   },
   {
    "duration": 96,
    "start_time": "2021-08-13T07:03:40.143Z"
   },
   {
    "duration": 123,
    "start_time": "2021-08-13T07:04:40.659Z"
   },
   {
    "duration": 111,
    "start_time": "2021-08-13T07:06:04.017Z"
   },
   {
    "duration": 782,
    "start_time": "2021-08-13T07:06:20.487Z"
   },
   {
    "duration": 151,
    "start_time": "2021-08-13T07:06:21.706Z"
   },
   {
    "duration": 14,
    "start_time": "2021-08-13T07:06:22.614Z"
   },
   {
    "duration": 122,
    "start_time": "2021-08-13T07:06:23.879Z"
   },
   {
    "duration": 4548,
    "start_time": "2021-08-13T07:06:25.307Z"
   },
   {
    "duration": 132,
    "start_time": "2021-08-13T07:06:29.858Z"
   },
   {
    "duration": 116,
    "start_time": "2021-08-13T07:07:00.451Z"
   },
   {
    "duration": 762,
    "start_time": "2021-08-13T07:07:24.993Z"
   },
   {
    "duration": 151,
    "start_time": "2021-08-13T07:07:26.034Z"
   },
   {
    "duration": 16,
    "start_time": "2021-08-13T07:07:26.712Z"
   },
   {
    "duration": 122,
    "start_time": "2021-08-13T07:07:27.480Z"
   },
   {
    "duration": 4439,
    "start_time": "2021-08-13T07:07:28.604Z"
   },
   {
    "duration": 139,
    "start_time": "2021-08-13T07:07:33.055Z"
   },
   {
    "duration": 125,
    "start_time": "2021-08-13T07:09:12.929Z"
   },
   {
    "duration": 155,
    "start_time": "2021-08-13T07:09:24.437Z"
   },
   {
    "duration": 108,
    "start_time": "2021-08-13T07:15:17.069Z"
   },
   {
    "duration": 126,
    "start_time": "2021-08-13T07:20:54.046Z"
   },
   {
    "duration": 863,
    "start_time": "2021-08-13T07:44:18.139Z"
   },
   {
    "duration": 14,
    "start_time": "2021-08-13T07:44:22.571Z"
   },
   {
    "duration": 52,
    "start_time": "2021-08-13T08:04:16.079Z"
   },
   {
    "duration": 845,
    "start_time": "2021-08-13T08:04:39.100Z"
   },
   {
    "duration": 57,
    "start_time": "2021-08-13T08:04:42.691Z"
   },
   {
    "duration": 808,
    "start_time": "2021-08-13T08:09:05.886Z"
   },
   {
    "duration": 21,
    "start_time": "2021-08-13T08:09:26.545Z"
   },
   {
    "duration": 23,
    "start_time": "2021-08-13T08:09:57.187Z"
   },
   {
    "duration": 31,
    "start_time": "2021-08-13T08:11:35.597Z"
   },
   {
    "duration": 887,
    "start_time": "2021-08-14T11:48:09.945Z"
   },
   {
    "duration": 31,
    "start_time": "2021-08-14T11:52:21.467Z"
   },
   {
    "duration": 33,
    "start_time": "2021-08-14T12:01:16.556Z"
   },
   {
    "duration": 47,
    "start_time": "2021-08-14T12:03:30.887Z"
   },
   {
    "duration": 823,
    "start_time": "2021-08-14T12:04:04.401Z"
   },
   {
    "duration": 35,
    "start_time": "2021-08-14T12:06:11.817Z"
   },
   {
    "duration": 36,
    "start_time": "2021-08-14T12:06:26.759Z"
   },
   {
    "duration": 33,
    "start_time": "2021-08-14T12:06:41.368Z"
   },
   {
    "duration": 39,
    "start_time": "2021-08-14T12:10:40.398Z"
   },
   {
    "duration": 48,
    "start_time": "2021-08-14T12:12:02.506Z"
   },
   {
    "duration": 31,
    "start_time": "2021-08-14T12:12:23.610Z"
   },
   {
    "duration": 56,
    "start_time": "2021-08-14T12:21:46.606Z"
   },
   {
    "duration": 44,
    "start_time": "2021-08-14T12:27:43.621Z"
   },
   {
    "duration": 39,
    "start_time": "2021-08-14T12:30:27.231Z"
   },
   {
    "duration": 879,
    "start_time": "2021-08-14T12:30:49.446Z"
   },
   {
    "duration": 52,
    "start_time": "2021-08-14T12:30:51.751Z"
   },
   {
    "duration": 45,
    "start_time": "2021-08-14T12:33:04.799Z"
   },
   {
    "duration": 786,
    "start_time": "2021-08-14T12:33:22.318Z"
   },
   {
    "duration": 53,
    "start_time": "2021-08-14T12:33:24.224Z"
   },
   {
    "duration": 892,
    "start_time": "2021-08-14T12:34:16.349Z"
   },
   {
    "duration": 59,
    "start_time": "2021-08-14T12:34:34.229Z"
   },
   {
    "duration": 864,
    "start_time": "2021-08-14T12:36:50.631Z"
   },
   {
    "duration": 54,
    "start_time": "2021-08-14T12:36:52.336Z"
   },
   {
    "duration": 16,
    "start_time": "2021-08-14T12:36:54.803Z"
   },
   {
    "duration": 30,
    "start_time": "2021-08-14T12:40:44.040Z"
   },
   {
    "duration": 890,
    "start_time": "2021-08-14T12:51:37.747Z"
   },
   {
    "duration": 56,
    "start_time": "2021-08-14T12:51:39.757Z"
   },
   {
    "duration": 30,
    "start_time": "2021-08-14T12:51:42.450Z"
   },
   {
    "duration": 136,
    "start_time": "2021-08-14T12:51:46.321Z"
   },
   {
    "duration": 154,
    "start_time": "2021-08-14T12:55:14.939Z"
   },
   {
    "duration": 160,
    "start_time": "2021-08-14T12:56:16.757Z"
   },
   {
    "duration": 2430,
    "start_time": "2021-08-14T12:59:19.210Z"
   },
   {
    "duration": 61,
    "start_time": "2021-08-14T12:59:21.643Z"
   },
   {
    "duration": 30,
    "start_time": "2021-08-14T12:59:22.190Z"
   },
   {
    "duration": 42,
    "start_time": "2021-08-14T12:59:24.405Z"
   },
   {
    "duration": 58,
    "start_time": "2021-08-14T13:06:17.748Z"
   },
   {
    "duration": 56,
    "start_time": "2021-08-14T13:06:59.264Z"
   },
   {
    "duration": 89,
    "start_time": "2021-08-14T13:11:52.048Z"
   },
   {
    "duration": 871,
    "start_time": "2021-08-14T13:13:45.162Z"
   },
   {
    "duration": 56,
    "start_time": "2021-08-14T13:13:47.094Z"
   },
   {
    "duration": 30,
    "start_time": "2021-08-14T13:13:50.704Z"
   },
   {
    "duration": 139,
    "start_time": "2021-08-14T13:13:52.755Z"
   },
   {
    "duration": 405,
    "start_time": "2021-08-14T13:18:35.091Z"
   },
   {
    "duration": 807,
    "start_time": "2021-08-14T13:18:47.507Z"
   },
   {
    "duration": 54,
    "start_time": "2021-08-14T13:18:49.689Z"
   },
   {
    "duration": 29,
    "start_time": "2021-08-14T13:18:53.972Z"
   },
   {
    "duration": 147,
    "start_time": "2021-08-14T13:18:55.676Z"
   },
   {
    "duration": 4540,
    "start_time": "2021-08-14T13:19:51.828Z"
   },
   {
    "duration": 4468,
    "start_time": "2021-08-14T13:20:18.588Z"
   },
   {
    "duration": 822,
    "start_time": "2021-08-14T13:26:57.403Z"
   },
   {
    "duration": 52,
    "start_time": "2021-08-14T13:26:58.983Z"
   },
   {
    "duration": 29,
    "start_time": "2021-08-14T13:27:00.598Z"
   },
   {
    "duration": 142,
    "start_time": "2021-08-14T13:27:02.147Z"
   },
   {
    "duration": 4536,
    "start_time": "2021-08-14T13:27:05.415Z"
   },
   {
    "duration": 119,
    "start_time": "2021-08-14T13:27:33.024Z"
   },
   {
    "duration": 4563,
    "start_time": "2021-08-14T13:27:39.866Z"
   },
   {
    "duration": 4638,
    "start_time": "2021-08-14T13:27:58.820Z"
   },
   {
    "duration": 856,
    "start_time": "2021-08-14T13:33:02.276Z"
   },
   {
    "duration": 58,
    "start_time": "2021-08-14T13:33:04.688Z"
   },
   {
    "duration": 29,
    "start_time": "2021-08-14T13:33:04.748Z"
   },
   {
    "duration": 147,
    "start_time": "2021-08-14T13:33:06.054Z"
   },
   {
    "duration": 4566,
    "start_time": "2021-08-14T13:33:08.462Z"
   },
   {
    "duration": 4512,
    "start_time": "2021-08-14T13:44:18.814Z"
   },
   {
    "duration": 502,
    "start_time": "2021-08-14T13:44:23.329Z"
   },
   {
    "duration": 82,
    "start_time": "2021-08-14T13:44:54.120Z"
   },
   {
    "duration": 58,
    "start_time": "2021-08-14T13:45:09.886Z"
   },
   {
    "duration": 8,
    "start_time": "2021-08-14T13:47:28.223Z"
   },
   {
    "duration": 807,
    "start_time": "2021-08-14T13:47:49.918Z"
   },
   {
    "duration": 54,
    "start_time": "2021-08-14T13:47:50.939Z"
   },
   {
    "duration": 31,
    "start_time": "2021-08-14T13:47:51.805Z"
   },
   {
    "duration": 140,
    "start_time": "2021-08-14T13:47:52.851Z"
   },
   {
    "duration": 4477,
    "start_time": "2021-08-14T13:47:54.675Z"
   },
   {
    "duration": 449,
    "start_time": "2021-08-14T13:47:59.154Z"
   },
   {
    "duration": 13,
    "start_time": "2021-08-14T13:48:13.946Z"
   },
   {
    "duration": 867,
    "start_time": "2021-08-14T13:48:22.856Z"
   },
   {
    "duration": 52,
    "start_time": "2021-08-14T13:48:23.876Z"
   },
   {
    "duration": 29,
    "start_time": "2021-08-14T13:48:24.626Z"
   },
   {
    "duration": 139,
    "start_time": "2021-08-14T13:48:25.595Z"
   },
   {
    "duration": 4555,
    "start_time": "2021-08-14T13:48:27.375Z"
   },
   {
    "duration": 13,
    "start_time": "2021-08-14T13:48:31.933Z"
   },
   {
    "duration": 8122,
    "start_time": "2021-08-14T13:55:50.428Z"
   },
   {
    "duration": 844,
    "start_time": "2021-08-14T13:56:10.971Z"
   },
   {
    "duration": 55,
    "start_time": "2021-08-14T13:56:11.961Z"
   },
   {
    "duration": 31,
    "start_time": "2021-08-14T13:56:12.668Z"
   },
   {
    "duration": 161,
    "start_time": "2021-08-14T13:56:13.409Z"
   },
   {
    "duration": 4610,
    "start_time": "2021-08-14T13:56:14.380Z"
   },
   {
    "duration": 7620,
    "start_time": "2021-08-14T13:56:18.993Z"
   },
   {
    "duration": 54,
    "start_time": "2021-08-14T13:56:53.851Z"
   },
   {
    "duration": 51,
    "start_time": "2021-08-14T13:57:13.847Z"
   },
   {
    "duration": 407,
    "start_time": "2021-08-14T14:38:25.884Z"
   },
   {
    "duration": 50,
    "start_time": "2021-08-14T14:38:37.939Z"
   },
   {
    "duration": 52,
    "start_time": "2021-08-14T14:48:35.816Z"
   },
   {
    "duration": 60,
    "start_time": "2021-08-14T14:48:51.726Z"
   },
   {
    "duration": 61,
    "start_time": "2021-08-14T14:51:24.377Z"
   },
   {
    "duration": 47,
    "start_time": "2021-08-14T15:01:11.255Z"
   },
   {
    "duration": 836,
    "start_time": "2021-08-14T15:11:26.289Z"
   },
   {
    "duration": 65,
    "start_time": "2021-08-14T15:11:27.133Z"
   },
   {
    "duration": 30,
    "start_time": "2021-08-14T15:11:27.244Z"
   },
   {
    "duration": 145,
    "start_time": "2021-08-14T15:11:27.923Z"
   },
   {
    "duration": 4497,
    "start_time": "2021-08-14T15:11:28.775Z"
   },
   {
    "duration": 116,
    "start_time": "2021-08-14T15:11:33.275Z"
   },
   {
    "duration": 527,
    "start_time": "2021-08-14T15:11:41.284Z"
   },
   {
    "duration": 58,
    "start_time": "2021-08-14T15:12:15.925Z"
   },
   {
    "duration": 808,
    "start_time": "2021-08-14T15:12:48.314Z"
   },
   {
    "duration": 54,
    "start_time": "2021-08-14T15:12:49.509Z"
   },
   {
    "duration": 30,
    "start_time": "2021-08-14T15:12:50.411Z"
   },
   {
    "duration": 153,
    "start_time": "2021-08-14T15:12:51.468Z"
   },
   {
    "duration": 4583,
    "start_time": "2021-08-14T15:12:52.975Z"
   },
   {
    "duration": 57,
    "start_time": "2021-08-14T15:12:57.568Z"
   },
   {
    "duration": 659,
    "start_time": "2021-08-15T05:09:15.736Z"
   },
   {
    "duration": 35,
    "start_time": "2021-08-15T05:09:16.397Z"
   },
   {
    "duration": 24,
    "start_time": "2021-08-15T05:09:16.434Z"
   },
   {
    "duration": 105,
    "start_time": "2021-08-15T05:09:16.460Z"
   },
   {
    "duration": 3374,
    "start_time": "2021-08-15T05:09:16.567Z"
   },
   {
    "duration": 34,
    "start_time": "2021-08-15T05:09:19.943Z"
   },
   {
    "duration": 79,
    "start_time": "2021-08-15T05:09:19.979Z"
   },
   {
    "duration": -692,
    "start_time": "2021-08-15T05:09:20.752Z"
   },
   {
    "duration": -692,
    "start_time": "2021-08-15T05:09:20.753Z"
   },
   {
    "duration": -694,
    "start_time": "2021-08-15T05:09:20.756Z"
   },
   {
    "duration": 812,
    "start_time": "2021-08-19T04:44:27.626Z"
   },
   {
    "duration": 371,
    "start_time": "2021-08-19T05:08:15.211Z"
   },
   {
    "duration": 862,
    "start_time": "2021-08-19T05:08:20.591Z"
   },
   {
    "duration": 5,
    "start_time": "2021-08-19T05:08:23.472Z"
   },
   {
    "duration": 6,
    "start_time": "2021-08-19T05:09:21.220Z"
   },
   {
    "duration": 118,
    "start_time": "2021-08-19T05:09:42.123Z"
   },
   {
    "duration": 5,
    "start_time": "2021-08-19T05:09:43.408Z"
   },
   {
    "duration": 5,
    "start_time": "2021-08-19T05:10:36.731Z"
   },
   {
    "duration": 35,
    "start_time": "2021-08-19T05:11:08.378Z"
   },
   {
    "duration": 36,
    "start_time": "2021-08-19T05:11:34.589Z"
   },
   {
    "duration": 16,
    "start_time": "2021-08-19T05:12:15.886Z"
   },
   {
    "duration": 11,
    "start_time": "2021-08-19T05:14:59.949Z"
   },
   {
    "duration": 377,
    "start_time": "2021-08-19T05:16:19.580Z"
   },
   {
    "duration": 851,
    "start_time": "2021-08-19T05:16:35.673Z"
   },
   {
    "duration": 442,
    "start_time": "2021-08-19T05:16:38.721Z"
   },
   {
    "duration": 1380,
    "start_time": "2021-08-19T05:17:22.071Z"
   },
   {
    "duration": 854,
    "start_time": "2021-08-19T05:17:38.805Z"
   },
   {
    "duration": 421,
    "start_time": "2021-08-19T05:17:42.329Z"
   },
   {
    "duration": 304,
    "start_time": "2021-08-19T05:18:05.375Z"
   },
   {
    "duration": 847,
    "start_time": "2021-08-19T05:18:36.404Z"
   },
   {
    "duration": 59,
    "start_time": "2021-08-19T05:18:39.074Z"
   },
   {
    "duration": 32,
    "start_time": "2021-08-19T05:18:42.733Z"
   },
   {
    "duration": 835,
    "start_time": "2021-08-19T05:37:07.610Z"
   },
   {
    "duration": 54,
    "start_time": "2021-08-19T05:37:10.031Z"
   },
   {
    "duration": 30,
    "start_time": "2021-08-19T05:37:12.542Z"
   },
   {
    "duration": 25,
    "start_time": "2021-08-19T05:38:26.613Z"
   },
   {
    "duration": 23,
    "start_time": "2021-08-19T05:38:35.862Z"
   },
   {
    "duration": 26,
    "start_time": "2021-08-19T05:39:17.499Z"
   },
   {
    "duration": 28,
    "start_time": "2021-08-19T05:41:23.523Z"
   },
   {
    "duration": 29,
    "start_time": "2021-08-19T05:41:54.644Z"
   },
   {
    "duration": 30,
    "start_time": "2021-08-19T05:42:06.119Z"
   },
   {
    "duration": 52,
    "start_time": "2021-08-19T05:48:03.421Z"
   },
   {
    "duration": 48,
    "start_time": "2021-08-19T05:49:02.043Z"
   },
   {
    "duration": 40,
    "start_time": "2021-08-19T05:49:56.054Z"
   },
   {
    "duration": 59,
    "start_time": "2021-08-19T05:50:08.094Z"
   },
   {
    "duration": 101,
    "start_time": "2021-08-19T06:02:13.865Z"
   },
   {
    "duration": 77,
    "start_time": "2021-08-19T06:02:30.489Z"
   },
   {
    "duration": 84,
    "start_time": "2021-08-19T06:02:44.655Z"
   },
   {
    "duration": 91,
    "start_time": "2021-08-19T06:09:26.653Z"
   },
   {
    "duration": 83,
    "start_time": "2021-08-19T06:09:44.148Z"
   },
   {
    "duration": 91,
    "start_time": "2021-08-19T06:11:45.696Z"
   },
   {
    "duration": 95,
    "start_time": "2021-08-19T06:13:53.172Z"
   },
   {
    "duration": 117,
    "start_time": "2021-08-19T06:14:33.831Z"
   },
   {
    "duration": 119,
    "start_time": "2021-08-19T06:14:54.907Z"
   },
   {
    "duration": 848,
    "start_time": "2021-08-19T06:24:39.886Z"
   },
   {
    "duration": 104,
    "start_time": "2021-08-19T06:25:08.426Z"
   },
   {
    "duration": 56,
    "start_time": "2021-08-19T06:26:03.221Z"
   },
   {
    "duration": 43,
    "start_time": "2021-08-19T06:26:12.614Z"
   },
   {
    "duration": 43,
    "start_time": "2021-08-19T06:26:21.974Z"
   },
   {
    "duration": 49,
    "start_time": "2021-08-19T06:26:31.928Z"
   },
   {
    "duration": 856,
    "start_time": "2021-08-19T06:26:46.003Z"
   },
   {
    "duration": 58,
    "start_time": "2021-08-19T06:26:49.972Z"
   },
   {
    "duration": 60,
    "start_time": "2021-08-19T06:27:26.862Z"
   },
   {
    "duration": 32,
    "start_time": "2021-08-19T06:27:38.536Z"
   },
   {
    "duration": 858,
    "start_time": "2021-08-19T06:27:47.041Z"
   },
   {
    "duration": 47,
    "start_time": "2021-08-19T06:27:50.722Z"
   },
   {
    "duration": 45,
    "start_time": "2021-08-19T06:31:28.281Z"
   },
   {
    "duration": 62,
    "start_time": "2021-08-19T06:33:05.654Z"
   },
   {
    "duration": 568,
    "start_time": "2021-08-19T06:38:18.944Z"
   },
   {
    "duration": 919,
    "start_time": "2021-08-19T06:38:39.166Z"
   },
   {
    "duration": 69,
    "start_time": "2021-08-19T06:38:42.383Z"
   },
   {
    "duration": 31,
    "start_time": "2021-08-19T06:38:45.699Z"
   },
   {
    "duration": 386,
    "start_time": "2021-08-19T06:46:02.456Z"
   },
   {
    "duration": 954,
    "start_time": "2021-08-19T06:46:16.812Z"
   },
   {
    "duration": 76,
    "start_time": "2021-08-19T06:46:18.236Z"
   },
   {
    "duration": 33,
    "start_time": "2021-08-19T06:47:51.359Z"
   },
   {
    "duration": 395,
    "start_time": "2021-08-19T06:48:09.245Z"
   },
   {
    "duration": 10,
    "start_time": "2021-08-19T06:48:21.789Z"
   },
   {
    "duration": 8,
    "start_time": "2021-08-19T06:48:55.784Z"
   },
   {
    "duration": 9,
    "start_time": "2021-08-19T06:49:44.026Z"
   },
   {
    "duration": 17,
    "start_time": "2021-08-19T06:52:14.642Z"
   },
   {
    "duration": 28,
    "start_time": "2021-08-19T06:54:54.937Z"
   },
   {
    "duration": 31,
    "start_time": "2021-08-19T06:58:13.029Z"
   },
   {
    "duration": 30,
    "start_time": "2021-08-19T06:58:28.031Z"
   },
   {
    "duration": 33,
    "start_time": "2021-08-19T07:02:25.422Z"
   },
   {
    "duration": 61,
    "start_time": "2021-08-19T07:04:47.176Z"
   },
   {
    "duration": 94,
    "start_time": "2021-08-19T07:06:30.587Z"
   },
   {
    "duration": 72,
    "start_time": "2021-08-19T07:07:22.790Z"
   },
   {
    "duration": 73,
    "start_time": "2021-08-19T07:08:27.737Z"
   },
   {
    "duration": 872,
    "start_time": "2021-08-19T07:13:55.862Z"
   },
   {
    "duration": 80,
    "start_time": "2021-08-19T07:13:57.868Z"
   },
   {
    "duration": 39,
    "start_time": "2021-08-19T07:14:00.591Z"
   },
   {
    "duration": 107,
    "start_time": "2021-08-19T07:14:01.935Z"
   },
   {
    "duration": 1315,
    "start_time": "2021-08-19T07:32:29.526Z"
   },
   {
    "duration": 309,
    "start_time": "2021-08-19T07:32:52.826Z"
   },
   {
    "duration": 969,
    "start_time": "2021-08-19T07:33:10.887Z"
   },
   {
    "duration": 65,
    "start_time": "2021-08-19T07:33:12.926Z"
   },
   {
    "duration": 31,
    "start_time": "2021-08-19T07:33:15.519Z"
   },
   {
    "duration": 133,
    "start_time": "2021-08-19T07:33:24.616Z"
   },
   {
    "duration": 1261,
    "start_time": "2021-08-19T07:33:27.454Z"
   },
   {
    "duration": 7,
    "start_time": "2021-08-19T07:35:32.033Z"
   },
   {
    "duration": 4922,
    "start_time": "2021-08-19T07:38:39.669Z"
   },
   {
    "duration": 692,
    "start_time": "2021-08-19T09:31:59.900Z"
   },
   {
    "duration": 47,
    "start_time": "2021-08-19T09:32:01.440Z"
   },
   {
    "duration": 21,
    "start_time": "2021-08-19T09:32:02.498Z"
   },
   {
    "duration": 87,
    "start_time": "2021-08-19T09:32:04.092Z"
   },
   {
    "duration": 3919,
    "start_time": "2021-08-19T09:32:07.306Z"
   },
   {
    "duration": 30,
    "start_time": "2021-08-19T09:46:44.536Z"
   },
   {
    "duration": 18,
    "start_time": "2021-08-19T09:49:48.047Z"
   },
   {
    "duration": 26,
    "start_time": "2021-08-19T09:56:33.543Z"
   },
   {
    "duration": 5,
    "start_time": "2021-08-19T09:57:02.967Z"
   },
   {
    "duration": 358,
    "start_time": "2021-08-19T09:58:41.153Z"
   },
   {
    "duration": 29,
    "start_time": "2021-08-19T09:58:58.787Z"
   },
   {
    "duration": 4,
    "start_time": "2021-08-19T09:59:04.726Z"
   },
   {
    "duration": 5,
    "start_time": "2021-08-19T10:00:49.437Z"
   },
   {
    "duration": 6,
    "start_time": "2021-08-19T10:01:49.025Z"
   },
   {
    "duration": 42,
    "start_time": "2021-08-19T10:01:58.326Z"
   },
   {
    "duration": 6,
    "start_time": "2021-08-19T10:02:01.421Z"
   },
   {
    "duration": 5,
    "start_time": "2021-08-19T10:02:04.159Z"
   },
   {
    "duration": 4,
    "start_time": "2021-08-19T10:03:00.725Z"
   },
   {
    "duration": 4,
    "start_time": "2021-08-19T10:03:25.210Z"
   },
   {
    "duration": 772,
    "start_time": "2021-08-19T10:04:00.384Z"
   },
   {
    "duration": 44,
    "start_time": "2021-08-19T10:04:01.966Z"
   },
   {
    "duration": 22,
    "start_time": "2021-08-19T10:04:03.125Z"
   },
   {
    "duration": 87,
    "start_time": "2021-08-19T10:04:04.150Z"
   },
   {
    "duration": 4210,
    "start_time": "2021-08-19T10:04:05.716Z"
   },
   {
    "duration": 43,
    "start_time": "2021-08-19T10:04:09.928Z"
   },
   {
    "duration": 4,
    "start_time": "2021-08-19T10:04:09.973Z"
   },
   {
    "duration": 11,
    "start_time": "2021-08-19T10:04:09.978Z"
   },
   {
    "duration": 5,
    "start_time": "2021-08-19T10:04:10.202Z"
   },
   {
    "duration": 5,
    "start_time": "2021-08-19T10:04:10.956Z"
   },
   {
    "duration": 858,
    "start_time": "2021-08-20T09:39:36.638Z"
   },
   {
    "duration": 82,
    "start_time": "2021-08-20T09:39:39.474Z"
   },
   {
    "duration": 31,
    "start_time": "2021-08-20T09:39:40.801Z"
   },
   {
    "duration": 122,
    "start_time": "2021-08-20T09:39:41.684Z"
   },
   {
    "duration": 5349,
    "start_time": "2021-08-20T09:39:43.149Z"
   },
   {
    "duration": 65,
    "start_time": "2021-08-20T09:39:48.501Z"
   },
   {
    "duration": 6,
    "start_time": "2021-08-20T09:39:48.569Z"
   },
   {
    "duration": 12,
    "start_time": "2021-08-20T09:39:48.578Z"
   },
   {
    "duration": 17,
    "start_time": "2021-08-20T09:39:48.592Z"
   },
   {
    "duration": 10,
    "start_time": "2021-08-20T09:39:48.611Z"
   },
   {
    "duration": 831,
    "start_time": "2021-08-20T16:07:18.987Z"
   },
   {
    "duration": 85,
    "start_time": "2021-08-20T16:07:19.821Z"
   },
   {
    "duration": 63,
    "start_time": "2021-08-20T16:07:19.909Z"
   },
   {
    "duration": 160,
    "start_time": "2021-08-20T16:07:19.975Z"
   },
   {
    "duration": 5923,
    "start_time": "2021-08-20T16:07:20.138Z"
   },
   {
    "duration": 57,
    "start_time": "2021-08-20T16:07:26.065Z"
   },
   {
    "duration": 7,
    "start_time": "2021-08-20T16:07:26.125Z"
   },
   {
    "duration": 7,
    "start_time": "2021-08-20T16:07:26.164Z"
   },
   {
    "duration": 9,
    "start_time": "2021-08-20T16:07:26.174Z"
   },
   {
    "duration": 9,
    "start_time": "2021-08-20T16:07:26.186Z"
   },
   {
    "duration": 633,
    "start_time": "2021-08-21T08:04:18.570Z"
   },
   {
    "duration": 50,
    "start_time": "2021-08-21T08:04:19.205Z"
   },
   {
    "duration": 21,
    "start_time": "2021-08-21T08:04:19.257Z"
   },
   {
    "duration": 106,
    "start_time": "2021-08-21T08:04:19.280Z"
   },
   {
    "duration": 3864,
    "start_time": "2021-08-21T08:04:19.388Z"
   },
   {
    "duration": 39,
    "start_time": "2021-08-21T08:04:23.254Z"
   },
   {
    "duration": 5,
    "start_time": "2021-08-21T08:04:23.294Z"
   },
   {
    "duration": 6,
    "start_time": "2021-08-21T08:04:23.301Z"
   },
   {
    "duration": 5,
    "start_time": "2021-08-21T08:04:23.309Z"
   },
   {
    "duration": 28,
    "start_time": "2021-08-21T08:04:23.315Z"
   },
   {
    "duration": 731,
    "start_time": "2022-04-24T07:02:45.250Z"
   },
   {
    "duration": 556,
    "start_time": "2022-04-30T07:15:08.294Z"
   },
   {
    "duration": 3,
    "start_time": "2022-04-30T10:43:10.079Z"
   },
   {
    "duration": 68,
    "start_time": "2022-04-30T10:43:12.284Z"
   },
   {
    "duration": 23,
    "start_time": "2022-04-30T10:43:12.818Z"
   },
   {
    "duration": 15,
    "start_time": "2022-04-30T10:43:13.365Z"
   },
   {
    "duration": 19,
    "start_time": "2022-04-30T10:43:13.996Z"
   },
   {
    "duration": 11,
    "start_time": "2022-04-30T10:44:27.443Z"
   },
   {
    "duration": 443,
    "start_time": "2022-04-30T11:23:05.793Z"
   },
   {
    "duration": 61,
    "start_time": "2022-04-30T11:23:06.238Z"
   },
   {
    "duration": 17,
    "start_time": "2022-04-30T11:23:06.750Z"
   },
   {
    "duration": 21,
    "start_time": "2022-04-30T11:23:07.091Z"
   },
   {
    "duration": 13,
    "start_time": "2022-04-30T11:23:07.807Z"
   },
   {
    "duration": 12,
    "start_time": "2022-04-30T11:23:10.228Z"
   },
   {
    "duration": 27,
    "start_time": "2022-04-30T11:23:10.829Z"
   },
   {
    "duration": 8,
    "start_time": "2022-04-30T11:23:11.731Z"
   },
   {
    "duration": 8,
    "start_time": "2022-04-30T11:23:13.346Z"
   },
   {
    "duration": 4,
    "start_time": "2022-04-30T11:23:14.054Z"
   },
   {
    "duration": 3,
    "start_time": "2022-04-30T11:23:28.130Z"
   },
   {
    "duration": 12,
    "start_time": "2022-04-30T11:24:11.624Z"
   },
   {
    "duration": 63,
    "start_time": "2022-04-30T11:24:40.522Z"
   },
   {
    "duration": 33,
    "start_time": "2022-04-30T11:24:48.496Z"
   },
   {
    "duration": 31,
    "start_time": "2022-04-30T11:25:09.712Z"
   },
   {
    "duration": 8,
    "start_time": "2022-04-30T11:25:43.588Z"
   },
   {
    "duration": 7,
    "start_time": "2022-04-30T11:25:52.580Z"
   },
   {
    "duration": 6,
    "start_time": "2022-04-30T11:26:05.603Z"
   },
   {
    "duration": 5,
    "start_time": "2022-04-30T11:26:24.754Z"
   },
   {
    "duration": 6,
    "start_time": "2022-04-30T11:26:32.236Z"
   },
   {
    "duration": 22,
    "start_time": "2022-04-30T11:26:52.925Z"
   },
   {
    "duration": 6,
    "start_time": "2022-04-30T11:27:22.806Z"
   },
   {
    "duration": 7,
    "start_time": "2022-04-30T11:29:59.534Z"
   },
   {
    "duration": 6,
    "start_time": "2022-04-30T11:30:06.688Z"
   },
   {
    "duration": 5,
    "start_time": "2022-04-30T11:30:33.842Z"
   },
   {
    "duration": 8,
    "start_time": "2022-04-30T11:31:33.499Z"
   },
   {
    "duration": 6,
    "start_time": "2022-04-30T11:31:40.936Z"
   },
   {
    "duration": 7,
    "start_time": "2022-04-30T11:31:50.381Z"
   },
   {
    "duration": 5,
    "start_time": "2022-04-30T11:32:15.064Z"
   },
   {
    "duration": 6,
    "start_time": "2022-04-30T11:33:24.834Z"
   },
   {
    "duration": 7,
    "start_time": "2022-04-30T11:35:11.690Z"
   },
   {
    "duration": 8,
    "start_time": "2022-04-30T11:35:12.392Z"
   },
   {
    "duration": 10,
    "start_time": "2022-04-30T11:35:39.272Z"
   },
   {
    "duration": 10,
    "start_time": "2022-04-30T11:35:45.534Z"
   },
   {
    "duration": 5,
    "start_time": "2022-04-30T11:35:46.335Z"
   },
   {
    "duration": 6,
    "start_time": "2022-04-30T11:35:51.798Z"
   },
   {
    "duration": 6,
    "start_time": "2022-04-30T11:36:01.800Z"
   },
   {
    "duration": 6,
    "start_time": "2022-04-30T11:36:06.528Z"
   },
   {
    "duration": 5,
    "start_time": "2022-04-30T11:36:49.217Z"
   },
   {
    "duration": 6,
    "start_time": "2022-04-30T11:36:57.230Z"
   },
   {
    "duration": 6,
    "start_time": "2022-04-30T11:37:23.095Z"
   },
   {
    "duration": 6,
    "start_time": "2022-04-30T11:37:51.079Z"
   },
   {
    "duration": 6,
    "start_time": "2022-04-30T11:38:02.732Z"
   },
   {
    "duration": 5,
    "start_time": "2022-04-30T11:38:13.575Z"
   },
   {
    "duration": 7,
    "start_time": "2022-04-30T11:38:39.551Z"
   },
   {
    "duration": 5,
    "start_time": "2022-04-30T11:38:46.429Z"
   },
   {
    "duration": 5,
    "start_time": "2022-04-30T11:39:30.926Z"
   },
   {
    "duration": 7,
    "start_time": "2022-04-30T11:39:45.942Z"
   },
   {
    "duration": 11,
    "start_time": "2022-04-30T11:42:16.351Z"
   },
   {
    "duration": 8,
    "start_time": "2022-04-30T11:42:34.501Z"
   },
   {
    "duration": 4,
    "start_time": "2022-04-30T11:53:28.743Z"
   },
   {
    "duration": 408,
    "start_time": "2022-04-30T11:55:16.239Z"
   },
   {
    "duration": 67,
    "start_time": "2022-04-30T11:55:16.649Z"
   },
   {
    "duration": 18,
    "start_time": "2022-04-30T11:55:16.718Z"
   },
   {
    "duration": 21,
    "start_time": "2022-04-30T11:55:16.917Z"
   },
   {
    "duration": 13,
    "start_time": "2022-04-30T11:55:17.145Z"
   },
   {
    "duration": 12,
    "start_time": "2022-04-30T11:55:18.482Z"
   },
   {
    "duration": 27,
    "start_time": "2022-04-30T11:55:18.627Z"
   },
   {
    "duration": 7,
    "start_time": "2022-04-30T11:55:18.712Z"
   },
   {
    "duration": 3,
    "start_time": "2022-04-30T11:55:18.884Z"
   },
   {
    "duration": 8,
    "start_time": "2022-04-30T11:55:18.965Z"
   },
   {
    "duration": 4,
    "start_time": "2022-04-30T11:55:19.702Z"
   },
   {
    "duration": 11,
    "start_time": "2022-04-30T11:55:20.338Z"
   },
   {
    "duration": 8,
    "start_time": "2022-04-30T11:55:21.014Z"
   },
   {
    "duration": 8,
    "start_time": "2022-04-30T11:55:24.353Z"
   },
   {
    "duration": 6,
    "start_time": "2022-04-30T11:55:33.354Z"
   },
   {
    "duration": 3,
    "start_time": "2022-04-30T11:55:34.979Z"
   },
   {
    "duration": 5,
    "start_time": "2022-04-30T11:55:39.777Z"
   },
   {
    "duration": 5,
    "start_time": "2022-04-30T11:55:40.244Z"
   },
   {
    "duration": 9,
    "start_time": "2022-04-30T11:58:45.582Z"
   },
   {
    "duration": 8,
    "start_time": "2022-04-30T11:59:07.467Z"
   },
   {
    "duration": 7,
    "start_time": "2022-04-30T12:01:17.165Z"
   },
   {
    "duration": 4,
    "start_time": "2022-04-30T12:01:17.888Z"
   },
   {
    "duration": 16,
    "start_time": "2022-04-30T12:03:28.123Z"
   },
   {
    "duration": 420,
    "start_time": "2022-04-30T12:05:10.113Z"
   },
   {
    "duration": 62,
    "start_time": "2022-04-30T12:05:10.610Z"
   },
   {
    "duration": 17,
    "start_time": "2022-04-30T12:05:10.710Z"
   },
   {
    "duration": 20,
    "start_time": "2022-04-30T12:05:10.777Z"
   },
   {
    "duration": 13,
    "start_time": "2022-04-30T12:05:10.863Z"
   },
   {
    "duration": 11,
    "start_time": "2022-04-30T12:05:11.282Z"
   },
   {
    "duration": 25,
    "start_time": "2022-04-30T12:05:11.450Z"
   },
   {
    "duration": 7,
    "start_time": "2022-04-30T12:05:11.535Z"
   },
   {
    "duration": 4,
    "start_time": "2022-04-30T12:05:11.703Z"
   },
   {
    "duration": 7,
    "start_time": "2022-04-30T12:05:11.785Z"
   },
   {
    "duration": 3,
    "start_time": "2022-04-30T12:05:12.121Z"
   },
   {
    "duration": 11,
    "start_time": "2022-04-30T12:05:12.622Z"
   },
   {
    "duration": 8,
    "start_time": "2022-04-30T12:05:12.790Z"
   },
   {
    "duration": 5,
    "start_time": "2022-04-30T12:05:12.877Z"
   },
   {
    "duration": 6,
    "start_time": "2022-04-30T12:05:12.959Z"
   },
   {
    "duration": 4,
    "start_time": "2022-04-30T12:05:13.043Z"
   },
   {
    "duration": 5,
    "start_time": "2022-04-30T12:05:13.208Z"
   },
   {
    "duration": 6,
    "start_time": "2022-04-30T12:05:13.458Z"
   },
   {
    "duration": 7,
    "start_time": "2022-04-30T12:05:13.958Z"
   },
   {
    "duration": 4,
    "start_time": "2022-04-30T12:05:14.040Z"
   },
   {
    "duration": 16,
    "start_time": "2022-04-30T12:05:14.464Z"
   },
   {
    "duration": 4,
    "start_time": "2022-04-30T12:05:14.966Z"
   },
   {
    "duration": 15,
    "start_time": "2022-04-30T12:05:15.060Z"
   },
   {
    "duration": 89,
    "start_time": "2022-04-30T12:05:15.303Z"
   },
   {
    "duration": 390,
    "start_time": "2022-04-30T12:08:02.746Z"
   },
   {
    "duration": 62,
    "start_time": "2022-04-30T12:08:03.246Z"
   },
   {
    "duration": 17,
    "start_time": "2022-04-30T12:08:03.329Z"
   },
   {
    "duration": 20,
    "start_time": "2022-04-30T12:08:03.423Z"
   },
   {
    "duration": 13,
    "start_time": "2022-04-30T12:08:03.500Z"
   },
   {
    "duration": 12,
    "start_time": "2022-04-30T12:08:03.915Z"
   },
   {
    "duration": 28,
    "start_time": "2022-04-30T12:08:04.085Z"
   },
   {
    "duration": 9,
    "start_time": "2022-04-30T12:08:04.166Z"
   },
   {
    "duration": 5,
    "start_time": "2022-04-30T12:08:04.765Z"
   },
   {
    "duration": 9,
    "start_time": "2022-04-30T12:08:04.772Z"
   },
   {
    "duration": 4,
    "start_time": "2022-04-30T12:08:04.783Z"
   },
   {
    "duration": 12,
    "start_time": "2022-04-30T12:08:04.789Z"
   },
   {
    "duration": 7,
    "start_time": "2022-04-30T12:08:04.839Z"
   },
   {
    "duration": 7,
    "start_time": "2022-04-30T12:08:04.925Z"
   },
   {
    "duration": 7,
    "start_time": "2022-04-30T12:08:05.005Z"
   },
   {
    "duration": 5,
    "start_time": "2022-04-30T12:08:05.088Z"
   },
   {
    "duration": 5,
    "start_time": "2022-04-30T12:08:05.258Z"
   },
   {
    "duration": 6,
    "start_time": "2022-04-30T12:08:05.343Z"
   },
   {
    "duration": 8,
    "start_time": "2022-04-30T12:08:05.422Z"
   },
   {
    "duration": 5,
    "start_time": "2022-04-30T12:08:05.507Z"
   },
   {
    "duration": 16,
    "start_time": "2022-04-30T12:08:06.494Z"
   },
   {
    "duration": 4,
    "start_time": "2022-04-30T12:08:06.663Z"
   },
   {
    "duration": 5,
    "start_time": "2022-04-30T12:08:06.992Z"
   },
   {
    "duration": 15,
    "start_time": "2022-04-30T12:08:07.508Z"
   },
   {
    "duration": 5,
    "start_time": "2022-04-30T12:08:35.887Z"
   },
   {
    "duration": 6,
    "start_time": "2022-04-30T12:08:56.477Z"
   },
   {
    "duration": 8,
    "start_time": "2022-04-30T12:09:07.487Z"
   },
   {
    "duration": 5,
    "start_time": "2022-04-30T12:09:26.734Z"
   },
   {
    "duration": 7,
    "start_time": "2022-04-30T12:09:45.975Z"
   },
   {
    "duration": 7,
    "start_time": "2022-04-30T12:22:05.048Z"
   },
   {
    "duration": 6,
    "start_time": "2022-04-30T12:22:16.237Z"
   },
   {
    "duration": 5,
    "start_time": "2022-04-30T12:23:07.812Z"
   },
   {
    "duration": 6,
    "start_time": "2022-04-30T12:23:20.634Z"
   },
   {
    "duration": 450,
    "start_time": "2022-04-30T12:25:04.790Z"
   },
   {
    "duration": 69,
    "start_time": "2022-04-30T12:25:05.288Z"
   },
   {
    "duration": 18,
    "start_time": "2022-04-30T12:25:05.373Z"
   },
   {
    "duration": 21,
    "start_time": "2022-04-30T12:25:05.458Z"
   },
   {
    "duration": 12,
    "start_time": "2022-04-30T12:25:05.541Z"
   },
   {
    "duration": 11,
    "start_time": "2022-04-30T12:25:05.961Z"
   },
   {
    "duration": 24,
    "start_time": "2022-04-30T12:25:06.132Z"
   },
   {
    "duration": 7,
    "start_time": "2022-04-30T12:25:06.212Z"
   },
   {
    "duration": 4,
    "start_time": "2022-04-30T12:25:06.380Z"
   },
   {
    "duration": 7,
    "start_time": "2022-04-30T12:25:06.465Z"
   },
   {
    "duration": 3,
    "start_time": "2022-04-30T12:25:06.633Z"
   },
   {
    "duration": 10,
    "start_time": "2022-04-30T12:25:06.718Z"
   },
   {
    "duration": 7,
    "start_time": "2022-04-30T12:25:06.889Z"
   },
   {
    "duration": 6,
    "start_time": "2022-04-30T12:25:06.965Z"
   },
   {
    "duration": 6,
    "start_time": "2022-04-30T12:25:07.050Z"
   },
   {
    "duration": 4,
    "start_time": "2022-04-30T12:25:07.133Z"
   },
   {
    "duration": 5,
    "start_time": "2022-04-30T12:25:07.302Z"
   },
   {
    "duration": 7,
    "start_time": "2022-04-30T12:25:07.820Z"
   },
   {
    "duration": 8,
    "start_time": "2022-04-30T12:25:08.320Z"
   },
   {
    "duration": 4,
    "start_time": "2022-04-30T12:25:08.402Z"
   },
   {
    "duration": 17,
    "start_time": "2022-04-30T12:25:08.655Z"
   },
   {
    "duration": 4,
    "start_time": "2022-04-30T12:25:09.477Z"
   },
   {
    "duration": 5,
    "start_time": "2022-04-30T12:25:09.559Z"
   },
   {
    "duration": 17,
    "start_time": "2022-04-30T12:25:09.642Z"
   },
   {
    "duration": 5,
    "start_time": "2022-04-30T12:25:10.557Z"
   },
   {
    "duration": 4,
    "start_time": "2022-04-30T12:25:10.646Z"
   },
   {
    "duration": 6,
    "start_time": "2022-04-30T12:25:10.725Z"
   },
   {
    "duration": 8,
    "start_time": "2022-04-30T12:25:11.071Z"
   },
   {
    "duration": 7,
    "start_time": "2022-04-30T12:25:11.563Z"
   },
   {
    "duration": 6,
    "start_time": "2022-04-30T12:25:11.836Z"
   },
   {
    "duration": 7,
    "start_time": "2022-04-30T12:25:12.086Z"
   },
   {
    "duration": 5,
    "start_time": "2022-04-30T12:25:12.494Z"
   },
   {
    "duration": 7,
    "start_time": "2022-04-30T12:25:12.634Z"
   },
   {
    "duration": 17,
    "start_time": "2022-04-30T12:25:13.124Z"
   },
   {
    "duration": 17,
    "start_time": "2022-04-30T12:25:13.836Z"
   },
   {
    "duration": 21,
    "start_time": "2022-04-30T12:25:14.102Z"
   },
   {
    "duration": 17,
    "start_time": "2022-04-30T12:25:14.364Z"
   },
   {
    "duration": 12,
    "start_time": "2022-04-30T12:26:17.996Z"
   },
   {
    "duration": 19,
    "start_time": "2022-04-30T12:26:18.594Z"
   },
   {
    "duration": 19,
    "start_time": "2022-04-30T12:26:20.029Z"
   },
   {
    "duration": 17,
    "start_time": "2022-04-30T12:26:20.552Z"
   },
   {
    "duration": 16,
    "start_time": "2022-04-30T12:26:25.491Z"
   },
   {
    "duration": 20,
    "start_time": "2022-04-30T12:26:26.214Z"
   },
   {
    "duration": 18,
    "start_time": "2022-04-30T12:26:26.725Z"
   },
   {
    "duration": 7,
    "start_time": "2022-04-30T12:32:50.076Z"
   },
   {
    "duration": 6,
    "start_time": "2022-04-30T12:33:53.849Z"
   },
   {
    "duration": 6,
    "start_time": "2022-04-30T12:33:57.329Z"
   },
   {
    "duration": 1290,
    "start_time": "2022-04-30T12:34:57.459Z"
   },
   {
    "duration": 58,
    "start_time": "2022-04-30T12:34:58.751Z"
   },
   {
    "duration": 16,
    "start_time": "2022-04-30T12:34:58.811Z"
   },
   {
    "duration": 19,
    "start_time": "2022-04-30T12:34:58.829Z"
   },
   {
    "duration": 14,
    "start_time": "2022-04-30T12:34:58.850Z"
   },
   {
    "duration": 11,
    "start_time": "2022-04-30T12:34:59.652Z"
   },
   {
    "duration": 24,
    "start_time": "2022-04-30T12:35:00.138Z"
   },
   {
    "duration": 7,
    "start_time": "2022-04-30T12:35:00.369Z"
   },
   {
    "duration": 4,
    "start_time": "2022-04-30T12:35:00.876Z"
   },
   {
    "duration": 7,
    "start_time": "2022-04-30T12:35:01.121Z"
   },
   {
    "duration": 4,
    "start_time": "2022-04-30T12:35:01.637Z"
   },
   {
    "duration": 11,
    "start_time": "2022-04-30T12:35:01.895Z"
   },
   {
    "duration": 8,
    "start_time": "2022-04-30T12:35:02.385Z"
   },
   {
    "duration": 6,
    "start_time": "2022-04-30T12:35:02.661Z"
   },
   {
    "duration": 6,
    "start_time": "2022-04-30T12:35:02.932Z"
   },
   {
    "duration": 4,
    "start_time": "2022-04-30T12:35:03.169Z"
   },
   {
    "duration": 6,
    "start_time": "2022-04-30T12:35:03.680Z"
   },
   {
    "duration": 7,
    "start_time": "2022-04-30T12:35:03.931Z"
   },
   {
    "duration": 7,
    "start_time": "2022-04-30T12:35:04.189Z"
   },
   {
    "duration": 4,
    "start_time": "2022-04-30T12:35:04.460Z"
   },
   {
    "duration": 16,
    "start_time": "2022-04-30T12:35:05.582Z"
   },
   {
    "duration": 4,
    "start_time": "2022-04-30T12:35:06.301Z"
   },
   {
    "duration": 5,
    "start_time": "2022-04-30T12:35:06.597Z"
   },
   {
    "duration": 17,
    "start_time": "2022-04-30T12:35:06.881Z"
   },
   {
    "duration": 7,
    "start_time": "2022-04-30T12:35:08.216Z"
   },
   {
    "duration": 5,
    "start_time": "2022-04-30T12:35:08.529Z"
   },
   {
    "duration": 7,
    "start_time": "2022-04-30T12:35:08.736Z"
   },
   {
    "duration": 8,
    "start_time": "2022-04-30T12:35:09.239Z"
   },
   {
    "duration": 7,
    "start_time": "2022-04-30T12:35:09.321Z"
   },
   {
    "duration": 13,
    "start_time": "2022-04-30T12:35:09.404Z"
   },
   {
    "duration": 7,
    "start_time": "2022-04-30T12:35:09.490Z"
   },
   {
    "duration": 7,
    "start_time": "2022-04-30T12:35:09.576Z"
   },
   {
    "duration": 5,
    "start_time": "2022-04-30T12:35:09.659Z"
   },
   {
    "duration": 7,
    "start_time": "2022-04-30T12:35:09.754Z"
   },
   {
    "duration": 23,
    "start_time": "2022-04-30T12:35:10.204Z"
   },
   {
    "duration": 21,
    "start_time": "2022-04-30T12:35:10.708Z"
   },
   {
    "duration": 19,
    "start_time": "2022-04-30T12:35:10.974Z"
   },
   {
    "duration": 6,
    "start_time": "2022-04-30T12:35:12.257Z"
   },
   {
    "duration": 3592,
    "start_time": "2022-04-30T12:35:13.382Z"
   },
   {
    "duration": 7,
    "start_time": "2022-04-30T12:35:16.977Z"
   },
   {
    "duration": 21,
    "start_time": "2022-04-30T12:35:35.063Z"
   },
   {
    "duration": 1284,
    "start_time": "2022-04-30T12:38:50.855Z"
   },
   {
    "duration": 57,
    "start_time": "2022-04-30T12:38:52.141Z"
   },
   {
    "duration": 19,
    "start_time": "2022-04-30T12:38:52.200Z"
   },
   {
    "duration": 21,
    "start_time": "2022-04-30T12:38:52.221Z"
   },
   {
    "duration": 13,
    "start_time": "2022-04-30T12:38:52.243Z"
   },
   {
    "duration": 13,
    "start_time": "2022-04-30T12:38:52.257Z"
   },
   {
    "duration": 54,
    "start_time": "2022-04-30T12:38:52.272Z"
   },
   {
    "duration": 6,
    "start_time": "2022-04-30T12:38:52.328Z"
   },
   {
    "duration": 4,
    "start_time": "2022-04-30T12:38:52.676Z"
   },
   {
    "duration": 8,
    "start_time": "2022-04-30T12:38:53.174Z"
   },
   {
    "duration": 4,
    "start_time": "2022-04-30T12:38:53.342Z"
   },
   {
    "duration": 11,
    "start_time": "2022-04-30T12:38:53.426Z"
   },
   {
    "duration": 8,
    "start_time": "2022-04-30T12:38:53.592Z"
   },
   {
    "duration": 7,
    "start_time": "2022-04-30T12:38:53.675Z"
   },
   {
    "duration": 7,
    "start_time": "2022-04-30T12:38:53.760Z"
   },
   {
    "duration": 4,
    "start_time": "2022-04-30T12:38:53.844Z"
   },
   {
    "duration": 6,
    "start_time": "2022-04-30T12:38:54.013Z"
   },
   {
    "duration": 6,
    "start_time": "2022-04-30T12:38:54.096Z"
   },
   {
    "duration": 8,
    "start_time": "2022-04-30T12:38:54.189Z"
   },
   {
    "duration": 4,
    "start_time": "2022-04-30T12:38:54.267Z"
   },
   {
    "duration": 16,
    "start_time": "2022-04-30T12:38:54.519Z"
   },
   {
    "duration": 4,
    "start_time": "2022-04-30T12:38:55.273Z"
   },
   {
    "duration": 4,
    "start_time": "2022-04-30T12:38:55.358Z"
   },
   {
    "duration": 15,
    "start_time": "2022-04-30T12:38:55.439Z"
   },
   {
    "duration": 5,
    "start_time": "2022-04-30T12:38:55.693Z"
   },
   {
    "duration": 4,
    "start_time": "2022-04-30T12:38:55.914Z"
   },
   {
    "duration": 7,
    "start_time": "2022-04-30T12:38:55.920Z"
   },
   {
    "duration": 7,
    "start_time": "2022-04-30T12:38:55.945Z"
   },
   {
    "duration": 7,
    "start_time": "2022-04-30T12:38:56.027Z"
   },
   {
    "duration": 11,
    "start_time": "2022-04-30T12:38:56.341Z"
   },
   {
    "duration": 6,
    "start_time": "2022-04-30T12:38:56.843Z"
   },
   {
    "duration": 7,
    "start_time": "2022-04-30T12:38:56.930Z"
   },
   {
    "duration": 6,
    "start_time": "2022-04-30T12:38:57.010Z"
   },
   {
    "duration": 7,
    "start_time": "2022-04-30T12:38:57.095Z"
   },
   {
    "duration": 18,
    "start_time": "2022-04-30T12:38:57.180Z"
   },
   {
    "duration": 20,
    "start_time": "2022-04-30T12:38:57.258Z"
   },
   {
    "duration": 17,
    "start_time": "2022-04-30T12:38:57.533Z"
   },
   {
    "duration": 6,
    "start_time": "2022-04-30T12:38:58.871Z"
   },
   {
    "duration": 3305,
    "start_time": "2022-04-30T12:39:00.389Z"
   },
   {
    "duration": 20,
    "start_time": "2022-04-30T12:39:03.707Z"
   },
   {
    "duration": 6,
    "start_time": "2022-04-30T12:41:04.559Z"
   },
   {
    "duration": 3,
    "start_time": "2022-04-30T12:42:09.548Z"
   },
   {
    "duration": 541,
    "start_time": "2022-04-30T12:42:10.666Z"
   },
   {
    "duration": 3,
    "start_time": "2022-04-30T12:42:33.751Z"
   },
   {
    "duration": 18,
    "start_time": "2022-04-30T12:42:34.343Z"
   },
   {
    "duration": 4,
    "start_time": "2022-04-30T12:42:36.134Z"
   },
   {
    "duration": 20,
    "start_time": "2022-04-30T12:42:36.918Z"
   },
   {
    "duration": 5,
    "start_time": "2022-04-30T12:42:57.734Z"
   },
   {
    "duration": 3389,
    "start_time": "2022-04-30T12:43:00.501Z"
   },
   {
    "duration": 16,
    "start_time": "2022-04-30T12:43:03.893Z"
   },
   {
    "duration": 17,
    "start_time": "2022-04-30T12:43:03.911Z"
   },
   {
    "duration": 45,
    "start_time": "2022-04-30T12:43:03.930Z"
   },
   {
    "duration": 46,
    "start_time": "2022-04-30T12:43:03.977Z"
   },
   {
    "duration": 11,
    "start_time": "2022-04-30T12:49:00.856Z"
   },
   {
    "duration": 8,
    "start_time": "2022-04-30T12:49:21.425Z"
   },
   {
    "duration": 10,
    "start_time": "2022-04-30T12:49:45.424Z"
   },
   {
    "duration": 9,
    "start_time": "2022-04-30T12:49:53.827Z"
   },
   {
    "duration": 8,
    "start_time": "2022-04-30T12:56:05.330Z"
   },
   {
    "duration": 9,
    "start_time": "2022-04-30T12:56:12.632Z"
   },
   {
    "duration": 14,
    "start_time": "2022-04-30T12:56:15.844Z"
   },
   {
    "duration": 7,
    "start_time": "2022-04-30T12:57:02.509Z"
   },
   {
    "duration": 14,
    "start_time": "2022-04-30T12:57:39.313Z"
   },
   {
    "duration": 32,
    "start_time": "2022-04-30T13:04:28.343Z"
   },
   {
    "duration": 30,
    "start_time": "2022-04-30T13:04:39.191Z"
   },
   {
    "duration": 82,
    "start_time": "2022-04-30T13:05:29.650Z"
   },
   {
    "duration": 26,
    "start_time": "2022-04-30T13:05:34.880Z"
   },
   {
    "duration": 18,
    "start_time": "2022-04-30T13:05:55.815Z"
   },
   {
    "duration": 18,
    "start_time": "2022-04-30T13:06:15.119Z"
   },
   {
    "duration": 31,
    "start_time": "2022-04-30T13:06:18.339Z"
   },
   {
    "duration": 29,
    "start_time": "2022-04-30T13:06:19.221Z"
   },
   {
    "duration": 22,
    "start_time": "2022-04-30T13:07:20.701Z"
   },
   {
    "duration": 18,
    "start_time": "2022-04-30T13:07:21.195Z"
   },
   {
    "duration": 20,
    "start_time": "2022-04-30T13:09:49.065Z"
   },
   {
    "duration": 26,
    "start_time": "2022-04-30T13:09:49.912Z"
   },
   {
    "duration": 12,
    "start_time": "2022-04-30T13:11:27.159Z"
   },
   {
    "duration": 26,
    "start_time": "2022-04-30T13:11:27.622Z"
   },
   {
    "duration": 1470,
    "start_time": "2022-04-30T13:11:45.936Z"
   },
   {
    "duration": 18,
    "start_time": "2022-04-30T13:12:03.271Z"
   },
   {
    "duration": 26,
    "start_time": "2022-04-30T13:12:04.171Z"
   },
   {
    "duration": 16,
    "start_time": "2022-04-30T13:12:24.286Z"
   },
   {
    "duration": 12,
    "start_time": "2022-04-30T13:12:25.131Z"
   },
   {
    "duration": 21,
    "start_time": "2022-04-30T13:12:39.363Z"
   },
   {
    "duration": 25,
    "start_time": "2022-04-30T13:12:40.247Z"
   },
   {
    "duration": 18,
    "start_time": "2022-04-30T13:13:54.509Z"
   },
   {
    "duration": 17,
    "start_time": "2022-04-30T13:13:54.963Z"
   },
   {
    "duration": 19,
    "start_time": "2022-04-30T13:14:15.644Z"
   },
   {
    "duration": 20,
    "start_time": "2022-04-30T13:14:28.622Z"
   },
   {
    "duration": 19,
    "start_time": "2022-04-30T13:15:14.105Z"
   },
   {
    "duration": 11,
    "start_time": "2022-04-30T13:15:14.708Z"
   },
   {
    "duration": 14,
    "start_time": "2022-04-30T13:15:35.676Z"
   },
   {
    "duration": 10,
    "start_time": "2022-04-30T13:15:36.818Z"
   },
   {
    "duration": 186,
    "start_time": "2022-04-30T13:17:09.690Z"
   },
   {
    "duration": 11,
    "start_time": "2022-04-30T13:17:10.138Z"
   },
   {
    "duration": 20,
    "start_time": "2022-04-30T13:17:13.313Z"
   },
   {
    "duration": 27,
    "start_time": "2022-04-30T13:17:13.758Z"
   },
   {
    "duration": 10,
    "start_time": "2022-04-30T13:18:07.518Z"
   },
   {
    "duration": 7,
    "start_time": "2022-04-30T13:18:08.315Z"
   },
   {
    "duration": 204,
    "start_time": "2022-04-30T13:18:33.546Z"
   },
   {
    "duration": 16,
    "start_time": "2022-04-30T13:18:36.912Z"
   },
   {
    "duration": 12,
    "start_time": "2022-04-30T13:18:45.580Z"
   },
   {
    "duration": 6,
    "start_time": "2022-04-30T13:18:46.672Z"
   },
   {
    "duration": 16,
    "start_time": "2022-04-30T13:19:25.022Z"
   },
   {
    "duration": 430,
    "start_time": "2022-04-30T13:21:28.511Z"
   },
   {
    "duration": 131,
    "start_time": "2022-04-30T13:22:17.924Z"
   },
   {
    "duration": 154,
    "start_time": "2022-04-30T13:22:22.123Z"
   },
   {
    "duration": 4,
    "start_time": "2022-04-30T13:22:48.436Z"
   },
   {
    "duration": 1340,
    "start_time": "2022-04-30T13:23:36.490Z"
   },
   {
    "duration": 62,
    "start_time": "2022-04-30T13:23:38.493Z"
   },
   {
    "duration": 16,
    "start_time": "2022-04-30T13:23:39.003Z"
   },
   {
    "duration": 20,
    "start_time": "2022-04-30T13:23:40.569Z"
   },
   {
    "duration": 12,
    "start_time": "2022-04-30T13:23:40.591Z"
   },
   {
    "duration": 11,
    "start_time": "2022-04-30T13:23:42.144Z"
   },
   {
    "duration": 24,
    "start_time": "2022-04-30T13:23:43.094Z"
   },
   {
    "duration": 6,
    "start_time": "2022-04-30T13:23:43.674Z"
   },
   {
    "duration": 4,
    "start_time": "2022-04-30T13:23:44.639Z"
   },
   {
    "duration": 8,
    "start_time": "2022-04-30T13:23:44.902Z"
   },
   {
    "duration": 3,
    "start_time": "2022-04-30T13:23:45.374Z"
   },
   {
    "duration": 10,
    "start_time": "2022-04-30T13:23:45.590Z"
   },
   {
    "duration": 8,
    "start_time": "2022-04-30T13:23:46.274Z"
   },
   {
    "duration": 6,
    "start_time": "2022-04-30T13:23:46.775Z"
   },
   {
    "duration": 6,
    "start_time": "2022-04-30T13:23:46.859Z"
   },
   {
    "duration": 4,
    "start_time": "2022-04-30T13:23:46.949Z"
   },
   {
    "duration": 6,
    "start_time": "2022-04-30T13:23:47.110Z"
   },
   {
    "duration": 6,
    "start_time": "2022-04-30T13:23:47.423Z"
   },
   {
    "duration": 7,
    "start_time": "2022-04-30T13:23:47.924Z"
   },
   {
    "duration": 4,
    "start_time": "2022-04-30T13:23:48.005Z"
   },
   {
    "duration": 16,
    "start_time": "2022-04-30T13:23:48.879Z"
   },
   {
    "duration": 4,
    "start_time": "2022-04-30T13:23:49.470Z"
   },
   {
    "duration": 5,
    "start_time": "2022-04-30T13:23:49.881Z"
   },
   {
    "duration": 15,
    "start_time": "2022-04-30T13:23:50.147Z"
   },
   {
    "duration": 5,
    "start_time": "2022-04-30T13:23:51.273Z"
   },
   {
    "duration": 6,
    "start_time": "2022-04-30T13:23:51.682Z"
   },
   {
    "duration": 7,
    "start_time": "2022-04-30T13:23:52.073Z"
   },
   {
    "duration": 7,
    "start_time": "2022-04-30T13:23:52.516Z"
   },
   {
    "duration": 7,
    "start_time": "2022-04-30T13:23:52.982Z"
   },
   {
    "duration": 11,
    "start_time": "2022-04-30T13:23:53.538Z"
   },
   {
    "duration": 6,
    "start_time": "2022-04-30T13:23:53.994Z"
   },
   {
    "duration": 8,
    "start_time": "2022-04-30T13:23:54.672Z"
   },
   {
    "duration": 4,
    "start_time": "2022-04-30T13:23:55.250Z"
   },
   {
    "duration": 7,
    "start_time": "2022-04-30T13:23:55.766Z"
   },
   {
    "duration": 25,
    "start_time": "2022-04-30T13:23:56.265Z"
   },
   {
    "duration": 20,
    "start_time": "2022-04-30T13:23:57.816Z"
   },
   {
    "duration": 18,
    "start_time": "2022-04-30T13:23:58.092Z"
   },
   {
    "duration": 7,
    "start_time": "2022-04-30T13:23:59.810Z"
   },
   {
    "duration": 4,
    "start_time": "2022-04-30T13:24:00.974Z"
   },
   {
    "duration": 3304,
    "start_time": "2022-04-30T13:24:01.279Z"
   },
   {
    "duration": 6,
    "start_time": "2022-04-30T13:24:04.586Z"
   },
   {
    "duration": 5,
    "start_time": "2022-04-30T13:24:04.607Z"
   },
   {
    "duration": 20,
    "start_time": "2022-04-30T13:24:08.219Z"
   },
   {
    "duration": 21,
    "start_time": "2022-04-30T13:24:09.813Z"
   },
   {
    "duration": 8,
    "start_time": "2022-04-30T13:24:12.153Z"
   },
   {
    "duration": 15,
    "start_time": "2022-04-30T13:24:13.551Z"
   },
   {
    "duration": 20,
    "start_time": "2022-04-30T13:24:14.573Z"
   },
   {
    "duration": 1989,
    "start_time": "2022-04-30T18:36:00.595Z"
   },
   {
    "duration": 87,
    "start_time": "2022-04-30T18:36:03.419Z"
   },
   {
    "duration": 24,
    "start_time": "2022-04-30T18:36:03.690Z"
   },
   {
    "duration": 34,
    "start_time": "2022-04-30T18:36:04.320Z"
   },
   {
    "duration": 20,
    "start_time": "2022-04-30T18:36:04.357Z"
   },
   {
    "duration": 17,
    "start_time": "2022-04-30T18:36:04.692Z"
   },
   {
    "duration": 38,
    "start_time": "2022-04-30T18:36:04.861Z"
   },
   {
    "duration": 10,
    "start_time": "2022-04-30T18:36:04.941Z"
   },
   {
    "duration": 5,
    "start_time": "2022-04-30T18:36:05.108Z"
   },
   {
    "duration": 12,
    "start_time": "2022-04-30T18:36:05.190Z"
   },
   {
    "duration": 5,
    "start_time": "2022-04-30T18:36:05.388Z"
   },
   {
    "duration": 14,
    "start_time": "2022-04-30T18:36:05.482Z"
   },
   {
    "duration": 17,
    "start_time": "2022-04-30T18:36:05.611Z"
   },
   {
    "duration": 8,
    "start_time": "2022-04-30T18:36:05.696Z"
   },
   {
    "duration": 7,
    "start_time": "2022-04-30T18:36:05.779Z"
   },
   {
    "duration": 6,
    "start_time": "2022-04-30T18:36:05.862Z"
   },
   {
    "duration": 9,
    "start_time": "2022-04-30T18:36:06.031Z"
   },
   {
    "duration": 7,
    "start_time": "2022-04-30T18:36:06.114Z"
   },
   {
    "duration": 10,
    "start_time": "2022-04-30T18:36:06.197Z"
   },
   {
    "duration": 6,
    "start_time": "2022-04-30T18:36:06.282Z"
   },
   {
    "duration": 21,
    "start_time": "2022-04-30T18:36:06.541Z"
   },
   {
    "duration": 5,
    "start_time": "2022-04-30T18:36:06.702Z"
   },
   {
    "duration": 7,
    "start_time": "2022-04-30T18:36:06.794Z"
   },
   {
    "duration": 23,
    "start_time": "2022-04-30T18:36:06.875Z"
   },
   {
    "duration": 7,
    "start_time": "2022-04-30T18:36:07.121Z"
   },
   {
    "duration": 6,
    "start_time": "2022-04-30T18:36:07.689Z"
   },
   {
    "duration": 9,
    "start_time": "2022-04-30T18:36:08.192Z"
   },
   {
    "duration": 11,
    "start_time": "2022-04-30T18:36:08.276Z"
   },
   {
    "duration": 9,
    "start_time": "2022-04-30T18:36:08.359Z"
   },
   {
    "duration": 16,
    "start_time": "2022-04-30T18:36:08.445Z"
   },
   {
    "duration": 15,
    "start_time": "2022-04-30T18:36:08.524Z"
   },
   {
    "duration": 9,
    "start_time": "2022-04-30T18:36:08.611Z"
   },
   {
    "duration": 7,
    "start_time": "2022-04-30T18:36:08.693Z"
   },
   {
    "duration": 13,
    "start_time": "2022-04-30T18:36:08.781Z"
   },
   {
    "duration": 28,
    "start_time": "2022-04-30T18:36:08.858Z"
   },
   {
    "duration": 29,
    "start_time": "2022-04-30T18:36:08.944Z"
   },
   {
    "duration": 29,
    "start_time": "2022-04-30T18:36:09.025Z"
   },
   {
    "duration": 8,
    "start_time": "2022-04-30T18:36:09.275Z"
   },
   {
    "duration": 6,
    "start_time": "2022-04-30T18:36:09.899Z"
   },
   {
    "duration": 5151,
    "start_time": "2022-04-30T18:36:10.351Z"
   },
   {
    "duration": 24,
    "start_time": "2022-04-30T18:36:15.505Z"
   },
   {
    "duration": 19,
    "start_time": "2022-04-30T18:36:15.531Z"
   },
   {
    "duration": 33,
    "start_time": "2022-04-30T18:36:15.553Z"
   },
   {
    "duration": 40,
    "start_time": "2022-04-30T18:36:15.588Z"
   },
   {
    "duration": 18,
    "start_time": "2022-04-30T18:36:15.631Z"
   },
   {
    "duration": 24,
    "start_time": "2022-04-30T18:36:15.652Z"
   },
   {
    "duration": 72,
    "start_time": "2022-04-30T18:36:15.679Z"
   },
   {
    "duration": 26,
    "start_time": "2022-04-30T18:39:30.314Z"
   },
   {
    "duration": 14,
    "start_time": "2022-04-30T18:39:42.319Z"
   },
   {
    "duration": 15,
    "start_time": "2022-04-30T18:39:59.780Z"
   },
   {
    "duration": 32,
    "start_time": "2022-04-30T18:40:12.464Z"
   },
   {
    "duration": 55,
    "start_time": "2022-04-30T18:40:13.728Z"
   },
   {
    "duration": 35,
    "start_time": "2022-04-30T18:42:26.834Z"
   },
   {
    "duration": 45,
    "start_time": "2022-04-30T18:42:27.365Z"
   },
   {
    "duration": 28,
    "start_time": "2022-04-30T18:42:50.066Z"
   },
   {
    "duration": 45,
    "start_time": "2022-04-30T18:42:50.547Z"
   },
   {
    "duration": 25,
    "start_time": "2022-04-30T18:43:02.861Z"
   },
   {
    "duration": 30,
    "start_time": "2022-04-30T18:44:00.654Z"
   },
   {
    "duration": 39,
    "start_time": "2022-04-30T18:44:01.184Z"
   },
   {
    "duration": 211,
    "start_time": "2022-04-30T18:48:51.456Z"
   },
   {
    "duration": 38,
    "start_time": "2022-04-30T18:49:26.437Z"
   },
   {
    "duration": 145,
    "start_time": "2022-04-30T18:51:03.691Z"
   },
   {
    "duration": 27,
    "start_time": "2022-04-30T18:51:06.694Z"
   },
   {
    "duration": 16,
    "start_time": "2022-04-30T18:53:40.392Z"
   },
   {
    "duration": 10,
    "start_time": "2022-04-30T18:53:41.186Z"
   },
   {
    "duration": 20,
    "start_time": "2022-04-30T19:00:06.659Z"
   },
   {
    "duration": 17,
    "start_time": "2022-04-30T19:00:07.558Z"
   },
   {
    "duration": 20,
    "start_time": "2022-04-30T19:00:08.115Z"
   },
   {
    "duration": 20,
    "start_time": "2022-04-30T19:00:08.622Z"
   },
   {
    "duration": 17,
    "start_time": "2022-04-30T19:00:08.955Z"
   },
   {
    "duration": 6,
    "start_time": "2022-04-30T19:00:11.214Z"
   },
   {
    "duration": 9,
    "start_time": "2022-04-30T19:00:17.780Z"
   },
   {
    "duration": 9,
    "start_time": "2022-04-30T19:00:24.552Z"
   },
   {
    "duration": 10,
    "start_time": "2022-04-30T19:00:27.885Z"
   },
   {
    "duration": 10,
    "start_time": "2022-04-30T19:00:30.149Z"
   },
   {
    "duration": 142,
    "start_time": "2022-04-30T20:17:09.696Z"
   },
   {
    "duration": 23,
    "start_time": "2022-04-30T20:17:13.628Z"
   },
   {
    "duration": 23,
    "start_time": "2022-04-30T20:18:11.108Z"
   },
   {
    "duration": 25,
    "start_time": "2022-04-30T20:19:22.005Z"
   }
  ],
  "kernelspec": {
   "display_name": "Python 3 (ipykernel)",
   "language": "python",
   "name": "python3"
  },
  "language_info": {
   "codemirror_mode": {
    "name": "ipython",
    "version": 3
   },
   "file_extension": ".py",
   "mimetype": "text/x-python",
   "name": "python",
   "nbconvert_exporter": "python",
   "pygments_lexer": "ipython3",
   "version": "3.7.0"
  },
  "toc": {
   "base_numbering": 1,
   "nav_menu": {},
   "number_sections": true,
   "sideBar": true,
   "skip_h1_title": true,
   "title_cell": "Содержание",
   "title_sidebar": "Contents",
   "toc_cell": true,
   "toc_position": {},
   "toc_section_display": true,
   "toc_window_display": true
  }
 },
 "nbformat": 4,
 "nbformat_minor": 2
}
