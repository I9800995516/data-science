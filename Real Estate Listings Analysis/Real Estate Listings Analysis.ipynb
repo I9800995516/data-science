{
 "cells": [
  {
   "cell_type": "markdown",
   "metadata": {
    "toc": true
   },
   "source": [
    "<h1>Содержание<span class=\"tocSkip\"></span></h1>\n",
    "<div class=\"toc\"><ul class=\"toc-item\"><li><span><a href=\"#Изучение-данных-из-файла\" data-toc-modified-id=\"Изучение-данных-из-файла-1\"><span class=\"toc-item-num\">1&nbsp;&nbsp;</span>Изучение данных из файла</a></span><ul class=\"toc-item\"><li><span><a href=\"#Вывод\" data-toc-modified-id=\"Вывод-1.1\"><span class=\"toc-item-num\">1.1&nbsp;&nbsp;</span>Вывод</a></span></li></ul></li><li><span><a href=\"#Предобработка-данных\" data-toc-modified-id=\"Предобработка-данных-2\"><span class=\"toc-item-num\">2&nbsp;&nbsp;</span>Предобработка данных</a></span><ul class=\"toc-item\"><li><span><a href=\"#Обозначение-столбцов-и-их-описание:\" data-toc-modified-id=\"Обозначение-столбцов-и-их-описание:-2.1\"><span class=\"toc-item-num\">2.1&nbsp;&nbsp;</span>Обозначение столбцов и их описание:</a></span></li><li><span><a href=\"#first_day_exposition\" data-toc-modified-id=\"first_day_exposition-2.2\"><span class=\"toc-item-num\">2.2&nbsp;&nbsp;</span>first_day_exposition</a></span></li><li><span><a href=\"#ceiling_height\" data-toc-modified-id=\"ceiling_height-2.3\"><span class=\"toc-item-num\">2.3&nbsp;&nbsp;</span>ceiling_height</a></span></li><li><span><a href=\"#floors_total\" data-toc-modified-id=\"floors_total-2.4\"><span class=\"toc-item-num\">2.4&nbsp;&nbsp;</span>floors_total</a></span></li><li><span><a href=\"#living_area-и-kitchen_area\" data-toc-modified-id=\"living_area-и-kitchen_area-2.5\"><span class=\"toc-item-num\">2.5&nbsp;&nbsp;</span>living_area и kitchen_area</a></span></li><li><span><a href=\"#is_apartment\" data-toc-modified-id=\"is_apartment-2.6\"><span class=\"toc-item-num\">2.6&nbsp;&nbsp;</span>is_apartment</a></span></li><li><span><a href=\"#balcony\" data-toc-modified-id=\"balcony-2.7\"><span class=\"toc-item-num\">2.7&nbsp;&nbsp;</span>balcony</a></span></li><li><span><a href=\"#locality_name\" data-toc-modified-id=\"locality_name-2.8\"><span class=\"toc-item-num\">2.8&nbsp;&nbsp;</span>locality_name</a></span></li><li><span><a href=\"#airports_nearest\" data-toc-modified-id=\"airports_nearest-2.9\"><span class=\"toc-item-num\">2.9&nbsp;&nbsp;</span>airports_nearest</a></span></li><li><span><a href=\"#parks_around3000\" data-toc-modified-id=\"parks_around3000-2.10\"><span class=\"toc-item-num\">2.10&nbsp;&nbsp;</span>parks_around3000</a></span></li><li><span><a href=\"#ponds_around3000\" data-toc-modified-id=\"ponds_around3000-2.11\"><span class=\"toc-item-num\">2.11&nbsp;&nbsp;</span>ponds_around3000</a></span></li><li><span><a href=\"#ponds_nearest\" data-toc-modified-id=\"ponds_nearest-2.12\"><span class=\"toc-item-num\">2.12&nbsp;&nbsp;</span>ponds_nearest</a></span></li><li><span><a href=\"#last_price\" data-toc-modified-id=\"last_price-2.13\"><span class=\"toc-item-num\">2.13&nbsp;&nbsp;</span>last_price</a></span></li></ul></li><li><span><a href=\"#Расчёты-и-добавление-результатов-в-таблицу\" data-toc-modified-id=\"Расчёты-и-добавление-результатов-в-таблицу-3\"><span class=\"toc-item-num\">3&nbsp;&nbsp;</span>Расчёты и добавление результатов в таблицу</a></span></li><li><span><a href=\"#Исследовательский-анализ-данных\" data-toc-modified-id=\"Исследовательский-анализ-данных-4\"><span class=\"toc-item-num\">4&nbsp;&nbsp;</span>Исследовательский анализ данных</a></span></li><li><span><a href=\"#Общий-вывод\" data-toc-modified-id=\"Общий-вывод-5\"><span class=\"toc-item-num\">5&nbsp;&nbsp;</span>Общий вывод</a></span></li></ul></div>"
   ]
  },
  {
   "cell_type": "markdown",
   "metadata": {},
   "source": [
    "# Исследование объявлений о продаже квартир\n",
    "\n",
    "В вашем распоряжении данные — архив объявлений о продаже квартир в Санкт-Петербурге и соседних населённых пунктах за несколько лет. Нужно научиться определять рыночную стоимость объектов недвижимости. Основная задача задача — установить параметры. Это позволит построить автоматизированную систему: она отследит аномалии и мошенническую деятельность. \n",
    "\n",
    "По каждой квартире на продажу доступны два вида данных. Первые вписаны пользователем, вторые получены автоматически на основе картографических данных. Например, расстояние до центра, аэропорта, ближайшего парка и водоёма. "
   ]
  },
  {
   "cell_type": "markdown",
   "metadata": {},
   "source": [
    "## Изучение данных из файла"
   ]
  },
  {
   "cell_type": "code",
   "execution_count": 1,
   "metadata": {},
   "outputs": [],
   "source": [
    "import pandas as pd\n",
    "%matplotlib inline\n",
    "import matplotlib.pyplot as plt\n",
    "import datetime\n",
    "from pandas.plotting import scatter_matrix"
   ]
  },
  {
   "cell_type": "code",
   "execution_count": 2,
   "metadata": {},
   "outputs": [],
   "source": [
    "df = pd.read_csv('/datasets/real_estate_data.csv')"
   ]
  },
  {
   "cell_type": "code",
   "execution_count": 3,
   "metadata": {},
   "outputs": [
    {
     "name": "stdout",
     "output_type": "stream",
     "text": [
      "Вывод таблицы с данными\n"
     ]
    },
    {
     "data": {
      "text/html": [
       "<div>\n",
       "<style scoped>\n",
       "    .dataframe tbody tr th:only-of-type {\n",
       "        vertical-align: middle;\n",
       "    }\n",
       "\n",
       "    .dataframe tbody tr th {\n",
       "        vertical-align: top;\n",
       "    }\n",
       "\n",
       "    .dataframe thead th {\n",
       "        text-align: right;\n",
       "    }\n",
       "</style>\n",
       "<table border=\"1\" class=\"dataframe\">\n",
       "  <thead>\n",
       "    <tr style=\"text-align: right;\">\n",
       "      <th></th>\n",
       "      <th>total_images\\tlast_price\\ttotal_area\\tfirst_day_exposition\\trooms\\tceiling_height\\tfloors_total\\tliving_area\\tfloor\\tis_apartment\\tstudio\\topen_plan\\tkitchen_area\\tbalcony\\tlocality_name\\tairports_nearest\\tcityCenters_nearest\\tparks_around3000\\tparks_nearest\\tponds_around3000\\tponds_nearest\\tdays_exposition</th>\n",
       "    </tr>\n",
       "  </thead>\n",
       "  <tbody>\n",
       "    <tr>\n",
       "      <th>0</th>\n",
       "      <td>20\\t13000000.0\\t108.0\\t2019-03-07T00:00:00\\t3\\...</td>\n",
       "    </tr>\n",
       "    <tr>\n",
       "      <th>1</th>\n",
       "      <td>7\\t3350000.0\\t40.4\\t2018-12-04T00:00:00\\t1\\t\\t...</td>\n",
       "    </tr>\n",
       "    <tr>\n",
       "      <th>2</th>\n",
       "      <td>10\\t5196000.0\\t56.0\\t2015-08-20T00:00:00\\t2\\t\\...</td>\n",
       "    </tr>\n",
       "    <tr>\n",
       "      <th>3</th>\n",
       "      <td>0\\t64900000.0\\t159.0\\t2015-07-24T00:00:00\\t3\\t...</td>\n",
       "    </tr>\n",
       "    <tr>\n",
       "      <th>4</th>\n",
       "      <td>2\\t10000000.0\\t100.0\\t2018-06-19T00:00:00\\t2\\t...</td>\n",
       "    </tr>\n",
       "    <tr>\n",
       "      <th>...</th>\n",
       "      <td>...</td>\n",
       "    </tr>\n",
       "    <tr>\n",
       "      <th>23694</th>\n",
       "      <td>9\\t9700000.0\\t133.81\\t2017-03-21T00:00:00\\t3\\t...</td>\n",
       "    </tr>\n",
       "    <tr>\n",
       "      <th>23695</th>\n",
       "      <td>14\\t3100000.0\\t59.0\\t2018-01-15T00:00:00\\t3\\t\\...</td>\n",
       "    </tr>\n",
       "    <tr>\n",
       "      <th>23696</th>\n",
       "      <td>18\\t2500000.0\\t56.7\\t2018-02-11T00:00:00\\t2\\t\\...</td>\n",
       "    </tr>\n",
       "    <tr>\n",
       "      <th>23697</th>\n",
       "      <td>13\\t11475000.0\\t76.75\\t2017-03-28T00:00:00\\t2\\...</td>\n",
       "    </tr>\n",
       "    <tr>\n",
       "      <th>23698</th>\n",
       "      <td>4\\t1350000.0\\t32.3\\t2017-07-21T00:00:00\\t1\\t2....</td>\n",
       "    </tr>\n",
       "  </tbody>\n",
       "</table>\n",
       "<p>23699 rows × 1 columns</p>\n",
       "</div>"
      ],
      "text/plain": [
       "      total_images\\tlast_price\\ttotal_area\\tfirst_day_exposition\\trooms\\tceiling_height\\tfloors_total\\tliving_area\\tfloor\\tis_apartment\\tstudio\\topen_plan\\tkitchen_area\\tbalcony\\tlocality_name\\tairports_nearest\\tcityCenters_nearest\\tparks_around3000\\tparks_nearest\\tponds_around3000\\tponds_nearest\\tdays_exposition\n",
       "0      20\\t13000000.0\\t108.0\\t2019-03-07T00:00:00\\t3\\...                                                                                                                                                                                                                                                                  \n",
       "1      7\\t3350000.0\\t40.4\\t2018-12-04T00:00:00\\t1\\t\\t...                                                                                                                                                                                                                                                                  \n",
       "2      10\\t5196000.0\\t56.0\\t2015-08-20T00:00:00\\t2\\t\\...                                                                                                                                                                                                                                                                  \n",
       "3      0\\t64900000.0\\t159.0\\t2015-07-24T00:00:00\\t3\\t...                                                                                                                                                                                                                                                                  \n",
       "4      2\\t10000000.0\\t100.0\\t2018-06-19T00:00:00\\t2\\t...                                                                                                                                                                                                                                                                  \n",
       "...                                                  ...                                                                                                                                                                                                                                                                  \n",
       "23694  9\\t9700000.0\\t133.81\\t2017-03-21T00:00:00\\t3\\t...                                                                                                                                                                                                                                                                  \n",
       "23695  14\\t3100000.0\\t59.0\\t2018-01-15T00:00:00\\t3\\t\\...                                                                                                                                                                                                                                                                  \n",
       "23696  18\\t2500000.0\\t56.7\\t2018-02-11T00:00:00\\t2\\t\\...                                                                                                                                                                                                                                                                  \n",
       "23697  13\\t11475000.0\\t76.75\\t2017-03-28T00:00:00\\t2\\...                                                                                                                                                                                                                                                                  \n",
       "23698  4\\t1350000.0\\t32.3\\t2017-07-21T00:00:00\\t1\\t2....                                                                                                                                                                                                                                                                  \n",
       "\n",
       "[23699 rows x 1 columns]"
      ]
     },
     "metadata": {},
     "output_type": "display_data"
    }
   ],
   "source": [
    "print('Вывод таблицы с данными')\n",
    "display(df)"
   ]
  },
  {
   "cell_type": "code",
   "execution_count": 4,
   "metadata": {},
   "outputs": [],
   "source": [
    "data = pd.read_csv('/datasets/real_estate_data.csv', sep='\\t')"
   ]
  },
  {
   "cell_type": "code",
   "execution_count": 5,
   "metadata": {},
   "outputs": [
    {
     "name": "stdout",
     "output_type": "stream",
     "text": [
      "Вывод таблицы с данными после разделения столбцов\n"
     ]
    },
    {
     "data": {
      "text/html": [
       "<div>\n",
       "<style scoped>\n",
       "    .dataframe tbody tr th:only-of-type {\n",
       "        vertical-align: middle;\n",
       "    }\n",
       "\n",
       "    .dataframe tbody tr th {\n",
       "        vertical-align: top;\n",
       "    }\n",
       "\n",
       "    .dataframe thead th {\n",
       "        text-align: right;\n",
       "    }\n",
       "</style>\n",
       "<table border=\"1\" class=\"dataframe\">\n",
       "  <thead>\n",
       "    <tr style=\"text-align: right;\">\n",
       "      <th></th>\n",
       "      <th>total_images</th>\n",
       "      <th>last_price</th>\n",
       "      <th>total_area</th>\n",
       "      <th>first_day_exposition</th>\n",
       "      <th>rooms</th>\n",
       "      <th>ceiling_height</th>\n",
       "      <th>floors_total</th>\n",
       "      <th>living_area</th>\n",
       "      <th>floor</th>\n",
       "      <th>is_apartment</th>\n",
       "      <th>...</th>\n",
       "      <th>kitchen_area</th>\n",
       "      <th>balcony</th>\n",
       "      <th>locality_name</th>\n",
       "      <th>airports_nearest</th>\n",
       "      <th>cityCenters_nearest</th>\n",
       "      <th>parks_around3000</th>\n",
       "      <th>parks_nearest</th>\n",
       "      <th>ponds_around3000</th>\n",
       "      <th>ponds_nearest</th>\n",
       "      <th>days_exposition</th>\n",
       "    </tr>\n",
       "  </thead>\n",
       "  <tbody>\n",
       "    <tr>\n",
       "      <th>0</th>\n",
       "      <td>20</td>\n",
       "      <td>13000000.0</td>\n",
       "      <td>108.00</td>\n",
       "      <td>2019-03-07T00:00:00</td>\n",
       "      <td>3</td>\n",
       "      <td>2.70</td>\n",
       "      <td>16.0</td>\n",
       "      <td>51.0</td>\n",
       "      <td>8</td>\n",
       "      <td>NaN</td>\n",
       "      <td>...</td>\n",
       "      <td>25.00</td>\n",
       "      <td>NaN</td>\n",
       "      <td>Санкт-Петербург</td>\n",
       "      <td>18863.0</td>\n",
       "      <td>16028.0</td>\n",
       "      <td>1.0</td>\n",
       "      <td>482.0</td>\n",
       "      <td>2.0</td>\n",
       "      <td>755.0</td>\n",
       "      <td>NaN</td>\n",
       "    </tr>\n",
       "    <tr>\n",
       "      <th>1</th>\n",
       "      <td>7</td>\n",
       "      <td>3350000.0</td>\n",
       "      <td>40.40</td>\n",
       "      <td>2018-12-04T00:00:00</td>\n",
       "      <td>1</td>\n",
       "      <td>NaN</td>\n",
       "      <td>11.0</td>\n",
       "      <td>18.6</td>\n",
       "      <td>1</td>\n",
       "      <td>NaN</td>\n",
       "      <td>...</td>\n",
       "      <td>11.00</td>\n",
       "      <td>2.0</td>\n",
       "      <td>посёлок Шушары</td>\n",
       "      <td>12817.0</td>\n",
       "      <td>18603.0</td>\n",
       "      <td>0.0</td>\n",
       "      <td>NaN</td>\n",
       "      <td>0.0</td>\n",
       "      <td>NaN</td>\n",
       "      <td>81.0</td>\n",
       "    </tr>\n",
       "    <tr>\n",
       "      <th>2</th>\n",
       "      <td>10</td>\n",
       "      <td>5196000.0</td>\n",
       "      <td>56.00</td>\n",
       "      <td>2015-08-20T00:00:00</td>\n",
       "      <td>2</td>\n",
       "      <td>NaN</td>\n",
       "      <td>5.0</td>\n",
       "      <td>34.3</td>\n",
       "      <td>4</td>\n",
       "      <td>NaN</td>\n",
       "      <td>...</td>\n",
       "      <td>8.30</td>\n",
       "      <td>0.0</td>\n",
       "      <td>Санкт-Петербург</td>\n",
       "      <td>21741.0</td>\n",
       "      <td>13933.0</td>\n",
       "      <td>1.0</td>\n",
       "      <td>90.0</td>\n",
       "      <td>2.0</td>\n",
       "      <td>574.0</td>\n",
       "      <td>558.0</td>\n",
       "    </tr>\n",
       "    <tr>\n",
       "      <th>3</th>\n",
       "      <td>0</td>\n",
       "      <td>64900000.0</td>\n",
       "      <td>159.00</td>\n",
       "      <td>2015-07-24T00:00:00</td>\n",
       "      <td>3</td>\n",
       "      <td>NaN</td>\n",
       "      <td>14.0</td>\n",
       "      <td>NaN</td>\n",
       "      <td>9</td>\n",
       "      <td>NaN</td>\n",
       "      <td>...</td>\n",
       "      <td>NaN</td>\n",
       "      <td>0.0</td>\n",
       "      <td>Санкт-Петербург</td>\n",
       "      <td>28098.0</td>\n",
       "      <td>6800.0</td>\n",
       "      <td>2.0</td>\n",
       "      <td>84.0</td>\n",
       "      <td>3.0</td>\n",
       "      <td>234.0</td>\n",
       "      <td>424.0</td>\n",
       "    </tr>\n",
       "    <tr>\n",
       "      <th>4</th>\n",
       "      <td>2</td>\n",
       "      <td>10000000.0</td>\n",
       "      <td>100.00</td>\n",
       "      <td>2018-06-19T00:00:00</td>\n",
       "      <td>2</td>\n",
       "      <td>3.03</td>\n",
       "      <td>14.0</td>\n",
       "      <td>32.0</td>\n",
       "      <td>13</td>\n",
       "      <td>NaN</td>\n",
       "      <td>...</td>\n",
       "      <td>41.00</td>\n",
       "      <td>NaN</td>\n",
       "      <td>Санкт-Петербург</td>\n",
       "      <td>31856.0</td>\n",
       "      <td>8098.0</td>\n",
       "      <td>2.0</td>\n",
       "      <td>112.0</td>\n",
       "      <td>1.0</td>\n",
       "      <td>48.0</td>\n",
       "      <td>121.0</td>\n",
       "    </tr>\n",
       "    <tr>\n",
       "      <th>...</th>\n",
       "      <td>...</td>\n",
       "      <td>...</td>\n",
       "      <td>...</td>\n",
       "      <td>...</td>\n",
       "      <td>...</td>\n",
       "      <td>...</td>\n",
       "      <td>...</td>\n",
       "      <td>...</td>\n",
       "      <td>...</td>\n",
       "      <td>...</td>\n",
       "      <td>...</td>\n",
       "      <td>...</td>\n",
       "      <td>...</td>\n",
       "      <td>...</td>\n",
       "      <td>...</td>\n",
       "      <td>...</td>\n",
       "      <td>...</td>\n",
       "      <td>...</td>\n",
       "      <td>...</td>\n",
       "      <td>...</td>\n",
       "      <td>...</td>\n",
       "    </tr>\n",
       "    <tr>\n",
       "      <th>23694</th>\n",
       "      <td>9</td>\n",
       "      <td>9700000.0</td>\n",
       "      <td>133.81</td>\n",
       "      <td>2017-03-21T00:00:00</td>\n",
       "      <td>3</td>\n",
       "      <td>3.70</td>\n",
       "      <td>5.0</td>\n",
       "      <td>73.3</td>\n",
       "      <td>3</td>\n",
       "      <td>NaN</td>\n",
       "      <td>...</td>\n",
       "      <td>13.83</td>\n",
       "      <td>NaN</td>\n",
       "      <td>Санкт-Петербург</td>\n",
       "      <td>24665.0</td>\n",
       "      <td>4232.0</td>\n",
       "      <td>1.0</td>\n",
       "      <td>796.0</td>\n",
       "      <td>3.0</td>\n",
       "      <td>381.0</td>\n",
       "      <td>NaN</td>\n",
       "    </tr>\n",
       "    <tr>\n",
       "      <th>23695</th>\n",
       "      <td>14</td>\n",
       "      <td>3100000.0</td>\n",
       "      <td>59.00</td>\n",
       "      <td>2018-01-15T00:00:00</td>\n",
       "      <td>3</td>\n",
       "      <td>NaN</td>\n",
       "      <td>5.0</td>\n",
       "      <td>38.0</td>\n",
       "      <td>4</td>\n",
       "      <td>NaN</td>\n",
       "      <td>...</td>\n",
       "      <td>8.50</td>\n",
       "      <td>NaN</td>\n",
       "      <td>Тосно</td>\n",
       "      <td>NaN</td>\n",
       "      <td>NaN</td>\n",
       "      <td>NaN</td>\n",
       "      <td>NaN</td>\n",
       "      <td>NaN</td>\n",
       "      <td>NaN</td>\n",
       "      <td>45.0</td>\n",
       "    </tr>\n",
       "    <tr>\n",
       "      <th>23696</th>\n",
       "      <td>18</td>\n",
       "      <td>2500000.0</td>\n",
       "      <td>56.70</td>\n",
       "      <td>2018-02-11T00:00:00</td>\n",
       "      <td>2</td>\n",
       "      <td>NaN</td>\n",
       "      <td>3.0</td>\n",
       "      <td>29.7</td>\n",
       "      <td>1</td>\n",
       "      <td>NaN</td>\n",
       "      <td>...</td>\n",
       "      <td>NaN</td>\n",
       "      <td>NaN</td>\n",
       "      <td>село Рождествено</td>\n",
       "      <td>NaN</td>\n",
       "      <td>NaN</td>\n",
       "      <td>NaN</td>\n",
       "      <td>NaN</td>\n",
       "      <td>NaN</td>\n",
       "      <td>NaN</td>\n",
       "      <td>NaN</td>\n",
       "    </tr>\n",
       "    <tr>\n",
       "      <th>23697</th>\n",
       "      <td>13</td>\n",
       "      <td>11475000.0</td>\n",
       "      <td>76.75</td>\n",
       "      <td>2017-03-28T00:00:00</td>\n",
       "      <td>2</td>\n",
       "      <td>3.00</td>\n",
       "      <td>17.0</td>\n",
       "      <td>NaN</td>\n",
       "      <td>12</td>\n",
       "      <td>NaN</td>\n",
       "      <td>...</td>\n",
       "      <td>23.30</td>\n",
       "      <td>2.0</td>\n",
       "      <td>Санкт-Петербург</td>\n",
       "      <td>39140.0</td>\n",
       "      <td>10364.0</td>\n",
       "      <td>2.0</td>\n",
       "      <td>173.0</td>\n",
       "      <td>3.0</td>\n",
       "      <td>196.0</td>\n",
       "      <td>602.0</td>\n",
       "    </tr>\n",
       "    <tr>\n",
       "      <th>23698</th>\n",
       "      <td>4</td>\n",
       "      <td>1350000.0</td>\n",
       "      <td>32.30</td>\n",
       "      <td>2017-07-21T00:00:00</td>\n",
       "      <td>1</td>\n",
       "      <td>2.50</td>\n",
       "      <td>5.0</td>\n",
       "      <td>12.3</td>\n",
       "      <td>1</td>\n",
       "      <td>NaN</td>\n",
       "      <td>...</td>\n",
       "      <td>9.00</td>\n",
       "      <td>NaN</td>\n",
       "      <td>поселок Новый Учхоз</td>\n",
       "      <td>NaN</td>\n",
       "      <td>NaN</td>\n",
       "      <td>NaN</td>\n",
       "      <td>NaN</td>\n",
       "      <td>NaN</td>\n",
       "      <td>NaN</td>\n",
       "      <td>NaN</td>\n",
       "    </tr>\n",
       "  </tbody>\n",
       "</table>\n",
       "<p>23699 rows × 22 columns</p>\n",
       "</div>"
      ],
      "text/plain": [
       "       total_images  last_price  total_area first_day_exposition  rooms  \\\n",
       "0                20  13000000.0      108.00  2019-03-07T00:00:00      3   \n",
       "1                 7   3350000.0       40.40  2018-12-04T00:00:00      1   \n",
       "2                10   5196000.0       56.00  2015-08-20T00:00:00      2   \n",
       "3                 0  64900000.0      159.00  2015-07-24T00:00:00      3   \n",
       "4                 2  10000000.0      100.00  2018-06-19T00:00:00      2   \n",
       "...             ...         ...         ...                  ...    ...   \n",
       "23694             9   9700000.0      133.81  2017-03-21T00:00:00      3   \n",
       "23695            14   3100000.0       59.00  2018-01-15T00:00:00      3   \n",
       "23696            18   2500000.0       56.70  2018-02-11T00:00:00      2   \n",
       "23697            13  11475000.0       76.75  2017-03-28T00:00:00      2   \n",
       "23698             4   1350000.0       32.30  2017-07-21T00:00:00      1   \n",
       "\n",
       "       ceiling_height  floors_total  living_area  floor is_apartment  ...  \\\n",
       "0                2.70          16.0         51.0      8          NaN  ...   \n",
       "1                 NaN          11.0         18.6      1          NaN  ...   \n",
       "2                 NaN           5.0         34.3      4          NaN  ...   \n",
       "3                 NaN          14.0          NaN      9          NaN  ...   \n",
       "4                3.03          14.0         32.0     13          NaN  ...   \n",
       "...               ...           ...          ...    ...          ...  ...   \n",
       "23694            3.70           5.0         73.3      3          NaN  ...   \n",
       "23695             NaN           5.0         38.0      4          NaN  ...   \n",
       "23696             NaN           3.0         29.7      1          NaN  ...   \n",
       "23697            3.00          17.0          NaN     12          NaN  ...   \n",
       "23698            2.50           5.0         12.3      1          NaN  ...   \n",
       "\n",
       "       kitchen_area  balcony        locality_name  airports_nearest  \\\n",
       "0             25.00      NaN      Санкт-Петербург           18863.0   \n",
       "1             11.00      2.0       посёлок Шушары           12817.0   \n",
       "2              8.30      0.0      Санкт-Петербург           21741.0   \n",
       "3               NaN      0.0      Санкт-Петербург           28098.0   \n",
       "4             41.00      NaN      Санкт-Петербург           31856.0   \n",
       "...             ...      ...                  ...               ...   \n",
       "23694         13.83      NaN      Санкт-Петербург           24665.0   \n",
       "23695          8.50      NaN                Тосно               NaN   \n",
       "23696           NaN      NaN     село Рождествено               NaN   \n",
       "23697         23.30      2.0      Санкт-Петербург           39140.0   \n",
       "23698          9.00      NaN  поселок Новый Учхоз               NaN   \n",
       "\n",
       "      cityCenters_nearest  parks_around3000  parks_nearest  ponds_around3000  \\\n",
       "0                 16028.0               1.0          482.0               2.0   \n",
       "1                 18603.0               0.0            NaN               0.0   \n",
       "2                 13933.0               1.0           90.0               2.0   \n",
       "3                  6800.0               2.0           84.0               3.0   \n",
       "4                  8098.0               2.0          112.0               1.0   \n",
       "...                   ...               ...            ...               ...   \n",
       "23694              4232.0               1.0          796.0               3.0   \n",
       "23695                 NaN               NaN            NaN               NaN   \n",
       "23696                 NaN               NaN            NaN               NaN   \n",
       "23697             10364.0               2.0          173.0               3.0   \n",
       "23698                 NaN               NaN            NaN               NaN   \n",
       "\n",
       "       ponds_nearest  days_exposition  \n",
       "0              755.0              NaN  \n",
       "1                NaN             81.0  \n",
       "2              574.0            558.0  \n",
       "3              234.0            424.0  \n",
       "4               48.0            121.0  \n",
       "...              ...              ...  \n",
       "23694          381.0              NaN  \n",
       "23695            NaN             45.0  \n",
       "23696            NaN              NaN  \n",
       "23697          196.0            602.0  \n",
       "23698            NaN              NaN  \n",
       "\n",
       "[23699 rows x 22 columns]"
      ]
     },
     "metadata": {},
     "output_type": "display_data"
    }
   ],
   "source": [
    "print('Вывод таблицы с данными после разделения столбцов')\n",
    "display(data)"
   ]
  },
  {
   "cell_type": "code",
   "execution_count": 6,
   "metadata": {},
   "outputs": [
    {
     "name": "stdout",
     "output_type": "stream",
     "text": [
      "Информация о таблице\n",
      "<class 'pandas.core.frame.DataFrame'>\n",
      "RangeIndex: 23699 entries, 0 to 23698\n",
      "Data columns (total 22 columns):\n",
      " #   Column                Non-Null Count  Dtype  \n",
      "---  ------                --------------  -----  \n",
      " 0   total_images          23699 non-null  int64  \n",
      " 1   last_price            23699 non-null  float64\n",
      " 2   total_area            23699 non-null  float64\n",
      " 3   first_day_exposition  23699 non-null  object \n",
      " 4   rooms                 23699 non-null  int64  \n",
      " 5   ceiling_height        14504 non-null  float64\n",
      " 6   floors_total          23613 non-null  float64\n",
      " 7   living_area           21796 non-null  float64\n",
      " 8   floor                 23699 non-null  int64  \n",
      " 9   is_apartment          2775 non-null   object \n",
      " 10  studio                23699 non-null  bool   \n",
      " 11  open_plan             23699 non-null  bool   \n",
      " 12  kitchen_area          21421 non-null  float64\n",
      " 13  balcony               12180 non-null  float64\n",
      " 14  locality_name         23650 non-null  object \n",
      " 15  airports_nearest      18157 non-null  float64\n",
      " 16  cityCenters_nearest   18180 non-null  float64\n",
      " 17  parks_around3000      18181 non-null  float64\n",
      " 18  parks_nearest         8079 non-null   float64\n",
      " 19  ponds_around3000      18181 non-null  float64\n",
      " 20  ponds_nearest         9110 non-null   float64\n",
      " 21  days_exposition       20518 non-null  float64\n",
      "dtypes: bool(2), float64(14), int64(3), object(3)\n",
      "memory usage: 3.7+ MB\n"
     ]
    }
   ],
   "source": [
    "print('Информация о таблице')\n",
    "data.info()"
   ]
  },
  {
   "cell_type": "markdown",
   "metadata": {},
   "source": [
    "### Вывод"
   ]
  },
  {
   "cell_type": "markdown",
   "metadata": {},
   "source": [
    "Всего в таблице 22 стобца и 4 различных типа данных. Количество значений в столбцах различается. Это говорит о том, что в данных есть пропущенные значения.\n",
    "\n",
    "Таблица несет в себе информацию о продаже квартир в Санкт-Петербурге и соседних населённых пунктах за несколько лет. \n",
    "\n",
    "Обработаем пропущенные значения, дубликаты и некорректные значения в таблице."
   ]
  },
  {
   "cell_type": "markdown",
   "metadata": {},
   "source": [
    "## Предобработка данных"
   ]
  },
  {
   "cell_type": "markdown",
   "metadata": {},
   "source": [
    "### Обозначение столбцов и их описание:\n",
    "\n",
    "`airports_nearest` — расстояние до ближайшего аэропорта в метрах (м)\n",
    "\n",
    "`balcony` — число балконов \n",
    "\n",
    "`ceiling_height` — высота потолков (м)\n",
    "\n",
    "`cityCenters_nearest` — расстояние до центра города (м)\n",
    "\n",
    "`days_exposition` — сколько дней было размещено объявление (от публикации до снятия)\n",
    "\n",
    "`first_day_exposition` — дата публикации\n",
    "\n",
    "`floor` — этаж\n",
    "\n",
    "`floors_total` — всего этажей в доме\n",
    "\n",
    "`is_apartment` — апартаменты (булев тип)\n",
    "\n",
    "`kitchen_area` — площадь кухни в квадратных метрах (м²)\n",
    "\n",
    "`last_price` — цена на момент снятия с публикации\n",
    "\n",
    "`living_area` — жилая площадь в квадратных метрах (м²)\n",
    "\n",
    "`locality_name` — название населённого пункта\n",
    "\n",
    "`open_plan` — свободная планировка (булев тип)\n",
    "\n",
    "`parks_around3000` — число парков в радиусе 3 км\n",
    "\n",
    "`parks_nearest` — расстояние до ближайшего парка (м)\n",
    "\n",
    "`ponds_around3000` — число водоёмов в радиусе 3 км\n",
    "\n",
    "`ponds_nearest` — расстояние до ближайшего водоёма (м)\n",
    "\n",
    "`rooms` — число комнат\n",
    "\n",
    "`studio` — квартира-студия (булев тип)\n",
    "\n",
    "`total_area` — площадь квартиры в квадратных метрах (м²)\n",
    "\n",
    "`total_images` — число фотографий квартиры в объявлении"
   ]
  },
  {
   "cell_type": "markdown",
   "metadata": {},
   "source": [
    "**Количество пропусков**"
   ]
  },
  {
   "cell_type": "code",
   "execution_count": 7,
   "metadata": {},
   "outputs": [
    {
     "data": {
      "text/plain": [
       "total_images                0\n",
       "last_price                  0\n",
       "total_area                  0\n",
       "first_day_exposition        0\n",
       "rooms                       0\n",
       "ceiling_height           9195\n",
       "floors_total               86\n",
       "living_area              1903\n",
       "floor                       0\n",
       "is_apartment            20924\n",
       "studio                      0\n",
       "open_plan                   0\n",
       "kitchen_area             2278\n",
       "balcony                 11519\n",
       "locality_name              49\n",
       "airports_nearest         5542\n",
       "cityCenters_nearest      5519\n",
       "parks_around3000         5518\n",
       "parks_nearest           15620\n",
       "ponds_around3000         5518\n",
       "ponds_nearest           14589\n",
       "days_exposition          3181\n",
       "dtype: int64"
      ]
     },
     "metadata": {},
     "output_type": "display_data"
    }
   ],
   "source": [
    "display(data.isna().sum())"
   ]
  },
  {
   "cell_type": "markdown",
   "metadata": {},
   "source": [
    "### first_day_exposition "
   ]
  },
  {
   "cell_type": "markdown",
   "metadata": {},
   "source": [
    "**Изменение типа даннх на тип datetime**"
   ]
  },
  {
   "cell_type": "code",
   "execution_count": 8,
   "metadata": {},
   "outputs": [],
   "source": [
    "data['first_day_exposition'] = pd.to_datetime(data['first_day_exposition'], format='%Y-%m-%dT%H:%M:%S')\n"
   ]
  },
  {
   "cell_type": "markdown",
   "metadata": {},
   "source": [
    "### ceiling_height"
   ]
  },
  {
   "cell_type": "markdown",
   "metadata": {},
   "source": [
    "**Информация по высоте потолков**"
   ]
  },
  {
   "cell_type": "code",
   "execution_count": 9,
   "metadata": {},
   "outputs": [
    {
     "data": {
      "text/plain": [
       "count    14504.000000\n",
       "mean         2.771499\n",
       "std          1.261056\n",
       "min          1.000000\n",
       "25%          2.520000\n",
       "50%          2.650000\n",
       "75%          2.800000\n",
       "max        100.000000\n",
       "Name: ceiling_height, dtype: float64"
      ]
     },
     "execution_count": 9,
     "metadata": {},
     "output_type": "execute_result"
    }
   ],
   "source": [
    "data['ceiling_height'].describe()"
   ]
  },
  {
   "cell_type": "markdown",
   "metadata": {},
   "source": [
    "**Замена пропусков в \"высоте полоков\" на среднее значение \"высоты полоков\" по сгрупиированным данным столбца \"cityCenters_nearest\" и столбца \"airports_neares\"**"
   ]
  },
  {
   "cell_type": "code",
   "execution_count": 10,
   "metadata": {},
   "outputs": [],
   "source": [
    "index_NaN_ceiling_height = list((data[data['ceiling_height'].isna() == True]).index)"
   ]
  },
  {
   "cell_type": "code",
   "execution_count": 11,
   "metadata": {},
   "outputs": [
    {
     "name": "stderr",
     "output_type": "stream",
     "text": [
      "/tmp/ipykernel_92/316659689.py:6: SettingWithCopyWarning: \n",
      "A value is trying to be set on a copy of a slice from a DataFrame\n",
      "\n",
      "See the caveats in the documentation: https://pandas.pydata.org/pandas-docs/stable/user_guide/indexing.html#returning-a-view-versus-a-copy\n",
      "  data['ceiling_height'][i] = cityCenters_nearest_ceiling_height_grouped[data['cityCenters_nearest'][i]]\n",
      "/tmp/ipykernel_92/316659689.py:8: SettingWithCopyWarning: \n",
      "A value is trying to be set on a copy of a slice from a DataFrame\n",
      "\n",
      "See the caveats in the documentation: https://pandas.pydata.org/pandas-docs/stable/user_guide/indexing.html#returning-a-view-versus-a-copy\n",
      "  data['ceiling_height'][i] = 0\n"
     ]
    }
   ],
   "source": [
    "cityCenters_nearest_ceiling_height_grouped = data.groupby('cityCenters_nearest')['ceiling_height'].mean()\n",
    "\n",
    "for i in range(len(data)):\n",
    "    if i in index_NaN_ceiling_height:\n",
    "        try:\n",
    "            data['ceiling_height'][i] = cityCenters_nearest_ceiling_height_grouped[data['cityCenters_nearest'][i]]\n",
    "        except:\n",
    "            data['ceiling_height'][i] = 0"
   ]
  },
  {
   "cell_type": "code",
   "execution_count": 12,
   "metadata": {},
   "outputs": [
    {
     "name": "stderr",
     "output_type": "stream",
     "text": [
      "/tmp/ipykernel_92/652994023.py:7: SettingWithCopyWarning: \n",
      "A value is trying to be set on a copy of a slice from a DataFrame\n",
      "\n",
      "See the caveats in the documentation: https://pandas.pydata.org/pandas-docs/stable/user_guide/indexing.html#returning-a-view-versus-a-copy\n",
      "  data['ceiling_height'][i] = airports_nearest_ceiling_height_grouped[data['airports_nearest'][i]]\n",
      "/tmp/ipykernel_92/652994023.py:9: SettingWithCopyWarning: \n",
      "A value is trying to be set on a copy of a slice from a DataFrame\n",
      "\n",
      "See the caveats in the documentation: https://pandas.pydata.org/pandas-docs/stable/user_guide/indexing.html#returning-a-view-versus-a-copy\n",
      "  data['ceiling_height'][i] = 0\n"
     ]
    }
   ],
   "source": [
    "airports_nearest_ceiling_height_grouped = data.groupby('airports_nearest')['ceiling_height'].mean()\n",
    "\n",
    "\n",
    "for i in range(len(data)):\n",
    "    if i in index_NaN_ceiling_height:\n",
    "        try:\n",
    "            data['ceiling_height'][i] = airports_nearest_ceiling_height_grouped[data['airports_nearest'][i]]\n",
    "        except:\n",
    "            data['ceiling_height'][i] = 0"
   ]
  },
  {
   "cell_type": "code",
   "execution_count": 13,
   "metadata": {},
   "outputs": [
    {
     "data": {
      "text/plain": [
       "count    21911.000000\n",
       "mean         2.448137\n",
       "std          1.421002\n",
       "min          0.000000\n",
       "25%          2.500000\n",
       "50%          2.617500\n",
       "75%          2.775000\n",
       "max        100.000000\n",
       "Name: ceiling_height, dtype: float64"
      ]
     },
     "execution_count": 13,
     "metadata": {},
     "output_type": "execute_result"
    }
   ],
   "source": [
    "data['ceiling_height'].describe()"
   ]
  },
  {
   "cell_type": "markdown",
   "metadata": {},
   "source": [
    "**Удаляем выбросы по \"высоте полков\"**"
   ]
  },
  {
   "cell_type": "code",
   "execution_count": 14,
   "metadata": {},
   "outputs": [],
   "source": [
    "data = data.query('10 > ceiling_height > 2')"
   ]
  },
  {
   "cell_type": "code",
   "execution_count": 15,
   "metadata": {},
   "outputs": [
    {
     "name": "stdout",
     "output_type": "stream",
     "text": [
      "<class 'pandas.core.frame.DataFrame'>\n",
      "Int64Index: 19284 entries, 0 to 23698\n",
      "Data columns (total 22 columns):\n",
      " #   Column                Non-Null Count  Dtype         \n",
      "---  ------                --------------  -----         \n",
      " 0   total_images          19284 non-null  int64         \n",
      " 1   last_price            19284 non-null  float64       \n",
      " 2   total_area            19284 non-null  float64       \n",
      " 3   first_day_exposition  19284 non-null  datetime64[ns]\n",
      " 4   rooms                 19284 non-null  int64         \n",
      " 5   ceiling_height        19284 non-null  float64       \n",
      " 6   floors_total          19221 non-null  float64       \n",
      " 7   living_area           17991 non-null  float64       \n",
      " 8   floor                 19284 non-null  int64         \n",
      " 9   is_apartment          2340 non-null   object        \n",
      " 10  studio                19284 non-null  bool          \n",
      " 11  open_plan             19284 non-null  bool          \n",
      " 12  kitchen_area          17708 non-null  float64       \n",
      " 13  balcony               9977 non-null   float64       \n",
      " 14  locality_name         19251 non-null  object        \n",
      " 15  airports_nearest      16338 non-null  float64       \n",
      " 16  cityCenters_nearest   16358 non-null  float64       \n",
      " 17  parks_around3000      16359 non-null  float64       \n",
      " 18  parks_nearest         7236 non-null   float64       \n",
      " 19  ponds_around3000      16359 non-null  float64       \n",
      " 20  ponds_nearest         8129 non-null   float64       \n",
      " 21  days_exposition       16563 non-null  float64       \n",
      "dtypes: bool(2), datetime64[ns](1), float64(14), int64(3), object(2)\n",
      "memory usage: 3.1+ MB\n"
     ]
    }
   ],
   "source": [
    "data.info()"
   ]
  },
  {
   "cell_type": "markdown",
   "metadata": {},
   "source": [
    "### floors_total"
   ]
  },
  {
   "cell_type": "markdown",
   "metadata": {},
   "source": [
    "**Фильтр, отсеивающий неадекватные значения по столбцу 'floors_total' и изменение типа данных этоо столбца**"
   ]
  },
  {
   "cell_type": "code",
   "execution_count": 16,
   "metadata": {},
   "outputs": [],
   "source": [
    "data = data.query('floors_total >= floor')"
   ]
  },
  {
   "cell_type": "code",
   "execution_count": 17,
   "metadata": {},
   "outputs": [],
   "source": [
    "data['floors_total'] = data['floors_total'].round()\n",
    "data['floors_total'] = data['floors_total'].astype('int')"
   ]
  },
  {
   "cell_type": "code",
   "execution_count": 18,
   "metadata": {},
   "outputs": [
    {
     "name": "stdout",
     "output_type": "stream",
     "text": [
      "<class 'pandas.core.frame.DataFrame'>\n",
      "Int64Index: 19221 entries, 0 to 23698\n",
      "Data columns (total 22 columns):\n",
      " #   Column                Non-Null Count  Dtype         \n",
      "---  ------                --------------  -----         \n",
      " 0   total_images          19221 non-null  int64         \n",
      " 1   last_price            19221 non-null  float64       \n",
      " 2   total_area            19221 non-null  float64       \n",
      " 3   first_day_exposition  19221 non-null  datetime64[ns]\n",
      " 4   rooms                 19221 non-null  int64         \n",
      " 5   ceiling_height        19221 non-null  float64       \n",
      " 6   floors_total          19221 non-null  int64         \n",
      " 7   living_area           17952 non-null  float64       \n",
      " 8   floor                 19221 non-null  int64         \n",
      " 9   is_apartment          2340 non-null   object        \n",
      " 10  studio                19221 non-null  bool          \n",
      " 11  open_plan             19221 non-null  bool          \n",
      " 12  kitchen_area          17681 non-null  float64       \n",
      " 13  balcony               9940 non-null   float64       \n",
      " 14  locality_name         19188 non-null  object        \n",
      " 15  airports_nearest      16276 non-null  float64       \n",
      " 16  cityCenters_nearest   16296 non-null  float64       \n",
      " 17  parks_around3000      16297 non-null  float64       \n",
      " 18  parks_nearest         7205 non-null   float64       \n",
      " 19  ponds_around3000      16297 non-null  float64       \n",
      " 20  ponds_nearest         8088 non-null   float64       \n",
      " 21  days_exposition       16506 non-null  float64       \n",
      "dtypes: bool(2), datetime64[ns](1), float64(13), int64(4), object(2)\n",
      "memory usage: 3.1+ MB\n"
     ]
    }
   ],
   "source": [
    "data.info()"
   ]
  },
  {
   "cell_type": "markdown",
   "metadata": {},
   "source": [
    "### living_area и kitchen_area "
   ]
  },
  {
   "cell_type": "markdown",
   "metadata": {},
   "source": [
    "Для замены пропусков в столбцах \"iving_area\" и \"kitchen_area\" используем следующую идею: \n",
    "\n",
    "- Разделим данные столбца \"total_area\" на группы по площади.\n",
    "\n",
    "- Найдем среднее значение \"living_area\" для каждой группы.\n",
    "\n",
    "- Найдем среднее значение \"total_area\" для каждой группы.\n",
    "\n",
    "- Найдем среднее значение \"kitchen_area\" для каждой группы.\n",
    "\n",
    "- Разделим среднее по \"living_area\" на среднее по \"total_area\" для каждой группы - получим коэффициент для нахождения \"living_area\": 'living_coef'.\n",
    "\n",
    "- Разделим среднее по \"kitchen_area\" на среднее по \"total_area\" для каждой группы - получим коэффициент для нахождения \"kitchen_area\": 'kitchen_coef'.\n",
    "\n",
    "- Для замены пропусков в \"living_area\": умножим \"total_area\" в соответствующей строке на коэффициент 'living_coef'.\n",
    "\n",
    "- Для замены пропусков в \"kitchen_area\": умножим \"total_area\" в соответствующей строке на коэффициент 'kitchen_coef'.\n"
   ]
  },
  {
   "cell_type": "code",
   "execution_count": 19,
   "metadata": {},
   "outputs": [
    {
     "data": {
      "text/plain": [
       "count    19221.000000\n",
       "mean        61.752768\n",
       "std         36.917457\n",
       "min         12.000000\n",
       "25%         41.000000\n",
       "50%         53.000000\n",
       "75%         71.000000\n",
       "max        900.000000\n",
       "Name: total_area, dtype: float64"
      ]
     },
     "execution_count": 19,
     "metadata": {},
     "output_type": "execute_result"
    }
   ],
   "source": [
    "data['total_area'].describe()"
   ]
  },
  {
   "cell_type": "code",
   "execution_count": 20,
   "metadata": {},
   "outputs": [],
   "source": [
    "R = []\n",
    "for row in data['total_area']:\n",
    "    if row <= 12:\n",
    "        R.append('min')\n",
    "    elif 41 >= row > 12:\n",
    "        R.append('25%')\n",
    "    elif 53 >= row > 41:\n",
    "        R.append('50%')\n",
    "    elif 71 >= row > 53:\n",
    "        R.append('75%')\n",
    "    else:\n",
    "        R.append('max')"
   ]
  },
  {
   "cell_type": "code",
   "execution_count": 21,
   "metadata": {},
   "outputs": [],
   "source": [
    "data['total_area_group'] = R"
   ]
  },
  {
   "cell_type": "code",
   "execution_count": 22,
   "metadata": {},
   "outputs": [],
   "source": [
    "L = []\n",
    "N = []\n",
    "for row in data['total_area_group']:\n",
    "    if row == 'min':\n",
    "        L.append(data['living_area'][data['total_area_group'] == 'min'].mean() / (\n",
    "                    data['total_area'][data['total_area_group'] == 'min'].mean()))\n",
    "        N.append(data['kitchen_area'][data['total_area_group'] == 'min'].mean() / (\n",
    "                    data['total_area'][data['total_area_group'] == 'min'].mean()))\n",
    "    elif row == '25%':\n",
    "        L.append(data['living_area'][data['total_area_group'] == '25%'].mean() / (\n",
    "                    data['total_area'][data['total_area_group'] == '25%'].mean()))\n",
    "        N.append(data['kitchen_area'][data['total_area_group'] == '25%'].mean() / (\n",
    "                    data['total_area'][data['total_area_group'] == '25%'].mean()))\n",
    "    elif row == '50%':\n",
    "        L.append(data['living_area'][data['total_area_group'] == '50%'].mean() / (\n",
    "                    data['total_area'][data['total_area_group'] == '50%'].mean()))\n",
    "        N.append(data['kitchen_area'][data['total_area_group'] == '50%'].mean() / (\n",
    "                    data['total_area'][data['total_area_group'] == '50%'].mean()))\n",
    "    elif row == '75%':\n",
    "        L.append(data['living_area'][data['total_area_group'] == '75%'].mean() / (\n",
    "                    data['total_area'][data['total_area_group'] == '75%'].mean()))\n",
    "        N.append(data['kitchen_area'][data['total_area_group'] == '75%'].mean() / (\n",
    "                    data['total_area'][data['total_area_group'] == '75%'].mean()))\n",
    "    elif row == 'max':\n",
    "        L.append(data['living_area'][data['total_area_group'] == 'max'].mean() / (\n",
    "                    data['total_area'][data['total_area_group'] == 'max'].mean()))\n",
    "        N.append(data['kitchen_area'][data['total_area_group'] == 'max'].mean() / (\n",
    "                    data['total_area'][data['total_area_group'] == 'max'].mean()))\n",
    "\n"
   ]
  },
  {
   "cell_type": "code",
   "execution_count": 23,
   "metadata": {},
   "outputs": [],
   "source": [
    "data['kitchen_coef'] = N\n",
    "data['living_coef'] = L"
   ]
  },
  {
   "cell_type": "code",
   "execution_count": 24,
   "metadata": {},
   "outputs": [],
   "source": [
    "data = data.drop(['total_area_group'], axis=1)"
   ]
  },
  {
   "cell_type": "code",
   "execution_count": 25,
   "metadata": {},
   "outputs": [],
   "source": [
    "data['living_area'] = data['living_area'].fillna(data['total_area'] * data['living_coef'])\n",
    "data['kitchen_area'] = data['kitchen_area'].fillna(data['total_area'] * data['kitchen_coef'])"
   ]
  },
  {
   "cell_type": "code",
   "execution_count": 26,
   "metadata": {},
   "outputs": [],
   "source": [
    "data = data.drop(['living_coef'], axis=1)\n",
    "data = data.drop(['kitchen_coef'], axis=1)"
   ]
  },
  {
   "cell_type": "code",
   "execution_count": 27,
   "metadata": {},
   "outputs": [
    {
     "data": {
      "text/html": [
       "<div>\n",
       "<style scoped>\n",
       "    .dataframe tbody tr th:only-of-type {\n",
       "        vertical-align: middle;\n",
       "    }\n",
       "\n",
       "    .dataframe tbody tr th {\n",
       "        vertical-align: top;\n",
       "    }\n",
       "\n",
       "    .dataframe thead th {\n",
       "        text-align: right;\n",
       "    }\n",
       "</style>\n",
       "<table border=\"1\" class=\"dataframe\">\n",
       "  <thead>\n",
       "    <tr style=\"text-align: right;\">\n",
       "      <th></th>\n",
       "      <th>total_images</th>\n",
       "      <th>last_price</th>\n",
       "      <th>total_area</th>\n",
       "      <th>first_day_exposition</th>\n",
       "      <th>rooms</th>\n",
       "      <th>ceiling_height</th>\n",
       "      <th>floors_total</th>\n",
       "      <th>living_area</th>\n",
       "      <th>floor</th>\n",
       "      <th>is_apartment</th>\n",
       "      <th>...</th>\n",
       "      <th>kitchen_area</th>\n",
       "      <th>balcony</th>\n",
       "      <th>locality_name</th>\n",
       "      <th>airports_nearest</th>\n",
       "      <th>cityCenters_nearest</th>\n",
       "      <th>parks_around3000</th>\n",
       "      <th>parks_nearest</th>\n",
       "      <th>ponds_around3000</th>\n",
       "      <th>ponds_nearest</th>\n",
       "      <th>days_exposition</th>\n",
       "    </tr>\n",
       "  </thead>\n",
       "  <tbody>\n",
       "    <tr>\n",
       "      <th>0</th>\n",
       "      <td>20</td>\n",
       "      <td>13000000.0</td>\n",
       "      <td>108.00</td>\n",
       "      <td>2019-03-07</td>\n",
       "      <td>3</td>\n",
       "      <td>2.700000</td>\n",
       "      <td>16</td>\n",
       "      <td>51.000000</td>\n",
       "      <td>8</td>\n",
       "      <td>NaN</td>\n",
       "      <td>...</td>\n",
       "      <td>25.000000</td>\n",
       "      <td>NaN</td>\n",
       "      <td>Санкт-Петербург</td>\n",
       "      <td>18863.0</td>\n",
       "      <td>16028.0</td>\n",
       "      <td>1.0</td>\n",
       "      <td>482.0</td>\n",
       "      <td>2.0</td>\n",
       "      <td>755.0</td>\n",
       "      <td>NaN</td>\n",
       "    </tr>\n",
       "    <tr>\n",
       "      <th>3</th>\n",
       "      <td>0</td>\n",
       "      <td>64900000.0</td>\n",
       "      <td>159.00</td>\n",
       "      <td>2015-07-24</td>\n",
       "      <td>3</td>\n",
       "      <td>2.828571</td>\n",
       "      <td>14</td>\n",
       "      <td>92.221650</td>\n",
       "      <td>9</td>\n",
       "      <td>NaN</td>\n",
       "      <td>...</td>\n",
       "      <td>23.783782</td>\n",
       "      <td>0.0</td>\n",
       "      <td>Санкт-Петербург</td>\n",
       "      <td>28098.0</td>\n",
       "      <td>6800.0</td>\n",
       "      <td>2.0</td>\n",
       "      <td>84.0</td>\n",
       "      <td>3.0</td>\n",
       "      <td>234.0</td>\n",
       "      <td>424.0</td>\n",
       "    </tr>\n",
       "    <tr>\n",
       "      <th>4</th>\n",
       "      <td>2</td>\n",
       "      <td>10000000.0</td>\n",
       "      <td>100.00</td>\n",
       "      <td>2018-06-19</td>\n",
       "      <td>2</td>\n",
       "      <td>3.030000</td>\n",
       "      <td>14</td>\n",
       "      <td>32.000000</td>\n",
       "      <td>13</td>\n",
       "      <td>NaN</td>\n",
       "      <td>...</td>\n",
       "      <td>41.000000</td>\n",
       "      <td>NaN</td>\n",
       "      <td>Санкт-Петербург</td>\n",
       "      <td>31856.0</td>\n",
       "      <td>8098.0</td>\n",
       "      <td>2.0</td>\n",
       "      <td>112.0</td>\n",
       "      <td>1.0</td>\n",
       "      <td>48.0</td>\n",
       "      <td>121.0</td>\n",
       "    </tr>\n",
       "    <tr>\n",
       "      <th>6</th>\n",
       "      <td>6</td>\n",
       "      <td>3700000.0</td>\n",
       "      <td>37.30</td>\n",
       "      <td>2017-11-02</td>\n",
       "      <td>1</td>\n",
       "      <td>2.620000</td>\n",
       "      <td>26</td>\n",
       "      <td>10.600000</td>\n",
       "      <td>6</td>\n",
       "      <td>NaN</td>\n",
       "      <td>...</td>\n",
       "      <td>14.400000</td>\n",
       "      <td>1.0</td>\n",
       "      <td>посёлок Парголово</td>\n",
       "      <td>52996.0</td>\n",
       "      <td>19143.0</td>\n",
       "      <td>0.0</td>\n",
       "      <td>NaN</td>\n",
       "      <td>0.0</td>\n",
       "      <td>NaN</td>\n",
       "      <td>155.0</td>\n",
       "    </tr>\n",
       "    <tr>\n",
       "      <th>9</th>\n",
       "      <td>18</td>\n",
       "      <td>5400000.0</td>\n",
       "      <td>61.00</td>\n",
       "      <td>2017-02-26</td>\n",
       "      <td>3</td>\n",
       "      <td>2.500000</td>\n",
       "      <td>9</td>\n",
       "      <td>43.600000</td>\n",
       "      <td>7</td>\n",
       "      <td>NaN</td>\n",
       "      <td>...</td>\n",
       "      <td>6.500000</td>\n",
       "      <td>2.0</td>\n",
       "      <td>Санкт-Петербург</td>\n",
       "      <td>50898.0</td>\n",
       "      <td>15008.0</td>\n",
       "      <td>0.0</td>\n",
       "      <td>NaN</td>\n",
       "      <td>0.0</td>\n",
       "      <td>NaN</td>\n",
       "      <td>289.0</td>\n",
       "    </tr>\n",
       "    <tr>\n",
       "      <th>...</th>\n",
       "      <td>...</td>\n",
       "      <td>...</td>\n",
       "      <td>...</td>\n",
       "      <td>...</td>\n",
       "      <td>...</td>\n",
       "      <td>...</td>\n",
       "      <td>...</td>\n",
       "      <td>...</td>\n",
       "      <td>...</td>\n",
       "      <td>...</td>\n",
       "      <td>...</td>\n",
       "      <td>...</td>\n",
       "      <td>...</td>\n",
       "      <td>...</td>\n",
       "      <td>...</td>\n",
       "      <td>...</td>\n",
       "      <td>...</td>\n",
       "      <td>...</td>\n",
       "      <td>...</td>\n",
       "      <td>...</td>\n",
       "      <td>...</td>\n",
       "    </tr>\n",
       "    <tr>\n",
       "      <th>23691</th>\n",
       "      <td>11</td>\n",
       "      <td>9470000.0</td>\n",
       "      <td>72.90</td>\n",
       "      <td>2016-10-13</td>\n",
       "      <td>2</td>\n",
       "      <td>2.750000</td>\n",
       "      <td>25</td>\n",
       "      <td>40.300000</td>\n",
       "      <td>7</td>\n",
       "      <td>NaN</td>\n",
       "      <td>...</td>\n",
       "      <td>10.600000</td>\n",
       "      <td>1.0</td>\n",
       "      <td>Санкт-Петербург</td>\n",
       "      <td>19424.0</td>\n",
       "      <td>4489.0</td>\n",
       "      <td>0.0</td>\n",
       "      <td>NaN</td>\n",
       "      <td>1.0</td>\n",
       "      <td>806.0</td>\n",
       "      <td>519.0</td>\n",
       "    </tr>\n",
       "    <tr>\n",
       "      <th>23693</th>\n",
       "      <td>9</td>\n",
       "      <td>4600000.0</td>\n",
       "      <td>62.40</td>\n",
       "      <td>2016-08-05</td>\n",
       "      <td>3</td>\n",
       "      <td>2.600000</td>\n",
       "      <td>9</td>\n",
       "      <td>40.000000</td>\n",
       "      <td>8</td>\n",
       "      <td>NaN</td>\n",
       "      <td>...</td>\n",
       "      <td>8.000000</td>\n",
       "      <td>0.0</td>\n",
       "      <td>Петергоф</td>\n",
       "      <td>45602.0</td>\n",
       "      <td>34104.0</td>\n",
       "      <td>1.0</td>\n",
       "      <td>352.0</td>\n",
       "      <td>1.0</td>\n",
       "      <td>675.0</td>\n",
       "      <td>239.0</td>\n",
       "    </tr>\n",
       "    <tr>\n",
       "      <th>23694</th>\n",
       "      <td>9</td>\n",
       "      <td>9700000.0</td>\n",
       "      <td>133.81</td>\n",
       "      <td>2017-03-21</td>\n",
       "      <td>3</td>\n",
       "      <td>3.700000</td>\n",
       "      <td>5</td>\n",
       "      <td>73.300000</td>\n",
       "      <td>3</td>\n",
       "      <td>NaN</td>\n",
       "      <td>...</td>\n",
       "      <td>13.830000</td>\n",
       "      <td>NaN</td>\n",
       "      <td>Санкт-Петербург</td>\n",
       "      <td>24665.0</td>\n",
       "      <td>4232.0</td>\n",
       "      <td>1.0</td>\n",
       "      <td>796.0</td>\n",
       "      <td>3.0</td>\n",
       "      <td>381.0</td>\n",
       "      <td>NaN</td>\n",
       "    </tr>\n",
       "    <tr>\n",
       "      <th>23697</th>\n",
       "      <td>13</td>\n",
       "      <td>11475000.0</td>\n",
       "      <td>76.75</td>\n",
       "      <td>2017-03-28</td>\n",
       "      <td>2</td>\n",
       "      <td>3.000000</td>\n",
       "      <td>17</td>\n",
       "      <td>44.515797</td>\n",
       "      <td>12</td>\n",
       "      <td>NaN</td>\n",
       "      <td>...</td>\n",
       "      <td>23.300000</td>\n",
       "      <td>2.0</td>\n",
       "      <td>Санкт-Петербург</td>\n",
       "      <td>39140.0</td>\n",
       "      <td>10364.0</td>\n",
       "      <td>2.0</td>\n",
       "      <td>173.0</td>\n",
       "      <td>3.0</td>\n",
       "      <td>196.0</td>\n",
       "      <td>602.0</td>\n",
       "    </tr>\n",
       "    <tr>\n",
       "      <th>23698</th>\n",
       "      <td>4</td>\n",
       "      <td>1350000.0</td>\n",
       "      <td>32.30</td>\n",
       "      <td>2017-07-21</td>\n",
       "      <td>1</td>\n",
       "      <td>2.500000</td>\n",
       "      <td>5</td>\n",
       "      <td>12.300000</td>\n",
       "      <td>1</td>\n",
       "      <td>NaN</td>\n",
       "      <td>...</td>\n",
       "      <td>9.000000</td>\n",
       "      <td>NaN</td>\n",
       "      <td>поселок Новый Учхоз</td>\n",
       "      <td>NaN</td>\n",
       "      <td>NaN</td>\n",
       "      <td>NaN</td>\n",
       "      <td>NaN</td>\n",
       "      <td>NaN</td>\n",
       "      <td>NaN</td>\n",
       "      <td>NaN</td>\n",
       "    </tr>\n",
       "  </tbody>\n",
       "</table>\n",
       "<p>19221 rows × 22 columns</p>\n",
       "</div>"
      ],
      "text/plain": [
       "       total_images  last_price  total_area first_day_exposition  rooms  \\\n",
       "0                20  13000000.0      108.00           2019-03-07      3   \n",
       "3                 0  64900000.0      159.00           2015-07-24      3   \n",
       "4                 2  10000000.0      100.00           2018-06-19      2   \n",
       "6                 6   3700000.0       37.30           2017-11-02      1   \n",
       "9                18   5400000.0       61.00           2017-02-26      3   \n",
       "...             ...         ...         ...                  ...    ...   \n",
       "23691            11   9470000.0       72.90           2016-10-13      2   \n",
       "23693             9   4600000.0       62.40           2016-08-05      3   \n",
       "23694             9   9700000.0      133.81           2017-03-21      3   \n",
       "23697            13  11475000.0       76.75           2017-03-28      2   \n",
       "23698             4   1350000.0       32.30           2017-07-21      1   \n",
       "\n",
       "       ceiling_height  floors_total  living_area  floor is_apartment  ...  \\\n",
       "0            2.700000            16    51.000000      8          NaN  ...   \n",
       "3            2.828571            14    92.221650      9          NaN  ...   \n",
       "4            3.030000            14    32.000000     13          NaN  ...   \n",
       "6            2.620000            26    10.600000      6          NaN  ...   \n",
       "9            2.500000             9    43.600000      7          NaN  ...   \n",
       "...               ...           ...          ...    ...          ...  ...   \n",
       "23691        2.750000            25    40.300000      7          NaN  ...   \n",
       "23693        2.600000             9    40.000000      8          NaN  ...   \n",
       "23694        3.700000             5    73.300000      3          NaN  ...   \n",
       "23697        3.000000            17    44.515797     12          NaN  ...   \n",
       "23698        2.500000             5    12.300000      1          NaN  ...   \n",
       "\n",
       "       kitchen_area  balcony        locality_name  airports_nearest  \\\n",
       "0         25.000000      NaN      Санкт-Петербург           18863.0   \n",
       "3         23.783782      0.0      Санкт-Петербург           28098.0   \n",
       "4         41.000000      NaN      Санкт-Петербург           31856.0   \n",
       "6         14.400000      1.0    посёлок Парголово           52996.0   \n",
       "9          6.500000      2.0      Санкт-Петербург           50898.0   \n",
       "...             ...      ...                  ...               ...   \n",
       "23691     10.600000      1.0      Санкт-Петербург           19424.0   \n",
       "23693      8.000000      0.0             Петергоф           45602.0   \n",
       "23694     13.830000      NaN      Санкт-Петербург           24665.0   \n",
       "23697     23.300000      2.0      Санкт-Петербург           39140.0   \n",
       "23698      9.000000      NaN  поселок Новый Учхоз               NaN   \n",
       "\n",
       "      cityCenters_nearest  parks_around3000  parks_nearest  ponds_around3000  \\\n",
       "0                 16028.0               1.0          482.0               2.0   \n",
       "3                  6800.0               2.0           84.0               3.0   \n",
       "4                  8098.0               2.0          112.0               1.0   \n",
       "6                 19143.0               0.0            NaN               0.0   \n",
       "9                 15008.0               0.0            NaN               0.0   \n",
       "...                   ...               ...            ...               ...   \n",
       "23691              4489.0               0.0            NaN               1.0   \n",
       "23693             34104.0               1.0          352.0               1.0   \n",
       "23694              4232.0               1.0          796.0               3.0   \n",
       "23697             10364.0               2.0          173.0               3.0   \n",
       "23698                 NaN               NaN            NaN               NaN   \n",
       "\n",
       "       ponds_nearest  days_exposition  \n",
       "0              755.0              NaN  \n",
       "3              234.0            424.0  \n",
       "4               48.0            121.0  \n",
       "6                NaN            155.0  \n",
       "9                NaN            289.0  \n",
       "...              ...              ...  \n",
       "23691          806.0            519.0  \n",
       "23693          675.0            239.0  \n",
       "23694          381.0              NaN  \n",
       "23697          196.0            602.0  \n",
       "23698            NaN              NaN  \n",
       "\n",
       "[19221 rows x 22 columns]"
      ]
     },
     "metadata": {},
     "output_type": "display_data"
    }
   ],
   "source": [
    "display(data)"
   ]
  },
  {
   "cell_type": "markdown",
   "metadata": {},
   "source": [
    "### is_apartment"
   ]
  },
  {
   "cell_type": "markdown",
   "metadata": {},
   "source": [
    "**Заменим пропуски на значения False, в данном случае, это уместно**"
   ]
  },
  {
   "cell_type": "code",
   "execution_count": 28,
   "metadata": {},
   "outputs": [
    {
     "name": "stdout",
     "output_type": "stream",
     "text": [
      "Уникальные значения столбца is_apartment:\n",
      "\n",
      "[nan False True]\n"
     ]
    }
   ],
   "source": [
    "print('Уникальные значения столбца is_apartment:')\n",
    "print()\n",
    "print(data['is_apartment'].unique())"
   ]
  },
  {
   "cell_type": "code",
   "execution_count": 29,
   "metadata": {},
   "outputs": [
    {
     "name": "stdout",
     "output_type": "stream",
     "text": [
      "rooms\n",
      "0      128\n",
      "1     5596\n",
      "2     5587\n",
      "3     4275\n",
      "4      896\n",
      "5      238\n",
      "6       87\n",
      "7       48\n",
      "8        9\n",
      "9        7\n",
      "10       3\n",
      "11       2\n",
      "12       1\n",
      "14       1\n",
      "15       1\n",
      "16       1\n",
      "19       1\n",
      "Name: rooms, dtype: int64\n"
     ]
    }
   ],
   "source": [
    "print((data[data['is_apartment'].isna() == True]).groupby('rooms')['rooms'].count())"
   ]
  },
  {
   "cell_type": "code",
   "execution_count": 30,
   "metadata": {},
   "outputs": [],
   "source": [
    "data['is_apartment'] = data['is_apartment'].fillna(False)"
   ]
  },
  {
   "cell_type": "markdown",
   "metadata": {},
   "source": [
    "### balcony"
   ]
  },
  {
   "cell_type": "markdown",
   "metadata": {},
   "source": [
    "**Заменим пропуски на 0, приведем к типу int**"
   ]
  },
  {
   "cell_type": "code",
   "execution_count": 31,
   "metadata": {},
   "outputs": [
    {
     "name": "stdout",
     "output_type": "stream",
     "text": [
      "Уникальные значения столбца balcony:\n",
      "\n",
      "[nan  0.  1.  2.  5.  4.  3.]\n"
     ]
    }
   ],
   "source": [
    "print('Уникальные значения столбца balcony:')\n",
    "print()\n",
    "print(data['balcony'].unique())\n"
   ]
  },
  {
   "cell_type": "code",
   "execution_count": 32,
   "metadata": {},
   "outputs": [],
   "source": [
    "data['balcony'] = data['balcony'].fillna(0)\n",
    "data['balcony'] = data['balcony'].astype('int')"
   ]
  },
  {
   "cell_type": "markdown",
   "metadata": {},
   "source": [
    "### locality_name"
   ]
  },
  {
   "cell_type": "markdown",
   "metadata": {},
   "source": [
    "**Заменим ропуски на строку без названия'**"
   ]
  },
  {
   "cell_type": "code",
   "execution_count": 33,
   "metadata": {},
   "outputs": [],
   "source": [
    "data['locality_name'] = data['locality_name'].fillna('без названия')"
   ]
  },
  {
   "cell_type": "markdown",
   "metadata": {},
   "source": [
    "### airports_nearest"
   ]
  },
  {
   "cell_type": "markdown",
   "metadata": {},
   "source": [
    "**Применим фильтр, убирающий значения расстояния до ближайшего аэропорта меньше 1 км**"
   ]
  },
  {
   "cell_type": "code",
   "execution_count": 34,
   "metadata": {},
   "outputs": [],
   "source": [
    "data = data.query('airports_nearest > 1000')"
   ]
  },
  {
   "cell_type": "markdown",
   "metadata": {},
   "source": [
    "### parks_around3000"
   ]
  },
  {
   "cell_type": "markdown",
   "metadata": {},
   "source": [
    "**Заменим пропуски на 0, приведем к типу int**"
   ]
  },
  {
   "cell_type": "code",
   "execution_count": 35,
   "metadata": {},
   "outputs": [
    {
     "name": "stdout",
     "output_type": "stream",
     "text": [
      "Уникальные значения столбца parks_around3000:\n",
      "\n",
      "[1. 2. 0. 3.]\n"
     ]
    }
   ],
   "source": [
    "print('Уникальные значения столбца parks_around3000:')\n",
    "print()\n",
    "print(data['parks_around3000'].unique())"
   ]
  },
  {
   "cell_type": "code",
   "execution_count": 36,
   "metadata": {},
   "outputs": [],
   "source": [
    "data['parks_around3000'] = data['parks_around3000'].fillna(0)\n",
    "data['parks_around3000'] = data['parks_around3000'].astype('int')"
   ]
  },
  {
   "cell_type": "markdown",
   "metadata": {},
   "source": [
    "### ponds_around3000"
   ]
  },
  {
   "cell_type": "markdown",
   "metadata": {},
   "source": [
    "**Заменим пропуски на 0, приведем к типу int**"
   ]
  },
  {
   "cell_type": "code",
   "execution_count": 37,
   "metadata": {},
   "outputs": [
    {
     "name": "stdout",
     "output_type": "stream",
     "text": [
      "Уникальные значения столбца ponds_around3000:\n",
      "\n",
      "[2. 3. 1. 0.]\n"
     ]
    }
   ],
   "source": [
    "print('Уникальные значения столбца ponds_around3000:')\n",
    "print()\n",
    "print(data['ponds_around3000'].unique())"
   ]
  },
  {
   "cell_type": "code",
   "execution_count": 38,
   "metadata": {},
   "outputs": [],
   "source": [
    "data['ponds_around3000'] = data['ponds_around3000'].fillna(0)\n",
    "data['ponds_around3000'] = data['ponds_around3000'].astype('int')"
   ]
  },
  {
   "cell_type": "markdown",
   "metadata": {},
   "source": [
    "### ponds_nearest"
   ]
  },
  {
   "cell_type": "markdown",
   "metadata": {},
   "source": [
    "**Заменим пропуски на медианное значение**"
   ]
  },
  {
   "cell_type": "code",
   "execution_count": 39,
   "metadata": {},
   "outputs": [
    {
     "data": {
      "text/plain": [
       "count    8081.000000\n",
       "mean      520.607351\n",
       "std       279.170640\n",
       "min        16.000000\n",
       "25%       294.000000\n",
       "50%       505.000000\n",
       "75%       733.000000\n",
       "max      1344.000000\n",
       "Name: ponds_nearest, dtype: float64"
      ]
     },
     "execution_count": 39,
     "metadata": {},
     "output_type": "execute_result"
    }
   ],
   "source": [
    "data['ponds_nearest'].describe()"
   ]
  },
  {
   "cell_type": "code",
   "execution_count": 40,
   "metadata": {},
   "outputs": [],
   "source": [
    "data['ponds_nearest'] = data['ponds_nearest'].fillna(data['ponds_nearest'].median())"
   ]
  },
  {
   "cell_type": "markdown",
   "metadata": {},
   "source": [
    "### last_price"
   ]
  },
  {
   "cell_type": "markdown",
   "metadata": {},
   "source": [
    "**Округлим значения, приведем к типу int**"
   ]
  },
  {
   "cell_type": "code",
   "execution_count": 41,
   "metadata": {},
   "outputs": [],
   "source": [
    "data['last_price'] = data['last_price'].round()\n",
    "data['last_price'] = data['last_price'].astype('int')"
   ]
  },
  {
   "cell_type": "markdown",
   "metadata": {},
   "source": [
    "**Проверим на оставшиеся пропуски и дубликаты**"
   ]
  },
  {
   "cell_type": "code",
   "execution_count": 42,
   "metadata": {},
   "outputs": [
    {
     "name": "stdout",
     "output_type": "stream",
     "text": [
      "Количество пропусков:\n"
     ]
    },
    {
     "data": {
      "text/plain": [
       "total_images               0\n",
       "last_price                 0\n",
       "total_area                 0\n",
       "first_day_exposition       0\n",
       "rooms                      0\n",
       "ceiling_height             0\n",
       "floors_total               0\n",
       "living_area                0\n",
       "floor                      0\n",
       "is_apartment               0\n",
       "studio                     0\n",
       "open_plan                  0\n",
       "kitchen_area               1\n",
       "balcony                    0\n",
       "locality_name              0\n",
       "airports_nearest           0\n",
       "cityCenters_nearest        1\n",
       "parks_around3000           0\n",
       "parks_nearest           9088\n",
       "ponds_around3000           0\n",
       "ponds_nearest              0\n",
       "days_exposition         2157\n",
       "dtype: int64"
      ]
     },
     "metadata": {},
     "output_type": "display_data"
    },
    {
     "name": "stdout",
     "output_type": "stream",
     "text": [
      "\n",
      "Количество дубликатов:\n",
      "0\n"
     ]
    }
   ],
   "source": [
    "print('Количество пропусков:')\n",
    "display(data.isnull().sum())\n",
    "print()\n",
    "print('Количество дубликатов:')\n",
    "print(data.duplicated().sum())"
   ]
  },
  {
   "cell_type": "markdown",
   "metadata": {},
   "source": [
    "Вывод:\n",
    "\n",
    "В таблице есть пропущенные значения. Где это возможно, произвели замену. Привели данные к нужным типам, где это требовалось.\n",
    "Пропуски в солбце \"parks_nearest\" не повлияют на последующий анализ данных, а пропуски в столбце \"days_exposition\" скорее всего означают то, что объявление еще не снято с публикации.\n",
    "\n"
   ]
  },
  {
   "cell_type": "markdown",
   "metadata": {},
   "source": [
    "## Расчёты и добавление результатов в таблицу"
   ]
  },
  {
   "cell_type": "markdown",
   "metadata": {},
   "source": [
    "**Добавление столбца с данными о цене квадратного метра**"
   ]
  },
  {
   "cell_type": "code",
   "execution_count": 43,
   "metadata": {},
   "outputs": [],
   "source": [
    "#meter_price\n",
    "\n",
    "data['meter_price'] = data['last_price'] / data['total_area']\n",
    "data['meter_price'] = data['meter_price'].round()\n",
    "data['meter_price'] = data['meter_price'].astype('int')"
   ]
  },
  {
   "cell_type": "markdown",
   "metadata": {},
   "source": [
    "**Добавление столбца с данными о недели**"
   ]
  },
  {
   "cell_type": "code",
   "execution_count": 44,
   "metadata": {},
   "outputs": [],
   "source": [
    "#weekday\n",
    "\n",
    "data['weekday'] = data['first_day_exposition'].dt.weekday"
   ]
  },
  {
   "cell_type": "markdown",
   "metadata": {},
   "source": [
    "**Добавление столбца с данными о дне**"
   ]
  },
  {
   "cell_type": "code",
   "execution_count": 45,
   "metadata": {},
   "outputs": [],
   "source": [
    "#exposition_day\n",
    "\n",
    "T = []\n",
    "\n",
    "for day in data['weekday']:\n",
    "    if day == 0:\n",
    "        day = 'Monday'\n",
    "        T.append(day)\n",
    "    else:\n",
    "        if day == 1:\n",
    "            day = 'Tuesday'\n",
    "            T.append(day)\n",
    "        else:\n",
    "            if day == 2:\n",
    "                day = 'Wednesday'\n",
    "                T.append(day)\n",
    "            else:\n",
    "                if day == 3:\n",
    "                    day = 'Thursday'\n",
    "                    T.append(day)\n",
    "                else:\n",
    "                    if day == 4:\n",
    "                        day = 'Friday'\n",
    "                        T.append(day)\n",
    "                    else:\n",
    "                        if day == 5:\n",
    "                            day = 'Saturday'\n",
    "                            T.append(day)\n",
    "                        else:\n",
    "                            day = 'Sunday'\n",
    "                            T.append(day)\n",
    "        \n",
    "    \n",
    "data['exposition_day'] = T"
   ]
  },
  {
   "cell_type": "markdown",
   "metadata": {},
   "source": [
    "**Добавление столбца с данными о месяце**"
   ]
  },
  {
   "cell_type": "code",
   "execution_count": 46,
   "metadata": {},
   "outputs": [],
   "source": [
    "#exposition_month\n",
    "\n",
    "data['exposition_month'] = data['first_day_exposition'].dt.month"
   ]
  },
  {
   "cell_type": "markdown",
   "metadata": {},
   "source": [
    "**Добавление столбца с данными о годе**"
   ]
  },
  {
   "cell_type": "code",
   "execution_count": 47,
   "metadata": {},
   "outputs": [],
   "source": [
    "#exposition_year \n",
    "\n",
    "data['exposition_year'] = data['first_day_exposition'].dt.year"
   ]
  },
  {
   "cell_type": "markdown",
   "metadata": {},
   "source": [
    "**Добавление столбца с данными о первом, последнем или другом этаже**"
   ]
  },
  {
   "cell_type": "code",
   "execution_count": 48,
   "metadata": {},
   "outputs": [],
   "source": [
    "#grouped_floors\n",
    "\n",
    "def sort_grouped_floors(row):\n",
    "    floors_total = row['floors_total']\n",
    "    floor = row['floor']\n",
    " \n",
    "    if floor == 1:\n",
    "        return 'Первый'\n",
    " \n",
    "    elif floor == floors_total:\n",
    "        return 'Последний'\n",
    " \n",
    "    return 'Другой'\n",
    "\n",
    "data['grouped_floors'] = data.apply(sort_grouped_floors, axis=1)\n"
   ]
  },
  {
   "cell_type": "markdown",
   "metadata": {},
   "source": [
    "**Добавление столбца с данными об отношении жилой площади к общей**"
   ]
  },
  {
   "cell_type": "code",
   "execution_count": 49,
   "metadata": {},
   "outputs": [],
   "source": [
    "#ratio_living_total_area\n",
    "\n",
    "data['ratio_living_total_area'] = data['living_area'] / data['total_area']"
   ]
  },
  {
   "cell_type": "markdown",
   "metadata": {},
   "source": [
    "**Добавление столбца с данными об отношении жилой площади к площади кухни**"
   ]
  },
  {
   "cell_type": "code",
   "execution_count": 50,
   "metadata": {},
   "outputs": [],
   "source": [
    "#ratio_kitchen_total_area\n",
    "\n",
    "data['ratio_kitchen_total_area'] = data['kitchen_area'] / data['total_area']"
   ]
  },
  {
   "cell_type": "markdown",
   "metadata": {},
   "source": [
    "**Округление значений стобца \"расстояние до центра города\" до километра**"
   ]
  },
  {
   "cell_type": "code",
   "execution_count": 51,
   "metadata": {},
   "outputs": [],
   "source": [
    "#cityCenters_nearest_km\n",
    "\n",
    "data['cityCenters_nearest_km'] = data['cityCenters_nearest'] / 1000\n",
    "data['cityCenters_nearest_km'] = data['cityCenters_nearest_km'].round()"
   ]
  },
  {
   "cell_type": "markdown",
   "metadata": {},
   "source": [
    "## Исследовательский анализ данных"
   ]
  },
  {
   "cell_type": "code",
   "execution_count": 52,
   "metadata": {},
   "outputs": [
    {
     "name": "stdout",
     "output_type": "stream",
     "text": [
      "living_area:\n",
      "count    16275.000000\n",
      "mean        36.356513\n",
      "std         24.083989\n",
      "min          2.000000\n",
      "25%         19.384779\n",
      "50%         31.000000\n",
      "75%         43.700000\n",
      "max        409.700000\n",
      "Name: living_area, dtype: float64\n"
     ]
    }
   ],
   "source": [
    "#living_area\n",
    "\n",
    "print('living_area:')\n",
    "print(data['living_area'].describe())"
   ]
  },
  {
   "cell_type": "code",
   "execution_count": 53,
   "metadata": {},
   "outputs": [
    {
     "name": "stdout",
     "output_type": "stream",
     "text": [
      "total_area:\n",
      "count    16275.000000\n",
      "mean        63.482092\n",
      "std         38.531978\n",
      "min         12.000000\n",
      "25%         41.300000\n",
      "50%         54.400000\n",
      "75%         73.300000\n",
      "max        900.000000\n",
      "Name: total_area, dtype: float64\n"
     ]
    }
   ],
   "source": [
    "#total_area \n",
    "\n",
    "print('total_area:')\n",
    "print(data['total_area'].describe())"
   ]
  },
  {
   "cell_type": "code",
   "execution_count": 54,
   "metadata": {},
   "outputs": [
    {
     "name": "stdout",
     "output_type": "stream",
     "text": [
      "last_price:\n",
      "count    1.627500e+04\n",
      "mean     7.640903e+06\n",
      "std      1.247597e+07\n",
      "min      1.219000e+04\n",
      "25%      4.050000e+06\n",
      "50%      5.300000e+06\n",
      "75%      7.729000e+06\n",
      "max      7.630000e+08\n",
      "Name: last_price, dtype: float64\n"
     ]
    }
   ],
   "source": [
    "#last_price\n",
    "\n",
    "print('last_price:')\n",
    "print(data['last_price'].describe())"
   ]
  },
  {
   "cell_type": "code",
   "execution_count": 55,
   "metadata": {},
   "outputs": [
    {
     "name": "stdout",
     "output_type": "stream",
     "text": [
      "rooms:\n",
      "count    16275.000000\n",
      "mean         2.138495\n",
      "std          1.119883\n",
      "min          0.000000\n",
      "25%          1.000000\n",
      "50%          2.000000\n",
      "75%          3.000000\n",
      "max         19.000000\n",
      "Name: rooms, dtype: float64\n"
     ]
    }
   ],
   "source": [
    "#rooms\n",
    "\n",
    "print('rooms:')\n",
    "print(data['rooms'].describe())"
   ]
  },
  {
   "cell_type": "code",
   "execution_count": 56,
   "metadata": {},
   "outputs": [
    {
     "name": "stdout",
     "output_type": "stream",
     "text": [
      "ceiling_height:\n",
      "count    16275.000000\n",
      "mean         2.750611\n",
      "std          0.303434\n",
      "min          2.281333\n",
      "25%          2.550000\n",
      "50%          2.693846\n",
      "75%          2.800000\n",
      "max          8.300000\n",
      "Name: ceiling_height, dtype: float64\n"
     ]
    }
   ],
   "source": [
    "#ceiling_height\n",
    "\n",
    "print('ceiling_height:')\n",
    "print(data['ceiling_height'].describe())"
   ]
  },
  {
   "cell_type": "code",
   "execution_count": 57,
   "metadata": {},
   "outputs": [],
   "source": [
    "data = data.query('living_area > 1')"
   ]
  },
  {
   "cell_type": "code",
   "execution_count": 58,
   "metadata": {},
   "outputs": [
    {
     "data": {
      "text/plain": [
       "Text(0.5, 1.0, 'Распределение жилой площади')"
      ]
     },
     "execution_count": 58,
     "metadata": {},
     "output_type": "execute_result"
    },
    {
     "data": {
      "image/png": "[encoded data removed]",
      "text/plain": [
       "<Figure size 432x288 with 1 Axes>"
      ]
     },
     "metadata": {
      "needs_background": "light"
     },
     "output_type": "display_data"
    }
   ],
   "source": [
    "data.plot(y='living_area', kind='hist', bins=50, range=(10, 100))\n",
    "plt.title('Распределение жилой площади')"
   ]
  },
  {
   "cell_type": "code",
   "execution_count": 59,
   "metadata": {},
   "outputs": [
    {
     "data": {
      "text/plain": [
       "Text(0.5, 1.0, 'Распределение общей площади')"
      ]
     },
     "execution_count": 59,
     "metadata": {},
     "output_type": "execute_result"
    },
    {
     "data": {
      "image/png": "[encoded data removed]",
      "text/plain": [
       "<Figure size 432x288 with 1 Axes>"
      ]
     },
     "metadata": {
      "needs_background": "light"
     },
     "output_type": "display_data"
    }
   ],
   "source": [
    "data.plot(y='total_area', kind='hist', bins=500, range=(10, 1000))\n",
    "plt.title('Распределение общей площади')"
   ]
  },
  {
   "cell_type": "code",
   "execution_count": 60,
   "metadata": {},
   "outputs": [
    {
     "data": {
      "text/plain": [
       "Text(0.5, 1.0, 'Распределение цены')"
      ]
     },
     "execution_count": 60,
     "metadata": {},
     "output_type": "execute_result"
    },
    {
     "data": {
      "image/png": "[encoded data removed]",
      "text/plain": [
       "<Figure size 432x288 with 1 Axes>"
      ]
     },
     "metadata": {
      "needs_background": "light"
     },
     "output_type": "display_data"
    }
   ],
   "source": [
    "data.plot(y='last_price', kind='hist', bins=50, range=(1000000, 100000000))\n",
    "plt.title('Распределение цены')"
   ]
  },
  {
   "cell_type": "code",
   "execution_count": 61,
   "metadata": {},
   "outputs": [
    {
     "data": {
      "text/plain": [
       "Text(0.5, 1.0, 'Распределение числа комнат')"
      ]
     },
     "execution_count": 61,
     "metadata": {},
     "output_type": "execute_result"
    },
    {
     "data": {
      "image/png": "[encoded data removed]",
      "text/plain": [
       "<Figure size 432x288 with 1 Axes>"
      ]
     },
     "metadata": {
      "needs_background": "light"
     },
     "output_type": "display_data"
    }
   ],
   "source": [
    "data['rooms'].value_counts().plot(kind='bar')\n",
    "plt.title('Распределение числа комнат')"
   ]
  },
  {
   "cell_type": "code",
   "execution_count": 62,
   "metadata": {},
   "outputs": [
    {
     "data": {
      "text/plain": [
       "Text(0.5, 1.0, 'Распределение высоты потолков')"
      ]
     },
     "execution_count": 62,
     "metadata": {},
     "output_type": "execute_result"
    },
    {
     "data": {
      "image/png": "[encoded data removed]",
      "text/plain": [
       "<Figure size 432x288 with 1 Axes>"
      ]
     },
     "metadata": {
      "needs_background": "light"
     },
     "output_type": "display_data"
    }
   ],
   "source": [
    "data.plot(y='ceiling_height', kind='hist', bins=100, range=(0, 8))\n",
    "plt.title('Распределение высоты потолков')"
   ]
  },
  {
   "cell_type": "code",
   "execution_count": 63,
   "metadata": {},
   "outputs": [],
   "source": [
    "data = data.query('total_area < 450')\n",
    "data = data.query('last_price < 100000000')"
   ]
  },
  {
   "cell_type": "code",
   "execution_count": 64,
   "metadata": {},
   "outputs": [
    {
     "name": "stdout",
     "output_type": "stream",
     "text": [
      "days_exposition:\n",
      "count    14082.000000\n",
      "mean       184.588908\n",
      "std        225.553766\n",
      "min          1.000000\n",
      "25%         44.000000\n",
      "50%         97.000000\n",
      "75%        235.000000\n",
      "max       1572.000000\n",
      "Name: days_exposition, dtype: float64\n"
     ]
    }
   ],
   "source": [
    "#days_exposition\n",
    "\n",
    "print('days_exposition:')\n",
    "print(data['days_exposition'].describe())"
   ]
  },
  {
   "cell_type": "code",
   "execution_count": 65,
   "metadata": {},
   "outputs": [
    {
     "data": {
      "image/png": "[encoded data removed]",
      "text/plain": [
       "<Figure size 432x288 with 1 Axes>"
      ]
     },
     "metadata": {
      "needs_background": "light"
     },
     "output_type": "display_data"
    }
   ],
   "source": [
    "data.plot(y='days_exposition', kind='hist', bins=100, range=(0, 1600), title='Время продажи квартиры')\n",
    "plt.show()"
   ]
  },
  {
   "cell_type": "code",
   "execution_count": 66,
   "metadata": {},
   "outputs": [
    {
     "data": {
      "image/png": "[encoded data removed]",
      "text/plain": [
       "<Figure size 432x288 with 1 Axes>"
      ]
     },
     "metadata": {
      "needs_background": "light"
     },
     "output_type": "display_data"
    }
   ],
   "source": [
    "data.plot(y='days_exposition', kind='hist', bins=1000, range=(0, 1600),  title='Время продажи квартиры')\n",
    "plt.show()"
   ]
  },
  {
   "cell_type": "markdown",
   "metadata": {},
   "source": [
    "Среднее время продажи квартиры - 156 дней, быстрое время продажи квартиры - 22 дня, больше 400 дней - необычно долгий срок продажи квартиры."
   ]
  },
  {
   "cell_type": "markdown",
   "metadata": {},
   "source": [
    "Редким явлением является очень быстрая продажа квартры (менее 10 дней), эти значения отфильтрованы. Так же при предобработке данных были отсечены выбивающиеся явления в других столбцах.\n"
   ]
  },
  {
   "cell_type": "code",
   "execution_count": 67,
   "metadata": {},
   "outputs": [
    {
     "data": {
      "image/png": "[encoded data removed]",
      "text/plain": [
       "<Figure size 432x288 with 1 Axes>"
      ]
     },
     "metadata": {
      "needs_background": "light"
     },
     "output_type": "display_data"
    }
   ],
   "source": [
    "data.groupby('rooms')['last_price'].median().plot(kind='bar', title='Зависимость цены от количества комнат')\n",
    "plt.show()"
   ]
  },
  {
   "cell_type": "markdown",
   "metadata": {},
   "source": [
    "Чем больше комнат, тем в целом дороже квартира."
   ]
  },
  {
   "cell_type": "code",
   "execution_count": 68,
   "metadata": {
    "scrolled": false
   },
   "outputs": [
    {
     "data": {
      "image/png": "[encoded data removed]",
      "text/plain": [
       "<Figure size 432x288 with 1 Axes>"
      ]
     },
     "metadata": {
      "needs_background": "light"
     },
     "output_type": "display_data"
    }
   ],
   "source": [
    "data.groupby('grouped_floors')['last_price'].median().plot(kind='bar', title='Зависимость цены от этажа')\n",
    "plt.show()"
   ]
  },
  {
   "cell_type": "markdown",
   "metadata": {},
   "source": [
    "Квартира на первом этаже будет стоить дешевле квартиры на последнем этаже."
   ]
  },
  {
   "cell_type": "code",
   "execution_count": 69,
   "metadata": {},
   "outputs": [
    {
     "data": {
      "image/png": "[encoded data removed]",
      "text/plain": [
       "<Figure size 432x288 with 1 Axes>"
      ]
     },
     "metadata": {
      "needs_background": "light"
     },
     "output_type": "display_data"
    }
   ],
   "source": [
    "data.groupby('cityCenters_nearest_km')['last_price'].median().plot(kind='hist', title='Зависимость цены от удаленности до центра', bins=100)\n",
    "plt.show()"
   ]
  },
  {
   "cell_type": "markdown",
   "metadata": {},
   "source": [
    "Чем дальше от центра города, тем цена на квартиру дешевле."
   ]
  },
  {
   "cell_type": "code",
   "execution_count": 70,
   "metadata": {
    "scrolled": true
   },
   "outputs": [
    {
     "data": {
      "image/png": "[encoded data removed]",
      "text/plain": [
       "<Figure size 432x288 with 1 Axes>"
      ]
     },
     "metadata": {
      "needs_background": "light"
     },
     "output_type": "display_data"
    },
    {
     "data": {
      "image/png": "[encoded data removed]",
      "text/plain": [
       "<Figure size 432x288 with 1 Axes>"
      ]
     },
     "metadata": {
      "needs_background": "light"
     },
     "output_type": "display_data"
    }
   ],
   "source": [
    "data.groupby('living_area')['last_price'].median().plot(kind='hist', title='Зависимость цены от жилой площади', bins=100)\n",
    "\n",
    "data.plot(x='living_area', y='last_price', kind='scatter') \n",
    "\n",
    "plt.show()"
   ]
  },
  {
   "cell_type": "code",
   "execution_count": 71,
   "metadata": {},
   "outputs": [
    {
     "data": {
      "image/png": "[encoded data removed]",
      "text/plain": [
       "<Figure size 432x288 with 1 Axes>"
      ]
     },
     "metadata": {
      "needs_background": "light"
     },
     "output_type": "display_data"
    },
    {
     "data": {
      "image/png": "[encoded data removed]",
      "text/plain": [
       "<Figure size 432x288 with 1 Axes>"
      ]
     },
     "metadata": {
      "needs_background": "light"
     },
     "output_type": "display_data"
    }
   ],
   "source": [
    "data.groupby('total_area')['last_price'].median().plot(kind='hist', title='Зависимость цены от общей площади', bins=100)\n",
    "\n",
    "data.plot(x='total_area', y='last_price', kind='scatter') \n",
    "plt.show()"
   ]
  },
  {
   "cell_type": "code",
   "execution_count": 72,
   "metadata": {},
   "outputs": [
    {
     "data": {
      "image/png": "[encoded data removed]",
      "text/plain": [
       "<Figure size 432x288 with 1 Axes>"
      ]
     },
     "metadata": {
      "needs_background": "light"
     },
     "output_type": "display_data"
    },
    {
     "data": {
      "image/png": "[encoded data removed]",
      "text/plain": [
       "<Figure size 432x288 with 1 Axes>"
      ]
     },
     "metadata": {
      "needs_background": "light"
     },
     "output_type": "display_data"
    }
   ],
   "source": [
    "data.groupby('ratio_living_total_area')['last_price'].median().plot(kind='hist', title='Зависимость цены от соотношения общей и жилой площади', bins=100)\n",
    "\n",
    "data.plot(x='ratio_living_total_area', y='last_price', kind='scatter') \n",
    "plt.show()"
   ]
  },
  {
   "cell_type": "code",
   "execution_count": 73,
   "metadata": {},
   "outputs": [
    {
     "data": {
      "image/png": "[encoded data removed]",
      "text/plain": [
       "<Figure size 432x288 with 1 Axes>"
      ]
     },
     "metadata": {
      "needs_background": "light"
     },
     "output_type": "display_data"
    }
   ],
   "source": [
    "data.groupby('exposition_day')['last_price'].median().plot(kind='bar', title='Зависимость цены от дня публикации')\n",
    "plt.show()\n"
   ]
  },
  {
   "cell_type": "markdown",
   "metadata": {},
   "source": [
    "Квартиры, выставленные в четверг, дороже квартир, выставленных в воскресенье."
   ]
  },
  {
   "cell_type": "code",
   "execution_count": 74,
   "metadata": {},
   "outputs": [
    {
     "data": {
      "image/png": "[encoded data removed]",
      "text/plain": [
       "<Figure size 432x288 with 1 Axes>"
      ]
     },
     "metadata": {
      "needs_background": "light"
     },
     "output_type": "display_data"
    }
   ],
   "source": [
    "data.groupby('exposition_month')['last_price'].median().plot(kind='bar', title='Зависимость цены от месяца публикации')\n",
    "plt.show()\n",
    "\n"
   ]
  },
  {
   "cell_type": "markdown",
   "metadata": {},
   "source": [
    "Квартиры, выставленные в ноябре, дороже квартир, выставленных в июне."
   ]
  },
  {
   "cell_type": "code",
   "execution_count": 75,
   "metadata": {},
   "outputs": [
    {
     "data": {
      "image/png": "[encoded data removed]",
      "text/plain": [
       "<Figure size 432x288 with 1 Axes>"
      ]
     },
     "metadata": {
      "needs_background": "light"
     },
     "output_type": "display_data"
    }
   ],
   "source": [
    "data.groupby('exposition_year')['last_price'].median().plot(kind='bar', title='Зависимость цены от года публикации')\n",
    "plt.show()"
   ]
  },
  {
   "cell_type": "code",
   "execution_count": 76,
   "metadata": {},
   "outputs": [
    {
     "data": {
      "text/plain": [
       "rooms                      0.487037\n",
       "cityCenters_nearest       -0.302144\n",
       "living_area                0.686621\n",
       "total_area                 0.769595\n",
       "ratio_living_total_area    0.017762\n",
       "dtype: float64"
      ]
     },
     "execution_count": 76,
     "metadata": {},
     "output_type": "execute_result"
    }
   ],
   "source": [
    "data[['rooms', 'cityCenters_nearest', 'living_area', 'total_area', 'ratio_living_total_area']].corrwith(data['last_price'])"
   ]
  },
  {
   "cell_type": "code",
   "execution_count": 77,
   "metadata": {},
   "outputs": [],
   "source": [
    "top10_locality_name = data['locality_name'].value_counts().index[:10]"
   ]
  },
  {
   "cell_type": "code",
   "execution_count": 78,
   "metadata": {},
   "outputs": [
    {
     "name": "stdout",
     "output_type": "stream",
     "text": [
      "Топ 10 населенных пунктов с наибольшим числом объявлений и средняя цена за квадратный метр в этих населенных пунтктах\n",
      "\n",
      "locality_name\n",
      "Колпино               75468.143860\n",
      "Красное Село          72965.930070\n",
      "Кронштадт             79853.926471\n",
      "Ломоносов             73081.177570\n",
      "Петергоф              85556.320000\n",
      "Пушкин               103360.512903\n",
      "Санкт-Петербург      113849.367664\n",
      "Сестрорецк           102465.218182\n",
      "посёлок Парголово     90709.743151\n",
      "посёлок Шушары        78957.809264\n",
      "Name: meter_price, dtype: float64\n"
     ]
    }
   ],
   "source": [
    "print('Топ 10 населенных пунктов с наибольшим числом объявлений и средняя цена за квадратный метр в этих населенных пунтктах')\n",
    "print()\n",
    "print(data[data['locality_name'].isin(top10_locality_name)].groupby('locality_name')['meter_price'].mean())"
   ]
  },
  {
   "cell_type": "code",
   "execution_count": 79,
   "metadata": {},
   "outputs": [
    {
     "name": "stdout",
     "output_type": "stream",
     "text": [
      "Топ 10 населенных пунктов с наибольшим числом объявлений и средняя цена на квартиру в этих населенных пунтктах\n",
      "\n",
      "locality_name\n",
      "Колпино              4.088796e+06\n",
      "Красное Село         3.895294e+06\n",
      "Кронштадт            4.144441e+06\n",
      "Ломоносов            3.757598e+06\n",
      "Петергоф             4.460366e+06\n",
      "Пушкин               6.455356e+06\n",
      "Санкт-Петербург      7.594528e+06\n",
      "Сестрорецк           6.444782e+06\n",
      "посёлок Парголово    4.463367e+06\n",
      "посёлок Шушары       4.117134e+06\n",
      "Name: last_price, dtype: float64\n"
     ]
    }
   ],
   "source": [
    "print('Топ 10 населенных пунктов с наибольшим числом объявлений и средняя цена на квартиру в этих населенных пунтктах')\n",
    "print()\n",
    "top10_last_price = data[data['locality_name'].isin(top10_locality_name)].groupby('locality_name')['last_price'].mean()\n",
    "print(top10_last_price)"
   ]
  },
  {
   "cell_type": "code",
   "execution_count": 80,
   "metadata": {},
   "outputs": [
    {
     "name": "stdout",
     "output_type": "stream",
     "text": [
      "Минимальная средняя цена за квартиру: locality_name\n",
      "Ломоносов    3.757598e+06\n",
      "Name: last_price, dtype: float64\n"
     ]
    }
   ],
   "source": [
    "print('Минимальная средняя цена за квартиру:', top10_last_price.loc[top10_last_price == top10_last_price.min()])"
   ]
  },
  {
   "cell_type": "code",
   "execution_count": 81,
   "metadata": {},
   "outputs": [
    {
     "name": "stdout",
     "output_type": "stream",
     "text": [
      "Максимальная средняя цена за квартиру: locality_name\n",
      "Санкт-Петербург    7.594528e+06\n",
      "Name: last_price, dtype: float64\n"
     ]
    }
   ],
   "source": [
    "print('Максимальная средняя цена за квартиру:', top10_last_price.loc[top10_last_price == top10_last_price.max()])\n"
   ]
  },
  {
   "cell_type": "code",
   "execution_count": 82,
   "metadata": {},
   "outputs": [],
   "source": [
    "data_piter = data.query('locality_name == \"Санкт-Петербург\"')\n"
   ]
  },
  {
   "cell_type": "code",
   "execution_count": 83,
   "metadata": {},
   "outputs": [
    {
     "data": {
      "image/png": "[encoded data removed]",
      "text/plain": [
       "<Figure size 432x288 with 1 Axes>"
      ]
     },
     "metadata": {
      "needs_background": "light"
     },
     "output_type": "display_data"
    }
   ],
   "source": [
    "data_piter.groupby('cityCenters_nearest_km')['last_price'].mean().plot(kind='bar', title='Зависимость цены от удаленност от центра Санкт-Петербурга')\n",
    "plt.show('Зависимость цены от удаленност от центра Санкт-Петербурга')\n"
   ]
  },
  {
   "cell_type": "code",
   "execution_count": 84,
   "metadata": {},
   "outputs": [],
   "source": [
    "data_piter_centre = data_piter.query('cityCenters_nearest_km < 8')"
   ]
  },
  {
   "cell_type": "code",
   "execution_count": 85,
   "metadata": {},
   "outputs": [
    {
     "data": {
      "text/html": [
       "<div>\n",
       "<style scoped>\n",
       "    .dataframe tbody tr th:only-of-type {\n",
       "        vertical-align: middle;\n",
       "    }\n",
       "\n",
       "    .dataframe tbody tr th {\n",
       "        vertical-align: top;\n",
       "    }\n",
       "\n",
       "    .dataframe thead th {\n",
       "        text-align: right;\n",
       "    }\n",
       "</style>\n",
       "<table border=\"1\" class=\"dataframe\">\n",
       "  <thead>\n",
       "    <tr style=\"text-align: right;\">\n",
       "      <th></th>\n",
       "      <th>total_images</th>\n",
       "      <th>last_price</th>\n",
       "      <th>total_area</th>\n",
       "      <th>first_day_exposition</th>\n",
       "      <th>rooms</th>\n",
       "      <th>ceiling_height</th>\n",
       "      <th>floors_total</th>\n",
       "      <th>living_area</th>\n",
       "      <th>floor</th>\n",
       "      <th>is_apartment</th>\n",
       "      <th>...</th>\n",
       "      <th>days_exposition</th>\n",
       "      <th>meter_price</th>\n",
       "      <th>weekday</th>\n",
       "      <th>exposition_day</th>\n",
       "      <th>exposition_month</th>\n",
       "      <th>exposition_year</th>\n",
       "      <th>grouped_floors</th>\n",
       "      <th>ratio_living_total_area</th>\n",
       "      <th>ratio_kitchen_total_area</th>\n",
       "      <th>cityCenters_nearest_km</th>\n",
       "    </tr>\n",
       "  </thead>\n",
       "  <tbody>\n",
       "    <tr>\n",
       "      <th>3</th>\n",
       "      <td>0</td>\n",
       "      <td>64900000</td>\n",
       "      <td>159.00</td>\n",
       "      <td>2015-07-24</td>\n",
       "      <td>3</td>\n",
       "      <td>2.828571</td>\n",
       "      <td>14</td>\n",
       "      <td>92.22165</td>\n",
       "      <td>9</td>\n",
       "      <td>False</td>\n",
       "      <td>...</td>\n",
       "      <td>424.0</td>\n",
       "      <td>408176</td>\n",
       "      <td>4</td>\n",
       "      <td>Friday</td>\n",
       "      <td>7</td>\n",
       "      <td>2015</td>\n",
       "      <td>Другой</td>\n",
       "      <td>0.580010</td>\n",
       "      <td>0.149584</td>\n",
       "      <td>7.0</td>\n",
       "    </tr>\n",
       "    <tr>\n",
       "      <th>51</th>\n",
       "      <td>7</td>\n",
       "      <td>45000000</td>\n",
       "      <td>161.00</td>\n",
       "      <td>2017-10-17</td>\n",
       "      <td>3</td>\n",
       "      <td>3.200000</td>\n",
       "      <td>8</td>\n",
       "      <td>38.00000</td>\n",
       "      <td>4</td>\n",
       "      <td>False</td>\n",
       "      <td>...</td>\n",
       "      <td>541.0</td>\n",
       "      <td>279503</td>\n",
       "      <td>1</td>\n",
       "      <td>Tuesday</td>\n",
       "      <td>10</td>\n",
       "      <td>2017</td>\n",
       "      <td>Другой</td>\n",
       "      <td>0.236025</td>\n",
       "      <td>0.310559</td>\n",
       "      <td>7.0</td>\n",
       "    </tr>\n",
       "    <tr>\n",
       "      <th>52</th>\n",
       "      <td>20</td>\n",
       "      <td>11795000</td>\n",
       "      <td>136.00</td>\n",
       "      <td>2017-09-22</td>\n",
       "      <td>6</td>\n",
       "      <td>3.000000</td>\n",
       "      <td>2</td>\n",
       "      <td>94.00000</td>\n",
       "      <td>2</td>\n",
       "      <td>False</td>\n",
       "      <td>...</td>\n",
       "      <td>NaN</td>\n",
       "      <td>86728</td>\n",
       "      <td>4</td>\n",
       "      <td>Friday</td>\n",
       "      <td>9</td>\n",
       "      <td>2017</td>\n",
       "      <td>Последний</td>\n",
       "      <td>0.691176</td>\n",
       "      <td>0.080882</td>\n",
       "      <td>7.0</td>\n",
       "    </tr>\n",
       "    <tr>\n",
       "      <th>61</th>\n",
       "      <td>18</td>\n",
       "      <td>7990000</td>\n",
       "      <td>74.00</td>\n",
       "      <td>2017-08-24</td>\n",
       "      <td>2</td>\n",
       "      <td>2.995833</td>\n",
       "      <td>4</td>\n",
       "      <td>43.00000</td>\n",
       "      <td>4</td>\n",
       "      <td>False</td>\n",
       "      <td>...</td>\n",
       "      <td>609.0</td>\n",
       "      <td>107973</td>\n",
       "      <td>3</td>\n",
       "      <td>Thursday</td>\n",
       "      <td>8</td>\n",
       "      <td>2017</td>\n",
       "      <td>Последний</td>\n",
       "      <td>0.581081</td>\n",
       "      <td>0.270270</td>\n",
       "      <td>4.0</td>\n",
       "    </tr>\n",
       "    <tr>\n",
       "      <th>63</th>\n",
       "      <td>2</td>\n",
       "      <td>20000000</td>\n",
       "      <td>118.00</td>\n",
       "      <td>2018-09-11</td>\n",
       "      <td>3</td>\n",
       "      <td>3.000000</td>\n",
       "      <td>9</td>\n",
       "      <td>68.00000</td>\n",
       "      <td>7</td>\n",
       "      <td>False</td>\n",
       "      <td>...</td>\n",
       "      <td>37.0</td>\n",
       "      <td>169492</td>\n",
       "      <td>1</td>\n",
       "      <td>Tuesday</td>\n",
       "      <td>9</td>\n",
       "      <td>2018</td>\n",
       "      <td>Другой</td>\n",
       "      <td>0.576271</td>\n",
       "      <td>0.135593</td>\n",
       "      <td>5.0</td>\n",
       "    </tr>\n",
       "    <tr>\n",
       "      <th>...</th>\n",
       "      <td>...</td>\n",
       "      <td>...</td>\n",
       "      <td>...</td>\n",
       "      <td>...</td>\n",
       "      <td>...</td>\n",
       "      <td>...</td>\n",
       "      <td>...</td>\n",
       "      <td>...</td>\n",
       "      <td>...</td>\n",
       "      <td>...</td>\n",
       "      <td>...</td>\n",
       "      <td>...</td>\n",
       "      <td>...</td>\n",
       "      <td>...</td>\n",
       "      <td>...</td>\n",
       "      <td>...</td>\n",
       "      <td>...</td>\n",
       "      <td>...</td>\n",
       "      <td>...</td>\n",
       "      <td>...</td>\n",
       "      <td>...</td>\n",
       "    </tr>\n",
       "    <tr>\n",
       "      <th>23648</th>\n",
       "      <td>14</td>\n",
       "      <td>10100000</td>\n",
       "      <td>78.00</td>\n",
       "      <td>2017-05-12</td>\n",
       "      <td>3</td>\n",
       "      <td>3.270000</td>\n",
       "      <td>5</td>\n",
       "      <td>48.60000</td>\n",
       "      <td>5</td>\n",
       "      <td>False</td>\n",
       "      <td>...</td>\n",
       "      <td>621.0</td>\n",
       "      <td>129487</td>\n",
       "      <td>4</td>\n",
       "      <td>Friday</td>\n",
       "      <td>5</td>\n",
       "      <td>2017</td>\n",
       "      <td>Последний</td>\n",
       "      <td>0.623077</td>\n",
       "      <td>0.105128</td>\n",
       "      <td>1.0</td>\n",
       "    </tr>\n",
       "    <tr>\n",
       "      <th>23664</th>\n",
       "      <td>5</td>\n",
       "      <td>9000000</td>\n",
       "      <td>110.00</td>\n",
       "      <td>2015-12-10</td>\n",
       "      <td>4</td>\n",
       "      <td>3.360000</td>\n",
       "      <td>7</td>\n",
       "      <td>64.60000</td>\n",
       "      <td>5</td>\n",
       "      <td>False</td>\n",
       "      <td>...</td>\n",
       "      <td>816.0</td>\n",
       "      <td>81818</td>\n",
       "      <td>3</td>\n",
       "      <td>Thursday</td>\n",
       "      <td>12</td>\n",
       "      <td>2015</td>\n",
       "      <td>Другой</td>\n",
       "      <td>0.587273</td>\n",
       "      <td>0.143636</td>\n",
       "      <td>5.0</td>\n",
       "    </tr>\n",
       "    <tr>\n",
       "      <th>23681</th>\n",
       "      <td>13</td>\n",
       "      <td>5250000</td>\n",
       "      <td>43.00</td>\n",
       "      <td>2018-05-11</td>\n",
       "      <td>2</td>\n",
       "      <td>2.500000</td>\n",
       "      <td>5</td>\n",
       "      <td>29.00000</td>\n",
       "      <td>2</td>\n",
       "      <td>False</td>\n",
       "      <td>...</td>\n",
       "      <td>80.0</td>\n",
       "      <td>122093</td>\n",
       "      <td>4</td>\n",
       "      <td>Friday</td>\n",
       "      <td>5</td>\n",
       "      <td>2018</td>\n",
       "      <td>Другой</td>\n",
       "      <td>0.674419</td>\n",
       "      <td>0.139535</td>\n",
       "      <td>7.0</td>\n",
       "    </tr>\n",
       "    <tr>\n",
       "      <th>23691</th>\n",
       "      <td>11</td>\n",
       "      <td>9470000</td>\n",
       "      <td>72.90</td>\n",
       "      <td>2016-10-13</td>\n",
       "      <td>2</td>\n",
       "      <td>2.750000</td>\n",
       "      <td>25</td>\n",
       "      <td>40.30000</td>\n",
       "      <td>7</td>\n",
       "      <td>False</td>\n",
       "      <td>...</td>\n",
       "      <td>519.0</td>\n",
       "      <td>129904</td>\n",
       "      <td>3</td>\n",
       "      <td>Thursday</td>\n",
       "      <td>10</td>\n",
       "      <td>2016</td>\n",
       "      <td>Другой</td>\n",
       "      <td>0.552812</td>\n",
       "      <td>0.145405</td>\n",
       "      <td>4.0</td>\n",
       "    </tr>\n",
       "    <tr>\n",
       "      <th>23694</th>\n",
       "      <td>9</td>\n",
       "      <td>9700000</td>\n",
       "      <td>133.81</td>\n",
       "      <td>2017-03-21</td>\n",
       "      <td>3</td>\n",
       "      <td>3.700000</td>\n",
       "      <td>5</td>\n",
       "      <td>73.30000</td>\n",
       "      <td>3</td>\n",
       "      <td>False</td>\n",
       "      <td>...</td>\n",
       "      <td>NaN</td>\n",
       "      <td>72491</td>\n",
       "      <td>1</td>\n",
       "      <td>Tuesday</td>\n",
       "      <td>3</td>\n",
       "      <td>2017</td>\n",
       "      <td>Другой</td>\n",
       "      <td>0.547792</td>\n",
       "      <td>0.103356</td>\n",
       "      <td>4.0</td>\n",
       "    </tr>\n",
       "  </tbody>\n",
       "</table>\n",
       "<p>3071 rows × 31 columns</p>\n",
       "</div>"
      ],
      "text/plain": [
       "       total_images  last_price  total_area first_day_exposition  rooms  \\\n",
       "3                 0    64900000      159.00           2015-07-24      3   \n",
       "51                7    45000000      161.00           2017-10-17      3   \n",
       "52               20    11795000      136.00           2017-09-22      6   \n",
       "61               18     7990000       74.00           2017-08-24      2   \n",
       "63                2    20000000      118.00           2018-09-11      3   \n",
       "...             ...         ...         ...                  ...    ...   \n",
       "23648            14    10100000       78.00           2017-05-12      3   \n",
       "23664             5     9000000      110.00           2015-12-10      4   \n",
       "23681            13     5250000       43.00           2018-05-11      2   \n",
       "23691            11     9470000       72.90           2016-10-13      2   \n",
       "23694             9     9700000      133.81           2017-03-21      3   \n",
       "\n",
       "       ceiling_height  floors_total  living_area  floor  is_apartment  ...  \\\n",
       "3            2.828571            14     92.22165      9         False  ...   \n",
       "51           3.200000             8     38.00000      4         False  ...   \n",
       "52           3.000000             2     94.00000      2         False  ...   \n",
       "61           2.995833             4     43.00000      4         False  ...   \n",
       "63           3.000000             9     68.00000      7         False  ...   \n",
       "...               ...           ...          ...    ...           ...  ...   \n",
       "23648        3.270000             5     48.60000      5         False  ...   \n",
       "23664        3.360000             7     64.60000      5         False  ...   \n",
       "23681        2.500000             5     29.00000      2         False  ...   \n",
       "23691        2.750000            25     40.30000      7         False  ...   \n",
       "23694        3.700000             5     73.30000      3         False  ...   \n",
       "\n",
       "       days_exposition  meter_price  weekday  exposition_day exposition_month  \\\n",
       "3                424.0       408176        4          Friday                7   \n",
       "51               541.0       279503        1         Tuesday               10   \n",
       "52                 NaN        86728        4          Friday                9   \n",
       "61               609.0       107973        3        Thursday                8   \n",
       "63                37.0       169492        1         Tuesday                9   \n",
       "...                ...          ...      ...             ...              ...   \n",
       "23648            621.0       129487        4          Friday                5   \n",
       "23664            816.0        81818        3        Thursday               12   \n",
       "23681             80.0       122093        4          Friday                5   \n",
       "23691            519.0       129904        3        Thursday               10   \n",
       "23694              NaN        72491        1         Tuesday                3   \n",
       "\n",
       "       exposition_year  grouped_floors  ratio_living_total_area  \\\n",
       "3                 2015          Другой                 0.580010   \n",
       "51                2017          Другой                 0.236025   \n",
       "52                2017       Последний                 0.691176   \n",
       "61                2017       Последний                 0.581081   \n",
       "63                2018          Другой                 0.576271   \n",
       "...                ...             ...                      ...   \n",
       "23648             2017       Последний                 0.623077   \n",
       "23664             2015          Другой                 0.587273   \n",
       "23681             2018          Другой                 0.674419   \n",
       "23691             2016          Другой                 0.552812   \n",
       "23694             2017          Другой                 0.547792   \n",
       "\n",
       "       ratio_kitchen_total_area  cityCenters_nearest_km  \n",
       "3                      0.149584                     7.0  \n",
       "51                     0.310559                     7.0  \n",
       "52                     0.080882                     7.0  \n",
       "61                     0.270270                     4.0  \n",
       "63                     0.135593                     5.0  \n",
       "...                         ...                     ...  \n",
       "23648                  0.105128                     1.0  \n",
       "23664                  0.143636                     5.0  \n",
       "23681                  0.139535                     7.0  \n",
       "23691                  0.145405                     4.0  \n",
       "23694                  0.103356                     4.0  \n",
       "\n",
       "[3071 rows x 31 columns]"
      ]
     },
     "metadata": {},
     "output_type": "display_data"
    }
   ],
   "source": [
    "display(data_piter_centre)"
   ]
  },
  {
   "cell_type": "code",
   "execution_count": 86,
   "metadata": {},
   "outputs": [
    {
     "name": "stdout",
     "output_type": "stream",
     "text": [
      "living_area:\n",
      "count    3071.000000\n",
      "mean       53.171902\n",
      "std        33.467395\n",
      "min         2.000000\n",
      "25%        31.100000\n",
      "50%        46.000000\n",
      "75%        65.650000\n",
      "max       300.000000\n",
      "Name: living_area, dtype: float64\n"
     ]
    }
   ],
   "source": [
    "#living_area\n",
    "\n",
    "print('living_area:')\n",
    "print(data_piter_centre['living_area'].describe())"
   ]
  },
  {
   "cell_type": "code",
   "execution_count": 87,
   "metadata": {},
   "outputs": [
    {
     "name": "stdout",
     "output_type": "stream",
     "text": [
      "total_area:\n",
      "count    3071.000000\n",
      "mean       90.167304\n",
      "std        50.208647\n",
      "min        12.000000\n",
      "25%        56.700000\n",
      "50%        78.000000\n",
      "75%       108.750000\n",
      "max       413.500000\n",
      "Name: total_area, dtype: float64\n"
     ]
    }
   ],
   "source": [
    "#total_area \n",
    "\n",
    "print('total_area:')\n",
    "print(data_piter_centre['total_area'].describe())"
   ]
  },
  {
   "cell_type": "code",
   "execution_count": 88,
   "metadata": {},
   "outputs": [
    {
     "name": "stdout",
     "output_type": "stream",
     "text": [
      "last_price:\n",
      "count    3.071000e+03\n",
      "mean     1.312018e+07\n",
      "std      1.201862e+07\n",
      "min      1.600000e+06\n",
      "25%      6.697500e+06\n",
      "50%      9.200000e+06\n",
      "75%      1.400000e+07\n",
      "max      9.800000e+07\n",
      "Name: last_price, dtype: float64\n"
     ]
    }
   ],
   "source": [
    "#last_price\n",
    "\n",
    "print('last_price:')\n",
    "print(data_piter_centre['last_price'].describe())"
   ]
  },
  {
   "cell_type": "code",
   "execution_count": 89,
   "metadata": {},
   "outputs": [
    {
     "name": "stdout",
     "output_type": "stream",
     "text": [
      "rooms:\n",
      "count    3071.000000\n",
      "mean        2.798111\n",
      "std         1.409464\n",
      "min         0.000000\n",
      "25%         2.000000\n",
      "50%         3.000000\n",
      "75%         3.000000\n",
      "max        19.000000\n",
      "Name: rooms, dtype: float64\n"
     ]
    }
   ],
   "source": [
    "#rooms\n",
    "\n",
    "print('rooms:')\n",
    "print(data_piter_centre['rooms'].describe())"
   ]
  },
  {
   "cell_type": "code",
   "execution_count": 90,
   "metadata": {},
   "outputs": [
    {
     "name": "stdout",
     "output_type": "stream",
     "text": [
      "ceiling_height:\n",
      "count    3071.000000\n",
      "mean        3.058491\n",
      "std         0.356202\n",
      "min         2.400000\n",
      "25%         2.800000\n",
      "50%         3.000000\n",
      "75%         3.200000\n",
      "max         5.800000\n",
      "Name: ceiling_height, dtype: float64\n"
     ]
    }
   ],
   "source": [
    "#ceiling_height\n",
    "\n",
    "print('ceiling_height:')\n",
    "print(data_piter_centre['ceiling_height'].describe())"
   ]
  },
  {
   "cell_type": "code",
   "execution_count": 91,
   "metadata": {},
   "outputs": [
    {
     "data": {
      "text/plain": [
       "rooms                  0.394545\n",
       "cityCenters_nearest   -0.033055\n",
       "floor                  0.130962\n",
       "days_exposition        0.105079\n",
       "dtype: float64"
      ]
     },
     "execution_count": 91,
     "metadata": {},
     "output_type": "execute_result"
    }
   ],
   "source": [
    "#corr_centre\n",
    "\n",
    "data_piter_centre[['rooms', 'cityCenters_nearest', 'floor', 'days_exposition']].corrwith(data_piter_centre['last_price'])\n"
   ]
  },
  {
   "cell_type": "code",
   "execution_count": 92,
   "metadata": {},
   "outputs": [
    {
     "data": {
      "image/png": "[encoded data removed]",
      "text/plain": [
       "<Figure size 432x288 with 16 Axes>"
      ]
     },
     "metadata": {
      "needs_background": "light"
     },
     "output_type": "display_data"
    }
   ],
   "source": [
    "scatter_matrixQ = scatter_matrix(data_piter_centre[['rooms', 'cityCenters_nearest', 'floor', 'days_exposition']])"
   ]
  },
  {
   "cell_type": "code",
   "execution_count": 93,
   "metadata": {},
   "outputs": [
    {
     "data": {
      "text/plain": [
       "Text(0.5, 1.0, 'Высота потолков в СПБ')"
      ]
     },
     "execution_count": 93,
     "metadata": {},
     "output_type": "execute_result"
    },
    {
     "data": {
      "image/png": "[encoded data removed]",
      "text/plain": [
       "<Figure size 1080x432 with 2 Axes>"
      ]
     },
     "metadata": {
      "needs_background": "light"
     },
     "output_type": "display_data"
    }
   ],
   "source": [
    "fig, axes = plt.subplots(1,2,figsize=(15,6))\n",
    "\n",
    "data_piter_centre['ceiling_height'].hist(bins=30,ax=axes[0])\n",
    "axes[0].set_title('Высота потолков в центре СПБ')\n",
    "\n",
    "data_piter['ceiling_height'].hist(bins=30,ax=axes[1])\n",
    "axes[1].set_title('Высота потолков в СПБ')"
   ]
  },
  {
   "cell_type": "code",
   "execution_count": 94,
   "metadata": {},
   "outputs": [
    {
     "data": {
      "image/png": "[encoded data removed]",
      "text/plain": [
       "<Figure size 432x288 with 1 Axes>"
      ]
     },
     "metadata": {
      "needs_background": "light"
     },
     "output_type": "display_data"
    }
   ],
   "source": [
    "data_piter.groupby('rooms')['last_price'].median().plot(kind='bar', title='Зависимость цены от количества комнат')\n",
    "plt.show()"
   ]
  },
  {
   "cell_type": "code",
   "execution_count": 95,
   "metadata": {},
   "outputs": [
    {
     "data": {
      "image/png": "[encoded data removed]",
      "text/plain": [
       "<Figure size 432x288 with 1 Axes>"
      ]
     },
     "metadata": {
      "needs_background": "light"
     },
     "output_type": "display_data"
    },
    {
     "data": {
      "image/png": "[encoded data removed]",
      "text/plain": [
       "<Figure size 432x288 with 1 Axes>"
      ]
     },
     "metadata": {
      "needs_background": "light"
     },
     "output_type": "display_data"
    },
    {
     "data": {
      "image/png": "[encoded data removed]",
      "text/plain": [
       "<Figure size 432x288 with 1 Axes>"
      ]
     },
     "metadata": {
      "needs_background": "light"
     },
     "output_type": "display_data"
    },
    {
     "data": {
      "image/png": "[encoded data removed]",
      "text/plain": [
       "<Figure size 432x288 with 1 Axes>"
      ]
     },
     "metadata": {
      "needs_background": "light"
     },
     "output_type": "display_data"
    }
   ],
   "source": [
    "\n",
    "data_piter.groupby('grouped_floors')['last_price'].median().plot(kind='bar', title='Зависимость цены от этажа')\n",
    "\n",
    "data_piter.plot(x='total_area', y='last_price', kind='scatter') \n",
    "\n",
    "data_piter.plot(x='living_area', y='last_price', kind='scatter') \n",
    "\n",
    "data_piter.plot(x='ceiling_height', y='last_price', kind='scatter')\n",
    "\n",
    "plt.show()\n",
    "\n",
    "\n",
    "\n"
   ]
  },
  {
   "cell_type": "code",
   "execution_count": 96,
   "metadata": {},
   "outputs": [
    {
     "data": {
      "image/png": "[encoded data removed]",
      "text/plain": [
       "<Figure size 432x288 with 16 Axes>"
      ]
     },
     "metadata": {
      "needs_background": "light"
     },
     "output_type": "display_data"
    }
   ],
   "source": [
    "scatter_matrixW = scatter_matrix(data_piter[['rooms', 'cityCenters_nearest', 'floor', 'days_exposition']]) "
   ]
  },
  {
   "cell_type": "code",
   "execution_count": 97,
   "metadata": {},
   "outputs": [
    {
     "data": {
      "text/plain": [
       "rooms                  0.394545\n",
       "cityCenters_nearest   -0.033055\n",
       "floor                  0.130962\n",
       "days_exposition        0.105079\n",
       "dtype: float64"
      ]
     },
     "execution_count": 97,
     "metadata": {},
     "output_type": "execute_result"
    }
   ],
   "source": [
    "#corr_piter\n",
    "\n",
    "data_piter[['rooms', 'cityCenters_nearest', 'floor', 'days_exposition']].corrwith(data_piter_centre['last_price'])"
   ]
  },
  {
   "cell_type": "markdown",
   "metadata": {},
   "source": [
    "Влияние факторов, от которых зависит цена на квартиру в центре города и во всем городе, одинаково. "
   ]
  },
  {
   "cell_type": "markdown",
   "metadata": {},
   "source": [
    "## Общий вывод"
   ]
  },
  {
   "cell_type": "markdown",
   "metadata": {},
   "source": [
    "Данные в таблице о продаже квартир в Санкт-Петербурге и соседних населённых пунктах обработаны, пропущенные значения заменены. Добавлены новые столбцы с данными. Установлена зависимость цены квартир от несколких определяющих факторов.\n",
    "\n",
    "Вот такие дела."
   ]
  }
 ],
 "metadata": {
  "ExecuteTimeLog": [
   {
    "duration": 165,
    "start_time": "2021-09-02T18:59:27.658Z"
   },
   {
    "duration": 32,
    "start_time": "2021-09-02T19:01:17.968Z"
   },
   {
    "duration": 45,
    "start_time": "2021-09-02T19:02:54.472Z"
   },
   {
    "duration": 2045,
    "start_time": "2021-09-02T19:05:59.851Z"
   },
   {
    "duration": 64,
    "start_time": "2021-09-02T19:06:03.263Z"
   },
   {
    "duration": 16,
    "start_time": "2021-09-02T19:14:31.542Z"
   },
   {
    "duration": 827,
    "start_time": "2021-09-02T19:14:51.476Z"
   },
   {
    "duration": 18,
    "start_time": "2021-09-02T19:14:56.502Z"
   },
   {
    "duration": 22,
    "start_time": "2021-09-02T19:16:27.339Z"
   },
   {
    "duration": 22,
    "start_time": "2021-09-02T19:16:51.313Z"
   },
   {
    "duration": 797,
    "start_time": "2021-09-02T19:17:57.503Z"
   },
   {
    "duration": 27,
    "start_time": "2021-09-02T19:17:58.962Z"
   },
   {
    "duration": 22,
    "start_time": "2021-09-02T19:18:14.826Z"
   },
   {
    "duration": 23,
    "start_time": "2021-09-02T19:18:27.060Z"
   },
   {
    "duration": 24,
    "start_time": "2021-09-02T19:18:39.205Z"
   },
   {
    "duration": 28,
    "start_time": "2021-09-02T19:22:08.869Z"
   },
   {
    "duration": 29,
    "start_time": "2021-09-02T19:22:26.968Z"
   },
   {
    "duration": 35,
    "start_time": "2021-09-02T19:23:57.571Z"
   },
   {
    "duration": 39,
    "start_time": "2021-09-02T19:25:31.325Z"
   },
   {
    "duration": 936,
    "start_time": "2021-09-02T19:26:19.102Z"
   },
   {
    "duration": 57,
    "start_time": "2021-09-02T19:26:20.919Z"
   },
   {
    "duration": 53,
    "start_time": "2021-09-02T19:28:15.480Z"
   },
   {
    "duration": 57,
    "start_time": "2021-09-02T19:29:38.398Z"
   },
   {
    "duration": 54,
    "start_time": "2021-09-02T19:29:49.820Z"
   },
   {
    "duration": 816,
    "start_time": "2021-09-02T19:30:03.479Z"
   },
   {
    "duration": 64,
    "start_time": "2021-09-02T19:30:04.426Z"
   },
   {
    "duration": 57,
    "start_time": "2021-09-02T19:30:11.207Z"
   },
   {
    "duration": 58,
    "start_time": "2021-09-02T19:30:20.181Z"
   },
   {
    "duration": 57,
    "start_time": "2021-09-02T19:30:43.977Z"
   },
   {
    "duration": 7616,
    "start_time": "2021-09-02T19:31:47.650Z"
   },
   {
    "duration": 57,
    "start_time": "2021-09-02T19:31:58.373Z"
   },
   {
    "duration": 59,
    "start_time": "2021-09-02T19:32:46.915Z"
   },
   {
    "duration": 536,
    "start_time": "2021-09-02T19:34:24.228Z"
   },
   {
    "duration": 437,
    "start_time": "2021-09-02T19:34:30.652Z"
   },
   {
    "duration": 693,
    "start_time": "2021-09-02T19:34:47.077Z"
   },
   {
    "duration": 61,
    "start_time": "2021-09-02T19:35:11.117Z"
   },
   {
    "duration": 68,
    "start_time": "2021-09-02T19:35:26.098Z"
   },
   {
    "duration": 821,
    "start_time": "2021-09-02T19:36:19.509Z"
   },
   {
    "duration": 1377,
    "start_time": "2021-09-02T19:36:54.807Z"
   },
   {
    "duration": 1046,
    "start_time": "2021-09-02T19:37:19.811Z"
   },
   {
    "duration": 1226,
    "start_time": "2021-09-02T19:37:36.089Z"
   },
   {
    "duration": 1233,
    "start_time": "2021-09-02T19:38:37.958Z"
   },
   {
    "duration": 637,
    "start_time": "2021-09-02T19:39:08.086Z"
   },
   {
    "duration": 879,
    "start_time": "2021-09-02T19:39:24.628Z"
   },
   {
    "duration": 81,
    "start_time": "2021-09-02T19:39:26.939Z"
   },
   {
    "duration": 330,
    "start_time": "2021-09-02T19:39:52.764Z"
   },
   {
    "duration": 751,
    "start_time": "2021-09-02T19:40:01.628Z"
   },
   {
    "duration": 924,
    "start_time": "2021-09-02T19:40:17.447Z"
   },
   {
    "duration": 78,
    "start_time": "2021-09-02T19:40:19.086Z"
   },
   {
    "duration": 64,
    "start_time": "2021-09-02T19:40:32.470Z"
   },
   {
    "duration": 746,
    "start_time": "2021-09-02T19:40:45.692Z"
   },
   {
    "duration": 584,
    "start_time": "2021-09-02T19:40:53.962Z"
   },
   {
    "duration": 770,
    "start_time": "2021-09-02T19:41:18.528Z"
   },
   {
    "duration": 2813,
    "start_time": "2021-09-02T19:41:23.529Z"
   },
   {
    "duration": 834,
    "start_time": "2021-09-02T19:41:37.218Z"
   },
   {
    "duration": 71,
    "start_time": "2021-09-02T19:41:38.816Z"
   },
   {
    "duration": 58,
    "start_time": "2021-09-02T19:42:11.718Z"
   },
   {
    "duration": 60,
    "start_time": "2021-09-02T19:43:07.534Z"
   },
   {
    "duration": 889,
    "start_time": "2021-09-02T19:43:30.170Z"
   },
   {
    "duration": 74,
    "start_time": "2021-09-02T19:43:33.712Z"
   },
   {
    "duration": 844,
    "start_time": "2021-09-02T19:45:04.981Z"
   },
   {
    "duration": 71,
    "start_time": "2021-09-02T19:45:06.812Z"
   },
   {
    "duration": 58,
    "start_time": "2021-09-02T19:45:55.049Z"
   },
   {
    "duration": 825,
    "start_time": "2021-09-02T19:46:20.175Z"
   },
   {
    "duration": 84,
    "start_time": "2021-09-02T19:46:24.169Z"
   },
   {
    "duration": 61,
    "start_time": "2021-09-02T19:47:35.362Z"
   },
   {
    "duration": 836,
    "start_time": "2021-09-02T19:48:06.066Z"
   },
   {
    "duration": 77,
    "start_time": "2021-09-02T19:48:07.859Z"
   },
   {
    "duration": 57,
    "start_time": "2021-09-02T19:48:43.907Z"
   },
   {
    "duration": 818,
    "start_time": "2021-09-02T19:49:02.295Z"
   },
   {
    "duration": 81,
    "start_time": "2021-09-02T19:49:13.830Z"
   },
   {
    "duration": 62,
    "start_time": "2021-09-02T19:51:38.710Z"
   },
   {
    "duration": 64,
    "start_time": "2021-09-02T19:52:44.706Z"
   },
   {
    "duration": 97,
    "start_time": "2021-09-02T19:53:33.201Z"
   },
   {
    "duration": 71,
    "start_time": "2021-09-02T19:53:37.808Z"
   },
   {
    "duration": 88,
    "start_time": "2021-09-02T19:54:37.990Z"
   },
   {
    "duration": 66,
    "start_time": "2021-09-02T19:54:43.918Z"
   },
   {
    "duration": 72,
    "start_time": "2021-09-02T19:55:27.829Z"
   },
   {
    "duration": 75,
    "start_time": "2021-09-02T19:57:59.321Z"
   },
   {
    "duration": 89,
    "start_time": "2021-09-02T19:58:24.505Z"
   },
   {
    "duration": 85,
    "start_time": "2021-09-02T20:00:06.409Z"
   },
   {
    "duration": 198,
    "start_time": "2021-09-02T20:00:23.493Z"
   },
   {
    "duration": 79,
    "start_time": "2021-09-02T20:00:51.876Z"
   },
   {
    "duration": 77,
    "start_time": "2021-09-02T20:01:02.983Z"
   },
   {
    "duration": 73,
    "start_time": "2021-09-02T20:01:16.320Z"
   },
   {
    "duration": 76,
    "start_time": "2021-09-02T20:01:41.433Z"
   },
   {
    "duration": 91,
    "start_time": "2021-09-02T20:02:33.517Z"
   },
   {
    "duration": 813,
    "start_time": "2021-09-02T20:03:11.881Z"
   },
   {
    "duration": 95,
    "start_time": "2021-09-02T20:03:13.874Z"
   },
   {
    "duration": 374,
    "start_time": "2021-09-02T20:04:37.302Z"
   },
   {
    "duration": 813,
    "start_time": "2021-09-02T20:06:04.162Z"
   },
   {
    "duration": 95,
    "start_time": "2021-09-02T20:06:05.709Z"
   },
   {
    "duration": 75,
    "start_time": "2021-09-02T20:06:14.963Z"
   },
   {
    "duration": 76,
    "start_time": "2021-09-02T20:18:23.529Z"
   },
   {
    "duration": 76,
    "start_time": "2021-09-02T20:20:25.460Z"
   },
   {
    "duration": 1104,
    "start_time": "2021-09-02T20:21:56.333Z"
   },
   {
    "duration": 895,
    "start_time": "2021-09-02T20:22:16.005Z"
   },
   {
    "duration": 101,
    "start_time": "2021-09-02T20:22:17.821Z"
   },
   {
    "duration": 84,
    "start_time": "2021-09-02T20:23:48.117Z"
   },
   {
    "duration": 100,
    "start_time": "2021-09-02T20:25:00.801Z"
   },
   {
    "duration": 87,
    "start_time": "2021-09-02T20:25:20.320Z"
   },
   {
    "duration": 91,
    "start_time": "2021-09-02T20:25:55.307Z"
   },
   {
    "duration": 100,
    "start_time": "2021-09-02T20:27:00.551Z"
   },
   {
    "duration": 148,
    "start_time": "2021-09-02T20:27:23.243Z"
   },
   {
    "duration": 99,
    "start_time": "2021-09-02T20:28:31.625Z"
   },
   {
    "duration": 1028,
    "start_time": "2021-09-02T20:28:56.970Z"
   },
   {
    "duration": 150,
    "start_time": "2021-09-02T20:28:58.512Z"
   },
   {
    "duration": 802,
    "start_time": "2021-09-02T20:29:57.989Z"
   },
   {
    "duration": 155,
    "start_time": "2021-09-02T20:29:59.375Z"
   },
   {
    "duration": 118,
    "start_time": "2021-09-02T20:30:40.638Z"
   },
   {
    "duration": 119,
    "start_time": "2021-09-02T20:31:51.719Z"
   },
   {
    "duration": 129,
    "start_time": "2021-09-02T20:32:12.891Z"
   },
   {
    "duration": 119,
    "start_time": "2021-09-02T20:32:30.406Z"
   },
   {
    "duration": 1003,
    "start_time": "2021-09-02T20:35:48.061Z"
   },
   {
    "duration": 144,
    "start_time": "2021-09-02T20:35:49.401Z"
   },
   {
    "duration": 128,
    "start_time": "2021-09-02T20:46:22.501Z"
   },
   {
    "duration": 21,
    "start_time": "2021-09-02T20:48:34.744Z"
   },
   {
    "duration": 21,
    "start_time": "2021-09-02T20:49:12.390Z"
   },
   {
    "duration": 126,
    "start_time": "2021-09-02T20:51:33.698Z"
   },
   {
    "duration": 8,
    "start_time": "2021-09-02T20:51:49.657Z"
   },
   {
    "duration": 7,
    "start_time": "2021-09-02T20:52:18.833Z"
   },
   {
    "duration": 166,
    "start_time": "2021-09-02T20:53:32.986Z"
   },
   {
    "duration": 334,
    "start_time": "2021-09-02T20:53:55.626Z"
   },
   {
    "duration": 161,
    "start_time": "2021-09-02T20:54:03.105Z"
   },
   {
    "duration": 337,
    "start_time": "2021-09-02T20:54:09.707Z"
   },
   {
    "duration": 212,
    "start_time": "2021-09-02T20:54:16.379Z"
   },
   {
    "duration": 1075,
    "start_time": "2021-09-03T08:38:22.820Z"
   },
   {
    "duration": 235,
    "start_time": "2021-09-03T08:38:24.352Z"
   },
   {
    "duration": 206,
    "start_time": "2021-09-03T08:39:33.773Z"
   },
   {
    "duration": 205,
    "start_time": "2021-09-03T08:41:19.310Z"
   },
   {
    "duration": 34,
    "start_time": "2021-09-03T08:44:35.199Z"
   },
   {
    "duration": 7,
    "start_time": "2021-09-03T08:45:41.013Z"
   },
   {
    "duration": 355,
    "start_time": "2021-09-03T10:58:00.573Z"
   },
   {
    "duration": 272,
    "start_time": "2021-09-03T10:58:19.254Z"
   },
   {
    "duration": 1046,
    "start_time": "2021-09-03T10:58:49.391Z"
   },
   {
    "duration": 289,
    "start_time": "2021-09-03T10:58:50.441Z"
   },
   {
    "duration": 2011,
    "start_time": "2021-09-03T10:58:51.765Z"
   },
   {
    "duration": 118,
    "start_time": "2021-09-03T11:00:28.345Z"
   },
   {
    "duration": 7161,
    "start_time": "2021-09-03T11:00:34.170Z"
   },
   {
    "duration": 11,
    "start_time": "2021-09-03T11:00:41.574Z"
   },
   {
    "duration": 1990,
    "start_time": "2021-09-03T11:02:52.995Z"
   },
   {
    "duration": 1094,
    "start_time": "2021-09-03T11:05:41.110Z"
   },
   {
    "duration": 258,
    "start_time": "2021-09-03T11:05:43.341Z"
   },
   {
    "duration": 2378,
    "start_time": "2021-09-03T11:05:45.248Z"
   },
   {
    "duration": 1850,
    "start_time": "2021-09-03T11:06:46.062Z"
   },
   {
    "duration": 16,
    "start_time": "2021-09-03T11:10:53.294Z"
   },
   {
    "duration": 342,
    "start_time": "2021-09-03T11:12:16.850Z"
   },
   {
    "duration": 14,
    "start_time": "2021-09-03T11:13:25.468Z"
   },
   {
    "duration": 16,
    "start_time": "2021-09-03T11:13:31.486Z"
   },
   {
    "duration": 667,
    "start_time": "2021-09-03T11:22:12.405Z"
   },
   {
    "duration": 409,
    "start_time": "2021-09-03T11:22:30.963Z"
   },
   {
    "duration": 287,
    "start_time": "2021-09-03T11:32:34.401Z"
   },
   {
    "duration": 26,
    "start_time": "2021-09-03T11:33:10.365Z"
   },
   {
    "duration": 291,
    "start_time": "2021-09-03T11:33:27.350Z"
   },
   {
    "duration": 24,
    "start_time": "2021-09-03T11:33:47.179Z"
   },
   {
    "duration": 299,
    "start_time": "2021-09-03T11:34:09.459Z"
   },
   {
    "duration": 22,
    "start_time": "2021-09-03T11:34:53.643Z"
   },
   {
    "duration": 31,
    "start_time": "2021-09-03T11:41:47.946Z"
   },
   {
    "duration": 33,
    "start_time": "2021-09-03T11:41:52.787Z"
   },
   {
    "duration": 33,
    "start_time": "2021-09-03T11:43:34.754Z"
   },
   {
    "duration": 342,
    "start_time": "2021-09-03T14:08:36.957Z"
   },
   {
    "duration": 1089,
    "start_time": "2021-09-03T14:08:47.049Z"
   },
   {
    "duration": 277,
    "start_time": "2021-09-03T14:08:49.063Z"
   },
   {
    "duration": 37,
    "start_time": "2021-09-03T14:08:50.466Z"
   },
   {
    "duration": 35,
    "start_time": "2021-09-03T14:09:41.827Z"
   },
   {
    "duration": 38,
    "start_time": "2021-09-03T14:10:48.390Z"
   },
   {
    "duration": 108,
    "start_time": "2021-09-03T14:30:02.021Z"
   },
   {
    "duration": 120,
    "start_time": "2021-09-03T14:30:14.846Z"
   },
   {
    "duration": 109,
    "start_time": "2021-09-03T14:31:40.229Z"
   },
   {
    "duration": 92,
    "start_time": "2021-09-03T14:32:20.274Z"
   },
   {
    "duration": 95,
    "start_time": "2021-09-03T14:32:24.580Z"
   },
   {
    "duration": 117,
    "start_time": "2021-09-03T14:32:33.717Z"
   },
   {
    "duration": 167,
    "start_time": "2021-09-03T14:32:39.062Z"
   },
   {
    "duration": 274,
    "start_time": "2021-09-03T14:35:43.094Z"
   },
   {
    "duration": 1106,
    "start_time": "2021-09-03T14:41:18.221Z"
   },
   {
    "duration": 1130,
    "start_time": "2021-09-03T14:41:48.333Z"
   },
   {
    "duration": 282,
    "start_time": "2021-09-03T14:41:49.877Z"
   },
   {
    "duration": 105,
    "start_time": "2021-09-03T14:41:51.393Z"
   },
   {
    "duration": 1077,
    "start_time": "2021-09-03T14:51:11.420Z"
   },
   {
    "duration": 254,
    "start_time": "2021-09-03T14:51:15.586Z"
   },
   {
    "duration": 810,
    "start_time": "2021-09-03T14:51:17.383Z"
   },
   {
    "duration": 833,
    "start_time": "2021-09-03T14:51:34.922Z"
   },
   {
    "duration": 107,
    "start_time": "2021-09-03T14:51:57.749Z"
   },
   {
    "duration": 98,
    "start_time": "2021-09-03T14:52:32.441Z"
   },
   {
    "duration": 1143,
    "start_time": "2021-09-03T14:53:55.744Z"
   },
   {
    "duration": 1767,
    "start_time": "2021-09-03T15:01:08.491Z"
   },
   {
    "duration": 1715,
    "start_time": "2021-09-03T15:01:23.264Z"
   },
   {
    "duration": 1625,
    "start_time": "2021-09-03T15:02:03.281Z"
   },
   {
    "duration": 2506,
    "start_time": "2021-09-03T15:05:35.744Z"
   },
   {
    "duration": 2914,
    "start_time": "2021-09-03T15:05:56.999Z"
   },
   {
    "duration": 1290,
    "start_time": "2021-09-03T15:06:16.432Z"
   },
   {
    "duration": 273,
    "start_time": "2021-09-03T15:06:18.298Z"
   },
   {
    "duration": 1156,
    "start_time": "2021-09-03T15:08:47.232Z"
   },
   {
    "duration": 232,
    "start_time": "2021-09-03T15:09:22.640Z"
   },
   {
    "duration": 221,
    "start_time": "2021-09-03T15:09:38.555Z"
   },
   {
    "duration": 1087,
    "start_time": "2021-09-03T15:09:54.518Z"
   },
   {
    "duration": 266,
    "start_time": "2021-09-03T15:09:56.094Z"
   },
   {
    "duration": 2399,
    "start_time": "2021-09-03T15:09:57.292Z"
   },
   {
    "duration": 406,
    "start_time": "2021-09-03T15:33:11.522Z"
   },
   {
    "duration": 480,
    "start_time": "2021-09-03T15:33:28.425Z"
   },
   {
    "duration": 426,
    "start_time": "2021-09-03T15:33:31.976Z"
   },
   {
    "duration": 1294,
    "start_time": "2021-09-03T15:35:10.109Z"
   },
   {
    "duration": 286,
    "start_time": "2021-09-03T15:35:11.406Z"
   },
   {
    "duration": 2369,
    "start_time": "2021-09-03T15:35:11.697Z"
   },
   {
    "duration": 482,
    "start_time": "2021-09-03T15:35:14.068Z"
   },
   {
    "duration": 311,
    "start_time": "2021-09-03T15:41:12.559Z"
   },
   {
    "duration": 1851,
    "start_time": "2021-09-03T15:41:18.647Z"
   },
   {
    "duration": 385,
    "start_time": "2021-09-03T15:50:36.359Z"
   },
   {
    "duration": 293,
    "start_time": "2021-09-03T15:51:34.603Z"
   },
   {
    "duration": 1098,
    "start_time": "2021-09-03T15:51:44.062Z"
   },
   {
    "duration": 307,
    "start_time": "2021-09-03T15:51:45.163Z"
   },
   {
    "duration": 2389,
    "start_time": "2021-09-03T15:51:45.811Z"
   },
   {
    "duration": 503,
    "start_time": "2021-09-03T15:51:48.202Z"
   },
   {
    "duration": 324,
    "start_time": "2021-09-03T19:41:08.171Z"
   },
   {
    "duration": 1921,
    "start_time": "2021-09-03T19:41:17.136Z"
   },
   {
    "duration": 977,
    "start_time": "2021-09-03T19:41:30.868Z"
   },
   {
    "duration": 621,
    "start_time": "2021-09-03T19:41:44.016Z"
   },
   {
    "duration": 347,
    "start_time": "2021-09-03T19:41:51.934Z"
   },
   {
    "duration": 465,
    "start_time": "2021-09-03T19:41:58.085Z"
   },
   {
    "duration": 469,
    "start_time": "2021-09-03T19:43:01.923Z"
   },
   {
    "duration": 492,
    "start_time": "2021-09-03T19:43:19.156Z"
   },
   {
    "duration": 275,
    "start_time": "2021-09-03T19:44:13.761Z"
   },
   {
    "duration": 471,
    "start_time": "2021-09-03T19:44:54.000Z"
   },
   {
    "duration": 559,
    "start_time": "2021-09-03T19:45:05.541Z"
   },
   {
    "duration": 719,
    "start_time": "2021-09-03T19:45:22.200Z"
   },
   {
    "duration": 466,
    "start_time": "2021-09-03T19:45:33.410Z"
   },
   {
    "duration": 6354,
    "start_time": "2021-09-03T19:46:30.802Z"
   },
   {
    "duration": 272,
    "start_time": "2021-09-03T19:46:57.782Z"
   },
   {
    "duration": 262,
    "start_time": "2021-09-03T19:47:02.921Z"
   },
   {
    "duration": 272,
    "start_time": "2021-09-03T19:47:14.137Z"
   },
   {
    "duration": 255,
    "start_time": "2021-09-03T19:47:21.585Z"
   },
   {
    "duration": 306,
    "start_time": "2021-09-03T19:47:22.423Z"
   },
   {
    "duration": 2436,
    "start_time": "2021-09-03T19:47:23.120Z"
   },
   {
    "duration": 278,
    "start_time": "2021-09-03T19:47:25.558Z"
   },
   {
    "duration": 481,
    "start_time": "2021-09-03T19:47:41.527Z"
   },
   {
    "duration": 463,
    "start_time": "2021-09-03T19:47:52.596Z"
   },
   {
    "duration": 477,
    "start_time": "2021-09-03T19:48:21.260Z"
   },
   {
    "duration": 104,
    "start_time": "2021-09-03T19:49:02.625Z"
   },
   {
    "duration": 1666,
    "start_time": "2021-09-03T19:49:13.842Z"
   },
   {
    "duration": 510,
    "start_time": "2021-09-03T19:49:20.406Z"
   },
   {
    "duration": 824,
    "start_time": "2021-09-03T19:49:36.137Z"
   },
   {
    "duration": 789,
    "start_time": "2021-09-03T19:49:57.350Z"
   },
   {
    "duration": 599,
    "start_time": "2021-09-03T19:50:28.699Z"
   },
   {
    "duration": 608,
    "start_time": "2021-09-03T19:50:33.797Z"
   },
   {
    "duration": 704,
    "start_time": "2021-09-03T19:52:46.370Z"
   },
   {
    "duration": 274,
    "start_time": "2021-09-03T19:53:18.163Z"
   },
   {
    "duration": 592,
    "start_time": "2021-09-03T19:53:33.432Z"
   },
   {
    "duration": 747,
    "start_time": "2021-09-03T19:54:00.161Z"
   },
   {
    "duration": 614,
    "start_time": "2021-09-03T19:54:18.842Z"
   },
   {
    "duration": 737,
    "start_time": "2021-09-03T19:54:32.250Z"
   },
   {
    "duration": 622,
    "start_time": "2021-09-03T19:55:18.159Z"
   },
   {
    "duration": 601,
    "start_time": "2021-09-03T19:55:31.494Z"
   },
   {
    "duration": 1052,
    "start_time": "2021-09-03T19:56:35.506Z"
   },
   {
    "duration": 892,
    "start_time": "2021-09-03T19:56:53.776Z"
   },
   {
    "duration": 1265,
    "start_time": "2021-09-03T19:56:59.080Z"
   },
   {
    "duration": 903,
    "start_time": "2021-09-03T19:57:17.240Z"
   },
   {
    "duration": 1196,
    "start_time": "2021-09-03T19:57:26.102Z"
   },
   {
    "duration": 594,
    "start_time": "2021-09-03T19:57:51.407Z"
   },
   {
    "duration": 1051,
    "start_time": "2021-09-03T19:58:32.888Z"
   },
   {
    "duration": 893,
    "start_time": "2021-09-03T19:58:45.035Z"
   },
   {
    "duration": 1005,
    "start_time": "2021-09-03T19:58:51.582Z"
   },
   {
    "duration": 1151,
    "start_time": "2021-09-03T20:00:09.709Z"
   },
   {
    "duration": 592,
    "start_time": "2021-09-03T20:01:01.472Z"
   },
   {
    "duration": 613,
    "start_time": "2021-09-03T20:01:34.748Z"
   },
   {
    "duration": 1010,
    "start_time": "2021-09-03T20:01:57.194Z"
   },
   {
    "duration": 273,
    "start_time": "2021-09-03T20:01:58.761Z"
   },
   {
    "duration": 2419,
    "start_time": "2021-09-03T20:02:00.255Z"
   },
   {
    "duration": 607,
    "start_time": "2021-09-03T20:02:02.676Z"
   },
   {
    "duration": 1073,
    "start_time": "2021-09-03T20:04:07.949Z"
   },
   {
    "duration": 273,
    "start_time": "2021-09-03T20:04:09.025Z"
   },
   {
    "duration": 2444,
    "start_time": "2021-09-03T20:04:10.111Z"
   },
   {
    "duration": 624,
    "start_time": "2021-09-03T20:04:12.558Z"
   },
   {
    "duration": 917,
    "start_time": "2021-09-03T20:04:18.709Z"
   },
   {
    "duration": 759,
    "start_time": "2021-09-03T20:04:29.566Z"
   },
   {
    "duration": 601,
    "start_time": "2021-09-03T20:05:04.208Z"
   },
   {
    "duration": 891,
    "start_time": "2021-09-03T20:05:25.800Z"
   },
   {
    "duration": 262,
    "start_time": "2021-09-03T20:06:27.267Z"
   },
   {
    "duration": 2530,
    "start_time": "2021-09-03T20:06:28.728Z"
   },
   {
    "duration": 1175,
    "start_time": "2021-09-03T20:06:31.261Z"
   },
   {
    "duration": 972,
    "start_time": "2021-09-03T20:11:00.036Z"
   },
   {
    "duration": 972,
    "start_time": "2021-09-03T20:11:06.285Z"
   },
   {
    "duration": 1280,
    "start_time": "2021-09-03T20:11:47.071Z"
   },
   {
    "duration": 574,
    "start_time": "2021-09-03T20:11:58.078Z"
   },
   {
    "duration": 297,
    "start_time": "2021-09-03T20:12:03.479Z"
   },
   {
    "duration": 331,
    "start_time": "2021-09-03T20:12:17.124Z"
   },
   {
    "duration": 3453,
    "start_time": "2021-09-03T20:12:21.783Z"
   },
   {
    "duration": 3498,
    "start_time": "2021-09-03T20:13:09.819Z"
   },
   {
    "duration": 932,
    "start_time": "2021-09-03T20:13:24.746Z"
   },
   {
    "duration": 327,
    "start_time": "2021-09-03T20:13:58.041Z"
   },
   {
    "duration": 1207,
    "start_time": "2021-09-03T20:14:06.511Z"
   },
   {
    "duration": 316,
    "start_time": "2021-09-03T20:14:07.722Z"
   },
   {
    "duration": 2467,
    "start_time": "2021-09-03T20:14:08.040Z"
   },
   {
    "duration": 1055,
    "start_time": "2021-09-03T20:14:41.378Z"
   },
   {
    "duration": 299,
    "start_time": "2021-09-03T20:14:42.437Z"
   },
   {
    "duration": 2464,
    "start_time": "2021-09-03T20:14:42.842Z"
   },
   {
    "duration": 8,
    "start_time": "2021-09-03T20:14:45.309Z"
   },
   {
    "duration": 620,
    "start_time": "2021-09-03T20:15:43.514Z"
   },
   {
    "duration": 830,
    "start_time": "2021-09-03T20:15:58.412Z"
   },
   {
    "duration": 580,
    "start_time": "2021-09-03T20:16:07.265Z"
   },
   {
    "duration": 663,
    "start_time": "2021-09-03T20:16:26.904Z"
   },
   {
    "duration": 14,
    "start_time": "2021-09-03T20:17:54.421Z"
   },
   {
    "duration": 12,
    "start_time": "2021-09-03T20:18:02.182Z"
   },
   {
    "duration": 11,
    "start_time": "2021-09-03T20:18:06.505Z"
   },
   {
    "duration": 11,
    "start_time": "2021-09-03T20:18:12.699Z"
   },
   {
    "duration": 12,
    "start_time": "2021-09-03T20:18:17.682Z"
   },
   {
    "duration": 14,
    "start_time": "2021-09-03T20:18:30.921Z"
   },
   {
    "duration": 13,
    "start_time": "2021-09-03T20:18:42.801Z"
   },
   {
    "duration": 11,
    "start_time": "2021-09-03T20:18:48.500Z"
   },
   {
    "duration": 11,
    "start_time": "2021-09-03T20:18:52.399Z"
   },
   {
    "duration": 17,
    "start_time": "2021-09-03T20:19:30.897Z"
   },
   {
    "duration": 13,
    "start_time": "2021-09-03T20:19:44.534Z"
   },
   {
    "duration": 13,
    "start_time": "2021-09-03T20:19:54.166Z"
   },
   {
    "duration": 14,
    "start_time": "2021-09-03T20:20:00.629Z"
   },
   {
    "duration": 16,
    "start_time": "2021-09-03T20:20:12.798Z"
   },
   {
    "duration": 773,
    "start_time": "2021-09-03T20:20:29.659Z"
   },
   {
    "duration": 333,
    "start_time": "2021-09-03T20:21:16.005Z"
   },
   {
    "duration": 625,
    "start_time": "2021-09-03T20:21:22.519Z"
   },
   {
    "duration": 604,
    "start_time": "2021-09-03T20:21:59.425Z"
   },
   {
    "duration": 599,
    "start_time": "2021-09-03T20:22:12.938Z"
   },
   {
    "duration": 686,
    "start_time": "2021-09-03T20:22:17.891Z"
   },
   {
    "duration": 576,
    "start_time": "2021-09-03T20:22:24.299Z"
   },
   {
    "duration": 587,
    "start_time": "2021-09-03T20:22:34.652Z"
   },
   {
    "duration": 568,
    "start_time": "2021-09-03T20:22:57.827Z"
   },
   {
    "duration": 909,
    "start_time": "2021-09-03T20:23:18.736Z"
   },
   {
    "duration": 1305,
    "start_time": "2021-09-03T20:23:24.193Z"
   },
   {
    "duration": 513,
    "start_time": "2021-09-03T20:25:32.799Z"
   },
   {
    "duration": 1054,
    "start_time": "2021-09-03T20:25:58.688Z"
   },
   {
    "duration": 1806,
    "start_time": "2021-09-03T20:26:39.745Z"
   },
   {
    "duration": 1558,
    "start_time": "2021-09-03T20:28:06.484Z"
   },
   {
    "duration": 2070,
    "start_time": "2021-09-03T20:28:35.957Z"
   },
   {
    "duration": 1837,
    "start_time": "2021-09-03T20:29:03.114Z"
   },
   {
    "duration": 2245,
    "start_time": "2021-09-03T20:29:26.132Z"
   },
   {
    "duration": 2372,
    "start_time": "2021-09-03T20:31:26.292Z"
   },
   {
    "duration": 2974,
    "start_time": "2021-09-03T20:31:40.686Z"
   },
   {
    "duration": 2167,
    "start_time": "2021-09-03T20:31:54.025Z"
   },
   {
    "duration": 2282,
    "start_time": "2021-09-03T20:32:33.548Z"
   },
   {
    "duration": 220,
    "start_time": "2021-09-04T08:34:31.301Z"
   },
   {
    "duration": 777,
    "start_time": "2021-09-04T08:34:41.875Z"
   },
   {
    "duration": 199,
    "start_time": "2021-09-04T08:34:42.654Z"
   },
   {
    "duration": 1378,
    "start_time": "2021-09-04T08:34:43.196Z"
   },
   {
    "duration": 1355,
    "start_time": "2021-09-04T08:34:44.576Z"
   },
   {
    "duration": 1404,
    "start_time": "2021-09-04T08:40:39.634Z"
   },
   {
    "duration": 1378,
    "start_time": "2021-09-04T08:41:08.564Z"
   },
   {
    "duration": 1929,
    "start_time": "2021-09-04T08:43:59.201Z"
   },
   {
    "duration": 1652,
    "start_time": "2021-09-04T08:46:56.496Z"
   },
   {
    "duration": 3988,
    "start_time": "2021-09-04T08:48:01.801Z"
   },
   {
    "duration": 1831,
    "start_time": "2021-09-04T08:48:17.430Z"
   },
   {
    "duration": 1941,
    "start_time": "2021-09-04T08:49:01.777Z"
   },
   {
    "duration": 1728,
    "start_time": "2021-09-04T08:49:12.225Z"
   },
   {
    "duration": 1961,
    "start_time": "2021-09-04T08:49:19.663Z"
   },
   {
    "duration": 781,
    "start_time": "2021-09-04T09:01:20.554Z"
   },
   {
    "duration": 370,
    "start_time": "2021-09-04T09:01:21.917Z"
   },
   {
    "duration": 1416,
    "start_time": "2021-09-04T09:01:23.432Z"
   },
   {
    "duration": 1898,
    "start_time": "2021-09-04T09:01:24.850Z"
   },
   {
    "duration": 449,
    "start_time": "2021-09-04T11:06:55.564Z"
   },
   {
    "duration": 1452,
    "start_time": "2021-09-04T11:07:03.902Z"
   },
   {
    "duration": 885,
    "start_time": "2021-09-04T11:07:05.358Z"
   },
   {
    "duration": 2189,
    "start_time": "2021-09-04T11:07:04.056Z"
   },
   {
    "duration": 2188,
    "start_time": "2021-09-04T11:07:04.059Z"
   },
   {
    "duration": 3509,
    "start_time": "2021-09-04T11:07:21.687Z"
   },
   {
    "duration": 3743,
    "start_time": "2021-09-04T11:07:45.426Z"
   },
   {
    "duration": 1224,
    "start_time": "2021-09-04T11:14:00.871Z"
   },
   {
    "duration": 366,
    "start_time": "2021-09-04T11:14:02.139Z"
   },
   {
    "duration": 2391,
    "start_time": "2021-09-04T11:14:03.367Z"
   },
   {
    "duration": 3127,
    "start_time": "2021-09-04T11:14:05.761Z"
   },
   {
    "duration": 1183,
    "start_time": "2021-09-04T11:14:57.168Z"
   },
   {
    "duration": 300,
    "start_time": "2021-09-04T11:14:58.354Z"
   },
   {
    "duration": 2395,
    "start_time": "2021-09-04T11:14:59.529Z"
   },
   {
    "duration": 3030,
    "start_time": "2021-09-04T11:15:01.927Z"
   },
   {
    "duration": 3020,
    "start_time": "2021-09-04T11:16:14.307Z"
   },
   {
    "duration": 4725,
    "start_time": "2021-09-04T11:16:39.968Z"
   },
   {
    "duration": 1786,
    "start_time": "2021-09-04T11:17:02.315Z"
   },
   {
    "duration": 525,
    "start_time": "2021-09-04T11:17:04.106Z"
   },
   {
    "duration": 6673,
    "start_time": "2021-09-04T11:17:04.636Z"
   },
   {
    "duration": 8224,
    "start_time": "2021-09-04T11:17:11.313Z"
   },
   {
    "duration": 1100,
    "start_time": "2021-09-04T11:20:18.553Z"
   },
   {
    "duration": 285,
    "start_time": "2021-09-04T11:20:19.655Z"
   },
   {
    "duration": 2629,
    "start_time": "2021-09-04T11:20:21.121Z"
   },
   {
    "duration": 4505,
    "start_time": "2021-09-04T11:20:23.754Z"
   },
   {
    "duration": 261,
    "start_time": "2021-09-04T11:21:11.065Z"
   },
   {
    "duration": 3730,
    "start_time": "2021-09-04T11:21:20.329Z"
   },
   {
    "duration": 1722,
    "start_time": "2021-09-04T11:21:42.833Z"
   },
   {
    "duration": 427,
    "start_time": "2021-09-04T11:21:44.559Z"
   },
   {
    "duration": 4173,
    "start_time": "2021-09-04T11:21:44.990Z"
   },
   {
    "duration": 5854,
    "start_time": "2021-09-04T11:21:49.166Z"
   },
   {
    "duration": 1090,
    "start_time": "2021-09-04T11:22:57.606Z"
   },
   {
    "duration": 303,
    "start_time": "2021-09-04T11:22:58.699Z"
   },
   {
    "duration": 2389,
    "start_time": "2021-09-04T11:22:59.004Z"
   },
   {
    "duration": 5804,
    "start_time": "2021-09-04T11:23:01.395Z"
   },
   {
    "duration": 4912,
    "start_time": "2021-09-04T11:27:59.979Z"
   },
   {
    "duration": 5027,
    "start_time": "2021-09-04T11:28:22.055Z"
   },
   {
    "duration": 1130,
    "start_time": "2021-09-04T11:31:11.534Z"
   },
   {
    "duration": 340,
    "start_time": "2021-09-04T11:31:12.666Z"
   },
   {
    "duration": 3922,
    "start_time": "2021-09-04T11:31:13.010Z"
   },
   {
    "duration": 4913,
    "start_time": "2021-09-04T11:31:16.935Z"
   },
   {
    "duration": 4570,
    "start_time": "2021-09-04T11:32:32.849Z"
   },
   {
    "duration": 4642,
    "start_time": "2021-09-04T11:33:00.874Z"
   },
   {
    "duration": 585,
    "start_time": "2021-09-04T11:33:26.468Z"
   },
   {
    "duration": 1174,
    "start_time": "2021-09-04T11:33:51.066Z"
   },
   {
    "duration": 304,
    "start_time": "2021-09-04T11:33:52.242Z"
   },
   {
    "duration": 2344,
    "start_time": "2021-09-04T11:33:53.233Z"
   },
   {
    "duration": 4810,
    "start_time": "2021-09-04T11:33:55.582Z"
   },
   {
    "duration": 9776,
    "start_time": "2021-09-04T11:34:14.271Z"
   },
   {
    "duration": 9872,
    "start_time": "2021-09-04T11:35:57.662Z"
   },
   {
    "duration": 10196,
    "start_time": "2021-09-04T11:36:29.823Z"
   },
   {
    "duration": 1064,
    "start_time": "2021-09-04T11:38:26.030Z"
   },
   {
    "duration": 320,
    "start_time": "2021-09-04T11:38:27.096Z"
   },
   {
    "duration": 2974,
    "start_time": "2021-09-04T11:38:27.419Z"
   },
   {
    "duration": 10302,
    "start_time": "2021-09-04T11:38:30.396Z"
   },
   {
    "duration": 10204,
    "start_time": "2021-09-04T11:40:54.065Z"
   },
   {
    "duration": 10205,
    "start_time": "2021-09-04T11:41:38.586Z"
   },
   {
    "duration": 1105,
    "start_time": "2021-09-04T14:31:00.635Z"
   },
   {
    "duration": 265,
    "start_time": "2021-09-04T14:31:02.744Z"
   },
   {
    "duration": 2488,
    "start_time": "2021-09-04T14:31:03.012Z"
   },
   {
    "duration": 9571,
    "start_time": "2021-09-04T14:31:05.503Z"
   },
   {
    "duration": 1142,
    "start_time": "2021-09-05T13:48:51.259Z"
   },
   {
    "duration": 306,
    "start_time": "2021-09-05T13:48:52.404Z"
   },
   {
    "duration": 2578,
    "start_time": "2021-09-05T13:48:52.712Z"
   },
   {
    "duration": 9930,
    "start_time": "2021-09-05T13:48:55.292Z"
   },
   {
    "duration": 550,
    "start_time": "2021-09-05T13:55:56.731Z"
   },
   {
    "duration": 1712,
    "start_time": "2021-09-05T13:56:07.855Z"
   },
   {
    "duration": 307,
    "start_time": "2021-09-05T13:56:09.570Z"
   },
   {
    "duration": 2451,
    "start_time": "2021-09-05T13:56:09.880Z"
   },
   {
    "duration": 9825,
    "start_time": "2021-09-05T13:56:12.333Z"
   },
   {
    "duration": 416,
    "start_time": "2021-09-05T13:56:22.160Z"
   },
   {
    "duration": 229,
    "start_time": "2021-09-05T13:56:39.302Z"
   },
   {
    "duration": 6843,
    "start_time": "2021-09-05T13:59:58.749Z"
   },
   {
    "duration": 26466,
    "start_time": "2021-09-05T14:00:17.795Z"
   },
   {
    "duration": 803,
    "start_time": "2021-09-05T14:00:52.449Z"
   },
   {
    "duration": 617,
    "start_time": "2021-09-05T14:01:36.929Z"
   },
   {
    "duration": 643,
    "start_time": "2021-09-05T14:02:43.342Z"
   },
   {
    "duration": 1950,
    "start_time": "2021-09-05T14:02:47.933Z"
   },
   {
    "duration": 862,
    "start_time": "2021-09-05T14:03:17.164Z"
   },
   {
    "duration": 225,
    "start_time": "2021-09-05T14:11:40.856Z"
   },
   {
    "duration": 6023,
    "start_time": "2021-09-05T14:11:57.103Z"
   },
   {
    "duration": 9302,
    "start_time": "2021-09-05T14:12:09.199Z"
   },
   {
    "duration": 603,
    "start_time": "2021-09-05T14:13:33.870Z"
   },
   {
    "duration": 544,
    "start_time": "2021-09-05T14:13:51.154Z"
   },
   {
    "duration": 231,
    "start_time": "2021-09-05T14:16:41.348Z"
   },
   {
    "duration": 226,
    "start_time": "2021-09-05T14:16:52.973Z"
   },
   {
    "duration": 294,
    "start_time": "2021-09-05T14:17:27.807Z"
   },
   {
    "duration": 370,
    "start_time": "2021-09-05T14:17:54.721Z"
   },
   {
    "duration": 231,
    "start_time": "2021-09-05T14:18:01.268Z"
   },
   {
    "duration": 8852,
    "start_time": "2021-09-05T14:25:00.555Z"
   },
   {
    "duration": 746,
    "start_time": "2021-09-05T14:25:15.680Z"
   },
   {
    "duration": 1278,
    "start_time": "2021-09-05T14:25:28.192Z"
   },
   {
    "duration": 1395,
    "start_time": "2021-09-05T14:25:55.855Z"
   },
   {
    "duration": 1274,
    "start_time": "2021-09-05T14:26:11.744Z"
   },
   {
    "duration": 3050,
    "start_time": "2021-09-05T14:26:21.252Z"
   },
   {
    "duration": 349,
    "start_time": "2021-09-05T14:31:20.693Z"
   },
   {
    "duration": 598,
    "start_time": "2021-09-05T14:32:29.448Z"
   },
   {
    "duration": 1028,
    "start_time": "2021-09-05T14:32:58.200Z"
   },
   {
    "duration": 953,
    "start_time": "2021-09-05T14:33:37.295Z"
   },
   {
    "duration": 1564,
    "start_time": "2021-09-05T14:33:58.236Z"
   },
   {
    "duration": 329,
    "start_time": "2021-09-05T14:33:59.804Z"
   },
   {
    "duration": 4270,
    "start_time": "2021-09-05T14:34:00.136Z"
   },
   {
    "duration": 10714,
    "start_time": "2021-09-05T14:34:04.409Z"
   },
   {
    "duration": 1109,
    "start_time": "2021-09-05T14:34:15.126Z"
   },
   {
    "duration": 1533,
    "start_time": "2021-09-05T14:35:00.138Z"
   },
   {
    "duration": 1311,
    "start_time": "2021-09-05T14:35:30.460Z"
   },
   {
    "duration": 567,
    "start_time": "2021-09-05T14:35:39.189Z"
   },
   {
    "duration": 610,
    "start_time": "2021-09-05T14:36:05.470Z"
   },
   {
    "duration": 588,
    "start_time": "2021-09-05T14:36:21.405Z"
   },
   {
    "duration": 708,
    "start_time": "2021-09-05T14:37:19.115Z"
   },
   {
    "duration": 713,
    "start_time": "2021-09-05T14:37:22.613Z"
   },
   {
    "duration": 2906,
    "start_time": "2021-09-05T14:38:04.934Z"
   },
   {
    "duration": 2364,
    "start_time": "2021-09-05T14:38:16.494Z"
   },
   {
    "duration": 724,
    "start_time": "2021-09-05T14:38:24.908Z"
   },
   {
    "duration": 271,
    "start_time": "2021-09-05T14:38:49.246Z"
   },
   {
    "duration": 737,
    "start_time": "2021-09-05T14:40:26.201Z"
   },
   {
    "duration": 630,
    "start_time": "2021-09-05T14:41:05.428Z"
   },
   {
    "duration": 654,
    "start_time": "2021-09-05T14:42:14.967Z"
   },
   {
    "duration": 665,
    "start_time": "2021-09-05T14:42:36.402Z"
   },
   {
    "duration": 624,
    "start_time": "2021-09-05T14:47:06.102Z"
   },
   {
    "duration": 341,
    "start_time": "2021-09-05T14:47:21.256Z"
   },
   {
    "duration": 351,
    "start_time": "2021-09-05T14:47:29.118Z"
   },
   {
    "duration": 686,
    "start_time": "2021-09-05T14:47:38.779Z"
   },
   {
    "duration": 302,
    "start_time": "2021-09-05T14:47:56.272Z"
   },
   {
    "duration": 316,
    "start_time": "2021-09-05T14:48:43.650Z"
   },
   {
    "duration": 372,
    "start_time": "2021-09-05T14:48:59.872Z"
   },
   {
    "duration": 482,
    "start_time": "2021-09-05T14:49:08.952Z"
   },
   {
    "duration": 320,
    "start_time": "2021-09-05T14:50:13.099Z"
   },
   {
    "duration": 286,
    "start_time": "2021-09-05T15:07:41.156Z"
   },
   {
    "duration": 1171,
    "start_time": "2021-09-05T15:16:25.630Z"
   },
   {
    "duration": 228,
    "start_time": "2021-09-05T15:16:27.923Z"
   },
   {
    "duration": 58,
    "start_time": "2021-09-05T15:16:28.154Z"
   },
   {
    "duration": 2559,
    "start_time": "2021-09-05T15:16:29.829Z"
   },
   {
    "duration": 34,
    "start_time": "2021-09-05T15:16:33.759Z"
   },
   {
    "duration": 4274,
    "start_time": "2021-09-05T15:16:34.520Z"
   },
   {
    "duration": 29,
    "start_time": "2021-09-05T15:16:38.797Z"
   },
   {
    "duration": 4235,
    "start_time": "2021-09-05T15:16:38.829Z"
   },
   {
    "duration": 776,
    "start_time": "2021-09-05T15:16:43.067Z"
   },
   {
    "duration": 111,
    "start_time": "2021-09-05T15:16:43.845Z"
   },
   {
    "duration": 2640,
    "start_time": "2021-09-05T15:16:41.319Z"
   },
   {
    "duration": 2635,
    "start_time": "2021-09-05T15:16:41.325Z"
   },
   {
    "duration": 2635,
    "start_time": "2021-09-05T15:16:41.327Z"
   },
   {
    "duration": 2625,
    "start_time": "2021-09-05T15:16:41.338Z"
   },
   {
    "duration": 2625,
    "start_time": "2021-09-05T15:16:41.340Z"
   },
   {
    "duration": 2625,
    "start_time": "2021-09-05T15:16:41.341Z"
   },
   {
    "duration": 2624,
    "start_time": "2021-09-05T15:16:41.343Z"
   },
   {
    "duration": 1308,
    "start_time": "2021-09-05T15:17:16.365Z"
   },
   {
    "duration": 257,
    "start_time": "2021-09-05T15:17:17.676Z"
   },
   {
    "duration": 72,
    "start_time": "2021-09-05T15:17:17.936Z"
   },
   {
    "duration": 2499,
    "start_time": "2021-09-05T15:17:18.262Z"
   },
   {
    "duration": 35,
    "start_time": "2021-09-05T15:17:20.767Z"
   },
   {
    "duration": 4019,
    "start_time": "2021-09-05T15:17:20.805Z"
   },
   {
    "duration": 41,
    "start_time": "2021-09-05T15:17:24.827Z"
   },
   {
    "duration": 4058,
    "start_time": "2021-09-05T15:17:24.870Z"
   },
   {
    "duration": 750,
    "start_time": "2021-09-05T15:17:28.931Z"
   },
   {
    "duration": 755,
    "start_time": "2021-09-05T15:17:29.683Z"
   },
   {
    "duration": 260,
    "start_time": "2021-09-05T15:17:30.441Z"
   },
   {
    "duration": 624,
    "start_time": "2021-09-05T15:17:30.704Z"
   },
   {
    "duration": 761,
    "start_time": "2021-09-05T15:17:31.331Z"
   },
   {
    "duration": 647,
    "start_time": "2021-09-05T15:17:32.095Z"
   },
   {
    "duration": 305,
    "start_time": "2021-09-05T15:17:32.744Z"
   },
   {
    "duration": 328,
    "start_time": "2021-09-05T15:17:33.052Z"
   },
   {
    "duration": 307,
    "start_time": "2021-09-05T15:17:33.383Z"
   },
   {
    "duration": 25,
    "start_time": "2021-09-05T15:24:03.057Z"
   },
   {
    "duration": 1128,
    "start_time": "2021-09-05T15:24:20.769Z"
   },
   {
    "duration": 271,
    "start_time": "2021-09-05T15:24:21.900Z"
   },
   {
    "duration": 46,
    "start_time": "2021-09-05T15:24:22.174Z"
   },
   {
    "duration": 2415,
    "start_time": "2021-09-05T15:24:22.793Z"
   },
   {
    "duration": 34,
    "start_time": "2021-09-05T15:24:25.211Z"
   },
   {
    "duration": 4387,
    "start_time": "2021-09-05T15:24:25.248Z"
   },
   {
    "duration": 42,
    "start_time": "2021-09-05T15:24:29.638Z"
   },
   {
    "duration": 4442,
    "start_time": "2021-09-05T15:24:29.682Z"
   },
   {
    "duration": 770,
    "start_time": "2021-09-05T15:24:34.127Z"
   },
   {
    "duration": 764,
    "start_time": "2021-09-05T15:24:34.899Z"
   },
   {
    "duration": 277,
    "start_time": "2021-09-05T15:24:35.668Z"
   },
   {
    "duration": 1161,
    "start_time": "2021-09-05T15:25:01.947Z"
   },
   {
    "duration": 275,
    "start_time": "2021-09-05T15:25:03.111Z"
   },
   {
    "duration": 52,
    "start_time": "2021-09-05T15:25:03.389Z"
   },
   {
    "duration": 2795,
    "start_time": "2021-09-05T15:25:03.806Z"
   },
   {
    "duration": 33,
    "start_time": "2021-09-05T15:25:06.603Z"
   },
   {
    "duration": 4128,
    "start_time": "2021-09-05T15:25:06.639Z"
   },
   {
    "duration": 43,
    "start_time": "2021-09-05T15:25:10.769Z"
   },
   {
    "duration": 7404,
    "start_time": "2021-09-05T15:25:10.816Z"
   },
   {
    "duration": 765,
    "start_time": "2021-09-05T15:25:18.223Z"
   },
   {
    "duration": 781,
    "start_time": "2021-09-05T15:25:18.991Z"
   },
   {
    "duration": 42,
    "start_time": "2021-09-05T15:26:17.085Z"
   },
   {
    "duration": 357,
    "start_time": "2021-09-05T15:27:34.508Z"
   },
   {
    "duration": 399,
    "start_time": "2021-09-05T15:31:38.693Z"
   },
   {
    "duration": 1074,
    "start_time": "2021-09-05T15:31:50.794Z"
   },
   {
    "duration": 236,
    "start_time": "2021-09-05T15:31:51.871Z"
   },
   {
    "duration": 66,
    "start_time": "2021-09-05T15:31:52.109Z"
   },
   {
    "duration": 2498,
    "start_time": "2021-09-05T15:31:52.279Z"
   },
   {
    "duration": 37,
    "start_time": "2021-09-05T15:31:54.780Z"
   },
   {
    "duration": 4105,
    "start_time": "2021-09-05T15:31:54.820Z"
   },
   {
    "duration": 50,
    "start_time": "2021-09-05T15:31:58.927Z"
   },
   {
    "duration": 4405,
    "start_time": "2021-09-05T15:31:58.979Z"
   },
   {
    "duration": 740,
    "start_time": "2021-09-05T15:32:03.386Z"
   },
   {
    "duration": 718,
    "start_time": "2021-09-05T15:32:04.129Z"
   },
   {
    "duration": 371,
    "start_time": "2021-09-05T15:32:04.851Z"
   },
   {
    "duration": 357,
    "start_time": "2021-09-05T15:32:05.225Z"
   },
   {
    "duration": 843,
    "start_time": "2021-09-05T15:32:05.584Z"
   },
   {
    "duration": 742,
    "start_time": "2021-09-05T15:32:06.429Z"
   },
   {
    "duration": 652,
    "start_time": "2021-09-05T15:32:07.174Z"
   },
   {
    "duration": 308,
    "start_time": "2021-09-05T15:32:07.828Z"
   },
   {
    "duration": 307,
    "start_time": "2021-09-05T15:32:08.138Z"
   },
   {
    "duration": 334,
    "start_time": "2021-09-05T15:32:08.447Z"
   },
   {
    "duration": 305,
    "start_time": "2021-09-05T15:32:08.784Z"
   },
   {
    "duration": 619,
    "start_time": "2021-09-05T15:32:38.737Z"
   },
   {
    "duration": 447,
    "start_time": "2021-09-05T15:32:50.234Z"
   },
   {
    "duration": 407,
    "start_time": "2021-09-05T15:32:53.996Z"
   },
   {
    "duration": 481,
    "start_time": "2021-09-05T15:33:13.452Z"
   },
   {
    "duration": 451,
    "start_time": "2021-09-05T15:34:22.135Z"
   },
   {
    "duration": 468,
    "start_time": "2021-09-05T15:34:54.269Z"
   },
   {
    "duration": 456,
    "start_time": "2021-09-05T15:36:00.207Z"
   },
   {
    "duration": 643,
    "start_time": "2021-09-05T15:37:06.851Z"
   },
   {
    "duration": 3668,
    "start_time": "2021-09-05T15:37:11.728Z"
   },
   {
    "duration": 445,
    "start_time": "2021-09-05T16:12:28.157Z"
   },
   {
    "duration": 6,
    "start_time": "2021-09-05T16:12:35.657Z"
   },
   {
    "duration": 16,
    "start_time": "2021-09-05T16:16:18.851Z"
   },
   {
    "duration": 9,
    "start_time": "2021-09-05T16:27:55.104Z"
   },
   {
    "duration": 8,
    "start_time": "2021-09-05T16:28:31.648Z"
   },
   {
    "duration": 25,
    "start_time": "2021-09-05T16:35:07.063Z"
   },
   {
    "duration": 18,
    "start_time": "2021-09-05T16:38:56.589Z"
   },
   {
    "duration": 20,
    "start_time": "2021-09-05T16:39:08.844Z"
   },
   {
    "duration": 27,
    "start_time": "2021-09-05T16:41:37.279Z"
   },
   {
    "duration": 26,
    "start_time": "2021-09-05T16:42:17.493Z"
   },
   {
    "duration": 28,
    "start_time": "2021-09-05T16:42:34.152Z"
   },
   {
    "duration": 17,
    "start_time": "2021-09-05T16:42:46.827Z"
   },
   {
    "duration": 18,
    "start_time": "2021-09-05T16:43:12.250Z"
   },
   {
    "duration": 9356,
    "start_time": "2021-09-05T16:43:40.950Z"
   },
   {
    "duration": 312,
    "start_time": "2021-09-05T16:44:13.153Z"
   },
   {
    "duration": 15,
    "start_time": "2021-09-05T16:44:23.774Z"
   },
   {
    "duration": 17,
    "start_time": "2021-09-05T16:47:40.511Z"
   },
   {
    "duration": 18,
    "start_time": "2021-09-05T16:47:58.329Z"
   },
   {
    "duration": 22,
    "start_time": "2021-09-05T16:50:20.320Z"
   },
   {
    "duration": 119,
    "start_time": "2021-09-05T16:55:24.683Z"
   },
   {
    "duration": 28,
    "start_time": "2021-09-05T16:55:36.274Z"
   },
   {
    "duration": 130,
    "start_time": "2021-09-05T16:55:54.535Z"
   },
   {
    "duration": 29,
    "start_time": "2021-09-05T16:55:59.129Z"
   },
   {
    "duration": 27,
    "start_time": "2021-09-05T16:56:17.261Z"
   },
   {
    "duration": 42,
    "start_time": "2021-09-05T16:57:49.371Z"
   },
   {
    "duration": 388,
    "start_time": "2021-09-05T17:02:15.985Z"
   },
   {
    "duration": 31,
    "start_time": "2021-09-05T17:02:26.297Z"
   },
   {
    "duration": 29,
    "start_time": "2021-09-05T17:02:34.783Z"
   },
   {
    "duration": 384,
    "start_time": "2021-09-05T17:03:05.508Z"
   },
   {
    "duration": 38,
    "start_time": "2021-09-05T17:03:24.367Z"
   },
   {
    "duration": 28,
    "start_time": "2021-09-05T17:04:11.921Z"
   },
   {
    "duration": 37,
    "start_time": "2021-09-05T17:04:28.794Z"
   },
   {
    "duration": 27,
    "start_time": "2021-09-05T17:05:29.500Z"
   },
   {
    "duration": 373,
    "start_time": "2021-09-05T17:05:38.444Z"
   },
   {
    "duration": 42,
    "start_time": "2021-09-05T17:07:34.435Z"
   },
   {
    "duration": 30,
    "start_time": "2021-09-05T17:07:50.292Z"
   },
   {
    "duration": 132,
    "start_time": "2021-09-05T17:11:34.205Z"
   },
   {
    "duration": 31,
    "start_time": "2021-09-05T17:11:39.046Z"
   },
   {
    "duration": 31,
    "start_time": "2021-09-05T17:11:49.797Z"
   },
   {
    "duration": 32,
    "start_time": "2021-09-05T17:15:09.486Z"
   },
   {
    "duration": 34,
    "start_time": "2021-09-05T17:15:26.774Z"
   },
   {
    "duration": 32,
    "start_time": "2021-09-05T17:17:42.582Z"
   },
   {
    "duration": 31,
    "start_time": "2021-09-05T17:17:54.604Z"
   },
   {
    "duration": 10,
    "start_time": "2021-09-05T17:49:53.743Z"
   },
   {
    "duration": 65,
    "start_time": "2021-09-05T17:50:06.781Z"
   },
   {
    "duration": 13,
    "start_time": "2021-09-05T17:50:52.343Z"
   },
   {
    "duration": 13,
    "start_time": "2021-09-05T17:52:43.823Z"
   },
   {
    "duration": 14,
    "start_time": "2021-09-05T17:53:07.449Z"
   },
   {
    "duration": 13,
    "start_time": "2021-09-05T17:53:15.699Z"
   },
   {
    "duration": 11,
    "start_time": "2021-09-05T17:53:33.591Z"
   },
   {
    "duration": 13,
    "start_time": "2021-09-05T17:53:42.143Z"
   },
   {
    "duration": 1118,
    "start_time": "2021-09-05T17:54:09.256Z"
   },
   {
    "duration": 239,
    "start_time": "2021-09-05T17:54:10.440Z"
   },
   {
    "duration": 47,
    "start_time": "2021-09-05T17:54:10.889Z"
   },
   {
    "duration": 2525,
    "start_time": "2021-09-05T17:54:12.382Z"
   },
   {
    "duration": 33,
    "start_time": "2021-09-05T17:54:14.909Z"
   },
   {
    "duration": 4493,
    "start_time": "2021-09-05T17:54:14.945Z"
   },
   {
    "duration": 46,
    "start_time": "2021-09-05T17:54:19.441Z"
   },
   {
    "duration": 4318,
    "start_time": "2021-09-05T17:54:19.490Z"
   },
   {
    "duration": 775,
    "start_time": "2021-09-05T17:54:23.810Z"
   },
   {
    "duration": 761,
    "start_time": "2021-09-05T17:54:24.587Z"
   },
   {
    "duration": 357,
    "start_time": "2021-09-05T17:54:25.352Z"
   },
   {
    "duration": 3652,
    "start_time": "2021-09-05T17:54:25.711Z"
   },
   {
    "duration": 626,
    "start_time": "2021-09-05T17:54:29.368Z"
   },
   {
    "duration": 744,
    "start_time": "2021-09-05T17:54:29.997Z"
   },
   {
    "duration": 649,
    "start_time": "2021-09-05T17:54:30.743Z"
   },
   {
    "duration": 338,
    "start_time": "2021-09-05T17:54:31.396Z"
   },
   {
    "duration": 311,
    "start_time": "2021-09-05T17:54:31.737Z"
   },
   {
    "duration": 326,
    "start_time": "2021-09-05T17:54:32.050Z"
   },
   {
    "duration": 409,
    "start_time": "2021-09-05T17:54:32.379Z"
   },
   {
    "duration": 14,
    "start_time": "2021-09-05T17:54:32.791Z"
   },
   {
    "duration": 61,
    "start_time": "2021-09-05T17:54:32.808Z"
   },
   {
    "duration": 12,
    "start_time": "2021-09-05T17:54:32.871Z"
   },
   {
    "duration": 1093,
    "start_time": "2021-09-05T17:55:50.293Z"
   },
   {
    "duration": 256,
    "start_time": "2021-09-05T17:55:51.390Z"
   },
   {
    "duration": 50,
    "start_time": "2021-09-05T17:55:51.669Z"
   },
   {
    "duration": 2442,
    "start_time": "2021-09-05T17:55:52.261Z"
   },
   {
    "duration": 34,
    "start_time": "2021-09-05T17:55:54.706Z"
   },
   {
    "duration": 4087,
    "start_time": "2021-09-05T17:55:54.743Z"
   },
   {
    "duration": 47,
    "start_time": "2021-09-05T17:55:58.833Z"
   },
   {
    "duration": 4328,
    "start_time": "2021-09-05T17:55:58.883Z"
   },
   {
    "duration": 742,
    "start_time": "2021-09-05T17:56:03.214Z"
   },
   {
    "duration": 740,
    "start_time": "2021-09-05T17:56:03.959Z"
   },
   {
    "duration": 367,
    "start_time": "2021-09-05T17:56:04.703Z"
   },
   {
    "duration": 3516,
    "start_time": "2021-09-05T17:56:05.072Z"
   },
   {
    "duration": 625,
    "start_time": "2021-09-05T17:56:08.591Z"
   },
   {
    "duration": 828,
    "start_time": "2021-09-05T17:56:09.218Z"
   },
   {
    "duration": 642,
    "start_time": "2021-09-05T17:56:10.048Z"
   },
   {
    "duration": 300,
    "start_time": "2021-09-05T17:56:10.692Z"
   },
   {
    "duration": 297,
    "start_time": "2021-09-05T17:56:10.994Z"
   },
   {
    "duration": 342,
    "start_time": "2021-09-05T17:56:11.293Z"
   },
   {
    "duration": 309,
    "start_time": "2021-09-05T17:56:11.637Z"
   },
   {
    "duration": 25,
    "start_time": "2021-09-05T17:56:11.949Z"
   },
   {
    "duration": 34,
    "start_time": "2021-09-05T17:56:11.976Z"
   },
   {
    "duration": 13,
    "start_time": "2021-09-05T17:56:12.012Z"
   },
   {
    "duration": 1117,
    "start_time": "2021-09-05T17:57:39.377Z"
   },
   {
    "duration": 236,
    "start_time": "2021-09-05T17:57:40.663Z"
   },
   {
    "duration": 48,
    "start_time": "2021-09-05T17:57:41.286Z"
   },
   {
    "duration": 2585,
    "start_time": "2021-09-05T17:57:42.701Z"
   },
   {
    "duration": 36,
    "start_time": "2021-09-05T17:57:48.765Z"
   },
   {
    "duration": 4111,
    "start_time": "2021-09-05T17:57:49.138Z"
   },
   {
    "duration": 39,
    "start_time": "2021-09-05T17:57:53.252Z"
   },
   {
    "duration": 4215,
    "start_time": "2021-09-05T17:57:53.294Z"
   },
   {
    "duration": 756,
    "start_time": "2021-09-05T17:57:57.512Z"
   },
   {
    "duration": 751,
    "start_time": "2021-09-05T17:57:58.271Z"
   },
   {
    "duration": 370,
    "start_time": "2021-09-05T17:57:59.024Z"
   },
   {
    "duration": 3784,
    "start_time": "2021-09-05T17:57:59.397Z"
   },
   {
    "duration": 645,
    "start_time": "2021-09-05T17:58:03.185Z"
   },
   {
    "duration": 737,
    "start_time": "2021-09-05T17:58:03.833Z"
   },
   {
    "duration": 655,
    "start_time": "2021-09-05T17:58:04.573Z"
   },
   {
    "duration": 321,
    "start_time": "2021-09-05T17:58:05.230Z"
   },
   {
    "duration": 307,
    "start_time": "2021-09-05T17:58:05.553Z"
   },
   {
    "duration": 337,
    "start_time": "2021-09-05T17:58:05.867Z"
   },
   {
    "duration": 314,
    "start_time": "2021-09-05T17:58:06.207Z"
   },
   {
    "duration": 15,
    "start_time": "2021-09-05T17:58:06.524Z"
   },
   {
    "duration": 55,
    "start_time": "2021-09-05T17:58:06.542Z"
   },
   {
    "duration": 63,
    "start_time": "2021-09-05T17:58:41.017Z"
   },
   {
    "duration": 1155,
    "start_time": "2021-09-05T18:00:08.177Z"
   },
   {
    "duration": 211,
    "start_time": "2021-09-05T18:00:10.201Z"
   },
   {
    "duration": 48,
    "start_time": "2021-09-05T18:00:29.462Z"
   },
   {
    "duration": 2510,
    "start_time": "2021-09-05T18:00:31.730Z"
   },
   {
    "duration": 2551,
    "start_time": "2021-09-05T18:02:09.816Z"
   },
   {
    "duration": 1134,
    "start_time": "2021-09-05T18:03:47.739Z"
   },
   {
    "duration": 245,
    "start_time": "2021-09-05T18:03:48.945Z"
   },
   {
    "duration": 48,
    "start_time": "2021-09-05T18:03:49.269Z"
   },
   {
    "duration": 2391,
    "start_time": "2021-09-05T18:03:50.337Z"
   },
   {
    "duration": 42,
    "start_time": "2021-09-05T18:03:52.731Z"
   },
   {
    "duration": 4167,
    "start_time": "2021-09-05T18:03:52.776Z"
   },
   {
    "duration": 45,
    "start_time": "2021-09-05T18:03:56.945Z"
   },
   {
    "duration": 4317,
    "start_time": "2021-09-05T18:03:56.992Z"
   },
   {
    "duration": 769,
    "start_time": "2021-09-05T18:04:01.311Z"
   },
   {
    "duration": 731,
    "start_time": "2021-09-05T18:04:02.082Z"
   },
   {
    "duration": 355,
    "start_time": "2021-09-05T18:04:02.817Z"
   },
   {
    "duration": 3503,
    "start_time": "2021-09-05T18:04:03.174Z"
   },
   {
    "duration": 610,
    "start_time": "2021-09-05T18:04:06.679Z"
   },
   {
    "duration": 727,
    "start_time": "2021-09-05T18:04:07.291Z"
   },
   {
    "duration": 757,
    "start_time": "2021-09-05T18:04:08.020Z"
   },
   {
    "duration": 319,
    "start_time": "2021-09-05T18:04:08.779Z"
   },
   {
    "duration": 311,
    "start_time": "2021-09-05T18:04:09.101Z"
   },
   {
    "duration": 330,
    "start_time": "2021-09-05T18:04:09.414Z"
   },
   {
    "duration": 301,
    "start_time": "2021-09-05T18:04:09.746Z"
   },
   {
    "duration": 25,
    "start_time": "2021-09-05T18:04:10.049Z"
   },
   {
    "duration": 32,
    "start_time": "2021-09-05T18:04:10.076Z"
   },
   {
    "duration": 88,
    "start_time": "2021-09-05T18:04:10.110Z"
   },
   {
    "duration": 15,
    "start_time": "2021-09-05T18:05:05.643Z"
   },
   {
    "duration": 12,
    "start_time": "2021-09-05T18:05:25.988Z"
   },
   {
    "duration": 11,
    "start_time": "2021-09-05T18:05:35.994Z"
   },
   {
    "duration": 11,
    "start_time": "2021-09-05T18:07:23.201Z"
   },
   {
    "duration": 14,
    "start_time": "2021-09-05T18:07:54.115Z"
   },
   {
    "duration": 15,
    "start_time": "2021-09-05T18:09:02.543Z"
   },
   {
    "duration": 1039,
    "start_time": "2021-09-05T18:10:28.000Z"
   },
   {
    "duration": 257,
    "start_time": "2021-09-05T18:10:29.042Z"
   },
   {
    "duration": 68,
    "start_time": "2021-09-05T18:10:29.301Z"
   },
   {
    "duration": 2464,
    "start_time": "2021-09-05T18:10:29.672Z"
   },
   {
    "duration": 48,
    "start_time": "2021-09-05T18:10:32.138Z"
   },
   {
    "duration": 4598,
    "start_time": "2021-09-05T18:10:32.189Z"
   },
   {
    "duration": 35,
    "start_time": "2021-09-05T18:10:36.790Z"
   },
   {
    "duration": 4946,
    "start_time": "2021-09-05T18:10:36.827Z"
   },
   {
    "duration": 765,
    "start_time": "2021-09-05T18:10:41.775Z"
   },
   {
    "duration": 848,
    "start_time": "2021-09-05T18:10:42.542Z"
   },
   {
    "duration": 366,
    "start_time": "2021-09-05T18:10:43.394Z"
   },
   {
    "duration": 3560,
    "start_time": "2021-09-05T18:10:43.763Z"
   },
   {
    "duration": 620,
    "start_time": "2021-09-05T18:10:47.326Z"
   },
   {
    "duration": 734,
    "start_time": "2021-09-05T18:10:47.949Z"
   },
   {
    "duration": 651,
    "start_time": "2021-09-05T18:10:48.686Z"
   },
   {
    "duration": 309,
    "start_time": "2021-09-05T18:10:49.340Z"
   },
   {
    "duration": 304,
    "start_time": "2021-09-05T18:10:49.651Z"
   },
   {
    "duration": 344,
    "start_time": "2021-09-05T18:10:49.958Z"
   },
   {
    "duration": 311,
    "start_time": "2021-09-05T18:10:50.304Z"
   },
   {
    "duration": 14,
    "start_time": "2021-09-05T18:10:50.617Z"
   },
   {
    "duration": 49,
    "start_time": "2021-09-05T18:10:50.633Z"
   },
   {
    "duration": 21,
    "start_time": "2021-09-05T18:10:50.684Z"
   },
   {
    "duration": 35,
    "start_time": "2021-09-05T18:12:19.885Z"
   },
   {
    "duration": 1073,
    "start_time": "2021-09-05T18:14:21.598Z"
   },
   {
    "duration": 216,
    "start_time": "2021-09-05T18:14:23.123Z"
   },
   {
    "duration": 51,
    "start_time": "2021-09-05T18:14:23.424Z"
   },
   {
    "duration": 2437,
    "start_time": "2021-09-05T18:14:23.999Z"
   },
   {
    "duration": 43,
    "start_time": "2021-09-05T18:14:26.439Z"
   },
   {
    "duration": 4314,
    "start_time": "2021-09-05T18:14:26.486Z"
   },
   {
    "duration": 33,
    "start_time": "2021-09-05T18:14:30.803Z"
   },
   {
    "duration": 4384,
    "start_time": "2021-09-05T18:14:30.838Z"
   },
   {
    "duration": 791,
    "start_time": "2021-09-05T18:14:35.225Z"
   },
   {
    "duration": 786,
    "start_time": "2021-09-05T18:14:36.018Z"
   },
   {
    "duration": 372,
    "start_time": "2021-09-05T18:14:36.809Z"
   },
   {
    "duration": 3711,
    "start_time": "2021-09-05T18:14:37.184Z"
   },
   {
    "duration": 647,
    "start_time": "2021-09-05T18:14:40.898Z"
   },
   {
    "duration": 768,
    "start_time": "2021-09-05T18:14:41.547Z"
   },
   {
    "duration": 678,
    "start_time": "2021-09-05T18:14:42.319Z"
   },
   {
    "duration": 309,
    "start_time": "2021-09-05T18:14:43.000Z"
   },
   {
    "duration": 310,
    "start_time": "2021-09-05T18:14:43.312Z"
   },
   {
    "duration": 352,
    "start_time": "2021-09-05T18:14:43.625Z"
   },
   {
    "duration": 309,
    "start_time": "2021-09-05T18:14:43.980Z"
   },
   {
    "duration": 15,
    "start_time": "2021-09-05T18:14:44.291Z"
   },
   {
    "duration": 59,
    "start_time": "2021-09-05T18:14:44.308Z"
   },
   {
    "duration": 21,
    "start_time": "2021-09-05T18:14:44.370Z"
   },
   {
    "duration": 1845,
    "start_time": "2021-09-05T18:15:46.788Z"
   },
   {
    "duration": 1697,
    "start_time": "2021-09-05T18:16:11.796Z"
   },
   {
    "duration": 1867,
    "start_time": "2021-09-05T18:16:29.276Z"
   },
   {
    "duration": 1179,
    "start_time": "2021-09-05T18:16:41.201Z"
   },
   {
    "duration": 241,
    "start_time": "2021-09-05T18:16:42.382Z"
   },
   {
    "duration": 72,
    "start_time": "2021-09-05T18:16:42.626Z"
   },
   {
    "duration": 2437,
    "start_time": "2021-09-05T18:16:42.949Z"
   },
   {
    "duration": 34,
    "start_time": "2021-09-05T18:16:45.389Z"
   },
   {
    "duration": 4168,
    "start_time": "2021-09-05T18:16:45.427Z"
   },
   {
    "duration": 33,
    "start_time": "2021-09-05T18:16:49.598Z"
   },
   {
    "duration": 4305,
    "start_time": "2021-09-05T18:16:49.633Z"
   },
   {
    "duration": 772,
    "start_time": "2021-09-05T18:16:53.941Z"
   },
   {
    "duration": 755,
    "start_time": "2021-09-05T18:16:54.715Z"
   },
   {
    "duration": 361,
    "start_time": "2021-09-05T18:16:55.474Z"
   },
   {
    "duration": 3725,
    "start_time": "2021-09-05T18:16:55.838Z"
   },
   {
    "duration": 641,
    "start_time": "2021-09-05T18:16:59.567Z"
   },
   {
    "duration": 725,
    "start_time": "2021-09-05T18:17:00.211Z"
   },
   {
    "duration": 652,
    "start_time": "2021-09-05T18:17:00.939Z"
   },
   {
    "duration": 363,
    "start_time": "2021-09-05T18:17:01.593Z"
   },
   {
    "duration": 316,
    "start_time": "2021-09-05T18:17:01.959Z"
   },
   {
    "duration": 343,
    "start_time": "2021-09-05T18:17:02.278Z"
   },
   {
    "duration": 319,
    "start_time": "2021-09-05T18:17:02.624Z"
   },
   {
    "duration": 26,
    "start_time": "2021-09-05T18:17:02.946Z"
   },
   {
    "duration": 34,
    "start_time": "2021-09-05T18:17:02.974Z"
   },
   {
    "duration": 21,
    "start_time": "2021-09-05T18:17:03.011Z"
   },
   {
    "duration": 1154,
    "start_time": "2021-09-05T18:18:11.137Z"
   },
   {
    "duration": 253,
    "start_time": "2021-09-05T18:18:12.294Z"
   },
   {
    "duration": 50,
    "start_time": "2021-09-05T18:18:12.566Z"
   },
   {
    "duration": 2803,
    "start_time": "2021-09-05T18:18:12.736Z"
   },
   {
    "duration": 44,
    "start_time": "2021-09-05T18:18:15.542Z"
   },
   {
    "duration": 4428,
    "start_time": "2021-09-05T18:18:15.589Z"
   },
   {
    "duration": 50,
    "start_time": "2021-09-05T18:18:20.020Z"
   },
   {
    "duration": 4392,
    "start_time": "2021-09-05T18:18:20.073Z"
   },
   {
    "duration": 900,
    "start_time": "2021-09-05T18:18:24.467Z"
   },
   {
    "duration": 757,
    "start_time": "2021-09-05T18:18:25.370Z"
   },
   {
    "duration": 548,
    "start_time": "2021-09-05T18:18:26.132Z"
   },
   {
    "duration": 3771,
    "start_time": "2021-09-05T18:18:26.684Z"
   },
   {
    "duration": 656,
    "start_time": "2021-09-05T18:18:30.458Z"
   },
   {
    "duration": 844,
    "start_time": "2021-09-05T18:18:31.116Z"
   },
   {
    "duration": 679,
    "start_time": "2021-09-05T18:18:31.962Z"
   },
   {
    "duration": 333,
    "start_time": "2021-09-05T18:18:32.643Z"
   },
   {
    "duration": 323,
    "start_time": "2021-09-05T18:18:32.978Z"
   },
   {
    "duration": 336,
    "start_time": "2021-09-05T18:18:33.303Z"
   },
   {
    "duration": 406,
    "start_time": "2021-09-05T18:18:33.642Z"
   },
   {
    "duration": 18,
    "start_time": "2021-09-05T18:18:34.051Z"
   },
   {
    "duration": 37,
    "start_time": "2021-09-05T18:18:34.071Z"
   },
   {
    "duration": 61,
    "start_time": "2021-09-05T18:18:34.110Z"
   },
   {
    "duration": 76,
    "start_time": "2021-09-05T18:20:13.440Z"
   },
   {
    "duration": 83,
    "start_time": "2021-09-05T18:22:05.874Z"
   },
   {
    "duration": 718,
    "start_time": "2021-09-05T18:23:50.002Z"
   },
   {
    "duration": 551,
    "start_time": "2021-09-05T18:24:10.843Z"
   },
   {
    "duration": 611,
    "start_time": "2021-09-05T18:26:24.210Z"
   },
   {
    "duration": 10,
    "start_time": "2021-09-05T18:42:16.188Z"
   },
   {
    "duration": 185,
    "start_time": "2021-09-05T18:42:31.553Z"
   },
   {
    "duration": 434,
    "start_time": "2021-09-05T18:48:32.184Z"
   },
   {
    "duration": 34,
    "start_time": "2021-09-05T18:48:51.574Z"
   },
   {
    "duration": 84,
    "start_time": "2021-09-05T18:52:44.683Z"
   },
   {
    "duration": 38,
    "start_time": "2021-09-05T18:52:55.583Z"
   },
   {
    "duration": 87,
    "start_time": "2021-09-05T18:53:03.883Z"
   },
   {
    "duration": 29,
    "start_time": "2021-09-05T19:12:27.938Z"
   },
   {
    "duration": 24,
    "start_time": "2021-09-05T19:15:23.126Z"
   },
   {
    "duration": 27,
    "start_time": "2021-09-05T19:16:14.779Z"
   },
   {
    "duration": 24,
    "start_time": "2021-09-05T19:17:08.025Z"
   },
   {
    "duration": 28,
    "start_time": "2021-09-05T19:17:14.215Z"
   },
   {
    "duration": 26,
    "start_time": "2021-09-05T19:18:36.028Z"
   },
   {
    "duration": 25,
    "start_time": "2021-09-05T19:19:13.964Z"
   },
   {
    "duration": 23,
    "start_time": "2021-09-05T19:19:31.343Z"
   },
   {
    "duration": 366,
    "start_time": "2021-09-05T19:19:54.773Z"
   },
   {
    "duration": 26,
    "start_time": "2021-09-05T19:21:57.364Z"
   },
   {
    "duration": 2316,
    "start_time": "2021-09-05T19:22:42.401Z"
   },
   {
    "duration": 40,
    "start_time": "2021-09-05T19:23:00.724Z"
   },
   {
    "duration": 8488,
    "start_time": "2021-09-05T19:23:05.063Z"
   },
   {
    "duration": 364,
    "start_time": "2021-09-05T19:23:22.079Z"
   },
   {
    "duration": 354,
    "start_time": "2021-09-05T19:24:29.510Z"
   },
   {
    "duration": 25,
    "start_time": "2021-09-05T19:24:42.109Z"
   },
   {
    "duration": 28,
    "start_time": "2021-09-05T19:25:17.476Z"
   },
   {
    "duration": 27,
    "start_time": "2021-09-05T19:30:04.371Z"
   },
   {
    "duration": 2357,
    "start_time": "2021-09-05T19:31:17.457Z"
   },
   {
    "duration": 944,
    "start_time": "2021-09-05T19:31:30.223Z"
   },
   {
    "duration": 4462,
    "start_time": "2021-09-05T19:31:35.606Z"
   },
   {
    "duration": 9266,
    "start_time": "2021-09-05T19:31:55.127Z"
   },
   {
    "duration": 1934,
    "start_time": "2021-09-05T19:38:26.257Z"
   },
   {
    "duration": 1120,
    "start_time": "2021-09-05T19:39:13.081Z"
   },
   {
    "duration": 1148,
    "start_time": "2021-09-05T19:40:07.143Z"
   },
   {
    "duration": 248,
    "start_time": "2021-09-05T19:40:08.347Z"
   },
   {
    "duration": 51,
    "start_time": "2021-09-05T19:40:08.736Z"
   },
   {
    "duration": 2514,
    "start_time": "2021-09-05T19:40:09.830Z"
   },
   {
    "duration": 40,
    "start_time": "2021-09-05T19:40:12.347Z"
   },
   {
    "duration": 4261,
    "start_time": "2021-09-05T19:40:12.390Z"
   },
   {
    "duration": 39,
    "start_time": "2021-09-05T19:40:16.654Z"
   },
   {
    "duration": 4423,
    "start_time": "2021-09-05T19:40:16.695Z"
   },
   {
    "duration": 780,
    "start_time": "2021-09-05T19:40:21.122Z"
   },
   {
    "duration": 759,
    "start_time": "2021-09-05T19:40:21.905Z"
   },
   {
    "duration": 369,
    "start_time": "2021-09-05T19:40:22.670Z"
   },
   {
    "duration": 3524,
    "start_time": "2021-09-05T19:40:23.043Z"
   },
   {
    "duration": 639,
    "start_time": "2021-09-05T19:40:26.570Z"
   },
   {
    "duration": 734,
    "start_time": "2021-09-05T19:40:27.212Z"
   },
   {
    "duration": 741,
    "start_time": "2021-09-05T19:40:27.948Z"
   },
   {
    "duration": 303,
    "start_time": "2021-09-05T19:40:28.691Z"
   },
   {
    "duration": 313,
    "start_time": "2021-09-05T19:40:28.997Z"
   },
   {
    "duration": 327,
    "start_time": "2021-09-05T19:40:29.312Z"
   },
   {
    "duration": 296,
    "start_time": "2021-09-05T19:40:29.642Z"
   },
   {
    "duration": 31,
    "start_time": "2021-09-05T19:40:29.942Z"
   },
   {
    "duration": 33,
    "start_time": "2021-09-05T19:40:29.975Z"
   },
   {
    "duration": 557,
    "start_time": "2021-09-05T19:40:30.010Z"
   },
   {
    "duration": 102,
    "start_time": "2021-09-05T19:40:30.569Z"
   },
   {
    "duration": 13,
    "start_time": "2021-09-05T19:40:30.673Z"
   },
   {
    "duration": 8567,
    "start_time": "2021-09-05T19:44:31.310Z"
   },
   {
    "duration": 1137,
    "start_time": "2021-09-05T19:45:14.809Z"
   },
   {
    "duration": 259,
    "start_time": "2021-09-05T19:45:15.949Z"
   },
   {
    "duration": 72,
    "start_time": "2021-09-05T19:45:16.211Z"
   },
   {
    "duration": 2576,
    "start_time": "2021-09-05T19:45:17.022Z"
   },
   {
    "duration": 39,
    "start_time": "2021-09-05T19:45:19.600Z"
   },
   {
    "duration": 4328,
    "start_time": "2021-09-05T19:45:19.643Z"
   },
   {
    "duration": 37,
    "start_time": "2021-09-05T19:45:23.974Z"
   },
   {
    "duration": 4215,
    "start_time": "2021-09-05T19:45:24.013Z"
   },
   {
    "duration": 758,
    "start_time": "2021-09-05T19:45:28.231Z"
   },
   {
    "duration": 743,
    "start_time": "2021-09-05T19:45:28.992Z"
   },
   {
    "duration": 367,
    "start_time": "2021-09-05T19:45:29.739Z"
   },
   {
    "duration": 3546,
    "start_time": "2021-09-05T19:45:30.109Z"
   },
   {
    "duration": 619,
    "start_time": "2021-09-05T19:45:33.658Z"
   },
   {
    "duration": 734,
    "start_time": "2021-09-05T19:45:34.280Z"
   },
   {
    "duration": 653,
    "start_time": "2021-09-05T19:45:35.017Z"
   },
   {
    "duration": 311,
    "start_time": "2021-09-05T19:45:35.672Z"
   },
   {
    "duration": 308,
    "start_time": "2021-09-05T19:45:35.985Z"
   },
   {
    "duration": 342,
    "start_time": "2021-09-05T19:45:36.297Z"
   },
   {
    "duration": 303,
    "start_time": "2021-09-05T19:45:36.641Z"
   },
   {
    "duration": 25,
    "start_time": "2021-09-05T19:45:36.947Z"
   },
   {
    "duration": 31,
    "start_time": "2021-09-05T19:45:36.974Z"
   },
   {
    "duration": 550,
    "start_time": "2021-09-05T19:45:37.007Z"
   },
   {
    "duration": 89,
    "start_time": "2021-09-05T19:45:37.559Z"
   },
   {
    "duration": 8925,
    "start_time": "2021-09-05T19:45:37.667Z"
   },
   {
    "duration": 353,
    "start_time": "2021-09-05T19:46:00.577Z"
   },
   {
    "duration": 381,
    "start_time": "2021-09-05T19:46:26.820Z"
   },
   {
    "duration": 31,
    "start_time": "2021-09-05T19:46:45.422Z"
   },
   {
    "duration": 29,
    "start_time": "2021-09-05T19:46:58.965Z"
   },
   {
    "duration": 27,
    "start_time": "2021-09-05T19:47:06.444Z"
   },
   {
    "duration": 30,
    "start_time": "2021-09-05T19:47:28.677Z"
   },
   {
    "duration": 27,
    "start_time": "2021-09-05T19:47:47.160Z"
   },
   {
    "duration": 13,
    "start_time": "2021-09-05T19:53:29.285Z"
   },
   {
    "duration": 16,
    "start_time": "2021-09-05T19:54:51.610Z"
   },
   {
    "duration": 370,
    "start_time": "2021-09-05T19:58:58.886Z"
   },
   {
    "duration": 1090,
    "start_time": "2021-09-05T19:59:28.310Z"
   },
   {
    "duration": 264,
    "start_time": "2021-09-05T19:59:29.403Z"
   },
   {
    "duration": 51,
    "start_time": "2021-09-05T19:59:29.670Z"
   },
   {
    "duration": 2744,
    "start_time": "2021-09-05T19:59:29.752Z"
   },
   {
    "duration": 33,
    "start_time": "2021-09-05T19:59:32.499Z"
   },
   {
    "duration": 4218,
    "start_time": "2021-09-05T19:59:32.535Z"
   },
   {
    "duration": 43,
    "start_time": "2021-09-05T19:59:36.756Z"
   },
   {
    "duration": 4294,
    "start_time": "2021-09-05T19:59:36.801Z"
   },
   {
    "duration": 757,
    "start_time": "2021-09-05T19:59:41.098Z"
   },
   {
    "duration": 763,
    "start_time": "2021-09-05T19:59:41.858Z"
   },
   {
    "duration": 367,
    "start_time": "2021-09-05T19:59:42.625Z"
   },
   {
    "duration": 3581,
    "start_time": "2021-09-05T19:59:42.995Z"
   },
   {
    "duration": 748,
    "start_time": "2021-09-05T19:59:46.579Z"
   },
   {
    "duration": 780,
    "start_time": "2021-09-05T19:59:47.329Z"
   },
   {
    "duration": 657,
    "start_time": "2021-09-05T19:59:48.112Z"
   },
   {
    "duration": 311,
    "start_time": "2021-09-05T19:59:48.772Z"
   },
   {
    "duration": 421,
    "start_time": "2021-09-05T19:59:49.086Z"
   },
   {
    "duration": 343,
    "start_time": "2021-09-05T19:59:49.510Z"
   },
   {
    "duration": 323,
    "start_time": "2021-09-05T19:59:49.856Z"
   },
   {
    "duration": 15,
    "start_time": "2021-09-05T19:59:50.182Z"
   },
   {
    "duration": 34,
    "start_time": "2021-09-05T19:59:50.199Z"
   },
   {
    "duration": 566,
    "start_time": "2021-09-05T19:59:50.236Z"
   },
   {
    "duration": 101,
    "start_time": "2021-09-05T19:59:50.804Z"
   },
   {
    "duration": 3260,
    "start_time": "2021-09-05T19:59:50.908Z"
   },
   {
    "duration": 18,
    "start_time": "2021-09-05T19:59:54.171Z"
   },
   {
    "duration": 452,
    "start_time": "2021-09-05T20:01:56.040Z"
   },
   {
    "duration": 1316,
    "start_time": "2021-09-05T20:02:11.189Z"
   },
   {
    "duration": 274,
    "start_time": "2021-09-05T20:02:12.508Z"
   },
   {
    "duration": 83,
    "start_time": "2021-09-05T20:02:12.785Z"
   },
   {
    "duration": 3918,
    "start_time": "2021-09-05T20:02:12.871Z"
   },
   {
    "duration": 35,
    "start_time": "2021-09-05T20:02:16.792Z"
   },
   {
    "duration": 4017,
    "start_time": "2021-09-05T20:02:16.830Z"
   },
   {
    "duration": 38,
    "start_time": "2021-09-05T20:02:20.850Z"
   },
   {
    "duration": 4467,
    "start_time": "2021-09-05T20:02:20.892Z"
   },
   {
    "duration": 881,
    "start_time": "2021-09-05T20:02:25.366Z"
   },
   {
    "duration": 845,
    "start_time": "2021-09-05T20:02:26.250Z"
   },
   {
    "duration": 355,
    "start_time": "2021-09-05T20:02:27.098Z"
   },
   {
    "duration": 3654,
    "start_time": "2021-09-05T20:02:27.456Z"
   },
   {
    "duration": 860,
    "start_time": "2021-09-05T20:02:31.114Z"
   },
   {
    "duration": 837,
    "start_time": "2021-09-05T20:02:31.976Z"
   },
   {
    "duration": 656,
    "start_time": "2021-09-05T20:02:32.816Z"
   },
   {
    "duration": 415,
    "start_time": "2021-09-05T20:02:33.474Z"
   },
   {
    "duration": 319,
    "start_time": "2021-09-05T20:02:33.895Z"
   },
   {
    "duration": 516,
    "start_time": "2021-09-05T20:02:34.216Z"
   },
   {
    "duration": 469,
    "start_time": "2021-09-05T20:02:34.735Z"
   },
   {
    "duration": 20,
    "start_time": "2021-09-05T20:02:35.207Z"
   },
   {
    "duration": 67,
    "start_time": "2021-09-05T20:02:35.230Z"
   },
   {
    "duration": 759,
    "start_time": "2021-09-05T20:02:35.299Z"
   },
   {
    "duration": 114,
    "start_time": "2021-09-05T20:02:36.060Z"
   },
   {
    "duration": 412,
    "start_time": "2021-09-05T20:02:36.177Z"
   },
   {
    "duration": 2816,
    "start_time": "2021-09-05T20:02:33.776Z"
   },
   {
    "duration": 2959,
    "start_time": "2021-09-05T20:03:19.163Z"
   },
   {
    "duration": 6397,
    "start_time": "2021-09-05T20:03:22.124Z"
   },
   {
    "duration": 13,
    "start_time": "2021-09-05T20:05:57.297Z"
   },
   {
    "duration": 20,
    "start_time": "2021-09-05T20:06:20.536Z"
   },
   {
    "duration": 1393,
    "start_time": "2021-09-05T20:19:23.388Z"
   },
   {
    "duration": 214,
    "start_time": "2021-09-05T20:19:25.902Z"
   },
   {
    "duration": 48,
    "start_time": "2021-09-05T20:19:26.330Z"
   },
   {
    "duration": 2577,
    "start_time": "2021-09-05T20:19:27.487Z"
   },
   {
    "duration": 37,
    "start_time": "2021-09-05T20:19:30.067Z"
   },
   {
    "duration": 4445,
    "start_time": "2021-09-05T20:19:30.108Z"
   },
   {
    "duration": 55,
    "start_time": "2021-09-05T20:19:34.556Z"
   },
   {
    "duration": 4271,
    "start_time": "2021-09-05T20:19:34.614Z"
   },
   {
    "duration": 761,
    "start_time": "2021-09-05T20:19:38.888Z"
   },
   {
    "duration": 779,
    "start_time": "2021-09-05T20:19:39.652Z"
   },
   {
    "duration": 382,
    "start_time": "2021-09-05T20:19:40.435Z"
   },
   {
    "duration": 3553,
    "start_time": "2021-09-05T20:19:40.820Z"
   },
   {
    "duration": 629,
    "start_time": "2021-09-05T20:19:44.375Z"
   },
   {
    "duration": 1171,
    "start_time": "2021-09-05T20:19:45.007Z"
   },
   {
    "duration": 1141,
    "start_time": "2021-09-05T20:19:46.181Z"
   },
   {
    "duration": 464,
    "start_time": "2021-09-05T20:19:47.325Z"
   },
   {
    "duration": 484,
    "start_time": "2021-09-05T20:19:47.792Z"
   },
   {
    "duration": 519,
    "start_time": "2021-09-05T20:19:48.279Z"
   },
   {
    "duration": 315,
    "start_time": "2021-09-05T20:19:48.800Z"
   },
   {
    "duration": 17,
    "start_time": "2021-09-05T20:19:49.117Z"
   },
   {
    "duration": 57,
    "start_time": "2021-09-05T20:19:49.136Z"
   },
   {
    "duration": 554,
    "start_time": "2021-09-05T20:19:49.196Z"
   },
   {
    "duration": 95,
    "start_time": "2021-09-05T20:19:49.753Z"
   },
   {
    "duration": 13,
    "start_time": "2021-09-05T20:19:49.866Z"
   },
   {
    "duration": 2874,
    "start_time": "2021-09-05T20:19:49.882Z"
   },
   {
    "duration": 20,
    "start_time": "2021-09-05T20:19:52.761Z"
   },
   {
    "duration": 5963,
    "start_time": "2021-09-05T20:19:52.784Z"
   },
   {
    "duration": 1115,
    "start_time": "2021-09-05T20:49:39.080Z"
   },
   {
    "duration": 210,
    "start_time": "2021-09-05T20:49:41.383Z"
   },
   {
    "duration": 175,
    "start_time": "2021-09-05T20:54:39.207Z"
   },
   {
    "duration": 1180,
    "start_time": "2021-09-05T20:54:54.395Z"
   },
   {
    "duration": 242,
    "start_time": "2021-09-05T20:54:55.993Z"
   },
   {
    "duration": 1380,
    "start_time": "2021-09-05T21:08:13.197Z"
   },
   {
    "duration": 239,
    "start_time": "2021-09-05T21:08:14.757Z"
   },
   {
    "duration": 1161,
    "start_time": "2021-09-05T21:26:42.128Z"
   },
   {
    "duration": 228,
    "start_time": "2021-09-05T21:26:45.108Z"
   },
   {
    "duration": 50,
    "start_time": "2021-09-05T21:26:47.108Z"
   },
   {
    "duration": 46,
    "start_time": "2021-09-05T21:27:53.319Z"
   },
   {
    "duration": 45,
    "start_time": "2021-09-05T21:28:44.195Z"
   },
   {
    "duration": 2412,
    "start_time": "2021-09-05T21:29:04.720Z"
   },
   {
    "duration": 34,
    "start_time": "2021-09-05T21:29:09.124Z"
   },
   {
    "duration": 2446,
    "start_time": "2021-09-05T21:29:52.806Z"
   },
   {
    "duration": 45,
    "start_time": "2021-09-05T21:29:55.256Z"
   },
   {
    "duration": 4163,
    "start_time": "2021-09-05T21:29:55.304Z"
   },
   {
    "duration": 37,
    "start_time": "2021-09-05T21:29:59.470Z"
   },
   {
    "duration": 4177,
    "start_time": "2021-09-05T21:29:59.509Z"
   },
   {
    "duration": 767,
    "start_time": "2021-09-05T21:30:03.689Z"
   },
   {
    "duration": 745,
    "start_time": "2021-09-05T21:30:04.459Z"
   },
   {
    "duration": 362,
    "start_time": "2021-09-05T21:30:05.208Z"
   },
   {
    "duration": 3627,
    "start_time": "2021-09-05T21:30:05.573Z"
   },
   {
    "duration": 651,
    "start_time": "2021-09-05T21:30:09.203Z"
   },
   {
    "duration": 640,
    "start_time": "2021-09-05T21:30:09.856Z"
   },
   {
    "duration": 661,
    "start_time": "2021-09-05T21:30:10.499Z"
   },
   {
    "duration": 411,
    "start_time": "2021-09-05T21:30:11.166Z"
   },
   {
    "duration": 317,
    "start_time": "2021-09-05T21:30:11.580Z"
   },
   {
    "duration": 340,
    "start_time": "2021-09-05T21:30:11.900Z"
   },
   {
    "duration": 312,
    "start_time": "2021-09-05T21:30:12.242Z"
   },
   {
    "duration": 24,
    "start_time": "2021-09-05T21:30:12.557Z"
   },
   {
    "duration": 36,
    "start_time": "2021-09-05T21:30:12.583Z"
   },
   {
    "duration": 551,
    "start_time": "2021-09-05T21:30:12.622Z"
   },
   {
    "duration": 105,
    "start_time": "2021-09-05T21:30:13.176Z"
   },
   {
    "duration": 12,
    "start_time": "2021-09-05T21:30:13.284Z"
   },
   {
    "duration": 3180,
    "start_time": "2021-09-05T21:30:13.298Z"
   },
   {
    "duration": 17,
    "start_time": "2021-09-05T21:30:16.483Z"
   },
   {
    "duration": 7343,
    "start_time": "2021-09-05T21:30:16.503Z"
   },
   {
    "duration": 427,
    "start_time": "2021-09-05T21:43:53.728Z"
   },
   {
    "duration": 345,
    "start_time": "2021-09-05T21:43:54.605Z"
   },
   {
    "duration": 1211,
    "start_time": "2021-09-05T21:44:10.232Z"
   },
   {
    "duration": 207,
    "start_time": "2021-09-05T21:44:14.293Z"
   },
   {
    "duration": 46,
    "start_time": "2021-09-05T21:44:15.484Z"
   },
   {
    "duration": 2430,
    "start_time": "2021-09-05T21:44:17.475Z"
   },
   {
    "duration": 34,
    "start_time": "2021-09-05T21:44:21.120Z"
   },
   {
    "duration": 4134,
    "start_time": "2021-09-05T21:44:21.748Z"
   },
   {
    "duration": 34,
    "start_time": "2021-09-05T21:44:25.885Z"
   },
   {
    "duration": 4075,
    "start_time": "2021-09-05T21:44:25.922Z"
   },
   {
    "duration": 797,
    "start_time": "2021-09-05T21:44:30.000Z"
   },
   {
    "duration": 728,
    "start_time": "2021-09-05T21:44:30.799Z"
   },
   {
    "duration": 394,
    "start_time": "2021-09-05T21:44:31.529Z"
   },
   {
    "duration": 267,
    "start_time": "2021-09-05T21:44:31.927Z"
   },
   {
    "duration": 3464,
    "start_time": "2021-09-05T21:44:32.196Z"
   },
   {
    "duration": 731,
    "start_time": "2021-09-05T21:44:35.663Z"
   },
   {
    "duration": 634,
    "start_time": "2021-09-05T21:44:36.396Z"
   },
   {
    "duration": 636,
    "start_time": "2021-09-05T21:44:37.034Z"
   },
   {
    "duration": 306,
    "start_time": "2021-09-05T21:44:37.673Z"
   },
   {
    "duration": 309,
    "start_time": "2021-09-05T21:44:37.982Z"
   },
   {
    "duration": 338,
    "start_time": "2021-09-05T21:44:38.294Z"
   },
   {
    "duration": 293,
    "start_time": "2021-09-05T21:44:38.634Z"
   },
   {
    "duration": 38,
    "start_time": "2021-09-05T21:44:38.930Z"
   },
   {
    "duration": 34,
    "start_time": "2021-09-05T21:44:38.970Z"
   },
   {
    "duration": 631,
    "start_time": "2021-09-05T21:44:39.007Z"
   },
   {
    "duration": 97,
    "start_time": "2021-09-05T21:44:39.641Z"
   },
   {
    "duration": 29,
    "start_time": "2021-09-05T21:44:39.741Z"
   },
   {
    "duration": 2911,
    "start_time": "2021-09-05T21:44:39.772Z"
   },
   {
    "duration": 17,
    "start_time": "2021-09-05T21:44:42.685Z"
   },
   {
    "duration": 6180,
    "start_time": "2021-09-05T21:44:42.705Z"
   },
   {
    "duration": 299,
    "start_time": "2021-09-05T21:45:31.633Z"
   },
   {
    "duration": 3488,
    "start_time": "2021-09-05T21:46:08.479Z"
   },
   {
    "duration": 615,
    "start_time": "2021-09-05T21:46:15.028Z"
   },
   {
    "duration": 819,
    "start_time": "2021-09-05T21:46:15.964Z"
   },
   {
    "duration": 640,
    "start_time": "2021-09-05T21:46:16.878Z"
   },
   {
    "duration": 310,
    "start_time": "2021-09-05T21:46:17.521Z"
   },
   {
    "duration": 318,
    "start_time": "2021-09-05T21:46:17.833Z"
   },
   {
    "duration": 340,
    "start_time": "2021-09-05T21:46:18.154Z"
   },
   {
    "duration": 303,
    "start_time": "2021-09-05T21:46:18.496Z"
   },
   {
    "duration": 14,
    "start_time": "2021-09-05T21:46:18.801Z"
   },
   {
    "duration": 67,
    "start_time": "2021-09-05T21:46:18.818Z"
   },
   {
    "duration": 501,
    "start_time": "2021-09-05T21:46:18.888Z"
   },
   {
    "duration": 105,
    "start_time": "2021-09-05T21:46:19.392Z"
   },
   {
    "duration": 12,
    "start_time": "2021-09-05T21:46:19.499Z"
   },
   {
    "duration": 2688,
    "start_time": "2021-09-05T21:46:19.513Z"
   },
   {
    "duration": 20,
    "start_time": "2021-09-05T21:46:22.205Z"
   },
   {
    "duration": 6479,
    "start_time": "2021-09-05T21:46:22.229Z"
   },
   {
    "duration": 284,
    "start_time": "2021-09-05T21:53:27.589Z"
   },
   {
    "duration": 15,
    "start_time": "2021-09-05T21:56:11.503Z"
   },
   {
    "duration": 41,
    "start_time": "2021-09-05T21:56:12.220Z"
   },
   {
    "duration": 520,
    "start_time": "2021-09-05T21:56:13.003Z"
   },
   {
    "duration": 88,
    "start_time": "2021-09-05T21:56:13.741Z"
   },
   {
    "duration": 13,
    "start_time": "2021-09-05T21:56:20.477Z"
   },
   {
    "duration": 2773,
    "start_time": "2021-09-05T21:56:20.898Z"
   },
   {
    "duration": 19,
    "start_time": "2021-09-05T21:56:23.673Z"
   },
   {
    "duration": 7748,
    "start_time": "2021-09-05T21:56:23.695Z"
   },
   {
    "duration": 157,
    "start_time": "2021-09-06T11:47:26.603Z"
   },
   {
    "duration": 223,
    "start_time": "2021-09-06T11:48:50.704Z"
   },
   {
    "duration": 164,
    "start_time": "2021-09-06T11:54:53.272Z"
   },
   {
    "duration": 886,
    "start_time": "2021-09-06T12:15:16.499Z"
   },
   {
    "duration": 1311,
    "start_time": "2021-09-06T12:15:18.865Z"
   },
   {
    "duration": 236,
    "start_time": "2021-09-06T12:15:20.178Z"
   },
   {
    "duration": 72,
    "start_time": "2021-09-06T12:15:20.417Z"
   },
   {
    "duration": 2847,
    "start_time": "2021-09-06T12:15:20.492Z"
   },
   {
    "duration": 784,
    "start_time": "2021-09-06T12:15:23.341Z"
   },
   {
    "duration": 22910,
    "start_time": "2021-09-06T12:15:01.218Z"
   },
   {
    "duration": 22910,
    "start_time": "2021-09-06T12:15:01.220Z"
   },
   {
    "duration": 22903,
    "start_time": "2021-09-06T12:15:01.228Z"
   },
   {
    "duration": 22903,
    "start_time": "2021-09-06T12:15:01.230Z"
   },
   {
    "duration": 22903,
    "start_time": "2021-09-06T12:15:01.231Z"
   },
   {
    "duration": 22903,
    "start_time": "2021-09-06T12:15:01.233Z"
   },
   {
    "duration": 22900,
    "start_time": "2021-09-06T12:15:01.237Z"
   },
   {
    "duration": 22896,
    "start_time": "2021-09-06T12:15:01.243Z"
   },
   {
    "duration": 22895,
    "start_time": "2021-09-06T12:15:01.245Z"
   },
   {
    "duration": 22895,
    "start_time": "2021-09-06T12:15:01.247Z"
   },
   {
    "duration": 22895,
    "start_time": "2021-09-06T12:15:01.248Z"
   },
   {
    "duration": 22895,
    "start_time": "2021-09-06T12:15:01.250Z"
   },
   {
    "duration": 22894,
    "start_time": "2021-09-06T12:15:01.252Z"
   },
   {
    "duration": 22894,
    "start_time": "2021-09-06T12:15:01.254Z"
   },
   {
    "duration": 22893,
    "start_time": "2021-09-06T12:15:01.256Z"
   },
   {
    "duration": 22893,
    "start_time": "2021-09-06T12:15:01.258Z"
   },
   {
    "duration": 22892,
    "start_time": "2021-09-06T12:15:01.260Z"
   },
   {
    "duration": 22893,
    "start_time": "2021-09-06T12:15:01.261Z"
   },
   {
    "duration": 22893,
    "start_time": "2021-09-06T12:15:01.263Z"
   },
   {
    "duration": 22883,
    "start_time": "2021-09-06T12:15:01.274Z"
   },
   {
    "duration": 22880,
    "start_time": "2021-09-06T12:15:01.278Z"
   },
   {
    "duration": 22875,
    "start_time": "2021-09-06T12:15:01.285Z"
   },
   {
    "duration": 22873,
    "start_time": "2021-09-06T12:15:01.288Z"
   },
   {
    "duration": 6,
    "start_time": "2021-09-06T12:15:35.187Z"
   },
   {
    "duration": 5,
    "start_time": "2021-09-06T23:04:27.334Z"
   },
   {
    "duration": 36,
    "start_time": "2021-09-06T23:04:48.743Z"
   },
   {
    "duration": 42,
    "start_time": "2021-09-06T23:04:56.628Z"
   },
   {
    "duration": 6,
    "start_time": "2021-09-06T23:05:42.140Z"
   },
   {
    "duration": 12,
    "start_time": "2021-09-06T23:05:49.421Z"
   },
   {
    "duration": 1070,
    "start_time": "2021-09-06T23:06:21.056Z"
   },
   {
    "duration": 13,
    "start_time": "2021-09-06T23:06:24.106Z"
   },
   {
    "duration": 6,
    "start_time": "2021-09-06T23:07:43.784Z"
   },
   {
    "duration": 6,
    "start_time": "2021-09-06T23:08:01.491Z"
   },
   {
    "duration": 1059,
    "start_time": "2021-09-06T23:14:57.476Z"
   },
   {
    "duration": 16,
    "start_time": "2021-09-06T23:14:59.166Z"
   },
   {
    "duration": 16,
    "start_time": "2021-09-06T23:15:50.005Z"
   },
   {
    "duration": 14,
    "start_time": "2021-09-06T23:15:54.021Z"
   },
   {
    "duration": 240,
    "start_time": "2021-09-06T23:16:02.893Z"
   },
   {
    "duration": 14,
    "start_time": "2021-09-06T23:16:05.711Z"
   },
   {
    "duration": 13,
    "start_time": "2021-09-06T23:16:35.164Z"
   },
   {
    "duration": 23,
    "start_time": "2021-09-06T23:18:06.440Z"
   },
   {
    "duration": 1116,
    "start_time": "2021-09-06T23:20:07.843Z"
   },
   {
    "duration": 117,
    "start_time": "2021-09-06T23:20:08.966Z"
   },
   {
    "duration": 1060,
    "start_time": "2021-09-06T23:20:37.305Z"
   },
   {
    "duration": 48,
    "start_time": "2021-09-06T23:20:39.227Z"
   },
   {
    "duration": 1056,
    "start_time": "2021-09-06T23:22:05.112Z"
   },
   {
    "duration": 62,
    "start_time": "2021-09-06T23:22:06.568Z"
   },
   {
    "duration": 484,
    "start_time": "2021-09-06T23:32:18.262Z"
   },
   {
    "duration": 1033,
    "start_time": "2021-09-06T23:44:58.892Z"
   },
   {
    "duration": 73,
    "start_time": "2021-09-06T23:45:00.400Z"
   },
   {
    "duration": 507,
    "start_time": "2021-09-06T23:45:01.158Z"
   },
   {
    "duration": 48,
    "start_time": "2021-09-06T23:45:04.642Z"
   },
   {
    "duration": 335,
    "start_time": "2021-09-06T23:54:26.934Z"
   },
   {
    "duration": 1043,
    "start_time": "2021-09-06T23:54:38.665Z"
   },
   {
    "duration": 62,
    "start_time": "2021-09-06T23:54:41.441Z"
   },
   {
    "duration": 439,
    "start_time": "2021-09-06T23:54:42.887Z"
   },
   {
    "duration": 45,
    "start_time": "2021-09-06T23:54:45.740Z"
   },
   {
    "duration": 8,
    "start_time": "2021-09-06T23:54:47.680Z"
   },
   {
    "duration": 306,
    "start_time": "2021-09-06T23:54:48.272Z"
   },
   {
    "duration": 1120,
    "start_time": "2021-09-06T23:57:12.924Z"
   },
   {
    "duration": 92,
    "start_time": "2021-09-06T23:57:14.064Z"
   },
   {
    "duration": 554,
    "start_time": "2021-09-06T23:57:14.296Z"
   },
   {
    "duration": 52,
    "start_time": "2021-09-06T23:57:15.286Z"
   },
   {
    "duration": 8,
    "start_time": "2021-09-06T23:57:16.061Z"
   },
   {
    "duration": 22,
    "start_time": "2021-09-06T23:57:16.462Z"
   },
   {
    "duration": 11,
    "start_time": "2021-09-06T23:57:16.900Z"
   },
   {
    "duration": 582,
    "start_time": "2021-09-06T23:57:17.320Z"
   },
   {
    "duration": 625,
    "start_time": "2021-09-06T23:57:17.905Z"
   },
   {
    "duration": 596,
    "start_time": "2021-09-06T23:57:18.533Z"
   },
   {
    "duration": 319,
    "start_time": "2021-09-06T23:57:19.132Z"
   },
   {
    "duration": 6,
    "start_time": "2021-09-06T23:57:19.798Z"
   },
   {
    "duration": 4,
    "start_time": "2021-09-06T23:58:55.420Z"
   },
   {
    "duration": 5,
    "start_time": "2021-09-06T23:59:01.851Z"
   },
   {
    "duration": 1191,
    "start_time": "2021-09-06T23:59:16.543Z"
   },
   {
    "duration": 81,
    "start_time": "2021-09-06T23:59:17.737Z"
   },
   {
    "duration": 618,
    "start_time": "2021-09-06T23:59:17.821Z"
   },
   {
    "duration": 47,
    "start_time": "2021-09-06T23:59:19.262Z"
   },
   {
    "duration": 8,
    "start_time": "2021-09-06T23:59:20.441Z"
   },
   {
    "duration": 21,
    "start_time": "2021-09-06T23:59:20.925Z"
   },
   {
    "duration": 11,
    "start_time": "2021-09-06T23:59:21.595Z"
   },
   {
    "duration": 581,
    "start_time": "2021-09-06T23:59:22.097Z"
   },
   {
    "duration": 619,
    "start_time": "2021-09-06T23:59:22.681Z"
   },
   {
    "duration": 581,
    "start_time": "2021-09-06T23:59:23.302Z"
   },
   {
    "duration": 6,
    "start_time": "2021-09-06T23:59:23.886Z"
   },
   {
    "duration": 7,
    "start_time": "2021-09-06T23:59:24.235Z"
   },
   {
    "duration": 1079,
    "start_time": "2021-09-07T00:02:49.050Z"
   },
   {
    "duration": 70,
    "start_time": "2021-09-07T00:02:50.416Z"
   },
   {
    "duration": 514,
    "start_time": "2021-09-07T00:02:50.715Z"
   },
   {
    "duration": 51,
    "start_time": "2021-09-07T00:02:52.734Z"
   },
   {
    "duration": 8,
    "start_time": "2021-09-07T00:02:54.724Z"
   },
   {
    "duration": 310,
    "start_time": "2021-09-07T00:02:55.645Z"
   },
   {
    "duration": 293,
    "start_time": "2021-09-07T00:03:30.794Z"
   },
   {
    "duration": 21,
    "start_time": "2021-09-07T00:03:52.910Z"
   },
   {
    "duration": 37,
    "start_time": "2021-09-07T00:04:45.011Z"
   },
   {
    "duration": 4324,
    "start_time": "2021-09-07T00:04:46.805Z"
   },
   {
    "duration": 4136,
    "start_time": "2021-09-07T00:05:12.033Z"
   },
   {
    "duration": 4145,
    "start_time": "2021-09-07T00:05:38.293Z"
   },
   {
    "duration": 4005,
    "start_time": "2021-09-07T00:05:57.157Z"
   },
   {
    "duration": 4137,
    "start_time": "2021-09-07T00:08:12.021Z"
   },
   {
    "duration": 4080,
    "start_time": "2021-09-07T00:08:45.690Z"
   },
   {
    "duration": 500,
    "start_time": "2021-09-07T00:08:59.027Z"
   },
   {
    "duration": 4020,
    "start_time": "2021-09-07T00:10:06.015Z"
   },
   {
    "duration": 1083,
    "start_time": "2021-09-07T00:12:27.852Z"
   },
   {
    "duration": 76,
    "start_time": "2021-09-07T00:12:28.937Z"
   },
   {
    "duration": 577,
    "start_time": "2021-09-07T00:12:29.016Z"
   },
   {
    "duration": 48,
    "start_time": "2021-09-07T00:12:30.173Z"
   },
   {
    "duration": 7,
    "start_time": "2021-09-07T00:12:30.691Z"
   },
   {
    "duration": 24,
    "start_time": "2021-09-07T00:12:30.912Z"
   },
   {
    "duration": 11,
    "start_time": "2021-09-07T00:12:31.138Z"
   },
   {
    "duration": 631,
    "start_time": "2021-09-07T00:12:31.550Z"
   },
   {
    "duration": 674,
    "start_time": "2021-09-07T00:12:32.185Z"
   },
   {
    "duration": 578,
    "start_time": "2021-09-07T00:12:32.862Z"
   },
   {
    "duration": 12,
    "start_time": "2021-09-07T00:12:33.443Z"
   },
   {
    "duration": 19,
    "start_time": "2021-09-07T00:12:33.458Z"
   },
   {
    "duration": 35,
    "start_time": "2021-09-07T00:12:35.051Z"
   },
   {
    "duration": 3505,
    "start_time": "2021-09-07T00:12:36.540Z"
   },
   {
    "duration": 3382,
    "start_time": "2021-09-07T00:12:57.309Z"
   },
   {
    "duration": 33,
    "start_time": "2021-09-07T00:13:20.285Z"
   },
   {
    "duration": 21,
    "start_time": "2021-09-07T00:13:35.088Z"
   },
   {
    "duration": 18,
    "start_time": "2021-09-07T00:13:43.029Z"
   },
   {
    "duration": 3970,
    "start_time": "2021-09-07T00:13:45.755Z"
   },
   {
    "duration": 719,
    "start_time": "2021-09-07T00:13:59.812Z"
   },
   {
    "duration": 840,
    "start_time": "2021-09-07T00:14:00.534Z"
   },
   {
    "duration": 337,
    "start_time": "2021-09-07T00:14:05.650Z"
   },
   {
    "duration": 3912,
    "start_time": "2021-09-07T00:14:30.578Z"
   },
   {
    "duration": 4092,
    "start_time": "2021-09-07T00:15:11.707Z"
   },
   {
    "duration": 89,
    "start_time": "2021-09-07T00:16:30.731Z"
   },
   {
    "duration": 3867,
    "start_time": "2021-09-07T00:18:18.107Z"
   },
   {
    "duration": 17,
    "start_time": "2021-09-07T00:18:36.831Z"
   },
   {
    "duration": 4165,
    "start_time": "2021-09-07T00:18:38.293Z"
   },
   {
    "duration": 827,
    "start_time": "2021-09-07T00:19:15.309Z"
   },
   {
    "duration": 720,
    "start_time": "2021-09-07T00:19:56.852Z"
   },
   {
    "duration": 701,
    "start_time": "2021-09-07T00:20:08.492Z"
   },
   {
    "duration": 1132,
    "start_time": "2021-09-07T00:21:09.937Z"
   },
   {
    "duration": 63,
    "start_time": "2021-09-07T00:21:11.811Z"
   },
   {
    "duration": 514,
    "start_time": "2021-09-07T00:21:12.158Z"
   },
   {
    "duration": 47,
    "start_time": "2021-09-07T00:21:13.809Z"
   },
   {
    "duration": 8,
    "start_time": "2021-09-07T00:21:14.478Z"
   },
   {
    "duration": 22,
    "start_time": "2021-09-07T00:21:14.762Z"
   },
   {
    "duration": 11,
    "start_time": "2021-09-07T00:21:15.072Z"
   },
   {
    "duration": 560,
    "start_time": "2021-09-07T00:21:15.405Z"
   },
   {
    "duration": 614,
    "start_time": "2021-09-07T00:21:15.967Z"
   },
   {
    "duration": 558,
    "start_time": "2021-09-07T00:21:16.583Z"
   },
   {
    "duration": 14,
    "start_time": "2021-09-07T00:21:17.144Z"
   },
   {
    "duration": 17,
    "start_time": "2021-09-07T00:21:17.160Z"
   },
   {
    "duration": 34,
    "start_time": "2021-09-07T00:21:18.877Z"
   },
   {
    "duration": 4000,
    "start_time": "2021-09-07T00:21:20.401Z"
   },
   {
    "duration": 24,
    "start_time": "2021-09-07T00:21:25.277Z"
   },
   {
    "duration": 4235,
    "start_time": "2021-09-07T00:21:29.425Z"
   },
   {
    "duration": 4479,
    "start_time": "2021-09-07T00:21:33.664Z"
   },
   {
    "duration": 353,
    "start_time": "2021-09-07T00:22:18.023Z"
   },
   {
    "duration": 251,
    "start_time": "2021-09-07T00:22:22.876Z"
   },
   {
    "duration": 3682,
    "start_time": "2021-09-07T00:22:23.801Z"
   },
   {
    "duration": 609,
    "start_time": "2021-09-07T00:24:21.583Z"
   },
   {
    "duration": 750,
    "start_time": "2021-09-07T00:24:22.195Z"
   },
   {
    "duration": 611,
    "start_time": "2021-09-07T00:24:22.955Z"
   },
   {
    "duration": 307,
    "start_time": "2021-09-07T00:24:23.568Z"
   },
   {
    "duration": 327,
    "start_time": "2021-09-07T00:24:23.878Z"
   },
   {
    "duration": 304,
    "start_time": "2021-09-07T00:24:24.207Z"
   },
   {
    "duration": 15,
    "start_time": "2021-09-07T00:24:24.515Z"
   },
   {
    "duration": 32,
    "start_time": "2021-09-07T00:24:24.556Z"
   },
   {
    "duration": 550,
    "start_time": "2021-09-07T00:24:24.590Z"
   },
   {
    "duration": 114,
    "start_time": "2021-09-07T00:24:25.142Z"
   },
   {
    "duration": 13,
    "start_time": "2021-09-07T00:24:25.259Z"
   },
   {
    "duration": 2657,
    "start_time": "2021-09-07T00:24:25.275Z"
   },
   {
    "duration": 28,
    "start_time": "2021-09-07T00:24:27.935Z"
   },
   {
    "duration": 5559,
    "start_time": "2021-09-07T00:24:27.966Z"
   },
   {
    "duration": 285,
    "start_time": "2021-09-07T00:27:05.971Z"
   },
   {
    "duration": 274,
    "start_time": "2021-09-07T00:27:12.331Z"
   },
   {
    "duration": 267,
    "start_time": "2021-09-07T00:28:45.640Z"
   },
   {
    "duration": 340,
    "start_time": "2021-09-07T00:30:12.884Z"
   },
   {
    "duration": 352,
    "start_time": "2021-09-07T00:30:18.441Z"
   },
   {
    "duration": 3496,
    "start_time": "2021-09-07T00:30:26.938Z"
   },
   {
    "duration": 294,
    "start_time": "2021-09-07T00:31:51.928Z"
   },
   {
    "duration": 601,
    "start_time": "2021-09-07T00:32:13.697Z"
   },
   {
    "duration": 1053,
    "start_time": "2021-09-07T00:32:26.275Z"
   },
   {
    "duration": 88,
    "start_time": "2021-09-07T00:32:27.330Z"
   },
   {
    "duration": 518,
    "start_time": "2021-09-07T00:32:27.420Z"
   },
   {
    "duration": 45,
    "start_time": "2021-09-07T00:32:28.028Z"
   },
   {
    "duration": 8,
    "start_time": "2021-09-07T00:32:28.196Z"
   },
   {
    "duration": 21,
    "start_time": "2021-09-07T00:32:28.281Z"
   },
   {
    "duration": 10,
    "start_time": "2021-09-07T00:32:28.353Z"
   },
   {
    "duration": 561,
    "start_time": "2021-09-07T00:32:28.435Z"
   },
   {
    "duration": 620,
    "start_time": "2021-09-07T00:32:28.999Z"
   },
   {
    "duration": 566,
    "start_time": "2021-09-07T00:32:29.622Z"
   },
   {
    "duration": 6,
    "start_time": "2021-09-07T00:32:30.191Z"
   },
   {
    "duration": 15,
    "start_time": "2021-09-07T00:32:30.199Z"
   },
   {
    "duration": 62,
    "start_time": "2021-09-07T00:32:30.216Z"
   },
   {
    "duration": 4070,
    "start_time": "2021-09-07T00:32:30.280Z"
   },
   {
    "duration": 20,
    "start_time": "2021-09-07T00:32:34.357Z"
   },
   {
    "duration": 722,
    "start_time": "2021-09-07T00:32:34.379Z"
   },
   {
    "duration": 4215,
    "start_time": "2021-09-07T00:32:35.103Z"
   },
   {
    "duration": 365,
    "start_time": "2021-09-07T00:32:39.320Z"
   },
   {
    "duration": 263,
    "start_time": "2021-09-07T00:32:39.688Z"
   },
   {
    "duration": 3343,
    "start_time": "2021-09-07T00:32:39.954Z"
   },
   {
    "duration": 612,
    "start_time": "2021-09-07T00:32:43.300Z"
   },
   {
    "duration": 722,
    "start_time": "2021-09-07T00:32:43.914Z"
   },
   {
    "duration": 628,
    "start_time": "2021-09-07T00:32:44.638Z"
   },
   {
    "duration": 296,
    "start_time": "2021-09-07T00:32:45.269Z"
   },
   {
    "duration": 329,
    "start_time": "2021-09-07T00:32:45.568Z"
   },
   {
    "duration": 295,
    "start_time": "2021-09-07T00:32:45.900Z"
   },
   {
    "duration": 332,
    "start_time": "2021-09-07T00:33:24.675Z"
   },
   {
    "duration": 586,
    "start_time": "2021-09-07T00:33:49.024Z"
   },
   {
    "duration": 307,
    "start_time": "2021-09-07T00:34:59.601Z"
   },
   {
    "duration": 609,
    "start_time": "2021-09-07T00:36:03.354Z"
   },
   {
    "duration": 3431,
    "start_time": "2021-09-07T00:36:54.719Z"
   },
   {
    "duration": 575,
    "start_time": "2021-09-07T00:37:18.600Z"
   },
   {
    "duration": 1386,
    "start_time": "2021-09-07T00:38:41.696Z"
   },
   {
    "duration": 1198,
    "start_time": "2021-09-07T00:39:19.475Z"
   },
   {
    "duration": 1182,
    "start_time": "2021-09-07T00:39:33.097Z"
   },
   {
    "duration": 560,
    "start_time": "2021-09-07T00:39:54.312Z"
   },
   {
    "duration": 580,
    "start_time": "2021-09-07T00:40:02.337Z"
   },
   {
    "duration": 286,
    "start_time": "2021-09-07T00:40:16.772Z"
   },
   {
    "duration": 1069,
    "start_time": "2021-09-07T00:41:43.438Z"
   },
   {
    "duration": 97,
    "start_time": "2021-09-07T00:41:44.509Z"
   },
   {
    "duration": 533,
    "start_time": "2021-09-07T00:41:44.609Z"
   },
   {
    "duration": 4163,
    "start_time": "2021-09-07T00:41:40.982Z"
   },
   {
    "duration": 4161,
    "start_time": "2021-09-07T00:41:40.985Z"
   },
   {
    "duration": 4160,
    "start_time": "2021-09-07T00:41:40.988Z"
   },
   {
    "duration": 4160,
    "start_time": "2021-09-07T00:41:40.990Z"
   },
   {
    "duration": 4158,
    "start_time": "2021-09-07T00:41:40.993Z"
   },
   {
    "duration": 537,
    "start_time": "2021-09-07T00:41:45.193Z"
   },
   {
    "duration": 598,
    "start_time": "2021-09-07T00:41:45.733Z"
   },
   {
    "duration": 22,
    "start_time": "2021-09-07T00:41:46.334Z"
   },
   {
    "duration": 5,
    "start_time": "2021-09-07T00:41:46.359Z"
   },
   {
    "duration": 35,
    "start_time": "2021-09-07T00:41:46.367Z"
   },
   {
    "duration": 4078,
    "start_time": "2021-09-07T00:41:46.405Z"
   },
   {
    "duration": 19,
    "start_time": "2021-09-07T00:41:50.486Z"
   },
   {
    "duration": 738,
    "start_time": "2021-09-07T00:41:50.508Z"
   },
   {
    "duration": 4140,
    "start_time": "2021-09-07T00:41:51.256Z"
   },
   {
    "duration": 372,
    "start_time": "2021-09-07T00:41:55.399Z"
   },
   {
    "duration": 253,
    "start_time": "2021-09-07T00:41:55.774Z"
   },
   {
    "duration": 4228,
    "start_time": "2021-09-07T00:41:51.803Z"
   },
   {
    "duration": 4227,
    "start_time": "2021-09-07T00:41:51.807Z"
   },
   {
    "duration": 4227,
    "start_time": "2021-09-07T00:41:51.809Z"
   },
   {
    "duration": 4226,
    "start_time": "2021-09-07T00:41:51.812Z"
   },
   {
    "duration": 4225,
    "start_time": "2021-09-07T00:41:51.815Z"
   },
   {
    "duration": 4225,
    "start_time": "2021-09-07T00:41:51.818Z"
   },
   {
    "duration": 4225,
    "start_time": "2021-09-07T00:41:51.820Z"
   },
   {
    "duration": 4213,
    "start_time": "2021-09-07T00:41:51.834Z"
   },
   {
    "duration": 289,
    "start_time": "2021-09-07T00:43:43.316Z"
   },
   {
    "duration": 403,
    "start_time": "2021-09-07T00:44:51.054Z"
   },
   {
    "duration": 336,
    "start_time": "2021-09-07T00:46:23.895Z"
   },
   {
    "duration": 371,
    "start_time": "2021-09-07T00:47:21.432Z"
   },
   {
    "duration": 1047,
    "start_time": "2021-09-07T00:47:42.854Z"
   },
   {
    "duration": 60,
    "start_time": "2021-09-07T00:47:44.426Z"
   },
   {
    "duration": 473,
    "start_time": "2021-09-07T00:47:44.963Z"
   },
   {
    "duration": 53,
    "start_time": "2021-09-07T00:47:46.694Z"
   },
   {
    "duration": 9,
    "start_time": "2021-09-07T00:47:47.470Z"
   },
   {
    "duration": 21,
    "start_time": "2021-09-07T00:47:48.062Z"
   },
   {
    "duration": 11,
    "start_time": "2021-09-07T00:47:48.478Z"
   },
   {
    "duration": 588,
    "start_time": "2021-09-07T00:47:48.859Z"
   },
   {
    "duration": 617,
    "start_time": "2021-09-07T00:47:49.450Z"
   },
   {
    "duration": 579,
    "start_time": "2021-09-07T00:47:50.069Z"
   },
   {
    "duration": 7,
    "start_time": "2021-09-07T00:47:50.650Z"
   },
   {
    "duration": 24,
    "start_time": "2021-09-07T00:47:50.659Z"
   },
   {
    "duration": 33,
    "start_time": "2021-09-07T00:47:50.685Z"
   },
   {
    "duration": 4139,
    "start_time": "2021-09-07T00:47:50.751Z"
   },
   {
    "duration": 1038,
    "start_time": "2021-09-07T00:50:39.277Z"
   },
   {
    "duration": 92,
    "start_time": "2021-09-07T00:50:40.318Z"
   },
   {
    "duration": 514,
    "start_time": "2021-09-07T00:50:40.698Z"
   },
   {
    "duration": 250,
    "start_time": "2021-09-07T00:50:41.433Z"
   },
   {
    "duration": 39,
    "start_time": "2021-09-07T00:50:43.554Z"
   },
   {
    "duration": 8,
    "start_time": "2021-09-07T00:50:44.816Z"
   },
   {
    "duration": 18,
    "start_time": "2021-09-07T00:50:45.341Z"
   },
   {
    "duration": 10,
    "start_time": "2021-09-07T00:50:45.772Z"
   },
   {
    "duration": 435,
    "start_time": "2021-09-07T00:50:46.024Z"
   },
   {
    "duration": 484,
    "start_time": "2021-09-07T00:50:46.462Z"
   },
   {
    "duration": 470,
    "start_time": "2021-09-07T00:50:46.948Z"
   },
   {
    "duration": 6,
    "start_time": "2021-09-07T00:50:47.420Z"
   },
   {
    "duration": 26,
    "start_time": "2021-09-07T00:50:47.429Z"
   },
   {
    "duration": 32,
    "start_time": "2021-09-07T00:50:48.043Z"
   },
   {
    "duration": 4002,
    "start_time": "2021-09-07T00:50:48.294Z"
   },
   {
    "duration": 1067,
    "start_time": "2021-09-07T00:51:56.958Z"
   },
   {
    "duration": 85,
    "start_time": "2021-09-07T00:51:58.027Z"
   },
   {
    "duration": 512,
    "start_time": "2021-09-07T00:51:58.203Z"
   },
   {
    "duration": 4156,
    "start_time": "2021-09-07T00:51:54.562Z"
   },
   {
    "duration": 39,
    "start_time": "2021-09-07T00:51:59.522Z"
   },
   {
    "duration": 8,
    "start_time": "2021-09-07T00:51:59.969Z"
   },
   {
    "duration": 19,
    "start_time": "2021-09-07T00:52:00.471Z"
   },
   {
    "duration": 9,
    "start_time": "2021-09-07T00:52:00.555Z"
   },
   {
    "duration": 451,
    "start_time": "2021-09-07T00:52:00.637Z"
   },
   {
    "duration": 504,
    "start_time": "2021-09-07T00:52:01.091Z"
   },
   {
    "duration": 458,
    "start_time": "2021-09-07T00:52:01.598Z"
   },
   {
    "duration": 6,
    "start_time": "2021-09-07T00:52:02.058Z"
   },
   {
    "duration": 29,
    "start_time": "2021-09-07T00:52:02.066Z"
   },
   {
    "duration": 40,
    "start_time": "2021-09-07T00:52:02.098Z"
   },
   {
    "duration": 4336,
    "start_time": "2021-09-07T00:52:02.156Z"
   },
   {
    "duration": 19,
    "start_time": "2021-09-07T00:52:06.495Z"
   },
   {
    "duration": 749,
    "start_time": "2021-09-07T00:52:06.517Z"
   },
   {
    "duration": 4190,
    "start_time": "2021-09-07T00:52:07.268Z"
   },
   {
    "duration": 360,
    "start_time": "2021-09-07T00:52:11.460Z"
   },
   {
    "duration": 257,
    "start_time": "2021-09-07T00:52:11.823Z"
   },
   {
    "duration": 609,
    "start_time": "2021-09-07T00:52:12.083Z"
   },
   {
    "duration": 1145,
    "start_time": "2021-09-07T00:52:12.695Z"
   },
   {
    "duration": 47,
    "start_time": "2021-09-07T00:53:05.924Z"
   },
   {
    "duration": 9,
    "start_time": "2021-09-07T00:53:07.005Z"
   },
   {
    "duration": 18,
    "start_time": "2021-09-07T00:53:07.386Z"
   },
   {
    "duration": 9,
    "start_time": "2021-09-07T00:53:08.080Z"
   },
   {
    "duration": 436,
    "start_time": "2021-09-07T00:53:08.549Z"
   },
   {
    "duration": 325,
    "start_time": "2021-09-07T00:53:09.035Z"
   },
   {
    "duration": 433,
    "start_time": "2021-09-07T00:53:09.555Z"
   },
   {
    "duration": 6,
    "start_time": "2021-09-07T00:53:10.032Z"
   },
   {
    "duration": 3929,
    "start_time": "2021-09-07T00:53:10.412Z"
   },
   {
    "duration": 4125,
    "start_time": "2021-09-07T00:53:10.219Z"
   },
   {
    "duration": 4123,
    "start_time": "2021-09-07T00:53:10.222Z"
   },
   {
    "duration": 4121,
    "start_time": "2021-09-07T00:53:10.225Z"
   },
   {
    "duration": 700,
    "start_time": "2021-09-07T00:53:15.460Z"
   },
   {
    "duration": 4087,
    "start_time": "2021-09-07T00:53:16.289Z"
   },
   {
    "duration": 367,
    "start_time": "2021-09-07T00:53:20.378Z"
   },
   {
    "duration": 263,
    "start_time": "2021-09-07T00:53:20.749Z"
   },
   {
    "duration": 744,
    "start_time": "2021-09-07T00:53:21.015Z"
   },
   {
    "duration": 1174,
    "start_time": "2021-09-07T00:53:25.147Z"
   },
   {
    "duration": 1206,
    "start_time": "2021-09-07T00:53:26.324Z"
   },
   {
    "duration": 1173,
    "start_time": "2021-09-07T00:53:27.533Z"
   },
   {
    "duration": 302,
    "start_time": "2021-09-07T00:53:28.708Z"
   },
   {
    "duration": 324,
    "start_time": "2021-09-07T00:53:29.013Z"
   },
   {
    "duration": 298,
    "start_time": "2021-09-07T00:53:29.339Z"
   },
   {
    "duration": 27,
    "start_time": "2021-09-07T00:53:29.640Z"
   },
   {
    "duration": 28,
    "start_time": "2021-09-07T00:53:29.671Z"
   },
   {
    "duration": 559,
    "start_time": "2021-09-07T00:53:29.702Z"
   },
   {
    "duration": 107,
    "start_time": "2021-09-07T00:53:30.264Z"
   },
   {
    "duration": 12,
    "start_time": "2021-09-07T00:53:30.374Z"
   },
   {
    "duration": 2869,
    "start_time": "2021-09-07T00:53:30.388Z"
   },
   {
    "duration": 17,
    "start_time": "2021-09-07T00:53:33.259Z"
   },
   {
    "duration": 5326,
    "start_time": "2021-09-07T00:53:33.278Z"
   },
   {
    "duration": 4084,
    "start_time": "2021-09-07T00:53:59.718Z"
   },
   {
    "duration": 6,
    "start_time": "2021-09-07T00:54:11.218Z"
   },
   {
    "duration": 4049,
    "start_time": "2021-09-07T00:54:11.750Z"
   },
   {
    "duration": 18,
    "start_time": "2021-09-07T00:56:28.296Z"
   },
   {
    "duration": 19,
    "start_time": "2021-09-07T00:56:44.069Z"
   },
   {
    "duration": 28,
    "start_time": "2021-09-07T00:59:37.317Z"
   },
   {
    "duration": 17,
    "start_time": "2021-09-07T00:59:54.912Z"
   },
   {
    "duration": 32,
    "start_time": "2021-09-07T01:01:06.098Z"
   },
   {
    "duration": 532,
    "start_time": "2021-09-07T01:01:07.380Z"
   },
   {
    "duration": 86,
    "start_time": "2021-09-07T01:01:08.127Z"
   },
   {
    "duration": 536,
    "start_time": "2021-09-07T01:01:43.377Z"
   },
   {
    "duration": 543,
    "start_time": "2021-09-07T01:01:52.151Z"
   },
   {
    "duration": 82,
    "start_time": "2021-09-07T01:02:01.651Z"
   },
   {
    "duration": 17,
    "start_time": "2021-09-07T01:02:02.112Z"
   },
   {
    "duration": 2703,
    "start_time": "2021-09-07T01:02:03.197Z"
   },
   {
    "duration": 2343,
    "start_time": "2021-09-07T01:02:40.086Z"
   },
   {
    "duration": 254,
    "start_time": "2021-09-07T01:03:21.953Z"
   },
   {
    "duration": 280,
    "start_time": "2021-09-07T01:03:29.268Z"
   },
   {
    "duration": 254,
    "start_time": "2021-09-07T01:03:36.902Z"
   },
   {
    "duration": 14,
    "start_time": "2021-09-07T01:03:42.029Z"
   },
   {
    "duration": 292,
    "start_time": "2021-09-07T01:03:42.552Z"
   },
   {
    "duration": 1058,
    "start_time": "2021-09-07T01:04:00.603Z"
   },
   {
    "duration": 65,
    "start_time": "2021-09-07T01:04:01.908Z"
   },
   {
    "duration": 515,
    "start_time": "2021-09-07T01:04:02.006Z"
   },
   {
    "duration": 4140,
    "start_time": "2021-09-07T01:03:58.384Z"
   },
   {
    "duration": 4138,
    "start_time": "2021-09-07T01:03:58.387Z"
   },
   {
    "duration": 10,
    "start_time": "2021-09-07T01:04:02.579Z"
   },
   {
    "duration": 17,
    "start_time": "2021-09-07T01:04:02.657Z"
   },
   {
    "duration": 11,
    "start_time": "2021-09-07T01:04:02.740Z"
   },
   {
    "duration": 481,
    "start_time": "2021-09-07T01:04:02.825Z"
   },
   {
    "duration": 528,
    "start_time": "2021-09-07T01:04:03.309Z"
   },
   {
    "duration": 556,
    "start_time": "2021-09-07T01:04:03.840Z"
   },
   {
    "duration": 6,
    "start_time": "2021-09-07T01:04:04.398Z"
   },
   {
    "duration": 25,
    "start_time": "2021-09-07T01:04:04.406Z"
   },
   {
    "duration": 56,
    "start_time": "2021-09-07T01:04:04.433Z"
   },
   {
    "duration": 4660,
    "start_time": "2021-09-07T01:04:04.492Z"
   },
   {
    "duration": 23,
    "start_time": "2021-09-07T01:04:09.159Z"
   },
   {
    "duration": 736,
    "start_time": "2021-09-07T01:04:09.186Z"
   },
   {
    "duration": 4085,
    "start_time": "2021-09-07T01:04:09.925Z"
   },
   {
    "duration": 381,
    "start_time": "2021-09-07T01:04:14.013Z"
   },
   {
    "duration": 277,
    "start_time": "2021-09-07T01:04:14.397Z"
   },
   {
    "duration": 608,
    "start_time": "2021-09-07T01:04:14.677Z"
   },
   {
    "duration": 1280,
    "start_time": "2021-09-07T01:04:15.288Z"
   },
   {
    "duration": 1407,
    "start_time": "2021-09-07T01:04:16.571Z"
   },
   {
    "duration": 1170,
    "start_time": "2021-09-07T01:04:17.980Z"
   },
   {
    "duration": 303,
    "start_time": "2021-09-07T01:04:19.156Z"
   },
   {
    "duration": 333,
    "start_time": "2021-09-07T01:04:19.462Z"
   },
   {
    "duration": 293,
    "start_time": "2021-09-07T01:04:19.797Z"
   },
   {
    "duration": 14,
    "start_time": "2021-09-07T01:04:20.093Z"
   },
   {
    "duration": 59,
    "start_time": "2021-09-07T01:04:20.109Z"
   },
   {
    "duration": 540,
    "start_time": "2021-09-07T01:04:20.170Z"
   },
   {
    "duration": 107,
    "start_time": "2021-09-07T01:04:20.714Z"
   },
   {
    "duration": 14,
    "start_time": "2021-09-07T01:04:20.824Z"
   },
   {
    "duration": 2971,
    "start_time": "2021-09-07T01:04:20.856Z"
   },
   {
    "duration": 31,
    "start_time": "2021-09-07T01:04:23.830Z"
   },
   {
    "duration": 260,
    "start_time": "2021-09-07T01:04:23.863Z"
   },
   {
    "duration": 127,
    "start_time": "2021-09-07T01:04:49.857Z"
   },
   {
    "duration": 3,
    "start_time": "2021-09-07T01:04:59.815Z"
   },
   {
    "duration": 265,
    "start_time": "2021-09-07T01:05:14.067Z"
   },
   {
    "duration": 3,
    "start_time": "2021-09-07T01:05:22.895Z"
   },
   {
    "duration": 523,
    "start_time": "2021-09-07T01:06:52.360Z"
   },
   {
    "duration": 267,
    "start_time": "2021-09-07T01:09:10.400Z"
   },
   {
    "duration": 1039,
    "start_time": "2021-09-07T01:09:35.780Z"
   },
   {
    "duration": 62,
    "start_time": "2021-09-07T01:09:36.969Z"
   },
   {
    "duration": 158,
    "start_time": "2021-09-07T01:09:37.057Z"
   },
   {
    "duration": 3,
    "start_time": "2021-09-07T01:09:37.218Z"
   },
   {
    "duration": 38,
    "start_time": "2021-09-07T01:09:37.447Z"
   },
   {
    "duration": 8,
    "start_time": "2021-09-07T01:09:37.618Z"
   },
   {
    "duration": 18,
    "start_time": "2021-09-07T01:09:37.698Z"
   },
   {
    "duration": 10,
    "start_time": "2021-09-07T01:09:37.782Z"
   },
   {
    "duration": 435,
    "start_time": "2021-09-07T01:09:37.863Z"
   },
   {
    "duration": 488,
    "start_time": "2021-09-07T01:09:38.301Z"
   },
   {
    "duration": 466,
    "start_time": "2021-09-07T01:09:38.792Z"
   },
   {
    "duration": 6,
    "start_time": "2021-09-07T01:09:39.260Z"
   },
   {
    "duration": 13,
    "start_time": "2021-09-07T01:09:39.268Z"
   },
   {
    "duration": 30,
    "start_time": "2021-09-07T01:09:39.284Z"
   },
   {
    "duration": 4089,
    "start_time": "2021-09-07T01:09:39.316Z"
   },
   {
    "duration": 19,
    "start_time": "2021-09-07T01:09:43.409Z"
   },
   {
    "duration": 707,
    "start_time": "2021-09-07T01:09:43.431Z"
   },
   {
    "duration": 4392,
    "start_time": "2021-09-07T01:09:44.140Z"
   },
   {
    "duration": 395,
    "start_time": "2021-09-07T01:09:48.535Z"
   },
   {
    "duration": 257,
    "start_time": "2021-09-07T01:09:48.932Z"
   },
   {
    "duration": 591,
    "start_time": "2021-09-07T01:09:49.192Z"
   },
   {
    "duration": 1191,
    "start_time": "2021-09-07T01:09:49.785Z"
   },
   {
    "duration": 1324,
    "start_time": "2021-09-07T01:09:50.978Z"
   },
   {
    "duration": 1184,
    "start_time": "2021-09-07T01:09:52.305Z"
   },
   {
    "duration": 311,
    "start_time": "2021-09-07T01:09:53.492Z"
   },
   {
    "duration": 336,
    "start_time": "2021-09-07T01:09:53.805Z"
   },
   {
    "duration": 308,
    "start_time": "2021-09-07T01:09:54.143Z"
   },
   {
    "duration": 13,
    "start_time": "2021-09-07T01:09:54.453Z"
   },
   {
    "duration": 35,
    "start_time": "2021-09-07T01:09:54.469Z"
   },
   {
    "duration": 563,
    "start_time": "2021-09-07T01:09:54.507Z"
   },
   {
    "duration": 104,
    "start_time": "2021-09-07T01:09:55.075Z"
   },
   {
    "duration": 12,
    "start_time": "2021-09-07T01:09:55.181Z"
   },
   {
    "duration": 2632,
    "start_time": "2021-09-07T01:09:55.196Z"
   },
   {
    "duration": 33,
    "start_time": "2021-09-07T01:09:57.831Z"
   },
   {
    "duration": 378,
    "start_time": "2021-09-07T01:09:57.866Z"
   },
   {
    "duration": 270,
    "start_time": "2021-09-07T01:11:15.265Z"
   },
   {
    "duration": 254,
    "start_time": "2021-09-07T01:11:25.164Z"
   },
   {
    "duration": 271,
    "start_time": "2021-09-07T01:12:30.766Z"
   },
   {
    "duration": 13,
    "start_time": "2021-09-07T01:12:36.001Z"
   },
   {
    "duration": 262,
    "start_time": "2021-09-07T01:12:36.813Z"
   },
   {
    "duration": 1074,
    "start_time": "2021-09-07T01:12:51.923Z"
   },
   {
    "duration": 89,
    "start_time": "2021-09-07T01:12:52.999Z"
   },
   {
    "duration": 175,
    "start_time": "2021-09-07T01:12:53.091Z"
   },
   {
    "duration": 3,
    "start_time": "2021-09-07T01:12:53.269Z"
   },
   {
    "duration": 39,
    "start_time": "2021-09-07T01:12:53.344Z"
   },
   {
    "duration": 9,
    "start_time": "2021-09-07T01:12:53.506Z"
   },
   {
    "duration": 19,
    "start_time": "2021-09-07T01:12:53.592Z"
   },
   {
    "duration": 10,
    "start_time": "2021-09-07T01:12:53.672Z"
   },
   {
    "duration": 453,
    "start_time": "2021-09-07T01:12:53.755Z"
   },
   {
    "duration": 605,
    "start_time": "2021-09-07T01:12:54.211Z"
   },
   {
    "duration": 450,
    "start_time": "2021-09-07T01:12:54.818Z"
   },
   {
    "duration": 6,
    "start_time": "2021-09-07T01:12:55.270Z"
   },
   {
    "duration": 18,
    "start_time": "2021-09-07T01:12:55.278Z"
   },
   {
    "duration": 32,
    "start_time": "2021-09-07T01:12:55.298Z"
   },
   {
    "duration": 4122,
    "start_time": "2021-09-07T01:12:55.357Z"
   },
   {
    "duration": 18,
    "start_time": "2021-09-07T01:12:59.483Z"
   },
   {
    "duration": 716,
    "start_time": "2021-09-07T01:12:59.504Z"
   },
   {
    "duration": 4822,
    "start_time": "2021-09-07T01:13:00.223Z"
   },
   {
    "duration": 363,
    "start_time": "2021-09-07T01:13:05.047Z"
   },
   {
    "duration": 262,
    "start_time": "2021-09-07T01:13:05.412Z"
   },
   {
    "duration": 596,
    "start_time": "2021-09-07T01:13:05.676Z"
   },
   {
    "duration": 1208,
    "start_time": "2021-09-07T01:13:06.274Z"
   },
   {
    "duration": 1421,
    "start_time": "2021-09-07T01:13:07.484Z"
   },
   {
    "duration": 1158,
    "start_time": "2021-09-07T01:13:08.907Z"
   },
   {
    "duration": 303,
    "start_time": "2021-09-07T01:13:10.068Z"
   },
   {
    "duration": 330,
    "start_time": "2021-09-07T01:13:10.374Z"
   },
   {
    "duration": 298,
    "start_time": "2021-09-07T01:13:10.707Z"
   },
   {
    "duration": 14,
    "start_time": "2021-09-07T01:13:11.007Z"
   },
   {
    "duration": 52,
    "start_time": "2021-09-07T01:13:11.024Z"
   },
   {
    "duration": 519,
    "start_time": "2021-09-07T01:13:11.078Z"
   },
   {
    "duration": 103,
    "start_time": "2021-09-07T01:13:11.602Z"
   },
   {
    "duration": 13,
    "start_time": "2021-09-07T01:13:11.707Z"
   },
   {
    "duration": 2484,
    "start_time": "2021-09-07T01:13:11.723Z"
   },
   {
    "duration": 16,
    "start_time": "2021-09-07T01:13:14.209Z"
   },
   {
    "duration": 378,
    "start_time": "2021-09-07T01:13:14.228Z"
   },
   {
    "duration": 109095,
    "start_time": "2021-09-07T01:22:54.061Z"
   },
   {
    "duration": 4118,
    "start_time": "2021-09-07T01:27:22.550Z"
   },
   {
    "duration": 1057,
    "start_time": "2021-09-07T01:28:35.227Z"
   },
   {
    "duration": 88,
    "start_time": "2021-09-07T01:28:36.287Z"
   },
   {
    "duration": 181,
    "start_time": "2021-09-07T01:28:36.378Z"
   },
   {
    "duration": 3,
    "start_time": "2021-09-07T01:28:36.561Z"
   },
   {
    "duration": 41,
    "start_time": "2021-09-07T01:28:36.712Z"
   },
   {
    "duration": 8,
    "start_time": "2021-09-07T01:28:36.898Z"
   },
   {
    "duration": 18,
    "start_time": "2021-09-07T01:28:36.962Z"
   },
   {
    "duration": 10,
    "start_time": "2021-09-07T01:28:37.045Z"
   },
   {
    "duration": 515,
    "start_time": "2021-09-07T01:28:37.132Z"
   },
   {
    "duration": 498,
    "start_time": "2021-09-07T01:28:37.649Z"
   },
   {
    "duration": 448,
    "start_time": "2021-09-07T01:28:38.149Z"
   },
   {
    "duration": 5,
    "start_time": "2021-09-07T01:28:38.600Z"
   },
   {
    "duration": 30,
    "start_time": "2021-09-07T01:28:38.608Z"
   },
   {
    "duration": 31,
    "start_time": "2021-09-07T01:28:39.427Z"
   },
   {
    "duration": 3976,
    "start_time": "2021-09-07T01:28:39.670Z"
   },
   {
    "duration": 21,
    "start_time": "2021-09-07T01:28:43.648Z"
   },
   {
    "duration": 727,
    "start_time": "2021-09-07T01:28:43.672Z"
   },
   {
    "duration": 4125,
    "start_time": "2021-09-07T01:28:44.402Z"
   },
   {
    "duration": 359,
    "start_time": "2021-09-07T01:28:48.529Z"
   },
   {
    "duration": 256,
    "start_time": "2021-09-07T01:28:48.890Z"
   },
   {
    "duration": 598,
    "start_time": "2021-09-07T01:28:49.157Z"
   },
   {
    "duration": 1203,
    "start_time": "2021-09-07T01:28:49.761Z"
   },
   {
    "duration": 1317,
    "start_time": "2021-09-07T01:28:50.966Z"
   },
   {
    "duration": 1183,
    "start_time": "2021-09-07T01:28:52.286Z"
   },
   {
    "duration": 292,
    "start_time": "2021-09-07T01:28:53.472Z"
   },
   {
    "duration": 346,
    "start_time": "2021-09-07T01:28:53.767Z"
   },
   {
    "duration": 298,
    "start_time": "2021-09-07T01:28:54.115Z"
   },
   {
    "duration": 14,
    "start_time": "2021-09-07T01:28:54.415Z"
   },
   {
    "duration": 45,
    "start_time": "2021-09-07T01:28:54.431Z"
   },
   {
    "duration": 548,
    "start_time": "2021-09-07T01:28:54.479Z"
   },
   {
    "duration": 96,
    "start_time": "2021-09-07T01:28:55.030Z"
   },
   {
    "duration": 32,
    "start_time": "2021-09-07T01:28:55.129Z"
   },
   {
    "duration": 2557,
    "start_time": "2021-09-07T01:28:55.163Z"
   },
   {
    "duration": 4766,
    "start_time": "2021-09-07T01:28:57.723Z"
   },
   {
    "duration": 14,
    "start_time": "2021-09-07T01:29:02.491Z"
   },
   {
    "duration": 4739,
    "start_time": "2021-09-07T01:29:36.038Z"
   },
   {
    "duration": 4736,
    "start_time": "2021-09-07T01:29:59.277Z"
   },
   {
    "duration": 1433,
    "start_time": "2021-09-07T01:35:53.545Z"
   },
   {
    "duration": 351,
    "start_time": "2021-09-07T01:36:33.111Z"
   },
   {
    "duration": 1349,
    "start_time": "2021-09-07T01:36:38.090Z"
   },
   {
    "duration": 1927,
    "start_time": "2021-09-07T01:37:45.074Z"
   },
   {
    "duration": 1044,
    "start_time": "2021-09-07T01:38:10.968Z"
   },
   {
    "duration": 67,
    "start_time": "2021-09-07T01:38:12.666Z"
   },
   {
    "duration": 142,
    "start_time": "2021-09-07T01:38:13.177Z"
   },
   {
    "duration": 2,
    "start_time": "2021-09-07T01:38:13.322Z"
   },
   {
    "duration": 39,
    "start_time": "2021-09-07T01:38:14.287Z"
   },
   {
    "duration": 7,
    "start_time": "2021-09-07T01:38:14.461Z"
   },
   {
    "duration": 18,
    "start_time": "2021-09-07T01:38:14.538Z"
   },
   {
    "duration": 10,
    "start_time": "2021-09-07T01:38:14.618Z"
   },
   {
    "duration": 437,
    "start_time": "2021-09-07T01:38:14.701Z"
   },
   {
    "duration": 484,
    "start_time": "2021-09-07T01:38:15.140Z"
   },
   {
    "duration": 441,
    "start_time": "2021-09-07T01:38:15.626Z"
   },
   {
    "duration": 5,
    "start_time": "2021-09-07T01:38:16.070Z"
   },
   {
    "duration": 10,
    "start_time": "2021-09-07T01:38:16.077Z"
   },
   {
    "duration": 31,
    "start_time": "2021-09-07T01:38:16.090Z"
   },
   {
    "duration": 4133,
    "start_time": "2021-09-07T01:38:16.123Z"
   },
   {
    "duration": 20,
    "start_time": "2021-09-07T01:38:20.259Z"
   },
   {
    "duration": 706,
    "start_time": "2021-09-07T01:38:20.282Z"
   },
   {
    "duration": 4212,
    "start_time": "2021-09-07T01:38:20.991Z"
   },
   {
    "duration": 358,
    "start_time": "2021-09-07T01:38:25.205Z"
   },
   {
    "duration": 292,
    "start_time": "2021-09-07T01:38:25.566Z"
   },
   {
    "duration": 597,
    "start_time": "2021-09-07T01:38:25.861Z"
   },
   {
    "duration": 1195,
    "start_time": "2021-09-07T01:38:26.461Z"
   },
   {
    "duration": 1333,
    "start_time": "2021-09-07T01:38:27.658Z"
   },
   {
    "duration": 1188,
    "start_time": "2021-09-07T01:38:28.993Z"
   },
   {
    "duration": 310,
    "start_time": "2021-09-07T01:38:30.184Z"
   },
   {
    "duration": 328,
    "start_time": "2021-09-07T01:38:30.497Z"
   },
   {
    "duration": 321,
    "start_time": "2021-09-07T01:38:30.827Z"
   },
   {
    "duration": 17,
    "start_time": "2021-09-07T01:38:31.155Z"
   },
   {
    "duration": 34,
    "start_time": "2021-09-07T01:38:31.175Z"
   },
   {
    "duration": 552,
    "start_time": "2021-09-07T01:38:31.212Z"
   },
   {
    "duration": 106,
    "start_time": "2021-09-07T01:38:31.771Z"
   },
   {
    "duration": 14,
    "start_time": "2021-09-07T01:38:31.880Z"
   },
   {
    "duration": 2953,
    "start_time": "2021-09-07T01:38:31.897Z"
   },
   {
    "duration": 356,
    "start_time": "2021-09-07T01:38:34.856Z"
   },
   {
    "duration": 1932,
    "start_time": "2021-09-07T01:38:35.214Z"
   },
   {
    "duration": 5475,
    "start_time": "2021-09-07T01:38:37.149Z"
   },
   {
    "duration": 29,
    "start_time": "2021-09-07T01:38:42.627Z"
   },
   {
    "duration": 204,
    "start_time": "2021-09-07T22:05:07.643Z"
   },
   {
    "duration": 745,
    "start_time": "2021-09-07T22:05:13.723Z"
   },
   {
    "duration": 50,
    "start_time": "2021-09-07T22:05:14.470Z"
   },
   {
    "duration": 114,
    "start_time": "2021-09-07T22:05:14.522Z"
   },
   {
    "duration": 1,
    "start_time": "2021-09-07T22:05:14.638Z"
   },
   {
    "duration": 45,
    "start_time": "2021-09-07T22:05:14.641Z"
   },
   {
    "duration": 5,
    "start_time": "2021-09-07T22:05:14.688Z"
   },
   {
    "duration": 11,
    "start_time": "2021-09-07T22:05:14.694Z"
   },
   {
    "duration": 6,
    "start_time": "2021-09-07T22:05:14.707Z"
   },
   {
    "duration": 278,
    "start_time": "2021-09-07T22:05:14.715Z"
   },
   {
    "duration": 301,
    "start_time": "2021-09-07T22:05:14.995Z"
   },
   {
    "duration": 246,
    "start_time": "2021-09-07T22:05:15.297Z"
   },
   {
    "duration": 4,
    "start_time": "2021-09-07T22:05:15.545Z"
   },
   {
    "duration": 10,
    "start_time": "2021-09-07T22:05:15.550Z"
   },
   {
    "duration": 33,
    "start_time": "2021-09-07T22:05:15.561Z"
   },
   {
    "duration": 2480,
    "start_time": "2021-09-07T22:05:15.595Z"
   },
   {
    "duration": 18,
    "start_time": "2021-09-07T22:05:18.077Z"
   },
   {
    "duration": 466,
    "start_time": "2021-09-07T22:05:18.097Z"
   },
   {
    "duration": 2535,
    "start_time": "2021-09-07T22:05:18.565Z"
   },
   {
    "duration": 223,
    "start_time": "2021-09-07T22:05:21.102Z"
   },
   {
    "duration": 166,
    "start_time": "2021-09-07T22:05:21.327Z"
   },
   {
    "duration": 360,
    "start_time": "2021-09-07T22:05:21.495Z"
   },
   {
    "duration": 774,
    "start_time": "2021-09-07T22:05:21.857Z"
   },
   {
    "duration": 882,
    "start_time": "2021-09-07T22:05:22.633Z"
   },
   {
    "duration": 796,
    "start_time": "2021-09-07T22:05:23.517Z"
   },
   {
    "duration": 203,
    "start_time": "2021-09-07T22:05:24.314Z"
   },
   {
    "duration": 218,
    "start_time": "2021-09-07T22:05:24.519Z"
   },
   {
    "duration": 199,
    "start_time": "2021-09-07T22:05:24.740Z"
   },
   {
    "duration": 10,
    "start_time": "2021-09-07T22:05:24.942Z"
   },
   {
    "duration": 36,
    "start_time": "2021-09-07T22:05:24.954Z"
   },
   {
    "duration": 352,
    "start_time": "2021-09-07T22:05:24.991Z"
   },
   {
    "duration": 64,
    "start_time": "2021-09-07T22:05:25.345Z"
   },
   {
    "duration": 8,
    "start_time": "2021-09-07T22:05:25.410Z"
   },
   {
    "duration": 1692,
    "start_time": "2021-09-07T22:05:25.419Z"
   },
   {
    "duration": 511,
    "start_time": "2021-09-07T22:05:27.112Z"
   },
   {
    "duration": 221,
    "start_time": "2021-09-07T22:05:27.624Z"
   },
   {
    "duration": 1316,
    "start_time": "2021-09-07T22:05:27.847Z"
   },
   {
    "duration": 3371,
    "start_time": "2021-09-07T22:05:29.165Z"
   },
   {
    "duration": 11,
    "start_time": "2021-09-07T22:05:32.538Z"
   },
   {
    "duration": 511,
    "start_time": "2021-09-07T22:07:52.501Z"
   },
   {
    "duration": 849,
    "start_time": "2022-05-06T14:22:49.062Z"
   },
   {
    "duration": 77,
    "start_time": "2022-05-06T14:22:49.914Z"
   },
   {
    "duration": 14,
    "start_time": "2022-05-06T14:22:49.993Z"
   },
   {
    "duration": 81,
    "start_time": "2022-05-06T14:22:50.016Z"
   },
   {
    "duration": 108,
    "start_time": "2022-05-06T14:22:50.260Z"
   },
   {
    "duration": 18,
    "start_time": "2022-05-06T14:22:50.713Z"
   },
   {
    "duration": 5,
    "start_time": "2022-05-06T14:23:43.380Z"
   },
   {
    "duration": 10,
    "start_time": "2022-05-06T14:23:55.313Z"
   },
   {
    "duration": 11,
    "start_time": "2022-05-06T14:32:55.765Z"
   },
   {
    "duration": 2703,
    "start_time": "2022-05-06T14:34:54.054Z"
   },
   {
    "duration": 42,
    "start_time": "2022-05-06T14:35:02.982Z"
   },
   {
    "duration": 10,
    "start_time": "2022-05-06T14:36:09.607Z"
   },
   {
    "duration": 7,
    "start_time": "2022-05-06T14:36:13.683Z"
   },
   {
    "duration": 12,
    "start_time": "2022-05-06T14:36:26.872Z"
   },
   {
    "duration": 15,
    "start_time": "2022-05-06T14:36:33.592Z"
   },
   {
    "duration": 8,
    "start_time": "2022-05-06T14:36:41.782Z"
   },
   {
    "duration": 36,
    "start_time": "2022-05-06T14:36:57.547Z"
   },
   {
    "duration": 11,
    "start_time": "2022-05-06T14:37:55.928Z"
   },
   {
    "duration": 43,
    "start_time": "2022-05-06T14:37:56.538Z"
   },
   {
    "duration": 11,
    "start_time": "2022-05-06T14:38:19.043Z"
   },
   {
    "duration": 790,
    "start_time": "2022-05-06T14:38:42.168Z"
   },
   {
    "duration": 80,
    "start_time": "2022-05-06T14:38:42.960Z"
   },
   {
    "duration": 16,
    "start_time": "2022-05-06T14:38:43.042Z"
   },
   {
    "duration": 103,
    "start_time": "2022-05-06T14:38:43.061Z"
   },
   {
    "duration": 58,
    "start_time": "2022-05-06T14:38:43.166Z"
   },
   {
    "duration": 17,
    "start_time": "2022-05-06T14:38:43.316Z"
   },
   {
    "duration": 15,
    "start_time": "2022-05-06T14:38:44.263Z"
   },
   {
    "duration": 6,
    "start_time": "2022-05-06T14:38:44.503Z"
   },
   {
    "duration": 9,
    "start_time": "2022-05-06T14:38:45.611Z"
   },
   {
    "duration": 17,
    "start_time": "2022-05-06T14:38:45.909Z"
   },
   {
    "duration": 51,
    "start_time": "2022-05-06T14:38:46.618Z"
   },
   {
    "duration": 11,
    "start_time": "2022-05-06T14:38:47.140Z"
   },
   {
    "duration": 60,
    "start_time": "2022-05-06T14:38:49.003Z"
   },
   {
    "duration": 10,
    "start_time": "2022-05-06T14:38:50.017Z"
   },
   {
    "duration": 10,
    "start_time": "2022-05-06T14:51:15.724Z"
   },
   {
    "duration": 8,
    "start_time": "2022-05-06T14:51:49.295Z"
   },
   {
    "duration": 74,
    "start_time": "2022-05-06T14:52:01.694Z"
   },
   {
    "duration": 8,
    "start_time": "2022-05-06T14:52:07.596Z"
   },
   {
    "duration": 9,
    "start_time": "2022-05-06T14:52:19.105Z"
   },
   {
    "duration": 11,
    "start_time": "2022-05-06T14:52:35.672Z"
   },
   {
    "duration": 11,
    "start_time": "2022-05-06T14:52:42.965Z"
   },
   {
    "duration": 11,
    "start_time": "2022-05-06T14:52:49.603Z"
   },
   {
    "duration": 8,
    "start_time": "2022-05-06T14:53:10.794Z"
   },
   {
    "duration": 753,
    "start_time": "2022-05-06T14:54:09.322Z"
   },
   {
    "duration": 80,
    "start_time": "2022-05-06T14:54:10.078Z"
   },
   {
    "duration": 14,
    "start_time": "2022-05-06T14:54:10.160Z"
   },
   {
    "duration": 90,
    "start_time": "2022-05-06T14:54:10.176Z"
   },
   {
    "duration": 55,
    "start_time": "2022-05-06T14:54:10.269Z"
   },
   {
    "duration": 17,
    "start_time": "2022-05-06T14:54:10.434Z"
   },
   {
    "duration": 10,
    "start_time": "2022-05-06T14:54:11.749Z"
   },
   {
    "duration": 5,
    "start_time": "2022-05-06T14:54:11.995Z"
   },
   {
    "duration": 10,
    "start_time": "2022-05-06T14:54:12.398Z"
   },
   {
    "duration": 14,
    "start_time": "2022-05-06T14:54:12.695Z"
   },
   {
    "duration": 40,
    "start_time": "2022-05-06T14:54:13.187Z"
   },
   {
    "duration": 11,
    "start_time": "2022-05-06T14:54:13.543Z"
   },
   {
    "duration": 47,
    "start_time": "2022-05-06T14:54:13.995Z"
   },
   {
    "duration": 10,
    "start_time": "2022-05-06T14:54:14.678Z"
   },
   {
    "duration": 9,
    "start_time": "2022-05-06T14:59:29.220Z"
   },
   {
    "duration": 1036,
    "start_time": "2022-05-06T14:59:29.894Z"
   },
   {
    "duration": 2674,
    "start_time": "2022-05-06T14:59:40.830Z"
   },
   {
    "duration": 10,
    "start_time": "2022-05-06T15:00:52.334Z"
   },
   {
    "duration": 8,
    "start_time": "2022-05-06T15:00:58.783Z"
   },
   {
    "duration": 2622,
    "start_time": "2022-05-06T15:01:13.231Z"
   },
   {
    "duration": 6,
    "start_time": "2022-05-06T15:01:23.380Z"
   },
   {
    "duration": 2749,
    "start_time": "2022-05-06T15:01:24.375Z"
   },
   {
    "duration": 973,
    "start_time": "2022-05-06T15:01:38.654Z"
   },
   {
    "duration": 6,
    "start_time": "2022-05-06T15:01:50.537Z"
   },
   {
    "duration": 3,
    "start_time": "2022-05-06T15:14:35.790Z"
   },
   {
    "duration": 6,
    "start_time": "2022-05-06T15:14:45.310Z"
   },
   {
    "duration": 171,
    "start_time": "2022-05-06T15:22:16.007Z"
   },
   {
    "duration": 6,
    "start_time": "2022-05-06T15:22:24.385Z"
   },
   {
    "duration": 7,
    "start_time": "2022-05-06T15:22:25.056Z"
   },
   {
    "duration": 5,
    "start_time": "2022-05-06T15:22:25.365Z"
   },
   {
    "duration": 4,
    "start_time": "2022-05-06T15:22:25.675Z"
   },
   {
    "duration": 10,
    "start_time": "2022-05-06T15:22:26.068Z"
   },
   {
    "duration": 132,
    "start_time": "2022-05-06T15:22:26.604Z"
   },
   {
    "duration": 5,
    "start_time": "2022-05-06T15:22:45.960Z"
   },
   {
    "duration": 6,
    "start_time": "2022-05-06T15:23:14.920Z"
   },
   {
    "duration": 7,
    "start_time": "2022-05-06T15:23:15.231Z"
   },
   {
    "duration": 5,
    "start_time": "2022-05-06T15:23:15.652Z"
   },
   {
    "duration": 4,
    "start_time": "2022-05-06T15:23:16.623Z"
   },
   {
    "duration": 142,
    "start_time": "2022-05-06T15:23:19.392Z"
   },
   {
    "duration": 4,
    "start_time": "2022-05-06T15:23:20.349Z"
   },
   {
    "duration": 49,
    "start_time": "2022-05-06T15:26:01.149Z"
   },
   {
    "duration": 670,
    "start_time": "2022-05-06T15:26:16.963Z"
   },
   {
    "duration": 78,
    "start_time": "2022-05-06T15:26:18.273Z"
   },
   {
    "duration": 14,
    "start_time": "2022-05-06T15:26:18.824Z"
   },
   {
    "duration": 82,
    "start_time": "2022-05-06T15:26:19.318Z"
   },
   {
    "duration": 47,
    "start_time": "2022-05-06T15:26:19.762Z"
   },
   {
    "duration": 17,
    "start_time": "2022-05-06T15:26:20.293Z"
   },
   {
    "duration": 10,
    "start_time": "2022-05-06T15:26:22.318Z"
   },
   {
    "duration": 5,
    "start_time": "2022-05-06T15:26:22.819Z"
   },
   {
    "duration": 7,
    "start_time": "2022-05-06T15:26:23.274Z"
   },
   {
    "duration": 6,
    "start_time": "2022-05-06T15:26:23.754Z"
   },
   {
    "duration": 7,
    "start_time": "2022-05-06T15:26:24.560Z"
   },
   {
    "duration": 6,
    "start_time": "2022-05-06T15:26:25.521Z"
   },
   {
    "duration": 4,
    "start_time": "2022-05-06T15:26:27.041Z"
   },
   {
    "duration": 148,
    "start_time": "2022-05-06T15:26:29.210Z"
   },
   {
    "duration": 4,
    "start_time": "2022-05-06T15:26:30.238Z"
   },
   {
    "duration": 4,
    "start_time": "2022-05-06T15:28:19.988Z"
   },
   {
    "duration": 141,
    "start_time": "2022-05-06T15:28:21.058Z"
   },
   {
    "duration": 5,
    "start_time": "2022-05-06T15:28:22.262Z"
   },
   {
    "duration": 134,
    "start_time": "2022-05-06T15:28:53.405Z"
   },
   {
    "duration": 4,
    "start_time": "2022-05-06T15:28:54.657Z"
   },
   {
    "duration": 73,
    "start_time": "2022-05-06T15:29:07.966Z"
   },
   {
    "duration": 7,
    "start_time": "2022-05-06T15:29:54.077Z"
   },
   {
    "duration": 16,
    "start_time": "2022-05-06T15:30:04.147Z"
   },
   {
    "duration": 727,
    "start_time": "2022-05-06T15:30:18.716Z"
   },
   {
    "duration": 76,
    "start_time": "2022-05-06T15:30:20.113Z"
   },
   {
    "duration": 21,
    "start_time": "2022-05-06T15:30:20.373Z"
   },
   {
    "duration": 76,
    "start_time": "2022-05-06T15:30:20.751Z"
   },
   {
    "duration": 47,
    "start_time": "2022-05-06T15:30:21.440Z"
   },
   {
    "duration": 16,
    "start_time": "2022-05-06T15:30:22.375Z"
   },
   {
    "duration": 10,
    "start_time": "2022-05-06T15:30:24.781Z"
   },
   {
    "duration": 6,
    "start_time": "2022-05-06T15:30:25.299Z"
   },
   {
    "duration": 6,
    "start_time": "2022-05-06T15:30:25.887Z"
   },
   {
    "duration": 6,
    "start_time": "2022-05-06T15:30:26.424Z"
   },
   {
    "duration": 5,
    "start_time": "2022-05-06T15:30:28.383Z"
   },
   {
    "duration": 5,
    "start_time": "2022-05-06T15:30:28.944Z"
   },
   {
    "duration": 4,
    "start_time": "2022-05-06T15:30:29.456Z"
   },
   {
    "duration": 14,
    "start_time": "2022-05-06T15:30:30.492Z"
   },
   {
    "duration": 112,
    "start_time": "2022-05-06T15:32:26.703Z"
   },
   {
    "duration": 66,
    "start_time": "2022-05-06T15:32:48.933Z"
   },
   {
    "duration": 17,
    "start_time": "2022-05-06T15:33:15.266Z"
   },
   {
    "duration": 13,
    "start_time": "2022-05-06T15:33:32.608Z"
   },
   {
    "duration": 12,
    "start_time": "2022-05-06T15:37:48.585Z"
   },
   {
    "duration": 11,
    "start_time": "2022-05-06T15:37:56.675Z"
   },
   {
    "duration": 112,
    "start_time": "2022-05-06T15:38:52.891Z"
   },
   {
    "duration": 4,
    "start_time": "2022-05-06T15:38:55.574Z"
   },
   {
    "duration": 8,
    "start_time": "2022-05-06T15:42:58.913Z"
   },
   {
    "duration": 4,
    "start_time": "2022-05-06T15:43:08.360Z"
   },
   {
    "duration": 4,
    "start_time": "2022-05-06T15:43:09.684Z"
   },
   {
    "duration": 3207,
    "start_time": "2022-05-06T15:43:10.683Z"
   },
   {
    "duration": 4,
    "start_time": "2022-05-06T15:43:17.016Z"
   },
   {
    "duration": 114,
    "start_time": "2022-05-06T15:47:14.929Z"
   },
   {
    "duration": 4,
    "start_time": "2022-05-06T15:47:17.252Z"
   },
   {
    "duration": 7,
    "start_time": "2022-05-06T15:47:18.065Z"
   },
   {
    "duration": 14,
    "start_time": "2022-05-06T15:47:19.137Z"
   },
   {
    "duration": 5,
    "start_time": "2022-05-06T15:50:49.728Z"
   },
   {
    "duration": 72,
    "start_time": "2022-05-06T15:50:50.211Z"
   },
   {
    "duration": 10,
    "start_time": "2022-05-06T15:50:50.667Z"
   },
   {
    "duration": 72,
    "start_time": "2022-05-06T15:50:51.083Z"
   },
   {
    "duration": 41,
    "start_time": "2022-05-06T15:50:51.464Z"
   },
   {
    "duration": 16,
    "start_time": "2022-05-06T15:50:51.938Z"
   },
   {
    "duration": 12,
    "start_time": "2022-05-06T15:50:53.566Z"
   },
   {
    "duration": 5,
    "start_time": "2022-05-06T15:50:53.841Z"
   },
   {
    "duration": 4,
    "start_time": "2022-05-06T15:50:54.213Z"
   },
   {
    "duration": 4,
    "start_time": "2022-05-06T15:50:54.539Z"
   },
   {
    "duration": 33232,
    "start_time": "2022-05-06T15:50:54.903Z"
   },
   {
    "duration": 4,
    "start_time": "2022-05-06T15:51:28.137Z"
   },
   {
    "duration": 167,
    "start_time": "2022-05-06T15:51:28.143Z"
   },
   {
    "duration": 39,
    "start_time": "2022-05-06T15:51:39.131Z"
   },
   {
    "duration": 1006,
    "start_time": "2022-05-06T15:52:23.100Z"
   },
   {
    "duration": 116,
    "start_time": "2022-05-06T15:52:24.743Z"
   },
   {
    "duration": 17,
    "start_time": "2022-05-06T15:52:25.119Z"
   },
   {
    "duration": 83,
    "start_time": "2022-05-06T15:52:25.405Z"
   },
   {
    "duration": 49,
    "start_time": "2022-05-06T15:52:25.635Z"
   },
   {
    "duration": 23,
    "start_time": "2022-05-06T15:52:25.862Z"
   },
   {
    "duration": 15,
    "start_time": "2022-05-06T15:52:26.999Z"
   },
   {
    "duration": 6,
    "start_time": "2022-05-06T15:52:27.462Z"
   },
   {
    "duration": 4,
    "start_time": "2022-05-06T15:52:27.867Z"
   },
   {
    "duration": 5,
    "start_time": "2022-05-06T15:52:28.366Z"
   },
   {
    "duration": 145,
    "start_time": "2022-05-06T15:52:29.035Z"
   },
   {
    "duration": 5,
    "start_time": "2022-05-06T15:52:29.856Z"
   },
   {
    "duration": 40,
    "start_time": "2022-05-06T15:52:31.036Z"
   },
   {
    "duration": 764,
    "start_time": "2022-05-06T15:55:25.791Z"
   },
   {
    "duration": 89,
    "start_time": "2022-05-06T15:55:26.557Z"
   },
   {
    "duration": 15,
    "start_time": "2022-05-06T15:55:26.648Z"
   },
   {
    "duration": 79,
    "start_time": "2022-05-06T15:55:26.823Z"
   },
   {
    "duration": 48,
    "start_time": "2022-05-06T15:55:27.109Z"
   },
   {
    "duration": 24,
    "start_time": "2022-05-06T15:55:27.461Z"
   },
   {
    "duration": 10,
    "start_time": "2022-05-06T15:55:28.949Z"
   },
   {
    "duration": 5,
    "start_time": "2022-05-06T15:55:29.397Z"
   },
   {
    "duration": 3,
    "start_time": "2022-05-06T15:55:30.030Z"
   },
   {
    "duration": 5,
    "start_time": "2022-05-06T15:55:30.668Z"
   },
   {
    "duration": 10,
    "start_time": "2022-05-06T15:55:31.182Z"
   },
   {
    "duration": 48,
    "start_time": "2022-05-06T15:55:32.219Z"
   },
   {
    "duration": 815,
    "start_time": "2022-05-07T09:42:30.903Z"
   },
   {
    "duration": 77,
    "start_time": "2022-05-07T09:42:32.576Z"
   },
   {
    "duration": 15,
    "start_time": "2022-05-07T09:42:32.848Z"
   },
   {
    "duration": 73,
    "start_time": "2022-05-07T09:42:33.051Z"
   },
   {
    "duration": 44,
    "start_time": "2022-05-07T09:42:33.255Z"
   },
   {
    "duration": 17,
    "start_time": "2022-05-07T09:42:33.456Z"
   },
   {
    "duration": 9,
    "start_time": "2022-05-07T09:42:34.647Z"
   },
   {
    "duration": 5,
    "start_time": "2022-05-07T09:42:34.876Z"
   },
   {
    "duration": 3,
    "start_time": "2022-05-07T09:42:36.306Z"
   },
   {
    "duration": 4,
    "start_time": "2022-05-07T09:42:36.532Z"
   },
   {
    "duration": 8,
    "start_time": "2022-05-07T09:42:36.833Z"
   },
   {
    "duration": 48,
    "start_time": "2022-05-07T09:42:37.476Z"
   },
   {
    "duration": 103,
    "start_time": "2022-05-07T09:42:39.032Z"
   },
   {
    "duration": 3427,
    "start_time": "2022-05-07T09:43:20.179Z"
   },
   {
    "duration": 38,
    "start_time": "2022-05-07T09:43:29.792Z"
   },
   {
    "duration": 946,
    "start_time": "2022-05-07T09:44:36.218Z"
   },
   {
    "duration": 4,
    "start_time": "2022-05-07T09:44:39.014Z"
   },
   {
    "duration": 33,
    "start_time": "2022-05-07T09:44:39.609Z"
   },
   {
    "duration": 119,
    "start_time": "2022-05-07T09:47:06.368Z"
   },
   {
    "duration": 690,
    "start_time": "2022-05-07T09:47:17.784Z"
   },
   {
    "duration": 73,
    "start_time": "2022-05-07T09:47:18.476Z"
   },
   {
    "duration": 13,
    "start_time": "2022-05-07T09:47:18.551Z"
   },
   {
    "duration": 73,
    "start_time": "2022-05-07T09:47:18.742Z"
   },
   {
    "duration": 43,
    "start_time": "2022-05-07T09:47:19.007Z"
   },
   {
    "duration": 15,
    "start_time": "2022-05-07T09:47:19.254Z"
   },
   {
    "duration": 10,
    "start_time": "2022-05-07T09:47:22.024Z"
   },
   {
    "duration": 5,
    "start_time": "2022-05-07T09:47:22.649Z"
   },
   {
    "duration": 11,
    "start_time": "2022-05-07T09:47:23.351Z"
   },
   {
    "duration": 5,
    "start_time": "2022-05-07T09:49:52.265Z"
   },
   {
    "duration": 4,
    "start_time": "2022-05-07T09:49:54.529Z"
   },
   {
    "duration": 11,
    "start_time": "2022-05-07T09:50:10.461Z"
   },
   {
    "duration": 55,
    "start_time": "2022-05-07T10:02:41.050Z"
   },
   {
    "duration": 708,
    "start_time": "2022-05-07T10:02:46.163Z"
   },
   {
    "duration": 72,
    "start_time": "2022-05-07T10:02:46.873Z"
   },
   {
    "duration": 16,
    "start_time": "2022-05-07T10:02:46.947Z"
   },
   {
    "duration": 76,
    "start_time": "2022-05-07T10:02:46.965Z"
   },
   {
    "duration": 50,
    "start_time": "2022-05-07T10:02:47.042Z"
   },
   {
    "duration": 15,
    "start_time": "2022-05-07T10:02:47.151Z"
   },
   {
    "duration": 9,
    "start_time": "2022-05-07T10:02:48.890Z"
   },
   {
    "duration": 11,
    "start_time": "2022-05-07T10:02:50.904Z"
   },
   {
    "duration": 7,
    "start_time": "2022-05-07T10:02:51.621Z"
   },
   {
    "duration": 7,
    "start_time": "2022-05-07T10:04:15.257Z"
   },
   {
    "duration": 8,
    "start_time": "2022-05-07T10:05:31.294Z"
   },
   {
    "duration": 7,
    "start_time": "2022-05-07T10:05:42.776Z"
   },
   {
    "duration": 13,
    "start_time": "2022-05-07T10:05:45.189Z"
   },
   {
    "duration": 6,
    "start_time": "2022-05-07T10:05:46.112Z"
   },
   {
    "duration": 782,
    "start_time": "2022-05-07T10:12:46.863Z"
   },
   {
    "duration": 76,
    "start_time": "2022-05-07T10:12:48.172Z"
   },
   {
    "duration": 14,
    "start_time": "2022-05-07T10:12:48.668Z"
   },
   {
    "duration": 83,
    "start_time": "2022-05-07T10:12:49.396Z"
   },
   {
    "duration": 46,
    "start_time": "2022-05-07T10:12:49.952Z"
   },
   {
    "duration": 17,
    "start_time": "2022-05-07T10:12:50.604Z"
   },
   {
    "duration": 11,
    "start_time": "2022-05-07T10:12:53.081Z"
   },
   {
    "duration": 11,
    "start_time": "2022-05-07T10:12:54.029Z"
   },
   {
    "duration": 8,
    "start_time": "2022-05-07T10:12:54.540Z"
   },
   {
    "duration": 6,
    "start_time": "2022-05-07T10:12:55.026Z"
   },
   {
    "duration": 78,
    "start_time": "2022-05-07T10:12:56.403Z"
   },
   {
    "duration": 767,
    "start_time": "2022-05-07T10:14:24.629Z"
   },
   {
    "duration": 78,
    "start_time": "2022-05-07T10:14:25.944Z"
   },
   {
    "duration": 14,
    "start_time": "2022-05-07T10:14:26.207Z"
   },
   {
    "duration": 86,
    "start_time": "2022-05-07T10:14:26.484Z"
   },
   {
    "duration": 96,
    "start_time": "2022-05-07T10:14:26.769Z"
   },
   {
    "duration": 24,
    "start_time": "2022-05-07T10:14:27.027Z"
   },
   {
    "duration": 11,
    "start_time": "2022-05-07T10:14:28.278Z"
   },
   {
    "duration": 14,
    "start_time": "2022-05-07T10:14:28.866Z"
   },
   {
    "duration": 8,
    "start_time": "2022-05-07T10:14:29.258Z"
   },
   {
    "duration": 7,
    "start_time": "2022-05-07T10:14:29.799Z"
   },
   {
    "duration": 4,
    "start_time": "2022-05-07T10:14:30.226Z"
   },
   {
    "duration": 8,
    "start_time": "2022-05-07T10:14:32.117Z"
   },
   {
    "duration": 3521,
    "start_time": "2022-05-07T10:14:34.340Z"
   },
   {
    "duration": 6,
    "start_time": "2022-05-07T10:14:38.224Z"
   },
   {
    "duration": 5,
    "start_time": "2022-05-07T10:14:46.520Z"
   },
   {
    "duration": 6,
    "start_time": "2022-05-07T10:14:47.267Z"
   },
   {
    "duration": 5,
    "start_time": "2022-05-07T10:16:34.672Z"
   },
   {
    "duration": 4,
    "start_time": "2022-05-07T10:16:49.397Z"
   },
   {
    "duration": 4,
    "start_time": "2022-05-07T10:18:21.747Z"
   },
   {
    "duration": 4,
    "start_time": "2022-05-07T10:18:24.684Z"
   },
   {
    "duration": 9,
    "start_time": "2022-05-07T10:18:27.230Z"
   },
   {
    "duration": 5,
    "start_time": "2022-05-07T10:18:29.258Z"
   },
   {
    "duration": 4,
    "start_time": "2022-05-07T10:18:31.822Z"
   },
   {
    "duration": 4,
    "start_time": "2022-05-07T10:18:34.882Z"
   },
   {
    "duration": 4,
    "start_time": "2022-05-07T10:18:37.422Z"
   },
   {
    "duration": 5,
    "start_time": "2022-05-07T10:18:45.919Z"
   },
   {
    "duration": 9,
    "start_time": "2022-05-07T10:29:02.948Z"
   },
   {
    "duration": 644,
    "start_time": "2022-05-07T10:29:42.498Z"
   },
   {
    "duration": 77,
    "start_time": "2022-05-07T10:29:43.144Z"
   },
   {
    "duration": 15,
    "start_time": "2022-05-07T10:29:43.223Z"
   },
   {
    "duration": 108,
    "start_time": "2022-05-07T10:29:43.256Z"
   },
   {
    "duration": 66,
    "start_time": "2022-05-07T10:29:43.402Z"
   },
   {
    "duration": 25,
    "start_time": "2022-05-07T10:29:43.600Z"
   },
   {
    "duration": 14,
    "start_time": "2022-05-07T10:29:44.704Z"
   },
   {
    "duration": 10,
    "start_time": "2022-05-07T10:29:46.179Z"
   },
   {
    "duration": 11,
    "start_time": "2022-05-07T10:29:46.751Z"
   },
   {
    "duration": 10,
    "start_time": "2022-05-07T10:29:47.331Z"
   },
   {
    "duration": 914,
    "start_time": "2022-05-07T10:31:31.826Z"
   },
   {
    "duration": 102,
    "start_time": "2022-05-07T10:31:32.743Z"
   },
   {
    "duration": 23,
    "start_time": "2022-05-07T10:31:32.847Z"
   },
   {
    "duration": 97,
    "start_time": "2022-05-07T10:31:32.873Z"
   },
   {
    "duration": 45,
    "start_time": "2022-05-07T10:31:32.972Z"
   },
   {
    "duration": 37,
    "start_time": "2022-05-07T10:31:33.019Z"
   },
   {
    "duration": 10,
    "start_time": "2022-05-07T10:31:33.078Z"
   },
   {
    "duration": 14,
    "start_time": "2022-05-07T10:31:33.251Z"
   },
   {
    "duration": 7,
    "start_time": "2022-05-07T10:31:33.331Z"
   },
   {
    "duration": 7,
    "start_time": "2022-05-07T10:31:33.418Z"
   },
   {
    "duration": 4,
    "start_time": "2022-05-07T10:31:33.499Z"
   },
   {
    "duration": 6,
    "start_time": "2022-05-07T10:31:33.582Z"
   },
   {
    "duration": 5154,
    "start_time": "2022-05-07T10:31:33.680Z"
   },
   {
    "duration": 33,
    "start_time": "2022-05-07T10:31:38.837Z"
   },
   {
    "duration": 6,
    "start_time": "2022-05-07T10:31:38.873Z"
   },
   {
    "duration": 2002,
    "start_time": "2022-05-07T10:32:45.810Z"
   },
   {
    "duration": 5,
    "start_time": "2022-05-07T10:32:47.815Z"
   },
   {
    "duration": 74,
    "start_time": "2022-05-07T10:36:03.971Z"
   },
   {
    "duration": 9,
    "start_time": "2022-05-07T10:36:47.589Z"
   },
   {
    "duration": 8,
    "start_time": "2022-05-07T10:38:51.219Z"
   },
   {
    "duration": 7,
    "start_time": "2022-05-07T10:39:34.009Z"
   },
   {
    "duration": 57,
    "start_time": "2022-05-07T10:40:13.144Z"
   },
   {
    "duration": 708,
    "start_time": "2022-05-07T10:40:24.486Z"
   },
   {
    "duration": 76,
    "start_time": "2022-05-07T10:40:25.702Z"
   },
   {
    "duration": 14,
    "start_time": "2022-05-07T10:40:25.950Z"
   },
   {
    "duration": 105,
    "start_time": "2022-05-07T10:40:26.159Z"
   },
   {
    "duration": 65,
    "start_time": "2022-05-07T10:40:26.377Z"
   },
   {
    "duration": 23,
    "start_time": "2022-05-07T10:40:26.600Z"
   },
   {
    "duration": 14,
    "start_time": "2022-05-07T10:40:27.822Z"
   },
   {
    "duration": 5,
    "start_time": "2022-05-07T10:40:29.123Z"
   },
   {
    "duration": 4394,
    "start_time": "2022-05-07T10:40:29.711Z"
   },
   {
    "duration": 2082,
    "start_time": "2022-05-07T10:40:34.107Z"
   },
   {
    "duration": 10,
    "start_time": "2022-05-07T10:40:36.192Z"
   },
   {
    "duration": 95,
    "start_time": "2022-05-07T10:40:36.205Z"
   },
   {
    "duration": 0,
    "start_time": "2022-05-07T10:40:36.302Z"
   },
   {
    "duration": 0,
    "start_time": "2022-05-07T10:40:36.303Z"
   },
   {
    "duration": 12,
    "start_time": "2022-05-07T10:41:38.598Z"
   },
   {
    "duration": 9,
    "start_time": "2022-05-07T10:41:39.936Z"
   },
   {
    "duration": 160,
    "start_time": "2022-05-07T10:41:56.025Z"
   },
   {
    "duration": 138,
    "start_time": "2022-05-07T10:42:16.875Z"
   },
   {
    "duration": 19,
    "start_time": "2022-05-07T10:44:17.300Z"
   },
   {
    "duration": 6,
    "start_time": "2022-05-07T10:44:45.702Z"
   },
   {
    "duration": 130,
    "start_time": "2022-05-07T10:45:03.770Z"
   },
   {
    "duration": 200,
    "start_time": "2022-05-07T10:45:29.904Z"
   },
   {
    "duration": 143,
    "start_time": "2022-05-07T10:45:36.527Z"
   },
   {
    "duration": 137,
    "start_time": "2022-05-07T10:45:41.076Z"
   },
   {
    "duration": 139,
    "start_time": "2022-05-07T10:46:39.032Z"
   },
   {
    "duration": 206,
    "start_time": "2022-05-07T10:47:35.369Z"
   },
   {
    "duration": 174,
    "start_time": "2022-05-07T10:48:24.314Z"
   },
   {
    "duration": 180,
    "start_time": "2022-05-07T10:48:33.895Z"
   },
   {
    "duration": 11,
    "start_time": "2022-05-07T10:48:56.932Z"
   },
   {
    "duration": 10,
    "start_time": "2022-05-07T10:53:26.024Z"
   },
   {
    "duration": 10,
    "start_time": "2022-05-07T10:53:40.874Z"
   },
   {
    "duration": 15,
    "start_time": "2022-05-07T10:55:30.628Z"
   },
   {
    "duration": 10,
    "start_time": "2022-05-07T11:02:28.981Z"
   },
   {
    "duration": 14,
    "start_time": "2022-05-07T11:02:37.470Z"
   },
   {
    "duration": 10,
    "start_time": "2022-05-07T11:03:11.811Z"
   },
   {
    "duration": 6,
    "start_time": "2022-05-07T11:03:58.664Z"
   },
   {
    "duration": 9,
    "start_time": "2022-05-07T11:04:00.315Z"
   },
   {
    "duration": 13,
    "start_time": "2022-05-07T11:04:16.059Z"
   },
   {
    "duration": 10,
    "start_time": "2022-05-07T11:04:47.159Z"
   },
   {
    "duration": 12,
    "start_time": "2022-05-07T11:06:13.581Z"
   },
   {
    "duration": 3,
    "start_time": "2022-05-07T11:11:16.245Z"
   },
   {
    "duration": 10,
    "start_time": "2022-05-07T11:11:17.988Z"
   },
   {
    "duration": 7,
    "start_time": "2022-05-07T11:11:28.968Z"
   },
   {
    "duration": 8,
    "start_time": "2022-05-07T11:12:27.333Z"
   },
   {
    "duration": 36,
    "start_time": "2022-05-07T11:12:33.196Z"
   },
   {
    "duration": 2228,
    "start_time": "2022-05-07T11:15:29.861Z"
   },
   {
    "duration": 8,
    "start_time": "2022-05-07T11:15:39.513Z"
   },
   {
    "duration": 2190,
    "start_time": "2022-05-07T11:15:41.112Z"
   },
   {
    "duration": 4,
    "start_time": "2022-05-07T11:16:12.863Z"
   },
   {
    "duration": 720,
    "start_time": "2022-05-07T11:17:50.123Z"
   },
   {
    "duration": 70,
    "start_time": "2022-05-07T11:17:50.845Z"
   },
   {
    "duration": 13,
    "start_time": "2022-05-07T11:17:51.326Z"
   },
   {
    "duration": 73,
    "start_time": "2022-05-07T11:17:51.586Z"
   },
   {
    "duration": 48,
    "start_time": "2022-05-07T11:17:51.828Z"
   },
   {
    "duration": 15,
    "start_time": "2022-05-07T11:17:52.327Z"
   },
   {
    "duration": 10,
    "start_time": "2022-05-07T11:17:52.750Z"
   },
   {
    "duration": 8,
    "start_time": "2022-05-07T11:17:52.915Z"
   },
   {
    "duration": 3,
    "start_time": "2022-05-07T11:17:53.358Z"
   },
   {
    "duration": 3382,
    "start_time": "2022-05-07T11:17:53.861Z"
   },
   {
    "duration": 1962,
    "start_time": "2022-05-07T11:17:57.245Z"
   },
   {
    "duration": 10,
    "start_time": "2022-05-07T11:17:59.209Z"
   },
   {
    "duration": 10,
    "start_time": "2022-05-07T11:17:59.221Z"
   },
   {
    "duration": 26,
    "start_time": "2022-05-07T11:17:59.232Z"
   },
   {
    "duration": 9,
    "start_time": "2022-05-07T11:17:59.259Z"
   },
   {
    "duration": 15,
    "start_time": "2022-05-07T11:17:59.269Z"
   },
   {
    "duration": 12,
    "start_time": "2022-05-07T11:17:59.285Z"
   },
   {
    "duration": 8,
    "start_time": "2022-05-07T11:17:59.299Z"
   },
   {
    "duration": 7,
    "start_time": "2022-05-07T11:17:59.309Z"
   },
   {
    "duration": 9,
    "start_time": "2022-05-07T11:17:59.317Z"
   },
   {
    "duration": 7,
    "start_time": "2022-05-07T11:17:59.355Z"
   },
   {
    "duration": 5,
    "start_time": "2022-05-07T11:17:59.364Z"
   },
   {
    "duration": 2062,
    "start_time": "2022-05-07T11:17:59.370Z"
   },
   {
    "duration": 8,
    "start_time": "2022-05-07T11:18:26.601Z"
   },
   {
    "duration": 7,
    "start_time": "2022-05-07T11:18:42.003Z"
   },
   {
    "duration": 49,
    "start_time": "2022-05-07T12:11:55.845Z"
   },
   {
    "duration": 696,
    "start_time": "2022-05-07T12:12:00.949Z"
   },
   {
    "duration": 82,
    "start_time": "2022-05-07T12:12:01.647Z"
   },
   {
    "duration": 14,
    "start_time": "2022-05-07T12:12:01.731Z"
   },
   {
    "duration": 114,
    "start_time": "2022-05-07T12:12:01.747Z"
   },
   {
    "duration": 46,
    "start_time": "2022-05-07T12:12:01.863Z"
   },
   {
    "duration": 16,
    "start_time": "2022-05-07T12:12:01.911Z"
   },
   {
    "duration": 10,
    "start_time": "2022-05-07T12:12:02.200Z"
   },
   {
    "duration": 9,
    "start_time": "2022-05-07T12:12:02.382Z"
   },
   {
    "duration": 4,
    "start_time": "2022-05-07T12:12:02.537Z"
   },
   {
    "duration": 3529,
    "start_time": "2022-05-07T12:12:02.621Z"
   },
   {
    "duration": 1946,
    "start_time": "2022-05-07T12:12:06.152Z"
   },
   {
    "duration": 9,
    "start_time": "2022-05-07T12:12:08.100Z"
   },
   {
    "duration": 31,
    "start_time": "2022-05-07T12:12:08.112Z"
   },
   {
    "duration": 12,
    "start_time": "2022-05-07T12:12:08.145Z"
   },
   {
    "duration": 34,
    "start_time": "2022-05-07T12:12:08.159Z"
   },
   {
    "duration": 18,
    "start_time": "2022-05-07T12:12:08.195Z"
   },
   {
    "duration": 34,
    "start_time": "2022-05-07T12:12:08.215Z"
   },
   {
    "duration": 13,
    "start_time": "2022-05-07T12:12:08.251Z"
   },
   {
    "duration": 21,
    "start_time": "2022-05-07T12:12:08.266Z"
   },
   {
    "duration": 32,
    "start_time": "2022-05-07T12:12:08.289Z"
   },
   {
    "duration": 22,
    "start_time": "2022-05-07T12:12:08.323Z"
   },
   {
    "duration": 33,
    "start_time": "2022-05-07T12:12:08.347Z"
   },
   {
    "duration": 62,
    "start_time": "2022-05-07T12:12:08.382Z"
   },
   {
    "duration": 8,
    "start_time": "2022-05-07T12:12:41.483Z"
   },
   {
    "duration": 8,
    "start_time": "2022-05-07T12:22:15.715Z"
   },
   {
    "duration": 4,
    "start_time": "2022-05-07T12:22:16.341Z"
   },
   {
    "duration": 490,
    "start_time": "2022-05-07T12:22:17.647Z"
   },
   {
    "duration": 116,
    "start_time": "2022-05-07T12:22:58.228Z"
   },
   {
    "duration": 126,
    "start_time": "2022-05-07T12:23:08.892Z"
   },
   {
    "duration": 132,
    "start_time": "2022-05-07T12:23:14.933Z"
   },
   {
    "duration": 126,
    "start_time": "2022-05-07T12:23:30.027Z"
   },
   {
    "duration": 3,
    "start_time": "2022-05-07T12:24:09.186Z"
   },
   {
    "duration": 4,
    "start_time": "2022-05-07T12:25:04.873Z"
   },
   {
    "duration": 24,
    "start_time": "2022-05-07T12:25:06.252Z"
   },
   {
    "duration": 472,
    "start_time": "2022-05-07T12:25:30.138Z"
   },
   {
    "duration": 4,
    "start_time": "2022-05-07T12:26:09.607Z"
   },
   {
    "duration": 504,
    "start_time": "2022-05-07T12:26:10.463Z"
   },
   {
    "duration": 4,
    "start_time": "2022-05-07T12:27:07.664Z"
   },
   {
    "duration": 4,
    "start_time": "2022-05-07T12:27:08.476Z"
   },
   {
    "duration": 662,
    "start_time": "2022-05-07T12:27:08.974Z"
   },
   {
    "duration": 4,
    "start_time": "2022-05-07T12:30:45.289Z"
   },
   {
    "duration": 4,
    "start_time": "2022-05-07T12:30:45.950Z"
   },
   {
    "duration": 454,
    "start_time": "2022-05-07T12:30:46.494Z"
   },
   {
    "duration": 662,
    "start_time": "2022-05-07T12:34:39.981Z"
   },
   {
    "duration": 73,
    "start_time": "2022-05-07T12:34:40.645Z"
   },
   {
    "duration": 14,
    "start_time": "2022-05-07T12:34:40.719Z"
   },
   {
    "duration": 90,
    "start_time": "2022-05-07T12:34:40.735Z"
   },
   {
    "duration": 60,
    "start_time": "2022-05-07T12:34:40.827Z"
   },
   {
    "duration": 15,
    "start_time": "2022-05-07T12:34:40.889Z"
   },
   {
    "duration": 10,
    "start_time": "2022-05-07T12:34:41.236Z"
   },
   {
    "duration": 9,
    "start_time": "2022-05-07T12:34:41.399Z"
   },
   {
    "duration": 3,
    "start_time": "2022-05-07T12:34:41.570Z"
   },
   {
    "duration": 3496,
    "start_time": "2022-05-07T12:34:41.654Z"
   },
   {
    "duration": 1841,
    "start_time": "2022-05-07T12:34:45.156Z"
   },
   {
    "duration": 10,
    "start_time": "2022-05-07T12:34:46.999Z"
   },
   {
    "duration": 22,
    "start_time": "2022-05-07T12:34:47.012Z"
   },
   {
    "duration": 19,
    "start_time": "2022-05-07T12:34:47.036Z"
   },
   {
    "duration": 22,
    "start_time": "2022-05-07T12:34:47.057Z"
   },
   {
    "duration": 22,
    "start_time": "2022-05-07T12:34:47.081Z"
   },
   {
    "duration": 19,
    "start_time": "2022-05-07T12:34:47.105Z"
   },
   {
    "duration": 21,
    "start_time": "2022-05-07T12:34:47.126Z"
   },
   {
    "duration": 21,
    "start_time": "2022-05-07T12:34:47.150Z"
   },
   {
    "duration": 17,
    "start_time": "2022-05-07T12:34:47.173Z"
   },
   {
    "duration": 24,
    "start_time": "2022-05-07T12:34:47.191Z"
   },
   {
    "duration": 13,
    "start_time": "2022-05-07T12:34:47.217Z"
   },
   {
    "duration": 63,
    "start_time": "2022-05-07T12:34:47.232Z"
   },
   {
    "duration": 8,
    "start_time": "2022-05-07T12:34:47.297Z"
   },
   {
    "duration": 116,
    "start_time": "2022-05-07T12:34:47.307Z"
   },
   {
    "duration": 1921,
    "start_time": "2022-05-07T12:35:14.773Z"
   },
   {
    "duration": 4,
    "start_time": "2022-05-07T12:36:27.729Z"
   },
   {
    "duration": 1777,
    "start_time": "2022-05-07T12:36:28.504Z"
   },
   {
    "duration": 1854,
    "start_time": "2022-05-07T12:37:07.567Z"
   },
   {
    "duration": 5,
    "start_time": "2022-05-07T12:37:29.869Z"
   },
   {
    "duration": 5,
    "start_time": "2022-05-07T12:37:42.424Z"
   },
   {
    "duration": 1826,
    "start_time": "2022-05-07T12:38:20.896Z"
   },
   {
    "duration": 2020,
    "start_time": "2022-05-07T12:38:45.939Z"
   },
   {
    "duration": 4,
    "start_time": "2022-05-07T12:39:03.382Z"
   },
   {
    "duration": 4,
    "start_time": "2022-05-07T12:39:53.265Z"
   },
   {
    "duration": 1914,
    "start_time": "2022-05-07T12:40:16.286Z"
   },
   {
    "duration": 5,
    "start_time": "2022-05-07T12:42:16.593Z"
   },
   {
    "duration": 7,
    "start_time": "2022-05-07T12:43:12.591Z"
   },
   {
    "duration": 655,
    "start_time": "2022-05-07T12:44:06.952Z"
   },
   {
    "duration": 74,
    "start_time": "2022-05-07T12:44:08.022Z"
   },
   {
    "duration": 14,
    "start_time": "2022-05-07T12:44:08.284Z"
   },
   {
    "duration": 77,
    "start_time": "2022-05-07T12:44:08.488Z"
   },
   {
    "duration": 44,
    "start_time": "2022-05-07T12:44:08.695Z"
   },
   {
    "duration": 15,
    "start_time": "2022-05-07T12:44:08.909Z"
   },
   {
    "duration": 9,
    "start_time": "2022-05-07T12:44:09.923Z"
   },
   {
    "duration": 9,
    "start_time": "2022-05-07T12:44:10.323Z"
   },
   {
    "duration": 4,
    "start_time": "2022-05-07T12:44:10.952Z"
   },
   {
    "duration": 3433,
    "start_time": "2022-05-07T12:44:11.343Z"
   },
   {
    "duration": 1965,
    "start_time": "2022-05-07T12:44:14.778Z"
   },
   {
    "duration": 18,
    "start_time": "2022-05-07T12:44:16.745Z"
   },
   {
    "duration": 10,
    "start_time": "2022-05-07T12:44:16.766Z"
   },
   {
    "duration": 11,
    "start_time": "2022-05-07T12:44:16.777Z"
   },
   {
    "duration": 9,
    "start_time": "2022-05-07T12:44:16.790Z"
   },
   {
    "duration": 8,
    "start_time": "2022-05-07T12:44:16.801Z"
   },
   {
    "duration": 13,
    "start_time": "2022-05-07T12:44:16.810Z"
   },
   {
    "duration": 8,
    "start_time": "2022-05-07T12:44:16.855Z"
   },
   {
    "duration": 8,
    "start_time": "2022-05-07T12:44:16.865Z"
   },
   {
    "duration": 7,
    "start_time": "2022-05-07T12:44:16.874Z"
   },
   {
    "duration": 8,
    "start_time": "2022-05-07T12:44:16.883Z"
   },
   {
    "duration": 4,
    "start_time": "2022-05-07T12:44:16.893Z"
   },
   {
    "duration": 86,
    "start_time": "2022-05-07T12:44:16.904Z"
   },
   {
    "duration": 10,
    "start_time": "2022-05-07T12:44:17.500Z"
   },
   {
    "duration": 3,
    "start_time": "2022-05-07T12:44:18.227Z"
   },
   {
    "duration": 13,
    "start_time": "2022-05-07T12:44:18.727Z"
   },
   {
    "duration": 5,
    "start_time": "2022-05-07T12:44:20.310Z"
   },
   {
    "duration": 56,
    "start_time": "2022-05-07T12:44:21.846Z"
   },
   {
    "duration": 80,
    "start_time": "2022-05-07T12:46:01.661Z"
   },
   {
    "duration": 11,
    "start_time": "2022-05-07T12:46:18.987Z"
   },
   {
    "duration": 18,
    "start_time": "2022-05-07T12:46:47.327Z"
   },
   {
    "duration": 4,
    "start_time": "2022-05-07T12:47:15.068Z"
   },
   {
    "duration": 4,
    "start_time": "2022-05-07T12:47:24.673Z"
   },
   {
    "duration": 8,
    "start_time": "2022-05-07T12:47:39.166Z"
   },
   {
    "duration": 6,
    "start_time": "2022-05-07T12:49:24.781Z"
   },
   {
    "duration": 8,
    "start_time": "2022-05-07T12:51:03.199Z"
   },
   {
    "duration": 40,
    "start_time": "2022-05-07T12:51:09.502Z"
   },
   {
    "duration": 8,
    "start_time": "2022-05-07T12:58:30.764Z"
   },
   {
    "duration": 32915,
    "start_time": "2022-05-07T13:00:29.336Z"
   },
   {
    "duration": 7,
    "start_time": "2022-05-07T13:01:24.152Z"
   },
   {
    "duration": 53,
    "start_time": "2022-05-07T13:01:27.572Z"
   },
   {
    "duration": 113,
    "start_time": "2022-05-07T13:08:33.670Z"
   },
   {
    "duration": 141,
    "start_time": "2022-05-07T13:09:34.073Z"
   },
   {
    "duration": 38535,
    "start_time": "2022-05-07T13:09:46.119Z"
   },
   {
    "duration": 8,
    "start_time": "2022-05-07T13:13:26.322Z"
   },
   {
    "duration": 47,
    "start_time": "2022-05-07T13:13:27.522Z"
   },
   {
    "duration": 5,
    "start_time": "2022-05-07T13:15:37.525Z"
   },
   {
    "duration": 36,
    "start_time": "2022-05-07T13:15:37.980Z"
   },
   {
    "duration": 1063,
    "start_time": "2022-05-08T14:46:38.425Z"
   },
   {
    "duration": 117,
    "start_time": "2022-05-08T14:46:42.492Z"
   },
   {
    "duration": 16,
    "start_time": "2022-05-08T14:46:42.866Z"
   },
   {
    "duration": 103,
    "start_time": "2022-05-08T14:46:43.267Z"
   },
   {
    "duration": 40,
    "start_time": "2022-05-08T14:46:43.844Z"
   },
   {
    "duration": 18,
    "start_time": "2022-05-08T14:46:44.380Z"
   },
   {
    "duration": 10,
    "start_time": "2022-05-08T14:46:46.725Z"
   },
   {
    "duration": 9,
    "start_time": "2022-05-08T14:46:47.778Z"
   },
   {
    "duration": 20,
    "start_time": "2022-05-08T14:46:48.268Z"
   },
   {
    "duration": 75,
    "start_time": "2022-05-08T14:46:54.293Z"
   },
   {
    "duration": 18,
    "start_time": "2022-05-08T14:47:01.343Z"
   },
   {
    "duration": 26,
    "start_time": "2022-05-08T14:47:06.300Z"
   },
   {
    "duration": 10,
    "start_time": "2022-05-08T14:48:06.426Z"
   },
   {
    "duration": 19,
    "start_time": "2022-05-08T14:48:17.918Z"
   },
   {
    "duration": 13,
    "start_time": "2022-05-08T14:51:19.752Z"
   },
   {
    "duration": 21,
    "start_time": "2022-05-08T14:51:25.427Z"
   },
   {
    "duration": 10,
    "start_time": "2022-05-08T14:51:47.078Z"
   },
   {
    "duration": 196,
    "start_time": "2022-05-08T14:52:09.823Z"
   },
   {
    "duration": 51,
    "start_time": "2022-05-08T14:52:15.573Z"
   },
   {
    "duration": 7,
    "start_time": "2022-05-08T14:52:34.257Z"
   },
   {
    "duration": 10,
    "start_time": "2022-05-08T14:54:28.529Z"
   },
   {
    "duration": 8,
    "start_time": "2022-05-08T14:55:02.446Z"
   },
   {
    "duration": 20,
    "start_time": "2022-05-08T14:55:12.517Z"
   },
   {
    "duration": 58,
    "start_time": "2022-05-08T14:55:35.249Z"
   },
   {
    "duration": 11,
    "start_time": "2022-05-08T14:55:52.740Z"
   },
   {
    "duration": 9,
    "start_time": "2022-05-08T14:55:56.325Z"
   },
   {
    "duration": 174,
    "start_time": "2022-05-08T14:56:55.618Z"
   },
   {
    "duration": 19,
    "start_time": "2022-05-08T14:57:03.920Z"
   },
   {
    "duration": 3580,
    "start_time": "2022-05-08T14:57:15.829Z"
   },
   {
    "duration": 16,
    "start_time": "2022-05-08T14:57:55.301Z"
   },
   {
    "duration": 3183,
    "start_time": "2022-05-08T14:58:18.492Z"
   },
   {
    "duration": 3223,
    "start_time": "2022-05-08T14:58:29.653Z"
   },
   {
    "duration": 8,
    "start_time": "2022-05-08T14:59:01.028Z"
   },
   {
    "duration": 2,
    "start_time": "2022-05-08T14:59:03.140Z"
   },
   {
    "duration": 6603,
    "start_time": "2022-05-08T14:59:03.629Z"
   },
   {
    "duration": 7515,
    "start_time": "2022-05-08T14:59:34.854Z"
   },
   {
    "duration": 12,
    "start_time": "2022-05-08T14:59:56.028Z"
   },
   {
    "duration": 863,
    "start_time": "2022-05-08T15:02:25.081Z"
   },
   {
    "duration": 119,
    "start_time": "2022-05-08T15:02:26.631Z"
   },
   {
    "duration": 15,
    "start_time": "2022-05-08T15:02:27.248Z"
   },
   {
    "duration": 107,
    "start_time": "2022-05-08T15:02:27.776Z"
   },
   {
    "duration": 60,
    "start_time": "2022-05-08T15:02:28.522Z"
   },
   {
    "duration": 22,
    "start_time": "2022-05-08T15:02:29.223Z"
   },
   {
    "duration": 9,
    "start_time": "2022-05-08T15:02:31.552Z"
   },
   {
    "duration": 12,
    "start_time": "2022-05-08T15:02:32.564Z"
   },
   {
    "duration": 20,
    "start_time": "2022-05-08T15:02:33.255Z"
   },
   {
    "duration": 12,
    "start_time": "2022-05-08T15:02:43.123Z"
   },
   {
    "duration": 9,
    "start_time": "2022-05-08T15:02:44.584Z"
   },
   {
    "duration": 7129,
    "start_time": "2022-05-08T15:02:45.291Z"
   },
   {
    "duration": 10,
    "start_time": "2022-05-08T15:02:52.424Z"
   },
   {
    "duration": 7101,
    "start_time": "2022-05-08T15:02:56.140Z"
   },
   {
    "duration": 14,
    "start_time": "2022-05-08T15:03:29.499Z"
   },
   {
    "duration": 9,
    "start_time": "2022-05-08T15:03:30.147Z"
   },
   {
    "duration": 10,
    "start_time": "2022-05-08T15:03:43.782Z"
   },
   {
    "duration": 10,
    "start_time": "2022-05-08T15:03:44.262Z"
   },
   {
    "duration": 16,
    "start_time": "2022-05-08T15:03:46.193Z"
   },
   {
    "duration": 24,
    "start_time": "2022-05-08T15:04:14.893Z"
   },
   {
    "duration": 10,
    "start_time": "2022-05-08T15:04:31.627Z"
   },
   {
    "duration": 5,
    "start_time": "2022-05-08T15:04:32.583Z"
   },
   {
    "duration": 10,
    "start_time": "2022-05-08T15:10:37.629Z"
   },
   {
    "duration": 4,
    "start_time": "2022-05-08T15:10:38.451Z"
   },
   {
    "duration": 17,
    "start_time": "2022-05-08T15:10:48.542Z"
   },
   {
    "duration": 9,
    "start_time": "2022-05-08T15:12:24.725Z"
   },
   {
    "duration": 10,
    "start_time": "2022-05-08T15:12:57.189Z"
   },
   {
    "duration": 37,
    "start_time": "2022-05-08T15:13:14.148Z"
   },
   {
    "duration": 8,
    "start_time": "2022-05-08T15:14:31.990Z"
   },
   {
    "duration": 4,
    "start_time": "2022-05-08T15:14:32.826Z"
   },
   {
    "duration": 44,
    "start_time": "2022-05-08T15:14:34.025Z"
   },
   {
    "duration": 7,
    "start_time": "2022-05-08T15:18:41.848Z"
   },
   {
    "duration": 8,
    "start_time": "2022-05-08T15:19:20.067Z"
   },
   {
    "duration": 15,
    "start_time": "2022-05-08T15:22:05.799Z"
   },
   {
    "duration": 154,
    "start_time": "2022-05-08T15:22:33.195Z"
   },
   {
    "duration": 11,
    "start_time": "2022-05-08T15:22:42.269Z"
   },
   {
    "duration": 192,
    "start_time": "2022-05-08T15:23:21.096Z"
   },
   {
    "duration": 186,
    "start_time": "2022-05-08T15:23:44.221Z"
   },
   {
    "duration": 172,
    "start_time": "2022-05-08T15:23:53.375Z"
   },
   {
    "duration": 216,
    "start_time": "2022-05-08T15:24:11.825Z"
   },
   {
    "duration": 201,
    "start_time": "2022-05-08T15:24:17.247Z"
   },
   {
    "duration": 167,
    "start_time": "2022-05-08T15:24:21.573Z"
   },
   {
    "duration": 167,
    "start_time": "2022-05-08T15:25:26.522Z"
   },
   {
    "duration": 216,
    "start_time": "2022-05-08T15:25:30.367Z"
   },
   {
    "duration": 177,
    "start_time": "2022-05-08T15:25:35.486Z"
   },
   {
    "duration": 190,
    "start_time": "2022-05-08T15:25:42.886Z"
   },
   {
    "duration": 10,
    "start_time": "2022-05-08T15:25:56.598Z"
   },
   {
    "duration": 72674,
    "start_time": "2022-05-08T15:28:13.317Z"
   },
   {
    "duration": 8,
    "start_time": "2022-05-08T15:29:29.317Z"
   },
   {
    "duration": 56,
    "start_time": "2022-05-08T15:29:29.775Z"
   },
   {
    "duration": 3,
    "start_time": "2022-05-08T15:30:15.440Z"
   },
   {
    "duration": 41,
    "start_time": "2022-05-08T15:30:16.004Z"
   },
   {
    "duration": 67,
    "start_time": "2022-05-08T15:30:43.017Z"
   },
   {
    "duration": 48,
    "start_time": "2022-05-08T15:30:43.421Z"
   },
   {
    "duration": 15,
    "start_time": "2022-05-08T15:30:49.055Z"
   },
   {
    "duration": 795,
    "start_time": "2022-05-08T15:31:00.622Z"
   },
   {
    "duration": 73,
    "start_time": "2022-05-08T15:31:01.419Z"
   },
   {
    "duration": 16,
    "start_time": "2022-05-08T15:31:01.494Z"
   },
   {
    "duration": 114,
    "start_time": "2022-05-08T15:31:01.513Z"
   },
   {
    "duration": 61,
    "start_time": "2022-05-08T15:31:01.629Z"
   },
   {
    "duration": 29,
    "start_time": "2022-05-08T15:31:01.692Z"
   },
   {
    "duration": 12,
    "start_time": "2022-05-08T15:31:01.879Z"
   },
   {
    "duration": 7,
    "start_time": "2022-05-08T15:31:02.042Z"
   },
   {
    "duration": 11,
    "start_time": "2022-05-08T15:31:02.124Z"
   },
   {
    "duration": 11,
    "start_time": "2022-05-08T15:31:02.292Z"
   },
   {
    "duration": 6744,
    "start_time": "2022-05-08T15:31:02.377Z"
   },
   {
    "duration": 10,
    "start_time": "2022-05-08T15:31:09.123Z"
   },
   {
    "duration": 7133,
    "start_time": "2022-05-08T15:31:09.135Z"
   },
   {
    "duration": 8,
    "start_time": "2022-05-08T15:31:16.270Z"
   },
   {
    "duration": 22,
    "start_time": "2022-05-08T15:31:16.280Z"
   },
   {
    "duration": 28,
    "start_time": "2022-05-08T15:31:16.303Z"
   },
   {
    "duration": 9,
    "start_time": "2022-05-08T15:31:16.333Z"
   },
   {
    "duration": 15,
    "start_time": "2022-05-08T15:31:16.343Z"
   },
   {
    "duration": 7,
    "start_time": "2022-05-08T15:31:16.359Z"
   },
   {
    "duration": 7,
    "start_time": "2022-05-08T15:31:16.368Z"
   },
   {
    "duration": 35,
    "start_time": "2022-05-08T15:31:16.377Z"
   },
   {
    "duration": 16,
    "start_time": "2022-05-08T15:31:16.414Z"
   },
   {
    "duration": 9,
    "start_time": "2022-05-08T15:31:16.432Z"
   },
   {
    "duration": 39,
    "start_time": "2022-05-08T15:31:16.443Z"
   },
   {
    "duration": 12,
    "start_time": "2022-05-08T15:31:16.500Z"
   },
   {
    "duration": 17,
    "start_time": "2022-05-08T15:31:16.514Z"
   },
   {
    "duration": 13,
    "start_time": "2022-05-08T15:31:16.533Z"
   },
   {
    "duration": 6,
    "start_time": "2022-05-08T15:31:16.548Z"
   },
   {
    "duration": 46,
    "start_time": "2022-05-08T15:31:16.556Z"
   },
   {
    "duration": 68806,
    "start_time": "2022-05-08T15:31:16.603Z"
   },
   {
    "duration": 7,
    "start_time": "2022-05-08T15:32:25.411Z"
   },
   {
    "duration": 113,
    "start_time": "2022-05-08T15:32:25.420Z"
   },
   {
    "duration": 0,
    "start_time": "2022-05-08T15:32:25.534Z"
   },
   {
    "duration": 0,
    "start_time": "2022-05-08T15:32:25.536Z"
   },
   {
    "duration": 0,
    "start_time": "2022-05-08T15:32:25.537Z"
   },
   {
    "duration": 0,
    "start_time": "2022-05-08T15:32:25.538Z"
   },
   {
    "duration": 0,
    "start_time": "2022-05-08T15:32:25.539Z"
   },
   {
    "duration": 0,
    "start_time": "2022-05-08T15:32:25.540Z"
   },
   {
    "duration": 0,
    "start_time": "2022-05-08T15:32:25.541Z"
   },
   {
    "duration": 6,
    "start_time": "2022-05-08T15:34:27.444Z"
   },
   {
    "duration": 38,
    "start_time": "2022-05-08T15:34:28.317Z"
   },
   {
    "duration": 9,
    "start_time": "2022-05-08T15:35:14.933Z"
   },
   {
    "duration": 28,
    "start_time": "2022-05-08T15:36:19.166Z"
   },
   {
    "duration": 6,
    "start_time": "2022-05-08T15:36:26.491Z"
   },
   {
    "duration": 14,
    "start_time": "2022-05-08T15:36:41.487Z"
   },
   {
    "duration": 3,
    "start_time": "2022-05-08T15:37:11.886Z"
   },
   {
    "duration": 3,
    "start_time": "2022-05-08T15:37:15.264Z"
   },
   {
    "duration": 4,
    "start_time": "2022-05-08T15:37:28.908Z"
   },
   {
    "duration": 44,
    "start_time": "2022-05-08T15:37:35.274Z"
   },
   {
    "duration": 4,
    "start_time": "2022-05-08T15:37:41.598Z"
   },
   {
    "duration": 11,
    "start_time": "2022-05-08T15:37:42.497Z"
   },
   {
    "duration": 49,
    "start_time": "2022-05-08T15:37:46.138Z"
   },
   {
    "duration": 2474,
    "start_time": "2022-05-08T15:38:24.352Z"
   },
   {
    "duration": 2540,
    "start_time": "2022-05-08T15:38:37.085Z"
   },
   {
    "duration": 2793,
    "start_time": "2022-05-08T15:38:44.053Z"
   },
   {
    "duration": 2706,
    "start_time": "2022-05-08T15:39:11.933Z"
   },
   {
    "duration": 1433,
    "start_time": "2022-05-08T15:39:17.553Z"
   },
   {
    "duration": 1622,
    "start_time": "2022-05-08T15:39:25.281Z"
   },
   {
    "duration": 67,
    "start_time": "2022-05-08T15:39:41.079Z"
   },
   {
    "duration": 37,
    "start_time": "2022-05-08T15:40:42.539Z"
   },
   {
    "duration": 727,
    "start_time": "2022-05-08T15:47:34.622Z"
   },
   {
    "duration": 68,
    "start_time": "2022-05-08T15:47:35.351Z"
   },
   {
    "duration": 16,
    "start_time": "2022-05-08T15:47:35.421Z"
   },
   {
    "duration": 85,
    "start_time": "2022-05-08T15:47:35.439Z"
   },
   {
    "duration": 42,
    "start_time": "2022-05-08T15:47:35.531Z"
   },
   {
    "duration": 16,
    "start_time": "2022-05-08T15:47:36.030Z"
   },
   {
    "duration": 10,
    "start_time": "2022-05-08T15:47:37.680Z"
   },
   {
    "duration": 9,
    "start_time": "2022-05-08T15:47:38.516Z"
   },
   {
    "duration": 16,
    "start_time": "2022-05-08T15:47:39.493Z"
   },
   {
    "duration": 14,
    "start_time": "2022-05-08T15:47:40.036Z"
   },
   {
    "duration": 13,
    "start_time": "2022-05-08T15:47:41.052Z"
   },
   {
    "duration": 837,
    "start_time": "2022-05-08T15:49:16.334Z"
   },
   {
    "duration": 103,
    "start_time": "2022-05-08T15:49:17.174Z"
   },
   {
    "duration": 27,
    "start_time": "2022-05-08T15:49:17.279Z"
   },
   {
    "duration": 117,
    "start_time": "2022-05-08T15:49:17.308Z"
   },
   {
    "duration": 76,
    "start_time": "2022-05-08T15:49:17.428Z"
   },
   {
    "duration": 21,
    "start_time": "2022-05-08T15:49:17.507Z"
   },
   {
    "duration": 13,
    "start_time": "2022-05-08T15:49:18.446Z"
   },
   {
    "duration": 8,
    "start_time": "2022-05-08T15:49:19.453Z"
   },
   {
    "duration": 7,
    "start_time": "2022-05-08T15:49:20.280Z"
   },
   {
    "duration": 8,
    "start_time": "2022-05-08T15:49:22.085Z"
   },
   {
    "duration": 629,
    "start_time": "2022-05-08T15:52:33.146Z"
   },
   {
    "duration": 72,
    "start_time": "2022-05-08T15:52:34.836Z"
   },
   {
    "duration": 11,
    "start_time": "2022-05-08T15:52:35.080Z"
   },
   {
    "duration": 63,
    "start_time": "2022-05-08T15:52:35.319Z"
   },
   {
    "duration": 38,
    "start_time": "2022-05-08T15:52:35.548Z"
   },
   {
    "duration": 14,
    "start_time": "2022-05-08T15:52:35.774Z"
   },
   {
    "duration": 11,
    "start_time": "2022-05-08T15:52:36.941Z"
   },
   {
    "duration": 8,
    "start_time": "2022-05-08T15:52:37.416Z"
   },
   {
    "duration": 8,
    "start_time": "2022-05-08T15:52:37.766Z"
   },
   {
    "duration": 9,
    "start_time": "2022-05-08T15:52:38.952Z"
   },
   {
    "duration": 65,
    "start_time": "2022-05-08T15:52:39.380Z"
   },
   {
    "duration": 5145,
    "start_time": "2022-05-08T15:52:39.965Z"
   },
   {
    "duration": 10,
    "start_time": "2022-05-08T15:52:45.111Z"
   },
   {
    "duration": 5600,
    "start_time": "2022-05-08T15:52:45.123Z"
   },
   {
    "duration": 11,
    "start_time": "2022-05-08T15:52:50.728Z"
   },
   {
    "duration": 9,
    "start_time": "2022-05-08T15:52:50.740Z"
   },
   {
    "duration": 10,
    "start_time": "2022-05-08T15:52:50.751Z"
   },
   {
    "duration": 9,
    "start_time": "2022-05-08T15:52:50.763Z"
   },
   {
    "duration": 36,
    "start_time": "2022-05-08T15:52:50.773Z"
   },
   {
    "duration": 12,
    "start_time": "2022-05-08T15:52:50.810Z"
   },
   {
    "duration": 7,
    "start_time": "2022-05-08T15:52:50.825Z"
   },
   {
    "duration": 11,
    "start_time": "2022-05-08T15:52:50.834Z"
   },
   {
    "duration": 5,
    "start_time": "2022-05-08T15:52:50.847Z"
   },
   {
    "duration": 6,
    "start_time": "2022-05-08T15:52:50.854Z"
   },
   {
    "duration": 73,
    "start_time": "2022-05-08T15:52:50.862Z"
   },
   {
    "duration": 8,
    "start_time": "2022-05-08T15:52:51.464Z"
   },
   {
    "duration": 3,
    "start_time": "2022-05-08T15:52:51.825Z"
   },
   {
    "duration": 15,
    "start_time": "2022-05-08T15:52:52.122Z"
   },
   {
    "duration": 4,
    "start_time": "2022-05-08T15:52:52.584Z"
   },
   {
    "duration": 40,
    "start_time": "2022-05-08T15:52:53.668Z"
   },
   {
    "duration": 58461,
    "start_time": "2022-05-08T15:52:54.516Z"
   },
   {
    "duration": 5,
    "start_time": "2022-05-08T15:53:52.979Z"
   },
   {
    "duration": 10,
    "start_time": "2022-05-08T15:53:52.985Z"
   },
   {
    "duration": 10,
    "start_time": "2022-05-08T15:53:52.996Z"
   },
   {
    "duration": 17,
    "start_time": "2022-05-08T15:53:53.008Z"
   },
   {
    "duration": 11,
    "start_time": "2022-05-08T15:53:53.027Z"
   },
   {
    "duration": 755,
    "start_time": "2022-05-08T16:00:09.960Z"
   },
   {
    "duration": 92,
    "start_time": "2022-05-08T16:00:10.717Z"
   },
   {
    "duration": 17,
    "start_time": "2022-05-08T16:00:10.811Z"
   },
   {
    "duration": 66,
    "start_time": "2022-05-08T16:00:10.830Z"
   },
   {
    "duration": 48,
    "start_time": "2022-05-08T16:00:10.898Z"
   },
   {
    "duration": 14,
    "start_time": "2022-05-08T16:00:10.947Z"
   },
   {
    "duration": 10,
    "start_time": "2022-05-08T16:00:11.217Z"
   },
   {
    "duration": 8,
    "start_time": "2022-05-08T16:00:11.392Z"
   },
   {
    "duration": 9,
    "start_time": "2022-05-08T16:00:11.466Z"
   },
   {
    "duration": 9,
    "start_time": "2022-05-08T16:00:11.637Z"
   },
   {
    "duration": 9,
    "start_time": "2022-05-08T16:00:11.727Z"
   },
   {
    "duration": 7483,
    "start_time": "2022-05-08T16:00:11.817Z"
   },
   {
    "duration": 11,
    "start_time": "2022-05-08T16:00:19.302Z"
   },
   {
    "duration": 7378,
    "start_time": "2022-05-08T16:00:19.314Z"
   },
   {
    "duration": 14,
    "start_time": "2022-05-08T16:00:26.694Z"
   },
   {
    "duration": 23,
    "start_time": "2022-05-08T16:00:26.710Z"
   },
   {
    "duration": 8,
    "start_time": "2022-05-08T16:00:26.735Z"
   },
   {
    "duration": 6,
    "start_time": "2022-05-08T16:00:26.745Z"
   },
   {
    "duration": 12,
    "start_time": "2022-05-08T16:00:26.753Z"
   },
   {
    "duration": 6,
    "start_time": "2022-05-08T16:00:26.767Z"
   },
   {
    "duration": 7,
    "start_time": "2022-05-08T16:00:26.806Z"
   },
   {
    "duration": 30,
    "start_time": "2022-05-08T16:00:26.815Z"
   },
   {
    "duration": 5,
    "start_time": "2022-05-08T16:00:26.846Z"
   },
   {
    "duration": 10,
    "start_time": "2022-05-08T16:00:26.853Z"
   },
   {
    "duration": 63,
    "start_time": "2022-05-08T16:00:26.864Z"
   },
   {
    "duration": 8,
    "start_time": "2022-05-08T16:00:26.928Z"
   },
   {
    "duration": 7,
    "start_time": "2022-05-08T16:00:26.938Z"
   },
   {
    "duration": 13,
    "start_time": "2022-05-08T16:00:26.947Z"
   },
   {
    "duration": 13,
    "start_time": "2022-05-08T16:00:26.961Z"
   },
   {
    "duration": 42,
    "start_time": "2022-05-08T16:00:26.976Z"
   },
   {
    "duration": 7,
    "start_time": "2022-05-08T16:00:27.020Z"
   },
   {
    "duration": 0,
    "start_time": "2022-05-08T16:00:27.029Z"
   },
   {
    "duration": 0,
    "start_time": "2022-05-08T16:00:27.030Z"
   },
   {
    "duration": 0,
    "start_time": "2022-05-08T16:00:27.031Z"
   },
   {
    "duration": 0,
    "start_time": "2022-05-08T16:00:27.033Z"
   },
   {
    "duration": 0,
    "start_time": "2022-05-08T16:00:27.034Z"
   },
   {
    "duration": 9,
    "start_time": "2022-05-08T16:01:55.117Z"
   },
   {
    "duration": 128057,
    "start_time": "2022-05-08T16:02:19.519Z"
   },
   {
    "duration": 15,
    "start_time": "2022-05-08T16:05:20.797Z"
   },
   {
    "duration": 11,
    "start_time": "2022-05-08T16:05:25.903Z"
   },
   {
    "duration": 7,
    "start_time": "2022-05-08T16:05:29.698Z"
   },
   {
    "duration": 7,
    "start_time": "2022-05-08T16:05:30.573Z"
   },
   {
    "duration": 9,
    "start_time": "2022-05-08T16:05:31.031Z"
   },
   {
    "duration": 63,
    "start_time": "2022-05-08T16:06:11.873Z"
   },
   {
    "duration": 109,
    "start_time": "2022-05-08T16:06:55.537Z"
   },
   {
    "duration": 22,
    "start_time": "2022-05-08T16:07:12.045Z"
   },
   {
    "duration": 13,
    "start_time": "2022-05-08T16:07:54.071Z"
   },
   {
    "duration": 949,
    "start_time": "2022-05-09T11:11:20.177Z"
   },
   {
    "duration": 72,
    "start_time": "2022-05-09T11:11:21.129Z"
   },
   {
    "duration": 12,
    "start_time": "2022-05-09T11:11:21.203Z"
   },
   {
    "duration": 72,
    "start_time": "2022-05-09T11:11:21.217Z"
   },
   {
    "duration": 47,
    "start_time": "2022-05-09T11:11:21.291Z"
   },
   {
    "duration": 15,
    "start_time": "2022-05-09T11:11:21.579Z"
   },
   {
    "duration": 10,
    "start_time": "2022-05-09T11:11:21.999Z"
   },
   {
    "duration": 8,
    "start_time": "2022-05-09T11:11:22.166Z"
   },
   {
    "duration": 8,
    "start_time": "2022-05-09T11:11:22.251Z"
   },
   {
    "duration": 9,
    "start_time": "2022-05-09T11:11:22.426Z"
   },
   {
    "duration": 9,
    "start_time": "2022-05-09T11:11:22.501Z"
   },
   {
    "duration": 5043,
    "start_time": "2022-05-09T11:11:22.595Z"
   },
   {
    "duration": 8,
    "start_time": "2022-05-09T11:11:27.640Z"
   },
   {
    "duration": 5030,
    "start_time": "2022-05-09T11:11:27.649Z"
   },
   {
    "duration": 8,
    "start_time": "2022-05-09T11:11:32.681Z"
   },
   {
    "duration": 8,
    "start_time": "2022-05-09T11:11:32.700Z"
   },
   {
    "duration": 9,
    "start_time": "2022-05-09T11:11:32.710Z"
   },
   {
    "duration": 7,
    "start_time": "2022-05-09T11:11:32.721Z"
   },
   {
    "duration": 12,
    "start_time": "2022-05-09T11:11:32.730Z"
   },
   {
    "duration": 7,
    "start_time": "2022-05-09T11:11:32.744Z"
   },
   {
    "duration": 6,
    "start_time": "2022-05-09T11:11:32.754Z"
   },
   {
    "duration": 52,
    "start_time": "2022-05-09T11:11:32.762Z"
   },
   {
    "duration": 7,
    "start_time": "2022-05-09T11:11:32.816Z"
   },
   {
    "duration": 8,
    "start_time": "2022-05-09T11:11:32.825Z"
   },
   {
    "duration": 39,
    "start_time": "2022-05-09T11:11:32.834Z"
   },
   {
    "duration": 30,
    "start_time": "2022-05-09T11:11:32.875Z"
   },
   {
    "duration": 4,
    "start_time": "2022-05-09T11:11:32.906Z"
   },
   {
    "duration": 18,
    "start_time": "2022-05-09T11:11:32.911Z"
   },
   {
    "duration": 10,
    "start_time": "2022-05-09T11:11:32.930Z"
   },
   {
    "duration": 42,
    "start_time": "2022-05-09T11:11:32.941Z"
   },
   {
    "duration": 130795,
    "start_time": "2022-05-09T11:11:32.984Z"
   },
   {
    "duration": 9,
    "start_time": "2022-05-09T11:13:43.780Z"
   },
   {
    "duration": 16,
    "start_time": "2022-05-09T11:13:43.791Z"
   },
   {
    "duration": 6,
    "start_time": "2022-05-09T11:13:43.809Z"
   },
   {
    "duration": 15,
    "start_time": "2022-05-09T11:13:43.816Z"
   },
   {
    "duration": 11,
    "start_time": "2022-05-09T11:13:43.833Z"
   },
   {
    "duration": 34,
    "start_time": "2022-05-09T11:13:43.845Z"
   },
   {
    "duration": 6,
    "start_time": "2022-05-09T11:28:19.997Z"
   },
   {
    "duration": 56,
    "start_time": "2022-05-09T11:29:19.264Z"
   },
   {
    "duration": 73,
    "start_time": "2022-05-09T11:32:03.385Z"
   },
   {
    "duration": 26,
    "start_time": "2022-05-09T11:32:55.370Z"
   },
   {
    "duration": 42,
    "start_time": "2022-05-09T11:33:12.423Z"
   },
   {
    "duration": 9,
    "start_time": "2022-05-09T11:33:36.389Z"
   },
   {
    "duration": 10,
    "start_time": "2022-05-09T11:34:29.852Z"
   },
   {
    "duration": 7,
    "start_time": "2022-05-09T11:36:04.325Z"
   },
   {
    "duration": 4,
    "start_time": "2022-05-09T11:38:23.892Z"
   },
   {
    "duration": 6,
    "start_time": "2022-05-09T11:38:25.347Z"
   },
   {
    "duration": 5,
    "start_time": "2022-05-09T11:40:19.414Z"
   },
   {
    "duration": 9,
    "start_time": "2022-05-09T11:40:53.739Z"
   },
   {
    "duration": 8,
    "start_time": "2022-05-09T11:41:04.933Z"
   },
   {
    "duration": 12,
    "start_time": "2022-05-09T11:41:39.204Z"
   },
   {
    "duration": 5,
    "start_time": "2022-05-09T11:42:58.366Z"
   },
   {
    "duration": 5,
    "start_time": "2022-05-09T11:43:01.864Z"
   },
   {
    "duration": 4,
    "start_time": "2022-05-09T11:43:51.867Z"
   },
   {
    "duration": 5,
    "start_time": "2022-05-09T11:43:52.602Z"
   },
   {
    "duration": 10,
    "start_time": "2022-05-09T11:46:03.726Z"
   },
   {
    "duration": 5,
    "start_time": "2022-05-09T11:46:04.866Z"
   },
   {
    "duration": 5,
    "start_time": "2022-05-09T11:46:32.198Z"
   },
   {
    "duration": 31,
    "start_time": "2022-05-09T11:46:48.763Z"
   },
   {
    "duration": 31,
    "start_time": "2022-05-09T11:47:55.723Z"
   },
   {
    "duration": 5,
    "start_time": "2022-05-09T12:07:41.828Z"
   },
   {
    "duration": 730,
    "start_time": "2022-05-09T12:07:53.451Z"
   },
   {
    "duration": 87,
    "start_time": "2022-05-09T12:07:54.183Z"
   },
   {
    "duration": 13,
    "start_time": "2022-05-09T12:07:54.271Z"
   },
   {
    "duration": 90,
    "start_time": "2022-05-09T12:07:54.386Z"
   },
   {
    "duration": 60,
    "start_time": "2022-05-09T12:07:54.593Z"
   },
   {
    "duration": 20,
    "start_time": "2022-05-09T12:07:54.824Z"
   },
   {
    "duration": 10,
    "start_time": "2022-05-09T12:07:55.854Z"
   },
   {
    "duration": 9,
    "start_time": "2022-05-09T12:07:56.234Z"
   },
   {
    "duration": 9,
    "start_time": "2022-05-09T12:07:56.448Z"
   },
   {
    "duration": 10,
    "start_time": "2022-05-09T12:07:56.856Z"
   },
   {
    "duration": 13,
    "start_time": "2022-05-09T12:07:57.061Z"
   },
   {
    "duration": 7239,
    "start_time": "2022-05-09T12:07:57.250Z"
   },
   {
    "duration": 19,
    "start_time": "2022-05-09T12:08:04.492Z"
   },
   {
    "duration": 5936,
    "start_time": "2022-05-09T12:08:04.513Z"
   },
   {
    "duration": 7,
    "start_time": "2022-05-09T12:08:10.452Z"
   },
   {
    "duration": 9,
    "start_time": "2022-05-09T12:08:10.461Z"
   },
   {
    "duration": 10,
    "start_time": "2022-05-09T12:08:10.471Z"
   },
   {
    "duration": 31,
    "start_time": "2022-05-09T12:08:10.483Z"
   },
   {
    "duration": 25,
    "start_time": "2022-05-09T12:08:10.518Z"
   },
   {
    "duration": 13,
    "start_time": "2022-05-09T12:08:10.544Z"
   },
   {
    "duration": 6,
    "start_time": "2022-05-09T12:08:10.560Z"
   },
   {
    "duration": 12,
    "start_time": "2022-05-09T12:08:10.568Z"
   },
   {
    "duration": 22,
    "start_time": "2022-05-09T12:08:10.582Z"
   },
   {
    "duration": 12,
    "start_time": "2022-05-09T12:08:10.613Z"
   },
   {
    "duration": 50,
    "start_time": "2022-05-09T12:08:10.626Z"
   },
   {
    "duration": 8,
    "start_time": "2022-05-09T12:08:10.678Z"
   },
   {
    "duration": 5,
    "start_time": "2022-05-09T12:08:10.687Z"
   },
   {
    "duration": 15,
    "start_time": "2022-05-09T12:08:10.693Z"
   },
   {
    "duration": 11,
    "start_time": "2022-05-09T12:08:10.709Z"
   },
   {
    "duration": 47,
    "start_time": "2022-05-09T12:08:10.724Z"
   },
   {
    "duration": 154716,
    "start_time": "2022-05-09T12:08:10.773Z"
   },
   {
    "duration": 19,
    "start_time": "2022-05-09T12:10:45.490Z"
   },
   {
    "duration": 30,
    "start_time": "2022-05-09T12:10:45.511Z"
   },
   {
    "duration": 5,
    "start_time": "2022-05-09T12:10:45.542Z"
   },
   {
    "duration": 12,
    "start_time": "2022-05-09T12:10:45.549Z"
   },
   {
    "duration": 13,
    "start_time": "2022-05-09T12:10:45.563Z"
   },
   {
    "duration": 47,
    "start_time": "2022-05-09T12:10:45.577Z"
   },
   {
    "duration": 6,
    "start_time": "2022-05-09T12:10:45.626Z"
   },
   {
    "duration": 7,
    "start_time": "2022-05-09T12:10:45.637Z"
   },
   {
    "duration": 6,
    "start_time": "2022-05-09T12:10:45.646Z"
   },
   {
    "duration": 8,
    "start_time": "2022-05-09T12:10:45.654Z"
   },
   {
    "duration": 8,
    "start_time": "2022-05-09T12:10:45.664Z"
   },
   {
    "duration": 7,
    "start_time": "2022-05-09T12:10:45.674Z"
   },
   {
    "duration": 30,
    "start_time": "2022-05-09T12:10:45.682Z"
   },
   {
    "duration": 16,
    "start_time": "2022-05-09T12:10:45.714Z"
   },
   {
    "duration": 8,
    "start_time": "2022-05-09T12:10:45.732Z"
   },
   {
    "duration": 8,
    "start_time": "2022-05-09T12:10:45.742Z"
   },
   {
    "duration": 11,
    "start_time": "2022-05-09T12:10:45.751Z"
   },
   {
    "duration": 13,
    "start_time": "2022-05-09T12:10:45.763Z"
   },
   {
    "duration": 5,
    "start_time": "2022-05-09T12:10:45.777Z"
   },
   {
    "duration": 8,
    "start_time": "2022-05-09T12:10:45.784Z"
   },
   {
    "duration": 46,
    "start_time": "2022-05-09T12:10:45.794Z"
   },
   {
    "duration": 5,
    "start_time": "2022-05-09T12:10:45.842Z"
   },
   {
    "duration": 14,
    "start_time": "2022-05-09T12:10:45.848Z"
   },
   {
    "duration": 11,
    "start_time": "2022-05-09T12:10:45.864Z"
   },
   {
    "duration": 5,
    "start_time": "2022-05-09T12:11:15.182Z"
   },
   {
    "duration": 290,
    "start_time": "2022-05-09T12:11:15.720Z"
   },
   {
    "duration": 254,
    "start_time": "2022-05-09T12:11:21.499Z"
   },
   {
    "duration": 4,
    "start_time": "2022-05-09T12:11:50.072Z"
   },
   {
    "duration": 5,
    "start_time": "2022-05-09T12:12:10.679Z"
   },
   {
    "duration": 8,
    "start_time": "2022-05-09T12:12:31.622Z"
   },
   {
    "duration": 8,
    "start_time": "2022-05-09T12:12:31.633Z"
   },
   {
    "duration": 6,
    "start_time": "2022-05-09T12:12:31.925Z"
   },
   {
    "duration": 10,
    "start_time": "2022-05-09T12:14:52.926Z"
   },
   {
    "duration": 9,
    "start_time": "2022-05-09T12:14:53.263Z"
   },
   {
    "duration": 8,
    "start_time": "2022-05-09T12:14:53.795Z"
   },
   {
    "duration": 7,
    "start_time": "2022-05-09T12:14:54.226Z"
   },
   {
    "duration": 9,
    "start_time": "2022-05-09T12:14:54.601Z"
   },
   {
    "duration": 13,
    "start_time": "2022-05-09T12:14:55.106Z"
   },
   {
    "duration": 286,
    "start_time": "2022-05-09T12:14:55.449Z"
   },
   {
    "duration": 952,
    "start_time": "2022-05-09T12:14:55.823Z"
   },
   {
    "duration": 362,
    "start_time": "2022-05-09T12:14:56.777Z"
   },
   {
    "duration": 203,
    "start_time": "2022-05-09T12:14:57.141Z"
   },
   {
    "duration": 320,
    "start_time": "2022-05-09T12:14:57.346Z"
   },
   {
    "duration": 16,
    "start_time": "2022-05-09T12:15:00.632Z"
   },
   {
    "duration": 8,
    "start_time": "2022-05-09T12:15:01.856Z"
   },
   {
    "duration": 335,
    "start_time": "2022-05-09T12:15:05.922Z"
   },
   {
    "duration": 370,
    "start_time": "2022-05-09T12:15:18.607Z"
   },
   {
    "duration": 1846,
    "start_time": "2022-05-09T12:16:11.872Z"
   },
   {
    "duration": 392,
    "start_time": "2022-05-09T12:17:03.572Z"
   },
   {
    "duration": 109,
    "start_time": "2022-05-09T12:17:19.222Z"
   },
   {
    "duration": 323,
    "start_time": "2022-05-09T12:17:27.365Z"
   },
   {
    "duration": 381,
    "start_time": "2022-05-09T12:17:46.300Z"
   },
   {
    "duration": 420,
    "start_time": "2022-05-09T12:17:53.793Z"
   },
   {
    "duration": 383,
    "start_time": "2022-05-09T12:17:59.134Z"
   },
   {
    "duration": 142,
    "start_time": "2022-05-09T12:18:04.676Z"
   },
   {
    "duration": 117,
    "start_time": "2022-05-09T12:18:12.847Z"
   },
   {
    "duration": 7,
    "start_time": "2022-05-09T12:18:35.587Z"
   },
   {
    "duration": 5,
    "start_time": "2022-05-09T12:18:36.079Z"
   },
   {
    "duration": 16,
    "start_time": "2022-05-09T12:18:36.162Z"
   },
   {
    "duration": 6,
    "start_time": "2022-05-09T12:18:36.245Z"
   },
   {
    "duration": 5,
    "start_time": "2022-05-09T12:18:36.327Z"
   },
   {
    "duration": 339,
    "start_time": "2022-05-09T12:18:36.418Z"
   },
   {
    "duration": 3,
    "start_time": "2022-05-09T12:18:36.759Z"
   },
   {
    "duration": 7,
    "start_time": "2022-05-09T12:18:36.763Z"
   },
   {
    "duration": 5,
    "start_time": "2022-05-09T12:18:36.772Z"
   },
   {
    "duration": 9,
    "start_time": "2022-05-09T12:18:36.829Z"
   },
   {
    "duration": 9,
    "start_time": "2022-05-09T12:18:36.918Z"
   },
   {
    "duration": 8,
    "start_time": "2022-05-09T12:18:36.995Z"
   },
   {
    "duration": 7,
    "start_time": "2022-05-09T12:18:37.081Z"
   },
   {
    "duration": 7,
    "start_time": "2022-05-09T12:18:37.162Z"
   },
   {
    "duration": 8,
    "start_time": "2022-05-09T12:18:37.246Z"
   },
   {
    "duration": 332,
    "start_time": "2022-05-09T12:18:37.332Z"
   },
   {
    "duration": 1461,
    "start_time": "2022-05-09T12:18:37.667Z"
   },
   {
    "duration": 269,
    "start_time": "2022-05-09T12:18:39.131Z"
   },
   {
    "duration": 181,
    "start_time": "2022-05-09T12:18:39.404Z"
   },
   {
    "duration": 468,
    "start_time": "2022-05-09T12:18:39.588Z"
   },
   {
    "duration": 15,
    "start_time": "2022-05-09T12:18:40.058Z"
   },
   {
    "duration": 8,
    "start_time": "2022-05-09T12:18:40.075Z"
   },
   {
    "duration": 295,
    "start_time": "2022-05-09T12:18:40.084Z"
   },
   {
    "duration": 1725,
    "start_time": "2022-05-09T12:18:40.381Z"
   },
   {
    "duration": 170,
    "start_time": "2022-05-09T12:18:42.110Z"
   },
   {
    "duration": 288,
    "start_time": "2022-05-09T12:18:42.282Z"
   },
   {
    "duration": 306,
    "start_time": "2022-05-09T12:18:42.572Z"
   },
   {
    "duration": 529,
    "start_time": "2022-05-09T12:18:42.880Z"
   },
   {
    "duration": 568,
    "start_time": "2022-05-09T12:18:43.411Z"
   },
   {
    "duration": 594,
    "start_time": "2022-05-09T12:18:43.981Z"
   },
   {
    "duration": 133,
    "start_time": "2022-05-09T12:18:44.576Z"
   },
   {
    "duration": 151,
    "start_time": "2022-05-09T12:18:44.712Z"
   },
   {
    "duration": 281,
    "start_time": "2022-05-09T12:18:52.568Z"
   },
   {
    "duration": 14,
    "start_time": "2022-05-09T12:19:05.891Z"
   },
   {
    "duration": 4,
    "start_time": "2022-05-09T12:21:38.378Z"
   },
   {
    "duration": 11,
    "start_time": "2022-05-09T12:21:38.937Z"
   },
   {
    "duration": 10,
    "start_time": "2022-05-09T12:21:39.741Z"
   },
   {
    "duration": 4,
    "start_time": "2022-05-09T12:21:40.457Z"
   },
   {
    "duration": 5,
    "start_time": "2022-05-09T12:21:41.229Z"
   },
   {
    "duration": 12,
    "start_time": "2022-05-09T12:22:20.839Z"
   },
   {
    "duration": 11,
    "start_time": "2022-05-09T12:22:26.529Z"
   },
   {
    "duration": 9,
    "start_time": "2022-05-09T12:23:10.350Z"
   },
   {
    "duration": 228,
    "start_time": "2022-05-09T12:23:10.742Z"
   },
   {
    "duration": 225,
    "start_time": "2022-05-09T12:23:28.918Z"
   },
   {
    "duration": 228,
    "start_time": "2022-05-09T12:23:43.762Z"
   },
   {
    "duration": 255,
    "start_time": "2022-05-09T12:23:55.138Z"
   },
   {
    "duration": 262,
    "start_time": "2022-05-09T12:24:12.414Z"
   },
   {
    "duration": 256,
    "start_time": "2022-05-09T12:24:30.677Z"
   },
   {
    "duration": 7,
    "start_time": "2022-05-09T12:25:04.740Z"
   },
   {
    "duration": 38,
    "start_time": "2022-05-09T12:25:05.114Z"
   },
   {
    "duration": 7,
    "start_time": "2022-05-09T12:26:01.940Z"
   },
   {
    "duration": 8,
    "start_time": "2022-05-09T12:26:02.495Z"
   },
   {
    "duration": 9,
    "start_time": "2022-05-09T12:26:02.922Z"
   },
   {
    "duration": 9,
    "start_time": "2022-05-09T12:26:03.293Z"
   },
   {
    "duration": 7,
    "start_time": "2022-05-09T12:26:03.772Z"
   },
   {
    "duration": 8,
    "start_time": "2022-05-09T12:26:04.471Z"
   },
   {
    "duration": 1091,
    "start_time": "2022-05-09T12:26:07.870Z"
   },
   {
    "duration": 509,
    "start_time": "2022-05-09T12:27:21.997Z"
   },
   {
    "duration": 190,
    "start_time": "2022-05-09T12:27:33.860Z"
   },
   {
    "duration": 953,
    "start_time": "2022-05-09T12:27:40.428Z"
   },
   {
    "duration": 718,
    "start_time": "2022-05-09T12:27:55.369Z"
   },
   {
    "duration": 1885,
    "start_time": "2022-05-09T12:28:00.278Z"
   },
   {
    "duration": 16,
    "start_time": "2022-05-09T12:28:05.715Z"
   },
   {
    "duration": 53,
    "start_time": "2022-05-11T08:44:55.401Z"
   },
   {
    "duration": 1248,
    "start_time": "2022-05-11T09:29:32.242Z"
   },
   {
    "duration": 110,
    "start_time": "2022-05-11T09:29:34.077Z"
   },
   {
    "duration": 21,
    "start_time": "2022-05-11T09:29:34.579Z"
   },
   {
    "duration": 119,
    "start_time": "2022-05-11T09:29:34.660Z"
   },
   {
    "duration": 89,
    "start_time": "2022-05-11T09:29:34.786Z"
   },
   {
    "duration": 28,
    "start_time": "2022-05-11T09:29:34.878Z"
   },
   {
    "duration": 16,
    "start_time": "2022-05-11T09:29:35.998Z"
   },
   {
    "duration": 15,
    "start_time": "2022-05-11T09:29:36.250Z"
   },
   {
    "duration": 16,
    "start_time": "2022-05-11T09:29:36.504Z"
   },
   {
    "duration": 21,
    "start_time": "2022-05-11T09:29:36.881Z"
   },
   {
    "duration": 8738,
    "start_time": "2022-05-11T09:29:37.386Z"
   },
   {
    "duration": 9292,
    "start_time": "2022-05-11T09:29:46.127Z"
   },
   {
    "duration": 10,
    "start_time": "2022-05-11T09:29:55.421Z"
   },
   {
    "duration": 45,
    "start_time": "2022-05-11T09:29:55.434Z"
   },
   {
    "duration": 30,
    "start_time": "2022-05-11T09:29:55.481Z"
   },
   {
    "duration": 21,
    "start_time": "2022-05-11T09:29:55.513Z"
   },
   {
    "duration": 21,
    "start_time": "2022-05-11T09:29:55.537Z"
   },
   {
    "duration": 49,
    "start_time": "2022-05-11T09:29:55.560Z"
   },
   {
    "duration": 16,
    "start_time": "2022-05-11T09:29:55.611Z"
   },
   {
    "duration": 32,
    "start_time": "2022-05-11T09:29:55.632Z"
   },
   {
    "duration": 34,
    "start_time": "2022-05-11T09:29:55.667Z"
   },
   {
    "duration": 145396,
    "start_time": "2022-05-11T09:29:55.703Z"
   },
   {
    "duration": 9,
    "start_time": "2022-05-11T09:32:21.101Z"
   },
   {
    "duration": 30,
    "start_time": "2022-05-11T09:32:21.112Z"
   },
   {
    "duration": 22,
    "start_time": "2022-05-11T09:32:21.143Z"
   },
   {
    "duration": 28,
    "start_time": "2022-05-11T09:32:21.167Z"
   },
   {
    "duration": 82,
    "start_time": "2022-05-11T09:32:21.198Z"
   },
   {
    "duration": 7,
    "start_time": "2022-05-11T09:32:21.282Z"
   },
   {
    "duration": 22,
    "start_time": "2022-05-11T09:32:21.291Z"
   },
   {
    "duration": 28,
    "start_time": "2022-05-11T09:32:21.315Z"
   },
   {
    "duration": 17,
    "start_time": "2022-05-11T09:32:21.345Z"
   },
   {
    "duration": 29,
    "start_time": "2022-05-11T09:32:21.363Z"
   },
   {
    "duration": 21,
    "start_time": "2022-05-11T09:32:21.394Z"
   },
   {
    "duration": 23,
    "start_time": "2022-05-11T09:32:21.417Z"
   },
   {
    "duration": 6,
    "start_time": "2022-05-11T09:32:21.443Z"
   },
   {
    "duration": 20,
    "start_time": "2022-05-11T09:32:21.451Z"
   },
   {
    "duration": 12,
    "start_time": "2022-05-11T09:32:21.473Z"
   },
   {
    "duration": 27,
    "start_time": "2022-05-11T09:32:21.489Z"
   },
   {
    "duration": 19,
    "start_time": "2022-05-11T09:32:21.518Z"
   },
   {
    "duration": 13,
    "start_time": "2022-05-11T09:32:21.539Z"
   },
   {
    "duration": 21,
    "start_time": "2022-05-11T09:32:21.554Z"
   },
   {
    "duration": 31,
    "start_time": "2022-05-11T09:32:21.577Z"
   },
   {
    "duration": 6,
    "start_time": "2022-05-11T09:32:21.610Z"
   },
   {
    "duration": 15,
    "start_time": "2022-05-11T09:32:21.617Z"
   },
   {
    "duration": 32,
    "start_time": "2022-05-11T09:32:21.634Z"
   },
   {
    "duration": 960,
    "start_time": "2022-05-11T09:54:09.666Z"
   },
   {
    "duration": 104,
    "start_time": "2022-05-11T09:54:10.629Z"
   },
   {
    "duration": 30,
    "start_time": "2022-05-11T09:54:10.736Z"
   },
   {
    "duration": 140,
    "start_time": "2022-05-11T09:54:10.770Z"
   },
   {
    "duration": 82,
    "start_time": "2022-05-11T09:54:10.912Z"
   },
   {
    "duration": 26,
    "start_time": "2022-05-11T09:54:10.996Z"
   },
   {
    "duration": 38,
    "start_time": "2022-05-11T09:54:11.025Z"
   },
   {
    "duration": 15,
    "start_time": "2022-05-11T09:54:11.066Z"
   },
   {
    "duration": 14,
    "start_time": "2022-05-11T09:54:11.213Z"
   },
   {
    "duration": 14,
    "start_time": "2022-05-11T09:54:11.381Z"
   },
   {
    "duration": 8757,
    "start_time": "2022-05-11T09:54:11.471Z"
   },
   {
    "duration": 6786,
    "start_time": "2022-05-11T09:54:20.231Z"
   },
   {
    "duration": 13,
    "start_time": "2022-05-11T09:54:27.020Z"
   },
   {
    "duration": 33,
    "start_time": "2022-05-11T09:54:27.036Z"
   },
   {
    "duration": 22,
    "start_time": "2022-05-11T09:54:27.072Z"
   },
   {
    "duration": 10,
    "start_time": "2022-05-11T09:54:27.096Z"
   },
   {
    "duration": 8,
    "start_time": "2022-05-11T09:54:27.109Z"
   },
   {
    "duration": 48,
    "start_time": "2022-05-11T09:54:27.119Z"
   },
   {
    "duration": 12,
    "start_time": "2022-05-11T09:54:27.169Z"
   },
   {
    "duration": 17,
    "start_time": "2022-05-11T09:54:27.185Z"
   },
   {
    "duration": 7,
    "start_time": "2022-05-11T09:54:27.205Z"
   },
   {
    "duration": 135328,
    "start_time": "2022-05-11T09:54:27.214Z"
   },
   {
    "duration": 16,
    "start_time": "2022-05-11T09:56:42.543Z"
   },
   {
    "duration": 22,
    "start_time": "2022-05-11T09:56:42.561Z"
   },
   {
    "duration": 6,
    "start_time": "2022-05-11T09:56:42.585Z"
   },
   {
    "duration": 16,
    "start_time": "2022-05-11T09:56:42.593Z"
   },
   {
    "duration": 70,
    "start_time": "2022-05-11T09:56:42.612Z"
   },
   {
    "duration": 7,
    "start_time": "2022-05-11T09:56:42.683Z"
   },
   {
    "duration": 17,
    "start_time": "2022-05-11T09:56:42.692Z"
   },
   {
    "duration": 5,
    "start_time": "2022-05-11T09:56:42.711Z"
   },
   {
    "duration": 36,
    "start_time": "2022-05-11T09:56:42.719Z"
   },
   {
    "duration": 6,
    "start_time": "2022-05-11T09:56:42.758Z"
   },
   {
    "duration": 6,
    "start_time": "2022-05-11T09:56:42.767Z"
   },
   {
    "duration": 17,
    "start_time": "2022-05-11T09:56:42.775Z"
   },
   {
    "duration": 6,
    "start_time": "2022-05-11T09:56:42.794Z"
   },
   {
    "duration": 9,
    "start_time": "2022-05-11T09:56:42.803Z"
   },
   {
    "duration": 9,
    "start_time": "2022-05-11T09:56:42.814Z"
   },
   {
    "duration": 6,
    "start_time": "2022-05-11T09:56:42.861Z"
   },
   {
    "duration": 10,
    "start_time": "2022-05-11T09:56:42.869Z"
   },
   {
    "duration": 8,
    "start_time": "2022-05-11T09:56:42.881Z"
   },
   {
    "duration": 8,
    "start_time": "2022-05-11T09:56:42.890Z"
   },
   {
    "duration": 74,
    "start_time": "2022-05-11T09:56:42.899Z"
   },
   {
    "duration": 8,
    "start_time": "2022-05-11T09:56:42.975Z"
   },
   {
    "duration": 18,
    "start_time": "2022-05-11T09:56:42.985Z"
   },
   {
    "duration": 17,
    "start_time": "2022-05-11T09:56:43.005Z"
   },
   {
    "duration": 31,
    "start_time": "2022-05-11T09:56:43.024Z"
   },
   {
    "duration": 5,
    "start_time": "2022-05-11T09:56:43.057Z"
   },
   {
    "duration": 213,
    "start_time": "2022-05-11T09:56:43.064Z"
   },
   {
    "duration": 5,
    "start_time": "2022-05-11T09:56:43.279Z"
   },
   {
    "duration": 11,
    "start_time": "2022-05-11T09:56:43.286Z"
   },
   {
    "duration": 12,
    "start_time": "2022-05-11T09:56:43.300Z"
   },
   {
    "duration": 10,
    "start_time": "2022-05-11T09:56:43.314Z"
   },
   {
    "duration": 35,
    "start_time": "2022-05-11T09:56:43.326Z"
   },
   {
    "duration": 10,
    "start_time": "2022-05-11T09:56:43.363Z"
   },
   {
    "duration": 11,
    "start_time": "2022-05-11T09:56:43.374Z"
   },
   {
    "duration": 9,
    "start_time": "2022-05-11T09:56:43.387Z"
   },
   {
    "duration": 14,
    "start_time": "2022-05-11T09:56:43.399Z"
   },
   {
    "duration": 586,
    "start_time": "2022-05-11T09:56:43.416Z"
   },
   {
    "duration": 1712,
    "start_time": "2022-05-11T09:56:44.005Z"
   },
   {
    "duration": 438,
    "start_time": "2022-05-11T09:56:45.719Z"
   },
   {
    "duration": 345,
    "start_time": "2022-05-11T09:56:46.160Z"
   },
   {
    "duration": 682,
    "start_time": "2022-05-11T09:56:46.508Z"
   },
   {
    "duration": 25,
    "start_time": "2022-05-11T09:56:47.192Z"
   },
   {
    "duration": 13,
    "start_time": "2022-05-11T09:56:47.219Z"
   },
   {
    "duration": 508,
    "start_time": "2022-05-11T09:56:47.255Z"
   },
   {
    "duration": 2919,
    "start_time": "2022-05-11T09:56:47.765Z"
   },
   {
    "duration": 275,
    "start_time": "2022-05-11T09:56:50.686Z"
   },
   {
    "duration": 127,
    "start_time": "2022-05-11T09:56:50.963Z"
   },
   {
    "duration": 253,
    "start_time": "2022-05-11T09:56:51.093Z"
   },
   {
    "duration": 884,
    "start_time": "2022-05-11T09:56:51.353Z"
   },
   {
    "duration": 695,
    "start_time": "2022-05-11T09:56:52.239Z"
   },
   {
    "duration": 710,
    "start_time": "2022-05-11T09:56:52.936Z"
   },
   {
    "duration": 139,
    "start_time": "2022-05-11T09:56:53.655Z"
   },
   {
    "duration": 158,
    "start_time": "2022-05-11T09:56:53.796Z"
   },
   {
    "duration": 174,
    "start_time": "2022-05-11T09:56:53.956Z"
   },
   {
    "duration": 24,
    "start_time": "2022-05-11T09:56:54.132Z"
   },
   {
    "duration": 7,
    "start_time": "2022-05-11T09:56:54.158Z"
   },
   {
    "duration": 31,
    "start_time": "2022-05-11T09:56:54.167Z"
   },
   {
    "duration": 16,
    "start_time": "2022-05-11T09:56:54.200Z"
   },
   {
    "duration": 9,
    "start_time": "2022-05-11T09:56:54.218Z"
   },
   {
    "duration": 32,
    "start_time": "2022-05-11T09:56:54.229Z"
   },
   {
    "duration": 26,
    "start_time": "2022-05-11T09:56:54.263Z"
   },
   {
    "duration": 258,
    "start_time": "2022-05-11T09:56:54.291Z"
   },
   {
    "duration": 10,
    "start_time": "2022-05-11T09:56:54.555Z"
   },
   {
    "duration": 204,
    "start_time": "2022-05-11T09:56:54.567Z"
   },
   {
    "duration": 9,
    "start_time": "2022-05-11T09:56:54.773Z"
   },
   {
    "duration": 13,
    "start_time": "2022-05-11T09:56:54.784Z"
   },
   {
    "duration": 10,
    "start_time": "2022-05-11T09:56:54.800Z"
   },
   {
    "duration": 42,
    "start_time": "2022-05-11T09:56:54.813Z"
   },
   {
    "duration": 11,
    "start_time": "2022-05-11T09:56:54.857Z"
   },
   {
    "duration": 15,
    "start_time": "2022-05-11T09:56:54.870Z"
   },
   {
    "duration": 1645,
    "start_time": "2022-05-11T09:56:54.894Z"
   },
   {
    "duration": 378,
    "start_time": "2022-05-11T09:56:56.542Z"
   },
   {
    "duration": 292,
    "start_time": "2022-05-11T09:56:56.922Z"
   },
   {
    "duration": 604,
    "start_time": "2022-05-11T09:56:57.216Z"
   },
   {
    "duration": 3364,
    "start_time": "2022-05-11T09:56:57.823Z"
   },
   {
    "duration": 20,
    "start_time": "2022-05-11T09:57:01.189Z"
   }
  ],
  "kernelspec": {
   "display_name": "Python 3 (ipykernel)",
   "language": "python",
   "name": "python3"
  },
  "language_info": {
   "codemirror_mode": {
    "name": "ipython",
    "version": 3
   },
   "file_extension": ".py",
   "mimetype": "text/x-python",
   "name": "python",
   "nbconvert_exporter": "python",
   "pygments_lexer": "ipython3",
   "version": "3.7.0"
  },
  "toc": {
   "base_numbering": 1,
   "nav_menu": {},
   "number_sections": true,
   "sideBar": true,
   "skip_h1_title": true,
   "title_cell": "Содержание",
   "title_sidebar": "Contents",
   "toc_cell": true,
   "toc_position": {
    "height": "calc(100% - 180px)",
    "left": "10px",
    "top": "150px",
    "width": "165px"
   },
   "toc_section_display": true,
   "toc_window_display": true
  }
 },
 "nbformat": 4,
 "nbformat_minor": 2
}
