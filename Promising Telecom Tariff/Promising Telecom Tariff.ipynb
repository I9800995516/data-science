{
 "cells": [
  {
   "cell_type": "markdown",
   "metadata": {
    "toc": true
   },
   "source": [
    "<h1>Содержание<span class=\"tocSkip\"></span></h1>\n",
    "<div class=\"toc\"><ul class=\"toc-item\"><li><span><a href=\"#Датасет-&quot;Звонки&quot;\" data-toc-modified-id=\"Датасет-&quot;Звонки&quot;-1\"><span class=\"toc-item-num\">1&nbsp;&nbsp;</span>Датасет \"Звонки\"</a></span><ul class=\"toc-item\"><li><span><a href=\"#Получение-и-обзор-данных\" data-toc-modified-id=\"Получение-и-обзор-данных-1.1\"><span class=\"toc-item-num\">1.1&nbsp;&nbsp;</span>Получение и обзор данных</a></span></li><li><span><a href=\"#Предобработка-данных\" data-toc-modified-id=\"Предобработка-данных-1.2\"><span class=\"toc-item-num\">1.2&nbsp;&nbsp;</span>Предобработка данных</a></span></li></ul></li><li><span><a href=\"#Датасет-&quot;Интеренет&quot;\" data-toc-modified-id=\"Датасет-&quot;Интеренет&quot;-2\"><span class=\"toc-item-num\">2&nbsp;&nbsp;</span>Датасет \"Интеренет\"</a></span><ul class=\"toc-item\"><li><span><a href=\"#Получение-и-обзор-данных\" data-toc-modified-id=\"Получение-и-обзор-данных-2.1\"><span class=\"toc-item-num\">2.1&nbsp;&nbsp;</span>Получение и обзор данных</a></span></li><li><span><a href=\"#Предобработка-данных\" data-toc-modified-id=\"Предобработка-данных-2.2\"><span class=\"toc-item-num\">2.2&nbsp;&nbsp;</span>Предобработка данных</a></span></li></ul></li><li><span><a href=\"#Датасет-&quot;Сообщения&quot;\" data-toc-modified-id=\"Датасет-&quot;Сообщения&quot;-3\"><span class=\"toc-item-num\">3&nbsp;&nbsp;</span>Датасет \"Сообщения\"</a></span><ul class=\"toc-item\"><li><span><a href=\"#Получение-и-обзор-данных\" data-toc-modified-id=\"Получение-и-обзор-данных-3.1\"><span class=\"toc-item-num\">3.1&nbsp;&nbsp;</span>Получение и обзор данных</a></span></li><li><span><a href=\"#Предобработка-данных\" data-toc-modified-id=\"Предобработка-данных-3.2\"><span class=\"toc-item-num\">3.2&nbsp;&nbsp;</span>Предобработка данных</a></span></li></ul></li><li><span><a href=\"#Датасет-&quot;Тарифы&quot;\" data-toc-modified-id=\"Датасет-&quot;Тарифы&quot;-4\"><span class=\"toc-item-num\">4&nbsp;&nbsp;</span>Датасет \"Тарифы\"</a></span><ul class=\"toc-item\"><li><span><a href=\"#Получение-и-обзор-данных\" data-toc-modified-id=\"Получение-и-обзор-данных-4.1\"><span class=\"toc-item-num\">4.1&nbsp;&nbsp;</span>Получение и обзор данных</a></span></li><li><span><a href=\"#Предобработка-данных\" data-toc-modified-id=\"Предобработка-данных-4.2\"><span class=\"toc-item-num\">4.2&nbsp;&nbsp;</span>Предобработка данных</a></span></li></ul></li><li><span><a href=\"#Датасет-&quot;Пользователи&quot;\" data-toc-modified-id=\"Датасет-&quot;Пользователи&quot;-5\"><span class=\"toc-item-num\">5&nbsp;&nbsp;</span>Датасет \"Пользователи\"</a></span><ul class=\"toc-item\"><li><span><a href=\"#Получение-и-обзор-данных\" data-toc-modified-id=\"Получение-и-обзор-данных-5.1\"><span class=\"toc-item-num\">5.1&nbsp;&nbsp;</span>Получение и обзор данных</a></span></li><li><span><a href=\"#Предобработка-данных\" data-toc-modified-id=\"Предобработка-данных-5.2\"><span class=\"toc-item-num\">5.2&nbsp;&nbsp;</span>Предобработка данных</a></span></li></ul></li><li><span><a href=\"#Сведение-данных-в-одну-таблицу\" data-toc-modified-id=\"Сведение-данных-в-одну-таблицу-6\"><span class=\"toc-item-num\">6&nbsp;&nbsp;</span>Сведение данных в одну таблицу</a></span></li><li><span><a href=\"#Расчет-параметров\" data-toc-modified-id=\"Расчет-параметров-7\"><span class=\"toc-item-num\">7&nbsp;&nbsp;</span>Расчет параметров</a></span></li><li><span><a href=\"#Исследовательский-анализ-данных\" data-toc-modified-id=\"Исследовательский-анализ-данных-8\"><span class=\"toc-item-num\">8&nbsp;&nbsp;</span>Исследовательский анализ данных</a></span><ul class=\"toc-item\"><li><span><a href=\"#Тариф-&quot;Смарт&quot;\" data-toc-modified-id=\"Тариф-&quot;Смарт&quot;-8.1\"><span class=\"toc-item-num\">8.1&nbsp;&nbsp;</span>Тариф \"Смарт\"</a></span></li><li><span><a href=\"#Тариф-&quot;Ультра&quot;\" data-toc-modified-id=\"Тариф-&quot;Ультра&quot;-8.2\"><span class=\"toc-item-num\">8.2&nbsp;&nbsp;</span>Тариф \"Ультра\"</a></span></li></ul></li><li><span><a href=\"#Проверка-гипотез\" data-toc-modified-id=\"Проверка-гипотез-9\"><span class=\"toc-item-num\">9&nbsp;&nbsp;</span>Проверка гипотез</a></span></li><li><span><a href=\"#Общий-вывод\" data-toc-modified-id=\"Общий-вывод-10\"><span class=\"toc-item-num\">10&nbsp;&nbsp;</span>Общий вывод</a></span></li></ul></div>"
   ]
  },
  {
   "cell_type": "markdown",
   "metadata": {},
   "source": [
    "# Определение перспективного тарифа для телеком-компании"
   ]
  },
  {
   "cell_type": "markdown",
   "metadata": {},
   "source": [
    "Есть данные телеком компании - оператора сотовой связи. Клиентам предлагают два тарифных плана: «Смарт» и «Ультра».\n",
    "\n",
    "Задачи: \n",
    "\n",
    " 1. Провести предобработку данных.\n",
    " \n",
    "\n",
    " 2. Провести предварительный анализ тарифов на небольшой выборке клиентов.\n",
    " \n",
    " \n",
    " 3. Определить для каждого пользователя: \n",
    "  - количество израсходованных минут разговора по месяцам;\n",
    "\n",
    "  - количество отправленных сообщений по месяцам;\n",
    "\n",
    "  - объем израсходованного интернет-трафика по месяцам;\n",
    "\n",
    "  - помесячная выручку с каждого пользователя.\n",
    "  \n",
    "  \n",
    " 3. Статистическими методами проверить следующие гипотезы:\n",
    "  - средняя выручка пользователей тарифов «Ультра» и «Смарт»;\n",
    "  \n",
    "  - средняя выручка пользователи из Москвы отличается от выручки пользователей из других регионов."
   ]
  },
  {
   "cell_type": "code",
   "execution_count": 1,
   "metadata": {},
   "outputs": [],
   "source": [
    "import pandas as pd\n",
    "%matplotlib inline\n",
    "import matplotlib.pyplot as plt\n",
    "import datetime\n",
    "from pandas.plotting import scatter_matrix \n",
    "import numpy as np\n",
    "from scipy import stats as st\n",
    "import math \n"
   ]
  },
  {
   "cell_type": "markdown",
   "metadata": {},
   "source": [
    "## Датасет \"Звонки\""
   ]
  },
  {
   "cell_type": "markdown",
   "metadata": {},
   "source": [
    "### Получение и обзор данных"
   ]
  },
  {
   "cell_type": "code",
   "execution_count": 2,
   "metadata": {},
   "outputs": [
    {
     "data": {
      "text/html": [
       "<div>\n",
       "<style scoped>\n",
       "    .dataframe tbody tr th:only-of-type {\n",
       "        vertical-align: middle;\n",
       "    }\n",
       "\n",
       "    .dataframe tbody tr th {\n",
       "        vertical-align: top;\n",
       "    }\n",
       "\n",
       "    .dataframe thead th {\n",
       "        text-align: right;\n",
       "    }\n",
       "</style>\n",
       "<table border=\"1\" class=\"dataframe\">\n",
       "  <thead>\n",
       "    <tr style=\"text-align: right;\">\n",
       "      <th></th>\n",
       "      <th>id</th>\n",
       "      <th>call_date</th>\n",
       "      <th>duration</th>\n",
       "      <th>user_id</th>\n",
       "    </tr>\n",
       "  </thead>\n",
       "  <tbody>\n",
       "    <tr>\n",
       "      <th>0</th>\n",
       "      <td>1000_0</td>\n",
       "      <td>2018-07-25</td>\n",
       "      <td>0.00</td>\n",
       "      <td>1000</td>\n",
       "    </tr>\n",
       "    <tr>\n",
       "      <th>1</th>\n",
       "      <td>1000_1</td>\n",
       "      <td>2018-08-17</td>\n",
       "      <td>0.00</td>\n",
       "      <td>1000</td>\n",
       "    </tr>\n",
       "    <tr>\n",
       "      <th>2</th>\n",
       "      <td>1000_2</td>\n",
       "      <td>2018-06-11</td>\n",
       "      <td>2.85</td>\n",
       "      <td>1000</td>\n",
       "    </tr>\n",
       "    <tr>\n",
       "      <th>3</th>\n",
       "      <td>1000_3</td>\n",
       "      <td>2018-09-21</td>\n",
       "      <td>13.80</td>\n",
       "      <td>1000</td>\n",
       "    </tr>\n",
       "    <tr>\n",
       "      <th>4</th>\n",
       "      <td>1000_4</td>\n",
       "      <td>2018-12-15</td>\n",
       "      <td>5.18</td>\n",
       "      <td>1000</td>\n",
       "    </tr>\n",
       "    <tr>\n",
       "      <th>...</th>\n",
       "      <td>...</td>\n",
       "      <td>...</td>\n",
       "      <td>...</td>\n",
       "      <td>...</td>\n",
       "    </tr>\n",
       "    <tr>\n",
       "      <th>202602</th>\n",
       "      <td>1499_215</td>\n",
       "      <td>2018-12-26</td>\n",
       "      <td>0.76</td>\n",
       "      <td>1499</td>\n",
       "    </tr>\n",
       "    <tr>\n",
       "      <th>202603</th>\n",
       "      <td>1499_216</td>\n",
       "      <td>2018-10-18</td>\n",
       "      <td>18.83</td>\n",
       "      <td>1499</td>\n",
       "    </tr>\n",
       "    <tr>\n",
       "      <th>202604</th>\n",
       "      <td>1499_217</td>\n",
       "      <td>2018-11-10</td>\n",
       "      <td>10.81</td>\n",
       "      <td>1499</td>\n",
       "    </tr>\n",
       "    <tr>\n",
       "      <th>202605</th>\n",
       "      <td>1499_218</td>\n",
       "      <td>2018-10-06</td>\n",
       "      <td>4.27</td>\n",
       "      <td>1499</td>\n",
       "    </tr>\n",
       "    <tr>\n",
       "      <th>202606</th>\n",
       "      <td>1499_219</td>\n",
       "      <td>2018-12-14</td>\n",
       "      <td>19.62</td>\n",
       "      <td>1499</td>\n",
       "    </tr>\n",
       "  </tbody>\n",
       "</table>\n",
       "<p>202607 rows × 4 columns</p>\n",
       "</div>"
      ],
      "text/plain": [
       "              id   call_date  duration  user_id\n",
       "0         1000_0  2018-07-25      0.00     1000\n",
       "1         1000_1  2018-08-17      0.00     1000\n",
       "2         1000_2  2018-06-11      2.85     1000\n",
       "3         1000_3  2018-09-21     13.80     1000\n",
       "4         1000_4  2018-12-15      5.18     1000\n",
       "...          ...         ...       ...      ...\n",
       "202602  1499_215  2018-12-26      0.76     1499\n",
       "202603  1499_216  2018-10-18     18.83     1499\n",
       "202604  1499_217  2018-11-10     10.81     1499\n",
       "202605  1499_218  2018-10-06      4.27     1499\n",
       "202606  1499_219  2018-12-14     19.62     1499\n",
       "\n",
       "[202607 rows x 4 columns]"
      ]
     },
     "metadata": {},
     "output_type": "display_data"
    },
    {
     "name": "stdout",
     "output_type": "stream",
     "text": [
      "<class 'pandas.core.frame.DataFrame'>\n",
      "RangeIndex: 202607 entries, 0 to 202606\n",
      "Data columns (total 4 columns):\n",
      " #   Column     Non-Null Count   Dtype  \n",
      "---  ------     --------------   -----  \n",
      " 0   id         202607 non-null  object \n",
      " 1   call_date  202607 non-null  object \n",
      " 2   duration   202607 non-null  float64\n",
      " 3   user_id    202607 non-null  int64  \n",
      "dtypes: float64(1), int64(1), object(2)\n",
      "memory usage: 6.2+ MB\n"
     ]
    }
   ],
   "source": [
    "#Звонки \n",
    "\n",
    "data_calls = pd.read_csv('/datasets/calls.csv')\n",
    "display(data_calls)\n",
    "data_calls.info()\n"
   ]
  },
  {
   "cell_type": "markdown",
   "metadata": {},
   "source": [
    "`id` — уникальный номер звонка\n",
    "\n",
    "`call_date` — дата звонка\n",
    "\n",
    "`duration` — длительность звонка в минутах\n",
    "\n",
    "`user_id` — идентификатор пользователя, сделавшего звонок"
   ]
  },
  {
   "cell_type": "markdown",
   "metadata": {},
   "source": [
    "### Предобработка данных"
   ]
  },
  {
   "cell_type": "markdown",
   "metadata": {},
   "source": [
    "**Пропуски и дубликаты**"
   ]
  },
  {
   "cell_type": "code",
   "execution_count": 3,
   "metadata": {},
   "outputs": [
    {
     "name": "stdout",
     "output_type": "stream",
     "text": [
      "id           0\n",
      "call_date    0\n",
      "duration     0\n",
      "user_id      0\n",
      "dtype: int64\n",
      "\n",
      "0\n"
     ]
    }
   ],
   "source": [
    "print(data_calls.isna().sum())\n",
    "print()\n",
    "print(data_calls.duplicated().sum())\n"
   ]
  },
  {
   "cell_type": "markdown",
   "metadata": {},
   "source": [
    "**Отсеиваим пропущенные звонки (звонки равные 0):**"
   ]
  },
  {
   "cell_type": "code",
   "execution_count": 4,
   "metadata": {},
   "outputs": [],
   "source": [
    "data_calls = data_calls[data_calls['duration'] > 0]"
   ]
  },
  {
   "cell_type": "markdown",
   "metadata": {},
   "source": [
    "**Изменяем тип данных звонков на \"целочисленный\", округляем их до \"целых\" в большую сторону, меняем на минуты**"
   ]
  },
  {
   "cell_type": "code",
   "execution_count": 5,
   "metadata": {},
   "outputs": [],
   "source": [
    "R = []\n",
    "\n",
    "for row in data_calls['duration']:\n",
    "    row = math.ceil(row)\n",
    "    R.append(row)"
   ]
  },
  {
   "cell_type": "code",
   "execution_count": 6,
   "metadata": {},
   "outputs": [],
   "source": [
    "data_calls['duration'] = R"
   ]
  },
  {
   "cell_type": "code",
   "execution_count": 7,
   "metadata": {},
   "outputs": [
    {
     "data": {
      "text/html": [
       "<div>\n",
       "<style scoped>\n",
       "    .dataframe tbody tr th:only-of-type {\n",
       "        vertical-align: middle;\n",
       "    }\n",
       "\n",
       "    .dataframe tbody tr th {\n",
       "        vertical-align: top;\n",
       "    }\n",
       "\n",
       "    .dataframe thead th {\n",
       "        text-align: right;\n",
       "    }\n",
       "</style>\n",
       "<table border=\"1\" class=\"dataframe\">\n",
       "  <thead>\n",
       "    <tr style=\"text-align: right;\">\n",
       "      <th></th>\n",
       "      <th>id</th>\n",
       "      <th>call_date</th>\n",
       "      <th>duration</th>\n",
       "      <th>user_id</th>\n",
       "    </tr>\n",
       "  </thead>\n",
       "  <tbody>\n",
       "    <tr>\n",
       "      <th>2</th>\n",
       "      <td>1000_2</td>\n",
       "      <td>2018-06-11</td>\n",
       "      <td>3</td>\n",
       "      <td>1000</td>\n",
       "    </tr>\n",
       "    <tr>\n",
       "      <th>3</th>\n",
       "      <td>1000_3</td>\n",
       "      <td>2018-09-21</td>\n",
       "      <td>14</td>\n",
       "      <td>1000</td>\n",
       "    </tr>\n",
       "    <tr>\n",
       "      <th>4</th>\n",
       "      <td>1000_4</td>\n",
       "      <td>2018-12-15</td>\n",
       "      <td>6</td>\n",
       "      <td>1000</td>\n",
       "    </tr>\n",
       "    <tr>\n",
       "      <th>7</th>\n",
       "      <td>1000_7</td>\n",
       "      <td>2018-08-22</td>\n",
       "      <td>19</td>\n",
       "      <td>1000</td>\n",
       "    </tr>\n",
       "    <tr>\n",
       "      <th>8</th>\n",
       "      <td>1000_8</td>\n",
       "      <td>2018-09-15</td>\n",
       "      <td>19</td>\n",
       "      <td>1000</td>\n",
       "    </tr>\n",
       "    <tr>\n",
       "      <th>...</th>\n",
       "      <td>...</td>\n",
       "      <td>...</td>\n",
       "      <td>...</td>\n",
       "      <td>...</td>\n",
       "    </tr>\n",
       "    <tr>\n",
       "      <th>202602</th>\n",
       "      <td>1499_215</td>\n",
       "      <td>2018-12-26</td>\n",
       "      <td>1</td>\n",
       "      <td>1499</td>\n",
       "    </tr>\n",
       "    <tr>\n",
       "      <th>202603</th>\n",
       "      <td>1499_216</td>\n",
       "      <td>2018-10-18</td>\n",
       "      <td>19</td>\n",
       "      <td>1499</td>\n",
       "    </tr>\n",
       "    <tr>\n",
       "      <th>202604</th>\n",
       "      <td>1499_217</td>\n",
       "      <td>2018-11-10</td>\n",
       "      <td>11</td>\n",
       "      <td>1499</td>\n",
       "    </tr>\n",
       "    <tr>\n",
       "      <th>202605</th>\n",
       "      <td>1499_218</td>\n",
       "      <td>2018-10-06</td>\n",
       "      <td>5</td>\n",
       "      <td>1499</td>\n",
       "    </tr>\n",
       "    <tr>\n",
       "      <th>202606</th>\n",
       "      <td>1499_219</td>\n",
       "      <td>2018-12-14</td>\n",
       "      <td>20</td>\n",
       "      <td>1499</td>\n",
       "    </tr>\n",
       "  </tbody>\n",
       "</table>\n",
       "<p>162994 rows × 4 columns</p>\n",
       "</div>"
      ],
      "text/plain": [
       "              id   call_date  duration  user_id\n",
       "2         1000_2  2018-06-11         3     1000\n",
       "3         1000_3  2018-09-21        14     1000\n",
       "4         1000_4  2018-12-15         6     1000\n",
       "7         1000_7  2018-08-22        19     1000\n",
       "8         1000_8  2018-09-15        19     1000\n",
       "...          ...         ...       ...      ...\n",
       "202602  1499_215  2018-12-26         1     1499\n",
       "202603  1499_216  2018-10-18        19     1499\n",
       "202604  1499_217  2018-11-10        11     1499\n",
       "202605  1499_218  2018-10-06         5     1499\n",
       "202606  1499_219  2018-12-14        20     1499\n",
       "\n",
       "[162994 rows x 4 columns]"
      ]
     },
     "metadata": {},
     "output_type": "display_data"
    }
   ],
   "source": [
    "display(data_calls)"
   ]
  },
  {
   "cell_type": "markdown",
   "metadata": {},
   "source": [
    "**Изменяем тип на datetime и \"вытаскиваем\" значения месяца**"
   ]
  },
  {
   "cell_type": "code",
   "execution_count": 8,
   "metadata": {},
   "outputs": [],
   "source": [
    "data_calls['call_date'] = pd.to_datetime(data_calls['call_date'], format='%Y-%m-%d')\n",
    "\n",
    "data_calls['month'] = data_calls['call_date'].dt.month"
   ]
  },
  {
   "cell_type": "markdown",
   "metadata": {},
   "source": [
    "**Группируем по 'user_id' и 'month', суммируем значения 'duration'**"
   ]
  },
  {
   "cell_type": "code",
   "execution_count": 9,
   "metadata": {},
   "outputs": [],
   "source": [
    "calls_result = data_calls.groupby(['user_id','month'])['duration'].sum().reset_index()"
   ]
  },
  {
   "cell_type": "code",
   "execution_count": 10,
   "metadata": {},
   "outputs": [
    {
     "data": {
      "text/html": [
       "<div>\n",
       "<style scoped>\n",
       "    .dataframe tbody tr th:only-of-type {\n",
       "        vertical-align: middle;\n",
       "    }\n",
       "\n",
       "    .dataframe tbody tr th {\n",
       "        vertical-align: top;\n",
       "    }\n",
       "\n",
       "    .dataframe thead th {\n",
       "        text-align: right;\n",
       "    }\n",
       "</style>\n",
       "<table border=\"1\" class=\"dataframe\">\n",
       "  <thead>\n",
       "    <tr style=\"text-align: right;\">\n",
       "      <th></th>\n",
       "      <th>user_id</th>\n",
       "      <th>month</th>\n",
       "      <th>duration</th>\n",
       "    </tr>\n",
       "  </thead>\n",
       "  <tbody>\n",
       "    <tr>\n",
       "      <th>0</th>\n",
       "      <td>1000</td>\n",
       "      <td>5</td>\n",
       "      <td>159</td>\n",
       "    </tr>\n",
       "    <tr>\n",
       "      <th>1</th>\n",
       "      <td>1000</td>\n",
       "      <td>6</td>\n",
       "      <td>172</td>\n",
       "    </tr>\n",
       "    <tr>\n",
       "      <th>2</th>\n",
       "      <td>1000</td>\n",
       "      <td>7</td>\n",
       "      <td>340</td>\n",
       "    </tr>\n",
       "    <tr>\n",
       "      <th>3</th>\n",
       "      <td>1000</td>\n",
       "      <td>8</td>\n",
       "      <td>408</td>\n",
       "    </tr>\n",
       "    <tr>\n",
       "      <th>4</th>\n",
       "      <td>1000</td>\n",
       "      <td>9</td>\n",
       "      <td>466</td>\n",
       "    </tr>\n",
       "    <tr>\n",
       "      <th>...</th>\n",
       "      <td>...</td>\n",
       "      <td>...</td>\n",
       "      <td>...</td>\n",
       "    </tr>\n",
       "    <tr>\n",
       "      <th>3163</th>\n",
       "      <td>1498</td>\n",
       "      <td>10</td>\n",
       "      <td>247</td>\n",
       "    </tr>\n",
       "    <tr>\n",
       "      <th>3164</th>\n",
       "      <td>1499</td>\n",
       "      <td>9</td>\n",
       "      <td>70</td>\n",
       "    </tr>\n",
       "    <tr>\n",
       "      <th>3165</th>\n",
       "      <td>1499</td>\n",
       "      <td>10</td>\n",
       "      <td>449</td>\n",
       "    </tr>\n",
       "    <tr>\n",
       "      <th>3166</th>\n",
       "      <td>1499</td>\n",
       "      <td>11</td>\n",
       "      <td>612</td>\n",
       "    </tr>\n",
       "    <tr>\n",
       "      <th>3167</th>\n",
       "      <td>1499</td>\n",
       "      <td>12</td>\n",
       "      <td>492</td>\n",
       "    </tr>\n",
       "  </tbody>\n",
       "</table>\n",
       "<p>3168 rows × 3 columns</p>\n",
       "</div>"
      ],
      "text/plain": [
       "      user_id  month  duration\n",
       "0        1000      5       159\n",
       "1        1000      6       172\n",
       "2        1000      7       340\n",
       "3        1000      8       408\n",
       "4        1000      9       466\n",
       "...       ...    ...       ...\n",
       "3163     1498     10       247\n",
       "3164     1499      9        70\n",
       "3165     1499     10       449\n",
       "3166     1499     11       612\n",
       "3167     1499     12       492\n",
       "\n",
       "[3168 rows x 3 columns]"
      ]
     },
     "metadata": {},
     "output_type": "display_data"
    }
   ],
   "source": [
    "display(calls_result)\n"
   ]
  },
  {
   "cell_type": "markdown",
   "metadata": {},
   "source": [
    "## Датасет \"Интеренет\""
   ]
  },
  {
   "cell_type": "markdown",
   "metadata": {},
   "source": [
    "### Получение и обзор данных"
   ]
  },
  {
   "cell_type": "code",
   "execution_count": 11,
   "metadata": {},
   "outputs": [
    {
     "data": {
      "text/html": [
       "<div>\n",
       "<style scoped>\n",
       "    .dataframe tbody tr th:only-of-type {\n",
       "        vertical-align: middle;\n",
       "    }\n",
       "\n",
       "    .dataframe tbody tr th {\n",
       "        vertical-align: top;\n",
       "    }\n",
       "\n",
       "    .dataframe thead th {\n",
       "        text-align: right;\n",
       "    }\n",
       "</style>\n",
       "<table border=\"1\" class=\"dataframe\">\n",
       "  <thead>\n",
       "    <tr style=\"text-align: right;\">\n",
       "      <th></th>\n",
       "      <th>Unnamed: 0</th>\n",
       "      <th>id</th>\n",
       "      <th>mb_used</th>\n",
       "      <th>session_date</th>\n",
       "      <th>user_id</th>\n",
       "    </tr>\n",
       "  </thead>\n",
       "  <tbody>\n",
       "    <tr>\n",
       "      <th>0</th>\n",
       "      <td>0</td>\n",
       "      <td>1000_0</td>\n",
       "      <td>112.95</td>\n",
       "      <td>2018-11-25</td>\n",
       "      <td>1000</td>\n",
       "    </tr>\n",
       "    <tr>\n",
       "      <th>1</th>\n",
       "      <td>1</td>\n",
       "      <td>1000_1</td>\n",
       "      <td>1052.81</td>\n",
       "      <td>2018-09-07</td>\n",
       "      <td>1000</td>\n",
       "    </tr>\n",
       "    <tr>\n",
       "      <th>2</th>\n",
       "      <td>2</td>\n",
       "      <td>1000_2</td>\n",
       "      <td>1197.26</td>\n",
       "      <td>2018-06-25</td>\n",
       "      <td>1000</td>\n",
       "    </tr>\n",
       "    <tr>\n",
       "      <th>3</th>\n",
       "      <td>3</td>\n",
       "      <td>1000_3</td>\n",
       "      <td>550.27</td>\n",
       "      <td>2018-08-22</td>\n",
       "      <td>1000</td>\n",
       "    </tr>\n",
       "    <tr>\n",
       "      <th>4</th>\n",
       "      <td>4</td>\n",
       "      <td>1000_4</td>\n",
       "      <td>302.56</td>\n",
       "      <td>2018-09-24</td>\n",
       "      <td>1000</td>\n",
       "    </tr>\n",
       "    <tr>\n",
       "      <th>...</th>\n",
       "      <td>...</td>\n",
       "      <td>...</td>\n",
       "      <td>...</td>\n",
       "      <td>...</td>\n",
       "      <td>...</td>\n",
       "    </tr>\n",
       "    <tr>\n",
       "      <th>149391</th>\n",
       "      <td>149391</td>\n",
       "      <td>1499_152</td>\n",
       "      <td>318.90</td>\n",
       "      <td>2018-10-03</td>\n",
       "      <td>1499</td>\n",
       "    </tr>\n",
       "    <tr>\n",
       "      <th>149392</th>\n",
       "      <td>149392</td>\n",
       "      <td>1499_153</td>\n",
       "      <td>490.13</td>\n",
       "      <td>2018-12-14</td>\n",
       "      <td>1499</td>\n",
       "    </tr>\n",
       "    <tr>\n",
       "      <th>149393</th>\n",
       "      <td>149393</td>\n",
       "      <td>1499_154</td>\n",
       "      <td>0.00</td>\n",
       "      <td>2018-10-27</td>\n",
       "      <td>1499</td>\n",
       "    </tr>\n",
       "    <tr>\n",
       "      <th>149394</th>\n",
       "      <td>149394</td>\n",
       "      <td>1499_155</td>\n",
       "      <td>1246.32</td>\n",
       "      <td>2018-11-26</td>\n",
       "      <td>1499</td>\n",
       "    </tr>\n",
       "    <tr>\n",
       "      <th>149395</th>\n",
       "      <td>149395</td>\n",
       "      <td>1499_156</td>\n",
       "      <td>544.37</td>\n",
       "      <td>2018-10-26</td>\n",
       "      <td>1499</td>\n",
       "    </tr>\n",
       "  </tbody>\n",
       "</table>\n",
       "<p>149396 rows × 5 columns</p>\n",
       "</div>"
      ],
      "text/plain": [
       "        Unnamed: 0        id  mb_used session_date  user_id\n",
       "0                0    1000_0   112.95   2018-11-25     1000\n",
       "1                1    1000_1  1052.81   2018-09-07     1000\n",
       "2                2    1000_2  1197.26   2018-06-25     1000\n",
       "3                3    1000_3   550.27   2018-08-22     1000\n",
       "4                4    1000_4   302.56   2018-09-24     1000\n",
       "...            ...       ...      ...          ...      ...\n",
       "149391      149391  1499_152   318.90   2018-10-03     1499\n",
       "149392      149392  1499_153   490.13   2018-12-14     1499\n",
       "149393      149393  1499_154     0.00   2018-10-27     1499\n",
       "149394      149394  1499_155  1246.32   2018-11-26     1499\n",
       "149395      149395  1499_156   544.37   2018-10-26     1499\n",
       "\n",
       "[149396 rows x 5 columns]"
      ]
     },
     "metadata": {},
     "output_type": "display_data"
    },
    {
     "name": "stdout",
     "output_type": "stream",
     "text": [
      "<class 'pandas.core.frame.DataFrame'>\n",
      "RangeIndex: 149396 entries, 0 to 149395\n",
      "Data columns (total 5 columns):\n",
      " #   Column        Non-Null Count   Dtype  \n",
      "---  ------        --------------   -----  \n",
      " 0   Unnamed: 0    149396 non-null  int64  \n",
      " 1   id            149396 non-null  object \n",
      " 2   mb_used       149396 non-null  float64\n",
      " 3   session_date  149396 non-null  object \n",
      " 4   user_id       149396 non-null  int64  \n",
      "dtypes: float64(1), int64(2), object(2)\n",
      "memory usage: 5.7+ MB\n"
     ]
    }
   ],
   "source": [
    "#Интернет \n",
    "\n",
    "data_internet = pd.read_csv('/datasets/internet.csv')\n",
    "display(data_internet)\n",
    "data_internet.info()\n",
    "\n"
   ]
  },
  {
   "cell_type": "code",
   "execution_count": 12,
   "metadata": {},
   "outputs": [
    {
     "name": "stdout",
     "output_type": "stream",
     "text": [
      "Unnamed: 0      0\n",
      "id              0\n",
      "mb_used         0\n",
      "session_date    0\n",
      "user_id         0\n",
      "dtype: int64\n",
      "\n",
      "0\n"
     ]
    }
   ],
   "source": [
    "print(data_internet.isna().sum())\n",
    "print()\n",
    "print(data_internet.duplicated().sum())\n"
   ]
  },
  {
   "cell_type": "markdown",
   "metadata": {},
   "source": [
    "`id` — уникальный номер сессии\n",
    "\n",
    "`mb_used` — объём потраченного за сессию интернет-трафика (в мегабайтах)\n",
    "\n",
    "`session_date` — дата интернет-сессии\n",
    "\n",
    "`user_id` — идентификатор пользователя\n"
   ]
  },
  {
   "cell_type": "markdown",
   "metadata": {},
   "source": [
    "### Предобработка данных"
   ]
  },
  {
   "cell_type": "code",
   "execution_count": 13,
   "metadata": {},
   "outputs": [],
   "source": [
    "data_internet = data_internet[['id', 'mb_used', 'session_date', 'user_id']]\n"
   ]
  },
  {
   "cell_type": "code",
   "execution_count": 14,
   "metadata": {},
   "outputs": [],
   "source": [
    "data_internet['session_date'] = pd.to_datetime(data_internet['session_date'], format='%Y-%m-%d')\n",
    "\n",
    "data_internet['month'] = data_internet['session_date'].dt.month"
   ]
  },
  {
   "cell_type": "code",
   "execution_count": 15,
   "metadata": {},
   "outputs": [],
   "source": [
    "internet_result = data_internet.groupby(['user_id','month'])['mb_used'].sum().reset_index()\n"
   ]
  },
  {
   "cell_type": "code",
   "execution_count": 16,
   "metadata": {},
   "outputs": [
    {
     "data": {
      "text/html": [
       "<div>\n",
       "<style scoped>\n",
       "    .dataframe tbody tr th:only-of-type {\n",
       "        vertical-align: middle;\n",
       "    }\n",
       "\n",
       "    .dataframe tbody tr th {\n",
       "        vertical-align: top;\n",
       "    }\n",
       "\n",
       "    .dataframe thead th {\n",
       "        text-align: right;\n",
       "    }\n",
       "</style>\n",
       "<table border=\"1\" class=\"dataframe\">\n",
       "  <thead>\n",
       "    <tr style=\"text-align: right;\">\n",
       "      <th></th>\n",
       "      <th>user_id</th>\n",
       "      <th>month</th>\n",
       "      <th>mb_used</th>\n",
       "    </tr>\n",
       "  </thead>\n",
       "  <tbody>\n",
       "    <tr>\n",
       "      <th>0</th>\n",
       "      <td>1000</td>\n",
       "      <td>5</td>\n",
       "      <td>2253.49</td>\n",
       "    </tr>\n",
       "    <tr>\n",
       "      <th>1</th>\n",
       "      <td>1000</td>\n",
       "      <td>6</td>\n",
       "      <td>23233.77</td>\n",
       "    </tr>\n",
       "    <tr>\n",
       "      <th>2</th>\n",
       "      <td>1000</td>\n",
       "      <td>7</td>\n",
       "      <td>14003.64</td>\n",
       "    </tr>\n",
       "    <tr>\n",
       "      <th>3</th>\n",
       "      <td>1000</td>\n",
       "      <td>8</td>\n",
       "      <td>14055.93</td>\n",
       "    </tr>\n",
       "    <tr>\n",
       "      <th>4</th>\n",
       "      <td>1000</td>\n",
       "      <td>9</td>\n",
       "      <td>14568.91</td>\n",
       "    </tr>\n",
       "    <tr>\n",
       "      <th>...</th>\n",
       "      <td>...</td>\n",
       "      <td>...</td>\n",
       "      <td>...</td>\n",
       "    </tr>\n",
       "    <tr>\n",
       "      <th>3198</th>\n",
       "      <td>1498</td>\n",
       "      <td>10</td>\n",
       "      <td>20579.36</td>\n",
       "    </tr>\n",
       "    <tr>\n",
       "      <th>3199</th>\n",
       "      <td>1499</td>\n",
       "      <td>9</td>\n",
       "      <td>1845.75</td>\n",
       "    </tr>\n",
       "    <tr>\n",
       "      <th>3200</th>\n",
       "      <td>1499</td>\n",
       "      <td>10</td>\n",
       "      <td>17788.51</td>\n",
       "    </tr>\n",
       "    <tr>\n",
       "      <th>3201</th>\n",
       "      <td>1499</td>\n",
       "      <td>11</td>\n",
       "      <td>17963.31</td>\n",
       "    </tr>\n",
       "    <tr>\n",
       "      <th>3202</th>\n",
       "      <td>1499</td>\n",
       "      <td>12</td>\n",
       "      <td>13055.58</td>\n",
       "    </tr>\n",
       "  </tbody>\n",
       "</table>\n",
       "<p>3203 rows × 3 columns</p>\n",
       "</div>"
      ],
      "text/plain": [
       "      user_id  month   mb_used\n",
       "0        1000      5   2253.49\n",
       "1        1000      6  23233.77\n",
       "2        1000      7  14003.64\n",
       "3        1000      8  14055.93\n",
       "4        1000      9  14568.91\n",
       "...       ...    ...       ...\n",
       "3198     1498     10  20579.36\n",
       "3199     1499      9   1845.75\n",
       "3200     1499     10  17788.51\n",
       "3201     1499     11  17963.31\n",
       "3202     1499     12  13055.58\n",
       "\n",
       "[3203 rows x 3 columns]"
      ]
     },
     "metadata": {},
     "output_type": "display_data"
    }
   ],
   "source": [
    "display(internet_result)"
   ]
  },
  {
   "cell_type": "code",
   "execution_count": 17,
   "metadata": {},
   "outputs": [],
   "source": [
    "internet_result['gb_used'] = internet_result['mb_used'] / 1024"
   ]
  },
  {
   "cell_type": "code",
   "execution_count": 18,
   "metadata": {},
   "outputs": [],
   "source": [
    "internet_result = internet_result.drop('mb_used', axis=1)"
   ]
  },
  {
   "cell_type": "markdown",
   "metadata": {},
   "source": [
    "**Изменяем тип данных \"потраченый интернет трафик\" на \"целочисленный\", округляем его до \"целых\" значений в большую сторону**"
   ]
  },
  {
   "cell_type": "code",
   "execution_count": 19,
   "metadata": {},
   "outputs": [],
   "source": [
    "R = []\n",
    "\n",
    "for row in internet_result['gb_used']:\n",
    "    row = math.ceil(row)\n",
    "    R.append(row)"
   ]
  },
  {
   "cell_type": "code",
   "execution_count": 20,
   "metadata": {},
   "outputs": [],
   "source": [
    "internet_result['gb_used'] = R"
   ]
  },
  {
   "cell_type": "code",
   "execution_count": 21,
   "metadata": {},
   "outputs": [
    {
     "data": {
      "text/html": [
       "<div>\n",
       "<style scoped>\n",
       "    .dataframe tbody tr th:only-of-type {\n",
       "        vertical-align: middle;\n",
       "    }\n",
       "\n",
       "    .dataframe tbody tr th {\n",
       "        vertical-align: top;\n",
       "    }\n",
       "\n",
       "    .dataframe thead th {\n",
       "        text-align: right;\n",
       "    }\n",
       "</style>\n",
       "<table border=\"1\" class=\"dataframe\">\n",
       "  <thead>\n",
       "    <tr style=\"text-align: right;\">\n",
       "      <th></th>\n",
       "      <th>user_id</th>\n",
       "      <th>month</th>\n",
       "      <th>gb_used</th>\n",
       "    </tr>\n",
       "  </thead>\n",
       "  <tbody>\n",
       "    <tr>\n",
       "      <th>0</th>\n",
       "      <td>1000</td>\n",
       "      <td>5</td>\n",
       "      <td>3</td>\n",
       "    </tr>\n",
       "    <tr>\n",
       "      <th>1</th>\n",
       "      <td>1000</td>\n",
       "      <td>6</td>\n",
       "      <td>23</td>\n",
       "    </tr>\n",
       "    <tr>\n",
       "      <th>2</th>\n",
       "      <td>1000</td>\n",
       "      <td>7</td>\n",
       "      <td>14</td>\n",
       "    </tr>\n",
       "    <tr>\n",
       "      <th>3</th>\n",
       "      <td>1000</td>\n",
       "      <td>8</td>\n",
       "      <td>14</td>\n",
       "    </tr>\n",
       "    <tr>\n",
       "      <th>4</th>\n",
       "      <td>1000</td>\n",
       "      <td>9</td>\n",
       "      <td>15</td>\n",
       "    </tr>\n",
       "    <tr>\n",
       "      <th>...</th>\n",
       "      <td>...</td>\n",
       "      <td>...</td>\n",
       "      <td>...</td>\n",
       "    </tr>\n",
       "    <tr>\n",
       "      <th>3198</th>\n",
       "      <td>1498</td>\n",
       "      <td>10</td>\n",
       "      <td>21</td>\n",
       "    </tr>\n",
       "    <tr>\n",
       "      <th>3199</th>\n",
       "      <td>1499</td>\n",
       "      <td>9</td>\n",
       "      <td>2</td>\n",
       "    </tr>\n",
       "    <tr>\n",
       "      <th>3200</th>\n",
       "      <td>1499</td>\n",
       "      <td>10</td>\n",
       "      <td>18</td>\n",
       "    </tr>\n",
       "    <tr>\n",
       "      <th>3201</th>\n",
       "      <td>1499</td>\n",
       "      <td>11</td>\n",
       "      <td>18</td>\n",
       "    </tr>\n",
       "    <tr>\n",
       "      <th>3202</th>\n",
       "      <td>1499</td>\n",
       "      <td>12</td>\n",
       "      <td>13</td>\n",
       "    </tr>\n",
       "  </tbody>\n",
       "</table>\n",
       "<p>3203 rows × 3 columns</p>\n",
       "</div>"
      ],
      "text/plain": [
       "      user_id  month  gb_used\n",
       "0        1000      5        3\n",
       "1        1000      6       23\n",
       "2        1000      7       14\n",
       "3        1000      8       14\n",
       "4        1000      9       15\n",
       "...       ...    ...      ...\n",
       "3198     1498     10       21\n",
       "3199     1499      9        2\n",
       "3200     1499     10       18\n",
       "3201     1499     11       18\n",
       "3202     1499     12       13\n",
       "\n",
       "[3203 rows x 3 columns]"
      ]
     },
     "metadata": {},
     "output_type": "display_data"
    }
   ],
   "source": [
    "display(internet_result)"
   ]
  },
  {
   "cell_type": "markdown",
   "metadata": {},
   "source": [
    "## Датасет \"Сообщения\""
   ]
  },
  {
   "cell_type": "markdown",
   "metadata": {},
   "source": [
    "### Получение и обзор данных"
   ]
  },
  {
   "cell_type": "code",
   "execution_count": 22,
   "metadata": {},
   "outputs": [
    {
     "data": {
      "text/html": [
       "<div>\n",
       "<style scoped>\n",
       "    .dataframe tbody tr th:only-of-type {\n",
       "        vertical-align: middle;\n",
       "    }\n",
       "\n",
       "    .dataframe tbody tr th {\n",
       "        vertical-align: top;\n",
       "    }\n",
       "\n",
       "    .dataframe thead th {\n",
       "        text-align: right;\n",
       "    }\n",
       "</style>\n",
       "<table border=\"1\" class=\"dataframe\">\n",
       "  <thead>\n",
       "    <tr style=\"text-align: right;\">\n",
       "      <th></th>\n",
       "      <th>id</th>\n",
       "      <th>message_date</th>\n",
       "      <th>user_id</th>\n",
       "    </tr>\n",
       "  </thead>\n",
       "  <tbody>\n",
       "    <tr>\n",
       "      <th>0</th>\n",
       "      <td>1000_0</td>\n",
       "      <td>2018-06-27</td>\n",
       "      <td>1000</td>\n",
       "    </tr>\n",
       "    <tr>\n",
       "      <th>1</th>\n",
       "      <td>1000_1</td>\n",
       "      <td>2018-10-08</td>\n",
       "      <td>1000</td>\n",
       "    </tr>\n",
       "    <tr>\n",
       "      <th>2</th>\n",
       "      <td>1000_2</td>\n",
       "      <td>2018-08-04</td>\n",
       "      <td>1000</td>\n",
       "    </tr>\n",
       "    <tr>\n",
       "      <th>3</th>\n",
       "      <td>1000_3</td>\n",
       "      <td>2018-06-16</td>\n",
       "      <td>1000</td>\n",
       "    </tr>\n",
       "    <tr>\n",
       "      <th>4</th>\n",
       "      <td>1000_4</td>\n",
       "      <td>2018-12-05</td>\n",
       "      <td>1000</td>\n",
       "    </tr>\n",
       "    <tr>\n",
       "      <th>...</th>\n",
       "      <td>...</td>\n",
       "      <td>...</td>\n",
       "      <td>...</td>\n",
       "    </tr>\n",
       "    <tr>\n",
       "      <th>123031</th>\n",
       "      <td>1499_179</td>\n",
       "      <td>2018-12-12</td>\n",
       "      <td>1499</td>\n",
       "    </tr>\n",
       "    <tr>\n",
       "      <th>123032</th>\n",
       "      <td>1499_180</td>\n",
       "      <td>2018-09-28</td>\n",
       "      <td>1499</td>\n",
       "    </tr>\n",
       "    <tr>\n",
       "      <th>123033</th>\n",
       "      <td>1499_181</td>\n",
       "      <td>2018-09-27</td>\n",
       "      <td>1499</td>\n",
       "    </tr>\n",
       "    <tr>\n",
       "      <th>123034</th>\n",
       "      <td>1499_182</td>\n",
       "      <td>2018-11-15</td>\n",
       "      <td>1499</td>\n",
       "    </tr>\n",
       "    <tr>\n",
       "      <th>123035</th>\n",
       "      <td>1499_183</td>\n",
       "      <td>2018-11-16</td>\n",
       "      <td>1499</td>\n",
       "    </tr>\n",
       "  </tbody>\n",
       "</table>\n",
       "<p>123036 rows × 3 columns</p>\n",
       "</div>"
      ],
      "text/plain": [
       "              id message_date  user_id\n",
       "0         1000_0   2018-06-27     1000\n",
       "1         1000_1   2018-10-08     1000\n",
       "2         1000_2   2018-08-04     1000\n",
       "3         1000_3   2018-06-16     1000\n",
       "4         1000_4   2018-12-05     1000\n",
       "...          ...          ...      ...\n",
       "123031  1499_179   2018-12-12     1499\n",
       "123032  1499_180   2018-09-28     1499\n",
       "123033  1499_181   2018-09-27     1499\n",
       "123034  1499_182   2018-11-15     1499\n",
       "123035  1499_183   2018-11-16     1499\n",
       "\n",
       "[123036 rows x 3 columns]"
      ]
     },
     "metadata": {},
     "output_type": "display_data"
    },
    {
     "name": "stdout",
     "output_type": "stream",
     "text": [
      "<class 'pandas.core.frame.DataFrame'>\n",
      "RangeIndex: 123036 entries, 0 to 123035\n",
      "Data columns (total 3 columns):\n",
      " #   Column        Non-Null Count   Dtype \n",
      "---  ------        --------------   ----- \n",
      " 0   id            123036 non-null  object\n",
      " 1   message_date  123036 non-null  object\n",
      " 2   user_id       123036 non-null  int64 \n",
      "dtypes: int64(1), object(2)\n",
      "memory usage: 2.8+ MB\n"
     ]
    }
   ],
   "source": [
    "#Сообщения \n",
    "\n",
    "data_messages = pd.read_csv('/datasets/messages.csv')\n",
    "display(data_messages)\n",
    "data_messages.info()\n",
    "\n"
   ]
  },
  {
   "cell_type": "markdown",
   "metadata": {},
   "source": [
    "`id` — уникальный номер сообщения\n",
    "\n",
    "`message_date` — дата сообщения\n",
    "\n",
    "`user_id` — идентификатор пользователя, отправившего сообщение"
   ]
  },
  {
   "cell_type": "code",
   "execution_count": 23,
   "metadata": {},
   "outputs": [
    {
     "name": "stdout",
     "output_type": "stream",
     "text": [
      "0\n"
     ]
    }
   ],
   "source": [
    "print(data_messages.duplicated().sum())\n"
   ]
  },
  {
   "cell_type": "markdown",
   "metadata": {},
   "source": [
    "### Предобработка данных"
   ]
  },
  {
   "cell_type": "code",
   "execution_count": 24,
   "metadata": {},
   "outputs": [],
   "source": [
    "\n",
    "data_messages['message_date'] = pd.to_datetime(data_messages['message_date'], format='%Y-%m-%d')\n",
    "\n",
    "data_messages['month'] = data_messages['message_date'].dt.month"
   ]
  },
  {
   "cell_type": "code",
   "execution_count": 25,
   "metadata": {},
   "outputs": [],
   "source": [
    "messages_result = data_messages.groupby(['user_id','month'])['id'].count().reset_index()"
   ]
  },
  {
   "cell_type": "code",
   "execution_count": 26,
   "metadata": {},
   "outputs": [],
   "source": [
    "messages_result = messages_result.rename(columns={'id': 'messages'})"
   ]
  },
  {
   "cell_type": "code",
   "execution_count": 27,
   "metadata": {},
   "outputs": [
    {
     "data": {
      "text/html": [
       "<div>\n",
       "<style scoped>\n",
       "    .dataframe tbody tr th:only-of-type {\n",
       "        vertical-align: middle;\n",
       "    }\n",
       "\n",
       "    .dataframe tbody tr th {\n",
       "        vertical-align: top;\n",
       "    }\n",
       "\n",
       "    .dataframe thead th {\n",
       "        text-align: right;\n",
       "    }\n",
       "</style>\n",
       "<table border=\"1\" class=\"dataframe\">\n",
       "  <thead>\n",
       "    <tr style=\"text-align: right;\">\n",
       "      <th></th>\n",
       "      <th>user_id</th>\n",
       "      <th>month</th>\n",
       "      <th>messages</th>\n",
       "    </tr>\n",
       "  </thead>\n",
       "  <tbody>\n",
       "    <tr>\n",
       "      <th>0</th>\n",
       "      <td>1000</td>\n",
       "      <td>5</td>\n",
       "      <td>22</td>\n",
       "    </tr>\n",
       "    <tr>\n",
       "      <th>1</th>\n",
       "      <td>1000</td>\n",
       "      <td>6</td>\n",
       "      <td>60</td>\n",
       "    </tr>\n",
       "    <tr>\n",
       "      <th>2</th>\n",
       "      <td>1000</td>\n",
       "      <td>7</td>\n",
       "      <td>75</td>\n",
       "    </tr>\n",
       "    <tr>\n",
       "      <th>3</th>\n",
       "      <td>1000</td>\n",
       "      <td>8</td>\n",
       "      <td>81</td>\n",
       "    </tr>\n",
       "    <tr>\n",
       "      <th>4</th>\n",
       "      <td>1000</td>\n",
       "      <td>9</td>\n",
       "      <td>57</td>\n",
       "    </tr>\n",
       "    <tr>\n",
       "      <th>...</th>\n",
       "      <td>...</td>\n",
       "      <td>...</td>\n",
       "      <td>...</td>\n",
       "    </tr>\n",
       "    <tr>\n",
       "      <th>2712</th>\n",
       "      <td>1498</td>\n",
       "      <td>10</td>\n",
       "      <td>42</td>\n",
       "    </tr>\n",
       "    <tr>\n",
       "      <th>2713</th>\n",
       "      <td>1499</td>\n",
       "      <td>9</td>\n",
       "      <td>11</td>\n",
       "    </tr>\n",
       "    <tr>\n",
       "      <th>2714</th>\n",
       "      <td>1499</td>\n",
       "      <td>10</td>\n",
       "      <td>48</td>\n",
       "    </tr>\n",
       "    <tr>\n",
       "      <th>2715</th>\n",
       "      <td>1499</td>\n",
       "      <td>11</td>\n",
       "      <td>59</td>\n",
       "    </tr>\n",
       "    <tr>\n",
       "      <th>2716</th>\n",
       "      <td>1499</td>\n",
       "      <td>12</td>\n",
       "      <td>66</td>\n",
       "    </tr>\n",
       "  </tbody>\n",
       "</table>\n",
       "<p>2717 rows × 3 columns</p>\n",
       "</div>"
      ],
      "text/plain": [
       "      user_id  month  messages\n",
       "0        1000      5        22\n",
       "1        1000      6        60\n",
       "2        1000      7        75\n",
       "3        1000      8        81\n",
       "4        1000      9        57\n",
       "...       ...    ...       ...\n",
       "2712     1498     10        42\n",
       "2713     1499      9        11\n",
       "2714     1499     10        48\n",
       "2715     1499     11        59\n",
       "2716     1499     12        66\n",
       "\n",
       "[2717 rows x 3 columns]"
      ]
     },
     "metadata": {},
     "output_type": "display_data"
    }
   ],
   "source": [
    "display(messages_result)"
   ]
  },
  {
   "cell_type": "markdown",
   "metadata": {},
   "source": [
    "## Датасет \"Тарифы\""
   ]
  },
  {
   "cell_type": "markdown",
   "metadata": {},
   "source": [
    "### Получение и обзор данных"
   ]
  },
  {
   "cell_type": "code",
   "execution_count": 28,
   "metadata": {},
   "outputs": [
    {
     "data": {
      "text/html": [
       "<div>\n",
       "<style scoped>\n",
       "    .dataframe tbody tr th:only-of-type {\n",
       "        vertical-align: middle;\n",
       "    }\n",
       "\n",
       "    .dataframe tbody tr th {\n",
       "        vertical-align: top;\n",
       "    }\n",
       "\n",
       "    .dataframe thead th {\n",
       "        text-align: right;\n",
       "    }\n",
       "</style>\n",
       "<table border=\"1\" class=\"dataframe\">\n",
       "  <thead>\n",
       "    <tr style=\"text-align: right;\">\n",
       "      <th></th>\n",
       "      <th>messages_included</th>\n",
       "      <th>mb_per_month_included</th>\n",
       "      <th>minutes_included</th>\n",
       "      <th>rub_monthly_fee</th>\n",
       "      <th>rub_per_gb</th>\n",
       "      <th>rub_per_message</th>\n",
       "      <th>rub_per_minute</th>\n",
       "      <th>tariff_name</th>\n",
       "    </tr>\n",
       "  </thead>\n",
       "  <tbody>\n",
       "    <tr>\n",
       "      <th>0</th>\n",
       "      <td>50</td>\n",
       "      <td>15360</td>\n",
       "      <td>500</td>\n",
       "      <td>550</td>\n",
       "      <td>200</td>\n",
       "      <td>3</td>\n",
       "      <td>3</td>\n",
       "      <td>smart</td>\n",
       "    </tr>\n",
       "    <tr>\n",
       "      <th>1</th>\n",
       "      <td>1000</td>\n",
       "      <td>30720</td>\n",
       "      <td>3000</td>\n",
       "      <td>1950</td>\n",
       "      <td>150</td>\n",
       "      <td>1</td>\n",
       "      <td>1</td>\n",
       "      <td>ultra</td>\n",
       "    </tr>\n",
       "  </tbody>\n",
       "</table>\n",
       "</div>"
      ],
      "text/plain": [
       "   messages_included  mb_per_month_included  minutes_included  \\\n",
       "0                 50                  15360               500   \n",
       "1               1000                  30720              3000   \n",
       "\n",
       "   rub_monthly_fee  rub_per_gb  rub_per_message  rub_per_minute tariff_name  \n",
       "0              550         200                3               3       smart  \n",
       "1             1950         150                1               1       ultra  "
      ]
     },
     "metadata": {},
     "output_type": "display_data"
    },
    {
     "name": "stdout",
     "output_type": "stream",
     "text": [
      "<class 'pandas.core.frame.DataFrame'>\n",
      "RangeIndex: 2 entries, 0 to 1\n",
      "Data columns (total 8 columns):\n",
      " #   Column                 Non-Null Count  Dtype \n",
      "---  ------                 --------------  ----- \n",
      " 0   messages_included      2 non-null      int64 \n",
      " 1   mb_per_month_included  2 non-null      int64 \n",
      " 2   minutes_included       2 non-null      int64 \n",
      " 3   rub_monthly_fee        2 non-null      int64 \n",
      " 4   rub_per_gb             2 non-null      int64 \n",
      " 5   rub_per_message        2 non-null      int64 \n",
      " 6   rub_per_minute         2 non-null      int64 \n",
      " 7   tariff_name            2 non-null      object\n",
      "dtypes: int64(7), object(1)\n",
      "memory usage: 256.0+ bytes\n"
     ]
    }
   ],
   "source": [
    "#Тарифы\n",
    "\n",
    "data_tariffs = pd.read_csv('/datasets/tariffs.csv')\n",
    "display(data_tariffs)\n",
    "data_tariffs.info()\n",
    "\n"
   ]
  },
  {
   "cell_type": "markdown",
   "metadata": {},
   "source": [
    "`tariff_name` — название тарифа\n",
    "\n",
    "`rub_monthly_fee` — ежемесячная абонентская плата в рублях\n",
    "\n",
    "`minutes_included` — количество минут разговора в месяц, включённых в абонентскую плату\n",
    "\n",
    "`messages_included` — количество сообщений в месяц, включённых в абонентскую плату\n",
    "\n",
    "`mb_per_month_included` — объём интернет-трафика, включённого в абонентскую плату (в мегабайтах)\n",
    "\n",
    "`rub_per_minute` — стоимость минуты разговора сверх тарифного пакета (например, если в тарифе 100 минут разговора в месяц, то со 101 минуты будет взиматься плата)\n",
    "\n",
    "`rub_per_message` — стоимость отправки сообщения сверх тарифного пакета\n",
    "\n",
    "`rub_per_gb` — стоимость дополнительного гигабайта интернет-трафика сверх тарифного пакета (1 гигабайт = 1024 мегабайта)"
   ]
  },
  {
   "cell_type": "markdown",
   "metadata": {},
   "source": [
    "### Предобработка данных"
   ]
  },
  {
   "cell_type": "code",
   "execution_count": 29,
   "metadata": {},
   "outputs": [],
   "source": [
    "data_tariffs['gb_per_month_included'] = data_tariffs['mb_per_month_included'] / 1024\n",
    "data_tariffs['gb_per_month_included'] = data_tariffs['gb_per_month_included'].astype('int')"
   ]
  },
  {
   "cell_type": "code",
   "execution_count": 30,
   "metadata": {},
   "outputs": [],
   "source": [
    "data_tariffs = data_tariffs.drop('mb_per_month_included', axis=1)"
   ]
  },
  {
   "cell_type": "code",
   "execution_count": 31,
   "metadata": {},
   "outputs": [],
   "source": [
    "data_tariffs = data_tariffs.rename(columns={'tariff_name': 'tariff'})"
   ]
  },
  {
   "cell_type": "code",
   "execution_count": 32,
   "metadata": {},
   "outputs": [
    {
     "data": {
      "text/html": [
       "<div>\n",
       "<style scoped>\n",
       "    .dataframe tbody tr th:only-of-type {\n",
       "        vertical-align: middle;\n",
       "    }\n",
       "\n",
       "    .dataframe tbody tr th {\n",
       "        vertical-align: top;\n",
       "    }\n",
       "\n",
       "    .dataframe thead th {\n",
       "        text-align: right;\n",
       "    }\n",
       "</style>\n",
       "<table border=\"1\" class=\"dataframe\">\n",
       "  <thead>\n",
       "    <tr style=\"text-align: right;\">\n",
       "      <th></th>\n",
       "      <th>messages_included</th>\n",
       "      <th>minutes_included</th>\n",
       "      <th>rub_monthly_fee</th>\n",
       "      <th>rub_per_gb</th>\n",
       "      <th>rub_per_message</th>\n",
       "      <th>rub_per_minute</th>\n",
       "      <th>tariff</th>\n",
       "      <th>gb_per_month_included</th>\n",
       "    </tr>\n",
       "  </thead>\n",
       "  <tbody>\n",
       "    <tr>\n",
       "      <th>0</th>\n",
       "      <td>50</td>\n",
       "      <td>500</td>\n",
       "      <td>550</td>\n",
       "      <td>200</td>\n",
       "      <td>3</td>\n",
       "      <td>3</td>\n",
       "      <td>smart</td>\n",
       "      <td>15</td>\n",
       "    </tr>\n",
       "    <tr>\n",
       "      <th>1</th>\n",
       "      <td>1000</td>\n",
       "      <td>3000</td>\n",
       "      <td>1950</td>\n",
       "      <td>150</td>\n",
       "      <td>1</td>\n",
       "      <td>1</td>\n",
       "      <td>ultra</td>\n",
       "      <td>30</td>\n",
       "    </tr>\n",
       "  </tbody>\n",
       "</table>\n",
       "</div>"
      ],
      "text/plain": [
       "   messages_included  minutes_included  rub_monthly_fee  rub_per_gb  \\\n",
       "0                 50               500              550         200   \n",
       "1               1000              3000             1950         150   \n",
       "\n",
       "   rub_per_message  rub_per_minute tariff  gb_per_month_included  \n",
       "0                3               3  smart                     15  \n",
       "1                1               1  ultra                     30  "
      ]
     },
     "metadata": {},
     "output_type": "display_data"
    }
   ],
   "source": [
    "display(data_tariffs)"
   ]
  },
  {
   "cell_type": "markdown",
   "metadata": {},
   "source": [
    "## Датасет \"Пользователи\""
   ]
  },
  {
   "cell_type": "markdown",
   "metadata": {},
   "source": [
    "### Получение и обзор данных"
   ]
  },
  {
   "cell_type": "code",
   "execution_count": 33,
   "metadata": {},
   "outputs": [
    {
     "data": {
      "text/html": [
       "<div>\n",
       "<style scoped>\n",
       "    .dataframe tbody tr th:only-of-type {\n",
       "        vertical-align: middle;\n",
       "    }\n",
       "\n",
       "    .dataframe tbody tr th {\n",
       "        vertical-align: top;\n",
       "    }\n",
       "\n",
       "    .dataframe thead th {\n",
       "        text-align: right;\n",
       "    }\n",
       "</style>\n",
       "<table border=\"1\" class=\"dataframe\">\n",
       "  <thead>\n",
       "    <tr style=\"text-align: right;\">\n",
       "      <th></th>\n",
       "      <th>user_id</th>\n",
       "      <th>age</th>\n",
       "      <th>churn_date</th>\n",
       "      <th>city</th>\n",
       "      <th>first_name</th>\n",
       "      <th>last_name</th>\n",
       "      <th>reg_date</th>\n",
       "      <th>tariff</th>\n",
       "    </tr>\n",
       "  </thead>\n",
       "  <tbody>\n",
       "    <tr>\n",
       "      <th>0</th>\n",
       "      <td>1000</td>\n",
       "      <td>52</td>\n",
       "      <td>NaN</td>\n",
       "      <td>Краснодар</td>\n",
       "      <td>Рафаил</td>\n",
       "      <td>Верещагин</td>\n",
       "      <td>2018-05-25</td>\n",
       "      <td>ultra</td>\n",
       "    </tr>\n",
       "    <tr>\n",
       "      <th>1</th>\n",
       "      <td>1001</td>\n",
       "      <td>41</td>\n",
       "      <td>NaN</td>\n",
       "      <td>Москва</td>\n",
       "      <td>Иван</td>\n",
       "      <td>Ежов</td>\n",
       "      <td>2018-11-01</td>\n",
       "      <td>smart</td>\n",
       "    </tr>\n",
       "    <tr>\n",
       "      <th>2</th>\n",
       "      <td>1002</td>\n",
       "      <td>59</td>\n",
       "      <td>NaN</td>\n",
       "      <td>Стерлитамак</td>\n",
       "      <td>Евгений</td>\n",
       "      <td>Абрамович</td>\n",
       "      <td>2018-06-17</td>\n",
       "      <td>smart</td>\n",
       "    </tr>\n",
       "    <tr>\n",
       "      <th>3</th>\n",
       "      <td>1003</td>\n",
       "      <td>23</td>\n",
       "      <td>NaN</td>\n",
       "      <td>Москва</td>\n",
       "      <td>Белла</td>\n",
       "      <td>Белякова</td>\n",
       "      <td>2018-08-17</td>\n",
       "      <td>ultra</td>\n",
       "    </tr>\n",
       "    <tr>\n",
       "      <th>4</th>\n",
       "      <td>1004</td>\n",
       "      <td>68</td>\n",
       "      <td>NaN</td>\n",
       "      <td>Новокузнецк</td>\n",
       "      <td>Татьяна</td>\n",
       "      <td>Авдеенко</td>\n",
       "      <td>2018-05-14</td>\n",
       "      <td>ultra</td>\n",
       "    </tr>\n",
       "    <tr>\n",
       "      <th>...</th>\n",
       "      <td>...</td>\n",
       "      <td>...</td>\n",
       "      <td>...</td>\n",
       "      <td>...</td>\n",
       "      <td>...</td>\n",
       "      <td>...</td>\n",
       "      <td>...</td>\n",
       "      <td>...</td>\n",
       "    </tr>\n",
       "    <tr>\n",
       "      <th>495</th>\n",
       "      <td>1495</td>\n",
       "      <td>65</td>\n",
       "      <td>NaN</td>\n",
       "      <td>Иркутск</td>\n",
       "      <td>Авксентий</td>\n",
       "      <td>Фокин</td>\n",
       "      <td>2018-08-28</td>\n",
       "      <td>ultra</td>\n",
       "    </tr>\n",
       "    <tr>\n",
       "      <th>496</th>\n",
       "      <td>1496</td>\n",
       "      <td>36</td>\n",
       "      <td>NaN</td>\n",
       "      <td>Вологда</td>\n",
       "      <td>Трифон</td>\n",
       "      <td>Блохин</td>\n",
       "      <td>2018-01-27</td>\n",
       "      <td>smart</td>\n",
       "    </tr>\n",
       "    <tr>\n",
       "      <th>497</th>\n",
       "      <td>1497</td>\n",
       "      <td>32</td>\n",
       "      <td>NaN</td>\n",
       "      <td>Челябинск</td>\n",
       "      <td>Каролина</td>\n",
       "      <td>Агеева</td>\n",
       "      <td>2018-10-09</td>\n",
       "      <td>smart</td>\n",
       "    </tr>\n",
       "    <tr>\n",
       "      <th>498</th>\n",
       "      <td>1498</td>\n",
       "      <td>68</td>\n",
       "      <td>2018-10-25</td>\n",
       "      <td>Владикавказ</td>\n",
       "      <td>Всеволод</td>\n",
       "      <td>Акимчин</td>\n",
       "      <td>2018-07-19</td>\n",
       "      <td>smart</td>\n",
       "    </tr>\n",
       "    <tr>\n",
       "      <th>499</th>\n",
       "      <td>1499</td>\n",
       "      <td>35</td>\n",
       "      <td>NaN</td>\n",
       "      <td>Пермь</td>\n",
       "      <td>Гектор</td>\n",
       "      <td>Корнилов</td>\n",
       "      <td>2018-09-27</td>\n",
       "      <td>smart</td>\n",
       "    </tr>\n",
       "  </tbody>\n",
       "</table>\n",
       "<p>500 rows × 8 columns</p>\n",
       "</div>"
      ],
      "text/plain": [
       "     user_id  age  churn_date         city first_name  last_name    reg_date  \\\n",
       "0       1000   52         NaN    Краснодар     Рафаил  Верещагин  2018-05-25   \n",
       "1       1001   41         NaN       Москва       Иван       Ежов  2018-11-01   \n",
       "2       1002   59         NaN  Стерлитамак    Евгений  Абрамович  2018-06-17   \n",
       "3       1003   23         NaN       Москва      Белла   Белякова  2018-08-17   \n",
       "4       1004   68         NaN  Новокузнецк    Татьяна   Авдеенко  2018-05-14   \n",
       "..       ...  ...         ...          ...        ...        ...         ...   \n",
       "495     1495   65         NaN      Иркутск  Авксентий      Фокин  2018-08-28   \n",
       "496     1496   36         NaN      Вологда     Трифон     Блохин  2018-01-27   \n",
       "497     1497   32         NaN    Челябинск   Каролина     Агеева  2018-10-09   \n",
       "498     1498   68  2018-10-25  Владикавказ   Всеволод    Акимчин  2018-07-19   \n",
       "499     1499   35         NaN        Пермь     Гектор   Корнилов  2018-09-27   \n",
       "\n",
       "    tariff  \n",
       "0    ultra  \n",
       "1    smart  \n",
       "2    smart  \n",
       "3    ultra  \n",
       "4    ultra  \n",
       "..     ...  \n",
       "495  ultra  \n",
       "496  smart  \n",
       "497  smart  \n",
       "498  smart  \n",
       "499  smart  \n",
       "\n",
       "[500 rows x 8 columns]"
      ]
     },
     "metadata": {},
     "output_type": "display_data"
    },
    {
     "name": "stdout",
     "output_type": "stream",
     "text": [
      "<class 'pandas.core.frame.DataFrame'>\n",
      "RangeIndex: 500 entries, 0 to 499\n",
      "Data columns (total 8 columns):\n",
      " #   Column      Non-Null Count  Dtype \n",
      "---  ------      --------------  ----- \n",
      " 0   user_id     500 non-null    int64 \n",
      " 1   age         500 non-null    int64 \n",
      " 2   churn_date  38 non-null     object\n",
      " 3   city        500 non-null    object\n",
      " 4   first_name  500 non-null    object\n",
      " 5   last_name   500 non-null    object\n",
      " 6   reg_date    500 non-null    object\n",
      " 7   tariff      500 non-null    object\n",
      "dtypes: int64(2), object(6)\n",
      "memory usage: 31.4+ KB\n"
     ]
    }
   ],
   "source": [
    "#Пользователи\n",
    "\n",
    "data_users = pd.read_csv('/datasets/users.csv')\n",
    "display(data_users)\n",
    "data_users.info()\n",
    "\n"
   ]
  },
  {
   "cell_type": "markdown",
   "metadata": {},
   "source": [
    "`user_id` — уникальный идентификатор пользователя\n",
    "\n",
    "`first_name` — имя пользователя\n",
    "\n",
    "`last_name` — фамилия пользователя\n",
    "\n",
    "`age` — возраст пользователя (годы)\n",
    "\n",
    "`reg_date` — дата подключения тарифа (день, месяц, год)\n",
    "\n",
    "`churn_date` — дата прекращения пользования тарифом (если значение пропущено, то тариф ещё действовал на момент выгрузки данных)\n",
    "\n",
    "`city` — город проживания пользователя\n",
    "\n",
    "`tariff` — название тарифного плана"
   ]
  },
  {
   "cell_type": "markdown",
   "metadata": {},
   "source": [
    "### Предобработка данных"
   ]
  },
  {
   "cell_type": "code",
   "execution_count": 34,
   "metadata": {},
   "outputs": [],
   "source": [
    "data_users['city'] = data_users['city'].str.lower()\n",
    "data_users['first_name'] = data_users['first_name'].str.lower()\n",
    "data_users['last_name'] = data_users['last_name'].str.lower()\n"
   ]
  },
  {
   "cell_type": "code",
   "execution_count": 35,
   "metadata": {},
   "outputs": [
    {
     "name": "stdout",
     "output_type": "stream",
     "text": [
      "user_id         0\n",
      "age             0\n",
      "churn_date    462\n",
      "city            0\n",
      "first_name      0\n",
      "last_name       0\n",
      "reg_date        0\n",
      "tariff          0\n",
      "dtype: int64\n",
      "\n",
      "0\n"
     ]
    }
   ],
   "source": [
    "print(data_users.isna().sum())\n",
    "print()\n",
    "print(data_users.duplicated().sum())\n"
   ]
  },
  {
   "cell_type": "markdown",
   "metadata": {},
   "source": [
    "**Фильтр по возрасту:** "
   ]
  },
  {
   "cell_type": "code",
   "execution_count": 36,
   "metadata": {},
   "outputs": [],
   "source": [
    "data_users = data_users.query('100 > age > 0')"
   ]
  },
  {
   "cell_type": "code",
   "execution_count": 37,
   "metadata": {},
   "outputs": [],
   "source": [
    "data_users['reg_date'] = pd.to_datetime(data_users['reg_date'], format='%Y-%m-%d')"
   ]
  },
  {
   "cell_type": "code",
   "execution_count": 38,
   "metadata": {},
   "outputs": [
    {
     "data": {
      "text/html": [
       "<div>\n",
       "<style scoped>\n",
       "    .dataframe tbody tr th:only-of-type {\n",
       "        vertical-align: middle;\n",
       "    }\n",
       "\n",
       "    .dataframe tbody tr th {\n",
       "        vertical-align: top;\n",
       "    }\n",
       "\n",
       "    .dataframe thead th {\n",
       "        text-align: right;\n",
       "    }\n",
       "</style>\n",
       "<table border=\"1\" class=\"dataframe\">\n",
       "  <thead>\n",
       "    <tr style=\"text-align: right;\">\n",
       "      <th></th>\n",
       "      <th>user_id</th>\n",
       "      <th>age</th>\n",
       "      <th>churn_date</th>\n",
       "      <th>city</th>\n",
       "      <th>first_name</th>\n",
       "      <th>last_name</th>\n",
       "      <th>reg_date</th>\n",
       "      <th>tariff</th>\n",
       "    </tr>\n",
       "  </thead>\n",
       "  <tbody>\n",
       "    <tr>\n",
       "      <th>0</th>\n",
       "      <td>1000</td>\n",
       "      <td>52</td>\n",
       "      <td>NaN</td>\n",
       "      <td>краснодар</td>\n",
       "      <td>рафаил</td>\n",
       "      <td>верещагин</td>\n",
       "      <td>2018-05-25</td>\n",
       "      <td>ultra</td>\n",
       "    </tr>\n",
       "    <tr>\n",
       "      <th>1</th>\n",
       "      <td>1001</td>\n",
       "      <td>41</td>\n",
       "      <td>NaN</td>\n",
       "      <td>москва</td>\n",
       "      <td>иван</td>\n",
       "      <td>ежов</td>\n",
       "      <td>2018-11-01</td>\n",
       "      <td>smart</td>\n",
       "    </tr>\n",
       "    <tr>\n",
       "      <th>2</th>\n",
       "      <td>1002</td>\n",
       "      <td>59</td>\n",
       "      <td>NaN</td>\n",
       "      <td>стерлитамак</td>\n",
       "      <td>евгений</td>\n",
       "      <td>абрамович</td>\n",
       "      <td>2018-06-17</td>\n",
       "      <td>smart</td>\n",
       "    </tr>\n",
       "    <tr>\n",
       "      <th>3</th>\n",
       "      <td>1003</td>\n",
       "      <td>23</td>\n",
       "      <td>NaN</td>\n",
       "      <td>москва</td>\n",
       "      <td>белла</td>\n",
       "      <td>белякова</td>\n",
       "      <td>2018-08-17</td>\n",
       "      <td>ultra</td>\n",
       "    </tr>\n",
       "    <tr>\n",
       "      <th>4</th>\n",
       "      <td>1004</td>\n",
       "      <td>68</td>\n",
       "      <td>NaN</td>\n",
       "      <td>новокузнецк</td>\n",
       "      <td>татьяна</td>\n",
       "      <td>авдеенко</td>\n",
       "      <td>2018-05-14</td>\n",
       "      <td>ultra</td>\n",
       "    </tr>\n",
       "    <tr>\n",
       "      <th>...</th>\n",
       "      <td>...</td>\n",
       "      <td>...</td>\n",
       "      <td>...</td>\n",
       "      <td>...</td>\n",
       "      <td>...</td>\n",
       "      <td>...</td>\n",
       "      <td>...</td>\n",
       "      <td>...</td>\n",
       "    </tr>\n",
       "    <tr>\n",
       "      <th>495</th>\n",
       "      <td>1495</td>\n",
       "      <td>65</td>\n",
       "      <td>NaN</td>\n",
       "      <td>иркутск</td>\n",
       "      <td>авксентий</td>\n",
       "      <td>фокин</td>\n",
       "      <td>2018-08-28</td>\n",
       "      <td>ultra</td>\n",
       "    </tr>\n",
       "    <tr>\n",
       "      <th>496</th>\n",
       "      <td>1496</td>\n",
       "      <td>36</td>\n",
       "      <td>NaN</td>\n",
       "      <td>вологда</td>\n",
       "      <td>трифон</td>\n",
       "      <td>блохин</td>\n",
       "      <td>2018-01-27</td>\n",
       "      <td>smart</td>\n",
       "    </tr>\n",
       "    <tr>\n",
       "      <th>497</th>\n",
       "      <td>1497</td>\n",
       "      <td>32</td>\n",
       "      <td>NaN</td>\n",
       "      <td>челябинск</td>\n",
       "      <td>каролина</td>\n",
       "      <td>агеева</td>\n",
       "      <td>2018-10-09</td>\n",
       "      <td>smart</td>\n",
       "    </tr>\n",
       "    <tr>\n",
       "      <th>498</th>\n",
       "      <td>1498</td>\n",
       "      <td>68</td>\n",
       "      <td>2018-10-25</td>\n",
       "      <td>владикавказ</td>\n",
       "      <td>всеволод</td>\n",
       "      <td>акимчин</td>\n",
       "      <td>2018-07-19</td>\n",
       "      <td>smart</td>\n",
       "    </tr>\n",
       "    <tr>\n",
       "      <th>499</th>\n",
       "      <td>1499</td>\n",
       "      <td>35</td>\n",
       "      <td>NaN</td>\n",
       "      <td>пермь</td>\n",
       "      <td>гектор</td>\n",
       "      <td>корнилов</td>\n",
       "      <td>2018-09-27</td>\n",
       "      <td>smart</td>\n",
       "    </tr>\n",
       "  </tbody>\n",
       "</table>\n",
       "<p>500 rows × 8 columns</p>\n",
       "</div>"
      ],
      "text/plain": [
       "     user_id  age  churn_date         city first_name  last_name   reg_date  \\\n",
       "0       1000   52         NaN    краснодар     рафаил  верещагин 2018-05-25   \n",
       "1       1001   41         NaN       москва       иван       ежов 2018-11-01   \n",
       "2       1002   59         NaN  стерлитамак    евгений  абрамович 2018-06-17   \n",
       "3       1003   23         NaN       москва      белла   белякова 2018-08-17   \n",
       "4       1004   68         NaN  новокузнецк    татьяна   авдеенко 2018-05-14   \n",
       "..       ...  ...         ...          ...        ...        ...        ...   \n",
       "495     1495   65         NaN      иркутск  авксентий      фокин 2018-08-28   \n",
       "496     1496   36         NaN      вологда     трифон     блохин 2018-01-27   \n",
       "497     1497   32         NaN    челябинск   каролина     агеева 2018-10-09   \n",
       "498     1498   68  2018-10-25  владикавказ   всеволод    акимчин 2018-07-19   \n",
       "499     1499   35         NaN        пермь     гектор   корнилов 2018-09-27   \n",
       "\n",
       "    tariff  \n",
       "0    ultra  \n",
       "1    smart  \n",
       "2    smart  \n",
       "3    ultra  \n",
       "4    ultra  \n",
       "..     ...  \n",
       "495  ultra  \n",
       "496  smart  \n",
       "497  smart  \n",
       "498  smart  \n",
       "499  smart  \n",
       "\n",
       "[500 rows x 8 columns]"
      ]
     },
     "metadata": {},
     "output_type": "display_data"
    }
   ],
   "source": [
    "display(data_users)"
   ]
  },
  {
   "cell_type": "code",
   "execution_count": 39,
   "metadata": {},
   "outputs": [
    {
     "name": "stdout",
     "output_type": "stream",
     "text": [
      "user_id         0\n",
      "age             0\n",
      "churn_date    462\n",
      "city            0\n",
      "first_name      0\n",
      "last_name       0\n",
      "reg_date        0\n",
      "tariff          0\n",
      "dtype: int64\n",
      "\n",
      "0\n"
     ]
    }
   ],
   "source": [
    "print(data_users.isna().sum())\n",
    "print()\n",
    "print(data_users.duplicated().sum())"
   ]
  },
  {
   "cell_type": "markdown",
   "metadata": {},
   "source": [
    "## Сведение данных в одну таблицу"
   ]
  },
  {
   "cell_type": "code",
   "execution_count": 40,
   "metadata": {},
   "outputs": [],
   "source": [
    "calls_result_internet_result = calls_result.merge(internet_result, on=['user_id', 'month'])"
   ]
  },
  {
   "cell_type": "code",
   "execution_count": 41,
   "metadata": {},
   "outputs": [],
   "source": [
    "data_result = calls_result_internet_result.merge(messages_result, on=['user_id', 'month'], how='left')"
   ]
  },
  {
   "cell_type": "code",
   "execution_count": 42,
   "metadata": {},
   "outputs": [
    {
     "data": {
      "text/html": [
       "<div>\n",
       "<style scoped>\n",
       "    .dataframe tbody tr th:only-of-type {\n",
       "        vertical-align: middle;\n",
       "    }\n",
       "\n",
       "    .dataframe tbody tr th {\n",
       "        vertical-align: top;\n",
       "    }\n",
       "\n",
       "    .dataframe thead th {\n",
       "        text-align: right;\n",
       "    }\n",
       "</style>\n",
       "<table border=\"1\" class=\"dataframe\">\n",
       "  <thead>\n",
       "    <tr style=\"text-align: right;\">\n",
       "      <th></th>\n",
       "      <th>user_id</th>\n",
       "      <th>month</th>\n",
       "      <th>duration</th>\n",
       "      <th>gb_used</th>\n",
       "      <th>messages</th>\n",
       "    </tr>\n",
       "  </thead>\n",
       "  <tbody>\n",
       "    <tr>\n",
       "      <th>0</th>\n",
       "      <td>1000</td>\n",
       "      <td>5</td>\n",
       "      <td>159</td>\n",
       "      <td>3</td>\n",
       "      <td>22.0</td>\n",
       "    </tr>\n",
       "    <tr>\n",
       "      <th>1</th>\n",
       "      <td>1000</td>\n",
       "      <td>6</td>\n",
       "      <td>172</td>\n",
       "      <td>23</td>\n",
       "      <td>60.0</td>\n",
       "    </tr>\n",
       "    <tr>\n",
       "      <th>2</th>\n",
       "      <td>1000</td>\n",
       "      <td>7</td>\n",
       "      <td>340</td>\n",
       "      <td>14</td>\n",
       "      <td>75.0</td>\n",
       "    </tr>\n",
       "    <tr>\n",
       "      <th>3</th>\n",
       "      <td>1000</td>\n",
       "      <td>8</td>\n",
       "      <td>408</td>\n",
       "      <td>14</td>\n",
       "      <td>81.0</td>\n",
       "    </tr>\n",
       "    <tr>\n",
       "      <th>4</th>\n",
       "      <td>1000</td>\n",
       "      <td>9</td>\n",
       "      <td>466</td>\n",
       "      <td>15</td>\n",
       "      <td>57.0</td>\n",
       "    </tr>\n",
       "    <tr>\n",
       "      <th>...</th>\n",
       "      <td>...</td>\n",
       "      <td>...</td>\n",
       "      <td>...</td>\n",
       "      <td>...</td>\n",
       "      <td>...</td>\n",
       "    </tr>\n",
       "    <tr>\n",
       "      <th>3152</th>\n",
       "      <td>1498</td>\n",
       "      <td>10</td>\n",
       "      <td>247</td>\n",
       "      <td>21</td>\n",
       "      <td>42.0</td>\n",
       "    </tr>\n",
       "    <tr>\n",
       "      <th>3153</th>\n",
       "      <td>1499</td>\n",
       "      <td>9</td>\n",
       "      <td>70</td>\n",
       "      <td>2</td>\n",
       "      <td>11.0</td>\n",
       "    </tr>\n",
       "    <tr>\n",
       "      <th>3154</th>\n",
       "      <td>1499</td>\n",
       "      <td>10</td>\n",
       "      <td>449</td>\n",
       "      <td>18</td>\n",
       "      <td>48.0</td>\n",
       "    </tr>\n",
       "    <tr>\n",
       "      <th>3155</th>\n",
       "      <td>1499</td>\n",
       "      <td>11</td>\n",
       "      <td>612</td>\n",
       "      <td>18</td>\n",
       "      <td>59.0</td>\n",
       "    </tr>\n",
       "    <tr>\n",
       "      <th>3156</th>\n",
       "      <td>1499</td>\n",
       "      <td>12</td>\n",
       "      <td>492</td>\n",
       "      <td>13</td>\n",
       "      <td>66.0</td>\n",
       "    </tr>\n",
       "  </tbody>\n",
       "</table>\n",
       "<p>3157 rows × 5 columns</p>\n",
       "</div>"
      ],
      "text/plain": [
       "      user_id  month  duration  gb_used  messages\n",
       "0        1000      5       159        3      22.0\n",
       "1        1000      6       172       23      60.0\n",
       "2        1000      7       340       14      75.0\n",
       "3        1000      8       408       14      81.0\n",
       "4        1000      9       466       15      57.0\n",
       "...       ...    ...       ...      ...       ...\n",
       "3152     1498     10       247       21      42.0\n",
       "3153     1499      9        70        2      11.0\n",
       "3154     1499     10       449       18      48.0\n",
       "3155     1499     11       612       18      59.0\n",
       "3156     1499     12       492       13      66.0\n",
       "\n",
       "[3157 rows x 5 columns]"
      ]
     },
     "metadata": {},
     "output_type": "display_data"
    }
   ],
   "source": [
    "display(data_result)"
   ]
  },
  {
   "cell_type": "code",
   "execution_count": 43,
   "metadata": {},
   "outputs": [],
   "source": [
    "data_result = data_result.fillna(0)\n",
    "data_result['messages'] = data_result['messages'].astype('int')"
   ]
  },
  {
   "cell_type": "code",
   "execution_count": 44,
   "metadata": {},
   "outputs": [],
   "source": [
    "data_result_users = data_users.merge(data_result, on='user_id')"
   ]
  },
  {
   "cell_type": "code",
   "execution_count": 45,
   "metadata": {},
   "outputs": [
    {
     "data": {
      "text/html": [
       "<div>\n",
       "<style scoped>\n",
       "    .dataframe tbody tr th:only-of-type {\n",
       "        vertical-align: middle;\n",
       "    }\n",
       "\n",
       "    .dataframe tbody tr th {\n",
       "        vertical-align: top;\n",
       "    }\n",
       "\n",
       "    .dataframe thead th {\n",
       "        text-align: right;\n",
       "    }\n",
       "</style>\n",
       "<table border=\"1\" class=\"dataframe\">\n",
       "  <thead>\n",
       "    <tr style=\"text-align: right;\">\n",
       "      <th></th>\n",
       "      <th>user_id</th>\n",
       "      <th>age</th>\n",
       "      <th>churn_date</th>\n",
       "      <th>city</th>\n",
       "      <th>first_name</th>\n",
       "      <th>last_name</th>\n",
       "      <th>reg_date</th>\n",
       "      <th>tariff</th>\n",
       "      <th>month</th>\n",
       "      <th>duration</th>\n",
       "      <th>gb_used</th>\n",
       "      <th>messages</th>\n",
       "    </tr>\n",
       "  </thead>\n",
       "  <tbody>\n",
       "    <tr>\n",
       "      <th>0</th>\n",
       "      <td>1000</td>\n",
       "      <td>52</td>\n",
       "      <td>NaN</td>\n",
       "      <td>краснодар</td>\n",
       "      <td>рафаил</td>\n",
       "      <td>верещагин</td>\n",
       "      <td>2018-05-25</td>\n",
       "      <td>ultra</td>\n",
       "      <td>5</td>\n",
       "      <td>159</td>\n",
       "      <td>3</td>\n",
       "      <td>22</td>\n",
       "    </tr>\n",
       "    <tr>\n",
       "      <th>1</th>\n",
       "      <td>1000</td>\n",
       "      <td>52</td>\n",
       "      <td>NaN</td>\n",
       "      <td>краснодар</td>\n",
       "      <td>рафаил</td>\n",
       "      <td>верещагин</td>\n",
       "      <td>2018-05-25</td>\n",
       "      <td>ultra</td>\n",
       "      <td>6</td>\n",
       "      <td>172</td>\n",
       "      <td>23</td>\n",
       "      <td>60</td>\n",
       "    </tr>\n",
       "    <tr>\n",
       "      <th>2</th>\n",
       "      <td>1000</td>\n",
       "      <td>52</td>\n",
       "      <td>NaN</td>\n",
       "      <td>краснодар</td>\n",
       "      <td>рафаил</td>\n",
       "      <td>верещагин</td>\n",
       "      <td>2018-05-25</td>\n",
       "      <td>ultra</td>\n",
       "      <td>7</td>\n",
       "      <td>340</td>\n",
       "      <td>14</td>\n",
       "      <td>75</td>\n",
       "    </tr>\n",
       "    <tr>\n",
       "      <th>3</th>\n",
       "      <td>1000</td>\n",
       "      <td>52</td>\n",
       "      <td>NaN</td>\n",
       "      <td>краснодар</td>\n",
       "      <td>рафаил</td>\n",
       "      <td>верещагин</td>\n",
       "      <td>2018-05-25</td>\n",
       "      <td>ultra</td>\n",
       "      <td>8</td>\n",
       "      <td>408</td>\n",
       "      <td>14</td>\n",
       "      <td>81</td>\n",
       "    </tr>\n",
       "    <tr>\n",
       "      <th>4</th>\n",
       "      <td>1000</td>\n",
       "      <td>52</td>\n",
       "      <td>NaN</td>\n",
       "      <td>краснодар</td>\n",
       "      <td>рафаил</td>\n",
       "      <td>верещагин</td>\n",
       "      <td>2018-05-25</td>\n",
       "      <td>ultra</td>\n",
       "      <td>9</td>\n",
       "      <td>466</td>\n",
       "      <td>15</td>\n",
       "      <td>57</td>\n",
       "    </tr>\n",
       "    <tr>\n",
       "      <th>...</th>\n",
       "      <td>...</td>\n",
       "      <td>...</td>\n",
       "      <td>...</td>\n",
       "      <td>...</td>\n",
       "      <td>...</td>\n",
       "      <td>...</td>\n",
       "      <td>...</td>\n",
       "      <td>...</td>\n",
       "      <td>...</td>\n",
       "      <td>...</td>\n",
       "      <td>...</td>\n",
       "      <td>...</td>\n",
       "    </tr>\n",
       "    <tr>\n",
       "      <th>3152</th>\n",
       "      <td>1498</td>\n",
       "      <td>68</td>\n",
       "      <td>2018-10-25</td>\n",
       "      <td>владикавказ</td>\n",
       "      <td>всеволод</td>\n",
       "      <td>акимчин</td>\n",
       "      <td>2018-07-19</td>\n",
       "      <td>smart</td>\n",
       "      <td>10</td>\n",
       "      <td>247</td>\n",
       "      <td>21</td>\n",
       "      <td>42</td>\n",
       "    </tr>\n",
       "    <tr>\n",
       "      <th>3153</th>\n",
       "      <td>1499</td>\n",
       "      <td>35</td>\n",
       "      <td>NaN</td>\n",
       "      <td>пермь</td>\n",
       "      <td>гектор</td>\n",
       "      <td>корнилов</td>\n",
       "      <td>2018-09-27</td>\n",
       "      <td>smart</td>\n",
       "      <td>9</td>\n",
       "      <td>70</td>\n",
       "      <td>2</td>\n",
       "      <td>11</td>\n",
       "    </tr>\n",
       "    <tr>\n",
       "      <th>3154</th>\n",
       "      <td>1499</td>\n",
       "      <td>35</td>\n",
       "      <td>NaN</td>\n",
       "      <td>пермь</td>\n",
       "      <td>гектор</td>\n",
       "      <td>корнилов</td>\n",
       "      <td>2018-09-27</td>\n",
       "      <td>smart</td>\n",
       "      <td>10</td>\n",
       "      <td>449</td>\n",
       "      <td>18</td>\n",
       "      <td>48</td>\n",
       "    </tr>\n",
       "    <tr>\n",
       "      <th>3155</th>\n",
       "      <td>1499</td>\n",
       "      <td>35</td>\n",
       "      <td>NaN</td>\n",
       "      <td>пермь</td>\n",
       "      <td>гектор</td>\n",
       "      <td>корнилов</td>\n",
       "      <td>2018-09-27</td>\n",
       "      <td>smart</td>\n",
       "      <td>11</td>\n",
       "      <td>612</td>\n",
       "      <td>18</td>\n",
       "      <td>59</td>\n",
       "    </tr>\n",
       "    <tr>\n",
       "      <th>3156</th>\n",
       "      <td>1499</td>\n",
       "      <td>35</td>\n",
       "      <td>NaN</td>\n",
       "      <td>пермь</td>\n",
       "      <td>гектор</td>\n",
       "      <td>корнилов</td>\n",
       "      <td>2018-09-27</td>\n",
       "      <td>smart</td>\n",
       "      <td>12</td>\n",
       "      <td>492</td>\n",
       "      <td>13</td>\n",
       "      <td>66</td>\n",
       "    </tr>\n",
       "  </tbody>\n",
       "</table>\n",
       "<p>3157 rows × 12 columns</p>\n",
       "</div>"
      ],
      "text/plain": [
       "      user_id  age  churn_date         city first_name  last_name   reg_date  \\\n",
       "0        1000   52         NaN    краснодар     рафаил  верещагин 2018-05-25   \n",
       "1        1000   52         NaN    краснодар     рафаил  верещагин 2018-05-25   \n",
       "2        1000   52         NaN    краснодар     рафаил  верещагин 2018-05-25   \n",
       "3        1000   52         NaN    краснодар     рафаил  верещагин 2018-05-25   \n",
       "4        1000   52         NaN    краснодар     рафаил  верещагин 2018-05-25   \n",
       "...       ...  ...         ...          ...        ...        ...        ...   \n",
       "3152     1498   68  2018-10-25  владикавказ   всеволод    акимчин 2018-07-19   \n",
       "3153     1499   35         NaN        пермь     гектор   корнилов 2018-09-27   \n",
       "3154     1499   35         NaN        пермь     гектор   корнилов 2018-09-27   \n",
       "3155     1499   35         NaN        пермь     гектор   корнилов 2018-09-27   \n",
       "3156     1499   35         NaN        пермь     гектор   корнилов 2018-09-27   \n",
       "\n",
       "     tariff  month  duration  gb_used  messages  \n",
       "0     ultra      5       159        3        22  \n",
       "1     ultra      6       172       23        60  \n",
       "2     ultra      7       340       14        75  \n",
       "3     ultra      8       408       14        81  \n",
       "4     ultra      9       466       15        57  \n",
       "...     ...    ...       ...      ...       ...  \n",
       "3152  smart     10       247       21        42  \n",
       "3153  smart      9        70        2        11  \n",
       "3154  smart     10       449       18        48  \n",
       "3155  smart     11       612       18        59  \n",
       "3156  smart     12       492       13        66  \n",
       "\n",
       "[3157 rows x 12 columns]"
      ]
     },
     "metadata": {},
     "output_type": "display_data"
    }
   ],
   "source": [
    "display(data_result_users)"
   ]
  },
  {
   "cell_type": "code",
   "execution_count": 46,
   "metadata": {},
   "outputs": [],
   "source": [
    "data_final = data_result_users.merge(data_tariffs, on='tariff')"
   ]
  },
  {
   "cell_type": "markdown",
   "metadata": {},
   "source": [
    "**Общая таблица:**"
   ]
  },
  {
   "cell_type": "code",
   "execution_count": 47,
   "metadata": {},
   "outputs": [
    {
     "data": {
      "text/html": [
       "<div>\n",
       "<style scoped>\n",
       "    .dataframe tbody tr th:only-of-type {\n",
       "        vertical-align: middle;\n",
       "    }\n",
       "\n",
       "    .dataframe tbody tr th {\n",
       "        vertical-align: top;\n",
       "    }\n",
       "\n",
       "    .dataframe thead th {\n",
       "        text-align: right;\n",
       "    }\n",
       "</style>\n",
       "<table border=\"1\" class=\"dataframe\">\n",
       "  <thead>\n",
       "    <tr style=\"text-align: right;\">\n",
       "      <th></th>\n",
       "      <th>user_id</th>\n",
       "      <th>age</th>\n",
       "      <th>churn_date</th>\n",
       "      <th>city</th>\n",
       "      <th>first_name</th>\n",
       "      <th>last_name</th>\n",
       "      <th>reg_date</th>\n",
       "      <th>tariff</th>\n",
       "      <th>month</th>\n",
       "      <th>duration</th>\n",
       "      <th>gb_used</th>\n",
       "      <th>messages</th>\n",
       "      <th>messages_included</th>\n",
       "      <th>minutes_included</th>\n",
       "      <th>rub_monthly_fee</th>\n",
       "      <th>rub_per_gb</th>\n",
       "      <th>rub_per_message</th>\n",
       "      <th>rub_per_minute</th>\n",
       "      <th>gb_per_month_included</th>\n",
       "    </tr>\n",
       "  </thead>\n",
       "  <tbody>\n",
       "    <tr>\n",
       "      <th>0</th>\n",
       "      <td>1000</td>\n",
       "      <td>52</td>\n",
       "      <td>NaN</td>\n",
       "      <td>краснодар</td>\n",
       "      <td>рафаил</td>\n",
       "      <td>верещагин</td>\n",
       "      <td>2018-05-25</td>\n",
       "      <td>ultra</td>\n",
       "      <td>5</td>\n",
       "      <td>159</td>\n",
       "      <td>3</td>\n",
       "      <td>22</td>\n",
       "      <td>1000</td>\n",
       "      <td>3000</td>\n",
       "      <td>1950</td>\n",
       "      <td>150</td>\n",
       "      <td>1</td>\n",
       "      <td>1</td>\n",
       "      <td>30</td>\n",
       "    </tr>\n",
       "    <tr>\n",
       "      <th>1</th>\n",
       "      <td>1000</td>\n",
       "      <td>52</td>\n",
       "      <td>NaN</td>\n",
       "      <td>краснодар</td>\n",
       "      <td>рафаил</td>\n",
       "      <td>верещагин</td>\n",
       "      <td>2018-05-25</td>\n",
       "      <td>ultra</td>\n",
       "      <td>6</td>\n",
       "      <td>172</td>\n",
       "      <td>23</td>\n",
       "      <td>60</td>\n",
       "      <td>1000</td>\n",
       "      <td>3000</td>\n",
       "      <td>1950</td>\n",
       "      <td>150</td>\n",
       "      <td>1</td>\n",
       "      <td>1</td>\n",
       "      <td>30</td>\n",
       "    </tr>\n",
       "    <tr>\n",
       "      <th>2</th>\n",
       "      <td>1000</td>\n",
       "      <td>52</td>\n",
       "      <td>NaN</td>\n",
       "      <td>краснодар</td>\n",
       "      <td>рафаил</td>\n",
       "      <td>верещагин</td>\n",
       "      <td>2018-05-25</td>\n",
       "      <td>ultra</td>\n",
       "      <td>7</td>\n",
       "      <td>340</td>\n",
       "      <td>14</td>\n",
       "      <td>75</td>\n",
       "      <td>1000</td>\n",
       "      <td>3000</td>\n",
       "      <td>1950</td>\n",
       "      <td>150</td>\n",
       "      <td>1</td>\n",
       "      <td>1</td>\n",
       "      <td>30</td>\n",
       "    </tr>\n",
       "    <tr>\n",
       "      <th>3</th>\n",
       "      <td>1000</td>\n",
       "      <td>52</td>\n",
       "      <td>NaN</td>\n",
       "      <td>краснодар</td>\n",
       "      <td>рафаил</td>\n",
       "      <td>верещагин</td>\n",
       "      <td>2018-05-25</td>\n",
       "      <td>ultra</td>\n",
       "      <td>8</td>\n",
       "      <td>408</td>\n",
       "      <td>14</td>\n",
       "      <td>81</td>\n",
       "      <td>1000</td>\n",
       "      <td>3000</td>\n",
       "      <td>1950</td>\n",
       "      <td>150</td>\n",
       "      <td>1</td>\n",
       "      <td>1</td>\n",
       "      <td>30</td>\n",
       "    </tr>\n",
       "    <tr>\n",
       "      <th>4</th>\n",
       "      <td>1000</td>\n",
       "      <td>52</td>\n",
       "      <td>NaN</td>\n",
       "      <td>краснодар</td>\n",
       "      <td>рафаил</td>\n",
       "      <td>верещагин</td>\n",
       "      <td>2018-05-25</td>\n",
       "      <td>ultra</td>\n",
       "      <td>9</td>\n",
       "      <td>466</td>\n",
       "      <td>15</td>\n",
       "      <td>57</td>\n",
       "      <td>1000</td>\n",
       "      <td>3000</td>\n",
       "      <td>1950</td>\n",
       "      <td>150</td>\n",
       "      <td>1</td>\n",
       "      <td>1</td>\n",
       "      <td>30</td>\n",
       "    </tr>\n",
       "    <tr>\n",
       "      <th>...</th>\n",
       "      <td>...</td>\n",
       "      <td>...</td>\n",
       "      <td>...</td>\n",
       "      <td>...</td>\n",
       "      <td>...</td>\n",
       "      <td>...</td>\n",
       "      <td>...</td>\n",
       "      <td>...</td>\n",
       "      <td>...</td>\n",
       "      <td>...</td>\n",
       "      <td>...</td>\n",
       "      <td>...</td>\n",
       "      <td>...</td>\n",
       "      <td>...</td>\n",
       "      <td>...</td>\n",
       "      <td>...</td>\n",
       "      <td>...</td>\n",
       "      <td>...</td>\n",
       "      <td>...</td>\n",
       "    </tr>\n",
       "    <tr>\n",
       "      <th>3152</th>\n",
       "      <td>1498</td>\n",
       "      <td>68</td>\n",
       "      <td>2018-10-25</td>\n",
       "      <td>владикавказ</td>\n",
       "      <td>всеволод</td>\n",
       "      <td>акимчин</td>\n",
       "      <td>2018-07-19</td>\n",
       "      <td>smart</td>\n",
       "      <td>10</td>\n",
       "      <td>247</td>\n",
       "      <td>21</td>\n",
       "      <td>42</td>\n",
       "      <td>50</td>\n",
       "      <td>500</td>\n",
       "      <td>550</td>\n",
       "      <td>200</td>\n",
       "      <td>3</td>\n",
       "      <td>3</td>\n",
       "      <td>15</td>\n",
       "    </tr>\n",
       "    <tr>\n",
       "      <th>3153</th>\n",
       "      <td>1499</td>\n",
       "      <td>35</td>\n",
       "      <td>NaN</td>\n",
       "      <td>пермь</td>\n",
       "      <td>гектор</td>\n",
       "      <td>корнилов</td>\n",
       "      <td>2018-09-27</td>\n",
       "      <td>smart</td>\n",
       "      <td>9</td>\n",
       "      <td>70</td>\n",
       "      <td>2</td>\n",
       "      <td>11</td>\n",
       "      <td>50</td>\n",
       "      <td>500</td>\n",
       "      <td>550</td>\n",
       "      <td>200</td>\n",
       "      <td>3</td>\n",
       "      <td>3</td>\n",
       "      <td>15</td>\n",
       "    </tr>\n",
       "    <tr>\n",
       "      <th>3154</th>\n",
       "      <td>1499</td>\n",
       "      <td>35</td>\n",
       "      <td>NaN</td>\n",
       "      <td>пермь</td>\n",
       "      <td>гектор</td>\n",
       "      <td>корнилов</td>\n",
       "      <td>2018-09-27</td>\n",
       "      <td>smart</td>\n",
       "      <td>10</td>\n",
       "      <td>449</td>\n",
       "      <td>18</td>\n",
       "      <td>48</td>\n",
       "      <td>50</td>\n",
       "      <td>500</td>\n",
       "      <td>550</td>\n",
       "      <td>200</td>\n",
       "      <td>3</td>\n",
       "      <td>3</td>\n",
       "      <td>15</td>\n",
       "    </tr>\n",
       "    <tr>\n",
       "      <th>3155</th>\n",
       "      <td>1499</td>\n",
       "      <td>35</td>\n",
       "      <td>NaN</td>\n",
       "      <td>пермь</td>\n",
       "      <td>гектор</td>\n",
       "      <td>корнилов</td>\n",
       "      <td>2018-09-27</td>\n",
       "      <td>smart</td>\n",
       "      <td>11</td>\n",
       "      <td>612</td>\n",
       "      <td>18</td>\n",
       "      <td>59</td>\n",
       "      <td>50</td>\n",
       "      <td>500</td>\n",
       "      <td>550</td>\n",
       "      <td>200</td>\n",
       "      <td>3</td>\n",
       "      <td>3</td>\n",
       "      <td>15</td>\n",
       "    </tr>\n",
       "    <tr>\n",
       "      <th>3156</th>\n",
       "      <td>1499</td>\n",
       "      <td>35</td>\n",
       "      <td>NaN</td>\n",
       "      <td>пермь</td>\n",
       "      <td>гектор</td>\n",
       "      <td>корнилов</td>\n",
       "      <td>2018-09-27</td>\n",
       "      <td>smart</td>\n",
       "      <td>12</td>\n",
       "      <td>492</td>\n",
       "      <td>13</td>\n",
       "      <td>66</td>\n",
       "      <td>50</td>\n",
       "      <td>500</td>\n",
       "      <td>550</td>\n",
       "      <td>200</td>\n",
       "      <td>3</td>\n",
       "      <td>3</td>\n",
       "      <td>15</td>\n",
       "    </tr>\n",
       "  </tbody>\n",
       "</table>\n",
       "<p>3157 rows × 19 columns</p>\n",
       "</div>"
      ],
      "text/plain": [
       "      user_id  age  churn_date         city first_name  last_name   reg_date  \\\n",
       "0        1000   52         NaN    краснодар     рафаил  верещагин 2018-05-25   \n",
       "1        1000   52         NaN    краснодар     рафаил  верещагин 2018-05-25   \n",
       "2        1000   52         NaN    краснодар     рафаил  верещагин 2018-05-25   \n",
       "3        1000   52         NaN    краснодар     рафаил  верещагин 2018-05-25   \n",
       "4        1000   52         NaN    краснодар     рафаил  верещагин 2018-05-25   \n",
       "...       ...  ...         ...          ...        ...        ...        ...   \n",
       "3152     1498   68  2018-10-25  владикавказ   всеволод    акимчин 2018-07-19   \n",
       "3153     1499   35         NaN        пермь     гектор   корнилов 2018-09-27   \n",
       "3154     1499   35         NaN        пермь     гектор   корнилов 2018-09-27   \n",
       "3155     1499   35         NaN        пермь     гектор   корнилов 2018-09-27   \n",
       "3156     1499   35         NaN        пермь     гектор   корнилов 2018-09-27   \n",
       "\n",
       "     tariff  month  duration  gb_used  messages  messages_included  \\\n",
       "0     ultra      5       159        3        22               1000   \n",
       "1     ultra      6       172       23        60               1000   \n",
       "2     ultra      7       340       14        75               1000   \n",
       "3     ultra      8       408       14        81               1000   \n",
       "4     ultra      9       466       15        57               1000   \n",
       "...     ...    ...       ...      ...       ...                ...   \n",
       "3152  smart     10       247       21        42                 50   \n",
       "3153  smart      9        70        2        11                 50   \n",
       "3154  smart     10       449       18        48                 50   \n",
       "3155  smart     11       612       18        59                 50   \n",
       "3156  smart     12       492       13        66                 50   \n",
       "\n",
       "      minutes_included  rub_monthly_fee  rub_per_gb  rub_per_message  \\\n",
       "0                 3000             1950         150                1   \n",
       "1                 3000             1950         150                1   \n",
       "2                 3000             1950         150                1   \n",
       "3                 3000             1950         150                1   \n",
       "4                 3000             1950         150                1   \n",
       "...                ...              ...         ...              ...   \n",
       "3152               500              550         200                3   \n",
       "3153               500              550         200                3   \n",
       "3154               500              550         200                3   \n",
       "3155               500              550         200                3   \n",
       "3156               500              550         200                3   \n",
       "\n",
       "      rub_per_minute  gb_per_month_included  \n",
       "0                  1                     30  \n",
       "1                  1                     30  \n",
       "2                  1                     30  \n",
       "3                  1                     30  \n",
       "4                  1                     30  \n",
       "...              ...                    ...  \n",
       "3152               3                     15  \n",
       "3153               3                     15  \n",
       "3154               3                     15  \n",
       "3155               3                     15  \n",
       "3156               3                     15  \n",
       "\n",
       "[3157 rows x 19 columns]"
      ]
     },
     "metadata": {},
     "output_type": "display_data"
    }
   ],
   "source": [
    "display(data_final)"
   ]
  },
  {
   "cell_type": "markdown",
   "metadata": {},
   "source": [
    "## Расчет параметров"
   ]
  },
  {
   "cell_type": "markdown",
   "metadata": {},
   "source": [
    "**Функции для расчета стоимости перерасхода траффика, сообщений и минут разговора:**"
   ]
  },
  {
   "cell_type": "code",
   "execution_count": 48,
   "metadata": {},
   "outputs": [],
   "source": [
    "def calc_proceeds_internet(data):\n",
    "    \n",
    "    gb_used = data['gb_used']    \n",
    "    internet = data['gb_per_month_included']\n",
    "    per_internet = data['rub_per_gb']\n",
    "\n",
    "    \n",
    "    if gb_used > internet: \n",
    "        return (gb_used - internet) * per_internet\n",
    "    else:\n",
    "        return 0\n",
    "    "
   ]
  },
  {
   "cell_type": "code",
   "execution_count": 49,
   "metadata": {},
   "outputs": [],
   "source": [
    "def calc_proceeds_call(data):\n",
    "    \n",
    "    call_duration = data['duration']\n",
    "    minutes = data['minutes_included']\n",
    "    per_minute = data['rub_per_minute']\n",
    "    \n",
    "    \n",
    "    if call_duration > minutes:\n",
    "        return (call_duration - minutes) * per_minute \n",
    "    else:\n",
    "        return 0\n",
    "    \n",
    "    "
   ]
  },
  {
   "cell_type": "code",
   "execution_count": 54,
   "metadata": {},
   "outputs": [],
   "source": [
    "def calc_proceeds_messages(data):\n",
    "    \n",
    "    messages_count = data['messages']\n",
    "    messages = data['messages_included']\n",
    "    per_message = data['rub_per_message']\n",
    "    \n",
    "    \n",
    "    if messages_count > messages:\n",
    "        return (messages_count - messages) * per_message \n",
    "    else:\n",
    "        return 0\n",
    "    "
   ]
  },
  {
   "cell_type": "code",
   "execution_count": 55,
   "metadata": {},
   "outputs": [],
   "source": [
    "data_final['proceeds_internet'] = data_final.apply(calc_proceeds_call, axis=1) "
   ]
  },
  {
   "cell_type": "code",
   "execution_count": 56,
   "metadata": {},
   "outputs": [],
   "source": [
    "data_final['proceeds_call'] = data_final.apply(calc_proceeds_call, axis=1) "
   ]
  },
  {
   "cell_type": "code",
   "execution_count": 57,
   "metadata": {},
   "outputs": [],
   "source": [
    "data_final['proceeds_messages'] = data_final.apply(calc_proceeds_messages, axis=1)"
   ]
  },
  {
   "cell_type": "code",
   "execution_count": 58,
   "metadata": {},
   "outputs": [],
   "source": [
    "data_final['final_proceeds'] = data_final['rub_monthly_fee'] + data_final['proceeds_internet'] + data_final['proceeds_call'] + data_final['proceeds_messages']\n"
   ]
  },
  {
   "cell_type": "code",
   "execution_count": 59,
   "metadata": {},
   "outputs": [],
   "source": [
    "data_finalX = data_final.groupby(['user_id','month']).sum()"
   ]
  },
  {
   "cell_type": "code",
   "execution_count": 60,
   "metadata": {},
   "outputs": [
    {
     "data": {
      "text/html": [
       "<div>\n",
       "<style scoped>\n",
       "    .dataframe tbody tr th:only-of-type {\n",
       "        vertical-align: middle;\n",
       "    }\n",
       "\n",
       "    .dataframe tbody tr th {\n",
       "        vertical-align: top;\n",
       "    }\n",
       "\n",
       "    .dataframe thead th {\n",
       "        text-align: right;\n",
       "    }\n",
       "</style>\n",
       "<table border=\"1\" class=\"dataframe\">\n",
       "  <thead>\n",
       "    <tr style=\"text-align: right;\">\n",
       "      <th></th>\n",
       "      <th></th>\n",
       "      <th>age</th>\n",
       "      <th>duration</th>\n",
       "      <th>gb_used</th>\n",
       "      <th>messages</th>\n",
       "      <th>messages_included</th>\n",
       "      <th>minutes_included</th>\n",
       "      <th>rub_monthly_fee</th>\n",
       "      <th>rub_per_gb</th>\n",
       "      <th>rub_per_message</th>\n",
       "      <th>rub_per_minute</th>\n",
       "      <th>gb_per_month_included</th>\n",
       "      <th>proceeds_internet</th>\n",
       "      <th>proceeds_call</th>\n",
       "      <th>proceeds_messages</th>\n",
       "      <th>final_proceeds</th>\n",
       "    </tr>\n",
       "    <tr>\n",
       "      <th>user_id</th>\n",
       "      <th>month</th>\n",
       "      <th></th>\n",
       "      <th></th>\n",
       "      <th></th>\n",
       "      <th></th>\n",
       "      <th></th>\n",
       "      <th></th>\n",
       "      <th></th>\n",
       "      <th></th>\n",
       "      <th></th>\n",
       "      <th></th>\n",
       "      <th></th>\n",
       "      <th></th>\n",
       "      <th></th>\n",
       "      <th></th>\n",
       "      <th></th>\n",
       "    </tr>\n",
       "  </thead>\n",
       "  <tbody>\n",
       "    <tr>\n",
       "      <th rowspan=\"5\" valign=\"top\">1000</th>\n",
       "      <th>5</th>\n",
       "      <td>52</td>\n",
       "      <td>159</td>\n",
       "      <td>3</td>\n",
       "      <td>22</td>\n",
       "      <td>1000</td>\n",
       "      <td>3000</td>\n",
       "      <td>1950</td>\n",
       "      <td>150</td>\n",
       "      <td>1</td>\n",
       "      <td>1</td>\n",
       "      <td>30</td>\n",
       "      <td>0</td>\n",
       "      <td>0</td>\n",
       "      <td>0</td>\n",
       "      <td>1950</td>\n",
       "    </tr>\n",
       "    <tr>\n",
       "      <th>6</th>\n",
       "      <td>52</td>\n",
       "      <td>172</td>\n",
       "      <td>23</td>\n",
       "      <td>60</td>\n",
       "      <td>1000</td>\n",
       "      <td>3000</td>\n",
       "      <td>1950</td>\n",
       "      <td>150</td>\n",
       "      <td>1</td>\n",
       "      <td>1</td>\n",
       "      <td>30</td>\n",
       "      <td>0</td>\n",
       "      <td>0</td>\n",
       "      <td>0</td>\n",
       "      <td>1950</td>\n",
       "    </tr>\n",
       "    <tr>\n",
       "      <th>7</th>\n",
       "      <td>52</td>\n",
       "      <td>340</td>\n",
       "      <td>14</td>\n",
       "      <td>75</td>\n",
       "      <td>1000</td>\n",
       "      <td>3000</td>\n",
       "      <td>1950</td>\n",
       "      <td>150</td>\n",
       "      <td>1</td>\n",
       "      <td>1</td>\n",
       "      <td>30</td>\n",
       "      <td>0</td>\n",
       "      <td>0</td>\n",
       "      <td>0</td>\n",
       "      <td>1950</td>\n",
       "    </tr>\n",
       "    <tr>\n",
       "      <th>8</th>\n",
       "      <td>52</td>\n",
       "      <td>408</td>\n",
       "      <td>14</td>\n",
       "      <td>81</td>\n",
       "      <td>1000</td>\n",
       "      <td>3000</td>\n",
       "      <td>1950</td>\n",
       "      <td>150</td>\n",
       "      <td>1</td>\n",
       "      <td>1</td>\n",
       "      <td>30</td>\n",
       "      <td>0</td>\n",
       "      <td>0</td>\n",
       "      <td>0</td>\n",
       "      <td>1950</td>\n",
       "    </tr>\n",
       "    <tr>\n",
       "      <th>9</th>\n",
       "      <td>52</td>\n",
       "      <td>466</td>\n",
       "      <td>15</td>\n",
       "      <td>57</td>\n",
       "      <td>1000</td>\n",
       "      <td>3000</td>\n",
       "      <td>1950</td>\n",
       "      <td>150</td>\n",
       "      <td>1</td>\n",
       "      <td>1</td>\n",
       "      <td>30</td>\n",
       "      <td>0</td>\n",
       "      <td>0</td>\n",
       "      <td>0</td>\n",
       "      <td>1950</td>\n",
       "    </tr>\n",
       "    <tr>\n",
       "      <th>...</th>\n",
       "      <th>...</th>\n",
       "      <td>...</td>\n",
       "      <td>...</td>\n",
       "      <td>...</td>\n",
       "      <td>...</td>\n",
       "      <td>...</td>\n",
       "      <td>...</td>\n",
       "      <td>...</td>\n",
       "      <td>...</td>\n",
       "      <td>...</td>\n",
       "      <td>...</td>\n",
       "      <td>...</td>\n",
       "      <td>...</td>\n",
       "      <td>...</td>\n",
       "      <td>...</td>\n",
       "      <td>...</td>\n",
       "    </tr>\n",
       "    <tr>\n",
       "      <th>1498</th>\n",
       "      <th>10</th>\n",
       "      <td>68</td>\n",
       "      <td>247</td>\n",
       "      <td>21</td>\n",
       "      <td>42</td>\n",
       "      <td>50</td>\n",
       "      <td>500</td>\n",
       "      <td>550</td>\n",
       "      <td>200</td>\n",
       "      <td>3</td>\n",
       "      <td>3</td>\n",
       "      <td>15</td>\n",
       "      <td>0</td>\n",
       "      <td>0</td>\n",
       "      <td>0</td>\n",
       "      <td>550</td>\n",
       "    </tr>\n",
       "    <tr>\n",
       "      <th rowspan=\"4\" valign=\"top\">1499</th>\n",
       "      <th>9</th>\n",
       "      <td>35</td>\n",
       "      <td>70</td>\n",
       "      <td>2</td>\n",
       "      <td>11</td>\n",
       "      <td>50</td>\n",
       "      <td>500</td>\n",
       "      <td>550</td>\n",
       "      <td>200</td>\n",
       "      <td>3</td>\n",
       "      <td>3</td>\n",
       "      <td>15</td>\n",
       "      <td>0</td>\n",
       "      <td>0</td>\n",
       "      <td>0</td>\n",
       "      <td>550</td>\n",
       "    </tr>\n",
       "    <tr>\n",
       "      <th>10</th>\n",
       "      <td>35</td>\n",
       "      <td>449</td>\n",
       "      <td>18</td>\n",
       "      <td>48</td>\n",
       "      <td>50</td>\n",
       "      <td>500</td>\n",
       "      <td>550</td>\n",
       "      <td>200</td>\n",
       "      <td>3</td>\n",
       "      <td>3</td>\n",
       "      <td>15</td>\n",
       "      <td>0</td>\n",
       "      <td>0</td>\n",
       "      <td>0</td>\n",
       "      <td>550</td>\n",
       "    </tr>\n",
       "    <tr>\n",
       "      <th>11</th>\n",
       "      <td>35</td>\n",
       "      <td>612</td>\n",
       "      <td>18</td>\n",
       "      <td>59</td>\n",
       "      <td>50</td>\n",
       "      <td>500</td>\n",
       "      <td>550</td>\n",
       "      <td>200</td>\n",
       "      <td>3</td>\n",
       "      <td>3</td>\n",
       "      <td>15</td>\n",
       "      <td>336</td>\n",
       "      <td>336</td>\n",
       "      <td>27</td>\n",
       "      <td>1249</td>\n",
       "    </tr>\n",
       "    <tr>\n",
       "      <th>12</th>\n",
       "      <td>35</td>\n",
       "      <td>492</td>\n",
       "      <td>13</td>\n",
       "      <td>66</td>\n",
       "      <td>50</td>\n",
       "      <td>500</td>\n",
       "      <td>550</td>\n",
       "      <td>200</td>\n",
       "      <td>3</td>\n",
       "      <td>3</td>\n",
       "      <td>15</td>\n",
       "      <td>0</td>\n",
       "      <td>0</td>\n",
       "      <td>48</td>\n",
       "      <td>598</td>\n",
       "    </tr>\n",
       "  </tbody>\n",
       "</table>\n",
       "<p>3157 rows × 15 columns</p>\n",
       "</div>"
      ],
      "text/plain": [
       "               age  duration  gb_used  messages  messages_included  \\\n",
       "user_id month                                                        \n",
       "1000    5       52       159        3        22               1000   \n",
       "        6       52       172       23        60               1000   \n",
       "        7       52       340       14        75               1000   \n",
       "        8       52       408       14        81               1000   \n",
       "        9       52       466       15        57               1000   \n",
       "...            ...       ...      ...       ...                ...   \n",
       "1498    10      68       247       21        42                 50   \n",
       "1499    9       35        70        2        11                 50   \n",
       "        10      35       449       18        48                 50   \n",
       "        11      35       612       18        59                 50   \n",
       "        12      35       492       13        66                 50   \n",
       "\n",
       "               minutes_included  rub_monthly_fee  rub_per_gb  rub_per_message  \\\n",
       "user_id month                                                                   \n",
       "1000    5                  3000             1950         150                1   \n",
       "        6                  3000             1950         150                1   \n",
       "        7                  3000             1950         150                1   \n",
       "        8                  3000             1950         150                1   \n",
       "        9                  3000             1950         150                1   \n",
       "...                         ...              ...         ...              ...   \n",
       "1498    10                  500              550         200                3   \n",
       "1499    9                   500              550         200                3   \n",
       "        10                  500              550         200                3   \n",
       "        11                  500              550         200                3   \n",
       "        12                  500              550         200                3   \n",
       "\n",
       "               rub_per_minute  gb_per_month_included  proceeds_internet  \\\n",
       "user_id month                                                             \n",
       "1000    5                   1                     30                  0   \n",
       "        6                   1                     30                  0   \n",
       "        7                   1                     30                  0   \n",
       "        8                   1                     30                  0   \n",
       "        9                   1                     30                  0   \n",
       "...                       ...                    ...                ...   \n",
       "1498    10                  3                     15                  0   \n",
       "1499    9                   3                     15                  0   \n",
       "        10                  3                     15                  0   \n",
       "        11                  3                     15                336   \n",
       "        12                  3                     15                  0   \n",
       "\n",
       "               proceeds_call  proceeds_messages  final_proceeds  \n",
       "user_id month                                                    \n",
       "1000    5                  0                  0            1950  \n",
       "        6                  0                  0            1950  \n",
       "        7                  0                  0            1950  \n",
       "        8                  0                  0            1950  \n",
       "        9                  0                  0            1950  \n",
       "...                      ...                ...             ...  \n",
       "1498    10                 0                  0             550  \n",
       "1499    9                  0                  0             550  \n",
       "        10                 0                  0             550  \n",
       "        11               336                 27            1249  \n",
       "        12                 0                 48             598  \n",
       "\n",
       "[3157 rows x 15 columns]"
      ]
     },
     "metadata": {},
     "output_type": "display_data"
    }
   ],
   "source": [
    "display(data_finalX)"
   ]
  },
  {
   "cell_type": "code",
   "execution_count": 61,
   "metadata": {},
   "outputs": [],
   "source": [
    "W = []\n",
    "\n",
    "for raw in data_finalX['gb_per_month_included']:\n",
    "    if raw == 30:\n",
    "        W.append('ultra')\n",
    "    else:\n",
    "        W.append('smart')\n",
    "\n",
    "data_finalX['tariff'] = W"
   ]
  },
  {
   "cell_type": "markdown",
   "metadata": {},
   "source": [
    "**Финальная таблица с расчетами и данными:**"
   ]
  },
  {
   "cell_type": "code",
   "execution_count": 62,
   "metadata": {},
   "outputs": [
    {
     "data": {
      "text/html": [
       "<div>\n",
       "<style scoped>\n",
       "    .dataframe tbody tr th:only-of-type {\n",
       "        vertical-align: middle;\n",
       "    }\n",
       "\n",
       "    .dataframe tbody tr th {\n",
       "        vertical-align: top;\n",
       "    }\n",
       "\n",
       "    .dataframe thead th {\n",
       "        text-align: right;\n",
       "    }\n",
       "</style>\n",
       "<table border=\"1\" class=\"dataframe\">\n",
       "  <thead>\n",
       "    <tr style=\"text-align: right;\">\n",
       "      <th></th>\n",
       "      <th></th>\n",
       "      <th>age</th>\n",
       "      <th>duration</th>\n",
       "      <th>gb_used</th>\n",
       "      <th>messages</th>\n",
       "      <th>messages_included</th>\n",
       "      <th>minutes_included</th>\n",
       "      <th>rub_monthly_fee</th>\n",
       "      <th>rub_per_gb</th>\n",
       "      <th>rub_per_message</th>\n",
       "      <th>rub_per_minute</th>\n",
       "      <th>gb_per_month_included</th>\n",
       "      <th>proceeds_internet</th>\n",
       "      <th>proceeds_call</th>\n",
       "      <th>proceeds_messages</th>\n",
       "      <th>final_proceeds</th>\n",
       "      <th>tariff</th>\n",
       "    </tr>\n",
       "    <tr>\n",
       "      <th>user_id</th>\n",
       "      <th>month</th>\n",
       "      <th></th>\n",
       "      <th></th>\n",
       "      <th></th>\n",
       "      <th></th>\n",
       "      <th></th>\n",
       "      <th></th>\n",
       "      <th></th>\n",
       "      <th></th>\n",
       "      <th></th>\n",
       "      <th></th>\n",
       "      <th></th>\n",
       "      <th></th>\n",
       "      <th></th>\n",
       "      <th></th>\n",
       "      <th></th>\n",
       "      <th></th>\n",
       "    </tr>\n",
       "  </thead>\n",
       "  <tbody>\n",
       "    <tr>\n",
       "      <th rowspan=\"5\" valign=\"top\">1000</th>\n",
       "      <th>5</th>\n",
       "      <td>52</td>\n",
       "      <td>159</td>\n",
       "      <td>3</td>\n",
       "      <td>22</td>\n",
       "      <td>1000</td>\n",
       "      <td>3000</td>\n",
       "      <td>1950</td>\n",
       "      <td>150</td>\n",
       "      <td>1</td>\n",
       "      <td>1</td>\n",
       "      <td>30</td>\n",
       "      <td>0</td>\n",
       "      <td>0</td>\n",
       "      <td>0</td>\n",
       "      <td>1950</td>\n",
       "      <td>ultra</td>\n",
       "    </tr>\n",
       "    <tr>\n",
       "      <th>6</th>\n",
       "      <td>52</td>\n",
       "      <td>172</td>\n",
       "      <td>23</td>\n",
       "      <td>60</td>\n",
       "      <td>1000</td>\n",
       "      <td>3000</td>\n",
       "      <td>1950</td>\n",
       "      <td>150</td>\n",
       "      <td>1</td>\n",
       "      <td>1</td>\n",
       "      <td>30</td>\n",
       "      <td>0</td>\n",
       "      <td>0</td>\n",
       "      <td>0</td>\n",
       "      <td>1950</td>\n",
       "      <td>ultra</td>\n",
       "    </tr>\n",
       "    <tr>\n",
       "      <th>7</th>\n",
       "      <td>52</td>\n",
       "      <td>340</td>\n",
       "      <td>14</td>\n",
       "      <td>75</td>\n",
       "      <td>1000</td>\n",
       "      <td>3000</td>\n",
       "      <td>1950</td>\n",
       "      <td>150</td>\n",
       "      <td>1</td>\n",
       "      <td>1</td>\n",
       "      <td>30</td>\n",
       "      <td>0</td>\n",
       "      <td>0</td>\n",
       "      <td>0</td>\n",
       "      <td>1950</td>\n",
       "      <td>ultra</td>\n",
       "    </tr>\n",
       "    <tr>\n",
       "      <th>8</th>\n",
       "      <td>52</td>\n",
       "      <td>408</td>\n",
       "      <td>14</td>\n",
       "      <td>81</td>\n",
       "      <td>1000</td>\n",
       "      <td>3000</td>\n",
       "      <td>1950</td>\n",
       "      <td>150</td>\n",
       "      <td>1</td>\n",
       "      <td>1</td>\n",
       "      <td>30</td>\n",
       "      <td>0</td>\n",
       "      <td>0</td>\n",
       "      <td>0</td>\n",
       "      <td>1950</td>\n",
       "      <td>ultra</td>\n",
       "    </tr>\n",
       "    <tr>\n",
       "      <th>9</th>\n",
       "      <td>52</td>\n",
       "      <td>466</td>\n",
       "      <td>15</td>\n",
       "      <td>57</td>\n",
       "      <td>1000</td>\n",
       "      <td>3000</td>\n",
       "      <td>1950</td>\n",
       "      <td>150</td>\n",
       "      <td>1</td>\n",
       "      <td>1</td>\n",
       "      <td>30</td>\n",
       "      <td>0</td>\n",
       "      <td>0</td>\n",
       "      <td>0</td>\n",
       "      <td>1950</td>\n",
       "      <td>ultra</td>\n",
       "    </tr>\n",
       "    <tr>\n",
       "      <th>...</th>\n",
       "      <th>...</th>\n",
       "      <td>...</td>\n",
       "      <td>...</td>\n",
       "      <td>...</td>\n",
       "      <td>...</td>\n",
       "      <td>...</td>\n",
       "      <td>...</td>\n",
       "      <td>...</td>\n",
       "      <td>...</td>\n",
       "      <td>...</td>\n",
       "      <td>...</td>\n",
       "      <td>...</td>\n",
       "      <td>...</td>\n",
       "      <td>...</td>\n",
       "      <td>...</td>\n",
       "      <td>...</td>\n",
       "      <td>...</td>\n",
       "    </tr>\n",
       "    <tr>\n",
       "      <th>1498</th>\n",
       "      <th>10</th>\n",
       "      <td>68</td>\n",
       "      <td>247</td>\n",
       "      <td>21</td>\n",
       "      <td>42</td>\n",
       "      <td>50</td>\n",
       "      <td>500</td>\n",
       "      <td>550</td>\n",
       "      <td>200</td>\n",
       "      <td>3</td>\n",
       "      <td>3</td>\n",
       "      <td>15</td>\n",
       "      <td>0</td>\n",
       "      <td>0</td>\n",
       "      <td>0</td>\n",
       "      <td>550</td>\n",
       "      <td>smart</td>\n",
       "    </tr>\n",
       "    <tr>\n",
       "      <th rowspan=\"4\" valign=\"top\">1499</th>\n",
       "      <th>9</th>\n",
       "      <td>35</td>\n",
       "      <td>70</td>\n",
       "      <td>2</td>\n",
       "      <td>11</td>\n",
       "      <td>50</td>\n",
       "      <td>500</td>\n",
       "      <td>550</td>\n",
       "      <td>200</td>\n",
       "      <td>3</td>\n",
       "      <td>3</td>\n",
       "      <td>15</td>\n",
       "      <td>0</td>\n",
       "      <td>0</td>\n",
       "      <td>0</td>\n",
       "      <td>550</td>\n",
       "      <td>smart</td>\n",
       "    </tr>\n",
       "    <tr>\n",
       "      <th>10</th>\n",
       "      <td>35</td>\n",
       "      <td>449</td>\n",
       "      <td>18</td>\n",
       "      <td>48</td>\n",
       "      <td>50</td>\n",
       "      <td>500</td>\n",
       "      <td>550</td>\n",
       "      <td>200</td>\n",
       "      <td>3</td>\n",
       "      <td>3</td>\n",
       "      <td>15</td>\n",
       "      <td>0</td>\n",
       "      <td>0</td>\n",
       "      <td>0</td>\n",
       "      <td>550</td>\n",
       "      <td>smart</td>\n",
       "    </tr>\n",
       "    <tr>\n",
       "      <th>11</th>\n",
       "      <td>35</td>\n",
       "      <td>612</td>\n",
       "      <td>18</td>\n",
       "      <td>59</td>\n",
       "      <td>50</td>\n",
       "      <td>500</td>\n",
       "      <td>550</td>\n",
       "      <td>200</td>\n",
       "      <td>3</td>\n",
       "      <td>3</td>\n",
       "      <td>15</td>\n",
       "      <td>336</td>\n",
       "      <td>336</td>\n",
       "      <td>27</td>\n",
       "      <td>1249</td>\n",
       "      <td>smart</td>\n",
       "    </tr>\n",
       "    <tr>\n",
       "      <th>12</th>\n",
       "      <td>35</td>\n",
       "      <td>492</td>\n",
       "      <td>13</td>\n",
       "      <td>66</td>\n",
       "      <td>50</td>\n",
       "      <td>500</td>\n",
       "      <td>550</td>\n",
       "      <td>200</td>\n",
       "      <td>3</td>\n",
       "      <td>3</td>\n",
       "      <td>15</td>\n",
       "      <td>0</td>\n",
       "      <td>0</td>\n",
       "      <td>48</td>\n",
       "      <td>598</td>\n",
       "      <td>smart</td>\n",
       "    </tr>\n",
       "  </tbody>\n",
       "</table>\n",
       "<p>3157 rows × 16 columns</p>\n",
       "</div>"
      ],
      "text/plain": [
       "               age  duration  gb_used  messages  messages_included  \\\n",
       "user_id month                                                        \n",
       "1000    5       52       159        3        22               1000   \n",
       "        6       52       172       23        60               1000   \n",
       "        7       52       340       14        75               1000   \n",
       "        8       52       408       14        81               1000   \n",
       "        9       52       466       15        57               1000   \n",
       "...            ...       ...      ...       ...                ...   \n",
       "1498    10      68       247       21        42                 50   \n",
       "1499    9       35        70        2        11                 50   \n",
       "        10      35       449       18        48                 50   \n",
       "        11      35       612       18        59                 50   \n",
       "        12      35       492       13        66                 50   \n",
       "\n",
       "               minutes_included  rub_monthly_fee  rub_per_gb  rub_per_message  \\\n",
       "user_id month                                                                   \n",
       "1000    5                  3000             1950         150                1   \n",
       "        6                  3000             1950         150                1   \n",
       "        7                  3000             1950         150                1   \n",
       "        8                  3000             1950         150                1   \n",
       "        9                  3000             1950         150                1   \n",
       "...                         ...              ...         ...              ...   \n",
       "1498    10                  500              550         200                3   \n",
       "1499    9                   500              550         200                3   \n",
       "        10                  500              550         200                3   \n",
       "        11                  500              550         200                3   \n",
       "        12                  500              550         200                3   \n",
       "\n",
       "               rub_per_minute  gb_per_month_included  proceeds_internet  \\\n",
       "user_id month                                                             \n",
       "1000    5                   1                     30                  0   \n",
       "        6                   1                     30                  0   \n",
       "        7                   1                     30                  0   \n",
       "        8                   1                     30                  0   \n",
       "        9                   1                     30                  0   \n",
       "...                       ...                    ...                ...   \n",
       "1498    10                  3                     15                  0   \n",
       "1499    9                   3                     15                  0   \n",
       "        10                  3                     15                  0   \n",
       "        11                  3                     15                336   \n",
       "        12                  3                     15                  0   \n",
       "\n",
       "               proceeds_call  proceeds_messages  final_proceeds tariff  \n",
       "user_id month                                                           \n",
       "1000    5                  0                  0            1950  ultra  \n",
       "        6                  0                  0            1950  ultra  \n",
       "        7                  0                  0            1950  ultra  \n",
       "        8                  0                  0            1950  ultra  \n",
       "        9                  0                  0            1950  ultra  \n",
       "...                      ...                ...             ...    ...  \n",
       "1498    10                 0                  0             550  smart  \n",
       "1499    9                  0                  0             550  smart  \n",
       "        10                 0                  0             550  smart  \n",
       "        11               336                 27            1249  smart  \n",
       "        12                 0                 48             598  smart  \n",
       "\n",
       "[3157 rows x 16 columns]"
      ]
     },
     "metadata": {},
     "output_type": "display_data"
    }
   ],
   "source": [
    "display(data_finalX)"
   ]
  },
  {
   "cell_type": "code",
   "execution_count": 63,
   "metadata": {},
   "outputs": [
    {
     "name": "stdout",
     "output_type": "stream",
     "text": [
      "<class 'pandas.core.frame.DataFrame'>\n",
      "MultiIndex: 3157 entries, (1000, 5) to (1499, 12)\n",
      "Data columns (total 16 columns):\n",
      " #   Column                 Non-Null Count  Dtype \n",
      "---  ------                 --------------  ----- \n",
      " 0   age                    3157 non-null   int64 \n",
      " 1   duration               3157 non-null   int64 \n",
      " 2   gb_used                3157 non-null   int64 \n",
      " 3   messages               3157 non-null   int64 \n",
      " 4   messages_included      3157 non-null   int64 \n",
      " 5   minutes_included       3157 non-null   int64 \n",
      " 6   rub_monthly_fee        3157 non-null   int64 \n",
      " 7   rub_per_gb             3157 non-null   int64 \n",
      " 8   rub_per_message        3157 non-null   int64 \n",
      " 9   rub_per_minute         3157 non-null   int64 \n",
      " 10  gb_per_month_included  3157 non-null   int64 \n",
      " 11  proceeds_internet      3157 non-null   int64 \n",
      " 12  proceeds_call          3157 non-null   int64 \n",
      " 13  proceeds_messages      3157 non-null   int64 \n",
      " 14  final_proceeds         3157 non-null   int64 \n",
      " 15  tariff                 3157 non-null   object\n",
      "dtypes: int64(15), object(1)\n",
      "memory usage: 407.9+ KB\n"
     ]
    }
   ],
   "source": [
    "data_finalX.info()"
   ]
  },
  {
   "cell_type": "markdown",
   "metadata": {},
   "source": [
    "<div style=\"border:solid lightblue 3px; padding: 20px\">\n",
    "<b>Посчитанно для каждого пользователя:</b>\n",
    "\n",
    "количество израсходованных минут разговора по месяцам;\n",
    "\n",
    "количество отправленных сообщений по месяцам;\n",
    "\n",
    "объем израсходованного интернет-трафика по месяцам;\n",
    "\n",
    "помесячная выручку с каждого пользователя."
   ]
  },
  {
   "cell_type": "code",
   "execution_count": 64,
   "metadata": {},
   "outputs": [],
   "source": [
    "data_final_smart = data_finalX.query('tariff == \"smart\"').reset_index()\n"
   ]
  },
  {
   "cell_type": "code",
   "execution_count": 65,
   "metadata": {},
   "outputs": [
    {
     "data": {
      "text/html": [
       "<div>\n",
       "<style scoped>\n",
       "    .dataframe tbody tr th:only-of-type {\n",
       "        vertical-align: middle;\n",
       "    }\n",
       "\n",
       "    .dataframe tbody tr th {\n",
       "        vertical-align: top;\n",
       "    }\n",
       "\n",
       "    .dataframe thead th {\n",
       "        text-align: right;\n",
       "    }\n",
       "</style>\n",
       "<table border=\"1\" class=\"dataframe\">\n",
       "  <thead>\n",
       "    <tr style=\"text-align: right;\">\n",
       "      <th></th>\n",
       "      <th>user_id</th>\n",
       "      <th>month</th>\n",
       "      <th>age</th>\n",
       "      <th>duration</th>\n",
       "      <th>gb_used</th>\n",
       "      <th>messages</th>\n",
       "      <th>messages_included</th>\n",
       "      <th>minutes_included</th>\n",
       "      <th>rub_monthly_fee</th>\n",
       "      <th>rub_per_gb</th>\n",
       "      <th>rub_per_message</th>\n",
       "      <th>rub_per_minute</th>\n",
       "      <th>gb_per_month_included</th>\n",
       "      <th>proceeds_internet</th>\n",
       "      <th>proceeds_call</th>\n",
       "      <th>proceeds_messages</th>\n",
       "      <th>final_proceeds</th>\n",
       "      <th>tariff</th>\n",
       "    </tr>\n",
       "  </thead>\n",
       "  <tbody>\n",
       "    <tr>\n",
       "      <th>0</th>\n",
       "      <td>1001</td>\n",
       "      <td>11</td>\n",
       "      <td>41</td>\n",
       "      <td>430</td>\n",
       "      <td>18</td>\n",
       "      <td>0</td>\n",
       "      <td>50</td>\n",
       "      <td>500</td>\n",
       "      <td>550</td>\n",
       "      <td>200</td>\n",
       "      <td>3</td>\n",
       "      <td>3</td>\n",
       "      <td>15</td>\n",
       "      <td>0</td>\n",
       "      <td>0</td>\n",
       "      <td>0</td>\n",
       "      <td>550</td>\n",
       "      <td>smart</td>\n",
       "    </tr>\n",
       "    <tr>\n",
       "      <th>1</th>\n",
       "      <td>1001</td>\n",
       "      <td>12</td>\n",
       "      <td>41</td>\n",
       "      <td>414</td>\n",
       "      <td>14</td>\n",
       "      <td>0</td>\n",
       "      <td>50</td>\n",
       "      <td>500</td>\n",
       "      <td>550</td>\n",
       "      <td>200</td>\n",
       "      <td>3</td>\n",
       "      <td>3</td>\n",
       "      <td>15</td>\n",
       "      <td>0</td>\n",
       "      <td>0</td>\n",
       "      <td>0</td>\n",
       "      <td>550</td>\n",
       "      <td>smart</td>\n",
       "    </tr>\n",
       "    <tr>\n",
       "      <th>2</th>\n",
       "      <td>1002</td>\n",
       "      <td>6</td>\n",
       "      <td>59</td>\n",
       "      <td>117</td>\n",
       "      <td>11</td>\n",
       "      <td>4</td>\n",
       "      <td>50</td>\n",
       "      <td>500</td>\n",
       "      <td>550</td>\n",
       "      <td>200</td>\n",
       "      <td>3</td>\n",
       "      <td>3</td>\n",
       "      <td>15</td>\n",
       "      <td>0</td>\n",
       "      <td>0</td>\n",
       "      <td>0</td>\n",
       "      <td>550</td>\n",
       "      <td>smart</td>\n",
       "    </tr>\n",
       "    <tr>\n",
       "      <th>3</th>\n",
       "      <td>1002</td>\n",
       "      <td>7</td>\n",
       "      <td>59</td>\n",
       "      <td>214</td>\n",
       "      <td>18</td>\n",
       "      <td>11</td>\n",
       "      <td>50</td>\n",
       "      <td>500</td>\n",
       "      <td>550</td>\n",
       "      <td>200</td>\n",
       "      <td>3</td>\n",
       "      <td>3</td>\n",
       "      <td>15</td>\n",
       "      <td>0</td>\n",
       "      <td>0</td>\n",
       "      <td>0</td>\n",
       "      <td>550</td>\n",
       "      <td>smart</td>\n",
       "    </tr>\n",
       "    <tr>\n",
       "      <th>4</th>\n",
       "      <td>1002</td>\n",
       "      <td>8</td>\n",
       "      <td>59</td>\n",
       "      <td>289</td>\n",
       "      <td>20</td>\n",
       "      <td>13</td>\n",
       "      <td>50</td>\n",
       "      <td>500</td>\n",
       "      <td>550</td>\n",
       "      <td>200</td>\n",
       "      <td>3</td>\n",
       "      <td>3</td>\n",
       "      <td>15</td>\n",
       "      <td>0</td>\n",
       "      <td>0</td>\n",
       "      <td>0</td>\n",
       "      <td>550</td>\n",
       "      <td>smart</td>\n",
       "    </tr>\n",
       "    <tr>\n",
       "      <th>...</th>\n",
       "      <td>...</td>\n",
       "      <td>...</td>\n",
       "      <td>...</td>\n",
       "      <td>...</td>\n",
       "      <td>...</td>\n",
       "      <td>...</td>\n",
       "      <td>...</td>\n",
       "      <td>...</td>\n",
       "      <td>...</td>\n",
       "      <td>...</td>\n",
       "      <td>...</td>\n",
       "      <td>...</td>\n",
       "      <td>...</td>\n",
       "      <td>...</td>\n",
       "      <td>...</td>\n",
       "      <td>...</td>\n",
       "      <td>...</td>\n",
       "      <td>...</td>\n",
       "    </tr>\n",
       "    <tr>\n",
       "      <th>2215</th>\n",
       "      <td>1498</td>\n",
       "      <td>10</td>\n",
       "      <td>68</td>\n",
       "      <td>247</td>\n",
       "      <td>21</td>\n",
       "      <td>42</td>\n",
       "      <td>50</td>\n",
       "      <td>500</td>\n",
       "      <td>550</td>\n",
       "      <td>200</td>\n",
       "      <td>3</td>\n",
       "      <td>3</td>\n",
       "      <td>15</td>\n",
       "      <td>0</td>\n",
       "      <td>0</td>\n",
       "      <td>0</td>\n",
       "      <td>550</td>\n",
       "      <td>smart</td>\n",
       "    </tr>\n",
       "    <tr>\n",
       "      <th>2216</th>\n",
       "      <td>1499</td>\n",
       "      <td>9</td>\n",
       "      <td>35</td>\n",
       "      <td>70</td>\n",
       "      <td>2</td>\n",
       "      <td>11</td>\n",
       "      <td>50</td>\n",
       "      <td>500</td>\n",
       "      <td>550</td>\n",
       "      <td>200</td>\n",
       "      <td>3</td>\n",
       "      <td>3</td>\n",
       "      <td>15</td>\n",
       "      <td>0</td>\n",
       "      <td>0</td>\n",
       "      <td>0</td>\n",
       "      <td>550</td>\n",
       "      <td>smart</td>\n",
       "    </tr>\n",
       "    <tr>\n",
       "      <th>2217</th>\n",
       "      <td>1499</td>\n",
       "      <td>10</td>\n",
       "      <td>35</td>\n",
       "      <td>449</td>\n",
       "      <td>18</td>\n",
       "      <td>48</td>\n",
       "      <td>50</td>\n",
       "      <td>500</td>\n",
       "      <td>550</td>\n",
       "      <td>200</td>\n",
       "      <td>3</td>\n",
       "      <td>3</td>\n",
       "      <td>15</td>\n",
       "      <td>0</td>\n",
       "      <td>0</td>\n",
       "      <td>0</td>\n",
       "      <td>550</td>\n",
       "      <td>smart</td>\n",
       "    </tr>\n",
       "    <tr>\n",
       "      <th>2218</th>\n",
       "      <td>1499</td>\n",
       "      <td>11</td>\n",
       "      <td>35</td>\n",
       "      <td>612</td>\n",
       "      <td>18</td>\n",
       "      <td>59</td>\n",
       "      <td>50</td>\n",
       "      <td>500</td>\n",
       "      <td>550</td>\n",
       "      <td>200</td>\n",
       "      <td>3</td>\n",
       "      <td>3</td>\n",
       "      <td>15</td>\n",
       "      <td>336</td>\n",
       "      <td>336</td>\n",
       "      <td>27</td>\n",
       "      <td>1249</td>\n",
       "      <td>smart</td>\n",
       "    </tr>\n",
       "    <tr>\n",
       "      <th>2219</th>\n",
       "      <td>1499</td>\n",
       "      <td>12</td>\n",
       "      <td>35</td>\n",
       "      <td>492</td>\n",
       "      <td>13</td>\n",
       "      <td>66</td>\n",
       "      <td>50</td>\n",
       "      <td>500</td>\n",
       "      <td>550</td>\n",
       "      <td>200</td>\n",
       "      <td>3</td>\n",
       "      <td>3</td>\n",
       "      <td>15</td>\n",
       "      <td>0</td>\n",
       "      <td>0</td>\n",
       "      <td>48</td>\n",
       "      <td>598</td>\n",
       "      <td>smart</td>\n",
       "    </tr>\n",
       "  </tbody>\n",
       "</table>\n",
       "<p>2220 rows × 18 columns</p>\n",
       "</div>"
      ],
      "text/plain": [
       "      user_id  month  age  duration  gb_used  messages  messages_included  \\\n",
       "0        1001     11   41       430       18         0                 50   \n",
       "1        1001     12   41       414       14         0                 50   \n",
       "2        1002      6   59       117       11         4                 50   \n",
       "3        1002      7   59       214       18        11                 50   \n",
       "4        1002      8   59       289       20        13                 50   \n",
       "...       ...    ...  ...       ...      ...       ...                ...   \n",
       "2215     1498     10   68       247       21        42                 50   \n",
       "2216     1499      9   35        70        2        11                 50   \n",
       "2217     1499     10   35       449       18        48                 50   \n",
       "2218     1499     11   35       612       18        59                 50   \n",
       "2219     1499     12   35       492       13        66                 50   \n",
       "\n",
       "      minutes_included  rub_monthly_fee  rub_per_gb  rub_per_message  \\\n",
       "0                  500              550         200                3   \n",
       "1                  500              550         200                3   \n",
       "2                  500              550         200                3   \n",
       "3                  500              550         200                3   \n",
       "4                  500              550         200                3   \n",
       "...                ...              ...         ...              ...   \n",
       "2215               500              550         200                3   \n",
       "2216               500              550         200                3   \n",
       "2217               500              550         200                3   \n",
       "2218               500              550         200                3   \n",
       "2219               500              550         200                3   \n",
       "\n",
       "      rub_per_minute  gb_per_month_included  proceeds_internet  proceeds_call  \\\n",
       "0                  3                     15                  0              0   \n",
       "1                  3                     15                  0              0   \n",
       "2                  3                     15                  0              0   \n",
       "3                  3                     15                  0              0   \n",
       "4                  3                     15                  0              0   \n",
       "...              ...                    ...                ...            ...   \n",
       "2215               3                     15                  0              0   \n",
       "2216               3                     15                  0              0   \n",
       "2217               3                     15                  0              0   \n",
       "2218               3                     15                336            336   \n",
       "2219               3                     15                  0              0   \n",
       "\n",
       "      proceeds_messages  final_proceeds tariff  \n",
       "0                     0             550  smart  \n",
       "1                     0             550  smart  \n",
       "2                     0             550  smart  \n",
       "3                     0             550  smart  \n",
       "4                     0             550  smart  \n",
       "...                 ...             ...    ...  \n",
       "2215                  0             550  smart  \n",
       "2216                  0             550  smart  \n",
       "2217                  0             550  smart  \n",
       "2218                 27            1249  smart  \n",
       "2219                 48             598  smart  \n",
       "\n",
       "[2220 rows x 18 columns]"
      ]
     },
     "metadata": {},
     "output_type": "display_data"
    }
   ],
   "source": [
    "display(data_final_smart)"
   ]
  },
  {
   "cell_type": "code",
   "execution_count": 66,
   "metadata": {},
   "outputs": [],
   "source": [
    "data_final_ultra = data_finalX.query('tariff == \"ultra\"').reset_index()"
   ]
  },
  {
   "cell_type": "code",
   "execution_count": 67,
   "metadata": {},
   "outputs": [
    {
     "data": {
      "text/html": [
       "<div>\n",
       "<style scoped>\n",
       "    .dataframe tbody tr th:only-of-type {\n",
       "        vertical-align: middle;\n",
       "    }\n",
       "\n",
       "    .dataframe tbody tr th {\n",
       "        vertical-align: top;\n",
       "    }\n",
       "\n",
       "    .dataframe thead th {\n",
       "        text-align: right;\n",
       "    }\n",
       "</style>\n",
       "<table border=\"1\" class=\"dataframe\">\n",
       "  <thead>\n",
       "    <tr style=\"text-align: right;\">\n",
       "      <th></th>\n",
       "      <th>user_id</th>\n",
       "      <th>month</th>\n",
       "      <th>age</th>\n",
       "      <th>duration</th>\n",
       "      <th>gb_used</th>\n",
       "      <th>messages</th>\n",
       "      <th>messages_included</th>\n",
       "      <th>minutes_included</th>\n",
       "      <th>rub_monthly_fee</th>\n",
       "      <th>rub_per_gb</th>\n",
       "      <th>rub_per_message</th>\n",
       "      <th>rub_per_minute</th>\n",
       "      <th>gb_per_month_included</th>\n",
       "      <th>proceeds_internet</th>\n",
       "      <th>proceeds_call</th>\n",
       "      <th>proceeds_messages</th>\n",
       "      <th>final_proceeds</th>\n",
       "      <th>tariff</th>\n",
       "    </tr>\n",
       "  </thead>\n",
       "  <tbody>\n",
       "    <tr>\n",
       "      <th>0</th>\n",
       "      <td>1000</td>\n",
       "      <td>5</td>\n",
       "      <td>52</td>\n",
       "      <td>159</td>\n",
       "      <td>3</td>\n",
       "      <td>22</td>\n",
       "      <td>1000</td>\n",
       "      <td>3000</td>\n",
       "      <td>1950</td>\n",
       "      <td>150</td>\n",
       "      <td>1</td>\n",
       "      <td>1</td>\n",
       "      <td>30</td>\n",
       "      <td>0</td>\n",
       "      <td>0</td>\n",
       "      <td>0</td>\n",
       "      <td>1950</td>\n",
       "      <td>ultra</td>\n",
       "    </tr>\n",
       "    <tr>\n",
       "      <th>1</th>\n",
       "      <td>1000</td>\n",
       "      <td>6</td>\n",
       "      <td>52</td>\n",
       "      <td>172</td>\n",
       "      <td>23</td>\n",
       "      <td>60</td>\n",
       "      <td>1000</td>\n",
       "      <td>3000</td>\n",
       "      <td>1950</td>\n",
       "      <td>150</td>\n",
       "      <td>1</td>\n",
       "      <td>1</td>\n",
       "      <td>30</td>\n",
       "      <td>0</td>\n",
       "      <td>0</td>\n",
       "      <td>0</td>\n",
       "      <td>1950</td>\n",
       "      <td>ultra</td>\n",
       "    </tr>\n",
       "    <tr>\n",
       "      <th>2</th>\n",
       "      <td>1000</td>\n",
       "      <td>7</td>\n",
       "      <td>52</td>\n",
       "      <td>340</td>\n",
       "      <td>14</td>\n",
       "      <td>75</td>\n",
       "      <td>1000</td>\n",
       "      <td>3000</td>\n",
       "      <td>1950</td>\n",
       "      <td>150</td>\n",
       "      <td>1</td>\n",
       "      <td>1</td>\n",
       "      <td>30</td>\n",
       "      <td>0</td>\n",
       "      <td>0</td>\n",
       "      <td>0</td>\n",
       "      <td>1950</td>\n",
       "      <td>ultra</td>\n",
       "    </tr>\n",
       "    <tr>\n",
       "      <th>3</th>\n",
       "      <td>1000</td>\n",
       "      <td>8</td>\n",
       "      <td>52</td>\n",
       "      <td>408</td>\n",
       "      <td>14</td>\n",
       "      <td>81</td>\n",
       "      <td>1000</td>\n",
       "      <td>3000</td>\n",
       "      <td>1950</td>\n",
       "      <td>150</td>\n",
       "      <td>1</td>\n",
       "      <td>1</td>\n",
       "      <td>30</td>\n",
       "      <td>0</td>\n",
       "      <td>0</td>\n",
       "      <td>0</td>\n",
       "      <td>1950</td>\n",
       "      <td>ultra</td>\n",
       "    </tr>\n",
       "    <tr>\n",
       "      <th>4</th>\n",
       "      <td>1000</td>\n",
       "      <td>9</td>\n",
       "      <td>52</td>\n",
       "      <td>466</td>\n",
       "      <td>15</td>\n",
       "      <td>57</td>\n",
       "      <td>1000</td>\n",
       "      <td>3000</td>\n",
       "      <td>1950</td>\n",
       "      <td>150</td>\n",
       "      <td>1</td>\n",
       "      <td>1</td>\n",
       "      <td>30</td>\n",
       "      <td>0</td>\n",
       "      <td>0</td>\n",
       "      <td>0</td>\n",
       "      <td>1950</td>\n",
       "      <td>ultra</td>\n",
       "    </tr>\n",
       "    <tr>\n",
       "      <th>...</th>\n",
       "      <td>...</td>\n",
       "      <td>...</td>\n",
       "      <td>...</td>\n",
       "      <td>...</td>\n",
       "      <td>...</td>\n",
       "      <td>...</td>\n",
       "      <td>...</td>\n",
       "      <td>...</td>\n",
       "      <td>...</td>\n",
       "      <td>...</td>\n",
       "      <td>...</td>\n",
       "      <td>...</td>\n",
       "      <td>...</td>\n",
       "      <td>...</td>\n",
       "      <td>...</td>\n",
       "      <td>...</td>\n",
       "      <td>...</td>\n",
       "      <td>...</td>\n",
       "    </tr>\n",
       "    <tr>\n",
       "      <th>932</th>\n",
       "      <td>1495</td>\n",
       "      <td>8</td>\n",
       "      <td>65</td>\n",
       "      <td>92</td>\n",
       "      <td>3</td>\n",
       "      <td>13</td>\n",
       "      <td>1000</td>\n",
       "      <td>3000</td>\n",
       "      <td>1950</td>\n",
       "      <td>150</td>\n",
       "      <td>1</td>\n",
       "      <td>1</td>\n",
       "      <td>30</td>\n",
       "      <td>0</td>\n",
       "      <td>0</td>\n",
       "      <td>0</td>\n",
       "      <td>1950</td>\n",
       "      <td>ultra</td>\n",
       "    </tr>\n",
       "    <tr>\n",
       "      <th>933</th>\n",
       "      <td>1495</td>\n",
       "      <td>9</td>\n",
       "      <td>65</td>\n",
       "      <td>813</td>\n",
       "      <td>33</td>\n",
       "      <td>82</td>\n",
       "      <td>1000</td>\n",
       "      <td>3000</td>\n",
       "      <td>1950</td>\n",
       "      <td>150</td>\n",
       "      <td>1</td>\n",
       "      <td>1</td>\n",
       "      <td>30</td>\n",
       "      <td>0</td>\n",
       "      <td>0</td>\n",
       "      <td>0</td>\n",
       "      <td>1950</td>\n",
       "      <td>ultra</td>\n",
       "    </tr>\n",
       "    <tr>\n",
       "      <th>934</th>\n",
       "      <td>1495</td>\n",
       "      <td>10</td>\n",
       "      <td>65</td>\n",
       "      <td>1030</td>\n",
       "      <td>29</td>\n",
       "      <td>82</td>\n",
       "      <td>1000</td>\n",
       "      <td>3000</td>\n",
       "      <td>1950</td>\n",
       "      <td>150</td>\n",
       "      <td>1</td>\n",
       "      <td>1</td>\n",
       "      <td>30</td>\n",
       "      <td>0</td>\n",
       "      <td>0</td>\n",
       "      <td>0</td>\n",
       "      <td>1950</td>\n",
       "      <td>ultra</td>\n",
       "    </tr>\n",
       "    <tr>\n",
       "      <th>935</th>\n",
       "      <td>1495</td>\n",
       "      <td>11</td>\n",
       "      <td>65</td>\n",
       "      <td>954</td>\n",
       "      <td>39</td>\n",
       "      <td>79</td>\n",
       "      <td>1000</td>\n",
       "      <td>3000</td>\n",
       "      <td>1950</td>\n",
       "      <td>150</td>\n",
       "      <td>1</td>\n",
       "      <td>1</td>\n",
       "      <td>30</td>\n",
       "      <td>0</td>\n",
       "      <td>0</td>\n",
       "      <td>0</td>\n",
       "      <td>1950</td>\n",
       "      <td>ultra</td>\n",
       "    </tr>\n",
       "    <tr>\n",
       "      <th>936</th>\n",
       "      <td>1495</td>\n",
       "      <td>12</td>\n",
       "      <td>65</td>\n",
       "      <td>1031</td>\n",
       "      <td>23</td>\n",
       "      <td>84</td>\n",
       "      <td>1000</td>\n",
       "      <td>3000</td>\n",
       "      <td>1950</td>\n",
       "      <td>150</td>\n",
       "      <td>1</td>\n",
       "      <td>1</td>\n",
       "      <td>30</td>\n",
       "      <td>0</td>\n",
       "      <td>0</td>\n",
       "      <td>0</td>\n",
       "      <td>1950</td>\n",
       "      <td>ultra</td>\n",
       "    </tr>\n",
       "  </tbody>\n",
       "</table>\n",
       "<p>937 rows × 18 columns</p>\n",
       "</div>"
      ],
      "text/plain": [
       "     user_id  month  age  duration  gb_used  messages  messages_included  \\\n",
       "0       1000      5   52       159        3        22               1000   \n",
       "1       1000      6   52       172       23        60               1000   \n",
       "2       1000      7   52       340       14        75               1000   \n",
       "3       1000      8   52       408       14        81               1000   \n",
       "4       1000      9   52       466       15        57               1000   \n",
       "..       ...    ...  ...       ...      ...       ...                ...   \n",
       "932     1495      8   65        92        3        13               1000   \n",
       "933     1495      9   65       813       33        82               1000   \n",
       "934     1495     10   65      1030       29        82               1000   \n",
       "935     1495     11   65       954       39        79               1000   \n",
       "936     1495     12   65      1031       23        84               1000   \n",
       "\n",
       "     minutes_included  rub_monthly_fee  rub_per_gb  rub_per_message  \\\n",
       "0                3000             1950         150                1   \n",
       "1                3000             1950         150                1   \n",
       "2                3000             1950         150                1   \n",
       "3                3000             1950         150                1   \n",
       "4                3000             1950         150                1   \n",
       "..                ...              ...         ...              ...   \n",
       "932              3000             1950         150                1   \n",
       "933              3000             1950         150                1   \n",
       "934              3000             1950         150                1   \n",
       "935              3000             1950         150                1   \n",
       "936              3000             1950         150                1   \n",
       "\n",
       "     rub_per_minute  gb_per_month_included  proceeds_internet  proceeds_call  \\\n",
       "0                 1                     30                  0              0   \n",
       "1                 1                     30                  0              0   \n",
       "2                 1                     30                  0              0   \n",
       "3                 1                     30                  0              0   \n",
       "4                 1                     30                  0              0   \n",
       "..              ...                    ...                ...            ...   \n",
       "932               1                     30                  0              0   \n",
       "933               1                     30                  0              0   \n",
       "934               1                     30                  0              0   \n",
       "935               1                     30                  0              0   \n",
       "936               1                     30                  0              0   \n",
       "\n",
       "     proceeds_messages  final_proceeds tariff  \n",
       "0                    0            1950  ultra  \n",
       "1                    0            1950  ultra  \n",
       "2                    0            1950  ultra  \n",
       "3                    0            1950  ultra  \n",
       "4                    0            1950  ultra  \n",
       "..                 ...             ...    ...  \n",
       "932                  0            1950  ultra  \n",
       "933                  0            1950  ultra  \n",
       "934                  0            1950  ultra  \n",
       "935                  0            1950  ultra  \n",
       "936                  0            1950  ultra  \n",
       "\n",
       "[937 rows x 18 columns]"
      ]
     },
     "metadata": {},
     "output_type": "display_data"
    }
   ],
   "source": [
    "display(data_final_ultra)"
   ]
  },
  {
   "cell_type": "markdown",
   "metadata": {},
   "source": [
    "## Исследовательский анализ данных"
   ]
  },
  {
   "cell_type": "markdown",
   "metadata": {},
   "source": [
    "### Тариф \"Смарт\"\n"
   ]
  },
  {
   "cell_type": "code",
   "execution_count": 69,
   "metadata": {},
   "outputs": [],
   "source": [
    "#Исследования тарифа смарт\n",
    "\n",
    "smart_mean_duration = data_final_smart.groupby('user_id')['duration'].mean()\n",
    "smart_mean_internet = data_final_smart.groupby('user_id')['gb_used'].mean() \n",
    "smart_mean_messages = data_final_smart.groupby('user_id')['messages'].mean()\n",
    "\n"
   ]
  },
  {
   "cell_type": "code",
   "execution_count": 71,
   "metadata": {},
   "outputs": [
    {
     "data": {
      "text/plain": [
       "Text(0.5, 1.0, 'Распределение времени разговора по телефону')"
      ]
     },
     "execution_count": 71,
     "metadata": {},
     "output_type": "execute_result"
    },
    {
     "data": {
      "image/png": "[encoded data removed]",
      "text/plain": [
       "<Figure size 432x288 with 1 Axes>"
      ]
     },
     "metadata": {
      "needs_background": "light"
     },
     "output_type": "display_data"
    }
   ],
   "source": [
    "smart_mean_duration.plot(kind='hist')\n",
    "plt.ylabel('user_id')\n",
    "plt.xlabel('duration')\n",
    "plt.title('Распределение времени разговора по телефону')"
   ]
  },
  {
   "cell_type": "markdown",
   "metadata": {},
   "source": [
    "**Самое распростараненное время разговора клиента тарифа \"смарт\" за месяц - это 450 минут.**\n",
    "\n",
    "    \n"
   ]
  },
  {
   "cell_type": "code",
   "execution_count": 72,
   "metadata": {},
   "outputs": [
    {
     "data": {
      "text/plain": [
       "Text(0.5, 1.0, 'Распределение интернет трафика')"
      ]
     },
     "execution_count": 72,
     "metadata": {},
     "output_type": "execute_result"
    },
    {
     "data": {
      "image/png": "[encoded data removed]",
      "text/plain": [
       "<Figure size 432x288 with 1 Axes>"
      ]
     },
     "metadata": {
      "needs_background": "light"
     },
     "output_type": "display_data"
    }
   ],
   "source": [
    "smart_mean_internet.plot(kind='hist')\n",
    "plt.ylabel('user_id')\n",
    "plt.xlabel('gb_used')\n",
    "plt.title('Распределение интернет трафика')"
   ]
  },
  {
   "cell_type": "markdown",
   "metadata": {},
   "source": [
    "**Самое распростараненное количество потраченных Гб интернета клиента тарифа \"смарт\" за месяц - это 15 Гб.**\n"
   ]
  },
  {
   "cell_type": "code",
   "execution_count": 73,
   "metadata": {},
   "outputs": [
    {
     "data": {
      "text/plain": [
       "Text(0.5, 1.0, 'Распределение количества сообщений')"
      ]
     },
     "execution_count": 73,
     "metadata": {},
     "output_type": "execute_result"
    },
    {
     "data": {
      "image/png": "[encoded data removed]",
      "text/plain": [
       "<Figure size 432x288 with 1 Axes>"
      ]
     },
     "metadata": {
      "needs_background": "light"
     },
     "output_type": "display_data"
    }
   ],
   "source": [
    "smart_mean_messages.plot(kind='hist')\n",
    "plt.ylabel('user_id')\n",
    "plt.xlabel('messages')\n",
    "plt.title('Распределение количества сообщений')"
   ]
  },
  {
   "cell_type": "markdown",
   "metadata": {},
   "source": [
    "**Самое распростараненное количество сообщений клиента тарифа \"смарт\" за месяц - это 30.**\n"
   ]
  },
  {
   "cell_type": "markdown",
   "metadata": {},
   "source": [
    "**Расчет средних величин:**"
   ]
  },
  {
   "cell_type": "code",
   "execution_count": 74,
   "metadata": {},
   "outputs": [
    {
     "name": "stdout",
     "output_type": "stream",
     "text": [
      "421.07380745647225\n",
      "16.32299726698007\n",
      "32.398613953699915\n"
     ]
    }
   ],
   "source": [
    "#Среднее арифметичесоке \n",
    "\n",
    "m_smart_mean_duration = np.mean(smart_mean_duration)\n",
    "m_smart_mean_internet = np.mean(smart_mean_internet)\n",
    "m_smart_mean_messages = np.mean(smart_mean_messages)\n",
    "\n",
    "print(m_smart_mean_duration)\n",
    "print(m_smart_mean_internet)\n",
    "print(m_smart_mean_messages)\n"
   ]
  },
  {
   "cell_type": "markdown",
   "metadata": {},
   "source": [
    "**Расчет стандартного отклонения:**"
   ]
  },
  {
   "cell_type": "code",
   "execution_count": 75,
   "metadata": {},
   "outputs": [
    {
     "name": "stdout",
     "output_type": "stream",
     "text": [
      "143.21984675444327\n",
      "3.505925007880758\n",
      "26.51278142454504\n"
     ]
    }
   ],
   "source": [
    "#Стандартное отклонение\n",
    "\n",
    "standard_deviation_smart_duration = np.std(smart_mean_duration)\n",
    "standard_deviation_smart_internet = np.std(smart_mean_internet)\n",
    "standard_deviation_smart_messages = np.std(smart_mean_messages)\n",
    "print(standard_deviation_smart_duration)\n",
    "print(standard_deviation_smart_internet)\n",
    "print(standard_deviation_smart_messages)"
   ]
  },
  {
   "cell_type": "markdown",
   "metadata": {},
   "source": [
    "**Расчет дисперсии:**"
   ]
  },
  {
   "cell_type": "code",
   "execution_count": 76,
   "metadata": {},
   "outputs": [
    {
     "name": "stdout",
     "output_type": "stream",
     "text": [
      "20511.924504366216\n",
      "12.291510160883693\n",
      "702.9275788657005\n"
     ]
    }
   ],
   "source": [
    "#Дисперсия\n",
    "\n",
    "variance_deviation_smart_duration = np.var(smart_mean_duration)\n",
    "variance_deviation_smart_internet = np.var(smart_mean_internet)\n",
    "variance_deviation_smart_messages = np.var(smart_mean_messages)\n",
    "print(variance_deviation_smart_duration)\n",
    "print(variance_deviation_smart_internet)\n",
    "print(variance_deviation_smart_messages)"
   ]
  },
  {
   "cell_type": "markdown",
   "metadata": {},
   "source": [
    "### Тариф \"Ультра\""
   ]
  },
  {
   "cell_type": "code",
   "execution_count": 77,
   "metadata": {},
   "outputs": [],
   "source": [
    "#Исследования тарифа ультра\n",
    "\n",
    "\n",
    "ultra_mean_duration = data_final_ultra.groupby('user_id')['duration'].mean() \n",
    "ultra_mean_internet = data_final_ultra.groupby('user_id')['gb_used'].mean()\n",
    "ultra_mean_messages = data_final_ultra.groupby('user_id')['messages'].mean()\n",
    "\n"
   ]
  },
  {
   "cell_type": "code",
   "execution_count": 78,
   "metadata": {},
   "outputs": [
    {
     "data": {
      "text/html": [
       "<div>\n",
       "<style scoped>\n",
       "    .dataframe tbody tr th:only-of-type {\n",
       "        vertical-align: middle;\n",
       "    }\n",
       "\n",
       "    .dataframe tbody tr th {\n",
       "        vertical-align: top;\n",
       "    }\n",
       "\n",
       "    .dataframe thead th {\n",
       "        text-align: right;\n",
       "    }\n",
       "</style>\n",
       "<table border=\"1\" class=\"dataframe\">\n",
       "  <thead>\n",
       "    <tr style=\"text-align: right;\">\n",
       "      <th></th>\n",
       "      <th>user_id</th>\n",
       "      <th>month</th>\n",
       "      <th>age</th>\n",
       "      <th>duration</th>\n",
       "      <th>gb_used</th>\n",
       "      <th>messages</th>\n",
       "      <th>messages_included</th>\n",
       "      <th>minutes_included</th>\n",
       "      <th>rub_monthly_fee</th>\n",
       "      <th>rub_per_gb</th>\n",
       "      <th>rub_per_message</th>\n",
       "      <th>rub_per_minute</th>\n",
       "      <th>gb_per_month_included</th>\n",
       "      <th>proceeds_internet</th>\n",
       "      <th>proceeds_call</th>\n",
       "      <th>proceeds_messages</th>\n",
       "      <th>final_proceeds</th>\n",
       "      <th>tariff</th>\n",
       "    </tr>\n",
       "  </thead>\n",
       "  <tbody>\n",
       "    <tr>\n",
       "      <th>0</th>\n",
       "      <td>1000</td>\n",
       "      <td>5</td>\n",
       "      <td>52</td>\n",
       "      <td>159</td>\n",
       "      <td>3</td>\n",
       "      <td>22</td>\n",
       "      <td>1000</td>\n",
       "      <td>3000</td>\n",
       "      <td>1950</td>\n",
       "      <td>150</td>\n",
       "      <td>1</td>\n",
       "      <td>1</td>\n",
       "      <td>30</td>\n",
       "      <td>0</td>\n",
       "      <td>0</td>\n",
       "      <td>0</td>\n",
       "      <td>1950</td>\n",
       "      <td>ultra</td>\n",
       "    </tr>\n",
       "    <tr>\n",
       "      <th>1</th>\n",
       "      <td>1000</td>\n",
       "      <td>6</td>\n",
       "      <td>52</td>\n",
       "      <td>172</td>\n",
       "      <td>23</td>\n",
       "      <td>60</td>\n",
       "      <td>1000</td>\n",
       "      <td>3000</td>\n",
       "      <td>1950</td>\n",
       "      <td>150</td>\n",
       "      <td>1</td>\n",
       "      <td>1</td>\n",
       "      <td>30</td>\n",
       "      <td>0</td>\n",
       "      <td>0</td>\n",
       "      <td>0</td>\n",
       "      <td>1950</td>\n",
       "      <td>ultra</td>\n",
       "    </tr>\n",
       "    <tr>\n",
       "      <th>2</th>\n",
       "      <td>1000</td>\n",
       "      <td>7</td>\n",
       "      <td>52</td>\n",
       "      <td>340</td>\n",
       "      <td>14</td>\n",
       "      <td>75</td>\n",
       "      <td>1000</td>\n",
       "      <td>3000</td>\n",
       "      <td>1950</td>\n",
       "      <td>150</td>\n",
       "      <td>1</td>\n",
       "      <td>1</td>\n",
       "      <td>30</td>\n",
       "      <td>0</td>\n",
       "      <td>0</td>\n",
       "      <td>0</td>\n",
       "      <td>1950</td>\n",
       "      <td>ultra</td>\n",
       "    </tr>\n",
       "    <tr>\n",
       "      <th>3</th>\n",
       "      <td>1000</td>\n",
       "      <td>8</td>\n",
       "      <td>52</td>\n",
       "      <td>408</td>\n",
       "      <td>14</td>\n",
       "      <td>81</td>\n",
       "      <td>1000</td>\n",
       "      <td>3000</td>\n",
       "      <td>1950</td>\n",
       "      <td>150</td>\n",
       "      <td>1</td>\n",
       "      <td>1</td>\n",
       "      <td>30</td>\n",
       "      <td>0</td>\n",
       "      <td>0</td>\n",
       "      <td>0</td>\n",
       "      <td>1950</td>\n",
       "      <td>ultra</td>\n",
       "    </tr>\n",
       "    <tr>\n",
       "      <th>4</th>\n",
       "      <td>1000</td>\n",
       "      <td>9</td>\n",
       "      <td>52</td>\n",
       "      <td>466</td>\n",
       "      <td>15</td>\n",
       "      <td>57</td>\n",
       "      <td>1000</td>\n",
       "      <td>3000</td>\n",
       "      <td>1950</td>\n",
       "      <td>150</td>\n",
       "      <td>1</td>\n",
       "      <td>1</td>\n",
       "      <td>30</td>\n",
       "      <td>0</td>\n",
       "      <td>0</td>\n",
       "      <td>0</td>\n",
       "      <td>1950</td>\n",
       "      <td>ultra</td>\n",
       "    </tr>\n",
       "    <tr>\n",
       "      <th>...</th>\n",
       "      <td>...</td>\n",
       "      <td>...</td>\n",
       "      <td>...</td>\n",
       "      <td>...</td>\n",
       "      <td>...</td>\n",
       "      <td>...</td>\n",
       "      <td>...</td>\n",
       "      <td>...</td>\n",
       "      <td>...</td>\n",
       "      <td>...</td>\n",
       "      <td>...</td>\n",
       "      <td>...</td>\n",
       "      <td>...</td>\n",
       "      <td>...</td>\n",
       "      <td>...</td>\n",
       "      <td>...</td>\n",
       "      <td>...</td>\n",
       "      <td>...</td>\n",
       "    </tr>\n",
       "    <tr>\n",
       "      <th>932</th>\n",
       "      <td>1495</td>\n",
       "      <td>8</td>\n",
       "      <td>65</td>\n",
       "      <td>92</td>\n",
       "      <td>3</td>\n",
       "      <td>13</td>\n",
       "      <td>1000</td>\n",
       "      <td>3000</td>\n",
       "      <td>1950</td>\n",
       "      <td>150</td>\n",
       "      <td>1</td>\n",
       "      <td>1</td>\n",
       "      <td>30</td>\n",
       "      <td>0</td>\n",
       "      <td>0</td>\n",
       "      <td>0</td>\n",
       "      <td>1950</td>\n",
       "      <td>ultra</td>\n",
       "    </tr>\n",
       "    <tr>\n",
       "      <th>933</th>\n",
       "      <td>1495</td>\n",
       "      <td>9</td>\n",
       "      <td>65</td>\n",
       "      <td>813</td>\n",
       "      <td>33</td>\n",
       "      <td>82</td>\n",
       "      <td>1000</td>\n",
       "      <td>3000</td>\n",
       "      <td>1950</td>\n",
       "      <td>150</td>\n",
       "      <td>1</td>\n",
       "      <td>1</td>\n",
       "      <td>30</td>\n",
       "      <td>0</td>\n",
       "      <td>0</td>\n",
       "      <td>0</td>\n",
       "      <td>1950</td>\n",
       "      <td>ultra</td>\n",
       "    </tr>\n",
       "    <tr>\n",
       "      <th>934</th>\n",
       "      <td>1495</td>\n",
       "      <td>10</td>\n",
       "      <td>65</td>\n",
       "      <td>1030</td>\n",
       "      <td>29</td>\n",
       "      <td>82</td>\n",
       "      <td>1000</td>\n",
       "      <td>3000</td>\n",
       "      <td>1950</td>\n",
       "      <td>150</td>\n",
       "      <td>1</td>\n",
       "      <td>1</td>\n",
       "      <td>30</td>\n",
       "      <td>0</td>\n",
       "      <td>0</td>\n",
       "      <td>0</td>\n",
       "      <td>1950</td>\n",
       "      <td>ultra</td>\n",
       "    </tr>\n",
       "    <tr>\n",
       "      <th>935</th>\n",
       "      <td>1495</td>\n",
       "      <td>11</td>\n",
       "      <td>65</td>\n",
       "      <td>954</td>\n",
       "      <td>39</td>\n",
       "      <td>79</td>\n",
       "      <td>1000</td>\n",
       "      <td>3000</td>\n",
       "      <td>1950</td>\n",
       "      <td>150</td>\n",
       "      <td>1</td>\n",
       "      <td>1</td>\n",
       "      <td>30</td>\n",
       "      <td>0</td>\n",
       "      <td>0</td>\n",
       "      <td>0</td>\n",
       "      <td>1950</td>\n",
       "      <td>ultra</td>\n",
       "    </tr>\n",
       "    <tr>\n",
       "      <th>936</th>\n",
       "      <td>1495</td>\n",
       "      <td>12</td>\n",
       "      <td>65</td>\n",
       "      <td>1031</td>\n",
       "      <td>23</td>\n",
       "      <td>84</td>\n",
       "      <td>1000</td>\n",
       "      <td>3000</td>\n",
       "      <td>1950</td>\n",
       "      <td>150</td>\n",
       "      <td>1</td>\n",
       "      <td>1</td>\n",
       "      <td>30</td>\n",
       "      <td>0</td>\n",
       "      <td>0</td>\n",
       "      <td>0</td>\n",
       "      <td>1950</td>\n",
       "      <td>ultra</td>\n",
       "    </tr>\n",
       "  </tbody>\n",
       "</table>\n",
       "<p>937 rows × 18 columns</p>\n",
       "</div>"
      ],
      "text/plain": [
       "     user_id  month  age  duration  gb_used  messages  messages_included  \\\n",
       "0       1000      5   52       159        3        22               1000   \n",
       "1       1000      6   52       172       23        60               1000   \n",
       "2       1000      7   52       340       14        75               1000   \n",
       "3       1000      8   52       408       14        81               1000   \n",
       "4       1000      9   52       466       15        57               1000   \n",
       "..       ...    ...  ...       ...      ...       ...                ...   \n",
       "932     1495      8   65        92        3        13               1000   \n",
       "933     1495      9   65       813       33        82               1000   \n",
       "934     1495     10   65      1030       29        82               1000   \n",
       "935     1495     11   65       954       39        79               1000   \n",
       "936     1495     12   65      1031       23        84               1000   \n",
       "\n",
       "     minutes_included  rub_monthly_fee  rub_per_gb  rub_per_message  \\\n",
       "0                3000             1950         150                1   \n",
       "1                3000             1950         150                1   \n",
       "2                3000             1950         150                1   \n",
       "3                3000             1950         150                1   \n",
       "4                3000             1950         150                1   \n",
       "..                ...              ...         ...              ...   \n",
       "932              3000             1950         150                1   \n",
       "933              3000             1950         150                1   \n",
       "934              3000             1950         150                1   \n",
       "935              3000             1950         150                1   \n",
       "936              3000             1950         150                1   \n",
       "\n",
       "     rub_per_minute  gb_per_month_included  proceeds_internet  proceeds_call  \\\n",
       "0                 1                     30                  0              0   \n",
       "1                 1                     30                  0              0   \n",
       "2                 1                     30                  0              0   \n",
       "3                 1                     30                  0              0   \n",
       "4                 1                     30                  0              0   \n",
       "..              ...                    ...                ...            ...   \n",
       "932               1                     30                  0              0   \n",
       "933               1                     30                  0              0   \n",
       "934               1                     30                  0              0   \n",
       "935               1                     30                  0              0   \n",
       "936               1                     30                  0              0   \n",
       "\n",
       "     proceeds_messages  final_proceeds tariff  \n",
       "0                    0            1950  ultra  \n",
       "1                    0            1950  ultra  \n",
       "2                    0            1950  ultra  \n",
       "3                    0            1950  ultra  \n",
       "4                    0            1950  ultra  \n",
       "..                 ...             ...    ...  \n",
       "932                  0            1950  ultra  \n",
       "933                  0            1950  ultra  \n",
       "934                  0            1950  ultra  \n",
       "935                  0            1950  ultra  \n",
       "936                  0            1950  ultra  \n",
       "\n",
       "[937 rows x 18 columns]"
      ]
     },
     "metadata": {},
     "output_type": "display_data"
    }
   ],
   "source": [
    "display(data_final_ultra)"
   ]
  },
  {
   "cell_type": "code",
   "execution_count": 79,
   "metadata": {},
   "outputs": [
    {
     "data": {
      "text/plain": [
       "Text(0.5, 1.0, 'Распределение времени разговора по телефону')"
      ]
     },
     "execution_count": 79,
     "metadata": {},
     "output_type": "execute_result"
    },
    {
     "data": {
      "image/png": "[encoded data removed]",
      "text/plain": [
       "<Figure size 432x288 with 1 Axes>"
      ]
     },
     "metadata": {
      "needs_background": "light"
     },
     "output_type": "display_data"
    }
   ],
   "source": [
    "ultra_mean_duration.plot(kind='hist')\n",
    "plt.ylabel('user_id')\n",
    "plt.xlabel('duration')\n",
    "plt.title('Распределение времени разговора по телефону')"
   ]
  },
  {
   "cell_type": "markdown",
   "metadata": {},
   "source": [
    "**Самое распростараненное время разговора клиента тарифа \"смарт\" за месяц - это 550 минут.**\n"
   ]
  },
  {
   "cell_type": "code",
   "execution_count": 80,
   "metadata": {},
   "outputs": [
    {
     "data": {
      "text/plain": [
       "Text(0.5, 1.0, 'Распределение интернет трафика')"
      ]
     },
     "execution_count": 80,
     "metadata": {},
     "output_type": "execute_result"
    },
    {
     "data": {
      "image/png": "[encoded data removed]",
      "text/plain": [
       "<Figure size 432x288 with 1 Axes>"
      ]
     },
     "metadata": {
      "needs_background": "light"
     },
     "output_type": "display_data"
    }
   ],
   "source": [
    "ultra_mean_internet.plot(kind='hist')\n",
    "plt.ylabel('user_id')\n",
    "plt.xlabel('gb_used')\n",
    "plt.title('Распределение интернет трафика')"
   ]
  },
  {
   "cell_type": "markdown",
   "metadata": {},
   "source": [
    "**Самое распростараненное количество потраченных Гб интернета клиента тарифа \"смарт\" за месяц - это 20 Гб.**\n"
   ]
  },
  {
   "cell_type": "code",
   "execution_count": 81,
   "metadata": {},
   "outputs": [
    {
     "data": {
      "text/plain": [
       "Text(0.5, 1.0, 'Распределение количества сообщений')"
      ]
     },
     "execution_count": 81,
     "metadata": {},
     "output_type": "execute_result"
    },
    {
     "data": {
      "image/png": "[encoded data removed]",
      "text/plain": [
       "<Figure size 432x288 with 1 Axes>"
      ]
     },
     "metadata": {
      "needs_background": "light"
     },
     "output_type": "display_data"
    }
   ],
   "source": [
    "ultra_mean_messages.plot(kind='hist')\n",
    "plt.ylabel('user_id')\n",
    "plt.xlabel('messages')\n",
    "plt.title('Распределение количества сообщений')"
   ]
  },
  {
   "cell_type": "markdown",
   "metadata": {},
   "source": [
    "**Самое распростараненное количество сообщений клиента тарифа \"смарт\" за месяц - это 60.**\n"
   ]
  },
  {
   "cell_type": "code",
   "execution_count": 82,
   "metadata": {},
   "outputs": [
    {
     "name": "stdout",
     "output_type": "stream",
     "text": [
      "550.1382336950999\n",
      "19.71161666971526\n",
      "54.19680583501006\n"
     ]
    }
   ],
   "source": [
    "#Среднее арифметичесоке \n",
    "\n",
    "m_ultra_mean_duration = np.mean(ultra_mean_duration)\n",
    "m_ultra_mean_internet = np.mean(ultra_mean_internet)\n",
    "m_ultra_mean_messages = np.mean(ultra_mean_messages)\n",
    "\n",
    "print(m_ultra_mean_duration)\n",
    "print(m_ultra_mean_internet)\n",
    "print(m_ultra_mean_messages)\n"
   ]
  },
  {
   "cell_type": "code",
   "execution_count": 83,
   "metadata": {},
   "outputs": [
    {
     "name": "stdout",
     "output_type": "stream",
     "text": [
      "268.53450996727327\n",
      "8.006732291241685\n",
      "45.518836146286596\n"
     ]
    }
   ],
   "source": [
    "#Стандартное отклонение\n",
    "\n",
    "standard_deviation_ultra_duration = np.std(ultra_mean_duration)\n",
    "standard_deviation_ultra_internet = np.std(ultra_mean_internet)\n",
    "standard_deviation_ultra_messages = np.std(ultra_mean_messages)\n",
    "print(standard_deviation_ultra_duration)\n",
    "print(standard_deviation_ultra_internet)\n",
    "print(standard_deviation_ultra_messages)"
   ]
  },
  {
   "cell_type": "code",
   "execution_count": 84,
   "metadata": {},
   "outputs": [
    {
     "name": "stdout",
     "output_type": "stream",
     "text": [
      "72110.7830433636\n",
      "64.1077619836123\n",
      "2071.964444112487\n"
     ]
    }
   ],
   "source": [
    "#Дисперсия\n",
    "\n",
    "variance_deviation_ultra_duration = np.var(ultra_mean_duration)\n",
    "variance_deviation_ultra_internet = np.var(ultra_mean_internet)\n",
    "variance_deviation_ultra_messages = np.var(ultra_mean_messages)\n",
    "print(variance_deviation_ultra_duration)\n",
    "print(variance_deviation_ultra_internet)\n",
    "print(variance_deviation_ultra_messages)"
   ]
  },
  {
   "cell_type": "markdown",
   "metadata": {},
   "source": [
    "<div style=\"border:solid lightblue 3px; padding: 20px\">\n",
    "<b>Выводы:</b>\n",
    "    \n",
    "    На всех гистограммах можно наблюдать нормальное распределение. \n",
    "    В целом распределения услуг в обоих тарифак очень похоже.\n",
    "    Дисперсия тарифа ультра больше, чем у тарифа смарт. Это связано с менее однородным распределением данных в тарифе ультра.\n",
    "    \n",
    "    "
   ]
  },
  {
   "cell_type": "markdown",
   "metadata": {},
   "source": [
    "## Проверка гипотез"
   ]
  },
  {
   "cell_type": "markdown",
   "metadata": {},
   "source": [
    "**1. Гипотеза: средняя выручка пользователей тарифов «Ультра» и «Смарт» различаются**"
   ]
  },
  {
   "cell_type": "code",
   "execution_count": 85,
   "metadata": {},
   "outputs": [
    {
     "name": "stdout",
     "output_type": "stream",
     "text": [
      "p-значение: 5.474842917674926e-118\n",
      "Не получилось отвергнуть нулевую гипотезу\n"
     ]
    }
   ],
   "source": [
    "\n",
    "# Гипотеза: средняя выручка пользователей тарифов «Ультра» и «Смарт» различаются\n",
    "\n",
    "smart_mean_final_proceeds = data_final_smart.groupby('user_id')['final_proceeds'].mean() \n",
    "\n",
    "ultra_mean_final_proceeds = data_final_ultra.groupby('user_id')['final_proceeds'].mean() \n",
    "\n",
    "alpha = 0.05\n",
    "\n",
    "results = st.ttest_ind(smart_mean_final_proceeds, ultra_mean_final_proceeds)\n",
    "\n",
    "print('p-значение:', results.pvalue)\n",
    "\n",
    "if results.pvalue > alpha:\n",
    "    print(\"Отвергаем нулевую гипотезу\")\n",
    "else:\n",
    "    print(\"Не получилось отвергнуть нулевую гипотезу\")"
   ]
  },
  {
   "cell_type": "markdown",
   "metadata": {},
   "source": [
    "**2. Гипотеза: средняя выручка пользователи из Москвы отличается от выручки пользователей из других регионов**"
   ]
  },
  {
   "cell_type": "code",
   "execution_count": 86,
   "metadata": {},
   "outputs": [
    {
     "name": "stdout",
     "output_type": "stream",
     "text": [
      "p-значение: 0.6394125421402639\n",
      "Отвергаем нулевую гипотезу\n"
     ]
    }
   ],
   "source": [
    "\n",
    "# Гипотеза: средняя выручка пользователи из Москвы отличается от выручки пользователей из других регионов\n",
    "\n",
    "moscow = data_final.query('city == \"москва\"')\n",
    "\n",
    "regions = data_final.query('city != \"москва\"')\n",
    "\n",
    "\n",
    "moscow_mean_final_proceeds = moscow.groupby('user_id')['final_proceeds'].mean() \n",
    "\n",
    "regions_mean_final_proceeds = regions.groupby('user_id')['final_proceeds'].mean()\n",
    "\n",
    "alpha = 0.05\n",
    "\n",
    "results = st.ttest_ind(moscow_mean_final_proceeds, regions_mean_final_proceeds)\n",
    "\n",
    "print('p-значение:', results.pvalue)\n",
    "\n",
    "if results.pvalue > alpha:\n",
    "    print(\"Отвергаем нулевую гипотезу\")\n",
    "else:\n",
    "    print(\"Не получилось отвергнуть нулевую гипотезу\")"
   ]
  },
  {
   "cell_type": "markdown",
   "metadata": {},
   "source": [
    "**Вывод:**\n",
    "\n",
    "Средняя выручка пользователей тарифов «Ультра» и «Смарт» различаются.\n",
    "\n",
    "\n",
    "Средняя выручка пользователи из Москвы не отличается от выручки пользователей из других регионов."
   ]
  },
  {
   "cell_type": "markdown",
   "metadata": {},
   "source": [
    "## Общий вывод"
   ]
  },
  {
   "cell_type": "markdown",
   "metadata": {},
   "source": [
    "Проведена предварительная обработка данных, произведены необходимые расчеты, проведен исследовательский анализ данных, проверены требуемые гипотезы.\n",
    "\n",
    "Вот такие дела."
   ]
  }
 ],
 "metadata": {
  "ExecuteTimeLog": [
   {
    "duration": 733,
    "start_time": "2021-09-08T03:50:52.837Z"
   },
   {
    "duration": 148,
    "start_time": "2021-09-08T03:50:56.917Z"
   },
   {
    "duration": 156,
    "start_time": "2021-09-08T03:51:06.188Z"
   },
   {
    "duration": 166,
    "start_time": "2021-09-08T03:51:28.856Z"
   },
   {
    "duration": 159,
    "start_time": "2021-09-08T03:52:14.398Z"
   },
   {
    "duration": 771,
    "start_time": "2021-09-08T19:56:51.776Z"
   },
   {
    "duration": 137,
    "start_time": "2021-09-08T19:56:59.030Z"
   },
   {
    "duration": 97,
    "start_time": "2021-09-08T19:58:22.317Z"
   },
   {
    "duration": 26,
    "start_time": "2021-09-08T20:00:08.530Z"
   },
   {
    "duration": 39,
    "start_time": "2021-09-08T20:01:07.507Z"
   },
   {
    "duration": 35,
    "start_time": "2021-09-08T20:04:59.485Z"
   },
   {
    "duration": 104,
    "start_time": "2021-09-08T20:05:27.218Z"
   },
   {
    "duration": 107,
    "start_time": "2021-09-08T20:05:33.668Z"
   },
   {
    "duration": 73,
    "start_time": "2021-09-08T20:06:21.222Z"
   },
   {
    "duration": 49,
    "start_time": "2021-09-08T20:07:08.505Z"
   },
   {
    "duration": 6,
    "start_time": "2021-09-08T20:07:30.602Z"
   },
   {
    "duration": 307,
    "start_time": "2021-09-08T20:08:00.560Z"
   },
   {
    "duration": 7,
    "start_time": "2021-09-08T20:08:09.710Z"
   },
   {
    "duration": 166,
    "start_time": "2021-09-08T20:16:04.667Z"
   },
   {
    "duration": 4,
    "start_time": "2021-09-08T20:16:08.153Z"
   },
   {
    "duration": 171,
    "start_time": "2021-09-08T20:16:09.088Z"
   },
   {
    "duration": 129,
    "start_time": "2021-09-08T20:17:40.034Z"
   },
   {
    "duration": 121,
    "start_time": "2021-09-08T20:18:00.939Z"
   },
   {
    "duration": 679,
    "start_time": "2021-09-08T20:19:11.389Z"
   },
   {
    "duration": 179,
    "start_time": "2021-09-08T20:19:12.070Z"
   },
   {
    "duration": 417,
    "start_time": "2021-09-08T20:19:15.952Z"
   },
   {
    "duration": 120,
    "start_time": "2021-09-08T20:19:22.122Z"
   },
   {
    "duration": 632,
    "start_time": "2021-09-08T20:24:57.676Z"
   },
   {
    "duration": 195,
    "start_time": "2021-09-08T20:24:58.310Z"
   },
   {
    "duration": 116,
    "start_time": "2021-09-08T20:25:00.094Z"
   },
   {
    "duration": 172,
    "start_time": "2021-09-08T20:25:36.096Z"
   },
   {
    "duration": 111,
    "start_time": "2021-09-08T20:25:59.598Z"
   },
   {
    "duration": 675,
    "start_time": "2021-09-08T20:28:19.432Z"
   },
   {
    "duration": 190,
    "start_time": "2021-09-08T20:28:20.109Z"
   },
   {
    "duration": 187,
    "start_time": "2021-09-08T20:28:20.495Z"
   },
   {
    "duration": 173,
    "start_time": "2021-09-08T20:28:43.191Z"
   },
   {
    "duration": 176,
    "start_time": "2021-09-08T20:28:49.553Z"
   },
   {
    "duration": 501,
    "start_time": "2021-09-08T20:30:20.508Z"
   },
   {
    "duration": 431,
    "start_time": "2021-09-08T20:30:28.536Z"
   },
   {
    "duration": 661,
    "start_time": "2021-09-08T20:31:24.351Z"
   },
   {
    "duration": 185,
    "start_time": "2021-09-08T20:31:25.384Z"
   },
   {
    "duration": 116,
    "start_time": "2021-09-08T20:31:26.236Z"
   },
   {
    "duration": 418,
    "start_time": "2021-09-08T20:31:46.383Z"
   },
   {
    "duration": 628,
    "start_time": "2021-09-08T20:32:32.160Z"
   },
   {
    "duration": 176,
    "start_time": "2021-09-08T20:32:32.790Z"
   },
   {
    "duration": 186,
    "start_time": "2021-09-08T20:32:33.304Z"
   },
   {
    "duration": 140,
    "start_time": "2021-09-08T20:39:04.496Z"
   },
   {
    "duration": 123,
    "start_time": "2021-09-08T20:39:23.436Z"
   },
   {
    "duration": 116,
    "start_time": "2021-09-08T20:39:38.989Z"
   },
   {
    "duration": 174,
    "start_time": "2021-09-08T20:41:00.425Z"
   },
   {
    "duration": 388,
    "start_time": "2021-09-08T20:48:32.260Z"
   },
   {
    "duration": 89,
    "start_time": "2021-09-08T20:48:58.719Z"
   },
   {
    "duration": 88,
    "start_time": "2021-09-08T20:49:11.683Z"
   },
   {
    "duration": 81,
    "start_time": "2021-09-08T20:52:19.895Z"
   },
   {
    "duration": 250,
    "start_time": "2021-09-08T20:57:14.207Z"
   },
   {
    "duration": 270,
    "start_time": "2021-09-08T20:57:43.838Z"
   },
   {
    "duration": 254,
    "start_time": "2021-09-08T20:58:10.669Z"
   },
   {
    "duration": 718,
    "start_time": "2021-09-08T20:58:20.728Z"
   },
   {
    "duration": 193,
    "start_time": "2021-09-08T20:58:21.448Z"
   },
   {
    "duration": 219,
    "start_time": "2021-09-08T20:58:21.644Z"
   },
   {
    "duration": 160,
    "start_time": "2021-09-08T20:58:21.865Z"
   },
   {
    "duration": 124,
    "start_time": "2021-09-08T20:58:22.026Z"
   },
   {
    "duration": 109,
    "start_time": "2021-09-08T20:58:22.151Z"
   },
   {
    "duration": 81,
    "start_time": "2021-09-08T20:58:22.262Z"
   },
   {
    "duration": 26,
    "start_time": "2021-09-08T20:58:22.344Z"
   },
   {
    "duration": 9,
    "start_time": "2021-09-08T20:58:22.372Z"
   },
   {
    "duration": 43,
    "start_time": "2021-09-08T20:58:22.542Z"
   },
   {
    "duration": 8,
    "start_time": "2021-09-08T20:58:22.696Z"
   },
   {
    "duration": 10,
    "start_time": "2021-09-08T21:01:54.631Z"
   },
   {
    "duration": 11,
    "start_time": "2021-09-08T21:02:53.601Z"
   },
   {
    "duration": 14,
    "start_time": "2021-09-08T21:05:22.712Z"
   },
   {
    "duration": 13,
    "start_time": "2021-09-08T21:05:47.184Z"
   },
   {
    "duration": 15,
    "start_time": "2021-09-08T21:05:53.394Z"
   },
   {
    "duration": 661,
    "start_time": "2021-09-08T21:06:15.977Z"
   },
   {
    "duration": 192,
    "start_time": "2021-09-08T21:06:16.640Z"
   },
   {
    "duration": 219,
    "start_time": "2021-09-08T21:06:16.834Z"
   },
   {
    "duration": 163,
    "start_time": "2021-09-08T21:06:17.055Z"
   },
   {
    "duration": 121,
    "start_time": "2021-09-08T21:06:17.220Z"
   },
   {
    "duration": 112,
    "start_time": "2021-09-08T21:06:17.342Z"
   },
   {
    "duration": 84,
    "start_time": "2021-09-08T21:06:17.457Z"
   },
   {
    "duration": 26,
    "start_time": "2021-09-08T21:06:17.543Z"
   },
   {
    "duration": 6,
    "start_time": "2021-09-08T21:06:17.571Z"
   },
   {
    "duration": 46,
    "start_time": "2021-09-08T21:06:17.579Z"
   },
   {
    "duration": 16,
    "start_time": "2021-09-08T21:06:17.756Z"
   },
   {
    "duration": 15,
    "start_time": "2021-09-08T21:06:46.800Z"
   },
   {
    "duration": 15,
    "start_time": "2021-09-08T21:07:09.408Z"
   },
   {
    "duration": 662,
    "start_time": "2021-09-08T21:09:38.096Z"
   },
   {
    "duration": 201,
    "start_time": "2021-09-08T21:09:38.760Z"
   },
   {
    "duration": 158,
    "start_time": "2021-09-08T21:09:39.347Z"
   },
   {
    "duration": 721,
    "start_time": "2021-09-08T21:10:06.421Z"
   },
   {
    "duration": 196,
    "start_time": "2021-09-08T21:10:07.144Z"
   },
   {
    "duration": 226,
    "start_time": "2021-09-08T21:10:07.613Z"
   },
   {
    "duration": 611,
    "start_time": "2021-09-08T21:10:24.474Z"
   },
   {
    "duration": 179,
    "start_time": "2021-09-08T21:10:25.086Z"
   },
   {
    "duration": 153,
    "start_time": "2021-09-08T21:10:25.440Z"
   },
   {
    "duration": 671,
    "start_time": "2021-09-08T21:15:54.325Z"
   },
   {
    "duration": 182,
    "start_time": "2021-09-08T21:15:54.998Z"
   },
   {
    "duration": 479,
    "start_time": "2021-09-08T21:15:55.927Z"
   },
   {
    "duration": 428,
    "start_time": "2021-09-08T21:16:17.452Z"
   },
   {
    "duration": 494,
    "start_time": "2021-09-08T21:16:44.829Z"
   },
   {
    "duration": 214,
    "start_time": "2021-09-08T21:17:52.179Z"
   },
   {
    "duration": 274,
    "start_time": "2021-09-08T21:50:09.172Z"
   },
   {
    "duration": 258,
    "start_time": "2021-09-08T21:50:13.080Z"
   },
   {
    "duration": 15,
    "start_time": "2021-09-08T21:50:22.642Z"
   },
   {
    "duration": 188,
    "start_time": "2021-09-08T21:50:22.840Z"
   },
   {
    "duration": 224,
    "start_time": "2021-09-08T21:50:23.030Z"
   },
   {
    "duration": 164,
    "start_time": "2021-09-08T21:50:23.256Z"
   },
   {
    "duration": 105,
    "start_time": "2021-09-08T21:50:23.422Z"
   },
   {
    "duration": 110,
    "start_time": "2021-09-08T21:50:23.541Z"
   },
   {
    "duration": 68,
    "start_time": "2021-09-08T21:50:23.686Z"
   },
   {
    "duration": 26,
    "start_time": "2021-09-08T21:50:23.861Z"
   },
   {
    "duration": 8,
    "start_time": "2021-09-08T21:50:24.032Z"
   },
   {
    "duration": 47,
    "start_time": "2021-09-08T21:50:24.217Z"
   },
   {
    "duration": 21,
    "start_time": "2021-09-08T21:50:24.375Z"
   },
   {
    "duration": 95,
    "start_time": "2021-09-08T21:58:45.681Z"
   },
   {
    "duration": 227,
    "start_time": "2021-09-08T21:58:53.670Z"
   },
   {
    "duration": 6572,
    "start_time": "2021-09-08T21:59:33.673Z"
   },
   {
    "duration": 226,
    "start_time": "2021-09-08T21:59:54.941Z"
   },
   {
    "duration": 71,
    "start_time": "2021-09-08T22:00:46.473Z"
   },
   {
    "duration": 220,
    "start_time": "2021-09-08T22:12:48.306Z"
   },
   {
    "duration": 240,
    "start_time": "2021-09-08T22:13:09.966Z"
   },
   {
    "duration": 244,
    "start_time": "2021-09-08T22:13:27.887Z"
   },
   {
    "duration": 229,
    "start_time": "2021-09-08T22:14:08.508Z"
   },
   {
    "duration": 86,
    "start_time": "2021-09-08T22:25:49.879Z"
   },
   {
    "duration": 78,
    "start_time": "2021-09-08T22:28:09.689Z"
   },
   {
    "duration": 299,
    "start_time": "2021-09-08T22:42:06.092Z"
   },
   {
    "duration": 744,
    "start_time": "2021-09-08T22:42:19.053Z"
   },
   {
    "duration": 278,
    "start_time": "2021-09-08T22:47:25.376Z"
   },
   {
    "duration": 329,
    "start_time": "2021-09-08T22:47:36.293Z"
   },
   {
    "duration": 231,
    "start_time": "2021-09-08T22:51:19.486Z"
   },
   {
    "duration": 89,
    "start_time": "2021-09-08T22:51:32.657Z"
   },
   {
    "duration": 8,
    "start_time": "2021-09-08T22:51:40.855Z"
   },
   {
    "duration": 84,
    "start_time": "2021-09-08T22:52:05.535Z"
   },
   {
    "duration": 7,
    "start_time": "2021-09-08T22:52:19.531Z"
   },
   {
    "duration": 184,
    "start_time": "2021-09-08T22:52:19.792Z"
   },
   {
    "duration": 273,
    "start_time": "2021-09-08T22:52:19.981Z"
   },
   {
    "duration": 184,
    "start_time": "2021-09-08T22:52:20.257Z"
   },
   {
    "duration": 144,
    "start_time": "2021-09-08T22:52:20.443Z"
   },
   {
    "duration": 118,
    "start_time": "2021-09-08T22:52:20.638Z"
   },
   {
    "duration": 108,
    "start_time": "2021-09-08T22:52:20.856Z"
   },
   {
    "duration": 29,
    "start_time": "2021-09-08T22:52:21.025Z"
   },
   {
    "duration": 8,
    "start_time": "2021-09-08T22:52:21.191Z"
   },
   {
    "duration": 45,
    "start_time": "2021-09-08T22:52:21.377Z"
   },
   {
    "duration": 19,
    "start_time": "2021-09-08T22:52:21.569Z"
   },
   {
    "duration": 8,
    "start_time": "2021-09-08T22:52:22.668Z"
   },
   {
    "duration": 10,
    "start_time": "2021-09-08T22:54:42.370Z"
   },
   {
    "duration": 16,
    "start_time": "2021-09-08T22:54:55.188Z"
   },
   {
    "duration": 9,
    "start_time": "2021-09-08T22:55:56.585Z"
   },
   {
    "duration": 9,
    "start_time": "2021-09-08T22:56:00.045Z"
   },
   {
    "duration": 9,
    "start_time": "2021-09-08T22:58:49.624Z"
   },
   {
    "duration": 266,
    "start_time": "2021-09-08T23:00:17.433Z"
   },
   {
    "duration": 12,
    "start_time": "2021-09-08T23:00:27.634Z"
   },
   {
    "duration": 11,
    "start_time": "2021-09-08T23:00:31.521Z"
   },
   {
    "duration": 264,
    "start_time": "2021-09-08T23:00:31.953Z"
   },
   {
    "duration": 8,
    "start_time": "2021-09-08T23:09:16.397Z"
   },
   {
    "duration": 11,
    "start_time": "2021-09-08T23:09:36.613Z"
   },
   {
    "duration": 9,
    "start_time": "2021-09-08T23:09:47.863Z"
   },
   {
    "duration": 28,
    "start_time": "2021-09-08T23:10:12.645Z"
   },
   {
    "duration": 296,
    "start_time": "2021-09-08T23:12:39.140Z"
   },
   {
    "duration": 30,
    "start_time": "2021-09-08T23:12:39.538Z"
   },
   {
    "duration": 742,
    "start_time": "2021-09-08T23:12:53.709Z"
   },
   {
    "duration": 196,
    "start_time": "2021-09-08T23:12:54.453Z"
   },
   {
    "duration": 271,
    "start_time": "2021-09-08T23:12:54.651Z"
   },
   {
    "duration": 167,
    "start_time": "2021-09-08T23:12:54.924Z"
   },
   {
    "duration": 146,
    "start_time": "2021-09-08T23:12:55.092Z"
   },
   {
    "duration": 113,
    "start_time": "2021-09-08T23:12:55.240Z"
   },
   {
    "duration": 114,
    "start_time": "2021-09-08T23:12:55.355Z"
   },
   {
    "duration": 26,
    "start_time": "2021-09-08T23:12:55.471Z"
   },
   {
    "duration": 10,
    "start_time": "2021-09-08T23:12:55.499Z"
   },
   {
    "duration": 44,
    "start_time": "2021-09-08T23:12:55.652Z"
   },
   {
    "duration": 22,
    "start_time": "2021-09-08T23:12:55.843Z"
   },
   {
    "duration": 8,
    "start_time": "2021-09-08T23:12:56.064Z"
   },
   {
    "duration": 9,
    "start_time": "2021-09-08T23:12:56.327Z"
   },
   {
    "duration": 11,
    "start_time": "2021-09-08T23:12:56.890Z"
   },
   {
    "duration": 334,
    "start_time": "2021-09-08T23:12:57.790Z"
   },
   {
    "duration": 264,
    "start_time": "2021-09-08T23:12:59.317Z"
   },
   {
    "duration": 9,
    "start_time": "2021-09-08T23:13:07.299Z"
   },
   {
    "duration": 679,
    "start_time": "2021-09-08T23:13:39.398Z"
   },
   {
    "duration": 269,
    "start_time": "2021-09-08T23:13:40.079Z"
   },
   {
    "duration": 324,
    "start_time": "2021-09-08T23:13:40.351Z"
   },
   {
    "duration": 164,
    "start_time": "2021-09-08T23:13:40.676Z"
   },
   {
    "duration": 142,
    "start_time": "2021-09-08T23:13:40.842Z"
   },
   {
    "duration": 114,
    "start_time": "2021-09-08T23:13:42.182Z"
   },
   {
    "duration": 125,
    "start_time": "2021-09-08T23:13:42.298Z"
   },
   {
    "duration": 29,
    "start_time": "2021-09-08T23:13:42.426Z"
   },
   {
    "duration": 8,
    "start_time": "2021-09-08T23:13:42.561Z"
   },
   {
    "duration": 43,
    "start_time": "2021-09-08T23:13:43.021Z"
   },
   {
    "duration": 22,
    "start_time": "2021-09-08T23:13:43.552Z"
   },
   {
    "duration": 8,
    "start_time": "2021-09-08T23:13:44.196Z"
   },
   {
    "duration": 8,
    "start_time": "2021-09-08T23:13:44.591Z"
   },
   {
    "duration": 9,
    "start_time": "2021-09-08T23:13:44.969Z"
   },
   {
    "duration": 9,
    "start_time": "2021-09-08T23:13:45.304Z"
   },
   {
    "duration": 29,
    "start_time": "2021-09-08T23:13:45.797Z"
   },
   {
    "duration": 6,
    "start_time": "2021-09-08T23:17:55.536Z"
   },
   {
    "duration": 22,
    "start_time": "2021-09-08T23:18:07.175Z"
   },
   {
    "duration": 22,
    "start_time": "2021-09-08T23:18:18.588Z"
   },
   {
    "duration": 6,
    "start_time": "2021-09-08T23:20:07.355Z"
   },
   {
    "duration": 5,
    "start_time": "2021-09-08T23:23:11.419Z"
   },
   {
    "duration": 342,
    "start_time": "2021-09-08T23:27:07.037Z"
   },
   {
    "duration": 8469,
    "start_time": "2021-09-08T23:27:37.894Z"
   },
   {
    "duration": 7536,
    "start_time": "2021-09-08T23:27:52.109Z"
   },
   {
    "duration": 643,
    "start_time": "2021-09-08T23:38:54.584Z"
   },
   {
    "duration": 196,
    "start_time": "2021-09-08T23:39:19.600Z"
   },
   {
    "duration": 273,
    "start_time": "2021-09-08T23:39:20.745Z"
   },
   {
    "duration": 158,
    "start_time": "2021-09-08T23:39:22.009Z"
   },
   {
    "duration": 137,
    "start_time": "2021-09-08T23:39:24.238Z"
   },
   {
    "duration": 107,
    "start_time": "2021-09-08T23:39:24.976Z"
   },
   {
    "duration": 103,
    "start_time": "2021-09-08T23:39:25.944Z"
   },
   {
    "duration": 27,
    "start_time": "2021-09-08T23:39:26.617Z"
   },
   {
    "duration": 7,
    "start_time": "2021-09-08T23:39:27.269Z"
   },
   {
    "duration": 44,
    "start_time": "2021-09-08T23:39:27.752Z"
   },
   {
    "duration": 21,
    "start_time": "2021-09-08T23:39:28.483Z"
   },
   {
    "duration": 7,
    "start_time": "2021-09-08T23:39:30.077Z"
   },
   {
    "duration": 9,
    "start_time": "2021-09-08T23:39:30.590Z"
   },
   {
    "duration": 10,
    "start_time": "2021-09-08T23:39:30.956Z"
   },
   {
    "duration": 9,
    "start_time": "2021-09-08T23:39:33.475Z"
   },
   {
    "duration": 6,
    "start_time": "2021-09-08T23:39:34.376Z"
   },
   {
    "duration": 24,
    "start_time": "2021-09-08T23:39:36.051Z"
   },
   {
    "duration": 3,
    "start_time": "2021-09-08T23:39:49.992Z"
   },
   {
    "duration": 353,
    "start_time": "2021-09-08T23:39:50.982Z"
   },
   {
    "duration": 649,
    "start_time": "2021-09-08T23:47:02.087Z"
   },
   {
    "duration": 196,
    "start_time": "2021-09-08T23:47:02.738Z"
   },
   {
    "duration": 277,
    "start_time": "2021-09-08T23:47:04.391Z"
   },
   {
    "duration": 157,
    "start_time": "2021-09-08T23:47:23.539Z"
   },
   {
    "duration": 692,
    "start_time": "2021-09-08T23:49:41.300Z"
   },
   {
    "duration": 197,
    "start_time": "2021-09-08T23:49:41.994Z"
   },
   {
    "duration": 585,
    "start_time": "2021-09-08T23:49:42.453Z"
   },
   {
    "duration": 515,
    "start_time": "2021-09-08T23:50:04.375Z"
   },
   {
    "duration": 288,
    "start_time": "2021-09-08T23:50:11.543Z"
   },
   {
    "duration": 296,
    "start_time": "2021-09-08T23:50:22.202Z"
   },
   {
    "duration": 245,
    "start_time": "2021-09-08T23:51:14.502Z"
   },
   {
    "duration": 505,
    "start_time": "2021-09-08T23:56:41.735Z"
   },
   {
    "duration": 504,
    "start_time": "2021-09-08T23:56:51.887Z"
   },
   {
    "duration": 248,
    "start_time": "2021-09-08T23:57:09.374Z"
   },
   {
    "duration": 279,
    "start_time": "2021-09-08T23:59:15.189Z"
   },
   {
    "duration": 6,
    "start_time": "2021-09-09T00:00:34.642Z"
   },
   {
    "duration": 181,
    "start_time": "2021-09-09T00:00:35.376Z"
   },
   {
    "duration": 102,
    "start_time": "2021-09-09T00:00:41.704Z"
   },
   {
    "duration": 164,
    "start_time": "2021-09-09T00:01:02.527Z"
   },
   {
    "duration": 308,
    "start_time": "2021-09-09T00:01:28.421Z"
   },
   {
    "duration": 154,
    "start_time": "2021-09-09T00:01:40.168Z"
   },
   {
    "duration": 72,
    "start_time": "2021-09-09T00:01:41.051Z"
   },
   {
    "duration": 86,
    "start_time": "2021-09-09T00:12:31.927Z"
   },
   {
    "duration": 681,
    "start_time": "2021-09-09T00:13:45.599Z"
   },
   {
    "duration": 198,
    "start_time": "2021-09-09T00:13:46.282Z"
   },
   {
    "duration": 122,
    "start_time": "2021-09-09T00:13:47.137Z"
   },
   {
    "duration": 179,
    "start_time": "2021-09-09T00:13:47.859Z"
   },
   {
    "duration": 162,
    "start_time": "2021-09-09T00:13:50.283Z"
   },
   {
    "duration": 70,
    "start_time": "2021-09-09T00:13:51.777Z"
   },
   {
    "duration": 84,
    "start_time": "2021-09-09T00:13:53.231Z"
   },
   {
    "duration": 67,
    "start_time": "2021-09-09T00:14:51.655Z"
   },
   {
    "duration": 408,
    "start_time": "2021-09-09T00:15:09.531Z"
   },
   {
    "duration": 114,
    "start_time": "2021-09-09T00:15:16.271Z"
   },
   {
    "duration": 54,
    "start_time": "2021-09-09T00:15:17.138Z"
   },
   {
    "duration": 54,
    "start_time": "2021-09-09T00:17:05.472Z"
   },
   {
    "duration": 27,
    "start_time": "2021-09-09T00:17:13.377Z"
   },
   {
    "duration": 6,
    "start_time": "2021-09-09T00:17:27.412Z"
   },
   {
    "duration": 3,
    "start_time": "2021-09-09T00:18:06.394Z"
   },
   {
    "duration": 108,
    "start_time": "2021-09-09T00:18:15.910Z"
   },
   {
    "duration": 94,
    "start_time": "2021-09-09T00:18:27.392Z"
   },
   {
    "duration": 3,
    "start_time": "2021-09-09T00:18:33.416Z"
   },
   {
    "duration": 278,
    "start_time": "2021-09-09T00:19:29.462Z"
   },
   {
    "duration": 43,
    "start_time": "2021-09-09T00:19:45.721Z"
   },
   {
    "duration": 6,
    "start_time": "2021-09-09T00:19:47.824Z"
   },
   {
    "duration": 9,
    "start_time": "2021-09-09T00:19:48.752Z"
   },
   {
    "duration": 13,
    "start_time": "2021-09-09T00:19:51.303Z"
   },
   {
    "duration": 272,
    "start_time": "2021-09-09T00:21:43.932Z"
   },
   {
    "duration": 676,
    "start_time": "2021-09-09T00:22:44.161Z"
   },
   {
    "duration": 193,
    "start_time": "2021-09-09T00:22:44.840Z"
   },
   {
    "duration": 113,
    "start_time": "2021-09-09T00:22:45.621Z"
   },
   {
    "duration": 174,
    "start_time": "2021-09-09T00:22:46.335Z"
   },
   {
    "duration": 157,
    "start_time": "2021-09-09T00:22:47.007Z"
   },
   {
    "duration": 71,
    "start_time": "2021-09-09T00:22:47.709Z"
   },
   {
    "duration": 83,
    "start_time": "2021-09-09T00:22:48.297Z"
   },
   {
    "duration": 115,
    "start_time": "2021-09-09T00:22:49.141Z"
   },
   {
    "duration": 52,
    "start_time": "2021-09-09T00:22:49.920Z"
   },
   {
    "duration": 53,
    "start_time": "2021-09-09T00:22:52.119Z"
   },
   {
    "duration": 26,
    "start_time": "2021-09-09T00:22:53.421Z"
   },
   {
    "duration": 7,
    "start_time": "2021-09-09T00:22:54.641Z"
   },
   {
    "duration": 3,
    "start_time": "2021-09-09T00:22:55.319Z"
   },
   {
    "duration": 44,
    "start_time": "2021-09-09T00:22:56.034Z"
   },
   {
    "duration": 5,
    "start_time": "2021-09-09T00:22:56.850Z"
   },
   {
    "duration": 10,
    "start_time": "2021-09-09T00:22:58.307Z"
   },
   {
    "duration": 12,
    "start_time": "2021-09-09T00:23:11.697Z"
   },
   {
    "duration": 349,
    "start_time": "2021-09-09T00:23:14.887Z"
   },
   {
    "duration": 191,
    "start_time": "2021-09-09T00:24:34.126Z"
   },
   {
    "duration": 1169,
    "start_time": "2021-09-09T00:25:30.861Z"
   },
   {
    "duration": 172,
    "start_time": "2021-09-09T00:25:56.231Z"
   },
   {
    "duration": 1054,
    "start_time": "2021-09-09T00:26:10.216Z"
   },
   {
    "duration": 68,
    "start_time": "2021-09-09T00:26:16.458Z"
   },
   {
    "duration": 279,
    "start_time": "2021-09-09T00:26:45.448Z"
   },
   {
    "duration": 1175,
    "start_time": "2021-09-09T00:28:27.539Z"
   },
   {
    "duration": 160,
    "start_time": "2021-09-09T00:28:58.549Z"
   },
   {
    "duration": 347,
    "start_time": "2021-09-09T00:30:03.133Z"
   },
   {
    "duration": 710,
    "start_time": "2021-09-09T00:36:05.220Z"
   },
   {
    "duration": 197,
    "start_time": "2021-09-09T00:36:05.932Z"
   },
   {
    "duration": 117,
    "start_time": "2021-09-09T00:36:07.027Z"
   },
   {
    "duration": 481,
    "start_time": "2021-09-09T00:36:08.395Z"
   },
   {
    "duration": 153,
    "start_time": "2021-09-09T00:36:14.104Z"
   },
   {
    "duration": 359,
    "start_time": "2021-09-09T00:38:24.159Z"
   },
   {
    "duration": 166,
    "start_time": "2021-09-09T00:38:34.374Z"
   },
   {
    "duration": 70,
    "start_time": "2021-09-09T00:38:35.325Z"
   },
   {
    "duration": 73,
    "start_time": "2021-09-09T00:38:36.122Z"
   },
   {
    "duration": 114,
    "start_time": "2021-09-09T00:39:33.006Z"
   },
   {
    "duration": 52,
    "start_time": "2021-09-09T00:39:34.386Z"
   },
   {
    "duration": 53,
    "start_time": "2021-09-09T00:39:36.202Z"
   },
   {
    "duration": 29,
    "start_time": "2021-09-09T00:39:43.756Z"
   },
   {
    "duration": 8,
    "start_time": "2021-09-09T00:39:44.558Z"
   },
   {
    "duration": 4,
    "start_time": "2021-09-09T00:39:46.241Z"
   },
   {
    "duration": 44,
    "start_time": "2021-09-09T00:39:46.835Z"
   },
   {
    "duration": 5,
    "start_time": "2021-09-09T00:40:10.271Z"
   },
   {
    "duration": 9,
    "start_time": "2021-09-09T00:40:10.632Z"
   },
   {
    "duration": 13,
    "start_time": "2021-09-09T00:40:17.726Z"
   },
   {
    "duration": 704,
    "start_time": "2021-09-09T00:42:12.422Z"
   },
   {
    "duration": 267,
    "start_time": "2021-09-09T00:42:40.683Z"
   },
   {
    "duration": 258,
    "start_time": "2021-09-09T00:42:52.159Z"
   },
   {
    "duration": 321,
    "start_time": "2021-09-09T00:43:22.631Z"
   },
   {
    "duration": 705,
    "start_time": "2021-09-09T00:43:42.338Z"
   },
   {
    "duration": 194,
    "start_time": "2021-09-09T00:43:43.045Z"
   },
   {
    "duration": 117,
    "start_time": "2021-09-09T00:43:43.462Z"
   },
   {
    "duration": 168,
    "start_time": "2021-09-09T00:43:46.430Z"
   },
   {
    "duration": 159,
    "start_time": "2021-09-09T00:43:47.546Z"
   },
   {
    "duration": 72,
    "start_time": "2021-09-09T00:43:48.500Z"
   },
   {
    "duration": 65,
    "start_time": "2021-09-09T00:43:49.535Z"
   },
   {
    "duration": 113,
    "start_time": "2021-09-09T00:43:50.366Z"
   },
   {
    "duration": 55,
    "start_time": "2021-09-09T00:43:51.326Z"
   },
   {
    "duration": 54,
    "start_time": "2021-09-09T00:43:55.879Z"
   },
   {
    "duration": 27,
    "start_time": "2021-09-09T00:43:56.876Z"
   },
   {
    "duration": 7,
    "start_time": "2021-09-09T00:43:57.671Z"
   },
   {
    "duration": 3,
    "start_time": "2021-09-09T00:43:58.318Z"
   },
   {
    "duration": 43,
    "start_time": "2021-09-09T00:43:59.055Z"
   },
   {
    "duration": 6,
    "start_time": "2021-09-09T00:44:01.139Z"
   },
   {
    "duration": 10,
    "start_time": "2021-09-09T00:44:02.612Z"
   },
   {
    "duration": 13,
    "start_time": "2021-09-09T00:44:04.145Z"
   },
   {
    "duration": 992,
    "start_time": "2021-09-09T00:44:16.782Z"
   },
   {
    "duration": 272,
    "start_time": "2021-09-09T00:44:27.012Z"
   },
   {
    "duration": 690,
    "start_time": "2021-09-09T00:44:46.249Z"
   },
   {
    "duration": 199,
    "start_time": "2021-09-09T00:44:46.942Z"
   },
   {
    "duration": 124,
    "start_time": "2021-09-09T00:44:47.143Z"
   },
   {
    "duration": 172,
    "start_time": "2021-09-09T00:44:47.269Z"
   },
   {
    "duration": 163,
    "start_time": "2021-09-09T00:44:47.673Z"
   },
   {
    "duration": 72,
    "start_time": "2021-09-09T00:44:48.457Z"
   },
   {
    "duration": 67,
    "start_time": "2021-09-09T00:44:49.509Z"
   },
   {
    "duration": 116,
    "start_time": "2021-09-09T00:44:50.118Z"
   },
   {
    "duration": 61,
    "start_time": "2021-09-09T00:44:50.906Z"
   },
   {
    "duration": 50,
    "start_time": "2021-09-09T00:44:52.210Z"
   },
   {
    "duration": 27,
    "start_time": "2021-09-09T00:44:52.830Z"
   },
   {
    "duration": 7,
    "start_time": "2021-09-09T00:44:53.220Z"
   },
   {
    "duration": 3,
    "start_time": "2021-09-09T00:44:53.704Z"
   },
   {
    "duration": 44,
    "start_time": "2021-09-09T00:44:54.315Z"
   },
   {
    "duration": 6,
    "start_time": "2021-09-09T00:44:54.904Z"
   },
   {
    "duration": 10,
    "start_time": "2021-09-09T00:44:55.858Z"
   },
   {
    "duration": 12,
    "start_time": "2021-09-09T00:44:56.540Z"
   },
   {
    "duration": 324,
    "start_time": "2021-09-09T00:44:57.028Z"
   },
   {
    "duration": 262,
    "start_time": "2021-09-09T00:44:58.140Z"
   },
   {
    "duration": 299,
    "start_time": "2021-09-09T00:47:06.111Z"
   },
   {
    "duration": 680,
    "start_time": "2021-09-09T00:47:09.902Z"
   },
   {
    "duration": 197,
    "start_time": "2021-09-09T00:47:10.584Z"
   },
   {
    "duration": 114,
    "start_time": "2021-09-09T00:47:10.859Z"
   },
   {
    "duration": 433,
    "start_time": "2021-09-09T00:47:11.404Z"
   },
   {
    "duration": 160,
    "start_time": "2021-09-09T00:47:12.016Z"
   },
   {
    "duration": 429,
    "start_time": "2021-09-09T00:47:49.766Z"
   },
   {
    "duration": 87,
    "start_time": "2021-09-09T00:48:04.135Z"
   },
   {
    "duration": 425,
    "start_time": "2021-09-09T00:48:08.336Z"
   },
   {
    "duration": 413,
    "start_time": "2021-09-09T00:49:35.307Z"
   },
   {
    "duration": 324,
    "start_time": "2021-09-09T00:52:43.964Z"
   },
   {
    "duration": 6,
    "start_time": "2021-09-09T00:52:50.643Z"
   },
   {
    "duration": 194,
    "start_time": "2021-09-09T00:52:50.986Z"
   },
   {
    "duration": 106,
    "start_time": "2021-09-09T00:52:51.910Z"
   },
   {
    "duration": 141,
    "start_time": "2021-09-09T00:52:52.559Z"
   },
   {
    "duration": 162,
    "start_time": "2021-09-09T00:52:53.713Z"
   },
   {
    "duration": 66,
    "start_time": "2021-09-09T00:52:54.700Z"
   },
   {
    "duration": 57,
    "start_time": "2021-09-09T00:52:56.836Z"
   },
   {
    "duration": 115,
    "start_time": "2021-09-09T00:55:07.902Z"
   },
   {
    "duration": 53,
    "start_time": "2021-09-09T00:55:08.576Z"
   },
   {
    "duration": 1588,
    "start_time": "2021-09-09T00:55:09.544Z"
   },
   {
    "duration": 327,
    "start_time": "2021-09-09T00:55:17.886Z"
   },
   {
    "duration": 47,
    "start_time": "2021-09-09T00:55:30.244Z"
   },
   {
    "duration": 119,
    "start_time": "2021-09-09T00:55:30.574Z"
   },
   {
    "duration": 56,
    "start_time": "2021-09-09T00:55:30.977Z"
   },
   {
    "duration": 320,
    "start_time": "2021-09-09T00:55:31.562Z"
   },
   {
    "duration": 299,
    "start_time": "2021-09-09T00:55:41.950Z"
   },
   {
    "duration": 41,
    "start_time": "2021-09-09T00:55:59.117Z"
   },
   {
    "duration": 50,
    "start_time": "2021-09-09T00:56:44.444Z"
   },
   {
    "duration": 57,
    "start_time": "2021-09-09T00:57:29.151Z"
   },
   {
    "duration": 27,
    "start_time": "2021-09-09T00:57:29.465Z"
   },
   {
    "duration": 710,
    "start_time": "2021-09-09T00:59:37.122Z"
   },
   {
    "duration": 201,
    "start_time": "2021-09-09T00:59:37.834Z"
   },
   {
    "duration": 122,
    "start_time": "2021-09-09T00:59:38.041Z"
   },
   {
    "duration": 148,
    "start_time": "2021-09-09T00:59:38.247Z"
   },
   {
    "duration": 160,
    "start_time": "2021-09-09T00:59:38.575Z"
   },
   {
    "duration": 69,
    "start_time": "2021-09-09T00:59:38.975Z"
   },
   {
    "duration": 57,
    "start_time": "2021-09-09T00:59:39.402Z"
   },
   {
    "duration": 116,
    "start_time": "2021-09-09T00:59:39.768Z"
   },
   {
    "duration": 53,
    "start_time": "2021-09-09T00:59:40.158Z"
   },
   {
    "duration": 69,
    "start_time": "2021-09-09T00:59:40.573Z"
   },
   {
    "duration": 26,
    "start_time": "2021-09-09T00:59:41.013Z"
   },
   {
    "duration": 7,
    "start_time": "2021-09-09T00:59:41.384Z"
   },
   {
    "duration": 3,
    "start_time": "2021-09-09T00:59:41.788Z"
   },
   {
    "duration": 44,
    "start_time": "2021-09-09T00:59:42.164Z"
   },
   {
    "duration": 7,
    "start_time": "2021-09-09T00:59:42.667Z"
   },
   {
    "duration": 10,
    "start_time": "2021-09-09T00:59:43.263Z"
   },
   {
    "duration": 13,
    "start_time": "2021-09-09T00:59:43.818Z"
   },
   {
    "duration": 25,
    "start_time": "2021-09-09T00:59:46.331Z"
   },
   {
    "duration": 24,
    "start_time": "2021-09-09T01:03:44.934Z"
   },
   {
    "duration": 368,
    "start_time": "2021-09-09T01:04:38.232Z"
   },
   {
    "duration": 269,
    "start_time": "2021-09-09T01:05:28.456Z"
   },
   {
    "duration": 301,
    "start_time": "2021-09-09T01:05:34.518Z"
   },
   {
    "duration": 17,
    "start_time": "2021-09-09T01:06:01.025Z"
   },
   {
    "duration": 1186,
    "start_time": "2021-09-09T01:06:34.392Z"
   },
   {
    "duration": 193,
    "start_time": "2021-09-09T01:06:35.580Z"
   },
   {
    "duration": 132,
    "start_time": "2021-09-09T01:06:35.776Z"
   },
   {
    "duration": 161,
    "start_time": "2021-09-09T01:06:35.910Z"
   },
   {
    "duration": 155,
    "start_time": "2021-09-09T01:06:36.073Z"
   },
   {
    "duration": 69,
    "start_time": "2021-09-09T01:06:36.486Z"
   },
   {
    "duration": 56,
    "start_time": "2021-09-09T01:06:37.825Z"
   },
   {
    "duration": 111,
    "start_time": "2021-09-09T01:06:38.936Z"
   },
   {
    "duration": 55,
    "start_time": "2021-09-09T01:06:39.759Z"
   },
   {
    "duration": 45,
    "start_time": "2021-09-09T01:06:40.575Z"
   },
   {
    "duration": 28,
    "start_time": "2021-09-09T01:06:41.422Z"
   },
   {
    "duration": 8,
    "start_time": "2021-09-09T01:06:41.951Z"
   },
   {
    "duration": 3,
    "start_time": "2021-09-09T01:06:42.343Z"
   },
   {
    "duration": 45,
    "start_time": "2021-09-09T01:06:42.977Z"
   },
   {
    "duration": 5,
    "start_time": "2021-09-09T01:06:43.342Z"
   },
   {
    "duration": 10,
    "start_time": "2021-09-09T01:06:44.471Z"
   },
   {
    "duration": 14,
    "start_time": "2021-09-09T01:06:44.778Z"
   },
   {
    "duration": 19,
    "start_time": "2021-09-09T01:06:47.936Z"
   },
   {
    "duration": 21,
    "start_time": "2021-09-09T01:07:19.823Z"
   },
   {
    "duration": 670,
    "start_time": "2021-09-09T01:08:39.863Z"
   },
   {
    "duration": 200,
    "start_time": "2021-09-09T01:08:40.535Z"
   },
   {
    "duration": 128,
    "start_time": "2021-09-09T01:08:40.741Z"
   },
   {
    "duration": 151,
    "start_time": "2021-09-09T01:08:40.876Z"
   },
   {
    "duration": 226,
    "start_time": "2021-09-09T01:08:41.347Z"
   },
   {
    "duration": 76,
    "start_time": "2021-09-09T01:08:41.809Z"
   },
   {
    "duration": 58,
    "start_time": "2021-09-09T01:08:42.243Z"
   },
   {
    "duration": 110,
    "start_time": "2021-09-09T01:08:42.542Z"
   },
   {
    "duration": 55,
    "start_time": "2021-09-09T01:08:43.218Z"
   },
   {
    "duration": 50,
    "start_time": "2021-09-09T01:08:43.565Z"
   },
   {
    "duration": 27,
    "start_time": "2021-09-09T01:08:44.498Z"
   },
   {
    "duration": 7,
    "start_time": "2021-09-09T01:08:45.015Z"
   },
   {
    "duration": 3,
    "start_time": "2021-09-09T01:08:45.555Z"
   },
   {
    "duration": 44,
    "start_time": "2021-09-09T01:08:46.176Z"
   },
   {
    "duration": 6,
    "start_time": "2021-09-09T01:08:46.762Z"
   },
   {
    "duration": 9,
    "start_time": "2021-09-09T01:08:48.386Z"
   },
   {
    "duration": 12,
    "start_time": "2021-09-09T01:08:48.875Z"
   },
   {
    "duration": 20,
    "start_time": "2021-09-09T01:08:50.055Z"
   },
   {
    "duration": 19,
    "start_time": "2021-09-09T01:08:59.698Z"
   },
   {
    "duration": 19,
    "start_time": "2021-09-09T01:09:04.704Z"
   },
   {
    "duration": 19,
    "start_time": "2021-09-09T01:09:08.723Z"
   },
   {
    "duration": 38,
    "start_time": "2021-09-09T01:09:38.489Z"
   },
   {
    "duration": 788,
    "start_time": "2021-09-09T01:11:24.856Z"
   },
   {
    "duration": 199,
    "start_time": "2021-09-09T01:11:25.647Z"
   },
   {
    "duration": 132,
    "start_time": "2021-09-09T01:11:25.848Z"
   },
   {
    "duration": 161,
    "start_time": "2021-09-09T01:11:25.983Z"
   },
   {
    "duration": 166,
    "start_time": "2021-09-09T01:11:26.146Z"
   },
   {
    "duration": 89,
    "start_time": "2021-09-09T01:11:26.314Z"
   },
   {
    "duration": 57,
    "start_time": "2021-09-09T01:11:26.433Z"
   },
   {
    "duration": 114,
    "start_time": "2021-09-09T01:11:26.696Z"
   },
   {
    "duration": 53,
    "start_time": "2021-09-09T01:11:26.934Z"
   },
   {
    "duration": 48,
    "start_time": "2021-09-09T01:11:27.205Z"
   },
   {
    "duration": 28,
    "start_time": "2021-09-09T01:11:27.443Z"
   },
   {
    "duration": 7,
    "start_time": "2021-09-09T01:11:27.714Z"
   },
   {
    "duration": 3,
    "start_time": "2021-09-09T01:11:28.315Z"
   },
   {
    "duration": 43,
    "start_time": "2021-09-09T01:11:28.646Z"
   },
   {
    "duration": 7,
    "start_time": "2021-09-09T01:11:29.015Z"
   },
   {
    "duration": 9,
    "start_time": "2021-09-09T01:11:29.424Z"
   },
   {
    "duration": 13,
    "start_time": "2021-09-09T01:11:29.763Z"
   },
   {
    "duration": 40,
    "start_time": "2021-09-09T01:11:30.093Z"
   },
   {
    "duration": 34,
    "start_time": "2021-09-09T01:18:48.474Z"
   },
   {
    "duration": 30,
    "start_time": "2021-09-09T01:19:01.588Z"
   },
   {
    "duration": 27,
    "start_time": "2021-09-09T01:19:09.829Z"
   },
   {
    "duration": 38,
    "start_time": "2021-09-09T01:19:18.621Z"
   },
   {
    "duration": 40,
    "start_time": "2021-09-09T01:19:35.721Z"
   },
   {
    "duration": 348,
    "start_time": "2021-09-09T01:29:51.608Z"
   },
   {
    "duration": 326,
    "start_time": "2021-09-09T01:30:07.377Z"
   },
   {
    "duration": 303,
    "start_time": "2021-09-09T01:30:25.165Z"
   },
   {
    "duration": 302,
    "start_time": "2021-09-09T01:30:35.874Z"
   },
   {
    "duration": 292,
    "start_time": "2021-09-09T01:30:49.845Z"
   },
   {
    "duration": 52,
    "start_time": "2021-09-09T01:30:59.483Z"
   },
   {
    "duration": 53,
    "start_time": "2021-09-09T01:31:17.859Z"
   },
   {
    "duration": 53,
    "start_time": "2021-09-09T01:31:38.493Z"
   },
   {
    "duration": 97,
    "start_time": "2021-09-09T01:40:04.850Z"
   },
   {
    "duration": 87,
    "start_time": "2021-09-09T01:42:26.582Z"
   },
   {
    "duration": 5,
    "start_time": "2021-09-09T01:43:45.796Z"
   },
   {
    "duration": 192,
    "start_time": "2021-09-09T01:46:09.200Z"
   },
   {
    "duration": 285,
    "start_time": "2021-09-09T01:46:27.059Z"
   },
   {
    "duration": 28,
    "start_time": "2021-09-09T01:46:31.232Z"
   },
   {
    "duration": 22,
    "start_time": "2021-09-09T01:47:15.730Z"
   },
   {
    "duration": 324,
    "start_time": "2021-09-09T01:48:24.756Z"
   },
   {
    "duration": 312,
    "start_time": "2021-09-09T01:48:42.098Z"
   },
   {
    "duration": 44,
    "start_time": "2021-09-09T01:48:58.313Z"
   },
   {
    "duration": 193,
    "start_time": "2021-09-09T01:53:19.514Z"
   },
   {
    "duration": 29,
    "start_time": "2021-09-09T01:59:56.008Z"
   },
   {
    "duration": 651,
    "start_time": "2021-09-09T02:00:52.793Z"
   },
   {
    "duration": 200,
    "start_time": "2021-09-09T02:00:53.446Z"
   },
   {
    "duration": 128,
    "start_time": "2021-09-09T02:00:53.648Z"
   },
   {
    "duration": 211,
    "start_time": "2021-09-09T02:00:53.778Z"
   },
   {
    "duration": 187,
    "start_time": "2021-09-09T02:00:53.991Z"
   },
   {
    "duration": 93,
    "start_time": "2021-09-09T02:00:54.180Z"
   },
   {
    "duration": 68,
    "start_time": "2021-09-09T02:00:54.275Z"
   },
   {
    "duration": 112,
    "start_time": "2021-09-09T02:00:54.345Z"
   },
   {
    "duration": 52,
    "start_time": "2021-09-09T02:00:54.458Z"
   },
   {
    "duration": 67,
    "start_time": "2021-09-09T02:00:54.512Z"
   },
   {
    "duration": 26,
    "start_time": "2021-09-09T02:00:54.581Z"
   },
   {
    "duration": 6,
    "start_time": "2021-09-09T02:00:54.609Z"
   },
   {
    "duration": 4,
    "start_time": "2021-09-09T02:00:54.641Z"
   },
   {
    "duration": 48,
    "start_time": "2021-09-09T02:00:54.646Z"
   },
   {
    "duration": 6,
    "start_time": "2021-09-09T02:00:54.696Z"
   },
   {
    "duration": 10,
    "start_time": "2021-09-09T02:00:54.705Z"
   },
   {
    "duration": 29,
    "start_time": "2021-09-09T02:00:54.717Z"
   },
   {
    "duration": 42,
    "start_time": "2021-09-09T02:00:54.748Z"
   },
   {
    "duration": 5,
    "start_time": "2021-09-09T02:00:54.792Z"
   },
   {
    "duration": 219,
    "start_time": "2021-09-09T02:00:54.798Z"
   },
   {
    "duration": 43,
    "start_time": "2021-09-09T02:00:55.019Z"
   },
   {
    "duration": 382,
    "start_time": "2021-09-09T02:00:55.064Z"
   },
   {
    "duration": 33,
    "start_time": "2021-09-09T02:01:57.661Z"
   },
   {
    "duration": 32,
    "start_time": "2021-09-09T02:04:36.439Z"
   },
   {
    "duration": 32,
    "start_time": "2021-09-09T02:06:45.594Z"
   },
   {
    "duration": 108,
    "start_time": "2021-09-09T02:50:18.574Z"
   },
   {
    "duration": 6,
    "start_time": "2021-09-09T02:50:31.898Z"
   },
   {
    "duration": 176,
    "start_time": "2021-09-09T02:50:41.074Z"
   },
   {
    "duration": 27,
    "start_time": "2021-09-09T02:50:42.391Z"
   },
   {
    "duration": 184,
    "start_time": "2021-09-09T02:50:55.215Z"
   },
   {
    "duration": 665,
    "start_time": "2021-09-09T02:51:12.594Z"
   },
   {
    "duration": 195,
    "start_time": "2021-09-09T02:51:13.261Z"
   },
   {
    "duration": 140,
    "start_time": "2021-09-09T02:51:13.459Z"
   },
   {
    "duration": 172,
    "start_time": "2021-09-09T02:51:13.601Z"
   },
   {
    "duration": 173,
    "start_time": "2021-09-09T02:51:13.775Z"
   },
   {
    "duration": 91,
    "start_time": "2021-09-09T02:51:13.951Z"
   },
   {
    "duration": 59,
    "start_time": "2021-09-09T02:51:14.044Z"
   },
   {
    "duration": 124,
    "start_time": "2021-09-09T02:51:14.127Z"
   },
   {
    "duration": 62,
    "start_time": "2021-09-09T02:51:14.312Z"
   },
   {
    "duration": 46,
    "start_time": "2021-09-09T02:51:14.527Z"
   },
   {
    "duration": 28,
    "start_time": "2021-09-09T02:51:14.752Z"
   },
   {
    "duration": 10,
    "start_time": "2021-09-09T02:51:15.189Z"
   },
   {
    "duration": 4,
    "start_time": "2021-09-09T02:51:15.208Z"
   },
   {
    "duration": 46,
    "start_time": "2021-09-09T02:51:15.453Z"
   },
   {
    "duration": 5,
    "start_time": "2021-09-09T02:51:15.725Z"
   },
   {
    "duration": 9,
    "start_time": "2021-09-09T02:51:16.041Z"
   },
   {
    "duration": 12,
    "start_time": "2021-09-09T02:51:16.323Z"
   },
   {
    "duration": 40,
    "start_time": "2021-09-09T02:51:16.570Z"
   },
   {
    "duration": 6,
    "start_time": "2021-09-09T02:51:17.575Z"
   },
   {
    "duration": 197,
    "start_time": "2021-09-09T02:51:17.583Z"
   },
   {
    "duration": 30,
    "start_time": "2021-09-09T02:51:17.783Z"
   },
   {
    "duration": 104,
    "start_time": "2021-09-09T02:52:32.169Z"
   },
   {
    "duration": 6,
    "start_time": "2021-09-09T02:52:41.397Z"
   },
   {
    "duration": 4,
    "start_time": "2021-09-09T03:07:46.970Z"
   },
   {
    "duration": 4,
    "start_time": "2021-09-09T03:07:51.387Z"
   },
   {
    "duration": 93,
    "start_time": "2021-09-09T03:08:22.024Z"
   },
   {
    "duration": 29,
    "start_time": "2021-09-09T03:08:22.585Z"
   },
   {
    "duration": 4,
    "start_time": "2021-09-09T03:12:17.693Z"
   },
   {
    "duration": 3,
    "start_time": "2021-09-09T03:12:18.536Z"
   },
   {
    "duration": 94,
    "start_time": "2021-09-09T03:12:19.229Z"
   },
   {
    "duration": 30,
    "start_time": "2021-09-09T03:12:19.684Z"
   },
   {
    "duration": 4,
    "start_time": "2021-09-09T03:19:44.529Z"
   },
   {
    "duration": 4,
    "start_time": "2021-09-09T03:19:44.926Z"
   },
   {
    "duration": 3,
    "start_time": "2021-09-09T03:19:45.537Z"
   },
   {
    "duration": 83,
    "start_time": "2021-09-09T03:19:46.601Z"
   },
   {
    "duration": 29,
    "start_time": "2021-09-09T03:19:47.180Z"
   },
   {
    "duration": 148,
    "start_time": "2021-09-09T03:19:55.048Z"
   },
   {
    "duration": 29,
    "start_time": "2021-09-09T03:20:07.973Z"
   },
   {
    "duration": 3,
    "start_time": "2021-09-09T03:25:00.879Z"
   },
   {
    "duration": 4,
    "start_time": "2021-09-09T03:25:01.250Z"
   },
   {
    "duration": 867,
    "start_time": "2021-09-09T03:25:01.799Z"
   },
   {
    "duration": 4,
    "start_time": "2021-09-09T03:25:26.950Z"
   },
   {
    "duration": 4,
    "start_time": "2021-09-09T03:25:27.344Z"
   },
   {
    "duration": 226,
    "start_time": "2021-09-09T03:25:27.741Z"
   },
   {
    "duration": 29,
    "start_time": "2021-09-09T03:25:28.371Z"
   },
   {
    "duration": 704,
    "start_time": "2021-09-09T03:25:59.418Z"
   },
   {
    "duration": 217,
    "start_time": "2021-09-09T03:26:00.124Z"
   },
   {
    "duration": 148,
    "start_time": "2021-09-09T03:26:00.345Z"
   },
   {
    "duration": 168,
    "start_time": "2021-09-09T03:26:00.495Z"
   },
   {
    "duration": 162,
    "start_time": "2021-09-09T03:26:00.665Z"
   },
   {
    "duration": 81,
    "start_time": "2021-09-09T03:26:00.829Z"
   },
   {
    "duration": 76,
    "start_time": "2021-09-09T03:26:00.913Z"
   },
   {
    "duration": 124,
    "start_time": "2021-09-09T03:26:00.991Z"
   },
   {
    "duration": 69,
    "start_time": "2021-09-09T03:26:01.117Z"
   },
   {
    "duration": 74,
    "start_time": "2021-09-09T03:26:01.189Z"
   },
   {
    "duration": 30,
    "start_time": "2021-09-09T03:26:01.265Z"
   },
   {
    "duration": 15,
    "start_time": "2021-09-09T03:26:01.299Z"
   },
   {
    "duration": 27,
    "start_time": "2021-09-09T03:26:01.316Z"
   },
   {
    "duration": 61,
    "start_time": "2021-09-09T03:26:01.345Z"
   },
   {
    "duration": 21,
    "start_time": "2021-09-09T03:26:01.408Z"
   },
   {
    "duration": 28,
    "start_time": "2021-09-09T03:26:01.432Z"
   },
   {
    "duration": 23,
    "start_time": "2021-09-09T03:26:01.463Z"
   },
   {
    "duration": 40,
    "start_time": "2021-09-09T03:26:01.895Z"
   },
   {
    "duration": 4,
    "start_time": "2021-09-09T03:26:02.159Z"
   },
   {
    "duration": 4,
    "start_time": "2021-09-09T03:26:02.513Z"
   },
   {
    "duration": 3,
    "start_time": "2021-09-09T03:26:02.760Z"
   },
   {
    "duration": 221,
    "start_time": "2021-09-09T03:26:02.988Z"
   },
   {
    "duration": 29,
    "start_time": "2021-09-09T03:26:03.502Z"
   },
   {
    "duration": 534,
    "start_time": "2021-09-09T03:27:46.798Z"
   },
   {
    "duration": 223,
    "start_time": "2021-09-09T03:28:06.745Z"
   },
   {
    "duration": 31,
    "start_time": "2021-09-09T03:28:07.702Z"
   },
   {
    "duration": 3,
    "start_time": "2021-09-09T03:29:52.023Z"
   },
   {
    "duration": 4,
    "start_time": "2021-09-09T03:29:52.381Z"
   },
   {
    "duration": 3,
    "start_time": "2021-09-09T03:29:52.741Z"
   },
   {
    "duration": 221,
    "start_time": "2021-09-09T03:29:53.063Z"
   },
   {
    "duration": 31,
    "start_time": "2021-09-09T03:29:53.391Z"
   },
   {
    "duration": 259,
    "start_time": "2021-09-09T03:31:21.640Z"
   },
   {
    "duration": 30,
    "start_time": "2021-09-09T03:31:22.051Z"
   },
   {
    "duration": 637,
    "start_time": "2021-09-09T03:31:51.887Z"
   },
   {
    "duration": 200,
    "start_time": "2021-09-09T03:31:52.526Z"
   },
   {
    "duration": 137,
    "start_time": "2021-09-09T03:31:52.729Z"
   },
   {
    "duration": 157,
    "start_time": "2021-09-09T03:31:52.868Z"
   },
   {
    "duration": 165,
    "start_time": "2021-09-09T03:31:53.028Z"
   },
   {
    "duration": 88,
    "start_time": "2021-09-09T03:31:53.195Z"
   },
   {
    "duration": 56,
    "start_time": "2021-09-09T03:31:53.489Z"
   },
   {
    "duration": 113,
    "start_time": "2021-09-09T03:31:53.810Z"
   },
   {
    "duration": 54,
    "start_time": "2021-09-09T03:31:54.142Z"
   },
   {
    "duration": 48,
    "start_time": "2021-09-09T03:31:54.465Z"
   },
   {
    "duration": 27,
    "start_time": "2021-09-09T03:31:54.722Z"
   },
   {
    "duration": 7,
    "start_time": "2021-09-09T03:31:54.974Z"
   },
   {
    "duration": 3,
    "start_time": "2021-09-09T03:31:55.246Z"
   },
   {
    "duration": 45,
    "start_time": "2021-09-09T03:31:55.515Z"
   },
   {
    "duration": 7,
    "start_time": "2021-09-09T03:31:55.811Z"
   },
   {
    "duration": 10,
    "start_time": "2021-09-09T03:31:56.102Z"
   },
   {
    "duration": 14,
    "start_time": "2021-09-09T03:31:56.422Z"
   },
   {
    "duration": 40,
    "start_time": "2021-09-09T03:31:56.704Z"
   },
   {
    "duration": 4,
    "start_time": "2021-09-09T03:31:56.983Z"
   },
   {
    "duration": 3,
    "start_time": "2021-09-09T03:31:57.286Z"
   },
   {
    "duration": 3,
    "start_time": "2021-09-09T03:31:57.621Z"
   },
   {
    "duration": 6777,
    "start_time": "2021-09-09T03:31:58.006Z"
   },
   {
    "duration": 4972,
    "start_time": "2021-09-09T03:31:59.813Z"
   },
   {
    "duration": 32,
    "start_time": "2021-09-09T03:32:05.086Z"
   },
   {
    "duration": 766,
    "start_time": "2021-09-09T03:33:16.519Z"
   },
   {
    "duration": 200,
    "start_time": "2021-09-09T03:33:17.872Z"
   },
   {
    "duration": 131,
    "start_time": "2021-09-09T03:33:18.075Z"
   },
   {
    "duration": 159,
    "start_time": "2021-09-09T03:33:18.208Z"
   },
   {
    "duration": 155,
    "start_time": "2021-09-09T03:33:18.369Z"
   },
   {
    "duration": 77,
    "start_time": "2021-09-09T03:33:18.526Z"
   },
   {
    "duration": 73,
    "start_time": "2021-09-09T03:33:18.605Z"
   },
   {
    "duration": 117,
    "start_time": "2021-09-09T03:33:18.680Z"
   },
   {
    "duration": 52,
    "start_time": "2021-09-09T03:33:18.830Z"
   },
   {
    "duration": 45,
    "start_time": "2021-09-09T03:33:19.110Z"
   },
   {
    "duration": 26,
    "start_time": "2021-09-09T03:33:19.391Z"
   },
   {
    "duration": 7,
    "start_time": "2021-09-09T03:33:19.691Z"
   },
   {
    "duration": 3,
    "start_time": "2021-09-09T03:33:20.013Z"
   },
   {
    "duration": 43,
    "start_time": "2021-09-09T03:33:20.448Z"
   },
   {
    "duration": 6,
    "start_time": "2021-09-09T03:33:20.832Z"
   },
   {
    "duration": 10,
    "start_time": "2021-09-09T03:33:21.332Z"
   },
   {
    "duration": 13,
    "start_time": "2021-09-09T03:33:21.788Z"
   },
   {
    "duration": 39,
    "start_time": "2021-09-09T03:33:22.199Z"
   },
   {
    "duration": 4,
    "start_time": "2021-09-09T03:33:22.666Z"
   },
   {
    "duration": 3,
    "start_time": "2021-09-09T03:33:23.052Z"
   },
   {
    "duration": 4,
    "start_time": "2021-09-09T03:33:23.485Z"
   },
   {
    "duration": 325,
    "start_time": "2021-09-09T03:33:23.947Z"
   },
   {
    "duration": 31,
    "start_time": "2021-09-09T03:33:24.465Z"
   },
   {
    "duration": 332,
    "start_time": "2021-09-09T03:37:54.588Z"
   },
   {
    "duration": 7,
    "start_time": "2021-09-09T03:38:04.828Z"
   },
   {
    "duration": 6,
    "start_time": "2021-09-09T03:38:27.066Z"
   },
   {
    "duration": 4,
    "start_time": "2021-09-09T03:53:46.609Z"
   },
   {
    "duration": 3,
    "start_time": "2021-09-09T03:53:47.509Z"
   },
   {
    "duration": 3,
    "start_time": "2021-09-09T03:53:48.247Z"
   },
   {
    "duration": 335,
    "start_time": "2021-09-09T03:53:49.011Z"
   },
   {
    "duration": 346,
    "start_time": "2021-09-09T03:54:28.984Z"
   },
   {
    "duration": 221,
    "start_time": "2021-09-09T03:54:51.579Z"
   },
   {
    "duration": 26,
    "start_time": "2021-09-09T03:54:52.607Z"
   },
   {
    "duration": 7,
    "start_time": "2021-09-09T03:54:53.524Z"
   },
   {
    "duration": 683,
    "start_time": "2021-09-09T03:56:38.599Z"
   },
   {
    "duration": 193,
    "start_time": "2021-09-09T03:56:39.284Z"
   },
   {
    "duration": 124,
    "start_time": "2021-09-09T03:56:39.479Z"
   },
   {
    "duration": 159,
    "start_time": "2021-09-09T03:56:39.605Z"
   },
   {
    "duration": 158,
    "start_time": "2021-09-09T03:56:39.765Z"
   },
   {
    "duration": 81,
    "start_time": "2021-09-09T03:56:39.925Z"
   },
   {
    "duration": 76,
    "start_time": "2021-09-09T03:56:40.008Z"
   },
   {
    "duration": 112,
    "start_time": "2021-09-09T03:56:40.246Z"
   },
   {
    "duration": 54,
    "start_time": "2021-09-09T03:56:40.509Z"
   },
   {
    "duration": 49,
    "start_time": "2021-09-09T03:56:40.763Z"
   },
   {
    "duration": 27,
    "start_time": "2021-09-09T03:56:40.986Z"
   },
   {
    "duration": 7,
    "start_time": "2021-09-09T03:56:41.238Z"
   },
   {
    "duration": 3,
    "start_time": "2021-09-09T03:56:41.630Z"
   },
   {
    "duration": 46,
    "start_time": "2021-09-09T03:56:41.996Z"
   },
   {
    "duration": 6,
    "start_time": "2021-09-09T03:56:42.427Z"
   },
   {
    "duration": 8,
    "start_time": "2021-09-09T03:56:42.787Z"
   },
   {
    "duration": 12,
    "start_time": "2021-09-09T03:56:43.171Z"
   },
   {
    "duration": 40,
    "start_time": "2021-09-09T03:56:43.527Z"
   },
   {
    "duration": 3,
    "start_time": "2021-09-09T03:56:43.939Z"
   },
   {
    "duration": 3,
    "start_time": "2021-09-09T03:56:44.300Z"
   },
   {
    "duration": 4,
    "start_time": "2021-09-09T03:56:44.647Z"
   },
   {
    "duration": 338,
    "start_time": "2021-09-09T03:56:45.051Z"
   },
   {
    "duration": 24,
    "start_time": "2021-09-09T03:56:45.509Z"
   },
   {
    "duration": 7,
    "start_time": "2021-09-09T03:56:47.986Z"
   },
   {
    "duration": 212,
    "start_time": "2021-09-09T03:57:18.930Z"
   },
   {
    "duration": 29,
    "start_time": "2021-09-09T03:57:19.707Z"
   },
   {
    "duration": 7,
    "start_time": "2021-09-09T03:57:20.456Z"
   },
   {
    "duration": 6,
    "start_time": "2021-09-09T03:57:20.989Z"
   },
   {
    "duration": 5,
    "start_time": "2021-09-09T04:09:19.949Z"
   },
   {
    "duration": 5,
    "start_time": "2021-09-09T04:09:34.262Z"
   },
   {
    "duration": 6,
    "start_time": "2021-09-09T04:12:48.474Z"
   },
   {
    "duration": 6,
    "start_time": "2021-09-09T04:12:49.966Z"
   },
   {
    "duration": 34,
    "start_time": "2021-09-09T04:18:43.186Z"
   },
   {
    "duration": 7,
    "start_time": "2021-09-09T04:20:49.085Z"
   },
   {
    "duration": 735,
    "start_time": "2021-09-09T04:29:41.616Z"
   },
   {
    "duration": 212,
    "start_time": "2021-09-09T04:29:42.354Z"
   },
   {
    "duration": 138,
    "start_time": "2021-09-09T04:29:42.569Z"
   },
   {
    "duration": 173,
    "start_time": "2021-09-09T04:29:42.710Z"
   },
   {
    "duration": 176,
    "start_time": "2021-09-09T04:29:42.884Z"
   },
   {
    "duration": 87,
    "start_time": "2021-09-09T04:29:43.062Z"
   },
   {
    "duration": 59,
    "start_time": "2021-09-09T04:29:43.153Z"
   },
   {
    "duration": 141,
    "start_time": "2021-09-09T04:29:43.214Z"
   },
   {
    "duration": 54,
    "start_time": "2021-09-09T04:29:43.358Z"
   },
   {
    "duration": 75,
    "start_time": "2021-09-09T04:29:43.414Z"
   },
   {
    "duration": 27,
    "start_time": "2021-09-09T04:29:43.491Z"
   },
   {
    "duration": 29,
    "start_time": "2021-09-09T04:29:43.519Z"
   },
   {
    "duration": 9,
    "start_time": "2021-09-09T04:29:43.551Z"
   },
   {
    "duration": 48,
    "start_time": "2021-09-09T04:29:43.562Z"
   },
   {
    "duration": 7,
    "start_time": "2021-09-09T04:29:43.613Z"
   },
   {
    "duration": 14,
    "start_time": "2021-09-09T04:29:43.642Z"
   },
   {
    "duration": 12,
    "start_time": "2021-09-09T04:29:43.660Z"
   },
   {
    "duration": 77,
    "start_time": "2021-09-09T04:29:43.675Z"
   },
   {
    "duration": 4,
    "start_time": "2021-09-09T04:29:43.755Z"
   },
   {
    "duration": 8,
    "start_time": "2021-09-09T04:29:44.042Z"
   },
   {
    "duration": 4,
    "start_time": "2021-09-09T04:29:44.372Z"
   },
   {
    "duration": 436,
    "start_time": "2021-09-09T04:29:44.664Z"
   },
   {
    "duration": 4925,
    "start_time": "2021-09-09T04:29:40.177Z"
   },
   {
    "duration": 8,
    "start_time": "2021-09-09T04:29:45.380Z"
   },
   {
    "duration": 363,
    "start_time": "2021-09-09T04:30:16.442Z"
   },
   {
    "duration": 732,
    "start_time": "2021-09-09T04:32:13.352Z"
   },
   {
    "duration": 211,
    "start_time": "2021-09-09T04:32:14.086Z"
   },
   {
    "duration": 150,
    "start_time": "2021-09-09T04:32:14.299Z"
   },
   {
    "duration": 175,
    "start_time": "2021-09-09T04:32:14.451Z"
   },
   {
    "duration": 175,
    "start_time": "2021-09-09T04:32:14.628Z"
   },
   {
    "duration": 94,
    "start_time": "2021-09-09T04:32:14.805Z"
   },
   {
    "duration": 83,
    "start_time": "2021-09-09T04:32:14.902Z"
   },
   {
    "duration": 122,
    "start_time": "2021-09-09T04:32:14.987Z"
   },
   {
    "duration": 71,
    "start_time": "2021-09-09T04:32:15.112Z"
   },
   {
    "duration": 48,
    "start_time": "2021-09-09T04:32:15.276Z"
   },
   {
    "duration": 28,
    "start_time": "2021-09-09T04:32:15.689Z"
   },
   {
    "duration": 9,
    "start_time": "2021-09-09T04:32:16.042Z"
   },
   {
    "duration": 3,
    "start_time": "2021-09-09T04:32:16.371Z"
   },
   {
    "duration": 50,
    "start_time": "2021-09-09T04:32:16.713Z"
   },
   {
    "duration": 11,
    "start_time": "2021-09-09T04:32:17.065Z"
   },
   {
    "duration": 10,
    "start_time": "2021-09-09T04:32:17.401Z"
   },
   {
    "duration": 16,
    "start_time": "2021-09-09T04:32:17.734Z"
   },
   {
    "duration": 42,
    "start_time": "2021-09-09T04:32:18.105Z"
   },
   {
    "duration": 4,
    "start_time": "2021-09-09T04:32:18.534Z"
   },
   {
    "duration": 4,
    "start_time": "2021-09-09T04:32:19.061Z"
   },
   {
    "duration": 4,
    "start_time": "2021-09-09T04:32:19.368Z"
   },
   {
    "duration": 232,
    "start_time": "2021-09-09T04:32:19.629Z"
   },
   {
    "duration": 223,
    "start_time": "2021-09-09T04:32:30.039Z"
   },
   {
    "duration": 37,
    "start_time": "2021-09-09T04:32:30.395Z"
   },
   {
    "duration": 6,
    "start_time": "2021-09-09T04:32:30.688Z"
   },
   {
    "duration": 5,
    "start_time": "2021-09-09T04:32:30.984Z"
   },
   {
    "duration": 9,
    "start_time": "2021-09-09T04:32:31.266Z"
   },
   {
    "duration": 6,
    "start_time": "2021-09-09T04:32:31.530Z"
   },
   {
    "duration": 8,
    "start_time": "2021-09-09T04:32:31.839Z"
   },
   {
    "duration": 715,
    "start_time": "2021-09-09T04:35:59.958Z"
   },
   {
    "duration": 215,
    "start_time": "2021-09-09T04:36:00.675Z"
   },
   {
    "duration": 140,
    "start_time": "2021-09-09T04:36:00.893Z"
   },
   {
    "duration": 183,
    "start_time": "2021-09-09T04:36:01.035Z"
   },
   {
    "duration": 194,
    "start_time": "2021-09-09T04:36:01.221Z"
   },
   {
    "duration": 96,
    "start_time": "2021-09-09T04:36:01.417Z"
   },
   {
    "duration": 85,
    "start_time": "2021-09-09T04:36:01.515Z"
   },
   {
    "duration": 147,
    "start_time": "2021-09-09T04:36:01.603Z"
   },
   {
    "duration": 57,
    "start_time": "2021-09-09T04:36:01.754Z"
   },
   {
    "duration": 74,
    "start_time": "2021-09-09T04:36:01.813Z"
   },
   {
    "duration": 28,
    "start_time": "2021-09-09T04:36:01.889Z"
   },
   {
    "duration": 24,
    "start_time": "2021-09-09T04:36:01.918Z"
   },
   {
    "duration": 5,
    "start_time": "2021-09-09T04:36:01.945Z"
   },
   {
    "duration": 50,
    "start_time": "2021-09-09T04:36:01.953Z"
   },
   {
    "duration": 7,
    "start_time": "2021-09-09T04:36:02.006Z"
   },
   {
    "duration": 36,
    "start_time": "2021-09-09T04:36:02.015Z"
   },
   {
    "duration": 15,
    "start_time": "2021-09-09T04:36:02.054Z"
   },
   {
    "duration": 71,
    "start_time": "2021-09-09T04:36:02.071Z"
   },
   {
    "duration": 6,
    "start_time": "2021-09-09T04:36:02.146Z"
   },
   {
    "duration": 17,
    "start_time": "2021-09-09T04:36:02.154Z"
   },
   {
    "duration": 11,
    "start_time": "2021-09-09T04:36:02.173Z"
   },
   {
    "duration": 262,
    "start_time": "2021-09-09T04:36:02.187Z"
   },
   {
    "duration": 37,
    "start_time": "2021-09-09T04:36:02.452Z"
   },
   {
    "duration": 5,
    "start_time": "2021-09-09T04:36:02.492Z"
   },
   {
    "duration": 44,
    "start_time": "2021-09-09T04:36:02.499Z"
   },
   {
    "duration": 15,
    "start_time": "2021-09-09T04:36:02.545Z"
   },
   {
    "duration": 6,
    "start_time": "2021-09-09T04:36:03.315Z"
   },
   {
    "duration": 355,
    "start_time": "2021-09-09T04:42:24.581Z"
   },
   {
    "duration": 9,
    "start_time": "2021-09-09T04:42:31.155Z"
   },
   {
    "duration": 5,
    "start_time": "2021-09-09T04:42:32.345Z"
   },
   {
    "duration": 5,
    "start_time": "2021-09-09T04:42:32.715Z"
   },
   {
    "duration": 6,
    "start_time": "2021-09-09T04:42:33.306Z"
   },
   {
    "duration": 9,
    "start_time": "2021-09-09T04:44:00.537Z"
   },
   {
    "duration": 6,
    "start_time": "2021-09-09T04:44:46.132Z"
   },
   {
    "duration": 5,
    "start_time": "2021-09-09T04:44:46.480Z"
   },
   {
    "duration": 6,
    "start_time": "2021-09-09T04:44:46.881Z"
   },
   {
    "duration": 5,
    "start_time": "2021-09-09T04:46:46.207Z"
   },
   {
    "duration": 245,
    "start_time": "2021-09-09T04:46:48.879Z"
   },
   {
    "duration": 108,
    "start_time": "2021-09-09T04:46:49.382Z"
   },
   {
    "duration": 159,
    "start_time": "2021-09-09T04:46:49.492Z"
   },
   {
    "duration": 164,
    "start_time": "2021-09-09T04:46:49.653Z"
   },
   {
    "duration": 81,
    "start_time": "2021-09-09T04:46:49.819Z"
   },
   {
    "duration": 75,
    "start_time": "2021-09-09T04:46:49.902Z"
   },
   {
    "duration": 114,
    "start_time": "2021-09-09T04:46:49.980Z"
   },
   {
    "duration": 73,
    "start_time": "2021-09-09T04:46:50.096Z"
   },
   {
    "duration": 45,
    "start_time": "2021-09-09T04:46:50.171Z"
   },
   {
    "duration": 35,
    "start_time": "2021-09-09T04:46:50.218Z"
   },
   {
    "duration": 8,
    "start_time": "2021-09-09T04:46:50.255Z"
   },
   {
    "duration": 10,
    "start_time": "2021-09-09T04:46:50.265Z"
   },
   {
    "duration": 44,
    "start_time": "2021-09-09T04:46:50.301Z"
   },
   {
    "duration": 9,
    "start_time": "2021-09-09T04:46:50.398Z"
   },
   {
    "duration": 9,
    "start_time": "2021-09-09T04:46:50.479Z"
   },
   {
    "duration": 8,
    "start_time": "2021-09-09T04:46:50.558Z"
   },
   {
    "duration": 40,
    "start_time": "2021-09-09T04:46:50.637Z"
   },
   {
    "duration": 4,
    "start_time": "2021-09-09T04:46:50.721Z"
   },
   {
    "duration": 3,
    "start_time": "2021-09-09T04:46:50.802Z"
   },
   {
    "duration": 4,
    "start_time": "2021-09-09T04:46:50.887Z"
   },
   {
    "duration": 215,
    "start_time": "2021-09-09T04:46:50.971Z"
   },
   {
    "duration": 33,
    "start_time": "2021-09-09T04:46:51.188Z"
   },
   {
    "duration": 22,
    "start_time": "2021-09-09T04:46:51.223Z"
   },
   {
    "duration": 6,
    "start_time": "2021-09-09T04:46:51.870Z"
   },
   {
    "duration": 8,
    "start_time": "2021-09-09T04:46:52.247Z"
   },
   {
    "duration": 6,
    "start_time": "2021-09-09T04:46:52.537Z"
   },
   {
    "duration": 6,
    "start_time": "2021-09-09T04:46:52.805Z"
   },
   {
    "duration": 6,
    "start_time": "2021-09-09T04:46:53.270Z"
   },
   {
    "duration": 8,
    "start_time": "2021-09-09T04:46:53.749Z"
   },
   {
    "duration": 6,
    "start_time": "2021-09-09T04:46:54.143Z"
   },
   {
    "duration": 6,
    "start_time": "2021-09-09T04:46:54.530Z"
   },
   {
    "duration": 5,
    "start_time": "2021-09-09T04:46:55.067Z"
   },
   {
    "duration": 3,
    "start_time": "2021-09-09T04:48:35.161Z"
   },
   {
    "duration": 4,
    "start_time": "2021-09-09T04:48:50.111Z"
   },
   {
    "duration": 274,
    "start_time": "2021-09-09T04:49:55.951Z"
   },
   {
    "duration": 5,
    "start_time": "2021-09-09T04:50:16.517Z"
   },
   {
    "duration": 261,
    "start_time": "2021-09-09T04:50:57.208Z"
   },
   {
    "duration": 5,
    "start_time": "2021-09-09T04:51:08.574Z"
   },
   {
    "duration": 5,
    "start_time": "2021-09-09T04:55:50.996Z"
   },
   {
    "duration": 6,
    "start_time": "2021-09-09T04:59:47.391Z"
   },
   {
    "duration": 3,
    "start_time": "2021-09-09T05:02:23.092Z"
   },
   {
    "duration": 5,
    "start_time": "2021-09-09T05:02:35.073Z"
   },
   {
    "duration": 5,
    "start_time": "2021-09-09T05:03:50.557Z"
   },
   {
    "duration": 5,
    "start_time": "2021-09-09T05:05:46.471Z"
   },
   {
    "duration": 6,
    "start_time": "2021-09-09T05:06:42.374Z"
   },
   {
    "duration": 6,
    "start_time": "2021-09-09T05:07:34.254Z"
   },
   {
    "duration": 733,
    "start_time": "2021-09-09T05:07:51.219Z"
   },
   {
    "duration": 202,
    "start_time": "2021-09-09T05:07:51.954Z"
   },
   {
    "duration": 131,
    "start_time": "2021-09-09T05:07:52.159Z"
   },
   {
    "duration": 166,
    "start_time": "2021-09-09T05:07:52.291Z"
   },
   {
    "duration": 167,
    "start_time": "2021-09-09T05:07:52.459Z"
   },
   {
    "duration": 81,
    "start_time": "2021-09-09T05:07:52.629Z"
   },
   {
    "duration": 77,
    "start_time": "2021-09-09T05:07:52.712Z"
   },
   {
    "duration": 113,
    "start_time": "2021-09-09T05:07:52.911Z"
   },
   {
    "duration": 53,
    "start_time": "2021-09-09T05:07:53.232Z"
   },
   {
    "duration": 45,
    "start_time": "2021-09-09T05:07:53.520Z"
   },
   {
    "duration": 28,
    "start_time": "2021-09-09T05:07:53.886Z"
   },
   {
    "duration": 8,
    "start_time": "2021-09-09T05:07:54.257Z"
   },
   {
    "duration": 3,
    "start_time": "2021-09-09T05:07:54.664Z"
   },
   {
    "duration": 44,
    "start_time": "2021-09-09T05:07:55.054Z"
   },
   {
    "duration": 6,
    "start_time": "2021-09-09T05:07:55.343Z"
   },
   {
    "duration": 9,
    "start_time": "2021-09-09T05:07:55.745Z"
   },
   {
    "duration": 13,
    "start_time": "2021-09-09T05:07:56.134Z"
   },
   {
    "duration": 40,
    "start_time": "2021-09-09T05:07:56.632Z"
   },
   {
    "duration": 4,
    "start_time": "2021-09-09T05:07:56.827Z"
   },
   {
    "duration": 3,
    "start_time": "2021-09-09T05:07:57.228Z"
   },
   {
    "duration": 4,
    "start_time": "2021-09-09T05:07:57.569Z"
   },
   {
    "duration": 216,
    "start_time": "2021-09-09T05:07:57.900Z"
   },
   {
    "duration": 34,
    "start_time": "2021-09-09T05:07:58.263Z"
   },
   {
    "duration": 6,
    "start_time": "2021-09-09T05:07:58.642Z"
   },
   {
    "duration": 6,
    "start_time": "2021-09-09T05:07:59.089Z"
   },
   {
    "duration": 8,
    "start_time": "2021-09-09T05:07:59.414Z"
   },
   {
    "duration": 5,
    "start_time": "2021-09-09T05:07:59.796Z"
   },
   {
    "duration": 5,
    "start_time": "2021-09-09T05:08:00.160Z"
   },
   {
    "duration": 5,
    "start_time": "2021-09-09T05:08:00.560Z"
   },
   {
    "duration": 9,
    "start_time": "2021-09-09T05:08:00.971Z"
   },
   {
    "duration": 5,
    "start_time": "2021-09-09T05:08:01.316Z"
   },
   {
    "duration": 5,
    "start_time": "2021-09-09T05:08:01.685Z"
   },
   {
    "duration": 5,
    "start_time": "2021-09-09T05:08:02.141Z"
   },
   {
    "duration": 211,
    "start_time": "2021-09-09T05:09:44.031Z"
   },
   {
    "duration": 213,
    "start_time": "2021-09-09T05:10:04.873Z"
   },
   {
    "duration": 247,
    "start_time": "2021-09-09T05:10:17.754Z"
   },
   {
    "duration": 213,
    "start_time": "2021-09-09T05:10:42.516Z"
   },
   {
    "duration": 233,
    "start_time": "2021-09-09T05:10:47.865Z"
   },
   {
    "duration": 317,
    "start_time": "2021-09-09T05:10:52.145Z"
   },
   {
    "duration": 272,
    "start_time": "2021-09-09T05:11:10.776Z"
   },
   {
    "duration": 261,
    "start_time": "2021-09-09T05:11:15.247Z"
   },
   {
    "duration": 234,
    "start_time": "2021-09-09T05:11:20.674Z"
   },
   {
    "duration": 223,
    "start_time": "2021-09-09T05:11:27.785Z"
   },
   {
    "duration": 196,
    "start_time": "2021-09-09T05:12:58.186Z"
   },
   {
    "duration": 209,
    "start_time": "2021-09-09T05:12:58.488Z"
   },
   {
    "duration": 208,
    "start_time": "2021-09-09T05:12:59.162Z"
   },
   {
    "duration": 5,
    "start_time": "2021-09-09T05:17:40.247Z"
   },
   {
    "duration": 6,
    "start_time": "2021-09-09T05:18:20.940Z"
   },
   {
    "duration": 411,
    "start_time": "2021-09-09T05:22:30.208Z"
   },
   {
    "duration": 1157,
    "start_time": "2021-09-09T05:22:44.615Z"
   },
   {
    "duration": 200,
    "start_time": "2021-09-09T05:22:45.773Z"
   },
   {
    "duration": 132,
    "start_time": "2021-09-09T05:22:45.975Z"
   },
   {
    "duration": 161,
    "start_time": "2021-09-09T05:22:46.109Z"
   },
   {
    "duration": 161,
    "start_time": "2021-09-09T05:22:46.271Z"
   },
   {
    "duration": 75,
    "start_time": "2021-09-09T05:22:46.434Z"
   },
   {
    "duration": 79,
    "start_time": "2021-09-09T05:22:46.512Z"
   },
   {
    "duration": 117,
    "start_time": "2021-09-09T05:22:46.593Z"
   },
   {
    "duration": 53,
    "start_time": "2021-09-09T05:22:46.726Z"
   },
   {
    "duration": 47,
    "start_time": "2021-09-09T05:22:47.252Z"
   },
   {
    "duration": 27,
    "start_time": "2021-09-09T05:22:47.311Z"
   },
   {
    "duration": 8,
    "start_time": "2021-09-09T05:22:47.601Z"
   },
   {
    "duration": 3,
    "start_time": "2021-09-09T05:22:48.091Z"
   },
   {
    "duration": 43,
    "start_time": "2021-09-09T05:22:48.182Z"
   },
   {
    "duration": 6,
    "start_time": "2021-09-09T05:22:48.426Z"
   },
   {
    "duration": 12,
    "start_time": "2021-09-09T05:22:48.701Z"
   },
   {
    "duration": 13,
    "start_time": "2021-09-09T05:22:48.909Z"
   },
   {
    "duration": 41,
    "start_time": "2021-09-09T05:22:49.123Z"
   },
   {
    "duration": 4,
    "start_time": "2021-09-09T05:22:49.348Z"
   },
   {
    "duration": 4,
    "start_time": "2021-09-09T05:22:49.569Z"
   },
   {
    "duration": 3,
    "start_time": "2021-09-09T05:22:49.782Z"
   },
   {
    "duration": 219,
    "start_time": "2021-09-09T05:22:50.011Z"
   },
   {
    "duration": 34,
    "start_time": "2021-09-09T05:22:50.238Z"
   },
   {
    "duration": 7,
    "start_time": "2021-09-09T05:22:50.686Z"
   },
   {
    "duration": 7,
    "start_time": "2021-09-09T05:22:51.129Z"
   },
   {
    "duration": 10,
    "start_time": "2021-09-09T05:22:51.450Z"
   },
   {
    "duration": 202,
    "start_time": "2021-09-09T05:22:51.695Z"
   },
   {
    "duration": 198,
    "start_time": "2021-09-09T05:22:51.971Z"
   },
   {
    "duration": 215,
    "start_time": "2021-09-09T05:22:52.443Z"
   },
   {
    "duration": 6,
    "start_time": "2021-09-09T05:22:52.865Z"
   },
   {
    "duration": 6,
    "start_time": "2021-09-09T05:22:53.286Z"
   },
   {
    "duration": 6,
    "start_time": "2021-09-09T05:22:53.711Z"
   },
   {
    "duration": 9,
    "start_time": "2021-09-09T05:22:54.050Z"
   },
   {
    "duration": 195,
    "start_time": "2021-09-09T05:22:54.414Z"
   },
   {
    "duration": 204,
    "start_time": "2021-09-09T05:22:54.786Z"
   },
   {
    "duration": 203,
    "start_time": "2021-09-09T05:22:55.104Z"
   },
   {
    "duration": 6,
    "start_time": "2021-09-09T05:22:55.538Z"
   },
   {
    "duration": 6,
    "start_time": "2021-09-09T05:22:55.843Z"
   },
   {
    "duration": 6,
    "start_time": "2021-09-09T05:22:56.175Z"
   },
   {
    "duration": 9,
    "start_time": "2021-09-09T05:22:56.552Z"
   },
   {
    "duration": 6,
    "start_time": "2021-09-09T05:25:18.313Z"
   },
   {
    "duration": 9,
    "start_time": "2021-09-09T05:26:02.361Z"
   },
   {
    "duration": 13,
    "start_time": "2021-09-09T05:27:55.515Z"
   },
   {
    "duration": 388,
    "start_time": "2021-09-09T05:33:36.651Z"
   },
   {
    "duration": 317,
    "start_time": "2021-09-09T05:33:55.660Z"
   },
   {
    "duration": 304,
    "start_time": "2021-09-09T05:34:55.755Z"
   },
   {
    "duration": 296,
    "start_time": "2021-09-09T05:34:56.896Z"
   },
   {
    "duration": 9,
    "start_time": "2021-09-09T05:37:18.386Z"
   },
   {
    "duration": 14,
    "start_time": "2021-09-09T05:37:18.784Z"
   },
   {
    "duration": 1309,
    "start_time": "2021-09-09T06:16:11.324Z"
   },
   {
    "duration": 234,
    "start_time": "2021-09-09T06:16:12.636Z"
   },
   {
    "duration": 142,
    "start_time": "2021-09-09T06:16:12.872Z"
   },
   {
    "duration": 201,
    "start_time": "2021-09-09T06:16:13.016Z"
   },
   {
    "duration": 180,
    "start_time": "2021-09-09T06:16:13.219Z"
   },
   {
    "duration": 114,
    "start_time": "2021-09-09T06:16:13.401Z"
   },
   {
    "duration": 81,
    "start_time": "2021-09-09T06:16:13.517Z"
   },
   {
    "duration": 121,
    "start_time": "2021-09-09T06:16:13.602Z"
   },
   {
    "duration": 73,
    "start_time": "2021-09-09T06:16:13.726Z"
   },
   {
    "duration": 59,
    "start_time": "2021-09-09T06:16:13.802Z"
   },
   {
    "duration": 35,
    "start_time": "2021-09-09T06:16:13.863Z"
   },
   {
    "duration": 9,
    "start_time": "2021-09-09T06:16:13.900Z"
   },
   {
    "duration": 9,
    "start_time": "2021-09-09T06:16:13.911Z"
   },
   {
    "duration": 59,
    "start_time": "2021-09-09T06:16:13.923Z"
   },
   {
    "duration": 7,
    "start_time": "2021-09-09T06:16:13.984Z"
   },
   {
    "duration": 13,
    "start_time": "2021-09-09T06:16:13.993Z"
   },
   {
    "duration": 17,
    "start_time": "2021-09-09T06:16:14.009Z"
   },
   {
    "duration": 78,
    "start_time": "2021-09-09T06:16:14.029Z"
   },
   {
    "duration": 4,
    "start_time": "2021-09-09T06:16:14.109Z"
   },
   {
    "duration": 9,
    "start_time": "2021-09-09T06:16:14.115Z"
   },
   {
    "duration": 11,
    "start_time": "2021-09-09T06:16:14.126Z"
   },
   {
    "duration": 315,
    "start_time": "2021-09-09T06:16:14.139Z"
   },
   {
    "duration": 52,
    "start_time": "2021-09-09T06:16:14.457Z"
   },
   {
    "duration": 8,
    "start_time": "2021-09-09T06:16:14.511Z"
   },
   {
    "duration": 11,
    "start_time": "2021-09-09T06:16:14.521Z"
   },
   {
    "duration": 10,
    "start_time": "2021-09-09T06:16:14.539Z"
   },
   {
    "duration": 364,
    "start_time": "2021-09-09T06:16:14.583Z"
   },
   {
    "duration": 314,
    "start_time": "2021-09-09T06:16:14.949Z"
   },
   {
    "duration": 319,
    "start_time": "2021-09-09T06:16:15.265Z"
   },
   {
    "duration": 7,
    "start_time": "2021-09-09T06:16:15.587Z"
   },
   {
    "duration": 16,
    "start_time": "2021-09-09T06:16:15.597Z"
   },
   {
    "duration": 7,
    "start_time": "2021-09-09T06:16:15.615Z"
   },
   {
    "duration": 12,
    "start_time": "2021-09-09T06:16:15.625Z"
   },
   {
    "duration": 320,
    "start_time": "2021-09-09T06:16:15.640Z"
   },
   {
    "duration": 307,
    "start_time": "2021-09-09T06:16:15.963Z"
   },
   {
    "duration": 321,
    "start_time": "2021-09-09T06:16:16.273Z"
   },
   {
    "duration": 7,
    "start_time": "2021-09-09T06:16:16.597Z"
   },
   {
    "duration": 13,
    "start_time": "2021-09-09T06:16:16.606Z"
   },
   {
    "duration": 12,
    "start_time": "2021-09-09T06:16:16.622Z"
   },
   {
    "duration": 46,
    "start_time": "2021-09-09T06:16:16.636Z"
   },
   {
    "duration": 20,
    "start_time": "2021-09-09T06:16:16.685Z"
   },
   {
    "duration": 99,
    "start_time": "2021-09-09T10:55:36.508Z"
   },
   {
    "duration": 4163,
    "start_time": "2021-09-09T10:56:51.759Z"
   },
   {
    "duration": 256,
    "start_time": "2021-09-09T10:56:55.926Z"
   },
   {
    "duration": 167,
    "start_time": "2021-09-09T10:56:56.185Z"
   },
   {
    "duration": 213,
    "start_time": "2021-09-09T10:56:56.355Z"
   },
   {
    "duration": 1349,
    "start_time": "2021-09-09T10:59:47.866Z"
   },
   {
    "duration": 356,
    "start_time": "2021-09-09T10:59:49.598Z"
   },
   {
    "duration": 205,
    "start_time": "2021-09-09T10:59:52.191Z"
   },
   {
    "duration": 197,
    "start_time": "2021-09-09T10:59:54.475Z"
   },
   {
    "duration": 21,
    "start_time": "2021-09-09T10:59:55.179Z"
   },
   {
    "duration": 7,
    "start_time": "2021-09-09T11:00:20.734Z"
   },
   {
    "duration": 26,
    "start_time": "2021-09-09T11:00:21.161Z"
   },
   {
    "duration": 1059,
    "start_time": "2021-09-09T11:15:51.317Z"
   },
   {
    "duration": 181,
    "start_time": "2021-09-09T11:15:52.378Z"
   },
   {
    "duration": 120,
    "start_time": "2021-09-09T11:15:52.561Z"
   },
   {
    "duration": 65,
    "start_time": "2021-09-09T11:15:53.316Z"
   },
   {
    "duration": 5,
    "start_time": "2021-09-09T11:15:54.087Z"
   },
   {
    "duration": 14,
    "start_time": "2021-09-09T11:15:54.532Z"
   },
   {
    "duration": 70,
    "start_time": "2021-09-09T11:15:55.068Z"
   },
   {
    "duration": 156,
    "start_time": "2021-09-09T11:15:56.785Z"
   },
   {
    "duration": 67,
    "start_time": "2021-09-09T11:15:57.700Z"
   },
   {
    "duration": 54,
    "start_time": "2021-09-09T11:15:59.485Z"
   },
   {
    "duration": 11,
    "start_time": "2021-09-09T11:16:00.085Z"
   },
   {
    "duration": 13,
    "start_time": "2021-09-09T11:17:46.534Z"
   },
   {
    "duration": 17,
    "start_time": "2021-09-09T11:18:23.820Z"
   },
   {
    "duration": 1324,
    "start_time": "2021-09-09T11:21:19.055Z"
   },
   {
    "duration": 179,
    "start_time": "2021-09-09T11:21:20.380Z"
   },
   {
    "duration": 107,
    "start_time": "2021-09-09T11:21:20.596Z"
   },
   {
    "duration": 68,
    "start_time": "2021-09-09T11:21:21.868Z"
   },
   {
    "duration": 5,
    "start_time": "2021-09-09T11:21:22.749Z"
   },
   {
    "duration": 14,
    "start_time": "2021-09-09T11:21:23.273Z"
   },
   {
    "duration": 67,
    "start_time": "2021-09-09T11:21:23.986Z"
   },
   {
    "duration": 142,
    "start_time": "2021-09-09T11:21:25.882Z"
   },
   {
    "duration": 66,
    "start_time": "2021-09-09T11:21:27.281Z"
   },
   {
    "duration": 53,
    "start_time": "2021-09-09T11:21:28.340Z"
   },
   {
    "duration": 10,
    "start_time": "2021-09-09T11:21:30.961Z"
   },
   {
    "duration": 14,
    "start_time": "2021-09-09T11:21:45.051Z"
   },
   {
    "duration": 11,
    "start_time": "2021-09-09T11:22:16.815Z"
   },
   {
    "duration": 1239,
    "start_time": "2021-09-09T11:24:08.514Z"
   },
   {
    "duration": 187,
    "start_time": "2021-09-09T11:24:09.755Z"
   },
   {
    "duration": 119,
    "start_time": "2021-09-09T11:24:09.972Z"
   },
   {
    "duration": 72,
    "start_time": "2021-09-09T11:24:11.855Z"
   },
   {
    "duration": 5,
    "start_time": "2021-09-09T11:24:12.682Z"
   },
   {
    "duration": 14,
    "start_time": "2021-09-09T11:24:13.076Z"
   },
   {
    "duration": 72,
    "start_time": "2021-09-09T11:24:13.720Z"
   },
   {
    "duration": 160,
    "start_time": "2021-09-09T11:24:15.751Z"
   },
   {
    "duration": 74,
    "start_time": "2021-09-09T11:24:19.983Z"
   },
   {
    "duration": 55,
    "start_time": "2021-09-09T11:24:21.429Z"
   },
   {
    "duration": 11,
    "start_time": "2021-09-09T11:24:22.227Z"
   },
   {
    "duration": 14,
    "start_time": "2021-09-09T11:24:23.140Z"
   },
   {
    "duration": 13,
    "start_time": "2021-09-09T11:24:23.904Z"
   },
   {
    "duration": 45,
    "start_time": "2021-09-09T11:25:07.950Z"
   },
   {
    "duration": 14,
    "start_time": "2021-09-09T11:28:35.800Z"
   },
   {
    "duration": 1171,
    "start_time": "2021-09-09T11:29:13.355Z"
   },
   {
    "duration": 203,
    "start_time": "2021-09-09T11:29:14.528Z"
   },
   {
    "duration": 140,
    "start_time": "2021-09-09T11:29:14.733Z"
   },
   {
    "duration": 83,
    "start_time": "2021-09-09T11:29:14.875Z"
   },
   {
    "duration": 6,
    "start_time": "2021-09-09T11:29:15.398Z"
   },
   {
    "duration": 16,
    "start_time": "2021-09-09T11:29:15.653Z"
   },
   {
    "duration": 79,
    "start_time": "2021-09-09T11:29:15.945Z"
   },
   {
    "duration": 161,
    "start_time": "2021-09-09T11:29:18.919Z"
   },
   {
    "duration": 79,
    "start_time": "2021-09-09T11:29:19.715Z"
   },
   {
    "duration": 64,
    "start_time": "2021-09-09T11:29:21.063Z"
   },
   {
    "duration": 8,
    "start_time": "2021-09-09T11:29:21.315Z"
   },
   {
    "duration": 15,
    "start_time": "2021-09-09T11:29:22.888Z"
   },
   {
    "duration": 414,
    "start_time": "2021-09-09T11:30:21.361Z"
   },
   {
    "duration": 9,
    "start_time": "2021-09-09T11:30:31.168Z"
   },
   {
    "duration": 193,
    "start_time": "2021-09-09T11:30:31.612Z"
   },
   {
    "duration": 114,
    "start_time": "2021-09-09T11:30:31.850Z"
   },
   {
    "duration": 76,
    "start_time": "2021-09-09T11:30:32.351Z"
   },
   {
    "duration": 5,
    "start_time": "2021-09-09T11:30:33.042Z"
   },
   {
    "duration": 12,
    "start_time": "2021-09-09T11:30:33.322Z"
   },
   {
    "duration": 80,
    "start_time": "2021-09-09T11:30:33.715Z"
   },
   {
    "duration": 162,
    "start_time": "2021-09-09T11:30:35.695Z"
   },
   {
    "duration": 68,
    "start_time": "2021-09-09T11:30:36.961Z"
   },
   {
    "duration": 54,
    "start_time": "2021-09-09T11:30:37.619Z"
   },
   {
    "duration": 4,
    "start_time": "2021-09-09T11:30:38.162Z"
   },
   {
    "duration": 17,
    "start_time": "2021-09-09T11:30:40.430Z"
   },
   {
    "duration": 109,
    "start_time": "2021-09-09T11:30:42.595Z"
   },
   {
    "duration": 50,
    "start_time": "2021-09-09T11:30:46.400Z"
   },
   {
    "duration": 50,
    "start_time": "2021-09-09T11:30:47.027Z"
   },
   {
    "duration": 37,
    "start_time": "2021-09-09T11:31:24.960Z"
   },
   {
    "duration": 1139,
    "start_time": "2021-09-09T11:37:47.559Z"
   },
   {
    "duration": 179,
    "start_time": "2021-09-09T11:37:48.700Z"
   },
   {
    "duration": 121,
    "start_time": "2021-09-09T11:37:48.995Z"
   },
   {
    "duration": 67,
    "start_time": "2021-09-09T11:37:49.933Z"
   },
   {
    "duration": 5,
    "start_time": "2021-09-09T11:37:50.748Z"
   },
   {
    "duration": 15,
    "start_time": "2021-09-09T11:37:51.293Z"
   },
   {
    "duration": 74,
    "start_time": "2021-09-09T11:37:52.286Z"
   },
   {
    "duration": 2149,
    "start_time": "2021-09-09T11:38:05.530Z"
   },
   {
    "duration": 182,
    "start_time": "2021-09-09T11:38:07.681Z"
   },
   {
    "duration": 116,
    "start_time": "2021-09-09T11:38:07.865Z"
   },
   {
    "duration": 67,
    "start_time": "2021-09-09T11:38:07.983Z"
   },
   {
    "duration": 5,
    "start_time": "2021-09-09T11:38:09.126Z"
   },
   {
    "duration": 19,
    "start_time": "2021-09-09T11:38:09.548Z"
   },
   {
    "duration": 73,
    "start_time": "2021-09-09T11:38:10.697Z"
   },
   {
    "duration": 290,
    "start_time": "2021-09-09T11:44:00.952Z"
   },
   {
    "duration": 1029,
    "start_time": "2021-09-09T11:44:18.032Z"
   },
   {
    "duration": 179,
    "start_time": "2021-09-09T11:44:19.063Z"
   },
   {
    "duration": 102,
    "start_time": "2021-09-09T11:44:19.371Z"
   },
   {
    "duration": 64,
    "start_time": "2021-09-09T11:44:20.594Z"
   },
   {
    "duration": 5,
    "start_time": "2021-09-09T11:44:21.568Z"
   },
   {
    "duration": 13,
    "start_time": "2021-09-09T11:44:21.939Z"
   },
   {
    "duration": 70,
    "start_time": "2021-09-09T11:44:22.767Z"
   },
   {
    "duration": 151,
    "start_time": "2021-09-09T11:44:25.428Z"
   },
   {
    "duration": 69,
    "start_time": "2021-09-09T11:44:26.531Z"
   },
   {
    "duration": 53,
    "start_time": "2021-09-09T11:44:28.232Z"
   },
   {
    "duration": 8507,
    "start_time": "2021-09-09T11:44:29.472Z"
   },
   {
    "duration": 5263,
    "start_time": "2021-09-09T11:44:32.719Z"
   },
   {
    "duration": 9,
    "start_time": "2021-09-09T11:45:21.537Z"
   },
   {
    "duration": 180,
    "start_time": "2021-09-09T11:45:22.125Z"
   },
   {
    "duration": 101,
    "start_time": "2021-09-09T11:45:22.830Z"
   },
   {
    "duration": 70,
    "start_time": "2021-09-09T11:45:23.782Z"
   },
   {
    "duration": 5,
    "start_time": "2021-09-09T11:45:24.636Z"
   },
   {
    "duration": 12,
    "start_time": "2021-09-09T11:45:24.972Z"
   },
   {
    "duration": 67,
    "start_time": "2021-09-09T11:45:25.669Z"
   },
   {
    "duration": 147,
    "start_time": "2021-09-09T11:45:27.938Z"
   },
   {
    "duration": 67,
    "start_time": "2021-09-09T11:45:28.946Z"
   },
   {
    "duration": 53,
    "start_time": "2021-09-09T11:45:30.571Z"
   },
   {
    "duration": 8,
    "start_time": "2021-09-09T11:45:32.268Z"
   },
   {
    "duration": 16,
    "start_time": "2021-09-09T11:45:34.499Z"
   },
   {
    "duration": 101,
    "start_time": "2021-09-09T11:45:52.784Z"
   },
   {
    "duration": 49,
    "start_time": "2021-09-09T11:45:53.123Z"
   },
   {
    "duration": 48,
    "start_time": "2021-09-09T11:45:53.692Z"
   },
   {
    "duration": 26,
    "start_time": "2021-09-09T11:45:56.893Z"
   },
   {
    "duration": 7,
    "start_time": "2021-09-09T11:45:57.381Z"
   },
   {
    "duration": 3,
    "start_time": "2021-09-09T11:45:58.921Z"
   },
   {
    "duration": 41,
    "start_time": "2021-09-09T11:45:59.431Z"
   },
   {
    "duration": 6,
    "start_time": "2021-09-09T11:46:01.488Z"
   },
   {
    "duration": 9,
    "start_time": "2021-09-09T11:46:08.624Z"
   },
   {
    "duration": 8,
    "start_time": "2021-09-09T11:46:09.856Z"
   },
   {
    "duration": 15,
    "start_time": "2021-09-09T11:46:42.273Z"
   },
   {
    "duration": 10,
    "start_time": "2021-09-09T11:46:53.028Z"
   },
   {
    "duration": 1038,
    "start_time": "2021-09-09T11:47:07.838Z"
   },
   {
    "duration": 188,
    "start_time": "2021-09-09T11:47:08.878Z"
   },
   {
    "duration": 123,
    "start_time": "2021-09-09T11:47:09.068Z"
   },
   {
    "duration": 72,
    "start_time": "2021-09-09T11:47:09.193Z"
   },
   {
    "duration": 5,
    "start_time": "2021-09-09T11:47:09.421Z"
   },
   {
    "duration": 13,
    "start_time": "2021-09-09T11:47:09.732Z"
   },
   {
    "duration": 73,
    "start_time": "2021-09-09T11:47:10.012Z"
   },
   {
    "duration": 156,
    "start_time": "2021-09-09T11:47:11.335Z"
   },
   {
    "duration": 78,
    "start_time": "2021-09-09T11:47:11.595Z"
   },
   {
    "duration": 59,
    "start_time": "2021-09-09T11:47:11.887Z"
   },
   {
    "duration": 8,
    "start_time": "2021-09-09T11:47:12.563Z"
   },
   {
    "duration": 13,
    "start_time": "2021-09-09T11:47:13.161Z"
   },
   {
    "duration": 106,
    "start_time": "2021-09-09T11:47:13.931Z"
   },
   {
    "duration": 52,
    "start_time": "2021-09-09T11:47:14.186Z"
   },
   {
    "duration": 52,
    "start_time": "2021-09-09T11:47:14.434Z"
   },
   {
    "duration": 26,
    "start_time": "2021-09-09T11:47:16.176Z"
   },
   {
    "duration": 7,
    "start_time": "2021-09-09T11:47:16.738Z"
   },
   {
    "duration": 3,
    "start_time": "2021-09-09T11:47:17.444Z"
   },
   {
    "duration": 42,
    "start_time": "2021-09-09T11:47:18.136Z"
   },
   {
    "duration": 5,
    "start_time": "2021-09-09T11:47:19.023Z"
   },
   {
    "duration": 9,
    "start_time": "2021-09-09T11:47:19.750Z"
   },
   {
    "duration": 8,
    "start_time": "2021-09-09T11:47:20.126Z"
   },
   {
    "duration": 618,
    "start_time": "2021-09-09T11:47:21.429Z"
   },
   {
    "duration": 15,
    "start_time": "2021-09-09T11:47:35.641Z"
   },
   {
    "duration": 1295,
    "start_time": "2021-09-09T11:47:49.396Z"
   },
   {
    "duration": 189,
    "start_time": "2021-09-09T11:47:50.693Z"
   },
   {
    "duration": 123,
    "start_time": "2021-09-09T11:47:50.884Z"
   },
   {
    "duration": 82,
    "start_time": "2021-09-09T11:47:51.009Z"
   },
   {
    "duration": 6,
    "start_time": "2021-09-09T11:47:51.349Z"
   },
   {
    "duration": 14,
    "start_time": "2021-09-09T11:47:51.437Z"
   },
   {
    "duration": 79,
    "start_time": "2021-09-09T11:47:51.522Z"
   },
   {
    "duration": 159,
    "start_time": "2021-09-09T11:47:51.854Z"
   },
   {
    "duration": 74,
    "start_time": "2021-09-09T11:47:52.827Z"
   },
   {
    "duration": 56,
    "start_time": "2021-09-09T11:47:53.097Z"
   },
   {
    "duration": 8,
    "start_time": "2021-09-09T11:47:53.340Z"
   },
   {
    "duration": 13,
    "start_time": "2021-09-09T11:47:55.639Z"
   },
   {
    "duration": 110,
    "start_time": "2021-09-09T11:47:56.605Z"
   },
   {
    "duration": 56,
    "start_time": "2021-09-09T11:47:56.859Z"
   },
   {
    "duration": 50,
    "start_time": "2021-09-09T11:47:57.056Z"
   },
   {
    "duration": 27,
    "start_time": "2021-09-09T11:47:57.775Z"
   },
   {
    "duration": 8,
    "start_time": "2021-09-09T11:47:57.856Z"
   },
   {
    "duration": 3,
    "start_time": "2021-09-09T11:47:57.941Z"
   },
   {
    "duration": 42,
    "start_time": "2021-09-09T11:47:58.024Z"
   },
   {
    "duration": 6,
    "start_time": "2021-09-09T11:47:58.845Z"
   },
   {
    "duration": 10,
    "start_time": "2021-09-09T11:47:59.234Z"
   },
   {
    "duration": 8,
    "start_time": "2021-09-09T11:47:59.954Z"
   },
   {
    "duration": 16,
    "start_time": "2021-09-09T11:48:01.104Z"
   },
   {
    "duration": 24,
    "start_time": "2021-09-09T11:48:59.388Z"
   },
   {
    "duration": 39,
    "start_time": "2021-09-09T11:49:29.640Z"
   },
   {
    "duration": 60,
    "start_time": "2021-09-09T11:49:47.959Z"
   },
   {
    "duration": 77,
    "start_time": "2021-09-09T11:51:58.635Z"
   },
   {
    "duration": 13291,
    "start_time": "2021-09-09T11:53:29.072Z"
   },
   {
    "duration": 59,
    "start_time": "2021-09-09T11:54:10.476Z"
   },
   {
    "duration": 21,
    "start_time": "2021-09-09T11:54:16.160Z"
   },
   {
    "duration": 6986,
    "start_time": "2021-09-09T11:54:19.660Z"
   },
   {
    "duration": 1864,
    "start_time": "2021-09-09T11:59:06.815Z"
   },
   {
    "duration": 230,
    "start_time": "2021-09-09T11:59:08.680Z"
   },
   {
    "duration": 133,
    "start_time": "2021-09-09T11:59:08.913Z"
   },
   {
    "duration": 84,
    "start_time": "2021-09-09T11:59:09.048Z"
   },
   {
    "duration": 5,
    "start_time": "2021-09-09T11:59:09.134Z"
   },
   {
    "duration": 16,
    "start_time": "2021-09-09T11:59:09.141Z"
   },
   {
    "duration": 73,
    "start_time": "2021-09-09T11:59:09.415Z"
   },
   {
    "duration": 148,
    "start_time": "2021-09-09T11:59:10.849Z"
   },
   {
    "duration": 86,
    "start_time": "2021-09-09T11:59:11.289Z"
   },
   {
    "duration": 58,
    "start_time": "2021-09-09T11:59:12.050Z"
   },
   {
    "duration": 9,
    "start_time": "2021-09-09T11:59:12.697Z"
   },
   {
    "duration": 13,
    "start_time": "2021-09-09T11:59:13.917Z"
   },
   {
    "duration": 108,
    "start_time": "2021-09-09T11:59:16.042Z"
   },
   {
    "duration": 53,
    "start_time": "2021-09-09T11:59:16.989Z"
   },
   {
    "duration": 52,
    "start_time": "2021-09-09T11:59:18.558Z"
   },
   {
    "duration": 27,
    "start_time": "2021-09-09T11:59:20.869Z"
   },
   {
    "duration": 7,
    "start_time": "2021-09-09T11:59:21.411Z"
   },
   {
    "duration": 3,
    "start_time": "2021-09-09T11:59:22.314Z"
   },
   {
    "duration": 41,
    "start_time": "2021-09-09T11:59:22.882Z"
   },
   {
    "duration": 6,
    "start_time": "2021-09-09T11:59:23.820Z"
   },
   {
    "duration": 10,
    "start_time": "2021-09-09T11:59:25.053Z"
   },
   {
    "duration": 8,
    "start_time": "2021-09-09T11:59:25.560Z"
   },
   {
    "duration": 67,
    "start_time": "2021-09-09T11:59:26.462Z"
   },
   {
    "duration": 23,
    "start_time": "2021-09-09T11:59:27.045Z"
   },
   {
    "duration": 18,
    "start_time": "2021-09-09T11:59:45.611Z"
   },
   {
    "duration": 10,
    "start_time": "2021-09-09T12:04:08.753Z"
   },
   {
    "duration": 18,
    "start_time": "2021-09-09T12:04:10.728Z"
   },
   {
    "duration": 17,
    "start_time": "2021-09-09T12:05:38.218Z"
   },
   {
    "duration": 3,
    "start_time": "2021-09-09T12:05:41.340Z"
   },
   {
    "duration": 3,
    "start_time": "2021-09-09T12:07:23.971Z"
   },
   {
    "duration": 4,
    "start_time": "2021-09-09T12:08:21.048Z"
   },
   {
    "duration": 4,
    "start_time": "2021-09-09T12:10:31.816Z"
   },
   {
    "duration": 88,
    "start_time": "2021-09-09T12:12:44.274Z"
   },
   {
    "duration": 45,
    "start_time": "2021-09-09T12:15:39.325Z"
   },
   {
    "duration": 7,
    "start_time": "2021-09-09T12:15:41.371Z"
   },
   {
    "duration": 22,
    "start_time": "2021-09-09T12:15:42.244Z"
   },
   {
    "duration": 86,
    "start_time": "2021-09-09T12:16:20.419Z"
   },
   {
    "duration": 211,
    "start_time": "2021-09-09T12:17:41.929Z"
   },
   {
    "duration": 235,
    "start_time": "2021-09-09T12:18:27.955Z"
   },
   {
    "duration": 16,
    "start_time": "2021-09-09T12:20:41.057Z"
   },
   {
    "duration": 1252,
    "start_time": "2021-09-09T12:22:11.148Z"
   },
   {
    "duration": 190,
    "start_time": "2021-09-09T12:22:12.402Z"
   },
   {
    "duration": 123,
    "start_time": "2021-09-09T12:22:12.593Z"
   },
   {
    "duration": 69,
    "start_time": "2021-09-09T12:22:12.914Z"
   },
   {
    "duration": 5,
    "start_time": "2021-09-09T12:22:13.653Z"
   },
   {
    "duration": 16,
    "start_time": "2021-09-09T12:22:14.018Z"
   },
   {
    "duration": 74,
    "start_time": "2021-09-09T12:22:14.449Z"
   },
   {
    "duration": 151,
    "start_time": "2021-09-09T12:22:16.401Z"
   },
   {
    "duration": 70,
    "start_time": "2021-09-09T12:22:16.894Z"
   },
   {
    "duration": 54,
    "start_time": "2021-09-09T12:22:17.486Z"
   },
   {
    "duration": 8,
    "start_time": "2021-09-09T12:22:17.931Z"
   },
   {
    "duration": 11,
    "start_time": "2021-09-09T12:22:18.964Z"
   },
   {
    "duration": 104,
    "start_time": "2021-09-09T12:22:20.358Z"
   },
   {
    "duration": 54,
    "start_time": "2021-09-09T12:22:20.870Z"
   },
   {
    "duration": 52,
    "start_time": "2021-09-09T12:22:21.557Z"
   },
   {
    "duration": 26,
    "start_time": "2021-09-09T12:22:22.859Z"
   },
   {
    "duration": 8,
    "start_time": "2021-09-09T12:22:23.418Z"
   },
   {
    "duration": 3,
    "start_time": "2021-09-09T12:22:24.273Z"
   },
   {
    "duration": 41,
    "start_time": "2021-09-09T12:22:24.918Z"
   },
   {
    "duration": 7,
    "start_time": "2021-09-09T12:22:25.842Z"
   },
   {
    "duration": 8,
    "start_time": "2021-09-09T12:22:27.156Z"
   },
   {
    "duration": 8,
    "start_time": "2021-09-09T12:22:27.657Z"
   },
   {
    "duration": 45,
    "start_time": "2021-09-09T12:22:28.699Z"
   },
   {
    "duration": 5,
    "start_time": "2021-09-09T12:22:31.462Z"
   },
   {
    "duration": 3,
    "start_time": "2021-09-09T12:22:32.772Z"
   },
   {
    "duration": 3,
    "start_time": "2021-09-09T12:22:33.858Z"
   },
   {
    "duration": 3,
    "start_time": "2021-09-09T12:22:34.821Z"
   },
   {
    "duration": 228,
    "start_time": "2021-09-09T12:22:35.352Z"
   },
   {
    "duration": 17,
    "start_time": "2021-09-09T12:22:37.711Z"
   },
   {
    "duration": 8,
    "start_time": "2021-09-09T12:23:21.924Z"
   },
   {
    "duration": 1004,
    "start_time": "2021-09-09T12:25:52.271Z"
   },
   {
    "duration": 183,
    "start_time": "2021-09-09T12:25:53.277Z"
   },
   {
    "duration": 112,
    "start_time": "2021-09-09T12:25:53.462Z"
   },
   {
    "duration": 69,
    "start_time": "2021-09-09T12:25:53.576Z"
   },
   {
    "duration": 4,
    "start_time": "2021-09-09T12:25:53.647Z"
   },
   {
    "duration": 13,
    "start_time": "2021-09-09T12:25:53.653Z"
   },
   {
    "duration": 96,
    "start_time": "2021-09-09T12:25:53.667Z"
   },
   {
    "duration": 150,
    "start_time": "2021-09-09T12:25:53.775Z"
   },
   {
    "duration": 81,
    "start_time": "2021-09-09T12:25:53.926Z"
   },
   {
    "duration": 54,
    "start_time": "2021-09-09T12:25:54.009Z"
   },
   {
    "duration": 7,
    "start_time": "2021-09-09T12:25:54.065Z"
   },
   {
    "duration": 13,
    "start_time": "2021-09-09T12:25:54.197Z"
   },
   {
    "duration": 106,
    "start_time": "2021-09-09T12:25:54.446Z"
   },
   {
    "duration": 56,
    "start_time": "2021-09-09T12:25:54.554Z"
   },
   {
    "duration": 46,
    "start_time": "2021-09-09T12:25:54.612Z"
   },
   {
    "duration": 26,
    "start_time": "2021-09-09T12:25:54.792Z"
   },
   {
    "duration": 7,
    "start_time": "2021-09-09T12:25:54.859Z"
   },
   {
    "duration": 3,
    "start_time": "2021-09-09T12:25:54.944Z"
   },
   {
    "duration": 41,
    "start_time": "2021-09-09T12:25:55.029Z"
   },
   {
    "duration": 5,
    "start_time": "2021-09-09T12:25:55.109Z"
   },
   {
    "duration": 8,
    "start_time": "2021-09-09T12:25:55.196Z"
   },
   {
    "duration": 7,
    "start_time": "2021-09-09T12:25:55.277Z"
   },
   {
    "duration": 43,
    "start_time": "2021-09-09T12:25:55.447Z"
   },
   {
    "duration": 4,
    "start_time": "2021-09-09T12:25:55.610Z"
   },
   {
    "duration": 3,
    "start_time": "2021-09-09T12:25:55.780Z"
   },
   {
    "duration": 4,
    "start_time": "2021-09-09T12:25:56.520Z"
   },
   {
    "duration": 3,
    "start_time": "2021-09-09T12:25:57.182Z"
   },
   {
    "duration": 216,
    "start_time": "2021-09-09T12:25:57.435Z"
   },
   {
    "duration": 16,
    "start_time": "2021-09-09T12:25:57.982Z"
   },
   {
    "duration": 8,
    "start_time": "2021-09-09T12:25:58.645Z"
   },
   {
    "duration": 341,
    "start_time": "2021-09-09T12:25:59.039Z"
   },
   {
    "duration": 5183,
    "start_time": "2021-09-09T12:25:54.198Z"
   },
   {
    "duration": 260,
    "start_time": "2021-09-09T12:25:59.697Z"
   },
   {
    "duration": 1453,
    "start_time": "2021-09-09T12:25:59.980Z"
   },
   {
    "duration": 5368,
    "start_time": "2021-09-09T12:25:56.067Z"
   },
   {
    "duration": 5365,
    "start_time": "2021-09-09T12:25:56.070Z"
   },
   {
    "duration": 294,
    "start_time": "2021-09-09T12:26:01.535Z"
   },
   {
    "duration": 298,
    "start_time": "2021-09-09T12:26:02.170Z"
   },
   {
    "duration": 260,
    "start_time": "2021-09-09T12:26:02.478Z"
   },
   {
    "duration": 286,
    "start_time": "2021-09-09T12:26:02.810Z"
   },
   {
    "duration": 313,
    "start_time": "2021-09-09T12:26:03.215Z"
   },
   {
    "duration": 6,
    "start_time": "2021-09-09T12:28:35.985Z"
   },
   {
    "duration": 7,
    "start_time": "2021-09-09T12:28:36.620Z"
   },
   {
    "duration": 80,
    "start_time": "2021-09-09T12:32:52.449Z"
   },
   {
    "duration": 476,
    "start_time": "2021-09-09T12:32:59.281Z"
   },
   {
    "duration": 221,
    "start_time": "2021-09-09T12:33:12.804Z"
   },
   {
    "duration": 20,
    "start_time": "2021-09-09T12:33:15.129Z"
   },
   {
    "duration": 9,
    "start_time": "2021-09-09T12:33:25.089Z"
   },
   {
    "duration": 6,
    "start_time": "2021-09-09T12:33:25.647Z"
   },
   {
    "duration": 7,
    "start_time": "2021-09-09T12:33:26.504Z"
   },
   {
    "duration": 8,
    "start_time": "2021-09-09T12:33:27.434Z"
   },
   {
    "duration": 184,
    "start_time": "2021-09-09T12:33:28.424Z"
   },
   {
    "duration": 182,
    "start_time": "2021-09-09T12:33:31.455Z"
   },
   {
    "duration": 183,
    "start_time": "2021-09-09T12:33:31.815Z"
   },
   {
    "duration": 5,
    "start_time": "2021-09-09T12:33:33.025Z"
   },
   {
    "duration": 5,
    "start_time": "2021-09-09T12:33:33.950Z"
   },
   {
    "duration": 5,
    "start_time": "2021-09-09T12:33:34.647Z"
   },
   {
    "duration": 8,
    "start_time": "2021-09-09T12:33:35.137Z"
   },
   {
    "duration": 182,
    "start_time": "2021-09-09T12:33:35.508Z"
   },
   {
    "duration": 201,
    "start_time": "2021-09-09T12:33:35.795Z"
   },
   {
    "duration": 195,
    "start_time": "2021-09-09T12:33:36.032Z"
   },
   {
    "duration": 5,
    "start_time": "2021-09-09T12:33:36.230Z"
   },
   {
    "duration": 5,
    "start_time": "2021-09-09T12:33:36.440Z"
   },
   {
    "duration": 5,
    "start_time": "2021-09-09T12:33:36.632Z"
   },
   {
    "duration": 9,
    "start_time": "2021-09-09T12:33:37.081Z"
   },
   {
    "duration": 87,
    "start_time": "2021-09-09T12:33:37.560Z"
   },
   {
    "duration": 129,
    "start_time": "2021-09-09T12:34:28.600Z"
   },
   {
    "duration": 190,
    "start_time": "2021-09-09T12:37:43.110Z"
   },
   {
    "duration": 6,
    "start_time": "2021-09-09T12:40:17.174Z"
   },
   {
    "duration": 5,
    "start_time": "2021-09-09T12:41:27.023Z"
   },
   {
    "duration": 6,
    "start_time": "2021-09-09T12:41:58.721Z"
   },
   {
    "duration": 564,
    "start_time": "2021-09-09T12:43:57.397Z"
   },
   {
    "duration": 8,
    "start_time": "2021-09-09T12:44:02.164Z"
   },
   {
    "duration": 12,
    "start_time": "2021-09-09T12:44:50.947Z"
   },
   {
    "duration": 13,
    "start_time": "2021-09-09T12:45:01.358Z"
   },
   {
    "duration": 18,
    "start_time": "2021-09-09T12:45:09.937Z"
   },
   {
    "duration": 95,
    "start_time": "2021-09-09T12:45:18.662Z"
   },
   {
    "duration": 24,
    "start_time": "2021-09-09T12:45:21.892Z"
   },
   {
    "duration": 20,
    "start_time": "2021-09-09T12:47:22.320Z"
   },
   {
    "duration": 7,
    "start_time": "2021-09-09T12:47:27.164Z"
   },
   {
    "duration": 8,
    "start_time": "2021-09-09T12:47:29.150Z"
   },
   {
    "duration": 3,
    "start_time": "2021-09-09T12:47:47.333Z"
   },
   {
    "duration": 22,
    "start_time": "2021-09-09T12:48:53.758Z"
   },
   {
    "duration": 7,
    "start_time": "2021-09-09T12:48:54.251Z"
   },
   {
    "duration": 8,
    "start_time": "2021-09-09T12:48:54.929Z"
   },
   {
    "duration": 3,
    "start_time": "2021-09-09T12:48:55.455Z"
   },
   {
    "duration": 199,
    "start_time": "2021-09-09T12:48:56.182Z"
   },
   {
    "duration": 176,
    "start_time": "2021-09-09T12:48:57.168Z"
   },
   {
    "duration": 190,
    "start_time": "2021-09-09T12:48:57.585Z"
   },
   {
    "duration": 5,
    "start_time": "2021-09-09T12:48:58.239Z"
   },
   {
    "duration": 5,
    "start_time": "2021-09-09T12:48:59.161Z"
   },
   {
    "duration": 5,
    "start_time": "2021-09-09T12:48:59.778Z"
   },
   {
    "duration": 8,
    "start_time": "2021-09-09T12:49:00.333Z"
   },
   {
    "duration": 3,
    "start_time": "2021-09-09T12:49:01.778Z"
   },
   {
    "duration": 8,
    "start_time": "2021-09-09T12:49:31.318Z"
   },
   {
    "duration": 4,
    "start_time": "2021-09-09T12:49:32.162Z"
   },
   {
    "duration": 331,
    "start_time": "2021-09-09T12:51:03.684Z"
   },
   {
    "duration": 10,
    "start_time": "2021-09-09T12:51:55.232Z"
   },
   {
    "duration": 9,
    "start_time": "2021-09-09T12:52:09.686Z"
   },
   {
    "duration": 9,
    "start_time": "2021-09-09T12:52:30.420Z"
   },
   {
    "duration": 427,
    "start_time": "2021-09-09T12:53:28.232Z"
   },
   {
    "duration": 193,
    "start_time": "2021-09-09T12:53:35.700Z"
   },
   {
    "duration": 171,
    "start_time": "2021-09-09T12:54:12.521Z"
   },
   {
    "duration": 1043,
    "start_time": "2021-09-09T12:54:43.038Z"
   },
   {
    "duration": 186,
    "start_time": "2021-09-09T12:54:44.083Z"
   },
   {
    "duration": 120,
    "start_time": "2021-09-09T12:54:44.271Z"
   },
   {
    "duration": 65,
    "start_time": "2021-09-09T12:54:44.393Z"
   },
   {
    "duration": 6,
    "start_time": "2021-09-09T12:54:44.519Z"
   },
   {
    "duration": 13,
    "start_time": "2021-09-09T12:54:44.594Z"
   },
   {
    "duration": 72,
    "start_time": "2021-09-09T12:54:44.678Z"
   },
   {
    "duration": 148,
    "start_time": "2021-09-09T12:54:45.097Z"
   },
   {
    "duration": 81,
    "start_time": "2021-09-09T12:54:45.247Z"
   },
   {
    "duration": 63,
    "start_time": "2021-09-09T12:54:45.330Z"
   },
   {
    "duration": 7,
    "start_time": "2021-09-09T12:54:45.395Z"
   },
   {
    "duration": 12,
    "start_time": "2021-09-09T12:54:45.513Z"
   },
   {
    "duration": 106,
    "start_time": "2021-09-09T12:54:45.764Z"
   },
   {
    "duration": 48,
    "start_time": "2021-09-09T12:54:45.872Z"
   },
   {
    "duration": 67,
    "start_time": "2021-09-09T12:54:45.929Z"
   },
   {
    "duration": 27,
    "start_time": "2021-09-09T12:54:46.099Z"
   },
   {
    "duration": 8,
    "start_time": "2021-09-09T12:54:46.177Z"
   },
   {
    "duration": 3,
    "start_time": "2021-09-09T12:54:46.266Z"
   },
   {
    "duration": 44,
    "start_time": "2021-09-09T12:54:46.344Z"
   },
   {
    "duration": 6,
    "start_time": "2021-09-09T12:54:46.427Z"
   },
   {
    "duration": 9,
    "start_time": "2021-09-09T12:54:46.535Z"
   },
   {
    "duration": 8,
    "start_time": "2021-09-09T12:54:46.596Z"
   },
   {
    "duration": 45,
    "start_time": "2021-09-09T12:54:46.765Z"
   },
   {
    "duration": 6,
    "start_time": "2021-09-09T12:54:46.930Z"
   },
   {
    "duration": 3,
    "start_time": "2021-09-09T12:54:47.227Z"
   },
   {
    "duration": 4,
    "start_time": "2021-09-09T12:54:47.637Z"
   },
   {
    "duration": 3,
    "start_time": "2021-09-09T12:54:47.851Z"
   },
   {
    "duration": 225,
    "start_time": "2021-09-09T12:54:47.935Z"
   },
   {
    "duration": 19,
    "start_time": "2021-09-09T12:54:48.162Z"
   },
   {
    "duration": 9,
    "start_time": "2021-09-09T12:54:48.385Z"
   },
   {
    "duration": 7,
    "start_time": "2021-09-09T12:54:48.437Z"
   },
   {
    "duration": 7,
    "start_time": "2021-09-09T12:54:48.520Z"
   },
   {
    "duration": 8,
    "start_time": "2021-09-09T12:54:48.608Z"
   },
   {
    "duration": 182,
    "start_time": "2021-09-09T12:54:48.691Z"
   },
   {
    "duration": 190,
    "start_time": "2021-09-09T12:54:48.875Z"
   },
   {
    "duration": 193,
    "start_time": "2021-09-09T12:54:49.067Z"
   },
   {
    "duration": 5,
    "start_time": "2021-09-09T12:54:49.261Z"
   },
   {
    "duration": 5,
    "start_time": "2021-09-09T12:54:49.274Z"
   },
   {
    "duration": 5,
    "start_time": "2021-09-09T12:54:49.787Z"
   },
   {
    "duration": 9,
    "start_time": "2021-09-09T12:54:50.063Z"
   },
   {
    "duration": 191,
    "start_time": "2021-09-09T12:54:50.376Z"
   },
   {
    "duration": 198,
    "start_time": "2021-09-09T12:54:50.787Z"
   },
   {
    "duration": 5,
    "start_time": "2021-09-09T12:54:51.155Z"
   },
   {
    "duration": 5,
    "start_time": "2021-09-09T12:54:51.427Z"
   },
   {
    "duration": 5,
    "start_time": "2021-09-09T12:54:51.676Z"
   },
   {
    "duration": 9,
    "start_time": "2021-09-09T12:54:52.196Z"
   },
   {
    "duration": 14,
    "start_time": "2021-09-09T12:54:53.172Z"
   },
   {
    "duration": 200,
    "start_time": "2021-09-09T12:56:48.130Z"
   },
   {
    "duration": 651,
    "start_time": "2021-09-09T12:57:54.306Z"
   },
   {
    "duration": 218,
    "start_time": "2021-09-09T12:58:01.294Z"
   },
   {
    "duration": 200,
    "start_time": "2021-09-09T13:02:15.891Z"
   },
   {
    "duration": 606,
    "start_time": "2021-09-09T13:02:30.263Z"
   },
   {
    "duration": 433,
    "start_time": "2021-09-09T13:02:34.710Z"
   },
   {
    "duration": 194,
    "start_time": "2021-09-09T13:02:39.450Z"
   },
   {
    "duration": 453,
    "start_time": "2021-09-09T13:07:22.769Z"
   },
   {
    "duration": 442,
    "start_time": "2021-09-09T13:07:51.284Z"
   },
   {
    "duration": 5373,
    "start_time": "2021-09-09T13:09:39.435Z"
   },
   {
    "duration": 193,
    "start_time": "2021-09-09T13:09:48.477Z"
   },
   {
    "duration": 521,
    "start_time": "2021-09-09T13:10:47.619Z"
   },
   {
    "duration": 437,
    "start_time": "2021-09-09T13:11:00.344Z"
   },
   {
    "duration": 614,
    "start_time": "2021-09-09T13:11:28.930Z"
   },
   {
    "duration": 195,
    "start_time": "2021-09-09T13:13:09.281Z"
   },
   {
    "duration": 204,
    "start_time": "2021-09-09T13:14:25.998Z"
   },
   {
    "duration": 192,
    "start_time": "2021-09-09T13:14:40.445Z"
   },
   {
    "duration": 314,
    "start_time": "2021-09-09T13:15:30.984Z"
   },
   {
    "duration": 209,
    "start_time": "2021-09-09T13:16:15.480Z"
   },
   {
    "duration": 198,
    "start_time": "2021-09-09T13:19:35.649Z"
   },
   {
    "duration": 203,
    "start_time": "2021-09-09T13:20:08.253Z"
   },
   {
    "duration": 212,
    "start_time": "2021-09-09T13:20:35.221Z"
   },
   {
    "duration": 6,
    "start_time": "2021-09-09T13:23:25.282Z"
   },
   {
    "duration": 5,
    "start_time": "2021-09-09T13:23:42.646Z"
   },
   {
    "duration": 284,
    "start_time": "2021-09-09T13:24:32.793Z"
   },
   {
    "duration": 5,
    "start_time": "2021-09-09T13:24:38.542Z"
   },
   {
    "duration": 5,
    "start_time": "2021-09-09T13:25:12.280Z"
   },
   {
    "duration": 5,
    "start_time": "2021-09-09T14:05:03.900Z"
   },
   {
    "duration": 174,
    "start_time": "2021-09-09T14:05:04.791Z"
   },
   {
    "duration": 106,
    "start_time": "2021-09-09T14:05:05.305Z"
   },
   {
    "duration": 73,
    "start_time": "2021-09-09T14:05:05.460Z"
   },
   {
    "duration": 5,
    "start_time": "2021-09-09T14:05:05.647Z"
   },
   {
    "duration": 11,
    "start_time": "2021-09-09T14:05:05.713Z"
   },
   {
    "duration": 66,
    "start_time": "2021-09-09T14:05:05.838Z"
   },
   {
    "duration": 148,
    "start_time": "2021-09-09T14:05:06.225Z"
   },
   {
    "duration": 69,
    "start_time": "2021-09-09T14:05:06.375Z"
   },
   {
    "duration": 64,
    "start_time": "2021-09-09T14:05:06.446Z"
   },
   {
    "duration": 3,
    "start_time": "2021-09-09T14:05:06.511Z"
   },
   {
    "duration": 12,
    "start_time": "2021-09-09T14:05:06.666Z"
   },
   {
    "duration": 108,
    "start_time": "2021-09-09T14:05:06.875Z"
   },
   {
    "duration": 51,
    "start_time": "2021-09-09T14:05:06.991Z"
   },
   {
    "duration": 52,
    "start_time": "2021-09-09T14:05:07.086Z"
   },
   {
    "duration": 27,
    "start_time": "2021-09-09T14:05:07.212Z"
   },
   {
    "duration": 7,
    "start_time": "2021-09-09T14:05:07.313Z"
   },
   {
    "duration": 3,
    "start_time": "2021-09-09T14:05:07.409Z"
   },
   {
    "duration": 41,
    "start_time": "2021-09-09T14:05:07.497Z"
   },
   {
    "duration": 5,
    "start_time": "2021-09-09T14:05:07.555Z"
   },
   {
    "duration": 8,
    "start_time": "2021-09-09T14:05:07.627Z"
   },
   {
    "duration": 7,
    "start_time": "2021-09-09T14:05:07.740Z"
   },
   {
    "duration": 48,
    "start_time": "2021-09-09T14:05:08.205Z"
   },
   {
    "duration": 6,
    "start_time": "2021-09-09T14:05:08.785Z"
   },
   {
    "duration": 3,
    "start_time": "2021-09-09T14:05:09.234Z"
   },
   {
    "duration": 3,
    "start_time": "2021-09-09T14:05:10.071Z"
   },
   {
    "duration": 3,
    "start_time": "2021-09-09T14:05:10.947Z"
   },
   {
    "duration": 233,
    "start_time": "2021-09-09T14:05:11.034Z"
   },
   {
    "duration": 32,
    "start_time": "2021-09-09T14:05:11.269Z"
   },
   {
    "duration": 8,
    "start_time": "2021-09-09T14:05:12.093Z"
   },
   {
    "duration": 7,
    "start_time": "2021-09-09T14:05:12.149Z"
   },
   {
    "duration": 8,
    "start_time": "2021-09-09T14:05:12.259Z"
   },
   {
    "duration": 9,
    "start_time": "2021-09-09T14:05:12.859Z"
   },
   {
    "duration": 205,
    "start_time": "2021-09-09T14:05:13.392Z"
   },
   {
    "duration": 189,
    "start_time": "2021-09-09T14:05:13.751Z"
   },
   {
    "duration": 200,
    "start_time": "2021-09-09T14:05:14.255Z"
   },
   {
    "duration": 5,
    "start_time": "2021-09-09T14:05:14.457Z"
   },
   {
    "duration": 5,
    "start_time": "2021-09-09T14:05:15.469Z"
   },
   {
    "duration": 5,
    "start_time": "2021-09-09T14:05:15.779Z"
   },
   {
    "duration": 7,
    "start_time": "2021-09-09T14:05:16.363Z"
   },
   {
    "duration": 193,
    "start_time": "2021-09-09T14:05:16.845Z"
   },
   {
    "duration": 227,
    "start_time": "2021-09-09T14:05:17.040Z"
   },
   {
    "duration": 225,
    "start_time": "2021-09-09T14:05:17.269Z"
   },
   {
    "duration": 4,
    "start_time": "2021-09-09T14:05:17.496Z"
   },
   {
    "duration": 23,
    "start_time": "2021-09-09T14:05:17.502Z"
   },
   {
    "duration": 5,
    "start_time": "2021-09-09T14:05:17.898Z"
   },
   {
    "duration": 9,
    "start_time": "2021-09-09T14:05:19.281Z"
   },
   {
    "duration": 14,
    "start_time": "2021-09-09T14:05:20.031Z"
   },
   {
    "duration": 1387,
    "start_time": "2021-09-09T15:28:51.657Z"
   },
   {
    "duration": 246,
    "start_time": "2021-09-09T15:28:53.048Z"
   },
   {
    "duration": 166,
    "start_time": "2021-09-09T15:28:53.297Z"
   },
   {
    "duration": 124,
    "start_time": "2021-09-09T15:28:53.466Z"
   },
   {
    "duration": 8,
    "start_time": "2021-09-09T15:28:53.592Z"
   },
   {
    "duration": 17,
    "start_time": "2021-09-09T15:28:53.602Z"
   },
   {
    "duration": 134,
    "start_time": "2021-09-09T15:28:53.622Z"
   },
   {
    "duration": 209,
    "start_time": "2021-09-09T15:28:53.758Z"
   },
   {
    "duration": 136,
    "start_time": "2021-09-09T15:28:53.973Z"
   },
   {
    "duration": 108,
    "start_time": "2021-09-09T15:28:54.114Z"
   },
   {
    "duration": 14,
    "start_time": "2021-09-09T15:28:54.225Z"
   },
   {
    "duration": 33,
    "start_time": "2021-09-09T15:28:54.241Z"
   },
   {
    "duration": 152,
    "start_time": "2021-09-09T15:28:54.277Z"
   },
   {
    "duration": 106,
    "start_time": "2021-09-09T15:28:54.432Z"
   },
   {
    "duration": 84,
    "start_time": "2021-09-09T15:28:54.541Z"
   },
   {
    "duration": 30,
    "start_time": "2021-09-09T15:28:54.628Z"
   },
   {
    "duration": 11,
    "start_time": "2021-09-09T15:28:54.667Z"
   },
   {
    "duration": 7,
    "start_time": "2021-09-09T15:28:54.680Z"
   },
   {
    "duration": 58,
    "start_time": "2021-09-09T15:28:54.689Z"
   },
   {
    "duration": 7,
    "start_time": "2021-09-09T15:28:54.750Z"
   },
   {
    "duration": 12,
    "start_time": "2021-09-09T15:28:54.767Z"
   },
   {
    "duration": 10,
    "start_time": "2021-09-09T15:28:54.782Z"
   },
   {
    "duration": 108,
    "start_time": "2021-09-09T15:28:54.794Z"
   },
   {
    "duration": 6,
    "start_time": "2021-09-09T15:28:54.904Z"
   },
   {
    "duration": 15,
    "start_time": "2021-09-09T15:28:54.912Z"
   },
   {
    "duration": 15,
    "start_time": "2021-09-09T15:28:54.930Z"
   },
   {
    "duration": 17,
    "start_time": "2021-09-09T15:28:54.950Z"
   },
   {
    "duration": 434,
    "start_time": "2021-09-09T15:28:54.970Z"
   },
   {
    "duration": 29,
    "start_time": "2021-09-09T15:28:55.406Z"
   },
   {
    "duration": 30,
    "start_time": "2021-09-09T15:28:55.437Z"
   },
   {
    "duration": 11,
    "start_time": "2021-09-09T15:28:55.469Z"
   },
   {
    "duration": 11,
    "start_time": "2021-09-09T15:28:55.482Z"
   },
   {
    "duration": 13,
    "start_time": "2021-09-09T15:28:55.495Z"
   },
   {
    "duration": 399,
    "start_time": "2021-09-09T15:28:55.510Z"
   },
   {
    "duration": 365,
    "start_time": "2021-09-09T15:28:55.911Z"
   },
   {
    "duration": 361,
    "start_time": "2021-09-09T15:28:56.278Z"
   },
   {
    "duration": 7,
    "start_time": "2021-09-09T15:28:56.641Z"
   },
   {
    "duration": 21,
    "start_time": "2021-09-09T15:28:56.650Z"
   },
   {
    "duration": 9,
    "start_time": "2021-09-09T15:28:56.673Z"
   },
   {
    "duration": 11,
    "start_time": "2021-09-09T15:28:56.684Z"
   },
   {
    "duration": 479,
    "start_time": "2021-09-09T15:28:56.697Z"
   },
   {
    "duration": 376,
    "start_time": "2021-09-09T15:28:57.179Z"
   },
   {
    "duration": 376,
    "start_time": "2021-09-09T15:28:57.558Z"
   },
   {
    "duration": 6,
    "start_time": "2021-09-09T15:28:57.937Z"
   },
   {
    "duration": 26,
    "start_time": "2021-09-09T15:28:57.945Z"
   },
   {
    "duration": 13,
    "start_time": "2021-09-09T15:28:57.973Z"
   },
   {
    "duration": 12,
    "start_time": "2021-09-09T15:28:57.988Z"
   },
   {
    "duration": 20,
    "start_time": "2021-09-09T15:28:58.002Z"
   },
   {
    "duration": 5,
    "start_time": "2021-09-09T16:15:55.928Z"
   },
   {
    "duration": 21,
    "start_time": "2021-09-09T16:16:10.872Z"
   },
   {
    "duration": 217,
    "start_time": "2021-09-09T16:17:17.901Z"
   },
   {
    "duration": 81,
    "start_time": "2021-09-09T16:17:24.313Z"
   },
   {
    "duration": 7,
    "start_time": "2021-09-09T16:17:25.807Z"
   },
   {
    "duration": 22,
    "start_time": "2021-09-09T16:17:35.246Z"
   },
   {
    "duration": 213,
    "start_time": "2021-09-09T16:18:13.824Z"
   },
   {
    "duration": 81,
    "start_time": "2021-09-09T16:18:16.495Z"
   },
   {
    "duration": 6,
    "start_time": "2021-09-09T16:18:17.354Z"
   },
   {
    "duration": 24,
    "start_time": "2021-09-09T16:18:22.637Z"
   },
   {
    "duration": 207,
    "start_time": "2021-09-09T16:18:49.025Z"
   },
   {
    "duration": 78,
    "start_time": "2021-09-09T16:18:51.656Z"
   },
   {
    "duration": 6,
    "start_time": "2021-09-09T16:18:52.020Z"
   },
   {
    "duration": 21,
    "start_time": "2021-09-09T16:18:53.980Z"
   },
   {
    "duration": 1559,
    "start_time": "2022-05-11T10:03:58.995Z"
   },
   {
    "duration": 205,
    "start_time": "2022-05-11T10:04:00.558Z"
   },
   {
    "duration": 143,
    "start_time": "2022-05-11T10:04:01.405Z"
   },
   {
    "duration": 20,
    "start_time": "2022-05-11T10:07:12.148Z"
   },
   {
    "duration": 1204,
    "start_time": "2022-05-11T10:40:40.008Z"
   },
   {
    "duration": 215,
    "start_time": "2022-05-11T10:41:11.985Z"
   },
   {
    "duration": 149,
    "start_time": "2022-05-11T10:41:12.202Z"
   },
   {
    "duration": 20,
    "start_time": "2022-05-11T10:41:12.353Z"
   },
   {
    "duration": 5,
    "start_time": "2022-05-11T10:41:12.375Z"
   },
   {
    "duration": 10,
    "start_time": "2022-05-11T10:41:12.382Z"
   },
   {
    "duration": 85,
    "start_time": "2022-05-11T10:41:12.394Z"
   },
   {
    "duration": 188,
    "start_time": "2022-05-11T10:49:32.360Z"
   },
   {
    "duration": 99,
    "start_time": "2022-05-11T10:49:33.441Z"
   },
   {
    "duration": 10,
    "start_time": "2022-05-11T10:49:34.317Z"
   },
   {
    "duration": 42,
    "start_time": "2022-05-11T10:49:34.810Z"
   },
   {
    "duration": 18,
    "start_time": "2022-05-11T10:49:35.463Z"
   },
   {
    "duration": 4,
    "start_time": "2022-05-11T10:49:35.716Z"
   },
   {
    "duration": 4,
    "start_time": "2022-05-11T10:49:36.078Z"
   },
   {
    "duration": 12,
    "start_time": "2022-05-11T10:49:55.031Z"
   },
   {
    "duration": 2002,
    "start_time": "2022-05-11T10:51:33.884Z"
   },
   {
    "duration": 4,
    "start_time": "2022-05-11T10:52:30.564Z"
   },
   {
    "duration": 11,
    "start_time": "2022-05-11T10:52:30.926Z"
   },
   {
    "duration": 1185,
    "start_time": "2022-05-11T10:54:10.237Z"
   },
   {
    "duration": 206,
    "start_time": "2022-05-11T10:54:12.107Z"
   },
   {
    "duration": 153,
    "start_time": "2022-05-11T10:54:12.315Z"
   },
   {
    "duration": 30,
    "start_time": "2022-05-11T10:54:12.470Z"
   },
   {
    "duration": 6,
    "start_time": "2022-05-11T10:54:12.502Z"
   },
   {
    "duration": 6,
    "start_time": "2022-05-11T10:54:12.741Z"
   },
   {
    "duration": 52,
    "start_time": "2022-05-11T10:54:21.857Z"
   },
   {
    "duration": 25,
    "start_time": "2022-05-11T10:54:21.911Z"
   },
   {
    "duration": 215,
    "start_time": "2022-05-11T10:54:21.939Z"
   },
   {
    "duration": 111,
    "start_time": "2022-05-11T10:54:22.157Z"
   },
   {
    "duration": 10,
    "start_time": "2022-05-11T10:54:22.270Z"
   },
   {
    "duration": 51,
    "start_time": "2022-05-11T10:54:22.282Z"
   },
   {
    "duration": 29,
    "start_time": "2022-05-11T10:54:22.334Z"
   },
   {
    "duration": 4,
    "start_time": "2022-05-11T10:54:22.365Z"
   },
   {
    "duration": 9,
    "start_time": "2022-05-11T10:54:22.371Z"
   },
   {
    "duration": 7,
    "start_time": "2022-05-11T10:54:22.382Z"
   },
   {
    "duration": 6,
    "start_time": "2022-05-11T10:54:22.391Z"
   },
   {
    "duration": 14,
    "start_time": "2022-05-11T10:54:22.399Z"
   },
   {
    "duration": 11,
    "start_time": "2022-05-11T10:55:53.371Z"
   },
   {
    "duration": 20,
    "start_time": "2022-05-11T10:55:55.784Z"
   },
   {
    "duration": 120,
    "start_time": "2022-05-11T10:56:43.549Z"
   },
   {
    "duration": 62,
    "start_time": "2022-05-11T10:56:43.956Z"
   },
   {
    "duration": 34,
    "start_time": "2022-05-11T10:57:08.853Z"
   },
   {
    "duration": 16,
    "start_time": "2022-05-11T10:57:09.477Z"
   },
   {
    "duration": 10,
    "start_time": "2022-05-11T10:57:10.606Z"
   },
   {
    "duration": 44,
    "start_time": "2022-05-11T10:58:02.397Z"
   },
   {
    "duration": 1395,
    "start_time": "2022-05-12T07:09:54.625Z"
   },
   {
    "duration": 219,
    "start_time": "2022-05-12T07:09:56.022Z"
   },
   {
    "duration": 147,
    "start_time": "2022-05-12T07:09:56.243Z"
   },
   {
    "duration": 18,
    "start_time": "2022-05-12T07:09:56.393Z"
   },
   {
    "duration": 5,
    "start_time": "2022-05-12T07:09:56.413Z"
   },
   {
    "duration": 17,
    "start_time": "2022-05-12T07:09:56.419Z"
   },
   {
    "duration": 51,
    "start_time": "2022-05-12T07:09:56.438Z"
   },
   {
    "duration": 19,
    "start_time": "2022-05-12T07:09:56.490Z"
   },
   {
    "duration": 10,
    "start_time": "2022-05-12T07:09:56.534Z"
   },
   {
    "duration": 182,
    "start_time": "2022-05-12T07:09:56.546Z"
   },
   {
    "duration": 105,
    "start_time": "2022-05-12T07:09:56.734Z"
   },
   {
    "duration": 11,
    "start_time": "2022-05-12T07:09:56.840Z"
   },
   {
    "duration": 54,
    "start_time": "2022-05-12T07:09:56.852Z"
   },
   {
    "duration": 31,
    "start_time": "2022-05-12T07:09:56.908Z"
   },
   {
    "duration": 4,
    "start_time": "2022-05-12T07:09:56.960Z"
   },
   {
    "duration": 5,
    "start_time": "2022-05-12T07:09:57.042Z"
   },
   {
    "duration": 5,
    "start_time": "2022-05-12T07:09:57.128Z"
   },
   {
    "duration": 4,
    "start_time": "2022-05-12T07:09:57.298Z"
   },
   {
    "duration": 10,
    "start_time": "2022-05-12T07:09:57.378Z"
   },
   {
    "duration": 123,
    "start_time": "2022-05-12T07:09:58.176Z"
   },
   {
    "duration": 48,
    "start_time": "2022-05-12T07:09:58.342Z"
   },
   {
    "duration": 34,
    "start_time": "2022-05-12T07:09:58.426Z"
   },
   {
    "duration": 16,
    "start_time": "2022-05-12T07:09:59.022Z"
   },
   {
    "duration": 11,
    "start_time": "2022-05-12T07:09:59.498Z"
   },
   {
    "duration": 29,
    "start_time": "2022-05-12T07:10:00.931Z"
   },
   {
    "duration": 4,
    "start_time": "2022-05-12T07:10:01.333Z"
   },
   {
    "duration": 115,
    "start_time": "2022-05-12T07:10:01.517Z"
   },
   {
    "duration": 825,
    "start_time": "2022-05-12T07:10:01.701Z"
   },
   {
    "duration": 0,
    "start_time": "2022-05-12T07:10:02.528Z"
   },
   {
    "duration": 9,
    "start_time": "2022-05-12T07:10:02.755Z"
   },
   {
    "duration": 9,
    "start_time": "2022-05-12T07:10:02.970Z"
   },
   {
    "duration": 9,
    "start_time": "2022-05-12T07:10:03.182Z"
   },
   {
    "duration": 4,
    "start_time": "2022-05-12T07:10:32.966Z"
   },
   {
    "duration": 3,
    "start_time": "2022-05-12T07:10:34.218Z"
   },
   {
    "duration": 54,
    "start_time": "2022-05-12T07:10:35.250Z"
   },
   {
    "duration": 6,
    "start_time": "2022-05-12T07:10:35.721Z"
   },
   {
    "duration": 8,
    "start_time": "2022-05-12T07:10:35.962Z"
   },
   {
    "duration": 7,
    "start_time": "2022-05-12T07:10:36.534Z"
   },
   {
    "duration": 1264,
    "start_time": "2022-05-13T11:36:20.665Z"
   },
   {
    "duration": 203,
    "start_time": "2022-05-13T11:36:22.124Z"
   },
   {
    "duration": 113,
    "start_time": "2022-05-13T11:36:22.888Z"
   },
   {
    "duration": 17,
    "start_time": "2022-05-13T11:36:23.471Z"
   },
   {
    "duration": 4,
    "start_time": "2022-05-13T11:36:23.638Z"
   },
   {
    "duration": 4,
    "start_time": "2022-05-13T11:36:23.720Z"
   },
   {
    "duration": 46,
    "start_time": "2022-05-13T11:36:23.890Z"
   },
   {
    "duration": 17,
    "start_time": "2022-05-13T11:36:24.058Z"
   },
   {
    "duration": 9,
    "start_time": "2022-05-13T11:36:24.141Z"
   },
   {
    "duration": 152,
    "start_time": "2022-05-13T11:36:24.313Z"
   },
   {
    "duration": 92,
    "start_time": "2022-05-13T11:36:24.467Z"
   },
   {
    "duration": 8,
    "start_time": "2022-05-13T11:36:24.560Z"
   },
   {
    "duration": 38,
    "start_time": "2022-05-13T11:36:24.647Z"
   },
   {
    "duration": 15,
    "start_time": "2022-05-13T11:36:25.048Z"
   },
   {
    "duration": 3,
    "start_time": "2022-05-13T11:36:25.549Z"
   },
   {
    "duration": 4,
    "start_time": "2022-05-13T11:36:25.630Z"
   },
   {
    "duration": 4,
    "start_time": "2022-05-13T11:36:25.716Z"
   },
   {
    "duration": 3,
    "start_time": "2022-05-13T11:36:25.885Z"
   },
   {
    "duration": 10,
    "start_time": "2022-05-13T11:36:25.971Z"
   },
   {
    "duration": 109,
    "start_time": "2022-05-13T11:36:26.496Z"
   },
   {
    "duration": 44,
    "start_time": "2022-05-13T11:36:27.080Z"
   },
   {
    "duration": 32,
    "start_time": "2022-05-13T11:36:27.165Z"
   },
   {
    "duration": 17,
    "start_time": "2022-05-13T11:36:27.250Z"
   },
   {
    "duration": 10,
    "start_time": "2022-05-13T11:36:27.333Z"
   },
   {
    "duration": 30,
    "start_time": "2022-05-13T11:36:28.208Z"
   },
   {
    "duration": 4,
    "start_time": "2022-05-13T11:36:29.794Z"
   },
   {
    "duration": 4,
    "start_time": "2022-05-13T11:36:30.244Z"
   },
   {
    "duration": 3,
    "start_time": "2022-05-13T11:36:30.835Z"
   },
   {
    "duration": 46,
    "start_time": "2022-05-13T11:36:33.797Z"
   },
   {
    "duration": 6,
    "start_time": "2022-05-13T11:36:36.437Z"
   },
   {
    "duration": 10,
    "start_time": "2022-05-13T11:36:36.759Z"
   },
   {
    "duration": 8,
    "start_time": "2022-05-13T11:36:37.243Z"
   },
   {
    "duration": 17,
    "start_time": "2022-05-13T11:37:23.595Z"
   },
   {
    "duration": 6,
    "start_time": "2022-05-13T11:41:59.631Z"
   },
   {
    "duration": 8,
    "start_time": "2022-05-13T11:42:00.300Z"
   },
   {
    "duration": 7,
    "start_time": "2022-05-13T11:42:00.746Z"
   },
   {
    "duration": 7,
    "start_time": "2022-05-13T11:42:01.076Z"
   },
   {
    "duration": 19,
    "start_time": "2022-05-13T11:42:01.469Z"
   },
   {
    "duration": 4,
    "start_time": "2022-05-13T11:42:59.036Z"
   },
   {
    "duration": 12,
    "start_time": "2022-05-13T11:43:11.155Z"
   },
   {
    "duration": 3,
    "start_time": "2022-05-13T11:46:29.183Z"
   },
   {
    "duration": 3,
    "start_time": "2022-05-13T11:46:29.671Z"
   },
   {
    "duration": 3,
    "start_time": "2022-05-13T11:46:30.172Z"
   },
   {
    "duration": 44,
    "start_time": "2022-05-13T11:46:30.526Z"
   },
   {
    "duration": 41,
    "start_time": "2022-05-13T11:46:31.025Z"
   },
   {
    "duration": 50,
    "start_time": "2022-05-13T11:46:31.380Z"
   },
   {
    "duration": 5,
    "start_time": "2022-05-13T11:46:31.674Z"
   },
   {
    "duration": 11,
    "start_time": "2022-05-13T11:46:32.043Z"
   },
   {
    "duration": 2861,
    "start_time": "2022-05-13T11:46:32.637Z"
   },
   {
    "duration": 5,
    "start_time": "2022-05-13T11:46:45.678Z"
   },
   {
    "duration": 17,
    "start_time": "2022-05-13T11:46:46.433Z"
   },
   {
    "duration": 11,
    "start_time": "2022-05-13T11:46:46.833Z"
   },
   {
    "duration": 8,
    "start_time": "2022-05-13T11:47:16.898Z"
   },
   {
    "duration": 6,
    "start_time": "2022-05-13T11:47:17.413Z"
   },
   {
    "duration": 13,
    "start_time": "2022-05-13T11:47:37.749Z"
   },
   {
    "duration": 8,
    "start_time": "2022-05-13T11:47:45.624Z"
   },
   {
    "duration": 164,
    "start_time": "2022-05-13T11:47:55.977Z"
   },
   {
    "duration": 160,
    "start_time": "2022-05-13T11:48:02.946Z"
   },
   {
    "duration": 154,
    "start_time": "2022-05-13T11:48:11.083Z"
   },
   {
    "duration": 229,
    "start_time": "2022-05-13T11:48:19.938Z"
   },
   {
    "duration": 184,
    "start_time": "2022-05-13T11:51:36.317Z"
   },
   {
    "duration": 5,
    "start_time": "2022-05-13T11:57:52.487Z"
   },
   {
    "duration": 10,
    "start_time": "2022-05-13T12:00:12.073Z"
   },
   {
    "duration": 8,
    "start_time": "2022-05-13T12:00:12.490Z"
   },
   {
    "duration": 16,
    "start_time": "2022-05-13T12:00:19.355Z"
   },
   {
    "duration": 0,
    "start_time": "2022-05-13T12:00:19.374Z"
   },
   {
    "duration": 0,
    "start_time": "2022-05-13T12:00:19.375Z"
   },
   {
    "duration": 0,
    "start_time": "2022-05-13T12:00:19.377Z"
   },
   {
    "duration": 11,
    "start_time": "2022-05-13T12:00:19.502Z"
   },
   {
    "duration": 13,
    "start_time": "2022-05-13T12:00:21.473Z"
   },
   {
    "duration": 7,
    "start_time": "2022-05-13T12:00:28.932Z"
   },
   {
    "duration": 7,
    "start_time": "2022-05-13T12:00:29.264Z"
   },
   {
    "duration": 8,
    "start_time": "2022-05-13T12:00:30.072Z"
   },
   {
    "duration": 153,
    "start_time": "2022-05-13T12:00:30.156Z"
   },
   {
    "duration": 163,
    "start_time": "2022-05-13T12:00:30.323Z"
   },
   {
    "duration": 264,
    "start_time": "2022-05-13T12:00:30.491Z"
   },
   {
    "duration": 5,
    "start_time": "2022-05-13T12:00:30.757Z"
   },
   {
    "duration": 6,
    "start_time": "2022-05-13T12:00:30.910Z"
   },
   {
    "duration": 6,
    "start_time": "2022-05-13T12:00:31.081Z"
   },
   {
    "duration": 11,
    "start_time": "2022-05-13T12:00:31.248Z"
   },
   {
    "duration": 145,
    "start_time": "2022-05-13T12:00:31.332Z"
   },
   {
    "duration": 10,
    "start_time": "2022-05-13T12:00:31.496Z"
   },
   {
    "duration": 6,
    "start_time": "2022-05-13T12:01:03.239Z"
   },
   {
    "duration": 143,
    "start_time": "2022-05-13T12:01:04.006Z"
   },
   {
    "duration": 6,
    "start_time": "2022-05-13T12:01:50.376Z"
   },
   {
    "duration": 132,
    "start_time": "2022-05-13T12:01:53.540Z"
   },
   {
    "duration": 8,
    "start_time": "2022-05-13T12:02:37.152Z"
   },
   {
    "duration": 7,
    "start_time": "2022-05-13T12:02:40.460Z"
   },
   {
    "duration": 15,
    "start_time": "2022-05-13T12:03:01.967Z"
   },
   {
    "duration": 26,
    "start_time": "2022-05-13T12:21:05.712Z"
   },
   {
    "duration": 1180,
    "start_time": "2022-05-13T12:35:54.140Z"
   },
   {
    "duration": 182,
    "start_time": "2022-05-13T12:35:55.322Z"
   },
   {
    "duration": 109,
    "start_time": "2022-05-13T12:35:55.776Z"
   },
   {
    "duration": 18,
    "start_time": "2022-05-13T12:35:56.792Z"
   },
   {
    "duration": 5,
    "start_time": "2022-05-13T12:35:57.779Z"
   },
   {
    "duration": 4,
    "start_time": "2022-05-13T12:35:58.156Z"
   },
   {
    "duration": 40,
    "start_time": "2022-05-13T12:35:59.000Z"
   },
   {
    "duration": 18,
    "start_time": "2022-05-13T12:36:00.047Z"
   },
   {
    "duration": 12,
    "start_time": "2022-05-13T12:36:01.539Z"
   },
   {
    "duration": 244,
    "start_time": "2022-05-13T12:36:03.072Z"
   },
   {
    "duration": 82,
    "start_time": "2022-05-13T12:36:38.618Z"
   },
   {
    "duration": 9,
    "start_time": "2022-05-13T12:37:15.314Z"
   },
   {
    "duration": 43,
    "start_time": "2022-05-13T12:37:20.042Z"
   },
   {
    "duration": 15,
    "start_time": "2022-05-13T12:37:24.335Z"
   },
   {
    "duration": 10,
    "start_time": "2022-05-13T12:37:36.099Z"
   },
   {
    "duration": 6,
    "start_time": "2022-05-13T12:37:52.069Z"
   },
   {
    "duration": 11,
    "start_time": "2022-05-13T12:37:52.597Z"
   },
   {
    "duration": 7,
    "start_time": "2022-05-13T12:38:59.216Z"
   },
   {
    "duration": 10,
    "start_time": "2022-05-13T12:39:32.971Z"
   },
   {
    "duration": 4,
    "start_time": "2022-05-13T12:39:37.336Z"
   },
   {
    "duration": 9,
    "start_time": "2022-05-13T12:39:37.695Z"
   },
   {
    "duration": 6,
    "start_time": "2022-05-13T12:41:40.625Z"
   },
   {
    "duration": 5,
    "start_time": "2022-05-13T12:41:54.741Z"
   },
   {
    "duration": 4,
    "start_time": "2022-05-13T12:41:57.960Z"
   },
   {
    "duration": 4,
    "start_time": "2022-05-13T12:42:01.669Z"
   },
   {
    "duration": 89,
    "start_time": "2022-05-13T12:42:31.417Z"
   },
   {
    "duration": 10,
    "start_time": "2022-05-13T12:42:54.567Z"
   },
   {
    "duration": 8,
    "start_time": "2022-05-13T12:45:21.550Z"
   },
   {
    "duration": 10,
    "start_time": "2022-05-13T12:47:34.738Z"
   },
   {
    "duration": 4,
    "start_time": "2022-05-13T12:48:12.092Z"
   },
   {
    "duration": 10,
    "start_time": "2022-05-13T12:48:25.978Z"
   },
   {
    "duration": 8,
    "start_time": "2022-05-13T12:48:33.752Z"
   },
   {
    "duration": 7,
    "start_time": "2022-05-13T12:51:49.392Z"
   },
   {
    "duration": 1378,
    "start_time": "2022-05-13T12:52:13.027Z"
   },
   {
    "duration": 262,
    "start_time": "2022-05-13T12:52:14.408Z"
   },
   {
    "duration": 133,
    "start_time": "2022-05-13T12:52:14.672Z"
   },
   {
    "duration": 16,
    "start_time": "2022-05-13T12:52:14.807Z"
   },
   {
    "duration": 4,
    "start_time": "2022-05-13T12:52:14.824Z"
   },
   {
    "duration": 6,
    "start_time": "2022-05-13T12:52:14.830Z"
   },
   {
    "duration": 44,
    "start_time": "2022-05-13T12:52:14.837Z"
   },
   {
    "duration": 17,
    "start_time": "2022-05-13T12:52:15.262Z"
   },
   {
    "duration": 9,
    "start_time": "2022-05-13T12:52:15.344Z"
   },
   {
    "duration": 164,
    "start_time": "2022-05-13T12:52:15.512Z"
   },
   {
    "duration": 78,
    "start_time": "2022-05-13T12:52:15.816Z"
   },
   {
    "duration": 9,
    "start_time": "2022-05-13T12:52:16.928Z"
   },
   {
    "duration": 40,
    "start_time": "2022-05-13T12:52:17.290Z"
   },
   {
    "duration": 15,
    "start_time": "2022-05-13T12:52:17.608Z"
   },
   {
    "duration": 10,
    "start_time": "2022-05-13T12:52:17.978Z"
   },
   {
    "duration": 4,
    "start_time": "2022-05-13T12:52:18.491Z"
   },
   {
    "duration": 5,
    "start_time": "2022-05-13T12:52:18.788Z"
   },
   {
    "duration": 9,
    "start_time": "2022-05-13T12:52:19.117Z"
   },
   {
    "duration": 5,
    "start_time": "2022-05-13T12:52:20.408Z"
   },
   {
    "duration": 4,
    "start_time": "2022-05-13T12:52:22.153Z"
   },
   {
    "duration": 10,
    "start_time": "2022-05-13T12:52:25.093Z"
   },
   {
    "duration": 1294,
    "start_time": "2022-05-13T12:57:10.219Z"
   },
   {
    "duration": 304,
    "start_time": "2022-05-13T12:57:11.515Z"
   },
   {
    "duration": 117,
    "start_time": "2022-05-13T12:57:12.732Z"
   },
   {
    "duration": 26,
    "start_time": "2022-05-13T12:57:13.316Z"
   },
   {
    "duration": 5,
    "start_time": "2022-05-13T12:57:13.484Z"
   },
   {
    "duration": 5,
    "start_time": "2022-05-13T12:57:13.566Z"
   },
   {
    "duration": 66,
    "start_time": "2022-05-13T12:57:13.963Z"
   },
   {
    "duration": 25,
    "start_time": "2022-05-13T12:57:14.715Z"
   },
   {
    "duration": 12,
    "start_time": "2022-05-13T12:57:14.795Z"
   },
   {
    "duration": 275,
    "start_time": "2022-05-13T12:57:14.964Z"
   },
   {
    "duration": 135,
    "start_time": "2022-05-13T12:57:15.678Z"
   },
   {
    "duration": 9,
    "start_time": "2022-05-13T12:57:16.638Z"
   },
   {
    "duration": 39,
    "start_time": "2022-05-13T12:57:17.082Z"
   },
   {
    "duration": 16,
    "start_time": "2022-05-13T12:57:17.614Z"
   },
   {
    "duration": 10,
    "start_time": "2022-05-13T12:57:22.722Z"
   },
   {
    "duration": 4,
    "start_time": "2022-05-13T12:57:24.183Z"
   },
   {
    "duration": 5,
    "start_time": "2022-05-13T12:57:24.609Z"
   },
   {
    "duration": 13,
    "start_time": "2022-05-13T12:57:25.039Z"
   },
   {
    "duration": 2,
    "start_time": "2022-05-13T12:57:30.845Z"
   },
   {
    "duration": 841,
    "start_time": "2022-05-13T12:57:31.758Z"
   },
   {
    "duration": 3,
    "start_time": "2022-05-13T12:59:54.570Z"
   },
   {
    "duration": 931,
    "start_time": "2022-05-13T12:59:55.103Z"
   },
   {
    "duration": 6,
    "start_time": "2022-05-13T12:59:57.765Z"
   },
   {
    "duration": 3,
    "start_time": "2022-05-13T13:00:44.109Z"
   },
   {
    "duration": 714,
    "start_time": "2022-05-13T13:00:44.585Z"
   },
   {
    "duration": 6,
    "start_time": "2022-05-13T13:00:45.330Z"
   },
   {
    "duration": 158,
    "start_time": "2022-05-13T13:00:56.354Z"
   },
   {
    "duration": 4,
    "start_time": "2022-05-13T13:01:12.040Z"
   },
   {
    "duration": 715,
    "start_time": "2022-05-13T13:01:16.672Z"
   },
   {
    "duration": 3,
    "start_time": "2022-05-13T13:03:33.045Z"
   },
   {
    "duration": 10,
    "start_time": "2022-05-13T13:03:33.661Z"
   },
   {
    "duration": 5,
    "start_time": "2022-05-13T13:03:50.473Z"
   },
   {
    "duration": 1106,
    "start_time": "2022-05-13T13:04:06.403Z"
   },
   {
    "duration": 175,
    "start_time": "2022-05-13T13:04:07.511Z"
   },
   {
    "duration": 117,
    "start_time": "2022-05-13T13:04:07.688Z"
   },
   {
    "duration": 18,
    "start_time": "2022-05-13T13:04:07.807Z"
   },
   {
    "duration": 4,
    "start_time": "2022-05-13T13:04:07.826Z"
   },
   {
    "duration": 9,
    "start_time": "2022-05-13T13:04:07.831Z"
   },
   {
    "duration": 42,
    "start_time": "2022-05-13T13:04:07.842Z"
   },
   {
    "duration": 16,
    "start_time": "2022-05-13T13:04:08.291Z"
   },
   {
    "duration": 10,
    "start_time": "2022-05-13T13:04:08.793Z"
   },
   {
    "duration": 159,
    "start_time": "2022-05-13T13:04:08.960Z"
   },
   {
    "duration": 83,
    "start_time": "2022-05-13T13:04:09.121Z"
   },
   {
    "duration": 9,
    "start_time": "2022-05-13T13:04:09.606Z"
   },
   {
    "duration": 39,
    "start_time": "2022-05-13T13:04:10.188Z"
   },
   {
    "duration": 15,
    "start_time": "2022-05-13T13:04:10.530Z"
   },
   {
    "duration": 9,
    "start_time": "2022-05-13T13:04:10.880Z"
   },
   {
    "duration": 4,
    "start_time": "2022-05-13T13:04:11.340Z"
   },
   {
    "duration": 5,
    "start_time": "2022-05-13T13:04:12.099Z"
   },
   {
    "duration": 9,
    "start_time": "2022-05-13T13:04:12.497Z"
   },
   {
    "duration": 11,
    "start_time": "2022-05-13T13:04:29.112Z"
   },
   {
    "duration": 3,
    "start_time": "2022-05-13T13:04:30.219Z"
   },
   {
    "duration": 869,
    "start_time": "2022-05-13T13:04:31.448Z"
   },
   {
    "duration": 1313,
    "start_time": "2022-05-13T13:05:12.050Z"
   },
   {
    "duration": 189,
    "start_time": "2022-05-13T13:05:13.364Z"
   },
   {
    "duration": 113,
    "start_time": "2022-05-13T13:05:13.554Z"
   },
   {
    "duration": 16,
    "start_time": "2022-05-13T13:05:13.670Z"
   },
   {
    "duration": 15,
    "start_time": "2022-05-13T13:05:13.687Z"
   },
   {
    "duration": 7,
    "start_time": "2022-05-13T13:05:13.704Z"
   },
   {
    "duration": 46,
    "start_time": "2022-05-13T13:05:13.712Z"
   },
   {
    "duration": 14,
    "start_time": "2022-05-13T13:05:13.760Z"
   },
   {
    "duration": 28,
    "start_time": "2022-05-13T13:05:13.776Z"
   },
   {
    "duration": 167,
    "start_time": "2022-05-13T13:05:13.899Z"
   },
   {
    "duration": 101,
    "start_time": "2022-05-13T13:05:14.069Z"
   },
   {
    "duration": 9,
    "start_time": "2022-05-13T13:05:14.172Z"
   },
   {
    "duration": 38,
    "start_time": "2022-05-13T13:05:14.228Z"
   },
   {
    "duration": 15,
    "start_time": "2022-05-13T13:05:14.311Z"
   },
   {
    "duration": 11,
    "start_time": "2022-05-13T13:05:14.395Z"
   },
   {
    "duration": 3,
    "start_time": "2022-05-13T13:05:14.597Z"
   },
   {
    "duration": 5,
    "start_time": "2022-05-13T13:05:14.856Z"
   },
   {
    "duration": 9,
    "start_time": "2022-05-13T13:05:15.078Z"
   },
   {
    "duration": 4,
    "start_time": "2022-05-13T13:06:29.026Z"
   },
   {
    "duration": 9,
    "start_time": "2022-05-13T13:06:50.900Z"
   },
   {
    "duration": 4,
    "start_time": "2022-05-13T13:06:55.290Z"
   },
   {
    "duration": 4,
    "start_time": "2022-05-13T13:06:55.653Z"
   },
   {
    "duration": 10,
    "start_time": "2022-05-13T13:06:56.050Z"
   },
   {
    "duration": 9,
    "start_time": "2022-05-13T13:07:28.808Z"
   },
   {
    "duration": 1375,
    "start_time": "2022-05-13T13:12:23.977Z"
   },
   {
    "duration": 254,
    "start_time": "2022-05-13T13:12:25.354Z"
   },
   {
    "duration": 165,
    "start_time": "2022-05-13T13:12:27.338Z"
   },
   {
    "duration": 22,
    "start_time": "2022-05-13T13:12:28.429Z"
   },
   {
    "duration": 5,
    "start_time": "2022-05-13T13:12:29.485Z"
   },
   {
    "duration": 68,
    "start_time": "2022-05-13T13:12:30.439Z"
   },
   {
    "duration": 48,
    "start_time": "2022-05-13T13:12:31.297Z"
   },
   {
    "duration": 14,
    "start_time": "2022-05-13T13:12:31.927Z"
   },
   {
    "duration": 1274,
    "start_time": "2022-05-13T13:13:17.118Z"
   },
   {
    "duration": 1313,
    "start_time": "2022-05-13T13:17:39.606Z"
   },
   {
    "duration": 189,
    "start_time": "2022-05-13T13:17:41.778Z"
   },
   {
    "duration": 110,
    "start_time": "2022-05-13T13:17:42.981Z"
   },
   {
    "duration": 18,
    "start_time": "2022-05-13T13:17:44.052Z"
   },
   {
    "duration": 36,
    "start_time": "2022-05-13T13:17:45.305Z"
   },
   {
    "duration": 34,
    "start_time": "2022-05-13T13:17:45.905Z"
   },
   {
    "duration": 11,
    "start_time": "2022-05-13T13:17:46.385Z"
   },
   {
    "duration": 44,
    "start_time": "2022-05-13T13:18:17.958Z"
   },
   {
    "duration": 14,
    "start_time": "2022-05-13T13:18:18.636Z"
   },
   {
    "duration": 8,
    "start_time": "2022-05-13T13:18:19.026Z"
   },
   {
    "duration": 160,
    "start_time": "2022-05-13T13:18:34.940Z"
   },
   {
    "duration": 78,
    "start_time": "2022-05-13T13:18:36.077Z"
   },
   {
    "duration": 9,
    "start_time": "2022-05-13T13:18:37.288Z"
   },
   {
    "duration": 37,
    "start_time": "2022-05-13T13:18:40.438Z"
   },
   {
    "duration": 14,
    "start_time": "2022-05-13T13:18:44.200Z"
   },
   {
    "duration": 10,
    "start_time": "2022-05-13T13:18:44.864Z"
   },
   {
    "duration": 4,
    "start_time": "2022-05-13T13:18:54.051Z"
   },
   {
    "duration": 4,
    "start_time": "2022-05-13T13:18:56.659Z"
   },
   {
    "duration": 4,
    "start_time": "2022-05-13T13:19:00.030Z"
   },
   {
    "duration": 4,
    "start_time": "2022-05-13T13:19:01.450Z"
   },
   {
    "duration": 10,
    "start_time": "2022-05-13T13:19:02.047Z"
   },
   {
    "duration": 116,
    "start_time": "2022-05-13T13:19:14.204Z"
   },
   {
    "duration": 41,
    "start_time": "2022-05-13T13:19:15.687Z"
   },
   {
    "duration": 32,
    "start_time": "2022-05-13T13:19:17.568Z"
   },
   {
    "duration": 15,
    "start_time": "2022-05-13T13:19:18.811Z"
   },
   {
    "duration": 9,
    "start_time": "2022-05-13T13:19:19.587Z"
   },
   {
    "duration": 90,
    "start_time": "2022-05-13T13:20:22.058Z"
   },
   {
    "duration": 27,
    "start_time": "2022-05-13T13:20:25.881Z"
   },
   {
    "duration": 4,
    "start_time": "2022-05-13T13:20:27.007Z"
   },
   {
    "duration": 3,
    "start_time": "2022-05-13T13:20:27.773Z"
   },
   {
    "duration": 2,
    "start_time": "2022-05-13T13:20:28.165Z"
   },
   {
    "duration": 8,
    "start_time": "2022-05-13T13:20:37.443Z"
   },
   {
    "duration": 2728,
    "start_time": "2022-05-13T13:20:52.496Z"
   },
   {
    "duration": 0,
    "start_time": "2022-05-13T13:20:55.226Z"
   },
   {
    "duration": 0,
    "start_time": "2022-05-13T13:20:55.227Z"
   },
   {
    "duration": 0,
    "start_time": "2022-05-13T13:20:55.228Z"
   },
   {
    "duration": 1169,
    "start_time": "2022-05-13T13:21:02.167Z"
   },
   {
    "duration": 174,
    "start_time": "2022-05-13T13:21:03.338Z"
   },
   {
    "duration": 116,
    "start_time": "2022-05-13T13:21:03.514Z"
   },
   {
    "duration": 16,
    "start_time": "2022-05-13T13:21:03.632Z"
   },
   {
    "duration": 34,
    "start_time": "2022-05-13T13:21:03.650Z"
   },
   {
    "duration": 30,
    "start_time": "2022-05-13T13:21:03.700Z"
   },
   {
    "duration": 18,
    "start_time": "2022-05-13T13:21:03.731Z"
   },
   {
    "duration": 43,
    "start_time": "2022-05-13T13:21:03.751Z"
   },
   {
    "duration": 16,
    "start_time": "2022-05-13T13:21:03.843Z"
   },
   {
    "duration": 11,
    "start_time": "2022-05-13T13:21:03.925Z"
   },
   {
    "duration": 214,
    "start_time": "2022-05-13T13:21:04.095Z"
   },
   {
    "duration": 79,
    "start_time": "2022-05-13T13:21:04.311Z"
   },
   {
    "duration": 9,
    "start_time": "2022-05-13T13:21:05.078Z"
   },
   {
    "duration": 37,
    "start_time": "2022-05-13T13:21:05.164Z"
   },
   {
    "duration": 15,
    "start_time": "2022-05-13T13:21:05.247Z"
   },
   {
    "duration": 10,
    "start_time": "2022-05-13T13:21:05.556Z"
   },
   {
    "duration": 3,
    "start_time": "2022-05-13T13:21:06.058Z"
   },
   {
    "duration": 4,
    "start_time": "2022-05-13T13:21:06.136Z"
   },
   {
    "duration": 4,
    "start_time": "2022-05-13T13:21:06.305Z"
   },
   {
    "duration": 3,
    "start_time": "2022-05-13T13:21:06.387Z"
   },
   {
    "duration": 11,
    "start_time": "2022-05-13T13:21:06.834Z"
   },
   {
    "duration": 141,
    "start_time": "2022-05-13T13:21:07.420Z"
   },
   {
    "duration": 56,
    "start_time": "2022-05-13T13:21:08.640Z"
   },
   {
    "duration": 44,
    "start_time": "2022-05-13T13:21:09.142Z"
   },
   {
    "duration": 23,
    "start_time": "2022-05-13T13:21:09.226Z"
   },
   {
    "duration": 12,
    "start_time": "2022-05-13T13:21:09.309Z"
   },
   {
    "duration": 31,
    "start_time": "2022-05-13T13:21:10.850Z"
   },
   {
    "duration": 4,
    "start_time": "2022-05-13T13:21:12.017Z"
   },
   {
    "duration": 3,
    "start_time": "2022-05-13T13:21:13.035Z"
   },
   {
    "duration": 3,
    "start_time": "2022-05-13T13:21:13.426Z"
   },
   {
    "duration": 8,
    "start_time": "2022-05-13T13:21:13.866Z"
   },
   {
    "duration": 1214,
    "start_time": "2022-05-13T13:22:43.764Z"
   },
   {
    "duration": 185,
    "start_time": "2022-05-13T13:22:44.980Z"
   },
   {
    "duration": 115,
    "start_time": "2022-05-13T13:22:45.269Z"
   },
   {
    "duration": 16,
    "start_time": "2022-05-13T13:22:45.672Z"
   },
   {
    "duration": 38,
    "start_time": "2022-05-13T13:22:46.136Z"
   },
   {
    "duration": 33,
    "start_time": "2022-05-13T13:22:46.379Z"
   },
   {
    "duration": 11,
    "start_time": "2022-05-13T13:22:46.600Z"
   },
   {
    "duration": 43,
    "start_time": "2022-05-13T13:22:47.252Z"
   },
   {
    "duration": 15,
    "start_time": "2022-05-13T13:22:47.788Z"
   },
   {
    "duration": 9,
    "start_time": "2022-05-13T13:22:48.036Z"
   },
   {
    "duration": 210,
    "start_time": "2022-05-13T13:22:48.509Z"
   },
   {
    "duration": 79,
    "start_time": "2022-05-13T13:22:48.738Z"
   },
   {
    "duration": 9,
    "start_time": "2022-05-13T13:22:50.192Z"
   },
   {
    "duration": 38,
    "start_time": "2022-05-13T13:22:50.609Z"
   },
   {
    "duration": 14,
    "start_time": "2022-05-13T13:22:51.057Z"
   },
   {
    "duration": 11,
    "start_time": "2022-05-13T13:22:51.272Z"
   },
   {
    "duration": 3,
    "start_time": "2022-05-13T13:22:51.765Z"
   },
   {
    "duration": 4,
    "start_time": "2022-05-13T13:22:52.248Z"
   },
   {
    "duration": 3,
    "start_time": "2022-05-13T13:22:52.627Z"
   },
   {
    "duration": 4,
    "start_time": "2022-05-13T13:22:52.818Z"
   },
   {
    "duration": 8,
    "start_time": "2022-05-13T13:22:52.992Z"
   },
   {
    "duration": 110,
    "start_time": "2022-05-13T13:22:53.516Z"
   },
   {
    "duration": 42,
    "start_time": "2022-05-13T13:22:54.332Z"
   },
   {
    "duration": 30,
    "start_time": "2022-05-13T13:22:54.539Z"
   },
   {
    "duration": 15,
    "start_time": "2022-05-13T13:22:54.759Z"
   },
   {
    "duration": 9,
    "start_time": "2022-05-13T13:22:55.303Z"
   },
   {
    "duration": 27,
    "start_time": "2022-05-13T13:22:56.036Z"
   },
   {
    "duration": 5,
    "start_time": "2022-05-13T13:22:58.203Z"
   },
   {
    "duration": 4,
    "start_time": "2022-05-13T13:22:58.636Z"
   },
   {
    "duration": 8,
    "start_time": "2022-05-13T13:22:59.036Z"
   },
   {
    "duration": 2732,
    "start_time": "2022-05-13T13:23:55.035Z"
   },
   {
    "duration": 0,
    "start_time": "2022-05-13T13:23:57.769Z"
   },
   {
    "duration": 0,
    "start_time": "2022-05-13T13:23:57.770Z"
   },
   {
    "duration": 1204,
    "start_time": "2022-05-13T13:24:03.639Z"
   },
   {
    "duration": 266,
    "start_time": "2022-05-13T13:24:04.846Z"
   },
   {
    "duration": 150,
    "start_time": "2022-05-13T13:24:05.114Z"
   },
   {
    "duration": 22,
    "start_time": "2022-05-13T13:24:05.266Z"
   },
   {
    "duration": 78,
    "start_time": "2022-05-13T13:24:06.113Z"
   },
   {
    "duration": 36,
    "start_time": "2022-05-13T13:24:06.616Z"
   },
   {
    "duration": 11,
    "start_time": "2022-05-13T13:24:06.699Z"
   },
   {
    "duration": 59,
    "start_time": "2022-05-13T13:24:06.879Z"
   },
   {
    "duration": 21,
    "start_time": "2022-05-13T13:24:07.035Z"
   },
   {
    "duration": 12,
    "start_time": "2022-05-13T13:24:07.118Z"
   },
   {
    "duration": 613,
    "start_time": "2022-05-13T13:24:07.283Z"
   },
   {
    "duration": 138,
    "start_time": "2022-05-13T13:24:07.901Z"
   },
   {
    "duration": 12,
    "start_time": "2022-05-13T13:24:08.041Z"
   },
   {
    "duration": 55,
    "start_time": "2022-05-13T13:24:08.055Z"
   },
   {
    "duration": 15,
    "start_time": "2022-05-13T13:24:08.112Z"
   },
   {
    "duration": 11,
    "start_time": "2022-05-13T13:24:08.129Z"
   },
   {
    "duration": 9,
    "start_time": "2022-05-13T13:24:08.142Z"
   },
   {
    "duration": 7,
    "start_time": "2022-05-13T13:24:08.153Z"
   },
   {
    "duration": 5,
    "start_time": "2022-05-13T13:24:08.162Z"
   },
   {
    "duration": 4,
    "start_time": "2022-05-13T13:24:08.205Z"
   },
   {
    "duration": 9,
    "start_time": "2022-05-13T13:24:08.296Z"
   },
   {
    "duration": 168,
    "start_time": "2022-05-13T13:24:08.461Z"
   },
   {
    "duration": 46,
    "start_time": "2022-05-13T13:24:09.756Z"
   },
   {
    "duration": 32,
    "start_time": "2022-05-13T13:24:09.836Z"
   },
   {
    "duration": 14,
    "start_time": "2022-05-13T13:24:09.921Z"
   },
   {
    "duration": 9,
    "start_time": "2022-05-13T13:24:10.017Z"
   },
   {
    "duration": 27,
    "start_time": "2022-05-13T13:24:10.195Z"
   },
   {
    "duration": 5,
    "start_time": "2022-05-13T13:24:11.257Z"
   },
   {
    "duration": 3,
    "start_time": "2022-05-13T13:24:12.388Z"
   },
   {
    "duration": 7,
    "start_time": "2022-05-13T13:24:12.737Z"
   },
   {
    "duration": 1118,
    "start_time": "2022-05-13T13:26:07.380Z"
   },
   {
    "duration": 175,
    "start_time": "2022-05-13T13:26:08.500Z"
   },
   {
    "duration": 126,
    "start_time": "2022-05-13T13:26:08.677Z"
   },
   {
    "duration": 18,
    "start_time": "2022-05-13T13:26:08.805Z"
   },
   {
    "duration": 37,
    "start_time": "2022-05-13T13:26:08.824Z"
   },
   {
    "duration": 52,
    "start_time": "2022-05-13T13:26:08.863Z"
   },
   {
    "duration": 13,
    "start_time": "2022-05-13T13:26:08.916Z"
   },
   {
    "duration": 45,
    "start_time": "2022-05-13T13:26:08.931Z"
   },
   {
    "duration": 17,
    "start_time": "2022-05-13T13:26:09.070Z"
   },
   {
    "duration": 9,
    "start_time": "2022-05-13T13:26:09.140Z"
   },
   {
    "duration": 222,
    "start_time": "2022-05-13T13:26:09.308Z"
   },
   {
    "duration": 126,
    "start_time": "2022-05-13T13:26:09.532Z"
   },
   {
    "duration": 10,
    "start_time": "2022-05-13T13:26:09.660Z"
   },
   {
    "duration": 64,
    "start_time": "2022-05-13T13:26:09.672Z"
   },
   {
    "duration": 21,
    "start_time": "2022-05-13T13:26:09.738Z"
   },
   {
    "duration": 12,
    "start_time": "2022-05-13T13:26:09.810Z"
   },
   {
    "duration": 4,
    "start_time": "2022-05-13T13:26:09.901Z"
   },
   {
    "duration": 4,
    "start_time": "2022-05-13T13:26:09.983Z"
   },
   {
    "duration": 7,
    "start_time": "2022-05-13T13:26:10.145Z"
   },
   {
    "duration": 4,
    "start_time": "2022-05-13T13:26:10.229Z"
   },
   {
    "duration": 11,
    "start_time": "2022-05-13T13:26:10.311Z"
   },
   {
    "duration": 114,
    "start_time": "2022-05-13T13:26:10.481Z"
   },
   {
    "duration": 43,
    "start_time": "2022-05-13T13:26:10.644Z"
   },
   {
    "duration": 31,
    "start_time": "2022-05-13T13:26:10.728Z"
   },
   {
    "duration": 14,
    "start_time": "2022-05-13T13:26:10.814Z"
   },
   {
    "duration": 10,
    "start_time": "2022-05-13T13:26:10.902Z"
   },
   {
    "duration": 27,
    "start_time": "2022-05-13T13:26:11.063Z"
   },
   {
    "duration": 4,
    "start_time": "2022-05-13T13:26:11.232Z"
   },
   {
    "duration": 4,
    "start_time": "2022-05-13T13:26:11.328Z"
   },
   {
    "duration": 8,
    "start_time": "2022-05-13T13:26:11.407Z"
   },
   {
    "duration": 54,
    "start_time": "2022-05-13T13:26:12.233Z"
   },
   {
    "duration": 6,
    "start_time": "2022-05-13T13:26:13.234Z"
   },
   {
    "duration": 8,
    "start_time": "2022-05-13T13:26:13.709Z"
   },
   {
    "duration": 6,
    "start_time": "2022-05-13T13:26:15.505Z"
   },
   {
    "duration": 5,
    "start_time": "2022-05-13T13:26:15.964Z"
   },
   {
    "duration": 17,
    "start_time": "2022-05-13T13:26:16.411Z"
   },
   {
    "duration": 8,
    "start_time": "2022-05-13T13:26:17.009Z"
   },
   {
    "duration": 7,
    "start_time": "2022-05-13T13:27:25.691Z"
   },
   {
    "duration": 10,
    "start_time": "2022-05-13T13:27:26.248Z"
   },
   {
    "duration": 2,
    "start_time": "2022-05-13T13:27:54.761Z"
   },
   {
    "duration": 7,
    "start_time": "2022-05-13T13:28:05.818Z"
   },
   {
    "duration": 10,
    "start_time": "2022-05-13T13:28:06.160Z"
   },
   {
    "duration": 54,
    "start_time": "2022-05-13T13:31:22.271Z"
   },
   {
    "duration": 1333,
    "start_time": "2022-05-13T13:31:40.771Z"
   },
   {
    "duration": 220,
    "start_time": "2022-05-13T13:31:43.142Z"
   },
   {
    "duration": 213,
    "start_time": "2022-05-13T13:31:43.400Z"
   },
   {
    "duration": 22,
    "start_time": "2022-05-13T13:31:44.295Z"
   },
   {
    "duration": 45,
    "start_time": "2022-05-13T13:31:44.974Z"
   },
   {
    "duration": 35,
    "start_time": "2022-05-13T13:31:45.317Z"
   },
   {
    "duration": 10,
    "start_time": "2022-05-13T13:31:45.742Z"
   },
   {
    "duration": 44,
    "start_time": "2022-05-13T13:31:46.817Z"
   },
   {
    "duration": 18,
    "start_time": "2022-05-13T13:31:47.400Z"
   },
   {
    "duration": 11,
    "start_time": "2022-05-13T13:31:47.483Z"
   },
   {
    "duration": 180,
    "start_time": "2022-05-13T13:31:47.651Z"
   },
   {
    "duration": 121,
    "start_time": "2022-05-13T13:31:47.833Z"
   },
   {
    "duration": 8,
    "start_time": "2022-05-13T13:31:47.956Z"
   },
   {
    "duration": 43,
    "start_time": "2022-05-13T13:31:48.530Z"
   },
   {
    "duration": 16,
    "start_time": "2022-05-13T13:31:48.975Z"
   },
   {
    "duration": 10,
    "start_time": "2022-05-13T13:31:49.264Z"
   },
   {
    "duration": 3,
    "start_time": "2022-05-13T13:31:49.470Z"
   },
   {
    "duration": 4,
    "start_time": "2022-05-13T13:31:49.738Z"
   },
   {
    "duration": 5,
    "start_time": "2022-05-13T13:31:50.238Z"
   },
   {
    "duration": 6,
    "start_time": "2022-05-13T13:31:50.475Z"
   },
   {
    "duration": 10,
    "start_time": "2022-05-13T13:31:50.713Z"
   },
   {
    "duration": 127,
    "start_time": "2022-05-13T13:31:51.214Z"
   },
   {
    "duration": 47,
    "start_time": "2022-05-13T13:31:52.974Z"
   },
   {
    "duration": 41,
    "start_time": "2022-05-13T13:31:53.295Z"
   },
   {
    "duration": 18,
    "start_time": "2022-05-13T13:31:53.718Z"
   },
   {
    "duration": 4,
    "start_time": "2022-05-13T13:31:54.146Z"
   },
   {
    "duration": 9,
    "start_time": "2022-05-13T13:31:55.229Z"
   },
   {
    "duration": 28,
    "start_time": "2022-05-13T13:32:42.330Z"
   },
   {
    "duration": 4,
    "start_time": "2022-05-13T13:32:42.918Z"
   },
   {
    "duration": 4,
    "start_time": "2022-05-13T13:32:42.993Z"
   },
   {
    "duration": 8,
    "start_time": "2022-05-13T13:32:43.076Z"
   },
   {
    "duration": 42,
    "start_time": "2022-05-13T13:32:43.247Z"
   },
   {
    "duration": 7,
    "start_time": "2022-05-13T13:32:43.412Z"
   },
   {
    "duration": 8,
    "start_time": "2022-05-13T13:32:43.497Z"
   },
   {
    "duration": 6,
    "start_time": "2022-05-13T13:32:43.667Z"
   },
   {
    "duration": 4,
    "start_time": "2022-05-13T13:32:43.751Z"
   },
   {
    "duration": 15,
    "start_time": "2022-05-13T13:32:44.393Z"
   },
   {
    "duration": 10,
    "start_time": "2022-05-13T13:32:44.814Z"
   },
   {
    "duration": 8,
    "start_time": "2022-05-13T13:32:45.818Z"
   },
   {
    "duration": 6,
    "start_time": "2022-05-13T13:32:50.337Z"
   },
   {
    "duration": 10,
    "start_time": "2022-05-13T13:32:50.819Z"
   },
   {
    "duration": 1135,
    "start_time": "2022-05-13T13:33:33.348Z"
   },
   {
    "duration": 192,
    "start_time": "2022-05-13T13:33:34.485Z"
   },
   {
    "duration": 192,
    "start_time": "2022-05-13T13:33:34.679Z"
   },
   {
    "duration": 35,
    "start_time": "2022-05-13T13:33:34.874Z"
   },
   {
    "duration": 41,
    "start_time": "2022-05-13T13:33:34.913Z"
   },
   {
    "duration": 46,
    "start_time": "2022-05-13T13:33:34.956Z"
   },
   {
    "duration": 18,
    "start_time": "2022-05-13T13:33:35.005Z"
   },
   {
    "duration": 50,
    "start_time": "2022-05-13T13:33:35.025Z"
   },
   {
    "duration": 19,
    "start_time": "2022-05-13T13:33:35.727Z"
   },
   {
    "duration": 9,
    "start_time": "2022-05-13T13:33:35.818Z"
   },
   {
    "duration": 172,
    "start_time": "2022-05-13T13:33:35.978Z"
   },
   {
    "duration": 89,
    "start_time": "2022-05-13T13:33:36.474Z"
   },
   {
    "duration": 9,
    "start_time": "2022-05-13T13:33:37.024Z"
   },
   {
    "duration": 50,
    "start_time": "2022-05-13T13:33:37.359Z"
   },
   {
    "duration": 22,
    "start_time": "2022-05-13T13:33:37.691Z"
   },
   {
    "duration": 11,
    "start_time": "2022-05-13T13:33:38.099Z"
   },
   {
    "duration": 4,
    "start_time": "2022-05-13T13:33:38.587Z"
   },
   {
    "duration": 5,
    "start_time": "2022-05-13T13:33:38.862Z"
   },
   {
    "duration": 4,
    "start_time": "2022-05-13T13:33:39.421Z"
   },
   {
    "duration": 4,
    "start_time": "2022-05-13T13:33:39.508Z"
   },
   {
    "duration": 17,
    "start_time": "2022-05-13T13:33:39.588Z"
   },
   {
    "duration": 179,
    "start_time": "2022-05-13T13:33:39.756Z"
   },
   {
    "duration": 97,
    "start_time": "2022-05-13T13:33:39.938Z"
   },
   {
    "duration": 54,
    "start_time": "2022-05-13T13:33:40.038Z"
   },
   {
    "duration": 16,
    "start_time": "2022-05-13T13:33:40.380Z"
   },
   {
    "duration": 3,
    "start_time": "2022-05-13T13:33:40.882Z"
   },
   {
    "duration": 10,
    "start_time": "2022-05-13T13:33:40.964Z"
   },
   {
    "duration": 27,
    "start_time": "2022-05-13T13:33:41.130Z"
   },
   {
    "duration": 5,
    "start_time": "2022-05-13T13:33:42.426Z"
   },
   {
    "duration": 5,
    "start_time": "2022-05-13T13:33:42.812Z"
   },
   {
    "duration": 7,
    "start_time": "2022-05-13T13:33:43.050Z"
   },
   {
    "duration": 42,
    "start_time": "2022-05-13T13:33:43.516Z"
   },
   {
    "duration": 6,
    "start_time": "2022-05-13T13:33:44.237Z"
   },
   {
    "duration": 8,
    "start_time": "2022-05-13T13:33:44.518Z"
   },
   {
    "duration": 8,
    "start_time": "2022-05-13T13:33:45.801Z"
   },
   {
    "duration": 5,
    "start_time": "2022-05-13T13:33:46.002Z"
   },
   {
    "duration": 15,
    "start_time": "2022-05-13T13:33:46.238Z"
   },
   {
    "duration": 8,
    "start_time": "2022-05-13T13:33:46.786Z"
   },
   {
    "duration": 10,
    "start_time": "2022-05-13T13:33:47.975Z"
   },
   {
    "duration": 32,
    "start_time": "2022-05-13T13:33:48.352Z"
   },
   {
    "duration": 13,
    "start_time": "2022-05-13T13:33:49.001Z"
   },
   {
    "duration": 6,
    "start_time": "2022-05-13T13:34:28.958Z"
   },
   {
    "duration": 5,
    "start_time": "2022-05-13T13:35:15.832Z"
   },
   {
    "duration": 4,
    "start_time": "2022-05-13T13:35:35.347Z"
   },
   {
    "duration": 10,
    "start_time": "2022-05-13T13:35:50.542Z"
   },
   {
    "duration": 25,
    "start_time": "2022-05-13T13:36:01.762Z"
   },
   {
    "duration": 139,
    "start_time": "2022-05-13T13:36:18.588Z"
   },
   {
    "duration": 12,
    "start_time": "2022-05-13T13:36:19.058Z"
   },
   {
    "duration": 11,
    "start_time": "2022-05-13T13:37:49.988Z"
   },
   {
    "duration": 26,
    "start_time": "2022-05-13T13:37:50.450Z"
   },
   {
    "duration": 14,
    "start_time": "2022-05-13T13:37:54.124Z"
   },
   {
    "duration": 1073,
    "start_time": "2022-05-13T13:39:31.807Z"
   },
   {
    "duration": 175,
    "start_time": "2022-05-13T13:39:32.882Z"
   },
   {
    "duration": 111,
    "start_time": "2022-05-13T13:39:33.059Z"
   },
   {
    "duration": 18,
    "start_time": "2022-05-13T13:39:33.172Z"
   },
   {
    "duration": 42,
    "start_time": "2022-05-13T13:39:33.191Z"
   },
   {
    "duration": 34,
    "start_time": "2022-05-13T13:39:33.235Z"
   },
   {
    "duration": 11,
    "start_time": "2022-05-13T13:39:33.271Z"
   },
   {
    "duration": 39,
    "start_time": "2022-05-13T13:39:33.310Z"
   },
   {
    "duration": 14,
    "start_time": "2022-05-13T13:39:33.478Z"
   },
   {
    "duration": 9,
    "start_time": "2022-05-13T13:39:33.561Z"
   },
   {
    "duration": 164,
    "start_time": "2022-05-13T13:39:33.741Z"
   },
   {
    "duration": 94,
    "start_time": "2022-05-13T13:39:33.906Z"
   },
   {
    "duration": 9,
    "start_time": "2022-05-13T13:39:34.002Z"
   },
   {
    "duration": 39,
    "start_time": "2022-05-13T13:39:34.065Z"
   },
   {
    "duration": 15,
    "start_time": "2022-05-13T13:39:34.151Z"
   },
   {
    "duration": 10,
    "start_time": "2022-05-13T13:39:34.597Z"
   },
   {
    "duration": 3,
    "start_time": "2022-05-13T13:39:34.845Z"
   },
   {
    "duration": 4,
    "start_time": "2022-05-13T13:39:35.142Z"
   },
   {
    "duration": 4,
    "start_time": "2022-05-13T13:39:35.686Z"
   },
   {
    "duration": 3,
    "start_time": "2022-05-13T13:39:35.977Z"
   },
   {
    "duration": 10,
    "start_time": "2022-05-13T13:39:36.290Z"
   },
   {
    "duration": 112,
    "start_time": "2022-05-13T13:39:36.825Z"
   },
   {
    "duration": 43,
    "start_time": "2022-05-13T13:39:37.858Z"
   },
   {
    "duration": 31,
    "start_time": "2022-05-13T13:39:38.197Z"
   },
   {
    "duration": 16,
    "start_time": "2022-05-13T13:39:38.512Z"
   },
   {
    "duration": 4,
    "start_time": "2022-05-13T13:39:38.852Z"
   },
   {
    "duration": 9,
    "start_time": "2022-05-13T13:39:39.316Z"
   },
   {
    "duration": 26,
    "start_time": "2022-05-13T13:39:40.595Z"
   },
   {
    "duration": 5,
    "start_time": "2022-05-13T13:39:41.890Z"
   },
   {
    "duration": 4,
    "start_time": "2022-05-13T13:39:42.231Z"
   },
   {
    "duration": 3,
    "start_time": "2022-05-13T13:39:42.641Z"
   },
   {
    "duration": 7,
    "start_time": "2022-05-13T13:39:43.337Z"
   },
   {
    "duration": 42,
    "start_time": "2022-05-13T13:39:45.345Z"
   },
   {
    "duration": 8,
    "start_time": "2022-05-13T13:39:46.091Z"
   },
   {
    "duration": 11,
    "start_time": "2022-05-13T13:39:46.176Z"
   },
   {
    "duration": 5,
    "start_time": "2022-05-13T13:39:46.342Z"
   },
   {
    "duration": 5,
    "start_time": "2022-05-13T13:39:46.428Z"
   },
   {
    "duration": 18,
    "start_time": "2022-05-13T13:39:46.511Z"
   },
   {
    "duration": 8,
    "start_time": "2022-05-13T13:39:46.594Z"
   },
   {
    "duration": 7,
    "start_time": "2022-05-13T13:39:46.763Z"
   },
   {
    "duration": 7,
    "start_time": "2022-05-13T13:39:46.855Z"
   },
   {
    "duration": 11,
    "start_time": "2022-05-13T13:39:47.822Z"
   },
   {
    "duration": 4,
    "start_time": "2022-05-13T13:39:48.446Z"
   },
   {
    "duration": 7,
    "start_time": "2022-05-13T13:39:49.210Z"
   },
   {
    "duration": 16,
    "start_time": "2022-05-13T13:39:49.508Z"
   },
   {
    "duration": 7,
    "start_time": "2022-05-13T13:39:50.406Z"
   },
   {
    "duration": 19,
    "start_time": "2022-05-13T13:39:51.675Z"
   },
   {
    "duration": 3,
    "start_time": "2022-05-13T13:42:53.069Z"
   },
   {
    "duration": 3,
    "start_time": "2022-05-13T13:42:53.699Z"
   },
   {
    "duration": 3,
    "start_time": "2022-05-13T13:42:54.091Z"
   },
   {
    "duration": 45,
    "start_time": "2022-05-13T13:42:54.719Z"
   },
   {
    "duration": 47,
    "start_time": "2022-05-13T13:42:55.023Z"
   },
   {
    "duration": 2602,
    "start_time": "2022-05-13T13:42:55.302Z"
   },
   {
    "duration": 0,
    "start_time": "2022-05-13T13:42:57.906Z"
   },
   {
    "duration": 0,
    "start_time": "2022-05-13T13:42:57.907Z"
   },
   {
    "duration": 0,
    "start_time": "2022-05-13T13:42:57.908Z"
   },
   {
    "duration": 3,
    "start_time": "2022-05-13T13:43:23.546Z"
   },
   {
    "duration": 47,
    "start_time": "2022-05-13T13:43:24.785Z"
   },
   {
    "duration": 46,
    "start_time": "2022-05-13T13:43:25.363Z"
   },
   {
    "duration": 49,
    "start_time": "2022-05-13T13:43:26.052Z"
   },
   {
    "duration": 4,
    "start_time": "2022-05-13T13:43:33.150Z"
   },
   {
    "duration": 8,
    "start_time": "2022-05-13T13:43:33.707Z"
   },
   {
    "duration": 14,
    "start_time": "2022-05-13T13:43:34.077Z"
   },
   {
    "duration": 5,
    "start_time": "2022-05-13T13:43:36.046Z"
   },
   {
    "duration": 16,
    "start_time": "2022-05-13T13:43:37.899Z"
   },
   {
    "duration": 10,
    "start_time": "2022-05-13T13:43:45.460Z"
   },
   {
    "duration": 6,
    "start_time": "2022-05-13T13:43:53.152Z"
   },
   {
    "duration": 14,
    "start_time": "2022-05-13T13:43:54.652Z"
   },
   {
    "duration": 6,
    "start_time": "2022-05-13T13:44:14.887Z"
   },
   {
    "duration": 15,
    "start_time": "2022-05-13T13:44:15.453Z"
   },
   {
    "duration": 15,
    "start_time": "2022-05-13T13:46:51.966Z"
   },
   {
    "duration": 7,
    "start_time": "2022-05-13T13:47:05.118Z"
   },
   {
    "duration": 154,
    "start_time": "2022-05-13T13:47:07.673Z"
   },
   {
    "duration": 136,
    "start_time": "2022-05-13T13:47:22.111Z"
   },
   {
    "duration": 140,
    "start_time": "2022-05-13T13:47:23.061Z"
   },
   {
    "duration": 126,
    "start_time": "2022-05-13T13:47:25.157Z"
   },
   {
    "duration": 4,
    "start_time": "2022-05-13T13:47:29.832Z"
   },
   {
    "duration": 5,
    "start_time": "2022-05-13T13:47:41.727Z"
   },
   {
    "duration": 4,
    "start_time": "2022-05-13T13:47:44.423Z"
   },
   {
    "duration": 7,
    "start_time": "2022-05-13T13:48:10.822Z"
   },
   {
    "duration": 16,
    "start_time": "2022-05-13T13:48:11.099Z"
   },
   {
    "duration": 131,
    "start_time": "2022-05-13T13:48:11.380Z"
   },
   {
    "duration": 141,
    "start_time": "2022-05-13T13:48:12.136Z"
   },
   {
    "duration": 206,
    "start_time": "2022-05-13T13:48:12.940Z"
   },
   {
    "duration": 5,
    "start_time": "2022-05-13T13:48:13.784Z"
   },
   {
    "duration": 5,
    "start_time": "2022-05-13T13:48:14.185Z"
   },
   {
    "duration": 5,
    "start_time": "2022-05-13T13:48:14.630Z"
   },
   {
    "duration": 8,
    "start_time": "2022-05-13T13:51:03.302Z"
   },
   {
    "duration": 14,
    "start_time": "2022-05-13T13:51:05.022Z"
   }
  ],
  "kernelspec": {
   "display_name": "Python 3 (ipykernel)",
   "language": "python",
   "name": "python3"
  },
  "language_info": {
   "codemirror_mode": {
    "name": "ipython",
    "version": 3
   },
   "file_extension": ".py",
   "mimetype": "text/x-python",
   "name": "python",
   "nbconvert_exporter": "python",
   "pygments_lexer": "ipython3",
   "version": "3.7.0"
  },
  "toc": {
   "base_numbering": 1,
   "nav_menu": {},
   "number_sections": true,
   "sideBar": true,
   "skip_h1_title": true,
   "title_cell": "Содержание",
   "title_sidebar": "Contents",
   "toc_cell": true,
   "toc_position": {
    "height": "calc(100% - 180px)",
    "left": "10px",
    "top": "150px",
    "width": "318.398px"
   },
   "toc_section_display": true,
   "toc_window_display": true
  }
 },
 "nbformat": 4,
 "nbformat_minor": 2
}
