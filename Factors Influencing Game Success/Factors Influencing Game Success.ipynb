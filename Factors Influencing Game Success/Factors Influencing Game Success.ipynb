{
 "cells": [
  {
   "cell_type": "markdown",
   "metadata": {
    "toc": true
   },
   "source": [
    "<h1>Содержание<span class=\"tocSkip\"></span></h1>\n",
    "<div class=\"toc\"><ul class=\"toc-item\"><li><span><a href=\"#Получение-датасета\" data-toc-modified-id=\"Получение-датасета-1\"><span class=\"toc-item-num\">1&nbsp;&nbsp;</span>Получение датасета</a></span></li><li><span><a href=\"#Описание-данных\" data-toc-modified-id=\"Описание-данных-2\"><span class=\"toc-item-num\">2&nbsp;&nbsp;</span>Описание данных</a></span></li><li><span><a href=\"#Предобработка-данных\" data-toc-modified-id=\"Предобработка-данных-3\"><span class=\"toc-item-num\">3&nbsp;&nbsp;</span>Предобработка данных</a></span><ul class=\"toc-item\"><li><span><a href=\"#name\" data-toc-modified-id=\"name-3.1\"><span class=\"toc-item-num\">3.1&nbsp;&nbsp;</span>name</a></span></li><li><span><a href=\"#year_of_release\" data-toc-modified-id=\"year_of_release-3.2\"><span class=\"toc-item-num\">3.2&nbsp;&nbsp;</span>year_of_release</a></span></li><li><span><a href=\"#critic_score\" data-toc-modified-id=\"critic_score-3.3\"><span class=\"toc-item-num\">3.3&nbsp;&nbsp;</span>critic_score</a></span></li><li><span><a href=\"#user_score\" data-toc-modified-id=\"user_score-3.4\"><span class=\"toc-item-num\">3.4&nbsp;&nbsp;</span>user_score</a></span></li><li><span><a href=\"#rating\" data-toc-modified-id=\"rating-3.5\"><span class=\"toc-item-num\">3.5&nbsp;&nbsp;</span>rating</a></span></li><li><span><a href=\"#full_sales\" data-toc-modified-id=\"full_sales-3.6\"><span class=\"toc-item-num\">3.6&nbsp;&nbsp;</span>full_sales</a></span></li><li><span><a href=\"#platform\" data-toc-modified-id=\"platform-3.7\"><span class=\"toc-item-num\">3.7&nbsp;&nbsp;</span>platform</a></span></li><li><span><a href=\"#genre\" data-toc-modified-id=\"genre-3.8\"><span class=\"toc-item-num\">3.8&nbsp;&nbsp;</span>genre</a></span></li></ul></li><li><span><a href=\"#Исследовательский-анализ-данных\" data-toc-modified-id=\"Исследовательский-анализ-данных-4\"><span class=\"toc-item-num\">4&nbsp;&nbsp;</span>Исследовательский анализ данных</a></span></li><li><span><a href=\"#Анализ-портрета-пользователя\" data-toc-modified-id=\"Анализ-портрета-пользователя-5\"><span class=\"toc-item-num\">5&nbsp;&nbsp;</span>Анализ портрета пользователя</a></span></li><li><span><a href=\"#Проверка-гипотез\" data-toc-modified-id=\"Проверка-гипотез-6\"><span class=\"toc-item-num\">6&nbsp;&nbsp;</span>Проверка гипотез</a></span></li><li><span><a href=\"#Общий-вывод\" data-toc-modified-id=\"Общий-вывод-7\"><span class=\"toc-item-num\">7&nbsp;&nbsp;</span>Общий вывод</a></span></li></ul></div>"
   ]
  },
  {
   "cell_type": "markdown",
   "metadata": {},
   "source": [
    "# Выявление определяющих успешность игры закономерностей\n",
    "\n",
    "Из открытых источников доступны исторические данные о продажах игр, оценки пользователей и экспертов, жанры и платформы (например, Xbox или PlayStation). Цель - выявить определяющие успешность игры закономерности. \n"
   ]
  },
  {
   "cell_type": "markdown",
   "metadata": {},
   "source": [
    "Так же нужно отсеять неактуальные данные - выделить период, по которому можно будет сделать прогноз на предстоящий год."
   ]
  },
  {
   "cell_type": "markdown",
   "metadata": {},
   "source": [
    "Подзадачи будут следующие:\n",
    "\n",
    "1. Составить портрет пользователя каждого региона.\n",
    "2. Определите для пользователя каждого региона (NA, EU, JP):\n",
    " - Ответить на вопрос: \"влияют ли оценки критиков и пользователей на продажи самых прибыльных платформ и иных платформ?\".\n",
    " - Самые популярные платформы (топ-5).\n",
    " - Самые популярные жанры (топ-5).\n",
    " \n",
    " \n",
    "3. Проверить гипотезы:\n",
    " - Средние пользовательские рейтинги платформ Xbox One и PC одинаковые.\n",
    " - Средние пользовательские рейтинги жанров Action (англ. «действие», экшен-игры) и Sports (англ. «спортивные соревнования») разные."
   ]
  },
  {
   "cell_type": "code",
   "execution_count": 1,
   "metadata": {},
   "outputs": [],
   "source": [
    "import pandas as pd\n",
    "%matplotlib inline\n",
    "import matplotlib.pyplot as plt\n",
    "import datetime\n",
    "from pandas.plotting import scatter_matrix \n",
    "import numpy as np\n",
    "from scipy import stats as st\n",
    "import re\n",
    "import seaborn\n"
   ]
  },
  {
   "cell_type": "markdown",
   "metadata": {},
   "source": [
    "## Получение датасета "
   ]
  },
  {
   "cell_type": "code",
   "execution_count": 2,
   "metadata": {},
   "outputs": [
    {
     "data": {
      "text/html": [
       "<div>\n",
       "<style scoped>\n",
       "    .dataframe tbody tr th:only-of-type {\n",
       "        vertical-align: middle;\n",
       "    }\n",
       "\n",
       "    .dataframe tbody tr th {\n",
       "        vertical-align: top;\n",
       "    }\n",
       "\n",
       "    .dataframe thead th {\n",
       "        text-align: right;\n",
       "    }\n",
       "</style>\n",
       "<table border=\"1\" class=\"dataframe\">\n",
       "  <thead>\n",
       "    <tr style=\"text-align: right;\">\n",
       "      <th></th>\n",
       "      <th>Name</th>\n",
       "      <th>Platform</th>\n",
       "      <th>Year_of_Release</th>\n",
       "      <th>Genre</th>\n",
       "      <th>NA_sales</th>\n",
       "      <th>EU_sales</th>\n",
       "      <th>JP_sales</th>\n",
       "      <th>Other_sales</th>\n",
       "      <th>Critic_Score</th>\n",
       "      <th>User_Score</th>\n",
       "      <th>Rating</th>\n",
       "    </tr>\n",
       "  </thead>\n",
       "  <tbody>\n",
       "    <tr>\n",
       "      <th>0</th>\n",
       "      <td>Wii Sports</td>\n",
       "      <td>Wii</td>\n",
       "      <td>2006.0</td>\n",
       "      <td>Sports</td>\n",
       "      <td>41.36</td>\n",
       "      <td>28.96</td>\n",
       "      <td>3.77</td>\n",
       "      <td>8.45</td>\n",
       "      <td>76.0</td>\n",
       "      <td>8</td>\n",
       "      <td>E</td>\n",
       "    </tr>\n",
       "    <tr>\n",
       "      <th>1</th>\n",
       "      <td>Super Mario Bros.</td>\n",
       "      <td>NES</td>\n",
       "      <td>1985.0</td>\n",
       "      <td>Platform</td>\n",
       "      <td>29.08</td>\n",
       "      <td>3.58</td>\n",
       "      <td>6.81</td>\n",
       "      <td>0.77</td>\n",
       "      <td>NaN</td>\n",
       "      <td>NaN</td>\n",
       "      <td>NaN</td>\n",
       "    </tr>\n",
       "    <tr>\n",
       "      <th>2</th>\n",
       "      <td>Mario Kart Wii</td>\n",
       "      <td>Wii</td>\n",
       "      <td>2008.0</td>\n",
       "      <td>Racing</td>\n",
       "      <td>15.68</td>\n",
       "      <td>12.76</td>\n",
       "      <td>3.79</td>\n",
       "      <td>3.29</td>\n",
       "      <td>82.0</td>\n",
       "      <td>8.3</td>\n",
       "      <td>E</td>\n",
       "    </tr>\n",
       "    <tr>\n",
       "      <th>3</th>\n",
       "      <td>Wii Sports Resort</td>\n",
       "      <td>Wii</td>\n",
       "      <td>2009.0</td>\n",
       "      <td>Sports</td>\n",
       "      <td>15.61</td>\n",
       "      <td>10.93</td>\n",
       "      <td>3.28</td>\n",
       "      <td>2.95</td>\n",
       "      <td>80.0</td>\n",
       "      <td>8</td>\n",
       "      <td>E</td>\n",
       "    </tr>\n",
       "    <tr>\n",
       "      <th>4</th>\n",
       "      <td>Pokemon Red/Pokemon Blue</td>\n",
       "      <td>GB</td>\n",
       "      <td>1996.0</td>\n",
       "      <td>Role-Playing</td>\n",
       "      <td>11.27</td>\n",
       "      <td>8.89</td>\n",
       "      <td>10.22</td>\n",
       "      <td>1.00</td>\n",
       "      <td>NaN</td>\n",
       "      <td>NaN</td>\n",
       "      <td>NaN</td>\n",
       "    </tr>\n",
       "    <tr>\n",
       "      <th>...</th>\n",
       "      <td>...</td>\n",
       "      <td>...</td>\n",
       "      <td>...</td>\n",
       "      <td>...</td>\n",
       "      <td>...</td>\n",
       "      <td>...</td>\n",
       "      <td>...</td>\n",
       "      <td>...</td>\n",
       "      <td>...</td>\n",
       "      <td>...</td>\n",
       "      <td>...</td>\n",
       "    </tr>\n",
       "    <tr>\n",
       "      <th>16710</th>\n",
       "      <td>Samurai Warriors: Sanada Maru</td>\n",
       "      <td>PS3</td>\n",
       "      <td>2016.0</td>\n",
       "      <td>Action</td>\n",
       "      <td>0.00</td>\n",
       "      <td>0.00</td>\n",
       "      <td>0.01</td>\n",
       "      <td>0.00</td>\n",
       "      <td>NaN</td>\n",
       "      <td>NaN</td>\n",
       "      <td>NaN</td>\n",
       "    </tr>\n",
       "    <tr>\n",
       "      <th>16711</th>\n",
       "      <td>LMA Manager 2007</td>\n",
       "      <td>X360</td>\n",
       "      <td>2006.0</td>\n",
       "      <td>Sports</td>\n",
       "      <td>0.00</td>\n",
       "      <td>0.01</td>\n",
       "      <td>0.00</td>\n",
       "      <td>0.00</td>\n",
       "      <td>NaN</td>\n",
       "      <td>NaN</td>\n",
       "      <td>NaN</td>\n",
       "    </tr>\n",
       "    <tr>\n",
       "      <th>16712</th>\n",
       "      <td>Haitaka no Psychedelica</td>\n",
       "      <td>PSV</td>\n",
       "      <td>2016.0</td>\n",
       "      <td>Adventure</td>\n",
       "      <td>0.00</td>\n",
       "      <td>0.00</td>\n",
       "      <td>0.01</td>\n",
       "      <td>0.00</td>\n",
       "      <td>NaN</td>\n",
       "      <td>NaN</td>\n",
       "      <td>NaN</td>\n",
       "    </tr>\n",
       "    <tr>\n",
       "      <th>16713</th>\n",
       "      <td>Spirits &amp; Spells</td>\n",
       "      <td>GBA</td>\n",
       "      <td>2003.0</td>\n",
       "      <td>Platform</td>\n",
       "      <td>0.01</td>\n",
       "      <td>0.00</td>\n",
       "      <td>0.00</td>\n",
       "      <td>0.00</td>\n",
       "      <td>NaN</td>\n",
       "      <td>NaN</td>\n",
       "      <td>NaN</td>\n",
       "    </tr>\n",
       "    <tr>\n",
       "      <th>16714</th>\n",
       "      <td>Winning Post 8 2016</td>\n",
       "      <td>PSV</td>\n",
       "      <td>2016.0</td>\n",
       "      <td>Simulation</td>\n",
       "      <td>0.00</td>\n",
       "      <td>0.00</td>\n",
       "      <td>0.01</td>\n",
       "      <td>0.00</td>\n",
       "      <td>NaN</td>\n",
       "      <td>NaN</td>\n",
       "      <td>NaN</td>\n",
       "    </tr>\n",
       "  </tbody>\n",
       "</table>\n",
       "<p>16715 rows × 11 columns</p>\n",
       "</div>"
      ],
      "text/plain": [
       "                                Name Platform  Year_of_Release         Genre  \\\n",
       "0                         Wii Sports      Wii           2006.0        Sports   \n",
       "1                  Super Mario Bros.      NES           1985.0      Platform   \n",
       "2                     Mario Kart Wii      Wii           2008.0        Racing   \n",
       "3                  Wii Sports Resort      Wii           2009.0        Sports   \n",
       "4           Pokemon Red/Pokemon Blue       GB           1996.0  Role-Playing   \n",
       "...                              ...      ...              ...           ...   \n",
       "16710  Samurai Warriors: Sanada Maru      PS3           2016.0        Action   \n",
       "16711               LMA Manager 2007     X360           2006.0        Sports   \n",
       "16712        Haitaka no Psychedelica      PSV           2016.0     Adventure   \n",
       "16713               Spirits & Spells      GBA           2003.0      Platform   \n",
       "16714            Winning Post 8 2016      PSV           2016.0    Simulation   \n",
       "\n",
       "       NA_sales  EU_sales  JP_sales  Other_sales  Critic_Score User_Score  \\\n",
       "0         41.36     28.96      3.77         8.45          76.0          8   \n",
       "1         29.08      3.58      6.81         0.77           NaN        NaN   \n",
       "2         15.68     12.76      3.79         3.29          82.0        8.3   \n",
       "3         15.61     10.93      3.28         2.95          80.0          8   \n",
       "4         11.27      8.89     10.22         1.00           NaN        NaN   \n",
       "...         ...       ...       ...          ...           ...        ...   \n",
       "16710      0.00      0.00      0.01         0.00           NaN        NaN   \n",
       "16711      0.00      0.01      0.00         0.00           NaN        NaN   \n",
       "16712      0.00      0.00      0.01         0.00           NaN        NaN   \n",
       "16713      0.01      0.00      0.00         0.00           NaN        NaN   \n",
       "16714      0.00      0.00      0.01         0.00           NaN        NaN   \n",
       "\n",
       "      Rating  \n",
       "0          E  \n",
       "1        NaN  \n",
       "2          E  \n",
       "3          E  \n",
       "4        NaN  \n",
       "...      ...  \n",
       "16710    NaN  \n",
       "16711    NaN  \n",
       "16712    NaN  \n",
       "16713    NaN  \n",
       "16714    NaN  \n",
       "\n",
       "[16715 rows x 11 columns]"
      ]
     },
     "metadata": {},
     "output_type": "display_data"
    }
   ],
   "source": [
    "df = pd.read_csv('/datasets/games.csv')\n",
    "display(df)"
   ]
  },
  {
   "cell_type": "markdown",
   "metadata": {},
   "source": [
    "## Описание данных "
   ]
  },
  {
   "cell_type": "markdown",
   "metadata": {},
   "source": [
    "`Name` — название игры\n",
    "\n",
    "`Platform` — платформа\n",
    "\n",
    "`Year_of_Release` — год выпуска\n",
    "\n",
    "`Genre` — жанр игры\n",
    "\n",
    "`NA_sales` — продажи в Северной Америке (миллионы проданных копий)\n",
    "\n",
    "`EU_sales` — продажи в Европе (миллионы проданных копий)\n",
    "\n",
    "`JP_sales` — продажи в Японии (миллионы проданных копий)\n",
    "\n",
    "`Other_sales` — продажи в других странах (миллионы проданных копий)\n",
    "\n",
    "`Critic_Score` — оценка критиков (максимум 100)\n",
    "\n",
    "`User_Score` — оценка пользователей (максимум 10)\n",
    "\n",
    "`Rating` — рейтинг от организации ESRB (англ. Entertainment Software Rating Board). Эта ассоциация определяет рейтинг компьютерных игр и присваивает им подходящую возрастную категорию."
   ]
  },
  {
   "cell_type": "markdown",
   "metadata": {},
   "source": [
    "## Предобработка данных "
   ]
  },
  {
   "cell_type": "code",
   "execution_count": 3,
   "metadata": {},
   "outputs": [
    {
     "name": "stdout",
     "output_type": "stream",
     "text": [
      "Информация о типе данных:\n",
      "<class 'pandas.core.frame.DataFrame'>\n",
      "RangeIndex: 16715 entries, 0 to 16714\n",
      "Data columns (total 11 columns):\n",
      " #   Column           Non-Null Count  Dtype  \n",
      "---  ------           --------------  -----  \n",
      " 0   Name             16713 non-null  object \n",
      " 1   Platform         16715 non-null  object \n",
      " 2   Year_of_Release  16446 non-null  float64\n",
      " 3   Genre            16713 non-null  object \n",
      " 4   NA_sales         16715 non-null  float64\n",
      " 5   EU_sales         16715 non-null  float64\n",
      " 6   JP_sales         16715 non-null  float64\n",
      " 7   Other_sales      16715 non-null  float64\n",
      " 8   Critic_Score     8137 non-null   float64\n",
      " 9   User_Score       10014 non-null  object \n",
      " 10  Rating           9949 non-null   object \n",
      "dtypes: float64(6), object(5)\n",
      "memory usage: 1.4+ MB\n"
     ]
    }
   ],
   "source": [
    "print('Информация о типе данных:')\n",
    "df.info()"
   ]
  },
  {
   "cell_type": "code",
   "execution_count": 4,
   "metadata": {},
   "outputs": [],
   "source": [
    "df.columns = ['name', 'platform', 'year_of_release', 'genre', 'na_sales', 'eu_sales', 'jp_sales', 'other_sales', 'critic_score', 'user_score', 'rating']"
   ]
  },
  {
   "cell_type": "code",
   "execution_count": 5,
   "metadata": {},
   "outputs": [
    {
     "name": "stdout",
     "output_type": "stream",
     "text": [
      "Количество пропусков в данных:\n",
      "name                  2\n",
      "platform              0\n",
      "year_of_release     269\n",
      "genre                 2\n",
      "na_sales              0\n",
      "eu_sales              0\n",
      "jp_sales              0\n",
      "other_sales           0\n",
      "critic_score       8578\n",
      "user_score         6701\n",
      "rating             6766\n",
      "dtype: int64\n"
     ]
    }
   ],
   "source": [
    "print('Количество пропусков в данных:')\n",
    "print(df.isna().sum())\n"
   ]
  },
  {
   "cell_type": "code",
   "execution_count": 6,
   "metadata": {},
   "outputs": [
    {
     "name": "stdout",
     "output_type": "stream",
     "text": [
      "Количество дубликатов:\n",
      "0\n"
     ]
    }
   ],
   "source": [
    "print('Количество дубликатов:')\n",
    "print(df.duplicated().sum())"
   ]
  },
  {
   "cell_type": "markdown",
   "metadata": {},
   "source": [
    "### name "
   ]
  },
  {
   "cell_type": "markdown",
   "metadata": {},
   "source": [
    "Строки таблицы, с пропусками в столбце 'name':"
   ]
  },
  {
   "cell_type": "code",
   "execution_count": 7,
   "metadata": {},
   "outputs": [
    {
     "data": {
      "text/html": [
       "<div>\n",
       "<style scoped>\n",
       "    .dataframe tbody tr th:only-of-type {\n",
       "        vertical-align: middle;\n",
       "    }\n",
       "\n",
       "    .dataframe tbody tr th {\n",
       "        vertical-align: top;\n",
       "    }\n",
       "\n",
       "    .dataframe thead th {\n",
       "        text-align: right;\n",
       "    }\n",
       "</style>\n",
       "<table border=\"1\" class=\"dataframe\">\n",
       "  <thead>\n",
       "    <tr style=\"text-align: right;\">\n",
       "      <th></th>\n",
       "      <th>name</th>\n",
       "      <th>platform</th>\n",
       "      <th>year_of_release</th>\n",
       "      <th>genre</th>\n",
       "      <th>na_sales</th>\n",
       "      <th>eu_sales</th>\n",
       "      <th>jp_sales</th>\n",
       "      <th>other_sales</th>\n",
       "      <th>critic_score</th>\n",
       "      <th>user_score</th>\n",
       "      <th>rating</th>\n",
       "    </tr>\n",
       "  </thead>\n",
       "  <tbody>\n",
       "    <tr>\n",
       "      <th>659</th>\n",
       "      <td>NaN</td>\n",
       "      <td>GEN</td>\n",
       "      <td>1993.0</td>\n",
       "      <td>NaN</td>\n",
       "      <td>1.78</td>\n",
       "      <td>0.53</td>\n",
       "      <td>0.00</td>\n",
       "      <td>0.08</td>\n",
       "      <td>NaN</td>\n",
       "      <td>NaN</td>\n",
       "      <td>NaN</td>\n",
       "    </tr>\n",
       "    <tr>\n",
       "      <th>14244</th>\n",
       "      <td>NaN</td>\n",
       "      <td>GEN</td>\n",
       "      <td>1993.0</td>\n",
       "      <td>NaN</td>\n",
       "      <td>0.00</td>\n",
       "      <td>0.00</td>\n",
       "      <td>0.03</td>\n",
       "      <td>0.00</td>\n",
       "      <td>NaN</td>\n",
       "      <td>NaN</td>\n",
       "      <td>NaN</td>\n",
       "    </tr>\n",
       "  </tbody>\n",
       "</table>\n",
       "</div>"
      ],
      "text/plain": [
       "      name platform  year_of_release genre  na_sales  eu_sales  jp_sales  \\\n",
       "659    NaN      GEN           1993.0   NaN      1.78      0.53      0.00   \n",
       "14244  NaN      GEN           1993.0   NaN      0.00      0.00      0.03   \n",
       "\n",
       "       other_sales  critic_score user_score rating  \n",
       "659           0.08           NaN        NaN    NaN  \n",
       "14244         0.00           NaN        NaN    NaN  "
      ]
     },
     "metadata": {},
     "output_type": "display_data"
    }
   ],
   "source": [
    "display(df[df['name'].isna() == True])"
   ]
  },
  {
   "cell_type": "markdown",
   "metadata": {},
   "source": [
    "Эти строки можно удалить, они не несут актуальной для нашего проекта информации."
   ]
  },
  {
   "cell_type": "code",
   "execution_count": 8,
   "metadata": {},
   "outputs": [],
   "source": [
    "df.drop(list(df[df['name'].isna() == True].index), axis=0, inplace=True)"
   ]
  },
  {
   "cell_type": "code",
   "execution_count": 9,
   "metadata": {},
   "outputs": [],
   "source": [
    "df = df.reset_index()"
   ]
  },
  {
   "cell_type": "markdown",
   "metadata": {},
   "source": [
    "### year_of_release"
   ]
  },
  {
   "cell_type": "markdown",
   "metadata": {},
   "source": [
    "Строки таблицы, с пропусками в столбце 'year_of_release':"
   ]
  },
  {
   "cell_type": "code",
   "execution_count": 10,
   "metadata": {},
   "outputs": [
    {
     "data": {
      "text/html": [
       "<div>\n",
       "<style scoped>\n",
       "    .dataframe tbody tr th:only-of-type {\n",
       "        vertical-align: middle;\n",
       "    }\n",
       "\n",
       "    .dataframe tbody tr th {\n",
       "        vertical-align: top;\n",
       "    }\n",
       "\n",
       "    .dataframe thead th {\n",
       "        text-align: right;\n",
       "    }\n",
       "</style>\n",
       "<table border=\"1\" class=\"dataframe\">\n",
       "  <thead>\n",
       "    <tr style=\"text-align: right;\">\n",
       "      <th></th>\n",
       "      <th>index</th>\n",
       "      <th>name</th>\n",
       "      <th>platform</th>\n",
       "      <th>year_of_release</th>\n",
       "      <th>genre</th>\n",
       "      <th>na_sales</th>\n",
       "      <th>eu_sales</th>\n",
       "      <th>jp_sales</th>\n",
       "      <th>other_sales</th>\n",
       "      <th>critic_score</th>\n",
       "      <th>user_score</th>\n",
       "      <th>rating</th>\n",
       "    </tr>\n",
       "  </thead>\n",
       "  <tbody>\n",
       "    <tr>\n",
       "      <th>183</th>\n",
       "      <td>183</td>\n",
       "      <td>Madden NFL 2004</td>\n",
       "      <td>PS2</td>\n",
       "      <td>NaN</td>\n",
       "      <td>Sports</td>\n",
       "      <td>4.26</td>\n",
       "      <td>0.26</td>\n",
       "      <td>0.01</td>\n",
       "      <td>0.71</td>\n",
       "      <td>94.0</td>\n",
       "      <td>8.5</td>\n",
       "      <td>E</td>\n",
       "    </tr>\n",
       "    <tr>\n",
       "      <th>377</th>\n",
       "      <td>377</td>\n",
       "      <td>FIFA Soccer 2004</td>\n",
       "      <td>PS2</td>\n",
       "      <td>NaN</td>\n",
       "      <td>Sports</td>\n",
       "      <td>0.59</td>\n",
       "      <td>2.36</td>\n",
       "      <td>0.04</td>\n",
       "      <td>0.51</td>\n",
       "      <td>84.0</td>\n",
       "      <td>6.4</td>\n",
       "      <td>E</td>\n",
       "    </tr>\n",
       "    <tr>\n",
       "      <th>456</th>\n",
       "      <td>456</td>\n",
       "      <td>LEGO Batman: The Videogame</td>\n",
       "      <td>Wii</td>\n",
       "      <td>NaN</td>\n",
       "      <td>Action</td>\n",
       "      <td>1.80</td>\n",
       "      <td>0.97</td>\n",
       "      <td>0.00</td>\n",
       "      <td>0.29</td>\n",
       "      <td>74.0</td>\n",
       "      <td>7.9</td>\n",
       "      <td>E10+</td>\n",
       "    </tr>\n",
       "    <tr>\n",
       "      <th>475</th>\n",
       "      <td>475</td>\n",
       "      <td>wwe Smackdown vs. Raw 2006</td>\n",
       "      <td>PS2</td>\n",
       "      <td>NaN</td>\n",
       "      <td>Fighting</td>\n",
       "      <td>1.57</td>\n",
       "      <td>1.02</td>\n",
       "      <td>0.00</td>\n",
       "      <td>0.41</td>\n",
       "      <td>NaN</td>\n",
       "      <td>NaN</td>\n",
       "      <td>NaN</td>\n",
       "    </tr>\n",
       "    <tr>\n",
       "      <th>609</th>\n",
       "      <td>609</td>\n",
       "      <td>Space Invaders</td>\n",
       "      <td>2600</td>\n",
       "      <td>NaN</td>\n",
       "      <td>Shooter</td>\n",
       "      <td>2.36</td>\n",
       "      <td>0.14</td>\n",
       "      <td>0.00</td>\n",
       "      <td>0.03</td>\n",
       "      <td>NaN</td>\n",
       "      <td>NaN</td>\n",
       "      <td>NaN</td>\n",
       "    </tr>\n",
       "    <tr>\n",
       "      <th>...</th>\n",
       "      <td>...</td>\n",
       "      <td>...</td>\n",
       "      <td>...</td>\n",
       "      <td>...</td>\n",
       "      <td>...</td>\n",
       "      <td>...</td>\n",
       "      <td>...</td>\n",
       "      <td>...</td>\n",
       "      <td>...</td>\n",
       "      <td>...</td>\n",
       "      <td>...</td>\n",
       "      <td>...</td>\n",
       "    </tr>\n",
       "    <tr>\n",
       "      <th>16371</th>\n",
       "      <td>16373</td>\n",
       "      <td>PDC World Championship Darts 2008</td>\n",
       "      <td>PSP</td>\n",
       "      <td>NaN</td>\n",
       "      <td>Sports</td>\n",
       "      <td>0.01</td>\n",
       "      <td>0.00</td>\n",
       "      <td>0.00</td>\n",
       "      <td>0.00</td>\n",
       "      <td>43.0</td>\n",
       "      <td>tbd</td>\n",
       "      <td>E10+</td>\n",
       "    </tr>\n",
       "    <tr>\n",
       "      <th>16403</th>\n",
       "      <td>16405</td>\n",
       "      <td>Freaky Flyers</td>\n",
       "      <td>GC</td>\n",
       "      <td>NaN</td>\n",
       "      <td>Racing</td>\n",
       "      <td>0.01</td>\n",
       "      <td>0.00</td>\n",
       "      <td>0.00</td>\n",
       "      <td>0.00</td>\n",
       "      <td>69.0</td>\n",
       "      <td>6.5</td>\n",
       "      <td>T</td>\n",
       "    </tr>\n",
       "    <tr>\n",
       "      <th>16446</th>\n",
       "      <td>16448</td>\n",
       "      <td>Inversion</td>\n",
       "      <td>PC</td>\n",
       "      <td>NaN</td>\n",
       "      <td>Shooter</td>\n",
       "      <td>0.01</td>\n",
       "      <td>0.00</td>\n",
       "      <td>0.00</td>\n",
       "      <td>0.00</td>\n",
       "      <td>59.0</td>\n",
       "      <td>6.7</td>\n",
       "      <td>M</td>\n",
       "    </tr>\n",
       "    <tr>\n",
       "      <th>16456</th>\n",
       "      <td>16458</td>\n",
       "      <td>Hakuouki: Shinsengumi Kitan</td>\n",
       "      <td>PS3</td>\n",
       "      <td>NaN</td>\n",
       "      <td>Adventure</td>\n",
       "      <td>0.01</td>\n",
       "      <td>0.00</td>\n",
       "      <td>0.00</td>\n",
       "      <td>0.00</td>\n",
       "      <td>NaN</td>\n",
       "      <td>NaN</td>\n",
       "      <td>NaN</td>\n",
       "    </tr>\n",
       "    <tr>\n",
       "      <th>16520</th>\n",
       "      <td>16522</td>\n",
       "      <td>Virtua Quest</td>\n",
       "      <td>GC</td>\n",
       "      <td>NaN</td>\n",
       "      <td>Role-Playing</td>\n",
       "      <td>0.01</td>\n",
       "      <td>0.00</td>\n",
       "      <td>0.00</td>\n",
       "      <td>0.00</td>\n",
       "      <td>55.0</td>\n",
       "      <td>5.5</td>\n",
       "      <td>T</td>\n",
       "    </tr>\n",
       "  </tbody>\n",
       "</table>\n",
       "<p>269 rows × 12 columns</p>\n",
       "</div>"
      ],
      "text/plain": [
       "       index                               name platform  year_of_release  \\\n",
       "183      183                    Madden NFL 2004      PS2              NaN   \n",
       "377      377                   FIFA Soccer 2004      PS2              NaN   \n",
       "456      456         LEGO Batman: The Videogame      Wii              NaN   \n",
       "475      475         wwe Smackdown vs. Raw 2006      PS2              NaN   \n",
       "609      609                     Space Invaders     2600              NaN   \n",
       "...      ...                                ...      ...              ...   \n",
       "16371  16373  PDC World Championship Darts 2008      PSP              NaN   \n",
       "16403  16405                      Freaky Flyers       GC              NaN   \n",
       "16446  16448                          Inversion       PC              NaN   \n",
       "16456  16458        Hakuouki: Shinsengumi Kitan      PS3              NaN   \n",
       "16520  16522                       Virtua Quest       GC              NaN   \n",
       "\n",
       "              genre  na_sales  eu_sales  jp_sales  other_sales  critic_score  \\\n",
       "183          Sports      4.26      0.26      0.01         0.71          94.0   \n",
       "377          Sports      0.59      2.36      0.04         0.51          84.0   \n",
       "456          Action      1.80      0.97      0.00         0.29          74.0   \n",
       "475        Fighting      1.57      1.02      0.00         0.41           NaN   \n",
       "609         Shooter      2.36      0.14      0.00         0.03           NaN   \n",
       "...             ...       ...       ...       ...          ...           ...   \n",
       "16371        Sports      0.01      0.00      0.00         0.00          43.0   \n",
       "16403        Racing      0.01      0.00      0.00         0.00          69.0   \n",
       "16446       Shooter      0.01      0.00      0.00         0.00          59.0   \n",
       "16456     Adventure      0.01      0.00      0.00         0.00           NaN   \n",
       "16520  Role-Playing      0.01      0.00      0.00         0.00          55.0   \n",
       "\n",
       "      user_score rating  \n",
       "183          8.5      E  \n",
       "377          6.4      E  \n",
       "456          7.9   E10+  \n",
       "475          NaN    NaN  \n",
       "609          NaN    NaN  \n",
       "...          ...    ...  \n",
       "16371        tbd   E10+  \n",
       "16403        6.5      T  \n",
       "16446        6.7      M  \n",
       "16456        NaN    NaN  \n",
       "16520        5.5      T  \n",
       "\n",
       "[269 rows x 12 columns]"
      ]
     },
     "metadata": {},
     "output_type": "display_data"
    }
   ],
   "source": [
    "display(df[df['year_of_release'].isna() == True])"
   ]
  },
  {
   "cell_type": "markdown",
   "metadata": {},
   "source": [
    "Для начала заменим пропущенные значения на ноль, изменим тип на \"целочисленный\"."
   ]
  },
  {
   "cell_type": "code",
   "execution_count": 11,
   "metadata": {},
   "outputs": [],
   "source": [
    "df['year_of_release'] = df['year_of_release'].fillna(0)\n",
    "df['year_of_release'] = df['year_of_release'].astype('int')"
   ]
  },
  {
   "cell_type": "markdown",
   "metadata": {},
   "source": [
    "В столбце 'name', в некоторых строках есть данные о годе выпуска игры, извлечем эти данные и подставим в столбец 'year_of_release' в строки с нулевым значением."
   ]
  },
  {
   "cell_type": "code",
   "execution_count": 12,
   "metadata": {},
   "outputs": [
    {
     "name": "stderr",
     "output_type": "stream",
     "text": [
      "/tmp/ipykernel_98/930459581.py:16: SettingWithCopyWarning: \n",
      "A value is trying to be set on a copy of a slice from a DataFrame\n",
      "\n",
      "See the caveats in the documentation: https://pandas.pydata.org/pandas-docs/stable/user_guide/indexing.html#returning-a-view-versus-a-copy\n",
      "  df['year_of_release'][i] = s1\n",
      "/tmp/ipykernel_98/930459581.py:20: SettingWithCopyWarning: \n",
      "A value is trying to be set on a copy of a slice from a DataFrame\n",
      "\n",
      "See the caveats in the documentation: https://pandas.pydata.org/pandas-docs/stable/user_guide/indexing.html#returning-a-view-versus-a-copy\n",
      "  df['year_of_release'][i] = 0\n"
     ]
    }
   ],
   "source": [
    "for i in range(len(df)):\n",
    "    \n",
    "    if df['year_of_release'][i] == 0:\n",
    "        \n",
    "        s = re.findall('(\\d+)', df['name'][i])\n",
    "        \n",
    "        s1 = \"\".join(c for c in s if  c.isdecimal())\n",
    "        \n",
    "        try:\n",
    "            s1 = int(s1)\n",
    "        except:\n",
    "            s1 = 0\n",
    "            \n",
    "        if s1 > 1990 and s1 < 2016:\n",
    "            \n",
    "            df['year_of_release'][i] = s1\n",
    "            \n",
    "        else:\n",
    "            \n",
    "            df['year_of_release'][i] = 0\n",
    "    \n",
    "        "
   ]
  },
  {
   "cell_type": "markdown",
   "metadata": {},
   "source": [
    "### critic_score"
   ]
  },
  {
   "cell_type": "code",
   "execution_count": 13,
   "metadata": {},
   "outputs": [
    {
     "data": {
      "text/plain": [
       "array([76., nan, 82., 80., 89., 58., 87., 91., 61., 97., 95., 77., 88.,\n",
       "       83., 94., 93., 85., 86., 98., 96., 90., 84., 73., 74., 78., 92.,\n",
       "       71., 72., 68., 62., 49., 67., 81., 66., 56., 79., 70., 59., 64.,\n",
       "       75., 60., 63., 69., 50., 25., 42., 44., 55., 48., 57., 29., 47.,\n",
       "       65., 54., 20., 53., 37., 38., 33., 52., 30., 32., 43., 45., 51.,\n",
       "       40., 46., 39., 34., 35., 41., 36., 28., 31., 27., 26., 19., 23.,\n",
       "       24., 21., 17., 22., 13.])"
      ]
     },
     "execution_count": 13,
     "metadata": {},
     "output_type": "execute_result"
    }
   ],
   "source": [
    "df['critic_score'].unique()"
   ]
  },
  {
   "cell_type": "markdown",
   "metadata": {},
   "source": [
    "Заменим пропуски в столбце 'critic_score' на -1, для того чтобы в последствии проще фильтровать данные по этому столбцу."
   ]
  },
  {
   "cell_type": "code",
   "execution_count": 14,
   "metadata": {},
   "outputs": [],
   "source": [
    "df['critic_score'] = df['critic_score'].fillna(-1)"
   ]
  },
  {
   "cell_type": "markdown",
   "metadata": {},
   "source": [
    "Заменим тип данных на \"целочисленный\"."
   ]
  },
  {
   "cell_type": "code",
   "execution_count": 15,
   "metadata": {},
   "outputs": [],
   "source": [
    "df['critic_score'] = df['critic_score'].astype('int')"
   ]
  },
  {
   "cell_type": "markdown",
   "metadata": {},
   "source": [
    "### user_score"
   ]
  },
  {
   "cell_type": "code",
   "execution_count": 16,
   "metadata": {},
   "outputs": [
    {
     "data": {
      "text/plain": [
       "array(['8', nan, '8.3', '8.5', '6.6', '8.4', '8.6', '7.7', '6.3', '7.4',\n",
       "       '8.2', '9', '7.9', '8.1', '8.7', '7.1', '3.4', '5.3', '4.8', '3.2',\n",
       "       '8.9', '6.4', '7.8', '7.5', '2.6', '7.2', '9.2', '7', '7.3', '4.3',\n",
       "       '7.6', '5.7', '5', '9.1', '6.5', 'tbd', '8.8', '6.9', '9.4', '6.8',\n",
       "       '6.1', '6.7', '5.4', '4', '4.9', '4.5', '9.3', '6.2', '4.2', '6',\n",
       "       '3.7', '4.1', '5.8', '5.6', '5.5', '4.4', '4.6', '5.9', '3.9',\n",
       "       '3.1', '2.9', '5.2', '3.3', '4.7', '5.1', '3.5', '2.5', '1.9', '3',\n",
       "       '2.7', '2.2', '2', '9.5', '2.1', '3.6', '2.8', '1.8', '3.8', '0',\n",
       "       '1.6', '9.6', '2.4', '1.7', '1.1', '0.3', '1.5', '0.7', '1.2',\n",
       "       '2.3', '0.5', '1.3', '0.2', '0.6', '1.4', '0.9', '1', '9.7'],\n",
       "      dtype=object)"
      ]
     },
     "execution_count": 16,
     "metadata": {},
     "output_type": "execute_result"
    }
   ],
   "source": [
    "df['user_score'].unique()"
   ]
  },
  {
   "cell_type": "markdown",
   "metadata": {},
   "source": [
    "Превратим строковые значения в числовые, где это возможно.\n",
    "\n",
    "Пропуски заменим на -1, для дальнейшей фильтрации."
   ]
  },
  {
   "cell_type": "code",
   "execution_count": 17,
   "metadata": {},
   "outputs": [],
   "source": [
    "df['user_score'] = pd.to_numeric(df['user_score'], errors='coerce')"
   ]
  },
  {
   "cell_type": "code",
   "execution_count": 18,
   "metadata": {},
   "outputs": [],
   "source": [
    "df['user_score'] = df['user_score'].fillna(-1)"
   ]
  },
  {
   "cell_type": "code",
   "execution_count": 19,
   "metadata": {},
   "outputs": [],
   "source": [
    "df['user_score'] = df['user_score'].astype('float')"
   ]
  },
  {
   "cell_type": "markdown",
   "metadata": {},
   "source": [
    "### rating"
   ]
  },
  {
   "cell_type": "code",
   "execution_count": 20,
   "metadata": {},
   "outputs": [
    {
     "data": {
      "text/plain": [
       "array(['E', nan, 'M', 'T', 'E10+', 'K-A', 'AO', 'EC', 'RP'], dtype=object)"
      ]
     },
     "execution_count": 20,
     "metadata": {},
     "output_type": "execute_result"
    }
   ],
   "source": [
    "df['rating'].unique()"
   ]
  },
  {
   "cell_type": "markdown",
   "metadata": {},
   "source": [
    "Заменим пропуски на ноль."
   ]
  },
  {
   "cell_type": "code",
   "execution_count": 21,
   "metadata": {},
   "outputs": [],
   "source": [
    "df['rating'] = df['rating'].fillna(0)"
   ]
  },
  {
   "cell_type": "markdown",
   "metadata": {},
   "source": [
    "### full_sales"
   ]
  },
  {
   "cell_type": "markdown",
   "metadata": {},
   "source": [
    "Создадим признак 'full_sales' - общие продажи по регионам."
   ]
  },
  {
   "cell_type": "code",
   "execution_count": 22,
   "metadata": {},
   "outputs": [],
   "source": [
    "df['full_sales'] = df['na_sales'] + df['eu_sales'] + df['jp_sales'] + df['other_sales']"
   ]
  },
  {
   "cell_type": "markdown",
   "metadata": {},
   "source": [
    "### platform"
   ]
  },
  {
   "cell_type": "code",
   "execution_count": 23,
   "metadata": {},
   "outputs": [
    {
     "name": "stdout",
     "output_type": "stream",
     "text": [
      "['Wii' 'NES' 'GB' 'DS' 'X360' 'PS3' 'PS2' 'SNES' 'GBA' 'PS4' '3DS' 'N64'\n",
      " 'PS' 'XB' 'PC' '2600' 'PSP' 'XOne' 'WiiU' 'GC' 'GEN' 'DC' 'PSV' 'SAT'\n",
      " 'SCD' 'WS' 'NG' 'TG16' '3DO' 'GG' 'PCFX']\n"
     ]
    }
   ],
   "source": [
    "print(df['platform'].unique())"
   ]
  },
  {
   "cell_type": "markdown",
   "metadata": {},
   "source": [
    "### genre"
   ]
  },
  {
   "cell_type": "code",
   "execution_count": 24,
   "metadata": {},
   "outputs": [
    {
     "name": "stdout",
     "output_type": "stream",
     "text": [
      "['Sports' 'Platform' 'Racing' 'Role-Playing' 'Puzzle' 'Misc' 'Shooter'\n",
      " 'Simulation' 'Action' 'Fighting' 'Adventure' 'Strategy']\n"
     ]
    }
   ],
   "source": [
    "print(df['genre'].unique())"
   ]
  },
  {
   "cell_type": "markdown",
   "metadata": {},
   "source": [
    "##  Исследовательский анализ данных"
   ]
  },
  {
   "cell_type": "code",
   "execution_count": 25,
   "metadata": {},
   "outputs": [
    {
     "data": {
      "text/html": [
       "<div>\n",
       "<style scoped>\n",
       "    .dataframe tbody tr th:only-of-type {\n",
       "        vertical-align: middle;\n",
       "    }\n",
       "\n",
       "    .dataframe tbody tr th {\n",
       "        vertical-align: top;\n",
       "    }\n",
       "\n",
       "    .dataframe thead th {\n",
       "        text-align: right;\n",
       "    }\n",
       "</style>\n",
       "<table border=\"1\" class=\"dataframe\">\n",
       "  <thead>\n",
       "    <tr style=\"text-align: right;\">\n",
       "      <th></th>\n",
       "      <th>index</th>\n",
       "      <th>name</th>\n",
       "      <th>platform</th>\n",
       "      <th>year_of_release</th>\n",
       "      <th>genre</th>\n",
       "      <th>na_sales</th>\n",
       "      <th>eu_sales</th>\n",
       "      <th>jp_sales</th>\n",
       "      <th>other_sales</th>\n",
       "      <th>critic_score</th>\n",
       "      <th>user_score</th>\n",
       "      <th>rating</th>\n",
       "      <th>full_sales</th>\n",
       "    </tr>\n",
       "  </thead>\n",
       "  <tbody>\n",
       "    <tr>\n",
       "      <th>0</th>\n",
       "      <td>0</td>\n",
       "      <td>Wii Sports</td>\n",
       "      <td>Wii</td>\n",
       "      <td>2006</td>\n",
       "      <td>Sports</td>\n",
       "      <td>41.36</td>\n",
       "      <td>28.96</td>\n",
       "      <td>3.77</td>\n",
       "      <td>8.45</td>\n",
       "      <td>76</td>\n",
       "      <td>8.0</td>\n",
       "      <td>E</td>\n",
       "      <td>82.54</td>\n",
       "    </tr>\n",
       "    <tr>\n",
       "      <th>1</th>\n",
       "      <td>1</td>\n",
       "      <td>Super Mario Bros.</td>\n",
       "      <td>NES</td>\n",
       "      <td>1985</td>\n",
       "      <td>Platform</td>\n",
       "      <td>29.08</td>\n",
       "      <td>3.58</td>\n",
       "      <td>6.81</td>\n",
       "      <td>0.77</td>\n",
       "      <td>-1</td>\n",
       "      <td>-1.0</td>\n",
       "      <td>0</td>\n",
       "      <td>40.24</td>\n",
       "    </tr>\n",
       "    <tr>\n",
       "      <th>2</th>\n",
       "      <td>2</td>\n",
       "      <td>Mario Kart Wii</td>\n",
       "      <td>Wii</td>\n",
       "      <td>2008</td>\n",
       "      <td>Racing</td>\n",
       "      <td>15.68</td>\n",
       "      <td>12.76</td>\n",
       "      <td>3.79</td>\n",
       "      <td>3.29</td>\n",
       "      <td>82</td>\n",
       "      <td>8.3</td>\n",
       "      <td>E</td>\n",
       "      <td>35.52</td>\n",
       "    </tr>\n",
       "    <tr>\n",
       "      <th>3</th>\n",
       "      <td>3</td>\n",
       "      <td>Wii Sports Resort</td>\n",
       "      <td>Wii</td>\n",
       "      <td>2009</td>\n",
       "      <td>Sports</td>\n",
       "      <td>15.61</td>\n",
       "      <td>10.93</td>\n",
       "      <td>3.28</td>\n",
       "      <td>2.95</td>\n",
       "      <td>80</td>\n",
       "      <td>8.0</td>\n",
       "      <td>E</td>\n",
       "      <td>32.77</td>\n",
       "    </tr>\n",
       "    <tr>\n",
       "      <th>4</th>\n",
       "      <td>4</td>\n",
       "      <td>Pokemon Red/Pokemon Blue</td>\n",
       "      <td>GB</td>\n",
       "      <td>1996</td>\n",
       "      <td>Role-Playing</td>\n",
       "      <td>11.27</td>\n",
       "      <td>8.89</td>\n",
       "      <td>10.22</td>\n",
       "      <td>1.00</td>\n",
       "      <td>-1</td>\n",
       "      <td>-1.0</td>\n",
       "      <td>0</td>\n",
       "      <td>31.38</td>\n",
       "    </tr>\n",
       "    <tr>\n",
       "      <th>...</th>\n",
       "      <td>...</td>\n",
       "      <td>...</td>\n",
       "      <td>...</td>\n",
       "      <td>...</td>\n",
       "      <td>...</td>\n",
       "      <td>...</td>\n",
       "      <td>...</td>\n",
       "      <td>...</td>\n",
       "      <td>...</td>\n",
       "      <td>...</td>\n",
       "      <td>...</td>\n",
       "      <td>...</td>\n",
       "      <td>...</td>\n",
       "    </tr>\n",
       "    <tr>\n",
       "      <th>16708</th>\n",
       "      <td>16710</td>\n",
       "      <td>Samurai Warriors: Sanada Maru</td>\n",
       "      <td>PS3</td>\n",
       "      <td>2016</td>\n",
       "      <td>Action</td>\n",
       "      <td>0.00</td>\n",
       "      <td>0.00</td>\n",
       "      <td>0.01</td>\n",
       "      <td>0.00</td>\n",
       "      <td>-1</td>\n",
       "      <td>-1.0</td>\n",
       "      <td>0</td>\n",
       "      <td>0.01</td>\n",
       "    </tr>\n",
       "    <tr>\n",
       "      <th>16709</th>\n",
       "      <td>16711</td>\n",
       "      <td>LMA Manager 2007</td>\n",
       "      <td>X360</td>\n",
       "      <td>2006</td>\n",
       "      <td>Sports</td>\n",
       "      <td>0.00</td>\n",
       "      <td>0.01</td>\n",
       "      <td>0.00</td>\n",
       "      <td>0.00</td>\n",
       "      <td>-1</td>\n",
       "      <td>-1.0</td>\n",
       "      <td>0</td>\n",
       "      <td>0.01</td>\n",
       "    </tr>\n",
       "    <tr>\n",
       "      <th>16710</th>\n",
       "      <td>16712</td>\n",
       "      <td>Haitaka no Psychedelica</td>\n",
       "      <td>PSV</td>\n",
       "      <td>2016</td>\n",
       "      <td>Adventure</td>\n",
       "      <td>0.00</td>\n",
       "      <td>0.00</td>\n",
       "      <td>0.01</td>\n",
       "      <td>0.00</td>\n",
       "      <td>-1</td>\n",
       "      <td>-1.0</td>\n",
       "      <td>0</td>\n",
       "      <td>0.01</td>\n",
       "    </tr>\n",
       "    <tr>\n",
       "      <th>16711</th>\n",
       "      <td>16713</td>\n",
       "      <td>Spirits &amp; Spells</td>\n",
       "      <td>GBA</td>\n",
       "      <td>2003</td>\n",
       "      <td>Platform</td>\n",
       "      <td>0.01</td>\n",
       "      <td>0.00</td>\n",
       "      <td>0.00</td>\n",
       "      <td>0.00</td>\n",
       "      <td>-1</td>\n",
       "      <td>-1.0</td>\n",
       "      <td>0</td>\n",
       "      <td>0.01</td>\n",
       "    </tr>\n",
       "    <tr>\n",
       "      <th>16712</th>\n",
       "      <td>16714</td>\n",
       "      <td>Winning Post 8 2016</td>\n",
       "      <td>PSV</td>\n",
       "      <td>2016</td>\n",
       "      <td>Simulation</td>\n",
       "      <td>0.00</td>\n",
       "      <td>0.00</td>\n",
       "      <td>0.01</td>\n",
       "      <td>0.00</td>\n",
       "      <td>-1</td>\n",
       "      <td>-1.0</td>\n",
       "      <td>0</td>\n",
       "      <td>0.01</td>\n",
       "    </tr>\n",
       "  </tbody>\n",
       "</table>\n",
       "<p>16713 rows × 13 columns</p>\n",
       "</div>"
      ],
      "text/plain": [
       "       index                           name platform  year_of_release  \\\n",
       "0          0                     Wii Sports      Wii             2006   \n",
       "1          1              Super Mario Bros.      NES             1985   \n",
       "2          2                 Mario Kart Wii      Wii             2008   \n",
       "3          3              Wii Sports Resort      Wii             2009   \n",
       "4          4       Pokemon Red/Pokemon Blue       GB             1996   \n",
       "...      ...                            ...      ...              ...   \n",
       "16708  16710  Samurai Warriors: Sanada Maru      PS3             2016   \n",
       "16709  16711               LMA Manager 2007     X360             2006   \n",
       "16710  16712        Haitaka no Psychedelica      PSV             2016   \n",
       "16711  16713               Spirits & Spells      GBA             2003   \n",
       "16712  16714            Winning Post 8 2016      PSV             2016   \n",
       "\n",
       "              genre  na_sales  eu_sales  jp_sales  other_sales  critic_score  \\\n",
       "0            Sports     41.36     28.96      3.77         8.45            76   \n",
       "1          Platform     29.08      3.58      6.81         0.77            -1   \n",
       "2            Racing     15.68     12.76      3.79         3.29            82   \n",
       "3            Sports     15.61     10.93      3.28         2.95            80   \n",
       "4      Role-Playing     11.27      8.89     10.22         1.00            -1   \n",
       "...             ...       ...       ...       ...          ...           ...   \n",
       "16708        Action      0.00      0.00      0.01         0.00            -1   \n",
       "16709        Sports      0.00      0.01      0.00         0.00            -1   \n",
       "16710     Adventure      0.00      0.00      0.01         0.00            -1   \n",
       "16711      Platform      0.01      0.00      0.00         0.00            -1   \n",
       "16712    Simulation      0.00      0.00      0.01         0.00            -1   \n",
       "\n",
       "       user_score rating  full_sales  \n",
       "0             8.0      E       82.54  \n",
       "1            -1.0      0       40.24  \n",
       "2             8.3      E       35.52  \n",
       "3             8.0      E       32.77  \n",
       "4            -1.0      0       31.38  \n",
       "...           ...    ...         ...  \n",
       "16708        -1.0      0        0.01  \n",
       "16709        -1.0      0        0.01  \n",
       "16710        -1.0      0        0.01  \n",
       "16711        -1.0      0        0.01  \n",
       "16712        -1.0      0        0.01  \n",
       "\n",
       "[16713 rows x 13 columns]"
      ]
     },
     "metadata": {},
     "output_type": "display_data"
    },
    {
     "name": "stdout",
     "output_type": "stream",
     "text": [
      "<class 'pandas.core.frame.DataFrame'>\n",
      "RangeIndex: 16713 entries, 0 to 16712\n",
      "Data columns (total 13 columns):\n",
      " #   Column           Non-Null Count  Dtype  \n",
      "---  ------           --------------  -----  \n",
      " 0   index            16713 non-null  int64  \n",
      " 1   name             16713 non-null  object \n",
      " 2   platform         16713 non-null  object \n",
      " 3   year_of_release  16713 non-null  int64  \n",
      " 4   genre            16713 non-null  object \n",
      " 5   na_sales         16713 non-null  float64\n",
      " 6   eu_sales         16713 non-null  float64\n",
      " 7   jp_sales         16713 non-null  float64\n",
      " 8   other_sales      16713 non-null  float64\n",
      " 9   critic_score     16713 non-null  int64  \n",
      " 10  user_score       16713 non-null  float64\n",
      " 11  rating           16713 non-null  object \n",
      " 12  full_sales       16713 non-null  float64\n",
      "dtypes: float64(6), int64(3), object(4)\n",
      "memory usage: 1.7+ MB\n"
     ]
    }
   ],
   "source": [
    "display(df)\n",
    "df.info()\n"
   ]
  },
  {
   "cell_type": "code",
   "execution_count": 26,
   "metadata": {},
   "outputs": [
    {
     "data": {
      "image/png": "[encoded data removed]",
      "text/plain": [
       "<Figure size 1152x576 with 1 Axes>"
      ]
     },
     "metadata": {
      "needs_background": "light"
     },
     "output_type": "display_data"
    }
   ],
   "source": [
    "df.groupby('year_of_release')['full_sales'].sum().plot(kind='bar', figsize=(16, 8))\n",
    "\n",
    "plt.ylabel('Количество выпущенных игр')\n",
    "plt.xlabel('Год')\n",
    "plt.title('Распределение игр по году выпуска')\n",
    "plt.show()\n"
   ]
  },
  {
   "cell_type": "code",
   "execution_count": 27,
   "metadata": {},
   "outputs": [],
   "source": [
    "df = df.query('year_of_release > 1994')\n",
    "\n"
   ]
  },
  {
   "cell_type": "markdown",
   "metadata": {},
   "source": [
    "**До 1995 года выпускалось менее 200х игр в год, поэтому данные за более ранние годы не сильно показательны.**"
   ]
  },
  {
   "cell_type": "code",
   "execution_count": 28,
   "metadata": {},
   "outputs": [
    {
     "data": {
      "image/png": "[encoded data removed]",
      "text/plain": [
       "<Figure size 1152x576 with 1 Axes>"
      ]
     },
     "metadata": {
      "needs_background": "light"
     },
     "output_type": "display_data"
    }
   ],
   "source": [
    "df.groupby('platform')['full_sales'].sum().sort_values(ascending=False).plot(kind='bar', figsize=(16, 8))\n",
    "plt.xlabel('Названия игровых платформ')\n",
    "plt.ylabel('Суммарные продажи')\n",
    "plt.title('Распределение суммарных продаж по платформам')\n",
    "plt.show()\n"
   ]
  },
  {
   "cell_type": "code",
   "execution_count": 29,
   "metadata": {},
   "outputs": [
    {
     "name": "stdout",
     "output_type": "stream",
     "text": [
      "6 платформ с наибольшими суммарными продажами:\n",
      "\n"
     ]
    },
    {
     "data": {
      "text/plain": [
       "platform\n",
       "PS2     1248.12\n",
       "X360     961.30\n",
       "PS3      931.34\n",
       "Wii      891.18\n",
       "DS       802.77\n",
       "PS       721.55\n",
       "Name: full_sales, dtype: float64"
      ]
     },
     "metadata": {},
     "output_type": "display_data"
    }
   ],
   "source": [
    "print('6 платформ с наибольшими суммарными продажами:')\n",
    "print()\n",
    "display(df.groupby('platform')['full_sales'].sum().sort_values(ascending=False).head(6))\n",
    "\n",
    "\n",
    "\n"
   ]
  },
  {
   "cell_type": "code",
   "execution_count": 30,
   "metadata": {},
   "outputs": [
    {
     "data": {
      "image/png": "[encoded data removed]",
      "text/plain": [
       "<Figure size 720x360 with 1 Axes>"
      ]
     },
     "metadata": {
      "needs_background": "light"
     },
     "output_type": "display_data"
    },
    {
     "data": {
      "image/png": "[encoded data removed]",
      "text/plain": [
       "<Figure size 720x360 with 1 Axes>"
      ]
     },
     "metadata": {
      "needs_background": "light"
     },
     "output_type": "display_data"
    },
    {
     "data": {
      "image/png": "[encoded data removed]",
      "text/plain": [
       "<Figure size 720x360 with 1 Axes>"
      ]
     },
     "metadata": {
      "needs_background": "light"
     },
     "output_type": "display_data"
    },
    {
     "data": {
      "image/png": "[encoded data removed]",
      "text/plain": [
       "<Figure size 720x360 with 1 Axes>"
      ]
     },
     "metadata": {
      "needs_background": "light"
     },
     "output_type": "display_data"
    },
    {
     "data": {
      "image/png": "[encoded data removed]",
      "text/plain": [
       "<Figure size 720x360 with 1 Axes>"
      ]
     },
     "metadata": {
      "needs_background": "light"
     },
     "output_type": "display_data"
    },
    {
     "data": {
      "image/png": "[encoded data removed]",
      "text/plain": [
       "<Figure size 720x360 with 1 Axes>"
      ]
     },
     "metadata": {
      "needs_background": "light"
     },
     "output_type": "display_data"
    }
   ],
   "source": [
    "platforms = list(df.groupby('platform')['full_sales'].sum().sort_values(ascending=False).head(6).index)\n",
    "\n",
    "for cur_platform in platforms:\n",
    "    df.query('platform == @cur_platform').groupby('year_of_release')['full_sales'].sum().plot(kind='bar', figsize=(10, 5))\n",
    "    plt.xlabel('Года')\n",
    "    plt.ylabel('Суммарные продажи платформы ')\n",
    "    plt.title(f'Распределение суммарных продаж {cur_platform} по годам')\n",
    "    plt.show()\n",
    "\n",
    "\n",
    "\n"
   ]
  },
  {
   "cell_type": "markdown",
   "metadata": {},
   "source": [
    "<div style=\"border:solid lightblue 3px; padding: 20px\">\n",
    "<b>Вывод:</b>\n",
    "\n",
    "Исходя из данных графиков видно, что в среднем срок жизни платформы примерно составляет 10 лет."
   ]
  },
  {
   "cell_type": "markdown",
   "metadata": {},
   "source": [
    "**Возьмем данные за актуальный период 5 лет.**\n"
   ]
  },
  {
   "cell_type": "code",
   "execution_count": 31,
   "metadata": {},
   "outputs": [],
   "source": [
    "dfF = df.query('year_of_release > 2010')"
   ]
  },
  {
   "cell_type": "markdown",
   "metadata": {},
   "source": [
    "Чтобы узнать какие платформы являются наиболее актуальными по прибыли:\n",
    "\n",
    " - найдем наиболее прибыльные платформы;\n",
    " - найдем распределение прибылей по годам;\n",
    " - отсеим платформы, чьи прибыли с годами снижаются критически."
   ]
  },
  {
   "cell_type": "code",
   "execution_count": 32,
   "metadata": {},
   "outputs": [
    {
     "name": "stdout",
     "output_type": "stream",
     "text": [
      "10 платформ с наибольшими суммарными продажами (за актуальный период):\n",
      "\n"
     ]
    },
    {
     "data": {
      "text/plain": [
       "platform\n",
       "PS3     445.57\n",
       "X360    380.43\n",
       "PS4     314.14\n",
       "3DS     257.81\n",
       "XOne    159.32\n",
       "PC       98.03\n",
       "Wii      95.02\n",
       "WiiU     82.19\n",
       "PSV      53.81\n",
       "DS       38.73\n",
       "Name: full_sales, dtype: float64"
      ]
     },
     "metadata": {},
     "output_type": "display_data"
    }
   ],
   "source": [
    "print('10 платформ с наибольшими суммарными продажами (за актуальный период):')\n",
    "print()\n",
    "display(dfF.groupby('platform')['full_sales'].sum().sort_values(ascending=False).head(10))\n"
   ]
  },
  {
   "cell_type": "code",
   "execution_count": 33,
   "metadata": {},
   "outputs": [
    {
     "name": "stdout",
     "output_type": "stream",
     "text": [
      "PS3\n",
      "\n",
      "year_of_release\n",
      "2011    156.78\n",
      "2012    107.36\n",
      "2013    113.25\n",
      "2014     47.76\n",
      "2015     16.82\n",
      "2016      3.60\n",
      "Name: full_sales, dtype: float64\n",
      "\n",
      "\n",
      "X360\n",
      "\n",
      "year_of_release\n",
      "2011    143.89\n",
      "2012     99.74\n",
      "2013     88.58\n",
      "2014     34.74\n",
      "2015     11.96\n",
      "2016      1.52\n",
      "Name: full_sales, dtype: float64\n",
      "\n",
      "\n",
      "PS4\n",
      "\n",
      "year_of_release\n",
      "2013     25.99\n",
      "2014    100.00\n",
      "2015    118.90\n",
      "2016     69.25\n",
      "Name: full_sales, dtype: float64\n",
      "\n",
      "\n",
      "3DS\n",
      "\n",
      "year_of_release\n",
      "2011    63.20\n",
      "2012    51.36\n",
      "2013    56.57\n",
      "2014    43.76\n",
      "2015    27.78\n",
      "2016    15.14\n",
      "Name: full_sales, dtype: float64\n",
      "\n",
      "\n",
      "XOne\n",
      "\n",
      "year_of_release\n",
      "2013    18.96\n",
      "2014    54.07\n",
      "2015    60.14\n",
      "2016    26.15\n",
      "Name: full_sales, dtype: float64\n",
      "\n",
      "\n",
      "PC\n",
      "\n",
      "year_of_release\n",
      "2011    35.03\n",
      "2012    23.22\n",
      "2013    12.73\n",
      "2014    13.28\n",
      "2015     8.52\n",
      "2016     5.25\n",
      "Name: full_sales, dtype: float64\n",
      "\n",
      "\n",
      "Wii\n",
      "\n",
      "year_of_release\n",
      "2011    59.65\n",
      "2012    21.71\n",
      "2013     8.59\n",
      "2014     3.75\n",
      "2015     1.14\n",
      "2016     0.18\n",
      "Name: full_sales, dtype: float64\n",
      "\n",
      "\n",
      "WiiU\n",
      "\n",
      "year_of_release\n",
      "2012    17.56\n",
      "2013    21.65\n",
      "2014    22.03\n",
      "2015    16.35\n",
      "2016     4.60\n",
      "Name: full_sales, dtype: float64\n",
      "\n",
      "\n",
      "PSV\n",
      "\n",
      "year_of_release\n",
      "2011     4.63\n",
      "2012    16.19\n",
      "2013    10.59\n",
      "2014    11.90\n",
      "2015     6.25\n",
      "2016     4.25\n",
      "Name: full_sales, dtype: float64\n",
      "\n",
      "\n",
      "DS\n",
      "\n",
      "year_of_release\n",
      "2011    26.18\n",
      "2012    11.01\n",
      "2013     1.54\n",
      "Name: full_sales, dtype: float64\n",
      "\n",
      "\n"
     ]
    }
   ],
   "source": [
    "Top10_platform = ['PS3', 'X360', 'PS4', '3DS', 'XOne', 'PC', 'Wii', 'WiiU', 'PSV', 'DS']\n",
    "\n",
    "for cur_platform in Top10_platform:\n",
    "    print(cur_platform)\n",
    "    print()\n",
    "    print(dfF.query('platform == @cur_platform').groupby('year_of_release')['full_sales'].sum())\n",
    "    print()\n",
    "    print()\n",
    "\n",
    "\n"
   ]
  },
  {
   "cell_type": "markdown",
   "metadata": {},
   "source": [
    "<div style=\"border:solid lightblue 3px; padding: 20px\">\n",
    "<b>Вывод:</b>\n",
    "\n",
    "Потенциально прибыльные платформы: PS4 и XOne"
   ]
  },
  {
   "cell_type": "code",
   "execution_count": 34,
   "metadata": {},
   "outputs": [],
   "source": [
    "dfF_PS4 = dfF.query('platform == \"PS4\"')\n",
    "dfF_XOne = dfF.query('platform == \"XOne\"')"
   ]
  },
  {
   "cell_type": "code",
   "execution_count": 35,
   "metadata": {
    "scrolled": true
   },
   "outputs": [
    {
     "data": {
      "image/png": "[encoded data removed]",
      "text/plain": [
       "<Figure size 432x288 with 1 Axes>"
      ]
     },
     "metadata": {
      "needs_background": "light"
     },
     "output_type": "display_data"
    }
   ],
   "source": [
    "plt.boxplot([dfF_XOne['full_sales'], dfF_PS4['full_sales']])\n",
    "plt.show()"
   ]
  },
  {
   "cell_type": "markdown",
   "metadata": {},
   "source": [
    "**Взаимосвязь оценок критиков на общие продажи PS4:**"
   ]
  },
  {
   "cell_type": "code",
   "execution_count": 36,
   "metadata": {},
   "outputs": [
    {
     "data": {
      "image/png": "[encoded data removed]",
      "text/plain": [
       "<Figure size 432x288 with 1 Axes>"
      ]
     },
     "metadata": {
      "needs_background": "light"
     },
     "output_type": "display_data"
    },
    {
     "name": "stdout",
     "output_type": "stream",
     "text": [
      "0.40656790206178095\n"
     ]
    }
   ],
   "source": [
    "dfF_PS4.query('critic_score > 0').plot(x='critic_score', y='full_sales', kind='scatter')\n",
    "plt.show()\n",
    "print(dfF_PS4.query('critic_score > 0')['critic_score'].corr(dfF_PS4.query('critic_score > 0')['full_sales']))\n"
   ]
  },
  {
   "cell_type": "markdown",
   "metadata": {},
   "source": [
    "**Взаимосвязь значительная** "
   ]
  },
  {
   "cell_type": "markdown",
   "metadata": {},
   "source": [
    "**Взаимосвязь оценок пользователей на общие продажи PS4:**"
   ]
  },
  {
   "cell_type": "code",
   "execution_count": 37,
   "metadata": {},
   "outputs": [
    {
     "data": {
      "image/png": "[encoded data removed]",
      "text/plain": [
       "<Figure size 432x288 with 1 Axes>"
      ]
     },
     "metadata": {
      "needs_background": "light"
     },
     "output_type": "display_data"
    },
    {
     "name": "stdout",
     "output_type": "stream",
     "text": [
      "-0.031957110204556424\n"
     ]
    }
   ],
   "source": [
    "dfF_PS4.query('user_score > 0').plot(x='user_score', y='full_sales', kind='scatter')\n",
    "plt.show()\n",
    "print(dfF_PS4.query('user_score > 0')['user_score'].corr(dfF_PS4.query('user_score > 0')['full_sales']))\n"
   ]
  },
  {
   "cell_type": "markdown",
   "metadata": {},
   "source": [
    "**Взаимосвязь незначительная, отрицательная**"
   ]
  },
  {
   "cell_type": "markdown",
   "metadata": {},
   "source": [
    "**Взаимосвязь оценок критиков на общие продажи XOne:**"
   ]
  },
  {
   "cell_type": "code",
   "execution_count": 38,
   "metadata": {},
   "outputs": [
    {
     "data": {
      "image/png": "[encoded data removed]",
      "text/plain": [
       "<Figure size 432x288 with 1 Axes>"
      ]
     },
     "metadata": {
      "needs_background": "light"
     },
     "output_type": "display_data"
    },
    {
     "name": "stdout",
     "output_type": "stream",
     "text": [
      "0.4169983280084017\n"
     ]
    }
   ],
   "source": [
    "dfF_XOne.query('critic_score > 0').plot(x='critic_score', y='full_sales', kind='scatter')\n",
    "plt.show()\n",
    "print(dfF_XOne.query('critic_score > 0')['critic_score'].corr(dfF_XOne.query('critic_score > 0')['full_sales']))\n"
   ]
  },
  {
   "cell_type": "markdown",
   "metadata": {},
   "source": [
    "**Взаимосвязь значительная**"
   ]
  },
  {
   "cell_type": "markdown",
   "metadata": {},
   "source": [
    "**Взаимосвязь оценок пользователей на общие продажи XOne:**"
   ]
  },
  {
   "cell_type": "code",
   "execution_count": 39,
   "metadata": {},
   "outputs": [
    {
     "data": {
      "image/png": "[encoded data removed]",
      "text/plain": [
       "<Figure size 432x288 with 1 Axes>"
      ]
     },
     "metadata": {
      "needs_background": "light"
     },
     "output_type": "display_data"
    },
    {
     "name": "stdout",
     "output_type": "stream",
     "text": [
      "-0.06892505328279414\n"
     ]
    }
   ],
   "source": [
    "dfF_PS4.query('user_score > 0').plot(x='user_score', y='full_sales', kind='scatter')\n",
    "plt.show()\n",
    "print(dfF_XOne.query('user_score > 0')['user_score'].corr(dfF_XOne.query('user_score > 0')['full_sales']))\n"
   ]
  },
  {
   "cell_type": "markdown",
   "metadata": {},
   "source": [
    "**Взаимосвязь незначительная, отрицательная**"
   ]
  },
  {
   "cell_type": "code",
   "execution_count": 40,
   "metadata": {},
   "outputs": [],
   "source": [
    "dfF_other = dfF.query('platform != \"PS4\" and platform != \"XOne\"')"
   ]
  },
  {
   "cell_type": "markdown",
   "metadata": {},
   "source": [
    "**Взаимосвязь оценок критиков на общие продажи иных платформ:**"
   ]
  },
  {
   "cell_type": "code",
   "execution_count": 41,
   "metadata": {},
   "outputs": [
    {
     "data": {
      "image/png": "[encoded data removed]",
      "text/plain": [
       "<Figure size 432x288 with 1 Axes>"
      ]
     },
     "metadata": {
      "needs_background": "light"
     },
     "output_type": "display_data"
    },
    {
     "name": "stdout",
     "output_type": "stream",
     "text": [
      "0.3108050498632\n"
     ]
    }
   ],
   "source": [
    "dfF_other.query('critic_score > 0').plot(x='critic_score', y='full_sales', kind='scatter')\n",
    "plt.show()\n",
    "print(dfF_other.query('critic_score > 0')['critic_score'].corr(dfF_other.query('critic_score > 0')['full_sales']))\n"
   ]
  },
  {
   "cell_type": "markdown",
   "metadata": {},
   "source": [
    "**Взаимосвязь присутствует**"
   ]
  },
  {
   "cell_type": "markdown",
   "metadata": {},
   "source": [
    "**Взаимосвязь оценок пользователей на общие продажи иных платформ:**"
   ]
  },
  {
   "cell_type": "code",
   "execution_count": 42,
   "metadata": {},
   "outputs": [
    {
     "data": {
      "image/png": "[encoded data removed]",
      "text/plain": [
       "<Figure size 432x288 with 1 Axes>"
      ]
     },
     "metadata": {
      "needs_background": "light"
     },
     "output_type": "display_data"
    },
    {
     "name": "stdout",
     "output_type": "stream",
     "text": [
      "0.04697591188404159\n"
     ]
    }
   ],
   "source": [
    "dfF_other.query('user_score > 0').plot(x='user_score', y='full_sales', kind='scatter')\n",
    "plt.show()\n",
    "print(dfF_other.query('user_score > 0')['user_score'].corr(dfF_other.query('user_score > 0')['full_sales']))\n"
   ]
  },
  {
   "cell_type": "markdown",
   "metadata": {},
   "source": [
    "**Взаимосвязь незначительная, положительная**"
   ]
  },
  {
   "cell_type": "markdown",
   "metadata": {},
   "source": [
    "<div style=\"border:solid lightblue 3px; padding: 20px\">\n",
    "<b>Вывод:</b>\n",
    "\n",
    "Взаимосвязь продаж от оценок критиков для платформы PS4 - значительная.\n",
    "    \n",
    "Взаимосвязь продаж от оценок пользователей для платформы PS4 - незначительная, отрицательная, либо не линейная.\n",
    "    \n",
    "Взаимосвязь продаж от оценок критиков для платформы XOne - значительная.\n",
    "    \n",
    "Взаимосвязь продаж от оценок пользователей для платформы XOne - незначительная, отрицательная, либо не линейная.\n",
    "    \n",
    "Взаимосвязь продаж от оценок критиков для всех остальных платформ - небольшая. \n",
    "    \n",
    "Взаимосвязь продаж от оценок пользователей для всех остальных платформ - незначительная, положительная, либо не линейная."
   ]
  },
  {
   "cell_type": "code",
   "execution_count": 43,
   "metadata": {},
   "outputs": [
    {
     "data": {
      "image/png": "[encoded data removed]",
      "text/plain": [
       "<Figure size 432x288 with 1 Axes>"
      ]
     },
     "metadata": {
      "needs_background": "light"
     },
     "output_type": "display_data"
    }
   ],
   "source": [
    "dfF['genre'].value_counts().plot(kind='bar')\n",
    "plt.ylabel('Количество выпущенных игр')\n",
    "plt.xlabel('Жанры')\n",
    "plt.title('Распределение игр по жанру')\n",
    "plt.show()"
   ]
  },
  {
   "cell_type": "code",
   "execution_count": 44,
   "metadata": {},
   "outputs": [
    {
     "name": "stdout",
     "output_type": "stream",
     "text": [
      "Распределение жанров по общим продажам:\n",
      "\n"
     ]
    },
    {
     "data": {
      "text/plain": [
       "genre\n",
       "Action          558.15\n",
       "Shooter         402.91\n",
       "Role-Playing    245.63\n",
       "Sports          237.15\n",
       "Misc            139.42\n",
       "Platform         88.68\n",
       "Racing           88.36\n",
       "Fighting         66.90\n",
       "Simulation       50.26\n",
       "Adventure        45.04\n",
       "Strategy         22.16\n",
       "Puzzle            9.85\n",
       "Name: full_sales, dtype: float64"
      ]
     },
     "metadata": {},
     "output_type": "display_data"
    }
   ],
   "source": [
    "print('Распределение жанров по общим продажам:')\n",
    "print()\n",
    "display(dfF.groupby('genre')['full_sales'].sum().sort_values(ascending=False))"
   ]
  },
  {
   "cell_type": "markdown",
   "metadata": {},
   "source": [
    "<div style=\"border:solid lightblue 3px; padding: 20px\">\n",
    "<b>Вывод:</b>\n",
    "\n",
    "Больше всего игр жанра Экшен, он же самый прибыльный жанр по общим продажам. Шутер - второй по прибыльности жанр игр, но по полуярности он стоит только на четвертом месте. Не всегда самые популярные жанры игр приносят больше всего прибыли."
   ]
  },
  {
   "cell_type": "markdown",
   "metadata": {},
   "source": [
    "## Анализ портрета пользователя\n"
   ]
  },
  {
   "cell_type": "code",
   "execution_count": 45,
   "metadata": {},
   "outputs": [
    {
     "name": "stdout",
     "output_type": "stream",
     "text": [
      "5 платформ с наибольшими суммарными продажами (за актуальный период) в мире:\n",
      "\n"
     ]
    },
    {
     "data": {
      "text/plain": [
       "platform\n",
       "PS3     445.57\n",
       "X360    380.43\n",
       "PS4     314.14\n",
       "3DS     257.81\n",
       "XOne    159.32\n",
       "Name: full_sales, dtype: float64"
      ]
     },
     "metadata": {},
     "output_type": "display_data"
    }
   ],
   "source": [
    "print('5 платформ с наибольшими суммарными продажами (за актуальный период) в мире:')\n",
    "print()\n",
    "display(dfF.groupby('platform')['full_sales'].sum().sort_values(ascending=False).head())"
   ]
  },
  {
   "cell_type": "markdown",
   "metadata": {},
   "source": [
    "**NA**"
   ]
  },
  {
   "cell_type": "code",
   "execution_count": 46,
   "metadata": {},
   "outputs": [
    {
     "name": "stdout",
     "output_type": "stream",
     "text": [
      "Распределение платформ по продажам в NA:\n",
      "\n"
     ]
    },
    {
     "data": {
      "text/plain": [
       "platform\n",
       "X360    226.80\n",
       "PS3     168.26\n",
       "PS4     108.74\n",
       "XOne     93.12\n",
       "3DS      82.65\n",
       "Name: na_sales, dtype: float64"
      ]
     },
     "metadata": {},
     "output_type": "display_data"
    }
   ],
   "source": [
    "#NA\n",
    "\n",
    "print('Распределение платформ по продажам в NA:')\n",
    "print()\n",
    "display(dfF.groupby('platform')['na_sales'].sum().sort_values(ascending=False).head())"
   ]
  },
  {
   "cell_type": "code",
   "execution_count": 47,
   "metadata": {},
   "outputs": [
    {
     "data": {
      "text/plain": [
       "59.62458594037542"
      ]
     },
     "execution_count": 47,
     "metadata": {},
     "output_type": "execute_result"
    }
   ],
   "source": [
    " 226.80 * 100 / 380.38  \n"
   ]
  },
  {
   "cell_type": "markdown",
   "metadata": {},
   "source": [
    "**Для региона NA самая популярная платформа - Х360 (почти 60% мировых продаж), в отличии от мировой - PS3.**"
   ]
  },
  {
   "cell_type": "code",
   "execution_count": 48,
   "metadata": {},
   "outputs": [
    {
     "name": "stdout",
     "output_type": "stream",
     "text": [
      "Распределение жанров по продажам в NA:\n",
      "\n"
     ]
    },
    {
     "data": {
      "text/plain": [
       "genre\n",
       "Action          230.98\n",
       "Shooter         194.43\n",
       "Sports          108.70\n",
       "Role-Playing     83.78\n",
       "Misc             69.69\n",
       "Name: na_sales, dtype: float64"
      ]
     },
     "metadata": {},
     "output_type": "display_data"
    }
   ],
   "source": [
    "print('Распределение жанров по продажам в NA:')\n",
    "print()\n",
    "display(dfF.groupby('genre')['na_sales'].sum().sort_values(ascending=False).head())"
   ]
  },
  {
   "cell_type": "markdown",
   "metadata": {},
   "source": [
    "**В отличии от мира, Спорт здесь популярнее.**"
   ]
  },
  {
   "cell_type": "code",
   "execution_count": 49,
   "metadata": {},
   "outputs": [
    {
     "name": "stdout",
     "output_type": "stream",
     "text": [
      "Распределение мировых продаж по рейтингу:\n",
      "\n",
      "rating\n",
      "M       667.16\n",
      "E       389.44\n",
      "T       254.03\n",
      "E10+    230.86\n",
      "EC        0.45\n",
      "RP        0.04\n",
      "Name: full_sales, dtype: float64\n",
      "Распределение продаж в NA по рейтингу:\n",
      "\n",
      "rating\n",
      "M       308.51\n",
      "E       170.17\n",
      "E10+    117.72\n",
      "T       109.31\n",
      "EC        0.42\n",
      "RP        0.00\n",
      "Name: na_sales, dtype: float64\n"
     ]
    }
   ],
   "source": [
    "print('Распределение мировых продаж по рейтингу:')\n",
    "print()\n",
    "print(dfF.query('rating != 0').groupby('rating')['full_sales'].sum().sort_values(ascending=False))\n",
    "\n",
    "print('Распределение продаж в NA по рейтингу:')\n",
    "print()\n",
    "print(dfF.query('rating != 0').groupby('rating')['na_sales'].sum().sort_values(ascending=False))"
   ]
  },
  {
   "cell_type": "markdown",
   "metadata": {},
   "source": [
    "**Игры с рейтингом М и Е самые популярные в мире и в NA, однако на третьем месте в мире игры с рейтингом Т, а в NA - Е10+.**"
   ]
  },
  {
   "cell_type": "code",
   "execution_count": 50,
   "metadata": {},
   "outputs": [
    {
     "name": "stdout",
     "output_type": "stream",
     "text": [
      "5 платформ с наибольшими суммарными продажами (за актуальный период) в мире:\n",
      "\n"
     ]
    },
    {
     "data": {
      "text/plain": [
       "platform\n",
       "PS3     445.57\n",
       "X360    380.43\n",
       "PS4     314.14\n",
       "3DS     257.81\n",
       "XOne    159.32\n",
       "Name: full_sales, dtype: float64"
      ]
     },
     "metadata": {},
     "output_type": "display_data"
    }
   ],
   "source": [
    "print('5 платформ с наибольшими суммарными продажами (за актуальный период) в мире:')\n",
    "print()\n",
    "display(dfF.groupby('platform')['full_sales'].sum().sort_values(ascending=False).head())"
   ]
  },
  {
   "cell_type": "markdown",
   "metadata": {},
   "source": [
    "**EU**"
   ]
  },
  {
   "cell_type": "code",
   "execution_count": 51,
   "metadata": {},
   "outputs": [
    {
     "name": "stdout",
     "output_type": "stream",
     "text": [
      "Распределение платформ по продажам в EU:\n",
      "\n"
     ]
    },
    {
     "data": {
      "text/plain": [
       "platform\n",
       "PS3     163.10\n",
       "PS4     141.09\n",
       "X360    117.14\n",
       "3DS      61.27\n",
       "PC       56.95\n",
       "Name: eu_sales, dtype: float64"
      ]
     },
     "metadata": {},
     "output_type": "display_data"
    }
   ],
   "source": [
    "#EU\n",
    "\n",
    "print('Распределение платформ по продажам в EU:')\n",
    "print()\n",
    "display(dfF.groupby('platform')['eu_sales'].sum().sort_values(ascending=False).head())"
   ]
  },
  {
   "cell_type": "markdown",
   "metadata": {},
   "source": [
    "**В отличии от мира, в EU на втором месте по пулярности стоит PS4, а X360 наоборот на третьем месте, а не на втором как в мире.**"
   ]
  },
  {
   "cell_type": "code",
   "execution_count": 52,
   "metadata": {},
   "outputs": [
    {
     "name": "stdout",
     "output_type": "stream",
     "text": [
      "Распределение жанров по общим продажам:\n",
      "\n"
     ]
    },
    {
     "data": {
      "text/plain": [
       "genre\n",
       "Action          558.15\n",
       "Shooter         402.91\n",
       "Role-Playing    245.63\n",
       "Sports          237.15\n",
       "Misc            139.42\n",
       "Name: full_sales, dtype: float64"
      ]
     },
     "metadata": {},
     "output_type": "display_data"
    }
   ],
   "source": [
    "print('Распределение жанров по общим продажам:')\n",
    "print()\n",
    "display(dfF.groupby('genre')['full_sales'].sum().sort_values(ascending=False).head())"
   ]
  },
  {
   "cell_type": "code",
   "execution_count": 53,
   "metadata": {},
   "outputs": [
    {
     "name": "stdout",
     "output_type": "stream",
     "text": [
      "Распределение жанров по продажам в EU:\n",
      "\n"
     ]
    },
    {
     "data": {
      "text/plain": [
       "genre\n",
       "Action          199.37\n",
       "Shooter         148.02\n",
       "Sports           88.48\n",
       "Role-Playing     62.30\n",
       "Racing           40.62\n",
       "Name: eu_sales, dtype: float64"
      ]
     },
     "metadata": {},
     "output_type": "display_data"
    }
   ],
   "source": [
    "print('Распределение жанров по продажам в EU:')\n",
    "print()\n",
    "display(dfF.groupby('genre')['eu_sales'].sum().sort_values(ascending=False).head())"
   ]
  },
  {
   "cell_type": "markdown",
   "metadata": {},
   "source": [
    "**В отличии от мира, Спорт здесь популярнее.**"
   ]
  },
  {
   "cell_type": "code",
   "execution_count": 54,
   "metadata": {},
   "outputs": [
    {
     "name": "stdout",
     "output_type": "stream",
     "text": [
      "Распределение мировых продаж по рейтингу:\n",
      "\n",
      "rating\n",
      "M       667.16\n",
      "E       389.44\n",
      "T       254.03\n",
      "E10+    230.86\n",
      "EC        0.45\n",
      "RP        0.04\n",
      "Name: full_sales, dtype: float64\n",
      "Распределение продаж в EU по рейтингу:\n",
      "\n",
      "rating\n",
      "M       250.51\n",
      "E       141.73\n",
      "T        83.16\n",
      "E10+     78.00\n",
      "RP        0.03\n",
      "EC        0.00\n",
      "Name: eu_sales, dtype: float64\n"
     ]
    }
   ],
   "source": [
    "print('Распределение мировых продаж по рейтингу:')\n",
    "print()\n",
    "print(dfF.query('rating != 0').groupby('rating')['full_sales'].sum().sort_values(ascending=False))\n",
    "\n",
    "print('Распределение продаж в EU по рейтингу:')\n",
    "print()\n",
    "print(dfF.query('rating != 0').groupby('rating')['eu_sales'].sum().sort_values(ascending=False))"
   ]
  },
  {
   "cell_type": "markdown",
   "metadata": {},
   "source": [
    "**Игры с рейтингом М, Е, Т и E10+ самые популярные в мире и в EU, однако на пятом месте в мире игры с рейтингом EC, а в NA - RP и наоборот.**"
   ]
  },
  {
   "cell_type": "code",
   "execution_count": 55,
   "metadata": {},
   "outputs": [
    {
     "name": "stdout",
     "output_type": "stream",
     "text": [
      "5 платформ с наибольшими суммарными продажами (за актуальный период) в мире:\n",
      "\n"
     ]
    },
    {
     "data": {
      "text/plain": [
       "platform\n",
       "PS3     445.57\n",
       "X360    380.43\n",
       "PS4     314.14\n",
       "3DS     257.81\n",
       "XOne    159.32\n",
       "Name: full_sales, dtype: float64"
      ]
     },
     "metadata": {},
     "output_type": "display_data"
    }
   ],
   "source": [
    "print('5 платформ с наибольшими суммарными продажами (за актуальный период) в мире:')\n",
    "print()\n",
    "display(dfF.groupby('platform')['full_sales'].sum().sort_values(ascending=False).head())"
   ]
  },
  {
   "cell_type": "markdown",
   "metadata": {},
   "source": [
    "**JP**"
   ]
  },
  {
   "cell_type": "code",
   "execution_count": 56,
   "metadata": {},
   "outputs": [
    {
     "name": "stdout",
     "output_type": "stream",
     "text": [
      "Распределение платформ по продажам в JP:\n",
      "\n"
     ]
    },
    {
     "data": {
      "text/plain": [
       "platform\n",
       "3DS    100.62\n",
       "PS3     49.39\n",
       "PSP     24.04\n",
       "PSV     21.84\n",
       "PS4     15.96\n",
       "Name: jp_sales, dtype: float64"
      ]
     },
     "metadata": {},
     "output_type": "display_data"
    }
   ],
   "source": [
    "#JP\n",
    "\n",
    "print('Распределение платформ по продажам в JP:')\n",
    "print()\n",
    "display(dfF.groupby('platform')['jp_sales'].sum().sort_values(ascending=False).head())"
   ]
  },
  {
   "cell_type": "markdown",
   "metadata": {},
   "source": [
    "**В JP самое необычное распределение популярных игровых платформ, в отличии от мира здесь самая популярная платформа - это 3DS, а X360 вообще нет в пятерке лидеров.**"
   ]
  },
  {
   "cell_type": "code",
   "execution_count": 57,
   "metadata": {},
   "outputs": [
    {
     "name": "stdout",
     "output_type": "stream",
     "text": [
      "Распределение жанров по общим продажам:\n",
      "\n"
     ]
    },
    {
     "data": {
      "text/plain": [
       "genre\n",
       "Action          558.15\n",
       "Shooter         402.91\n",
       "Role-Playing    245.63\n",
       "Sports          237.15\n",
       "Misc            139.42\n",
       "Name: full_sales, dtype: float64"
      ]
     },
     "metadata": {},
     "output_type": "display_data"
    }
   ],
   "source": [
    "print('Распределение жанров по общим продажам:')\n",
    "print()\n",
    "display(dfF.groupby('genre')['full_sales'].sum().sort_values(ascending=False).head())\n"
   ]
  },
  {
   "cell_type": "code",
   "execution_count": 58,
   "metadata": {},
   "outputs": [
    {
     "name": "stdout",
     "output_type": "stream",
     "text": [
      "Распределение жанров по продажам в JP:\n",
      "\n"
     ]
    },
    {
     "data": {
      "text/plain": [
       "genre\n",
       "Role-Playing    79.87\n",
       "Action          63.62\n",
       "Misc            17.60\n",
       "Fighting        12.38\n",
       "Platform        12.13\n",
       "Name: jp_sales, dtype: float64"
      ]
     },
     "metadata": {},
     "output_type": "display_data"
    }
   ],
   "source": [
    "print('Распределение жанров по продажам в JP:')\n",
    "print()\n",
    "display(dfF.groupby('genre')['jp_sales'].sum().sort_values(ascending=False).head())\n"
   ]
  },
  {
   "cell_type": "markdown",
   "metadata": {},
   "source": [
    "**JP первый регион, где Экшен менее популярен, чем Role-Playing.**"
   ]
  },
  {
   "cell_type": "code",
   "execution_count": 59,
   "metadata": {},
   "outputs": [
    {
     "name": "stdout",
     "output_type": "stream",
     "text": [
      "Распределение мировых продаж по рейтингу:\n",
      "\n",
      "rating\n",
      "M       667.16\n",
      "E       389.44\n",
      "T       254.03\n",
      "E10+    230.86\n",
      "EC        0.45\n",
      "RP        0.04\n",
      "Name: full_sales, dtype: float64\n",
      "Распределение продаж в JP по рейтингу:\n",
      "\n",
      "rating\n",
      "E       36.68\n",
      "T       33.39\n",
      "M       26.14\n",
      "E10+    11.23\n",
      "EC       0.00\n",
      "RP       0.00\n",
      "Name: jp_sales, dtype: float64\n"
     ]
    }
   ],
   "source": [
    "print('Распределение мировых продаж по рейтингу:')\n",
    "print()\n",
    "print(dfF.query('rating != 0').groupby('rating')['full_sales'].sum().sort_values(ascending=False))\n",
    "\n",
    "print('Распределение продаж в JP по рейтингу:')\n",
    "print()\n",
    "print(dfF.query('rating != 0').groupby('rating')['jp_sales'].sum().sort_values(ascending=False))"
   ]
  },
  {
   "cell_type": "markdown",
   "metadata": {},
   "source": [
    "**Игры с рейтингом E здесь популярнее, чем в мире, так же как и с рейтингом Т.**"
   ]
  },
  {
   "cell_type": "markdown",
   "metadata": {},
   "source": [
    "## Проверка гипотез"
   ]
  },
  {
   "cell_type": "markdown",
   "metadata": {},
   "source": [
    "**Гипотезы:**\n",
    "\n",
    "1. Средние пользовательские рейтинги платформ Xbox One и PC одинаковые.\n",
    "\n",
    "2. Средние пользовательские рейтинги жанров Action и Sports разные."
   ]
  },
  {
   "cell_type": "code",
   "execution_count": 60,
   "metadata": {},
   "outputs": [
    {
     "name": "stdout",
     "output_type": "stream",
     "text": [
      "p-значение: 0.6601000395360657\n",
      "Отвергаем нулевую гипотезу\n"
     ]
    }
   ],
   "source": [
    "XOne = dfF.query('(platform == \"XOne\") and (user_score > 0)')\n",
    "\n",
    "PC = dfF.query('(platform == \"PC\") and (user_score > 0)')\n",
    "\n",
    "alpha = 0.05\n",
    "\n",
    "results = st.ttest_ind(XOne['user_score'], PC['user_score'])\n",
    "\n",
    "print('p-значение:', results.pvalue)\n",
    "\n",
    "if results.pvalue > alpha:\n",
    "    print(\"Отвергаем нулевую гипотезу\")\n",
    "else:\n",
    "    print(\"Не получилось отвергнуть нулевую гипотезу\")"
   ]
  },
  {
   "cell_type": "markdown",
   "metadata": {},
   "source": [
    "Нулевая гипотеза состояла в том, что средние пользовательские рейтинги платформ Xbox One и PC одинаковые, альтернативная, - что разные.\n",
    "Создали две выборки с данными о пользовательском рейтинге интересующих нас платформ и на основе этих данных провели эксперимент. Погрешность взяли 5%."
   ]
  },
  {
   "cell_type": "code",
   "execution_count": 61,
   "metadata": {},
   "outputs": [
    {
     "name": "stdout",
     "output_type": "stream",
     "text": [
      "p-значение: 4.147206374856738e-24\n",
      "Отвергаем нулевую гипотезу\n"
     ]
    }
   ],
   "source": [
    "Action = dfF.query('(genre == \"Action\") and (user_score > 0)')\n",
    "\n",
    "Sports = dfF.query('(genre == \"Sports\") and (user_score > 0)')\n",
    "\n",
    "alpha = 0.05\n",
    "\n",
    "results = st.ttest_ind(Action['user_score'], Sports['user_score'])\n",
    "\n",
    "print('p-значение:', results.pvalue)\n",
    "\n",
    "if results.pvalue < alpha:\n",
    "    print(\"Отвергаем нулевую гипотезу\")\n",
    "else:\n",
    "    print(\"Не получилось отвергнуть нулевую гипотезу\")"
   ]
  },
  {
   "cell_type": "markdown",
   "metadata": {},
   "source": [
    "Аналогичную процедуру провели для жанров игр."
   ]
  },
  {
   "cell_type": "markdown",
   "metadata": {},
   "source": [
    "## Общий вывод"
   ]
  },
  {
   "cell_type": "markdown",
   "metadata": {},
   "source": [
    "**Принципы работы с данными отработаны.\n",
    "Определяющие закономерность успешности игры выявлены. \n",
    "Проверены гипотезы:**\n",
    "- средние пользовательские рейтинги платформ Xbox One и PC одинаковые - не подтвердилась.\n",
    "- средние пользовательские рейтинги жанров Action и Sports разные - не подтвердилась.\n",
    "- вот такие дела."
   ]
  }
 ],
 "metadata": {
  "ExecuteTimeLog": [
   {
    "duration": 441,
    "start_time": "2021-09-10T13:18:09.066Z"
   },
   {
    "duration": 1367,
    "start_time": "2021-09-10T13:18:18.655Z"
   },
   {
    "duration": 46,
    "start_time": "2021-09-10T13:18:20.025Z"
   },
   {
    "duration": 45,
    "start_time": "2021-09-10T13:18:23.859Z"
   },
   {
    "duration": 79,
    "start_time": "2021-09-10T13:18:41.771Z"
   },
   {
    "duration": 27,
    "start_time": "2021-09-10T13:19:18.400Z"
   },
   {
    "duration": 1546,
    "start_time": "2021-09-10T14:31:59.651Z"
   },
   {
    "duration": 1662,
    "start_time": "2021-09-10T14:32:14.227Z"
   },
   {
    "duration": 12,
    "start_time": "2021-09-10T14:32:39.645Z"
   },
   {
    "duration": 39,
    "start_time": "2021-09-10T14:32:55.380Z"
   },
   {
    "duration": 9,
    "start_time": "2021-09-10T14:33:39.753Z"
   },
   {
    "duration": 30,
    "start_time": "2021-09-10T14:33:41.255Z"
   },
   {
    "duration": 41,
    "start_time": "2021-09-10T14:34:03.500Z"
   },
   {
    "duration": 1949,
    "start_time": "2021-09-10T14:36:01.042Z"
   },
   {
    "duration": 97,
    "start_time": "2021-09-10T14:36:02.995Z"
   },
   {
    "duration": 36,
    "start_time": "2021-09-10T14:36:03.095Z"
   },
   {
    "duration": 58,
    "start_time": "2021-09-10T14:36:03.134Z"
   },
   {
    "duration": 15,
    "start_time": "2021-09-10T14:36:03.194Z"
   },
   {
    "duration": 28,
    "start_time": "2021-09-10T14:36:43.756Z"
   },
   {
    "duration": 20,
    "start_time": "2021-09-10T14:36:44.098Z"
   },
   {
    "duration": 35,
    "start_time": "2021-09-10T14:36:49.155Z"
   },
   {
    "duration": 16,
    "start_time": "2021-09-10T14:37:14.521Z"
   },
   {
    "duration": 39,
    "start_time": "2021-09-10T14:37:14.539Z"
   },
   {
    "duration": 2122,
    "start_time": "2021-09-10T14:37:27.307Z"
   },
   {
    "duration": 88,
    "start_time": "2021-09-10T14:37:29.433Z"
   },
   {
    "duration": 28,
    "start_time": "2021-09-10T14:37:29.526Z"
   },
   {
    "duration": 2380,
    "start_time": "2021-09-10T14:37:29.584Z"
   },
   {
    "duration": 6401,
    "start_time": "2021-09-10T14:37:25.566Z"
   },
   {
    "duration": 452,
    "start_time": "2021-09-10T14:41:17.011Z"
   },
   {
    "duration": 364,
    "start_time": "2021-09-10T14:41:17.753Z"
   },
   {
    "duration": 1440,
    "start_time": "2021-09-10T14:41:22.589Z"
   },
   {
    "duration": 89,
    "start_time": "2021-09-10T14:41:24.031Z"
   },
   {
    "duration": 26,
    "start_time": "2021-09-10T14:41:24.123Z"
   },
   {
    "duration": 35,
    "start_time": "2021-09-10T14:41:24.152Z"
   },
   {
    "duration": 40,
    "start_time": "2021-09-10T14:41:24.189Z"
   },
   {
    "duration": 1419,
    "start_time": "2021-09-10T15:44:33.378Z"
   },
   {
    "duration": 1279,
    "start_time": "2021-09-10T15:45:25.844Z"
   },
   {
    "duration": 80,
    "start_time": "2021-09-10T15:45:27.126Z"
   },
   {
    "duration": 1474,
    "start_time": "2021-09-10T15:45:27.209Z"
   },
   {
    "duration": 6877,
    "start_time": "2021-09-10T15:45:21.808Z"
   },
   {
    "duration": 6877,
    "start_time": "2021-09-10T15:45:21.810Z"
   },
   {
    "duration": 6877,
    "start_time": "2021-09-10T15:45:21.811Z"
   },
   {
    "duration": 31,
    "start_time": "2021-09-10T15:46:03.179Z"
   },
   {
    "duration": 6,
    "start_time": "2021-09-10T15:46:06.222Z"
   },
   {
    "duration": 37,
    "start_time": "2021-09-10T15:46:06.907Z"
   },
   {
    "duration": 10,
    "start_time": "2021-09-10T15:46:07.255Z"
   },
   {
    "duration": 333,
    "start_time": "2021-09-10T15:46:40.664Z"
   },
   {
    "duration": 531,
    "start_time": "2021-09-10T15:51:36.183Z"
   },
   {
    "duration": 370,
    "start_time": "2021-09-10T15:53:39.350Z"
   },
   {
    "duration": 12,
    "start_time": "2021-09-10T15:54:46.023Z"
   },
   {
    "duration": 52,
    "start_time": "2021-09-10T15:54:47.810Z"
   },
   {
    "duration": 383,
    "start_time": "2021-09-10T15:54:48.629Z"
   },
   {
    "duration": 745,
    "start_time": "2021-09-10T15:54:54.537Z"
   },
   {
    "duration": 667,
    "start_time": "2021-09-10T15:55:07.620Z"
   },
   {
    "duration": 663,
    "start_time": "2021-09-10T15:55:20.912Z"
   },
   {
    "duration": 625,
    "start_time": "2021-09-10T15:57:09.663Z"
   },
   {
    "duration": 538,
    "start_time": "2021-09-10T15:58:23.279Z"
   },
   {
    "duration": 670,
    "start_time": "2021-09-10T15:58:32.282Z"
   },
   {
    "duration": 959,
    "start_time": "2021-09-10T15:58:53.162Z"
   },
   {
    "duration": 944,
    "start_time": "2021-09-10T15:58:58.654Z"
   },
   {
    "duration": 591,
    "start_time": "2021-09-10T15:59:19.688Z"
   },
   {
    "duration": 15,
    "start_time": "2021-09-10T16:03:06.871Z"
   },
   {
    "duration": 43,
    "start_time": "2021-09-10T16:03:12.340Z"
   },
   {
    "duration": 510,
    "start_time": "2021-09-10T16:03:31.350Z"
   },
   {
    "duration": 719,
    "start_time": "2021-09-10T16:03:47.282Z"
   },
   {
    "duration": 8529,
    "start_time": "2021-09-10T16:04:43.580Z"
   },
   {
    "duration": 14,
    "start_time": "2021-09-10T16:04:55.125Z"
   },
   {
    "duration": 17,
    "start_time": "2021-09-10T16:06:03.484Z"
   },
   {
    "duration": 6899,
    "start_time": "2021-09-10T16:07:48.800Z"
   },
   {
    "duration": 1520,
    "start_time": "2021-09-10T16:08:08.831Z"
   },
   {
    "duration": 115,
    "start_time": "2021-09-10T16:08:10.354Z"
   },
   {
    "duration": 41,
    "start_time": "2021-09-10T16:08:10.471Z"
   },
   {
    "duration": 29,
    "start_time": "2021-09-10T16:08:11.386Z"
   },
   {
    "duration": 59,
    "start_time": "2021-09-10T16:08:12.303Z"
   },
   {
    "duration": 1441,
    "start_time": "2021-09-10T16:10:41.428Z"
   },
   {
    "duration": 1329,
    "start_time": "2021-09-10T16:11:12.427Z"
   },
   {
    "duration": 85,
    "start_time": "2021-09-10T16:11:13.759Z"
   },
   {
    "duration": 58,
    "start_time": "2021-09-10T16:11:13.848Z"
   },
   {
    "duration": 21,
    "start_time": "2021-09-10T16:11:21.618Z"
   },
   {
    "duration": 43,
    "start_time": "2021-09-10T16:11:31.806Z"
   },
   {
    "duration": 1274,
    "start_time": "2021-09-10T16:12:19.825Z"
   },
   {
    "duration": 90,
    "start_time": "2021-09-10T16:12:21.102Z"
   },
   {
    "duration": 40,
    "start_time": "2021-09-10T16:12:21.194Z"
   },
   {
    "duration": 54,
    "start_time": "2021-09-10T16:12:21.237Z"
   },
   {
    "duration": 1307,
    "start_time": "2021-09-10T16:12:49.717Z"
   },
   {
    "duration": 90,
    "start_time": "2021-09-10T16:12:51.026Z"
   },
   {
    "duration": 62,
    "start_time": "2021-09-10T16:12:51.119Z"
   },
   {
    "duration": 25,
    "start_time": "2021-09-10T16:12:52.762Z"
   },
   {
    "duration": 1429,
    "start_time": "2021-09-10T16:14:07.703Z"
   },
   {
    "duration": 108,
    "start_time": "2021-09-10T16:14:09.135Z"
   },
   {
    "duration": 71,
    "start_time": "2021-09-10T16:14:09.246Z"
   },
   {
    "duration": 63,
    "start_time": "2021-09-10T16:14:36.324Z"
   },
   {
    "duration": 529,
    "start_time": "2021-09-10T16:14:58.026Z"
   },
   {
    "duration": 1269,
    "start_time": "2021-09-10T16:15:36.446Z"
   },
   {
    "duration": 83,
    "start_time": "2021-09-10T16:15:37.718Z"
   },
   {
    "duration": 32,
    "start_time": "2021-09-10T16:15:37.803Z"
   },
   {
    "duration": 44,
    "start_time": "2021-09-10T16:15:37.838Z"
   },
   {
    "duration": 42,
    "start_time": "2021-09-10T16:15:38.162Z"
   },
   {
    "duration": 484,
    "start_time": "2021-09-10T16:15:39.001Z"
   },
   {
    "duration": 1554,
    "start_time": "2021-09-10T16:16:58.591Z"
   },
   {
    "duration": 1578,
    "start_time": "2021-09-10T16:17:06.964Z"
   },
   {
    "duration": 1376,
    "start_time": "2021-09-10T16:17:18.254Z"
   },
   {
    "duration": 89,
    "start_time": "2021-09-10T16:17:19.633Z"
   },
   {
    "duration": 68,
    "start_time": "2021-09-10T16:17:19.725Z"
   },
   {
    "duration": 1403,
    "start_time": "2021-09-10T16:17:37.734Z"
   },
   {
    "duration": 89,
    "start_time": "2021-09-10T16:17:39.140Z"
   },
   {
    "duration": 667,
    "start_time": "2021-09-10T16:17:39.231Z"
   },
   {
    "duration": 36,
    "start_time": "2021-09-10T16:17:50.871Z"
   },
   {
    "duration": 16,
    "start_time": "2021-09-10T16:17:51.447Z"
   },
   {
    "duration": 43,
    "start_time": "2021-09-10T16:17:51.983Z"
   },
   {
    "duration": 595,
    "start_time": "2021-09-10T16:17:52.369Z"
   },
   {
    "duration": 326,
    "start_time": "2021-09-10T16:27:47.782Z"
   },
   {
    "duration": 5,
    "start_time": "2021-09-10T16:27:56.676Z"
   },
   {
    "duration": 71,
    "start_time": "2021-09-10T16:27:56.891Z"
   },
   {
    "duration": 35,
    "start_time": "2021-09-10T16:27:57.060Z"
   },
   {
    "duration": 17,
    "start_time": "2021-09-10T16:27:57.256Z"
   },
   {
    "duration": 41,
    "start_time": "2021-09-10T16:27:57.390Z"
   },
   {
    "duration": 510,
    "start_time": "2021-09-10T16:27:57.577Z"
   },
   {
    "duration": 350,
    "start_time": "2021-09-10T16:27:58.130Z"
   },
   {
    "duration": 6,
    "start_time": "2021-09-10T16:29:18.771Z"
   },
   {
    "duration": 56,
    "start_time": "2021-09-10T16:29:27.930Z"
   },
   {
    "duration": 34,
    "start_time": "2021-09-10T16:32:17.293Z"
   },
   {
    "duration": 35,
    "start_time": "2021-09-10T16:32:44.416Z"
   },
   {
    "duration": 10,
    "start_time": "2021-09-10T16:34:12.118Z"
   },
   {
    "duration": 456,
    "start_time": "2021-09-10T16:34:45.659Z"
   },
   {
    "duration": 2017,
    "start_time": "2021-09-10T16:36:48.342Z"
   },
   {
    "duration": 1198,
    "start_time": "2021-09-10T16:36:56.249Z"
   },
   {
    "duration": 1702,
    "start_time": "2021-09-10T16:37:07.194Z"
   },
   {
    "duration": 457,
    "start_time": "2021-09-10T16:37:13.528Z"
   },
   {
    "duration": 476,
    "start_time": "2021-09-10T16:37:40.700Z"
   },
   {
    "duration": 533,
    "start_time": "2021-09-10T16:39:07.391Z"
   },
   {
    "duration": 434,
    "start_time": "2021-09-10T16:39:22.683Z"
   },
   {
    "duration": 512,
    "start_time": "2021-09-10T16:47:28.659Z"
   },
   {
    "duration": 13,
    "start_time": "2021-09-10T16:48:52.168Z"
   },
   {
    "duration": 12,
    "start_time": "2021-09-10T16:49:30.320Z"
   },
   {
    "duration": 428,
    "start_time": "2021-09-10T16:49:55.570Z"
   },
   {
    "duration": 12,
    "start_time": "2021-09-10T16:51:16.325Z"
   },
   {
    "duration": 356,
    "start_time": "2021-09-10T16:53:59.435Z"
   },
   {
    "duration": 420,
    "start_time": "2021-09-10T16:54:52.982Z"
   },
   {
    "duration": 8,
    "start_time": "2021-09-10T16:55:04.382Z"
   },
   {
    "duration": 436,
    "start_time": "2021-09-10T16:55:11.162Z"
   },
   {
    "duration": 329,
    "start_time": "2021-09-10T16:55:31.056Z"
   },
   {
    "duration": 316,
    "start_time": "2021-09-10T17:00:55.933Z"
   },
   {
    "duration": 308,
    "start_time": "2021-09-10T17:01:34.116Z"
   },
   {
    "duration": 301,
    "start_time": "2021-09-10T17:02:27.648Z"
   },
   {
    "duration": 321,
    "start_time": "2021-09-10T17:03:20.173Z"
   },
   {
    "duration": 294,
    "start_time": "2021-09-10T17:04:24.211Z"
   },
   {
    "duration": 400,
    "start_time": "2021-09-10T17:10:49.392Z"
   },
   {
    "duration": 9,
    "start_time": "2021-09-10T17:11:08.655Z"
   },
   {
    "duration": 11,
    "start_time": "2021-09-10T17:25:49.059Z"
   },
   {
    "duration": 11,
    "start_time": "2021-09-10T17:26:25.691Z"
   },
   {
    "duration": 13,
    "start_time": "2021-09-10T17:27:54.237Z"
   },
   {
    "duration": 11,
    "start_time": "2021-09-10T17:29:18.542Z"
   },
   {
    "duration": 6836,
    "start_time": "2021-09-10T17:29:24.221Z"
   },
   {
    "duration": 10,
    "start_time": "2021-09-10T17:29:37.791Z"
   },
   {
    "duration": 15,
    "start_time": "2021-09-10T17:29:51.894Z"
   },
   {
    "duration": 29942,
    "start_time": "2021-09-10T17:31:06.539Z"
   },
   {
    "duration": 11,
    "start_time": "2021-09-10T17:31:50.053Z"
   },
   {
    "duration": 11,
    "start_time": "2021-09-10T17:31:56.918Z"
   },
   {
    "duration": 11,
    "start_time": "2021-09-10T17:31:59.764Z"
   },
   {
    "duration": 1583,
    "start_time": "2021-09-10T17:32:34.023Z"
   },
   {
    "duration": 86,
    "start_time": "2021-09-10T17:32:35.609Z"
   },
   {
    "duration": 38,
    "start_time": "2021-09-10T17:32:35.700Z"
   },
   {
    "duration": 53,
    "start_time": "2021-09-10T17:32:35.742Z"
   },
   {
    "duration": 48,
    "start_time": "2021-09-10T17:32:35.798Z"
   },
   {
    "duration": 507,
    "start_time": "2021-09-10T17:32:35.882Z"
   },
   {
    "duration": 12,
    "start_time": "2021-09-10T17:32:36.391Z"
   },
   {
    "duration": 476,
    "start_time": "2021-09-10T17:32:36.406Z"
   },
   {
    "duration": 314,
    "start_time": "2021-09-10T17:32:36.886Z"
   },
   {
    "duration": 429,
    "start_time": "2021-09-10T17:32:37.206Z"
   },
   {
    "duration": 487,
    "start_time": "2021-09-10T17:32:37.638Z"
   },
   {
    "duration": 494,
    "start_time": "2021-09-10T17:32:38.129Z"
   },
   {
    "duration": 308,
    "start_time": "2021-09-10T17:32:38.626Z"
   },
   {
    "duration": 10,
    "start_time": "2021-09-10T17:32:38.937Z"
   },
   {
    "duration": 40,
    "start_time": "2021-09-10T17:32:38.949Z"
   },
   {
    "duration": 33,
    "start_time": "2021-09-10T17:32:38.992Z"
   },
   {
    "duration": 6737,
    "start_time": "2021-09-10T17:33:35.312Z"
   },
   {
    "duration": 12,
    "start_time": "2021-09-10T17:34:15.536Z"
   },
   {
    "duration": 11,
    "start_time": "2021-09-10T17:34:19.903Z"
   },
   {
    "duration": 13,
    "start_time": "2021-09-10T17:34:27.332Z"
   },
   {
    "duration": 12,
    "start_time": "2021-09-10T17:34:34.278Z"
   },
   {
    "duration": 17,
    "start_time": "2021-09-10T17:34:43.583Z"
   },
   {
    "duration": 919,
    "start_time": "2021-09-10T17:34:54.672Z"
   },
   {
    "duration": 12,
    "start_time": "2021-09-10T17:35:00.233Z"
   },
   {
    "duration": 1274,
    "start_time": "2021-09-10T17:38:19.762Z"
   },
   {
    "duration": 31679,
    "start_time": "2021-09-10T17:38:35.399Z"
   },
   {
    "duration": 4280,
    "start_time": "2021-09-10T17:39:27.471Z"
   },
   {
    "duration": 12,
    "start_time": "2021-09-10T17:40:10.979Z"
   },
   {
    "duration": 11,
    "start_time": "2021-09-10T17:40:17.851Z"
   },
   {
    "duration": 12,
    "start_time": "2021-09-10T17:41:09.144Z"
   },
   {
    "duration": 64,
    "start_time": "2021-09-10T17:46:39.323Z"
   },
   {
    "duration": 9,
    "start_time": "2021-09-10T17:48:42.625Z"
   },
   {
    "duration": 12,
    "start_time": "2021-09-10T17:48:44.153Z"
   },
   {
    "duration": 63,
    "start_time": "2021-09-10T17:48:44.574Z"
   },
   {
    "duration": 12,
    "start_time": "2021-09-10T17:49:32.958Z"
   },
   {
    "duration": 8,
    "start_time": "2021-09-10T17:50:11.033Z"
   },
   {
    "duration": 12,
    "start_time": "2021-09-10T17:50:12.658Z"
   },
   {
    "duration": 63,
    "start_time": "2021-09-10T17:50:15.577Z"
   },
   {
    "duration": 69,
    "start_time": "2021-09-10T17:51:17.724Z"
   },
   {
    "duration": 65,
    "start_time": "2021-09-10T17:54:14.345Z"
   },
   {
    "duration": 7,
    "start_time": "2021-09-10T18:03:41.479Z"
   },
   {
    "duration": 9,
    "start_time": "2021-09-10T18:04:13.053Z"
   },
   {
    "duration": 210,
    "start_time": "2021-09-10T18:06:03.198Z"
   },
   {
    "duration": 367,
    "start_time": "2021-09-10T18:06:13.886Z"
   },
   {
    "duration": 359,
    "start_time": "2021-09-10T18:06:51.992Z"
   },
   {
    "duration": 191,
    "start_time": "2021-09-10T18:07:07.198Z"
   },
   {
    "duration": 31,
    "start_time": "2021-09-10T18:10:14.401Z"
   },
   {
    "duration": 7,
    "start_time": "2021-09-10T18:11:06.694Z"
   },
   {
    "duration": 8368,
    "start_time": "2021-09-10T18:13:37.962Z"
   },
   {
    "duration": 1351,
    "start_time": "2021-09-10T18:14:12.466Z"
   },
   {
    "duration": 84,
    "start_time": "2021-09-10T18:14:13.820Z"
   },
   {
    "duration": 35,
    "start_time": "2021-09-10T18:14:13.908Z"
   },
   {
    "duration": 42,
    "start_time": "2021-09-10T18:14:13.945Z"
   },
   {
    "duration": 43,
    "start_time": "2021-09-10T18:14:13.989Z"
   },
   {
    "duration": 662,
    "start_time": "2021-09-10T18:14:14.034Z"
   },
   {
    "duration": 15,
    "start_time": "2021-09-10T18:14:14.700Z"
   },
   {
    "duration": 535,
    "start_time": "2021-09-10T18:14:14.718Z"
   },
   {
    "duration": 321,
    "start_time": "2021-09-10T18:14:15.257Z"
   },
   {
    "duration": 320,
    "start_time": "2021-09-10T18:14:15.581Z"
   },
   {
    "duration": 309,
    "start_time": "2021-09-10T18:14:15.904Z"
   },
   {
    "duration": 301,
    "start_time": "2021-09-10T18:14:16.216Z"
   },
   {
    "duration": 315,
    "start_time": "2021-09-10T18:14:16.520Z"
   },
   {
    "duration": 8,
    "start_time": "2021-09-10T18:14:16.982Z"
   },
   {
    "duration": 11,
    "start_time": "2021-09-10T18:14:17.629Z"
   },
   {
    "duration": 62,
    "start_time": "2021-09-10T18:14:18.121Z"
   },
   {
    "duration": 9,
    "start_time": "2021-09-10T18:14:19.666Z"
   },
   {
    "duration": 208,
    "start_time": "2021-09-10T18:14:20.037Z"
   },
   {
    "duration": 217,
    "start_time": "2021-09-10T18:14:20.872Z"
   },
   {
    "duration": 8,
    "start_time": "2021-09-10T18:14:22.584Z"
   },
   {
    "duration": 9368,
    "start_time": "2021-09-10T18:14:23.276Z"
   },
   {
    "duration": 6773,
    "start_time": "2021-09-10T18:15:12.884Z"
   },
   {
    "duration": 473,
    "start_time": "2021-09-10T18:15:28.299Z"
   },
   {
    "duration": 317,
    "start_time": "2021-09-10T18:16:38.109Z"
   },
   {
    "duration": 1298,
    "start_time": "2021-09-10T18:18:21.693Z"
   },
   {
    "duration": 80,
    "start_time": "2021-09-10T18:18:22.994Z"
   },
   {
    "duration": 33,
    "start_time": "2021-09-10T18:18:23.834Z"
   },
   {
    "duration": 1341,
    "start_time": "2021-09-10T18:18:25.008Z"
   },
   {
    "duration": 6766,
    "start_time": "2021-09-10T18:18:19.586Z"
   },
   {
    "duration": 1198,
    "start_time": "2021-09-10T18:21:53.311Z"
   },
   {
    "duration": 84,
    "start_time": "2021-09-10T18:21:54.511Z"
   },
   {
    "duration": 35,
    "start_time": "2021-09-10T18:21:55.016Z"
   },
   {
    "duration": 1494,
    "start_time": "2021-09-10T18:21:56.369Z"
   },
   {
    "duration": 37,
    "start_time": "2021-09-10T18:22:07.023Z"
   },
   {
    "duration": 19,
    "start_time": "2021-09-10T18:22:28.279Z"
   },
   {
    "duration": 1286,
    "start_time": "2021-09-10T18:23:37.435Z"
   },
   {
    "duration": 76,
    "start_time": "2021-09-10T18:23:38.724Z"
   },
   {
    "duration": 33,
    "start_time": "2021-09-10T18:23:39.619Z"
   },
   {
    "duration": 32,
    "start_time": "2021-09-10T18:23:40.221Z"
   },
   {
    "duration": 38,
    "start_time": "2021-09-10T18:23:40.921Z"
   },
   {
    "duration": 473,
    "start_time": "2021-09-10T18:23:41.697Z"
   },
   {
    "duration": 37,
    "start_time": "2021-09-10T18:23:57.223Z"
   },
   {
    "duration": 614,
    "start_time": "2021-09-10T18:23:57.451Z"
   },
   {
    "duration": 20,
    "start_time": "2021-09-10T18:23:58.068Z"
   },
   {
    "duration": 467,
    "start_time": "2021-09-10T18:23:58.091Z"
   },
   {
    "duration": 305,
    "start_time": "2021-09-10T18:23:58.561Z"
   },
   {
    "duration": 291,
    "start_time": "2021-09-10T18:23:58.869Z"
   },
   {
    "duration": 297,
    "start_time": "2021-09-10T18:23:59.163Z"
   },
   {
    "duration": 292,
    "start_time": "2021-09-10T18:23:59.462Z"
   },
   {
    "duration": 305,
    "start_time": "2021-09-10T18:23:59.756Z"
   },
   {
    "duration": 18,
    "start_time": "2021-09-10T18:24:00.064Z"
   },
   {
    "duration": 12,
    "start_time": "2021-09-10T18:24:00.654Z"
   },
   {
    "duration": 133,
    "start_time": "2021-09-10T18:24:01.215Z"
   },
   {
    "duration": 9,
    "start_time": "2021-09-10T18:24:03.005Z"
   },
   {
    "duration": 190,
    "start_time": "2021-09-10T18:24:03.470Z"
   },
   {
    "duration": 195,
    "start_time": "2021-09-10T18:24:04.228Z"
   },
   {
    "duration": 7,
    "start_time": "2021-09-10T18:24:05.114Z"
   },
   {
    "duration": 1199,
    "start_time": "2021-09-10T18:27:47.914Z"
   },
   {
    "duration": 84,
    "start_time": "2021-09-10T18:27:49.118Z"
   },
   {
    "duration": 33,
    "start_time": "2021-09-10T18:27:49.204Z"
   },
   {
    "duration": 1417,
    "start_time": "2021-09-10T18:27:49.239Z"
   },
   {
    "duration": 6779,
    "start_time": "2021-09-10T18:27:43.880Z"
   },
   {
    "duration": 6733,
    "start_time": "2021-09-10T18:27:43.927Z"
   },
   {
    "duration": 6731,
    "start_time": "2021-09-10T18:27:43.931Z"
   },
   {
    "duration": 6730,
    "start_time": "2021-09-10T18:27:43.933Z"
   },
   {
    "duration": 6731,
    "start_time": "2021-09-10T18:27:43.934Z"
   },
   {
    "duration": 6731,
    "start_time": "2021-09-10T18:27:43.935Z"
   },
   {
    "duration": 6730,
    "start_time": "2021-09-10T18:27:43.937Z"
   },
   {
    "duration": 6730,
    "start_time": "2021-09-10T18:27:43.938Z"
   },
   {
    "duration": 6732,
    "start_time": "2021-09-10T18:27:43.938Z"
   },
   {
    "duration": 8,
    "start_time": "2021-09-10T18:27:51.127Z"
   },
   {
    "duration": 343,
    "start_time": "2021-09-10T18:27:51.459Z"
   },
   {
    "duration": 6809,
    "start_time": "2021-09-10T18:27:44.995Z"
   },
   {
    "duration": 11,
    "start_time": "2021-09-10T18:27:52.032Z"
   },
   {
    "duration": 583,
    "start_time": "2021-09-10T18:27:52.234Z"
   },
   {
    "duration": 6795,
    "start_time": "2021-09-10T18:27:46.024Z"
   },
   {
    "duration": 7,
    "start_time": "2021-09-10T18:27:53.062Z"
   },
   {
    "duration": 100,
    "start_time": "2021-09-10T18:27:53.578Z"
   },
   {
    "duration": 1184,
    "start_time": "2021-09-10T18:27:54.035Z"
   },
   {
    "duration": 8251,
    "start_time": "2021-09-10T18:28:17.298Z"
   },
   {
    "duration": 6707,
    "start_time": "2021-09-10T18:28:18.845Z"
   },
   {
    "duration": 1228,
    "start_time": "2021-09-10T18:29:25.685Z"
   },
   {
    "duration": 77,
    "start_time": "2021-09-10T18:29:26.916Z"
   },
   {
    "duration": 36,
    "start_time": "2021-09-10T18:29:27.782Z"
   },
   {
    "duration": 1428,
    "start_time": "2021-09-10T18:29:28.303Z"
   },
   {
    "duration": 1239,
    "start_time": "2021-09-10T18:30:10.066Z"
   },
   {
    "duration": 82,
    "start_time": "2021-09-10T18:30:11.307Z"
   },
   {
    "duration": 34,
    "start_time": "2021-09-10T18:30:11.391Z"
   },
   {
    "duration": 1413,
    "start_time": "2021-09-10T18:30:11.785Z"
   },
   {
    "duration": 2038,
    "start_time": "2021-09-10T18:31:11.490Z"
   },
   {
    "duration": 81,
    "start_time": "2021-09-10T18:31:13.531Z"
   },
   {
    "duration": 67,
    "start_time": "2021-09-10T18:31:13.617Z"
   },
   {
    "duration": 8,
    "start_time": "2021-09-10T18:31:13.850Z"
   },
   {
    "duration": 20,
    "start_time": "2021-09-10T18:34:34.615Z"
   },
   {
    "duration": 1328,
    "start_time": "2021-09-10T18:39:43.476Z"
   },
   {
    "duration": 35,
    "start_time": "2021-09-10T18:42:45.234Z"
   },
   {
    "duration": 14,
    "start_time": "2021-09-10T18:43:43.128Z"
   },
   {
    "duration": 1313,
    "start_time": "2021-09-10T18:45:54.057Z"
   },
   {
    "duration": 25,
    "start_time": "2021-09-10T18:46:08.668Z"
   },
   {
    "duration": 10,
    "start_time": "2021-09-10T18:46:30.045Z"
   },
   {
    "duration": 75,
    "start_time": "2021-09-10T18:46:30.309Z"
   },
   {
    "duration": 41,
    "start_time": "2021-09-10T18:46:30.593Z"
   },
   {
    "duration": 14,
    "start_time": "2021-09-10T18:46:30.931Z"
   },
   {
    "duration": 39,
    "start_time": "2021-09-10T18:46:31.197Z"
   },
   {
    "duration": 48,
    "start_time": "2021-09-10T18:46:31.703Z"
   },
   {
    "duration": 495,
    "start_time": "2021-09-10T18:46:31.794Z"
   },
   {
    "duration": 1345,
    "start_time": "2021-09-10T18:46:38.352Z"
   },
   {
    "duration": 91,
    "start_time": "2021-09-10T18:46:39.700Z"
   },
   {
    "duration": 44,
    "start_time": "2021-09-10T18:46:39.795Z"
   },
   {
    "duration": 42,
    "start_time": "2021-09-10T18:46:39.842Z"
   },
   {
    "duration": 37,
    "start_time": "2021-09-10T18:46:39.886Z"
   },
   {
    "duration": 71,
    "start_time": "2021-09-10T18:46:39.925Z"
   },
   {
    "duration": 520,
    "start_time": "2021-09-10T18:46:39.998Z"
   },
   {
    "duration": 11,
    "start_time": "2021-09-10T18:46:40.521Z"
   },
   {
    "duration": 450,
    "start_time": "2021-09-10T18:46:40.535Z"
   },
   {
    "duration": 308,
    "start_time": "2021-09-10T18:46:40.987Z"
   },
   {
    "duration": 305,
    "start_time": "2021-09-10T18:46:41.297Z"
   },
   {
    "duration": 305,
    "start_time": "2021-09-10T18:46:41.605Z"
   },
   {
    "duration": 311,
    "start_time": "2021-09-10T18:46:41.913Z"
   },
   {
    "duration": 303,
    "start_time": "2021-09-10T18:46:42.226Z"
   },
   {
    "duration": 9,
    "start_time": "2021-09-10T18:46:42.531Z"
   },
   {
    "duration": 39,
    "start_time": "2021-09-10T18:46:42.543Z"
   },
   {
    "duration": 62,
    "start_time": "2021-09-10T18:46:42.585Z"
   },
   {
    "duration": 10,
    "start_time": "2021-09-10T18:46:42.705Z"
   },
   {
    "duration": 197,
    "start_time": "2021-09-10T18:46:42.952Z"
   },
   {
    "duration": 237,
    "start_time": "2021-09-10T18:46:43.167Z"
   },
   {
    "duration": 8,
    "start_time": "2021-09-10T18:46:43.943Z"
   },
   {
    "duration": 499,
    "start_time": "2021-09-10T18:46:44.377Z"
   },
   {
    "duration": 382,
    "start_time": "2021-09-10T18:46:45.182Z"
   },
   {
    "duration": 8498,
    "start_time": "2021-09-10T18:50:32.769Z"
   },
   {
    "duration": 397,
    "start_time": "2021-09-10T18:50:50.290Z"
   },
   {
    "duration": 392,
    "start_time": "2021-09-10T18:52:19.192Z"
   },
   {
    "duration": 400,
    "start_time": "2021-09-10T18:52:50.229Z"
   },
   {
    "duration": 39,
    "start_time": "2021-09-10T19:04:16.743Z"
   },
   {
    "duration": 8,
    "start_time": "2021-09-10T19:06:19.695Z"
   },
   {
    "duration": 402,
    "start_time": "2021-09-10T19:07:45.409Z"
   },
   {
    "duration": 420,
    "start_time": "2021-09-10T19:07:45.828Z"
   },
   {
    "duration": 337,
    "start_time": "2021-09-10T19:09:27.779Z"
   },
   {
    "duration": 10,
    "start_time": "2021-09-10T19:09:45.001Z"
   },
   {
    "duration": 367,
    "start_time": "2021-09-10T19:10:37.816Z"
   },
   {
    "duration": 408,
    "start_time": "2021-09-10T19:10:38.186Z"
   },
   {
    "duration": 385,
    "start_time": "2021-09-10T19:10:54.708Z"
   },
   {
    "duration": 452,
    "start_time": "2021-09-10T19:11:12.301Z"
   },
   {
    "duration": 404,
    "start_time": "2021-09-10T19:11:12.756Z"
   },
   {
    "duration": 440,
    "start_time": "2021-09-10T19:12:04.429Z"
   },
   {
    "duration": 13,
    "start_time": "2021-09-10T19:19:22.195Z"
   },
   {
    "duration": 33,
    "start_time": "2021-09-10T19:20:12.333Z"
   },
   {
    "duration": 36,
    "start_time": "2021-09-10T19:20:16.034Z"
   },
   {
    "duration": 1266,
    "start_time": "2021-09-10T19:20:27.551Z"
   },
   {
    "duration": 81,
    "start_time": "2021-09-10T19:20:28.819Z"
   },
   {
    "duration": 36,
    "start_time": "2021-09-10T19:20:28.903Z"
   },
   {
    "duration": 14,
    "start_time": "2021-09-10T19:20:29.181Z"
   },
   {
    "duration": 43,
    "start_time": "2021-09-10T19:20:29.866Z"
   },
   {
    "duration": 42,
    "start_time": "2021-09-10T19:20:30.590Z"
   },
   {
    "duration": 455,
    "start_time": "2021-09-10T19:20:30.842Z"
   },
   {
    "duration": 11,
    "start_time": "2021-09-10T19:20:31.520Z"
   },
   {
    "duration": 515,
    "start_time": "2021-09-10T19:20:31.604Z"
   },
   {
    "duration": 301,
    "start_time": "2021-09-10T19:20:32.122Z"
   },
   {
    "duration": 302,
    "start_time": "2021-09-10T19:20:32.426Z"
   },
   {
    "duration": 370,
    "start_time": "2021-09-10T19:20:32.731Z"
   },
   {
    "duration": 319,
    "start_time": "2021-09-10T19:20:33.104Z"
   },
   {
    "duration": 290,
    "start_time": "2021-09-10T19:20:33.425Z"
   },
   {
    "duration": 8,
    "start_time": "2021-09-10T19:20:33.717Z"
   },
   {
    "duration": 64,
    "start_time": "2021-09-10T19:20:33.728Z"
   },
   {
    "duration": 105,
    "start_time": "2021-09-10T19:20:33.795Z"
   },
   {
    "duration": 8,
    "start_time": "2021-09-10T19:20:33.902Z"
   },
   {
    "duration": 259,
    "start_time": "2021-09-10T19:20:33.912Z"
   },
   {
    "duration": 208,
    "start_time": "2021-09-10T19:20:34.173Z"
   },
   {
    "duration": 490,
    "start_time": "2021-09-10T19:20:34.384Z"
   },
   {
    "duration": 394,
    "start_time": "2021-09-10T19:20:34.876Z"
   },
   {
    "duration": 381,
    "start_time": "2021-09-10T19:20:35.272Z"
   },
   {
    "duration": 395,
    "start_time": "2021-09-10T19:20:35.655Z"
   },
   {
    "duration": 9,
    "start_time": "2021-09-10T19:20:36.052Z"
   },
   {
    "duration": 362,
    "start_time": "2021-09-10T19:20:36.082Z"
   },
   {
    "duration": 404,
    "start_time": "2021-09-10T19:20:36.447Z"
   },
   {
    "duration": 279,
    "start_time": "2021-09-10T19:22:25.636Z"
   },
   {
    "duration": 15,
    "start_time": "2021-09-10T19:23:39.384Z"
   },
   {
    "duration": 10,
    "start_time": "2021-09-10T19:24:32.195Z"
   },
   {
    "duration": 276,
    "start_time": "2021-09-10T19:25:00.257Z"
   },
   {
    "duration": 11,
    "start_time": "2021-09-10T19:25:00.536Z"
   },
   {
    "duration": 11,
    "start_time": "2021-09-10T20:06:39.443Z"
   },
   {
    "duration": 13,
    "start_time": "2021-09-10T20:07:28.580Z"
   },
   {
    "duration": 11,
    "start_time": "2021-09-10T20:08:24.518Z"
   },
   {
    "duration": 5,
    "start_time": "2021-09-10T20:12:02.529Z"
   },
   {
    "duration": 5,
    "start_time": "2021-09-10T20:12:11.729Z"
   },
   {
    "duration": 4,
    "start_time": "2021-09-10T20:14:45.866Z"
   },
   {
    "duration": 4,
    "start_time": "2021-09-10T20:14:50.387Z"
   },
   {
    "duration": 12,
    "start_time": "2021-09-10T20:16:59.579Z"
   },
   {
    "duration": 11,
    "start_time": "2021-09-10T20:17:24.074Z"
   },
   {
    "duration": 1799,
    "start_time": "2021-09-10T20:20:11.634Z"
   },
   {
    "duration": 11,
    "start_time": "2021-09-10T20:22:56.970Z"
   },
   {
    "duration": 12,
    "start_time": "2021-09-10T20:23:10.920Z"
   },
   {
    "duration": 10,
    "start_time": "2021-09-10T20:23:19.054Z"
   },
   {
    "duration": 15,
    "start_time": "2021-09-10T20:24:08.004Z"
   },
   {
    "duration": 14,
    "start_time": "2021-09-10T20:24:13.137Z"
   },
   {
    "duration": 113,
    "start_time": "2021-09-10T20:24:52.015Z"
   },
   {
    "duration": 20,
    "start_time": "2021-09-10T20:25:05.171Z"
   },
   {
    "duration": 19,
    "start_time": "2021-09-10T20:26:47.821Z"
   },
   {
    "duration": 8717,
    "start_time": "2021-09-10T20:28:26.391Z"
   },
   {
    "duration": 21,
    "start_time": "2021-09-10T20:28:53.089Z"
   },
   {
    "duration": 10,
    "start_time": "2021-09-10T20:32:07.717Z"
   },
   {
    "duration": 11,
    "start_time": "2021-09-10T20:32:37.428Z"
   },
   {
    "duration": 10,
    "start_time": "2021-09-10T20:32:59.941Z"
   },
   {
    "duration": 10,
    "start_time": "2021-09-10T20:33:04.676Z"
   },
   {
    "duration": 11,
    "start_time": "2021-09-10T20:33:05.180Z"
   },
   {
    "duration": 13,
    "start_time": "2021-09-10T20:35:44.376Z"
   },
   {
    "duration": 11,
    "start_time": "2021-09-10T20:36:18.839Z"
   },
   {
    "duration": 13,
    "start_time": "2021-09-10T20:36:33.304Z"
   },
   {
    "duration": 19,
    "start_time": "2021-09-10T20:38:23.072Z"
   },
   {
    "duration": 10,
    "start_time": "2021-09-10T20:39:12.270Z"
   },
   {
    "duration": 11,
    "start_time": "2021-09-10T20:39:12.546Z"
   },
   {
    "duration": 11,
    "start_time": "2021-09-10T20:42:33.567Z"
   },
   {
    "duration": 10,
    "start_time": "2021-09-10T20:42:48.376Z"
   },
   {
    "duration": 10,
    "start_time": "2021-09-10T20:42:48.725Z"
   },
   {
    "duration": 10,
    "start_time": "2021-09-10T20:44:54.353Z"
   },
   {
    "duration": 10,
    "start_time": "2021-09-10T20:45:17.614Z"
   },
   {
    "duration": 19,
    "start_time": "2021-09-10T20:46:38.767Z"
   },
   {
    "duration": 1286,
    "start_time": "2021-09-10T21:04:28.405Z"
   },
   {
    "duration": 77,
    "start_time": "2021-09-10T21:04:29.694Z"
   },
   {
    "duration": 42,
    "start_time": "2021-09-10T21:04:29.782Z"
   },
   {
    "duration": 13,
    "start_time": "2021-09-10T21:04:29.827Z"
   },
   {
    "duration": 83,
    "start_time": "2021-09-10T21:04:29.842Z"
   },
   {
    "duration": 76,
    "start_time": "2021-09-10T21:04:29.928Z"
   },
   {
    "duration": 560,
    "start_time": "2021-09-10T21:04:30.006Z"
   },
   {
    "duration": 17,
    "start_time": "2021-09-10T21:04:30.582Z"
   },
   {
    "duration": 514,
    "start_time": "2021-09-10T21:04:30.602Z"
   },
   {
    "duration": 335,
    "start_time": "2021-09-10T21:04:31.118Z"
   },
   {
    "duration": 395,
    "start_time": "2021-09-10T21:04:31.455Z"
   },
   {
    "duration": 325,
    "start_time": "2021-09-10T21:04:31.852Z"
   },
   {
    "duration": 334,
    "start_time": "2021-09-10T21:04:32.180Z"
   },
   {
    "duration": 322,
    "start_time": "2021-09-10T21:04:32.516Z"
   },
   {
    "duration": 8,
    "start_time": "2021-09-10T21:04:32.840Z"
   },
   {
    "duration": 94,
    "start_time": "2021-09-10T21:04:32.850Z"
   },
   {
    "duration": 95,
    "start_time": "2021-09-10T21:04:32.947Z"
   },
   {
    "duration": 11,
    "start_time": "2021-09-10T21:04:33.047Z"
   },
   {
    "duration": 236,
    "start_time": "2021-09-10T21:04:33.061Z"
   },
   {
    "duration": 224,
    "start_time": "2021-09-10T21:04:33.300Z"
   },
   {
    "duration": 490,
    "start_time": "2021-09-10T21:04:33.527Z"
   },
   {
    "duration": 391,
    "start_time": "2021-09-10T21:04:34.020Z"
   },
   {
    "duration": 382,
    "start_time": "2021-09-10T21:04:34.413Z"
   },
   {
    "duration": 406,
    "start_time": "2021-09-10T21:04:34.798Z"
   },
   {
    "duration": 8,
    "start_time": "2021-09-10T21:04:35.206Z"
   },
   {
    "duration": 452,
    "start_time": "2021-09-10T21:04:35.217Z"
   },
   {
    "duration": 426,
    "start_time": "2021-09-10T21:04:35.671Z"
   },
   {
    "duration": 323,
    "start_time": "2021-09-10T21:04:36.100Z"
   },
   {
    "duration": 10,
    "start_time": "2021-09-10T21:04:36.426Z"
   },
   {
    "duration": 42,
    "start_time": "2021-09-10T21:04:36.439Z"
   },
   {
    "duration": 16,
    "start_time": "2021-09-10T21:04:36.485Z"
   },
   {
    "duration": 6,
    "start_time": "2021-09-10T21:04:36.504Z"
   },
   {
    "duration": 11,
    "start_time": "2021-09-10T21:04:36.512Z"
   },
   {
    "duration": 80,
    "start_time": "2021-09-10T21:04:36.525Z"
   },
   {
    "duration": 10,
    "start_time": "2021-09-10T21:04:36.951Z"
   },
   {
    "duration": 11,
    "start_time": "2021-09-10T21:04:37.258Z"
   },
   {
    "duration": 12,
    "start_time": "2021-09-10T21:04:38.094Z"
   },
   {
    "duration": 11,
    "start_time": "2021-09-10T21:04:38.446Z"
   },
   {
    "duration": 23,
    "start_time": "2021-09-10T21:04:39.276Z"
   },
   {
    "duration": 14,
    "start_time": "2021-09-10T21:04:40.483Z"
   },
   {
    "duration": 11,
    "start_time": "2021-09-10T21:04:40.852Z"
   },
   {
    "duration": 14,
    "start_time": "2021-09-10T21:04:41.485Z"
   },
   {
    "duration": 11,
    "start_time": "2021-09-10T21:04:41.798Z"
   },
   {
    "duration": 19,
    "start_time": "2021-09-10T21:04:42.399Z"
   },
   {
    "duration": 455,
    "start_time": "2021-09-10T21:10:25.388Z"
   },
   {
    "duration": 6,
    "start_time": "2021-09-10T21:10:36.366Z"
   },
   {
    "duration": 8,
    "start_time": "2021-09-10T21:12:33.606Z"
   },
   {
    "duration": 24,
    "start_time": "2021-09-10T21:17:00.443Z"
   },
   {
    "duration": 1213,
    "start_time": "2021-09-10T21:18:28.207Z"
   },
   {
    "duration": 76,
    "start_time": "2021-09-10T21:18:29.423Z"
   },
   {
    "duration": 36,
    "start_time": "2021-09-10T21:18:29.502Z"
   },
   {
    "duration": 18,
    "start_time": "2021-09-10T21:18:29.882Z"
   },
   {
    "duration": 43,
    "start_time": "2021-09-10T21:18:30.526Z"
   },
   {
    "duration": 39,
    "start_time": "2021-09-10T21:18:31.133Z"
   },
   {
    "duration": 489,
    "start_time": "2021-09-10T21:18:31.870Z"
   },
   {
    "duration": 11,
    "start_time": "2021-09-10T21:18:33.820Z"
   },
   {
    "duration": 1343,
    "start_time": "2021-09-10T21:19:58.159Z"
   },
   {
    "duration": 88,
    "start_time": "2021-09-10T21:19:59.506Z"
   },
   {
    "duration": 34,
    "start_time": "2021-09-10T21:19:59.596Z"
   },
   {
    "duration": 15,
    "start_time": "2021-09-10T21:19:59.633Z"
   },
   {
    "duration": 44,
    "start_time": "2021-09-10T21:19:59.683Z"
   },
   {
    "duration": 62,
    "start_time": "2021-09-10T21:19:59.730Z"
   },
   {
    "duration": 533,
    "start_time": "2021-09-10T21:19:59.794Z"
   },
   {
    "duration": 12,
    "start_time": "2021-09-10T21:20:00.330Z"
   },
   {
    "duration": 495,
    "start_time": "2021-09-10T21:20:00.345Z"
   },
   {
    "duration": 324,
    "start_time": "2021-09-10T21:20:00.843Z"
   },
   {
    "duration": 335,
    "start_time": "2021-09-10T21:20:01.170Z"
   },
   {
    "duration": 348,
    "start_time": "2021-09-10T21:20:01.508Z"
   },
   {
    "duration": 329,
    "start_time": "2021-09-10T21:20:01.859Z"
   },
   {
    "duration": 349,
    "start_time": "2021-09-10T21:20:02.191Z"
   },
   {
    "duration": 8,
    "start_time": "2021-09-10T21:20:02.543Z"
   },
   {
    "duration": 33,
    "start_time": "2021-09-10T21:20:02.553Z"
   },
   {
    "duration": 100,
    "start_time": "2021-09-10T21:20:02.588Z"
   },
   {
    "duration": 13,
    "start_time": "2021-09-10T21:20:02.693Z"
   },
   {
    "duration": 275,
    "start_time": "2021-09-10T21:20:02.710Z"
   },
   {
    "duration": 232,
    "start_time": "2021-09-10T21:20:02.988Z"
   },
   {
    "duration": 490,
    "start_time": "2021-09-10T21:20:03.223Z"
   },
   {
    "duration": 397,
    "start_time": "2021-09-10T21:20:03.715Z"
   },
   {
    "duration": 443,
    "start_time": "2021-09-10T21:20:04.114Z"
   },
   {
    "duration": 411,
    "start_time": "2021-09-10T21:20:04.559Z"
   },
   {
    "duration": 12,
    "start_time": "2021-09-10T21:20:04.973Z"
   },
   {
    "duration": 774,
    "start_time": "2021-09-10T21:20:04.988Z"
   },
   {
    "duration": 421,
    "start_time": "2021-09-10T21:20:05.764Z"
   },
   {
    "duration": 325,
    "start_time": "2021-09-10T21:20:06.187Z"
   },
   {
    "duration": 10,
    "start_time": "2021-09-10T21:20:06.514Z"
   },
   {
    "duration": 13,
    "start_time": "2021-09-10T21:20:06.527Z"
   },
   {
    "duration": 47,
    "start_time": "2021-09-10T21:20:06.543Z"
   },
   {
    "duration": 5,
    "start_time": "2021-09-10T21:20:06.592Z"
   },
   {
    "duration": 11,
    "start_time": "2021-09-10T21:20:06.599Z"
   },
   {
    "duration": 69,
    "start_time": "2021-09-10T21:20:06.613Z"
   },
   {
    "duration": 10,
    "start_time": "2021-09-10T21:20:06.685Z"
   },
   {
    "duration": 13,
    "start_time": "2021-09-10T21:20:06.697Z"
   },
   {
    "duration": 10,
    "start_time": "2021-09-10T21:20:06.715Z"
   },
   {
    "duration": 62,
    "start_time": "2021-09-10T21:20:06.728Z"
   },
   {
    "duration": 29,
    "start_time": "2021-09-10T21:20:06.793Z"
   },
   {
    "duration": 58,
    "start_time": "2021-09-10T21:20:06.824Z"
   },
   {
    "duration": 11,
    "start_time": "2021-09-10T21:20:06.885Z"
   },
   {
    "duration": 9,
    "start_time": "2021-09-10T21:20:06.898Z"
   },
   {
    "duration": 16,
    "start_time": "2021-09-10T21:20:06.909Z"
   },
   {
    "duration": 69,
    "start_time": "2021-09-10T21:20:06.928Z"
   },
   {
    "duration": 45,
    "start_time": "2021-09-10T21:20:07.000Z"
   },
   {
    "duration": 49,
    "start_time": "2021-09-10T21:21:23.220Z"
   },
   {
    "duration": 19,
    "start_time": "2021-09-10T21:27:18.969Z"
   },
   {
    "duration": 20,
    "start_time": "2021-09-10T21:31:54.091Z"
   },
   {
    "duration": 101,
    "start_time": "2021-09-10T21:42:54.876Z"
   },
   {
    "duration": 1514,
    "start_time": "2021-09-10T21:43:16.300Z"
   },
   {
    "duration": 89,
    "start_time": "2021-09-10T21:43:17.816Z"
   },
   {
    "duration": 40,
    "start_time": "2021-09-10T21:43:17.909Z"
   },
   {
    "duration": 49,
    "start_time": "2021-09-10T21:43:17.952Z"
   },
   {
    "duration": 44,
    "start_time": "2021-09-10T21:43:18.004Z"
   },
   {
    "duration": 77,
    "start_time": "2021-09-10T21:43:18.050Z"
   },
   {
    "duration": 566,
    "start_time": "2021-09-10T21:43:18.130Z"
   },
   {
    "duration": 14,
    "start_time": "2021-09-10T21:43:18.701Z"
   },
   {
    "duration": 498,
    "start_time": "2021-09-10T21:43:18.719Z"
   },
   {
    "duration": 345,
    "start_time": "2021-09-10T21:43:19.219Z"
   },
   {
    "duration": 349,
    "start_time": "2021-09-10T21:43:19.566Z"
   },
   {
    "duration": 350,
    "start_time": "2021-09-10T21:43:19.918Z"
   },
   {
    "duration": 339,
    "start_time": "2021-09-10T21:43:20.270Z"
   },
   {
    "duration": 428,
    "start_time": "2021-09-10T21:43:20.612Z"
   },
   {
    "duration": 8,
    "start_time": "2021-09-10T21:43:21.042Z"
   },
   {
    "duration": 38,
    "start_time": "2021-09-10T21:43:21.052Z"
   },
   {
    "duration": 91,
    "start_time": "2021-09-10T21:43:21.094Z"
   },
   {
    "duration": 15,
    "start_time": "2021-09-10T21:43:21.187Z"
   },
   {
    "duration": 251,
    "start_time": "2021-09-10T21:43:21.204Z"
   },
   {
    "duration": 244,
    "start_time": "2021-09-10T21:43:21.458Z"
   },
   {
    "duration": 493,
    "start_time": "2021-09-10T21:43:21.708Z"
   },
   {
    "duration": 417,
    "start_time": "2021-09-10T21:43:22.204Z"
   },
   {
    "duration": 461,
    "start_time": "2021-09-10T21:43:22.624Z"
   },
   {
    "duration": 427,
    "start_time": "2021-09-10T21:43:23.088Z"
   },
   {
    "duration": 9,
    "start_time": "2021-09-10T21:43:23.518Z"
   },
   {
    "duration": 444,
    "start_time": "2021-09-10T21:43:23.529Z"
   },
   {
    "duration": 419,
    "start_time": "2021-09-10T21:43:23.985Z"
   },
   {
    "duration": 328,
    "start_time": "2021-09-10T21:43:24.406Z"
   },
   {
    "duration": 10,
    "start_time": "2021-09-10T21:43:24.737Z"
   },
   {
    "duration": 41,
    "start_time": "2021-09-10T21:43:24.750Z"
   },
   {
    "duration": 15,
    "start_time": "2021-09-10T21:43:24.794Z"
   },
   {
    "duration": 15,
    "start_time": "2021-09-10T21:43:24.811Z"
   },
   {
    "duration": 52,
    "start_time": "2021-09-10T21:43:24.830Z"
   },
   {
    "duration": 28,
    "start_time": "2021-09-10T21:43:24.889Z"
   },
   {
    "duration": 10,
    "start_time": "2021-09-10T21:43:24.919Z"
   },
   {
    "duration": 54,
    "start_time": "2021-09-10T21:43:24.932Z"
   },
   {
    "duration": 15,
    "start_time": "2021-09-10T21:43:24.989Z"
   },
   {
    "duration": 11,
    "start_time": "2021-09-10T21:43:25.007Z"
   },
   {
    "duration": 78,
    "start_time": "2021-09-10T21:43:25.021Z"
   },
   {
    "duration": 11,
    "start_time": "2021-09-10T21:43:25.319Z"
   },
   {
    "duration": 12,
    "start_time": "2021-09-10T21:43:25.571Z"
   },
   {
    "duration": 12,
    "start_time": "2021-09-10T21:43:26.116Z"
   },
   {
    "duration": 16,
    "start_time": "2021-09-10T21:43:26.379Z"
   },
   {
    "duration": 34,
    "start_time": "2021-09-10T21:43:26.881Z"
   },
   {
    "duration": 15,
    "start_time": "2021-09-10T21:43:27.661Z"
   },
   {
    "duration": 19,
    "start_time": "2021-09-10T21:43:28.199Z"
   },
   {
    "duration": 6,
    "start_time": "2021-09-10T21:44:27.676Z"
   },
   {
    "duration": 80,
    "start_time": "2021-09-10T21:44:28.177Z"
   },
   {
    "duration": 48,
    "start_time": "2021-09-10T21:44:28.265Z"
   },
   {
    "duration": 13,
    "start_time": "2021-09-10T21:44:28.368Z"
   },
   {
    "duration": 41,
    "start_time": "2021-09-10T21:44:28.436Z"
   },
   {
    "duration": 44,
    "start_time": "2021-09-10T21:44:28.511Z"
   },
   {
    "duration": 502,
    "start_time": "2021-09-10T21:44:28.615Z"
   },
   {
    "duration": 11,
    "start_time": "2021-09-10T21:44:29.119Z"
   },
   {
    "duration": 478,
    "start_time": "2021-09-10T21:44:29.133Z"
   },
   {
    "duration": 415,
    "start_time": "2021-09-10T21:44:29.614Z"
   },
   {
    "duration": 336,
    "start_time": "2021-09-10T21:44:30.033Z"
   },
   {
    "duration": 350,
    "start_time": "2021-09-10T21:44:30.372Z"
   },
   {
    "duration": 322,
    "start_time": "2021-09-10T21:44:30.724Z"
   },
   {
    "duration": 313,
    "start_time": "2021-09-10T21:44:31.050Z"
   },
   {
    "duration": 18,
    "start_time": "2021-09-10T21:44:31.366Z"
   },
   {
    "duration": 13,
    "start_time": "2021-09-10T21:44:31.392Z"
   },
   {
    "duration": 103,
    "start_time": "2021-09-10T21:44:31.407Z"
   },
   {
    "duration": 9,
    "start_time": "2021-09-10T21:44:31.512Z"
   },
   {
    "duration": 234,
    "start_time": "2021-09-10T21:44:31.523Z"
   },
   {
    "duration": 226,
    "start_time": "2021-09-10T21:44:31.759Z"
   },
   {
    "duration": 438,
    "start_time": "2021-09-10T21:44:31.987Z"
   },
   {
    "duration": 485,
    "start_time": "2021-09-10T21:44:32.428Z"
   },
   {
    "duration": 386,
    "start_time": "2021-09-10T21:44:32.916Z"
   },
   {
    "duration": 403,
    "start_time": "2021-09-10T21:44:33.304Z"
   },
   {
    "duration": 8,
    "start_time": "2021-09-10T21:44:33.709Z"
   },
   {
    "duration": 491,
    "start_time": "2021-09-10T21:44:33.720Z"
   },
   {
    "duration": 406,
    "start_time": "2021-09-10T21:44:34.214Z"
   },
   {
    "duration": 317,
    "start_time": "2021-09-10T21:44:34.625Z"
   },
   {
    "duration": 11,
    "start_time": "2021-09-10T21:44:34.944Z"
   },
   {
    "duration": 33,
    "start_time": "2021-09-10T21:44:34.957Z"
   },
   {
    "duration": 14,
    "start_time": "2021-09-10T21:44:34.993Z"
   },
   {
    "duration": 13,
    "start_time": "2021-09-10T21:44:35.010Z"
   },
   {
    "duration": 66,
    "start_time": "2021-09-10T21:44:35.025Z"
   },
   {
    "duration": 23,
    "start_time": "2021-09-10T21:44:35.094Z"
   },
   {
    "duration": 14,
    "start_time": "2021-09-10T21:44:35.119Z"
   },
   {
    "duration": 52,
    "start_time": "2021-09-10T21:44:35.136Z"
   },
   {
    "duration": 13,
    "start_time": "2021-09-10T21:44:35.193Z"
   },
   {
    "duration": 13,
    "start_time": "2021-09-10T21:44:35.208Z"
   },
   {
    "duration": 22,
    "start_time": "2021-09-10T21:44:35.223Z"
   },
   {
    "duration": 53,
    "start_time": "2021-09-10T21:44:35.247Z"
   },
   {
    "duration": 20,
    "start_time": "2021-09-10T21:44:35.303Z"
   },
   {
    "duration": 13,
    "start_time": "2021-09-10T21:44:35.325Z"
   },
   {
    "duration": 54,
    "start_time": "2021-09-10T21:44:35.340Z"
   },
   {
    "duration": 22,
    "start_time": "2021-09-10T21:44:35.397Z"
   },
   {
    "duration": 62,
    "start_time": "2021-09-10T21:44:35.422Z"
   },
   {
    "duration": 21,
    "start_time": "2021-09-10T21:44:35.489Z"
   },
   {
    "duration": 1365,
    "start_time": "2021-09-10T21:44:46.262Z"
   },
   {
    "duration": 84,
    "start_time": "2021-09-10T21:44:47.630Z"
   },
   {
    "duration": 71,
    "start_time": "2021-09-10T21:44:47.718Z"
   },
   {
    "duration": 18,
    "start_time": "2021-09-10T21:44:47.792Z"
   },
   {
    "duration": 86,
    "start_time": "2021-09-10T21:44:47.814Z"
   },
   {
    "duration": 39,
    "start_time": "2021-09-10T21:44:47.902Z"
   },
   {
    "duration": 533,
    "start_time": "2021-09-10T21:44:47.944Z"
   },
   {
    "duration": 11,
    "start_time": "2021-09-10T21:44:48.484Z"
   },
   {
    "duration": 531,
    "start_time": "2021-09-10T21:44:48.498Z"
   },
   {
    "duration": 318,
    "start_time": "2021-09-10T21:44:49.032Z"
   },
   {
    "duration": 321,
    "start_time": "2021-09-10T21:44:49.352Z"
   },
   {
    "duration": 307,
    "start_time": "2021-09-10T21:44:49.675Z"
   },
   {
    "duration": 327,
    "start_time": "2021-09-10T21:44:49.985Z"
   },
   {
    "duration": 324,
    "start_time": "2021-09-10T21:44:50.315Z"
   },
   {
    "duration": 8,
    "start_time": "2021-09-10T21:44:50.642Z"
   },
   {
    "duration": 34,
    "start_time": "2021-09-10T21:44:50.652Z"
   },
   {
    "duration": 65,
    "start_time": "2021-09-10T21:44:50.688Z"
   },
   {
    "duration": 10,
    "start_time": "2021-09-10T21:44:50.783Z"
   },
   {
    "duration": 227,
    "start_time": "2021-09-10T21:44:50.795Z"
   },
   {
    "duration": 227,
    "start_time": "2021-09-10T21:44:51.026Z"
   },
   {
    "duration": 496,
    "start_time": "2021-09-10T21:44:51.258Z"
   },
   {
    "duration": 404,
    "start_time": "2021-09-10T21:44:51.758Z"
   },
   {
    "duration": 401,
    "start_time": "2021-09-10T21:44:52.165Z"
   },
   {
    "duration": 400,
    "start_time": "2021-09-10T21:44:52.569Z"
   },
   {
    "duration": 18,
    "start_time": "2021-09-10T21:44:52.971Z"
   },
   {
    "duration": 364,
    "start_time": "2021-09-10T21:44:52.992Z"
   },
   {
    "duration": 409,
    "start_time": "2021-09-10T21:44:53.359Z"
   },
   {
    "duration": 462,
    "start_time": "2021-09-10T21:44:53.771Z"
   },
   {
    "duration": 15,
    "start_time": "2021-09-10T21:44:54.236Z"
   },
   {
    "duration": 39,
    "start_time": "2021-09-10T21:44:54.254Z"
   },
   {
    "duration": 16,
    "start_time": "2021-09-10T21:44:54.296Z"
   },
   {
    "duration": 14,
    "start_time": "2021-09-10T21:44:54.316Z"
   },
   {
    "duration": 56,
    "start_time": "2021-09-10T21:44:54.333Z"
   },
   {
    "duration": 21,
    "start_time": "2021-09-10T21:44:54.392Z"
   },
   {
    "duration": 11,
    "start_time": "2021-09-10T21:44:54.506Z"
   },
   {
    "duration": 12,
    "start_time": "2021-09-10T21:44:54.717Z"
   },
   {
    "duration": 10,
    "start_time": "2021-09-10T21:44:55.209Z"
   },
   {
    "duration": 11,
    "start_time": "2021-09-10T21:44:56.017Z"
   },
   {
    "duration": 21,
    "start_time": "2021-09-10T21:44:56.031Z"
   },
   {
    "duration": 10,
    "start_time": "2021-09-10T21:44:56.553Z"
   },
   {
    "duration": 11,
    "start_time": "2021-09-10T21:44:56.846Z"
   },
   {
    "duration": 11,
    "start_time": "2021-09-10T21:44:57.321Z"
   },
   {
    "duration": 11,
    "start_time": "2021-09-10T21:44:57.541Z"
   },
   {
    "duration": 20,
    "start_time": "2021-09-10T21:44:57.999Z"
   },
   {
    "duration": 16,
    "start_time": "2021-09-10T21:44:58.818Z"
   },
   {
    "duration": 16,
    "start_time": "2021-09-10T21:44:59.286Z"
   },
   {
    "duration": 84,
    "start_time": "2021-09-11T04:13:55.619Z"
   },
   {
    "duration": 1305,
    "start_time": "2021-09-11T09:19:36.197Z"
   },
   {
    "duration": 82,
    "start_time": "2021-09-11T09:19:37.505Z"
   },
   {
    "duration": 33,
    "start_time": "2021-09-11T09:19:37.590Z"
   },
   {
    "duration": 19,
    "start_time": "2021-09-11T09:19:38.318Z"
   },
   {
    "duration": 42,
    "start_time": "2021-09-11T09:19:39.078Z"
   },
   {
    "duration": 40,
    "start_time": "2021-09-11T09:19:51.106Z"
   },
   {
    "duration": 395,
    "start_time": "2021-09-11T09:24:47.936Z"
   },
   {
    "duration": 271,
    "start_time": "2021-09-11T09:25:41.568Z"
   },
   {
    "duration": 518,
    "start_time": "2021-09-11T09:25:50.897Z"
   },
   {
    "duration": 504,
    "start_time": "2021-09-11T09:27:36.423Z"
   },
   {
    "duration": 9,
    "start_time": "2021-09-11T09:32:15.806Z"
   },
   {
    "duration": 9,
    "start_time": "2021-09-11T09:33:06.188Z"
   },
   {
    "duration": 280,
    "start_time": "2021-09-11T09:34:00.735Z"
   },
   {
    "duration": 262,
    "start_time": "2021-09-11T09:34:17.379Z"
   },
   {
    "duration": 1244,
    "start_time": "2021-09-11T09:34:36.981Z"
   },
   {
    "duration": 88,
    "start_time": "2021-09-11T09:34:38.228Z"
   },
   {
    "duration": 60,
    "start_time": "2021-09-11T09:34:38.319Z"
   },
   {
    "duration": 18,
    "start_time": "2021-09-11T09:34:38.476Z"
   },
   {
    "duration": 48,
    "start_time": "2021-09-11T09:34:38.836Z"
   },
   {
    "duration": 39,
    "start_time": "2021-09-11T09:34:40.755Z"
   },
   {
    "duration": 488,
    "start_time": "2021-09-11T09:34:41.406Z"
   },
   {
    "duration": 9,
    "start_time": "2021-09-11T09:34:42.774Z"
   },
   {
    "duration": 12,
    "start_time": "2021-09-11T09:34:47.797Z"
   },
   {
    "duration": 391,
    "start_time": "2021-09-11T09:34:48.400Z"
   },
   {
    "duration": 313,
    "start_time": "2021-09-11T09:34:50.613Z"
   },
   {
    "duration": 376,
    "start_time": "2021-09-11T09:36:20.060Z"
   },
   {
    "duration": 374,
    "start_time": "2021-09-11T09:37:28.171Z"
   },
   {
    "duration": 362,
    "start_time": "2021-09-11T09:37:28.763Z"
   },
   {
    "duration": 379,
    "start_time": "2021-09-11T09:37:35.443Z"
   },
   {
    "duration": 351,
    "start_time": "2021-09-11T09:40:24.597Z"
   },
   {
    "duration": 5,
    "start_time": "2021-09-11T09:40:44.527Z"
   },
   {
    "duration": 22,
    "start_time": "2021-09-11T09:40:54.317Z"
   },
   {
    "duration": 10,
    "start_time": "2021-09-11T09:41:45.661Z"
   },
   {
    "duration": 305,
    "start_time": "2021-09-11T09:42:09.226Z"
   },
   {
    "duration": 454,
    "start_time": "2021-09-11T09:42:26.567Z"
   },
   {
    "duration": 1276,
    "start_time": "2021-09-11T09:43:21.824Z"
   },
   {
    "duration": 85,
    "start_time": "2021-09-11T09:43:23.103Z"
   },
   {
    "duration": 35,
    "start_time": "2021-09-11T09:43:23.190Z"
   },
   {
    "duration": 36,
    "start_time": "2021-09-11T09:43:23.228Z"
   },
   {
    "duration": 54,
    "start_time": "2021-09-11T09:43:23.266Z"
   },
   {
    "duration": 42,
    "start_time": "2021-09-11T09:43:23.359Z"
   },
   {
    "duration": 498,
    "start_time": "2021-09-11T09:43:23.626Z"
   },
   {
    "duration": 17,
    "start_time": "2021-09-11T09:47:19.846Z"
   },
   {
    "duration": 406,
    "start_time": "2021-09-11T09:48:00.545Z"
   },
   {
    "duration": 17,
    "start_time": "2021-09-11T09:48:14.253Z"
   },
   {
    "duration": 492,
    "start_time": "2021-09-11T09:50:26.881Z"
   },
   {
    "duration": 444,
    "start_time": "2021-09-11T09:50:57.995Z"
   },
   {
    "duration": 445,
    "start_time": "2021-09-11T09:51:23.450Z"
   },
   {
    "duration": 439,
    "start_time": "2021-09-11T09:51:48.522Z"
   },
   {
    "duration": 1251,
    "start_time": "2021-09-11T09:54:05.457Z"
   },
   {
    "duration": 82,
    "start_time": "2021-09-11T09:54:06.710Z"
   },
   {
    "duration": 34,
    "start_time": "2021-09-11T09:54:06.795Z"
   },
   {
    "duration": 33,
    "start_time": "2021-09-11T09:54:06.831Z"
   },
   {
    "duration": 43,
    "start_time": "2021-09-11T09:54:06.866Z"
   },
   {
    "duration": 40,
    "start_time": "2021-09-11T09:54:07.612Z"
   },
   {
    "duration": 502,
    "start_time": "2021-09-11T09:54:08.052Z"
   },
   {
    "duration": 9,
    "start_time": "2021-09-11T09:54:08.556Z"
   },
   {
    "duration": 401,
    "start_time": "2021-09-11T09:54:11.176Z"
   },
   {
    "duration": 12,
    "start_time": "2021-09-11T09:54:11.634Z"
   },
   {
    "duration": 319,
    "start_time": "2021-09-11T09:54:13.874Z"
   },
   {
    "duration": 306,
    "start_time": "2021-09-11T09:54:14.803Z"
   },
   {
    "duration": 314,
    "start_time": "2021-09-11T09:54:15.112Z"
   },
   {
    "duration": 292,
    "start_time": "2021-09-11T09:54:15.429Z"
   },
   {
    "duration": 294,
    "start_time": "2021-09-11T09:54:15.724Z"
   },
   {
    "duration": 8,
    "start_time": "2021-09-11T09:54:17.168Z"
   },
   {
    "duration": 13,
    "start_time": "2021-09-11T09:54:17.338Z"
   },
   {
    "duration": 67,
    "start_time": "2021-09-11T09:54:17.419Z"
   },
   {
    "duration": 10,
    "start_time": "2021-09-11T09:54:17.671Z"
   },
   {
    "duration": 223,
    "start_time": "2021-09-11T09:54:17.756Z"
   },
   {
    "duration": 234,
    "start_time": "2021-09-11T09:54:17.981Z"
   },
   {
    "duration": 504,
    "start_time": "2021-09-11T09:54:18.218Z"
   },
   {
    "duration": 404,
    "start_time": "2021-09-11T09:54:18.725Z"
   },
   {
    "duration": 415,
    "start_time": "2021-09-11T09:54:19.132Z"
   },
   {
    "duration": 423,
    "start_time": "2021-09-11T09:54:19.550Z"
   },
   {
    "duration": 8,
    "start_time": "2021-09-11T09:54:19.977Z"
   },
   {
    "duration": 397,
    "start_time": "2021-09-11T09:54:19.988Z"
   },
   {
    "duration": 388,
    "start_time": "2021-09-11T09:54:20.388Z"
   },
   {
    "duration": 330,
    "start_time": "2021-09-11T09:54:20.778Z"
   },
   {
    "duration": 11,
    "start_time": "2021-09-11T09:54:21.110Z"
   },
   {
    "duration": 33,
    "start_time": "2021-09-11T09:54:21.123Z"
   },
   {
    "duration": 10,
    "start_time": "2021-09-11T09:54:21.158Z"
   },
   {
    "duration": 10,
    "start_time": "2021-09-11T09:54:21.170Z"
   },
   {
    "duration": 17,
    "start_time": "2021-09-11T09:54:21.182Z"
   },
   {
    "duration": 53,
    "start_time": "2021-09-11T09:54:21.201Z"
   },
   {
    "duration": 11,
    "start_time": "2021-09-11T09:54:21.257Z"
   },
   {
    "duration": 12,
    "start_time": "2021-09-11T09:54:21.272Z"
   },
   {
    "duration": 11,
    "start_time": "2021-09-11T09:54:21.287Z"
   },
   {
    "duration": 13,
    "start_time": "2021-09-11T09:54:21.300Z"
   },
   {
    "duration": 22,
    "start_time": "2021-09-11T09:54:21.355Z"
   },
   {
    "duration": 10,
    "start_time": "2021-09-11T09:54:21.379Z"
   },
   {
    "duration": 23,
    "start_time": "2021-09-11T09:54:21.392Z"
   },
   {
    "duration": 43,
    "start_time": "2021-09-11T09:54:21.418Z"
   },
   {
    "duration": 20,
    "start_time": "2021-09-11T09:54:21.464Z"
   },
   {
    "duration": 31,
    "start_time": "2021-09-11T09:54:21.486Z"
   },
   {
    "duration": 34,
    "start_time": "2021-09-11T09:54:21.521Z"
   },
   {
    "duration": 17,
    "start_time": "2021-09-11T09:54:21.558Z"
   },
   {
    "duration": 9,
    "start_time": "2021-09-11T10:01:12.166Z"
   },
   {
    "duration": 12,
    "start_time": "2021-09-11T10:01:28.490Z"
   },
   {
    "duration": 2033,
    "start_time": "2021-09-11T10:06:23.581Z"
   },
   {
    "duration": 1312,
    "start_time": "2021-09-11T10:06:43.468Z"
   },
   {
    "duration": 85,
    "start_time": "2021-09-11T10:06:44.783Z"
   },
   {
    "duration": 33,
    "start_time": "2021-09-11T10:06:44.871Z"
   },
   {
    "duration": 14,
    "start_time": "2021-09-11T10:06:44.906Z"
   },
   {
    "duration": 66,
    "start_time": "2021-09-11T10:06:44.923Z"
   },
   {
    "duration": 39,
    "start_time": "2021-09-11T10:06:45.411Z"
   },
   {
    "duration": 513,
    "start_time": "2021-09-11T10:06:45.619Z"
   },
   {
    "duration": 9,
    "start_time": "2021-09-11T10:06:46.135Z"
   },
   {
    "duration": 399,
    "start_time": "2021-09-11T10:06:48.134Z"
   },
   {
    "duration": 12,
    "start_time": "2021-09-11T10:06:48.642Z"
   },
   {
    "duration": 2109,
    "start_time": "2021-09-11T10:06:50.774Z"
   },
   {
    "duration": 34,
    "start_time": "2021-09-11T10:09:05.987Z"
   },
   {
    "duration": 35,
    "start_time": "2021-09-11T10:09:52.513Z"
   },
   {
    "duration": 2997,
    "start_time": "2021-09-11T10:15:06.504Z"
   },
   {
    "duration": 692,
    "start_time": "2021-09-11T10:15:33.161Z"
   },
   {
    "duration": 1344,
    "start_time": "2021-09-11T10:18:45.063Z"
   },
   {
    "duration": 83,
    "start_time": "2021-09-11T10:18:46.410Z"
   },
   {
    "duration": 55,
    "start_time": "2021-09-11T10:18:46.500Z"
   },
   {
    "duration": 14,
    "start_time": "2021-09-11T10:18:46.558Z"
   },
   {
    "duration": 44,
    "start_time": "2021-09-11T10:18:46.575Z"
   },
   {
    "duration": 68,
    "start_time": "2021-09-11T10:18:46.624Z"
   },
   {
    "duration": 546,
    "start_time": "2021-09-11T10:18:46.696Z"
   },
   {
    "duration": 9,
    "start_time": "2021-09-11T10:18:47.254Z"
   },
   {
    "duration": 415,
    "start_time": "2021-09-11T10:18:47.265Z"
   },
   {
    "duration": 10,
    "start_time": "2021-09-11T10:18:47.683Z"
   },
   {
    "duration": 1908,
    "start_time": "2021-09-11T10:21:51.372Z"
   },
   {
    "duration": 321,
    "start_time": "2021-09-11T10:21:53.283Z"
   },
   {
    "duration": 327,
    "start_time": "2021-09-11T10:21:53.607Z"
   },
   {
    "duration": 317,
    "start_time": "2021-09-11T10:21:53.937Z"
   },
   {
    "duration": 298,
    "start_time": "2021-09-11T10:21:54.256Z"
   },
   {
    "duration": 3001,
    "start_time": "2021-09-11T10:21:54.557Z"
   },
   {
    "duration": 386,
    "start_time": "2021-09-11T10:25:03.173Z"
   },
   {
    "duration": 3852,
    "start_time": "2021-09-11T10:25:15.730Z"
   },
   {
    "duration": 9,
    "start_time": "2021-09-11T10:25:45.979Z"
   },
   {
    "duration": 11537,
    "start_time": "2021-09-11T10:25:53.167Z"
   },
   {
    "duration": 3152,
    "start_time": "2021-09-11T10:26:36.977Z"
   },
   {
    "duration": 181070,
    "start_time": "2021-09-11T10:26:47.857Z"
   },
   {
    "duration": 821,
    "start_time": "2021-09-11T10:30:14.080Z"
   },
   {
    "duration": 566,
    "start_time": "2021-09-11T10:30:27.793Z"
   },
   {
    "duration": 17,
    "start_time": "2021-09-11T10:34:25.218Z"
   },
   {
    "duration": 13,
    "start_time": "2021-09-11T10:34:53.036Z"
   },
   {
    "duration": 18,
    "start_time": "2021-09-11T10:36:20.627Z"
   },
   {
    "duration": 6602,
    "start_time": "2021-09-11T10:37:47.476Z"
   },
   {
    "duration": 788,
    "start_time": "2021-09-11T10:38:01.054Z"
   },
   {
    "duration": 285,
    "start_time": "2021-09-11T10:38:42.445Z"
   },
   {
    "duration": 10,
    "start_time": "2021-09-11T10:39:10.706Z"
   },
   {
    "duration": 193904,
    "start_time": "2021-09-11T10:55:44.004Z"
   },
   {
    "duration": 12,
    "start_time": "2021-09-11T10:59:56.559Z"
   },
   {
    "duration": 20,
    "start_time": "2021-09-11T11:01:35.942Z"
   },
   {
    "duration": 556,
    "start_time": "2021-09-11T11:04:45.747Z"
   },
   {
    "duration": 35527,
    "start_time": "2021-09-11T11:06:02.205Z"
   },
   {
    "duration": 9,
    "start_time": "2021-09-11T11:10:11.160Z"
   },
   {
    "duration": 680,
    "start_time": "2021-09-11T11:13:28.901Z"
   },
   {
    "duration": 279,
    "start_time": "2021-09-11T11:15:29.020Z"
   },
   {
    "duration": 541,
    "start_time": "2021-09-11T11:16:04.908Z"
   },
   {
    "duration": 35673,
    "start_time": "2021-09-11T11:16:17.941Z"
   },
   {
    "duration": 275,
    "start_time": "2021-09-11T11:22:13.781Z"
   },
   {
    "duration": 1360,
    "start_time": "2021-09-11T11:22:32.657Z"
   },
   {
    "duration": 87,
    "start_time": "2021-09-11T11:22:34.020Z"
   },
   {
    "duration": 51,
    "start_time": "2021-09-11T11:22:34.110Z"
   },
   {
    "duration": 13,
    "start_time": "2021-09-11T11:22:34.164Z"
   },
   {
    "duration": 58,
    "start_time": "2021-09-11T11:22:34.179Z"
   },
   {
    "duration": 53,
    "start_time": "2021-09-11T11:22:34.239Z"
   },
   {
    "duration": 547,
    "start_time": "2021-09-11T11:22:34.294Z"
   },
   {
    "duration": 10,
    "start_time": "2021-09-11T11:22:34.844Z"
   },
   {
    "duration": 411,
    "start_time": "2021-09-11T11:22:35.494Z"
   },
   {
    "duration": 11,
    "start_time": "2021-09-11T11:22:35.971Z"
   },
   {
    "duration": 429,
    "start_time": "2021-09-11T11:22:36.640Z"
   },
   {
    "duration": 330,
    "start_time": "2021-09-11T11:22:37.071Z"
   },
   {
    "duration": 316,
    "start_time": "2021-09-11T11:22:37.403Z"
   },
   {
    "duration": 312,
    "start_time": "2021-09-11T11:22:37.722Z"
   },
   {
    "duration": 307,
    "start_time": "2021-09-11T11:22:38.036Z"
   },
   {
    "duration": 7,
    "start_time": "2021-09-11T11:22:40.598Z"
   },
   {
    "duration": 13,
    "start_time": "2021-09-11T11:22:41.267Z"
   },
   {
    "duration": 416,
    "start_time": "2021-09-11T11:22:42.002Z"
   },
   {
    "duration": 67,
    "start_time": "2021-09-11T11:22:43.028Z"
   },
   {
    "duration": 269,
    "start_time": "2021-09-11T11:23:06.637Z"
   },
   {
    "duration": 268,
    "start_time": "2021-09-11T11:23:19.681Z"
   },
   {
    "duration": 315,
    "start_time": "2021-09-11T11:26:39.930Z"
   },
   {
    "duration": 5,
    "start_time": "2021-09-11T11:27:12.578Z"
   },
   {
    "duration": 19,
    "start_time": "2021-09-11T11:27:36.645Z"
   },
   {
    "duration": 1305,
    "start_time": "2021-09-11T11:29:03.092Z"
   },
   {
    "duration": 88,
    "start_time": "2021-09-11T11:29:04.400Z"
   },
   {
    "duration": 37,
    "start_time": "2021-09-11T11:29:04.491Z"
   },
   {
    "duration": 15,
    "start_time": "2021-09-11T11:29:04.555Z"
   },
   {
    "duration": 47,
    "start_time": "2021-09-11T11:29:04.827Z"
   },
   {
    "duration": 45,
    "start_time": "2021-09-11T11:29:06.690Z"
   },
   {
    "duration": 495,
    "start_time": "2021-09-11T11:29:07.043Z"
   },
   {
    "duration": 9,
    "start_time": "2021-09-11T11:29:14.774Z"
   },
   {
    "duration": 394,
    "start_time": "2021-09-11T11:29:20.585Z"
   },
   {
    "duration": 12,
    "start_time": "2021-09-11T11:29:21.190Z"
   },
   {
    "duration": 11,
    "start_time": "2021-09-11T11:29:26.280Z"
   },
   {
    "duration": 300,
    "start_time": "2021-09-11T11:29:27.962Z"
   },
   {
    "duration": 402,
    "start_time": "2021-09-11T11:29:28.542Z"
   },
   {
    "duration": 299,
    "start_time": "2021-09-11T11:29:30.392Z"
   },
   {
    "duration": 300,
    "start_time": "2021-09-11T11:29:30.917Z"
   },
   {
    "duration": 272,
    "start_time": "2021-09-11T11:29:31.349Z"
   },
   {
    "duration": 8,
    "start_time": "2021-09-11T11:29:36.586Z"
   },
   {
    "duration": 12,
    "start_time": "2021-09-11T11:29:43.926Z"
   },
   {
    "duration": 20,
    "start_time": "2021-09-11T11:29:53.220Z"
   },
   {
    "duration": 65,
    "start_time": "2021-09-11T11:29:53.873Z"
   },
   {
    "duration": 26,
    "start_time": "2021-09-11T11:30:43.113Z"
   },
   {
    "duration": 24,
    "start_time": "2021-09-11T11:31:40.004Z"
   },
   {
    "duration": 17,
    "start_time": "2021-09-11T11:32:43.102Z"
   },
   {
    "duration": 20,
    "start_time": "2021-09-11T11:33:08.292Z"
   },
   {
    "duration": 66,
    "start_time": "2021-09-11T11:33:19.084Z"
   },
   {
    "duration": 16,
    "start_time": "2021-09-11T11:33:44.605Z"
   },
   {
    "duration": 41,
    "start_time": "2021-09-11T11:34:55.010Z"
   },
   {
    "duration": 410,
    "start_time": "2021-09-11T11:35:49.028Z"
   },
   {
    "duration": 276,
    "start_time": "2021-09-11T11:36:02.421Z"
   },
   {
    "duration": 13,
    "start_time": "2021-09-11T11:37:17.797Z"
   },
   {
    "duration": 11,
    "start_time": "2021-09-11T11:45:32.398Z"
   },
   {
    "duration": 311,
    "start_time": "2021-09-11T11:46:39.530Z"
   },
   {
    "duration": 331,
    "start_time": "2021-09-11T11:47:04.229Z"
   },
   {
    "duration": 292,
    "start_time": "2021-09-11T11:47:50.999Z"
   },
   {
    "duration": 1323,
    "start_time": "2021-09-11T11:48:12.122Z"
   },
   {
    "duration": 87,
    "start_time": "2021-09-11T11:48:13.448Z"
   },
   {
    "duration": 50,
    "start_time": "2021-09-11T11:48:13.538Z"
   },
   {
    "duration": 14,
    "start_time": "2021-09-11T11:48:13.590Z"
   },
   {
    "duration": 81,
    "start_time": "2021-09-11T11:48:13.606Z"
   },
   {
    "duration": 46,
    "start_time": "2021-09-11T11:48:13.856Z"
   },
   {
    "duration": 576,
    "start_time": "2021-09-11T11:48:14.131Z"
   },
   {
    "duration": 9,
    "start_time": "2021-09-11T11:48:14.709Z"
   },
   {
    "duration": 439,
    "start_time": "2021-09-11T11:48:15.758Z"
   },
   {
    "duration": 11,
    "start_time": "2021-09-11T11:48:16.200Z"
   },
   {
    "duration": 401,
    "start_time": "2021-09-11T11:48:17.891Z"
   },
   {
    "duration": 12,
    "start_time": "2021-09-11T11:55:51.703Z"
   },
   {
    "duration": 14,
    "start_time": "2021-09-11T11:56:08.924Z"
   },
   {
    "duration": 14,
    "start_time": "2021-09-11T11:56:14.567Z"
   },
   {
    "duration": 12,
    "start_time": "2021-09-11T11:56:19.615Z"
   },
   {
    "duration": 305,
    "start_time": "2021-09-11T11:56:35.357Z"
   },
   {
    "duration": 283,
    "start_time": "2021-09-11T11:56:39.779Z"
   },
   {
    "duration": 12,
    "start_time": "2021-09-11T11:57:03.373Z"
   },
   {
    "duration": 12,
    "start_time": "2021-09-11T11:57:19.814Z"
   },
   {
    "duration": 290,
    "start_time": "2021-09-11T12:10:59.720Z"
   },
   {
    "duration": 1343,
    "start_time": "2021-09-11T12:11:18.112Z"
   },
   {
    "duration": 88,
    "start_time": "2021-09-11T12:11:19.457Z"
   },
   {
    "duration": 56,
    "start_time": "2021-09-11T12:11:19.549Z"
   },
   {
    "duration": 17,
    "start_time": "2021-09-11T12:11:19.608Z"
   },
   {
    "duration": 83,
    "start_time": "2021-09-11T12:11:19.628Z"
   },
   {
    "duration": 72,
    "start_time": "2021-09-11T12:11:19.714Z"
   },
   {
    "duration": 726,
    "start_time": "2021-09-11T12:11:19.789Z"
   },
   {
    "duration": 10,
    "start_time": "2021-09-11T12:11:20.519Z"
   },
   {
    "duration": 426,
    "start_time": "2021-09-11T12:11:20.532Z"
   },
   {
    "duration": 11,
    "start_time": "2021-09-11T12:11:20.961Z"
   },
   {
    "duration": 336,
    "start_time": "2021-09-11T12:11:20.975Z"
   },
   {
    "duration": 319,
    "start_time": "2021-09-11T12:11:21.314Z"
   },
   {
    "duration": 309,
    "start_time": "2021-09-11T12:11:21.636Z"
   },
   {
    "duration": 311,
    "start_time": "2021-09-11T12:11:21.954Z"
   },
   {
    "duration": 302,
    "start_time": "2021-09-11T12:11:22.268Z"
   },
   {
    "duration": 7,
    "start_time": "2021-09-11T12:11:22.573Z"
   },
   {
    "duration": 37,
    "start_time": "2021-09-11T12:11:22.583Z"
   },
   {
    "duration": 75,
    "start_time": "2021-09-11T12:11:22.623Z"
   },
   {
    "duration": 10,
    "start_time": "2021-09-11T12:11:23.050Z"
   },
   {
    "duration": 249,
    "start_time": "2021-09-11T12:11:23.910Z"
   },
   {
    "duration": 214,
    "start_time": "2021-09-11T12:11:38.266Z"
   },
   {
    "duration": 293,
    "start_time": "2021-09-11T12:11:38.640Z"
   },
   {
    "duration": 256,
    "start_time": "2021-09-11T12:12:42.508Z"
   },
   {
    "duration": 6,
    "start_time": "2021-09-11T12:25:30.074Z"
   },
   {
    "duration": 84,
    "start_time": "2021-09-11T12:25:30.240Z"
   },
   {
    "duration": 42,
    "start_time": "2021-09-11T12:25:30.483Z"
   },
   {
    "duration": 13,
    "start_time": "2021-09-11T12:25:30.689Z"
   },
   {
    "duration": 46,
    "start_time": "2021-09-11T12:25:30.881Z"
   },
   {
    "duration": 40,
    "start_time": "2021-09-11T12:25:31.506Z"
   },
   {
    "duration": 511,
    "start_time": "2021-09-11T12:25:31.698Z"
   },
   {
    "duration": 8,
    "start_time": "2021-09-11T12:25:32.212Z"
   },
   {
    "duration": 426,
    "start_time": "2021-09-11T12:25:32.825Z"
   },
   {
    "duration": 10,
    "start_time": "2021-09-11T12:25:33.254Z"
   },
   {
    "duration": 320,
    "start_time": "2021-09-11T12:25:33.744Z"
   },
   {
    "duration": 328,
    "start_time": "2021-09-11T12:25:34.067Z"
   },
   {
    "duration": 313,
    "start_time": "2021-09-11T12:25:34.398Z"
   },
   {
    "duration": 320,
    "start_time": "2021-09-11T12:25:34.713Z"
   },
   {
    "duration": 298,
    "start_time": "2021-09-11T12:25:35.035Z"
   },
   {
    "duration": 8,
    "start_time": "2021-09-11T12:25:35.691Z"
   },
   {
    "duration": 11,
    "start_time": "2021-09-11T12:25:36.219Z"
   },
   {
    "duration": 141,
    "start_time": "2021-09-11T12:25:36.454Z"
   },
   {
    "duration": 10,
    "start_time": "2021-09-11T12:25:37.282Z"
   },
   {
    "duration": 201,
    "start_time": "2021-09-11T12:25:38.828Z"
   },
   {
    "duration": 210,
    "start_time": "2021-09-11T12:25:39.528Z"
   },
   {
    "duration": 277,
    "start_time": "2021-09-11T12:29:16.924Z"
   },
   {
    "duration": 240,
    "start_time": "2021-09-11T12:29:30.862Z"
   },
   {
    "duration": 10,
    "start_time": "2021-09-11T12:49:03.824Z"
   },
   {
    "duration": 447,
    "start_time": "2021-09-11T12:49:05.598Z"
   },
   {
    "duration": 304,
    "start_time": "2021-09-11T12:49:12.624Z"
   },
   {
    "duration": 368,
    "start_time": "2021-09-11T12:49:30.058Z"
   },
   {
    "duration": 307,
    "start_time": "2021-09-11T12:49:56.631Z"
   },
   {
    "duration": 106,
    "start_time": "2021-09-11T12:51:24.804Z"
   },
   {
    "duration": 291,
    "start_time": "2021-09-11T12:51:34.207Z"
   },
   {
    "duration": 311,
    "start_time": "2021-09-11T12:51:52.110Z"
   },
   {
    "duration": 134,
    "start_time": "2021-09-11T12:53:03.313Z"
   },
   {
    "duration": 242,
    "start_time": "2021-09-11T12:53:18.781Z"
   },
   {
    "duration": 508,
    "start_time": "2021-09-11T13:05:57.133Z"
   },
   {
    "duration": 38,
    "start_time": "2021-09-11T13:12:30.018Z"
   },
   {
    "duration": 9,
    "start_time": "2021-09-11T13:16:33.642Z"
   },
   {
    "duration": 10,
    "start_time": "2021-09-11T13:17:30.546Z"
   },
   {
    "duration": 11,
    "start_time": "2021-09-11T13:19:13.427Z"
   },
   {
    "duration": 1352,
    "start_time": "2021-09-11T13:19:33.359Z"
   },
   {
    "duration": 83,
    "start_time": "2021-09-11T13:19:34.713Z"
   },
   {
    "duration": 35,
    "start_time": "2021-09-11T13:19:34.800Z"
   },
   {
    "duration": 15,
    "start_time": "2021-09-11T13:19:34.854Z"
   },
   {
    "duration": 63,
    "start_time": "2021-09-11T13:19:34.871Z"
   },
   {
    "duration": 52,
    "start_time": "2021-09-11T13:19:34.937Z"
   },
   {
    "duration": 545,
    "start_time": "2021-09-11T13:19:34.992Z"
   },
   {
    "duration": 14,
    "start_time": "2021-09-11T13:19:35.540Z"
   },
   {
    "duration": 398,
    "start_time": "2021-09-11T13:19:35.683Z"
   },
   {
    "duration": 12,
    "start_time": "2021-09-11T13:19:36.084Z"
   },
   {
    "duration": 311,
    "start_time": "2021-09-11T13:19:36.426Z"
   },
   {
    "duration": 321,
    "start_time": "2021-09-11T13:19:36.739Z"
   },
   {
    "duration": 307,
    "start_time": "2021-09-11T13:19:37.063Z"
   },
   {
    "duration": 306,
    "start_time": "2021-09-11T13:19:37.372Z"
   },
   {
    "duration": 293,
    "start_time": "2021-09-11T13:19:37.682Z"
   },
   {
    "duration": 7,
    "start_time": "2021-09-11T13:19:37.979Z"
   },
   {
    "duration": 12,
    "start_time": "2021-09-11T13:19:38.334Z"
   },
   {
    "duration": 74,
    "start_time": "2021-09-11T13:19:38.526Z"
   },
   {
    "duration": 11,
    "start_time": "2021-09-11T13:19:39.201Z"
   },
   {
    "duration": 36,
    "start_time": "2021-09-11T13:19:39.465Z"
   },
   {
    "duration": 102,
    "start_time": "2021-09-11T13:19:39.667Z"
   },
   {
    "duration": 525,
    "start_time": "2021-09-11T13:19:39.889Z"
   },
   {
    "duration": 10,
    "start_time": "2021-09-11T13:20:00.115Z"
   },
   {
    "duration": 1334,
    "start_time": "2021-09-11T13:20:26.669Z"
   },
   {
    "duration": 86,
    "start_time": "2021-09-11T13:20:28.006Z"
   },
   {
    "duration": 58,
    "start_time": "2021-09-11T13:20:28.096Z"
   },
   {
    "duration": 15,
    "start_time": "2021-09-11T13:20:28.158Z"
   },
   {
    "duration": 43,
    "start_time": "2021-09-11T13:20:28.176Z"
   },
   {
    "duration": 70,
    "start_time": "2021-09-11T13:20:28.221Z"
   },
   {
    "duration": 524,
    "start_time": "2021-09-11T13:20:28.376Z"
   },
   {
    "duration": 11,
    "start_time": "2021-09-11T13:20:28.903Z"
   },
   {
    "duration": 427,
    "start_time": "2021-09-11T13:20:29.980Z"
   },
   {
    "duration": 12,
    "start_time": "2021-09-11T13:20:30.410Z"
   },
   {
    "duration": 320,
    "start_time": "2021-09-11T13:20:31.604Z"
   },
   {
    "duration": 315,
    "start_time": "2021-09-11T13:20:32.046Z"
   },
   {
    "duration": 307,
    "start_time": "2021-09-11T13:20:32.832Z"
   },
   {
    "duration": 313,
    "start_time": "2021-09-11T13:20:33.404Z"
   },
   {
    "duration": 319,
    "start_time": "2021-09-11T13:20:33.719Z"
   },
   {
    "duration": 9,
    "start_time": "2021-09-11T13:20:35.705Z"
   },
   {
    "duration": 12,
    "start_time": "2021-09-11T13:20:36.530Z"
   },
   {
    "duration": 65,
    "start_time": "2021-09-11T13:20:37.235Z"
   },
   {
    "duration": 10,
    "start_time": "2021-09-11T13:20:39.116Z"
   },
   {
    "duration": 11,
    "start_time": "2021-09-11T13:20:54.178Z"
   },
   {
    "duration": 389,
    "start_time": "2021-09-11T13:21:49.548Z"
   },
   {
    "duration": 1319,
    "start_time": "2021-09-11T13:22:15.888Z"
   },
   {
    "duration": 85,
    "start_time": "2021-09-11T13:22:17.209Z"
   },
   {
    "duration": 38,
    "start_time": "2021-09-11T13:22:17.297Z"
   },
   {
    "duration": 27,
    "start_time": "2021-09-11T13:22:17.338Z"
   },
   {
    "duration": 46,
    "start_time": "2021-09-11T13:22:17.368Z"
   },
   {
    "duration": 40,
    "start_time": "2021-09-11T13:22:17.747Z"
   },
   {
    "duration": 519,
    "start_time": "2021-09-11T13:22:18.030Z"
   },
   {
    "duration": 9,
    "start_time": "2021-09-11T13:22:18.577Z"
   },
   {
    "duration": 421,
    "start_time": "2021-09-11T13:22:19.980Z"
   },
   {
    "duration": 14,
    "start_time": "2021-09-11T13:22:20.404Z"
   },
   {
    "duration": 327,
    "start_time": "2021-09-11T13:22:22.527Z"
   },
   {
    "duration": 315,
    "start_time": "2021-09-11T13:22:22.987Z"
   },
   {
    "duration": 301,
    "start_time": "2021-09-11T13:22:23.815Z"
   },
   {
    "duration": 310,
    "start_time": "2021-09-11T13:22:24.402Z"
   },
   {
    "duration": 300,
    "start_time": "2021-09-11T13:22:24.788Z"
   },
   {
    "duration": 418,
    "start_time": "2021-09-11T13:24:35.939Z"
   },
   {
    "duration": 1399,
    "start_time": "2021-09-11T13:29:45.012Z"
   },
   {
    "duration": 83,
    "start_time": "2021-09-11T13:29:46.413Z"
   },
   {
    "duration": 36,
    "start_time": "2021-09-11T13:29:46.499Z"
   },
   {
    "duration": 16,
    "start_time": "2021-09-11T13:29:46.555Z"
   },
   {
    "duration": 57,
    "start_time": "2021-09-11T13:29:46.573Z"
   },
   {
    "duration": 40,
    "start_time": "2021-09-11T13:29:46.705Z"
   },
   {
    "duration": 506,
    "start_time": "2021-09-11T13:29:47.025Z"
   },
   {
    "duration": 22,
    "start_time": "2021-09-11T13:29:47.534Z"
   },
   {
    "duration": 399,
    "start_time": "2021-09-11T13:29:48.791Z"
   },
   {
    "duration": 11,
    "start_time": "2021-09-11T13:29:49.197Z"
   },
   {
    "duration": 649,
    "start_time": "2021-09-11T13:29:50.246Z"
   },
   {
    "duration": 404,
    "start_time": "2021-09-11T13:29:50.898Z"
   },
   {
    "duration": 354,
    "start_time": "2021-09-11T13:29:51.305Z"
   },
   {
    "duration": 318,
    "start_time": "2021-09-11T13:29:51.761Z"
   },
   {
    "duration": 295,
    "start_time": "2021-09-11T13:29:52.310Z"
   },
   {
    "duration": 283,
    "start_time": "2021-09-11T13:29:52.684Z"
   },
   {
    "duration": 9,
    "start_time": "2021-09-11T13:29:54.475Z"
   },
   {
    "duration": 12,
    "start_time": "2021-09-11T13:29:55.196Z"
   },
   {
    "duration": 78,
    "start_time": "2021-09-11T13:29:55.469Z"
   },
   {
    "duration": 28,
    "start_time": "2021-09-11T13:31:13.952Z"
   },
   {
    "duration": 23,
    "start_time": "2021-09-11T13:31:48.769Z"
   },
   {
    "duration": 23,
    "start_time": "2021-09-11T13:32:17.681Z"
   },
   {
    "duration": 22,
    "start_time": "2021-09-11T13:32:24.280Z"
   },
   {
    "duration": 22,
    "start_time": "2021-09-11T13:34:13.046Z"
   },
   {
    "duration": 1346,
    "start_time": "2021-09-11T13:36:37.574Z"
   },
   {
    "duration": 86,
    "start_time": "2021-09-11T13:36:38.923Z"
   },
   {
    "duration": 54,
    "start_time": "2021-09-11T13:36:39.013Z"
   },
   {
    "duration": 14,
    "start_time": "2021-09-11T13:36:39.069Z"
   },
   {
    "duration": 68,
    "start_time": "2021-09-11T13:36:39.086Z"
   },
   {
    "duration": 46,
    "start_time": "2021-09-11T13:36:39.157Z"
   },
   {
    "duration": 609,
    "start_time": "2021-09-11T13:36:39.206Z"
   },
   {
    "duration": 9,
    "start_time": "2021-09-11T13:36:39.818Z"
   },
   {
    "duration": 430,
    "start_time": "2021-09-11T13:36:40.134Z"
   },
   {
    "duration": 11,
    "start_time": "2021-09-11T13:36:40.567Z"
   },
   {
    "duration": 433,
    "start_time": "2021-09-11T13:36:40.873Z"
   },
   {
    "duration": 329,
    "start_time": "2021-09-11T13:36:41.309Z"
   },
   {
    "duration": 363,
    "start_time": "2021-09-11T13:36:41.641Z"
   },
   {
    "duration": 321,
    "start_time": "2021-09-11T13:36:42.007Z"
   },
   {
    "duration": 328,
    "start_time": "2021-09-11T13:36:42.332Z"
   },
   {
    "duration": 313,
    "start_time": "2021-09-11T13:36:42.664Z"
   },
   {
    "duration": 9,
    "start_time": "2021-09-11T13:36:42.980Z"
   },
   {
    "duration": 14,
    "start_time": "2021-09-11T13:36:43.122Z"
   },
   {
    "duration": 60,
    "start_time": "2021-09-11T13:36:43.311Z"
   },
   {
    "duration": 4,
    "start_time": "2021-09-11T13:36:43.521Z"
   },
   {
    "duration": 6,
    "start_time": "2021-09-11T13:40:16.422Z"
   },
   {
    "duration": 11,
    "start_time": "2021-09-11T13:40:27.047Z"
   },
   {
    "duration": 15,
    "start_time": "2021-09-11T13:40:39.734Z"
   },
   {
    "duration": 88,
    "start_time": "2021-09-11T13:42:55.934Z"
   },
   {
    "duration": 32,
    "start_time": "2021-09-11T13:43:12.212Z"
   },
   {
    "duration": 438,
    "start_time": "2021-09-11T13:45:21.843Z"
   },
   {
    "duration": 543,
    "start_time": "2021-09-11T13:46:19.325Z"
   },
   {
    "duration": 625,
    "start_time": "2021-09-11T13:46:46.288Z"
   },
   {
    "duration": 158,
    "start_time": "2021-09-11T13:47:58.973Z"
   },
   {
    "duration": 275,
    "start_time": "2021-09-11T13:48:12.358Z"
   },
   {
    "duration": 563,
    "start_time": "2021-09-11T13:51:30.281Z"
   },
   {
    "duration": 544,
    "start_time": "2021-09-11T13:51:56.070Z"
   },
   {
    "duration": 379,
    "start_time": "2021-09-11T13:52:24.300Z"
   },
   {
    "duration": 416,
    "start_time": "2021-09-11T13:52:53.532Z"
   },
   {
    "duration": 329,
    "start_time": "2021-09-11T13:53:41.094Z"
   },
   {
    "duration": 284,
    "start_time": "2021-09-11T13:53:53.694Z"
   },
   {
    "duration": 317,
    "start_time": "2021-09-11T13:54:01.439Z"
   },
   {
    "duration": 297,
    "start_time": "2021-09-11T13:54:42.448Z"
   },
   {
    "duration": 21,
    "start_time": "2021-09-11T14:02:10.528Z"
   },
   {
    "duration": 24,
    "start_time": "2021-09-11T14:02:21.063Z"
   },
   {
    "duration": 68,
    "start_time": "2021-09-11T14:09:28.799Z"
   },
   {
    "duration": 25,
    "start_time": "2021-09-11T14:09:50.645Z"
   },
   {
    "duration": 28,
    "start_time": "2021-09-11T14:10:23.343Z"
   },
   {
    "duration": 28,
    "start_time": "2021-09-11T14:11:27.751Z"
   },
   {
    "duration": 28,
    "start_time": "2021-09-11T14:11:36.930Z"
   },
   {
    "duration": 1334,
    "start_time": "2021-09-11T14:13:38.279Z"
   },
   {
    "duration": 84,
    "start_time": "2021-09-11T14:13:39.616Z"
   },
   {
    "duration": 36,
    "start_time": "2021-09-11T14:13:39.703Z"
   },
   {
    "duration": 14,
    "start_time": "2021-09-11T14:13:39.755Z"
   },
   {
    "duration": 43,
    "start_time": "2021-09-11T14:13:39.772Z"
   },
   {
    "duration": 40,
    "start_time": "2021-09-11T14:13:40.170Z"
   },
   {
    "duration": 503,
    "start_time": "2021-09-11T14:13:40.583Z"
   },
   {
    "duration": 9,
    "start_time": "2021-09-11T14:13:41.089Z"
   },
   {
    "duration": 404,
    "start_time": "2021-09-11T14:13:42.373Z"
   },
   {
    "duration": 11,
    "start_time": "2021-09-11T14:13:42.780Z"
   },
   {
    "duration": 3,
    "start_time": "2021-09-11T14:13:43.540Z"
   },
   {
    "duration": 298,
    "start_time": "2021-09-11T14:13:43.831Z"
   },
   {
    "duration": 307,
    "start_time": "2021-09-11T14:13:44.177Z"
   },
   {
    "duration": 312,
    "start_time": "2021-09-11T14:13:44.562Z"
   },
   {
    "duration": 330,
    "start_time": "2021-09-11T14:13:44.876Z"
   },
   {
    "duration": 288,
    "start_time": "2021-09-11T14:13:45.210Z"
   },
   {
    "duration": 8,
    "start_time": "2021-09-11T14:13:46.460Z"
   },
   {
    "duration": 12,
    "start_time": "2021-09-11T14:13:47.019Z"
   },
   {
    "duration": 60,
    "start_time": "2021-09-11T14:13:47.296Z"
   },
   {
    "duration": 4,
    "start_time": "2021-09-11T14:13:47.596Z"
   },
   {
    "duration": 36,
    "start_time": "2021-09-11T14:13:50.532Z"
   },
   {
    "duration": 240,
    "start_time": "2021-09-11T14:13:51.138Z"
   },
   {
    "duration": 226,
    "start_time": "2021-09-11T14:13:53.547Z"
   },
   {
    "duration": 365,
    "start_time": "2021-09-11T14:13:54.112Z"
   },
   {
    "duration": 453,
    "start_time": "2021-09-11T14:14:09.916Z"
   },
   {
    "duration": 404,
    "start_time": "2021-09-11T14:14:10.372Z"
   },
   {
    "duration": 411,
    "start_time": "2021-09-11T14:14:10.798Z"
   },
   {
    "duration": 383,
    "start_time": "2021-09-11T14:14:11.481Z"
   },
   {
    "duration": 9,
    "start_time": "2021-09-11T14:14:12.011Z"
   },
   {
    "duration": 463,
    "start_time": "2021-09-11T14:14:12.503Z"
   },
   {
    "duration": 473,
    "start_time": "2021-09-11T14:14:12.982Z"
   },
   {
    "duration": 375,
    "start_time": "2021-09-11T14:14:23.848Z"
   },
   {
    "duration": 11,
    "start_time": "2021-09-11T14:14:24.226Z"
   },
   {
    "duration": 12,
    "start_time": "2021-09-11T14:14:24.799Z"
   },
   {
    "duration": 13,
    "start_time": "2021-09-11T14:14:24.974Z"
   },
   {
    "duration": 8,
    "start_time": "2021-09-11T14:14:25.156Z"
   },
   {
    "duration": 12,
    "start_time": "2021-09-11T14:14:25.534Z"
   },
   {
    "duration": 24,
    "start_time": "2021-09-11T14:14:25.891Z"
   },
   {
    "duration": 12,
    "start_time": "2021-09-11T14:14:26.394Z"
   },
   {
    "duration": 12,
    "start_time": "2021-09-11T14:14:26.581Z"
   },
   {
    "duration": 11,
    "start_time": "2021-09-11T14:14:26.977Z"
   },
   {
    "duration": 16,
    "start_time": "2021-09-11T14:14:27.213Z"
   },
   {
    "duration": 20,
    "start_time": "2021-09-11T14:14:27.641Z"
   },
   {
    "duration": 11,
    "start_time": "2021-09-11T14:14:28.045Z"
   },
   {
    "duration": 11,
    "start_time": "2021-09-11T14:14:28.239Z"
   },
   {
    "duration": 11,
    "start_time": "2021-09-11T14:14:28.632Z"
   },
   {
    "duration": 11,
    "start_time": "2021-09-11T14:14:28.829Z"
   },
   {
    "duration": 20,
    "start_time": "2021-09-11T14:14:29.261Z"
   },
   {
    "duration": 17,
    "start_time": "2021-09-11T14:14:30.207Z"
   },
   {
    "duration": 18,
    "start_time": "2021-09-11T14:14:30.637Z"
   },
   {
    "duration": 158,
    "start_time": "2021-09-12T08:47:24.130Z"
   },
   {
    "duration": 132,
    "start_time": "2021-09-12T08:48:03.683Z"
   },
   {
    "duration": 112,
    "start_time": "2021-09-12T08:48:22.806Z"
   },
   {
    "duration": 1872,
    "start_time": "2022-05-14T10:12:38.790Z"
   },
   {
    "duration": 117,
    "start_time": "2022-05-14T10:12:40.667Z"
   },
   {
    "duration": 24,
    "start_time": "2022-05-14T10:13:02.526Z"
   },
   {
    "duration": 1130,
    "start_time": "2022-05-14T10:24:10.225Z"
   },
   {
    "duration": 81,
    "start_time": "2022-05-14T10:24:11.358Z"
   },
   {
    "duration": 27,
    "start_time": "2022-05-14T10:24:13.846Z"
   },
   {
    "duration": 14,
    "start_time": "2022-05-14T10:24:16.289Z"
   },
   {
    "duration": 17,
    "start_time": "2022-05-14T10:25:36.754Z"
   },
   {
    "duration": 141,
    "start_time": "2022-05-14T10:26:35.294Z"
   },
   {
    "duration": 12,
    "start_time": "2022-05-14T10:26:46.146Z"
   },
   {
    "duration": 7,
    "start_time": "2022-05-14T10:27:47.622Z"
   },
   {
    "duration": 7,
    "start_time": "2022-05-14T10:28:01.542Z"
   },
   {
    "duration": 20,
    "start_time": "2022-05-14T10:28:47.968Z"
   },
   {
    "duration": 9,
    "start_time": "2022-05-14T10:28:50.768Z"
   },
   {
    "duration": 7,
    "start_time": "2022-05-14T10:28:51.134Z"
   },
   {
    "duration": 8,
    "start_time": "2022-05-14T10:29:00.363Z"
   },
   {
    "duration": 1232,
    "start_time": "2022-05-14T10:29:11.539Z"
   },
   {
    "duration": 97,
    "start_time": "2022-05-14T10:29:13.637Z"
   },
   {
    "duration": 25,
    "start_time": "2022-05-14T10:29:15.236Z"
   },
   {
    "duration": 16,
    "start_time": "2022-05-14T10:29:15.798Z"
   },
   {
    "duration": 10,
    "start_time": "2022-05-14T10:29:17.472Z"
   },
   {
    "duration": 5,
    "start_time": "2022-05-14T10:29:17.759Z"
   },
   {
    "duration": 20,
    "start_time": "2022-05-14T10:29:18.108Z"
   },
   {
    "duration": 1204,
    "start_time": "2022-05-14T10:30:08.897Z"
   },
   {
    "duration": 88,
    "start_time": "2022-05-14T10:30:10.103Z"
   },
   {
    "duration": 38,
    "start_time": "2022-05-14T10:30:11.652Z"
   },
   {
    "duration": 23,
    "start_time": "2022-05-14T10:30:12.187Z"
   },
   {
    "duration": 15,
    "start_time": "2022-05-14T10:30:13.596Z"
   },
   {
    "duration": 8,
    "start_time": "2022-05-14T10:30:15.686Z"
   },
   {
    "duration": 22,
    "start_time": "2022-05-14T10:30:16.089Z"
   },
   {
    "duration": 20,
    "start_time": "2022-05-14T10:31:31.299Z"
   },
   {
    "duration": 2403,
    "start_time": "2022-05-14T10:35:07.328Z"
   },
   {
    "duration": 6,
    "start_time": "2022-05-14T10:36:12.813Z"
   },
   {
    "duration": 6,
    "start_time": "2022-05-14T10:36:21.427Z"
   },
   {
    "duration": 4,
    "start_time": "2022-05-14T10:36:35.033Z"
   },
   {
    "duration": 10,
    "start_time": "2022-05-14T10:36:50.870Z"
   },
   {
    "duration": 1339,
    "start_time": "2022-05-14T10:42:01.607Z"
   },
   {
    "duration": 98,
    "start_time": "2022-05-14T10:42:02.948Z"
   },
   {
    "duration": 36,
    "start_time": "2022-05-14T10:42:03.238Z"
   },
   {
    "duration": 11,
    "start_time": "2022-05-14T10:42:03.502Z"
   },
   {
    "duration": 20,
    "start_time": "2022-05-14T10:42:04.136Z"
   },
   {
    "duration": 9,
    "start_time": "2022-05-14T10:42:04.385Z"
   },
   {
    "duration": 26,
    "start_time": "2022-05-14T10:42:04.867Z"
   },
   {
    "duration": 5,
    "start_time": "2022-05-14T10:42:05.632Z"
   },
   {
    "duration": 6,
    "start_time": "2022-05-14T10:42:05.986Z"
   },
   {
    "duration": 32,
    "start_time": "2022-05-14T10:42:07.124Z"
   },
   {
    "duration": 1596,
    "start_time": "2022-05-14T10:43:44.773Z"
   },
   {
    "duration": 101,
    "start_time": "2022-05-14T10:43:46.372Z"
   },
   {
    "duration": 26,
    "start_time": "2022-05-14T10:43:46.478Z"
   },
   {
    "duration": 10,
    "start_time": "2022-05-14T10:43:46.506Z"
   },
   {
    "duration": 16,
    "start_time": "2022-05-14T10:43:47.110Z"
   },
   {
    "duration": 8,
    "start_time": "2022-05-14T10:43:47.488Z"
   },
   {
    "duration": 36,
    "start_time": "2022-05-14T10:43:48.127Z"
   },
   {
    "duration": 5,
    "start_time": "2022-05-14T10:43:48.487Z"
   },
   {
    "duration": 4,
    "start_time": "2022-05-14T10:43:48.929Z"
   },
   {
    "duration": 4,
    "start_time": "2022-05-14T10:43:49.279Z"
   },
   {
    "duration": 6,
    "start_time": "2022-05-14T10:44:25.269Z"
   },
   {
    "duration": 6,
    "start_time": "2022-05-14T10:44:32.767Z"
   },
   {
    "duration": 99,
    "start_time": "2022-05-14T10:45:15.870Z"
   },
   {
    "duration": 11,
    "start_time": "2022-05-14T10:45:16.566Z"
   },
   {
    "duration": 126,
    "start_time": "2022-05-14T10:46:53.296Z"
   },
   {
    "duration": 236,
    "start_time": "2022-05-14T10:47:42.651Z"
   },
   {
    "duration": 36,
    "start_time": "2022-05-14T10:47:45.548Z"
   },
   {
    "duration": 4,
    "start_time": "2022-05-14T10:48:57.404Z"
   },
   {
    "duration": 5,
    "start_time": "2022-05-14T10:49:04.474Z"
   },
   {
    "duration": 2271,
    "start_time": "2022-05-14T10:49:49.762Z"
   },
   {
    "duration": 0,
    "start_time": "2022-05-14T10:49:52.036Z"
   },
   {
    "duration": 1985,
    "start_time": "2022-05-14T10:50:45.449Z"
   },
   {
    "duration": 2402,
    "start_time": "2022-05-14T10:51:05.281Z"
   },
   {
    "duration": 5,
    "start_time": "2022-05-14T10:51:15.619Z"
   },
   {
    "duration": 2111,
    "start_time": "2022-05-14T10:51:16.140Z"
   },
   {
    "duration": 1179,
    "start_time": "2022-05-14T10:52:10.174Z"
   },
   {
    "duration": 77,
    "start_time": "2022-05-14T10:52:11.356Z"
   },
   {
    "duration": 24,
    "start_time": "2022-05-14T10:52:12.852Z"
   },
   {
    "duration": 15,
    "start_time": "2022-05-14T10:52:13.175Z"
   },
   {
    "duration": 24,
    "start_time": "2022-05-14T10:52:14.821Z"
   },
   {
    "duration": 11,
    "start_time": "2022-05-14T10:52:15.329Z"
   },
   {
    "duration": 163,
    "start_time": "2022-05-14T10:52:16.224Z"
   },
   {
    "duration": 22,
    "start_time": "2022-05-14T10:52:31.285Z"
   },
   {
    "duration": 12,
    "start_time": "2022-05-14T10:52:59.584Z"
   },
   {
    "duration": 5,
    "start_time": "2022-05-14T10:53:05.173Z"
   },
   {
    "duration": 162,
    "start_time": "2022-05-14T10:53:05.690Z"
   },
   {
    "duration": 5,
    "start_time": "2022-05-14T10:53:12.613Z"
   },
   {
    "duration": 2137,
    "start_time": "2022-05-14T10:54:09.398Z"
   },
   {
    "duration": 26,
    "start_time": "2022-05-14T10:55:14.575Z"
   },
   {
    "duration": 5,
    "start_time": "2022-05-14T10:55:18.934Z"
   },
   {
    "duration": 2234,
    "start_time": "2022-05-14T10:56:30.521Z"
   },
   {
    "duration": 15,
    "start_time": "2022-05-14T10:59:56.721Z"
   },
   {
    "duration": 2268,
    "start_time": "2022-05-14T11:00:14.400Z"
   },
   {
    "duration": 2289,
    "start_time": "2022-05-14T11:03:01.091Z"
   },
   {
    "duration": 2305,
    "start_time": "2022-05-14T11:03:29.231Z"
   },
   {
    "duration": 1893,
    "start_time": "2022-05-14T11:04:01.175Z"
   },
   {
    "duration": 2292,
    "start_time": "2022-05-14T11:04:22.027Z"
   },
   {
    "duration": 2307,
    "start_time": "2022-05-14T11:06:11.008Z"
   },
   {
    "duration": 1166,
    "start_time": "2022-05-14T11:07:04.382Z"
   },
   {
    "duration": 79,
    "start_time": "2022-05-14T11:07:05.550Z"
   },
   {
    "duration": 38,
    "start_time": "2022-05-14T11:07:05.631Z"
   },
   {
    "duration": 19,
    "start_time": "2022-05-14T11:07:05.869Z"
   },
   {
    "duration": 15,
    "start_time": "2022-05-14T11:07:06.549Z"
   },
   {
    "duration": 7,
    "start_time": "2022-05-14T11:07:06.881Z"
   },
   {
    "duration": 22,
    "start_time": "2022-05-14T11:07:07.518Z"
   },
   {
    "duration": 2,
    "start_time": "2022-05-14T11:07:08.061Z"
   },
   {
    "duration": 4,
    "start_time": "2022-05-14T11:07:09.251Z"
   },
   {
    "duration": 111,
    "start_time": "2022-05-14T11:07:09.597Z"
   },
   {
    "duration": 4,
    "start_time": "2022-05-14T11:07:12.110Z"
   },
   {
    "duration": 113,
    "start_time": "2022-05-14T11:08:10.032Z"
   },
   {
    "duration": 19,
    "start_time": "2022-05-14T11:09:46.410Z"
   },
   {
    "duration": 109,
    "start_time": "2022-05-14T11:10:42.343Z"
   },
   {
    "duration": 106,
    "start_time": "2022-05-14T11:10:43.828Z"
   },
   {
    "duration": 4,
    "start_time": "2022-05-14T11:10:45.960Z"
   },
   {
    "duration": 15,
    "start_time": "2022-05-14T11:11:08.003Z"
   },
   {
    "duration": 1852,
    "start_time": "2022-05-14T11:11:29.391Z"
   },
   {
    "duration": 146,
    "start_time": "2022-05-14T11:11:45.787Z"
   },
   {
    "duration": 25,
    "start_time": "2022-05-14T11:12:15.201Z"
   },
   {
    "duration": 21,
    "start_time": "2022-05-14T11:12:27.591Z"
   },
   {
    "duration": 1177,
    "start_time": "2022-05-14T11:15:22.709Z"
   },
   {
    "duration": 68,
    "start_time": "2022-05-14T11:15:23.889Z"
   },
   {
    "duration": 22,
    "start_time": "2022-05-14T11:15:25.289Z"
   },
   {
    "duration": 13,
    "start_time": "2022-05-14T11:15:25.750Z"
   },
   {
    "duration": 15,
    "start_time": "2022-05-14T11:15:27.098Z"
   },
   {
    "duration": 7,
    "start_time": "2022-05-14T11:15:27.392Z"
   },
   {
    "duration": 21,
    "start_time": "2022-05-14T11:15:28.324Z"
   },
   {
    "duration": 4,
    "start_time": "2022-05-14T11:15:28.897Z"
   },
   {
    "duration": 3,
    "start_time": "2022-05-14T11:15:29.975Z"
   },
   {
    "duration": 2371,
    "start_time": "2022-05-14T11:15:30.376Z"
   },
   {
    "duration": 2041,
    "start_time": "2022-05-14T11:15:57.896Z"
   },
   {
    "duration": 9,
    "start_time": "2022-05-14T11:16:58.637Z"
   },
   {
    "duration": 29,
    "start_time": "2022-05-14T11:17:57.866Z"
   },
   {
    "duration": 12,
    "start_time": "2022-05-14T11:18:40.281Z"
   },
   {
    "duration": 1862,
    "start_time": "2022-05-14T11:20:14.989Z"
   },
   {
    "duration": 0,
    "start_time": "2022-05-14T11:20:16.853Z"
   },
   {
    "duration": 121,
    "start_time": "2022-05-14T11:20:34.914Z"
   },
   {
    "duration": 1913,
    "start_time": "2022-05-14T11:21:01.786Z"
   },
   {
    "duration": 2107,
    "start_time": "2022-05-14T11:21:41.395Z"
   },
   {
    "duration": 2165,
    "start_time": "2022-05-14T11:21:54.745Z"
   },
   {
    "duration": 15,
    "start_time": "2022-05-14T11:22:10.343Z"
   },
   {
    "duration": 7,
    "start_time": "2022-05-14T11:23:44.359Z"
   },
   {
    "duration": 14,
    "start_time": "2022-05-14T11:26:31.941Z"
   },
   {
    "duration": 5,
    "start_time": "2022-05-14T11:26:37.811Z"
   },
   {
    "duration": 10,
    "start_time": "2022-05-14T11:26:41.296Z"
   },
   {
    "duration": 7,
    "start_time": "2022-05-14T11:27:04.404Z"
   },
   {
    "duration": 11,
    "start_time": "2022-05-14T11:28:12.735Z"
   },
   {
    "duration": 11,
    "start_time": "2022-05-14T11:28:33.371Z"
   },
   {
    "duration": 12,
    "start_time": "2022-05-14T11:28:50.256Z"
   },
   {
    "duration": 5,
    "start_time": "2022-05-14T11:29:20.870Z"
   },
   {
    "duration": 11,
    "start_time": "2022-05-14T11:30:05.029Z"
   },
   {
    "duration": 12,
    "start_time": "2022-05-14T11:30:46.942Z"
   },
   {
    "duration": 1167,
    "start_time": "2022-05-14T11:36:04.154Z"
   },
   {
    "duration": 69,
    "start_time": "2022-05-14T11:36:05.323Z"
   },
   {
    "duration": 21,
    "start_time": "2022-05-14T11:36:05.394Z"
   },
   {
    "duration": 12,
    "start_time": "2022-05-14T11:36:05.417Z"
   },
   {
    "duration": 18,
    "start_time": "2022-05-14T11:36:05.431Z"
   },
   {
    "duration": 24,
    "start_time": "2022-05-14T11:36:05.450Z"
   },
   {
    "duration": 21,
    "start_time": "2022-05-14T11:36:06.021Z"
   },
   {
    "duration": 2,
    "start_time": "2022-05-14T11:36:07.536Z"
   },
   {
    "duration": 17,
    "start_time": "2022-05-14T11:36:37.435Z"
   },
   {
    "duration": 14,
    "start_time": "2022-05-14T11:36:52.263Z"
   },
   {
    "duration": 4,
    "start_time": "2022-05-14T11:37:14.694Z"
   },
   {
    "duration": 13,
    "start_time": "2022-05-14T11:37:16.091Z"
   },
   {
    "duration": 8,
    "start_time": "2022-05-14T11:37:47.183Z"
   },
   {
    "duration": 14,
    "start_time": "2022-05-14T11:37:48.290Z"
   },
   {
    "duration": 20,
    "start_time": "2022-05-14T11:38:09.518Z"
   },
   {
    "duration": 19,
    "start_time": "2022-05-14T11:38:17.879Z"
   },
   {
    "duration": 4,
    "start_time": "2022-05-14T11:38:48.494Z"
   },
   {
    "duration": 4,
    "start_time": "2022-05-14T11:39:23.740Z"
   },
   {
    "duration": 2396,
    "start_time": "2022-05-14T11:39:40.852Z"
   },
   {
    "duration": 2037,
    "start_time": "2022-05-14T11:40:12.092Z"
   },
   {
    "duration": 2181,
    "start_time": "2022-05-14T11:40:31.335Z"
   },
   {
    "duration": 2094,
    "start_time": "2022-05-14T11:40:52.356Z"
   },
   {
    "duration": 9,
    "start_time": "2022-05-14T11:41:19.923Z"
   },
   {
    "duration": 3,
    "start_time": "2022-05-14T11:41:22.602Z"
   },
   {
    "duration": 2426,
    "start_time": "2022-05-14T11:41:23.246Z"
   },
   {
    "duration": 2316,
    "start_time": "2022-05-14T11:41:46.459Z"
   },
   {
    "duration": 9,
    "start_time": "2022-05-14T11:42:30.618Z"
   },
   {
    "duration": 2358,
    "start_time": "2022-05-14T11:42:38.114Z"
   },
   {
    "duration": 5,
    "start_time": "2022-05-14T11:44:58.008Z"
   },
   {
    "duration": 10,
    "start_time": "2022-05-14T11:44:59.609Z"
   },
   {
    "duration": 4,
    "start_time": "2022-05-14T11:45:00.561Z"
   },
   {
    "duration": 13,
    "start_time": "2022-05-14T11:45:00.913Z"
   },
   {
    "duration": 22,
    "start_time": "2022-05-14T11:45:02.321Z"
   },
   {
    "duration": 3,
    "start_time": "2022-05-14T11:45:02.905Z"
   },
   {
    "duration": 4,
    "start_time": "2022-05-14T11:45:03.710Z"
   },
   {
    "duration": 92,
    "start_time": "2022-05-14T11:45:04.553Z"
   },
   {
    "duration": 1125,
    "start_time": "2022-05-14T11:49:33.983Z"
   },
   {
    "duration": 70,
    "start_time": "2022-05-14T11:49:35.111Z"
   },
   {
    "duration": 21,
    "start_time": "2022-05-14T11:49:35.183Z"
   },
   {
    "duration": 59,
    "start_time": "2022-05-14T11:49:35.207Z"
   },
   {
    "duration": 26,
    "start_time": "2022-05-14T11:49:35.275Z"
   },
   {
    "duration": 7,
    "start_time": "2022-05-14T11:49:35.485Z"
   },
   {
    "duration": 5,
    "start_time": "2022-05-14T11:49:36.007Z"
   },
   {
    "duration": 23,
    "start_time": "2022-05-14T11:49:36.847Z"
   },
   {
    "duration": 5,
    "start_time": "2022-05-14T11:49:37.190Z"
   },
   {
    "duration": 14,
    "start_time": "2022-05-14T11:49:37.822Z"
   },
   {
    "duration": 28,
    "start_time": "2022-05-14T11:49:38.364Z"
   },
   {
    "duration": 4,
    "start_time": "2022-05-14T11:49:38.820Z"
   },
   {
    "duration": 230,
    "start_time": "2022-05-14T11:49:40.659Z"
   },
   {
    "duration": 17,
    "start_time": "2022-05-14T11:50:04.347Z"
   },
   {
    "duration": 1322,
    "start_time": "2022-05-14T11:53:06.162Z"
   },
   {
    "duration": 80,
    "start_time": "2022-05-14T11:53:07.487Z"
   },
   {
    "duration": 23,
    "start_time": "2022-05-14T11:53:07.610Z"
   },
   {
    "duration": 12,
    "start_time": "2022-05-14T11:53:08.060Z"
   },
   {
    "duration": 18,
    "start_time": "2022-05-14T11:53:09.389Z"
   },
   {
    "duration": 7,
    "start_time": "2022-05-14T11:53:09.925Z"
   },
   {
    "duration": 7,
    "start_time": "2022-05-14T11:53:10.619Z"
   },
   {
    "duration": 28,
    "start_time": "2022-05-14T11:53:11.492Z"
   },
   {
    "duration": 5,
    "start_time": "2022-05-14T11:53:12.102Z"
   },
   {
    "duration": 7,
    "start_time": "2022-05-14T11:53:13.124Z"
   },
   {
    "duration": 136,
    "start_time": "2022-05-14T11:53:14.792Z"
   },
   {
    "duration": 13,
    "start_time": "2022-05-14T11:54:06.186Z"
   },
   {
    "duration": 162,
    "start_time": "2022-05-14T11:55:18.245Z"
   },
   {
    "duration": 128,
    "start_time": "2022-05-14T11:55:51.107Z"
   },
   {
    "duration": 14,
    "start_time": "2022-05-14T11:56:13.864Z"
   },
   {
    "duration": 136,
    "start_time": "2022-05-14T11:56:41.700Z"
   },
   {
    "duration": 13,
    "start_time": "2022-05-14T11:57:45.545Z"
   },
   {
    "duration": 149,
    "start_time": "2022-05-14T11:58:32.343Z"
   },
   {
    "duration": 148,
    "start_time": "2022-05-14T11:59:31.610Z"
   },
   {
    "duration": 168,
    "start_time": "2022-05-14T11:59:53.647Z"
   },
   {
    "duration": 152,
    "start_time": "2022-05-14T12:00:06.334Z"
   },
   {
    "duration": 156,
    "start_time": "2022-05-14T12:00:14.748Z"
   },
   {
    "duration": 132,
    "start_time": "2022-05-14T12:00:50.093Z"
   },
   {
    "duration": 16,
    "start_time": "2022-05-14T12:01:26.498Z"
   },
   {
    "duration": 14,
    "start_time": "2022-05-14T12:01:56.782Z"
   },
   {
    "duration": 180,
    "start_time": "2022-05-14T12:02:40.967Z"
   },
   {
    "duration": 11,
    "start_time": "2022-05-14T12:03:18.542Z"
   },
   {
    "duration": 33,
    "start_time": "2022-05-14T12:04:00.352Z"
   },
   {
    "duration": 231,
    "start_time": "2022-05-14T12:04:39.116Z"
   },
   {
    "duration": 1164,
    "start_time": "2022-05-14T12:06:01.554Z"
   },
   {
    "duration": 77,
    "start_time": "2022-05-14T12:06:02.720Z"
   },
   {
    "duration": 28,
    "start_time": "2022-05-14T12:06:03.068Z"
   },
   {
    "duration": 13,
    "start_time": "2022-05-14T12:06:03.607Z"
   },
   {
    "duration": 16,
    "start_time": "2022-05-14T12:06:04.792Z"
   },
   {
    "duration": 10,
    "start_time": "2022-05-14T12:06:05.063Z"
   },
   {
    "duration": 5,
    "start_time": "2022-05-14T12:06:05.427Z"
   },
   {
    "duration": 22,
    "start_time": "2022-05-14T12:06:06.143Z"
   },
   {
    "duration": 5,
    "start_time": "2022-05-14T12:06:06.763Z"
   },
   {
    "duration": 6,
    "start_time": "2022-05-14T12:06:07.722Z"
   },
   {
    "duration": 23,
    "start_time": "2022-05-14T12:06:08.164Z"
   },
   {
    "duration": 198,
    "start_time": "2022-05-14T12:06:09.215Z"
   },
   {
    "duration": 9,
    "start_time": "2022-05-14T12:06:52.933Z"
   },
   {
    "duration": 10,
    "start_time": "2022-05-14T12:07:25.374Z"
   },
   {
    "duration": 1289,
    "start_time": "2022-05-14T12:11:09.253Z"
   },
   {
    "duration": 73,
    "start_time": "2022-05-14T12:11:10.544Z"
   },
   {
    "duration": 22,
    "start_time": "2022-05-14T12:11:10.983Z"
   },
   {
    "duration": 19,
    "start_time": "2022-05-14T12:11:11.355Z"
   },
   {
    "duration": 19,
    "start_time": "2022-05-14T12:11:12.470Z"
   },
   {
    "duration": 7,
    "start_time": "2022-05-14T12:11:12.699Z"
   },
   {
    "duration": 5,
    "start_time": "2022-05-14T12:11:13.031Z"
   },
   {
    "duration": 20,
    "start_time": "2022-05-14T12:11:13.903Z"
   },
   {
    "duration": 4,
    "start_time": "2022-05-14T12:11:14.503Z"
   },
   {
    "duration": 9,
    "start_time": "2022-05-14T12:11:15.563Z"
   },
   {
    "duration": 30,
    "start_time": "2022-05-14T12:11:15.908Z"
   },
   {
    "duration": 114,
    "start_time": "2022-05-14T12:11:16.728Z"
   },
   {
    "duration": 82,
    "start_time": "2022-05-14T12:11:53.964Z"
   },
   {
    "duration": 4,
    "start_time": "2022-05-14T12:12:01.172Z"
   },
   {
    "duration": 4,
    "start_time": "2022-05-14T12:12:05.616Z"
   },
   {
    "duration": 4,
    "start_time": "2022-05-14T12:12:09.060Z"
   },
   {
    "duration": 3,
    "start_time": "2022-05-14T12:12:12.531Z"
   },
   {
    "duration": 4,
    "start_time": "2022-05-14T12:12:15.453Z"
   },
   {
    "duration": 191,
    "start_time": "2022-05-14T12:12:30.732Z"
   },
   {
    "duration": 84,
    "start_time": "2022-05-14T12:15:22.079Z"
   },
   {
    "duration": 4,
    "start_time": "2022-05-14T12:15:26.466Z"
   },
   {
    "duration": 3,
    "start_time": "2022-05-14T12:16:18.595Z"
   },
   {
    "duration": 2,
    "start_time": "2022-05-14T12:17:19.359Z"
   },
   {
    "duration": 3,
    "start_time": "2022-05-14T12:17:19.939Z"
   },
   {
    "duration": 101,
    "start_time": "2022-05-14T12:17:57.125Z"
   },
   {
    "duration": 9,
    "start_time": "2022-05-14T12:18:13.460Z"
   },
   {
    "duration": 11,
    "start_time": "2022-05-14T12:19:18.707Z"
   },
   {
    "duration": 6,
    "start_time": "2022-05-14T12:22:00.075Z"
   },
   {
    "duration": 67,
    "start_time": "2022-05-14T12:22:00.888Z"
   },
   {
    "duration": 22,
    "start_time": "2022-05-14T12:22:02.325Z"
   },
   {
    "duration": 9,
    "start_time": "2022-05-14T12:22:02.801Z"
   },
   {
    "duration": 13,
    "start_time": "2022-05-14T12:22:04.042Z"
   },
   {
    "duration": 7,
    "start_time": "2022-05-14T12:22:04.272Z"
   },
   {
    "duration": 5,
    "start_time": "2022-05-14T12:22:04.476Z"
   },
   {
    "duration": 19,
    "start_time": "2022-05-14T12:22:04.893Z"
   },
   {
    "duration": 4,
    "start_time": "2022-05-14T12:22:05.384Z"
   },
   {
    "duration": 6,
    "start_time": "2022-05-14T12:22:06.229Z"
   },
   {
    "duration": 20,
    "start_time": "2022-05-14T12:22:06.585Z"
   },
   {
    "duration": 9,
    "start_time": "2022-05-14T12:22:07.063Z"
   },
   {
    "duration": 78,
    "start_time": "2022-05-14T12:22:32.012Z"
   },
   {
    "duration": 3,
    "start_time": "2022-05-14T12:22:37.448Z"
   },
   {
    "duration": 3,
    "start_time": "2022-05-14T12:22:44.221Z"
   },
   {
    "duration": 3,
    "start_time": "2022-05-14T12:22:51.148Z"
   },
   {
    "duration": 2,
    "start_time": "2022-05-14T12:23:32.611Z"
   },
   {
    "duration": 3,
    "start_time": "2022-05-14T12:23:33.381Z"
   },
   {
    "duration": 100,
    "start_time": "2022-05-14T12:24:44.086Z"
   },
   {
    "duration": 3,
    "start_time": "2022-05-14T12:24:44.906Z"
   },
   {
    "duration": 2,
    "start_time": "2022-05-14T12:24:50.464Z"
   },
   {
    "duration": 3,
    "start_time": "2022-05-14T12:24:51.266Z"
   },
   {
    "duration": 75,
    "start_time": "2022-05-14T12:25:21.175Z"
   },
   {
    "duration": 3,
    "start_time": "2022-05-14T12:25:21.880Z"
   },
   {
    "duration": 2,
    "start_time": "2022-05-14T12:25:24.682Z"
   },
   {
    "duration": 4,
    "start_time": "2022-05-14T12:25:25.254Z"
   },
   {
    "duration": 3,
    "start_time": "2022-05-14T12:26:05.111Z"
   },
   {
    "duration": 75,
    "start_time": "2022-05-14T12:26:24.185Z"
   },
   {
    "duration": 4,
    "start_time": "2022-05-14T12:26:24.905Z"
   },
   {
    "duration": 12,
    "start_time": "2022-05-14T12:26:42.349Z"
   },
   {
    "duration": 124,
    "start_time": "2022-05-14T12:27:30.534Z"
   },
   {
    "duration": 79,
    "start_time": "2022-05-14T12:28:50.428Z"
   },
   {
    "duration": 3,
    "start_time": "2022-05-14T12:28:52.064Z"
   },
   {
    "duration": 1184,
    "start_time": "2022-05-14T12:33:00.332Z"
   },
   {
    "duration": 70,
    "start_time": "2022-05-14T12:33:01.519Z"
   },
   {
    "duration": 25,
    "start_time": "2022-05-14T12:33:01.592Z"
   },
   {
    "duration": 14,
    "start_time": "2022-05-14T12:33:01.756Z"
   },
   {
    "duration": 15,
    "start_time": "2022-05-14T12:33:02.174Z"
   },
   {
    "duration": 7,
    "start_time": "2022-05-14T12:33:02.443Z"
   },
   {
    "duration": 5,
    "start_time": "2022-05-14T12:33:02.826Z"
   },
   {
    "duration": 28,
    "start_time": "2022-05-14T12:33:03.670Z"
   },
   {
    "duration": 4,
    "start_time": "2022-05-14T12:33:04.170Z"
   },
   {
    "duration": 5,
    "start_time": "2022-05-14T12:33:06.077Z"
   },
   {
    "duration": 21,
    "start_time": "2022-05-14T12:33:06.538Z"
   },
   {
    "duration": 208,
    "start_time": "2022-05-14T12:33:07.159Z"
   },
   {
    "duration": 5,
    "start_time": "2022-05-14T12:33:08.262Z"
   },
   {
    "duration": 19,
    "start_time": "2022-05-14T12:33:32.466Z"
   },
   {
    "duration": 96,
    "start_time": "2022-05-14T12:34:26.324Z"
   },
   {
    "duration": 12,
    "start_time": "2022-05-14T12:34:36.107Z"
   },
   {
    "duration": 5,
    "start_time": "2022-05-14T12:34:42.180Z"
   },
   {
    "duration": 5,
    "start_time": "2022-05-14T12:34:53.448Z"
   },
   {
    "duration": 1101,
    "start_time": "2022-05-14T12:36:29.412Z"
   },
   {
    "duration": 77,
    "start_time": "2022-05-14T12:36:30.515Z"
   },
   {
    "duration": 24,
    "start_time": "2022-05-14T12:36:30.851Z"
   },
   {
    "duration": 13,
    "start_time": "2022-05-14T12:36:31.060Z"
   },
   {
    "duration": 14,
    "start_time": "2022-05-14T12:36:31.447Z"
   },
   {
    "duration": 7,
    "start_time": "2022-05-14T12:36:31.945Z"
   },
   {
    "duration": 4,
    "start_time": "2022-05-14T12:36:32.032Z"
   },
   {
    "duration": 23,
    "start_time": "2022-05-14T12:36:32.508Z"
   },
   {
    "duration": 5,
    "start_time": "2022-05-14T12:36:32.731Z"
   },
   {
    "duration": 201,
    "start_time": "2022-05-14T12:36:33.205Z"
   },
   {
    "duration": 14,
    "start_time": "2022-05-14T12:36:34.136Z"
   },
   {
    "duration": 5,
    "start_time": "2022-05-14T12:38:38.043Z"
   },
   {
    "duration": 5,
    "start_time": "2022-05-14T12:39:38.277Z"
   },
   {
    "duration": 169,
    "start_time": "2022-05-14T12:40:02.947Z"
   },
   {
    "duration": 5,
    "start_time": "2022-05-14T12:40:36.009Z"
   },
   {
    "duration": 4,
    "start_time": "2022-05-14T12:40:42.295Z"
   },
   {
    "duration": 5,
    "start_time": "2022-05-14T12:40:42.757Z"
   },
   {
    "duration": 4,
    "start_time": "2022-05-14T12:40:46.930Z"
   },
   {
    "duration": 5,
    "start_time": "2022-05-14T12:41:57.940Z"
   },
   {
    "duration": 5,
    "start_time": "2022-05-14T12:41:58.690Z"
   },
   {
    "duration": 13,
    "start_time": "2022-05-14T12:42:00.336Z"
   },
   {
    "duration": 4,
    "start_time": "2022-05-14T12:42:18.529Z"
   },
   {
    "duration": 4,
    "start_time": "2022-05-14T12:42:19.233Z"
   },
   {
    "duration": 13,
    "start_time": "2022-05-14T12:42:20.075Z"
   },
   {
    "duration": 5,
    "start_time": "2022-05-14T12:42:36.436Z"
   },
   {
    "duration": 125,
    "start_time": "2022-05-14T12:42:54.715Z"
   },
   {
    "duration": 4,
    "start_time": "2022-05-14T12:43:04.084Z"
   },
   {
    "duration": 5,
    "start_time": "2022-05-14T12:43:05.034Z"
   },
   {
    "duration": 5,
    "start_time": "2022-05-14T12:43:05.509Z"
   },
   {
    "duration": 4,
    "start_time": "2022-05-14T12:43:34.761Z"
   },
   {
    "duration": 4,
    "start_time": "2022-05-14T12:43:35.440Z"
   },
   {
    "duration": 5,
    "start_time": "2022-05-14T12:43:35.923Z"
   },
   {
    "duration": 1111,
    "start_time": "2022-05-14T12:44:08.319Z"
   },
   {
    "duration": 72,
    "start_time": "2022-05-14T12:44:09.433Z"
   },
   {
    "duration": 34,
    "start_time": "2022-05-14T12:44:09.925Z"
   },
   {
    "duration": 21,
    "start_time": "2022-05-14T12:44:10.127Z"
   },
   {
    "duration": 14,
    "start_time": "2022-05-14T12:44:10.529Z"
   },
   {
    "duration": 7,
    "start_time": "2022-05-14T12:44:10.740Z"
   },
   {
    "duration": 4,
    "start_time": "2022-05-14T12:44:10.919Z"
   },
   {
    "duration": 20,
    "start_time": "2022-05-14T12:44:11.301Z"
   },
   {
    "duration": 5,
    "start_time": "2022-05-14T12:44:11.500Z"
   },
   {
    "duration": 191,
    "start_time": "2022-05-14T12:44:11.719Z"
   },
   {
    "duration": 14,
    "start_time": "2022-05-14T12:44:12.440Z"
   },
   {
    "duration": 6,
    "start_time": "2022-05-14T12:44:14.128Z"
   },
   {
    "duration": 4,
    "start_time": "2022-05-14T12:44:14.449Z"
   },
   {
    "duration": 4,
    "start_time": "2022-05-14T12:44:14.868Z"
   },
   {
    "duration": 5,
    "start_time": "2022-05-14T12:44:15.948Z"
   },
   {
    "duration": 5,
    "start_time": "2022-05-14T12:44:23.213Z"
   },
   {
    "duration": 5,
    "start_time": "2022-05-14T12:44:26.432Z"
   },
   {
    "duration": 9,
    "start_time": "2022-05-14T12:44:50.419Z"
   },
   {
    "duration": 6,
    "start_time": "2022-05-14T12:44:51.767Z"
   },
   {
    "duration": 4,
    "start_time": "2022-05-14T12:45:22.481Z"
   },
   {
    "duration": 5,
    "start_time": "2022-05-14T12:45:23.369Z"
   },
   {
    "duration": 4,
    "start_time": "2022-05-14T12:45:28.886Z"
   },
   {
    "duration": 5,
    "start_time": "2022-05-14T12:46:52.211Z"
   },
   {
    "duration": 5,
    "start_time": "2022-05-14T12:47:37.963Z"
   },
   {
    "duration": 29,
    "start_time": "2022-05-14T12:47:57.163Z"
   },
   {
    "duration": 5,
    "start_time": "2022-05-14T12:48:10.141Z"
   },
   {
    "duration": 5,
    "start_time": "2022-05-14T12:48:11.113Z"
   },
   {
    "duration": 13,
    "start_time": "2022-05-14T12:48:11.529Z"
   },
   {
    "duration": 1193,
    "start_time": "2022-05-14T12:49:44.726Z"
   },
   {
    "duration": 73,
    "start_time": "2022-05-14T12:49:45.922Z"
   },
   {
    "duration": 22,
    "start_time": "2022-05-14T12:49:46.169Z"
   },
   {
    "duration": 14,
    "start_time": "2022-05-14T12:49:46.375Z"
   },
   {
    "duration": 16,
    "start_time": "2022-05-14T12:49:46.764Z"
   },
   {
    "duration": 7,
    "start_time": "2022-05-14T12:49:46.963Z"
   },
   {
    "duration": 5,
    "start_time": "2022-05-14T12:49:47.180Z"
   },
   {
    "duration": 22,
    "start_time": "2022-05-14T12:49:47.602Z"
   },
   {
    "duration": 5,
    "start_time": "2022-05-14T12:49:48.103Z"
   },
   {
    "duration": 206,
    "start_time": "2022-05-14T12:49:48.191Z"
   },
   {
    "duration": 14,
    "start_time": "2022-05-14T12:49:48.400Z"
   },
   {
    "duration": 5,
    "start_time": "2022-05-14T12:49:48.436Z"
   },
   {
    "duration": 3,
    "start_time": "2022-05-14T12:49:48.525Z"
   },
   {
    "duration": 3,
    "start_time": "2022-05-14T12:49:48.607Z"
   },
   {
    "duration": 6,
    "start_time": "2022-05-14T12:49:49.470Z"
   },
   {
    "duration": 8,
    "start_time": "2022-05-14T12:49:49.562Z"
   },
   {
    "duration": 4,
    "start_time": "2022-05-14T12:49:49.636Z"
   },
   {
    "duration": 4,
    "start_time": "2022-05-14T12:49:49.923Z"
   },
   {
    "duration": 5,
    "start_time": "2022-05-14T12:49:50.506Z"
   },
   {
    "duration": 4,
    "start_time": "2022-05-14T12:49:50.595Z"
   },
   {
    "duration": 5,
    "start_time": "2022-05-14T12:49:50.909Z"
   },
   {
    "duration": 5,
    "start_time": "2022-05-14T12:49:51.506Z"
   },
   {
    "duration": 5,
    "start_time": "2022-05-14T12:49:51.664Z"
   },
   {
    "duration": 1168,
    "start_time": "2022-05-14T12:51:18.717Z"
   },
   {
    "duration": 67,
    "start_time": "2022-05-14T12:51:19.887Z"
   },
   {
    "duration": 24,
    "start_time": "2022-05-14T12:51:20.219Z"
   },
   {
    "duration": 13,
    "start_time": "2022-05-14T12:51:20.303Z"
   },
   {
    "duration": 15,
    "start_time": "2022-05-14T12:51:20.691Z"
   },
   {
    "duration": 6,
    "start_time": "2022-05-14T12:51:21.193Z"
   },
   {
    "duration": 4,
    "start_time": "2022-05-14T12:51:21.279Z"
   },
   {
    "duration": 23,
    "start_time": "2022-05-14T12:51:21.451Z"
   },
   {
    "duration": 5,
    "start_time": "2022-05-14T12:51:21.528Z"
   },
   {
    "duration": 212,
    "start_time": "2022-05-14T12:51:21.617Z"
   },
   {
    "duration": 17,
    "start_time": "2022-05-14T12:51:21.832Z"
   },
   {
    "duration": 5,
    "start_time": "2022-05-14T12:51:22.555Z"
   },
   {
    "duration": 4,
    "start_time": "2022-05-14T12:51:22.809Z"
   },
   {
    "duration": 4,
    "start_time": "2022-05-14T12:51:23.047Z"
   },
   {
    "duration": 6,
    "start_time": "2022-05-14T12:51:23.514Z"
   },
   {
    "duration": 9,
    "start_time": "2022-05-14T12:51:23.761Z"
   },
   {
    "duration": 4,
    "start_time": "2022-05-14T12:51:24.020Z"
   },
   {
    "duration": 4,
    "start_time": "2022-05-14T12:51:24.264Z"
   },
   {
    "duration": 5,
    "start_time": "2022-05-14T12:51:25.004Z"
   },
   {
    "duration": 5,
    "start_time": "2022-05-14T12:51:25.081Z"
   },
   {
    "duration": 6,
    "start_time": "2022-05-14T12:51:25.420Z"
   },
   {
    "duration": 5,
    "start_time": "2022-05-14T12:51:26.180Z"
   },
   {
    "duration": 5,
    "start_time": "2022-05-14T12:51:26.867Z"
   },
   {
    "duration": 48,
    "start_time": "2022-05-14T12:51:27.770Z"
   },
   {
    "duration": 1110,
    "start_time": "2022-05-14T13:23:43.109Z"
   },
   {
    "duration": 73,
    "start_time": "2022-05-14T13:23:44.221Z"
   },
   {
    "duration": 25,
    "start_time": "2022-05-14T13:23:44.296Z"
   },
   {
    "duration": 13,
    "start_time": "2022-05-14T13:23:44.323Z"
   },
   {
    "duration": 35,
    "start_time": "2022-05-14T13:23:44.337Z"
   },
   {
    "duration": 8,
    "start_time": "2022-05-14T13:23:44.375Z"
   },
   {
    "duration": 5,
    "start_time": "2022-05-14T13:23:44.450Z"
   },
   {
    "duration": 23,
    "start_time": "2022-05-14T13:23:44.618Z"
   },
   {
    "duration": 5,
    "start_time": "2022-05-14T13:23:44.700Z"
   },
   {
    "duration": 201,
    "start_time": "2022-05-14T13:23:44.784Z"
   },
   {
    "duration": 19,
    "start_time": "2022-05-14T13:23:44.987Z"
   },
   {
    "duration": 6,
    "start_time": "2022-05-14T13:23:45.036Z"
   },
   {
    "duration": 4,
    "start_time": "2022-05-14T13:23:45.278Z"
   },
   {
    "duration": 5,
    "start_time": "2022-05-14T13:23:45.780Z"
   },
   {
    "duration": 5,
    "start_time": "2022-05-14T13:23:45.949Z"
   },
   {
    "duration": 8,
    "start_time": "2022-05-14T13:23:46.037Z"
   },
   {
    "duration": 4,
    "start_time": "2022-05-14T13:23:46.115Z"
   },
   {
    "duration": 4,
    "start_time": "2022-05-14T13:23:46.198Z"
   },
   {
    "duration": 5,
    "start_time": "2022-05-14T13:23:46.935Z"
   },
   {
    "duration": 5,
    "start_time": "2022-05-14T13:23:47.018Z"
   },
   {
    "duration": 6,
    "start_time": "2022-05-14T13:23:47.179Z"
   },
   {
    "duration": 4,
    "start_time": "2022-05-14T13:23:47.351Z"
   },
   {
    "duration": 5,
    "start_time": "2022-05-14T13:23:47.516Z"
   },
   {
    "duration": 34,
    "start_time": "2022-05-14T13:23:48.470Z"
   },
   {
    "duration": 287,
    "start_time": "2022-05-14T13:23:48.973Z"
   },
   {
    "duration": 370,
    "start_time": "2022-05-14T13:23:59.032Z"
   },
   {
    "duration": 335,
    "start_time": "2022-05-14T13:24:08.217Z"
   },
   {
    "duration": 312,
    "start_time": "2022-05-14T13:24:18.188Z"
   },
   {
    "duration": 273,
    "start_time": "2022-05-14T13:25:08.781Z"
   },
   {
    "duration": 280,
    "start_time": "2022-05-14T13:26:25.864Z"
   },
   {
    "duration": 423,
    "start_time": "2022-05-14T13:26:48.115Z"
   },
   {
    "duration": 9,
    "start_time": "2022-05-14T13:28:07.275Z"
   },
   {
    "duration": 7,
    "start_time": "2022-05-14T13:28:29.312Z"
   },
   {
    "duration": 980,
    "start_time": "2022-05-14T13:30:28.805Z"
   },
   {
    "duration": 271,
    "start_time": "2022-05-14T13:30:44.165Z"
   },
   {
    "duration": 1029,
    "start_time": "2022-05-14T13:30:50.557Z"
   },
   {
    "duration": 9,
    "start_time": "2022-05-14T13:31:56.488Z"
   },
   {
    "duration": 1847,
    "start_time": "2022-05-14T13:31:57.686Z"
   },
   {
    "duration": 1445,
    "start_time": "2022-05-14T13:32:15.242Z"
   },
   {
    "duration": 8,
    "start_time": "2022-05-14T13:32:31.575Z"
   },
   {
    "duration": 11,
    "start_time": "2022-05-14T13:32:32.918Z"
   },
   {
    "duration": 44,
    "start_time": "2022-05-14T13:32:54.312Z"
   },
   {
    "duration": 39,
    "start_time": "2022-05-14T13:33:14.254Z"
   },
   {
    "duration": 9,
    "start_time": "2022-05-14T13:36:35.397Z"
   },
   {
    "duration": 26,
    "start_time": "2022-05-14T13:36:40.300Z"
   },
   {
    "duration": 123,
    "start_time": "2022-05-14T13:36:41.004Z"
   },
   {
    "duration": 109,
    "start_time": "2022-05-14T13:36:55.913Z"
   },
   {
    "duration": 92,
    "start_time": "2022-05-14T13:36:58.119Z"
   },
   {
    "duration": 7,
    "start_time": "2022-05-14T13:39:18.786Z"
   },
   {
    "duration": 9,
    "start_time": "2022-05-14T13:40:14.937Z"
   },
   {
    "duration": 136,
    "start_time": "2022-05-14T13:40:45.034Z"
   },
   {
    "duration": 62,
    "start_time": "2022-05-14T13:40:45.920Z"
   },
   {
    "duration": 34,
    "start_time": "2022-05-14T13:40:46.672Z"
   },
   {
    "duration": 12,
    "start_time": "2022-05-14T13:40:46.759Z"
   },
   {
    "duration": 19,
    "start_time": "2022-05-14T13:40:46.928Z"
   },
   {
    "duration": 8,
    "start_time": "2022-05-14T13:40:47.008Z"
   },
   {
    "duration": 5,
    "start_time": "2022-05-14T13:40:47.099Z"
   },
   {
    "duration": 22,
    "start_time": "2022-05-14T13:40:47.261Z"
   },
   {
    "duration": 5,
    "start_time": "2022-05-14T13:40:47.354Z"
   },
   {
    "duration": 213,
    "start_time": "2022-05-14T13:40:47.429Z"
   },
   {
    "duration": 15,
    "start_time": "2022-05-14T13:40:47.744Z"
   },
   {
    "duration": 6,
    "start_time": "2022-05-14T13:40:48.329Z"
   },
   {
    "duration": 4,
    "start_time": "2022-05-14T13:40:48.423Z"
   },
   {
    "duration": 5,
    "start_time": "2022-05-14T13:40:48.497Z"
   },
   {
    "duration": 7,
    "start_time": "2022-05-14T13:40:49.343Z"
   },
   {
    "duration": 12,
    "start_time": "2022-05-14T13:40:49.421Z"
   },
   {
    "duration": 4,
    "start_time": "2022-05-14T13:40:49.506Z"
   },
   {
    "duration": 4,
    "start_time": "2022-05-14T13:40:49.589Z"
   },
   {
    "duration": 7,
    "start_time": "2022-05-14T13:40:50.267Z"
   },
   {
    "duration": 4,
    "start_time": "2022-05-14T13:40:50.352Z"
   },
   {
    "duration": 5,
    "start_time": "2022-05-14T13:40:50.516Z"
   },
   {
    "duration": 5,
    "start_time": "2022-05-14T13:40:51.315Z"
   },
   {
    "duration": 5,
    "start_time": "2022-05-14T13:40:51.483Z"
   },
   {
    "duration": 35,
    "start_time": "2022-05-14T13:40:51.863Z"
   },
   {
    "duration": 321,
    "start_time": "2022-05-14T13:40:52.355Z"
   },
   {
    "duration": 8,
    "start_time": "2022-05-14T13:40:52.678Z"
   },
   {
    "duration": 297,
    "start_time": "2022-05-14T13:40:52.688Z"
   },
   {
    "duration": 8,
    "start_time": "2022-05-14T13:40:52.987Z"
   },
   {
    "duration": 955,
    "start_time": "2022-05-14T13:40:53.159Z"
   },
   {
    "duration": 6,
    "start_time": "2022-05-14T13:40:56.541Z"
   },
   {
    "duration": 9,
    "start_time": "2022-05-14T13:40:56.961Z"
   },
   {
    "duration": 42,
    "start_time": "2022-05-14T13:40:57.173Z"
   },
   {
    "duration": 8,
    "start_time": "2022-05-14T13:40:58.741Z"
   },
   {
    "duration": 14,
    "start_time": "2022-05-14T13:40:59.100Z"
   },
   {
    "duration": 2165,
    "start_time": "2022-05-14T13:41:06.902Z"
   },
   {
    "duration": 13,
    "start_time": "2022-05-14T13:46:13.554Z"
   },
   {
    "duration": 5,
    "start_time": "2022-05-14T13:46:21.972Z"
   },
   {
    "duration": 164,
    "start_time": "2022-05-14T13:46:24.192Z"
   },
   {
    "duration": 12,
    "start_time": "2022-05-14T13:46:40.483Z"
   },
   {
    "duration": 172,
    "start_time": "2022-05-14T13:46:55.960Z"
   },
   {
    "duration": 164,
    "start_time": "2022-05-14T13:47:00.923Z"
   },
   {
    "duration": 14,
    "start_time": "2022-05-14T13:47:51.102Z"
   },
   {
    "duration": 13,
    "start_time": "2022-05-14T13:48:09.908Z"
   },
   {
    "duration": 12,
    "start_time": "2022-05-14T13:48:26.227Z"
   },
   {
    "duration": 183,
    "start_time": "2022-05-14T13:48:35.763Z"
   },
   {
    "duration": 149,
    "start_time": "2022-05-14T13:48:47.294Z"
   },
   {
    "duration": 262,
    "start_time": "2022-05-14T13:49:45.766Z"
   },
   {
    "duration": 163,
    "start_time": "2022-05-14T13:50:13.574Z"
   },
   {
    "duration": 6,
    "start_time": "2022-05-14T13:51:23.390Z"
   },
   {
    "duration": 7,
    "start_time": "2022-05-14T13:51:50.177Z"
   },
   {
    "duration": 10,
    "start_time": "2022-05-14T13:53:33.692Z"
   },
   {
    "duration": 13,
    "start_time": "2022-05-14T13:53:38.681Z"
   },
   {
    "duration": 6,
    "start_time": "2022-05-14T13:53:41.505Z"
   },
   {
    "duration": 121,
    "start_time": "2022-05-14T13:54:43.888Z"
   },
   {
    "duration": 128,
    "start_time": "2022-05-14T13:54:59.895Z"
   },
   {
    "duration": 1308,
    "start_time": "2022-05-14T13:57:50.613Z"
   },
   {
    "duration": 90,
    "start_time": "2022-05-14T13:57:51.923Z"
   },
   {
    "duration": 33,
    "start_time": "2022-05-14T13:57:52.479Z"
   },
   {
    "duration": 15,
    "start_time": "2022-05-14T13:57:52.898Z"
   },
   {
    "duration": 38,
    "start_time": "2022-05-14T13:57:53.289Z"
   },
   {
    "duration": 8,
    "start_time": "2022-05-14T13:57:53.503Z"
   },
   {
    "duration": 4,
    "start_time": "2022-05-14T13:57:53.718Z"
   },
   {
    "duration": 23,
    "start_time": "2022-05-14T13:57:54.208Z"
   },
   {
    "duration": 4,
    "start_time": "2022-05-14T13:57:54.398Z"
   },
   {
    "duration": 223,
    "start_time": "2022-05-14T13:57:54.594Z"
   },
   {
    "duration": 30,
    "start_time": "2022-05-14T13:57:54.819Z"
   },
   {
    "duration": 6,
    "start_time": "2022-05-14T13:57:55.279Z"
   },
   {
    "duration": 4,
    "start_time": "2022-05-14T13:57:55.511Z"
   },
   {
    "duration": 7,
    "start_time": "2022-05-14T13:57:55.977Z"
   },
   {
    "duration": 7,
    "start_time": "2022-05-14T13:57:56.559Z"
   },
   {
    "duration": 8,
    "start_time": "2022-05-14T13:57:56.646Z"
   },
   {
    "duration": 4,
    "start_time": "2022-05-14T13:57:56.924Z"
   },
   {
    "duration": 3,
    "start_time": "2022-05-14T13:57:57.223Z"
   },
   {
    "duration": 6,
    "start_time": "2022-05-14T13:57:57.811Z"
   },
   {
    "duration": 5,
    "start_time": "2022-05-14T13:57:57.887Z"
   },
   {
    "duration": 6,
    "start_time": "2022-05-14T13:57:58.589Z"
   },
   {
    "duration": 4,
    "start_time": "2022-05-14T13:57:58.756Z"
   },
   {
    "duration": 5,
    "start_time": "2022-05-14T13:57:59.098Z"
   },
   {
    "duration": 35,
    "start_time": "2022-05-14T13:57:59.684Z"
   },
   {
    "duration": 378,
    "start_time": "2022-05-14T13:57:59.767Z"
   },
   {
    "duration": 8,
    "start_time": "2022-05-14T13:58:00.158Z"
   },
   {
    "duration": 285,
    "start_time": "2022-05-14T13:58:00.754Z"
   },
   {
    "duration": 9,
    "start_time": "2022-05-14T13:58:01.081Z"
   },
   {
    "duration": 1179,
    "start_time": "2022-05-14T13:58:01.443Z"
   },
   {
    "duration": 6,
    "start_time": "2022-05-14T13:58:02.624Z"
   },
   {
    "duration": 10,
    "start_time": "2022-05-14T13:58:03.262Z"
   },
   {
    "duration": 47,
    "start_time": "2022-05-14T13:58:03.584Z"
   },
   {
    "duration": 8,
    "start_time": "2022-05-14T13:58:04.113Z"
   },
   {
    "duration": 107,
    "start_time": "2022-05-14T13:58:04.402Z"
   },
   {
    "duration": 9,
    "start_time": "2022-05-14T13:58:28.150Z"
   },
   {
    "duration": 136,
    "start_time": "2022-05-14T13:58:46.400Z"
   },
   {
    "duration": 9,
    "start_time": "2022-05-14T13:58:49.484Z"
   },
   {
    "duration": 9,
    "start_time": "2022-05-14T13:58:55.248Z"
   },
   {
    "duration": 12,
    "start_time": "2022-05-14T13:58:59.879Z"
   },
   {
    "duration": 11,
    "start_time": "2022-05-14T13:59:04.348Z"
   },
   {
    "duration": 9,
    "start_time": "2022-05-14T14:01:38.617Z"
   },
   {
    "duration": 107,
    "start_time": "2022-05-14T14:01:50.291Z"
   },
   {
    "duration": 117,
    "start_time": "2022-05-14T14:04:05.753Z"
   },
   {
    "duration": 104,
    "start_time": "2022-05-14T14:04:12.865Z"
   },
   {
    "duration": 10,
    "start_time": "2022-05-14T14:05:23.643Z"
   },
   {
    "duration": 17,
    "start_time": "2022-05-14T14:05:42.907Z"
   },
   {
    "duration": 116,
    "start_time": "2022-05-14T14:05:52.881Z"
   },
   {
    "duration": 110,
    "start_time": "2022-05-14T14:06:09.422Z"
   },
   {
    "duration": 121,
    "start_time": "2022-05-14T14:06:12.187Z"
   },
   {
    "duration": 20,
    "start_time": "2022-05-14T14:06:34.470Z"
   },
   {
    "duration": 142,
    "start_time": "2022-05-14T14:07:28.484Z"
   },
   {
    "duration": 12,
    "start_time": "2022-05-14T14:07:31.974Z"
   },
   {
    "duration": 9,
    "start_time": "2022-05-14T14:08:25.100Z"
   },
   {
    "duration": 9,
    "start_time": "2022-05-14T14:08:39.489Z"
   },
   {
    "duration": 109,
    "start_time": "2022-05-14T14:08:58.515Z"
   },
   {
    "duration": 86,
    "start_time": "2022-05-14T14:09:14.264Z"
   },
   {
    "duration": 9,
    "start_time": "2022-05-14T14:09:31.133Z"
   },
   {
    "duration": 121,
    "start_time": "2022-05-14T14:11:09.987Z"
   },
   {
    "duration": 16,
    "start_time": "2022-05-14T14:11:16.268Z"
   },
   {
    "duration": 148,
    "start_time": "2022-05-14T14:12:05.295Z"
   },
   {
    "duration": 262,
    "start_time": "2022-05-14T14:12:32.881Z"
   },
   {
    "duration": 10,
    "start_time": "2022-05-14T14:13:30.909Z"
   },
   {
    "duration": 9,
    "start_time": "2022-05-14T14:14:00.901Z"
   },
   {
    "duration": 155,
    "start_time": "2022-05-14T14:14:05.495Z"
   },
   {
    "duration": 130,
    "start_time": "2022-05-14T14:14:12.708Z"
   },
   {
    "duration": 137,
    "start_time": "2022-05-14T14:14:37.618Z"
   },
   {
    "duration": 165,
    "start_time": "2022-05-14T14:14:42.304Z"
   },
   {
    "duration": 11,
    "start_time": "2022-05-14T14:15:36.318Z"
   },
   {
    "duration": 10,
    "start_time": "2022-05-14T14:15:42.706Z"
   },
   {
    "duration": 137,
    "start_time": "2022-05-14T14:16:37.586Z"
   },
   {
    "duration": 10,
    "start_time": "2022-05-14T14:16:40.528Z"
   },
   {
    "duration": 113,
    "start_time": "2022-05-14T14:16:41.372Z"
   },
   {
    "duration": 152,
    "start_time": "2022-05-14T14:16:51.227Z"
   },
   {
    "duration": 169,
    "start_time": "2022-05-14T14:16:53.207Z"
   },
   {
    "duration": 172,
    "start_time": "2022-05-14T14:16:58.154Z"
   },
   {
    "duration": 152,
    "start_time": "2022-05-14T14:16:58.556Z"
   },
   {
    "duration": 7,
    "start_time": "2022-05-14T14:16:58.944Z"
   },
   {
    "duration": 214,
    "start_time": "2022-05-14T14:16:59.390Z"
   },
   {
    "duration": 126,
    "start_time": "2022-05-14T14:16:59.813Z"
   },
   {
    "duration": 208,
    "start_time": "2022-05-14T14:17:33.970Z"
   },
   {
    "duration": 11,
    "start_time": "2022-05-14T14:17:36.082Z"
   },
   {
    "duration": 9,
    "start_time": "2022-05-14T14:17:40.515Z"
   },
   {
    "duration": 9,
    "start_time": "2022-05-14T14:17:41.816Z"
   },
   {
    "duration": 4,
    "start_time": "2022-05-14T14:17:43.338Z"
   },
   {
    "duration": 18,
    "start_time": "2022-05-14T14:17:44.173Z"
   },
   {
    "duration": 23,
    "start_time": "2022-05-14T14:17:45.065Z"
   },
   {
    "duration": 9,
    "start_time": "2022-05-14T14:17:46.049Z"
   },
   {
    "duration": 9,
    "start_time": "2022-05-14T14:17:46.485Z"
   },
   {
    "duration": 9,
    "start_time": "2022-05-14T14:17:47.344Z"
   },
   {
    "duration": 9,
    "start_time": "2022-05-14T14:17:47.829Z"
   },
   {
    "duration": 16,
    "start_time": "2022-05-14T14:17:48.730Z"
   },
   {
    "duration": 9,
    "start_time": "2022-05-14T14:17:49.484Z"
   },
   {
    "duration": 9,
    "start_time": "2022-05-14T14:17:49.800Z"
   },
   {
    "duration": 16,
    "start_time": "2022-05-14T14:17:50.675Z"
   },
   {
    "duration": 9,
    "start_time": "2022-05-14T14:17:51.086Z"
   },
   {
    "duration": 18,
    "start_time": "2022-05-14T14:17:52.011Z"
   },
   {
    "duration": 12,
    "start_time": "2022-05-14T14:17:57.614Z"
   },
   {
    "duration": 15,
    "start_time": "2022-05-14T14:17:58.693Z"
   },
   {
    "duration": 1768,
    "start_time": "2022-05-15T07:08:41.542Z"
   },
   {
    "duration": 144,
    "start_time": "2022-05-15T07:08:43.314Z"
   },
   {
    "duration": 34,
    "start_time": "2022-05-15T07:08:43.460Z"
   },
   {
    "duration": 14,
    "start_time": "2022-05-15T07:08:43.496Z"
   },
   {
    "duration": 52,
    "start_time": "2022-05-15T07:08:43.512Z"
   },
   {
    "duration": 10,
    "start_time": "2022-05-15T07:08:43.584Z"
   },
   {
    "duration": 8,
    "start_time": "2022-05-15T07:08:43.662Z"
   },
   {
    "duration": 33,
    "start_time": "2022-05-15T07:08:43.825Z"
   },
   {
    "duration": 6,
    "start_time": "2022-05-15T07:08:43.908Z"
   },
   {
    "duration": 327,
    "start_time": "2022-05-15T07:08:43.994Z"
   },
   {
    "duration": 32,
    "start_time": "2022-05-15T07:08:44.324Z"
   },
   {
    "duration": 8,
    "start_time": "2022-05-15T07:08:44.359Z"
   },
   {
    "duration": 11,
    "start_time": "2022-05-15T07:08:44.370Z"
   },
   {
    "duration": 6,
    "start_time": "2022-05-15T07:08:44.411Z"
   },
   {
    "duration": 8,
    "start_time": "2022-05-15T07:08:44.582Z"
   },
   {
    "duration": 17,
    "start_time": "2022-05-15T07:08:44.666Z"
   },
   {
    "duration": 6,
    "start_time": "2022-05-15T07:08:44.749Z"
   },
   {
    "duration": 4,
    "start_time": "2022-05-15T07:08:44.833Z"
   },
   {
    "duration": 8,
    "start_time": "2022-05-15T07:08:45.000Z"
   },
   {
    "duration": 7,
    "start_time": "2022-05-15T07:08:45.086Z"
   },
   {
    "duration": 7,
    "start_time": "2022-05-15T07:08:45.253Z"
   },
   {
    "duration": 6,
    "start_time": "2022-05-15T07:08:45.425Z"
   },
   {
    "duration": 6,
    "start_time": "2022-05-15T07:08:45.589Z"
   },
   {
    "duration": 54,
    "start_time": "2022-05-15T07:08:45.757Z"
   },
   {
    "duration": 582,
    "start_time": "2022-05-15T07:08:45.838Z"
   },
   {
    "duration": 11,
    "start_time": "2022-05-15T07:08:46.423Z"
   },
   {
    "duration": 483,
    "start_time": "2022-05-15T07:08:46.436Z"
   },
   {
    "duration": 12,
    "start_time": "2022-05-15T07:08:46.921Z"
   },
   {
    "duration": 1811,
    "start_time": "2022-05-15T07:08:46.937Z"
   },
   {
    "duration": 10,
    "start_time": "2022-05-15T07:08:48.756Z"
   },
   {
    "duration": 13,
    "start_time": "2022-05-15T07:08:48.769Z"
   },
   {
    "duration": 95,
    "start_time": "2022-05-15T07:08:48.785Z"
   },
   {
    "duration": 10,
    "start_time": "2022-05-15T07:08:48.886Z"
   },
   {
    "duration": 270,
    "start_time": "2022-05-15T07:08:48.898Z"
   },
   {
    "duration": 245,
    "start_time": "2022-05-15T07:08:49.170Z"
   },
   {
    "duration": 246,
    "start_time": "2022-05-15T07:08:49.417Z"
   },
   {
    "duration": 236,
    "start_time": "2022-05-15T07:08:49.667Z"
   },
   {
    "duration": 250,
    "start_time": "2022-05-15T07:08:49.906Z"
   },
   {
    "duration": 9,
    "start_time": "2022-05-15T07:08:50.158Z"
   },
   {
    "duration": 217,
    "start_time": "2022-05-15T07:08:50.170Z"
   },
   {
    "duration": 205,
    "start_time": "2022-05-15T07:08:50.389Z"
   },
   {
    "duration": 293,
    "start_time": "2022-05-15T07:08:50.596Z"
   },
   {
    "duration": 10,
    "start_time": "2022-05-15T07:08:50.892Z"
   },
   {
    "duration": 21,
    "start_time": "2022-05-15T07:08:50.904Z"
   },
   {
    "duration": 35,
    "start_time": "2022-05-15T07:08:50.927Z"
   },
   {
    "duration": 16,
    "start_time": "2022-05-15T07:08:50.964Z"
   },
   {
    "duration": 13,
    "start_time": "2022-05-15T07:08:50.988Z"
   },
   {
    "duration": 22,
    "start_time": "2022-05-15T07:08:51.004Z"
   },
   {
    "duration": 36,
    "start_time": "2022-05-15T07:08:51.028Z"
   },
   {
    "duration": 30,
    "start_time": "2022-05-15T07:08:51.066Z"
   },
   {
    "duration": 12,
    "start_time": "2022-05-15T07:08:51.098Z"
   },
   {
    "duration": 18,
    "start_time": "2022-05-15T07:08:51.112Z"
   },
   {
    "duration": 45,
    "start_time": "2022-05-15T07:08:51.132Z"
   },
   {
    "duration": 33,
    "start_time": "2022-05-15T07:08:51.180Z"
   },
   {
    "duration": 14,
    "start_time": "2022-05-15T07:08:51.215Z"
   },
   {
    "duration": 33,
    "start_time": "2022-05-15T07:08:51.231Z"
   },
   {
    "duration": 11,
    "start_time": "2022-05-15T07:08:51.292Z"
   },
   {
    "duration": 20,
    "start_time": "2022-05-15T07:08:51.464Z"
   },
   {
    "duration": 15,
    "start_time": "2022-05-15T07:08:51.795Z"
   },
   {
    "duration": 18,
    "start_time": "2022-05-15T07:08:51.964Z"
   },
   {
    "duration": 1410,
    "start_time": "2022-05-15T08:45:56.937Z"
   },
   {
    "duration": 76,
    "start_time": "2022-05-15T08:45:58.350Z"
   },
   {
    "duration": 20,
    "start_time": "2022-05-15T08:45:59.645Z"
   },
   {
    "duration": 5,
    "start_time": "2022-05-15T08:46:00.292Z"
   },
   {
    "duration": 11,
    "start_time": "2022-05-15T08:46:01.048Z"
   },
   {
    "duration": 22,
    "start_time": "2022-05-15T08:46:01.984Z"
   },
   {
    "duration": 1444,
    "start_time": "2022-05-15T09:09:54.620Z"
   },
   {
    "duration": 73,
    "start_time": "2022-05-15T09:09:56.067Z"
   },
   {
    "duration": 26,
    "start_time": "2022-05-15T09:09:56.142Z"
   },
   {
    "duration": 4,
    "start_time": "2022-05-15T09:09:56.171Z"
   },
   {
    "duration": 12,
    "start_time": "2022-05-15T09:09:56.177Z"
   },
   {
    "duration": 21,
    "start_time": "2022-05-15T09:09:56.192Z"
   },
   {
    "duration": 52,
    "start_time": "2022-05-15T09:09:56.215Z"
   },
   {
    "duration": 10,
    "start_time": "2022-05-15T09:09:56.270Z"
   },
   {
    "duration": 5,
    "start_time": "2022-05-15T09:09:56.286Z"
   },
   {
    "duration": 32,
    "start_time": "2022-05-15T09:09:56.537Z"
   },
   {
    "duration": 6,
    "start_time": "2022-05-15T09:09:56.706Z"
   },
   {
    "duration": 305,
    "start_time": "2022-05-15T09:09:56.873Z"
   },
   {
    "duration": 7,
    "start_time": "2022-05-15T09:09:57.180Z"
   },
   {
    "duration": 4,
    "start_time": "2022-05-15T09:09:57.209Z"
   },
   {
    "duration": 5,
    "start_time": "2022-05-15T09:09:57.376Z"
   },
   {
    "duration": 8,
    "start_time": "2022-05-15T09:09:57.543Z"
   },
   {
    "duration": 12,
    "start_time": "2022-05-15T09:09:57.710Z"
   },
   {
    "duration": 4,
    "start_time": "2022-05-15T09:09:57.796Z"
   },
   {
    "duration": 5,
    "start_time": "2022-05-15T09:09:57.877Z"
   },
   {
    "duration": 7,
    "start_time": "2022-05-15T09:09:58.045Z"
   },
   {
    "duration": 6,
    "start_time": "2022-05-15T09:09:58.213Z"
   },
   {
    "duration": 7,
    "start_time": "2022-05-15T09:09:58.465Z"
   },
   {
    "duration": 7,
    "start_time": "2022-05-15T09:09:58.634Z"
   },
   {
    "duration": 6,
    "start_time": "2022-05-15T09:09:58.802Z"
   },
   {
    "duration": 52,
    "start_time": "2022-05-15T09:09:58.970Z"
   },
   {
    "duration": 552,
    "start_time": "2022-05-15T09:09:59.056Z"
   },
   {
    "duration": 11,
    "start_time": "2022-05-15T09:09:59.610Z"
   },
   {
    "duration": 451,
    "start_time": "2022-05-15T09:09:59.623Z"
   },
   {
    "duration": 12,
    "start_time": "2022-05-15T09:10:00.077Z"
   },
   {
    "duration": 1710,
    "start_time": "2022-05-15T09:10:00.092Z"
   },
   {
    "duration": 7,
    "start_time": "2022-05-15T09:10:01.804Z"
   },
   {
    "duration": 32,
    "start_time": "2022-05-15T09:10:01.813Z"
   },
   {
    "duration": 79,
    "start_time": "2022-05-15T09:10:01.848Z"
   },
   {
    "duration": 10,
    "start_time": "2022-05-15T09:10:01.931Z"
   },
   {
    "duration": 177,
    "start_time": "2022-05-15T09:10:01.943Z"
   },
   {
    "duration": 226,
    "start_time": "2022-05-15T09:10:02.122Z"
   },
   {
    "duration": 232,
    "start_time": "2022-05-15T09:10:02.357Z"
   },
   {
    "duration": 237,
    "start_time": "2022-05-15T09:10:02.592Z"
   },
   {
    "duration": 241,
    "start_time": "2022-05-15T09:10:02.832Z"
   },
   {
    "duration": 10,
    "start_time": "2022-05-15T09:10:03.076Z"
   },
   {
    "duration": 208,
    "start_time": "2022-05-15T09:10:03.087Z"
   },
   {
    "duration": 206,
    "start_time": "2022-05-15T09:10:03.297Z"
   },
   {
    "duration": 292,
    "start_time": "2022-05-15T09:10:03.506Z"
   },
   {
    "duration": 11,
    "start_time": "2022-05-15T09:10:03.800Z"
   },
   {
    "duration": 19,
    "start_time": "2022-05-15T09:10:03.813Z"
   },
   {
    "duration": 32,
    "start_time": "2022-05-15T09:10:03.834Z"
   },
   {
    "duration": 18,
    "start_time": "2022-05-15T09:10:03.872Z"
   },
   {
    "duration": 17,
    "start_time": "2022-05-15T09:10:03.893Z"
   },
   {
    "duration": 50,
    "start_time": "2022-05-15T09:10:03.912Z"
   },
   {
    "duration": 12,
    "start_time": "2022-05-15T09:10:03.965Z"
   },
   {
    "duration": 40,
    "start_time": "2022-05-15T09:10:03.979Z"
   },
   {
    "duration": 14,
    "start_time": "2022-05-15T09:10:04.022Z"
   },
   {
    "duration": 11,
    "start_time": "2022-05-15T09:10:04.056Z"
   },
   {
    "duration": 36,
    "start_time": "2022-05-15T09:10:04.076Z"
   },
   {
    "duration": 25,
    "start_time": "2022-05-15T09:10:04.114Z"
   },
   {
    "duration": 20,
    "start_time": "2022-05-15T09:10:04.141Z"
   },
   {
    "duration": 26,
    "start_time": "2022-05-15T09:10:04.165Z"
   },
   {
    "duration": 11,
    "start_time": "2022-05-15T09:10:04.367Z"
   },
   {
    "duration": 21,
    "start_time": "2022-05-15T09:10:04.804Z"
   },
   {
    "duration": 16,
    "start_time": "2022-05-15T09:10:05.686Z"
   },
   {
    "duration": 17,
    "start_time": "2022-05-15T09:10:06.190Z"
   },
   {
    "duration": 91,
    "start_time": "2022-05-15T09:32:14.578Z"
   }
  ],
  "kernelspec": {
   "display_name": "Python 3 (ipykernel)",
   "language": "python",
   "name": "python3"
  },
  "language_info": {
   "codemirror_mode": {
    "name": "ipython",
    "version": 3
   },
   "file_extension": ".py",
   "mimetype": "text/x-python",
   "name": "python",
   "nbconvert_exporter": "python",
   "pygments_lexer": "ipython3",
   "version": "3.7.0"
  },
  "toc": {
   "base_numbering": 1,
   "nav_menu": {},
   "number_sections": true,
   "sideBar": true,
   "skip_h1_title": true,
   "title_cell": "Содержание",
   "title_sidebar": "Contents",
   "toc_cell": true,
   "toc_position": {
    "height": "calc(100% - 180px)",
    "left": "10px",
    "top": "150px",
    "width": "318.398px"
   },
   "toc_section_display": true,
   "toc_window_display": true
  }
 },
 "nbformat": 4,
 "nbformat_minor": 2
}
