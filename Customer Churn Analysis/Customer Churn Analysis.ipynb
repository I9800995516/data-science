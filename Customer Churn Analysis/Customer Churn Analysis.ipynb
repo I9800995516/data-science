{
 "cells": [
  {
   "cell_type": "markdown",
   "metadata": {
    "toc": true
   },
   "source": [
    "<h1>Содержание<span class=\"tocSkip\"></span></h1>\n",
    "<div class=\"toc\"><ul class=\"toc-item\"><li><span><a href=\"#План-работы\" data-toc-modified-id=\"План-работы-1\"><span class=\"toc-item-num\">1&nbsp;&nbsp;</span>План работы</a></span></li><li><span><a href=\"#Импорт-данных-и-их-обработка\" data-toc-modified-id=\"Импорт-данных-и-их-обработка-2\"><span class=\"toc-item-num\">2&nbsp;&nbsp;</span>Импорт данных и их обработка</a></span><ul class=\"toc-item\"><li><span><a href=\"#Описание-данных\" data-toc-modified-id=\"Описание-данных-2.1\"><span class=\"toc-item-num\">2.1&nbsp;&nbsp;</span>Описание данных</a></span></li><li><span><a href=\"#Описание-полей-данных:\" data-toc-modified-id=\"Описание-полей-данных:-2.2\"><span class=\"toc-item-num\">2.2&nbsp;&nbsp;</span>Описание полей данных:</a></span></li><li><span><a href=\"#Contract\" data-toc-modified-id=\"Contract-2.3\"><span class=\"toc-item-num\">2.3&nbsp;&nbsp;</span>Contract</a></span></li><li><span><a href=\"#Personal\" data-toc-modified-id=\"Personal-2.4\"><span class=\"toc-item-num\">2.4&nbsp;&nbsp;</span>Personal</a></span></li><li><span><a href=\"#Internet\" data-toc-modified-id=\"Internet-2.5\"><span class=\"toc-item-num\">2.5&nbsp;&nbsp;</span>Internet</a></span></li><li><span><a href=\"#Phone\" data-toc-modified-id=\"Phone-2.6\"><span class=\"toc-item-num\">2.6&nbsp;&nbsp;</span>Phone</a></span></li><li><span><a href=\"#Присоединение-таблицы-internet-к-таблице-phone\" data-toc-modified-id=\"Присоединение-таблицы-internet-к-таблице-phone-2.7\"><span class=\"toc-item-num\">2.7&nbsp;&nbsp;</span>Присоединение таблицы internet к таблице phone</a></span></li></ul></li><li><span><a href=\"#Финальная-таблица-для-машинного-обучения,-разделение-признаков\" data-toc-modified-id=\"Финальная-таблица-для-машинного-обучения,-разделение-признаков-3\"><span class=\"toc-item-num\">3&nbsp;&nbsp;</span>Финальная таблица для машинного обучения, разделение признаков</a></span><ul class=\"toc-item\"><li><span><a href=\"#Сводная-таблица-contract-и-personal\" data-toc-modified-id=\"Сводная-таблица-contract-и-personal-3.1\"><span class=\"toc-item-num\">3.1&nbsp;&nbsp;</span>Сводная таблица contract и personal</a></span></li><li><span><a href=\"#Разделение-на-признаки-и-целевой-признак,-тестовые-данные-и-обучающие\" data-toc-modified-id=\"Разделение-на-признаки-и-целевой-признак,-тестовые-данные-и-обучающие-3.2\"><span class=\"toc-item-num\">3.2&nbsp;&nbsp;</span>Разделение на признаки и целевой признак, тестовые данные и обучающие</a></span></li></ul></li><li><span><a href=\"#Машинное-обучение-и-подбор-моделей,-выявление-лучшей-модели\" data-toc-modified-id=\"Машинное-обучение-и-подбор-моделей,-выявление-лучшей-модели-4\"><span class=\"toc-item-num\">4&nbsp;&nbsp;</span>Машинное обучение и подбор моделей, выявление лучшей модели</a></span><ul class=\"toc-item\"><li><span><a href=\"#Построим-модель-CatBoostClassifier-с-прямым-кодированием-признаков.\" data-toc-modified-id=\"Построим-модель-CatBoostClassifier-с-прямым-кодированием-признаков.-4.1\"><span class=\"toc-item-num\">4.1&nbsp;&nbsp;</span>Построим модель CatBoostClassifier с прямым кодированием признаков.</a></span><ul class=\"toc-item\"><li><span><a href=\"#Значение-метрики-roc-auc-на-валидации:\" data-toc-modified-id=\"Значение-метрики-roc-auc-на-валидации:-4.1.1\"><span class=\"toc-item-num\">4.1.1&nbsp;&nbsp;</span>Значение метрики roc-auc на валидации:</a></span></li><li><span><a href=\"#Визуализация-важности-признаков-для-нашей-модели\" data-toc-modified-id=\"Визуализация-важности-признаков-для-нашей-модели-4.1.2\"><span class=\"toc-item-num\">4.1.2&nbsp;&nbsp;</span>Визуализация важности признаков для нашей модели</a></span></li><li><span><a href=\"#Проверка-модели-на-тестовых-данных\" data-toc-modified-id=\"Проверка-модели-на-тестовых-данных-4.1.3\"><span class=\"toc-item-num\">4.1.3&nbsp;&nbsp;</span>Проверка модели на тестовых данных</a></span></li></ul></li><li><span><a href=\"#Построим-модель-CatBoostClassifier-со-встроенным-кодированием-признаков.\" data-toc-modified-id=\"Построим-модель-CatBoostClassifier-со-встроенным-кодированием-признаков.-4.2\"><span class=\"toc-item-num\">4.2&nbsp;&nbsp;</span>Построим модель CatBoostClassifier со встроенным кодированием признаков.</a></span><ul class=\"toc-item\"><li><span><a href=\"#Разделение-на-признаки-и-целевой-признак,-тестовые-данные-и-обучающие,-определение-категориальных-признаков\" data-toc-modified-id=\"Разделение-на-признаки-и-целевой-признак,-тестовые-данные-и-обучающие,-определение-категориальных-признаков-4.2.1\"><span class=\"toc-item-num\">4.2.1&nbsp;&nbsp;</span>Разделение на признаки и целевой признак, тестовые данные и обучающие, определение категориальных признаков</a></span></li><li><span><a href=\"#Обучение-модели\" data-toc-modified-id=\"Обучение-модели-4.2.2\"><span class=\"toc-item-num\">4.2.2&nbsp;&nbsp;</span>Обучение модели</a></span></li><li><span><a href=\"#Значение-метрики-на-валидации:\" data-toc-modified-id=\"Значение-метрики-на-валидации:-4.2.3\"><span class=\"toc-item-num\">4.2.3&nbsp;&nbsp;</span>Значение метрики на валидации:</a></span></li><li><span><a href=\"#Визуализация-важности-признаков-для-нашей-модели\" data-toc-modified-id=\"Визуализация-важности-признаков-для-нашей-модели-4.2.4\"><span class=\"toc-item-num\">4.2.4&nbsp;&nbsp;</span>Визуализация важности признаков для нашей модели</a></span></li><li><span><a href=\"#Проверка-на-тесте\" data-toc-modified-id=\"Проверка-на-тесте-4.2.5\"><span class=\"toc-item-num\">4.2.5&nbsp;&nbsp;</span>Проверка на тесте</a></span></li></ul></li><li><span><a href=\"#GridSearchCV-для-CatBoostClassifier-со-встроенным-кодированием-(определение-гиперпараметров)\" data-toc-modified-id=\"GridSearchCV-для-CatBoostClassifier-со-встроенным-кодированием-(определение-гиперпараметров)-4.3\"><span class=\"toc-item-num\">4.3&nbsp;&nbsp;</span>GridSearchCV для CatBoostClassifier со встроенным кодированием (определение гиперпараметров)</a></span></li><li><span><a href=\"#Построим-модель-CatBoostClassifier-с-кодированием-признаков-с-помощью-TargetEncoder.\" data-toc-modified-id=\"Построим-модель-CatBoostClassifier-с-кодированием-признаков-с-помощью-TargetEncoder.-4.4\"><span class=\"toc-item-num\">4.4&nbsp;&nbsp;</span>Построим модель CatBoostClassifier с кодированием признаков с помощью TargetEncoder.</a></span><ul class=\"toc-item\"><li><span><a href=\"#Значение-метрики-на-валидации:\" data-toc-modified-id=\"Значение-метрики-на-валидации:-4.4.1\"><span class=\"toc-item-num\">4.4.1&nbsp;&nbsp;</span>Значение метрики на валидации:</a></span></li><li><span><a href=\"#Визуализация-важности-признаков-для-нашей-модели\" data-toc-modified-id=\"Визуализация-важности-признаков-для-нашей-модели-4.4.2\"><span class=\"toc-item-num\">4.4.2&nbsp;&nbsp;</span>Визуализация важности признаков для нашей модели</a></span></li><li><span><a href=\"#Значение-метрики-на-тесте\" data-toc-modified-id=\"Значение-метрики-на-тесте-4.4.3\"><span class=\"toc-item-num\">4.4.3&nbsp;&nbsp;</span>Значение метрики на тесте</a></span></li></ul></li><li><span><a href=\"#RandomForestClassifier-с-GridSearchCV-для-поиска-оптимальных-гиперпараметров\" data-toc-modified-id=\"RandomForestClassifier-с-GridSearchCV-для-поиска-оптимальных-гиперпараметров-4.5\"><span class=\"toc-item-num\">4.5&nbsp;&nbsp;</span>RandomForestClassifier с GridSearchCV для поиска оптимальных гиперпараметров</a></span></li><li><span><a href=\"#Обучение-модели-с-подобранными-оптимальными-гиперпараметрами\" data-toc-modified-id=\"Обучение-модели-с-подобранными-оптимальными-гиперпараметрами-4.6\"><span class=\"toc-item-num\">4.6&nbsp;&nbsp;</span>Обучение модели с подобранными оптимальными гиперпараметрами</a></span><ul class=\"toc-item\"><li><span><a href=\"#Метрика-на-валидации\" data-toc-modified-id=\"Метрика-на-валидации-4.6.1\"><span class=\"toc-item-num\">4.6.1&nbsp;&nbsp;</span>Метрика на валидации</a></span></li><li><span><a href=\"#Визуализация-важности-признаков\" data-toc-modified-id=\"Визуализация-важности-признаков-4.6.2\"><span class=\"toc-item-num\">4.6.2&nbsp;&nbsp;</span>Визуализация важности признаков</a></span></li><li><span><a href=\"#Метрика-на-тесте\" data-toc-modified-id=\"Метрика-на-тесте-4.6.3\"><span class=\"toc-item-num\">4.6.3&nbsp;&nbsp;</span>Метрика на тесте</a></span></li></ul></li></ul></li><li><span><a href=\"#Вывод\" data-toc-modified-id=\"Вывод-5\"><span class=\"toc-item-num\">5&nbsp;&nbsp;</span>Вывод</a></span></li><li><span><a href=\"#Отчет-по-решению\" data-toc-modified-id=\"Отчет-по-решению-6\"><span class=\"toc-item-num\">6&nbsp;&nbsp;</span>Отчет по решению</a></span></li></ul></div>"
   ]
  },
  {
   "cell_type": "markdown",
   "metadata": {},
   "source": [
    "# Телеком. Исследование оттока клиента."
   ]
  },
  {
   "cell_type": "markdown",
   "metadata": {},
   "source": [
    "У оператора связи находится база данных клиентов и база данных услуг. По историческим данным нужно построить модель, которая будет предсказывать, что клиент собирается прекратить сотрудничество с компанией. \n",
    "\n",
    "Перед нами ставится задача бинарной классификации. Метрикой качества модели будет служить площадь под ROC-кривой, т.е. метрика roc-auc. Она должна быть больше 0.86, для успешного решения поставленной задачи. "
   ]
  },
  {
   "cell_type": "markdown",
   "metadata": {},
   "source": [
    "## План работы"
   ]
  },
  {
   "cell_type": "markdown",
   "metadata": {},
   "source": [
    "1. Исследовать данные, обозначить признаки и выделить целевой признак для решения задачи.\n",
    "2. Определить что входит в признаки для решения задачи.\n",
    "3. Обработать данные, устранить пропуски, привести данные к нужному типу, провести кодировку значений признаков. \n",
    "4. Сделать предположение о том, какие еще признаки на сонове представленных данных можно сформировать, для решения поставленной задачи.\n",
    "5. Сформировать дополнительные признаки. \n",
    "6. Построить модель машинного обучения на основе предоставленных данных.\n",
    "7. Найти значения метрики данной модели. \n",
    "8. Подобрать ряд гиперпараметров модели для достяжения нужного качества метрики.\n",
    "9. Сделать вывод."
   ]
  },
  {
   "cell_type": "code",
   "execution_count": 1,
   "metadata": {},
   "outputs": [
    {
     "name": "stdout",
     "output_type": "stream",
     "text": [
      "Defaulting to user installation because normal site-packages is not writeable\n",
      "Requirement already satisfied: category_encoders in /home/jovyan/.local/lib/python3.7/site-packages (2.3.0)\n",
      "Requirement already satisfied: patsy>=0.5.1 in /opt/conda/lib/python3.7/site-packages (from category_encoders) (0.5.1)\n",
      "Requirement already satisfied: numpy>=1.14.0 in /opt/conda/lib/python3.7/site-packages (from category_encoders) (1.19.5)\n",
      "Requirement already satisfied: statsmodels>=0.9.0 in /opt/conda/lib/python3.7/site-packages (from category_encoders) (0.10.1)\n",
      "Requirement already satisfied: scipy>=1.0.0 in /opt/conda/lib/python3.7/site-packages (from category_encoders) (1.4.1)\n",
      "Requirement already satisfied: scikit-learn>=0.20.0 in /opt/conda/lib/python3.7/site-packages (from category_encoders) (0.21.2)\n",
      "Requirement already satisfied: pandas>=0.21.1 in /opt/conda/lib/python3.7/site-packages (from category_encoders) (0.25.1)\n",
      "Requirement already satisfied: six in /opt/conda/lib/python3.7/site-packages (from patsy>=0.5.1->category_encoders) (1.15.0)\n",
      "Requirement already satisfied: joblib>=0.11 in /opt/conda/lib/python3.7/site-packages (from scikit-learn>=0.20.0->category_encoders) (1.0.1)\n",
      "Requirement already satisfied: python-dateutil>=2.6.1 in /opt/conda/lib/python3.7/site-packages (from pandas>=0.21.1->category_encoders) (2.8.1)\n",
      "Requirement already satisfied: pytz>=2017.2 in /opt/conda/lib/python3.7/site-packages (from pandas>=0.21.1->category_encoders) (2021.1)\n"
     ]
    }
   ],
   "source": [
    "!pip install category_encoders\n",
    "\n",
    "import pandas as pd\n",
    "from sklearn.model_selection import train_test_split\n",
    "from catboost import CatBoostClassifier\n",
    "from sklearn.metrics import roc_auc_score\n",
    "import category_encoders as ce\n",
    "from statsmodels.stats.outliers_influence import variance_inflation_factor\n",
    "import numpy as np\n",
    "import matplotlib.pyplot as plt\n",
    "from sklearn.preprocessing import OrdinalEncoder \n",
    "from sklearn.metrics import roc_curve\n",
    "from sklearn.ensemble import RandomForestClassifier\n",
    "from sklearn.model_selection import GridSearchCV\n",
    "import seaborn as sns"
   ]
  },
  {
   "cell_type": "markdown",
   "metadata": {},
   "source": [
    "## Импорт данных и их обработка\n"
   ]
  },
  {
   "cell_type": "markdown",
   "metadata": {},
   "source": [
    "### Описание данных\n",
    "\n",
    "Данные состоят из файлов, полученных из разных источников:\n",
    "\n",
    "- `contract.csv` — информация о договоре;\n",
    "- `personal.csv` — персональные данные клиента;\n",
    "- `internet.csv` — информация об интернет-услугах;\n",
    "- `phone.csv` — информация об услугах телефонии.\n",
    "\n",
    "Во всех файлах столбец `customerID` содержит код клиента.\n",
    "\n",
    "Информация о договорах актуальна на 1 февраля 2020."
   ]
  },
  {
   "cell_type": "markdown",
   "metadata": {},
   "source": [
    "### Описание полей данных:\n",
    "\n",
    "* `BeginDate` – дата начала пользования услугами,\n",
    "\n",
    "* `EndDate` – дата окончания пользования услугами,\n",
    "\n",
    "* `Type` – тип оплаты: ежемесячный, годовой и тд,\n",
    "\n",
    "* `PaperlessBilling` – безналичный расчет,\n",
    "\n",
    "* `PaymentMethod` – способ оплаты,\n",
    "\n",
    "* `MonthlyCharges` – ежемесячные траты на услуги,\n",
    "\n",
    "* `TotalCharges` – всего потрачено денег на услуги,\n",
    "\n",
    "* `Dependents` – наличие иждивенцев,\n",
    "\n",
    "* `Senior Citizen` – наличие пенсионного статуса по возрасту,\n",
    "\n",
    "* `Partner` – наличие супруга(и),\n",
    "\n",
    "* `MultipleLines` – наличие возможности ведения параллельных линий во время звонка."
   ]
  },
  {
   "cell_type": "markdown",
   "metadata": {},
   "source": [
    "### Contract"
   ]
  },
  {
   "cell_type": "code",
   "execution_count": 2,
   "metadata": {},
   "outputs": [],
   "source": [
    "contract = pd.read_csv('/datasets/final_provider/contract.csv')"
   ]
  },
  {
   "cell_type": "code",
   "execution_count": 3,
   "metadata": {},
   "outputs": [
    {
     "data": {
      "text/html": [
       "<div>\n",
       "<style scoped>\n",
       "    .dataframe tbody tr th:only-of-type {\n",
       "        vertical-align: middle;\n",
       "    }\n",
       "\n",
       "    .dataframe tbody tr th {\n",
       "        vertical-align: top;\n",
       "    }\n",
       "\n",
       "    .dataframe thead th {\n",
       "        text-align: right;\n",
       "    }\n",
       "</style>\n",
       "<table border=\"1\" class=\"dataframe\">\n",
       "  <thead>\n",
       "    <tr style=\"text-align: right;\">\n",
       "      <th></th>\n",
       "      <th>customerID</th>\n",
       "      <th>BeginDate</th>\n",
       "      <th>EndDate</th>\n",
       "      <th>Type</th>\n",
       "      <th>PaperlessBilling</th>\n",
       "      <th>PaymentMethod</th>\n",
       "      <th>MonthlyCharges</th>\n",
       "      <th>TotalCharges</th>\n",
       "    </tr>\n",
       "  </thead>\n",
       "  <tbody>\n",
       "    <tr>\n",
       "      <td>0</td>\n",
       "      <td>7590-VHVEG</td>\n",
       "      <td>2020-01-01</td>\n",
       "      <td>No</td>\n",
       "      <td>Month-to-month</td>\n",
       "      <td>Yes</td>\n",
       "      <td>Electronic check</td>\n",
       "      <td>29.85</td>\n",
       "      <td>29.85</td>\n",
       "    </tr>\n",
       "    <tr>\n",
       "      <td>1</td>\n",
       "      <td>5575-GNVDE</td>\n",
       "      <td>2017-04-01</td>\n",
       "      <td>No</td>\n",
       "      <td>One year</td>\n",
       "      <td>No</td>\n",
       "      <td>Mailed check</td>\n",
       "      <td>56.95</td>\n",
       "      <td>1889.5</td>\n",
       "    </tr>\n",
       "    <tr>\n",
       "      <td>2</td>\n",
       "      <td>3668-QPYBK</td>\n",
       "      <td>2019-10-01</td>\n",
       "      <td>2019-12-01 00:00:00</td>\n",
       "      <td>Month-to-month</td>\n",
       "      <td>Yes</td>\n",
       "      <td>Mailed check</td>\n",
       "      <td>53.85</td>\n",
       "      <td>108.15</td>\n",
       "    </tr>\n",
       "    <tr>\n",
       "      <td>3</td>\n",
       "      <td>7795-CFOCW</td>\n",
       "      <td>2016-05-01</td>\n",
       "      <td>No</td>\n",
       "      <td>One year</td>\n",
       "      <td>No</td>\n",
       "      <td>Bank transfer (automatic)</td>\n",
       "      <td>42.30</td>\n",
       "      <td>1840.75</td>\n",
       "    </tr>\n",
       "    <tr>\n",
       "      <td>4</td>\n",
       "      <td>9237-HQITU</td>\n",
       "      <td>2019-09-01</td>\n",
       "      <td>2019-11-01 00:00:00</td>\n",
       "      <td>Month-to-month</td>\n",
       "      <td>Yes</td>\n",
       "      <td>Electronic check</td>\n",
       "      <td>70.70</td>\n",
       "      <td>151.65</td>\n",
       "    </tr>\n",
       "    <tr>\n",
       "      <td>...</td>\n",
       "      <td>...</td>\n",
       "      <td>...</td>\n",
       "      <td>...</td>\n",
       "      <td>...</td>\n",
       "      <td>...</td>\n",
       "      <td>...</td>\n",
       "      <td>...</td>\n",
       "      <td>...</td>\n",
       "    </tr>\n",
       "    <tr>\n",
       "      <td>7038</td>\n",
       "      <td>6840-RESVB</td>\n",
       "      <td>2018-02-01</td>\n",
       "      <td>No</td>\n",
       "      <td>One year</td>\n",
       "      <td>Yes</td>\n",
       "      <td>Mailed check</td>\n",
       "      <td>84.80</td>\n",
       "      <td>1990.5</td>\n",
       "    </tr>\n",
       "    <tr>\n",
       "      <td>7039</td>\n",
       "      <td>2234-XADUH</td>\n",
       "      <td>2014-02-01</td>\n",
       "      <td>No</td>\n",
       "      <td>One year</td>\n",
       "      <td>Yes</td>\n",
       "      <td>Credit card (automatic)</td>\n",
       "      <td>103.20</td>\n",
       "      <td>7362.9</td>\n",
       "    </tr>\n",
       "    <tr>\n",
       "      <td>7040</td>\n",
       "      <td>4801-JZAZL</td>\n",
       "      <td>2019-03-01</td>\n",
       "      <td>No</td>\n",
       "      <td>Month-to-month</td>\n",
       "      <td>Yes</td>\n",
       "      <td>Electronic check</td>\n",
       "      <td>29.60</td>\n",
       "      <td>346.45</td>\n",
       "    </tr>\n",
       "    <tr>\n",
       "      <td>7041</td>\n",
       "      <td>8361-LTMKD</td>\n",
       "      <td>2019-07-01</td>\n",
       "      <td>2019-11-01 00:00:00</td>\n",
       "      <td>Month-to-month</td>\n",
       "      <td>Yes</td>\n",
       "      <td>Mailed check</td>\n",
       "      <td>74.40</td>\n",
       "      <td>306.6</td>\n",
       "    </tr>\n",
       "    <tr>\n",
       "      <td>7042</td>\n",
       "      <td>3186-AJIEK</td>\n",
       "      <td>2014-08-01</td>\n",
       "      <td>No</td>\n",
       "      <td>Two year</td>\n",
       "      <td>Yes</td>\n",
       "      <td>Bank transfer (automatic)</td>\n",
       "      <td>105.65</td>\n",
       "      <td>6844.5</td>\n",
       "    </tr>\n",
       "  </tbody>\n",
       "</table>\n",
       "<p>7043 rows × 8 columns</p>\n",
       "</div>"
      ],
      "text/plain": [
       "      customerID   BeginDate              EndDate            Type  \\\n",
       "0     7590-VHVEG  2020-01-01                   No  Month-to-month   \n",
       "1     5575-GNVDE  2017-04-01                   No        One year   \n",
       "2     3668-QPYBK  2019-10-01  2019-12-01 00:00:00  Month-to-month   \n",
       "3     7795-CFOCW  2016-05-01                   No        One year   \n",
       "4     9237-HQITU  2019-09-01  2019-11-01 00:00:00  Month-to-month   \n",
       "...          ...         ...                  ...             ...   \n",
       "7038  6840-RESVB  2018-02-01                   No        One year   \n",
       "7039  2234-XADUH  2014-02-01                   No        One year   \n",
       "7040  4801-JZAZL  2019-03-01                   No  Month-to-month   \n",
       "7041  8361-LTMKD  2019-07-01  2019-11-01 00:00:00  Month-to-month   \n",
       "7042  3186-AJIEK  2014-08-01                   No        Two year   \n",
       "\n",
       "     PaperlessBilling              PaymentMethod  MonthlyCharges TotalCharges  \n",
       "0                 Yes           Electronic check           29.85        29.85  \n",
       "1                  No               Mailed check           56.95       1889.5  \n",
       "2                 Yes               Mailed check           53.85       108.15  \n",
       "3                  No  Bank transfer (automatic)           42.30      1840.75  \n",
       "4                 Yes           Electronic check           70.70       151.65  \n",
       "...               ...                        ...             ...          ...  \n",
       "7038              Yes               Mailed check           84.80       1990.5  \n",
       "7039              Yes    Credit card (automatic)          103.20       7362.9  \n",
       "7040              Yes           Electronic check           29.60       346.45  \n",
       "7041              Yes               Mailed check           74.40        306.6  \n",
       "7042              Yes  Bank transfer (automatic)          105.65       6844.5  \n",
       "\n",
       "[7043 rows x 8 columns]"
      ]
     },
     "metadata": {},
     "output_type": "display_data"
    }
   ],
   "source": [
    "display(contract)"
   ]
  },
  {
   "cell_type": "code",
   "execution_count": 4,
   "metadata": {},
   "outputs": [
    {
     "name": "stdout",
     "output_type": "stream",
     "text": [
      "<class 'pandas.core.frame.DataFrame'>\n",
      "RangeIndex: 7043 entries, 0 to 7042\n",
      "Data columns (total 8 columns):\n",
      "customerID          7043 non-null object\n",
      "BeginDate           7043 non-null object\n",
      "EndDate             7043 non-null object\n",
      "Type                7043 non-null object\n",
      "PaperlessBilling    7043 non-null object\n",
      "PaymentMethod       7043 non-null object\n",
      "MonthlyCharges      7043 non-null float64\n",
      "TotalCharges        7043 non-null object\n",
      "dtypes: float64(1), object(7)\n",
      "memory usage: 440.3+ KB\n"
     ]
    }
   ],
   "source": [
    "contract.info()"
   ]
  },
  {
   "cell_type": "code",
   "execution_count": 5,
   "metadata": {},
   "outputs": [
    {
     "data": {
      "text/plain": [
       "0"
      ]
     },
     "execution_count": 5,
     "metadata": {},
     "output_type": "execute_result"
    }
   ],
   "source": [
    "contract.duplicated().sum()"
   ]
  },
  {
   "cell_type": "markdown",
   "metadata": {},
   "source": [
    "Дубликатов и пропусков в данных этой таблицы нет."
   ]
  },
  {
   "cell_type": "code",
   "execution_count": 6,
   "metadata": {},
   "outputs": [
    {
     "data": {
      "text/plain": [
       "array(['2020-01-01', '2017-04-01', '2019-10-01', '2016-05-01',\n",
       "       '2019-09-01', '2019-03-01', '2018-04-01', '2019-04-01',\n",
       "       '2017-07-01', '2014-12-01', '2019-01-01', '2018-10-01',\n",
       "       '2015-04-01', '2015-09-01', '2018-01-01', '2014-05-01',\n",
       "       '2015-10-01', '2014-03-01', '2018-05-01', '2019-11-01',\n",
       "       '2019-02-01', '2016-01-01', '2017-08-01', '2015-12-01',\n",
       "       '2014-02-01', '2018-06-01', '2019-12-01', '2017-11-01',\n",
       "       '2019-06-01', '2016-04-01', '2017-02-01', '2018-12-01',\n",
       "       '2014-04-01', '2018-09-01', '2014-11-01', '2016-07-01',\n",
       "       '2015-02-01', '2018-07-01', '2014-08-01', '2016-03-01',\n",
       "       '2018-08-01', '2014-10-01', '2015-06-01', '2016-08-01',\n",
       "       '2019-05-01', '2017-03-01', '2016-02-01', '2017-09-01',\n",
       "       '2014-09-01', '2017-12-01', '2016-12-01', '2017-06-01',\n",
       "       '2015-05-01', '2016-10-01', '2016-09-01', '2019-08-01',\n",
       "       '2019-07-01', '2017-05-01', '2017-10-01', '2014-07-01',\n",
       "       '2018-03-01', '2015-01-01', '2018-11-01', '2015-03-01',\n",
       "       '2018-02-01', '2016-06-01', '2015-08-01', '2015-11-01',\n",
       "       '2014-06-01', '2017-01-01', '2015-07-01', '2020-02-01',\n",
       "       '2016-11-01', '2013-11-01', '2014-01-01', '2013-10-01',\n",
       "       '2013-12-01'], dtype=object)"
      ]
     },
     "execution_count": 6,
     "metadata": {},
     "output_type": "execute_result"
    }
   ],
   "source": [
    "contract['BeginDate'].unique()"
   ]
  },
  {
   "cell_type": "code",
   "execution_count": 7,
   "metadata": {},
   "outputs": [],
   "source": [
    "contract['BeginDate'] = pd.to_datetime(contract['BeginDate'], format='%Y-%m-%dT')"
   ]
  },
  {
   "cell_type": "markdown",
   "metadata": {},
   "source": [
    "Изменили тип данных столбца BeginDate на тип datetime."
   ]
  },
  {
   "cell_type": "code",
   "execution_count": 8,
   "metadata": {},
   "outputs": [
    {
     "data": {
      "text/plain": [
       "array(['No', '2019-12-01 00:00:00', '2019-11-01 00:00:00',\n",
       "       '2019-10-01 00:00:00', '2020-01-01 00:00:00'], dtype=object)"
      ]
     },
     "execution_count": 8,
     "metadata": {},
     "output_type": "execute_result"
    }
   ],
   "source": [
    "contract['EndDate'].unique()"
   ]
  },
  {
   "cell_type": "markdown",
   "metadata": {},
   "source": [
    "Количество уникальных значений в столбце EndDate:"
   ]
  },
  {
   "cell_type": "code",
   "execution_count": 9,
   "metadata": {},
   "outputs": [
    {
     "data": {
      "text/plain": [
       "5"
      ]
     },
     "execution_count": 9,
     "metadata": {},
     "output_type": "execute_result"
    }
   ],
   "source": [
    "contract['EndDate'].nunique()"
   ]
  },
  {
   "cell_type": "code",
   "execution_count": 10,
   "metadata": {},
   "outputs": [
    {
     "data": {
      "text/plain": [
       "No                     5174\n",
       "2019-11-01 00:00:00     485\n",
       "2019-12-01 00:00:00     466\n",
       "2020-01-01 00:00:00     460\n",
       "2019-10-01 00:00:00     458\n",
       "Name: EndDate, dtype: int64"
      ]
     },
     "execution_count": 10,
     "metadata": {},
     "output_type": "execute_result"
    }
   ],
   "source": [
    "contract['EndDate'].value_counts()"
   ]
  },
  {
   "cell_type": "markdown",
   "metadata": {},
   "source": [
    "`EndDate` - дата конца \"жизни\" клиента. Если в этом столбце стоит значение 'No', то клиент из компании не ушел, если стоит строковое значение даты, то клиент из компании ушел. На основании этого факта, создадим целевой признак для нашей задачи.\n",
    "\n",
    "`outflow` - факт ухода клиента из компании, 0 - клиент не ушел, 1 - клиент ушел. Этот признак мы и будем в дальнейшем предсказывать."
   ]
  },
  {
   "cell_type": "code",
   "execution_count": 11,
   "metadata": {},
   "outputs": [],
   "source": [
    "F = []\n",
    "for i in range(len(contract)):\n",
    "    if contract['EndDate'][i] == 'No':\n",
    "        F.append(0)\n",
    "    else:\n",
    "        F.append(1)\n",
    "        \n",
    "contract['outflow'] = F\n",
    "\n",
    "del F"
   ]
  },
  {
   "cell_type": "markdown",
   "metadata": {},
   "source": [
    "Создадим новый признак `EndDate_d` - признак 'EndDate', в котором значения 'No' поменяли на строковое значение даты '2020-02-01 00:00:00', даты, когда данные из таблицы были выгружены."
   ]
  },
  {
   "cell_type": "code",
   "execution_count": 12,
   "metadata": {},
   "outputs": [],
   "source": [
    "#'2020-02-01 00:00:00'\n",
    "\n",
    "F = []\n",
    "for i in range(len(contract)):\n",
    "    if contract['EndDate'][i] == 'No':\n",
    "        F.append('2020-02-01 00:00:00')\n",
    "    else:\n",
    "        F.append(contract['EndDate'][i])\n",
    "        \n",
    "contract['EndDate_d'] = F\n",
    "\n",
    "del F"
   ]
  },
  {
   "cell_type": "markdown",
   "metadata": {},
   "source": [
    "Изменили тип данных столбца EndDate_d на тип datetime."
   ]
  },
  {
   "cell_type": "code",
   "execution_count": null,
   "metadata": {},
   "outputs": [],
   "source": [
    "contract['EndDate_d'] = pd.to_datetime(contract['EndDate_d'], format='%Y-%m-%dT')"
   ]
  },
  {
   "cell_type": "markdown",
   "metadata": {},
   "source": [
    "`BeginDate` - дата начала \"жизни\" клиента.\n",
    "\n",
    "`EndDate_d` - дата конца \"жизни\" клиента, либо дата конца измерений. \n",
    "\n",
    "Разница между этими датами будет формировать новый признак: `lifetime` - время \"жизни\" клиента. С помощью этого признака можно добиться более точных предсказаний целевого признака. Создадим этот признак."
   ]
  },
  {
   "cell_type": "code",
   "execution_count": 13,
   "metadata": {},
   "outputs": [],
   "source": [
    "\n",
    "contract['lifetime'] = contract['EndDate_d'] - contract['BeginDate']\n"
   ]
  },
  {
   "cell_type": "markdown",
   "metadata": {},
   "source": [
    "`lifetime` будем выражать в днях \"жизни\" клиента."
   ]
  },
  {
   "cell_type": "code",
   "execution_count": 14,
   "metadata": {},
   "outputs": [],
   "source": [
    "F = []\n",
    "for i in range(len(contract)):\n",
    "    F.append(contract['lifetime'][i].days)\n",
    "\n",
    "contract['lifetime'] = F\n",
    "\n",
    "del F"
   ]
  },
  {
   "cell_type": "markdown",
   "metadata": {},
   "source": [
    "Если в `lifetime` будет значение 0, заменим это значение на 1. Нулевого значения \"дней жизни\" быть не может. "
   ]
  },
  {
   "cell_type": "code",
   "execution_count": 15,
   "metadata": {},
   "outputs": [],
   "source": [
    "F = []\n",
    "for i in range(len(contract)):\n",
    "    if contract['lifetime'][i] == 0:\n",
    "        F.append(1)\n",
    "    else:\n",
    "        F.append(contract['lifetime'][i])\n",
    "        \n",
    "contract['lifetime'] = F\n",
    "\n",
    "del F"
   ]
  },
  {
   "cell_type": "markdown",
   "metadata": {},
   "source": [
    "Изменим тип данных в стобце `MonthlyCharges` на \"строковый\"."
   ]
  },
  {
   "cell_type": "code",
   "execution_count": 16,
   "metadata": {},
   "outputs": [],
   "source": [
    "contract['MonthlyCharges'] = contract['MonthlyCharges'].astype('str')"
   ]
  },
  {
   "cell_type": "markdown",
   "metadata": {},
   "source": [
    "Обработаем \"пустые\" значения столбца `TotalCharges`."
   ]
  },
  {
   "cell_type": "code",
   "execution_count": 17,
   "metadata": {},
   "outputs": [
    {
     "data": {
      "text/html": [
       "<div>\n",
       "<style scoped>\n",
       "    .dataframe tbody tr th:only-of-type {\n",
       "        vertical-align: middle;\n",
       "    }\n",
       "\n",
       "    .dataframe tbody tr th {\n",
       "        vertical-align: top;\n",
       "    }\n",
       "\n",
       "    .dataframe thead th {\n",
       "        text-align: right;\n",
       "    }\n",
       "</style>\n",
       "<table border=\"1\" class=\"dataframe\">\n",
       "  <thead>\n",
       "    <tr style=\"text-align: right;\">\n",
       "      <th></th>\n",
       "      <th>customerID</th>\n",
       "      <th>BeginDate</th>\n",
       "      <th>EndDate</th>\n",
       "      <th>Type</th>\n",
       "      <th>PaperlessBilling</th>\n",
       "      <th>PaymentMethod</th>\n",
       "      <th>MonthlyCharges</th>\n",
       "      <th>TotalCharges</th>\n",
       "      <th>outflow</th>\n",
       "      <th>EndDate_d</th>\n",
       "      <th>lifetime</th>\n",
       "    </tr>\n",
       "  </thead>\n",
       "  <tbody>\n",
       "    <tr>\n",
       "      <td>488</td>\n",
       "      <td>4472-LVYGI</td>\n",
       "      <td>2020-02-01</td>\n",
       "      <td>No</td>\n",
       "      <td>Two year</td>\n",
       "      <td>Yes</td>\n",
       "      <td>Bank transfer (automatic)</td>\n",
       "      <td>52.55</td>\n",
       "      <td></td>\n",
       "      <td>0</td>\n",
       "      <td>2020-02-01</td>\n",
       "      <td>1</td>\n",
       "    </tr>\n",
       "    <tr>\n",
       "      <td>753</td>\n",
       "      <td>3115-CZMZD</td>\n",
       "      <td>2020-02-01</td>\n",
       "      <td>No</td>\n",
       "      <td>Two year</td>\n",
       "      <td>No</td>\n",
       "      <td>Mailed check</td>\n",
       "      <td>20.25</td>\n",
       "      <td></td>\n",
       "      <td>0</td>\n",
       "      <td>2020-02-01</td>\n",
       "      <td>1</td>\n",
       "    </tr>\n",
       "    <tr>\n",
       "      <td>936</td>\n",
       "      <td>5709-LVOEQ</td>\n",
       "      <td>2020-02-01</td>\n",
       "      <td>No</td>\n",
       "      <td>Two year</td>\n",
       "      <td>No</td>\n",
       "      <td>Mailed check</td>\n",
       "      <td>80.85</td>\n",
       "      <td></td>\n",
       "      <td>0</td>\n",
       "      <td>2020-02-01</td>\n",
       "      <td>1</td>\n",
       "    </tr>\n",
       "    <tr>\n",
       "      <td>1082</td>\n",
       "      <td>4367-NUYAO</td>\n",
       "      <td>2020-02-01</td>\n",
       "      <td>No</td>\n",
       "      <td>Two year</td>\n",
       "      <td>No</td>\n",
       "      <td>Mailed check</td>\n",
       "      <td>25.75</td>\n",
       "      <td></td>\n",
       "      <td>0</td>\n",
       "      <td>2020-02-01</td>\n",
       "      <td>1</td>\n",
       "    </tr>\n",
       "    <tr>\n",
       "      <td>1340</td>\n",
       "      <td>1371-DWPAZ</td>\n",
       "      <td>2020-02-01</td>\n",
       "      <td>No</td>\n",
       "      <td>Two year</td>\n",
       "      <td>No</td>\n",
       "      <td>Credit card (automatic)</td>\n",
       "      <td>56.05</td>\n",
       "      <td></td>\n",
       "      <td>0</td>\n",
       "      <td>2020-02-01</td>\n",
       "      <td>1</td>\n",
       "    </tr>\n",
       "    <tr>\n",
       "      <td>3331</td>\n",
       "      <td>7644-OMVMY</td>\n",
       "      <td>2020-02-01</td>\n",
       "      <td>No</td>\n",
       "      <td>Two year</td>\n",
       "      <td>No</td>\n",
       "      <td>Mailed check</td>\n",
       "      <td>19.85</td>\n",
       "      <td></td>\n",
       "      <td>0</td>\n",
       "      <td>2020-02-01</td>\n",
       "      <td>1</td>\n",
       "    </tr>\n",
       "    <tr>\n",
       "      <td>3826</td>\n",
       "      <td>3213-VVOLG</td>\n",
       "      <td>2020-02-01</td>\n",
       "      <td>No</td>\n",
       "      <td>Two year</td>\n",
       "      <td>No</td>\n",
       "      <td>Mailed check</td>\n",
       "      <td>25.35</td>\n",
       "      <td></td>\n",
       "      <td>0</td>\n",
       "      <td>2020-02-01</td>\n",
       "      <td>1</td>\n",
       "    </tr>\n",
       "    <tr>\n",
       "      <td>4380</td>\n",
       "      <td>2520-SGTTA</td>\n",
       "      <td>2020-02-01</td>\n",
       "      <td>No</td>\n",
       "      <td>Two year</td>\n",
       "      <td>No</td>\n",
       "      <td>Mailed check</td>\n",
       "      <td>20.0</td>\n",
       "      <td></td>\n",
       "      <td>0</td>\n",
       "      <td>2020-02-01</td>\n",
       "      <td>1</td>\n",
       "    </tr>\n",
       "    <tr>\n",
       "      <td>5218</td>\n",
       "      <td>2923-ARZLG</td>\n",
       "      <td>2020-02-01</td>\n",
       "      <td>No</td>\n",
       "      <td>One year</td>\n",
       "      <td>Yes</td>\n",
       "      <td>Mailed check</td>\n",
       "      <td>19.7</td>\n",
       "      <td></td>\n",
       "      <td>0</td>\n",
       "      <td>2020-02-01</td>\n",
       "      <td>1</td>\n",
       "    </tr>\n",
       "    <tr>\n",
       "      <td>6670</td>\n",
       "      <td>4075-WKNIU</td>\n",
       "      <td>2020-02-01</td>\n",
       "      <td>No</td>\n",
       "      <td>Two year</td>\n",
       "      <td>No</td>\n",
       "      <td>Mailed check</td>\n",
       "      <td>73.35</td>\n",
       "      <td></td>\n",
       "      <td>0</td>\n",
       "      <td>2020-02-01</td>\n",
       "      <td>1</td>\n",
       "    </tr>\n",
       "    <tr>\n",
       "      <td>6754</td>\n",
       "      <td>2775-SEFEE</td>\n",
       "      <td>2020-02-01</td>\n",
       "      <td>No</td>\n",
       "      <td>Two year</td>\n",
       "      <td>Yes</td>\n",
       "      <td>Bank transfer (automatic)</td>\n",
       "      <td>61.9</td>\n",
       "      <td></td>\n",
       "      <td>0</td>\n",
       "      <td>2020-02-01</td>\n",
       "      <td>1</td>\n",
       "    </tr>\n",
       "  </tbody>\n",
       "</table>\n",
       "</div>"
      ],
      "text/plain": [
       "      customerID  BeginDate EndDate      Type PaperlessBilling  \\\n",
       "488   4472-LVYGI 2020-02-01      No  Two year              Yes   \n",
       "753   3115-CZMZD 2020-02-01      No  Two year               No   \n",
       "936   5709-LVOEQ 2020-02-01      No  Two year               No   \n",
       "1082  4367-NUYAO 2020-02-01      No  Two year               No   \n",
       "1340  1371-DWPAZ 2020-02-01      No  Two year               No   \n",
       "3331  7644-OMVMY 2020-02-01      No  Two year               No   \n",
       "3826  3213-VVOLG 2020-02-01      No  Two year               No   \n",
       "4380  2520-SGTTA 2020-02-01      No  Two year               No   \n",
       "5218  2923-ARZLG 2020-02-01      No  One year              Yes   \n",
       "6670  4075-WKNIU 2020-02-01      No  Two year               No   \n",
       "6754  2775-SEFEE 2020-02-01      No  Two year              Yes   \n",
       "\n",
       "                  PaymentMethod MonthlyCharges TotalCharges  outflow  \\\n",
       "488   Bank transfer (automatic)          52.55                     0   \n",
       "753                Mailed check          20.25                     0   \n",
       "936                Mailed check          80.85                     0   \n",
       "1082               Mailed check          25.75                     0   \n",
       "1340    Credit card (automatic)          56.05                     0   \n",
       "3331               Mailed check          19.85                     0   \n",
       "3826               Mailed check          25.35                     0   \n",
       "4380               Mailed check           20.0                     0   \n",
       "5218               Mailed check           19.7                     0   \n",
       "6670               Mailed check          73.35                     0   \n",
       "6754  Bank transfer (automatic)           61.9                     0   \n",
       "\n",
       "      EndDate_d  lifetime  \n",
       "488  2020-02-01         1  \n",
       "753  2020-02-01         1  \n",
       "936  2020-02-01         1  \n",
       "1082 2020-02-01         1  \n",
       "1340 2020-02-01         1  \n",
       "3331 2020-02-01         1  \n",
       "3826 2020-02-01         1  \n",
       "4380 2020-02-01         1  \n",
       "5218 2020-02-01         1  \n",
       "6670 2020-02-01         1  \n",
       "6754 2020-02-01         1  "
      ]
     },
     "metadata": {},
     "output_type": "display_data"
    }
   ],
   "source": [
    "display(contract.query(\"TotalCharges == ' '\"))"
   ]
  },
  {
   "cell_type": "markdown",
   "metadata": {},
   "source": [
    "В этих строках дата начала пользования услугами совпадает с нашей условной меткой конца пользования услугами - датой, когда были выгружены данные, поэтому в поле TotalCharges пустое значение. Заменим это пустое значение на MonthlyCharges, в данном лсучае это корректно. "
   ]
  },
  {
   "cell_type": "code",
   "execution_count": 18,
   "metadata": {},
   "outputs": [],
   "source": [
    "F = []\n",
    "for i in range(len(contract)):\n",
    "    if contract['TotalCharges'][i] == ' ':\n",
    "        F.append(contract['MonthlyCharges'][i])\n",
    "    else:\n",
    "        F.append(contract['TotalCharges'][i])\n",
    "        \n",
    "contract['TotalCharges'] = F\n",
    "\n",
    "del F"
   ]
  },
  {
   "cell_type": "markdown",
   "metadata": {},
   "source": [
    "Изменим тип данных в стобце `MonthlyCharges` на 'float'."
   ]
  },
  {
   "cell_type": "code",
   "execution_count": 19,
   "metadata": {},
   "outputs": [],
   "source": [
    "contract['MonthlyCharges'] = contract['MonthlyCharges'].astype('float')"
   ]
  },
  {
   "cell_type": "code",
   "execution_count": 20,
   "metadata": {},
   "outputs": [
    {
     "data": {
      "text/html": [
       "<div>\n",
       "<style scoped>\n",
       "    .dataframe tbody tr th:only-of-type {\n",
       "        vertical-align: middle;\n",
       "    }\n",
       "\n",
       "    .dataframe tbody tr th {\n",
       "        vertical-align: top;\n",
       "    }\n",
       "\n",
       "    .dataframe thead th {\n",
       "        text-align: right;\n",
       "    }\n",
       "</style>\n",
       "<table border=\"1\" class=\"dataframe\">\n",
       "  <thead>\n",
       "    <tr style=\"text-align: right;\">\n",
       "      <th></th>\n",
       "      <th>customerID</th>\n",
       "      <th>BeginDate</th>\n",
       "      <th>EndDate</th>\n",
       "      <th>Type</th>\n",
       "      <th>PaperlessBilling</th>\n",
       "      <th>PaymentMethod</th>\n",
       "      <th>MonthlyCharges</th>\n",
       "      <th>TotalCharges</th>\n",
       "      <th>outflow</th>\n",
       "      <th>EndDate_d</th>\n",
       "      <th>lifetime</th>\n",
       "    </tr>\n",
       "  </thead>\n",
       "  <tbody>\n",
       "  </tbody>\n",
       "</table>\n",
       "</div>"
      ],
      "text/plain": [
       "Empty DataFrame\n",
       "Columns: [customerID, BeginDate, EndDate, Type, PaperlessBilling, PaymentMethod, MonthlyCharges, TotalCharges, outflow, EndDate_d, lifetime]\n",
       "Index: []"
      ]
     },
     "metadata": {},
     "output_type": "display_data"
    }
   ],
   "source": [
    "display(contract.query(\"TotalCharges == ' '\"))"
   ]
  },
  {
   "cell_type": "markdown",
   "metadata": {},
   "source": [
    "Изменим тип данных в стобце `TotalCharges` на 'float'."
   ]
  },
  {
   "cell_type": "code",
   "execution_count": 21,
   "metadata": {},
   "outputs": [],
   "source": [
    "contract['TotalCharges'] = contract['TotalCharges'].astype('float')"
   ]
  },
  {
   "cell_type": "code",
   "execution_count": 22,
   "metadata": {},
   "outputs": [
    {
     "data": {
      "text/html": [
       "<div>\n",
       "<style scoped>\n",
       "    .dataframe tbody tr th:only-of-type {\n",
       "        vertical-align: middle;\n",
       "    }\n",
       "\n",
       "    .dataframe tbody tr th {\n",
       "        vertical-align: top;\n",
       "    }\n",
       "\n",
       "    .dataframe thead th {\n",
       "        text-align: right;\n",
       "    }\n",
       "</style>\n",
       "<table border=\"1\" class=\"dataframe\">\n",
       "  <thead>\n",
       "    <tr style=\"text-align: right;\">\n",
       "      <th></th>\n",
       "      <th>customerID</th>\n",
       "      <th>BeginDate</th>\n",
       "      <th>EndDate</th>\n",
       "      <th>Type</th>\n",
       "      <th>PaperlessBilling</th>\n",
       "      <th>PaymentMethod</th>\n",
       "      <th>MonthlyCharges</th>\n",
       "      <th>TotalCharges</th>\n",
       "      <th>outflow</th>\n",
       "      <th>EndDate_d</th>\n",
       "      <th>lifetime</th>\n",
       "    </tr>\n",
       "  </thead>\n",
       "  <tbody>\n",
       "    <tr>\n",
       "      <td>0</td>\n",
       "      <td>7590-VHVEG</td>\n",
       "      <td>2020-01-01</td>\n",
       "      <td>No</td>\n",
       "      <td>Month-to-month</td>\n",
       "      <td>Yes</td>\n",
       "      <td>Electronic check</td>\n",
       "      <td>29.85</td>\n",
       "      <td>29.85</td>\n",
       "      <td>0</td>\n",
       "      <td>2020-02-01</td>\n",
       "      <td>31</td>\n",
       "    </tr>\n",
       "    <tr>\n",
       "      <td>1</td>\n",
       "      <td>5575-GNVDE</td>\n",
       "      <td>2017-04-01</td>\n",
       "      <td>No</td>\n",
       "      <td>One year</td>\n",
       "      <td>No</td>\n",
       "      <td>Mailed check</td>\n",
       "      <td>56.95</td>\n",
       "      <td>1889.50</td>\n",
       "      <td>0</td>\n",
       "      <td>2020-02-01</td>\n",
       "      <td>1036</td>\n",
       "    </tr>\n",
       "    <tr>\n",
       "      <td>2</td>\n",
       "      <td>3668-QPYBK</td>\n",
       "      <td>2019-10-01</td>\n",
       "      <td>2019-12-01 00:00:00</td>\n",
       "      <td>Month-to-month</td>\n",
       "      <td>Yes</td>\n",
       "      <td>Mailed check</td>\n",
       "      <td>53.85</td>\n",
       "      <td>108.15</td>\n",
       "      <td>1</td>\n",
       "      <td>2019-12-01</td>\n",
       "      <td>61</td>\n",
       "    </tr>\n",
       "    <tr>\n",
       "      <td>3</td>\n",
       "      <td>7795-CFOCW</td>\n",
       "      <td>2016-05-01</td>\n",
       "      <td>No</td>\n",
       "      <td>One year</td>\n",
       "      <td>No</td>\n",
       "      <td>Bank transfer (automatic)</td>\n",
       "      <td>42.30</td>\n",
       "      <td>1840.75</td>\n",
       "      <td>0</td>\n",
       "      <td>2020-02-01</td>\n",
       "      <td>1371</td>\n",
       "    </tr>\n",
       "    <tr>\n",
       "      <td>4</td>\n",
       "      <td>9237-HQITU</td>\n",
       "      <td>2019-09-01</td>\n",
       "      <td>2019-11-01 00:00:00</td>\n",
       "      <td>Month-to-month</td>\n",
       "      <td>Yes</td>\n",
       "      <td>Electronic check</td>\n",
       "      <td>70.70</td>\n",
       "      <td>151.65</td>\n",
       "      <td>1</td>\n",
       "      <td>2019-11-01</td>\n",
       "      <td>61</td>\n",
       "    </tr>\n",
       "    <tr>\n",
       "      <td>...</td>\n",
       "      <td>...</td>\n",
       "      <td>...</td>\n",
       "      <td>...</td>\n",
       "      <td>...</td>\n",
       "      <td>...</td>\n",
       "      <td>...</td>\n",
       "      <td>...</td>\n",
       "      <td>...</td>\n",
       "      <td>...</td>\n",
       "      <td>...</td>\n",
       "      <td>...</td>\n",
       "    </tr>\n",
       "    <tr>\n",
       "      <td>7038</td>\n",
       "      <td>6840-RESVB</td>\n",
       "      <td>2018-02-01</td>\n",
       "      <td>No</td>\n",
       "      <td>One year</td>\n",
       "      <td>Yes</td>\n",
       "      <td>Mailed check</td>\n",
       "      <td>84.80</td>\n",
       "      <td>1990.50</td>\n",
       "      <td>0</td>\n",
       "      <td>2020-02-01</td>\n",
       "      <td>730</td>\n",
       "    </tr>\n",
       "    <tr>\n",
       "      <td>7039</td>\n",
       "      <td>2234-XADUH</td>\n",
       "      <td>2014-02-01</td>\n",
       "      <td>No</td>\n",
       "      <td>One year</td>\n",
       "      <td>Yes</td>\n",
       "      <td>Credit card (automatic)</td>\n",
       "      <td>103.20</td>\n",
       "      <td>7362.90</td>\n",
       "      <td>0</td>\n",
       "      <td>2020-02-01</td>\n",
       "      <td>2191</td>\n",
       "    </tr>\n",
       "    <tr>\n",
       "      <td>7040</td>\n",
       "      <td>4801-JZAZL</td>\n",
       "      <td>2019-03-01</td>\n",
       "      <td>No</td>\n",
       "      <td>Month-to-month</td>\n",
       "      <td>Yes</td>\n",
       "      <td>Electronic check</td>\n",
       "      <td>29.60</td>\n",
       "      <td>346.45</td>\n",
       "      <td>0</td>\n",
       "      <td>2020-02-01</td>\n",
       "      <td>337</td>\n",
       "    </tr>\n",
       "    <tr>\n",
       "      <td>7041</td>\n",
       "      <td>8361-LTMKD</td>\n",
       "      <td>2019-07-01</td>\n",
       "      <td>2019-11-01 00:00:00</td>\n",
       "      <td>Month-to-month</td>\n",
       "      <td>Yes</td>\n",
       "      <td>Mailed check</td>\n",
       "      <td>74.40</td>\n",
       "      <td>306.60</td>\n",
       "      <td>1</td>\n",
       "      <td>2019-11-01</td>\n",
       "      <td>123</td>\n",
       "    </tr>\n",
       "    <tr>\n",
       "      <td>7042</td>\n",
       "      <td>3186-AJIEK</td>\n",
       "      <td>2014-08-01</td>\n",
       "      <td>No</td>\n",
       "      <td>Two year</td>\n",
       "      <td>Yes</td>\n",
       "      <td>Bank transfer (automatic)</td>\n",
       "      <td>105.65</td>\n",
       "      <td>6844.50</td>\n",
       "      <td>0</td>\n",
       "      <td>2020-02-01</td>\n",
       "      <td>2010</td>\n",
       "    </tr>\n",
       "  </tbody>\n",
       "</table>\n",
       "<p>7043 rows × 11 columns</p>\n",
       "</div>"
      ],
      "text/plain": [
       "      customerID  BeginDate              EndDate            Type  \\\n",
       "0     7590-VHVEG 2020-01-01                   No  Month-to-month   \n",
       "1     5575-GNVDE 2017-04-01                   No        One year   \n",
       "2     3668-QPYBK 2019-10-01  2019-12-01 00:00:00  Month-to-month   \n",
       "3     7795-CFOCW 2016-05-01                   No        One year   \n",
       "4     9237-HQITU 2019-09-01  2019-11-01 00:00:00  Month-to-month   \n",
       "...          ...        ...                  ...             ...   \n",
       "7038  6840-RESVB 2018-02-01                   No        One year   \n",
       "7039  2234-XADUH 2014-02-01                   No        One year   \n",
       "7040  4801-JZAZL 2019-03-01                   No  Month-to-month   \n",
       "7041  8361-LTMKD 2019-07-01  2019-11-01 00:00:00  Month-to-month   \n",
       "7042  3186-AJIEK 2014-08-01                   No        Two year   \n",
       "\n",
       "     PaperlessBilling              PaymentMethod  MonthlyCharges  \\\n",
       "0                 Yes           Electronic check           29.85   \n",
       "1                  No               Mailed check           56.95   \n",
       "2                 Yes               Mailed check           53.85   \n",
       "3                  No  Bank transfer (automatic)           42.30   \n",
       "4                 Yes           Electronic check           70.70   \n",
       "...               ...                        ...             ...   \n",
       "7038              Yes               Mailed check           84.80   \n",
       "7039              Yes    Credit card (automatic)          103.20   \n",
       "7040              Yes           Electronic check           29.60   \n",
       "7041              Yes               Mailed check           74.40   \n",
       "7042              Yes  Bank transfer (automatic)          105.65   \n",
       "\n",
       "      TotalCharges  outflow  EndDate_d  lifetime  \n",
       "0            29.85        0 2020-02-01        31  \n",
       "1          1889.50        0 2020-02-01      1036  \n",
       "2           108.15        1 2019-12-01        61  \n",
       "3          1840.75        0 2020-02-01      1371  \n",
       "4           151.65        1 2019-11-01        61  \n",
       "...            ...      ...        ...       ...  \n",
       "7038       1990.50        0 2020-02-01       730  \n",
       "7039       7362.90        0 2020-02-01      2191  \n",
       "7040        346.45        0 2020-02-01       337  \n",
       "7041        306.60        1 2019-11-01       123  \n",
       "7042       6844.50        0 2020-02-01      2010  \n",
       "\n",
       "[7043 rows x 11 columns]"
      ]
     },
     "metadata": {},
     "output_type": "display_data"
    }
   ],
   "source": [
    "display(contract)"
   ]
  },
  {
   "cell_type": "markdown",
   "metadata": {},
   "source": [
    "Удалим признаки с датами, чтобы не формировать лики в данных."
   ]
  },
  {
   "cell_type": "code",
   "execution_count": 23,
   "metadata": {},
   "outputs": [],
   "source": [
    "contract = contract.drop('EndDate_d', axis = 1)\n",
    "contract = contract.drop('BeginDate', axis = 1)\n",
    "contract = contract.drop('EndDate', axis = 1)"
   ]
  },
  {
   "cell_type": "code",
   "execution_count": 24,
   "metadata": {},
   "outputs": [
    {
     "name": "stdout",
     "output_type": "stream",
     "text": [
      "<class 'pandas.core.frame.DataFrame'>\n",
      "RangeIndex: 7043 entries, 0 to 7042\n",
      "Data columns (total 8 columns):\n",
      "customerID          7043 non-null object\n",
      "Type                7043 non-null object\n",
      "PaperlessBilling    7043 non-null object\n",
      "PaymentMethod       7043 non-null object\n",
      "MonthlyCharges      7043 non-null float64\n",
      "TotalCharges        7043 non-null float64\n",
      "outflow             7043 non-null int64\n",
      "lifetime            7043 non-null int64\n",
      "dtypes: float64(2), int64(2), object(4)\n",
      "memory usage: 440.3+ KB\n"
     ]
    }
   ],
   "source": [
    "contract.info()"
   ]
  },
  {
   "cell_type": "markdown",
   "metadata": {},
   "source": [
    "Для дальнейшнего тестирования моделей, закодируем категориальные признаки. Позже, мы вернем им строковые значения."
   ]
  },
  {
   "cell_type": "code",
   "execution_count": 25,
   "metadata": {},
   "outputs": [
    {
     "data": {
      "text/plain": [
       "Month-to-month    3875\n",
       "Two year          1695\n",
       "One year          1473\n",
       "Name: Type, dtype: int64"
      ]
     },
     "execution_count": 25,
     "metadata": {},
     "output_type": "execute_result"
    }
   ],
   "source": [
    "contract['Type'].value_counts()"
   ]
  },
  {
   "cell_type": "code",
   "execution_count": 26,
   "metadata": {},
   "outputs": [],
   "source": [
    "F = []\n",
    "for i in range(len(contract)):\n",
    "    if contract['Type'][i] == 'Month-to-month':\n",
    "        F.append(0)\n",
    "    else:\n",
    "        if contract['Type'][i] == 'Two year':\n",
    "            F.append(2)\n",
    "        else:\n",
    "            F.append(1)\n",
    "        \n",
    "contract['Type'] = F\n",
    "\n",
    "del F"
   ]
  },
  {
   "cell_type": "code",
   "execution_count": 27,
   "metadata": {},
   "outputs": [
    {
     "data": {
      "text/plain": [
       "Electronic check             2365\n",
       "Mailed check                 1612\n",
       "Bank transfer (automatic)    1544\n",
       "Credit card (automatic)      1522\n",
       "Name: PaymentMethod, dtype: int64"
      ]
     },
     "execution_count": 27,
     "metadata": {},
     "output_type": "execute_result"
    }
   ],
   "source": [
    "contract['PaymentMethod'].value_counts()"
   ]
  },
  {
   "cell_type": "code",
   "execution_count": 28,
   "metadata": {},
   "outputs": [],
   "source": [
    "F = []\n",
    "for i in range(len(contract)):\n",
    "    if contract['PaymentMethod'][i] == 'Electronic check':\n",
    "        F.append(0)\n",
    "    else:\n",
    "        if contract['PaymentMethod'][i] == 'Mailed check':\n",
    "            F.append(1)\n",
    "        else:\n",
    "            if contract['PaymentMethod'][i] == 'Bank transfer (automatic)':\n",
    "                F.append(2)\n",
    "            else:\n",
    "                F.append(3)\n",
    "        \n",
    "contract['PaymentMethod'] = F\n",
    "\n",
    "del F"
   ]
  },
  {
   "cell_type": "code",
   "execution_count": 29,
   "metadata": {},
   "outputs": [
    {
     "data": {
      "text/plain": [
       "Yes    4171\n",
       "No     2872\n",
       "Name: PaperlessBilling, dtype: int64"
      ]
     },
     "execution_count": 29,
     "metadata": {},
     "output_type": "execute_result"
    }
   ],
   "source": [
    "contract['PaperlessBilling'].value_counts()"
   ]
  },
  {
   "cell_type": "code",
   "execution_count": 30,
   "metadata": {},
   "outputs": [],
   "source": [
    "contract['PaperlessBilling'] = pd.get_dummies(contract['PaperlessBilling'])\n",
    "contract['PaperlessBilling'] = contract['PaperlessBilling'].astype('int')"
   ]
  },
  {
   "cell_type": "code",
   "execution_count": 31,
   "metadata": {},
   "outputs": [
    {
     "data": {
      "text/plain": [
       "0    2365\n",
       "1    1612\n",
       "2    1544\n",
       "3    1522\n",
       "Name: PaymentMethod, dtype: int64"
      ]
     },
     "execution_count": 31,
     "metadata": {},
     "output_type": "execute_result"
    }
   ],
   "source": [
    "contract['PaymentMethod'].value_counts()"
   ]
  },
  {
   "cell_type": "code",
   "execution_count": 32,
   "metadata": {},
   "outputs": [
    {
     "data": {
      "text/plain": [
       "20.05     61\n",
       "19.85     45\n",
       "19.95     44\n",
       "19.90     44\n",
       "20.00     43\n",
       "          ..\n",
       "114.75     1\n",
       "103.60     1\n",
       "113.40     1\n",
       "57.65      1\n",
       "113.30     1\n",
       "Name: MonthlyCharges, Length: 1585, dtype: int64"
      ]
     },
     "execution_count": 32,
     "metadata": {},
     "output_type": "execute_result"
    }
   ],
   "source": [
    "contract['MonthlyCharges'].value_counts()"
   ]
  },
  {
   "cell_type": "code",
   "execution_count": 33,
   "metadata": {},
   "outputs": [
    {
     "data": {
      "text/plain": [
       "20.20      11\n",
       "19.75       9\n",
       "19.65       8\n",
       "20.05       8\n",
       "19.90       8\n",
       "           ..\n",
       "1534.05     1\n",
       "1066.15     1\n",
       "999.80      1\n",
       "8333.95     1\n",
       "1024.00     1\n",
       "Name: TotalCharges, Length: 6534, dtype: int64"
      ]
     },
     "execution_count": 33,
     "metadata": {},
     "output_type": "execute_result"
    }
   ],
   "source": [
    "contract['TotalCharges'].value_counts()"
   ]
  },
  {
   "cell_type": "code",
   "execution_count": 36,
   "metadata": {},
   "outputs": [
    {
     "name": "stdout",
     "output_type": "stream",
     "text": [
      "<class 'pandas.core.frame.DataFrame'>\n",
      "RangeIndex: 7043 entries, 0 to 7042\n",
      "Data columns (total 8 columns):\n",
      "customerID          7043 non-null object\n",
      "Type                7043 non-null int64\n",
      "PaperlessBilling    7043 non-null int64\n",
      "PaymentMethod       7043 non-null int64\n",
      "MonthlyCharges      7043 non-null float64\n",
      "TotalCharges        7043 non-null float64\n",
      "outflow             7043 non-null int64\n",
      "lifetime            7043 non-null int64\n",
      "dtypes: float64(2), int64(5), object(1)\n",
      "memory usage: 440.3+ KB\n"
     ]
    }
   ],
   "source": [
    "contract.info()"
   ]
  },
  {
   "cell_type": "code",
   "execution_count": 37,
   "metadata": {},
   "outputs": [
    {
     "data": {
      "text/html": [
       "<div>\n",
       "<style scoped>\n",
       "    .dataframe tbody tr th:only-of-type {\n",
       "        vertical-align: middle;\n",
       "    }\n",
       "\n",
       "    .dataframe tbody tr th {\n",
       "        vertical-align: top;\n",
       "    }\n",
       "\n",
       "    .dataframe thead th {\n",
       "        text-align: right;\n",
       "    }\n",
       "</style>\n",
       "<table border=\"1\" class=\"dataframe\">\n",
       "  <thead>\n",
       "    <tr style=\"text-align: right;\">\n",
       "      <th></th>\n",
       "      <th>customerID</th>\n",
       "      <th>Type</th>\n",
       "      <th>PaperlessBilling</th>\n",
       "      <th>PaymentMethod</th>\n",
       "      <th>MonthlyCharges</th>\n",
       "      <th>TotalCharges</th>\n",
       "      <th>outflow</th>\n",
       "      <th>lifetime</th>\n",
       "    </tr>\n",
       "  </thead>\n",
       "  <tbody>\n",
       "    <tr>\n",
       "      <td>0</td>\n",
       "      <td>7590-VHVEG</td>\n",
       "      <td>0</td>\n",
       "      <td>0</td>\n",
       "      <td>0</td>\n",
       "      <td>29.85</td>\n",
       "      <td>29.85</td>\n",
       "      <td>0</td>\n",
       "      <td>31</td>\n",
       "    </tr>\n",
       "    <tr>\n",
       "      <td>1</td>\n",
       "      <td>5575-GNVDE</td>\n",
       "      <td>1</td>\n",
       "      <td>1</td>\n",
       "      <td>1</td>\n",
       "      <td>56.95</td>\n",
       "      <td>1889.50</td>\n",
       "      <td>0</td>\n",
       "      <td>1036</td>\n",
       "    </tr>\n",
       "    <tr>\n",
       "      <td>2</td>\n",
       "      <td>3668-QPYBK</td>\n",
       "      <td>0</td>\n",
       "      <td>0</td>\n",
       "      <td>1</td>\n",
       "      <td>53.85</td>\n",
       "      <td>108.15</td>\n",
       "      <td>1</td>\n",
       "      <td>61</td>\n",
       "    </tr>\n",
       "    <tr>\n",
       "      <td>3</td>\n",
       "      <td>7795-CFOCW</td>\n",
       "      <td>1</td>\n",
       "      <td>1</td>\n",
       "      <td>2</td>\n",
       "      <td>42.30</td>\n",
       "      <td>1840.75</td>\n",
       "      <td>0</td>\n",
       "      <td>1371</td>\n",
       "    </tr>\n",
       "    <tr>\n",
       "      <td>4</td>\n",
       "      <td>9237-HQITU</td>\n",
       "      <td>0</td>\n",
       "      <td>0</td>\n",
       "      <td>0</td>\n",
       "      <td>70.70</td>\n",
       "      <td>151.65</td>\n",
       "      <td>1</td>\n",
       "      <td>61</td>\n",
       "    </tr>\n",
       "    <tr>\n",
       "      <td>...</td>\n",
       "      <td>...</td>\n",
       "      <td>...</td>\n",
       "      <td>...</td>\n",
       "      <td>...</td>\n",
       "      <td>...</td>\n",
       "      <td>...</td>\n",
       "      <td>...</td>\n",
       "      <td>...</td>\n",
       "    </tr>\n",
       "    <tr>\n",
       "      <td>7038</td>\n",
       "      <td>6840-RESVB</td>\n",
       "      <td>1</td>\n",
       "      <td>0</td>\n",
       "      <td>1</td>\n",
       "      <td>84.80</td>\n",
       "      <td>1990.50</td>\n",
       "      <td>0</td>\n",
       "      <td>730</td>\n",
       "    </tr>\n",
       "    <tr>\n",
       "      <td>7039</td>\n",
       "      <td>2234-XADUH</td>\n",
       "      <td>1</td>\n",
       "      <td>0</td>\n",
       "      <td>3</td>\n",
       "      <td>103.20</td>\n",
       "      <td>7362.90</td>\n",
       "      <td>0</td>\n",
       "      <td>2191</td>\n",
       "    </tr>\n",
       "    <tr>\n",
       "      <td>7040</td>\n",
       "      <td>4801-JZAZL</td>\n",
       "      <td>0</td>\n",
       "      <td>0</td>\n",
       "      <td>0</td>\n",
       "      <td>29.60</td>\n",
       "      <td>346.45</td>\n",
       "      <td>0</td>\n",
       "      <td>337</td>\n",
       "    </tr>\n",
       "    <tr>\n",
       "      <td>7041</td>\n",
       "      <td>8361-LTMKD</td>\n",
       "      <td>0</td>\n",
       "      <td>0</td>\n",
       "      <td>1</td>\n",
       "      <td>74.40</td>\n",
       "      <td>306.60</td>\n",
       "      <td>1</td>\n",
       "      <td>123</td>\n",
       "    </tr>\n",
       "    <tr>\n",
       "      <td>7042</td>\n",
       "      <td>3186-AJIEK</td>\n",
       "      <td>2</td>\n",
       "      <td>0</td>\n",
       "      <td>2</td>\n",
       "      <td>105.65</td>\n",
       "      <td>6844.50</td>\n",
       "      <td>0</td>\n",
       "      <td>2010</td>\n",
       "    </tr>\n",
       "  </tbody>\n",
       "</table>\n",
       "<p>7043 rows × 8 columns</p>\n",
       "</div>"
      ],
      "text/plain": [
       "      customerID  Type  PaperlessBilling  PaymentMethod  MonthlyCharges  \\\n",
       "0     7590-VHVEG     0                 0              0           29.85   \n",
       "1     5575-GNVDE     1                 1              1           56.95   \n",
       "2     3668-QPYBK     0                 0              1           53.85   \n",
       "3     7795-CFOCW     1                 1              2           42.30   \n",
       "4     9237-HQITU     0                 0              0           70.70   \n",
       "...          ...   ...               ...            ...             ...   \n",
       "7038  6840-RESVB     1                 0              1           84.80   \n",
       "7039  2234-XADUH     1                 0              3          103.20   \n",
       "7040  4801-JZAZL     0                 0              0           29.60   \n",
       "7041  8361-LTMKD     0                 0              1           74.40   \n",
       "7042  3186-AJIEK     2                 0              2          105.65   \n",
       "\n",
       "      TotalCharges  outflow  lifetime  \n",
       "0            29.85        0        31  \n",
       "1          1889.50        0      1036  \n",
       "2           108.15        1        61  \n",
       "3          1840.75        0      1371  \n",
       "4           151.65        1        61  \n",
       "...            ...      ...       ...  \n",
       "7038       1990.50        0       730  \n",
       "7039       7362.90        0      2191  \n",
       "7040        346.45        0       337  \n",
       "7041        306.60        1       123  \n",
       "7042       6844.50        0      2010  \n",
       "\n",
       "[7043 rows x 8 columns]"
      ]
     },
     "metadata": {},
     "output_type": "display_data"
    }
   ],
   "source": [
    "display(contract)"
   ]
  },
  {
   "cell_type": "markdown",
   "metadata": {},
   "source": [
    "### Personal"
   ]
  },
  {
   "cell_type": "code",
   "execution_count": 38,
   "metadata": {},
   "outputs": [],
   "source": [
    "personal = pd.read_csv('/datasets/final_provider/personal.csv')"
   ]
  },
  {
   "cell_type": "code",
   "execution_count": 39,
   "metadata": {},
   "outputs": [
    {
     "data": {
      "text/html": [
       "<div>\n",
       "<style scoped>\n",
       "    .dataframe tbody tr th:only-of-type {\n",
       "        vertical-align: middle;\n",
       "    }\n",
       "\n",
       "    .dataframe tbody tr th {\n",
       "        vertical-align: top;\n",
       "    }\n",
       "\n",
       "    .dataframe thead th {\n",
       "        text-align: right;\n",
       "    }\n",
       "</style>\n",
       "<table border=\"1\" class=\"dataframe\">\n",
       "  <thead>\n",
       "    <tr style=\"text-align: right;\">\n",
       "      <th></th>\n",
       "      <th>customerID</th>\n",
       "      <th>gender</th>\n",
       "      <th>SeniorCitizen</th>\n",
       "      <th>Partner</th>\n",
       "      <th>Dependents</th>\n",
       "    </tr>\n",
       "  </thead>\n",
       "  <tbody>\n",
       "    <tr>\n",
       "      <td>0</td>\n",
       "      <td>7590-VHVEG</td>\n",
       "      <td>Female</td>\n",
       "      <td>0</td>\n",
       "      <td>Yes</td>\n",
       "      <td>No</td>\n",
       "    </tr>\n",
       "    <tr>\n",
       "      <td>1</td>\n",
       "      <td>5575-GNVDE</td>\n",
       "      <td>Male</td>\n",
       "      <td>0</td>\n",
       "      <td>No</td>\n",
       "      <td>No</td>\n",
       "    </tr>\n",
       "    <tr>\n",
       "      <td>2</td>\n",
       "      <td>3668-QPYBK</td>\n",
       "      <td>Male</td>\n",
       "      <td>0</td>\n",
       "      <td>No</td>\n",
       "      <td>No</td>\n",
       "    </tr>\n",
       "    <tr>\n",
       "      <td>3</td>\n",
       "      <td>7795-CFOCW</td>\n",
       "      <td>Male</td>\n",
       "      <td>0</td>\n",
       "      <td>No</td>\n",
       "      <td>No</td>\n",
       "    </tr>\n",
       "    <tr>\n",
       "      <td>4</td>\n",
       "      <td>9237-HQITU</td>\n",
       "      <td>Female</td>\n",
       "      <td>0</td>\n",
       "      <td>No</td>\n",
       "      <td>No</td>\n",
       "    </tr>\n",
       "    <tr>\n",
       "      <td>...</td>\n",
       "      <td>...</td>\n",
       "      <td>...</td>\n",
       "      <td>...</td>\n",
       "      <td>...</td>\n",
       "      <td>...</td>\n",
       "    </tr>\n",
       "    <tr>\n",
       "      <td>7038</td>\n",
       "      <td>6840-RESVB</td>\n",
       "      <td>Male</td>\n",
       "      <td>0</td>\n",
       "      <td>Yes</td>\n",
       "      <td>Yes</td>\n",
       "    </tr>\n",
       "    <tr>\n",
       "      <td>7039</td>\n",
       "      <td>2234-XADUH</td>\n",
       "      <td>Female</td>\n",
       "      <td>0</td>\n",
       "      <td>Yes</td>\n",
       "      <td>Yes</td>\n",
       "    </tr>\n",
       "    <tr>\n",
       "      <td>7040</td>\n",
       "      <td>4801-JZAZL</td>\n",
       "      <td>Female</td>\n",
       "      <td>0</td>\n",
       "      <td>Yes</td>\n",
       "      <td>Yes</td>\n",
       "    </tr>\n",
       "    <tr>\n",
       "      <td>7041</td>\n",
       "      <td>8361-LTMKD</td>\n",
       "      <td>Male</td>\n",
       "      <td>1</td>\n",
       "      <td>Yes</td>\n",
       "      <td>No</td>\n",
       "    </tr>\n",
       "    <tr>\n",
       "      <td>7042</td>\n",
       "      <td>3186-AJIEK</td>\n",
       "      <td>Male</td>\n",
       "      <td>0</td>\n",
       "      <td>No</td>\n",
       "      <td>No</td>\n",
       "    </tr>\n",
       "  </tbody>\n",
       "</table>\n",
       "<p>7043 rows × 5 columns</p>\n",
       "</div>"
      ],
      "text/plain": [
       "      customerID  gender  SeniorCitizen Partner Dependents\n",
       "0     7590-VHVEG  Female              0     Yes         No\n",
       "1     5575-GNVDE    Male              0      No         No\n",
       "2     3668-QPYBK    Male              0      No         No\n",
       "3     7795-CFOCW    Male              0      No         No\n",
       "4     9237-HQITU  Female              0      No         No\n",
       "...          ...     ...            ...     ...        ...\n",
       "7038  6840-RESVB    Male              0     Yes        Yes\n",
       "7039  2234-XADUH  Female              0     Yes        Yes\n",
       "7040  4801-JZAZL  Female              0     Yes        Yes\n",
       "7041  8361-LTMKD    Male              1     Yes         No\n",
       "7042  3186-AJIEK    Male              0      No         No\n",
       "\n",
       "[7043 rows x 5 columns]"
      ]
     },
     "metadata": {},
     "output_type": "display_data"
    }
   ],
   "source": [
    "display(personal)"
   ]
  },
  {
   "cell_type": "code",
   "execution_count": 40,
   "metadata": {},
   "outputs": [
    {
     "name": "stdout",
     "output_type": "stream",
     "text": [
      "<class 'pandas.core.frame.DataFrame'>\n",
      "RangeIndex: 7043 entries, 0 to 7042\n",
      "Data columns (total 5 columns):\n",
      "customerID       7043 non-null object\n",
      "gender           7043 non-null object\n",
      "SeniorCitizen    7043 non-null int64\n",
      "Partner          7043 non-null object\n",
      "Dependents       7043 non-null object\n",
      "dtypes: int64(1), object(4)\n",
      "memory usage: 275.2+ KB\n"
     ]
    }
   ],
   "source": [
    "personal.info()"
   ]
  },
  {
   "cell_type": "code",
   "execution_count": 41,
   "metadata": {},
   "outputs": [
    {
     "data": {
      "text/plain": [
       "0"
      ]
     },
     "execution_count": 41,
     "metadata": {},
     "output_type": "execute_result"
    }
   ],
   "source": [
    "personal.duplicated().sum()"
   ]
  },
  {
   "cell_type": "markdown",
   "metadata": {},
   "source": [
    "Дубликатов и пропусков в данной таблице нет."
   ]
  },
  {
   "cell_type": "markdown",
   "metadata": {},
   "source": [
    "Закодируем категориальные признаки этой таблицы. "
   ]
  },
  {
   "cell_type": "code",
   "execution_count": 42,
   "metadata": {},
   "outputs": [
    {
     "data": {
      "text/plain": [
       "Male      3555\n",
       "Female    3488\n",
       "Name: gender, dtype: int64"
      ]
     },
     "execution_count": 42,
     "metadata": {},
     "output_type": "execute_result"
    }
   ],
   "source": [
    "personal['gender'].value_counts()"
   ]
  },
  {
   "cell_type": "code",
   "execution_count": 43,
   "metadata": {},
   "outputs": [],
   "source": [
    "personal['gender'] = pd.get_dummies(personal['gender'])\n",
    "personal['gender'] = personal['gender'].astype('int')"
   ]
  },
  {
   "cell_type": "code",
   "execution_count": 44,
   "metadata": {},
   "outputs": [
    {
     "data": {
      "text/plain": [
       "No     3641\n",
       "Yes    3402\n",
       "Name: Partner, dtype: int64"
      ]
     },
     "execution_count": 44,
     "metadata": {},
     "output_type": "execute_result"
    }
   ],
   "source": [
    "personal['Partner'].value_counts()"
   ]
  },
  {
   "cell_type": "code",
   "execution_count": 45,
   "metadata": {},
   "outputs": [],
   "source": [
    "personal['Partner'] = pd.get_dummies(personal['Partner'])\n",
    "personal['Partner'] = personal['Partner'].astype('int')"
   ]
  },
  {
   "cell_type": "code",
   "execution_count": 46,
   "metadata": {},
   "outputs": [
    {
     "data": {
      "text/plain": [
       "No     4933\n",
       "Yes    2110\n",
       "Name: Dependents, dtype: int64"
      ]
     },
     "execution_count": 46,
     "metadata": {},
     "output_type": "execute_result"
    }
   ],
   "source": [
    "personal['Dependents'].value_counts()"
   ]
  },
  {
   "cell_type": "code",
   "execution_count": 47,
   "metadata": {},
   "outputs": [],
   "source": [
    "personal['Dependents'] = pd.get_dummies(personal['Dependents'])\n",
    "personal['Dependents'] = personal['Dependents'].astype('int')"
   ]
  },
  {
   "cell_type": "markdown",
   "metadata": {},
   "source": [
    "### Internet"
   ]
  },
  {
   "cell_type": "code",
   "execution_count": 48,
   "metadata": {},
   "outputs": [],
   "source": [
    "internet = pd.read_csv('/datasets/final_provider/internet.csv')"
   ]
  },
  {
   "cell_type": "code",
   "execution_count": 49,
   "metadata": {},
   "outputs": [
    {
     "data": {
      "text/html": [
       "<div>\n",
       "<style scoped>\n",
       "    .dataframe tbody tr th:only-of-type {\n",
       "        vertical-align: middle;\n",
       "    }\n",
       "\n",
       "    .dataframe tbody tr th {\n",
       "        vertical-align: top;\n",
       "    }\n",
       "\n",
       "    .dataframe thead th {\n",
       "        text-align: right;\n",
       "    }\n",
       "</style>\n",
       "<table border=\"1\" class=\"dataframe\">\n",
       "  <thead>\n",
       "    <tr style=\"text-align: right;\">\n",
       "      <th></th>\n",
       "      <th>customerID</th>\n",
       "      <th>InternetService</th>\n",
       "      <th>OnlineSecurity</th>\n",
       "      <th>OnlineBackup</th>\n",
       "      <th>DeviceProtection</th>\n",
       "      <th>TechSupport</th>\n",
       "      <th>StreamingTV</th>\n",
       "      <th>StreamingMovies</th>\n",
       "    </tr>\n",
       "  </thead>\n",
       "  <tbody>\n",
       "    <tr>\n",
       "      <td>0</td>\n",
       "      <td>7590-VHVEG</td>\n",
       "      <td>DSL</td>\n",
       "      <td>No</td>\n",
       "      <td>Yes</td>\n",
       "      <td>No</td>\n",
       "      <td>No</td>\n",
       "      <td>No</td>\n",
       "      <td>No</td>\n",
       "    </tr>\n",
       "    <tr>\n",
       "      <td>1</td>\n",
       "      <td>5575-GNVDE</td>\n",
       "      <td>DSL</td>\n",
       "      <td>Yes</td>\n",
       "      <td>No</td>\n",
       "      <td>Yes</td>\n",
       "      <td>No</td>\n",
       "      <td>No</td>\n",
       "      <td>No</td>\n",
       "    </tr>\n",
       "    <tr>\n",
       "      <td>2</td>\n",
       "      <td>3668-QPYBK</td>\n",
       "      <td>DSL</td>\n",
       "      <td>Yes</td>\n",
       "      <td>Yes</td>\n",
       "      <td>No</td>\n",
       "      <td>No</td>\n",
       "      <td>No</td>\n",
       "      <td>No</td>\n",
       "    </tr>\n",
       "    <tr>\n",
       "      <td>3</td>\n",
       "      <td>7795-CFOCW</td>\n",
       "      <td>DSL</td>\n",
       "      <td>Yes</td>\n",
       "      <td>No</td>\n",
       "      <td>Yes</td>\n",
       "      <td>Yes</td>\n",
       "      <td>No</td>\n",
       "      <td>No</td>\n",
       "    </tr>\n",
       "    <tr>\n",
       "      <td>4</td>\n",
       "      <td>9237-HQITU</td>\n",
       "      <td>Fiber optic</td>\n",
       "      <td>No</td>\n",
       "      <td>No</td>\n",
       "      <td>No</td>\n",
       "      <td>No</td>\n",
       "      <td>No</td>\n",
       "      <td>No</td>\n",
       "    </tr>\n",
       "    <tr>\n",
       "      <td>...</td>\n",
       "      <td>...</td>\n",
       "      <td>...</td>\n",
       "      <td>...</td>\n",
       "      <td>...</td>\n",
       "      <td>...</td>\n",
       "      <td>...</td>\n",
       "      <td>...</td>\n",
       "      <td>...</td>\n",
       "    </tr>\n",
       "    <tr>\n",
       "      <td>5512</td>\n",
       "      <td>6840-RESVB</td>\n",
       "      <td>DSL</td>\n",
       "      <td>Yes</td>\n",
       "      <td>No</td>\n",
       "      <td>Yes</td>\n",
       "      <td>Yes</td>\n",
       "      <td>Yes</td>\n",
       "      <td>Yes</td>\n",
       "    </tr>\n",
       "    <tr>\n",
       "      <td>5513</td>\n",
       "      <td>2234-XADUH</td>\n",
       "      <td>Fiber optic</td>\n",
       "      <td>No</td>\n",
       "      <td>Yes</td>\n",
       "      <td>Yes</td>\n",
       "      <td>No</td>\n",
       "      <td>Yes</td>\n",
       "      <td>Yes</td>\n",
       "    </tr>\n",
       "    <tr>\n",
       "      <td>5514</td>\n",
       "      <td>4801-JZAZL</td>\n",
       "      <td>DSL</td>\n",
       "      <td>Yes</td>\n",
       "      <td>No</td>\n",
       "      <td>No</td>\n",
       "      <td>No</td>\n",
       "      <td>No</td>\n",
       "      <td>No</td>\n",
       "    </tr>\n",
       "    <tr>\n",
       "      <td>5515</td>\n",
       "      <td>8361-LTMKD</td>\n",
       "      <td>Fiber optic</td>\n",
       "      <td>No</td>\n",
       "      <td>No</td>\n",
       "      <td>No</td>\n",
       "      <td>No</td>\n",
       "      <td>No</td>\n",
       "      <td>No</td>\n",
       "    </tr>\n",
       "    <tr>\n",
       "      <td>5516</td>\n",
       "      <td>3186-AJIEK</td>\n",
       "      <td>Fiber optic</td>\n",
       "      <td>Yes</td>\n",
       "      <td>No</td>\n",
       "      <td>Yes</td>\n",
       "      <td>Yes</td>\n",
       "      <td>Yes</td>\n",
       "      <td>Yes</td>\n",
       "    </tr>\n",
       "  </tbody>\n",
       "</table>\n",
       "<p>5517 rows × 8 columns</p>\n",
       "</div>"
      ],
      "text/plain": [
       "      customerID InternetService OnlineSecurity OnlineBackup DeviceProtection  \\\n",
       "0     7590-VHVEG             DSL             No          Yes               No   \n",
       "1     5575-GNVDE             DSL            Yes           No              Yes   \n",
       "2     3668-QPYBK             DSL            Yes          Yes               No   \n",
       "3     7795-CFOCW             DSL            Yes           No              Yes   \n",
       "4     9237-HQITU     Fiber optic             No           No               No   \n",
       "...          ...             ...            ...          ...              ...   \n",
       "5512  6840-RESVB             DSL            Yes           No              Yes   \n",
       "5513  2234-XADUH     Fiber optic             No          Yes              Yes   \n",
       "5514  4801-JZAZL             DSL            Yes           No               No   \n",
       "5515  8361-LTMKD     Fiber optic             No           No               No   \n",
       "5516  3186-AJIEK     Fiber optic            Yes           No              Yes   \n",
       "\n",
       "     TechSupport StreamingTV StreamingMovies  \n",
       "0             No          No              No  \n",
       "1             No          No              No  \n",
       "2             No          No              No  \n",
       "3            Yes          No              No  \n",
       "4             No          No              No  \n",
       "...          ...         ...             ...  \n",
       "5512         Yes         Yes             Yes  \n",
       "5513          No         Yes             Yes  \n",
       "5514          No          No              No  \n",
       "5515          No          No              No  \n",
       "5516         Yes         Yes             Yes  \n",
       "\n",
       "[5517 rows x 8 columns]"
      ]
     },
     "metadata": {},
     "output_type": "display_data"
    }
   ],
   "source": [
    "display(internet)"
   ]
  },
  {
   "cell_type": "code",
   "execution_count": 50,
   "metadata": {},
   "outputs": [
    {
     "name": "stdout",
     "output_type": "stream",
     "text": [
      "<class 'pandas.core.frame.DataFrame'>\n",
      "RangeIndex: 5517 entries, 0 to 5516\n",
      "Data columns (total 8 columns):\n",
      "customerID          5517 non-null object\n",
      "InternetService     5517 non-null object\n",
      "OnlineSecurity      5517 non-null object\n",
      "OnlineBackup        5517 non-null object\n",
      "DeviceProtection    5517 non-null object\n",
      "TechSupport         5517 non-null object\n",
      "StreamingTV         5517 non-null object\n",
      "StreamingMovies     5517 non-null object\n",
      "dtypes: object(8)\n",
      "memory usage: 344.9+ KB\n"
     ]
    }
   ],
   "source": [
    "internet.info()"
   ]
  },
  {
   "cell_type": "markdown",
   "metadata": {},
   "source": [
    "Кодировать признаки этой таблицы пока не будем, для того чтобы не умножать число признаков для предсказания."
   ]
  },
  {
   "cell_type": "markdown",
   "metadata": {},
   "source": [
    "### Phone"
   ]
  },
  {
   "cell_type": "code",
   "execution_count": 51,
   "metadata": {},
   "outputs": [],
   "source": [
    "phone = pd.read_csv('/datasets/final_provider/phone.csv')"
   ]
  },
  {
   "cell_type": "code",
   "execution_count": 52,
   "metadata": {},
   "outputs": [
    {
     "data": {
      "text/html": [
       "<div>\n",
       "<style scoped>\n",
       "    .dataframe tbody tr th:only-of-type {\n",
       "        vertical-align: middle;\n",
       "    }\n",
       "\n",
       "    .dataframe tbody tr th {\n",
       "        vertical-align: top;\n",
       "    }\n",
       "\n",
       "    .dataframe thead th {\n",
       "        text-align: right;\n",
       "    }\n",
       "</style>\n",
       "<table border=\"1\" class=\"dataframe\">\n",
       "  <thead>\n",
       "    <tr style=\"text-align: right;\">\n",
       "      <th></th>\n",
       "      <th>customerID</th>\n",
       "      <th>MultipleLines</th>\n",
       "    </tr>\n",
       "  </thead>\n",
       "  <tbody>\n",
       "    <tr>\n",
       "      <td>0</td>\n",
       "      <td>5575-GNVDE</td>\n",
       "      <td>No</td>\n",
       "    </tr>\n",
       "    <tr>\n",
       "      <td>1</td>\n",
       "      <td>3668-QPYBK</td>\n",
       "      <td>No</td>\n",
       "    </tr>\n",
       "    <tr>\n",
       "      <td>2</td>\n",
       "      <td>9237-HQITU</td>\n",
       "      <td>No</td>\n",
       "    </tr>\n",
       "    <tr>\n",
       "      <td>3</td>\n",
       "      <td>9305-CDSKC</td>\n",
       "      <td>Yes</td>\n",
       "    </tr>\n",
       "    <tr>\n",
       "      <td>4</td>\n",
       "      <td>1452-KIOVK</td>\n",
       "      <td>Yes</td>\n",
       "    </tr>\n",
       "    <tr>\n",
       "      <td>...</td>\n",
       "      <td>...</td>\n",
       "      <td>...</td>\n",
       "    </tr>\n",
       "    <tr>\n",
       "      <td>6356</td>\n",
       "      <td>2569-WGERO</td>\n",
       "      <td>No</td>\n",
       "    </tr>\n",
       "    <tr>\n",
       "      <td>6357</td>\n",
       "      <td>6840-RESVB</td>\n",
       "      <td>Yes</td>\n",
       "    </tr>\n",
       "    <tr>\n",
       "      <td>6358</td>\n",
       "      <td>2234-XADUH</td>\n",
       "      <td>Yes</td>\n",
       "    </tr>\n",
       "    <tr>\n",
       "      <td>6359</td>\n",
       "      <td>8361-LTMKD</td>\n",
       "      <td>Yes</td>\n",
       "    </tr>\n",
       "    <tr>\n",
       "      <td>6360</td>\n",
       "      <td>3186-AJIEK</td>\n",
       "      <td>No</td>\n",
       "    </tr>\n",
       "  </tbody>\n",
       "</table>\n",
       "<p>6361 rows × 2 columns</p>\n",
       "</div>"
      ],
      "text/plain": [
       "      customerID MultipleLines\n",
       "0     5575-GNVDE            No\n",
       "1     3668-QPYBK            No\n",
       "2     9237-HQITU            No\n",
       "3     9305-CDSKC           Yes\n",
       "4     1452-KIOVK           Yes\n",
       "...          ...           ...\n",
       "6356  2569-WGERO            No\n",
       "6357  6840-RESVB           Yes\n",
       "6358  2234-XADUH           Yes\n",
       "6359  8361-LTMKD           Yes\n",
       "6360  3186-AJIEK            No\n",
       "\n",
       "[6361 rows x 2 columns]"
      ]
     },
     "metadata": {},
     "output_type": "display_data"
    }
   ],
   "source": [
    "display(phone)"
   ]
  },
  {
   "cell_type": "code",
   "execution_count": 53,
   "metadata": {},
   "outputs": [
    {
     "name": "stdout",
     "output_type": "stream",
     "text": [
      "<class 'pandas.core.frame.DataFrame'>\n",
      "RangeIndex: 6361 entries, 0 to 6360\n",
      "Data columns (total 2 columns):\n",
      "customerID       6361 non-null object\n",
      "MultipleLines    6361 non-null object\n",
      "dtypes: object(2)\n",
      "memory usage: 99.5+ KB\n"
     ]
    }
   ],
   "source": [
    "phone.info()"
   ]
  },
  {
   "cell_type": "markdown",
   "metadata": {},
   "source": [
    "### Присоединение таблицы internet к таблице phone"
   ]
  },
  {
   "cell_type": "code",
   "execution_count": 54,
   "metadata": {},
   "outputs": [],
   "source": [
    "data2 = internet.merge(phone, on='customerID', how='left')"
   ]
  },
  {
   "cell_type": "code",
   "execution_count": 55,
   "metadata": {},
   "outputs": [
    {
     "data": {
      "text/html": [
       "<div>\n",
       "<style scoped>\n",
       "    .dataframe tbody tr th:only-of-type {\n",
       "        vertical-align: middle;\n",
       "    }\n",
       "\n",
       "    .dataframe tbody tr th {\n",
       "        vertical-align: top;\n",
       "    }\n",
       "\n",
       "    .dataframe thead th {\n",
       "        text-align: right;\n",
       "    }\n",
       "</style>\n",
       "<table border=\"1\" class=\"dataframe\">\n",
       "  <thead>\n",
       "    <tr style=\"text-align: right;\">\n",
       "      <th></th>\n",
       "      <th>customerID</th>\n",
       "      <th>InternetService</th>\n",
       "      <th>OnlineSecurity</th>\n",
       "      <th>OnlineBackup</th>\n",
       "      <th>DeviceProtection</th>\n",
       "      <th>TechSupport</th>\n",
       "      <th>StreamingTV</th>\n",
       "      <th>StreamingMovies</th>\n",
       "      <th>MultipleLines</th>\n",
       "    </tr>\n",
       "  </thead>\n",
       "  <tbody>\n",
       "    <tr>\n",
       "      <td>0</td>\n",
       "      <td>7590-VHVEG</td>\n",
       "      <td>DSL</td>\n",
       "      <td>No</td>\n",
       "      <td>Yes</td>\n",
       "      <td>No</td>\n",
       "      <td>No</td>\n",
       "      <td>No</td>\n",
       "      <td>No</td>\n",
       "      <td>NaN</td>\n",
       "    </tr>\n",
       "    <tr>\n",
       "      <td>1</td>\n",
       "      <td>5575-GNVDE</td>\n",
       "      <td>DSL</td>\n",
       "      <td>Yes</td>\n",
       "      <td>No</td>\n",
       "      <td>Yes</td>\n",
       "      <td>No</td>\n",
       "      <td>No</td>\n",
       "      <td>No</td>\n",
       "      <td>No</td>\n",
       "    </tr>\n",
       "    <tr>\n",
       "      <td>2</td>\n",
       "      <td>3668-QPYBK</td>\n",
       "      <td>DSL</td>\n",
       "      <td>Yes</td>\n",
       "      <td>Yes</td>\n",
       "      <td>No</td>\n",
       "      <td>No</td>\n",
       "      <td>No</td>\n",
       "      <td>No</td>\n",
       "      <td>No</td>\n",
       "    </tr>\n",
       "    <tr>\n",
       "      <td>3</td>\n",
       "      <td>7795-CFOCW</td>\n",
       "      <td>DSL</td>\n",
       "      <td>Yes</td>\n",
       "      <td>No</td>\n",
       "      <td>Yes</td>\n",
       "      <td>Yes</td>\n",
       "      <td>No</td>\n",
       "      <td>No</td>\n",
       "      <td>NaN</td>\n",
       "    </tr>\n",
       "    <tr>\n",
       "      <td>4</td>\n",
       "      <td>9237-HQITU</td>\n",
       "      <td>Fiber optic</td>\n",
       "      <td>No</td>\n",
       "      <td>No</td>\n",
       "      <td>No</td>\n",
       "      <td>No</td>\n",
       "      <td>No</td>\n",
       "      <td>No</td>\n",
       "      <td>No</td>\n",
       "    </tr>\n",
       "    <tr>\n",
       "      <td>...</td>\n",
       "      <td>...</td>\n",
       "      <td>...</td>\n",
       "      <td>...</td>\n",
       "      <td>...</td>\n",
       "      <td>...</td>\n",
       "      <td>...</td>\n",
       "      <td>...</td>\n",
       "      <td>...</td>\n",
       "      <td>...</td>\n",
       "    </tr>\n",
       "    <tr>\n",
       "      <td>5512</td>\n",
       "      <td>6840-RESVB</td>\n",
       "      <td>DSL</td>\n",
       "      <td>Yes</td>\n",
       "      <td>No</td>\n",
       "      <td>Yes</td>\n",
       "      <td>Yes</td>\n",
       "      <td>Yes</td>\n",
       "      <td>Yes</td>\n",
       "      <td>Yes</td>\n",
       "    </tr>\n",
       "    <tr>\n",
       "      <td>5513</td>\n",
       "      <td>2234-XADUH</td>\n",
       "      <td>Fiber optic</td>\n",
       "      <td>No</td>\n",
       "      <td>Yes</td>\n",
       "      <td>Yes</td>\n",
       "      <td>No</td>\n",
       "      <td>Yes</td>\n",
       "      <td>Yes</td>\n",
       "      <td>Yes</td>\n",
       "    </tr>\n",
       "    <tr>\n",
       "      <td>5514</td>\n",
       "      <td>4801-JZAZL</td>\n",
       "      <td>DSL</td>\n",
       "      <td>Yes</td>\n",
       "      <td>No</td>\n",
       "      <td>No</td>\n",
       "      <td>No</td>\n",
       "      <td>No</td>\n",
       "      <td>No</td>\n",
       "      <td>NaN</td>\n",
       "    </tr>\n",
       "    <tr>\n",
       "      <td>5515</td>\n",
       "      <td>8361-LTMKD</td>\n",
       "      <td>Fiber optic</td>\n",
       "      <td>No</td>\n",
       "      <td>No</td>\n",
       "      <td>No</td>\n",
       "      <td>No</td>\n",
       "      <td>No</td>\n",
       "      <td>No</td>\n",
       "      <td>Yes</td>\n",
       "    </tr>\n",
       "    <tr>\n",
       "      <td>5516</td>\n",
       "      <td>3186-AJIEK</td>\n",
       "      <td>Fiber optic</td>\n",
       "      <td>Yes</td>\n",
       "      <td>No</td>\n",
       "      <td>Yes</td>\n",
       "      <td>Yes</td>\n",
       "      <td>Yes</td>\n",
       "      <td>Yes</td>\n",
       "      <td>No</td>\n",
       "    </tr>\n",
       "  </tbody>\n",
       "</table>\n",
       "<p>5517 rows × 9 columns</p>\n",
       "</div>"
      ],
      "text/plain": [
       "      customerID InternetService OnlineSecurity OnlineBackup DeviceProtection  \\\n",
       "0     7590-VHVEG             DSL             No          Yes               No   \n",
       "1     5575-GNVDE             DSL            Yes           No              Yes   \n",
       "2     3668-QPYBK             DSL            Yes          Yes               No   \n",
       "3     7795-CFOCW             DSL            Yes           No              Yes   \n",
       "4     9237-HQITU     Fiber optic             No           No               No   \n",
       "...          ...             ...            ...          ...              ...   \n",
       "5512  6840-RESVB             DSL            Yes           No              Yes   \n",
       "5513  2234-XADUH     Fiber optic             No          Yes              Yes   \n",
       "5514  4801-JZAZL             DSL            Yes           No               No   \n",
       "5515  8361-LTMKD     Fiber optic             No           No               No   \n",
       "5516  3186-AJIEK     Fiber optic            Yes           No              Yes   \n",
       "\n",
       "     TechSupport StreamingTV StreamingMovies MultipleLines  \n",
       "0             No          No              No           NaN  \n",
       "1             No          No              No            No  \n",
       "2             No          No              No            No  \n",
       "3            Yes          No              No           NaN  \n",
       "4             No          No              No            No  \n",
       "...          ...         ...             ...           ...  \n",
       "5512         Yes         Yes             Yes           Yes  \n",
       "5513          No         Yes             Yes           Yes  \n",
       "5514          No          No              No           NaN  \n",
       "5515          No          No              No           Yes  \n",
       "5516         Yes         Yes             Yes            No  \n",
       "\n",
       "[5517 rows x 9 columns]"
      ]
     },
     "metadata": {},
     "output_type": "display_data"
    }
   ],
   "source": [
    "display(data2)"
   ]
  },
  {
   "cell_type": "markdown",
   "metadata": {},
   "source": [
    "Есть идея, заключающаяся в том, что для нахождения целевого признака оттока клиента, данные о интеренет-услугах и услугах телефонии не сильно нужны, поэтому проведем проверку их на мультиколлинеарность. "
   ]
  },
  {
   "cell_type": "markdown",
   "metadata": {},
   "source": [
    "Тем же способом проверим таблицу с персональными данными и данными и договоре клиента. Попробуем исключить уже на этом этапе лишние признаки.  "
   ]
  },
  {
   "cell_type": "code",
   "execution_count": 56,
   "metadata": {},
   "outputs": [],
   "source": [
    "data2 = data2.fillna('No')"
   ]
  },
  {
   "cell_type": "code",
   "execution_count": 57,
   "metadata": {},
   "outputs": [],
   "source": [
    "data22 = contract[['customerID', 'outflow']]"
   ]
  },
  {
   "cell_type": "code",
   "execution_count": 58,
   "metadata": {},
   "outputs": [],
   "source": [
    "data222 = data2.merge(data22, on='customerID', how='left')"
   ]
  },
  {
   "cell_type": "code",
   "execution_count": 59,
   "metadata": {},
   "outputs": [],
   "source": [
    "data222 = data222.drop('customerID', axis=1)"
   ]
  },
  {
   "cell_type": "code",
   "execution_count": 60,
   "metadata": {},
   "outputs": [],
   "source": [
    "encoder = OrdinalEncoder()"
   ]
  },
  {
   "cell_type": "code",
   "execution_count": 61,
   "metadata": {},
   "outputs": [
    {
     "data": {
      "text/plain": [
       "OrdinalEncoder(categories='auto', dtype=<class 'numpy.float64'>)"
      ]
     },
     "execution_count": 61,
     "metadata": {},
     "output_type": "execute_result"
    }
   ],
   "source": [
    "encoder.fit(data222) "
   ]
  },
  {
   "cell_type": "code",
   "execution_count": 62,
   "metadata": {},
   "outputs": [],
   "source": [
    "data222_ordinal = encoder.transform(data222)"
   ]
  },
  {
   "cell_type": "code",
   "execution_count": 63,
   "metadata": {},
   "outputs": [],
   "source": [
    "data222_ordinal = pd.DataFrame(encoder.transform(data222), \n",
    "                                                      columns=data222.columns) "
   ]
  },
  {
   "cell_type": "code",
   "execution_count": 64,
   "metadata": {},
   "outputs": [
    {
     "data": {
      "text/html": [
       "<div>\n",
       "<style scoped>\n",
       "    .dataframe tbody tr th:only-of-type {\n",
       "        vertical-align: middle;\n",
       "    }\n",
       "\n",
       "    .dataframe tbody tr th {\n",
       "        vertical-align: top;\n",
       "    }\n",
       "\n",
       "    .dataframe thead th {\n",
       "        text-align: right;\n",
       "    }\n",
       "</style>\n",
       "<table border=\"1\" class=\"dataframe\">\n",
       "  <thead>\n",
       "    <tr style=\"text-align: right;\">\n",
       "      <th></th>\n",
       "      <th>InternetService</th>\n",
       "      <th>OnlineSecurity</th>\n",
       "      <th>OnlineBackup</th>\n",
       "      <th>DeviceProtection</th>\n",
       "      <th>TechSupport</th>\n",
       "      <th>StreamingTV</th>\n",
       "      <th>StreamingMovies</th>\n",
       "      <th>MultipleLines</th>\n",
       "      <th>outflow</th>\n",
       "    </tr>\n",
       "  </thead>\n",
       "  <tbody>\n",
       "    <tr>\n",
       "      <td>0</td>\n",
       "      <td>0.0</td>\n",
       "      <td>0.0</td>\n",
       "      <td>1.0</td>\n",
       "      <td>0.0</td>\n",
       "      <td>0.0</td>\n",
       "      <td>0.0</td>\n",
       "      <td>0.0</td>\n",
       "      <td>0.0</td>\n",
       "      <td>0.0</td>\n",
       "    </tr>\n",
       "    <tr>\n",
       "      <td>1</td>\n",
       "      <td>0.0</td>\n",
       "      <td>1.0</td>\n",
       "      <td>0.0</td>\n",
       "      <td>1.0</td>\n",
       "      <td>0.0</td>\n",
       "      <td>0.0</td>\n",
       "      <td>0.0</td>\n",
       "      <td>0.0</td>\n",
       "      <td>0.0</td>\n",
       "    </tr>\n",
       "    <tr>\n",
       "      <td>2</td>\n",
       "      <td>0.0</td>\n",
       "      <td>1.0</td>\n",
       "      <td>1.0</td>\n",
       "      <td>0.0</td>\n",
       "      <td>0.0</td>\n",
       "      <td>0.0</td>\n",
       "      <td>0.0</td>\n",
       "      <td>0.0</td>\n",
       "      <td>1.0</td>\n",
       "    </tr>\n",
       "    <tr>\n",
       "      <td>3</td>\n",
       "      <td>0.0</td>\n",
       "      <td>1.0</td>\n",
       "      <td>0.0</td>\n",
       "      <td>1.0</td>\n",
       "      <td>1.0</td>\n",
       "      <td>0.0</td>\n",
       "      <td>0.0</td>\n",
       "      <td>0.0</td>\n",
       "      <td>0.0</td>\n",
       "    </tr>\n",
       "    <tr>\n",
       "      <td>4</td>\n",
       "      <td>1.0</td>\n",
       "      <td>0.0</td>\n",
       "      <td>0.0</td>\n",
       "      <td>0.0</td>\n",
       "      <td>0.0</td>\n",
       "      <td>0.0</td>\n",
       "      <td>0.0</td>\n",
       "      <td>0.0</td>\n",
       "      <td>1.0</td>\n",
       "    </tr>\n",
       "    <tr>\n",
       "      <td>...</td>\n",
       "      <td>...</td>\n",
       "      <td>...</td>\n",
       "      <td>...</td>\n",
       "      <td>...</td>\n",
       "      <td>...</td>\n",
       "      <td>...</td>\n",
       "      <td>...</td>\n",
       "      <td>...</td>\n",
       "      <td>...</td>\n",
       "    </tr>\n",
       "    <tr>\n",
       "      <td>5512</td>\n",
       "      <td>0.0</td>\n",
       "      <td>1.0</td>\n",
       "      <td>0.0</td>\n",
       "      <td>1.0</td>\n",
       "      <td>1.0</td>\n",
       "      <td>1.0</td>\n",
       "      <td>1.0</td>\n",
       "      <td>1.0</td>\n",
       "      <td>0.0</td>\n",
       "    </tr>\n",
       "    <tr>\n",
       "      <td>5513</td>\n",
       "      <td>1.0</td>\n",
       "      <td>0.0</td>\n",
       "      <td>1.0</td>\n",
       "      <td>1.0</td>\n",
       "      <td>0.0</td>\n",
       "      <td>1.0</td>\n",
       "      <td>1.0</td>\n",
       "      <td>1.0</td>\n",
       "      <td>0.0</td>\n",
       "    </tr>\n",
       "    <tr>\n",
       "      <td>5514</td>\n",
       "      <td>0.0</td>\n",
       "      <td>1.0</td>\n",
       "      <td>0.0</td>\n",
       "      <td>0.0</td>\n",
       "      <td>0.0</td>\n",
       "      <td>0.0</td>\n",
       "      <td>0.0</td>\n",
       "      <td>0.0</td>\n",
       "      <td>0.0</td>\n",
       "    </tr>\n",
       "    <tr>\n",
       "      <td>5515</td>\n",
       "      <td>1.0</td>\n",
       "      <td>0.0</td>\n",
       "      <td>0.0</td>\n",
       "      <td>0.0</td>\n",
       "      <td>0.0</td>\n",
       "      <td>0.0</td>\n",
       "      <td>0.0</td>\n",
       "      <td>1.0</td>\n",
       "      <td>1.0</td>\n",
       "    </tr>\n",
       "    <tr>\n",
       "      <td>5516</td>\n",
       "      <td>1.0</td>\n",
       "      <td>1.0</td>\n",
       "      <td>0.0</td>\n",
       "      <td>1.0</td>\n",
       "      <td>1.0</td>\n",
       "      <td>1.0</td>\n",
       "      <td>1.0</td>\n",
       "      <td>0.0</td>\n",
       "      <td>0.0</td>\n",
       "    </tr>\n",
       "  </tbody>\n",
       "</table>\n",
       "<p>5517 rows × 9 columns</p>\n",
       "</div>"
      ],
      "text/plain": [
       "      InternetService  OnlineSecurity  OnlineBackup  DeviceProtection  \\\n",
       "0                 0.0             0.0           1.0               0.0   \n",
       "1                 0.0             1.0           0.0               1.0   \n",
       "2                 0.0             1.0           1.0               0.0   \n",
       "3                 0.0             1.0           0.0               1.0   \n",
       "4                 1.0             0.0           0.0               0.0   \n",
       "...               ...             ...           ...               ...   \n",
       "5512              0.0             1.0           0.0               1.0   \n",
       "5513              1.0             0.0           1.0               1.0   \n",
       "5514              0.0             1.0           0.0               0.0   \n",
       "5515              1.0             0.0           0.0               0.0   \n",
       "5516              1.0             1.0           0.0               1.0   \n",
       "\n",
       "      TechSupport  StreamingTV  StreamingMovies  MultipleLines  outflow  \n",
       "0             0.0          0.0              0.0            0.0      0.0  \n",
       "1             0.0          0.0              0.0            0.0      0.0  \n",
       "2             0.0          0.0              0.0            0.0      1.0  \n",
       "3             1.0          0.0              0.0            0.0      0.0  \n",
       "4             0.0          0.0              0.0            0.0      1.0  \n",
       "...           ...          ...              ...            ...      ...  \n",
       "5512          1.0          1.0              1.0            1.0      0.0  \n",
       "5513          0.0          1.0              1.0            1.0      0.0  \n",
       "5514          0.0          0.0              0.0            0.0      0.0  \n",
       "5515          0.0          0.0              0.0            1.0      1.0  \n",
       "5516          1.0          1.0              1.0            0.0      0.0  \n",
       "\n",
       "[5517 rows x 9 columns]"
      ]
     },
     "metadata": {},
     "output_type": "display_data"
    }
   ],
   "source": [
    "display(data222_ordinal)"
   ]
  },
  {
   "cell_type": "code",
   "execution_count": 65,
   "metadata": {},
   "outputs": [
    {
     "data": {
      "text/plain": [
       "InternetService     0.244319\n",
       "OnlineSecurity     -0.280816\n",
       "OnlineBackup       -0.196061\n",
       "DeviceProtection   -0.177125\n",
       "TechSupport        -0.274422\n",
       "StreamingTV        -0.037057\n",
       "StreamingMovies    -0.040132\n",
       "MultipleLines       0.002507\n",
       "dtype: float64"
      ]
     },
     "execution_count": 65,
     "metadata": {},
     "output_type": "execute_result"
    }
   ],
   "source": [
    "data222_ordinal.drop('outflow', axis=1).corrwith(data222_ordinal['outflow'])"
   ]
  },
  {
   "cell_type": "code",
   "execution_count": 66,
   "metadata": {},
   "outputs": [
    {
     "name": "stdout",
     "output_type": "stream",
     "text": [
      "[2.610838284215264, 1.6688747935280792, 1.8807777721771564, 2.0978639437565354, 1.8256007043821083, 2.5592551467328932, 2.583437204782976, 2.2898708452013223, 1.468340542631513]\n"
     ]
    }
   ],
   "source": [
    "vif = [variance_inflation_factor(data222_ordinal.values, data222_ordinal.columns.get_loc(i)) for i in data222_ordinal.columns]\n",
    "print(vif)"
   ]
  },
  {
   "cell_type": "markdown",
   "metadata": {},
   "source": [
    "Данные сводной таблиц \"интернет\" и \"телефон\" сильно коррелируют друг с другой, а с целевым признаком 'outflow' наоборот, очень слабо. Поэтому пока откажемся от использования признаков из этих таблиц для предсказания целевого признака."
   ]
  },
  {
   "cell_type": "markdown",
   "metadata": {},
   "source": [
    "## Финальная таблица для машинного обучения, разделение признаков"
   ]
  },
  {
   "cell_type": "markdown",
   "metadata": {},
   "source": [
    "### Сводная таблица contract и personal"
   ]
  },
  {
   "cell_type": "code",
   "execution_count": 67,
   "metadata": {},
   "outputs": [],
   "source": [
    "data = contract.merge(personal, on='customerID', how='left')"
   ]
  },
  {
   "cell_type": "code",
   "execution_count": 68,
   "metadata": {},
   "outputs": [],
   "source": [
    "data = data.drop('customerID', axis = 1)"
   ]
  },
  {
   "cell_type": "code",
   "execution_count": 69,
   "metadata": {},
   "outputs": [
    {
     "data": {
      "text/html": [
       "<div>\n",
       "<style scoped>\n",
       "    .dataframe tbody tr th:only-of-type {\n",
       "        vertical-align: middle;\n",
       "    }\n",
       "\n",
       "    .dataframe tbody tr th {\n",
       "        vertical-align: top;\n",
       "    }\n",
       "\n",
       "    .dataframe thead th {\n",
       "        text-align: right;\n",
       "    }\n",
       "</style>\n",
       "<table border=\"1\" class=\"dataframe\">\n",
       "  <thead>\n",
       "    <tr style=\"text-align: right;\">\n",
       "      <th></th>\n",
       "      <th>Type</th>\n",
       "      <th>PaperlessBilling</th>\n",
       "      <th>PaymentMethod</th>\n",
       "      <th>MonthlyCharges</th>\n",
       "      <th>TotalCharges</th>\n",
       "      <th>outflow</th>\n",
       "      <th>lifetime</th>\n",
       "      <th>gender</th>\n",
       "      <th>SeniorCitizen</th>\n",
       "      <th>Partner</th>\n",
       "      <th>Dependents</th>\n",
       "    </tr>\n",
       "  </thead>\n",
       "  <tbody>\n",
       "    <tr>\n",
       "      <td>0</td>\n",
       "      <td>0</td>\n",
       "      <td>0</td>\n",
       "      <td>0</td>\n",
       "      <td>29.85</td>\n",
       "      <td>29.85</td>\n",
       "      <td>0</td>\n",
       "      <td>31</td>\n",
       "      <td>1</td>\n",
       "      <td>0</td>\n",
       "      <td>0</td>\n",
       "      <td>1</td>\n",
       "    </tr>\n",
       "    <tr>\n",
       "      <td>1</td>\n",
       "      <td>1</td>\n",
       "      <td>1</td>\n",
       "      <td>1</td>\n",
       "      <td>56.95</td>\n",
       "      <td>1889.50</td>\n",
       "      <td>0</td>\n",
       "      <td>1036</td>\n",
       "      <td>0</td>\n",
       "      <td>0</td>\n",
       "      <td>1</td>\n",
       "      <td>1</td>\n",
       "    </tr>\n",
       "    <tr>\n",
       "      <td>2</td>\n",
       "      <td>0</td>\n",
       "      <td>0</td>\n",
       "      <td>1</td>\n",
       "      <td>53.85</td>\n",
       "      <td>108.15</td>\n",
       "      <td>1</td>\n",
       "      <td>61</td>\n",
       "      <td>0</td>\n",
       "      <td>0</td>\n",
       "      <td>1</td>\n",
       "      <td>1</td>\n",
       "    </tr>\n",
       "    <tr>\n",
       "      <td>3</td>\n",
       "      <td>1</td>\n",
       "      <td>1</td>\n",
       "      <td>2</td>\n",
       "      <td>42.30</td>\n",
       "      <td>1840.75</td>\n",
       "      <td>0</td>\n",
       "      <td>1371</td>\n",
       "      <td>0</td>\n",
       "      <td>0</td>\n",
       "      <td>1</td>\n",
       "      <td>1</td>\n",
       "    </tr>\n",
       "    <tr>\n",
       "      <td>4</td>\n",
       "      <td>0</td>\n",
       "      <td>0</td>\n",
       "      <td>0</td>\n",
       "      <td>70.70</td>\n",
       "      <td>151.65</td>\n",
       "      <td>1</td>\n",
       "      <td>61</td>\n",
       "      <td>1</td>\n",
       "      <td>0</td>\n",
       "      <td>1</td>\n",
       "      <td>1</td>\n",
       "    </tr>\n",
       "    <tr>\n",
       "      <td>...</td>\n",
       "      <td>...</td>\n",
       "      <td>...</td>\n",
       "      <td>...</td>\n",
       "      <td>...</td>\n",
       "      <td>...</td>\n",
       "      <td>...</td>\n",
       "      <td>...</td>\n",
       "      <td>...</td>\n",
       "      <td>...</td>\n",
       "      <td>...</td>\n",
       "      <td>...</td>\n",
       "    </tr>\n",
       "    <tr>\n",
       "      <td>7038</td>\n",
       "      <td>1</td>\n",
       "      <td>0</td>\n",
       "      <td>1</td>\n",
       "      <td>84.80</td>\n",
       "      <td>1990.50</td>\n",
       "      <td>0</td>\n",
       "      <td>730</td>\n",
       "      <td>0</td>\n",
       "      <td>0</td>\n",
       "      <td>0</td>\n",
       "      <td>0</td>\n",
       "    </tr>\n",
       "    <tr>\n",
       "      <td>7039</td>\n",
       "      <td>1</td>\n",
       "      <td>0</td>\n",
       "      <td>3</td>\n",
       "      <td>103.20</td>\n",
       "      <td>7362.90</td>\n",
       "      <td>0</td>\n",
       "      <td>2191</td>\n",
       "      <td>1</td>\n",
       "      <td>0</td>\n",
       "      <td>0</td>\n",
       "      <td>0</td>\n",
       "    </tr>\n",
       "    <tr>\n",
       "      <td>7040</td>\n",
       "      <td>0</td>\n",
       "      <td>0</td>\n",
       "      <td>0</td>\n",
       "      <td>29.60</td>\n",
       "      <td>346.45</td>\n",
       "      <td>0</td>\n",
       "      <td>337</td>\n",
       "      <td>1</td>\n",
       "      <td>0</td>\n",
       "      <td>0</td>\n",
       "      <td>0</td>\n",
       "    </tr>\n",
       "    <tr>\n",
       "      <td>7041</td>\n",
       "      <td>0</td>\n",
       "      <td>0</td>\n",
       "      <td>1</td>\n",
       "      <td>74.40</td>\n",
       "      <td>306.60</td>\n",
       "      <td>1</td>\n",
       "      <td>123</td>\n",
       "      <td>0</td>\n",
       "      <td>1</td>\n",
       "      <td>0</td>\n",
       "      <td>1</td>\n",
       "    </tr>\n",
       "    <tr>\n",
       "      <td>7042</td>\n",
       "      <td>2</td>\n",
       "      <td>0</td>\n",
       "      <td>2</td>\n",
       "      <td>105.65</td>\n",
       "      <td>6844.50</td>\n",
       "      <td>0</td>\n",
       "      <td>2010</td>\n",
       "      <td>0</td>\n",
       "      <td>0</td>\n",
       "      <td>1</td>\n",
       "      <td>1</td>\n",
       "    </tr>\n",
       "  </tbody>\n",
       "</table>\n",
       "<p>7043 rows × 11 columns</p>\n",
       "</div>"
      ],
      "text/plain": [
       "      Type  PaperlessBilling  PaymentMethod  MonthlyCharges  TotalCharges  \\\n",
       "0        0                 0              0           29.85         29.85   \n",
       "1        1                 1              1           56.95       1889.50   \n",
       "2        0                 0              1           53.85        108.15   \n",
       "3        1                 1              2           42.30       1840.75   \n",
       "4        0                 0              0           70.70        151.65   \n",
       "...    ...               ...            ...             ...           ...   \n",
       "7038     1                 0              1           84.80       1990.50   \n",
       "7039     1                 0              3          103.20       7362.90   \n",
       "7040     0                 0              0           29.60        346.45   \n",
       "7041     0                 0              1           74.40        306.60   \n",
       "7042     2                 0              2          105.65       6844.50   \n",
       "\n",
       "      outflow  lifetime  gender  SeniorCitizen  Partner  Dependents  \n",
       "0           0        31       1              0        0           1  \n",
       "1           0      1036       0              0        1           1  \n",
       "2           1        61       0              0        1           1  \n",
       "3           0      1371       0              0        1           1  \n",
       "4           1        61       1              0        1           1  \n",
       "...       ...       ...     ...            ...      ...         ...  \n",
       "7038        0       730       0              0        0           0  \n",
       "7039        0      2191       1              0        0           0  \n",
       "7040        0       337       1              0        0           0  \n",
       "7041        1       123       0              1        0           1  \n",
       "7042        0      2010       0              0        1           1  \n",
       "\n",
       "[7043 rows x 11 columns]"
      ]
     },
     "metadata": {},
     "output_type": "display_data"
    }
   ],
   "source": [
    "display(data)"
   ]
  },
  {
   "cell_type": "code",
   "execution_count": 70,
   "metadata": {},
   "outputs": [
    {
     "data": {
      "text/plain": [
       "Type               -0.396713\n",
       "PaperlessBilling   -0.191825\n",
       "PaymentMethod      -0.262818\n",
       "MonthlyCharges      0.193356\n",
       "TotalCharges       -0.198347\n",
       "lifetime           -0.352675\n",
       "gender              0.008612\n",
       "SeniorCitizen       0.150889\n",
       "Partner             0.150448\n",
       "Dependents          0.164221\n",
       "dtype: float64"
      ]
     },
     "execution_count": 70,
     "metadata": {},
     "output_type": "execute_result"
    }
   ],
   "source": [
    "data.drop('outflow', axis=1).corrwith(data['outflow'])"
   ]
  },
  {
   "cell_type": "code",
   "execution_count": 71,
   "metadata": {},
   "outputs": [
    {
     "name": "stdout",
     "output_type": "stream",
     "text": [
      "[3.693936642508476, 1.7597446622438122, 2.632431343542309, 9.868560768431085, 12.531111435240497, 1.8132226051105491, 13.53814035383675, 1.9134640104274072, 1.3510285520944145, 2.8731034436545424, 4.4192054710689455]\n"
     ]
    }
   ],
   "source": [
    "vif = [variance_inflation_factor(data.values, data.columns.get_loc(i)) for i in data.columns]\n",
    "print(vif)"
   ]
  },
  {
   "cell_type": "code",
   "execution_count": 72,
   "metadata": {},
   "outputs": [],
   "source": [
    "data = data.drop('PaperlessBilling', axis=1)\n",
    "data = data.drop('gender', axis=1)\n",
    "data = data.drop('SeniorCitizen', axis=1)"
   ]
  },
  {
   "cell_type": "code",
   "execution_count": 73,
   "metadata": {},
   "outputs": [
    {
     "name": "stdout",
     "output_type": "stream",
     "text": [
      "<class 'pandas.core.frame.DataFrame'>\n",
      "Int64Index: 7043 entries, 0 to 7042\n",
      "Data columns (total 8 columns):\n",
      "Type              7043 non-null int64\n",
      "PaymentMethod     7043 non-null int64\n",
      "MonthlyCharges    7043 non-null float64\n",
      "TotalCharges      7043 non-null float64\n",
      "outflow           7043 non-null int64\n",
      "lifetime          7043 non-null int64\n",
      "Partner           7043 non-null int64\n",
      "Dependents        7043 non-null int64\n",
      "dtypes: float64(2), int64(6)\n",
      "memory usage: 495.2 KB\n"
     ]
    }
   ],
   "source": [
    "data.info()"
   ]
  },
  {
   "cell_type": "code",
   "execution_count": 74,
   "metadata": {},
   "outputs": [
    {
     "data": {
      "text/html": [
       "<div>\n",
       "<style scoped>\n",
       "    .dataframe tbody tr th:only-of-type {\n",
       "        vertical-align: middle;\n",
       "    }\n",
       "\n",
       "    .dataframe tbody tr th {\n",
       "        vertical-align: top;\n",
       "    }\n",
       "\n",
       "    .dataframe thead th {\n",
       "        text-align: right;\n",
       "    }\n",
       "</style>\n",
       "<table border=\"1\" class=\"dataframe\">\n",
       "  <thead>\n",
       "    <tr style=\"text-align: right;\">\n",
       "      <th></th>\n",
       "      <th>Type</th>\n",
       "      <th>PaymentMethod</th>\n",
       "      <th>MonthlyCharges</th>\n",
       "      <th>TotalCharges</th>\n",
       "      <th>outflow</th>\n",
       "      <th>lifetime</th>\n",
       "      <th>Partner</th>\n",
       "      <th>Dependents</th>\n",
       "    </tr>\n",
       "  </thead>\n",
       "  <tbody>\n",
       "    <tr>\n",
       "      <td>count</td>\n",
       "      <td>7043.000000</td>\n",
       "      <td>7043.000000</td>\n",
       "      <td>7043.000000</td>\n",
       "      <td>7043.000000</td>\n",
       "      <td>7043.000000</td>\n",
       "      <td>7043.000000</td>\n",
       "      <td>7043.000000</td>\n",
       "      <td>7043.000000</td>\n",
       "    </tr>\n",
       "    <tr>\n",
       "      <td>mean</td>\n",
       "      <td>0.690473</td>\n",
       "      <td>1.315633</td>\n",
       "      <td>64.761692</td>\n",
       "      <td>2279.798992</td>\n",
       "      <td>0.265370</td>\n",
       "      <td>985.997728</td>\n",
       "      <td>0.516967</td>\n",
       "      <td>0.700412</td>\n",
       "    </tr>\n",
       "    <tr>\n",
       "      <td>std</td>\n",
       "      <td>0.833755</td>\n",
       "      <td>1.148907</td>\n",
       "      <td>30.090047</td>\n",
       "      <td>2266.730170</td>\n",
       "      <td>0.441561</td>\n",
       "      <td>747.585785</td>\n",
       "      <td>0.499748</td>\n",
       "      <td>0.458110</td>\n",
       "    </tr>\n",
       "    <tr>\n",
       "      <td>min</td>\n",
       "      <td>0.000000</td>\n",
       "      <td>0.000000</td>\n",
       "      <td>18.250000</td>\n",
       "      <td>18.800000</td>\n",
       "      <td>0.000000</td>\n",
       "      <td>1.000000</td>\n",
       "      <td>0.000000</td>\n",
       "      <td>0.000000</td>\n",
       "    </tr>\n",
       "    <tr>\n",
       "      <td>25%</td>\n",
       "      <td>0.000000</td>\n",
       "      <td>0.000000</td>\n",
       "      <td>35.500000</td>\n",
       "      <td>398.550000</td>\n",
       "      <td>0.000000</td>\n",
       "      <td>273.000000</td>\n",
       "      <td>0.000000</td>\n",
       "      <td>0.000000</td>\n",
       "    </tr>\n",
       "    <tr>\n",
       "      <td>50%</td>\n",
       "      <td>0.000000</td>\n",
       "      <td>1.000000</td>\n",
       "      <td>70.350000</td>\n",
       "      <td>1394.550000</td>\n",
       "      <td>0.000000</td>\n",
       "      <td>883.000000</td>\n",
       "      <td>1.000000</td>\n",
       "      <td>1.000000</td>\n",
       "    </tr>\n",
       "    <tr>\n",
       "      <td>75%</td>\n",
       "      <td>1.000000</td>\n",
       "      <td>2.000000</td>\n",
       "      <td>89.850000</td>\n",
       "      <td>3786.600000</td>\n",
       "      <td>1.000000</td>\n",
       "      <td>1676.000000</td>\n",
       "      <td>1.000000</td>\n",
       "      <td>1.000000</td>\n",
       "    </tr>\n",
       "    <tr>\n",
       "      <td>max</td>\n",
       "      <td>2.000000</td>\n",
       "      <td>3.000000</td>\n",
       "      <td>118.750000</td>\n",
       "      <td>8684.800000</td>\n",
       "      <td>1.000000</td>\n",
       "      <td>2191.000000</td>\n",
       "      <td>1.000000</td>\n",
       "      <td>1.000000</td>\n",
       "    </tr>\n",
       "  </tbody>\n",
       "</table>\n",
       "</div>"
      ],
      "text/plain": [
       "              Type  PaymentMethod  MonthlyCharges  TotalCharges      outflow  \\\n",
       "count  7043.000000    7043.000000     7043.000000   7043.000000  7043.000000   \n",
       "mean      0.690473       1.315633       64.761692   2279.798992     0.265370   \n",
       "std       0.833755       1.148907       30.090047   2266.730170     0.441561   \n",
       "min       0.000000       0.000000       18.250000     18.800000     0.000000   \n",
       "25%       0.000000       0.000000       35.500000    398.550000     0.000000   \n",
       "50%       0.000000       1.000000       70.350000   1394.550000     0.000000   \n",
       "75%       1.000000       2.000000       89.850000   3786.600000     1.000000   \n",
       "max       2.000000       3.000000      118.750000   8684.800000     1.000000   \n",
       "\n",
       "          lifetime      Partner   Dependents  \n",
       "count  7043.000000  7043.000000  7043.000000  \n",
       "mean    985.997728     0.516967     0.700412  \n",
       "std     747.585785     0.499748     0.458110  \n",
       "min       1.000000     0.000000     0.000000  \n",
       "25%     273.000000     0.000000     0.000000  \n",
       "50%     883.000000     1.000000     1.000000  \n",
       "75%    1676.000000     1.000000     1.000000  \n",
       "max    2191.000000     1.000000     1.000000  "
      ]
     },
     "execution_count": 74,
     "metadata": {},
     "output_type": "execute_result"
    }
   ],
   "source": [
    "data.describe()"
   ]
  },
  {
   "cell_type": "code",
   "execution_count": 75,
   "metadata": {},
   "outputs": [
    {
     "data": {
      "text/plain": [
       "Type             -0.396713\n",
       "PaymentMethod    -0.262818\n",
       "MonthlyCharges    0.193356\n",
       "TotalCharges     -0.198347\n",
       "lifetime         -0.352675\n",
       "Partner           0.150448\n",
       "Dependents        0.164221\n",
       "dtype: float64"
      ]
     },
     "execution_count": 75,
     "metadata": {},
     "output_type": "execute_result"
    }
   ],
   "source": [
    "data.drop('outflow', axis=1).corrwith(data['outflow'])"
   ]
  },
  {
   "cell_type": "markdown",
   "metadata": {},
   "source": [
    "**data** - таблица с данными о клиентах, на которой мы будем осуществлять работу модели. "
   ]
  },
  {
   "cell_type": "markdown",
   "metadata": {},
   "source": [
    "### Разделение на признаки и целевой признак, тестовые данные и обучающие"
   ]
  },
  {
   "cell_type": "code",
   "execution_count": 76,
   "metadata": {},
   "outputs": [],
   "source": [
    "df, dtest = train_test_split(data, test_size=0.2, random_state=12345)"
   ]
  },
  {
   "cell_type": "code",
   "execution_count": 77,
   "metadata": {},
   "outputs": [
    {
     "data": {
      "text/plain": [
       "(5634, 8)"
      ]
     },
     "execution_count": 77,
     "metadata": {},
     "output_type": "execute_result"
    }
   ],
   "source": [
    "df.shape"
   ]
  },
  {
   "cell_type": "code",
   "execution_count": 78,
   "metadata": {},
   "outputs": [
    {
     "data": {
      "text/plain": [
       "(1409, 8)"
      ]
     },
     "execution_count": 78,
     "metadata": {},
     "output_type": "execute_result"
    }
   ],
   "source": [
    "dtest.shape"
   ]
  },
  {
   "cell_type": "code",
   "execution_count": 79,
   "metadata": {},
   "outputs": [],
   "source": [
    "target_test = dtest['outflow']\n",
    "features_test = dtest.drop('outflow', axis=1) "
   ]
  },
  {
   "cell_type": "code",
   "execution_count": 80,
   "metadata": {},
   "outputs": [],
   "source": [
    "features_train, features_valid, target_train, target_valid = train_test_split(\n",
    "    df.drop('outflow', axis=1), df['outflow'], test_size=0.22, random_state=1276345)"
   ]
  },
  {
   "cell_type": "markdown",
   "metadata": {},
   "source": [
    "## Машинное обучение и подбор моделей, выявление лучшей модели"
   ]
  },
  {
   "cell_type": "markdown",
   "metadata": {},
   "source": [
    " Факт ухода клиента, т.е. значение 1 для нас важнее, поэтому проверяем модель на правильность предсказания этого класса."
   ]
  },
  {
   "cell_type": "markdown",
   "metadata": {},
   "source": [
    "### Построим модель CatBoostClassifier с прямым кодированием признаков."
   ]
  },
  {
   "cell_type": "code",
   "execution_count": 81,
   "metadata": {},
   "outputs": [
    {
     "name": "stdout",
     "output_type": "stream",
     "text": [
      "0:\tlearn: 0.5348211\ttotal: 49.6ms\tremaining: 11.8s\n",
      "50:\tlearn: 0.2788051\ttotal: 692ms\tremaining: 2.54s\n",
      "100:\tlearn: 0.2141523\ttotal: 1.57s\tremaining: 2.13s\n",
      "150:\tlearn: 0.1722331\ttotal: 2.46s\tremaining: 1.41s\n",
      "200:\tlearn: 0.1469201\ttotal: 3.34s\tremaining: 615ms\n",
      "237:\tlearn: 0.1304944\ttotal: 3.94s\tremaining: 0us\n"
     ]
    }
   ],
   "source": [
    "model = CatBoostClassifier(loss_function=\"Logloss\", iterations=238, learning_rate=0.3, random_seed=12345)\n",
    "model.fit(features_train, target_train, verbose=50)\n",
    "\n",
    "probabilities_valid = model.predict_proba(features_valid)\n",
    "probabilities_one_valid = probabilities_valid[:, 1]\n"
   ]
  },
  {
   "cell_type": "code",
   "execution_count": 82,
   "metadata": {},
   "outputs": [
    {
     "data": {
      "image/png": "[encoded data removed]",
      "text/plain": [
       "<Figure size 432x288 with 1 Axes>"
      ]
     },
     "metadata": {
      "needs_background": "light"
     },
     "output_type": "display_data"
    }
   ],
   "source": [
    "fpr, tpr, thresholds = roc_curve(target_valid, probabilities_one_valid)\n",
    "\n",
    "plt.figure()\n",
    "plt.plot(fpr, tpr)\n",
    "plt.xlim([0.0, 1.0])\n",
    "plt.ylim([0.0, 1.0])\n",
    "plt.xlabel('False Positive Rate')\n",
    "plt.ylabel('True Positive Rate')\n",
    "plt.title('ROC-кривая')\n",
    "plt.show() \n",
    "\n"
   ]
  },
  {
   "cell_type": "markdown",
   "metadata": {},
   "source": [
    "#### Значение метрики roc-auc на валидации:"
   ]
  },
  {
   "cell_type": "code",
   "execution_count": 83,
   "metadata": {},
   "outputs": [
    {
     "name": "stdout",
     "output_type": "stream",
     "text": [
      "0.9016966292134831\n"
     ]
    }
   ],
   "source": [
    "print(roc_auc_score(target_valid, probabilities_one_valid))"
   ]
  },
  {
   "cell_type": "markdown",
   "metadata": {},
   "source": [
    "#### Визуализация важности признаков для нашей модели"
   ]
  },
  {
   "cell_type": "code",
   "execution_count": 84,
   "metadata": {},
   "outputs": [
    {
     "name": "stdout",
     "output_type": "stream",
     "text": [
      "/bin/bash: -c: line 0: syntax error near unexpected token `attachment:image.png'\r\n",
      "/bin/bash: -c: line 0: `[image.png](attachment:image.png)'\r\n"
     ]
    },
    {
     "data": {
      "image/png": "[encoded data removed]",
      "text/plain": [
       "<Figure size 432x288 with 1 Axes>"
      ]
     },
     "metadata": {
      "needs_background": "light"
     },
     "output_type": "display_data"
    }
   ],
   "source": [
    "def chart_feature_imp(model):\n",
    "    feature_imp = pd.Series(model.feature_importances_, index=features_valid.columns).sort_values(ascending=False)\n",
    "\n",
    "    ax = sns.barplot(x=feature_imp, y=feature_imp.index)\n",
    "    _ = ax.set(xlabel='Оценка важности признаков', ylabel='Признаки')\n",
    "    _ = ax.set_title('Визуализация важности признаков')\n",
    "\n",
    "chart_feature_imp(model)\n",
    "![image.png](attachment:image.png)"
   ]
  },
  {
   "cell_type": "markdown",
   "metadata": {},
   "source": [
    "#### Проверка модели на тестовых данных"
   ]
  },
  {
   "cell_type": "code",
   "execution_count": 85,
   "metadata": {},
   "outputs": [
    {
     "name": "stdout",
     "output_type": "stream",
     "text": [
      "0.9099623434177831\n"
     ]
    }
   ],
   "source": [
    "probabilities_test = model.predict_proba(features_test)\n",
    "probabilities_one_test = probabilities_test[:, 1]\n",
    "print(roc_auc_score(target_test, probabilities_one_test))"
   ]
  },
  {
   "cell_type": "markdown",
   "metadata": {},
   "source": [
    "### Построим модель CatBoostClassifier со встроенным кодированием признаков."
   ]
  },
  {
   "cell_type": "code",
   "execution_count": 86,
   "metadata": {},
   "outputs": [
    {
     "data": {
      "text/html": [
       "<div>\n",
       "<style scoped>\n",
       "    .dataframe tbody tr th:only-of-type {\n",
       "        vertical-align: middle;\n",
       "    }\n",
       "\n",
       "    .dataframe tbody tr th {\n",
       "        vertical-align: top;\n",
       "    }\n",
       "\n",
       "    .dataframe thead th {\n",
       "        text-align: right;\n",
       "    }\n",
       "</style>\n",
       "<table border=\"1\" class=\"dataframe\">\n",
       "  <thead>\n",
       "    <tr style=\"text-align: right;\">\n",
       "      <th></th>\n",
       "      <th>Type</th>\n",
       "      <th>PaymentMethod</th>\n",
       "      <th>MonthlyCharges</th>\n",
       "      <th>TotalCharges</th>\n",
       "      <th>outflow</th>\n",
       "      <th>lifetime</th>\n",
       "      <th>Partner</th>\n",
       "      <th>Dependents</th>\n",
       "    </tr>\n",
       "  </thead>\n",
       "  <tbody>\n",
       "    <tr>\n",
       "      <td>0</td>\n",
       "      <td>0</td>\n",
       "      <td>0</td>\n",
       "      <td>29.85</td>\n",
       "      <td>29.85</td>\n",
       "      <td>0</td>\n",
       "      <td>31</td>\n",
       "      <td>0</td>\n",
       "      <td>1</td>\n",
       "    </tr>\n",
       "    <tr>\n",
       "      <td>1</td>\n",
       "      <td>1</td>\n",
       "      <td>1</td>\n",
       "      <td>56.95</td>\n",
       "      <td>1889.50</td>\n",
       "      <td>0</td>\n",
       "      <td>1036</td>\n",
       "      <td>1</td>\n",
       "      <td>1</td>\n",
       "    </tr>\n",
       "    <tr>\n",
       "      <td>2</td>\n",
       "      <td>0</td>\n",
       "      <td>1</td>\n",
       "      <td>53.85</td>\n",
       "      <td>108.15</td>\n",
       "      <td>1</td>\n",
       "      <td>61</td>\n",
       "      <td>1</td>\n",
       "      <td>1</td>\n",
       "    </tr>\n",
       "    <tr>\n",
       "      <td>3</td>\n",
       "      <td>1</td>\n",
       "      <td>2</td>\n",
       "      <td>42.30</td>\n",
       "      <td>1840.75</td>\n",
       "      <td>0</td>\n",
       "      <td>1371</td>\n",
       "      <td>1</td>\n",
       "      <td>1</td>\n",
       "    </tr>\n",
       "    <tr>\n",
       "      <td>4</td>\n",
       "      <td>0</td>\n",
       "      <td>0</td>\n",
       "      <td>70.70</td>\n",
       "      <td>151.65</td>\n",
       "      <td>1</td>\n",
       "      <td>61</td>\n",
       "      <td>1</td>\n",
       "      <td>1</td>\n",
       "    </tr>\n",
       "    <tr>\n",
       "      <td>...</td>\n",
       "      <td>...</td>\n",
       "      <td>...</td>\n",
       "      <td>...</td>\n",
       "      <td>...</td>\n",
       "      <td>...</td>\n",
       "      <td>...</td>\n",
       "      <td>...</td>\n",
       "      <td>...</td>\n",
       "    </tr>\n",
       "    <tr>\n",
       "      <td>7038</td>\n",
       "      <td>1</td>\n",
       "      <td>1</td>\n",
       "      <td>84.80</td>\n",
       "      <td>1990.50</td>\n",
       "      <td>0</td>\n",
       "      <td>730</td>\n",
       "      <td>0</td>\n",
       "      <td>0</td>\n",
       "    </tr>\n",
       "    <tr>\n",
       "      <td>7039</td>\n",
       "      <td>1</td>\n",
       "      <td>3</td>\n",
       "      <td>103.20</td>\n",
       "      <td>7362.90</td>\n",
       "      <td>0</td>\n",
       "      <td>2191</td>\n",
       "      <td>0</td>\n",
       "      <td>0</td>\n",
       "    </tr>\n",
       "    <tr>\n",
       "      <td>7040</td>\n",
       "      <td>0</td>\n",
       "      <td>0</td>\n",
       "      <td>29.60</td>\n",
       "      <td>346.45</td>\n",
       "      <td>0</td>\n",
       "      <td>337</td>\n",
       "      <td>0</td>\n",
       "      <td>0</td>\n",
       "    </tr>\n",
       "    <tr>\n",
       "      <td>7041</td>\n",
       "      <td>0</td>\n",
       "      <td>1</td>\n",
       "      <td>74.40</td>\n",
       "      <td>306.60</td>\n",
       "      <td>1</td>\n",
       "      <td>123</td>\n",
       "      <td>0</td>\n",
       "      <td>1</td>\n",
       "    </tr>\n",
       "    <tr>\n",
       "      <td>7042</td>\n",
       "      <td>2</td>\n",
       "      <td>2</td>\n",
       "      <td>105.65</td>\n",
       "      <td>6844.50</td>\n",
       "      <td>0</td>\n",
       "      <td>2010</td>\n",
       "      <td>1</td>\n",
       "      <td>1</td>\n",
       "    </tr>\n",
       "  </tbody>\n",
       "</table>\n",
       "<p>7043 rows × 8 columns</p>\n",
       "</div>"
      ],
      "text/plain": [
       "      Type  PaymentMethod  MonthlyCharges  TotalCharges  outflow  lifetime  \\\n",
       "0        0              0           29.85         29.85        0        31   \n",
       "1        1              1           56.95       1889.50        0      1036   \n",
       "2        0              1           53.85        108.15        1        61   \n",
       "3        1              2           42.30       1840.75        0      1371   \n",
       "4        0              0           70.70        151.65        1        61   \n",
       "...    ...            ...             ...           ...      ...       ...   \n",
       "7038     1              1           84.80       1990.50        0       730   \n",
       "7039     1              3          103.20       7362.90        0      2191   \n",
       "7040     0              0           29.60        346.45        0       337   \n",
       "7041     0              1           74.40        306.60        1       123   \n",
       "7042     2              2          105.65       6844.50        0      2010   \n",
       "\n",
       "      Partner  Dependents  \n",
       "0           0           1  \n",
       "1           1           1  \n",
       "2           1           1  \n",
       "3           1           1  \n",
       "4           1           1  \n",
       "...       ...         ...  \n",
       "7038        0           0  \n",
       "7039        0           0  \n",
       "7040        0           0  \n",
       "7041        0           1  \n",
       "7042        1           1  \n",
       "\n",
       "[7043 rows x 8 columns]"
      ]
     },
     "metadata": {},
     "output_type": "display_data"
    }
   ],
   "source": [
    "display(data)"
   ]
  },
  {
   "cell_type": "markdown",
   "metadata": {},
   "source": [
    "Вернем категориальным признакам из нашей таблице \"строковый\" формат. Это делается для тестирования встроенной кодировки категориальных признаков модели CatBoostClassifier."
   ]
  },
  {
   "cell_type": "code",
   "execution_count": 87,
   "metadata": {},
   "outputs": [],
   "source": [
    "data['Type'] = data['Type'].astype('str')\n",
    "data['PaymentMethod'] = data['PaymentMethod'].astype('str')\n",
    "data['Partner'] = data['Partner'].astype('str')\n",
    "data['Dependents'] = data['Dependents'].astype('str')"
   ]
  },
  {
   "cell_type": "markdown",
   "metadata": {},
   "source": [
    "#### Разделение на признаки и целевой признак, тестовые данные и обучающие, определение категориальных признаков"
   ]
  },
  {
   "cell_type": "code",
   "execution_count": 88,
   "metadata": {},
   "outputs": [],
   "source": [
    "cat_features = ['Type', 'PaymentMethod', 'Partner',\n",
    "                'Dependents']"
   ]
  },
  {
   "cell_type": "code",
   "execution_count": 89,
   "metadata": {},
   "outputs": [],
   "source": [
    "df, dtest = train_test_split(data, test_size=0.2, random_state=12345)"
   ]
  },
  {
   "cell_type": "code",
   "execution_count": 90,
   "metadata": {},
   "outputs": [],
   "source": [
    "target_test = dtest['outflow']\n",
    "features_test = dtest.drop('outflow', axis=1)"
   ]
  },
  {
   "cell_type": "code",
   "execution_count": 91,
   "metadata": {},
   "outputs": [],
   "source": [
    "features_train, features_valid, target_train, target_valid = train_test_split(\n",
    "    df.drop('outflow', axis=1), df['outflow'], test_size=0.22, random_state=1276345)"
   ]
  },
  {
   "cell_type": "markdown",
   "metadata": {},
   "source": [
    "#### Обучение модели"
   ]
  },
  {
   "cell_type": "code",
   "execution_count": 92,
   "metadata": {},
   "outputs": [
    {
     "name": "stdout",
     "output_type": "stream",
     "text": [
      "0:\tlearn: 0.5423037\ttotal: 4.17ms\tremaining: 1.07s\n",
      "50:\tlearn: 0.3318655\ttotal: 782ms\tremaining: 3.17s\n",
      "100:\tlearn: 0.2819052\ttotal: 1.75s\tremaining: 2.73s\n",
      "150:\tlearn: 0.2533571\ttotal: 2.65s\tremaining: 1.87s\n",
      "200:\tlearn: 0.2274303\ttotal: 3.62s\tremaining: 1.03s\n",
      "250:\tlearn: 0.2099701\ttotal: 4.42s\tremaining: 123ms\n",
      "257:\tlearn: 0.2070112\ttotal: 4.61s\tremaining: 0us\n"
     ]
    }
   ],
   "source": [
    "model = CatBoostClassifier(loss_function=\"Logloss\", iterations=258, learning_rate=0.3, max_depth=4, random_seed=12345)\n",
    "model.fit(features_train, target_train, cat_features=cat_features, verbose=50)\n",
    "\n",
    "probabilities_valid = model.predict_proba(features_valid)\n",
    "probabilities_one_valid = probabilities_valid[:, 1]"
   ]
  },
  {
   "cell_type": "code",
   "execution_count": 93,
   "metadata": {},
   "outputs": [
    {
     "data": {
      "image/png": "[encoded data removed]",
      "text/plain": [
       "<Figure size 432x288 with 1 Axes>"
      ]
     },
     "metadata": {
      "needs_background": "light"
     },
     "output_type": "display_data"
    }
   ],
   "source": [
    "fpr, tpr, thresholds = roc_curve(target_valid, probabilities_one_valid)\n",
    "\n",
    "plt.figure()\n",
    "plt.plot(fpr, tpr)\n",
    "plt.xlim([0.0, 1.0])\n",
    "plt.ylim([0.0, 1.0])\n",
    "plt.xlabel('False Positive Rate')\n",
    "plt.ylabel('True Positive Rate')\n",
    "plt.title('ROC-кривая')\n",
    "plt.show() \n"
   ]
  },
  {
   "cell_type": "markdown",
   "metadata": {},
   "source": [
    "#### Значение метрики на валидации:"
   ]
  },
  {
   "cell_type": "code",
   "execution_count": 94,
   "metadata": {},
   "outputs": [
    {
     "name": "stdout",
     "output_type": "stream",
     "text": [
      "0.9076195826645266\n"
     ]
    }
   ],
   "source": [
    "print(roc_auc_score(target_valid, probabilities_one_valid))"
   ]
  },
  {
   "cell_type": "markdown",
   "metadata": {},
   "source": [
    "#### Визуализация важности признаков для нашей модели"
   ]
  },
  {
   "cell_type": "code",
   "execution_count": 95,
   "metadata": {},
   "outputs": [
    {
     "name": "stdout",
     "output_type": "stream",
     "text": [
      "/bin/bash: -c: line 0: syntax error near unexpected token `attachment:image.png'\r\n",
      "/bin/bash: -c: line 0: `[image.png](attachment:image.png)'\r\n"
     ]
    },
    {
     "data": {
      "image/png": "[encoded data removed]",
      "text/plain": [
       "<Figure size 432x288 with 1 Axes>"
      ]
     },
     "metadata": {
      "needs_background": "light"
     },
     "output_type": "display_data"
    }
   ],
   "source": [
    "def chart_feature_imp(model):\n",
    "    feature_imp = pd.Series(model.feature_importances_, index=features_valid.columns).sort_values(ascending=False)\n",
    "\n",
    "    ax = sns.barplot(x=feature_imp, y=feature_imp.index)\n",
    "    _ = ax.set(xlabel='Оценка важности признаков', ylabel='Признаки')\n",
    "    _ = ax.set_title('Визуализация важности признаков')\n",
    "\n",
    "chart_feature_imp(model)\n",
    "![image.png](attachment:image.png)"
   ]
  },
  {
   "cell_type": "markdown",
   "metadata": {},
   "source": [
    "#### Проверка на тесте"
   ]
  },
  {
   "cell_type": "code",
   "execution_count": 96,
   "metadata": {},
   "outputs": [
    {
     "name": "stdout",
     "output_type": "stream",
     "text": [
      "0.9158938955350051\n"
     ]
    }
   ],
   "source": [
    "probabilities_test = model.predict_proba(features_test)\n",
    "probabilities_one_test = probabilities_test[:, 1]\n",
    "print(roc_auc_score(target_test, probabilities_one_test))"
   ]
  },
  {
   "cell_type": "markdown",
   "metadata": {},
   "source": [
    "### GridSearchCV для CatBoostClassifier со встроенным кодированием (определение гиперпараметров)"
   ]
  },
  {
   "cell_type": "code",
   "execution_count": 97,
   "metadata": {},
   "outputs": [],
   "source": [
    "CBC_model = CatBoostClassifier(random_state=12345, silent=True)"
   ]
  },
  {
   "cell_type": "code",
   "execution_count": 98,
   "metadata": {},
   "outputs": [],
   "source": [
    "parameters = {\n",
    "        'iterations':range(255,259,1),\n",
    "        'max_depth':range(3,5,1),\n",
    "        'learning_rate': [0.3]\n",
    "        }"
   ]
  },
  {
   "cell_type": "code",
   "execution_count": 99,
   "metadata": {},
   "outputs": [],
   "source": [
    "grid = GridSearchCV(CBC_model, param_grid=parameters, scoring='roc_auc', \n",
    "                   cv=3, verbose=True, n_jobs=-1)"
   ]
  },
  {
   "cell_type": "code",
   "execution_count": 100,
   "metadata": {},
   "outputs": [
    {
     "name": "stdout",
     "output_type": "stream",
     "text": [
      "Fitting 3 folds for each of 8 candidates, totalling 24 fits\n"
     ]
    },
    {
     "name": "stderr",
     "output_type": "stream",
     "text": [
      "[Parallel(n_jobs=-1)]: Using backend SequentialBackend with 1 concurrent workers.\n",
      "[Parallel(n_jobs=-1)]: Done  24 out of  24 | elapsed:  1.7min finished\n"
     ]
    },
    {
     "data": {
      "text/plain": [
       "GridSearchCV(cv=3, error_score='raise-deprecating',\n",
       "             estimator=<catboost.core.CatBoostClassifier object at 0x7f1545332390>,\n",
       "             iid='warn', n_jobs=-1,\n",
       "             param_grid={'iterations': range(255, 259), 'learning_rate': [0.3],\n",
       "                         'max_depth': range(3, 5)},\n",
       "             pre_dispatch='2*n_jobs', refit=True, return_train_score=False,\n",
       "             scoring='roc_auc', verbose=True)"
      ]
     },
     "execution_count": 100,
     "metadata": {},
     "output_type": "execute_result"
    }
   ],
   "source": [
    "grid.fit(features_train, target_train, cat_features=cat_features)"
   ]
  },
  {
   "cell_type": "code",
   "execution_count": 101,
   "metadata": {},
   "outputs": [],
   "source": [
    "best = grid.best_params_"
   ]
  },
  {
   "cell_type": "code",
   "execution_count": 102,
   "metadata": {},
   "outputs": [
    {
     "name": "stdout",
     "output_type": "stream",
     "text": [
      "{'iterations': 258, 'learning_rate': 0.3, 'max_depth': 4}\n"
     ]
    }
   ],
   "source": [
    "print(best)"
   ]
  },
  {
   "cell_type": "markdown",
   "metadata": {},
   "source": [
    "### Построим модель CatBoostClassifier с кодированием признаков с помощью TargetEncoder."
   ]
  },
  {
   "cell_type": "code",
   "execution_count": 103,
   "metadata": {},
   "outputs": [],
   "source": [
    "encoder = ce.TargetEncoder()"
   ]
  },
  {
   "cell_type": "code",
   "execution_count": 104,
   "metadata": {},
   "outputs": [],
   "source": [
    "data[['Type', 'PaymentMethod', 'Partner', 'Dependents']] = encoder.fit_transform(data[['Type', 'PaymentMethod', 'Partner', 'Dependents']], data['outflow'])"
   ]
  },
  {
   "cell_type": "code",
   "execution_count": 105,
   "metadata": {},
   "outputs": [
    {
     "data": {
      "text/html": [
       "<div>\n",
       "<style scoped>\n",
       "    .dataframe tbody tr th:only-of-type {\n",
       "        vertical-align: middle;\n",
       "    }\n",
       "\n",
       "    .dataframe tbody tr th {\n",
       "        vertical-align: top;\n",
       "    }\n",
       "\n",
       "    .dataframe thead th {\n",
       "        text-align: right;\n",
       "    }\n",
       "</style>\n",
       "<table border=\"1\" class=\"dataframe\">\n",
       "  <thead>\n",
       "    <tr style=\"text-align: right;\">\n",
       "      <th></th>\n",
       "      <th>Type</th>\n",
       "      <th>PaymentMethod</th>\n",
       "      <th>MonthlyCharges</th>\n",
       "      <th>TotalCharges</th>\n",
       "      <th>outflow</th>\n",
       "      <th>lifetime</th>\n",
       "      <th>Partner</th>\n",
       "      <th>Dependents</th>\n",
       "    </tr>\n",
       "  </thead>\n",
       "  <tbody>\n",
       "    <tr>\n",
       "      <td>0</td>\n",
       "      <td>0.427097</td>\n",
       "      <td>0.452854</td>\n",
       "      <td>29.85</td>\n",
       "      <td>29.85</td>\n",
       "      <td>0</td>\n",
       "      <td>31</td>\n",
       "      <td>0.196649</td>\n",
       "      <td>0.312791</td>\n",
       "    </tr>\n",
       "    <tr>\n",
       "      <td>1</td>\n",
       "      <td>0.112695</td>\n",
       "      <td>0.191067</td>\n",
       "      <td>56.95</td>\n",
       "      <td>1889.50</td>\n",
       "      <td>0</td>\n",
       "      <td>1036</td>\n",
       "      <td>0.329580</td>\n",
       "      <td>0.312791</td>\n",
       "    </tr>\n",
       "    <tr>\n",
       "      <td>2</td>\n",
       "      <td>0.427097</td>\n",
       "      <td>0.191067</td>\n",
       "      <td>53.85</td>\n",
       "      <td>108.15</td>\n",
       "      <td>1</td>\n",
       "      <td>61</td>\n",
       "      <td>0.329580</td>\n",
       "      <td>0.312791</td>\n",
       "    </tr>\n",
       "    <tr>\n",
       "      <td>3</td>\n",
       "      <td>0.112695</td>\n",
       "      <td>0.167098</td>\n",
       "      <td>42.30</td>\n",
       "      <td>1840.75</td>\n",
       "      <td>0</td>\n",
       "      <td>1371</td>\n",
       "      <td>0.329580</td>\n",
       "      <td>0.312791</td>\n",
       "    </tr>\n",
       "    <tr>\n",
       "      <td>4</td>\n",
       "      <td>0.427097</td>\n",
       "      <td>0.452854</td>\n",
       "      <td>70.70</td>\n",
       "      <td>151.65</td>\n",
       "      <td>1</td>\n",
       "      <td>61</td>\n",
       "      <td>0.329580</td>\n",
       "      <td>0.312791</td>\n",
       "    </tr>\n",
       "    <tr>\n",
       "      <td>...</td>\n",
       "      <td>...</td>\n",
       "      <td>...</td>\n",
       "      <td>...</td>\n",
       "      <td>...</td>\n",
       "      <td>...</td>\n",
       "      <td>...</td>\n",
       "      <td>...</td>\n",
       "      <td>...</td>\n",
       "    </tr>\n",
       "    <tr>\n",
       "      <td>7038</td>\n",
       "      <td>0.112695</td>\n",
       "      <td>0.191067</td>\n",
       "      <td>84.80</td>\n",
       "      <td>1990.50</td>\n",
       "      <td>0</td>\n",
       "      <td>730</td>\n",
       "      <td>0.196649</td>\n",
       "      <td>0.154502</td>\n",
       "    </tr>\n",
       "    <tr>\n",
       "      <td>7039</td>\n",
       "      <td>0.112695</td>\n",
       "      <td>0.152431</td>\n",
       "      <td>103.20</td>\n",
       "      <td>7362.90</td>\n",
       "      <td>0</td>\n",
       "      <td>2191</td>\n",
       "      <td>0.196649</td>\n",
       "      <td>0.154502</td>\n",
       "    </tr>\n",
       "    <tr>\n",
       "      <td>7040</td>\n",
       "      <td>0.427097</td>\n",
       "      <td>0.452854</td>\n",
       "      <td>29.60</td>\n",
       "      <td>346.45</td>\n",
       "      <td>0</td>\n",
       "      <td>337</td>\n",
       "      <td>0.196649</td>\n",
       "      <td>0.154502</td>\n",
       "    </tr>\n",
       "    <tr>\n",
       "      <td>7041</td>\n",
       "      <td>0.427097</td>\n",
       "      <td>0.191067</td>\n",
       "      <td>74.40</td>\n",
       "      <td>306.60</td>\n",
       "      <td>1</td>\n",
       "      <td>123</td>\n",
       "      <td>0.196649</td>\n",
       "      <td>0.312791</td>\n",
       "    </tr>\n",
       "    <tr>\n",
       "      <td>7042</td>\n",
       "      <td>0.028319</td>\n",
       "      <td>0.167098</td>\n",
       "      <td>105.65</td>\n",
       "      <td>6844.50</td>\n",
       "      <td>0</td>\n",
       "      <td>2010</td>\n",
       "      <td>0.329580</td>\n",
       "      <td>0.312791</td>\n",
       "    </tr>\n",
       "  </tbody>\n",
       "</table>\n",
       "<p>7043 rows × 8 columns</p>\n",
       "</div>"
      ],
      "text/plain": [
       "          Type  PaymentMethod  MonthlyCharges  TotalCharges  outflow  \\\n",
       "0     0.427097       0.452854           29.85         29.85        0   \n",
       "1     0.112695       0.191067           56.95       1889.50        0   \n",
       "2     0.427097       0.191067           53.85        108.15        1   \n",
       "3     0.112695       0.167098           42.30       1840.75        0   \n",
       "4     0.427097       0.452854           70.70        151.65        1   \n",
       "...        ...            ...             ...           ...      ...   \n",
       "7038  0.112695       0.191067           84.80       1990.50        0   \n",
       "7039  0.112695       0.152431          103.20       7362.90        0   \n",
       "7040  0.427097       0.452854           29.60        346.45        0   \n",
       "7041  0.427097       0.191067           74.40        306.60        1   \n",
       "7042  0.028319       0.167098          105.65       6844.50        0   \n",
       "\n",
       "      lifetime   Partner  Dependents  \n",
       "0           31  0.196649    0.312791  \n",
       "1         1036  0.329580    0.312791  \n",
       "2           61  0.329580    0.312791  \n",
       "3         1371  0.329580    0.312791  \n",
       "4           61  0.329580    0.312791  \n",
       "...        ...       ...         ...  \n",
       "7038       730  0.196649    0.154502  \n",
       "7039      2191  0.196649    0.154502  \n",
       "7040       337  0.196649    0.154502  \n",
       "7041       123  0.196649    0.312791  \n",
       "7042      2010  0.329580    0.312791  \n",
       "\n",
       "[7043 rows x 8 columns]"
      ]
     },
     "metadata": {},
     "output_type": "display_data"
    }
   ],
   "source": [
    "display(data)"
   ]
  },
  {
   "cell_type": "code",
   "execution_count": 106,
   "metadata": {},
   "outputs": [],
   "source": [
    "df, dtest = train_test_split(data, test_size=0.2, random_state=12345)"
   ]
  },
  {
   "cell_type": "code",
   "execution_count": 107,
   "metadata": {},
   "outputs": [],
   "source": [
    "target_test = dtest['outflow']\n",
    "features_test = dtest.drop('outflow', axis=1)"
   ]
  },
  {
   "cell_type": "code",
   "execution_count": 108,
   "metadata": {},
   "outputs": [],
   "source": [
    "features_train, features_valid, target_train, target_valid = train_test_split(\n",
    "    df.drop('outflow', axis=1), df['outflow'], test_size=0.22, random_state=1276345)"
   ]
  },
  {
   "cell_type": "code",
   "execution_count": 109,
   "metadata": {},
   "outputs": [
    {
     "name": "stdout",
     "output_type": "stream",
     "text": [
      "0:\tlearn: 0.6288902\ttotal: 4.33ms\tremaining: 1.07s\n",
      "50:\tlearn: 0.3542352\ttotal: 626ms\tremaining: 2.42s\n",
      "100:\tlearn: 0.3139794\ttotal: 1.41s\tremaining: 2.05s\n",
      "150:\tlearn: 0.2779988\ttotal: 2.1s\tremaining: 1.35s\n",
      "200:\tlearn: 0.2526488\ttotal: 2.8s\tremaining: 654ms\n",
      "247:\tlearn: 0.2310701\ttotal: 3.48s\tremaining: 0us\n"
     ]
    }
   ],
   "source": [
    "model = CatBoostClassifier(loss_function=\"Logloss\", iterations=248, learning_rate=0.1, random_seed=12345)\n",
    "model.fit(features_train, target_train, verbose=50)\n",
    "\n",
    "probabilities_valid = model.predict_proba(features_valid)\n",
    "probabilities_one_valid = probabilities_valid[:, 1]"
   ]
  },
  {
   "cell_type": "code",
   "execution_count": 110,
   "metadata": {
    "scrolled": true
   },
   "outputs": [
    {
     "data": {
      "image/png": "[encoded data removed]",
      "text/plain": [
       "<Figure size 432x288 with 1 Axes>"
      ]
     },
     "metadata": {
      "needs_background": "light"
     },
     "output_type": "display_data"
    }
   ],
   "source": [
    "fpr, tpr, thresholds = roc_curve(target_valid, probabilities_one_valid)\n",
    "\n",
    "plt.figure()\n",
    "plt.plot(fpr, tpr)\n",
    "plt.xlim([0.0, 1.0])\n",
    "plt.ylim([0.0, 1.0])\n",
    "plt.xlabel('False Positive Rate')\n",
    "plt.ylabel('True Positive Rate')\n",
    "plt.title('ROC-кривая')\n",
    "plt.show() "
   ]
  },
  {
   "cell_type": "markdown",
   "metadata": {},
   "source": [
    "#### Значение метрики на валидации:"
   ]
  },
  {
   "cell_type": "code",
   "execution_count": 111,
   "metadata": {},
   "outputs": [
    {
     "name": "stdout",
     "output_type": "stream",
     "text": [
      "0.8954847512038524\n"
     ]
    }
   ],
   "source": [
    "print(roc_auc_score(target_valid, probabilities_one_valid))"
   ]
  },
  {
   "cell_type": "markdown",
   "metadata": {},
   "source": [
    "#### Визуализация важности признаков для нашей модели\n"
   ]
  },
  {
   "cell_type": "code",
   "execution_count": 112,
   "metadata": {},
   "outputs": [
    {
     "name": "stdout",
     "output_type": "stream",
     "text": [
      "/bin/bash: -c: line 0: syntax error near unexpected token `attachment:image.png'\r\n",
      "/bin/bash: -c: line 0: `[image.png](attachment:image.png)'\r\n"
     ]
    },
    {
     "data": {
      "image/png": "[encoded data removed]",
      "text/plain": [
       "<Figure size 432x288 with 1 Axes>"
      ]
     },
     "metadata": {
      "needs_background": "light"
     },
     "output_type": "display_data"
    }
   ],
   "source": [
    "def chart_feature_imp(model):\n",
    "    feature_imp = pd.Series(model.feature_importances_, index=features_valid.columns).sort_values(ascending=False)\n",
    "\n",
    "    ax = sns.barplot(x=feature_imp, y=feature_imp.index)\n",
    "    _ = ax.set(xlabel='Оценка важности признаков', ylabel='Признаки')\n",
    "    _ = ax.set_title('Визуализация важности признаков')\n",
    "\n",
    "chart_feature_imp(model)\n",
    "![image.png](attachment:image.png)"
   ]
  },
  {
   "cell_type": "markdown",
   "metadata": {},
   "source": [
    "#### Значение метрики на тесте"
   ]
  },
  {
   "cell_type": "code",
   "execution_count": 113,
   "metadata": {},
   "outputs": [
    {
     "name": "stdout",
     "output_type": "stream",
     "text": [
      "0.904060250531547\n"
     ]
    }
   ],
   "source": [
    "probabilities_test = model.predict_proba(features_test)\n",
    "probabilities_one_test = probabilities_test[:, 1]\n",
    "print(roc_auc_score(target_test, probabilities_one_test))"
   ]
  },
  {
   "cell_type": "markdown",
   "metadata": {},
   "source": [
    "### RandomForestClassifier с GridSearchCV для поиска оптимальных гиперпараметров"
   ]
  },
  {
   "cell_type": "code",
   "execution_count": 114,
   "metadata": {},
   "outputs": [],
   "source": [
    "features_train = df.drop('outflow', axis=1)\n",
    "target_train = df['outflow']"
   ]
  },
  {
   "cell_type": "code",
   "execution_count": 115,
   "metadata": {},
   "outputs": [],
   "source": [
    "clf = RandomForestClassifier()"
   ]
  },
  {
   "cell_type": "code",
   "execution_count": 116,
   "metadata": {},
   "outputs": [],
   "source": [
    "parametrs = { 'n_estimators': range (10, 51, 10),\n",
    "              'max_depth': range (1,13, 2),\n",
    "              'min_samples_leaf': range (1,8),\n",
    "              'min_samples_split': range (2,10,2) }"
   ]
  },
  {
   "cell_type": "code",
   "execution_count": 117,
   "metadata": {},
   "outputs": [
    {
     "data": {
      "text/plain": [
       "GridSearchCV(cv=5, error_score='raise-deprecating',\n",
       "             estimator=RandomForestClassifier(bootstrap=True, class_weight=None,\n",
       "                                              criterion='gini', max_depth=None,\n",
       "                                              max_features='auto',\n",
       "                                              max_leaf_nodes=None,\n",
       "                                              min_impurity_decrease=0.0,\n",
       "                                              min_impurity_split=None,\n",
       "                                              min_samples_leaf=1,\n",
       "                                              min_samples_split=2,\n",
       "                                              min_weight_fraction_leaf=0.0,\n",
       "                                              n_estimators='warn', n_jobs=None,\n",
       "                                              oob_score=False,\n",
       "                                              random_state=None, verbose=0,\n",
       "                                              warm_start=False),\n",
       "             iid='warn', n_jobs=None,\n",
       "             param_grid={'max_depth': range(1, 13, 2),\n",
       "                         'min_samples_leaf': range(1, 8),\n",
       "                         'min_samples_split': range(2, 10, 2),\n",
       "                         'n_estimators': range(10, 51, 10)},\n",
       "             pre_dispatch='2*n_jobs', refit=True, return_train_score=False,\n",
       "             scoring='roc_auc', verbose=0)"
      ]
     },
     "execution_count": 117,
     "metadata": {},
     "output_type": "execute_result"
    }
   ],
   "source": [
    "grid = GridSearchCV(clf, parametrs, cv=5, scoring='roc_auc')\n",
    "grid.fit(features_train, target_train)"
   ]
  },
  {
   "cell_type": "code",
   "execution_count": 118,
   "metadata": {},
   "outputs": [
    {
     "data": {
      "text/plain": [
       "{'max_depth': 9,\n",
       " 'min_samples_leaf': 1,\n",
       " 'min_samples_split': 4,\n",
       " 'n_estimators': 50}"
      ]
     },
     "execution_count": 118,
     "metadata": {},
     "output_type": "execute_result"
    }
   ],
   "source": [
    "grid.best_params_"
   ]
  },
  {
   "cell_type": "markdown",
   "metadata": {},
   "source": [
    "### Обучение модели с подобранными оптимальными гиперпараметрами "
   ]
  },
  {
   "cell_type": "code",
   "execution_count": 119,
   "metadata": {},
   "outputs": [],
   "source": [
    "model = RandomForestClassifier(max_depth=9, min_samples_leaf=2, min_samples_split=6, n_estimators=50, random_state=12345)\n",
    "model.fit(features_train, target_train)\n",
    "\n",
    "probabilities_valid = model.predict_proba(features_valid)\n",
    "probabilities_one_valid = probabilities_valid[:, 1]"
   ]
  },
  {
   "cell_type": "code",
   "execution_count": 120,
   "metadata": {},
   "outputs": [
    {
     "data": {
      "image/png": "[encoded data removed]",
      "text/plain": [
       "<Figure size 432x288 with 1 Axes>"
      ]
     },
     "metadata": {
      "needs_background": "light"
     },
     "output_type": "display_data"
    }
   ],
   "source": [
    "fpr, tpr, thresholds = roc_curve(target_valid, probabilities_one_valid)\n",
    "\n",
    "plt.figure()\n",
    "plt.plot(fpr, tpr)\n",
    "plt.xlim([0.0, 1.0])\n",
    "plt.ylim([0.0, 1.0])\n",
    "plt.xlabel('False Positive Rate')\n",
    "plt.ylabel('True Positive Rate')\n",
    "plt.title('ROC-кривая')\n",
    "plt.show() "
   ]
  },
  {
   "cell_type": "markdown",
   "metadata": {},
   "source": [
    "#### Метрика на валидации"
   ]
  },
  {
   "cell_type": "code",
   "execution_count": 121,
   "metadata": {},
   "outputs": [
    {
     "name": "stdout",
     "output_type": "stream",
     "text": [
      "0.917199036918138\n"
     ]
    }
   ],
   "source": [
    "print(roc_auc_score(target_valid, probabilities_one_valid))"
   ]
  },
  {
   "cell_type": "markdown",
   "metadata": {},
   "source": [
    "#### Визуализация важности признаков"
   ]
  },
  {
   "cell_type": "code",
   "execution_count": 122,
   "metadata": {},
   "outputs": [
    {
     "name": "stdout",
     "output_type": "stream",
     "text": [
      "/bin/bash: -c: line 0: syntax error near unexpected token `attachment:image.png'\r\n",
      "/bin/bash: -c: line 0: `[image.png](attachment:image.png)'\r\n"
     ]
    },
    {
     "data": {
      "image/png": "[encoded data removed]",
      "text/plain": [
       "<Figure size 432x288 with 1 Axes>"
      ]
     },
     "metadata": {
      "needs_background": "light"
     },
     "output_type": "display_data"
    }
   ],
   "source": [
    "def chart_feature_imp(model):\n",
    "    feature_imp = pd.Series(model.feature_importances_, index=features_valid.columns).sort_values(ascending=False)\n",
    "\n",
    "    ax = sns.barplot(x=feature_imp, y=feature_imp.index)\n",
    "    _ = ax.set(xlabel='Оценка важности признаков', ylabel='Признаки')\n",
    "    _ = ax.set_title('Визуализация важности признаков')\n",
    "\n",
    "chart_feature_imp(model)\n",
    "![image.png](attachment:image.png)"
   ]
  },
  {
   "cell_type": "markdown",
   "metadata": {},
   "source": [
    "#### Метрика на тесте"
   ]
  },
  {
   "cell_type": "code",
   "execution_count": 123,
   "metadata": {},
   "outputs": [
    {
     "name": "stdout",
     "output_type": "stream",
     "text": [
      "0.8571906140328407\n"
     ]
    }
   ],
   "source": [
    "probabilities_test = model.predict_proba(features_test)\n",
    "probabilities_one_test = probabilities_test[:, 1]\n",
    "print(roc_auc_score(target_test, probabilities_one_test))"
   ]
  },
  {
   "cell_type": "markdown",
   "metadata": {},
   "source": [
    "## Вывод\n",
    "\n",
    "Лучшая модель, согласно метрики roc-auc, это CatBoostClassifier со встроенным кодированием признаков."
   ]
  },
  {
   "cell_type": "markdown",
   "metadata": {},
   "source": [
    "## Отчет по решению"
   ]
  },
  {
   "cell_type": "code",
   "execution_count": null,
   "metadata": {},
   "outputs": [],
   "source": []
  },
  {
   "cell_type": "markdown",
   "metadata": {},
   "source": [
    "1. Удалось загрузить и обработать данные, найти пропуски и заменить их подходящими значениями.\n",
    "2. Проведена оценка корреляции данных, предварительно выбраны признаки, наиболее подходящие для обучкния модели. Также признаки, формирующие лики данных - удалены.\n",
    "3. Сформирован новый признак для предсказания модели.\n",
    "4. Построен ряд моделей с различным принципом кодирования данных.\n",
    "5. Построено графическое отображение метрики полноты и точности каждой из моделей. Построено графическое отображение важности признаков модели для предсказания. \n",
    "6. Проведен поиск гиперпараметров моделей с помощью Grid SearchCV.\n",
    "7. Найдена метрика roc-auc лучше модели на тестовых данных: 0.9158938955350051\n",
    "8. Вот такие дела."
   ]
  }
 ],
 "metadata": {
  "ExecuteTimeLog": [
   {
    "duration": 323,
    "start_time": "2022-03-04T11:07:04.794Z"
   },
   {
    "duration": 747,
    "start_time": "2022-03-04T11:07:07.000Z"
   },
   {
    "duration": 42,
    "start_time": "2022-03-04T11:07:08.148Z"
   },
   {
    "duration": 715,
    "start_time": "2022-03-04T11:20:06.672Z"
   },
   {
    "duration": 37,
    "start_time": "2022-03-04T11:20:07.834Z"
   },
   {
    "duration": 33,
    "start_time": "2022-03-04T11:20:08.338Z"
   },
   {
    "duration": 12,
    "start_time": "2022-03-04T11:20:08.952Z"
   },
   {
    "duration": 285,
    "start_time": "2022-03-04T11:21:05.477Z"
   },
   {
    "duration": 15,
    "start_time": "2022-03-04T11:21:20.787Z"
   },
   {
    "duration": 236,
    "start_time": "2022-03-04T11:22:31.209Z"
   },
   {
    "duration": 9,
    "start_time": "2022-03-04T11:23:58.662Z"
   },
   {
    "duration": 6,
    "start_time": "2022-03-04T11:26:43.304Z"
   },
   {
    "duration": 743,
    "start_time": "2022-03-04T11:26:50.485Z"
   },
   {
    "duration": 38,
    "start_time": "2022-03-04T11:26:51.348Z"
   },
   {
    "duration": 37,
    "start_time": "2022-03-04T11:26:51.703Z"
   },
   {
    "duration": 17,
    "start_time": "2022-03-04T11:26:51.994Z"
   },
   {
    "duration": 21,
    "start_time": "2022-03-04T11:26:52.683Z"
   },
   {
    "duration": 8,
    "start_time": "2022-03-04T11:26:53.066Z"
   },
   {
    "duration": 8,
    "start_time": "2022-03-04T11:26:56.954Z"
   },
   {
    "duration": 11,
    "start_time": "2022-03-04T11:27:20.011Z"
   },
   {
    "duration": 7,
    "start_time": "2022-03-04T11:27:33.087Z"
   },
   {
    "duration": 7,
    "start_time": "2022-03-04T11:28:07.427Z"
   },
   {
    "duration": 721,
    "start_time": "2022-03-04T11:33:28.848Z"
   },
   {
    "duration": 38,
    "start_time": "2022-03-04T11:33:29.572Z"
   },
   {
    "duration": 34,
    "start_time": "2022-03-04T11:33:29.806Z"
   },
   {
    "duration": 14,
    "start_time": "2022-03-04T11:33:30.058Z"
   },
   {
    "duration": 16,
    "start_time": "2022-03-04T11:33:30.264Z"
   },
   {
    "duration": 7,
    "start_time": "2022-03-04T11:33:30.503Z"
   },
   {
    "duration": 11,
    "start_time": "2022-03-04T11:33:30.772Z"
   },
   {
    "duration": 6,
    "start_time": "2022-03-04T11:33:31.203Z"
   },
   {
    "duration": 6,
    "start_time": "2022-03-04T11:33:31.468Z"
   },
   {
    "duration": 111,
    "start_time": "2022-03-04T11:33:31.892Z"
   },
   {
    "duration": 25,
    "start_time": "2022-03-04T11:33:32.501Z"
   },
   {
    "duration": 676,
    "start_time": "2022-03-04T11:34:06.613Z"
   },
   {
    "duration": 36,
    "start_time": "2022-03-04T11:34:07.292Z"
   },
   {
    "duration": 32,
    "start_time": "2022-03-04T11:34:07.399Z"
   },
   {
    "duration": 13,
    "start_time": "2022-03-04T11:34:07.609Z"
   },
   {
    "duration": 15,
    "start_time": "2022-03-04T11:34:07.888Z"
   },
   {
    "duration": 6,
    "start_time": "2022-03-04T11:34:08.327Z"
   },
   {
    "duration": 9,
    "start_time": "2022-03-04T11:34:08.776Z"
   },
   {
    "duration": 6,
    "start_time": "2022-03-04T11:34:09.694Z"
   },
   {
    "duration": 5,
    "start_time": "2022-03-04T11:34:10.066Z"
   },
   {
    "duration": 8,
    "start_time": "2022-03-04T11:34:10.618Z"
   },
   {
    "duration": 67,
    "start_time": "2022-03-04T11:38:42.120Z"
   },
   {
    "duration": 134,
    "start_time": "2022-03-04T11:38:48.648Z"
   },
   {
    "duration": 26,
    "start_time": "2022-03-04T11:38:49.562Z"
   },
   {
    "duration": 9,
    "start_time": "2022-03-04T11:39:10.976Z"
   },
   {
    "duration": 29,
    "start_time": "2022-03-04T11:39:11.476Z"
   },
   {
    "duration": 810,
    "start_time": "2022-03-04T11:40:59.575Z"
   },
   {
    "duration": 41,
    "start_time": "2022-03-04T11:41:00.388Z"
   },
   {
    "duration": 35,
    "start_time": "2022-03-04T11:41:00.432Z"
   },
   {
    "duration": 12,
    "start_time": "2022-03-04T11:41:00.623Z"
   },
   {
    "duration": 15,
    "start_time": "2022-03-04T11:41:00.764Z"
   },
   {
    "duration": 7,
    "start_time": "2022-03-04T11:41:01.182Z"
   },
   {
    "duration": 11,
    "start_time": "2022-03-04T11:41:01.484Z"
   },
   {
    "duration": 8,
    "start_time": "2022-03-04T11:41:01.720Z"
   },
   {
    "duration": 7,
    "start_time": "2022-03-04T11:41:02.001Z"
   },
   {
    "duration": 9,
    "start_time": "2022-03-04T11:41:02.252Z"
   },
   {
    "duration": 124,
    "start_time": "2022-03-04T11:41:02.477Z"
   },
   {
    "duration": 144,
    "start_time": "2022-03-04T11:41:02.702Z"
   },
   {
    "duration": 11,
    "start_time": "2022-03-04T11:41:03.007Z"
   },
   {
    "duration": 33,
    "start_time": "2022-03-04T11:41:04.029Z"
   },
   {
    "duration": 289,
    "start_time": "2022-03-04T11:41:29.371Z"
   },
   {
    "duration": 215,
    "start_time": "2022-03-04T11:42:26.435Z"
   },
   {
    "duration": 12,
    "start_time": "2022-03-04T11:42:30.755Z"
   },
   {
    "duration": 215,
    "start_time": "2022-03-04T11:42:43.708Z"
   },
   {
    "duration": 208,
    "start_time": "2022-03-04T11:44:53.654Z"
   },
   {
    "duration": 6,
    "start_time": "2022-03-04T11:45:39.427Z"
   },
   {
    "duration": 752,
    "start_time": "2022-03-04T11:47:19.775Z"
   },
   {
    "duration": 43,
    "start_time": "2022-03-04T11:47:20.530Z"
   },
   {
    "duration": 31,
    "start_time": "2022-03-04T11:47:20.656Z"
   },
   {
    "duration": 12,
    "start_time": "2022-03-04T11:47:20.887Z"
   },
   {
    "duration": 15,
    "start_time": "2022-03-04T11:47:21.118Z"
   },
   {
    "duration": 6,
    "start_time": "2022-03-04T11:47:21.432Z"
   },
   {
    "duration": 9,
    "start_time": "2022-03-04T11:47:21.662Z"
   },
   {
    "duration": 7,
    "start_time": "2022-03-04T11:47:21.915Z"
   },
   {
    "duration": 6,
    "start_time": "2022-03-04T11:47:22.281Z"
   },
   {
    "duration": 9,
    "start_time": "2022-03-04T11:47:22.559Z"
   },
   {
    "duration": 118,
    "start_time": "2022-03-04T11:47:22.868Z"
   },
   {
    "duration": 138,
    "start_time": "2022-03-04T11:47:23.247Z"
   },
   {
    "duration": 10,
    "start_time": "2022-03-04T11:47:25.094Z"
   },
   {
    "duration": 227,
    "start_time": "2022-03-04T11:47:25.879Z"
   },
   {
    "duration": 13,
    "start_time": "2022-03-04T11:47:27.264Z"
   },
   {
    "duration": 31,
    "start_time": "2022-03-04T11:47:28.373Z"
   },
   {
    "duration": 131,
    "start_time": "2022-03-04T11:51:55.180Z"
   },
   {
    "duration": 6,
    "start_time": "2022-03-04T11:52:01.637Z"
   },
   {
    "duration": 13,
    "start_time": "2022-03-04T11:52:03.563Z"
   },
   {
    "duration": 35,
    "start_time": "2022-03-04T11:52:09.249Z"
   },
   {
    "duration": 790,
    "start_time": "2022-03-04T11:56:54.635Z"
   },
   {
    "duration": 47,
    "start_time": "2022-03-04T11:56:55.454Z"
   },
   {
    "duration": 45,
    "start_time": "2022-03-04T11:56:55.771Z"
   },
   {
    "duration": 16,
    "start_time": "2022-03-04T11:56:55.990Z"
   },
   {
    "duration": 21,
    "start_time": "2022-03-04T11:56:56.197Z"
   },
   {
    "duration": 6,
    "start_time": "2022-03-04T11:56:56.407Z"
   },
   {
    "duration": 9,
    "start_time": "2022-03-04T11:56:56.606Z"
   },
   {
    "duration": 6,
    "start_time": "2022-03-04T11:56:56.814Z"
   },
   {
    "duration": 7,
    "start_time": "2022-03-04T11:56:57.153Z"
   },
   {
    "duration": 8,
    "start_time": "2022-03-04T11:56:57.618Z"
   },
   {
    "duration": 122,
    "start_time": "2022-03-04T11:56:58.083Z"
   },
   {
    "duration": 135,
    "start_time": "2022-03-04T11:56:59.228Z"
   },
   {
    "duration": 10,
    "start_time": "2022-03-04T11:56:59.553Z"
   },
   {
    "duration": 11,
    "start_time": "2022-03-04T11:56:59.938Z"
   },
   {
    "duration": 12,
    "start_time": "2022-03-04T11:57:01.235Z"
   },
   {
    "duration": 23,
    "start_time": "2022-03-04T11:57:04.180Z"
   },
   {
    "duration": 25,
    "start_time": "2022-03-04T11:57:05.110Z"
   },
   {
    "duration": 28,
    "start_time": "2022-03-04T11:57:06.625Z"
   },
   {
    "duration": 18,
    "start_time": "2022-03-04T11:57:06.975Z"
   },
   {
    "duration": 9,
    "start_time": "2022-03-04T12:08:49.892Z"
   },
   {
    "duration": 9,
    "start_time": "2022-03-04T12:11:14.864Z"
   },
   {
    "duration": 7,
    "start_time": "2022-03-04T12:11:34.410Z"
   },
   {
    "duration": 24,
    "start_time": "2022-03-04T12:11:36.390Z"
   },
   {
    "duration": 9,
    "start_time": "2022-03-04T12:11:48.802Z"
   },
   {
    "duration": 10,
    "start_time": "2022-03-04T12:12:19.532Z"
   },
   {
    "duration": 8,
    "start_time": "2022-03-04T12:13:02.059Z"
   },
   {
    "duration": 14,
    "start_time": "2022-03-04T12:13:21.028Z"
   },
   {
    "duration": 6,
    "start_time": "2022-03-04T12:13:53.814Z"
   },
   {
    "duration": 8,
    "start_time": "2022-03-04T12:13:56.940Z"
   },
   {
    "duration": 92,
    "start_time": "2022-03-04T12:14:39.821Z"
   },
   {
    "duration": 28,
    "start_time": "2022-03-04T12:14:49.936Z"
   },
   {
    "duration": 299,
    "start_time": "2022-03-04T12:17:52.328Z"
   },
   {
    "duration": 21,
    "start_time": "2022-03-04T12:17:57.630Z"
   },
   {
    "duration": 9,
    "start_time": "2022-03-04T12:18:12.882Z"
   },
   {
    "duration": 14,
    "start_time": "2022-03-04T12:18:19.116Z"
   },
   {
    "duration": 205,
    "start_time": "2022-03-04T12:18:43.943Z"
   },
   {
    "duration": 6,
    "start_time": "2022-03-04T12:18:46.988Z"
   },
   {
    "duration": 10,
    "start_time": "2022-03-04T12:18:55.445Z"
   },
   {
    "duration": 227,
    "start_time": "2022-03-04T12:19:13.735Z"
   },
   {
    "duration": 8,
    "start_time": "2022-03-04T12:19:50.156Z"
   },
   {
    "duration": 6,
    "start_time": "2022-03-04T12:19:55.978Z"
   },
   {
    "duration": 4,
    "start_time": "2022-03-04T12:20:12.617Z"
   },
   {
    "duration": 6,
    "start_time": "2022-03-04T12:20:17.952Z"
   },
   {
    "duration": 4,
    "start_time": "2022-03-04T12:20:25.621Z"
   },
   {
    "duration": 6,
    "start_time": "2022-03-04T12:20:26.822Z"
   },
   {
    "duration": 6,
    "start_time": "2022-03-04T12:21:46.461Z"
   },
   {
    "duration": 6,
    "start_time": "2022-03-04T12:21:51.724Z"
   },
   {
    "duration": 209,
    "start_time": "2022-03-04T12:22:06.170Z"
   },
   {
    "duration": 6,
    "start_time": "2022-03-04T12:22:17.299Z"
   },
   {
    "duration": 79,
    "start_time": "2022-03-04T12:22:25.619Z"
   },
   {
    "duration": 6,
    "start_time": "2022-03-04T12:22:29.087Z"
   },
   {
    "duration": 10,
    "start_time": "2022-03-04T12:22:53.576Z"
   },
   {
    "duration": 240,
    "start_time": "2022-03-04T12:23:15.201Z"
   },
   {
    "duration": 5,
    "start_time": "2022-03-04T12:23:17.839Z"
   },
   {
    "duration": 713,
    "start_time": "2022-03-04T12:23:24.943Z"
   },
   {
    "duration": 36,
    "start_time": "2022-03-04T12:23:25.658Z"
   },
   {
    "duration": 32,
    "start_time": "2022-03-04T12:23:25.697Z"
   },
   {
    "duration": 12,
    "start_time": "2022-03-04T12:23:25.773Z"
   },
   {
    "duration": 14,
    "start_time": "2022-03-04T12:23:25.864Z"
   },
   {
    "duration": 6,
    "start_time": "2022-03-04T12:23:25.943Z"
   },
   {
    "duration": 8,
    "start_time": "2022-03-04T12:23:26.032Z"
   },
   {
    "duration": 7,
    "start_time": "2022-03-04T12:23:26.112Z"
   },
   {
    "duration": 6,
    "start_time": "2022-03-04T12:23:26.199Z"
   },
   {
    "duration": 9,
    "start_time": "2022-03-04T12:23:26.282Z"
   },
   {
    "duration": 104,
    "start_time": "2022-03-04T12:23:26.366Z"
   },
   {
    "duration": 137,
    "start_time": "2022-03-04T12:23:26.472Z"
   },
   {
    "duration": 9,
    "start_time": "2022-03-04T12:23:26.612Z"
   },
   {
    "duration": 39,
    "start_time": "2022-03-04T12:23:26.623Z"
   },
   {
    "duration": 10,
    "start_time": "2022-03-04T12:23:26.698Z"
   },
   {
    "duration": 9,
    "start_time": "2022-03-04T12:23:26.782Z"
   },
   {
    "duration": 9,
    "start_time": "2022-03-04T12:23:26.866Z"
   },
   {
    "duration": 7,
    "start_time": "2022-03-04T12:23:26.953Z"
   },
   {
    "duration": 8,
    "start_time": "2022-03-04T12:23:27.032Z"
   },
   {
    "duration": 10,
    "start_time": "2022-03-04T12:23:27.115Z"
   },
   {
    "duration": 6,
    "start_time": "2022-03-04T12:23:27.207Z"
   },
   {
    "duration": 15,
    "start_time": "2022-03-04T12:23:27.673Z"
   },
   {
    "duration": 5,
    "start_time": "2022-03-04T12:23:28.774Z"
   },
   {
    "duration": 732,
    "start_time": "2022-03-04T12:23:49.214Z"
   },
   {
    "duration": 44,
    "start_time": "2022-03-04T12:23:50.000Z"
   },
   {
    "duration": 41,
    "start_time": "2022-03-04T12:23:50.156Z"
   },
   {
    "duration": 18,
    "start_time": "2022-03-04T12:23:50.360Z"
   },
   {
    "duration": 14,
    "start_time": "2022-03-04T12:23:50.572Z"
   },
   {
    "duration": 7,
    "start_time": "2022-03-04T12:23:50.784Z"
   },
   {
    "duration": 9,
    "start_time": "2022-03-04T12:23:50.988Z"
   },
   {
    "duration": 6,
    "start_time": "2022-03-04T12:23:51.192Z"
   },
   {
    "duration": 6,
    "start_time": "2022-03-04T12:23:51.417Z"
   },
   {
    "duration": 9,
    "start_time": "2022-03-04T12:23:51.664Z"
   },
   {
    "duration": 111,
    "start_time": "2022-03-04T12:23:51.888Z"
   },
   {
    "duration": 139,
    "start_time": "2022-03-04T12:23:52.100Z"
   },
   {
    "duration": 11,
    "start_time": "2022-03-04T12:23:52.346Z"
   },
   {
    "duration": 12,
    "start_time": "2022-03-04T12:23:52.580Z"
   },
   {
    "duration": 11,
    "start_time": "2022-03-04T12:23:52.806Z"
   },
   {
    "duration": 9,
    "start_time": "2022-03-04T12:23:53.027Z"
   },
   {
    "duration": 10,
    "start_time": "2022-03-04T12:23:53.244Z"
   },
   {
    "duration": 7,
    "start_time": "2022-03-04T12:23:53.564Z"
   },
   {
    "duration": 9,
    "start_time": "2022-03-04T12:23:53.805Z"
   },
   {
    "duration": 10,
    "start_time": "2022-03-04T12:23:54.076Z"
   },
   {
    "duration": 8,
    "start_time": "2022-03-04T12:23:54.326Z"
   },
   {
    "duration": 14,
    "start_time": "2022-03-04T12:23:55.013Z"
   },
   {
    "duration": 24,
    "start_time": "2022-03-04T12:23:55.468Z"
   },
   {
    "duration": 717,
    "start_time": "2022-03-04T12:25:43.878Z"
   },
   {
    "duration": 44,
    "start_time": "2022-03-04T12:25:44.598Z"
   },
   {
    "duration": 51,
    "start_time": "2022-03-04T12:25:44.645Z"
   },
   {
    "duration": 16,
    "start_time": "2022-03-04T12:25:44.713Z"
   },
   {
    "duration": 19,
    "start_time": "2022-03-04T12:25:44.797Z"
   },
   {
    "duration": 6,
    "start_time": "2022-03-04T12:25:44.882Z"
   },
   {
    "duration": 8,
    "start_time": "2022-03-04T12:25:45.097Z"
   },
   {
    "duration": 11,
    "start_time": "2022-03-04T12:25:45.108Z"
   },
   {
    "duration": 7,
    "start_time": "2022-03-04T12:25:45.269Z"
   },
   {
    "duration": 10,
    "start_time": "2022-03-04T12:25:45.279Z"
   },
   {
    "duration": 118,
    "start_time": "2022-03-04T12:25:45.298Z"
   },
   {
    "duration": 149,
    "start_time": "2022-03-04T12:25:45.419Z"
   },
   {
    "duration": 15,
    "start_time": "2022-03-04T12:25:45.570Z"
   },
   {
    "duration": 13,
    "start_time": "2022-03-04T12:25:45.588Z"
   },
   {
    "duration": 11,
    "start_time": "2022-03-04T12:25:45.632Z"
   },
   {
    "duration": 9,
    "start_time": "2022-03-04T12:25:45.716Z"
   },
   {
    "duration": 10,
    "start_time": "2022-03-04T12:25:45.798Z"
   },
   {
    "duration": 6,
    "start_time": "2022-03-04T12:25:45.887Z"
   },
   {
    "duration": 8,
    "start_time": "2022-03-04T12:25:45.967Z"
   },
   {
    "duration": 9,
    "start_time": "2022-03-04T12:25:46.049Z"
   },
   {
    "duration": 8,
    "start_time": "2022-03-04T12:25:46.132Z"
   },
   {
    "duration": 3,
    "start_time": "2022-03-04T12:25:46.216Z"
   },
   {
    "duration": 7,
    "start_time": "2022-03-04T12:25:46.299Z"
   },
   {
    "duration": 3,
    "start_time": "2022-03-04T12:25:46.383Z"
   },
   {
    "duration": 24,
    "start_time": "2022-03-04T12:25:46.471Z"
   },
   {
    "duration": 27,
    "start_time": "2022-03-04T12:25:46.552Z"
   },
   {
    "duration": 22,
    "start_time": "2022-03-04T12:25:46.636Z"
   },
   {
    "duration": 17,
    "start_time": "2022-03-04T12:25:46.718Z"
   },
   {
    "duration": 692,
    "start_time": "2022-03-04T12:26:04.814Z"
   },
   {
    "duration": 37,
    "start_time": "2022-03-04T12:26:05.509Z"
   },
   {
    "duration": 32,
    "start_time": "2022-03-04T12:26:05.572Z"
   },
   {
    "duration": 12,
    "start_time": "2022-03-04T12:26:05.649Z"
   },
   {
    "duration": 15,
    "start_time": "2022-03-04T12:26:05.733Z"
   },
   {
    "duration": 7,
    "start_time": "2022-03-04T12:26:05.816Z"
   },
   {
    "duration": 9,
    "start_time": "2022-03-04T12:26:05.898Z"
   },
   {
    "duration": 6,
    "start_time": "2022-03-04T12:26:05.983Z"
   },
   {
    "duration": 7,
    "start_time": "2022-03-04T12:26:06.069Z"
   },
   {
    "duration": 11,
    "start_time": "2022-03-04T12:26:06.149Z"
   },
   {
    "duration": 116,
    "start_time": "2022-03-04T12:26:06.234Z"
   },
   {
    "duration": 150,
    "start_time": "2022-03-04T12:26:06.353Z"
   },
   {
    "duration": 14,
    "start_time": "2022-03-04T12:26:06.506Z"
   },
   {
    "duration": 13,
    "start_time": "2022-03-04T12:26:06.523Z"
   },
   {
    "duration": 11,
    "start_time": "2022-03-04T12:26:06.961Z"
   },
   {
    "duration": 9,
    "start_time": "2022-03-04T12:26:07.173Z"
   },
   {
    "duration": 8,
    "start_time": "2022-03-04T12:26:07.416Z"
   },
   {
    "duration": 7,
    "start_time": "2022-03-04T12:26:07.651Z"
   },
   {
    "duration": 9,
    "start_time": "2022-03-04T12:26:07.895Z"
   },
   {
    "duration": 9,
    "start_time": "2022-03-04T12:26:08.132Z"
   },
   {
    "duration": 8,
    "start_time": "2022-03-04T12:26:08.351Z"
   },
   {
    "duration": 3,
    "start_time": "2022-03-04T12:26:08.625Z"
   },
   {
    "duration": 25,
    "start_time": "2022-03-04T12:26:08.851Z"
   },
   {
    "duration": 25,
    "start_time": "2022-03-04T12:26:09.075Z"
   },
   {
    "duration": 23,
    "start_time": "2022-03-04T12:26:09.336Z"
   },
   {
    "duration": 17,
    "start_time": "2022-03-04T12:26:09.779Z"
   },
   {
    "duration": 904,
    "start_time": "2022-03-04T12:27:23.416Z"
   },
   {
    "duration": 44,
    "start_time": "2022-03-04T12:27:24.323Z"
   },
   {
    "duration": 50,
    "start_time": "2022-03-04T12:27:24.371Z"
   },
   {
    "duration": 16,
    "start_time": "2022-03-04T12:27:24.425Z"
   },
   {
    "duration": 49,
    "start_time": "2022-03-04T12:27:24.444Z"
   },
   {
    "duration": 8,
    "start_time": "2022-03-04T12:27:24.496Z"
   },
   {
    "duration": 8,
    "start_time": "2022-03-04T12:27:24.507Z"
   },
   {
    "duration": 7,
    "start_time": "2022-03-04T12:27:24.581Z"
   },
   {
    "duration": 6,
    "start_time": "2022-03-04T12:27:24.667Z"
   },
   {
    "duration": 8,
    "start_time": "2022-03-04T12:27:24.749Z"
   },
   {
    "duration": 110,
    "start_time": "2022-03-04T12:27:24.834Z"
   },
   {
    "duration": 155,
    "start_time": "2022-03-04T12:27:24.947Z"
   },
   {
    "duration": 10,
    "start_time": "2022-03-04T12:27:25.105Z"
   },
   {
    "duration": 42,
    "start_time": "2022-03-04T12:27:25.117Z"
   },
   {
    "duration": 11,
    "start_time": "2022-03-04T12:27:25.167Z"
   },
   {
    "duration": 10,
    "start_time": "2022-03-04T12:27:25.252Z"
   },
   {
    "duration": 8,
    "start_time": "2022-03-04T12:27:25.335Z"
   },
   {
    "duration": 8,
    "start_time": "2022-03-04T12:27:25.425Z"
   },
   {
    "duration": 9,
    "start_time": "2022-03-04T12:27:25.502Z"
   },
   {
    "duration": 9,
    "start_time": "2022-03-04T12:27:25.787Z"
   },
   {
    "duration": 7,
    "start_time": "2022-03-04T12:27:26.011Z"
   },
   {
    "duration": 313,
    "start_time": "2022-03-04T12:27:26.274Z"
   },
   {
    "duration": 2125,
    "start_time": "2022-03-04T12:27:24.466Z"
   },
   {
    "duration": 28,
    "start_time": "2022-03-04T12:27:26.770Z"
   },
   {
    "duration": 26,
    "start_time": "2022-03-04T12:27:27.090Z"
   },
   {
    "duration": 16,
    "start_time": "2022-03-04T12:27:27.652Z"
   },
   {
    "duration": 645,
    "start_time": "2022-03-04T12:28:22.731Z"
   },
   {
    "duration": 36,
    "start_time": "2022-03-04T12:28:23.399Z"
   },
   {
    "duration": 33,
    "start_time": "2022-03-04T12:28:23.483Z"
   },
   {
    "duration": 11,
    "start_time": "2022-03-04T12:28:23.564Z"
   },
   {
    "duration": 14,
    "start_time": "2022-03-04T12:28:23.648Z"
   },
   {
    "duration": 6,
    "start_time": "2022-03-04T12:28:23.738Z"
   },
   {
    "duration": 8,
    "start_time": "2022-03-04T12:28:23.814Z"
   },
   {
    "duration": 7,
    "start_time": "2022-03-04T12:28:23.898Z"
   },
   {
    "duration": 7,
    "start_time": "2022-03-04T12:28:23.981Z"
   },
   {
    "duration": 9,
    "start_time": "2022-03-04T12:28:24.081Z"
   },
   {
    "duration": 114,
    "start_time": "2022-03-04T12:28:24.150Z"
   },
   {
    "duration": 156,
    "start_time": "2022-03-04T12:28:24.267Z"
   },
   {
    "duration": 12,
    "start_time": "2022-03-04T12:28:24.427Z"
   },
   {
    "duration": 13,
    "start_time": "2022-03-04T12:28:24.441Z"
   },
   {
    "duration": 10,
    "start_time": "2022-03-04T12:28:24.485Z"
   },
   {
    "duration": 8,
    "start_time": "2022-03-04T12:28:24.569Z"
   },
   {
    "duration": 8,
    "start_time": "2022-03-04T12:28:24.654Z"
   },
   {
    "duration": 6,
    "start_time": "2022-03-04T12:28:24.736Z"
   },
   {
    "duration": 8,
    "start_time": "2022-03-04T12:28:24.819Z"
   },
   {
    "duration": 9,
    "start_time": "2022-03-04T12:28:25.227Z"
   },
   {
    "duration": 7,
    "start_time": "2022-03-04T12:28:25.477Z"
   },
   {
    "duration": 32,
    "start_time": "2022-03-04T12:28:25.742Z"
   },
   {
    "duration": 24,
    "start_time": "2022-03-04T12:28:26.017Z"
   },
   {
    "duration": 26,
    "start_time": "2022-03-04T12:28:26.595Z"
   },
   {
    "duration": 22,
    "start_time": "2022-03-04T12:28:27.163Z"
   },
   {
    "duration": 685,
    "start_time": "2022-03-04T12:29:39.898Z"
   },
   {
    "duration": 36,
    "start_time": "2022-03-04T12:29:40.586Z"
   },
   {
    "duration": 33,
    "start_time": "2022-03-04T12:29:40.722Z"
   },
   {
    "duration": 11,
    "start_time": "2022-03-04T12:29:41.195Z"
   },
   {
    "duration": 15,
    "start_time": "2022-03-04T12:29:41.210Z"
   },
   {
    "duration": 6,
    "start_time": "2022-03-04T12:29:41.379Z"
   },
   {
    "duration": 9,
    "start_time": "2022-03-04T12:29:41.590Z"
   },
   {
    "duration": 7,
    "start_time": "2022-03-04T12:29:41.836Z"
   },
   {
    "duration": 7,
    "start_time": "2022-03-04T12:29:42.109Z"
   },
   {
    "duration": 10,
    "start_time": "2022-03-04T12:29:42.368Z"
   },
   {
    "duration": 111,
    "start_time": "2022-03-04T12:29:42.619Z"
   },
   {
    "duration": 146,
    "start_time": "2022-03-04T12:29:43.081Z"
   },
   {
    "duration": 11,
    "start_time": "2022-03-04T12:29:43.352Z"
   },
   {
    "duration": 13,
    "start_time": "2022-03-04T12:29:43.606Z"
   },
   {
    "duration": 12,
    "start_time": "2022-03-04T12:29:43.868Z"
   },
   {
    "duration": 9,
    "start_time": "2022-03-04T12:29:44.149Z"
   },
   {
    "duration": 10,
    "start_time": "2022-03-04T12:29:44.662Z"
   },
   {
    "duration": 7,
    "start_time": "2022-03-04T12:29:44.909Z"
   },
   {
    "duration": 10,
    "start_time": "2022-03-04T12:29:45.139Z"
   },
   {
    "duration": 10,
    "start_time": "2022-03-04T12:29:45.329Z"
   },
   {
    "duration": 7,
    "start_time": "2022-03-04T12:29:45.524Z"
   },
   {
    "duration": 15,
    "start_time": "2022-03-04T12:29:45.770Z"
   },
   {
    "duration": 23,
    "start_time": "2022-03-04T12:29:46.016Z"
   },
   {
    "duration": 25,
    "start_time": "2022-03-04T12:29:46.274Z"
   },
   {
    "duration": 769,
    "start_time": "2022-03-04T12:30:08.248Z"
   },
   {
    "duration": 36,
    "start_time": "2022-03-04T12:30:09.020Z"
   },
   {
    "duration": 33,
    "start_time": "2022-03-04T12:30:09.133Z"
   },
   {
    "duration": 12,
    "start_time": "2022-03-04T12:30:09.170Z"
   },
   {
    "duration": 24,
    "start_time": "2022-03-04T12:30:09.186Z"
   },
   {
    "duration": 6,
    "start_time": "2022-03-04T12:30:09.252Z"
   },
   {
    "duration": 9,
    "start_time": "2022-03-04T12:30:09.334Z"
   },
   {
    "duration": 7,
    "start_time": "2022-03-04T12:30:09.416Z"
   },
   {
    "duration": 6,
    "start_time": "2022-03-04T12:30:09.501Z"
   },
   {
    "duration": 9,
    "start_time": "2022-03-04T12:30:09.595Z"
   },
   {
    "duration": 121,
    "start_time": "2022-03-04T12:30:09.673Z"
   },
   {
    "duration": 157,
    "start_time": "2022-03-04T12:30:09.797Z"
   },
   {
    "duration": 11,
    "start_time": "2022-03-04T12:30:09.957Z"
   },
   {
    "duration": 18,
    "start_time": "2022-03-04T12:30:09.970Z"
   },
   {
    "duration": 10,
    "start_time": "2022-03-04T12:30:10.002Z"
   },
   {
    "duration": 9,
    "start_time": "2022-03-04T12:30:10.084Z"
   },
   {
    "duration": 8,
    "start_time": "2022-03-04T12:30:10.168Z"
   },
   {
    "duration": 6,
    "start_time": "2022-03-04T12:30:10.252Z"
   },
   {
    "duration": 10,
    "start_time": "2022-03-04T12:30:10.335Z"
   },
   {
    "duration": 8,
    "start_time": "2022-03-04T12:30:10.424Z"
   },
   {
    "duration": 7,
    "start_time": "2022-03-04T12:30:10.503Z"
   },
   {
    "duration": 121,
    "start_time": "2022-03-04T12:30:10.587Z"
   },
   {
    "duration": 24,
    "start_time": "2022-03-04T12:30:11.097Z"
   },
   {
    "duration": 30,
    "start_time": "2022-03-04T12:30:11.123Z"
   },
   {
    "duration": 21,
    "start_time": "2022-03-04T12:30:11.155Z"
   },
   {
    "duration": 17,
    "start_time": "2022-03-04T12:30:11.279Z"
   },
   {
    "duration": 17,
    "start_time": "2022-03-04T12:30:18.627Z"
   },
   {
    "duration": 33,
    "start_time": "2022-03-04T12:30:19.097Z"
   },
   {
    "duration": 293,
    "start_time": "2022-03-04T12:31:02.891Z"
   },
   {
    "duration": 201,
    "start_time": "2022-03-04T12:31:16.994Z"
   },
   {
    "duration": 11,
    "start_time": "2022-03-04T12:31:33.523Z"
   },
   {
    "duration": 6,
    "start_time": "2022-03-04T12:35:50.905Z"
   },
   {
    "duration": 653,
    "start_time": "2022-03-04T12:36:59.522Z"
   },
   {
    "duration": 37,
    "start_time": "2022-03-04T12:37:00.256Z"
   },
   {
    "duration": 34,
    "start_time": "2022-03-04T12:37:00.471Z"
   },
   {
    "duration": 13,
    "start_time": "2022-03-04T12:37:00.707Z"
   },
   {
    "duration": 14,
    "start_time": "2022-03-04T12:37:00.919Z"
   },
   {
    "duration": 7,
    "start_time": "2022-03-04T12:37:01.147Z"
   },
   {
    "duration": 9,
    "start_time": "2022-03-04T12:37:01.398Z"
   },
   {
    "duration": 7,
    "start_time": "2022-03-04T12:37:01.657Z"
   },
   {
    "duration": 7,
    "start_time": "2022-03-04T12:37:01.934Z"
   },
   {
    "duration": 9,
    "start_time": "2022-03-04T12:37:02.265Z"
   },
   {
    "duration": 106,
    "start_time": "2022-03-04T12:37:02.572Z"
   },
   {
    "duration": 142,
    "start_time": "2022-03-04T12:37:03.271Z"
   },
   {
    "duration": 11,
    "start_time": "2022-03-04T12:37:03.888Z"
   },
   {
    "duration": 6,
    "start_time": "2022-03-04T12:37:05.000Z"
   },
   {
    "duration": 210,
    "start_time": "2022-03-04T12:37:05.543Z"
   },
   {
    "duration": 10,
    "start_time": "2022-03-04T12:37:06.975Z"
   },
   {
    "duration": 11,
    "start_time": "2022-03-04T12:37:07.303Z"
   },
   {
    "duration": 9,
    "start_time": "2022-03-04T12:37:14.010Z"
   },
   {
    "duration": 8,
    "start_time": "2022-03-04T12:37:14.899Z"
   },
   {
    "duration": 315,
    "start_time": "2022-03-04T12:37:40.210Z"
   },
   {
    "duration": 8,
    "start_time": "2022-03-04T12:37:45.968Z"
   },
   {
    "duration": 13,
    "start_time": "2022-03-04T12:37:58.253Z"
   },
   {
    "duration": 11,
    "start_time": "2022-03-04T12:37:58.972Z"
   },
   {
    "duration": 8,
    "start_time": "2022-03-04T12:37:59.819Z"
   },
   {
    "duration": 16,
    "start_time": "2022-03-04T12:38:00.315Z"
   },
   {
    "duration": 12,
    "start_time": "2022-03-04T12:38:01.552Z"
   },
   {
    "duration": 6,
    "start_time": "2022-03-04T12:38:38.682Z"
   },
   {
    "duration": 13,
    "start_time": "2022-03-04T12:38:39.324Z"
   },
   {
    "duration": 205,
    "start_time": "2022-03-04T12:40:20.036Z"
   },
   {
    "duration": 25,
    "start_time": "2022-03-04T12:40:23.222Z"
   },
   {
    "duration": 10,
    "start_time": "2022-03-04T12:40:23.805Z"
   },
   {
    "duration": 13,
    "start_time": "2022-03-04T12:40:24.675Z"
   },
   {
    "duration": 17,
    "start_time": "2022-03-04T12:40:44.728Z"
   },
   {
    "duration": 8,
    "start_time": "2022-03-04T12:42:13.620Z"
   },
   {
    "duration": 6209,
    "start_time": "2022-03-04T12:42:28.181Z"
   },
   {
    "duration": 8,
    "start_time": "2022-03-04T12:42:37.727Z"
   },
   {
    "duration": 9,
    "start_time": "2022-03-04T12:43:20.999Z"
   },
   {
    "duration": 9,
    "start_time": "2022-03-04T12:43:23.464Z"
   },
   {
    "duration": 9,
    "start_time": "2022-03-04T12:44:53.585Z"
   },
   {
    "duration": 9,
    "start_time": "2022-03-04T12:44:55.592Z"
   },
   {
    "duration": 32,
    "start_time": "2022-03-04T12:45:09.167Z"
   },
   {
    "duration": 20,
    "start_time": "2022-03-04T12:45:21.152Z"
   },
   {
    "duration": 216,
    "start_time": "2022-03-04T12:45:35.786Z"
   },
   {
    "duration": 22,
    "start_time": "2022-03-04T12:45:37.546Z"
   },
   {
    "duration": 13,
    "start_time": "2022-03-04T12:45:37.800Z"
   },
   {
    "duration": 10,
    "start_time": "2022-03-04T12:46:42.966Z"
   },
   {
    "duration": 12,
    "start_time": "2022-03-04T12:47:00.088Z"
   },
   {
    "duration": 16,
    "start_time": "2022-03-04T12:49:08.685Z"
   },
   {
    "duration": 28,
    "start_time": "2022-03-04T12:49:25.021Z"
   },
   {
    "duration": 12,
    "start_time": "2022-03-04T12:49:25.319Z"
   },
   {
    "duration": 6,
    "start_time": "2022-03-04T12:50:27.203Z"
   },
   {
    "duration": 27,
    "start_time": "2022-03-04T12:50:27.926Z"
   },
   {
    "duration": 806,
    "start_time": "2022-03-04T12:50:43.365Z"
   },
   {
    "duration": 37,
    "start_time": "2022-03-04T12:50:44.174Z"
   },
   {
    "duration": 40,
    "start_time": "2022-03-04T12:50:44.214Z"
   },
   {
    "duration": 26,
    "start_time": "2022-03-04T12:50:44.257Z"
   },
   {
    "duration": 20,
    "start_time": "2022-03-04T12:50:44.286Z"
   },
   {
    "duration": 6,
    "start_time": "2022-03-04T12:50:44.309Z"
   },
   {
    "duration": 14,
    "start_time": "2022-03-04T12:50:44.320Z"
   },
   {
    "duration": 5,
    "start_time": "2022-03-04T12:50:44.338Z"
   },
   {
    "duration": 8,
    "start_time": "2022-03-04T12:50:44.384Z"
   },
   {
    "duration": 16,
    "start_time": "2022-03-04T12:50:44.395Z"
   },
   {
    "duration": 160,
    "start_time": "2022-03-04T12:50:44.414Z"
   },
   {
    "duration": 169,
    "start_time": "2022-03-04T12:50:44.576Z"
   },
   {
    "duration": 12,
    "start_time": "2022-03-04T12:50:44.748Z"
   },
   {
    "duration": 24,
    "start_time": "2022-03-04T12:50:44.763Z"
   },
   {
    "duration": 342,
    "start_time": "2022-03-04T12:50:44.790Z"
   },
   {
    "duration": 11,
    "start_time": "2022-03-04T12:50:45.136Z"
   },
   {
    "duration": 12,
    "start_time": "2022-03-04T12:50:45.149Z"
   },
   {
    "duration": 10,
    "start_time": "2022-03-04T12:50:45.183Z"
   },
   {
    "duration": 16,
    "start_time": "2022-03-04T12:50:45.196Z"
   },
   {
    "duration": 9,
    "start_time": "2022-03-04T12:50:45.215Z"
   },
   {
    "duration": 9,
    "start_time": "2022-03-04T12:50:45.226Z"
   },
   {
    "duration": 48,
    "start_time": "2022-03-04T12:50:45.239Z"
   },
   {
    "duration": 8,
    "start_time": "2022-03-04T12:50:45.294Z"
   },
   {
    "duration": 20,
    "start_time": "2022-03-04T12:50:45.389Z"
   },
   {
    "duration": 6,
    "start_time": "2022-03-04T12:50:45.467Z"
   },
   {
    "duration": 11,
    "start_time": "2022-03-04T12:50:45.547Z"
   },
   {
    "duration": 25,
    "start_time": "2022-03-04T12:50:45.631Z"
   },
   {
    "duration": 30,
    "start_time": "2022-03-04T12:50:45.720Z"
   },
   {
    "duration": 21,
    "start_time": "2022-03-04T12:50:46.247Z"
   },
   {
    "duration": 10,
    "start_time": "2022-03-04T12:50:46.470Z"
   },
   {
    "duration": 11,
    "start_time": "2022-03-04T12:50:46.746Z"
   },
   {
    "duration": 10,
    "start_time": "2022-03-04T12:50:47.051Z"
   },
   {
    "duration": 8,
    "start_time": "2022-03-04T12:50:47.329Z"
   },
   {
    "duration": 8,
    "start_time": "2022-03-04T12:50:47.570Z"
   },
   {
    "duration": 13,
    "start_time": "2022-03-04T12:50:47.799Z"
   },
   {
    "duration": 9,
    "start_time": "2022-03-04T12:50:48.009Z"
   },
   {
    "duration": 8,
    "start_time": "2022-03-04T12:50:48.272Z"
   },
   {
    "duration": 18,
    "start_time": "2022-03-04T12:50:48.494Z"
   },
   {
    "duration": 4,
    "start_time": "2022-03-04T12:50:48.754Z"
   },
   {
    "duration": 29,
    "start_time": "2022-03-04T12:50:48.988Z"
   },
   {
    "duration": 13,
    "start_time": "2022-03-04T12:50:49.502Z"
   },
   {
    "duration": 27,
    "start_time": "2022-03-04T12:50:49.750Z"
   },
   {
    "duration": 26,
    "start_time": "2022-03-04T12:50:50.277Z"
   },
   {
    "duration": 13,
    "start_time": "2022-03-04T12:50:50.634Z"
   },
   {
    "duration": 22,
    "start_time": "2022-03-04T12:50:50.934Z"
   },
   {
    "duration": 12,
    "start_time": "2022-03-04T12:50:51.469Z"
   },
   {
    "duration": 8,
    "start_time": "2022-03-04T12:50:51.770Z"
   },
   {
    "duration": 6,
    "start_time": "2022-03-04T12:51:04.800Z"
   },
   {
    "duration": 23,
    "start_time": "2022-03-04T12:51:05.394Z"
   },
   {
    "duration": 23,
    "start_time": "2022-03-04T13:02:02.948Z"
   },
   {
    "duration": 10,
    "start_time": "2022-03-04T13:02:03.271Z"
   },
   {
    "duration": 114,
    "start_time": "2022-03-04T13:05:17.256Z"
   },
   {
    "duration": 10,
    "start_time": "2022-03-04T13:05:22.111Z"
   },
   {
    "duration": 699,
    "start_time": "2022-03-04T13:07:09.891Z"
   },
   {
    "duration": 34,
    "start_time": "2022-03-04T13:07:10.593Z"
   },
   {
    "duration": 33,
    "start_time": "2022-03-04T13:07:11.076Z"
   },
   {
    "duration": 12,
    "start_time": "2022-03-04T13:07:11.342Z"
   },
   {
    "duration": 16,
    "start_time": "2022-03-04T13:07:11.840Z"
   },
   {
    "duration": 7,
    "start_time": "2022-03-04T13:07:11.921Z"
   },
   {
    "duration": 9,
    "start_time": "2022-03-04T13:07:12.141Z"
   },
   {
    "duration": 9,
    "start_time": "2022-03-04T13:07:12.153Z"
   },
   {
    "duration": 5,
    "start_time": "2022-03-04T13:07:12.172Z"
   },
   {
    "duration": 8,
    "start_time": "2022-03-04T13:07:12.256Z"
   },
   {
    "duration": 111,
    "start_time": "2022-03-04T13:07:12.340Z"
   },
   {
    "duration": 149,
    "start_time": "2022-03-04T13:07:12.454Z"
   },
   {
    "duration": 10,
    "start_time": "2022-03-04T13:07:12.606Z"
   },
   {
    "duration": 6,
    "start_time": "2022-03-04T13:07:12.618Z"
   },
   {
    "duration": 217,
    "start_time": "2022-03-04T13:07:12.672Z"
   },
   {
    "duration": 10,
    "start_time": "2022-03-04T13:07:12.892Z"
   },
   {
    "duration": 11,
    "start_time": "2022-03-04T13:07:12.905Z"
   },
   {
    "duration": 8,
    "start_time": "2022-03-04T13:07:12.924Z"
   },
   {
    "duration": 159,
    "start_time": "2022-03-04T13:07:13.010Z"
   },
   {
    "duration": 14,
    "start_time": "2022-03-04T13:07:13.172Z"
   },
   {
    "duration": 549,
    "start_time": "2022-03-04T13:07:13.190Z"
   },
   {
    "duration": 10,
    "start_time": "2022-03-04T13:07:13.741Z"
   },
   {
    "duration": 31,
    "start_time": "2022-03-04T13:07:13.754Z"
   },
   {
    "duration": 19,
    "start_time": "2022-03-04T13:07:13.789Z"
   },
   {
    "duration": 15,
    "start_time": "2022-03-04T13:07:13.811Z"
   },
   {
    "duration": 9,
    "start_time": "2022-03-04T13:07:13.828Z"
   },
   {
    "duration": 42,
    "start_time": "2022-03-04T13:07:13.840Z"
   },
   {
    "duration": 6,
    "start_time": "2022-03-04T13:07:13.932Z"
   },
   {
    "duration": 12,
    "start_time": "2022-03-04T13:07:14.157Z"
   },
   {
    "duration": 22,
    "start_time": "2022-03-04T13:07:14.358Z"
   },
   {
    "duration": 26,
    "start_time": "2022-03-04T13:07:14.557Z"
   },
   {
    "duration": 17,
    "start_time": "2022-03-04T13:07:14.790Z"
   },
   {
    "duration": 11,
    "start_time": "2022-03-04T13:07:14.995Z"
   },
   {
    "duration": 11,
    "start_time": "2022-03-04T13:07:15.170Z"
   },
   {
    "duration": 8,
    "start_time": "2022-03-04T13:07:15.372Z"
   },
   {
    "duration": 8,
    "start_time": "2022-03-04T13:07:15.590Z"
   },
   {
    "duration": 10,
    "start_time": "2022-03-04T13:07:15.786Z"
   },
   {
    "duration": 7,
    "start_time": "2022-03-04T13:07:15.971Z"
   },
   {
    "duration": 9,
    "start_time": "2022-03-04T13:07:16.154Z"
   },
   {
    "duration": 7,
    "start_time": "2022-03-04T13:07:16.658Z"
   },
   {
    "duration": 27,
    "start_time": "2022-03-04T13:07:16.740Z"
   },
   {
    "duration": 20,
    "start_time": "2022-03-04T13:07:16.824Z"
   },
   {
    "duration": 10,
    "start_time": "2022-03-04T13:07:16.909Z"
   },
   {
    "duration": 16,
    "start_time": "2022-03-04T13:07:16.998Z"
   },
   {
    "duration": 12,
    "start_time": "2022-03-04T13:07:17.075Z"
   },
   {
    "duration": 9,
    "start_time": "2022-03-04T13:07:17.157Z"
   },
   {
    "duration": 15,
    "start_time": "2022-03-04T13:07:17.515Z"
   },
   {
    "duration": 8,
    "start_time": "2022-03-04T13:07:17.778Z"
   },
   {
    "duration": 23,
    "start_time": "2022-03-04T13:07:18.011Z"
   },
   {
    "duration": 9,
    "start_time": "2022-03-04T13:07:18.263Z"
   },
   {
    "duration": 62,
    "start_time": "2022-03-04T13:07:18.868Z"
   },
   {
    "duration": 715,
    "start_time": "2022-03-04T13:08:37.204Z"
   },
   {
    "duration": 37,
    "start_time": "2022-03-04T13:08:37.921Z"
   },
   {
    "duration": 41,
    "start_time": "2022-03-04T13:08:37.961Z"
   },
   {
    "duration": 33,
    "start_time": "2022-03-04T13:08:38.034Z"
   },
   {
    "duration": 15,
    "start_time": "2022-03-04T13:08:38.121Z"
   },
   {
    "duration": 7,
    "start_time": "2022-03-04T13:08:38.206Z"
   },
   {
    "duration": 9,
    "start_time": "2022-03-04T13:08:38.300Z"
   },
   {
    "duration": 6,
    "start_time": "2022-03-04T13:08:38.371Z"
   },
   {
    "duration": 6,
    "start_time": "2022-03-04T13:08:38.464Z"
   },
   {
    "duration": 8,
    "start_time": "2022-03-04T13:08:38.548Z"
   },
   {
    "duration": 132,
    "start_time": "2022-03-04T13:08:38.622Z"
   },
   {
    "duration": 148,
    "start_time": "2022-03-04T13:08:38.757Z"
   },
   {
    "duration": 10,
    "start_time": "2022-03-04T13:08:38.908Z"
   },
   {
    "duration": 6,
    "start_time": "2022-03-04T13:08:39.029Z"
   },
   {
    "duration": 245,
    "start_time": "2022-03-04T13:08:39.037Z"
   },
   {
    "duration": 11,
    "start_time": "2022-03-04T13:08:39.284Z"
   },
   {
    "duration": 10,
    "start_time": "2022-03-04T13:08:39.298Z"
   },
   {
    "duration": 14,
    "start_time": "2022-03-04T13:08:39.310Z"
   },
   {
    "duration": 209,
    "start_time": "2022-03-04T13:08:39.327Z"
   },
   {
    "duration": 11,
    "start_time": "2022-03-04T13:08:39.539Z"
   },
   {
    "duration": 256,
    "start_time": "2022-03-04T13:08:39.553Z"
   },
   {
    "duration": 8,
    "start_time": "2022-03-04T13:08:39.811Z"
   },
   {
    "duration": 10,
    "start_time": "2022-03-04T13:08:39.822Z"
   },
   {
    "duration": 8,
    "start_time": "2022-03-04T13:08:39.835Z"
   },
   {
    "duration": 42,
    "start_time": "2022-03-04T13:08:39.845Z"
   },
   {
    "duration": 6,
    "start_time": "2022-03-04T13:08:39.890Z"
   },
   {
    "duration": 35,
    "start_time": "2022-03-04T13:08:39.964Z"
   },
   {
    "duration": 6,
    "start_time": "2022-03-04T13:08:40.056Z"
   },
   {
    "duration": 11,
    "start_time": "2022-03-04T13:08:40.133Z"
   },
   {
    "duration": 21,
    "start_time": "2022-03-04T13:08:40.217Z"
   },
   {
    "duration": 31,
    "start_time": "2022-03-04T13:08:40.304Z"
   },
   {
    "duration": 22,
    "start_time": "2022-03-04T13:08:40.391Z"
   },
   {
    "duration": 10,
    "start_time": "2022-03-04T13:08:40.468Z"
   },
   {
    "duration": 11,
    "start_time": "2022-03-04T13:08:40.553Z"
   },
   {
    "duration": 9,
    "start_time": "2022-03-04T13:08:40.636Z"
   },
   {
    "duration": 7,
    "start_time": "2022-03-04T13:08:40.718Z"
   },
   {
    "duration": 9,
    "start_time": "2022-03-04T13:08:40.803Z"
   },
   {
    "duration": 9,
    "start_time": "2022-03-04T13:08:41.194Z"
   },
   {
    "duration": 9,
    "start_time": "2022-03-04T13:08:41.469Z"
   },
   {
    "duration": 8,
    "start_time": "2022-03-04T13:08:41.664Z"
   },
   {
    "duration": 27,
    "start_time": "2022-03-04T13:08:41.857Z"
   },
   {
    "duration": 23,
    "start_time": "2022-03-04T13:08:42.361Z"
   },
   {
    "duration": 11,
    "start_time": "2022-03-04T13:08:42.442Z"
   },
   {
    "duration": 18,
    "start_time": "2022-03-04T13:08:42.526Z"
   },
   {
    "duration": 13,
    "start_time": "2022-03-04T13:08:42.610Z"
   },
   {
    "duration": 8,
    "start_time": "2022-03-04T13:08:42.694Z"
   },
   {
    "duration": 16,
    "start_time": "2022-03-04T13:08:42.779Z"
   },
   {
    "duration": 8,
    "start_time": "2022-03-04T13:08:43.261Z"
   },
   {
    "duration": 22,
    "start_time": "2022-03-04T13:08:43.765Z"
   },
   {
    "duration": 12,
    "start_time": "2022-03-04T13:08:43.847Z"
   },
   {
    "duration": 67,
    "start_time": "2022-03-04T13:08:44.389Z"
   },
   {
    "duration": 61,
    "start_time": "2022-03-04T13:09:18.000Z"
   },
   {
    "duration": 285,
    "start_time": "2022-03-04T13:14:40.606Z"
   },
   {
    "duration": 1281,
    "start_time": "2022-03-04T13:14:47.989Z"
   },
   {
    "duration": 33,
    "start_time": "2022-03-04T13:14:49.273Z"
   },
   {
    "duration": 31,
    "start_time": "2022-03-04T13:14:49.310Z"
   },
   {
    "duration": 13,
    "start_time": "2022-03-04T13:14:49.344Z"
   },
   {
    "duration": 15,
    "start_time": "2022-03-04T13:14:49.383Z"
   },
   {
    "duration": 8,
    "start_time": "2022-03-04T13:14:49.401Z"
   },
   {
    "duration": 10,
    "start_time": "2022-03-04T13:14:49.411Z"
   },
   {
    "duration": 9,
    "start_time": "2022-03-04T13:14:49.425Z"
   },
   {
    "duration": 50,
    "start_time": "2022-03-04T13:14:49.437Z"
   },
   {
    "duration": 9,
    "start_time": "2022-03-04T13:14:49.490Z"
   },
   {
    "duration": 131,
    "start_time": "2022-03-04T13:14:49.502Z"
   },
   {
    "duration": 150,
    "start_time": "2022-03-04T13:14:49.636Z"
   },
   {
    "duration": 9,
    "start_time": "2022-03-04T13:14:49.789Z"
   },
   {
    "duration": 8,
    "start_time": "2022-03-04T13:14:49.801Z"
   },
   {
    "duration": 234,
    "start_time": "2022-03-04T13:14:49.811Z"
   },
   {
    "duration": 11,
    "start_time": "2022-03-04T13:14:50.048Z"
   },
   {
    "duration": 25,
    "start_time": "2022-03-04T13:14:50.062Z"
   },
   {
    "duration": 9,
    "start_time": "2022-03-04T13:14:50.090Z"
   },
   {
    "duration": 189,
    "start_time": "2022-03-04T13:14:50.102Z"
   },
   {
    "duration": 9,
    "start_time": "2022-03-04T13:14:50.294Z"
   },
   {
    "duration": 240,
    "start_time": "2022-03-04T13:14:50.382Z"
   },
   {
    "duration": 8,
    "start_time": "2022-03-04T13:14:50.625Z"
   },
   {
    "duration": 8,
    "start_time": "2022-03-04T13:14:50.637Z"
   },
   {
    "duration": 36,
    "start_time": "2022-03-04T13:14:50.648Z"
   },
   {
    "duration": 11,
    "start_time": "2022-03-04T13:14:50.686Z"
   },
   {
    "duration": 6,
    "start_time": "2022-03-04T13:14:50.700Z"
   },
   {
    "duration": 13,
    "start_time": "2022-03-04T13:14:50.750Z"
   },
   {
    "duration": 5,
    "start_time": "2022-03-04T13:14:50.835Z"
   },
   {
    "duration": 13,
    "start_time": "2022-03-04T13:14:50.916Z"
   },
   {
    "duration": 30,
    "start_time": "2022-03-04T13:14:51.000Z"
   },
   {
    "duration": 26,
    "start_time": "2022-03-04T13:14:51.083Z"
   },
   {
    "duration": 18,
    "start_time": "2022-03-04T13:14:51.172Z"
   },
   {
    "duration": 14,
    "start_time": "2022-03-04T13:14:51.252Z"
   },
   {
    "duration": 13,
    "start_time": "2022-03-04T13:14:51.335Z"
   },
   {
    "duration": 9,
    "start_time": "2022-03-04T13:14:51.419Z"
   },
   {
    "duration": 8,
    "start_time": "2022-03-04T13:14:51.500Z"
   },
   {
    "duration": 9,
    "start_time": "2022-03-04T13:14:51.584Z"
   },
   {
    "duration": 7,
    "start_time": "2022-03-04T13:14:51.669Z"
   },
   {
    "duration": 8,
    "start_time": "2022-03-04T13:14:51.752Z"
   },
   {
    "duration": 8,
    "start_time": "2022-03-04T13:14:51.835Z"
   },
   {
    "duration": 21,
    "start_time": "2022-03-04T13:14:51.918Z"
   },
   {
    "duration": 21,
    "start_time": "2022-03-04T13:14:52.234Z"
   },
   {
    "duration": 11,
    "start_time": "2022-03-04T13:14:52.459Z"
   },
   {
    "duration": 23,
    "start_time": "2022-03-04T13:14:52.663Z"
   },
   {
    "duration": 13,
    "start_time": "2022-03-04T13:14:52.884Z"
   },
   {
    "duration": 8,
    "start_time": "2022-03-04T13:14:53.112Z"
   },
   {
    "duration": 15,
    "start_time": "2022-03-04T13:14:53.357Z"
   },
   {
    "duration": 8,
    "start_time": "2022-03-04T13:14:53.621Z"
   },
   {
    "duration": 21,
    "start_time": "2022-03-04T13:14:53.825Z"
   },
   {
    "duration": 11,
    "start_time": "2022-03-04T13:14:54.088Z"
   },
   {
    "duration": 60,
    "start_time": "2022-03-04T13:14:54.494Z"
   },
   {
    "duration": 7,
    "start_time": "2022-03-04T13:14:54.571Z"
   },
   {
    "duration": 347,
    "start_time": "2022-03-04T13:15:03.266Z"
   },
   {
    "duration": 197,
    "start_time": "2022-03-04T13:15:06.340Z"
   },
   {
    "duration": 5,
    "start_time": "2022-03-04T13:15:09.101Z"
   },
   {
    "duration": 5,
    "start_time": "2022-03-04T13:15:16.272Z"
   },
   {
    "duration": 1444,
    "start_time": "2022-03-04T13:25:34.878Z"
   },
   {
    "duration": 34,
    "start_time": "2022-03-04T13:25:36.916Z"
   },
   {
    "duration": 33,
    "start_time": "2022-03-04T13:25:36.952Z"
   },
   {
    "duration": 11,
    "start_time": "2022-03-04T13:25:36.988Z"
   },
   {
    "duration": 21,
    "start_time": "2022-03-04T13:25:37.002Z"
   },
   {
    "duration": 6,
    "start_time": "2022-03-04T13:25:37.025Z"
   },
   {
    "duration": 9,
    "start_time": "2022-03-04T13:25:37.033Z"
   },
   {
    "duration": 38,
    "start_time": "2022-03-04T13:25:37.044Z"
   },
   {
    "duration": 5,
    "start_time": "2022-03-04T13:25:37.085Z"
   },
   {
    "duration": 13,
    "start_time": "2022-03-04T13:25:37.094Z"
   },
   {
    "duration": 154,
    "start_time": "2022-03-04T13:25:37.109Z"
   },
   {
    "duration": 161,
    "start_time": "2022-03-04T13:25:37.266Z"
   },
   {
    "duration": 10,
    "start_time": "2022-03-04T13:25:37.429Z"
   },
   {
    "duration": 10,
    "start_time": "2022-03-04T13:25:37.442Z"
   },
   {
    "duration": 240,
    "start_time": "2022-03-04T13:25:37.455Z"
   },
   {
    "duration": 13,
    "start_time": "2022-03-04T13:25:37.697Z"
   },
   {
    "duration": 13,
    "start_time": "2022-03-04T13:25:37.712Z"
   },
   {
    "duration": 12,
    "start_time": "2022-03-04T13:25:37.728Z"
   },
   {
    "duration": 204,
    "start_time": "2022-03-04T13:25:37.742Z"
   },
   {
    "duration": 10,
    "start_time": "2022-03-04T13:25:37.948Z"
   },
   {
    "duration": 252,
    "start_time": "2022-03-04T13:25:37.963Z"
   },
   {
    "duration": 10,
    "start_time": "2022-03-04T13:25:38.218Z"
   },
   {
    "duration": 11,
    "start_time": "2022-03-04T13:25:38.230Z"
   },
   {
    "duration": 18,
    "start_time": "2022-03-04T13:25:38.244Z"
   },
   {
    "duration": 25,
    "start_time": "2022-03-04T13:25:38.264Z"
   },
   {
    "duration": 12,
    "start_time": "2022-03-04T13:25:38.292Z"
   },
   {
    "duration": 20,
    "start_time": "2022-03-04T13:25:38.307Z"
   },
   {
    "duration": 18,
    "start_time": "2022-03-04T13:25:38.330Z"
   },
   {
    "duration": 13,
    "start_time": "2022-03-04T13:25:38.350Z"
   },
   {
    "duration": 30,
    "start_time": "2022-03-04T13:25:38.365Z"
   },
   {
    "duration": 38,
    "start_time": "2022-03-04T13:25:38.398Z"
   },
   {
    "duration": 17,
    "start_time": "2022-03-04T13:25:38.440Z"
   },
   {
    "duration": 30,
    "start_time": "2022-03-04T13:25:38.460Z"
   },
   {
    "duration": 17,
    "start_time": "2022-03-04T13:25:38.492Z"
   },
   {
    "duration": 22,
    "start_time": "2022-03-04T13:25:38.512Z"
   },
   {
    "duration": 20,
    "start_time": "2022-03-04T13:25:38.536Z"
   },
   {
    "duration": 17,
    "start_time": "2022-03-04T13:25:38.559Z"
   },
   {
    "duration": 26,
    "start_time": "2022-03-04T13:25:38.578Z"
   },
   {
    "duration": 8,
    "start_time": "2022-03-04T13:25:38.646Z"
   },
   {
    "duration": 8,
    "start_time": "2022-03-04T13:25:38.728Z"
   },
   {
    "duration": 21,
    "start_time": "2022-03-04T13:25:38.813Z"
   },
   {
    "duration": 19,
    "start_time": "2022-03-04T13:25:38.898Z"
   },
   {
    "duration": 10,
    "start_time": "2022-03-04T13:25:38.987Z"
   },
   {
    "duration": 16,
    "start_time": "2022-03-04T13:25:39.073Z"
   },
   {
    "duration": 13,
    "start_time": "2022-03-04T13:25:39.149Z"
   },
   {
    "duration": 8,
    "start_time": "2022-03-04T13:25:39.238Z"
   },
   {
    "duration": 14,
    "start_time": "2022-03-04T13:25:39.322Z"
   },
   {
    "duration": 8,
    "start_time": "2022-03-04T13:25:39.405Z"
   },
   {
    "duration": 22,
    "start_time": "2022-03-04T13:25:39.488Z"
   },
   {
    "duration": 10,
    "start_time": "2022-03-04T13:25:39.580Z"
   },
   {
    "duration": 59,
    "start_time": "2022-03-04T13:25:39.657Z"
   },
   {
    "duration": 7,
    "start_time": "2022-03-04T13:25:39.738Z"
   },
   {
    "duration": 5,
    "start_time": "2022-03-04T13:25:39.819Z"
   },
   {
    "duration": 5,
    "start_time": "2022-03-04T13:25:39.904Z"
   },
   {
    "duration": 5,
    "start_time": "2022-03-04T13:25:39.987Z"
   },
   {
    "duration": 10,
    "start_time": "2022-03-04T13:25:40.077Z"
   },
   {
    "duration": 6122,
    "start_time": "2022-03-04T13:25:40.160Z"
   },
   {
    "duration": 1319,
    "start_time": "2022-03-04T13:26:36.420Z"
   },
   {
    "duration": 34,
    "start_time": "2022-03-04T13:26:37.742Z"
   },
   {
    "duration": 33,
    "start_time": "2022-03-04T13:26:37.779Z"
   },
   {
    "duration": 11,
    "start_time": "2022-03-04T13:26:37.815Z"
   },
   {
    "duration": 18,
    "start_time": "2022-03-04T13:26:37.829Z"
   },
   {
    "duration": 37,
    "start_time": "2022-03-04T13:26:37.849Z"
   },
   {
    "duration": 10,
    "start_time": "2022-03-04T13:26:37.888Z"
   },
   {
    "duration": 6,
    "start_time": "2022-03-04T13:26:37.902Z"
   },
   {
    "duration": 7,
    "start_time": "2022-03-04T13:26:37.910Z"
   },
   {
    "duration": 12,
    "start_time": "2022-03-04T13:26:37.919Z"
   },
   {
    "duration": 155,
    "start_time": "2022-03-04T13:26:37.934Z"
   },
   {
    "duration": 138,
    "start_time": "2022-03-04T13:26:38.092Z"
   },
   {
    "duration": 9,
    "start_time": "2022-03-04T13:26:38.233Z"
   },
   {
    "duration": 8,
    "start_time": "2022-03-04T13:26:38.245Z"
   },
   {
    "duration": 252,
    "start_time": "2022-03-04T13:26:38.256Z"
   },
   {
    "duration": 10,
    "start_time": "2022-03-04T13:26:38.511Z"
   },
   {
    "duration": 9,
    "start_time": "2022-03-04T13:26:38.524Z"
   },
   {
    "duration": 8,
    "start_time": "2022-03-04T13:26:38.536Z"
   },
   {
    "duration": 194,
    "start_time": "2022-03-04T13:26:38.546Z"
   },
   {
    "duration": 9,
    "start_time": "2022-03-04T13:26:38.742Z"
   },
   {
    "duration": 245,
    "start_time": "2022-03-04T13:26:38.753Z"
   },
   {
    "duration": 10,
    "start_time": "2022-03-04T13:26:39.001Z"
   },
   {
    "duration": 9,
    "start_time": "2022-03-04T13:26:39.015Z"
   },
   {
    "duration": 8,
    "start_time": "2022-03-04T13:26:39.027Z"
   },
   {
    "duration": 50,
    "start_time": "2022-03-04T13:26:39.038Z"
   },
   {
    "duration": 7,
    "start_time": "2022-03-04T13:26:39.099Z"
   },
   {
    "duration": 14,
    "start_time": "2022-03-04T13:26:39.178Z"
   },
   {
    "duration": 6,
    "start_time": "2022-03-04T13:26:39.258Z"
   },
   {
    "duration": 11,
    "start_time": "2022-03-04T13:26:39.343Z"
   },
   {
    "duration": 21,
    "start_time": "2022-03-04T13:26:39.430Z"
   },
   {
    "duration": 25,
    "start_time": "2022-03-04T13:26:39.510Z"
   },
   {
    "duration": 18,
    "start_time": "2022-03-04T13:26:39.601Z"
   },
   {
    "duration": 11,
    "start_time": "2022-03-04T13:26:39.678Z"
   },
   {
    "duration": 11,
    "start_time": "2022-03-04T13:26:39.759Z"
   },
   {
    "duration": 9,
    "start_time": "2022-03-04T13:26:39.847Z"
   },
   {
    "duration": 8,
    "start_time": "2022-03-04T13:26:40.088Z"
   },
   {
    "duration": 9,
    "start_time": "2022-03-04T13:26:40.319Z"
   },
   {
    "duration": 8,
    "start_time": "2022-03-04T13:26:40.536Z"
   },
   {
    "duration": 9,
    "start_time": "2022-03-04T13:26:40.786Z"
   },
   {
    "duration": 8,
    "start_time": "2022-03-04T13:26:40.985Z"
   },
   {
    "duration": 28,
    "start_time": "2022-03-04T13:26:41.202Z"
   },
   {
    "duration": 19,
    "start_time": "2022-03-04T13:26:41.424Z"
   },
   {
    "duration": 10,
    "start_time": "2022-03-04T13:26:41.636Z"
   },
   {
    "duration": 16,
    "start_time": "2022-03-04T13:26:41.844Z"
   },
   {
    "duration": 13,
    "start_time": "2022-03-04T13:26:42.080Z"
   },
   {
    "duration": 8,
    "start_time": "2022-03-04T13:26:42.288Z"
   },
   {
    "duration": 15,
    "start_time": "2022-03-04T13:26:42.511Z"
   },
   {
    "duration": 7,
    "start_time": "2022-03-04T13:26:42.748Z"
   },
   {
    "duration": 24,
    "start_time": "2022-03-04T13:26:42.948Z"
   },
   {
    "duration": 10,
    "start_time": "2022-03-04T13:26:43.196Z"
   },
   {
    "duration": 60,
    "start_time": "2022-03-04T13:26:43.405Z"
   },
   {
    "duration": 7,
    "start_time": "2022-03-04T13:26:43.611Z"
   },
   {
    "duration": 6,
    "start_time": "2022-03-04T13:26:43.826Z"
   },
   {
    "duration": 6,
    "start_time": "2022-03-04T13:26:44.059Z"
   },
   {
    "duration": 6,
    "start_time": "2022-03-04T13:26:44.271Z"
   },
   {
    "duration": 10,
    "start_time": "2022-03-04T13:26:44.503Z"
   },
   {
    "duration": 4934,
    "start_time": "2022-03-04T13:26:44.701Z"
   },
   {
    "duration": 4,
    "start_time": "2022-03-04T13:26:59.066Z"
   },
   {
    "duration": 6427,
    "start_time": "2022-03-04T13:27:05.474Z"
   },
   {
    "duration": 5,
    "start_time": "2022-03-04T13:27:11.904Z"
   },
   {
    "duration": 10,
    "start_time": "2022-03-04T13:27:21.670Z"
   },
   {
    "duration": 5944,
    "start_time": "2022-03-04T13:27:21.922Z"
   },
   {
    "duration": 4,
    "start_time": "2022-03-04T13:27:27.869Z"
   },
   {
    "duration": 9,
    "start_time": "2022-03-04T13:28:42.342Z"
   },
   {
    "duration": 449,
    "start_time": "2022-03-04T13:28:42.617Z"
   },
   {
    "duration": 10143,
    "start_time": "2022-03-04T13:28:49.827Z"
   },
   {
    "duration": 9923,
    "start_time": "2022-03-04T13:29:06.698Z"
   },
   {
    "duration": 9,
    "start_time": "2022-03-04T13:29:25.548Z"
   },
   {
    "duration": 7893,
    "start_time": "2022-03-04T13:29:25.841Z"
   },
   {
    "duration": 5940,
    "start_time": "2022-03-04T13:29:42.434Z"
   },
   {
    "duration": 6164,
    "start_time": "2022-03-04T13:29:52.380Z"
   },
   {
    "duration": 6894,
    "start_time": "2022-03-04T13:30:03.436Z"
   },
   {
    "duration": 9,
    "start_time": "2022-03-04T13:30:14.155Z"
   },
   {
    "duration": 6367,
    "start_time": "2022-03-04T13:30:14.783Z"
   },
   {
    "duration": 11,
    "start_time": "2022-03-04T13:31:37.543Z"
   },
   {
    "duration": 1384,
    "start_time": "2022-03-04T13:32:09.463Z"
   },
   {
    "duration": 34,
    "start_time": "2022-03-04T13:32:10.849Z"
   },
   {
    "duration": 32,
    "start_time": "2022-03-04T13:32:10.886Z"
   },
   {
    "duration": 15,
    "start_time": "2022-03-04T13:32:10.922Z"
   },
   {
    "duration": 48,
    "start_time": "2022-03-04T13:32:10.940Z"
   },
   {
    "duration": 8,
    "start_time": "2022-03-04T13:32:10.991Z"
   },
   {
    "duration": 12,
    "start_time": "2022-03-04T13:32:11.002Z"
   },
   {
    "duration": 18,
    "start_time": "2022-03-04T13:32:11.018Z"
   },
   {
    "duration": 45,
    "start_time": "2022-03-04T13:32:11.038Z"
   },
   {
    "duration": 13,
    "start_time": "2022-03-04T13:32:11.086Z"
   },
   {
    "duration": 124,
    "start_time": "2022-03-04T13:32:11.101Z"
   },
   {
    "duration": 143,
    "start_time": "2022-03-04T13:32:11.227Z"
   },
   {
    "duration": 15,
    "start_time": "2022-03-04T13:32:11.373Z"
   },
   {
    "duration": 16,
    "start_time": "2022-03-04T13:32:11.391Z"
   },
   {
    "duration": 230,
    "start_time": "2022-03-04T13:32:11.409Z"
   },
   {
    "duration": 11,
    "start_time": "2022-03-04T13:32:11.641Z"
   },
   {
    "duration": 27,
    "start_time": "2022-03-04T13:32:11.655Z"
   },
   {
    "duration": 9,
    "start_time": "2022-03-04T13:32:11.685Z"
   },
   {
    "duration": 192,
    "start_time": "2022-03-04T13:32:11.696Z"
   },
   {
    "duration": 8,
    "start_time": "2022-03-04T13:32:11.890Z"
   },
   {
    "duration": 237,
    "start_time": "2022-03-04T13:32:11.900Z"
   },
   {
    "duration": 8,
    "start_time": "2022-03-04T13:32:12.140Z"
   },
   {
    "duration": 9,
    "start_time": "2022-03-04T13:32:12.151Z"
   },
   {
    "duration": 24,
    "start_time": "2022-03-04T13:32:12.163Z"
   },
   {
    "duration": 12,
    "start_time": "2022-03-04T13:32:12.190Z"
   },
   {
    "duration": 7,
    "start_time": "2022-03-04T13:32:12.205Z"
   },
   {
    "duration": 14,
    "start_time": "2022-03-04T13:32:12.226Z"
   },
   {
    "duration": 6,
    "start_time": "2022-03-04T13:32:12.308Z"
   },
   {
    "duration": 11,
    "start_time": "2022-03-04T13:32:12.394Z"
   },
   {
    "duration": 23,
    "start_time": "2022-03-04T13:32:12.482Z"
   },
   {
    "duration": 26,
    "start_time": "2022-03-04T13:32:12.571Z"
   },
   {
    "duration": 17,
    "start_time": "2022-03-04T13:32:12.646Z"
   },
   {
    "duration": 9,
    "start_time": "2022-03-04T13:32:12.730Z"
   },
   {
    "duration": 10,
    "start_time": "2022-03-04T13:32:12.810Z"
   },
   {
    "duration": 9,
    "start_time": "2022-03-04T13:32:12.930Z"
   },
   {
    "duration": 8,
    "start_time": "2022-03-04T13:32:12.979Z"
   },
   {
    "duration": 8,
    "start_time": "2022-03-04T13:32:13.062Z"
   },
   {
    "duration": 9,
    "start_time": "2022-03-04T13:32:13.161Z"
   },
   {
    "duration": 10,
    "start_time": "2022-03-04T13:32:13.230Z"
   },
   {
    "duration": 10,
    "start_time": "2022-03-04T13:32:13.312Z"
   },
   {
    "duration": 23,
    "start_time": "2022-03-04T13:32:13.399Z"
   },
   {
    "duration": 20,
    "start_time": "2022-03-04T13:32:13.660Z"
   },
   {
    "duration": 11,
    "start_time": "2022-03-04T13:32:13.942Z"
   },
   {
    "duration": 22,
    "start_time": "2022-03-04T13:32:14.171Z"
   },
   {
    "duration": 14,
    "start_time": "2022-03-04T13:32:14.418Z"
   },
   {
    "duration": 9,
    "start_time": "2022-03-04T13:32:14.666Z"
   },
   {
    "duration": 15,
    "start_time": "2022-03-04T13:32:14.919Z"
   },
   {
    "duration": 7,
    "start_time": "2022-03-04T13:32:15.171Z"
   },
   {
    "duration": 21,
    "start_time": "2022-03-04T13:32:15.408Z"
   },
   {
    "duration": 10,
    "start_time": "2022-03-04T13:32:15.649Z"
   },
   {
    "duration": 58,
    "start_time": "2022-03-04T13:32:15.923Z"
   },
   {
    "duration": 7,
    "start_time": "2022-03-04T13:32:16.222Z"
   },
   {
    "duration": 6,
    "start_time": "2022-03-04T13:32:16.525Z"
   },
   {
    "duration": 7,
    "start_time": "2022-03-04T13:32:16.807Z"
   },
   {
    "duration": 5,
    "start_time": "2022-03-04T13:32:17.096Z"
   },
   {
    "duration": 11,
    "start_time": "2022-03-04T13:32:17.368Z"
   },
   {
    "duration": 6160,
    "start_time": "2022-03-04T13:32:17.623Z"
   },
   {
    "duration": 9,
    "start_time": "2022-03-04T13:32:23.785Z"
   },
   {
    "duration": 7,
    "start_time": "2022-03-04T13:32:47.225Z"
   },
   {
    "duration": 5,
    "start_time": "2022-03-04T13:32:47.516Z"
   },
   {
    "duration": 5,
    "start_time": "2022-03-04T13:32:47.721Z"
   },
   {
    "duration": 6,
    "start_time": "2022-03-04T13:32:47.897Z"
   },
   {
    "duration": 9,
    "start_time": "2022-03-04T13:32:48.078Z"
   },
   {
    "duration": 6177,
    "start_time": "2022-03-04T13:32:48.250Z"
   },
   {
    "duration": 11,
    "start_time": "2022-03-04T13:32:54.430Z"
   },
   {
    "duration": 8,
    "start_time": "2022-03-04T13:33:06.914Z"
   },
   {
    "duration": 5,
    "start_time": "2022-03-04T13:33:07.087Z"
   },
   {
    "duration": 5,
    "start_time": "2022-03-04T13:33:07.278Z"
   },
   {
    "duration": 6,
    "start_time": "2022-03-04T13:33:07.418Z"
   },
   {
    "duration": 11,
    "start_time": "2022-03-04T13:33:07.619Z"
   },
   {
    "duration": 6404,
    "start_time": "2022-03-04T13:33:07.840Z"
   },
   {
    "duration": 11,
    "start_time": "2022-03-04T13:33:14.247Z"
   },
   {
    "duration": 7,
    "start_time": "2022-03-04T13:33:24.320Z"
   },
   {
    "duration": 6,
    "start_time": "2022-03-04T13:33:24.993Z"
   },
   {
    "duration": 5,
    "start_time": "2022-03-04T13:33:25.233Z"
   },
   {
    "duration": 5,
    "start_time": "2022-03-04T13:33:25.433Z"
   },
   {
    "duration": 9,
    "start_time": "2022-03-04T13:33:25.622Z"
   },
   {
    "duration": 6339,
    "start_time": "2022-03-04T13:33:25.811Z"
   },
   {
    "duration": 12,
    "start_time": "2022-03-04T13:33:32.153Z"
   },
   {
    "duration": 10,
    "start_time": "2022-03-04T13:33:39.445Z"
   },
   {
    "duration": 6319,
    "start_time": "2022-03-04T13:33:39.715Z"
   },
   {
    "duration": 9,
    "start_time": "2022-03-04T13:33:46.037Z"
   },
   {
    "duration": 11,
    "start_time": "2022-03-04T13:34:07.206Z"
   },
   {
    "duration": 6356,
    "start_time": "2022-03-04T13:34:07.497Z"
   },
   {
    "duration": 9,
    "start_time": "2022-03-04T13:34:15.641Z"
   },
   {
    "duration": 1392,
    "start_time": "2022-03-04T14:05:03.770Z"
   },
   {
    "duration": 44,
    "start_time": "2022-03-04T14:05:05.165Z"
   },
   {
    "duration": 35,
    "start_time": "2022-03-04T14:05:05.212Z"
   },
   {
    "duration": 20,
    "start_time": "2022-03-04T14:05:05.250Z"
   },
   {
    "duration": 16,
    "start_time": "2022-03-04T14:05:05.272Z"
   },
   {
    "duration": 6,
    "start_time": "2022-03-04T14:05:05.291Z"
   },
   {
    "duration": 11,
    "start_time": "2022-03-04T14:05:05.780Z"
   },
   {
    "duration": 18,
    "start_time": "2022-03-04T14:05:05.795Z"
   },
   {
    "duration": 8,
    "start_time": "2022-03-04T14:05:05.817Z"
   },
   {
    "duration": 60,
    "start_time": "2022-03-04T14:05:05.829Z"
   },
   {
    "duration": 167,
    "start_time": "2022-03-04T14:05:05.892Z"
   },
   {
    "duration": 163,
    "start_time": "2022-03-04T14:05:06.061Z"
   },
   {
    "duration": 10,
    "start_time": "2022-03-04T14:05:06.227Z"
   },
   {
    "duration": 6,
    "start_time": "2022-03-04T14:05:06.240Z"
   },
   {
    "duration": 249,
    "start_time": "2022-03-04T14:05:06.249Z"
   },
   {
    "duration": 12,
    "start_time": "2022-03-04T14:05:06.500Z"
   },
   {
    "duration": 19,
    "start_time": "2022-03-04T14:05:06.515Z"
   },
   {
    "duration": 21,
    "start_time": "2022-03-04T14:05:06.537Z"
   },
   {
    "duration": 236,
    "start_time": "2022-03-04T14:05:06.582Z"
   },
   {
    "duration": 8,
    "start_time": "2022-03-04T14:05:06.821Z"
   },
   {
    "duration": 252,
    "start_time": "2022-03-04T14:05:06.832Z"
   },
   {
    "duration": 9,
    "start_time": "2022-03-04T14:05:07.087Z"
   },
   {
    "duration": 10,
    "start_time": "2022-03-04T14:05:07.099Z"
   },
   {
    "duration": 8,
    "start_time": "2022-03-04T14:05:07.115Z"
   },
   {
    "duration": 11,
    "start_time": "2022-03-04T14:05:07.126Z"
   },
   {
    "duration": 8,
    "start_time": "2022-03-04T14:05:07.184Z"
   },
   {
    "duration": 19,
    "start_time": "2022-03-04T14:05:07.195Z"
   },
   {
    "duration": 6,
    "start_time": "2022-03-04T14:05:07.217Z"
   },
   {
    "duration": 12,
    "start_time": "2022-03-04T14:05:07.225Z"
   },
   {
    "duration": 63,
    "start_time": "2022-03-04T14:05:07.240Z"
   },
   {
    "duration": 38,
    "start_time": "2022-03-04T14:05:07.306Z"
   },
   {
    "duration": 18,
    "start_time": "2022-03-04T14:05:07.347Z"
   },
   {
    "duration": 9,
    "start_time": "2022-03-04T14:05:07.384Z"
   },
   {
    "duration": 20,
    "start_time": "2022-03-04T14:05:07.396Z"
   },
   {
    "duration": 9,
    "start_time": "2022-03-04T14:05:07.420Z"
   },
   {
    "duration": 11,
    "start_time": "2022-03-04T14:05:07.431Z"
   },
   {
    "duration": 48,
    "start_time": "2022-03-04T14:05:07.444Z"
   },
   {
    "duration": 11,
    "start_time": "2022-03-04T14:05:07.495Z"
   },
   {
    "duration": 10,
    "start_time": "2022-03-04T14:05:07.539Z"
   },
   {
    "duration": 9,
    "start_time": "2022-03-04T14:05:07.620Z"
   },
   {
    "duration": 23,
    "start_time": "2022-03-04T14:05:07.699Z"
   },
   {
    "duration": 20,
    "start_time": "2022-03-04T14:05:07.783Z"
   },
   {
    "duration": 11,
    "start_time": "2022-03-04T14:05:07.890Z"
   },
   {
    "duration": 17,
    "start_time": "2022-03-04T14:05:07.955Z"
   },
   {
    "duration": 13,
    "start_time": "2022-03-04T14:05:08.037Z"
   },
   {
    "duration": 9,
    "start_time": "2022-03-04T14:05:08.126Z"
   },
   {
    "duration": 16,
    "start_time": "2022-03-04T14:05:08.202Z"
   },
   {
    "duration": 7,
    "start_time": "2022-03-04T14:05:08.284Z"
   },
   {
    "duration": 23,
    "start_time": "2022-03-04T14:05:08.368Z"
   },
   {
    "duration": 11,
    "start_time": "2022-03-04T14:05:08.879Z"
   },
   {
    "duration": 61,
    "start_time": "2022-03-04T14:05:09.289Z"
   },
   {
    "duration": 7,
    "start_time": "2022-03-04T14:05:09.657Z"
   },
   {
    "duration": 6,
    "start_time": "2022-03-04T14:05:09.978Z"
   },
   {
    "duration": 5,
    "start_time": "2022-03-04T14:05:10.231Z"
   },
   {
    "duration": 6,
    "start_time": "2022-03-04T14:05:10.482Z"
   },
   {
    "duration": 10,
    "start_time": "2022-03-04T14:05:10.708Z"
   },
   {
    "duration": 9388,
    "start_time": "2022-03-04T14:05:10.957Z"
   },
   {
    "duration": 19,
    "start_time": "2022-03-04T14:05:20.347Z"
   },
   {
    "duration": 10,
    "start_time": "2022-03-04T14:05:39.865Z"
   },
   {
    "duration": 9378,
    "start_time": "2022-03-04T14:05:40.097Z"
   },
   {
    "duration": 13,
    "start_time": "2022-03-04T14:05:49.479Z"
   },
   {
    "duration": 14,
    "start_time": "2022-03-04T14:05:53.814Z"
   },
   {
    "duration": 8699,
    "start_time": "2022-03-04T14:05:54.065Z"
   },
   {
    "duration": 14,
    "start_time": "2022-03-04T14:06:02.767Z"
   },
   {
    "duration": 10,
    "start_time": "2022-03-04T14:06:08.994Z"
   },
   {
    "duration": 9226,
    "start_time": "2022-03-04T14:06:09.276Z"
   },
   {
    "duration": 26,
    "start_time": "2022-03-04T14:06:18.505Z"
   },
   {
    "duration": 12,
    "start_time": "2022-03-04T14:06:28.161Z"
   },
   {
    "duration": 9740,
    "start_time": "2022-03-04T14:06:28.404Z"
   },
   {
    "duration": 15,
    "start_time": "2022-03-04T14:06:38.147Z"
   },
   {
    "duration": 13,
    "start_time": "2022-03-04T14:06:50.352Z"
   },
   {
    "duration": 8934,
    "start_time": "2022-03-04T14:06:50.644Z"
   },
   {
    "duration": 15,
    "start_time": "2022-03-04T14:06:59.581Z"
   },
   {
    "duration": 11,
    "start_time": "2022-03-04T14:07:06.818Z"
   },
   {
    "duration": 9735,
    "start_time": "2022-03-04T14:07:07.185Z"
   },
   {
    "duration": 14,
    "start_time": "2022-03-04T14:07:16.923Z"
   },
   {
    "duration": 10,
    "start_time": "2022-03-04T14:07:26.904Z"
   },
   {
    "duration": 9992,
    "start_time": "2022-03-04T14:07:27.292Z"
   },
   {
    "duration": 20,
    "start_time": "2022-03-04T14:07:37.288Z"
   },
   {
    "duration": 11,
    "start_time": "2022-03-04T14:07:41.688Z"
   },
   {
    "duration": 10037,
    "start_time": "2022-03-04T14:07:42.003Z"
   },
   {
    "duration": 20,
    "start_time": "2022-03-04T14:07:52.043Z"
   },
   {
    "duration": 9,
    "start_time": "2022-03-04T14:07:58.905Z"
   },
   {
    "duration": 9906,
    "start_time": "2022-03-04T14:07:59.176Z"
   },
   {
    "duration": 15,
    "start_time": "2022-03-04T14:08:09.085Z"
   },
   {
    "duration": 10,
    "start_time": "2022-03-04T14:08:17.291Z"
   },
   {
    "duration": 8886,
    "start_time": "2022-03-04T14:08:17.654Z"
   },
   {
    "duration": 10,
    "start_time": "2022-03-04T14:08:26.543Z"
   },
   {
    "duration": 9,
    "start_time": "2022-03-04T14:08:34.044Z"
   },
   {
    "duration": 9354,
    "start_time": "2022-03-04T14:08:34.362Z"
   },
   {
    "duration": 16,
    "start_time": "2022-03-04T14:08:43.719Z"
   },
   {
    "duration": 9,
    "start_time": "2022-03-04T14:08:52.976Z"
   },
   {
    "duration": 10211,
    "start_time": "2022-03-04T14:08:53.281Z"
   },
   {
    "duration": 10,
    "start_time": "2022-03-04T14:09:03.496Z"
   },
   {
    "duration": 12,
    "start_time": "2022-03-04T14:09:07.183Z"
   },
   {
    "duration": 9655,
    "start_time": "2022-03-04T14:09:07.458Z"
   },
   {
    "duration": 10,
    "start_time": "2022-03-04T14:09:17.115Z"
   },
   {
    "duration": 10,
    "start_time": "2022-03-04T14:09:23.029Z"
   },
   {
    "duration": 10010,
    "start_time": "2022-03-04T14:09:23.042Z"
   },
   {
    "duration": 20,
    "start_time": "2022-03-04T14:09:33.055Z"
   },
   {
    "duration": 10,
    "start_time": "2022-03-04T14:09:38.652Z"
   },
   {
    "duration": 8866,
    "start_time": "2022-03-04T14:09:38.935Z"
   },
   {
    "duration": 14,
    "start_time": "2022-03-04T14:09:47.804Z"
   },
   {
    "duration": 9,
    "start_time": "2022-03-04T14:09:52.860Z"
   },
   {
    "duration": 6474,
    "start_time": "2022-03-04T14:09:53.082Z"
   },
   {
    "duration": 9,
    "start_time": "2022-03-04T14:09:59.560Z"
   },
   {
    "duration": 9,
    "start_time": "2022-03-04T14:10:02.786Z"
   },
   {
    "duration": 6781,
    "start_time": "2022-03-04T14:10:03.014Z"
   },
   {
    "duration": 9,
    "start_time": "2022-03-04T14:10:09.798Z"
   },
   {
    "duration": 10,
    "start_time": "2022-03-04T14:10:14.583Z"
   },
   {
    "duration": 6439,
    "start_time": "2022-03-04T14:10:14.890Z"
   },
   {
    "duration": 9,
    "start_time": "2022-03-04T14:10:21.332Z"
   },
   {
    "duration": 9,
    "start_time": "2022-03-04T14:10:30.140Z"
   },
   {
    "duration": 6369,
    "start_time": "2022-03-04T14:10:30.435Z"
   },
   {
    "duration": 11,
    "start_time": "2022-03-04T14:10:36.807Z"
   },
   {
    "duration": 9,
    "start_time": "2022-03-04T14:10:40.275Z"
   },
   {
    "duration": 6855,
    "start_time": "2022-03-04T14:10:40.579Z"
   },
   {
    "duration": 8,
    "start_time": "2022-03-04T14:10:47.437Z"
   },
   {
    "duration": 10,
    "start_time": "2022-03-04T14:10:48.959Z"
   },
   {
    "duration": 7908,
    "start_time": "2022-03-04T14:10:49.215Z"
   },
   {
    "duration": 9,
    "start_time": "2022-03-04T14:10:57.126Z"
   },
   {
    "duration": 10,
    "start_time": "2022-03-04T14:11:01.124Z"
   },
   {
    "duration": 6978,
    "start_time": "2022-03-04T14:11:01.372Z"
   },
   {
    "duration": 8,
    "start_time": "2022-03-04T14:11:08.353Z"
   },
   {
    "duration": 10,
    "start_time": "2022-03-04T14:11:13.315Z"
   },
   {
    "duration": 6327,
    "start_time": "2022-03-04T14:11:13.649Z"
   },
   {
    "duration": 11,
    "start_time": "2022-03-04T14:11:19.979Z"
   },
   {
    "duration": 10,
    "start_time": "2022-03-04T14:11:23.387Z"
   },
   {
    "duration": 6288,
    "start_time": "2022-03-04T14:11:23.748Z"
   },
   {
    "duration": 9,
    "start_time": "2022-03-04T14:11:30.039Z"
   },
   {
    "duration": 11,
    "start_time": "2022-03-04T14:11:49.777Z"
   },
   {
    "duration": 6144,
    "start_time": "2022-03-04T14:11:50.047Z"
   },
   {
    "duration": 9,
    "start_time": "2022-03-04T14:11:56.194Z"
   },
   {
    "duration": 6566,
    "start_time": "2022-03-04T14:12:02.979Z"
   },
   {
    "duration": 9,
    "start_time": "2022-03-04T14:12:09.548Z"
   },
   {
    "duration": 6622,
    "start_time": "2022-03-04T14:12:14.865Z"
   },
   {
    "duration": 8,
    "start_time": "2022-03-04T14:12:21.490Z"
   },
   {
    "duration": 6868,
    "start_time": "2022-03-04T14:12:26.062Z"
   },
   {
    "duration": 11,
    "start_time": "2022-03-04T14:12:32.933Z"
   },
   {
    "duration": 6791,
    "start_time": "2022-03-04T14:12:39.165Z"
   },
   {
    "duration": 9,
    "start_time": "2022-03-04T14:12:45.959Z"
   },
   {
    "duration": 6013,
    "start_time": "2022-03-04T14:12:52.838Z"
   },
   {
    "duration": 15,
    "start_time": "2022-03-04T14:12:58.854Z"
   },
   {
    "duration": 6804,
    "start_time": "2022-03-04T14:13:04.442Z"
   },
   {
    "duration": 8,
    "start_time": "2022-03-04T14:13:11.249Z"
   },
   {
    "duration": 6230,
    "start_time": "2022-03-04T14:13:18.803Z"
   },
   {
    "duration": 11,
    "start_time": "2022-03-04T14:13:25.037Z"
   },
   {
    "duration": 6816,
    "start_time": "2022-03-04T14:13:30.942Z"
   },
   {
    "duration": 10,
    "start_time": "2022-03-04T14:13:37.761Z"
   },
   {
    "duration": 6229,
    "start_time": "2022-03-04T14:13:41.941Z"
   },
   {
    "duration": 11,
    "start_time": "2022-03-04T14:13:48.173Z"
   },
   {
    "duration": 7243,
    "start_time": "2022-03-04T14:14:00.015Z"
   },
   {
    "duration": 10,
    "start_time": "2022-03-04T14:14:07.262Z"
   },
   {
    "duration": 6186,
    "start_time": "2022-03-04T14:14:10.748Z"
   },
   {
    "duration": 10,
    "start_time": "2022-03-04T14:14:16.937Z"
   },
   {
    "duration": 6745,
    "start_time": "2022-03-04T14:14:42.093Z"
   },
   {
    "duration": 10,
    "start_time": "2022-03-04T14:14:48.841Z"
   },
   {
    "duration": 6358,
    "start_time": "2022-03-04T14:14:53.080Z"
   },
   {
    "duration": 10,
    "start_time": "2022-03-04T14:14:59.441Z"
   },
   {
    "duration": 6640,
    "start_time": "2022-03-04T14:15:05.700Z"
   },
   {
    "duration": 12,
    "start_time": "2022-03-04T14:15:12.342Z"
   },
   {
    "duration": 7372,
    "start_time": "2022-03-04T14:15:16.596Z"
   },
   {
    "duration": 15,
    "start_time": "2022-03-04T14:15:23.971Z"
   },
   {
    "duration": 6805,
    "start_time": "2022-03-04T14:15:27.038Z"
   },
   {
    "duration": 9,
    "start_time": "2022-03-04T14:15:33.846Z"
   },
   {
    "duration": 6277,
    "start_time": "2022-03-04T14:15:37.361Z"
   },
   {
    "duration": 9,
    "start_time": "2022-03-04T14:15:43.640Z"
   },
   {
    "duration": 7974,
    "start_time": "2022-03-04T14:15:46.574Z"
   },
   {
    "duration": 11,
    "start_time": "2022-03-04T14:15:54.551Z"
   },
   {
    "duration": 7051,
    "start_time": "2022-03-04T14:16:00.891Z"
   },
   {
    "duration": 8,
    "start_time": "2022-03-04T14:16:07.945Z"
   },
   {
    "duration": 6477,
    "start_time": "2022-03-04T14:16:10.465Z"
   },
   {
    "duration": 8,
    "start_time": "2022-03-04T14:16:16.945Z"
   },
   {
    "duration": 6327,
    "start_time": "2022-03-04T14:16:21.788Z"
   },
   {
    "duration": 10,
    "start_time": "2022-03-04T14:16:28.118Z"
   },
   {
    "duration": 6273,
    "start_time": "2022-03-04T14:16:33.830Z"
   },
   {
    "duration": 13,
    "start_time": "2022-03-04T14:16:40.106Z"
   },
   {
    "duration": 6400,
    "start_time": "2022-03-04T14:16:45.242Z"
   },
   {
    "duration": 10,
    "start_time": "2022-03-04T14:16:51.645Z"
   },
   {
    "duration": 7387,
    "start_time": "2022-03-04T14:16:54.611Z"
   },
   {
    "duration": 27,
    "start_time": "2022-03-04T14:17:02.002Z"
   },
   {
    "duration": 6416,
    "start_time": "2022-03-04T14:17:06.026Z"
   },
   {
    "duration": 8,
    "start_time": "2022-03-04T14:17:12.445Z"
   },
   {
    "duration": 6865,
    "start_time": "2022-03-04T14:17:16.515Z"
   },
   {
    "duration": 8,
    "start_time": "2022-03-04T14:17:23.383Z"
   },
   {
    "duration": 1014,
    "start_time": "2022-03-04T17:03:15.713Z"
   },
   {
    "duration": 38,
    "start_time": "2022-03-04T17:03:16.878Z"
   },
   {
    "duration": 20,
    "start_time": "2022-03-04T17:03:18.545Z"
   },
   {
    "duration": 8,
    "start_time": "2022-03-04T17:03:19.038Z"
   },
   {
    "duration": 9,
    "start_time": "2022-03-04T17:03:19.343Z"
   },
   {
    "duration": 4,
    "start_time": "2022-03-04T17:03:19.513Z"
   },
   {
    "duration": 6,
    "start_time": "2022-03-04T17:03:19.685Z"
   },
   {
    "duration": 4,
    "start_time": "2022-03-04T17:03:19.864Z"
   },
   {
    "duration": 6,
    "start_time": "2022-03-04T17:03:20.244Z"
   },
   {
    "duration": 6,
    "start_time": "2022-03-04T17:03:20.416Z"
   },
   {
    "duration": 62,
    "start_time": "2022-03-04T17:03:20.785Z"
   },
   {
    "duration": 76,
    "start_time": "2022-03-04T17:03:20.924Z"
   },
   {
    "duration": 7,
    "start_time": "2022-03-04T17:03:21.432Z"
   },
   {
    "duration": 4,
    "start_time": "2022-03-04T17:03:21.865Z"
   },
   {
    "duration": 115,
    "start_time": "2022-03-04T17:03:22.024Z"
   },
   {
    "duration": 7,
    "start_time": "2022-03-04T17:03:22.177Z"
   },
   {
    "duration": 8,
    "start_time": "2022-03-04T17:03:22.323Z"
   },
   {
    "duration": 6,
    "start_time": "2022-03-04T17:03:22.484Z"
   },
   {
    "duration": 87,
    "start_time": "2022-03-04T17:03:22.617Z"
   },
   {
    "duration": 5,
    "start_time": "2022-03-04T17:03:22.776Z"
   },
   {
    "duration": 122,
    "start_time": "2022-03-04T17:03:22.944Z"
   },
   {
    "duration": 6,
    "start_time": "2022-03-04T17:03:23.092Z"
   },
   {
    "duration": 5,
    "start_time": "2022-03-04T17:03:23.237Z"
   },
   {
    "duration": 5,
    "start_time": "2022-03-04T17:03:23.405Z"
   },
   {
    "duration": 6,
    "start_time": "2022-03-04T17:03:23.564Z"
   },
   {
    "duration": 5,
    "start_time": "2022-03-04T17:03:23.696Z"
   },
   {
    "duration": 10,
    "start_time": "2022-03-04T17:03:23.872Z"
   },
   {
    "duration": 4,
    "start_time": "2022-03-04T17:03:24.018Z"
   },
   {
    "duration": 6,
    "start_time": "2022-03-04T17:03:24.135Z"
   },
   {
    "duration": 12,
    "start_time": "2022-03-04T17:03:24.284Z"
   },
   {
    "duration": 44,
    "start_time": "2022-03-04T17:03:24.456Z"
   },
   {
    "duration": 11,
    "start_time": "2022-03-04T17:03:24.577Z"
   },
   {
    "duration": 7,
    "start_time": "2022-03-04T17:03:25.140Z"
   },
   {
    "duration": 6,
    "start_time": "2022-03-04T17:03:25.332Z"
   },
   {
    "duration": 6,
    "start_time": "2022-03-04T17:03:25.465Z"
   },
   {
    "duration": 6,
    "start_time": "2022-03-04T17:03:25.649Z"
   },
   {
    "duration": 6,
    "start_time": "2022-03-04T17:03:25.764Z"
   },
   {
    "duration": 5,
    "start_time": "2022-03-04T17:03:25.925Z"
   },
   {
    "duration": 5,
    "start_time": "2022-03-04T17:03:26.065Z"
   },
   {
    "duration": 5,
    "start_time": "2022-03-04T17:03:26.389Z"
   },
   {
    "duration": 34,
    "start_time": "2022-03-04T17:03:26.524Z"
   },
   {
    "duration": 11,
    "start_time": "2022-03-04T17:03:26.657Z"
   },
   {
    "duration": 8,
    "start_time": "2022-03-04T17:03:26.816Z"
   },
   {
    "duration": 18,
    "start_time": "2022-03-04T17:03:26.984Z"
   },
   {
    "duration": 8,
    "start_time": "2022-03-04T17:03:27.152Z"
   },
   {
    "duration": 6,
    "start_time": "2022-03-04T17:03:27.324Z"
   },
   {
    "duration": 11,
    "start_time": "2022-03-04T17:03:27.456Z"
   },
   {
    "duration": 5,
    "start_time": "2022-03-04T17:03:27.596Z"
   },
   {
    "duration": 13,
    "start_time": "2022-03-04T17:03:27.737Z"
   },
   {
    "duration": 6,
    "start_time": "2022-03-04T17:03:27.896Z"
   },
   {
    "duration": 33,
    "start_time": "2022-03-04T17:03:28.085Z"
   },
   {
    "duration": 4,
    "start_time": "2022-03-04T17:03:28.245Z"
   },
   {
    "duration": 3,
    "start_time": "2022-03-04T17:03:28.404Z"
   },
   {
    "duration": 3,
    "start_time": "2022-03-04T17:03:28.565Z"
   },
   {
    "duration": 3,
    "start_time": "2022-03-04T17:03:28.738Z"
   },
   {
    "duration": 6,
    "start_time": "2022-03-04T17:03:29.266Z"
   },
   {
    "duration": 5126,
    "start_time": "2022-03-04T17:03:29.586Z"
   },
   {
    "duration": 6,
    "start_time": "2022-03-04T17:03:34.714Z"
   },
   {
    "duration": 1751,
    "start_time": "2022-03-05T10:30:57.315Z"
   },
   {
    "duration": 256,
    "start_time": "2022-03-05T10:31:42.154Z"
   },
   {
    "duration": 265,
    "start_time": "2022-03-05T10:31:49.019Z"
   },
   {
    "duration": 270,
    "start_time": "2022-03-05T10:32:54.238Z"
   },
   {
    "duration": 90,
    "start_time": "2022-03-05T10:33:15.384Z"
   },
   {
    "duration": 104,
    "start_time": "2022-03-05T10:33:27.348Z"
   },
   {
    "duration": 4322,
    "start_time": "2022-03-05T10:34:24.524Z"
   },
   {
    "duration": 4,
    "start_time": "2022-03-05T10:35:23.524Z"
   },
   {
    "duration": 4571,
    "start_time": "2022-03-05T10:35:57.061Z"
   },
   {
    "duration": 41,
    "start_time": "2022-03-05T10:36:01.635Z"
   },
   {
    "duration": 33,
    "start_time": "2022-03-05T10:36:01.679Z"
   },
   {
    "duration": 30,
    "start_time": "2022-03-05T10:36:01.715Z"
   },
   {
    "duration": 26,
    "start_time": "2022-03-05T10:36:01.748Z"
   },
   {
    "duration": 12,
    "start_time": "2022-03-05T10:36:01.777Z"
   },
   {
    "duration": 13,
    "start_time": "2022-03-05T10:36:01.792Z"
   },
   {
    "duration": 24,
    "start_time": "2022-03-05T10:36:01.810Z"
   },
   {
    "duration": 26,
    "start_time": "2022-03-05T10:36:01.837Z"
   },
   {
    "duration": 22,
    "start_time": "2022-03-05T10:36:01.866Z"
   },
   {
    "duration": 134,
    "start_time": "2022-03-05T10:36:01.891Z"
   },
   {
    "duration": 142,
    "start_time": "2022-03-05T10:36:02.027Z"
   },
   {
    "duration": 16,
    "start_time": "2022-03-05T10:36:02.171Z"
   },
   {
    "duration": 216,
    "start_time": "2022-03-05T10:36:02.189Z"
   },
   {
    "duration": 10,
    "start_time": "2022-03-05T10:36:02.408Z"
   },
   {
    "duration": 10,
    "start_time": "2022-03-05T10:36:02.421Z"
   },
   {
    "duration": 40,
    "start_time": "2022-03-05T10:36:02.433Z"
   },
   {
    "duration": 172,
    "start_time": "2022-03-05T10:36:02.476Z"
   },
   {
    "duration": 8,
    "start_time": "2022-03-05T10:36:02.653Z"
   },
   {
    "duration": 248,
    "start_time": "2022-03-05T10:36:02.665Z"
   },
   {
    "duration": 9,
    "start_time": "2022-03-05T10:36:02.916Z"
   },
   {
    "duration": 39,
    "start_time": "2022-03-05T10:36:02.928Z"
   },
   {
    "duration": 34,
    "start_time": "2022-03-05T10:36:02.970Z"
   },
   {
    "duration": 37,
    "start_time": "2022-03-05T10:36:03.006Z"
   },
   {
    "duration": 14,
    "start_time": "2022-03-05T10:36:03.045Z"
   },
   {
    "duration": 13,
    "start_time": "2022-03-05T10:36:03.061Z"
   },
   {
    "duration": 5,
    "start_time": "2022-03-05T10:36:03.077Z"
   },
   {
    "duration": 15,
    "start_time": "2022-03-05T10:36:03.084Z"
   },
   {
    "duration": 19,
    "start_time": "2022-03-05T10:36:03.101Z"
   },
   {
    "duration": 29,
    "start_time": "2022-03-05T10:36:03.122Z"
   },
   {
    "duration": 17,
    "start_time": "2022-03-05T10:36:03.153Z"
   },
   {
    "duration": 22,
    "start_time": "2022-03-05T10:36:03.172Z"
   },
   {
    "duration": 21,
    "start_time": "2022-03-05T10:36:03.196Z"
   },
   {
    "duration": 7,
    "start_time": "2022-03-05T10:36:03.223Z"
   },
   {
    "duration": 7,
    "start_time": "2022-03-05T10:36:03.303Z"
   },
   {
    "duration": 9,
    "start_time": "2022-03-05T10:36:03.389Z"
   },
   {
    "duration": 7,
    "start_time": "2022-03-05T10:36:03.481Z"
   },
   {
    "duration": 8,
    "start_time": "2022-03-05T10:36:03.557Z"
   },
   {
    "duration": 9,
    "start_time": "2022-03-05T10:36:03.645Z"
   },
   {
    "duration": 21,
    "start_time": "2022-03-05T10:36:03.723Z"
   },
   {
    "duration": 17,
    "start_time": "2022-03-05T10:36:04.041Z"
   },
   {
    "duration": 10,
    "start_time": "2022-03-05T10:36:04.302Z"
   },
   {
    "duration": 20,
    "start_time": "2022-03-05T10:36:04.528Z"
   },
   {
    "duration": 13,
    "start_time": "2022-03-05T10:36:04.747Z"
   },
   {
    "duration": 7,
    "start_time": "2022-03-05T10:36:04.955Z"
   },
   {
    "duration": 15,
    "start_time": "2022-03-05T10:36:05.203Z"
   },
   {
    "duration": 6,
    "start_time": "2022-03-05T10:36:05.412Z"
   },
   {
    "duration": 21,
    "start_time": "2022-03-05T10:36:05.655Z"
   },
   {
    "duration": 9,
    "start_time": "2022-03-05T10:36:06.084Z"
   },
   {
    "duration": 58,
    "start_time": "2022-03-05T10:36:06.312Z"
   },
   {
    "duration": 7,
    "start_time": "2022-03-05T10:36:06.521Z"
   },
   {
    "duration": 4,
    "start_time": "2022-03-05T10:36:06.743Z"
   },
   {
    "duration": 5,
    "start_time": "2022-03-05T10:36:07.026Z"
   },
   {
    "duration": 5,
    "start_time": "2022-03-05T10:36:07.199Z"
   },
   {
    "duration": 8,
    "start_time": "2022-03-05T10:36:07.444Z"
   },
   {
    "duration": 6312,
    "start_time": "2022-03-05T10:36:07.815Z"
   },
   {
    "duration": 9,
    "start_time": "2022-03-05T10:36:14.129Z"
   },
   {
    "duration": 3,
    "start_time": "2022-03-05T10:36:14.141Z"
   },
   {
    "duration": 399,
    "start_time": "2022-03-05T10:36:14.147Z"
   },
   {
    "duration": 3,
    "start_time": "2022-03-05T10:39:58.770Z"
   },
   {
    "duration": 8,
    "start_time": "2022-03-05T10:39:59.493Z"
   },
   {
    "duration": 21,
    "start_time": "2022-03-05T10:40:08.678Z"
   },
   {
    "duration": 4,
    "start_time": "2022-03-05T10:40:42.937Z"
   },
   {
    "duration": 8,
    "start_time": "2022-03-05T10:40:43.237Z"
   },
   {
    "duration": 23,
    "start_time": "2022-03-05T10:40:43.682Z"
   },
   {
    "duration": 4546,
    "start_time": "2022-03-05T10:41:04.294Z"
   },
   {
    "duration": 35,
    "start_time": "2022-03-05T10:41:08.842Z"
   },
   {
    "duration": 31,
    "start_time": "2022-03-05T10:41:08.881Z"
   },
   {
    "duration": 14,
    "start_time": "2022-03-05T10:41:08.915Z"
   },
   {
    "duration": 14,
    "start_time": "2022-03-05T10:41:08.932Z"
   },
   {
    "duration": 6,
    "start_time": "2022-03-05T10:41:08.948Z"
   },
   {
    "duration": 9,
    "start_time": "2022-03-05T10:41:08.987Z"
   },
   {
    "duration": 7,
    "start_time": "2022-03-05T10:41:08.999Z"
   },
   {
    "duration": 5,
    "start_time": "2022-03-05T10:41:09.009Z"
   },
   {
    "duration": 9,
    "start_time": "2022-03-05T10:41:09.016Z"
   },
   {
    "duration": 160,
    "start_time": "2022-03-05T10:41:09.027Z"
   },
   {
    "duration": 149,
    "start_time": "2022-03-05T10:41:09.189Z"
   },
   {
    "duration": 9,
    "start_time": "2022-03-05T10:41:09.340Z"
   },
   {
    "duration": 237,
    "start_time": "2022-03-05T10:41:09.351Z"
   },
   {
    "duration": 10,
    "start_time": "2022-03-05T10:41:09.590Z"
   },
   {
    "duration": 10,
    "start_time": "2022-03-05T10:41:09.603Z"
   },
   {
    "duration": 8,
    "start_time": "2022-03-05T10:41:09.615Z"
   },
   {
    "duration": 197,
    "start_time": "2022-03-05T10:41:09.625Z"
   },
   {
    "duration": 8,
    "start_time": "2022-03-05T10:41:09.824Z"
   },
   {
    "duration": 260,
    "start_time": "2022-03-05T10:41:09.835Z"
   },
   {
    "duration": 9,
    "start_time": "2022-03-05T10:41:10.097Z"
   },
   {
    "duration": 9,
    "start_time": "2022-03-05T10:41:10.108Z"
   },
   {
    "duration": 7,
    "start_time": "2022-03-05T10:41:10.123Z"
   },
   {
    "duration": 8,
    "start_time": "2022-03-05T10:41:10.133Z"
   },
   {
    "duration": 47,
    "start_time": "2022-03-05T10:41:10.144Z"
   },
   {
    "duration": 14,
    "start_time": "2022-03-05T10:41:10.193Z"
   },
   {
    "duration": 5,
    "start_time": "2022-03-05T10:41:10.210Z"
   },
   {
    "duration": 12,
    "start_time": "2022-03-05T10:41:10.217Z"
   },
   {
    "duration": 21,
    "start_time": "2022-03-05T10:41:10.231Z"
   },
   {
    "duration": 25,
    "start_time": "2022-03-05T10:41:10.286Z"
   },
   {
    "duration": 16,
    "start_time": "2022-03-05T10:41:10.313Z"
   },
   {
    "duration": 10,
    "start_time": "2022-03-05T10:41:10.331Z"
   },
   {
    "duration": 11,
    "start_time": "2022-03-05T10:41:10.343Z"
   },
   {
    "duration": 37,
    "start_time": "2022-03-05T10:41:10.357Z"
   },
   {
    "duration": 10,
    "start_time": "2022-03-05T10:41:10.396Z"
   },
   {
    "duration": 9,
    "start_time": "2022-03-05T10:41:10.408Z"
   },
   {
    "duration": 9,
    "start_time": "2022-03-05T10:41:10.419Z"
   },
   {
    "duration": 8,
    "start_time": "2022-03-05T10:41:10.430Z"
   },
   {
    "duration": 52,
    "start_time": "2022-03-05T10:41:10.440Z"
   },
   {
    "duration": 22,
    "start_time": "2022-03-05T10:41:10.494Z"
   },
   {
    "duration": 20,
    "start_time": "2022-03-05T10:41:10.518Z"
   },
   {
    "duration": 14,
    "start_time": "2022-03-05T10:41:10.541Z"
   },
   {
    "duration": 42,
    "start_time": "2022-03-05T10:41:10.558Z"
   },
   {
    "duration": 11,
    "start_time": "2022-03-05T10:41:10.603Z"
   },
   {
    "duration": 13,
    "start_time": "2022-03-05T10:41:10.618Z"
   },
   {
    "duration": 25,
    "start_time": "2022-03-05T10:41:10.633Z"
   },
   {
    "duration": 8,
    "start_time": "2022-03-05T10:41:10.864Z"
   },
   {
    "duration": 22,
    "start_time": "2022-03-05T10:41:11.089Z"
   },
   {
    "duration": 9,
    "start_time": "2022-03-05T10:41:11.576Z"
   },
   {
    "duration": 58,
    "start_time": "2022-03-05T10:41:11.840Z"
   },
   {
    "duration": 7,
    "start_time": "2022-03-05T10:41:12.103Z"
   },
   {
    "duration": 5,
    "start_time": "2022-03-05T10:41:12.388Z"
   },
   {
    "duration": 5,
    "start_time": "2022-03-05T10:41:12.730Z"
   },
   {
    "duration": 5,
    "start_time": "2022-03-05T10:41:12.991Z"
   },
   {
    "duration": 10,
    "start_time": "2022-03-05T10:41:13.267Z"
   },
   {
    "duration": 6320,
    "start_time": "2022-03-05T10:41:13.792Z"
   },
   {
    "duration": 9,
    "start_time": "2022-03-05T10:41:20.114Z"
   },
   {
    "duration": 3,
    "start_time": "2022-03-05T10:41:20.126Z"
   },
   {
    "duration": 10,
    "start_time": "2022-03-05T10:41:20.131Z"
   },
   {
    "duration": 59,
    "start_time": "2022-03-05T10:41:20.143Z"
   },
   {
    "duration": 4535,
    "start_time": "2022-03-05T10:51:50.473Z"
   },
   {
    "duration": 34,
    "start_time": "2022-03-05T10:51:55.011Z"
   },
   {
    "duration": 39,
    "start_time": "2022-03-05T10:51:55.048Z"
   },
   {
    "duration": 14,
    "start_time": "2022-03-05T10:51:55.090Z"
   },
   {
    "duration": 14,
    "start_time": "2022-03-05T10:51:55.107Z"
   },
   {
    "duration": 7,
    "start_time": "2022-03-05T10:51:55.123Z"
   },
   {
    "duration": 13,
    "start_time": "2022-03-05T10:51:55.132Z"
   },
   {
    "duration": 43,
    "start_time": "2022-03-05T10:51:55.148Z"
   },
   {
    "duration": 10,
    "start_time": "2022-03-05T10:51:55.193Z"
   },
   {
    "duration": 8,
    "start_time": "2022-03-05T10:51:55.205Z"
   },
   {
    "duration": 145,
    "start_time": "2022-03-05T10:51:55.216Z"
   },
   {
    "duration": 155,
    "start_time": "2022-03-05T10:51:55.363Z"
   },
   {
    "duration": 9,
    "start_time": "2022-03-05T10:51:55.521Z"
   },
   {
    "duration": 240,
    "start_time": "2022-03-05T10:51:55.533Z"
   },
   {
    "duration": 14,
    "start_time": "2022-03-05T10:51:55.775Z"
   },
   {
    "duration": 10,
    "start_time": "2022-03-05T10:51:55.792Z"
   },
   {
    "duration": 8,
    "start_time": "2022-03-05T10:51:55.805Z"
   },
   {
    "duration": 190,
    "start_time": "2022-03-05T10:51:55.815Z"
   },
   {
    "duration": 8,
    "start_time": "2022-03-05T10:51:56.008Z"
   },
   {
    "duration": 238,
    "start_time": "2022-03-05T10:51:56.019Z"
   },
   {
    "duration": 9,
    "start_time": "2022-03-05T10:51:56.259Z"
   },
   {
    "duration": 20,
    "start_time": "2022-03-05T10:51:56.271Z"
   },
   {
    "duration": 8,
    "start_time": "2022-03-05T10:51:56.297Z"
   },
   {
    "duration": 8,
    "start_time": "2022-03-05T10:51:56.308Z"
   },
   {
    "duration": 6,
    "start_time": "2022-03-05T10:51:56.319Z"
   },
   {
    "duration": 14,
    "start_time": "2022-03-05T10:51:56.327Z"
   },
   {
    "duration": 6,
    "start_time": "2022-03-05T10:51:56.388Z"
   },
   {
    "duration": 12,
    "start_time": "2022-03-05T10:51:56.397Z"
   },
   {
    "duration": 21,
    "start_time": "2022-03-05T10:51:56.411Z"
   },
   {
    "duration": 27,
    "start_time": "2022-03-05T10:51:56.434Z"
   },
   {
    "duration": 18,
    "start_time": "2022-03-05T10:51:56.488Z"
   },
   {
    "duration": 19,
    "start_time": "2022-03-05T10:51:56.508Z"
   },
   {
    "duration": 18,
    "start_time": "2022-03-05T10:51:56.529Z"
   },
   {
    "duration": 11,
    "start_time": "2022-03-05T10:51:56.549Z"
   },
   {
    "duration": 10,
    "start_time": "2022-03-05T10:51:56.586Z"
   },
   {
    "duration": 11,
    "start_time": "2022-03-05T10:51:56.598Z"
   },
   {
    "duration": 10,
    "start_time": "2022-03-05T10:51:56.611Z"
   },
   {
    "duration": 15,
    "start_time": "2022-03-05T10:51:56.623Z"
   },
   {
    "duration": 46,
    "start_time": "2022-03-05T10:51:56.641Z"
   },
   {
    "duration": 27,
    "start_time": "2022-03-05T10:51:56.690Z"
   },
   {
    "duration": 28,
    "start_time": "2022-03-05T10:51:56.720Z"
   },
   {
    "duration": 38,
    "start_time": "2022-03-05T10:51:56.752Z"
   },
   {
    "duration": 15,
    "start_time": "2022-03-05T10:51:56.792Z"
   },
   {
    "duration": 12,
    "start_time": "2022-03-05T10:51:56.810Z"
   },
   {
    "duration": 11,
    "start_time": "2022-03-05T10:51:56.825Z"
   },
   {
    "duration": 48,
    "start_time": "2022-03-05T10:51:56.840Z"
   },
   {
    "duration": 6,
    "start_time": "2022-03-05T10:51:56.890Z"
   },
   {
    "duration": 21,
    "start_time": "2022-03-05T10:51:56.973Z"
   },
   {
    "duration": 9,
    "start_time": "2022-03-05T10:51:57.851Z"
   },
   {
    "duration": 56,
    "start_time": "2022-03-05T10:51:58.114Z"
   },
   {
    "duration": 6,
    "start_time": "2022-03-05T10:51:58.471Z"
   },
   {
    "duration": 5,
    "start_time": "2022-03-05T10:51:58.938Z"
   },
   {
    "duration": 5,
    "start_time": "2022-03-05T10:51:59.153Z"
   },
   {
    "duration": 5,
    "start_time": "2022-03-05T10:51:59.361Z"
   },
   {
    "duration": 9,
    "start_time": "2022-03-05T10:51:59.581Z"
   },
   {
    "duration": 6685,
    "start_time": "2022-03-05T10:52:00.062Z"
   },
   {
    "duration": 11,
    "start_time": "2022-03-05T10:52:06.749Z"
   },
   {
    "duration": 26,
    "start_time": "2022-03-05T10:52:06.763Z"
   },
   {
    "duration": 12,
    "start_time": "2022-03-05T10:52:06.793Z"
   },
   {
    "duration": 29,
    "start_time": "2022-03-05T10:52:06.808Z"
   },
   {
    "duration": 9,
    "start_time": "2022-03-05T10:52:06.840Z"
   },
   {
    "duration": 6532,
    "start_time": "2022-03-05T10:55:32.649Z"
   },
   {
    "duration": 34,
    "start_time": "2022-03-05T10:55:42.590Z"
   },
   {
    "duration": 29,
    "start_time": "2022-03-05T10:55:48.597Z"
   },
   {
    "duration": 36,
    "start_time": "2022-03-05T10:56:09.318Z"
   },
   {
    "duration": 20,
    "start_time": "2022-03-05T10:56:12.293Z"
   },
   {
    "duration": 4511,
    "start_time": "2022-03-05T11:02:43.504Z"
   },
   {
    "duration": 39,
    "start_time": "2022-03-05T11:02:48.018Z"
   },
   {
    "duration": 32,
    "start_time": "2022-03-05T11:02:48.060Z"
   },
   {
    "duration": 17,
    "start_time": "2022-03-05T11:02:48.094Z"
   },
   {
    "duration": 15,
    "start_time": "2022-03-05T11:02:48.113Z"
   },
   {
    "duration": 7,
    "start_time": "2022-03-05T11:02:48.130Z"
   },
   {
    "duration": 47,
    "start_time": "2022-03-05T11:02:48.140Z"
   },
   {
    "duration": 5,
    "start_time": "2022-03-05T11:02:48.191Z"
   },
   {
    "duration": 9,
    "start_time": "2022-03-05T11:02:48.199Z"
   },
   {
    "duration": 9,
    "start_time": "2022-03-05T11:02:48.210Z"
   },
   {
    "duration": 148,
    "start_time": "2022-03-05T11:02:48.221Z"
   },
   {
    "duration": 151,
    "start_time": "2022-03-05T11:02:48.371Z"
   },
   {
    "duration": 11,
    "start_time": "2022-03-05T11:02:48.525Z"
   },
   {
    "duration": 251,
    "start_time": "2022-03-05T11:02:48.538Z"
   },
   {
    "duration": 10,
    "start_time": "2022-03-05T11:02:48.791Z"
   },
   {
    "duration": 12,
    "start_time": "2022-03-05T11:02:48.804Z"
   },
   {
    "duration": 10,
    "start_time": "2022-03-05T11:02:48.819Z"
   },
   {
    "duration": 201,
    "start_time": "2022-03-05T11:02:48.832Z"
   },
   {
    "duration": 9,
    "start_time": "2022-03-05T11:02:49.036Z"
   },
   {
    "duration": 246,
    "start_time": "2022-03-05T11:02:49.048Z"
   },
   {
    "duration": 8,
    "start_time": "2022-03-05T11:02:49.296Z"
   },
   {
    "duration": 13,
    "start_time": "2022-03-05T11:02:49.306Z"
   },
   {
    "duration": 7,
    "start_time": "2022-03-05T11:02:49.324Z"
   },
   {
    "duration": 12,
    "start_time": "2022-03-05T11:02:49.334Z"
   },
   {
    "duration": 42,
    "start_time": "2022-03-05T11:02:49.349Z"
   },
   {
    "duration": 16,
    "start_time": "2022-03-05T11:02:49.393Z"
   },
   {
    "duration": 6,
    "start_time": "2022-03-05T11:02:49.412Z"
   },
   {
    "duration": 13,
    "start_time": "2022-03-05T11:02:49.421Z"
   },
   {
    "duration": 52,
    "start_time": "2022-03-05T11:02:49.437Z"
   },
   {
    "duration": 30,
    "start_time": "2022-03-05T11:02:49.491Z"
   },
   {
    "duration": 16,
    "start_time": "2022-03-05T11:02:49.523Z"
   },
   {
    "duration": 9,
    "start_time": "2022-03-05T11:02:49.542Z"
   },
   {
    "duration": 39,
    "start_time": "2022-03-05T11:02:49.554Z"
   },
   {
    "duration": 17,
    "start_time": "2022-03-05T11:02:49.596Z"
   },
   {
    "duration": 9,
    "start_time": "2022-03-05T11:02:49.616Z"
   },
   {
    "duration": 12,
    "start_time": "2022-03-05T11:02:49.628Z"
   },
   {
    "duration": 8,
    "start_time": "2022-03-05T11:02:49.642Z"
   },
   {
    "duration": 9,
    "start_time": "2022-03-05T11:02:49.687Z"
   },
   {
    "duration": 10,
    "start_time": "2022-03-05T11:02:49.698Z"
   },
   {
    "duration": 22,
    "start_time": "2022-03-05T11:02:49.711Z"
   },
   {
    "duration": 18,
    "start_time": "2022-03-05T11:02:49.737Z"
   },
   {
    "duration": 11,
    "start_time": "2022-03-05T11:02:49.787Z"
   },
   {
    "duration": 19,
    "start_time": "2022-03-05T11:02:49.800Z"
   },
   {
    "duration": 12,
    "start_time": "2022-03-05T11:02:49.821Z"
   },
   {
    "duration": 10,
    "start_time": "2022-03-05T11:02:49.837Z"
   },
   {
    "duration": 48,
    "start_time": "2022-03-05T11:02:49.850Z"
   },
   {
    "duration": 9,
    "start_time": "2022-03-05T11:02:49.915Z"
   },
   {
    "duration": 34,
    "start_time": "2022-03-05T11:02:50.011Z"
   },
   {
    "duration": 14,
    "start_time": "2022-03-05T11:02:50.163Z"
   },
   {
    "duration": 92,
    "start_time": "2022-03-05T11:02:50.249Z"
   },
   {
    "duration": 9,
    "start_time": "2022-03-05T11:02:50.794Z"
   },
   {
    "duration": 7,
    "start_time": "2022-03-05T11:02:51.114Z"
   },
   {
    "duration": 6,
    "start_time": "2022-03-05T11:02:51.494Z"
   },
   {
    "duration": 5,
    "start_time": "2022-03-05T11:02:51.757Z"
   },
   {
    "duration": 9,
    "start_time": "2022-03-05T11:02:51.961Z"
   },
   {
    "duration": 9333,
    "start_time": "2022-03-05T11:02:52.638Z"
   },
   {
    "duration": 11,
    "start_time": "2022-03-05T11:03:01.973Z"
   },
   {
    "duration": 38,
    "start_time": "2022-03-05T11:03:01.987Z"
   },
   {
    "duration": 15,
    "start_time": "2022-03-05T11:03:02.028Z"
   },
   {
    "duration": 45,
    "start_time": "2022-03-05T11:03:02.045Z"
   },
   {
    "duration": 13,
    "start_time": "2022-03-05T11:03:02.094Z"
   },
   {
    "duration": 21,
    "start_time": "2022-03-05T11:03:02.109Z"
   },
   {
    "duration": 7,
    "start_time": "2022-03-05T11:03:19.354Z"
   },
   {
    "duration": 402,
    "start_time": "2022-03-05T11:04:46.839Z"
   },
   {
    "duration": 6,
    "start_time": "2022-03-05T11:05:04.367Z"
   },
   {
    "duration": 6,
    "start_time": "2022-03-05T11:05:46.614Z"
   },
   {
    "duration": 3270,
    "start_time": "2022-03-05T11:06:18.280Z"
   },
   {
    "duration": 11,
    "start_time": "2022-03-05T11:07:44.333Z"
   },
   {
    "duration": 8,
    "start_time": "2022-03-05T11:07:54.006Z"
   },
   {
    "duration": 36,
    "start_time": "2022-03-05T11:08:01.741Z"
   },
   {
    "duration": 8,
    "start_time": "2022-03-05T11:08:03.952Z"
   },
   {
    "duration": 4540,
    "start_time": "2022-03-05T12:00:45.575Z"
   },
   {
    "duration": 39,
    "start_time": "2022-03-05T12:00:50.118Z"
   },
   {
    "duration": 32,
    "start_time": "2022-03-05T12:00:50.160Z"
   },
   {
    "duration": 11,
    "start_time": "2022-03-05T12:00:50.194Z"
   },
   {
    "duration": 14,
    "start_time": "2022-03-05T12:00:50.207Z"
   },
   {
    "duration": 6,
    "start_time": "2022-03-05T12:00:50.223Z"
   },
   {
    "duration": 11,
    "start_time": "2022-03-05T12:00:50.231Z"
   },
   {
    "duration": 42,
    "start_time": "2022-03-05T12:00:50.245Z"
   },
   {
    "duration": 7,
    "start_time": "2022-03-05T12:00:50.290Z"
   },
   {
    "duration": 11,
    "start_time": "2022-03-05T12:00:50.299Z"
   },
   {
    "duration": 155,
    "start_time": "2022-03-05T12:00:50.313Z"
   },
   {
    "duration": 144,
    "start_time": "2022-03-05T12:00:50.471Z"
   },
   {
    "duration": 9,
    "start_time": "2022-03-05T12:00:50.617Z"
   },
   {
    "duration": 227,
    "start_time": "2022-03-05T12:00:50.628Z"
   },
   {
    "duration": 12,
    "start_time": "2022-03-05T12:00:50.858Z"
   },
   {
    "duration": 12,
    "start_time": "2022-03-05T12:00:50.887Z"
   },
   {
    "duration": 10,
    "start_time": "2022-03-05T12:00:50.902Z"
   },
   {
    "duration": 196,
    "start_time": "2022-03-05T12:00:50.915Z"
   },
   {
    "duration": 9,
    "start_time": "2022-03-05T12:00:51.114Z"
   },
   {
    "duration": 251,
    "start_time": "2022-03-05T12:00:51.127Z"
   },
   {
    "duration": 12,
    "start_time": "2022-03-05T12:00:51.380Z"
   },
   {
    "duration": 11,
    "start_time": "2022-03-05T12:00:51.395Z"
   },
   {
    "duration": 8,
    "start_time": "2022-03-05T12:00:51.410Z"
   },
   {
    "duration": 22,
    "start_time": "2022-03-05T12:00:51.420Z"
   },
   {
    "duration": 6,
    "start_time": "2022-03-05T12:00:51.445Z"
   },
   {
    "duration": 32,
    "start_time": "2022-03-05T12:00:53.230Z"
   },
   {
    "duration": 4545,
    "start_time": "2022-03-05T12:05:03.669Z"
   },
   {
    "duration": 36,
    "start_time": "2022-03-05T12:05:08.216Z"
   },
   {
    "duration": 41,
    "start_time": "2022-03-05T12:05:08.255Z"
   },
   {
    "duration": 19,
    "start_time": "2022-03-05T12:05:08.299Z"
   },
   {
    "duration": 20,
    "start_time": "2022-03-05T12:05:08.320Z"
   },
   {
    "duration": 6,
    "start_time": "2022-03-05T12:05:08.342Z"
   },
   {
    "duration": 9,
    "start_time": "2022-03-05T12:05:08.350Z"
   },
   {
    "duration": 30,
    "start_time": "2022-03-05T12:05:08.361Z"
   },
   {
    "duration": 7,
    "start_time": "2022-03-05T12:05:08.394Z"
   },
   {
    "duration": 10,
    "start_time": "2022-03-05T12:05:08.403Z"
   },
   {
    "duration": 116,
    "start_time": "2022-03-05T12:05:08.610Z"
   },
   {
    "duration": 142,
    "start_time": "2022-03-05T12:05:09.403Z"
   },
   {
    "duration": 12,
    "start_time": "2022-03-05T12:05:11.076Z"
   },
   {
    "duration": 223,
    "start_time": "2022-03-05T12:05:11.764Z"
   },
   {
    "duration": 28,
    "start_time": "2022-03-05T12:05:12.208Z"
   },
   {
    "duration": 4703,
    "start_time": "2022-03-05T12:09:47.917Z"
   },
   {
    "duration": 35,
    "start_time": "2022-03-05T12:09:52.623Z"
   },
   {
    "duration": 36,
    "start_time": "2022-03-05T12:09:52.661Z"
   },
   {
    "duration": 12,
    "start_time": "2022-03-05T12:09:52.701Z"
   },
   {
    "duration": 18,
    "start_time": "2022-03-05T12:09:52.716Z"
   },
   {
    "duration": 8,
    "start_time": "2022-03-05T12:09:52.736Z"
   },
   {
    "duration": 9,
    "start_time": "2022-03-05T12:09:52.786Z"
   },
   {
    "duration": 13,
    "start_time": "2022-03-05T12:09:52.800Z"
   },
   {
    "duration": 9,
    "start_time": "2022-03-05T12:09:52.816Z"
   },
   {
    "duration": 11,
    "start_time": "2022-03-05T12:09:52.827Z"
   },
   {
    "duration": 162,
    "start_time": "2022-03-05T12:09:52.841Z"
   },
   {
    "duration": 146,
    "start_time": "2022-03-05T12:09:53.006Z"
   },
   {
    "duration": 11,
    "start_time": "2022-03-05T12:09:53.469Z"
   },
   {
    "duration": 217,
    "start_time": "2022-03-05T12:09:54.155Z"
   },
   {
    "duration": 225,
    "start_time": "2022-03-05T12:09:54.507Z"
   },
   {
    "duration": 29,
    "start_time": "2022-03-05T12:09:54.845Z"
   },
   {
    "duration": 4571,
    "start_time": "2022-03-05T12:15:27.847Z"
   },
   {
    "duration": 37,
    "start_time": "2022-03-05T12:15:32.421Z"
   },
   {
    "duration": 42,
    "start_time": "2022-03-05T12:15:32.462Z"
   },
   {
    "duration": 11,
    "start_time": "2022-03-05T12:15:32.508Z"
   },
   {
    "duration": 16,
    "start_time": "2022-03-05T12:15:32.523Z"
   },
   {
    "duration": 7,
    "start_time": "2022-03-05T12:15:32.542Z"
   },
   {
    "duration": 8,
    "start_time": "2022-03-05T12:15:32.588Z"
   },
   {
    "duration": 16,
    "start_time": "2022-03-05T12:15:32.600Z"
   },
   {
    "duration": 10,
    "start_time": "2022-03-05T12:15:32.618Z"
   },
   {
    "duration": 10,
    "start_time": "2022-03-05T12:15:32.631Z"
   },
   {
    "duration": 144,
    "start_time": "2022-03-05T12:15:32.643Z"
   },
   {
    "duration": 154,
    "start_time": "2022-03-05T12:15:32.789Z"
   },
   {
    "duration": 9,
    "start_time": "2022-03-05T12:15:32.945Z"
   },
   {
    "duration": 238,
    "start_time": "2022-03-05T12:15:32.957Z"
   },
   {
    "duration": 240,
    "start_time": "2022-03-05T12:15:33.197Z"
   },
   {
    "duration": 10,
    "start_time": "2022-03-05T12:15:33.440Z"
   },
   {
    "duration": 46,
    "start_time": "2022-03-05T12:15:33.452Z"
   },
   {
    "duration": 264,
    "start_time": "2022-03-05T12:15:33.501Z"
   },
   {
    "duration": 18,
    "start_time": "2022-03-05T12:15:33.769Z"
   },
   {
    "duration": 15,
    "start_time": "2022-03-05T12:15:33.789Z"
   },
   {
    "duration": 33,
    "start_time": "2022-03-05T12:15:55.278Z"
   },
   {
    "duration": 4533,
    "start_time": "2022-03-05T12:29:14.215Z"
   },
   {
    "duration": 33,
    "start_time": "2022-03-05T12:29:18.751Z"
   },
   {
    "duration": 32,
    "start_time": "2022-03-05T12:29:18.788Z"
   },
   {
    "duration": 11,
    "start_time": "2022-03-05T12:29:18.822Z"
   },
   {
    "duration": 19,
    "start_time": "2022-03-05T12:29:18.836Z"
   },
   {
    "duration": 35,
    "start_time": "2022-03-05T12:29:18.857Z"
   },
   {
    "duration": 16,
    "start_time": "2022-03-05T12:29:18.894Z"
   },
   {
    "duration": 6,
    "start_time": "2022-03-05T12:29:18.913Z"
   },
   {
    "duration": 11,
    "start_time": "2022-03-05T12:29:18.922Z"
   },
   {
    "duration": 8,
    "start_time": "2022-03-05T12:29:18.935Z"
   },
   {
    "duration": 160,
    "start_time": "2022-03-05T12:29:18.946Z"
   },
   {
    "duration": 150,
    "start_time": "2022-03-05T12:29:19.109Z"
   },
   {
    "duration": 9,
    "start_time": "2022-03-05T12:29:19.262Z"
   },
   {
    "duration": 242,
    "start_time": "2022-03-05T12:29:19.273Z"
   },
   {
    "duration": 235,
    "start_time": "2022-03-05T12:29:19.517Z"
   },
   {
    "duration": 9,
    "start_time": "2022-03-05T12:29:19.754Z"
   },
   {
    "duration": 39,
    "start_time": "2022-03-05T12:29:19.765Z"
   },
   {
    "duration": 245,
    "start_time": "2022-03-05T12:29:19.806Z"
   },
   {
    "duration": 6,
    "start_time": "2022-03-05T12:29:20.053Z"
   },
   {
    "duration": 29,
    "start_time": "2022-03-05T12:29:20.061Z"
   },
   {
    "duration": 22,
    "start_time": "2022-03-05T12:29:20.092Z"
   },
   {
    "duration": 36,
    "start_time": "2022-03-05T12:29:20.117Z"
   },
   {
    "duration": 12,
    "start_time": "2022-03-05T12:29:20.161Z"
   },
   {
    "duration": 21,
    "start_time": "2022-03-05T12:29:20.176Z"
   },
   {
    "duration": 9,
    "start_time": "2022-03-05T12:29:20.200Z"
   },
   {
    "duration": 193,
    "start_time": "2022-03-05T12:29:20.211Z"
   },
   {
    "duration": 8,
    "start_time": "2022-03-05T12:29:20.406Z"
   },
   {
    "duration": 247,
    "start_time": "2022-03-05T12:29:20.417Z"
   },
   {
    "duration": 19,
    "start_time": "2022-03-05T12:29:20.667Z"
   },
   {
    "duration": 8,
    "start_time": "2022-03-05T12:29:20.689Z"
   },
   {
    "duration": 8,
    "start_time": "2022-03-05T12:29:20.699Z"
   },
   {
    "duration": 11,
    "start_time": "2022-03-05T12:29:20.710Z"
   },
   {
    "duration": 8,
    "start_time": "2022-03-05T12:29:20.724Z"
   },
   {
    "duration": 6,
    "start_time": "2022-03-05T12:29:20.734Z"
   },
   {
    "duration": 6,
    "start_time": "2022-03-05T12:29:20.742Z"
   },
   {
    "duration": 11,
    "start_time": "2022-03-05T12:29:20.788Z"
   },
   {
    "duration": 19,
    "start_time": "2022-03-05T12:29:20.801Z"
   },
   {
    "duration": 35,
    "start_time": "2022-03-05T12:29:20.822Z"
   },
   {
    "duration": 30,
    "start_time": "2022-03-05T12:29:20.859Z"
   },
   {
    "duration": 14,
    "start_time": "2022-03-05T12:29:20.892Z"
   },
   {
    "duration": 11,
    "start_time": "2022-03-05T12:29:20.909Z"
   },
   {
    "duration": 8,
    "start_time": "2022-03-05T12:29:20.923Z"
   },
   {
    "duration": 24,
    "start_time": "2022-03-05T12:29:20.933Z"
   },
   {
    "duration": 30,
    "start_time": "2022-03-05T12:29:20.960Z"
   },
   {
    "duration": 19,
    "start_time": "2022-03-05T12:29:20.994Z"
   },
   {
    "duration": 8,
    "start_time": "2022-03-05T12:29:21.016Z"
   },
   {
    "duration": 11,
    "start_time": "2022-03-05T12:29:21.026Z"
   },
   {
    "duration": 29,
    "start_time": "2022-03-05T12:29:21.040Z"
   },
   {
    "duration": 19,
    "start_time": "2022-03-05T12:29:21.113Z"
   },
   {
    "duration": 11,
    "start_time": "2022-03-05T12:29:21.204Z"
   },
   {
    "duration": 17,
    "start_time": "2022-03-05T12:29:21.572Z"
   },
   {
    "duration": 12,
    "start_time": "2022-03-05T12:29:22.071Z"
   },
   {
    "duration": 8,
    "start_time": "2022-03-05T12:29:22.151Z"
   },
   {
    "duration": 17,
    "start_time": "2022-03-05T12:29:22.234Z"
   },
   {
    "duration": 7,
    "start_time": "2022-03-05T12:29:22.318Z"
   },
   {
    "duration": 23,
    "start_time": "2022-03-05T12:29:22.740Z"
   },
   {
    "duration": 463,
    "start_time": "2022-03-05T12:29:23.227Z"
   },
   {
    "duration": 4,
    "start_time": "2022-03-05T12:29:32.556Z"
   },
   {
    "duration": 4570,
    "start_time": "2022-03-05T12:35:57.738Z"
   },
   {
    "duration": 33,
    "start_time": "2022-03-05T12:36:02.311Z"
   },
   {
    "duration": 40,
    "start_time": "2022-03-05T12:36:02.347Z"
   },
   {
    "duration": 10,
    "start_time": "2022-03-05T12:36:02.389Z"
   },
   {
    "duration": 22,
    "start_time": "2022-03-05T12:36:02.401Z"
   },
   {
    "duration": 8,
    "start_time": "2022-03-05T12:36:02.426Z"
   },
   {
    "duration": 11,
    "start_time": "2022-03-05T12:36:02.437Z"
   },
   {
    "duration": 40,
    "start_time": "2022-03-05T12:36:02.453Z"
   },
   {
    "duration": 10,
    "start_time": "2022-03-05T12:36:02.497Z"
   },
   {
    "duration": 22,
    "start_time": "2022-03-05T12:36:02.510Z"
   },
   {
    "duration": 138,
    "start_time": "2022-03-05T12:36:02.535Z"
   },
   {
    "duration": 161,
    "start_time": "2022-03-05T12:36:02.676Z"
   },
   {
    "duration": 12,
    "start_time": "2022-03-05T12:36:02.839Z"
   },
   {
    "duration": 240,
    "start_time": "2022-03-05T12:36:02.853Z"
   },
   {
    "duration": 234,
    "start_time": "2022-03-05T12:36:03.095Z"
   },
   {
    "duration": 8,
    "start_time": "2022-03-05T12:36:03.331Z"
   },
   {
    "duration": 45,
    "start_time": "2022-03-05T12:36:03.341Z"
   },
   {
    "duration": 231,
    "start_time": "2022-03-05T12:36:03.389Z"
   },
   {
    "duration": 6,
    "start_time": "2022-03-05T12:36:03.623Z"
   },
   {
    "duration": 29,
    "start_time": "2022-03-05T12:36:03.632Z"
   },
   {
    "duration": 25,
    "start_time": "2022-03-05T12:36:03.663Z"
   },
   {
    "duration": 51,
    "start_time": "2022-03-05T12:36:03.691Z"
   },
   {
    "duration": 9,
    "start_time": "2022-03-05T12:36:03.748Z"
   },
   {
    "duration": 13,
    "start_time": "2022-03-05T12:36:03.760Z"
   },
   {
    "duration": 14,
    "start_time": "2022-03-05T12:36:03.775Z"
   },
   {
    "duration": 175,
    "start_time": "2022-03-05T12:36:03.791Z"
   },
   {
    "duration": 8,
    "start_time": "2022-03-05T12:36:03.969Z"
   },
   {
    "duration": 237,
    "start_time": "2022-03-05T12:36:03.987Z"
   },
   {
    "duration": 8,
    "start_time": "2022-03-05T12:36:04.226Z"
   },
   {
    "duration": 11,
    "start_time": "2022-03-05T12:36:04.236Z"
   },
   {
    "duration": 7,
    "start_time": "2022-03-05T12:36:04.249Z"
   },
   {
    "duration": 34,
    "start_time": "2022-03-05T12:36:04.258Z"
   },
   {
    "duration": 11,
    "start_time": "2022-03-05T12:36:04.294Z"
   },
   {
    "duration": 4,
    "start_time": "2022-03-05T12:36:04.307Z"
   },
   {
    "duration": 8,
    "start_time": "2022-03-05T12:36:04.313Z"
   },
   {
    "duration": 15,
    "start_time": "2022-03-05T12:36:04.323Z"
   },
   {
    "duration": 52,
    "start_time": "2022-03-05T12:36:04.340Z"
   },
   {
    "duration": 26,
    "start_time": "2022-03-05T12:36:04.395Z"
   },
   {
    "duration": 21,
    "start_time": "2022-03-05T12:36:04.424Z"
   },
   {
    "duration": 16,
    "start_time": "2022-03-05T12:36:04.447Z"
   },
   {
    "duration": 24,
    "start_time": "2022-03-05T12:36:04.465Z"
   },
   {
    "duration": 8,
    "start_time": "2022-03-05T12:36:04.491Z"
   },
   {
    "duration": 10,
    "start_time": "2022-03-05T12:36:04.501Z"
   },
   {
    "duration": 8,
    "start_time": "2022-03-05T12:36:04.513Z"
   },
   {
    "duration": 8,
    "start_time": "2022-03-05T12:36:04.523Z"
   },
   {
    "duration": 10,
    "start_time": "2022-03-05T12:36:04.533Z"
   },
   {
    "duration": 43,
    "start_time": "2022-03-05T12:36:04.544Z"
   },
   {
    "duration": 23,
    "start_time": "2022-03-05T12:36:04.589Z"
   },
   {
    "duration": 19,
    "start_time": "2022-03-05T12:36:04.614Z"
   },
   {
    "duration": 17,
    "start_time": "2022-03-05T12:36:04.635Z"
   },
   {
    "duration": 55,
    "start_time": "2022-03-05T12:36:04.654Z"
   },
   {
    "duration": 12,
    "start_time": "2022-03-05T12:36:04.711Z"
   },
   {
    "duration": 17,
    "start_time": "2022-03-05T12:36:04.727Z"
   },
   {
    "duration": 16,
    "start_time": "2022-03-05T12:36:04.746Z"
   },
   {
    "duration": 5,
    "start_time": "2022-03-05T12:36:04.764Z"
   },
   {
    "duration": 439,
    "start_time": "2022-03-05T12:36:04.771Z"
   },
   {
    "duration": -124,
    "start_time": "2022-03-05T12:36:05.337Z"
   },
   {
    "duration": 252,
    "start_time": "2022-03-05T12:36:05.307Z"
   },
   {
    "duration": 21,
    "start_time": "2022-03-05T12:36:29.971Z"
   },
   {
    "duration": 13,
    "start_time": "2022-03-05T12:37:15.458Z"
   },
   {
    "duration": 25,
    "start_time": "2022-03-05T12:37:22.714Z"
   },
   {
    "duration": 4,
    "start_time": "2022-03-05T12:37:26.485Z"
   },
   {
    "duration": 14,
    "start_time": "2022-03-05T12:37:27.247Z"
   },
   {
    "duration": 23,
    "start_time": "2022-03-05T12:37:29.441Z"
   },
   {
    "duration": 22,
    "start_time": "2022-03-05T12:37:30.692Z"
   },
   {
    "duration": 22,
    "start_time": "2022-03-05T12:37:42.188Z"
   },
   {
    "duration": 270,
    "start_time": "2022-03-05T12:39:23.881Z"
   },
   {
    "duration": 298,
    "start_time": "2022-03-05T12:39:28.393Z"
   },
   {
    "duration": 308,
    "start_time": "2022-03-05T12:39:40.690Z"
   },
   {
    "duration": 1737,
    "start_time": "2022-03-05T12:40:33.656Z"
   },
   {
    "duration": 6299,
    "start_time": "2022-03-05T12:40:51.973Z"
   },
   {
    "duration": 7,
    "start_time": "2022-03-05T12:41:13.362Z"
   },
   {
    "duration": 3295,
    "start_time": "2022-03-05T12:41:23.617Z"
   },
   {
    "duration": 9,
    "start_time": "2022-03-05T12:41:30.087Z"
   },
   {
    "duration": 15,
    "start_time": "2022-03-05T12:44:03.148Z"
   },
   {
    "duration": 282,
    "start_time": "2022-03-05T12:45:00.684Z"
   },
   {
    "duration": 6,
    "start_time": "2022-03-05T12:45:03.845Z"
   },
   {
    "duration": 279,
    "start_time": "2022-03-05T12:45:04.503Z"
   },
   {
    "duration": 9,
    "start_time": "2022-03-05T12:46:04.731Z"
   },
   {
    "duration": 4615,
    "start_time": "2022-03-05T12:49:29.315Z"
   },
   {
    "duration": 40,
    "start_time": "2022-03-05T12:49:33.933Z"
   },
   {
    "duration": 32,
    "start_time": "2022-03-05T12:49:33.975Z"
   },
   {
    "duration": 11,
    "start_time": "2022-03-05T12:49:34.009Z"
   },
   {
    "duration": 16,
    "start_time": "2022-03-05T12:49:34.023Z"
   },
   {
    "duration": 5,
    "start_time": "2022-03-05T12:49:34.042Z"
   },
   {
    "duration": 37,
    "start_time": "2022-03-05T12:49:34.050Z"
   },
   {
    "duration": 5,
    "start_time": "2022-03-05T12:49:34.091Z"
   },
   {
    "duration": 7,
    "start_time": "2022-03-05T12:49:34.099Z"
   },
   {
    "duration": 8,
    "start_time": "2022-03-05T12:49:34.108Z"
   },
   {
    "duration": 160,
    "start_time": "2022-03-05T12:49:34.118Z"
   },
   {
    "duration": 153,
    "start_time": "2022-03-05T12:49:34.280Z"
   },
   {
    "duration": 10,
    "start_time": "2022-03-05T12:49:34.435Z"
   },
   {
    "duration": 245,
    "start_time": "2022-03-05T12:49:34.447Z"
   },
   {
    "duration": 246,
    "start_time": "2022-03-05T12:49:34.695Z"
   },
   {
    "duration": 9,
    "start_time": "2022-03-05T12:49:34.943Z"
   },
   {
    "duration": 39,
    "start_time": "2022-03-05T12:49:34.955Z"
   },
   {
    "duration": 237,
    "start_time": "2022-03-05T12:49:34.996Z"
   },
   {
    "duration": 5,
    "start_time": "2022-03-05T12:49:35.236Z"
   },
   {
    "duration": 19,
    "start_time": "2022-03-05T12:49:35.244Z"
   },
   {
    "duration": 22,
    "start_time": "2022-03-05T12:49:35.265Z"
   },
   {
    "duration": 34,
    "start_time": "2022-03-05T12:49:35.290Z"
   },
   {
    "duration": 15,
    "start_time": "2022-03-05T12:49:35.329Z"
   },
   {
    "duration": 9,
    "start_time": "2022-03-05T12:49:35.347Z"
   },
   {
    "duration": 44,
    "start_time": "2022-03-05T12:49:35.359Z"
   },
   {
    "duration": 179,
    "start_time": "2022-03-05T12:49:35.406Z"
   },
   {
    "duration": 10,
    "start_time": "2022-03-05T12:49:35.588Z"
   },
   {
    "duration": 278,
    "start_time": "2022-03-05T12:49:35.601Z"
   },
   {
    "duration": 15,
    "start_time": "2022-03-05T12:49:35.881Z"
   },
   {
    "duration": 11,
    "start_time": "2022-03-05T12:49:35.899Z"
   },
   {
    "duration": 10,
    "start_time": "2022-03-05T12:49:35.913Z"
   },
   {
    "duration": 27,
    "start_time": "2022-03-05T12:49:35.926Z"
   },
   {
    "duration": 32,
    "start_time": "2022-03-05T12:49:35.956Z"
   },
   {
    "duration": 4,
    "start_time": "2022-03-05T12:49:35.991Z"
   },
   {
    "duration": 15,
    "start_time": "2022-03-05T12:49:35.998Z"
   },
   {
    "duration": 18,
    "start_time": "2022-03-05T12:49:36.016Z"
   },
   {
    "duration": 22,
    "start_time": "2022-03-05T12:49:36.037Z"
   },
   {
    "duration": 25,
    "start_time": "2022-03-05T12:49:36.088Z"
   },
   {
    "duration": 17,
    "start_time": "2022-03-05T12:49:36.116Z"
   },
   {
    "duration": 14,
    "start_time": "2022-03-05T12:49:36.135Z"
   },
   {
    "duration": 36,
    "start_time": "2022-03-05T12:49:36.151Z"
   },
   {
    "duration": 9,
    "start_time": "2022-03-05T12:49:36.189Z"
   },
   {
    "duration": 12,
    "start_time": "2022-03-05T12:49:36.200Z"
   },
   {
    "duration": 7,
    "start_time": "2022-03-05T12:49:36.215Z"
   },
   {
    "duration": 8,
    "start_time": "2022-03-05T12:49:36.225Z"
   },
   {
    "duration": 11,
    "start_time": "2022-03-05T12:49:36.235Z"
   },
   {
    "duration": 44,
    "start_time": "2022-03-05T12:49:36.248Z"
   },
   {
    "duration": 29,
    "start_time": "2022-03-05T12:49:36.295Z"
   },
   {
    "duration": 19,
    "start_time": "2022-03-05T12:49:36.326Z"
   },
   {
    "duration": 15,
    "start_time": "2022-03-05T12:49:36.347Z"
   },
   {
    "duration": 38,
    "start_time": "2022-03-05T12:49:36.363Z"
   },
   {
    "duration": 12,
    "start_time": "2022-03-05T12:49:36.404Z"
   },
   {
    "duration": 15,
    "start_time": "2022-03-05T12:49:36.418Z"
   },
   {
    "duration": 16,
    "start_time": "2022-03-05T12:49:36.436Z"
   },
   {
    "duration": 48,
    "start_time": "2022-03-05T12:49:36.454Z"
   },
   {
    "duration": 11,
    "start_time": "2022-03-05T12:49:36.507Z"
   },
   {
    "duration": 20,
    "start_time": "2022-03-05T12:49:36.521Z"
   },
   {
    "duration": 7,
    "start_time": "2022-03-05T12:49:36.543Z"
   },
   {
    "duration": 13,
    "start_time": "2022-03-05T12:49:36.588Z"
   },
   {
    "duration": 5,
    "start_time": "2022-03-05T12:49:36.603Z"
   },
   {
    "duration": 5,
    "start_time": "2022-03-05T12:49:36.611Z"
   },
   {
    "duration": 11,
    "start_time": "2022-03-05T12:49:36.706Z"
   },
   {
    "duration": 18,
    "start_time": "2022-03-05T12:49:36.790Z"
   },
   {
    "duration": 18,
    "start_time": "2022-03-05T12:49:37.357Z"
   },
   {
    "duration": 22,
    "start_time": "2022-03-05T12:49:37.678Z"
   },
   {
    "duration": 448,
    "start_time": "2022-03-05T12:50:23.784Z"
   },
   {
    "duration": 515,
    "start_time": "2022-03-05T12:50:43.174Z"
   },
   {
    "duration": 388,
    "start_time": "2022-03-05T12:51:09.206Z"
   },
   {
    "duration": 15,
    "start_time": "2022-03-05T12:51:43.789Z"
   },
   {
    "duration": 5,
    "start_time": "2022-03-05T12:51:44.144Z"
   },
   {
    "duration": 22,
    "start_time": "2022-03-05T12:51:44.570Z"
   },
   {
    "duration": 787,
    "start_time": "2022-03-05T12:51:45.309Z"
   },
   {
    "duration": 8,
    "start_time": "2022-03-05T12:54:15.576Z"
   },
   {
    "duration": 9,
    "start_time": "2022-03-05T12:54:17.714Z"
   },
   {
    "duration": 47,
    "start_time": "2022-03-05T12:54:17.908Z"
   },
   {
    "duration": 6,
    "start_time": "2022-03-05T12:54:18.149Z"
   },
   {
    "duration": 5,
    "start_time": "2022-03-05T12:54:18.382Z"
   },
   {
    "duration": 5,
    "start_time": "2022-03-05T12:54:18.593Z"
   },
   {
    "duration": 6,
    "start_time": "2022-03-05T12:54:18.803Z"
   },
   {
    "duration": 10,
    "start_time": "2022-03-05T12:54:19.339Z"
   },
   {
    "duration": 6136,
    "start_time": "2022-03-05T12:54:19.483Z"
   },
   {
    "duration": 8,
    "start_time": "2022-03-05T12:54:25.621Z"
   },
   {
    "duration": 22,
    "start_time": "2022-03-05T12:55:52.467Z"
   },
   {
    "duration": 4765,
    "start_time": "2022-03-05T12:56:02.060Z"
   },
   {
    "duration": 33,
    "start_time": "2022-03-05T12:56:06.828Z"
   },
   {
    "duration": 36,
    "start_time": "2022-03-05T12:56:06.864Z"
   },
   {
    "duration": 11,
    "start_time": "2022-03-05T12:56:06.903Z"
   },
   {
    "duration": 18,
    "start_time": "2022-03-05T12:56:06.916Z"
   },
   {
    "duration": 6,
    "start_time": "2022-03-05T12:56:06.937Z"
   },
   {
    "duration": 45,
    "start_time": "2022-03-05T12:56:06.946Z"
   },
   {
    "duration": 7,
    "start_time": "2022-03-05T12:56:06.996Z"
   },
   {
    "duration": 6,
    "start_time": "2022-03-05T12:56:07.006Z"
   },
   {
    "duration": 9,
    "start_time": "2022-03-05T12:56:07.014Z"
   },
   {
    "duration": 155,
    "start_time": "2022-03-05T12:56:07.026Z"
   },
   {
    "duration": 154,
    "start_time": "2022-03-05T12:56:07.183Z"
   },
   {
    "duration": 9,
    "start_time": "2022-03-05T12:56:07.340Z"
   },
   {
    "duration": 231,
    "start_time": "2022-03-05T12:56:07.352Z"
   },
   {
    "duration": 235,
    "start_time": "2022-03-05T12:56:07.587Z"
   },
   {
    "duration": 10,
    "start_time": "2022-03-05T12:56:07.824Z"
   },
   {
    "duration": 38,
    "start_time": "2022-03-05T12:56:07.836Z"
   },
   {
    "duration": 241,
    "start_time": "2022-03-05T12:56:07.876Z"
   },
   {
    "duration": 6,
    "start_time": "2022-03-05T12:56:08.119Z"
   },
   {
    "duration": 20,
    "start_time": "2022-03-05T12:56:08.128Z"
   },
   {
    "duration": 13,
    "start_time": "2022-03-05T12:56:08.151Z"
   },
   {
    "duration": 44,
    "start_time": "2022-03-05T12:56:08.167Z"
   },
   {
    "duration": 10,
    "start_time": "2022-03-05T12:56:08.216Z"
   },
   {
    "duration": 10,
    "start_time": "2022-03-05T12:56:08.229Z"
   },
   {
    "duration": 8,
    "start_time": "2022-03-05T12:56:08.241Z"
   },
   {
    "duration": 171,
    "start_time": "2022-03-05T12:56:08.287Z"
   },
   {
    "duration": 8,
    "start_time": "2022-03-05T12:56:08.461Z"
   },
   {
    "duration": 241,
    "start_time": "2022-03-05T12:56:08.471Z"
   },
   {
    "duration": 8,
    "start_time": "2022-03-05T12:56:08.715Z"
   },
   {
    "duration": 13,
    "start_time": "2022-03-05T12:56:08.725Z"
   },
   {
    "duration": 7,
    "start_time": "2022-03-05T12:56:08.740Z"
   },
   {
    "duration": 9,
    "start_time": "2022-03-05T12:56:08.750Z"
   },
   {
    "duration": 9,
    "start_time": "2022-03-05T12:56:08.788Z"
   },
   {
    "duration": 6,
    "start_time": "2022-03-05T12:56:08.799Z"
   },
   {
    "duration": 17,
    "start_time": "2022-03-05T12:56:08.807Z"
   },
   {
    "duration": 13,
    "start_time": "2022-03-05T12:56:08.826Z"
   },
   {
    "duration": 52,
    "start_time": "2022-03-05T12:56:08.841Z"
   },
   {
    "duration": 29,
    "start_time": "2022-03-05T12:56:08.896Z"
   },
   {
    "duration": 18,
    "start_time": "2022-03-05T12:56:08.927Z"
   },
   {
    "duration": 13,
    "start_time": "2022-03-05T12:56:08.947Z"
   },
   {
    "duration": 34,
    "start_time": "2022-03-05T12:56:08.962Z"
   },
   {
    "duration": 8,
    "start_time": "2022-03-05T12:56:08.998Z"
   },
   {
    "duration": 8,
    "start_time": "2022-03-05T12:56:09.008Z"
   },
   {
    "duration": 8,
    "start_time": "2022-03-05T12:56:09.018Z"
   },
   {
    "duration": 10,
    "start_time": "2022-03-05T12:56:09.028Z"
   },
   {
    "duration": 51,
    "start_time": "2022-03-05T12:56:09.041Z"
   },
   {
    "duration": 10,
    "start_time": "2022-03-05T12:56:09.095Z"
   },
   {
    "duration": 23,
    "start_time": "2022-03-05T12:56:09.107Z"
   },
   {
    "duration": 21,
    "start_time": "2022-03-05T12:56:09.133Z"
   },
   {
    "duration": 10,
    "start_time": "2022-03-05T12:56:09.188Z"
   },
   {
    "duration": 18,
    "start_time": "2022-03-05T12:56:09.200Z"
   },
   {
    "duration": 12,
    "start_time": "2022-03-05T12:56:09.220Z"
   },
   {
    "duration": 9,
    "start_time": "2022-03-05T12:56:09.234Z"
   },
   {
    "duration": 42,
    "start_time": "2022-03-05T12:56:09.245Z"
   },
   {
    "duration": 22,
    "start_time": "2022-03-05T12:56:09.289Z"
   },
   {
    "duration": 12,
    "start_time": "2022-03-05T12:56:09.313Z"
   },
   {
    "duration": 4,
    "start_time": "2022-03-05T12:56:09.328Z"
   },
   {
    "duration": 16,
    "start_time": "2022-03-05T12:56:09.334Z"
   },
   {
    "duration": 38,
    "start_time": "2022-03-05T12:56:09.352Z"
   },
   {
    "duration": 6,
    "start_time": "2022-03-05T12:56:09.392Z"
   },
   {
    "duration": 14,
    "start_time": "2022-03-05T12:56:09.400Z"
   },
   {
    "duration": 18,
    "start_time": "2022-03-05T12:56:09.416Z"
   },
   {
    "duration": 20,
    "start_time": "2022-03-05T12:56:09.928Z"
   },
   {
    "duration": 21,
    "start_time": "2022-03-05T12:56:09.951Z"
   },
   {
    "duration": 324,
    "start_time": "2022-03-05T12:56:10.270Z"
   },
   {
    "duration": 192,
    "start_time": "2022-03-05T12:56:10.598Z"
   },
   {
    "duration": 6,
    "start_time": "2022-03-05T12:56:10.793Z"
   },
   {
    "duration": 21,
    "start_time": "2022-03-05T12:56:10.802Z"
   },
   {
    "duration": 970,
    "start_time": "2022-03-05T12:56:10.826Z"
   },
   {
    "duration": 3,
    "start_time": "2022-03-05T12:56:11.889Z"
   },
   {
    "duration": 4618,
    "start_time": "2022-03-05T12:58:42.112Z"
   },
   {
    "duration": 34,
    "start_time": "2022-03-05T12:58:46.733Z"
   },
   {
    "duration": 38,
    "start_time": "2022-03-05T12:58:46.770Z"
   },
   {
    "duration": 11,
    "start_time": "2022-03-05T12:58:46.811Z"
   },
   {
    "duration": 21,
    "start_time": "2022-03-05T12:58:46.825Z"
   },
   {
    "duration": 6,
    "start_time": "2022-03-05T12:58:46.848Z"
   },
   {
    "duration": 38,
    "start_time": "2022-03-05T12:58:46.856Z"
   },
   {
    "duration": 8,
    "start_time": "2022-03-05T12:58:46.898Z"
   },
   {
    "duration": 24,
    "start_time": "2022-03-05T12:58:46.909Z"
   },
   {
    "duration": 12,
    "start_time": "2022-03-05T12:58:46.936Z"
   },
   {
    "duration": 142,
    "start_time": "2022-03-05T12:58:46.950Z"
   },
   {
    "duration": 146,
    "start_time": "2022-03-05T12:58:47.094Z"
   },
   {
    "duration": 9,
    "start_time": "2022-03-05T12:58:47.243Z"
   },
   {
    "duration": 233,
    "start_time": "2022-03-05T12:58:47.254Z"
   },
   {
    "duration": 237,
    "start_time": "2022-03-05T12:58:47.489Z"
   },
   {
    "duration": 9,
    "start_time": "2022-03-05T12:58:47.728Z"
   },
   {
    "duration": 31,
    "start_time": "2022-03-05T12:58:47.739Z"
   },
   {
    "duration": 244,
    "start_time": "2022-03-05T12:58:47.787Z"
   },
   {
    "duration": 5,
    "start_time": "2022-03-05T12:58:48.034Z"
   },
   {
    "duration": 15,
    "start_time": "2022-03-05T12:58:48.042Z"
   },
   {
    "duration": 30,
    "start_time": "2022-03-05T12:58:48.060Z"
   },
   {
    "duration": 35,
    "start_time": "2022-03-05T12:58:48.092Z"
   },
   {
    "duration": 11,
    "start_time": "2022-03-05T12:58:48.134Z"
   },
   {
    "duration": 12,
    "start_time": "2022-03-05T12:58:48.149Z"
   },
   {
    "duration": 11,
    "start_time": "2022-03-05T12:58:48.188Z"
   },
   {
    "duration": 186,
    "start_time": "2022-03-05T12:58:48.201Z"
   },
   {
    "duration": 8,
    "start_time": "2022-03-05T12:58:48.389Z"
   },
   {
    "duration": 256,
    "start_time": "2022-03-05T12:58:48.399Z"
   },
   {
    "duration": 9,
    "start_time": "2022-03-05T12:58:48.658Z"
   },
   {
    "duration": 22,
    "start_time": "2022-03-05T12:58:48.669Z"
   },
   {
    "duration": 9,
    "start_time": "2022-03-05T12:58:48.694Z"
   },
   {
    "duration": 19,
    "start_time": "2022-03-05T12:58:48.706Z"
   },
   {
    "duration": 18,
    "start_time": "2022-03-05T12:58:48.728Z"
   },
   {
    "duration": 3,
    "start_time": "2022-03-05T12:58:48.749Z"
   },
   {
    "duration": 34,
    "start_time": "2022-03-05T12:58:48.755Z"
   },
   {
    "duration": 11,
    "start_time": "2022-03-05T12:58:48.792Z"
   },
   {
    "duration": 28,
    "start_time": "2022-03-05T12:58:48.806Z"
   },
   {
    "duration": 58,
    "start_time": "2022-03-05T12:58:48.837Z"
   },
   {
    "duration": 21,
    "start_time": "2022-03-05T12:58:48.898Z"
   },
   {
    "duration": 13,
    "start_time": "2022-03-05T12:58:48.921Z"
   },
   {
    "duration": 14,
    "start_time": "2022-03-05T12:58:48.937Z"
   },
   {
    "duration": 8,
    "start_time": "2022-03-05T12:58:48.988Z"
   },
   {
    "duration": 11,
    "start_time": "2022-03-05T12:58:48.998Z"
   },
   {
    "duration": 10,
    "start_time": "2022-03-05T12:58:49.012Z"
   },
   {
    "duration": 8,
    "start_time": "2022-03-05T12:58:49.025Z"
   },
   {
    "duration": 10,
    "start_time": "2022-03-05T12:58:49.035Z"
   },
   {
    "duration": 42,
    "start_time": "2022-03-05T12:58:49.047Z"
   },
   {
    "duration": 21,
    "start_time": "2022-03-05T12:58:49.091Z"
   },
   {
    "duration": 18,
    "start_time": "2022-03-05T12:58:49.115Z"
   },
   {
    "duration": 12,
    "start_time": "2022-03-05T12:58:49.135Z"
   },
   {
    "duration": 43,
    "start_time": "2022-03-05T12:58:49.149Z"
   },
   {
    "duration": 11,
    "start_time": "2022-03-05T12:58:49.194Z"
   },
   {
    "duration": 10,
    "start_time": "2022-03-05T12:58:49.207Z"
   },
   {
    "duration": 15,
    "start_time": "2022-03-05T12:58:49.219Z"
   },
   {
    "duration": 49,
    "start_time": "2022-03-05T12:58:49.238Z"
   },
   {
    "duration": 11,
    "start_time": "2022-03-05T12:58:49.290Z"
   },
   {
    "duration": 5,
    "start_time": "2022-03-05T12:58:49.303Z"
   },
   {
    "duration": 15,
    "start_time": "2022-03-05T12:58:49.310Z"
   },
   {
    "duration": 6,
    "start_time": "2022-03-05T12:58:49.327Z"
   },
   {
    "duration": 6,
    "start_time": "2022-03-05T12:58:49.335Z"
   },
   {
    "duration": 47,
    "start_time": "2022-03-05T12:58:49.343Z"
   },
   {
    "duration": 23,
    "start_time": "2022-03-05T12:58:49.393Z"
   },
   {
    "duration": 18,
    "start_time": "2022-03-05T12:58:49.418Z"
   },
   {
    "duration": 22,
    "start_time": "2022-03-05T12:58:49.438Z"
   },
   {
    "duration": 429,
    "start_time": "2022-03-05T12:58:49.463Z"
   },
   {
    "duration": 192,
    "start_time": "2022-03-05T12:58:49.895Z"
   },
   {
    "duration": 6,
    "start_time": "2022-03-05T12:58:50.091Z"
   },
   {
    "duration": 29,
    "start_time": "2022-03-05T12:58:50.100Z"
   },
   {
    "duration": 1062,
    "start_time": "2022-03-05T12:58:50.131Z"
   },
   {
    "duration": 190,
    "start_time": "2022-03-05T12:58:51.197Z"
   },
   {
    "duration": 22,
    "start_time": "2022-03-05T12:58:51.390Z"
   },
   {
    "duration": 48,
    "start_time": "2022-03-05T12:58:51.415Z"
   },
   {
    "duration": 6,
    "start_time": "2022-03-05T12:58:51.487Z"
   },
   {
    "duration": 5,
    "start_time": "2022-03-05T12:58:52.151Z"
   },
   {
    "duration": 5,
    "start_time": "2022-03-05T12:58:52.902Z"
   },
   {
    "duration": 5,
    "start_time": "2022-03-05T12:58:53.154Z"
   },
   {
    "duration": 8,
    "start_time": "2022-03-05T12:58:53.395Z"
   },
   {
    "duration": 6253,
    "start_time": "2022-03-05T12:58:53.891Z"
   },
   {
    "duration": 9,
    "start_time": "2022-03-05T12:59:00.147Z"
   },
   {
    "duration": 5786,
    "start_time": "2022-03-05T12:59:05.731Z"
   },
   {
    "duration": 8,
    "start_time": "2022-03-05T12:59:11.520Z"
   },
   {
    "duration": 6231,
    "start_time": "2022-03-05T12:59:15.977Z"
   },
   {
    "duration": 8,
    "start_time": "2022-03-05T12:59:22.211Z"
   },
   {
    "duration": 7220,
    "start_time": "2022-03-05T12:59:30.526Z"
   },
   {
    "duration": 8,
    "start_time": "2022-03-05T12:59:37.749Z"
   },
   {
    "duration": 7773,
    "start_time": "2022-03-05T12:59:47.954Z"
   },
   {
    "duration": 8,
    "start_time": "2022-03-05T12:59:55.730Z"
   },
   {
    "duration": 6217,
    "start_time": "2022-03-05T13:00:03.469Z"
   },
   {
    "duration": 11,
    "start_time": "2022-03-05T13:00:09.689Z"
   },
   {
    "duration": 5864,
    "start_time": "2022-03-05T13:00:18.402Z"
   },
   {
    "duration": 9,
    "start_time": "2022-03-05T13:00:24.268Z"
   },
   {
    "duration": 6798,
    "start_time": "2022-03-05T13:00:28.618Z"
   },
   {
    "duration": 9,
    "start_time": "2022-03-05T13:00:35.419Z"
   },
   {
    "duration": 6061,
    "start_time": "2022-03-05T13:00:41.260Z"
   },
   {
    "duration": 9,
    "start_time": "2022-03-05T13:00:47.324Z"
   },
   {
    "duration": 6502,
    "start_time": "2022-03-05T13:00:54.272Z"
   },
   {
    "duration": 16,
    "start_time": "2022-03-05T13:01:00.777Z"
   },
   {
    "duration": 7489,
    "start_time": "2022-03-05T13:01:06.234Z"
   },
   {
    "duration": 8,
    "start_time": "2022-03-05T13:01:13.726Z"
   },
   {
    "duration": 5890,
    "start_time": "2022-03-05T13:01:22.645Z"
   },
   {
    "duration": 8,
    "start_time": "2022-03-05T13:01:28.537Z"
   },
   {
    "duration": 5997,
    "start_time": "2022-03-05T13:01:33.231Z"
   },
   {
    "duration": 8,
    "start_time": "2022-03-05T13:01:39.231Z"
   },
   {
    "duration": 6124,
    "start_time": "2022-03-05T13:01:44.355Z"
   },
   {
    "duration": 11,
    "start_time": "2022-03-05T13:01:50.481Z"
   },
   {
    "duration": 6149,
    "start_time": "2022-03-05T13:01:53.864Z"
   },
   {
    "duration": 10,
    "start_time": "2022-03-05T13:02:00.016Z"
   },
   {
    "duration": 6071,
    "start_time": "2022-03-05T13:02:05.347Z"
   },
   {
    "duration": 8,
    "start_time": "2022-03-05T13:02:11.421Z"
   },
   {
    "duration": 1967,
    "start_time": "2022-03-05T13:02:26.667Z"
   },
   {
    "duration": 6037,
    "start_time": "2022-03-05T13:02:32.110Z"
   },
   {
    "duration": 10,
    "start_time": "2022-03-05T13:02:38.150Z"
   },
   {
    "duration": 7664,
    "start_time": "2022-03-05T13:02:42.995Z"
   },
   {
    "duration": 10,
    "start_time": "2022-03-05T13:02:50.662Z"
   },
   {
    "duration": 5972,
    "start_time": "2022-03-05T13:02:55.565Z"
   },
   {
    "duration": 10,
    "start_time": "2022-03-05T13:03:01.540Z"
   },
   {
    "duration": 9,
    "start_time": "2022-03-05T13:03:12.451Z"
   },
   {
    "duration": 6816,
    "start_time": "2022-03-05T13:03:12.647Z"
   },
   {
    "duration": 10,
    "start_time": "2022-03-05T13:03:19.466Z"
   },
   {
    "duration": 9,
    "start_time": "2022-03-05T13:03:27.419Z"
   },
   {
    "duration": 5934,
    "start_time": "2022-03-05T13:03:27.930Z"
   },
   {
    "duration": 8,
    "start_time": "2022-03-05T13:03:33.867Z"
   },
   {
    "duration": 9,
    "start_time": "2022-03-05T13:03:38.929Z"
   },
   {
    "duration": 5995,
    "start_time": "2022-03-05T13:03:39.443Z"
   },
   {
    "duration": 12,
    "start_time": "2022-03-05T13:03:45.440Z"
   },
   {
    "duration": 9,
    "start_time": "2022-03-05T13:03:49.239Z"
   },
   {
    "duration": 6460,
    "start_time": "2022-03-05T13:03:49.740Z"
   },
   {
    "duration": 13,
    "start_time": "2022-03-05T13:03:56.203Z"
   },
   {
    "duration": 10,
    "start_time": "2022-03-05T13:04:01.565Z"
   },
   {
    "duration": 6215,
    "start_time": "2022-03-05T13:04:02.052Z"
   },
   {
    "duration": 9,
    "start_time": "2022-03-05T13:04:08.271Z"
   },
   {
    "duration": 19,
    "start_time": "2022-03-05T13:09:31.124Z"
   },
   {
    "duration": 19,
    "start_time": "2022-03-05T13:09:43.648Z"
   },
   {
    "duration": 18,
    "start_time": "2022-03-05T13:10:36.758Z"
   },
   {
    "duration": 20,
    "start_time": "2022-03-05T13:12:21.505Z"
   },
   {
    "duration": 27,
    "start_time": "2022-03-05T13:12:23.140Z"
   },
   {
    "duration": 9,
    "start_time": "2022-03-05T13:12:23.914Z"
   },
   {
    "duration": 4413,
    "start_time": "2022-03-05T13:20:39.297Z"
   },
   {
    "duration": 34,
    "start_time": "2022-03-05T13:20:43.712Z"
   },
   {
    "duration": 45,
    "start_time": "2022-03-05T13:20:43.749Z"
   },
   {
    "duration": 11,
    "start_time": "2022-03-05T13:20:43.797Z"
   },
   {
    "duration": 18,
    "start_time": "2022-03-05T13:20:43.811Z"
   },
   {
    "duration": 6,
    "start_time": "2022-03-05T13:20:43.831Z"
   },
   {
    "duration": 10,
    "start_time": "2022-03-05T13:20:43.840Z"
   },
   {
    "duration": 40,
    "start_time": "2022-03-05T13:20:43.853Z"
   },
   {
    "duration": 7,
    "start_time": "2022-03-05T13:20:43.897Z"
   },
   {
    "duration": 11,
    "start_time": "2022-03-05T13:20:43.907Z"
   },
   {
    "duration": 142,
    "start_time": "2022-03-05T13:20:43.921Z"
   },
   {
    "duration": 152,
    "start_time": "2022-03-05T13:20:44.066Z"
   },
   {
    "duration": 9,
    "start_time": "2022-03-05T13:20:44.220Z"
   },
   {
    "duration": 227,
    "start_time": "2022-03-05T13:20:44.231Z"
   },
   {
    "duration": 227,
    "start_time": "2022-03-05T13:20:44.460Z"
   },
   {
    "duration": 8,
    "start_time": "2022-03-05T13:20:44.689Z"
   },
   {
    "duration": 31,
    "start_time": "2022-03-05T13:20:44.699Z"
   },
   {
    "duration": 239,
    "start_time": "2022-03-05T13:20:44.732Z"
   },
   {
    "duration": 6,
    "start_time": "2022-03-05T13:20:44.973Z"
   },
   {
    "duration": 19,
    "start_time": "2022-03-05T13:20:44.981Z"
   },
   {
    "duration": 14,
    "start_time": "2022-03-05T13:20:45.002Z"
   },
   {
    "duration": 34,
    "start_time": "2022-03-05T13:20:45.019Z"
   },
   {
    "duration": 30,
    "start_time": "2022-03-05T13:20:45.058Z"
   },
   {
    "duration": 10,
    "start_time": "2022-03-05T13:20:45.091Z"
   },
   {
    "duration": 8,
    "start_time": "2022-03-05T13:20:45.103Z"
   },
   {
    "duration": 188,
    "start_time": "2022-03-05T13:20:45.114Z"
   },
   {
    "duration": 8,
    "start_time": "2022-03-05T13:20:45.304Z"
   },
   {
    "duration": 243,
    "start_time": "2022-03-05T13:20:45.315Z"
   },
   {
    "duration": 8,
    "start_time": "2022-03-05T13:20:45.560Z"
   },
   {
    "duration": 21,
    "start_time": "2022-03-05T13:20:45.570Z"
   },
   {
    "duration": 9,
    "start_time": "2022-03-05T13:20:45.593Z"
   },
   {
    "duration": 9,
    "start_time": "2022-03-05T13:20:45.604Z"
   },
   {
    "duration": 7,
    "start_time": "2022-03-05T13:20:45.616Z"
   },
   {
    "duration": 10,
    "start_time": "2022-03-05T13:20:45.625Z"
   },
   {
    "duration": 10,
    "start_time": "2022-03-05T13:20:45.637Z"
   },
   {
    "duration": 43,
    "start_time": "2022-03-05T13:20:45.649Z"
   },
   {
    "duration": 19,
    "start_time": "2022-03-05T13:20:45.694Z"
   },
   {
    "duration": 24,
    "start_time": "2022-03-05T13:20:45.716Z"
   },
   {
    "duration": 16,
    "start_time": "2022-03-05T13:20:45.742Z"
   },
   {
    "duration": 32,
    "start_time": "2022-03-05T13:20:45.760Z"
   },
   {
    "duration": 9,
    "start_time": "2022-03-05T13:20:45.794Z"
   },
   {
    "duration": 9,
    "start_time": "2022-03-05T13:20:45.806Z"
   },
   {
    "duration": 10,
    "start_time": "2022-03-05T13:20:45.819Z"
   },
   {
    "duration": 11,
    "start_time": "2022-03-05T13:20:45.832Z"
   },
   {
    "duration": 45,
    "start_time": "2022-03-05T13:20:45.846Z"
   },
   {
    "duration": 8,
    "start_time": "2022-03-05T13:20:45.978Z"
   },
   {
    "duration": 7,
    "start_time": "2022-03-05T13:20:46.229Z"
   },
   {
    "duration": 20,
    "start_time": "2022-03-05T13:20:46.494Z"
   },
   {
    "duration": 19,
    "start_time": "2022-03-05T13:20:46.767Z"
   },
   {
    "duration": 11,
    "start_time": "2022-03-05T13:20:47.038Z"
   },
   {
    "duration": 23,
    "start_time": "2022-03-05T13:20:47.654Z"
   },
   {
    "duration": 12,
    "start_time": "2022-03-05T13:20:47.919Z"
   },
   {
    "duration": 8,
    "start_time": "2022-03-05T13:20:48.223Z"
   },
   {
    "duration": 13,
    "start_time": "2022-03-05T13:20:48.543Z"
   },
   {
    "duration": 22,
    "start_time": "2022-03-05T13:20:48.847Z"
   },
   {
    "duration": 11,
    "start_time": "2022-03-05T13:20:49.171Z"
   },
   {
    "duration": 5,
    "start_time": "2022-03-05T13:20:49.652Z"
   },
   {
    "duration": 12,
    "start_time": "2022-03-05T13:20:49.910Z"
   },
   {
    "duration": 6,
    "start_time": "2022-03-05T13:20:50.170Z"
   },
   {
    "duration": 4,
    "start_time": "2022-03-05T13:20:51.728Z"
   },
   {
    "duration": 11,
    "start_time": "2022-03-05T13:20:52.043Z"
   },
   {
    "duration": 18,
    "start_time": "2022-03-05T13:20:52.424Z"
   },
   {
    "duration": 18,
    "start_time": "2022-03-05T13:20:52.680Z"
   },
   {
    "duration": 22,
    "start_time": "2022-03-05T13:20:53.182Z"
   },
   {
    "duration": 433,
    "start_time": "2022-03-05T13:20:53.260Z"
   },
   {
    "duration": 191,
    "start_time": "2022-03-05T13:20:53.696Z"
   },
   {
    "duration": 8,
    "start_time": "2022-03-05T13:20:53.890Z"
   },
   {
    "duration": 24,
    "start_time": "2022-03-05T13:20:53.901Z"
   },
   {
    "duration": 1065,
    "start_time": "2022-03-05T13:20:53.927Z"
   },
   {
    "duration": 100,
    "start_time": "2022-03-05T13:20:54.996Z"
   },
   {
    "duration": 11,
    "start_time": "2022-03-05T13:20:55.349Z"
   },
   {
    "duration": 51,
    "start_time": "2022-03-05T13:20:55.441Z"
   },
   {
    "duration": 6,
    "start_time": "2022-03-05T13:20:55.519Z"
   },
   {
    "duration": 5,
    "start_time": "2022-03-05T13:20:55.606Z"
   },
   {
    "duration": 5,
    "start_time": "2022-03-05T13:20:55.684Z"
   },
   {
    "duration": 6,
    "start_time": "2022-03-05T13:20:55.767Z"
   },
   {
    "duration": 9,
    "start_time": "2022-03-05T13:20:56.253Z"
   },
   {
    "duration": 6019,
    "start_time": "2022-03-05T13:20:56.840Z"
   },
   {
    "duration": 8,
    "start_time": "2022-03-05T13:21:02.862Z"
   },
   {
    "duration": 20,
    "start_time": "2022-03-05T13:21:02.873Z"
   },
   {
    "duration": 31,
    "start_time": "2022-03-05T13:21:02.896Z"
   },
   {
    "duration": 129,
    "start_time": "2022-03-05T13:21:02.930Z"
   },
   {
    "duration": 28,
    "start_time": "2022-03-05T13:21:03.061Z"
   },
   {
    "duration": 4493,
    "start_time": "2022-03-05T13:24:33.237Z"
   },
   {
    "duration": 35,
    "start_time": "2022-03-05T13:24:37.732Z"
   },
   {
    "duration": 32,
    "start_time": "2022-03-05T13:24:37.770Z"
   },
   {
    "duration": 18,
    "start_time": "2022-03-05T13:24:37.805Z"
   },
   {
    "duration": 22,
    "start_time": "2022-03-05T13:24:37.825Z"
   },
   {
    "duration": 6,
    "start_time": "2022-03-05T13:24:37.849Z"
   },
   {
    "duration": 33,
    "start_time": "2022-03-05T13:24:37.857Z"
   },
   {
    "duration": 6,
    "start_time": "2022-03-05T13:24:37.894Z"
   },
   {
    "duration": 8,
    "start_time": "2022-03-05T13:24:37.903Z"
   },
   {
    "duration": 11,
    "start_time": "2022-03-05T13:24:37.913Z"
   },
   {
    "duration": 148,
    "start_time": "2022-03-05T13:24:37.926Z"
   },
   {
    "duration": 150,
    "start_time": "2022-03-05T13:24:38.077Z"
   },
   {
    "duration": 10,
    "start_time": "2022-03-05T13:24:38.230Z"
   },
   {
    "duration": 229,
    "start_time": "2022-03-05T13:24:38.242Z"
   },
   {
    "duration": 230,
    "start_time": "2022-03-05T13:24:38.474Z"
   },
   {
    "duration": 9,
    "start_time": "2022-03-05T13:24:38.706Z"
   },
   {
    "duration": 41,
    "start_time": "2022-03-05T13:24:38.718Z"
   },
   {
    "duration": 231,
    "start_time": "2022-03-05T13:24:38.761Z"
   },
   {
    "duration": 6,
    "start_time": "2022-03-05T13:24:38.994Z"
   },
   {
    "duration": 24,
    "start_time": "2022-03-05T13:24:39.002Z"
   },
   {
    "duration": 14,
    "start_time": "2022-03-05T13:24:39.028Z"
   },
   {
    "duration": 44,
    "start_time": "2022-03-05T13:24:39.045Z"
   },
   {
    "duration": 11,
    "start_time": "2022-03-05T13:24:39.096Z"
   },
   {
    "duration": 17,
    "start_time": "2022-03-05T13:24:39.110Z"
   },
   {
    "duration": 8,
    "start_time": "2022-03-05T13:24:39.130Z"
   },
   {
    "duration": 196,
    "start_time": "2022-03-05T13:24:39.141Z"
   },
   {
    "duration": 8,
    "start_time": "2022-03-05T13:24:39.340Z"
   },
   {
    "duration": 240,
    "start_time": "2022-03-05T13:24:39.350Z"
   },
   {
    "duration": 8,
    "start_time": "2022-03-05T13:24:39.592Z"
   },
   {
    "duration": 10,
    "start_time": "2022-03-05T13:24:39.602Z"
   },
   {
    "duration": 7,
    "start_time": "2022-03-05T13:24:39.615Z"
   },
   {
    "duration": 11,
    "start_time": "2022-03-05T13:24:39.624Z"
   },
   {
    "duration": 9,
    "start_time": "2022-03-05T13:24:39.637Z"
   },
   {
    "duration": 3,
    "start_time": "2022-03-05T13:24:39.688Z"
   },
   {
    "duration": 7,
    "start_time": "2022-03-05T13:24:39.693Z"
   },
   {
    "duration": 13,
    "start_time": "2022-03-05T13:24:39.703Z"
   },
   {
    "duration": 23,
    "start_time": "2022-03-05T13:24:39.719Z"
   },
   {
    "duration": 51,
    "start_time": "2022-03-05T13:24:39.744Z"
   },
   {
    "duration": 17,
    "start_time": "2022-03-05T13:24:39.797Z"
   },
   {
    "duration": 11,
    "start_time": "2022-03-05T13:24:39.817Z"
   },
   {
    "duration": 14,
    "start_time": "2022-03-05T13:24:39.832Z"
   },
   {
    "duration": 38,
    "start_time": "2022-03-05T13:24:39.849Z"
   },
   {
    "duration": 8,
    "start_time": "2022-03-05T13:24:39.890Z"
   },
   {
    "duration": 8,
    "start_time": "2022-03-05T13:24:39.985Z"
   },
   {
    "duration": 8,
    "start_time": "2022-03-05T13:24:39.996Z"
   },
   {
    "duration": 14,
    "start_time": "2022-03-05T13:24:40.007Z"
   },
   {
    "duration": 20,
    "start_time": "2022-03-05T13:24:40.024Z"
   },
   {
    "duration": 24,
    "start_time": "2022-03-05T13:24:40.046Z"
   },
   {
    "duration": 28,
    "start_time": "2022-03-05T13:24:40.073Z"
   },
   {
    "duration": 10,
    "start_time": "2022-03-05T13:24:40.104Z"
   },
   {
    "duration": 16,
    "start_time": "2022-03-05T13:24:40.391Z"
   },
   {
    "duration": 13,
    "start_time": "2022-03-05T13:24:40.470Z"
   },
   {
    "duration": 8,
    "start_time": "2022-03-05T13:24:40.554Z"
   },
   {
    "duration": 13,
    "start_time": "2022-03-05T13:24:40.650Z"
   },
   {
    "duration": 22,
    "start_time": "2022-03-05T13:24:40.728Z"
   },
   {
    "duration": 11,
    "start_time": "2022-03-05T13:24:40.801Z"
   },
   {
    "duration": 6,
    "start_time": "2022-03-05T13:24:41.302Z"
   },
   {
    "duration": 13,
    "start_time": "2022-03-05T13:24:41.782Z"
   },
   {
    "duration": 6,
    "start_time": "2022-03-05T13:24:42.016Z"
   },
   {
    "duration": 3,
    "start_time": "2022-03-05T13:24:42.524Z"
   },
   {
    "duration": 10,
    "start_time": "2022-03-05T13:24:42.729Z"
   },
   {
    "duration": 21,
    "start_time": "2022-03-05T13:24:42.742Z"
   },
   {
    "duration": 18,
    "start_time": "2022-03-05T13:24:42.940Z"
   },
   {
    "duration": 22,
    "start_time": "2022-03-05T13:24:43.446Z"
   },
   {
    "duration": 361,
    "start_time": "2022-03-05T13:24:43.535Z"
   },
   {
    "duration": 102,
    "start_time": "2022-03-05T13:24:43.989Z"
   },
   {
    "duration": 6,
    "start_time": "2022-03-05T13:24:44.094Z"
   },
   {
    "duration": 25,
    "start_time": "2022-03-05T13:24:44.103Z"
   },
   {
    "duration": 892,
    "start_time": "2022-03-05T13:24:44.600Z"
   },
   {
    "duration": 100,
    "start_time": "2022-03-05T13:24:45.495Z"
   },
   {
    "duration": 11,
    "start_time": "2022-03-05T13:24:45.688Z"
   },
   {
    "duration": 48,
    "start_time": "2022-03-05T13:24:45.818Z"
   },
   {
    "duration": 8,
    "start_time": "2022-03-05T13:24:45.868Z"
   },
   {
    "duration": 15,
    "start_time": "2022-03-05T13:24:45.880Z"
   },
   {
    "duration": 5,
    "start_time": "2022-03-05T13:24:46.234Z"
   },
   {
    "duration": 5,
    "start_time": "2022-03-05T13:24:46.665Z"
   },
   {
    "duration": 8,
    "start_time": "2022-03-05T13:24:46.902Z"
   },
   {
    "duration": 6850,
    "start_time": "2022-03-05T13:24:47.487Z"
   },
   {
    "duration": 10,
    "start_time": "2022-03-05T13:24:54.340Z"
   },
   {
    "duration": 26,
    "start_time": "2022-03-05T13:24:54.353Z"
   },
   {
    "duration": 35,
    "start_time": "2022-03-05T13:24:54.381Z"
   },
   {
    "duration": 4,
    "start_time": "2022-03-05T13:24:55.869Z"
   },
   {
    "duration": 7180,
    "start_time": "2022-03-05T13:24:58.112Z"
   },
   {
    "duration": -203,
    "start_time": "2022-03-05T13:25:05.498Z"
   },
   {
    "duration": 39,
    "start_time": "2022-03-05T13:26:05.750Z"
   },
   {
    "duration": 30,
    "start_time": "2022-03-05T13:26:20.282Z"
   },
   {
    "duration": 27,
    "start_time": "2022-03-05T13:26:34.936Z"
   },
   {
    "duration": 6645,
    "start_time": "2022-03-05T13:27:06.002Z"
   },
   {
    "duration": 4497,
    "start_time": "2022-03-05T13:27:28.326Z"
   },
   {
    "duration": 41,
    "start_time": "2022-03-05T13:27:32.826Z"
   },
   {
    "duration": 33,
    "start_time": "2022-03-05T13:27:32.870Z"
   },
   {
    "duration": 13,
    "start_time": "2022-03-05T13:27:32.907Z"
   },
   {
    "duration": 19,
    "start_time": "2022-03-05T13:27:32.922Z"
   },
   {
    "duration": 9,
    "start_time": "2022-03-05T13:27:32.943Z"
   },
   {
    "duration": 38,
    "start_time": "2022-03-05T13:27:32.954Z"
   },
   {
    "duration": 6,
    "start_time": "2022-03-05T13:27:32.996Z"
   },
   {
    "duration": 6,
    "start_time": "2022-03-05T13:27:33.005Z"
   },
   {
    "duration": 8,
    "start_time": "2022-03-05T13:27:33.013Z"
   },
   {
    "duration": 152,
    "start_time": "2022-03-05T13:27:33.023Z"
   },
   {
    "duration": 150,
    "start_time": "2022-03-05T13:27:33.177Z"
   },
   {
    "duration": 10,
    "start_time": "2022-03-05T13:27:33.330Z"
   },
   {
    "duration": 234,
    "start_time": "2022-03-05T13:27:33.342Z"
   },
   {
    "duration": 336,
    "start_time": "2022-03-05T13:27:33.579Z"
   },
   {
    "duration": 9,
    "start_time": "2022-03-05T13:27:33.918Z"
   },
   {
    "duration": 33,
    "start_time": "2022-03-05T13:27:33.930Z"
   },
   {
    "duration": 253,
    "start_time": "2022-03-05T13:27:33.966Z"
   },
   {
    "duration": 7,
    "start_time": "2022-03-05T13:27:34.222Z"
   },
   {
    "duration": 18,
    "start_time": "2022-03-05T13:27:34.232Z"
   },
   {
    "duration": 8,
    "start_time": "2022-03-05T13:27:34.252Z"
   },
   {
    "duration": 48,
    "start_time": "2022-03-05T13:27:34.263Z"
   },
   {
    "duration": 10,
    "start_time": "2022-03-05T13:27:34.316Z"
   },
   {
    "duration": 10,
    "start_time": "2022-03-05T13:27:34.329Z"
   },
   {
    "duration": 10,
    "start_time": "2022-03-05T13:27:34.341Z"
   },
   {
    "duration": 175,
    "start_time": "2022-03-05T13:27:34.387Z"
   },
   {
    "duration": 8,
    "start_time": "2022-03-05T13:27:34.564Z"
   },
   {
    "duration": 253,
    "start_time": "2022-03-05T13:27:34.574Z"
   },
   {
    "duration": 8,
    "start_time": "2022-03-05T13:27:34.829Z"
   },
   {
    "duration": 9,
    "start_time": "2022-03-05T13:27:34.840Z"
   },
   {
    "duration": 7,
    "start_time": "2022-03-05T13:27:34.851Z"
   },
   {
    "duration": 30,
    "start_time": "2022-03-05T13:27:34.860Z"
   },
   {
    "duration": 9,
    "start_time": "2022-03-05T13:27:34.892Z"
   },
   {
    "duration": 3,
    "start_time": "2022-03-05T13:27:34.903Z"
   },
   {
    "duration": 6,
    "start_time": "2022-03-05T13:27:34.908Z"
   },
   {
    "duration": 17,
    "start_time": "2022-03-05T13:27:34.916Z"
   },
   {
    "duration": 57,
    "start_time": "2022-03-05T13:27:34.935Z"
   },
   {
    "duration": 26,
    "start_time": "2022-03-05T13:27:34.995Z"
   },
   {
    "duration": 18,
    "start_time": "2022-03-05T13:27:35.024Z"
   },
   {
    "duration": 19,
    "start_time": "2022-03-05T13:27:35.045Z"
   },
   {
    "duration": 30,
    "start_time": "2022-03-05T13:27:35.066Z"
   },
   {
    "duration": 8,
    "start_time": "2022-03-05T13:27:35.098Z"
   },
   {
    "duration": 15,
    "start_time": "2022-03-05T13:27:35.108Z"
   },
   {
    "duration": 15,
    "start_time": "2022-03-05T13:27:35.125Z"
   },
   {
    "duration": 12,
    "start_time": "2022-03-05T13:27:35.143Z"
   },
   {
    "duration": 32,
    "start_time": "2022-03-05T13:27:35.157Z"
   },
   {
    "duration": 14,
    "start_time": "2022-03-05T13:27:35.191Z"
   },
   {
    "duration": 24,
    "start_time": "2022-03-05T13:27:35.207Z"
   },
   {
    "duration": 20,
    "start_time": "2022-03-05T13:27:35.233Z"
   },
   {
    "duration": 37,
    "start_time": "2022-03-05T13:27:35.256Z"
   },
   {
    "duration": 21,
    "start_time": "2022-03-05T13:27:35.296Z"
   },
   {
    "duration": 13,
    "start_time": "2022-03-05T13:27:35.319Z"
   },
   {
    "duration": 11,
    "start_time": "2022-03-05T13:27:35.334Z"
   },
   {
    "duration": 48,
    "start_time": "2022-03-05T13:27:35.347Z"
   },
   {
    "duration": 23,
    "start_time": "2022-03-05T13:27:35.398Z"
   },
   {
    "duration": 11,
    "start_time": "2022-03-05T13:27:35.423Z"
   },
   {
    "duration": 6,
    "start_time": "2022-03-05T13:27:35.437Z"
   },
   {
    "duration": 47,
    "start_time": "2022-03-05T13:27:35.445Z"
   },
   {
    "duration": 5,
    "start_time": "2022-03-05T13:27:35.495Z"
   },
   {
    "duration": 6,
    "start_time": "2022-03-05T13:27:35.502Z"
   },
   {
    "duration": 10,
    "start_time": "2022-03-05T13:27:35.512Z"
   },
   {
    "duration": 18,
    "start_time": "2022-03-05T13:27:35.525Z"
   },
   {
    "duration": 55,
    "start_time": "2022-03-05T13:27:35.545Z"
   },
   {
    "duration": 22,
    "start_time": "2022-03-05T13:27:35.602Z"
   },
   {
    "duration": 468,
    "start_time": "2022-03-05T13:27:35.626Z"
   },
   {
    "duration": 190,
    "start_time": "2022-03-05T13:27:36.097Z"
   },
   {
    "duration": 7,
    "start_time": "2022-03-05T13:27:36.290Z"
   },
   {
    "duration": 22,
    "start_time": "2022-03-05T13:27:36.300Z"
   },
   {
    "duration": 1071,
    "start_time": "2022-03-05T13:27:36.324Z"
   },
   {
    "duration": 101,
    "start_time": "2022-03-05T13:27:37.489Z"
   },
   {
    "duration": 12,
    "start_time": "2022-03-05T13:27:37.592Z"
   },
   {
    "duration": 45,
    "start_time": "2022-03-05T13:27:37.607Z"
   },
   {
    "duration": 37,
    "start_time": "2022-03-05T13:27:37.654Z"
   },
   {
    "duration": 6,
    "start_time": "2022-03-05T13:27:37.693Z"
   },
   {
    "duration": 5,
    "start_time": "2022-03-05T13:27:37.703Z"
   },
   {
    "duration": 9,
    "start_time": "2022-03-05T13:27:37.710Z"
   },
   {
    "duration": 11,
    "start_time": "2022-03-05T13:27:37.721Z"
   },
   {
    "duration": 5911,
    "start_time": "2022-03-05T13:27:37.734Z"
   },
   {
    "duration": 9,
    "start_time": "2022-03-05T13:27:43.647Z"
   },
   {
    "duration": 19,
    "start_time": "2022-03-05T13:27:43.659Z"
   },
   {
    "duration": 47,
    "start_time": "2022-03-05T13:27:43.680Z"
   },
   {
    "duration": 4,
    "start_time": "2022-03-05T13:27:43.729Z"
   },
   {
    "duration": 6582,
    "start_time": "2022-03-05T13:27:43.735Z"
   },
   {
    "duration": -182,
    "start_time": "2022-03-05T13:27:50.501Z"
   },
   {
    "duration": 30,
    "start_time": "2022-03-05T13:28:12.757Z"
   },
   {
    "duration": 6686,
    "start_time": "2022-03-05T13:28:16.537Z"
   },
   {
    "duration": 25,
    "start_time": "2022-03-05T13:29:39.697Z"
   },
   {
    "duration": 13,
    "start_time": "2022-03-05T13:30:01.619Z"
   },
   {
    "duration": 6321,
    "start_time": "2022-03-05T13:30:28.477Z"
   },
   {
    "duration": 5263,
    "start_time": "2022-03-05T13:37:26.503Z"
   },
   {
    "duration": 35,
    "start_time": "2022-03-05T13:37:31.769Z"
   },
   {
    "duration": 33,
    "start_time": "2022-03-05T13:37:31.807Z"
   },
   {
    "duration": 22,
    "start_time": "2022-03-05T13:37:31.843Z"
   },
   {
    "duration": 32,
    "start_time": "2022-03-05T13:37:31.867Z"
   },
   {
    "duration": 6,
    "start_time": "2022-03-05T13:37:31.901Z"
   },
   {
    "duration": 10,
    "start_time": "2022-03-05T13:37:31.909Z"
   },
   {
    "duration": 6,
    "start_time": "2022-03-05T13:37:31.922Z"
   },
   {
    "duration": 58,
    "start_time": "2022-03-05T13:37:31.931Z"
   },
   {
    "duration": 12,
    "start_time": "2022-03-05T13:37:31.992Z"
   },
   {
    "duration": 272,
    "start_time": "2022-03-05T13:37:32.007Z"
   },
   {
    "duration": 298,
    "start_time": "2022-03-05T13:37:32.282Z"
   },
   {
    "duration": 9,
    "start_time": "2022-03-05T13:37:32.583Z"
   },
   {
    "duration": 232,
    "start_time": "2022-03-05T13:37:32.594Z"
   },
   {
    "duration": 233,
    "start_time": "2022-03-05T13:37:32.828Z"
   },
   {
    "duration": 9,
    "start_time": "2022-03-05T13:37:33.064Z"
   },
   {
    "duration": 29,
    "start_time": "2022-03-05T13:37:33.087Z"
   },
   {
    "duration": 241,
    "start_time": "2022-03-05T13:37:33.119Z"
   },
   {
    "duration": 5,
    "start_time": "2022-03-05T13:37:33.363Z"
   },
   {
    "duration": 24,
    "start_time": "2022-03-05T13:37:33.371Z"
   },
   {
    "duration": 6,
    "start_time": "2022-03-05T13:37:33.398Z"
   },
   {
    "duration": 33,
    "start_time": "2022-03-05T13:37:33.406Z"
   },
   {
    "duration": 46,
    "start_time": "2022-03-05T13:37:33.445Z"
   },
   {
    "duration": 13,
    "start_time": "2022-03-05T13:37:33.496Z"
   },
   {
    "duration": 9,
    "start_time": "2022-03-05T13:37:33.512Z"
   },
   {
    "duration": 213,
    "start_time": "2022-03-05T13:37:33.525Z"
   },
   {
    "duration": 9,
    "start_time": "2022-03-05T13:37:33.740Z"
   },
   {
    "duration": 460,
    "start_time": "2022-03-05T13:37:33.752Z"
   },
   {
    "duration": 10,
    "start_time": "2022-03-05T13:37:34.215Z"
   },
   {
    "duration": 18,
    "start_time": "2022-03-05T13:37:34.228Z"
   },
   {
    "duration": 11,
    "start_time": "2022-03-05T13:37:34.249Z"
   },
   {
    "duration": 32,
    "start_time": "2022-03-05T13:37:34.263Z"
   },
   {
    "duration": 13,
    "start_time": "2022-03-05T13:37:34.298Z"
   },
   {
    "duration": 6,
    "start_time": "2022-03-05T13:37:34.313Z"
   },
   {
    "duration": 6,
    "start_time": "2022-03-05T13:37:34.321Z"
   },
   {
    "duration": 13,
    "start_time": "2022-03-05T13:37:34.329Z"
   },
   {
    "duration": 53,
    "start_time": "2022-03-05T13:37:34.344Z"
   },
   {
    "duration": 28,
    "start_time": "2022-03-05T13:37:34.400Z"
   },
   {
    "duration": 17,
    "start_time": "2022-03-05T13:37:34.431Z"
   },
   {
    "duration": 36,
    "start_time": "2022-03-05T13:37:34.451Z"
   },
   {
    "duration": 14,
    "start_time": "2022-03-05T13:37:34.490Z"
   },
   {
    "duration": 10,
    "start_time": "2022-03-05T13:37:34.507Z"
   },
   {
    "duration": 8,
    "start_time": "2022-03-05T13:37:34.520Z"
   },
   {
    "duration": 9,
    "start_time": "2022-03-05T13:37:34.531Z"
   },
   {
    "duration": 9,
    "start_time": "2022-03-05T13:37:34.588Z"
   },
   {
    "duration": 14,
    "start_time": "2022-03-05T13:37:34.600Z"
   },
   {
    "duration": 8,
    "start_time": "2022-03-05T13:37:34.616Z"
   },
   {
    "duration": 21,
    "start_time": "2022-03-05T13:37:34.627Z"
   },
   {
    "duration": 46,
    "start_time": "2022-03-05T13:37:34.650Z"
   },
   {
    "duration": 15,
    "start_time": "2022-03-05T13:37:34.698Z"
   },
   {
    "duration": 23,
    "start_time": "2022-03-05T13:37:34.715Z"
   },
   {
    "duration": 12,
    "start_time": "2022-03-05T13:37:34.741Z"
   },
   {
    "duration": 34,
    "start_time": "2022-03-05T13:37:34.755Z"
   },
   {
    "duration": 16,
    "start_time": "2022-03-05T13:37:34.791Z"
   },
   {
    "duration": 21,
    "start_time": "2022-03-05T13:37:34.810Z"
   },
   {
    "duration": 13,
    "start_time": "2022-03-05T13:37:34.834Z"
   },
   {
    "duration": 37,
    "start_time": "2022-03-05T13:37:34.850Z"
   },
   {
    "duration": 14,
    "start_time": "2022-03-05T13:37:34.890Z"
   },
   {
    "duration": 5,
    "start_time": "2022-03-05T13:37:34.907Z"
   },
   {
    "duration": 8,
    "start_time": "2022-03-05T13:37:34.915Z"
   },
   {
    "duration": 15,
    "start_time": "2022-03-05T13:37:34.926Z"
   },
   {
    "duration": 56,
    "start_time": "2022-03-05T13:37:34.944Z"
   },
   {
    "duration": 23,
    "start_time": "2022-03-05T13:37:35.003Z"
   },
   {
    "duration": 29,
    "start_time": "2022-03-05T13:37:35.029Z"
   },
   {
    "duration": 429,
    "start_time": "2022-03-05T13:37:35.061Z"
   },
   {
    "duration": 102,
    "start_time": "2022-03-05T13:37:35.493Z"
   },
   {
    "duration": 7,
    "start_time": "2022-03-05T13:37:35.598Z"
   },
   {
    "duration": 88,
    "start_time": "2022-03-05T13:37:35.618Z"
   },
   {
    "duration": 787,
    "start_time": "2022-03-05T13:37:35.710Z"
   },
   {
    "duration": 96,
    "start_time": "2022-03-05T13:37:36.500Z"
   },
   {
    "duration": 13,
    "start_time": "2022-03-05T13:37:36.688Z"
   },
   {
    "duration": 46,
    "start_time": "2022-03-05T13:37:36.703Z"
   },
   {
    "duration": 36,
    "start_time": "2022-03-05T13:37:36.752Z"
   },
   {
    "duration": 4,
    "start_time": "2022-03-05T13:37:36.791Z"
   },
   {
    "duration": 6,
    "start_time": "2022-03-05T13:37:36.798Z"
   },
   {
    "duration": 7,
    "start_time": "2022-03-05T13:37:36.806Z"
   },
   {
    "duration": 10,
    "start_time": "2022-03-05T13:37:36.815Z"
   },
   {
    "duration": 4488,
    "start_time": "2022-03-05T13:37:47.714Z"
   },
   {
    "duration": 35,
    "start_time": "2022-03-05T13:37:52.205Z"
   },
   {
    "duration": 42,
    "start_time": "2022-03-05T13:37:52.247Z"
   },
   {
    "duration": 16,
    "start_time": "2022-03-05T13:37:52.291Z"
   },
   {
    "duration": 17,
    "start_time": "2022-03-05T13:37:52.309Z"
   },
   {
    "duration": 7,
    "start_time": "2022-03-05T13:37:52.328Z"
   },
   {
    "duration": 18,
    "start_time": "2022-03-05T13:37:52.337Z"
   },
   {
    "duration": 31,
    "start_time": "2022-03-05T13:37:52.359Z"
   },
   {
    "duration": 8,
    "start_time": "2022-03-05T13:37:52.392Z"
   },
   {
    "duration": 9,
    "start_time": "2022-03-05T13:37:52.402Z"
   },
   {
    "duration": 147,
    "start_time": "2022-03-05T13:37:52.413Z"
   },
   {
    "duration": 149,
    "start_time": "2022-03-05T13:37:52.565Z"
   },
   {
    "duration": 10,
    "start_time": "2022-03-05T13:37:52.716Z"
   },
   {
    "duration": 236,
    "start_time": "2022-03-05T13:37:52.729Z"
   },
   {
    "duration": 241,
    "start_time": "2022-03-05T13:37:52.968Z"
   },
   {
    "duration": 8,
    "start_time": "2022-03-05T13:37:53.212Z"
   },
   {
    "duration": 33,
    "start_time": "2022-03-05T13:37:53.222Z"
   },
   {
    "duration": 231,
    "start_time": "2022-03-05T13:37:53.258Z"
   },
   {
    "duration": 6,
    "start_time": "2022-03-05T13:37:53.492Z"
   },
   {
    "duration": 20,
    "start_time": "2022-03-05T13:37:53.501Z"
   },
   {
    "duration": 8,
    "start_time": "2022-03-05T13:37:53.526Z"
   },
   {
    "duration": 52,
    "start_time": "2022-03-05T13:37:53.536Z"
   },
   {
    "duration": 11,
    "start_time": "2022-03-05T13:37:53.590Z"
   },
   {
    "duration": 10,
    "start_time": "2022-03-05T13:37:53.607Z"
   },
   {
    "duration": 7,
    "start_time": "2022-03-05T13:37:53.620Z"
   },
   {
    "duration": 198,
    "start_time": "2022-03-05T13:37:53.629Z"
   },
   {
    "duration": 8,
    "start_time": "2022-03-05T13:37:53.830Z"
   },
   {
    "duration": 237,
    "start_time": "2022-03-05T13:37:53.840Z"
   },
   {
    "duration": 12,
    "start_time": "2022-03-05T13:37:54.080Z"
   },
   {
    "duration": 10,
    "start_time": "2022-03-05T13:37:54.094Z"
   },
   {
    "duration": 8,
    "start_time": "2022-03-05T13:37:54.106Z"
   },
   {
    "duration": 8,
    "start_time": "2022-03-05T13:37:54.116Z"
   },
   {
    "duration": 8,
    "start_time": "2022-03-05T13:37:54.126Z"
   },
   {
    "duration": 51,
    "start_time": "2022-03-05T13:37:54.136Z"
   },
   {
    "duration": 3,
    "start_time": "2022-03-05T13:37:54.189Z"
   },
   {
    "duration": 12,
    "start_time": "2022-03-05T13:37:54.194Z"
   },
   {
    "duration": 20,
    "start_time": "2022-03-05T13:37:54.208Z"
   },
   {
    "duration": 27,
    "start_time": "2022-03-05T13:37:54.231Z"
   },
   {
    "duration": 40,
    "start_time": "2022-03-05T13:37:54.260Z"
   },
   {
    "duration": 12,
    "start_time": "2022-03-05T13:37:54.302Z"
   },
   {
    "duration": 14,
    "start_time": "2022-03-05T13:37:54.317Z"
   },
   {
    "duration": 9,
    "start_time": "2022-03-05T13:37:54.334Z"
   },
   {
    "duration": 9,
    "start_time": "2022-03-05T13:37:54.388Z"
   },
   {
    "duration": 10,
    "start_time": "2022-03-05T13:37:54.400Z"
   },
   {
    "duration": 15,
    "start_time": "2022-03-05T13:37:54.412Z"
   },
   {
    "duration": 9,
    "start_time": "2022-03-05T13:37:54.429Z"
   },
   {
    "duration": 8,
    "start_time": "2022-03-05T13:37:54.441Z"
   },
   {
    "duration": 21,
    "start_time": "2022-03-05T13:37:54.487Z"
   },
   {
    "duration": 18,
    "start_time": "2022-03-05T13:37:54.510Z"
   },
   {
    "duration": 13,
    "start_time": "2022-03-05T13:37:54.530Z"
   },
   {
    "duration": 17,
    "start_time": "2022-03-05T13:37:54.546Z"
   },
   {
    "duration": 32,
    "start_time": "2022-03-05T13:37:54.565Z"
   },
   {
    "duration": 17,
    "start_time": "2022-03-05T13:37:54.599Z"
   },
   {
    "duration": 23,
    "start_time": "2022-03-05T13:37:54.618Z"
   },
   {
    "duration": 25,
    "start_time": "2022-03-05T13:37:54.644Z"
   },
   {
    "duration": 10,
    "start_time": "2022-03-05T13:37:54.688Z"
   },
   {
    "duration": 13,
    "start_time": "2022-03-05T13:37:54.701Z"
   },
   {
    "duration": 17,
    "start_time": "2022-03-05T13:37:54.716Z"
   },
   {
    "duration": 11,
    "start_time": "2022-03-05T13:37:54.735Z"
   },
   {
    "duration": 20,
    "start_time": "2022-03-05T13:37:54.748Z"
   },
   {
    "duration": 21,
    "start_time": "2022-03-05T13:37:54.770Z"
   },
   {
    "duration": 28,
    "start_time": "2022-03-05T13:37:54.794Z"
   },
   {
    "duration": 27,
    "start_time": "2022-03-05T13:37:54.824Z"
   },
   {
    "duration": 20,
    "start_time": "2022-03-05T13:37:54.853Z"
   },
   {
    "duration": 308,
    "start_time": "2022-03-05T13:37:54.886Z"
   },
   {
    "duration": 108,
    "start_time": "2022-03-05T13:37:55.287Z"
   },
   {
    "duration": 6,
    "start_time": "2022-03-05T13:37:55.397Z"
   },
   {
    "duration": 24,
    "start_time": "2022-03-05T13:37:55.406Z"
   },
   {
    "duration": 858,
    "start_time": "2022-03-05T13:37:55.433Z"
   },
   {
    "duration": 100,
    "start_time": "2022-03-05T13:37:56.295Z"
   },
   {
    "duration": 10,
    "start_time": "2022-03-05T13:37:56.487Z"
   },
   {
    "duration": 45,
    "start_time": "2022-03-05T13:37:56.500Z"
   },
   {
    "duration": 6,
    "start_time": "2022-03-05T13:37:56.548Z"
   },
   {
    "duration": 5,
    "start_time": "2022-03-05T13:37:56.588Z"
   },
   {
    "duration": 8,
    "start_time": "2022-03-05T13:37:56.595Z"
   },
   {
    "duration": 7,
    "start_time": "2022-03-05T13:37:56.605Z"
   },
   {
    "duration": 9,
    "start_time": "2022-03-05T13:37:56.615Z"
   },
   {
    "duration": 5922,
    "start_time": "2022-03-05T13:37:57.175Z"
   },
   {
    "duration": 11,
    "start_time": "2022-03-05T13:38:03.100Z"
   },
   {
    "duration": 18,
    "start_time": "2022-03-05T13:38:03.114Z"
   },
   {
    "duration": 60,
    "start_time": "2022-03-05T13:38:03.134Z"
   },
   {
    "duration": 4,
    "start_time": "2022-03-05T13:38:03.197Z"
   },
   {
    "duration": 54,
    "start_time": "2022-03-05T13:38:41.330Z"
   },
   {
    "duration": 400,
    "start_time": "2022-03-05T13:39:31.756Z"
   },
   {
    "duration": 261,
    "start_time": "2022-03-05T13:39:43.209Z"
   },
   {
    "duration": 15,
    "start_time": "2022-03-05T13:40:32.058Z"
   },
   {
    "duration": 25,
    "start_time": "2022-03-05T13:40:48.892Z"
   },
   {
    "duration": 4508,
    "start_time": "2022-03-05T13:42:22.957Z"
   },
   {
    "duration": 34,
    "start_time": "2022-03-05T13:42:27.468Z"
   },
   {
    "duration": 33,
    "start_time": "2022-03-05T13:42:27.505Z"
   },
   {
    "duration": 15,
    "start_time": "2022-03-05T13:42:27.541Z"
   },
   {
    "duration": 20,
    "start_time": "2022-03-05T13:42:27.558Z"
   },
   {
    "duration": 7,
    "start_time": "2022-03-05T13:42:27.580Z"
   },
   {
    "duration": 15,
    "start_time": "2022-03-05T13:42:27.589Z"
   },
   {
    "duration": 6,
    "start_time": "2022-03-05T13:42:27.608Z"
   },
   {
    "duration": 6,
    "start_time": "2022-03-05T13:42:27.616Z"
   },
   {
    "duration": 8,
    "start_time": "2022-03-05T13:42:27.624Z"
   },
   {
    "duration": 131,
    "start_time": "2022-03-05T13:42:27.634Z"
   },
   {
    "duration": 146,
    "start_time": "2022-03-05T13:42:27.767Z"
   },
   {
    "duration": 9,
    "start_time": "2022-03-05T13:42:27.916Z"
   },
   {
    "duration": 277,
    "start_time": "2022-03-05T13:42:27.928Z"
   },
   {
    "duration": 333,
    "start_time": "2022-03-05T13:42:28.207Z"
   },
   {
    "duration": 46,
    "start_time": "2022-03-05T13:42:28.542Z"
   },
   {
    "duration": 29,
    "start_time": "2022-03-05T13:42:28.590Z"
   },
   {
    "duration": 367,
    "start_time": "2022-03-05T13:42:28.621Z"
   },
   {
    "duration": 6,
    "start_time": "2022-03-05T13:42:28.990Z"
   },
   {
    "duration": 19,
    "start_time": "2022-03-05T13:42:28.998Z"
   },
   {
    "duration": 8,
    "start_time": "2022-03-05T13:42:29.020Z"
   },
   {
    "duration": 37,
    "start_time": "2022-03-05T13:42:29.030Z"
   },
   {
    "duration": 10,
    "start_time": "2022-03-05T13:42:29.088Z"
   },
   {
    "duration": 11,
    "start_time": "2022-03-05T13:42:29.100Z"
   },
   {
    "duration": 8,
    "start_time": "2022-03-05T13:42:29.113Z"
   },
   {
    "duration": 196,
    "start_time": "2022-03-05T13:42:29.123Z"
   },
   {
    "duration": 7,
    "start_time": "2022-03-05T13:42:29.322Z"
   },
   {
    "duration": 247,
    "start_time": "2022-03-05T13:42:29.332Z"
   },
   {
    "duration": 8,
    "start_time": "2022-03-05T13:42:29.582Z"
   },
   {
    "duration": 9,
    "start_time": "2022-03-05T13:42:29.592Z"
   },
   {
    "duration": 11,
    "start_time": "2022-03-05T13:42:29.603Z"
   },
   {
    "duration": 8,
    "start_time": "2022-03-05T13:42:29.617Z"
   },
   {
    "duration": 9,
    "start_time": "2022-03-05T13:42:29.627Z"
   },
   {
    "duration": 8,
    "start_time": "2022-03-05T13:42:29.638Z"
   },
   {
    "duration": 2,
    "start_time": "2022-03-05T13:42:29.688Z"
   },
   {
    "duration": 12,
    "start_time": "2022-03-05T13:42:29.693Z"
   },
   {
    "duration": 19,
    "start_time": "2022-03-05T13:42:29.708Z"
   },
   {
    "duration": 28,
    "start_time": "2022-03-05T13:42:29.729Z"
   },
   {
    "duration": 37,
    "start_time": "2022-03-05T13:42:29.759Z"
   },
   {
    "duration": 10,
    "start_time": "2022-03-05T13:42:29.799Z"
   },
   {
    "duration": 10,
    "start_time": "2022-03-05T13:42:29.811Z"
   },
   {
    "duration": 8,
    "start_time": "2022-03-05T13:42:29.823Z"
   },
   {
    "duration": 8,
    "start_time": "2022-03-05T13:42:29.833Z"
   },
   {
    "duration": 50,
    "start_time": "2022-03-05T13:42:29.843Z"
   },
   {
    "duration": 8,
    "start_time": "2022-03-05T13:42:29.899Z"
   },
   {
    "duration": 14,
    "start_time": "2022-03-05T13:42:29.909Z"
   },
   {
    "duration": 12,
    "start_time": "2022-03-05T13:42:29.926Z"
   },
   {
    "duration": 55,
    "start_time": "2022-03-05T13:42:29.940Z"
   },
   {
    "duration": 19,
    "start_time": "2022-03-05T13:42:29.997Z"
   },
   {
    "duration": 24,
    "start_time": "2022-03-05T13:42:30.019Z"
   },
   {
    "duration": 20,
    "start_time": "2022-03-05T13:42:30.047Z"
   },
   {
    "duration": 30,
    "start_time": "2022-03-05T13:42:30.069Z"
   },
   {
    "duration": 8,
    "start_time": "2022-03-05T13:42:30.120Z"
   },
   {
    "duration": 14,
    "start_time": "2022-03-05T13:42:30.503Z"
   },
   {
    "duration": 24,
    "start_time": "2022-03-05T13:42:30.834Z"
   },
   {
    "duration": 11,
    "start_time": "2022-03-05T13:42:31.094Z"
   },
   {
    "duration": 5,
    "start_time": "2022-03-05T13:42:31.358Z"
   },
   {
    "duration": 13,
    "start_time": "2022-03-05T13:42:31.610Z"
   },
   {
    "duration": 6,
    "start_time": "2022-03-05T13:42:31.883Z"
   },
   {
    "duration": 3,
    "start_time": "2022-03-05T13:42:32.110Z"
   },
   {
    "duration": 12,
    "start_time": "2022-03-05T13:42:32.357Z"
   },
   {
    "duration": 19,
    "start_time": "2022-03-05T13:42:32.573Z"
   },
   {
    "duration": 19,
    "start_time": "2022-03-05T13:42:33.089Z"
   },
   {
    "duration": 22,
    "start_time": "2022-03-05T13:42:33.159Z"
   },
   {
    "duration": 344,
    "start_time": "2022-03-05T13:42:33.245Z"
   },
   {
    "duration": 112,
    "start_time": "2022-03-05T13:42:33.593Z"
   },
   {
    "duration": 11,
    "start_time": "2022-03-05T13:42:33.712Z"
   },
   {
    "duration": 22,
    "start_time": "2022-03-05T13:42:33.745Z"
   },
   {
    "duration": 944,
    "start_time": "2022-03-05T13:42:34.248Z"
   },
   {
    "duration": 92,
    "start_time": "2022-03-05T13:42:35.196Z"
   },
   {
    "duration": 11,
    "start_time": "2022-03-05T13:42:35.388Z"
   },
   {
    "duration": 50,
    "start_time": "2022-03-05T13:42:35.610Z"
   },
   {
    "duration": 8,
    "start_time": "2022-03-05T13:42:36.014Z"
   },
   {
    "duration": 5,
    "start_time": "2022-03-05T13:42:37.067Z"
   },
   {
    "duration": 6,
    "start_time": "2022-03-05T13:42:37.381Z"
   },
   {
    "duration": 5,
    "start_time": "2022-03-05T13:42:37.780Z"
   },
   {
    "duration": 11,
    "start_time": "2022-03-05T13:42:37.862Z"
   },
   {
    "duration": 6002,
    "start_time": "2022-03-05T13:42:38.437Z"
   },
   {
    "duration": 9,
    "start_time": "2022-03-05T13:42:44.441Z"
   },
   {
    "duration": 18,
    "start_time": "2022-03-05T13:42:44.453Z"
   },
   {
    "duration": 37,
    "start_time": "2022-03-05T13:42:44.474Z"
   },
   {
    "duration": 3,
    "start_time": "2022-03-05T13:42:44.514Z"
   },
   {
    "duration": 73,
    "start_time": "2022-03-05T13:42:44.519Z"
   },
   {
    "duration": 22,
    "start_time": "2022-03-05T13:42:55.807Z"
   },
   {
    "duration": 317,
    "start_time": "2022-03-05T13:43:42.569Z"
   },
   {
    "duration": 273,
    "start_time": "2022-03-05T13:43:43.067Z"
   },
   {
    "duration": 4489,
    "start_time": "2022-03-05T13:43:50.819Z"
   },
   {
    "duration": 34,
    "start_time": "2022-03-05T13:43:55.310Z"
   },
   {
    "duration": 31,
    "start_time": "2022-03-05T13:43:55.347Z"
   },
   {
    "duration": 10,
    "start_time": "2022-03-05T13:43:55.387Z"
   },
   {
    "duration": 14,
    "start_time": "2022-03-05T13:43:55.400Z"
   },
   {
    "duration": 5,
    "start_time": "2022-03-05T13:43:55.416Z"
   },
   {
    "duration": 8,
    "start_time": "2022-03-05T13:43:55.423Z"
   },
   {
    "duration": 52,
    "start_time": "2022-03-05T13:43:55.435Z"
   },
   {
    "duration": 7,
    "start_time": "2022-03-05T13:43:55.491Z"
   },
   {
    "duration": 10,
    "start_time": "2022-03-05T13:43:55.500Z"
   },
   {
    "duration": 139,
    "start_time": "2022-03-05T13:43:55.512Z"
   },
   {
    "duration": 148,
    "start_time": "2022-03-05T13:43:55.653Z"
   },
   {
    "duration": 9,
    "start_time": "2022-03-05T13:43:55.804Z"
   },
   {
    "duration": 229,
    "start_time": "2022-03-05T13:43:55.815Z"
   },
   {
    "duration": 240,
    "start_time": "2022-03-05T13:43:56.047Z"
   },
   {
    "duration": 10,
    "start_time": "2022-03-05T13:43:56.289Z"
   },
   {
    "duration": 30,
    "start_time": "2022-03-05T13:43:56.302Z"
   },
   {
    "duration": 244,
    "start_time": "2022-03-05T13:43:56.335Z"
   },
   {
    "duration": 8,
    "start_time": "2022-03-05T13:43:56.581Z"
   },
   {
    "duration": 16,
    "start_time": "2022-03-05T13:43:56.592Z"
   },
   {
    "duration": 8,
    "start_time": "2022-03-05T13:43:56.611Z"
   },
   {
    "duration": 70,
    "start_time": "2022-03-05T13:43:56.621Z"
   },
   {
    "duration": 10,
    "start_time": "2022-03-05T13:43:56.698Z"
   },
   {
    "duration": 12,
    "start_time": "2022-03-05T13:43:56.712Z"
   },
   {
    "duration": 11,
    "start_time": "2022-03-05T13:43:56.727Z"
   },
   {
    "duration": 217,
    "start_time": "2022-03-05T13:43:56.740Z"
   },
   {
    "duration": 9,
    "start_time": "2022-03-05T13:43:56.960Z"
   },
   {
    "duration": 231,
    "start_time": "2022-03-05T13:43:56.988Z"
   },
   {
    "duration": 8,
    "start_time": "2022-03-05T13:43:57.222Z"
   },
   {
    "duration": 9,
    "start_time": "2022-03-05T13:43:57.233Z"
   },
   {
    "duration": 10,
    "start_time": "2022-03-05T13:43:57.244Z"
   },
   {
    "duration": 11,
    "start_time": "2022-03-05T13:43:57.288Z"
   },
   {
    "duration": 10,
    "start_time": "2022-03-05T13:43:57.302Z"
   },
   {
    "duration": 4,
    "start_time": "2022-03-05T13:43:57.315Z"
   },
   {
    "duration": 7,
    "start_time": "2022-03-05T13:43:57.321Z"
   },
   {
    "duration": 18,
    "start_time": "2022-03-05T13:43:57.330Z"
   },
   {
    "duration": 22,
    "start_time": "2022-03-05T13:43:57.387Z"
   },
   {
    "duration": 25,
    "start_time": "2022-03-05T13:43:57.411Z"
   },
   {
    "duration": 18,
    "start_time": "2022-03-05T13:43:57.438Z"
   },
   {
    "duration": 45,
    "start_time": "2022-03-05T13:43:57.459Z"
   },
   {
    "duration": 12,
    "start_time": "2022-03-05T13:43:57.506Z"
   },
   {
    "duration": 7,
    "start_time": "2022-03-05T13:43:57.521Z"
   },
   {
    "duration": 9,
    "start_time": "2022-03-05T13:43:57.531Z"
   },
   {
    "duration": 45,
    "start_time": "2022-03-05T13:43:57.542Z"
   },
   {
    "duration": 9,
    "start_time": "2022-03-05T13:43:57.589Z"
   },
   {
    "duration": 7,
    "start_time": "2022-03-05T13:43:57.604Z"
   },
   {
    "duration": 6,
    "start_time": "2022-03-05T13:43:57.615Z"
   },
   {
    "duration": 22,
    "start_time": "2022-03-05T13:43:57.623Z"
   },
   {
    "duration": 56,
    "start_time": "2022-03-05T13:43:57.647Z"
   },
   {
    "duration": 12,
    "start_time": "2022-03-05T13:43:57.706Z"
   },
   {
    "duration": 16,
    "start_time": "2022-03-05T13:43:57.985Z"
   },
   {
    "duration": 12,
    "start_time": "2022-03-05T13:43:58.069Z"
   },
   {
    "duration": 8,
    "start_time": "2022-03-05T13:43:58.151Z"
   },
   {
    "duration": 13,
    "start_time": "2022-03-05T13:43:58.238Z"
   },
   {
    "duration": 21,
    "start_time": "2022-03-05T13:43:58.332Z"
   },
   {
    "duration": 10,
    "start_time": "2022-03-05T13:43:58.407Z"
   },
   {
    "duration": 5,
    "start_time": "2022-03-05T13:43:58.714Z"
   },
   {
    "duration": 12,
    "start_time": "2022-03-05T13:43:59.216Z"
   },
   {
    "duration": 6,
    "start_time": "2022-03-05T13:43:59.301Z"
   },
   {
    "duration": 4,
    "start_time": "2022-03-05T13:43:59.386Z"
   },
   {
    "duration": 12,
    "start_time": "2022-03-05T13:43:59.469Z"
   },
   {
    "duration": 19,
    "start_time": "2022-03-05T13:43:59.550Z"
   },
   {
    "duration": 19,
    "start_time": "2022-03-05T13:43:59.634Z"
   },
   {
    "duration": 21,
    "start_time": "2022-03-05T13:43:59.718Z"
   },
   {
    "duration": 391,
    "start_time": "2022-03-05T13:43:59.801Z"
   },
   {
    "duration": 197,
    "start_time": "2022-03-05T13:44:00.195Z"
   },
   {
    "duration": 6,
    "start_time": "2022-03-05T13:44:00.394Z"
   },
   {
    "duration": 21,
    "start_time": "2022-03-05T13:44:00.744Z"
   },
   {
    "duration": 973,
    "start_time": "2022-03-05T13:44:00.822Z"
   },
   {
    "duration": 94,
    "start_time": "2022-03-05T13:44:01.797Z"
   },
   {
    "duration": 115,
    "start_time": "2022-03-05T13:44:01.895Z"
   },
   {
    "duration": 45,
    "start_time": "2022-03-05T13:44:02.012Z"
   },
   {
    "duration": 6,
    "start_time": "2022-03-05T13:44:02.060Z"
   },
   {
    "duration": 21,
    "start_time": "2022-03-05T13:44:02.069Z"
   },
   {
    "duration": 7,
    "start_time": "2022-03-05T13:44:02.094Z"
   },
   {
    "duration": 7,
    "start_time": "2022-03-05T13:44:02.104Z"
   },
   {
    "duration": 9,
    "start_time": "2022-03-05T13:44:02.380Z"
   },
   {
    "duration": 6456,
    "start_time": "2022-03-05T13:44:02.956Z"
   },
   {
    "duration": 11,
    "start_time": "2022-03-05T13:44:09.415Z"
   },
   {
    "duration": 18,
    "start_time": "2022-03-05T13:44:09.429Z"
   },
   {
    "duration": 62,
    "start_time": "2022-03-05T13:44:09.449Z"
   },
   {
    "duration": 4,
    "start_time": "2022-03-05T13:44:09.513Z"
   },
   {
    "duration": 126,
    "start_time": "2022-03-05T13:44:09.519Z"
   },
   {
    "duration": 23,
    "start_time": "2022-03-05T13:44:09.648Z"
   },
   {
    "duration": 7,
    "start_time": "2022-03-05T13:44:42.795Z"
   },
   {
    "duration": 5,
    "start_time": "2022-03-05T13:44:43.167Z"
   },
   {
    "duration": 8,
    "start_time": "2022-03-05T13:44:43.516Z"
   },
   {
    "duration": 6089,
    "start_time": "2022-03-05T13:44:43.851Z"
   },
   {
    "duration": 10,
    "start_time": "2022-03-05T13:44:49.942Z"
   },
   {
    "duration": 6260,
    "start_time": "2022-03-05T13:45:15.155Z"
   },
   {
    "duration": 8,
    "start_time": "2022-03-05T13:45:21.417Z"
   },
   {
    "duration": 6306,
    "start_time": "2022-03-05T13:45:27.543Z"
   },
   {
    "duration": 8,
    "start_time": "2022-03-05T13:45:33.851Z"
   },
   {
    "duration": 7242,
    "start_time": "2022-03-05T13:45:39.266Z"
   },
   {
    "duration": 10,
    "start_time": "2022-03-05T13:45:46.511Z"
   },
   {
    "duration": 9495,
    "start_time": "2022-03-05T13:45:52.777Z"
   },
   {
    "duration": 15,
    "start_time": "2022-03-05T13:46:02.275Z"
   },
   {
    "duration": 4466,
    "start_time": "2022-03-05T13:53:09.275Z"
   },
   {
    "duration": 34,
    "start_time": "2022-03-05T13:53:13.744Z"
   },
   {
    "duration": 33,
    "start_time": "2022-03-05T13:53:13.781Z"
   },
   {
    "duration": 12,
    "start_time": "2022-03-05T13:53:13.816Z"
   },
   {
    "duration": 15,
    "start_time": "2022-03-05T13:53:13.830Z"
   },
   {
    "duration": 41,
    "start_time": "2022-03-05T13:53:13.847Z"
   },
   {
    "duration": 8,
    "start_time": "2022-03-05T13:53:13.891Z"
   },
   {
    "duration": 7,
    "start_time": "2022-03-05T13:53:13.902Z"
   },
   {
    "duration": 6,
    "start_time": "2022-03-05T13:53:13.912Z"
   },
   {
    "duration": 9,
    "start_time": "2022-03-05T13:53:13.920Z"
   },
   {
    "duration": 167,
    "start_time": "2022-03-05T13:53:13.931Z"
   },
   {
    "duration": 148,
    "start_time": "2022-03-05T13:53:14.100Z"
   },
   {
    "duration": 9,
    "start_time": "2022-03-05T13:53:14.250Z"
   },
   {
    "duration": 234,
    "start_time": "2022-03-05T13:53:14.261Z"
   },
   {
    "duration": 244,
    "start_time": "2022-03-05T13:53:14.497Z"
   },
   {
    "duration": 9,
    "start_time": "2022-03-05T13:53:14.743Z"
   },
   {
    "duration": 44,
    "start_time": "2022-03-05T13:53:14.754Z"
   },
   {
    "duration": 231,
    "start_time": "2022-03-05T13:53:14.800Z"
   },
   {
    "duration": 5,
    "start_time": "2022-03-05T13:53:15.033Z"
   },
   {
    "duration": 21,
    "start_time": "2022-03-05T13:53:15.040Z"
   },
   {
    "duration": 25,
    "start_time": "2022-03-05T13:53:15.063Z"
   },
   {
    "duration": 30,
    "start_time": "2022-03-05T13:53:15.091Z"
   },
   {
    "duration": 9,
    "start_time": "2022-03-05T13:53:15.127Z"
   },
   {
    "duration": 10,
    "start_time": "2022-03-05T13:53:15.140Z"
   },
   {
    "duration": 9,
    "start_time": "2022-03-05T13:53:15.188Z"
   },
   {
    "duration": 192,
    "start_time": "2022-03-05T13:53:15.199Z"
   },
   {
    "duration": 8,
    "start_time": "2022-03-05T13:53:15.393Z"
   },
   {
    "duration": 262,
    "start_time": "2022-03-05T13:53:15.403Z"
   },
   {
    "duration": 21,
    "start_time": "2022-03-05T13:53:15.668Z"
   },
   {
    "duration": 9,
    "start_time": "2022-03-05T13:53:15.692Z"
   },
   {
    "duration": 10,
    "start_time": "2022-03-05T13:53:15.704Z"
   },
   {
    "duration": 10,
    "start_time": "2022-03-05T13:53:15.716Z"
   },
   {
    "duration": 20,
    "start_time": "2022-03-05T13:53:15.728Z"
   },
   {
    "duration": 38,
    "start_time": "2022-03-05T13:53:15.751Z"
   },
   {
    "duration": 8,
    "start_time": "2022-03-05T13:53:15.792Z"
   },
   {
    "duration": 12,
    "start_time": "2022-03-05T13:53:15.803Z"
   },
   {
    "duration": 23,
    "start_time": "2022-03-05T13:53:15.818Z"
   },
   {
    "duration": 55,
    "start_time": "2022-03-05T13:53:15.844Z"
   },
   {
    "duration": 17,
    "start_time": "2022-03-05T13:53:15.901Z"
   },
   {
    "duration": 33,
    "start_time": "2022-03-05T13:53:15.921Z"
   },
   {
    "duration": 19,
    "start_time": "2022-03-05T13:53:15.957Z"
   },
   {
    "duration": 9,
    "start_time": "2022-03-05T13:53:15.988Z"
   },
   {
    "duration": 10,
    "start_time": "2022-03-05T13:53:16.000Z"
   },
   {
    "duration": 8,
    "start_time": "2022-03-05T13:53:16.012Z"
   },
   {
    "duration": 9,
    "start_time": "2022-03-05T13:53:16.022Z"
   },
   {
    "duration": 8,
    "start_time": "2022-03-05T13:53:16.033Z"
   },
   {
    "duration": 50,
    "start_time": "2022-03-05T13:53:16.043Z"
   },
   {
    "duration": 21,
    "start_time": "2022-03-05T13:53:16.096Z"
   },
   {
    "duration": 20,
    "start_time": "2022-03-05T13:53:16.120Z"
   },
   {
    "duration": 11,
    "start_time": "2022-03-05T13:53:16.143Z"
   },
   {
    "duration": 35,
    "start_time": "2022-03-05T13:53:16.156Z"
   },
   {
    "duration": 12,
    "start_time": "2022-03-05T13:53:16.194Z"
   },
   {
    "duration": 8,
    "start_time": "2022-03-05T13:53:16.208Z"
   },
   {
    "duration": 14,
    "start_time": "2022-03-05T13:53:16.219Z"
   },
   {
    "duration": 58,
    "start_time": "2022-03-05T13:53:16.236Z"
   },
   {
    "duration": 13,
    "start_time": "2022-03-05T13:53:16.296Z"
   },
   {
    "duration": 4,
    "start_time": "2022-03-05T13:53:16.312Z"
   },
   {
    "duration": 19,
    "start_time": "2022-03-05T13:53:16.319Z"
   },
   {
    "duration": 5,
    "start_time": "2022-03-05T13:53:16.340Z"
   },
   {
    "duration": 7,
    "start_time": "2022-03-05T13:53:16.347Z"
   },
   {
    "duration": 12,
    "start_time": "2022-03-05T13:53:16.389Z"
   },
   {
    "duration": 20,
    "start_time": "2022-03-05T13:53:16.403Z"
   },
   {
    "duration": 18,
    "start_time": "2022-03-05T13:53:16.425Z"
   },
   {
    "duration": 53,
    "start_time": "2022-03-05T13:53:16.445Z"
   },
   {
    "duration": 393,
    "start_time": "2022-03-05T13:53:16.501Z"
   },
   {
    "duration": 102,
    "start_time": "2022-03-05T13:53:16.896Z"
   },
   {
    "duration": 6,
    "start_time": "2022-03-05T13:53:17.087Z"
   },
   {
    "duration": 24,
    "start_time": "2022-03-05T13:53:17.095Z"
   },
   {
    "duration": 1073,
    "start_time": "2022-03-05T13:53:17.121Z"
   },
   {
    "duration": 97,
    "start_time": "2022-03-05T13:53:18.197Z"
   },
   {
    "duration": 98,
    "start_time": "2022-03-05T13:53:18.297Z"
   },
   {
    "duration": 50,
    "start_time": "2022-03-05T13:53:18.397Z"
   },
   {
    "duration": 7,
    "start_time": "2022-03-05T13:53:18.449Z"
   },
   {
    "duration": 6,
    "start_time": "2022-03-05T13:53:18.487Z"
   },
   {
    "duration": 5,
    "start_time": "2022-03-05T13:53:18.497Z"
   },
   {
    "duration": 5,
    "start_time": "2022-03-05T13:53:18.505Z"
   },
   {
    "duration": 9,
    "start_time": "2022-03-05T13:53:18.513Z"
   },
   {
    "duration": 6129,
    "start_time": "2022-03-05T13:53:18.525Z"
   },
   {
    "duration": 9,
    "start_time": "2022-03-05T13:53:24.656Z"
   },
   {
    "duration": 22,
    "start_time": "2022-03-05T13:53:24.667Z"
   },
   {
    "duration": 36,
    "start_time": "2022-03-05T13:53:24.691Z"
   },
   {
    "duration": 3,
    "start_time": "2022-03-05T13:53:24.729Z"
   },
   {
    "duration": 11,
    "start_time": "2022-03-05T13:53:24.734Z"
   },
   {
    "duration": 10,
    "start_time": "2022-03-05T13:53:24.748Z"
   },
   {
    "duration": 29,
    "start_time": "2022-03-05T13:53:24.762Z"
   },
   {
    "duration": 8716,
    "start_time": "2022-03-05T13:53:24.793Z"
   },
   {
    "duration": 14,
    "start_time": "2022-03-05T13:53:33.511Z"
   },
   {
    "duration": 3,
    "start_time": "2022-03-05T13:53:33.527Z"
   },
   {
    "duration": 154,
    "start_time": "2022-03-05T13:53:33.533Z"
   },
   {
    "duration": 23,
    "start_time": "2022-03-05T13:53:33.690Z"
   },
   {
    "duration": 13,
    "start_time": "2022-03-05T13:53:33.715Z"
   },
   {
    "duration": 7,
    "start_time": "2022-03-05T13:53:33.731Z"
   },
   {
    "duration": 12,
    "start_time": "2022-03-05T13:53:33.740Z"
   },
   {
    "duration": 6077,
    "start_time": "2022-03-05T13:53:33.755Z"
   },
   {
    "duration": 8,
    "start_time": "2022-03-05T13:53:39.834Z"
   },
   {
    "duration": 4453,
    "start_time": "2022-03-05T13:54:21.060Z"
   },
   {
    "duration": 34,
    "start_time": "2022-03-05T13:54:25.516Z"
   },
   {
    "duration": 41,
    "start_time": "2022-03-05T13:54:25.553Z"
   },
   {
    "duration": 12,
    "start_time": "2022-03-05T13:54:25.597Z"
   },
   {
    "duration": 15,
    "start_time": "2022-03-05T13:54:25.611Z"
   },
   {
    "duration": 6,
    "start_time": "2022-03-05T13:54:25.628Z"
   },
   {
    "duration": 8,
    "start_time": "2022-03-05T13:54:25.637Z"
   },
   {
    "duration": 6,
    "start_time": "2022-03-05T13:54:25.689Z"
   },
   {
    "duration": 6,
    "start_time": "2022-03-05T13:54:25.698Z"
   },
   {
    "duration": 9,
    "start_time": "2022-03-05T13:54:25.706Z"
   },
   {
    "duration": 145,
    "start_time": "2022-03-05T13:54:25.717Z"
   },
   {
    "duration": 149,
    "start_time": "2022-03-05T13:54:25.865Z"
   },
   {
    "duration": 10,
    "start_time": "2022-03-05T13:54:26.016Z"
   },
   {
    "duration": 229,
    "start_time": "2022-03-05T13:54:26.028Z"
   },
   {
    "duration": 240,
    "start_time": "2022-03-05T13:54:26.259Z"
   },
   {
    "duration": 8,
    "start_time": "2022-03-05T13:54:26.501Z"
   },
   {
    "duration": 33,
    "start_time": "2022-03-05T13:54:26.512Z"
   },
   {
    "duration": 234,
    "start_time": "2022-03-05T13:54:26.547Z"
   },
   {
    "duration": 5,
    "start_time": "2022-03-05T13:54:26.783Z"
   },
   {
    "duration": 18,
    "start_time": "2022-03-05T13:54:26.791Z"
   },
   {
    "duration": 7,
    "start_time": "2022-03-05T13:54:26.811Z"
   },
   {
    "duration": 65,
    "start_time": "2022-03-05T13:54:26.821Z"
   },
   {
    "duration": 10,
    "start_time": "2022-03-05T13:54:26.892Z"
   },
   {
    "duration": 15,
    "start_time": "2022-03-05T13:54:26.905Z"
   },
   {
    "duration": 8,
    "start_time": "2022-03-05T13:54:26.923Z"
   },
   {
    "duration": 187,
    "start_time": "2022-03-05T13:54:26.933Z"
   },
   {
    "duration": 7,
    "start_time": "2022-03-05T13:54:27.123Z"
   },
   {
    "duration": 289,
    "start_time": "2022-03-05T13:54:27.132Z"
   },
   {
    "duration": 8,
    "start_time": "2022-03-05T13:54:27.423Z"
   },
   {
    "duration": 11,
    "start_time": "2022-03-05T13:54:27.433Z"
   },
   {
    "duration": 7,
    "start_time": "2022-03-05T13:54:27.446Z"
   },
   {
    "duration": 10,
    "start_time": "2022-03-05T13:54:27.455Z"
   },
   {
    "duration": 8,
    "start_time": "2022-03-05T13:54:27.468Z"
   },
   {
    "duration": 3,
    "start_time": "2022-03-05T13:54:27.486Z"
   },
   {
    "duration": 5,
    "start_time": "2022-03-05T13:54:27.491Z"
   },
   {
    "duration": 11,
    "start_time": "2022-03-05T13:54:27.499Z"
   },
   {
    "duration": 19,
    "start_time": "2022-03-05T13:54:27.512Z"
   },
   {
    "duration": 30,
    "start_time": "2022-03-05T13:54:27.533Z"
   },
   {
    "duration": 16,
    "start_time": "2022-03-05T13:54:27.565Z"
   },
   {
    "duration": 15,
    "start_time": "2022-03-05T13:54:27.583Z"
   },
   {
    "duration": 10,
    "start_time": "2022-03-05T13:54:27.600Z"
   },
   {
    "duration": 7,
    "start_time": "2022-03-05T13:54:27.613Z"
   },
   {
    "duration": 7,
    "start_time": "2022-03-05T13:54:27.623Z"
   },
   {
    "duration": 11,
    "start_time": "2022-03-05T13:54:27.633Z"
   },
   {
    "duration": 9,
    "start_time": "2022-03-05T13:54:27.646Z"
   },
   {
    "duration": 9,
    "start_time": "2022-03-05T13:54:27.658Z"
   },
   {
    "duration": 12,
    "start_time": "2022-03-05T13:54:27.670Z"
   },
   {
    "duration": 26,
    "start_time": "2022-03-05T13:54:27.685Z"
   },
   {
    "duration": 20,
    "start_time": "2022-03-05T13:54:27.713Z"
   },
   {
    "duration": 12,
    "start_time": "2022-03-05T13:54:27.736Z"
   },
   {
    "duration": 21,
    "start_time": "2022-03-05T13:54:27.750Z"
   },
   {
    "duration": 15,
    "start_time": "2022-03-05T13:54:27.773Z"
   },
   {
    "duration": 17,
    "start_time": "2022-03-05T13:54:27.791Z"
   },
   {
    "duration": 17,
    "start_time": "2022-03-05T13:54:27.810Z"
   },
   {
    "duration": 23,
    "start_time": "2022-03-05T13:54:27.829Z"
   },
   {
    "duration": 10,
    "start_time": "2022-03-05T13:54:27.854Z"
   },
   {
    "duration": 35,
    "start_time": "2022-03-05T13:54:27.867Z"
   },
   {
    "duration": 39,
    "start_time": "2022-03-05T13:54:27.904Z"
   },
   {
    "duration": 17,
    "start_time": "2022-03-05T13:54:27.947Z"
   },
   {
    "duration": 20,
    "start_time": "2022-03-05T13:54:27.966Z"
   },
   {
    "duration": 17,
    "start_time": "2022-03-05T13:54:27.989Z"
   },
   {
    "duration": 21,
    "start_time": "2022-03-05T13:54:28.008Z"
   },
   {
    "duration": 28,
    "start_time": "2022-03-05T13:54:28.563Z"
   },
   {
    "duration": 22,
    "start_time": "2022-03-05T13:54:28.594Z"
   },
   {
    "duration": 672,
    "start_time": "2022-03-05T13:54:28.619Z"
   },
   {
    "duration": 197,
    "start_time": "2022-03-05T13:54:29.295Z"
   },
   {
    "duration": 6,
    "start_time": "2022-03-05T13:54:29.494Z"
   },
   {
    "duration": 28,
    "start_time": "2022-03-05T13:54:29.502Z"
   },
   {
    "duration": 1563,
    "start_time": "2022-03-05T13:54:29.532Z"
   },
   {
    "duration": 100,
    "start_time": "2022-03-05T13:54:31.191Z"
   },
   {
    "duration": 11,
    "start_time": "2022-03-05T13:54:31.294Z"
   },
   {
    "duration": 46,
    "start_time": "2022-03-05T13:54:31.307Z"
   },
   {
    "duration": 36,
    "start_time": "2022-03-05T13:54:31.355Z"
   },
   {
    "duration": 8,
    "start_time": "2022-03-05T13:54:31.393Z"
   },
   {
    "duration": 6,
    "start_time": "2022-03-05T13:54:31.404Z"
   },
   {
    "duration": 8,
    "start_time": "2022-03-05T13:54:31.412Z"
   },
   {
    "duration": 10,
    "start_time": "2022-03-05T13:54:31.423Z"
   },
   {
    "duration": 5984,
    "start_time": "2022-03-05T13:54:31.435Z"
   },
   {
    "duration": 9,
    "start_time": "2022-03-05T13:54:37.422Z"
   },
   {
    "duration": 23,
    "start_time": "2022-03-05T13:54:37.433Z"
   },
   {
    "duration": 49,
    "start_time": "2022-03-05T13:54:37.459Z"
   },
   {
    "duration": 4,
    "start_time": "2022-03-05T13:54:37.510Z"
   },
   {
    "duration": 16,
    "start_time": "2022-03-05T13:54:37.516Z"
   },
   {
    "duration": 5,
    "start_time": "2022-03-05T13:54:37.535Z"
   },
   {
    "duration": 41,
    "start_time": "2022-03-05T13:54:37.545Z"
   },
   {
    "duration": 9739,
    "start_time": "2022-03-05T13:54:37.589Z"
   },
   {
    "duration": 12,
    "start_time": "2022-03-05T13:54:47.330Z"
   },
   {
    "duration": 5,
    "start_time": "2022-03-05T13:54:47.344Z"
   },
   {
    "duration": 121,
    "start_time": "2022-03-05T13:54:47.351Z"
   },
   {
    "duration": 27,
    "start_time": "2022-03-05T13:54:47.475Z"
   },
   {
    "duration": 8,
    "start_time": "2022-03-05T13:54:47.504Z"
   },
   {
    "duration": 7,
    "start_time": "2022-03-05T13:54:47.514Z"
   },
   {
    "duration": 14,
    "start_time": "2022-03-05T13:54:47.524Z"
   },
   {
    "duration": 6789,
    "start_time": "2022-03-05T13:54:47.540Z"
   },
   {
    "duration": 10,
    "start_time": "2022-03-05T13:54:54.332Z"
   },
   {
    "duration": 4703,
    "start_time": "2022-03-05T14:22:30.939Z"
   },
   {
    "duration": 40,
    "start_time": "2022-03-05T14:22:35.648Z"
   },
   {
    "duration": 28,
    "start_time": "2022-03-05T14:22:35.691Z"
   },
   {
    "duration": 12,
    "start_time": "2022-03-05T14:22:35.721Z"
   },
   {
    "duration": 54,
    "start_time": "2022-03-05T14:22:35.736Z"
   },
   {
    "duration": 8,
    "start_time": "2022-03-05T14:22:35.793Z"
   },
   {
    "duration": 10,
    "start_time": "2022-03-05T14:22:35.807Z"
   },
   {
    "duration": 6,
    "start_time": "2022-03-05T14:22:35.820Z"
   },
   {
    "duration": 8,
    "start_time": "2022-03-05T14:22:35.828Z"
   },
   {
    "duration": 57,
    "start_time": "2022-03-05T14:22:35.839Z"
   },
   {
    "duration": 149,
    "start_time": "2022-03-05T14:22:35.898Z"
   },
   {
    "duration": 164,
    "start_time": "2022-03-05T14:22:36.050Z"
   },
   {
    "duration": 11,
    "start_time": "2022-03-05T14:22:36.216Z"
   },
   {
    "duration": 229,
    "start_time": "2022-03-05T14:22:36.229Z"
   },
   {
    "duration": 252,
    "start_time": "2022-03-05T14:22:36.460Z"
   },
   {
    "duration": 9,
    "start_time": "2022-03-05T14:22:36.714Z"
   },
   {
    "duration": 38,
    "start_time": "2022-03-05T14:22:36.725Z"
   },
   {
    "duration": 253,
    "start_time": "2022-03-05T14:22:36.765Z"
   },
   {
    "duration": 8,
    "start_time": "2022-03-05T14:22:37.021Z"
   },
   {
    "duration": 17,
    "start_time": "2022-03-05T14:22:37.032Z"
   },
   {
    "duration": 36,
    "start_time": "2022-03-05T14:22:37.051Z"
   },
   {
    "duration": 32,
    "start_time": "2022-03-05T14:22:37.095Z"
   },
   {
    "duration": 11,
    "start_time": "2022-03-05T14:22:37.132Z"
   },
   {
    "duration": 44,
    "start_time": "2022-03-05T14:22:37.146Z"
   },
   {
    "duration": 9,
    "start_time": "2022-03-05T14:22:37.194Z"
   },
   {
    "duration": 196,
    "start_time": "2022-03-05T14:22:37.205Z"
   },
   {
    "duration": 8,
    "start_time": "2022-03-05T14:22:37.404Z"
   },
   {
    "duration": 256,
    "start_time": "2022-03-05T14:22:37.414Z"
   },
   {
    "duration": 15,
    "start_time": "2022-03-05T14:22:37.672Z"
   },
   {
    "duration": 8,
    "start_time": "2022-03-05T14:22:37.689Z"
   },
   {
    "duration": 7,
    "start_time": "2022-03-05T14:22:37.700Z"
   },
   {
    "duration": 9,
    "start_time": "2022-03-05T14:22:37.709Z"
   },
   {
    "duration": 9,
    "start_time": "2022-03-05T14:22:37.721Z"
   },
   {
    "duration": 3,
    "start_time": "2022-03-05T14:22:37.732Z"
   },
   {
    "duration": 7,
    "start_time": "2022-03-05T14:22:37.737Z"
   },
   {
    "duration": 9,
    "start_time": "2022-03-05T14:22:37.788Z"
   },
   {
    "duration": 19,
    "start_time": "2022-03-05T14:22:37.799Z"
   },
   {
    "duration": 23,
    "start_time": "2022-03-05T14:22:37.821Z"
   },
   {
    "duration": 42,
    "start_time": "2022-03-05T14:22:37.847Z"
   },
   {
    "duration": 12,
    "start_time": "2022-03-05T14:22:37.891Z"
   },
   {
    "duration": 9,
    "start_time": "2022-03-05T14:22:37.905Z"
   },
   {
    "duration": 8,
    "start_time": "2022-03-05T14:22:37.916Z"
   },
   {
    "duration": 11,
    "start_time": "2022-03-05T14:22:37.926Z"
   },
   {
    "duration": 51,
    "start_time": "2022-03-05T14:22:37.939Z"
   },
   {
    "duration": 7,
    "start_time": "2022-03-05T14:22:37.992Z"
   },
   {
    "duration": 12,
    "start_time": "2022-03-05T14:22:38.001Z"
   },
   {
    "duration": 10,
    "start_time": "2022-03-05T14:22:38.016Z"
   },
   {
    "duration": 24,
    "start_time": "2022-03-05T14:22:38.028Z"
   },
   {
    "duration": 44,
    "start_time": "2022-03-05T14:22:38.055Z"
   },
   {
    "duration": 14,
    "start_time": "2022-03-05T14:22:38.101Z"
   },
   {
    "duration": 15,
    "start_time": "2022-03-05T14:22:38.117Z"
   },
   {
    "duration": 17,
    "start_time": "2022-03-05T14:22:38.134Z"
   },
   {
    "duration": 39,
    "start_time": "2022-03-05T14:22:38.153Z"
   },
   {
    "duration": 12,
    "start_time": "2022-03-05T14:22:38.195Z"
   },
   {
    "duration": 22,
    "start_time": "2022-03-05T14:22:38.209Z"
   },
   {
    "duration": 15,
    "start_time": "2022-03-05T14:22:38.233Z"
   },
   {
    "duration": 5,
    "start_time": "2022-03-05T14:22:38.250Z"
   },
   {
    "duration": 13,
    "start_time": "2022-03-05T14:22:38.288Z"
   },
   {
    "duration": 5,
    "start_time": "2022-03-05T14:22:38.303Z"
   },
   {
    "duration": 8,
    "start_time": "2022-03-05T14:22:38.311Z"
   },
   {
    "duration": 15,
    "start_time": "2022-03-05T14:22:38.321Z"
   },
   {
    "duration": 54,
    "start_time": "2022-03-05T14:22:38.339Z"
   },
   {
    "duration": 21,
    "start_time": "2022-03-05T14:22:38.395Z"
   },
   {
    "duration": 27,
    "start_time": "2022-03-05T14:22:38.418Z"
   },
   {
    "duration": 450,
    "start_time": "2022-03-05T14:22:38.447Z"
   },
   {
    "duration": 100,
    "start_time": "2022-03-05T14:22:38.998Z"
   },
   {
    "duration": 5,
    "start_time": "2022-03-05T14:22:39.101Z"
   },
   {
    "duration": 23,
    "start_time": "2022-03-05T14:22:39.108Z"
   },
   {
    "duration": 962,
    "start_time": "2022-03-05T14:22:39.134Z"
   },
   {
    "duration": 100,
    "start_time": "2022-03-05T14:22:40.189Z"
   },
   {
    "duration": 14,
    "start_time": "2022-03-05T14:22:40.292Z"
   },
   {
    "duration": 83,
    "start_time": "2022-03-05T14:22:40.309Z"
   },
   {
    "duration": 9,
    "start_time": "2022-03-05T14:22:40.395Z"
   },
   {
    "duration": 7,
    "start_time": "2022-03-05T14:22:40.407Z"
   },
   {
    "duration": 6,
    "start_time": "2022-03-05T14:22:40.417Z"
   },
   {
    "duration": 8,
    "start_time": "2022-03-05T14:22:40.426Z"
   },
   {
    "duration": 56,
    "start_time": "2022-03-05T14:22:40.436Z"
   },
   {
    "duration": 5918,
    "start_time": "2022-03-05T14:22:40.494Z"
   },
   {
    "duration": 13,
    "start_time": "2022-03-05T14:22:46.415Z"
   },
   {
    "duration": 20,
    "start_time": "2022-03-05T14:22:46.430Z"
   },
   {
    "duration": 30,
    "start_time": "2022-03-05T14:22:46.487Z"
   },
   {
    "duration": 3,
    "start_time": "2022-03-05T14:22:46.520Z"
   },
   {
    "duration": 12,
    "start_time": "2022-03-05T14:22:46.525Z"
   },
   {
    "duration": 5,
    "start_time": "2022-03-05T14:22:46.539Z"
   },
   {
    "duration": 46,
    "start_time": "2022-03-05T14:22:46.546Z"
   },
   {
    "duration": 9264,
    "start_time": "2022-03-05T14:22:46.597Z"
   },
   {
    "duration": 12,
    "start_time": "2022-03-05T14:22:55.863Z"
   },
   {
    "duration": 3,
    "start_time": "2022-03-05T14:22:55.877Z"
   },
   {
    "duration": 113,
    "start_time": "2022-03-05T14:22:55.883Z"
   },
   {
    "duration": 21,
    "start_time": "2022-03-05T14:22:55.999Z"
   },
   {
    "duration": 9,
    "start_time": "2022-03-05T14:22:56.022Z"
   },
   {
    "duration": 10,
    "start_time": "2022-03-05T14:22:56.033Z"
   },
   {
    "duration": 12,
    "start_time": "2022-03-05T14:22:56.046Z"
   },
   {
    "duration": 6218,
    "start_time": "2022-03-05T14:22:56.061Z"
   },
   {
    "duration": 9,
    "start_time": "2022-03-05T14:23:02.281Z"
   },
   {
    "duration": 6,
    "start_time": "2022-03-05T14:23:02.293Z"
   },
   {
    "duration": 425,
    "start_time": "2022-03-05T14:23:02.302Z"
   },
   {
    "duration": -134,
    "start_time": "2022-03-05T14:23:02.865Z"
   },
   {
    "duration": 5,
    "start_time": "2022-03-05T14:23:53.239Z"
   },
   {
    "duration": 242,
    "start_time": "2022-03-05T14:23:53.670Z"
   },
   {
    "duration": 277,
    "start_time": "2022-03-05T14:27:17.500Z"
   },
   {
    "duration": 304,
    "start_time": "2022-03-05T14:41:38.443Z"
   },
   {
    "duration": -49,
    "start_time": "2022-03-05T14:41:38.798Z"
   },
   {
    "duration": 95,
    "start_time": "2022-03-05T14:41:39.199Z"
   },
   {
    "duration": 112,
    "start_time": "2022-03-05T14:49:02.637Z"
   },
   {
    "duration": 122,
    "start_time": "2022-03-05T14:50:43.171Z"
   },
   {
    "duration": 4591,
    "start_time": "2022-03-05T15:06:49.561Z"
   },
   {
    "duration": 40,
    "start_time": "2022-03-05T15:06:54.154Z"
   },
   {
    "duration": 27,
    "start_time": "2022-03-05T15:06:54.196Z"
   },
   {
    "duration": 14,
    "start_time": "2022-03-05T15:06:54.225Z"
   },
   {
    "duration": 45,
    "start_time": "2022-03-05T15:06:54.242Z"
   },
   {
    "duration": 6,
    "start_time": "2022-03-05T15:06:54.289Z"
   },
   {
    "duration": 10,
    "start_time": "2022-03-05T15:06:54.297Z"
   },
   {
    "duration": 5,
    "start_time": "2022-03-05T15:06:54.311Z"
   },
   {
    "duration": 8,
    "start_time": "2022-03-05T15:06:54.319Z"
   },
   {
    "duration": 10,
    "start_time": "2022-03-05T15:06:54.329Z"
   },
   {
    "duration": 162,
    "start_time": "2022-03-05T15:06:54.342Z"
   },
   {
    "duration": 143,
    "start_time": "2022-03-05T15:06:54.506Z"
   },
   {
    "duration": 9,
    "start_time": "2022-03-05T15:06:54.652Z"
   },
   {
    "duration": 219,
    "start_time": "2022-03-05T15:06:54.663Z"
   },
   {
    "duration": 229,
    "start_time": "2022-03-05T15:06:54.887Z"
   },
   {
    "duration": 9,
    "start_time": "2022-03-05T15:06:55.118Z"
   },
   {
    "duration": 30,
    "start_time": "2022-03-05T15:06:55.130Z"
   },
   {
    "duration": 233,
    "start_time": "2022-03-05T15:06:55.162Z"
   },
   {
    "duration": 6,
    "start_time": "2022-03-05T15:06:55.397Z"
   },
   {
    "duration": 17,
    "start_time": "2022-03-05T15:06:55.405Z"
   },
   {
    "duration": 10,
    "start_time": "2022-03-05T15:06:55.425Z"
   },
   {
    "duration": 60,
    "start_time": "2022-03-05T15:06:55.438Z"
   },
   {
    "duration": 9,
    "start_time": "2022-03-05T15:06:55.503Z"
   },
   {
    "duration": 15,
    "start_time": "2022-03-05T15:06:55.515Z"
   },
   {
    "duration": 8,
    "start_time": "2022-03-05T15:06:55.532Z"
   },
   {
    "duration": 191,
    "start_time": "2022-03-05T15:06:55.542Z"
   },
   {
    "duration": 8,
    "start_time": "2022-03-05T15:06:55.736Z"
   },
   {
    "duration": 243,
    "start_time": "2022-03-05T15:06:55.746Z"
   },
   {
    "duration": 8,
    "start_time": "2022-03-05T15:06:55.991Z"
   },
   {
    "duration": 8,
    "start_time": "2022-03-05T15:06:56.002Z"
   },
   {
    "duration": 7,
    "start_time": "2022-03-05T15:06:56.013Z"
   },
   {
    "duration": 9,
    "start_time": "2022-03-05T15:06:56.023Z"
   },
   {
    "duration": 8,
    "start_time": "2022-03-05T15:06:56.034Z"
   },
   {
    "duration": 43,
    "start_time": "2022-03-05T15:06:56.044Z"
   },
   {
    "duration": 2,
    "start_time": "2022-03-05T15:06:56.090Z"
   },
   {
    "duration": 14,
    "start_time": "2022-03-05T15:06:56.094Z"
   },
   {
    "duration": 19,
    "start_time": "2022-03-05T15:06:56.110Z"
   },
   {
    "duration": 26,
    "start_time": "2022-03-05T15:06:56.131Z"
   },
   {
    "duration": 40,
    "start_time": "2022-03-05T15:06:56.159Z"
   },
   {
    "duration": 10,
    "start_time": "2022-03-05T15:06:56.201Z"
   },
   {
    "duration": 10,
    "start_time": "2022-03-05T15:06:56.213Z"
   },
   {
    "duration": 13,
    "start_time": "2022-03-05T15:06:56.226Z"
   },
   {
    "duration": 46,
    "start_time": "2022-03-05T15:06:56.241Z"
   },
   {
    "duration": 9,
    "start_time": "2022-03-05T15:06:56.289Z"
   },
   {
    "duration": 10,
    "start_time": "2022-03-05T15:06:56.301Z"
   },
   {
    "duration": 8,
    "start_time": "2022-03-05T15:06:56.313Z"
   },
   {
    "duration": 15,
    "start_time": "2022-03-05T15:06:56.323Z"
   },
   {
    "duration": 55,
    "start_time": "2022-03-05T15:06:56.340Z"
   },
   {
    "duration": 19,
    "start_time": "2022-03-05T15:06:56.397Z"
   },
   {
    "duration": 15,
    "start_time": "2022-03-05T15:06:56.418Z"
   },
   {
    "duration": 46,
    "start_time": "2022-03-05T15:06:56.436Z"
   },
   {
    "duration": 12,
    "start_time": "2022-03-05T15:06:56.484Z"
   },
   {
    "duration": 9,
    "start_time": "2022-03-05T15:06:56.498Z"
   },
   {
    "duration": 27,
    "start_time": "2022-03-05T15:06:56.510Z"
   },
   {
    "duration": 20,
    "start_time": "2022-03-05T15:06:56.539Z"
   },
   {
    "duration": 27,
    "start_time": "2022-03-05T15:06:56.562Z"
   },
   {
    "duration": 5,
    "start_time": "2022-03-05T15:06:56.594Z"
   },
   {
    "duration": 15,
    "start_time": "2022-03-05T15:06:56.601Z"
   },
   {
    "duration": 7,
    "start_time": "2022-03-05T15:06:56.618Z"
   },
   {
    "duration": 6,
    "start_time": "2022-03-05T15:06:56.627Z"
   },
   {
    "duration": 12,
    "start_time": "2022-03-05T15:06:56.635Z"
   },
   {
    "duration": 18,
    "start_time": "2022-03-05T15:06:56.687Z"
   },
   {
    "duration": 18,
    "start_time": "2022-03-05T15:06:56.707Z"
   },
   {
    "duration": 20,
    "start_time": "2022-03-05T15:06:56.728Z"
   },
   {
    "duration": 541,
    "start_time": "2022-03-05T15:06:56.751Z"
   },
   {
    "duration": 99,
    "start_time": "2022-03-05T15:06:57.297Z"
   },
   {
    "duration": 6,
    "start_time": "2022-03-05T15:06:57.399Z"
   },
   {
    "duration": 23,
    "start_time": "2022-03-05T15:06:57.407Z"
   },
   {
    "duration": 1059,
    "start_time": "2022-03-05T15:06:57.433Z"
   },
   {
    "duration": 11,
    "start_time": "2022-03-05T15:06:58.586Z"
   },
   {
    "duration": 105,
    "start_time": "2022-03-05T15:06:58.601Z"
   },
   {
    "duration": 51,
    "start_time": "2022-03-05T15:06:58.708Z"
   },
   {
    "duration": 7,
    "start_time": "2022-03-05T15:06:58.761Z"
   },
   {
    "duration": 19,
    "start_time": "2022-03-05T15:06:58.770Z"
   },
   {
    "duration": 6,
    "start_time": "2022-03-05T15:06:58.792Z"
   },
   {
    "duration": 7,
    "start_time": "2022-03-05T15:06:58.801Z"
   },
   {
    "duration": 18,
    "start_time": "2022-03-05T15:06:58.811Z"
   },
   {
    "duration": 6616,
    "start_time": "2022-03-05T15:06:58.831Z"
   },
   {
    "duration": 438,
    "start_time": "2022-03-05T15:07:05.450Z"
   },
   {
    "duration": -128,
    "start_time": "2022-03-05T15:07:06.019Z"
   },
   {
    "duration": -130,
    "start_time": "2022-03-05T15:07:06.022Z"
   },
   {
    "duration": -132,
    "start_time": "2022-03-05T15:07:06.026Z"
   },
   {
    "duration": -157,
    "start_time": "2022-03-05T15:07:06.053Z"
   },
   {
    "duration": -167,
    "start_time": "2022-03-05T15:07:06.064Z"
   },
   {
    "duration": -169,
    "start_time": "2022-03-05T15:07:06.067Z"
   },
   {
    "duration": -172,
    "start_time": "2022-03-05T15:07:06.071Z"
   },
   {
    "duration": -174,
    "start_time": "2022-03-05T15:07:06.074Z"
   },
   {
    "duration": -176,
    "start_time": "2022-03-05T15:07:06.078Z"
   },
   {
    "duration": -178,
    "start_time": "2022-03-05T15:07:06.081Z"
   },
   {
    "duration": -180,
    "start_time": "2022-03-05T15:07:06.084Z"
   },
   {
    "duration": -181,
    "start_time": "2022-03-05T15:07:06.086Z"
   },
   {
    "duration": -183,
    "start_time": "2022-03-05T15:07:06.089Z"
   },
   {
    "duration": -185,
    "start_time": "2022-03-05T15:07:06.092Z"
   },
   {
    "duration": -187,
    "start_time": "2022-03-05T15:07:06.095Z"
   },
   {
    "duration": -188,
    "start_time": "2022-03-05T15:07:06.097Z"
   },
   {
    "duration": -190,
    "start_time": "2022-03-05T15:07:06.100Z"
   },
   {
    "duration": -190,
    "start_time": "2022-03-05T15:07:06.102Z"
   },
   {
    "duration": 4689,
    "start_time": "2022-03-05T15:07:34.960Z"
   },
   {
    "duration": 35,
    "start_time": "2022-03-05T15:07:39.652Z"
   },
   {
    "duration": 26,
    "start_time": "2022-03-05T15:07:39.689Z"
   },
   {
    "duration": 11,
    "start_time": "2022-03-05T15:07:39.718Z"
   },
   {
    "duration": 15,
    "start_time": "2022-03-05T15:07:39.731Z"
   },
   {
    "duration": 40,
    "start_time": "2022-03-05T15:07:39.749Z"
   },
   {
    "duration": 8,
    "start_time": "2022-03-05T15:07:39.793Z"
   },
   {
    "duration": 7,
    "start_time": "2022-03-05T15:07:39.804Z"
   },
   {
    "duration": 7,
    "start_time": "2022-03-05T15:07:39.813Z"
   },
   {
    "duration": 9,
    "start_time": "2022-03-05T15:07:39.822Z"
   },
   {
    "duration": 179,
    "start_time": "2022-03-05T15:07:39.833Z"
   },
   {
    "duration": 159,
    "start_time": "2022-03-05T15:07:40.015Z"
   },
   {
    "duration": 17,
    "start_time": "2022-03-05T15:07:40.177Z"
   },
   {
    "duration": 242,
    "start_time": "2022-03-05T15:07:40.197Z"
   },
   {
    "duration": 251,
    "start_time": "2022-03-05T15:07:40.442Z"
   },
   {
    "duration": 10,
    "start_time": "2022-03-05T15:07:40.695Z"
   },
   {
    "duration": 38,
    "start_time": "2022-03-05T15:07:40.708Z"
   },
   {
    "duration": 255,
    "start_time": "2022-03-05T15:07:40.749Z"
   },
   {
    "duration": 7,
    "start_time": "2022-03-05T15:07:41.006Z"
   },
   {
    "duration": 17,
    "start_time": "2022-03-05T15:07:41.016Z"
   },
   {
    "duration": 9,
    "start_time": "2022-03-05T15:07:41.036Z"
   },
   {
    "duration": 33,
    "start_time": "2022-03-05T15:07:41.088Z"
   },
   {
    "duration": 9,
    "start_time": "2022-03-05T15:07:41.124Z"
   },
   {
    "duration": 12,
    "start_time": "2022-03-05T15:07:41.136Z"
   },
   {
    "duration": 43,
    "start_time": "2022-03-05T15:07:41.151Z"
   },
   {
    "duration": 191,
    "start_time": "2022-03-05T15:07:41.196Z"
   },
   {
    "duration": 11,
    "start_time": "2022-03-05T15:07:41.389Z"
   },
   {
    "duration": 259,
    "start_time": "2022-03-05T15:07:41.402Z"
   },
   {
    "duration": 8,
    "start_time": "2022-03-05T15:07:41.664Z"
   },
   {
    "duration": 17,
    "start_time": "2022-03-05T15:07:41.674Z"
   },
   {
    "duration": 10,
    "start_time": "2022-03-05T15:07:41.693Z"
   },
   {
    "duration": 10,
    "start_time": "2022-03-05T15:07:41.705Z"
   },
   {
    "duration": 9,
    "start_time": "2022-03-05T15:07:41.718Z"
   },
   {
    "duration": 3,
    "start_time": "2022-03-05T15:07:41.729Z"
   },
   {
    "duration": 7,
    "start_time": "2022-03-05T15:07:41.734Z"
   },
   {
    "duration": 54,
    "start_time": "2022-03-05T15:07:41.743Z"
   },
   {
    "duration": 19,
    "start_time": "2022-03-05T15:07:41.800Z"
   },
   {
    "duration": 27,
    "start_time": "2022-03-05T15:07:41.821Z"
   },
   {
    "duration": 37,
    "start_time": "2022-03-05T15:07:41.850Z"
   },
   {
    "duration": 9,
    "start_time": "2022-03-05T15:07:41.889Z"
   },
   {
    "duration": 11,
    "start_time": "2022-03-05T15:07:41.900Z"
   },
   {
    "duration": 8,
    "start_time": "2022-03-05T15:07:41.913Z"
   },
   {
    "duration": 6,
    "start_time": "2022-03-05T15:07:41.923Z"
   },
   {
    "duration": 8,
    "start_time": "2022-03-05T15:07:41.931Z"
   },
   {
    "duration": 52,
    "start_time": "2022-03-05T15:07:41.941Z"
   },
   {
    "duration": 10,
    "start_time": "2022-03-05T15:07:41.996Z"
   },
   {
    "duration": 8,
    "start_time": "2022-03-05T15:07:42.008Z"
   },
   {
    "duration": 23,
    "start_time": "2022-03-05T15:07:42.018Z"
   },
   {
    "duration": 49,
    "start_time": "2022-03-05T15:07:42.043Z"
   },
   {
    "duration": 11,
    "start_time": "2022-03-05T15:07:42.095Z"
   },
   {
    "duration": 19,
    "start_time": "2022-03-05T15:07:42.108Z"
   },
   {
    "duration": 12,
    "start_time": "2022-03-05T15:07:42.129Z"
   },
   {
    "duration": 9,
    "start_time": "2022-03-05T15:07:42.143Z"
   },
   {
    "duration": 13,
    "start_time": "2022-03-05T15:07:42.187Z"
   },
   {
    "duration": 21,
    "start_time": "2022-03-05T15:07:42.202Z"
   },
   {
    "duration": 13,
    "start_time": "2022-03-05T15:07:42.226Z"
   },
   {
    "duration": 5,
    "start_time": "2022-03-05T15:07:42.241Z"
   },
   {
    "duration": 46,
    "start_time": "2022-03-05T15:07:42.248Z"
   },
   {
    "duration": 5,
    "start_time": "2022-03-05T15:07:42.296Z"
   },
   {
    "duration": 5,
    "start_time": "2022-03-05T15:07:42.304Z"
   },
   {
    "duration": 13,
    "start_time": "2022-03-05T15:07:42.312Z"
   },
   {
    "duration": 59,
    "start_time": "2022-03-05T15:07:42.328Z"
   },
   {
    "duration": 20,
    "start_time": "2022-03-05T15:07:42.392Z"
   },
   {
    "duration": 21,
    "start_time": "2022-03-05T15:07:42.414Z"
   },
   {
    "duration": 649,
    "start_time": "2022-03-05T15:07:42.438Z"
   },
   {
    "duration": 107,
    "start_time": "2022-03-05T15:07:43.090Z"
   },
   {
    "duration": 5,
    "start_time": "2022-03-05T15:07:43.200Z"
   },
   {
    "duration": 25,
    "start_time": "2022-03-05T15:07:43.207Z"
   },
   {
    "duration": 1252,
    "start_time": "2022-03-05T15:07:43.235Z"
   },
   {
    "duration": 96,
    "start_time": "2022-03-05T15:07:44.491Z"
   },
   {
    "duration": 10,
    "start_time": "2022-03-05T15:07:44.590Z"
   },
   {
    "duration": 55,
    "start_time": "2022-03-05T15:07:44.602Z"
   },
   {
    "duration": 31,
    "start_time": "2022-03-05T15:07:44.659Z"
   },
   {
    "duration": 10,
    "start_time": "2022-03-05T15:07:44.692Z"
   },
   {
    "duration": 13,
    "start_time": "2022-03-05T15:07:44.705Z"
   },
   {
    "duration": 8,
    "start_time": "2022-03-05T15:07:44.721Z"
   },
   {
    "duration": 19,
    "start_time": "2022-03-05T15:07:44.731Z"
   },
   {
    "duration": 5953,
    "start_time": "2022-03-05T15:07:44.754Z"
   },
   {
    "duration": 495,
    "start_time": "2022-03-05T15:07:50.710Z"
   },
   {
    "duration": 6,
    "start_time": "2022-03-05T15:07:51.208Z"
   },
   {
    "duration": 9,
    "start_time": "2022-03-05T15:07:51.216Z"
   },
   {
    "duration": 18,
    "start_time": "2022-03-05T15:07:51.228Z"
   },
   {
    "duration": 30,
    "start_time": "2022-03-05T15:07:51.288Z"
   },
   {
    "duration": 3,
    "start_time": "2022-03-05T15:07:51.320Z"
   },
   {
    "duration": 11,
    "start_time": "2022-03-05T15:07:51.325Z"
   },
   {
    "duration": 5,
    "start_time": "2022-03-05T15:07:51.338Z"
   },
   {
    "duration": 46,
    "start_time": "2022-03-05T15:07:51.345Z"
   },
   {
    "duration": 8815,
    "start_time": "2022-03-05T15:07:51.393Z"
   },
   {
    "duration": 13,
    "start_time": "2022-03-05T15:08:00.210Z"
   },
   {
    "duration": 3,
    "start_time": "2022-03-05T15:08:00.226Z"
   },
   {
    "duration": 144,
    "start_time": "2022-03-05T15:08:00.232Z"
   },
   {
    "duration": 28,
    "start_time": "2022-03-05T15:08:00.379Z"
   },
   {
    "duration": 8,
    "start_time": "2022-03-05T15:08:00.410Z"
   },
   {
    "duration": 9,
    "start_time": "2022-03-05T15:08:00.420Z"
   },
   {
    "duration": 16,
    "start_time": "2022-03-05T15:08:00.431Z"
   },
   {
    "duration": 6358,
    "start_time": "2022-03-05T15:08:00.450Z"
   },
   {
    "duration": 8,
    "start_time": "2022-03-05T15:08:06.811Z"
   },
   {
    "duration": 244,
    "start_time": "2022-03-05T15:28:50.813Z"
   },
   {
    "duration": 4569,
    "start_time": "2022-03-05T15:30:45.958Z"
   },
   {
    "duration": 38,
    "start_time": "2022-03-05T15:30:50.529Z"
   },
   {
    "duration": 26,
    "start_time": "2022-03-05T15:30:50.570Z"
   },
   {
    "duration": 10,
    "start_time": "2022-03-05T15:30:50.599Z"
   },
   {
    "duration": 16,
    "start_time": "2022-03-05T15:30:50.611Z"
   },
   {
    "duration": 6,
    "start_time": "2022-03-05T15:30:50.630Z"
   },
   {
    "duration": 49,
    "start_time": "2022-03-05T15:30:50.638Z"
   },
   {
    "duration": 6,
    "start_time": "2022-03-05T15:30:50.691Z"
   },
   {
    "duration": 9,
    "start_time": "2022-03-05T15:30:50.700Z"
   },
   {
    "duration": 11,
    "start_time": "2022-03-05T15:30:50.712Z"
   },
   {
    "duration": 145,
    "start_time": "2022-03-05T15:30:50.726Z"
   },
   {
    "duration": 147,
    "start_time": "2022-03-05T15:30:50.874Z"
   },
   {
    "duration": 9,
    "start_time": "2022-03-05T15:30:51.024Z"
   },
   {
    "duration": 230,
    "start_time": "2022-03-05T15:30:51.036Z"
   },
   {
    "duration": 242,
    "start_time": "2022-03-05T15:30:51.269Z"
   },
   {
    "duration": 9,
    "start_time": "2022-03-05T15:30:51.513Z"
   },
   {
    "duration": 31,
    "start_time": "2022-03-05T15:30:51.525Z"
   },
   {
    "duration": 241,
    "start_time": "2022-03-05T15:30:51.559Z"
   },
   {
    "duration": 6,
    "start_time": "2022-03-05T15:30:51.803Z"
   },
   {
    "duration": 21,
    "start_time": "2022-03-05T15:30:51.812Z"
   },
   {
    "duration": 8,
    "start_time": "2022-03-05T15:30:51.836Z"
   },
   {
    "duration": 60,
    "start_time": "2022-03-05T15:30:51.846Z"
   },
   {
    "duration": 11,
    "start_time": "2022-03-05T15:30:51.913Z"
   },
   {
    "duration": 11,
    "start_time": "2022-03-05T15:30:51.928Z"
   },
   {
    "duration": 11,
    "start_time": "2022-03-05T15:30:51.941Z"
   },
   {
    "duration": 166,
    "start_time": "2022-03-05T15:30:51.988Z"
   },
   {
    "duration": 8,
    "start_time": "2022-03-05T15:30:52.156Z"
   },
   {
    "duration": 248,
    "start_time": "2022-03-05T15:30:52.166Z"
   },
   {
    "duration": 8,
    "start_time": "2022-03-05T15:30:52.416Z"
   },
   {
    "duration": 9,
    "start_time": "2022-03-05T15:30:52.427Z"
   },
   {
    "duration": 11,
    "start_time": "2022-03-05T15:30:52.438Z"
   },
   {
    "duration": 38,
    "start_time": "2022-03-05T15:30:52.451Z"
   },
   {
    "duration": 10,
    "start_time": "2022-03-05T15:30:52.492Z"
   },
   {
    "duration": 3,
    "start_time": "2022-03-05T15:30:52.505Z"
   },
   {
    "duration": 6,
    "start_time": "2022-03-05T15:30:52.510Z"
   },
   {
    "duration": 12,
    "start_time": "2022-03-05T15:30:52.519Z"
   },
   {
    "duration": 57,
    "start_time": "2022-03-05T15:30:52.533Z"
   },
   {
    "duration": 30,
    "start_time": "2022-03-05T15:30:52.592Z"
   },
   {
    "duration": 18,
    "start_time": "2022-03-05T15:30:52.625Z"
   },
   {
    "duration": 42,
    "start_time": "2022-03-05T15:30:52.645Z"
   },
   {
    "duration": 22,
    "start_time": "2022-03-05T15:30:52.690Z"
   },
   {
    "duration": 8,
    "start_time": "2022-03-05T15:30:52.715Z"
   },
   {
    "duration": 8,
    "start_time": "2022-03-05T15:30:52.726Z"
   },
   {
    "duration": 10,
    "start_time": "2022-03-05T15:30:52.736Z"
   },
   {
    "duration": 12,
    "start_time": "2022-03-05T15:30:52.749Z"
   },
   {
    "duration": 30,
    "start_time": "2022-03-05T15:30:52.763Z"
   },
   {
    "duration": 7,
    "start_time": "2022-03-05T15:30:52.795Z"
   },
   {
    "duration": 21,
    "start_time": "2022-03-05T15:30:52.804Z"
   },
   {
    "duration": 18,
    "start_time": "2022-03-05T15:30:52.828Z"
   },
   {
    "duration": 42,
    "start_time": "2022-03-05T15:30:52.849Z"
   },
   {
    "duration": 17,
    "start_time": "2022-03-05T15:30:52.894Z"
   },
   {
    "duration": 12,
    "start_time": "2022-03-05T15:30:52.913Z"
   },
   {
    "duration": 10,
    "start_time": "2022-03-05T15:30:52.928Z"
   },
   {
    "duration": 13,
    "start_time": "2022-03-05T15:30:52.940Z"
   },
   {
    "duration": 49,
    "start_time": "2022-03-05T15:30:52.956Z"
   },
   {
    "duration": 13,
    "start_time": "2022-03-05T15:30:53.007Z"
   },
   {
    "duration": 5,
    "start_time": "2022-03-05T15:30:53.024Z"
   },
   {
    "duration": 14,
    "start_time": "2022-03-05T15:30:53.032Z"
   },
   {
    "duration": 38,
    "start_time": "2022-03-05T15:30:53.049Z"
   },
   {
    "duration": 6,
    "start_time": "2022-03-05T15:30:53.090Z"
   },
   {
    "duration": 14,
    "start_time": "2022-03-05T15:30:53.098Z"
   },
   {
    "duration": 19,
    "start_time": "2022-03-05T15:30:53.115Z"
   },
   {
    "duration": 20,
    "start_time": "2022-03-05T15:30:53.136Z"
   },
   {
    "duration": 22,
    "start_time": "2022-03-05T15:30:53.187Z"
   },
   {
    "duration": 478,
    "start_time": "2022-03-05T15:30:53.212Z"
   },
   {
    "duration": 104,
    "start_time": "2022-03-05T15:30:53.694Z"
   },
   {
    "duration": 6,
    "start_time": "2022-03-05T15:30:53.801Z"
   },
   {
    "duration": 21,
    "start_time": "2022-03-05T15:30:53.809Z"
   },
   {
    "duration": 1061,
    "start_time": "2022-03-05T15:30:53.834Z"
   },
   {
    "duration": 100,
    "start_time": "2022-03-05T15:30:54.990Z"
   },
   {
    "duration": 20,
    "start_time": "2022-03-05T15:30:55.092Z"
   },
   {
    "duration": 44,
    "start_time": "2022-03-05T15:30:55.114Z"
   },
   {
    "duration": 27,
    "start_time": "2022-03-05T15:30:55.162Z"
   },
   {
    "duration": 8,
    "start_time": "2022-03-05T15:30:55.193Z"
   },
   {
    "duration": 6,
    "start_time": "2022-03-05T15:30:55.204Z"
   },
   {
    "duration": 7,
    "start_time": "2022-03-05T15:30:55.213Z"
   },
   {
    "duration": 13,
    "start_time": "2022-03-05T15:30:55.223Z"
   },
   {
    "duration": 6197,
    "start_time": "2022-03-05T15:30:55.239Z"
   },
   {
    "duration": 252,
    "start_time": "2022-03-05T15:31:01.438Z"
   },
   {
    "duration": 7,
    "start_time": "2022-03-05T15:31:01.692Z"
   },
   {
    "duration": 12,
    "start_time": "2022-03-05T15:31:01.701Z"
   },
   {
    "duration": 23,
    "start_time": "2022-03-05T15:31:01.716Z"
   },
   {
    "duration": 66,
    "start_time": "2022-03-05T15:31:01.741Z"
   },
   {
    "duration": 3,
    "start_time": "2022-03-05T15:31:01.809Z"
   },
   {
    "duration": 30,
    "start_time": "2022-03-05T15:31:01.814Z"
   },
   {
    "duration": 9,
    "start_time": "2022-03-05T15:31:01.847Z"
   },
   {
    "duration": 24,
    "start_time": "2022-03-05T15:31:01.858Z"
   },
   {
    "duration": 9334,
    "start_time": "2022-03-05T15:31:01.884Z"
   },
   {
    "duration": 247,
    "start_time": "2022-03-05T15:31:11.220Z"
   },
   {
    "duration": 7,
    "start_time": "2022-03-05T15:31:11.469Z"
   },
   {
    "duration": 12,
    "start_time": "2022-03-05T15:31:11.487Z"
   },
   {
    "duration": 4,
    "start_time": "2022-03-05T15:31:11.501Z"
   },
   {
    "duration": 132,
    "start_time": "2022-03-05T15:31:11.507Z"
   },
   {
    "duration": 22,
    "start_time": "2022-03-05T15:31:11.641Z"
   },
   {
    "duration": 8,
    "start_time": "2022-03-05T15:31:11.686Z"
   },
   {
    "duration": 6,
    "start_time": "2022-03-05T15:31:11.696Z"
   },
   {
    "duration": 11,
    "start_time": "2022-03-05T15:31:11.704Z"
   },
   {
    "duration": 6354,
    "start_time": "2022-03-05T15:31:11.717Z"
   },
   {
    "duration": 247,
    "start_time": "2022-03-05T15:31:18.074Z"
   },
   {
    "duration": 8,
    "start_time": "2022-03-05T15:31:18.323Z"
   },
   {
    "duration": 11,
    "start_time": "2022-03-05T15:31:18.334Z"
   },
   {
    "duration": 4678,
    "start_time": "2022-03-05T15:38:04.447Z"
   },
   {
    "duration": 33,
    "start_time": "2022-03-05T15:38:09.128Z"
   },
   {
    "duration": 30,
    "start_time": "2022-03-05T15:38:09.164Z"
   },
   {
    "duration": 14,
    "start_time": "2022-03-05T15:38:09.197Z"
   },
   {
    "duration": 16,
    "start_time": "2022-03-05T15:38:09.214Z"
   },
   {
    "duration": 6,
    "start_time": "2022-03-05T15:38:09.233Z"
   },
   {
    "duration": 46,
    "start_time": "2022-03-05T15:38:09.241Z"
   },
   {
    "duration": 7,
    "start_time": "2022-03-05T15:38:09.293Z"
   },
   {
    "duration": 8,
    "start_time": "2022-03-05T15:38:09.303Z"
   },
   {
    "duration": 11,
    "start_time": "2022-03-05T15:38:09.313Z"
   },
   {
    "duration": 151,
    "start_time": "2022-03-05T15:38:09.326Z"
   },
   {
    "duration": 153,
    "start_time": "2022-03-05T15:38:09.479Z"
   },
   {
    "duration": 10,
    "start_time": "2022-03-05T15:38:09.635Z"
   },
   {
    "duration": 226,
    "start_time": "2022-03-05T15:38:09.648Z"
   },
   {
    "duration": 228,
    "start_time": "2022-03-05T15:38:09.876Z"
   },
   {
    "duration": 8,
    "start_time": "2022-03-05T15:38:10.107Z"
   },
   {
    "duration": 35,
    "start_time": "2022-03-05T15:38:10.117Z"
   },
   {
    "duration": 235,
    "start_time": "2022-03-05T15:38:10.154Z"
   },
   {
    "duration": 6,
    "start_time": "2022-03-05T15:38:10.391Z"
   },
   {
    "duration": 15,
    "start_time": "2022-03-05T15:38:10.399Z"
   },
   {
    "duration": 5,
    "start_time": "2022-03-05T15:38:10.416Z"
   },
   {
    "duration": 32,
    "start_time": "2022-03-05T15:38:10.424Z"
   },
   {
    "duration": 10,
    "start_time": "2022-03-05T15:38:10.490Z"
   },
   {
    "duration": 14,
    "start_time": "2022-03-05T15:38:10.503Z"
   },
   {
    "duration": 8,
    "start_time": "2022-03-05T15:38:10.520Z"
   },
   {
    "duration": 199,
    "start_time": "2022-03-05T15:38:10.530Z"
   },
   {
    "duration": 8,
    "start_time": "2022-03-05T15:38:10.732Z"
   },
   {
    "duration": 249,
    "start_time": "2022-03-05T15:38:10.743Z"
   },
   {
    "duration": 8,
    "start_time": "2022-03-05T15:38:10.994Z"
   },
   {
    "duration": 6,
    "start_time": "2022-03-05T15:38:11.005Z"
   },
   {
    "duration": 7,
    "start_time": "2022-03-05T15:38:11.014Z"
   },
   {
    "duration": 8,
    "start_time": "2022-03-05T15:38:11.024Z"
   },
   {
    "duration": 9,
    "start_time": "2022-03-05T15:38:11.035Z"
   },
   {
    "duration": 3,
    "start_time": "2022-03-05T15:38:11.087Z"
   },
   {
    "duration": 8,
    "start_time": "2022-03-05T15:38:11.093Z"
   },
   {
    "duration": 13,
    "start_time": "2022-03-05T15:38:11.103Z"
   },
   {
    "duration": 20,
    "start_time": "2022-03-05T15:38:11.118Z"
   },
   {
    "duration": 52,
    "start_time": "2022-03-05T15:38:11.141Z"
   },
   {
    "duration": 17,
    "start_time": "2022-03-05T15:38:11.196Z"
   },
   {
    "duration": 18,
    "start_time": "2022-03-05T15:38:11.217Z"
   },
   {
    "duration": 14,
    "start_time": "2022-03-05T15:38:11.238Z"
   },
   {
    "duration": 39,
    "start_time": "2022-03-05T15:38:11.254Z"
   },
   {
    "duration": 11,
    "start_time": "2022-03-05T15:38:11.296Z"
   },
   {
    "duration": 10,
    "start_time": "2022-03-05T15:38:11.309Z"
   },
   {
    "duration": 11,
    "start_time": "2022-03-05T15:38:11.322Z"
   },
   {
    "duration": 9,
    "start_time": "2022-03-05T15:38:11.335Z"
   },
   {
    "duration": 9,
    "start_time": "2022-03-05T15:38:11.389Z"
   },
   {
    "duration": 21,
    "start_time": "2022-03-05T15:38:11.401Z"
   },
   {
    "duration": 19,
    "start_time": "2022-03-05T15:38:11.424Z"
   },
   {
    "duration": 45,
    "start_time": "2022-03-05T15:38:11.446Z"
   },
   {
    "duration": 19,
    "start_time": "2022-03-05T15:38:11.494Z"
   },
   {
    "duration": 13,
    "start_time": "2022-03-05T15:38:11.516Z"
   },
   {
    "duration": 7,
    "start_time": "2022-03-05T15:38:11.536Z"
   },
   {
    "duration": 49,
    "start_time": "2022-03-05T15:38:11.546Z"
   },
   {
    "duration": 24,
    "start_time": "2022-03-05T15:38:11.598Z"
   },
   {
    "duration": 13,
    "start_time": "2022-03-05T15:38:11.626Z"
   },
   {
    "duration": 26,
    "start_time": "2022-03-05T15:38:11.663Z"
   },
   {
    "duration": 14,
    "start_time": "2022-03-05T15:38:11.745Z"
   },
   {
    "duration": 5,
    "start_time": "2022-03-05T15:38:11.827Z"
   },
   {
    "duration": 3,
    "start_time": "2022-03-05T15:38:11.911Z"
   },
   {
    "duration": 10,
    "start_time": "2022-03-05T15:38:12.000Z"
   },
   {
    "duration": 18,
    "start_time": "2022-03-05T15:38:12.078Z"
   },
   {
    "duration": 18,
    "start_time": "2022-03-05T15:38:12.339Z"
   },
   {
    "duration": 23,
    "start_time": "2022-03-05T15:38:12.838Z"
   },
   {
    "duration": 377,
    "start_time": "2022-03-05T15:38:12.917Z"
   },
   {
    "duration": 107,
    "start_time": "2022-03-05T15:38:13.389Z"
   },
   {
    "duration": 6,
    "start_time": "2022-03-05T15:38:13.498Z"
   },
   {
    "duration": 21,
    "start_time": "2022-03-05T15:38:13.506Z"
   },
   {
    "duration": 671,
    "start_time": "2022-03-05T15:38:13.822Z"
   },
   {
    "duration": 96,
    "start_time": "2022-03-05T15:38:14.497Z"
   },
   {
    "duration": 103,
    "start_time": "2022-03-05T15:38:14.597Z"
   },
   {
    "duration": 46,
    "start_time": "2022-03-05T15:38:14.702Z"
   },
   {
    "duration": 44,
    "start_time": "2022-03-05T15:38:14.750Z"
   },
   {
    "duration": 4743,
    "start_time": "2022-03-05T15:39:04.215Z"
   },
   {
    "duration": 37,
    "start_time": "2022-03-05T15:39:08.961Z"
   },
   {
    "duration": 26,
    "start_time": "2022-03-05T15:39:09.001Z"
   },
   {
    "duration": 22,
    "start_time": "2022-03-05T15:39:09.029Z"
   },
   {
    "duration": 21,
    "start_time": "2022-03-05T15:39:09.053Z"
   },
   {
    "duration": 6,
    "start_time": "2022-03-05T15:39:09.087Z"
   },
   {
    "duration": 12,
    "start_time": "2022-03-05T15:39:09.095Z"
   },
   {
    "duration": 10,
    "start_time": "2022-03-05T15:39:09.111Z"
   },
   {
    "duration": 10,
    "start_time": "2022-03-05T15:39:09.123Z"
   },
   {
    "duration": 20,
    "start_time": "2022-03-05T15:39:09.135Z"
   },
   {
    "duration": 139,
    "start_time": "2022-03-05T15:39:09.157Z"
   },
   {
    "duration": 148,
    "start_time": "2022-03-05T15:39:09.299Z"
   },
   {
    "duration": 9,
    "start_time": "2022-03-05T15:39:09.450Z"
   },
   {
    "duration": 234,
    "start_time": "2022-03-05T15:39:09.461Z"
   },
   {
    "duration": 226,
    "start_time": "2022-03-05T15:39:09.698Z"
   },
   {
    "duration": 9,
    "start_time": "2022-03-05T15:39:09.926Z"
   },
   {
    "duration": 50,
    "start_time": "2022-03-05T15:39:09.937Z"
   },
   {
    "duration": 235,
    "start_time": "2022-03-05T15:39:09.989Z"
   },
   {
    "duration": 6,
    "start_time": "2022-03-05T15:39:10.226Z"
   },
   {
    "duration": 17,
    "start_time": "2022-03-05T15:39:10.235Z"
   },
   {
    "duration": 33,
    "start_time": "2022-03-05T15:39:10.255Z"
   },
   {
    "duration": 39,
    "start_time": "2022-03-05T15:39:10.291Z"
   },
   {
    "duration": 10,
    "start_time": "2022-03-05T15:39:10.335Z"
   },
   {
    "duration": 23,
    "start_time": "2022-03-05T15:39:10.348Z"
   },
   {
    "duration": 16,
    "start_time": "2022-03-05T15:39:10.373Z"
   },
   {
    "duration": 171,
    "start_time": "2022-03-05T15:39:10.391Z"
   },
   {
    "duration": 8,
    "start_time": "2022-03-05T15:39:10.564Z"
   },
   {
    "duration": 238,
    "start_time": "2022-03-05T15:39:10.574Z"
   },
   {
    "duration": 7,
    "start_time": "2022-03-05T15:39:10.815Z"
   },
   {
    "duration": 8,
    "start_time": "2022-03-05T15:39:10.824Z"
   },
   {
    "duration": 8,
    "start_time": "2022-03-05T15:39:10.834Z"
   },
   {
    "duration": 12,
    "start_time": "2022-03-05T15:39:10.845Z"
   },
   {
    "duration": 12,
    "start_time": "2022-03-05T15:39:10.888Z"
   },
   {
    "duration": 4,
    "start_time": "2022-03-05T15:39:10.902Z"
   },
   {
    "duration": 5,
    "start_time": "2022-03-05T15:39:10.909Z"
   },
   {
    "duration": 12,
    "start_time": "2022-03-05T15:39:10.917Z"
   },
   {
    "duration": 67,
    "start_time": "2022-03-05T15:39:10.932Z"
   },
   {
    "duration": 25,
    "start_time": "2022-03-05T15:39:11.002Z"
   },
   {
    "duration": 18,
    "start_time": "2022-03-05T15:39:11.029Z"
   },
   {
    "duration": 38,
    "start_time": "2022-03-05T15:39:11.049Z"
   },
   {
    "duration": 10,
    "start_time": "2022-03-05T15:39:11.089Z"
   },
   {
    "duration": 8,
    "start_time": "2022-03-05T15:39:11.101Z"
   },
   {
    "duration": 10,
    "start_time": "2022-03-05T15:39:11.111Z"
   },
   {
    "duration": 8,
    "start_time": "2022-03-05T15:39:11.123Z"
   },
   {
    "duration": 8,
    "start_time": "2022-03-05T15:39:11.133Z"
   },
   {
    "duration": 9,
    "start_time": "2022-03-05T15:39:11.188Z"
   },
   {
    "duration": 10,
    "start_time": "2022-03-05T15:39:11.199Z"
   },
   {
    "duration": 21,
    "start_time": "2022-03-05T15:39:11.211Z"
   },
   {
    "duration": 19,
    "start_time": "2022-03-05T15:39:11.234Z"
   },
   {
    "duration": 38,
    "start_time": "2022-03-05T15:39:11.255Z"
   },
   {
    "duration": 20,
    "start_time": "2022-03-05T15:39:11.295Z"
   },
   {
    "duration": 11,
    "start_time": "2022-03-05T15:39:11.318Z"
   },
   {
    "duration": 11,
    "start_time": "2022-03-05T15:39:11.332Z"
   },
   {
    "duration": 47,
    "start_time": "2022-03-05T15:39:11.345Z"
   },
   {
    "duration": 20,
    "start_time": "2022-03-05T15:39:11.395Z"
   },
   {
    "duration": 10,
    "start_time": "2022-03-05T15:39:11.420Z"
   },
   {
    "duration": 5,
    "start_time": "2022-03-05T15:39:11.432Z"
   },
   {
    "duration": 16,
    "start_time": "2022-03-05T15:39:11.439Z"
   },
   {
    "duration": 6,
    "start_time": "2022-03-05T15:39:11.487Z"
   },
   {
    "duration": 7,
    "start_time": "2022-03-05T15:39:11.495Z"
   },
   {
    "duration": 14,
    "start_time": "2022-03-05T15:39:11.504Z"
   },
   {
    "duration": 23,
    "start_time": "2022-03-05T15:39:11.521Z"
   },
   {
    "duration": 42,
    "start_time": "2022-03-05T15:39:11.546Z"
   },
   {
    "duration": 20,
    "start_time": "2022-03-05T15:39:11.591Z"
   },
   {
    "duration": 15,
    "start_time": "2022-03-05T15:39:11.614Z"
   },
   {
    "duration": 667,
    "start_time": "2022-03-05T15:39:11.632Z"
   },
   {
    "duration": 107,
    "start_time": "2022-03-05T15:39:12.390Z"
   },
   {
    "duration": 7,
    "start_time": "2022-03-05T15:39:12.500Z"
   },
   {
    "duration": 27,
    "start_time": "2022-03-05T15:39:12.509Z"
   },
   {
    "duration": 15,
    "start_time": "2022-03-05T15:39:12.539Z"
   },
   {
    "duration": 1005,
    "start_time": "2022-03-05T15:39:12.588Z"
   },
   {
    "duration": 96,
    "start_time": "2022-03-05T15:39:13.596Z"
   },
   {
    "duration": 108,
    "start_time": "2022-03-05T15:39:13.696Z"
   },
   {
    "duration": 44,
    "start_time": "2022-03-05T15:39:13.807Z"
   },
   {
    "duration": 37,
    "start_time": "2022-03-05T15:39:13.854Z"
   },
   {
    "duration": 7,
    "start_time": "2022-03-05T15:39:14.542Z"
   },
   {
    "duration": 5,
    "start_time": "2022-03-05T15:39:15.045Z"
   },
   {
    "duration": 5,
    "start_time": "2022-03-05T15:39:15.129Z"
   },
   {
    "duration": 5,
    "start_time": "2022-03-05T15:39:15.214Z"
   },
   {
    "duration": 8,
    "start_time": "2022-03-05T15:39:15.296Z"
   },
   {
    "duration": 6183,
    "start_time": "2022-03-05T15:39:16.129Z"
   },
   {
    "duration": 262,
    "start_time": "2022-03-05T15:39:22.314Z"
   },
   {
    "duration": 12,
    "start_time": "2022-03-05T15:39:22.579Z"
   },
   {
    "duration": 16,
    "start_time": "2022-03-05T15:39:22.593Z"
   },
   {
    "duration": 18,
    "start_time": "2022-03-05T15:39:22.611Z"
   },
   {
    "duration": 64,
    "start_time": "2022-03-05T15:39:22.631Z"
   },
   {
    "duration": 4,
    "start_time": "2022-03-05T15:39:22.697Z"
   },
   {
    "duration": 9,
    "start_time": "2022-03-05T15:39:22.704Z"
   },
   {
    "duration": 5,
    "start_time": "2022-03-05T15:39:22.716Z"
   },
   {
    "duration": 13,
    "start_time": "2022-03-05T15:39:22.723Z"
   },
   {
    "duration": 9266,
    "start_time": "2022-03-05T15:39:22.739Z"
   },
   {
    "duration": 253,
    "start_time": "2022-03-05T15:39:32.007Z"
   },
   {
    "duration": 25,
    "start_time": "2022-03-05T15:39:32.263Z"
   },
   {
    "duration": 13,
    "start_time": "2022-03-05T15:39:32.291Z"
   },
   {
    "duration": 7,
    "start_time": "2022-03-05T15:39:32.306Z"
   },
   {
    "duration": 142,
    "start_time": "2022-03-05T15:39:32.315Z"
   },
   {
    "duration": 30,
    "start_time": "2022-03-05T15:39:32.459Z"
   },
   {
    "duration": 10,
    "start_time": "2022-03-05T15:39:32.491Z"
   },
   {
    "duration": 5,
    "start_time": "2022-03-05T15:39:32.503Z"
   },
   {
    "duration": 13,
    "start_time": "2022-03-05T15:39:32.510Z"
   },
   {
    "duration": 6483,
    "start_time": "2022-03-05T15:39:32.525Z"
   },
   {
    "duration": 257,
    "start_time": "2022-03-05T15:39:39.010Z"
   },
   {
    "duration": 16,
    "start_time": "2022-03-05T15:39:39.271Z"
   },
   {
    "duration": 11,
    "start_time": "2022-03-05T15:39:39.289Z"
   },
   {
    "duration": 4716,
    "start_time": "2022-03-05T15:46:27.380Z"
   },
   {
    "duration": 33,
    "start_time": "2022-03-05T15:46:32.099Z"
   },
   {
    "duration": 25,
    "start_time": "2022-03-05T15:46:32.135Z"
   },
   {
    "duration": 28,
    "start_time": "2022-03-05T15:46:32.163Z"
   },
   {
    "duration": 19,
    "start_time": "2022-03-05T15:46:32.193Z"
   },
   {
    "duration": 6,
    "start_time": "2022-03-05T15:46:32.215Z"
   },
   {
    "duration": 13,
    "start_time": "2022-03-05T15:46:32.223Z"
   },
   {
    "duration": 11,
    "start_time": "2022-03-05T15:46:32.240Z"
   },
   {
    "duration": 34,
    "start_time": "2022-03-05T15:46:32.254Z"
   },
   {
    "duration": 10,
    "start_time": "2022-03-05T15:46:32.291Z"
   },
   {
    "duration": 133,
    "start_time": "2022-03-05T15:46:32.304Z"
   },
   {
    "duration": 152,
    "start_time": "2022-03-05T15:46:32.440Z"
   },
   {
    "duration": 9,
    "start_time": "2022-03-05T15:46:32.595Z"
   },
   {
    "duration": 233,
    "start_time": "2022-03-05T15:46:32.606Z"
   },
   {
    "duration": 231,
    "start_time": "2022-03-05T15:46:32.841Z"
   },
   {
    "duration": 13,
    "start_time": "2022-03-05T15:46:33.074Z"
   },
   {
    "duration": 40,
    "start_time": "2022-03-05T15:46:33.089Z"
   },
   {
    "duration": 230,
    "start_time": "2022-03-05T15:46:33.132Z"
   },
   {
    "duration": 6,
    "start_time": "2022-03-05T15:46:33.364Z"
   },
   {
    "duration": 21,
    "start_time": "2022-03-05T15:46:33.372Z"
   },
   {
    "duration": 5,
    "start_time": "2022-03-05T15:46:33.396Z"
   },
   {
    "duration": 30,
    "start_time": "2022-03-05T15:46:33.404Z"
   },
   {
    "duration": 9,
    "start_time": "2022-03-05T15:46:33.439Z"
   },
   {
    "duration": 41,
    "start_time": "2022-03-05T15:46:33.451Z"
   },
   {
    "duration": 8,
    "start_time": "2022-03-05T15:46:33.495Z"
   },
   {
    "duration": 220,
    "start_time": "2022-03-05T15:46:33.506Z"
   },
   {
    "duration": 11,
    "start_time": "2022-03-05T15:46:33.729Z"
   },
   {
    "duration": 308,
    "start_time": "2022-03-05T15:46:33.743Z"
   },
   {
    "duration": 8,
    "start_time": "2022-03-05T15:46:34.053Z"
   },
   {
    "duration": 24,
    "start_time": "2022-03-05T15:46:34.063Z"
   },
   {
    "duration": 7,
    "start_time": "2022-03-05T15:46:34.090Z"
   },
   {
    "duration": 12,
    "start_time": "2022-03-05T15:46:34.099Z"
   },
   {
    "duration": 13,
    "start_time": "2022-03-05T15:46:34.114Z"
   },
   {
    "duration": 3,
    "start_time": "2022-03-05T15:46:34.129Z"
   },
   {
    "duration": 9,
    "start_time": "2022-03-05T15:46:34.134Z"
   },
   {
    "duration": 46,
    "start_time": "2022-03-05T15:46:34.146Z"
   },
   {
    "duration": 20,
    "start_time": "2022-03-05T15:46:34.194Z"
   },
   {
    "duration": 29,
    "start_time": "2022-03-05T15:46:34.216Z"
   },
   {
    "duration": 16,
    "start_time": "2022-03-05T15:46:34.247Z"
   },
   {
    "duration": 27,
    "start_time": "2022-03-05T15:46:34.267Z"
   },
   {
    "duration": 10,
    "start_time": "2022-03-05T15:46:34.297Z"
   },
   {
    "duration": 8,
    "start_time": "2022-03-05T15:46:34.309Z"
   },
   {
    "duration": 8,
    "start_time": "2022-03-05T15:46:34.319Z"
   },
   {
    "duration": 8,
    "start_time": "2022-03-05T15:46:34.329Z"
   },
   {
    "duration": 55,
    "start_time": "2022-03-05T15:46:34.339Z"
   },
   {
    "duration": 10,
    "start_time": "2022-03-05T15:46:34.397Z"
   },
   {
    "duration": 8,
    "start_time": "2022-03-05T15:46:34.410Z"
   },
   {
    "duration": 24,
    "start_time": "2022-03-05T15:46:34.420Z"
   },
   {
    "duration": 58,
    "start_time": "2022-03-05T15:46:34.446Z"
   },
   {
    "duration": 13,
    "start_time": "2022-03-05T15:46:34.509Z"
   },
   {
    "duration": 18,
    "start_time": "2022-03-05T15:46:34.525Z"
   },
   {
    "duration": 40,
    "start_time": "2022-03-05T15:46:34.549Z"
   },
   {
    "duration": 9,
    "start_time": "2022-03-05T15:46:34.618Z"
   },
   {
    "duration": 14,
    "start_time": "2022-03-05T15:46:34.706Z"
   },
   {
    "duration": 22,
    "start_time": "2022-03-05T15:46:34.787Z"
   },
   {
    "duration": 11,
    "start_time": "2022-03-05T15:46:35.035Z"
   },
   {
    "duration": 6,
    "start_time": "2022-03-05T15:46:35.371Z"
   },
   {
    "duration": 14,
    "start_time": "2022-03-05T15:46:35.871Z"
   },
   {
    "duration": 6,
    "start_time": "2022-03-05T15:46:35.952Z"
   },
   {
    "duration": 4,
    "start_time": "2022-03-05T15:46:36.036Z"
   },
   {
    "duration": 11,
    "start_time": "2022-03-05T15:46:36.121Z"
   },
   {
    "duration": 18,
    "start_time": "2022-03-05T15:46:36.206Z"
   },
   {
    "duration": 19,
    "start_time": "2022-03-05T15:46:36.287Z"
   },
   {
    "duration": 23,
    "start_time": "2022-03-05T15:46:36.374Z"
   },
   {
    "duration": 16,
    "start_time": "2022-03-05T15:46:36.452Z"
   },
   {
    "duration": 350,
    "start_time": "2022-03-05T15:46:36.542Z"
   },
   {
    "duration": 107,
    "start_time": "2022-03-05T15:46:36.989Z"
   },
   {
    "duration": 7,
    "start_time": "2022-03-05T15:46:37.485Z"
   },
   {
    "duration": 22,
    "start_time": "2022-03-05T15:46:37.562Z"
   },
   {
    "duration": 18,
    "start_time": "2022-03-05T15:46:37.644Z"
   },
   {
    "duration": 963,
    "start_time": "2022-03-05T15:46:37.731Z"
   },
   {
    "duration": 98,
    "start_time": "2022-03-05T15:46:38.697Z"
   },
   {
    "duration": 99,
    "start_time": "2022-03-05T15:46:38.798Z"
   },
   {
    "duration": 46,
    "start_time": "2022-03-05T15:46:38.982Z"
   },
   {
    "duration": 15,
    "start_time": "2022-03-05T15:46:39.466Z"
   },
   {
    "duration": 7,
    "start_time": "2022-03-05T15:46:39.810Z"
   },
   {
    "duration": 4,
    "start_time": "2022-03-05T15:46:40.245Z"
   },
   {
    "duration": 5,
    "start_time": "2022-03-05T15:46:40.578Z"
   },
   {
    "duration": 6,
    "start_time": "2022-03-05T15:46:40.761Z"
   },
   {
    "duration": 10,
    "start_time": "2022-03-05T15:46:41.236Z"
   },
   {
    "duration": 6181,
    "start_time": "2022-03-05T15:46:41.751Z"
   },
   {
    "duration": 250,
    "start_time": "2022-03-05T15:46:47.934Z"
   },
   {
    "duration": 7,
    "start_time": "2022-03-05T15:46:48.187Z"
   },
   {
    "duration": 14,
    "start_time": "2022-03-05T15:46:48.196Z"
   },
   {
    "duration": 20,
    "start_time": "2022-03-05T15:46:48.212Z"
   },
   {
    "duration": 68,
    "start_time": "2022-03-05T15:46:48.234Z"
   },
   {
    "duration": 3,
    "start_time": "2022-03-05T15:46:48.304Z"
   },
   {
    "duration": 10,
    "start_time": "2022-03-05T15:46:48.311Z"
   },
   {
    "duration": 5,
    "start_time": "2022-03-05T15:46:48.323Z"
   },
   {
    "duration": 23,
    "start_time": "2022-03-05T15:46:48.330Z"
   },
   {
    "duration": 9254,
    "start_time": "2022-03-05T15:46:48.356Z"
   },
   {
    "duration": 251,
    "start_time": "2022-03-05T15:46:57.612Z"
   },
   {
    "duration": 6,
    "start_time": "2022-03-05T15:46:57.866Z"
   },
   {
    "duration": 14,
    "start_time": "2022-03-05T15:46:57.886Z"
   },
   {
    "duration": 3,
    "start_time": "2022-03-05T15:46:57.902Z"
   },
   {
    "duration": 145,
    "start_time": "2022-03-05T15:46:57.907Z"
   },
   {
    "duration": 23,
    "start_time": "2022-03-05T15:46:58.054Z"
   },
   {
    "duration": 9,
    "start_time": "2022-03-05T15:46:58.087Z"
   },
   {
    "duration": 5,
    "start_time": "2022-03-05T15:46:58.098Z"
   },
   {
    "duration": 10,
    "start_time": "2022-03-05T15:46:58.105Z"
   },
   {
    "duration": 6304,
    "start_time": "2022-03-05T15:46:58.117Z"
   },
   {
    "duration": 247,
    "start_time": "2022-03-05T15:47:04.423Z"
   },
   {
    "duration": 17,
    "start_time": "2022-03-05T15:47:04.674Z"
   },
   {
    "duration": 9,
    "start_time": "2022-03-05T15:47:04.694Z"
   },
   {
    "duration": 25,
    "start_time": "2022-03-05T15:47:04.706Z"
   },
   {
    "duration": 6,
    "start_time": "2022-03-05T15:48:24.361Z"
   },
   {
    "duration": 4,
    "start_time": "2022-03-05T15:48:24.929Z"
   },
   {
    "duration": 424,
    "start_time": "2022-03-05T15:48:25.361Z"
   },
   {
    "duration": 266,
    "start_time": "2022-03-05T15:48:25.804Z"
   },
   {
    "duration": 264,
    "start_time": "2022-03-05T15:49:30.210Z"
   },
   {
    "duration": 295,
    "start_time": "2022-03-05T15:49:35.479Z"
   },
   {
    "duration": 4703,
    "start_time": "2022-03-05T15:51:53.171Z"
   },
   {
    "duration": 35,
    "start_time": "2022-03-05T15:51:57.877Z"
   },
   {
    "duration": 27,
    "start_time": "2022-03-05T15:51:57.915Z"
   },
   {
    "duration": 10,
    "start_time": "2022-03-05T15:51:57.945Z"
   },
   {
    "duration": 41,
    "start_time": "2022-03-05T15:51:57.957Z"
   },
   {
    "duration": 6,
    "start_time": "2022-03-05T15:51:58.001Z"
   },
   {
    "duration": 10,
    "start_time": "2022-03-05T15:51:58.009Z"
   },
   {
    "duration": 8,
    "start_time": "2022-03-05T15:51:58.022Z"
   },
   {
    "duration": 6,
    "start_time": "2022-03-05T15:51:58.033Z"
   },
   {
    "duration": 47,
    "start_time": "2022-03-05T15:51:58.042Z"
   },
   {
    "duration": 125,
    "start_time": "2022-03-05T15:51:58.092Z"
   },
   {
    "duration": 145,
    "start_time": "2022-03-05T15:51:58.220Z"
   },
   {
    "duration": 20,
    "start_time": "2022-03-05T15:51:58.367Z"
   },
   {
    "duration": 228,
    "start_time": "2022-03-05T15:51:58.389Z"
   },
   {
    "duration": 229,
    "start_time": "2022-03-05T15:51:58.619Z"
   },
   {
    "duration": 8,
    "start_time": "2022-03-05T15:51:58.851Z"
   },
   {
    "duration": 44,
    "start_time": "2022-03-05T15:51:58.861Z"
   },
   {
    "duration": 229,
    "start_time": "2022-03-05T15:51:58.908Z"
   },
   {
    "duration": 6,
    "start_time": "2022-03-05T15:51:59.139Z"
   },
   {
    "duration": 17,
    "start_time": "2022-03-05T15:51:59.147Z"
   },
   {
    "duration": 24,
    "start_time": "2022-03-05T15:51:59.167Z"
   },
   {
    "duration": 33,
    "start_time": "2022-03-05T15:51:59.193Z"
   },
   {
    "duration": 9,
    "start_time": "2022-03-05T15:51:59.231Z"
   },
   {
    "duration": 12,
    "start_time": "2022-03-05T15:51:59.243Z"
   },
   {
    "duration": 36,
    "start_time": "2022-03-05T15:51:59.257Z"
   },
   {
    "duration": 173,
    "start_time": "2022-03-05T15:51:59.296Z"
   },
   {
    "duration": 16,
    "start_time": "2022-03-05T15:51:59.471Z"
   },
   {
    "duration": 241,
    "start_time": "2022-03-05T15:51:59.490Z"
   },
   {
    "duration": 9,
    "start_time": "2022-03-05T15:51:59.734Z"
   },
   {
    "duration": 8,
    "start_time": "2022-03-05T15:51:59.745Z"
   },
   {
    "duration": 32,
    "start_time": "2022-03-05T15:51:59.755Z"
   },
   {
    "duration": 8,
    "start_time": "2022-03-05T15:51:59.789Z"
   },
   {
    "duration": 7,
    "start_time": "2022-03-05T15:51:59.800Z"
   },
   {
    "duration": 2,
    "start_time": "2022-03-05T15:51:59.810Z"
   },
   {
    "duration": 7,
    "start_time": "2022-03-05T15:51:59.815Z"
   },
   {
    "duration": 12,
    "start_time": "2022-03-05T15:51:59.824Z"
   },
   {
    "duration": 57,
    "start_time": "2022-03-05T15:51:59.838Z"
   },
   {
    "duration": 27,
    "start_time": "2022-03-05T15:51:59.897Z"
   },
   {
    "duration": 16,
    "start_time": "2022-03-05T15:51:59.927Z"
   },
   {
    "duration": 15,
    "start_time": "2022-03-05T15:51:59.945Z"
   },
   {
    "duration": 32,
    "start_time": "2022-03-05T15:51:59.962Z"
   },
   {
    "duration": 8,
    "start_time": "2022-03-05T15:51:59.996Z"
   },
   {
    "duration": 16,
    "start_time": "2022-03-05T15:52:00.006Z"
   },
   {
    "duration": 31,
    "start_time": "2022-03-05T15:52:00.024Z"
   },
   {
    "duration": 22,
    "start_time": "2022-03-05T15:52:00.057Z"
   },
   {
    "duration": 18,
    "start_time": "2022-03-05T15:52:00.081Z"
   },
   {
    "duration": 24,
    "start_time": "2022-03-05T15:52:00.101Z"
   },
   {
    "duration": 30,
    "start_time": "2022-03-05T15:52:00.127Z"
   },
   {
    "duration": 28,
    "start_time": "2022-03-05T15:52:00.159Z"
   },
   {
    "duration": 39,
    "start_time": "2022-03-05T15:52:00.190Z"
   },
   {
    "duration": 29,
    "start_time": "2022-03-05T15:52:00.232Z"
   },
   {
    "duration": 12,
    "start_time": "2022-03-05T15:52:00.263Z"
   },
   {
    "duration": 16,
    "start_time": "2022-03-05T15:52:00.277Z"
   },
   {
    "duration": 26,
    "start_time": "2022-03-05T15:52:00.296Z"
   },
   {
    "duration": 24,
    "start_time": "2022-03-05T15:52:00.324Z"
   },
   {
    "duration": 18,
    "start_time": "2022-03-05T15:52:00.350Z"
   },
   {
    "duration": 17,
    "start_time": "2022-03-05T15:52:00.371Z"
   },
   {
    "duration": 19,
    "start_time": "2022-03-05T15:52:00.393Z"
   },
   {
    "duration": 13,
    "start_time": "2022-03-05T15:52:00.415Z"
   },
   {
    "duration": 14,
    "start_time": "2022-03-05T15:52:00.431Z"
   },
   {
    "duration": 20,
    "start_time": "2022-03-05T15:52:00.447Z"
   },
   {
    "duration": 30,
    "start_time": "2022-03-05T15:52:00.470Z"
   },
   {
    "duration": 24,
    "start_time": "2022-03-05T15:52:00.503Z"
   },
   {
    "duration": 24,
    "start_time": "2022-03-05T15:52:00.529Z"
   },
   {
    "duration": 33,
    "start_time": "2022-03-05T15:52:00.555Z"
   },
   {
    "duration": 500,
    "start_time": "2022-03-05T15:52:00.590Z"
   },
   {
    "duration": 115,
    "start_time": "2022-03-05T15:52:01.093Z"
   },
   {
    "duration": 7,
    "start_time": "2022-03-05T15:52:01.210Z"
   },
   {
    "duration": 33,
    "start_time": "2022-03-05T15:52:01.219Z"
   },
   {
    "duration": 47,
    "start_time": "2022-03-05T15:52:01.254Z"
   },
   {
    "duration": 888,
    "start_time": "2022-03-05T15:52:01.303Z"
   },
   {
    "duration": 95,
    "start_time": "2022-03-05T15:52:02.197Z"
   },
   {
    "duration": 93,
    "start_time": "2022-03-05T15:52:02.296Z"
   },
   {
    "duration": 65,
    "start_time": "2022-03-05T15:52:02.392Z"
   },
   {
    "duration": 32,
    "start_time": "2022-03-05T15:52:02.460Z"
   },
   {
    "duration": 7,
    "start_time": "2022-03-05T15:52:02.495Z"
   },
   {
    "duration": 12,
    "start_time": "2022-03-05T15:52:02.505Z"
   },
   {
    "duration": 8,
    "start_time": "2022-03-05T15:52:02.519Z"
   },
   {
    "duration": 7,
    "start_time": "2022-03-05T15:52:02.530Z"
   },
   {
    "duration": 53,
    "start_time": "2022-03-05T15:52:02.540Z"
   },
   {
    "duration": 6645,
    "start_time": "2022-03-05T15:52:02.595Z"
   },
   {
    "duration": 249,
    "start_time": "2022-03-05T15:52:09.242Z"
   },
   {
    "duration": 7,
    "start_time": "2022-03-05T15:52:09.493Z"
   },
   {
    "duration": 10,
    "start_time": "2022-03-05T15:52:09.502Z"
   },
   {
    "duration": 18,
    "start_time": "2022-03-05T15:52:09.515Z"
   },
   {
    "duration": 73,
    "start_time": "2022-03-05T15:52:09.535Z"
   },
   {
    "duration": 3,
    "start_time": "2022-03-05T15:52:09.611Z"
   },
   {
    "duration": 11,
    "start_time": "2022-03-05T15:52:09.616Z"
   },
   {
    "duration": 5,
    "start_time": "2022-03-05T15:52:09.633Z"
   },
   {
    "duration": 13,
    "start_time": "2022-03-05T15:52:09.640Z"
   },
   {
    "duration": 9192,
    "start_time": "2022-03-05T15:52:09.656Z"
   },
   {
    "duration": 249,
    "start_time": "2022-03-05T15:52:18.851Z"
   },
   {
    "duration": 7,
    "start_time": "2022-03-05T15:52:19.103Z"
   },
   {
    "duration": 20,
    "start_time": "2022-03-05T15:52:19.113Z"
   },
   {
    "duration": 4,
    "start_time": "2022-03-05T15:52:19.135Z"
   },
   {
    "duration": 154,
    "start_time": "2022-03-05T15:52:19.141Z"
   },
   {
    "duration": 23,
    "start_time": "2022-03-05T15:52:19.297Z"
   },
   {
    "duration": 8,
    "start_time": "2022-03-05T15:52:19.322Z"
   },
   {
    "duration": 5,
    "start_time": "2022-03-05T15:52:19.332Z"
   },
   {
    "duration": 12,
    "start_time": "2022-03-05T15:52:19.339Z"
   },
   {
    "duration": 6864,
    "start_time": "2022-03-05T15:52:19.354Z"
   },
   {
    "duration": 255,
    "start_time": "2022-03-05T15:52:26.221Z"
   },
   {
    "duration": 12,
    "start_time": "2022-03-05T15:52:26.478Z"
   },
   {
    "duration": 11,
    "start_time": "2022-03-05T15:52:26.492Z"
   },
   {
    "duration": 20,
    "start_time": "2022-03-05T15:52:26.505Z"
   },
   {
    "duration": 8,
    "start_time": "2022-03-05T15:52:26.527Z"
   },
   {
    "duration": 6,
    "start_time": "2022-03-05T15:52:26.537Z"
   },
   {
    "duration": 3,
    "start_time": "2022-03-05T15:52:26.587Z"
   },
   {
    "duration": 563030,
    "start_time": "2022-03-05T15:52:26.593Z"
   },
   {
    "duration": 5,
    "start_time": "2022-03-05T16:01:49.626Z"
   },
   {
    "duration": 5,
    "start_time": "2022-03-05T16:03:34.306Z"
   },
   {
    "duration": 6,
    "start_time": "2022-03-05T16:03:41.338Z"
   },
   {
    "duration": 4660,
    "start_time": "2022-03-05T16:06:09.309Z"
   },
   {
    "duration": 34,
    "start_time": "2022-03-05T16:06:13.972Z"
   },
   {
    "duration": 26,
    "start_time": "2022-03-05T16:06:14.008Z"
   },
   {
    "duration": 11,
    "start_time": "2022-03-05T16:06:14.037Z"
   },
   {
    "duration": 43,
    "start_time": "2022-03-05T16:06:14.050Z"
   },
   {
    "duration": 6,
    "start_time": "2022-03-05T16:06:14.095Z"
   },
   {
    "duration": 10,
    "start_time": "2022-03-05T16:06:14.104Z"
   },
   {
    "duration": 6,
    "start_time": "2022-03-05T16:06:14.118Z"
   },
   {
    "duration": 12,
    "start_time": "2022-03-05T16:06:14.127Z"
   },
   {
    "duration": 50,
    "start_time": "2022-03-05T16:06:14.141Z"
   },
   {
    "duration": 127,
    "start_time": "2022-03-05T16:06:14.193Z"
   },
   {
    "duration": 147,
    "start_time": "2022-03-05T16:06:14.322Z"
   },
   {
    "duration": 17,
    "start_time": "2022-03-05T16:06:14.472Z"
   },
   {
    "duration": 222,
    "start_time": "2022-03-05T16:06:14.491Z"
   },
   {
    "duration": 239,
    "start_time": "2022-03-05T16:06:14.715Z"
   },
   {
    "duration": 8,
    "start_time": "2022-03-05T16:06:14.956Z"
   },
   {
    "duration": 46,
    "start_time": "2022-03-05T16:06:14.966Z"
   },
   {
    "duration": 229,
    "start_time": "2022-03-05T16:06:15.014Z"
   },
   {
    "duration": 6,
    "start_time": "2022-03-05T16:06:15.246Z"
   },
   {
    "duration": 35,
    "start_time": "2022-03-05T16:06:15.254Z"
   },
   {
    "duration": 6,
    "start_time": "2022-03-05T16:06:15.291Z"
   },
   {
    "duration": 33,
    "start_time": "2022-03-05T16:06:15.299Z"
   },
   {
    "duration": 11,
    "start_time": "2022-03-05T16:06:15.337Z"
   },
   {
    "duration": 41,
    "start_time": "2022-03-05T16:06:15.351Z"
   },
   {
    "duration": 8,
    "start_time": "2022-03-05T16:06:15.394Z"
   },
   {
    "duration": 189,
    "start_time": "2022-03-05T16:06:15.405Z"
   },
   {
    "duration": 9,
    "start_time": "2022-03-05T16:06:15.597Z"
   },
   {
    "duration": 250,
    "start_time": "2022-03-05T16:06:15.608Z"
   },
   {
    "duration": 9,
    "start_time": "2022-03-05T16:06:15.861Z"
   },
   {
    "duration": 19,
    "start_time": "2022-03-05T16:06:15.872Z"
   },
   {
    "duration": 8,
    "start_time": "2022-03-05T16:06:15.894Z"
   },
   {
    "duration": 14,
    "start_time": "2022-03-05T16:06:15.904Z"
   },
   {
    "duration": 9,
    "start_time": "2022-03-05T16:06:15.921Z"
   },
   {
    "duration": 4,
    "start_time": "2022-03-05T16:06:15.932Z"
   },
   {
    "duration": 6,
    "start_time": "2022-03-05T16:06:15.938Z"
   },
   {
    "duration": 49,
    "start_time": "2022-03-05T16:06:15.946Z"
   },
   {
    "duration": 19,
    "start_time": "2022-03-05T16:06:15.998Z"
   },
   {
    "duration": 30,
    "start_time": "2022-03-05T16:06:16.019Z"
   },
   {
    "duration": 36,
    "start_time": "2022-03-05T16:06:16.051Z"
   },
   {
    "duration": 10,
    "start_time": "2022-03-05T16:06:16.090Z"
   },
   {
    "duration": 14,
    "start_time": "2022-03-05T16:06:16.103Z"
   },
   {
    "duration": 9,
    "start_time": "2022-03-05T16:06:16.120Z"
   },
   {
    "duration": 57,
    "start_time": "2022-03-05T16:06:16.132Z"
   },
   {
    "duration": 7,
    "start_time": "2022-03-05T16:06:16.192Z"
   },
   {
    "duration": 8,
    "start_time": "2022-03-05T16:06:16.202Z"
   },
   {
    "duration": 7,
    "start_time": "2022-03-05T16:06:16.212Z"
   },
   {
    "duration": 10,
    "start_time": "2022-03-05T16:06:16.221Z"
   },
   {
    "duration": 34,
    "start_time": "2022-03-05T16:06:16.233Z"
   },
   {
    "duration": 19,
    "start_time": "2022-03-05T16:06:16.287Z"
   },
   {
    "duration": 14,
    "start_time": "2022-03-05T16:06:16.309Z"
   },
   {
    "duration": 19,
    "start_time": "2022-03-05T16:06:16.325Z"
   },
   {
    "duration": 41,
    "start_time": "2022-03-05T16:06:16.346Z"
   },
   {
    "duration": 8,
    "start_time": "2022-03-05T16:06:16.389Z"
   },
   {
    "duration": 14,
    "start_time": "2022-03-05T16:06:16.400Z"
   },
   {
    "duration": 21,
    "start_time": "2022-03-05T16:06:16.417Z"
   },
   {
    "duration": 47,
    "start_time": "2022-03-05T16:06:16.440Z"
   },
   {
    "duration": 5,
    "start_time": "2022-03-05T16:06:16.489Z"
   },
   {
    "duration": 13,
    "start_time": "2022-03-05T16:06:16.499Z"
   },
   {
    "duration": 6,
    "start_time": "2022-03-05T16:06:16.516Z"
   },
   {
    "duration": 5,
    "start_time": "2022-03-05T16:06:16.525Z"
   },
   {
    "duration": 56,
    "start_time": "2022-03-05T16:06:16.532Z"
   },
   {
    "duration": 18,
    "start_time": "2022-03-05T16:06:16.590Z"
   },
   {
    "duration": 20,
    "start_time": "2022-03-05T16:06:16.610Z"
   },
   {
    "duration": 22,
    "start_time": "2022-03-05T16:06:16.632Z"
   },
   {
    "duration": 41,
    "start_time": "2022-03-05T16:06:16.656Z"
   },
   {
    "duration": 492,
    "start_time": "2022-03-05T16:06:16.699Z"
   },
   {
    "duration": 103,
    "start_time": "2022-03-05T16:06:17.194Z"
   },
   {
    "duration": 6,
    "start_time": "2022-03-05T16:06:17.299Z"
   },
   {
    "duration": 23,
    "start_time": "2022-03-05T16:06:17.308Z"
   },
   {
    "duration": 23,
    "start_time": "2022-03-05T16:06:17.333Z"
   },
   {
    "duration": 1035,
    "start_time": "2022-03-05T16:06:17.358Z"
   },
   {
    "duration": 96,
    "start_time": "2022-03-05T16:06:18.399Z"
   },
   {
    "duration": 12,
    "start_time": "2022-03-05T16:06:18.589Z"
   },
   {
    "duration": 49,
    "start_time": "2022-03-05T16:06:18.603Z"
   },
   {
    "duration": 51,
    "start_time": "2022-03-05T16:06:18.654Z"
   },
   {
    "duration": 8,
    "start_time": "2022-03-05T16:06:18.708Z"
   },
   {
    "duration": 5,
    "start_time": "2022-03-05T16:06:18.719Z"
   },
   {
    "duration": 9,
    "start_time": "2022-03-05T16:06:18.727Z"
   },
   {
    "duration": 7,
    "start_time": "2022-03-05T16:06:18.738Z"
   },
   {
    "duration": 44,
    "start_time": "2022-03-05T16:06:18.747Z"
   },
   {
    "duration": 5912,
    "start_time": "2022-03-05T16:06:18.793Z"
   },
   {
    "duration": 254,
    "start_time": "2022-03-05T16:06:24.707Z"
   },
   {
    "duration": 7,
    "start_time": "2022-03-05T16:06:24.963Z"
   },
   {
    "duration": 31,
    "start_time": "2022-03-05T16:06:24.972Z"
   },
   {
    "duration": 41,
    "start_time": "2022-03-05T16:06:25.005Z"
   },
   {
    "duration": 54,
    "start_time": "2022-03-05T16:06:25.048Z"
   },
   {
    "duration": 3,
    "start_time": "2022-03-05T16:06:25.106Z"
   },
   {
    "duration": 40,
    "start_time": "2022-03-05T16:06:25.112Z"
   },
   {
    "duration": 15,
    "start_time": "2022-03-05T16:06:25.154Z"
   },
   {
    "duration": 13,
    "start_time": "2022-03-05T16:06:25.171Z"
   },
   {
    "duration": 9139,
    "start_time": "2022-03-05T16:06:25.186Z"
   },
   {
    "duration": 256,
    "start_time": "2022-03-05T16:06:34.327Z"
   },
   {
    "duration": 7,
    "start_time": "2022-03-05T16:06:34.586Z"
   },
   {
    "duration": 14,
    "start_time": "2022-03-05T16:06:34.595Z"
   },
   {
    "duration": 3,
    "start_time": "2022-03-05T16:06:34.611Z"
   },
   {
    "duration": 150,
    "start_time": "2022-03-05T16:06:34.616Z"
   },
   {
    "duration": 30,
    "start_time": "2022-03-05T16:06:34.769Z"
   },
   {
    "duration": 10,
    "start_time": "2022-03-05T16:06:34.801Z"
   },
   {
    "duration": 6,
    "start_time": "2022-03-05T16:06:34.813Z"
   },
   {
    "duration": 11,
    "start_time": "2022-03-05T16:06:34.821Z"
   },
   {
    "duration": 6378,
    "start_time": "2022-03-05T16:06:34.834Z"
   },
   {
    "duration": 256,
    "start_time": "2022-03-05T16:06:41.215Z"
   },
   {
    "duration": 17,
    "start_time": "2022-03-05T16:06:41.473Z"
   },
   {
    "duration": 10,
    "start_time": "2022-03-05T16:06:41.492Z"
   },
   {
    "duration": 22,
    "start_time": "2022-03-05T16:06:41.505Z"
   },
   {
    "duration": 5,
    "start_time": "2022-03-05T16:06:41.531Z"
   },
   {
    "duration": 5,
    "start_time": "2022-03-05T16:06:41.538Z"
   },
   {
    "duration": 3,
    "start_time": "2022-03-05T16:06:41.588Z"
   },
   {
    "duration": 20454,
    "start_time": "2022-03-05T16:06:41.593Z"
   },
   {
    "duration": 5,
    "start_time": "2022-03-05T16:08:09.177Z"
   },
   {
    "duration": 5,
    "start_time": "2022-03-05T16:08:38.421Z"
   },
   {
    "duration": 5,
    "start_time": "2022-03-05T16:08:38.828Z"
   },
   {
    "duration": 3,
    "start_time": "2022-03-05T16:08:39.188Z"
   },
   {
    "duration": 576228,
    "start_time": "2022-03-05T16:08:39.619Z"
   },
   {
    "duration": 6,
    "start_time": "2022-03-05T16:18:15.849Z"
   },
   {
    "duration": 412,
    "start_time": "2022-03-05T16:23:39.334Z"
   },
   {
    "duration": 281,
    "start_time": "2022-03-05T16:23:46.990Z"
   },
   {
    "duration": 274,
    "start_time": "2022-03-05T16:25:55.595Z"
   },
   {
    "duration": 280,
    "start_time": "2022-03-05T16:26:14.578Z"
   },
   {
    "duration": 7,
    "start_time": "2022-03-05T16:26:28.298Z"
   },
   {
    "duration": 262,
    "start_time": "2022-03-05T16:26:49.336Z"
   },
   {
    "duration": 6,
    "start_time": "2022-03-05T16:26:50.764Z"
   },
   {
    "duration": 171,
    "start_time": "2022-03-05T16:27:27.154Z"
   },
   {
    "duration": 687,
    "start_time": "2022-03-05T16:27:55.436Z"
   },
   {
    "duration": 674,
    "start_time": "2022-03-05T16:28:23.421Z"
   },
   {
    "duration": 742,
    "start_time": "2022-03-05T16:28:28.590Z"
   },
   {
    "duration": 698,
    "start_time": "2022-03-05T16:29:27.539Z"
   },
   {
    "duration": 89,
    "start_time": "2022-03-05T16:30:18.202Z"
   },
   {
    "duration": 4761,
    "start_time": "2022-03-05T16:41:39.312Z"
   },
   {
    "duration": 37,
    "start_time": "2022-03-05T16:41:44.076Z"
   },
   {
    "duration": 24,
    "start_time": "2022-03-05T16:41:44.116Z"
   },
   {
    "duration": 17,
    "start_time": "2022-03-05T16:41:44.143Z"
   },
   {
    "duration": 33,
    "start_time": "2022-03-05T16:41:44.162Z"
   },
   {
    "duration": 6,
    "start_time": "2022-03-05T16:41:44.198Z"
   },
   {
    "duration": 30,
    "start_time": "2022-03-05T16:41:44.206Z"
   },
   {
    "duration": 18,
    "start_time": "2022-03-05T16:41:44.240Z"
   },
   {
    "duration": 15,
    "start_time": "2022-03-05T16:41:44.262Z"
   },
   {
    "duration": 13,
    "start_time": "2022-03-05T16:41:44.279Z"
   },
   {
    "duration": 137,
    "start_time": "2022-03-05T16:41:44.294Z"
   },
   {
    "duration": 163,
    "start_time": "2022-03-05T16:41:44.433Z"
   },
   {
    "duration": 9,
    "start_time": "2022-03-05T16:41:44.598Z"
   },
   {
    "duration": 226,
    "start_time": "2022-03-05T16:41:44.609Z"
   },
   {
    "duration": 243,
    "start_time": "2022-03-05T16:41:44.837Z"
   },
   {
    "duration": 8,
    "start_time": "2022-03-05T16:41:45.082Z"
   },
   {
    "duration": 41,
    "start_time": "2022-03-05T16:41:45.092Z"
   },
   {
    "duration": 244,
    "start_time": "2022-03-05T16:41:45.136Z"
   },
   {
    "duration": 5,
    "start_time": "2022-03-05T16:41:45.383Z"
   },
   {
    "duration": 17,
    "start_time": "2022-03-05T16:41:45.391Z"
   },
   {
    "duration": 15,
    "start_time": "2022-03-05T16:41:45.411Z"
   },
   {
    "duration": 35,
    "start_time": "2022-03-05T16:41:45.428Z"
   },
   {
    "duration": 10,
    "start_time": "2022-03-05T16:41:45.490Z"
   },
   {
    "duration": 11,
    "start_time": "2022-03-05T16:41:45.503Z"
   },
   {
    "duration": 13,
    "start_time": "2022-03-05T16:41:45.517Z"
   },
   {
    "duration": 200,
    "start_time": "2022-03-05T16:41:45.532Z"
   },
   {
    "duration": 7,
    "start_time": "2022-03-05T16:41:45.735Z"
   },
   {
    "duration": 251,
    "start_time": "2022-03-05T16:41:45.745Z"
   },
   {
    "duration": 8,
    "start_time": "2022-03-05T16:41:45.998Z"
   },
   {
    "duration": 15,
    "start_time": "2022-03-05T16:41:46.009Z"
   },
   {
    "duration": 16,
    "start_time": "2022-03-05T16:41:46.027Z"
   },
   {
    "duration": 10,
    "start_time": "2022-03-05T16:41:46.045Z"
   },
   {
    "duration": 33,
    "start_time": "2022-03-05T16:41:46.058Z"
   },
   {
    "duration": 3,
    "start_time": "2022-03-05T16:41:46.093Z"
   },
   {
    "duration": 9,
    "start_time": "2022-03-05T16:41:46.098Z"
   },
   {
    "duration": 12,
    "start_time": "2022-03-05T16:41:46.109Z"
   },
   {
    "duration": 19,
    "start_time": "2022-03-05T16:41:46.123Z"
   },
   {
    "duration": 54,
    "start_time": "2022-03-05T16:41:46.144Z"
   },
   {
    "duration": 17,
    "start_time": "2022-03-05T16:41:46.200Z"
   },
   {
    "duration": 13,
    "start_time": "2022-03-05T16:41:46.220Z"
   },
   {
    "duration": 13,
    "start_time": "2022-03-05T16:41:46.235Z"
   },
   {
    "duration": 39,
    "start_time": "2022-03-05T16:41:46.250Z"
   },
   {
    "duration": 15,
    "start_time": "2022-03-05T16:41:46.291Z"
   },
   {
    "duration": 20,
    "start_time": "2022-03-05T16:41:46.308Z"
   },
   {
    "duration": 15,
    "start_time": "2022-03-05T16:41:46.331Z"
   },
   {
    "duration": 13,
    "start_time": "2022-03-05T16:41:46.349Z"
   },
   {
    "duration": 10,
    "start_time": "2022-03-05T16:41:46.365Z"
   },
   {
    "duration": 33,
    "start_time": "2022-03-05T16:41:46.377Z"
   },
   {
    "duration": 18,
    "start_time": "2022-03-05T16:41:46.412Z"
   },
   {
    "duration": 17,
    "start_time": "2022-03-05T16:41:46.432Z"
   },
   {
    "duration": 26,
    "start_time": "2022-03-05T16:41:46.452Z"
   },
   {
    "duration": 18,
    "start_time": "2022-03-05T16:41:46.481Z"
   },
   {
    "duration": 15,
    "start_time": "2022-03-05T16:41:46.501Z"
   },
   {
    "duration": 14,
    "start_time": "2022-03-05T16:41:46.518Z"
   },
   {
    "duration": 20,
    "start_time": "2022-03-05T16:41:46.535Z"
   },
   {
    "duration": 36,
    "start_time": "2022-03-05T16:41:46.557Z"
   },
   {
    "duration": 5,
    "start_time": "2022-03-05T16:41:46.596Z"
   },
   {
    "duration": 15,
    "start_time": "2022-03-05T16:41:46.604Z"
   },
   {
    "duration": 8,
    "start_time": "2022-03-05T16:41:46.623Z"
   },
   {
    "duration": 7,
    "start_time": "2022-03-05T16:41:46.633Z"
   },
   {
    "duration": 14,
    "start_time": "2022-03-05T16:41:46.643Z"
   },
   {
    "duration": 19,
    "start_time": "2022-03-05T16:41:46.687Z"
   },
   {
    "duration": 18,
    "start_time": "2022-03-05T16:41:46.708Z"
   },
   {
    "duration": 22,
    "start_time": "2022-03-05T16:41:46.728Z"
   },
   {
    "duration": 48,
    "start_time": "2022-03-05T16:41:46.752Z"
   },
   {
    "duration": 492,
    "start_time": "2022-03-05T16:41:46.802Z"
   },
   {
    "duration": 193,
    "start_time": "2022-03-05T16:41:47.297Z"
   },
   {
    "duration": 6,
    "start_time": "2022-03-05T16:41:47.493Z"
   },
   {
    "duration": 21,
    "start_time": "2022-03-05T16:41:47.502Z"
   },
   {
    "duration": 17,
    "start_time": "2022-03-05T16:41:47.526Z"
   },
   {
    "duration": 1049,
    "start_time": "2022-03-05T16:41:47.545Z"
   },
   {
    "duration": 92,
    "start_time": "2022-03-05T16:41:48.596Z"
   },
   {
    "duration": 106,
    "start_time": "2022-03-05T16:41:48.695Z"
   },
   {
    "duration": 52,
    "start_time": "2022-03-05T16:41:48.803Z"
   },
   {
    "duration": 12,
    "start_time": "2022-03-05T16:41:48.858Z"
   },
   {
    "duration": 7,
    "start_time": "2022-03-05T16:41:48.887Z"
   },
   {
    "duration": 15,
    "start_time": "2022-03-05T16:41:48.896Z"
   },
   {
    "duration": 12,
    "start_time": "2022-03-05T16:41:48.914Z"
   },
   {
    "duration": 10,
    "start_time": "2022-03-05T16:41:48.928Z"
   },
   {
    "duration": 11,
    "start_time": "2022-03-05T16:41:48.940Z"
   },
   {
    "duration": 7166,
    "start_time": "2022-03-05T16:41:48.954Z"
   },
   {
    "duration": 255,
    "start_time": "2022-03-05T16:41:56.122Z"
   },
   {
    "duration": 11,
    "start_time": "2022-03-05T16:41:56.379Z"
   },
   {
    "duration": 11,
    "start_time": "2022-03-05T16:41:56.392Z"
   },
   {
    "duration": 18,
    "start_time": "2022-03-05T16:41:56.406Z"
   },
   {
    "duration": 67,
    "start_time": "2022-03-05T16:41:56.426Z"
   },
   {
    "duration": 4,
    "start_time": "2022-03-05T16:41:56.495Z"
   },
   {
    "duration": 13,
    "start_time": "2022-03-05T16:41:56.501Z"
   },
   {
    "duration": 5,
    "start_time": "2022-03-05T16:41:56.516Z"
   },
   {
    "duration": 10,
    "start_time": "2022-03-05T16:41:56.525Z"
   },
   {
    "duration": 9069,
    "start_time": "2022-03-05T16:41:56.538Z"
   },
   {
    "duration": 255,
    "start_time": "2022-03-05T16:42:05.609Z"
   },
   {
    "duration": 19,
    "start_time": "2022-03-05T16:42:05.867Z"
   },
   {
    "duration": 13,
    "start_time": "2022-03-05T16:42:05.889Z"
   },
   {
    "duration": 5,
    "start_time": "2022-03-05T16:42:05.904Z"
   },
   {
    "duration": 146,
    "start_time": "2022-03-05T16:42:05.912Z"
   },
   {
    "duration": 29,
    "start_time": "2022-03-05T16:42:06.060Z"
   },
   {
    "duration": 11,
    "start_time": "2022-03-05T16:42:06.091Z"
   },
   {
    "duration": 18,
    "start_time": "2022-03-05T16:42:06.104Z"
   },
   {
    "duration": 24,
    "start_time": "2022-03-05T16:42:06.124Z"
   },
   {
    "duration": 6298,
    "start_time": "2022-03-05T16:42:06.151Z"
   },
   {
    "duration": 247,
    "start_time": "2022-03-05T16:42:12.451Z"
   },
   {
    "duration": 6,
    "start_time": "2022-03-05T16:42:12.700Z"
   },
   {
    "duration": 13,
    "start_time": "2022-03-05T16:42:12.709Z"
   },
   {
    "duration": 5,
    "start_time": "2022-03-05T16:42:12.724Z"
   },
   {
    "duration": 8,
    "start_time": "2022-03-05T16:42:12.731Z"
   },
   {
    "duration": 8,
    "start_time": "2022-03-05T16:42:12.741Z"
   },
   {
    "duration": 455,
    "start_time": "2022-03-05T16:42:12.788Z"
   },
   {
    "duration": -88,
    "start_time": "2022-03-05T16:42:13.334Z"
   },
   {
    "duration": 576923,
    "start_time": "2022-03-05T16:46:13.999Z"
   },
   {
    "duration": 5,
    "start_time": "2022-03-05T16:56:21.948Z"
   },
   {
    "duration": 279,
    "start_time": "2022-03-05T17:01:19.827Z"
   },
   {
    "duration": 252,
    "start_time": "2022-03-05T17:01:21.113Z"
   },
   {
    "duration": 9,
    "start_time": "2022-03-05T17:01:22.478Z"
   },
   {
    "duration": 26,
    "start_time": "2022-03-05T17:01:23.848Z"
   },
   {
    "duration": 4277,
    "start_time": "2022-03-06T05:03:11.491Z"
   },
   {
    "duration": 50,
    "start_time": "2022-03-06T05:03:15.769Z"
   },
   {
    "duration": 15,
    "start_time": "2022-03-06T05:03:15.821Z"
   },
   {
    "duration": 6,
    "start_time": "2022-03-06T05:03:15.838Z"
   },
   {
    "duration": 8,
    "start_time": "2022-03-06T05:03:15.846Z"
   },
   {
    "duration": 5,
    "start_time": "2022-03-06T05:03:15.855Z"
   },
   {
    "duration": 7,
    "start_time": "2022-03-06T05:03:15.861Z"
   },
   {
    "duration": 3,
    "start_time": "2022-03-06T05:03:15.870Z"
   },
   {
    "duration": 32,
    "start_time": "2022-03-06T05:03:15.875Z"
   },
   {
    "duration": 5,
    "start_time": "2022-03-06T05:03:15.909Z"
   },
   {
    "duration": 58,
    "start_time": "2022-03-06T05:03:15.916Z"
   },
   {
    "duration": 90,
    "start_time": "2022-03-06T05:03:15.976Z"
   },
   {
    "duration": 6,
    "start_time": "2022-03-06T05:03:16.067Z"
   },
   {
    "duration": 112,
    "start_time": "2022-03-06T05:03:16.074Z"
   },
   {
    "duration": 123,
    "start_time": "2022-03-06T05:03:16.187Z"
   },
   {
    "duration": 6,
    "start_time": "2022-03-06T05:03:16.311Z"
   },
   {
    "duration": 19,
    "start_time": "2022-03-06T05:03:16.318Z"
   },
   {
    "duration": 121,
    "start_time": "2022-03-06T05:03:16.338Z"
   },
   {
    "duration": 4,
    "start_time": "2022-03-06T05:03:16.461Z"
   },
   {
    "duration": 11,
    "start_time": "2022-03-06T05:03:16.466Z"
   },
   {
    "duration": 5,
    "start_time": "2022-03-06T05:03:16.478Z"
   },
   {
    "duration": 28,
    "start_time": "2022-03-06T05:03:16.485Z"
   },
   {
    "duration": 6,
    "start_time": "2022-03-06T05:03:16.516Z"
   },
   {
    "duration": 6,
    "start_time": "2022-03-06T05:03:16.524Z"
   },
   {
    "duration": 5,
    "start_time": "2022-03-06T05:03:16.531Z"
   },
   {
    "duration": 100,
    "start_time": "2022-03-06T05:03:16.538Z"
   },
   {
    "duration": 5,
    "start_time": "2022-03-06T05:03:16.640Z"
   },
   {
    "duration": 127,
    "start_time": "2022-03-06T05:03:16.646Z"
   },
   {
    "duration": 5,
    "start_time": "2022-03-06T05:03:16.775Z"
   },
   {
    "duration": 6,
    "start_time": "2022-03-06T05:03:16.781Z"
   },
   {
    "duration": 19,
    "start_time": "2022-03-06T05:03:16.788Z"
   },
   {
    "duration": 5,
    "start_time": "2022-03-06T05:03:16.808Z"
   },
   {
    "duration": 6,
    "start_time": "2022-03-06T05:03:16.814Z"
   },
   {
    "duration": 2,
    "start_time": "2022-03-06T05:03:16.821Z"
   },
   {
    "duration": 5,
    "start_time": "2022-03-06T05:03:16.824Z"
   },
   {
    "duration": 10,
    "start_time": "2022-03-06T05:03:16.830Z"
   },
   {
    "duration": 11,
    "start_time": "2022-03-06T05:03:16.841Z"
   },
   {
    "duration": 31,
    "start_time": "2022-03-06T05:03:16.854Z"
   },
   {
    "duration": 18,
    "start_time": "2022-03-06T05:03:16.887Z"
   },
   {
    "duration": 10,
    "start_time": "2022-03-06T05:03:16.906Z"
   },
   {
    "duration": 8,
    "start_time": "2022-03-06T05:03:16.917Z"
   },
   {
    "duration": 5,
    "start_time": "2022-03-06T05:03:16.926Z"
   },
   {
    "duration": 8,
    "start_time": "2022-03-06T05:03:16.932Z"
   },
   {
    "duration": 6,
    "start_time": "2022-03-06T05:03:16.941Z"
   },
   {
    "duration": 7,
    "start_time": "2022-03-06T05:03:16.948Z"
   },
   {
    "duration": 6,
    "start_time": "2022-03-06T05:03:16.956Z"
   },
   {
    "duration": 5,
    "start_time": "2022-03-06T05:03:16.964Z"
   },
   {
    "duration": 37,
    "start_time": "2022-03-06T05:03:16.970Z"
   },
   {
    "duration": 11,
    "start_time": "2022-03-06T05:03:17.008Z"
   },
   {
    "duration": 9,
    "start_time": "2022-03-06T05:03:17.021Z"
   },
   {
    "duration": 23,
    "start_time": "2022-03-06T05:03:17.032Z"
   },
   {
    "duration": 7,
    "start_time": "2022-03-06T05:03:17.057Z"
   },
   {
    "duration": 5,
    "start_time": "2022-03-06T05:03:17.075Z"
   },
   {
    "duration": 9,
    "start_time": "2022-03-06T05:03:17.158Z"
   },
   {
    "duration": 13,
    "start_time": "2022-03-06T05:03:17.248Z"
   },
   {
    "duration": 9,
    "start_time": "2022-03-06T05:03:17.495Z"
   },
   {
    "duration": 4,
    "start_time": "2022-03-06T05:03:17.577Z"
   },
   {
    "duration": 9,
    "start_time": "2022-03-06T05:03:17.664Z"
   },
   {
    "duration": 3,
    "start_time": "2022-03-06T05:03:17.746Z"
   },
   {
    "duration": 2,
    "start_time": "2022-03-06T05:03:17.831Z"
   },
   {
    "duration": 8,
    "start_time": "2022-03-06T05:03:17.914Z"
   },
   {
    "duration": 10,
    "start_time": "2022-03-06T05:03:17.999Z"
   },
   {
    "duration": 11,
    "start_time": "2022-03-06T05:03:18.080Z"
   },
   {
    "duration": 11,
    "start_time": "2022-03-06T05:03:18.165Z"
   },
   {
    "duration": 9,
    "start_time": "2022-03-06T05:03:18.249Z"
   },
   {
    "duration": 174,
    "start_time": "2022-03-06T05:03:18.337Z"
   },
   {
    "duration": 97,
    "start_time": "2022-03-06T05:03:18.513Z"
   },
   {
    "duration": 98,
    "start_time": "2022-03-06T05:03:18.613Z"
   },
   {
    "duration": 15,
    "start_time": "2022-03-06T05:03:18.713Z"
   },
   {
    "duration": 9,
    "start_time": "2022-03-06T05:03:18.729Z"
   },
   {
    "duration": 751,
    "start_time": "2022-03-06T05:03:18.755Z"
   },
   {
    "duration": 97,
    "start_time": "2022-03-06T05:03:19.508Z"
   },
   {
    "duration": 8,
    "start_time": "2022-03-06T05:03:19.607Z"
   },
   {
    "duration": 28,
    "start_time": "2022-03-06T05:03:19.616Z"
   },
   {
    "duration": 8,
    "start_time": "2022-03-06T05:03:19.646Z"
   },
   {
    "duration": 7,
    "start_time": "2022-03-06T05:03:19.655Z"
   },
   {
    "duration": 4,
    "start_time": "2022-03-06T05:03:19.664Z"
   },
   {
    "duration": 6,
    "start_time": "2022-03-06T05:03:19.669Z"
   },
   {
    "duration": 5,
    "start_time": "2022-03-06T05:03:19.676Z"
   },
   {
    "duration": 27,
    "start_time": "2022-03-06T05:03:19.682Z"
   },
   {
    "duration": 4606,
    "start_time": "2022-03-06T05:03:19.924Z"
   },
   {
    "duration": 137,
    "start_time": "2022-03-06T05:03:24.532Z"
   },
   {
    "duration": 4,
    "start_time": "2022-03-06T05:03:24.671Z"
   },
   {
    "duration": 738,
    "start_time": "2022-03-06T05:03:24.677Z"
   },
   {
    "duration": 8,
    "start_time": "2022-03-06T05:03:25.416Z"
   },
   {
    "duration": 12,
    "start_time": "2022-03-06T05:03:25.425Z"
   },
   {
    "duration": 21,
    "start_time": "2022-03-06T05:03:25.438Z"
   },
   {
    "duration": 2,
    "start_time": "2022-03-06T05:03:25.461Z"
   },
   {
    "duration": 7,
    "start_time": "2022-03-06T05:03:25.465Z"
   },
   {
    "duration": 32,
    "start_time": "2022-03-06T05:03:25.473Z"
   },
   {
    "duration": 7,
    "start_time": "2022-03-06T05:03:25.507Z"
   },
   {
    "duration": 6097,
    "start_time": "2022-03-06T05:03:25.515Z"
   },
   {
    "duration": 208,
    "start_time": "2022-03-06T05:03:31.614Z"
   },
   {
    "duration": 4,
    "start_time": "2022-03-06T05:03:31.823Z"
   },
   {
    "duration": 735,
    "start_time": "2022-03-06T05:03:31.829Z"
   },
   {
    "duration": 10,
    "start_time": "2022-03-06T05:03:32.566Z"
   },
   {
    "duration": 337,
    "start_time": "2022-03-06T05:03:32.577Z"
   },
   {
    "duration": -163,
    "start_time": "2022-03-06T05:03:33.079Z"
   },
   {
    "duration": -167,
    "start_time": "2022-03-06T05:03:33.084Z"
   },
   {
    "duration": -170,
    "start_time": "2022-03-06T05:03:33.088Z"
   },
   {
    "duration": -173,
    "start_time": "2022-03-06T05:03:33.092Z"
   },
   {
    "duration": -176,
    "start_time": "2022-03-06T05:03:33.096Z"
   },
   {
    "duration": -188,
    "start_time": "2022-03-06T05:03:33.109Z"
   },
   {
    "duration": -191,
    "start_time": "2022-03-06T05:03:33.113Z"
   },
   {
    "duration": -203,
    "start_time": "2022-03-06T05:03:33.126Z"
   },
   {
    "duration": -206,
    "start_time": "2022-03-06T05:03:33.130Z"
   },
   {
    "duration": -217,
    "start_time": "2022-03-06T05:03:33.142Z"
   },
   {
    "duration": -221,
    "start_time": "2022-03-06T05:03:33.146Z"
   },
   {
    "duration": -232,
    "start_time": "2022-03-06T05:03:33.159Z"
   },
   {
    "duration": -237,
    "start_time": "2022-03-06T05:03:33.165Z"
   },
   {
    "duration": -249,
    "start_time": "2022-03-06T05:03:33.177Z"
   },
   {
    "duration": -253,
    "start_time": "2022-03-06T05:03:33.182Z"
   },
   {
    "duration": -264,
    "start_time": "2022-03-06T05:03:33.194Z"
   },
   {
    "duration": -268,
    "start_time": "2022-03-06T05:03:33.199Z"
   },
   {
    "duration": -279,
    "start_time": "2022-03-06T05:03:33.211Z"
   },
   {
    "duration": -282,
    "start_time": "2022-03-06T05:03:33.215Z"
   },
   {
    "duration": -293,
    "start_time": "2022-03-06T05:03:33.227Z"
   },
   {
    "duration": -297,
    "start_time": "2022-03-06T05:03:33.232Z"
   },
   {
    "duration": -308,
    "start_time": "2022-03-06T05:03:33.244Z"
   },
   {
    "duration": 3237,
    "start_time": "2022-03-06T05:05:39.432Z"
   },
   {
    "duration": 39,
    "start_time": "2022-03-06T05:05:42.671Z"
   },
   {
    "duration": 15,
    "start_time": "2022-03-06T05:05:42.712Z"
   },
   {
    "duration": 7,
    "start_time": "2022-03-06T05:05:42.728Z"
   },
   {
    "duration": 8,
    "start_time": "2022-03-06T05:05:42.736Z"
   },
   {
    "duration": 4,
    "start_time": "2022-03-06T05:05:42.746Z"
   },
   {
    "duration": 10,
    "start_time": "2022-03-06T05:05:42.751Z"
   },
   {
    "duration": 5,
    "start_time": "2022-03-06T05:05:42.763Z"
   },
   {
    "duration": 5,
    "start_time": "2022-03-06T05:05:42.769Z"
   },
   {
    "duration": 32,
    "start_time": "2022-03-06T05:05:42.775Z"
   },
   {
    "duration": 59,
    "start_time": "2022-03-06T05:05:42.808Z"
   },
   {
    "duration": 85,
    "start_time": "2022-03-06T05:05:42.869Z"
   },
   {
    "duration": 6,
    "start_time": "2022-03-06T05:05:42.955Z"
   },
   {
    "duration": 109,
    "start_time": "2022-03-06T05:05:42.963Z"
   },
   {
    "duration": 119,
    "start_time": "2022-03-06T05:05:43.074Z"
   },
   {
    "duration": 12,
    "start_time": "2022-03-06T05:05:43.194Z"
   },
   {
    "duration": 19,
    "start_time": "2022-03-06T05:05:43.207Z"
   },
   {
    "duration": 119,
    "start_time": "2022-03-06T05:05:43.227Z"
   },
   {
    "duration": 4,
    "start_time": "2022-03-06T05:05:43.347Z"
   },
   {
    "duration": 12,
    "start_time": "2022-03-06T05:05:43.352Z"
   },
   {
    "duration": 3,
    "start_time": "2022-03-06T05:05:43.365Z"
   },
   {
    "duration": 19,
    "start_time": "2022-03-06T05:05:43.369Z"
   },
   {
    "duration": 19,
    "start_time": "2022-03-06T05:05:43.390Z"
   },
   {
    "duration": 7,
    "start_time": "2022-03-06T05:05:43.410Z"
   },
   {
    "duration": 5,
    "start_time": "2022-03-06T05:05:43.419Z"
   },
   {
    "duration": 93,
    "start_time": "2022-03-06T05:05:43.425Z"
   },
   {
    "duration": 5,
    "start_time": "2022-03-06T05:05:43.520Z"
   },
   {
    "duration": 128,
    "start_time": "2022-03-06T05:05:43.527Z"
   },
   {
    "duration": 5,
    "start_time": "2022-03-06T05:05:43.656Z"
   },
   {
    "duration": 6,
    "start_time": "2022-03-06T05:05:43.662Z"
   },
   {
    "duration": 4,
    "start_time": "2022-03-06T05:05:43.670Z"
   },
   {
    "duration": 8,
    "start_time": "2022-03-06T05:05:43.675Z"
   },
   {
    "duration": 22,
    "start_time": "2022-03-06T05:05:43.684Z"
   },
   {
    "duration": 2,
    "start_time": "2022-03-06T05:05:43.707Z"
   },
   {
    "duration": 4,
    "start_time": "2022-03-06T05:05:43.711Z"
   },
   {
    "duration": 9,
    "start_time": "2022-03-06T05:05:43.717Z"
   },
   {
    "duration": 15,
    "start_time": "2022-03-06T05:05:43.727Z"
   },
   {
    "duration": 33,
    "start_time": "2022-03-06T05:05:43.772Z"
   },
   {
    "duration": 11,
    "start_time": "2022-03-06T05:05:43.860Z"
   },
   {
    "duration": 7,
    "start_time": "2022-03-06T05:05:43.957Z"
   },
   {
    "duration": 6,
    "start_time": "2022-03-06T05:05:44.029Z"
   },
   {
    "duration": 5,
    "start_time": "2022-03-06T05:05:44.113Z"
   },
   {
    "duration": 5,
    "start_time": "2022-03-06T05:05:44.188Z"
   },
   {
    "duration": 5,
    "start_time": "2022-03-06T05:05:44.274Z"
   },
   {
    "duration": 4,
    "start_time": "2022-03-06T05:05:44.359Z"
   },
   {
    "duration": 6,
    "start_time": "2022-03-06T05:05:44.437Z"
   },
   {
    "duration": 5,
    "start_time": "2022-03-06T05:05:44.533Z"
   },
   {
    "duration": 22,
    "start_time": "2022-03-06T05:05:44.611Z"
   },
   {
    "duration": 11,
    "start_time": "2022-03-06T05:05:44.696Z"
   },
   {
    "duration": 7,
    "start_time": "2022-03-06T05:05:44.772Z"
   },
   {
    "duration": 30,
    "start_time": "2022-03-06T05:05:44.858Z"
   },
   {
    "duration": 8,
    "start_time": "2022-03-06T05:05:44.944Z"
   },
   {
    "duration": 6,
    "start_time": "2022-03-06T05:05:45.022Z"
   },
   {
    "duration": 8,
    "start_time": "2022-03-06T05:05:45.107Z"
   },
   {
    "duration": 13,
    "start_time": "2022-03-06T05:05:45.198Z"
   },
   {
    "duration": 7,
    "start_time": "2022-03-06T05:05:45.437Z"
   },
   {
    "duration": 4,
    "start_time": "2022-03-06T05:05:45.523Z"
   },
   {
    "duration": 8,
    "start_time": "2022-03-06T05:05:45.604Z"
   },
   {
    "duration": 4,
    "start_time": "2022-03-06T05:05:45.689Z"
   },
   {
    "duration": 3,
    "start_time": "2022-03-06T05:05:45.775Z"
   },
   {
    "duration": 7,
    "start_time": "2022-03-06T05:05:45.859Z"
   },
   {
    "duration": 10,
    "start_time": "2022-03-06T05:05:45.945Z"
   },
   {
    "duration": 11,
    "start_time": "2022-03-06T05:05:46.021Z"
   },
   {
    "duration": 12,
    "start_time": "2022-03-06T05:05:46.117Z"
   },
   {
    "duration": 10,
    "start_time": "2022-03-06T05:05:46.196Z"
   },
   {
    "duration": 224,
    "start_time": "2022-03-06T05:05:46.281Z"
   },
   {
    "duration": 97,
    "start_time": "2022-03-06T05:05:46.508Z"
   },
   {
    "duration": 4,
    "start_time": "2022-03-06T05:05:46.607Z"
   },
   {
    "duration": 12,
    "start_time": "2022-03-06T05:05:46.613Z"
   },
   {
    "duration": 9,
    "start_time": "2022-03-06T05:05:46.626Z"
   },
   {
    "duration": 809,
    "start_time": "2022-03-06T05:05:46.699Z"
   },
   {
    "duration": 96,
    "start_time": "2022-03-06T05:05:47.510Z"
   },
   {
    "duration": 8,
    "start_time": "2022-03-06T05:05:47.609Z"
   },
   {
    "duration": 99,
    "start_time": "2022-03-06T05:05:47.619Z"
   },
   {
    "duration": 8,
    "start_time": "2022-03-06T05:05:47.719Z"
   },
   {
    "duration": 5,
    "start_time": "2022-03-06T05:05:47.728Z"
   },
   {
    "duration": 4,
    "start_time": "2022-03-06T05:05:47.734Z"
   },
   {
    "duration": 4,
    "start_time": "2022-03-06T05:05:47.740Z"
   },
   {
    "duration": 5,
    "start_time": "2022-03-06T05:05:47.745Z"
   },
   {
    "duration": 7,
    "start_time": "2022-03-06T05:05:47.751Z"
   },
   {
    "duration": 4851,
    "start_time": "2022-03-06T05:05:47.868Z"
   },
   {
    "duration": 152,
    "start_time": "2022-03-06T05:05:52.722Z"
   },
   {
    "duration": 6,
    "start_time": "2022-03-06T05:05:52.876Z"
   },
   {
    "duration": 805,
    "start_time": "2022-03-06T05:05:52.883Z"
   },
   {
    "duration": 18,
    "start_time": "2022-03-06T05:05:53.690Z"
   },
   {
    "duration": 12,
    "start_time": "2022-03-06T05:05:53.710Z"
   },
   {
    "duration": 24,
    "start_time": "2022-03-06T05:05:53.724Z"
   },
   {
    "duration": 2,
    "start_time": "2022-03-06T05:05:53.751Z"
   },
   {
    "duration": 9,
    "start_time": "2022-03-06T05:05:53.755Z"
   },
   {
    "duration": 5,
    "start_time": "2022-03-06T05:05:53.765Z"
   },
   {
    "duration": 9,
    "start_time": "2022-03-06T05:05:53.771Z"
   },
   {
    "duration": 6726,
    "start_time": "2022-03-06T05:05:53.782Z"
   },
   {
    "duration": 216,
    "start_time": "2022-03-06T05:06:00.509Z"
   },
   {
    "duration": 4,
    "start_time": "2022-03-06T05:06:00.727Z"
   },
   {
    "duration": 736,
    "start_time": "2022-03-06T05:06:00.732Z"
   },
   {
    "duration": 10,
    "start_time": "2022-03-06T05:06:01.470Z"
   },
   {
    "duration": 33429,
    "start_time": "2022-03-06T05:06:01.482Z"
   },
   {
    "duration": -56,
    "start_time": "2022-03-06T05:06:34.970Z"
   },
   {
    "duration": -59,
    "start_time": "2022-03-06T05:06:34.974Z"
   },
   {
    "duration": -107,
    "start_time": "2022-03-06T05:06:35.023Z"
   },
   {
    "duration": -110,
    "start_time": "2022-03-06T05:06:35.027Z"
   },
   {
    "duration": -111,
    "start_time": "2022-03-06T05:06:35.030Z"
   },
   {
    "duration": -114,
    "start_time": "2022-03-06T05:06:35.034Z"
   },
   {
    "duration": -116,
    "start_time": "2022-03-06T05:06:35.037Z"
   },
   {
    "duration": -117,
    "start_time": "2022-03-06T05:06:35.040Z"
   },
   {
    "duration": -119,
    "start_time": "2022-03-06T05:06:35.043Z"
   },
   {
    "duration": -120,
    "start_time": "2022-03-06T05:06:35.046Z"
   },
   {
    "duration": -122,
    "start_time": "2022-03-06T05:06:35.049Z"
   },
   {
    "duration": -124,
    "start_time": "2022-03-06T05:06:35.052Z"
   },
   {
    "duration": -126,
    "start_time": "2022-03-06T05:06:35.055Z"
   },
   {
    "duration": -128,
    "start_time": "2022-03-06T05:06:35.058Z"
   },
   {
    "duration": -129,
    "start_time": "2022-03-06T05:06:35.061Z"
   },
   {
    "duration": -132,
    "start_time": "2022-03-06T05:06:35.065Z"
   },
   {
    "duration": -134,
    "start_time": "2022-03-06T05:06:35.068Z"
   },
   {
    "duration": -136,
    "start_time": "2022-03-06T05:06:35.071Z"
   },
   {
    "duration": -138,
    "start_time": "2022-03-06T05:06:35.074Z"
   },
   {
    "duration": -139,
    "start_time": "2022-03-06T05:06:35.077Z"
   },
   {
    "duration": -142,
    "start_time": "2022-03-06T05:06:35.081Z"
   },
   {
    "duration": -144,
    "start_time": "2022-03-06T05:06:35.084Z"
   },
   {
    "duration": 2970,
    "start_time": "2022-03-06T05:10:22.191Z"
   },
   {
    "duration": 39,
    "start_time": "2022-03-06T05:10:25.163Z"
   },
   {
    "duration": 15,
    "start_time": "2022-03-06T05:10:25.203Z"
   },
   {
    "duration": 6,
    "start_time": "2022-03-06T05:10:25.220Z"
   },
   {
    "duration": 7,
    "start_time": "2022-03-06T05:10:25.228Z"
   },
   {
    "duration": 4,
    "start_time": "2022-03-06T05:10:25.237Z"
   },
   {
    "duration": 7,
    "start_time": "2022-03-06T05:10:25.242Z"
   },
   {
    "duration": 4,
    "start_time": "2022-03-06T05:10:25.251Z"
   },
   {
    "duration": 4,
    "start_time": "2022-03-06T05:10:25.257Z"
   },
   {
    "duration": 5,
    "start_time": "2022-03-06T05:10:25.262Z"
   },
   {
    "duration": 93,
    "start_time": "2022-03-06T05:10:25.268Z"
   },
   {
    "duration": 79,
    "start_time": "2022-03-06T05:10:25.363Z"
   },
   {
    "duration": 6,
    "start_time": "2022-03-06T05:10:25.443Z"
   },
   {
    "duration": 113,
    "start_time": "2022-03-06T05:10:25.450Z"
   },
   {
    "duration": 119,
    "start_time": "2022-03-06T05:10:25.564Z"
   },
   {
    "duration": 5,
    "start_time": "2022-03-06T05:10:25.685Z"
   },
   {
    "duration": 25,
    "start_time": "2022-03-06T05:10:25.691Z"
   },
   {
    "duration": 117,
    "start_time": "2022-03-06T05:10:25.717Z"
   },
   {
    "duration": 4,
    "start_time": "2022-03-06T05:10:25.835Z"
   },
   {
    "duration": 14,
    "start_time": "2022-03-06T05:10:25.840Z"
   },
   {
    "duration": 3,
    "start_time": "2022-03-06T05:10:25.855Z"
   },
   {
    "duration": 19,
    "start_time": "2022-03-06T05:10:25.859Z"
   },
   {
    "duration": 6,
    "start_time": "2022-03-06T05:10:25.880Z"
   },
   {
    "duration": 22,
    "start_time": "2022-03-06T05:10:25.887Z"
   },
   {
    "duration": 6,
    "start_time": "2022-03-06T05:10:25.910Z"
   },
   {
    "duration": 96,
    "start_time": "2022-03-06T05:10:25.917Z"
   },
   {
    "duration": 5,
    "start_time": "2022-03-06T05:10:26.014Z"
   },
   {
    "duration": 126,
    "start_time": "2022-03-06T05:10:26.021Z"
   },
   {
    "duration": 4,
    "start_time": "2022-03-06T05:10:26.149Z"
   },
   {
    "duration": 6,
    "start_time": "2022-03-06T05:10:26.155Z"
   },
   {
    "duration": 4,
    "start_time": "2022-03-06T05:10:26.162Z"
   },
   {
    "duration": 7,
    "start_time": "2022-03-06T05:10:26.168Z"
   },
   {
    "duration": 5,
    "start_time": "2022-03-06T05:10:26.176Z"
   },
   {
    "duration": 2,
    "start_time": "2022-03-06T05:10:26.204Z"
   },
   {
    "duration": 7,
    "start_time": "2022-03-06T05:10:26.208Z"
   },
   {
    "duration": 6,
    "start_time": "2022-03-06T05:10:26.359Z"
   },
   {
    "duration": 11,
    "start_time": "2022-03-06T05:10:26.441Z"
   },
   {
    "duration": 32,
    "start_time": "2022-03-06T05:10:26.521Z"
   },
   {
    "duration": 10,
    "start_time": "2022-03-06T05:10:26.604Z"
   },
   {
    "duration": 5,
    "start_time": "2022-03-06T05:10:26.688Z"
   },
   {
    "duration": 7,
    "start_time": "2022-03-06T05:10:26.790Z"
   },
   {
    "duration": 6,
    "start_time": "2022-03-06T05:10:26.878Z"
   },
   {
    "duration": 5,
    "start_time": "2022-03-06T05:10:26.945Z"
   },
   {
    "duration": 5,
    "start_time": "2022-03-06T05:10:27.023Z"
   },
   {
    "duration": 5,
    "start_time": "2022-03-06T05:10:27.108Z"
   },
   {
    "duration": 5,
    "start_time": "2022-03-06T05:10:27.190Z"
   },
   {
    "duration": 4,
    "start_time": "2022-03-06T05:10:27.273Z"
   },
   {
    "duration": 21,
    "start_time": "2022-03-06T05:10:27.355Z"
   },
   {
    "duration": 10,
    "start_time": "2022-03-06T05:10:27.439Z"
   },
   {
    "duration": 6,
    "start_time": "2022-03-06T05:10:27.522Z"
   },
   {
    "duration": 29,
    "start_time": "2022-03-06T05:10:27.607Z"
   },
   {
    "duration": 7,
    "start_time": "2022-03-06T05:10:27.689Z"
   },
   {
    "duration": 5,
    "start_time": "2022-03-06T05:10:27.774Z"
   },
   {
    "duration": 8,
    "start_time": "2022-03-06T05:10:27.857Z"
   },
   {
    "duration": 12,
    "start_time": "2022-03-06T05:10:27.940Z"
   },
   {
    "duration": 8,
    "start_time": "2022-03-06T05:10:28.194Z"
   },
   {
    "duration": 4,
    "start_time": "2022-03-06T05:10:28.276Z"
   },
   {
    "duration": 8,
    "start_time": "2022-03-06T05:10:28.361Z"
   },
   {
    "duration": 3,
    "start_time": "2022-03-06T05:10:28.443Z"
   },
   {
    "duration": 2,
    "start_time": "2022-03-06T05:10:28.530Z"
   },
   {
    "duration": 6,
    "start_time": "2022-03-06T05:10:28.614Z"
   },
   {
    "duration": 10,
    "start_time": "2022-03-06T05:10:28.695Z"
   },
   {
    "duration": 10,
    "start_time": "2022-03-06T05:10:28.777Z"
   },
   {
    "duration": 12,
    "start_time": "2022-03-06T05:10:28.861Z"
   },
   {
    "duration": 10,
    "start_time": "2022-03-06T05:10:28.945Z"
   },
   {
    "duration": 269,
    "start_time": "2022-03-06T05:10:29.037Z"
   },
   {
    "duration": 97,
    "start_time": "2022-03-06T05:10:29.308Z"
   },
   {
    "duration": 5,
    "start_time": "2022-03-06T05:10:29.407Z"
   },
   {
    "duration": 12,
    "start_time": "2022-03-06T05:10:29.413Z"
   },
   {
    "duration": 11,
    "start_time": "2022-03-06T05:10:29.426Z"
   },
   {
    "duration": 759,
    "start_time": "2022-03-06T05:10:29.448Z"
   },
   {
    "duration": 96,
    "start_time": "2022-03-06T05:10:30.209Z"
   },
   {
    "duration": 6,
    "start_time": "2022-03-06T05:10:30.307Z"
   },
   {
    "duration": 26,
    "start_time": "2022-03-06T05:10:30.314Z"
   },
   {
    "duration": 8,
    "start_time": "2022-03-06T05:10:30.341Z"
   },
   {
    "duration": 8,
    "start_time": "2022-03-06T05:10:30.350Z"
   },
   {
    "duration": 6,
    "start_time": "2022-03-06T05:10:30.359Z"
   },
   {
    "duration": 6,
    "start_time": "2022-03-06T05:10:30.367Z"
   },
   {
    "duration": 7,
    "start_time": "2022-03-06T05:10:30.374Z"
   },
   {
    "duration": 27,
    "start_time": "2022-03-06T05:10:30.382Z"
   },
   {
    "duration": 4376,
    "start_time": "2022-03-06T05:10:30.618Z"
   },
   {
    "duration": 136,
    "start_time": "2022-03-06T05:10:34.995Z"
   },
   {
    "duration": 4,
    "start_time": "2022-03-06T05:10:35.133Z"
   },
   {
    "duration": 741,
    "start_time": "2022-03-06T05:10:35.139Z"
   },
   {
    "duration": 9,
    "start_time": "2022-03-06T05:10:35.882Z"
   },
   {
    "duration": 16,
    "start_time": "2022-03-06T05:10:35.892Z"
   },
   {
    "duration": 22,
    "start_time": "2022-03-06T05:10:35.909Z"
   },
   {
    "duration": 2,
    "start_time": "2022-03-06T05:10:35.933Z"
   },
   {
    "duration": 8,
    "start_time": "2022-03-06T05:10:35.937Z"
   },
   {
    "duration": 5,
    "start_time": "2022-03-06T05:10:35.946Z"
   },
   {
    "duration": 11,
    "start_time": "2022-03-06T05:10:35.952Z"
   },
   {
    "duration": 6130,
    "start_time": "2022-03-06T05:10:35.964Z"
   },
   {
    "duration": 198,
    "start_time": "2022-03-06T05:10:42.096Z"
   },
   {
    "duration": 11,
    "start_time": "2022-03-06T05:10:42.295Z"
   },
   {
    "duration": 733,
    "start_time": "2022-03-06T05:10:42.307Z"
   },
   {
    "duration": 10,
    "start_time": "2022-03-06T05:10:43.041Z"
   },
   {
    "duration": 32066,
    "start_time": "2022-03-06T05:10:43.053Z"
   },
   {
    "duration": 4,
    "start_time": "2022-03-06T05:11:15.121Z"
   },
   {
    "duration": 3,
    "start_time": "2022-03-06T05:11:15.127Z"
   },
   {
    "duration": 67,
    "start_time": "2022-03-06T05:11:15.132Z"
   },
   {
    "duration": 18,
    "start_time": "2022-03-06T05:11:15.200Z"
   },
   {
    "duration": 6,
    "start_time": "2022-03-06T05:11:15.220Z"
   },
   {
    "duration": 3,
    "start_time": "2022-03-06T05:11:15.229Z"
   },
   {
    "duration": 7,
    "start_time": "2022-03-06T05:11:15.234Z"
   },
   {
    "duration": 4652,
    "start_time": "2022-03-06T05:11:15.243Z"
   },
   {
    "duration": 134,
    "start_time": "2022-03-06T05:11:19.896Z"
   },
   {
    "duration": 4,
    "start_time": "2022-03-06T05:11:20.032Z"
   },
   {
    "duration": 742,
    "start_time": "2022-03-06T05:11:20.038Z"
   },
   {
    "duration": 7,
    "start_time": "2022-03-06T05:11:20.782Z"
   },
   {
    "duration": 16,
    "start_time": "2022-03-06T05:11:20.791Z"
   },
   {
    "duration": 5,
    "start_time": "2022-03-06T05:11:20.808Z"
   },
   {
    "duration": 9,
    "start_time": "2022-03-06T05:11:20.814Z"
   },
   {
    "duration": 318,
    "start_time": "2022-03-06T05:11:20.824Z"
   },
   {
    "duration": -135,
    "start_time": "2022-03-06T05:11:21.279Z"
   },
   {
    "duration": -140,
    "start_time": "2022-03-06T05:11:21.285Z"
   },
   {
    "duration": -152,
    "start_time": "2022-03-06T05:11:21.298Z"
   },
   {
    "duration": -166,
    "start_time": "2022-03-06T05:11:21.313Z"
   },
   {
    "duration": -169,
    "start_time": "2022-03-06T05:11:21.317Z"
   },
   {
    "duration": -182,
    "start_time": "2022-03-06T05:11:21.331Z"
   },
   {
    "duration": 3056,
    "start_time": "2022-03-06T06:46:51.504Z"
   },
   {
    "duration": 39,
    "start_time": "2022-03-06T06:46:54.562Z"
   },
   {
    "duration": 15,
    "start_time": "2022-03-06T06:46:54.602Z"
   },
   {
    "duration": 7,
    "start_time": "2022-03-06T06:46:54.618Z"
   },
   {
    "duration": 10,
    "start_time": "2022-03-06T06:46:54.626Z"
   },
   {
    "duration": 5,
    "start_time": "2022-03-06T06:46:54.637Z"
   },
   {
    "duration": 7,
    "start_time": "2022-03-06T06:46:54.643Z"
   },
   {
    "duration": 3,
    "start_time": "2022-03-06T06:46:54.652Z"
   },
   {
    "duration": 6,
    "start_time": "2022-03-06T06:46:54.657Z"
   },
   {
    "duration": 7,
    "start_time": "2022-03-06T06:46:54.664Z"
   },
   {
    "duration": 83,
    "start_time": "2022-03-06T06:46:54.672Z"
   },
   {
    "duration": 80,
    "start_time": "2022-03-06T06:46:54.757Z"
   },
   {
    "duration": 6,
    "start_time": "2022-03-06T06:46:54.839Z"
   },
   {
    "duration": 104,
    "start_time": "2022-03-06T06:46:54.846Z"
   },
   {
    "duration": 123,
    "start_time": "2022-03-06T06:46:54.952Z"
   },
   {
    "duration": 5,
    "start_time": "2022-03-06T06:46:55.076Z"
   },
   {
    "duration": 25,
    "start_time": "2022-03-06T06:46:55.083Z"
   },
   {
    "duration": 119,
    "start_time": "2022-03-06T06:46:55.109Z"
   },
   {
    "duration": 3,
    "start_time": "2022-03-06T06:46:55.230Z"
   },
   {
    "duration": 11,
    "start_time": "2022-03-06T06:46:55.235Z"
   },
   {
    "duration": 4,
    "start_time": "2022-03-06T06:46:55.247Z"
   },
   {
    "duration": 17,
    "start_time": "2022-03-06T06:46:55.253Z"
   },
   {
    "duration": 5,
    "start_time": "2022-03-06T06:46:55.273Z"
   },
   {
    "duration": 27,
    "start_time": "2022-03-06T06:46:55.280Z"
   },
   {
    "duration": 5,
    "start_time": "2022-03-06T06:46:55.308Z"
   },
   {
    "duration": 90,
    "start_time": "2022-03-06T06:46:55.315Z"
   },
   {
    "duration": 5,
    "start_time": "2022-03-06T06:46:55.407Z"
   },
   {
    "duration": 129,
    "start_time": "2022-03-06T06:46:55.413Z"
   },
   {
    "duration": 6,
    "start_time": "2022-03-06T06:46:55.543Z"
   },
   {
    "duration": 7,
    "start_time": "2022-03-06T06:46:55.550Z"
   },
   {
    "duration": 5,
    "start_time": "2022-03-06T06:46:55.558Z"
   },
   {
    "duration": 9,
    "start_time": "2022-03-06T06:46:55.564Z"
   },
   {
    "duration": 5,
    "start_time": "2022-03-06T06:46:55.575Z"
   },
   {
    "duration": 24,
    "start_time": "2022-03-06T06:46:55.581Z"
   },
   {
    "duration": 4,
    "start_time": "2022-03-06T06:46:55.607Z"
   },
   {
    "duration": 6,
    "start_time": "2022-03-06T06:46:55.670Z"
   },
   {
    "duration": 12,
    "start_time": "2022-03-06T06:46:55.749Z"
   },
   {
    "duration": 32,
    "start_time": "2022-03-06T06:46:55.835Z"
   },
   {
    "duration": 10,
    "start_time": "2022-03-06T06:46:55.919Z"
   },
   {
    "duration": 6,
    "start_time": "2022-03-06T06:46:55.998Z"
   },
   {
    "duration": 7,
    "start_time": "2022-03-06T06:46:56.085Z"
   },
   {
    "duration": 8,
    "start_time": "2022-03-06T06:46:56.181Z"
   },
   {
    "duration": 5,
    "start_time": "2022-03-06T06:46:56.253Z"
   },
   {
    "duration": 6,
    "start_time": "2022-03-06T06:46:56.330Z"
   },
   {
    "duration": 5,
    "start_time": "2022-03-06T06:46:56.420Z"
   },
   {
    "duration": 5,
    "start_time": "2022-03-06T06:46:56.498Z"
   },
   {
    "duration": 5,
    "start_time": "2022-03-06T06:46:56.581Z"
   },
   {
    "duration": 23,
    "start_time": "2022-03-06T06:46:56.668Z"
   },
   {
    "duration": 11,
    "start_time": "2022-03-06T06:46:56.759Z"
   },
   {
    "duration": 7,
    "start_time": "2022-03-06T06:46:56.834Z"
   },
   {
    "duration": 30,
    "start_time": "2022-03-06T06:46:56.915Z"
   },
   {
    "duration": 8,
    "start_time": "2022-03-06T06:46:57.011Z"
   },
   {
    "duration": 6,
    "start_time": "2022-03-06T06:46:57.082Z"
   },
   {
    "duration": 9,
    "start_time": "2022-03-06T06:46:57.172Z"
   },
   {
    "duration": 14,
    "start_time": "2022-03-06T06:46:57.248Z"
   },
   {
    "duration": 7,
    "start_time": "2022-03-06T06:46:57.499Z"
   },
   {
    "duration": 4,
    "start_time": "2022-03-06T06:46:57.582Z"
   },
   {
    "duration": 8,
    "start_time": "2022-03-06T06:46:57.665Z"
   },
   {
    "duration": 4,
    "start_time": "2022-03-06T06:46:57.748Z"
   },
   {
    "duration": 2,
    "start_time": "2022-03-06T06:46:57.836Z"
   },
   {
    "duration": 7,
    "start_time": "2022-03-06T06:46:57.918Z"
   },
   {
    "duration": 15,
    "start_time": "2022-03-06T06:46:57.998Z"
   },
   {
    "duration": 11,
    "start_time": "2022-03-06T06:46:58.081Z"
   },
   {
    "duration": 13,
    "start_time": "2022-03-06T06:46:58.171Z"
   },
   {
    "duration": 10,
    "start_time": "2022-03-06T06:46:58.249Z"
   },
   {
    "duration": 274,
    "start_time": "2022-03-06T06:46:58.333Z"
   },
   {
    "duration": 102,
    "start_time": "2022-03-06T06:46:58.610Z"
   },
   {
    "duration": 5,
    "start_time": "2022-03-06T06:46:58.715Z"
   },
   {
    "duration": 86,
    "start_time": "2022-03-06T06:46:58.722Z"
   },
   {
    "duration": 12,
    "start_time": "2022-03-06T06:46:58.809Z"
   },
   {
    "duration": 493,
    "start_time": "2022-03-06T06:46:58.823Z"
   },
   {
    "duration": 93,
    "start_time": "2022-03-06T06:46:59.319Z"
   },
   {
    "duration": 95,
    "start_time": "2022-03-06T06:46:59.415Z"
   },
   {
    "duration": 27,
    "start_time": "2022-03-06T06:46:59.512Z"
   },
   {
    "duration": 8,
    "start_time": "2022-03-06T06:46:59.541Z"
   },
   {
    "duration": 4,
    "start_time": "2022-03-06T06:46:59.550Z"
   },
   {
    "duration": 9,
    "start_time": "2022-03-06T06:46:59.556Z"
   },
   {
    "duration": 12,
    "start_time": "2022-03-06T06:46:59.567Z"
   },
   {
    "duration": 25,
    "start_time": "2022-03-06T06:46:59.580Z"
   },
   {
    "duration": 5,
    "start_time": "2022-03-06T06:46:59.607Z"
   },
   {
    "duration": 4983,
    "start_time": "2022-03-06T06:46:59.919Z"
   },
   {
    "duration": 141,
    "start_time": "2022-03-06T06:47:04.904Z"
   },
   {
    "duration": 5,
    "start_time": "2022-03-06T06:47:05.046Z"
   },
   {
    "duration": 745,
    "start_time": "2022-03-06T06:47:05.053Z"
   },
   {
    "duration": 8,
    "start_time": "2022-03-06T06:47:05.801Z"
   },
   {
    "duration": 11,
    "start_time": "2022-03-06T06:47:05.810Z"
   },
   {
    "duration": 21,
    "start_time": "2022-03-06T06:47:05.823Z"
   },
   {
    "duration": 2,
    "start_time": "2022-03-06T06:47:05.847Z"
   },
   {
    "duration": 7,
    "start_time": "2022-03-06T06:47:05.850Z"
   },
   {
    "duration": 4,
    "start_time": "2022-03-06T06:47:05.858Z"
   },
   {
    "duration": 9,
    "start_time": "2022-03-06T06:47:05.863Z"
   },
   {
    "duration": 6259,
    "start_time": "2022-03-06T06:47:05.873Z"
   },
   {
    "duration": 201,
    "start_time": "2022-03-06T06:47:12.134Z"
   },
   {
    "duration": 4,
    "start_time": "2022-03-06T06:47:12.337Z"
   },
   {
    "duration": 727,
    "start_time": "2022-03-06T06:47:12.342Z"
   },
   {
    "duration": 11,
    "start_time": "2022-03-06T06:47:13.071Z"
   },
   {
    "duration": 3,
    "start_time": "2022-03-06T06:47:13.084Z"
   },
   {
    "duration": 3,
    "start_time": "2022-03-06T06:47:13.105Z"
   },
   {
    "duration": 11,
    "start_time": "2022-03-06T06:47:13.110Z"
   },
   {
    "duration": 2293,
    "start_time": "2022-03-06T06:47:13.123Z"
   },
   {
    "duration": -167,
    "start_time": "2022-03-06T06:47:15.601Z"
   },
   {
    "duration": -171,
    "start_time": "2022-03-06T06:47:15.606Z"
   },
   {
    "duration": -175,
    "start_time": "2022-03-06T06:47:15.610Z"
   },
   {
    "duration": -178,
    "start_time": "2022-03-06T06:47:15.614Z"
   },
   {
    "duration": -180,
    "start_time": "2022-03-06T06:47:15.617Z"
   },
   {
    "duration": -183,
    "start_time": "2022-03-06T06:47:15.621Z"
   },
   {
    "duration": -186,
    "start_time": "2022-03-06T06:47:15.624Z"
   },
   {
    "duration": -189,
    "start_time": "2022-03-06T06:47:15.628Z"
   },
   {
    "duration": -191,
    "start_time": "2022-03-06T06:47:15.631Z"
   },
   {
    "duration": -194,
    "start_time": "2022-03-06T06:47:15.635Z"
   },
   {
    "duration": -196,
    "start_time": "2022-03-06T06:47:15.638Z"
   },
   {
    "duration": -199,
    "start_time": "2022-03-06T06:47:15.641Z"
   },
   {
    "duration": -201,
    "start_time": "2022-03-06T06:47:15.644Z"
   },
   {
    "duration": -204,
    "start_time": "2022-03-06T06:47:15.648Z"
   },
   {
    "duration": -206,
    "start_time": "2022-03-06T06:47:15.651Z"
   },
   {
    "duration": -208,
    "start_time": "2022-03-06T06:47:15.654Z"
   },
   {
    "duration": -211,
    "start_time": "2022-03-06T06:47:15.657Z"
   },
   {
    "duration": -214,
    "start_time": "2022-03-06T06:47:15.661Z"
   },
   {
    "duration": -216,
    "start_time": "2022-03-06T06:47:15.664Z"
   },
   {
    "duration": -218,
    "start_time": "2022-03-06T06:47:15.667Z"
   },
   {
    "duration": -220,
    "start_time": "2022-03-06T06:47:15.670Z"
   },
   {
    "duration": -222,
    "start_time": "2022-03-06T06:47:15.673Z"
   },
   {
    "duration": -224,
    "start_time": "2022-03-06T06:47:15.676Z"
   },
   {
    "duration": -227,
    "start_time": "2022-03-06T06:47:15.680Z"
   },
   {
    "duration": -230,
    "start_time": "2022-03-06T06:47:15.683Z"
   },
   {
    "duration": 3026,
    "start_time": "2022-03-06T06:49:58.359Z"
   },
   {
    "duration": 51,
    "start_time": "2022-03-06T06:50:01.386Z"
   },
   {
    "duration": 15,
    "start_time": "2022-03-06T06:50:01.439Z"
   },
   {
    "duration": 8,
    "start_time": "2022-03-06T06:50:01.455Z"
   },
   {
    "duration": 13,
    "start_time": "2022-03-06T06:50:01.464Z"
   },
   {
    "duration": 14,
    "start_time": "2022-03-06T06:50:01.478Z"
   },
   {
    "duration": 8,
    "start_time": "2022-03-06T06:50:01.493Z"
   },
   {
    "duration": 9,
    "start_time": "2022-03-06T06:50:01.503Z"
   },
   {
    "duration": 14,
    "start_time": "2022-03-06T06:50:01.514Z"
   },
   {
    "duration": 10,
    "start_time": "2022-03-06T06:50:01.529Z"
   },
   {
    "duration": 59,
    "start_time": "2022-03-06T06:50:01.541Z"
   },
   {
    "duration": 73,
    "start_time": "2022-03-06T06:50:01.602Z"
   },
   {
    "duration": 6,
    "start_time": "2022-03-06T06:50:01.677Z"
   },
   {
    "duration": 124,
    "start_time": "2022-03-06T06:50:01.684Z"
   },
   {
    "duration": 125,
    "start_time": "2022-03-06T06:50:01.809Z"
   },
   {
    "duration": 6,
    "start_time": "2022-03-06T06:50:01.936Z"
   },
   {
    "duration": 23,
    "start_time": "2022-03-06T06:50:01.943Z"
   },
   {
    "duration": 116,
    "start_time": "2022-03-06T06:50:01.968Z"
   },
   {
    "duration": 4,
    "start_time": "2022-03-06T06:50:02.085Z"
   },
   {
    "duration": 23,
    "start_time": "2022-03-06T06:50:02.091Z"
   },
   {
    "duration": 7,
    "start_time": "2022-03-06T06:50:02.115Z"
   },
   {
    "duration": 19,
    "start_time": "2022-03-06T06:50:02.123Z"
   },
   {
    "duration": 12,
    "start_time": "2022-03-06T06:50:02.145Z"
   },
   {
    "duration": 7,
    "start_time": "2022-03-06T06:50:02.158Z"
   },
   {
    "duration": 12,
    "start_time": "2022-03-06T06:50:02.167Z"
   },
   {
    "duration": 89,
    "start_time": "2022-03-06T06:50:02.180Z"
   },
   {
    "duration": 5,
    "start_time": "2022-03-06T06:50:02.271Z"
   },
   {
    "duration": 127,
    "start_time": "2022-03-06T06:50:02.278Z"
   },
   {
    "duration": 5,
    "start_time": "2022-03-06T06:50:02.407Z"
   },
   {
    "duration": 16,
    "start_time": "2022-03-06T06:50:02.413Z"
   },
   {
    "duration": 6,
    "start_time": "2022-03-06T06:50:02.430Z"
   },
   {
    "duration": 8,
    "start_time": "2022-03-06T06:50:02.437Z"
   },
   {
    "duration": 7,
    "start_time": "2022-03-06T06:50:02.446Z"
   },
   {
    "duration": 5,
    "start_time": "2022-03-06T06:50:02.454Z"
   },
   {
    "duration": 6,
    "start_time": "2022-03-06T06:50:02.460Z"
   },
   {
    "duration": 7,
    "start_time": "2022-03-06T06:50:02.535Z"
   },
   {
    "duration": 12,
    "start_time": "2022-03-06T06:50:02.620Z"
   },
   {
    "duration": 33,
    "start_time": "2022-03-06T06:50:02.703Z"
   },
   {
    "duration": 12,
    "start_time": "2022-03-06T06:50:02.802Z"
   },
   {
    "duration": 7,
    "start_time": "2022-03-06T06:50:02.869Z"
   },
   {
    "duration": 8,
    "start_time": "2022-03-06T06:50:02.954Z"
   },
   {
    "duration": 6,
    "start_time": "2022-03-06T06:50:03.041Z"
   },
   {
    "duration": 5,
    "start_time": "2022-03-06T06:50:03.141Z"
   },
   {
    "duration": 6,
    "start_time": "2022-03-06T06:50:03.210Z"
   },
   {
    "duration": 5,
    "start_time": "2022-03-06T06:50:03.289Z"
   },
   {
    "duration": 5,
    "start_time": "2022-03-06T06:50:03.374Z"
   },
   {
    "duration": 5,
    "start_time": "2022-03-06T06:50:03.453Z"
   },
   {
    "duration": 22,
    "start_time": "2022-03-06T06:50:03.537Z"
   },
   {
    "duration": 11,
    "start_time": "2022-03-06T06:50:03.621Z"
   },
   {
    "duration": 7,
    "start_time": "2022-03-06T06:50:03.704Z"
   },
   {
    "duration": 30,
    "start_time": "2022-03-06T06:50:03.788Z"
   },
   {
    "duration": 7,
    "start_time": "2022-03-06T06:50:03.871Z"
   },
   {
    "duration": 6,
    "start_time": "2022-03-06T06:50:03.955Z"
   },
   {
    "duration": 8,
    "start_time": "2022-03-06T06:50:04.041Z"
   },
   {
    "duration": 14,
    "start_time": "2022-03-06T06:50:04.122Z"
   },
   {
    "duration": 7,
    "start_time": "2022-03-06T06:50:04.375Z"
   },
   {
    "duration": 4,
    "start_time": "2022-03-06T06:50:04.459Z"
   },
   {
    "duration": 9,
    "start_time": "2022-03-06T06:50:04.547Z"
   },
   {
    "duration": 4,
    "start_time": "2022-03-06T06:50:04.630Z"
   },
   {
    "duration": 2,
    "start_time": "2022-03-06T06:50:04.714Z"
   },
   {
    "duration": 6,
    "start_time": "2022-03-06T06:50:04.799Z"
   },
   {
    "duration": 10,
    "start_time": "2022-03-06T06:50:04.878Z"
   },
   {
    "duration": 11,
    "start_time": "2022-03-06T06:50:04.963Z"
   },
   {
    "duration": 12,
    "start_time": "2022-03-06T06:50:05.048Z"
   },
   {
    "duration": 10,
    "start_time": "2022-03-06T06:50:05.135Z"
   },
   {
    "duration": 290,
    "start_time": "2022-03-06T06:50:05.218Z"
   },
   {
    "duration": 102,
    "start_time": "2022-03-06T06:50:05.511Z"
   },
   {
    "duration": 4,
    "start_time": "2022-03-06T06:50:05.616Z"
   },
   {
    "duration": 14,
    "start_time": "2022-03-06T06:50:05.622Z"
   },
   {
    "duration": 11,
    "start_time": "2022-03-06T06:50:05.637Z"
   },
   {
    "duration": 409,
    "start_time": "2022-03-06T06:50:05.707Z"
   },
   {
    "duration": 96,
    "start_time": "2022-03-06T06:50:06.118Z"
   },
   {
    "duration": 102,
    "start_time": "2022-03-06T06:50:06.216Z"
   },
   {
    "duration": 27,
    "start_time": "2022-03-06T06:50:06.320Z"
   },
   {
    "duration": 8,
    "start_time": "2022-03-06T06:50:06.348Z"
   },
   {
    "duration": 4,
    "start_time": "2022-03-06T06:50:06.357Z"
   },
   {
    "duration": 5,
    "start_time": "2022-03-06T06:50:06.363Z"
   },
   {
    "duration": 4,
    "start_time": "2022-03-06T06:50:06.370Z"
   },
   {
    "duration": 23,
    "start_time": "2022-03-06T06:50:06.382Z"
   },
   {
    "duration": 6,
    "start_time": "2022-03-06T06:50:06.466Z"
   },
   {
    "duration": 4616,
    "start_time": "2022-03-06T06:50:06.808Z"
   },
   {
    "duration": 141,
    "start_time": "2022-03-06T06:50:11.425Z"
   },
   {
    "duration": 4,
    "start_time": "2022-03-06T06:50:11.569Z"
   },
   {
    "duration": 745,
    "start_time": "2022-03-06T06:50:11.575Z"
   },
   {
    "duration": 9,
    "start_time": "2022-03-06T06:50:12.321Z"
   },
   {
    "duration": 14,
    "start_time": "2022-03-06T06:50:12.331Z"
   },
   {
    "duration": 24,
    "start_time": "2022-03-06T06:50:12.347Z"
   },
   {
    "duration": 2,
    "start_time": "2022-03-06T06:50:12.374Z"
   },
   {
    "duration": 32,
    "start_time": "2022-03-06T06:50:12.379Z"
   },
   {
    "duration": 4,
    "start_time": "2022-03-06T06:50:12.413Z"
   },
   {
    "duration": 9,
    "start_time": "2022-03-06T06:50:12.418Z"
   },
   {
    "duration": 6250,
    "start_time": "2022-03-06T06:50:12.428Z"
   },
   {
    "duration": 195,
    "start_time": "2022-03-06T06:50:18.680Z"
   },
   {
    "duration": 6,
    "start_time": "2022-03-06T06:50:18.877Z"
   },
   {
    "duration": 744,
    "start_time": "2022-03-06T06:50:18.884Z"
   },
   {
    "duration": 10,
    "start_time": "2022-03-06T06:50:19.630Z"
   },
   {
    "duration": 2,
    "start_time": "2022-03-06T06:50:19.642Z"
   },
   {
    "duration": 4,
    "start_time": "2022-03-06T06:50:19.645Z"
   },
   {
    "duration": 345,
    "start_time": "2022-03-06T06:50:19.650Z"
   },
   {
    "duration": -115,
    "start_time": "2022-03-06T06:50:20.113Z"
   },
   {
    "duration": -116,
    "start_time": "2022-03-06T06:50:20.115Z"
   },
   {
    "duration": -119,
    "start_time": "2022-03-06T06:50:20.119Z"
   },
   {
    "duration": -121,
    "start_time": "2022-03-06T06:50:20.122Z"
   },
   {
    "duration": -123,
    "start_time": "2022-03-06T06:50:20.125Z"
   },
   {
    "duration": -129,
    "start_time": "2022-03-06T06:50:20.132Z"
   },
   {
    "duration": -131,
    "start_time": "2022-03-06T06:50:20.135Z"
   },
   {
    "duration": -133,
    "start_time": "2022-03-06T06:50:20.138Z"
   },
   {
    "duration": -135,
    "start_time": "2022-03-06T06:50:20.141Z"
   },
   {
    "duration": -137,
    "start_time": "2022-03-06T06:50:20.144Z"
   },
   {
    "duration": -140,
    "start_time": "2022-03-06T06:50:20.148Z"
   },
   {
    "duration": -142,
    "start_time": "2022-03-06T06:50:20.151Z"
   },
   {
    "duration": -144,
    "start_time": "2022-03-06T06:50:20.154Z"
   },
   {
    "duration": -147,
    "start_time": "2022-03-06T06:50:20.157Z"
   },
   {
    "duration": -149,
    "start_time": "2022-03-06T06:50:20.160Z"
   },
   {
    "duration": -151,
    "start_time": "2022-03-06T06:50:20.164Z"
   },
   {
    "duration": -154,
    "start_time": "2022-03-06T06:50:20.167Z"
   },
   {
    "duration": -156,
    "start_time": "2022-03-06T06:50:20.170Z"
   },
   {
    "duration": -158,
    "start_time": "2022-03-06T06:50:20.173Z"
   },
   {
    "duration": -160,
    "start_time": "2022-03-06T06:50:20.176Z"
   },
   {
    "duration": -163,
    "start_time": "2022-03-06T06:50:20.180Z"
   },
   {
    "duration": -165,
    "start_time": "2022-03-06T06:50:20.183Z"
   },
   {
    "duration": -168,
    "start_time": "2022-03-06T06:50:20.187Z"
   },
   {
    "duration": -169,
    "start_time": "2022-03-06T06:50:20.189Z"
   },
   {
    "duration": -172,
    "start_time": "2022-03-06T06:50:20.193Z"
   },
   {
    "duration": -175,
    "start_time": "2022-03-06T06:50:20.197Z"
   },
   {
    "duration": 262,
    "start_time": "2022-03-06T06:50:46.936Z"
   },
   {
    "duration": 249,
    "start_time": "2022-03-06T06:50:47.435Z"
   },
   {
    "duration": -43,
    "start_time": "2022-03-06T06:50:47.728Z"
   },
   {
    "duration": -45,
    "start_time": "2022-03-06T06:50:47.731Z"
   },
   {
    "duration": 2,
    "start_time": "2022-03-06T06:50:48.022Z"
   },
   {
    "duration": 252,
    "start_time": "2022-03-06T06:50:55.353Z"
   },
   {
    "duration": 2,
    "start_time": "2022-03-06T06:51:56.331Z"
   },
   {
    "duration": 3153,
    "start_time": "2022-03-06T07:15:22.439Z"
   },
   {
    "duration": 41,
    "start_time": "2022-03-06T07:15:25.594Z"
   },
   {
    "duration": 16,
    "start_time": "2022-03-06T07:15:25.637Z"
   },
   {
    "duration": 8,
    "start_time": "2022-03-06T07:15:25.655Z"
   },
   {
    "duration": 10,
    "start_time": "2022-03-06T07:15:25.664Z"
   },
   {
    "duration": 7,
    "start_time": "2022-03-06T07:15:25.675Z"
   },
   {
    "duration": 9,
    "start_time": "2022-03-06T07:15:25.683Z"
   },
   {
    "duration": 12,
    "start_time": "2022-03-06T07:15:25.695Z"
   },
   {
    "duration": 4,
    "start_time": "2022-03-06T07:15:25.709Z"
   },
   {
    "duration": 6,
    "start_time": "2022-03-06T07:15:25.715Z"
   },
   {
    "duration": 83,
    "start_time": "2022-03-06T07:15:25.722Z"
   },
   {
    "duration": 81,
    "start_time": "2022-03-06T07:15:25.807Z"
   },
   {
    "duration": 16,
    "start_time": "2022-03-06T07:15:25.889Z"
   },
   {
    "duration": 120,
    "start_time": "2022-03-06T07:15:25.906Z"
   },
   {
    "duration": 151,
    "start_time": "2022-03-06T07:15:26.027Z"
   },
   {
    "duration": 6,
    "start_time": "2022-03-06T07:15:26.180Z"
   },
   {
    "duration": 32,
    "start_time": "2022-03-06T07:15:26.188Z"
   },
   {
    "duration": 121,
    "start_time": "2022-03-06T07:15:26.221Z"
   },
   {
    "duration": 5,
    "start_time": "2022-03-06T07:15:26.343Z"
   },
   {
    "duration": 15,
    "start_time": "2022-03-06T07:15:26.350Z"
   },
   {
    "duration": 4,
    "start_time": "2022-03-06T07:15:26.366Z"
   },
   {
    "duration": 39,
    "start_time": "2022-03-06T07:15:26.371Z"
   },
   {
    "duration": 7,
    "start_time": "2022-03-06T07:15:26.412Z"
   },
   {
    "duration": 28,
    "start_time": "2022-03-06T07:15:26.420Z"
   },
   {
    "duration": 10,
    "start_time": "2022-03-06T07:15:26.450Z"
   },
   {
    "duration": 144,
    "start_time": "2022-03-06T07:15:26.461Z"
   },
   {
    "duration": 8,
    "start_time": "2022-03-06T07:15:26.607Z"
   },
   {
    "duration": 212,
    "start_time": "2022-03-06T07:15:26.617Z"
   },
   {
    "duration": 7,
    "start_time": "2022-03-06T07:15:26.831Z"
   },
   {
    "duration": 33,
    "start_time": "2022-03-06T07:15:26.840Z"
   },
   {
    "duration": 28,
    "start_time": "2022-03-06T07:15:26.875Z"
   },
   {
    "duration": 15,
    "start_time": "2022-03-06T07:15:26.904Z"
   },
   {
    "duration": 36,
    "start_time": "2022-03-06T07:15:26.921Z"
   },
   {
    "duration": 20,
    "start_time": "2022-03-06T07:15:26.958Z"
   },
   {
    "duration": 33,
    "start_time": "2022-03-06T07:15:26.979Z"
   },
   {
    "duration": 31,
    "start_time": "2022-03-06T07:15:27.015Z"
   },
   {
    "duration": 32,
    "start_time": "2022-03-06T07:15:27.048Z"
   },
   {
    "duration": 66,
    "start_time": "2022-03-06T07:15:27.081Z"
   },
   {
    "duration": 12,
    "start_time": "2022-03-06T07:15:27.149Z"
   },
   {
    "duration": 20,
    "start_time": "2022-03-06T07:15:27.163Z"
   },
   {
    "duration": 18,
    "start_time": "2022-03-06T07:15:27.185Z"
   },
   {
    "duration": 14,
    "start_time": "2022-03-06T07:15:27.205Z"
   },
   {
    "duration": 18,
    "start_time": "2022-03-06T07:15:27.221Z"
   },
   {
    "duration": 6,
    "start_time": "2022-03-06T07:15:27.281Z"
   },
   {
    "duration": 5,
    "start_time": "2022-03-06T07:15:27.380Z"
   },
   {
    "duration": 6,
    "start_time": "2022-03-06T07:15:27.446Z"
   },
   {
    "duration": 4,
    "start_time": "2022-03-06T07:15:27.542Z"
   },
   {
    "duration": 21,
    "start_time": "2022-03-06T07:15:27.835Z"
   },
   {
    "duration": 11,
    "start_time": "2022-03-06T07:15:28.342Z"
   },
   {
    "duration": 10,
    "start_time": "2022-03-06T07:15:28.423Z"
   },
   {
    "duration": 33,
    "start_time": "2022-03-06T07:15:28.502Z"
   },
   {
    "duration": 11,
    "start_time": "2022-03-06T07:15:28.585Z"
   },
   {
    "duration": 6,
    "start_time": "2022-03-06T07:15:28.922Z"
   },
   {
    "duration": 8,
    "start_time": "2022-03-06T07:15:29.414Z"
   },
   {
    "duration": 13,
    "start_time": "2022-03-06T07:15:29.489Z"
   },
   {
    "duration": 7,
    "start_time": "2022-03-06T07:15:29.738Z"
   },
   {
    "duration": 4,
    "start_time": "2022-03-06T07:15:29.826Z"
   },
   {
    "duration": 8,
    "start_time": "2022-03-06T07:15:29.905Z"
   },
   {
    "duration": 4,
    "start_time": "2022-03-06T07:15:30.123Z"
   },
   {
    "duration": 3,
    "start_time": "2022-03-06T07:15:30.625Z"
   },
   {
    "duration": 7,
    "start_time": "2022-03-06T07:15:30.711Z"
   },
   {
    "duration": 11,
    "start_time": "2022-03-06T07:15:30.805Z"
   },
   {
    "duration": 11,
    "start_time": "2022-03-06T07:15:30.873Z"
   },
   {
    "duration": 13,
    "start_time": "2022-03-06T07:15:30.961Z"
   },
   {
    "duration": 10,
    "start_time": "2022-03-06T07:15:31.045Z"
   },
   {
    "duration": 183,
    "start_time": "2022-03-06T07:15:31.134Z"
   },
   {
    "duration": 99,
    "start_time": "2022-03-06T07:15:31.407Z"
   },
   {
    "duration": 10,
    "start_time": "2022-03-06T07:15:31.508Z"
   },
   {
    "duration": 13,
    "start_time": "2022-03-06T07:15:31.938Z"
   },
   {
    "duration": 10,
    "start_time": "2022-03-06T07:15:32.030Z"
   },
   {
    "duration": 512,
    "start_time": "2022-03-06T07:15:32.102Z"
   },
   {
    "duration": 90,
    "start_time": "2022-03-06T07:15:32.616Z"
   },
   {
    "duration": 102,
    "start_time": "2022-03-06T07:15:32.709Z"
   },
   {
    "duration": 25,
    "start_time": "2022-03-06T07:15:32.813Z"
   },
   {
    "duration": 7,
    "start_time": "2022-03-06T07:15:32.840Z"
   },
   {
    "duration": 5,
    "start_time": "2022-03-06T07:15:33.245Z"
   },
   {
    "duration": 3,
    "start_time": "2022-03-06T07:15:33.330Z"
   },
   {
    "duration": 4,
    "start_time": "2022-03-06T07:15:33.420Z"
   },
   {
    "duration": 3,
    "start_time": "2022-03-06T07:15:33.712Z"
   },
   {
    "duration": 7,
    "start_time": "2022-03-06T07:15:34.201Z"
   },
   {
    "duration": 7410,
    "start_time": "2022-03-06T07:15:35.285Z"
   },
   {
    "duration": 138,
    "start_time": "2022-03-06T07:15:42.696Z"
   },
   {
    "duration": 4,
    "start_time": "2022-03-06T07:15:42.836Z"
   },
   {
    "duration": 742,
    "start_time": "2022-03-06T07:15:42.842Z"
   },
   {
    "duration": 8,
    "start_time": "2022-03-06T07:15:43.586Z"
   },
   {
    "duration": 21,
    "start_time": "2022-03-06T07:15:43.595Z"
   },
   {
    "duration": 27,
    "start_time": "2022-03-06T07:15:43.617Z"
   },
   {
    "duration": 2,
    "start_time": "2022-03-06T07:15:43.647Z"
   },
   {
    "duration": 15,
    "start_time": "2022-03-06T07:15:43.650Z"
   },
   {
    "duration": 19,
    "start_time": "2022-03-06T07:15:43.667Z"
   },
   {
    "duration": 15,
    "start_time": "2022-03-06T07:15:43.688Z"
   },
   {
    "duration": 10522,
    "start_time": "2022-03-06T07:15:43.704Z"
   },
   {
    "duration": 196,
    "start_time": "2022-03-06T07:15:54.228Z"
   },
   {
    "duration": 5,
    "start_time": "2022-03-06T07:15:54.426Z"
   },
   {
    "duration": 754,
    "start_time": "2022-03-06T07:15:54.432Z"
   },
   {
    "duration": 10,
    "start_time": "2022-03-06T07:15:55.188Z"
   },
   {
    "duration": 362,
    "start_time": "2022-03-06T07:15:55.205Z"
   },
   {
    "duration": -210,
    "start_time": "2022-03-06T07:15:55.779Z"
   },
   {
    "duration": -213,
    "start_time": "2022-03-06T07:15:55.783Z"
   },
   {
    "duration": 11817,
    "start_time": "2022-03-06T07:16:38.511Z"
   },
   {
    "duration": 5,
    "start_time": "2022-03-06T07:16:50.330Z"
   },
   {
    "duration": 8,
    "start_time": "2022-03-06T07:16:50.336Z"
   },
   {
    "duration": 1765,
    "start_time": "2022-03-06T07:16:55.109Z"
   },
   {
    "duration": -159,
    "start_time": "2022-03-06T07:16:57.034Z"
   },
   {
    "duration": -162,
    "start_time": "2022-03-06T07:16:57.038Z"
   },
   {
    "duration": 319598,
    "start_time": "2022-03-06T07:17:06.359Z"
   },
   {
    "duration": 5,
    "start_time": "2022-03-06T07:22:25.959Z"
   },
   {
    "duration": 42,
    "start_time": "2022-03-06T07:22:25.967Z"
   },
   {
    "duration": 4861,
    "start_time": "2022-03-06T07:23:37.339Z"
   },
   {
    "duration": 5,
    "start_time": "2022-03-06T07:23:42.202Z"
   },
   {
    "duration": 8,
    "start_time": "2022-03-06T07:23:42.209Z"
   },
   {
    "duration": 3234,
    "start_time": "2022-03-06T07:23:47.856Z"
   },
   {
    "duration": 4,
    "start_time": "2022-03-06T07:23:51.092Z"
   },
   {
    "duration": 8,
    "start_time": "2022-03-06T07:23:51.098Z"
   },
   {
    "duration": 3932,
    "start_time": "2022-03-06T07:23:54.048Z"
   },
   {
    "duration": 4,
    "start_time": "2022-03-06T07:23:57.981Z"
   },
   {
    "duration": 7,
    "start_time": "2022-03-06T07:23:57.987Z"
   },
   {
    "duration": 6479,
    "start_time": "2022-03-06T07:24:01.470Z"
   },
   {
    "duration": 5,
    "start_time": "2022-03-06T07:24:07.950Z"
   },
   {
    "duration": 10,
    "start_time": "2022-03-06T07:24:07.957Z"
   },
   {
    "duration": 5027,
    "start_time": "2022-03-06T07:24:11.792Z"
   },
   {
    "duration": 4,
    "start_time": "2022-03-06T07:24:16.821Z"
   },
   {
    "duration": 9,
    "start_time": "2022-03-06T07:24:16.827Z"
   },
   {
    "duration": 5054,
    "start_time": "2022-03-06T07:24:31.958Z"
   },
   {
    "duration": 4,
    "start_time": "2022-03-06T07:24:37.014Z"
   },
   {
    "duration": 9,
    "start_time": "2022-03-06T07:24:37.020Z"
   },
   {
    "duration": 5230,
    "start_time": "2022-03-06T07:24:41.104Z"
   },
   {
    "duration": 5,
    "start_time": "2022-03-06T07:24:46.336Z"
   },
   {
    "duration": 8,
    "start_time": "2022-03-06T07:24:46.342Z"
   },
   {
    "duration": 5543,
    "start_time": "2022-03-06T07:24:52.016Z"
   },
   {
    "duration": 6,
    "start_time": "2022-03-06T07:24:57.560Z"
   },
   {
    "duration": 9,
    "start_time": "2022-03-06T07:24:57.568Z"
   },
   {
    "duration": 5343,
    "start_time": "2022-03-06T07:25:00.575Z"
   },
   {
    "duration": 5,
    "start_time": "2022-03-06T07:25:05.919Z"
   },
   {
    "duration": 8,
    "start_time": "2022-03-06T07:25:05.926Z"
   },
   {
    "duration": 5228,
    "start_time": "2022-03-06T07:25:10.784Z"
   },
   {
    "duration": 5,
    "start_time": "2022-03-06T07:25:16.013Z"
   },
   {
    "duration": 17,
    "start_time": "2022-03-06T07:25:16.019Z"
   },
   {
    "duration": 5254,
    "start_time": "2022-03-06T07:25:20.496Z"
   },
   {
    "duration": 5,
    "start_time": "2022-03-06T07:25:25.751Z"
   },
   {
    "duration": 10,
    "start_time": "2022-03-06T07:25:25.758Z"
   },
   {
    "duration": 5219,
    "start_time": "2022-03-06T07:25:30.190Z"
   },
   {
    "duration": 4,
    "start_time": "2022-03-06T07:25:35.411Z"
   },
   {
    "duration": 7,
    "start_time": "2022-03-06T07:25:35.417Z"
   },
   {
    "duration": 6141,
    "start_time": "2022-03-06T07:25:44.062Z"
   },
   {
    "duration": 4,
    "start_time": "2022-03-06T07:25:50.205Z"
   },
   {
    "duration": 8,
    "start_time": "2022-03-06T07:25:50.211Z"
   },
   {
    "duration": 5269,
    "start_time": "2022-03-06T07:25:55.772Z"
   },
   {
    "duration": 5,
    "start_time": "2022-03-06T07:26:01.042Z"
   },
   {
    "duration": 9,
    "start_time": "2022-03-06T07:26:01.049Z"
   },
   {
    "duration": 5863,
    "start_time": "2022-03-06T07:26:05.391Z"
   },
   {
    "duration": 5,
    "start_time": "2022-03-06T07:26:11.256Z"
   },
   {
    "duration": 7,
    "start_time": "2022-03-06T07:26:11.263Z"
   },
   {
    "duration": 5044,
    "start_time": "2022-03-06T07:26:19.859Z"
   },
   {
    "duration": 4,
    "start_time": "2022-03-06T07:26:24.905Z"
   },
   {
    "duration": 10,
    "start_time": "2022-03-06T07:26:24.911Z"
   },
   {
    "duration": 5132,
    "start_time": "2022-03-06T07:26:28.374Z"
   },
   {
    "duration": 4,
    "start_time": "2022-03-06T07:26:33.508Z"
   },
   {
    "duration": 7,
    "start_time": "2022-03-06T07:26:33.514Z"
   },
   {
    "duration": 5292,
    "start_time": "2022-03-06T07:26:36.916Z"
   },
   {
    "duration": 5,
    "start_time": "2022-03-06T07:26:42.209Z"
   },
   {
    "duration": 8,
    "start_time": "2022-03-06T07:26:42.216Z"
   },
   {
    "duration": 5262,
    "start_time": "2022-03-06T07:26:46.240Z"
   },
   {
    "duration": 5,
    "start_time": "2022-03-06T07:26:51.504Z"
   },
   {
    "duration": 9,
    "start_time": "2022-03-06T07:26:51.511Z"
   },
   {
    "duration": 5293,
    "start_time": "2022-03-06T07:26:56.809Z"
   },
   {
    "duration": 5,
    "start_time": "2022-03-06T07:27:02.104Z"
   },
   {
    "duration": 17,
    "start_time": "2022-03-06T07:27:02.111Z"
   },
   {
    "duration": 5502,
    "start_time": "2022-03-06T07:27:07.700Z"
   },
   {
    "duration": 4,
    "start_time": "2022-03-06T07:27:13.204Z"
   },
   {
    "duration": 9,
    "start_time": "2022-03-06T07:27:13.210Z"
   },
   {
    "duration": 5396,
    "start_time": "2022-03-06T07:27:17.212Z"
   },
   {
    "duration": 5,
    "start_time": "2022-03-06T07:27:22.610Z"
   },
   {
    "duration": 8,
    "start_time": "2022-03-06T07:27:22.617Z"
   },
   {
    "duration": 3,
    "start_time": "2022-03-06T07:28:17.462Z"
   },
   {
    "duration": 395,
    "start_time": "2022-03-06T07:28:17.815Z"
   },
   {
    "duration": 248,
    "start_time": "2022-03-06T07:28:18.286Z"
   },
   {
    "duration": 242,
    "start_time": "2022-03-06T07:28:18.850Z"
   },
   {
    "duration": 3,
    "start_time": "2022-03-06T07:28:57.148Z"
   },
   {
    "duration": 251,
    "start_time": "2022-03-06T07:28:57.444Z"
   },
   {
    "duration": 252,
    "start_time": "2022-03-06T07:28:58.263Z"
   },
   {
    "duration": 3,
    "start_time": "2022-03-06T07:30:09.786Z"
   },
   {
    "duration": 3,
    "start_time": "2022-03-06T07:30:11.814Z"
   },
   {
    "duration": 3114,
    "start_time": "2022-03-06T07:31:24.749Z"
   },
   {
    "duration": 38,
    "start_time": "2022-03-06T07:31:27.865Z"
   },
   {
    "duration": 15,
    "start_time": "2022-03-06T07:31:27.905Z"
   },
   {
    "duration": 7,
    "start_time": "2022-03-06T07:31:27.921Z"
   },
   {
    "duration": 8,
    "start_time": "2022-03-06T07:31:27.929Z"
   },
   {
    "duration": 4,
    "start_time": "2022-03-06T07:31:27.939Z"
   },
   {
    "duration": 6,
    "start_time": "2022-03-06T07:31:27.944Z"
   },
   {
    "duration": 3,
    "start_time": "2022-03-06T07:31:27.952Z"
   },
   {
    "duration": 4,
    "start_time": "2022-03-06T07:31:27.957Z"
   },
   {
    "duration": 6,
    "start_time": "2022-03-06T07:31:27.963Z"
   },
   {
    "duration": 88,
    "start_time": "2022-03-06T07:31:27.970Z"
   },
   {
    "duration": 81,
    "start_time": "2022-03-06T07:31:28.060Z"
   },
   {
    "duration": 6,
    "start_time": "2022-03-06T07:31:28.142Z"
   },
   {
    "duration": 115,
    "start_time": "2022-03-06T07:31:28.150Z"
   },
   {
    "duration": 119,
    "start_time": "2022-03-06T07:31:28.267Z"
   },
   {
    "duration": 6,
    "start_time": "2022-03-06T07:31:28.387Z"
   },
   {
    "duration": 22,
    "start_time": "2022-03-06T07:31:28.394Z"
   },
   {
    "duration": 127,
    "start_time": "2022-03-06T07:31:28.417Z"
   },
   {
    "duration": 4,
    "start_time": "2022-03-06T07:31:28.546Z"
   },
   {
    "duration": 11,
    "start_time": "2022-03-06T07:31:28.551Z"
   },
   {
    "duration": 6,
    "start_time": "2022-03-06T07:31:28.563Z"
   },
   {
    "duration": 17,
    "start_time": "2022-03-06T07:31:28.570Z"
   },
   {
    "duration": 20,
    "start_time": "2022-03-06T07:31:28.589Z"
   },
   {
    "duration": 6,
    "start_time": "2022-03-06T07:31:28.610Z"
   },
   {
    "duration": 4,
    "start_time": "2022-03-06T07:31:28.618Z"
   },
   {
    "duration": 96,
    "start_time": "2022-03-06T07:31:28.624Z"
   },
   {
    "duration": 5,
    "start_time": "2022-03-06T07:31:28.721Z"
   },
   {
    "duration": 124,
    "start_time": "2022-03-06T07:31:28.727Z"
   },
   {
    "duration": 5,
    "start_time": "2022-03-06T07:31:28.853Z"
   },
   {
    "duration": 6,
    "start_time": "2022-03-06T07:31:28.859Z"
   },
   {
    "duration": 5,
    "start_time": "2022-03-06T07:31:28.866Z"
   },
   {
    "duration": 8,
    "start_time": "2022-03-06T07:31:28.873Z"
   },
   {
    "duration": 23,
    "start_time": "2022-03-06T07:31:28.883Z"
   },
   {
    "duration": 2,
    "start_time": "2022-03-06T07:31:28.907Z"
   },
   {
    "duration": 4,
    "start_time": "2022-03-06T07:31:28.910Z"
   },
   {
    "duration": 6,
    "start_time": "2022-03-06T07:31:28.932Z"
   },
   {
    "duration": 11,
    "start_time": "2022-03-06T07:31:29.009Z"
   },
   {
    "duration": 32,
    "start_time": "2022-03-06T07:31:29.105Z"
   },
   {
    "duration": 10,
    "start_time": "2022-03-06T07:31:29.187Z"
   },
   {
    "duration": 6,
    "start_time": "2022-03-06T07:31:29.270Z"
   },
   {
    "duration": 7,
    "start_time": "2022-03-06T07:31:29.349Z"
   },
   {
    "duration": 6,
    "start_time": "2022-03-06T07:31:29.429Z"
   },
   {
    "duration": 5,
    "start_time": "2022-03-06T07:31:29.513Z"
   },
   {
    "duration": 5,
    "start_time": "2022-03-06T07:31:29.609Z"
   },
   {
    "duration": 5,
    "start_time": "2022-03-06T07:31:29.681Z"
   },
   {
    "duration": 6,
    "start_time": "2022-03-06T07:31:29.764Z"
   },
   {
    "duration": 4,
    "start_time": "2022-03-06T07:31:29.849Z"
   },
   {
    "duration": 22,
    "start_time": "2022-03-06T07:31:29.931Z"
   },
   {
    "duration": 12,
    "start_time": "2022-03-06T07:31:30.029Z"
   },
   {
    "duration": 6,
    "start_time": "2022-03-06T07:31:30.099Z"
   },
   {
    "duration": 30,
    "start_time": "2022-03-06T07:31:30.189Z"
   },
   {
    "duration": 7,
    "start_time": "2022-03-06T07:31:30.263Z"
   },
   {
    "duration": 6,
    "start_time": "2022-03-06T07:31:30.345Z"
   },
   {
    "duration": 8,
    "start_time": "2022-03-06T07:31:30.433Z"
   },
   {
    "duration": 14,
    "start_time": "2022-03-06T07:31:30.515Z"
   },
   {
    "duration": 7,
    "start_time": "2022-03-06T07:31:30.765Z"
   },
   {
    "duration": 4,
    "start_time": "2022-03-06T07:31:30.851Z"
   },
   {
    "duration": 9,
    "start_time": "2022-03-06T07:31:30.936Z"
   },
   {
    "duration": 4,
    "start_time": "2022-03-06T07:31:31.013Z"
   },
   {
    "duration": 3,
    "start_time": "2022-03-06T07:31:31.098Z"
   },
   {
    "duration": 7,
    "start_time": "2022-03-06T07:31:31.184Z"
   },
   {
    "duration": 12,
    "start_time": "2022-03-06T07:31:31.263Z"
   },
   {
    "duration": 11,
    "start_time": "2022-03-06T07:31:31.350Z"
   },
   {
    "duration": 13,
    "start_time": "2022-03-06T07:31:31.432Z"
   },
   {
    "duration": 10,
    "start_time": "2022-03-06T07:31:31.515Z"
   },
   {
    "duration": 295,
    "start_time": "2022-03-06T07:31:31.611Z"
   },
   {
    "duration": 99,
    "start_time": "2022-03-06T07:31:31.909Z"
   },
   {
    "duration": 4,
    "start_time": "2022-03-06T07:31:32.010Z"
   },
   {
    "duration": 14,
    "start_time": "2022-03-06T07:31:32.015Z"
   },
   {
    "duration": 10,
    "start_time": "2022-03-06T07:31:32.031Z"
   },
   {
    "duration": 670,
    "start_time": "2022-03-06T07:31:32.042Z"
   },
   {
    "duration": 92,
    "start_time": "2022-03-06T07:31:32.714Z"
   },
   {
    "duration": 99,
    "start_time": "2022-03-06T07:31:32.809Z"
   },
   {
    "duration": 30,
    "start_time": "2022-03-06T07:31:32.910Z"
   },
   {
    "duration": 8,
    "start_time": "2022-03-06T07:31:32.941Z"
   },
   {
    "duration": 4,
    "start_time": "2022-03-06T07:31:32.951Z"
   },
   {
    "duration": 5,
    "start_time": "2022-03-06T07:31:32.956Z"
   },
   {
    "duration": 4,
    "start_time": "2022-03-06T07:31:32.963Z"
   },
   {
    "duration": 5,
    "start_time": "2022-03-06T07:31:32.968Z"
   },
   {
    "duration": 35,
    "start_time": "2022-03-06T07:31:32.974Z"
   },
   {
    "duration": 4575,
    "start_time": "2022-03-06T07:31:33.199Z"
   },
   {
    "duration": 139,
    "start_time": "2022-03-06T07:31:37.775Z"
   },
   {
    "duration": 5,
    "start_time": "2022-03-06T07:31:37.915Z"
   },
   {
    "duration": 761,
    "start_time": "2022-03-06T07:31:37.924Z"
   },
   {
    "duration": 18,
    "start_time": "2022-03-06T07:31:38.687Z"
   },
   {
    "duration": 12,
    "start_time": "2022-03-06T07:31:38.706Z"
   },
   {
    "duration": 20,
    "start_time": "2022-03-06T07:31:38.719Z"
   },
   {
    "duration": 2,
    "start_time": "2022-03-06T07:31:38.741Z"
   },
   {
    "duration": 7,
    "start_time": "2022-03-06T07:31:38.745Z"
   },
   {
    "duration": 4,
    "start_time": "2022-03-06T07:31:38.754Z"
   },
   {
    "duration": 8,
    "start_time": "2022-03-06T07:31:38.759Z"
   },
   {
    "duration": 7157,
    "start_time": "2022-03-06T07:31:38.768Z"
   },
   {
    "duration": 306,
    "start_time": "2022-03-06T07:31:45.927Z"
   },
   {
    "duration": 4,
    "start_time": "2022-03-06T07:31:46.235Z"
   },
   {
    "duration": 948,
    "start_time": "2022-03-06T07:31:46.241Z"
   },
   {
    "duration": 19,
    "start_time": "2022-03-06T07:31:47.191Z"
   },
   {
    "duration": 5714,
    "start_time": "2022-03-06T07:31:47.212Z"
   },
   {
    "duration": 4,
    "start_time": "2022-03-06T07:31:52.928Z"
   },
   {
    "duration": 20,
    "start_time": "2022-03-06T07:31:52.934Z"
   },
   {
    "duration": 4,
    "start_time": "2022-03-06T07:31:52.956Z"
   },
   {
    "duration": 11,
    "start_time": "2022-03-06T07:31:52.961Z"
   },
   {
    "duration": 10,
    "start_time": "2022-03-06T07:31:52.974Z"
   },
   {
    "duration": 81548,
    "start_time": "2022-03-06T07:31:52.988Z"
   },
   {
    "duration": 2,
    "start_time": "2022-03-06T07:33:14.538Z"
   },
   {
    "duration": 10,
    "start_time": "2022-03-06T07:33:14.542Z"
   },
   {
    "duration": 4,
    "start_time": "2022-03-06T07:33:14.554Z"
   },
   {
    "duration": 15,
    "start_time": "2022-03-06T07:33:14.559Z"
   },
   {
    "duration": 4,
    "start_time": "2022-03-06T07:33:14.576Z"
   },
   {
    "duration": 67,
    "start_time": "2022-03-06T07:33:14.582Z"
   },
   {
    "duration": 12,
    "start_time": "2022-03-06T07:33:14.651Z"
   },
   {
    "duration": 11,
    "start_time": "2022-03-06T07:33:14.665Z"
   },
   {
    "duration": 3,
    "start_time": "2022-03-06T07:33:14.678Z"
   },
   {
    "duration": 7,
    "start_time": "2022-03-06T07:33:14.683Z"
   },
   {
    "duration": 4603,
    "start_time": "2022-03-06T07:33:14.691Z"
   },
   {
    "duration": 136,
    "start_time": "2022-03-06T07:33:19.296Z"
   },
   {
    "duration": 6,
    "start_time": "2022-03-06T07:33:19.434Z"
   },
   {
    "duration": 753,
    "start_time": "2022-03-06T07:33:19.441Z"
   },
   {
    "duration": 15,
    "start_time": "2022-03-06T07:33:20.196Z"
   },
   {
    "duration": 4,
    "start_time": "2022-03-06T07:33:20.212Z"
   },
   {
    "duration": 4,
    "start_time": "2022-03-06T07:33:20.218Z"
   },
   {
    "duration": 4,
    "start_time": "2022-03-06T07:33:20.224Z"
   },
   {
    "duration": 335586,
    "start_time": "2022-03-06T07:33:20.230Z"
   },
   {
    "duration": 4,
    "start_time": "2022-03-06T07:38:55.817Z"
   },
   {
    "duration": 197,
    "start_time": "2022-03-06T07:38:55.822Z"
   },
   {
    "duration": 140,
    "start_time": "2022-03-06T07:38:56.021Z"
   },
   {
    "duration": 4,
    "start_time": "2022-03-06T07:38:56.162Z"
   },
   {
    "duration": 824,
    "start_time": "2022-03-06T07:38:56.168Z"
   },
   {
    "duration": 16,
    "start_time": "2022-03-06T07:38:56.994Z"
   },
   {
    "duration": 3092,
    "start_time": "2022-03-06T07:52:43.175Z"
   },
   {
    "duration": 38,
    "start_time": "2022-03-06T07:52:46.269Z"
   },
   {
    "duration": 16,
    "start_time": "2022-03-06T07:52:46.309Z"
   },
   {
    "duration": 8,
    "start_time": "2022-03-06T07:52:46.327Z"
   },
   {
    "duration": 9,
    "start_time": "2022-03-06T07:52:46.336Z"
   },
   {
    "duration": 5,
    "start_time": "2022-03-06T07:52:46.347Z"
   },
   {
    "duration": 6,
    "start_time": "2022-03-06T07:52:46.354Z"
   },
   {
    "duration": 6,
    "start_time": "2022-03-06T07:52:46.362Z"
   },
   {
    "duration": 4,
    "start_time": "2022-03-06T07:52:46.406Z"
   },
   {
    "duration": 8,
    "start_time": "2022-03-06T07:52:46.412Z"
   },
   {
    "duration": 61,
    "start_time": "2022-03-06T07:52:46.421Z"
   },
   {
    "duration": 95,
    "start_time": "2022-03-06T07:52:46.483Z"
   },
   {
    "duration": 6,
    "start_time": "2022-03-06T07:52:46.580Z"
   },
   {
    "duration": 121,
    "start_time": "2022-03-06T07:52:46.587Z"
   },
   {
    "duration": 125,
    "start_time": "2022-03-06T07:52:46.709Z"
   },
   {
    "duration": 5,
    "start_time": "2022-03-06T07:52:46.836Z"
   },
   {
    "duration": 18,
    "start_time": "2022-03-06T07:52:46.843Z"
   },
   {
    "duration": 125,
    "start_time": "2022-03-06T07:52:46.862Z"
   },
   {
    "duration": 4,
    "start_time": "2022-03-06T07:52:46.989Z"
   },
   {
    "duration": 13,
    "start_time": "2022-03-06T07:52:46.994Z"
   },
   {
    "duration": 5,
    "start_time": "2022-03-06T07:52:47.009Z"
   },
   {
    "duration": 18,
    "start_time": "2022-03-06T07:52:47.015Z"
   },
   {
    "duration": 6,
    "start_time": "2022-03-06T07:52:47.036Z"
   },
   {
    "duration": 6,
    "start_time": "2022-03-06T07:52:47.043Z"
   },
   {
    "duration": 5,
    "start_time": "2022-03-06T07:52:47.051Z"
   },
   {
    "duration": 109,
    "start_time": "2022-03-06T07:52:47.057Z"
   },
   {
    "duration": 6,
    "start_time": "2022-03-06T07:52:47.168Z"
   },
   {
    "duration": 130,
    "start_time": "2022-03-06T07:52:47.175Z"
   },
   {
    "duration": 6,
    "start_time": "2022-03-06T07:52:47.306Z"
   },
   {
    "duration": 10,
    "start_time": "2022-03-06T07:52:47.313Z"
   },
   {
    "duration": 6,
    "start_time": "2022-03-06T07:52:47.324Z"
   },
   {
    "duration": 5,
    "start_time": "2022-03-06T07:52:47.331Z"
   },
   {
    "duration": 6,
    "start_time": "2022-03-06T07:52:47.337Z"
   },
   {
    "duration": 5,
    "start_time": "2022-03-06T07:52:47.344Z"
   },
   {
    "duration": 6,
    "start_time": "2022-03-06T07:52:47.350Z"
   },
   {
    "duration": 9,
    "start_time": "2022-03-06T07:52:47.358Z"
   },
   {
    "duration": 12,
    "start_time": "2022-03-06T07:52:47.432Z"
   },
   {
    "duration": 33,
    "start_time": "2022-03-06T07:52:47.517Z"
   },
   {
    "duration": 9,
    "start_time": "2022-03-06T07:52:47.611Z"
   },
   {
    "duration": 6,
    "start_time": "2022-03-06T07:52:47.684Z"
   },
   {
    "duration": 6,
    "start_time": "2022-03-06T07:52:47.785Z"
   },
   {
    "duration": 6,
    "start_time": "2022-03-06T07:52:47.861Z"
   },
   {
    "duration": 5,
    "start_time": "2022-03-06T07:52:47.939Z"
   },
   {
    "duration": 6,
    "start_time": "2022-03-06T07:52:48.022Z"
   },
   {
    "duration": 5,
    "start_time": "2022-03-06T07:52:48.113Z"
   },
   {
    "duration": 6,
    "start_time": "2022-03-06T07:52:48.182Z"
   },
   {
    "duration": 5,
    "start_time": "2022-03-06T07:52:48.264Z"
   },
   {
    "duration": 21,
    "start_time": "2022-03-06T07:52:48.349Z"
   },
   {
    "duration": 10,
    "start_time": "2022-03-06T07:52:48.438Z"
   },
   {
    "duration": 7,
    "start_time": "2022-03-06T07:52:48.515Z"
   },
   {
    "duration": 31,
    "start_time": "2022-03-06T07:52:48.603Z"
   },
   {
    "duration": 8,
    "start_time": "2022-03-06T07:52:48.682Z"
   },
   {
    "duration": 5,
    "start_time": "2022-03-06T07:52:48.765Z"
   },
   {
    "duration": 8,
    "start_time": "2022-03-06T07:52:48.863Z"
   },
   {
    "duration": 15,
    "start_time": "2022-03-06T07:52:48.932Z"
   },
   {
    "duration": 9,
    "start_time": "2022-03-06T07:52:49.184Z"
   },
   {
    "duration": 4,
    "start_time": "2022-03-06T07:52:49.272Z"
   },
   {
    "duration": 9,
    "start_time": "2022-03-06T07:52:49.353Z"
   },
   {
    "duration": 3,
    "start_time": "2022-03-06T07:52:49.436Z"
   },
   {
    "duration": 3,
    "start_time": "2022-03-06T07:52:49.519Z"
   },
   {
    "duration": 8,
    "start_time": "2022-03-06T07:52:49.602Z"
   },
   {
    "duration": 11,
    "start_time": "2022-03-06T07:52:49.687Z"
   },
   {
    "duration": 13,
    "start_time": "2022-03-06T07:52:49.775Z"
   },
   {
    "duration": 13,
    "start_time": "2022-03-06T07:52:49.854Z"
   },
   {
    "duration": 11,
    "start_time": "2022-03-06T07:52:49.946Z"
   },
   {
    "duration": 272,
    "start_time": "2022-03-06T07:52:50.034Z"
   },
   {
    "duration": 101,
    "start_time": "2022-03-06T07:52:50.308Z"
   },
   {
    "duration": 7,
    "start_time": "2022-03-06T07:52:50.411Z"
   },
   {
    "duration": 13,
    "start_time": "2022-03-06T07:52:50.419Z"
   },
   {
    "duration": 10,
    "start_time": "2022-03-06T07:52:50.433Z"
   },
   {
    "duration": 662,
    "start_time": "2022-03-06T07:52:50.444Z"
   },
   {
    "duration": 96,
    "start_time": "2022-03-06T07:52:51.110Z"
   },
   {
    "duration": 6,
    "start_time": "2022-03-06T07:52:51.360Z"
   },
   {
    "duration": 26,
    "start_time": "2022-03-06T07:52:51.442Z"
   },
   {
    "duration": 8,
    "start_time": "2022-03-06T07:52:51.529Z"
   },
   {
    "duration": 5,
    "start_time": "2022-03-06T07:52:51.618Z"
   },
   {
    "duration": 4,
    "start_time": "2022-03-06T07:52:51.702Z"
   },
   {
    "duration": 4,
    "start_time": "2022-03-06T07:52:51.780Z"
   },
   {
    "duration": 3,
    "start_time": "2022-03-06T07:52:51.861Z"
   },
   {
    "duration": 6,
    "start_time": "2022-03-06T07:52:52.155Z"
   },
   {
    "duration": 4494,
    "start_time": "2022-03-06T07:52:52.912Z"
   },
   {
    "duration": 141,
    "start_time": "2022-03-06T07:52:57.407Z"
   },
   {
    "duration": 5,
    "start_time": "2022-03-06T07:52:57.550Z"
   },
   {
    "duration": 745,
    "start_time": "2022-03-06T07:52:57.556Z"
   },
   {
    "duration": 9,
    "start_time": "2022-03-06T07:52:58.305Z"
   },
   {
    "duration": 13,
    "start_time": "2022-03-06T07:52:58.315Z"
   },
   {
    "duration": 20,
    "start_time": "2022-03-06T07:52:58.329Z"
   },
   {
    "duration": 2,
    "start_time": "2022-03-06T07:52:58.352Z"
   },
   {
    "duration": 8,
    "start_time": "2022-03-06T07:52:58.355Z"
   },
   {
    "duration": 4,
    "start_time": "2022-03-06T07:52:58.364Z"
   },
   {
    "duration": 40,
    "start_time": "2022-03-06T07:52:58.369Z"
   },
   {
    "duration": 5505,
    "start_time": "2022-03-06T07:52:58.410Z"
   },
   {
    "duration": 207,
    "start_time": "2022-03-06T07:53:03.917Z"
   },
   {
    "duration": 5,
    "start_time": "2022-03-06T07:53:04.125Z"
   },
   {
    "duration": 735,
    "start_time": "2022-03-06T07:53:04.131Z"
   },
   {
    "duration": 11,
    "start_time": "2022-03-06T07:53:04.867Z"
   },
   {
    "duration": 3,
    "start_time": "2022-03-06T07:53:04.879Z"
   },
   {
    "duration": 5,
    "start_time": "2022-03-06T07:53:04.884Z"
   },
   {
    "duration": 3,
    "start_time": "2022-03-06T07:53:04.905Z"
   },
   {
    "duration": 80116,
    "start_time": "2022-03-06T07:53:04.909Z"
   },
   {
    "duration": 2,
    "start_time": "2022-03-06T07:54:25.027Z"
   },
   {
    "duration": 6,
    "start_time": "2022-03-06T07:54:25.030Z"
   },
   {
    "duration": 2,
    "start_time": "2022-03-06T07:54:25.039Z"
   },
   {
    "duration": 65,
    "start_time": "2022-03-06T07:54:25.043Z"
   },
   {
    "duration": 13,
    "start_time": "2022-03-06T07:54:25.110Z"
   },
   {
    "duration": 6,
    "start_time": "2022-03-06T07:54:25.124Z"
   },
   {
    "duration": 50,
    "start_time": "2022-03-06T07:54:25.131Z"
   },
   {
    "duration": 11,
    "start_time": "2022-03-06T07:54:25.182Z"
   },
   {
    "duration": 4801,
    "start_time": "2022-03-06T07:54:25.194Z"
   },
   {
    "duration": 137,
    "start_time": "2022-03-06T07:54:29.996Z"
   },
   {
    "duration": 5,
    "start_time": "2022-03-06T07:54:30.135Z"
   },
   {
    "duration": 743,
    "start_time": "2022-03-06T07:54:30.142Z"
   },
   {
    "duration": 9,
    "start_time": "2022-03-06T07:54:30.887Z"
   },
   {
    "duration": 11,
    "start_time": "2022-03-06T07:54:30.897Z"
   },
   {
    "duration": 14,
    "start_time": "2022-03-06T07:54:30.910Z"
   },
   {
    "duration": 9,
    "start_time": "2022-03-06T07:54:30.926Z"
   },
   {
    "duration": 3107,
    "start_time": "2022-03-06T07:55:40.359Z"
   },
   {
    "duration": 38,
    "start_time": "2022-03-06T07:55:43.468Z"
   },
   {
    "duration": 15,
    "start_time": "2022-03-06T07:55:43.508Z"
   },
   {
    "duration": 10,
    "start_time": "2022-03-06T07:55:43.524Z"
   },
   {
    "duration": 12,
    "start_time": "2022-03-06T07:55:43.535Z"
   },
   {
    "duration": 5,
    "start_time": "2022-03-06T07:55:43.548Z"
   },
   {
    "duration": 9,
    "start_time": "2022-03-06T07:55:43.554Z"
   },
   {
    "duration": 5,
    "start_time": "2022-03-06T07:55:43.565Z"
   },
   {
    "duration": 12,
    "start_time": "2022-03-06T07:55:43.571Z"
   },
   {
    "duration": 19,
    "start_time": "2022-03-06T07:55:43.584Z"
   },
   {
    "duration": 58,
    "start_time": "2022-03-06T07:55:43.605Z"
   },
   {
    "duration": 78,
    "start_time": "2022-03-06T07:55:43.665Z"
   },
   {
    "duration": 5,
    "start_time": "2022-03-06T07:55:43.745Z"
   },
   {
    "duration": 112,
    "start_time": "2022-03-06T07:55:43.752Z"
   },
   {
    "duration": 120,
    "start_time": "2022-03-06T07:55:43.866Z"
   },
   {
    "duration": 6,
    "start_time": "2022-03-06T07:55:43.988Z"
   },
   {
    "duration": 24,
    "start_time": "2022-03-06T07:55:43.995Z"
   },
   {
    "duration": 123,
    "start_time": "2022-03-06T07:55:44.020Z"
   },
   {
    "duration": 3,
    "start_time": "2022-03-06T07:55:44.145Z"
   },
   {
    "duration": 12,
    "start_time": "2022-03-06T07:55:44.150Z"
   },
   {
    "duration": 5,
    "start_time": "2022-03-06T07:55:44.163Z"
   },
   {
    "duration": 18,
    "start_time": "2022-03-06T07:55:44.169Z"
   },
   {
    "duration": 20,
    "start_time": "2022-03-06T07:55:44.189Z"
   },
   {
    "duration": 6,
    "start_time": "2022-03-06T07:55:44.211Z"
   },
   {
    "duration": 5,
    "start_time": "2022-03-06T07:55:44.219Z"
   },
   {
    "duration": 107,
    "start_time": "2022-03-06T07:55:44.225Z"
   },
   {
    "duration": 6,
    "start_time": "2022-03-06T07:55:44.333Z"
   },
   {
    "duration": 124,
    "start_time": "2022-03-06T07:55:44.340Z"
   },
   {
    "duration": 5,
    "start_time": "2022-03-06T07:55:44.466Z"
   },
   {
    "duration": 6,
    "start_time": "2022-03-06T07:55:44.472Z"
   },
   {
    "duration": 5,
    "start_time": "2022-03-06T07:55:44.479Z"
   },
   {
    "duration": 21,
    "start_time": "2022-03-06T07:55:44.486Z"
   },
   {
    "duration": 7,
    "start_time": "2022-03-06T07:55:44.509Z"
   },
   {
    "duration": 3,
    "start_time": "2022-03-06T07:55:44.517Z"
   },
   {
    "duration": 5,
    "start_time": "2022-03-06T07:55:44.521Z"
   },
   {
    "duration": 7,
    "start_time": "2022-03-06T07:55:44.538Z"
   },
   {
    "duration": 12,
    "start_time": "2022-03-06T07:55:44.628Z"
   },
   {
    "duration": 34,
    "start_time": "2022-03-06T07:55:45.969Z"
   },
   {
    "duration": 10,
    "start_time": "2022-03-06T07:55:46.004Z"
   },
   {
    "duration": 7,
    "start_time": "2022-03-06T07:55:46.016Z"
   },
   {
    "duration": 6,
    "start_time": "2022-03-06T07:55:46.025Z"
   },
   {
    "duration": 5,
    "start_time": "2022-03-06T07:55:46.032Z"
   },
   {
    "duration": 5,
    "start_time": "2022-03-06T07:55:46.039Z"
   },
   {
    "duration": 6,
    "start_time": "2022-03-06T07:55:46.045Z"
   },
   {
    "duration": 6,
    "start_time": "2022-03-06T07:55:46.052Z"
   },
   {
    "duration": 11,
    "start_time": "2022-03-06T07:55:46.060Z"
   },
   {
    "duration": 38,
    "start_time": "2022-03-06T07:55:46.072Z"
   },
   {
    "duration": 24,
    "start_time": "2022-03-06T07:55:46.111Z"
   },
   {
    "duration": 11,
    "start_time": "2022-03-06T07:55:46.136Z"
   },
   {
    "duration": 8,
    "start_time": "2022-03-06T07:55:46.149Z"
   },
   {
    "duration": 22,
    "start_time": "2022-03-06T07:55:46.158Z"
   },
   {
    "duration": 8,
    "start_time": "2022-03-06T07:55:46.182Z"
   },
   {
    "duration": 14,
    "start_time": "2022-03-06T07:55:46.192Z"
   },
   {
    "duration": 8,
    "start_time": "2022-03-06T07:55:46.208Z"
   },
   {
    "duration": 13,
    "start_time": "2022-03-06T07:55:46.218Z"
   },
   {
    "duration": 7,
    "start_time": "2022-03-06T07:55:46.382Z"
   },
   {
    "duration": 3,
    "start_time": "2022-03-06T07:55:46.465Z"
   },
   {
    "duration": 8,
    "start_time": "2022-03-06T07:55:46.559Z"
   },
   {
    "duration": 4,
    "start_time": "2022-03-06T07:55:46.631Z"
   },
   {
    "duration": 2,
    "start_time": "2022-03-06T07:55:46.717Z"
   },
   {
    "duration": 8,
    "start_time": "2022-03-06T07:55:46.801Z"
   },
   {
    "duration": 10,
    "start_time": "2022-03-06T07:55:46.887Z"
   },
   {
    "duration": 12,
    "start_time": "2022-03-06T07:55:46.970Z"
   },
   {
    "duration": 13,
    "start_time": "2022-03-06T07:55:47.052Z"
   },
   {
    "duration": 11,
    "start_time": "2022-03-06T07:55:47.131Z"
   },
   {
    "duration": 286,
    "start_time": "2022-03-06T07:55:47.221Z"
   },
   {
    "duration": 102,
    "start_time": "2022-03-06T07:55:47.509Z"
   },
   {
    "duration": 6,
    "start_time": "2022-03-06T07:55:47.613Z"
   },
   {
    "duration": 16,
    "start_time": "2022-03-06T07:55:47.620Z"
   },
   {
    "duration": 13,
    "start_time": "2022-03-06T07:55:47.637Z"
   },
   {
    "duration": 661,
    "start_time": "2022-03-06T07:55:47.651Z"
   },
   {
    "duration": 92,
    "start_time": "2022-03-06T07:55:48.314Z"
   },
   {
    "duration": 100,
    "start_time": "2022-03-06T07:55:48.409Z"
   },
   {
    "duration": 26,
    "start_time": "2022-03-06T07:55:48.511Z"
   },
   {
    "duration": 7,
    "start_time": "2022-03-06T07:55:48.538Z"
   },
   {
    "duration": 4,
    "start_time": "2022-03-06T07:55:48.547Z"
   },
   {
    "duration": 4,
    "start_time": "2022-03-06T07:55:48.552Z"
   },
   {
    "duration": 5,
    "start_time": "2022-03-06T07:55:48.558Z"
   },
   {
    "duration": 4,
    "start_time": "2022-03-06T07:55:48.564Z"
   },
   {
    "duration": 37,
    "start_time": "2022-03-06T07:55:48.570Z"
   },
   {
    "duration": 5220,
    "start_time": "2022-03-06T07:55:48.810Z"
   },
   {
    "duration": 156,
    "start_time": "2022-03-06T07:55:54.032Z"
   },
   {
    "duration": 14,
    "start_time": "2022-03-06T07:55:54.191Z"
   },
   {
    "duration": 822,
    "start_time": "2022-03-06T07:55:54.207Z"
   },
   {
    "duration": 9,
    "start_time": "2022-03-06T07:55:55.031Z"
   },
   {
    "duration": 14,
    "start_time": "2022-03-06T07:55:55.041Z"
   },
   {
    "duration": 24,
    "start_time": "2022-03-06T07:55:55.057Z"
   },
   {
    "duration": 22,
    "start_time": "2022-03-06T07:55:55.083Z"
   },
   {
    "duration": 7,
    "start_time": "2022-03-06T07:55:55.108Z"
   },
   {
    "duration": 4,
    "start_time": "2022-03-06T07:55:55.117Z"
   },
   {
    "duration": 9,
    "start_time": "2022-03-06T07:55:55.123Z"
   },
   {
    "duration": 5790,
    "start_time": "2022-03-06T07:55:55.134Z"
   },
   {
    "duration": 221,
    "start_time": "2022-03-06T07:56:00.926Z"
   },
   {
    "duration": 4,
    "start_time": "2022-03-06T07:56:01.149Z"
   },
   {
    "duration": 860,
    "start_time": "2022-03-06T07:56:01.154Z"
   },
   {
    "duration": 12,
    "start_time": "2022-03-06T07:56:02.016Z"
   },
   {
    "duration": 12,
    "start_time": "2022-03-06T07:56:02.029Z"
   },
   {
    "duration": 8,
    "start_time": "2022-03-06T07:56:02.043Z"
   },
   {
    "duration": 10,
    "start_time": "2022-03-06T07:56:02.052Z"
   },
   {
    "duration": 105549,
    "start_time": "2022-03-06T07:56:02.064Z"
   },
   {
    "duration": 3,
    "start_time": "2022-03-06T07:57:47.614Z"
   },
   {
    "duration": 5,
    "start_time": "2022-03-06T07:57:47.618Z"
   },
   {
    "duration": 3,
    "start_time": "2022-03-06T07:57:47.626Z"
   },
   {
    "duration": 75,
    "start_time": "2022-03-06T07:57:47.630Z"
   },
   {
    "duration": 12,
    "start_time": "2022-03-06T07:57:47.707Z"
   },
   {
    "duration": 5,
    "start_time": "2022-03-06T07:57:47.720Z"
   },
   {
    "duration": 3,
    "start_time": "2022-03-06T07:57:47.726Z"
   },
   {
    "duration": 11,
    "start_time": "2022-03-06T07:57:47.731Z"
   },
   {
    "duration": 4653,
    "start_time": "2022-03-06T07:57:47.743Z"
   },
   {
    "duration": 136,
    "start_time": "2022-03-06T07:57:52.398Z"
   },
   {
    "duration": 4,
    "start_time": "2022-03-06T07:57:52.536Z"
   },
   {
    "duration": 833,
    "start_time": "2022-03-06T07:57:52.541Z"
   },
   {
    "duration": 8,
    "start_time": "2022-03-06T07:57:53.376Z"
   },
   {
    "duration": 4,
    "start_time": "2022-03-06T07:57:53.386Z"
   },
   {
    "duration": 14,
    "start_time": "2022-03-06T07:57:53.392Z"
   },
   {
    "duration": 3,
    "start_time": "2022-03-06T07:57:53.408Z"
   },
   {
    "duration": 327098,
    "start_time": "2022-03-06T07:57:53.413Z"
   },
   {
    "duration": 3,
    "start_time": "2022-03-06T08:03:20.513Z"
   },
   {
    "duration": 195,
    "start_time": "2022-03-06T08:03:20.517Z"
   },
   {
    "duration": 136,
    "start_time": "2022-03-06T08:03:20.714Z"
   },
   {
    "duration": 5,
    "start_time": "2022-03-06T08:03:20.851Z"
   },
   {
    "duration": 746,
    "start_time": "2022-03-06T08:03:20.857Z"
   },
   {
    "duration": 17,
    "start_time": "2022-03-06T08:03:21.605Z"
   },
   {
    "duration": 2,
    "start_time": "2022-03-06T08:03:21.623Z"
   },
   {
    "duration": 3,
    "start_time": "2022-03-06T08:03:21.627Z"
   }
  ],
  "kernelspec": {
   "display_name": "Python 3 (ipykernel)",
   "language": "python",
   "name": "python3"
  },
  "language_info": {
   "codemirror_mode": {
    "name": "ipython",
    "version": 3
   },
   "file_extension": ".py",
   "mimetype": "text/x-python",
   "name": "python",
   "nbconvert_exporter": "python",
   "pygments_lexer": "ipython3",
   "version": "3.7.0"
  },
  "toc": {
   "base_numbering": 1,
   "nav_menu": {},
   "number_sections": true,
   "sideBar": true,
   "skip_h1_title": true,
   "title_cell": "Содержание",
   "title_sidebar": "Contents",
   "toc_cell": true,
   "toc_position": {},
   "toc_section_display": true,
   "toc_window_display": true
  }
 },
 "nbformat": 4,
 "nbformat_minor": 2
}
