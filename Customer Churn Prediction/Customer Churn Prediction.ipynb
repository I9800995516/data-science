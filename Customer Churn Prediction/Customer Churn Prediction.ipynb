{
 "cells": [
  {
   "cell_type": "markdown",
   "metadata": {
    "toc": true
   },
   "source": [
    "<h1>Содержание<span class=\"tocSkip\"></span></h1>\n",
    "<div class=\"toc\"><ul class=\"toc-item\"><li><span><a href=\"#Получение-данных-и-их-оценка\" data-toc-modified-id=\"Получение-данных-и-их-оценка-1\"><span class=\"toc-item-num\">1&nbsp;&nbsp;</span>Получение данных и их оценка</a></span><ul class=\"toc-item\"><li><span><a href=\"#Описание-данных\" data-toc-modified-id=\"Описание-данных-1.1\"><span class=\"toc-item-num\">1.1&nbsp;&nbsp;</span>Описание данных</a></span></li></ul></li><li><span><a href=\"#Предобработка-данных\" data-toc-modified-id=\"Предобработка-данных-2\"><span class=\"toc-item-num\">2&nbsp;&nbsp;</span>Предобработка данных</a></span></li><li><span><a href=\"#Подготовка-признаков,-целевого-признака-и-разбиение-на-выборки\" data-toc-modified-id=\"Подготовка-признаков,-целевого-признака-и-разбиение-на-выборки-3\"><span class=\"toc-item-num\">3&nbsp;&nbsp;</span>Подготовка признаков, целевого признака и разбиение на выборки</a></span><ul class=\"toc-item\"><li><span><a href=\"#Масштабирование-признаков\" data-toc-modified-id=\"Масштабирование-признаков-3.1\"><span class=\"toc-item-num\">3.1&nbsp;&nbsp;</span>Масштабирование признаков</a></span></li></ul></li><li><span><a href=\"#Построение-моделей,-исследование-и-подбор-гиперпараметров\" data-toc-modified-id=\"Построение-моделей,-исследование-и-подбор-гиперпараметров-4\"><span class=\"toc-item-num\">4&nbsp;&nbsp;</span>Построение моделей, исследование и подбор гиперпараметров</a></span><ul class=\"toc-item\"><li><span><a href=\"#DecisionTreeClassifier-в-качестве-пробной-модели\" data-toc-modified-id=\"DecisionTreeClassifier-в-качестве-пробной-модели-4.1\"><span class=\"toc-item-num\">4.1&nbsp;&nbsp;</span>DecisionTreeClassifier в качестве пробной модели</a></span></li><li><span><a href=\"#Борьба-с-дисбалансом\" data-toc-modified-id=\"Борьба-с-дисбалансом-4.2\"><span class=\"toc-item-num\">4.2&nbsp;&nbsp;</span>Борьба с дисбалансом</a></span></li><li><span><a href=\"#Нахождение-оптимальных-параметров-моделей\" data-toc-modified-id=\"Нахождение-оптимальных-параметров-моделей-4.3\"><span class=\"toc-item-num\">4.3&nbsp;&nbsp;</span>Нахождение оптимальных параметров моделей</a></span></li></ul></li><li><span><a href=\"#Тестирование-лучшей-модели\" data-toc-modified-id=\"Тестирование-лучшей-модели-5\"><span class=\"toc-item-num\">5&nbsp;&nbsp;</span>Тестирование лучшей модели</a></span></li><li><span><a href=\"#Вывод\" data-toc-modified-id=\"Вывод-6\"><span class=\"toc-item-num\">6&nbsp;&nbsp;</span>Вывод</a></span></li></ul></div>"
   ]
  },
  {
   "cell_type": "markdown",
   "metadata": {},
   "source": [
    "# Отток клиентов"
   ]
  },
  {
   "cell_type": "markdown",
   "metadata": {},
   "source": [
    "Из банка стали уходить клиенты. Банковские маркетологи посчитали: сохранять текущих клиентов дешевле, чем привлекать новых.\n",
    "\n",
    "Предоставлены исторические данные о поведении клиентов и расторжении договоров с банком. \n",
    "\n",
    "Задача: спрогнозировать, уйдёт клиент из банка в ближайшее время или нет. Перед нами задача классификации.\n",
    "\n",
    "Подробности: нужно построить модель на основе алгоритмов машинного обучения, которая спрогнозирует отток клиентов банка. Нужно построить модель с предельно большим значением *F1*-меры (больше 0.59) на тестовой выборке. \n",
    "\n",
    "Дополнительно: нужно измерить *AUC-ROC*, сравнивнить её значение с *F1*-мерой."
   ]
  },
  {
   "cell_type": "markdown",
   "metadata": {},
   "source": [
    "## Получение данных и их оценка"
   ]
  },
  {
   "cell_type": "code",
   "execution_count": 1,
   "metadata": {},
   "outputs": [],
   "source": [
    "import pandas as pd\n",
    "import numpy as np\n",
    "%matplotlib inline\n",
    "import matplotlib.pyplot as plt\n",
    "from sklearn.tree import DecisionTreeClassifier\n",
    "from sklearn.ensemble import RandomForestClassifier\n",
    "from sklearn.metrics import accuracy_score\n",
    "from sklearn.dummy import DummyClassifier\n",
    "from sklearn.model_selection import train_test_split\n",
    "from sklearn.preprocessing import StandardScaler\n",
    "from sklearn.metrics import f1_score\n",
    "from sklearn.utils import shuffle\n",
    "from sklearn.linear_model import LogisticRegression\n",
    "from sklearn.metrics import precision_score, recall_score\n",
    "from sklearn.metrics import roc_auc_score \n",
    "from sklearn.metrics import roc_curve "
   ]
  },
  {
   "cell_type": "code",
   "execution_count": 2,
   "metadata": {},
   "outputs": [
    {
     "data": {
      "text/html": [
       "<div>\n",
       "<style scoped>\n",
       "    .dataframe tbody tr th:only-of-type {\n",
       "        vertical-align: middle;\n",
       "    }\n",
       "\n",
       "    .dataframe tbody tr th {\n",
       "        vertical-align: top;\n",
       "    }\n",
       "\n",
       "    .dataframe thead th {\n",
       "        text-align: right;\n",
       "    }\n",
       "</style>\n",
       "<table border=\"1\" class=\"dataframe\">\n",
       "  <thead>\n",
       "    <tr style=\"text-align: right;\">\n",
       "      <th></th>\n",
       "      <th>RowNumber</th>\n",
       "      <th>CustomerId</th>\n",
       "      <th>Surname</th>\n",
       "      <th>CreditScore</th>\n",
       "      <th>Geography</th>\n",
       "      <th>Gender</th>\n",
       "      <th>Age</th>\n",
       "      <th>Tenure</th>\n",
       "      <th>Balance</th>\n",
       "      <th>NumOfProducts</th>\n",
       "      <th>HasCrCard</th>\n",
       "      <th>IsActiveMember</th>\n",
       "      <th>EstimatedSalary</th>\n",
       "      <th>Exited</th>\n",
       "    </tr>\n",
       "  </thead>\n",
       "  <tbody>\n",
       "    <tr>\n",
       "      <th>0</th>\n",
       "      <td>1</td>\n",
       "      <td>15634602</td>\n",
       "      <td>Hargrave</td>\n",
       "      <td>619</td>\n",
       "      <td>France</td>\n",
       "      <td>Female</td>\n",
       "      <td>42</td>\n",
       "      <td>2.0</td>\n",
       "      <td>0.00</td>\n",
       "      <td>1</td>\n",
       "      <td>1</td>\n",
       "      <td>1</td>\n",
       "      <td>101348.88</td>\n",
       "      <td>1</td>\n",
       "    </tr>\n",
       "    <tr>\n",
       "      <th>1</th>\n",
       "      <td>2</td>\n",
       "      <td>15647311</td>\n",
       "      <td>Hill</td>\n",
       "      <td>608</td>\n",
       "      <td>Spain</td>\n",
       "      <td>Female</td>\n",
       "      <td>41</td>\n",
       "      <td>1.0</td>\n",
       "      <td>83807.86</td>\n",
       "      <td>1</td>\n",
       "      <td>0</td>\n",
       "      <td>1</td>\n",
       "      <td>112542.58</td>\n",
       "      <td>0</td>\n",
       "    </tr>\n",
       "    <tr>\n",
       "      <th>2</th>\n",
       "      <td>3</td>\n",
       "      <td>15619304</td>\n",
       "      <td>Onio</td>\n",
       "      <td>502</td>\n",
       "      <td>France</td>\n",
       "      <td>Female</td>\n",
       "      <td>42</td>\n",
       "      <td>8.0</td>\n",
       "      <td>159660.80</td>\n",
       "      <td>3</td>\n",
       "      <td>1</td>\n",
       "      <td>0</td>\n",
       "      <td>113931.57</td>\n",
       "      <td>1</td>\n",
       "    </tr>\n",
       "    <tr>\n",
       "      <th>3</th>\n",
       "      <td>4</td>\n",
       "      <td>15701354</td>\n",
       "      <td>Boni</td>\n",
       "      <td>699</td>\n",
       "      <td>France</td>\n",
       "      <td>Female</td>\n",
       "      <td>39</td>\n",
       "      <td>1.0</td>\n",
       "      <td>0.00</td>\n",
       "      <td>2</td>\n",
       "      <td>0</td>\n",
       "      <td>0</td>\n",
       "      <td>93826.63</td>\n",
       "      <td>0</td>\n",
       "    </tr>\n",
       "    <tr>\n",
       "      <th>4</th>\n",
       "      <td>5</td>\n",
       "      <td>15737888</td>\n",
       "      <td>Mitchell</td>\n",
       "      <td>850</td>\n",
       "      <td>Spain</td>\n",
       "      <td>Female</td>\n",
       "      <td>43</td>\n",
       "      <td>2.0</td>\n",
       "      <td>125510.82</td>\n",
       "      <td>1</td>\n",
       "      <td>1</td>\n",
       "      <td>1</td>\n",
       "      <td>79084.10</td>\n",
       "      <td>0</td>\n",
       "    </tr>\n",
       "    <tr>\n",
       "      <th>...</th>\n",
       "      <td>...</td>\n",
       "      <td>...</td>\n",
       "      <td>...</td>\n",
       "      <td>...</td>\n",
       "      <td>...</td>\n",
       "      <td>...</td>\n",
       "      <td>...</td>\n",
       "      <td>...</td>\n",
       "      <td>...</td>\n",
       "      <td>...</td>\n",
       "      <td>...</td>\n",
       "      <td>...</td>\n",
       "      <td>...</td>\n",
       "      <td>...</td>\n",
       "    </tr>\n",
       "    <tr>\n",
       "      <th>9995</th>\n",
       "      <td>9996</td>\n",
       "      <td>15606229</td>\n",
       "      <td>Obijiaku</td>\n",
       "      <td>771</td>\n",
       "      <td>France</td>\n",
       "      <td>Male</td>\n",
       "      <td>39</td>\n",
       "      <td>5.0</td>\n",
       "      <td>0.00</td>\n",
       "      <td>2</td>\n",
       "      <td>1</td>\n",
       "      <td>0</td>\n",
       "      <td>96270.64</td>\n",
       "      <td>0</td>\n",
       "    </tr>\n",
       "    <tr>\n",
       "      <th>9996</th>\n",
       "      <td>9997</td>\n",
       "      <td>15569892</td>\n",
       "      <td>Johnstone</td>\n",
       "      <td>516</td>\n",
       "      <td>France</td>\n",
       "      <td>Male</td>\n",
       "      <td>35</td>\n",
       "      <td>10.0</td>\n",
       "      <td>57369.61</td>\n",
       "      <td>1</td>\n",
       "      <td>1</td>\n",
       "      <td>1</td>\n",
       "      <td>101699.77</td>\n",
       "      <td>0</td>\n",
       "    </tr>\n",
       "    <tr>\n",
       "      <th>9997</th>\n",
       "      <td>9998</td>\n",
       "      <td>15584532</td>\n",
       "      <td>Liu</td>\n",
       "      <td>709</td>\n",
       "      <td>France</td>\n",
       "      <td>Female</td>\n",
       "      <td>36</td>\n",
       "      <td>7.0</td>\n",
       "      <td>0.00</td>\n",
       "      <td>1</td>\n",
       "      <td>0</td>\n",
       "      <td>1</td>\n",
       "      <td>42085.58</td>\n",
       "      <td>1</td>\n",
       "    </tr>\n",
       "    <tr>\n",
       "      <th>9998</th>\n",
       "      <td>9999</td>\n",
       "      <td>15682355</td>\n",
       "      <td>Sabbatini</td>\n",
       "      <td>772</td>\n",
       "      <td>Germany</td>\n",
       "      <td>Male</td>\n",
       "      <td>42</td>\n",
       "      <td>3.0</td>\n",
       "      <td>75075.31</td>\n",
       "      <td>2</td>\n",
       "      <td>1</td>\n",
       "      <td>0</td>\n",
       "      <td>92888.52</td>\n",
       "      <td>1</td>\n",
       "    </tr>\n",
       "    <tr>\n",
       "      <th>9999</th>\n",
       "      <td>10000</td>\n",
       "      <td>15628319</td>\n",
       "      <td>Walker</td>\n",
       "      <td>792</td>\n",
       "      <td>France</td>\n",
       "      <td>Female</td>\n",
       "      <td>28</td>\n",
       "      <td>NaN</td>\n",
       "      <td>130142.79</td>\n",
       "      <td>1</td>\n",
       "      <td>1</td>\n",
       "      <td>0</td>\n",
       "      <td>38190.78</td>\n",
       "      <td>0</td>\n",
       "    </tr>\n",
       "  </tbody>\n",
       "</table>\n",
       "<p>10000 rows × 14 columns</p>\n",
       "</div>"
      ],
      "text/plain": [
       "      RowNumber  CustomerId    Surname  CreditScore Geography  Gender  Age  \\\n",
       "0             1    15634602   Hargrave          619    France  Female   42   \n",
       "1             2    15647311       Hill          608     Spain  Female   41   \n",
       "2             3    15619304       Onio          502    France  Female   42   \n",
       "3             4    15701354       Boni          699    France  Female   39   \n",
       "4             5    15737888   Mitchell          850     Spain  Female   43   \n",
       "...         ...         ...        ...          ...       ...     ...  ...   \n",
       "9995       9996    15606229   Obijiaku          771    France    Male   39   \n",
       "9996       9997    15569892  Johnstone          516    France    Male   35   \n",
       "9997       9998    15584532        Liu          709    France  Female   36   \n",
       "9998       9999    15682355  Sabbatini          772   Germany    Male   42   \n",
       "9999      10000    15628319     Walker          792    France  Female   28   \n",
       "\n",
       "      Tenure    Balance  NumOfProducts  HasCrCard  IsActiveMember  \\\n",
       "0        2.0       0.00              1          1               1   \n",
       "1        1.0   83807.86              1          0               1   \n",
       "2        8.0  159660.80              3          1               0   \n",
       "3        1.0       0.00              2          0               0   \n",
       "4        2.0  125510.82              1          1               1   \n",
       "...      ...        ...            ...        ...             ...   \n",
       "9995     5.0       0.00              2          1               0   \n",
       "9996    10.0   57369.61              1          1               1   \n",
       "9997     7.0       0.00              1          0               1   \n",
       "9998     3.0   75075.31              2          1               0   \n",
       "9999     NaN  130142.79              1          1               0   \n",
       "\n",
       "      EstimatedSalary  Exited  \n",
       "0           101348.88       1  \n",
       "1           112542.58       0  \n",
       "2           113931.57       1  \n",
       "3            93826.63       0  \n",
       "4            79084.10       0  \n",
       "...               ...     ...  \n",
       "9995         96270.64       0  \n",
       "9996        101699.77       0  \n",
       "9997         42085.58       1  \n",
       "9998         92888.52       1  \n",
       "9999         38190.78       0  \n",
       "\n",
       "[10000 rows x 14 columns]"
      ]
     },
     "metadata": {},
     "output_type": "display_data"
    }
   ],
   "source": [
    "pd.options.mode.chained_assignment = None\n",
    "df = pd.read_csv('/datasets/Churn.csv')\n",
    "display(df)"
   ]
  },
  {
   "cell_type": "markdown",
   "metadata": {},
   "source": [
    "### Описание данных"
   ]
  },
  {
   "cell_type": "markdown",
   "metadata": {},
   "source": [
    "**Признаки:**\n",
    "\n",
    "`RowNumber` — индекс строки в данных\n",
    "\n",
    "`CustomerId` — уникальный идентификатор клиента\n",
    "\n",
    "`Surname` — фамилия\n",
    "\n",
    "`CreditScore` — кредитный рейтинг\n",
    "\n",
    "`Geography` — страна проживания\n",
    "\n",
    "`Gender` — пол\n",
    "\n",
    "`Age` — возраст\n",
    "\n",
    "`Tenure` — сколько лет человек является клиентом банка\n",
    "\n",
    "`Balance` — баланс на счёте\n",
    "\n",
    "`NumOfProducts` — количество продуктов банка, используемых клиентом\n",
    "\n",
    "`HasCrCard` — наличие кредитной карты\n",
    "\n",
    "`IsActiveMember` — активность клиента\n",
    "\n",
    "`EstimatedSalary` — предполагаемая зарплата\n",
    "\n",
    "**Целевой признак:**\n",
    "\n",
    "`Exited` — факт ухода клиента"
   ]
  },
  {
   "cell_type": "markdown",
   "metadata": {},
   "source": [
    "## Предобработка данных"
   ]
  },
  {
   "cell_type": "code",
   "execution_count": 3,
   "metadata": {},
   "outputs": [
    {
     "name": "stdout",
     "output_type": "stream",
     "text": [
      "<class 'pandas.core.frame.DataFrame'>\n",
      "RangeIndex: 10000 entries, 0 to 9999\n",
      "Data columns (total 14 columns):\n",
      " #   Column           Non-Null Count  Dtype  \n",
      "---  ------           --------------  -----  \n",
      " 0   RowNumber        10000 non-null  int64  \n",
      " 1   CustomerId       10000 non-null  int64  \n",
      " 2   Surname          10000 non-null  object \n",
      " 3   CreditScore      10000 non-null  int64  \n",
      " 4   Geography        10000 non-null  object \n",
      " 5   Gender           10000 non-null  object \n",
      " 6   Age              10000 non-null  int64  \n",
      " 7   Tenure           9091 non-null   float64\n",
      " 8   Balance          10000 non-null  float64\n",
      " 9   NumOfProducts    10000 non-null  int64  \n",
      " 10  HasCrCard        10000 non-null  int64  \n",
      " 11  IsActiveMember   10000 non-null  int64  \n",
      " 12  EstimatedSalary  10000 non-null  float64\n",
      " 13  Exited           10000 non-null  int64  \n",
      "dtypes: float64(3), int64(8), object(3)\n",
      "memory usage: 1.1+ MB\n"
     ]
    }
   ],
   "source": [
    "df.info()\n"
   ]
  },
  {
   "cell_type": "code",
   "execution_count": 4,
   "metadata": {},
   "outputs": [
    {
     "name": "stdout",
     "output_type": "stream",
     "text": [
      "RowNumber            0\n",
      "CustomerId           0\n",
      "Surname              0\n",
      "CreditScore          0\n",
      "Geography            0\n",
      "Gender               0\n",
      "Age                  0\n",
      "Tenure             909\n",
      "Balance              0\n",
      "NumOfProducts        0\n",
      "HasCrCard            0\n",
      "IsActiveMember       0\n",
      "EstimatedSalary      0\n",
      "Exited               0\n",
      "dtype: int64\n"
     ]
    }
   ],
   "source": [
    "print(df.isna().sum())"
   ]
  },
  {
   "cell_type": "code",
   "execution_count": 5,
   "metadata": {},
   "outputs": [
    {
     "name": "stdout",
     "output_type": "stream",
     "text": [
      "0\n"
     ]
    }
   ],
   "source": [
    "print(df.duplicated().sum())"
   ]
  },
  {
   "cell_type": "code",
   "execution_count": 6,
   "metadata": {
    "scrolled": true
   },
   "outputs": [
    {
     "name": "stdout",
     "output_type": "stream",
     "text": [
      "['France' 'Spain' 'Germany']\n",
      "['Female' 'Male']\n"
     ]
    }
   ],
   "source": [
    "print(df['Geography'].unique())\n",
    "print(df['Gender'].unique())"
   ]
  },
  {
   "cell_type": "markdown",
   "metadata": {},
   "source": [
    "**Tenure**"
   ]
  },
  {
   "cell_type": "markdown",
   "metadata": {},
   "source": [
    "То, сколько лет человек является клиентом банка, является важной информацие для анализа целевого признака, пропуски в этом столбце могут существенно повлиять на итоговый результат, поэтому избавимся от них."
   ]
  },
  {
   "cell_type": "code",
   "execution_count": 7,
   "metadata": {},
   "outputs": [],
   "source": [
    "df = df.dropna()"
   ]
  },
  {
   "cell_type": "markdown",
   "metadata": {},
   "source": [
    "Удалим также ненужные признаки из таблицы."
   ]
  },
  {
   "cell_type": "code",
   "execution_count": 8,
   "metadata": {},
   "outputs": [],
   "source": [
    "df = df.drop('Surname', axis=1)\n",
    "df = df.drop('CustomerId', axis=1)\n",
    "df = df.drop('RowNumber', axis=1)"
   ]
  },
  {
   "cell_type": "code",
   "execution_count": 9,
   "metadata": {},
   "outputs": [],
   "source": [
    "df = pd.get_dummies(df, drop_first=True)"
   ]
  },
  {
   "cell_type": "code",
   "execution_count": 10,
   "metadata": {},
   "outputs": [
    {
     "data": {
      "text/html": [
       "<div>\n",
       "<style scoped>\n",
       "    .dataframe tbody tr th:only-of-type {\n",
       "        vertical-align: middle;\n",
       "    }\n",
       "\n",
       "    .dataframe tbody tr th {\n",
       "        vertical-align: top;\n",
       "    }\n",
       "\n",
       "    .dataframe thead th {\n",
       "        text-align: right;\n",
       "    }\n",
       "</style>\n",
       "<table border=\"1\" class=\"dataframe\">\n",
       "  <thead>\n",
       "    <tr style=\"text-align: right;\">\n",
       "      <th></th>\n",
       "      <th>CreditScore</th>\n",
       "      <th>Age</th>\n",
       "      <th>Tenure</th>\n",
       "      <th>Balance</th>\n",
       "      <th>NumOfProducts</th>\n",
       "      <th>HasCrCard</th>\n",
       "      <th>IsActiveMember</th>\n",
       "      <th>EstimatedSalary</th>\n",
       "      <th>Exited</th>\n",
       "      <th>Geography_Germany</th>\n",
       "      <th>Geography_Spain</th>\n",
       "      <th>Gender_Male</th>\n",
       "    </tr>\n",
       "  </thead>\n",
       "  <tbody>\n",
       "    <tr>\n",
       "      <th>0</th>\n",
       "      <td>619</td>\n",
       "      <td>42</td>\n",
       "      <td>2.0</td>\n",
       "      <td>0.00</td>\n",
       "      <td>1</td>\n",
       "      <td>1</td>\n",
       "      <td>1</td>\n",
       "      <td>101348.88</td>\n",
       "      <td>1</td>\n",
       "      <td>0</td>\n",
       "      <td>0</td>\n",
       "      <td>0</td>\n",
       "    </tr>\n",
       "    <tr>\n",
       "      <th>1</th>\n",
       "      <td>608</td>\n",
       "      <td>41</td>\n",
       "      <td>1.0</td>\n",
       "      <td>83807.86</td>\n",
       "      <td>1</td>\n",
       "      <td>0</td>\n",
       "      <td>1</td>\n",
       "      <td>112542.58</td>\n",
       "      <td>0</td>\n",
       "      <td>0</td>\n",
       "      <td>1</td>\n",
       "      <td>0</td>\n",
       "    </tr>\n",
       "    <tr>\n",
       "      <th>2</th>\n",
       "      <td>502</td>\n",
       "      <td>42</td>\n",
       "      <td>8.0</td>\n",
       "      <td>159660.80</td>\n",
       "      <td>3</td>\n",
       "      <td>1</td>\n",
       "      <td>0</td>\n",
       "      <td>113931.57</td>\n",
       "      <td>1</td>\n",
       "      <td>0</td>\n",
       "      <td>0</td>\n",
       "      <td>0</td>\n",
       "    </tr>\n",
       "    <tr>\n",
       "      <th>3</th>\n",
       "      <td>699</td>\n",
       "      <td>39</td>\n",
       "      <td>1.0</td>\n",
       "      <td>0.00</td>\n",
       "      <td>2</td>\n",
       "      <td>0</td>\n",
       "      <td>0</td>\n",
       "      <td>93826.63</td>\n",
       "      <td>0</td>\n",
       "      <td>0</td>\n",
       "      <td>0</td>\n",
       "      <td>0</td>\n",
       "    </tr>\n",
       "    <tr>\n",
       "      <th>4</th>\n",
       "      <td>850</td>\n",
       "      <td>43</td>\n",
       "      <td>2.0</td>\n",
       "      <td>125510.82</td>\n",
       "      <td>1</td>\n",
       "      <td>1</td>\n",
       "      <td>1</td>\n",
       "      <td>79084.10</td>\n",
       "      <td>0</td>\n",
       "      <td>0</td>\n",
       "      <td>1</td>\n",
       "      <td>0</td>\n",
       "    </tr>\n",
       "    <tr>\n",
       "      <th>...</th>\n",
       "      <td>...</td>\n",
       "      <td>...</td>\n",
       "      <td>...</td>\n",
       "      <td>...</td>\n",
       "      <td>...</td>\n",
       "      <td>...</td>\n",
       "      <td>...</td>\n",
       "      <td>...</td>\n",
       "      <td>...</td>\n",
       "      <td>...</td>\n",
       "      <td>...</td>\n",
       "      <td>...</td>\n",
       "    </tr>\n",
       "    <tr>\n",
       "      <th>9994</th>\n",
       "      <td>800</td>\n",
       "      <td>29</td>\n",
       "      <td>2.0</td>\n",
       "      <td>0.00</td>\n",
       "      <td>2</td>\n",
       "      <td>0</td>\n",
       "      <td>0</td>\n",
       "      <td>167773.55</td>\n",
       "      <td>0</td>\n",
       "      <td>0</td>\n",
       "      <td>0</td>\n",
       "      <td>0</td>\n",
       "    </tr>\n",
       "    <tr>\n",
       "      <th>9995</th>\n",
       "      <td>771</td>\n",
       "      <td>39</td>\n",
       "      <td>5.0</td>\n",
       "      <td>0.00</td>\n",
       "      <td>2</td>\n",
       "      <td>1</td>\n",
       "      <td>0</td>\n",
       "      <td>96270.64</td>\n",
       "      <td>0</td>\n",
       "      <td>0</td>\n",
       "      <td>0</td>\n",
       "      <td>1</td>\n",
       "    </tr>\n",
       "    <tr>\n",
       "      <th>9996</th>\n",
       "      <td>516</td>\n",
       "      <td>35</td>\n",
       "      <td>10.0</td>\n",
       "      <td>57369.61</td>\n",
       "      <td>1</td>\n",
       "      <td>1</td>\n",
       "      <td>1</td>\n",
       "      <td>101699.77</td>\n",
       "      <td>0</td>\n",
       "      <td>0</td>\n",
       "      <td>0</td>\n",
       "      <td>1</td>\n",
       "    </tr>\n",
       "    <tr>\n",
       "      <th>9997</th>\n",
       "      <td>709</td>\n",
       "      <td>36</td>\n",
       "      <td>7.0</td>\n",
       "      <td>0.00</td>\n",
       "      <td>1</td>\n",
       "      <td>0</td>\n",
       "      <td>1</td>\n",
       "      <td>42085.58</td>\n",
       "      <td>1</td>\n",
       "      <td>0</td>\n",
       "      <td>0</td>\n",
       "      <td>0</td>\n",
       "    </tr>\n",
       "    <tr>\n",
       "      <th>9998</th>\n",
       "      <td>772</td>\n",
       "      <td>42</td>\n",
       "      <td>3.0</td>\n",
       "      <td>75075.31</td>\n",
       "      <td>2</td>\n",
       "      <td>1</td>\n",
       "      <td>0</td>\n",
       "      <td>92888.52</td>\n",
       "      <td>1</td>\n",
       "      <td>1</td>\n",
       "      <td>0</td>\n",
       "      <td>1</td>\n",
       "    </tr>\n",
       "  </tbody>\n",
       "</table>\n",
       "<p>9091 rows × 12 columns</p>\n",
       "</div>"
      ],
      "text/plain": [
       "      CreditScore  Age  Tenure    Balance  NumOfProducts  HasCrCard  \\\n",
       "0             619   42     2.0       0.00              1          1   \n",
       "1             608   41     1.0   83807.86              1          0   \n",
       "2             502   42     8.0  159660.80              3          1   \n",
       "3             699   39     1.0       0.00              2          0   \n",
       "4             850   43     2.0  125510.82              1          1   \n",
       "...           ...  ...     ...        ...            ...        ...   \n",
       "9994          800   29     2.0       0.00              2          0   \n",
       "9995          771   39     5.0       0.00              2          1   \n",
       "9996          516   35    10.0   57369.61              1          1   \n",
       "9997          709   36     7.0       0.00              1          0   \n",
       "9998          772   42     3.0   75075.31              2          1   \n",
       "\n",
       "      IsActiveMember  EstimatedSalary  Exited  Geography_Germany  \\\n",
       "0                  1        101348.88       1                  0   \n",
       "1                  1        112542.58       0                  0   \n",
       "2                  0        113931.57       1                  0   \n",
       "3                  0         93826.63       0                  0   \n",
       "4                  1         79084.10       0                  0   \n",
       "...              ...              ...     ...                ...   \n",
       "9994               0        167773.55       0                  0   \n",
       "9995               0         96270.64       0                  0   \n",
       "9996               1        101699.77       0                  0   \n",
       "9997               1         42085.58       1                  0   \n",
       "9998               0         92888.52       1                  1   \n",
       "\n",
       "      Geography_Spain  Gender_Male  \n",
       "0                   0            0  \n",
       "1                   1            0  \n",
       "2                   0            0  \n",
       "3                   0            0  \n",
       "4                   1            0  \n",
       "...               ...          ...  \n",
       "9994                0            0  \n",
       "9995                0            1  \n",
       "9996                0            1  \n",
       "9997                0            0  \n",
       "9998                0            1  \n",
       "\n",
       "[9091 rows x 12 columns]"
      ]
     },
     "metadata": {},
     "output_type": "display_data"
    },
    {
     "name": "stdout",
     "output_type": "stream",
     "text": [
      "<class 'pandas.core.frame.DataFrame'>\n",
      "Int64Index: 9091 entries, 0 to 9998\n",
      "Data columns (total 12 columns):\n",
      " #   Column             Non-Null Count  Dtype  \n",
      "---  ------             --------------  -----  \n",
      " 0   CreditScore        9091 non-null   int64  \n",
      " 1   Age                9091 non-null   int64  \n",
      " 2   Tenure             9091 non-null   float64\n",
      " 3   Balance            9091 non-null   float64\n",
      " 4   NumOfProducts      9091 non-null   int64  \n",
      " 5   HasCrCard          9091 non-null   int64  \n",
      " 6   IsActiveMember     9091 non-null   int64  \n",
      " 7   EstimatedSalary    9091 non-null   float64\n",
      " 8   Exited             9091 non-null   int64  \n",
      " 9   Geography_Germany  9091 non-null   uint8  \n",
      " 10  Geography_Spain    9091 non-null   uint8  \n",
      " 11  Gender_Male        9091 non-null   uint8  \n",
      "dtypes: float64(3), int64(6), uint8(3)\n",
      "memory usage: 736.9 KB\n"
     ]
    }
   ],
   "source": [
    "display(df)\n",
    "df.info()"
   ]
  },
  {
   "cell_type": "markdown",
   "metadata": {},
   "source": [
    "## Подготовка признаков, целевого признака и разбиение на выборки"
   ]
  },
  {
   "cell_type": "code",
   "execution_count": 11,
   "metadata": {},
   "outputs": [],
   "source": [
    "target = df['Exited']\n",
    "features = df.drop('Exited', axis=1)\n",
    "\n",
    "features_train, features_1, target_train, target_1 = train_test_split(\n",
    "    features, target, test_size=0.4, random_state=12345)\n",
    "\n",
    "features_valid, features_test, target_valid, target_test = train_test_split(\n",
    "    features_1, target_1, test_size=0.5, random_state=12345)\n",
    "\n",
    "\n"
   ]
  },
  {
   "cell_type": "code",
   "execution_count": 12,
   "metadata": {},
   "outputs": [
    {
     "name": "stdout",
     "output_type": "stream",
     "text": [
      "(5454, 11) (1818, 11) (1819, 11)\n",
      "(5454,) (1818,) (1819,)\n"
     ]
    }
   ],
   "source": [
    "print(features_train.shape, features_valid.shape, features_test.shape)\n",
    "print(target_train.shape, target_valid.shape, target_test.shape)"
   ]
  },
  {
   "cell_type": "markdown",
   "metadata": {},
   "source": [
    "### Масштабирование признаков"
   ]
  },
  {
   "cell_type": "code",
   "execution_count": 13,
   "metadata": {},
   "outputs": [],
   "source": [
    "numeric = ['CreditScore', 'Age', 'Tenure', 'Balance', 'NumOfProducts', 'EstimatedSalary']\n",
    "\n",
    "scaler = StandardScaler()\n",
    "scaler.fit(features_train[numeric]) \n",
    "features_train[numeric] = scaler.transform(features_train[numeric])\n",
    "features_valid[numeric] = scaler.transform(features_valid[numeric])\n",
    "features_test[numeric] = scaler.transform(features_test[numeric])"
   ]
  },
  {
   "cell_type": "markdown",
   "metadata": {},
   "source": [
    "## Построение моделей, исследование и подбор гиперпараметров\n"
   ]
  },
  {
   "cell_type": "markdown",
   "metadata": {},
   "source": [
    "### DecisionTreeClassifier в качестве пробной модели"
   ]
  },
  {
   "cell_type": "code",
   "execution_count": 14,
   "metadata": {},
   "outputs": [
    {
     "name": "stdout",
     "output_type": "stream",
     "text": [
      "F1: 0.5764331210191083\n"
     ]
    }
   ],
   "source": [
    "model = DecisionTreeClassifier(random_state=12345, max_depth=7)\n",
    "\n",
    "model.fit(features_train, target_train)\n",
    "\n",
    "predicted_valid = model.predict(features_valid)\n",
    "print(\"F1:\", f1_score(target_valid, predicted_valid))"
   ]
  },
  {
   "cell_type": "markdown",
   "metadata": {},
   "source": [
    "Метрика неудовлетворительная"
   ]
  },
  {
   "cell_type": "markdown",
   "metadata": {},
   "source": [
    "### Борьба с дисбалансом"
   ]
  },
  {
   "cell_type": "code",
   "execution_count": 15,
   "metadata": {},
   "outputs": [],
   "source": [
    "def upsample(features, target, repeat):\n",
    "    features_zeros = features[target == 0]\n",
    "    features_ones = features[target == 1]\n",
    "    target_zeros = target[target == 0]\n",
    "    target_ones = target[target == 1]\n",
    "\n",
    "    features_upsampled = pd.concat([features_zeros] + [features_ones] * repeat)\n",
    "    target_upsampled = pd.concat([target_zeros] + [target_ones] * repeat)\n",
    "    \n",
    "    features_upsampled, target_upsampled = shuffle(\n",
    "        features_upsampled, target_upsampled, random_state=12345)\n",
    "    \n",
    "    return features_upsampled, target_upsampled"
   ]
  },
  {
   "cell_type": "code",
   "execution_count": 16,
   "metadata": {},
   "outputs": [],
   "source": [
    "def downsample(features, target, fraction):\n",
    "    features_zeros = features[target == 0]\n",
    "    features_ones = features[target == 1]\n",
    "    target_zeros = target[target == 0]\n",
    "    target_ones = target[target == 1]\n",
    "\n",
    "    features_downsampled = pd.concat(\n",
    "        [features_zeros.sample(frac=fraction, random_state=12345)] + [features_ones])\n",
    "    target_downsampled = pd.concat(\n",
    "        [target_zeros.sample(frac=fraction, random_state=12345)] + [target_ones])\n",
    "    \n",
    "    features_downsampled, target_downsampled = shuffle(\n",
    "        features_downsampled, target_downsampled, random_state=12345)\n",
    "    \n",
    "    return features_downsampled, target_downsampled"
   ]
  },
  {
   "cell_type": "markdown",
   "metadata": {},
   "source": [
    "**Взвешивание классов, логистическая регрессия**"
   ]
  },
  {
   "cell_type": "code",
   "execution_count": 17,
   "metadata": {},
   "outputs": [
    {
     "name": "stdout",
     "output_type": "stream",
     "text": [
      "F1: 0.509731232622799\n"
     ]
    }
   ],
   "source": [
    "model = LogisticRegression(random_state=12345, solver='liblinear', class_weight='balanced')\n",
    "model.fit(features_train, target_train)\n",
    "predicted_valid = model.predict(features_valid)\n",
    "print(\"F1:\", f1_score(target_valid, predicted_valid))"
   ]
  },
  {
   "cell_type": "markdown",
   "metadata": {},
   "source": [
    "Метрика неудовлетворительная"
   ]
  },
  {
   "cell_type": "markdown",
   "metadata": {},
   "source": [
    "**upsampling, логистическая регрессия**"
   ]
  },
  {
   "cell_type": "code",
   "execution_count": 18,
   "metadata": {},
   "outputs": [
    {
     "name": "stdout",
     "output_type": "stream",
     "text": [
      "F1: 0.509731232622799\n"
     ]
    }
   ],
   "source": [
    "features_upsampled, target_upsampled = upsample(features_train, target_train, 3)\n",
    "\n",
    "model = LogisticRegression(solver='liblinear', random_state=12345, class_weight='balanced')\n",
    "model.fit(features_upsampled, target_upsampled)\n",
    "\n",
    "predicted_valid = model.predict(features_valid)\n",
    "\n",
    "print(\"F1:\", f1_score(target_valid, predicted_valid))"
   ]
  },
  {
   "cell_type": "markdown",
   "metadata": {},
   "source": [
    "Метрика неудовлетворительная"
   ]
  },
  {
   "cell_type": "markdown",
   "metadata": {},
   "source": [
    "**downsampling, логистическая регрессия**"
   ]
  },
  {
   "cell_type": "code",
   "execution_count": 19,
   "metadata": {},
   "outputs": [
    {
     "name": "stdout",
     "output_type": "stream",
     "text": [
      "F1: 0.5109890109890111\n"
     ]
    }
   ],
   "source": [
    "features_downsampled, target_downsampled = downsample(features_train, target_train, 0.39)\n",
    "\n",
    "model = LogisticRegression(solver='liblinear' ,random_state=12345, class_weight='balanced')\n",
    "model.fit(features_downsampled, target_downsampled)\n",
    "\n",
    "predicted_valid = model.predict(features_valid)\n",
    "\n",
    "print(\"F1:\", f1_score(target_valid, predicted_valid))"
   ]
  },
  {
   "cell_type": "markdown",
   "metadata": {},
   "source": [
    "Метрика неудовлетворительная"
   ]
  },
  {
   "cell_type": "markdown",
   "metadata": {},
   "source": [
    "### Нахождение оптимальных параметров моделей"
   ]
  },
  {
   "cell_type": "markdown",
   "metadata": {},
   "source": [
    "**Нахождение оптимального порога классификации для логистической регрессии**"
   ]
  },
  {
   "cell_type": "code",
   "execution_count": 20,
   "metadata": {},
   "outputs": [
    {
     "name": "stdout",
     "output_type": "stream",
     "text": [
      "Порог = 0.00 | Точность = 0.207, Полнота = 1.000\n",
      "Порог = 0.02 | Точность = 0.208, Полнота = 1.000\n",
      "Порог = 0.04 | Точность = 0.217, Полнота = 0.992\n",
      "Порог = 0.06 | Точность = 0.233, Полнота = 0.968\n",
      "Порог = 0.08 | Точность = 0.254, Полнота = 0.950\n",
      "Порог = 0.10 | Точность = 0.271, Полнота = 0.910\n",
      "Порог = 0.12 | Точность = 0.295, Полнота = 0.894\n",
      "Порог = 0.14 | Точность = 0.313, Полнота = 0.857\n",
      "Порог = 0.16 | Точность = 0.336, Полнота = 0.822\n",
      "Порог = 0.18 | Точность = 0.358, Полнота = 0.769\n",
      "Порог = 0.20 | Точность = 0.377, Полнота = 0.727\n",
      "Порог = 0.22 | Точность = 0.400, Полнота = 0.692\n",
      "Порог = 0.24 | Точность = 0.416, Полнота = 0.639\n",
      "Порог = 0.26 | Точность = 0.443, Полнота = 0.586\n",
      "Порог = 0.28 | Точность = 0.465, Полнота = 0.538\n"
     ]
    }
   ],
   "source": [
    "model = LogisticRegression(random_state=12345, solver='liblinear')\n",
    "model.fit(features_train, target_train)\n",
    "probabilities_valid = model.predict_proba(features_valid)\n",
    "probabilities_one_valid = probabilities_valid[:, 1]\n",
    "\n",
    "for threshold in np.arange(0, 0.3, 0.02):\n",
    "    predicted_valid = probabilities_one_valid > threshold\n",
    "    precision = precision_score(target_valid, predicted_valid)\n",
    "    recall = recall_score(target_valid, predicted_valid)\n",
    "\n",
    "    print(\"Порог = {:.2f} | Точность = {:.3f}, Полнота = {:.3f}\".format(\n",
    "        threshold, precision, recall))"
   ]
  },
  {
   "cell_type": "markdown",
   "metadata": {},
   "source": [
    "**Нахождение оптимальных параметров для модели Случайного леса**"
   ]
  },
  {
   "cell_type": "code",
   "execution_count": 22,
   "metadata": {},
   "outputs": [
    {
     "name": "stdout",
     "output_type": "stream",
     "text": [
      "F1 наилучшей модели на валидационной выборке: 0.6497584541062802 Количество деревьев: 10 Максимальная глубина: 19\n"
     ]
    }
   ],
   "source": [
    "best_model = None\n",
    "best_result = 0\n",
    "best_est = 0\n",
    "best_depth = 0\n",
    "for est in range(1, 20):\n",
    "    for depth in range (1, 20):\n",
    "        model = RandomForestClassifier(random_state=12345, n_estimators=est, max_depth=depth, class_weight='balanced') \n",
    "        model.fit(features_train, target_train) \n",
    "        predicted_valid = model.predict(features_valid) \n",
    "        result = f1_score(target_valid, predicted_valid)\n",
    "        if result > best_result:\n",
    "            best_model = model\n",
    "            best_result = result\n",
    "            best_est = est\n",
    "            best_depth = depth\n",
    "\n",
    "print(\"F1 наилучшей модели на валидационной выборке:\", best_result, \"Количество деревьев:\", best_est, \"Максимальная глубина:\", depth)"
   ]
  },
  {
   "cell_type": "markdown",
   "metadata": {},
   "source": [
    "**Нахождение оптимальных параметров для модели Случайного леса с использованиемс порога классификации и метода downsamplе**"
   ]
  },
  {
   "cell_type": "code",
   "execution_count": 23,
   "metadata": {},
   "outputs": [
    {
     "name": "stdout",
     "output_type": "stream",
     "text": [
      "F1 best: 0.6514131897711978 best_est: 13 best_depth: 6 best_r: 0.11 best_e: 0.67\n"
     ]
    }
   ],
   "source": [
    "best_model = None\n",
    "best_result = 0\n",
    "best_est = 0\n",
    "best_depth = 0\n",
    "\n",
    "best_r = 0\n",
    "best_e = 0\n",
    "\n",
    "for est in range(4, 15):\n",
    "    for depth in range (4, 15):\n",
    "        for r in np.arange(0.11, 0.15, 0.01):\n",
    "            for e in np.arange(0.65, 0.69, 0.01):\n",
    "\n",
    "                \n",
    "                \n",
    "                features_downsampled, target_downsampled = downsample(features_train, target_train, r)\n",
    "\n",
    "                model = RandomForestClassifier(random_state=12345, max_depth=depth, n_estimators=est, class_weight='balanced')\n",
    "                model.fit(features_downsampled, target_downsampled)\n",
    "\n",
    "                probabilities_valid = model.predict_proba(features_valid)\n",
    "                probabilities_one_valid = probabilities_valid[:, 1]\n",
    "                predicted_valid = probabilities_one_valid > e\n",
    "\n",
    "                result = f1_score(target_valid, predicted_valid)\n",
    "                if result > best_result:\n",
    "                    best_model = model\n",
    "                    best_result = result\n",
    "                    best_est = est\n",
    "                    best_depth = depth\n",
    "                    best_r = r\n",
    "                    best_e = e\n",
    "                    \n",
    "print('F1 best:', best_result, 'best_est:', best_est, 'best_depth:', best_depth, 'best_r:', best_r, 'best_e:', best_e)\n"
   ]
  },
  {
   "cell_type": "markdown",
   "metadata": {},
   "source": [
    "**Пример работы модели с оптимальными параметрами:**"
   ]
  },
  {
   "cell_type": "code",
   "execution_count": 37,
   "metadata": {},
   "outputs": [
    {
     "name": "stdout",
     "output_type": "stream",
     "text": [
      "F1: 0.6514131897711978\n"
     ]
    }
   ],
   "source": [
    "features_downsampled, target_downsampled = downsample(features_train, target_train, 0.11)\n",
    "\n",
    "model = RandomForestClassifier(random_state=12345, max_depth=6, n_estimators=13, class_weight='balanced')\n",
    "model.fit(features_downsampled, target_downsampled)\n",
    "\n",
    "probabilities_valid = model.predict_proba(features_valid)\n",
    "probabilities_one_valid = probabilities_valid[:, 1]\n",
    "predicted_valid = probabilities_one_valid > 0.67\n",
    "\n",
    "print(\"F1:\", f1_score(target_valid, predicted_valid))"
   ]
  },
  {
   "cell_type": "markdown",
   "metadata": {},
   "source": [
    "## Тестирование лучшей модели"
   ]
  },
  {
   "cell_type": "code",
   "execution_count": 43,
   "metadata": {},
   "outputs": [
    {
     "name": "stdout",
     "output_type": "stream",
     "text": [
      "F1: 0.6023054755043228\n"
     ]
    }
   ],
   "source": [
    "features_downsampled, target_downsampled = downsample(features_train, target_train, 0.11)\n",
    "\n",
    "model = RandomForestClassifier(random_state=12345, max_depth=6, n_estimators=13, class_weight='balanced')\n",
    "model.fit(features_downsampled, target_downsampled)\n",
    "\n",
    "probabilities_test = model.predict_proba(features_test)\n",
    "probabilities_one_test = probabilities_test[:, 1]\n",
    "predicted_test = probabilities_one_test > 0.67\n",
    "\n",
    "print(\"F1:\", f1_score(target_test, predicted_test))"
   ]
  },
  {
   "cell_type": "code",
   "execution_count": 36,
   "metadata": {},
   "outputs": [
    {
     "name": "stdout",
     "output_type": "stream",
     "text": [
      "0.8564116149266012\n"
     ]
    }
   ],
   "source": [
    "auc_roc = roc_auc_score(target_test, probabilities_one_test)\n",
    "\n",
    "print(auc_roc)"
   ]
  },
  {
   "cell_type": "code",
   "execution_count": 26,
   "metadata": {},
   "outputs": [
    {
     "data": {
      "image/png": "[encoded data removed]",
      "text/plain": [
       "<Figure size 432x288 with 1 Axes>"
      ]
     },
     "metadata": {
      "needs_background": "light"
     },
     "output_type": "display_data"
    }
   ],
   "source": [
    "fpr, tpr, thresholds = roc_curve(target_test, probabilities_one_test)\n",
    "\n",
    "plt.figure()\n",
    "plt.plot(fpr, tpr)\n",
    "plt.xlim([0.0, 1.0])\n",
    "plt.ylim([0.0, 1.0])\n",
    "plt.xlabel('False Positive Rate')\n",
    "plt.ylabel('True Positive Rate')\n",
    "plt.title('ROC-кривая')\n",
    "plt.show() \n"
   ]
  },
  {
   "cell_type": "markdown",
   "metadata": {},
   "source": [
    "## Вывод "
   ]
  },
  {
   "cell_type": "markdown",
   "metadata": {},
   "source": [
    "Модель, предсказывающая уход клиента из банка построена. Проведен баланс классов, применен метод downsample, найден оптимальный порог классификации. Удалось добиться значения 0.6 метрики F1 на тестовых данных.\n",
    "Вот такие дела."
   ]
  }
 ],
 "metadata": {
  "ExecuteTimeLog": [
   {
    "duration": 1319,
    "start_time": "2021-10-13T05:52:35.882Z"
   },
   {
    "duration": 12,
    "start_time": "2021-10-13T05:52:37.204Z"
   },
   {
    "duration": 189,
    "start_time": "2021-10-13T05:55:49.145Z"
   },
   {
    "duration": 8,
    "start_time": "2021-10-13T05:55:49.772Z"
   },
   {
    "duration": 17,
    "start_time": "2021-10-13T05:56:49.745Z"
   },
   {
    "duration": 5,
    "start_time": "2021-10-13T06:02:06.385Z"
   },
   {
    "duration": 6,
    "start_time": "2021-10-13T06:03:45.282Z"
   },
   {
    "duration": 566,
    "start_time": "2021-10-13T06:28:06.419Z"
   },
   {
    "duration": 1589,
    "start_time": "2021-10-13T06:28:15.344Z"
   },
   {
    "duration": 7,
    "start_time": "2021-10-13T06:28:16.936Z"
   },
   {
    "duration": 43,
    "start_time": "2021-10-13T06:28:16.951Z"
   },
   {
    "duration": 5,
    "start_time": "2021-10-13T06:28:16.996Z"
   },
   {
    "duration": 8,
    "start_time": "2021-10-13T06:28:17.003Z"
   },
   {
    "duration": 11975,
    "start_time": "2021-10-13T06:28:17.014Z"
   },
   {
    "duration": -153,
    "start_time": "2021-10-13T06:28:29.145Z"
   },
   {
    "duration": 52,
    "start_time": "2021-10-13T06:28:39.222Z"
   },
   {
    "duration": 394,
    "start_time": "2021-10-13T06:28:41.916Z"
   },
   {
    "duration": 1659,
    "start_time": "2021-10-13T06:31:46.339Z"
   },
   {
    "duration": 8,
    "start_time": "2021-10-13T06:31:48.001Z"
   },
   {
    "duration": 36,
    "start_time": "2021-10-13T06:31:48.012Z"
   },
   {
    "duration": 5,
    "start_time": "2021-10-13T06:31:48.051Z"
   },
   {
    "duration": 31,
    "start_time": "2021-10-13T06:31:48.058Z"
   },
   {
    "duration": 47,
    "start_time": "2021-10-13T06:31:48.103Z"
   },
   {
    "duration": 74,
    "start_time": "2021-10-13T06:31:50.073Z"
   },
   {
    "duration": 47,
    "start_time": "2021-10-13T06:33:42.614Z"
   },
   {
    "duration": 499,
    "start_time": "2021-10-13T06:34:50.995Z"
   },
   {
    "duration": 1581,
    "start_time": "2021-10-13T06:35:13.400Z"
   },
   {
    "duration": 7,
    "start_time": "2021-10-13T06:35:14.984Z"
   },
   {
    "duration": 42,
    "start_time": "2021-10-13T06:35:14.994Z"
   },
   {
    "duration": 25,
    "start_time": "2021-10-13T06:35:15.039Z"
   },
   {
    "duration": 18,
    "start_time": "2021-10-13T06:35:15.066Z"
   },
   {
    "duration": 51,
    "start_time": "2021-10-13T06:35:15.087Z"
   },
   {
    "duration": 82,
    "start_time": "2021-10-13T06:35:15.141Z"
   },
   {
    "duration": 9,
    "start_time": "2021-10-13T06:35:15.226Z"
   },
   {
    "duration": 11,
    "start_time": "2021-10-13T06:35:15.238Z"
   },
   {
    "duration": 396,
    "start_time": "2021-10-13T06:41:28.442Z"
   },
   {
    "duration": 1444,
    "start_time": "2021-10-13T06:41:38.028Z"
   },
   {
    "duration": 10,
    "start_time": "2021-10-13T06:41:39.474Z"
   },
   {
    "duration": 16,
    "start_time": "2021-10-13T06:41:39.486Z"
   },
   {
    "duration": 5,
    "start_time": "2021-10-13T06:41:39.504Z"
   },
   {
    "duration": 13,
    "start_time": "2021-10-13T06:41:39.511Z"
   },
   {
    "duration": 80,
    "start_time": "2021-10-13T06:41:39.526Z"
   },
   {
    "duration": 71,
    "start_time": "2021-10-13T06:41:39.681Z"
   },
   {
    "duration": 7,
    "start_time": "2021-10-13T06:41:39.929Z"
   },
   {
    "duration": 9,
    "start_time": "2021-10-13T06:41:40.329Z"
   },
   {
    "duration": 7,
    "start_time": "2021-10-13T06:41:41.041Z"
   },
   {
    "duration": 503,
    "start_time": "2021-10-13T06:46:21.025Z"
   },
   {
    "duration": 332,
    "start_time": "2021-10-13T06:48:07.935Z"
   },
   {
    "duration": 68,
    "start_time": "2021-10-13T06:48:18.936Z"
   },
   {
    "duration": 564,
    "start_time": "2021-10-13T06:54:06.280Z"
   },
   {
    "duration": 1444,
    "start_time": "2021-10-13T06:54:16.825Z"
   },
   {
    "duration": 8,
    "start_time": "2021-10-13T06:54:18.272Z"
   },
   {
    "duration": 25,
    "start_time": "2021-10-13T06:54:18.283Z"
   },
   {
    "duration": 5,
    "start_time": "2021-10-13T06:54:18.311Z"
   },
   {
    "duration": 15,
    "start_time": "2021-10-13T06:54:18.319Z"
   },
   {
    "duration": 79,
    "start_time": "2021-10-13T06:54:18.337Z"
   },
   {
    "duration": 100,
    "start_time": "2021-10-13T06:54:18.418Z"
   },
   {
    "duration": 9,
    "start_time": "2021-10-13T06:54:18.523Z"
   },
   {
    "duration": 10,
    "start_time": "2021-10-13T06:54:18.535Z"
   },
   {
    "duration": 9,
    "start_time": "2021-10-13T06:54:18.612Z"
   },
   {
    "duration": 69,
    "start_time": "2021-10-13T06:54:19.437Z"
   },
   {
    "duration": 164,
    "start_time": "2021-10-13T06:54:20.363Z"
   },
   {
    "duration": 40,
    "start_time": "2021-10-13T06:55:36.232Z"
   },
   {
    "duration": 1693,
    "start_time": "2021-10-13T07:02:01.241Z"
   },
   {
    "duration": 10,
    "start_time": "2021-10-13T07:02:02.936Z"
   },
   {
    "duration": 43,
    "start_time": "2021-10-13T07:02:02.950Z"
   },
   {
    "duration": 5,
    "start_time": "2021-10-13T07:02:02.996Z"
   },
   {
    "duration": 19,
    "start_time": "2021-10-13T07:02:03.004Z"
   },
   {
    "duration": 77,
    "start_time": "2021-10-13T07:02:03.025Z"
   },
   {
    "duration": 90,
    "start_time": "2021-10-13T07:02:03.378Z"
   },
   {
    "duration": 13,
    "start_time": "2021-10-13T07:02:03.630Z"
   },
   {
    "duration": 9,
    "start_time": "2021-10-13T07:02:03.927Z"
   },
   {
    "duration": 8,
    "start_time": "2021-10-13T07:02:04.208Z"
   },
   {
    "duration": 76,
    "start_time": "2021-10-13T07:02:05.375Z"
   },
   {
    "duration": 152,
    "start_time": "2021-10-13T07:02:05.746Z"
   },
   {
    "duration": 112,
    "start_time": "2021-10-13T07:02:06.681Z"
   },
   {
    "duration": 32,
    "start_time": "2021-10-13T07:02:07.608Z"
   },
   {
    "duration": 505,
    "start_time": "2021-10-13T07:11:24.430Z"
   },
   {
    "duration": 606,
    "start_time": "2021-10-13T07:12:19.614Z"
   },
   {
    "duration": 663,
    "start_time": "2021-10-13T07:12:34.686Z"
   },
   {
    "duration": 1536,
    "start_time": "2021-10-13T07:12:55.424Z"
   },
   {
    "duration": 286,
    "start_time": "2021-10-13T07:14:29.113Z"
   },
   {
    "duration": 1553,
    "start_time": "2021-10-13T07:15:27.020Z"
   },
   {
    "duration": 16,
    "start_time": "2021-10-13T07:15:28.576Z"
   },
   {
    "duration": 16,
    "start_time": "2021-10-13T07:15:28.597Z"
   },
   {
    "duration": 5,
    "start_time": "2021-10-13T07:15:28.616Z"
   },
   {
    "duration": 14,
    "start_time": "2021-10-13T07:15:28.623Z"
   },
   {
    "duration": 91,
    "start_time": "2021-10-13T07:15:28.640Z"
   },
   {
    "duration": 91,
    "start_time": "2021-10-13T07:15:28.733Z"
   },
   {
    "duration": 8,
    "start_time": "2021-10-13T07:15:28.827Z"
   },
   {
    "duration": 9,
    "start_time": "2021-10-13T07:15:28.926Z"
   },
   {
    "duration": 8,
    "start_time": "2021-10-13T07:15:29.127Z"
   },
   {
    "duration": 78,
    "start_time": "2021-10-13T07:15:29.758Z"
   },
   {
    "duration": 128,
    "start_time": "2021-10-13T07:15:29.966Z"
   },
   {
    "duration": 146,
    "start_time": "2021-10-13T07:15:30.438Z"
   },
   {
    "duration": 40,
    "start_time": "2021-10-13T07:15:30.874Z"
   },
   {
    "duration": 485,
    "start_time": "2021-10-13T07:15:31.135Z"
   },
   {
    "duration": 295,
    "start_time": "2021-10-13T07:17:03.482Z"
   },
   {
    "duration": 344,
    "start_time": "2021-10-13T07:17:50.342Z"
   },
   {
    "duration": 1157,
    "start_time": "2021-10-14T10:08:28.950Z"
   },
   {
    "duration": 6,
    "start_time": "2021-10-14T10:08:30.109Z"
   },
   {
    "duration": 12,
    "start_time": "2021-10-14T10:08:30.116Z"
   },
   {
    "duration": 12,
    "start_time": "2021-10-14T10:08:30.756Z"
   },
   {
    "duration": 13,
    "start_time": "2021-10-14T10:20:25.851Z"
   },
   {
    "duration": 1042,
    "start_time": "2021-10-14T10:23:55.438Z"
   },
   {
    "duration": 7,
    "start_time": "2021-10-14T10:23:56.482Z"
   },
   {
    "duration": 16,
    "start_time": "2021-10-14T10:23:56.491Z"
   },
   {
    "duration": 14,
    "start_time": "2021-10-14T10:23:56.932Z"
   },
   {
    "duration": 7,
    "start_time": "2021-10-14T10:23:57.580Z"
   },
   {
    "duration": 438,
    "start_time": "2021-10-14T10:24:04.852Z"
   },
   {
    "duration": 278,
    "start_time": "2021-10-14T10:24:05.597Z"
   },
   {
    "duration": 4,
    "start_time": "2021-10-14T10:24:12.981Z"
   },
   {
    "duration": 4,
    "start_time": "2021-10-14T10:24:56.103Z"
   },
   {
    "duration": 23,
    "start_time": "2021-10-14T10:25:40.651Z"
   },
   {
    "duration": 1077,
    "start_time": "2021-10-14T10:48:36.105Z"
   },
   {
    "duration": 5,
    "start_time": "2021-10-14T10:48:37.183Z"
   },
   {
    "duration": 12,
    "start_time": "2021-10-14T10:48:37.190Z"
   },
   {
    "duration": 13,
    "start_time": "2021-10-14T10:48:46.935Z"
   },
   {
    "duration": 8,
    "start_time": "2021-10-14T10:48:47.418Z"
   },
   {
    "duration": 435,
    "start_time": "2021-10-14T10:48:49.857Z"
   },
   {
    "duration": 7,
    "start_time": "2021-10-14T10:48:50.294Z"
   },
   {
    "duration": 22,
    "start_time": "2021-10-14T10:48:50.573Z"
   },
   {
    "duration": 283,
    "start_time": "2021-10-14T10:48:52.526Z"
   },
   {
    "duration": 1180,
    "start_time": "2021-10-14T10:49:30.103Z"
   },
   {
    "duration": 7,
    "start_time": "2021-10-14T10:49:31.285Z"
   },
   {
    "duration": 14,
    "start_time": "2021-10-14T10:49:31.294Z"
   },
   {
    "duration": 13,
    "start_time": "2021-10-14T10:49:31.310Z"
   },
   {
    "duration": 7,
    "start_time": "2021-10-14T10:49:31.466Z"
   },
   {
    "duration": 411,
    "start_time": "2021-10-14T10:49:31.876Z"
   },
   {
    "duration": 12,
    "start_time": "2021-10-14T10:49:32.288Z"
   },
   {
    "duration": 2,
    "start_time": "2021-10-14T10:49:32.786Z"
   },
   {
    "duration": 336,
    "start_time": "2021-10-14T10:49:34.666Z"
   },
   {
    "duration": 1128,
    "start_time": "2021-10-14T10:50:56.543Z"
   },
   {
    "duration": 6,
    "start_time": "2021-10-14T10:50:57.673Z"
   },
   {
    "duration": 12,
    "start_time": "2021-10-14T10:50:57.681Z"
   },
   {
    "duration": 15,
    "start_time": "2021-10-14T10:50:57.695Z"
   },
   {
    "duration": 13,
    "start_time": "2021-10-14T10:50:57.712Z"
   },
   {
    "duration": 432,
    "start_time": "2021-10-14T10:50:57.727Z"
   },
   {
    "duration": 3,
    "start_time": "2021-10-14T10:50:58.161Z"
   },
   {
    "duration": 2,
    "start_time": "2021-10-14T10:50:58.201Z"
   },
   {
    "duration": 351,
    "start_time": "2021-10-14T10:50:59.656Z"
   },
   {
    "duration": 1089,
    "start_time": "2021-10-14T10:51:12.379Z"
   },
   {
    "duration": 6,
    "start_time": "2021-10-14T10:51:13.470Z"
   },
   {
    "duration": 10,
    "start_time": "2021-10-14T10:51:13.478Z"
   },
   {
    "duration": 21,
    "start_time": "2021-10-14T10:51:13.490Z"
   },
   {
    "duration": 7,
    "start_time": "2021-10-14T10:51:13.513Z"
   },
   {
    "duration": 403,
    "start_time": "2021-10-14T10:51:13.623Z"
   },
   {
    "duration": 5,
    "start_time": "2021-10-14T10:51:14.027Z"
   },
   {
    "duration": 21,
    "start_time": "2021-10-14T10:51:14.059Z"
   },
   {
    "duration": 344,
    "start_time": "2021-10-14T10:51:15.558Z"
   },
   {
    "duration": 1088,
    "start_time": "2021-10-14T10:53:12.372Z"
   },
   {
    "duration": 5,
    "start_time": "2021-10-14T10:53:13.462Z"
   },
   {
    "duration": 11,
    "start_time": "2021-10-14T10:53:13.469Z"
   },
   {
    "duration": 21,
    "start_time": "2021-10-14T10:53:13.482Z"
   },
   {
    "duration": 6,
    "start_time": "2021-10-14T10:53:13.504Z"
   },
   {
    "duration": 409,
    "start_time": "2021-10-14T10:53:13.511Z"
   },
   {
    "duration": 3,
    "start_time": "2021-10-14T10:53:13.922Z"
   },
   {
    "duration": 23,
    "start_time": "2021-10-14T10:53:13.927Z"
   },
   {
    "duration": 557,
    "start_time": "2021-10-14T10:53:14.704Z"
   },
   {
    "duration": 336,
    "start_time": "2021-10-14T10:56:39.466Z"
   },
   {
    "duration": 1117,
    "start_time": "2021-10-14T11:00:11.063Z"
   },
   {
    "duration": 6,
    "start_time": "2021-10-14T11:00:12.182Z"
   },
   {
    "duration": 15,
    "start_time": "2021-10-14T11:00:12.191Z"
   },
   {
    "duration": 12,
    "start_time": "2021-10-14T11:00:12.214Z"
   },
   {
    "duration": 7,
    "start_time": "2021-10-14T11:00:12.698Z"
   },
   {
    "duration": 419,
    "start_time": "2021-10-14T11:00:13.223Z"
   },
   {
    "duration": 4,
    "start_time": "2021-10-14T11:00:13.644Z"
   },
   {
    "duration": 21,
    "start_time": "2021-10-14T11:00:13.912Z"
   },
   {
    "duration": 566,
    "start_time": "2021-10-14T11:00:15.382Z"
   },
   {
    "duration": 330,
    "start_time": "2021-10-14T11:00:16.475Z"
   },
   {
    "duration": 1141,
    "start_time": "2021-10-14T11:00:17.660Z"
   },
   {
    "duration": 207,
    "start_time": "2021-10-14T11:00:20.805Z"
   },
   {
    "duration": 1122,
    "start_time": "2021-10-14T11:03:37.888Z"
   },
   {
    "duration": 6,
    "start_time": "2021-10-14T11:03:39.011Z"
   },
   {
    "duration": 15,
    "start_time": "2021-10-14T11:03:39.018Z"
   },
   {
    "duration": 17,
    "start_time": "2021-10-14T11:03:39.035Z"
   },
   {
    "duration": 12,
    "start_time": "2021-10-14T11:03:39.053Z"
   },
   {
    "duration": 428,
    "start_time": "2021-10-14T11:03:39.066Z"
   },
   {
    "duration": 5,
    "start_time": "2021-10-14T11:03:39.496Z"
   },
   {
    "duration": 2,
    "start_time": "2021-10-14T11:03:39.595Z"
   },
   {
    "duration": 553,
    "start_time": "2021-10-14T11:03:41.250Z"
   },
   {
    "duration": 340,
    "start_time": "2021-10-14T11:03:43.877Z"
   },
   {
    "duration": 1158,
    "start_time": "2021-10-14T11:03:48.045Z"
   },
   {
    "duration": 216,
    "start_time": "2021-10-14T11:03:50.485Z"
   },
   {
    "duration": 1305,
    "start_time": "2021-10-14T11:04:51.899Z"
   },
   {
    "duration": 313,
    "start_time": "2021-10-14T11:05:32.890Z"
   },
   {
    "duration": 1156,
    "start_time": "2021-10-14T11:06:22.032Z"
   },
   {
    "duration": 5,
    "start_time": "2021-10-14T11:06:23.190Z"
   },
   {
    "duration": 17,
    "start_time": "2021-10-14T11:06:23.201Z"
   },
   {
    "duration": 11,
    "start_time": "2021-10-14T11:06:23.220Z"
   },
   {
    "duration": 13,
    "start_time": "2021-10-14T11:06:23.233Z"
   },
   {
    "duration": 448,
    "start_time": "2021-10-14T11:06:23.247Z"
   },
   {
    "duration": 4,
    "start_time": "2021-10-14T11:06:23.697Z"
   },
   {
    "duration": 23,
    "start_time": "2021-10-14T11:06:23.782Z"
   },
   {
    "duration": 641,
    "start_time": "2021-10-14T11:06:24.718Z"
   },
   {
    "duration": 381,
    "start_time": "2021-10-14T11:06:25.418Z"
   },
   {
    "duration": 1180,
    "start_time": "2021-10-14T11:06:26.220Z"
   },
   {
    "duration": 401,
    "start_time": "2021-10-14T11:06:27.403Z"
   },
   {
    "duration": 1301,
    "start_time": "2021-10-14T11:06:27.807Z"
   },
   {
    "duration": 419,
    "start_time": "2021-10-14T11:06:29.111Z"
   },
   {
    "duration": 639,
    "start_time": "2021-10-14T11:23:57.060Z"
   },
   {
    "duration": 1153,
    "start_time": "2021-10-14T11:24:35.843Z"
   },
   {
    "duration": 7,
    "start_time": "2021-10-14T11:24:37.000Z"
   },
   {
    "duration": 13,
    "start_time": "2021-10-14T11:24:37.010Z"
   },
   {
    "duration": 17,
    "start_time": "2021-10-14T11:24:37.024Z"
   },
   {
    "duration": 6,
    "start_time": "2021-10-14T11:24:37.042Z"
   },
   {
    "duration": 465,
    "start_time": "2021-10-14T11:24:37.050Z"
   },
   {
    "duration": 5,
    "start_time": "2021-10-14T11:24:37.517Z"
   },
   {
    "duration": 26,
    "start_time": "2021-10-14T11:24:37.523Z"
   },
   {
    "duration": 558,
    "start_time": "2021-10-14T11:24:37.753Z"
   },
   {
    "duration": 382,
    "start_time": "2021-10-14T11:24:38.317Z"
   },
   {
    "duration": 1112,
    "start_time": "2021-10-14T11:24:38.801Z"
   },
   {
    "duration": 310,
    "start_time": "2021-10-14T11:24:40.000Z"
   },
   {
    "duration": 1388,
    "start_time": "2021-10-14T11:24:40.314Z"
   },
   {
    "duration": 324,
    "start_time": "2021-10-14T11:24:41.704Z"
   },
   {
    "duration": 590,
    "start_time": "2021-10-14T11:24:42.030Z"
   },
   {
    "duration": 1178,
    "start_time": "2021-10-14T11:29:05.953Z"
   },
   {
    "duration": 6,
    "start_time": "2021-10-14T11:29:07.132Z"
   },
   {
    "duration": 13,
    "start_time": "2021-10-14T11:29:07.140Z"
   },
   {
    "duration": 12,
    "start_time": "2021-10-14T11:29:07.155Z"
   },
   {
    "duration": 7,
    "start_time": "2021-10-14T11:29:07.379Z"
   },
   {
    "duration": 469,
    "start_time": "2021-10-14T11:29:07.688Z"
   },
   {
    "duration": 5,
    "start_time": "2021-10-14T11:29:08.159Z"
   },
   {
    "duration": 2,
    "start_time": "2021-10-14T11:29:08.174Z"
   },
   {
    "duration": 659,
    "start_time": "2021-10-14T11:29:09.003Z"
   },
   {
    "duration": 460,
    "start_time": "2021-10-14T11:29:09.841Z"
   },
   {
    "duration": 1222,
    "start_time": "2021-10-14T11:29:10.479Z"
   },
   {
    "duration": 402,
    "start_time": "2021-10-14T11:29:11.703Z"
   },
   {
    "duration": 1409,
    "start_time": "2021-10-14T11:29:12.300Z"
   },
   {
    "duration": 391,
    "start_time": "2021-10-14T11:29:13.712Z"
   },
   {
    "duration": 592,
    "start_time": "2021-10-14T11:29:14.109Z"
   },
   {
    "duration": 65,
    "start_time": "2021-10-14T11:31:28.748Z"
   },
   {
    "duration": 342,
    "start_time": "2021-10-14T11:31:32.979Z"
   },
   {
    "duration": 322,
    "start_time": "2021-10-14T11:31:39.581Z"
   },
   {
    "duration": 324,
    "start_time": "2021-10-14T11:31:44.783Z"
   },
   {
    "duration": 291,
    "start_time": "2021-10-14T11:31:49.311Z"
   },
   {
    "duration": 312,
    "start_time": "2021-10-14T11:31:56.917Z"
   },
   {
    "duration": 365,
    "start_time": "2021-10-14T11:32:02.338Z"
   },
   {
    "duration": 422,
    "start_time": "2021-10-14T11:32:09.879Z"
   },
   {
    "duration": 360,
    "start_time": "2021-10-14T11:32:14.845Z"
   },
   {
    "duration": 297,
    "start_time": "2021-10-14T11:32:22.512Z"
   },
   {
    "duration": 322,
    "start_time": "2021-10-14T11:32:27.586Z"
   },
   {
    "duration": 307,
    "start_time": "2021-10-14T11:32:31.608Z"
   },
   {
    "duration": 295,
    "start_time": "2021-10-14T11:32:36.345Z"
   },
   {
    "duration": 309,
    "start_time": "2021-10-14T11:32:51.221Z"
   },
   {
    "duration": 368,
    "start_time": "2021-10-14T11:33:02.037Z"
   },
   {
    "duration": 322,
    "start_time": "2021-10-14T11:33:11.181Z"
   },
   {
    "duration": 368,
    "start_time": "2021-10-14T11:33:16.534Z"
   },
   {
    "duration": 373,
    "start_time": "2021-10-14T11:33:23.029Z"
   },
   {
    "duration": 307,
    "start_time": "2021-10-14T11:33:28.194Z"
   },
   {
    "duration": 353,
    "start_time": "2021-10-14T11:33:33.849Z"
   },
   {
    "duration": 1196,
    "start_time": "2021-10-14T11:35:10.610Z"
   },
   {
    "duration": 11,
    "start_time": "2021-10-14T11:35:11.808Z"
   },
   {
    "duration": 26,
    "start_time": "2021-10-14T11:35:11.822Z"
   },
   {
    "duration": 18,
    "start_time": "2021-10-14T11:35:11.850Z"
   },
   {
    "duration": 11,
    "start_time": "2021-10-14T11:35:11.869Z"
   },
   {
    "duration": 454,
    "start_time": "2021-10-14T11:35:11.925Z"
   },
   {
    "duration": 3,
    "start_time": "2021-10-14T11:35:12.381Z"
   },
   {
    "duration": 25,
    "start_time": "2021-10-14T11:35:12.397Z"
   },
   {
    "duration": 683,
    "start_time": "2021-10-14T11:35:13.046Z"
   },
   {
    "duration": 403,
    "start_time": "2021-10-14T11:35:14.002Z"
   },
   {
    "duration": 1266,
    "start_time": "2021-10-14T11:35:15.035Z"
   },
   {
    "duration": 401,
    "start_time": "2021-10-14T11:35:16.304Z"
   },
   {
    "duration": 1613,
    "start_time": "2021-10-14T11:35:16.711Z"
   },
   {
    "duration": 302,
    "start_time": "2021-10-14T11:35:18.399Z"
   },
   {
    "duration": 613,
    "start_time": "2021-10-14T11:35:18.705Z"
   },
   {
    "duration": 380,
    "start_time": "2021-10-14T11:35:19.321Z"
   },
   {
    "duration": 1224,
    "start_time": "2021-10-14T11:37:46.761Z"
   },
   {
    "duration": 5,
    "start_time": "2021-10-14T11:37:47.987Z"
   },
   {
    "duration": 31,
    "start_time": "2021-10-14T11:37:47.994Z"
   },
   {
    "duration": 12,
    "start_time": "2021-10-14T11:37:48.028Z"
   },
   {
    "duration": 6,
    "start_time": "2021-10-14T11:37:48.042Z"
   },
   {
    "duration": 493,
    "start_time": "2021-10-14T11:37:48.049Z"
   },
   {
    "duration": 4,
    "start_time": "2021-10-14T11:37:48.543Z"
   },
   {
    "duration": 26,
    "start_time": "2021-10-14T11:37:48.548Z"
   },
   {
    "duration": 671,
    "start_time": "2021-10-14T11:37:49.575Z"
   },
   {
    "duration": 316,
    "start_time": "2021-10-14T11:37:50.519Z"
   },
   {
    "duration": 1280,
    "start_time": "2021-10-14T11:37:51.324Z"
   },
   {
    "duration": 395,
    "start_time": "2021-10-14T11:37:52.608Z"
   },
   {
    "duration": 1444,
    "start_time": "2021-10-14T11:37:56.058Z"
   },
   {
    "duration": 333,
    "start_time": "2021-10-14T11:37:57.505Z"
   },
   {
    "duration": 483,
    "start_time": "2021-10-14T11:37:58.363Z"
   },
   {
    "duration": 336,
    "start_time": "2021-10-14T11:38:02.584Z"
   },
   {
    "duration": 496,
    "start_time": "2021-10-14T11:38:15.447Z"
   },
   {
    "duration": 326,
    "start_time": "2021-10-14T11:38:26.078Z"
   },
   {
    "duration": 1545,
    "start_time": "2021-10-14T11:39:54.747Z"
   },
   {
    "duration": 1559,
    "start_time": "2021-10-14T11:39:56.294Z"
   },
   {
    "duration": 33010,
    "start_time": "2021-10-14T11:39:57.854Z"
   },
   {
    "duration": 1192,
    "start_time": "2021-10-14T11:41:17.812Z"
   },
   {
    "duration": 10,
    "start_time": "2021-10-14T11:41:19.007Z"
   },
   {
    "duration": 15,
    "start_time": "2021-10-14T11:41:19.019Z"
   },
   {
    "duration": 13,
    "start_time": "2021-10-14T11:41:19.036Z"
   },
   {
    "duration": 8,
    "start_time": "2021-10-14T11:41:19.051Z"
   },
   {
    "duration": 496,
    "start_time": "2021-10-14T11:41:19.060Z"
   },
   {
    "duration": 3,
    "start_time": "2021-10-14T11:41:19.558Z"
   },
   {
    "duration": 16,
    "start_time": "2021-10-14T11:41:19.563Z"
   },
   {
    "duration": 735,
    "start_time": "2021-10-14T11:41:19.712Z"
   },
   {
    "duration": 368,
    "start_time": "2021-10-14T11:41:20.450Z"
   },
   {
    "duration": 1482,
    "start_time": "2021-10-14T11:41:20.820Z"
   },
   {
    "duration": 414,
    "start_time": "2021-10-14T11:41:22.305Z"
   },
   {
    "duration": 1507,
    "start_time": "2021-10-14T11:41:22.725Z"
   },
   {
    "duration": 401,
    "start_time": "2021-10-14T11:41:24.300Z"
   },
   {
    "duration": 643,
    "start_time": "2021-10-14T11:41:24.705Z"
   },
   {
    "duration": 352,
    "start_time": "2021-10-14T11:41:25.349Z"
   },
   {
    "duration": 1787,
    "start_time": "2021-10-14T11:41:25.705Z"
   },
   {
    "duration": 1715,
    "start_time": "2021-10-14T11:41:27.494Z"
   },
   {
    "duration": 34121,
    "start_time": "2021-10-14T11:41:29.212Z"
   },
   {
    "duration": 7396,
    "start_time": "2021-10-14T11:44:04.490Z"
   },
   {
    "duration": 404,
    "start_time": "2021-10-14T11:46:27.094Z"
   },
   {
    "duration": 402,
    "start_time": "2021-10-14T11:46:41.467Z"
   },
   {
    "duration": 402,
    "start_time": "2021-10-14T11:46:45.455Z"
   },
   {
    "duration": 364,
    "start_time": "2021-10-14T11:46:50.247Z"
   },
   {
    "duration": 381,
    "start_time": "2021-10-14T11:46:54.707Z"
   },
   {
    "duration": 386,
    "start_time": "2021-10-14T11:46:58.704Z"
   },
   {
    "duration": 379,
    "start_time": "2021-10-14T11:47:03.155Z"
   },
   {
    "duration": 390,
    "start_time": "2021-10-14T11:47:07.391Z"
   },
   {
    "duration": 1344,
    "start_time": "2021-10-14T11:48:19.264Z"
   },
   {
    "duration": 380,
    "start_time": "2021-10-14T11:48:29.194Z"
   },
   {
    "duration": 375,
    "start_time": "2021-10-14T11:48:38.025Z"
   },
   {
    "duration": 1199,
    "start_time": "2021-10-14T11:48:53.547Z"
   },
   {
    "duration": 5,
    "start_time": "2021-10-14T11:48:54.748Z"
   },
   {
    "duration": 11,
    "start_time": "2021-10-14T11:48:54.755Z"
   },
   {
    "duration": 11,
    "start_time": "2021-10-14T11:48:54.768Z"
   },
   {
    "duration": 23,
    "start_time": "2021-10-14T11:48:54.781Z"
   },
   {
    "duration": 497,
    "start_time": "2021-10-14T11:48:54.806Z"
   },
   {
    "duration": 5,
    "start_time": "2021-10-14T11:48:55.306Z"
   },
   {
    "duration": 29,
    "start_time": "2021-10-14T11:48:55.314Z"
   },
   {
    "duration": 704,
    "start_time": "2021-10-14T11:48:55.517Z"
   },
   {
    "duration": 376,
    "start_time": "2021-10-14T11:48:56.224Z"
   },
   {
    "duration": 1331,
    "start_time": "2021-10-14T11:48:56.603Z"
   },
   {
    "duration": 398,
    "start_time": "2021-10-14T11:48:58.002Z"
   },
   {
    "duration": 1495,
    "start_time": "2021-10-14T11:48:58.405Z"
   },
   {
    "duration": 432,
    "start_time": "2021-10-14T11:48:59.903Z"
   },
   {
    "duration": 537,
    "start_time": "2021-10-14T11:49:00.401Z"
   },
   {
    "duration": 368,
    "start_time": "2021-10-14T11:49:00.940Z"
   },
   {
    "duration": 7542,
    "start_time": "2021-10-14T11:49:01.312Z"
   },
   {
    "duration": 1658,
    "start_time": "2021-10-14T11:49:08.857Z"
   },
   {
    "duration": 34516,
    "start_time": "2021-10-14T11:49:10.518Z"
   },
   {
    "duration": 391,
    "start_time": "2021-10-14T11:49:45.036Z"
   },
   {
    "duration": 1400,
    "start_time": "2021-10-14T11:49:45.429Z"
   },
   {
    "duration": 333,
    "start_time": "2021-10-14T11:51:19.239Z"
   },
   {
    "duration": 1171,
    "start_time": "2021-10-14T11:52:26.991Z"
   },
   {
    "duration": 5,
    "start_time": "2021-10-14T11:52:28.164Z"
   },
   {
    "duration": 10,
    "start_time": "2021-10-14T11:52:28.171Z"
   },
   {
    "duration": 23,
    "start_time": "2021-10-14T11:52:28.184Z"
   },
   {
    "duration": 8,
    "start_time": "2021-10-14T11:52:28.881Z"
   },
   {
    "duration": 435,
    "start_time": "2021-10-14T11:52:30.809Z"
   },
   {
    "duration": 4,
    "start_time": "2021-10-14T11:52:31.521Z"
   },
   {
    "duration": 21,
    "start_time": "2021-10-14T11:52:33.106Z"
   },
   {
    "duration": 993,
    "start_time": "2021-10-14T11:52:34.636Z"
   },
   {
    "duration": 616,
    "start_time": "2021-10-14T11:52:45.264Z"
   },
   {
    "duration": 377,
    "start_time": "2021-10-14T11:52:50.936Z"
   },
   {
    "duration": 1158,
    "start_time": "2021-10-14T11:52:57.247Z"
   },
   {
    "duration": 235,
    "start_time": "2021-10-14T11:53:10.672Z"
   },
   {
    "duration": 1391,
    "start_time": "2021-10-14T11:53:21.311Z"
   },
   {
    "duration": 264,
    "start_time": "2021-10-14T11:53:39.249Z"
   },
   {
    "duration": 1556,
    "start_time": "2021-10-14T11:56:31.714Z"
   },
   {
    "duration": 6,
    "start_time": "2021-10-14T11:56:33.272Z"
   },
   {
    "duration": 11,
    "start_time": "2021-10-14T11:56:33.280Z"
   },
   {
    "duration": 23,
    "start_time": "2021-10-14T11:56:33.292Z"
   },
   {
    "duration": 7,
    "start_time": "2021-10-14T11:56:34.046Z"
   },
   {
    "duration": 447,
    "start_time": "2021-10-14T11:56:35.480Z"
   },
   {
    "duration": 7,
    "start_time": "2021-10-14T11:56:36.008Z"
   },
   {
    "duration": 24,
    "start_time": "2021-10-14T11:56:38.000Z"
   },
   {
    "duration": 1417,
    "start_time": "2021-10-14T11:56:40.090Z"
   },
   {
    "duration": 535,
    "start_time": "2021-10-14T11:56:45.866Z"
   },
   {
    "duration": 1419,
    "start_time": "2021-10-14T11:56:50.683Z"
   },
   {
    "duration": 1671,
    "start_time": "2021-10-14T11:56:55.533Z"
   },
   {
    "duration": 1362,
    "start_time": "2021-10-14T11:57:01.249Z"
   },
   {
    "duration": 1180,
    "start_time": "2021-10-14T11:57:06.933Z"
   },
   {
    "duration": 216,
    "start_time": "2021-10-14T11:57:43.907Z"
   },
   {
    "duration": 1498,
    "start_time": "2021-10-14T11:57:59.472Z"
   },
   {
    "duration": 5,
    "start_time": "2021-10-14T11:58:00.972Z"
   },
   {
    "duration": 20,
    "start_time": "2021-10-14T11:58:00.979Z"
   },
   {
    "duration": 11,
    "start_time": "2021-10-14T11:58:01.002Z"
   },
   {
    "duration": 470,
    "start_time": "2021-10-14T11:58:01.015Z"
   },
   {
    "duration": 3,
    "start_time": "2021-10-14T11:58:01.487Z"
   },
   {
    "duration": 31,
    "start_time": "2021-10-14T11:58:01.492Z"
   },
   {
    "duration": 1048,
    "start_time": "2021-10-14T11:58:02.565Z"
   },
   {
    "duration": 1145,
    "start_time": "2021-10-14T11:58:38.632Z"
   },
   {
    "duration": 7,
    "start_time": "2021-10-14T11:58:39.779Z"
   },
   {
    "duration": 15,
    "start_time": "2021-10-14T11:58:39.788Z"
   },
   {
    "duration": 7,
    "start_time": "2021-10-14T11:58:39.805Z"
   },
   {
    "duration": 443,
    "start_time": "2021-10-14T11:58:39.815Z"
   },
   {
    "duration": 4,
    "start_time": "2021-10-14T11:58:41.334Z"
   },
   {
    "duration": 16,
    "start_time": "2021-10-14T11:58:41.575Z"
   },
   {
    "duration": 312,
    "start_time": "2021-10-14T11:58:42.098Z"
   },
   {
    "duration": 340,
    "start_time": "2021-10-14T11:58:47.963Z"
   },
   {
    "duration": 393,
    "start_time": "2021-10-14T11:58:52.113Z"
   },
   {
    "duration": 345,
    "start_time": "2021-10-14T11:58:56.476Z"
   },
   {
    "duration": 309,
    "start_time": "2021-10-14T11:59:00.702Z"
   },
   {
    "duration": 332,
    "start_time": "2021-10-14T11:59:06.970Z"
   },
   {
    "duration": 285,
    "start_time": "2021-10-14T11:59:11.221Z"
   },
   {
    "duration": 360,
    "start_time": "2021-10-14T11:59:17.241Z"
   },
   {
    "duration": 292,
    "start_time": "2021-10-14T11:59:23.816Z"
   },
   {
    "duration": 367,
    "start_time": "2021-10-14T11:59:28.736Z"
   },
   {
    "duration": 332,
    "start_time": "2021-10-14T11:59:47.369Z"
   },
   {
    "duration": 223,
    "start_time": "2021-10-14T11:59:52.083Z"
   },
   {
    "duration": 449,
    "start_time": "2021-10-14T12:00:59.153Z"
   },
   {
    "duration": 503,
    "start_time": "2021-10-14T12:01:04.186Z"
   },
   {
    "duration": 498,
    "start_time": "2021-10-14T12:01:09.093Z"
   },
   {
    "duration": 340,
    "start_time": "2021-10-14T12:01:19.148Z"
   },
   {
    "duration": 1111,
    "start_time": "2021-10-14T12:01:31.377Z"
   },
   {
    "duration": 6,
    "start_time": "2021-10-14T12:01:32.489Z"
   },
   {
    "duration": 20,
    "start_time": "2021-10-14T12:01:32.497Z"
   },
   {
    "duration": 9,
    "start_time": "2021-10-14T12:01:32.519Z"
   },
   {
    "duration": 431,
    "start_time": "2021-10-14T12:01:32.530Z"
   },
   {
    "duration": 4,
    "start_time": "2021-10-14T12:01:32.963Z"
   },
   {
    "duration": 18,
    "start_time": "2021-10-14T12:01:32.983Z"
   },
   {
    "duration": 644,
    "start_time": "2021-10-14T12:01:37.133Z"
   },
   {
    "duration": 363,
    "start_time": "2021-10-14T12:02:13.300Z"
   },
   {
    "duration": 329,
    "start_time": "2021-10-14T12:02:43.572Z"
   },
   {
    "duration": 1192,
    "start_time": "2021-10-14T12:03:01.603Z"
   },
   {
    "duration": 10,
    "start_time": "2021-10-14T12:03:02.796Z"
   },
   {
    "duration": 20,
    "start_time": "2021-10-14T12:03:02.808Z"
   },
   {
    "duration": 11,
    "start_time": "2021-10-14T12:03:02.830Z"
   },
   {
    "duration": 446,
    "start_time": "2021-10-14T12:03:02.991Z"
   },
   {
    "duration": 4,
    "start_time": "2021-10-14T12:03:03.468Z"
   },
   {
    "duration": 16,
    "start_time": "2021-10-14T12:03:03.777Z"
   },
   {
    "duration": 344,
    "start_time": "2021-10-14T12:03:04.105Z"
   },
   {
    "duration": 739,
    "start_time": "2021-10-14T12:03:25.224Z"
   },
   {
    "duration": 1171,
    "start_time": "2021-10-14T12:03:34.855Z"
   },
   {
    "duration": 5,
    "start_time": "2021-10-14T12:03:36.028Z"
   },
   {
    "duration": 16,
    "start_time": "2021-10-14T12:03:36.035Z"
   },
   {
    "duration": 9,
    "start_time": "2021-10-14T12:03:36.052Z"
   },
   {
    "duration": 457,
    "start_time": "2021-10-14T12:03:36.062Z"
   },
   {
    "duration": 5,
    "start_time": "2021-10-14T12:03:36.521Z"
   },
   {
    "duration": 15,
    "start_time": "2021-10-14T12:03:37.073Z"
   },
   {
    "duration": 723,
    "start_time": "2021-10-14T12:03:38.079Z"
   },
   {
    "duration": 1308,
    "start_time": "2021-10-14T12:05:28.708Z"
   },
   {
    "duration": 868,
    "start_time": "2021-10-14T12:05:45.012Z"
   },
   {
    "duration": 794,
    "start_time": "2021-10-14T12:06:06.962Z"
   },
   {
    "duration": 1184,
    "start_time": "2021-10-14T12:06:19.789Z"
   },
   {
    "duration": 5,
    "start_time": "2021-10-14T12:06:20.975Z"
   },
   {
    "duration": 15,
    "start_time": "2021-10-14T12:06:20.982Z"
   },
   {
    "duration": 8,
    "start_time": "2021-10-14T12:06:21.000Z"
   },
   {
    "duration": 429,
    "start_time": "2021-10-14T12:06:21.238Z"
   },
   {
    "duration": 4,
    "start_time": "2021-10-14T12:06:22.660Z"
   },
   {
    "duration": 18,
    "start_time": "2021-10-14T12:06:23.242Z"
   },
   {
    "duration": 871,
    "start_time": "2021-10-14T12:06:23.764Z"
   },
   {
    "duration": 773,
    "start_time": "2021-10-14T12:07:19.710Z"
   },
   {
    "duration": 1278,
    "start_time": "2021-10-14T12:07:44.451Z"
   },
   {
    "duration": 1269,
    "start_time": "2021-10-14T12:07:51.564Z"
   },
   {
    "duration": 1158,
    "start_time": "2021-10-14T12:07:58.490Z"
   },
   {
    "duration": 1111,
    "start_time": "2021-10-14T12:08:05.122Z"
   },
   {
    "duration": 1312,
    "start_time": "2021-10-14T12:08:09.557Z"
   },
   {
    "duration": 1416,
    "start_time": "2021-10-14T12:08:14.202Z"
   },
   {
    "duration": 2051,
    "start_time": "2021-10-14T12:08:21.795Z"
   },
   {
    "duration": 4016,
    "start_time": "2021-10-14T12:08:28.932Z"
   },
   {
    "duration": 1190,
    "start_time": "2021-10-14T12:08:40.936Z"
   },
   {
    "duration": 1213,
    "start_time": "2021-10-14T12:08:46.065Z"
   },
   {
    "duration": 598,
    "start_time": "2021-10-14T12:08:50.335Z"
   },
   {
    "duration": 1202,
    "start_time": "2021-10-14T12:09:00.790Z"
   },
   {
    "duration": 6,
    "start_time": "2021-10-14T12:09:01.994Z"
   },
   {
    "duration": 18,
    "start_time": "2021-10-14T12:09:02.003Z"
   },
   {
    "duration": 6,
    "start_time": "2021-10-14T12:09:02.023Z"
   },
   {
    "duration": 451,
    "start_time": "2021-10-14T12:09:02.030Z"
   },
   {
    "duration": 4,
    "start_time": "2021-10-14T12:09:02.483Z"
   },
   {
    "duration": 37,
    "start_time": "2021-10-14T12:09:02.489Z"
   },
   {
    "duration": 626,
    "start_time": "2021-10-14T12:09:02.991Z"
   },
   {
    "duration": 1142,
    "start_time": "2021-10-14T12:09:17.177Z"
   },
   {
    "duration": 5,
    "start_time": "2021-10-14T12:09:18.321Z"
   },
   {
    "duration": 14,
    "start_time": "2021-10-14T12:09:18.328Z"
   },
   {
    "duration": 6,
    "start_time": "2021-10-14T12:09:18.343Z"
   },
   {
    "duration": 457,
    "start_time": "2021-10-14T12:09:18.350Z"
   },
   {
    "duration": 5,
    "start_time": "2021-10-14T12:09:18.809Z"
   },
   {
    "duration": 30,
    "start_time": "2021-10-14T12:09:18.816Z"
   },
   {
    "duration": 539,
    "start_time": "2021-10-14T12:09:19.325Z"
   },
   {
    "duration": 1184,
    "start_time": "2021-10-14T12:09:40.398Z"
   },
   {
    "duration": 1261,
    "start_time": "2021-10-14T12:09:46.666Z"
   },
   {
    "duration": 1238,
    "start_time": "2021-10-14T12:09:56.615Z"
   },
   {
    "duration": 1104,
    "start_time": "2021-10-14T12:10:59.076Z"
   },
   {
    "duration": 5,
    "start_time": "2021-10-14T12:11:00.182Z"
   },
   {
    "duration": 16,
    "start_time": "2021-10-14T12:11:00.189Z"
   },
   {
    "duration": 7,
    "start_time": "2021-10-14T12:11:00.235Z"
   },
   {
    "duration": 441,
    "start_time": "2021-10-14T12:11:00.915Z"
   },
   {
    "duration": 4,
    "start_time": "2021-10-14T12:11:01.460Z"
   },
   {
    "duration": 15,
    "start_time": "2021-10-14T12:11:01.960Z"
   },
   {
    "duration": 214,
    "start_time": "2021-10-14T12:11:02.559Z"
   },
   {
    "duration": 1293,
    "start_time": "2021-10-14T12:11:04.333Z"
   },
   {
    "duration": 244,
    "start_time": "2021-10-14T12:11:10.471Z"
   },
   {
    "duration": 284,
    "start_time": "2021-10-14T12:11:15.105Z"
   },
   {
    "duration": 310,
    "start_time": "2021-10-14T12:11:18.012Z"
   },
   {
    "duration": 368,
    "start_time": "2021-10-14T12:11:21.448Z"
   },
   {
    "duration": 295,
    "start_time": "2021-10-14T12:11:30.127Z"
   },
   {
    "duration": 250,
    "start_time": "2021-10-14T12:11:34.444Z"
   },
   {
    "duration": 213,
    "start_time": "2021-10-14T12:11:37.811Z"
   },
   {
    "duration": 219,
    "start_time": "2021-10-14T12:11:43.195Z"
   },
   {
    "duration": 227,
    "start_time": "2021-10-14T12:11:48.116Z"
   },
   {
    "duration": 206,
    "start_time": "2021-10-14T12:11:51.279Z"
   },
   {
    "duration": 220,
    "start_time": "2021-10-14T12:12:02.897Z"
   },
   {
    "duration": 216,
    "start_time": "2021-10-14T12:12:20.535Z"
   },
   {
    "duration": 223,
    "start_time": "2021-10-14T12:12:24.897Z"
   },
   {
    "duration": 220,
    "start_time": "2021-10-14T12:12:30.522Z"
   },
   {
    "duration": 195,
    "start_time": "2021-10-14T12:12:34.305Z"
   },
   {
    "duration": 206,
    "start_time": "2021-10-14T12:12:38.712Z"
   },
   {
    "duration": 216,
    "start_time": "2021-10-14T12:13:15.853Z"
   },
   {
    "duration": 204,
    "start_time": "2021-10-14T12:13:23.015Z"
   },
   {
    "duration": 1196,
    "start_time": "2021-10-14T12:14:14.882Z"
   },
   {
    "duration": 6,
    "start_time": "2021-10-14T12:14:16.079Z"
   },
   {
    "duration": 18,
    "start_time": "2021-10-14T12:14:16.086Z"
   },
   {
    "duration": 7,
    "start_time": "2021-10-14T12:14:16.105Z"
   },
   {
    "duration": 436,
    "start_time": "2021-10-14T12:14:16.746Z"
   },
   {
    "duration": 4,
    "start_time": "2021-10-14T12:14:17.659Z"
   },
   {
    "duration": 16,
    "start_time": "2021-10-14T12:14:18.210Z"
   },
   {
    "duration": 592,
    "start_time": "2021-10-14T12:14:18.625Z"
   },
   {
    "duration": 227,
    "start_time": "2021-10-14T12:14:50.723Z"
   },
   {
    "duration": 223,
    "start_time": "2021-10-14T12:15:23.243Z"
   },
   {
    "duration": 243,
    "start_time": "2021-10-14T12:15:52.166Z"
   },
   {
    "duration": 228,
    "start_time": "2021-10-14T12:18:27.762Z"
   },
   {
    "duration": 267,
    "start_time": "2021-10-14T12:18:34.280Z"
   },
   {
    "duration": 276,
    "start_time": "2021-10-14T12:18:39.338Z"
   },
   {
    "duration": 256,
    "start_time": "2021-10-14T12:18:48.027Z"
   },
   {
    "duration": 247,
    "start_time": "2021-10-14T12:18:51.680Z"
   },
   {
    "duration": 242,
    "start_time": "2021-10-14T12:18:54.235Z"
   },
   {
    "duration": 258,
    "start_time": "2021-10-14T12:18:58.390Z"
   },
   {
    "duration": 208,
    "start_time": "2021-10-14T12:19:06.021Z"
   },
   {
    "duration": 209,
    "start_time": "2021-10-14T12:19:11.146Z"
   },
   {
    "duration": 225,
    "start_time": "2021-10-14T12:19:17.190Z"
   },
   {
    "duration": 218,
    "start_time": "2021-10-14T12:19:22.441Z"
   },
   {
    "duration": 227,
    "start_time": "2021-10-14T12:19:25.203Z"
   },
   {
    "duration": 220,
    "start_time": "2021-10-14T12:19:28.021Z"
   },
   {
    "duration": 220,
    "start_time": "2021-10-14T12:19:31.047Z"
   },
   {
    "duration": 219,
    "start_time": "2021-10-14T12:19:34.230Z"
   },
   {
    "duration": 233,
    "start_time": "2021-10-14T12:19:40.684Z"
   },
   {
    "duration": 225,
    "start_time": "2021-10-14T12:19:44.064Z"
   },
   {
    "duration": 225,
    "start_time": "2021-10-14T12:19:49.534Z"
   },
   {
    "duration": 227,
    "start_time": "2021-10-14T12:19:52.367Z"
   },
   {
    "duration": 216,
    "start_time": "2021-10-14T12:19:55.464Z"
   },
   {
    "duration": 186,
    "start_time": "2021-10-14T12:22:20.732Z"
   },
   {
    "duration": 1066,
    "start_time": "2021-10-14T12:24:20.245Z"
   },
   {
    "duration": 5,
    "start_time": "2021-10-14T12:24:21.313Z"
   },
   {
    "duration": 16,
    "start_time": "2021-10-14T12:24:21.319Z"
   },
   {
    "duration": 6,
    "start_time": "2021-10-14T12:24:21.337Z"
   },
   {
    "duration": 416,
    "start_time": "2021-10-14T12:24:21.444Z"
   },
   {
    "duration": 4,
    "start_time": "2021-10-14T12:24:22.459Z"
   },
   {
    "duration": 17,
    "start_time": "2021-10-14T12:24:23.150Z"
   },
   {
    "duration": 331,
    "start_time": "2021-10-14T12:24:23.559Z"
   },
   {
    "duration": 316,
    "start_time": "2021-10-14T12:24:36.070Z"
   },
   {
    "duration": 234,
    "start_time": "2021-10-14T12:25:34.438Z"
   },
   {
    "duration": 204,
    "start_time": "2021-10-14T12:25:39.195Z"
   },
   {
    "duration": 272,
    "start_time": "2021-10-14T12:25:41.901Z"
   },
   {
    "duration": 228,
    "start_time": "2021-10-14T12:25:46.109Z"
   },
   {
    "duration": 235,
    "start_time": "2021-10-14T12:25:48.171Z"
   },
   {
    "duration": 225,
    "start_time": "2021-10-14T12:25:51.194Z"
   },
   {
    "duration": 216,
    "start_time": "2021-10-14T12:25:54.056Z"
   },
   {
    "duration": 329,
    "start_time": "2021-10-14T12:26:00.705Z"
   },
   {
    "duration": 1183,
    "start_time": "2021-10-14T12:26:49.172Z"
   },
   {
    "duration": 273,
    "start_time": "2021-10-14T12:27:10.300Z"
   },
   {
    "duration": 59,
    "start_time": "2021-10-14T12:27:22.963Z"
   },
   {
    "duration": 57,
    "start_time": "2021-10-14T12:27:37.036Z"
   },
   {
    "duration": 62,
    "start_time": "2021-10-14T12:28:00.456Z"
   },
   {
    "duration": 59,
    "start_time": "2021-10-14T12:28:07.516Z"
   },
   {
    "duration": 1241,
    "start_time": "2021-10-14T12:28:42.734Z"
   },
   {
    "duration": 1159,
    "start_time": "2021-10-14T12:28:51.832Z"
   },
   {
    "duration": 193,
    "start_time": "2021-10-14T12:29:23.256Z"
   },
   {
    "duration": 184,
    "start_time": "2021-10-14T12:29:43.435Z"
   },
   {
    "duration": 1610,
    "start_time": "2021-10-15T11:07:37.813Z"
   },
   {
    "duration": 8,
    "start_time": "2021-10-15T11:07:39.425Z"
   },
   {
    "duration": 37,
    "start_time": "2021-10-15T11:07:39.437Z"
   },
   {
    "duration": 10,
    "start_time": "2021-10-15T11:07:39.476Z"
   },
   {
    "duration": 614,
    "start_time": "2021-10-15T11:07:39.488Z"
   },
   {
    "duration": 44,
    "start_time": "2021-10-15T11:07:40.138Z"
   },
   {
    "duration": 1687,
    "start_time": "2021-10-15T11:10:17.095Z"
   },
   {
    "duration": 6,
    "start_time": "2021-10-15T11:10:18.785Z"
   },
   {
    "duration": 13,
    "start_time": "2021-10-15T11:10:18.794Z"
   },
   {
    "duration": 6,
    "start_time": "2021-10-15T11:10:39.038Z"
   },
   {
    "duration": 32,
    "start_time": "2021-10-15T11:10:40.200Z"
   },
   {
    "duration": 31,
    "start_time": "2021-10-15T11:10:41.551Z"
   },
   {
    "duration": 1569,
    "start_time": "2021-10-15T11:21:09.514Z"
   },
   {
    "duration": 6,
    "start_time": "2021-10-15T11:21:11.086Z"
   },
   {
    "duration": 10,
    "start_time": "2021-10-15T11:21:11.095Z"
   },
   {
    "duration": 17,
    "start_time": "2021-10-15T11:21:11.108Z"
   },
   {
    "duration": 43,
    "start_time": "2021-10-15T11:21:11.128Z"
   },
   {
    "duration": 9,
    "start_time": "2021-10-15T11:21:11.228Z"
   },
   {
    "duration": 31,
    "start_time": "2021-10-15T11:21:12.027Z"
   },
   {
    "duration": 27,
    "start_time": "2021-10-15T11:21:12.620Z"
   },
   {
    "duration": 6,
    "start_time": "2021-10-15T11:21:13.726Z"
   },
   {
    "duration": 32,
    "start_time": "2021-10-15T11:21:14.421Z"
   },
   {
    "duration": 45,
    "start_time": "2021-10-15T11:21:17.558Z"
   },
   {
    "duration": 42,
    "start_time": "2021-10-15T11:21:18.070Z"
   },
   {
    "duration": 31,
    "start_time": "2021-10-15T11:27:54.980Z"
   },
   {
    "duration": 1596,
    "start_time": "2021-10-15T11:28:32.086Z"
   },
   {
    "duration": 7,
    "start_time": "2021-10-15T11:28:33.685Z"
   },
   {
    "duration": 9,
    "start_time": "2021-10-15T11:28:33.695Z"
   },
   {
    "duration": 23,
    "start_time": "2021-10-15T11:28:33.706Z"
   },
   {
    "duration": 43,
    "start_time": "2021-10-15T11:28:33.731Z"
   },
   {
    "duration": 10,
    "start_time": "2021-10-15T11:28:33.778Z"
   },
   {
    "duration": 33,
    "start_time": "2021-10-15T11:28:33.995Z"
   },
   {
    "duration": 27,
    "start_time": "2021-10-15T11:28:34.410Z"
   },
   {
    "duration": 6,
    "start_time": "2021-10-15T11:28:35.333Z"
   },
   {
    "duration": 472,
    "start_time": "2021-10-15T11:28:35.885Z"
   },
   {
    "duration": 29,
    "start_time": "2021-10-15T11:28:37.111Z"
   },
   {
    "duration": 137,
    "start_time": "2021-10-15T11:28:38.531Z"
   },
   {
    "duration": 58,
    "start_time": "2021-10-15T11:29:15.547Z"
   },
   {
    "duration": 92,
    "start_time": "2021-10-15T11:29:25.074Z"
   },
   {
    "duration": 153,
    "start_time": "2021-10-15T11:32:18.351Z"
   },
   {
    "duration": 98,
    "start_time": "2021-10-15T11:32:51.326Z"
   },
   {
    "duration": 151,
    "start_time": "2021-10-15T11:32:59.424Z"
   },
   {
    "duration": 44,
    "start_time": "2021-10-15T11:33:49.008Z"
   },
   {
    "duration": 411,
    "start_time": "2021-10-15T11:33:58.690Z"
   },
   {
    "duration": 44,
    "start_time": "2021-10-15T11:34:12.527Z"
   },
   {
    "duration": 1637,
    "start_time": "2021-10-15T11:35:50.953Z"
   },
   {
    "duration": 6,
    "start_time": "2021-10-15T11:35:52.592Z"
   },
   {
    "duration": 9,
    "start_time": "2021-10-15T11:35:52.601Z"
   },
   {
    "duration": 50,
    "start_time": "2021-10-15T11:35:52.612Z"
   },
   {
    "duration": 14,
    "start_time": "2021-10-15T11:35:52.665Z"
   },
   {
    "duration": 10,
    "start_time": "2021-10-15T11:35:52.682Z"
   },
   {
    "duration": 30,
    "start_time": "2021-10-15T11:35:52.694Z"
   },
   {
    "duration": 26,
    "start_time": "2021-10-15T11:35:52.805Z"
   },
   {
    "duration": 6,
    "start_time": "2021-10-15T11:35:53.396Z"
   },
   {
    "duration": 35,
    "start_time": "2021-10-15T11:35:54.201Z"
   },
   {
    "duration": 33,
    "start_time": "2021-10-15T11:35:55.237Z"
   },
   {
    "duration": 34,
    "start_time": "2021-10-15T11:35:56.580Z"
   },
   {
    "duration": 153,
    "start_time": "2021-10-15T11:35:58.309Z"
   },
   {
    "duration": 32,
    "start_time": "2021-10-15T11:35:59.613Z"
   },
   {
    "duration": 114,
    "start_time": "2021-10-15T11:36:08.455Z"
   },
   {
    "duration": 119,
    "start_time": "2021-10-15T11:36:11.347Z"
   },
   {
    "duration": 179,
    "start_time": "2021-10-15T11:36:15.286Z"
   },
   {
    "duration": 91,
    "start_time": "2021-10-15T11:36:17.472Z"
   },
   {
    "duration": 476,
    "start_time": "2021-10-15T11:36:24.028Z"
   },
   {
    "duration": 245,
    "start_time": "2021-10-15T11:36:29.029Z"
   },
   {
    "duration": 378,
    "start_time": "2021-10-15T11:36:33.188Z"
   },
   {
    "duration": 111,
    "start_time": "2021-10-15T11:36:36.155Z"
   },
   {
    "duration": 55,
    "start_time": "2021-10-15T11:36:51.738Z"
   },
   {
    "duration": 45,
    "start_time": "2021-10-15T11:36:59.124Z"
   },
   {
    "duration": 55,
    "start_time": "2021-10-15T11:37:03.409Z"
   },
   {
    "duration": 42,
    "start_time": "2021-10-15T11:37:05.644Z"
   },
   {
    "duration": 46,
    "start_time": "2021-10-15T11:37:08.848Z"
   },
   {
    "duration": 103,
    "start_time": "2021-10-15T11:37:11.962Z"
   },
   {
    "duration": 46,
    "start_time": "2021-10-15T11:37:14.691Z"
   },
   {
    "duration": 124,
    "start_time": "2021-10-15T11:37:16.853Z"
   },
   {
    "duration": 70,
    "start_time": "2021-10-15T11:37:19.597Z"
   },
   {
    "duration": 106,
    "start_time": "2021-10-15T11:37:23.056Z"
   },
   {
    "duration": 36,
    "start_time": "2021-10-15T11:37:26.805Z"
   },
   {
    "duration": 37,
    "start_time": "2021-10-15T11:37:28.815Z"
   },
   {
    "duration": 38,
    "start_time": "2021-10-15T11:37:31.491Z"
   },
   {
    "duration": 100,
    "start_time": "2021-10-15T11:37:34.867Z"
   },
   {
    "duration": 90,
    "start_time": "2021-10-15T11:37:39.178Z"
   },
   {
    "duration": 38,
    "start_time": "2021-10-15T11:37:47.300Z"
   },
   {
    "duration": 45,
    "start_time": "2021-10-15T11:37:51.652Z"
   },
   {
    "duration": 36,
    "start_time": "2021-10-15T11:37:56.787Z"
   },
   {
    "duration": 37,
    "start_time": "2021-10-15T11:38:00.407Z"
   },
   {
    "duration": 38,
    "start_time": "2021-10-15T11:38:07.307Z"
   },
   {
    "duration": 89,
    "start_time": "2021-10-15T11:38:13.779Z"
   },
   {
    "duration": 45,
    "start_time": "2021-10-15T11:38:20.740Z"
   },
   {
    "duration": 221,
    "start_time": "2021-10-15T11:39:03.591Z"
   },
   {
    "duration": 33,
    "start_time": "2021-10-15T11:40:07.536Z"
   },
   {
    "duration": 44,
    "start_time": "2021-10-15T11:40:18.922Z"
   },
   {
    "duration": 30,
    "start_time": "2021-10-15T11:40:25.714Z"
   },
   {
    "duration": 68,
    "start_time": "2021-10-15T11:40:29.493Z"
   },
   {
    "duration": 38,
    "start_time": "2021-10-15T11:40:45.823Z"
   },
   {
    "duration": 31,
    "start_time": "2021-10-15T11:40:55.086Z"
   },
   {
    "duration": 30,
    "start_time": "2021-10-15T11:41:06.470Z"
   },
   {
    "duration": 33,
    "start_time": "2021-10-15T11:41:11.020Z"
   },
   {
    "duration": 32,
    "start_time": "2021-10-15T11:41:13.904Z"
   },
   {
    "duration": 39,
    "start_time": "2021-10-15T11:41:16.543Z"
   },
   {
    "duration": 36,
    "start_time": "2021-10-15T11:41:18.643Z"
   },
   {
    "duration": 34,
    "start_time": "2021-10-15T11:41:20.809Z"
   },
   {
    "duration": 33,
    "start_time": "2021-10-15T11:41:23.203Z"
   },
   {
    "duration": 33,
    "start_time": "2021-10-15T11:41:26.476Z"
   },
   {
    "duration": 76,
    "start_time": "2021-10-15T11:41:29.585Z"
   },
   {
    "duration": 43,
    "start_time": "2021-10-15T11:41:32.144Z"
   },
   {
    "duration": 32,
    "start_time": "2021-10-15T11:41:34.321Z"
   },
   {
    "duration": 38,
    "start_time": "2021-10-15T11:41:36.929Z"
   },
   {
    "duration": 55,
    "start_time": "2021-10-15T11:42:40.210Z"
   },
   {
    "duration": 42,
    "start_time": "2021-10-15T11:42:49.760Z"
   },
   {
    "duration": 42,
    "start_time": "2021-10-15T11:42:54.430Z"
   },
   {
    "duration": 40,
    "start_time": "2021-10-15T11:42:56.945Z"
   },
   {
    "duration": 112,
    "start_time": "2021-10-15T11:42:59.257Z"
   },
   {
    "duration": 96,
    "start_time": "2021-10-15T11:43:01.681Z"
   },
   {
    "duration": 64,
    "start_time": "2021-10-15T11:43:03.804Z"
   },
   {
    "duration": 80,
    "start_time": "2021-10-15T11:43:06.102Z"
   },
   {
    "duration": 124,
    "start_time": "2021-10-15T11:43:08.753Z"
   },
   {
    "duration": 95,
    "start_time": "2021-10-15T11:43:11.671Z"
   },
   {
    "duration": 41,
    "start_time": "2021-10-15T11:43:17.890Z"
   },
   {
    "duration": 86,
    "start_time": "2021-10-15T11:43:20.175Z"
   },
   {
    "duration": 36,
    "start_time": "2021-10-15T11:43:26.673Z"
   },
   {
    "duration": 41,
    "start_time": "2021-10-15T11:43:29.816Z"
   },
   {
    "duration": 40,
    "start_time": "2021-10-15T11:43:32.709Z"
   },
   {
    "duration": 39,
    "start_time": "2021-10-15T11:43:35.333Z"
   },
   {
    "duration": 313,
    "start_time": "2021-10-15T11:44:52.712Z"
   },
   {
    "duration": 37,
    "start_time": "2021-10-15T11:45:03.120Z"
   },
   {
    "duration": 40,
    "start_time": "2021-10-15T11:45:10.777Z"
   },
   {
    "duration": 43,
    "start_time": "2021-10-15T11:45:18.330Z"
   },
   {
    "duration": 45,
    "start_time": "2021-10-15T11:45:24.170Z"
   },
   {
    "duration": 35,
    "start_time": "2021-10-15T11:45:28.580Z"
   },
   {
    "duration": 34,
    "start_time": "2021-10-15T11:45:32.718Z"
   },
   {
    "duration": 35,
    "start_time": "2021-10-15T11:45:36.724Z"
   },
   {
    "duration": 36,
    "start_time": "2021-10-15T11:48:04.217Z"
   },
   {
    "duration": 43,
    "start_time": "2021-10-15T11:48:06.534Z"
   },
   {
    "duration": 35,
    "start_time": "2021-10-15T11:48:08.603Z"
   },
   {
    "duration": 36,
    "start_time": "2021-10-15T11:48:11.424Z"
   },
   {
    "duration": 34,
    "start_time": "2021-10-15T11:48:14.103Z"
   },
   {
    "duration": 41,
    "start_time": "2021-10-15T11:48:16.724Z"
   },
   {
    "duration": 36,
    "start_time": "2021-10-15T11:48:18.922Z"
   },
   {
    "duration": 39,
    "start_time": "2021-10-15T11:48:24.170Z"
   },
   {
    "duration": 42,
    "start_time": "2021-10-15T11:48:26.346Z"
   },
   {
    "duration": 43,
    "start_time": "2021-10-15T11:48:28.233Z"
   },
   {
    "duration": 36,
    "start_time": "2021-10-15T11:48:30.981Z"
   },
   {
    "duration": 40,
    "start_time": "2021-10-15T11:48:34.275Z"
   },
   {
    "duration": 35,
    "start_time": "2021-10-15T11:48:37.316Z"
   },
   {
    "duration": 49,
    "start_time": "2021-10-15T11:48:40.545Z"
   },
   {
    "duration": 49,
    "start_time": "2021-10-15T11:48:44.661Z"
   },
   {
    "duration": 38,
    "start_time": "2021-10-15T11:48:51.109Z"
   },
   {
    "duration": 36,
    "start_time": "2021-10-15T11:48:54.921Z"
   },
   {
    "duration": 49,
    "start_time": "2021-10-15T11:49:06.645Z"
   },
   {
    "duration": 45,
    "start_time": "2021-10-15T11:49:09.050Z"
   },
   {
    "duration": 39,
    "start_time": "2021-10-15T11:49:12.908Z"
   },
   {
    "duration": 37,
    "start_time": "2021-10-15T11:49:16.083Z"
   },
   {
    "duration": 37,
    "start_time": "2021-10-15T11:49:18.908Z"
   },
   {
    "duration": 42,
    "start_time": "2021-10-15T11:49:21.128Z"
   },
   {
    "duration": 39,
    "start_time": "2021-10-15T11:49:23.319Z"
   },
   {
    "duration": 39,
    "start_time": "2021-10-15T11:49:28.168Z"
   },
   {
    "duration": 43,
    "start_time": "2021-10-15T11:49:32.574Z"
   },
   {
    "duration": 140,
    "start_time": "2021-10-15T11:51:03.690Z"
   },
   {
    "duration": 136,
    "start_time": "2021-10-15T11:51:19.622Z"
   },
   {
    "duration": 102,
    "start_time": "2021-10-15T11:51:26.464Z"
   },
   {
    "duration": 153,
    "start_time": "2021-10-15T11:51:30.433Z"
   },
   {
    "duration": 126,
    "start_time": "2021-10-15T11:51:35.688Z"
   },
   {
    "duration": 119,
    "start_time": "2021-10-15T11:51:39.303Z"
   },
   {
    "duration": 131,
    "start_time": "2021-10-15T11:51:42.723Z"
   },
   {
    "duration": 140,
    "start_time": "2021-10-15T11:51:46.752Z"
   },
   {
    "duration": 125,
    "start_time": "2021-10-15T11:51:50.332Z"
   },
   {
    "duration": 39,
    "start_time": "2021-10-15T11:51:54.428Z"
   },
   {
    "duration": 42,
    "start_time": "2021-10-15T11:51:57.872Z"
   },
   {
    "duration": 53,
    "start_time": "2021-10-15T11:52:01.901Z"
   },
   {
    "duration": 75,
    "start_time": "2021-10-15T11:52:07.917Z"
   },
   {
    "duration": 65,
    "start_time": "2021-10-15T11:52:12.560Z"
   },
   {
    "duration": 51,
    "start_time": "2021-10-15T11:52:20.201Z"
   },
   {
    "duration": 58,
    "start_time": "2021-10-15T11:52:24.772Z"
   },
   {
    "duration": 70,
    "start_time": "2021-10-15T11:52:28.737Z"
   },
   {
    "duration": 59,
    "start_time": "2021-10-15T11:52:32.197Z"
   },
   {
    "duration": 58,
    "start_time": "2021-10-15T11:52:36.583Z"
   },
   {
    "duration": 109,
    "start_time": "2021-10-15T11:52:41.942Z"
   },
   {
    "duration": 50,
    "start_time": "2021-10-15T11:52:47.070Z"
   },
   {
    "duration": 55,
    "start_time": "2021-10-15T11:52:53.620Z"
   },
   {
    "duration": 52,
    "start_time": "2021-10-15T11:52:56.570Z"
   },
   {
    "duration": 47,
    "start_time": "2021-10-15T11:52:58.783Z"
   },
   {
    "duration": 53,
    "start_time": "2021-10-15T11:53:00.602Z"
   },
   {
    "duration": 50,
    "start_time": "2021-10-15T11:53:02.510Z"
   },
   {
    "duration": 54,
    "start_time": "2021-10-15T11:53:04.828Z"
   },
   {
    "duration": 46,
    "start_time": "2021-10-15T11:53:06.791Z"
   },
   {
    "duration": 47,
    "start_time": "2021-10-15T11:53:09.911Z"
   },
   {
    "duration": 50,
    "start_time": "2021-10-15T11:53:12.665Z"
   },
   {
    "duration": 56,
    "start_time": "2021-10-15T11:53:15.123Z"
   },
   {
    "duration": 49,
    "start_time": "2021-10-15T11:53:18.781Z"
   },
   {
    "duration": 52,
    "start_time": "2021-10-15T11:53:23.348Z"
   },
   {
    "duration": 50,
    "start_time": "2021-10-15T11:53:26.234Z"
   },
   {
    "duration": 51,
    "start_time": "2021-10-15T11:53:30.503Z"
   },
   {
    "duration": 69,
    "start_time": "2021-10-15T11:53:32.950Z"
   },
   {
    "duration": 53,
    "start_time": "2021-10-15T11:53:35.200Z"
   },
   {
    "duration": 55,
    "start_time": "2021-10-15T11:53:39.255Z"
   },
   {
    "duration": 49,
    "start_time": "2021-10-15T11:53:43.370Z"
   },
   {
    "duration": 50,
    "start_time": "2021-10-15T11:53:50.879Z"
   },
   {
    "duration": 63,
    "start_time": "2021-10-15T11:54:02.440Z"
   },
   {
    "duration": 55,
    "start_time": "2021-10-15T11:54:06.812Z"
   },
   {
    "duration": 52,
    "start_time": "2021-10-15T11:54:12.341Z"
   },
   {
    "duration": 53,
    "start_time": "2021-10-15T11:54:16.608Z"
   },
   {
    "duration": 45,
    "start_time": "2021-10-15T11:54:20.920Z"
   },
   {
    "duration": 45,
    "start_time": "2021-10-15T11:54:24.371Z"
   },
   {
    "duration": 47,
    "start_time": "2021-10-15T11:54:27.803Z"
   },
   {
    "duration": 52,
    "start_time": "2021-10-15T11:56:11.638Z"
   },
   {
    "duration": 48,
    "start_time": "2021-10-15T11:56:47.686Z"
   },
   {
    "duration": 48,
    "start_time": "2021-10-15T11:56:59.738Z"
   },
   {
    "duration": 48,
    "start_time": "2021-10-15T11:57:05.645Z"
   },
   {
    "duration": 1574,
    "start_time": "2021-10-15T11:57:17.094Z"
   },
   {
    "duration": 6,
    "start_time": "2021-10-15T11:57:18.671Z"
   },
   {
    "duration": 10,
    "start_time": "2021-10-15T11:57:18.681Z"
   },
   {
    "duration": 16,
    "start_time": "2021-10-15T11:57:18.694Z"
   },
   {
    "duration": 9,
    "start_time": "2021-10-15T11:57:18.712Z"
   },
   {
    "duration": 9,
    "start_time": "2021-10-15T11:57:18.762Z"
   },
   {
    "duration": 35,
    "start_time": "2021-10-15T11:57:18.774Z"
   },
   {
    "duration": 52,
    "start_time": "2021-10-15T11:57:18.812Z"
   },
   {
    "duration": 6,
    "start_time": "2021-10-15T11:57:18.867Z"
   },
   {
    "duration": 44,
    "start_time": "2021-10-15T11:57:18.876Z"
   },
   {
    "duration": 32,
    "start_time": "2021-10-15T11:57:19.175Z"
   },
   {
    "duration": 95,
    "start_time": "2021-10-15T11:57:19.767Z"
   },
   {
    "duration": 61,
    "start_time": "2021-10-15T11:57:20.302Z"
   },
   {
    "duration": 37,
    "start_time": "2021-10-15T11:57:20.771Z"
   },
   {
    "duration": 295,
    "start_time": "2021-10-15T11:57:21.010Z"
   },
   {
    "duration": 54,
    "start_time": "2021-10-15T11:57:21.308Z"
   },
   {
    "duration": 86,
    "start_time": "2021-10-15T11:57:21.480Z"
   },
   {
    "duration": 39,
    "start_time": "2021-10-15T11:57:21.729Z"
   },
   {
    "duration": 49,
    "start_time": "2021-10-15T11:57:21.981Z"
   },
   {
    "duration": 80,
    "start_time": "2021-10-15T11:57:22.457Z"
   },
   {
    "duration": 434,
    "start_time": "2021-10-15T11:59:13.365Z"
   },
   {
    "duration": 1730,
    "start_time": "2021-10-15T11:59:42.736Z"
   },
   {
    "duration": 7,
    "start_time": "2021-10-15T11:59:44.468Z"
   },
   {
    "duration": 10,
    "start_time": "2021-10-15T11:59:44.478Z"
   },
   {
    "duration": 17,
    "start_time": "2021-10-15T11:59:44.490Z"
   },
   {
    "duration": 9,
    "start_time": "2021-10-15T11:59:44.510Z"
   },
   {
    "duration": 47,
    "start_time": "2021-10-15T11:59:44.521Z"
   },
   {
    "duration": 36,
    "start_time": "2021-10-15T11:59:44.570Z"
   },
   {
    "duration": 25,
    "start_time": "2021-10-15T11:59:44.609Z"
   },
   {
    "duration": 10,
    "start_time": "2021-10-15T11:59:44.662Z"
   },
   {
    "duration": 33,
    "start_time": "2021-10-15T11:59:44.836Z"
   },
   {
    "duration": 33,
    "start_time": "2021-10-15T11:59:45.271Z"
   },
   {
    "duration": 36,
    "start_time": "2021-10-15T11:59:46.046Z"
   },
   {
    "duration": 95,
    "start_time": "2021-10-15T11:59:46.466Z"
   },
   {
    "duration": 38,
    "start_time": "2021-10-15T11:59:46.829Z"
   },
   {
    "duration": 255,
    "start_time": "2021-10-15T11:59:47.063Z"
   },
   {
    "duration": 35,
    "start_time": "2021-10-15T11:59:47.353Z"
   },
   {
    "duration": 101,
    "start_time": "2021-10-15T11:59:47.563Z"
   },
   {
    "duration": 40,
    "start_time": "2021-10-15T11:59:47.802Z"
   },
   {
    "duration": 48,
    "start_time": "2021-10-15T11:59:48.067Z"
   },
   {
    "duration": 48,
    "start_time": "2021-10-15T11:59:48.688Z"
   },
   {
    "duration": 8,
    "start_time": "2021-10-15T11:59:50.120Z"
   },
   {
    "duration": 444,
    "start_time": "2021-10-15T12:02:05.514Z"
   },
   {
    "duration": 1569,
    "start_time": "2021-10-15T12:02:29.903Z"
   },
   {
    "duration": 6,
    "start_time": "2021-10-15T12:02:31.475Z"
   },
   {
    "duration": 18,
    "start_time": "2021-10-15T12:02:31.485Z"
   },
   {
    "duration": 17,
    "start_time": "2021-10-15T12:02:31.506Z"
   },
   {
    "duration": 36,
    "start_time": "2021-10-15T12:02:31.526Z"
   },
   {
    "duration": 10,
    "start_time": "2021-10-15T12:02:31.565Z"
   },
   {
    "duration": 39,
    "start_time": "2021-10-15T12:02:31.577Z"
   },
   {
    "duration": 48,
    "start_time": "2021-10-15T12:02:31.619Z"
   },
   {
    "duration": 6,
    "start_time": "2021-10-15T12:02:31.669Z"
   },
   {
    "duration": 52,
    "start_time": "2021-10-15T12:02:31.678Z"
   },
   {
    "duration": 32,
    "start_time": "2021-10-15T12:02:31.992Z"
   },
   {
    "duration": 95,
    "start_time": "2021-10-15T12:02:32.577Z"
   },
   {
    "duration": 92,
    "start_time": "2021-10-15T12:02:32.970Z"
   },
   {
    "duration": 38,
    "start_time": "2021-10-15T12:02:33.335Z"
   },
   {
    "duration": 312,
    "start_time": "2021-10-15T12:02:33.563Z"
   },
   {
    "duration": 85,
    "start_time": "2021-10-15T12:02:33.878Z"
   },
   {
    "duration": 99,
    "start_time": "2021-10-15T12:02:34.064Z"
   },
   {
    "duration": 56,
    "start_time": "2021-10-15T12:02:34.262Z"
   },
   {
    "duration": 53,
    "start_time": "2021-10-15T12:02:34.410Z"
   },
   {
    "duration": 48,
    "start_time": "2021-10-15T12:02:35.216Z"
   },
   {
    "duration": 7,
    "start_time": "2021-10-15T12:02:35.625Z"
   },
   {
    "duration": 264,
    "start_time": "2021-10-15T12:02:35.956Z"
   },
   {
    "duration": 1576,
    "start_time": "2021-10-15T20:51:27.913Z"
   },
   {
    "duration": 73,
    "start_time": "2021-10-15T20:51:29.491Z"
   },
   {
    "duration": 6,
    "start_time": "2021-10-15T20:51:29.568Z"
   },
   {
    "duration": 9,
    "start_time": "2021-10-15T20:51:29.577Z"
   },
   {
    "duration": 30,
    "start_time": "2021-10-15T20:51:29.588Z"
   },
   {
    "duration": 37,
    "start_time": "2021-10-15T20:51:29.621Z"
   },
   {
    "duration": 9,
    "start_time": "2021-10-15T20:51:29.661Z"
   },
   {
    "duration": 30,
    "start_time": "2021-10-15T20:51:29.672Z"
   },
   {
    "duration": 31,
    "start_time": "2021-10-15T20:51:29.705Z"
   },
   {
    "duration": 6,
    "start_time": "2021-10-15T20:51:29.833Z"
   },
   {
    "duration": 33,
    "start_time": "2021-10-15T20:51:30.263Z"
   },
   {
    "duration": 32,
    "start_time": "2021-10-15T20:51:30.860Z"
   },
   {
    "duration": 33,
    "start_time": "2021-10-15T20:51:32.362Z"
   },
   {
    "duration": 73,
    "start_time": "2021-10-15T20:51:32.985Z"
   },
   {
    "duration": 38,
    "start_time": "2021-10-15T20:51:33.902Z"
   },
   {
    "duration": 266,
    "start_time": "2021-10-15T20:51:34.241Z"
   },
   {
    "duration": 74,
    "start_time": "2021-10-15T20:51:34.685Z"
   },
   {
    "duration": 524,
    "start_time": "2021-10-15T20:51:35.122Z"
   },
   {
    "duration": 37,
    "start_time": "2021-10-15T20:51:36.045Z"
   },
   {
    "duration": 35,
    "start_time": "2021-10-15T20:51:37.494Z"
   },
   {
    "duration": 47,
    "start_time": "2021-10-15T20:51:38.353Z"
   },
   {
    "duration": 137,
    "start_time": "2021-10-15T20:52:24.740Z"
   },
   {
    "duration": 549,
    "start_time": "2021-10-15T20:54:03.680Z"
   },
   {
    "duration": 1538,
    "start_time": "2021-10-15T20:55:32.369Z"
   },
   {
    "duration": 72,
    "start_time": "2021-10-15T20:55:33.910Z"
   },
   {
    "duration": 6,
    "start_time": "2021-10-15T20:55:33.984Z"
   },
   {
    "duration": 11,
    "start_time": "2021-10-15T20:55:33.993Z"
   },
   {
    "duration": 16,
    "start_time": "2021-10-15T20:55:34.006Z"
   },
   {
    "duration": 17,
    "start_time": "2021-10-15T20:55:34.045Z"
   },
   {
    "duration": 9,
    "start_time": "2021-10-15T20:55:34.447Z"
   },
   {
    "duration": 29,
    "start_time": "2021-10-15T20:55:34.842Z"
   },
   {
    "duration": 26,
    "start_time": "2021-10-15T20:55:35.050Z"
   },
   {
    "duration": 5,
    "start_time": "2021-10-15T20:55:35.265Z"
   },
   {
    "duration": 31,
    "start_time": "2021-10-15T20:55:36.245Z"
   },
   {
    "duration": 33,
    "start_time": "2021-10-15T20:55:37.301Z"
   },
   {
    "duration": 37,
    "start_time": "2021-10-15T20:55:38.430Z"
   },
   {
    "duration": 63,
    "start_time": "2021-10-15T20:55:38.994Z"
   },
   {
    "duration": 36,
    "start_time": "2021-10-15T20:55:39.607Z"
   },
   {
    "duration": 226,
    "start_time": "2021-10-15T20:55:39.987Z"
   },
   {
    "duration": 43,
    "start_time": "2021-10-15T20:55:40.358Z"
   },
   {
    "duration": 532,
    "start_time": "2021-10-15T20:55:40.710Z"
   },
   {
    "duration": 1440,
    "start_time": "2021-10-15T20:56:18.447Z"
   },
   {
    "duration": 74,
    "start_time": "2021-10-15T20:56:19.890Z"
   },
   {
    "duration": 6,
    "start_time": "2021-10-15T20:56:19.967Z"
   },
   {
    "duration": 12,
    "start_time": "2021-10-15T20:56:19.975Z"
   },
   {
    "duration": 18,
    "start_time": "2021-10-15T20:56:19.989Z"
   },
   {
    "duration": 9,
    "start_time": "2021-10-15T20:56:20.009Z"
   },
   {
    "duration": 13,
    "start_time": "2021-10-15T20:56:20.364Z"
   },
   {
    "duration": 29,
    "start_time": "2021-10-15T20:56:20.760Z"
   },
   {
    "duration": 25,
    "start_time": "2021-10-15T20:56:20.973Z"
   },
   {
    "duration": 7,
    "start_time": "2021-10-15T20:56:21.209Z"
   },
   {
    "duration": 35,
    "start_time": "2021-10-15T20:56:21.645Z"
   },
   {
    "duration": 35,
    "start_time": "2021-10-15T20:56:22.496Z"
   },
   {
    "duration": 38,
    "start_time": "2021-10-15T20:56:23.148Z"
   },
   {
    "duration": 73,
    "start_time": "2021-10-15T20:56:23.585Z"
   },
   {
    "duration": 37,
    "start_time": "2021-10-15T20:56:24.009Z"
   },
   {
    "duration": 214,
    "start_time": "2021-10-15T20:56:24.296Z"
   },
   {
    "duration": 95,
    "start_time": "2021-10-15T20:56:24.564Z"
   },
   {
    "duration": 1545,
    "start_time": "2021-10-15T20:56:24.804Z"
   },
   {
    "duration": -150,
    "start_time": "2021-10-15T20:56:26.503Z"
   },
   {
    "duration": -152,
    "start_time": "2021-10-15T20:56:26.506Z"
   },
   {
    "duration": -153,
    "start_time": "2021-10-15T20:56:26.508Z"
   },
   {
    "duration": 1481,
    "start_time": "2021-10-15T20:57:11.971Z"
   },
   {
    "duration": 74,
    "start_time": "2021-10-15T20:57:13.454Z"
   },
   {
    "duration": 5,
    "start_time": "2021-10-15T20:57:13.531Z"
   },
   {
    "duration": 21,
    "start_time": "2021-10-15T20:57:13.539Z"
   },
   {
    "duration": 16,
    "start_time": "2021-10-15T20:57:13.562Z"
   },
   {
    "duration": 9,
    "start_time": "2021-10-15T20:57:13.580Z"
   },
   {
    "duration": 15,
    "start_time": "2021-10-15T20:57:13.701Z"
   },
   {
    "duration": 30,
    "start_time": "2021-10-15T20:57:14.091Z"
   },
   {
    "duration": 26,
    "start_time": "2021-10-15T20:57:14.300Z"
   },
   {
    "duration": 7,
    "start_time": "2021-10-15T20:57:14.508Z"
   },
   {
    "duration": 34,
    "start_time": "2021-10-15T20:57:14.876Z"
   },
   {
    "duration": 41,
    "start_time": "2021-10-15T20:57:15.456Z"
   },
   {
    "duration": 81,
    "start_time": "2021-10-15T20:57:16.079Z"
   },
   {
    "duration": 78,
    "start_time": "2021-10-15T20:57:16.486Z"
   },
   {
    "duration": 97,
    "start_time": "2021-10-15T20:57:16.873Z"
   },
   {
    "duration": 236,
    "start_time": "2021-10-15T20:57:17.077Z"
   },
   {
    "duration": 49,
    "start_time": "2021-10-15T20:57:17.316Z"
   },
   {
    "duration": 547,
    "start_time": "2021-10-15T20:57:17.558Z"
   },
   {
    "duration": -82,
    "start_time": "2021-10-15T20:57:18.191Z"
   },
   {
    "duration": 37,
    "start_time": "2021-10-15T20:57:18.118Z"
   },
   {
    "duration": 50,
    "start_time": "2021-10-15T20:57:18.368Z"
   },
   {
    "duration": 1536,
    "start_time": "2021-10-15T20:59:44.152Z"
   },
   {
    "duration": 82,
    "start_time": "2021-10-15T20:59:45.690Z"
   },
   {
    "duration": 8,
    "start_time": "2021-10-15T20:59:45.775Z"
   },
   {
    "duration": 10,
    "start_time": "2021-10-15T20:59:45.786Z"
   },
   {
    "duration": 18,
    "start_time": "2021-10-15T20:59:45.799Z"
   },
   {
    "duration": 45,
    "start_time": "2021-10-15T20:59:45.819Z"
   },
   {
    "duration": 9,
    "start_time": "2021-10-15T20:59:45.867Z"
   },
   {
    "duration": 31,
    "start_time": "2021-10-15T20:59:46.155Z"
   },
   {
    "duration": 27,
    "start_time": "2021-10-15T20:59:46.342Z"
   },
   {
    "duration": 7,
    "start_time": "2021-10-15T20:59:46.522Z"
   },
   {
    "duration": 32,
    "start_time": "2021-10-15T20:59:46.915Z"
   },
   {
    "duration": 36,
    "start_time": "2021-10-15T20:59:47.547Z"
   },
   {
    "duration": 83,
    "start_time": "2021-10-15T20:59:48.176Z"
   },
   {
    "duration": 51,
    "start_time": "2021-10-15T20:59:48.812Z"
   },
   {
    "duration": 55,
    "start_time": "2021-10-15T20:59:49.904Z"
   },
   {
    "duration": 290,
    "start_time": "2021-10-15T20:59:50.215Z"
   },
   {
    "duration": 42,
    "start_time": "2021-10-15T20:59:50.636Z"
   },
   {
    "duration": 653,
    "start_time": "2021-10-15T20:59:50.936Z"
   },
   {
    "duration": 1548,
    "start_time": "2021-10-15T21:11:50.921Z"
   },
   {
    "duration": 76,
    "start_time": "2021-10-15T21:11:52.472Z"
   },
   {
    "duration": 10,
    "start_time": "2021-10-15T21:11:52.550Z"
   },
   {
    "duration": 10,
    "start_time": "2021-10-15T21:11:52.563Z"
   },
   {
    "duration": 23,
    "start_time": "2021-10-15T21:11:52.575Z"
   },
   {
    "duration": 8,
    "start_time": "2021-10-15T21:11:52.601Z"
   },
   {
    "duration": 9,
    "start_time": "2021-10-15T21:11:52.773Z"
   },
   {
    "duration": 29,
    "start_time": "2021-10-15T21:11:53.237Z"
   },
   {
    "duration": 27,
    "start_time": "2021-10-15T21:11:53.456Z"
   },
   {
    "duration": 6,
    "start_time": "2021-10-15T21:11:53.709Z"
   },
   {
    "duration": 33,
    "start_time": "2021-10-15T21:11:54.289Z"
   },
   {
    "duration": 31,
    "start_time": "2021-10-15T21:11:55.089Z"
   },
   {
    "duration": 93,
    "start_time": "2021-10-15T21:11:55.866Z"
   },
   {
    "duration": 143,
    "start_time": "2021-10-15T21:11:56.418Z"
   },
   {
    "duration": 37,
    "start_time": "2021-10-15T21:11:57.201Z"
   },
   {
    "duration": 229,
    "start_time": "2021-10-15T21:11:57.578Z"
   },
   {
    "duration": 37,
    "start_time": "2021-10-15T21:11:58.020Z"
   },
   {
    "duration": 1543,
    "start_time": "2021-10-15T21:14:21.041Z"
   },
   {
    "duration": 76,
    "start_time": "2021-10-15T21:14:22.587Z"
   },
   {
    "duration": 7,
    "start_time": "2021-10-15T21:14:22.666Z"
   },
   {
    "duration": 8,
    "start_time": "2021-10-15T21:14:22.675Z"
   },
   {
    "duration": 14,
    "start_time": "2021-10-15T21:14:22.686Z"
   },
   {
    "duration": 9,
    "start_time": "2021-10-15T21:14:22.702Z"
   },
   {
    "duration": 51,
    "start_time": "2021-10-15T21:14:22.713Z"
   },
   {
    "duration": 30,
    "start_time": "2021-10-15T21:14:23.103Z"
   },
   {
    "duration": 26,
    "start_time": "2021-10-15T21:14:23.316Z"
   },
   {
    "duration": 7,
    "start_time": "2021-10-15T21:14:23.513Z"
   },
   {
    "duration": 33,
    "start_time": "2021-10-15T21:14:23.943Z"
   },
   {
    "duration": 33,
    "start_time": "2021-10-15T21:14:24.608Z"
   },
   {
    "duration": 123,
    "start_time": "2021-10-15T21:14:25.240Z"
   },
   {
    "duration": 105,
    "start_time": "2021-10-15T21:14:25.652Z"
   },
   {
    "duration": 82,
    "start_time": "2021-10-15T21:14:26.075Z"
   },
   {
    "duration": 273,
    "start_time": "2021-10-15T21:14:26.305Z"
   },
   {
    "duration": 77,
    "start_time": "2021-10-15T21:14:26.581Z"
   },
   {
    "duration": 1808,
    "start_time": "2021-10-15T21:14:26.759Z"
   },
   {
    "duration": 89,
    "start_time": "2021-10-15T21:14:28.570Z"
   },
   {
    "duration": 128,
    "start_time": "2021-10-15T21:14:28.663Z"
   },
   {
    "duration": 73,
    "start_time": "2021-10-15T21:14:28.793Z"
   },
   {
    "duration": 1781,
    "start_time": "2021-10-15T21:14:57.641Z"
   },
   {
    "duration": 8677,
    "start_time": "2021-10-15T21:15:41.064Z"
   },
   {
    "duration": 30442,
    "start_time": "2021-10-15T21:15:59.178Z"
   },
   {
    "duration": 1271,
    "start_time": "2021-10-16T07:29:02.930Z"
   },
   {
    "duration": 57,
    "start_time": "2021-10-16T07:29:04.203Z"
   },
   {
    "duration": 4,
    "start_time": "2021-10-16T07:29:04.262Z"
   },
   {
    "duration": 14,
    "start_time": "2021-10-16T07:29:04.268Z"
   },
   {
    "duration": 24,
    "start_time": "2021-10-16T07:29:04.283Z"
   },
   {
    "duration": 8,
    "start_time": "2021-10-16T07:29:04.405Z"
   },
   {
    "duration": 8,
    "start_time": "2021-10-16T07:29:05.016Z"
   },
   {
    "duration": 21,
    "start_time": "2021-10-16T07:29:05.497Z"
   },
   {
    "duration": 16,
    "start_time": "2021-10-16T07:29:05.793Z"
   },
   {
    "duration": 5,
    "start_time": "2021-10-16T07:29:06.081Z"
   },
   {
    "duration": 24,
    "start_time": "2021-10-16T07:29:06.717Z"
   },
   {
    "duration": 24,
    "start_time": "2021-10-16T07:29:07.564Z"
   },
   {
    "duration": 99,
    "start_time": "2021-10-16T07:29:08.365Z"
   },
   {
    "duration": 35,
    "start_time": "2021-10-16T07:29:08.880Z"
   },
   {
    "duration": 27,
    "start_time": "2021-10-16T07:29:09.740Z"
   },
   {
    "duration": 247,
    "start_time": "2021-10-16T07:29:10.348Z"
   },
   {
    "duration": 21,
    "start_time": "2021-10-16T07:29:10.723Z"
   },
   {
    "duration": 5176,
    "start_time": "2021-10-16T07:29:11.366Z"
   },
   {
    "duration": 1181,
    "start_time": "2021-10-16T07:31:08.438Z"
   },
   {
    "duration": 58,
    "start_time": "2021-10-16T07:31:09.621Z"
   },
   {
    "duration": 5,
    "start_time": "2021-10-16T07:31:09.681Z"
   },
   {
    "duration": 7,
    "start_time": "2021-10-16T07:31:09.689Z"
   },
   {
    "duration": 11,
    "start_time": "2021-10-16T07:31:09.698Z"
   },
   {
    "duration": 8,
    "start_time": "2021-10-16T07:31:09.874Z"
   },
   {
    "duration": 8,
    "start_time": "2021-10-16T07:31:10.359Z"
   },
   {
    "duration": 20,
    "start_time": "2021-10-16T07:31:10.780Z"
   },
   {
    "duration": 17,
    "start_time": "2021-10-16T07:31:11.040Z"
   },
   {
    "duration": 4,
    "start_time": "2021-10-16T07:31:11.276Z"
   },
   {
    "duration": 23,
    "start_time": "2021-10-16T07:31:11.798Z"
   },
   {
    "duration": 25,
    "start_time": "2021-10-16T07:31:12.446Z"
   },
   {
    "duration": 98,
    "start_time": "2021-10-16T07:31:13.068Z"
   },
   {
    "duration": 60,
    "start_time": "2021-10-16T07:31:13.509Z"
   },
   {
    "duration": 24,
    "start_time": "2021-10-16T07:31:13.968Z"
   },
   {
    "duration": 178,
    "start_time": "2021-10-16T07:31:14.219Z"
   },
   {
    "duration": 22,
    "start_time": "2021-10-16T07:31:14.466Z"
   },
   {
    "duration": 5054,
    "start_time": "2021-10-16T07:31:14.664Z"
   },
   {
    "duration": 47,
    "start_time": "2021-10-16T07:31:19.720Z"
   },
   {
    "duration": 117,
    "start_time": "2021-10-16T07:31:19.770Z"
   },
   {
    "duration": 31,
    "start_time": "2021-10-16T07:31:19.964Z"
   },
   {
    "duration": 5019,
    "start_time": "2021-10-16T07:32:39.999Z"
   },
   {
    "duration": 47,
    "start_time": "2021-10-16T07:32:45.020Z"
   },
   {
    "duration": 193,
    "start_time": "2021-10-16T07:32:45.070Z"
   },
   {
    "duration": 32,
    "start_time": "2021-10-16T07:32:45.266Z"
   },
   {
    "duration": 35,
    "start_time": "2021-10-16T07:32:45.299Z"
   },
   {
    "duration": 27,
    "start_time": "2021-10-16T07:32:45.336Z"
   },
   {
    "duration": 164,
    "start_time": "2021-10-16T07:32:45.365Z"
   },
   {
    "duration": 30,
    "start_time": "2021-10-16T07:32:51.289Z"
   },
   {
    "duration": 33,
    "start_time": "2021-10-16T07:32:57.996Z"
   },
   {
    "duration": 32,
    "start_time": "2021-10-16T07:33:02.368Z"
   },
   {
    "duration": 33,
    "start_time": "2021-10-16T07:33:07.685Z"
   },
   {
    "duration": 6,
    "start_time": "2021-10-16T07:33:13.380Z"
   },
   {
    "duration": 152,
    "start_time": "2021-10-16T07:33:14.155Z"
   },
   {
    "duration": 1158,
    "start_time": "2021-10-16T07:40:34.057Z"
   },
   {
    "duration": 58,
    "start_time": "2021-10-16T07:40:35.217Z"
   },
   {
    "duration": 5,
    "start_time": "2021-10-16T07:40:35.276Z"
   },
   {
    "duration": 8,
    "start_time": "2021-10-16T07:40:35.283Z"
   },
   {
    "duration": 13,
    "start_time": "2021-10-16T07:40:35.293Z"
   },
   {
    "duration": 13,
    "start_time": "2021-10-16T07:40:35.308Z"
   },
   {
    "duration": 7,
    "start_time": "2021-10-16T07:40:35.539Z"
   },
   {
    "duration": 21,
    "start_time": "2021-10-16T07:40:35.896Z"
   },
   {
    "duration": 17,
    "start_time": "2021-10-16T07:40:36.060Z"
   },
   {
    "duration": 4,
    "start_time": "2021-10-16T07:40:36.222Z"
   },
   {
    "duration": 22,
    "start_time": "2021-10-16T07:40:36.559Z"
   },
   {
    "duration": 25,
    "start_time": "2021-10-16T07:40:37.090Z"
   },
   {
    "duration": 27,
    "start_time": "2021-10-16T07:40:37.640Z"
   },
   {
    "duration": 34,
    "start_time": "2021-10-16T07:40:38.012Z"
   },
   {
    "duration": 52,
    "start_time": "2021-10-16T07:40:38.411Z"
   },
   {
    "duration": 250,
    "start_time": "2021-10-16T07:40:38.832Z"
   },
   {
    "duration": 5347,
    "start_time": "2021-10-16T07:40:40.308Z"
   },
   {
    "duration": 34,
    "start_time": "2021-10-16T07:40:45.664Z"
   },
   {
    "duration": 37,
    "start_time": "2021-10-16T07:40:45.700Z"
   },
   {
    "duration": 28,
    "start_time": "2021-10-16T07:40:45.740Z"
   },
   {
    "duration": 184,
    "start_time": "2021-10-16T07:40:45.771Z"
   },
   {
    "duration": 8,
    "start_time": "2021-10-16T07:41:49.523Z"
   },
   {
    "duration": 52,
    "start_time": "2021-10-16T07:41:49.738Z"
   },
   {
    "duration": 5,
    "start_time": "2021-10-16T07:41:49.968Z"
   },
   {
    "duration": 6,
    "start_time": "2021-10-16T07:41:50.126Z"
   },
   {
    "duration": 11,
    "start_time": "2021-10-16T07:41:50.331Z"
   },
   {
    "duration": 8,
    "start_time": "2021-10-16T07:41:50.712Z"
   },
   {
    "duration": 7,
    "start_time": "2021-10-16T07:41:51.145Z"
   },
   {
    "duration": 19,
    "start_time": "2021-10-16T07:41:51.614Z"
   },
   {
    "duration": 16,
    "start_time": "2021-10-16T07:41:51.803Z"
   },
   {
    "duration": 3,
    "start_time": "2021-10-16T07:41:52.043Z"
   },
   {
    "duration": 24,
    "start_time": "2021-10-16T07:41:52.763Z"
   },
   {
    "duration": 24,
    "start_time": "2021-10-16T07:41:53.317Z"
   },
   {
    "duration": 21,
    "start_time": "2021-10-16T07:41:54.217Z"
   },
   {
    "duration": 36,
    "start_time": "2021-10-16T07:41:54.759Z"
   },
   {
    "duration": 25,
    "start_time": "2021-10-16T07:41:55.462Z"
   },
   {
    "duration": 181,
    "start_time": "2021-10-16T07:41:56.013Z"
   },
   {
    "duration": 11157,
    "start_time": "2021-10-16T07:41:57.446Z"
   },
   {
    "duration": 1111,
    "start_time": "2021-10-16T07:44:08.412Z"
   },
   {
    "duration": 56,
    "start_time": "2021-10-16T07:44:09.525Z"
   },
   {
    "duration": 5,
    "start_time": "2021-10-16T07:44:09.583Z"
   },
   {
    "duration": 7,
    "start_time": "2021-10-16T07:44:09.739Z"
   },
   {
    "duration": 12,
    "start_time": "2021-10-16T07:44:10.027Z"
   },
   {
    "duration": 7,
    "start_time": "2021-10-16T07:44:10.461Z"
   },
   {
    "duration": 8,
    "start_time": "2021-10-16T07:44:10.949Z"
   },
   {
    "duration": 20,
    "start_time": "2021-10-16T07:44:11.517Z"
   },
   {
    "duration": 16,
    "start_time": "2021-10-16T07:44:11.883Z"
   },
   {
    "duration": 4,
    "start_time": "2021-10-16T07:44:12.288Z"
   },
   {
    "duration": 23,
    "start_time": "2021-10-16T07:44:12.928Z"
   },
   {
    "duration": 26,
    "start_time": "2021-10-16T07:44:13.712Z"
   },
   {
    "duration": 23,
    "start_time": "2021-10-16T07:44:14.479Z"
   },
   {
    "duration": 80,
    "start_time": "2021-10-16T07:44:14.883Z"
   },
   {
    "duration": 25,
    "start_time": "2021-10-16T07:44:15.847Z"
   },
   {
    "duration": 242,
    "start_time": "2021-10-16T07:44:17.033Z"
   },
   {
    "duration": 1139,
    "start_time": "2021-10-16T07:48:32.181Z"
   },
   {
    "duration": 55,
    "start_time": "2021-10-16T07:48:33.322Z"
   },
   {
    "duration": 4,
    "start_time": "2021-10-16T07:48:33.381Z"
   },
   {
    "duration": 11,
    "start_time": "2021-10-16T07:48:33.387Z"
   },
   {
    "duration": 11,
    "start_time": "2021-10-16T07:48:33.400Z"
   },
   {
    "duration": 7,
    "start_time": "2021-10-16T07:48:33.413Z"
   },
   {
    "duration": 7,
    "start_time": "2021-10-16T07:48:33.422Z"
   },
   {
    "duration": 22,
    "start_time": "2021-10-16T07:48:33.811Z"
   },
   {
    "duration": 16,
    "start_time": "2021-10-16T07:48:34.080Z"
   },
   {
    "duration": 5,
    "start_time": "2021-10-16T07:48:34.402Z"
   },
   {
    "duration": 25,
    "start_time": "2021-10-16T07:48:35.017Z"
   },
   {
    "duration": 24,
    "start_time": "2021-10-16T07:48:35.717Z"
   },
   {
    "duration": 28,
    "start_time": "2021-10-16T07:48:36.431Z"
   },
   {
    "duration": 89,
    "start_time": "2021-10-16T07:48:37.076Z"
   },
   {
    "duration": 27,
    "start_time": "2021-10-16T07:48:37.975Z"
   },
   {
    "duration": 176,
    "start_time": "2021-10-16T07:48:38.616Z"
   },
   {
    "duration": 51480,
    "start_time": "2021-10-16T07:48:40.274Z"
   },
   {
    "duration": 1138,
    "start_time": "2021-10-16T07:53:16.775Z"
   },
   {
    "duration": 54,
    "start_time": "2021-10-16T07:53:17.915Z"
   },
   {
    "duration": 5,
    "start_time": "2021-10-16T07:53:18.605Z"
   },
   {
    "duration": 6,
    "start_time": "2021-10-16T07:53:19.178Z"
   },
   {
    "duration": 12,
    "start_time": "2021-10-16T07:53:19.744Z"
   },
   {
    "duration": 8,
    "start_time": "2021-10-16T07:53:20.509Z"
   },
   {
    "duration": 8,
    "start_time": "2021-10-16T07:53:21.157Z"
   },
   {
    "duration": 20,
    "start_time": "2021-10-16T07:53:21.772Z"
   },
   {
    "duration": 16,
    "start_time": "2021-10-16T07:53:22.069Z"
   },
   {
    "duration": 4,
    "start_time": "2021-10-16T07:53:22.412Z"
   },
   {
    "duration": 24,
    "start_time": "2021-10-16T07:53:23.029Z"
   },
   {
    "duration": 25,
    "start_time": "2021-10-16T07:53:23.981Z"
   },
   {
    "duration": 86,
    "start_time": "2021-10-16T07:53:24.877Z"
   },
   {
    "duration": 57,
    "start_time": "2021-10-16T07:53:25.606Z"
   },
   {
    "duration": 81,
    "start_time": "2021-10-16T07:53:26.484Z"
   },
   {
    "duration": 254,
    "start_time": "2021-10-16T07:53:27.428Z"
   },
   {
    "duration": 81843,
    "start_time": "2021-10-16T07:53:28.657Z"
   },
   {
    "duration": 31,
    "start_time": "2021-10-16T07:54:50.501Z"
   },
   {
    "duration": 15758,
    "start_time": "2021-10-16T07:56:44.622Z"
   },
   {
    "duration": 37,
    "start_time": "2021-10-16T07:58:38.882Z"
   },
   {
    "duration": 37,
    "start_time": "2021-10-16T07:58:57.286Z"
   },
   {
    "duration": 1181,
    "start_time": "2021-10-16T07:59:19.730Z"
   },
   {
    "duration": 55,
    "start_time": "2021-10-16T07:59:20.913Z"
   },
   {
    "duration": 5,
    "start_time": "2021-10-16T07:59:20.970Z"
   },
   {
    "duration": 13,
    "start_time": "2021-10-16T07:59:20.976Z"
   },
   {
    "duration": 11,
    "start_time": "2021-10-16T07:59:20.990Z"
   },
   {
    "duration": 14,
    "start_time": "2021-10-16T07:59:21.461Z"
   },
   {
    "duration": 7,
    "start_time": "2021-10-16T07:59:21.959Z"
   },
   {
    "duration": 21,
    "start_time": "2021-10-16T07:59:22.408Z"
   },
   {
    "duration": 17,
    "start_time": "2021-10-16T07:59:22.619Z"
   },
   {
    "duration": 4,
    "start_time": "2021-10-16T07:59:22.807Z"
   },
   {
    "duration": 21,
    "start_time": "2021-10-16T07:59:23.172Z"
   },
   {
    "duration": 23,
    "start_time": "2021-10-16T07:59:23.703Z"
   },
   {
    "duration": 71,
    "start_time": "2021-10-16T07:59:24.395Z"
   },
   {
    "duration": 33,
    "start_time": "2021-10-16T07:59:24.836Z"
   },
   {
    "duration": 26,
    "start_time": "2021-10-16T07:59:25.965Z"
   },
   {
    "duration": 222,
    "start_time": "2021-10-16T07:59:26.771Z"
   },
   {
    "duration": 15312,
    "start_time": "2021-10-16T07:59:27.744Z"
   },
   {
    "duration": 41,
    "start_time": "2021-10-16T07:59:43.058Z"
   },
   {
    "duration": 35,
    "start_time": "2021-10-16T07:59:43.101Z"
   },
   {
    "duration": 26,
    "start_time": "2021-10-16T07:59:43.139Z"
   },
   {
    "duration": 159,
    "start_time": "2021-10-16T07:59:43.167Z"
   },
   {
    "duration": 36,
    "start_time": "2021-10-16T08:00:03.396Z"
   },
   {
    "duration": 8948,
    "start_time": "2021-10-16T08:00:22.286Z"
   },
   {
    "duration": 6050,
    "start_time": "2021-10-16T08:00:31.705Z"
   },
   {
    "duration": 32,
    "start_time": "2021-10-16T08:01:10.216Z"
   },
   {
    "duration": 31,
    "start_time": "2021-10-16T08:01:11.842Z"
   },
   {
    "duration": 5,
    "start_time": "2021-10-16T08:01:17.308Z"
   },
   {
    "duration": 151,
    "start_time": "2021-10-16T08:01:17.614Z"
   },
   {
    "duration": 1109,
    "start_time": "2021-10-16T08:05:44.110Z"
   },
   {
    "duration": 55,
    "start_time": "2021-10-16T08:05:45.221Z"
   },
   {
    "duration": 5,
    "start_time": "2021-10-16T08:05:45.278Z"
   },
   {
    "duration": 9,
    "start_time": "2021-10-16T08:05:45.284Z"
   },
   {
    "duration": 11,
    "start_time": "2021-10-16T08:05:45.295Z"
   },
   {
    "duration": 8,
    "start_time": "2021-10-16T08:05:45.400Z"
   },
   {
    "duration": 7,
    "start_time": "2021-10-16T08:05:45.841Z"
   },
   {
    "duration": 21,
    "start_time": "2021-10-16T08:05:46.248Z"
   },
   {
    "duration": 16,
    "start_time": "2021-10-16T08:05:46.468Z"
   },
   {
    "duration": 3,
    "start_time": "2021-10-16T08:05:46.959Z"
   },
   {
    "duration": 24,
    "start_time": "2021-10-16T08:05:47.780Z"
   },
   {
    "duration": 23,
    "start_time": "2021-10-16T08:05:48.768Z"
   },
   {
    "duration": 86,
    "start_time": "2021-10-16T08:05:50.080Z"
   },
   {
    "duration": 33,
    "start_time": "2021-10-16T08:05:50.757Z"
   },
   {
    "duration": 25,
    "start_time": "2021-10-16T08:05:51.669Z"
   },
   {
    "duration": 189,
    "start_time": "2021-10-16T08:05:53.003Z"
   },
   {
    "duration": 1761,
    "start_time": "2021-10-16T08:05:54.091Z"
   },
   {
    "duration": 6040,
    "start_time": "2021-10-16T08:05:55.855Z"
   },
   {
    "duration": 32,
    "start_time": "2021-10-16T08:06:01.897Z"
   },
   {
    "duration": 46,
    "start_time": "2021-10-16T08:06:01.931Z"
   },
   {
    "duration": 5,
    "start_time": "2021-10-16T08:06:01.979Z"
   },
   {
    "duration": 166,
    "start_time": "2021-10-16T08:06:01.985Z"
   },
   {
    "duration": 94,
    "start_time": "2021-10-16T08:09:05.730Z"
   },
   {
    "duration": 77,
    "start_time": "2022-05-15T11:28:34.732Z"
   },
   {
    "duration": 1850,
    "start_time": "2022-05-15T11:28:36.642Z"
   },
   {
    "duration": 88,
    "start_time": "2022-05-15T11:28:38.497Z"
   },
   {
    "duration": 26,
    "start_time": "2022-05-15T11:28:47.661Z"
   },
   {
    "duration": 18,
    "start_time": "2022-05-15T11:31:39.013Z"
   },
   {
    "duration": 7,
    "start_time": "2022-05-15T11:31:40.572Z"
   },
   {
    "duration": 8,
    "start_time": "2022-05-15T11:32:00.739Z"
   },
   {
    "duration": 7,
    "start_time": "2022-05-15T11:32:02.161Z"
   },
   {
    "duration": 15,
    "start_time": "2022-05-15T11:32:05.223Z"
   },
   {
    "duration": 15,
    "start_time": "2022-05-15T11:32:12.627Z"
   },
   {
    "duration": 7,
    "start_time": "2022-05-15T11:32:13.100Z"
   },
   {
    "duration": 1860,
    "start_time": "2022-05-15T11:38:03.266Z"
   },
   {
    "duration": 59,
    "start_time": "2022-05-15T11:38:05.129Z"
   },
   {
    "duration": 19,
    "start_time": "2022-05-15T11:38:05.750Z"
   },
   {
    "duration": 8,
    "start_time": "2022-05-15T11:38:06.249Z"
   },
   {
    "duration": 15,
    "start_time": "2022-05-15T11:38:06.792Z"
   },
   {
    "duration": 7,
    "start_time": "2022-05-15T11:38:07.240Z"
   },
   {
    "duration": 13,
    "start_time": "2022-05-15T11:38:08.616Z"
   },
   {
    "duration": 9,
    "start_time": "2022-05-15T11:38:09.028Z"
   },
   {
    "duration": 16,
    "start_time": "2022-05-15T11:38:09.227Z"
   },
   {
    "duration": 38,
    "start_time": "2022-05-15T11:38:09.573Z"
   },
   {
    "duration": 144,
    "start_time": "2022-05-15T11:52:01.595Z"
   },
   {
    "duration": 5,
    "start_time": "2022-05-15T11:52:05.055Z"
   },
   {
    "duration": 6,
    "start_time": "2022-05-15T11:52:05.481Z"
   },
   {
    "duration": 12,
    "start_time": "2022-05-15T11:52:06.347Z"
   },
   {
    "duration": 12,
    "start_time": "2022-05-15T11:52:11.758Z"
   },
   {
    "duration": 5,
    "start_time": "2022-05-15T11:52:12.277Z"
   },
   {
    "duration": 36,
    "start_time": "2022-05-15T11:52:13.042Z"
   },
   {
    "duration": 33,
    "start_time": "2022-05-15T11:52:14.079Z"
   },
   {
    "duration": 5,
    "start_time": "2022-05-15T11:52:14.847Z"
   },
   {
    "duration": 6,
    "start_time": "2022-05-15T11:52:15.254Z"
   },
   {
    "duration": 36,
    "start_time": "2022-05-15T11:52:15.849Z"
   },
   {
    "duration": 44,
    "start_time": "2022-05-15T11:52:16.904Z"
   },
   {
    "duration": 35,
    "start_time": "2022-05-15T11:52:18.554Z"
   },
   {
    "duration": 210,
    "start_time": "2022-05-15T11:53:33.799Z"
   },
   {
    "duration": 2950,
    "start_time": "2022-05-15T11:53:56.191Z"
   },
   {
    "duration": 118,
    "start_time": "2022-05-15T11:55:03.983Z"
   },
   {
    "duration": 9100,
    "start_time": "2022-05-15T11:55:50.999Z"
   },
   {
    "duration": 44,
    "start_time": "2022-05-15T11:57:11.251Z"
   },
   {
    "duration": 42,
    "start_time": "2022-05-15T11:57:26.566Z"
   },
   {
    "duration": 62,
    "start_time": "2022-05-15T11:59:29.004Z"
   },
   {
    "duration": 7,
    "start_time": "2022-05-15T11:59:30.313Z"
   },
   {
    "duration": 58,
    "start_time": "2022-05-15T11:59:37.980Z"
   },
   {
    "duration": 10,
    "start_time": "2022-05-15T11:59:38.934Z"
   },
   {
    "duration": 2350,
    "start_time": "2022-05-15T12:00:28.915Z"
   },
   {
    "duration": 57,
    "start_time": "2022-05-15T12:00:31.268Z"
   },
   {
    "duration": 32,
    "start_time": "2022-05-15T12:00:31.328Z"
   },
   {
    "duration": 10,
    "start_time": "2022-05-15T12:00:31.363Z"
   },
   {
    "duration": 22,
    "start_time": "2022-05-15T12:00:31.375Z"
   },
   {
    "duration": 7,
    "start_time": "2022-05-15T12:00:31.399Z"
   },
   {
    "duration": 19,
    "start_time": "2022-05-15T12:00:31.408Z"
   },
   {
    "duration": 28,
    "start_time": "2022-05-15T12:00:31.430Z"
   },
   {
    "duration": 18,
    "start_time": "2022-05-15T12:00:31.461Z"
   },
   {
    "duration": 36,
    "start_time": "2022-05-15T12:00:31.482Z"
   },
   {
    "duration": 40,
    "start_time": "2022-05-15T12:00:31.521Z"
   },
   {
    "duration": 5,
    "start_time": "2022-05-15T12:00:31.564Z"
   },
   {
    "duration": 43,
    "start_time": "2022-05-15T12:00:31.572Z"
   },
   {
    "duration": 56,
    "start_time": "2022-05-15T12:00:31.617Z"
   },
   {
    "duration": 5,
    "start_time": "2022-05-15T12:00:31.676Z"
   },
   {
    "duration": 12,
    "start_time": "2022-05-15T12:00:31.684Z"
   },
   {
    "duration": 91,
    "start_time": "2022-05-15T12:00:31.765Z"
   },
   {
    "duration": 43,
    "start_time": "2022-05-15T12:00:32.016Z"
   },
   {
    "duration": 30,
    "start_time": "2022-05-15T12:00:32.268Z"
   },
   {
    "duration": 263,
    "start_time": "2022-05-15T12:00:32.604Z"
   },
   {
    "duration": 2734,
    "start_time": "2022-05-15T12:00:32.870Z"
   },
   {
    "duration": 8623,
    "start_time": "2022-05-15T12:00:35.607Z"
   },
   {
    "duration": 47,
    "start_time": "2022-05-15T12:00:44.233Z"
   },
   {
    "duration": 39,
    "start_time": "2022-05-15T12:00:44.282Z"
   },
   {
    "duration": 7,
    "start_time": "2022-05-15T12:00:44.323Z"
   },
   {
    "duration": 184,
    "start_time": "2022-05-15T12:00:44.357Z"
   },
   {
    "duration": 1982,
    "start_time": "2022-05-15T12:06:48.007Z"
   },
   {
    "duration": 66,
    "start_time": "2022-05-15T12:06:49.992Z"
   },
   {
    "duration": 19,
    "start_time": "2022-05-15T12:06:50.060Z"
   },
   {
    "duration": 14,
    "start_time": "2022-05-15T12:06:50.083Z"
   },
   {
    "duration": 28,
    "start_time": "2022-05-15T12:06:50.100Z"
   },
   {
    "duration": 29,
    "start_time": "2022-05-15T12:06:50.130Z"
   },
   {
    "duration": 17,
    "start_time": "2022-05-15T12:06:50.162Z"
   },
   {
    "duration": 10,
    "start_time": "2022-05-15T12:06:50.182Z"
   },
   {
    "duration": 19,
    "start_time": "2022-05-15T12:06:50.194Z"
   },
   {
    "duration": 74,
    "start_time": "2022-05-15T12:06:50.216Z"
   },
   {
    "duration": 13,
    "start_time": "2022-05-15T12:06:50.295Z"
   },
   {
    "duration": 7,
    "start_time": "2022-05-15T12:06:50.381Z"
   },
   {
    "duration": 36,
    "start_time": "2022-05-15T12:06:50.549Z"
   },
   {
    "duration": 35,
    "start_time": "2022-05-15T12:06:50.800Z"
   },
   {
    "duration": 6,
    "start_time": "2022-05-15T12:06:51.053Z"
   },
   {
    "duration": 6,
    "start_time": "2022-05-15T12:06:51.134Z"
   },
   {
    "duration": 67,
    "start_time": "2022-05-15T12:06:51.304Z"
   },
   {
    "duration": 44,
    "start_time": "2022-05-15T12:06:51.933Z"
   },
   {
    "duration": 33,
    "start_time": "2022-05-15T12:06:53.166Z"
   },
   {
    "duration": 212,
    "start_time": "2022-05-15T12:06:54.485Z"
   },
   {
    "duration": 28445,
    "start_time": "2022-05-15T12:07:24.187Z"
   },
   {
    "duration": 83603,
    "start_time": "2022-05-15T12:07:52.635Z"
   },
   {
    "duration": 60,
    "start_time": "2022-05-15T12:31:42.437Z"
   },
   {
    "duration": 60,
    "start_time": "2022-05-15T12:31:58.257Z"
   },
   {
    "duration": 68,
    "start_time": "2022-05-15T12:32:06.255Z"
   },
   {
    "duration": 58,
    "start_time": "2022-05-15T12:32:12.108Z"
   },
   {
    "duration": 63,
    "start_time": "2022-05-15T12:32:16.133Z"
   },
   {
    "duration": 60,
    "start_time": "2022-05-15T12:32:19.388Z"
   },
   {
    "duration": 70,
    "start_time": "2022-05-15T12:32:22.503Z"
   },
   {
    "duration": 61,
    "start_time": "2022-05-15T12:32:25.296Z"
   },
   {
    "duration": 56,
    "start_time": "2022-05-15T12:32:27.801Z"
   },
   {
    "duration": 63,
    "start_time": "2022-05-15T12:32:30.754Z"
   },
   {
    "duration": 64,
    "start_time": "2022-05-15T12:32:33.253Z"
   },
   {
    "duration": 68,
    "start_time": "2022-05-15T12:32:37.910Z"
   },
   {
    "duration": 8,
    "start_time": "2022-05-15T12:33:00.099Z"
   },
   {
    "duration": 62,
    "start_time": "2022-05-15T12:34:22.635Z"
   },
   {
    "duration": 63,
    "start_time": "2022-05-15T12:34:30.855Z"
   },
   {
    "duration": 60,
    "start_time": "2022-05-15T12:34:35.220Z"
   },
   {
    "duration": 61,
    "start_time": "2022-05-15T12:34:37.983Z"
   },
   {
    "duration": 62,
    "start_time": "2022-05-15T12:34:46.024Z"
   },
   {
    "duration": 61,
    "start_time": "2022-05-15T12:34:48.930Z"
   },
   {
    "duration": 64,
    "start_time": "2022-05-15T12:34:51.210Z"
   }
  ],
  "kernelspec": {
   "display_name": "Python 3 (ipykernel)",
   "language": "python",
   "name": "python3"
  },
  "language_info": {
   "codemirror_mode": {
    "name": "ipython",
    "version": 3
   },
   "file_extension": ".py",
   "mimetype": "text/x-python",
   "name": "python",
   "nbconvert_exporter": "python",
   "pygments_lexer": "ipython3",
   "version": "3.7.0"
  },
  "toc": {
   "base_numbering": 1,
   "nav_menu": {},
   "number_sections": true,
   "sideBar": true,
   "skip_h1_title": true,
   "title_cell": "Содержание",
   "title_sidebar": "Contents",
   "toc_cell": true,
   "toc_position": {},
   "toc_section_display": true,
   "toc_window_display": true
  }
 },
 "nbformat": 4,
 "nbformat_minor": 2
}
