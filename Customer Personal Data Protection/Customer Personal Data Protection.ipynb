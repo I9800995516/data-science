{
 "cells": [
  {
   "cell_type": "markdown",
   "metadata": {
    "toc": true
   },
   "source": [
    "<h1>Содержание<span class=\"tocSkip\"></span></h1>\n",
    "<div class=\"toc\"><ul class=\"toc-item\"><li><span><a href=\"#Загрузка-данных\" data-toc-modified-id=\"Загрузка-данных-1\"><span class=\"toc-item-num\">1&nbsp;&nbsp;</span>Загрузка данных</a></span></li><li><span><a href=\"#Анализ-данных\" data-toc-modified-id=\"Анализ-данных-2\"><span class=\"toc-item-num\">2&nbsp;&nbsp;</span>Анализ данных</a></span></li><li><span><a href=\"#Построение-моделей\" data-toc-modified-id=\"Построение-моделей-3\"><span class=\"toc-item-num\">3&nbsp;&nbsp;</span>Построение моделей</a></span><ul class=\"toc-item\"><li><span><a href=\"#LinearRegression-из-библиотеки-sklearn\" data-toc-modified-id=\"LinearRegression-из-библиотеки-sklearn-3.1\"><span class=\"toc-item-num\">3.1&nbsp;&nbsp;</span>LinearRegression из библиотеки sklearn</a></span></li><li><span><a href=\"#Модель-LinearRegression-на-Python\" data-toc-modified-id=\"Модель-LinearRegression-на-Python-3.2\"><span class=\"toc-item-num\">3.2&nbsp;&nbsp;</span>Модель LinearRegression на Python</a></span></li></ul></li><li><span><a href=\"#Кодирование-данных\" data-toc-modified-id=\"Кодирование-данных-4\"><span class=\"toc-item-num\">4&nbsp;&nbsp;</span>Кодирование данных</a></span><ul class=\"toc-item\"><li><span><a href=\"#Создание-матрицы\" data-toc-modified-id=\"Создание-матрицы-4.1\"><span class=\"toc-item-num\">4.1&nbsp;&nbsp;</span>Создание матрицы</a></span></li><li><span><a href=\"#Кодирование-признаков\" data-toc-modified-id=\"Кодирование-признаков-4.2\"><span class=\"toc-item-num\">4.2&nbsp;&nbsp;</span>Кодирование признаков</a></span></li></ul></li><li><span><a href=\"#Алгебраическое-доказательство\" data-toc-modified-id=\"Алгебраическое-доказательство-5\"><span class=\"toc-item-num\">5&nbsp;&nbsp;</span>Алгебраическое доказательство</a></span></li><li><span><a href=\"#Алгоритм-преобразования\" data-toc-modified-id=\"Алгоритм-преобразования-6\"><span class=\"toc-item-num\">6&nbsp;&nbsp;</span>Алгоритм преобразования</a></span></li><li><span><a href=\"#Проверка-алгоритма\" data-toc-modified-id=\"Проверка-алгоритма-7\"><span class=\"toc-item-num\">7&nbsp;&nbsp;</span>Проверка алгоритма</a></span></li><li><span><a href=\"#Вывод\" data-toc-modified-id=\"Вывод-8\"><span class=\"toc-item-num\">8&nbsp;&nbsp;</span>Вывод</a></span></li></ul></div>"
   ]
  },
  {
   "cell_type": "markdown",
   "metadata": {},
   "source": [
    "# Защита персональных данных клиентов"
   ]
  },
  {
   "cell_type": "markdown",
   "metadata": {},
   "source": [
    "Предоставлены персональные данные клиентов банка, по этим данным строится модель кредитного скоринга.\n",
    "\n",
    "Задача: \n",
    "- разработать такой метод преобразования данных, чтобы по ним было сложно восстановить персональную информацию;\n",
    "- обосновать корректность работы этого метода.\n",
    "\n",
    "Нужно защитить данные, чтобы при преобразовании качество моделей машинного обучения не ухудшилось. Подбирать наилучшую модель не требуется."
   ]
  },
  {
   "cell_type": "markdown",
   "metadata": {},
   "source": [
    "## Загрузка данных"
   ]
  },
  {
   "cell_type": "code",
   "execution_count": 1,
   "metadata": {},
   "outputs": [],
   "source": [
    "import numpy as np\n",
    "import pandas as pd\n",
    "from sklearn.linear_model import LinearRegression\n",
    "from sklearn.model_selection import train_test_split\n",
    "from sklearn.metrics import r2_score"
   ]
  },
  {
   "cell_type": "code",
   "execution_count": 2,
   "metadata": {},
   "outputs": [
    {
     "data": {
      "text/html": [
       "<div>\n",
       "<style scoped>\n",
       "    .dataframe tbody tr th:only-of-type {\n",
       "        vertical-align: middle;\n",
       "    }\n",
       "\n",
       "    .dataframe tbody tr th {\n",
       "        vertical-align: top;\n",
       "    }\n",
       "\n",
       "    .dataframe thead th {\n",
       "        text-align: right;\n",
       "    }\n",
       "</style>\n",
       "<table border=\"1\" class=\"dataframe\">\n",
       "  <thead>\n",
       "    <tr style=\"text-align: right;\">\n",
       "      <th></th>\n",
       "      <th>Пол</th>\n",
       "      <th>Возраст</th>\n",
       "      <th>Зарплата</th>\n",
       "      <th>Члены семьи</th>\n",
       "      <th>Страховые выплаты</th>\n",
       "    </tr>\n",
       "  </thead>\n",
       "  <tbody>\n",
       "    <tr>\n",
       "      <th>0</th>\n",
       "      <td>1</td>\n",
       "      <td>41.0</td>\n",
       "      <td>49600.0</td>\n",
       "      <td>1</td>\n",
       "      <td>0</td>\n",
       "    </tr>\n",
       "    <tr>\n",
       "      <th>1</th>\n",
       "      <td>0</td>\n",
       "      <td>46.0</td>\n",
       "      <td>38000.0</td>\n",
       "      <td>1</td>\n",
       "      <td>1</td>\n",
       "    </tr>\n",
       "    <tr>\n",
       "      <th>2</th>\n",
       "      <td>0</td>\n",
       "      <td>29.0</td>\n",
       "      <td>21000.0</td>\n",
       "      <td>0</td>\n",
       "      <td>0</td>\n",
       "    </tr>\n",
       "    <tr>\n",
       "      <th>3</th>\n",
       "      <td>0</td>\n",
       "      <td>21.0</td>\n",
       "      <td>41700.0</td>\n",
       "      <td>2</td>\n",
       "      <td>0</td>\n",
       "    </tr>\n",
       "    <tr>\n",
       "      <th>4</th>\n",
       "      <td>1</td>\n",
       "      <td>28.0</td>\n",
       "      <td>26100.0</td>\n",
       "      <td>0</td>\n",
       "      <td>0</td>\n",
       "    </tr>\n",
       "    <tr>\n",
       "      <th>...</th>\n",
       "      <td>...</td>\n",
       "      <td>...</td>\n",
       "      <td>...</td>\n",
       "      <td>...</td>\n",
       "      <td>...</td>\n",
       "    </tr>\n",
       "    <tr>\n",
       "      <th>4995</th>\n",
       "      <td>0</td>\n",
       "      <td>28.0</td>\n",
       "      <td>35700.0</td>\n",
       "      <td>2</td>\n",
       "      <td>0</td>\n",
       "    </tr>\n",
       "    <tr>\n",
       "      <th>4996</th>\n",
       "      <td>0</td>\n",
       "      <td>34.0</td>\n",
       "      <td>52400.0</td>\n",
       "      <td>1</td>\n",
       "      <td>0</td>\n",
       "    </tr>\n",
       "    <tr>\n",
       "      <th>4997</th>\n",
       "      <td>0</td>\n",
       "      <td>20.0</td>\n",
       "      <td>33900.0</td>\n",
       "      <td>2</td>\n",
       "      <td>0</td>\n",
       "    </tr>\n",
       "    <tr>\n",
       "      <th>4998</th>\n",
       "      <td>1</td>\n",
       "      <td>22.0</td>\n",
       "      <td>32700.0</td>\n",
       "      <td>3</td>\n",
       "      <td>0</td>\n",
       "    </tr>\n",
       "    <tr>\n",
       "      <th>4999</th>\n",
       "      <td>1</td>\n",
       "      <td>28.0</td>\n",
       "      <td>40600.0</td>\n",
       "      <td>1</td>\n",
       "      <td>0</td>\n",
       "    </tr>\n",
       "  </tbody>\n",
       "</table>\n",
       "<p>5000 rows × 5 columns</p>\n",
       "</div>"
      ],
      "text/plain": [
       "      Пол  Возраст  Зарплата  Члены семьи  Страховые выплаты\n",
       "0       1     41.0   49600.0            1                  0\n",
       "1       0     46.0   38000.0            1                  1\n",
       "2       0     29.0   21000.0            0                  0\n",
       "3       0     21.0   41700.0            2                  0\n",
       "4       1     28.0   26100.0            0                  0\n",
       "...   ...      ...       ...          ...                ...\n",
       "4995    0     28.0   35700.0            2                  0\n",
       "4996    0     34.0   52400.0            1                  0\n",
       "4997    0     20.0   33900.0            2                  0\n",
       "4998    1     22.0   32700.0            3                  0\n",
       "4999    1     28.0   40600.0            1                  0\n",
       "\n",
       "[5000 rows x 5 columns]"
      ]
     },
     "metadata": {},
     "output_type": "display_data"
    },
    {
     "name": "stdout",
     "output_type": "stream",
     "text": [
      "<class 'pandas.core.frame.DataFrame'>\n",
      "RangeIndex: 5000 entries, 0 to 4999\n",
      "Data columns (total 5 columns):\n",
      " #   Column             Non-Null Count  Dtype  \n",
      "---  ------             --------------  -----  \n",
      " 0   Пол                5000 non-null   int64  \n",
      " 1   Возраст            5000 non-null   float64\n",
      " 2   Зарплата           5000 non-null   float64\n",
      " 3   Члены семьи        5000 non-null   int64  \n",
      " 4   Страховые выплаты  5000 non-null   int64  \n",
      "dtypes: float64(2), int64(3)\n",
      "memory usage: 195.4 KB\n",
      "Index(['Пол', 'Возраст', 'Зарплата', 'Члены семьи', 'Страховые выплаты'], dtype='object')\n"
     ]
    }
   ],
   "source": [
    "df = pd.read_csv('/datasets/insurance.csv')\n",
    "display(df)\n",
    "df.info()\n",
    "print(df.columns)\n"
   ]
  },
  {
   "cell_type": "markdown",
   "metadata": {},
   "source": [
    "## Анализ данных"
   ]
  },
  {
   "cell_type": "code",
   "execution_count": 3,
   "metadata": {},
   "outputs": [
    {
     "name": "stdout",
     "output_type": "stream",
     "text": [
      "0\n"
     ]
    }
   ],
   "source": [
    "df = df.drop_duplicates().reset_index(drop=True)\n",
    "print(df.duplicated().sum())"
   ]
  },
  {
   "cell_type": "code",
   "execution_count": 4,
   "metadata": {},
   "outputs": [
    {
     "data": {
      "text/plain": [
       "0    2431\n",
       "1    2416\n",
       "Name: Пол, dtype: int64"
      ]
     },
     "execution_count": 4,
     "metadata": {},
     "output_type": "execute_result"
    }
   ],
   "source": [
    "df['Пол'].value_counts()"
   ]
  },
  {
   "cell_type": "code",
   "execution_count": 5,
   "metadata": {},
   "outputs": [
    {
     "data": {
      "text/plain": [
       "1    1748\n",
       "0    1461\n",
       "2    1038\n",
       "3     437\n",
       "4     124\n",
       "5      32\n",
       "6       7\n",
       "Name: Члены семьи, dtype: int64"
      ]
     },
     "execution_count": 5,
     "metadata": {},
     "output_type": "execute_result"
    }
   ],
   "source": [
    "df['Члены семьи'].value_counts()"
   ]
  },
  {
   "cell_type": "code",
   "execution_count": 6,
   "metadata": {
    "scrolled": true
   },
   "outputs": [
    {
     "data": {
      "text/plain": [
       "19.0    213\n",
       "25.0    205\n",
       "31.0    202\n",
       "26.0    201\n",
       "22.0    201\n",
       "27.0    201\n",
       "32.0    196\n",
       "30.0    196\n",
       "29.0    196\n",
       "28.0    196\n",
       "23.0    195\n",
       "21.0    193\n",
       "20.0    190\n",
       "36.0    186\n",
       "33.0    186\n",
       "24.0    176\n",
       "35.0    173\n",
       "34.0    173\n",
       "37.0    143\n",
       "39.0    140\n",
       "38.0    135\n",
       "41.0    124\n",
       "18.0    116\n",
       "40.0    110\n",
       "42.0     93\n",
       "43.0     77\n",
       "44.0     74\n",
       "45.0     73\n",
       "46.0     60\n",
       "47.0     47\n",
       "49.0     37\n",
       "48.0     26\n",
       "50.0     26\n",
       "52.0     22\n",
       "51.0     21\n",
       "53.0     11\n",
       "55.0      9\n",
       "54.0      7\n",
       "56.0      5\n",
       "59.0      3\n",
       "60.0      2\n",
       "58.0      2\n",
       "57.0      2\n",
       "65.0      1\n",
       "61.0      1\n",
       "62.0      1\n",
       "Name: Возраст, dtype: int64"
      ]
     },
     "execution_count": 6,
     "metadata": {},
     "output_type": "execute_result"
    }
   ],
   "source": [
    "df['Возраст'].value_counts()"
   ]
  },
  {
   "cell_type": "code",
   "execution_count": 7,
   "metadata": {},
   "outputs": [
    {
     "data": {
      "text/plain": [
       "0    4284\n",
       "1     423\n",
       "2     114\n",
       "3      18\n",
       "4       7\n",
       "5       1\n",
       "Name: Страховые выплаты, dtype: int64"
      ]
     },
     "execution_count": 7,
     "metadata": {},
     "output_type": "execute_result"
    }
   ],
   "source": [
    "df['Страховые выплаты'].value_counts()"
   ]
  },
  {
   "cell_type": "markdown",
   "metadata": {},
   "source": [
    "## Построение моделей"
   ]
  },
  {
   "cell_type": "code",
   "execution_count": 8,
   "metadata": {},
   "outputs": [],
   "source": [
    "features = df.drop(['Страховые выплаты'], axis=1)\n",
    "target = df['Страховые выплаты'] "
   ]
  },
  {
   "cell_type": "code",
   "execution_count": 9,
   "metadata": {},
   "outputs": [],
   "source": [
    "features_train, features_valid, target_train, target_valid = train_test_split(\n",
    "    features, target, test_size=0.25, random_state=12345)"
   ]
  },
  {
   "cell_type": "markdown",
   "metadata": {},
   "source": [
    "### LinearRegression из библиотеки sklearn"
   ]
  },
  {
   "cell_type": "code",
   "execution_count": 10,
   "metadata": {},
   "outputs": [
    {
     "name": "stdout",
     "output_type": "stream",
     "text": [
      "R2 модели линейной регрессии на валидационной выборке: 0.42307727492147584\n"
     ]
    }
   ],
   "source": [
    "model = LinearRegression() \n",
    "model.fit(features_train, target_train) \n",
    "predictions_valid = model.predict(features_valid)\n",
    "\n",
    "result = r2_score(target_valid, predictions_valid)  \n",
    "print(\"R2 модели линейной регрессии на валидационной выборке:\", result)"
   ]
  },
  {
   "cell_type": "markdown",
   "metadata": {},
   "source": [
    "### Модель LinearRegression на Python "
   ]
  },
  {
   "cell_type": "code",
   "execution_count": 11,
   "metadata": {},
   "outputs": [
    {
     "name": "stdout",
     "output_type": "stream",
     "text": [
      "0.4230772749214825\n"
     ]
    }
   ],
   "source": [
    "class LinearRegression2:\n",
    "    def fit(self, train_features, train_target):\n",
    "        X = np.concatenate((np.ones((train_features.shape[0], 1)), train_features), axis=1)\n",
    "        y = train_target\n",
    "        w = np.linalg.inv(X.T.dot(X)).dot(X.T).dot(y)\n",
    "        self.w = w[1:]\n",
    "        self.w0 = w[0]\n",
    "\n",
    "    def predict(self, test_features):\n",
    "        return test_features.dot(self.w) + self.w0\n",
    "    \n",
    "model = LinearRegression2()\n",
    "model.fit(features_train, target_train)\n",
    "predictions = model.predict(features_valid)\n",
    "print(r2_score(target_valid, predictions)"
   ]
  },
  {
   "cell_type": "markdown",
   "metadata": {},
   "source": [
    "##  Кодирование данных"
   ]
  },
  {
   "cell_type": "markdown",
   "metadata": {},
   "source": [
    " ### Создание матрицы "
   ]
  },
  {
   "cell_type": "markdown",
   "metadata": {},
   "source": [
    "Главным принципом кодирования данных, для их защиты, здесь является умножение на обратимую матрицу, размерностью совпадающую с размернотстью матрицы признаков."
   ]
  },
  {
   "cell_type": "code",
   "execution_count": 13,
   "metadata": {},
   "outputs": [
    {
     "name": "stdout",
     "output_type": "stream",
     "text": [
      "[[ 0.02490937 -0.58373843  1.46540265 -0.11949976]\n",
      " [-0.16313695 -0.55215704 -0.4318525   1.25797059]\n",
      " [-0.80640269  0.28919961  0.3450331   0.01795658]\n",
      " [ 1.24522788  1.26279801 -1.26547053 -0.26838147]]\n"
     ]
    }
   ],
   "source": [
    "Z = np.random.normal(size = (4,4))\n",
    "print(Z)"
   ]
  },
  {
   "cell_type": "markdown",
   "metadata": {},
   "source": [
    "Проверка на обратимость:"
   ]
  },
  {
   "cell_type": "code",
   "execution_count": 14,
   "metadata": {},
   "outputs": [
    {
     "name": "stdout",
     "output_type": "stream",
     "text": [
      "[[ 0.57240181  0.16019143 -0.54523876  0.45950864]\n",
      " [ 0.47367358  0.20152685  1.2343495   0.81628458]\n",
      " [ 0.90984113  0.15564373  0.55491745  0.36155197]\n",
      " [ 0.59448072  0.95759213  0.66158038  0.54199776]]\n"
     ]
    }
   ],
   "source": [
    "print(np.linalg.inv(Z))"
   ]
  },
  {
   "cell_type": "markdown",
   "metadata": {},
   "source": [
    "### Кодирование признаков "
   ]
  },
  {
   "cell_type": "code",
   "execution_count": 15,
   "metadata": {},
   "outputs": [],
   "source": [
    "features1 = features.dot(Z)\n",
    "target1 = df['Страховые выплаты']"
   ]
  },
  {
   "cell_type": "code",
   "execution_count": 16,
   "metadata": {},
   "outputs": [],
   "source": [
    "features_train1, features_valid1, target_train1, target_valid1 = train_test_split(\n",
    "    features1, target1, test_size=0.25, random_state=12345)"
   ]
  },
  {
   "cell_type": "code",
   "execution_count": 17,
   "metadata": {},
   "outputs": [
    {
     "name": "stdout",
     "output_type": "stream",
     "text": [
      "R2 модели линейной регрессии на валидационной выборке: 0.423077274921449\n"
     ]
    }
   ],
   "source": [
    "model = LinearRegression() \n",
    "model.fit(features_train1, target_train1) \n",
    "predictions_valid1 = model.predict(features_valid1)\n",
    "\n",
    "result = r2_score(target_valid1, predictions_valid1)  \n",
    "print(\"R2 модели линейной регрессии на валидационной выборке:\", result)"
   ]
  },
  {
   "cell_type": "markdown",
   "metadata": {},
   "source": [
    "## Алгебраическое доказательство"
   ]
  },
  {
   "cell_type": "markdown",
   "metadata": {},
   "source": [
    "Обозначения:\n",
    "\n",
    "- $X$ — матрица признаков (нулевой столбец состоит из единиц)\n",
    "\n",
    "- $y$ — вектор целевого признака\n",
    "\n",
    "- $P$ — матрица, на которую умножаются признаки\n",
    "\n",
    "- $w$ — вектор весов линейной регрессии (нулевой элемент равен сдвигу)"
   ]
  },
  {
   "cell_type": "markdown",
   "metadata": {},
   "source": [
    "Предсказания:\n",
    "\n",
    "$$\n",
    "a = Xw\n",
    "$$\n",
    "\n",
    "Задача обучения:\n",
    "\n",
    "$$\n",
    "w = \\arg\\min_w MSE(Xw, y)\n",
    "$$\n",
    "\n",
    "Формула обучения:\n",
    "\n",
    "$$\n",
    "w = (X^T X)^{-1} X^T y\n",
    "$$"
   ]
  },
  {
   "cell_type": "markdown",
   "metadata": {},
   "source": [
    "**Качество линейной регрессии после кодирования не изменится.**\n",
    "\n",
    "**Обоснование:** У линейной регрессии признаки — это вектор чисел в n-мерном пространстве. Предсказание модели вычисляется так: скалярно умножается вектор признаков на вектор весов , затем к этому произведению прибавляется величина сдвига предсказания. Отсюда следует, что умножение признаков на обратимый вектор не изменит предсказание модели."
   ]
  },
  {
   "cell_type": "markdown",
   "metadata": {},
   "source": [
    "$w' = ((XP)^T XP)^{-1} (XP)^T y)$\n",
    "\n",
    "$w' = (P^TX^T XP)^{-1} (XP)^T y)$\n",
    "\n",
    "$w' = (P^TX^T XP)^{-1}P^TX^T y)$\n",
    "\n",
    "$w' = (P^TX^T XP)^{-1}P^TX^T y)$"
   ]
  },
  {
   "cell_type": "markdown",
   "metadata": {},
   "source": [
    "Разложим для начала $w' = ((XP)^T XP)^{-1} (XP)^T y)$, получим: $w' = (X^TP^TXP)^{-1} (XP)^T y)$\n",
    "\n",
    "Далее: $w' = (X^T)^{-1}(P^T)^{-1}X^{-1}P^{-1} (XP)^T y)$\n",
    "\n",
    " $w' = (X^T)^{-1}(P^T)^{-1}X^{-1}P^{-1}X^TP^T y$\n",
    " \n",
    "Сократим:   $w' = (X^T)^{-1}X^{-1}P^{-1}X^T y$\n",
    " \n",
    "Объединим: $w' = (X^TX)^{-1}P^{-1}X^T y$ \n",
    "\n",
    "Переставим: $w' = P^{-1}(X^TX)^{-1}X^T y$ \n",
    "\n",
    "Если $w' = P^{-1}w$, где $w = (X^T X)^{-1} X^T y$, то:\n",
    "\n",
    "$P^{-1}(X^TX)^{-1}X^T y = P^{-1}(X^T X)^{-1} X^T y$"
   ]
  },
  {
   "cell_type": "markdown",
   "metadata": {},
   "source": [
    "## Алгоритм преобразования"
   ]
  },
  {
   "cell_type": "code",
   "execution_count": 18,
   "metadata": {},
   "outputs": [],
   "source": [
    "features = features.dot(np.random.normal(size = (features.shape[1],features.shape[1])))"
   ]
  },
  {
   "cell_type": "markdown",
   "metadata": {},
   "source": [
    "## Проверка алгоритма"
   ]
  },
  {
   "cell_type": "code",
   "execution_count": 19,
   "metadata": {},
   "outputs": [],
   "source": [
    "features_train, features_valid, target_train, target_valid = train_test_split(\n",
    "    features, target, test_size=0.25, random_state=12345)"
   ]
  },
  {
   "cell_type": "code",
   "execution_count": 20,
   "metadata": {},
   "outputs": [
    {
     "name": "stdout",
     "output_type": "stream",
     "text": [
      "R2 модели линейной регрессии на валидационной выборке: 0.4230772749211579\n"
     ]
    }
   ],
   "source": [
    "model = LinearRegression() \n",
    "model.fit(features_train, target_train) \n",
    "predictions_valid = model.predict(features_valid)\n",
    "\n",
    "result = r2_score(target_valid, predictions_valid)  \n",
    "print(\"R2 модели линейной регрессии на валидационной выборке:\", result)"
   ]
  },
  {
   "cell_type": "markdown",
   "metadata": {},
   "source": [
    "## Вывод"
   ]
  },
  {
   "cell_type": "markdown",
   "metadata": {},
   "source": [
    "Метод преобразования данных создан и обоснованна его корректность работы."
   ]
  }
 ],
 "metadata": {
  "ExecuteTimeLog": [
   {
    "duration": 324,
    "start_time": "2021-11-23T12:23:21.911Z"
   },
   {
    "duration": 597,
    "start_time": "2021-11-23T12:23:24.932Z"
   },
   {
    "duration": 19,
    "start_time": "2021-11-23T12:23:25.530Z"
   },
   {
    "duration": 30,
    "start_time": "2021-11-23T12:23:33.398Z"
   },
   {
    "duration": 30,
    "start_time": "2021-11-23T12:25:28.193Z"
   },
   {
    "duration": 557,
    "start_time": "2021-11-23T12:26:56.891Z"
   },
   {
    "duration": 38,
    "start_time": "2021-11-23T12:26:57.450Z"
   },
   {
    "duration": 8,
    "start_time": "2021-11-23T12:26:58.178Z"
   },
   {
    "duration": 6,
    "start_time": "2021-11-23T12:40:56.930Z"
   },
   {
    "duration": 6,
    "start_time": "2021-11-23T12:43:08.581Z"
   },
   {
    "duration": 448,
    "start_time": "2021-11-23T12:43:09.973Z"
   },
   {
    "duration": 324,
    "start_time": "2021-11-23T12:43:24.878Z"
   },
   {
    "duration": 313,
    "start_time": "2021-11-23T12:43:39.723Z"
   },
   {
    "duration": 35,
    "start_time": "2021-11-23T12:44:14.765Z"
   },
   {
    "duration": 8,
    "start_time": "2021-11-23T12:44:46.624Z"
   },
   {
    "duration": 5,
    "start_time": "2021-11-23T12:45:16.129Z"
   },
   {
    "duration": 1135,
    "start_time": "2021-11-23T12:54:24.080Z"
   },
   {
    "duration": 43,
    "start_time": "2021-11-23T12:54:25.217Z"
   },
   {
    "duration": 13,
    "start_time": "2021-11-23T12:54:25.263Z"
   },
   {
    "duration": 13,
    "start_time": "2021-11-23T12:54:25.279Z"
   },
   {
    "duration": 6,
    "start_time": "2021-11-23T12:54:25.488Z"
   },
   {
    "duration": 7,
    "start_time": "2021-11-23T12:54:26.330Z"
   },
   {
    "duration": 6,
    "start_time": "2021-11-23T12:54:26.815Z"
   },
   {
    "duration": 7,
    "start_time": "2021-11-23T12:54:27.818Z"
   },
   {
    "duration": 9,
    "start_time": "2021-11-23T12:54:29.084Z"
   },
   {
    "duration": 1159,
    "start_time": "2021-11-23T12:56:09.836Z"
   },
   {
    "duration": 40,
    "start_time": "2021-11-23T12:56:10.997Z"
   },
   {
    "duration": 7,
    "start_time": "2021-11-23T12:56:11.039Z"
   },
   {
    "duration": 24,
    "start_time": "2021-11-23T12:56:11.048Z"
   },
   {
    "duration": 9,
    "start_time": "2021-11-23T12:56:11.075Z"
   },
   {
    "duration": 13,
    "start_time": "2021-11-23T12:56:11.087Z"
   },
   {
    "duration": 8,
    "start_time": "2021-11-23T12:56:11.268Z"
   },
   {
    "duration": 5,
    "start_time": "2021-11-23T12:56:11.488Z"
   },
   {
    "duration": 6,
    "start_time": "2021-11-23T12:56:11.744Z"
   },
   {
    "duration": 9,
    "start_time": "2021-11-23T12:56:11.954Z"
   },
   {
    "duration": 702,
    "start_time": "2021-11-23T12:56:12.416Z"
   },
   {
    "duration": 1158,
    "start_time": "2021-11-23T12:56:57.726Z"
   },
   {
    "duration": 40,
    "start_time": "2021-11-23T12:56:58.886Z"
   },
   {
    "duration": 7,
    "start_time": "2021-11-23T12:56:58.928Z"
   },
   {
    "duration": 6,
    "start_time": "2021-11-23T12:56:58.937Z"
   },
   {
    "duration": 21,
    "start_time": "2021-11-23T12:56:58.944Z"
   },
   {
    "duration": 9,
    "start_time": "2021-11-23T12:56:59.106Z"
   },
   {
    "duration": 7,
    "start_time": "2021-11-23T12:56:59.331Z"
   },
   {
    "duration": 5,
    "start_time": "2021-11-23T12:56:59.791Z"
   },
   {
    "duration": 7,
    "start_time": "2021-11-23T12:57:00.128Z"
   },
   {
    "duration": 8,
    "start_time": "2021-11-23T12:57:00.412Z"
   },
   {
    "duration": 15,
    "start_time": "2021-11-23T12:57:01.626Z"
   },
   {
    "duration": 3,
    "start_time": "2021-11-23T13:35:00.881Z"
   },
   {
    "duration": 4,
    "start_time": "2021-11-23T13:35:32.855Z"
   },
   {
    "duration": 1146,
    "start_time": "2021-11-23T13:47:26.240Z"
   },
   {
    "duration": 35,
    "start_time": "2021-11-23T13:47:27.387Z"
   },
   {
    "duration": 12,
    "start_time": "2021-11-23T13:47:27.423Z"
   },
   {
    "duration": 32,
    "start_time": "2021-11-23T13:47:27.437Z"
   },
   {
    "duration": 27,
    "start_time": "2021-11-23T13:47:27.470Z"
   },
   {
    "duration": 22,
    "start_time": "2021-11-23T13:47:27.498Z"
   },
   {
    "duration": 6,
    "start_time": "2021-11-23T13:47:27.886Z"
   },
   {
    "duration": 8,
    "start_time": "2021-11-23T13:47:28.292Z"
   },
   {
    "duration": 6,
    "start_time": "2021-11-23T13:47:28.602Z"
   },
   {
    "duration": 9,
    "start_time": "2021-11-23T13:47:28.873Z"
   },
   {
    "duration": 15,
    "start_time": "2021-11-23T13:47:29.905Z"
   },
   {
    "duration": 4,
    "start_time": "2021-11-23T13:47:31.018Z"
   },
   {
    "duration": 87,
    "start_time": "2021-11-23T13:50:19.028Z"
   },
   {
    "duration": 85,
    "start_time": "2021-11-23T13:50:37.102Z"
   },
   {
    "duration": 7380,
    "start_time": "2021-11-23T13:51:39.227Z"
   },
   {
    "duration": 3713,
    "start_time": "2021-11-23T13:51:57.012Z"
   },
   {
    "duration": 3550,
    "start_time": "2021-11-23T13:52:19.230Z"
   },
   {
    "duration": 365,
    "start_time": "2021-11-23T13:55:32.085Z"
   },
   {
    "duration": 8,
    "start_time": "2021-11-23T13:55:41.686Z"
   },
   {
    "duration": 13,
    "start_time": "2021-11-23T13:56:20.690Z"
   },
   {
    "duration": 3499,
    "start_time": "2021-11-23T13:56:40.066Z"
   },
   {
    "duration": 3723,
    "start_time": "2021-11-23T13:58:38.026Z"
   },
   {
    "duration": 653,
    "start_time": "2021-11-23T13:59:37.075Z"
   },
   {
    "duration": 3490,
    "start_time": "2021-11-23T13:59:52.709Z"
   },
   {
    "duration": 19364,
    "start_time": "2021-11-23T14:00:53.603Z"
   },
   {
    "duration": 3338,
    "start_time": "2021-11-23T14:01:38.989Z"
   },
   {
    "duration": 3477,
    "start_time": "2021-11-23T14:02:19.003Z"
   },
   {
    "duration": 725,
    "start_time": "2021-11-23T14:02:30.678Z"
   },
   {
    "duration": -199,
    "start_time": "2021-11-23T14:03:19.394Z"
   },
   {
    "duration": 3510,
    "start_time": "2021-11-23T14:03:22.306Z"
   },
   {
    "duration": 638,
    "start_time": "2021-11-23T14:09:07.860Z"
   },
   {
    "duration": 1812,
    "start_time": "2021-11-23T14:09:13.191Z"
   },
   {
    "duration": 3483,
    "start_time": "2021-11-23T14:09:27.297Z"
   },
   {
    "duration": 2097,
    "start_time": "2021-11-23T14:09:59.241Z"
   },
   {
    "duration": -196,
    "start_time": "2021-11-23T14:23:29.666Z"
   },
   {
    "duration": 6415,
    "start_time": "2021-11-23T14:24:17.403Z"
   },
   {
    "duration": 6343,
    "start_time": "2021-11-23T14:24:40.983Z"
   },
   {
    "duration": 9,
    "start_time": "2021-11-23T14:25:45.313Z"
   },
   {
    "duration": 266,
    "start_time": "2021-11-23T14:25:52.553Z"
   },
   {
    "duration": 290,
    "start_time": "2021-11-23T14:26:00.155Z"
   },
   {
    "duration": 309,
    "start_time": "2021-11-23T14:26:22.110Z"
   },
   {
    "duration": 389,
    "start_time": "2021-11-23T14:26:29.300Z"
   },
   {
    "duration": 18256,
    "start_time": "2021-11-23T14:26:39.908Z"
   },
   {
    "duration": 3285,
    "start_time": "2021-11-23T14:27:03.137Z"
   },
   {
    "duration": 17957,
    "start_time": "2021-11-23T14:27:06.913Z"
   },
   {
    "duration": 18001,
    "start_time": "2021-11-23T14:27:32.388Z"
   },
   {
    "duration": 18203,
    "start_time": "2021-11-23T14:27:56.316Z"
   },
   {
    "duration": 95,
    "start_time": "2021-11-23T14:28:49.307Z"
   },
   {
    "duration": 100,
    "start_time": "2021-11-23T14:29:21.108Z"
   },
   {
    "duration": 18522,
    "start_time": "2021-11-23T14:29:39.484Z"
   },
   {
    "duration": 3412,
    "start_time": "2021-11-23T14:30:05.121Z"
   },
   {
    "duration": 3362,
    "start_time": "2021-11-23T14:30:10.054Z"
   },
   {
    "duration": 19639,
    "start_time": "2021-11-23T14:30:33.159Z"
   },
   {
    "duration": 9204,
    "start_time": "2021-11-23T14:33:20.521Z"
   },
   {
    "duration": 2022,
    "start_time": "2021-11-23T14:33:42.422Z"
   },
   {
    "duration": 3696,
    "start_time": "2021-11-23T14:34:41.799Z"
   },
   {
    "duration": 3815,
    "start_time": "2021-11-23T14:34:47.515Z"
   },
   {
    "duration": 79,
    "start_time": "2021-11-23T14:37:38.253Z"
   },
   {
    "duration": 310,
    "start_time": "2021-11-23T14:37:42.815Z"
   },
   {
    "duration": 426,
    "start_time": "2021-11-23T14:38:49.806Z"
   },
   {
    "duration": 264,
    "start_time": "2021-11-23T14:39:05.002Z"
   },
   {
    "duration": 397,
    "start_time": "2021-11-23T14:39:15.018Z"
   },
   {
    "duration": 2094,
    "start_time": "2021-11-23T14:39:25.458Z"
   },
   {
    "duration": 777,
    "start_time": "2021-11-23T14:39:39.630Z"
   },
   {
    "duration": 936,
    "start_time": "2021-11-23T14:40:03.839Z"
   },
   {
    "duration": 4,
    "start_time": "2021-11-23T14:42:11.064Z"
   },
   {
    "duration": 894,
    "start_time": "2021-11-23T14:42:22.512Z"
   },
   {
    "duration": 891,
    "start_time": "2021-11-23T14:42:39.009Z"
   },
   {
    "duration": 325,
    "start_time": "2021-11-24T08:14:32.935Z"
   },
   {
    "duration": 1409,
    "start_time": "2021-11-24T08:14:37.240Z"
   },
   {
    "duration": 47,
    "start_time": "2021-11-24T08:14:38.652Z"
   },
   {
    "duration": 3,
    "start_time": "2021-11-24T08:14:38.702Z"
   },
   {
    "duration": 22,
    "start_time": "2021-11-24T08:14:38.707Z"
   },
   {
    "duration": 15,
    "start_time": "2021-11-24T08:14:38.732Z"
   },
   {
    "duration": 19,
    "start_time": "2021-11-24T08:14:38.749Z"
   },
   {
    "duration": 8,
    "start_time": "2021-11-24T08:14:38.771Z"
   },
   {
    "duration": 8,
    "start_time": "2021-11-24T08:14:38.782Z"
   },
   {
    "duration": 39,
    "start_time": "2021-11-24T08:14:38.794Z"
   },
   {
    "duration": 11,
    "start_time": "2021-11-24T08:14:38.835Z"
   },
   {
    "duration": 86,
    "start_time": "2021-11-24T08:14:38.849Z"
   },
   {
    "duration": 96,
    "start_time": "2021-11-24T08:14:38.939Z"
   },
   {
    "duration": 1455,
    "start_time": "2021-11-24T08:14:39.038Z"
   },
   {
    "duration": 525,
    "start_time": "2021-11-24T08:14:40.497Z"
   },
   {
    "duration": -188,
    "start_time": "2021-11-24T08:14:41.213Z"
   },
   {
    "duration": 5,
    "start_time": "2021-11-24T08:15:03.091Z"
   },
   {
    "duration": 5,
    "start_time": "2021-11-24T08:15:45.423Z"
   },
   {
    "duration": 1207,
    "start_time": "2021-11-24T08:15:48.480Z"
   },
   {
    "duration": 4,
    "start_time": "2021-11-24T08:17:46.189Z"
   },
   {
    "duration": 6,
    "start_time": "2021-11-24T08:17:47.462Z"
   },
   {
    "duration": 6,
    "start_time": "2021-11-24T08:17:58.541Z"
   },
   {
    "duration": 7,
    "start_time": "2021-11-24T08:18:06.917Z"
   },
   {
    "duration": 5,
    "start_time": "2021-11-24T08:18:24.655Z"
   },
   {
    "duration": 7,
    "start_time": "2021-11-24T08:18:25.015Z"
   },
   {
    "duration": 10,
    "start_time": "2021-11-24T08:19:23.070Z"
   },
   {
    "duration": 1573,
    "start_time": "2021-11-24T08:26:57.673Z"
   },
   {
    "duration": 45,
    "start_time": "2021-11-24T08:26:59.249Z"
   },
   {
    "duration": 3,
    "start_time": "2021-11-24T08:26:59.296Z"
   },
   {
    "duration": 11,
    "start_time": "2021-11-24T08:26:59.301Z"
   },
   {
    "duration": 7,
    "start_time": "2021-11-24T08:26:59.330Z"
   },
   {
    "duration": 14,
    "start_time": "2021-11-24T08:26:59.340Z"
   },
   {
    "duration": 11,
    "start_time": "2021-11-24T08:26:59.357Z"
   },
   {
    "duration": 18,
    "start_time": "2021-11-24T08:26:59.371Z"
   },
   {
    "duration": 12,
    "start_time": "2021-11-24T08:26:59.391Z"
   },
   {
    "duration": 10,
    "start_time": "2021-11-24T08:26:59.509Z"
   },
   {
    "duration": 199,
    "start_time": "2021-11-24T08:27:00.230Z"
   },
   {
    "duration": 4,
    "start_time": "2021-11-24T08:27:01.040Z"
   },
   {
    "duration": 3,
    "start_time": "2021-11-24T08:27:02.259Z"
   },
   {
    "duration": 3,
    "start_time": "2021-11-24T08:27:02.748Z"
   },
   {
    "duration": 3,
    "start_time": "2021-11-24T08:27:02.979Z"
   },
   {
    "duration": 5,
    "start_time": "2021-11-24T08:27:04.107Z"
   },
   {
    "duration": 299,
    "start_time": "2021-11-24T08:27:04.946Z"
   },
   {
    "duration": 530,
    "start_time": "2021-11-24T08:27:06.117Z"
   },
   {
    "duration": 130,
    "start_time": "2021-11-24T08:27:47.022Z"
   },
   {
    "duration": 501,
    "start_time": "2021-11-24T08:27:47.477Z"
   },
   {
    "duration": 398,
    "start_time": "2021-11-24T08:28:19.395Z"
   },
   {
    "duration": 290,
    "start_time": "2021-11-24T08:29:18.219Z"
   },
   {
    "duration": 10,
    "start_time": "2021-11-24T08:29:19.334Z"
   },
   {
    "duration": 252,
    "start_time": "2021-11-24T08:30:08.637Z"
   },
   {
    "duration": 10,
    "start_time": "2021-11-24T08:30:09.048Z"
   },
   {
    "duration": 291,
    "start_time": "2021-11-24T08:30:48.090Z"
   },
   {
    "duration": 491,
    "start_time": "2021-11-24T08:30:49.447Z"
   },
   {
    "duration": 297,
    "start_time": "2021-11-24T08:31:05.157Z"
   },
   {
    "duration": 489,
    "start_time": "2021-11-24T08:31:05.757Z"
   },
   {
    "duration": 252,
    "start_time": "2021-11-24T08:31:12.990Z"
   },
   {
    "duration": 490,
    "start_time": "2021-11-24T08:31:19.894Z"
   },
   {
    "duration": 1682,
    "start_time": "2021-11-24T08:31:46.247Z"
   },
   {
    "duration": 1285,
    "start_time": "2021-11-24T08:32:20.147Z"
   },
   {
    "duration": 7,
    "start_time": "2021-11-24T08:40:22.694Z"
   },
   {
    "duration": 83,
    "start_time": "2021-11-24T08:41:02.187Z"
   },
   {
    "duration": 475,
    "start_time": "2021-11-24T08:41:02.775Z"
   },
   {
    "duration": 291,
    "start_time": "2021-11-24T08:41:11.275Z"
   },
   {
    "duration": 7,
    "start_time": "2021-11-24T08:41:12.534Z"
   },
   {
    "duration": 6,
    "start_time": "2021-11-24T08:41:25.853Z"
   },
   {
    "duration": 7,
    "start_time": "2021-11-24T08:41:32.093Z"
   },
   {
    "duration": 7,
    "start_time": "2021-11-24T08:41:42.484Z"
   },
   {
    "duration": 5,
    "start_time": "2021-11-24T08:41:53.502Z"
   },
   {
    "duration": 6,
    "start_time": "2021-11-24T08:42:10.858Z"
   },
   {
    "duration": 35,
    "start_time": "2021-11-24T08:44:21.560Z"
   },
   {
    "duration": 1310,
    "start_time": "2021-11-24T08:45:01.744Z"
   },
   {
    "duration": 49,
    "start_time": "2021-11-24T08:45:03.057Z"
   },
   {
    "duration": 3,
    "start_time": "2021-11-24T08:45:03.109Z"
   },
   {
    "duration": 9,
    "start_time": "2021-11-24T08:45:03.129Z"
   },
   {
    "duration": 15,
    "start_time": "2021-11-24T08:45:03.140Z"
   },
   {
    "duration": 20,
    "start_time": "2021-11-24T08:45:03.157Z"
   },
   {
    "duration": 8,
    "start_time": "2021-11-24T08:45:03.179Z"
   },
   {
    "duration": 6,
    "start_time": "2021-11-24T08:45:03.709Z"
   },
   {
    "duration": 7,
    "start_time": "2021-11-24T08:45:04.424Z"
   },
   {
    "duration": 11,
    "start_time": "2021-11-24T08:45:04.712Z"
   },
   {
    "duration": 15,
    "start_time": "2021-11-24T08:45:05.625Z"
   },
   {
    "duration": 5,
    "start_time": "2021-11-24T08:45:06.368Z"
   },
   {
    "duration": 3,
    "start_time": "2021-11-24T08:45:06.874Z"
   },
   {
    "duration": 3,
    "start_time": "2021-11-24T08:45:07.285Z"
   },
   {
    "duration": 4,
    "start_time": "2021-11-24T08:45:07.587Z"
   },
   {
    "duration": 5,
    "start_time": "2021-11-24T08:45:08.111Z"
   },
   {
    "duration": 296,
    "start_time": "2021-11-24T08:45:08.540Z"
   },
   {
    "duration": 6,
    "start_time": "2021-11-24T08:45:09.016Z"
   },
   {
    "duration": 368,
    "start_time": "2021-11-24T08:45:09.589Z"
   },
   {
    "duration": 294,
    "start_time": "2021-11-24T08:45:29.075Z"
   },
   {
    "duration": 437,
    "start_time": "2021-11-24T08:45:29.584Z"
   },
   {
    "duration": 260,
    "start_time": "2021-11-24T08:45:30.104Z"
   },
   {
    "duration": 16,
    "start_time": "2021-11-24T08:45:34.715Z"
   },
   {
    "duration": 241,
    "start_time": "2021-11-24T08:45:39.984Z"
   },
   {
    "duration": 257,
    "start_time": "2021-11-24T08:47:08.281Z"
   },
   {
    "duration": 1310,
    "start_time": "2021-11-24T08:48:08.455Z"
   },
   {
    "duration": 4311,
    "start_time": "2021-11-24T08:48:18.543Z"
   },
   {
    "duration": 454,
    "start_time": "2021-11-24T08:49:36.053Z"
   },
   {
    "duration": 3006,
    "start_time": "2021-11-24T08:49:36.597Z"
   },
   {
    "duration": 4,
    "start_time": "2021-11-24T08:50:51.046Z"
   },
   {
    "duration": 455,
    "start_time": "2021-11-24T08:50:51.585Z"
   },
   {
    "duration": 3107,
    "start_time": "2021-11-24T08:50:52.042Z"
   },
   {
    "duration": 4231,
    "start_time": "2021-11-24T08:51:13.326Z"
   },
   {
    "duration": 7442,
    "start_time": "2021-11-24T08:52:56.950Z"
   },
   {
    "duration": 29141,
    "start_time": "2021-11-24T08:53:35.488Z"
   },
   {
    "duration": 254,
    "start_time": "2021-11-24T08:54:39.259Z"
   },
   {
    "duration": 12,
    "start_time": "2021-11-24T08:54:55.612Z"
   },
   {
    "duration": 7352,
    "start_time": "2021-11-24T08:55:16.102Z"
   },
   {
    "duration": 32491,
    "start_time": "2021-11-24T08:56:03.952Z"
   },
   {
    "duration": 6508,
    "start_time": "2021-11-24T08:57:52.206Z"
   },
   {
    "duration": 16766,
    "start_time": "2021-11-24T08:58:57.130Z"
   },
   {
    "duration": 8,
    "start_time": "2021-11-24T08:59:55.213Z"
   },
   {
    "duration": 10,
    "start_time": "2021-11-24T09:00:18.429Z"
   },
   {
    "duration": 1299,
    "start_time": "2021-11-24T09:06:14.338Z"
   },
   {
    "duration": 45,
    "start_time": "2021-11-24T09:06:15.640Z"
   },
   {
    "duration": 3,
    "start_time": "2021-11-24T09:06:15.688Z"
   },
   {
    "duration": 10,
    "start_time": "2021-11-24T09:06:15.693Z"
   },
   {
    "duration": 26,
    "start_time": "2021-11-24T09:06:15.706Z"
   },
   {
    "duration": 11,
    "start_time": "2021-11-24T09:06:15.735Z"
   },
   {
    "duration": 8,
    "start_time": "2021-11-24T09:06:15.824Z"
   },
   {
    "duration": 6,
    "start_time": "2021-11-24T09:06:16.263Z"
   },
   {
    "duration": 7,
    "start_time": "2021-11-24T09:06:16.501Z"
   },
   {
    "duration": 10,
    "start_time": "2021-11-24T09:06:17.229Z"
   },
   {
    "duration": 19,
    "start_time": "2021-11-24T09:06:18.663Z"
   },
   {
    "duration": 3,
    "start_time": "2021-11-24T09:06:19.591Z"
   },
   {
    "duration": 5,
    "start_time": "2021-11-24T09:06:20.364Z"
   },
   {
    "duration": 5,
    "start_time": "2021-11-24T09:06:21.962Z"
   },
   {
    "duration": 369,
    "start_time": "2021-11-24T09:06:22.856Z"
   },
   {
    "duration": 11,
    "start_time": "2021-11-24T09:06:39.446Z"
   },
   {
    "duration": 769,
    "start_time": "2021-11-24T09:06:59.500Z"
   },
   {
    "duration": 16,
    "start_time": "2021-11-24T09:07:19.900Z"
   },
   {
    "duration": 17,
    "start_time": "2021-11-24T09:07:37.325Z"
   },
   {
    "duration": 18,
    "start_time": "2021-11-24T09:07:54.675Z"
   },
   {
    "duration": 17,
    "start_time": "2021-11-24T09:08:09.539Z"
   },
   {
    "duration": 19,
    "start_time": "2021-11-24T09:08:22.530Z"
   },
   {
    "duration": 6,
    "start_time": "2021-11-24T09:08:58.191Z"
   },
   {
    "duration": 14,
    "start_time": "2021-11-24T09:08:59.576Z"
   },
   {
    "duration": 298,
    "start_time": "2021-11-24T09:09:37.423Z"
   },
   {
    "duration": 3,
    "start_time": "2021-11-24T09:09:37.770Z"
   },
   {
    "duration": 3,
    "start_time": "2021-11-24T09:09:38.039Z"
   },
   {
    "duration": 250,
    "start_time": "2021-11-24T09:09:38.306Z"
   },
   {
    "duration": 294,
    "start_time": "2021-11-24T09:09:38.608Z"
   },
   {
    "duration": -62,
    "start_time": "2021-11-24T09:09:38.966Z"
   },
   {
    "duration": 258,
    "start_time": "2021-11-24T09:09:39.920Z"
   },
   {
    "duration": 1305,
    "start_time": "2021-11-24T09:09:50.546Z"
   },
   {
    "duration": 53,
    "start_time": "2021-11-24T09:09:51.854Z"
   },
   {
    "duration": 18,
    "start_time": "2021-11-24T09:09:51.911Z"
   },
   {
    "duration": 12,
    "start_time": "2021-11-24T09:09:51.933Z"
   },
   {
    "duration": 14,
    "start_time": "2021-11-24T09:09:51.947Z"
   },
   {
    "duration": 17,
    "start_time": "2021-11-24T09:09:51.963Z"
   },
   {
    "duration": 10,
    "start_time": "2021-11-24T09:09:52.072Z"
   },
   {
    "duration": 6,
    "start_time": "2021-11-24T09:09:52.273Z"
   },
   {
    "duration": 9,
    "start_time": "2021-11-24T09:09:52.546Z"
   },
   {
    "duration": 12,
    "start_time": "2021-11-24T09:09:52.899Z"
   },
   {
    "duration": 18,
    "start_time": "2021-11-24T09:09:54.251Z"
   },
   {
    "duration": 4,
    "start_time": "2021-11-24T09:09:54.777Z"
   },
   {
    "duration": 5,
    "start_time": "2021-11-24T09:09:55.276Z"
   },
   {
    "duration": 11,
    "start_time": "2021-11-24T09:09:55.890Z"
   },
   {
    "duration": 5,
    "start_time": "2021-11-24T09:09:56.995Z"
   },
   {
    "duration": 17,
    "start_time": "2021-11-24T09:09:57.668Z"
   },
   {
    "duration": 13,
    "start_time": "2021-11-24T09:10:28.625Z"
   },
   {
    "duration": 12,
    "start_time": "2021-11-24T09:10:31.335Z"
   },
   {
    "duration": 12,
    "start_time": "2021-11-24T09:10:33.270Z"
   },
   {
    "duration": 12,
    "start_time": "2021-11-24T09:10:37.587Z"
   },
   {
    "duration": 5,
    "start_time": "2021-11-24T09:10:38.223Z"
   },
   {
    "duration": 12,
    "start_time": "2021-11-24T09:10:38.687Z"
   },
   {
    "duration": 1298,
    "start_time": "2021-11-24T09:10:46.634Z"
   },
   {
    "duration": 46,
    "start_time": "2021-11-24T09:10:47.935Z"
   },
   {
    "duration": 2,
    "start_time": "2021-11-24T09:10:47.984Z"
   },
   {
    "duration": 25,
    "start_time": "2021-11-24T09:10:47.989Z"
   },
   {
    "duration": 14,
    "start_time": "2021-11-24T09:10:48.017Z"
   },
   {
    "duration": 9,
    "start_time": "2021-11-24T09:10:48.033Z"
   },
   {
    "duration": 8,
    "start_time": "2021-11-24T09:10:48.044Z"
   },
   {
    "duration": 5,
    "start_time": "2021-11-24T09:10:48.480Z"
   },
   {
    "duration": 8,
    "start_time": "2021-11-24T09:10:48.999Z"
   },
   {
    "duration": 10,
    "start_time": "2021-11-24T09:10:49.255Z"
   },
   {
    "duration": 94,
    "start_time": "2021-11-24T09:10:50.035Z"
   },
   {
    "duration": 5,
    "start_time": "2021-11-24T09:10:50.371Z"
   },
   {
    "duration": 5,
    "start_time": "2021-11-24T09:10:50.859Z"
   },
   {
    "duration": 11,
    "start_time": "2021-11-24T09:10:51.366Z"
   },
   {
    "duration": 6,
    "start_time": "2021-11-24T09:10:52.230Z"
   },
   {
    "duration": 14,
    "start_time": "2021-11-24T09:10:52.824Z"
   },
   {
    "duration": 10,
    "start_time": "2021-11-24T09:11:01.813Z"
   },
   {
    "duration": 10,
    "start_time": "2021-11-24T09:11:04.296Z"
   },
   {
    "duration": 5,
    "start_time": "2021-11-24T09:11:05.767Z"
   },
   {
    "duration": 24,
    "start_time": "2021-11-24T09:11:06.206Z"
   },
   {
    "duration": 11,
    "start_time": "2021-11-24T09:11:10.732Z"
   },
   {
    "duration": 5,
    "start_time": "2021-11-24T09:11:11.004Z"
   },
   {
    "duration": 13,
    "start_time": "2021-11-24T09:11:11.508Z"
   },
   {
    "duration": 11,
    "start_time": "2021-11-24T09:11:24.666Z"
   },
   {
    "duration": 6,
    "start_time": "2021-11-24T09:11:24.928Z"
   },
   {
    "duration": 17,
    "start_time": "2021-11-24T09:11:25.370Z"
   },
   {
    "duration": 10,
    "start_time": "2021-11-24T09:11:31.744Z"
   },
   {
    "duration": 5,
    "start_time": "2021-11-24T09:11:32.016Z"
   },
   {
    "duration": 12,
    "start_time": "2021-11-24T09:11:32.314Z"
   },
   {
    "duration": 4,
    "start_time": "2021-11-24T09:27:58.091Z"
   },
   {
    "duration": 491,
    "start_time": "2021-11-24T09:27:58.385Z"
   },
   {
    "duration": 237,
    "start_time": "2021-11-24T09:29:05.959Z"
   },
   {
    "duration": 4,
    "start_time": "2021-11-24T09:29:07.955Z"
   },
   {
    "duration": 11,
    "start_time": "2021-11-24T09:29:08.276Z"
   },
   {
    "duration": 11,
    "start_time": "2021-11-24T09:29:13.577Z"
   },
   {
    "duration": 12,
    "start_time": "2021-11-24T09:29:17.350Z"
   },
   {
    "duration": 12,
    "start_time": "2021-11-24T09:29:46.401Z"
   },
   {
    "duration": 11,
    "start_time": "2021-11-24T09:29:50.435Z"
   },
   {
    "duration": 11,
    "start_time": "2021-11-24T09:29:52.670Z"
   },
   {
    "duration": 11,
    "start_time": "2021-11-24T09:29:55.074Z"
   },
   {
    "duration": 12,
    "start_time": "2021-11-24T09:29:58.976Z"
   },
   {
    "duration": 1360,
    "start_time": "2021-11-24T09:30:20.301Z"
   },
   {
    "duration": 49,
    "start_time": "2021-11-24T09:30:21.664Z"
   },
   {
    "duration": 2,
    "start_time": "2021-11-24T09:30:21.716Z"
   },
   {
    "duration": 14,
    "start_time": "2021-11-24T09:30:21.721Z"
   },
   {
    "duration": 14,
    "start_time": "2021-11-24T09:30:21.737Z"
   },
   {
    "duration": 12,
    "start_time": "2021-11-24T09:30:21.754Z"
   },
   {
    "duration": 8,
    "start_time": "2021-11-24T09:30:21.987Z"
   },
   {
    "duration": 6,
    "start_time": "2021-11-24T09:30:22.328Z"
   },
   {
    "duration": 8,
    "start_time": "2021-11-24T09:30:22.623Z"
   },
   {
    "duration": 10,
    "start_time": "2021-11-24T09:30:22.855Z"
   },
   {
    "duration": 69,
    "start_time": "2021-11-24T09:30:23.475Z"
   },
   {
    "duration": 4,
    "start_time": "2021-11-24T09:30:23.763Z"
   },
   {
    "duration": 5,
    "start_time": "2021-11-24T09:30:24.152Z"
   },
   {
    "duration": 12,
    "start_time": "2021-11-24T09:30:24.783Z"
   },
   {
    "duration": 6,
    "start_time": "2021-11-24T09:30:25.319Z"
   },
   {
    "duration": 17,
    "start_time": "2021-11-24T09:30:26.180Z"
   },
   {
    "duration": 12,
    "start_time": "2021-11-24T09:30:42.990Z"
   },
   {
    "duration": 6,
    "start_time": "2021-11-24T09:30:43.408Z"
   },
   {
    "duration": 12,
    "start_time": "2021-11-24T09:30:43.917Z"
   },
   {
    "duration": 5,
    "start_time": "2021-11-24T09:30:46.482Z"
   },
   {
    "duration": 41,
    "start_time": "2021-11-24T09:30:46.490Z"
   },
   {
    "duration": 9,
    "start_time": "2021-11-24T09:31:55.947Z"
   },
   {
    "duration": 12,
    "start_time": "2021-11-24T09:31:56.294Z"
   },
   {
    "duration": 492,
    "start_time": "2021-11-24T09:34:52.915Z"
   },
   {
    "duration": 4,
    "start_time": "2021-11-24T09:34:56.705Z"
   },
   {
    "duration": 11,
    "start_time": "2021-11-24T09:34:56.902Z"
   },
   {
    "duration": 6,
    "start_time": "2021-11-24T09:34:57.095Z"
   },
   {
    "duration": 36,
    "start_time": "2021-11-24T09:34:57.793Z"
   },
   {
    "duration": 10,
    "start_time": "2021-11-24T09:34:58.322Z"
   },
   {
    "duration": 3,
    "start_time": "2021-11-24T09:35:54.691Z"
   },
   {
    "duration": 9,
    "start_time": "2021-11-24T09:35:55.018Z"
   },
   {
    "duration": 10,
    "start_time": "2021-11-24T09:35:55.483Z"
   },
   {
    "duration": 10,
    "start_time": "2021-11-24T09:36:08.024Z"
   },
   {
    "duration": 4,
    "start_time": "2021-11-24T09:36:10.752Z"
   },
   {
    "duration": 7,
    "start_time": "2021-11-24T09:36:10.923Z"
   },
   {
    "duration": 9,
    "start_time": "2021-11-24T09:36:11.270Z"
   },
   {
    "duration": 4,
    "start_time": "2021-11-24T09:36:13.727Z"
   },
   {
    "duration": 7,
    "start_time": "2021-11-24T09:36:13.971Z"
   },
   {
    "duration": 11,
    "start_time": "2021-11-24T09:36:14.223Z"
   },
   {
    "duration": 8,
    "start_time": "2021-11-24T09:58:02.208Z"
   },
   {
    "duration": 8,
    "start_time": "2021-11-24T09:59:42.159Z"
   },
   {
    "duration": 8,
    "start_time": "2021-11-24T10:00:06.922Z"
   },
   {
    "duration": 10,
    "start_time": "2021-11-24T10:00:20.957Z"
   },
   {
    "duration": 293,
    "start_time": "2021-11-24T10:03:18.759Z"
   },
   {
    "duration": 5,
    "start_time": "2021-11-24T10:03:26.213Z"
   },
   {
    "duration": 7,
    "start_time": "2021-11-24T10:03:33.125Z"
   },
   {
    "duration": 5,
    "start_time": "2021-11-24T10:03:35.120Z"
   },
   {
    "duration": 5,
    "start_time": "2021-11-24T10:03:36.799Z"
   },
   {
    "duration": 8,
    "start_time": "2021-11-24T10:04:39.298Z"
   },
   {
    "duration": 9,
    "start_time": "2021-11-24T10:04:41.612Z"
   },
   {
    "duration": 9,
    "start_time": "2021-11-24T10:04:43.538Z"
   },
   {
    "duration": 10,
    "start_time": "2021-11-24T10:05:11.243Z"
   },
   {
    "duration": 9,
    "start_time": "2021-11-24T10:05:38.485Z"
   },
   {
    "duration": 6,
    "start_time": "2021-11-24T10:12:08.796Z"
   },
   {
    "duration": 242,
    "start_time": "2021-11-24T10:13:55.369Z"
   },
   {
    "duration": 6,
    "start_time": "2021-11-24T10:14:08.207Z"
   },
   {
    "duration": 6,
    "start_time": "2021-11-24T10:14:20.400Z"
   },
   {
    "duration": 7,
    "start_time": "2021-11-24T10:14:23.399Z"
   },
   {
    "duration": 6,
    "start_time": "2021-11-24T10:14:24.445Z"
   },
   {
    "duration": 6,
    "start_time": "2021-11-24T10:14:49.683Z"
   },
   {
    "duration": 259,
    "start_time": "2021-11-24T10:16:18.408Z"
   },
   {
    "duration": 7,
    "start_time": "2021-11-24T10:16:25.184Z"
   },
   {
    "duration": 6,
    "start_time": "2021-11-24T10:17:03.628Z"
   },
   {
    "duration": 6,
    "start_time": "2021-11-24T10:55:46.786Z"
   },
   {
    "duration": 6,
    "start_time": "2021-11-24T10:55:49.681Z"
   },
   {
    "duration": 4,
    "start_time": "2021-11-24T10:55:50.512Z"
   },
   {
    "duration": 6,
    "start_time": "2021-11-24T10:56:00.920Z"
   },
   {
    "duration": 10,
    "start_time": "2021-11-24T10:56:17.958Z"
   },
   {
    "duration": 1332,
    "start_time": "2021-11-24T11:00:49.813Z"
   },
   {
    "duration": 48,
    "start_time": "2021-11-24T11:00:51.148Z"
   },
   {
    "duration": 15,
    "start_time": "2021-11-24T11:00:51.200Z"
   },
   {
    "duration": 8,
    "start_time": "2021-11-24T11:00:51.230Z"
   },
   {
    "duration": 12,
    "start_time": "2021-11-24T11:00:51.240Z"
   },
   {
    "duration": 10,
    "start_time": "2021-11-24T11:00:51.270Z"
   },
   {
    "duration": 8,
    "start_time": "2021-11-24T11:00:51.471Z"
   },
   {
    "duration": 5,
    "start_time": "2021-11-24T11:00:51.732Z"
   },
   {
    "duration": 8,
    "start_time": "2021-11-24T11:00:52.117Z"
   },
   {
    "duration": 10,
    "start_time": "2021-11-24T11:00:52.456Z"
   },
   {
    "duration": 17,
    "start_time": "2021-11-24T11:00:53.056Z"
   },
   {
    "duration": 5,
    "start_time": "2021-11-24T11:01:01.190Z"
   },
   {
    "duration": 1273,
    "start_time": "2021-11-24T11:04:26.977Z"
   },
   {
    "duration": 48,
    "start_time": "2021-11-24T11:04:28.253Z"
   },
   {
    "duration": 12,
    "start_time": "2021-11-24T11:04:28.303Z"
   },
   {
    "duration": 8,
    "start_time": "2021-11-24T11:04:28.330Z"
   },
   {
    "duration": 14,
    "start_time": "2021-11-24T11:04:28.341Z"
   },
   {
    "duration": 24,
    "start_time": "2021-11-24T11:04:28.357Z"
   },
   {
    "duration": 26,
    "start_time": "2021-11-24T11:04:28.383Z"
   },
   {
    "duration": 5,
    "start_time": "2021-11-24T11:04:28.645Z"
   },
   {
    "duration": 7,
    "start_time": "2021-11-24T11:04:28.892Z"
   },
   {
    "duration": 10,
    "start_time": "2021-11-24T11:04:29.180Z"
   },
   {
    "duration": 1062,
    "start_time": "2021-11-24T11:04:29.517Z"
   },
   {
    "duration": -60,
    "start_time": "2021-11-24T11:04:30.642Z"
   },
   {
    "duration": 228,
    "start_time": "2021-11-24T11:04:30.960Z"
   },
   {
    "duration": 235,
    "start_time": "2021-11-24T11:04:31.853Z"
   },
   {
    "duration": 313,
    "start_time": "2021-11-24T11:05:37.630Z"
   },
   {
    "duration": 1402,
    "start_time": "2021-11-24T11:05:46.764Z"
   },
   {
    "duration": 47,
    "start_time": "2021-11-24T11:05:48.169Z"
   },
   {
    "duration": 20,
    "start_time": "2021-11-24T11:05:48.218Z"
   },
   {
    "duration": 8,
    "start_time": "2021-11-24T11:05:48.241Z"
   },
   {
    "duration": 9,
    "start_time": "2021-11-24T11:05:48.305Z"
   },
   {
    "duration": 11,
    "start_time": "2021-11-24T11:05:48.547Z"
   },
   {
    "duration": 8,
    "start_time": "2021-11-24T11:05:48.783Z"
   },
   {
    "duration": 5,
    "start_time": "2021-11-24T11:05:49.270Z"
   },
   {
    "duration": 8,
    "start_time": "2021-11-24T11:05:49.635Z"
   },
   {
    "duration": 11,
    "start_time": "2021-11-24T11:05:49.938Z"
   },
   {
    "duration": 94,
    "start_time": "2021-11-24T11:05:50.239Z"
   },
   {
    "duration": 8,
    "start_time": "2021-11-24T11:05:53.411Z"
   },
   {
    "duration": 5,
    "start_time": "2021-11-24T11:05:54.567Z"
   },
   {
    "duration": 7,
    "start_time": "2021-11-24T11:05:55.968Z"
   },
   {
    "duration": 374,
    "start_time": "2021-11-24T11:05:57.257Z"
   },
   {
    "duration": 9,
    "start_time": "2021-11-24T11:06:12.036Z"
   },
   {
    "duration": 4,
    "start_time": "2021-11-24T11:06:47.154Z"
   },
   {
    "duration": 6,
    "start_time": "2021-11-24T11:11:29.196Z"
   },
   {
    "duration": 7183,
    "start_time": "2021-11-24T11:11:29.517Z"
   },
   {
    "duration": 5,
    "start_time": "2021-11-24T11:11:51.246Z"
   },
   {
    "duration": 11,
    "start_time": "2021-11-24T11:12:00.599Z"
   },
   {
    "duration": 18,
    "start_time": "2021-11-24T11:12:18.382Z"
   },
   {
    "duration": 14,
    "start_time": "2021-11-24T11:12:25.833Z"
   },
   {
    "duration": 5165,
    "start_time": "2021-11-24T11:12:42.799Z"
   },
   {
    "duration": 11,
    "start_time": "2021-11-24T11:12:54.126Z"
   },
   {
    "duration": 8,
    "start_time": "2021-11-24T11:13:08.652Z"
   },
   {
    "duration": 8,
    "start_time": "2021-11-24T11:13:21.159Z"
   },
   {
    "duration": 10,
    "start_time": "2021-11-24T11:13:26.681Z"
   },
   {
    "duration": 7,
    "start_time": "2021-11-24T11:14:23.624Z"
   },
   {
    "duration": 4676,
    "start_time": "2021-11-24T11:14:32.535Z"
   },
   {
    "duration": 8,
    "start_time": "2021-11-24T11:14:45.054Z"
   },
   {
    "duration": 8,
    "start_time": "2021-11-24T11:14:53.025Z"
   },
   {
    "duration": 271,
    "start_time": "2021-11-24T11:15:17.352Z"
   },
   {
    "duration": 6,
    "start_time": "2021-11-24T11:16:50.326Z"
   },
   {
    "duration": 12,
    "start_time": "2021-11-24T11:17:00.797Z"
   },
   {
    "duration": 17,
    "start_time": "2021-11-24T11:17:29.020Z"
   },
   {
    "duration": 14,
    "start_time": "2021-11-24T11:18:20.630Z"
   },
   {
    "duration": 94,
    "start_time": "2021-11-24T11:18:33.560Z"
   },
   {
    "duration": 17,
    "start_time": "2021-11-24T11:18:46.461Z"
   },
   {
    "duration": 19,
    "start_time": "2021-11-24T11:19:21.482Z"
   },
   {
    "duration": 77,
    "start_time": "2021-11-24T11:19:30.839Z"
   },
   {
    "duration": 17,
    "start_time": "2021-11-24T11:19:38.188Z"
   },
   {
    "duration": 20,
    "start_time": "2021-11-24T11:20:21.211Z"
   },
   {
    "duration": 7,
    "start_time": "2021-11-24T11:20:55.755Z"
   },
   {
    "duration": 244,
    "start_time": "2021-11-24T11:21:36.849Z"
   },
   {
    "duration": 7,
    "start_time": "2021-11-24T11:21:45.234Z"
   },
   {
    "duration": 7,
    "start_time": "2021-11-24T11:21:45.558Z"
   },
   {
    "duration": 10,
    "start_time": "2021-11-24T11:21:45.865Z"
   },
   {
    "duration": 5,
    "start_time": "2021-11-24T11:54:06.426Z"
   },
   {
    "duration": 248,
    "start_time": "2021-11-24T12:12:26.339Z"
   },
   {
    "duration": 291,
    "start_time": "2021-11-24T12:12:34.746Z"
   },
   {
    "duration": 5,
    "start_time": "2021-11-24T12:12:43.821Z"
   },
   {
    "duration": 5,
    "start_time": "2021-11-24T12:12:53.517Z"
   },
   {
    "duration": 6,
    "start_time": "2021-11-24T12:12:57.866Z"
   },
   {
    "duration": 1462,
    "start_time": "2021-11-24T12:14:36.622Z"
   },
   {
    "duration": 55,
    "start_time": "2021-11-24T12:14:38.087Z"
   },
   {
    "duration": 11,
    "start_time": "2021-11-24T12:14:38.145Z"
   },
   {
    "duration": 7,
    "start_time": "2021-11-24T12:14:38.159Z"
   },
   {
    "duration": 10,
    "start_time": "2021-11-24T12:14:38.169Z"
   },
   {
    "duration": 49,
    "start_time": "2021-11-24T12:14:38.181Z"
   },
   {
    "duration": 8,
    "start_time": "2021-11-24T12:14:38.233Z"
   },
   {
    "duration": 7,
    "start_time": "2021-11-24T12:14:38.244Z"
   },
   {
    "duration": 9,
    "start_time": "2021-11-24T12:14:38.253Z"
   },
   {
    "duration": 10,
    "start_time": "2021-11-24T12:14:38.265Z"
   },
   {
    "duration": 58,
    "start_time": "2021-11-24T12:14:38.277Z"
   },
   {
    "duration": 115,
    "start_time": "2021-11-24T12:14:38.339Z"
   },
   {
    "duration": 75,
    "start_time": "2021-11-24T12:14:38.456Z"
   },
   {
    "duration": 11,
    "start_time": "2021-11-24T12:14:38.533Z"
   },
   {
    "duration": 85,
    "start_time": "2021-11-24T12:14:38.547Z"
   },
   {
    "duration": 10,
    "start_time": "2021-11-24T12:14:38.635Z"
   },
   {
    "duration": 5,
    "start_time": "2021-11-24T12:14:39.478Z"
   },
   {
    "duration": 7,
    "start_time": "2021-11-24T12:14:39.945Z"
   },
   {
    "duration": 10,
    "start_time": "2021-11-24T12:14:40.276Z"
   },
   {
    "duration": 1154,
    "start_time": "2021-11-24T13:03:29.639Z"
   },
   {
    "duration": 36,
    "start_time": "2021-11-24T13:03:30.795Z"
   },
   {
    "duration": 9,
    "start_time": "2021-11-24T13:03:31.215Z"
   },
   {
    "duration": 9,
    "start_time": "2021-11-24T13:03:31.764Z"
   },
   {
    "duration": 10,
    "start_time": "2021-11-24T13:03:32.038Z"
   },
   {
    "duration": 7,
    "start_time": "2021-11-24T13:03:32.277Z"
   },
   {
    "duration": 11,
    "start_time": "2021-11-24T13:03:32.649Z"
   },
   {
    "duration": 4,
    "start_time": "2021-11-24T13:03:33.171Z"
   },
   {
    "duration": 14,
    "start_time": "2021-11-24T13:03:33.562Z"
   },
   {
    "duration": 8,
    "start_time": "2021-11-24T13:03:33.728Z"
   },
   {
    "duration": 17,
    "start_time": "2021-11-24T13:03:34.018Z"
   },
   {
    "duration": 4,
    "start_time": "2021-11-24T13:03:34.640Z"
   },
   {
    "duration": 7,
    "start_time": "2021-11-24T13:03:34.797Z"
   },
   {
    "duration": 4,
    "start_time": "2021-11-24T13:03:35.107Z"
   },
   {
    "duration": 7,
    "start_time": "2021-11-24T13:03:35.262Z"
   },
   {
    "duration": 7,
    "start_time": "2021-11-24T13:03:35.436Z"
   },
   {
    "duration": 8,
    "start_time": "2021-11-24T13:03:36.444Z"
   },
   {
    "duration": 6,
    "start_time": "2021-11-24T13:03:36.791Z"
   },
   {
    "duration": 8,
    "start_time": "2021-11-24T13:03:36.980Z"
   },
   {
    "duration": 931,
    "start_time": "2022-05-18T21:03:12.067Z"
   },
   {
    "duration": 241,
    "start_time": "2022-05-18T21:03:13.001Z"
   },
   {
    "duration": 12,
    "start_time": "2022-05-18T21:03:13.244Z"
   },
   {
    "duration": 40,
    "start_time": "2022-05-18T21:03:13.264Z"
   },
   {
    "duration": 8,
    "start_time": "2022-05-18T21:03:13.307Z"
   },
   {
    "duration": 8,
    "start_time": "2022-05-18T21:03:13.318Z"
   },
   {
    "duration": 14,
    "start_time": "2022-05-18T21:03:13.372Z"
   },
   {
    "duration": 6,
    "start_time": "2022-05-18T21:03:13.887Z"
   },
   {
    "duration": 8,
    "start_time": "2022-05-18T21:03:14.171Z"
   },
   {
    "duration": 15,
    "start_time": "2022-05-18T21:03:14.838Z"
   },
   {
    "duration": 18,
    "start_time": "2022-05-18T21:03:15.708Z"
   },
   {
    "duration": 140,
    "start_time": "2022-05-18T21:08:44.386Z"
   },
   {
    "duration": 8,
    "start_time": "2022-05-18T21:08:47.279Z"
   },
   {
    "duration": 26,
    "start_time": "2022-05-18T21:08:48.178Z"
   },
   {
    "duration": 6,
    "start_time": "2022-05-18T21:08:49.264Z"
   },
   {
    "duration": 7,
    "start_time": "2022-05-18T21:08:49.860Z"
   },
   {
    "duration": 14,
    "start_time": "2022-05-18T21:08:50.188Z"
   },
   {
    "duration": 9,
    "start_time": "2022-05-18T21:14:29.769Z"
   },
   {
    "duration": 10,
    "start_time": "2022-05-18T21:14:32.338Z"
   },
   {
    "duration": 20,
    "start_time": "2022-05-18T21:14:32.700Z"
   }
  ],
  "kernelspec": {
   "display_name": "Python 3 (ipykernel)",
   "language": "python",
   "name": "python3"
  },
  "language_info": {
   "codemirror_mode": {
    "name": "ipython",
    "version": 3
   },
   "file_extension": ".py",
   "mimetype": "text/x-python",
   "name": "python",
   "nbconvert_exporter": "python",
   "pygments_lexer": "ipython3",
   "version": "3.9.7"
  },
  "toc": {
   "base_numbering": 1,
   "nav_menu": {},
   "number_sections": true,
   "sideBar": true,
   "skip_h1_title": true,
   "title_cell": "Содержание",
   "title_sidebar": "Contents",
   "toc_cell": true,
   "toc_position": {},
   "toc_section_display": true,
   "toc_window_display": true
  }
 },
 "nbformat": 4,
 "nbformat_minor": 2
}
