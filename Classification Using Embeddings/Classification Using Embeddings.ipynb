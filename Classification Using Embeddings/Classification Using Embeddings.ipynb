{
 "cells": [
  {
   "cell_type": "markdown",
   "metadata": {
    "toc": true
   },
   "source": [
    "<h1>Содержание<span class=\"tocSkip\"></span></h1>\n",
    "<div class=\"toc\"><ul class=\"toc-item\"><li><span><a href=\"#План-работы:\" data-toc-modified-id=\"План-работы:-1\"><span class=\"toc-item-num\">1&nbsp;&nbsp;</span>План работы:</a></span></li><li><span><a href=\"#Загрузка-и-просмотр-данных\" data-toc-modified-id=\"Загрузка-и-просмотр-данных-2\"><span class=\"toc-item-num\">2&nbsp;&nbsp;</span>Загрузка и просмотр данных</a></span></li><li><span><a href=\"#Исследовательский-анализ-данных\" data-toc-modified-id=\"Исследовательский-анализ-данных-3\"><span class=\"toc-item-num\">3&nbsp;&nbsp;</span>Исследовательский анализ данных</a></span></li><li><span><a href=\"#Создание-эмбеддингов\" data-toc-modified-id=\"Создание-эмбеддингов-4\"><span class=\"toc-item-num\">4&nbsp;&nbsp;</span>Создание эмбеддингов</a></span><ul class=\"toc-item\"><li><span><a href=\"#RuBERT-tiny\" data-toc-modified-id=\"RuBERT-tiny-4.1\"><span class=\"toc-item-num\">4.1&nbsp;&nbsp;</span>RuBERT-tiny</a></span></li><li><span><a href=\"#RuBERT-in-DeepPavlov\" data-toc-modified-id=\"RuBERT-in-DeepPavlov-4.2\"><span class=\"toc-item-num\">4.2&nbsp;&nbsp;</span>RuBERT in DeepPavlov</a></span></li></ul></li><li><span><a href=\"#Разделение-на-выборки-и-признаки\" data-toc-modified-id=\"Разделение-на-выборки-и-признаки-5\"><span class=\"toc-item-num\">5&nbsp;&nbsp;</span>Разделение на выборки и признаки</a></span></li><li><span><a href=\"#Машинное-обучение\" data-toc-modified-id=\"Машинное-обучение-6\"><span class=\"toc-item-num\">6&nbsp;&nbsp;</span>Машинное обучение</a></span><ul class=\"toc-item\"><li><span><a href=\"#LogisticRegression\" data-toc-modified-id=\"LogisticRegression-6.1\"><span class=\"toc-item-num\">6.1&nbsp;&nbsp;</span>LogisticRegression</a></span><ul class=\"toc-item\"><li><span><a href=\"#Нахождение-оптимальных-гиперпараметров\" data-toc-modified-id=\"Нахождение-оптимальных-гиперпараметров-6.1.1\"><span class=\"toc-item-num\">6.1.1&nbsp;&nbsp;</span>Нахождение оптимальных гиперпараметров</a></span><ul class=\"toc-item\"><li><span><a href=\"#tiny\" data-toc-modified-id=\"tiny-6.1.1.1\"><span class=\"toc-item-num\">6.1.1.1&nbsp;&nbsp;</span>tiny</a></span></li><li><span><a href=\"#DP\" data-toc-modified-id=\"DP-6.1.1.2\"><span class=\"toc-item-num\">6.1.1.2&nbsp;&nbsp;</span>DP</a></span></li></ul></li><li><span><a href=\"#Обучение-модели-с-найденными-гиперпараметрами\" data-toc-modified-id=\"Обучение-модели-с-найденными-гиперпараметрами-6.1.2\"><span class=\"toc-item-num\">6.1.2&nbsp;&nbsp;</span>Обучение модели с найденными гиперпараметрами</a></span></li></ul></li><li><span><a href=\"#LGBMClassifier\" data-toc-modified-id=\"LGBMClassifier-6.2\"><span class=\"toc-item-num\">6.2&nbsp;&nbsp;</span>LGBMClassifier</a></span><ul class=\"toc-item\"><li><span><a href=\"#Нахождение-оптимальных-гиперпараметров\" data-toc-modified-id=\"Нахождение-оптимальных-гиперпараметров-6.2.1\"><span class=\"toc-item-num\">6.2.1&nbsp;&nbsp;</span>Нахождение оптимальных гиперпараметров</a></span><ul class=\"toc-item\"><li><span><a href=\"#tiny\" data-toc-modified-id=\"tiny-6.2.1.1\"><span class=\"toc-item-num\">6.2.1.1&nbsp;&nbsp;</span>tiny</a></span></li><li><span><a href=\"#DP\" data-toc-modified-id=\"DP-6.2.1.2\"><span class=\"toc-item-num\">6.2.1.2&nbsp;&nbsp;</span>DP</a></span></li></ul></li><li><span><a href=\"#Обучение-модели-с-найденными-гиперпараметрами\" data-toc-modified-id=\"Обучение-модели-с-найденными-гиперпараметрами-6.2.2\"><span class=\"toc-item-num\">6.2.2&nbsp;&nbsp;</span>Обучение модели с найденными гиперпараметрами</a></span></li></ul></li><li><span><a href=\"#RandomForestClassifier\" data-toc-modified-id=\"RandomForestClassifier-6.3\"><span class=\"toc-item-num\">6.3&nbsp;&nbsp;</span>RandomForestClassifier</a></span><ul class=\"toc-item\"><li><span><a href=\"#Нахождение-оптимальных-гиперпараметров\" data-toc-modified-id=\"Нахождение-оптимальных-гиперпараметров-6.3.1\"><span class=\"toc-item-num\">6.3.1&nbsp;&nbsp;</span>Нахождение оптимальных гиперпараметров</a></span><ul class=\"toc-item\"><li><span><a href=\"#tiny\" data-toc-modified-id=\"tiny-6.3.1.1\"><span class=\"toc-item-num\">6.3.1.1&nbsp;&nbsp;</span>tiny</a></span></li><li><span><a href=\"#DP\" data-toc-modified-id=\"DP-6.3.1.2\"><span class=\"toc-item-num\">6.3.1.2&nbsp;&nbsp;</span>DP</a></span></li></ul></li><li><span><a href=\"#Обучение-модели-с-найденными-гиперпараметрами\" data-toc-modified-id=\"Обучение-модели-с-найденными-гиперпараметрами-6.3.2\"><span class=\"toc-item-num\">6.3.2&nbsp;&nbsp;</span>Обучение модели с найденными гиперпараметрами</a></span></li></ul></li><li><span><a href=\"#CatBoostClassifier\" data-toc-modified-id=\"CatBoostClassifier-6.4\"><span class=\"toc-item-num\">6.4&nbsp;&nbsp;</span>CatBoostClassifier</a></span><ul class=\"toc-item\"><li><span><a href=\"#Нахождение-оптимальных-гиперпараметров\" data-toc-modified-id=\"Нахождение-оптимальных-гиперпараметров-6.4.1\"><span class=\"toc-item-num\">6.4.1&nbsp;&nbsp;</span>Нахождение оптимальных гиперпараметров</a></span><ul class=\"toc-item\"><li><span><a href=\"#tiny\" data-toc-modified-id=\"tiny-6.4.1.1\"><span class=\"toc-item-num\">6.4.1.1&nbsp;&nbsp;</span>tiny</a></span></li><li><span><a href=\"#DP\" data-toc-modified-id=\"DP-6.4.1.2\"><span class=\"toc-item-num\">6.4.1.2&nbsp;&nbsp;</span>DP</a></span></li></ul></li><li><span><a href=\"#Обучение-модели-с-найденными-гиперпараметрами\" data-toc-modified-id=\"Обучение-модели-с-найденными-гиперпараметрами-6.4.2\"><span class=\"toc-item-num\">6.4.2&nbsp;&nbsp;</span>Обучение модели с найденными гиперпараметрами</a></span></li></ul></li></ul></li><li><span><a href=\"#Анализ-моделей\" data-toc-modified-id=\"Анализ-моделей-7\"><span class=\"toc-item-num\">7&nbsp;&nbsp;</span>Анализ моделей</a></span></li><li><span><a href=\"#Вывод\" data-toc-modified-id=\"Вывод-8\"><span class=\"toc-item-num\">8&nbsp;&nbsp;</span>Вывод</a></span></li></ul></div>"
   ]
  },
  {
   "cell_type": "markdown",
   "metadata": {
    "deletable": false,
    "editable": false,
    "tags": [
     "045a5103-bb0f-4fb7-835a-238e053b2157"
    ]
   },
   "source": [
    "# Классификация на эмбеддингах"
   ]
  },
  {
   "cell_type": "markdown",
   "metadata": {},
   "source": [
    "Исследование заключается в классификации текстов с помощью создания признаков - эмбеддингов. \n",
    "\n",
    "Цель исследования: \n",
    "\n",
    "1. Сравнить две \"усеченные\" модели RuBERT (rubert-tiny и rubert от DeepPavlov), с помощью которых исходные тексты токенизируются и создаются эмбеддинги. Сравнить скорость их работы.\n",
    "\n",
    "2. Сравнить качество предсказания на эмбеддингах нескольких простых моделей классификации. Выбрать лучший скорр accuracy.\n",
    "\n",
    "Для анализа нам предоставлен корпус текстов твитов с размеченной тональностью.\n"
   ]
  },
  {
   "cell_type": "markdown",
   "metadata": {},
   "source": [
    "## План работы:"
   ]
  },
  {
   "cell_type": "markdown",
   "metadata": {},
   "source": [
    "- Для анализа возьмем 1000 твитов.\n",
    "\n",
    "- Создадим токкены текстов, а на их основе эмбеддинги, двумя разными моделями RuBERT.\n",
    "\n",
    "- Разделим данные на обучающую и тестовую выборки.\n",
    "\n",
    "- Протестируем четыре модели для классификации.\n",
    "\n",
    "- С помощью GridSearchCV найдем оптимальныне гиперпараметры для наших моделей.\n",
    "\n",
    "- Найдем accuracy на тестовых данных для каждой модели.\n",
    "\n",
    "- Создадим датайфрейм с параметрами времени и качества скорра для всех исследуемых моделей и двух способов получения эмбеддингов.\n",
    "\n",
    "- Сделаем вывод о скорости и качестве работы методов и моделей.\n",
    "\n"
   ]
  },
  {
   "cell_type": "markdown",
   "metadata": {},
   "source": [
    "## Загрузка и просмотр данных"
   ]
  },
  {
   "cell_type": "code",
   "execution_count": 1,
   "metadata": {},
   "outputs": [],
   "source": [
    "import numpy as np\n",
    "import pandas as pd\n",
    "import torch\n",
    "import transformers\n",
    "from tqdm import notebook\n",
    "from sklearn.model_selection import train_test_split\n",
    "from sklearn.metrics import accuracy_score\n",
    "from transformers import AutoTokenizer, AutoModel\n",
    "import matplotlib.pyplot as plt\n",
    "import seaborn as sns\n",
    "import time\n",
    "from sklearn.model_selection import GridSearchCV\n",
    "from sklearn.linear_model import LogisticRegression\n",
    "import lightgbm as lgb\n",
    "from sklearn.ensemble import RandomForestClassifier\n",
    "from catboost import CatBoostClassifier\n",
    "pd.options.mode.chained_assignment = None\n",
    "import warnings\n",
    "warnings.filterwarnings(\"ignore\")"
   ]
  },
  {
   "cell_type": "code",
   "execution_count": 2,
   "metadata": {},
   "outputs": [],
   "source": [
    "df_tweets = pd.read_csv('/datasets/tweets.csv')\n",
    "\n",
    "df_tweets = df_tweets.sample(1000).reset_index(drop=True)"
   ]
  },
  {
   "cell_type": "code",
   "execution_count": 3,
   "metadata": {},
   "outputs": [
    {
     "data": {
      "text/html": [
       "<div>\n",
       "<style scoped>\n",
       "    .dataframe tbody tr th:only-of-type {\n",
       "        vertical-align: middle;\n",
       "    }\n",
       "\n",
       "    .dataframe tbody tr th {\n",
       "        vertical-align: top;\n",
       "    }\n",
       "\n",
       "    .dataframe thead th {\n",
       "        text-align: right;\n",
       "    }\n",
       "</style>\n",
       "<table border=\"1\" class=\"dataframe\">\n",
       "  <thead>\n",
       "    <tr style=\"text-align: right;\">\n",
       "      <th></th>\n",
       "      <th>text</th>\n",
       "      <th>positive</th>\n",
       "    </tr>\n",
       "  </thead>\n",
       "  <tbody>\n",
       "    <tr>\n",
       "      <th>0</th>\n",
       "      <td>-Ахахахах\\n- Ты чо?\\n-Ахахахах\\n-Да успкойся!\\...</td>\n",
       "      <td>1</td>\n",
       "    </tr>\n",
       "    <tr>\n",
       "      <th>1</th>\n",
       "      <td>Папа: -хорошо тебе, завтра в школу идти, а вот...</td>\n",
       "      <td>0</td>\n",
       "    </tr>\n",
       "    <tr>\n",
       "      <th>2</th>\n",
       "      <td>@Madisha13 а певец то? Замечательный певец! А ...</td>\n",
       "      <td>1</td>\n",
       "    </tr>\n",
       "    <tr>\n",
       "      <th>3</th>\n",
       "      <td>@StupidMoaner келлюша после водки синюша(((\\nБ...</td>\n",
       "      <td>0</td>\n",
       "    </tr>\n",
       "    <tr>\n",
       "      <th>4</th>\n",
       "      <td>Посмотрел на imdb top 250. Сколько еще всего н...</td>\n",
       "      <td>0</td>\n",
       "    </tr>\n",
       "    <tr>\n",
       "      <th>...</th>\n",
       "      <td>...</td>\n",
       "      <td>...</td>\n",
       "    </tr>\n",
       "    <tr>\n",
       "      <th>995</th>\n",
       "      <td>вот этого я и боялась. начала кое что делать, ...</td>\n",
       "      <td>0</td>\n",
       "    </tr>\n",
       "    <tr>\n",
       "      <th>996</th>\n",
       "      <td>@CMNPBAPD спасибо:3 Сори, что твой комментарий...</td>\n",
       "      <td>1</td>\n",
       "    </tr>\n",
       "    <tr>\n",
       "      <th>997</th>\n",
       "      <td>@xxxoh_oppa было бы крайне хорошо, а то будет ...</td>\n",
       "      <td>0</td>\n",
       "    </tr>\n",
       "    <tr>\n",
       "      <th>998</th>\n",
       "      <td>RT @Russian_Hazza: Гарри ужасно себя чувствует...</td>\n",
       "      <td>0</td>\n",
       "    </tr>\n",
       "    <tr>\n",
       "      <th>999</th>\n",
       "      <td>пришла стала на кухне шуметь а еще она 4 раз о...</td>\n",
       "      <td>0</td>\n",
       "    </tr>\n",
       "  </tbody>\n",
       "</table>\n",
       "<p>1000 rows × 2 columns</p>\n",
       "</div>"
      ],
      "text/plain": [
       "                                                  text  positive\n",
       "0    -Ахахахах\\n- Ты чо?\\n-Ахахахах\\n-Да успкойся!\\...         1\n",
       "1    Папа: -хорошо тебе, завтра в школу идти, а вот...         0\n",
       "2    @Madisha13 а певец то? Замечательный певец! А ...         1\n",
       "3    @StupidMoaner келлюша после водки синюша(((\\nБ...         0\n",
       "4    Посмотрел на imdb top 250. Сколько еще всего н...         0\n",
       "..                                                 ...       ...\n",
       "995  вот этого я и боялась. начала кое что делать, ...         0\n",
       "996  @CMNPBAPD спасибо:3 Сори, что твой комментарий...         1\n",
       "997  @xxxoh_oppa было бы крайне хорошо, а то будет ...         0\n",
       "998  RT @Russian_Hazza: Гарри ужасно себя чувствует...         0\n",
       "999  пришла стала на кухне шуметь а еще она 4 раз о...         0\n",
       "\n",
       "[1000 rows x 2 columns]"
      ]
     },
     "metadata": {},
     "output_type": "display_data"
    }
   ],
   "source": [
    "display(df_tweets)"
   ]
  },
  {
   "cell_type": "code",
   "execution_count": 4,
   "metadata": {},
   "outputs": [
    {
     "data": {
      "text/plain": [
       "text        0\n",
       "positive    0\n",
       "dtype: int64"
      ]
     },
     "execution_count": 4,
     "metadata": {},
     "output_type": "execute_result"
    }
   ],
   "source": [
    "df_tweets.isna().sum()"
   ]
  },
  {
   "cell_type": "code",
   "execution_count": 5,
   "metadata": {},
   "outputs": [
    {
     "data": {
      "text/plain": [
       "2"
      ]
     },
     "execution_count": 5,
     "metadata": {},
     "output_type": "execute_result"
    }
   ],
   "source": [
    "df_tweets.duplicated().sum()"
   ]
  },
  {
   "cell_type": "markdown",
   "metadata": {},
   "source": [
    "## Исследовательский анализ данных"
   ]
  },
  {
   "cell_type": "code",
   "execution_count": 6,
   "metadata": {},
   "outputs": [
    {
     "data": {
      "image/png": "[encoded data removed]",
      "text/plain": [
       "<Figure size 432x288 with 1 Axes>"
      ]
     },
     "metadata": {
      "needs_background": "light"
     },
     "output_type": "display_data"
    }
   ],
   "source": [
    "sns.countplot(x = 'positive', data = df_tweets)\n",
    "plt.title('Соотношение позитивных и негативных твитов')\n",
    "plt.show()"
   ]
  },
  {
   "cell_type": "code",
   "execution_count": 7,
   "metadata": {},
   "outputs": [
    {
     "data": {
      "image/png": "[encoded data removed]",
      "text/plain": [
       "<Figure size 1152x360 with 1 Axes>"
      ]
     },
     "metadata": {
      "needs_background": "light"
     },
     "output_type": "display_data"
    }
   ],
   "source": [
    "positive_1 = df_tweets[df_tweets['positive'] == 1]['text'].apply(lambda x: len(x) - len(' '))\n",
    "positive_0 = df_tweets[df_tweets['positive'] == 0]['text'].apply(lambda x: len(x) - len(' '))\n",
    "bins_ = np.linspace(35, 100, 50)\n",
    "plt.figure(figsize=(16,5))\n",
    "plt.hist(positive_1, bins= bins_, alpha = 0.8, label = 'Positive comments')\n",
    "plt.hist(positive_0, bins= bins_, alpha = 0.1, label = 'Non-positive comments')\n",
    "plt.legend()\n",
    "plt.title('Распределение длин позитивных и негативных твитов')\n",
    "plt.show()"
   ]
  },
  {
   "cell_type": "code",
   "execution_count": 8,
   "metadata": {},
   "outputs": [],
   "source": [
    "time_tokenized = []\n",
    "time_embeddings = []\n",
    "time_fit_LR = []\n",
    "time_predict_LR = []\n",
    "accuracy_LR = []\n",
    "time_fit_LGB = []\n",
    "time_predict_LGB = []\n",
    "accuracy_LGB = []\n",
    "time_fit_RF = []\n",
    "time_predict_RF = []\n",
    "accuracy_RF = []\n",
    "time_fit_CB = []\n",
    "time_predict_CB = []\n",
    "accuracy_CB = []"
   ]
  },
  {
   "cell_type": "markdown",
   "metadata": {},
   "source": [
    "## Создание эмбеддингов "
   ]
  },
  {
   "cell_type": "markdown",
   "metadata": {},
   "source": [
    "### RuBERT-tiny"
   ]
  },
  {
   "cell_type": "code",
   "execution_count": 9,
   "metadata": {},
   "outputs": [
    {
     "data": {
      "application/vnd.jupyter.widget-view+json": {
       "model_id": "28735f2f18434bd788892f4a53e5900f",
       "version_major": 2,
       "version_minor": 0
      },
      "text/plain": [
       "Downloading:   0%|          | 0.00/341 [00:00<?, ?B/s]"
      ]
     },
     "metadata": {},
     "output_type": "display_data"
    },
    {
     "data": {
      "application/vnd.jupyter.widget-view+json": {
       "model_id": "ff35b7f34e284bb58e9f5e8b90e4bb26",
       "version_major": 2,
       "version_minor": 0
      },
      "text/plain": [
       "Downloading:   0%|          | 0.00/632 [00:00<?, ?B/s]"
      ]
     },
     "metadata": {},
     "output_type": "display_data"
    },
    {
     "data": {
      "application/vnd.jupyter.widget-view+json": {
       "model_id": "af73030dd39d40aa9f7cb50611a186d0",
       "version_major": 2,
       "version_minor": 0
      },
      "text/plain": [
       "Downloading:   0%|          | 0.00/235k [00:00<?, ?B/s]"
      ]
     },
     "metadata": {},
     "output_type": "display_data"
    },
    {
     "data": {
      "application/vnd.jupyter.widget-view+json": {
       "model_id": "166ffa2292a34733a1187be033dc7096",
       "version_major": 2,
       "version_minor": 0
      },
      "text/plain": [
       "Downloading:   0%|          | 0.00/457k [00:00<?, ?B/s]"
      ]
     },
     "metadata": {},
     "output_type": "display_data"
    },
    {
     "data": {
      "application/vnd.jupyter.widget-view+json": {
       "model_id": "17f1fc24af6c446ebff8d78072a5a31b",
       "version_major": 2,
       "version_minor": 0
      },
      "text/plain": [
       "Downloading:   0%|          | 0.00/112 [00:00<?, ?B/s]"
      ]
     },
     "metadata": {},
     "output_type": "display_data"
    }
   ],
   "source": [
    "tokenizer = AutoTokenizer.from_pretrained(\"cointegrated/rubert-tiny\")"
   ]
  },
  {
   "cell_type": "code",
   "execution_count": 10,
   "metadata": {},
   "outputs": [],
   "source": [
    "start_time = time.time()\n",
    "\n",
    "tokenized = df_tweets['text'].apply(\n",
    "    lambda x: tokenizer.encode(x, add_special_tokens=True))\n",
    "\n",
    "time_tokenized.append((time.time() - start_time))"
   ]
  },
  {
   "cell_type": "code",
   "execution_count": 11,
   "metadata": {},
   "outputs": [],
   "source": [
    "max_len = 0\n",
    "for i in tokenized.values:\n",
    "    if len(i) > max_len:\n",
    "        max_len = len(i)"
   ]
  },
  {
   "cell_type": "code",
   "execution_count": 12,
   "metadata": {},
   "outputs": [],
   "source": [
    "padded = np.array([i + [0]*(max_len - len(i)) for i in tokenized.values])\n"
   ]
  },
  {
   "cell_type": "code",
   "execution_count": 13,
   "metadata": {},
   "outputs": [],
   "source": [
    "attention_mask = np.where(padded != 0, 1, 0)"
   ]
  },
  {
   "cell_type": "code",
   "execution_count": 14,
   "metadata": {},
   "outputs": [
    {
     "data": {
      "application/vnd.jupyter.widget-view+json": {
       "model_id": "4ea22a0506d84f8498d1fc5148838ed3",
       "version_major": 2,
       "version_minor": 0
      },
      "text/plain": [
       "Downloading:   0%|          | 0.00/45.5M [00:00<?, ?B/s]"
      ]
     },
     "metadata": {},
     "output_type": "display_data"
    },
    {
     "name": "stderr",
     "output_type": "stream",
     "text": [
      "Some weights of the model checkpoint at cointegrated/rubert-tiny were not used when initializing BertModel: ['cls.predictions.transform.dense.bias', 'cls.predictions.decoder.bias', 'cls.predictions.decoder.weight', 'cls.seq_relationship.bias', 'cls.seq_relationship.weight', 'cls.predictions.transform.dense.weight', 'cls.predictions.transform.LayerNorm.weight', 'cls.predictions.transform.LayerNorm.bias', 'cls.predictions.bias']\n",
      "- This IS expected if you are initializing BertModel from the checkpoint of a model trained on another task or with another architecture (e.g. initializing a BertForSequenceClassification model from a BertForPreTraining model).\n",
      "- This IS NOT expected if you are initializing BertModel from the checkpoint of a model that you expect to be exactly identical (initializing a BertForSequenceClassification model from a BertForSequenceClassification model).\n"
     ]
    }
   ],
   "source": [
    "model = AutoModel.from_pretrained(\"cointegrated/rubert-tiny\")"
   ]
  },
  {
   "cell_type": "code",
   "execution_count": 15,
   "metadata": {},
   "outputs": [
    {
     "data": {
      "application/vnd.jupyter.widget-view+json": {
       "model_id": "610388fc1a9e4bc3a9185ef9b041f2a9",
       "version_major": 2,
       "version_minor": 0
      },
      "text/plain": [
       "  0%|          | 0/10 [00:00<?, ?it/s]"
      ]
     },
     "metadata": {},
     "output_type": "display_data"
    }
   ],
   "source": [
    "start_time = time.time()\n",
    "\n",
    "batch_size = 100\n",
    "embeddings = []\n",
    "for i in notebook.tqdm(range(padded.shape[0] // batch_size)):\n",
    "        batch = torch.LongTensor(padded[batch_size*i:batch_size*(i+1)]) \n",
    "        attention_mask_batch = torch.LongTensor(attention_mask[batch_size*i:batch_size*(i+1)])\n",
    "        \n",
    "        with torch.no_grad():\n",
    "            batch_embeddings = model(batch, attention_mask=attention_mask_batch)\n",
    "        \n",
    "        embeddings.append(batch_embeddings[0][:,0,:].numpy())\n",
    "        \n",
    "time_embeddings.append((time.time() - start_time))      "
   ]
  },
  {
   "cell_type": "code",
   "execution_count": 16,
   "metadata": {
    "scrolled": true
   },
   "outputs": [],
   "source": [
    "emb_tiny = np.concatenate(embeddings)"
   ]
  },
  {
   "cell_type": "markdown",
   "metadata": {},
   "source": [
    "### RuBERT in DeepPavlov"
   ]
  },
  {
   "cell_type": "code",
   "execution_count": 17,
   "metadata": {},
   "outputs": [],
   "source": [
    "tokenizer = transformers.BertTokenizer(\n",
    "    vocab_file='/datasets/ds_bert/vocab.txt')"
   ]
  },
  {
   "cell_type": "code",
   "execution_count": 18,
   "metadata": {},
   "outputs": [],
   "source": [
    "start_time = time.time()\n",
    "\n",
    "tokenized = df_tweets['text'].apply(\n",
    "    lambda x: tokenizer.encode(x, add_special_tokens=True))\n",
    "\n",
    "time_tokenized.append((time.time() - start_time))"
   ]
  },
  {
   "cell_type": "code",
   "execution_count": 19,
   "metadata": {},
   "outputs": [],
   "source": [
    "padded = np.array([i + [0]*(max_len - len(i)) for i in tokenized.values])\n"
   ]
  },
  {
   "cell_type": "code",
   "execution_count": 20,
   "metadata": {},
   "outputs": [],
   "source": [
    "attention_mask = np.where(padded != 0, 1, 0)"
   ]
  },
  {
   "cell_type": "code",
   "execution_count": 21,
   "metadata": {},
   "outputs": [
    {
     "name": "stderr",
     "output_type": "stream",
     "text": [
      "Some weights of the model checkpoint at /datasets/ds_bert/rubert_model.bin were not used when initializing BertModel: ['cls.predictions.transform.dense.bias', 'cls.predictions.decoder.bias', 'cls.predictions.decoder.weight', 'cls.seq_relationship.bias', 'cls.seq_relationship.weight', 'cls.predictions.transform.dense.weight', 'cls.predictions.transform.LayerNorm.weight', 'cls.predictions.transform.LayerNorm.bias', 'cls.predictions.bias']\n",
      "- This IS expected if you are initializing BertModel from the checkpoint of a model trained on another task or with another architecture (e.g. initializing a BertForSequenceClassification model from a BertForPreTraining model).\n",
      "- This IS NOT expected if you are initializing BertModel from the checkpoint of a model that you expect to be exactly identical (initializing a BertForSequenceClassification model from a BertForSequenceClassification model).\n"
     ]
    }
   ],
   "source": [
    "config = transformers.BertConfig.from_json_file(\n",
    "    '/datasets/ds_bert/bert_config.json')\n",
    "model = transformers.BertModel.from_pretrained(\n",
    "    '/datasets/ds_bert/rubert_model.bin', config=config)"
   ]
  },
  {
   "cell_type": "code",
   "execution_count": 22,
   "metadata": {},
   "outputs": [
    {
     "data": {
      "application/vnd.jupyter.widget-view+json": {
       "model_id": "304327474dcd4ecaad74829f8ed9daaa",
       "version_major": 2,
       "version_minor": 0
      },
      "text/plain": [
       "  0%|          | 0/10 [00:00<?, ?it/s]"
      ]
     },
     "metadata": {},
     "output_type": "display_data"
    }
   ],
   "source": [
    "start_time = time.time()\n",
    "\n",
    "batch_size = 100\n",
    "embeddings = []\n",
    "for i in notebook.tqdm(range(padded.shape[0] // batch_size)):\n",
    "        batch = torch.LongTensor(padded[batch_size*i:batch_size*(i+1)]) \n",
    "        attention_mask_batch = torch.LongTensor(attention_mask[batch_size*i:batch_size*(i+1)])\n",
    "        \n",
    "        with torch.no_grad():\n",
    "            batch_embeddings = model(batch, attention_mask=attention_mask_batch)\n",
    "        \n",
    "        embeddings.append(batch_embeddings[0][:,0,:].numpy())\n",
    "        \n",
    "time_embeddings.append((time.time() - start_time)) "
   ]
  },
  {
   "cell_type": "code",
   "execution_count": 23,
   "metadata": {},
   "outputs": [],
   "source": [
    "emb_DP = np.concatenate(embeddings)"
   ]
  },
  {
   "cell_type": "markdown",
   "metadata": {},
   "source": [
    "## Разделение на выборки и признаки"
   ]
  },
  {
   "cell_type": "code",
   "execution_count": 24,
   "metadata": {},
   "outputs": [],
   "source": [
    "target = df_tweets['positive']\n",
    "features_tiny = emb_tiny\n",
    "features_DP = emb_DP"
   ]
  },
  {
   "cell_type": "code",
   "execution_count": 25,
   "metadata": {},
   "outputs": [],
   "source": [
    "features_tiny_train, features_tiny_test, target_train, target_test = train_test_split(\n",
    "    features_tiny, target, test_size=0.3, random_state=12345)"
   ]
  },
  {
   "cell_type": "code",
   "execution_count": 26,
   "metadata": {},
   "outputs": [],
   "source": [
    "features_DP_train, features_DP_test, target_train, target_test = train_test_split(\n",
    "    features_DP, target, test_size=0.3, random_state=12345)"
   ]
  },
  {
   "cell_type": "markdown",
   "metadata": {},
   "source": [
    "## Машинное обучение "
   ]
  },
  {
   "cell_type": "markdown",
   "metadata": {},
   "source": [
    "### LogisticRegression"
   ]
  },
  {
   "cell_type": "markdown",
   "metadata": {},
   "source": [
    "#### Нахождение оптимальных гиперпараметров"
   ]
  },
  {
   "cell_type": "code",
   "execution_count": 27,
   "metadata": {},
   "outputs": [],
   "source": [
    "LR = LogisticRegression(random_state=12345)"
   ]
  },
  {
   "cell_type": "code",
   "execution_count": 28,
   "metadata": {},
   "outputs": [],
   "source": [
    "parameters = {\n",
    "        'class_weight':['balanced', None],\n",
    "        'C': range(1, 8, 1)\n",
    "        }"
   ]
  },
  {
   "cell_type": "code",
   "execution_count": 29,
   "metadata": {},
   "outputs": [],
   "source": [
    "grid = GridSearchCV(LR, param_grid=parameters, scoring='accuracy', \n",
    "                   cv=5, verbose=False)"
   ]
  },
  {
   "cell_type": "markdown",
   "metadata": {},
   "source": [
    "##### tiny"
   ]
  },
  {
   "cell_type": "code",
   "execution_count": 30,
   "metadata": {},
   "outputs": [
    {
     "data": {
      "text/plain": [
       "GridSearchCV(cv=5, estimator=LogisticRegression(random_state=12345),\n",
       "             param_grid={'C': range(1, 8), 'class_weight': ['balanced', None]},\n",
       "             scoring='accuracy', verbose=False)"
      ]
     },
     "execution_count": 30,
     "metadata": {},
     "output_type": "execute_result"
    }
   ],
   "source": [
    "grid.fit(features_tiny, target)"
   ]
  },
  {
   "cell_type": "code",
   "execution_count": 31,
   "metadata": {},
   "outputs": [
    {
     "name": "stdout",
     "output_type": "stream",
     "text": [
      "{'C': 1, 'class_weight': 'balanced'}\n"
     ]
    }
   ],
   "source": [
    "best_tiny = grid.best_params_\n",
    "print(best_tiny)"
   ]
  },
  {
   "cell_type": "markdown",
   "metadata": {},
   "source": [
    "##### DP"
   ]
  },
  {
   "cell_type": "code",
   "execution_count": 32,
   "metadata": {},
   "outputs": [
    {
     "data": {
      "text/plain": [
       "GridSearchCV(cv=5, estimator=LogisticRegression(random_state=12345),\n",
       "             param_grid={'C': range(1, 8), 'class_weight': ['balanced', None]},\n",
       "             scoring='accuracy', verbose=False)"
      ]
     },
     "execution_count": 32,
     "metadata": {},
     "output_type": "execute_result"
    }
   ],
   "source": [
    "grid.fit(features_DP, target)"
   ]
  },
  {
   "cell_type": "code",
   "execution_count": 33,
   "metadata": {},
   "outputs": [
    {
     "name": "stdout",
     "output_type": "stream",
     "text": [
      "{'C': 1, 'class_weight': 'balanced'}\n"
     ]
    }
   ],
   "source": [
    "best_DP = grid.best_params_\n",
    "print(best_DP)"
   ]
  },
  {
   "cell_type": "markdown",
   "metadata": {},
   "source": [
    "#### Обучение модели с найденными гиперпараметрами"
   ]
  },
  {
   "cell_type": "code",
   "execution_count": 34,
   "metadata": {},
   "outputs": [],
   "source": [
    "model_tiny_LR = LogisticRegression(C=best_tiny['C'], random_state=12345, class_weight=best_tiny['class_weight'])\n",
    "\n",
    "model_DP_LR = LogisticRegression(C=best_DP['C'], random_state=12345, class_weight=best_DP['class_weight'])\n"
   ]
  },
  {
   "cell_type": "code",
   "execution_count": 35,
   "metadata": {},
   "outputs": [],
   "source": [
    "start_time = time.time()\n",
    "\n",
    "model_tiny_LR.fit(features_tiny_train, target_train)\n",
    "\n",
    "time_fit_LR.append((time.time() - start_time)) "
   ]
  },
  {
   "cell_type": "code",
   "execution_count": 36,
   "metadata": {},
   "outputs": [],
   "source": [
    "start_time = time.time()\n",
    "\n",
    "model_DP_LR.fit(features_DP_train, target_train)\n",
    "\n",
    "time_fit_LR.append((time.time() - start_time))"
   ]
  },
  {
   "cell_type": "code",
   "execution_count": 37,
   "metadata": {},
   "outputs": [],
   "source": [
    "start_time = time.time()\n",
    "\n",
    "predicted = model_tiny_LR.predict(features_tiny_test)\n",
    "\n",
    "time_predict_LR.append((time.time() - start_time)) "
   ]
  },
  {
   "cell_type": "code",
   "execution_count": 38,
   "metadata": {},
   "outputs": [
    {
     "name": "stdout",
     "output_type": "stream",
     "text": [
      "accuracy: 0.9666666666666667\n"
     ]
    }
   ],
   "source": [
    "print(\"accuracy:\", accuracy_score(target_test, predicted))\n",
    "\n",
    "accuracy_LR.append(accuracy_score(target_test, predicted))"
   ]
  },
  {
   "cell_type": "code",
   "execution_count": 39,
   "metadata": {},
   "outputs": [],
   "source": [
    "start_time = time.time()\n",
    "\n",
    "predicted = model_DP_LR.predict(features_DP_test)\n",
    "\n",
    "time_predict_LR.append((time.time() - start_time))"
   ]
  },
  {
   "cell_type": "code",
   "execution_count": 40,
   "metadata": {},
   "outputs": [
    {
     "name": "stdout",
     "output_type": "stream",
     "text": [
      "accuracy: 0.9566666666666667\n"
     ]
    }
   ],
   "source": [
    "print(\"accuracy:\", accuracy_score(target_test, predicted))\n",
    "\n",
    "accuracy_LR.append(accuracy_score(target_test, predicted))"
   ]
  },
  {
   "cell_type": "markdown",
   "metadata": {},
   "source": [
    "### LGBMClassifier"
   ]
  },
  {
   "cell_type": "markdown",
   "metadata": {},
   "source": [
    "#### Нахождение оптимальных гиперпараметров"
   ]
  },
  {
   "cell_type": "code",
   "execution_count": 41,
   "metadata": {},
   "outputs": [],
   "source": [
    "LGB = lgb.LGBMClassifier(\n",
    "                          random_state=12345,\n",
    "                          boosting_type='gbdt', \n",
    "                          objective='binary', \n",
    "                          num_iterations=500\n",
    "                         )"
   ]
  },
  {
   "cell_type": "code",
   "execution_count": 42,
   "metadata": {},
   "outputs": [],
   "source": [
    "parameters = {\n",
    "        'learning_rate':[0.02,0.05],\n",
    "        'num_leaves':[50,75],\n",
    "        'feature_fraction':[0.64,0.8],\n",
    "        'bagging_fraction':[0.8,0.9],\n",
    "        'bagging_freq':[1,2]\n",
    "        }"
   ]
  },
  {
   "cell_type": "code",
   "execution_count": 43,
   "metadata": {},
   "outputs": [],
   "source": [
    "grid = GridSearchCV(LGB, param_grid=parameters, scoring='accuracy', \n",
    "                   cv=5, verbose=False)"
   ]
  },
  {
   "cell_type": "markdown",
   "metadata": {},
   "source": [
    "##### tiny"
   ]
  },
  {
   "cell_type": "code",
   "execution_count": 44,
   "metadata": {},
   "outputs": [
    {
     "name": "stdout",
     "output_type": "stream",
     "text": [
      "[LightGBM] [Warning] bagging_fraction is set=0.8, subsample=1.0 will be ignored. Current value: bagging_fraction=0.8\n",
      "[LightGBM] [Warning] feature_fraction is set=0.64, colsample_bytree=1.0 will be ignored. Current value: feature_fraction=0.64\n",
      "[LightGBM] [Warning] bagging_freq is set=1, subsample_freq=0 will be ignored. Current value: bagging_freq=1\n",
      "[LightGBM] [Warning] bagging_fraction is set=0.8, subsample=1.0 will be ignored. Current value: bagging_fraction=0.8\n",
      "[LightGBM] [Warning] feature_fraction is set=0.64, colsample_bytree=1.0 will be ignored. Current value: feature_fraction=0.64\n",
      "[LightGBM] [Warning] bagging_freq is set=1, subsample_freq=0 will be ignored. Current value: bagging_freq=1\n",
      "[LightGBM] [Warning] bagging_fraction is set=0.8, subsample=1.0 will be ignored. Current value: bagging_fraction=0.8\n",
      "[LightGBM] [Warning] feature_fraction is set=0.64, colsample_bytree=1.0 will be ignored. Current value: feature_fraction=0.64\n",
      "[LightGBM] [Warning] bagging_freq is set=1, subsample_freq=0 will be ignored. Current value: bagging_freq=1\n",
      "[LightGBM] [Warning] bagging_fraction is set=0.8, subsample=1.0 will be ignored. Current value: bagging_fraction=0.8\n",
      "[LightGBM] [Warning] feature_fraction is set=0.64, colsample_bytree=1.0 will be ignored. Current value: feature_fraction=0.64\n",
      "[LightGBM] [Warning] bagging_freq is set=1, subsample_freq=0 will be ignored. Current value: bagging_freq=1\n",
      "[LightGBM] [Warning] bagging_fraction is set=0.8, subsample=1.0 will be ignored. Current value: bagging_fraction=0.8\n",
      "[LightGBM] [Warning] feature_fraction is set=0.64, colsample_bytree=1.0 will be ignored. Current value: feature_fraction=0.64\n",
      "[LightGBM] [Warning] bagging_freq is set=1, subsample_freq=0 will be ignored. Current value: bagging_freq=1\n",
      "[LightGBM] [Warning] bagging_fraction is set=0.8, subsample=1.0 will be ignored. Current value: bagging_fraction=0.8\n",
      "[LightGBM] [Warning] feature_fraction is set=0.64, colsample_bytree=1.0 will be ignored. Current value: feature_fraction=0.64\n",
      "[LightGBM] [Warning] bagging_freq is set=1, subsample_freq=0 will be ignored. Current value: bagging_freq=1\n",
      "[LightGBM] [Warning] bagging_fraction is set=0.8, subsample=1.0 will be ignored. Current value: bagging_fraction=0.8\n",
      "[LightGBM] [Warning] feature_fraction is set=0.64, colsample_bytree=1.0 will be ignored. Current value: feature_fraction=0.64\n",
      "[LightGBM] [Warning] bagging_freq is set=1, subsample_freq=0 will be ignored. Current value: bagging_freq=1\n",
      "[LightGBM] [Warning] bagging_fraction is set=0.8, subsample=1.0 will be ignored. Current value: bagging_fraction=0.8\n",
      "[LightGBM] [Warning] feature_fraction is set=0.64, colsample_bytree=1.0 will be ignored. Current value: feature_fraction=0.64\n",
      "[LightGBM] [Warning] bagging_freq is set=1, subsample_freq=0 will be ignored. Current value: bagging_freq=1\n",
      "[LightGBM] [Warning] bagging_fraction is set=0.8, subsample=1.0 will be ignored. Current value: bagging_fraction=0.8\n",
      "[LightGBM] [Warning] feature_fraction is set=0.64, colsample_bytree=1.0 will be ignored. Current value: feature_fraction=0.64\n",
      "[LightGBM] [Warning] bagging_freq is set=1, subsample_freq=0 will be ignored. Current value: bagging_freq=1\n",
      "[LightGBM] [Warning] bagging_fraction is set=0.8, subsample=1.0 will be ignored. Current value: bagging_fraction=0.8\n",
      "[LightGBM] [Warning] feature_fraction is set=0.64, colsample_bytree=1.0 will be ignored. Current value: feature_fraction=0.64\n",
      "[LightGBM] [Warning] bagging_freq is set=1, subsample_freq=0 will be ignored. Current value: bagging_freq=1\n",
      "[LightGBM] [Warning] bagging_fraction is set=0.8, subsample=1.0 will be ignored. Current value: bagging_fraction=0.8\n",
      "[LightGBM] [Warning] feature_fraction is set=0.64, colsample_bytree=1.0 will be ignored. Current value: feature_fraction=0.64\n",
      "[LightGBM] [Warning] bagging_freq is set=1, subsample_freq=0 will be ignored. Current value: bagging_freq=1\n",
      "[LightGBM] [Warning] bagging_fraction is set=0.8, subsample=1.0 will be ignored. Current value: bagging_fraction=0.8\n",
      "[LightGBM] [Warning] feature_fraction is set=0.64, colsample_bytree=1.0 will be ignored. Current value: feature_fraction=0.64\n",
      "[LightGBM] [Warning] bagging_freq is set=1, subsample_freq=0 will be ignored. Current value: bagging_freq=1\n",
      "[LightGBM] [Warning] bagging_fraction is set=0.8, subsample=1.0 will be ignored. Current value: bagging_fraction=0.8\n",
      "[LightGBM] [Warning] feature_fraction is set=0.64, colsample_bytree=1.0 will be ignored. Current value: feature_fraction=0.64\n",
      "[LightGBM] [Warning] bagging_freq is set=1, subsample_freq=0 will be ignored. Current value: bagging_freq=1\n",
      "[LightGBM] [Warning] bagging_fraction is set=0.8, subsample=1.0 will be ignored. Current value: bagging_fraction=0.8\n",
      "[LightGBM] [Warning] feature_fraction is set=0.64, colsample_bytree=1.0 will be ignored. Current value: feature_fraction=0.64\n",
      "[LightGBM] [Warning] bagging_freq is set=1, subsample_freq=0 will be ignored. Current value: bagging_freq=1\n",
      "[LightGBM] [Warning] bagging_fraction is set=0.8, subsample=1.0 will be ignored. Current value: bagging_fraction=0.8\n",
      "[LightGBM] [Warning] feature_fraction is set=0.64, colsample_bytree=1.0 will be ignored. Current value: feature_fraction=0.64\n",
      "[LightGBM] [Warning] bagging_freq is set=1, subsample_freq=0 will be ignored. Current value: bagging_freq=1\n",
      "[LightGBM] [Warning] bagging_fraction is set=0.8, subsample=1.0 will be ignored. Current value: bagging_fraction=0.8\n",
      "[LightGBM] [Warning] feature_fraction is set=0.64, colsample_bytree=1.0 will be ignored. Current value: feature_fraction=0.64\n",
      "[LightGBM] [Warning] bagging_freq is set=1, subsample_freq=0 will be ignored. Current value: bagging_freq=1\n",
      "[LightGBM] [Warning] bagging_fraction is set=0.8, subsample=1.0 will be ignored. Current value: bagging_fraction=0.8\n",
      "[LightGBM] [Warning] feature_fraction is set=0.64, colsample_bytree=1.0 will be ignored. Current value: feature_fraction=0.64\n",
      "[LightGBM] [Warning] bagging_freq is set=1, subsample_freq=0 will be ignored. Current value: bagging_freq=1\n",
      "[LightGBM] [Warning] bagging_fraction is set=0.8, subsample=1.0 will be ignored. Current value: bagging_fraction=0.8\n",
      "[LightGBM] [Warning] feature_fraction is set=0.64, colsample_bytree=1.0 will be ignored. Current value: feature_fraction=0.64\n",
      "[LightGBM] [Warning] bagging_freq is set=1, subsample_freq=0 will be ignored. Current value: bagging_freq=1\n",
      "[LightGBM] [Warning] bagging_fraction is set=0.8, subsample=1.0 will be ignored. Current value: bagging_fraction=0.8\n",
      "[LightGBM] [Warning] feature_fraction is set=0.64, colsample_bytree=1.0 will be ignored. Current value: feature_fraction=0.64\n",
      "[LightGBM] [Warning] bagging_freq is set=1, subsample_freq=0 will be ignored. Current value: bagging_freq=1\n",
      "[LightGBM] [Warning] bagging_fraction is set=0.8, subsample=1.0 will be ignored. Current value: bagging_fraction=0.8\n",
      "[LightGBM] [Warning] feature_fraction is set=0.64, colsample_bytree=1.0 will be ignored. Current value: feature_fraction=0.64\n",
      "[LightGBM] [Warning] bagging_freq is set=1, subsample_freq=0 will be ignored. Current value: bagging_freq=1\n",
      "[LightGBM] [Warning] bagging_fraction is set=0.8, subsample=1.0 will be ignored. Current value: bagging_fraction=0.8\n",
      "[LightGBM] [Warning] feature_fraction is set=0.8, colsample_bytree=1.0 will be ignored. Current value: feature_fraction=0.8\n",
      "[LightGBM] [Warning] bagging_freq is set=1, subsample_freq=0 will be ignored. Current value: bagging_freq=1\n",
      "[LightGBM] [Warning] bagging_fraction is set=0.8, subsample=1.0 will be ignored. Current value: bagging_fraction=0.8\n",
      "[LightGBM] [Warning] feature_fraction is set=0.8, colsample_bytree=1.0 will be ignored. Current value: feature_fraction=0.8\n",
      "[LightGBM] [Warning] bagging_freq is set=1, subsample_freq=0 will be ignored. Current value: bagging_freq=1\n",
      "[LightGBM] [Warning] bagging_fraction is set=0.8, subsample=1.0 will be ignored. Current value: bagging_fraction=0.8\n",
      "[LightGBM] [Warning] feature_fraction is set=0.8, colsample_bytree=1.0 will be ignored. Current value: feature_fraction=0.8\n",
      "[LightGBM] [Warning] bagging_freq is set=1, subsample_freq=0 will be ignored. Current value: bagging_freq=1\n",
      "[LightGBM] [Warning] bagging_fraction is set=0.8, subsample=1.0 will be ignored. Current value: bagging_fraction=0.8\n",
      "[LightGBM] [Warning] feature_fraction is set=0.8, colsample_bytree=1.0 will be ignored. Current value: feature_fraction=0.8\n",
      "[LightGBM] [Warning] bagging_freq is set=1, subsample_freq=0 will be ignored. Current value: bagging_freq=1\n",
      "[LightGBM] [Warning] bagging_fraction is set=0.8, subsample=1.0 will be ignored. Current value: bagging_fraction=0.8\n",
      "[LightGBM] [Warning] feature_fraction is set=0.8, colsample_bytree=1.0 will be ignored. Current value: feature_fraction=0.8\n",
      "[LightGBM] [Warning] bagging_freq is set=1, subsample_freq=0 will be ignored. Current value: bagging_freq=1\n",
      "[LightGBM] [Warning] bagging_fraction is set=0.8, subsample=1.0 will be ignored. Current value: bagging_fraction=0.8\n",
      "[LightGBM] [Warning] feature_fraction is set=0.8, colsample_bytree=1.0 will be ignored. Current value: feature_fraction=0.8\n",
      "[LightGBM] [Warning] bagging_freq is set=1, subsample_freq=0 will be ignored. Current value: bagging_freq=1\n",
      "[LightGBM] [Warning] bagging_fraction is set=0.8, subsample=1.0 will be ignored. Current value: bagging_fraction=0.8\n",
      "[LightGBM] [Warning] feature_fraction is set=0.8, colsample_bytree=1.0 will be ignored. Current value: feature_fraction=0.8\n",
      "[LightGBM] [Warning] bagging_freq is set=1, subsample_freq=0 will be ignored. Current value: bagging_freq=1\n",
      "[LightGBM] [Warning] bagging_fraction is set=0.8, subsample=1.0 will be ignored. Current value: bagging_fraction=0.8\n",
      "[LightGBM] [Warning] feature_fraction is set=0.8, colsample_bytree=1.0 will be ignored. Current value: feature_fraction=0.8\n",
      "[LightGBM] [Warning] bagging_freq is set=1, subsample_freq=0 will be ignored. Current value: bagging_freq=1\n",
      "[LightGBM] [Warning] bagging_fraction is set=0.8, subsample=1.0 will be ignored. Current value: bagging_fraction=0.8\n",
      "[LightGBM] [Warning] feature_fraction is set=0.8, colsample_bytree=1.0 will be ignored. Current value: feature_fraction=0.8\n",
      "[LightGBM] [Warning] bagging_freq is set=1, subsample_freq=0 will be ignored. Current value: bagging_freq=1\n",
      "[LightGBM] [Warning] bagging_fraction is set=0.8, subsample=1.0 will be ignored. Current value: bagging_fraction=0.8\n",
      "[LightGBM] [Warning] feature_fraction is set=0.8, colsample_bytree=1.0 will be ignored. Current value: feature_fraction=0.8\n",
      "[LightGBM] [Warning] bagging_freq is set=1, subsample_freq=0 will be ignored. Current value: bagging_freq=1\n",
      "[LightGBM] [Warning] bagging_fraction is set=0.8, subsample=1.0 will be ignored. Current value: bagging_fraction=0.8\n",
      "[LightGBM] [Warning] feature_fraction is set=0.8, colsample_bytree=1.0 will be ignored. Current value: feature_fraction=0.8\n",
      "[LightGBM] [Warning] bagging_freq is set=1, subsample_freq=0 will be ignored. Current value: bagging_freq=1\n",
      "[LightGBM] [Warning] bagging_fraction is set=0.8, subsample=1.0 will be ignored. Current value: bagging_fraction=0.8\n",
      "[LightGBM] [Warning] feature_fraction is set=0.8, colsample_bytree=1.0 will be ignored. Current value: feature_fraction=0.8\n",
      "[LightGBM] [Warning] bagging_freq is set=1, subsample_freq=0 will be ignored. Current value: bagging_freq=1\n",
      "[LightGBM] [Warning] bagging_fraction is set=0.8, subsample=1.0 will be ignored. Current value: bagging_fraction=0.8\n",
      "[LightGBM] [Warning] feature_fraction is set=0.8, colsample_bytree=1.0 will be ignored. Current value: feature_fraction=0.8\n",
      "[LightGBM] [Warning] bagging_freq is set=1, subsample_freq=0 will be ignored. Current value: bagging_freq=1\n",
      "[LightGBM] [Warning] bagging_fraction is set=0.8, subsample=1.0 will be ignored. Current value: bagging_fraction=0.8\n",
      "[LightGBM] [Warning] feature_fraction is set=0.8, colsample_bytree=1.0 will be ignored. Current value: feature_fraction=0.8\n",
      "[LightGBM] [Warning] bagging_freq is set=1, subsample_freq=0 will be ignored. Current value: bagging_freq=1\n",
      "[LightGBM] [Warning] bagging_fraction is set=0.8, subsample=1.0 will be ignored. Current value: bagging_fraction=0.8\n",
      "[LightGBM] [Warning] feature_fraction is set=0.8, colsample_bytree=1.0 will be ignored. Current value: feature_fraction=0.8\n",
      "[LightGBM] [Warning] bagging_freq is set=1, subsample_freq=0 will be ignored. Current value: bagging_freq=1\n",
      "[LightGBM] [Warning] bagging_fraction is set=0.8, subsample=1.0 will be ignored. Current value: bagging_fraction=0.8\n",
      "[LightGBM] [Warning] feature_fraction is set=0.8, colsample_bytree=1.0 will be ignored. Current value: feature_fraction=0.8\n",
      "[LightGBM] [Warning] bagging_freq is set=1, subsample_freq=0 will be ignored. Current value: bagging_freq=1\n",
      "[LightGBM] [Warning] bagging_fraction is set=0.8, subsample=1.0 will be ignored. Current value: bagging_fraction=0.8\n",
      "[LightGBM] [Warning] feature_fraction is set=0.8, colsample_bytree=1.0 will be ignored. Current value: feature_fraction=0.8\n",
      "[LightGBM] [Warning] bagging_freq is set=1, subsample_freq=0 will be ignored. Current value: bagging_freq=1\n",
      "[LightGBM] [Warning] bagging_fraction is set=0.8, subsample=1.0 will be ignored. Current value: bagging_fraction=0.8\n",
      "[LightGBM] [Warning] feature_fraction is set=0.8, colsample_bytree=1.0 will be ignored. Current value: feature_fraction=0.8\n",
      "[LightGBM] [Warning] bagging_freq is set=1, subsample_freq=0 will be ignored. Current value: bagging_freq=1\n",
      "[LightGBM] [Warning] bagging_fraction is set=0.8, subsample=1.0 will be ignored. Current value: bagging_fraction=0.8\n",
      "[LightGBM] [Warning] feature_fraction is set=0.8, colsample_bytree=1.0 will be ignored. Current value: feature_fraction=0.8\n",
      "[LightGBM] [Warning] bagging_freq is set=1, subsample_freq=0 will be ignored. Current value: bagging_freq=1\n",
      "[LightGBM] [Warning] bagging_fraction is set=0.8, subsample=1.0 will be ignored. Current value: bagging_fraction=0.8\n",
      "[LightGBM] [Warning] feature_fraction is set=0.8, colsample_bytree=1.0 will be ignored. Current value: feature_fraction=0.8\n",
      "[LightGBM] [Warning] bagging_freq is set=1, subsample_freq=0 will be ignored. Current value: bagging_freq=1\n",
      "[LightGBM] [Warning] bagging_fraction is set=0.8, subsample=1.0 will be ignored. Current value: bagging_fraction=0.8\n",
      "[LightGBM] [Warning] feature_fraction is set=0.64, colsample_bytree=1.0 will be ignored. Current value: feature_fraction=0.64\n",
      "[LightGBM] [Warning] bagging_freq is set=2, subsample_freq=0 will be ignored. Current value: bagging_freq=2\n",
      "[LightGBM] [Warning] bagging_fraction is set=0.8, subsample=1.0 will be ignored. Current value: bagging_fraction=0.8\n",
      "[LightGBM] [Warning] feature_fraction is set=0.64, colsample_bytree=1.0 will be ignored. Current value: feature_fraction=0.64\n",
      "[LightGBM] [Warning] bagging_freq is set=2, subsample_freq=0 will be ignored. Current value: bagging_freq=2\n",
      "[LightGBM] [Warning] bagging_fraction is set=0.8, subsample=1.0 will be ignored. Current value: bagging_fraction=0.8\n",
      "[LightGBM] [Warning] feature_fraction is set=0.64, colsample_bytree=1.0 will be ignored. Current value: feature_fraction=0.64\n",
      "[LightGBM] [Warning] bagging_freq is set=2, subsample_freq=0 will be ignored. Current value: bagging_freq=2\n",
      "[LightGBM] [Warning] bagging_fraction is set=0.8, subsample=1.0 will be ignored. Current value: bagging_fraction=0.8\n",
      "[LightGBM] [Warning] feature_fraction is set=0.64, colsample_bytree=1.0 will be ignored. Current value: feature_fraction=0.64\n",
      "[LightGBM] [Warning] bagging_freq is set=2, subsample_freq=0 will be ignored. Current value: bagging_freq=2\n",
      "[LightGBM] [Warning] bagging_fraction is set=0.8, subsample=1.0 will be ignored. Current value: bagging_fraction=0.8\n",
      "[LightGBM] [Warning] feature_fraction is set=0.64, colsample_bytree=1.0 will be ignored. Current value: feature_fraction=0.64\n",
      "[LightGBM] [Warning] bagging_freq is set=2, subsample_freq=0 will be ignored. Current value: bagging_freq=2\n",
      "[LightGBM] [Warning] bagging_fraction is set=0.8, subsample=1.0 will be ignored. Current value: bagging_fraction=0.8\n",
      "[LightGBM] [Warning] feature_fraction is set=0.64, colsample_bytree=1.0 will be ignored. Current value: feature_fraction=0.64\n",
      "[LightGBM] [Warning] bagging_freq is set=2, subsample_freq=0 will be ignored. Current value: bagging_freq=2\n",
      "[LightGBM] [Warning] bagging_fraction is set=0.8, subsample=1.0 will be ignored. Current value: bagging_fraction=0.8\n",
      "[LightGBM] [Warning] feature_fraction is set=0.64, colsample_bytree=1.0 will be ignored. Current value: feature_fraction=0.64\n",
      "[LightGBM] [Warning] bagging_freq is set=2, subsample_freq=0 will be ignored. Current value: bagging_freq=2\n",
      "[LightGBM] [Warning] bagging_fraction is set=0.8, subsample=1.0 will be ignored. Current value: bagging_fraction=0.8\n",
      "[LightGBM] [Warning] feature_fraction is set=0.64, colsample_bytree=1.0 will be ignored. Current value: feature_fraction=0.64\n",
      "[LightGBM] [Warning] bagging_freq is set=2, subsample_freq=0 will be ignored. Current value: bagging_freq=2\n",
      "[LightGBM] [Warning] bagging_fraction is set=0.8, subsample=1.0 will be ignored. Current value: bagging_fraction=0.8\n",
      "[LightGBM] [Warning] feature_fraction is set=0.64, colsample_bytree=1.0 will be ignored. Current value: feature_fraction=0.64\n",
      "[LightGBM] [Warning] bagging_freq is set=2, subsample_freq=0 will be ignored. Current value: bagging_freq=2\n",
      "[LightGBM] [Warning] bagging_fraction is set=0.8, subsample=1.0 will be ignored. Current value: bagging_fraction=0.8\n",
      "[LightGBM] [Warning] feature_fraction is set=0.64, colsample_bytree=1.0 will be ignored. Current value: feature_fraction=0.64\n",
      "[LightGBM] [Warning] bagging_freq is set=2, subsample_freq=0 will be ignored. Current value: bagging_freq=2\n",
      "[LightGBM] [Warning] bagging_fraction is set=0.8, subsample=1.0 will be ignored. Current value: bagging_fraction=0.8\n",
      "[LightGBM] [Warning] feature_fraction is set=0.64, colsample_bytree=1.0 will be ignored. Current value: feature_fraction=0.64\n",
      "[LightGBM] [Warning] bagging_freq is set=2, subsample_freq=0 will be ignored. Current value: bagging_freq=2\n",
      "[LightGBM] [Warning] bagging_fraction is set=0.8, subsample=1.0 will be ignored. Current value: bagging_fraction=0.8\n",
      "[LightGBM] [Warning] feature_fraction is set=0.64, colsample_bytree=1.0 will be ignored. Current value: feature_fraction=0.64\n",
      "[LightGBM] [Warning] bagging_freq is set=2, subsample_freq=0 will be ignored. Current value: bagging_freq=2\n",
      "[LightGBM] [Warning] bagging_fraction is set=0.8, subsample=1.0 will be ignored. Current value: bagging_fraction=0.8\n",
      "[LightGBM] [Warning] feature_fraction is set=0.64, colsample_bytree=1.0 will be ignored. Current value: feature_fraction=0.64\n",
      "[LightGBM] [Warning] bagging_freq is set=2, subsample_freq=0 will be ignored. Current value: bagging_freq=2\n",
      "[LightGBM] [Warning] bagging_fraction is set=0.8, subsample=1.0 will be ignored. Current value: bagging_fraction=0.8\n",
      "[LightGBM] [Warning] feature_fraction is set=0.64, colsample_bytree=1.0 will be ignored. Current value: feature_fraction=0.64\n",
      "[LightGBM] [Warning] bagging_freq is set=2, subsample_freq=0 will be ignored. Current value: bagging_freq=2\n",
      "[LightGBM] [Warning] bagging_fraction is set=0.8, subsample=1.0 will be ignored. Current value: bagging_fraction=0.8\n",
      "[LightGBM] [Warning] feature_fraction is set=0.64, colsample_bytree=1.0 will be ignored. Current value: feature_fraction=0.64\n",
      "[LightGBM] [Warning] bagging_freq is set=2, subsample_freq=0 will be ignored. Current value: bagging_freq=2\n",
      "[LightGBM] [Warning] bagging_fraction is set=0.8, subsample=1.0 will be ignored. Current value: bagging_fraction=0.8\n",
      "[LightGBM] [Warning] feature_fraction is set=0.64, colsample_bytree=1.0 will be ignored. Current value: feature_fraction=0.64\n",
      "[LightGBM] [Warning] bagging_freq is set=2, subsample_freq=0 will be ignored. Current value: bagging_freq=2\n",
      "[LightGBM] [Warning] bagging_fraction is set=0.8, subsample=1.0 will be ignored. Current value: bagging_fraction=0.8\n",
      "[LightGBM] [Warning] feature_fraction is set=0.64, colsample_bytree=1.0 will be ignored. Current value: feature_fraction=0.64\n",
      "[LightGBM] [Warning] bagging_freq is set=2, subsample_freq=0 will be ignored. Current value: bagging_freq=2\n",
      "[LightGBM] [Warning] bagging_fraction is set=0.8, subsample=1.0 will be ignored. Current value: bagging_fraction=0.8\n",
      "[LightGBM] [Warning] feature_fraction is set=0.64, colsample_bytree=1.0 will be ignored. Current value: feature_fraction=0.64\n",
      "[LightGBM] [Warning] bagging_freq is set=2, subsample_freq=0 will be ignored. Current value: bagging_freq=2\n",
      "[LightGBM] [Warning] bagging_fraction is set=0.8, subsample=1.0 will be ignored. Current value: bagging_fraction=0.8\n",
      "[LightGBM] [Warning] feature_fraction is set=0.64, colsample_bytree=1.0 will be ignored. Current value: feature_fraction=0.64\n",
      "[LightGBM] [Warning] bagging_freq is set=2, subsample_freq=0 will be ignored. Current value: bagging_freq=2\n",
      "[LightGBM] [Warning] bagging_fraction is set=0.8, subsample=1.0 will be ignored. Current value: bagging_fraction=0.8\n",
      "[LightGBM] [Warning] feature_fraction is set=0.64, colsample_bytree=1.0 will be ignored. Current value: feature_fraction=0.64\n",
      "[LightGBM] [Warning] bagging_freq is set=2, subsample_freq=0 will be ignored. Current value: bagging_freq=2\n",
      "[LightGBM] [Warning] bagging_fraction is set=0.8, subsample=1.0 will be ignored. Current value: bagging_fraction=0.8\n",
      "[LightGBM] [Warning] feature_fraction is set=0.8, colsample_bytree=1.0 will be ignored. Current value: feature_fraction=0.8\n",
      "[LightGBM] [Warning] bagging_freq is set=2, subsample_freq=0 will be ignored. Current value: bagging_freq=2\n",
      "[LightGBM] [Warning] bagging_fraction is set=0.8, subsample=1.0 will be ignored. Current value: bagging_fraction=0.8\n",
      "[LightGBM] [Warning] feature_fraction is set=0.8, colsample_bytree=1.0 will be ignored. Current value: feature_fraction=0.8\n",
      "[LightGBM] [Warning] bagging_freq is set=2, subsample_freq=0 will be ignored. Current value: bagging_freq=2\n",
      "[LightGBM] [Warning] bagging_fraction is set=0.8, subsample=1.0 will be ignored. Current value: bagging_fraction=0.8\n",
      "[LightGBM] [Warning] feature_fraction is set=0.8, colsample_bytree=1.0 will be ignored. Current value: feature_fraction=0.8\n",
      "[LightGBM] [Warning] bagging_freq is set=2, subsample_freq=0 will be ignored. Current value: bagging_freq=2\n",
      "[LightGBM] [Warning] bagging_fraction is set=0.8, subsample=1.0 will be ignored. Current value: bagging_fraction=0.8\n",
      "[LightGBM] [Warning] feature_fraction is set=0.8, colsample_bytree=1.0 will be ignored. Current value: feature_fraction=0.8\n",
      "[LightGBM] [Warning] bagging_freq is set=2, subsample_freq=0 will be ignored. Current value: bagging_freq=2\n",
      "[LightGBM] [Warning] bagging_fraction is set=0.8, subsample=1.0 will be ignored. Current value: bagging_fraction=0.8\n",
      "[LightGBM] [Warning] feature_fraction is set=0.8, colsample_bytree=1.0 will be ignored. Current value: feature_fraction=0.8\n",
      "[LightGBM] [Warning] bagging_freq is set=2, subsample_freq=0 will be ignored. Current value: bagging_freq=2\n",
      "[LightGBM] [Warning] bagging_fraction is set=0.8, subsample=1.0 will be ignored. Current value: bagging_fraction=0.8\n",
      "[LightGBM] [Warning] feature_fraction is set=0.8, colsample_bytree=1.0 will be ignored. Current value: feature_fraction=0.8\n",
      "[LightGBM] [Warning] bagging_freq is set=2, subsample_freq=0 will be ignored. Current value: bagging_freq=2\n",
      "[LightGBM] [Warning] bagging_fraction is set=0.8, subsample=1.0 will be ignored. Current value: bagging_fraction=0.8\n",
      "[LightGBM] [Warning] feature_fraction is set=0.8, colsample_bytree=1.0 will be ignored. Current value: feature_fraction=0.8\n",
      "[LightGBM] [Warning] bagging_freq is set=2, subsample_freq=0 will be ignored. Current value: bagging_freq=2\n",
      "[LightGBM] [Warning] bagging_fraction is set=0.8, subsample=1.0 will be ignored. Current value: bagging_fraction=0.8\n",
      "[LightGBM] [Warning] feature_fraction is set=0.8, colsample_bytree=1.0 will be ignored. Current value: feature_fraction=0.8\n",
      "[LightGBM] [Warning] bagging_freq is set=2, subsample_freq=0 will be ignored. Current value: bagging_freq=2\n",
      "[LightGBM] [Warning] bagging_fraction is set=0.8, subsample=1.0 will be ignored. Current value: bagging_fraction=0.8\n",
      "[LightGBM] [Warning] feature_fraction is set=0.8, colsample_bytree=1.0 will be ignored. Current value: feature_fraction=0.8\n",
      "[LightGBM] [Warning] bagging_freq is set=2, subsample_freq=0 will be ignored. Current value: bagging_freq=2\n",
      "[LightGBM] [Warning] bagging_fraction is set=0.8, subsample=1.0 will be ignored. Current value: bagging_fraction=0.8\n",
      "[LightGBM] [Warning] feature_fraction is set=0.8, colsample_bytree=1.0 will be ignored. Current value: feature_fraction=0.8\n",
      "[LightGBM] [Warning] bagging_freq is set=2, subsample_freq=0 will be ignored. Current value: bagging_freq=2\n",
      "[LightGBM] [Warning] bagging_fraction is set=0.8, subsample=1.0 will be ignored. Current value: bagging_fraction=0.8\n",
      "[LightGBM] [Warning] feature_fraction is set=0.8, colsample_bytree=1.0 will be ignored. Current value: feature_fraction=0.8\n",
      "[LightGBM] [Warning] bagging_freq is set=2, subsample_freq=0 will be ignored. Current value: bagging_freq=2\n",
      "[LightGBM] [Warning] bagging_fraction is set=0.8, subsample=1.0 will be ignored. Current value: bagging_fraction=0.8\n",
      "[LightGBM] [Warning] feature_fraction is set=0.8, colsample_bytree=1.0 will be ignored. Current value: feature_fraction=0.8\n",
      "[LightGBM] [Warning] bagging_freq is set=2, subsample_freq=0 will be ignored. Current value: bagging_freq=2\n",
      "[LightGBM] [Warning] bagging_fraction is set=0.8, subsample=1.0 will be ignored. Current value: bagging_fraction=0.8\n",
      "[LightGBM] [Warning] feature_fraction is set=0.8, colsample_bytree=1.0 will be ignored. Current value: feature_fraction=0.8\n",
      "[LightGBM] [Warning] bagging_freq is set=2, subsample_freq=0 will be ignored. Current value: bagging_freq=2\n",
      "[LightGBM] [Warning] bagging_fraction is set=0.8, subsample=1.0 will be ignored. Current value: bagging_fraction=0.8\n",
      "[LightGBM] [Warning] feature_fraction is set=0.8, colsample_bytree=1.0 will be ignored. Current value: feature_fraction=0.8\n",
      "[LightGBM] [Warning] bagging_freq is set=2, subsample_freq=0 will be ignored. Current value: bagging_freq=2\n",
      "[LightGBM] [Warning] bagging_fraction is set=0.8, subsample=1.0 will be ignored. Current value: bagging_fraction=0.8\n",
      "[LightGBM] [Warning] feature_fraction is set=0.8, colsample_bytree=1.0 will be ignored. Current value: feature_fraction=0.8\n",
      "[LightGBM] [Warning] bagging_freq is set=2, subsample_freq=0 will be ignored. Current value: bagging_freq=2\n",
      "[LightGBM] [Warning] bagging_fraction is set=0.8, subsample=1.0 will be ignored. Current value: bagging_fraction=0.8\n",
      "[LightGBM] [Warning] feature_fraction is set=0.8, colsample_bytree=1.0 will be ignored. Current value: feature_fraction=0.8\n",
      "[LightGBM] [Warning] bagging_freq is set=2, subsample_freq=0 will be ignored. Current value: bagging_freq=2\n",
      "[LightGBM] [Warning] bagging_fraction is set=0.8, subsample=1.0 will be ignored. Current value: bagging_fraction=0.8\n",
      "[LightGBM] [Warning] feature_fraction is set=0.8, colsample_bytree=1.0 will be ignored. Current value: feature_fraction=0.8\n",
      "[LightGBM] [Warning] bagging_freq is set=2, subsample_freq=0 will be ignored. Current value: bagging_freq=2\n",
      "[LightGBM] [Warning] bagging_fraction is set=0.8, subsample=1.0 will be ignored. Current value: bagging_fraction=0.8\n",
      "[LightGBM] [Warning] feature_fraction is set=0.8, colsample_bytree=1.0 will be ignored. Current value: feature_fraction=0.8\n",
      "[LightGBM] [Warning] bagging_freq is set=2, subsample_freq=0 will be ignored. Current value: bagging_freq=2\n",
      "[LightGBM] [Warning] bagging_fraction is set=0.8, subsample=1.0 will be ignored. Current value: bagging_fraction=0.8\n",
      "[LightGBM] [Warning] feature_fraction is set=0.8, colsample_bytree=1.0 will be ignored. Current value: feature_fraction=0.8\n",
      "[LightGBM] [Warning] bagging_freq is set=2, subsample_freq=0 will be ignored. Current value: bagging_freq=2\n",
      "[LightGBM] [Warning] bagging_fraction is set=0.8, subsample=1.0 will be ignored. Current value: bagging_fraction=0.8\n",
      "[LightGBM] [Warning] feature_fraction is set=0.8, colsample_bytree=1.0 will be ignored. Current value: feature_fraction=0.8\n",
      "[LightGBM] [Warning] bagging_freq is set=2, subsample_freq=0 will be ignored. Current value: bagging_freq=2\n",
      "[LightGBM] [Warning] bagging_fraction is set=0.9, subsample=1.0 will be ignored. Current value: bagging_fraction=0.9\n",
      "[LightGBM] [Warning] feature_fraction is set=0.64, colsample_bytree=1.0 will be ignored. Current value: feature_fraction=0.64\n",
      "[LightGBM] [Warning] bagging_freq is set=1, subsample_freq=0 will be ignored. Current value: bagging_freq=1\n",
      "[LightGBM] [Warning] bagging_fraction is set=0.9, subsample=1.0 will be ignored. Current value: bagging_fraction=0.9\n",
      "[LightGBM] [Warning] feature_fraction is set=0.64, colsample_bytree=1.0 will be ignored. Current value: feature_fraction=0.64\n",
      "[LightGBM] [Warning] bagging_freq is set=1, subsample_freq=0 will be ignored. Current value: bagging_freq=1\n",
      "[LightGBM] [Warning] bagging_fraction is set=0.9, subsample=1.0 will be ignored. Current value: bagging_fraction=0.9\n",
      "[LightGBM] [Warning] feature_fraction is set=0.64, colsample_bytree=1.0 will be ignored. Current value: feature_fraction=0.64\n",
      "[LightGBM] [Warning] bagging_freq is set=1, subsample_freq=0 will be ignored. Current value: bagging_freq=1\n",
      "[LightGBM] [Warning] bagging_fraction is set=0.9, subsample=1.0 will be ignored. Current value: bagging_fraction=0.9\n",
      "[LightGBM] [Warning] feature_fraction is set=0.64, colsample_bytree=1.0 will be ignored. Current value: feature_fraction=0.64\n",
      "[LightGBM] [Warning] bagging_freq is set=1, subsample_freq=0 will be ignored. Current value: bagging_freq=1\n",
      "[LightGBM] [Warning] bagging_fraction is set=0.9, subsample=1.0 will be ignored. Current value: bagging_fraction=0.9\n",
      "[LightGBM] [Warning] feature_fraction is set=0.64, colsample_bytree=1.0 will be ignored. Current value: feature_fraction=0.64\n",
      "[LightGBM] [Warning] bagging_freq is set=1, subsample_freq=0 will be ignored. Current value: bagging_freq=1\n",
      "[LightGBM] [Warning] bagging_fraction is set=0.9, subsample=1.0 will be ignored. Current value: bagging_fraction=0.9\n",
      "[LightGBM] [Warning] feature_fraction is set=0.64, colsample_bytree=1.0 will be ignored. Current value: feature_fraction=0.64\n",
      "[LightGBM] [Warning] bagging_freq is set=1, subsample_freq=0 will be ignored. Current value: bagging_freq=1\n",
      "[LightGBM] [Warning] bagging_fraction is set=0.9, subsample=1.0 will be ignored. Current value: bagging_fraction=0.9\n",
      "[LightGBM] [Warning] feature_fraction is set=0.64, colsample_bytree=1.0 will be ignored. Current value: feature_fraction=0.64\n",
      "[LightGBM] [Warning] bagging_freq is set=1, subsample_freq=0 will be ignored. Current value: bagging_freq=1\n",
      "[LightGBM] [Warning] bagging_fraction is set=0.9, subsample=1.0 will be ignored. Current value: bagging_fraction=0.9\n",
      "[LightGBM] [Warning] feature_fraction is set=0.64, colsample_bytree=1.0 will be ignored. Current value: feature_fraction=0.64\n",
      "[LightGBM] [Warning] bagging_freq is set=1, subsample_freq=0 will be ignored. Current value: bagging_freq=1\n",
      "[LightGBM] [Warning] bagging_fraction is set=0.9, subsample=1.0 will be ignored. Current value: bagging_fraction=0.9\n",
      "[LightGBM] [Warning] feature_fraction is set=0.64, colsample_bytree=1.0 will be ignored. Current value: feature_fraction=0.64\n",
      "[LightGBM] [Warning] bagging_freq is set=1, subsample_freq=0 will be ignored. Current value: bagging_freq=1\n",
      "[LightGBM] [Warning] bagging_fraction is set=0.9, subsample=1.0 will be ignored. Current value: bagging_fraction=0.9\n",
      "[LightGBM] [Warning] feature_fraction is set=0.64, colsample_bytree=1.0 will be ignored. Current value: feature_fraction=0.64\n",
      "[LightGBM] [Warning] bagging_freq is set=1, subsample_freq=0 will be ignored. Current value: bagging_freq=1\n",
      "[LightGBM] [Warning] bagging_fraction is set=0.9, subsample=1.0 will be ignored. Current value: bagging_fraction=0.9\n",
      "[LightGBM] [Warning] feature_fraction is set=0.64, colsample_bytree=1.0 will be ignored. Current value: feature_fraction=0.64\n",
      "[LightGBM] [Warning] bagging_freq is set=1, subsample_freq=0 will be ignored. Current value: bagging_freq=1\n",
      "[LightGBM] [Warning] bagging_fraction is set=0.9, subsample=1.0 will be ignored. Current value: bagging_fraction=0.9\n",
      "[LightGBM] [Warning] feature_fraction is set=0.64, colsample_bytree=1.0 will be ignored. Current value: feature_fraction=0.64\n",
      "[LightGBM] [Warning] bagging_freq is set=1, subsample_freq=0 will be ignored. Current value: bagging_freq=1\n",
      "[LightGBM] [Warning] bagging_fraction is set=0.9, subsample=1.0 will be ignored. Current value: bagging_fraction=0.9\n",
      "[LightGBM] [Warning] feature_fraction is set=0.64, colsample_bytree=1.0 will be ignored. Current value: feature_fraction=0.64\n",
      "[LightGBM] [Warning] bagging_freq is set=1, subsample_freq=0 will be ignored. Current value: bagging_freq=1\n",
      "[LightGBM] [Warning] bagging_fraction is set=0.9, subsample=1.0 will be ignored. Current value: bagging_fraction=0.9\n",
      "[LightGBM] [Warning] feature_fraction is set=0.64, colsample_bytree=1.0 will be ignored. Current value: feature_fraction=0.64\n",
      "[LightGBM] [Warning] bagging_freq is set=1, subsample_freq=0 will be ignored. Current value: bagging_freq=1\n",
      "[LightGBM] [Warning] bagging_fraction is set=0.9, subsample=1.0 will be ignored. Current value: bagging_fraction=0.9\n",
      "[LightGBM] [Warning] feature_fraction is set=0.64, colsample_bytree=1.0 will be ignored. Current value: feature_fraction=0.64\n",
      "[LightGBM] [Warning] bagging_freq is set=1, subsample_freq=0 will be ignored. Current value: bagging_freq=1\n",
      "[LightGBM] [Warning] bagging_fraction is set=0.9, subsample=1.0 will be ignored. Current value: bagging_fraction=0.9\n",
      "[LightGBM] [Warning] feature_fraction is set=0.64, colsample_bytree=1.0 will be ignored. Current value: feature_fraction=0.64\n",
      "[LightGBM] [Warning] bagging_freq is set=1, subsample_freq=0 will be ignored. Current value: bagging_freq=1\n",
      "[LightGBM] [Warning] bagging_fraction is set=0.9, subsample=1.0 will be ignored. Current value: bagging_fraction=0.9\n",
      "[LightGBM] [Warning] feature_fraction is set=0.64, colsample_bytree=1.0 will be ignored. Current value: feature_fraction=0.64\n",
      "[LightGBM] [Warning] bagging_freq is set=1, subsample_freq=0 will be ignored. Current value: bagging_freq=1\n",
      "[LightGBM] [Warning] bagging_fraction is set=0.9, subsample=1.0 will be ignored. Current value: bagging_fraction=0.9\n",
      "[LightGBM] [Warning] feature_fraction is set=0.64, colsample_bytree=1.0 will be ignored. Current value: feature_fraction=0.64\n",
      "[LightGBM] [Warning] bagging_freq is set=1, subsample_freq=0 will be ignored. Current value: bagging_freq=1\n",
      "[LightGBM] [Warning] bagging_fraction is set=0.9, subsample=1.0 will be ignored. Current value: bagging_fraction=0.9\n",
      "[LightGBM] [Warning] feature_fraction is set=0.64, colsample_bytree=1.0 will be ignored. Current value: feature_fraction=0.64\n",
      "[LightGBM] [Warning] bagging_freq is set=1, subsample_freq=0 will be ignored. Current value: bagging_freq=1\n",
      "[LightGBM] [Warning] bagging_fraction is set=0.9, subsample=1.0 will be ignored. Current value: bagging_fraction=0.9\n",
      "[LightGBM] [Warning] feature_fraction is set=0.64, colsample_bytree=1.0 will be ignored. Current value: feature_fraction=0.64\n",
      "[LightGBM] [Warning] bagging_freq is set=1, subsample_freq=0 will be ignored. Current value: bagging_freq=1\n",
      "[LightGBM] [Warning] bagging_fraction is set=0.9, subsample=1.0 will be ignored. Current value: bagging_fraction=0.9\n",
      "[LightGBM] [Warning] feature_fraction is set=0.8, colsample_bytree=1.0 will be ignored. Current value: feature_fraction=0.8\n",
      "[LightGBM] [Warning] bagging_freq is set=1, subsample_freq=0 will be ignored. Current value: bagging_freq=1\n",
      "[LightGBM] [Warning] bagging_fraction is set=0.9, subsample=1.0 will be ignored. Current value: bagging_fraction=0.9\n",
      "[LightGBM] [Warning] feature_fraction is set=0.8, colsample_bytree=1.0 will be ignored. Current value: feature_fraction=0.8\n",
      "[LightGBM] [Warning] bagging_freq is set=1, subsample_freq=0 will be ignored. Current value: bagging_freq=1\n",
      "[LightGBM] [Warning] bagging_fraction is set=0.9, subsample=1.0 will be ignored. Current value: bagging_fraction=0.9\n",
      "[LightGBM] [Warning] feature_fraction is set=0.8, colsample_bytree=1.0 will be ignored. Current value: feature_fraction=0.8\n",
      "[LightGBM] [Warning] bagging_freq is set=1, subsample_freq=0 will be ignored. Current value: bagging_freq=1\n",
      "[LightGBM] [Warning] bagging_fraction is set=0.9, subsample=1.0 will be ignored. Current value: bagging_fraction=0.9\n",
      "[LightGBM] [Warning] feature_fraction is set=0.8, colsample_bytree=1.0 will be ignored. Current value: feature_fraction=0.8\n",
      "[LightGBM] [Warning] bagging_freq is set=1, subsample_freq=0 will be ignored. Current value: bagging_freq=1\n",
      "[LightGBM] [Warning] bagging_fraction is set=0.9, subsample=1.0 will be ignored. Current value: bagging_fraction=0.9\n",
      "[LightGBM] [Warning] feature_fraction is set=0.8, colsample_bytree=1.0 will be ignored. Current value: feature_fraction=0.8\n",
      "[LightGBM] [Warning] bagging_freq is set=1, subsample_freq=0 will be ignored. Current value: bagging_freq=1\n",
      "[LightGBM] [Warning] bagging_fraction is set=0.9, subsample=1.0 will be ignored. Current value: bagging_fraction=0.9\n",
      "[LightGBM] [Warning] feature_fraction is set=0.8, colsample_bytree=1.0 will be ignored. Current value: feature_fraction=0.8\n",
      "[LightGBM] [Warning] bagging_freq is set=1, subsample_freq=0 will be ignored. Current value: bagging_freq=1\n",
      "[LightGBM] [Warning] bagging_fraction is set=0.9, subsample=1.0 will be ignored. Current value: bagging_fraction=0.9\n",
      "[LightGBM] [Warning] feature_fraction is set=0.8, colsample_bytree=1.0 will be ignored. Current value: feature_fraction=0.8\n",
      "[LightGBM] [Warning] bagging_freq is set=1, subsample_freq=0 will be ignored. Current value: bagging_freq=1\n",
      "[LightGBM] [Warning] bagging_fraction is set=0.9, subsample=1.0 will be ignored. Current value: bagging_fraction=0.9\n",
      "[LightGBM] [Warning] feature_fraction is set=0.8, colsample_bytree=1.0 will be ignored. Current value: feature_fraction=0.8\n",
      "[LightGBM] [Warning] bagging_freq is set=1, subsample_freq=0 will be ignored. Current value: bagging_freq=1\n",
      "[LightGBM] [Warning] bagging_fraction is set=0.9, subsample=1.0 will be ignored. Current value: bagging_fraction=0.9\n",
      "[LightGBM] [Warning] feature_fraction is set=0.8, colsample_bytree=1.0 will be ignored. Current value: feature_fraction=0.8\n",
      "[LightGBM] [Warning] bagging_freq is set=1, subsample_freq=0 will be ignored. Current value: bagging_freq=1\n",
      "[LightGBM] [Warning] bagging_fraction is set=0.9, subsample=1.0 will be ignored. Current value: bagging_fraction=0.9\n",
      "[LightGBM] [Warning] feature_fraction is set=0.8, colsample_bytree=1.0 will be ignored. Current value: feature_fraction=0.8\n",
      "[LightGBM] [Warning] bagging_freq is set=1, subsample_freq=0 will be ignored. Current value: bagging_freq=1\n",
      "[LightGBM] [Warning] bagging_fraction is set=0.9, subsample=1.0 will be ignored. Current value: bagging_fraction=0.9\n",
      "[LightGBM] [Warning] feature_fraction is set=0.8, colsample_bytree=1.0 will be ignored. Current value: feature_fraction=0.8\n",
      "[LightGBM] [Warning] bagging_freq is set=1, subsample_freq=0 will be ignored. Current value: bagging_freq=1\n",
      "[LightGBM] [Warning] bagging_fraction is set=0.9, subsample=1.0 will be ignored. Current value: bagging_fraction=0.9\n",
      "[LightGBM] [Warning] feature_fraction is set=0.8, colsample_bytree=1.0 will be ignored. Current value: feature_fraction=0.8\n",
      "[LightGBM] [Warning] bagging_freq is set=1, subsample_freq=0 will be ignored. Current value: bagging_freq=1\n",
      "[LightGBM] [Warning] bagging_fraction is set=0.9, subsample=1.0 will be ignored. Current value: bagging_fraction=0.9\n",
      "[LightGBM] [Warning] feature_fraction is set=0.8, colsample_bytree=1.0 will be ignored. Current value: feature_fraction=0.8\n",
      "[LightGBM] [Warning] bagging_freq is set=1, subsample_freq=0 will be ignored. Current value: bagging_freq=1\n",
      "[LightGBM] [Warning] bagging_fraction is set=0.9, subsample=1.0 will be ignored. Current value: bagging_fraction=0.9\n",
      "[LightGBM] [Warning] feature_fraction is set=0.8, colsample_bytree=1.0 will be ignored. Current value: feature_fraction=0.8\n",
      "[LightGBM] [Warning] bagging_freq is set=1, subsample_freq=0 will be ignored. Current value: bagging_freq=1\n",
      "[LightGBM] [Warning] bagging_fraction is set=0.9, subsample=1.0 will be ignored. Current value: bagging_fraction=0.9\n",
      "[LightGBM] [Warning] feature_fraction is set=0.8, colsample_bytree=1.0 will be ignored. Current value: feature_fraction=0.8\n",
      "[LightGBM] [Warning] bagging_freq is set=1, subsample_freq=0 will be ignored. Current value: bagging_freq=1\n",
      "[LightGBM] [Warning] bagging_fraction is set=0.9, subsample=1.0 will be ignored. Current value: bagging_fraction=0.9\n",
      "[LightGBM] [Warning] feature_fraction is set=0.8, colsample_bytree=1.0 will be ignored. Current value: feature_fraction=0.8\n",
      "[LightGBM] [Warning] bagging_freq is set=1, subsample_freq=0 will be ignored. Current value: bagging_freq=1\n",
      "[LightGBM] [Warning] bagging_fraction is set=0.9, subsample=1.0 will be ignored. Current value: bagging_fraction=0.9\n",
      "[LightGBM] [Warning] feature_fraction is set=0.8, colsample_bytree=1.0 will be ignored. Current value: feature_fraction=0.8\n",
      "[LightGBM] [Warning] bagging_freq is set=1, subsample_freq=0 will be ignored. Current value: bagging_freq=1\n",
      "[LightGBM] [Warning] bagging_fraction is set=0.9, subsample=1.0 will be ignored. Current value: bagging_fraction=0.9\n",
      "[LightGBM] [Warning] feature_fraction is set=0.8, colsample_bytree=1.0 will be ignored. Current value: feature_fraction=0.8\n",
      "[LightGBM] [Warning] bagging_freq is set=1, subsample_freq=0 will be ignored. Current value: bagging_freq=1\n",
      "[LightGBM] [Warning] bagging_fraction is set=0.9, subsample=1.0 will be ignored. Current value: bagging_fraction=0.9\n",
      "[LightGBM] [Warning] feature_fraction is set=0.8, colsample_bytree=1.0 will be ignored. Current value: feature_fraction=0.8\n",
      "[LightGBM] [Warning] bagging_freq is set=1, subsample_freq=0 will be ignored. Current value: bagging_freq=1\n",
      "[LightGBM] [Warning] bagging_fraction is set=0.9, subsample=1.0 will be ignored. Current value: bagging_fraction=0.9\n",
      "[LightGBM] [Warning] feature_fraction is set=0.8, colsample_bytree=1.0 will be ignored. Current value: feature_fraction=0.8\n",
      "[LightGBM] [Warning] bagging_freq is set=1, subsample_freq=0 will be ignored. Current value: bagging_freq=1\n",
      "[LightGBM] [Warning] bagging_fraction is set=0.9, subsample=1.0 will be ignored. Current value: bagging_fraction=0.9\n",
      "[LightGBM] [Warning] feature_fraction is set=0.64, colsample_bytree=1.0 will be ignored. Current value: feature_fraction=0.64\n",
      "[LightGBM] [Warning] bagging_freq is set=2, subsample_freq=0 will be ignored. Current value: bagging_freq=2\n",
      "[LightGBM] [Warning] bagging_fraction is set=0.9, subsample=1.0 will be ignored. Current value: bagging_fraction=0.9\n",
      "[LightGBM] [Warning] feature_fraction is set=0.64, colsample_bytree=1.0 will be ignored. Current value: feature_fraction=0.64\n",
      "[LightGBM] [Warning] bagging_freq is set=2, subsample_freq=0 will be ignored. Current value: bagging_freq=2\n",
      "[LightGBM] [Warning] bagging_fraction is set=0.9, subsample=1.0 will be ignored. Current value: bagging_fraction=0.9\n",
      "[LightGBM] [Warning] feature_fraction is set=0.64, colsample_bytree=1.0 will be ignored. Current value: feature_fraction=0.64\n",
      "[LightGBM] [Warning] bagging_freq is set=2, subsample_freq=0 will be ignored. Current value: bagging_freq=2\n",
      "[LightGBM] [Warning] bagging_fraction is set=0.9, subsample=1.0 will be ignored. Current value: bagging_fraction=0.9\n",
      "[LightGBM] [Warning] feature_fraction is set=0.64, colsample_bytree=1.0 will be ignored. Current value: feature_fraction=0.64\n",
      "[LightGBM] [Warning] bagging_freq is set=2, subsample_freq=0 will be ignored. Current value: bagging_freq=2\n",
      "[LightGBM] [Warning] bagging_fraction is set=0.9, subsample=1.0 will be ignored. Current value: bagging_fraction=0.9\n",
      "[LightGBM] [Warning] feature_fraction is set=0.64, colsample_bytree=1.0 will be ignored. Current value: feature_fraction=0.64\n",
      "[LightGBM] [Warning] bagging_freq is set=2, subsample_freq=0 will be ignored. Current value: bagging_freq=2\n",
      "[LightGBM] [Warning] bagging_fraction is set=0.9, subsample=1.0 will be ignored. Current value: bagging_fraction=0.9\n",
      "[LightGBM] [Warning] feature_fraction is set=0.64, colsample_bytree=1.0 will be ignored. Current value: feature_fraction=0.64\n",
      "[LightGBM] [Warning] bagging_freq is set=2, subsample_freq=0 will be ignored. Current value: bagging_freq=2\n",
      "[LightGBM] [Warning] bagging_fraction is set=0.9, subsample=1.0 will be ignored. Current value: bagging_fraction=0.9\n",
      "[LightGBM] [Warning] feature_fraction is set=0.64, colsample_bytree=1.0 will be ignored. Current value: feature_fraction=0.64\n",
      "[LightGBM] [Warning] bagging_freq is set=2, subsample_freq=0 will be ignored. Current value: bagging_freq=2\n",
      "[LightGBM] [Warning] bagging_fraction is set=0.9, subsample=1.0 will be ignored. Current value: bagging_fraction=0.9\n",
      "[LightGBM] [Warning] feature_fraction is set=0.64, colsample_bytree=1.0 will be ignored. Current value: feature_fraction=0.64\n",
      "[LightGBM] [Warning] bagging_freq is set=2, subsample_freq=0 will be ignored. Current value: bagging_freq=2\n",
      "[LightGBM] [Warning] bagging_fraction is set=0.9, subsample=1.0 will be ignored. Current value: bagging_fraction=0.9\n",
      "[LightGBM] [Warning] feature_fraction is set=0.64, colsample_bytree=1.0 will be ignored. Current value: feature_fraction=0.64\n",
      "[LightGBM] [Warning] bagging_freq is set=2, subsample_freq=0 will be ignored. Current value: bagging_freq=2\n",
      "[LightGBM] [Warning] bagging_fraction is set=0.9, subsample=1.0 will be ignored. Current value: bagging_fraction=0.9\n",
      "[LightGBM] [Warning] feature_fraction is set=0.64, colsample_bytree=1.0 will be ignored. Current value: feature_fraction=0.64\n",
      "[LightGBM] [Warning] bagging_freq is set=2, subsample_freq=0 will be ignored. Current value: bagging_freq=2\n",
      "[LightGBM] [Warning] bagging_fraction is set=0.9, subsample=1.0 will be ignored. Current value: bagging_fraction=0.9\n",
      "[LightGBM] [Warning] feature_fraction is set=0.64, colsample_bytree=1.0 will be ignored. Current value: feature_fraction=0.64\n",
      "[LightGBM] [Warning] bagging_freq is set=2, subsample_freq=0 will be ignored. Current value: bagging_freq=2\n",
      "[LightGBM] [Warning] bagging_fraction is set=0.9, subsample=1.0 will be ignored. Current value: bagging_fraction=0.9\n",
      "[LightGBM] [Warning] feature_fraction is set=0.64, colsample_bytree=1.0 will be ignored. Current value: feature_fraction=0.64\n",
      "[LightGBM] [Warning] bagging_freq is set=2, subsample_freq=0 will be ignored. Current value: bagging_freq=2\n",
      "[LightGBM] [Warning] bagging_fraction is set=0.9, subsample=1.0 will be ignored. Current value: bagging_fraction=0.9\n",
      "[LightGBM] [Warning] feature_fraction is set=0.64, colsample_bytree=1.0 will be ignored. Current value: feature_fraction=0.64\n",
      "[LightGBM] [Warning] bagging_freq is set=2, subsample_freq=0 will be ignored. Current value: bagging_freq=2\n",
      "[LightGBM] [Warning] bagging_fraction is set=0.9, subsample=1.0 will be ignored. Current value: bagging_fraction=0.9\n",
      "[LightGBM] [Warning] feature_fraction is set=0.64, colsample_bytree=1.0 will be ignored. Current value: feature_fraction=0.64\n",
      "[LightGBM] [Warning] bagging_freq is set=2, subsample_freq=0 will be ignored. Current value: bagging_freq=2\n",
      "[LightGBM] [Warning] bagging_fraction is set=0.9, subsample=1.0 will be ignored. Current value: bagging_fraction=0.9\n",
      "[LightGBM] [Warning] feature_fraction is set=0.64, colsample_bytree=1.0 will be ignored. Current value: feature_fraction=0.64\n",
      "[LightGBM] [Warning] bagging_freq is set=2, subsample_freq=0 will be ignored. Current value: bagging_freq=2\n",
      "[LightGBM] [Warning] bagging_fraction is set=0.9, subsample=1.0 will be ignored. Current value: bagging_fraction=0.9\n",
      "[LightGBM] [Warning] feature_fraction is set=0.64, colsample_bytree=1.0 will be ignored. Current value: feature_fraction=0.64\n",
      "[LightGBM] [Warning] bagging_freq is set=2, subsample_freq=0 will be ignored. Current value: bagging_freq=2\n",
      "[LightGBM] [Warning] bagging_fraction is set=0.9, subsample=1.0 will be ignored. Current value: bagging_fraction=0.9\n",
      "[LightGBM] [Warning] feature_fraction is set=0.64, colsample_bytree=1.0 will be ignored. Current value: feature_fraction=0.64\n",
      "[LightGBM] [Warning] bagging_freq is set=2, subsample_freq=0 will be ignored. Current value: bagging_freq=2\n",
      "[LightGBM] [Warning] bagging_fraction is set=0.9, subsample=1.0 will be ignored. Current value: bagging_fraction=0.9\n",
      "[LightGBM] [Warning] feature_fraction is set=0.64, colsample_bytree=1.0 will be ignored. Current value: feature_fraction=0.64\n",
      "[LightGBM] [Warning] bagging_freq is set=2, subsample_freq=0 will be ignored. Current value: bagging_freq=2\n",
      "[LightGBM] [Warning] bagging_fraction is set=0.9, subsample=1.0 will be ignored. Current value: bagging_fraction=0.9\n",
      "[LightGBM] [Warning] feature_fraction is set=0.64, colsample_bytree=1.0 will be ignored. Current value: feature_fraction=0.64\n",
      "[LightGBM] [Warning] bagging_freq is set=2, subsample_freq=0 will be ignored. Current value: bagging_freq=2\n",
      "[LightGBM] [Warning] bagging_fraction is set=0.9, subsample=1.0 will be ignored. Current value: bagging_fraction=0.9\n",
      "[LightGBM] [Warning] feature_fraction is set=0.64, colsample_bytree=1.0 will be ignored. Current value: feature_fraction=0.64\n",
      "[LightGBM] [Warning] bagging_freq is set=2, subsample_freq=0 will be ignored. Current value: bagging_freq=2\n",
      "[LightGBM] [Warning] bagging_fraction is set=0.9, subsample=1.0 will be ignored. Current value: bagging_fraction=0.9\n",
      "[LightGBM] [Warning] feature_fraction is set=0.8, colsample_bytree=1.0 will be ignored. Current value: feature_fraction=0.8\n",
      "[LightGBM] [Warning] bagging_freq is set=2, subsample_freq=0 will be ignored. Current value: bagging_freq=2\n",
      "[LightGBM] [Warning] bagging_fraction is set=0.9, subsample=1.0 will be ignored. Current value: bagging_fraction=0.9\n",
      "[LightGBM] [Warning] feature_fraction is set=0.8, colsample_bytree=1.0 will be ignored. Current value: feature_fraction=0.8\n",
      "[LightGBM] [Warning] bagging_freq is set=2, subsample_freq=0 will be ignored. Current value: bagging_freq=2\n",
      "[LightGBM] [Warning] bagging_fraction is set=0.9, subsample=1.0 will be ignored. Current value: bagging_fraction=0.9\n",
      "[LightGBM] [Warning] feature_fraction is set=0.8, colsample_bytree=1.0 will be ignored. Current value: feature_fraction=0.8\n",
      "[LightGBM] [Warning] bagging_freq is set=2, subsample_freq=0 will be ignored. Current value: bagging_freq=2\n",
      "[LightGBM] [Warning] bagging_fraction is set=0.9, subsample=1.0 will be ignored. Current value: bagging_fraction=0.9\n",
      "[LightGBM] [Warning] feature_fraction is set=0.8, colsample_bytree=1.0 will be ignored. Current value: feature_fraction=0.8\n",
      "[LightGBM] [Warning] bagging_freq is set=2, subsample_freq=0 will be ignored. Current value: bagging_freq=2\n",
      "[LightGBM] [Warning] bagging_fraction is set=0.9, subsample=1.0 will be ignored. Current value: bagging_fraction=0.9\n",
      "[LightGBM] [Warning] feature_fraction is set=0.8, colsample_bytree=1.0 will be ignored. Current value: feature_fraction=0.8\n",
      "[LightGBM] [Warning] bagging_freq is set=2, subsample_freq=0 will be ignored. Current value: bagging_freq=2\n",
      "[LightGBM] [Warning] bagging_fraction is set=0.9, subsample=1.0 will be ignored. Current value: bagging_fraction=0.9\n",
      "[LightGBM] [Warning] feature_fraction is set=0.8, colsample_bytree=1.0 will be ignored. Current value: feature_fraction=0.8\n",
      "[LightGBM] [Warning] bagging_freq is set=2, subsample_freq=0 will be ignored. Current value: bagging_freq=2\n",
      "[LightGBM] [Warning] bagging_fraction is set=0.9, subsample=1.0 will be ignored. Current value: bagging_fraction=0.9\n",
      "[LightGBM] [Warning] feature_fraction is set=0.8, colsample_bytree=1.0 will be ignored. Current value: feature_fraction=0.8\n",
      "[LightGBM] [Warning] bagging_freq is set=2, subsample_freq=0 will be ignored. Current value: bagging_freq=2\n",
      "[LightGBM] [Warning] bagging_fraction is set=0.9, subsample=1.0 will be ignored. Current value: bagging_fraction=0.9\n",
      "[LightGBM] [Warning] feature_fraction is set=0.8, colsample_bytree=1.0 will be ignored. Current value: feature_fraction=0.8\n",
      "[LightGBM] [Warning] bagging_freq is set=2, subsample_freq=0 will be ignored. Current value: bagging_freq=2\n",
      "[LightGBM] [Warning] bagging_fraction is set=0.9, subsample=1.0 will be ignored. Current value: bagging_fraction=0.9\n",
      "[LightGBM] [Warning] feature_fraction is set=0.8, colsample_bytree=1.0 will be ignored. Current value: feature_fraction=0.8\n",
      "[LightGBM] [Warning] bagging_freq is set=2, subsample_freq=0 will be ignored. Current value: bagging_freq=2\n",
      "[LightGBM] [Warning] bagging_fraction is set=0.9, subsample=1.0 will be ignored. Current value: bagging_fraction=0.9\n",
      "[LightGBM] [Warning] feature_fraction is set=0.8, colsample_bytree=1.0 will be ignored. Current value: feature_fraction=0.8\n",
      "[LightGBM] [Warning] bagging_freq is set=2, subsample_freq=0 will be ignored. Current value: bagging_freq=2\n",
      "[LightGBM] [Warning] bagging_fraction is set=0.9, subsample=1.0 will be ignored. Current value: bagging_fraction=0.9\n",
      "[LightGBM] [Warning] feature_fraction is set=0.8, colsample_bytree=1.0 will be ignored. Current value: feature_fraction=0.8\n",
      "[LightGBM] [Warning] bagging_freq is set=2, subsample_freq=0 will be ignored. Current value: bagging_freq=2\n",
      "[LightGBM] [Warning] bagging_fraction is set=0.9, subsample=1.0 will be ignored. Current value: bagging_fraction=0.9\n",
      "[LightGBM] [Warning] feature_fraction is set=0.8, colsample_bytree=1.0 will be ignored. Current value: feature_fraction=0.8\n",
      "[LightGBM] [Warning] bagging_freq is set=2, subsample_freq=0 will be ignored. Current value: bagging_freq=2\n",
      "[LightGBM] [Warning] bagging_fraction is set=0.9, subsample=1.0 will be ignored. Current value: bagging_fraction=0.9\n",
      "[LightGBM] [Warning] feature_fraction is set=0.8, colsample_bytree=1.0 will be ignored. Current value: feature_fraction=0.8\n",
      "[LightGBM] [Warning] bagging_freq is set=2, subsample_freq=0 will be ignored. Current value: bagging_freq=2\n",
      "[LightGBM] [Warning] bagging_fraction is set=0.9, subsample=1.0 will be ignored. Current value: bagging_fraction=0.9\n",
      "[LightGBM] [Warning] feature_fraction is set=0.8, colsample_bytree=1.0 will be ignored. Current value: feature_fraction=0.8\n",
      "[LightGBM] [Warning] bagging_freq is set=2, subsample_freq=0 will be ignored. Current value: bagging_freq=2\n",
      "[LightGBM] [Warning] bagging_fraction is set=0.9, subsample=1.0 will be ignored. Current value: bagging_fraction=0.9\n",
      "[LightGBM] [Warning] feature_fraction is set=0.8, colsample_bytree=1.0 will be ignored. Current value: feature_fraction=0.8\n",
      "[LightGBM] [Warning] bagging_freq is set=2, subsample_freq=0 will be ignored. Current value: bagging_freq=2\n",
      "[LightGBM] [Warning] bagging_fraction is set=0.9, subsample=1.0 will be ignored. Current value: bagging_fraction=0.9\n",
      "[LightGBM] [Warning] feature_fraction is set=0.8, colsample_bytree=1.0 will be ignored. Current value: feature_fraction=0.8\n",
      "[LightGBM] [Warning] bagging_freq is set=2, subsample_freq=0 will be ignored. Current value: bagging_freq=2\n",
      "[LightGBM] [Warning] bagging_fraction is set=0.9, subsample=1.0 will be ignored. Current value: bagging_fraction=0.9\n",
      "[LightGBM] [Warning] feature_fraction is set=0.8, colsample_bytree=1.0 will be ignored. Current value: feature_fraction=0.8\n",
      "[LightGBM] [Warning] bagging_freq is set=2, subsample_freq=0 will be ignored. Current value: bagging_freq=2\n",
      "[LightGBM] [Warning] bagging_fraction is set=0.9, subsample=1.0 will be ignored. Current value: bagging_fraction=0.9\n",
      "[LightGBM] [Warning] feature_fraction is set=0.8, colsample_bytree=1.0 will be ignored. Current value: feature_fraction=0.8\n",
      "[LightGBM] [Warning] bagging_freq is set=2, subsample_freq=0 will be ignored. Current value: bagging_freq=2\n",
      "[LightGBM] [Warning] bagging_fraction is set=0.9, subsample=1.0 will be ignored. Current value: bagging_fraction=0.9\n",
      "[LightGBM] [Warning] feature_fraction is set=0.8, colsample_bytree=1.0 will be ignored. Current value: feature_fraction=0.8\n",
      "[LightGBM] [Warning] bagging_freq is set=2, subsample_freq=0 will be ignored. Current value: bagging_freq=2\n",
      "[LightGBM] [Warning] bagging_fraction is set=0.9, subsample=1.0 will be ignored. Current value: bagging_fraction=0.9\n",
      "[LightGBM] [Warning] feature_fraction is set=0.8, colsample_bytree=1.0 will be ignored. Current value: feature_fraction=0.8\n",
      "[LightGBM] [Warning] bagging_freq is set=2, subsample_freq=0 will be ignored. Current value: bagging_freq=2\n",
      "[LightGBM] [Warning] bagging_fraction is set=0.8, subsample=1.0 will be ignored. Current value: bagging_fraction=0.8\n",
      "[LightGBM] [Warning] feature_fraction is set=0.8, colsample_bytree=1.0 will be ignored. Current value: feature_fraction=0.8\n",
      "[LightGBM] [Warning] bagging_freq is set=2, subsample_freq=0 will be ignored. Current value: bagging_freq=2\n"
     ]
    },
    {
     "data": {
      "text/plain": [
       "GridSearchCV(cv=5,\n",
       "             estimator=LGBMClassifier(num_iterations=500, objective='binary',\n",
       "                                      random_state=12345),\n",
       "             param_grid={'bagging_fraction': [0.8, 0.9], 'bagging_freq': [1, 2],\n",
       "                         'feature_fraction': [0.64, 0.8],\n",
       "                         'learning_rate': [0.02, 0.05],\n",
       "                         'num_leaves': [50, 75]},\n",
       "             scoring='accuracy', verbose=False)"
      ]
     },
     "execution_count": 44,
     "metadata": {},
     "output_type": "execute_result"
    }
   ],
   "source": [
    "grid.fit(features_tiny, target)"
   ]
  },
  {
   "cell_type": "code",
   "execution_count": 45,
   "metadata": {},
   "outputs": [
    {
     "name": "stdout",
     "output_type": "stream",
     "text": [
      "{'bagging_fraction': 0.8, 'bagging_freq': 2, 'feature_fraction': 0.8, 'learning_rate': 0.05, 'num_leaves': 50}\n"
     ]
    }
   ],
   "source": [
    "best_tiny = grid.best_params_\n",
    "print(best_tiny)"
   ]
  },
  {
   "cell_type": "markdown",
   "metadata": {},
   "source": [
    "##### DP"
   ]
  },
  {
   "cell_type": "code",
   "execution_count": 46,
   "metadata": {},
   "outputs": [
    {
     "name": "stdout",
     "output_type": "stream",
     "text": [
      "[LightGBM] [Warning] bagging_fraction is set=0.8, subsample=1.0 will be ignored. Current value: bagging_fraction=0.8\n",
      "[LightGBM] [Warning] feature_fraction is set=0.64, colsample_bytree=1.0 will be ignored. Current value: feature_fraction=0.64\n",
      "[LightGBM] [Warning] bagging_freq is set=1, subsample_freq=0 will be ignored. Current value: bagging_freq=1\n",
      "[LightGBM] [Warning] bagging_fraction is set=0.8, subsample=1.0 will be ignored. Current value: bagging_fraction=0.8\n",
      "[LightGBM] [Warning] feature_fraction is set=0.64, colsample_bytree=1.0 will be ignored. Current value: feature_fraction=0.64\n",
      "[LightGBM] [Warning] bagging_freq is set=1, subsample_freq=0 will be ignored. Current value: bagging_freq=1\n",
      "[LightGBM] [Warning] bagging_fraction is set=0.8, subsample=1.0 will be ignored. Current value: bagging_fraction=0.8\n",
      "[LightGBM] [Warning] feature_fraction is set=0.64, colsample_bytree=1.0 will be ignored. Current value: feature_fraction=0.64\n",
      "[LightGBM] [Warning] bagging_freq is set=1, subsample_freq=0 will be ignored. Current value: bagging_freq=1\n",
      "[LightGBM] [Warning] bagging_fraction is set=0.8, subsample=1.0 will be ignored. Current value: bagging_fraction=0.8\n",
      "[LightGBM] [Warning] feature_fraction is set=0.64, colsample_bytree=1.0 will be ignored. Current value: feature_fraction=0.64\n",
      "[LightGBM] [Warning] bagging_freq is set=1, subsample_freq=0 will be ignored. Current value: bagging_freq=1\n",
      "[LightGBM] [Warning] bagging_fraction is set=0.8, subsample=1.0 will be ignored. Current value: bagging_fraction=0.8\n",
      "[LightGBM] [Warning] feature_fraction is set=0.64, colsample_bytree=1.0 will be ignored. Current value: feature_fraction=0.64\n",
      "[LightGBM] [Warning] bagging_freq is set=1, subsample_freq=0 will be ignored. Current value: bagging_freq=1\n",
      "[LightGBM] [Warning] bagging_fraction is set=0.8, subsample=1.0 will be ignored. Current value: bagging_fraction=0.8\n",
      "[LightGBM] [Warning] feature_fraction is set=0.64, colsample_bytree=1.0 will be ignored. Current value: feature_fraction=0.64\n",
      "[LightGBM] [Warning] bagging_freq is set=1, subsample_freq=0 will be ignored. Current value: bagging_freq=1\n",
      "[LightGBM] [Warning] bagging_fraction is set=0.8, subsample=1.0 will be ignored. Current value: bagging_fraction=0.8\n",
      "[LightGBM] [Warning] feature_fraction is set=0.64, colsample_bytree=1.0 will be ignored. Current value: feature_fraction=0.64\n",
      "[LightGBM] [Warning] bagging_freq is set=1, subsample_freq=0 will be ignored. Current value: bagging_freq=1\n",
      "[LightGBM] [Warning] bagging_fraction is set=0.8, subsample=1.0 will be ignored. Current value: bagging_fraction=0.8\n",
      "[LightGBM] [Warning] feature_fraction is set=0.64, colsample_bytree=1.0 will be ignored. Current value: feature_fraction=0.64\n",
      "[LightGBM] [Warning] bagging_freq is set=1, subsample_freq=0 will be ignored. Current value: bagging_freq=1\n",
      "[LightGBM] [Warning] bagging_fraction is set=0.8, subsample=1.0 will be ignored. Current value: bagging_fraction=0.8\n",
      "[LightGBM] [Warning] feature_fraction is set=0.64, colsample_bytree=1.0 will be ignored. Current value: feature_fraction=0.64\n",
      "[LightGBM] [Warning] bagging_freq is set=1, subsample_freq=0 will be ignored. Current value: bagging_freq=1\n",
      "[LightGBM] [Warning] bagging_fraction is set=0.8, subsample=1.0 will be ignored. Current value: bagging_fraction=0.8\n",
      "[LightGBM] [Warning] feature_fraction is set=0.64, colsample_bytree=1.0 will be ignored. Current value: feature_fraction=0.64\n",
      "[LightGBM] [Warning] bagging_freq is set=1, subsample_freq=0 will be ignored. Current value: bagging_freq=1\n",
      "[LightGBM] [Warning] bagging_fraction is set=0.8, subsample=1.0 will be ignored. Current value: bagging_fraction=0.8\n",
      "[LightGBM] [Warning] feature_fraction is set=0.64, colsample_bytree=1.0 will be ignored. Current value: feature_fraction=0.64\n",
      "[LightGBM] [Warning] bagging_freq is set=1, subsample_freq=0 will be ignored. Current value: bagging_freq=1\n",
      "[LightGBM] [Warning] bagging_fraction is set=0.8, subsample=1.0 will be ignored. Current value: bagging_fraction=0.8\n",
      "[LightGBM] [Warning] feature_fraction is set=0.64, colsample_bytree=1.0 will be ignored. Current value: feature_fraction=0.64\n",
      "[LightGBM] [Warning] bagging_freq is set=1, subsample_freq=0 will be ignored. Current value: bagging_freq=1\n",
      "[LightGBM] [Warning] bagging_fraction is set=0.8, subsample=1.0 will be ignored. Current value: bagging_fraction=0.8\n",
      "[LightGBM] [Warning] feature_fraction is set=0.64, colsample_bytree=1.0 will be ignored. Current value: feature_fraction=0.64\n",
      "[LightGBM] [Warning] bagging_freq is set=1, subsample_freq=0 will be ignored. Current value: bagging_freq=1\n",
      "[LightGBM] [Warning] bagging_fraction is set=0.8, subsample=1.0 will be ignored. Current value: bagging_fraction=0.8\n",
      "[LightGBM] [Warning] feature_fraction is set=0.64, colsample_bytree=1.0 will be ignored. Current value: feature_fraction=0.64\n",
      "[LightGBM] [Warning] bagging_freq is set=1, subsample_freq=0 will be ignored. Current value: bagging_freq=1\n",
      "[LightGBM] [Warning] bagging_fraction is set=0.8, subsample=1.0 will be ignored. Current value: bagging_fraction=0.8\n",
      "[LightGBM] [Warning] feature_fraction is set=0.64, colsample_bytree=1.0 will be ignored. Current value: feature_fraction=0.64\n",
      "[LightGBM] [Warning] bagging_freq is set=1, subsample_freq=0 will be ignored. Current value: bagging_freq=1\n",
      "[LightGBM] [Warning] bagging_fraction is set=0.8, subsample=1.0 will be ignored. Current value: bagging_fraction=0.8\n",
      "[LightGBM] [Warning] feature_fraction is set=0.64, colsample_bytree=1.0 will be ignored. Current value: feature_fraction=0.64\n",
      "[LightGBM] [Warning] bagging_freq is set=1, subsample_freq=0 will be ignored. Current value: bagging_freq=1\n",
      "[LightGBM] [Warning] bagging_fraction is set=0.8, subsample=1.0 will be ignored. Current value: bagging_fraction=0.8\n",
      "[LightGBM] [Warning] feature_fraction is set=0.64, colsample_bytree=1.0 will be ignored. Current value: feature_fraction=0.64\n",
      "[LightGBM] [Warning] bagging_freq is set=1, subsample_freq=0 will be ignored. Current value: bagging_freq=1\n",
      "[LightGBM] [Warning] bagging_fraction is set=0.8, subsample=1.0 will be ignored. Current value: bagging_fraction=0.8\n",
      "[LightGBM] [Warning] feature_fraction is set=0.64, colsample_bytree=1.0 will be ignored. Current value: feature_fraction=0.64\n",
      "[LightGBM] [Warning] bagging_freq is set=1, subsample_freq=0 will be ignored. Current value: bagging_freq=1\n",
      "[LightGBM] [Warning] bagging_fraction is set=0.8, subsample=1.0 will be ignored. Current value: bagging_fraction=0.8\n",
      "[LightGBM] [Warning] feature_fraction is set=0.64, colsample_bytree=1.0 will be ignored. Current value: feature_fraction=0.64\n",
      "[LightGBM] [Warning] bagging_freq is set=1, subsample_freq=0 will be ignored. Current value: bagging_freq=1\n",
      "[LightGBM] [Warning] bagging_fraction is set=0.8, subsample=1.0 will be ignored. Current value: bagging_fraction=0.8\n",
      "[LightGBM] [Warning] feature_fraction is set=0.8, colsample_bytree=1.0 will be ignored. Current value: feature_fraction=0.8\n",
      "[LightGBM] [Warning] bagging_freq is set=1, subsample_freq=0 will be ignored. Current value: bagging_freq=1\n",
      "[LightGBM] [Warning] bagging_fraction is set=0.8, subsample=1.0 will be ignored. Current value: bagging_fraction=0.8\n",
      "[LightGBM] [Warning] feature_fraction is set=0.8, colsample_bytree=1.0 will be ignored. Current value: feature_fraction=0.8\n",
      "[LightGBM] [Warning] bagging_freq is set=1, subsample_freq=0 will be ignored. Current value: bagging_freq=1\n",
      "[LightGBM] [Warning] bagging_fraction is set=0.8, subsample=1.0 will be ignored. Current value: bagging_fraction=0.8\n",
      "[LightGBM] [Warning] feature_fraction is set=0.8, colsample_bytree=1.0 will be ignored. Current value: feature_fraction=0.8\n",
      "[LightGBM] [Warning] bagging_freq is set=1, subsample_freq=0 will be ignored. Current value: bagging_freq=1\n",
      "[LightGBM] [Warning] bagging_fraction is set=0.8, subsample=1.0 will be ignored. Current value: bagging_fraction=0.8\n",
      "[LightGBM] [Warning] feature_fraction is set=0.8, colsample_bytree=1.0 will be ignored. Current value: feature_fraction=0.8\n",
      "[LightGBM] [Warning] bagging_freq is set=1, subsample_freq=0 will be ignored. Current value: bagging_freq=1\n",
      "[LightGBM] [Warning] bagging_fraction is set=0.8, subsample=1.0 will be ignored. Current value: bagging_fraction=0.8\n",
      "[LightGBM] [Warning] feature_fraction is set=0.8, colsample_bytree=1.0 will be ignored. Current value: feature_fraction=0.8\n",
      "[LightGBM] [Warning] bagging_freq is set=1, subsample_freq=0 will be ignored. Current value: bagging_freq=1\n",
      "[LightGBM] [Warning] bagging_fraction is set=0.8, subsample=1.0 will be ignored. Current value: bagging_fraction=0.8\n",
      "[LightGBM] [Warning] feature_fraction is set=0.8, colsample_bytree=1.0 will be ignored. Current value: feature_fraction=0.8\n",
      "[LightGBM] [Warning] bagging_freq is set=1, subsample_freq=0 will be ignored. Current value: bagging_freq=1\n",
      "[LightGBM] [Warning] bagging_fraction is set=0.8, subsample=1.0 will be ignored. Current value: bagging_fraction=0.8\n",
      "[LightGBM] [Warning] feature_fraction is set=0.8, colsample_bytree=1.0 will be ignored. Current value: feature_fraction=0.8\n",
      "[LightGBM] [Warning] bagging_freq is set=1, subsample_freq=0 will be ignored. Current value: bagging_freq=1\n",
      "[LightGBM] [Warning] bagging_fraction is set=0.8, subsample=1.0 will be ignored. Current value: bagging_fraction=0.8\n",
      "[LightGBM] [Warning] feature_fraction is set=0.8, colsample_bytree=1.0 will be ignored. Current value: feature_fraction=0.8\n",
      "[LightGBM] [Warning] bagging_freq is set=1, subsample_freq=0 will be ignored. Current value: bagging_freq=1\n",
      "[LightGBM] [Warning] bagging_fraction is set=0.8, subsample=1.0 will be ignored. Current value: bagging_fraction=0.8\n",
      "[LightGBM] [Warning] feature_fraction is set=0.8, colsample_bytree=1.0 will be ignored. Current value: feature_fraction=0.8\n",
      "[LightGBM] [Warning] bagging_freq is set=1, subsample_freq=0 will be ignored. Current value: bagging_freq=1\n",
      "[LightGBM] [Warning] bagging_fraction is set=0.8, subsample=1.0 will be ignored. Current value: bagging_fraction=0.8\n",
      "[LightGBM] [Warning] feature_fraction is set=0.8, colsample_bytree=1.0 will be ignored. Current value: feature_fraction=0.8\n",
      "[LightGBM] [Warning] bagging_freq is set=1, subsample_freq=0 will be ignored. Current value: bagging_freq=1\n",
      "[LightGBM] [Warning] bagging_fraction is set=0.8, subsample=1.0 will be ignored. Current value: bagging_fraction=0.8\n",
      "[LightGBM] [Warning] feature_fraction is set=0.8, colsample_bytree=1.0 will be ignored. Current value: feature_fraction=0.8\n",
      "[LightGBM] [Warning] bagging_freq is set=1, subsample_freq=0 will be ignored. Current value: bagging_freq=1\n",
      "[LightGBM] [Warning] bagging_fraction is set=0.8, subsample=1.0 will be ignored. Current value: bagging_fraction=0.8\n",
      "[LightGBM] [Warning] feature_fraction is set=0.8, colsample_bytree=1.0 will be ignored. Current value: feature_fraction=0.8\n",
      "[LightGBM] [Warning] bagging_freq is set=1, subsample_freq=0 will be ignored. Current value: bagging_freq=1\n",
      "[LightGBM] [Warning] bagging_fraction is set=0.8, subsample=1.0 will be ignored. Current value: bagging_fraction=0.8\n",
      "[LightGBM] [Warning] feature_fraction is set=0.8, colsample_bytree=1.0 will be ignored. Current value: feature_fraction=0.8\n",
      "[LightGBM] [Warning] bagging_freq is set=1, subsample_freq=0 will be ignored. Current value: bagging_freq=1\n",
      "[LightGBM] [Warning] bagging_fraction is set=0.8, subsample=1.0 will be ignored. Current value: bagging_fraction=0.8\n",
      "[LightGBM] [Warning] feature_fraction is set=0.8, colsample_bytree=1.0 will be ignored. Current value: feature_fraction=0.8\n",
      "[LightGBM] [Warning] bagging_freq is set=1, subsample_freq=0 will be ignored. Current value: bagging_freq=1\n",
      "[LightGBM] [Warning] bagging_fraction is set=0.8, subsample=1.0 will be ignored. Current value: bagging_fraction=0.8\n",
      "[LightGBM] [Warning] feature_fraction is set=0.8, colsample_bytree=1.0 will be ignored. Current value: feature_fraction=0.8\n",
      "[LightGBM] [Warning] bagging_freq is set=1, subsample_freq=0 will be ignored. Current value: bagging_freq=1\n",
      "[LightGBM] [Warning] bagging_fraction is set=0.8, subsample=1.0 will be ignored. Current value: bagging_fraction=0.8\n",
      "[LightGBM] [Warning] feature_fraction is set=0.8, colsample_bytree=1.0 will be ignored. Current value: feature_fraction=0.8\n",
      "[LightGBM] [Warning] bagging_freq is set=1, subsample_freq=0 will be ignored. Current value: bagging_freq=1\n",
      "[LightGBM] [Warning] bagging_fraction is set=0.8, subsample=1.0 will be ignored. Current value: bagging_fraction=0.8\n",
      "[LightGBM] [Warning] feature_fraction is set=0.8, colsample_bytree=1.0 will be ignored. Current value: feature_fraction=0.8\n",
      "[LightGBM] [Warning] bagging_freq is set=1, subsample_freq=0 will be ignored. Current value: bagging_freq=1\n",
      "[LightGBM] [Warning] bagging_fraction is set=0.8, subsample=1.0 will be ignored. Current value: bagging_fraction=0.8\n",
      "[LightGBM] [Warning] feature_fraction is set=0.8, colsample_bytree=1.0 will be ignored. Current value: feature_fraction=0.8\n",
      "[LightGBM] [Warning] bagging_freq is set=1, subsample_freq=0 will be ignored. Current value: bagging_freq=1\n",
      "[LightGBM] [Warning] bagging_fraction is set=0.8, subsample=1.0 will be ignored. Current value: bagging_fraction=0.8\n",
      "[LightGBM] [Warning] feature_fraction is set=0.8, colsample_bytree=1.0 will be ignored. Current value: feature_fraction=0.8\n",
      "[LightGBM] [Warning] bagging_freq is set=1, subsample_freq=0 will be ignored. Current value: bagging_freq=1\n",
      "[LightGBM] [Warning] bagging_fraction is set=0.8, subsample=1.0 will be ignored. Current value: bagging_fraction=0.8\n",
      "[LightGBM] [Warning] feature_fraction is set=0.8, colsample_bytree=1.0 will be ignored. Current value: feature_fraction=0.8\n",
      "[LightGBM] [Warning] bagging_freq is set=1, subsample_freq=0 will be ignored. Current value: bagging_freq=1\n",
      "[LightGBM] [Warning] bagging_fraction is set=0.8, subsample=1.0 will be ignored. Current value: bagging_fraction=0.8\n",
      "[LightGBM] [Warning] feature_fraction is set=0.64, colsample_bytree=1.0 will be ignored. Current value: feature_fraction=0.64\n",
      "[LightGBM] [Warning] bagging_freq is set=2, subsample_freq=0 will be ignored. Current value: bagging_freq=2\n",
      "[LightGBM] [Warning] bagging_fraction is set=0.8, subsample=1.0 will be ignored. Current value: bagging_fraction=0.8\n",
      "[LightGBM] [Warning] feature_fraction is set=0.64, colsample_bytree=1.0 will be ignored. Current value: feature_fraction=0.64\n",
      "[LightGBM] [Warning] bagging_freq is set=2, subsample_freq=0 will be ignored. Current value: bagging_freq=2\n",
      "[LightGBM] [Warning] bagging_fraction is set=0.8, subsample=1.0 will be ignored. Current value: bagging_fraction=0.8\n",
      "[LightGBM] [Warning] feature_fraction is set=0.64, colsample_bytree=1.0 will be ignored. Current value: feature_fraction=0.64\n",
      "[LightGBM] [Warning] bagging_freq is set=2, subsample_freq=0 will be ignored. Current value: bagging_freq=2\n",
      "[LightGBM] [Warning] bagging_fraction is set=0.8, subsample=1.0 will be ignored. Current value: bagging_fraction=0.8\n",
      "[LightGBM] [Warning] feature_fraction is set=0.64, colsample_bytree=1.0 will be ignored. Current value: feature_fraction=0.64\n",
      "[LightGBM] [Warning] bagging_freq is set=2, subsample_freq=0 will be ignored. Current value: bagging_freq=2\n",
      "[LightGBM] [Warning] bagging_fraction is set=0.8, subsample=1.0 will be ignored. Current value: bagging_fraction=0.8\n",
      "[LightGBM] [Warning] feature_fraction is set=0.64, colsample_bytree=1.0 will be ignored. Current value: feature_fraction=0.64\n",
      "[LightGBM] [Warning] bagging_freq is set=2, subsample_freq=0 will be ignored. Current value: bagging_freq=2\n",
      "[LightGBM] [Warning] bagging_fraction is set=0.8, subsample=1.0 will be ignored. Current value: bagging_fraction=0.8\n",
      "[LightGBM] [Warning] feature_fraction is set=0.64, colsample_bytree=1.0 will be ignored. Current value: feature_fraction=0.64\n",
      "[LightGBM] [Warning] bagging_freq is set=2, subsample_freq=0 will be ignored. Current value: bagging_freq=2\n",
      "[LightGBM] [Warning] bagging_fraction is set=0.8, subsample=1.0 will be ignored. Current value: bagging_fraction=0.8\n",
      "[LightGBM] [Warning] feature_fraction is set=0.64, colsample_bytree=1.0 will be ignored. Current value: feature_fraction=0.64\n",
      "[LightGBM] [Warning] bagging_freq is set=2, subsample_freq=0 will be ignored. Current value: bagging_freq=2\n",
      "[LightGBM] [Warning] bagging_fraction is set=0.8, subsample=1.0 will be ignored. Current value: bagging_fraction=0.8\n",
      "[LightGBM] [Warning] feature_fraction is set=0.64, colsample_bytree=1.0 will be ignored. Current value: feature_fraction=0.64\n",
      "[LightGBM] [Warning] bagging_freq is set=2, subsample_freq=0 will be ignored. Current value: bagging_freq=2\n",
      "[LightGBM] [Warning] bagging_fraction is set=0.8, subsample=1.0 will be ignored. Current value: bagging_fraction=0.8\n",
      "[LightGBM] [Warning] feature_fraction is set=0.64, colsample_bytree=1.0 will be ignored. Current value: feature_fraction=0.64\n",
      "[LightGBM] [Warning] bagging_freq is set=2, subsample_freq=0 will be ignored. Current value: bagging_freq=2\n",
      "[LightGBM] [Warning] bagging_fraction is set=0.8, subsample=1.0 will be ignored. Current value: bagging_fraction=0.8\n",
      "[LightGBM] [Warning] feature_fraction is set=0.64, colsample_bytree=1.0 will be ignored. Current value: feature_fraction=0.64\n",
      "[LightGBM] [Warning] bagging_freq is set=2, subsample_freq=0 will be ignored. Current value: bagging_freq=2\n",
      "[LightGBM] [Warning] bagging_fraction is set=0.8, subsample=1.0 will be ignored. Current value: bagging_fraction=0.8\n",
      "[LightGBM] [Warning] feature_fraction is set=0.64, colsample_bytree=1.0 will be ignored. Current value: feature_fraction=0.64\n",
      "[LightGBM] [Warning] bagging_freq is set=2, subsample_freq=0 will be ignored. Current value: bagging_freq=2\n",
      "[LightGBM] [Warning] bagging_fraction is set=0.8, subsample=1.0 will be ignored. Current value: bagging_fraction=0.8\n",
      "[LightGBM] [Warning] feature_fraction is set=0.64, colsample_bytree=1.0 will be ignored. Current value: feature_fraction=0.64\n",
      "[LightGBM] [Warning] bagging_freq is set=2, subsample_freq=0 will be ignored. Current value: bagging_freq=2\n",
      "[LightGBM] [Warning] bagging_fraction is set=0.8, subsample=1.0 will be ignored. Current value: bagging_fraction=0.8\n",
      "[LightGBM] [Warning] feature_fraction is set=0.64, colsample_bytree=1.0 will be ignored. Current value: feature_fraction=0.64\n",
      "[LightGBM] [Warning] bagging_freq is set=2, subsample_freq=0 will be ignored. Current value: bagging_freq=2\n",
      "[LightGBM] [Warning] bagging_fraction is set=0.8, subsample=1.0 will be ignored. Current value: bagging_fraction=0.8\n",
      "[LightGBM] [Warning] feature_fraction is set=0.64, colsample_bytree=1.0 will be ignored. Current value: feature_fraction=0.64\n",
      "[LightGBM] [Warning] bagging_freq is set=2, subsample_freq=0 will be ignored. Current value: bagging_freq=2\n",
      "[LightGBM] [Warning] bagging_fraction is set=0.8, subsample=1.0 will be ignored. Current value: bagging_fraction=0.8\n",
      "[LightGBM] [Warning] feature_fraction is set=0.64, colsample_bytree=1.0 will be ignored. Current value: feature_fraction=0.64\n",
      "[LightGBM] [Warning] bagging_freq is set=2, subsample_freq=0 will be ignored. Current value: bagging_freq=2\n",
      "[LightGBM] [Warning] bagging_fraction is set=0.8, subsample=1.0 will be ignored. Current value: bagging_fraction=0.8\n",
      "[LightGBM] [Warning] feature_fraction is set=0.64, colsample_bytree=1.0 will be ignored. Current value: feature_fraction=0.64\n",
      "[LightGBM] [Warning] bagging_freq is set=2, subsample_freq=0 will be ignored. Current value: bagging_freq=2\n",
      "[LightGBM] [Warning] bagging_fraction is set=0.8, subsample=1.0 will be ignored. Current value: bagging_fraction=0.8\n",
      "[LightGBM] [Warning] feature_fraction is set=0.64, colsample_bytree=1.0 will be ignored. Current value: feature_fraction=0.64\n",
      "[LightGBM] [Warning] bagging_freq is set=2, subsample_freq=0 will be ignored. Current value: bagging_freq=2\n",
      "[LightGBM] [Warning] bagging_fraction is set=0.8, subsample=1.0 will be ignored. Current value: bagging_fraction=0.8\n",
      "[LightGBM] [Warning] feature_fraction is set=0.64, colsample_bytree=1.0 will be ignored. Current value: feature_fraction=0.64\n",
      "[LightGBM] [Warning] bagging_freq is set=2, subsample_freq=0 will be ignored. Current value: bagging_freq=2\n",
      "[LightGBM] [Warning] bagging_fraction is set=0.8, subsample=1.0 will be ignored. Current value: bagging_fraction=0.8\n",
      "[LightGBM] [Warning] feature_fraction is set=0.64, colsample_bytree=1.0 will be ignored. Current value: feature_fraction=0.64\n",
      "[LightGBM] [Warning] bagging_freq is set=2, subsample_freq=0 will be ignored. Current value: bagging_freq=2\n",
      "[LightGBM] [Warning] bagging_fraction is set=0.8, subsample=1.0 will be ignored. Current value: bagging_fraction=0.8\n",
      "[LightGBM] [Warning] feature_fraction is set=0.64, colsample_bytree=1.0 will be ignored. Current value: feature_fraction=0.64\n",
      "[LightGBM] [Warning] bagging_freq is set=2, subsample_freq=0 will be ignored. Current value: bagging_freq=2\n",
      "[LightGBM] [Warning] bagging_fraction is set=0.8, subsample=1.0 will be ignored. Current value: bagging_fraction=0.8\n",
      "[LightGBM] [Warning] feature_fraction is set=0.8, colsample_bytree=1.0 will be ignored. Current value: feature_fraction=0.8\n",
      "[LightGBM] [Warning] bagging_freq is set=2, subsample_freq=0 will be ignored. Current value: bagging_freq=2\n",
      "[LightGBM] [Warning] bagging_fraction is set=0.8, subsample=1.0 will be ignored. Current value: bagging_fraction=0.8\n",
      "[LightGBM] [Warning] feature_fraction is set=0.8, colsample_bytree=1.0 will be ignored. Current value: feature_fraction=0.8\n",
      "[LightGBM] [Warning] bagging_freq is set=2, subsample_freq=0 will be ignored. Current value: bagging_freq=2\n",
      "[LightGBM] [Warning] bagging_fraction is set=0.8, subsample=1.0 will be ignored. Current value: bagging_fraction=0.8\n",
      "[LightGBM] [Warning] feature_fraction is set=0.8, colsample_bytree=1.0 will be ignored. Current value: feature_fraction=0.8\n",
      "[LightGBM] [Warning] bagging_freq is set=2, subsample_freq=0 will be ignored. Current value: bagging_freq=2\n",
      "[LightGBM] [Warning] bagging_fraction is set=0.8, subsample=1.0 will be ignored. Current value: bagging_fraction=0.8\n",
      "[LightGBM] [Warning] feature_fraction is set=0.8, colsample_bytree=1.0 will be ignored. Current value: feature_fraction=0.8\n",
      "[LightGBM] [Warning] bagging_freq is set=2, subsample_freq=0 will be ignored. Current value: bagging_freq=2\n",
      "[LightGBM] [Warning] bagging_fraction is set=0.8, subsample=1.0 will be ignored. Current value: bagging_fraction=0.8\n",
      "[LightGBM] [Warning] feature_fraction is set=0.8, colsample_bytree=1.0 will be ignored. Current value: feature_fraction=0.8\n",
      "[LightGBM] [Warning] bagging_freq is set=2, subsample_freq=0 will be ignored. Current value: bagging_freq=2\n",
      "[LightGBM] [Warning] bagging_fraction is set=0.8, subsample=1.0 will be ignored. Current value: bagging_fraction=0.8\n",
      "[LightGBM] [Warning] feature_fraction is set=0.8, colsample_bytree=1.0 will be ignored. Current value: feature_fraction=0.8\n",
      "[LightGBM] [Warning] bagging_freq is set=2, subsample_freq=0 will be ignored. Current value: bagging_freq=2\n",
      "[LightGBM] [Warning] bagging_fraction is set=0.8, subsample=1.0 will be ignored. Current value: bagging_fraction=0.8\n",
      "[LightGBM] [Warning] feature_fraction is set=0.8, colsample_bytree=1.0 will be ignored. Current value: feature_fraction=0.8\n",
      "[LightGBM] [Warning] bagging_freq is set=2, subsample_freq=0 will be ignored. Current value: bagging_freq=2\n",
      "[LightGBM] [Warning] bagging_fraction is set=0.8, subsample=1.0 will be ignored. Current value: bagging_fraction=0.8\n",
      "[LightGBM] [Warning] feature_fraction is set=0.8, colsample_bytree=1.0 will be ignored. Current value: feature_fraction=0.8\n",
      "[LightGBM] [Warning] bagging_freq is set=2, subsample_freq=0 will be ignored. Current value: bagging_freq=2\n",
      "[LightGBM] [Warning] bagging_fraction is set=0.8, subsample=1.0 will be ignored. Current value: bagging_fraction=0.8\n",
      "[LightGBM] [Warning] feature_fraction is set=0.8, colsample_bytree=1.0 will be ignored. Current value: feature_fraction=0.8\n",
      "[LightGBM] [Warning] bagging_freq is set=2, subsample_freq=0 will be ignored. Current value: bagging_freq=2\n",
      "[LightGBM] [Warning] bagging_fraction is set=0.8, subsample=1.0 will be ignored. Current value: bagging_fraction=0.8\n",
      "[LightGBM] [Warning] feature_fraction is set=0.8, colsample_bytree=1.0 will be ignored. Current value: feature_fraction=0.8\n",
      "[LightGBM] [Warning] bagging_freq is set=2, subsample_freq=0 will be ignored. Current value: bagging_freq=2\n",
      "[LightGBM] [Warning] bagging_fraction is set=0.8, subsample=1.0 will be ignored. Current value: bagging_fraction=0.8\n",
      "[LightGBM] [Warning] feature_fraction is set=0.8, colsample_bytree=1.0 will be ignored. Current value: feature_fraction=0.8\n",
      "[LightGBM] [Warning] bagging_freq is set=2, subsample_freq=0 will be ignored. Current value: bagging_freq=2\n",
      "[LightGBM] [Warning] bagging_fraction is set=0.8, subsample=1.0 will be ignored. Current value: bagging_fraction=0.8\n",
      "[LightGBM] [Warning] feature_fraction is set=0.8, colsample_bytree=1.0 will be ignored. Current value: feature_fraction=0.8\n",
      "[LightGBM] [Warning] bagging_freq is set=2, subsample_freq=0 will be ignored. Current value: bagging_freq=2\n",
      "[LightGBM] [Warning] bagging_fraction is set=0.8, subsample=1.0 will be ignored. Current value: bagging_fraction=0.8\n",
      "[LightGBM] [Warning] feature_fraction is set=0.8, colsample_bytree=1.0 will be ignored. Current value: feature_fraction=0.8\n",
      "[LightGBM] [Warning] bagging_freq is set=2, subsample_freq=0 will be ignored. Current value: bagging_freq=2\n",
      "[LightGBM] [Warning] bagging_fraction is set=0.8, subsample=1.0 will be ignored. Current value: bagging_fraction=0.8\n",
      "[LightGBM] [Warning] feature_fraction is set=0.8, colsample_bytree=1.0 will be ignored. Current value: feature_fraction=0.8\n",
      "[LightGBM] [Warning] bagging_freq is set=2, subsample_freq=0 will be ignored. Current value: bagging_freq=2\n",
      "[LightGBM] [Warning] bagging_fraction is set=0.8, subsample=1.0 will be ignored. Current value: bagging_fraction=0.8\n",
      "[LightGBM] [Warning] feature_fraction is set=0.8, colsample_bytree=1.0 will be ignored. Current value: feature_fraction=0.8\n",
      "[LightGBM] [Warning] bagging_freq is set=2, subsample_freq=0 will be ignored. Current value: bagging_freq=2\n",
      "[LightGBM] [Warning] bagging_fraction is set=0.8, subsample=1.0 will be ignored. Current value: bagging_fraction=0.8\n",
      "[LightGBM] [Warning] feature_fraction is set=0.8, colsample_bytree=1.0 will be ignored. Current value: feature_fraction=0.8\n",
      "[LightGBM] [Warning] bagging_freq is set=2, subsample_freq=0 will be ignored. Current value: bagging_freq=2\n",
      "[LightGBM] [Warning] bagging_fraction is set=0.8, subsample=1.0 will be ignored. Current value: bagging_fraction=0.8\n",
      "[LightGBM] [Warning] feature_fraction is set=0.8, colsample_bytree=1.0 will be ignored. Current value: feature_fraction=0.8\n",
      "[LightGBM] [Warning] bagging_freq is set=2, subsample_freq=0 will be ignored. Current value: bagging_freq=2\n",
      "[LightGBM] [Warning] bagging_fraction is set=0.8, subsample=1.0 will be ignored. Current value: bagging_fraction=0.8\n",
      "[LightGBM] [Warning] feature_fraction is set=0.8, colsample_bytree=1.0 will be ignored. Current value: feature_fraction=0.8\n",
      "[LightGBM] [Warning] bagging_freq is set=2, subsample_freq=0 will be ignored. Current value: bagging_freq=2\n",
      "[LightGBM] [Warning] bagging_fraction is set=0.8, subsample=1.0 will be ignored. Current value: bagging_fraction=0.8\n",
      "[LightGBM] [Warning] feature_fraction is set=0.8, colsample_bytree=1.0 will be ignored. Current value: feature_fraction=0.8\n",
      "[LightGBM] [Warning] bagging_freq is set=2, subsample_freq=0 will be ignored. Current value: bagging_freq=2\n",
      "[LightGBM] [Warning] bagging_fraction is set=0.8, subsample=1.0 will be ignored. Current value: bagging_fraction=0.8\n",
      "[LightGBM] [Warning] feature_fraction is set=0.8, colsample_bytree=1.0 will be ignored. Current value: feature_fraction=0.8\n",
      "[LightGBM] [Warning] bagging_freq is set=2, subsample_freq=0 will be ignored. Current value: bagging_freq=2\n",
      "[LightGBM] [Warning] bagging_fraction is set=0.9, subsample=1.0 will be ignored. Current value: bagging_fraction=0.9\n",
      "[LightGBM] [Warning] feature_fraction is set=0.64, colsample_bytree=1.0 will be ignored. Current value: feature_fraction=0.64\n",
      "[LightGBM] [Warning] bagging_freq is set=1, subsample_freq=0 will be ignored. Current value: bagging_freq=1\n",
      "[LightGBM] [Warning] bagging_fraction is set=0.9, subsample=1.0 will be ignored. Current value: bagging_fraction=0.9\n",
      "[LightGBM] [Warning] feature_fraction is set=0.64, colsample_bytree=1.0 will be ignored. Current value: feature_fraction=0.64\n",
      "[LightGBM] [Warning] bagging_freq is set=1, subsample_freq=0 will be ignored. Current value: bagging_freq=1\n",
      "[LightGBM] [Warning] bagging_fraction is set=0.9, subsample=1.0 will be ignored. Current value: bagging_fraction=0.9\n",
      "[LightGBM] [Warning] feature_fraction is set=0.64, colsample_bytree=1.0 will be ignored. Current value: feature_fraction=0.64\n",
      "[LightGBM] [Warning] bagging_freq is set=1, subsample_freq=0 will be ignored. Current value: bagging_freq=1\n",
      "[LightGBM] [Warning] bagging_fraction is set=0.9, subsample=1.0 will be ignored. Current value: bagging_fraction=0.9\n",
      "[LightGBM] [Warning] feature_fraction is set=0.64, colsample_bytree=1.0 will be ignored. Current value: feature_fraction=0.64\n",
      "[LightGBM] [Warning] bagging_freq is set=1, subsample_freq=0 will be ignored. Current value: bagging_freq=1\n",
      "[LightGBM] [Warning] bagging_fraction is set=0.9, subsample=1.0 will be ignored. Current value: bagging_fraction=0.9\n",
      "[LightGBM] [Warning] feature_fraction is set=0.64, colsample_bytree=1.0 will be ignored. Current value: feature_fraction=0.64\n",
      "[LightGBM] [Warning] bagging_freq is set=1, subsample_freq=0 will be ignored. Current value: bagging_freq=1\n",
      "[LightGBM] [Warning] bagging_fraction is set=0.9, subsample=1.0 will be ignored. Current value: bagging_fraction=0.9\n",
      "[LightGBM] [Warning] feature_fraction is set=0.64, colsample_bytree=1.0 will be ignored. Current value: feature_fraction=0.64\n",
      "[LightGBM] [Warning] bagging_freq is set=1, subsample_freq=0 will be ignored. Current value: bagging_freq=1\n",
      "[LightGBM] [Warning] bagging_fraction is set=0.9, subsample=1.0 will be ignored. Current value: bagging_fraction=0.9\n",
      "[LightGBM] [Warning] feature_fraction is set=0.64, colsample_bytree=1.0 will be ignored. Current value: feature_fraction=0.64\n",
      "[LightGBM] [Warning] bagging_freq is set=1, subsample_freq=0 will be ignored. Current value: bagging_freq=1\n",
      "[LightGBM] [Warning] bagging_fraction is set=0.9, subsample=1.0 will be ignored. Current value: bagging_fraction=0.9\n",
      "[LightGBM] [Warning] feature_fraction is set=0.64, colsample_bytree=1.0 will be ignored. Current value: feature_fraction=0.64\n",
      "[LightGBM] [Warning] bagging_freq is set=1, subsample_freq=0 will be ignored. Current value: bagging_freq=1\n",
      "[LightGBM] [Warning] bagging_fraction is set=0.9, subsample=1.0 will be ignored. Current value: bagging_fraction=0.9\n",
      "[LightGBM] [Warning] feature_fraction is set=0.64, colsample_bytree=1.0 will be ignored. Current value: feature_fraction=0.64\n",
      "[LightGBM] [Warning] bagging_freq is set=1, subsample_freq=0 will be ignored. Current value: bagging_freq=1\n",
      "[LightGBM] [Warning] bagging_fraction is set=0.9, subsample=1.0 will be ignored. Current value: bagging_fraction=0.9\n",
      "[LightGBM] [Warning] feature_fraction is set=0.64, colsample_bytree=1.0 will be ignored. Current value: feature_fraction=0.64\n",
      "[LightGBM] [Warning] bagging_freq is set=1, subsample_freq=0 will be ignored. Current value: bagging_freq=1\n",
      "[LightGBM] [Warning] bagging_fraction is set=0.9, subsample=1.0 will be ignored. Current value: bagging_fraction=0.9\n",
      "[LightGBM] [Warning] feature_fraction is set=0.64, colsample_bytree=1.0 will be ignored. Current value: feature_fraction=0.64\n",
      "[LightGBM] [Warning] bagging_freq is set=1, subsample_freq=0 will be ignored. Current value: bagging_freq=1\n",
      "[LightGBM] [Warning] bagging_fraction is set=0.9, subsample=1.0 will be ignored. Current value: bagging_fraction=0.9\n",
      "[LightGBM] [Warning] feature_fraction is set=0.64, colsample_bytree=1.0 will be ignored. Current value: feature_fraction=0.64\n",
      "[LightGBM] [Warning] bagging_freq is set=1, subsample_freq=0 will be ignored. Current value: bagging_freq=1\n",
      "[LightGBM] [Warning] bagging_fraction is set=0.9, subsample=1.0 will be ignored. Current value: bagging_fraction=0.9\n",
      "[LightGBM] [Warning] feature_fraction is set=0.64, colsample_bytree=1.0 will be ignored. Current value: feature_fraction=0.64\n",
      "[LightGBM] [Warning] bagging_freq is set=1, subsample_freq=0 will be ignored. Current value: bagging_freq=1\n",
      "[LightGBM] [Warning] bagging_fraction is set=0.9, subsample=1.0 will be ignored. Current value: bagging_fraction=0.9\n",
      "[LightGBM] [Warning] feature_fraction is set=0.64, colsample_bytree=1.0 will be ignored. Current value: feature_fraction=0.64\n",
      "[LightGBM] [Warning] bagging_freq is set=1, subsample_freq=0 will be ignored. Current value: bagging_freq=1\n",
      "[LightGBM] [Warning] bagging_fraction is set=0.9, subsample=1.0 will be ignored. Current value: bagging_fraction=0.9\n",
      "[LightGBM] [Warning] feature_fraction is set=0.64, colsample_bytree=1.0 will be ignored. Current value: feature_fraction=0.64\n",
      "[LightGBM] [Warning] bagging_freq is set=1, subsample_freq=0 will be ignored. Current value: bagging_freq=1\n",
      "[LightGBM] [Warning] bagging_fraction is set=0.9, subsample=1.0 will be ignored. Current value: bagging_fraction=0.9\n",
      "[LightGBM] [Warning] feature_fraction is set=0.64, colsample_bytree=1.0 will be ignored. Current value: feature_fraction=0.64\n",
      "[LightGBM] [Warning] bagging_freq is set=1, subsample_freq=0 will be ignored. Current value: bagging_freq=1\n",
      "[LightGBM] [Warning] bagging_fraction is set=0.9, subsample=1.0 will be ignored. Current value: bagging_fraction=0.9\n",
      "[LightGBM] [Warning] feature_fraction is set=0.64, colsample_bytree=1.0 will be ignored. Current value: feature_fraction=0.64\n",
      "[LightGBM] [Warning] bagging_freq is set=1, subsample_freq=0 will be ignored. Current value: bagging_freq=1\n",
      "[LightGBM] [Warning] bagging_fraction is set=0.9, subsample=1.0 will be ignored. Current value: bagging_fraction=0.9\n",
      "[LightGBM] [Warning] feature_fraction is set=0.64, colsample_bytree=1.0 will be ignored. Current value: feature_fraction=0.64\n",
      "[LightGBM] [Warning] bagging_freq is set=1, subsample_freq=0 will be ignored. Current value: bagging_freq=1\n",
      "[LightGBM] [Warning] bagging_fraction is set=0.9, subsample=1.0 will be ignored. Current value: bagging_fraction=0.9\n",
      "[LightGBM] [Warning] feature_fraction is set=0.64, colsample_bytree=1.0 will be ignored. Current value: feature_fraction=0.64\n",
      "[LightGBM] [Warning] bagging_freq is set=1, subsample_freq=0 will be ignored. Current value: bagging_freq=1\n",
      "[LightGBM] [Warning] bagging_fraction is set=0.9, subsample=1.0 will be ignored. Current value: bagging_fraction=0.9\n",
      "[LightGBM] [Warning] feature_fraction is set=0.64, colsample_bytree=1.0 will be ignored. Current value: feature_fraction=0.64\n",
      "[LightGBM] [Warning] bagging_freq is set=1, subsample_freq=0 will be ignored. Current value: bagging_freq=1\n",
      "[LightGBM] [Warning] bagging_fraction is set=0.9, subsample=1.0 will be ignored. Current value: bagging_fraction=0.9\n",
      "[LightGBM] [Warning] feature_fraction is set=0.8, colsample_bytree=1.0 will be ignored. Current value: feature_fraction=0.8\n",
      "[LightGBM] [Warning] bagging_freq is set=1, subsample_freq=0 will be ignored. Current value: bagging_freq=1\n",
      "[LightGBM] [Warning] bagging_fraction is set=0.9, subsample=1.0 will be ignored. Current value: bagging_fraction=0.9\n",
      "[LightGBM] [Warning] feature_fraction is set=0.8, colsample_bytree=1.0 will be ignored. Current value: feature_fraction=0.8\n",
      "[LightGBM] [Warning] bagging_freq is set=1, subsample_freq=0 will be ignored. Current value: bagging_freq=1\n",
      "[LightGBM] [Warning] bagging_fraction is set=0.9, subsample=1.0 will be ignored. Current value: bagging_fraction=0.9\n",
      "[LightGBM] [Warning] feature_fraction is set=0.8, colsample_bytree=1.0 will be ignored. Current value: feature_fraction=0.8\n",
      "[LightGBM] [Warning] bagging_freq is set=1, subsample_freq=0 will be ignored. Current value: bagging_freq=1\n",
      "[LightGBM] [Warning] bagging_fraction is set=0.9, subsample=1.0 will be ignored. Current value: bagging_fraction=0.9\n",
      "[LightGBM] [Warning] feature_fraction is set=0.8, colsample_bytree=1.0 will be ignored. Current value: feature_fraction=0.8\n",
      "[LightGBM] [Warning] bagging_freq is set=1, subsample_freq=0 will be ignored. Current value: bagging_freq=1\n",
      "[LightGBM] [Warning] bagging_fraction is set=0.9, subsample=1.0 will be ignored. Current value: bagging_fraction=0.9\n",
      "[LightGBM] [Warning] feature_fraction is set=0.8, colsample_bytree=1.0 will be ignored. Current value: feature_fraction=0.8\n",
      "[LightGBM] [Warning] bagging_freq is set=1, subsample_freq=0 will be ignored. Current value: bagging_freq=1\n",
      "[LightGBM] [Warning] bagging_fraction is set=0.9, subsample=1.0 will be ignored. Current value: bagging_fraction=0.9\n",
      "[LightGBM] [Warning] feature_fraction is set=0.8, colsample_bytree=1.0 will be ignored. Current value: feature_fraction=0.8\n",
      "[LightGBM] [Warning] bagging_freq is set=1, subsample_freq=0 will be ignored. Current value: bagging_freq=1\n",
      "[LightGBM] [Warning] bagging_fraction is set=0.9, subsample=1.0 will be ignored. Current value: bagging_fraction=0.9\n",
      "[LightGBM] [Warning] feature_fraction is set=0.8, colsample_bytree=1.0 will be ignored. Current value: feature_fraction=0.8\n",
      "[LightGBM] [Warning] bagging_freq is set=1, subsample_freq=0 will be ignored. Current value: bagging_freq=1\n",
      "[LightGBM] [Warning] bagging_fraction is set=0.9, subsample=1.0 will be ignored. Current value: bagging_fraction=0.9\n",
      "[LightGBM] [Warning] feature_fraction is set=0.8, colsample_bytree=1.0 will be ignored. Current value: feature_fraction=0.8\n",
      "[LightGBM] [Warning] bagging_freq is set=1, subsample_freq=0 will be ignored. Current value: bagging_freq=1\n",
      "[LightGBM] [Warning] bagging_fraction is set=0.9, subsample=1.0 will be ignored. Current value: bagging_fraction=0.9\n",
      "[LightGBM] [Warning] feature_fraction is set=0.8, colsample_bytree=1.0 will be ignored. Current value: feature_fraction=0.8\n",
      "[LightGBM] [Warning] bagging_freq is set=1, subsample_freq=0 will be ignored. Current value: bagging_freq=1\n",
      "[LightGBM] [Warning] bagging_fraction is set=0.9, subsample=1.0 will be ignored. Current value: bagging_fraction=0.9\n",
      "[LightGBM] [Warning] feature_fraction is set=0.8, colsample_bytree=1.0 will be ignored. Current value: feature_fraction=0.8\n",
      "[LightGBM] [Warning] bagging_freq is set=1, subsample_freq=0 will be ignored. Current value: bagging_freq=1\n",
      "[LightGBM] [Warning] bagging_fraction is set=0.9, subsample=1.0 will be ignored. Current value: bagging_fraction=0.9\n",
      "[LightGBM] [Warning] feature_fraction is set=0.8, colsample_bytree=1.0 will be ignored. Current value: feature_fraction=0.8\n",
      "[LightGBM] [Warning] bagging_freq is set=1, subsample_freq=0 will be ignored. Current value: bagging_freq=1\n",
      "[LightGBM] [Warning] bagging_fraction is set=0.9, subsample=1.0 will be ignored. Current value: bagging_fraction=0.9\n",
      "[LightGBM] [Warning] feature_fraction is set=0.8, colsample_bytree=1.0 will be ignored. Current value: feature_fraction=0.8\n",
      "[LightGBM] [Warning] bagging_freq is set=1, subsample_freq=0 will be ignored. Current value: bagging_freq=1\n",
      "[LightGBM] [Warning] bagging_fraction is set=0.9, subsample=1.0 will be ignored. Current value: bagging_fraction=0.9\n",
      "[LightGBM] [Warning] feature_fraction is set=0.8, colsample_bytree=1.0 will be ignored. Current value: feature_fraction=0.8\n",
      "[LightGBM] [Warning] bagging_freq is set=1, subsample_freq=0 will be ignored. Current value: bagging_freq=1\n",
      "[LightGBM] [Warning] bagging_fraction is set=0.9, subsample=1.0 will be ignored. Current value: bagging_fraction=0.9\n",
      "[LightGBM] [Warning] feature_fraction is set=0.8, colsample_bytree=1.0 will be ignored. Current value: feature_fraction=0.8\n",
      "[LightGBM] [Warning] bagging_freq is set=1, subsample_freq=0 will be ignored. Current value: bagging_freq=1\n",
      "[LightGBM] [Warning] bagging_fraction is set=0.9, subsample=1.0 will be ignored. Current value: bagging_fraction=0.9\n",
      "[LightGBM] [Warning] feature_fraction is set=0.8, colsample_bytree=1.0 will be ignored. Current value: feature_fraction=0.8\n",
      "[LightGBM] [Warning] bagging_freq is set=1, subsample_freq=0 will be ignored. Current value: bagging_freq=1\n",
      "[LightGBM] [Warning] bagging_fraction is set=0.9, subsample=1.0 will be ignored. Current value: bagging_fraction=0.9\n",
      "[LightGBM] [Warning] feature_fraction is set=0.8, colsample_bytree=1.0 will be ignored. Current value: feature_fraction=0.8\n",
      "[LightGBM] [Warning] bagging_freq is set=1, subsample_freq=0 will be ignored. Current value: bagging_freq=1\n",
      "[LightGBM] [Warning] bagging_fraction is set=0.9, subsample=1.0 will be ignored. Current value: bagging_fraction=0.9\n",
      "[LightGBM] [Warning] feature_fraction is set=0.8, colsample_bytree=1.0 will be ignored. Current value: feature_fraction=0.8\n",
      "[LightGBM] [Warning] bagging_freq is set=1, subsample_freq=0 will be ignored. Current value: bagging_freq=1\n",
      "[LightGBM] [Warning] bagging_fraction is set=0.9, subsample=1.0 will be ignored. Current value: bagging_fraction=0.9\n",
      "[LightGBM] [Warning] feature_fraction is set=0.8, colsample_bytree=1.0 will be ignored. Current value: feature_fraction=0.8\n",
      "[LightGBM] [Warning] bagging_freq is set=1, subsample_freq=0 will be ignored. Current value: bagging_freq=1\n",
      "[LightGBM] [Warning] bagging_fraction is set=0.9, subsample=1.0 will be ignored. Current value: bagging_fraction=0.9\n",
      "[LightGBM] [Warning] feature_fraction is set=0.8, colsample_bytree=1.0 will be ignored. Current value: feature_fraction=0.8\n",
      "[LightGBM] [Warning] bagging_freq is set=1, subsample_freq=0 will be ignored. Current value: bagging_freq=1\n",
      "[LightGBM] [Warning] bagging_fraction is set=0.9, subsample=1.0 will be ignored. Current value: bagging_fraction=0.9\n",
      "[LightGBM] [Warning] feature_fraction is set=0.8, colsample_bytree=1.0 will be ignored. Current value: feature_fraction=0.8\n",
      "[LightGBM] [Warning] bagging_freq is set=1, subsample_freq=0 will be ignored. Current value: bagging_freq=1\n",
      "[LightGBM] [Warning] bagging_fraction is set=0.9, subsample=1.0 will be ignored. Current value: bagging_fraction=0.9\n",
      "[LightGBM] [Warning] feature_fraction is set=0.64, colsample_bytree=1.0 will be ignored. Current value: feature_fraction=0.64\n",
      "[LightGBM] [Warning] bagging_freq is set=2, subsample_freq=0 will be ignored. Current value: bagging_freq=2\n",
      "[LightGBM] [Warning] bagging_fraction is set=0.9, subsample=1.0 will be ignored. Current value: bagging_fraction=0.9\n",
      "[LightGBM] [Warning] feature_fraction is set=0.64, colsample_bytree=1.0 will be ignored. Current value: feature_fraction=0.64\n",
      "[LightGBM] [Warning] bagging_freq is set=2, subsample_freq=0 will be ignored. Current value: bagging_freq=2\n",
      "[LightGBM] [Warning] bagging_fraction is set=0.9, subsample=1.0 will be ignored. Current value: bagging_fraction=0.9\n",
      "[LightGBM] [Warning] feature_fraction is set=0.64, colsample_bytree=1.0 will be ignored. Current value: feature_fraction=0.64\n",
      "[LightGBM] [Warning] bagging_freq is set=2, subsample_freq=0 will be ignored. Current value: bagging_freq=2\n",
      "[LightGBM] [Warning] bagging_fraction is set=0.9, subsample=1.0 will be ignored. Current value: bagging_fraction=0.9\n",
      "[LightGBM] [Warning] feature_fraction is set=0.64, colsample_bytree=1.0 will be ignored. Current value: feature_fraction=0.64\n",
      "[LightGBM] [Warning] bagging_freq is set=2, subsample_freq=0 will be ignored. Current value: bagging_freq=2\n",
      "[LightGBM] [Warning] bagging_fraction is set=0.9, subsample=1.0 will be ignored. Current value: bagging_fraction=0.9\n",
      "[LightGBM] [Warning] feature_fraction is set=0.64, colsample_bytree=1.0 will be ignored. Current value: feature_fraction=0.64\n",
      "[LightGBM] [Warning] bagging_freq is set=2, subsample_freq=0 will be ignored. Current value: bagging_freq=2\n",
      "[LightGBM] [Warning] bagging_fraction is set=0.9, subsample=1.0 will be ignored. Current value: bagging_fraction=0.9\n",
      "[LightGBM] [Warning] feature_fraction is set=0.64, colsample_bytree=1.0 will be ignored. Current value: feature_fraction=0.64\n",
      "[LightGBM] [Warning] bagging_freq is set=2, subsample_freq=0 will be ignored. Current value: bagging_freq=2\n",
      "[LightGBM] [Warning] bagging_fraction is set=0.9, subsample=1.0 will be ignored. Current value: bagging_fraction=0.9\n",
      "[LightGBM] [Warning] feature_fraction is set=0.64, colsample_bytree=1.0 will be ignored. Current value: feature_fraction=0.64\n",
      "[LightGBM] [Warning] bagging_freq is set=2, subsample_freq=0 will be ignored. Current value: bagging_freq=2\n",
      "[LightGBM] [Warning] bagging_fraction is set=0.9, subsample=1.0 will be ignored. Current value: bagging_fraction=0.9\n",
      "[LightGBM] [Warning] feature_fraction is set=0.64, colsample_bytree=1.0 will be ignored. Current value: feature_fraction=0.64\n",
      "[LightGBM] [Warning] bagging_freq is set=2, subsample_freq=0 will be ignored. Current value: bagging_freq=2\n",
      "[LightGBM] [Warning] bagging_fraction is set=0.9, subsample=1.0 will be ignored. Current value: bagging_fraction=0.9\n",
      "[LightGBM] [Warning] feature_fraction is set=0.64, colsample_bytree=1.0 will be ignored. Current value: feature_fraction=0.64\n",
      "[LightGBM] [Warning] bagging_freq is set=2, subsample_freq=0 will be ignored. Current value: bagging_freq=2\n",
      "[LightGBM] [Warning] bagging_fraction is set=0.9, subsample=1.0 will be ignored. Current value: bagging_fraction=0.9\n",
      "[LightGBM] [Warning] feature_fraction is set=0.64, colsample_bytree=1.0 will be ignored. Current value: feature_fraction=0.64\n",
      "[LightGBM] [Warning] bagging_freq is set=2, subsample_freq=0 will be ignored. Current value: bagging_freq=2\n",
      "[LightGBM] [Warning] bagging_fraction is set=0.9, subsample=1.0 will be ignored. Current value: bagging_fraction=0.9\n",
      "[LightGBM] [Warning] feature_fraction is set=0.64, colsample_bytree=1.0 will be ignored. Current value: feature_fraction=0.64\n",
      "[LightGBM] [Warning] bagging_freq is set=2, subsample_freq=0 will be ignored. Current value: bagging_freq=2\n",
      "[LightGBM] [Warning] bagging_fraction is set=0.9, subsample=1.0 will be ignored. Current value: bagging_fraction=0.9\n",
      "[LightGBM] [Warning] feature_fraction is set=0.64, colsample_bytree=1.0 will be ignored. Current value: feature_fraction=0.64\n",
      "[LightGBM] [Warning] bagging_freq is set=2, subsample_freq=0 will be ignored. Current value: bagging_freq=2\n",
      "[LightGBM] [Warning] bagging_fraction is set=0.9, subsample=1.0 will be ignored. Current value: bagging_fraction=0.9\n",
      "[LightGBM] [Warning] feature_fraction is set=0.64, colsample_bytree=1.0 will be ignored. Current value: feature_fraction=0.64\n",
      "[LightGBM] [Warning] bagging_freq is set=2, subsample_freq=0 will be ignored. Current value: bagging_freq=2\n",
      "[LightGBM] [Warning] bagging_fraction is set=0.9, subsample=1.0 will be ignored. Current value: bagging_fraction=0.9\n",
      "[LightGBM] [Warning] feature_fraction is set=0.64, colsample_bytree=1.0 will be ignored. Current value: feature_fraction=0.64\n",
      "[LightGBM] [Warning] bagging_freq is set=2, subsample_freq=0 will be ignored. Current value: bagging_freq=2\n",
      "[LightGBM] [Warning] bagging_fraction is set=0.9, subsample=1.0 will be ignored. Current value: bagging_fraction=0.9\n",
      "[LightGBM] [Warning] feature_fraction is set=0.64, colsample_bytree=1.0 will be ignored. Current value: feature_fraction=0.64\n",
      "[LightGBM] [Warning] bagging_freq is set=2, subsample_freq=0 will be ignored. Current value: bagging_freq=2\n",
      "[LightGBM] [Warning] bagging_fraction is set=0.9, subsample=1.0 will be ignored. Current value: bagging_fraction=0.9\n",
      "[LightGBM] [Warning] feature_fraction is set=0.64, colsample_bytree=1.0 will be ignored. Current value: feature_fraction=0.64\n",
      "[LightGBM] [Warning] bagging_freq is set=2, subsample_freq=0 will be ignored. Current value: bagging_freq=2\n",
      "[LightGBM] [Warning] bagging_fraction is set=0.9, subsample=1.0 will be ignored. Current value: bagging_fraction=0.9\n",
      "[LightGBM] [Warning] feature_fraction is set=0.64, colsample_bytree=1.0 will be ignored. Current value: feature_fraction=0.64\n",
      "[LightGBM] [Warning] bagging_freq is set=2, subsample_freq=0 will be ignored. Current value: bagging_freq=2\n",
      "[LightGBM] [Warning] bagging_fraction is set=0.9, subsample=1.0 will be ignored. Current value: bagging_fraction=0.9\n",
      "[LightGBM] [Warning] feature_fraction is set=0.64, colsample_bytree=1.0 will be ignored. Current value: feature_fraction=0.64\n",
      "[LightGBM] [Warning] bagging_freq is set=2, subsample_freq=0 will be ignored. Current value: bagging_freq=2\n",
      "[LightGBM] [Warning] bagging_fraction is set=0.9, subsample=1.0 will be ignored. Current value: bagging_fraction=0.9\n",
      "[LightGBM] [Warning] feature_fraction is set=0.64, colsample_bytree=1.0 will be ignored. Current value: feature_fraction=0.64\n",
      "[LightGBM] [Warning] bagging_freq is set=2, subsample_freq=0 will be ignored. Current value: bagging_freq=2\n",
      "[LightGBM] [Warning] bagging_fraction is set=0.9, subsample=1.0 will be ignored. Current value: bagging_fraction=0.9\n",
      "[LightGBM] [Warning] feature_fraction is set=0.64, colsample_bytree=1.0 will be ignored. Current value: feature_fraction=0.64\n",
      "[LightGBM] [Warning] bagging_freq is set=2, subsample_freq=0 will be ignored. Current value: bagging_freq=2\n",
      "[LightGBM] [Warning] bagging_fraction is set=0.9, subsample=1.0 will be ignored. Current value: bagging_fraction=0.9\n",
      "[LightGBM] [Warning] feature_fraction is set=0.8, colsample_bytree=1.0 will be ignored. Current value: feature_fraction=0.8\n",
      "[LightGBM] [Warning] bagging_freq is set=2, subsample_freq=0 will be ignored. Current value: bagging_freq=2\n",
      "[LightGBM] [Warning] bagging_fraction is set=0.9, subsample=1.0 will be ignored. Current value: bagging_fraction=0.9\n",
      "[LightGBM] [Warning] feature_fraction is set=0.8, colsample_bytree=1.0 will be ignored. Current value: feature_fraction=0.8\n",
      "[LightGBM] [Warning] bagging_freq is set=2, subsample_freq=0 will be ignored. Current value: bagging_freq=2\n",
      "[LightGBM] [Warning] bagging_fraction is set=0.9, subsample=1.0 will be ignored. Current value: bagging_fraction=0.9\n",
      "[LightGBM] [Warning] feature_fraction is set=0.8, colsample_bytree=1.0 will be ignored. Current value: feature_fraction=0.8\n",
      "[LightGBM] [Warning] bagging_freq is set=2, subsample_freq=0 will be ignored. Current value: bagging_freq=2\n",
      "[LightGBM] [Warning] bagging_fraction is set=0.9, subsample=1.0 will be ignored. Current value: bagging_fraction=0.9\n",
      "[LightGBM] [Warning] feature_fraction is set=0.8, colsample_bytree=1.0 will be ignored. Current value: feature_fraction=0.8\n",
      "[LightGBM] [Warning] bagging_freq is set=2, subsample_freq=0 will be ignored. Current value: bagging_freq=2\n",
      "[LightGBM] [Warning] bagging_fraction is set=0.9, subsample=1.0 will be ignored. Current value: bagging_fraction=0.9\n",
      "[LightGBM] [Warning] feature_fraction is set=0.8, colsample_bytree=1.0 will be ignored. Current value: feature_fraction=0.8\n",
      "[LightGBM] [Warning] bagging_freq is set=2, subsample_freq=0 will be ignored. Current value: bagging_freq=2\n",
      "[LightGBM] [Warning] bagging_fraction is set=0.9, subsample=1.0 will be ignored. Current value: bagging_fraction=0.9\n",
      "[LightGBM] [Warning] feature_fraction is set=0.8, colsample_bytree=1.0 will be ignored. Current value: feature_fraction=0.8\n",
      "[LightGBM] [Warning] bagging_freq is set=2, subsample_freq=0 will be ignored. Current value: bagging_freq=2\n",
      "[LightGBM] [Warning] bagging_fraction is set=0.9, subsample=1.0 will be ignored. Current value: bagging_fraction=0.9\n",
      "[LightGBM] [Warning] feature_fraction is set=0.8, colsample_bytree=1.0 will be ignored. Current value: feature_fraction=0.8\n",
      "[LightGBM] [Warning] bagging_freq is set=2, subsample_freq=0 will be ignored. Current value: bagging_freq=2\n",
      "[LightGBM] [Warning] bagging_fraction is set=0.9, subsample=1.0 will be ignored. Current value: bagging_fraction=0.9\n",
      "[LightGBM] [Warning] feature_fraction is set=0.8, colsample_bytree=1.0 will be ignored. Current value: feature_fraction=0.8\n",
      "[LightGBM] [Warning] bagging_freq is set=2, subsample_freq=0 will be ignored. Current value: bagging_freq=2\n",
      "[LightGBM] [Warning] bagging_fraction is set=0.9, subsample=1.0 will be ignored. Current value: bagging_fraction=0.9\n",
      "[LightGBM] [Warning] feature_fraction is set=0.8, colsample_bytree=1.0 will be ignored. Current value: feature_fraction=0.8\n",
      "[LightGBM] [Warning] bagging_freq is set=2, subsample_freq=0 will be ignored. Current value: bagging_freq=2\n",
      "[LightGBM] [Warning] bagging_fraction is set=0.9, subsample=1.0 will be ignored. Current value: bagging_fraction=0.9\n",
      "[LightGBM] [Warning] feature_fraction is set=0.8, colsample_bytree=1.0 will be ignored. Current value: feature_fraction=0.8\n",
      "[LightGBM] [Warning] bagging_freq is set=2, subsample_freq=0 will be ignored. Current value: bagging_freq=2\n",
      "[LightGBM] [Warning] bagging_fraction is set=0.9, subsample=1.0 will be ignored. Current value: bagging_fraction=0.9\n",
      "[LightGBM] [Warning] feature_fraction is set=0.8, colsample_bytree=1.0 will be ignored. Current value: feature_fraction=0.8\n",
      "[LightGBM] [Warning] bagging_freq is set=2, subsample_freq=0 will be ignored. Current value: bagging_freq=2\n",
      "[LightGBM] [Warning] bagging_fraction is set=0.9, subsample=1.0 will be ignored. Current value: bagging_fraction=0.9\n",
      "[LightGBM] [Warning] feature_fraction is set=0.8, colsample_bytree=1.0 will be ignored. Current value: feature_fraction=0.8\n",
      "[LightGBM] [Warning] bagging_freq is set=2, subsample_freq=0 will be ignored. Current value: bagging_freq=2\n",
      "[LightGBM] [Warning] bagging_fraction is set=0.9, subsample=1.0 will be ignored. Current value: bagging_fraction=0.9\n",
      "[LightGBM] [Warning] feature_fraction is set=0.8, colsample_bytree=1.0 will be ignored. Current value: feature_fraction=0.8\n",
      "[LightGBM] [Warning] bagging_freq is set=2, subsample_freq=0 will be ignored. Current value: bagging_freq=2\n",
      "[LightGBM] [Warning] bagging_fraction is set=0.9, subsample=1.0 will be ignored. Current value: bagging_fraction=0.9\n",
      "[LightGBM] [Warning] feature_fraction is set=0.8, colsample_bytree=1.0 will be ignored. Current value: feature_fraction=0.8\n",
      "[LightGBM] [Warning] bagging_freq is set=2, subsample_freq=0 will be ignored. Current value: bagging_freq=2\n",
      "[LightGBM] [Warning] bagging_fraction is set=0.9, subsample=1.0 will be ignored. Current value: bagging_fraction=0.9\n",
      "[LightGBM] [Warning] feature_fraction is set=0.8, colsample_bytree=1.0 will be ignored. Current value: feature_fraction=0.8\n",
      "[LightGBM] [Warning] bagging_freq is set=2, subsample_freq=0 will be ignored. Current value: bagging_freq=2\n",
      "[LightGBM] [Warning] bagging_fraction is set=0.9, subsample=1.0 will be ignored. Current value: bagging_fraction=0.9\n",
      "[LightGBM] [Warning] feature_fraction is set=0.8, colsample_bytree=1.0 will be ignored. Current value: feature_fraction=0.8\n",
      "[LightGBM] [Warning] bagging_freq is set=2, subsample_freq=0 will be ignored. Current value: bagging_freq=2\n",
      "[LightGBM] [Warning] bagging_fraction is set=0.9, subsample=1.0 will be ignored. Current value: bagging_fraction=0.9\n",
      "[LightGBM] [Warning] feature_fraction is set=0.8, colsample_bytree=1.0 will be ignored. Current value: feature_fraction=0.8\n",
      "[LightGBM] [Warning] bagging_freq is set=2, subsample_freq=0 will be ignored. Current value: bagging_freq=2\n",
      "[LightGBM] [Warning] bagging_fraction is set=0.9, subsample=1.0 will be ignored. Current value: bagging_fraction=0.9\n",
      "[LightGBM] [Warning] feature_fraction is set=0.8, colsample_bytree=1.0 will be ignored. Current value: feature_fraction=0.8\n",
      "[LightGBM] [Warning] bagging_freq is set=2, subsample_freq=0 will be ignored. Current value: bagging_freq=2\n",
      "[LightGBM] [Warning] bagging_fraction is set=0.9, subsample=1.0 will be ignored. Current value: bagging_fraction=0.9\n",
      "[LightGBM] [Warning] feature_fraction is set=0.8, colsample_bytree=1.0 will be ignored. Current value: feature_fraction=0.8\n",
      "[LightGBM] [Warning] bagging_freq is set=2, subsample_freq=0 will be ignored. Current value: bagging_freq=2\n",
      "[LightGBM] [Warning] bagging_fraction is set=0.9, subsample=1.0 will be ignored. Current value: bagging_fraction=0.9\n",
      "[LightGBM] [Warning] feature_fraction is set=0.8, colsample_bytree=1.0 will be ignored. Current value: feature_fraction=0.8\n",
      "[LightGBM] [Warning] bagging_freq is set=2, subsample_freq=0 will be ignored. Current value: bagging_freq=2\n",
      "[LightGBM] [Warning] bagging_fraction is set=0.8, subsample=1.0 will be ignored. Current value: bagging_fraction=0.8\n",
      "[LightGBM] [Warning] feature_fraction is set=0.8, colsample_bytree=1.0 will be ignored. Current value: feature_fraction=0.8\n",
      "[LightGBM] [Warning] bagging_freq is set=1, subsample_freq=0 will be ignored. Current value: bagging_freq=1\n"
     ]
    },
    {
     "data": {
      "text/plain": [
       "GridSearchCV(cv=5,\n",
       "             estimator=LGBMClassifier(num_iterations=500, objective='binary',\n",
       "                                      random_state=12345),\n",
       "             param_grid={'bagging_fraction': [0.8, 0.9], 'bagging_freq': [1, 2],\n",
       "                         'feature_fraction': [0.64, 0.8],\n",
       "                         'learning_rate': [0.02, 0.05],\n",
       "                         'num_leaves': [50, 75]},\n",
       "             scoring='accuracy', verbose=False)"
      ]
     },
     "execution_count": 46,
     "metadata": {},
     "output_type": "execute_result"
    }
   ],
   "source": [
    "grid.fit(features_DP, target)"
   ]
  },
  {
   "cell_type": "code",
   "execution_count": 47,
   "metadata": {},
   "outputs": [
    {
     "name": "stdout",
     "output_type": "stream",
     "text": [
      "{'bagging_fraction': 0.8, 'bagging_freq': 1, 'feature_fraction': 0.8, 'learning_rate': 0.05, 'num_leaves': 50}\n"
     ]
    }
   ],
   "source": [
    "best_DP = grid.best_params_\n",
    "print(best_DP)"
   ]
  },
  {
   "cell_type": "markdown",
   "metadata": {},
   "source": [
    "#### Обучение модели с найденными гиперпараметрами"
   ]
  },
  {
   "cell_type": "code",
   "execution_count": 48,
   "metadata": {},
   "outputs": [],
   "source": [
    "model_tiny_LGB = lgb.LGBMClassifier(\n",
    "                                     random_state=12345,\n",
    "                                     boosting_type='gbdt', \n",
    "                                     objective='binary', \n",
    "                                     num_iterations=500,\n",
    "                                     bagging_fraction=best_tiny['bagging_fraction'], \n",
    "                                     bagging_freq=best_tiny['bagging_freq'], \n",
    "                                     feature_fraction=best_tiny['feature_fraction'],\n",
    "                                     learning_rate=best_tiny['learning_rate'],\n",
    "                                     num_leaves=best_tiny['num_leaves']\n",
    "    \n",
    "                                    )         \n",
    "                                        \n",
    "\n",
    "model_DP_LGB = lgb.LGBMClassifier(\n",
    "                                     random_state=12345,\n",
    "                                     boosting_type='gbdt', \n",
    "                                     objective='binary', \n",
    "                                     num_iterations=500,\n",
    "                                     bagging_fraction=best_DP['bagging_fraction'], \n",
    "                                     bagging_freq=best_DP['bagging_freq'], \n",
    "                                     feature_fraction=best_DP['feature_fraction'],\n",
    "                                     learning_rate=best_DP['learning_rate'],\n",
    "                                     num_leaves=best_DP['num_leaves']\n",
    "    \n",
    "                                   )         "
   ]
  },
  {
   "cell_type": "code",
   "execution_count": 49,
   "metadata": {},
   "outputs": [],
   "source": [
    "start_time = time.time()\n",
    "\n",
    "model_tiny_LGB.fit(features_tiny_train, target_train)\n",
    "\n",
    "time_fit_LGB.append((time.time() - start_time)) "
   ]
  },
  {
   "cell_type": "code",
   "execution_count": 50,
   "metadata": {},
   "outputs": [],
   "source": [
    "start_time = time.time()\n",
    "\n",
    "model_DP_LGB.fit(features_DP_train, target_train)\n",
    "\n",
    "time_fit_LGB.append((time.time() - start_time))"
   ]
  },
  {
   "cell_type": "code",
   "execution_count": 51,
   "metadata": {},
   "outputs": [],
   "source": [
    "start_time = time.time()\n",
    "\n",
    "predicted = model_tiny_LGB.predict(features_tiny_test)\n",
    "\n",
    "time_predict_LGB.append((time.time() - start_time)) "
   ]
  },
  {
   "cell_type": "code",
   "execution_count": 52,
   "metadata": {},
   "outputs": [
    {
     "name": "stdout",
     "output_type": "stream",
     "text": [
      "accuracy: 0.93\n"
     ]
    }
   ],
   "source": [
    "print(\"accuracy:\", accuracy_score(target_test, predicted))\n",
    "\n",
    "accuracy_LGB.append(accuracy_score(target_test, predicted))"
   ]
  },
  {
   "cell_type": "code",
   "execution_count": 53,
   "metadata": {},
   "outputs": [],
   "source": [
    "start_time = time.time()\n",
    "\n",
    "predicted = model_DP_LGB.predict(features_DP_test)\n",
    "\n",
    "time_predict_LGB.append((time.time() - start_time))"
   ]
  },
  {
   "cell_type": "code",
   "execution_count": 54,
   "metadata": {},
   "outputs": [
    {
     "name": "stdout",
     "output_type": "stream",
     "text": [
      "accuracy: 0.94\n"
     ]
    }
   ],
   "source": [
    "print(\"accuracy:\", accuracy_score(target_test, predicted))\n",
    "\n",
    "accuracy_LGB.append(accuracy_score(target_test, predicted))"
   ]
  },
  {
   "cell_type": "markdown",
   "metadata": {},
   "source": [
    "### RandomForestClassifier"
   ]
  },
  {
   "cell_type": "markdown",
   "metadata": {},
   "source": [
    "#### Нахождение оптимальных гиперпараметров"
   ]
  },
  {
   "cell_type": "code",
   "execution_count": 55,
   "metadata": {},
   "outputs": [],
   "source": [
    "RF = RandomForestClassifier(random_state=12345)"
   ]
  },
  {
   "cell_type": "code",
   "execution_count": 56,
   "metadata": {},
   "outputs": [],
   "source": [
    "parametrs = { \n",
    "              'n_estimators': range (60, 71, 10),\n",
    "              'max_depth': range (9,11, 1),\n",
    "              'min_samples_leaf': range (10, 13, 1),\n",
    "              'min_samples_split': range (10, 13, 1) \n",
    "             }"
   ]
  },
  {
   "cell_type": "code",
   "execution_count": 57,
   "metadata": {},
   "outputs": [],
   "source": [
    "grid = GridSearchCV(RF, parametrs, cv=5, scoring='accuracy')\n"
   ]
  },
  {
   "cell_type": "markdown",
   "metadata": {},
   "source": [
    "##### tiny"
   ]
  },
  {
   "cell_type": "code",
   "execution_count": 58,
   "metadata": {},
   "outputs": [
    {
     "data": {
      "text/plain": [
       "GridSearchCV(cv=5, estimator=RandomForestClassifier(random_state=12345),\n",
       "             param_grid={'max_depth': range(9, 11),\n",
       "                         'min_samples_leaf': range(10, 13),\n",
       "                         'min_samples_split': range(10, 13),\n",
       "                         'n_estimators': range(60, 71, 10)},\n",
       "             scoring='accuracy')"
      ]
     },
     "execution_count": 58,
     "metadata": {},
     "output_type": "execute_result"
    }
   ],
   "source": [
    "grid.fit(features_tiny, target)"
   ]
  },
  {
   "cell_type": "code",
   "execution_count": 59,
   "metadata": {},
   "outputs": [
    {
     "name": "stdout",
     "output_type": "stream",
     "text": [
      "{'max_depth': 10, 'min_samples_leaf': 10, 'min_samples_split': 10, 'n_estimators': 70}\n"
     ]
    }
   ],
   "source": [
    "best_tiny = grid.best_params_\n",
    "print(best_tiny)"
   ]
  },
  {
   "cell_type": "markdown",
   "metadata": {},
   "source": [
    "##### DP"
   ]
  },
  {
   "cell_type": "code",
   "execution_count": 60,
   "metadata": {},
   "outputs": [
    {
     "data": {
      "text/plain": [
       "GridSearchCV(cv=5, estimator=RandomForestClassifier(random_state=12345),\n",
       "             param_grid={'max_depth': range(9, 11),\n",
       "                         'min_samples_leaf': range(10, 13),\n",
       "                         'min_samples_split': range(10, 13),\n",
       "                         'n_estimators': range(60, 71, 10)},\n",
       "             scoring='accuracy')"
      ]
     },
     "execution_count": 60,
     "metadata": {},
     "output_type": "execute_result"
    }
   ],
   "source": [
    "grid.fit(features_DP, target)"
   ]
  },
  {
   "cell_type": "code",
   "execution_count": 61,
   "metadata": {},
   "outputs": [
    {
     "name": "stdout",
     "output_type": "stream",
     "text": [
      "{'max_depth': 9, 'min_samples_leaf': 10, 'min_samples_split': 10, 'n_estimators': 60}\n"
     ]
    }
   ],
   "source": [
    "best_DP = grid.best_params_\n",
    "print(best_DP)"
   ]
  },
  {
   "cell_type": "markdown",
   "metadata": {},
   "source": [
    "#### Обучение модели с найденными гиперпараметрами"
   ]
  },
  {
   "cell_type": "code",
   "execution_count": 62,
   "metadata": {},
   "outputs": [],
   "source": [
    "model_tiny_RF = RandomForestClassifier(\n",
    "                                        random_state=12345,\n",
    "                                        n_estimators=best_tiny['n_estimators'],\n",
    "                                        max_depth=best_tiny['max_depth'],\n",
    "                                        min_samples_leaf=best_tiny['min_samples_leaf'],\n",
    "                                        min_samples_split=best_tiny['min_samples_split']\n",
    "\n",
    "                                    )         \n",
    "                                        \n",
    "\n",
    "model_DP_RF = RandomForestClassifier(\n",
    "                                        random_state=12345,\n",
    "                                        n_estimators=best_DP['n_estimators'],\n",
    "                                        max_depth=best_DP['max_depth'],\n",
    "                                        min_samples_leaf=best_DP['min_samples_leaf'],\n",
    "                                        min_samples_split=best_DP['min_samples_split']\n",
    "\n",
    "                                    )            "
   ]
  },
  {
   "cell_type": "code",
   "execution_count": 63,
   "metadata": {},
   "outputs": [],
   "source": [
    "start_time = time.time()\n",
    "\n",
    "model_tiny_RF.fit(features_tiny_train, target_train)\n",
    "\n",
    "time_fit_RF.append((time.time() - start_time)) "
   ]
  },
  {
   "cell_type": "code",
   "execution_count": 64,
   "metadata": {},
   "outputs": [],
   "source": [
    "start_time = time.time()\n",
    "\n",
    "model_DP_RF.fit(features_DP_train, target_train)\n",
    "\n",
    "time_fit_RF.append((time.time() - start_time))"
   ]
  },
  {
   "cell_type": "code",
   "execution_count": 65,
   "metadata": {},
   "outputs": [],
   "source": [
    "start_time = time.time()\n",
    "\n",
    "predicted = model_tiny_RF.predict(features_tiny_test)\n",
    "\n",
    "time_predict_RF.append((time.time() - start_time)) "
   ]
  },
  {
   "cell_type": "code",
   "execution_count": 66,
   "metadata": {},
   "outputs": [
    {
     "name": "stdout",
     "output_type": "stream",
     "text": [
      "accuracy: 0.8666666666666667\n"
     ]
    }
   ],
   "source": [
    "print(\"accuracy:\", accuracy_score(target_test, predicted))\n",
    "\n",
    "accuracy_RF.append(accuracy_score(target_test, predicted))"
   ]
  },
  {
   "cell_type": "code",
   "execution_count": 67,
   "metadata": {},
   "outputs": [],
   "source": [
    "start_time = time.time()\n",
    "\n",
    "predicted = model_DP_RF.predict(features_DP_test)\n",
    "\n",
    "time_predict_RF.append((time.time() - start_time))"
   ]
  },
  {
   "cell_type": "code",
   "execution_count": 68,
   "metadata": {},
   "outputs": [
    {
     "name": "stdout",
     "output_type": "stream",
     "text": [
      "accuracy: 0.93\n"
     ]
    }
   ],
   "source": [
    "print(\"accuracy:\", accuracy_score(target_test, predicted))\n",
    "\n",
    "accuracy_RF.append(accuracy_score(target_test, predicted))"
   ]
  },
  {
   "cell_type": "markdown",
   "metadata": {},
   "source": [
    "### CatBoostClassifier"
   ]
  },
  {
   "cell_type": "markdown",
   "metadata": {},
   "source": [
    "#### Нахождение оптимальных гиперпараметров"
   ]
  },
  {
   "cell_type": "code",
   "execution_count": 69,
   "metadata": {},
   "outputs": [],
   "source": [
    "CB = CatBoostClassifier(random_state=12345, silent=True)"
   ]
  },
  {
   "cell_type": "code",
   "execution_count": 70,
   "metadata": {},
   "outputs": [],
   "source": [
    "parameters = {\n",
    "        'iterations':range(255,259,1),\n",
    "        'max_depth':range(3,5,1),\n",
    "        'learning_rate': [0.3, 0.35]\n",
    "        }"
   ]
  },
  {
   "cell_type": "code",
   "execution_count": 71,
   "metadata": {},
   "outputs": [],
   "source": [
    "grid = GridSearchCV(CB, param_grid=parameters, scoring='accuracy', \n",
    "                   cv=5, verbose=False)"
   ]
  },
  {
   "cell_type": "markdown",
   "metadata": {},
   "source": [
    "##### tiny"
   ]
  },
  {
   "cell_type": "code",
   "execution_count": 72,
   "metadata": {},
   "outputs": [
    {
     "data": {
      "text/plain": [
       "GridSearchCV(cv=5,\n",
       "             estimator=<catboost.core.CatBoostClassifier object at 0x7fcd5a9e5490>,\n",
       "             param_grid={'iterations': range(255, 259),\n",
       "                         'learning_rate': [0.3, 0.35],\n",
       "                         'max_depth': range(3, 5)},\n",
       "             scoring='accuracy', verbose=False)"
      ]
     },
     "execution_count": 72,
     "metadata": {},
     "output_type": "execute_result"
    }
   ],
   "source": [
    "grid.fit(features_tiny, target)"
   ]
  },
  {
   "cell_type": "code",
   "execution_count": 73,
   "metadata": {},
   "outputs": [
    {
     "name": "stdout",
     "output_type": "stream",
     "text": [
      "{'iterations': 255, 'learning_rate': 0.35, 'max_depth': 4}\n"
     ]
    }
   ],
   "source": [
    "best_tiny = grid.best_params_\n",
    "print(best_tiny)"
   ]
  },
  {
   "cell_type": "markdown",
   "metadata": {},
   "source": [
    "##### DP"
   ]
  },
  {
   "cell_type": "code",
   "execution_count": 74,
   "metadata": {},
   "outputs": [
    {
     "data": {
      "text/plain": [
       "GridSearchCV(cv=5,\n",
       "             estimator=<catboost.core.CatBoostClassifier object at 0x7fcd5a9e5490>,\n",
       "             param_grid={'iterations': range(255, 259),\n",
       "                         'learning_rate': [0.3, 0.35],\n",
       "                         'max_depth': range(3, 5)},\n",
       "             scoring='accuracy', verbose=False)"
      ]
     },
     "execution_count": 74,
     "metadata": {},
     "output_type": "execute_result"
    }
   ],
   "source": [
    "grid.fit(features_DP, target)"
   ]
  },
  {
   "cell_type": "code",
   "execution_count": 75,
   "metadata": {},
   "outputs": [
    {
     "name": "stdout",
     "output_type": "stream",
     "text": [
      "{'iterations': 255, 'learning_rate': 0.3, 'max_depth': 3}\n"
     ]
    }
   ],
   "source": [
    "best_DP = grid.best_params_\n",
    "print(best_DP)"
   ]
  },
  {
   "cell_type": "markdown",
   "metadata": {},
   "source": [
    "#### Обучение модели с найденными гиперпараметрами"
   ]
  },
  {
   "cell_type": "code",
   "execution_count": 76,
   "metadata": {},
   "outputs": [],
   "source": [
    "model_tiny_CB = CatBoostClassifier(\n",
    "                                     random_state=12345,\n",
    "                                     silent=True,\n",
    "                                     iterations=best_tiny['iterations'],\n",
    "                                     max_depth=best_tiny['max_depth'],\n",
    "                                     learning_rate=best_tiny['learning_rate']\n",
    "                                   )         \n",
    "                                        \n",
    "\n",
    "    \n",
    "model_DP_CB = CatBoostClassifier(\n",
    "                                    random_state=12345,\n",
    "                                    silent=True,\n",
    "                                    iterations=best_DP['iterations'],\n",
    "                                    max_depth=best_DP['max_depth'],\n",
    "                                    learning_rate=best_DP['learning_rate']\n",
    "                                 )            "
   ]
  },
  {
   "cell_type": "code",
   "execution_count": 77,
   "metadata": {},
   "outputs": [],
   "source": [
    "start_time = time.time()\n",
    "\n",
    "model_tiny_CB.fit(features_tiny_train, target_train)\n",
    "\n",
    "time_fit_CB.append((time.time() - start_time)) "
   ]
  },
  {
   "cell_type": "code",
   "execution_count": 78,
   "metadata": {},
   "outputs": [],
   "source": [
    "start_time = time.time()\n",
    "\n",
    "model_DP_CB.fit(features_DP_train, target_train)\n",
    "\n",
    "time_fit_CB.append((time.time() - start_time))"
   ]
  },
  {
   "cell_type": "code",
   "execution_count": 79,
   "metadata": {},
   "outputs": [],
   "source": [
    "start_time = time.time()\n",
    "\n",
    "predicted = model_tiny_CB.predict(features_tiny_test)\n",
    "\n",
    "time_predict_CB.append((time.time() - start_time)) "
   ]
  },
  {
   "cell_type": "code",
   "execution_count": 80,
   "metadata": {},
   "outputs": [
    {
     "name": "stdout",
     "output_type": "stream",
     "text": [
      "accuracy: 0.9533333333333334\n"
     ]
    }
   ],
   "source": [
    "print(\"accuracy:\", accuracy_score(target_test, predicted))\n",
    "\n",
    "accuracy_CB.append(accuracy_score(target_test, predicted))"
   ]
  },
  {
   "cell_type": "code",
   "execution_count": 81,
   "metadata": {},
   "outputs": [],
   "source": [
    "start_time = time.time()\n",
    "\n",
    "predicted = model_DP_CB.predict(features_DP_test)\n",
    "\n",
    "time_predict_CB.append((time.time() - start_time))"
   ]
  },
  {
   "cell_type": "code",
   "execution_count": 82,
   "metadata": {},
   "outputs": [
    {
     "name": "stdout",
     "output_type": "stream",
     "text": [
      "accuracy: 0.95\n"
     ]
    }
   ],
   "source": [
    "print(\"accuracy:\", accuracy_score(target_test, predicted))\n",
    "\n",
    "accuracy_CB.append(accuracy_score(target_test, predicted))"
   ]
  },
  {
   "cell_type": "markdown",
   "metadata": {},
   "source": [
    "## Анализ моделей "
   ]
  },
  {
   "cell_type": "code",
   "execution_count": 83,
   "metadata": {},
   "outputs": [],
   "source": [
    "tok_emb = pd.DataFrame({'t_tok': time_tokenized, 't_emb': time_embeddings})\n",
    "\n",
    "tok_emb.index = ['tiny', 'RDP']"
   ]
  },
  {
   "cell_type": "code",
   "execution_count": 84,
   "metadata": {},
   "outputs": [],
   "source": [
    "time_acc = pd.DataFrame({'t_f_LR': time_fit_LR,\n",
    "                    't_pr_LR': time_predict_LR,\n",
    "                    'acc_LR': accuracy_LR,\n",
    "                    't_f_LGB': time_fit_LGB,\n",
    "                    't_pr_LGB': time_predict_LGB,\n",
    "                    'acc_LGB': accuracy_LGB,\n",
    "                    't_f_RF': time_fit_RF,\n",
    "                    't_pr_RF': time_predict_RF,\n",
    "                    'acc_RF': accuracy_RF,\n",
    "                    't_f_CB': time_fit_CB,\n",
    "                    't_pr_CB': time_predict_CB,\n",
    "                    'acc_CB': accuracy_CB   \n",
    "                   })\n",
    "\n",
    "time_acc.index = ['tiny', 'RDP']\n",
    "\n",
    "                  "
   ]
  },
  {
   "cell_type": "code",
   "execution_count": 85,
   "metadata": {},
   "outputs": [
    {
     "data": {
      "text/html": [
       "<div>\n",
       "<style scoped>\n",
       "    .dataframe tbody tr th:only-of-type {\n",
       "        vertical-align: middle;\n",
       "    }\n",
       "\n",
       "    .dataframe tbody tr th {\n",
       "        vertical-align: top;\n",
       "    }\n",
       "\n",
       "    .dataframe thead th {\n",
       "        text-align: right;\n",
       "    }\n",
       "</style>\n",
       "<table border=\"1\" class=\"dataframe\">\n",
       "  <thead>\n",
       "    <tr style=\"text-align: right;\">\n",
       "      <th></th>\n",
       "      <th>t_tok</th>\n",
       "      <th>t_emb</th>\n",
       "    </tr>\n",
       "  </thead>\n",
       "  <tbody>\n",
       "    <tr>\n",
       "      <th>tiny</th>\n",
       "      <td>0.130876</td>\n",
       "      <td>24.838691</td>\n",
       "    </tr>\n",
       "    <tr>\n",
       "      <th>RDP</th>\n",
       "      <td>0.419546</td>\n",
       "      <td>473.222061</td>\n",
       "    </tr>\n",
       "  </tbody>\n",
       "</table>\n",
       "</div>"
      ],
      "text/plain": [
       "         t_tok       t_emb\n",
       "tiny  0.130876   24.838691\n",
       "RDP   0.419546  473.222061"
      ]
     },
     "metadata": {},
     "output_type": "display_data"
    }
   ],
   "source": [
    "display(tok_emb)"
   ]
  },
  {
   "cell_type": "code",
   "execution_count": 86,
   "metadata": {},
   "outputs": [
    {
     "data": {
      "text/html": [
       "<div>\n",
       "<style scoped>\n",
       "    .dataframe tbody tr th:only-of-type {\n",
       "        vertical-align: middle;\n",
       "    }\n",
       "\n",
       "    .dataframe tbody tr th {\n",
       "        vertical-align: top;\n",
       "    }\n",
       "\n",
       "    .dataframe thead th {\n",
       "        text-align: right;\n",
       "    }\n",
       "</style>\n",
       "<table border=\"1\" class=\"dataframe\">\n",
       "  <thead>\n",
       "    <tr style=\"text-align: right;\">\n",
       "      <th></th>\n",
       "      <th>t_f_LR</th>\n",
       "      <th>t_pr_LR</th>\n",
       "      <th>acc_LR</th>\n",
       "      <th>t_f_LGB</th>\n",
       "      <th>t_pr_LGB</th>\n",
       "      <th>acc_LGB</th>\n",
       "      <th>t_f_RF</th>\n",
       "      <th>t_pr_RF</th>\n",
       "      <th>acc_RF</th>\n",
       "      <th>t_f_CB</th>\n",
       "      <th>t_pr_CB</th>\n",
       "      <th>acc_CB</th>\n",
       "    </tr>\n",
       "  </thead>\n",
       "  <tbody>\n",
       "    <tr>\n",
       "      <th>tiny</th>\n",
       "      <td>0.790749</td>\n",
       "      <td>0.002598</td>\n",
       "      <td>0.966667</td>\n",
       "      <td>11.647986</td>\n",
       "      <td>0.004962</td>\n",
       "      <td>0.93</td>\n",
       "      <td>0.337412</td>\n",
       "      <td>0.012095</td>\n",
       "      <td>0.866667</td>\n",
       "      <td>8.167623</td>\n",
       "      <td>0.002911</td>\n",
       "      <td>0.953333</td>\n",
       "    </tr>\n",
       "    <tr>\n",
       "      <th>RDP</th>\n",
       "      <td>1.097439</td>\n",
       "      <td>0.001214</td>\n",
       "      <td>0.956667</td>\n",
       "      <td>30.189998</td>\n",
       "      <td>0.005369</td>\n",
       "      <td>0.94</td>\n",
       "      <td>0.394571</td>\n",
       "      <td>0.009439</td>\n",
       "      <td>0.930000</td>\n",
       "      <td>12.178745</td>\n",
       "      <td>0.006588</td>\n",
       "      <td>0.950000</td>\n",
       "    </tr>\n",
       "  </tbody>\n",
       "</table>\n",
       "</div>"
      ],
      "text/plain": [
       "        t_f_LR   t_pr_LR    acc_LR    t_f_LGB  t_pr_LGB  acc_LGB    t_f_RF  \\\n",
       "tiny  0.790749  0.002598  0.966667  11.647986  0.004962     0.93  0.337412   \n",
       "RDP   1.097439  0.001214  0.956667  30.189998  0.005369     0.94  0.394571   \n",
       "\n",
       "       t_pr_RF    acc_RF     t_f_CB   t_pr_CB    acc_CB  \n",
       "tiny  0.012095  0.866667   8.167623  0.002911  0.953333  \n",
       "RDP   0.009439  0.930000  12.178745  0.006588  0.950000  "
      ]
     },
     "metadata": {},
     "output_type": "display_data"
    }
   ],
   "source": [
    "display(time_acc)"
   ]
  },
  {
   "cell_type": "markdown",
   "metadata": {},
   "source": [
    "## Вывод"
   ]
  },
  {
   "cell_type": "markdown",
   "metadata": {},
   "source": [
    "По результатам исследования можно сделать следующие выводы: \n",
    "\n",
    "1. Модель на основе алгоритма RuDERT-tiny значительно быстрее создает эмбеддинги из текста (почти в 20 раз быстрее RuDERT-DeepPavlov).\n",
    "\n",
    "2. Так же на основе эмбеддингов от RuDERT-tiny более простые модели классификации обучаются быстрее. \n",
    "\n",
    "3. Лучший accuracy и самое быстрое время обучения показала модель LogisticRegression со следующими гиперпараметрами: C=1, class_weight='balanced', работающая на эмбеддингах от RuDERT-tiny.\n",
    "\n",
    "4. Вот такие дела."
   ]
  }
 ],
 "metadata": {
  "ExecuteTimeLog": [
   {
    "duration": 396,
    "start_time": "2022-01-11T05:26:04.136Z"
   },
   {
    "duration": 324,
    "start_time": "2022-01-11T05:26:12.479Z"
   },
   {
    "duration": 6324,
    "start_time": "2022-01-11T05:26:16.299Z"
   },
   {
    "duration": 31,
    "start_time": "2022-01-11T05:26:22.625Z"
   },
   {
    "duration": 2712,
    "start_time": "2022-01-11T05:26:22.659Z"
   },
   {
    "duration": 5651,
    "start_time": "2022-01-11T05:26:25.374Z"
   },
   {
    "duration": 5619,
    "start_time": "2022-01-11T05:33:21.721Z"
   },
   {
    "duration": 4,
    "start_time": "2022-01-11T05:33:35.760Z"
   },
   {
    "duration": 32,
    "start_time": "2022-01-11T05:33:39.851Z"
   },
   {
    "duration": 367,
    "start_time": "2022-01-11T05:33:41.276Z"
   },
   {
    "duration": 5623,
    "start_time": "2022-01-11T05:33:42.200Z"
   },
   {
    "duration": 187871,
    "start_time": "2022-01-11T05:33:51.073Z"
   },
   {
    "duration": 4,
    "start_time": "2022-01-11T05:40:14.579Z"
   },
   {
    "duration": 13,
    "start_time": "2022-01-11T05:40:14.982Z"
   },
   {
    "duration": 6,
    "start_time": "2022-01-11T05:40:42.463Z"
   },
   {
    "duration": 3,
    "start_time": "2022-01-11T05:51:01.679Z"
   },
   {
    "duration": 3,
    "start_time": "2022-01-11T05:51:02.056Z"
   },
   {
    "duration": 4,
    "start_time": "2022-01-11T05:51:02.525Z"
   },
   {
    "duration": 6,
    "start_time": "2022-01-11T05:51:02.995Z"
   },
   {
    "duration": 1017,
    "start_time": "2022-01-11T05:51:03.353Z"
   },
   {
    "duration": 3,
    "start_time": "2022-01-11T05:51:25.415Z"
   },
   {
    "duration": 6,
    "start_time": "2022-01-11T05:51:25.704Z"
   },
   {
    "duration": 83,
    "start_time": "2022-01-11T05:51:26.145Z"
   },
   {
    "duration": 2893,
    "start_time": "2022-05-31T09:47:57.817Z"
   },
   {
    "duration": 44,
    "start_time": "2022-05-31T09:48:00.712Z"
   },
   {
    "duration": 360,
    "start_time": "2022-05-31T09:48:00.760Z"
   },
   {
    "duration": 2156,
    "start_time": "2022-05-31T09:48:01.122Z"
   },
   {
    "duration": 55730,
    "start_time": "2022-05-31T09:48:03.280Z"
   },
   {
    "duration": 3,
    "start_time": "2022-05-31T09:48:59.011Z"
   },
   {
    "duration": 9,
    "start_time": "2022-05-31T09:48:59.016Z"
   },
   {
    "duration": 116,
    "start_time": "2022-05-31T09:48:59.026Z"
   },
   {
    "duration": 3259,
    "start_time": "2022-05-31T09:51:59.687Z"
   },
   {
    "duration": 48,
    "start_time": "2022-05-31T09:52:04.321Z"
   },
   {
    "duration": 263,
    "start_time": "2022-05-31T09:52:05.389Z"
   },
   {
    "duration": 61,
    "start_time": "2022-05-31T09:52:32.880Z"
   },
   {
    "duration": 42,
    "start_time": "2022-05-31T09:52:34.748Z"
   },
   {
    "duration": 8471,
    "start_time": "2022-05-31T09:52:35.308Z"
   },
   {
    "duration": 2502,
    "start_time": "2022-05-31T09:52:48.355Z"
   },
   {
    "duration": 4701,
    "start_time": "2022-05-31T09:52:53.411Z"
   },
   {
    "duration": 5,
    "start_time": "2022-05-31T09:52:59.439Z"
   },
   {
    "duration": 19,
    "start_time": "2022-05-31T09:53:00.756Z"
   },
   {
    "duration": 52,
    "start_time": "2022-05-31T09:58:04.078Z"
   },
   {
    "duration": 3157,
    "start_time": "2022-05-31T09:58:12.640Z"
   },
   {
    "duration": 43,
    "start_time": "2022-05-31T09:58:15.799Z"
   },
   {
    "duration": 4631,
    "start_time": "2022-05-31T09:58:15.843Z"
   },
   {
    "duration": 3,
    "start_time": "2022-05-31T09:58:20.476Z"
   },
   {
    "duration": 13,
    "start_time": "2022-05-31T09:58:31.131Z"
   },
   {
    "duration": 4,
    "start_time": "2022-05-31T09:58:41.983Z"
   },
   {
    "duration": 1275,
    "start_time": "2022-05-31T09:59:24.120Z"
   },
   {
    "duration": 5873,
    "start_time": "2022-05-31T09:59:27.333Z"
   },
   {
    "duration": 7,
    "start_time": "2022-05-31T09:59:47.725Z"
   },
   {
    "duration": 2995,
    "start_time": "2022-05-31T10:04:26.668Z"
   },
   {
    "duration": 43,
    "start_time": "2022-05-31T10:04:29.665Z"
   },
   {
    "duration": 4672,
    "start_time": "2022-05-31T10:04:29.709Z"
   },
   {
    "duration": 9,
    "start_time": "2022-05-31T10:04:34.383Z"
   },
   {
    "duration": 3214,
    "start_time": "2022-05-31T10:09:20.297Z"
   },
   {
    "duration": 44,
    "start_time": "2022-05-31T10:09:23.514Z"
   },
   {
    "duration": 4683,
    "start_time": "2022-05-31T10:09:23.560Z"
   },
   {
    "duration": 9,
    "start_time": "2022-05-31T10:09:28.245Z"
   },
   {
    "duration": 7,
    "start_time": "2022-05-31T10:09:28.256Z"
   },
   {
    "duration": 1183,
    "start_time": "2022-05-31T10:09:28.265Z"
   },
   {
    "duration": 3944,
    "start_time": "2022-05-31T10:09:29.450Z"
   },
   {
    "duration": 4,
    "start_time": "2022-05-31T10:09:33.396Z"
   },
   {
    "duration": 7,
    "start_time": "2022-05-31T10:09:33.402Z"
   },
   {
    "duration": 85,
    "start_time": "2022-05-31T10:09:33.410Z"
   },
   {
    "duration": 383,
    "start_time": "2022-05-31T10:09:33.498Z"
   },
   {
    "duration": 5,
    "start_time": "2022-05-31T10:09:33.883Z"
   },
   {
    "duration": 6,
    "start_time": "2022-05-31T10:09:33.892Z"
   },
   {
    "duration": 2120,
    "start_time": "2022-05-31T10:09:33.900Z"
   },
   {
    "duration": 63474,
    "start_time": "2022-05-31T10:09:36.021Z"
   },
   {
    "duration": 5,
    "start_time": "2022-05-31T10:10:39.497Z"
   },
   {
    "duration": 6,
    "start_time": "2022-05-31T10:10:39.503Z"
   },
   {
    "duration": 85,
    "start_time": "2022-05-31T10:10:39.511Z"
   },
   {
    "duration": 4,
    "start_time": "2022-05-31T10:47:27.911Z"
   },
   {
    "duration": 2992,
    "start_time": "2022-05-31T10:58:08.067Z"
   },
   {
    "duration": 43,
    "start_time": "2022-05-31T10:58:11.061Z"
   },
   {
    "duration": 18,
    "start_time": "2022-05-31T10:58:11.105Z"
   },
   {
    "duration": 6,
    "start_time": "2022-05-31T10:58:27.245Z"
   },
   {
    "duration": 284,
    "start_time": "2022-05-31T10:58:39.271Z"
   },
   {
    "duration": 7,
    "start_time": "2022-05-31T10:58:43.490Z"
   },
   {
    "duration": 5,
    "start_time": "2022-05-31T10:58:48.614Z"
   },
   {
    "duration": 372,
    "start_time": "2022-05-31T11:24:24.173Z"
   },
   {
    "duration": 46,
    "start_time": "2022-05-31T11:24:25.824Z"
   },
   {
    "duration": 10,
    "start_time": "2022-05-31T11:24:26.477Z"
   },
   {
    "duration": 6,
    "start_time": "2022-05-31T11:24:27.039Z"
   },
   {
    "duration": 6,
    "start_time": "2022-05-31T11:24:27.999Z"
   },
   {
    "duration": 535,
    "start_time": "2022-05-31T11:24:28.628Z"
   },
   {
    "duration": 332,
    "start_time": "2022-05-31T11:24:44.164Z"
   },
   {
    "duration": 286,
    "start_time": "2022-05-31T11:25:12.403Z"
   },
   {
    "duration": 355,
    "start_time": "2022-05-31T11:25:15.718Z"
   },
   {
    "duration": 321,
    "start_time": "2022-05-31T11:25:34.540Z"
   },
   {
    "duration": 545,
    "start_time": "2022-05-31T11:25:45.218Z"
   },
   {
    "duration": 350,
    "start_time": "2022-05-31T11:25:51.426Z"
   },
   {
    "duration": 348,
    "start_time": "2022-05-31T11:25:57.268Z"
   },
   {
    "duration": 459,
    "start_time": "2022-05-31T11:26:19.182Z"
   },
   {
    "duration": 274,
    "start_time": "2022-05-31T11:26:25.756Z"
   },
   {
    "duration": 452,
    "start_time": "2022-05-31T11:27:16.990Z"
   },
   {
    "duration": 306,
    "start_time": "2022-05-31T11:27:22.260Z"
   },
   {
    "duration": 288,
    "start_time": "2022-05-31T11:27:25.596Z"
   },
   {
    "duration": 323,
    "start_time": "2022-05-31T11:27:31.160Z"
   },
   {
    "duration": 270,
    "start_time": "2022-05-31T11:27:36.765Z"
   },
   {
    "duration": 316,
    "start_time": "2022-05-31T11:27:46.527Z"
   },
   {
    "duration": 267,
    "start_time": "2022-05-31T11:27:52.352Z"
   },
   {
    "duration": 259,
    "start_time": "2022-05-31T11:27:56.440Z"
   },
   {
    "duration": 459,
    "start_time": "2022-05-31T11:29:06.143Z"
   },
   {
    "duration": 265,
    "start_time": "2022-05-31T11:29:18.958Z"
   },
   {
    "duration": 5,
    "start_time": "2022-05-31T11:32:43.262Z"
   },
   {
    "duration": 286,
    "start_time": "2022-05-31T11:32:44.964Z"
   },
   {
    "duration": 5,
    "start_time": "2022-05-31T11:32:48.769Z"
   },
   {
    "duration": 5,
    "start_time": "2022-05-31T11:36:37.320Z"
   },
   {
    "duration": 160,
    "start_time": "2022-05-31T11:37:01.068Z"
   },
   {
    "duration": 24,
    "start_time": "2022-05-31T11:38:32.152Z"
   },
   {
    "duration": 41,
    "start_time": "2022-05-31T11:38:33.136Z"
   },
   {
    "duration": 9,
    "start_time": "2022-05-31T11:38:33.367Z"
   },
   {
    "duration": 6,
    "start_time": "2022-05-31T11:38:33.587Z"
   },
   {
    "duration": 7,
    "start_time": "2022-05-31T11:38:33.984Z"
   },
   {
    "duration": 5,
    "start_time": "2022-05-31T11:38:34.242Z"
   },
   {
    "duration": 282,
    "start_time": "2022-05-31T11:38:34.495Z"
   },
   {
    "duration": 118,
    "start_time": "2022-05-31T11:38:35.168Z"
   },
   {
    "duration": 92,
    "start_time": "2022-05-31T11:38:45.484Z"
   },
   {
    "duration": 114,
    "start_time": "2022-05-31T11:38:52.207Z"
   },
   {
    "duration": 91,
    "start_time": "2022-05-31T11:38:55.502Z"
   },
   {
    "duration": 15,
    "start_time": "2022-05-31T11:39:07.886Z"
   },
   {
    "duration": 118,
    "start_time": "2022-05-31T11:39:33.890Z"
   },
   {
    "duration": 103,
    "start_time": "2022-05-31T11:39:41.895Z"
   },
   {
    "duration": 102,
    "start_time": "2022-05-31T11:40:00.838Z"
   },
   {
    "duration": 3379,
    "start_time": "2022-05-31T11:44:09.381Z"
   },
   {
    "duration": 45,
    "start_time": "2022-05-31T11:44:13.531Z"
   },
   {
    "duration": 14,
    "start_time": "2022-05-31T11:44:14.193Z"
   },
   {
    "duration": 6,
    "start_time": "2022-05-31T11:44:14.683Z"
   },
   {
    "duration": 7,
    "start_time": "2022-05-31T11:44:15.159Z"
   },
   {
    "duration": 5,
    "start_time": "2022-05-31T11:44:15.598Z"
   },
   {
    "duration": 91,
    "start_time": "2022-05-31T11:44:20.025Z"
   },
   {
    "duration": 445,
    "start_time": "2022-05-31T11:44:23.866Z"
   },
   {
    "duration": 4612,
    "start_time": "2022-05-31T11:44:29.021Z"
   },
   {
    "duration": 43,
    "start_time": "2022-05-31T11:44:36.275Z"
   },
   {
    "duration": 3,
    "start_time": "2022-05-31T11:44:38.030Z"
   },
   {
    "duration": 7,
    "start_time": "2022-05-31T11:44:38.758Z"
   },
   {
    "duration": 3,
    "start_time": "2022-05-31T11:44:40.950Z"
   },
   {
    "duration": 1195,
    "start_time": "2022-05-31T11:44:45.899Z"
   },
   {
    "duration": 309,
    "start_time": "2022-05-31T11:44:50.214Z"
   },
   {
    "duration": 2559,
    "start_time": "2022-05-31T11:45:02.064Z"
   },
   {
    "duration": 9480,
    "start_time": "2022-05-31T11:45:29.816Z"
   },
   {
    "duration": 69,
    "start_time": "2022-05-31T11:45:48.981Z"
   },
   {
    "duration": 4,
    "start_time": "2022-05-31T11:45:58.107Z"
   },
   {
    "duration": 24,
    "start_time": "2022-05-31T11:46:00.782Z"
   },
   {
    "duration": 306,
    "start_time": "2022-05-31T11:46:15.939Z"
   },
   {
    "duration": 5,
    "start_time": "2022-05-31T11:46:19.746Z"
   },
   {
    "duration": 4,
    "start_time": "2022-05-31T11:46:20.193Z"
   },
   {
    "duration": 2157,
    "start_time": "2022-05-31T11:46:24.706Z"
   },
   {
    "duration": 3826,
    "start_time": "2022-05-31T12:20:53.392Z"
   },
   {
    "duration": 3452,
    "start_time": "2022-05-31T12:22:37.083Z"
   },
   {
    "duration": 43,
    "start_time": "2022-05-31T12:22:40.537Z"
   },
   {
    "duration": 12,
    "start_time": "2022-05-31T12:22:40.582Z"
   },
   {
    "duration": 6,
    "start_time": "2022-05-31T12:22:40.595Z"
   },
   {
    "duration": 9,
    "start_time": "2022-05-31T12:22:40.602Z"
   },
   {
    "duration": 5,
    "start_time": "2022-05-31T12:22:40.612Z"
   },
   {
    "duration": 115,
    "start_time": "2022-05-31T12:22:40.619Z"
   },
   {
    "duration": 480,
    "start_time": "2022-05-31T12:22:40.736Z"
   },
   {
    "duration": 3,
    "start_time": "2022-05-31T12:22:41.218Z"
   },
   {
    "duration": 9,
    "start_time": "2022-05-31T12:22:41.224Z"
   },
   {
    "duration": 4621,
    "start_time": "2022-05-31T12:22:41.235Z"
   },
   {
    "duration": 284,
    "start_time": "2022-05-31T12:22:45.857Z"
   },
   {
    "duration": 0,
    "start_time": "2022-05-31T12:22:46.144Z"
   },
   {
    "duration": 0,
    "start_time": "2022-05-31T12:22:46.145Z"
   },
   {
    "duration": 0,
    "start_time": "2022-05-31T12:22:46.146Z"
   },
   {
    "duration": 0,
    "start_time": "2022-05-31T12:22:46.148Z"
   },
   {
    "duration": 0,
    "start_time": "2022-05-31T12:22:46.149Z"
   },
   {
    "duration": 0,
    "start_time": "2022-05-31T12:22:46.150Z"
   },
   {
    "duration": 0,
    "start_time": "2022-05-31T12:22:46.152Z"
   },
   {
    "duration": 0,
    "start_time": "2022-05-31T12:22:46.153Z"
   },
   {
    "duration": 0,
    "start_time": "2022-05-31T12:22:46.154Z"
   },
   {
    "duration": 0,
    "start_time": "2022-05-31T12:22:46.156Z"
   },
   {
    "duration": 0,
    "start_time": "2022-05-31T12:22:46.157Z"
   },
   {
    "duration": 0,
    "start_time": "2022-05-31T12:22:46.159Z"
   },
   {
    "duration": 18,
    "start_time": "2022-05-31T12:22:48.602Z"
   },
   {
    "duration": 17,
    "start_time": "2022-05-31T12:22:48.888Z"
   },
   {
    "duration": 3521,
    "start_time": "2022-05-31T12:23:28.847Z"
   },
   {
    "duration": 45,
    "start_time": "2022-05-31T12:23:33.612Z"
   },
   {
    "duration": 13,
    "start_time": "2022-05-31T12:23:34.086Z"
   },
   {
    "duration": 6,
    "start_time": "2022-05-31T12:23:34.394Z"
   },
   {
    "duration": 6,
    "start_time": "2022-05-31T12:23:34.707Z"
   },
   {
    "duration": 4,
    "start_time": "2022-05-31T12:23:34.985Z"
   },
   {
    "duration": 107,
    "start_time": "2022-05-31T12:23:35.232Z"
   },
   {
    "duration": 452,
    "start_time": "2022-05-31T12:23:35.465Z"
   },
   {
    "duration": 3,
    "start_time": "2022-05-31T12:23:35.919Z"
   },
   {
    "duration": 3,
    "start_time": "2022-05-31T12:23:36.004Z"
   },
   {
    "duration": 4773,
    "start_time": "2022-05-31T12:23:36.648Z"
   },
   {
    "duration": 49,
    "start_time": "2022-05-31T12:23:41.423Z"
   },
   {
    "duration": 3,
    "start_time": "2022-05-31T12:23:41.474Z"
   },
   {
    "duration": 9,
    "start_time": "2022-05-31T12:23:41.478Z"
   },
   {
    "duration": 3,
    "start_time": "2022-05-31T12:23:41.492Z"
   },
   {
    "duration": 1344,
    "start_time": "2022-05-31T12:23:41.497Z"
   },
   {
    "duration": 7070,
    "start_time": "2022-05-31T12:23:42.843Z"
   },
   {
    "duration": 5,
    "start_time": "2022-05-31T12:23:49.914Z"
   },
   {
    "duration": 8,
    "start_time": "2022-05-31T12:23:49.920Z"
   },
   {
    "duration": 69,
    "start_time": "2022-05-31T12:23:49.930Z"
   },
   {
    "duration": 300,
    "start_time": "2022-05-31T12:23:50.001Z"
   },
   {
    "duration": 0,
    "start_time": "2022-05-31T12:23:50.302Z"
   },
   {
    "duration": 0,
    "start_time": "2022-05-31T12:23:50.304Z"
   },
   {
    "duration": 0,
    "start_time": "2022-05-31T12:23:50.305Z"
   },
   {
    "duration": 0,
    "start_time": "2022-05-31T12:23:50.306Z"
   },
   {
    "duration": 0,
    "start_time": "2022-05-31T12:23:50.307Z"
   },
   {
    "duration": 4,
    "start_time": "2022-05-31T12:24:34.522Z"
   },
   {
    "duration": 5,
    "start_time": "2022-05-31T12:24:35.922Z"
   },
   {
    "duration": 3,
    "start_time": "2022-05-31T12:24:37.431Z"
   },
   {
    "duration": 2872,
    "start_time": "2022-05-31T12:24:38.335Z"
   },
   {
    "duration": 2917,
    "start_time": "2022-05-31T12:25:41.887Z"
   },
   {
    "duration": 8,
    "start_time": "2022-05-31T12:25:44.806Z"
   },
   {
    "duration": 5,
    "start_time": "2022-05-31T12:25:45.787Z"
   },
   {
    "duration": 3142,
    "start_time": "2022-05-31T12:26:56.645Z"
   },
   {
    "duration": 43,
    "start_time": "2022-05-31T12:26:59.789Z"
   },
   {
    "duration": 11,
    "start_time": "2022-05-31T12:26:59.835Z"
   },
   {
    "duration": 4,
    "start_time": "2022-05-31T12:26:59.848Z"
   },
   {
    "duration": 12,
    "start_time": "2022-05-31T12:26:59.854Z"
   },
   {
    "duration": 9,
    "start_time": "2022-05-31T12:26:59.868Z"
   },
   {
    "duration": 113,
    "start_time": "2022-05-31T12:26:59.879Z"
   },
   {
    "duration": 434,
    "start_time": "2022-05-31T12:26:59.993Z"
   },
   {
    "duration": 3,
    "start_time": "2022-05-31T12:27:00.428Z"
   },
   {
    "duration": 19,
    "start_time": "2022-05-31T12:27:00.433Z"
   },
   {
    "duration": 4567,
    "start_time": "2022-05-31T12:27:00.453Z"
   },
   {
    "duration": 49,
    "start_time": "2022-05-31T12:27:05.022Z"
   },
   {
    "duration": 3,
    "start_time": "2022-05-31T12:27:05.073Z"
   },
   {
    "duration": 8,
    "start_time": "2022-05-31T12:27:05.078Z"
   },
   {
    "duration": 3,
    "start_time": "2022-05-31T12:27:05.091Z"
   },
   {
    "duration": 1224,
    "start_time": "2022-05-31T12:27:05.095Z"
   },
   {
    "duration": 4298,
    "start_time": "2022-05-31T12:27:06.321Z"
   },
   {
    "duration": 360,
    "start_time": "2022-05-31T12:27:10.621Z"
   },
   {
    "duration": 0,
    "start_time": "2022-05-31T12:27:10.983Z"
   },
   {
    "duration": 0,
    "start_time": "2022-05-31T12:27:10.984Z"
   },
   {
    "duration": 0,
    "start_time": "2022-05-31T12:27:10.985Z"
   },
   {
    "duration": 0,
    "start_time": "2022-05-31T12:27:10.986Z"
   },
   {
    "duration": 0,
    "start_time": "2022-05-31T12:27:10.992Z"
   },
   {
    "duration": 0,
    "start_time": "2022-05-31T12:27:10.993Z"
   },
   {
    "duration": 0,
    "start_time": "2022-05-31T12:27:10.994Z"
   },
   {
    "duration": 0,
    "start_time": "2022-05-31T12:27:10.996Z"
   },
   {
    "duration": 3223,
    "start_time": "2022-05-31T12:28:00.219Z"
   },
   {
    "duration": 42,
    "start_time": "2022-05-31T12:28:03.445Z"
   },
   {
    "duration": 11,
    "start_time": "2022-05-31T12:28:03.489Z"
   },
   {
    "duration": 5,
    "start_time": "2022-05-31T12:28:03.501Z"
   },
   {
    "duration": 10,
    "start_time": "2022-05-31T12:28:03.508Z"
   },
   {
    "duration": 114,
    "start_time": "2022-05-31T12:28:03.519Z"
   },
   {
    "duration": 430,
    "start_time": "2022-05-31T12:28:03.634Z"
   },
   {
    "duration": 3,
    "start_time": "2022-05-31T12:28:04.068Z"
   },
   {
    "duration": 7,
    "start_time": "2022-05-31T12:28:04.072Z"
   },
   {
    "duration": 4612,
    "start_time": "2022-05-31T12:28:04.080Z"
   },
   {
    "duration": 44,
    "start_time": "2022-05-31T12:28:08.694Z"
   },
   {
    "duration": 2,
    "start_time": "2022-05-31T12:28:08.740Z"
   },
   {
    "duration": 12,
    "start_time": "2022-05-31T12:28:08.745Z"
   },
   {
    "duration": 5,
    "start_time": "2022-05-31T12:28:08.758Z"
   },
   {
    "duration": 1164,
    "start_time": "2022-05-31T12:28:08.765Z"
   },
   {
    "duration": 8372,
    "start_time": "2022-05-31T12:28:09.931Z"
   },
   {
    "duration": 4,
    "start_time": "2022-05-31T12:28:18.304Z"
   },
   {
    "duration": 6,
    "start_time": "2022-05-31T12:28:18.310Z"
   },
   {
    "duration": 20,
    "start_time": "2022-05-31T12:28:18.318Z"
   },
   {
    "duration": 55,
    "start_time": "2022-05-31T12:28:18.339Z"
   },
   {
    "duration": 98,
    "start_time": "2022-05-31T12:28:18.399Z"
   },
   {
    "duration": 4,
    "start_time": "2022-05-31T12:28:18.498Z"
   },
   {
    "duration": 19,
    "start_time": "2022-05-31T12:28:18.503Z"
   },
   {
    "duration": 8,
    "start_time": "2022-05-31T12:28:18.523Z"
   },
   {
    "duration": 105,
    "start_time": "2022-05-31T12:28:18.592Z"
   },
   {
    "duration": 2,
    "start_time": "2022-05-31T12:28:46.249Z"
   },
   {
    "duration": 3232,
    "start_time": "2022-05-31T12:28:46.875Z"
   },
   {
    "duration": 7,
    "start_time": "2022-05-31T12:28:50.109Z"
   },
   {
    "duration": 14,
    "start_time": "2022-05-31T12:28:50.117Z"
   },
   {
    "duration": 3203,
    "start_time": "2022-05-31T12:37:29.240Z"
   },
   {
    "duration": 43,
    "start_time": "2022-05-31T12:37:32.445Z"
   },
   {
    "duration": 12,
    "start_time": "2022-05-31T12:37:32.490Z"
   },
   {
    "duration": 10,
    "start_time": "2022-05-31T12:37:32.504Z"
   },
   {
    "duration": 10,
    "start_time": "2022-05-31T12:37:32.515Z"
   },
   {
    "duration": 116,
    "start_time": "2022-05-31T12:37:32.527Z"
   },
   {
    "duration": 418,
    "start_time": "2022-05-31T12:37:32.645Z"
   },
   {
    "duration": 3,
    "start_time": "2022-05-31T12:37:33.064Z"
   },
   {
    "duration": 5,
    "start_time": "2022-05-31T12:37:33.069Z"
   },
   {
    "duration": 4630,
    "start_time": "2022-05-31T12:37:33.075Z"
   },
   {
    "duration": 46,
    "start_time": "2022-05-31T12:37:37.707Z"
   },
   {
    "duration": 3,
    "start_time": "2022-05-31T12:37:37.754Z"
   },
   {
    "duration": 8,
    "start_time": "2022-05-31T12:37:37.759Z"
   },
   {
    "duration": 5,
    "start_time": "2022-05-31T12:37:37.769Z"
   },
   {
    "duration": 1172,
    "start_time": "2022-05-31T12:37:37.776Z"
   },
   {
    "duration": 8747,
    "start_time": "2022-05-31T12:37:38.949Z"
   },
   {
    "duration": 372,
    "start_time": "2022-05-31T12:37:47.697Z"
   },
   {
    "duration": 18,
    "start_time": "2022-05-31T12:39:19.428Z"
   },
   {
    "duration": 5,
    "start_time": "2022-05-31T12:40:13.744Z"
   },
   {
    "duration": 3,
    "start_time": "2022-05-31T12:40:23.093Z"
   },
   {
    "duration": 3,
    "start_time": "2022-05-31T12:40:44.040Z"
   },
   {
    "duration": 3,
    "start_time": "2022-05-31T12:41:19.220Z"
   },
   {
    "duration": 467,
    "start_time": "2022-05-31T12:41:34.150Z"
   },
   {
    "duration": 4,
    "start_time": "2022-05-31T12:42:01.703Z"
   },
   {
    "duration": 3312,
    "start_time": "2022-05-31T12:43:58.767Z"
   },
   {
    "duration": 44,
    "start_time": "2022-05-31T12:44:02.081Z"
   },
   {
    "duration": 12,
    "start_time": "2022-05-31T12:44:02.126Z"
   },
   {
    "duration": 6,
    "start_time": "2022-05-31T12:44:02.140Z"
   },
   {
    "duration": 9,
    "start_time": "2022-05-31T12:44:02.147Z"
   },
   {
    "duration": 106,
    "start_time": "2022-05-31T12:44:02.157Z"
   },
   {
    "duration": 413,
    "start_time": "2022-05-31T12:44:02.265Z"
   },
   {
    "duration": 3,
    "start_time": "2022-05-31T12:44:02.679Z"
   },
   {
    "duration": 10,
    "start_time": "2022-05-31T12:44:02.684Z"
   },
   {
    "duration": 5,
    "start_time": "2022-05-31T12:44:05.993Z"
   },
   {
    "duration": 11,
    "start_time": "2022-05-31T12:44:19.646Z"
   },
   {
    "duration": 4,
    "start_time": "2022-05-31T12:45:45.805Z"
   },
   {
    "duration": 13,
    "start_time": "2022-05-31T12:45:46.504Z"
   },
   {
    "duration": 3201,
    "start_time": "2022-05-31T12:49:53.259Z"
   },
   {
    "duration": 44,
    "start_time": "2022-05-31T12:49:57.465Z"
   },
   {
    "duration": 13,
    "start_time": "2022-05-31T12:49:57.915Z"
   },
   {
    "duration": 6,
    "start_time": "2022-05-31T12:49:58.371Z"
   },
   {
    "duration": 5,
    "start_time": "2022-05-31T12:49:58.854Z"
   },
   {
    "duration": 86,
    "start_time": "2022-05-31T12:49:59.142Z"
   },
   {
    "duration": 402,
    "start_time": "2022-05-31T12:49:59.598Z"
   },
   {
    "duration": 2,
    "start_time": "2022-05-31T12:50:00.107Z"
   },
   {
    "duration": 4,
    "start_time": "2022-05-31T12:50:00.438Z"
   },
   {
    "duration": 4692,
    "start_time": "2022-05-31T12:50:01.233Z"
   },
   {
    "duration": 46,
    "start_time": "2022-05-31T12:50:05.926Z"
   },
   {
    "duration": 3,
    "start_time": "2022-05-31T12:50:05.974Z"
   },
   {
    "duration": 16,
    "start_time": "2022-05-31T12:50:05.978Z"
   },
   {
    "duration": 5,
    "start_time": "2022-05-31T12:50:05.996Z"
   },
   {
    "duration": 1160,
    "start_time": "2022-05-31T12:50:06.002Z"
   },
   {
    "duration": 8939,
    "start_time": "2022-05-31T12:50:07.163Z"
   },
   {
    "duration": 3,
    "start_time": "2022-05-31T12:50:16.104Z"
   },
   {
    "duration": 291,
    "start_time": "2022-05-31T12:50:16.108Z"
   },
   {
    "duration": 2050,
    "start_time": "2022-05-31T12:50:16.401Z"
   },
   {
    "duration": 153762,
    "start_time": "2022-05-31T12:50:18.452Z"
   },
   {
    "duration": 3,
    "start_time": "2022-05-31T12:52:52.216Z"
   },
   {
    "duration": 12,
    "start_time": "2022-05-31T12:52:52.221Z"
   },
   {
    "duration": 4,
    "start_time": "2022-05-31T12:54:28.937Z"
   },
   {
    "duration": 9,
    "start_time": "2022-05-31T12:54:43.858Z"
   },
   {
    "duration": 5,
    "start_time": "2022-05-31T12:55:14.595Z"
   },
   {
    "duration": 3130,
    "start_time": "2022-05-31T13:10:56.440Z"
   },
   {
    "duration": 44,
    "start_time": "2022-05-31T13:10:59.571Z"
   },
   {
    "duration": 11,
    "start_time": "2022-05-31T13:10:59.617Z"
   },
   {
    "duration": 5,
    "start_time": "2022-05-31T13:10:59.631Z"
   },
   {
    "duration": 6,
    "start_time": "2022-05-31T13:10:59.637Z"
   },
   {
    "duration": 115,
    "start_time": "2022-05-31T13:10:59.644Z"
   },
   {
    "duration": 442,
    "start_time": "2022-05-31T13:10:59.761Z"
   },
   {
    "duration": 4,
    "start_time": "2022-05-31T13:11:00.205Z"
   },
   {
    "duration": 4705,
    "start_time": "2022-05-31T13:11:00.211Z"
   },
   {
    "duration": 46,
    "start_time": "2022-05-31T13:11:04.921Z"
   },
   {
    "duration": 3,
    "start_time": "2022-05-31T13:11:04.969Z"
   },
   {
    "duration": 10,
    "start_time": "2022-05-31T13:11:04.973Z"
   },
   {
    "duration": 8,
    "start_time": "2022-05-31T13:11:04.984Z"
   },
   {
    "duration": 1202,
    "start_time": "2022-05-31T13:11:04.994Z"
   },
   {
    "duration": 8109,
    "start_time": "2022-05-31T13:11:06.198Z"
   },
   {
    "duration": 3,
    "start_time": "2022-05-31T13:11:14.309Z"
   },
   {
    "duration": 332,
    "start_time": "2022-05-31T13:11:14.313Z"
   },
   {
    "duration": 2095,
    "start_time": "2022-05-31T13:11:14.647Z"
   },
   {
    "duration": 149775,
    "start_time": "2022-05-31T13:11:16.743Z"
   },
   {
    "duration": 3,
    "start_time": "2022-05-31T13:13:46.519Z"
   },
   {
    "duration": 3253,
    "start_time": "2022-05-31T13:25:41.524Z"
   },
   {
    "duration": 55,
    "start_time": "2022-05-31T13:25:44.780Z"
   },
   {
    "duration": 11,
    "start_time": "2022-05-31T13:25:44.837Z"
   },
   {
    "duration": 5,
    "start_time": "2022-05-31T13:25:44.849Z"
   },
   {
    "duration": 5,
    "start_time": "2022-05-31T13:25:44.856Z"
   },
   {
    "duration": 105,
    "start_time": "2022-05-31T13:25:44.862Z"
   },
   {
    "duration": 456,
    "start_time": "2022-05-31T13:25:44.969Z"
   },
   {
    "duration": 2,
    "start_time": "2022-05-31T13:25:45.427Z"
   },
   {
    "duration": 4658,
    "start_time": "2022-05-31T13:25:45.431Z"
   },
   {
    "duration": 49,
    "start_time": "2022-05-31T13:25:50.091Z"
   },
   {
    "duration": 4,
    "start_time": "2022-05-31T13:25:50.142Z"
   },
   {
    "duration": 15,
    "start_time": "2022-05-31T13:25:50.148Z"
   },
   {
    "duration": 18,
    "start_time": "2022-05-31T13:25:50.165Z"
   },
   {
    "duration": 1230,
    "start_time": "2022-05-31T13:25:50.185Z"
   },
   {
    "duration": 4587,
    "start_time": "2022-05-31T13:25:51.417Z"
   },
   {
    "duration": 2,
    "start_time": "2022-05-31T13:25:56.006Z"
   },
   {
    "duration": 155,
    "start_time": "2022-05-31T13:25:56.011Z"
   },
   {
    "duration": 151,
    "start_time": "2022-05-31T13:25:56.167Z"
   },
   {
    "duration": 5,
    "start_time": "2022-05-31T13:25:56.319Z"
   },
   {
    "duration": 5,
    "start_time": "2022-05-31T13:25:56.326Z"
   },
   {
    "duration": 2076,
    "start_time": "2022-05-31T13:25:56.333Z"
   },
   {
    "duration": 69490,
    "start_time": "2022-05-31T13:25:58.411Z"
   },
   {
    "duration": 3,
    "start_time": "2022-05-31T13:27:07.903Z"
   },
   {
    "duration": 10,
    "start_time": "2022-05-31T13:27:07.907Z"
   },
   {
    "duration": 9,
    "start_time": "2022-05-31T13:27:07.919Z"
   },
   {
    "duration": 2,
    "start_time": "2022-05-31T13:42:13.060Z"
   },
   {
    "duration": 2,
    "start_time": "2022-05-31T13:42:14.062Z"
   },
   {
    "duration": 42,
    "start_time": "2022-05-31T13:42:15.230Z"
   },
   {
    "duration": 3,
    "start_time": "2022-05-31T13:42:25.124Z"
   },
   {
    "duration": 281,
    "start_time": "2022-05-31T13:42:26.779Z"
   },
   {
    "duration": 3,
    "start_time": "2022-05-31T13:42:55.227Z"
   },
   {
    "duration": 16,
    "start_time": "2022-05-31T13:42:55.903Z"
   },
   {
    "duration": 19,
    "start_time": "2022-05-31T13:44:58.307Z"
   },
   {
    "duration": 2,
    "start_time": "2022-05-31T13:46:58.484Z"
   },
   {
    "duration": 3,
    "start_time": "2022-05-31T13:47:00.292Z"
   },
   {
    "duration": 2,
    "start_time": "2022-05-31T13:47:02.168Z"
   },
   {
    "duration": 19094,
    "start_time": "2022-05-31T13:47:04.700Z"
   },
   {
    "duration": 3,
    "start_time": "2022-05-31T13:47:30.846Z"
   },
   {
    "duration": 3,
    "start_time": "2022-05-31T13:47:51.064Z"
   },
   {
    "duration": 3,
    "start_time": "2022-05-31T14:11:54.117Z"
   },
   {
    "duration": 5,
    "start_time": "2022-05-31T14:11:54.790Z"
   },
   {
    "duration": 3,
    "start_time": "2022-05-31T14:12:10.749Z"
   },
   {
    "duration": 4,
    "start_time": "2022-05-31T14:12:12.100Z"
   },
   {
    "duration": 3,
    "start_time": "2022-05-31T14:12:21.777Z"
   },
   {
    "duration": 4,
    "start_time": "2022-05-31T14:12:22.973Z"
   },
   {
    "duration": 3234,
    "start_time": "2022-05-31T14:40:47.468Z"
   },
   {
    "duration": 44,
    "start_time": "2022-05-31T14:40:50.704Z"
   },
   {
    "duration": 11,
    "start_time": "2022-05-31T14:40:50.750Z"
   },
   {
    "duration": 5,
    "start_time": "2022-05-31T14:40:50.763Z"
   },
   {
    "duration": 6,
    "start_time": "2022-05-31T14:40:50.770Z"
   },
   {
    "duration": 109,
    "start_time": "2022-05-31T14:40:50.778Z"
   },
   {
    "duration": 471,
    "start_time": "2022-05-31T14:40:50.888Z"
   },
   {
    "duration": 3,
    "start_time": "2022-05-31T14:40:51.360Z"
   },
   {
    "duration": 4660,
    "start_time": "2022-05-31T14:40:51.364Z"
   },
   {
    "duration": 47,
    "start_time": "2022-05-31T14:40:56.026Z"
   },
   {
    "duration": 3,
    "start_time": "2022-05-31T14:40:56.075Z"
   },
   {
    "duration": 11,
    "start_time": "2022-05-31T14:40:56.081Z"
   },
   {
    "duration": 6,
    "start_time": "2022-05-31T14:40:56.093Z"
   },
   {
    "duration": 1195,
    "start_time": "2022-05-31T14:40:56.100Z"
   },
   {
    "duration": 9507,
    "start_time": "2022-05-31T14:40:57.296Z"
   },
   {
    "duration": 3,
    "start_time": "2022-05-31T14:41:06.805Z"
   },
   {
    "duration": 151,
    "start_time": "2022-05-31T14:41:06.810Z"
   },
   {
    "duration": 163,
    "start_time": "2022-05-31T14:41:06.963Z"
   },
   {
    "duration": 7,
    "start_time": "2022-05-31T14:41:07.128Z"
   },
   {
    "duration": 5,
    "start_time": "2022-05-31T14:41:07.137Z"
   },
   {
    "duration": 2140,
    "start_time": "2022-05-31T14:41:07.144Z"
   },
   {
    "duration": 151624,
    "start_time": "2022-05-31T14:41:09.286Z"
   },
   {
    "duration": 2,
    "start_time": "2022-05-31T14:43:40.912Z"
   },
   {
    "duration": 8,
    "start_time": "2022-05-31T14:43:40.916Z"
   },
   {
    "duration": 6,
    "start_time": "2022-05-31T14:43:40.925Z"
   },
   {
    "duration": 5,
    "start_time": "2022-05-31T14:43:40.933Z"
   },
   {
    "duration": 2,
    "start_time": "2022-05-31T14:44:44.671Z"
   },
   {
    "duration": 314,
    "start_time": "2022-05-31T14:44:45.075Z"
   },
   {
    "duration": 15,
    "start_time": "2022-05-31T14:44:45.570Z"
   },
   {
    "duration": 4,
    "start_time": "2022-05-31T14:46:21.989Z"
   },
   {
    "duration": 15,
    "start_time": "2022-05-31T14:46:29.198Z"
   },
   {
    "duration": 3,
    "start_time": "2022-05-31T14:47:15.116Z"
   },
   {
    "duration": 2,
    "start_time": "2022-05-31T14:47:18.202Z"
   },
   {
    "duration": 3,
    "start_time": "2022-05-31T14:47:24.599Z"
   },
   {
    "duration": 15481,
    "start_time": "2022-05-31T14:47:25.416Z"
   },
   {
    "duration": 91,
    "start_time": "2022-05-31T14:47:40.902Z"
   },
   {
    "duration": 18,
    "start_time": "2022-05-31T14:48:43.369Z"
   },
   {
    "duration": 3,
    "start_time": "2022-05-31T14:48:49.036Z"
   },
   {
    "duration": 3,
    "start_time": "2022-05-31T14:48:50.674Z"
   },
   {
    "duration": 25863,
    "start_time": "2022-05-31T14:48:51.931Z"
   },
   {
    "duration": 4,
    "start_time": "2022-05-31T14:49:17.796Z"
   },
   {
    "duration": 2,
    "start_time": "2022-05-31T14:49:47.098Z"
   },
   {
    "duration": 3,
    "start_time": "2022-05-31T14:49:47.506Z"
   },
   {
    "duration": 41146,
    "start_time": "2022-05-31T14:49:48.446Z"
   },
   {
    "duration": 93,
    "start_time": "2022-05-31T14:50:29.600Z"
   },
   {
    "duration": 51769,
    "start_time": "2022-05-31T14:51:01.030Z"
   },
   {
    "duration": 93,
    "start_time": "2022-05-31T14:51:52.801Z"
   },
   {
    "duration": 3,
    "start_time": "2022-05-31T14:52:55.785Z"
   },
   {
    "duration": 352,
    "start_time": "2022-05-31T14:52:57.847Z"
   },
   {
    "duration": 442,
    "start_time": "2022-05-31T14:53:02.255Z"
   },
   {
    "duration": 4,
    "start_time": "2022-05-31T14:53:04.131Z"
   },
   {
    "duration": 4,
    "start_time": "2022-05-31T14:53:04.806Z"
   },
   {
    "duration": 5,
    "start_time": "2022-05-31T14:53:06.483Z"
   },
   {
    "duration": 4,
    "start_time": "2022-05-31T14:53:07.248Z"
   },
   {
    "duration": 4,
    "start_time": "2022-05-31T14:53:16.133Z"
   },
   {
    "duration": 9,
    "start_time": "2022-05-31T14:53:17.427Z"
   },
   {
    "duration": 3,
    "start_time": "2022-05-31T14:54:25.506Z"
   },
   {
    "duration": 3,
    "start_time": "2022-05-31T14:54:51.859Z"
   },
   {
    "duration": 3,
    "start_time": "2022-05-31T14:54:56.368Z"
   },
   {
    "duration": 2,
    "start_time": "2022-05-31T14:55:04.895Z"
   },
   {
    "duration": 245,
    "start_time": "2022-05-31T15:05:59.429Z"
   },
   {
    "duration": 3,
    "start_time": "2022-05-31T15:12:06.133Z"
   },
   {
    "duration": 2,
    "start_time": "2022-05-31T15:12:07.272Z"
   },
   {
    "duration": 3,
    "start_time": "2022-05-31T15:12:08.201Z"
   },
   {
    "duration": 362854,
    "start_time": "2022-05-31T15:12:11.444Z"
   },
   {
    "duration": 3,
    "start_time": "2022-05-31T15:18:14.300Z"
   },
   {
    "duration": 884160,
    "start_time": "2022-05-31T15:25:55.547Z"
   },
   {
    "duration": 3,
    "start_time": "2022-05-31T15:40:39.710Z"
   },
   {
    "duration": 4,
    "start_time": "2022-05-31T15:41:55.331Z"
   },
   {
    "duration": 1470,
    "start_time": "2022-05-31T15:42:04.250Z"
   },
   {
    "duration": 2,
    "start_time": "2022-05-31T15:42:17.596Z"
   },
   {
    "duration": 1861,
    "start_time": "2022-05-31T15:42:24.150Z"
   },
   {
    "duration": 3282,
    "start_time": "2022-05-31T15:42:35.314Z"
   },
   {
    "duration": 5,
    "start_time": "2022-05-31T15:42:51.478Z"
   },
   {
    "duration": 5,
    "start_time": "2022-05-31T15:42:53.212Z"
   },
   {
    "duration": 4,
    "start_time": "2022-05-31T15:42:54.689Z"
   },
   {
    "duration": 5,
    "start_time": "2022-05-31T15:42:56.533Z"
   },
   {
    "duration": 158,
    "start_time": "2022-05-31T15:43:04.517Z"
   },
   {
    "duration": 20,
    "start_time": "2022-05-31T15:43:44.154Z"
   },
   {
    "duration": 27,
    "start_time": "2022-05-31T15:56:24.384Z"
   },
   {
    "duration": 2,
    "start_time": "2022-05-31T15:56:32.904Z"
   },
   {
    "duration": 2,
    "start_time": "2022-05-31T15:56:33.705Z"
   },
   {
    "duration": 3,
    "start_time": "2022-05-31T15:56:34.799Z"
   },
   {
    "duration": 22,
    "start_time": "2022-05-31T15:56:36.963Z"
   },
   {
    "duration": 28,
    "start_time": "2022-05-31T15:57:34.216Z"
   },
   {
    "duration": 3,
    "start_time": "2022-05-31T15:59:00.816Z"
   },
   {
    "duration": 4,
    "start_time": "2022-05-31T15:59:01.887Z"
   },
   {
    "duration": 2,
    "start_time": "2022-05-31T15:59:05.099Z"
   },
   {
    "duration": 26,
    "start_time": "2022-05-31T15:59:06.282Z"
   },
   {
    "duration": 2,
    "start_time": "2022-05-31T15:59:28.849Z"
   },
   {
    "duration": 2,
    "start_time": "2022-05-31T15:59:29.380Z"
   },
   {
    "duration": 33,
    "start_time": "2022-05-31T15:59:30.180Z"
   },
   {
    "duration": 3,
    "start_time": "2022-05-31T16:00:37.098Z"
   },
   {
    "duration": 3,
    "start_time": "2022-05-31T16:00:37.651Z"
   },
   {
    "duration": 3,
    "start_time": "2022-05-31T16:00:38.010Z"
   },
   {
    "duration": 26,
    "start_time": "2022-05-31T16:00:38.807Z"
   },
   {
    "duration": 2,
    "start_time": "2022-05-31T16:01:48.847Z"
   },
   {
    "duration": 3,
    "start_time": "2022-05-31T16:01:49.127Z"
   },
   {
    "duration": 25,
    "start_time": "2022-05-31T16:01:49.771Z"
   },
   {
    "duration": 3,
    "start_time": "2022-05-31T16:01:57.303Z"
   },
   {
    "duration": 3,
    "start_time": "2022-05-31T16:01:57.667Z"
   },
   {
    "duration": 26,
    "start_time": "2022-05-31T16:01:58.284Z"
   },
   {
    "duration": 3,
    "start_time": "2022-05-31T16:02:17.998Z"
   },
   {
    "duration": 2,
    "start_time": "2022-05-31T16:02:18.356Z"
   },
   {
    "duration": 3,
    "start_time": "2022-05-31T16:02:18.787Z"
   },
   {
    "duration": 27,
    "start_time": "2022-05-31T16:02:19.611Z"
   },
   {
    "duration": 15,
    "start_time": "2022-05-31T16:02:20.493Z"
   },
   {
    "duration": 3,
    "start_time": "2022-05-31T16:03:32.368Z"
   },
   {
    "duration": 2,
    "start_time": "2022-05-31T16:03:45.733Z"
   },
   {
    "duration": 3,
    "start_time": "2022-05-31T16:03:59.452Z"
   },
   {
    "duration": 26,
    "start_time": "2022-05-31T16:04:12.329Z"
   },
   {
    "duration": 322,
    "start_time": "2022-05-31T16:05:31.941Z"
   },
   {
    "duration": 3,
    "start_time": "2022-05-31T16:05:35.857Z"
   },
   {
    "duration": 313,
    "start_time": "2022-05-31T16:05:36.392Z"
   },
   {
    "duration": 3,
    "start_time": "2022-05-31T16:05:52.662Z"
   },
   {
    "duration": 243,
    "start_time": "2022-05-31T16:05:53.317Z"
   },
   {
    "duration": 2,
    "start_time": "2022-05-31T16:06:52.807Z"
   },
   {
    "duration": 187,
    "start_time": "2022-05-31T16:06:53.323Z"
   },
   {
    "duration": 12,
    "start_time": "2022-05-31T16:06:54.755Z"
   },
   {
    "duration": 12,
    "start_time": "2022-05-31T16:07:36.478Z"
   },
   {
    "duration": 3,
    "start_time": "2022-05-31T16:07:37.061Z"
   },
   {
    "duration": 3,
    "start_time": "2022-05-31T16:08:12.418Z"
   },
   {
    "duration": 17,
    "start_time": "2022-05-31T16:08:13.152Z"
   },
   {
    "duration": 5,
    "start_time": "2022-05-31T16:08:13.867Z"
   },
   {
    "duration": 4,
    "start_time": "2022-05-31T16:08:14.366Z"
   },
   {
    "duration": 2,
    "start_time": "2022-05-31T16:08:19.289Z"
   },
   {
    "duration": 72,
    "start_time": "2022-05-31T16:08:19.605Z"
   },
   {
    "duration": 7,
    "start_time": "2022-05-31T16:08:19.832Z"
   },
   {
    "duration": 4,
    "start_time": "2022-05-31T16:08:20.140Z"
   },
   {
    "duration": 3,
    "start_time": "2022-05-31T16:08:23.676Z"
   },
   {
    "duration": 186,
    "start_time": "2022-05-31T16:08:23.900Z"
   },
   {
    "duration": 12,
    "start_time": "2022-05-31T16:08:24.111Z"
   },
   {
    "duration": 4,
    "start_time": "2022-05-31T16:08:24.426Z"
   },
   {
    "duration": 3,
    "start_time": "2022-05-31T16:08:28.699Z"
   },
   {
    "duration": 122,
    "start_time": "2022-05-31T16:08:28.975Z"
   },
   {
    "duration": 10,
    "start_time": "2022-05-31T16:08:29.233Z"
   },
   {
    "duration": 4,
    "start_time": "2022-05-31T16:08:29.579Z"
   },
   {
    "duration": 3,
    "start_time": "2022-05-31T16:10:24.778Z"
   },
   {
    "duration": 3,
    "start_time": "2022-05-31T16:10:25.510Z"
   },
   {
    "duration": 272412,
    "start_time": "2022-05-31T16:10:26.300Z"
   },
   {
    "duration": 3,
    "start_time": "2022-05-31T16:16:00.781Z"
   },
   {
    "duration": 2,
    "start_time": "2022-05-31T16:18:30.028Z"
   },
   {
    "duration": 3,
    "start_time": "2022-05-31T16:18:30.740Z"
   },
   {
    "duration": 3,
    "start_time": "2022-05-31T16:18:31.924Z"
   },
   {
    "duration": 21409,
    "start_time": "2022-05-31T16:18:35.309Z"
   },
   {
    "duration": 4,
    "start_time": "2022-05-31T16:19:08.553Z"
   },
   {
    "duration": 3,
    "start_time": "2022-05-31T16:20:08.688Z"
   },
   {
    "duration": 3,
    "start_time": "2022-05-31T16:20:09.283Z"
   },
   {
    "duration": 3,
    "start_time": "2022-05-31T16:20:09.694Z"
   },
   {
    "duration": 27975,
    "start_time": "2022-05-31T16:20:10.070Z"
   },
   {
    "duration": 2,
    "start_time": "2022-05-31T16:20:38.047Z"
   },
   {
    "duration": 3,
    "start_time": "2022-05-31T16:21:29.173Z"
   },
   {
    "duration": 2,
    "start_time": "2022-05-31T16:21:29.804Z"
   },
   {
    "duration": 17674,
    "start_time": "2022-05-31T16:21:30.224Z"
   },
   {
    "duration": 3,
    "start_time": "2022-05-31T16:21:47.900Z"
   },
   {
    "duration": 2,
    "start_time": "2022-05-31T16:23:14.646Z"
   },
   {
    "duration": 2,
    "start_time": "2022-05-31T16:23:14.895Z"
   },
   {
    "duration": 24084,
    "start_time": "2022-05-31T16:23:15.135Z"
   },
   {
    "duration": 3,
    "start_time": "2022-05-31T16:23:39.221Z"
   },
   {
    "duration": 32028,
    "start_time": "2022-05-31T16:25:49.937Z"
   },
   {
    "duration": 3,
    "start_time": "2022-05-31T16:26:21.968Z"
   },
   {
    "duration": 3,
    "start_time": "2022-05-31T16:35:32.527Z"
   },
   {
    "duration": 21,
    "start_time": "2022-05-31T16:41:40.757Z"
   },
   {
    "duration": 4,
    "start_time": "2022-05-31T16:51:30.290Z"
   },
   {
    "duration": 3,
    "start_time": "2022-05-31T16:51:30.909Z"
   },
   {
    "duration": 4,
    "start_time": "2022-05-31T16:51:31.552Z"
   },
   {
    "duration": 250496,
    "start_time": "2022-05-31T16:51:32.830Z"
   },
   {
    "duration": 3,
    "start_time": "2022-05-31T16:55:43.328Z"
   },
   {
    "duration": 3749,
    "start_time": "2022-05-31T17:07:44.694Z"
   },
   {
    "duration": 0,
    "start_time": "2022-05-31T17:07:48.445Z"
   },
   {
    "duration": 0,
    "start_time": "2022-05-31T17:07:48.447Z"
   },
   {
    "duration": 0,
    "start_time": "2022-05-31T17:07:48.448Z"
   },
   {
    "duration": 0,
    "start_time": "2022-05-31T17:07:48.449Z"
   },
   {
    "duration": 0,
    "start_time": "2022-05-31T17:07:48.451Z"
   },
   {
    "duration": 0,
    "start_time": "2022-05-31T17:07:48.452Z"
   },
   {
    "duration": 0,
    "start_time": "2022-05-31T17:07:48.453Z"
   },
   {
    "duration": 0,
    "start_time": "2022-05-31T17:07:48.454Z"
   },
   {
    "duration": 0,
    "start_time": "2022-05-31T17:07:48.455Z"
   },
   {
    "duration": 0,
    "start_time": "2022-05-31T17:07:48.456Z"
   },
   {
    "duration": 0,
    "start_time": "2022-05-31T17:07:48.458Z"
   },
   {
    "duration": 15,
    "start_time": "2022-05-31T17:07:48.646Z"
   },
   {
    "duration": 1193,
    "start_time": "2022-05-31T17:07:49.144Z"
   },
   {
    "duration": 24,
    "start_time": "2022-05-31T17:07:50.339Z"
   },
   {
    "duration": 0,
    "start_time": "2022-05-31T17:07:50.364Z"
   },
   {
    "duration": 0,
    "start_time": "2022-05-31T17:07:50.366Z"
   },
   {
    "duration": 0,
    "start_time": "2022-05-31T17:07:50.392Z"
   },
   {
    "duration": 1,
    "start_time": "2022-05-31T17:07:50.393Z"
   },
   {
    "duration": 0,
    "start_time": "2022-05-31T17:07:50.395Z"
   },
   {
    "duration": 0,
    "start_time": "2022-05-31T17:07:50.396Z"
   },
   {
    "duration": 0,
    "start_time": "2022-05-31T17:07:50.398Z"
   },
   {
    "duration": 0,
    "start_time": "2022-05-31T17:07:50.399Z"
   },
   {
    "duration": 0,
    "start_time": "2022-05-31T17:07:50.400Z"
   },
   {
    "duration": 0,
    "start_time": "2022-05-31T17:07:50.401Z"
   },
   {
    "duration": 0,
    "start_time": "2022-05-31T17:07:50.403Z"
   },
   {
    "duration": 2,
    "start_time": "2022-05-31T17:07:50.652Z"
   },
   {
    "duration": 3,
    "start_time": "2022-05-31T17:07:50.737Z"
   },
   {
    "duration": 4,
    "start_time": "2022-05-31T17:07:50.826Z"
   },
   {
    "duration": 17,
    "start_time": "2022-05-31T17:07:50.997Z"
   },
   {
    "duration": 15,
    "start_time": "2022-05-31T17:07:51.074Z"
   },
   {
    "duration": 19,
    "start_time": "2022-05-31T17:07:51.241Z"
   },
   {
    "duration": 14,
    "start_time": "2022-05-31T17:07:51.325Z"
   },
   {
    "duration": 14,
    "start_time": "2022-05-31T17:07:51.503Z"
   },
   {
    "duration": 14,
    "start_time": "2022-05-31T17:07:51.576Z"
   },
   {
    "duration": 14,
    "start_time": "2022-05-31T17:07:51.680Z"
   },
   {
    "duration": 14,
    "start_time": "2022-05-31T17:07:51.740Z"
   },
   {
    "duration": 17,
    "start_time": "2022-05-31T17:07:51.826Z"
   },
   {
    "duration": 14,
    "start_time": "2022-05-31T17:07:51.928Z"
   },
   {
    "duration": 14,
    "start_time": "2022-05-31T17:07:52.007Z"
   },
   {
    "duration": 3,
    "start_time": "2022-05-31T17:07:52.243Z"
   },
   {
    "duration": 2,
    "start_time": "2022-05-31T17:07:52.339Z"
   },
   {
    "duration": 3,
    "start_time": "2022-05-31T17:07:52.409Z"
   },
   {
    "duration": 15,
    "start_time": "2022-05-31T17:07:52.581Z"
   },
   {
    "duration": 14,
    "start_time": "2022-05-31T17:07:52.661Z"
   },
   {
    "duration": 14,
    "start_time": "2022-05-31T17:07:52.834Z"
   },
   {
    "duration": 13,
    "start_time": "2022-05-31T17:07:52.912Z"
   },
   {
    "duration": 16,
    "start_time": "2022-05-31T17:07:53.081Z"
   },
   {
    "duration": 15,
    "start_time": "2022-05-31T17:07:53.163Z"
   },
   {
    "duration": 14,
    "start_time": "2022-05-31T17:07:53.251Z"
   },
   {
    "duration": 14,
    "start_time": "2022-05-31T17:07:53.330Z"
   },
   {
    "duration": 13,
    "start_time": "2022-05-31T17:07:53.414Z"
   },
   {
    "duration": 14,
    "start_time": "2022-05-31T17:07:53.497Z"
   },
   {
    "duration": 14,
    "start_time": "2022-05-31T17:07:53.591Z"
   },
   {
    "duration": 2,
    "start_time": "2022-05-31T17:07:53.834Z"
   },
   {
    "duration": 3,
    "start_time": "2022-05-31T17:07:53.922Z"
   },
   {
    "duration": 2,
    "start_time": "2022-05-31T17:07:54.007Z"
   },
   {
    "duration": 15,
    "start_time": "2022-05-31T17:07:54.525Z"
   },
   {
    "duration": 14,
    "start_time": "2022-05-31T17:07:54.722Z"
   },
   {
    "duration": 15,
    "start_time": "2022-05-31T17:07:55.093Z"
   },
   {
    "duration": 17,
    "start_time": "2022-05-31T17:07:55.303Z"
   },
   {
    "duration": 5,
    "start_time": "2022-05-31T17:07:55.715Z"
   },
   {
    "duration": 15,
    "start_time": "2022-05-31T17:07:55.897Z"
   },
   {
    "duration": 14,
    "start_time": "2022-05-31T17:07:56.101Z"
   },
   {
    "duration": 16,
    "start_time": "2022-05-31T17:07:56.326Z"
   },
   {
    "duration": 15,
    "start_time": "2022-05-31T17:07:56.513Z"
   },
   {
    "duration": 15,
    "start_time": "2022-05-31T17:07:58.011Z"
   },
   {
    "duration": 3431,
    "start_time": "2022-05-31T17:09:18.868Z"
   },
   {
    "duration": 44,
    "start_time": "2022-05-31T17:09:25.960Z"
   },
   {
    "duration": 12,
    "start_time": "2022-05-31T17:09:26.700Z"
   },
   {
    "duration": 5,
    "start_time": "2022-05-31T17:09:27.057Z"
   },
   {
    "duration": 5,
    "start_time": "2022-05-31T17:09:27.531Z"
   },
   {
    "duration": 106,
    "start_time": "2022-05-31T17:09:33.781Z"
   },
   {
    "duration": 279,
    "start_time": "2022-05-31T17:09:34.424Z"
   },
   {
    "duration": 4,
    "start_time": "2022-05-31T17:09:35.468Z"
   },
   {
    "duration": 4668,
    "start_time": "2022-05-31T17:09:36.890Z"
   },
   {
    "duration": 48,
    "start_time": "2022-05-31T17:09:41.560Z"
   },
   {
    "duration": 2,
    "start_time": "2022-05-31T17:09:41.610Z"
   },
   {
    "duration": 7,
    "start_time": "2022-05-31T17:09:41.614Z"
   },
   {
    "duration": 5,
    "start_time": "2022-05-31T17:09:41.622Z"
   },
   {
    "duration": 1166,
    "start_time": "2022-05-31T17:09:42.802Z"
   },
   {
    "duration": 3849,
    "start_time": "2022-05-31T17:09:46.647Z"
   },
   {
    "duration": 4,
    "start_time": "2022-05-31T17:09:51.940Z"
   },
   {
    "duration": 144,
    "start_time": "2022-05-31T17:09:53.245Z"
   },
   {
    "duration": 151,
    "start_time": "2022-05-31T17:09:53.503Z"
   },
   {
    "duration": 5,
    "start_time": "2022-05-31T17:09:53.800Z"
   },
   {
    "duration": 3,
    "start_time": "2022-05-31T17:09:54.112Z"
   },
   {
    "duration": 2216,
    "start_time": "2022-05-31T17:09:54.530Z"
   },
   {
    "duration": 69766,
    "start_time": "2022-05-31T17:09:56.748Z"
   },
   {
    "duration": 2,
    "start_time": "2022-05-31T17:11:06.516Z"
   },
   {
    "duration": 2,
    "start_time": "2022-05-31T17:11:09.245Z"
   },
   {
    "duration": 4,
    "start_time": "2022-05-31T17:11:09.637Z"
   },
   {
    "duration": 5,
    "start_time": "2022-05-31T17:11:09.989Z"
   },
   {
    "duration": 2,
    "start_time": "2022-05-31T17:11:11.473Z"
   },
   {
    "duration": 2,
    "start_time": "2022-05-31T17:11:11.916Z"
   },
   {
    "duration": 2,
    "start_time": "2022-05-31T17:11:12.326Z"
   },
   {
    "duration": 38872,
    "start_time": "2022-05-31T17:11:13.225Z"
   },
   {
    "duration": 94,
    "start_time": "2022-05-31T17:11:52.099Z"
   },
   {
    "duration": 48406,
    "start_time": "2022-05-31T17:11:52.195Z"
   },
   {
    "duration": 93,
    "start_time": "2022-05-31T17:12:40.700Z"
   },
   {
    "duration": 6,
    "start_time": "2022-05-31T17:12:40.794Z"
   },
   {
    "duration": 401,
    "start_time": "2022-05-31T17:12:40.801Z"
   },
   {
    "duration": 691,
    "start_time": "2022-05-31T17:12:41.204Z"
   },
   {
    "duration": 94,
    "start_time": "2022-05-31T17:12:41.898Z"
   },
   {
    "duration": 95,
    "start_time": "2022-05-31T17:12:41.998Z"
   },
   {
    "duration": 9,
    "start_time": "2022-05-31T17:12:42.095Z"
   },
   {
    "duration": 92,
    "start_time": "2022-05-31T17:12:42.108Z"
   },
   {
    "duration": 3,
    "start_time": "2022-05-31T17:12:55.849Z"
   },
   {
    "duration": 3,
    "start_time": "2022-05-31T17:12:56.451Z"
   },
   {
    "duration": 2,
    "start_time": "2022-05-31T17:12:57.085Z"
   },
   {
    "duration": 359130,
    "start_time": "2022-05-31T17:12:57.985Z"
   },
   {
    "duration": 3,
    "start_time": "2022-05-31T17:18:57.117Z"
   },
   {
    "duration": 888327,
    "start_time": "2022-05-31T17:18:57.192Z"
   },
   {
    "duration": 4,
    "start_time": "2022-05-31T17:33:45.592Z"
   },
   {
    "duration": 8,
    "start_time": "2022-05-31T17:33:45.597Z"
   },
   {
    "duration": 1292,
    "start_time": "2022-05-31T17:33:45.607Z"
   },
   {
    "duration": 3306,
    "start_time": "2022-05-31T17:33:46.900Z"
   },
   {
    "duration": 5,
    "start_time": "2022-05-31T17:33:50.208Z"
   },
   {
    "duration": 8,
    "start_time": "2022-05-31T17:33:50.214Z"
   },
   {
    "duration": 4,
    "start_time": "2022-05-31T17:33:50.224Z"
   },
   {
    "duration": 64,
    "start_time": "2022-05-31T17:33:50.229Z"
   },
   {
    "duration": 3,
    "start_time": "2022-05-31T17:33:50.295Z"
   },
   {
    "duration": 7,
    "start_time": "2022-05-31T17:33:50.299Z"
   },
   {
    "duration": 5,
    "start_time": "2022-05-31T17:33:50.307Z"
   },
   {
    "duration": 24577,
    "start_time": "2022-05-31T17:33:50.313Z"
   },
   {
    "duration": 3,
    "start_time": "2022-05-31T17:34:14.891Z"
   },
   {
    "duration": 31050,
    "start_time": "2022-05-31T17:34:14.896Z"
   },
   {
    "duration": 3,
    "start_time": "2022-05-31T17:34:45.947Z"
   },
   {
    "duration": 68,
    "start_time": "2022-05-31T17:34:45.952Z"
   },
   {
    "duration": 0,
    "start_time": "2022-05-31T17:34:46.022Z"
   },
   {
    "duration": 0,
    "start_time": "2022-05-31T17:34:46.024Z"
   },
   {
    "duration": 0,
    "start_time": "2022-05-31T17:34:46.024Z"
   },
   {
    "duration": 0,
    "start_time": "2022-05-31T17:34:46.026Z"
   },
   {
    "duration": 0,
    "start_time": "2022-05-31T17:34:46.026Z"
   },
   {
    "duration": 0,
    "start_time": "2022-05-31T17:34:46.028Z"
   },
   {
    "duration": 0,
    "start_time": "2022-05-31T17:34:46.028Z"
   },
   {
    "duration": 0,
    "start_time": "2022-05-31T17:34:46.029Z"
   },
   {
    "duration": 0,
    "start_time": "2022-05-31T17:34:46.030Z"
   },
   {
    "duration": 0,
    "start_time": "2022-05-31T17:34:46.031Z"
   },
   {
    "duration": 0,
    "start_time": "2022-05-31T17:34:46.032Z"
   },
   {
    "duration": 0,
    "start_time": "2022-05-31T17:34:46.033Z"
   },
   {
    "duration": 0,
    "start_time": "2022-05-31T17:34:46.034Z"
   },
   {
    "duration": 0,
    "start_time": "2022-05-31T17:34:46.035Z"
   },
   {
    "duration": 0,
    "start_time": "2022-05-31T17:34:46.036Z"
   },
   {
    "duration": 0,
    "start_time": "2022-05-31T17:34:46.037Z"
   },
   {
    "duration": 0,
    "start_time": "2022-05-31T17:34:46.038Z"
   },
   {
    "duration": 0,
    "start_time": "2022-05-31T17:34:46.039Z"
   },
   {
    "duration": 0,
    "start_time": "2022-05-31T17:34:46.040Z"
   },
   {
    "duration": 0,
    "start_time": "2022-05-31T17:34:46.041Z"
   },
   {
    "duration": 0,
    "start_time": "2022-05-31T17:34:46.042Z"
   },
   {
    "duration": 0,
    "start_time": "2022-05-31T17:34:46.043Z"
   },
   {
    "duration": 4,
    "start_time": "2022-05-31T17:48:43.388Z"
   },
   {
    "duration": 114,
    "start_time": "2022-05-31T17:48:44.331Z"
   },
   {
    "duration": 161,
    "start_time": "2022-05-31T17:48:44.849Z"
   },
   {
    "duration": 11,
    "start_time": "2022-05-31T17:48:45.145Z"
   },
   {
    "duration": 5,
    "start_time": "2022-05-31T17:48:45.398Z"
   },
   {
    "duration": 11,
    "start_time": "2022-05-31T17:48:45.661Z"
   },
   {
    "duration": 4,
    "start_time": "2022-05-31T17:48:46.349Z"
   },
   {
    "duration": 2,
    "start_time": "2022-05-31T17:48:48.062Z"
   },
   {
    "duration": 2,
    "start_time": "2022-05-31T17:48:48.305Z"
   },
   {
    "duration": 3,
    "start_time": "2022-05-31T17:48:48.657Z"
   },
   {
    "duration": 549118,
    "start_time": "2022-05-31T17:48:49.294Z"
   },
   {
    "duration": 3,
    "start_time": "2022-05-31T17:57:58.413Z"
   },
   {
    "duration": 317022,
    "start_time": "2022-05-31T17:57:58.418Z"
   },
   {
    "duration": 0,
    "start_time": "2022-05-31T18:03:15.441Z"
   },
   {
    "duration": 0,
    "start_time": "2022-05-31T18:03:15.443Z"
   },
   {
    "duration": 0,
    "start_time": "2022-05-31T18:03:15.443Z"
   },
   {
    "duration": 0,
    "start_time": "2022-05-31T18:03:15.444Z"
   },
   {
    "duration": 0,
    "start_time": "2022-05-31T18:03:15.445Z"
   },
   {
    "duration": 0,
    "start_time": "2022-05-31T18:03:15.446Z"
   },
   {
    "duration": 0,
    "start_time": "2022-05-31T18:03:15.447Z"
   },
   {
    "duration": 0,
    "start_time": "2022-05-31T18:03:15.448Z"
   },
   {
    "duration": 0,
    "start_time": "2022-05-31T18:03:15.450Z"
   },
   {
    "duration": 0,
    "start_time": "2022-05-31T18:03:15.451Z"
   },
   {
    "duration": 2,
    "start_time": "2022-05-31T18:04:07.235Z"
   },
   {
    "duration": 3,
    "start_time": "2022-05-31T18:04:07.869Z"
   },
   {
    "duration": 3,
    "start_time": "2022-05-31T18:04:08.535Z"
   },
   {
    "duration": 461482,
    "start_time": "2022-05-31T18:04:09.581Z"
   },
   {
    "duration": 2,
    "start_time": "2022-05-31T18:11:51.066Z"
   },
   {
    "duration": 1131030,
    "start_time": "2022-05-31T18:11:51.070Z"
   },
   {
    "duration": 3,
    "start_time": "2022-05-31T18:30:42.102Z"
   },
   {
    "duration": 6,
    "start_time": "2022-05-31T18:30:42.107Z"
   },
   {
    "duration": 4352,
    "start_time": "2022-05-31T18:30:42.115Z"
   },
   {
    "duration": 17437,
    "start_time": "2022-05-31T18:30:46.469Z"
   },
   {
    "duration": 4,
    "start_time": "2022-05-31T18:31:03.908Z"
   },
   {
    "duration": 13,
    "start_time": "2022-05-31T18:31:03.914Z"
   },
   {
    "duration": 18,
    "start_time": "2022-05-31T18:31:03.930Z"
   },
   {
    "duration": 17,
    "start_time": "2022-05-31T18:31:03.949Z"
   },
   {
    "duration": 26,
    "start_time": "2022-05-31T18:31:03.968Z"
   },
   {
    "duration": 0,
    "start_time": "2022-05-31T18:31:03.995Z"
   },
   {
    "duration": 22,
    "start_time": "2022-05-31T18:44:00.432Z"
   },
   {
    "duration": 3,
    "start_time": "2022-05-31T18:45:16.433Z"
   },
   {
    "duration": 3,
    "start_time": "2022-05-31T18:45:30.254Z"
   },
   {
    "duration": 15,
    "start_time": "2022-05-31T18:45:42.621Z"
   },
   {
    "duration": 3,
    "start_time": "2022-05-31T18:45:51.398Z"
   },
   {
    "duration": 3,
    "start_time": "2022-05-31T18:46:01.530Z"
   },
   {
    "duration": 3,
    "start_time": "2022-05-31T18:46:15.570Z"
   },
   {
    "duration": 3,
    "start_time": "2022-05-31T18:46:25.008Z"
   },
   {
    "duration": 10,
    "start_time": "2022-05-31T18:46:34.507Z"
   },
   {
    "duration": 3,
    "start_time": "2022-05-31T18:46:45.351Z"
   },
   {
    "duration": 3,
    "start_time": "2022-05-31T18:46:55.918Z"
   },
   {
    "duration": 3,
    "start_time": "2022-05-31T18:47:05.521Z"
   },
   {
    "duration": 9,
    "start_time": "2022-05-31T18:48:21.622Z"
   },
   {
    "duration": 17,
    "start_time": "2022-05-31T18:48:56.486Z"
   },
   {
    "duration": 4,
    "start_time": "2022-05-31T18:49:02.448Z"
   },
   {
    "duration": 4,
    "start_time": "2022-05-31T18:49:11.155Z"
   },
   {
    "duration": 4,
    "start_time": "2022-05-31T18:49:15.653Z"
   },
   {
    "duration": 4,
    "start_time": "2022-05-31T18:49:22.802Z"
   },
   {
    "duration": 4,
    "start_time": "2022-05-31T18:49:29.357Z"
   },
   {
    "duration": 3,
    "start_time": "2022-05-31T18:49:34.301Z"
   },
   {
    "duration": 16,
    "start_time": "2022-05-31T18:49:45.131Z"
   },
   {
    "duration": 3,
    "start_time": "2022-05-31T18:49:59.649Z"
   },
   {
    "duration": 15,
    "start_time": "2022-05-31T18:50:19.910Z"
   },
   {
    "duration": 16,
    "start_time": "2022-05-31T18:50:33.337Z"
   },
   {
    "duration": 4,
    "start_time": "2022-05-31T18:50:52.780Z"
   },
   {
    "duration": 3,
    "start_time": "2022-05-31T18:52:41.572Z"
   },
   {
    "duration": 4,
    "start_time": "2022-05-31T18:52:49.400Z"
   },
   {
    "duration": 10,
    "start_time": "2022-05-31T18:53:46.605Z"
   },
   {
    "duration": 10,
    "start_time": "2022-05-31T18:53:54.676Z"
   },
   {
    "duration": 5,
    "start_time": "2022-05-31T18:53:59.515Z"
   },
   {
    "duration": 16,
    "start_time": "2022-05-31T18:54:01.288Z"
   },
   {
    "duration": 18,
    "start_time": "2022-05-31T18:59:06.451Z"
   },
   {
    "duration": 17,
    "start_time": "2022-05-31T18:59:39.850Z"
   },
   {
    "duration": 19,
    "start_time": "2022-05-31T18:59:55.778Z"
   },
   {
    "duration": 14,
    "start_time": "2022-05-31T19:00:04.947Z"
   },
   {
    "duration": 13,
    "start_time": "2022-05-31T19:02:02.370Z"
   },
   {
    "duration": 4,
    "start_time": "2022-05-31T19:04:38.751Z"
   },
   {
    "duration": 15,
    "start_time": "2022-05-31T19:04:39.917Z"
   },
   {
    "duration": 5,
    "start_time": "2022-05-31T19:04:52.346Z"
   },
   {
    "duration": 13,
    "start_time": "2022-05-31T19:04:53.630Z"
   },
   {
    "duration": 15,
    "start_time": "2022-05-31T19:06:24.901Z"
   },
   {
    "duration": 18,
    "start_time": "2022-05-31T19:07:02.511Z"
   },
   {
    "duration": 5,
    "start_time": "2022-05-31T19:07:06.416Z"
   },
   {
    "duration": 12,
    "start_time": "2022-05-31T19:07:08.638Z"
   },
   {
    "duration": 17,
    "start_time": "2022-05-31T19:07:24.455Z"
   },
   {
    "duration": 5,
    "start_time": "2022-05-31T19:07:38.819Z"
   },
   {
    "duration": 12,
    "start_time": "2022-05-31T19:07:39.929Z"
   },
   {
    "duration": 16,
    "start_time": "2022-05-31T19:08:06.508Z"
   },
   {
    "duration": 3,
    "start_time": "2022-05-31T19:08:35.401Z"
   },
   {
    "duration": 113,
    "start_time": "2022-05-31T19:08:49.773Z"
   },
   {
    "duration": 10,
    "start_time": "2022-05-31T19:08:51.238Z"
   },
   {
    "duration": 3,
    "start_time": "2022-05-31T19:09:10.817Z"
   },
   {
    "duration": 4866,
    "start_time": "2022-05-31T19:09:19.111Z"
   },
   {
    "duration": 53,
    "start_time": "2022-05-31T19:09:23.979Z"
   },
   {
    "duration": 3,
    "start_time": "2022-05-31T19:09:24.034Z"
   },
   {
    "duration": 8,
    "start_time": "2022-05-31T19:09:24.038Z"
   },
   {
    "duration": 5,
    "start_time": "2022-05-31T19:09:24.047Z"
   },
   {
    "duration": 1200,
    "start_time": "2022-05-31T19:09:24.053Z"
   },
   {
    "duration": 3657,
    "start_time": "2022-05-31T19:09:25.255Z"
   },
   {
    "duration": 3,
    "start_time": "2022-05-31T19:09:28.913Z"
   },
   {
    "duration": 3364,
    "start_time": "2022-05-31T19:09:54.570Z"
   },
   {
    "duration": 46,
    "start_time": "2022-05-31T19:09:57.936Z"
   },
   {
    "duration": 13,
    "start_time": "2022-05-31T19:09:57.984Z"
   },
   {
    "duration": 5,
    "start_time": "2022-05-31T19:09:57.998Z"
   },
   {
    "duration": 5,
    "start_time": "2022-05-31T19:09:58.005Z"
   },
   {
    "duration": 111,
    "start_time": "2022-05-31T19:09:58.012Z"
   },
   {
    "duration": 287,
    "start_time": "2022-05-31T19:09:58.124Z"
   },
   {
    "duration": 3,
    "start_time": "2022-05-31T19:09:58.413Z"
   },
   {
    "duration": 4604,
    "start_time": "2022-05-31T19:09:58.417Z"
   },
   {
    "duration": 16,
    "start_time": "2022-05-31T19:10:03.022Z"
   },
   {
    "duration": 2,
    "start_time": "2022-05-31T19:10:03.040Z"
   },
   {
    "duration": 4,
    "start_time": "2022-05-31T19:10:03.045Z"
   },
   {
    "duration": 4,
    "start_time": "2022-05-31T19:10:03.052Z"
   },
   {
    "duration": 1168,
    "start_time": "2022-05-31T19:10:03.057Z"
   },
   {
    "duration": 901,
    "start_time": "2022-05-31T19:10:04.226Z"
   },
   {
    "duration": 3,
    "start_time": "2022-05-31T19:10:05.192Z"
   },
   {
    "duration": 173,
    "start_time": "2022-05-31T19:10:05.196Z"
   },
   {
    "duration": 49,
    "start_time": "2022-05-31T19:10:05.370Z"
   },
   {
    "duration": 5,
    "start_time": "2022-05-31T19:10:05.421Z"
   },
   {
    "duration": 18,
    "start_time": "2022-05-31T19:10:05.427Z"
   },
   {
    "duration": 2174,
    "start_time": "2022-05-31T19:10:05.447Z"
   },
   {
    "duration": 14394,
    "start_time": "2022-05-31T19:10:07.622Z"
   },
   {
    "duration": 2,
    "start_time": "2022-05-31T19:10:22.017Z"
   },
   {
    "duration": 5,
    "start_time": "2022-05-31T19:10:22.021Z"
   },
   {
    "duration": 4,
    "start_time": "2022-05-31T19:10:22.091Z"
   },
   {
    "duration": 6,
    "start_time": "2022-05-31T19:10:22.097Z"
   },
   {
    "duration": 5,
    "start_time": "2022-05-31T19:10:22.104Z"
   },
   {
    "duration": 4,
    "start_time": "2022-05-31T19:10:22.111Z"
   },
   {
    "duration": 5,
    "start_time": "2022-05-31T19:10:22.116Z"
   },
   {
    "duration": 25371,
    "start_time": "2022-05-31T19:10:22.122Z"
   },
   {
    "duration": 4,
    "start_time": "2022-05-31T19:10:47.495Z"
   },
   {
    "duration": 31996,
    "start_time": "2022-05-31T19:10:47.501Z"
   },
   {
    "duration": 94,
    "start_time": "2022-05-31T19:11:19.499Z"
   },
   {
    "duration": 102,
    "start_time": "2022-05-31T19:11:19.595Z"
   },
   {
    "duration": 198,
    "start_time": "2022-05-31T19:11:19.699Z"
   },
   {
    "duration": 502,
    "start_time": "2022-05-31T19:11:19.899Z"
   },
   {
    "duration": 97,
    "start_time": "2022-05-31T19:11:20.496Z"
   },
   {
    "duration": 98,
    "start_time": "2022-05-31T19:11:20.600Z"
   },
   {
    "duration": 95,
    "start_time": "2022-05-31T19:11:20.702Z"
   },
   {
    "duration": 103,
    "start_time": "2022-05-31T19:11:20.894Z"
   },
   {
    "duration": 5,
    "start_time": "2022-05-31T19:11:20.998Z"
   },
   {
    "duration": 6,
    "start_time": "2022-05-31T19:11:21.004Z"
   },
   {
    "duration": 7,
    "start_time": "2022-05-31T19:11:21.011Z"
   },
   {
    "duration": 52579,
    "start_time": "2022-05-31T19:11:21.019Z"
   },
   {
    "duration": 2,
    "start_time": "2022-05-31T19:12:13.600Z"
   },
   {
    "duration": 89111,
    "start_time": "2022-05-31T19:12:13.604Z"
   },
   {
    "duration": 2,
    "start_time": "2022-05-31T19:13:42.717Z"
   },
   {
    "duration": 6,
    "start_time": "2022-05-31T19:13:42.721Z"
   },
   {
    "duration": 270,
    "start_time": "2022-05-31T19:13:42.728Z"
   },
   {
    "duration": 496,
    "start_time": "2022-05-31T19:13:43.000Z"
   },
   {
    "duration": 4,
    "start_time": "2022-05-31T19:13:43.497Z"
   },
   {
    "duration": 6,
    "start_time": "2022-05-31T19:13:43.502Z"
   },
   {
    "duration": 4,
    "start_time": "2022-05-31T19:13:43.510Z"
   },
   {
    "duration": 7,
    "start_time": "2022-05-31T19:13:43.515Z"
   },
   {
    "duration": 4,
    "start_time": "2022-05-31T19:13:43.523Z"
   },
   {
    "duration": 4,
    "start_time": "2022-05-31T19:13:43.528Z"
   },
   {
    "duration": 5,
    "start_time": "2022-05-31T19:13:43.533Z"
   },
   {
    "duration": 13546,
    "start_time": "2022-05-31T19:13:43.539Z"
   },
   {
    "duration": 3,
    "start_time": "2022-05-31T19:13:57.091Z"
   },
   {
    "duration": 13784,
    "start_time": "2022-05-31T19:13:57.095Z"
   },
   {
    "duration": 3,
    "start_time": "2022-05-31T19:14:10.880Z"
   },
   {
    "duration": 6,
    "start_time": "2022-05-31T19:14:10.884Z"
   },
   {
    "duration": 76,
    "start_time": "2022-05-31T19:14:10.892Z"
   },
   {
    "duration": 78,
    "start_time": "2022-05-31T19:14:10.970Z"
   },
   {
    "duration": 12,
    "start_time": "2022-05-31T19:14:11.049Z"
   },
   {
    "duration": 6,
    "start_time": "2022-05-31T19:14:11.062Z"
   },
   {
    "duration": 22,
    "start_time": "2022-05-31T19:14:11.070Z"
   },
   {
    "duration": 5,
    "start_time": "2022-05-31T19:14:11.093Z"
   },
   {
    "duration": 4,
    "start_time": "2022-05-31T19:14:11.099Z"
   },
   {
    "duration": 5,
    "start_time": "2022-05-31T19:14:11.105Z"
   },
   {
    "duration": 10,
    "start_time": "2022-05-31T19:14:11.111Z"
   },
   {
    "duration": 179070,
    "start_time": "2022-05-31T19:14:11.123Z"
   },
   {
    "duration": 3,
    "start_time": "2022-05-31T19:17:10.194Z"
   },
   {
    "duration": 401597,
    "start_time": "2022-05-31T19:17:10.198Z"
   },
   {
    "duration": 3,
    "start_time": "2022-05-31T19:23:51.797Z"
   },
   {
    "duration": 5,
    "start_time": "2022-05-31T19:23:51.802Z"
   },
   {
    "duration": 1576,
    "start_time": "2022-05-31T19:23:51.809Z"
   },
   {
    "duration": 3434,
    "start_time": "2022-05-31T19:23:53.387Z"
   },
   {
    "duration": 3,
    "start_time": "2022-05-31T19:23:56.823Z"
   },
   {
    "duration": 8,
    "start_time": "2022-05-31T19:23:56.828Z"
   },
   {
    "duration": 5,
    "start_time": "2022-05-31T19:23:56.837Z"
   },
   {
    "duration": 5,
    "start_time": "2022-05-31T19:23:56.843Z"
   },
   {
    "duration": 288,
    "start_time": "2022-05-31T19:23:56.849Z"
   },
   {
    "duration": 0,
    "start_time": "2022-05-31T19:23:57.139Z"
   },
   {
    "duration": 0,
    "start_time": "2022-05-31T19:23:57.140Z"
   },
   {
    "duration": 0,
    "start_time": "2022-05-31T19:23:57.141Z"
   },
   {
    "duration": 4,
    "start_time": "2022-05-31T19:24:50.099Z"
   },
   {
    "duration": 5,
    "start_time": "2022-05-31T19:24:51.786Z"
   },
   {
    "duration": 12,
    "start_time": "2022-05-31T19:24:53.249Z"
   },
   {
    "duration": 8,
    "start_time": "2022-05-31T19:25:07.068Z"
   },
   {
    "duration": 11,
    "start_time": "2022-05-31T19:25:12.500Z"
   },
   {
    "duration": 54,
    "start_time": "2022-05-31T19:38:26.832Z"
   },
   {
    "duration": 627,
    "start_time": "2022-05-31T19:38:56.517Z"
   },
   {
    "duration": 3,
    "start_time": "2022-05-31T19:38:59.576Z"
   },
   {
    "duration": 10,
    "start_time": "2022-05-31T19:39:17.986Z"
   },
   {
    "duration": 4,
    "start_time": "2022-05-31T19:39:31.934Z"
   },
   {
    "duration": 4,
    "start_time": "2022-05-31T19:39:39.666Z"
   },
   {
    "duration": 3,
    "start_time": "2022-05-31T19:40:59.757Z"
   },
   {
    "duration": 3,
    "start_time": "2022-05-31T19:41:03.756Z"
   },
   {
    "duration": 2,
    "start_time": "2022-05-31T19:41:04.253Z"
   },
   {
    "duration": 39,
    "start_time": "2022-05-31T19:43:46.511Z"
   },
   {
    "duration": 3,
    "start_time": "2022-05-31T19:43:52.672Z"
   },
   {
    "duration": 7,
    "start_time": "2022-05-31T19:43:53.341Z"
   },
   {
    "duration": 7,
    "start_time": "2022-05-31T19:43:57.277Z"
   },
   {
    "duration": 8,
    "start_time": "2022-05-31T19:44:29.737Z"
   },
   {
    "duration": 8,
    "start_time": "2022-05-31T19:44:56.589Z"
   },
   {
    "duration": 3,
    "start_time": "2022-05-31T19:47:16.578Z"
   },
   {
    "duration": 3,
    "start_time": "2022-05-31T19:47:20.293Z"
   },
   {
    "duration": 3,
    "start_time": "2022-05-31T19:47:20.797Z"
   },
   {
    "duration": 4,
    "start_time": "2022-05-31T19:47:29.778Z"
   },
   {
    "duration": 8,
    "start_time": "2022-05-31T19:56:59.906Z"
   },
   {
    "duration": 7,
    "start_time": "2022-05-31T19:57:03.726Z"
   },
   {
    "duration": 321,
    "start_time": "2022-05-31T19:57:21.332Z"
   },
   {
    "duration": 3,
    "start_time": "2022-05-31T19:57:23.641Z"
   },
   {
    "duration": 4,
    "start_time": "2022-05-31T19:57:24.572Z"
   },
   {
    "duration": 4,
    "start_time": "2022-05-31T19:57:30.777Z"
   },
   {
    "duration": 3,
    "start_time": "2022-05-31T19:58:18.394Z"
   },
   {
    "duration": 3,
    "start_time": "2022-05-31T19:58:25.696Z"
   },
   {
    "duration": 3,
    "start_time": "2022-05-31T19:58:50.850Z"
   },
   {
    "duration": 4,
    "start_time": "2022-05-31T19:58:55.613Z"
   },
   {
    "duration": 2,
    "start_time": "2022-05-31T20:08:15.769Z"
   },
   {
    "duration": 3,
    "start_time": "2022-05-31T20:08:24.269Z"
   },
   {
    "duration": 3,
    "start_time": "2022-05-31T20:08:27.576Z"
   },
   {
    "duration": 24,
    "start_time": "2022-05-31T20:08:32.677Z"
   },
   {
    "duration": 4,
    "start_time": "2022-05-31T20:08:37.719Z"
   },
   {
    "duration": 3,
    "start_time": "2022-05-31T20:09:10.744Z"
   },
   {
    "duration": 11,
    "start_time": "2022-05-31T20:09:22.489Z"
   },
   {
    "duration": 9,
    "start_time": "2022-05-31T20:09:30.209Z"
   },
   {
    "duration": 3,
    "start_time": "2022-05-31T20:09:59.539Z"
   },
   {
    "duration": 3,
    "start_time": "2022-05-31T20:10:13.708Z"
   },
   {
    "duration": 3,
    "start_time": "2022-05-31T20:10:23.785Z"
   },
   {
    "duration": 3,
    "start_time": "2022-05-31T20:10:32.948Z"
   },
   {
    "duration": 3,
    "start_time": "2022-05-31T20:10:55.702Z"
   },
   {
    "duration": 56,
    "start_time": "2022-05-31T20:11:17.877Z"
   },
   {
    "duration": 3,
    "start_time": "2022-05-31T20:11:48.110Z"
   },
   {
    "duration": 4,
    "start_time": "2022-05-31T20:12:12.012Z"
   },
   {
    "duration": 4661,
    "start_time": "2022-06-01T10:40:56.198Z"
   },
   {
    "duration": 463,
    "start_time": "2022-06-01T10:41:00.861Z"
   },
   {
    "duration": 0,
    "start_time": "2022-06-01T10:41:01.326Z"
   },
   {
    "duration": 7,
    "start_time": "2022-06-01T10:41:35.463Z"
   },
   {
    "duration": 43,
    "start_time": "2022-06-01T10:41:36.379Z"
   },
   {
    "duration": 16,
    "start_time": "2022-06-01T10:41:37.224Z"
   },
   {
    "duration": 3909,
    "start_time": "2022-06-01T10:42:59.931Z"
   },
   {
    "duration": 44,
    "start_time": "2022-06-01T10:43:03.842Z"
   },
   {
    "duration": 14,
    "start_time": "2022-06-01T10:43:03.888Z"
   },
   {
    "duration": 18,
    "start_time": "2022-06-01T10:43:03.904Z"
   },
   {
    "duration": 11,
    "start_time": "2022-06-01T10:43:03.924Z"
   },
   {
    "duration": 111,
    "start_time": "2022-06-01T10:43:03.937Z"
   },
   {
    "duration": 320,
    "start_time": "2022-06-01T10:43:04.050Z"
   },
   {
    "duration": 4,
    "start_time": "2022-06-01T10:43:04.372Z"
   },
   {
    "duration": 8370,
    "start_time": "2022-06-01T10:43:04.377Z"
   },
   {
    "duration": 134,
    "start_time": "2022-06-01T10:43:12.750Z"
   },
   {
    "duration": 3,
    "start_time": "2022-06-01T10:43:12.886Z"
   },
   {
    "duration": 21,
    "start_time": "2022-06-01T10:43:12.891Z"
   },
   {
    "duration": 11,
    "start_time": "2022-06-01T10:43:12.914Z"
   },
   {
    "duration": 1991,
    "start_time": "2022-06-01T10:43:12.927Z"
   },
   {
    "duration": 24843,
    "start_time": "2022-06-01T10:43:14.920Z"
   },
   {
    "duration": 3,
    "start_time": "2022-06-01T10:43:39.765Z"
   },
   {
    "duration": 299,
    "start_time": "2022-06-01T10:43:39.769Z"
   },
   {
    "duration": 422,
    "start_time": "2022-06-01T10:43:40.070Z"
   },
   {
    "duration": 16,
    "start_time": "2022-06-01T10:43:40.494Z"
   },
   {
    "duration": 7,
    "start_time": "2022-06-01T10:43:40.512Z"
   },
   {
    "duration": 17619,
    "start_time": "2022-06-01T10:43:40.521Z"
   },
   {
    "duration": 473226,
    "start_time": "2022-06-01T10:43:58.144Z"
   },
   {
    "duration": 4,
    "start_time": "2022-06-01T10:51:51.371Z"
   },
   {
    "duration": 7,
    "start_time": "2022-06-01T10:51:51.377Z"
   },
   {
    "duration": 63,
    "start_time": "2022-06-01T10:51:51.385Z"
   },
   {
    "duration": 7,
    "start_time": "2022-06-01T10:51:51.450Z"
   },
   {
    "duration": 17,
    "start_time": "2022-06-01T10:51:51.458Z"
   },
   {
    "duration": 3,
    "start_time": "2022-06-01T10:51:51.504Z"
   },
   {
    "duration": 7,
    "start_time": "2022-06-01T10:51:51.509Z"
   },
   {
    "duration": 62029,
    "start_time": "2022-06-01T10:51:51.517Z"
   },
   {
    "duration": 5,
    "start_time": "2022-06-01T10:52:53.549Z"
   },
   {
    "duration": 107005,
    "start_time": "2022-06-01T10:52:53.645Z"
   },
   {
    "duration": 95,
    "start_time": "2022-06-01T10:54:40.652Z"
   },
   {
    "duration": 102,
    "start_time": "2022-06-01T10:54:40.749Z"
   },
   {
    "duration": 797,
    "start_time": "2022-06-01T10:54:40.852Z"
   },
   {
    "duration": 1101,
    "start_time": "2022-06-01T10:54:41.652Z"
   },
   {
    "duration": 6,
    "start_time": "2022-06-01T10:54:42.845Z"
   },
   {
    "duration": 193,
    "start_time": "2022-06-01T10:54:42.854Z"
   },
   {
    "duration": 17,
    "start_time": "2022-06-01T10:54:43.049Z"
   },
   {
    "duration": 178,
    "start_time": "2022-06-01T10:54:43.069Z"
   },
   {
    "duration": 11,
    "start_time": "2022-06-01T10:54:43.249Z"
   },
   {
    "duration": 5,
    "start_time": "2022-06-01T10:54:43.262Z"
   },
   {
    "duration": 8,
    "start_time": "2022-06-01T10:54:43.268Z"
   },
   {
    "duration": 2313292,
    "start_time": "2022-06-01T10:54:43.277Z"
   },
   {
    "duration": 3,
    "start_time": "2022-06-01T11:33:16.571Z"
   },
   {
    "duration": 6272884,
    "start_time": "2022-06-01T11:33:16.576Z"
   },
   {
    "duration": 3,
    "start_time": "2022-06-01T13:17:49.461Z"
   },
   {
    "duration": 17,
    "start_time": "2022-06-01T13:17:49.466Z"
   },
   {
    "duration": 11675,
    "start_time": "2022-06-01T13:17:49.485Z"
   },
   {
    "duration": 30193,
    "start_time": "2022-06-01T13:18:01.162Z"
   },
   {
    "duration": 8,
    "start_time": "2022-06-01T13:18:31.356Z"
   },
   {
    "duration": 16,
    "start_time": "2022-06-01T13:18:31.365Z"
   },
   {
    "duration": 61,
    "start_time": "2022-06-01T13:18:31.383Z"
   },
   {
    "duration": 6,
    "start_time": "2022-06-01T13:18:31.446Z"
   },
   {
    "duration": 16,
    "start_time": "2022-06-01T13:18:31.453Z"
   },
   {
    "duration": 12,
    "start_time": "2022-06-01T13:18:31.471Z"
   },
   {
    "duration": 8,
    "start_time": "2022-06-01T13:18:31.485Z"
   },
   {
    "duration": 62885,
    "start_time": "2022-06-01T13:18:31.495Z"
   },
   {
    "duration": 3,
    "start_time": "2022-06-01T13:19:34.381Z"
   },
   {
    "duration": 92304,
    "start_time": "2022-06-01T13:19:34.390Z"
   },
   {
    "duration": 3,
    "start_time": "2022-06-01T13:21:06.696Z"
   },
   {
    "duration": 5,
    "start_time": "2022-06-01T13:21:06.701Z"
   },
   {
    "duration": 347,
    "start_time": "2022-06-01T13:21:06.708Z"
   },
   {
    "duration": 397,
    "start_time": "2022-06-01T13:21:07.057Z"
   },
   {
    "duration": 14,
    "start_time": "2022-06-01T13:21:07.456Z"
   },
   {
    "duration": 6,
    "start_time": "2022-06-01T13:21:07.472Z"
   },
   {
    "duration": 15,
    "start_time": "2022-06-01T13:21:07.479Z"
   },
   {
    "duration": 5,
    "start_time": "2022-06-01T13:21:07.496Z"
   },
   {
    "duration": 5,
    "start_time": "2022-06-01T13:21:07.503Z"
   },
   {
    "duration": 5,
    "start_time": "2022-06-01T13:21:07.509Z"
   },
   {
    "duration": 31,
    "start_time": "2022-06-01T13:21:07.516Z"
   },
   {
    "duration": 558807,
    "start_time": "2022-06-01T13:21:07.548Z"
   },
   {
    "duration": 3,
    "start_time": "2022-06-01T13:30:26.357Z"
   },
   {
    "duration": 1293405,
    "start_time": "2022-06-01T13:30:26.361Z"
   },
   {
    "duration": 3,
    "start_time": "2022-06-01T13:51:59.767Z"
   },
   {
    "duration": 7,
    "start_time": "2022-06-01T13:51:59.772Z"
   },
   {
    "duration": 8176,
    "start_time": "2022-06-01T13:51:59.781Z"
   },
   {
    "duration": 12181,
    "start_time": "2022-06-01T13:52:07.958Z"
   },
   {
    "duration": 6,
    "start_time": "2022-06-01T13:52:20.141Z"
   },
   {
    "duration": 29,
    "start_time": "2022-06-01T13:52:20.148Z"
   },
   {
    "duration": 41,
    "start_time": "2022-06-01T13:52:20.179Z"
   },
   {
    "duration": 25,
    "start_time": "2022-06-01T13:52:20.225Z"
   },
   {
    "duration": 28,
    "start_time": "2022-06-01T13:52:20.252Z"
   },
   {
    "duration": 43,
    "start_time": "2022-06-01T13:52:20.281Z"
   },
   {
    "duration": 43,
    "start_time": "2022-06-01T13:52:20.326Z"
   },
   {
    "duration": 40,
    "start_time": "2022-06-01T13:52:20.371Z"
   }
  ],
  "kernelspec": {
   "display_name": "Python 3 (ipykernel)",
   "language": "python",
   "name": "python3"
  },
  "language_info": {
   "codemirror_mode": {
    "name": "ipython",
    "version": 3
   },
   "file_extension": ".py",
   "mimetype": "text/x-python",
   "name": "python",
   "nbconvert_exporter": "python",
   "pygments_lexer": "ipython3",
   "version": "3.7.0"
  },
  "toc": {
   "base_numbering": 1,
   "nav_menu": {},
   "number_sections": true,
   "sideBar": true,
   "skip_h1_title": true,
   "title_cell": "Содержание",
   "title_sidebar": "Contents",
   "toc_cell": true,
   "toc_position": {},
   "toc_section_display": true,
   "toc_window_display": false
  }
 },
 "nbformat": 4,
 "nbformat_minor": 2
}
