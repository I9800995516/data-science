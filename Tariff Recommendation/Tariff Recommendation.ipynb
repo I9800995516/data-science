{
 "cells": [
  {
   "cell_type": "markdown",
   "metadata": {
    "toc": true
   },
   "source": [
    "<h1>Содержание<span class=\"tocSkip\"></span></h1>\n",
    "<div class=\"toc\"><ul class=\"toc-item\"><li><span><a href=\"#Открытие-и-изучение-файла\" data-toc-modified-id=\"Открытие-и-изучение-файла-1\"><span class=\"toc-item-num\">1&nbsp;&nbsp;</span>Открытие и изучение файла</a></span><ul class=\"toc-item\"><li><span><a href=\"#Описание-данных:\" data-toc-modified-id=\"Описание-данных:-1.1\"><span class=\"toc-item-num\">1.1&nbsp;&nbsp;</span>Описание данных:</a></span></li></ul></li><li><span><a href=\"#Анализ-данных\" data-toc-modified-id=\"Анализ-данных-2\"><span class=\"toc-item-num\">2&nbsp;&nbsp;</span>Анализ данных</a></span></li><li><span><a href=\"#Разделение-данных-на-выборки\" data-toc-modified-id=\"Разделение-данных-на-выборки-3\"><span class=\"toc-item-num\">3&nbsp;&nbsp;</span>Разделение данных на выборки</a></span></li><li><span><a href=\"#Исследование-моделей,-определение-лучшей\" data-toc-modified-id=\"Исследование-моделей,-определение-лучшей-4\"><span class=\"toc-item-num\">4&nbsp;&nbsp;</span>Исследование моделей, определение лучшей</a></span><ul class=\"toc-item\"><li><span><a href=\"#DecisionTreeClassifier,-criterion='Gini'\" data-toc-modified-id=\"DecisionTreeClassifier,-criterion='Gini'-4.1\"><span class=\"toc-item-num\">4.1&nbsp;&nbsp;</span>DecisionTreeClassifier, criterion='Gini'</a></span></li><li><span><a href=\"#DecisionTreeClassifier,-criterion='entropy'\" data-toc-modified-id=\"DecisionTreeClassifier,-criterion='entropy'-4.2\"><span class=\"toc-item-num\">4.2&nbsp;&nbsp;</span>DecisionTreeClassifier, criterion='entropy'</a></span></li><li><span><a href=\"#LogisticRegression\" data-toc-modified-id=\"LogisticRegression-4.3\"><span class=\"toc-item-num\">4.3&nbsp;&nbsp;</span>LogisticRegression</a></span></li><li><span><a href=\"#RandomForestClassifier\" data-toc-modified-id=\"RandomForestClassifier-4.4\"><span class=\"toc-item-num\">4.4&nbsp;&nbsp;</span>RandomForestClassifier</a></span></li><li><span><a href=\"#RandomForestClassifier,-criterion='entropy'\" data-toc-modified-id=\"RandomForestClassifier,-criterion='entropy'-4.5\"><span class=\"toc-item-num\">4.5&nbsp;&nbsp;</span>RandomForestClassifier, criterion='entropy'</a></span></li></ul></li><li><span><a href=\"#Проверка-модели-на-тестовой-выборке\" data-toc-modified-id=\"Проверка-модели-на-тестовой-выборке-5\"><span class=\"toc-item-num\">5&nbsp;&nbsp;</span>Проверка модели на тестовой выборке</a></span></li><li><span><a href=\"#Проверка-модели-на-адекватность\" data-toc-modified-id=\"Проверка-модели-на-адекватность-6\"><span class=\"toc-item-num\">6&nbsp;&nbsp;</span>Проверка модели на адекватность</a></span></li><li><span><a href=\"#Вывод\" data-toc-modified-id=\"Вывод-7\"><span class=\"toc-item-num\">7&nbsp;&nbsp;</span>Вывод</a></span></li></ul></div>"
   ]
  },
  {
   "cell_type": "markdown",
   "metadata": {},
   "source": [
    "# Рекомендация тарифов"
   ]
  },
  {
   "cell_type": "markdown",
   "metadata": {},
   "source": [
    "Оператор мобильной связи на основе данных о поведение клиентов хочет предложить пользователям новый тариф: «Смарт» или «Ультра»."
   ]
  },
  {
   "cell_type": "markdown",
   "metadata": {},
   "source": [
    "Задача: построить модель для классификации, которая выберет подходящий тариф. \n",
    "\n",
    "Метрика точности предсказания - accuracy (должна быть больше 0.75).\n",
    "\n",
    "Данные уже предобработаны. "
   ]
  },
  {
   "cell_type": "markdown",
   "metadata": {},
   "source": [
    " <b>План действий:</b>\n",
    "\n",
    "1. Открытие файла и изучение датасета.\n",
    "\n",
    "2. Разделение исходных данных на выборки, для эффективного построения обучающей модели.\n",
    "\n",
    "3. Построение обучающих моделей, их сравнение, нахождение наиболее эффективной.\n",
    "\n",
    "4. Проверка качества обучающей модели. \n",
    "\n",
    "5. Проверка модели на адекватность. \n"
   ]
  },
  {
   "cell_type": "markdown",
   "metadata": {},
   "source": [
    "## Открытие и изучение файла"
   ]
  },
  {
   "cell_type": "code",
   "execution_count": 1,
   "metadata": {},
   "outputs": [],
   "source": [
    "import pandas as pd\n",
    "%matplotlib inline\n",
    "import matplotlib.pyplot as plt\n",
    "import datetime\n",
    "from pandas.plotting import scatter_matrix \n",
    "from sklearn.tree import DecisionTreeClassifier\n",
    "from sklearn.ensemble import RandomForestClassifier\n",
    "from sklearn.linear_model import LogisticRegression\n",
    "from sklearn.model_selection import train_test_split\n",
    "from sklearn.metrics import accuracy_score\n",
    "from sklearn.dummy import DummyClassifier\n",
    "import warnings\n",
    "warnings.filterwarnings(\"ignore\")"
   ]
  },
  {
   "cell_type": "code",
   "execution_count": 2,
   "metadata": {},
   "outputs": [],
   "source": [
    "df = pd.read_csv('/datasets/users_behavior.csv')"
   ]
  },
  {
   "cell_type": "code",
   "execution_count": 3,
   "metadata": {},
   "outputs": [
    {
     "data": {
      "text/html": [
       "<div>\n",
       "<style scoped>\n",
       "    .dataframe tbody tr th:only-of-type {\n",
       "        vertical-align: middle;\n",
       "    }\n",
       "\n",
       "    .dataframe tbody tr th {\n",
       "        vertical-align: top;\n",
       "    }\n",
       "\n",
       "    .dataframe thead th {\n",
       "        text-align: right;\n",
       "    }\n",
       "</style>\n",
       "<table border=\"1\" class=\"dataframe\">\n",
       "  <thead>\n",
       "    <tr style=\"text-align: right;\">\n",
       "      <th></th>\n",
       "      <th>calls</th>\n",
       "      <th>minutes</th>\n",
       "      <th>messages</th>\n",
       "      <th>mb_used</th>\n",
       "      <th>is_ultra</th>\n",
       "    </tr>\n",
       "  </thead>\n",
       "  <tbody>\n",
       "    <tr>\n",
       "      <th>0</th>\n",
       "      <td>40.0</td>\n",
       "      <td>311.90</td>\n",
       "      <td>83.0</td>\n",
       "      <td>19915.42</td>\n",
       "      <td>0</td>\n",
       "    </tr>\n",
       "    <tr>\n",
       "      <th>1</th>\n",
       "      <td>85.0</td>\n",
       "      <td>516.75</td>\n",
       "      <td>56.0</td>\n",
       "      <td>22696.96</td>\n",
       "      <td>0</td>\n",
       "    </tr>\n",
       "    <tr>\n",
       "      <th>2</th>\n",
       "      <td>77.0</td>\n",
       "      <td>467.66</td>\n",
       "      <td>86.0</td>\n",
       "      <td>21060.45</td>\n",
       "      <td>0</td>\n",
       "    </tr>\n",
       "    <tr>\n",
       "      <th>3</th>\n",
       "      <td>106.0</td>\n",
       "      <td>745.53</td>\n",
       "      <td>81.0</td>\n",
       "      <td>8437.39</td>\n",
       "      <td>1</td>\n",
       "    </tr>\n",
       "    <tr>\n",
       "      <th>4</th>\n",
       "      <td>66.0</td>\n",
       "      <td>418.74</td>\n",
       "      <td>1.0</td>\n",
       "      <td>14502.75</td>\n",
       "      <td>0</td>\n",
       "    </tr>\n",
       "    <tr>\n",
       "      <th>...</th>\n",
       "      <td>...</td>\n",
       "      <td>...</td>\n",
       "      <td>...</td>\n",
       "      <td>...</td>\n",
       "      <td>...</td>\n",
       "    </tr>\n",
       "    <tr>\n",
       "      <th>3209</th>\n",
       "      <td>122.0</td>\n",
       "      <td>910.98</td>\n",
       "      <td>20.0</td>\n",
       "      <td>35124.90</td>\n",
       "      <td>1</td>\n",
       "    </tr>\n",
       "    <tr>\n",
       "      <th>3210</th>\n",
       "      <td>25.0</td>\n",
       "      <td>190.36</td>\n",
       "      <td>0.0</td>\n",
       "      <td>3275.61</td>\n",
       "      <td>0</td>\n",
       "    </tr>\n",
       "    <tr>\n",
       "      <th>3211</th>\n",
       "      <td>97.0</td>\n",
       "      <td>634.44</td>\n",
       "      <td>70.0</td>\n",
       "      <td>13974.06</td>\n",
       "      <td>0</td>\n",
       "    </tr>\n",
       "    <tr>\n",
       "      <th>3212</th>\n",
       "      <td>64.0</td>\n",
       "      <td>462.32</td>\n",
       "      <td>90.0</td>\n",
       "      <td>31239.78</td>\n",
       "      <td>0</td>\n",
       "    </tr>\n",
       "    <tr>\n",
       "      <th>3213</th>\n",
       "      <td>80.0</td>\n",
       "      <td>566.09</td>\n",
       "      <td>6.0</td>\n",
       "      <td>29480.52</td>\n",
       "      <td>1</td>\n",
       "    </tr>\n",
       "  </tbody>\n",
       "</table>\n",
       "<p>3214 rows × 5 columns</p>\n",
       "</div>"
      ],
      "text/plain": [
       "      calls  minutes  messages   mb_used  is_ultra\n",
       "0      40.0   311.90      83.0  19915.42         0\n",
       "1      85.0   516.75      56.0  22696.96         0\n",
       "2      77.0   467.66      86.0  21060.45         0\n",
       "3     106.0   745.53      81.0   8437.39         1\n",
       "4      66.0   418.74       1.0  14502.75         0\n",
       "...     ...      ...       ...       ...       ...\n",
       "3209  122.0   910.98      20.0  35124.90         1\n",
       "3210   25.0   190.36       0.0   3275.61         0\n",
       "3211   97.0   634.44      70.0  13974.06         0\n",
       "3212   64.0   462.32      90.0  31239.78         0\n",
       "3213   80.0   566.09       6.0  29480.52         1\n",
       "\n",
       "[3214 rows x 5 columns]"
      ]
     },
     "metadata": {},
     "output_type": "display_data"
    }
   ],
   "source": [
    "display(df)"
   ]
  },
  {
   "cell_type": "code",
   "execution_count": 4,
   "metadata": {},
   "outputs": [
    {
     "name": "stdout",
     "output_type": "stream",
     "text": [
      "<class 'pandas.core.frame.DataFrame'>\n",
      "RangeIndex: 3214 entries, 0 to 3213\n",
      "Data columns (total 5 columns):\n",
      " #   Column    Non-Null Count  Dtype  \n",
      "---  ------    --------------  -----  \n",
      " 0   calls     3214 non-null   float64\n",
      " 1   minutes   3214 non-null   float64\n",
      " 2   messages  3214 non-null   float64\n",
      " 3   mb_used   3214 non-null   float64\n",
      " 4   is_ultra  3214 non-null   int64  \n",
      "dtypes: float64(4), int64(1)\n",
      "memory usage: 125.7 KB\n"
     ]
    }
   ],
   "source": [
    "df.info()"
   ]
  },
  {
   "cell_type": "markdown",
   "metadata": {},
   "source": [
    "### Описание данных:"
   ]
  },
  {
   "cell_type": "markdown",
   "metadata": {},
   "source": [
    "Каждый объект в наборе данных — это информация о поведении одного пользователя за месяц. \n",
    "\n",
    "`сalls` — количество звонков\n",
    "\n",
    "`minutes` — суммарная длительность звонков в минутах\n",
    "\n",
    "`messages` — количество sms-сообщений\n",
    "\n",
    "`mb_used` — израсходованный интернет-трафик в Мб\n",
    "\n",
    "`is_ultra` — каким тарифом пользовался в течение месяца («Ультра» — 1, «Смарт» — 0)"
   ]
  },
  {
   "cell_type": "markdown",
   "metadata": {},
   "source": [
    "## Анализ данных"
   ]
  },
  {
   "cell_type": "markdown",
   "metadata": {},
   "source": [
    "**Количество пропусков:**"
   ]
  },
  {
   "cell_type": "code",
   "execution_count": 5,
   "metadata": {},
   "outputs": [
    {
     "name": "stdout",
     "output_type": "stream",
     "text": [
      "calls       0\n",
      "minutes     0\n",
      "messages    0\n",
      "mb_used     0\n",
      "is_ultra    0\n",
      "dtype: int64\n"
     ]
    }
   ],
   "source": [
    "print(df.isna().sum())"
   ]
  },
  {
   "cell_type": "markdown",
   "metadata": {},
   "source": [
    "**Количесвто дубликатов:**"
   ]
  },
  {
   "cell_type": "code",
   "execution_count": 6,
   "metadata": {},
   "outputs": [
    {
     "name": "stdout",
     "output_type": "stream",
     "text": [
      "0\n"
     ]
    }
   ],
   "source": [
    "print(df.duplicated().sum())"
   ]
  },
  {
   "cell_type": "markdown",
   "metadata": {},
   "source": [
    "**Уникальные значения в столбцах:**"
   ]
  },
  {
   "cell_type": "code",
   "execution_count": 7,
   "metadata": {},
   "outputs": [
    {
     "name": "stdout",
     "output_type": "stream",
     "text": [
      "[ 40.  85.  77. 106.  66.  58.  57.  15.   7.  90.  82.  45.  51.  56.\n",
      " 108.   6.   2.  26.  79.  49.  93.  48.  11.  53.  81. 154.  37.  50.\n",
      "  41.  10.  71.  65. 110. 120.  76.  64.  23.  34.  98.  35.   5.  70.\n",
      " 124. 129.  67.   0.  13.  68.  91. 121. 114. 125.  80.  33. 138.  84.\n",
      "  78.  69.  63.  72.  73.   1.  43. 118.  74.  83. 141. 117.  54. 101.\n",
      "  29.   3. 107.  55.  47. 158.  87.  28.  59.  52.  44.  17. 111. 109.\n",
      "  14.  92.  94.  46. 133.  75.  38.  60. 100.  31.  61.  89.  27. 196.\n",
      "  24.  99.  62. 162. 116. 123.  18.  21.  12.  86.  32.  95.  39.  30.\n",
      "  25.  36.  42. 113.   9. 183. 156. 127.  96.  16.   4. 102.  97.  20.\n",
      " 104. 144.  19. 132. 131. 136.  88. 115. 176. 160. 164. 169.  22. 105.\n",
      " 152. 177. 161. 112.   8. 126. 178. 103. 130. 198. 119. 137. 150. 122.\n",
      " 146. 151. 157. 203. 143. 148. 128. 185. 167. 181. 184. 171. 153. 140.\n",
      " 159. 188. 134. 189. 182. 173. 172. 145. 180. 155. 174. 244. 165. 163.\n",
      " 142. 168.]\n"
     ]
    }
   ],
   "source": [
    "print(df['calls'].unique())"
   ]
  },
  {
   "cell_type": "code",
   "execution_count": 8,
   "metadata": {},
   "outputs": [
    {
     "name": "stdout",
     "output_type": "stream",
     "text": [
      "[311.9  516.75 467.66 ... 634.44 462.32 566.09]\n"
     ]
    }
   ],
   "source": [
    "print(df['minutes'].unique())"
   ]
  },
  {
   "cell_type": "code",
   "execution_count": 9,
   "metadata": {},
   "outputs": [
    {
     "name": "stdout",
     "output_type": "stream",
     "text": [
      "[ 83.  56.  86.  81.   1.  21.  20.   6.   3.  38.  13.  61.  16.   0.\n",
      "   4.  90.  31.  97.  66.  19.  30.  52.  48.  44.  27.   7.   9.  43.\n",
      "  33.  34.  10. 106.  65.  17.  11.  29.  75.  47.  49.  64. 144.  99.\n",
      "  46.  24.  22.  55.   8.  93. 153.  37.  69.  18.  78.  42.  82.  62.\n",
      "  40.  57.  60.  58. 123.  26.  51. 109.   5.  39.  35.  79.  12. 182.\n",
      "  36. 126.  59. 102.  14. 133. 110.  54.  72. 103.  23. 108.  92.  73.\n",
      "  15.  25.  91. 113. 105.  85. 191.  32.  50. 145.  41. 150.  53. 171.\n",
      " 176.  68.  28.  76.  71. 118.  63. 132.  84.   2.  67. 111. 101.  96.\n",
      " 112.  95.  89. 143.  45.  70.  77.  94. 137. 107.  98. 141. 124. 129.\n",
      " 114.  87.  80. 117. 138. 142. 134. 128. 180. 115. 154.  74. 185. 121.\n",
      " 127. 116.  88. 140. 201. 100. 169. 155. 135. 151. 139. 131. 188. 157.\n",
      " 148. 104. 224. 158. 211. 120. 149. 190. 173. 172. 146. 162. 119. 178.\n",
      " 223. 130. 122. 159. 181. 125. 152. 197. 136. 165. 183. 170.]\n"
     ]
    }
   ],
   "source": [
    "print(df['messages'].unique())"
   ]
  },
  {
   "cell_type": "code",
   "execution_count": 10,
   "metadata": {},
   "outputs": [
    {
     "name": "stdout",
     "output_type": "stream",
     "text": [
      "[19915.42 22696.96 21060.45 ... 13974.06 31239.78 29480.52]\n"
     ]
    }
   ],
   "source": [
    "print(df['mb_used'].unique())"
   ]
  },
  {
   "cell_type": "code",
   "execution_count": 11,
   "metadata": {},
   "outputs": [
    {
     "name": "stdout",
     "output_type": "stream",
     "text": [
      "[0 1]\n"
     ]
    }
   ],
   "source": [
    "print(df['is_ultra'].unique())"
   ]
  },
  {
   "cell_type": "markdown",
   "metadata": {},
   "source": [
    "<b>Вывод:</b>\n",
    "\n",
    "Пропущенных значений нет. Дубликатов нет. Данные аномалий не содержат.\n"
   ]
  },
  {
   "cell_type": "markdown",
   "metadata": {},
   "source": [
    "**Проверка взаимосвязи данных:**"
   ]
  },
  {
   "cell_type": "code",
   "execution_count": 12,
   "metadata": {},
   "outputs": [
    {
     "data": {
      "image/png": "[encoded data removed]",
      "text/plain": [
       "<Figure size 432x288 with 25 Axes>"
      ]
     },
     "metadata": {
      "needs_background": "light"
     },
     "output_type": "display_data"
    }
   ],
   "source": [
    "pd.plotting.scatter_matrix(df)\n",
    "plt.show()"
   ]
  },
  {
   "cell_type": "code",
   "execution_count": 13,
   "metadata": {},
   "outputs": [
    {
     "name": "stdout",
     "output_type": "stream",
     "text": [
      "0.9820832355742292\n"
     ]
    }
   ],
   "source": [
    "print(df['calls'].corr(df['minutes']))"
   ]
  },
  {
   "cell_type": "markdown",
   "metadata": {},
   "source": [
    "Зависимость мужду минутами и количеством звонком очень сильная, удалим столбец с минутами из таблицы.\n"
   ]
  },
  {
   "cell_type": "code",
   "execution_count": 14,
   "metadata": {},
   "outputs": [
    {
     "data": {
      "text/html": [
       "<div>\n",
       "<style scoped>\n",
       "    .dataframe tbody tr th:only-of-type {\n",
       "        vertical-align: middle;\n",
       "    }\n",
       "\n",
       "    .dataframe tbody tr th {\n",
       "        vertical-align: top;\n",
       "    }\n",
       "\n",
       "    .dataframe thead th {\n",
       "        text-align: right;\n",
       "    }\n",
       "</style>\n",
       "<table border=\"1\" class=\"dataframe\">\n",
       "  <thead>\n",
       "    <tr style=\"text-align: right;\">\n",
       "      <th></th>\n",
       "      <th>minutes</th>\n",
       "      <th>messages</th>\n",
       "      <th>mb_used</th>\n",
       "      <th>is_ultra</th>\n",
       "    </tr>\n",
       "  </thead>\n",
       "  <tbody>\n",
       "    <tr>\n",
       "      <th>0</th>\n",
       "      <td>311.90</td>\n",
       "      <td>83.0</td>\n",
       "      <td>19915.42</td>\n",
       "      <td>0</td>\n",
       "    </tr>\n",
       "    <tr>\n",
       "      <th>1</th>\n",
       "      <td>516.75</td>\n",
       "      <td>56.0</td>\n",
       "      <td>22696.96</td>\n",
       "      <td>0</td>\n",
       "    </tr>\n",
       "    <tr>\n",
       "      <th>2</th>\n",
       "      <td>467.66</td>\n",
       "      <td>86.0</td>\n",
       "      <td>21060.45</td>\n",
       "      <td>0</td>\n",
       "    </tr>\n",
       "    <tr>\n",
       "      <th>3</th>\n",
       "      <td>745.53</td>\n",
       "      <td>81.0</td>\n",
       "      <td>8437.39</td>\n",
       "      <td>1</td>\n",
       "    </tr>\n",
       "    <tr>\n",
       "      <th>4</th>\n",
       "      <td>418.74</td>\n",
       "      <td>1.0</td>\n",
       "      <td>14502.75</td>\n",
       "      <td>0</td>\n",
       "    </tr>\n",
       "    <tr>\n",
       "      <th>...</th>\n",
       "      <td>...</td>\n",
       "      <td>...</td>\n",
       "      <td>...</td>\n",
       "      <td>...</td>\n",
       "    </tr>\n",
       "    <tr>\n",
       "      <th>3209</th>\n",
       "      <td>910.98</td>\n",
       "      <td>20.0</td>\n",
       "      <td>35124.90</td>\n",
       "      <td>1</td>\n",
       "    </tr>\n",
       "    <tr>\n",
       "      <th>3210</th>\n",
       "      <td>190.36</td>\n",
       "      <td>0.0</td>\n",
       "      <td>3275.61</td>\n",
       "      <td>0</td>\n",
       "    </tr>\n",
       "    <tr>\n",
       "      <th>3211</th>\n",
       "      <td>634.44</td>\n",
       "      <td>70.0</td>\n",
       "      <td>13974.06</td>\n",
       "      <td>0</td>\n",
       "    </tr>\n",
       "    <tr>\n",
       "      <th>3212</th>\n",
       "      <td>462.32</td>\n",
       "      <td>90.0</td>\n",
       "      <td>31239.78</td>\n",
       "      <td>0</td>\n",
       "    </tr>\n",
       "    <tr>\n",
       "      <th>3213</th>\n",
       "      <td>566.09</td>\n",
       "      <td>6.0</td>\n",
       "      <td>29480.52</td>\n",
       "      <td>1</td>\n",
       "    </tr>\n",
       "  </tbody>\n",
       "</table>\n",
       "<p>3214 rows × 4 columns</p>\n",
       "</div>"
      ],
      "text/plain": [
       "      minutes  messages   mb_used  is_ultra\n",
       "0      311.90      83.0  19915.42         0\n",
       "1      516.75      56.0  22696.96         0\n",
       "2      467.66      86.0  21060.45         0\n",
       "3      745.53      81.0   8437.39         1\n",
       "4      418.74       1.0  14502.75         0\n",
       "...       ...       ...       ...       ...\n",
       "3209   910.98      20.0  35124.90         1\n",
       "3210   190.36       0.0   3275.61         0\n",
       "3211   634.44      70.0  13974.06         0\n",
       "3212   462.32      90.0  31239.78         0\n",
       "3213   566.09       6.0  29480.52         1\n",
       "\n",
       "[3214 rows x 4 columns]"
      ]
     },
     "metadata": {},
     "output_type": "display_data"
    }
   ],
   "source": [
    "df = df.drop(['calls'], axis=1)\n",
    "display(df)"
   ]
  },
  {
   "cell_type": "markdown",
   "metadata": {},
   "source": [
    "## Разделение данных на выборки"
   ]
  },
  {
   "cell_type": "markdown",
   "metadata": {},
   "source": [
    "**stratify=target (для равного отношения классов в выборках):**"
   ]
  },
  {
   "cell_type": "code",
   "execution_count": 15,
   "metadata": {},
   "outputs": [],
   "source": [
    "target = df['is_ultra']"
   ]
  },
  {
   "cell_type": "code",
   "execution_count": 16,
   "metadata": {},
   "outputs": [],
   "source": [
    "df_train, df_2 = train_test_split(df, test_size=0.4, random_state=12345, stratify=target) \n",
    "df_valid, df_test = train_test_split(df_2, test_size=0.5, random_state=12345)\n"
   ]
  },
  {
   "cell_type": "markdown",
   "metadata": {},
   "source": [
    "**Проверка размера выборок:**"
   ]
  },
  {
   "cell_type": "code",
   "execution_count": 17,
   "metadata": {},
   "outputs": [
    {
     "name": "stdout",
     "output_type": "stream",
     "text": [
      "(1928, 4)\n",
      "\n",
      "1928\n",
      "\n",
      "(643, 4)\n",
      "\n",
      "643\n",
      "\n",
      "(643, 4)\n",
      "\n",
      "643\n",
      "\n"
     ]
    }
   ],
   "source": [
    "print(df_train.shape)\n",
    "print()\n",
    "print(len(df_train))\n",
    "print()\n",
    "print(df_valid.shape)\n",
    "print()\n",
    "print(len(df_valid))\n",
    "print()\n",
    "print(df_test.shape)\n",
    "print()\n",
    "print(len(df_test))\n",
    "print()"
   ]
  },
  {
   "cell_type": "markdown",
   "metadata": {},
   "source": [
    "df_train - обучающая (тренировочная) выборка,\n",
    "\n",
    "df_valid - валидационная выборка,\n",
    "\n",
    "df_test - тестовая выборка."
   ]
  },
  {
   "cell_type": "markdown",
   "metadata": {},
   "source": [
    "## Исследование моделей, определение лучшей"
   ]
  },
  {
   "cell_type": "markdown",
   "metadata": {},
   "source": [
    "Перед нами стоит задача бинарной классификации.\n",
    "\n",
    "0 - тариф \"Смарт.\n",
    "\n",
    "1 - тариф \"Ультра\".\n",
    "\n",
    "Для качественного предсказания нужного тарифа по предоставленным данным, рассмотрим три модели машинного обучения с различными гиперпараметрами. Посчитаем долю правильных ответов для каждой модели и выберем лучшую."
   ]
  },
  {
   "cell_type": "markdown",
   "metadata": {},
   "source": [
    "**Разделение данных на признаки и целевой признак:**"
   ]
  },
  {
   "cell_type": "code",
   "execution_count": 18,
   "metadata": {},
   "outputs": [],
   "source": [
    "# Признаки и целевой признак \n",
    "\n",
    "features_train = df_train.drop(['is_ultra'], axis=1)\n",
    "target_train = df_train['is_ultra']\n",
    "features_valid = df_valid.drop(['is_ultra'], axis=1)\n",
    "target_valid = df_valid['is_ultra']\n",
    "features_test = df_test.drop(['is_ultra'], axis=1)\n",
    "target_test = df_test['is_ultra']\n"
   ]
  },
  {
   "cell_type": "markdown",
   "metadata": {},
   "source": [
    "### DecisionTreeClassifier, criterion='Gini'"
   ]
  },
  {
   "cell_type": "code",
   "execution_count": 19,
   "metadata": {
    "scrolled": true
   },
   "outputs": [
    {
     "name": "stdout",
     "output_type": "stream",
     "text": [
      "max_depth = 1 : 0.7309486780715396\n",
      "max_depth = 2 : 0.7698289269051322\n",
      "max_depth = 3 : 0.7807153965785381\n",
      "max_depth = 4 : 0.7682737169517885\n",
      "max_depth = 5 : 0.7744945567651633\n",
      "max_depth = 6 : 0.7947122861586314\n",
      "max_depth = 7 : 0.7962674961119751\n",
      "max_depth = 8 : 0.7978227060653188\n",
      "max_depth = 9 : 0.7993779160186625\n",
      "max_depth = 10 : 0.7900466562986003\n",
      "max_depth = 11 : 0.7744945567651633\n"
     ]
    }
   ],
   "source": [
    "# Решающее дерево с глубиной от 1 до 11, критерий Джини\n",
    "\n",
    "for depth in range(1, 12):\n",
    "    model = DecisionTreeClassifier(random_state=12345, max_depth=depth)\n",
    "\n",
    "    model.fit(features_train, target_train)\n",
    "\n",
    "    predictions_valid = model.predict(features_valid)\n",
    "    \n",
    "    print(\"max_depth =\", depth, \": \", end='')\n",
    "    print(accuracy_score(target_valid, predictions_valid)) \n",
    "\n"
   ]
  },
  {
   "cell_type": "markdown",
   "metadata": {},
   "source": [
    "### DecisionTreeClassifier, criterion='entropy'"
   ]
  },
  {
   "cell_type": "code",
   "execution_count": 20,
   "metadata": {},
   "outputs": [
    {
     "name": "stdout",
     "output_type": "stream",
     "text": [
      "max_depth = 1 : 0.7309486780715396\n",
      "max_depth = 2 : 0.7698289269051322\n",
      "max_depth = 3 : 0.7807153965785381\n",
      "max_depth = 4 : 0.7744945567651633\n",
      "max_depth = 5 : 0.7978227060653188\n",
      "max_depth = 6 : 0.7962674961119751\n",
      "max_depth = 7 : 0.8040435458786936\n",
      "max_depth = 8 : 0.807153965785381\n",
      "max_depth = 9 : 0.8055987558320373\n",
      "max_depth = 10 : 0.7698289269051322\n",
      "max_depth = 11 : 0.776049766718507\n"
     ]
    }
   ],
   "source": [
    "# Решающее дерево с глубиной от 1 до 11, энтропийный критерий \n",
    "\n",
    "for depth in range(1, 12):\n",
    "    model = DecisionTreeClassifier(criterion='entropy', random_state=12345, max_depth=depth)\n",
    "\n",
    "    model.fit(features_train, target_train)\n",
    "\n",
    "    predictions_valid = model.predict(features_valid)\n",
    "    \n",
    "    print(\"max_depth =\", depth, \": \", end='')\n",
    "    print(accuracy_score(target_valid, predictions_valid)) "
   ]
  },
  {
   "cell_type": "markdown",
   "metadata": {},
   "source": [
    "### LogisticRegression"
   ]
  },
  {
   "cell_type": "code",
   "execution_count": 21,
   "metadata": {},
   "outputs": [
    {
     "name": "stdout",
     "output_type": "stream",
     "text": [
      "Accuracy модели логистической регрессии на валидационной выборке: 0.7216174183514774\n"
     ]
    }
   ],
   "source": [
    "# Логистическая регрессия\n",
    "\n",
    "model = LogisticRegression(random_state=12345) \n",
    "\n",
    "model.fit(features_train, target_train) \n",
    "predictions_valid = model.predict(features_valid)\n",
    "\n",
    "print(\"Accuracy модели логистической регрессии на валидационной выборке:\", accuracy_score(target_valid, predictions_valid))"
   ]
  },
  {
   "cell_type": "markdown",
   "metadata": {},
   "source": [
    "### RandomForestClassifier"
   ]
  },
  {
   "cell_type": "code",
   "execution_count": 22,
   "metadata": {},
   "outputs": [
    {
     "name": "stdout",
     "output_type": "stream",
     "text": [
      "Accuracy наилучшей модели на валидационной выборке: 0.833592534992224 Количество деревьев: 15 Максимальная глубина: 17\n"
     ]
    }
   ],
   "source": [
    "# Случайный лес \n",
    "\n",
    "best_model = None\n",
    "best_result = 0\n",
    "best_est = 0\n",
    "best_depth = 0\n",
    "for est in range(1, 18):\n",
    "    for depth in range (1, 18):\n",
    "        model = RandomForestClassifier(random_state=12345, n_estimators=est, max_depth=depth) \n",
    "        model.fit(features_train, target_train) \n",
    "        predictions_valid = model.predict(features_valid) \n",
    "        result = accuracy_score(target_valid, predictions_valid)\n",
    "        if result > best_result:\n",
    "            best_model = model\n",
    "            best_result = result\n",
    "            best_est = est\n",
    "            best_depth = depth\n",
    "\n",
    "print(\"Accuracy наилучшей модели на валидационной выборке:\", best_result, \"Количество деревьев:\", best_est, \"Максимальная глубина:\", depth)"
   ]
  },
  {
   "cell_type": "markdown",
   "metadata": {},
   "source": [
    "### RandomForestClassifier, criterion='entropy'"
   ]
  },
  {
   "cell_type": "code",
   "execution_count": 23,
   "metadata": {},
   "outputs": [
    {
     "name": "stdout",
     "output_type": "stream",
     "text": [
      "Accuracy наилучшей модели на валидационной выборке: 0.8258164852255054 Количество деревьев: 13 Максимальная глубина: 17\n"
     ]
    }
   ],
   "source": [
    "# Случайный лес, энтропийный критерий \n",
    "\n",
    "best_model = None\n",
    "best_result = 0\n",
    "best_est = 0\n",
    "best_depth = 0\n",
    "for est in range(1, 18):\n",
    "    for depth in range (1, 18):\n",
    "        model = RandomForestClassifier(criterion='entropy', random_state=12345, n_estimators=est, max_depth=depth) \n",
    "        model.fit(features_train, target_train) \n",
    "        predictions_valid = model.predict(features_valid) \n",
    "        result = accuracy_score(target_valid, predictions_valid)\n",
    "        if result > best_result:\n",
    "            best_model = model\n",
    "            best_result = result\n",
    "            best_est = est\n",
    "            best_depth = depth\n",
    "\n",
    "print(\"Accuracy наилучшей модели на валидационной выборке:\", best_result, \"Количество деревьев:\", best_est, \"Максимальная глубина:\", depth)"
   ]
  },
  {
   "cell_type": "markdown",
   "metadata": {},
   "source": [
    "<b>Вывод:</b>\n",
    "\n",
    "Среди всех моделей и гиперпараметров лучший результат наблюдается у \"случайного леса\" с глубиной 17, количества деревьев 15 и критерием 'джини'.  Проверим работу этой модели на тестовой выборке. Для этого соединим валидационную выборку и обучающую выборку и на этой общей выборке обучим модель."
   ]
  },
  {
   "cell_type": "markdown",
   "metadata": {},
   "source": [
    "## Проверка модели на тестовой выборке"
   ]
  },
  {
   "cell_type": "markdown",
   "metadata": {},
   "source": [
    "**Объединение валидационной выборки и обучающей:**"
   ]
  },
  {
   "cell_type": "code",
   "execution_count": 24,
   "metadata": {},
   "outputs": [
    {
     "data": {
      "text/html": [
       "<div>\n",
       "<style scoped>\n",
       "    .dataframe tbody tr th:only-of-type {\n",
       "        vertical-align: middle;\n",
       "    }\n",
       "\n",
       "    .dataframe tbody tr th {\n",
       "        vertical-align: top;\n",
       "    }\n",
       "\n",
       "    .dataframe thead th {\n",
       "        text-align: right;\n",
       "    }\n",
       "</style>\n",
       "<table border=\"1\" class=\"dataframe\">\n",
       "  <thead>\n",
       "    <tr style=\"text-align: right;\">\n",
       "      <th></th>\n",
       "      <th>minutes</th>\n",
       "      <th>messages</th>\n",
       "      <th>mb_used</th>\n",
       "      <th>is_ultra</th>\n",
       "    </tr>\n",
       "  </thead>\n",
       "  <tbody>\n",
       "    <tr>\n",
       "      <th>1725</th>\n",
       "      <td>645.72</td>\n",
       "      <td>0.0</td>\n",
       "      <td>14586.92</td>\n",
       "      <td>0</td>\n",
       "    </tr>\n",
       "    <tr>\n",
       "      <th>2061</th>\n",
       "      <td>478.48</td>\n",
       "      <td>0.0</td>\n",
       "      <td>16962.58</td>\n",
       "      <td>0</td>\n",
       "    </tr>\n",
       "    <tr>\n",
       "      <th>2440</th>\n",
       "      <td>466.60</td>\n",
       "      <td>0.0</td>\n",
       "      <td>17353.48</td>\n",
       "      <td>0</td>\n",
       "    </tr>\n",
       "    <tr>\n",
       "      <th>1568</th>\n",
       "      <td>261.03</td>\n",
       "      <td>72.0</td>\n",
       "      <td>14587.09</td>\n",
       "      <td>0</td>\n",
       "    </tr>\n",
       "    <tr>\n",
       "      <th>2500</th>\n",
       "      <td>353.63</td>\n",
       "      <td>29.0</td>\n",
       "      <td>24852.78</td>\n",
       "      <td>0</td>\n",
       "    </tr>\n",
       "    <tr>\n",
       "      <th>...</th>\n",
       "      <td>...</td>\n",
       "      <td>...</td>\n",
       "      <td>...</td>\n",
       "      <td>...</td>\n",
       "    </tr>\n",
       "    <tr>\n",
       "      <th>1967</th>\n",
       "      <td>654.92</td>\n",
       "      <td>40.0</td>\n",
       "      <td>18362.08</td>\n",
       "      <td>0</td>\n",
       "    </tr>\n",
       "    <tr>\n",
       "      <th>920</th>\n",
       "      <td>732.20</td>\n",
       "      <td>44.0</td>\n",
       "      <td>28042.76</td>\n",
       "      <td>1</td>\n",
       "    </tr>\n",
       "    <tr>\n",
       "      <th>2456</th>\n",
       "      <td>169.77</td>\n",
       "      <td>16.0</td>\n",
       "      <td>11684.21</td>\n",
       "      <td>1</td>\n",
       "    </tr>\n",
       "    <tr>\n",
       "      <th>756</th>\n",
       "      <td>401.45</td>\n",
       "      <td>91.0</td>\n",
       "      <td>19021.56</td>\n",
       "      <td>0</td>\n",
       "    </tr>\n",
       "    <tr>\n",
       "      <th>2134</th>\n",
       "      <td>289.40</td>\n",
       "      <td>84.0</td>\n",
       "      <td>15696.86</td>\n",
       "      <td>1</td>\n",
       "    </tr>\n",
       "  </tbody>\n",
       "</table>\n",
       "<p>2571 rows × 4 columns</p>\n",
       "</div>"
      ],
      "text/plain": [
       "      minutes  messages   mb_used  is_ultra\n",
       "1725   645.72       0.0  14586.92         0\n",
       "2061   478.48       0.0  16962.58         0\n",
       "2440   466.60       0.0  17353.48         0\n",
       "1568   261.03      72.0  14587.09         0\n",
       "2500   353.63      29.0  24852.78         0\n",
       "...       ...       ...       ...       ...\n",
       "1967   654.92      40.0  18362.08         0\n",
       "920    732.20      44.0  28042.76         1\n",
       "2456   169.77      16.0  11684.21         1\n",
       "756    401.45      91.0  19021.56         0\n",
       "2134   289.40      84.0  15696.86         1\n",
       "\n",
       "[2571 rows x 4 columns]"
      ]
     },
     "metadata": {},
     "output_type": "display_data"
    }
   ],
   "source": [
    "df_t_v = pd.concat([df_valid, df_train], axis=0)\n",
    "display(df_t_v)\n",
    "\n"
   ]
  },
  {
   "cell_type": "code",
   "execution_count": 25,
   "metadata": {},
   "outputs": [],
   "source": [
    "features_t_v = df_t_v.drop(['is_ultra'], axis=1)\n",
    "target_t_v = df_t_v['is_ultra']"
   ]
  },
  {
   "cell_type": "code",
   "execution_count": 26,
   "metadata": {},
   "outputs": [
    {
     "name": "stdout",
     "output_type": "stream",
     "text": [
      "0.7900466562986003\n"
     ]
    }
   ],
   "source": [
    "model = RandomForestClassifier(random_state=12345, n_estimators=15, max_depth=17) \n",
    "model.fit(features_t_v, target_t_v) \n",
    "predictions_test = model.predict(features_test) \n",
    "result = accuracy_score(target_test, predictions_test)\n",
    "print(result)"
   ]
  },
  {
   "cell_type": "markdown",
   "metadata": {},
   "source": [
    "<b>Вывод:</b>\n",
    "\n",
    "Модель на тестовой выборке показывает меньшее знаение доли правильных ответов, тем не менее, оно больше порогового значения в 0.75"
   ]
  },
  {
   "cell_type": "markdown",
   "metadata": {},
   "source": [
    "## Проверка модели на адекватность"
   ]
  },
  {
   "cell_type": "markdown",
   "metadata": {},
   "source": [
    "**Распределение классов у целевого признака:**"
   ]
  },
  {
   "cell_type": "code",
   "execution_count": 27,
   "metadata": {},
   "outputs": [
    {
     "name": "stdout",
     "output_type": "stream",
     "text": [
      "0    1782\n",
      "1     789\n",
      "Name: is_ultra, dtype: int64\n"
     ]
    }
   ],
   "source": [
    "print(df_t_v['is_ultra'].value_counts())"
   ]
  },
  {
   "cell_type": "markdown",
   "metadata": {},
   "source": [
    "**«Most_frequent»: всегда предсказывает наиболее частую метку в обучающем наборе.**"
   ]
  },
  {
   "cell_type": "code",
   "execution_count": 28,
   "metadata": {},
   "outputs": [
    {
     "name": "stdout",
     "output_type": "stream",
     "text": [
      "0.6931155192532089\n"
     ]
    }
   ],
   "source": [
    "features_t_v = df_t_v.drop(['is_ultra'], axis=1)\n",
    "target_t_v = df_t_v['is_ultra']\n",
    "\n",
    "model = DummyClassifier(strategy=\"most_frequent\")\n",
    "model.fit(features_t_v, target_t_v)\n",
    "predictions_t_v = model.predict(features_t_v) \n",
    "result = accuracy_score(target_t_v, predictions_t_v)\n",
    "print(result)"
   ]
  },
  {
   "cell_type": "markdown",
   "metadata": {},
   "source": [
    "**Вывод:**\n",
    "\n",
    "Метрика при таком предсказании - 0.69, она меньше нашей полученной метрики в 0.79, соответственно модель предсказывает адекватно."
   ]
  },
  {
   "cell_type": "markdown",
   "metadata": {},
   "source": [
    "## Вывод\n",
    "\n",
    "Построили обучающую модель, которая предсказывает нужный тариф для клиентов оператора мобильной связи. Добились точности в 79%. Проверили модель на адекватность.\n",
    "\n",
    "Вот такие дела."
   ]
  }
 ],
 "metadata": {
  "ExecuteTimeLog": [
   {
    "duration": 1629,
    "start_time": "2021-09-19T11:32:22.718Z"
   },
   {
    "duration": 7,
    "start_time": "2021-09-19T11:41:47.267Z"
   },
   {
    "duration": 11,
    "start_time": "2021-09-19T11:42:53.831Z"
   },
   {
    "duration": 379,
    "start_time": "2021-09-19T18:22:11.889Z"
   },
   {
    "duration": 1462,
    "start_time": "2021-09-19T18:22:15.236Z"
   },
   {
    "duration": 397,
    "start_time": "2021-09-19T18:22:16.701Z"
   },
   {
    "duration": 48,
    "start_time": "2021-09-19T18:22:28.663Z"
   },
   {
    "duration": 1181,
    "start_time": "2021-09-23T09:14:57.273Z"
   },
   {
    "duration": 33,
    "start_time": "2021-09-23T09:14:58.457Z"
   },
   {
    "duration": 5,
    "start_time": "2021-09-23T09:19:07.835Z"
   },
   {
    "duration": 367,
    "start_time": "2021-09-23T09:23:40.696Z"
   },
   {
    "duration": 30,
    "start_time": "2021-09-23T09:24:23.835Z"
   },
   {
    "duration": 34,
    "start_time": "2021-09-23T09:24:24.251Z"
   },
   {
    "duration": 5,
    "start_time": "2021-09-23T09:24:25.070Z"
   },
   {
    "duration": 547,
    "start_time": "2021-09-23T09:24:25.546Z"
   },
   {
    "duration": 27,
    "start_time": "2021-09-23T09:24:41.901Z"
   },
   {
    "duration": 26,
    "start_time": "2021-09-23T09:25:37.547Z"
   },
   {
    "duration": 36,
    "start_time": "2021-09-23T09:28:27.164Z"
   },
   {
    "duration": 288,
    "start_time": "2021-09-23T09:30:19.474Z"
   },
   {
    "duration": 30,
    "start_time": "2021-09-23T09:30:48.946Z"
   },
   {
    "duration": 32,
    "start_time": "2021-09-23T09:30:49.361Z"
   },
   {
    "duration": 5,
    "start_time": "2021-09-23T09:30:49.906Z"
   },
   {
    "duration": 29,
    "start_time": "2021-09-23T09:30:50.067Z"
   },
   {
    "duration": 14,
    "start_time": "2021-09-23T09:30:51.411Z"
   },
   {
    "duration": 1125,
    "start_time": "2021-09-23T09:31:17.438Z"
   },
   {
    "duration": 29,
    "start_time": "2021-09-23T09:31:18.565Z"
   },
   {
    "duration": 5,
    "start_time": "2021-09-23T09:31:18.596Z"
   },
   {
    "duration": 3,
    "start_time": "2021-09-23T09:31:18.782Z"
   },
   {
    "duration": 15,
    "start_time": "2021-09-23T09:31:19.370Z"
   },
   {
    "duration": 1157,
    "start_time": "2021-09-23T09:32:51.749Z"
   },
   {
    "duration": 30,
    "start_time": "2021-09-23T09:32:52.908Z"
   },
   {
    "duration": 39,
    "start_time": "2021-09-23T09:32:52.940Z"
   },
   {
    "duration": 11,
    "start_time": "2021-09-23T09:32:52.981Z"
   },
   {
    "duration": 15,
    "start_time": "2021-09-23T09:32:53.057Z"
   },
   {
    "duration": 90,
    "start_time": "2021-09-23T09:33:39.641Z"
   },
   {
    "duration": 14,
    "start_time": "2021-09-23T09:33:45.926Z"
   },
   {
    "duration": 28,
    "start_time": "2021-09-23T09:33:57.880Z"
   },
   {
    "duration": 13,
    "start_time": "2021-09-23T09:34:00.739Z"
   },
   {
    "duration": 1449,
    "start_time": "2021-09-23T10:05:05.962Z"
   },
   {
    "duration": 1288,
    "start_time": "2021-09-23T10:05:18.736Z"
   },
   {
    "duration": 100,
    "start_time": "2021-09-23T10:05:54.861Z"
   },
   {
    "duration": 1425,
    "start_time": "2021-09-23T10:06:40.040Z"
   },
   {
    "duration": 403,
    "start_time": "2021-09-23T10:31:17.081Z"
   },
   {
    "duration": 5,
    "start_time": "2021-09-23T10:32:43.097Z"
   },
   {
    "duration": 28,
    "start_time": "2021-09-23T10:32:43.314Z"
   },
   {
    "duration": 14,
    "start_time": "2021-09-23T10:32:43.498Z"
   },
   {
    "duration": 1295,
    "start_time": "2021-09-23T10:32:44.886Z"
   },
   {
    "duration": 32,
    "start_time": "2021-09-23T10:33:08.268Z"
   },
   {
    "duration": 1193,
    "start_time": "2021-09-23T10:33:47.866Z"
   },
   {
    "duration": 33,
    "start_time": "2021-09-23T10:33:49.061Z"
   },
   {
    "duration": 6,
    "start_time": "2021-09-23T10:33:50.449Z"
   },
   {
    "duration": 3,
    "start_time": "2021-09-23T10:33:50.969Z"
   },
   {
    "duration": 2,
    "start_time": "2021-09-23T10:33:51.489Z"
   },
   {
    "duration": 3,
    "start_time": "2021-09-23T10:33:51.917Z"
   },
   {
    "duration": 32,
    "start_time": "2021-09-23T10:33:52.982Z"
   },
   {
    "duration": 1065,
    "start_time": "2021-09-23T12:01:00.601Z"
   },
   {
    "duration": 380,
    "start_time": "2021-09-23T12:01:01.708Z"
   },
   {
    "duration": 26374,
    "start_time": "2021-09-23T12:00:35.717Z"
   },
   {
    "duration": 261,
    "start_time": "2021-09-23T12:01:02.367Z"
   },
   {
    "duration": 275,
    "start_time": "2021-09-23T12:01:02.644Z"
   },
   {
    "duration": 279,
    "start_time": "2021-09-23T12:01:03.261Z"
   },
   {
    "duration": 31,
    "start_time": "2021-09-23T12:01:42.590Z"
   },
   {
    "duration": 7,
    "start_time": "2021-09-23T12:01:48.299Z"
   },
   {
    "duration": 6,
    "start_time": "2021-09-23T12:02:11.514Z"
   },
   {
    "duration": 60,
    "start_time": "2021-09-23T12:02:11.887Z"
   },
   {
    "duration": 15,
    "start_time": "2021-09-23T12:02:12.121Z"
   },
   {
    "duration": 1317,
    "start_time": "2021-09-23T12:02:12.399Z"
   },
   {
    "duration": 32,
    "start_time": "2021-09-23T12:02:13.718Z"
   },
   {
    "duration": 6,
    "start_time": "2021-09-23T12:03:36.252Z"
   },
   {
    "duration": 100,
    "start_time": "2021-09-23T12:03:37.419Z"
   },
   {
    "duration": 14,
    "start_time": "2021-09-23T12:03:38.789Z"
   },
   {
    "duration": 4421,
    "start_time": "2021-09-23T12:03:39.444Z"
   },
   {
    "duration": 36,
    "start_time": "2021-09-23T12:03:43.867Z"
   },
   {
    "duration": 15,
    "start_time": "2021-09-23T12:04:36.488Z"
   },
   {
    "duration": 318,
    "start_time": "2021-09-23T12:15:01.997Z"
   },
   {
    "duration": 123,
    "start_time": "2021-09-23T12:15:11.986Z"
   },
   {
    "duration": 5178,
    "start_time": "2021-09-23T12:17:16.943Z"
   },
   {
    "duration": 1128,
    "start_time": "2021-09-23T12:17:32.249Z"
   },
   {
    "duration": 7,
    "start_time": "2021-09-23T12:17:33.378Z"
   },
   {
    "duration": 6,
    "start_time": "2021-09-23T12:17:33.711Z"
   },
   {
    "duration": 98,
    "start_time": "2021-09-23T12:17:33.926Z"
   },
   {
    "duration": 124,
    "start_time": "2021-09-23T12:17:34.163Z"
   },
   {
    "duration": 16,
    "start_time": "2021-09-23T12:17:34.398Z"
   },
   {
    "duration": 4387,
    "start_time": "2021-09-23T12:17:34.655Z"
   },
   {
    "duration": 5208,
    "start_time": "2021-09-23T12:17:39.045Z"
   },
   {
    "duration": 28,
    "start_time": "2021-09-23T12:17:44.255Z"
   },
   {
    "duration": 321,
    "start_time": "2021-09-23T12:28:31.053Z"
   },
   {
    "duration": 2438,
    "start_time": "2021-09-23T12:28:36.408Z"
   },
   {
    "duration": 6,
    "start_time": "2021-09-23T12:28:38.848Z"
   },
   {
    "duration": 12,
    "start_time": "2021-09-23T12:28:38.857Z"
   },
   {
    "duration": 112,
    "start_time": "2021-09-23T12:28:38.871Z"
   },
   {
    "duration": 133,
    "start_time": "2021-09-23T12:28:38.985Z"
   },
   {
    "duration": 15,
    "start_time": "2021-09-23T12:28:39.120Z"
   },
   {
    "duration": 4656,
    "start_time": "2021-09-23T12:28:39.137Z"
   },
   {
    "duration": 5065,
    "start_time": "2021-09-23T12:28:43.795Z"
   },
   {
    "duration": 17,
    "start_time": "2021-09-23T12:28:48.886Z"
   },
   {
    "duration": 4,
    "start_time": "2021-09-23T12:30:23.473Z"
   },
   {
    "duration": 4,
    "start_time": "2021-09-23T12:31:07.006Z"
   },
   {
    "duration": 366,
    "start_time": "2021-09-23T12:32:17.353Z"
   },
   {
    "duration": 10,
    "start_time": "2021-09-23T12:32:36.098Z"
   },
   {
    "duration": 8,
    "start_time": "2021-09-23T12:33:03.495Z"
   },
   {
    "duration": 10,
    "start_time": "2021-09-23T12:33:56.621Z"
   },
   {
    "duration": 10,
    "start_time": "2021-09-23T12:34:45.409Z"
   },
   {
    "duration": 9,
    "start_time": "2021-09-23T12:34:47.679Z"
   },
   {
    "duration": 1140,
    "start_time": "2021-09-23T12:34:55.995Z"
   },
   {
    "duration": 9,
    "start_time": "2021-09-23T12:34:57.138Z"
   },
   {
    "duration": 7,
    "start_time": "2021-09-23T12:34:57.338Z"
   },
   {
    "duration": 96,
    "start_time": "2021-09-23T12:34:57.545Z"
   },
   {
    "duration": 116,
    "start_time": "2021-09-23T12:34:57.765Z"
   },
   {
    "duration": 15,
    "start_time": "2021-09-23T12:34:58.004Z"
   },
   {
    "duration": 4542,
    "start_time": "2021-09-23T12:34:58.267Z"
   },
   {
    "duration": 5298,
    "start_time": "2021-09-23T12:35:02.811Z"
   },
   {
    "duration": 15,
    "start_time": "2021-09-23T12:35:08.111Z"
   },
   {
    "duration": 15,
    "start_time": "2021-09-23T12:35:08.129Z"
   },
   {
    "duration": 1202,
    "start_time": "2021-09-23T12:35:50.056Z"
   },
   {
    "duration": 7,
    "start_time": "2021-09-23T12:35:51.259Z"
   },
   {
    "duration": 8,
    "start_time": "2021-09-23T12:35:51.268Z"
   },
   {
    "duration": 112,
    "start_time": "2021-09-23T12:35:51.279Z"
   },
   {
    "duration": 137,
    "start_time": "2021-09-23T12:35:51.393Z"
   },
   {
    "duration": 15,
    "start_time": "2021-09-23T12:35:51.531Z"
   },
   {
    "duration": 4495,
    "start_time": "2021-09-23T12:35:51.548Z"
   },
   {
    "duration": 5268,
    "start_time": "2021-09-23T12:35:56.045Z"
   },
   {
    "duration": 14,
    "start_time": "2021-09-23T12:36:01.315Z"
   },
   {
    "duration": 33,
    "start_time": "2021-09-23T12:36:01.331Z"
   },
   {
    "duration": 1954,
    "start_time": "2021-09-23T12:36:22.309Z"
   },
   {
    "duration": 8,
    "start_time": "2021-09-23T12:36:24.266Z"
   },
   {
    "duration": 7,
    "start_time": "2021-09-23T12:36:24.277Z"
   },
   {
    "duration": 121,
    "start_time": "2021-09-23T12:36:24.286Z"
   },
   {
    "duration": 137,
    "start_time": "2021-09-23T12:36:24.408Z"
   },
   {
    "duration": 15,
    "start_time": "2021-09-23T12:36:24.547Z"
   },
   {
    "duration": 4519,
    "start_time": "2021-09-23T12:36:24.577Z"
   },
   {
    "duration": 4951,
    "start_time": "2021-09-23T12:36:29.098Z"
   },
   {
    "duration": 14,
    "start_time": "2021-09-23T12:36:34.051Z"
   },
   {
    "duration": 16,
    "start_time": "2021-09-23T12:36:34.077Z"
   },
   {
    "duration": 19,
    "start_time": "2021-09-23T12:36:52.669Z"
   },
   {
    "duration": 1128,
    "start_time": "2021-09-23T12:41:24.806Z"
   },
   {
    "duration": 7,
    "start_time": "2021-09-23T12:41:26.810Z"
   },
   {
    "duration": 7,
    "start_time": "2021-09-23T12:41:38.130Z"
   },
   {
    "duration": 98,
    "start_time": "2021-09-23T12:41:38.735Z"
   },
   {
    "duration": 114,
    "start_time": "2021-09-23T12:41:43.543Z"
   },
   {
    "duration": 15,
    "start_time": "2021-09-23T12:41:45.331Z"
   },
   {
    "duration": 4087,
    "start_time": "2021-09-23T12:41:46.656Z"
   },
   {
    "duration": 4712,
    "start_time": "2021-09-23T12:41:50.745Z"
   },
   {
    "duration": 1145,
    "start_time": "2021-09-23T12:43:25.306Z"
   },
   {
    "duration": 6,
    "start_time": "2021-09-23T12:43:26.453Z"
   },
   {
    "duration": 6,
    "start_time": "2021-09-23T12:43:28.232Z"
   },
   {
    "duration": 34,
    "start_time": "2021-09-23T12:43:29.049Z"
   },
   {
    "duration": 37,
    "start_time": "2021-09-23T12:43:29.480Z"
   },
   {
    "duration": 15,
    "start_time": "2021-09-23T12:43:34.603Z"
   },
   {
    "duration": 4224,
    "start_time": "2021-09-23T12:43:35.510Z"
   },
   {
    "duration": 4910,
    "start_time": "2021-09-23T12:43:41.495Z"
   },
   {
    "duration": 50,
    "start_time": "2021-09-23T12:45:47.729Z"
   },
   {
    "duration": 359,
    "start_time": "2021-09-23T12:53:54.465Z"
   },
   {
    "duration": 1207,
    "start_time": "2021-09-23T16:32:30.248Z"
   },
   {
    "duration": 7,
    "start_time": "2021-09-23T16:32:31.457Z"
   },
   {
    "duration": 19,
    "start_time": "2021-09-23T16:32:31.466Z"
   },
   {
    "duration": 47,
    "start_time": "2021-09-23T16:32:31.487Z"
   },
   {
    "duration": 35,
    "start_time": "2021-09-23T16:32:31.536Z"
   },
   {
    "duration": 14,
    "start_time": "2021-09-23T16:32:31.573Z"
   },
   {
    "duration": 4253,
    "start_time": "2021-09-23T16:32:31.589Z"
   },
   {
    "duration": 4925,
    "start_time": "2021-09-23T16:32:35.844Z"
   },
   {
    "duration": 50,
    "start_time": "2021-09-23T16:32:40.776Z"
   },
   {
    "duration": 73,
    "start_time": "2021-09-23T16:32:40.829Z"
   },
   {
    "duration": 352,
    "start_time": "2021-09-29T17:06:11.380Z"
   },
   {
    "duration": 1415,
    "start_time": "2021-09-29T17:06:16.128Z"
   },
   {
    "duration": 6,
    "start_time": "2021-09-29T17:06:17.546Z"
   },
   {
    "duration": 6,
    "start_time": "2021-09-29T17:06:55.225Z"
   },
   {
    "duration": 6,
    "start_time": "2021-09-29T17:07:04.280Z"
   },
   {
    "duration": 8,
    "start_time": "2021-09-29T17:07:31.649Z"
   },
   {
    "duration": 8,
    "start_time": "2021-09-29T17:07:47.877Z"
   },
   {
    "duration": 112,
    "start_time": "2021-09-29T17:08:26.964Z"
   },
   {
    "duration": 8,
    "start_time": "2021-09-29T17:08:54.140Z"
   },
   {
    "duration": 41,
    "start_time": "2021-09-29T17:09:15.366Z"
   },
   {
    "duration": 38,
    "start_time": "2021-09-29T17:10:18.463Z"
   },
   {
    "duration": 8,
    "start_time": "2021-09-29T17:10:19.251Z"
   },
   {
    "duration": 6,
    "start_time": "2021-09-29T17:10:19.527Z"
   },
   {
    "duration": 7,
    "start_time": "2021-09-29T17:10:19.758Z"
   },
   {
    "duration": 6,
    "start_time": "2021-09-29T17:10:20.007Z"
   },
   {
    "duration": 5,
    "start_time": "2021-09-29T17:10:20.571Z"
   },
   {
    "duration": 7,
    "start_time": "2021-09-29T17:12:32.476Z"
   },
   {
    "duration": 9,
    "start_time": "2021-09-29T17:13:06.133Z"
   },
   {
    "duration": 7,
    "start_time": "2021-09-29T17:25:04.047Z"
   },
   {
    "duration": 6,
    "start_time": "2021-09-29T17:27:02.831Z"
   },
   {
    "duration": 391,
    "start_time": "2021-09-29T17:27:14.701Z"
   },
   {
    "duration": 2084,
    "start_time": "2021-09-29T17:27:53.130Z"
   },
   {
    "duration": 7,
    "start_time": "2021-09-29T17:27:55.216Z"
   },
   {
    "duration": 17,
    "start_time": "2021-09-29T17:27:55.226Z"
   },
   {
    "duration": 8,
    "start_time": "2021-09-29T17:27:55.246Z"
   },
   {
    "duration": 9,
    "start_time": "2021-09-29T17:27:55.256Z"
   },
   {
    "duration": 6,
    "start_time": "2021-09-29T17:27:55.536Z"
   },
   {
    "duration": 7,
    "start_time": "2021-09-29T17:27:55.974Z"
   },
   {
    "duration": 5,
    "start_time": "2021-09-29T17:27:56.342Z"
   },
   {
    "duration": 6,
    "start_time": "2021-09-29T17:27:58.374Z"
   },
   {
    "duration": 17,
    "start_time": "2021-09-29T17:28:04.058Z"
   },
   {
    "duration": 1487,
    "start_time": "2021-09-29T17:31:45.291Z"
   },
   {
    "duration": 7,
    "start_time": "2021-09-29T17:31:46.780Z"
   },
   {
    "duration": 11,
    "start_time": "2021-09-29T17:31:46.790Z"
   },
   {
    "duration": 23,
    "start_time": "2021-09-29T17:31:46.804Z"
   },
   {
    "duration": 15,
    "start_time": "2021-09-29T17:31:46.829Z"
   },
   {
    "duration": 11,
    "start_time": "2021-09-29T17:31:46.964Z"
   },
   {
    "duration": 5,
    "start_time": "2021-09-29T17:31:47.765Z"
   },
   {
    "duration": 6,
    "start_time": "2021-09-29T17:31:48.029Z"
   },
   {
    "duration": 5650,
    "start_time": "2021-09-29T17:31:49.562Z"
   },
   {
    "duration": 4377,
    "start_time": "2021-09-29T17:31:59.201Z"
   },
   {
    "duration": 4931,
    "start_time": "2021-09-29T17:32:20.087Z"
   },
   {
    "duration": 1583,
    "start_time": "2021-09-29T17:33:09.773Z"
   },
   {
    "duration": 7,
    "start_time": "2021-09-29T17:33:11.359Z"
   },
   {
    "duration": 22,
    "start_time": "2021-09-29T17:33:11.372Z"
   },
   {
    "duration": 41,
    "start_time": "2021-09-29T17:33:11.397Z"
   },
   {
    "duration": 19,
    "start_time": "2021-09-29T17:33:11.440Z"
   },
   {
    "duration": 17,
    "start_time": "2021-09-29T17:33:11.465Z"
   },
   {
    "duration": 19,
    "start_time": "2021-09-29T17:33:11.487Z"
   },
   {
    "duration": 7,
    "start_time": "2021-09-29T17:33:11.510Z"
   },
   {
    "duration": 4157,
    "start_time": "2021-09-29T17:33:12.520Z"
   },
   {
    "duration": 7,
    "start_time": "2021-09-29T17:33:21.105Z"
   },
   {
    "duration": 19,
    "start_time": "2021-09-29T17:33:23.811Z"
   },
   {
    "duration": 1592,
    "start_time": "2021-09-29T17:35:11.670Z"
   },
   {
    "duration": 6,
    "start_time": "2021-09-29T17:35:13.265Z"
   },
   {
    "duration": 20,
    "start_time": "2021-09-29T17:35:13.275Z"
   },
   {
    "duration": 39,
    "start_time": "2021-09-29T17:35:13.298Z"
   },
   {
    "duration": 23,
    "start_time": "2021-09-29T17:35:13.339Z"
   },
   {
    "duration": 18,
    "start_time": "2021-09-29T17:35:13.364Z"
   },
   {
    "duration": 29,
    "start_time": "2021-09-29T17:35:13.385Z"
   },
   {
    "duration": 18,
    "start_time": "2021-09-29T17:35:13.417Z"
   },
   {
    "duration": 4659,
    "start_time": "2021-09-29T17:35:13.603Z"
   },
   {
    "duration": 7,
    "start_time": "2021-09-29T17:35:18.264Z"
   },
   {
    "duration": 51,
    "start_time": "2021-09-29T17:35:18.275Z"
   },
   {
    "duration": 333,
    "start_time": "2021-09-29T19:12:20.007Z"
   },
   {
    "duration": 1591,
    "start_time": "2021-09-29T19:12:29.110Z"
   },
   {
    "duration": 6,
    "start_time": "2021-09-29T19:12:30.704Z"
   },
   {
    "duration": 23,
    "start_time": "2021-09-29T19:12:30.713Z"
   },
   {
    "duration": 16,
    "start_time": "2021-09-29T19:12:30.738Z"
   },
   {
    "duration": 5,
    "start_time": "2021-09-29T19:12:31.312Z"
   },
   {
    "duration": 8,
    "start_time": "2021-09-29T19:12:31.545Z"
   },
   {
    "duration": 6,
    "start_time": "2021-09-29T19:12:31.784Z"
   },
   {
    "duration": 5,
    "start_time": "2021-09-29T19:12:32.014Z"
   },
   {
    "duration": 4740,
    "start_time": "2021-09-29T19:12:32.527Z"
   },
   {
    "duration": 5,
    "start_time": "2021-09-29T19:12:37.270Z"
   },
   {
    "duration": 22,
    "start_time": "2021-09-29T19:12:37.278Z"
   },
   {
    "duration": 16,
    "start_time": "2021-09-29T19:12:37.302Z"
   },
   {
    "duration": 37,
    "start_time": "2021-09-29T19:12:37.321Z"
   },
   {
    "duration": 1454,
    "start_time": "2021-09-29T19:14:14.179Z"
   },
   {
    "duration": 6,
    "start_time": "2021-09-29T19:14:15.635Z"
   },
   {
    "duration": 20,
    "start_time": "2021-09-29T19:14:15.644Z"
   },
   {
    "duration": 10,
    "start_time": "2021-09-29T19:14:15.666Z"
   },
   {
    "duration": 19,
    "start_time": "2021-09-29T19:14:15.678Z"
   },
   {
    "duration": 8,
    "start_time": "2021-09-29T19:14:15.858Z"
   },
   {
    "duration": 6,
    "start_time": "2021-09-29T19:14:16.411Z"
   },
   {
    "duration": 6,
    "start_time": "2021-09-29T19:14:16.725Z"
   },
   {
    "duration": 4587,
    "start_time": "2021-09-29T19:14:17.456Z"
   },
   {
    "duration": 14,
    "start_time": "2021-09-29T19:14:22.046Z"
   },
   {
    "duration": 19,
    "start_time": "2021-09-29T19:14:22.064Z"
   },
   {
    "duration": 526,
    "start_time": "2021-09-29T19:14:22.085Z"
   },
   {
    "duration": 32721,
    "start_time": "2021-09-29T19:13:49.892Z"
   },
   {
    "duration": 274,
    "start_time": "2021-09-29T19:14:46.789Z"
   },
   {
    "duration": 1502,
    "start_time": "2021-09-29T19:16:33.315Z"
   },
   {
    "duration": 8,
    "start_time": "2021-09-29T19:16:34.820Z"
   },
   {
    "duration": 10,
    "start_time": "2021-09-29T19:16:34.832Z"
   },
   {
    "duration": 9,
    "start_time": "2021-09-29T19:16:34.859Z"
   },
   {
    "duration": 5,
    "start_time": "2021-09-29T19:16:34.904Z"
   },
   {
    "duration": 6,
    "start_time": "2021-09-29T19:16:35.149Z"
   },
   {
    "duration": 7,
    "start_time": "2021-09-29T19:16:35.417Z"
   },
   {
    "duration": 5,
    "start_time": "2021-09-29T19:16:35.640Z"
   },
   {
    "duration": 4114,
    "start_time": "2021-09-29T19:16:36.125Z"
   },
   {
    "duration": 5,
    "start_time": "2021-09-29T19:16:40.242Z"
   },
   {
    "duration": 17,
    "start_time": "2021-09-29T19:16:40.259Z"
   },
   {
    "duration": 8,
    "start_time": "2021-09-29T19:16:40.278Z"
   },
   {
    "duration": 424,
    "start_time": "2021-09-29T19:16:40.289Z"
   },
   {
    "duration": 32739,
    "start_time": "2021-09-29T19:16:07.977Z"
   },
   {
    "duration": 11,
    "start_time": "2021-09-29T19:16:52.191Z"
   },
   {
    "duration": 11,
    "start_time": "2021-09-29T19:16:55.029Z"
   },
   {
    "duration": 1437,
    "start_time": "2021-09-29T19:17:07.282Z"
   },
   {
    "duration": 6,
    "start_time": "2021-09-29T19:17:08.721Z"
   },
   {
    "duration": 26,
    "start_time": "2021-09-29T19:17:08.730Z"
   },
   {
    "duration": 23,
    "start_time": "2021-09-29T19:17:08.759Z"
   },
   {
    "duration": 13,
    "start_time": "2021-09-29T19:17:08.785Z"
   },
   {
    "duration": 10,
    "start_time": "2021-09-29T19:17:08.801Z"
   },
   {
    "duration": 9,
    "start_time": "2021-09-29T19:17:08.814Z"
   },
   {
    "duration": 30,
    "start_time": "2021-09-29T19:17:08.828Z"
   },
   {
    "duration": 4065,
    "start_time": "2021-09-29T19:17:08.861Z"
   },
   {
    "duration": 6,
    "start_time": "2021-09-29T19:17:12.928Z"
   },
   {
    "duration": 30,
    "start_time": "2021-09-29T19:17:12.936Z"
   },
   {
    "duration": 12,
    "start_time": "2021-09-29T19:17:12.970Z"
   },
   {
    "duration": 18,
    "start_time": "2021-09-29T19:17:12.984Z"
   },
   {
    "duration": 9,
    "start_time": "2021-09-29T19:17:13.004Z"
   },
   {
    "duration": 11,
    "start_time": "2021-09-29T19:17:13.015Z"
   },
   {
    "duration": 69,
    "start_time": "2021-09-29T19:17:13.028Z"
   },
   {
    "duration": 50,
    "start_time": "2021-09-29T19:17:31.726Z"
   },
   {
    "duration": 16,
    "start_time": "2021-09-29T19:17:33.860Z"
   },
   {
    "duration": 5400,
    "start_time": "2021-09-29T19:17:34.135Z"
   },
   {
    "duration": 5921,
    "start_time": "2021-09-29T19:17:39.538Z"
   },
   {
    "duration": 1188,
    "start_time": "2021-09-30T03:51:16.875Z"
   },
   {
    "duration": 5,
    "start_time": "2021-09-30T03:51:18.064Z"
   },
   {
    "duration": 8,
    "start_time": "2021-09-30T03:51:18.071Z"
   },
   {
    "duration": 5,
    "start_time": "2021-09-30T03:51:18.081Z"
   },
   {
    "duration": 11,
    "start_time": "2021-09-30T03:51:18.088Z"
   },
   {
    "duration": 6,
    "start_time": "2021-09-30T03:51:18.282Z"
   },
   {
    "duration": 4,
    "start_time": "2021-09-30T03:51:18.497Z"
   },
   {
    "duration": 4,
    "start_time": "2021-09-30T03:51:18.743Z"
   },
   {
    "duration": 2454,
    "start_time": "2021-09-30T03:51:19.106Z"
   },
   {
    "duration": 4,
    "start_time": "2021-09-30T03:51:21.561Z"
   },
   {
    "duration": 14,
    "start_time": "2021-09-30T03:51:21.567Z"
   },
   {
    "duration": 19,
    "start_time": "2021-09-30T03:51:21.582Z"
   },
   {
    "duration": 8,
    "start_time": "2021-09-30T03:51:22.059Z"
   },
   {
    "duration": 6,
    "start_time": "2021-09-30T03:51:22.591Z"
   },
   {
    "duration": 6,
    "start_time": "2021-09-30T03:51:24.519Z"
   },
   {
    "duration": 31,
    "start_time": "2021-09-30T03:51:25.440Z"
   },
   {
    "duration": 34,
    "start_time": "2021-09-30T03:51:26.127Z"
   },
   {
    "duration": 11,
    "start_time": "2021-09-30T03:51:26.624Z"
   },
   {
    "duration": 3062,
    "start_time": "2021-09-30T03:51:27.666Z"
   },
   {
    "duration": 3441,
    "start_time": "2021-09-30T03:51:30.731Z"
   },
   {
    "duration": 9,
    "start_time": "2021-09-30T03:51:34.174Z"
   },
   {
    "duration": 13,
    "start_time": "2021-09-30T03:51:48.070Z"
   },
   {
    "duration": 13,
    "start_time": "2021-09-30T03:53:18.686Z"
   },
   {
    "duration": 12,
    "start_time": "2021-09-30T03:53:21.762Z"
   },
   {
    "duration": 57,
    "start_time": "2021-09-30T03:53:35.578Z"
   },
   {
    "duration": 64,
    "start_time": "2021-09-30T03:53:45.394Z"
   },
   {
    "duration": 379,
    "start_time": "2021-09-30T03:54:11.788Z"
   },
   {
    "duration": 11,
    "start_time": "2021-09-30T03:54:21.755Z"
   },
   {
    "duration": 11,
    "start_time": "2021-09-30T03:54:26.263Z"
   },
   {
    "duration": 10,
    "start_time": "2021-09-30T03:54:34.228Z"
   },
   {
    "duration": 14,
    "start_time": "2021-09-30T03:55:02.237Z"
   },
   {
    "duration": 604,
    "start_time": "2021-09-30T03:55:47.594Z"
   },
   {
    "duration": 492,
    "start_time": "2021-09-30T03:56:00.106Z"
   },
   {
    "duration": 15,
    "start_time": "2021-09-30T04:01:04.367Z"
   },
   {
    "duration": 10,
    "start_time": "2021-09-30T04:01:10.781Z"
   },
   {
    "duration": 187,
    "start_time": "2021-09-30T04:04:16.318Z"
   },
   {
    "duration": 183,
    "start_time": "2021-09-30T04:04:32.340Z"
   },
   {
    "duration": 183,
    "start_time": "2021-09-30T04:04:46.253Z"
   },
   {
    "duration": 12,
    "start_time": "2021-09-30T04:10:08.176Z"
   },
   {
    "duration": 1186,
    "start_time": "2021-09-30T04:12:59.532Z"
   },
   {
    "duration": 5,
    "start_time": "2021-09-30T04:13:00.720Z"
   },
   {
    "duration": 19,
    "start_time": "2021-09-30T04:13:00.727Z"
   },
   {
    "duration": 19,
    "start_time": "2021-09-30T04:13:00.748Z"
   },
   {
    "duration": 35,
    "start_time": "2021-09-30T04:13:00.769Z"
   },
   {
    "duration": 14,
    "start_time": "2021-09-30T04:13:00.805Z"
   },
   {
    "duration": 14,
    "start_time": "2021-09-30T04:13:00.821Z"
   },
   {
    "duration": 4,
    "start_time": "2021-09-30T04:13:00.924Z"
   },
   {
    "duration": 2620,
    "start_time": "2021-09-30T04:13:01.289Z"
   },
   {
    "duration": 5,
    "start_time": "2021-09-30T04:13:03.911Z"
   },
   {
    "duration": 13,
    "start_time": "2021-09-30T04:13:03.918Z"
   },
   {
    "duration": 10,
    "start_time": "2021-09-30T04:13:03.933Z"
   },
   {
    "duration": 9,
    "start_time": "2021-09-30T04:13:03.945Z"
   },
   {
    "duration": 6,
    "start_time": "2021-09-30T04:13:03.955Z"
   },
   {
    "duration": 6,
    "start_time": "2021-09-30T04:13:04.482Z"
   },
   {
    "duration": 30,
    "start_time": "2021-09-30T04:13:04.678Z"
   },
   {
    "duration": 35,
    "start_time": "2021-09-30T04:13:04.869Z"
   },
   {
    "duration": 11,
    "start_time": "2021-09-30T04:13:05.059Z"
   },
   {
    "duration": 3212,
    "start_time": "2021-09-30T04:13:05.272Z"
   },
   {
    "duration": 3556,
    "start_time": "2021-09-30T04:13:08.486Z"
   },
   {
    "duration": 10,
    "start_time": "2021-09-30T04:13:12.044Z"
   },
   {
    "duration": 14,
    "start_time": "2021-09-30T04:13:12.056Z"
   },
   {
    "duration": 51,
    "start_time": "2021-09-30T04:13:12.071Z"
   },
   {
    "duration": 2,
    "start_time": "2021-09-30T04:20:47.588Z"
   },
   {
    "duration": 32,
    "start_time": "2021-09-30T04:24:21.927Z"
   },
   {
    "duration": 210,
    "start_time": "2021-09-30T04:27:37.416Z"
   },
   {
    "duration": 1124,
    "start_time": "2021-09-30T04:27:47.226Z"
   },
   {
    "duration": 5,
    "start_time": "2021-09-30T04:27:48.352Z"
   },
   {
    "duration": 7,
    "start_time": "2021-09-30T04:27:48.360Z"
   },
   {
    "duration": 6,
    "start_time": "2021-09-30T04:27:48.368Z"
   },
   {
    "duration": 4,
    "start_time": "2021-09-30T04:27:48.376Z"
   },
   {
    "duration": 22,
    "start_time": "2021-09-30T04:27:48.382Z"
   },
   {
    "duration": 4,
    "start_time": "2021-09-30T04:27:48.507Z"
   },
   {
    "duration": 4,
    "start_time": "2021-09-30T04:27:48.684Z"
   },
   {
    "duration": 2575,
    "start_time": "2021-09-30T04:27:49.052Z"
   },
   {
    "duration": 5,
    "start_time": "2021-09-30T04:27:51.629Z"
   },
   {
    "duration": 14,
    "start_time": "2021-09-30T04:27:51.636Z"
   },
   {
    "duration": 9,
    "start_time": "2021-09-30T04:27:51.652Z"
   },
   {
    "duration": 11,
    "start_time": "2021-09-30T04:27:51.662Z"
   },
   {
    "duration": 26,
    "start_time": "2021-09-30T04:27:51.675Z"
   },
   {
    "duration": 7,
    "start_time": "2021-09-30T04:27:52.462Z"
   },
   {
    "duration": 31,
    "start_time": "2021-09-30T04:27:52.659Z"
   },
   {
    "duration": 33,
    "start_time": "2021-09-30T04:27:52.863Z"
   },
   {
    "duration": 10,
    "start_time": "2021-09-30T04:27:53.052Z"
   },
   {
    "duration": 3120,
    "start_time": "2021-09-30T04:27:53.533Z"
   },
   {
    "duration": 3550,
    "start_time": "2021-09-30T04:27:56.655Z"
   },
   {
    "duration": 13,
    "start_time": "2021-09-30T04:28:00.207Z"
   },
   {
    "duration": 22,
    "start_time": "2021-09-30T04:28:00.221Z"
   },
   {
    "duration": 85,
    "start_time": "2021-09-30T04:28:00.245Z"
   },
   {
    "duration": 5,
    "start_time": "2021-09-30T04:28:03.340Z"
   },
   {
    "duration": 35,
    "start_time": "2021-09-30T04:33:30.018Z"
   },
   {
    "duration": 5,
    "start_time": "2021-09-30T04:33:30.249Z"
   },
   {
    "duration": 6,
    "start_time": "2021-09-30T04:33:30.449Z"
   },
   {
    "duration": 5,
    "start_time": "2021-09-30T04:33:30.801Z"
   },
   {
    "duration": 5,
    "start_time": "2021-09-30T04:33:30.986Z"
   },
   {
    "duration": 5,
    "start_time": "2021-09-30T04:33:31.153Z"
   },
   {
    "duration": 4,
    "start_time": "2021-09-30T04:33:31.322Z"
   },
   {
    "duration": 4,
    "start_time": "2021-09-30T04:33:31.508Z"
   },
   {
    "duration": 2496,
    "start_time": "2021-09-30T04:33:31.849Z"
   },
   {
    "duration": 3,
    "start_time": "2021-09-30T04:33:34.347Z"
   },
   {
    "duration": 19,
    "start_time": "2021-09-30T04:33:34.352Z"
   },
   {
    "duration": 12,
    "start_time": "2021-09-30T04:33:34.373Z"
   },
   {
    "duration": 26,
    "start_time": "2021-09-30T04:33:34.387Z"
   },
   {
    "duration": 11,
    "start_time": "2021-09-30T04:33:34.415Z"
   },
   {
    "duration": 7,
    "start_time": "2021-09-30T04:33:34.977Z"
   },
   {
    "duration": 35,
    "start_time": "2021-09-30T04:33:35.165Z"
   },
   {
    "duration": 36,
    "start_time": "2021-09-30T04:33:35.352Z"
   },
   {
    "duration": 11,
    "start_time": "2021-09-30T04:33:35.544Z"
   },
   {
    "duration": 3234,
    "start_time": "2021-09-30T04:33:35.725Z"
   },
   {
    "duration": 1173,
    "start_time": "2021-09-30T04:33:46.875Z"
   },
   {
    "duration": 4,
    "start_time": "2021-09-30T04:33:48.050Z"
   },
   {
    "duration": 6,
    "start_time": "2021-09-30T04:33:48.056Z"
   },
   {
    "duration": 5,
    "start_time": "2021-09-30T04:33:48.064Z"
   },
   {
    "duration": 5,
    "start_time": "2021-09-30T04:33:48.070Z"
   },
   {
    "duration": 24,
    "start_time": "2021-09-30T04:33:48.076Z"
   },
   {
    "duration": 4,
    "start_time": "2021-09-30T04:33:48.160Z"
   },
   {
    "duration": 3,
    "start_time": "2021-09-30T04:33:48.337Z"
   },
   {
    "duration": 2504,
    "start_time": "2021-09-30T04:33:48.689Z"
   },
   {
    "duration": 6,
    "start_time": "2021-09-30T04:33:51.195Z"
   },
   {
    "duration": 18,
    "start_time": "2021-09-30T04:33:51.203Z"
   },
   {
    "duration": 4,
    "start_time": "2021-09-30T04:33:51.222Z"
   },
   {
    "duration": 8,
    "start_time": "2021-09-30T04:33:51.228Z"
   },
   {
    "duration": 6,
    "start_time": "2021-09-30T04:33:51.238Z"
   },
   {
    "duration": 6,
    "start_time": "2021-09-30T04:33:51.769Z"
   },
   {
    "duration": 30,
    "start_time": "2021-09-30T04:33:51.961Z"
   },
   {
    "duration": 33,
    "start_time": "2021-09-30T04:33:52.141Z"
   },
   {
    "duration": 10,
    "start_time": "2021-09-30T04:33:52.320Z"
   },
   {
    "duration": 3093,
    "start_time": "2021-09-30T04:33:52.496Z"
   },
   {
    "duration": 3528,
    "start_time": "2021-09-30T04:33:55.591Z"
   },
   {
    "duration": 12,
    "start_time": "2021-09-30T04:33:59.121Z"
   },
   {
    "duration": 3,
    "start_time": "2021-09-30T04:33:59.135Z"
   },
   {
    "duration": 61,
    "start_time": "2021-09-30T04:33:59.140Z"
   },
   {
    "duration": 5,
    "start_time": "2021-09-30T04:33:59.203Z"
   },
   {
    "duration": 6,
    "start_time": "2021-09-30T04:33:59.210Z"
   },
   {
    "duration": 3,
    "start_time": "2021-09-30T04:33:59.218Z"
   },
   {
    "duration": 2,
    "start_time": "2021-09-30T04:35:27.326Z"
   },
   {
    "duration": 3,
    "start_time": "2021-09-30T04:35:55.629Z"
   },
   {
    "duration": 1138,
    "start_time": "2021-09-30T04:35:58.982Z"
   },
   {
    "duration": 3,
    "start_time": "2021-09-30T04:36:00.121Z"
   },
   {
    "duration": 10,
    "start_time": "2021-09-30T04:36:00.126Z"
   },
   {
    "duration": 9,
    "start_time": "2021-09-30T04:36:00.138Z"
   },
   {
    "duration": 7,
    "start_time": "2021-09-30T04:36:00.148Z"
   },
   {
    "duration": 5,
    "start_time": "2021-09-30T04:36:00.156Z"
   },
   {
    "duration": 9,
    "start_time": "2021-09-30T04:36:00.162Z"
   },
   {
    "duration": 27,
    "start_time": "2021-09-30T04:36:00.173Z"
   },
   {
    "duration": 3,
    "start_time": "2021-09-30T04:36:00.202Z"
   },
   {
    "duration": 2592,
    "start_time": "2021-09-30T04:36:00.316Z"
   },
   {
    "duration": 4,
    "start_time": "2021-09-30T04:36:02.909Z"
   },
   {
    "duration": 16,
    "start_time": "2021-09-30T04:36:02.915Z"
   },
   {
    "duration": 7,
    "start_time": "2021-09-30T04:36:02.933Z"
   },
   {
    "duration": 11,
    "start_time": "2021-09-30T04:36:02.941Z"
   },
   {
    "duration": 6,
    "start_time": "2021-09-30T04:36:02.953Z"
   },
   {
    "duration": 7,
    "start_time": "2021-09-30T04:36:02.961Z"
   },
   {
    "duration": 53,
    "start_time": "2021-09-30T04:36:02.970Z"
   },
   {
    "duration": 34,
    "start_time": "2021-09-30T04:36:03.025Z"
   },
   {
    "duration": 8,
    "start_time": "2021-09-30T04:36:03.060Z"
   },
   {
    "duration": 3193,
    "start_time": "2021-09-30T04:36:03.070Z"
   },
   {
    "duration": 3498,
    "start_time": "2021-09-30T04:36:06.265Z"
   },
   {
    "duration": 12,
    "start_time": "2021-09-30T04:36:09.766Z"
   },
   {
    "duration": 20,
    "start_time": "2021-09-30T04:36:09.780Z"
   },
   {
    "duration": 50,
    "start_time": "2021-09-30T04:36:09.801Z"
   },
   {
    "duration": 4,
    "start_time": "2021-09-30T04:36:09.853Z"
   },
   {
    "duration": 9,
    "start_time": "2021-09-30T04:36:09.859Z"
   },
   {
    "duration": 4,
    "start_time": "2021-09-30T04:36:09.870Z"
   },
   {
    "duration": 4,
    "start_time": "2021-09-30T04:36:09.876Z"
   },
   {
    "duration": 68,
    "start_time": "2021-09-30T04:37:20.051Z"
   },
   {
    "duration": 1735,
    "start_time": "2022-05-15T10:14:36.345Z"
   },
   {
    "duration": 25,
    "start_time": "2022-05-15T10:14:38.083Z"
   },
   {
    "duration": 29,
    "start_time": "2022-05-15T10:14:38.110Z"
   },
   {
    "duration": 28,
    "start_time": "2022-05-15T10:14:38.142Z"
   },
   {
    "duration": 8,
    "start_time": "2022-05-15T10:14:39.149Z"
   },
   {
    "duration": 7,
    "start_time": "2022-05-15T10:14:39.902Z"
   },
   {
    "duration": 6,
    "start_time": "2022-05-15T10:14:40.395Z"
   },
   {
    "duration": 5,
    "start_time": "2022-05-15T10:14:40.785Z"
   },
   {
    "duration": 6,
    "start_time": "2022-05-15T10:14:41.105Z"
   },
   {
    "duration": 6,
    "start_time": "2022-05-15T10:14:41.434Z"
   },
   {
    "duration": 6,
    "start_time": "2022-05-15T10:14:41.717Z"
   },
   {
    "duration": 1748,
    "start_time": "2022-05-15T10:14:43.037Z"
   },
   {
    "duration": 6,
    "start_time": "2022-05-15T10:14:44.788Z"
   },
   {
    "duration": 24,
    "start_time": "2022-05-15T10:14:46.168Z"
   },
   {
    "duration": 4,
    "start_time": "2022-05-15T10:24:41.465Z"
   },
   {
    "duration": 10,
    "start_time": "2022-05-15T10:24:41.909Z"
   },
   {
    "duration": 8,
    "start_time": "2022-05-15T10:24:42.788Z"
   },
   {
    "duration": 8,
    "start_time": "2022-05-15T10:24:44.768Z"
   },
   {
    "duration": 62,
    "start_time": "2022-05-15T10:24:45.789Z"
   },
   {
    "duration": 59,
    "start_time": "2022-05-15T10:24:46.937Z"
   },
   {
    "duration": 25,
    "start_time": "2022-05-15T10:24:51.306Z"
   },
   {
    "duration": 5741,
    "start_time": "2022-05-15T10:24:53.703Z"
   },
   {
    "duration": 8461,
    "start_time": "2022-05-15T10:26:09.980Z"
   },
   {
    "duration": 136,
    "start_time": "2022-05-15T10:28:35.076Z"
   },
   {
    "duration": 177,
    "start_time": "2022-05-15T10:28:46.364Z"
   },
   {
    "duration": 24,
    "start_time": "2022-05-15T10:28:51.844Z"
   },
   {
    "duration": 13297,
    "start_time": "2022-05-15T10:28:58.736Z"
   },
   {
    "duration": 10310,
    "start_time": "2022-05-15T10:29:23.578Z"
   },
   {
    "duration": 231,
    "start_time": "2022-05-15T10:32:40.751Z"
   },
   {
    "duration": 16,
    "start_time": "2022-05-15T10:32:41.218Z"
   },
   {
    "duration": 23,
    "start_time": "2022-05-15T10:32:44.208Z"
   },
   {
    "duration": 7,
    "start_time": "2022-05-15T10:32:45.070Z"
   },
   {
    "duration": 80,
    "start_time": "2022-05-15T10:32:45.768Z"
   },
   {
    "duration": 1918,
    "start_time": "2022-05-15T10:40:01.150Z"
   },
   {
    "duration": 21,
    "start_time": "2022-05-15T10:40:03.070Z"
   },
   {
    "duration": 24,
    "start_time": "2022-05-15T10:40:03.093Z"
   },
   {
    "duration": 16,
    "start_time": "2022-05-15T10:40:03.120Z"
   },
   {
    "duration": 7,
    "start_time": "2022-05-15T10:40:03.157Z"
   },
   {
    "duration": 9,
    "start_time": "2022-05-15T10:40:03.166Z"
   },
   {
    "duration": 7,
    "start_time": "2022-05-15T10:40:03.177Z"
   },
   {
    "duration": 7,
    "start_time": "2022-05-15T10:40:03.186Z"
   },
   {
    "duration": 8,
    "start_time": "2022-05-15T10:40:03.194Z"
   },
   {
    "duration": 52,
    "start_time": "2022-05-15T10:40:03.205Z"
   },
   {
    "duration": 10,
    "start_time": "2022-05-15T10:40:03.260Z"
   },
   {
    "duration": 1805,
    "start_time": "2022-05-15T10:40:03.272Z"
   },
   {
    "duration": 6,
    "start_time": "2022-05-15T10:40:05.080Z"
   },
   {
    "duration": 20,
    "start_time": "2022-05-15T10:40:05.090Z"
   },
   {
    "duration": 9,
    "start_time": "2022-05-15T10:40:05.113Z"
   },
   {
    "duration": 16,
    "start_time": "2022-05-15T10:40:05.125Z"
   },
   {
    "duration": 17,
    "start_time": "2022-05-15T10:40:05.143Z"
   },
   {
    "duration": 23,
    "start_time": "2022-05-15T10:40:05.162Z"
   },
   {
    "duration": 128,
    "start_time": "2022-05-15T10:40:05.187Z"
   },
   {
    "duration": 197,
    "start_time": "2022-05-15T10:40:05.317Z"
   },
   {
    "duration": 47,
    "start_time": "2022-05-15T10:40:05.517Z"
   },
   {
    "duration": 13724,
    "start_time": "2022-05-15T10:40:05.567Z"
   },
   {
    "duration": 10251,
    "start_time": "2022-05-15T10:40:19.295Z"
   },
   {
    "duration": 22,
    "start_time": "2022-05-15T10:40:29.549Z"
   },
   {
    "duration": 8,
    "start_time": "2022-05-15T10:40:29.574Z"
   },
   {
    "duration": 106,
    "start_time": "2022-05-15T10:40:29.584Z"
   },
   {
    "duration": 7,
    "start_time": "2022-05-15T10:40:29.692Z"
   },
   {
    "duration": 11,
    "start_time": "2022-05-15T10:40:29.701Z"
   }
  ],
  "kernelspec": {
   "display_name": "Python 3 (ipykernel)",
   "language": "python",
   "name": "python3"
  },
  "language_info": {
   "codemirror_mode": {
    "name": "ipython",
    "version": 3
   },
   "file_extension": ".py",
   "mimetype": "text/x-python",
   "name": "python",
   "nbconvert_exporter": "python",
   "pygments_lexer": "ipython3",
   "version": "3.7.0"
  },
  "toc": {
   "base_numbering": 1,
   "nav_menu": {},
   "number_sections": true,
   "sideBar": true,
   "skip_h1_title": true,
   "title_cell": "Содержание",
   "title_sidebar": "Contents",
   "toc_cell": true,
   "toc_position": {},
   "toc_section_display": true,
   "toc_window_display": true
  }
 },
 "nbformat": 4,
 "nbformat_minor": 2
}
