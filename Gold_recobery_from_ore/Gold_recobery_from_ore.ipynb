{
 "cells": [
  {
   "cell_type": "markdown",
   "metadata": {
    "toc": true
   },
   "source": [
    "<h1>Содержание<span class=\"tocSkip\"></span></h1>\n",
    "<div class=\"toc\"><ul class=\"toc-item\"><li><span><a href=\"#Описание-данных\" data-toc-modified-id=\"Описание-данных-1\"><span class=\"toc-item-num\">1&nbsp;&nbsp;</span>Описание данных</a></span><ul class=\"toc-item\"><li><span><a href=\"#Технологический-процесс\" data-toc-modified-id=\"Технологический-процесс-1.1\"><span class=\"toc-item-num\">1.1&nbsp;&nbsp;</span>Технологический процесс</a></span></li><li><span><a href=\"#Параметры-этапов\" data-toc-modified-id=\"Параметры-этапов-1.2\"><span class=\"toc-item-num\">1.2&nbsp;&nbsp;</span>Параметры этапов</a></span></li><li><span><a href=\"#Наименование-признаков\" data-toc-modified-id=\"Наименование-признаков-1.3\"><span class=\"toc-item-num\">1.3&nbsp;&nbsp;</span>Наименование признаков</a></span></li></ul></li><li><span><a href=\"#Подготовка-данных\" data-toc-modified-id=\"Подготовка-данных-2\"><span class=\"toc-item-num\">2&nbsp;&nbsp;</span>Подготовка данных</a></span><ul class=\"toc-item\"><li><span><a href=\"#df_train\" data-toc-modified-id=\"df_train-2.1\"><span class=\"toc-item-num\">2.1&nbsp;&nbsp;</span>df_train</a></span></li><li><span><a href=\"#df_test\" data-toc-modified-id=\"df_test-2.2\"><span class=\"toc-item-num\">2.2&nbsp;&nbsp;</span>df_test</a></span></li><li><span><a href=\"#df_full\" data-toc-modified-id=\"df_full-2.3\"><span class=\"toc-item-num\">2.3&nbsp;&nbsp;</span>df_full</a></span></li></ul></li><li><span><a href=\"#Проверка-recovery\" data-toc-modified-id=\"Проверка-recovery-3\"><span class=\"toc-item-num\">3&nbsp;&nbsp;</span>Проверка recovery</a></span></li><li><span><a href=\"#Анализ-данных\" data-toc-modified-id=\"Анализ-данных-4\"><span class=\"toc-item-num\">4&nbsp;&nbsp;</span>Анализ данных</a></span></li><li><span><a href=\"#Построение-моделей,-выбор-лучшей\" data-toc-modified-id=\"Построение-моделей,-выбор-лучшей-5\"><span class=\"toc-item-num\">5&nbsp;&nbsp;</span>Построение моделей, выбор лучшей</a></span><ul class=\"toc-item\"><li><span><a href=\"#LinearRegression\" data-toc-modified-id=\"LinearRegression-5.1\"><span class=\"toc-item-num\">5.1&nbsp;&nbsp;</span>LinearRegression</a></span></li><li><span><a href=\"#RandomForestRegressor\" data-toc-modified-id=\"RandomForestRegressor-5.2\"><span class=\"toc-item-num\">5.2&nbsp;&nbsp;</span>RandomForestRegressor</a></span></li><li><span><a href=\"#Проверка-на-тестовых-данных:\" data-toc-modified-id=\"Проверка-на-тестовых-данных:-5.3\"><span class=\"toc-item-num\">5.3&nbsp;&nbsp;</span>Проверка на тестовых данных:</a></span></li></ul></li><li><span><a href=\"#Тест-на-адекватность:\" data-toc-modified-id=\"Тест-на-адекватность:-6\"><span class=\"toc-item-num\">6&nbsp;&nbsp;</span>Тест на адекватность:</a></span></li><li><span><a href=\"#Вывод\" data-toc-modified-id=\"Вывод-7\"><span class=\"toc-item-num\">7&nbsp;&nbsp;</span>Вывод</a></span></li></ul></div>"
   ]
  },
  {
   "cell_type": "markdown",
   "metadata": {},
   "source": [
    "# Восстановление золота из руды"
   ]
  },
  {
   "cell_type": "markdown",
   "metadata": {},
   "source": [
    "Предоставлены данные по технологическому процессу восстановления золота из золотосодержащей руды. Эти данные содержат параметры добычи и очистки золота.\n",
    "\n",
    "Цель проекта: построить модель, которая будет предсказывать  коэффициент восстановления золота из золотосодержащей руды.\n",
    "\n",
    "Модель поможет оптимизировать производство, чтобы не запускать предприятие с убыточными характеристиками.\n",
    "\n",
    "Этапы работы :\n",
    " - Подготовить данные;\n",
    " - Провести исследовательский анализ данных;\n",
    " - Построить и обучить модель."
   ]
  },
  {
   "cell_type": "markdown",
   "metadata": {},
   "source": [
    "## Описание данных"
   ]
  },
  {
   "cell_type": "markdown",
   "metadata": {},
   "source": [
    "### Технологический процесс"
   ]
  },
  {
   "cell_type": "markdown",
   "metadata": {},
   "source": [
    "`Rougher feedz` — исходное сырье\n",
    "\n",
    "`Rougher additions` (или reagent additions) — флотационные реагенты: Xanthate, Sulphate, Depressant\n",
    "\n",
    "    Xanthate — ксантогенат (промотер, или активатор флотации);\n",
    "\n",
    "    Sulphate — сульфат (на данном производстве сульфид натрия);\n",
    "\n",
    "    Depressant — депрессант (силикат натрия).\n",
    "    \n",
    "`Rougher process` (англ. «грубый процесс») — флотация\n",
    "\n",
    "`Rougher tails` — отвальные хвосты\n",
    "\n",
    "`Float banks` — флотационная установка\n",
    "\n",
    "`Cleaner process` — очистка\n",
    "\n",
    "`Rougher Au` — черновой концентрат золота\n",
    "\n",
    "`Final Au` — финальный концентрат золота"
   ]
  },
  {
   "cell_type": "markdown",
   "metadata": {},
   "source": [
    "### Параметры этапов"
   ]
  },
  {
   "cell_type": "markdown",
   "metadata": {},
   "source": [
    "`air amount` — объём воздуха\n",
    "\n",
    "`fluid levels` — уровень жидкости\n",
    "\n",
    "`feed size` — размер гранул сырья\n",
    "\n",
    "`feed rate` — скорость подачи"
   ]
  },
  {
   "cell_type": "markdown",
   "metadata": {},
   "source": [
    "### Наименование признаков"
   ]
  },
  {
   "cell_type": "markdown",
   "metadata": {},
   "source": [
    "Наименование признаков должно быть такое:\n",
    "\n",
    "**[этап].[тип_параметра].[название_параметра]**\n",
    "\n",
    "Пример: rougher.input.feed_ag\n",
    "\n",
    "Возможные значения для блока **[этап]:**\n",
    "\n",
    "`rougher` — флотация\n",
    "\n",
    "`primary_cleaner` — первичная очистка\n",
    "\n",
    "`secondary_cleaner` — вторичная очистка\n",
    "\n",
    "`final` — финальные характеристики\n",
    "\n",
    "Возможные значения для блока **[тип_параметра]:**\n",
    "\n",
    "`input` — параметры сырья\n",
    "\n",
    "`output` — параметры продукта\n",
    "\n",
    "`state` — параметры, характеризующие текущее состояние этапа\n",
    "\n",
    "`calculation` — расчётные характеристики"
   ]
  },
  {
   "cell_type": "markdown",
   "metadata": {},
   "source": [
    "## Подготовка данных"
   ]
  },
  {
   "cell_type": "code",
   "execution_count": 1,
   "metadata": {},
   "outputs": [],
   "source": [
    "import pandas as pd\n",
    "from sklearn.metrics import mean_absolute_error\n",
    "import matplotlib.pyplot as plt\n",
    "from sklearn.model_selection import cross_val_score\n",
    "from sklearn.linear_model import LinearRegression\n",
    "from sklearn.metrics import make_scorer\n",
    "from sklearn.model_selection import train_test_split\n",
    "from sklearn.ensemble import RandomForestRegressor"
   ]
  },
  {
   "cell_type": "code",
   "execution_count": 2,
   "metadata": {},
   "outputs": [],
   "source": [
    "df_train = pd.read_csv('/datasets/gold_recovery_train_new.csv')\n",
    "df_test = pd.read_csv('/datasets/gold_recovery_test_new.csv')\n",
    "df_full = pd.read_csv('/datasets/gold_recovery_full_new.csv')"
   ]
  },
  {
   "cell_type": "markdown",
   "metadata": {},
   "source": [
    "### df_train"
   ]
  },
  {
   "cell_type": "code",
   "execution_count": 3,
   "metadata": {},
   "outputs": [
    {
     "name": "stdout",
     "output_type": "stream",
     "text": [
      "<class 'pandas.core.frame.DataFrame'>\n",
      "RangeIndex: 14149 entries, 0 to 14148\n",
      "Data columns (total 87 columns):\n",
      " #   Column                                              Non-Null Count  Dtype  \n",
      "---  ------                                              --------------  -----  \n",
      " 0   date                                                14149 non-null  object \n",
      " 1   final.output.concentrate_ag                         14148 non-null  float64\n",
      " 2   final.output.concentrate_pb                         14148 non-null  float64\n",
      " 3   final.output.concentrate_sol                        13938 non-null  float64\n",
      " 4   final.output.concentrate_au                         14149 non-null  float64\n",
      " 5   final.output.recovery                               14149 non-null  float64\n",
      " 6   final.output.tail_ag                                14149 non-null  float64\n",
      " 7   final.output.tail_pb                                14049 non-null  float64\n",
      " 8   final.output.tail_sol                               14144 non-null  float64\n",
      " 9   final.output.tail_au                                14149 non-null  float64\n",
      " 10  primary_cleaner.input.sulfate                       14129 non-null  float64\n",
      " 11  primary_cleaner.input.depressant                    14117 non-null  float64\n",
      " 12  primary_cleaner.input.feed_size                     14149 non-null  float64\n",
      " 13  primary_cleaner.input.xanthate                      14049 non-null  float64\n",
      " 14  primary_cleaner.output.concentrate_ag               14149 non-null  float64\n",
      " 15  primary_cleaner.output.concentrate_pb               14063 non-null  float64\n",
      " 16  primary_cleaner.output.concentrate_sol              13863 non-null  float64\n",
      " 17  primary_cleaner.output.concentrate_au               14149 non-null  float64\n",
      " 18  primary_cleaner.output.tail_ag                      14148 non-null  float64\n",
      " 19  primary_cleaner.output.tail_pb                      14134 non-null  float64\n",
      " 20  primary_cleaner.output.tail_sol                     14103 non-null  float64\n",
      " 21  primary_cleaner.output.tail_au                      14149 non-null  float64\n",
      " 22  primary_cleaner.state.floatbank8_a_air              14145 non-null  float64\n",
      " 23  primary_cleaner.state.floatbank8_a_level            14148 non-null  float64\n",
      " 24  primary_cleaner.state.floatbank8_b_air              14145 non-null  float64\n",
      " 25  primary_cleaner.state.floatbank8_b_level            14148 non-null  float64\n",
      " 26  primary_cleaner.state.floatbank8_c_air              14147 non-null  float64\n",
      " 27  primary_cleaner.state.floatbank8_c_level            14148 non-null  float64\n",
      " 28  primary_cleaner.state.floatbank8_d_air              14146 non-null  float64\n",
      " 29  primary_cleaner.state.floatbank8_d_level            14148 non-null  float64\n",
      " 30  rougher.calculation.sulfate_to_au_concentrate       14148 non-null  float64\n",
      " 31  rougher.calculation.floatbank10_sulfate_to_au_feed  14148 non-null  float64\n",
      " 32  rougher.calculation.floatbank11_sulfate_to_au_feed  14148 non-null  float64\n",
      " 33  rougher.calculation.au_pb_ratio                     14149 non-null  float64\n",
      " 34  rougher.input.feed_ag                               14149 non-null  float64\n",
      " 35  rougher.input.feed_pb                               14049 non-null  float64\n",
      " 36  rougher.input.feed_rate                             14141 non-null  float64\n",
      " 37  rougher.input.feed_size                             14005 non-null  float64\n",
      " 38  rougher.input.feed_sol                              14071 non-null  float64\n",
      " 39  rougher.input.feed_au                               14149 non-null  float64\n",
      " 40  rougher.input.floatbank10_sulfate                   14120 non-null  float64\n",
      " 41  rougher.input.floatbank10_xanthate                  14141 non-null  float64\n",
      " 42  rougher.input.floatbank11_sulfate                   14113 non-null  float64\n",
      " 43  rougher.input.floatbank11_xanthate                  13721 non-null  float64\n",
      " 44  rougher.output.concentrate_ag                       14149 non-null  float64\n",
      " 45  rougher.output.concentrate_pb                       14149 non-null  float64\n",
      " 46  rougher.output.concentrate_sol                      14127 non-null  float64\n",
      " 47  rougher.output.concentrate_au                       14149 non-null  float64\n",
      " 48  rougher.output.recovery                             14149 non-null  float64\n",
      " 49  rougher.output.tail_ag                              14148 non-null  float64\n",
      " 50  rougher.output.tail_pb                              14149 non-null  float64\n",
      " 51  rougher.output.tail_sol                             14149 non-null  float64\n",
      " 52  rougher.output.tail_au                              14149 non-null  float64\n",
      " 53  rougher.state.floatbank10_a_air                     14148 non-null  float64\n",
      " 54  rougher.state.floatbank10_a_level                   14148 non-null  float64\n",
      " 55  rougher.state.floatbank10_b_air                     14148 non-null  float64\n",
      " 56  rougher.state.floatbank10_b_level                   14148 non-null  float64\n",
      " 57  rougher.state.floatbank10_c_air                     14148 non-null  float64\n",
      " 58  rougher.state.floatbank10_c_level                   14148 non-null  float64\n",
      " 59  rougher.state.floatbank10_d_air                     14149 non-null  float64\n",
      " 60  rougher.state.floatbank10_d_level                   14149 non-null  float64\n",
      " 61  rougher.state.floatbank10_e_air                     13713 non-null  float64\n",
      " 62  rougher.state.floatbank10_e_level                   14149 non-null  float64\n",
      " 63  rougher.state.floatbank10_f_air                     14149 non-null  float64\n",
      " 64  rougher.state.floatbank10_f_level                   14149 non-null  float64\n",
      " 65  secondary_cleaner.output.tail_ag                    14147 non-null  float64\n",
      " 66  secondary_cleaner.output.tail_pb                    14139 non-null  float64\n",
      " 67  secondary_cleaner.output.tail_sol                   12544 non-null  float64\n",
      " 68  secondary_cleaner.output.tail_au                    14149 non-null  float64\n",
      " 69  secondary_cleaner.state.floatbank2_a_air            13932 non-null  float64\n",
      " 70  secondary_cleaner.state.floatbank2_a_level          14148 non-null  float64\n",
      " 71  secondary_cleaner.state.floatbank2_b_air            14128 non-null  float64\n",
      " 72  secondary_cleaner.state.floatbank2_b_level          14148 non-null  float64\n",
      " 73  secondary_cleaner.state.floatbank3_a_air            14145 non-null  float64\n",
      " 74  secondary_cleaner.state.floatbank3_a_level          14148 non-null  float64\n",
      " 75  secondary_cleaner.state.floatbank3_b_air            14148 non-null  float64\n",
      " 76  secondary_cleaner.state.floatbank3_b_level          14148 non-null  float64\n",
      " 77  secondary_cleaner.state.floatbank4_a_air            14143 non-null  float64\n",
      " 78  secondary_cleaner.state.floatbank4_a_level          14148 non-null  float64\n",
      " 79  secondary_cleaner.state.floatbank4_b_air            14148 non-null  float64\n",
      " 80  secondary_cleaner.state.floatbank4_b_level          14148 non-null  float64\n",
      " 81  secondary_cleaner.state.floatbank5_a_air            14148 non-null  float64\n",
      " 82  secondary_cleaner.state.floatbank5_a_level          14148 non-null  float64\n",
      " 83  secondary_cleaner.state.floatbank5_b_air            14148 non-null  float64\n",
      " 84  secondary_cleaner.state.floatbank5_b_level          14148 non-null  float64\n",
      " 85  secondary_cleaner.state.floatbank6_a_air            14147 non-null  float64\n",
      " 86  secondary_cleaner.state.floatbank6_a_level          14148 non-null  float64\n",
      "dtypes: float64(86), object(1)\n",
      "memory usage: 9.4+ MB\n"
     ]
    }
   ],
   "source": [
    "df_train.info()"
   ]
  },
  {
   "cell_type": "code",
   "execution_count": 4,
   "metadata": {},
   "outputs": [
    {
     "data": {
      "text/html": [
       "<div>\n",
       "<style scoped>\n",
       "    .dataframe tbody tr th:only-of-type {\n",
       "        vertical-align: middle;\n",
       "    }\n",
       "\n",
       "    .dataframe tbody tr th {\n",
       "        vertical-align: top;\n",
       "    }\n",
       "\n",
       "    .dataframe thead th {\n",
       "        text-align: right;\n",
       "    }\n",
       "</style>\n",
       "<table border=\"1\" class=\"dataframe\">\n",
       "  <thead>\n",
       "    <tr style=\"text-align: right;\">\n",
       "      <th></th>\n",
       "      <th>date</th>\n",
       "      <th>final.output.concentrate_ag</th>\n",
       "      <th>final.output.concentrate_pb</th>\n",
       "      <th>final.output.concentrate_sol</th>\n",
       "      <th>final.output.concentrate_au</th>\n",
       "      <th>final.output.recovery</th>\n",
       "      <th>final.output.tail_ag</th>\n",
       "      <th>final.output.tail_pb</th>\n",
       "      <th>final.output.tail_sol</th>\n",
       "      <th>final.output.tail_au</th>\n",
       "      <th>...</th>\n",
       "      <th>secondary_cleaner.state.floatbank4_a_air</th>\n",
       "      <th>secondary_cleaner.state.floatbank4_a_level</th>\n",
       "      <th>secondary_cleaner.state.floatbank4_b_air</th>\n",
       "      <th>secondary_cleaner.state.floatbank4_b_level</th>\n",
       "      <th>secondary_cleaner.state.floatbank5_a_air</th>\n",
       "      <th>secondary_cleaner.state.floatbank5_a_level</th>\n",
       "      <th>secondary_cleaner.state.floatbank5_b_air</th>\n",
       "      <th>secondary_cleaner.state.floatbank5_b_level</th>\n",
       "      <th>secondary_cleaner.state.floatbank6_a_air</th>\n",
       "      <th>secondary_cleaner.state.floatbank6_a_level</th>\n",
       "    </tr>\n",
       "  </thead>\n",
       "  <tbody>\n",
       "    <tr>\n",
       "      <th>0</th>\n",
       "      <td>2016-01-15 00:00:00</td>\n",
       "      <td>6.055403</td>\n",
       "      <td>9.889648</td>\n",
       "      <td>5.507324</td>\n",
       "      <td>42.192020</td>\n",
       "      <td>70.541216</td>\n",
       "      <td>10.411962</td>\n",
       "      <td>0.895447</td>\n",
       "      <td>16.904297</td>\n",
       "      <td>2.143149</td>\n",
       "      <td>...</td>\n",
       "      <td>14.016835</td>\n",
       "      <td>-502.488007</td>\n",
       "      <td>12.099931</td>\n",
       "      <td>-504.715942</td>\n",
       "      <td>9.925633</td>\n",
       "      <td>-498.310211</td>\n",
       "      <td>8.079666</td>\n",
       "      <td>-500.470978</td>\n",
       "      <td>14.151341</td>\n",
       "      <td>-605.841980</td>\n",
       "    </tr>\n",
       "    <tr>\n",
       "      <th>1</th>\n",
       "      <td>2016-01-15 01:00:00</td>\n",
       "      <td>6.029369</td>\n",
       "      <td>9.968944</td>\n",
       "      <td>5.257781</td>\n",
       "      <td>42.701629</td>\n",
       "      <td>69.266198</td>\n",
       "      <td>10.462676</td>\n",
       "      <td>0.927452</td>\n",
       "      <td>16.634514</td>\n",
       "      <td>2.224930</td>\n",
       "      <td>...</td>\n",
       "      <td>13.992281</td>\n",
       "      <td>-505.503262</td>\n",
       "      <td>11.950531</td>\n",
       "      <td>-501.331529</td>\n",
       "      <td>10.039245</td>\n",
       "      <td>-500.169983</td>\n",
       "      <td>7.984757</td>\n",
       "      <td>-500.582168</td>\n",
       "      <td>13.998353</td>\n",
       "      <td>-599.787184</td>\n",
       "    </tr>\n",
       "    <tr>\n",
       "      <th>2</th>\n",
       "      <td>2016-01-15 02:00:00</td>\n",
       "      <td>6.055926</td>\n",
       "      <td>10.213995</td>\n",
       "      <td>5.383759</td>\n",
       "      <td>42.657501</td>\n",
       "      <td>68.116445</td>\n",
       "      <td>10.507046</td>\n",
       "      <td>0.953716</td>\n",
       "      <td>16.208849</td>\n",
       "      <td>2.257889</td>\n",
       "      <td>...</td>\n",
       "      <td>14.015015</td>\n",
       "      <td>-502.520901</td>\n",
       "      <td>11.912783</td>\n",
       "      <td>-501.133383</td>\n",
       "      <td>10.070913</td>\n",
       "      <td>-500.129135</td>\n",
       "      <td>8.013877</td>\n",
       "      <td>-500.517572</td>\n",
       "      <td>14.028663</td>\n",
       "      <td>-601.427363</td>\n",
       "    </tr>\n",
       "    <tr>\n",
       "      <th>3</th>\n",
       "      <td>2016-01-15 03:00:00</td>\n",
       "      <td>6.047977</td>\n",
       "      <td>9.977019</td>\n",
       "      <td>4.858634</td>\n",
       "      <td>42.689819</td>\n",
       "      <td>68.347543</td>\n",
       "      <td>10.422762</td>\n",
       "      <td>0.883763</td>\n",
       "      <td>16.532835</td>\n",
       "      <td>2.146849</td>\n",
       "      <td>...</td>\n",
       "      <td>14.036510</td>\n",
       "      <td>-500.857308</td>\n",
       "      <td>11.999550</td>\n",
       "      <td>-501.193686</td>\n",
       "      <td>9.970366</td>\n",
       "      <td>-499.201640</td>\n",
       "      <td>7.977324</td>\n",
       "      <td>-500.255908</td>\n",
       "      <td>14.005551</td>\n",
       "      <td>-599.996129</td>\n",
       "    </tr>\n",
       "    <tr>\n",
       "      <th>4</th>\n",
       "      <td>2016-01-15 04:00:00</td>\n",
       "      <td>6.148599</td>\n",
       "      <td>10.142511</td>\n",
       "      <td>4.939416</td>\n",
       "      <td>42.774141</td>\n",
       "      <td>66.927016</td>\n",
       "      <td>10.360302</td>\n",
       "      <td>0.792826</td>\n",
       "      <td>16.525686</td>\n",
       "      <td>2.055292</td>\n",
       "      <td>...</td>\n",
       "      <td>14.027298</td>\n",
       "      <td>-499.838632</td>\n",
       "      <td>11.953070</td>\n",
       "      <td>-501.053894</td>\n",
       "      <td>9.925709</td>\n",
       "      <td>-501.686727</td>\n",
       "      <td>7.894242</td>\n",
       "      <td>-500.356035</td>\n",
       "      <td>13.996647</td>\n",
       "      <td>-601.496691</td>\n",
       "    </tr>\n",
       "    <tr>\n",
       "      <th>...</th>\n",
       "      <td>...</td>\n",
       "      <td>...</td>\n",
       "      <td>...</td>\n",
       "      <td>...</td>\n",
       "      <td>...</td>\n",
       "      <td>...</td>\n",
       "      <td>...</td>\n",
       "      <td>...</td>\n",
       "      <td>...</td>\n",
       "      <td>...</td>\n",
       "      <td>...</td>\n",
       "      <td>...</td>\n",
       "      <td>...</td>\n",
       "      <td>...</td>\n",
       "      <td>...</td>\n",
       "      <td>...</td>\n",
       "      <td>...</td>\n",
       "      <td>...</td>\n",
       "      <td>...</td>\n",
       "      <td>...</td>\n",
       "      <td>...</td>\n",
       "    </tr>\n",
       "    <tr>\n",
       "      <th>14144</th>\n",
       "      <td>2018-08-18 06:59:59</td>\n",
       "      <td>3.224920</td>\n",
       "      <td>11.356233</td>\n",
       "      <td>6.803482</td>\n",
       "      <td>46.713954</td>\n",
       "      <td>73.755150</td>\n",
       "      <td>8.769645</td>\n",
       "      <td>3.141541</td>\n",
       "      <td>10.403181</td>\n",
       "      <td>1.529220</td>\n",
       "      <td>...</td>\n",
       "      <td>23.031497</td>\n",
       "      <td>-501.167942</td>\n",
       "      <td>20.007571</td>\n",
       "      <td>-499.740028</td>\n",
       "      <td>18.006038</td>\n",
       "      <td>-499.834374</td>\n",
       "      <td>13.001114</td>\n",
       "      <td>-500.155694</td>\n",
       "      <td>20.007840</td>\n",
       "      <td>-501.296428</td>\n",
       "    </tr>\n",
       "    <tr>\n",
       "      <th>14145</th>\n",
       "      <td>2018-08-18 07:59:59</td>\n",
       "      <td>3.195978</td>\n",
       "      <td>11.349355</td>\n",
       "      <td>6.862249</td>\n",
       "      <td>46.866780</td>\n",
       "      <td>69.049291</td>\n",
       "      <td>8.897321</td>\n",
       "      <td>3.130493</td>\n",
       "      <td>10.549470</td>\n",
       "      <td>1.612542</td>\n",
       "      <td>...</td>\n",
       "      <td>22.960095</td>\n",
       "      <td>-501.612783</td>\n",
       "      <td>20.035660</td>\n",
       "      <td>-500.251357</td>\n",
       "      <td>17.998535</td>\n",
       "      <td>-500.395178</td>\n",
       "      <td>12.954048</td>\n",
       "      <td>-499.895163</td>\n",
       "      <td>19.968498</td>\n",
       "      <td>-501.041608</td>\n",
       "    </tr>\n",
       "    <tr>\n",
       "      <th>14146</th>\n",
       "      <td>2018-08-18 08:59:59</td>\n",
       "      <td>3.109998</td>\n",
       "      <td>11.434366</td>\n",
       "      <td>6.886013</td>\n",
       "      <td>46.795691</td>\n",
       "      <td>67.002189</td>\n",
       "      <td>8.529606</td>\n",
       "      <td>2.911418</td>\n",
       "      <td>11.115147</td>\n",
       "      <td>1.596616</td>\n",
       "      <td>...</td>\n",
       "      <td>23.015718</td>\n",
       "      <td>-501.711599</td>\n",
       "      <td>19.951231</td>\n",
       "      <td>-499.857027</td>\n",
       "      <td>18.019543</td>\n",
       "      <td>-500.451156</td>\n",
       "      <td>13.023431</td>\n",
       "      <td>-499.914391</td>\n",
       "      <td>19.990885</td>\n",
       "      <td>-501.518452</td>\n",
       "    </tr>\n",
       "    <tr>\n",
       "      <th>14147</th>\n",
       "      <td>2018-08-18 09:59:59</td>\n",
       "      <td>3.367241</td>\n",
       "      <td>11.625587</td>\n",
       "      <td>6.799433</td>\n",
       "      <td>46.408188</td>\n",
       "      <td>65.523246</td>\n",
       "      <td>8.777171</td>\n",
       "      <td>2.819214</td>\n",
       "      <td>10.463847</td>\n",
       "      <td>1.602879</td>\n",
       "      <td>...</td>\n",
       "      <td>23.024963</td>\n",
       "      <td>-501.153409</td>\n",
       "      <td>20.054122</td>\n",
       "      <td>-500.314711</td>\n",
       "      <td>17.979515</td>\n",
       "      <td>-499.272871</td>\n",
       "      <td>12.992404</td>\n",
       "      <td>-499.976268</td>\n",
       "      <td>20.013986</td>\n",
       "      <td>-500.625471</td>\n",
       "    </tr>\n",
       "    <tr>\n",
       "      <th>14148</th>\n",
       "      <td>2018-08-18 10:59:59</td>\n",
       "      <td>3.598375</td>\n",
       "      <td>11.737832</td>\n",
       "      <td>6.717509</td>\n",
       "      <td>46.299438</td>\n",
       "      <td>70.281454</td>\n",
       "      <td>8.406690</td>\n",
       "      <td>2.517518</td>\n",
       "      <td>10.652193</td>\n",
       "      <td>1.389434</td>\n",
       "      <td>...</td>\n",
       "      <td>23.018622</td>\n",
       "      <td>-500.492702</td>\n",
       "      <td>20.020205</td>\n",
       "      <td>-500.220296</td>\n",
       "      <td>17.963512</td>\n",
       "      <td>-499.939490</td>\n",
       "      <td>12.990306</td>\n",
       "      <td>-500.080993</td>\n",
       "      <td>19.990336</td>\n",
       "      <td>-499.191575</td>\n",
       "    </tr>\n",
       "  </tbody>\n",
       "</table>\n",
       "<p>14149 rows × 87 columns</p>\n",
       "</div>"
      ],
      "text/plain": [
       "                      date  final.output.concentrate_ag  \\\n",
       "0      2016-01-15 00:00:00                     6.055403   \n",
       "1      2016-01-15 01:00:00                     6.029369   \n",
       "2      2016-01-15 02:00:00                     6.055926   \n",
       "3      2016-01-15 03:00:00                     6.047977   \n",
       "4      2016-01-15 04:00:00                     6.148599   \n",
       "...                    ...                          ...   \n",
       "14144  2018-08-18 06:59:59                     3.224920   \n",
       "14145  2018-08-18 07:59:59                     3.195978   \n",
       "14146  2018-08-18 08:59:59                     3.109998   \n",
       "14147  2018-08-18 09:59:59                     3.367241   \n",
       "14148  2018-08-18 10:59:59                     3.598375   \n",
       "\n",
       "       final.output.concentrate_pb  final.output.concentrate_sol  \\\n",
       "0                         9.889648                      5.507324   \n",
       "1                         9.968944                      5.257781   \n",
       "2                        10.213995                      5.383759   \n",
       "3                         9.977019                      4.858634   \n",
       "4                        10.142511                      4.939416   \n",
       "...                            ...                           ...   \n",
       "14144                    11.356233                      6.803482   \n",
       "14145                    11.349355                      6.862249   \n",
       "14146                    11.434366                      6.886013   \n",
       "14147                    11.625587                      6.799433   \n",
       "14148                    11.737832                      6.717509   \n",
       "\n",
       "       final.output.concentrate_au  final.output.recovery  \\\n",
       "0                        42.192020              70.541216   \n",
       "1                        42.701629              69.266198   \n",
       "2                        42.657501              68.116445   \n",
       "3                        42.689819              68.347543   \n",
       "4                        42.774141              66.927016   \n",
       "...                            ...                    ...   \n",
       "14144                    46.713954              73.755150   \n",
       "14145                    46.866780              69.049291   \n",
       "14146                    46.795691              67.002189   \n",
       "14147                    46.408188              65.523246   \n",
       "14148                    46.299438              70.281454   \n",
       "\n",
       "       final.output.tail_ag  final.output.tail_pb  final.output.tail_sol  \\\n",
       "0                 10.411962              0.895447              16.904297   \n",
       "1                 10.462676              0.927452              16.634514   \n",
       "2                 10.507046              0.953716              16.208849   \n",
       "3                 10.422762              0.883763              16.532835   \n",
       "4                 10.360302              0.792826              16.525686   \n",
       "...                     ...                   ...                    ...   \n",
       "14144              8.769645              3.141541              10.403181   \n",
       "14145              8.897321              3.130493              10.549470   \n",
       "14146              8.529606              2.911418              11.115147   \n",
       "14147              8.777171              2.819214              10.463847   \n",
       "14148              8.406690              2.517518              10.652193   \n",
       "\n",
       "       final.output.tail_au  ...  secondary_cleaner.state.floatbank4_a_air  \\\n",
       "0                  2.143149  ...                                 14.016835   \n",
       "1                  2.224930  ...                                 13.992281   \n",
       "2                  2.257889  ...                                 14.015015   \n",
       "3                  2.146849  ...                                 14.036510   \n",
       "4                  2.055292  ...                                 14.027298   \n",
       "...                     ...  ...                                       ...   \n",
       "14144              1.529220  ...                                 23.031497   \n",
       "14145              1.612542  ...                                 22.960095   \n",
       "14146              1.596616  ...                                 23.015718   \n",
       "14147              1.602879  ...                                 23.024963   \n",
       "14148              1.389434  ...                                 23.018622   \n",
       "\n",
       "       secondary_cleaner.state.floatbank4_a_level  \\\n",
       "0                                     -502.488007   \n",
       "1                                     -505.503262   \n",
       "2                                     -502.520901   \n",
       "3                                     -500.857308   \n",
       "4                                     -499.838632   \n",
       "...                                           ...   \n",
       "14144                                 -501.167942   \n",
       "14145                                 -501.612783   \n",
       "14146                                 -501.711599   \n",
       "14147                                 -501.153409   \n",
       "14148                                 -500.492702   \n",
       "\n",
       "       secondary_cleaner.state.floatbank4_b_air  \\\n",
       "0                                     12.099931   \n",
       "1                                     11.950531   \n",
       "2                                     11.912783   \n",
       "3                                     11.999550   \n",
       "4                                     11.953070   \n",
       "...                                         ...   \n",
       "14144                                 20.007571   \n",
       "14145                                 20.035660   \n",
       "14146                                 19.951231   \n",
       "14147                                 20.054122   \n",
       "14148                                 20.020205   \n",
       "\n",
       "       secondary_cleaner.state.floatbank4_b_level  \\\n",
       "0                                     -504.715942   \n",
       "1                                     -501.331529   \n",
       "2                                     -501.133383   \n",
       "3                                     -501.193686   \n",
       "4                                     -501.053894   \n",
       "...                                           ...   \n",
       "14144                                 -499.740028   \n",
       "14145                                 -500.251357   \n",
       "14146                                 -499.857027   \n",
       "14147                                 -500.314711   \n",
       "14148                                 -500.220296   \n",
       "\n",
       "       secondary_cleaner.state.floatbank5_a_air  \\\n",
       "0                                      9.925633   \n",
       "1                                     10.039245   \n",
       "2                                     10.070913   \n",
       "3                                      9.970366   \n",
       "4                                      9.925709   \n",
       "...                                         ...   \n",
       "14144                                 18.006038   \n",
       "14145                                 17.998535   \n",
       "14146                                 18.019543   \n",
       "14147                                 17.979515   \n",
       "14148                                 17.963512   \n",
       "\n",
       "       secondary_cleaner.state.floatbank5_a_level  \\\n",
       "0                                     -498.310211   \n",
       "1                                     -500.169983   \n",
       "2                                     -500.129135   \n",
       "3                                     -499.201640   \n",
       "4                                     -501.686727   \n",
       "...                                           ...   \n",
       "14144                                 -499.834374   \n",
       "14145                                 -500.395178   \n",
       "14146                                 -500.451156   \n",
       "14147                                 -499.272871   \n",
       "14148                                 -499.939490   \n",
       "\n",
       "       secondary_cleaner.state.floatbank5_b_air  \\\n",
       "0                                      8.079666   \n",
       "1                                      7.984757   \n",
       "2                                      8.013877   \n",
       "3                                      7.977324   \n",
       "4                                      7.894242   \n",
       "...                                         ...   \n",
       "14144                                 13.001114   \n",
       "14145                                 12.954048   \n",
       "14146                                 13.023431   \n",
       "14147                                 12.992404   \n",
       "14148                                 12.990306   \n",
       "\n",
       "       secondary_cleaner.state.floatbank5_b_level  \\\n",
       "0                                     -500.470978   \n",
       "1                                     -500.582168   \n",
       "2                                     -500.517572   \n",
       "3                                     -500.255908   \n",
       "4                                     -500.356035   \n",
       "...                                           ...   \n",
       "14144                                 -500.155694   \n",
       "14145                                 -499.895163   \n",
       "14146                                 -499.914391   \n",
       "14147                                 -499.976268   \n",
       "14148                                 -500.080993   \n",
       "\n",
       "       secondary_cleaner.state.floatbank6_a_air  \\\n",
       "0                                     14.151341   \n",
       "1                                     13.998353   \n",
       "2                                     14.028663   \n",
       "3                                     14.005551   \n",
       "4                                     13.996647   \n",
       "...                                         ...   \n",
       "14144                                 20.007840   \n",
       "14145                                 19.968498   \n",
       "14146                                 19.990885   \n",
       "14147                                 20.013986   \n",
       "14148                                 19.990336   \n",
       "\n",
       "       secondary_cleaner.state.floatbank6_a_level  \n",
       "0                                     -605.841980  \n",
       "1                                     -599.787184  \n",
       "2                                     -601.427363  \n",
       "3                                     -599.996129  \n",
       "4                                     -601.496691  \n",
       "...                                           ...  \n",
       "14144                                 -501.296428  \n",
       "14145                                 -501.041608  \n",
       "14146                                 -501.518452  \n",
       "14147                                 -500.625471  \n",
       "14148                                 -499.191575  \n",
       "\n",
       "[14149 rows x 87 columns]"
      ]
     },
     "metadata": {},
     "output_type": "display_data"
    }
   ],
   "source": [
    "display(df_train)"
   ]
  },
  {
   "cell_type": "code",
   "execution_count": 5,
   "metadata": {},
   "outputs": [],
   "source": [
    "df_train['date'] = pd.to_datetime(df_train['date'], format='%Y-%m-%d %H:%M:%S')\n",
    "df_train['weekday'] = df_train['date'].dt.weekday\n",
    "df_train['hour'] = df_train['date'].dt.hour\n",
    "df_train['minute'] = df_train['date'].dt.minute"
   ]
  },
  {
   "cell_type": "code",
   "execution_count": 6,
   "metadata": {},
   "outputs": [
    {
     "name": "stdout",
     "output_type": "stream",
     "text": [
      "0\n"
     ]
    }
   ],
   "source": [
    "print(df_train.duplicated().sum())"
   ]
  },
  {
   "cell_type": "code",
   "execution_count": 7,
   "metadata": {},
   "outputs": [],
   "source": [
    "df_train = df_train.dropna()"
   ]
  },
  {
   "cell_type": "markdown",
   "metadata": {},
   "source": [
    "### df_test"
   ]
  },
  {
   "cell_type": "code",
   "execution_count": 8,
   "metadata": {},
   "outputs": [
    {
     "name": "stdout",
     "output_type": "stream",
     "text": [
      "<class 'pandas.core.frame.DataFrame'>\n",
      "RangeIndex: 5290 entries, 0 to 5289\n",
      "Data columns (total 53 columns):\n",
      " #   Column                                      Non-Null Count  Dtype  \n",
      "---  ------                                      --------------  -----  \n",
      " 0   date                                        5290 non-null   object \n",
      " 1   primary_cleaner.input.sulfate               5286 non-null   float64\n",
      " 2   primary_cleaner.input.depressant            5285 non-null   float64\n",
      " 3   primary_cleaner.input.feed_size             5290 non-null   float64\n",
      " 4   primary_cleaner.input.xanthate              5286 non-null   float64\n",
      " 5   primary_cleaner.state.floatbank8_a_air      5290 non-null   float64\n",
      " 6   primary_cleaner.state.floatbank8_a_level    5290 non-null   float64\n",
      " 7   primary_cleaner.state.floatbank8_b_air      5290 non-null   float64\n",
      " 8   primary_cleaner.state.floatbank8_b_level    5290 non-null   float64\n",
      " 9   primary_cleaner.state.floatbank8_c_air      5290 non-null   float64\n",
      " 10  primary_cleaner.state.floatbank8_c_level    5290 non-null   float64\n",
      " 11  primary_cleaner.state.floatbank8_d_air      5290 non-null   float64\n",
      " 12  primary_cleaner.state.floatbank8_d_level    5290 non-null   float64\n",
      " 13  rougher.input.feed_ag                       5290 non-null   float64\n",
      " 14  rougher.input.feed_pb                       5290 non-null   float64\n",
      " 15  rougher.input.feed_rate                     5287 non-null   float64\n",
      " 16  rougher.input.feed_size                     5289 non-null   float64\n",
      " 17  rougher.input.feed_sol                      5269 non-null   float64\n",
      " 18  rougher.input.feed_au                       5290 non-null   float64\n",
      " 19  rougher.input.floatbank10_sulfate           5285 non-null   float64\n",
      " 20  rougher.input.floatbank10_xanthate          5290 non-null   float64\n",
      " 21  rougher.input.floatbank11_sulfate           5282 non-null   float64\n",
      " 22  rougher.input.floatbank11_xanthate          5265 non-null   float64\n",
      " 23  rougher.state.floatbank10_a_air             5290 non-null   float64\n",
      " 24  rougher.state.floatbank10_a_level           5290 non-null   float64\n",
      " 25  rougher.state.floatbank10_b_air             5290 non-null   float64\n",
      " 26  rougher.state.floatbank10_b_level           5290 non-null   float64\n",
      " 27  rougher.state.floatbank10_c_air             5290 non-null   float64\n",
      " 28  rougher.state.floatbank10_c_level           5290 non-null   float64\n",
      " 29  rougher.state.floatbank10_d_air             5290 non-null   float64\n",
      " 30  rougher.state.floatbank10_d_level           5290 non-null   float64\n",
      " 31  rougher.state.floatbank10_e_air             5290 non-null   float64\n",
      " 32  rougher.state.floatbank10_e_level           5290 non-null   float64\n",
      " 33  rougher.state.floatbank10_f_air             5290 non-null   float64\n",
      " 34  rougher.state.floatbank10_f_level           5290 non-null   float64\n",
      " 35  secondary_cleaner.state.floatbank2_a_air    5287 non-null   float64\n",
      " 36  secondary_cleaner.state.floatbank2_a_level  5290 non-null   float64\n",
      " 37  secondary_cleaner.state.floatbank2_b_air    5288 non-null   float64\n",
      " 38  secondary_cleaner.state.floatbank2_b_level  5290 non-null   float64\n",
      " 39  secondary_cleaner.state.floatbank3_a_air    5281 non-null   float64\n",
      " 40  secondary_cleaner.state.floatbank3_a_level  5290 non-null   float64\n",
      " 41  secondary_cleaner.state.floatbank3_b_air    5290 non-null   float64\n",
      " 42  secondary_cleaner.state.floatbank3_b_level  5290 non-null   float64\n",
      " 43  secondary_cleaner.state.floatbank4_a_air    5290 non-null   float64\n",
      " 44  secondary_cleaner.state.floatbank4_a_level  5290 non-null   float64\n",
      " 45  secondary_cleaner.state.floatbank4_b_air    5290 non-null   float64\n",
      " 46  secondary_cleaner.state.floatbank4_b_level  5290 non-null   float64\n",
      " 47  secondary_cleaner.state.floatbank5_a_air    5290 non-null   float64\n",
      " 48  secondary_cleaner.state.floatbank5_a_level  5290 non-null   float64\n",
      " 49  secondary_cleaner.state.floatbank5_b_air    5290 non-null   float64\n",
      " 50  secondary_cleaner.state.floatbank5_b_level  5290 non-null   float64\n",
      " 51  secondary_cleaner.state.floatbank6_a_air    5290 non-null   float64\n",
      " 52  secondary_cleaner.state.floatbank6_a_level  5290 non-null   float64\n",
      "dtypes: float64(52), object(1)\n",
      "memory usage: 2.1+ MB\n"
     ]
    }
   ],
   "source": [
    "df_test.info()"
   ]
  },
  {
   "cell_type": "code",
   "execution_count": 9,
   "metadata": {},
   "outputs": [
    {
     "data": {
      "text/html": [
       "<div>\n",
       "<style scoped>\n",
       "    .dataframe tbody tr th:only-of-type {\n",
       "        vertical-align: middle;\n",
       "    }\n",
       "\n",
       "    .dataframe tbody tr th {\n",
       "        vertical-align: top;\n",
       "    }\n",
       "\n",
       "    .dataframe thead th {\n",
       "        text-align: right;\n",
       "    }\n",
       "</style>\n",
       "<table border=\"1\" class=\"dataframe\">\n",
       "  <thead>\n",
       "    <tr style=\"text-align: right;\">\n",
       "      <th></th>\n",
       "      <th>date</th>\n",
       "      <th>primary_cleaner.input.sulfate</th>\n",
       "      <th>primary_cleaner.input.depressant</th>\n",
       "      <th>primary_cleaner.input.feed_size</th>\n",
       "      <th>primary_cleaner.input.xanthate</th>\n",
       "      <th>primary_cleaner.state.floatbank8_a_air</th>\n",
       "      <th>primary_cleaner.state.floatbank8_a_level</th>\n",
       "      <th>primary_cleaner.state.floatbank8_b_air</th>\n",
       "      <th>primary_cleaner.state.floatbank8_b_level</th>\n",
       "      <th>primary_cleaner.state.floatbank8_c_air</th>\n",
       "      <th>...</th>\n",
       "      <th>secondary_cleaner.state.floatbank4_a_air</th>\n",
       "      <th>secondary_cleaner.state.floatbank4_a_level</th>\n",
       "      <th>secondary_cleaner.state.floatbank4_b_air</th>\n",
       "      <th>secondary_cleaner.state.floatbank4_b_level</th>\n",
       "      <th>secondary_cleaner.state.floatbank5_a_air</th>\n",
       "      <th>secondary_cleaner.state.floatbank5_a_level</th>\n",
       "      <th>secondary_cleaner.state.floatbank5_b_air</th>\n",
       "      <th>secondary_cleaner.state.floatbank5_b_level</th>\n",
       "      <th>secondary_cleaner.state.floatbank6_a_air</th>\n",
       "      <th>secondary_cleaner.state.floatbank6_a_level</th>\n",
       "    </tr>\n",
       "  </thead>\n",
       "  <tbody>\n",
       "    <tr>\n",
       "      <th>0</th>\n",
       "      <td>2016-09-01 00:59:59</td>\n",
       "      <td>210.800909</td>\n",
       "      <td>14.993118</td>\n",
       "      <td>8.080000</td>\n",
       "      <td>1.005021</td>\n",
       "      <td>1398.981301</td>\n",
       "      <td>-500.225577</td>\n",
       "      <td>1399.144926</td>\n",
       "      <td>-499.919735</td>\n",
       "      <td>1400.102998</td>\n",
       "      <td>...</td>\n",
       "      <td>12.023554</td>\n",
       "      <td>-497.795834</td>\n",
       "      <td>8.016656</td>\n",
       "      <td>-501.289139</td>\n",
       "      <td>7.946562</td>\n",
       "      <td>-432.317850</td>\n",
       "      <td>4.872511</td>\n",
       "      <td>-500.037437</td>\n",
       "      <td>26.705889</td>\n",
       "      <td>-499.709414</td>\n",
       "    </tr>\n",
       "    <tr>\n",
       "      <th>1</th>\n",
       "      <td>2016-09-01 01:59:59</td>\n",
       "      <td>215.392455</td>\n",
       "      <td>14.987471</td>\n",
       "      <td>8.080000</td>\n",
       "      <td>0.990469</td>\n",
       "      <td>1398.777912</td>\n",
       "      <td>-500.057435</td>\n",
       "      <td>1398.055362</td>\n",
       "      <td>-499.778182</td>\n",
       "      <td>1396.151033</td>\n",
       "      <td>...</td>\n",
       "      <td>12.058140</td>\n",
       "      <td>-498.695773</td>\n",
       "      <td>8.130979</td>\n",
       "      <td>-499.634209</td>\n",
       "      <td>7.958270</td>\n",
       "      <td>-525.839648</td>\n",
       "      <td>4.878850</td>\n",
       "      <td>-500.162375</td>\n",
       "      <td>25.019940</td>\n",
       "      <td>-499.819438</td>\n",
       "    </tr>\n",
       "    <tr>\n",
       "      <th>2</th>\n",
       "      <td>2016-09-01 02:59:59</td>\n",
       "      <td>215.259946</td>\n",
       "      <td>12.884934</td>\n",
       "      <td>7.786667</td>\n",
       "      <td>0.996043</td>\n",
       "      <td>1398.493666</td>\n",
       "      <td>-500.868360</td>\n",
       "      <td>1398.860436</td>\n",
       "      <td>-499.764529</td>\n",
       "      <td>1398.075709</td>\n",
       "      <td>...</td>\n",
       "      <td>11.962366</td>\n",
       "      <td>-498.767484</td>\n",
       "      <td>8.096893</td>\n",
       "      <td>-500.827423</td>\n",
       "      <td>8.071056</td>\n",
       "      <td>-500.801673</td>\n",
       "      <td>4.905125</td>\n",
       "      <td>-499.828510</td>\n",
       "      <td>24.994862</td>\n",
       "      <td>-500.622559</td>\n",
       "    </tr>\n",
       "    <tr>\n",
       "      <th>3</th>\n",
       "      <td>2016-09-01 03:59:59</td>\n",
       "      <td>215.336236</td>\n",
       "      <td>12.006805</td>\n",
       "      <td>7.640000</td>\n",
       "      <td>0.863514</td>\n",
       "      <td>1399.618111</td>\n",
       "      <td>-498.863574</td>\n",
       "      <td>1397.440120</td>\n",
       "      <td>-499.211024</td>\n",
       "      <td>1400.129303</td>\n",
       "      <td>...</td>\n",
       "      <td>12.033091</td>\n",
       "      <td>-498.350935</td>\n",
       "      <td>8.074946</td>\n",
       "      <td>-499.474407</td>\n",
       "      <td>7.897085</td>\n",
       "      <td>-500.868509</td>\n",
       "      <td>4.931400</td>\n",
       "      <td>-499.963623</td>\n",
       "      <td>24.948919</td>\n",
       "      <td>-498.709987</td>\n",
       "    </tr>\n",
       "    <tr>\n",
       "      <th>4</th>\n",
       "      <td>2016-09-01 04:59:59</td>\n",
       "      <td>199.099327</td>\n",
       "      <td>10.682530</td>\n",
       "      <td>7.530000</td>\n",
       "      <td>0.805575</td>\n",
       "      <td>1401.268123</td>\n",
       "      <td>-500.808305</td>\n",
       "      <td>1398.128818</td>\n",
       "      <td>-499.504543</td>\n",
       "      <td>1402.172226</td>\n",
       "      <td>...</td>\n",
       "      <td>12.025367</td>\n",
       "      <td>-500.786497</td>\n",
       "      <td>8.054678</td>\n",
       "      <td>-500.397500</td>\n",
       "      <td>8.107890</td>\n",
       "      <td>-509.526725</td>\n",
       "      <td>4.957674</td>\n",
       "      <td>-500.360026</td>\n",
       "      <td>25.003331</td>\n",
       "      <td>-500.856333</td>\n",
       "    </tr>\n",
       "    <tr>\n",
       "      <th>...</th>\n",
       "      <td>...</td>\n",
       "      <td>...</td>\n",
       "      <td>...</td>\n",
       "      <td>...</td>\n",
       "      <td>...</td>\n",
       "      <td>...</td>\n",
       "      <td>...</td>\n",
       "      <td>...</td>\n",
       "      <td>...</td>\n",
       "      <td>...</td>\n",
       "      <td>...</td>\n",
       "      <td>...</td>\n",
       "      <td>...</td>\n",
       "      <td>...</td>\n",
       "      <td>...</td>\n",
       "      <td>...</td>\n",
       "      <td>...</td>\n",
       "      <td>...</td>\n",
       "      <td>...</td>\n",
       "      <td>...</td>\n",
       "      <td>...</td>\n",
       "    </tr>\n",
       "    <tr>\n",
       "      <th>5285</th>\n",
       "      <td>2017-12-31 19:59:59</td>\n",
       "      <td>173.957757</td>\n",
       "      <td>15.963399</td>\n",
       "      <td>8.070000</td>\n",
       "      <td>0.896701</td>\n",
       "      <td>1401.930554</td>\n",
       "      <td>-499.728848</td>\n",
       "      <td>1401.441445</td>\n",
       "      <td>-499.193423</td>\n",
       "      <td>1399.810313</td>\n",
       "      <td>...</td>\n",
       "      <td>13.995957</td>\n",
       "      <td>-500.157454</td>\n",
       "      <td>12.069155</td>\n",
       "      <td>-499.673279</td>\n",
       "      <td>7.977259</td>\n",
       "      <td>-499.516126</td>\n",
       "      <td>5.933319</td>\n",
       "      <td>-499.965973</td>\n",
       "      <td>8.987171</td>\n",
       "      <td>-499.755909</td>\n",
       "    </tr>\n",
       "    <tr>\n",
       "      <th>5286</th>\n",
       "      <td>2017-12-31 20:59:59</td>\n",
       "      <td>172.910270</td>\n",
       "      <td>16.002605</td>\n",
       "      <td>8.070000</td>\n",
       "      <td>0.896519</td>\n",
       "      <td>1447.075722</td>\n",
       "      <td>-494.716823</td>\n",
       "      <td>1448.851892</td>\n",
       "      <td>-465.963026</td>\n",
       "      <td>1443.890424</td>\n",
       "      <td>...</td>\n",
       "      <td>16.749781</td>\n",
       "      <td>-496.031539</td>\n",
       "      <td>13.365371</td>\n",
       "      <td>-499.122723</td>\n",
       "      <td>9.288553</td>\n",
       "      <td>-496.892967</td>\n",
       "      <td>7.372897</td>\n",
       "      <td>-499.942956</td>\n",
       "      <td>8.986832</td>\n",
       "      <td>-499.903761</td>\n",
       "    </tr>\n",
       "    <tr>\n",
       "      <th>5287</th>\n",
       "      <td>2017-12-31 21:59:59</td>\n",
       "      <td>171.135718</td>\n",
       "      <td>15.993669</td>\n",
       "      <td>8.070000</td>\n",
       "      <td>1.165996</td>\n",
       "      <td>1498.836182</td>\n",
       "      <td>-501.770403</td>\n",
       "      <td>1499.572353</td>\n",
       "      <td>-495.516347</td>\n",
       "      <td>1502.749213</td>\n",
       "      <td>...</td>\n",
       "      <td>19.994130</td>\n",
       "      <td>-499.791312</td>\n",
       "      <td>15.101425</td>\n",
       "      <td>-499.936252</td>\n",
       "      <td>10.989181</td>\n",
       "      <td>-498.347898</td>\n",
       "      <td>9.020944</td>\n",
       "      <td>-500.040448</td>\n",
       "      <td>8.982038</td>\n",
       "      <td>-497.789882</td>\n",
       "    </tr>\n",
       "    <tr>\n",
       "      <th>5288</th>\n",
       "      <td>2017-12-31 22:59:59</td>\n",
       "      <td>179.697158</td>\n",
       "      <td>15.438979</td>\n",
       "      <td>8.070000</td>\n",
       "      <td>1.501068</td>\n",
       "      <td>1498.466243</td>\n",
       "      <td>-500.483984</td>\n",
       "      <td>1497.986986</td>\n",
       "      <td>-519.200340</td>\n",
       "      <td>1496.569047</td>\n",
       "      <td>...</td>\n",
       "      <td>19.958760</td>\n",
       "      <td>-499.958750</td>\n",
       "      <td>15.026853</td>\n",
       "      <td>-499.723143</td>\n",
       "      <td>11.011607</td>\n",
       "      <td>-499.985046</td>\n",
       "      <td>9.009783</td>\n",
       "      <td>-499.937902</td>\n",
       "      <td>9.012660</td>\n",
       "      <td>-500.154284</td>\n",
       "    </tr>\n",
       "    <tr>\n",
       "      <th>5289</th>\n",
       "      <td>2017-12-31 23:59:59</td>\n",
       "      <td>181.556856</td>\n",
       "      <td>14.995850</td>\n",
       "      <td>8.070000</td>\n",
       "      <td>1.623454</td>\n",
       "      <td>1498.096303</td>\n",
       "      <td>-499.796922</td>\n",
       "      <td>1501.743791</td>\n",
       "      <td>-505.146931</td>\n",
       "      <td>1499.535978</td>\n",
       "      <td>...</td>\n",
       "      <td>20.034715</td>\n",
       "      <td>-500.728588</td>\n",
       "      <td>14.914199</td>\n",
       "      <td>-499.948518</td>\n",
       "      <td>10.986607</td>\n",
       "      <td>-500.658027</td>\n",
       "      <td>8.989497</td>\n",
       "      <td>-500.337588</td>\n",
       "      <td>8.988632</td>\n",
       "      <td>-500.764937</td>\n",
       "    </tr>\n",
       "  </tbody>\n",
       "</table>\n",
       "<p>5290 rows × 53 columns</p>\n",
       "</div>"
      ],
      "text/plain": [
       "                     date  primary_cleaner.input.sulfate  \\\n",
       "0     2016-09-01 00:59:59                     210.800909   \n",
       "1     2016-09-01 01:59:59                     215.392455   \n",
       "2     2016-09-01 02:59:59                     215.259946   \n",
       "3     2016-09-01 03:59:59                     215.336236   \n",
       "4     2016-09-01 04:59:59                     199.099327   \n",
       "...                   ...                            ...   \n",
       "5285  2017-12-31 19:59:59                     173.957757   \n",
       "5286  2017-12-31 20:59:59                     172.910270   \n",
       "5287  2017-12-31 21:59:59                     171.135718   \n",
       "5288  2017-12-31 22:59:59                     179.697158   \n",
       "5289  2017-12-31 23:59:59                     181.556856   \n",
       "\n",
       "      primary_cleaner.input.depressant  primary_cleaner.input.feed_size  \\\n",
       "0                            14.993118                         8.080000   \n",
       "1                            14.987471                         8.080000   \n",
       "2                            12.884934                         7.786667   \n",
       "3                            12.006805                         7.640000   \n",
       "4                            10.682530                         7.530000   \n",
       "...                                ...                              ...   \n",
       "5285                         15.963399                         8.070000   \n",
       "5286                         16.002605                         8.070000   \n",
       "5287                         15.993669                         8.070000   \n",
       "5288                         15.438979                         8.070000   \n",
       "5289                         14.995850                         8.070000   \n",
       "\n",
       "      primary_cleaner.input.xanthate  primary_cleaner.state.floatbank8_a_air  \\\n",
       "0                           1.005021                             1398.981301   \n",
       "1                           0.990469                             1398.777912   \n",
       "2                           0.996043                             1398.493666   \n",
       "3                           0.863514                             1399.618111   \n",
       "4                           0.805575                             1401.268123   \n",
       "...                              ...                                     ...   \n",
       "5285                        0.896701                             1401.930554   \n",
       "5286                        0.896519                             1447.075722   \n",
       "5287                        1.165996                             1498.836182   \n",
       "5288                        1.501068                             1498.466243   \n",
       "5289                        1.623454                             1498.096303   \n",
       "\n",
       "      primary_cleaner.state.floatbank8_a_level  \\\n",
       "0                                  -500.225577   \n",
       "1                                  -500.057435   \n",
       "2                                  -500.868360   \n",
       "3                                  -498.863574   \n",
       "4                                  -500.808305   \n",
       "...                                        ...   \n",
       "5285                               -499.728848   \n",
       "5286                               -494.716823   \n",
       "5287                               -501.770403   \n",
       "5288                               -500.483984   \n",
       "5289                               -499.796922   \n",
       "\n",
       "      primary_cleaner.state.floatbank8_b_air  \\\n",
       "0                                1399.144926   \n",
       "1                                1398.055362   \n",
       "2                                1398.860436   \n",
       "3                                1397.440120   \n",
       "4                                1398.128818   \n",
       "...                                      ...   \n",
       "5285                             1401.441445   \n",
       "5286                             1448.851892   \n",
       "5287                             1499.572353   \n",
       "5288                             1497.986986   \n",
       "5289                             1501.743791   \n",
       "\n",
       "      primary_cleaner.state.floatbank8_b_level  \\\n",
       "0                                  -499.919735   \n",
       "1                                  -499.778182   \n",
       "2                                  -499.764529   \n",
       "3                                  -499.211024   \n",
       "4                                  -499.504543   \n",
       "...                                        ...   \n",
       "5285                               -499.193423   \n",
       "5286                               -465.963026   \n",
       "5287                               -495.516347   \n",
       "5288                               -519.200340   \n",
       "5289                               -505.146931   \n",
       "\n",
       "      primary_cleaner.state.floatbank8_c_air  ...  \\\n",
       "0                                1400.102998  ...   \n",
       "1                                1396.151033  ...   \n",
       "2                                1398.075709  ...   \n",
       "3                                1400.129303  ...   \n",
       "4                                1402.172226  ...   \n",
       "...                                      ...  ...   \n",
       "5285                             1399.810313  ...   \n",
       "5286                             1443.890424  ...   \n",
       "5287                             1502.749213  ...   \n",
       "5288                             1496.569047  ...   \n",
       "5289                             1499.535978  ...   \n",
       "\n",
       "      secondary_cleaner.state.floatbank4_a_air  \\\n",
       "0                                    12.023554   \n",
       "1                                    12.058140   \n",
       "2                                    11.962366   \n",
       "3                                    12.033091   \n",
       "4                                    12.025367   \n",
       "...                                        ...   \n",
       "5285                                 13.995957   \n",
       "5286                                 16.749781   \n",
       "5287                                 19.994130   \n",
       "5288                                 19.958760   \n",
       "5289                                 20.034715   \n",
       "\n",
       "      secondary_cleaner.state.floatbank4_a_level  \\\n",
       "0                                    -497.795834   \n",
       "1                                    -498.695773   \n",
       "2                                    -498.767484   \n",
       "3                                    -498.350935   \n",
       "4                                    -500.786497   \n",
       "...                                          ...   \n",
       "5285                                 -500.157454   \n",
       "5286                                 -496.031539   \n",
       "5287                                 -499.791312   \n",
       "5288                                 -499.958750   \n",
       "5289                                 -500.728588   \n",
       "\n",
       "      secondary_cleaner.state.floatbank4_b_air  \\\n",
       "0                                     8.016656   \n",
       "1                                     8.130979   \n",
       "2                                     8.096893   \n",
       "3                                     8.074946   \n",
       "4                                     8.054678   \n",
       "...                                        ...   \n",
       "5285                                 12.069155   \n",
       "5286                                 13.365371   \n",
       "5287                                 15.101425   \n",
       "5288                                 15.026853   \n",
       "5289                                 14.914199   \n",
       "\n",
       "      secondary_cleaner.state.floatbank4_b_level  \\\n",
       "0                                    -501.289139   \n",
       "1                                    -499.634209   \n",
       "2                                    -500.827423   \n",
       "3                                    -499.474407   \n",
       "4                                    -500.397500   \n",
       "...                                          ...   \n",
       "5285                                 -499.673279   \n",
       "5286                                 -499.122723   \n",
       "5287                                 -499.936252   \n",
       "5288                                 -499.723143   \n",
       "5289                                 -499.948518   \n",
       "\n",
       "      secondary_cleaner.state.floatbank5_a_air  \\\n",
       "0                                     7.946562   \n",
       "1                                     7.958270   \n",
       "2                                     8.071056   \n",
       "3                                     7.897085   \n",
       "4                                     8.107890   \n",
       "...                                        ...   \n",
       "5285                                  7.977259   \n",
       "5286                                  9.288553   \n",
       "5287                                 10.989181   \n",
       "5288                                 11.011607   \n",
       "5289                                 10.986607   \n",
       "\n",
       "      secondary_cleaner.state.floatbank5_a_level  \\\n",
       "0                                    -432.317850   \n",
       "1                                    -525.839648   \n",
       "2                                    -500.801673   \n",
       "3                                    -500.868509   \n",
       "4                                    -509.526725   \n",
       "...                                          ...   \n",
       "5285                                 -499.516126   \n",
       "5286                                 -496.892967   \n",
       "5287                                 -498.347898   \n",
       "5288                                 -499.985046   \n",
       "5289                                 -500.658027   \n",
       "\n",
       "      secondary_cleaner.state.floatbank5_b_air  \\\n",
       "0                                     4.872511   \n",
       "1                                     4.878850   \n",
       "2                                     4.905125   \n",
       "3                                     4.931400   \n",
       "4                                     4.957674   \n",
       "...                                        ...   \n",
       "5285                                  5.933319   \n",
       "5286                                  7.372897   \n",
       "5287                                  9.020944   \n",
       "5288                                  9.009783   \n",
       "5289                                  8.989497   \n",
       "\n",
       "      secondary_cleaner.state.floatbank5_b_level  \\\n",
       "0                                    -500.037437   \n",
       "1                                    -500.162375   \n",
       "2                                    -499.828510   \n",
       "3                                    -499.963623   \n",
       "4                                    -500.360026   \n",
       "...                                          ...   \n",
       "5285                                 -499.965973   \n",
       "5286                                 -499.942956   \n",
       "5287                                 -500.040448   \n",
       "5288                                 -499.937902   \n",
       "5289                                 -500.337588   \n",
       "\n",
       "      secondary_cleaner.state.floatbank6_a_air  \\\n",
       "0                                    26.705889   \n",
       "1                                    25.019940   \n",
       "2                                    24.994862   \n",
       "3                                    24.948919   \n",
       "4                                    25.003331   \n",
       "...                                        ...   \n",
       "5285                                  8.987171   \n",
       "5286                                  8.986832   \n",
       "5287                                  8.982038   \n",
       "5288                                  9.012660   \n",
       "5289                                  8.988632   \n",
       "\n",
       "      secondary_cleaner.state.floatbank6_a_level  \n",
       "0                                    -499.709414  \n",
       "1                                    -499.819438  \n",
       "2                                    -500.622559  \n",
       "3                                    -498.709987  \n",
       "4                                    -500.856333  \n",
       "...                                          ...  \n",
       "5285                                 -499.755909  \n",
       "5286                                 -499.903761  \n",
       "5287                                 -497.789882  \n",
       "5288                                 -500.154284  \n",
       "5289                                 -500.764937  \n",
       "\n",
       "[5290 rows x 53 columns]"
      ]
     },
     "metadata": {},
     "output_type": "display_data"
    }
   ],
   "source": [
    "display(df_test)"
   ]
  },
  {
   "cell_type": "code",
   "execution_count": 10,
   "metadata": {},
   "outputs": [],
   "source": [
    "df_test['date'] = pd.to_datetime(df_test['date'], format='%Y-%m-%d %H:%M:%S')\n",
    "df_test['weekday'] = df_test['date'].dt.weekday\n",
    "df_test['hour'] = df_test['date'].dt.hour\n",
    "df_test['minute'] = df_test['date'].dt.minute"
   ]
  },
  {
   "cell_type": "code",
   "execution_count": 11,
   "metadata": {},
   "outputs": [
    {
     "name": "stdout",
     "output_type": "stream",
     "text": [
      "0\n"
     ]
    }
   ],
   "source": [
    "print(df_test.duplicated().sum())"
   ]
  },
  {
   "cell_type": "code",
   "execution_count": 12,
   "metadata": {},
   "outputs": [],
   "source": [
    "df_test = df_test.dropna()"
   ]
  },
  {
   "cell_type": "markdown",
   "metadata": {},
   "source": [
    "### df_full"
   ]
  },
  {
   "cell_type": "code",
   "execution_count": 13,
   "metadata": {},
   "outputs": [
    {
     "name": "stdout",
     "output_type": "stream",
     "text": [
      "<class 'pandas.core.frame.DataFrame'>\n",
      "RangeIndex: 19439 entries, 0 to 19438\n",
      "Data columns (total 87 columns):\n",
      " #   Column                                              Non-Null Count  Dtype  \n",
      "---  ------                                              --------------  -----  \n",
      " 0   date                                                19439 non-null  object \n",
      " 1   final.output.concentrate_ag                         19438 non-null  float64\n",
      " 2   final.output.concentrate_pb                         19438 non-null  float64\n",
      " 3   final.output.concentrate_sol                        19228 non-null  float64\n",
      " 4   final.output.concentrate_au                         19439 non-null  float64\n",
      " 5   final.output.recovery                               19439 non-null  float64\n",
      " 6   final.output.tail_ag                                19438 non-null  float64\n",
      " 7   final.output.tail_pb                                19338 non-null  float64\n",
      " 8   final.output.tail_sol                               19433 non-null  float64\n",
      " 9   final.output.tail_au                                19439 non-null  float64\n",
      " 10  primary_cleaner.input.sulfate                       19415 non-null  float64\n",
      " 11  primary_cleaner.input.depressant                    19402 non-null  float64\n",
      " 12  primary_cleaner.input.feed_size                     19439 non-null  float64\n",
      " 13  primary_cleaner.input.xanthate                      19335 non-null  float64\n",
      " 14  primary_cleaner.output.concentrate_ag               19439 non-null  float64\n",
      " 15  primary_cleaner.output.concentrate_pb               19323 non-null  float64\n",
      " 16  primary_cleaner.output.concentrate_sol              19069 non-null  float64\n",
      " 17  primary_cleaner.output.concentrate_au               19439 non-null  float64\n",
      " 18  primary_cleaner.output.tail_ag                      19435 non-null  float64\n",
      " 19  primary_cleaner.output.tail_pb                      19418 non-null  float64\n",
      " 20  primary_cleaner.output.tail_sol                     19377 non-null  float64\n",
      " 21  primary_cleaner.output.tail_au                      19439 non-null  float64\n",
      " 22  primary_cleaner.state.floatbank8_a_air              19435 non-null  float64\n",
      " 23  primary_cleaner.state.floatbank8_a_level            19438 non-null  float64\n",
      " 24  primary_cleaner.state.floatbank8_b_air              19435 non-null  float64\n",
      " 25  primary_cleaner.state.floatbank8_b_level            19438 non-null  float64\n",
      " 26  primary_cleaner.state.floatbank8_c_air              19437 non-null  float64\n",
      " 27  primary_cleaner.state.floatbank8_c_level            19438 non-null  float64\n",
      " 28  primary_cleaner.state.floatbank8_d_air              19436 non-null  float64\n",
      " 29  primary_cleaner.state.floatbank8_d_level            19438 non-null  float64\n",
      " 30  rougher.calculation.sulfate_to_au_concentrate       19437 non-null  float64\n",
      " 31  rougher.calculation.floatbank10_sulfate_to_au_feed  19437 non-null  float64\n",
      " 32  rougher.calculation.floatbank11_sulfate_to_au_feed  19437 non-null  float64\n",
      " 33  rougher.calculation.au_pb_ratio                     19439 non-null  float64\n",
      " 34  rougher.input.feed_ag                               19439 non-null  float64\n",
      " 35  rougher.input.feed_pb                               19339 non-null  float64\n",
      " 36  rougher.input.feed_rate                             19428 non-null  float64\n",
      " 37  rougher.input.feed_size                             19294 non-null  float64\n",
      " 38  rougher.input.feed_sol                              19340 non-null  float64\n",
      " 39  rougher.input.feed_au                               19439 non-null  float64\n",
      " 40  rougher.input.floatbank10_sulfate                   19405 non-null  float64\n",
      " 41  rougher.input.floatbank10_xanthate                  19431 non-null  float64\n",
      " 42  rougher.input.floatbank11_sulfate                   19395 non-null  float64\n",
      " 43  rougher.input.floatbank11_xanthate                  18986 non-null  float64\n",
      " 44  rougher.output.concentrate_ag                       19439 non-null  float64\n",
      " 45  rougher.output.concentrate_pb                       19439 non-null  float64\n",
      " 46  rougher.output.concentrate_sol                      19416 non-null  float64\n",
      " 47  rougher.output.concentrate_au                       19439 non-null  float64\n",
      " 48  rougher.output.recovery                             19439 non-null  float64\n",
      " 49  rougher.output.tail_ag                              19438 non-null  float64\n",
      " 50  rougher.output.tail_pb                              19439 non-null  float64\n",
      " 51  rougher.output.tail_sol                             19439 non-null  float64\n",
      " 52  rougher.output.tail_au                              19439 non-null  float64\n",
      " 53  rougher.state.floatbank10_a_air                     19438 non-null  float64\n",
      " 54  rougher.state.floatbank10_a_level                   19438 non-null  float64\n",
      " 55  rougher.state.floatbank10_b_air                     19438 non-null  float64\n",
      " 56  rougher.state.floatbank10_b_level                   19438 non-null  float64\n",
      " 57  rougher.state.floatbank10_c_air                     19438 non-null  float64\n",
      " 58  rougher.state.floatbank10_c_level                   19438 non-null  float64\n",
      " 59  rougher.state.floatbank10_d_air                     19439 non-null  float64\n",
      " 60  rougher.state.floatbank10_d_level                   19439 non-null  float64\n",
      " 61  rougher.state.floatbank10_e_air                     19003 non-null  float64\n",
      " 62  rougher.state.floatbank10_e_level                   19439 non-null  float64\n",
      " 63  rougher.state.floatbank10_f_air                     19439 non-null  float64\n",
      " 64  rougher.state.floatbank10_f_level                   19439 non-null  float64\n",
      " 65  secondary_cleaner.output.tail_ag                    19437 non-null  float64\n",
      " 66  secondary_cleaner.output.tail_pb                    19427 non-null  float64\n",
      " 67  secondary_cleaner.output.tail_sol                   17691 non-null  float64\n",
      " 68  secondary_cleaner.output.tail_au                    19439 non-null  float64\n",
      " 69  secondary_cleaner.state.floatbank2_a_air            19219 non-null  float64\n",
      " 70  secondary_cleaner.state.floatbank2_a_level          19438 non-null  float64\n",
      " 71  secondary_cleaner.state.floatbank2_b_air            19416 non-null  float64\n",
      " 72  secondary_cleaner.state.floatbank2_b_level          19438 non-null  float64\n",
      " 73  secondary_cleaner.state.floatbank3_a_air            19426 non-null  float64\n",
      " 74  secondary_cleaner.state.floatbank3_a_level          19438 non-null  float64\n",
      " 75  secondary_cleaner.state.floatbank3_b_air            19438 non-null  float64\n",
      " 76  secondary_cleaner.state.floatbank3_b_level          19438 non-null  float64\n",
      " 77  secondary_cleaner.state.floatbank4_a_air            19433 non-null  float64\n",
      " 78  secondary_cleaner.state.floatbank4_a_level          19438 non-null  float64\n",
      " 79  secondary_cleaner.state.floatbank4_b_air            19438 non-null  float64\n",
      " 80  secondary_cleaner.state.floatbank4_b_level          19438 non-null  float64\n",
      " 81  secondary_cleaner.state.floatbank5_a_air            19438 non-null  float64\n",
      " 82  secondary_cleaner.state.floatbank5_a_level          19438 non-null  float64\n",
      " 83  secondary_cleaner.state.floatbank5_b_air            19438 non-null  float64\n",
      " 84  secondary_cleaner.state.floatbank5_b_level          19438 non-null  float64\n",
      " 85  secondary_cleaner.state.floatbank6_a_air            19437 non-null  float64\n",
      " 86  secondary_cleaner.state.floatbank6_a_level          19438 non-null  float64\n",
      "dtypes: float64(86), object(1)\n",
      "memory usage: 12.9+ MB\n"
     ]
    }
   ],
   "source": [
    "df_full.info()"
   ]
  },
  {
   "cell_type": "code",
   "execution_count": 14,
   "metadata": {},
   "outputs": [
    {
     "data": {
      "text/html": [
       "<div>\n",
       "<style scoped>\n",
       "    .dataframe tbody tr th:only-of-type {\n",
       "        vertical-align: middle;\n",
       "    }\n",
       "\n",
       "    .dataframe tbody tr th {\n",
       "        vertical-align: top;\n",
       "    }\n",
       "\n",
       "    .dataframe thead th {\n",
       "        text-align: right;\n",
       "    }\n",
       "</style>\n",
       "<table border=\"1\" class=\"dataframe\">\n",
       "  <thead>\n",
       "    <tr style=\"text-align: right;\">\n",
       "      <th></th>\n",
       "      <th>date</th>\n",
       "      <th>final.output.concentrate_ag</th>\n",
       "      <th>final.output.concentrate_pb</th>\n",
       "      <th>final.output.concentrate_sol</th>\n",
       "      <th>final.output.concentrate_au</th>\n",
       "      <th>final.output.recovery</th>\n",
       "      <th>final.output.tail_ag</th>\n",
       "      <th>final.output.tail_pb</th>\n",
       "      <th>final.output.tail_sol</th>\n",
       "      <th>final.output.tail_au</th>\n",
       "      <th>...</th>\n",
       "      <th>secondary_cleaner.state.floatbank4_a_air</th>\n",
       "      <th>secondary_cleaner.state.floatbank4_a_level</th>\n",
       "      <th>secondary_cleaner.state.floatbank4_b_air</th>\n",
       "      <th>secondary_cleaner.state.floatbank4_b_level</th>\n",
       "      <th>secondary_cleaner.state.floatbank5_a_air</th>\n",
       "      <th>secondary_cleaner.state.floatbank5_a_level</th>\n",
       "      <th>secondary_cleaner.state.floatbank5_b_air</th>\n",
       "      <th>secondary_cleaner.state.floatbank5_b_level</th>\n",
       "      <th>secondary_cleaner.state.floatbank6_a_air</th>\n",
       "      <th>secondary_cleaner.state.floatbank6_a_level</th>\n",
       "    </tr>\n",
       "  </thead>\n",
       "  <tbody>\n",
       "    <tr>\n",
       "      <th>0</th>\n",
       "      <td>2016-01-15 00:00:00</td>\n",
       "      <td>6.055403</td>\n",
       "      <td>9.889648</td>\n",
       "      <td>5.507324</td>\n",
       "      <td>42.192020</td>\n",
       "      <td>70.541216</td>\n",
       "      <td>10.411962</td>\n",
       "      <td>0.895447</td>\n",
       "      <td>16.904297</td>\n",
       "      <td>2.143149</td>\n",
       "      <td>...</td>\n",
       "      <td>14.016835</td>\n",
       "      <td>-502.488007</td>\n",
       "      <td>12.099931</td>\n",
       "      <td>-504.715942</td>\n",
       "      <td>9.925633</td>\n",
       "      <td>-498.310211</td>\n",
       "      <td>8.079666</td>\n",
       "      <td>-500.470978</td>\n",
       "      <td>14.151341</td>\n",
       "      <td>-605.841980</td>\n",
       "    </tr>\n",
       "    <tr>\n",
       "      <th>1</th>\n",
       "      <td>2016-01-15 01:00:00</td>\n",
       "      <td>6.029369</td>\n",
       "      <td>9.968944</td>\n",
       "      <td>5.257781</td>\n",
       "      <td>42.701629</td>\n",
       "      <td>69.266198</td>\n",
       "      <td>10.462676</td>\n",
       "      <td>0.927452</td>\n",
       "      <td>16.634514</td>\n",
       "      <td>2.224930</td>\n",
       "      <td>...</td>\n",
       "      <td>13.992281</td>\n",
       "      <td>-505.503262</td>\n",
       "      <td>11.950531</td>\n",
       "      <td>-501.331529</td>\n",
       "      <td>10.039245</td>\n",
       "      <td>-500.169983</td>\n",
       "      <td>7.984757</td>\n",
       "      <td>-500.582168</td>\n",
       "      <td>13.998353</td>\n",
       "      <td>-599.787184</td>\n",
       "    </tr>\n",
       "    <tr>\n",
       "      <th>2</th>\n",
       "      <td>2016-01-15 02:00:00</td>\n",
       "      <td>6.055926</td>\n",
       "      <td>10.213995</td>\n",
       "      <td>5.383759</td>\n",
       "      <td>42.657501</td>\n",
       "      <td>68.116445</td>\n",
       "      <td>10.507046</td>\n",
       "      <td>0.953716</td>\n",
       "      <td>16.208849</td>\n",
       "      <td>2.257889</td>\n",
       "      <td>...</td>\n",
       "      <td>14.015015</td>\n",
       "      <td>-502.520901</td>\n",
       "      <td>11.912783</td>\n",
       "      <td>-501.133383</td>\n",
       "      <td>10.070913</td>\n",
       "      <td>-500.129135</td>\n",
       "      <td>8.013877</td>\n",
       "      <td>-500.517572</td>\n",
       "      <td>14.028663</td>\n",
       "      <td>-601.427363</td>\n",
       "    </tr>\n",
       "    <tr>\n",
       "      <th>3</th>\n",
       "      <td>2016-01-15 03:00:00</td>\n",
       "      <td>6.047977</td>\n",
       "      <td>9.977019</td>\n",
       "      <td>4.858634</td>\n",
       "      <td>42.689819</td>\n",
       "      <td>68.347543</td>\n",
       "      <td>10.422762</td>\n",
       "      <td>0.883763</td>\n",
       "      <td>16.532835</td>\n",
       "      <td>2.146849</td>\n",
       "      <td>...</td>\n",
       "      <td>14.036510</td>\n",
       "      <td>-500.857308</td>\n",
       "      <td>11.999550</td>\n",
       "      <td>-501.193686</td>\n",
       "      <td>9.970366</td>\n",
       "      <td>-499.201640</td>\n",
       "      <td>7.977324</td>\n",
       "      <td>-500.255908</td>\n",
       "      <td>14.005551</td>\n",
       "      <td>-599.996129</td>\n",
       "    </tr>\n",
       "    <tr>\n",
       "      <th>4</th>\n",
       "      <td>2016-01-15 04:00:00</td>\n",
       "      <td>6.148599</td>\n",
       "      <td>10.142511</td>\n",
       "      <td>4.939416</td>\n",
       "      <td>42.774141</td>\n",
       "      <td>66.927016</td>\n",
       "      <td>10.360302</td>\n",
       "      <td>0.792826</td>\n",
       "      <td>16.525686</td>\n",
       "      <td>2.055292</td>\n",
       "      <td>...</td>\n",
       "      <td>14.027298</td>\n",
       "      <td>-499.838632</td>\n",
       "      <td>11.953070</td>\n",
       "      <td>-501.053894</td>\n",
       "      <td>9.925709</td>\n",
       "      <td>-501.686727</td>\n",
       "      <td>7.894242</td>\n",
       "      <td>-500.356035</td>\n",
       "      <td>13.996647</td>\n",
       "      <td>-601.496691</td>\n",
       "    </tr>\n",
       "    <tr>\n",
       "      <th>...</th>\n",
       "      <td>...</td>\n",
       "      <td>...</td>\n",
       "      <td>...</td>\n",
       "      <td>...</td>\n",
       "      <td>...</td>\n",
       "      <td>...</td>\n",
       "      <td>...</td>\n",
       "      <td>...</td>\n",
       "      <td>...</td>\n",
       "      <td>...</td>\n",
       "      <td>...</td>\n",
       "      <td>...</td>\n",
       "      <td>...</td>\n",
       "      <td>...</td>\n",
       "      <td>...</td>\n",
       "      <td>...</td>\n",
       "      <td>...</td>\n",
       "      <td>...</td>\n",
       "      <td>...</td>\n",
       "      <td>...</td>\n",
       "      <td>...</td>\n",
       "    </tr>\n",
       "    <tr>\n",
       "      <th>19434</th>\n",
       "      <td>2018-08-18 06:59:59</td>\n",
       "      <td>3.224920</td>\n",
       "      <td>11.356233</td>\n",
       "      <td>6.803482</td>\n",
       "      <td>46.713954</td>\n",
       "      <td>73.755150</td>\n",
       "      <td>8.769645</td>\n",
       "      <td>3.141541</td>\n",
       "      <td>10.403181</td>\n",
       "      <td>1.529220</td>\n",
       "      <td>...</td>\n",
       "      <td>23.031497</td>\n",
       "      <td>-501.167942</td>\n",
       "      <td>20.007571</td>\n",
       "      <td>-499.740028</td>\n",
       "      <td>18.006038</td>\n",
       "      <td>-499.834374</td>\n",
       "      <td>13.001114</td>\n",
       "      <td>-500.155694</td>\n",
       "      <td>20.007840</td>\n",
       "      <td>-501.296428</td>\n",
       "    </tr>\n",
       "    <tr>\n",
       "      <th>19435</th>\n",
       "      <td>2018-08-18 07:59:59</td>\n",
       "      <td>3.195978</td>\n",
       "      <td>11.349355</td>\n",
       "      <td>6.862249</td>\n",
       "      <td>46.866780</td>\n",
       "      <td>69.049291</td>\n",
       "      <td>8.897321</td>\n",
       "      <td>3.130493</td>\n",
       "      <td>10.549470</td>\n",
       "      <td>1.612542</td>\n",
       "      <td>...</td>\n",
       "      <td>22.960095</td>\n",
       "      <td>-501.612783</td>\n",
       "      <td>20.035660</td>\n",
       "      <td>-500.251357</td>\n",
       "      <td>17.998535</td>\n",
       "      <td>-500.395178</td>\n",
       "      <td>12.954048</td>\n",
       "      <td>-499.895163</td>\n",
       "      <td>19.968498</td>\n",
       "      <td>-501.041608</td>\n",
       "    </tr>\n",
       "    <tr>\n",
       "      <th>19436</th>\n",
       "      <td>2018-08-18 08:59:59</td>\n",
       "      <td>3.109998</td>\n",
       "      <td>11.434366</td>\n",
       "      <td>6.886013</td>\n",
       "      <td>46.795691</td>\n",
       "      <td>67.002189</td>\n",
       "      <td>8.529606</td>\n",
       "      <td>2.911418</td>\n",
       "      <td>11.115147</td>\n",
       "      <td>1.596616</td>\n",
       "      <td>...</td>\n",
       "      <td>23.015718</td>\n",
       "      <td>-501.711599</td>\n",
       "      <td>19.951231</td>\n",
       "      <td>-499.857027</td>\n",
       "      <td>18.019543</td>\n",
       "      <td>-500.451156</td>\n",
       "      <td>13.023431</td>\n",
       "      <td>-499.914391</td>\n",
       "      <td>19.990885</td>\n",
       "      <td>-501.518452</td>\n",
       "    </tr>\n",
       "    <tr>\n",
       "      <th>19437</th>\n",
       "      <td>2018-08-18 09:59:59</td>\n",
       "      <td>3.367241</td>\n",
       "      <td>11.625587</td>\n",
       "      <td>6.799433</td>\n",
       "      <td>46.408188</td>\n",
       "      <td>65.523246</td>\n",
       "      <td>8.777171</td>\n",
       "      <td>2.819214</td>\n",
       "      <td>10.463847</td>\n",
       "      <td>1.602879</td>\n",
       "      <td>...</td>\n",
       "      <td>23.024963</td>\n",
       "      <td>-501.153409</td>\n",
       "      <td>20.054122</td>\n",
       "      <td>-500.314711</td>\n",
       "      <td>17.979515</td>\n",
       "      <td>-499.272871</td>\n",
       "      <td>12.992404</td>\n",
       "      <td>-499.976268</td>\n",
       "      <td>20.013986</td>\n",
       "      <td>-500.625471</td>\n",
       "    </tr>\n",
       "    <tr>\n",
       "      <th>19438</th>\n",
       "      <td>2018-08-18 10:59:59</td>\n",
       "      <td>3.598375</td>\n",
       "      <td>11.737832</td>\n",
       "      <td>6.717509</td>\n",
       "      <td>46.299438</td>\n",
       "      <td>70.281454</td>\n",
       "      <td>8.406690</td>\n",
       "      <td>2.517518</td>\n",
       "      <td>10.652193</td>\n",
       "      <td>1.389434</td>\n",
       "      <td>...</td>\n",
       "      <td>23.018622</td>\n",
       "      <td>-500.492702</td>\n",
       "      <td>20.020205</td>\n",
       "      <td>-500.220296</td>\n",
       "      <td>17.963512</td>\n",
       "      <td>-499.939490</td>\n",
       "      <td>12.990306</td>\n",
       "      <td>-500.080993</td>\n",
       "      <td>19.990336</td>\n",
       "      <td>-499.191575</td>\n",
       "    </tr>\n",
       "  </tbody>\n",
       "</table>\n",
       "<p>19439 rows × 87 columns</p>\n",
       "</div>"
      ],
      "text/plain": [
       "                      date  final.output.concentrate_ag  \\\n",
       "0      2016-01-15 00:00:00                     6.055403   \n",
       "1      2016-01-15 01:00:00                     6.029369   \n",
       "2      2016-01-15 02:00:00                     6.055926   \n",
       "3      2016-01-15 03:00:00                     6.047977   \n",
       "4      2016-01-15 04:00:00                     6.148599   \n",
       "...                    ...                          ...   \n",
       "19434  2018-08-18 06:59:59                     3.224920   \n",
       "19435  2018-08-18 07:59:59                     3.195978   \n",
       "19436  2018-08-18 08:59:59                     3.109998   \n",
       "19437  2018-08-18 09:59:59                     3.367241   \n",
       "19438  2018-08-18 10:59:59                     3.598375   \n",
       "\n",
       "       final.output.concentrate_pb  final.output.concentrate_sol  \\\n",
       "0                         9.889648                      5.507324   \n",
       "1                         9.968944                      5.257781   \n",
       "2                        10.213995                      5.383759   \n",
       "3                         9.977019                      4.858634   \n",
       "4                        10.142511                      4.939416   \n",
       "...                            ...                           ...   \n",
       "19434                    11.356233                      6.803482   \n",
       "19435                    11.349355                      6.862249   \n",
       "19436                    11.434366                      6.886013   \n",
       "19437                    11.625587                      6.799433   \n",
       "19438                    11.737832                      6.717509   \n",
       "\n",
       "       final.output.concentrate_au  final.output.recovery  \\\n",
       "0                        42.192020              70.541216   \n",
       "1                        42.701629              69.266198   \n",
       "2                        42.657501              68.116445   \n",
       "3                        42.689819              68.347543   \n",
       "4                        42.774141              66.927016   \n",
       "...                            ...                    ...   \n",
       "19434                    46.713954              73.755150   \n",
       "19435                    46.866780              69.049291   \n",
       "19436                    46.795691              67.002189   \n",
       "19437                    46.408188              65.523246   \n",
       "19438                    46.299438              70.281454   \n",
       "\n",
       "       final.output.tail_ag  final.output.tail_pb  final.output.tail_sol  \\\n",
       "0                 10.411962              0.895447              16.904297   \n",
       "1                 10.462676              0.927452              16.634514   \n",
       "2                 10.507046              0.953716              16.208849   \n",
       "3                 10.422762              0.883763              16.532835   \n",
       "4                 10.360302              0.792826              16.525686   \n",
       "...                     ...                   ...                    ...   \n",
       "19434              8.769645              3.141541              10.403181   \n",
       "19435              8.897321              3.130493              10.549470   \n",
       "19436              8.529606              2.911418              11.115147   \n",
       "19437              8.777171              2.819214              10.463847   \n",
       "19438              8.406690              2.517518              10.652193   \n",
       "\n",
       "       final.output.tail_au  ...  secondary_cleaner.state.floatbank4_a_air  \\\n",
       "0                  2.143149  ...                                 14.016835   \n",
       "1                  2.224930  ...                                 13.992281   \n",
       "2                  2.257889  ...                                 14.015015   \n",
       "3                  2.146849  ...                                 14.036510   \n",
       "4                  2.055292  ...                                 14.027298   \n",
       "...                     ...  ...                                       ...   \n",
       "19434              1.529220  ...                                 23.031497   \n",
       "19435              1.612542  ...                                 22.960095   \n",
       "19436              1.596616  ...                                 23.015718   \n",
       "19437              1.602879  ...                                 23.024963   \n",
       "19438              1.389434  ...                                 23.018622   \n",
       "\n",
       "       secondary_cleaner.state.floatbank4_a_level  \\\n",
       "0                                     -502.488007   \n",
       "1                                     -505.503262   \n",
       "2                                     -502.520901   \n",
       "3                                     -500.857308   \n",
       "4                                     -499.838632   \n",
       "...                                           ...   \n",
       "19434                                 -501.167942   \n",
       "19435                                 -501.612783   \n",
       "19436                                 -501.711599   \n",
       "19437                                 -501.153409   \n",
       "19438                                 -500.492702   \n",
       "\n",
       "       secondary_cleaner.state.floatbank4_b_air  \\\n",
       "0                                     12.099931   \n",
       "1                                     11.950531   \n",
       "2                                     11.912783   \n",
       "3                                     11.999550   \n",
       "4                                     11.953070   \n",
       "...                                         ...   \n",
       "19434                                 20.007571   \n",
       "19435                                 20.035660   \n",
       "19436                                 19.951231   \n",
       "19437                                 20.054122   \n",
       "19438                                 20.020205   \n",
       "\n",
       "       secondary_cleaner.state.floatbank4_b_level  \\\n",
       "0                                     -504.715942   \n",
       "1                                     -501.331529   \n",
       "2                                     -501.133383   \n",
       "3                                     -501.193686   \n",
       "4                                     -501.053894   \n",
       "...                                           ...   \n",
       "19434                                 -499.740028   \n",
       "19435                                 -500.251357   \n",
       "19436                                 -499.857027   \n",
       "19437                                 -500.314711   \n",
       "19438                                 -500.220296   \n",
       "\n",
       "       secondary_cleaner.state.floatbank5_a_air  \\\n",
       "0                                      9.925633   \n",
       "1                                     10.039245   \n",
       "2                                     10.070913   \n",
       "3                                      9.970366   \n",
       "4                                      9.925709   \n",
       "...                                         ...   \n",
       "19434                                 18.006038   \n",
       "19435                                 17.998535   \n",
       "19436                                 18.019543   \n",
       "19437                                 17.979515   \n",
       "19438                                 17.963512   \n",
       "\n",
       "       secondary_cleaner.state.floatbank5_a_level  \\\n",
       "0                                     -498.310211   \n",
       "1                                     -500.169983   \n",
       "2                                     -500.129135   \n",
       "3                                     -499.201640   \n",
       "4                                     -501.686727   \n",
       "...                                           ...   \n",
       "19434                                 -499.834374   \n",
       "19435                                 -500.395178   \n",
       "19436                                 -500.451156   \n",
       "19437                                 -499.272871   \n",
       "19438                                 -499.939490   \n",
       "\n",
       "       secondary_cleaner.state.floatbank5_b_air  \\\n",
       "0                                      8.079666   \n",
       "1                                      7.984757   \n",
       "2                                      8.013877   \n",
       "3                                      7.977324   \n",
       "4                                      7.894242   \n",
       "...                                         ...   \n",
       "19434                                 13.001114   \n",
       "19435                                 12.954048   \n",
       "19436                                 13.023431   \n",
       "19437                                 12.992404   \n",
       "19438                                 12.990306   \n",
       "\n",
       "       secondary_cleaner.state.floatbank5_b_level  \\\n",
       "0                                     -500.470978   \n",
       "1                                     -500.582168   \n",
       "2                                     -500.517572   \n",
       "3                                     -500.255908   \n",
       "4                                     -500.356035   \n",
       "...                                           ...   \n",
       "19434                                 -500.155694   \n",
       "19435                                 -499.895163   \n",
       "19436                                 -499.914391   \n",
       "19437                                 -499.976268   \n",
       "19438                                 -500.080993   \n",
       "\n",
       "       secondary_cleaner.state.floatbank6_a_air  \\\n",
       "0                                     14.151341   \n",
       "1                                     13.998353   \n",
       "2                                     14.028663   \n",
       "3                                     14.005551   \n",
       "4                                     13.996647   \n",
       "...                                         ...   \n",
       "19434                                 20.007840   \n",
       "19435                                 19.968498   \n",
       "19436                                 19.990885   \n",
       "19437                                 20.013986   \n",
       "19438                                 19.990336   \n",
       "\n",
       "       secondary_cleaner.state.floatbank6_a_level  \n",
       "0                                     -605.841980  \n",
       "1                                     -599.787184  \n",
       "2                                     -601.427363  \n",
       "3                                     -599.996129  \n",
       "4                                     -601.496691  \n",
       "...                                           ...  \n",
       "19434                                 -501.296428  \n",
       "19435                                 -501.041608  \n",
       "19436                                 -501.518452  \n",
       "19437                                 -500.625471  \n",
       "19438                                 -499.191575  \n",
       "\n",
       "[19439 rows x 87 columns]"
      ]
     },
     "metadata": {},
     "output_type": "display_data"
    }
   ],
   "source": [
    "display(df_full)"
   ]
  },
  {
   "cell_type": "code",
   "execution_count": 15,
   "metadata": {},
   "outputs": [],
   "source": [
    "df_full['date'] = pd.to_datetime(df_full['date'], format='%Y-%m-%d %H:%M:%S')\n",
    "df_full['weekday'] = df_full['date'].dt.weekday\n",
    "df_full['hour'] = df_full['date'].dt.hour\n",
    "df_full['minute'] = df_full['date'].dt.minute"
   ]
  },
  {
   "cell_type": "code",
   "execution_count": 16,
   "metadata": {},
   "outputs": [
    {
     "name": "stdout",
     "output_type": "stream",
     "text": [
      "0\n"
     ]
    }
   ],
   "source": [
    "print(df_full.duplicated().sum())"
   ]
  },
  {
   "cell_type": "code",
   "execution_count": 17,
   "metadata": {},
   "outputs": [],
   "source": [
    "df_full = df_full.dropna()"
   ]
  },
  {
   "cell_type": "markdown",
   "metadata": {},
   "source": [
    "## Проверка recovery"
   ]
  },
  {
   "cell_type": "markdown",
   "metadata": {},
   "source": [
    "**Функция для расчета recovery:**"
   ]
  },
  {
   "cell_type": "code",
   "execution_count": 18,
   "metadata": {},
   "outputs": [],
   "source": [
    "def recovery(data):\n",
    "    \n",
    "    C = data['rougher.output.concentrate_au']\n",
    "    \n",
    "    F = data['rougher.input.feed_au']\n",
    "        \n",
    "    T = data['rougher.output.tail_au']\n",
    "    \n",
    "    recovery = (C * (F - T)) / (F * (C - T)) * 100\n",
    "    \n",
    "    return recovery"
   ]
  },
  {
   "cell_type": "markdown",
   "metadata": {},
   "source": [
    "**Расчет recovery по формуле:**"
   ]
  },
  {
   "cell_type": "code",
   "execution_count": 19,
   "metadata": {},
   "outputs": [
    {
     "name": "stdout",
     "output_type": "stream",
     "text": [
      "0        87.107763\n",
      "1        86.843261\n",
      "2        86.842308\n",
      "3        87.226430\n",
      "4        86.688794\n",
      "           ...    \n",
      "14144    89.574376\n",
      "14145    87.724007\n",
      "14146    88.890579\n",
      "14147    89.858126\n",
      "14148    89.514960\n",
      "Length: 11017, dtype: float64\n"
     ]
    }
   ],
   "source": [
    "print(recovery(df_train)) "
   ]
  },
  {
   "cell_type": "markdown",
   "metadata": {},
   "source": [
    "Расчет MAE"
   ]
  },
  {
   "cell_type": "code",
   "execution_count": 20,
   "metadata": {},
   "outputs": [
    {
     "name": "stdout",
     "output_type": "stream",
     "text": [
      "9.82970122149377e-15\n"
     ]
    }
   ],
   "source": [
    "print(mean_absolute_error(df_train['rougher.output.recovery'], recovery(df_train)))"
   ]
  },
  {
   "cell_type": "markdown",
   "metadata": {},
   "source": [
    "**Вывод:**\n",
    "\n",
    "Среднее абсолютное отклонение иимеет очень маленькую величину, это говорит о том, что данные в столбце `rougher.output.recovery` посчитаны верно. "
   ]
  },
  {
   "cell_type": "markdown",
   "metadata": {},
   "source": [
    "## Анализ данных"
   ]
  },
  {
   "cell_type": "code",
   "execution_count": 21,
   "metadata": {},
   "outputs": [
    {
     "name": "stdout",
     "output_type": "stream",
     "text": [
      "Число столбцев в тренировочных данных 90\n",
      "Число столбцев в тестовых данных 56\n"
     ]
    }
   ],
   "source": [
    "print('Число столбцев в тренировочных данных', len(df_train.columns))\n",
    "print('Число столбцев в тестовых данных', len(df_test.columns))"
   ]
  },
  {
   "cell_type": "markdown",
   "metadata": {},
   "source": [
    "**Разница между тренировочными и тестовыми данными:**"
   ]
  },
  {
   "cell_type": "code",
   "execution_count": 22,
   "metadata": {},
   "outputs": [
    {
     "data": {
      "text/html": [
       "<div>\n",
       "<style scoped>\n",
       "    .dataframe tbody tr th:only-of-type {\n",
       "        vertical-align: middle;\n",
       "    }\n",
       "\n",
       "    .dataframe tbody tr th {\n",
       "        vertical-align: top;\n",
       "    }\n",
       "\n",
       "    .dataframe thead th {\n",
       "        text-align: right;\n",
       "    }\n",
       "</style>\n",
       "<table border=\"1\" class=\"dataframe\">\n",
       "  <thead>\n",
       "    <tr style=\"text-align: right;\">\n",
       "      <th></th>\n",
       "      <th>primary_cleaner.output.tail_sol</th>\n",
       "      <th>final.output.concentrate_sol</th>\n",
       "      <th>rougher.output.tail_sol</th>\n",
       "      <th>rougher.output.tail_pb</th>\n",
       "      <th>primary_cleaner.output.concentrate_sol</th>\n",
       "      <th>primary_cleaner.output.tail_ag</th>\n",
       "      <th>final.output.recovery</th>\n",
       "      <th>rougher.output.tail_ag</th>\n",
       "      <th>final.output.concentrate_au</th>\n",
       "      <th>final.output.tail_ag</th>\n",
       "      <th>...</th>\n",
       "      <th>secondary_cleaner.output.tail_au</th>\n",
       "      <th>rougher.output.tail_au</th>\n",
       "      <th>secondary_cleaner.output.tail_sol</th>\n",
       "      <th>primary_cleaner.output.tail_au</th>\n",
       "      <th>rougher.calculation.floatbank10_sulfate_to_au_feed</th>\n",
       "      <th>final.output.concentrate_ag</th>\n",
       "      <th>rougher.output.recovery</th>\n",
       "      <th>rougher.calculation.floatbank11_sulfate_to_au_feed</th>\n",
       "      <th>rougher.output.concentrate_au</th>\n",
       "      <th>rougher.calculation.sulfate_to_au_concentrate</th>\n",
       "    </tr>\n",
       "  </thead>\n",
       "  <tbody>\n",
       "    <tr>\n",
       "      <th>0</th>\n",
       "      <td>7.476074</td>\n",
       "      <td>5.507324</td>\n",
       "      <td>19.154297</td>\n",
       "      <td>0.508728</td>\n",
       "      <td>19.529297</td>\n",
       "      <td>14.936526</td>\n",
       "      <td>70.541216</td>\n",
       "      <td>5.008018</td>\n",
       "      <td>42.192020</td>\n",
       "      <td>10.411962</td>\n",
       "      <td>...</td>\n",
       "      <td>2.606185</td>\n",
       "      <td>1.170244</td>\n",
       "      <td>8.764648</td>\n",
       "      <td>2.106679</td>\n",
       "      <td>3481.779053</td>\n",
       "      <td>6.055403</td>\n",
       "      <td>87.107763</td>\n",
       "      <td>3520.337158</td>\n",
       "      <td>19.793808</td>\n",
       "      <td>41885.707031</td>\n",
       "    </tr>\n",
       "    <tr>\n",
       "      <th>1</th>\n",
       "      <td>6.733907</td>\n",
       "      <td>5.257781</td>\n",
       "      <td>18.965234</td>\n",
       "      <td>0.536689</td>\n",
       "      <td>19.369147</td>\n",
       "      <td>16.250511</td>\n",
       "      <td>69.266198</td>\n",
       "      <td>4.955378</td>\n",
       "      <td>42.701629</td>\n",
       "      <td>10.462676</td>\n",
       "      <td>...</td>\n",
       "      <td>2.488248</td>\n",
       "      <td>1.184827</td>\n",
       "      <td>9.001494</td>\n",
       "      <td>2.353017</td>\n",
       "      <td>3498.370979</td>\n",
       "      <td>6.029369</td>\n",
       "      <td>86.843261</td>\n",
       "      <td>3489.981857</td>\n",
       "      <td>20.050975</td>\n",
       "      <td>42050.861809</td>\n",
       "    </tr>\n",
       "    <tr>\n",
       "      <th>2</th>\n",
       "      <td>6.471768</td>\n",
       "      <td>5.383759</td>\n",
       "      <td>18.808533</td>\n",
       "      <td>0.546416</td>\n",
       "      <td>19.167579</td>\n",
       "      <td>16.491823</td>\n",
       "      <td>68.116445</td>\n",
       "      <td>4.843460</td>\n",
       "      <td>42.657501</td>\n",
       "      <td>10.507046</td>\n",
       "      <td>...</td>\n",
       "      <td>2.458187</td>\n",
       "      <td>1.162562</td>\n",
       "      <td>8.842896</td>\n",
       "      <td>2.416800</td>\n",
       "      <td>3495.348910</td>\n",
       "      <td>6.055926</td>\n",
       "      <td>86.842308</td>\n",
       "      <td>3502.359819</td>\n",
       "      <td>19.737170</td>\n",
       "      <td>42018.101184</td>\n",
       "    </tr>\n",
       "    <tr>\n",
       "      <th>3</th>\n",
       "      <td>6.843791</td>\n",
       "      <td>4.858634</td>\n",
       "      <td>19.330200</td>\n",
       "      <td>0.542525</td>\n",
       "      <td>15.978538</td>\n",
       "      <td>16.024359</td>\n",
       "      <td>68.347543</td>\n",
       "      <td>4.655288</td>\n",
       "      <td>42.689819</td>\n",
       "      <td>10.422762</td>\n",
       "      <td>...</td>\n",
       "      <td>2.322062</td>\n",
       "      <td>1.079755</td>\n",
       "      <td>9.122857</td>\n",
       "      <td>2.262051</td>\n",
       "      <td>3498.578313</td>\n",
       "      <td>6.047977</td>\n",
       "      <td>87.226430</td>\n",
       "      <td>3499.162912</td>\n",
       "      <td>19.320810</td>\n",
       "      <td>42029.447991</td>\n",
       "    </tr>\n",
       "    <tr>\n",
       "      <th>4</th>\n",
       "      <td>6.550154</td>\n",
       "      <td>4.939416</td>\n",
       "      <td>19.267422</td>\n",
       "      <td>0.515438</td>\n",
       "      <td>19.199864</td>\n",
       "      <td>16.480185</td>\n",
       "      <td>66.927016</td>\n",
       "      <td>4.552800</td>\n",
       "      <td>42.774141</td>\n",
       "      <td>10.360302</td>\n",
       "      <td>...</td>\n",
       "      <td>2.330448</td>\n",
       "      <td>1.012642</td>\n",
       "      <td>8.871028</td>\n",
       "      <td>2.277073</td>\n",
       "      <td>3494.800771</td>\n",
       "      <td>6.148599</td>\n",
       "      <td>86.688794</td>\n",
       "      <td>3506.679315</td>\n",
       "      <td>19.216101</td>\n",
       "      <td>42125.354245</td>\n",
       "    </tr>\n",
       "    <tr>\n",
       "      <th>...</th>\n",
       "      <td>...</td>\n",
       "      <td>...</td>\n",
       "      <td>...</td>\n",
       "      <td>...</td>\n",
       "      <td>...</td>\n",
       "      <td>...</td>\n",
       "      <td>...</td>\n",
       "      <td>...</td>\n",
       "      <td>...</td>\n",
       "      <td>...</td>\n",
       "      <td>...</td>\n",
       "      <td>...</td>\n",
       "      <td>...</td>\n",
       "      <td>...</td>\n",
       "      <td>...</td>\n",
       "      <td>...</td>\n",
       "      <td>...</td>\n",
       "      <td>...</td>\n",
       "      <td>...</td>\n",
       "      <td>...</td>\n",
       "      <td>...</td>\n",
       "    </tr>\n",
       "    <tr>\n",
       "      <th>14144</th>\n",
       "      <td>3.934320</td>\n",
       "      <td>6.803482</td>\n",
       "      <td>16.666590</td>\n",
       "      <td>0.612935</td>\n",
       "      <td>7.056338</td>\n",
       "      <td>22.854592</td>\n",
       "      <td>73.755150</td>\n",
       "      <td>4.207261</td>\n",
       "      <td>46.713954</td>\n",
       "      <td>8.769645</td>\n",
       "      <td>...</td>\n",
       "      <td>0.000000</td>\n",
       "      <td>0.748633</td>\n",
       "      <td>0.000000</td>\n",
       "      <td>2.314352</td>\n",
       "      <td>2497.652954</td>\n",
       "      <td>3.224920</td>\n",
       "      <td>89.574376</td>\n",
       "      <td>2499.177950</td>\n",
       "      <td>18.603550</td>\n",
       "      <td>45912.942619</td>\n",
       "    </tr>\n",
       "    <tr>\n",
       "      <th>14145</th>\n",
       "      <td>4.089124</td>\n",
       "      <td>6.862249</td>\n",
       "      <td>16.960649</td>\n",
       "      <td>0.650557</td>\n",
       "      <td>7.542264</td>\n",
       "      <td>23.002490</td>\n",
       "      <td>69.049291</td>\n",
       "      <td>4.177943</td>\n",
       "      <td>46.866780</td>\n",
       "      <td>8.897321</td>\n",
       "      <td>...</td>\n",
       "      <td>0.000000</td>\n",
       "      <td>0.771582</td>\n",
       "      <td>0.000000</td>\n",
       "      <td>2.462890</td>\n",
       "      <td>2614.403937</td>\n",
       "      <td>3.195978</td>\n",
       "      <td>87.724007</td>\n",
       "      <td>2518.550078</td>\n",
       "      <td>18.441436</td>\n",
       "      <td>46200.099585</td>\n",
       "    </tr>\n",
       "    <tr>\n",
       "      <th>14146</th>\n",
       "      <td>4.457457</td>\n",
       "      <td>6.886013</td>\n",
       "      <td>18.323080</td>\n",
       "      <td>0.636095</td>\n",
       "      <td>7.941900</td>\n",
       "      <td>22.298149</td>\n",
       "      <td>67.002189</td>\n",
       "      <td>4.050010</td>\n",
       "      <td>46.795691</td>\n",
       "      <td>8.529606</td>\n",
       "      <td>...</td>\n",
       "      <td>0.000000</td>\n",
       "      <td>0.685059</td>\n",
       "      <td>0.000000</td>\n",
       "      <td>2.612231</td>\n",
       "      <td>2510.813545</td>\n",
       "      <td>3.109998</td>\n",
       "      <td>88.890579</td>\n",
       "      <td>2510.142433</td>\n",
       "      <td>15.111231</td>\n",
       "      <td>44585.181334</td>\n",
       "    </tr>\n",
       "    <tr>\n",
       "      <th>14147</th>\n",
       "      <td>3.557121</td>\n",
       "      <td>6.799433</td>\n",
       "      <td>19.423740</td>\n",
       "      <td>0.625609</td>\n",
       "      <td>6.942972</td>\n",
       "      <td>22.714656</td>\n",
       "      <td>65.523246</td>\n",
       "      <td>3.902494</td>\n",
       "      <td>46.408188</td>\n",
       "      <td>8.777171</td>\n",
       "      <td>...</td>\n",
       "      <td>0.000000</td>\n",
       "      <td>0.567130</td>\n",
       "      <td>0.000000</td>\n",
       "      <td>2.800648</td>\n",
       "      <td>2507.572494</td>\n",
       "      <td>3.367241</td>\n",
       "      <td>89.858126</td>\n",
       "      <td>2507.723361</td>\n",
       "      <td>17.834772</td>\n",
       "      <td>44084.735708</td>\n",
       "    </tr>\n",
       "    <tr>\n",
       "      <th>14148</th>\n",
       "      <td>3.026699</td>\n",
       "      <td>6.717509</td>\n",
       "      <td>19.946673</td>\n",
       "      <td>0.638677</td>\n",
       "      <td>6.203553</td>\n",
       "      <td>22.735927</td>\n",
       "      <td>70.281454</td>\n",
       "      <td>3.925473</td>\n",
       "      <td>46.299438</td>\n",
       "      <td>8.406690</td>\n",
       "      <td>...</td>\n",
       "      <td>0.000000</td>\n",
       "      <td>0.586439</td>\n",
       "      <td>0.000000</td>\n",
       "      <td>2.708046</td>\n",
       "      <td>2487.477762</td>\n",
       "      <td>3.598375</td>\n",
       "      <td>89.514960</td>\n",
       "      <td>2488.626080</td>\n",
       "      <td>17.804134</td>\n",
       "      <td>44082.866565</td>\n",
       "    </tr>\n",
       "  </tbody>\n",
       "</table>\n",
       "<p>11017 rows × 34 columns</p>\n",
       "</div>"
      ],
      "text/plain": [
       "       primary_cleaner.output.tail_sol  final.output.concentrate_sol  \\\n",
       "0                             7.476074                      5.507324   \n",
       "1                             6.733907                      5.257781   \n",
       "2                             6.471768                      5.383759   \n",
       "3                             6.843791                      4.858634   \n",
       "4                             6.550154                      4.939416   \n",
       "...                                ...                           ...   \n",
       "14144                         3.934320                      6.803482   \n",
       "14145                         4.089124                      6.862249   \n",
       "14146                         4.457457                      6.886013   \n",
       "14147                         3.557121                      6.799433   \n",
       "14148                         3.026699                      6.717509   \n",
       "\n",
       "       rougher.output.tail_sol  rougher.output.tail_pb  \\\n",
       "0                    19.154297                0.508728   \n",
       "1                    18.965234                0.536689   \n",
       "2                    18.808533                0.546416   \n",
       "3                    19.330200                0.542525   \n",
       "4                    19.267422                0.515438   \n",
       "...                        ...                     ...   \n",
       "14144                16.666590                0.612935   \n",
       "14145                16.960649                0.650557   \n",
       "14146                18.323080                0.636095   \n",
       "14147                19.423740                0.625609   \n",
       "14148                19.946673                0.638677   \n",
       "\n",
       "       primary_cleaner.output.concentrate_sol  primary_cleaner.output.tail_ag  \\\n",
       "0                                   19.529297                       14.936526   \n",
       "1                                   19.369147                       16.250511   \n",
       "2                                   19.167579                       16.491823   \n",
       "3                                   15.978538                       16.024359   \n",
       "4                                   19.199864                       16.480185   \n",
       "...                                       ...                             ...   \n",
       "14144                                7.056338                       22.854592   \n",
       "14145                                7.542264                       23.002490   \n",
       "14146                                7.941900                       22.298149   \n",
       "14147                                6.942972                       22.714656   \n",
       "14148                                6.203553                       22.735927   \n",
       "\n",
       "       final.output.recovery  rougher.output.tail_ag  \\\n",
       "0                  70.541216                5.008018   \n",
       "1                  69.266198                4.955378   \n",
       "2                  68.116445                4.843460   \n",
       "3                  68.347543                4.655288   \n",
       "4                  66.927016                4.552800   \n",
       "...                      ...                     ...   \n",
       "14144              73.755150                4.207261   \n",
       "14145              69.049291                4.177943   \n",
       "14146              67.002189                4.050010   \n",
       "14147              65.523246                3.902494   \n",
       "14148              70.281454                3.925473   \n",
       "\n",
       "       final.output.concentrate_au  final.output.tail_ag  ...  \\\n",
       "0                        42.192020             10.411962  ...   \n",
       "1                        42.701629             10.462676  ...   \n",
       "2                        42.657501             10.507046  ...   \n",
       "3                        42.689819             10.422762  ...   \n",
       "4                        42.774141             10.360302  ...   \n",
       "...                            ...                   ...  ...   \n",
       "14144                    46.713954              8.769645  ...   \n",
       "14145                    46.866780              8.897321  ...   \n",
       "14146                    46.795691              8.529606  ...   \n",
       "14147                    46.408188              8.777171  ...   \n",
       "14148                    46.299438              8.406690  ...   \n",
       "\n",
       "       secondary_cleaner.output.tail_au  rougher.output.tail_au  \\\n",
       "0                              2.606185                1.170244   \n",
       "1                              2.488248                1.184827   \n",
       "2                              2.458187                1.162562   \n",
       "3                              2.322062                1.079755   \n",
       "4                              2.330448                1.012642   \n",
       "...                                 ...                     ...   \n",
       "14144                          0.000000                0.748633   \n",
       "14145                          0.000000                0.771582   \n",
       "14146                          0.000000                0.685059   \n",
       "14147                          0.000000                0.567130   \n",
       "14148                          0.000000                0.586439   \n",
       "\n",
       "       secondary_cleaner.output.tail_sol  primary_cleaner.output.tail_au  \\\n",
       "0                               8.764648                        2.106679   \n",
       "1                               9.001494                        2.353017   \n",
       "2                               8.842896                        2.416800   \n",
       "3                               9.122857                        2.262051   \n",
       "4                               8.871028                        2.277073   \n",
       "...                                  ...                             ...   \n",
       "14144                           0.000000                        2.314352   \n",
       "14145                           0.000000                        2.462890   \n",
       "14146                           0.000000                        2.612231   \n",
       "14147                           0.000000                        2.800648   \n",
       "14148                           0.000000                        2.708046   \n",
       "\n",
       "       rougher.calculation.floatbank10_sulfate_to_au_feed  \\\n",
       "0                                            3481.779053    \n",
       "1                                            3498.370979    \n",
       "2                                            3495.348910    \n",
       "3                                            3498.578313    \n",
       "4                                            3494.800771    \n",
       "...                                                  ...    \n",
       "14144                                        2497.652954    \n",
       "14145                                        2614.403937    \n",
       "14146                                        2510.813545    \n",
       "14147                                        2507.572494    \n",
       "14148                                        2487.477762    \n",
       "\n",
       "       final.output.concentrate_ag  rougher.output.recovery  \\\n",
       "0                         6.055403                87.107763   \n",
       "1                         6.029369                86.843261   \n",
       "2                         6.055926                86.842308   \n",
       "3                         6.047977                87.226430   \n",
       "4                         6.148599                86.688794   \n",
       "...                            ...                      ...   \n",
       "14144                     3.224920                89.574376   \n",
       "14145                     3.195978                87.724007   \n",
       "14146                     3.109998                88.890579   \n",
       "14147                     3.367241                89.858126   \n",
       "14148                     3.598375                89.514960   \n",
       "\n",
       "       rougher.calculation.floatbank11_sulfate_to_au_feed  \\\n",
       "0                                            3520.337158    \n",
       "1                                            3489.981857    \n",
       "2                                            3502.359819    \n",
       "3                                            3499.162912    \n",
       "4                                            3506.679315    \n",
       "...                                                  ...    \n",
       "14144                                        2499.177950    \n",
       "14145                                        2518.550078    \n",
       "14146                                        2510.142433    \n",
       "14147                                        2507.723361    \n",
       "14148                                        2488.626080    \n",
       "\n",
       "       rougher.output.concentrate_au  \\\n",
       "0                          19.793808   \n",
       "1                          20.050975   \n",
       "2                          19.737170   \n",
       "3                          19.320810   \n",
       "4                          19.216101   \n",
       "...                              ...   \n",
       "14144                      18.603550   \n",
       "14145                      18.441436   \n",
       "14146                      15.111231   \n",
       "14147                      17.834772   \n",
       "14148                      17.804134   \n",
       "\n",
       "       rougher.calculation.sulfate_to_au_concentrate  \n",
       "0                                       41885.707031  \n",
       "1                                       42050.861809  \n",
       "2                                       42018.101184  \n",
       "3                                       42029.447991  \n",
       "4                                       42125.354245  \n",
       "...                                              ...  \n",
       "14144                                   45912.942619  \n",
       "14145                                   46200.099585  \n",
       "14146                                   44585.181334  \n",
       "14147                                   44084.735708  \n",
       "14148                                   44082.866565  \n",
       "\n",
       "[11017 rows x 34 columns]"
      ]
     },
     "metadata": {},
     "output_type": "display_data"
    },
    {
     "name": "stdout",
     "output_type": "stream",
     "text": [
      "\n",
      "<class 'pandas.core.frame.DataFrame'>\n",
      "Int64Index: 11017 entries, 0 to 14148\n",
      "Data columns (total 34 columns):\n",
      " #   Column                                              Non-Null Count  Dtype  \n",
      "---  ------                                              --------------  -----  \n",
      " 0   primary_cleaner.output.tail_sol                     11017 non-null  float64\n",
      " 1   final.output.concentrate_sol                        11017 non-null  float64\n",
      " 2   rougher.output.tail_sol                             11017 non-null  float64\n",
      " 3   rougher.output.tail_pb                              11017 non-null  float64\n",
      " 4   primary_cleaner.output.concentrate_sol              11017 non-null  float64\n",
      " 5   primary_cleaner.output.tail_ag                      11017 non-null  float64\n",
      " 6   final.output.recovery                               11017 non-null  float64\n",
      " 7   rougher.output.tail_ag                              11017 non-null  float64\n",
      " 8   final.output.concentrate_au                         11017 non-null  float64\n",
      " 9   final.output.tail_ag                                11017 non-null  float64\n",
      " 10  primary_cleaner.output.concentrate_au               11017 non-null  float64\n",
      " 11  primary_cleaner.output.concentrate_pb               11017 non-null  float64\n",
      " 12  final.output.tail_au                                11017 non-null  float64\n",
      " 13  rougher.output.concentrate_ag                       11017 non-null  float64\n",
      " 14  secondary_cleaner.output.tail_ag                    11017 non-null  float64\n",
      " 15  final.output.tail_pb                                11017 non-null  float64\n",
      " 16  rougher.output.concentrate_sol                      11017 non-null  float64\n",
      " 17  rougher.output.concentrate_pb                       11017 non-null  float64\n",
      " 18  primary_cleaner.output.concentrate_ag               11017 non-null  float64\n",
      " 19  final.output.concentrate_pb                         11017 non-null  float64\n",
      " 20  primary_cleaner.output.tail_pb                      11017 non-null  float64\n",
      " 21  secondary_cleaner.output.tail_pb                    11017 non-null  float64\n",
      " 22  final.output.tail_sol                               11017 non-null  float64\n",
      " 23  rougher.calculation.au_pb_ratio                     11017 non-null  float64\n",
      " 24  secondary_cleaner.output.tail_au                    11017 non-null  float64\n",
      " 25  rougher.output.tail_au                              11017 non-null  float64\n",
      " 26  secondary_cleaner.output.tail_sol                   11017 non-null  float64\n",
      " 27  primary_cleaner.output.tail_au                      11017 non-null  float64\n",
      " 28  rougher.calculation.floatbank10_sulfate_to_au_feed  11017 non-null  float64\n",
      " 29  final.output.concentrate_ag                         11017 non-null  float64\n",
      " 30  rougher.output.recovery                             11017 non-null  float64\n",
      " 31  rougher.calculation.floatbank11_sulfate_to_au_feed  11017 non-null  float64\n",
      " 32  rougher.output.concentrate_au                       11017 non-null  float64\n",
      " 33  rougher.calculation.sulfate_to_au_concentrate       11017 non-null  float64\n",
      "dtypes: float64(34)\n",
      "memory usage: 2.9 MB\n"
     ]
    }
   ],
   "source": [
    "\n",
    "diff = list(set(df_train.columns.values) - set(df_test.columns.values))\n",
    "display(df_train[diff])\n",
    "print()\n",
    "df_train[diff].info()\n"
   ]
  },
  {
   "cell_type": "markdown",
   "metadata": {},
   "source": [
    "**Вывод:**\n",
    "\n",
    "Разница в тренировочных данных и тестовых заклюяается в то, что в тренировочных данных содержатся данные о output — параметрах продукта, а не только о параметрах сырья. Соответственно, манипуляции над сырьем на тренировочных данных уже проведены."
   ]
  },
  {
   "cell_type": "markdown",
   "metadata": {},
   "source": [
    "График 4х концентраций (rougher.input.feed_…, rougher.output.concentrate_…, primary_cleaner.output.concentrate_…, final.output.concentrate_…) для Au, Ag, Pb"
   ]
  },
  {
   "cell_type": "markdown",
   "metadata": {},
   "source": [
    "Au"
   ]
  },
  {
   "cell_type": "code",
   "execution_count": 23,
   "metadata": {},
   "outputs": [
    {
     "data": {
      "image/png": "[encoded data removed]",
      "text/plain": [
       "<Figure size 432x288 with 1 Axes>"
      ]
     },
     "metadata": {
      "needs_background": "light"
     },
     "output_type": "display_data"
    }
   ],
   "source": [
    "df_full['rougher.input.feed_au'].plot(kind='hist')\n",
    "df_full['rougher.output.concentrate_au'].plot(kind='hist') \n",
    "df_full['primary_cleaner.output.concentrate_au'].plot(kind='hist')\n",
    "df_full['final.output.concentrate_au'].plot(kind='hist') \n",
    "plt.show()"
   ]
  },
  {
   "cell_type": "markdown",
   "metadata": {},
   "source": [
    "Ag"
   ]
  },
  {
   "cell_type": "code",
   "execution_count": 24,
   "metadata": {},
   "outputs": [
    {
     "data": {
      "image/png": "[encoded data removed]",
      "text/plain": [
       "<Figure size 432x288 with 1 Axes>"
      ]
     },
     "metadata": {
      "needs_background": "light"
     },
     "output_type": "display_data"
    }
   ],
   "source": [
    "df_full['rougher.input.feed_ag'].plot(kind='hist')\n",
    "df_full['rougher.output.concentrate_ag'].plot(kind='hist') \n",
    "df_full['primary_cleaner.output.concentrate_ag'].plot(kind='hist')\n",
    "df_full['final.output.concentrate_ag'].plot(kind='hist') \n",
    "plt.show()"
   ]
  },
  {
   "cell_type": "markdown",
   "metadata": {},
   "source": [
    "Pb"
   ]
  },
  {
   "cell_type": "code",
   "execution_count": 25,
   "metadata": {},
   "outputs": [
    {
     "data": {
      "image/png": "[encoded data removed]",
      "text/plain": [
       "<Figure size 432x288 with 1 Axes>"
      ]
     },
     "metadata": {
      "needs_background": "light"
     },
     "output_type": "display_data"
    }
   ],
   "source": [
    "df_full['rougher.input.feed_pb'].plot(kind='hist')\n",
    "df_full['rougher.output.concentrate_pb'].plot(kind='hist') \n",
    "df_full['primary_cleaner.output.concentrate_pb'].plot(kind='hist')\n",
    "df_full['final.output.concentrate_pb'].plot(kind='hist') \n",
    "plt.show()"
   ]
  },
  {
   "cell_type": "markdown",
   "metadata": {},
   "source": [
    "feed size"
   ]
  },
  {
   "cell_type": "code",
   "execution_count": 26,
   "metadata": {},
   "outputs": [
    {
     "data": {
      "image/png": "[encoded data removed]",
      "text/plain": [
       "<Figure size 432x288 with 1 Axes>"
      ]
     },
     "metadata": {
      "needs_background": "light"
     },
     "output_type": "display_data"
    }
   ],
   "source": [
    "#rougher.input.feed_size\n",
    "\n",
    "df_train['rougher.input.feed_size'].plot(kind='hist')\n",
    "df_test['rougher.input.feed_size'].plot(kind='hist')\n",
    "plt.show()"
   ]
  },
  {
   "cell_type": "markdown",
   "metadata": {},
   "source": [
    "**Вывод:**\n",
    "\n",
    "Исходя из графика распределния гранул на обучающей и тестовой выборке, видно, что эти распределения имеют схожую структуру. Оценка модели будет правильна."
   ]
  },
  {
   "cell_type": "code",
   "execution_count": 27,
   "metadata": {},
   "outputs": [],
   "source": [
    "df_train['rougher.output.concentrate_f'] = df_train['rougher.output.concentrate_au'] + df_train['rougher.output.concentrate_ag'] + df_train['rougher.output.concentrate_pb'] + df_train['rougher.output.concentrate_sol']\n"
   ]
  },
  {
   "cell_type": "code",
   "execution_count": 28,
   "metadata": {},
   "outputs": [],
   "source": [
    "df_train['primary_cleaner.output.concentrate_f'] = df_train['primary_cleaner.output.concentrate_au'] + df_train['primary_cleaner.output.concentrate_ag'] + df_train['primary_cleaner.output.concentrate_pb'] + df_train['primary_cleaner.output.concentrate_sol']\n"
   ]
  },
  {
   "cell_type": "code",
   "execution_count": 29,
   "metadata": {},
   "outputs": [],
   "source": [
    "df_train['final.output.concentrate_f'] = df_train['final.output.concentrate_au'] + df_train['final.output.concentrate_ag'] + df_train['final.output.concentrate_pb'] + df_train['final.output.concentrate_sol']\n"
   ]
  },
  {
   "cell_type": "code",
   "execution_count": 30,
   "metadata": {},
   "outputs": [
    {
     "data": {
      "image/png": "[encoded data removed]",
      "text/plain": [
       "<Figure size 432x288 with 1 Axes>"
      ]
     },
     "metadata": {
      "needs_background": "light"
     },
     "output_type": "display_data"
    }
   ],
   "source": [
    "df_train['rougher.output.concentrate_f'].plot(kind='hist')\n",
    "df_train['primary_cleaner.output.concentrate_f'].plot(kind='hist')\n",
    "df_train['final.output.concentrate_f'].plot(kind='hist')\n",
    "plt.show()"
   ]
  },
  {
   "cell_type": "code",
   "execution_count": 31,
   "metadata": {},
   "outputs": [],
   "source": [
    "df_train = df_train.loc[df_train.loc[:, 'final.output.concentrate_f'] > 0]\n"
   ]
  },
  {
   "cell_type": "code",
   "execution_count": 32,
   "metadata": {},
   "outputs": [],
   "source": [
    "df_train = df_train.loc[df_train.loc[:, 'rougher.output.concentrate_f'] > 0]"
   ]
  },
  {
   "cell_type": "code",
   "execution_count": 33,
   "metadata": {},
   "outputs": [],
   "source": [
    "df_train = df_train.loc[df_train.loc[:, 'primary_cleaner.output.concentrate_f'] > 0]"
   ]
  },
  {
   "cell_type": "code",
   "execution_count": 34,
   "metadata": {},
   "outputs": [
    {
     "data": {
      "image/png": "[encoded data removed]",
      "text/plain": [
       "<Figure size 432x288 with 1 Axes>"
      ]
     },
     "metadata": {
      "needs_background": "light"
     },
     "output_type": "display_data"
    }
   ],
   "source": [
    "df_train['rougher.output.concentrate_f'].plot(kind='hist')\n",
    "df_train['primary_cleaner.output.concentrate_f'].plot(kind='hist')\n",
    "df_train['final.output.concentrate_f'].plot(kind='hist')\n",
    "plt.show()"
   ]
  },
  {
   "cell_type": "markdown",
   "metadata": {},
   "source": [
    "**Вывод:**\n",
    "\n",
    "Выявлены нулевые аномалии в суммарных концентрациях.\n",
    "\n",
    "Избавились от этих аномалий."
   ]
  },
  {
   "cell_type": "markdown",
   "metadata": {},
   "source": [
    "## Построение моделей, выбор лучшей"
   ]
  },
  {
   "cell_type": "markdown",
   "metadata": {},
   "source": [
    "**Данные для обучающей модели:**"
   ]
  },
  {
   "cell_type": "code",
   "execution_count": 35,
   "metadata": {},
   "outputs": [],
   "source": [
    "df_train_new = df_train[df_test.columns]"
   ]
  },
  {
   "cell_type": "code",
   "execution_count": 36,
   "metadata": {},
   "outputs": [
    {
     "name": "stderr",
     "output_type": "stream",
     "text": [
      "/tmp/ipykernel_164/2581044545.py:1: SettingWithCopyWarning: \n",
      "A value is trying to be set on a copy of a slice from a DataFrame.\n",
      "Try using .loc[row_indexer,col_indexer] = value instead\n",
      "\n",
      "See the caveats in the documentation: https://pandas.pydata.org/pandas-docs/stable/user_guide/indexing.html#returning-a-view-versus-a-copy\n",
      "  df_train_new['rougher.output.recovery'] = df_train['rougher.output.recovery']\n",
      "/tmp/ipykernel_164/2581044545.py:2: SettingWithCopyWarning: \n",
      "A value is trying to be set on a copy of a slice from a DataFrame.\n",
      "Try using .loc[row_indexer,col_indexer] = value instead\n",
      "\n",
      "See the caveats in the documentation: https://pandas.pydata.org/pandas-docs/stable/user_guide/indexing.html#returning-a-view-versus-a-copy\n",
      "  df_train_new['final.output.recovery'] = df_train['final.output.recovery']\n"
     ]
    }
   ],
   "source": [
    "df_train_new['rougher.output.recovery'] = df_train['rougher.output.recovery']\n",
    "df_train_new['final.output.recovery'] = df_train['final.output.recovery']\n",
    "df_train_new = df_train_new.drop('date', axis=1)\n",
    "df_train_new = df_train_new.dropna()"
   ]
  },
  {
   "cell_type": "markdown",
   "metadata": {},
   "source": [
    "**Функции расчета метрики качества модели для нашей задачи:**"
   ]
  },
  {
   "cell_type": "code",
   "execution_count": 37,
   "metadata": {},
   "outputs": [],
   "source": [
    "#sMAPE\n",
    "\n",
    "def sMAPE(target, predictions):\n",
    "    target = target.reset_index(drop=True)\n",
    "    s = 0\n",
    "    for i in range(len(target)):\n",
    "        s += (abs(target[i] - predictions[i])) / ((abs(target[i]) + abs(predictions[i])) / 2)\n",
    "        \n",
    "    sMAPE = (1 / len(target)) * s  * 100\n",
    "    \n",
    "    return sMAPE        "
   ]
  },
  {
   "cell_type": "code",
   "execution_count": 38,
   "metadata": {},
   "outputs": [],
   "source": [
    "def sMAPE_total(sMAPE1, sMAPE2):\n",
    "    sMAPE_total = (25 * sMAPE1 + 75 * sMAPE2) / 100\n",
    "    return sMAPE_total"
   ]
  },
  {
   "cell_type": "code",
   "execution_count": 39,
   "metadata": {},
   "outputs": [],
   "source": [
    "custom_scorer = make_scorer(sMAPE)"
   ]
  },
  {
   "cell_type": "code",
   "execution_count": 40,
   "metadata": {},
   "outputs": [],
   "source": [
    "target1 = df_train_new['rougher.output.recovery']\n",
    "target2 = df_train_new['final.output.recovery']\n",
    "\n",
    "features = df_train_new.drop(['rougher.output.recovery', 'final.output.recovery'], axis=1)\n",
    "\n",
    "\n",
    "\n",
    "\n"
   ]
  },
  {
   "cell_type": "markdown",
   "metadata": {},
   "source": [
    "### LinearRegression"
   ]
  },
  {
   "cell_type": "code",
   "execution_count": 41,
   "metadata": {},
   "outputs": [],
   "source": [
    "model = LinearRegression()"
   ]
  },
  {
   "cell_type": "code",
   "execution_count": 42,
   "metadata": {},
   "outputs": [],
   "source": [
    "scores1 = cross_val_score(model, features, target1, cv=5, scoring=custom_scorer)\n",
    "final_score1 = sum(scores1) / len(scores1)"
   ]
  },
  {
   "cell_type": "code",
   "execution_count": 43,
   "metadata": {},
   "outputs": [],
   "source": [
    "scores2 = cross_val_score(model, features, target2, cv=5, scoring=custom_scorer)\n",
    "final_score2 = sum(scores2) / len(scores2)"
   ]
  },
  {
   "cell_type": "code",
   "execution_count": 44,
   "metadata": {},
   "outputs": [
    {
     "name": "stdout",
     "output_type": "stream",
     "text": [
      "8.231517968481336\n"
     ]
    }
   ],
   "source": [
    "print(sMAPE_total(final_score1, final_score2))"
   ]
  },
  {
   "cell_type": "markdown",
   "metadata": {},
   "source": [
    "### RandomForestRegressor"
   ]
  },
  {
   "cell_type": "code",
   "execution_count": 45,
   "metadata": {},
   "outputs": [
    {
     "name": "stdout",
     "output_type": "stream",
     "text": [
      "7.891511513950695 best_est: 4 best_depth: 1\n"
     ]
    }
   ],
   "source": [
    "best_result = 100\n",
    "best_est = 0\n",
    "best_depth = 0\n",
    "\n",
    "for est in range(1, 5):\n",
    "    for depth in range (1, 5):\n",
    "        model = RandomForestRegressor(random_state=12345, max_depth=depth, n_estimators=est)\n",
    "        scores1 = cross_val_score(model, features, target1, cv=5, scoring=custom_scorer)\n",
    "        final_score1 = sum(scores1) / len(scores1)\n",
    "        scores2 = cross_val_score(model, features, target2, cv=5, scoring=custom_scorer)\n",
    "        final_score2 = sum(scores2) / len(scores2)\n",
    "        scor_total = sMAPE_total(final_score1, final_score2)\n",
    "\n",
    "        result = scor_total\n",
    "        if result < best_result:\n",
    "            best_model = model\n",
    "            best_result = result\n",
    "            best_est = est\n",
    "            best_depth = depth\n",
    "                    \n",
    "print(best_result, 'best_est:', best_est, 'best_depth:', best_depth)\n"
   ]
  },
  {
   "cell_type": "code",
   "execution_count": 46,
   "metadata": {},
   "outputs": [],
   "source": [
    "model = RandomForestRegressor(random_state=12345, max_depth=1, n_estimators=4)"
   ]
  },
  {
   "cell_type": "code",
   "execution_count": 47,
   "metadata": {},
   "outputs": [],
   "source": [
    "scores1 = cross_val_score(model, features, target1, cv=5, scoring=custom_scorer)\n",
    "final_score1 = sum(scores1) / len(scores1)"
   ]
  },
  {
   "cell_type": "code",
   "execution_count": 48,
   "metadata": {},
   "outputs": [],
   "source": [
    "scores2 = cross_val_score(model, features, target2, cv=5, scoring=custom_scorer)\n",
    "final_score2 = sum(scores2) / len(scores2)"
   ]
  },
  {
   "cell_type": "code",
   "execution_count": 49,
   "metadata": {},
   "outputs": [
    {
     "name": "stdout",
     "output_type": "stream",
     "text": [
      "7.891511513950695\n"
     ]
    }
   ],
   "source": [
    "print(sMAPE_total(final_score1, final_score2))"
   ]
  },
  {
   "cell_type": "markdown",
   "metadata": {},
   "source": [
    "### Проверка на тестовых данных:"
   ]
  },
  {
   "cell_type": "code",
   "execution_count": 50,
   "metadata": {},
   "outputs": [],
   "source": [
    "df_full_diff = df_full[['date', 'rougher.output.recovery', 'final.output.recovery']]"
   ]
  },
  {
   "cell_type": "code",
   "execution_count": 51,
   "metadata": {},
   "outputs": [],
   "source": [
    "df_test = df_test.merge(df_full_diff, on='date', how='left')"
   ]
  },
  {
   "cell_type": "code",
   "execution_count": 52,
   "metadata": {},
   "outputs": [],
   "source": [
    "df_test = df_test.drop('date', axis=1)\n",
    "df_test = df_test.dropna()\n",
    "df_test = df_test.reset_index(drop=True)\n"
   ]
  },
  {
   "cell_type": "code",
   "execution_count": 53,
   "metadata": {},
   "outputs": [],
   "source": [
    "target1_test = df_test['rougher.output.recovery']\n",
    "target2_test = df_test['final.output.recovery']\n",
    "\n",
    "features_test = df_test.drop(['rougher.output.recovery', 'final.output.recovery'], axis=1)"
   ]
  },
  {
   "cell_type": "code",
   "execution_count": 54,
   "metadata": {},
   "outputs": [],
   "source": [
    "scores1 = cross_val_score(model, features_test, target1_test, cv=5, scoring=custom_scorer)\n",
    "final_score1 = sum(scores1) / len(scores1)"
   ]
  },
  {
   "cell_type": "code",
   "execution_count": 55,
   "metadata": {},
   "outputs": [],
   "source": [
    "scores2 = cross_val_score(model, features_test, target2_test, cv=5, scoring=custom_scorer)\n",
    "final_score2 = sum(scores2) / len(scores2)"
   ]
  },
  {
   "cell_type": "markdown",
   "metadata": {},
   "source": [
    "**Лучший sMAPE_total на тестовой модели:**"
   ]
  },
  {
   "cell_type": "code",
   "execution_count": 56,
   "metadata": {},
   "outputs": [
    {
     "name": "stdout",
     "output_type": "stream",
     "text": [
      "8.382419991136407\n"
     ]
    }
   ],
   "source": [
    "print(sMAPE_total(final_score1, final_score2))"
   ]
  },
  {
   "cell_type": "markdown",
   "metadata": {},
   "source": [
    "## Тест на адекватность:"
   ]
  },
  {
   "cell_type": "code",
   "execution_count": 57,
   "metadata": {},
   "outputs": [],
   "source": [
    "predict1 = df_train['rougher.output.recovery'] * 0 + 1 * df_train['rougher.output.recovery'].median()\n",
    "predict2 = df_train['final.output.recovery'] * 0 + 1 * df_train['final.output.recovery'].median()\n",
    "predict1 = predict1.reset_index(drop=True)\n",
    "predict2 = predict2.reset_index(drop=True)"
   ]
  },
  {
   "cell_type": "markdown",
   "metadata": {},
   "source": [
    "Предсказания - медианное значение таргета"
   ]
  },
  {
   "cell_type": "code",
   "execution_count": 58,
   "metadata": {},
   "outputs": [
    {
     "name": "stdout",
     "output_type": "stream",
     "text": [
      "8.466802439892165\n"
     ]
    }
   ],
   "source": [
    "print(sMAPE_total(sMAPE(target1[:len(predict1)], predict1), sMAPE(target2[:len(predict2)], predict2)))"
   ]
  },
  {
   "cell_type": "markdown",
   "metadata": {},
   "source": [
    "**Вывод:**\n",
    "\n",
    "Итоговое sMAPE на константных предсказаниях: 8.466, на тестовых данных: 8.38. Из этого следует, что наша модель предсказыает результат лучше, чем просто медианное значения таргетного показателя. "
   ]
  },
  {
   "cell_type": "markdown",
   "metadata": {},
   "source": [
    "## Вывод "
   ]
  },
  {
   "cell_type": "markdown",
   "metadata": {},
   "source": [
    "Данные обработаны, проведен их анализ. \n",
    "\n",
    "Целевой признак `recovery` проверен.  \n",
    "\n",
    "Написаны функции для расчета метрики качества для данной задачи.\n",
    "\n",
    "Построена модель RandomForestRegressor(random_state=12345, max_depth=1, n_estimators=4) для предсказания целевых признаков `rougher.output.recovery` и `final.output.recovery`.\n",
    "\n",
    "Модель прошла тест на адекватность.\n",
    "\n",
    "Вот такие дела."
   ]
  }
 ],
 "metadata": {
  "ExecuteTimeLog": [
   {
    "duration": 822,
    "start_time": "2021-11-04T19:24:58.581Z"
   },
   {
    "duration": 2959,
    "start_time": "2021-11-04T19:24:59.406Z"
   },
   {
    "duration": 2534,
    "start_time": "2021-11-04T19:25:53.937Z"
   },
   {
    "duration": 2809,
    "start_time": "2021-11-04T19:26:56.062Z"
   },
   {
    "duration": 171,
    "start_time": "2021-11-04T19:27:19.319Z"
   },
   {
    "duration": 2726,
    "start_time": "2021-11-04T19:27:38.928Z"
   },
   {
    "duration": 355,
    "start_time": "2021-11-04T19:29:24.013Z"
   },
   {
    "duration": 57,
    "start_time": "2021-11-04T19:31:20.289Z"
   },
   {
    "duration": 371,
    "start_time": "2021-11-04T19:31:24.223Z"
   },
   {
    "duration": 134,
    "start_time": "2021-11-04T19:31:32.125Z"
   },
   {
    "duration": 51,
    "start_time": "2021-11-04T19:31:32.935Z"
   },
   {
    "duration": 402,
    "start_time": "2021-11-04T19:31:33.773Z"
   },
   {
    "duration": 359,
    "start_time": "2021-11-04T19:31:55.773Z"
   },
   {
    "duration": 3,
    "start_time": "2021-11-04T19:32:03.036Z"
   },
   {
    "duration": 121,
    "start_time": "2021-11-04T19:32:07.217Z"
   },
   {
    "duration": 968,
    "start_time": "2021-11-04T19:32:48.736Z"
   },
   {
    "duration": 44,
    "start_time": "2021-11-04T19:32:49.707Z"
   },
   {
    "duration": 41,
    "start_time": "2021-11-04T19:32:50.017Z"
   },
   {
    "duration": 43,
    "start_time": "2021-11-04T19:32:50.651Z"
   },
   {
    "duration": 692,
    "start_time": "2021-11-05T15:08:45.962Z"
   },
   {
    "duration": 821,
    "start_time": "2021-11-05T15:08:46.657Z"
   },
   {
    "duration": 61,
    "start_time": "2021-11-05T15:08:47.481Z"
   },
   {
    "duration": 39,
    "start_time": "2021-11-05T15:08:47.937Z"
   },
   {
    "duration": 41,
    "start_time": "2021-11-05T15:44:15.808Z"
   },
   {
    "duration": 390,
    "start_time": "2021-11-05T15:44:58.282Z"
   },
   {
    "duration": 294,
    "start_time": "2021-11-05T15:45:12.721Z"
   },
   {
    "duration": 85,
    "start_time": "2021-11-05T15:46:13.303Z"
   },
   {
    "duration": 92,
    "start_time": "2021-11-05T15:46:33.998Z"
   },
   {
    "duration": 6216,
    "start_time": "2021-11-05T15:46:37.912Z"
   },
   {
    "duration": 633,
    "start_time": "2021-11-05T15:47:43.786Z"
   },
   {
    "duration": 869,
    "start_time": "2021-11-05T15:47:58.006Z"
   },
   {
    "duration": 633,
    "start_time": "2021-11-05T15:48:10.002Z"
   },
   {
    "duration": 308,
    "start_time": "2021-11-05T15:55:48.313Z"
   },
   {
    "duration": 285,
    "start_time": "2021-11-05T15:56:28.063Z"
   },
   {
    "duration": 1452,
    "start_time": "2021-11-05T17:13:04.172Z"
   },
   {
    "duration": 3,
    "start_time": "2021-11-05T17:13:19.997Z"
   },
   {
    "duration": 970,
    "start_time": "2021-11-05T17:13:20.346Z"
   },
   {
    "duration": 61,
    "start_time": "2021-11-05T17:13:21.318Z"
   },
   {
    "duration": 6,
    "start_time": "2021-11-05T17:13:21.382Z"
   },
   {
    "duration": 1608,
    "start_time": "2021-11-05T17:13:21.390Z"
   },
   {
    "duration": 2787,
    "start_time": "2021-11-05T17:13:20.214Z"
   },
   {
    "duration": 997,
    "start_time": "2021-11-05T17:13:42.543Z"
   },
   {
    "duration": 1020,
    "start_time": "2021-11-05T17:14:21.160Z"
   },
   {
    "duration": 1220,
    "start_time": "2021-11-05T17:14:26.669Z"
   },
   {
    "duration": 1074,
    "start_time": "2021-11-05T17:14:39.661Z"
   },
   {
    "duration": 769,
    "start_time": "2021-11-05T17:14:48.708Z"
   },
   {
    "duration": 938,
    "start_time": "2021-11-05T17:14:49.480Z"
   },
   {
    "duration": 60,
    "start_time": "2021-11-05T17:14:50.420Z"
   },
   {
    "duration": 7,
    "start_time": "2021-11-05T17:14:50.482Z"
   },
   {
    "duration": 507,
    "start_time": "2021-11-05T17:14:50.492Z"
   },
   {
    "duration": 48,
    "start_time": "2021-11-05T17:15:06.414Z"
   },
   {
    "duration": 307,
    "start_time": "2021-11-05T17:15:34.974Z"
   },
   {
    "duration": 51,
    "start_time": "2021-11-05T17:43:17.397Z"
   },
   {
    "duration": 335,
    "start_time": "2021-11-05T17:43:30.118Z"
   },
   {
    "duration": 294,
    "start_time": "2021-11-05T17:43:42.122Z"
   },
   {
    "duration": 46,
    "start_time": "2021-11-05T17:44:18.941Z"
   },
   {
    "duration": 297,
    "start_time": "2021-11-05T17:46:14.605Z"
   },
   {
    "duration": 335,
    "start_time": "2021-11-05T17:46:25.596Z"
   },
   {
    "duration": 293,
    "start_time": "2021-11-05T17:46:31.762Z"
   },
   {
    "duration": 289,
    "start_time": "2021-11-05T17:46:39.864Z"
   },
   {
    "duration": 327,
    "start_time": "2021-11-05T17:46:48.138Z"
   },
   {
    "duration": 43,
    "start_time": "2021-11-05T17:48:47.662Z"
   },
   {
    "duration": 336,
    "start_time": "2021-11-05T17:49:09.651Z"
   },
   {
    "duration": 46,
    "start_time": "2021-11-05T17:52:32.665Z"
   },
   {
    "duration": 44,
    "start_time": "2021-11-05T17:53:01.472Z"
   },
   {
    "duration": 299,
    "start_time": "2021-11-05T17:54:49.649Z"
   },
   {
    "duration": 315,
    "start_time": "2021-11-05T17:56:06.376Z"
   },
   {
    "duration": 6165,
    "start_time": "2021-11-05T17:56:35.717Z"
   },
   {
    "duration": 66,
    "start_time": "2021-11-05T17:56:54.119Z"
   },
   {
    "duration": 63,
    "start_time": "2021-11-05T17:57:14.095Z"
   },
   {
    "duration": 82,
    "start_time": "2021-11-05T17:57:39.804Z"
   },
   {
    "duration": 84,
    "start_time": "2021-11-05T19:31:05.345Z"
   },
   {
    "duration": 6549,
    "start_time": "2021-11-05T19:33:31.613Z"
   },
   {
    "duration": 509,
    "start_time": "2021-11-05T19:33:53.990Z"
   },
   {
    "duration": 3,
    "start_time": "2021-11-05T19:34:05.415Z"
   },
   {
    "duration": 897,
    "start_time": "2021-11-05T19:34:05.659Z"
   },
   {
    "duration": 53,
    "start_time": "2021-11-05T19:34:06.558Z"
   },
   {
    "duration": 5,
    "start_time": "2021-11-05T19:34:06.630Z"
   },
   {
    "duration": 536,
    "start_time": "2021-11-05T19:34:06.638Z"
   },
   {
    "duration": 3033,
    "start_time": "2021-11-05T19:34:04.143Z"
   },
   {
    "duration": 714,
    "start_time": "2021-11-05T20:27:52.555Z"
   },
   {
    "duration": 898,
    "start_time": "2021-11-05T20:27:53.272Z"
   },
   {
    "duration": 72,
    "start_time": "2021-11-05T20:27:54.173Z"
   },
   {
    "duration": 5,
    "start_time": "2021-11-05T20:27:54.248Z"
   },
   {
    "duration": 13,
    "start_time": "2021-11-05T20:27:54.392Z"
   },
   {
    "duration": 555,
    "start_time": "2021-11-05T20:32:20.763Z"
   },
   {
    "duration": 909,
    "start_time": "2021-11-05T20:32:21.321Z"
   },
   {
    "duration": 53,
    "start_time": "2021-11-05T20:32:22.233Z"
   },
   {
    "duration": 4,
    "start_time": "2021-11-05T20:32:22.288Z"
   },
   {
    "duration": 40,
    "start_time": "2021-11-05T20:32:22.295Z"
   },
   {
    "duration": 100,
    "start_time": "2021-11-05T20:32:22.337Z"
   },
   {
    "duration": 1029,
    "start_time": "2021-11-06T10:45:34.537Z"
   },
   {
    "duration": 705,
    "start_time": "2021-11-06T10:45:35.567Z"
   },
   {
    "duration": 170,
    "start_time": "2021-11-06T10:45:36.274Z"
   },
   {
    "duration": 285,
    "start_time": "2021-11-06T10:51:56.702Z"
   },
   {
    "duration": 983,
    "start_time": "2021-11-06T10:52:23.576Z"
   },
   {
    "duration": 693,
    "start_time": "2021-11-06T10:52:24.561Z"
   },
   {
    "duration": 161,
    "start_time": "2021-11-06T10:52:25.256Z"
   },
   {
    "duration": 2,
    "start_time": "2021-11-06T10:52:25.419Z"
   },
   {
    "duration": 66,
    "start_time": "2021-11-06T10:52:25.422Z"
   },
   {
    "duration": 146,
    "start_time": "2021-11-06T10:52:25.489Z"
   },
   {
    "duration": 3,
    "start_time": "2021-11-06T10:52:25.728Z"
   },
   {
    "duration": 11,
    "start_time": "2021-11-06T10:52:26.809Z"
   },
   {
    "duration": 5,
    "start_time": "2021-11-06T10:52:28.144Z"
   },
   {
    "duration": 980,
    "start_time": "2021-11-06T10:55:49.395Z"
   },
   {
    "duration": 693,
    "start_time": "2021-11-06T10:55:50.377Z"
   },
   {
    "duration": 157,
    "start_time": "2021-11-06T10:55:51.072Z"
   },
   {
    "duration": 2,
    "start_time": "2021-11-06T10:55:51.231Z"
   },
   {
    "duration": 62,
    "start_time": "2021-11-06T10:55:51.235Z"
   },
   {
    "duration": 149,
    "start_time": "2021-11-06T10:55:51.298Z"
   },
   {
    "duration": 3,
    "start_time": "2021-11-06T10:55:51.448Z"
   },
   {
    "duration": 10,
    "start_time": "2021-11-06T10:55:52.161Z"
   },
   {
    "duration": 7,
    "start_time": "2021-11-06T10:55:52.944Z"
   },
   {
    "duration": 3,
    "start_time": "2021-11-06T10:57:31.922Z"
   },
   {
    "duration": 3,
    "start_time": "2021-11-06T10:57:43.586Z"
   },
   {
    "duration": 4,
    "start_time": "2021-11-06T10:59:58.589Z"
   },
   {
    "duration": 4,
    "start_time": "2021-11-06T11:01:24.382Z"
   },
   {
    "duration": 332,
    "start_time": "2021-11-06T11:02:42.515Z"
   },
   {
    "duration": 31,
    "start_time": "2021-11-06T11:03:00.545Z"
   },
   {
    "duration": 40,
    "start_time": "2021-11-06T11:04:26.034Z"
   },
   {
    "duration": 37,
    "start_time": "2021-11-06T11:04:47.111Z"
   },
   {
    "duration": 37,
    "start_time": "2021-11-06T11:11:34.792Z"
   },
   {
    "duration": 32,
    "start_time": "2021-11-06T11:11:49.249Z"
   },
   {
    "duration": 304,
    "start_time": "2021-11-06T11:12:59.922Z"
   },
   {
    "duration": 105,
    "start_time": "2021-11-06T11:13:06.570Z"
   },
   {
    "duration": 96,
    "start_time": "2021-11-06T11:13:30.153Z"
   },
   {
    "duration": 73,
    "start_time": "2021-11-06T11:13:48.649Z"
   },
   {
    "duration": 72,
    "start_time": "2021-11-06T11:14:34.465Z"
   },
   {
    "duration": 105,
    "start_time": "2021-11-06T11:15:32.355Z"
   },
   {
    "duration": 6136,
    "start_time": "2021-11-06T11:24:45.710Z"
   },
   {
    "duration": 9,
    "start_time": "2021-11-06T11:25:00.354Z"
   },
   {
    "duration": 10,
    "start_time": "2021-11-06T11:25:58.282Z"
   },
   {
    "duration": 10,
    "start_time": "2021-11-06T11:28:30.224Z"
   },
   {
    "duration": 336,
    "start_time": "2021-11-06T11:29:35.564Z"
   },
   {
    "duration": 361,
    "start_time": "2021-11-06T11:31:16.346Z"
   },
   {
    "duration": 255,
    "start_time": "2021-11-06T11:31:24.818Z"
   },
   {
    "duration": 13,
    "start_time": "2021-11-06T11:31:30.575Z"
   },
   {
    "duration": 1075,
    "start_time": "2021-11-06T11:38:04.888Z"
   },
   {
    "duration": 855,
    "start_time": "2021-11-06T11:38:05.966Z"
   },
   {
    "duration": 175,
    "start_time": "2021-11-06T11:38:06.823Z"
   },
   {
    "duration": 72,
    "start_time": "2021-11-06T11:38:07.000Z"
   },
   {
    "duration": 148,
    "start_time": "2021-11-06T11:38:07.074Z"
   },
   {
    "duration": 3,
    "start_time": "2021-11-06T11:38:07.224Z"
   },
   {
    "duration": 24,
    "start_time": "2021-11-06T11:38:07.229Z"
   },
   {
    "duration": 5,
    "start_time": "2021-11-06T11:38:07.255Z"
   },
   {
    "duration": 39,
    "start_time": "2021-11-06T11:38:07.484Z"
   },
   {
    "duration": 107,
    "start_time": "2021-11-06T11:38:08.679Z"
   },
   {
    "duration": 382,
    "start_time": "2021-11-06T11:38:09.067Z"
   },
   {
    "duration": 254,
    "start_time": "2021-11-06T11:38:34.756Z"
   },
   {
    "duration": 10,
    "start_time": "2021-11-06T11:40:08.033Z"
   },
   {
    "duration": 6,
    "start_time": "2021-11-06T11:40:13.727Z"
   },
   {
    "duration": 11,
    "start_time": "2021-11-06T11:40:29.257Z"
   },
   {
    "duration": 5,
    "start_time": "2021-11-06T11:40:30.817Z"
   },
   {
    "duration": 1028,
    "start_time": "2021-11-06T11:40:53.127Z"
   },
   {
    "duration": 735,
    "start_time": "2021-11-06T11:40:54.157Z"
   },
   {
    "duration": 170,
    "start_time": "2021-11-06T11:40:54.894Z"
   },
   {
    "duration": 55,
    "start_time": "2021-11-06T11:40:55.066Z"
   },
   {
    "duration": 158,
    "start_time": "2021-11-06T11:40:55.123Z"
   },
   {
    "duration": 3,
    "start_time": "2021-11-06T11:40:55.283Z"
   },
   {
    "duration": 19,
    "start_time": "2021-11-06T11:40:55.288Z"
   },
   {
    "duration": 5,
    "start_time": "2021-11-06T11:40:55.708Z"
   },
   {
    "duration": 37,
    "start_time": "2021-11-06T11:40:56.493Z"
   },
   {
    "duration": 108,
    "start_time": "2021-11-06T11:40:58.006Z"
   },
   {
    "duration": 11,
    "start_time": "2021-11-06T11:40:59.093Z"
   },
   {
    "duration": 6,
    "start_time": "2021-11-06T11:40:59.616Z"
   },
   {
    "duration": 10,
    "start_time": "2021-11-06T11:41:35.129Z"
   },
   {
    "duration": 10,
    "start_time": "2021-11-06T11:42:17.007Z"
   },
   {
    "duration": 6,
    "start_time": "2021-11-06T11:42:17.506Z"
   },
   {
    "duration": 10,
    "start_time": "2021-11-06T11:44:29.477Z"
   },
   {
    "duration": 10,
    "start_time": "2021-11-06T11:44:36.570Z"
   },
   {
    "duration": 5,
    "start_time": "2021-11-06T11:45:01.061Z"
   },
   {
    "duration": 10,
    "start_time": "2021-11-06T11:46:23.681Z"
   },
   {
    "duration": 6,
    "start_time": "2021-11-06T11:46:25.279Z"
   },
   {
    "duration": 11,
    "start_time": "2021-11-06T11:47:52.698Z"
   },
   {
    "duration": 5,
    "start_time": "2021-11-06T11:47:53.896Z"
   },
   {
    "duration": 10,
    "start_time": "2021-11-06T11:49:15.400Z"
   },
   {
    "duration": 5,
    "start_time": "2021-11-06T11:49:15.777Z"
   },
   {
    "duration": 316,
    "start_time": "2021-11-06T11:50:32.736Z"
   },
   {
    "duration": 1033,
    "start_time": "2021-11-06T11:51:33.643Z"
   },
   {
    "duration": 737,
    "start_time": "2021-11-06T11:51:34.678Z"
   },
   {
    "duration": 187,
    "start_time": "2021-11-06T11:51:35.417Z"
   },
   {
    "duration": 73,
    "start_time": "2021-11-06T11:51:35.607Z"
   },
   {
    "duration": 158,
    "start_time": "2021-11-06T11:51:35.682Z"
   },
   {
    "duration": 3,
    "start_time": "2021-11-06T11:51:35.845Z"
   },
   {
    "duration": 14,
    "start_time": "2021-11-06T11:51:35.850Z"
   },
   {
    "duration": 5,
    "start_time": "2021-11-06T11:51:35.871Z"
   },
   {
    "duration": 38,
    "start_time": "2021-11-06T11:51:36.269Z"
   },
   {
    "duration": 113,
    "start_time": "2021-11-06T11:51:36.943Z"
   },
   {
    "duration": 11,
    "start_time": "2021-11-06T11:51:37.175Z"
   },
   {
    "duration": 5,
    "start_time": "2021-11-06T11:51:37.723Z"
   },
   {
    "duration": 11,
    "start_time": "2021-11-06T11:51:38.105Z"
   },
   {
    "duration": 6,
    "start_time": "2021-11-06T11:51:38.537Z"
   },
   {
    "duration": 10,
    "start_time": "2021-11-06T11:51:38.958Z"
   },
   {
    "duration": 5,
    "start_time": "2021-11-06T11:51:39.382Z"
   },
   {
    "duration": 9,
    "start_time": "2021-11-06T11:51:39.793Z"
   },
   {
    "duration": 5,
    "start_time": "2021-11-06T11:51:40.237Z"
   },
   {
    "duration": 10,
    "start_time": "2021-11-06T11:51:40.569Z"
   },
   {
    "duration": 5,
    "start_time": "2021-11-06T11:51:40.973Z"
   },
   {
    "duration": 11,
    "start_time": "2021-11-06T11:51:41.334Z"
   },
   {
    "duration": 5,
    "start_time": "2021-11-06T11:51:41.725Z"
   },
   {
    "duration": 13,
    "start_time": "2021-11-06T11:51:42.218Z"
   },
   {
    "duration": 74,
    "start_time": "2021-11-06T11:52:51.088Z"
   },
   {
    "duration": 1024,
    "start_time": "2021-11-06T11:55:50.436Z"
   },
   {
    "duration": 713,
    "start_time": "2021-11-06T11:55:51.462Z"
   },
   {
    "duration": 171,
    "start_time": "2021-11-06T11:55:52.177Z"
   },
   {
    "duration": 49,
    "start_time": "2021-11-06T11:55:52.350Z"
   },
   {
    "duration": 150,
    "start_time": "2021-11-06T11:55:52.401Z"
   },
   {
    "duration": 3,
    "start_time": "2021-11-06T11:55:52.552Z"
   },
   {
    "duration": 12,
    "start_time": "2021-11-06T11:55:52.557Z"
   },
   {
    "duration": 6,
    "start_time": "2021-11-06T11:55:52.664Z"
   },
   {
    "duration": 39,
    "start_time": "2021-11-06T11:55:52.821Z"
   },
   {
    "duration": 106,
    "start_time": "2021-11-06T11:55:53.076Z"
   },
   {
    "duration": 9,
    "start_time": "2021-11-06T11:55:53.184Z"
   },
   {
    "duration": 5,
    "start_time": "2021-11-06T11:55:53.620Z"
   },
   {
    "duration": 9,
    "start_time": "2021-11-06T11:55:54.121Z"
   },
   {
    "duration": 5,
    "start_time": "2021-11-06T11:55:54.204Z"
   },
   {
    "duration": 10,
    "start_time": "2021-11-06T11:55:54.287Z"
   },
   {
    "duration": 5,
    "start_time": "2021-11-06T11:55:54.373Z"
   },
   {
    "duration": 10,
    "start_time": "2021-11-06T11:55:54.455Z"
   },
   {
    "duration": 6,
    "start_time": "2021-11-06T11:55:54.540Z"
   },
   {
    "duration": 9,
    "start_time": "2021-11-06T11:55:54.622Z"
   },
   {
    "duration": 6,
    "start_time": "2021-11-06T11:55:54.707Z"
   },
   {
    "duration": 10,
    "start_time": "2021-11-06T11:55:54.792Z"
   },
   {
    "duration": 5,
    "start_time": "2021-11-06T11:55:54.889Z"
   },
   {
    "duration": 11,
    "start_time": "2021-11-06T11:55:54.960Z"
   },
   {
    "duration": 73,
    "start_time": "2021-11-06T11:55:55.053Z"
   },
   {
    "duration": 1060,
    "start_time": "2021-11-06T12:39:28.562Z"
   },
   {
    "duration": 723,
    "start_time": "2021-11-06T12:39:29.624Z"
   },
   {
    "duration": 170,
    "start_time": "2021-11-06T12:39:30.349Z"
   },
   {
    "duration": 66,
    "start_time": "2021-11-06T12:39:30.521Z"
   },
   {
    "duration": 142,
    "start_time": "2021-11-06T12:39:30.589Z"
   },
   {
    "duration": 12,
    "start_time": "2021-11-06T12:39:30.732Z"
   },
   {
    "duration": 26,
    "start_time": "2021-11-06T12:39:30.746Z"
   },
   {
    "duration": 7,
    "start_time": "2021-11-06T12:39:30.775Z"
   },
   {
    "duration": 52,
    "start_time": "2021-11-06T12:39:30.784Z"
   },
   {
    "duration": 124,
    "start_time": "2021-11-06T12:39:30.838Z"
   },
   {
    "duration": 10,
    "start_time": "2021-11-06T12:39:30.964Z"
   },
   {
    "duration": 28,
    "start_time": "2021-11-06T12:39:30.976Z"
   },
   {
    "duration": 21,
    "start_time": "2021-11-06T12:39:31.006Z"
   },
   {
    "duration": 41,
    "start_time": "2021-11-06T12:39:31.028Z"
   },
   {
    "duration": 20,
    "start_time": "2021-11-06T12:39:31.071Z"
   },
   {
    "duration": 9,
    "start_time": "2021-11-06T12:39:31.093Z"
   },
   {
    "duration": 75,
    "start_time": "2021-11-06T12:39:31.105Z"
   },
   {
    "duration": 16,
    "start_time": "2021-11-06T12:39:31.182Z"
   },
   {
    "duration": 37,
    "start_time": "2021-11-06T12:39:31.199Z"
   },
   {
    "duration": 6,
    "start_time": "2021-11-06T12:39:31.447Z"
   },
   {
    "duration": 11,
    "start_time": "2021-11-06T12:39:31.895Z"
   },
   {
    "duration": 6,
    "start_time": "2021-11-06T12:39:32.271Z"
   },
   {
    "duration": 12,
    "start_time": "2021-11-06T12:39:32.699Z"
   },
   {
    "duration": 77,
    "start_time": "2021-11-06T12:39:33.075Z"
   },
   {
    "duration": 379,
    "start_time": "2021-11-06T12:39:34.416Z"
   },
   {
    "duration": 6962,
    "start_time": "2021-11-06T12:40:09.968Z"
   },
   {
    "duration": 4,
    "start_time": "2021-11-06T12:40:48.664Z"
   },
   {
    "duration": 5,
    "start_time": "2021-11-06T12:41:18.876Z"
   },
   {
    "duration": 6572,
    "start_time": "2021-11-06T12:41:26.377Z"
   },
   {
    "duration": 6472,
    "start_time": "2021-11-06T12:41:39.816Z"
   },
   {
    "duration": 285,
    "start_time": "2021-11-06T12:42:00.772Z"
   },
   {
    "duration": 27,
    "start_time": "2021-11-06T12:42:25.476Z"
   },
   {
    "duration": 370,
    "start_time": "2021-11-06T12:44:35.468Z"
   },
   {
    "duration": 159,
    "start_time": "2021-11-06T12:44:40.182Z"
   },
   {
    "duration": 332,
    "start_time": "2021-11-06T12:48:59.952Z"
   },
   {
    "duration": 1228,
    "start_time": "2021-11-06T12:49:16.035Z"
   },
   {
    "duration": 730,
    "start_time": "2021-11-06T12:49:17.265Z"
   },
   {
    "duration": 168,
    "start_time": "2021-11-06T12:49:17.997Z"
   },
   {
    "duration": 55,
    "start_time": "2021-11-06T12:49:18.167Z"
   },
   {
    "duration": 149,
    "start_time": "2021-11-06T12:49:18.224Z"
   },
   {
    "duration": 3,
    "start_time": "2021-11-06T12:49:18.375Z"
   },
   {
    "duration": 21,
    "start_time": "2021-11-06T12:49:18.380Z"
   },
   {
    "duration": 5,
    "start_time": "2021-11-06T12:49:18.404Z"
   },
   {
    "duration": 50,
    "start_time": "2021-11-06T12:49:18.410Z"
   },
   {
    "duration": 120,
    "start_time": "2021-11-06T12:49:18.462Z"
   },
   {
    "duration": 9,
    "start_time": "2021-11-06T12:49:18.584Z"
   },
   {
    "duration": 5,
    "start_time": "2021-11-06T12:49:18.595Z"
   },
   {
    "duration": 13,
    "start_time": "2021-11-06T12:49:18.601Z"
   },
   {
    "duration": 31,
    "start_time": "2021-11-06T12:49:18.616Z"
   },
   {
    "duration": 10,
    "start_time": "2021-11-06T12:49:18.649Z"
   },
   {
    "duration": 5,
    "start_time": "2021-11-06T12:49:18.660Z"
   },
   {
    "duration": 12,
    "start_time": "2021-11-06T12:49:18.667Z"
   },
   {
    "duration": 5,
    "start_time": "2021-11-06T12:49:18.681Z"
   },
   {
    "duration": 13,
    "start_time": "2021-11-06T12:49:18.689Z"
   },
   {
    "duration": 44,
    "start_time": "2021-11-06T12:49:18.704Z"
   },
   {
    "duration": 19,
    "start_time": "2021-11-06T12:49:18.750Z"
   },
   {
    "duration": 25,
    "start_time": "2021-11-06T12:49:18.771Z"
   },
   {
    "duration": 11,
    "start_time": "2021-11-06T12:49:18.798Z"
   },
   {
    "duration": 72,
    "start_time": "2021-11-06T12:49:19.193Z"
   },
   {
    "duration": 4,
    "start_time": "2021-11-06T12:49:20.790Z"
   },
   {
    "duration": 4,
    "start_time": "2021-11-06T12:49:21.286Z"
   },
   {
    "duration": 8,
    "start_time": "2021-11-06T12:49:22.045Z"
   },
   {
    "duration": 172,
    "start_time": "2021-11-06T12:49:43.447Z"
   },
   {
    "duration": 189,
    "start_time": "2021-11-06T12:50:07.319Z"
   },
   {
    "duration": 169,
    "start_time": "2021-11-06T12:53:41.106Z"
   },
   {
    "duration": 179,
    "start_time": "2021-11-06T12:53:54.562Z"
   },
   {
    "duration": 188,
    "start_time": "2021-11-06T12:59:34.256Z"
   },
   {
    "duration": 339,
    "start_time": "2021-11-06T13:00:00.503Z"
   },
   {
    "duration": 228,
    "start_time": "2021-11-06T13:00:20.875Z"
   },
   {
    "duration": 259,
    "start_time": "2021-11-06T13:01:00.147Z"
   },
   {
    "duration": 197,
    "start_time": "2021-11-06T13:01:17.092Z"
   },
   {
    "duration": 7106,
    "start_time": "2021-11-06T13:03:24.420Z"
   },
   {
    "duration": 4,
    "start_time": "2021-11-06T13:04:07.835Z"
   },
   {
    "duration": 20,
    "start_time": "2021-11-06T13:08:49.463Z"
   },
   {
    "duration": 207,
    "start_time": "2021-11-06T13:09:01.188Z"
   },
   {
    "duration": 225,
    "start_time": "2021-11-06T13:09:46.425Z"
   },
   {
    "duration": 257,
    "start_time": "2021-11-06T13:55:04.942Z"
   },
   {
    "duration": 268,
    "start_time": "2021-11-06T13:55:29.679Z"
   },
   {
    "duration": 1033,
    "start_time": "2021-11-06T13:58:03.493Z"
   },
   {
    "duration": 714,
    "start_time": "2021-11-06T13:58:04.528Z"
   },
   {
    "duration": 170,
    "start_time": "2021-11-06T13:58:05.244Z"
   },
   {
    "duration": 62,
    "start_time": "2021-11-06T13:58:05.415Z"
   },
   {
    "duration": 154,
    "start_time": "2021-11-06T13:58:05.479Z"
   },
   {
    "duration": 3,
    "start_time": "2021-11-06T13:58:05.634Z"
   },
   {
    "duration": 10,
    "start_time": "2021-11-06T13:58:05.643Z"
   },
   {
    "duration": 5,
    "start_time": "2021-11-06T13:58:05.656Z"
   },
   {
    "duration": 42,
    "start_time": "2021-11-06T13:58:05.663Z"
   },
   {
    "duration": 140,
    "start_time": "2021-11-06T13:58:05.707Z"
   },
   {
    "duration": 10,
    "start_time": "2021-11-06T13:58:05.848Z"
   },
   {
    "duration": 4,
    "start_time": "2021-11-06T13:58:05.860Z"
   },
   {
    "duration": 11,
    "start_time": "2021-11-06T13:58:05.866Z"
   },
   {
    "duration": 4,
    "start_time": "2021-11-06T13:58:05.879Z"
   },
   {
    "duration": 14,
    "start_time": "2021-11-06T13:58:05.885Z"
   },
   {
    "duration": 4,
    "start_time": "2021-11-06T13:58:05.901Z"
   },
   {
    "duration": 47,
    "start_time": "2021-11-06T13:58:05.907Z"
   },
   {
    "duration": 5,
    "start_time": "2021-11-06T13:58:05.955Z"
   },
   {
    "duration": 11,
    "start_time": "2021-11-06T13:58:05.962Z"
   },
   {
    "duration": 5,
    "start_time": "2021-11-06T13:58:06.005Z"
   },
   {
    "duration": 10,
    "start_time": "2021-11-06T13:58:06.086Z"
   },
   {
    "duration": 5,
    "start_time": "2021-11-06T13:58:06.168Z"
   },
   {
    "duration": 12,
    "start_time": "2021-11-06T13:58:06.254Z"
   },
   {
    "duration": 75,
    "start_time": "2021-11-06T13:58:06.335Z"
   },
   {
    "duration": 17,
    "start_time": "2021-11-06T13:58:07.098Z"
   },
   {
    "duration": 231,
    "start_time": "2021-11-06T13:58:07.289Z"
   },
   {
    "duration": 253,
    "start_time": "2021-11-06T13:59:03.187Z"
   },
   {
    "duration": 237,
    "start_time": "2021-11-06T13:59:05.177Z"
   },
   {
    "duration": 4,
    "start_time": "2021-11-06T14:01:54.043Z"
   },
   {
    "duration": 4,
    "start_time": "2021-11-06T14:02:31.184Z"
   },
   {
    "duration": 193,
    "start_time": "2021-11-06T14:04:37.432Z"
   },
   {
    "duration": 4,
    "start_time": "2021-11-06T14:15:43.030Z"
   },
   {
    "duration": 5,
    "start_time": "2021-11-06T14:23:13.664Z"
   },
   {
    "duration": 5,
    "start_time": "2021-11-06T14:24:43.671Z"
   },
   {
    "duration": 5,
    "start_time": "2021-11-06T14:25:42.022Z"
   },
   {
    "duration": 213,
    "start_time": "2021-11-06T14:26:41.008Z"
   },
   {
    "duration": 355,
    "start_time": "2021-11-06T14:47:12.682Z"
   },
   {
    "duration": 317,
    "start_time": "2021-11-06T14:47:32.251Z"
   },
   {
    "duration": 1752,
    "start_time": "2021-11-06T14:47:57.866Z"
   },
   {
    "duration": 8601,
    "start_time": "2021-11-06T14:49:03.927Z"
   },
   {
    "duration": 294,
    "start_time": "2021-11-06T14:49:38.115Z"
   },
   {
    "duration": 1058,
    "start_time": "2021-11-06T14:49:58.168Z"
   },
   {
    "duration": 718,
    "start_time": "2021-11-06T14:49:59.228Z"
   },
   {
    "duration": 169,
    "start_time": "2021-11-06T14:49:59.948Z"
   },
   {
    "duration": 70,
    "start_time": "2021-11-06T14:50:00.118Z"
   },
   {
    "duration": 152,
    "start_time": "2021-11-06T14:50:00.190Z"
   },
   {
    "duration": 3,
    "start_time": "2021-11-06T14:50:00.343Z"
   },
   {
    "duration": 22,
    "start_time": "2021-11-06T14:50:00.348Z"
   },
   {
    "duration": 19,
    "start_time": "2021-11-06T14:50:00.373Z"
   },
   {
    "duration": 41,
    "start_time": "2021-11-06T14:50:00.394Z"
   },
   {
    "duration": 124,
    "start_time": "2021-11-06T14:50:00.437Z"
   },
   {
    "duration": 11,
    "start_time": "2021-11-06T14:50:00.563Z"
   },
   {
    "duration": 5,
    "start_time": "2021-11-06T14:50:00.576Z"
   },
   {
    "duration": 17,
    "start_time": "2021-11-06T14:50:00.583Z"
   },
   {
    "duration": 5,
    "start_time": "2021-11-06T14:50:00.601Z"
   },
   {
    "duration": 43,
    "start_time": "2021-11-06T14:50:00.608Z"
   },
   {
    "duration": 5,
    "start_time": "2021-11-06T14:50:00.652Z"
   },
   {
    "duration": 19,
    "start_time": "2021-11-06T14:50:00.660Z"
   },
   {
    "duration": 9,
    "start_time": "2021-11-06T14:50:00.681Z"
   },
   {
    "duration": 16,
    "start_time": "2021-11-06T14:50:00.692Z"
   },
   {
    "duration": 7,
    "start_time": "2021-11-06T14:50:00.710Z"
   },
   {
    "duration": 11,
    "start_time": "2021-11-06T14:50:00.764Z"
   },
   {
    "duration": 6,
    "start_time": "2021-11-06T14:50:00.839Z"
   },
   {
    "duration": 12,
    "start_time": "2021-11-06T14:50:00.919Z"
   },
   {
    "duration": 74,
    "start_time": "2021-11-06T14:50:01.004Z"
   },
   {
    "duration": 22,
    "start_time": "2021-11-06T14:50:02.231Z"
   },
   {
    "duration": 248,
    "start_time": "2021-11-06T14:50:02.709Z"
   },
   {
    "duration": 261,
    "start_time": "2021-11-06T14:50:02.959Z"
   },
   {
    "duration": 266,
    "start_time": "2021-11-06T14:50:03.222Z"
   },
   {
    "duration": 201,
    "start_time": "2021-11-06T14:50:03.671Z"
   },
   {
    "duration": 5,
    "start_time": "2021-11-06T14:50:04.279Z"
   },
   {
    "duration": 5,
    "start_time": "2021-11-06T14:50:04.583Z"
   },
   {
    "duration": 5,
    "start_time": "2021-11-06T14:50:04.819Z"
   },
   {
    "duration": 210,
    "start_time": "2021-11-06T14:50:05.038Z"
   },
   {
    "duration": 4,
    "start_time": "2021-11-06T14:50:05.487Z"
   },
   {
    "duration": 15,
    "start_time": "2021-11-06T14:56:43.376Z"
   },
   {
    "duration": 337,
    "start_time": "2021-11-06T14:57:11.571Z"
   },
   {
    "duration": 260,
    "start_time": "2021-11-06T14:59:06.536Z"
   },
   {
    "duration": 307,
    "start_time": "2021-11-06T15:00:54.460Z"
   },
   {
    "duration": 646,
    "start_time": "2021-11-06T15:02:36.054Z"
   },
   {
    "duration": 260,
    "start_time": "2021-11-06T15:02:56.306Z"
   },
   {
    "duration": 9,
    "start_time": "2021-11-06T15:03:03.135Z"
   },
   {
    "duration": 20,
    "start_time": "2021-11-06T15:03:17.616Z"
   },
   {
    "duration": 8,
    "start_time": "2021-11-06T15:03:33.736Z"
   },
   {
    "duration": 1169,
    "start_time": "2021-11-06T17:02:37.683Z"
   },
   {
    "duration": 735,
    "start_time": "2021-11-06T17:02:38.854Z"
   },
   {
    "duration": 171,
    "start_time": "2021-11-06T17:02:39.591Z"
   },
   {
    "duration": 56,
    "start_time": "2021-11-06T17:02:39.764Z"
   },
   {
    "duration": 142,
    "start_time": "2021-11-06T17:02:39.845Z"
   },
   {
    "duration": 5,
    "start_time": "2021-11-06T17:02:39.989Z"
   },
   {
    "duration": 27,
    "start_time": "2021-11-06T17:02:39.996Z"
   },
   {
    "duration": 18,
    "start_time": "2021-11-06T17:02:40.026Z"
   },
   {
    "duration": 37,
    "start_time": "2021-11-06T17:02:40.046Z"
   },
   {
    "duration": 128,
    "start_time": "2021-11-06T17:02:40.084Z"
   },
   {
    "duration": 32,
    "start_time": "2021-11-06T17:02:40.214Z"
   },
   {
    "duration": 5,
    "start_time": "2021-11-06T17:02:40.247Z"
   },
   {
    "duration": 14,
    "start_time": "2021-11-06T17:02:40.253Z"
   },
   {
    "duration": 5,
    "start_time": "2021-11-06T17:02:40.268Z"
   },
   {
    "duration": 8,
    "start_time": "2021-11-06T17:02:40.275Z"
   },
   {
    "duration": 4,
    "start_time": "2021-11-06T17:02:40.285Z"
   },
   {
    "duration": 17,
    "start_time": "2021-11-06T17:02:40.290Z"
   },
   {
    "duration": 36,
    "start_time": "2021-11-06T17:02:40.309Z"
   },
   {
    "duration": 9,
    "start_time": "2021-11-06T17:02:40.349Z"
   },
   {
    "duration": 6,
    "start_time": "2021-11-06T17:02:40.361Z"
   },
   {
    "duration": 11,
    "start_time": "2021-11-06T17:02:40.369Z"
   },
   {
    "duration": 5,
    "start_time": "2021-11-06T17:02:40.382Z"
   },
   {
    "duration": 12,
    "start_time": "2021-11-06T17:02:40.446Z"
   },
   {
    "duration": 74,
    "start_time": "2021-11-06T17:02:40.528Z"
   },
   {
    "duration": 16,
    "start_time": "2021-11-06T17:02:40.890Z"
   },
   {
    "duration": 242,
    "start_time": "2021-11-06T17:02:40.961Z"
   },
   {
    "duration": 255,
    "start_time": "2021-11-06T17:02:41.204Z"
   },
   {
    "duration": 258,
    "start_time": "2021-11-06T17:02:41.461Z"
   },
   {
    "duration": 203,
    "start_time": "2021-11-06T17:02:41.721Z"
   },
   {
    "duration": 4,
    "start_time": "2021-11-06T17:02:41.926Z"
   },
   {
    "duration": 15,
    "start_time": "2021-11-06T17:02:41.932Z"
   },
   {
    "duration": 7,
    "start_time": "2021-11-06T17:02:41.949Z"
   },
   {
    "duration": 234,
    "start_time": "2021-11-06T17:02:41.958Z"
   },
   {
    "duration": 586,
    "start_time": "2021-11-06T17:02:42.193Z"
   },
   {
    "duration": -128,
    "start_time": "2021-11-06T17:02:42.909Z"
   },
   {
    "duration": -129,
    "start_time": "2021-11-06T17:02:42.911Z"
   },
   {
    "duration": -130,
    "start_time": "2021-11-06T17:02:42.913Z"
   },
   {
    "duration": 247,
    "start_time": "2021-11-06T17:03:07.499Z"
   },
   {
    "duration": 1116,
    "start_time": "2021-11-06T17:03:53.026Z"
   },
   {
    "duration": 802,
    "start_time": "2021-11-06T17:03:54.145Z"
   },
   {
    "duration": 156,
    "start_time": "2021-11-06T17:03:54.949Z"
   },
   {
    "duration": 67,
    "start_time": "2021-11-06T17:03:55.107Z"
   },
   {
    "duration": 134,
    "start_time": "2021-11-06T17:03:55.175Z"
   },
   {
    "duration": 3,
    "start_time": "2021-11-06T17:03:55.311Z"
   },
   {
    "duration": 20,
    "start_time": "2021-11-06T17:03:55.315Z"
   },
   {
    "duration": 12,
    "start_time": "2021-11-06T17:03:55.337Z"
   },
   {
    "duration": 36,
    "start_time": "2021-11-06T17:03:55.351Z"
   },
   {
    "duration": 121,
    "start_time": "2021-11-06T17:03:55.389Z"
   },
   {
    "duration": 9,
    "start_time": "2021-11-06T17:03:55.512Z"
   },
   {
    "duration": 10,
    "start_time": "2021-11-06T17:03:55.523Z"
   },
   {
    "duration": 9,
    "start_time": "2021-11-06T17:03:55.545Z"
   },
   {
    "duration": 6,
    "start_time": "2021-11-06T17:03:55.556Z"
   },
   {
    "duration": 10,
    "start_time": "2021-11-06T17:03:55.564Z"
   },
   {
    "duration": 5,
    "start_time": "2021-11-06T17:03:55.575Z"
   },
   {
    "duration": 10,
    "start_time": "2021-11-06T17:03:55.581Z"
   },
   {
    "duration": 9,
    "start_time": "2021-11-06T17:03:55.593Z"
   },
   {
    "duration": 45,
    "start_time": "2021-11-06T17:03:55.603Z"
   },
   {
    "duration": 4,
    "start_time": "2021-11-06T17:03:55.650Z"
   },
   {
    "duration": 27,
    "start_time": "2021-11-06T17:03:55.656Z"
   },
   {
    "duration": 4,
    "start_time": "2021-11-06T17:03:56.481Z"
   },
   {
    "duration": 12,
    "start_time": "2021-11-06T17:03:56.718Z"
   },
   {
    "duration": 71,
    "start_time": "2021-11-06T17:03:56.911Z"
   },
   {
    "duration": 16,
    "start_time": "2021-11-06T17:03:58.003Z"
   },
   {
    "duration": 243,
    "start_time": "2021-11-06T17:03:58.091Z"
   },
   {
    "duration": 251,
    "start_time": "2021-11-06T17:03:58.336Z"
   },
   {
    "duration": 255,
    "start_time": "2021-11-06T17:03:58.589Z"
   },
   {
    "duration": 196,
    "start_time": "2021-11-06T17:03:58.846Z"
   },
   {
    "duration": 5,
    "start_time": "2021-11-06T17:03:59.044Z"
   },
   {
    "duration": 6,
    "start_time": "2021-11-06T17:03:59.051Z"
   },
   {
    "duration": 4,
    "start_time": "2021-11-06T17:03:59.193Z"
   },
   {
    "duration": 196,
    "start_time": "2021-11-06T17:03:59.470Z"
   },
   {
    "duration": 1012,
    "start_time": "2021-11-06T17:03:59.948Z"
   },
   {
    "duration": 3,
    "start_time": "2021-11-06T17:04:07.978Z"
   },
   {
    "duration": 13,
    "start_time": "2021-11-06T17:04:08.576Z"
   },
   {
    "duration": 369,
    "start_time": "2021-11-06T17:04:09.296Z"
   },
   {
    "duration": 1220,
    "start_time": "2021-11-06T17:06:21.141Z"
   },
   {
    "duration": 751,
    "start_time": "2021-11-06T17:06:22.364Z"
   },
   {
    "duration": 172,
    "start_time": "2021-11-06T17:06:23.117Z"
   },
   {
    "duration": 70,
    "start_time": "2021-11-06T17:06:23.291Z"
   },
   {
    "duration": 153,
    "start_time": "2021-11-06T17:06:23.363Z"
   },
   {
    "duration": 3,
    "start_time": "2021-11-06T17:06:23.518Z"
   },
   {
    "duration": 21,
    "start_time": "2021-11-06T17:06:23.523Z"
   },
   {
    "duration": 5,
    "start_time": "2021-11-06T17:06:23.547Z"
   },
   {
    "duration": 55,
    "start_time": "2021-11-06T17:06:23.554Z"
   },
   {
    "duration": 122,
    "start_time": "2021-11-06T17:06:23.611Z"
   },
   {
    "duration": 14,
    "start_time": "2021-11-06T17:06:23.735Z"
   },
   {
    "duration": 4,
    "start_time": "2021-11-06T17:06:23.751Z"
   },
   {
    "duration": 25,
    "start_time": "2021-11-06T17:06:23.757Z"
   },
   {
    "duration": 10,
    "start_time": "2021-11-06T17:06:23.783Z"
   },
   {
    "duration": 26,
    "start_time": "2021-11-06T17:06:23.794Z"
   },
   {
    "duration": 18,
    "start_time": "2021-11-06T17:06:23.822Z"
   },
   {
    "duration": 24,
    "start_time": "2021-11-06T17:06:23.841Z"
   },
   {
    "duration": 15,
    "start_time": "2021-11-06T17:06:23.867Z"
   },
   {
    "duration": 26,
    "start_time": "2021-11-06T17:06:23.884Z"
   },
   {
    "duration": 11,
    "start_time": "2021-11-06T17:06:23.912Z"
   },
   {
    "duration": 16,
    "start_time": "2021-11-06T17:06:23.924Z"
   },
   {
    "duration": 12,
    "start_time": "2021-11-06T17:06:23.941Z"
   },
   {
    "duration": 24,
    "start_time": "2021-11-06T17:06:23.955Z"
   },
   {
    "duration": 76,
    "start_time": "2021-11-06T17:06:23.981Z"
   },
   {
    "duration": 17,
    "start_time": "2021-11-06T17:06:24.317Z"
   },
   {
    "duration": 245,
    "start_time": "2021-11-06T17:06:24.409Z"
   },
   {
    "duration": 267,
    "start_time": "2021-11-06T17:06:24.656Z"
   },
   {
    "duration": 261,
    "start_time": "2021-11-06T17:06:24.925Z"
   },
   {
    "duration": 314,
    "start_time": "2021-11-06T17:06:25.188Z"
   },
   {
    "duration": 5,
    "start_time": "2021-11-06T17:06:25.504Z"
   },
   {
    "duration": 14,
    "start_time": "2021-11-06T17:06:25.512Z"
   },
   {
    "duration": 18,
    "start_time": "2021-11-06T17:06:25.528Z"
   },
   {
    "duration": 226,
    "start_time": "2021-11-06T17:06:25.674Z"
   },
   {
    "duration": 4,
    "start_time": "2021-11-06T17:06:26.679Z"
   },
   {
    "duration": 354,
    "start_time": "2021-11-06T17:06:27.192Z"
   },
   {
    "duration": 18,
    "start_time": "2021-11-06T17:06:39.544Z"
   },
   {
    "duration": 363,
    "start_time": "2021-11-06T17:06:40.294Z"
   },
   {
    "duration": 3,
    "start_time": "2021-11-06T17:07:42.268Z"
   },
   {
    "duration": 270,
    "start_time": "2021-11-06T17:07:42.679Z"
   },
   {
    "duration": 275,
    "start_time": "2021-11-06T17:07:43.710Z"
   },
   {
    "duration": 1130,
    "start_time": "2021-11-06T17:09:39.015Z"
   },
   {
    "duration": 662,
    "start_time": "2021-11-06T17:09:40.147Z"
   },
   {
    "duration": 155,
    "start_time": "2021-11-06T17:09:40.811Z"
   },
   {
    "duration": 54,
    "start_time": "2021-11-06T17:09:40.968Z"
   },
   {
    "duration": 147,
    "start_time": "2021-11-06T17:09:41.024Z"
   },
   {
    "duration": 3,
    "start_time": "2021-11-06T17:09:41.172Z"
   },
   {
    "duration": 12,
    "start_time": "2021-11-06T17:09:41.177Z"
   },
   {
    "duration": 6,
    "start_time": "2021-11-06T17:09:41.191Z"
   },
   {
    "duration": 51,
    "start_time": "2021-11-06T17:09:41.199Z"
   },
   {
    "duration": 119,
    "start_time": "2021-11-06T17:09:41.252Z"
   },
   {
    "duration": 8,
    "start_time": "2021-11-06T17:09:41.373Z"
   },
   {
    "duration": 17,
    "start_time": "2021-11-06T17:09:41.383Z"
   },
   {
    "duration": 9,
    "start_time": "2021-11-06T17:09:41.654Z"
   },
   {
    "duration": 5,
    "start_time": "2021-11-06T17:09:41.887Z"
   },
   {
    "duration": 11,
    "start_time": "2021-11-06T17:09:42.126Z"
   },
   {
    "duration": 5,
    "start_time": "2021-11-06T17:09:42.363Z"
   },
   {
    "duration": 10,
    "start_time": "2021-11-06T17:09:42.623Z"
   },
   {
    "duration": 5,
    "start_time": "2021-11-06T17:09:42.866Z"
   },
   {
    "duration": 9,
    "start_time": "2021-11-06T17:09:43.142Z"
   },
   {
    "duration": 6,
    "start_time": "2021-11-06T17:09:43.397Z"
   },
   {
    "duration": 9,
    "start_time": "2021-11-06T17:09:43.647Z"
   },
   {
    "duration": 5,
    "start_time": "2021-11-06T17:09:43.905Z"
   },
   {
    "duration": 11,
    "start_time": "2021-11-06T17:09:44.173Z"
   },
   {
    "duration": 70,
    "start_time": "2021-11-06T17:09:44.624Z"
   },
   {
    "duration": 16,
    "start_time": "2021-11-06T17:09:46.083Z"
   },
   {
    "duration": 236,
    "start_time": "2021-11-06T17:09:46.415Z"
   },
   {
    "duration": 254,
    "start_time": "2021-11-06T17:09:47.134Z"
   },
   {
    "duration": 252,
    "start_time": "2021-11-06T17:09:47.758Z"
   },
   {
    "duration": 196,
    "start_time": "2021-11-06T17:09:48.313Z"
   },
   {
    "duration": 5,
    "start_time": "2021-11-06T17:09:48.967Z"
   },
   {
    "duration": 4,
    "start_time": "2021-11-06T17:09:49.280Z"
   },
   {
    "duration": 6,
    "start_time": "2021-11-06T17:09:49.518Z"
   },
   {
    "duration": 214,
    "start_time": "2021-11-06T17:09:49.733Z"
   },
   {
    "duration": 30,
    "start_time": "2021-11-06T17:09:50.219Z"
   },
   {
    "duration": 4,
    "start_time": "2021-11-06T17:09:51.021Z"
   },
   {
    "duration": 33,
    "start_time": "2021-11-06T17:10:44.952Z"
   },
   {
    "duration": 428,
    "start_time": "2021-11-06T17:11:08.394Z"
   },
   {
    "duration": 1087,
    "start_time": "2021-11-06T17:11:23.364Z"
   },
   {
    "duration": 750,
    "start_time": "2021-11-06T17:11:24.453Z"
   },
   {
    "duration": 170,
    "start_time": "2021-11-06T17:11:25.205Z"
   },
   {
    "duration": 70,
    "start_time": "2021-11-06T17:11:25.377Z"
   },
   {
    "duration": 154,
    "start_time": "2021-11-06T17:11:25.449Z"
   },
   {
    "duration": 4,
    "start_time": "2021-11-06T17:11:25.605Z"
   },
   {
    "duration": 16,
    "start_time": "2021-11-06T17:11:25.610Z"
   },
   {
    "duration": 17,
    "start_time": "2021-11-06T17:11:25.629Z"
   },
   {
    "duration": 44,
    "start_time": "2021-11-06T17:11:25.648Z"
   },
   {
    "duration": 127,
    "start_time": "2021-11-06T17:11:25.693Z"
   },
   {
    "duration": 28,
    "start_time": "2021-11-06T17:11:25.821Z"
   },
   {
    "duration": 5,
    "start_time": "2021-11-06T17:11:25.852Z"
   },
   {
    "duration": 10,
    "start_time": "2021-11-06T17:11:25.859Z"
   },
   {
    "duration": 13,
    "start_time": "2021-11-06T17:11:25.871Z"
   },
   {
    "duration": 20,
    "start_time": "2021-11-06T17:11:25.885Z"
   },
   {
    "duration": 11,
    "start_time": "2021-11-06T17:11:25.906Z"
   },
   {
    "duration": 39,
    "start_time": "2021-11-06T17:11:25.918Z"
   },
   {
    "duration": 12,
    "start_time": "2021-11-06T17:11:25.959Z"
   },
   {
    "duration": 22,
    "start_time": "2021-11-06T17:11:25.973Z"
   },
   {
    "duration": 13,
    "start_time": "2021-11-06T17:11:25.997Z"
   },
   {
    "duration": 15,
    "start_time": "2021-11-06T17:11:26.011Z"
   },
   {
    "duration": 26,
    "start_time": "2021-11-06T17:11:26.028Z"
   },
   {
    "duration": 14,
    "start_time": "2021-11-06T17:11:26.110Z"
   },
   {
    "duration": 76,
    "start_time": "2021-11-06T17:11:26.183Z"
   },
   {
    "duration": 16,
    "start_time": "2021-11-06T17:11:26.517Z"
   },
   {
    "duration": 250,
    "start_time": "2021-11-06T17:11:26.601Z"
   },
   {
    "duration": 255,
    "start_time": "2021-11-06T17:11:26.853Z"
   },
   {
    "duration": 267,
    "start_time": "2021-11-06T17:11:27.110Z"
   },
   {
    "duration": 216,
    "start_time": "2021-11-06T17:11:27.379Z"
   },
   {
    "duration": 5,
    "start_time": "2021-11-06T17:11:27.597Z"
   },
   {
    "duration": 11,
    "start_time": "2021-11-06T17:11:27.604Z"
   },
   {
    "duration": 5,
    "start_time": "2021-11-06T17:11:28.495Z"
   },
   {
    "duration": 211,
    "start_time": "2021-11-06T17:11:28.718Z"
   },
   {
    "duration": 36,
    "start_time": "2021-11-06T17:11:29.095Z"
   },
   {
    "duration": 3,
    "start_time": "2021-11-06T17:11:38.012Z"
   },
   {
    "duration": 6,
    "start_time": "2021-11-06T17:11:39.755Z"
   },
   {
    "duration": 366,
    "start_time": "2021-11-06T17:11:51.178Z"
   },
   {
    "duration": 1128,
    "start_time": "2021-11-06T17:16:09.303Z"
   },
   {
    "duration": 757,
    "start_time": "2021-11-06T17:16:10.433Z"
   },
   {
    "duration": 174,
    "start_time": "2021-11-06T17:16:11.192Z"
   },
   {
    "duration": 55,
    "start_time": "2021-11-06T17:16:11.368Z"
   },
   {
    "duration": 164,
    "start_time": "2021-11-06T17:16:11.445Z"
   },
   {
    "duration": 3,
    "start_time": "2021-11-06T17:16:11.611Z"
   },
   {
    "duration": 31,
    "start_time": "2021-11-06T17:16:11.616Z"
   },
   {
    "duration": 6,
    "start_time": "2021-11-06T17:16:11.649Z"
   },
   {
    "duration": 107,
    "start_time": "2021-11-06T17:16:11.657Z"
   },
   {
    "duration": 133,
    "start_time": "2021-11-06T17:16:11.766Z"
   },
   {
    "duration": 11,
    "start_time": "2021-11-06T17:16:11.901Z"
   },
   {
    "duration": 5,
    "start_time": "2021-11-06T17:16:11.914Z"
   },
   {
    "duration": 12,
    "start_time": "2021-11-06T17:16:11.945Z"
   },
   {
    "duration": 30,
    "start_time": "2021-11-06T17:16:11.959Z"
   },
   {
    "duration": 16,
    "start_time": "2021-11-06T17:16:11.991Z"
   },
   {
    "duration": 5,
    "start_time": "2021-11-06T17:16:12.009Z"
   },
   {
    "duration": 23,
    "start_time": "2021-11-06T17:16:12.015Z"
   },
   {
    "duration": 7,
    "start_time": "2021-11-06T17:16:12.040Z"
   },
   {
    "duration": 15,
    "start_time": "2021-11-06T17:16:12.049Z"
   },
   {
    "duration": 6,
    "start_time": "2021-11-06T17:16:12.066Z"
   },
   {
    "duration": 23,
    "start_time": "2021-11-06T17:16:12.074Z"
   },
   {
    "duration": 8,
    "start_time": "2021-11-06T17:16:12.098Z"
   },
   {
    "duration": 14,
    "start_time": "2021-11-06T17:16:12.108Z"
   },
   {
    "duration": 72,
    "start_time": "2021-11-06T17:16:12.145Z"
   },
   {
    "duration": 16,
    "start_time": "2021-11-06T17:16:12.475Z"
   },
   {
    "duration": 241,
    "start_time": "2021-11-06T17:16:12.557Z"
   },
   {
    "duration": 338,
    "start_time": "2021-11-06T17:16:13.708Z"
   },
   {
    "duration": 273,
    "start_time": "2021-11-06T17:16:14.049Z"
   },
   {
    "duration": 208,
    "start_time": "2021-11-06T17:16:14.324Z"
   },
   {
    "duration": 5,
    "start_time": "2021-11-06T17:16:14.701Z"
   },
   {
    "duration": 5,
    "start_time": "2021-11-06T17:16:15.200Z"
   },
   {
    "duration": 4,
    "start_time": "2021-11-06T17:16:15.285Z"
   },
   {
    "duration": 225,
    "start_time": "2021-11-06T17:16:15.369Z"
   },
   {
    "duration": 35,
    "start_time": "2021-11-06T17:16:15.596Z"
   },
   {
    "duration": 4,
    "start_time": "2021-11-06T17:16:16.333Z"
   },
   {
    "duration": 6,
    "start_time": "2021-11-06T17:16:16.756Z"
   },
   {
    "duration": 1188,
    "start_time": "2021-11-06T17:16:18.064Z"
   },
   {
    "duration": 4,
    "start_time": "2021-11-06T17:16:28.678Z"
   },
   {
    "duration": 1054,
    "start_time": "2021-11-06T17:19:16.891Z"
   },
   {
    "duration": 746,
    "start_time": "2021-11-06T17:19:17.947Z"
   },
   {
    "duration": 168,
    "start_time": "2021-11-06T17:19:18.695Z"
   },
   {
    "duration": 51,
    "start_time": "2021-11-06T17:19:18.865Z"
   },
   {
    "duration": 153,
    "start_time": "2021-11-06T17:19:18.918Z"
   },
   {
    "duration": 4,
    "start_time": "2021-11-06T17:19:19.072Z"
   },
   {
    "duration": 16,
    "start_time": "2021-11-06T17:19:19.077Z"
   },
   {
    "duration": 5,
    "start_time": "2021-11-06T17:19:19.095Z"
   },
   {
    "duration": 56,
    "start_time": "2021-11-06T17:19:19.102Z"
   },
   {
    "duration": 127,
    "start_time": "2021-11-06T17:19:19.160Z"
   },
   {
    "duration": 10,
    "start_time": "2021-11-06T17:19:19.289Z"
   },
   {
    "duration": 7,
    "start_time": "2021-11-06T17:19:19.300Z"
   },
   {
    "duration": 11,
    "start_time": "2021-11-06T17:19:19.308Z"
   },
   {
    "duration": 27,
    "start_time": "2021-11-06T17:19:19.320Z"
   },
   {
    "duration": 14,
    "start_time": "2021-11-06T17:19:19.349Z"
   },
   {
    "duration": 8,
    "start_time": "2021-11-06T17:19:19.365Z"
   },
   {
    "duration": 13,
    "start_time": "2021-11-06T17:19:19.375Z"
   },
   {
    "duration": 5,
    "start_time": "2021-11-06T17:19:19.389Z"
   },
   {
    "duration": 13,
    "start_time": "2021-11-06T17:19:19.395Z"
   },
   {
    "duration": 36,
    "start_time": "2021-11-06T17:19:19.410Z"
   },
   {
    "duration": 10,
    "start_time": "2021-11-06T17:19:19.490Z"
   },
   {
    "duration": 6,
    "start_time": "2021-11-06T17:19:19.569Z"
   },
   {
    "duration": 11,
    "start_time": "2021-11-06T17:19:19.649Z"
   },
   {
    "duration": 74,
    "start_time": "2021-11-06T17:19:19.731Z"
   },
   {
    "duration": 16,
    "start_time": "2021-11-06T17:19:20.908Z"
   },
   {
    "duration": 247,
    "start_time": "2021-11-06T17:19:21.404Z"
   },
   {
    "duration": 243,
    "start_time": "2021-11-06T17:19:22.149Z"
   },
   {
    "duration": 247,
    "start_time": "2021-11-06T17:19:22.808Z"
   },
   {
    "duration": 187,
    "start_time": "2021-11-06T17:19:23.428Z"
   },
   {
    "duration": 4,
    "start_time": "2021-11-06T17:19:24.008Z"
   },
   {
    "duration": 5,
    "start_time": "2021-11-06T17:19:24.310Z"
   },
   {
    "duration": 4,
    "start_time": "2021-11-06T17:19:24.576Z"
   },
   {
    "duration": 194,
    "start_time": "2021-11-06T17:19:24.816Z"
   },
   {
    "duration": 32,
    "start_time": "2021-11-06T17:19:25.321Z"
   },
   {
    "duration": 3,
    "start_time": "2021-11-06T17:19:25.648Z"
   },
   {
    "duration": 6,
    "start_time": "2021-11-06T17:19:25.900Z"
   },
   {
    "duration": 11,
    "start_time": "2021-11-06T17:19:26.639Z"
   },
   {
    "duration": 188,
    "start_time": "2021-11-06T17:19:27.155Z"
   },
   {
    "duration": 4619,
    "start_time": "2021-11-06T17:19:27.531Z"
   },
   {
    "duration": 4,
    "start_time": "2021-11-06T17:20:17.694Z"
   },
   {
    "duration": 5,
    "start_time": "2021-11-06T17:20:40.562Z"
   },
   {
    "duration": 4,
    "start_time": "2021-11-06T17:25:47.693Z"
   },
   {
    "duration": 120,
    "start_time": "2021-11-06T17:27:49.623Z"
   },
   {
    "duration": 4,
    "start_time": "2021-11-06T17:27:52.594Z"
   },
   {
    "duration": 5,
    "start_time": "2021-11-06T17:27:53.389Z"
   },
   {
    "duration": 217,
    "start_time": "2021-11-06T17:28:19.335Z"
   },
   {
    "duration": 4,
    "start_time": "2021-11-06T17:28:19.745Z"
   },
   {
    "duration": 5,
    "start_time": "2021-11-06T17:28:20.036Z"
   },
   {
    "duration": 206,
    "start_time": "2021-11-06T17:29:18.242Z"
   },
   {
    "duration": 4,
    "start_time": "2021-11-06T17:29:18.547Z"
   },
   {
    "duration": 75,
    "start_time": "2021-11-06T17:29:18.868Z"
   },
   {
    "duration": 1035,
    "start_time": "2021-11-06T17:31:25.192Z"
   },
   {
    "duration": 706,
    "start_time": "2021-11-06T17:31:26.229Z"
   },
   {
    "duration": 167,
    "start_time": "2021-11-06T17:31:26.937Z"
   },
   {
    "duration": 63,
    "start_time": "2021-11-06T17:31:27.106Z"
   },
   {
    "duration": 157,
    "start_time": "2021-11-06T17:31:27.171Z"
   },
   {
    "duration": 3,
    "start_time": "2021-11-06T17:31:27.329Z"
   },
   {
    "duration": 13,
    "start_time": "2021-11-06T17:31:27.334Z"
   },
   {
    "duration": 5,
    "start_time": "2021-11-06T17:31:27.349Z"
   },
   {
    "duration": 43,
    "start_time": "2021-11-06T17:31:27.355Z"
   },
   {
    "duration": 131,
    "start_time": "2021-11-06T17:31:27.400Z"
   },
   {
    "duration": 18,
    "start_time": "2021-11-06T17:31:27.533Z"
   },
   {
    "duration": 4,
    "start_time": "2021-11-06T17:31:27.553Z"
   },
   {
    "duration": 18,
    "start_time": "2021-11-06T17:31:27.558Z"
   },
   {
    "duration": 6,
    "start_time": "2021-11-06T17:31:27.604Z"
   },
   {
    "duration": 9,
    "start_time": "2021-11-06T17:31:27.693Z"
   },
   {
    "duration": 5,
    "start_time": "2021-11-06T17:31:27.767Z"
   },
   {
    "duration": 9,
    "start_time": "2021-11-06T17:31:27.849Z"
   },
   {
    "duration": 5,
    "start_time": "2021-11-06T17:31:27.933Z"
   },
   {
    "duration": 9,
    "start_time": "2021-11-06T17:31:28.016Z"
   },
   {
    "duration": 5,
    "start_time": "2021-11-06T17:31:28.105Z"
   },
   {
    "duration": 10,
    "start_time": "2021-11-06T17:31:28.184Z"
   },
   {
    "duration": 5,
    "start_time": "2021-11-06T17:31:28.268Z"
   },
   {
    "duration": 10,
    "start_time": "2021-11-06T17:31:28.352Z"
   },
   {
    "duration": 69,
    "start_time": "2021-11-06T17:31:28.434Z"
   },
   {
    "duration": 16,
    "start_time": "2021-11-06T17:31:28.772Z"
   },
   {
    "duration": 234,
    "start_time": "2021-11-06T17:31:28.854Z"
   },
   {
    "duration": 226,
    "start_time": "2021-11-06T17:31:29.696Z"
   },
   {
    "duration": 251,
    "start_time": "2021-11-06T17:31:29.924Z"
   },
   {
    "duration": 205,
    "start_time": "2021-11-06T17:31:30.177Z"
   },
   {
    "duration": 4,
    "start_time": "2021-11-06T17:31:30.384Z"
   },
   {
    "duration": 10,
    "start_time": "2021-11-06T17:31:30.390Z"
   },
   {
    "duration": 7,
    "start_time": "2021-11-06T17:31:30.402Z"
   },
   {
    "duration": 199,
    "start_time": "2021-11-06T17:31:30.788Z"
   },
   {
    "duration": 34,
    "start_time": "2021-11-06T17:31:31.376Z"
   },
   {
    "duration": 4,
    "start_time": "2021-11-06T17:31:31.458Z"
   },
   {
    "duration": 5,
    "start_time": "2021-11-06T17:31:31.541Z"
   },
   {
    "duration": 9,
    "start_time": "2021-11-06T17:31:32.551Z"
   },
   {
    "duration": 121,
    "start_time": "2021-11-06T17:31:32.932Z"
   },
   {
    "duration": 4,
    "start_time": "2021-11-06T17:31:34.220Z"
   },
   {
    "duration": 5,
    "start_time": "2021-11-06T17:31:35.066Z"
   },
   {
    "duration": 1298,
    "start_time": "2021-11-06T17:34:55.037Z"
   },
   {
    "duration": 734,
    "start_time": "2021-11-06T17:34:56.337Z"
   },
   {
    "duration": 162,
    "start_time": "2021-11-06T17:34:57.073Z"
   },
   {
    "duration": 55,
    "start_time": "2021-11-06T17:34:57.236Z"
   },
   {
    "duration": 155,
    "start_time": "2021-11-06T17:34:57.293Z"
   },
   {
    "duration": 3,
    "start_time": "2021-11-06T17:34:57.449Z"
   },
   {
    "duration": 20,
    "start_time": "2021-11-06T17:34:57.453Z"
   },
   {
    "duration": 6,
    "start_time": "2021-11-06T17:34:57.476Z"
   },
   {
    "duration": 60,
    "start_time": "2021-11-06T17:34:57.484Z"
   },
   {
    "duration": 116,
    "start_time": "2021-11-06T17:34:57.546Z"
   },
   {
    "duration": 8,
    "start_time": "2021-11-06T17:34:57.664Z"
   },
   {
    "duration": 4,
    "start_time": "2021-11-06T17:34:57.674Z"
   },
   {
    "duration": 9,
    "start_time": "2021-11-06T17:34:57.680Z"
   },
   {
    "duration": 7,
    "start_time": "2021-11-06T17:34:57.691Z"
   },
   {
    "duration": 15,
    "start_time": "2021-11-06T17:34:57.699Z"
   },
   {
    "duration": 32,
    "start_time": "2021-11-06T17:34:57.716Z"
   },
   {
    "duration": 14,
    "start_time": "2021-11-06T17:34:57.750Z"
   },
   {
    "duration": 10,
    "start_time": "2021-11-06T17:34:57.765Z"
   },
   {
    "duration": 17,
    "start_time": "2021-11-06T17:34:57.777Z"
   },
   {
    "duration": 13,
    "start_time": "2021-11-06T17:34:57.796Z"
   },
   {
    "duration": 27,
    "start_time": "2021-11-06T17:34:57.811Z"
   },
   {
    "duration": 19,
    "start_time": "2021-11-06T17:34:57.839Z"
   },
   {
    "duration": 30,
    "start_time": "2021-11-06T17:34:57.860Z"
   },
   {
    "duration": 69,
    "start_time": "2021-11-06T17:34:57.892Z"
   },
   {
    "duration": 17,
    "start_time": "2021-11-06T17:34:58.215Z"
   },
   {
    "duration": 243,
    "start_time": "2021-11-06T17:34:58.314Z"
   },
   {
    "duration": 239,
    "start_time": "2021-11-06T17:34:58.559Z"
   },
   {
    "duration": 248,
    "start_time": "2021-11-06T17:34:59.315Z"
   },
   {
    "duration": 193,
    "start_time": "2021-11-06T17:34:59.698Z"
   },
   {
    "duration": 5,
    "start_time": "2021-11-06T17:35:00.111Z"
   },
   {
    "duration": 6,
    "start_time": "2021-11-06T17:35:00.354Z"
   },
   {
    "duration": 6,
    "start_time": "2021-11-06T17:35:00.563Z"
   },
   {
    "duration": 206,
    "start_time": "2021-11-06T17:35:00.788Z"
   },
   {
    "duration": 35,
    "start_time": "2021-11-06T17:35:01.270Z"
   },
   {
    "duration": 5,
    "start_time": "2021-11-06T17:35:01.490Z"
   },
   {
    "duration": 6,
    "start_time": "2021-11-06T17:35:02.214Z"
   },
   {
    "duration": 10,
    "start_time": "2021-11-06T17:35:03.767Z"
   },
   {
    "duration": 137,
    "start_time": "2021-11-06T17:35:04.308Z"
   },
   {
    "duration": 97,
    "start_time": "2021-11-06T17:35:04.554Z"
   },
   {
    "duration": 1171,
    "start_time": "2021-11-06T17:40:26.667Z"
   },
   {
    "duration": 678,
    "start_time": "2021-11-06T17:40:27.839Z"
   },
   {
    "duration": 161,
    "start_time": "2021-11-06T17:40:28.519Z"
   },
   {
    "duration": 68,
    "start_time": "2021-11-06T17:40:28.681Z"
   },
   {
    "duration": 144,
    "start_time": "2021-11-06T17:40:28.751Z"
   },
   {
    "duration": 3,
    "start_time": "2021-11-06T17:40:28.897Z"
   },
   {
    "duration": 21,
    "start_time": "2021-11-06T17:40:28.902Z"
   },
   {
    "duration": 5,
    "start_time": "2021-11-06T17:40:28.926Z"
   },
   {
    "duration": 46,
    "start_time": "2021-11-06T17:40:28.933Z"
   },
   {
    "duration": 131,
    "start_time": "2021-11-06T17:40:28.981Z"
   },
   {
    "duration": 10,
    "start_time": "2021-11-06T17:40:29.113Z"
   },
   {
    "duration": 5,
    "start_time": "2021-11-06T17:40:29.124Z"
   },
   {
    "duration": 11,
    "start_time": "2021-11-06T17:40:29.144Z"
   },
   {
    "duration": 4,
    "start_time": "2021-11-06T17:40:29.157Z"
   },
   {
    "duration": 11,
    "start_time": "2021-11-06T17:40:29.163Z"
   },
   {
    "duration": 4,
    "start_time": "2021-11-06T17:40:29.176Z"
   },
   {
    "duration": 9,
    "start_time": "2021-11-06T17:40:30.156Z"
   },
   {
    "duration": 6,
    "start_time": "2021-11-06T17:40:30.653Z"
   },
   {
    "duration": 10,
    "start_time": "2021-11-06T17:40:30.749Z"
   },
   {
    "duration": 6,
    "start_time": "2021-11-06T17:40:30.819Z"
   },
   {
    "duration": 11,
    "start_time": "2021-11-06T17:40:30.903Z"
   },
   {
    "duration": 6,
    "start_time": "2021-11-06T17:40:31.440Z"
   },
   {
    "duration": 10,
    "start_time": "2021-11-06T17:40:31.740Z"
   },
   {
    "duration": 72,
    "start_time": "2021-11-06T17:40:32.029Z"
   },
   {
    "duration": 15,
    "start_time": "2021-11-06T17:40:32.974Z"
   },
   {
    "duration": 234,
    "start_time": "2021-11-06T17:40:33.057Z"
   },
   {
    "duration": 251,
    "start_time": "2021-11-06T17:40:33.293Z"
   },
   {
    "duration": 253,
    "start_time": "2021-11-06T17:40:33.698Z"
   },
   {
    "duration": 245,
    "start_time": "2021-11-06T17:40:34.282Z"
   },
   {
    "duration": 15,
    "start_time": "2021-11-06T17:40:34.530Z"
   },
   {
    "duration": 5,
    "start_time": "2021-11-06T17:40:34.880Z"
   },
   {
    "duration": 5,
    "start_time": "2021-11-06T17:40:35.386Z"
   },
   {
    "duration": 239,
    "start_time": "2021-11-06T17:40:35.466Z"
   },
   {
    "duration": 39,
    "start_time": "2021-11-06T17:40:35.707Z"
   },
   {
    "duration": 4,
    "start_time": "2021-11-06T17:40:35.936Z"
   },
   {
    "duration": 6,
    "start_time": "2021-11-06T17:40:37.924Z"
   },
   {
    "duration": 4,
    "start_time": "2021-11-06T17:40:40.613Z"
   },
   {
    "duration": 349,
    "start_time": "2021-11-06T17:40:41.188Z"
   },
   {
    "duration": 1584,
    "start_time": "2021-11-06T17:41:38.481Z"
   },
   {
    "duration": 1097,
    "start_time": "2021-11-06T17:42:06.751Z"
   },
   {
    "duration": 730,
    "start_time": "2021-11-06T17:42:07.851Z"
   },
   {
    "duration": 170,
    "start_time": "2021-11-06T17:42:08.583Z"
   },
   {
    "duration": 53,
    "start_time": "2021-11-06T17:42:08.755Z"
   },
   {
    "duration": 165,
    "start_time": "2021-11-06T17:42:08.809Z"
   },
   {
    "duration": 3,
    "start_time": "2021-11-06T17:42:08.975Z"
   },
   {
    "duration": 19,
    "start_time": "2021-11-06T17:42:08.980Z"
   },
   {
    "duration": 5,
    "start_time": "2021-11-06T17:42:09.001Z"
   },
   {
    "duration": 54,
    "start_time": "2021-11-06T17:42:09.008Z"
   },
   {
    "duration": 123,
    "start_time": "2021-11-06T17:42:09.064Z"
   },
   {
    "duration": 9,
    "start_time": "2021-11-06T17:42:09.189Z"
   },
   {
    "duration": 6,
    "start_time": "2021-11-06T17:42:09.199Z"
   },
   {
    "duration": 16,
    "start_time": "2021-11-06T17:42:09.207Z"
   },
   {
    "duration": 6,
    "start_time": "2021-11-06T17:42:09.246Z"
   },
   {
    "duration": 14,
    "start_time": "2021-11-06T17:42:09.254Z"
   },
   {
    "duration": 5,
    "start_time": "2021-11-06T17:42:09.270Z"
   },
   {
    "duration": 27,
    "start_time": "2021-11-06T17:42:09.278Z"
   },
   {
    "duration": 5,
    "start_time": "2021-11-06T17:42:09.307Z"
   },
   {
    "duration": 14,
    "start_time": "2021-11-06T17:42:09.344Z"
   },
   {
    "duration": 6,
    "start_time": "2021-11-06T17:42:09.360Z"
   },
   {
    "duration": 13,
    "start_time": "2021-11-06T17:42:09.389Z"
   },
   {
    "duration": 10,
    "start_time": "2021-11-06T17:42:09.443Z"
   },
   {
    "duration": 15,
    "start_time": "2021-11-06T17:42:09.515Z"
   },
   {
    "duration": 74,
    "start_time": "2021-11-06T17:42:09.596Z"
   },
   {
    "duration": 18,
    "start_time": "2021-11-06T17:42:09.931Z"
   },
   {
    "duration": 245,
    "start_time": "2021-11-06T17:42:10.019Z"
   },
   {
    "duration": 245,
    "start_time": "2021-11-06T17:42:10.266Z"
   },
   {
    "duration": 267,
    "start_time": "2021-11-06T17:42:10.512Z"
   },
   {
    "duration": 212,
    "start_time": "2021-11-06T17:42:10.781Z"
   },
   {
    "duration": 4,
    "start_time": "2021-11-06T17:42:10.995Z"
   },
   {
    "duration": 19,
    "start_time": "2021-11-06T17:42:11.001Z"
   },
   {
    "duration": 15,
    "start_time": "2021-11-06T17:42:11.023Z"
   },
   {
    "duration": 220,
    "start_time": "2021-11-06T17:42:11.040Z"
   },
   {
    "duration": 34,
    "start_time": "2021-11-06T17:42:11.262Z"
   },
   {
    "duration": 4,
    "start_time": "2021-11-06T17:42:11.298Z"
   },
   {
    "duration": 13,
    "start_time": "2021-11-06T17:42:11.304Z"
   },
   {
    "duration": 2,
    "start_time": "2021-11-06T17:42:11.363Z"
   },
   {
    "duration": 1727,
    "start_time": "2021-11-06T17:42:11.446Z"
   },
   {
    "duration": 4,
    "start_time": "2021-11-06T17:42:13.175Z"
   },
   {
    "duration": 1668,
    "start_time": "2021-11-06T17:44:28.108Z"
   },
   {
    "duration": 3,
    "start_time": "2021-11-06T17:44:29.778Z"
   },
   {
    "duration": 340,
    "start_time": "2021-11-06T17:45:37.948Z"
   },
   {
    "duration": 1551,
    "start_time": "2021-11-06T17:45:40.212Z"
   },
   {
    "duration": 3,
    "start_time": "2021-11-06T17:45:41.765Z"
   },
   {
    "duration": 1084,
    "start_time": "2021-11-06T17:46:50.664Z"
   },
   {
    "duration": 731,
    "start_time": "2021-11-06T17:46:51.750Z"
   },
   {
    "duration": 171,
    "start_time": "2021-11-06T17:46:52.482Z"
   },
   {
    "duration": 53,
    "start_time": "2021-11-06T17:46:52.655Z"
   },
   {
    "duration": 161,
    "start_time": "2021-11-06T17:46:52.709Z"
   },
   {
    "duration": 4,
    "start_time": "2021-11-06T17:46:52.871Z"
   },
   {
    "duration": 19,
    "start_time": "2021-11-06T17:46:52.876Z"
   },
   {
    "duration": 5,
    "start_time": "2021-11-06T17:46:52.933Z"
   },
   {
    "duration": 47,
    "start_time": "2021-11-06T17:46:53.328Z"
   },
   {
    "duration": 105,
    "start_time": "2021-11-06T17:46:54.166Z"
   },
   {
    "duration": 9,
    "start_time": "2021-11-06T17:46:54.432Z"
   },
   {
    "duration": 5,
    "start_time": "2021-11-06T17:46:54.915Z"
   },
   {
    "duration": 10,
    "start_time": "2021-11-06T17:46:55.405Z"
   },
   {
    "duration": 5,
    "start_time": "2021-11-06T17:46:55.860Z"
   },
   {
    "duration": 11,
    "start_time": "2021-11-06T17:46:56.259Z"
   },
   {
    "duration": 5,
    "start_time": "2021-11-06T17:46:56.605Z"
   },
   {
    "duration": 9,
    "start_time": "2021-11-06T17:46:56.846Z"
   },
   {
    "duration": 6,
    "start_time": "2021-11-06T17:46:57.151Z"
   },
   {
    "duration": 10,
    "start_time": "2021-11-06T17:46:57.425Z"
   },
   {
    "duration": 5,
    "start_time": "2021-11-06T17:46:57.729Z"
   },
   {
    "duration": 9,
    "start_time": "2021-11-06T17:46:58.020Z"
   },
   {
    "duration": 6,
    "start_time": "2021-11-06T17:46:58.361Z"
   },
   {
    "duration": 12,
    "start_time": "2021-11-06T17:46:58.743Z"
   },
   {
    "duration": 75,
    "start_time": "2021-11-06T17:46:59.044Z"
   },
   {
    "duration": 17,
    "start_time": "2021-11-06T17:47:00.150Z"
   },
   {
    "duration": 246,
    "start_time": "2021-11-06T17:47:00.345Z"
   },
   {
    "duration": 249,
    "start_time": "2021-11-06T17:47:00.771Z"
   },
   {
    "duration": 244,
    "start_time": "2021-11-06T17:47:01.150Z"
   },
   {
    "duration": 195,
    "start_time": "2021-11-06T17:47:01.573Z"
   },
   {
    "duration": 6,
    "start_time": "2021-11-06T17:47:02.305Z"
   },
   {
    "duration": 6,
    "start_time": "2021-11-06T17:47:02.475Z"
   },
   {
    "duration": 5,
    "start_time": "2021-11-06T17:47:02.721Z"
   },
   {
    "duration": 206,
    "start_time": "2021-11-06T17:47:02.902Z"
   },
   {
    "duration": 34,
    "start_time": "2021-11-06T17:47:03.415Z"
   },
   {
    "duration": 4,
    "start_time": "2021-11-06T17:47:03.704Z"
   },
   {
    "duration": 6,
    "start_time": "2021-11-06T17:47:03.986Z"
   },
   {
    "duration": 3,
    "start_time": "2021-11-06T17:47:06.180Z"
   },
   {
    "duration": 342,
    "start_time": "2021-11-06T17:47:07.558Z"
   },
   {
    "duration": 2077,
    "start_time": "2021-11-06T17:47:29.541Z"
   },
   {
    "duration": 302,
    "start_time": "2021-11-06T17:47:31.893Z"
   },
   {
    "duration": 1129,
    "start_time": "2021-11-06T17:48:24.211Z"
   },
   {
    "duration": 708,
    "start_time": "2021-11-06T17:48:25.342Z"
   },
   {
    "duration": 170,
    "start_time": "2021-11-06T17:48:26.052Z"
   },
   {
    "duration": 67,
    "start_time": "2021-11-06T17:48:26.224Z"
   },
   {
    "duration": 149,
    "start_time": "2021-11-06T17:48:26.292Z"
   },
   {
    "duration": 3,
    "start_time": "2021-11-06T17:48:26.444Z"
   },
   {
    "duration": 21,
    "start_time": "2021-11-06T17:48:26.448Z"
   },
   {
    "duration": 6,
    "start_time": "2021-11-06T17:48:26.471Z"
   },
   {
    "duration": 35,
    "start_time": "2021-11-06T17:48:26.479Z"
   },
   {
    "duration": 136,
    "start_time": "2021-11-06T17:48:26.515Z"
   },
   {
    "duration": 9,
    "start_time": "2021-11-06T17:48:26.653Z"
   },
   {
    "duration": 4,
    "start_time": "2021-11-06T17:48:26.664Z"
   },
   {
    "duration": 13,
    "start_time": "2021-11-06T17:48:26.670Z"
   },
   {
    "duration": 5,
    "start_time": "2021-11-06T17:48:26.685Z"
   },
   {
    "duration": 8,
    "start_time": "2021-11-06T17:48:26.692Z"
   },
   {
    "duration": 44,
    "start_time": "2021-11-06T17:48:26.702Z"
   },
   {
    "duration": 9,
    "start_time": "2021-11-06T17:48:26.748Z"
   },
   {
    "duration": 5,
    "start_time": "2021-11-06T17:48:26.760Z"
   },
   {
    "duration": 10,
    "start_time": "2021-11-06T17:48:26.766Z"
   },
   {
    "duration": 5,
    "start_time": "2021-11-06T17:48:26.778Z"
   },
   {
    "duration": 10,
    "start_time": "2021-11-06T17:48:26.788Z"
   },
   {
    "duration": 6,
    "start_time": "2021-11-06T17:48:26.860Z"
   },
   {
    "duration": 12,
    "start_time": "2021-11-06T17:48:26.943Z"
   },
   {
    "duration": 71,
    "start_time": "2021-11-06T17:48:27.033Z"
   },
   {
    "duration": 16,
    "start_time": "2021-11-06T17:48:27.363Z"
   },
   {
    "duration": 238,
    "start_time": "2021-11-06T17:48:27.461Z"
   },
   {
    "duration": 250,
    "start_time": "2021-11-06T17:48:27.701Z"
   },
   {
    "duration": 251,
    "start_time": "2021-11-06T17:48:27.953Z"
   },
   {
    "duration": 203,
    "start_time": "2021-11-06T17:48:28.206Z"
   },
   {
    "duration": 4,
    "start_time": "2021-11-06T17:48:28.692Z"
   },
   {
    "duration": 5,
    "start_time": "2021-11-06T17:48:28.899Z"
   },
   {
    "duration": 6,
    "start_time": "2021-11-06T17:48:29.124Z"
   },
   {
    "duration": 207,
    "start_time": "2021-11-06T17:48:29.368Z"
   },
   {
    "duration": 33,
    "start_time": "2021-11-06T17:48:29.867Z"
   },
   {
    "duration": 3,
    "start_time": "2021-11-06T17:48:30.124Z"
   },
   {
    "duration": 6,
    "start_time": "2021-11-06T17:48:30.428Z"
   },
   {
    "duration": 3,
    "start_time": "2021-11-06T17:48:30.660Z"
   },
   {
    "duration": 1486,
    "start_time": "2021-11-06T17:48:32.288Z"
   },
   {
    "duration": 4,
    "start_time": "2021-11-06T17:48:33.776Z"
   },
   {
    "duration": 1453,
    "start_time": "2021-11-06T17:48:35.310Z"
   },
   {
    "duration": 3,
    "start_time": "2021-11-06T17:48:36.766Z"
   },
   {
    "duration": 354,
    "start_time": "2021-11-06T17:48:36.772Z"
   },
   {
    "duration": 3,
    "start_time": "2021-11-06T17:49:00.139Z"
   },
   {
    "duration": 254,
    "start_time": "2021-11-06T17:55:30.151Z"
   },
   {
    "duration": 3,
    "start_time": "2021-11-06T17:55:35.963Z"
   },
   {
    "duration": 72,
    "start_time": "2021-11-06T17:55:36.210Z"
   },
   {
    "duration": 3,
    "start_time": "2021-11-06T17:55:36.445Z"
   },
   {
    "duration": 1477,
    "start_time": "2021-11-06T17:55:36.897Z"
   },
   {
    "duration": 3,
    "start_time": "2021-11-06T17:55:38.375Z"
   },
   {
    "duration": 1525,
    "start_time": "2021-11-06T17:55:47.530Z"
   },
   {
    "duration": 3,
    "start_time": "2021-11-06T17:55:49.057Z"
   },
   {
    "duration": 9,
    "start_time": "2021-11-06T17:55:49.062Z"
   },
   {
    "duration": 3,
    "start_time": "2021-11-06T17:56:25.627Z"
   },
   {
    "duration": 6,
    "start_time": "2021-11-06T17:56:26.384Z"
   },
   {
    "duration": 2,
    "start_time": "2021-11-06T17:56:26.612Z"
   },
   {
    "duration": 1401,
    "start_time": "2021-11-06T17:56:26.976Z"
   },
   {
    "duration": 4,
    "start_time": "2021-11-06T17:56:28.378Z"
   },
   {
    "duration": 1494,
    "start_time": "2021-11-06T17:56:28.383Z"
   },
   {
    "duration": 3,
    "start_time": "2021-11-06T17:56:29.879Z"
   },
   {
    "duration": 8,
    "start_time": "2021-11-06T17:56:29.884Z"
   },
   {
    "duration": 1046,
    "start_time": "2021-11-06T17:59:49.183Z"
   },
   {
    "duration": 689,
    "start_time": "2021-11-06T17:59:50.231Z"
   },
   {
    "duration": 163,
    "start_time": "2021-11-06T17:59:50.922Z"
   },
   {
    "duration": 66,
    "start_time": "2021-11-06T17:59:51.086Z"
   },
   {
    "duration": 133,
    "start_time": "2021-11-06T17:59:51.153Z"
   },
   {
    "duration": 3,
    "start_time": "2021-11-06T17:59:51.288Z"
   },
   {
    "duration": 19,
    "start_time": "2021-11-06T17:59:51.293Z"
   },
   {
    "duration": 6,
    "start_time": "2021-11-06T17:59:51.315Z"
   },
   {
    "duration": 55,
    "start_time": "2021-11-06T17:59:51.323Z"
   },
   {
    "duration": 128,
    "start_time": "2021-11-06T17:59:51.379Z"
   },
   {
    "duration": 9,
    "start_time": "2021-11-06T17:59:51.509Z"
   },
   {
    "duration": 28,
    "start_time": "2021-11-06T17:59:51.520Z"
   },
   {
    "duration": 9,
    "start_time": "2021-11-06T17:59:51.550Z"
   },
   {
    "duration": 5,
    "start_time": "2021-11-06T17:59:51.561Z"
   },
   {
    "duration": 16,
    "start_time": "2021-11-06T17:59:51.568Z"
   },
   {
    "duration": 9,
    "start_time": "2021-11-06T17:59:51.587Z"
   },
   {
    "duration": 13,
    "start_time": "2021-11-06T17:59:51.598Z"
   },
   {
    "duration": 6,
    "start_time": "2021-11-06T17:59:51.644Z"
   },
   {
    "duration": 13,
    "start_time": "2021-11-06T17:59:51.652Z"
   },
   {
    "duration": 6,
    "start_time": "2021-11-06T17:59:51.691Z"
   },
   {
    "duration": 11,
    "start_time": "2021-11-06T17:59:51.775Z"
   },
   {
    "duration": 7,
    "start_time": "2021-11-06T17:59:51.858Z"
   },
   {
    "duration": 12,
    "start_time": "2021-11-06T17:59:51.954Z"
   },
   {
    "duration": 75,
    "start_time": "2021-11-06T17:59:52.034Z"
   },
   {
    "duration": 17,
    "start_time": "2021-11-06T17:59:53.396Z"
   },
   {
    "duration": 234,
    "start_time": "2021-11-06T17:59:53.826Z"
   },
   {
    "duration": 239,
    "start_time": "2021-11-06T17:59:54.683Z"
   },
   {
    "duration": 243,
    "start_time": "2021-11-06T17:59:55.422Z"
   },
   {
    "duration": 198,
    "start_time": "2021-11-06T17:59:56.073Z"
   },
   {
    "duration": 5,
    "start_time": "2021-11-06T17:59:56.785Z"
   },
   {
    "duration": 5,
    "start_time": "2021-11-06T17:59:57.104Z"
   },
   {
    "duration": 6,
    "start_time": "2021-11-06T17:59:57.316Z"
   },
   {
    "duration": 214,
    "start_time": "2021-11-06T17:59:57.512Z"
   },
   {
    "duration": 35,
    "start_time": "2021-11-06T17:59:58.073Z"
   },
   {
    "duration": 4,
    "start_time": "2021-11-06T17:59:58.404Z"
   },
   {
    "duration": 2,
    "start_time": "2021-11-06T17:59:58.726Z"
   },
   {
    "duration": 5,
    "start_time": "2021-11-06T17:59:59.025Z"
   },
   {
    "duration": 2,
    "start_time": "2021-11-06T17:59:59.305Z"
   },
   {
    "duration": 2,
    "start_time": "2021-11-06T17:59:59.550Z"
   },
   {
    "duration": 1510,
    "start_time": "2021-11-06T17:59:59.757Z"
   },
   {
    "duration": 1798,
    "start_time": "2021-11-06T18:00:01.269Z"
   },
   {
    "duration": 3,
    "start_time": "2021-11-06T18:00:03.069Z"
   },
   {
    "duration": 3,
    "start_time": "2021-11-06T18:03:55.330Z"
   },
   {
    "duration": 399,
    "start_time": "2021-11-06T18:09:16.168Z"
   },
   {
    "duration": 1059,
    "start_time": "2021-11-06T18:10:58.195Z"
   },
   {
    "duration": 723,
    "start_time": "2021-11-06T18:10:59.256Z"
   },
   {
    "duration": 170,
    "start_time": "2021-11-06T18:10:59.981Z"
   },
   {
    "duration": 56,
    "start_time": "2021-11-06T18:11:00.152Z"
   },
   {
    "duration": 159,
    "start_time": "2021-11-06T18:11:00.209Z"
   },
   {
    "duration": 3,
    "start_time": "2021-11-06T18:11:00.370Z"
   },
   {
    "duration": 20,
    "start_time": "2021-11-06T18:11:00.374Z"
   },
   {
    "duration": 5,
    "start_time": "2021-11-06T18:11:00.397Z"
   },
   {
    "duration": 50,
    "start_time": "2021-11-06T18:11:00.404Z"
   },
   {
    "duration": 123,
    "start_time": "2021-11-06T18:11:00.456Z"
   },
   {
    "duration": 10,
    "start_time": "2021-11-06T18:11:00.581Z"
   },
   {
    "duration": 9,
    "start_time": "2021-11-06T18:11:00.592Z"
   },
   {
    "duration": 25,
    "start_time": "2021-11-06T18:11:00.603Z"
   },
   {
    "duration": 16,
    "start_time": "2021-11-06T18:11:00.630Z"
   },
   {
    "duration": 11,
    "start_time": "2021-11-06T18:11:00.648Z"
   },
   {
    "duration": 7,
    "start_time": "2021-11-06T18:11:00.660Z"
   },
   {
    "duration": 11,
    "start_time": "2021-11-06T18:11:00.669Z"
   },
   {
    "duration": 5,
    "start_time": "2021-11-06T18:11:00.683Z"
   },
   {
    "duration": 25,
    "start_time": "2021-11-06T18:11:00.690Z"
   },
   {
    "duration": 29,
    "start_time": "2021-11-06T18:11:00.717Z"
   },
   {
    "duration": 10,
    "start_time": "2021-11-06T18:11:00.790Z"
   },
   {
    "duration": 5,
    "start_time": "2021-11-06T18:11:00.880Z"
   },
   {
    "duration": 13,
    "start_time": "2021-11-06T18:11:01.354Z"
   },
   {
    "duration": 73,
    "start_time": "2021-11-06T18:11:01.685Z"
   },
   {
    "duration": 16,
    "start_time": "2021-11-06T18:11:03.549Z"
   },
   {
    "duration": 234,
    "start_time": "2021-11-06T18:11:03.990Z"
   },
   {
    "duration": 258,
    "start_time": "2021-11-06T18:11:05.494Z"
   },
   {
    "duration": 267,
    "start_time": "2021-11-06T18:11:05.754Z"
   },
   {
    "duration": 207,
    "start_time": "2021-11-06T18:11:06.023Z"
   },
   {
    "duration": 5,
    "start_time": "2021-11-06T18:11:06.441Z"
   },
   {
    "duration": 6,
    "start_time": "2021-11-06T18:11:06.736Z"
   },
   {
    "duration": 5,
    "start_time": "2021-11-06T18:11:07.094Z"
   },
   {
    "duration": 270,
    "start_time": "2021-11-06T18:11:07.388Z"
   },
   {
    "duration": 35,
    "start_time": "2021-11-06T18:11:08.166Z"
   },
   {
    "duration": 4,
    "start_time": "2021-11-06T18:11:08.631Z"
   },
   {
    "duration": 3,
    "start_time": "2021-11-06T18:11:09.345Z"
   },
   {
    "duration": 5,
    "start_time": "2021-11-06T18:11:09.601Z"
   },
   {
    "duration": 3,
    "start_time": "2021-11-06T18:11:09.816Z"
   },
   {
    "duration": 3,
    "start_time": "2021-11-06T18:11:10.731Z"
   },
   {
    "duration": 1879,
    "start_time": "2021-11-06T18:11:10.985Z"
   },
   {
    "duration": 1492,
    "start_time": "2021-11-06T18:11:12.866Z"
   },
   {
    "duration": 4,
    "start_time": "2021-11-06T18:11:14.360Z"
   },
   {
    "duration": 1128,
    "start_time": "2021-11-06T18:11:54.411Z"
   },
   {
    "duration": 712,
    "start_time": "2021-11-06T18:11:55.544Z"
   },
   {
    "duration": 163,
    "start_time": "2021-11-06T18:11:56.258Z"
   },
   {
    "duration": 61,
    "start_time": "2021-11-06T18:11:56.423Z"
   },
   {
    "duration": 153,
    "start_time": "2021-11-06T18:11:56.485Z"
   },
   {
    "duration": 4,
    "start_time": "2021-11-06T18:11:56.644Z"
   },
   {
    "duration": 11,
    "start_time": "2021-11-06T18:11:56.651Z"
   },
   {
    "duration": 5,
    "start_time": "2021-11-06T18:11:56.664Z"
   },
   {
    "duration": 48,
    "start_time": "2021-11-06T18:11:56.671Z"
   },
   {
    "duration": 121,
    "start_time": "2021-11-06T18:11:56.744Z"
   },
   {
    "duration": 11,
    "start_time": "2021-11-06T18:11:56.867Z"
   },
   {
    "duration": 4,
    "start_time": "2021-11-06T18:11:56.880Z"
   },
   {
    "duration": 10,
    "start_time": "2021-11-06T18:11:56.886Z"
   },
   {
    "duration": 4,
    "start_time": "2021-11-06T18:11:56.898Z"
   },
   {
    "duration": 46,
    "start_time": "2021-11-06T18:11:56.904Z"
   },
   {
    "duration": 5,
    "start_time": "2021-11-06T18:11:56.952Z"
   },
   {
    "duration": 12,
    "start_time": "2021-11-06T18:11:56.958Z"
   },
   {
    "duration": 5,
    "start_time": "2021-11-06T18:11:56.972Z"
   },
   {
    "duration": 11,
    "start_time": "2021-11-06T18:11:56.978Z"
   },
   {
    "duration": 4,
    "start_time": "2021-11-06T18:11:56.991Z"
   },
   {
    "duration": 52,
    "start_time": "2021-11-06T18:11:56.997Z"
   },
   {
    "duration": 5,
    "start_time": "2021-11-06T18:11:57.050Z"
   },
   {
    "duration": 12,
    "start_time": "2021-11-06T18:11:57.057Z"
   },
   {
    "duration": 107,
    "start_time": "2021-11-06T18:11:57.070Z"
   },
   {
    "duration": 19,
    "start_time": "2021-11-06T18:11:57.179Z"
   },
   {
    "duration": 275,
    "start_time": "2021-11-06T18:11:57.204Z"
   },
   {
    "duration": 252,
    "start_time": "2021-11-06T18:11:57.481Z"
   },
   {
    "duration": 257,
    "start_time": "2021-11-06T18:11:57.735Z"
   },
   {
    "duration": 204,
    "start_time": "2021-11-06T18:11:57.994Z"
   },
   {
    "duration": 4,
    "start_time": "2021-11-06T18:11:58.200Z"
   },
   {
    "duration": 7,
    "start_time": "2021-11-06T18:11:58.206Z"
   },
   {
    "duration": 5,
    "start_time": "2021-11-06T18:11:58.215Z"
   },
   {
    "duration": 288,
    "start_time": "2021-11-06T18:11:58.222Z"
   },
   {
    "duration": 40,
    "start_time": "2021-11-06T18:11:58.512Z"
   },
   {
    "duration": 4,
    "start_time": "2021-11-06T18:11:58.554Z"
   },
   {
    "duration": 6,
    "start_time": "2021-11-06T18:11:58.560Z"
   },
   {
    "duration": 7,
    "start_time": "2021-11-06T18:11:58.568Z"
   },
   {
    "duration": 3,
    "start_time": "2021-11-06T18:11:58.622Z"
   },
   {
    "duration": 3,
    "start_time": "2021-11-06T18:11:58.791Z"
   },
   {
    "duration": 1781,
    "start_time": "2021-11-06T18:11:58.872Z"
   },
   {
    "duration": 1619,
    "start_time": "2021-11-06T18:12:00.654Z"
   },
   {
    "duration": 3,
    "start_time": "2021-11-06T18:12:02.275Z"
   },
   {
    "duration": 2668,
    "start_time": "2021-11-06T18:12:02.279Z"
   },
   {
    "duration": 988,
    "start_time": "2021-11-06T18:13:59.394Z"
   },
   {
    "duration": 2,
    "start_time": "2021-11-06T18:14:00.384Z"
   },
   {
    "duration": 425,
    "start_time": "2021-11-06T18:21:17.131Z"
   },
   {
    "duration": -113,
    "start_time": "2021-11-06T18:21:17.671Z"
   },
   {
    "duration": 3,
    "start_time": "2021-11-06T18:21:17.818Z"
   },
   {
    "duration": 1138,
    "start_time": "2021-11-06T18:23:43.311Z"
   },
   {
    "duration": 731,
    "start_time": "2021-11-06T18:23:44.451Z"
   },
   {
    "duration": 168,
    "start_time": "2021-11-06T18:23:45.184Z"
   },
   {
    "duration": 53,
    "start_time": "2021-11-06T18:23:45.355Z"
   },
   {
    "duration": 164,
    "start_time": "2021-11-06T18:23:45.410Z"
   },
   {
    "duration": 4,
    "start_time": "2021-11-06T18:23:45.575Z"
   },
   {
    "duration": 17,
    "start_time": "2021-11-06T18:23:45.580Z"
   },
   {
    "duration": 5,
    "start_time": "2021-11-06T18:23:45.600Z"
   },
   {
    "duration": 56,
    "start_time": "2021-11-06T18:23:45.607Z"
   },
   {
    "duration": 128,
    "start_time": "2021-11-06T18:23:45.665Z"
   },
   {
    "duration": 11,
    "start_time": "2021-11-06T18:23:45.794Z"
   },
   {
    "duration": 9,
    "start_time": "2021-11-06T18:23:45.806Z"
   },
   {
    "duration": 31,
    "start_time": "2021-11-06T18:23:45.817Z"
   },
   {
    "duration": 4,
    "start_time": "2021-11-06T18:23:45.850Z"
   },
   {
    "duration": 19,
    "start_time": "2021-11-06T18:23:45.856Z"
   },
   {
    "duration": 7,
    "start_time": "2021-11-06T18:23:45.877Z"
   },
   {
    "duration": 12,
    "start_time": "2021-11-06T18:23:45.886Z"
   },
   {
    "duration": 5,
    "start_time": "2021-11-06T18:23:45.901Z"
   },
   {
    "duration": 41,
    "start_time": "2021-11-06T18:23:45.907Z"
   },
   {
    "duration": 5,
    "start_time": "2021-11-06T18:23:45.950Z"
   },
   {
    "duration": 19,
    "start_time": "2021-11-06T18:23:45.956Z"
   },
   {
    "duration": 6,
    "start_time": "2021-11-06T18:23:45.992Z"
   },
   {
    "duration": 13,
    "start_time": "2021-11-06T18:23:46.070Z"
   },
   {
    "duration": 74,
    "start_time": "2021-11-06T18:23:46.151Z"
   },
   {
    "duration": 16,
    "start_time": "2021-11-06T18:23:47.267Z"
   },
   {
    "duration": 237,
    "start_time": "2021-11-06T18:23:47.547Z"
   },
   {
    "duration": 240,
    "start_time": "2021-11-06T18:23:48.346Z"
   },
   {
    "duration": 251,
    "start_time": "2021-11-06T18:23:49.047Z"
   },
   {
    "duration": 190,
    "start_time": "2021-11-06T18:23:49.747Z"
   },
   {
    "duration": 5,
    "start_time": "2021-11-06T18:23:50.406Z"
   },
   {
    "duration": 4,
    "start_time": "2021-11-06T18:23:50.707Z"
   },
   {
    "duration": 4,
    "start_time": "2021-11-06T18:23:50.986Z"
   },
   {
    "duration": 279,
    "start_time": "2021-11-06T18:23:51.270Z"
   },
   {
    "duration": 36,
    "start_time": "2021-11-06T18:23:51.915Z"
   },
   {
    "duration": 4,
    "start_time": "2021-11-06T18:23:52.324Z"
   },
   {
    "duration": 3,
    "start_time": "2021-11-06T18:23:52.880Z"
   },
   {
    "duration": 6,
    "start_time": "2021-11-06T18:23:53.203Z"
   },
   {
    "duration": 3,
    "start_time": "2021-11-06T18:23:53.574Z"
   },
   {
    "duration": 3,
    "start_time": "2021-11-06T18:23:54.482Z"
   },
   {
    "duration": 1719,
    "start_time": "2021-11-06T18:23:55.148Z"
   },
   {
    "duration": 1488,
    "start_time": "2021-11-06T18:23:56.869Z"
   },
   {
    "duration": 3,
    "start_time": "2021-11-06T18:23:58.359Z"
   },
   {
    "duration": 2663,
    "start_time": "2021-11-06T18:23:58.364Z"
   },
   {
    "duration": 2,
    "start_time": "2021-11-06T18:24:01.029Z"
   },
   {
    "duration": 975,
    "start_time": "2021-11-06T18:24:01.033Z"
   },
   {
    "duration": 973,
    "start_time": "2021-11-06T18:24:02.009Z"
   },
   {
    "duration": 3,
    "start_time": "2021-11-06T18:24:02.984Z"
   },
   {
    "duration": 15,
    "start_time": "2021-11-06T18:24:02.989Z"
   },
   {
    "duration": 1085,
    "start_time": "2021-11-06T18:29:11.670Z"
   },
   {
    "duration": 734,
    "start_time": "2021-11-06T18:29:12.757Z"
   },
   {
    "duration": 169,
    "start_time": "2021-11-06T18:29:13.494Z"
   },
   {
    "duration": 56,
    "start_time": "2021-11-06T18:29:13.666Z"
   },
   {
    "duration": 165,
    "start_time": "2021-11-06T18:29:13.724Z"
   },
   {
    "duration": 3,
    "start_time": "2021-11-06T18:29:13.892Z"
   },
   {
    "duration": 30,
    "start_time": "2021-11-06T18:29:13.897Z"
   },
   {
    "duration": 18,
    "start_time": "2021-11-06T18:29:13.929Z"
   },
   {
    "duration": 46,
    "start_time": "2021-11-06T18:29:13.949Z"
   },
   {
    "duration": 124,
    "start_time": "2021-11-06T18:29:13.997Z"
   },
   {
    "duration": 9,
    "start_time": "2021-11-06T18:29:14.123Z"
   },
   {
    "duration": 18,
    "start_time": "2021-11-06T18:29:14.134Z"
   },
   {
    "duration": 33,
    "start_time": "2021-11-06T18:29:14.154Z"
   },
   {
    "duration": 6,
    "start_time": "2021-11-06T18:29:14.423Z"
   },
   {
    "duration": 9,
    "start_time": "2021-11-06T18:29:14.931Z"
   },
   {
    "duration": 6,
    "start_time": "2021-11-06T18:29:15.008Z"
   },
   {
    "duration": 11,
    "start_time": "2021-11-06T18:29:15.113Z"
   },
   {
    "duration": 5,
    "start_time": "2021-11-06T18:29:15.591Z"
   },
   {
    "duration": 9,
    "start_time": "2021-11-06T18:29:16.094Z"
   },
   {
    "duration": 5,
    "start_time": "2021-11-06T18:29:16.178Z"
   },
   {
    "duration": 11,
    "start_time": "2021-11-06T18:29:16.260Z"
   },
   {
    "duration": 5,
    "start_time": "2021-11-06T18:29:16.745Z"
   },
   {
    "duration": 10,
    "start_time": "2021-11-06T18:29:17.246Z"
   },
   {
    "duration": 80,
    "start_time": "2021-11-06T18:29:17.332Z"
   },
   {
    "duration": 17,
    "start_time": "2021-11-06T18:29:19.052Z"
   },
   {
    "duration": 230,
    "start_time": "2021-11-06T18:29:19.553Z"
   },
   {
    "duration": 244,
    "start_time": "2021-11-06T18:29:19.785Z"
   },
   {
    "duration": 238,
    "start_time": "2021-11-06T18:29:20.292Z"
   },
   {
    "duration": 197,
    "start_time": "2021-11-06T18:29:20.878Z"
   },
   {
    "duration": 5,
    "start_time": "2021-11-06T18:29:21.344Z"
   },
   {
    "duration": 5,
    "start_time": "2021-11-06T18:29:21.845Z"
   },
   {
    "duration": 5,
    "start_time": "2021-11-06T18:29:21.928Z"
   },
   {
    "duration": 273,
    "start_time": "2021-11-06T18:29:22.011Z"
   },
   {
    "duration": 33,
    "start_time": "2021-11-06T18:29:23.051Z"
   },
   {
    "duration": 4,
    "start_time": "2021-11-06T18:29:23.132Z"
   },
   {
    "duration": 3,
    "start_time": "2021-11-06T18:29:23.215Z"
   },
   {
    "duration": 6,
    "start_time": "2021-11-06T18:29:24.231Z"
   },
   {
    "duration": 2,
    "start_time": "2021-11-06T18:29:24.552Z"
   },
   {
    "duration": 2,
    "start_time": "2021-11-06T18:29:25.112Z"
   },
   {
    "duration": 1452,
    "start_time": "2021-11-06T18:29:25.324Z"
   },
   {
    "duration": 1680,
    "start_time": "2021-11-06T18:29:26.778Z"
   },
   {
    "duration": 3,
    "start_time": "2021-11-06T18:29:28.460Z"
   },
   {
    "duration": 2580,
    "start_time": "2021-11-06T18:29:28.466Z"
   },
   {
    "duration": 3,
    "start_time": "2021-11-06T18:29:31.047Z"
   },
   {
    "duration": 1025,
    "start_time": "2021-11-06T18:29:31.053Z"
   },
   {
    "duration": 975,
    "start_time": "2021-11-06T18:29:32.080Z"
   },
   {
    "duration": 4,
    "start_time": "2021-11-06T18:29:33.057Z"
   },
   {
    "duration": 9,
    "start_time": "2021-11-06T18:29:34.348Z"
   },
   {
    "duration": 4,
    "start_time": "2021-11-06T18:29:35.220Z"
   },
   {
    "duration": 2,
    "start_time": "2021-11-06T18:29:37.294Z"
   },
   {
    "duration": 348,
    "start_time": "2021-11-06T18:29:39.049Z"
   },
   {
    "duration": 1126,
    "start_time": "2021-11-06T18:34:58.972Z"
   },
   {
    "duration": 726,
    "start_time": "2021-11-06T18:35:00.100Z"
   },
   {
    "duration": 162,
    "start_time": "2021-11-06T18:35:00.828Z"
   },
   {
    "duration": 65,
    "start_time": "2021-11-06T18:35:00.992Z"
   },
   {
    "duration": 145,
    "start_time": "2021-11-06T18:35:01.059Z"
   },
   {
    "duration": 3,
    "start_time": "2021-11-06T18:35:01.206Z"
   },
   {
    "duration": 20,
    "start_time": "2021-11-06T18:35:01.211Z"
   },
   {
    "duration": 6,
    "start_time": "2021-11-06T18:35:01.337Z"
   },
   {
    "duration": 40,
    "start_time": "2021-11-06T18:35:01.512Z"
   },
   {
    "duration": 114,
    "start_time": "2021-11-06T18:35:01.765Z"
   },
   {
    "duration": 10,
    "start_time": "2021-11-06T18:35:01.881Z"
   },
   {
    "duration": 5,
    "start_time": "2021-11-06T18:35:01.921Z"
   },
   {
    "duration": 11,
    "start_time": "2021-11-06T18:35:02.018Z"
   },
   {
    "duration": 5,
    "start_time": "2021-11-06T18:35:02.402Z"
   },
   {
    "duration": 10,
    "start_time": "2021-11-06T18:35:02.934Z"
   },
   {
    "duration": 5,
    "start_time": "2021-11-06T18:35:02.987Z"
   },
   {
    "duration": 10,
    "start_time": "2021-11-06T18:35:03.069Z"
   },
   {
    "duration": 5,
    "start_time": "2021-11-06T18:35:03.153Z"
   },
   {
    "duration": 10,
    "start_time": "2021-11-06T18:35:03.237Z"
   },
   {
    "duration": 5,
    "start_time": "2021-11-06T18:35:03.550Z"
   },
   {
    "duration": 10,
    "start_time": "2021-11-06T18:35:04.052Z"
   },
   {
    "duration": 5,
    "start_time": "2021-11-06T18:35:04.136Z"
   },
   {
    "duration": 9,
    "start_time": "2021-11-06T18:35:04.219Z"
   },
   {
    "duration": 71,
    "start_time": "2021-11-06T18:35:04.302Z"
   },
   {
    "duration": 16,
    "start_time": "2021-11-06T18:35:05.536Z"
   },
   {
    "duration": 254,
    "start_time": "2021-11-06T18:35:05.554Z"
   },
   {
    "duration": 258,
    "start_time": "2021-11-06T18:35:05.810Z"
   },
   {
    "duration": 240,
    "start_time": "2021-11-06T18:35:06.572Z"
   },
   {
    "duration": 194,
    "start_time": "2021-11-06T18:35:06.814Z"
   },
   {
    "duration": 4,
    "start_time": "2021-11-06T18:35:07.262Z"
   },
   {
    "duration": 4,
    "start_time": "2021-11-06T18:35:07.613Z"
   },
   {
    "duration": 4,
    "start_time": "2021-11-06T18:35:07.911Z"
   },
   {
    "duration": 265,
    "start_time": "2021-11-06T18:35:08.154Z"
   },
   {
    "duration": 33,
    "start_time": "2021-11-06T18:35:08.652Z"
   },
   {
    "duration": 4,
    "start_time": "2021-11-06T18:35:08.929Z"
   },
   {
    "duration": 3,
    "start_time": "2021-11-06T18:35:09.234Z"
   },
   {
    "duration": 7,
    "start_time": "2021-11-06T18:35:09.497Z"
   },
   {
    "duration": 2,
    "start_time": "2021-11-06T18:35:09.774Z"
   },
   {
    "duration": 2,
    "start_time": "2021-11-06T18:35:10.470Z"
   },
   {
    "duration": 1993,
    "start_time": "2021-11-06T18:35:10.779Z"
   },
   {
    "duration": 1808,
    "start_time": "2021-11-06T18:35:12.774Z"
   },
   {
    "duration": 4,
    "start_time": "2021-11-06T18:35:14.585Z"
   },
   {
    "duration": 2894,
    "start_time": "2021-11-06T18:35:14.590Z"
   },
   {
    "duration": 3,
    "start_time": "2021-11-06T18:35:17.486Z"
   },
   {
    "duration": 1000,
    "start_time": "2021-11-06T18:35:17.491Z"
   },
   {
    "duration": 990,
    "start_time": "2021-11-06T18:35:18.493Z"
   },
   {
    "duration": 4,
    "start_time": "2021-11-06T18:35:19.485Z"
   },
   {
    "duration": 37,
    "start_time": "2021-11-06T18:35:19.490Z"
   },
   {
    "duration": 23,
    "start_time": "2021-11-06T18:35:19.529Z"
   },
   {
    "duration": 3,
    "start_time": "2021-11-06T18:35:20.513Z"
   },
   {
    "duration": 351,
    "start_time": "2021-11-06T18:35:24.150Z"
   },
   {
    "duration": 256,
    "start_time": "2021-11-06T18:35:34.969Z"
   },
   {
    "duration": 3,
    "start_time": "2021-11-06T18:36:49.832Z"
   },
   {
    "duration": 4,
    "start_time": "2021-11-06T18:37:10.856Z"
   },
   {
    "duration": 5,
    "start_time": "2021-11-06T18:37:39.752Z"
   },
   {
    "duration": 4,
    "start_time": "2021-11-06T18:38:08.647Z"
   },
   {
    "duration": 1161,
    "start_time": "2021-11-06T18:39:21.004Z"
   },
   {
    "duration": 745,
    "start_time": "2021-11-06T18:39:22.167Z"
   },
   {
    "duration": 176,
    "start_time": "2021-11-06T18:39:22.914Z"
   },
   {
    "duration": 70,
    "start_time": "2021-11-06T18:39:23.093Z"
   },
   {
    "duration": 160,
    "start_time": "2021-11-06T18:39:23.164Z"
   },
   {
    "duration": 3,
    "start_time": "2021-11-06T18:39:23.326Z"
   },
   {
    "duration": 10,
    "start_time": "2021-11-06T18:39:23.344Z"
   },
   {
    "duration": 6,
    "start_time": "2021-11-06T18:39:23.447Z"
   },
   {
    "duration": 40,
    "start_time": "2021-11-06T18:39:23.885Z"
   },
   {
    "duration": 133,
    "start_time": "2021-11-06T18:39:24.539Z"
   },
   {
    "duration": 18,
    "start_time": "2021-11-06T18:39:24.723Z"
   },
   {
    "duration": 9,
    "start_time": "2021-11-06T18:39:24.944Z"
   },
   {
    "duration": 10,
    "start_time": "2021-11-06T18:39:25.191Z"
   },
   {
    "duration": 5,
    "start_time": "2021-11-06T18:39:25.439Z"
   },
   {
    "duration": 9,
    "start_time": "2021-11-06T18:39:25.703Z"
   },
   {
    "duration": 5,
    "start_time": "2021-11-06T18:39:25.927Z"
   },
   {
    "duration": 10,
    "start_time": "2021-11-06T18:39:26.155Z"
   },
   {
    "duration": 5,
    "start_time": "2021-11-06T18:39:26.379Z"
   },
   {
    "duration": 10,
    "start_time": "2021-11-06T18:39:26.583Z"
   },
   {
    "duration": 6,
    "start_time": "2021-11-06T18:39:26.803Z"
   },
   {
    "duration": 11,
    "start_time": "2021-11-06T18:39:26.998Z"
   },
   {
    "duration": 6,
    "start_time": "2021-11-06T18:39:27.230Z"
   },
   {
    "duration": 10,
    "start_time": "2021-11-06T18:39:27.403Z"
   },
   {
    "duration": 71,
    "start_time": "2021-11-06T18:39:27.647Z"
   },
   {
    "duration": 18,
    "start_time": "2021-11-06T18:39:28.571Z"
   },
   {
    "duration": 251,
    "start_time": "2021-11-06T18:39:28.819Z"
   },
   {
    "duration": 336,
    "start_time": "2021-11-06T18:39:29.287Z"
   },
   {
    "duration": 257,
    "start_time": "2021-11-06T18:39:29.779Z"
   },
   {
    "duration": 213,
    "start_time": "2021-11-06T18:39:30.208Z"
   },
   {
    "duration": 5,
    "start_time": "2021-11-06T18:39:30.727Z"
   },
   {
    "duration": 5,
    "start_time": "2021-11-06T18:39:31.136Z"
   },
   {
    "duration": 5,
    "start_time": "2021-11-06T18:39:31.315Z"
   },
   {
    "duration": 282,
    "start_time": "2021-11-06T18:39:31.551Z"
   },
   {
    "duration": 37,
    "start_time": "2021-11-06T18:39:32.007Z"
   },
   {
    "duration": 4,
    "start_time": "2021-11-06T18:39:32.246Z"
   },
   {
    "duration": 3,
    "start_time": "2021-11-06T18:39:32.523Z"
   },
   {
    "duration": 6,
    "start_time": "2021-11-06T18:39:32.820Z"
   },
   {
    "duration": 3,
    "start_time": "2021-11-06T18:39:33.111Z"
   },
   {
    "duration": 3,
    "start_time": "2021-11-06T18:39:33.744Z"
   },
   {
    "duration": 1765,
    "start_time": "2021-11-06T18:39:34.083Z"
   },
   {
    "duration": 1400,
    "start_time": "2021-11-06T18:39:35.850Z"
   },
   {
    "duration": 4,
    "start_time": "2021-11-06T18:39:37.253Z"
   },
   {
    "duration": 2641,
    "start_time": "2021-11-06T18:39:37.259Z"
   },
   {
    "duration": 2,
    "start_time": "2021-11-06T18:39:39.902Z"
   },
   {
    "duration": 963,
    "start_time": "2021-11-06T18:39:39.906Z"
   },
   {
    "duration": 930,
    "start_time": "2021-11-06T18:39:40.871Z"
   },
   {
    "duration": 3,
    "start_time": "2021-11-06T18:39:41.803Z"
   },
   {
    "duration": 18,
    "start_time": "2021-11-06T18:39:41.807Z"
   },
   {
    "duration": 18,
    "start_time": "2021-11-06T18:39:41.826Z"
   },
   {
    "duration": 2,
    "start_time": "2021-11-06T18:39:41.846Z"
   },
   {
    "duration": 370,
    "start_time": "2021-11-06T18:39:41.849Z"
   },
   {
    "duration": 360,
    "start_time": "2021-11-06T18:39:42.221Z"
   },
   {
    "duration": 4,
    "start_time": "2021-11-06T18:39:42.583Z"
   },
   {
    "duration": 1094,
    "start_time": "2021-11-06T18:41:07.162Z"
   },
   {
    "duration": 723,
    "start_time": "2021-11-06T18:41:08.258Z"
   },
   {
    "duration": 162,
    "start_time": "2021-11-06T18:41:08.983Z"
   },
   {
    "duration": 50,
    "start_time": "2021-11-06T18:41:09.147Z"
   },
   {
    "duration": 161,
    "start_time": "2021-11-06T18:41:09.199Z"
   },
   {
    "duration": 4,
    "start_time": "2021-11-06T18:41:09.361Z"
   },
   {
    "duration": 14,
    "start_time": "2021-11-06T18:41:09.367Z"
   },
   {
    "duration": 7,
    "start_time": "2021-11-06T18:41:09.384Z"
   },
   {
    "duration": 67,
    "start_time": "2021-11-06T18:41:09.393Z"
   },
   {
    "duration": 140,
    "start_time": "2021-11-06T18:41:09.462Z"
   },
   {
    "duration": 11,
    "start_time": "2021-11-06T18:41:09.603Z"
   },
   {
    "duration": 29,
    "start_time": "2021-11-06T18:41:09.616Z"
   },
   {
    "duration": 10,
    "start_time": "2021-11-06T18:41:09.647Z"
   },
   {
    "duration": 5,
    "start_time": "2021-11-06T18:41:09.658Z"
   },
   {
    "duration": 9,
    "start_time": "2021-11-06T18:41:09.665Z"
   },
   {
    "duration": 5,
    "start_time": "2021-11-06T18:41:09.676Z"
   },
   {
    "duration": 8,
    "start_time": "2021-11-06T18:41:09.683Z"
   },
   {
    "duration": 53,
    "start_time": "2021-11-06T18:41:09.693Z"
   },
   {
    "duration": 9,
    "start_time": "2021-11-06T18:41:09.748Z"
   },
   {
    "duration": 4,
    "start_time": "2021-11-06T18:41:09.759Z"
   },
   {
    "duration": 10,
    "start_time": "2021-11-06T18:41:09.765Z"
   },
   {
    "duration": 5,
    "start_time": "2021-11-06T18:41:09.836Z"
   },
   {
    "duration": 11,
    "start_time": "2021-11-06T18:41:09.929Z"
   },
   {
    "duration": 82,
    "start_time": "2021-11-06T18:41:10.014Z"
   },
   {
    "duration": 17,
    "start_time": "2021-11-06T18:41:10.339Z"
   },
   {
    "duration": 241,
    "start_time": "2021-11-06T18:41:10.424Z"
   },
   {
    "duration": 252,
    "start_time": "2021-11-06T18:41:10.666Z"
   },
   {
    "duration": 252,
    "start_time": "2021-11-06T18:41:10.919Z"
   },
   {
    "duration": 211,
    "start_time": "2021-11-06T18:41:11.173Z"
   },
   {
    "duration": 5,
    "start_time": "2021-11-06T18:41:11.387Z"
   },
   {
    "duration": 10,
    "start_time": "2021-11-06T18:41:11.394Z"
   },
   {
    "duration": 8,
    "start_time": "2021-11-06T18:41:11.406Z"
   },
   {
    "duration": 304,
    "start_time": "2021-11-06T18:41:11.416Z"
   },
   {
    "duration": 43,
    "start_time": "2021-11-06T18:41:11.722Z"
   },
   {
    "duration": 4,
    "start_time": "2021-11-06T18:41:11.767Z"
   },
   {
    "duration": 3,
    "start_time": "2021-11-06T18:41:12.088Z"
   },
   {
    "duration": 5,
    "start_time": "2021-11-06T18:41:12.590Z"
   },
   {
    "duration": 2,
    "start_time": "2021-11-06T18:41:12.906Z"
   },
   {
    "duration": 3,
    "start_time": "2021-11-06T18:41:13.495Z"
   },
   {
    "duration": 1588,
    "start_time": "2021-11-06T18:41:13.574Z"
   },
   {
    "duration": 1605,
    "start_time": "2021-11-06T18:41:15.164Z"
   },
   {
    "duration": 3,
    "start_time": "2021-11-06T18:41:16.771Z"
   },
   {
    "duration": 2631,
    "start_time": "2021-11-06T18:41:16.776Z"
   },
   {
    "duration": 3,
    "start_time": "2021-11-06T18:41:19.408Z"
   },
   {
    "duration": 953,
    "start_time": "2021-11-06T18:41:19.413Z"
   },
   {
    "duration": 965,
    "start_time": "2021-11-06T18:41:20.367Z"
   },
   {
    "duration": 4,
    "start_time": "2021-11-06T18:41:21.343Z"
   },
   {
    "duration": 17,
    "start_time": "2021-11-06T18:41:21.349Z"
   },
   {
    "duration": 9,
    "start_time": "2021-11-06T18:41:21.368Z"
   },
   {
    "duration": 372,
    "start_time": "2021-11-06T18:41:21.379Z"
   },
   {
    "duration": 381,
    "start_time": "2021-11-06T18:41:21.753Z"
   },
   {
    "duration": 3,
    "start_time": "2021-11-06T18:41:22.135Z"
   },
   {
    "duration": 1281,
    "start_time": "2021-11-07T06:25:10.494Z"
   },
   {
    "duration": 798,
    "start_time": "2021-11-07T06:25:11.777Z"
   },
   {
    "duration": 177,
    "start_time": "2021-11-07T06:25:12.577Z"
   },
   {
    "duration": 70,
    "start_time": "2021-11-07T06:25:12.756Z"
   },
   {
    "duration": 146,
    "start_time": "2021-11-07T06:25:12.906Z"
   },
   {
    "duration": 4,
    "start_time": "2021-11-07T06:26:27.337Z"
   },
   {
    "duration": 14,
    "start_time": "2021-11-07T06:26:28.487Z"
   },
   {
    "duration": 6,
    "start_time": "2021-11-07T06:26:29.795Z"
   },
   {
    "duration": 43,
    "start_time": "2021-11-07T06:31:39.699Z"
   },
   {
    "duration": 117,
    "start_time": "2021-11-07T06:32:42.686Z"
   },
   {
    "duration": 12,
    "start_time": "2021-11-07T06:32:46.873Z"
   },
   {
    "duration": 6,
    "start_time": "2021-11-07T06:32:47.587Z"
   },
   {
    "duration": 12,
    "start_time": "2021-11-07T06:32:51.146Z"
   },
   {
    "duration": 6,
    "start_time": "2021-11-07T06:32:51.687Z"
   },
   {
    "duration": 11,
    "start_time": "2021-11-07T06:32:52.278Z"
   },
   {
    "duration": 5,
    "start_time": "2021-11-07T06:32:53.819Z"
   },
   {
    "duration": 11,
    "start_time": "2021-11-07T06:32:54.385Z"
   },
   {
    "duration": 5,
    "start_time": "2021-11-07T06:32:54.976Z"
   },
   {
    "duration": 11,
    "start_time": "2021-11-07T06:32:55.589Z"
   },
   {
    "duration": 6,
    "start_time": "2021-11-07T06:32:56.201Z"
   },
   {
    "duration": 11,
    "start_time": "2021-11-07T06:32:56.775Z"
   },
   {
    "duration": 7,
    "start_time": "2021-11-07T06:32:57.388Z"
   },
   {
    "duration": 13,
    "start_time": "2021-11-07T06:32:58.729Z"
   },
   {
    "duration": 86,
    "start_time": "2021-11-07T06:33:00.276Z"
   },
   {
    "duration": 16,
    "start_time": "2021-11-07T06:35:42.851Z"
   },
   {
    "duration": 256,
    "start_time": "2021-11-07T06:35:43.452Z"
   },
   {
    "duration": 252,
    "start_time": "2021-11-07T06:35:44.906Z"
   },
   {
    "duration": 260,
    "start_time": "2021-11-07T06:35:45.968Z"
   },
   {
    "duration": 203,
    "start_time": "2021-11-07T06:35:47.493Z"
   },
   {
    "duration": 6,
    "start_time": "2021-11-07T06:35:48.965Z"
   },
   {
    "duration": 6,
    "start_time": "2021-11-07T06:35:49.484Z"
   },
   {
    "duration": 5,
    "start_time": "2021-11-07T06:35:49.672Z"
   },
   {
    "duration": 290,
    "start_time": "2021-11-07T06:35:49.893Z"
   },
   {
    "duration": 36,
    "start_time": "2021-11-07T06:35:50.967Z"
   },
   {
    "duration": 4,
    "start_time": "2021-11-07T06:35:51.646Z"
   },
   {
    "duration": 3,
    "start_time": "2021-11-07T06:35:54.255Z"
   },
   {
    "duration": 6,
    "start_time": "2021-11-07T06:35:54.483Z"
   },
   {
    "duration": 3,
    "start_time": "2021-11-07T06:35:54.686Z"
   },
   {
    "duration": 2,
    "start_time": "2021-11-07T06:44:21.257Z"
   },
   {
    "duration": 1521,
    "start_time": "2021-11-07T06:44:22.206Z"
   },
   {
    "duration": 1506,
    "start_time": "2021-11-07T06:44:23.729Z"
   },
   {
    "duration": 3,
    "start_time": "2021-11-07T06:44:25.237Z"
   },
   {
    "duration": 2696,
    "start_time": "2021-11-07T06:44:35.955Z"
   },
   {
    "duration": 3,
    "start_time": "2021-11-07T06:44:38.653Z"
   },
   {
    "duration": 1023,
    "start_time": "2021-11-07T06:44:38.658Z"
   },
   {
    "duration": 1113,
    "start_time": "2021-11-07T06:44:39.683Z"
   },
   {
    "duration": 3,
    "start_time": "2021-11-07T06:44:40.798Z"
   },
   {
    "duration": 9,
    "start_time": "2021-11-07T06:44:58.748Z"
   },
   {
    "duration": 2,
    "start_time": "2021-11-07T06:44:59.709Z"
   },
   {
    "duration": 377,
    "start_time": "2021-11-07T06:45:00.104Z"
   },
   {
    "duration": 386,
    "start_time": "2021-11-07T06:45:00.483Z"
   },
   {
    "duration": 3,
    "start_time": "2021-11-07T06:45:00.871Z"
   },
   {
    "duration": 1582,
    "start_time": "2021-11-07T09:22:59.653Z"
   },
   {
    "duration": 871,
    "start_time": "2021-11-07T09:23:01.238Z"
   },
   {
    "duration": 272,
    "start_time": "2021-11-07T09:23:02.112Z"
   },
   {
    "duration": 110,
    "start_time": "2021-11-07T09:23:02.387Z"
   },
   {
    "duration": 262,
    "start_time": "2021-11-07T09:23:02.500Z"
   },
   {
    "duration": 5,
    "start_time": "2021-11-07T09:23:02.767Z"
   },
   {
    "duration": 20,
    "start_time": "2021-11-07T09:23:02.774Z"
   },
   {
    "duration": 7,
    "start_time": "2021-11-07T09:23:02.798Z"
   },
   {
    "duration": 54,
    "start_time": "2021-11-07T09:23:03.166Z"
   },
   {
    "duration": 173,
    "start_time": "2021-11-07T09:23:04.589Z"
   },
   {
    "duration": 15,
    "start_time": "2021-11-07T09:23:05.352Z"
   },
   {
    "duration": 8,
    "start_time": "2021-11-07T09:23:06.103Z"
   },
   {
    "duration": 15,
    "start_time": "2021-11-07T09:23:06.629Z"
   },
   {
    "duration": 7,
    "start_time": "2021-11-07T09:23:08.521Z"
   },
   {
    "duration": 14,
    "start_time": "2021-11-07T09:23:09.040Z"
   },
   {
    "duration": 7,
    "start_time": "2021-11-07T09:23:09.713Z"
   },
   {
    "duration": 13,
    "start_time": "2021-11-07T09:23:11.050Z"
   },
   {
    "duration": 6,
    "start_time": "2021-11-07T09:23:12.372Z"
   },
   {
    "duration": 454,
    "start_time": "2021-11-07T09:23:50.348Z"
   },
   {
    "duration": 11,
    "start_time": "2021-11-07T09:24:09.281Z"
   },
   {
    "duration": 6,
    "start_time": "2021-11-07T09:24:34.453Z"
   },
   {
    "duration": 7,
    "start_time": "2021-11-07T09:24:41.390Z"
   },
   {
    "duration": 10,
    "start_time": "2021-11-07T09:24:48.411Z"
   },
   {
    "duration": 7,
    "start_time": "2021-11-07T09:25:02.760Z"
   },
   {
    "duration": 284,
    "start_time": "2021-11-07T09:25:14.349Z"
   },
   {
    "duration": 9,
    "start_time": "2021-11-07T09:26:27.742Z"
   },
   {
    "duration": 283,
    "start_time": "2021-11-07T09:26:41.098Z"
   },
   {
    "duration": 9,
    "start_time": "2021-11-07T09:26:48.075Z"
   },
   {
    "duration": 9,
    "start_time": "2021-11-07T09:26:53.772Z"
   },
   {
    "duration": 35,
    "start_time": "2021-11-07T09:38:06.924Z"
   },
   {
    "duration": 38,
    "start_time": "2021-11-07T09:40:30.767Z"
   },
   {
    "duration": 49,
    "start_time": "2021-11-07T09:40:54.168Z"
   },
   {
    "duration": 317,
    "start_time": "2021-11-07T09:41:17.716Z"
   },
   {
    "duration": 50,
    "start_time": "2021-11-07T09:42:23.108Z"
   },
   {
    "duration": 1597,
    "start_time": "2021-11-07T09:47:06.207Z"
   },
   {
    "duration": 1060,
    "start_time": "2021-11-07T09:47:07.807Z"
   },
   {
    "duration": 275,
    "start_time": "2021-11-07T09:47:08.871Z"
   },
   {
    "duration": 118,
    "start_time": "2021-11-07T09:47:09.149Z"
   },
   {
    "duration": 257,
    "start_time": "2021-11-07T09:47:09.269Z"
   },
   {
    "duration": 7,
    "start_time": "2021-11-07T09:47:23.321Z"
   },
   {
    "duration": 13,
    "start_time": "2021-11-07T09:47:23.980Z"
   },
   {
    "duration": 8,
    "start_time": "2021-11-07T09:47:25.791Z"
   },
   {
    "duration": 61,
    "start_time": "2021-11-07T09:47:27.558Z"
   },
   {
    "duration": 186,
    "start_time": "2021-11-07T09:47:31.056Z"
   },
   {
    "duration": 61,
    "start_time": "2021-11-07T09:47:32.556Z"
   },
   {
    "duration": 62,
    "start_time": "2021-11-07T09:48:31.334Z"
   },
   {
    "duration": 6,
    "start_time": "2021-11-07T09:48:32.790Z"
   },
   {
    "duration": 8,
    "start_time": "2021-11-07T09:48:33.777Z"
   },
   {
    "duration": 60,
    "start_time": "2021-11-07T09:48:37.226Z"
   },
   {
    "duration": 5,
    "start_time": "2021-11-07T09:49:17.659Z"
   },
   {
    "duration": 6,
    "start_time": "2021-11-07T09:49:17.917Z"
   },
   {
    "duration": 61,
    "start_time": "2021-11-07T09:49:18.152Z"
   },
   {
    "duration": 5,
    "start_time": "2021-11-07T09:49:18.592Z"
   },
   {
    "duration": 8,
    "start_time": "2021-11-07T09:49:19.140Z"
   },
   {
    "duration": 14,
    "start_time": "2021-11-07T09:49:19.875Z"
   },
   {
    "duration": 50,
    "start_time": "2021-11-07T09:49:20.422Z"
   },
   {
    "duration": 5,
    "start_time": "2021-11-07T09:49:20.968Z"
   },
   {
    "duration": 3,
    "start_time": "2021-11-07T09:50:13.538Z"
   },
   {
    "duration": 60,
    "start_time": "2021-11-07T09:50:13.855Z"
   },
   {
    "duration": 59,
    "start_time": "2021-11-07T09:50:25.855Z"
   },
   {
    "duration": 6,
    "start_time": "2021-11-07T09:50:26.185Z"
   },
   {
    "duration": 8,
    "start_time": "2021-11-07T09:50:29.694Z"
   },
   {
    "duration": 13,
    "start_time": "2021-11-07T09:50:30.578Z"
   },
   {
    "duration": 15,
    "start_time": "2021-11-07T09:50:39.729Z"
   },
   {
    "duration": 7,
    "start_time": "2021-11-07T09:50:39.748Z"
   },
   {
    "duration": 11,
    "start_time": "2021-11-07T09:50:40.870Z"
   },
   {
    "duration": 22,
    "start_time": "2021-11-07T09:53:20.870Z"
   },
   {
    "duration": 408,
    "start_time": "2021-11-07T09:53:21.132Z"
   },
   {
    "duration": 533,
    "start_time": "2021-11-07T09:53:22.028Z"
   },
   {
    "duration": 417,
    "start_time": "2021-11-07T09:53:22.763Z"
   },
   {
    "duration": 332,
    "start_time": "2021-11-07T09:53:24.201Z"
   },
   {
    "duration": 6,
    "start_time": "2021-11-07T09:53:25.168Z"
   },
   {
    "duration": 6,
    "start_time": "2021-11-07T09:53:25.409Z"
   },
   {
    "duration": 7,
    "start_time": "2021-11-07T09:53:25.869Z"
   },
   {
    "duration": 417,
    "start_time": "2021-11-07T09:53:26.552Z"
   },
   {
    "duration": 491,
    "start_time": "2021-11-07T09:57:16.660Z"
   },
   {
    "duration": 1546,
    "start_time": "2021-11-07T09:58:15.559Z"
   },
   {
    "duration": 871,
    "start_time": "2021-11-07T09:58:17.108Z"
   },
   {
    "duration": 269,
    "start_time": "2021-11-07T09:58:17.982Z"
   },
   {
    "duration": 96,
    "start_time": "2021-11-07T09:58:18.253Z"
   },
   {
    "duration": 283,
    "start_time": "2021-11-07T09:58:18.351Z"
   },
   {
    "duration": 6,
    "start_time": "2021-11-07T09:58:18.637Z"
   },
   {
    "duration": 32,
    "start_time": "2021-11-07T09:58:18.646Z"
   },
   {
    "duration": 9,
    "start_time": "2021-11-07T09:58:18.682Z"
   },
   {
    "duration": 96,
    "start_time": "2021-11-07T09:58:18.693Z"
   },
   {
    "duration": 206,
    "start_time": "2021-11-07T09:58:19.163Z"
   },
   {
    "duration": 64,
    "start_time": "2021-11-07T09:58:19.373Z"
   },
   {
    "duration": 7,
    "start_time": "2021-11-07T09:58:19.695Z"
   },
   {
    "duration": 7,
    "start_time": "2021-11-07T09:58:20.191Z"
   },
   {
    "duration": 61,
    "start_time": "2021-11-07T09:58:20.273Z"
   },
   {
    "duration": 6,
    "start_time": "2021-11-07T09:58:20.356Z"
   },
   {
    "duration": 8,
    "start_time": "2021-11-07T09:58:20.449Z"
   },
   {
    "duration": 94,
    "start_time": "2021-11-07T09:58:20.896Z"
   },
   {
    "duration": 6,
    "start_time": "2021-11-07T09:58:21.394Z"
   },
   {
    "duration": 8,
    "start_time": "2021-11-07T09:58:21.476Z"
   },
   {
    "duration": 12,
    "start_time": "2021-11-07T09:58:21.565Z"
   },
   {
    "duration": 53,
    "start_time": "2021-11-07T09:58:21.654Z"
   },
   {
    "duration": 3,
    "start_time": "2021-11-07T09:58:21.728Z"
   },
   {
    "duration": 3,
    "start_time": "2021-11-07T09:58:22.168Z"
   },
   {
    "duration": 57,
    "start_time": "2021-11-07T09:58:22.651Z"
   },
   {
    "duration": 6,
    "start_time": "2021-11-07T09:58:22.733Z"
   },
   {
    "duration": 8,
    "start_time": "2021-11-07T09:58:22.816Z"
   },
   {
    "duration": 20,
    "start_time": "2021-11-07T09:58:22.901Z"
   },
   {
    "duration": 9,
    "start_time": "2021-11-07T09:58:23.283Z"
   },
   {
    "duration": 15,
    "start_time": "2021-11-07T09:58:23.784Z"
   },
   {
    "duration": 30,
    "start_time": "2021-11-07T09:58:24.931Z"
   },
   {
    "duration": 724,
    "start_time": "2021-11-07T09:58:25.030Z"
   },
   {
    "duration": 664,
    "start_time": "2021-11-07T09:58:25.757Z"
   },
   {
    "duration": 742,
    "start_time": "2021-11-07T09:58:26.425Z"
   },
   {
    "duration": 586,
    "start_time": "2021-11-07T09:58:27.170Z"
   },
   {
    "duration": 8,
    "start_time": "2021-11-07T09:58:27.767Z"
   },
   {
    "duration": 6,
    "start_time": "2021-11-07T09:58:27.778Z"
   },
   {
    "duration": 6,
    "start_time": "2021-11-07T09:58:27.786Z"
   },
   {
    "duration": 436,
    "start_time": "2021-11-07T09:58:27.948Z"
   },
   {
    "duration": 5,
    "start_time": "2021-11-07T09:58:28.455Z"
   },
   {
    "duration": 486,
    "start_time": "2021-11-07T09:58:28.702Z"
   },
   {
    "duration": 47,
    "start_time": "2021-11-07T09:59:23.963Z"
   },
   {
    "duration": 327,
    "start_time": "2021-11-07T10:00:30.791Z"
   },
   {
    "duration": 1474,
    "start_time": "2021-11-07T10:03:19.897Z"
   },
   {
    "duration": 907,
    "start_time": "2021-11-07T10:03:21.374Z"
   },
   {
    "duration": 289,
    "start_time": "2021-11-07T10:03:22.285Z"
   },
   {
    "duration": 104,
    "start_time": "2021-11-07T10:03:22.577Z"
   },
   {
    "duration": 270,
    "start_time": "2021-11-07T10:03:22.684Z"
   },
   {
    "duration": 12,
    "start_time": "2021-11-07T10:03:22.956Z"
   },
   {
    "duration": 17,
    "start_time": "2021-11-07T10:03:22.970Z"
   },
   {
    "duration": 7,
    "start_time": "2021-11-07T10:03:22.990Z"
   },
   {
    "duration": 87,
    "start_time": "2021-11-07T10:03:22.999Z"
   },
   {
    "duration": 211,
    "start_time": "2021-11-07T10:03:23.088Z"
   },
   {
    "duration": 76,
    "start_time": "2021-11-07T10:03:23.302Z"
   },
   {
    "duration": 6,
    "start_time": "2021-11-07T10:03:23.380Z"
   },
   {
    "duration": 12,
    "start_time": "2021-11-07T10:03:23.389Z"
   },
   {
    "duration": 89,
    "start_time": "2021-11-07T10:03:23.404Z"
   },
   {
    "duration": 5,
    "start_time": "2021-11-07T10:03:23.495Z"
   },
   {
    "duration": 15,
    "start_time": "2021-11-07T10:03:23.502Z"
   },
   {
    "duration": 58,
    "start_time": "2021-11-07T10:03:23.603Z"
   },
   {
    "duration": 5,
    "start_time": "2021-11-07T10:03:24.106Z"
   },
   {
    "duration": 7,
    "start_time": "2021-11-07T10:03:24.187Z"
   },
   {
    "duration": 12,
    "start_time": "2021-11-07T10:03:24.273Z"
   },
   {
    "duration": 52,
    "start_time": "2021-11-07T10:03:24.366Z"
   },
   {
    "duration": 4,
    "start_time": "2021-11-07T10:03:24.444Z"
   },
   {
    "duration": 4,
    "start_time": "2021-11-07T10:03:24.526Z"
   },
   {
    "duration": 62,
    "start_time": "2021-11-07T10:03:25.185Z"
   },
   {
    "duration": 5,
    "start_time": "2021-11-07T10:03:25.583Z"
   },
   {
    "duration": 8,
    "start_time": "2021-11-07T10:03:25.840Z"
   },
   {
    "duration": 14,
    "start_time": "2021-11-07T10:03:26.358Z"
   },
   {
    "duration": 8,
    "start_time": "2021-11-07T10:03:26.427Z"
   },
   {
    "duration": 12,
    "start_time": "2021-11-07T10:03:26.508Z"
   },
   {
    "duration": 21,
    "start_time": "2021-11-07T10:03:28.655Z"
   },
   {
    "duration": 417,
    "start_time": "2021-11-07T10:03:29.003Z"
   },
   {
    "duration": 434,
    "start_time": "2021-11-07T10:03:29.755Z"
   },
   {
    "duration": 424,
    "start_time": "2021-11-07T10:03:30.572Z"
   },
   {
    "duration": 360,
    "start_time": "2021-11-07T10:03:30.998Z"
   },
   {
    "duration": 10,
    "start_time": "2021-11-07T10:03:31.361Z"
   },
   {
    "duration": 11,
    "start_time": "2021-11-07T10:03:31.373Z"
   },
   {
    "duration": 6,
    "start_time": "2021-11-07T10:03:31.386Z"
   },
   {
    "duration": 548,
    "start_time": "2021-11-07T10:03:33.023Z"
   },
   {
    "duration": 286,
    "start_time": "2021-11-07T10:03:46.122Z"
   },
   {
    "duration": 56,
    "start_time": "2021-11-07T10:05:24.479Z"
   },
   {
    "duration": 311,
    "start_time": "2021-11-07T10:06:59.823Z"
   },
   {
    "duration": 261,
    "start_time": "2021-11-07T10:07:23.184Z"
   },
   {
    "duration": 50,
    "start_time": "2021-11-07T10:07:44.291Z"
   },
   {
    "duration": 10,
    "start_time": "2021-11-07T10:07:59.863Z"
   },
   {
    "duration": 1455,
    "start_time": "2021-11-07T10:09:16.176Z"
   },
   {
    "duration": 895,
    "start_time": "2021-11-07T10:09:17.634Z"
   },
   {
    "duration": 275,
    "start_time": "2021-11-07T10:09:18.531Z"
   },
   {
    "duration": 107,
    "start_time": "2021-11-07T10:09:18.809Z"
   },
   {
    "duration": 265,
    "start_time": "2021-11-07T10:09:18.918Z"
   },
   {
    "duration": 4,
    "start_time": "2021-11-07T10:09:19.185Z"
   },
   {
    "duration": 16,
    "start_time": "2021-11-07T10:09:19.192Z"
   },
   {
    "duration": 7,
    "start_time": "2021-11-07T10:09:19.212Z"
   },
   {
    "duration": 91,
    "start_time": "2021-11-07T10:09:19.221Z"
   },
   {
    "duration": 211,
    "start_time": "2021-11-07T10:09:19.314Z"
   },
   {
    "duration": 74,
    "start_time": "2021-11-07T10:09:19.528Z"
   },
   {
    "duration": 7,
    "start_time": "2021-11-07T10:09:19.605Z"
   },
   {
    "duration": 9,
    "start_time": "2021-11-07T10:09:19.614Z"
   },
   {
    "duration": 93,
    "start_time": "2021-11-07T10:09:19.625Z"
   },
   {
    "duration": 6,
    "start_time": "2021-11-07T10:09:19.720Z"
   },
   {
    "duration": 40,
    "start_time": "2021-11-07T10:09:19.728Z"
   },
   {
    "duration": 60,
    "start_time": "2021-11-07T10:09:19.770Z"
   },
   {
    "duration": 5,
    "start_time": "2021-11-07T10:09:19.832Z"
   },
   {
    "duration": 9,
    "start_time": "2021-11-07T10:09:19.869Z"
   },
   {
    "duration": 16,
    "start_time": "2021-11-07T10:09:19.881Z"
   },
   {
    "duration": 84,
    "start_time": "2021-11-07T10:09:19.902Z"
   },
   {
    "duration": 4,
    "start_time": "2021-11-07T10:09:19.990Z"
   },
   {
    "duration": 14,
    "start_time": "2021-11-07T10:09:19.997Z"
   },
   {
    "duration": 92,
    "start_time": "2021-11-07T10:09:20.014Z"
   },
   {
    "duration": 6,
    "start_time": "2021-11-07T10:09:20.108Z"
   },
   {
    "duration": 13,
    "start_time": "2021-11-07T10:09:20.116Z"
   },
   {
    "duration": 45,
    "start_time": "2021-11-07T10:09:20.131Z"
   },
   {
    "duration": 8,
    "start_time": "2021-11-07T10:09:20.178Z"
   },
   {
    "duration": 13,
    "start_time": "2021-11-07T10:09:21.116Z"
   },
   {
    "duration": 22,
    "start_time": "2021-11-07T10:09:22.753Z"
   },
   {
    "duration": 420,
    "start_time": "2021-11-07T10:09:22.838Z"
   },
   {
    "duration": 435,
    "start_time": "2021-11-07T10:09:23.268Z"
   },
   {
    "duration": 443,
    "start_time": "2021-11-07T10:09:23.706Z"
   },
   {
    "duration": 385,
    "start_time": "2021-11-07T10:09:24.152Z"
   },
   {
    "duration": 6,
    "start_time": "2021-11-07T10:09:24.782Z"
   },
   {
    "duration": 7,
    "start_time": "2021-11-07T10:09:25.680Z"
   },
   {
    "duration": 6,
    "start_time": "2021-11-07T10:09:26.195Z"
   },
   {
    "duration": 4,
    "start_time": "2021-11-07T10:09:27.037Z"
   },
   {
    "duration": 20,
    "start_time": "2021-11-07T10:09:28.321Z"
   },
   {
    "duration": 10,
    "start_time": "2021-11-07T10:09:29.256Z"
   },
   {
    "duration": 10,
    "start_time": "2021-11-07T10:09:29.933Z"
   },
   {
    "duration": 5,
    "start_time": "2021-11-07T10:09:30.789Z"
   },
   {
    "duration": 433,
    "start_time": "2021-11-07T10:09:53.299Z"
   },
   {
    "duration": 9,
    "start_time": "2021-11-07T10:09:57.885Z"
   },
   {
    "duration": 12,
    "start_time": "2021-11-07T10:09:58.228Z"
   },
   {
    "duration": 9,
    "start_time": "2021-11-07T10:09:58.462Z"
   },
   {
    "duration": 4,
    "start_time": "2021-11-07T10:09:58.754Z"
   },
   {
    "duration": 351,
    "start_time": "2021-11-07T10:09:59.284Z"
   },
   {
    "duration": 4,
    "start_time": "2021-11-07T10:10:05.141Z"
   },
   {
    "duration": 590,
    "start_time": "2021-11-07T10:10:08.838Z"
   },
   {
    "duration": 1470,
    "start_time": "2021-11-07T10:10:41.459Z"
   },
   {
    "duration": 905,
    "start_time": "2021-11-07T10:10:42.931Z"
   },
   {
    "duration": 273,
    "start_time": "2021-11-07T10:10:43.839Z"
   },
   {
    "duration": 104,
    "start_time": "2021-11-07T10:10:44.115Z"
   },
   {
    "duration": 268,
    "start_time": "2021-11-07T10:10:44.221Z"
   },
   {
    "duration": 4,
    "start_time": "2021-11-07T10:10:44.491Z"
   },
   {
    "duration": 19,
    "start_time": "2021-11-07T10:10:44.498Z"
   },
   {
    "duration": 8,
    "start_time": "2021-11-07T10:10:44.520Z"
   },
   {
    "duration": 88,
    "start_time": "2021-11-07T10:10:44.530Z"
   },
   {
    "duration": 208,
    "start_time": "2021-11-07T10:10:44.620Z"
   },
   {
    "duration": 73,
    "start_time": "2021-11-07T10:10:44.830Z"
   },
   {
    "duration": 6,
    "start_time": "2021-11-07T10:10:44.906Z"
   },
   {
    "duration": 10,
    "start_time": "2021-11-07T10:10:44.914Z"
   },
   {
    "duration": 91,
    "start_time": "2021-11-07T10:10:44.927Z"
   },
   {
    "duration": 5,
    "start_time": "2021-11-07T10:10:45.020Z"
   },
   {
    "duration": 11,
    "start_time": "2021-11-07T10:10:45.027Z"
   },
   {
    "duration": 83,
    "start_time": "2021-11-07T10:10:45.041Z"
   },
   {
    "duration": 5,
    "start_time": "2021-11-07T10:10:45.126Z"
   },
   {
    "duration": 34,
    "start_time": "2021-11-07T10:10:45.134Z"
   },
   {
    "duration": 15,
    "start_time": "2021-11-07T10:10:45.172Z"
   },
   {
    "duration": 94,
    "start_time": "2021-11-07T10:10:45.192Z"
   },
   {
    "duration": 4,
    "start_time": "2021-11-07T10:10:45.290Z"
   },
   {
    "duration": 5,
    "start_time": "2021-11-07T10:10:45.297Z"
   },
   {
    "duration": 88,
    "start_time": "2021-11-07T10:10:45.304Z"
   },
   {
    "duration": 5,
    "start_time": "2021-11-07T10:10:45.395Z"
   },
   {
    "duration": 10,
    "start_time": "2021-11-07T10:10:45.402Z"
   },
   {
    "duration": 52,
    "start_time": "2021-11-07T10:10:45.415Z"
   },
   {
    "duration": 9,
    "start_time": "2021-11-07T10:10:45.471Z"
   },
   {
    "duration": 15,
    "start_time": "2021-11-07T10:10:45.483Z"
   },
   {
    "duration": 23,
    "start_time": "2021-11-07T10:10:45.727Z"
   },
   {
    "duration": 419,
    "start_time": "2021-11-07T10:10:45.812Z"
   },
   {
    "duration": 449,
    "start_time": "2021-11-07T10:10:46.233Z"
   },
   {
    "duration": 446,
    "start_time": "2021-11-07T10:10:46.685Z"
   },
   {
    "duration": 351,
    "start_time": "2021-11-07T10:10:47.134Z"
   },
   {
    "duration": 7,
    "start_time": "2021-11-07T10:10:47.487Z"
   },
   {
    "duration": 12,
    "start_time": "2021-11-07T10:10:47.496Z"
   },
   {
    "duration": 10,
    "start_time": "2021-11-07T10:10:47.511Z"
   },
   {
    "duration": 8,
    "start_time": "2021-11-07T10:10:47.524Z"
   },
   {
    "duration": 464,
    "start_time": "2021-11-07T10:10:47.534Z"
   },
   {
    "duration": 21,
    "start_time": "2021-11-07T10:10:48.001Z"
   },
   {
    "duration": 9,
    "start_time": "2021-11-07T10:10:48.025Z"
   },
   {
    "duration": 30,
    "start_time": "2021-11-07T10:10:48.044Z"
   },
   {
    "duration": 4,
    "start_time": "2021-11-07T10:10:48.182Z"
   },
   {
    "duration": 396,
    "start_time": "2021-11-07T10:10:48.209Z"
   },
   {
    "duration": 4,
    "start_time": "2021-11-07T10:10:48.608Z"
   },
   {
    "duration": 1514,
    "start_time": "2021-11-07T10:11:56.279Z"
   },
   {
    "duration": 903,
    "start_time": "2021-11-07T10:11:57.795Z"
   },
   {
    "duration": 275,
    "start_time": "2021-11-07T10:11:58.701Z"
   },
   {
    "duration": 110,
    "start_time": "2021-11-07T10:11:58.979Z"
   },
   {
    "duration": 271,
    "start_time": "2021-11-07T10:11:59.092Z"
   },
   {
    "duration": 5,
    "start_time": "2021-11-07T10:11:59.367Z"
   },
   {
    "duration": 18,
    "start_time": "2021-11-07T10:11:59.374Z"
   },
   {
    "duration": 8,
    "start_time": "2021-11-07T10:11:59.395Z"
   },
   {
    "duration": 89,
    "start_time": "2021-11-07T10:11:59.405Z"
   },
   {
    "duration": 214,
    "start_time": "2021-11-07T10:11:59.496Z"
   },
   {
    "duration": 77,
    "start_time": "2021-11-07T10:11:59.713Z"
   },
   {
    "duration": 7,
    "start_time": "2021-11-07T10:11:59.793Z"
   },
   {
    "duration": 9,
    "start_time": "2021-11-07T10:11:59.803Z"
   },
   {
    "duration": 101,
    "start_time": "2021-11-07T10:11:59.815Z"
   },
   {
    "duration": 6,
    "start_time": "2021-11-07T10:11:59.918Z"
   },
   {
    "duration": 17,
    "start_time": "2021-11-07T10:11:59.926Z"
   },
   {
    "duration": 76,
    "start_time": "2021-11-07T10:11:59.945Z"
   },
   {
    "duration": 5,
    "start_time": "2021-11-07T10:12:00.024Z"
   },
   {
    "duration": 40,
    "start_time": "2021-11-07T10:12:00.031Z"
   },
   {
    "duration": 50,
    "start_time": "2021-11-07T10:12:00.074Z"
   },
   {
    "duration": 74,
    "start_time": "2021-11-07T10:12:00.126Z"
   },
   {
    "duration": 15,
    "start_time": "2021-11-07T10:12:00.202Z"
   },
   {
    "duration": 17,
    "start_time": "2021-11-07T10:12:00.220Z"
   },
   {
    "duration": 69,
    "start_time": "2021-11-07T10:12:00.240Z"
   },
   {
    "duration": 6,
    "start_time": "2021-11-07T10:12:00.312Z"
   },
   {
    "duration": 22,
    "start_time": "2021-11-07T10:12:00.321Z"
   },
   {
    "duration": 27,
    "start_time": "2021-11-07T10:12:00.366Z"
   },
   {
    "duration": 27,
    "start_time": "2021-11-07T10:12:00.395Z"
   },
   {
    "duration": 24,
    "start_time": "2021-11-07T10:12:00.425Z"
   },
   {
    "duration": 25,
    "start_time": "2021-11-07T10:12:00.545Z"
   },
   {
    "duration": 441,
    "start_time": "2021-11-07T10:12:00.637Z"
   },
   {
    "duration": 446,
    "start_time": "2021-11-07T10:12:01.081Z"
   },
   {
    "duration": 565,
    "start_time": "2021-11-07T10:12:01.531Z"
   },
   {
    "duration": 369,
    "start_time": "2021-11-07T10:12:02.099Z"
   },
   {
    "duration": 8,
    "start_time": "2021-11-07T10:12:02.471Z"
   },
   {
    "duration": 19,
    "start_time": "2021-11-07T10:12:02.483Z"
   },
   {
    "duration": 7,
    "start_time": "2021-11-07T10:12:02.527Z"
   },
   {
    "duration": 5,
    "start_time": "2021-11-07T10:12:02.782Z"
   },
   {
    "duration": 471,
    "start_time": "2021-11-07T10:12:03.140Z"
   },
   {
    "duration": 19,
    "start_time": "2021-11-07T10:12:03.969Z"
   },
   {
    "duration": 4,
    "start_time": "2021-11-07T10:12:04.433Z"
   },
   {
    "duration": 10,
    "start_time": "2021-11-07T10:12:05.017Z"
   },
   {
    "duration": 5,
    "start_time": "2021-11-07T10:12:05.592Z"
   },
   {
    "duration": 10,
    "start_time": "2021-11-07T10:12:05.832Z"
   },
   {
    "duration": 5,
    "start_time": "2021-11-07T10:12:06.052Z"
   },
   {
    "duration": 361,
    "start_time": "2021-11-07T10:12:06.499Z"
   },
   {
    "duration": 4,
    "start_time": "2021-11-07T10:12:06.962Z"
   },
   {
    "duration": 290,
    "start_time": "2021-11-07T10:13:09.328Z"
   },
   {
    "duration": 328,
    "start_time": "2021-11-07T10:13:16.703Z"
   },
   {
    "duration": 1509,
    "start_time": "2021-11-07T10:17:17.658Z"
   },
   {
    "duration": 934,
    "start_time": "2021-11-07T10:17:19.170Z"
   },
   {
    "duration": 295,
    "start_time": "2021-11-07T10:17:20.108Z"
   },
   {
    "duration": 122,
    "start_time": "2021-11-07T10:17:20.406Z"
   },
   {
    "duration": 268,
    "start_time": "2021-11-07T10:17:20.530Z"
   },
   {
    "duration": 4,
    "start_time": "2021-11-07T10:17:20.801Z"
   },
   {
    "duration": 18,
    "start_time": "2021-11-07T10:17:20.807Z"
   },
   {
    "duration": 8,
    "start_time": "2021-11-07T10:17:20.829Z"
   },
   {
    "duration": 78,
    "start_time": "2021-11-07T10:17:20.840Z"
   },
   {
    "duration": 217,
    "start_time": "2021-11-07T10:17:20.920Z"
   },
   {
    "duration": 85,
    "start_time": "2021-11-07T10:17:21.139Z"
   },
   {
    "duration": 8,
    "start_time": "2021-11-07T10:17:21.227Z"
   },
   {
    "duration": 38,
    "start_time": "2021-11-07T10:17:21.237Z"
   },
   {
    "duration": 65,
    "start_time": "2021-11-07T10:17:21.279Z"
   },
   {
    "duration": 21,
    "start_time": "2021-11-07T10:17:21.347Z"
   },
   {
    "duration": 13,
    "start_time": "2021-11-07T10:17:21.371Z"
   },
   {
    "duration": 94,
    "start_time": "2021-11-07T10:17:21.387Z"
   },
   {
    "duration": 7,
    "start_time": "2021-11-07T10:17:21.484Z"
   },
   {
    "duration": 10,
    "start_time": "2021-11-07T10:17:21.496Z"
   },
   {
    "duration": 13,
    "start_time": "2021-11-07T10:17:21.573Z"
   },
   {
    "duration": 53,
    "start_time": "2021-11-07T10:17:21.663Z"
   },
   {
    "duration": 3,
    "start_time": "2021-11-07T10:17:21.755Z"
   },
   {
    "duration": 3,
    "start_time": "2021-11-07T10:17:21.843Z"
   },
   {
    "duration": 60,
    "start_time": "2021-11-07T10:17:21.928Z"
   },
   {
    "duration": 6,
    "start_time": "2021-11-07T10:17:22.002Z"
   },
   {
    "duration": 8,
    "start_time": "2021-11-07T10:17:22.089Z"
   },
   {
    "duration": 14,
    "start_time": "2021-11-07T10:17:22.160Z"
   },
   {
    "duration": 7,
    "start_time": "2021-11-07T10:17:22.484Z"
   },
   {
    "duration": 14,
    "start_time": "2021-11-07T10:17:22.987Z"
   },
   {
    "duration": 22,
    "start_time": "2021-11-07T10:17:23.493Z"
   },
   {
    "duration": 423,
    "start_time": "2021-11-07T10:17:23.573Z"
   },
   {
    "duration": 440,
    "start_time": "2021-11-07T10:17:23.999Z"
   },
   {
    "duration": 444,
    "start_time": "2021-11-07T10:17:24.442Z"
   },
   {
    "duration": 364,
    "start_time": "2021-11-07T10:17:24.889Z"
   },
   {
    "duration": 14,
    "start_time": "2021-11-07T10:17:25.256Z"
   },
   {
    "duration": 16,
    "start_time": "2021-11-07T10:17:25.273Z"
   },
   {
    "duration": 18,
    "start_time": "2021-11-07T10:17:25.291Z"
   },
   {
    "duration": 436,
    "start_time": "2021-11-07T10:17:25.331Z"
   },
   {
    "duration": 20,
    "start_time": "2021-11-07T10:17:25.770Z"
   },
   {
    "duration": 8,
    "start_time": "2021-11-07T10:17:25.793Z"
   },
   {
    "duration": 9,
    "start_time": "2021-11-07T10:17:25.804Z"
   },
   {
    "duration": 401,
    "start_time": "2021-11-07T10:17:25.815Z"
   },
   {
    "duration": 49,
    "start_time": "2021-11-07T10:17:26.634Z"
   },
   {
    "duration": 6,
    "start_time": "2021-11-07T10:17:26.713Z"
   },
   {
    "duration": 5,
    "start_time": "2021-11-07T10:17:27.272Z"
   },
   {
    "duration": 7,
    "start_time": "2021-11-07T10:17:27.808Z"
   },
   {
    "duration": 3,
    "start_time": "2021-11-07T10:17:28.117Z"
   },
   {
    "duration": 4,
    "start_time": "2021-11-07T10:17:28.945Z"
   },
   {
    "duration": 455,
    "start_time": "2021-11-07T10:17:29.196Z"
   },
   {
    "duration": -178,
    "start_time": "2021-11-07T10:17:29.832Z"
   },
   {
    "duration": 314,
    "start_time": "2021-11-07T10:17:29.808Z"
   },
   {
    "duration": 321,
    "start_time": "2021-11-07T10:17:49.655Z"
   },
   {
    "duration": 4,
    "start_time": "2021-11-07T10:17:50.782Z"
   },
   {
    "duration": 412,
    "start_time": "2021-11-07T10:17:51.114Z"
   },
   {
    "duration": -122,
    "start_time": "2021-11-07T10:17:51.651Z"
   },
   {
    "duration": 309,
    "start_time": "2021-11-07T10:17:51.830Z"
   },
   {
    "duration": 15,
    "start_time": "2021-11-07T10:17:52.242Z"
   },
   {
    "duration": 4,
    "start_time": "2021-11-07T10:17:52.433Z"
   },
   {
    "duration": 326,
    "start_time": "2021-11-07T10:17:52.614Z"
   },
   {
    "duration": -147,
    "start_time": "2021-11-07T10:17:53.090Z"
   },
   {
    "duration": 397,
    "start_time": "2021-11-07T10:17:54.173Z"
   },
   {
    "duration": 1454,
    "start_time": "2021-11-07T10:20:36.220Z"
   },
   {
    "duration": 910,
    "start_time": "2021-11-07T10:20:37.677Z"
   },
   {
    "duration": 266,
    "start_time": "2021-11-07T10:20:38.590Z"
   },
   {
    "duration": 111,
    "start_time": "2021-11-07T10:20:38.859Z"
   },
   {
    "duration": 263,
    "start_time": "2021-11-07T10:20:38.972Z"
   },
   {
    "duration": 4,
    "start_time": "2021-11-07T10:20:39.238Z"
   },
   {
    "duration": 31,
    "start_time": "2021-11-07T10:20:39.245Z"
   },
   {
    "duration": 7,
    "start_time": "2021-11-07T10:20:39.279Z"
   },
   {
    "duration": 82,
    "start_time": "2021-11-07T10:20:39.289Z"
   },
   {
    "duration": 202,
    "start_time": "2021-11-07T10:20:39.374Z"
   },
   {
    "duration": 58,
    "start_time": "2021-11-07T10:20:39.578Z"
   },
   {
    "duration": 31,
    "start_time": "2021-11-07T10:20:39.639Z"
   },
   {
    "duration": 7,
    "start_time": "2021-11-07T10:20:42.144Z"
   },
   {
    "duration": 63,
    "start_time": "2021-11-07T10:20:51.574Z"
   },
   {
    "duration": 6,
    "start_time": "2021-11-07T10:20:51.972Z"
   },
   {
    "duration": 7,
    "start_time": "2021-11-07T10:20:52.378Z"
   },
   {
    "duration": 61,
    "start_time": "2021-11-07T10:20:52.882Z"
   },
   {
    "duration": 5,
    "start_time": "2021-11-07T10:20:53.679Z"
   },
   {
    "duration": 8,
    "start_time": "2021-11-07T10:20:54.191Z"
   },
   {
    "duration": 14,
    "start_time": "2021-11-07T10:20:54.262Z"
   },
   {
    "duration": 53,
    "start_time": "2021-11-07T10:20:54.361Z"
   },
   {
    "duration": 4,
    "start_time": "2021-11-07T10:20:54.442Z"
   },
   {
    "duration": 3,
    "start_time": "2021-11-07T10:20:54.517Z"
   },
   {
    "duration": 63,
    "start_time": "2021-11-07T10:20:55.342Z"
   },
   {
    "duration": 7,
    "start_time": "2021-11-07T10:20:55.842Z"
   },
   {
    "duration": 8,
    "start_time": "2021-11-07T10:20:55.925Z"
   },
   {
    "duration": 15,
    "start_time": "2021-11-07T10:20:56.010Z"
   },
   {
    "duration": 7,
    "start_time": "2021-11-07T10:20:56.094Z"
   },
   {
    "duration": 13,
    "start_time": "2021-11-07T10:20:56.176Z"
   },
   {
    "duration": 25,
    "start_time": "2021-11-07T10:20:56.683Z"
   },
   {
    "duration": 432,
    "start_time": "2021-11-07T10:20:57.337Z"
   },
   {
    "duration": 440,
    "start_time": "2021-11-07T10:20:57.920Z"
   },
   {
    "duration": 440,
    "start_time": "2021-11-07T10:20:58.470Z"
   },
   {
    "duration": 346,
    "start_time": "2021-11-07T10:20:59.870Z"
   },
   {
    "duration": 7,
    "start_time": "2021-11-07T10:21:00.873Z"
   },
   {
    "duration": 7,
    "start_time": "2021-11-07T10:21:01.137Z"
   },
   {
    "duration": 6,
    "start_time": "2021-11-07T10:21:01.377Z"
   },
   {
    "duration": 467,
    "start_time": "2021-11-07T10:21:01.637Z"
   },
   {
    "duration": 20,
    "start_time": "2021-11-07T10:21:02.107Z"
   },
   {
    "duration": 10,
    "start_time": "2021-11-07T10:21:02.411Z"
   },
   {
    "duration": 9,
    "start_time": "2021-11-07T10:21:02.840Z"
   },
   {
    "duration": 374,
    "start_time": "2021-11-07T10:21:03.330Z"
   },
   {
    "duration": 1521,
    "start_time": "2021-11-07T10:23:30.319Z"
   },
   {
    "duration": 912,
    "start_time": "2021-11-07T10:23:31.843Z"
   },
   {
    "duration": 292,
    "start_time": "2021-11-07T10:23:32.757Z"
   },
   {
    "duration": 100,
    "start_time": "2021-11-07T10:23:33.051Z"
   },
   {
    "duration": 269,
    "start_time": "2021-11-07T10:23:33.167Z"
   },
   {
    "duration": 5,
    "start_time": "2021-11-07T10:23:33.439Z"
   },
   {
    "duration": 34,
    "start_time": "2021-11-07T10:23:33.446Z"
   },
   {
    "duration": 7,
    "start_time": "2021-11-07T10:23:33.483Z"
   },
   {
    "duration": 80,
    "start_time": "2021-11-07T10:23:33.493Z"
   },
   {
    "duration": 205,
    "start_time": "2021-11-07T10:23:33.575Z"
   },
   {
    "duration": 57,
    "start_time": "2021-11-07T10:23:33.782Z"
   },
   {
    "duration": 28,
    "start_time": "2021-11-07T10:23:33.841Z"
   },
   {
    "duration": 11,
    "start_time": "2021-11-07T10:23:33.871Z"
   },
   {
    "duration": 83,
    "start_time": "2021-11-07T10:23:33.884Z"
   },
   {
    "duration": 6,
    "start_time": "2021-11-07T10:23:33.970Z"
   },
   {
    "duration": 14,
    "start_time": "2021-11-07T10:23:33.978Z"
   },
   {
    "duration": 92,
    "start_time": "2021-11-07T10:23:33.994Z"
   },
   {
    "duration": 7,
    "start_time": "2021-11-07T10:23:34.089Z"
   },
   {
    "duration": 19,
    "start_time": "2021-11-07T10:23:34.101Z"
   },
   {
    "duration": 43,
    "start_time": "2021-11-07T10:23:34.123Z"
   },
   {
    "duration": 53,
    "start_time": "2021-11-07T10:23:34.169Z"
   },
   {
    "duration": 3,
    "start_time": "2021-11-07T10:23:34.265Z"
   },
   {
    "duration": 3,
    "start_time": "2021-11-07T10:23:34.461Z"
   },
   {
    "duration": 60,
    "start_time": "2021-11-07T10:23:34.657Z"
   },
   {
    "duration": 6,
    "start_time": "2021-11-07T10:23:34.877Z"
   },
   {
    "duration": 7,
    "start_time": "2021-11-07T10:23:35.065Z"
   },
   {
    "duration": 14,
    "start_time": "2021-11-07T10:23:35.333Z"
   },
   {
    "duration": 7,
    "start_time": "2021-11-07T10:23:36.360Z"
   },
   {
    "duration": 12,
    "start_time": "2021-11-07T10:23:36.769Z"
   },
   {
    "duration": 23,
    "start_time": "2021-11-07T10:23:47.970Z"
   },
   {
    "duration": 30,
    "start_time": "2021-11-07T10:23:48.636Z"
   },
   {
    "duration": 19,
    "start_time": "2021-11-07T10:23:54.457Z"
   },
   {
    "duration": 406,
    "start_time": "2021-11-07T10:23:55.104Z"
   },
   {
    "duration": 407,
    "start_time": "2021-11-07T10:23:57.485Z"
   },
   {
    "duration": 412,
    "start_time": "2021-11-07T10:23:58.536Z"
   },
   {
    "duration": 330,
    "start_time": "2021-11-07T10:24:00.072Z"
   },
   {
    "duration": 7,
    "start_time": "2021-11-07T10:24:01.471Z"
   },
   {
    "duration": 6,
    "start_time": "2021-11-07T10:24:01.836Z"
   },
   {
    "duration": 6,
    "start_time": "2021-11-07T10:24:02.531Z"
   },
   {
    "duration": 440,
    "start_time": "2021-11-07T10:24:03.812Z"
   },
   {
    "duration": 14,
    "start_time": "2021-11-07T10:24:04.495Z"
   },
   {
    "duration": 9,
    "start_time": "2021-11-07T10:24:05.119Z"
   },
   {
    "duration": 9,
    "start_time": "2021-11-07T10:24:05.486Z"
   },
   {
    "duration": 364,
    "start_time": "2021-11-07T10:24:05.972Z"
   },
   {
    "duration": 10,
    "start_time": "2021-11-07T10:24:53.760Z"
   },
   {
    "duration": 9,
    "start_time": "2021-11-07T10:24:54.007Z"
   },
   {
    "duration": 8,
    "start_time": "2021-11-07T10:24:54.280Z"
   },
   {
    "duration": 369,
    "start_time": "2021-11-07T10:24:54.987Z"
   },
   {
    "duration": 9,
    "start_time": "2021-11-07T10:25:58.684Z"
   },
   {
    "duration": 11,
    "start_time": "2021-11-07T10:25:58.992Z"
   },
   {
    "duration": 9,
    "start_time": "2021-11-07T10:25:59.721Z"
   },
   {
    "duration": 375,
    "start_time": "2021-11-07T10:26:01.414Z"
   },
   {
    "duration": 374,
    "start_time": "2021-11-07T10:26:22.012Z"
   },
   {
    "duration": 46,
    "start_time": "2021-11-07T10:26:29.971Z"
   },
   {
    "duration": 5,
    "start_time": "2021-11-07T10:26:30.958Z"
   },
   {
    "duration": 4,
    "start_time": "2021-11-07T10:26:31.471Z"
   },
   {
    "duration": 7,
    "start_time": "2021-11-07T10:26:31.871Z"
   },
   {
    "duration": 3,
    "start_time": "2021-11-07T10:26:32.477Z"
   },
   {
    "duration": 4,
    "start_time": "2021-11-07T10:26:35.276Z"
   },
   {
    "duration": 441,
    "start_time": "2021-11-07T10:26:36.372Z"
   },
   {
    "duration": 320,
    "start_time": "2021-11-07T10:26:38.626Z"
   },
   {
    "duration": 1575,
    "start_time": "2021-11-07T10:45:18.047Z"
   },
   {
    "duration": 913,
    "start_time": "2021-11-07T10:45:19.625Z"
   },
   {
    "duration": 280,
    "start_time": "2021-11-07T10:45:20.540Z"
   },
   {
    "duration": 112,
    "start_time": "2021-11-07T10:45:20.824Z"
   },
   {
    "duration": 278,
    "start_time": "2021-11-07T10:45:20.938Z"
   },
   {
    "duration": 4,
    "start_time": "2021-11-07T10:45:21.219Z"
   },
   {
    "duration": 19,
    "start_time": "2021-11-07T10:45:21.226Z"
   },
   {
    "duration": 25,
    "start_time": "2021-11-07T10:45:21.249Z"
   },
   {
    "duration": 92,
    "start_time": "2021-11-07T10:45:21.278Z"
   },
   {
    "duration": 212,
    "start_time": "2021-11-07T10:45:21.373Z"
   },
   {
    "duration": 80,
    "start_time": "2021-11-07T10:45:21.588Z"
   },
   {
    "duration": 8,
    "start_time": "2021-11-07T10:45:21.671Z"
   },
   {
    "duration": 12,
    "start_time": "2021-11-07T10:45:21.682Z"
   },
   {
    "duration": 96,
    "start_time": "2021-11-07T10:45:21.697Z"
   },
   {
    "duration": 6,
    "start_time": "2021-11-07T10:45:21.795Z"
   },
   {
    "duration": 15,
    "start_time": "2021-11-07T10:45:21.803Z"
   },
   {
    "duration": 89,
    "start_time": "2021-11-07T10:45:21.820Z"
   },
   {
    "duration": 6,
    "start_time": "2021-11-07T10:45:21.911Z"
   },
   {
    "duration": 8,
    "start_time": "2021-11-07T10:45:21.920Z"
   },
   {
    "duration": 42,
    "start_time": "2021-11-07T10:45:21.930Z"
   },
   {
    "duration": 52,
    "start_time": "2021-11-07T10:45:21.974Z"
   },
   {
    "duration": 4,
    "start_time": "2021-11-07T10:45:22.029Z"
   },
   {
    "duration": 3,
    "start_time": "2021-11-07T10:45:22.071Z"
   },
   {
    "duration": 67,
    "start_time": "2021-11-07T10:45:22.077Z"
   },
   {
    "duration": 6,
    "start_time": "2021-11-07T10:45:22.492Z"
   },
   {
    "duration": 8,
    "start_time": "2021-11-07T10:45:23.057Z"
   },
   {
    "duration": 16,
    "start_time": "2021-11-07T10:45:23.299Z"
   },
   {
    "duration": 8,
    "start_time": "2021-11-07T10:45:23.812Z"
   },
   {
    "duration": 14,
    "start_time": "2021-11-07T10:45:23.889Z"
   },
   {
    "duration": 22,
    "start_time": "2021-11-07T10:45:24.885Z"
   },
   {
    "duration": 21,
    "start_time": "2021-11-07T10:45:25.396Z"
   },
   {
    "duration": 427,
    "start_time": "2021-11-07T10:45:26.040Z"
   },
   {
    "duration": 421,
    "start_time": "2021-11-07T10:45:26.540Z"
   },
   {
    "duration": 455,
    "start_time": "2021-11-07T10:45:26.968Z"
   },
   {
    "duration": 335,
    "start_time": "2021-11-07T10:45:28.232Z"
   },
   {
    "duration": 6,
    "start_time": "2021-11-07T10:45:31.989Z"
   },
   {
    "duration": 7,
    "start_time": "2021-11-07T10:45:32.433Z"
   },
   {
    "duration": 7,
    "start_time": "2021-11-07T10:45:32.788Z"
   },
   {
    "duration": 462,
    "start_time": "2021-11-07T10:45:33.315Z"
   },
   {
    "duration": 18,
    "start_time": "2021-11-07T10:45:33.840Z"
   },
   {
    "duration": 10,
    "start_time": "2021-11-07T10:45:34.481Z"
   },
   {
    "duration": 9,
    "start_time": "2021-11-07T10:45:35.223Z"
   },
   {
    "duration": 375,
    "start_time": "2021-11-07T10:45:35.592Z"
   },
   {
    "duration": 47,
    "start_time": "2021-11-07T10:45:43.310Z"
   },
   {
    "duration": 455,
    "start_time": "2021-11-07T10:54:22.711Z"
   },
   {
    "duration": 1422,
    "start_time": "2021-11-07T10:54:43.704Z"
   },
   {
    "duration": 878,
    "start_time": "2021-11-07T10:54:45.129Z"
   },
   {
    "duration": 117,
    "start_time": "2021-11-07T10:54:46.282Z"
   },
   {
    "duration": 244,
    "start_time": "2021-11-07T10:54:46.402Z"
   },
   {
    "duration": 4,
    "start_time": "2021-11-07T10:54:46.649Z"
   },
   {
    "duration": 13,
    "start_time": "2021-11-07T10:54:46.668Z"
   },
   {
    "duration": 4,
    "start_time": "2021-11-07T15:37:08.449Z"
   },
   {
    "duration": 898,
    "start_time": "2021-11-07T15:37:08.735Z"
   },
   {
    "duration": 274,
    "start_time": "2021-11-07T15:37:09.738Z"
   },
   {
    "duration": 99,
    "start_time": "2021-11-07T15:37:10.261Z"
   },
   {
    "duration": 241,
    "start_time": "2021-11-07T15:37:10.390Z"
   },
   {
    "duration": 6,
    "start_time": "2021-11-07T15:37:10.649Z"
   },
   {
    "duration": 8,
    "start_time": "2021-11-07T15:37:10.695Z"
   },
   {
    "duration": 9,
    "start_time": "2021-11-07T15:37:10.811Z"
   },
   {
    "duration": 79,
    "start_time": "2021-11-07T15:37:11.055Z"
   },
   {
    "duration": 203,
    "start_time": "2021-11-07T15:37:11.230Z"
   },
   {
    "duration": 54,
    "start_time": "2021-11-07T15:37:11.443Z"
   },
   {
    "duration": 5,
    "start_time": "2021-11-07T15:37:11.507Z"
   },
   {
    "duration": 7,
    "start_time": "2021-11-07T15:37:11.621Z"
   },
   {
    "duration": 66,
    "start_time": "2021-11-07T15:37:11.638Z"
   },
   {
    "duration": 5,
    "start_time": "2021-11-07T15:37:11.715Z"
   },
   {
    "duration": 8,
    "start_time": "2021-11-07T15:37:11.827Z"
   },
   {
    "duration": 26,
    "start_time": "2021-11-07T15:37:11.886Z"
   },
   {
    "duration": 4,
    "start_time": "2021-11-07T15:37:11.923Z"
   },
   {
    "duration": 8,
    "start_time": "2021-11-07T15:37:11.995Z"
   },
   {
    "duration": 16,
    "start_time": "2021-11-07T15:37:12.115Z"
   },
   {
    "duration": 98,
    "start_time": "2021-11-07T15:37:12.136Z"
   },
   {
    "duration": 3,
    "start_time": "2021-11-07T15:37:12.241Z"
   },
   {
    "duration": 4,
    "start_time": "2021-11-07T15:37:12.283Z"
   },
   {
    "duration": 107,
    "start_time": "2021-11-07T15:37:12.290Z"
   },
   {
    "duration": 6,
    "start_time": "2021-11-07T15:37:12.400Z"
   },
   {
    "duration": 8,
    "start_time": "2021-11-07T15:37:12.409Z"
   },
   {
    "duration": 67,
    "start_time": "2021-11-07T15:37:12.420Z"
   },
   {
    "duration": 8,
    "start_time": "2021-11-07T15:37:12.491Z"
   },
   {
    "duration": 15,
    "start_time": "2021-11-07T15:37:12.502Z"
   },
   {
    "duration": 77,
    "start_time": "2021-11-07T15:37:12.520Z"
   },
   {
    "duration": 23,
    "start_time": "2021-11-07T15:37:12.600Z"
   },
   {
    "duration": 461,
    "start_time": "2021-11-07T15:37:12.625Z"
   },
   {
    "duration": 416,
    "start_time": "2021-11-07T15:37:13.089Z"
   },
   {
    "duration": 543,
    "start_time": "2021-11-07T15:37:13.507Z"
   },
   {
    "duration": 336,
    "start_time": "2021-11-07T15:37:14.052Z"
   },
   {
    "duration": 6,
    "start_time": "2021-11-07T15:37:14.391Z"
   },
   {
    "duration": 13,
    "start_time": "2021-11-07T15:37:14.400Z"
   },
   {
    "duration": 11,
    "start_time": "2021-11-07T15:37:14.415Z"
   },
   {
    "duration": 456,
    "start_time": "2021-11-07T15:37:14.429Z"
   },
   {
    "duration": 17,
    "start_time": "2021-11-07T15:37:14.887Z"
   },
   {
    "duration": 8,
    "start_time": "2021-11-07T15:37:14.911Z"
   },
   {
    "duration": 11,
    "start_time": "2021-11-07T15:37:14.922Z"
   },
   {
    "duration": 420,
    "start_time": "2021-11-07T15:37:14.935Z"
   },
   {
    "duration": 74,
    "start_time": "2021-11-07T15:37:15.358Z"
   },
   {
    "duration": 5,
    "start_time": "2021-11-07T15:37:15.435Z"
   },
   {
    "duration": 20,
    "start_time": "2021-11-07T15:37:15.442Z"
   },
   {
    "duration": 21,
    "start_time": "2021-11-07T15:37:15.464Z"
   },
   {
    "duration": 9,
    "start_time": "2021-11-07T15:37:15.487Z"
   },
   {
    "duration": 9,
    "start_time": "2021-11-07T15:37:15.498Z"
   },
   {
    "duration": 484,
    "start_time": "2021-11-07T15:37:29.762Z"
   },
   {
    "duration": 312,
    "start_time": "2021-11-07T15:38:21.165Z"
   },
   {
    "duration": 4,
    "start_time": "2021-11-07T15:42:03.424Z"
   },
   {
    "duration": 917,
    "start_time": "2021-11-07T15:42:04.225Z"
   },
   {
    "duration": 261,
    "start_time": "2021-11-07T15:42:05.145Z"
   },
   {
    "duration": 87,
    "start_time": "2021-11-07T15:42:06.174Z"
   },
   {
    "duration": 257,
    "start_time": "2021-11-07T15:42:06.675Z"
   },
   {
    "duration": 5,
    "start_time": "2021-11-07T15:42:06.941Z"
   },
   {
    "duration": 8,
    "start_time": "2021-11-07T15:42:07.094Z"
   },
   {
    "duration": 8,
    "start_time": "2021-11-07T15:42:07.273Z"
   },
   {
    "duration": 56,
    "start_time": "2021-11-07T15:42:07.593Z"
   },
   {
    "duration": 171,
    "start_time": "2021-11-07T15:42:08.014Z"
   },
   {
    "duration": 57,
    "start_time": "2021-11-07T15:42:08.188Z"
   },
   {
    "duration": 19,
    "start_time": "2021-11-07T15:42:08.262Z"
   },
   {
    "duration": 7,
    "start_time": "2021-11-07T15:42:08.345Z"
   },
   {
    "duration": 60,
    "start_time": "2021-11-07T15:42:08.434Z"
   },
   {
    "duration": 5,
    "start_time": "2021-11-07T15:42:08.522Z"
   },
   {
    "duration": 8,
    "start_time": "2021-11-07T15:42:08.596Z"
   },
   {
    "duration": 59,
    "start_time": "2021-11-07T15:42:08.685Z"
   },
   {
    "duration": 6,
    "start_time": "2021-11-07T15:42:08.763Z"
   },
   {
    "duration": 8,
    "start_time": "2021-11-07T15:42:08.850Z"
   },
   {
    "duration": 13,
    "start_time": "2021-11-07T15:42:08.937Z"
   },
   {
    "duration": 53,
    "start_time": "2021-11-07T15:42:09.029Z"
   },
   {
    "duration": 3,
    "start_time": "2021-11-07T15:42:09.109Z"
   },
   {
    "duration": 3,
    "start_time": "2021-11-07T15:42:09.187Z"
   },
   {
    "duration": 59,
    "start_time": "2021-11-07T15:42:09.271Z"
   },
   {
    "duration": 6,
    "start_time": "2021-11-07T15:42:09.367Z"
   },
   {
    "duration": 7,
    "start_time": "2021-11-07T15:42:09.452Z"
   },
   {
    "duration": 15,
    "start_time": "2021-11-07T15:42:09.537Z"
   },
   {
    "duration": 7,
    "start_time": "2021-11-07T15:42:09.614Z"
   },
   {
    "duration": 12,
    "start_time": "2021-11-07T15:42:09.698Z"
   },
   {
    "duration": 22,
    "start_time": "2021-11-07T15:42:10.191Z"
   },
   {
    "duration": 21,
    "start_time": "2021-11-07T15:42:10.272Z"
   },
   {
    "duration": 410,
    "start_time": "2021-11-07T15:42:10.360Z"
   },
   {
    "duration": 429,
    "start_time": "2021-11-07T15:42:10.773Z"
   },
   {
    "duration": 433,
    "start_time": "2021-11-07T15:42:11.205Z"
   },
   {
    "duration": 381,
    "start_time": "2021-11-07T15:42:11.641Z"
   },
   {
    "duration": 6,
    "start_time": "2021-11-07T15:42:12.025Z"
   },
   {
    "duration": 7,
    "start_time": "2021-11-07T15:42:12.034Z"
   },
   {
    "duration": 11,
    "start_time": "2021-11-07T15:42:12.043Z"
   },
   {
    "duration": 404,
    "start_time": "2021-11-07T15:42:12.056Z"
   },
   {
    "duration": 21,
    "start_time": "2021-11-07T15:42:12.463Z"
   },
   {
    "duration": 9,
    "start_time": "2021-11-07T15:42:12.486Z"
   },
   {
    "duration": 8,
    "start_time": "2021-11-07T15:42:12.497Z"
   },
   {
    "duration": 390,
    "start_time": "2021-11-07T15:42:12.507Z"
   },
   {
    "duration": 82,
    "start_time": "2021-11-07T15:42:12.900Z"
   },
   {
    "duration": 5,
    "start_time": "2021-11-07T15:42:12.985Z"
   },
   {
    "duration": 7,
    "start_time": "2021-11-07T15:42:12.992Z"
   },
   {
    "duration": 9,
    "start_time": "2021-11-07T15:42:13.001Z"
   },
   {
    "duration": 8,
    "start_time": "2021-11-07T15:42:13.012Z"
   },
   {
    "duration": 6,
    "start_time": "2021-11-07T15:42:13.022Z"
   },
   {
    "duration": 1768,
    "start_time": "2021-11-07T15:42:13.030Z"
   },
   {
    "duration": 1707,
    "start_time": "2021-11-07T15:42:14.800Z"
   },
   {
    "duration": 5,
    "start_time": "2021-11-07T15:42:16.511Z"
   },
   {
    "duration": 2981,
    "start_time": "2021-11-07T15:42:16.518Z"
   },
   {
    "duration": 4,
    "start_time": "2021-11-07T15:42:19.501Z"
   },
   {
    "duration": 1007,
    "start_time": "2021-11-07T15:42:19.508Z"
   },
   {
    "duration": 1004,
    "start_time": "2021-11-07T15:42:20.518Z"
   },
   {
    "duration": 4,
    "start_time": "2021-11-07T15:42:21.524Z"
   },
   {
    "duration": 14,
    "start_time": "2021-11-07T15:42:21.531Z"
   },
   {
    "duration": 4,
    "start_time": "2021-11-07T15:42:21.547Z"
   },
   {
    "duration": 507,
    "start_time": "2021-11-07T15:42:21.554Z"
   },
   {
    "duration": 513,
    "start_time": "2021-11-07T15:42:22.064Z"
   },
   {
    "duration": 5,
    "start_time": "2021-11-07T15:42:22.582Z"
   },
   {
    "duration": 110,
    "start_time": "2021-11-07T15:42:22.590Z"
   },
   {
    "duration": 7,
    "start_time": "2021-11-07T17:45:54.919Z"
   },
   {
    "duration": 7,
    "start_time": "2021-11-07T17:48:29.279Z"
   },
   {
    "duration": 16,
    "start_time": "2021-11-07T17:48:29.916Z"
   },
   {
    "duration": 3,
    "start_time": "2021-11-07T17:50:43.767Z"
   },
   {
    "duration": 4,
    "start_time": "2021-11-07T17:50:44.181Z"
   },
   {
    "duration": 7,
    "start_time": "2021-11-07T17:50:46.315Z"
   },
   {
    "duration": 522,
    "start_time": "2021-11-07T17:50:47.434Z"
   },
   {
    "duration": 46,
    "start_time": "2021-11-07T17:51:28.114Z"
   },
   {
    "duration": 1419,
    "start_time": "2021-11-07T17:53:30.729Z"
   },
   {
    "duration": 931,
    "start_time": "2021-11-07T17:53:32.151Z"
   },
   {
    "duration": 257,
    "start_time": "2021-11-07T17:53:33.085Z"
   },
   {
    "duration": 101,
    "start_time": "2021-11-07T17:53:33.345Z"
   },
   {
    "duration": 255,
    "start_time": "2021-11-07T17:53:33.448Z"
   },
   {
    "duration": 4,
    "start_time": "2021-11-07T17:53:33.705Z"
   },
   {
    "duration": 20,
    "start_time": "2021-11-07T17:53:33.711Z"
   },
   {
    "duration": 8,
    "start_time": "2021-11-07T17:53:33.734Z"
   },
   {
    "duration": 78,
    "start_time": "2021-11-07T17:53:33.746Z"
   },
   {
    "duration": 219,
    "start_time": "2021-11-07T17:53:33.826Z"
   },
   {
    "duration": 80,
    "start_time": "2021-11-07T17:53:34.048Z"
   },
   {
    "duration": 7,
    "start_time": "2021-11-07T17:53:34.131Z"
   },
   {
    "duration": 8,
    "start_time": "2021-11-07T17:53:34.141Z"
   },
   {
    "duration": 61,
    "start_time": "2021-11-07T17:53:34.183Z"
   },
   {
    "duration": 35,
    "start_time": "2021-11-07T17:53:34.247Z"
   },
   {
    "duration": 10,
    "start_time": "2021-11-07T17:53:34.285Z"
   },
   {
    "duration": 90,
    "start_time": "2021-11-07T17:53:34.297Z"
   },
   {
    "duration": 7,
    "start_time": "2021-11-07T17:53:34.390Z"
   },
   {
    "duration": 12,
    "start_time": "2021-11-07T17:53:34.400Z"
   },
   {
    "duration": 13,
    "start_time": "2021-11-07T17:53:34.417Z"
   },
   {
    "duration": 93,
    "start_time": "2021-11-07T17:53:34.433Z"
   },
   {
    "duration": 5,
    "start_time": "2021-11-07T17:53:34.528Z"
   },
   {
    "duration": 6,
    "start_time": "2021-11-07T17:53:34.535Z"
   },
   {
    "duration": 89,
    "start_time": "2021-11-07T17:53:34.544Z"
   },
   {
    "duration": 5,
    "start_time": "2021-11-07T17:53:34.636Z"
   },
   {
    "duration": 8,
    "start_time": "2021-11-07T17:53:34.643Z"
   },
   {
    "duration": 14,
    "start_time": "2021-11-07T17:53:35.106Z"
   },
   {
    "duration": 7,
    "start_time": "2021-11-07T17:53:35.178Z"
   },
   {
    "duration": 13,
    "start_time": "2021-11-07T17:53:35.287Z"
   },
   {
    "duration": 23,
    "start_time": "2021-11-07T17:53:37.319Z"
   },
   {
    "duration": 22,
    "start_time": "2021-11-07T17:53:37.821Z"
   },
   {
    "duration": 410,
    "start_time": "2021-11-07T17:53:37.903Z"
   },
   {
    "duration": 428,
    "start_time": "2021-11-07T17:53:38.316Z"
   },
   {
    "duration": 434,
    "start_time": "2021-11-07T17:53:38.748Z"
   },
   {
    "duration": 343,
    "start_time": "2021-11-07T17:53:39.184Z"
   },
   {
    "duration": 6,
    "start_time": "2021-11-07T17:53:39.531Z"
   },
   {
    "duration": 9,
    "start_time": "2021-11-07T17:53:39.539Z"
   },
   {
    "duration": 15,
    "start_time": "2021-11-07T17:53:39.550Z"
   },
   {
    "duration": 424,
    "start_time": "2021-11-07T17:53:39.595Z"
   },
   {
    "duration": 17,
    "start_time": "2021-11-07T17:53:40.102Z"
   },
   {
    "duration": 9,
    "start_time": "2021-11-07T17:53:40.548Z"
   },
   {
    "duration": 9,
    "start_time": "2021-11-07T17:53:40.639Z"
   },
   {
    "duration": 370,
    "start_time": "2021-11-07T17:53:40.716Z"
   },
   {
    "duration": 39,
    "start_time": "2021-11-07T17:53:42.987Z"
   },
   {
    "duration": 417,
    "start_time": "2021-11-07T17:54:12.542Z"
   },
   {
    "duration": 40,
    "start_time": "2021-11-07T17:54:19.960Z"
   },
   {
    "duration": 39,
    "start_time": "2021-11-07T17:54:37.387Z"
   },
   {
    "duration": 64,
    "start_time": "2021-11-07T17:54:38.281Z"
   },
   {
    "duration": 5,
    "start_time": "2021-11-07T17:54:39.690Z"
   },
   {
    "duration": 4,
    "start_time": "2021-11-07T17:54:40.107Z"
   },
   {
    "duration": 7,
    "start_time": "2021-11-07T17:54:40.529Z"
   },
   {
    "duration": 3,
    "start_time": "2021-11-07T17:54:41.141Z"
   },
   {
    "duration": 4,
    "start_time": "2021-11-07T17:54:42.365Z"
   },
   {
    "duration": 1754,
    "start_time": "2021-11-07T17:54:42.668Z"
   },
   {
    "duration": 1867,
    "start_time": "2021-11-07T17:54:44.425Z"
   },
   {
    "duration": 4,
    "start_time": "2021-11-07T17:54:46.295Z"
   },
   {
    "duration": 2911,
    "start_time": "2021-11-07T17:54:46.302Z"
   },
   {
    "duration": 3,
    "start_time": "2021-11-07T17:54:49.216Z"
   },
   {
    "duration": 986,
    "start_time": "2021-11-07T17:54:49.222Z"
   },
   {
    "duration": 982,
    "start_time": "2021-11-07T17:54:50.210Z"
   },
   {
    "duration": 4,
    "start_time": "2021-11-07T17:54:51.195Z"
   },
   {
    "duration": 12,
    "start_time": "2021-11-07T17:54:51.202Z"
   },
   {
    "duration": 9,
    "start_time": "2021-11-07T17:54:51.216Z"
   },
   {
    "duration": 11,
    "start_time": "2021-11-07T17:54:51.227Z"
   },
   {
    "duration": 74,
    "start_time": "2021-11-07T17:54:51.240Z"
   },
   {
    "duration": 53,
    "start_time": "2021-11-07T17:55:04.172Z"
   },
   {
    "duration": 4,
    "start_time": "2021-11-07T17:55:51.960Z"
   },
   {
    "duration": 7,
    "start_time": "2021-11-07T17:56:28.891Z"
   },
   {
    "duration": 1469,
    "start_time": "2021-11-07T17:58:59.236Z"
   },
   {
    "duration": 975,
    "start_time": "2021-11-07T17:59:00.708Z"
   },
   {
    "duration": 276,
    "start_time": "2021-11-07T17:59:01.686Z"
   },
   {
    "duration": 116,
    "start_time": "2021-11-07T17:59:01.966Z"
   },
   {
    "duration": 257,
    "start_time": "2021-11-07T17:59:02.085Z"
   },
   {
    "duration": 4,
    "start_time": "2021-11-07T17:59:02.345Z"
   },
   {
    "duration": 20,
    "start_time": "2021-11-07T17:59:02.352Z"
   },
   {
    "duration": 8,
    "start_time": "2021-11-07T17:59:02.383Z"
   },
   {
    "duration": 68,
    "start_time": "2021-11-07T17:59:02.393Z"
   },
   {
    "duration": 178,
    "start_time": "2021-11-07T17:59:03.350Z"
   },
   {
    "duration": 58,
    "start_time": "2021-11-07T17:59:03.934Z"
   },
   {
    "duration": 6,
    "start_time": "2021-11-07T17:59:04.014Z"
   },
   {
    "duration": 8,
    "start_time": "2021-11-07T17:59:04.100Z"
   },
   {
    "duration": 60,
    "start_time": "2021-11-07T17:59:04.182Z"
   },
   {
    "duration": 5,
    "start_time": "2021-11-07T17:59:04.264Z"
   },
   {
    "duration": 8,
    "start_time": "2021-11-07T17:59:04.359Z"
   },
   {
    "duration": 57,
    "start_time": "2021-11-07T17:59:04.457Z"
   },
   {
    "duration": 6,
    "start_time": "2021-11-07T17:59:04.523Z"
   },
   {
    "duration": 7,
    "start_time": "2021-11-07T17:59:04.625Z"
   },
   {
    "duration": 12,
    "start_time": "2021-11-07T17:59:04.711Z"
   },
   {
    "duration": 53,
    "start_time": "2021-11-07T17:59:04.793Z"
   },
   {
    "duration": 3,
    "start_time": "2021-11-07T17:59:04.853Z"
   },
   {
    "duration": 3,
    "start_time": "2021-11-07T17:59:04.957Z"
   },
   {
    "duration": 59,
    "start_time": "2021-11-07T17:59:05.033Z"
   },
   {
    "duration": 6,
    "start_time": "2021-11-07T17:59:05.133Z"
   },
   {
    "duration": 7,
    "start_time": "2021-11-07T17:59:05.190Z"
   },
   {
    "duration": 14,
    "start_time": "2021-11-07T17:59:05.269Z"
   },
   {
    "duration": 8,
    "start_time": "2021-11-07T17:59:05.355Z"
   },
   {
    "duration": 14,
    "start_time": "2021-11-07T17:59:05.447Z"
   },
   {
    "duration": 23,
    "start_time": "2021-11-07T17:59:05.937Z"
   },
   {
    "duration": 19,
    "start_time": "2021-11-07T17:59:06.019Z"
   },
   {
    "duration": 408,
    "start_time": "2021-11-07T17:59:06.476Z"
   },
   {
    "duration": 402,
    "start_time": "2021-11-07T17:59:07.057Z"
   },
   {
    "duration": 420,
    "start_time": "2021-11-07T17:59:07.462Z"
   },
   {
    "duration": 334,
    "start_time": "2021-11-07T17:59:07.884Z"
   },
   {
    "duration": 7,
    "start_time": "2021-11-07T17:59:08.234Z"
   },
   {
    "duration": 7,
    "start_time": "2021-11-07T17:59:08.736Z"
   },
   {
    "duration": 6,
    "start_time": "2021-11-07T17:59:08.822Z"
   },
   {
    "duration": 435,
    "start_time": "2021-11-07T17:59:08.905Z"
   },
   {
    "duration": 17,
    "start_time": "2021-11-07T17:59:09.343Z"
   },
   {
    "duration": 8,
    "start_time": "2021-11-07T17:59:09.392Z"
   },
   {
    "duration": 9,
    "start_time": "2021-11-07T17:59:09.893Z"
   },
   {
    "duration": 369,
    "start_time": "2021-11-07T17:59:09.978Z"
   },
   {
    "duration": 66,
    "start_time": "2021-11-07T17:59:13.277Z"
   },
   {
    "duration": 6,
    "start_time": "2021-11-07T17:59:14.955Z"
   },
   {
    "duration": 4,
    "start_time": "2021-11-07T17:59:15.211Z"
   },
   {
    "duration": 7,
    "start_time": "2021-11-07T17:59:15.531Z"
   },
   {
    "duration": 3,
    "start_time": "2021-11-07T17:59:15.752Z"
   },
   {
    "duration": 4,
    "start_time": "2021-11-07T17:59:16.483Z"
   },
   {
    "duration": 1870,
    "start_time": "2021-11-07T17:59:16.751Z"
   },
   {
    "duration": 1700,
    "start_time": "2021-11-07T17:59:18.623Z"
   },
   {
    "duration": 4,
    "start_time": "2021-11-07T17:59:20.326Z"
   },
   {
    "duration": 2828,
    "start_time": "2021-11-07T17:59:20.333Z"
   },
   {
    "duration": 3,
    "start_time": "2021-11-07T17:59:23.164Z"
   },
   {
    "duration": 999,
    "start_time": "2021-11-07T17:59:23.170Z"
   },
   {
    "duration": 980,
    "start_time": "2021-11-07T17:59:24.172Z"
   },
   {
    "duration": 4,
    "start_time": "2021-11-07T17:59:25.155Z"
   },
   {
    "duration": 20,
    "start_time": "2021-11-07T17:59:25.162Z"
   },
   {
    "duration": 10,
    "start_time": "2021-11-07T17:59:25.184Z"
   },
   {
    "duration": 53,
    "start_time": "2021-11-07T17:59:25.197Z"
   },
   {
    "duration": 30,
    "start_time": "2021-11-07T17:59:25.253Z"
   },
   {
    "duration": 7364,
    "start_time": "2021-11-07T17:59:25.285Z"
   },
   {
    "duration": -124,
    "start_time": "2021-11-07T17:59:32.776Z"
   },
   {
    "duration": -128,
    "start_time": "2021-11-07T17:59:32.781Z"
   },
   {
    "duration": -130,
    "start_time": "2021-11-07T17:59:32.784Z"
   },
   {
    "duration": 1474,
    "start_time": "2021-11-07T18:00:55.471Z"
   },
   {
    "duration": 920,
    "start_time": "2021-11-07T18:00:56.948Z"
   },
   {
    "duration": 272,
    "start_time": "2021-11-07T18:00:57.871Z"
   },
   {
    "duration": 101,
    "start_time": "2021-11-07T18:00:58.146Z"
   },
   {
    "duration": 272,
    "start_time": "2021-11-07T18:00:58.250Z"
   },
   {
    "duration": 4,
    "start_time": "2021-11-07T18:00:58.525Z"
   },
   {
    "duration": 17,
    "start_time": "2021-11-07T18:00:58.532Z"
   },
   {
    "duration": 7,
    "start_time": "2021-11-07T18:00:58.553Z"
   },
   {
    "duration": 59,
    "start_time": "2021-11-07T18:00:58.583Z"
   },
   {
    "duration": 223,
    "start_time": "2021-11-07T18:00:58.644Z"
   },
   {
    "duration": 64,
    "start_time": "2021-11-07T18:00:58.869Z"
   },
   {
    "duration": 6,
    "start_time": "2021-11-07T18:00:58.936Z"
   },
   {
    "duration": 10,
    "start_time": "2021-11-07T18:00:58.944Z"
   },
   {
    "duration": 60,
    "start_time": "2021-11-07T18:00:58.983Z"
   },
   {
    "duration": 5,
    "start_time": "2021-11-07T18:00:59.045Z"
   },
   {
    "duration": 33,
    "start_time": "2021-11-07T18:00:59.053Z"
   },
   {
    "duration": 57,
    "start_time": "2021-11-07T18:00:59.088Z"
   },
   {
    "duration": 5,
    "start_time": "2021-11-07T18:00:59.147Z"
   },
   {
    "duration": 7,
    "start_time": "2021-11-07T18:00:59.183Z"
   },
   {
    "duration": 12,
    "start_time": "2021-11-07T18:00:59.192Z"
   },
   {
    "duration": 91,
    "start_time": "2021-11-07T18:00:59.208Z"
   },
   {
    "duration": 3,
    "start_time": "2021-11-07T18:00:59.301Z"
   },
   {
    "duration": 8,
    "start_time": "2021-11-07T18:00:59.307Z"
   },
   {
    "duration": 83,
    "start_time": "2021-11-07T18:00:59.317Z"
   },
   {
    "duration": 5,
    "start_time": "2021-11-07T18:00:59.403Z"
   },
   {
    "duration": 8,
    "start_time": "2021-11-07T18:00:59.410Z"
   },
   {
    "duration": 13,
    "start_time": "2021-11-07T18:00:59.421Z"
   },
   {
    "duration": 46,
    "start_time": "2021-11-07T18:00:59.436Z"
   },
   {
    "duration": 13,
    "start_time": "2021-11-07T18:00:59.484Z"
   },
   {
    "duration": 22,
    "start_time": "2021-11-07T18:00:59.738Z"
   },
   {
    "duration": 22,
    "start_time": "2021-11-07T18:00:59.824Z"
   },
   {
    "duration": 405,
    "start_time": "2021-11-07T18:00:59.901Z"
   },
   {
    "duration": 430,
    "start_time": "2021-11-07T18:01:00.309Z"
   },
   {
    "duration": 473,
    "start_time": "2021-11-07T18:01:00.742Z"
   },
   {
    "duration": 385,
    "start_time": "2021-11-07T18:01:01.219Z"
   },
   {
    "duration": 6,
    "start_time": "2021-11-07T18:01:01.606Z"
   },
   {
    "duration": 8,
    "start_time": "2021-11-07T18:01:01.616Z"
   },
   {
    "duration": 10,
    "start_time": "2021-11-07T18:01:01.627Z"
   },
   {
    "duration": 535,
    "start_time": "2021-11-07T18:01:01.639Z"
   },
   {
    "duration": 22,
    "start_time": "2021-11-07T18:01:02.176Z"
   },
   {
    "duration": 18,
    "start_time": "2021-11-07T18:01:02.200Z"
   },
   {
    "duration": 22,
    "start_time": "2021-11-07T18:01:02.220Z"
   },
   {
    "duration": 453,
    "start_time": "2021-11-07T18:01:02.244Z"
   },
   {
    "duration": 86,
    "start_time": "2021-11-07T18:01:02.701Z"
   },
   {
    "duration": 5,
    "start_time": "2021-11-07T18:01:02.790Z"
   },
   {
    "duration": 16,
    "start_time": "2021-11-07T18:01:02.797Z"
   },
   {
    "duration": 7,
    "start_time": "2021-11-07T18:01:04.076Z"
   },
   {
    "duration": 3,
    "start_time": "2021-11-07T18:01:05.075Z"
   },
   {
    "duration": 4,
    "start_time": "2021-11-07T18:01:05.809Z"
   },
   {
    "duration": 1774,
    "start_time": "2021-11-07T18:01:06.033Z"
   },
   {
    "duration": 1513,
    "start_time": "2021-11-07T18:01:07.810Z"
   },
   {
    "duration": 5,
    "start_time": "2021-11-07T18:01:09.326Z"
   },
   {
    "duration": 2812,
    "start_time": "2021-11-07T18:01:09.334Z"
   },
   {
    "duration": 3,
    "start_time": "2021-11-07T18:01:12.149Z"
   },
   {
    "duration": 1002,
    "start_time": "2021-11-07T18:01:12.154Z"
   },
   {
    "duration": 988,
    "start_time": "2021-11-07T18:01:13.158Z"
   },
   {
    "duration": 4,
    "start_time": "2021-11-07T18:01:14.149Z"
   },
   {
    "duration": 6,
    "start_time": "2021-11-07T18:01:14.156Z"
   },
   {
    "duration": 22,
    "start_time": "2021-11-07T18:01:14.164Z"
   },
   {
    "duration": 53,
    "start_time": "2021-11-07T18:01:14.189Z"
   },
   {
    "duration": 42,
    "start_time": "2021-11-07T18:01:15.282Z"
   },
   {
    "duration": 1440,
    "start_time": "2021-11-07T18:01:48.394Z"
   },
   {
    "duration": 900,
    "start_time": "2021-11-07T18:01:49.837Z"
   },
   {
    "duration": 269,
    "start_time": "2021-11-07T18:01:50.739Z"
   },
   {
    "duration": 109,
    "start_time": "2021-11-07T18:01:51.011Z"
   },
   {
    "duration": 266,
    "start_time": "2021-11-07T18:01:51.123Z"
   },
   {
    "duration": 5,
    "start_time": "2021-11-07T18:01:51.391Z"
   },
   {
    "duration": 18,
    "start_time": "2021-11-07T18:01:51.398Z"
   },
   {
    "duration": 8,
    "start_time": "2021-11-07T18:01:51.419Z"
   },
   {
    "duration": 87,
    "start_time": "2021-11-07T18:01:51.430Z"
   },
   {
    "duration": 204,
    "start_time": "2021-11-07T18:01:51.520Z"
   },
   {
    "duration": 81,
    "start_time": "2021-11-07T18:01:51.727Z"
   },
   {
    "duration": 6,
    "start_time": "2021-11-07T18:01:51.810Z"
   },
   {
    "duration": 11,
    "start_time": "2021-11-07T18:01:51.819Z"
   },
   {
    "duration": 97,
    "start_time": "2021-11-07T18:01:51.832Z"
   },
   {
    "duration": 6,
    "start_time": "2021-11-07T18:01:51.932Z"
   },
   {
    "duration": 14,
    "start_time": "2021-11-07T18:01:51.941Z"
   },
   {
    "duration": 61,
    "start_time": "2021-11-07T18:01:51.983Z"
   },
   {
    "duration": 36,
    "start_time": "2021-11-07T18:01:52.048Z"
   },
   {
    "duration": 12,
    "start_time": "2021-11-07T18:01:52.088Z"
   },
   {
    "duration": 15,
    "start_time": "2021-11-07T18:01:52.103Z"
   },
   {
    "duration": 90,
    "start_time": "2021-11-07T18:01:52.123Z"
   },
   {
    "duration": 4,
    "start_time": "2021-11-07T18:01:52.216Z"
   },
   {
    "duration": 8,
    "start_time": "2021-11-07T18:01:52.223Z"
   },
   {
    "duration": 98,
    "start_time": "2021-11-07T18:01:52.234Z"
   },
   {
    "duration": 7,
    "start_time": "2021-11-07T18:01:52.335Z"
   },
   {
    "duration": 41,
    "start_time": "2021-11-07T18:01:52.345Z"
   },
   {
    "duration": 15,
    "start_time": "2021-11-07T18:01:52.389Z"
   },
   {
    "duration": 7,
    "start_time": "2021-11-07T18:01:52.406Z"
   },
   {
    "duration": 16,
    "start_time": "2021-11-07T18:01:52.415Z"
   },
   {
    "duration": 24,
    "start_time": "2021-11-07T18:01:52.662Z"
   },
   {
    "duration": 21,
    "start_time": "2021-11-07T18:01:52.766Z"
   },
   {
    "duration": 395,
    "start_time": "2021-11-07T18:01:52.840Z"
   },
   {
    "duration": 414,
    "start_time": "2021-11-07T18:01:53.237Z"
   },
   {
    "duration": 429,
    "start_time": "2021-11-07T18:01:53.653Z"
   },
   {
    "duration": 333,
    "start_time": "2021-11-07T18:01:54.084Z"
   },
   {
    "duration": 6,
    "start_time": "2021-11-07T18:01:54.420Z"
   },
   {
    "duration": 9,
    "start_time": "2021-11-07T18:01:54.429Z"
   },
   {
    "duration": 9,
    "start_time": "2021-11-07T18:01:54.440Z"
   },
   {
    "duration": 452,
    "start_time": "2021-11-07T18:01:54.451Z"
   },
   {
    "duration": 17,
    "start_time": "2021-11-07T18:01:54.905Z"
   },
   {
    "duration": 8,
    "start_time": "2021-11-07T18:01:54.925Z"
   },
   {
    "duration": 11,
    "start_time": "2021-11-07T18:01:54.935Z"
   },
   {
    "duration": 383,
    "start_time": "2021-11-07T18:01:54.949Z"
   },
   {
    "duration": 77,
    "start_time": "2021-11-07T18:01:55.335Z"
   },
   {
    "duration": 6,
    "start_time": "2021-11-07T18:01:55.415Z"
   },
   {
    "duration": 8,
    "start_time": "2021-11-07T18:01:55.423Z"
   },
   {
    "duration": 8,
    "start_time": "2021-11-07T18:01:55.434Z"
   },
   {
    "duration": 5,
    "start_time": "2021-11-07T18:01:55.445Z"
   },
   {
    "duration": 4,
    "start_time": "2021-11-07T18:01:55.481Z"
   },
   {
    "duration": 1645,
    "start_time": "2021-11-07T18:01:55.488Z"
   },
   {
    "duration": 1587,
    "start_time": "2021-11-07T18:01:57.136Z"
   },
   {
    "duration": 4,
    "start_time": "2021-11-07T18:01:58.726Z"
   },
   {
    "duration": 3356,
    "start_time": "2021-11-07T18:01:58.733Z"
   },
   {
    "duration": 4,
    "start_time": "2021-11-07T18:02:02.092Z"
   },
   {
    "duration": 1026,
    "start_time": "2021-11-07T18:02:02.098Z"
   },
   {
    "duration": 980,
    "start_time": "2021-11-07T18:02:03.127Z"
   },
   {
    "duration": 3,
    "start_time": "2021-11-07T18:02:04.110Z"
   },
   {
    "duration": 13,
    "start_time": "2021-11-07T18:02:04.116Z"
   },
   {
    "duration": 16,
    "start_time": "2021-11-07T18:02:04.131Z"
   },
   {
    "duration": 32,
    "start_time": "2021-11-07T18:02:04.150Z"
   },
   {
    "duration": 46,
    "start_time": "2021-11-07T18:02:04.185Z"
   },
   {
    "duration": 10,
    "start_time": "2021-11-07T18:02:11.931Z"
   },
   {
    "duration": 7,
    "start_time": "2021-11-07T18:02:12.607Z"
   },
   {
    "duration": 403,
    "start_time": "2021-11-07T18:02:14.327Z"
   },
   {
    "duration": 7,
    "start_time": "2021-11-07T18:02:33.173Z"
   },
   {
    "duration": 472,
    "start_time": "2021-11-07T18:02:33.897Z"
   },
   {
    "duration": 471,
    "start_time": "2021-11-07T18:02:35.169Z"
   },
   {
    "duration": 4,
    "start_time": "2021-11-07T18:02:39.184Z"
   },
   {
    "duration": 1527,
    "start_time": "2021-11-07T18:08:48.302Z"
   },
   {
    "duration": 924,
    "start_time": "2021-11-07T18:08:49.832Z"
   },
   {
    "duration": 272,
    "start_time": "2021-11-07T18:08:50.760Z"
   },
   {
    "duration": 110,
    "start_time": "2021-11-07T18:08:51.036Z"
   },
   {
    "duration": 275,
    "start_time": "2021-11-07T18:08:51.149Z"
   },
   {
    "duration": 4,
    "start_time": "2021-11-07T18:08:51.427Z"
   },
   {
    "duration": 17,
    "start_time": "2021-11-07T18:08:51.433Z"
   },
   {
    "duration": 27,
    "start_time": "2021-11-07T18:08:51.454Z"
   },
   {
    "duration": 98,
    "start_time": "2021-11-07T18:08:51.486Z"
   },
   {
    "duration": 227,
    "start_time": "2021-11-07T18:08:51.588Z"
   },
   {
    "duration": 97,
    "start_time": "2021-11-07T18:08:51.818Z"
   },
   {
    "duration": 9,
    "start_time": "2021-11-07T18:08:51.918Z"
   },
   {
    "duration": 14,
    "start_time": "2021-11-07T18:08:51.930Z"
   },
   {
    "duration": 94,
    "start_time": "2021-11-07T18:08:51.947Z"
   },
   {
    "duration": 5,
    "start_time": "2021-11-07T18:08:52.043Z"
   },
   {
    "duration": 34,
    "start_time": "2021-11-07T18:08:52.051Z"
   },
   {
    "duration": 72,
    "start_time": "2021-11-07T18:08:52.088Z"
   },
   {
    "duration": 5,
    "start_time": "2021-11-07T18:08:52.182Z"
   },
   {
    "duration": 21,
    "start_time": "2021-11-07T18:08:52.190Z"
   },
   {
    "duration": 17,
    "start_time": "2021-11-07T18:08:52.213Z"
   },
   {
    "duration": 78,
    "start_time": "2021-11-07T18:08:52.232Z"
   },
   {
    "duration": 3,
    "start_time": "2021-11-07T18:08:52.314Z"
   },
   {
    "duration": 8,
    "start_time": "2021-11-07T18:08:52.319Z"
   },
   {
    "duration": 85,
    "start_time": "2021-11-07T18:08:52.329Z"
   },
   {
    "duration": 5,
    "start_time": "2021-11-07T18:08:52.417Z"
   },
   {
    "duration": 17,
    "start_time": "2021-11-07T18:08:52.424Z"
   },
   {
    "duration": 38,
    "start_time": "2021-11-07T18:08:52.444Z"
   },
   {
    "duration": 7,
    "start_time": "2021-11-07T18:08:52.485Z"
   },
   {
    "duration": 15,
    "start_time": "2021-11-07T18:08:52.495Z"
   },
   {
    "duration": 24,
    "start_time": "2021-11-07T18:08:52.598Z"
   },
   {
    "duration": 21,
    "start_time": "2021-11-07T18:08:52.670Z"
   },
   {
    "duration": 439,
    "start_time": "2021-11-07T18:08:52.733Z"
   },
   {
    "duration": 447,
    "start_time": "2021-11-07T18:08:53.183Z"
   },
   {
    "duration": 453,
    "start_time": "2021-11-07T18:08:53.633Z"
   },
   {
    "duration": 348,
    "start_time": "2021-11-07T18:08:54.089Z"
   },
   {
    "duration": 6,
    "start_time": "2021-11-07T18:08:54.439Z"
   },
   {
    "duration": 13,
    "start_time": "2021-11-07T18:08:54.447Z"
   },
   {
    "duration": 20,
    "start_time": "2021-11-07T18:08:54.464Z"
   },
   {
    "duration": 477,
    "start_time": "2021-11-07T18:08:54.486Z"
   },
   {
    "duration": 26,
    "start_time": "2021-11-07T18:08:54.966Z"
   },
   {
    "duration": 8,
    "start_time": "2021-11-07T18:08:54.995Z"
   },
   {
    "duration": 9,
    "start_time": "2021-11-07T18:08:55.006Z"
   },
   {
    "duration": 417,
    "start_time": "2021-11-07T18:08:55.017Z"
   },
   {
    "duration": 84,
    "start_time": "2021-11-07T18:08:55.437Z"
   },
   {
    "duration": 6,
    "start_time": "2021-11-07T18:08:55.523Z"
   },
   {
    "duration": 9,
    "start_time": "2021-11-07T18:08:55.531Z"
   },
   {
    "duration": 10,
    "start_time": "2021-11-07T18:08:55.543Z"
   },
   {
    "duration": 26,
    "start_time": "2021-11-07T18:08:55.555Z"
   },
   {
    "duration": 7,
    "start_time": "2021-11-07T18:08:55.584Z"
   },
   {
    "duration": 1738,
    "start_time": "2021-11-07T18:08:55.593Z"
   },
   {
    "duration": 1493,
    "start_time": "2021-11-07T18:08:57.333Z"
   },
   {
    "duration": 4,
    "start_time": "2021-11-07T18:08:58.828Z"
   },
   {
    "duration": 2926,
    "start_time": "2021-11-07T18:08:58.836Z"
   },
   {
    "duration": 3,
    "start_time": "2021-11-07T18:09:01.765Z"
   },
   {
    "duration": 1112,
    "start_time": "2021-11-07T18:09:01.770Z"
   },
   {
    "duration": 1000,
    "start_time": "2021-11-07T18:09:02.884Z"
   },
   {
    "duration": 4,
    "start_time": "2021-11-07T18:09:03.887Z"
   },
   {
    "duration": 11,
    "start_time": "2021-11-07T18:09:03.894Z"
   },
   {
    "duration": 14,
    "start_time": "2021-11-07T18:09:03.907Z"
   },
   {
    "duration": 29,
    "start_time": "2021-11-07T18:09:03.924Z"
   },
   {
    "duration": 31,
    "start_time": "2021-11-07T18:09:03.956Z"
   },
   {
    "duration": 6,
    "start_time": "2021-11-07T18:09:03.990Z"
   },
   {
    "duration": 480,
    "start_time": "2021-11-07T18:09:03.999Z"
   },
   {
    "duration": 471,
    "start_time": "2021-11-07T18:09:04.481Z"
   },
   {
    "duration": 3,
    "start_time": "2021-11-07T18:09:04.955Z"
   },
   {
    "duration": 492,
    "start_time": "2021-11-07T18:09:04.960Z"
   },
   {
    "duration": -131,
    "start_time": "2021-11-07T18:09:05.585Z"
   },
   {
    "duration": 8,
    "start_time": "2021-11-07T18:12:43.030Z"
   },
   {
    "duration": 7,
    "start_time": "2021-11-07T18:13:08.799Z"
   },
   {
    "duration": 9,
    "start_time": "2021-11-07T18:13:20.240Z"
   },
   {
    "duration": 10,
    "start_time": "2021-11-07T18:13:39.238Z"
   },
   {
    "duration": 7,
    "start_time": "2021-11-07T18:16:30.517Z"
   },
   {
    "duration": 309,
    "start_time": "2021-11-07T18:17:48.374Z"
   },
   {
    "duration": 7,
    "start_time": "2021-11-07T18:18:11.696Z"
   },
   {
    "duration": 6119,
    "start_time": "2021-11-07T18:18:12.367Z"
   },
   {
    "duration": 6,
    "start_time": "2021-11-07T18:18:48.353Z"
   },
   {
    "duration": 6,
    "start_time": "2021-11-07T18:19:01.185Z"
   },
   {
    "duration": 6,
    "start_time": "2021-11-07T18:19:34.770Z"
   },
   {
    "duration": 6,
    "start_time": "2021-11-07T18:19:38.882Z"
   },
   {
    "duration": 4941,
    "start_time": "2021-11-07T18:20:05.495Z"
   },
   {
    "duration": 1436,
    "start_time": "2021-11-07T18:20:52.984Z"
   },
   {
    "duration": 913,
    "start_time": "2021-11-07T18:20:54.423Z"
   },
   {
    "duration": 261,
    "start_time": "2021-11-07T18:20:55.339Z"
   },
   {
    "duration": 103,
    "start_time": "2021-11-07T18:20:55.603Z"
   },
   {
    "duration": 259,
    "start_time": "2021-11-07T18:20:55.709Z"
   },
   {
    "duration": 5,
    "start_time": "2021-11-07T18:20:55.982Z"
   },
   {
    "duration": 19,
    "start_time": "2021-11-07T18:20:55.990Z"
   },
   {
    "duration": 7,
    "start_time": "2021-11-07T18:20:56.013Z"
   },
   {
    "duration": 84,
    "start_time": "2021-11-07T18:20:56.023Z"
   },
   {
    "duration": 204,
    "start_time": "2021-11-07T18:20:56.109Z"
   },
   {
    "duration": 68,
    "start_time": "2021-11-07T18:20:56.316Z"
   },
   {
    "duration": 6,
    "start_time": "2021-11-07T18:20:56.386Z"
   },
   {
    "duration": 11,
    "start_time": "2021-11-07T18:20:56.394Z"
   },
   {
    "duration": 91,
    "start_time": "2021-11-07T18:20:56.407Z"
   },
   {
    "duration": 5,
    "start_time": "2021-11-07T18:20:56.501Z"
   },
   {
    "duration": 9,
    "start_time": "2021-11-07T18:20:56.509Z"
   },
   {
    "duration": 93,
    "start_time": "2021-11-07T18:20:56.520Z"
   },
   {
    "duration": 5,
    "start_time": "2021-11-07T18:20:56.615Z"
   },
   {
    "duration": 11,
    "start_time": "2021-11-07T18:20:56.623Z"
   },
   {
    "duration": 13,
    "start_time": "2021-11-07T18:20:56.636Z"
   },
   {
    "duration": 55,
    "start_time": "2021-11-07T18:20:56.683Z"
   },
   {
    "duration": 4,
    "start_time": "2021-11-07T18:20:56.741Z"
   },
   {
    "duration": 5,
    "start_time": "2021-11-07T18:20:56.747Z"
   },
   {
    "duration": 60,
    "start_time": "2021-11-07T18:20:56.783Z"
   },
   {
    "duration": 5,
    "start_time": "2021-11-07T18:20:56.845Z"
   },
   {
    "duration": 7,
    "start_time": "2021-11-07T18:20:56.882Z"
   },
   {
    "duration": 14,
    "start_time": "2021-11-07T18:20:56.892Z"
   },
   {
    "duration": 8,
    "start_time": "2021-11-07T18:20:56.909Z"
   },
   {
    "duration": 12,
    "start_time": "2021-11-07T18:20:56.920Z"
   },
   {
    "duration": 24,
    "start_time": "2021-11-07T18:20:57.240Z"
   },
   {
    "duration": 21,
    "start_time": "2021-11-07T18:20:57.367Z"
   },
   {
    "duration": 410,
    "start_time": "2021-11-07T18:20:57.419Z"
   },
   {
    "duration": 418,
    "start_time": "2021-11-07T18:20:57.832Z"
   },
   {
    "duration": 436,
    "start_time": "2021-11-07T18:20:58.253Z"
   },
   {
    "duration": 336,
    "start_time": "2021-11-07T18:20:58.693Z"
   },
   {
    "duration": 7,
    "start_time": "2021-11-07T18:20:59.031Z"
   },
   {
    "duration": 10,
    "start_time": "2021-11-07T18:20:59.040Z"
   },
   {
    "duration": 30,
    "start_time": "2021-11-07T18:20:59.054Z"
   },
   {
    "duration": 447,
    "start_time": "2021-11-07T18:20:59.087Z"
   },
   {
    "duration": 16,
    "start_time": "2021-11-07T18:20:59.537Z"
   },
   {
    "duration": 29,
    "start_time": "2021-11-07T18:20:59.555Z"
   },
   {
    "duration": 13,
    "start_time": "2021-11-07T18:20:59.587Z"
   },
   {
    "duration": 488,
    "start_time": "2021-11-07T18:20:59.603Z"
   },
   {
    "duration": 91,
    "start_time": "2021-11-07T18:21:00.096Z"
   },
   {
    "duration": 6,
    "start_time": "2021-11-07T18:21:00.191Z"
   },
   {
    "duration": 10,
    "start_time": "2021-11-07T18:21:00.200Z"
   },
   {
    "duration": 11,
    "start_time": "2021-11-07T18:21:00.213Z"
   },
   {
    "duration": 12,
    "start_time": "2021-11-07T18:21:00.227Z"
   },
   {
    "duration": 15,
    "start_time": "2021-11-07T18:21:00.241Z"
   },
   {
    "duration": 1460,
    "start_time": "2021-11-07T18:21:00.459Z"
   },
   {
    "duration": 2006,
    "start_time": "2021-11-07T18:21:01.922Z"
   },
   {
    "duration": 4,
    "start_time": "2021-11-07T18:21:03.931Z"
   },
   {
    "duration": 2827,
    "start_time": "2021-11-07T18:21:03.937Z"
   },
   {
    "duration": 3,
    "start_time": "2021-11-07T18:21:06.766Z"
   },
   {
    "duration": 648,
    "start_time": "2021-11-07T18:21:06.782Z"
   },
   {
    "duration": 696,
    "start_time": "2021-11-07T18:21:07.433Z"
   },
   {
    "duration": 4,
    "start_time": "2021-11-07T18:21:08.133Z"
   },
   {
    "duration": 27,
    "start_time": "2021-11-07T18:21:08.139Z"
   },
   {
    "duration": 16,
    "start_time": "2021-11-07T18:21:08.168Z"
   },
   {
    "duration": 40,
    "start_time": "2021-11-07T18:21:08.187Z"
   },
   {
    "duration": 13,
    "start_time": "2021-11-07T18:21:08.230Z"
   },
   {
    "duration": 20,
    "start_time": "2021-11-07T18:21:08.246Z"
   },
   {
    "duration": 345,
    "start_time": "2021-11-07T18:21:08.269Z"
   },
   {
    "duration": 343,
    "start_time": "2021-11-07T18:21:08.616Z"
   },
   {
    "duration": 4,
    "start_time": "2021-11-07T18:21:08.961Z"
   },
   {
    "duration": 25,
    "start_time": "2021-11-07T18:21:08.968Z"
   },
   {
    "duration": 7,
    "start_time": "2021-11-07T18:21:09.050Z"
   },
   {
    "duration": 8,
    "start_time": "2021-11-07T18:21:10.923Z"
   },
   {
    "duration": 6,
    "start_time": "2021-11-07T18:21:11.580Z"
   },
   {
    "duration": 6,
    "start_time": "2021-11-07T18:21:12.666Z"
   },
   {
    "duration": 5358,
    "start_time": "2021-11-07T18:21:13.519Z"
   },
   {
    "duration": 1411,
    "start_time": "2021-11-07T18:26:43.022Z"
   },
   {
    "duration": 916,
    "start_time": "2021-11-07T18:26:44.435Z"
   },
   {
    "duration": 267,
    "start_time": "2021-11-07T18:26:45.354Z"
   },
   {
    "duration": 112,
    "start_time": "2021-11-07T18:26:45.624Z"
   },
   {
    "duration": 279,
    "start_time": "2021-11-07T18:26:45.739Z"
   },
   {
    "duration": 4,
    "start_time": "2021-11-07T18:26:46.021Z"
   },
   {
    "duration": 26,
    "start_time": "2021-11-07T18:26:46.027Z"
   },
   {
    "duration": 8,
    "start_time": "2021-11-07T18:26:46.056Z"
   },
   {
    "duration": 60,
    "start_time": "2021-11-07T18:26:46.082Z"
   },
   {
    "duration": 229,
    "start_time": "2021-11-07T18:26:46.144Z"
   },
   {
    "duration": 60,
    "start_time": "2021-11-07T18:26:46.383Z"
   },
   {
    "duration": 5,
    "start_time": "2021-11-07T18:26:46.446Z"
   },
   {
    "duration": 37,
    "start_time": "2021-11-07T18:26:46.453Z"
   },
   {
    "duration": 64,
    "start_time": "2021-11-07T18:26:46.492Z"
   },
   {
    "duration": 6,
    "start_time": "2021-11-07T18:26:46.583Z"
   },
   {
    "duration": 10,
    "start_time": "2021-11-07T18:26:46.591Z"
   },
   {
    "duration": 89,
    "start_time": "2021-11-07T18:26:46.603Z"
   },
   {
    "duration": 5,
    "start_time": "2021-11-07T18:26:46.695Z"
   },
   {
    "duration": 13,
    "start_time": "2021-11-07T18:26:46.702Z"
   },
   {
    "duration": 18,
    "start_time": "2021-11-07T18:26:46.718Z"
   },
   {
    "duration": 84,
    "start_time": "2021-11-07T18:26:46.740Z"
   },
   {
    "duration": 4,
    "start_time": "2021-11-07T18:26:46.826Z"
   },
   {
    "duration": 9,
    "start_time": "2021-11-07T18:26:46.833Z"
   },
   {
    "duration": 95,
    "start_time": "2021-11-07T18:26:46.845Z"
   },
   {
    "duration": 4,
    "start_time": "2021-11-07T18:26:46.943Z"
   },
   {
    "duration": 33,
    "start_time": "2021-11-07T18:26:46.950Z"
   },
   {
    "duration": 13,
    "start_time": "2021-11-07T18:26:46.986Z"
   },
   {
    "duration": 6,
    "start_time": "2021-11-07T18:26:47.001Z"
   },
   {
    "duration": 13,
    "start_time": "2021-11-07T18:26:47.009Z"
   },
   {
    "duration": 24,
    "start_time": "2021-11-07T18:26:47.294Z"
   },
   {
    "duration": 20,
    "start_time": "2021-11-07T18:26:47.349Z"
   },
   {
    "duration": 419,
    "start_time": "2021-11-07T18:26:47.424Z"
   },
   {
    "duration": 417,
    "start_time": "2021-11-07T18:26:47.845Z"
   },
   {
    "duration": 449,
    "start_time": "2021-11-07T18:26:48.265Z"
   },
   {
    "duration": 450,
    "start_time": "2021-11-07T18:26:48.717Z"
   },
   {
    "duration": 17,
    "start_time": "2021-11-07T18:26:49.169Z"
   },
   {
    "duration": 12,
    "start_time": "2021-11-07T18:26:49.190Z"
   },
   {
    "duration": 18,
    "start_time": "2021-11-07T18:26:49.205Z"
   },
   {
    "duration": 457,
    "start_time": "2021-11-07T18:26:49.225Z"
   },
   {
    "duration": 17,
    "start_time": "2021-11-07T18:26:49.684Z"
   },
   {
    "duration": 8,
    "start_time": "2021-11-07T18:26:49.703Z"
   },
   {
    "duration": 12,
    "start_time": "2021-11-07T18:26:49.714Z"
   },
   {
    "duration": 401,
    "start_time": "2021-11-07T18:26:49.728Z"
   },
   {
    "duration": 77,
    "start_time": "2021-11-07T18:26:50.131Z"
   },
   {
    "duration": 5,
    "start_time": "2021-11-07T18:26:50.212Z"
   },
   {
    "duration": 10,
    "start_time": "2021-11-07T18:26:50.220Z"
   },
   {
    "duration": 17,
    "start_time": "2021-11-07T18:26:50.232Z"
   },
   {
    "duration": 10,
    "start_time": "2021-11-07T18:26:51.515Z"
   },
   {
    "duration": 94,
    "start_time": "2021-11-07T18:26:52.591Z"
   },
   {
    "duration": 124,
    "start_time": "2021-11-07T18:26:52.923Z"
   },
   {
    "duration": 173,
    "start_time": "2021-11-07T18:30:09.610Z"
   },
   {
    "duration": 247,
    "start_time": "2021-11-07T18:30:31.344Z"
   },
   {
    "duration": 127,
    "start_time": "2021-11-07T18:30:44.462Z"
   },
   {
    "duration": 1476,
    "start_time": "2021-11-07T18:33:21.451Z"
   },
   {
    "duration": 900,
    "start_time": "2021-11-07T18:33:22.930Z"
   },
   {
    "duration": 259,
    "start_time": "2021-11-07T18:33:23.833Z"
   },
   {
    "duration": 112,
    "start_time": "2021-11-07T18:33:24.095Z"
   },
   {
    "duration": 255,
    "start_time": "2021-11-07T18:33:24.209Z"
   },
   {
    "duration": 16,
    "start_time": "2021-11-07T18:33:24.466Z"
   },
   {
    "duration": 15,
    "start_time": "2021-11-07T18:33:24.484Z"
   },
   {
    "duration": 8,
    "start_time": "2021-11-07T18:33:24.502Z"
   },
   {
    "duration": 86,
    "start_time": "2021-11-07T18:33:24.513Z"
   },
   {
    "duration": 201,
    "start_time": "2021-11-07T18:33:24.602Z"
   },
   {
    "duration": 77,
    "start_time": "2021-11-07T18:33:24.805Z"
   },
   {
    "duration": 6,
    "start_time": "2021-11-07T18:33:24.885Z"
   },
   {
    "duration": 8,
    "start_time": "2021-11-07T18:33:24.893Z"
   },
   {
    "duration": 85,
    "start_time": "2021-11-07T18:33:24.903Z"
   },
   {
    "duration": 5,
    "start_time": "2021-11-07T18:33:24.990Z"
   },
   {
    "duration": 9,
    "start_time": "2021-11-07T18:33:24.998Z"
   },
   {
    "duration": 92,
    "start_time": "2021-11-07T18:33:25.009Z"
   },
   {
    "duration": 5,
    "start_time": "2021-11-07T18:33:25.103Z"
   },
   {
    "duration": 9,
    "start_time": "2021-11-07T18:33:25.111Z"
   },
   {
    "duration": 12,
    "start_time": "2021-11-07T18:33:25.122Z"
   },
   {
    "duration": 92,
    "start_time": "2021-11-07T18:33:25.138Z"
   },
   {
    "duration": 3,
    "start_time": "2021-11-07T18:33:25.233Z"
   },
   {
    "duration": 6,
    "start_time": "2021-11-07T18:33:25.238Z"
   },
   {
    "duration": 86,
    "start_time": "2021-11-07T18:33:25.246Z"
   },
   {
    "duration": 6,
    "start_time": "2021-11-07T18:33:25.334Z"
   },
   {
    "duration": 9,
    "start_time": "2021-11-07T18:33:25.342Z"
   },
   {
    "duration": 40,
    "start_time": "2021-11-07T18:33:25.353Z"
   },
   {
    "duration": 7,
    "start_time": "2021-11-07T18:33:25.395Z"
   },
   {
    "duration": 12,
    "start_time": "2021-11-07T18:33:25.405Z"
   },
   {
    "duration": 23,
    "start_time": "2021-11-07T18:33:27.027Z"
   },
   {
    "duration": 21,
    "start_time": "2021-11-07T18:33:27.390Z"
   },
   {
    "duration": 414,
    "start_time": "2021-11-07T18:33:27.676Z"
   },
   {
    "duration": 392,
    "start_time": "2021-11-07T18:33:28.269Z"
   },
   {
    "duration": 421,
    "start_time": "2021-11-07T18:33:29.110Z"
   },
   {
    "duration": 323,
    "start_time": "2021-11-07T18:33:30.210Z"
   },
   {
    "duration": 7,
    "start_time": "2021-11-07T18:33:31.246Z"
   },
   {
    "duration": 6,
    "start_time": "2021-11-07T18:33:31.777Z"
   },
   {
    "duration": 7,
    "start_time": "2021-11-07T18:33:32.073Z"
   },
   {
    "duration": 453,
    "start_time": "2021-11-07T18:33:32.352Z"
   },
   {
    "duration": 16,
    "start_time": "2021-11-07T18:33:32.849Z"
   },
   {
    "duration": 9,
    "start_time": "2021-11-07T18:33:32.931Z"
   },
   {
    "duration": 8,
    "start_time": "2021-11-07T18:33:33.015Z"
   },
   {
    "duration": 362,
    "start_time": "2021-11-07T18:33:33.098Z"
   },
   {
    "duration": 73,
    "start_time": "2021-11-07T18:33:33.462Z"
   },
   {
    "duration": 5,
    "start_time": "2021-11-07T18:33:34.260Z"
   },
   {
    "duration": 4,
    "start_time": "2021-11-07T18:33:34.344Z"
   },
   {
    "duration": 7,
    "start_time": "2021-11-07T18:33:34.429Z"
   },
   {
    "duration": 4,
    "start_time": "2021-11-07T18:33:34.513Z"
   },
   {
    "duration": 4,
    "start_time": "2021-11-07T18:33:34.597Z"
   },
   {
    "duration": 3,
    "start_time": "2021-11-07T18:33:34.686Z"
   },
   {
    "duration": 3,
    "start_time": "2021-11-07T18:33:37.323Z"
   },
   {
    "duration": 4,
    "start_time": "2021-11-07T18:33:37.576Z"
   },
   {
    "duration": 1963,
    "start_time": "2021-11-07T18:33:37.659Z"
   },
   {
    "duration": 1502,
    "start_time": "2021-11-07T18:33:39.625Z"
   },
   {
    "duration": 5,
    "start_time": "2021-11-07T18:33:41.130Z"
   },
   {
    "duration": 3072,
    "start_time": "2021-11-07T18:33:41.137Z"
   },
   {
    "duration": 4,
    "start_time": "2021-11-07T18:33:44.211Z"
   },
   {
    "duration": 689,
    "start_time": "2021-11-07T18:33:44.217Z"
   },
   {
    "duration": 658,
    "start_time": "2021-11-07T18:33:44.909Z"
   },
   {
    "duration": 11,
    "start_time": "2021-11-07T18:33:45.572Z"
   },
   {
    "duration": 7,
    "start_time": "2021-11-07T18:33:45.587Z"
   },
   {
    "duration": 17,
    "start_time": "2021-11-07T18:33:45.596Z"
   },
   {
    "duration": 22,
    "start_time": "2021-11-07T18:33:45.615Z"
   },
   {
    "duration": 10,
    "start_time": "2021-11-07T18:33:45.640Z"
   },
   {
    "duration": 30,
    "start_time": "2021-11-07T18:33:45.652Z"
   },
   {
    "duration": 382,
    "start_time": "2021-11-07T18:33:45.685Z"
   },
   {
    "duration": 332,
    "start_time": "2021-11-07T18:33:46.070Z"
   },
   {
    "duration": 5,
    "start_time": "2021-11-07T18:33:46.404Z"
   },
   {
    "duration": 9,
    "start_time": "2021-11-07T18:33:46.412Z"
   },
   {
    "duration": 7,
    "start_time": "2021-11-07T18:33:47.253Z"
   },
   {
    "duration": 7,
    "start_time": "2021-11-07T18:33:50.414Z"
   },
   {
    "duration": 7,
    "start_time": "2021-11-07T18:33:52.589Z"
   },
   {
    "duration": 7,
    "start_time": "2021-11-07T18:33:54.613Z"
   },
   {
    "duration": 512,
    "start_time": "2021-11-07T18:34:47.886Z"
   },
   {
    "duration": 1032,
    "start_time": "2021-11-07T18:35:34.057Z"
   },
   {
    "duration": 1802,
    "start_time": "2021-11-07T18:36:33.446Z"
   },
   {
    "duration": 1031,
    "start_time": "2021-11-07T18:36:35.251Z"
   },
   {
    "duration": 304,
    "start_time": "2021-11-07T18:36:36.285Z"
   },
   {
    "duration": 121,
    "start_time": "2021-11-07T18:36:36.592Z"
   },
   {
    "duration": 278,
    "start_time": "2021-11-07T18:36:36.716Z"
   },
   {
    "duration": 6,
    "start_time": "2021-11-07T18:36:36.997Z"
   },
   {
    "duration": 21,
    "start_time": "2021-11-07T18:36:37.005Z"
   },
   {
    "duration": 9,
    "start_time": "2021-11-07T18:36:37.030Z"
   },
   {
    "duration": 111,
    "start_time": "2021-11-07T18:36:37.043Z"
   },
   {
    "duration": 228,
    "start_time": "2021-11-07T18:36:37.157Z"
   },
   {
    "duration": 58,
    "start_time": "2021-11-07T18:36:37.388Z"
   },
   {
    "duration": 33,
    "start_time": "2021-11-07T18:36:37.449Z"
   },
   {
    "duration": 7,
    "start_time": "2021-11-07T18:36:37.485Z"
   },
   {
    "duration": 87,
    "start_time": "2021-11-07T18:36:37.495Z"
   },
   {
    "duration": 5,
    "start_time": "2021-11-07T18:36:37.585Z"
   },
   {
    "duration": 9,
    "start_time": "2021-11-07T18:36:37.593Z"
   },
   {
    "duration": 93,
    "start_time": "2021-11-07T18:36:37.605Z"
   },
   {
    "duration": 6,
    "start_time": "2021-11-07T18:36:37.700Z"
   },
   {
    "duration": 9,
    "start_time": "2021-11-07T18:36:37.709Z"
   },
   {
    "duration": 12,
    "start_time": "2021-11-07T18:36:37.721Z"
   },
   {
    "duration": 88,
    "start_time": "2021-11-07T18:36:37.735Z"
   },
   {
    "duration": 4,
    "start_time": "2021-11-07T18:36:37.825Z"
   },
   {
    "duration": 3,
    "start_time": "2021-11-07T18:36:37.834Z"
   },
   {
    "duration": 96,
    "start_time": "2021-11-07T18:36:37.840Z"
   },
   {
    "duration": 7,
    "start_time": "2021-11-07T18:36:37.938Z"
   },
   {
    "duration": 36,
    "start_time": "2021-11-07T18:36:37.948Z"
   },
   {
    "duration": 16,
    "start_time": "2021-11-07T18:36:37.987Z"
   },
   {
    "duration": 8,
    "start_time": "2021-11-07T18:36:38.005Z"
   },
   {
    "duration": 11,
    "start_time": "2021-11-07T18:36:38.015Z"
   },
   {
    "duration": 31,
    "start_time": "2021-11-07T18:36:38.082Z"
   },
   {
    "duration": 27,
    "start_time": "2021-11-07T18:36:38.116Z"
   },
   {
    "duration": 464,
    "start_time": "2021-11-07T18:36:38.148Z"
   },
   {
    "duration": 576,
    "start_time": "2021-11-07T18:36:38.615Z"
   },
   {
    "duration": 446,
    "start_time": "2021-11-07T18:36:39.194Z"
   },
   {
    "duration": 369,
    "start_time": "2021-11-07T18:36:39.644Z"
   },
   {
    "duration": 6,
    "start_time": "2021-11-07T18:36:40.017Z"
   },
   {
    "duration": 18,
    "start_time": "2021-11-07T18:36:40.026Z"
   },
   {
    "duration": 11,
    "start_time": "2021-11-07T18:36:40.047Z"
   },
   {
    "duration": 485,
    "start_time": "2021-11-07T18:36:40.062Z"
   },
   {
    "duration": 17,
    "start_time": "2021-11-07T18:36:40.550Z"
   },
   {
    "duration": 18,
    "start_time": "2021-11-07T18:36:40.569Z"
   },
   {
    "duration": 9,
    "start_time": "2021-11-07T18:36:40.589Z"
   },
   {
    "duration": 462,
    "start_time": "2021-11-07T18:36:40.601Z"
   },
   {
    "duration": 68,
    "start_time": "2021-11-07T18:36:41.209Z"
   },
   {
    "duration": 6,
    "start_time": "2021-11-07T18:36:41.683Z"
   },
   {
    "duration": 5,
    "start_time": "2021-11-07T18:36:42.187Z"
   },
   {
    "duration": 7,
    "start_time": "2021-11-07T18:36:42.267Z"
   },
   {
    "duration": 4,
    "start_time": "2021-11-07T18:36:42.436Z"
   },
   {
    "duration": 4,
    "start_time": "2021-11-07T18:36:43.393Z"
   },
   {
    "duration": 2437,
    "start_time": "2021-11-07T18:36:43.477Z"
   },
   {
    "duration": 2282,
    "start_time": "2021-11-07T18:36:45.917Z"
   },
   {
    "duration": 5,
    "start_time": "2021-11-07T18:36:48.202Z"
   },
   {
    "duration": 2888,
    "start_time": "2021-11-07T18:36:48.210Z"
   },
   {
    "duration": 5,
    "start_time": "2021-11-07T18:36:51.101Z"
   },
   {
    "duration": 736,
    "start_time": "2021-11-07T18:36:51.108Z"
   },
   {
    "duration": 688,
    "start_time": "2021-11-07T18:36:51.847Z"
   },
   {
    "duration": 5,
    "start_time": "2021-11-07T18:36:52.540Z"
   },
   {
    "duration": 7,
    "start_time": "2021-11-07T18:36:52.548Z"
   },
   {
    "duration": 27,
    "start_time": "2021-11-07T18:36:52.557Z"
   },
   {
    "duration": 18,
    "start_time": "2021-11-07T18:36:52.586Z"
   },
   {
    "duration": 11,
    "start_time": "2021-11-07T18:36:52.607Z"
   },
   {
    "duration": 6,
    "start_time": "2021-11-07T18:36:52.620Z"
   },
   {
    "duration": 406,
    "start_time": "2021-11-07T18:36:52.629Z"
   },
   {
    "duration": 349,
    "start_time": "2021-11-07T18:36:53.038Z"
   },
   {
    "duration": 4,
    "start_time": "2021-11-07T18:36:53.390Z"
   },
   {
    "duration": 10,
    "start_time": "2021-11-07T18:36:53.396Z"
   },
   {
    "duration": 8,
    "start_time": "2021-11-07T18:36:53.408Z"
   },
   {
    "duration": 6,
    "start_time": "2021-11-07T18:36:53.418Z"
   },
   {
    "duration": 7,
    "start_time": "2021-11-07T18:36:53.427Z"
   },
   {
    "duration": 7,
    "start_time": "2021-11-07T18:36:53.482Z"
   },
   {
    "duration": 791,
    "start_time": "2021-11-07T18:36:53.493Z"
   },
   {
    "duration": 1718,
    "start_time": "2021-11-07T18:38:18.942Z"
   },
   {
    "duration": 1183,
    "start_time": "2021-11-07T18:38:20.663Z"
   },
   {
    "duration": 364,
    "start_time": "2021-11-07T18:38:21.848Z"
   },
   {
    "duration": 115,
    "start_time": "2021-11-07T18:38:22.215Z"
   },
   {
    "duration": 323,
    "start_time": "2021-11-07T18:38:22.333Z"
   },
   {
    "duration": 5,
    "start_time": "2021-11-07T18:38:22.658Z"
   },
   {
    "duration": 107,
    "start_time": "2021-11-07T18:38:22.665Z"
   },
   {
    "duration": 7,
    "start_time": "2021-11-07T18:38:22.776Z"
   },
   {
    "duration": 74,
    "start_time": "2021-11-07T18:38:22.786Z"
   },
   {
    "duration": 203,
    "start_time": "2021-11-07T18:38:22.882Z"
   },
   {
    "duration": 62,
    "start_time": "2021-11-07T18:38:23.088Z"
   },
   {
    "duration": 32,
    "start_time": "2021-11-07T18:38:23.153Z"
   },
   {
    "duration": 7,
    "start_time": "2021-11-07T18:38:23.188Z"
   },
   {
    "duration": 88,
    "start_time": "2021-11-07T18:38:23.197Z"
   },
   {
    "duration": 5,
    "start_time": "2021-11-07T18:38:23.288Z"
   },
   {
    "duration": 10,
    "start_time": "2021-11-07T18:38:23.295Z"
   },
   {
    "duration": 122,
    "start_time": "2021-11-07T18:38:23.308Z"
   },
   {
    "duration": 7,
    "start_time": "2021-11-07T18:38:23.433Z"
   },
   {
    "duration": 8,
    "start_time": "2021-11-07T18:38:23.443Z"
   },
   {
    "duration": 13,
    "start_time": "2021-11-07T18:38:23.481Z"
   },
   {
    "duration": 50,
    "start_time": "2021-11-07T18:38:23.497Z"
   },
   {
    "duration": 32,
    "start_time": "2021-11-07T18:38:23.550Z"
   },
   {
    "duration": 3,
    "start_time": "2021-11-07T18:38:23.587Z"
   },
   {
    "duration": 90,
    "start_time": "2021-11-07T18:38:23.592Z"
   },
   {
    "duration": 6,
    "start_time": "2021-11-07T18:38:23.685Z"
   },
   {
    "duration": 8,
    "start_time": "2021-11-07T18:38:23.694Z"
   },
   {
    "duration": 15,
    "start_time": "2021-11-07T18:38:23.704Z"
   },
   {
    "duration": 7,
    "start_time": "2021-11-07T18:38:23.721Z"
   },
   {
    "duration": 62,
    "start_time": "2021-11-07T18:38:23.730Z"
   },
   {
    "duration": 24,
    "start_time": "2021-11-07T18:38:23.795Z"
   },
   {
    "duration": 19,
    "start_time": "2021-11-07T18:38:23.821Z"
   },
   {
    "duration": 498,
    "start_time": "2021-11-07T18:38:23.843Z"
   },
   {
    "duration": 429,
    "start_time": "2021-11-07T18:38:24.344Z"
   },
   {
    "duration": 453,
    "start_time": "2021-11-07T18:38:24.781Z"
   },
   {
    "duration": 439,
    "start_time": "2021-11-07T18:38:25.237Z"
   },
   {
    "duration": 8,
    "start_time": "2021-11-07T18:38:25.682Z"
   },
   {
    "duration": 8,
    "start_time": "2021-11-07T18:38:25.693Z"
   },
   {
    "duration": 7,
    "start_time": "2021-11-07T18:38:25.704Z"
   },
   {
    "duration": 571,
    "start_time": "2021-11-07T18:38:25.714Z"
   },
   {
    "duration": 17,
    "start_time": "2021-11-07T18:38:26.288Z"
   },
   {
    "duration": 8,
    "start_time": "2021-11-07T18:38:26.308Z"
   },
   {
    "duration": 9,
    "start_time": "2021-11-07T18:38:26.318Z"
   },
   {
    "duration": 419,
    "start_time": "2021-11-07T18:38:26.331Z"
   },
   {
    "duration": 78,
    "start_time": "2021-11-07T18:38:26.754Z"
   },
   {
    "duration": 5,
    "start_time": "2021-11-07T18:38:26.837Z"
   },
   {
    "duration": 9,
    "start_time": "2021-11-07T18:38:26.845Z"
   },
   {
    "duration": 34,
    "start_time": "2021-11-07T18:38:26.856Z"
   },
   {
    "duration": 5,
    "start_time": "2021-11-07T18:38:26.893Z"
   },
   {
    "duration": 6,
    "start_time": "2021-11-07T18:38:26.900Z"
   },
   {
    "duration": 2495,
    "start_time": "2021-11-07T18:38:26.909Z"
   },
   {
    "duration": 2432,
    "start_time": "2021-11-07T18:38:29.407Z"
   },
   {
    "duration": 5,
    "start_time": "2021-11-07T18:38:31.842Z"
   },
   {
    "duration": 3411,
    "start_time": "2021-11-07T18:38:31.851Z"
   },
   {
    "duration": 4,
    "start_time": "2021-11-07T18:38:35.264Z"
   },
   {
    "duration": 743,
    "start_time": "2021-11-07T18:38:35.283Z"
   },
   {
    "duration": 678,
    "start_time": "2021-11-07T18:38:36.029Z"
   },
   {
    "duration": 4,
    "start_time": "2021-11-07T18:38:36.709Z"
   },
   {
    "duration": 8,
    "start_time": "2021-11-07T18:38:36.717Z"
   },
   {
    "duration": 19,
    "start_time": "2021-11-07T18:38:36.727Z"
   },
   {
    "duration": 33,
    "start_time": "2021-11-07T18:38:36.749Z"
   },
   {
    "duration": 14,
    "start_time": "2021-11-07T18:38:36.785Z"
   },
   {
    "duration": 7,
    "start_time": "2021-11-07T18:38:36.802Z"
   },
   {
    "duration": 370,
    "start_time": "2021-11-07T18:38:36.812Z"
   },
   {
    "duration": 348,
    "start_time": "2021-11-07T18:38:37.184Z"
   },
   {
    "duration": 5,
    "start_time": "2021-11-07T18:38:37.534Z"
   },
   {
    "duration": 19,
    "start_time": "2021-11-07T18:38:37.541Z"
   },
   {
    "duration": 1199,
    "start_time": "2021-11-07T18:38:37.562Z"
   },
   {
    "duration": 1723,
    "start_time": "2021-11-07T18:39:21.323Z"
   },
   {
    "duration": 991,
    "start_time": "2021-11-07T18:39:23.049Z"
   },
   {
    "duration": 286,
    "start_time": "2021-11-07T18:39:24.043Z"
   },
   {
    "duration": 111,
    "start_time": "2021-11-07T18:39:24.332Z"
   },
   {
    "duration": 271,
    "start_time": "2021-11-07T18:39:24.445Z"
   },
   {
    "duration": 5,
    "start_time": "2021-11-07T18:39:24.718Z"
   },
   {
    "duration": 18,
    "start_time": "2021-11-07T18:39:24.725Z"
   },
   {
    "duration": 34,
    "start_time": "2021-11-07T18:39:24.748Z"
   },
   {
    "duration": 59,
    "start_time": "2021-11-07T18:39:24.786Z"
   },
   {
    "duration": 228,
    "start_time": "2021-11-07T18:39:24.847Z"
   },
   {
    "duration": 61,
    "start_time": "2021-11-07T18:39:25.081Z"
   },
   {
    "duration": 6,
    "start_time": "2021-11-07T18:39:25.145Z"
   },
   {
    "duration": 8,
    "start_time": "2021-11-07T18:39:25.182Z"
   },
   {
    "duration": 120,
    "start_time": "2021-11-07T18:39:25.193Z"
   },
   {
    "duration": 6,
    "start_time": "2021-11-07T18:39:25.316Z"
   },
   {
    "duration": 8,
    "start_time": "2021-11-07T18:39:25.325Z"
   },
   {
    "duration": 127,
    "start_time": "2021-11-07T18:39:25.336Z"
   },
   {
    "duration": 19,
    "start_time": "2021-11-07T18:39:25.466Z"
   },
   {
    "duration": 11,
    "start_time": "2021-11-07T18:39:25.488Z"
   },
   {
    "duration": 13,
    "start_time": "2021-11-07T18:39:25.502Z"
   },
   {
    "duration": 86,
    "start_time": "2021-11-07T18:39:25.517Z"
   },
   {
    "duration": 4,
    "start_time": "2021-11-07T18:39:25.606Z"
   },
   {
    "duration": 3,
    "start_time": "2021-11-07T18:39:25.614Z"
   },
   {
    "duration": 97,
    "start_time": "2021-11-07T18:39:25.620Z"
   },
   {
    "duration": 5,
    "start_time": "2021-11-07T18:39:25.720Z"
   },
   {
    "duration": 8,
    "start_time": "2021-11-07T18:39:25.728Z"
   },
   {
    "duration": 51,
    "start_time": "2021-11-07T18:39:25.738Z"
   },
   {
    "duration": 7,
    "start_time": "2021-11-07T18:39:25.792Z"
   },
   {
    "duration": 14,
    "start_time": "2021-11-07T18:39:25.801Z"
   },
   {
    "duration": 69,
    "start_time": "2021-11-07T18:39:25.818Z"
   },
   {
    "duration": 24,
    "start_time": "2021-11-07T18:39:25.890Z"
   },
   {
    "duration": 475,
    "start_time": "2021-11-07T18:39:25.917Z"
   },
   {
    "duration": 429,
    "start_time": "2021-11-07T18:39:26.396Z"
   },
   {
    "duration": 457,
    "start_time": "2021-11-07T18:39:26.828Z"
   },
   {
    "duration": 340,
    "start_time": "2021-11-07T18:39:27.288Z"
   },
   {
    "duration": 7,
    "start_time": "2021-11-07T18:39:27.633Z"
   },
   {
    "duration": 9,
    "start_time": "2021-11-07T18:39:27.644Z"
   },
   {
    "duration": 29,
    "start_time": "2021-11-07T18:39:27.655Z"
   },
   {
    "duration": 456,
    "start_time": "2021-11-07T18:39:27.686Z"
   },
   {
    "duration": 20,
    "start_time": "2021-11-07T18:39:28.145Z"
   },
   {
    "duration": 19,
    "start_time": "2021-11-07T18:39:28.168Z"
   },
   {
    "duration": 10,
    "start_time": "2021-11-07T18:39:28.191Z"
   },
   {
    "duration": 399,
    "start_time": "2021-11-07T18:39:28.204Z"
   },
   {
    "duration": 85,
    "start_time": "2021-11-07T18:39:28.606Z"
   },
   {
    "duration": 6,
    "start_time": "2021-11-07T18:39:28.697Z"
   },
   {
    "duration": 5,
    "start_time": "2021-11-07T18:39:28.706Z"
   },
   {
    "duration": 8,
    "start_time": "2021-11-07T18:39:28.714Z"
   },
   {
    "duration": 7,
    "start_time": "2021-11-07T18:39:28.725Z"
   },
   {
    "duration": 48,
    "start_time": "2021-11-07T18:39:28.734Z"
   },
   {
    "duration": 2144,
    "start_time": "2021-11-07T18:39:28.786Z"
   },
   {
    "duration": 1664,
    "start_time": "2021-11-07T18:39:30.933Z"
   },
   {
    "duration": 4,
    "start_time": "2021-11-07T18:39:32.599Z"
   },
   {
    "duration": 1521,
    "start_time": "2021-11-07T18:55:58.010Z"
   },
   {
    "duration": 980,
    "start_time": "2021-11-07T18:55:59.534Z"
   },
   {
    "duration": 249,
    "start_time": "2021-11-07T18:56:00.517Z"
   },
   {
    "duration": 99,
    "start_time": "2021-11-07T18:56:00.769Z"
   },
   {
    "duration": 252,
    "start_time": "2021-11-07T18:56:00.871Z"
   },
   {
    "duration": 5,
    "start_time": "2021-11-07T18:56:01.125Z"
   },
   {
    "duration": 43,
    "start_time": "2021-11-07T18:56:01.133Z"
   },
   {
    "duration": 8,
    "start_time": "2021-11-07T18:56:01.179Z"
   },
   {
    "duration": 64,
    "start_time": "2021-11-07T18:56:01.190Z"
   },
   {
    "duration": 263,
    "start_time": "2021-11-07T18:56:01.984Z"
   },
   {
    "duration": 78,
    "start_time": "2021-11-07T18:56:02.250Z"
   },
   {
    "duration": 6,
    "start_time": "2021-11-07T18:56:02.332Z"
   },
   {
    "duration": 8,
    "start_time": "2021-11-07T18:56:02.341Z"
   },
   {
    "duration": 90,
    "start_time": "2021-11-07T18:56:02.352Z"
   },
   {
    "duration": 40,
    "start_time": "2021-11-07T18:56:02.445Z"
   },
   {
    "duration": 11,
    "start_time": "2021-11-07T18:56:02.488Z"
   },
   {
    "duration": 82,
    "start_time": "2021-11-07T18:56:02.502Z"
   },
   {
    "duration": 6,
    "start_time": "2021-11-07T18:56:02.587Z"
   },
   {
    "duration": 10,
    "start_time": "2021-11-07T18:56:02.595Z"
   },
   {
    "duration": 22,
    "start_time": "2021-11-07T18:56:02.608Z"
   },
   {
    "duration": 90,
    "start_time": "2021-11-07T18:56:02.633Z"
   },
   {
    "duration": 10,
    "start_time": "2021-11-07T18:56:02.726Z"
   },
   {
    "duration": 19,
    "start_time": "2021-11-07T18:56:02.738Z"
   },
   {
    "duration": 82,
    "start_time": "2021-11-07T18:56:02.759Z"
   },
   {
    "duration": 5,
    "start_time": "2021-11-07T18:56:02.843Z"
   },
   {
    "duration": 35,
    "start_time": "2021-11-07T18:56:02.850Z"
   },
   {
    "duration": 18,
    "start_time": "2021-11-07T18:56:02.888Z"
   },
   {
    "duration": 8,
    "start_time": "2021-11-07T18:56:02.908Z"
   },
   {
    "duration": 15,
    "start_time": "2021-11-07T18:56:02.918Z"
   },
   {
    "duration": 58,
    "start_time": "2021-11-07T18:56:02.936Z"
   },
   {
    "duration": 21,
    "start_time": "2021-11-07T18:56:02.996Z"
   },
   {
    "duration": 430,
    "start_time": "2021-11-07T18:56:03.021Z"
   },
   {
    "duration": 410,
    "start_time": "2021-11-07T18:56:03.454Z"
   },
   {
    "duration": 429,
    "start_time": "2021-11-07T18:56:03.867Z"
   },
   {
    "duration": 327,
    "start_time": "2021-11-07T18:56:04.299Z"
   },
   {
    "duration": 6,
    "start_time": "2021-11-07T18:56:04.630Z"
   },
   {
    "duration": 8,
    "start_time": "2021-11-07T18:56:04.638Z"
   },
   {
    "duration": 13,
    "start_time": "2021-11-07T18:56:04.648Z"
   },
   {
    "duration": 432,
    "start_time": "2021-11-07T18:56:04.681Z"
   },
   {
    "duration": 17,
    "start_time": "2021-11-07T18:56:05.116Z"
   },
   {
    "duration": 11,
    "start_time": "2021-11-07T18:56:05.135Z"
   },
   {
    "duration": 35,
    "start_time": "2021-11-07T18:56:05.148Z"
   },
   {
    "duration": 369,
    "start_time": "2021-11-07T18:56:05.186Z"
   },
   {
    "duration": 71,
    "start_time": "2021-11-07T18:56:05.557Z"
   },
   {
    "duration": 5,
    "start_time": "2021-11-07T18:56:05.630Z"
   },
   {
    "duration": 6,
    "start_time": "2021-11-07T18:56:05.638Z"
   },
   {
    "duration": 8,
    "start_time": "2021-11-07T18:56:05.870Z"
   },
   {
    "duration": 4,
    "start_time": "2021-11-07T18:56:06.038Z"
   },
   {
    "duration": 3,
    "start_time": "2021-11-07T18:56:06.290Z"
   },
   {
    "duration": 1547,
    "start_time": "2021-11-07T18:56:06.375Z"
   },
   {
    "duration": 1782,
    "start_time": "2021-11-07T18:56:07.925Z"
   },
   {
    "duration": 74,
    "start_time": "2021-11-07T18:56:09.710Z"
   },
   {
    "duration": 103416,
    "start_time": "2021-11-07T18:56:09.788Z"
   },
   {
    "duration": 3,
    "start_time": "2021-11-07T18:57:53.207Z"
   },
   {
    "duration": 762,
    "start_time": "2021-11-07T18:57:53.213Z"
   },
   {
    "duration": 651,
    "start_time": "2021-11-07T18:57:53.978Z"
   },
   {
    "duration": 4,
    "start_time": "2021-11-07T18:57:54.634Z"
   },
   {
    "duration": 5,
    "start_time": "2021-11-07T18:57:54.642Z"
   },
   {
    "duration": 33,
    "start_time": "2021-11-07T18:57:54.650Z"
   },
   {
    "duration": 17,
    "start_time": "2021-11-07T18:57:54.686Z"
   },
   {
    "duration": 9,
    "start_time": "2021-11-07T18:57:54.705Z"
   },
   {
    "duration": 6,
    "start_time": "2021-11-07T18:57:54.716Z"
   },
   {
    "duration": 358,
    "start_time": "2021-11-07T18:57:54.724Z"
   },
   {
    "duration": 331,
    "start_time": "2021-11-07T18:57:55.084Z"
   },
   {
    "duration": 4,
    "start_time": "2021-11-07T18:57:55.418Z"
   },
   {
    "duration": 9,
    "start_time": "2021-11-07T18:57:55.424Z"
   },
   {
    "duration": 997,
    "start_time": "2021-11-07T18:57:55.435Z"
   },
   {
    "duration": 3,
    "start_time": "2021-11-07T18:57:56.435Z"
   },
   {
    "duration": 1434,
    "start_time": "2021-11-07T18:58:43.615Z"
   },
   {
    "duration": 866,
    "start_time": "2021-11-07T18:58:45.052Z"
   },
   {
    "duration": 267,
    "start_time": "2021-11-07T18:58:45.921Z"
   },
   {
    "duration": 111,
    "start_time": "2021-11-07T18:58:46.191Z"
   },
   {
    "duration": 270,
    "start_time": "2021-11-07T18:58:46.305Z"
   },
   {
    "duration": 5,
    "start_time": "2021-11-07T18:58:46.581Z"
   },
   {
    "duration": 19,
    "start_time": "2021-11-07T18:58:46.588Z"
   },
   {
    "duration": 8,
    "start_time": "2021-11-07T18:58:46.611Z"
   },
   {
    "duration": 87,
    "start_time": "2021-11-07T18:58:46.622Z"
   },
   {
    "duration": 235,
    "start_time": "2021-11-07T18:58:46.712Z"
   },
   {
    "duration": 74,
    "start_time": "2021-11-07T18:58:46.950Z"
   },
   {
    "duration": 6,
    "start_time": "2021-11-07T18:58:47.026Z"
   },
   {
    "duration": 8,
    "start_time": "2021-11-07T18:58:47.034Z"
   },
   {
    "duration": 90,
    "start_time": "2021-11-07T18:58:47.045Z"
   },
   {
    "duration": 6,
    "start_time": "2021-11-07T18:58:47.137Z"
   },
   {
    "duration": 37,
    "start_time": "2021-11-07T18:58:47.145Z"
   },
   {
    "duration": 63,
    "start_time": "2021-11-07T18:58:47.185Z"
   },
   {
    "duration": 33,
    "start_time": "2021-11-07T18:58:47.251Z"
   },
   {
    "duration": 8,
    "start_time": "2021-11-07T18:58:47.287Z"
   },
   {
    "duration": 14,
    "start_time": "2021-11-07T18:58:47.300Z"
   },
   {
    "duration": 98,
    "start_time": "2021-11-07T18:58:47.318Z"
   },
   {
    "duration": 3,
    "start_time": "2021-11-07T18:58:47.419Z"
   },
   {
    "duration": 7,
    "start_time": "2021-11-07T18:58:47.424Z"
   },
   {
    "duration": 119,
    "start_time": "2021-11-07T18:58:47.434Z"
   },
   {
    "duration": 7,
    "start_time": "2021-11-07T18:58:47.556Z"
   },
   {
    "duration": 21,
    "start_time": "2021-11-07T18:58:47.565Z"
   },
   {
    "duration": 18,
    "start_time": "2021-11-07T18:58:47.588Z"
   },
   {
    "duration": 7,
    "start_time": "2021-11-07T18:58:47.608Z"
   },
   {
    "duration": 64,
    "start_time": "2021-11-07T18:58:47.618Z"
   },
   {
    "duration": 24,
    "start_time": "2021-11-07T18:58:47.883Z"
   },
   {
    "duration": 26,
    "start_time": "2021-11-07T18:58:48.005Z"
   },
   {
    "duration": 415,
    "start_time": "2021-11-07T18:58:48.078Z"
   },
   {
    "duration": 408,
    "start_time": "2021-11-07T18:58:48.496Z"
   },
   {
    "duration": 461,
    "start_time": "2021-11-07T18:58:48.907Z"
   },
   {
    "duration": 319,
    "start_time": "2021-11-07T18:58:49.371Z"
   },
   {
    "duration": 6,
    "start_time": "2021-11-07T18:58:49.692Z"
   },
   {
    "duration": 9,
    "start_time": "2021-11-07T18:58:49.700Z"
   },
   {
    "duration": 12,
    "start_time": "2021-11-07T18:58:49.712Z"
   },
   {
    "duration": 466,
    "start_time": "2021-11-07T18:58:49.726Z"
   },
   {
    "duration": 16,
    "start_time": "2021-11-07T18:58:50.195Z"
   },
   {
    "duration": 8,
    "start_time": "2021-11-07T18:58:50.213Z"
   },
   {
    "duration": 11,
    "start_time": "2021-11-07T18:58:50.223Z"
   },
   {
    "duration": 389,
    "start_time": "2021-11-07T18:58:50.236Z"
   },
   {
    "duration": 76,
    "start_time": "2021-11-07T18:58:50.628Z"
   },
   {
    "duration": 5,
    "start_time": "2021-11-07T18:58:50.706Z"
   },
   {
    "duration": 8,
    "start_time": "2021-11-07T18:58:50.713Z"
   },
   {
    "duration": 11,
    "start_time": "2021-11-07T18:58:50.723Z"
   },
   {
    "duration": 5,
    "start_time": "2021-11-07T18:58:50.736Z"
   },
   {
    "duration": 6,
    "start_time": "2021-11-07T18:58:50.744Z"
   },
   {
    "duration": 1646,
    "start_time": "2021-11-07T18:58:50.753Z"
   },
   {
    "duration": 1521,
    "start_time": "2021-11-07T18:58:52.401Z"
   },
   {
    "duration": 4,
    "start_time": "2021-11-07T18:58:53.925Z"
   },
   {
    "duration": 5,
    "start_time": "2021-11-07T18:58:53.932Z"
   },
   {
    "duration": 10,
    "start_time": "2021-11-07T18:58:53.939Z"
   },
   {
    "duration": 3824,
    "start_time": "2021-11-07T18:58:53.951Z"
   },
   {
    "duration": 3804,
    "start_time": "2021-11-07T18:58:57.778Z"
   },
   {
    "duration": 5,
    "start_time": "2021-11-07T18:59:01.586Z"
   },
   {
    "duration": 28,
    "start_time": "2021-11-07T18:59:01.595Z"
   },
   {
    "duration": 17,
    "start_time": "2021-11-07T18:59:01.625Z"
   },
   {
    "duration": 23,
    "start_time": "2021-11-07T18:59:01.644Z"
   },
   {
    "duration": 16,
    "start_time": "2021-11-07T18:59:01.670Z"
   },
   {
    "duration": 5,
    "start_time": "2021-11-07T18:59:01.689Z"
   },
   {
    "duration": 1847,
    "start_time": "2021-11-07T18:59:01.697Z"
   },
   {
    "duration": 1886,
    "start_time": "2021-11-07T18:59:03.546Z"
   },
   {
    "duration": 4,
    "start_time": "2021-11-07T18:59:05.435Z"
   },
   {
    "duration": 11,
    "start_time": "2021-11-07T18:59:05.441Z"
   },
   {
    "duration": 1075,
    "start_time": "2021-11-07T18:59:05.454Z"
   },
   {
    "duration": 3,
    "start_time": "2021-11-07T18:59:06.531Z"
   },
   {
    "duration": 3,
    "start_time": "2021-11-07T19:00:31.427Z"
   },
   {
    "duration": 7,
    "start_time": "2021-11-07T19:00:31.718Z"
   },
   {
    "duration": 431,
    "start_time": "2021-11-07T19:00:31.926Z"
   },
   {
    "duration": -136,
    "start_time": "2021-11-07T19:00:32.496Z"
   },
   {
    "duration": -138,
    "start_time": "2021-11-07T19:00:32.500Z"
   },
   {
    "duration": 1461,
    "start_time": "2021-11-07T19:00:32.537Z"
   },
   {
    "duration": 1386,
    "start_time": "2021-11-07T19:00:35.619Z"
   },
   {
    "duration": 4,
    "start_time": "2021-11-07T19:00:38.346Z"
   },
   {
    "duration": 1500,
    "start_time": "2021-11-07T19:01:29.037Z"
   },
   {
    "duration": 1321,
    "start_time": "2021-11-07T19:01:30.540Z"
   },
   {
    "duration": 359,
    "start_time": "2021-11-07T19:01:31.865Z"
   },
   {
    "duration": 163,
    "start_time": "2021-11-07T19:01:32.228Z"
   },
   {
    "duration": 352,
    "start_time": "2021-11-07T19:01:32.394Z"
   },
   {
    "duration": 4,
    "start_time": "2021-11-07T19:01:32.749Z"
   },
   {
    "duration": 30,
    "start_time": "2021-11-07T19:01:32.756Z"
   },
   {
    "duration": 7,
    "start_time": "2021-11-07T19:01:32.790Z"
   },
   {
    "duration": 87,
    "start_time": "2021-11-07T19:01:32.800Z"
   },
   {
    "duration": 194,
    "start_time": "2021-11-07T19:01:32.890Z"
   },
   {
    "duration": 59,
    "start_time": "2021-11-07T19:01:33.086Z"
   },
   {
    "duration": 7,
    "start_time": "2021-11-07T19:01:33.147Z"
   },
   {
    "duration": 6,
    "start_time": "2021-11-07T19:01:33.183Z"
   },
   {
    "duration": 90,
    "start_time": "2021-11-07T19:01:33.192Z"
   },
   {
    "duration": 5,
    "start_time": "2021-11-07T19:01:33.285Z"
   },
   {
    "duration": 9,
    "start_time": "2021-11-07T19:01:33.293Z"
   },
   {
    "duration": 93,
    "start_time": "2021-11-07T19:01:33.304Z"
   },
   {
    "duration": 6,
    "start_time": "2021-11-07T19:01:33.399Z"
   },
   {
    "duration": 8,
    "start_time": "2021-11-07T19:01:33.407Z"
   },
   {
    "duration": 14,
    "start_time": "2021-11-07T19:01:33.418Z"
   },
   {
    "duration": 94,
    "start_time": "2021-11-07T19:01:33.434Z"
   },
   {
    "duration": 3,
    "start_time": "2021-11-07T19:01:33.530Z"
   },
   {
    "duration": 2,
    "start_time": "2021-11-07T19:01:33.540Z"
   },
   {
    "duration": 93,
    "start_time": "2021-11-07T19:01:33.546Z"
   },
   {
    "duration": 6,
    "start_time": "2021-11-07T19:01:33.642Z"
   },
   {
    "duration": 37,
    "start_time": "2021-11-07T19:01:33.651Z"
   },
   {
    "duration": 20,
    "start_time": "2021-11-07T19:01:33.690Z"
   },
   {
    "duration": 8,
    "start_time": "2021-11-07T19:01:33.712Z"
   },
   {
    "duration": 14,
    "start_time": "2021-11-07T19:01:33.722Z"
   },
   {
    "duration": 62,
    "start_time": "2021-11-07T19:01:33.739Z"
   },
   {
    "duration": 19,
    "start_time": "2021-11-07T19:01:33.804Z"
   },
   {
    "duration": 441,
    "start_time": "2021-11-07T19:01:33.826Z"
   },
   {
    "duration": 417,
    "start_time": "2021-11-07T19:01:34.270Z"
   },
   {
    "duration": 427,
    "start_time": "2021-11-07T19:01:34.690Z"
   },
   {
    "duration": 342,
    "start_time": "2021-11-07T19:01:35.119Z"
   },
   {
    "duration": 5,
    "start_time": "2021-11-07T19:01:35.464Z"
   },
   {
    "duration": 6,
    "start_time": "2021-11-07T19:01:35.481Z"
   },
   {
    "duration": 12,
    "start_time": "2021-11-07T19:01:35.490Z"
   },
   {
    "duration": 492,
    "start_time": "2021-11-07T19:01:35.504Z"
   },
   {
    "duration": 18,
    "start_time": "2021-11-07T19:01:35.999Z"
   },
   {
    "duration": 8,
    "start_time": "2021-11-07T19:01:36.020Z"
   },
   {
    "duration": 13,
    "start_time": "2021-11-07T19:01:36.031Z"
   },
   {
    "duration": 394,
    "start_time": "2021-11-07T19:01:36.047Z"
   },
   {
    "duration": 76,
    "start_time": "2021-11-07T19:01:36.444Z"
   },
   {
    "duration": 5,
    "start_time": "2021-11-07T19:01:36.523Z"
   },
   {
    "duration": 7,
    "start_time": "2021-11-07T19:01:36.532Z"
   },
   {
    "duration": 9,
    "start_time": "2021-11-07T19:01:36.542Z"
   },
   {
    "duration": 28,
    "start_time": "2021-11-07T19:01:36.553Z"
   },
   {
    "duration": 5,
    "start_time": "2021-11-07T19:01:36.584Z"
   },
   {
    "duration": 1920,
    "start_time": "2021-11-07T19:01:36.592Z"
   },
   {
    "duration": 1813,
    "start_time": "2021-11-07T19:01:38.515Z"
   },
   {
    "duration": 5,
    "start_time": "2021-11-07T19:01:40.330Z"
   },
   {
    "duration": 337586,
    "start_time": "2021-11-07T19:01:40.337Z"
   },
   {
    "duration": 3,
    "start_time": "2021-11-07T19:07:17.927Z"
   },
   {
    "duration": 4497,
    "start_time": "2021-11-07T19:07:17.933Z"
   },
   {
    "duration": 4092,
    "start_time": "2021-11-07T19:07:22.433Z"
   },
   {
    "duration": 6,
    "start_time": "2021-11-07T19:07:26.527Z"
   },
   {
    "duration": 6,
    "start_time": "2021-11-07T19:07:26.536Z"
   },
   {
    "duration": 37,
    "start_time": "2021-11-07T19:07:26.545Z"
   },
   {
    "duration": 30,
    "start_time": "2021-11-07T19:07:26.585Z"
   },
   {
    "duration": 13,
    "start_time": "2021-11-07T19:07:26.618Z"
   },
   {
    "duration": 23,
    "start_time": "2021-11-07T19:07:26.633Z"
   },
   {
    "duration": 2645,
    "start_time": "2021-11-07T19:07:26.659Z"
   },
   {
    "duration": 1899,
    "start_time": "2021-11-07T19:07:29.307Z"
   },
   {
    "duration": 4,
    "start_time": "2021-11-07T19:07:31.209Z"
   },
   {
    "duration": 19,
    "start_time": "2021-11-07T19:07:31.215Z"
   },
   {
    "duration": 1017,
    "start_time": "2021-11-07T19:07:31.238Z"
   },
   {
    "duration": 3,
    "start_time": "2021-11-07T19:07:32.257Z"
   },
   {
    "duration": 1562,
    "start_time": "2021-11-07T19:08:32.072Z"
   },
   {
    "duration": 932,
    "start_time": "2021-11-07T19:08:33.637Z"
   },
   {
    "duration": 284,
    "start_time": "2021-11-07T19:08:34.572Z"
   },
   {
    "duration": 104,
    "start_time": "2021-11-07T19:08:34.859Z"
   },
   {
    "duration": 280,
    "start_time": "2021-11-07T19:08:34.965Z"
   },
   {
    "duration": 4,
    "start_time": "2021-11-07T19:08:35.248Z"
   },
   {
    "duration": 42,
    "start_time": "2021-11-07T19:08:35.255Z"
   },
   {
    "duration": 8,
    "start_time": "2021-11-07T19:08:35.303Z"
   },
   {
    "duration": 88,
    "start_time": "2021-11-07T19:08:35.315Z"
   },
   {
    "duration": 213,
    "start_time": "2021-11-07T19:08:35.405Z"
   },
   {
    "duration": 80,
    "start_time": "2021-11-07T19:08:35.620Z"
   },
   {
    "duration": 6,
    "start_time": "2021-11-07T19:08:35.703Z"
   },
   {
    "duration": 10,
    "start_time": "2021-11-07T19:08:35.711Z"
   },
   {
    "duration": 99,
    "start_time": "2021-11-07T19:08:35.723Z"
   },
   {
    "duration": 5,
    "start_time": "2021-11-07T19:08:35.825Z"
   },
   {
    "duration": 15,
    "start_time": "2021-11-07T19:08:35.832Z"
   },
   {
    "duration": 93,
    "start_time": "2021-11-07T19:08:35.849Z"
   },
   {
    "duration": 5,
    "start_time": "2021-11-07T19:08:35.945Z"
   },
   {
    "duration": 32,
    "start_time": "2021-11-07T19:08:35.952Z"
   },
   {
    "duration": 16,
    "start_time": "2021-11-07T19:08:35.991Z"
   },
   {
    "duration": 90,
    "start_time": "2021-11-07T19:08:36.010Z"
   },
   {
    "duration": 3,
    "start_time": "2021-11-07T19:08:36.103Z"
   },
   {
    "duration": 11,
    "start_time": "2021-11-07T19:08:36.113Z"
   },
   {
    "duration": 97,
    "start_time": "2021-11-07T19:08:36.127Z"
   },
   {
    "duration": 6,
    "start_time": "2021-11-07T19:08:36.226Z"
   },
   {
    "duration": 15,
    "start_time": "2021-11-07T19:08:36.234Z"
   },
   {
    "duration": 50,
    "start_time": "2021-11-07T19:08:36.251Z"
   },
   {
    "duration": 11,
    "start_time": "2021-11-07T19:08:36.304Z"
   },
   {
    "duration": 16,
    "start_time": "2021-11-07T19:08:36.317Z"
   },
   {
    "duration": 54,
    "start_time": "2021-11-07T19:08:36.340Z"
   },
   {
    "duration": 22,
    "start_time": "2021-11-07T19:08:36.421Z"
   },
   {
    "duration": 441,
    "start_time": "2021-11-07T19:08:36.525Z"
   },
   {
    "duration": 449,
    "start_time": "2021-11-07T19:08:36.968Z"
   },
   {
    "duration": 467,
    "start_time": "2021-11-07T19:08:37.420Z"
   },
   {
    "duration": 354,
    "start_time": "2021-11-07T19:08:37.890Z"
   },
   {
    "duration": 6,
    "start_time": "2021-11-07T19:08:38.246Z"
   },
   {
    "duration": 13,
    "start_time": "2021-11-07T19:08:38.254Z"
   },
   {
    "duration": 18,
    "start_time": "2021-11-07T19:08:38.283Z"
   },
   {
    "duration": 464,
    "start_time": "2021-11-07T19:08:38.304Z"
   },
   {
    "duration": 29,
    "start_time": "2021-11-07T19:08:38.770Z"
   },
   {
    "duration": 9,
    "start_time": "2021-11-07T19:08:38.801Z"
   },
   {
    "duration": 9,
    "start_time": "2021-11-07T19:08:38.813Z"
   },
   {
    "duration": 414,
    "start_time": "2021-11-07T19:08:38.824Z"
   },
   {
    "duration": 81,
    "start_time": "2021-11-07T19:08:39.241Z"
   },
   {
    "duration": 6,
    "start_time": "2021-11-07T19:08:40.131Z"
   },
   {
    "duration": 4,
    "start_time": "2021-11-07T19:08:40.216Z"
   },
   {
    "duration": 7,
    "start_time": "2021-11-07T19:08:40.298Z"
   },
   {
    "duration": 3,
    "start_time": "2021-11-07T19:08:40.465Z"
   },
   {
    "duration": 4,
    "start_time": "2021-11-07T19:08:40.716Z"
   },
   {
    "duration": 1831,
    "start_time": "2021-11-07T19:08:40.803Z"
   },
   {
    "duration": 1969,
    "start_time": "2021-11-07T19:08:42.637Z"
   },
   {
    "duration": 4,
    "start_time": "2021-11-07T19:08:44.609Z"
   },
   {
    "duration": 16,
    "start_time": "2021-11-07T19:08:44.616Z"
   },
   {
    "duration": 24,
    "start_time": "2021-11-07T19:08:44.635Z"
   },
   {
    "duration": 1654,
    "start_time": "2021-11-07T19:08:44.661Z"
   },
   {
    "duration": 1920,
    "start_time": "2021-11-07T19:08:46.318Z"
   },
   {
    "duration": 5,
    "start_time": "2021-11-07T19:08:48.243Z"
   },
   {
    "duration": 14,
    "start_time": "2021-11-07T19:08:48.251Z"
   },
   {
    "duration": 20,
    "start_time": "2021-11-07T19:08:48.267Z"
   },
   {
    "duration": 22,
    "start_time": "2021-11-07T19:08:48.290Z"
   },
   {
    "duration": 10,
    "start_time": "2021-11-07T19:08:48.315Z"
   },
   {
    "duration": 5,
    "start_time": "2021-11-07T19:08:48.328Z"
   },
   {
    "duration": 919,
    "start_time": "2021-11-07T19:08:48.335Z"
   },
   {
    "duration": 846,
    "start_time": "2021-11-07T19:08:49.256Z"
   },
   {
    "duration": 4,
    "start_time": "2021-11-07T19:08:50.104Z"
   },
   {
    "duration": 16,
    "start_time": "2021-11-07T19:08:50.111Z"
   },
   {
    "duration": 1097,
    "start_time": "2021-11-07T19:08:50.130Z"
   },
   {
    "duration": 1527,
    "start_time": "2021-11-07T19:09:56.444Z"
   },
   {
    "duration": 886,
    "start_time": "2021-11-07T19:09:57.974Z"
   },
   {
    "duration": 286,
    "start_time": "2021-11-07T19:09:58.864Z"
   },
   {
    "duration": 106,
    "start_time": "2021-11-07T19:09:59.154Z"
   },
   {
    "duration": 279,
    "start_time": "2021-11-07T19:09:59.263Z"
   },
   {
    "duration": 5,
    "start_time": "2021-11-07T19:09:59.545Z"
   },
   {
    "duration": 33,
    "start_time": "2021-11-07T19:09:59.553Z"
   },
   {
    "duration": 9,
    "start_time": "2021-11-07T19:09:59.591Z"
   },
   {
    "duration": 115,
    "start_time": "2021-11-07T19:09:59.604Z"
   },
   {
    "duration": 271,
    "start_time": "2021-11-07T19:09:59.722Z"
   },
   {
    "duration": 117,
    "start_time": "2021-11-07T19:09:59.996Z"
   },
   {
    "duration": 6,
    "start_time": "2021-11-07T19:10:00.115Z"
   },
   {
    "duration": 13,
    "start_time": "2021-11-07T19:10:00.124Z"
   },
   {
    "duration": 73,
    "start_time": "2021-11-07T19:10:00.139Z"
   },
   {
    "duration": 5,
    "start_time": "2021-11-07T19:10:00.215Z"
   },
   {
    "duration": 36,
    "start_time": "2021-11-07T19:10:00.222Z"
   },
   {
    "duration": 74,
    "start_time": "2021-11-07T19:10:00.260Z"
   },
   {
    "duration": 7,
    "start_time": "2021-11-07T19:10:00.336Z"
   },
   {
    "duration": 15,
    "start_time": "2021-11-07T19:10:00.345Z"
   },
   {
    "duration": 20,
    "start_time": "2021-11-07T19:10:00.363Z"
   },
   {
    "duration": 83,
    "start_time": "2021-11-07T19:10:00.386Z"
   },
   {
    "duration": 9,
    "start_time": "2021-11-07T19:10:00.474Z"
   },
   {
    "duration": 18,
    "start_time": "2021-11-07T19:10:00.486Z"
   },
   {
    "duration": 74,
    "start_time": "2021-11-07T19:10:00.506Z"
   },
   {
    "duration": 5,
    "start_time": "2021-11-07T19:10:00.582Z"
   },
   {
    "duration": 35,
    "start_time": "2021-11-07T19:10:00.590Z"
   },
   {
    "duration": 13,
    "start_time": "2021-11-07T19:10:01.740Z"
   },
   {
    "duration": 30,
    "start_time": "2021-11-07T19:10:01.756Z"
   },
   {
    "duration": 11,
    "start_time": "2021-11-07T19:10:01.789Z"
   },
   {
    "duration": 27,
    "start_time": "2021-11-07T19:10:01.803Z"
   },
   {
    "duration": 69,
    "start_time": "2021-11-07T19:10:01.832Z"
   },
   {
    "duration": 546,
    "start_time": "2021-11-07T19:10:01.903Z"
   },
   {
    "duration": 430,
    "start_time": "2021-11-07T19:10:02.452Z"
   },
   {
    "duration": 438,
    "start_time": "2021-11-07T19:10:02.885Z"
   },
   {
    "duration": 345,
    "start_time": "2021-11-07T19:10:03.325Z"
   },
   {
    "duration": 14,
    "start_time": "2021-11-07T19:10:03.673Z"
   },
   {
    "duration": 23,
    "start_time": "2021-11-07T19:10:03.689Z"
   },
   {
    "duration": 39,
    "start_time": "2021-11-07T19:10:03.715Z"
   },
   {
    "duration": 442,
    "start_time": "2021-11-07T19:10:03.803Z"
   },
   {
    "duration": 17,
    "start_time": "2021-11-07T19:10:04.248Z"
   },
   {
    "duration": 9,
    "start_time": "2021-11-07T19:10:04.303Z"
   },
   {
    "duration": 8,
    "start_time": "2021-11-07T19:10:04.537Z"
   },
   {
    "duration": 371,
    "start_time": "2021-11-07T19:10:04.760Z"
   },
   {
    "duration": 65,
    "start_time": "2021-11-07T19:10:05.811Z"
   },
   {
    "duration": 5,
    "start_time": "2021-11-07T19:10:06.918Z"
   },
   {
    "duration": 4,
    "start_time": "2021-11-07T19:10:07.238Z"
   },
   {
    "duration": 8,
    "start_time": "2021-11-07T19:10:07.620Z"
   },
   {
    "duration": 3,
    "start_time": "2021-11-07T19:10:08.474Z"
   },
   {
    "duration": 3,
    "start_time": "2021-11-07T19:10:09.652Z"
   },
   {
    "duration": 1762,
    "start_time": "2021-11-07T19:10:10.233Z"
   },
   {
    "duration": 1996,
    "start_time": "2021-11-07T19:10:11.998Z"
   },
   {
    "duration": 6,
    "start_time": "2021-11-07T19:10:13.998Z"
   },
   {
    "duration": 3,
    "start_time": "2021-11-07T19:10:17.607Z"
   },
   {
    "duration": 4,
    "start_time": "2021-11-07T19:10:18.436Z"
   },
   {
    "duration": 685,
    "start_time": "2021-11-07T19:10:19.964Z"
   },
   {
    "duration": 758,
    "start_time": "2021-11-07T19:10:20.653Z"
   },
   {
    "duration": 5,
    "start_time": "2021-11-07T19:10:21.414Z"
   },
   {
    "duration": 3,
    "start_time": "2021-11-07T19:10:23.072Z"
   },
   {
    "duration": 7,
    "start_time": "2021-11-07T19:10:24.873Z"
   },
   {
    "duration": 17,
    "start_time": "2021-11-07T19:10:25.580Z"
   },
   {
    "duration": 10,
    "start_time": "2021-11-07T19:10:26.114Z"
   },
   {
    "duration": 7,
    "start_time": "2021-11-07T19:10:26.884Z"
   },
   {
    "duration": 330,
    "start_time": "2021-11-07T19:10:27.405Z"
   },
   {
    "duration": 328,
    "start_time": "2021-11-07T19:10:28.523Z"
   },
   {
    "duration": 5,
    "start_time": "2021-11-07T19:10:31.653Z"
   },
   {
    "duration": 8,
    "start_time": "2021-11-07T19:10:35.875Z"
   },
   {
    "duration": 1274,
    "start_time": "2021-11-07T19:10:37.399Z"
   },
   {
    "duration": 1457,
    "start_time": "2021-11-07T19:16:51.479Z"
   },
   {
    "duration": 908,
    "start_time": "2021-11-07T19:16:52.938Z"
   },
   {
    "duration": 270,
    "start_time": "2021-11-07T19:16:53.850Z"
   },
   {
    "duration": 113,
    "start_time": "2021-11-07T19:16:54.123Z"
   },
   {
    "duration": 258,
    "start_time": "2021-11-07T19:16:54.238Z"
   },
   {
    "duration": 4,
    "start_time": "2021-11-07T19:16:54.498Z"
   },
   {
    "duration": 20,
    "start_time": "2021-11-07T19:16:54.504Z"
   },
   {
    "duration": 7,
    "start_time": "2021-11-07T19:16:54.527Z"
   },
   {
    "duration": 80,
    "start_time": "2021-11-07T19:16:54.536Z"
   },
   {
    "duration": 200,
    "start_time": "2021-11-07T19:16:54.618Z"
   },
   {
    "duration": 67,
    "start_time": "2021-11-07T19:16:54.820Z"
   },
   {
    "duration": 6,
    "start_time": "2021-11-07T19:16:54.890Z"
   },
   {
    "duration": 13,
    "start_time": "2021-11-07T19:16:54.898Z"
   },
   {
    "duration": 89,
    "start_time": "2021-11-07T19:16:54.914Z"
   },
   {
    "duration": 6,
    "start_time": "2021-11-07T19:16:55.005Z"
   },
   {
    "duration": 14,
    "start_time": "2021-11-07T19:16:55.013Z"
   },
   {
    "duration": 89,
    "start_time": "2021-11-07T19:16:55.029Z"
   },
   {
    "duration": 6,
    "start_time": "2021-11-07T19:16:55.120Z"
   },
   {
    "duration": 15,
    "start_time": "2021-11-07T19:16:55.128Z"
   },
   {
    "duration": 43,
    "start_time": "2021-11-07T19:16:55.146Z"
   },
   {
    "duration": 53,
    "start_time": "2021-11-07T19:16:55.192Z"
   },
   {
    "duration": 3,
    "start_time": "2021-11-07T19:16:55.249Z"
   },
   {
    "duration": 3,
    "start_time": "2021-11-07T19:16:55.283Z"
   },
   {
    "duration": 61,
    "start_time": "2021-11-07T19:16:55.289Z"
   },
   {
    "duration": 30,
    "start_time": "2021-11-07T19:16:55.352Z"
   },
   {
    "duration": 7,
    "start_time": "2021-11-07T19:16:55.385Z"
   },
   {
    "duration": 13,
    "start_time": "2021-11-07T19:16:55.395Z"
   },
   {
    "duration": 6,
    "start_time": "2021-11-07T19:16:55.410Z"
   },
   {
    "duration": 14,
    "start_time": "2021-11-07T19:16:55.419Z"
   },
   {
    "duration": 23,
    "start_time": "2021-11-07T19:16:55.749Z"
   },
   {
    "duration": 21,
    "start_time": "2021-11-07T19:16:55.866Z"
   },
   {
    "duration": 408,
    "start_time": "2021-11-07T19:16:55.919Z"
   },
   {
    "duration": 423,
    "start_time": "2021-11-07T19:16:56.330Z"
   },
   {
    "duration": 433,
    "start_time": "2021-11-07T19:16:56.756Z"
   },
   {
    "duration": 358,
    "start_time": "2021-11-07T19:16:57.191Z"
   },
   {
    "duration": 7,
    "start_time": "2021-11-07T19:16:57.551Z"
   },
   {
    "duration": 6,
    "start_time": "2021-11-07T19:16:57.594Z"
   },
   {
    "duration": 7,
    "start_time": "2021-11-07T19:16:57.676Z"
   },
   {
    "duration": 446,
    "start_time": "2021-11-07T19:16:57.761Z"
   },
   {
    "duration": 18,
    "start_time": "2021-11-07T19:16:58.210Z"
   },
   {
    "duration": 8,
    "start_time": "2021-11-07T19:16:58.231Z"
   },
   {
    "duration": 44,
    "start_time": "2021-11-07T19:16:58.242Z"
   },
   {
    "duration": 372,
    "start_time": "2021-11-07T19:16:58.289Z"
   },
   {
    "duration": 67,
    "start_time": "2021-11-07T19:16:59.085Z"
   },
   {
    "duration": 5,
    "start_time": "2021-11-07T19:16:59.344Z"
   },
   {
    "duration": 4,
    "start_time": "2021-11-07T19:16:59.676Z"
   },
   {
    "duration": 7,
    "start_time": "2021-11-07T19:17:00.179Z"
   },
   {
    "duration": 3,
    "start_time": "2021-11-07T19:17:00.346Z"
   },
   {
    "duration": 4,
    "start_time": "2021-11-07T19:17:01.004Z"
   },
   {
    "duration": 1865,
    "start_time": "2021-11-07T19:17:01.244Z"
   },
   {
    "duration": 2113,
    "start_time": "2021-11-07T19:17:03.112Z"
   },
   {
    "duration": 4,
    "start_time": "2021-11-07T19:17:05.227Z"
   },
   {
    "duration": 8808,
    "start_time": "2021-11-07T19:17:05.234Z"
   },
   {
    "duration": 3,
    "start_time": "2021-11-07T19:17:14.045Z"
   },
   {
    "duration": 680,
    "start_time": "2021-11-07T19:17:14.050Z"
   },
   {
    "duration": 674,
    "start_time": "2021-11-07T19:17:14.732Z"
   },
   {
    "duration": 4,
    "start_time": "2021-11-07T19:17:15.411Z"
   },
   {
    "duration": 9,
    "start_time": "2021-11-07T19:17:15.418Z"
   },
   {
    "duration": 9,
    "start_time": "2021-11-07T19:17:15.429Z"
   },
   {
    "duration": 19,
    "start_time": "2021-11-07T19:17:15.440Z"
   },
   {
    "duration": 11,
    "start_time": "2021-11-07T19:17:15.482Z"
   },
   {
    "duration": 6,
    "start_time": "2021-11-07T19:17:15.495Z"
   },
   {
    "duration": 352,
    "start_time": "2021-11-07T19:17:15.503Z"
   },
   {
    "duration": 345,
    "start_time": "2021-11-07T19:17:15.858Z"
   },
   {
    "duration": 4,
    "start_time": "2021-11-07T19:17:16.205Z"
   },
   {
    "duration": 9,
    "start_time": "2021-11-07T19:17:16.211Z"
   },
   {
    "duration": 991,
    "start_time": "2021-11-07T19:17:16.223Z"
   },
   {
    "duration": 3,
    "start_time": "2021-11-07T19:17:17.217Z"
   },
   {
    "duration": 13,
    "start_time": "2022-05-16T15:04:24.743Z"
   },
   {
    "duration": 319,
    "start_time": "2022-05-16T15:05:03.701Z"
   },
   {
    "duration": 108,
    "start_time": "2022-05-16T15:05:41.293Z"
   },
   {
    "duration": 4,
    "start_time": "2022-05-16T15:09:37.281Z"
   },
   {
    "duration": 4,
    "start_time": "2022-05-16T15:09:40.184Z"
   },
   {
    "duration": 2241,
    "start_time": "2022-05-16T15:11:01.478Z"
   },
   {
    "duration": 903,
    "start_time": "2022-05-16T15:11:03.722Z"
   },
   {
    "duration": 28,
    "start_time": "2022-05-16T15:11:06.707Z"
   },
   {
    "duration": 50,
    "start_time": "2022-05-16T15:11:07.036Z"
   },
   {
    "duration": 12,
    "start_time": "2022-05-16T15:11:07.790Z"
   },
   {
    "duration": 201,
    "start_time": "2022-05-16T15:11:09.222Z"
   },
   {
    "duration": 16,
    "start_time": "2022-05-16T15:11:31.882Z"
   },
   {
    "duration": 16,
    "start_time": "2022-05-16T15:11:42.967Z"
   },
   {
    "duration": 11,
    "start_time": "2022-05-16T15:11:51.665Z"
   },
   {
    "duration": 11,
    "start_time": "2022-05-16T15:11:54.713Z"
   },
   {
    "duration": 11,
    "start_time": "2022-05-16T15:11:59.411Z"
   },
   {
    "duration": 11,
    "start_time": "2022-05-16T15:12:02.164Z"
   },
   {
    "duration": 1369,
    "start_time": "2022-05-18T09:30:14.940Z"
   },
   {
    "duration": 1470,
    "start_time": "2022-05-18T09:30:17.747Z"
   },
   {
    "duration": 16,
    "start_time": "2022-05-18T09:30:19.219Z"
   },
   {
    "duration": 31,
    "start_time": "2022-05-18T09:30:19.236Z"
   },
   {
    "duration": 7,
    "start_time": "2022-05-18T09:30:19.269Z"
   },
   {
    "duration": 119,
    "start_time": "2022-05-18T09:30:19.278Z"
   },
   {
    "duration": 66,
    "start_time": "2022-05-18T09:30:19.398Z"
   },
   {
    "duration": 143,
    "start_time": "2022-05-18T09:30:19.466Z"
   },
   {
    "duration": 4,
    "start_time": "2022-05-18T09:30:22.287Z"
   },
   {
    "duration": 9,
    "start_time": "2022-05-18T09:30:22.293Z"
   },
   {
    "duration": 17,
    "start_time": "2022-05-18T09:30:22.303Z"
   },
   {
    "duration": 47,
    "start_time": "2022-05-18T09:30:22.321Z"
   },
   {
    "duration": 130,
    "start_time": "2022-05-18T09:30:22.370Z"
   },
   {
    "duration": 37,
    "start_time": "2022-05-18T09:30:22.502Z"
   },
   {
    "duration": 5,
    "start_time": "2022-05-18T09:30:22.558Z"
   },
   {
    "duration": 5,
    "start_time": "2022-05-18T09:30:24.011Z"
   },
   {
    "duration": 46,
    "start_time": "2022-05-18T09:30:24.017Z"
   },
   {
    "duration": 4,
    "start_time": "2022-05-18T09:30:24.065Z"
   },
   {
    "duration": 5,
    "start_time": "2022-05-18T09:30:26.560Z"
   },
   {
    "duration": 44,
    "start_time": "2022-05-18T09:30:26.567Z"
   },
   {
    "duration": 4,
    "start_time": "2022-05-18T09:30:26.613Z"
   },
   {
    "duration": 9,
    "start_time": "2022-05-18T09:30:26.618Z"
   },
   {
    "duration": 13,
    "start_time": "2022-05-18T09:30:26.629Z"
   },
   {
    "duration": 34,
    "start_time": "2022-05-18T09:30:26.659Z"
   },
   {
    "duration": 2,
    "start_time": "2022-05-18T09:30:26.695Z"
   },
   {
    "duration": 2,
    "start_time": "2022-05-18T09:30:29.473Z"
   },
   {
    "duration": 47,
    "start_time": "2022-05-18T09:30:29.476Z"
   },
   {
    "duration": 3,
    "start_time": "2022-05-18T09:30:29.525Z"
   },
   {
    "duration": 7,
    "start_time": "2022-05-18T09:30:29.530Z"
   },
   {
    "duration": 24,
    "start_time": "2022-05-18T09:30:29.539Z"
   },
   {
    "duration": 17,
    "start_time": "2022-05-18T09:30:29.564Z"
   },
   {
    "duration": 15,
    "start_time": "2022-05-18T09:30:29.583Z"
   },
   {
    "duration": 22,
    "start_time": "2022-05-18T09:30:29.599Z"
   },
   {
    "duration": 17,
    "start_time": "2022-05-18T09:30:30.903Z"
   },
   {
    "duration": 254,
    "start_time": "2022-05-18T09:30:30.922Z"
   },
   {
    "duration": 193,
    "start_time": "2022-05-18T09:30:31.178Z"
   },
   {
    "duration": 199,
    "start_time": "2022-05-18T09:30:31.372Z"
   },
   {
    "duration": 148,
    "start_time": "2022-05-18T09:30:31.573Z"
   },
   {
    "duration": 5,
    "start_time": "2022-05-18T09:30:31.723Z"
   },
   {
    "duration": 10,
    "start_time": "2022-05-18T09:30:31.729Z"
   },
   {
    "duration": 17,
    "start_time": "2022-05-18T09:30:31.741Z"
   },
   {
    "duration": 175,
    "start_time": "2022-05-18T09:30:31.760Z"
   },
   {
    "duration": 23,
    "start_time": "2022-05-18T09:30:31.936Z"
   },
   {
    "duration": 6,
    "start_time": "2022-05-18T09:30:31.962Z"
   },
   {
    "duration": 19,
    "start_time": "2022-05-18T09:30:31.970Z"
   },
   {
    "duration": 178,
    "start_time": "2022-05-18T09:30:31.991Z"
   },
   {
    "duration": 44,
    "start_time": "2022-05-18T09:30:32.171Z"
   },
   {
    "duration": 3,
    "start_time": "2022-05-18T09:30:32.217Z"
   },
   {
    "duration": 9,
    "start_time": "2022-05-18T09:30:32.223Z"
   },
   {
    "duration": 26,
    "start_time": "2022-05-18T09:30:32.233Z"
   },
   {
    "duration": 8,
    "start_time": "2022-05-18T09:30:32.260Z"
   },
   {
    "duration": 8,
    "start_time": "2022-05-18T09:30:32.270Z"
   },
   {
    "duration": 1383,
    "start_time": "2022-05-18T09:30:32.280Z"
   },
   {
    "duration": 1303,
    "start_time": "2022-05-18T09:30:33.664Z"
   },
   {
    "duration": 3,
    "start_time": "2022-05-18T09:30:34.969Z"
   },
   {
    "duration": 5560,
    "start_time": "2022-05-18T09:30:34.973Z"
   },
   {
    "duration": 3,
    "start_time": "2022-05-18T09:30:40.535Z"
   },
   {
    "duration": 399,
    "start_time": "2022-05-18T09:30:40.539Z"
   },
   {
    "duration": 374,
    "start_time": "2022-05-18T09:30:40.940Z"
   },
   {
    "duration": 3,
    "start_time": "2022-05-18T09:30:41.315Z"
   },
   {
    "duration": 11,
    "start_time": "2022-05-18T09:30:41.320Z"
   },
   {
    "duration": 17,
    "start_time": "2022-05-18T09:30:41.334Z"
   },
   {
    "duration": 16,
    "start_time": "2022-05-18T09:30:41.353Z"
   },
   {
    "duration": 9,
    "start_time": "2022-05-18T09:30:41.371Z"
   },
   {
    "duration": 4,
    "start_time": "2022-05-18T09:30:41.382Z"
   },
   {
    "duration": 198,
    "start_time": "2022-05-18T09:30:41.388Z"
   },
   {
    "duration": 193,
    "start_time": "2022-05-18T09:30:41.588Z"
   },
   {
    "duration": 3,
    "start_time": "2022-05-18T09:30:41.783Z"
   },
   {
    "duration": 7,
    "start_time": "2022-05-18T09:30:41.788Z"
   },
   {
    "duration": 212,
    "start_time": "2022-05-18T09:30:41.796Z"
   },
   {
    "duration": 1159,
    "start_time": "2022-05-18T11:34:41.261Z"
   },
   {
    "duration": 1031,
    "start_time": "2022-05-18T11:34:42.422Z"
   },
   {
    "duration": 19,
    "start_time": "2022-05-18T11:34:43.455Z"
   },
   {
    "duration": 36,
    "start_time": "2022-05-18T11:34:43.476Z"
   },
   {
    "duration": 9,
    "start_time": "2022-05-18T11:34:43.514Z"
   },
   {
    "duration": 241,
    "start_time": "2022-05-18T11:34:43.524Z"
   },
   {
    "duration": 59,
    "start_time": "2022-05-18T11:34:43.768Z"
   },
   {
    "duration": 167,
    "start_time": "2022-05-18T11:34:43.829Z"
   },
   {
    "duration": 4,
    "start_time": "2022-05-18T11:34:43.999Z"
   },
   {
    "duration": 16,
    "start_time": "2022-05-18T11:34:44.005Z"
   },
   {
    "duration": 6,
    "start_time": "2022-05-18T11:34:44.023Z"
   },
   {
    "duration": 67,
    "start_time": "2022-05-18T11:34:44.030Z"
   },
   {
    "duration": 126,
    "start_time": "2022-05-18T11:34:44.333Z"
   },
   {
    "duration": 44,
    "start_time": "2022-05-18T11:34:44.919Z"
   },
   {
    "duration": 5,
    "start_time": "2022-05-18T11:34:44.997Z"
   },
   {
    "duration": 6,
    "start_time": "2022-05-18T11:34:45.081Z"
   },
   {
    "duration": 41,
    "start_time": "2022-05-18T11:34:45.175Z"
   },
   {
    "duration": 5,
    "start_time": "2022-05-18T11:34:45.263Z"
   },
   {
    "duration": 6,
    "start_time": "2022-05-18T11:34:45.343Z"
   },
   {
    "duration": 39,
    "start_time": "2022-05-18T11:34:45.448Z"
   },
   {
    "duration": 4,
    "start_time": "2022-05-18T11:34:45.501Z"
   },
   {
    "duration": 6,
    "start_time": "2022-05-18T11:34:45.585Z"
   },
   {
    "duration": 10,
    "start_time": "2022-05-18T11:34:45.681Z"
   },
   {
    "duration": 43,
    "start_time": "2022-05-18T11:34:45.776Z"
   },
   {
    "duration": 2,
    "start_time": "2022-05-18T11:34:46.059Z"
   },
   {
    "duration": 2,
    "start_time": "2022-05-18T11:34:46.560Z"
   },
   {
    "duration": 46,
    "start_time": "2022-05-18T11:34:46.647Z"
   },
   {
    "duration": 6,
    "start_time": "2022-05-18T11:34:46.726Z"
   },
   {
    "duration": 6,
    "start_time": "2022-05-18T11:34:46.812Z"
   },
   {
    "duration": 13,
    "start_time": "2022-05-18T11:34:46.902Z"
   },
   {
    "duration": 8,
    "start_time": "2022-05-18T11:34:46.990Z"
   },
   {
    "duration": 14,
    "start_time": "2022-05-18T11:34:47.256Z"
   },
   {
    "duration": 18,
    "start_time": "2022-05-18T11:34:49.029Z"
   },
   {
    "duration": 16,
    "start_time": "2022-05-18T11:34:49.110Z"
   },
   {
    "duration": 213,
    "start_time": "2022-05-18T11:34:49.195Z"
   },
   {
    "duration": 205,
    "start_time": "2022-05-18T11:34:49.411Z"
   },
   {
    "duration": 204,
    "start_time": "2022-05-18T11:34:49.619Z"
   },
   {
    "duration": 158,
    "start_time": "2022-05-18T11:34:49.825Z"
   },
   {
    "duration": 5,
    "start_time": "2022-05-18T11:34:50.041Z"
   },
   {
    "duration": 7,
    "start_time": "2022-05-18T11:34:50.122Z"
   },
   {
    "duration": 6,
    "start_time": "2022-05-18T11:34:50.209Z"
   },
   {
    "duration": 198,
    "start_time": "2022-05-18T11:34:50.291Z"
   },
   {
    "duration": 13,
    "start_time": "2022-05-18T11:34:50.492Z"
   },
   {
    "duration": 7,
    "start_time": "2022-05-18T11:34:50.507Z"
   },
   {
    "duration": 8,
    "start_time": "2022-05-18T11:34:50.546Z"
   },
   {
    "duration": 184,
    "start_time": "2022-05-18T11:34:50.624Z"
   },
   {
    "duration": 56,
    "start_time": "2022-05-18T11:34:51.050Z"
   },
   {
    "duration": 6,
    "start_time": "2022-05-18T11:34:51.289Z"
   },
   {
    "duration": 4,
    "start_time": "2022-05-18T11:34:51.653Z"
   },
   {
    "duration": 7,
    "start_time": "2022-05-18T11:34:51.995Z"
   },
   {
    "duration": 5,
    "start_time": "2022-05-18T11:34:52.215Z"
   },
   {
    "duration": 4,
    "start_time": "2022-05-18T13:40:10.881Z"
   },
   {
    "duration": 47,
    "start_time": "2022-05-18T13:40:12.037Z"
   },
   {
    "duration": 1109,
    "start_time": "2022-05-18T13:45:05.159Z"
   },
   {
    "duration": 812,
    "start_time": "2022-05-18T13:45:06.270Z"
   },
   {
    "duration": 16,
    "start_time": "2022-05-18T13:45:07.084Z"
   },
   {
    "duration": 30,
    "start_time": "2022-05-18T13:45:07.102Z"
   },
   {
    "duration": 228,
    "start_time": "2022-05-18T13:45:07.133Z"
   },
   {
    "duration": 15,
    "start_time": "2022-05-18T13:45:07.363Z"
   },
   {
    "duration": 32,
    "start_time": "2022-05-18T13:45:07.380Z"
   },
   {
    "duration": 40,
    "start_time": "2022-05-18T13:45:07.414Z"
   },
   {
    "duration": 25,
    "start_time": "2022-05-18T13:45:07.455Z"
   },
   {
    "duration": 6,
    "start_time": "2022-05-18T13:45:07.483Z"
   },
   {
    "duration": 21,
    "start_time": "2022-05-18T13:45:07.490Z"
   },
   {
    "duration": 50,
    "start_time": "2022-05-18T13:45:07.513Z"
   },
   {
    "duration": 104,
    "start_time": "2022-05-18T13:45:07.564Z"
   },
   {
    "duration": 16,
    "start_time": "2022-05-18T13:45:07.670Z"
   },
   {
    "duration": 3,
    "start_time": "2022-05-18T13:45:07.988Z"
   },
   {
    "duration": 7,
    "start_time": "2022-05-18T13:45:08.579Z"
   },
   {
    "duration": 6,
    "start_time": "2022-05-18T13:45:09.444Z"
   },
   {
    "duration": 4,
    "start_time": "2022-05-18T13:45:10.248Z"
   },
   {
    "duration": 34,
    "start_time": "2022-05-18T13:45:11.033Z"
   },
   {
    "duration": 4,
    "start_time": "2022-05-18T13:45:12.344Z"
   },
   {
    "duration": 202,
    "start_time": "2022-05-18T13:45:14.732Z"
   },
   {
    "duration": 214,
    "start_time": "2022-05-18T13:45:15.285Z"
   },
   {
    "duration": 207,
    "start_time": "2022-05-18T13:45:15.865Z"
   },
   {
    "duration": 149,
    "start_time": "2022-05-18T13:45:16.756Z"
   },
   {
    "duration": 5,
    "start_time": "2022-05-18T13:45:17.960Z"
   },
   {
    "duration": 6,
    "start_time": "2022-05-18T13:45:18.360Z"
   },
   {
    "duration": 6,
    "start_time": "2022-05-18T13:45:18.750Z"
   },
   {
    "duration": 159,
    "start_time": "2022-05-18T13:45:19.181Z"
   },
   {
    "duration": 12,
    "start_time": "2022-05-18T13:45:19.688Z"
   },
   {
    "duration": 7,
    "start_time": "2022-05-18T13:45:20.315Z"
   },
   {
    "duration": 6,
    "start_time": "2022-05-18T13:45:20.564Z"
   },
   {
    "duration": 170,
    "start_time": "2022-05-18T13:45:20.791Z"
   },
   {
    "duration": 11,
    "start_time": "2022-05-18T13:45:22.936Z"
   },
   {
    "duration": 4,
    "start_time": "2022-05-18T13:45:23.332Z"
   },
   {
    "duration": 5,
    "start_time": "2022-05-18T13:45:23.660Z"
   },
   {
    "duration": 5,
    "start_time": "2022-05-18T13:45:23.928Z"
   },
   {
    "duration": 2,
    "start_time": "2022-05-18T13:45:24.237Z"
   },
   {
    "duration": 2,
    "start_time": "2022-05-18T13:45:25.338Z"
   },
   {
    "duration": 34,
    "start_time": "2022-05-18T13:45:25.684Z"
   },
   {
    "duration": 26,
    "start_time": "2022-05-18T13:45:26.421Z"
   },
   {
    "duration": 3,
    "start_time": "2022-05-18T13:45:26.896Z"
   },
   {
    "duration": 10,
    "start_time": "2022-05-18T13:48:47.869Z"
   },
   {
    "duration": 7,
    "start_time": "2022-05-18T13:49:07.929Z"
   },
   {
    "duration": 6,
    "start_time": "2022-05-18T13:49:24.006Z"
   },
   {
    "duration": 5,
    "start_time": "2022-05-18T13:49:27.207Z"
   },
   {
    "duration": 1185,
    "start_time": "2022-05-18T13:51:22.005Z"
   },
   {
    "duration": 650,
    "start_time": "2022-05-18T13:51:23.192Z"
   },
   {
    "duration": 25,
    "start_time": "2022-05-18T13:51:23.844Z"
   },
   {
    "duration": 30,
    "start_time": "2022-05-18T13:51:23.871Z"
   },
   {
    "duration": 220,
    "start_time": "2022-05-18T13:51:23.902Z"
   },
   {
    "duration": 13,
    "start_time": "2022-05-18T13:51:24.124Z"
   },
   {
    "duration": 28,
    "start_time": "2022-05-18T13:51:24.139Z"
   },
   {
    "duration": 28,
    "start_time": "2022-05-18T13:51:24.169Z"
   },
   {
    "duration": 22,
    "start_time": "2022-05-18T13:51:24.199Z"
   },
   {
    "duration": 7,
    "start_time": "2022-05-18T13:51:24.223Z"
   },
   {
    "duration": 40,
    "start_time": "2022-05-18T13:51:24.232Z"
   },
   {
    "duration": 31,
    "start_time": "2022-05-18T13:51:24.274Z"
   },
   {
    "duration": 118,
    "start_time": "2022-05-18T13:51:24.307Z"
   },
   {
    "duration": 13,
    "start_time": "2022-05-18T13:51:24.427Z"
   },
   {
    "duration": 18,
    "start_time": "2022-05-18T13:51:24.442Z"
   },
   {
    "duration": 22,
    "start_time": "2022-05-18T13:51:24.462Z"
   },
   {
    "duration": 7,
    "start_time": "2022-05-18T13:51:24.519Z"
   },
   {
    "duration": 3,
    "start_time": "2022-05-18T13:51:24.768Z"
   },
   {
    "duration": 39,
    "start_time": "2022-05-18T13:51:24.938Z"
   },
   {
    "duration": 4,
    "start_time": "2022-05-18T13:51:25.268Z"
   },
   {
    "duration": 198,
    "start_time": "2022-05-18T13:51:26.697Z"
   },
   {
    "duration": 229,
    "start_time": "2022-05-18T13:51:27.168Z"
   },
   {
    "duration": 229,
    "start_time": "2022-05-18T13:51:27.635Z"
   },
   {
    "duration": 145,
    "start_time": "2022-05-18T13:51:28.315Z"
   },
   {
    "duration": 5,
    "start_time": "2022-05-18T13:51:29.028Z"
   },
   {
    "duration": 4,
    "start_time": "2022-05-18T13:51:29.238Z"
   },
   {
    "duration": 5,
    "start_time": "2022-05-18T13:51:29.483Z"
   },
   {
    "duration": 164,
    "start_time": "2022-05-18T13:51:29.732Z"
   },
   {
    "duration": 13,
    "start_time": "2022-05-18T13:51:29.974Z"
   },
   {
    "duration": 6,
    "start_time": "2022-05-18T13:51:30.215Z"
   },
   {
    "duration": 7,
    "start_time": "2022-05-18T13:51:30.487Z"
   },
   {
    "duration": 200,
    "start_time": "2022-05-18T13:51:30.727Z"
   },
   {
    "duration": 14,
    "start_time": "2022-05-18T13:51:32.020Z"
   },
   {
    "duration": 4,
    "start_time": "2022-05-18T13:51:32.262Z"
   },
   {
    "duration": 3,
    "start_time": "2022-05-18T13:51:32.474Z"
   },
   {
    "duration": 5,
    "start_time": "2022-05-18T13:51:32.709Z"
   },
   {
    "duration": 3,
    "start_time": "2022-05-18T13:51:32.990Z"
   },
   {
    "duration": 2,
    "start_time": "2022-05-18T13:51:34.011Z"
   },
   {
    "duration": 1438,
    "start_time": "2022-05-18T13:51:34.422Z"
   },
   {
    "duration": 1501,
    "start_time": "2022-05-18T13:51:35.862Z"
   },
   {
    "duration": 4,
    "start_time": "2022-05-18T13:51:37.365Z"
   },
   {
    "duration": 53982,
    "start_time": "2022-05-18T13:51:55.361Z"
   },
   {
    "duration": 35868,
    "start_time": "2022-05-18T13:53:07.891Z"
   },
   {
    "duration": 68609,
    "start_time": "2022-05-18T13:54:03.981Z"
   },
   {
    "duration": 264981,
    "start_time": "2022-05-18T13:57:00.471Z"
   },
   {
    "duration": 3152,
    "start_time": "2022-05-18T14:04:16.506Z"
   },
   {
    "duration": 11049,
    "start_time": "2022-05-18T14:04:27.720Z"
   },
   {
    "duration": 56247,
    "start_time": "2022-05-18T14:04:46.836Z"
   },
   {
    "duration": 55842,
    "start_time": "2022-05-18T14:07:15.735Z"
   },
   {
    "duration": 481810,
    "start_time": "2022-05-18T14:08:29.925Z"
   },
   {
    "duration": 8858,
    "start_time": "2022-05-18T14:26:04.207Z"
   },
   {
    "duration": 8858,
    "start_time": "2022-05-18T14:26:13.068Z"
   },
   {
    "duration": 3,
    "start_time": "2022-05-18T14:26:21.928Z"
   },
   {
    "duration": 3,
    "start_time": "2022-05-18T14:26:28.485Z"
   },
   {
    "duration": 686,
    "start_time": "2022-05-18T14:26:29.579Z"
   },
   {
    "duration": 677,
    "start_time": "2022-05-18T14:26:30.267Z"
   },
   {
    "duration": 3,
    "start_time": "2022-05-18T14:26:30.946Z"
   },
   {
    "duration": 8,
    "start_time": "2022-05-18T14:27:19.832Z"
   },
   {
    "duration": 797,
    "start_time": "2022-05-18T14:27:20.258Z"
   },
   {
    "duration": 5,
    "start_time": "2022-05-18T14:27:52.006Z"
   },
   {
    "duration": 17,
    "start_time": "2022-05-18T14:27:52.480Z"
   },
   {
    "duration": 20,
    "start_time": "2022-05-18T14:27:52.828Z"
   },
   {
    "duration": 375,
    "start_time": "2022-05-18T14:27:53.345Z"
   },
   {
    "duration": 5,
    "start_time": "2022-05-18T14:28:07.985Z"
   },
   {
    "duration": 22,
    "start_time": "2022-05-18T14:28:11.746Z"
   },
   {
    "duration": 1233,
    "start_time": "2022-05-18T14:28:34.669Z"
   },
   {
    "duration": 663,
    "start_time": "2022-05-18T14:28:35.904Z"
   },
   {
    "duration": 19,
    "start_time": "2022-05-18T14:28:36.569Z"
   },
   {
    "duration": 31,
    "start_time": "2022-05-18T14:28:36.589Z"
   },
   {
    "duration": 205,
    "start_time": "2022-05-18T14:28:36.621Z"
   },
   {
    "duration": 12,
    "start_time": "2022-05-18T14:28:36.827Z"
   },
   {
    "duration": 35,
    "start_time": "2022-05-18T14:28:36.840Z"
   },
   {
    "duration": 26,
    "start_time": "2022-05-18T14:28:36.877Z"
   },
   {
    "duration": 21,
    "start_time": "2022-05-18T14:28:36.905Z"
   },
   {
    "duration": 6,
    "start_time": "2022-05-18T14:28:36.928Z"
   },
   {
    "duration": 34,
    "start_time": "2022-05-18T14:28:36.959Z"
   },
   {
    "duration": 29,
    "start_time": "2022-05-18T14:28:36.995Z"
   },
   {
    "duration": 110,
    "start_time": "2022-05-18T14:28:37.025Z"
   },
   {
    "duration": 25,
    "start_time": "2022-05-18T14:28:37.136Z"
   },
   {
    "duration": 10,
    "start_time": "2022-05-18T14:28:37.163Z"
   },
   {
    "duration": 10,
    "start_time": "2022-05-18T14:28:37.175Z"
   },
   {
    "duration": 6,
    "start_time": "2022-05-18T14:28:37.187Z"
   },
   {
    "duration": 4,
    "start_time": "2022-05-18T14:28:37.409Z"
   },
   {
    "duration": 47,
    "start_time": "2022-05-18T14:28:37.583Z"
   },
   {
    "duration": 5,
    "start_time": "2022-05-18T14:28:37.912Z"
   },
   {
    "duration": 195,
    "start_time": "2022-05-18T14:28:38.504Z"
   },
   {
    "duration": 205,
    "start_time": "2022-05-18T14:28:38.701Z"
   },
   {
    "duration": 209,
    "start_time": "2022-05-18T14:28:38.908Z"
   },
   {
    "duration": 159,
    "start_time": "2022-05-18T14:28:39.119Z"
   },
   {
    "duration": 5,
    "start_time": "2022-05-18T14:28:39.347Z"
   },
   {
    "duration": 4,
    "start_time": "2022-05-18T14:28:39.428Z"
   },
   {
    "duration": 5,
    "start_time": "2022-05-18T14:28:39.508Z"
   },
   {
    "duration": 162,
    "start_time": "2022-05-18T14:28:39.592Z"
   },
   {
    "duration": 15,
    "start_time": "2022-05-18T14:28:39.758Z"
   },
   {
    "duration": 29,
    "start_time": "2022-05-18T14:28:39.776Z"
   },
   {
    "duration": 6,
    "start_time": "2022-05-18T14:28:39.851Z"
   },
   {
    "duration": 171,
    "start_time": "2022-05-18T14:28:39.928Z"
   },
   {
    "duration": 13,
    "start_time": "2022-05-18T14:28:40.342Z"
   },
   {
    "duration": 3,
    "start_time": "2022-05-18T14:28:40.429Z"
   },
   {
    "duration": 2,
    "start_time": "2022-05-18T14:28:40.512Z"
   },
   {
    "duration": 6,
    "start_time": "2022-05-18T14:28:40.593Z"
   },
   {
    "duration": 3,
    "start_time": "2022-05-18T14:28:40.682Z"
   },
   {
    "duration": 3,
    "start_time": "2022-05-18T14:28:40.929Z"
   },
   {
    "duration": 1853,
    "start_time": "2022-05-18T14:28:41.017Z"
   },
   {
    "duration": 2294,
    "start_time": "2022-05-18T14:28:42.876Z"
   },
   {
    "duration": 5,
    "start_time": "2022-05-18T14:28:45.172Z"
   },
   {
    "duration": 14,
    "start_time": "2022-05-18T14:28:45.179Z"
   },
   {
    "duration": 688,
    "start_time": "2022-05-18T14:28:45.195Z"
   },
   {
    "duration": 679,
    "start_time": "2022-05-18T14:28:45.945Z"
   },
   {
    "duration": 4,
    "start_time": "2022-05-18T14:28:46.626Z"
   },
   {
    "duration": 3,
    "start_time": "2022-05-18T14:28:47.188Z"
   },
   {
    "duration": 5,
    "start_time": "2022-05-18T14:28:47.453Z"
   },
   {
    "duration": 15,
    "start_time": "2022-05-18T14:28:47.754Z"
   },
   {
    "duration": 8,
    "start_time": "2022-05-18T14:28:48.114Z"
   },
   {
    "duration": 5,
    "start_time": "2022-05-18T14:28:48.449Z"
   },
   {
    "duration": 351,
    "start_time": "2022-05-18T14:28:48.827Z"
   },
   {
    "duration": 337,
    "start_time": "2022-05-18T14:28:49.180Z"
   },
   {
    "duration": 3,
    "start_time": "2022-05-18T14:28:49.950Z"
   },
   {
    "duration": 1403,
    "start_time": "2022-05-18T19:03:42.381Z"
   },
   {
    "duration": 3430,
    "start_time": "2022-05-18T19:03:44.408Z"
   },
   {
    "duration": 17,
    "start_time": "2022-05-18T19:03:47.841Z"
   },
   {
    "duration": 42,
    "start_time": "2022-05-18T19:03:47.860Z"
   },
   {
    "duration": 12,
    "start_time": "2022-05-18T19:03:47.904Z"
   },
   {
    "duration": 153,
    "start_time": "2022-05-18T19:03:47.917Z"
   },
   {
    "duration": 15,
    "start_time": "2022-05-18T19:03:48.465Z"
   },
   {
    "duration": 18,
    "start_time": "2022-05-18T19:03:49.669Z"
   },
   {
    "duration": 40,
    "start_time": "2022-05-18T19:03:50.163Z"
   },
   {
    "duration": 12,
    "start_time": "2022-05-18T19:03:50.813Z"
   },
   {
    "duration": 35,
    "start_time": "2022-05-18T19:03:51.229Z"
   },
   {
    "duration": 8,
    "start_time": "2022-05-18T19:03:51.670Z"
   },
   {
    "duration": 24,
    "start_time": "2022-05-18T19:03:52.449Z"
   },
   {
    "duration": 45,
    "start_time": "2022-05-18T19:03:52.784Z"
   },
   {
    "duration": 22,
    "start_time": "2022-05-18T19:03:53.131Z"
   },
   {
    "duration": 146,
    "start_time": "2022-05-18T19:03:53.485Z"
   },
   {
    "duration": 20,
    "start_time": "2022-05-18T19:03:53.812Z"
   },
   {
    "duration": 4,
    "start_time": "2022-05-18T19:03:55.369Z"
   },
   {
    "duration": 4,
    "start_time": "2022-05-18T19:03:56.317Z"
   },
   {
    "duration": 8,
    "start_time": "2022-05-18T19:03:57.364Z"
   },
   {
    "duration": 215,
    "start_time": "2022-05-18T19:03:57.948Z"
   },
   {
    "duration": 6,
    "start_time": "2022-05-18T19:05:11.787Z"
   },
   {
    "duration": 6,
    "start_time": "2022-05-18T19:05:25.616Z"
   },
   {
    "duration": 1197,
    "start_time": "2022-05-18T19:07:41.693Z"
   },
   {
    "duration": 667,
    "start_time": "2022-05-18T19:07:42.892Z"
   },
   {
    "duration": 16,
    "start_time": "2022-05-18T19:07:43.561Z"
   },
   {
    "duration": 39,
    "start_time": "2022-05-18T19:07:43.580Z"
   },
   {
    "duration": 36,
    "start_time": "2022-05-18T19:07:43.620Z"
   },
   {
    "duration": 202,
    "start_time": "2022-05-18T19:07:43.658Z"
   },
   {
    "duration": 13,
    "start_time": "2022-05-18T19:07:43.861Z"
   },
   {
    "duration": 13,
    "start_time": "2022-05-18T19:07:43.875Z"
   },
   {
    "duration": 27,
    "start_time": "2022-05-18T19:07:43.889Z"
   },
   {
    "duration": 14,
    "start_time": "2022-05-18T19:07:43.943Z"
   },
   {
    "duration": 27,
    "start_time": "2022-05-18T19:07:43.958Z"
   },
   {
    "duration": 7,
    "start_time": "2022-05-18T19:07:43.986Z"
   },
   {
    "duration": 16,
    "start_time": "2022-05-18T19:07:43.995Z"
   },
   {
    "duration": 55,
    "start_time": "2022-05-18T19:07:44.013Z"
   },
   {
    "duration": 15,
    "start_time": "2022-05-18T19:07:44.070Z"
   },
   {
    "duration": 133,
    "start_time": "2022-05-18T19:07:44.087Z"
   },
   {
    "duration": 11,
    "start_time": "2022-05-18T19:07:44.222Z"
   },
   {
    "duration": 3,
    "start_time": "2022-05-18T19:07:44.723Z"
   },
   {
    "duration": 10,
    "start_time": "2022-05-18T19:07:45.446Z"
   },
   {
    "duration": 6,
    "start_time": "2022-05-18T19:07:47.715Z"
   },
   {
    "duration": 1194,
    "start_time": "2022-05-18T19:16:00.968Z"
   },
   {
    "duration": 705,
    "start_time": "2022-05-18T19:16:02.164Z"
   },
   {
    "duration": 17,
    "start_time": "2022-05-18T19:16:02.873Z"
   },
   {
    "duration": 31,
    "start_time": "2022-05-18T19:16:02.893Z"
   },
   {
    "duration": 87,
    "start_time": "2022-05-18T19:16:02.925Z"
   },
   {
    "duration": 143,
    "start_time": "2022-05-18T19:16:03.014Z"
   },
   {
    "duration": 17,
    "start_time": "2022-05-18T19:16:03.171Z"
   },
   {
    "duration": 16,
    "start_time": "2022-05-18T19:16:03.189Z"
   },
   {
    "duration": 35,
    "start_time": "2022-05-18T19:16:03.207Z"
   },
   {
    "duration": 9,
    "start_time": "2022-05-18T19:16:03.245Z"
   },
   {
    "duration": 53,
    "start_time": "2022-05-18T19:16:03.256Z"
   },
   {
    "duration": 7,
    "start_time": "2022-05-18T19:16:03.311Z"
   },
   {
    "duration": 20,
    "start_time": "2022-05-18T19:16:03.319Z"
   },
   {
    "duration": 40,
    "start_time": "2022-05-18T19:16:03.341Z"
   },
   {
    "duration": 15,
    "start_time": "2022-05-18T19:16:03.382Z"
   },
   {
    "duration": 115,
    "start_time": "2022-05-18T19:16:03.398Z"
   },
   {
    "duration": 11,
    "start_time": "2022-05-18T19:16:03.515Z"
   },
   {
    "duration": 15,
    "start_time": "2022-05-18T19:16:03.529Z"
   },
   {
    "duration": 36,
    "start_time": "2022-05-18T19:16:03.549Z"
   },
   {
    "duration": 5,
    "start_time": "2022-05-18T19:16:03.622Z"
   },
   {
    "duration": 3,
    "start_time": "2022-05-18T19:16:03.876Z"
   },
   {
    "duration": 40,
    "start_time": "2022-05-18T19:16:04.061Z"
   },
   {
    "duration": 4,
    "start_time": "2022-05-18T19:16:04.378Z"
   },
   {
    "duration": 233,
    "start_time": "2022-05-18T19:16:04.969Z"
   },
   {
    "duration": 234,
    "start_time": "2022-05-18T19:16:05.204Z"
   },
   {
    "duration": 266,
    "start_time": "2022-05-18T19:16:05.448Z"
   },
   {
    "duration": 167,
    "start_time": "2022-05-18T19:16:05.716Z"
   },
   {
    "duration": 6,
    "start_time": "2022-05-18T19:16:05.885Z"
   },
   {
    "duration": 12,
    "start_time": "2022-05-18T19:16:05.892Z"
   },
   {
    "duration": 6,
    "start_time": "2022-05-18T19:16:05.972Z"
   },
   {
    "duration": 188,
    "start_time": "2022-05-18T19:16:06.068Z"
   },
   {
    "duration": 16,
    "start_time": "2022-05-18T19:16:06.258Z"
   },
   {
    "duration": 10,
    "start_time": "2022-05-18T19:16:06.278Z"
   },
   {
    "duration": 5,
    "start_time": "2022-05-18T19:16:06.297Z"
   },
   {
    "duration": 179,
    "start_time": "2022-05-18T19:16:06.380Z"
   },
   {
    "duration": 15,
    "start_time": "2022-05-18T19:16:06.801Z"
   },
   {
    "duration": 5,
    "start_time": "2022-05-18T19:16:06.891Z"
   },
   {
    "duration": 3,
    "start_time": "2022-05-18T19:16:06.966Z"
   },
   {
    "duration": 7,
    "start_time": "2022-05-18T19:16:07.053Z"
   },
   {
    "duration": 8,
    "start_time": "2022-05-18T19:16:07.136Z"
   },
   {
    "duration": 3,
    "start_time": "2022-05-18T19:16:08.200Z"
   },
   {
    "duration": 3877,
    "start_time": "2022-05-18T19:16:08.281Z"
   },
   {
    "duration": 2500,
    "start_time": "2022-05-18T19:16:12.161Z"
   },
   {
    "duration": 9,
    "start_time": "2022-05-18T19:16:14.664Z"
   },
   {
    "duration": 34013,
    "start_time": "2022-05-18T19:16:14.675Z"
   },
   {
    "duration": 3,
    "start_time": "2022-05-18T19:16:48.690Z"
   },
   {
    "duration": 744,
    "start_time": "2022-05-18T19:16:48.694Z"
   },
   {
    "duration": 760,
    "start_time": "2022-05-18T19:16:49.440Z"
   },
   {
    "duration": 3,
    "start_time": "2022-05-18T19:16:50.201Z"
   },
   {
    "duration": 8,
    "start_time": "2022-05-18T19:16:50.206Z"
   },
   {
    "duration": 6,
    "start_time": "2022-05-18T19:16:50.217Z"
   },
   {
    "duration": 29,
    "start_time": "2022-05-18T19:16:50.225Z"
   },
   {
    "duration": 18,
    "start_time": "2022-05-18T19:16:50.255Z"
   },
   {
    "duration": 10,
    "start_time": "2022-05-18T19:16:50.278Z"
   },
   {
    "duration": 366,
    "start_time": "2022-05-18T19:16:50.289Z"
   },
   {
    "duration": 368,
    "start_time": "2022-05-18T19:16:50.662Z"
   },
   {
    "duration": 3,
    "start_time": "2022-05-18T19:16:51.032Z"
   },
   {
    "duration": 43,
    "start_time": "2022-05-18T19:16:51.041Z"
   },
   {
    "duration": 247,
    "start_time": "2022-05-18T19:16:51.086Z"
   },
   {
    "duration": 1344,
    "start_time": "2022-05-18T19:46:14.707Z"
   },
   {
    "duration": 810,
    "start_time": "2022-05-18T19:46:16.053Z"
   },
   {
    "duration": 21,
    "start_time": "2022-05-18T19:46:16.865Z"
   },
   {
    "duration": 40,
    "start_time": "2022-05-18T19:46:16.889Z"
   },
   {
    "duration": 120,
    "start_time": "2022-05-18T19:46:16.931Z"
   },
   {
    "duration": 212,
    "start_time": "2022-05-18T19:46:17.062Z"
   },
   {
    "duration": 17,
    "start_time": "2022-05-18T19:46:17.283Z"
   },
   {
    "duration": 17,
    "start_time": "2022-05-18T19:46:17.302Z"
   },
   {
    "duration": 40,
    "start_time": "2022-05-18T19:46:17.320Z"
   },
   {
    "duration": 11,
    "start_time": "2022-05-18T19:46:17.363Z"
   },
   {
    "duration": 52,
    "start_time": "2022-05-18T19:46:17.375Z"
   },
   {
    "duration": 9,
    "start_time": "2022-05-18T19:46:17.429Z"
   },
   {
    "duration": 61,
    "start_time": "2022-05-18T19:46:17.447Z"
   },
   {
    "duration": 28,
    "start_time": "2022-05-18T19:46:17.510Z"
   },
   {
    "duration": 33,
    "start_time": "2022-05-18T19:46:17.540Z"
   },
   {
    "duration": 123,
    "start_time": "2022-05-18T19:46:17.582Z"
   },
   {
    "duration": 17,
    "start_time": "2022-05-18T19:46:17.707Z"
   },
   {
    "duration": 4,
    "start_time": "2022-05-18T19:46:17.726Z"
   },
   {
    "duration": 14,
    "start_time": "2022-05-18T19:46:17.731Z"
   },
   {
    "duration": 48,
    "start_time": "2022-05-18T19:46:17.746Z"
   },
   {
    "duration": 3,
    "start_time": "2022-05-18T19:46:17.796Z"
   },
   {
    "duration": 47,
    "start_time": "2022-05-18T19:46:17.802Z"
   },
   {
    "duration": 253,
    "start_time": "2022-05-18T19:46:18.140Z"
   },
   {
    "duration": 216,
    "start_time": "2022-05-18T19:46:18.395Z"
   },
   {
    "duration": 231,
    "start_time": "2022-05-18T19:46:18.613Z"
   },
   {
    "duration": 159,
    "start_time": "2022-05-18T19:46:18.854Z"
   },
   {
    "duration": 4,
    "start_time": "2022-05-18T19:46:19.015Z"
   },
   {
    "duration": 8,
    "start_time": "2022-05-18T19:46:19.021Z"
   },
   {
    "duration": 15,
    "start_time": "2022-05-18T19:46:19.030Z"
   },
   {
    "duration": 217,
    "start_time": "2022-05-18T19:46:19.068Z"
   },
   {
    "duration": 13,
    "start_time": "2022-05-18T19:46:19.294Z"
   },
   {
    "duration": 6,
    "start_time": "2022-05-18T19:46:19.309Z"
   },
   {
    "duration": 7,
    "start_time": "2022-05-18T19:46:19.316Z"
   },
   {
    "duration": 186,
    "start_time": "2022-05-18T19:46:19.392Z"
   },
   {
    "duration": 10,
    "start_time": "2022-05-18T19:46:19.869Z"
   },
   {
    "duration": 21,
    "start_time": "2022-05-18T19:46:19.894Z"
   },
   {
    "duration": 6,
    "start_time": "2022-05-18T19:46:19.979Z"
   },
   {
    "duration": 4,
    "start_time": "2022-05-18T19:46:20.067Z"
   },
   {
    "duration": 3,
    "start_time": "2022-05-18T19:46:20.163Z"
   },
   {
    "duration": 6,
    "start_time": "2022-05-18T19:46:20.227Z"
   },
   {
    "duration": 3,
    "start_time": "2022-05-18T19:46:20.394Z"
   },
   {
    "duration": 3884,
    "start_time": "2022-05-18T19:46:20.483Z"
   },
   {
    "duration": 4271,
    "start_time": "2022-05-18T19:46:24.371Z"
   },
   {
    "duration": 8,
    "start_time": "2022-05-18T19:46:28.651Z"
   },
   {
    "duration": 32881,
    "start_time": "2022-05-18T19:46:28.685Z"
   },
   {
    "duration": 6,
    "start_time": "2022-05-18T19:47:01.570Z"
   },
   {
    "duration": 786,
    "start_time": "2022-05-18T19:47:01.581Z"
   },
   {
    "duration": 740,
    "start_time": "2022-05-18T19:47:02.372Z"
   },
   {
    "duration": 4,
    "start_time": "2022-05-18T19:47:03.113Z"
   },
   {
    "duration": 30,
    "start_time": "2022-05-18T19:47:03.119Z"
   },
   {
    "duration": 50,
    "start_time": "2022-05-18T19:47:03.158Z"
   },
   {
    "duration": 13,
    "start_time": "2022-05-18T19:47:03.210Z"
   },
   {
    "duration": 18,
    "start_time": "2022-05-18T19:47:03.225Z"
   },
   {
    "duration": 415,
    "start_time": "2022-05-18T19:47:03.245Z"
   },
   {
    "duration": 363,
    "start_time": "2022-05-18T19:47:03.664Z"
   },
   {
    "duration": 3,
    "start_time": "2022-05-18T19:47:04.028Z"
   },
   {
    "duration": 11,
    "start_time": "2022-05-18T19:47:04.043Z"
   },
   {
    "duration": 309,
    "start_time": "2022-05-18T19:47:04.057Z"
   },
   {
    "duration": 4,
    "start_time": "2022-05-18T19:47:04.373Z"
   },
   {
    "duration": 1257,
    "start_time": "2022-05-18T19:53:28.888Z"
   },
   {
    "duration": 784,
    "start_time": "2022-05-18T19:53:30.147Z"
   },
   {
    "duration": 25,
    "start_time": "2022-05-18T19:53:30.932Z"
   },
   {
    "duration": 45,
    "start_time": "2022-05-18T19:53:30.964Z"
   },
   {
    "duration": 13,
    "start_time": "2022-05-18T19:53:31.010Z"
   },
   {
    "duration": 228,
    "start_time": "2022-05-18T19:53:31.024Z"
   },
   {
    "duration": 15,
    "start_time": "2022-05-18T19:53:31.253Z"
   },
   {
    "duration": 39,
    "start_time": "2022-05-18T19:53:31.270Z"
   },
   {
    "duration": 28,
    "start_time": "2022-05-18T19:53:31.311Z"
   },
   {
    "duration": 19,
    "start_time": "2022-05-18T19:53:31.342Z"
   },
   {
    "duration": 51,
    "start_time": "2022-05-18T19:53:31.365Z"
   },
   {
    "duration": 7,
    "start_time": "2022-05-18T19:53:31.417Z"
   },
   {
    "duration": 24,
    "start_time": "2022-05-18T19:53:31.426Z"
   },
   {
    "duration": 41,
    "start_time": "2022-05-18T19:53:31.456Z"
   },
   {
    "duration": 17,
    "start_time": "2022-05-18T19:53:31.499Z"
   },
   {
    "duration": 114,
    "start_time": "2022-05-18T19:53:31.518Z"
   },
   {
    "duration": 22,
    "start_time": "2022-05-18T19:53:31.634Z"
   },
   {
    "duration": 34,
    "start_time": "2022-05-18T19:53:31.658Z"
   },
   {
    "duration": 7,
    "start_time": "2022-05-18T19:53:31.694Z"
   },
   {
    "duration": 7,
    "start_time": "2022-05-18T19:53:31.807Z"
   },
   {
    "duration": 7,
    "start_time": "2022-05-18T19:53:32.066Z"
   },
   {
    "duration": 54,
    "start_time": "2022-05-18T19:53:32.226Z"
   },
   {
    "duration": 222,
    "start_time": "2022-05-18T19:53:32.669Z"
   },
   {
    "duration": 210,
    "start_time": "2022-05-18T19:53:32.893Z"
   },
   {
    "duration": 222,
    "start_time": "2022-05-18T19:53:33.105Z"
   },
   {
    "duration": 194,
    "start_time": "2022-05-18T19:53:33.330Z"
   },
   {
    "duration": 30,
    "start_time": "2022-05-18T19:53:33.526Z"
   },
   {
    "duration": 44,
    "start_time": "2022-05-18T19:53:33.559Z"
   },
   {
    "duration": 7,
    "start_time": "2022-05-18T19:53:33.605Z"
   },
   {
    "duration": 199,
    "start_time": "2022-05-18T19:53:33.614Z"
   },
   {
    "duration": 13,
    "start_time": "2022-05-18T19:53:33.815Z"
   },
   {
    "duration": 22,
    "start_time": "2022-05-18T19:53:33.829Z"
   },
   {
    "duration": 16,
    "start_time": "2022-05-18T19:53:33.862Z"
   },
   {
    "duration": 193,
    "start_time": "2022-05-18T19:53:33.899Z"
   },
   {
    "duration": 7,
    "start_time": "2022-05-18T19:53:34.243Z"
   },
   {
    "duration": 16,
    "start_time": "2022-05-18T19:53:34.320Z"
   },
   {
    "duration": 4,
    "start_time": "2022-05-18T19:53:34.487Z"
   },
   {
    "duration": 4,
    "start_time": "2022-05-18T19:53:34.582Z"
   },
   {
    "duration": 12,
    "start_time": "2022-05-18T19:53:34.662Z"
   },
   {
    "duration": 8,
    "start_time": "2022-05-18T19:53:34.740Z"
   },
   {
    "duration": 3,
    "start_time": "2022-05-18T19:53:34.906Z"
   },
   {
    "duration": 4562,
    "start_time": "2022-05-18T19:53:34.991Z"
   },
   {
    "duration": 3124,
    "start_time": "2022-05-18T19:53:39.555Z"
   },
   {
    "duration": 9,
    "start_time": "2022-05-18T19:53:42.741Z"
   },
   {
    "duration": 33448,
    "start_time": "2022-05-18T19:53:42.758Z"
   },
   {
    "duration": 3,
    "start_time": "2022-05-18T19:54:16.208Z"
   },
   {
    "duration": 806,
    "start_time": "2022-05-18T19:54:16.213Z"
   },
   {
    "duration": 779,
    "start_time": "2022-05-18T19:54:17.021Z"
   },
   {
    "duration": 3,
    "start_time": "2022-05-18T19:54:17.802Z"
   },
   {
    "duration": 9,
    "start_time": "2022-05-18T19:54:17.806Z"
   },
   {
    "duration": 13,
    "start_time": "2022-05-18T19:54:17.817Z"
   },
   {
    "duration": 21,
    "start_time": "2022-05-18T19:54:17.832Z"
   },
   {
    "duration": 27,
    "start_time": "2022-05-18T19:54:17.860Z"
   },
   {
    "duration": 382,
    "start_time": "2022-05-18T19:54:17.890Z"
   },
   {
    "duration": 366,
    "start_time": "2022-05-18T19:54:18.284Z"
   },
   {
    "duration": 4,
    "start_time": "2022-05-18T19:54:18.651Z"
   },
   {
    "duration": 35,
    "start_time": "2022-05-18T19:54:18.661Z"
   },
   {
    "duration": 239,
    "start_time": "2022-05-18T19:54:18.697Z"
   }
  ],
  "kernelspec": {
   "display_name": "Python 3 (ipykernel)",
   "language": "python",
   "name": "python3"
  },
  "language_info": {
   "codemirror_mode": {
    "name": "ipython",
    "version": 3
   },
   "file_extension": ".py",
   "mimetype": "text/x-python",
   "name": "python",
   "nbconvert_exporter": "python",
   "pygments_lexer": "ipython3",
   "version": "3.7.0"
  },
  "toc": {
   "base_numbering": 1,
   "nav_menu": {},
   "number_sections": true,
   "sideBar": true,
   "skip_h1_title": true,
   "title_cell": "Содержание",
   "title_sidebar": "Contents",
   "toc_cell": true,
   "toc_position": {},
   "toc_section_display": true,
   "toc_window_display": true
  }
 },
 "nbformat": 4,
 "nbformat_minor": 2
}
