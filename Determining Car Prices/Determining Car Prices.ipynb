{
 "cells": [
  {
   "cell_type": "markdown",
   "metadata": {
    "toc": true
   },
   "source": [
    "<h1>Содержание<span class=\"tocSkip\"></span></h1>\n",
    "<div class=\"toc\"><ul class=\"toc-item\"><li><span><a href=\"#Загрузка-и-просмотр-данных\" data-toc-modified-id=\"Загрузка-и-просмотр-данных-1\"><span class=\"toc-item-num\">1&nbsp;&nbsp;</span>Загрузка и просмотр данных</a></span></li><li><span><a href=\"#Предобработка-данных\" data-toc-modified-id=\"Предобработка-данных-2\"><span class=\"toc-item-num\">2&nbsp;&nbsp;</span>Предобработка данных</a></span><ul class=\"toc-item\"><li><ul class=\"toc-item\"><li><span><a href=\"#Работа-с-пропусками-и-дубликатами:\" data-toc-modified-id=\"Работа-с-пропусками-и-дубликатами:-2.0.1\"><span class=\"toc-item-num\">2.0.1&nbsp;&nbsp;</span>Работа с пропусками и дубликатами:</a></span></li><li><span><a href=\"#Обработка-выбросов-и-скрытых-пропусков:\" data-toc-modified-id=\"Обработка-выбросов-и-скрытых-пропусков:-2.0.2\"><span class=\"toc-item-num\">2.0.2&nbsp;&nbsp;</span>Обработка выбросов и скрытых пропусков:</a></span></li></ul></li></ul></li><li><span><a href=\"#Исследовательский-анализ-данных\" data-toc-modified-id=\"Исследовательский-анализ-данных-3\"><span class=\"toc-item-num\">3&nbsp;&nbsp;</span>Исследовательский анализ данных</a></span></li><li><span><a href=\"#Построение-моделей-на-основе-машинного-обучения\" data-toc-modified-id=\"Построение-моделей-на-основе-машинного-обучения-4\"><span class=\"toc-item-num\">4&nbsp;&nbsp;</span>Построение моделей на основе машинного обучения</a></span><ul class=\"toc-item\"><li><span><a href=\"#Кодирование-и-масштабирование-признаков\" data-toc-modified-id=\"Кодирование-и-масштабирование-признаков-4.1\"><span class=\"toc-item-num\">4.1&nbsp;&nbsp;</span>Кодирование и масштабирование признаков</a></span></li><li><span><a href=\"#Обучение-моделей\" data-toc-modified-id=\"Обучение-моделей-4.2\"><span class=\"toc-item-num\">4.2&nbsp;&nbsp;</span>Обучение моделей</a></span><ul class=\"toc-item\"><li><span><a href=\"#LinearRegression\" data-toc-modified-id=\"LinearRegression-4.2.1\"><span class=\"toc-item-num\">4.2.1&nbsp;&nbsp;</span>LinearRegression</a></span></li><li><span><a href=\"#RandomForestRegressor\" data-toc-modified-id=\"RandomForestRegressor-4.2.2\"><span class=\"toc-item-num\">4.2.2&nbsp;&nbsp;</span>RandomForestRegressor</a></span></li><li><span><a href=\"#LGBMRegressor\" data-toc-modified-id=\"LGBMRegressor-4.2.3\"><span class=\"toc-item-num\">4.2.3&nbsp;&nbsp;</span>LGBMRegressor</a></span></li><li><span><a href=\"#CatBoostRegressor-с-закодированными-категориальными-призаками\" data-toc-modified-id=\"CatBoostRegressor-с-закодированными-категориальными-призаками-4.2.4\"><span class=\"toc-item-num\">4.2.4&nbsp;&nbsp;</span>CatBoostRegressor с закодированными категориальными призаками</a></span></li><li><span><a href=\"#CatBoostRegressor-без-кодировки-категориальных-признаков\" data-toc-modified-id=\"CatBoostRegressor-без-кодировки-категориальных-признаков-4.2.5\"><span class=\"toc-item-num\">4.2.5&nbsp;&nbsp;</span>CatBoostRegressor без кодировки категориальных признаков</a></span></li></ul></li></ul></li><li><span><a href=\"#Анализ-моделей\" data-toc-modified-id=\"Анализ-моделей-5\"><span class=\"toc-item-num\">5&nbsp;&nbsp;</span>Анализ моделей</a></span></li><li><span><a href=\"#Вывод\" data-toc-modified-id=\"Вывод-6\"><span class=\"toc-item-num\">6&nbsp;&nbsp;</span>Вывод</a></span></li></ul></div>"
   ]
  },
  {
   "cell_type": "markdown",
   "metadata": {},
   "source": [
    "# Определение стоимости автомобилей"
   ]
  },
  {
   "cell_type": "markdown",
   "metadata": {},
   "source": [
    "В вашем распоряжении исторические данные сервиса по продаже автомобилей: технические характеристики, комплектации и цены автомобилей. \n",
    "\n",
    "Задачи: \n",
    "\n",
    " - построить модель на основе машинного обучения для определения стоимости автомобиля;\n",
    " - оценить качество и скорость моделей, выбрать лучшую.\n",
    "\n",
    "\n",
    "\n",
    "В этой задаче важны:\n",
    "\n",
    "- качество предсказания;\n",
    "- скорость предсказания;\n",
    "- время обучения."
   ]
  },
  {
   "cell_type": "markdown",
   "metadata": {},
   "source": [
    "## Загрузка и просмотр данных"
   ]
  },
  {
   "cell_type": "code",
   "execution_count": 1,
   "metadata": {},
   "outputs": [],
   "source": [
    "import pandas as pd\n",
    "from sklearn.model_selection import train_test_split\n",
    "from sklearn.preprocessing import OrdinalEncoder\n",
    "from sklearn.preprocessing import StandardScaler \n",
    "from sklearn.metrics import mean_squared_error\n",
    "from sklearn.linear_model import LinearRegression\n",
    "\n",
    "pd.options.mode.chained_assignment = None\n",
    "\n",
    "from sklearn.ensemble import RandomForestRegressor\n",
    "from catboost import CatBoostRegressor\n",
    "from lightgbm import LGBMRegressor\n",
    "import matplotlib.pyplot as plt\n",
    "import time"
   ]
  },
  {
   "cell_type": "code",
   "execution_count": 2,
   "metadata": {},
   "outputs": [
    {
     "name": "stdout",
     "output_type": "stream",
     "text": [
      "<class 'pandas.core.frame.DataFrame'>\n",
      "RangeIndex: 354369 entries, 0 to 354368\n",
      "Data columns (total 16 columns):\n",
      " #   Column             Non-Null Count   Dtype \n",
      "---  ------             --------------   ----- \n",
      " 0   DateCrawled        354369 non-null  object\n",
      " 1   Price              354369 non-null  int64 \n",
      " 2   VehicleType        316879 non-null  object\n",
      " 3   RegistrationYear   354369 non-null  int64 \n",
      " 4   Gearbox            334536 non-null  object\n",
      " 5   Power              354369 non-null  int64 \n",
      " 6   Model              334664 non-null  object\n",
      " 7   Kilometer          354369 non-null  int64 \n",
      " 8   RegistrationMonth  354369 non-null  int64 \n",
      " 9   FuelType           321474 non-null  object\n",
      " 10  Brand              354369 non-null  object\n",
      " 11  NotRepaired        283215 non-null  object\n",
      " 12  DateCreated        354369 non-null  object\n",
      " 13  NumberOfPictures   354369 non-null  int64 \n",
      " 14  PostalCode         354369 non-null  int64 \n",
      " 15  LastSeen           354369 non-null  object\n",
      "dtypes: int64(7), object(9)\n",
      "memory usage: 43.3+ MB\n",
      "\n"
     ]
    },
    {
     "data": {
      "text/html": [
       "<div>\n",
       "<style scoped>\n",
       "    .dataframe tbody tr th:only-of-type {\n",
       "        vertical-align: middle;\n",
       "    }\n",
       "\n",
       "    .dataframe tbody tr th {\n",
       "        vertical-align: top;\n",
       "    }\n",
       "\n",
       "    .dataframe thead th {\n",
       "        text-align: right;\n",
       "    }\n",
       "</style>\n",
       "<table border=\"1\" class=\"dataframe\">\n",
       "  <thead>\n",
       "    <tr style=\"text-align: right;\">\n",
       "      <th></th>\n",
       "      <th>DateCrawled</th>\n",
       "      <th>Price</th>\n",
       "      <th>VehicleType</th>\n",
       "      <th>RegistrationYear</th>\n",
       "      <th>Gearbox</th>\n",
       "      <th>Power</th>\n",
       "      <th>Model</th>\n",
       "      <th>Kilometer</th>\n",
       "      <th>RegistrationMonth</th>\n",
       "      <th>FuelType</th>\n",
       "      <th>Brand</th>\n",
       "      <th>NotRepaired</th>\n",
       "      <th>DateCreated</th>\n",
       "      <th>NumberOfPictures</th>\n",
       "      <th>PostalCode</th>\n",
       "      <th>LastSeen</th>\n",
       "    </tr>\n",
       "  </thead>\n",
       "  <tbody>\n",
       "    <tr>\n",
       "      <th>0</th>\n",
       "      <td>2016-03-24 11:52:17</td>\n",
       "      <td>480</td>\n",
       "      <td>NaN</td>\n",
       "      <td>1993</td>\n",
       "      <td>manual</td>\n",
       "      <td>0</td>\n",
       "      <td>golf</td>\n",
       "      <td>150000</td>\n",
       "      <td>0</td>\n",
       "      <td>petrol</td>\n",
       "      <td>volkswagen</td>\n",
       "      <td>NaN</td>\n",
       "      <td>2016-03-24 00:00:00</td>\n",
       "      <td>0</td>\n",
       "      <td>70435</td>\n",
       "      <td>2016-04-07 03:16:57</td>\n",
       "    </tr>\n",
       "    <tr>\n",
       "      <th>1</th>\n",
       "      <td>2016-03-24 10:58:45</td>\n",
       "      <td>18300</td>\n",
       "      <td>coupe</td>\n",
       "      <td>2011</td>\n",
       "      <td>manual</td>\n",
       "      <td>190</td>\n",
       "      <td>NaN</td>\n",
       "      <td>125000</td>\n",
       "      <td>5</td>\n",
       "      <td>gasoline</td>\n",
       "      <td>audi</td>\n",
       "      <td>yes</td>\n",
       "      <td>2016-03-24 00:00:00</td>\n",
       "      <td>0</td>\n",
       "      <td>66954</td>\n",
       "      <td>2016-04-07 01:46:50</td>\n",
       "    </tr>\n",
       "    <tr>\n",
       "      <th>2</th>\n",
       "      <td>2016-03-14 12:52:21</td>\n",
       "      <td>9800</td>\n",
       "      <td>suv</td>\n",
       "      <td>2004</td>\n",
       "      <td>auto</td>\n",
       "      <td>163</td>\n",
       "      <td>grand</td>\n",
       "      <td>125000</td>\n",
       "      <td>8</td>\n",
       "      <td>gasoline</td>\n",
       "      <td>jeep</td>\n",
       "      <td>NaN</td>\n",
       "      <td>2016-03-14 00:00:00</td>\n",
       "      <td>0</td>\n",
       "      <td>90480</td>\n",
       "      <td>2016-04-05 12:47:46</td>\n",
       "    </tr>\n",
       "    <tr>\n",
       "      <th>3</th>\n",
       "      <td>2016-03-17 16:54:04</td>\n",
       "      <td>1500</td>\n",
       "      <td>small</td>\n",
       "      <td>2001</td>\n",
       "      <td>manual</td>\n",
       "      <td>75</td>\n",
       "      <td>golf</td>\n",
       "      <td>150000</td>\n",
       "      <td>6</td>\n",
       "      <td>petrol</td>\n",
       "      <td>volkswagen</td>\n",
       "      <td>no</td>\n",
       "      <td>2016-03-17 00:00:00</td>\n",
       "      <td>0</td>\n",
       "      <td>91074</td>\n",
       "      <td>2016-03-17 17:40:17</td>\n",
       "    </tr>\n",
       "    <tr>\n",
       "      <th>4</th>\n",
       "      <td>2016-03-31 17:25:20</td>\n",
       "      <td>3600</td>\n",
       "      <td>small</td>\n",
       "      <td>2008</td>\n",
       "      <td>manual</td>\n",
       "      <td>69</td>\n",
       "      <td>fabia</td>\n",
       "      <td>90000</td>\n",
       "      <td>7</td>\n",
       "      <td>gasoline</td>\n",
       "      <td>skoda</td>\n",
       "      <td>no</td>\n",
       "      <td>2016-03-31 00:00:00</td>\n",
       "      <td>0</td>\n",
       "      <td>60437</td>\n",
       "      <td>2016-04-06 10:17:21</td>\n",
       "    </tr>\n",
       "    <tr>\n",
       "      <th>...</th>\n",
       "      <td>...</td>\n",
       "      <td>...</td>\n",
       "      <td>...</td>\n",
       "      <td>...</td>\n",
       "      <td>...</td>\n",
       "      <td>...</td>\n",
       "      <td>...</td>\n",
       "      <td>...</td>\n",
       "      <td>...</td>\n",
       "      <td>...</td>\n",
       "      <td>...</td>\n",
       "      <td>...</td>\n",
       "      <td>...</td>\n",
       "      <td>...</td>\n",
       "      <td>...</td>\n",
       "      <td>...</td>\n",
       "    </tr>\n",
       "    <tr>\n",
       "      <th>354364</th>\n",
       "      <td>2016-03-21 09:50:58</td>\n",
       "      <td>0</td>\n",
       "      <td>NaN</td>\n",
       "      <td>2005</td>\n",
       "      <td>manual</td>\n",
       "      <td>0</td>\n",
       "      <td>colt</td>\n",
       "      <td>150000</td>\n",
       "      <td>7</td>\n",
       "      <td>petrol</td>\n",
       "      <td>mitsubishi</td>\n",
       "      <td>yes</td>\n",
       "      <td>2016-03-21 00:00:00</td>\n",
       "      <td>0</td>\n",
       "      <td>2694</td>\n",
       "      <td>2016-03-21 10:42:49</td>\n",
       "    </tr>\n",
       "    <tr>\n",
       "      <th>354365</th>\n",
       "      <td>2016-03-14 17:48:27</td>\n",
       "      <td>2200</td>\n",
       "      <td>NaN</td>\n",
       "      <td>2005</td>\n",
       "      <td>NaN</td>\n",
       "      <td>0</td>\n",
       "      <td>NaN</td>\n",
       "      <td>20000</td>\n",
       "      <td>1</td>\n",
       "      <td>NaN</td>\n",
       "      <td>sonstige_autos</td>\n",
       "      <td>NaN</td>\n",
       "      <td>2016-03-14 00:00:00</td>\n",
       "      <td>0</td>\n",
       "      <td>39576</td>\n",
       "      <td>2016-04-06 00:46:52</td>\n",
       "    </tr>\n",
       "    <tr>\n",
       "      <th>354366</th>\n",
       "      <td>2016-03-05 19:56:21</td>\n",
       "      <td>1199</td>\n",
       "      <td>convertible</td>\n",
       "      <td>2000</td>\n",
       "      <td>auto</td>\n",
       "      <td>101</td>\n",
       "      <td>fortwo</td>\n",
       "      <td>125000</td>\n",
       "      <td>3</td>\n",
       "      <td>petrol</td>\n",
       "      <td>smart</td>\n",
       "      <td>no</td>\n",
       "      <td>2016-03-05 00:00:00</td>\n",
       "      <td>0</td>\n",
       "      <td>26135</td>\n",
       "      <td>2016-03-11 18:17:12</td>\n",
       "    </tr>\n",
       "    <tr>\n",
       "      <th>354367</th>\n",
       "      <td>2016-03-19 18:57:12</td>\n",
       "      <td>9200</td>\n",
       "      <td>bus</td>\n",
       "      <td>1996</td>\n",
       "      <td>manual</td>\n",
       "      <td>102</td>\n",
       "      <td>transporter</td>\n",
       "      <td>150000</td>\n",
       "      <td>3</td>\n",
       "      <td>gasoline</td>\n",
       "      <td>volkswagen</td>\n",
       "      <td>no</td>\n",
       "      <td>2016-03-19 00:00:00</td>\n",
       "      <td>0</td>\n",
       "      <td>87439</td>\n",
       "      <td>2016-04-07 07:15:26</td>\n",
       "    </tr>\n",
       "    <tr>\n",
       "      <th>354368</th>\n",
       "      <td>2016-03-20 19:41:08</td>\n",
       "      <td>3400</td>\n",
       "      <td>wagon</td>\n",
       "      <td>2002</td>\n",
       "      <td>manual</td>\n",
       "      <td>100</td>\n",
       "      <td>golf</td>\n",
       "      <td>150000</td>\n",
       "      <td>6</td>\n",
       "      <td>gasoline</td>\n",
       "      <td>volkswagen</td>\n",
       "      <td>NaN</td>\n",
       "      <td>2016-03-20 00:00:00</td>\n",
       "      <td>0</td>\n",
       "      <td>40764</td>\n",
       "      <td>2016-03-24 12:45:21</td>\n",
       "    </tr>\n",
       "  </tbody>\n",
       "</table>\n",
       "<p>354369 rows × 16 columns</p>\n",
       "</div>"
      ],
      "text/plain": [
       "                DateCrawled  Price  VehicleType  RegistrationYear Gearbox  \\\n",
       "0       2016-03-24 11:52:17    480          NaN              1993  manual   \n",
       "1       2016-03-24 10:58:45  18300        coupe              2011  manual   \n",
       "2       2016-03-14 12:52:21   9800          suv              2004    auto   \n",
       "3       2016-03-17 16:54:04   1500        small              2001  manual   \n",
       "4       2016-03-31 17:25:20   3600        small              2008  manual   \n",
       "...                     ...    ...          ...               ...     ...   \n",
       "354364  2016-03-21 09:50:58      0          NaN              2005  manual   \n",
       "354365  2016-03-14 17:48:27   2200          NaN              2005     NaN   \n",
       "354366  2016-03-05 19:56:21   1199  convertible              2000    auto   \n",
       "354367  2016-03-19 18:57:12   9200          bus              1996  manual   \n",
       "354368  2016-03-20 19:41:08   3400        wagon              2002  manual   \n",
       "\n",
       "        Power        Model  Kilometer  RegistrationMonth  FuelType  \\\n",
       "0           0         golf     150000                  0    petrol   \n",
       "1         190          NaN     125000                  5  gasoline   \n",
       "2         163        grand     125000                  8  gasoline   \n",
       "3          75         golf     150000                  6    petrol   \n",
       "4          69        fabia      90000                  7  gasoline   \n",
       "...       ...          ...        ...                ...       ...   \n",
       "354364      0         colt     150000                  7    petrol   \n",
       "354365      0          NaN      20000                  1       NaN   \n",
       "354366    101       fortwo     125000                  3    petrol   \n",
       "354367    102  transporter     150000                  3  gasoline   \n",
       "354368    100         golf     150000                  6  gasoline   \n",
       "\n",
       "                 Brand NotRepaired          DateCreated  NumberOfPictures  \\\n",
       "0           volkswagen         NaN  2016-03-24 00:00:00                 0   \n",
       "1                 audi         yes  2016-03-24 00:00:00                 0   \n",
       "2                 jeep         NaN  2016-03-14 00:00:00                 0   \n",
       "3           volkswagen          no  2016-03-17 00:00:00                 0   \n",
       "4                skoda          no  2016-03-31 00:00:00                 0   \n",
       "...                ...         ...                  ...               ...   \n",
       "354364      mitsubishi         yes  2016-03-21 00:00:00                 0   \n",
       "354365  sonstige_autos         NaN  2016-03-14 00:00:00                 0   \n",
       "354366           smart          no  2016-03-05 00:00:00                 0   \n",
       "354367      volkswagen          no  2016-03-19 00:00:00                 0   \n",
       "354368      volkswagen         NaN  2016-03-20 00:00:00                 0   \n",
       "\n",
       "        PostalCode             LastSeen  \n",
       "0            70435  2016-04-07 03:16:57  \n",
       "1            66954  2016-04-07 01:46:50  \n",
       "2            90480  2016-04-05 12:47:46  \n",
       "3            91074  2016-03-17 17:40:17  \n",
       "4            60437  2016-04-06 10:17:21  \n",
       "...            ...                  ...  \n",
       "354364        2694  2016-03-21 10:42:49  \n",
       "354365       39576  2016-04-06 00:46:52  \n",
       "354366       26135  2016-03-11 18:17:12  \n",
       "354367       87439  2016-04-07 07:15:26  \n",
       "354368       40764  2016-03-24 12:45:21  \n",
       "\n",
       "[354369 rows x 16 columns]"
      ]
     },
     "metadata": {},
     "output_type": "display_data"
    }
   ],
   "source": [
    "\n",
    "data = pd.read_csv('/datasets/autos.csv')\n",
    "data.info()\n",
    "print()\n",
    "display(data)\n"
   ]
  },
  {
   "cell_type": "markdown",
   "metadata": {},
   "source": [
    "Посмотрел данные в таблице"
   ]
  },
  {
   "cell_type": "markdown",
   "metadata": {},
   "source": [
    "## Предобработка данных"
   ]
  },
  {
   "cell_type": "code",
   "execution_count": 3,
   "metadata": {},
   "outputs": [
    {
     "name": "stdout",
     "output_type": "stream",
     "text": [
      "0        10772\n",
      "500       5670\n",
      "1500      5394\n",
      "1000      4649\n",
      "1200      4594\n",
      "         ...  \n",
      "13180        1\n",
      "10879        1\n",
      "2683         1\n",
      "634          1\n",
      "8188         1\n",
      "Name: Price, Length: 3731, dtype: int64\n"
     ]
    }
   ],
   "source": [
    "print(data['Price'].value_counts())"
   ]
  },
  {
   "cell_type": "markdown",
   "metadata": {},
   "source": [
    "Посмотрел на уникальные значения целевого признака и из количество"
   ]
  },
  {
   "cell_type": "code",
   "execution_count": 4,
   "metadata": {},
   "outputs": [],
   "source": [
    "data = data.loc[data.loc[:, 'Price'] > 10]"
   ]
  },
  {
   "cell_type": "markdown",
   "metadata": {},
   "source": [
    "Отсеял неправдободобные значения цены"
   ]
  },
  {
   "cell_type": "code",
   "execution_count": 5,
   "metadata": {},
   "outputs": [],
   "source": [
    "data = data.drop('DateCrawled', axis=1)\n",
    "data = data.drop('DateCreated', axis=1)\n",
    "data = data.drop('PostalCode', axis=1)\n"
   ]
  },
  {
   "cell_type": "markdown",
   "metadata": {},
   "source": [
    "Удалил признаки не влияющие на целевой признак"
   ]
  },
  {
   "cell_type": "markdown",
   "metadata": {},
   "source": [
    "#### Работа с пропусками и дубликатами:"
   ]
  },
  {
   "cell_type": "code",
   "execution_count": 6,
   "metadata": {},
   "outputs": [
    {
     "name": "stdout",
     "output_type": "stream",
     "text": [
      "105\n"
     ]
    }
   ],
   "source": [
    "print(data.duplicated().sum())\n",
    "data = data.drop_duplicates().reset_index(drop=True)"
   ]
  },
  {
   "cell_type": "code",
   "execution_count": 7,
   "metadata": {},
   "outputs": [
    {
     "name": "stdout",
     "output_type": "stream",
     "text": [
      "Price                    0\n",
      "VehicleType          33202\n",
      "RegistrationYear         0\n",
      "Gearbox              16901\n",
      "Power                    0\n",
      "Model                17230\n",
      "Kilometer                0\n",
      "RegistrationMonth        0\n",
      "FuelType             28940\n",
      "Brand                    0\n",
      "NotRepaired          65121\n",
      "NumberOfPictures         0\n",
      "LastSeen                 0\n",
      "dtype: int64\n"
     ]
    }
   ],
   "source": [
    "print(data.isna().sum())"
   ]
  },
  {
   "cell_type": "markdown",
   "metadata": {},
   "source": [
    "Посмотрел количество дубликатов и пустых значений"
   ]
  },
  {
   "cell_type": "markdown",
   "metadata": {},
   "source": [
    "**VehicleType**"
   ]
  },
  {
   "cell_type": "code",
   "execution_count": 8,
   "metadata": {},
   "outputs": [
    {
     "name": "stdout",
     "output_type": "stream",
     "text": [
      "sedan          89159\n",
      "small          77809\n",
      "wagon          63501\n",
      "bus            28275\n",
      "convertible    19818\n",
      "coupe          15564\n",
      "suv            11764\n",
      "other           3060\n",
      "Name: VehicleType, dtype: int64\n",
      "\n",
      "[nan 'coupe' 'suv' 'small' 'sedan' 'convertible' 'bus' 'wagon' 'other']\n"
     ]
    }
   ],
   "source": [
    "print(data['VehicleType'].value_counts())\n",
    "print()\n",
    "print(data['VehicleType'].unique())"
   ]
  },
  {
   "cell_type": "code",
   "execution_count": 9,
   "metadata": {},
   "outputs": [],
   "source": [
    "data['VehicleType'] = data['VehicleType'].fillna('indefined')"
   ]
  },
  {
   "cell_type": "markdown",
   "metadata": {},
   "source": [
    "**Gearbox**"
   ]
  },
  {
   "cell_type": "code",
   "execution_count": 10,
   "metadata": {},
   "outputs": [
    {
     "name": "stdout",
     "output_type": "stream",
     "text": [
      "manual    260564\n",
      "auto       64687\n",
      "Name: Gearbox, dtype: int64\n",
      "\n",
      "['manual' 'auto' nan]\n"
     ]
    }
   ],
   "source": [
    "print(data['Gearbox'].value_counts())\n",
    "print()\n",
    "print(data['Gearbox'].unique())"
   ]
  },
  {
   "cell_type": "code",
   "execution_count": 11,
   "metadata": {},
   "outputs": [],
   "source": [
    "data['Gearbox'] = data['Gearbox'].fillna('indefined')"
   ]
  },
  {
   "cell_type": "markdown",
   "metadata": {},
   "source": [
    "**Model**"
   ]
  },
  {
   "cell_type": "code",
   "execution_count": 12,
   "metadata": {},
   "outputs": [
    {
     "name": "stdout",
     "output_type": "stream",
     "text": [
      "golf                  28144\n",
      "other                 23582\n",
      "3er                   19094\n",
      "polo                  12580\n",
      "corsa                 12141\n",
      "                      ...  \n",
      "serie_2                   8\n",
      "rangerover                4\n",
      "serie_3                   3\n",
      "range_rover_evoque        2\n",
      "serie_1                   1\n",
      "Name: Model, Length: 250, dtype: int64\n"
     ]
    }
   ],
   "source": [
    "print(data['Model'].value_counts())\n"
   ]
  },
  {
   "cell_type": "code",
   "execution_count": 13,
   "metadata": {},
   "outputs": [],
   "source": [
    "data['Model'] = data['Model'].fillna('other')\n"
   ]
  },
  {
   "cell_type": "markdown",
   "metadata": {},
   "source": [
    "**FuelType**"
   ]
  },
  {
   "cell_type": "code",
   "execution_count": 14,
   "metadata": {},
   "outputs": [
    {
     "name": "stdout",
     "output_type": "stream",
     "text": [
      "petrol      210090\n",
      "gasoline     96944\n",
      "lpg           5152\n",
      "cng            551\n",
      "hybrid         226\n",
      "other          162\n",
      "electric        87\n",
      "Name: FuelType, dtype: int64\n",
      "\n",
      "['petrol' 'gasoline' nan 'lpg' 'other' 'hybrid' 'cng' 'electric']\n"
     ]
    }
   ],
   "source": [
    "print(data['FuelType'].value_counts())\n",
    "print()\n",
    "print(data['FuelType'].unique())"
   ]
  },
  {
   "cell_type": "code",
   "execution_count": 15,
   "metadata": {},
   "outputs": [],
   "source": [
    "data['FuelType'] = data['FuelType'].fillna('indefined')"
   ]
  },
  {
   "cell_type": "markdown",
   "metadata": {},
   "source": [
    "**NotRepaired**"
   ]
  },
  {
   "cell_type": "code",
   "execution_count": 16,
   "metadata": {},
   "outputs": [
    {
     "name": "stdout",
     "output_type": "stream",
     "text": [
      "no     243253\n",
      "yes     33778\n",
      "Name: NotRepaired, dtype: int64\n",
      "\n",
      "[nan 'yes' 'no']\n"
     ]
    }
   ],
   "source": [
    "print(data['NotRepaired'].value_counts())\n",
    "print()\n",
    "print(data['NotRepaired'].unique())"
   ]
  },
  {
   "cell_type": "code",
   "execution_count": 17,
   "metadata": {},
   "outputs": [],
   "source": [
    "data['NotRepaired'] = data['NotRepaired'].fillna('indefined')"
   ]
  },
  {
   "cell_type": "code",
   "execution_count": 18,
   "metadata": {},
   "outputs": [
    {
     "name": "stdout",
     "output_type": "stream",
     "text": [
      "Price                0\n",
      "VehicleType          0\n",
      "RegistrationYear     0\n",
      "Gearbox              0\n",
      "Power                0\n",
      "Model                0\n",
      "Kilometer            0\n",
      "RegistrationMonth    0\n",
      "FuelType             0\n",
      "Brand                0\n",
      "NotRepaired          0\n",
      "NumberOfPictures     0\n",
      "LastSeen             0\n",
      "dtype: int64\n"
     ]
    }
   ],
   "source": [
    "print(data.isna().sum())"
   ]
  },
  {
   "cell_type": "markdown",
   "metadata": {},
   "source": [
    "Пропуски заменил на значение новой категории."
   ]
  },
  {
   "cell_type": "markdown",
   "metadata": {},
   "source": [
    "#### Обработка выбросов и скрытых пропусков:"
   ]
  },
  {
   "cell_type": "code",
   "execution_count": 19,
   "metadata": {
    "scrolled": true
   },
   "outputs": [
    {
     "name": "stdout",
     "output_type": "stream",
     "text": [
      "['volkswagen' 'audi' 'jeep' 'skoda' 'bmw' 'peugeot' 'ford' 'mazda'\n",
      " 'nissan' 'renault' 'mercedes_benz' 'opel' 'seat' 'citroen' 'honda' 'fiat'\n",
      " 'mini' 'smart' 'hyundai' 'alfa_romeo' 'subaru' 'volvo' 'mitsubishi' 'kia'\n",
      " 'suzuki' 'lancia' 'sonstige_autos' 'toyota' 'chevrolet' 'dacia'\n",
      " 'daihatsu' 'trabant' 'chrysler' 'jaguar' 'daewoo' 'rover' 'porsche'\n",
      " 'saab' 'land_rover' 'lada']\n"
     ]
    }
   ],
   "source": [
    "print(data['Brand'].unique())"
   ]
  },
  {
   "cell_type": "code",
   "execution_count": 20,
   "metadata": {},
   "outputs": [
    {
     "name": "stdout",
     "output_type": "stream",
     "text": [
      "0        35774\n",
      "75       23242\n",
      "60       15425\n",
      "150      14110\n",
      "101      12930\n",
      "         ...  \n",
      "923          1\n",
      "10910        1\n",
      "9013         1\n",
      "4400         1\n",
      "6006         1\n",
      "Name: Power, Length: 698, dtype: int64\n",
      "\n",
      "[    0   190   163    75    69   102   109   125   101   105   140   115\n",
      "   131    60   136   160   231    90    50   118   193    99   113   218\n",
      "   122   129    70   306    95    61   177    80   170    55   143    64\n",
      "   232   150   156    82   155    54   185    87   180    86    84   224\n",
      "   235   200   178   265    77   110   144   120   286   116   184   126\n",
      "   204    88   194   305   197   179   250    45   313    41   165    98\n",
      "   130   114   211    56   201   213    58   107    83   174   100   220\n",
      "    85    73   192    68    66   299    74    52   147    65   310    71\n",
      "    97   239   203     5   300   103   258   320    63    81   148    44\n",
      "   145   280   260   104   188   333   186   117   141    59   132   234\n",
      "   158    39    92    51   135   230    53   209    43   146    67   106\n",
      "   166   276   344    72   249   237   245   111   326   279    23   138\n",
      "   175    96   226    26    37   301   334   128   133   124    33   219\n",
      "   241   167    94   182   196   238  1398   228   112    48   272   139\n",
      "    40    79   256   360   243   252   396   340   108   121   345   187\n",
      "   289   222   198   284   450   233   387   347   172    57   137   212\n",
      "   476   314    30     7    47   173   290   207   205   171    78    91\n",
      "    89   349   325    76   151   350   953    93   142   343   199   119\n",
      "   164    16   264   152   367   240   208   210    46   435  1001   225\n",
      "   127   176   161   603   307   354    35   206   771   355   273   223\n",
      "   255   123   154   149  7515  1400   268   620   169   400   275    34\n",
      "     2   242  1779   285   162   328  1753   329   134   420   247   168\n",
      "   215    18   330   283   500    62    10   183   254    15   321   322\n",
      "   315   952   600   181   426   599   379    22   157    42   195   553\n",
      "     4   309   507   381   271   440   189   401  2729    21   236  1240\n",
      "  1704   521     1  1900   270    24   159   292   808   515  1200   303\n",
      "    29    38  1993    14   216   610   504    49   267   331   363   261\n",
      "   385  1011   253   696 10520   376   227   311    27   217    20  1999\n",
      "    11  1056    25   394    12   298   296  1659   294   551  6920   246\n",
      "    17  1800  1625   390   221  1367   259   606   327  2017  1597   266\n",
      "   374   392     9   405    13   262   601   430   295     8   411   900\n",
      "   541  7512   382 10218  7544   999   287    19   214   751   297  1090\n",
      "   457   282   602   388     6  1000  5411   335  1360   202  3750   805\n",
      "  1062   750  1024 11530   364  1796   269   460  1002   288  1780 12012\n",
      " 17932   316  2005  1399   191   278  1300   380   257   449  1256   153\n",
      "  1653   520   560   281 12510     3  1500   386    32  1202  2016  1436\n",
      "  1405   671   274  1288  1055 10912  6226  1115   277  1105   341  1223\n",
      "  2340  8404  1968   338   445  1920   370   517  4400 10710 10522  9010\n",
      "   431  1164 11509   371  1501   428 11635   304   348  1703  1995   579\n",
      " 10000   580   408    31  1005   358  1403   489  5575 19211   585   365\n",
      "   353   490   352  1801   346   550  3199   800  7508  1312   357  1937\n",
      "   950  4700  1600  3454 19208   251   850   337   700  2331  2789   487\n",
      "    36   519  2461  6006  3500  5815  6018  1781  1503   612  1596   229\n",
      "  1506  5809 15020  5867  2172  1598 17410  1363   584  1054   851  1339\n",
      "   318   510   525    28  1151   685  6011   317   703  1771 15001   514\n",
      "   362   332   324  6045   425   308  6010   475   903   640  2000   248\n",
      "   651  2799   368 17011   505  1103  1521   351 16051   398  9000  1998\n",
      " 10311   409  1230 17019 12684  8259  1895   901  1317   871   909  1595\n",
      "   776 17700 11011  1199   459  1162  1120 15033  1896   339   361  6512\n",
      "   454   650 13616   604   607 16312  1082   336 20000   416   678  6012\n",
      "  1401  1021  1870   375 13636  1250   323  1158  2009   902  6062  1275\n",
      "   572   244   399  1016   743  1221  2402 16011  1362   544   645   907\n",
      "   702 12512  1986  1003  1432  9013  9011   442  1017  1394 15017 10910\n",
      "  1992   540  2018 11025  1433  1701  2792  1502  1239  1390 14009  1160\n",
      "  1351 11111  1783  9007   923  1149   754  1988   402  2004  5420  1793\n",
      "  1324   356  7511  1299   293 19312  1079  1689   998  1100  9012  1933\n",
      "   508 16311   682  1252  1922  7529   732  2389  1707  1416  1700  8500\n",
      "  1012  3000 10110   421  4507  1631  7518   377  1004  1799  2007  2598\n",
      "  1548  1241]\n"
     ]
    }
   ],
   "source": [
    "print(data['Power'].value_counts())\n",
    "print()\n",
    "print(data['Power'].unique())"
   ]
  },
  {
   "cell_type": "code",
   "execution_count": 21,
   "metadata": {},
   "outputs": [],
   "source": [
    "data = data.loc[data.loc[:, 'Power'] > 10]\n",
    "data = data.loc[data.loc[:, 'Power'] < 600]"
   ]
  },
  {
   "cell_type": "code",
   "execution_count": 22,
   "metadata": {},
   "outputs": [
    {
     "name": "stdout",
     "output_type": "stream",
     "text": [
      "Index(['Price', 'VehicleType', 'RegistrationYear', 'Gearbox', 'Power', 'Model',\n",
      "       'Kilometer', 'RegistrationMonth', 'FuelType', 'Brand', 'NotRepaired',\n",
      "       'NumberOfPictures', 'LastSeen'],\n",
      "      dtype='object')\n",
      "<class 'pandas.core.frame.DataFrame'>\n",
      "Int64Index: 305797 entries, 1 to 342151\n",
      "Data columns (total 13 columns):\n",
      " #   Column             Non-Null Count   Dtype \n",
      "---  ------             --------------   ----- \n",
      " 0   Price              305797 non-null  int64 \n",
      " 1   VehicleType        305797 non-null  object\n",
      " 2   RegistrationYear   305797 non-null  int64 \n",
      " 3   Gearbox            305797 non-null  object\n",
      " 4   Power              305797 non-null  int64 \n",
      " 5   Model              305797 non-null  object\n",
      " 6   Kilometer          305797 non-null  int64 \n",
      " 7   RegistrationMonth  305797 non-null  int64 \n",
      " 8   FuelType           305797 non-null  object\n",
      " 9   Brand              305797 non-null  object\n",
      " 10  NotRepaired        305797 non-null  object\n",
      " 11  NumberOfPictures   305797 non-null  int64 \n",
      " 12  LastSeen           305797 non-null  object\n",
      "dtypes: int64(6), object(7)\n",
      "memory usage: 32.7+ MB\n"
     ]
    }
   ],
   "source": [
    "print(data.columns)\n",
    "data.info()"
   ]
  },
  {
   "cell_type": "code",
   "execution_count": 23,
   "metadata": {},
   "outputs": [
    {
     "name": "stdout",
     "output_type": "stream",
     "text": [
      "2016-04-07 14:58:51\n"
     ]
    }
   ],
   "source": [
    "print(data['LastSeen'].max())"
   ]
  },
  {
   "cell_type": "code",
   "execution_count": 24,
   "metadata": {},
   "outputs": [],
   "source": [
    "data = data.drop('LastSeen', axis=1)"
   ]
  },
  {
   "cell_type": "code",
   "execution_count": 25,
   "metadata": {},
   "outputs": [
    {
     "name": "stdout",
     "output_type": "stream",
     "text": [
      "1999    19495\n",
      "2005    18864\n",
      "2000    18707\n",
      "2006    18545\n",
      "2003    17901\n",
      "        ...  \n",
      "1947        1\n",
      "1948        1\n",
      "1234        1\n",
      "1949        1\n",
      "2800        1\n",
      "Name: RegistrationYear, Length: 106, dtype: int64\n",
      "\n",
      "[2011 2004 2001 2008 1995 2014 1998 2005 2016 2007 2009 2002 2018 1997\n",
      " 1990 2017 1981 2003 1991 1984 2006 1999 2012 2010 2000 1992 2013 1994\n",
      " 1996 1989 2015 1993 1985 1982 1983 1973 1969 1971 1987 1988 1980 1970\n",
      " 1986 1976 1965 1945 1974 1955 1978 1979 1972 1977 1961 1975 1968 1963\n",
      " 1966 1958 1956 1941 1960 1500 1962 1929 1957 1910 1940 1964 1967 1949\n",
      " 1937 1959 1953 2019 1954 1234 2900 6000 5911 4000 1932 1951 1952 1950\n",
      " 5000 1942 1935 1923 1930 9999 1943 1938 1936 1800 1928 1000 3000 2800\n",
      " 1931 1948 4500 1927 1933 8200 1947 1944]\n"
     ]
    }
   ],
   "source": [
    "print(data['RegistrationYear'].value_counts())\n",
    "print()\n",
    "print(data['RegistrationYear'].unique())\n"
   ]
  },
  {
   "cell_type": "code",
   "execution_count": 26,
   "metadata": {},
   "outputs": [],
   "source": [
    "data = data.loc[data.loc[:, 'RegistrationYear'] > 1920]\n",
    "data = data.loc[data.loc[:, 'RegistrationYear'] < 2017]"
   ]
  },
  {
   "cell_type": "code",
   "execution_count": 27,
   "metadata": {},
   "outputs": [
    {
     "name": "stdout",
     "output_type": "stream",
     "text": [
      "1923\n",
      "\n",
      "2016\n"
     ]
    }
   ],
   "source": [
    "print(data['RegistrationYear'].unique().min())\n",
    "print()\n",
    "print(data['RegistrationYear'].unique().max())"
   ]
  },
  {
   "cell_type": "code",
   "execution_count": 28,
   "metadata": {},
   "outputs": [
    {
     "name": "stdout",
     "output_type": "stream",
     "text": [
      "23047\n",
      "Price                0\n",
      "VehicleType          0\n",
      "RegistrationYear     0\n",
      "Gearbox              0\n",
      "Power                0\n",
      "Model                0\n",
      "Kilometer            0\n",
      "RegistrationMonth    0\n",
      "FuelType             0\n",
      "Brand                0\n",
      "NotRepaired          0\n",
      "NumberOfPictures     0\n",
      "dtype: int64\n"
     ]
    }
   ],
   "source": [
    "print(data.duplicated().sum())\n",
    "print(data.isna().sum())\n",
    "data = data.drop_duplicates().reset_index(drop=True)"
   ]
  },
  {
   "cell_type": "markdown",
   "metadata": {},
   "source": [
    "Посмотрел на значения признаков с пропусками\n",
    "\n",
    "Заменил пропуски на категориальные признаки\n",
    "\n",
    "Отсеял неправдободобный год автомобилей и неправдободобную мощность\n",
    "\n",
    "Посмотрел на дубликаты опять и удалил их\n",
    "\n"
   ]
  },
  {
   "cell_type": "code",
   "execution_count": 29,
   "metadata": {},
   "outputs": [
    {
     "data": {
      "text/plain": [
       "array([2011, 2004, 2001, 2008, 1995, 2014, 1998, 2005, 2016, 2007, 2009,\n",
       "       2002, 1997, 1990, 1981, 2003, 1991, 1984, 2006, 1999, 2012, 2010,\n",
       "       2000, 1992, 2013, 1994, 1996, 1989, 2015, 1993, 1985, 1982, 1983,\n",
       "       1973, 1969, 1971, 1987, 1988, 1980, 1970, 1986, 1976, 1965, 1945,\n",
       "       1974, 1955, 1978, 1979, 1972, 1977, 1961, 1975, 1968, 1963, 1966,\n",
       "       1958, 1956, 1941, 1960, 1962, 1929, 1957, 1940, 1964, 1967, 1949,\n",
       "       1937, 1959, 1953, 1954, 1932, 1951, 1952, 1950, 1942, 1935, 1923,\n",
       "       1930, 1943, 1938, 1936, 1928, 1931, 1948, 1927, 1933, 1947, 1944])"
      ]
     },
     "execution_count": 29,
     "metadata": {},
     "output_type": "execute_result"
    }
   ],
   "source": [
    "data['RegistrationYear'].unique()"
   ]
  },
  {
   "cell_type": "code",
   "execution_count": 30,
   "metadata": {},
   "outputs": [
    {
     "name": "stdout",
     "output_type": "stream",
     "text": [
      "1999    17883\n",
      "2005    17459\n",
      "2000    17240\n",
      "2006    16954\n",
      "2003    16452\n",
      "        ...  \n",
      "1944        1\n",
      "1947        1\n",
      "1948        1\n",
      "1949        1\n",
      "1923        1\n",
      "Name: RegistrationYear, Length: 88, dtype: int64\n"
     ]
    }
   ],
   "source": [
    "print(data['RegistrationYear'].value_counts())"
   ]
  },
  {
   "cell_type": "markdown",
   "metadata": {},
   "source": [
    "## Исследовательский анализ данных"
   ]
  },
  {
   "cell_type": "code",
   "execution_count": 31,
   "metadata": {},
   "outputs": [
    {
     "data": {
      "text/plain": [
       "Text(0.5, 1.0, 'Распределение автомобилей по годам выпуска')"
      ]
     },
     "execution_count": 31,
     "metadata": {},
     "output_type": "execute_result"
    },
    {
     "data": {
      "image/png": "[encoded data removed]",
      "text/plain": [
       "<Figure size 1152x576 with 1 Axes>"
      ]
     },
     "metadata": {
      "needs_background": "light"
     },
     "output_type": "display_data"
    }
   ],
   "source": [
    "data.plot(y='RegistrationYear', kind='hist', bins=300, range=(1920, 2021), figsize=(16, 8))\n",
    "plt.title('Распределение автомобилей по годам выпуска')"
   ]
  },
  {
   "cell_type": "code",
   "execution_count": 32,
   "metadata": {
    "scrolled": true
   },
   "outputs": [
    {
     "data": {
      "text/plain": [
       "Text(0.5, 1.0, 'Распределение автомобилей по годам выпуска')"
      ]
     },
     "execution_count": 32,
     "metadata": {},
     "output_type": "execute_result"
    },
    {
     "data": {
      "image/png": "[encoded data removed]",
      "text/plain": [
       "<Figure size 1152x288 with 1 Axes>"
      ]
     },
     "metadata": {
      "needs_background": "light"
     },
     "output_type": "display_data"
    }
   ],
   "source": [
    "data.plot(y='RegistrationYear', kind='hist', bins=300, range=(1990, 2016), figsize=(16, 4))\n",
    "plt.title('Распределение автомобилей по годам выпуска')"
   ]
  },
  {
   "cell_type": "code",
   "execution_count": 33,
   "metadata": {},
   "outputs": [],
   "source": [
    "data['RegistrationYear_Category'] = 0\n",
    "\n",
    "for i in range(len(data)):\n",
    "    if data['RegistrationYear'][i] < 1960:\n",
    "        data['RegistrationYear_Category'][i] = 1\n",
    "    else:\n",
    "        if data['RegistrationYear'][i] < 1990:\n",
    "            data['RegistrationYear_Category'][i] = 2\n",
    "        else:\n",
    "            if data['RegistrationYear'][i] < 2003:\n",
    "                data['RegistrationYear_Category'][i] = 3\n",
    "            else:\n",
    "                if data['RegistrationYear'][i] < 2013:\n",
    "                    data['RegistrationYear_Category'][i] = 4\n",
    "                else:\n",
    "                    data['RegistrationYear_Category'][i] = 5\n",
    "                                \n",
    "                        \n",
    "                \n",
    "    "
   ]
  },
  {
   "cell_type": "code",
   "execution_count": 34,
   "metadata": {},
   "outputs": [],
   "source": [
    "data = data.drop('RegistrationYear', axis=1)\n",
    "data = data.drop('RegistrationMonth', axis=1)"
   ]
  },
  {
   "cell_type": "markdown",
   "metadata": {},
   "source": [
    "Разделил годы выпуска авто на категории, исходя из данных на графике распределения\n",
    "\n",
    "Удалил ненужные признаки "
   ]
  },
  {
   "cell_type": "code",
   "execution_count": 35,
   "metadata": {},
   "outputs": [
    {
     "data": {
      "text/html": [
       "<div>\n",
       "<style scoped>\n",
       "    .dataframe tbody tr th:only-of-type {\n",
       "        vertical-align: middle;\n",
       "    }\n",
       "\n",
       "    .dataframe tbody tr th {\n",
       "        vertical-align: top;\n",
       "    }\n",
       "\n",
       "    .dataframe thead th {\n",
       "        text-align: right;\n",
       "    }\n",
       "</style>\n",
       "<table border=\"1\" class=\"dataframe\">\n",
       "  <thead>\n",
       "    <tr style=\"text-align: right;\">\n",
       "      <th></th>\n",
       "      <th>Price</th>\n",
       "      <th>VehicleType</th>\n",
       "      <th>Gearbox</th>\n",
       "      <th>Power</th>\n",
       "      <th>Model</th>\n",
       "      <th>Kilometer</th>\n",
       "      <th>FuelType</th>\n",
       "      <th>Brand</th>\n",
       "      <th>NotRepaired</th>\n",
       "      <th>NumberOfPictures</th>\n",
       "      <th>RegistrationYear_Category</th>\n",
       "    </tr>\n",
       "  </thead>\n",
       "  <tbody>\n",
       "    <tr>\n",
       "      <th>0</th>\n",
       "      <td>18300</td>\n",
       "      <td>coupe</td>\n",
       "      <td>manual</td>\n",
       "      <td>190</td>\n",
       "      <td>other</td>\n",
       "      <td>125000</td>\n",
       "      <td>gasoline</td>\n",
       "      <td>audi</td>\n",
       "      <td>yes</td>\n",
       "      <td>0</td>\n",
       "      <td>4</td>\n",
       "    </tr>\n",
       "    <tr>\n",
       "      <th>1</th>\n",
       "      <td>9800</td>\n",
       "      <td>suv</td>\n",
       "      <td>auto</td>\n",
       "      <td>163</td>\n",
       "      <td>grand</td>\n",
       "      <td>125000</td>\n",
       "      <td>gasoline</td>\n",
       "      <td>jeep</td>\n",
       "      <td>indefined</td>\n",
       "      <td>0</td>\n",
       "      <td>4</td>\n",
       "    </tr>\n",
       "    <tr>\n",
       "      <th>2</th>\n",
       "      <td>1500</td>\n",
       "      <td>small</td>\n",
       "      <td>manual</td>\n",
       "      <td>75</td>\n",
       "      <td>golf</td>\n",
       "      <td>150000</td>\n",
       "      <td>petrol</td>\n",
       "      <td>volkswagen</td>\n",
       "      <td>no</td>\n",
       "      <td>0</td>\n",
       "      <td>3</td>\n",
       "    </tr>\n",
       "    <tr>\n",
       "      <th>3</th>\n",
       "      <td>3600</td>\n",
       "      <td>small</td>\n",
       "      <td>manual</td>\n",
       "      <td>69</td>\n",
       "      <td>fabia</td>\n",
       "      <td>90000</td>\n",
       "      <td>gasoline</td>\n",
       "      <td>skoda</td>\n",
       "      <td>no</td>\n",
       "      <td>0</td>\n",
       "      <td>4</td>\n",
       "    </tr>\n",
       "    <tr>\n",
       "      <th>4</th>\n",
       "      <td>650</td>\n",
       "      <td>sedan</td>\n",
       "      <td>manual</td>\n",
       "      <td>102</td>\n",
       "      <td>3er</td>\n",
       "      <td>150000</td>\n",
       "      <td>petrol</td>\n",
       "      <td>bmw</td>\n",
       "      <td>yes</td>\n",
       "      <td>0</td>\n",
       "      <td>3</td>\n",
       "    </tr>\n",
       "    <tr>\n",
       "      <th>...</th>\n",
       "      <td>...</td>\n",
       "      <td>...</td>\n",
       "      <td>...</td>\n",
       "      <td>...</td>\n",
       "      <td>...</td>\n",
       "      <td>...</td>\n",
       "      <td>...</td>\n",
       "      <td>...</td>\n",
       "      <td>...</td>\n",
       "      <td>...</td>\n",
       "      <td>...</td>\n",
       "    </tr>\n",
       "    <tr>\n",
       "      <th>272484</th>\n",
       "      <td>5250</td>\n",
       "      <td>indefined</td>\n",
       "      <td>auto</td>\n",
       "      <td>150</td>\n",
       "      <td>159</td>\n",
       "      <td>150000</td>\n",
       "      <td>indefined</td>\n",
       "      <td>alfa_romeo</td>\n",
       "      <td>no</td>\n",
       "      <td>0</td>\n",
       "      <td>5</td>\n",
       "    </tr>\n",
       "    <tr>\n",
       "      <th>272485</th>\n",
       "      <td>3200</td>\n",
       "      <td>sedan</td>\n",
       "      <td>manual</td>\n",
       "      <td>225</td>\n",
       "      <td>leon</td>\n",
       "      <td>150000</td>\n",
       "      <td>petrol</td>\n",
       "      <td>seat</td>\n",
       "      <td>yes</td>\n",
       "      <td>0</td>\n",
       "      <td>4</td>\n",
       "    </tr>\n",
       "    <tr>\n",
       "      <th>272486</th>\n",
       "      <td>1199</td>\n",
       "      <td>convertible</td>\n",
       "      <td>auto</td>\n",
       "      <td>101</td>\n",
       "      <td>fortwo</td>\n",
       "      <td>125000</td>\n",
       "      <td>petrol</td>\n",
       "      <td>smart</td>\n",
       "      <td>no</td>\n",
       "      <td>0</td>\n",
       "      <td>3</td>\n",
       "    </tr>\n",
       "    <tr>\n",
       "      <th>272487</th>\n",
       "      <td>9200</td>\n",
       "      <td>bus</td>\n",
       "      <td>manual</td>\n",
       "      <td>102</td>\n",
       "      <td>transporter</td>\n",
       "      <td>150000</td>\n",
       "      <td>gasoline</td>\n",
       "      <td>volkswagen</td>\n",
       "      <td>no</td>\n",
       "      <td>0</td>\n",
       "      <td>3</td>\n",
       "    </tr>\n",
       "    <tr>\n",
       "      <th>272488</th>\n",
       "      <td>3400</td>\n",
       "      <td>wagon</td>\n",
       "      <td>manual</td>\n",
       "      <td>100</td>\n",
       "      <td>golf</td>\n",
       "      <td>150000</td>\n",
       "      <td>gasoline</td>\n",
       "      <td>volkswagen</td>\n",
       "      <td>indefined</td>\n",
       "      <td>0</td>\n",
       "      <td>3</td>\n",
       "    </tr>\n",
       "  </tbody>\n",
       "</table>\n",
       "<p>272489 rows × 11 columns</p>\n",
       "</div>"
      ],
      "text/plain": [
       "        Price  VehicleType Gearbox  Power        Model  Kilometer   FuelType  \\\n",
       "0       18300        coupe  manual    190        other     125000   gasoline   \n",
       "1        9800          suv    auto    163        grand     125000   gasoline   \n",
       "2        1500        small  manual     75         golf     150000     petrol   \n",
       "3        3600        small  manual     69        fabia      90000   gasoline   \n",
       "4         650        sedan  manual    102          3er     150000     petrol   \n",
       "...       ...          ...     ...    ...          ...        ...        ...   \n",
       "272484   5250    indefined    auto    150          159     150000  indefined   \n",
       "272485   3200        sedan  manual    225         leon     150000     petrol   \n",
       "272486   1199  convertible    auto    101       fortwo     125000     petrol   \n",
       "272487   9200          bus  manual    102  transporter     150000   gasoline   \n",
       "272488   3400        wagon  manual    100         golf     150000   gasoline   \n",
       "\n",
       "             Brand NotRepaired  NumberOfPictures  RegistrationYear_Category  \n",
       "0             audi         yes                 0                          4  \n",
       "1             jeep   indefined                 0                          4  \n",
       "2       volkswagen          no                 0                          3  \n",
       "3            skoda          no                 0                          4  \n",
       "4              bmw         yes                 0                          3  \n",
       "...            ...         ...               ...                        ...  \n",
       "272484  alfa_romeo          no                 0                          5  \n",
       "272485        seat         yes                 0                          4  \n",
       "272486       smart          no                 0                          3  \n",
       "272487  volkswagen          no                 0                          3  \n",
       "272488  volkswagen   indefined                 0                          3  \n",
       "\n",
       "[272489 rows x 11 columns]"
      ]
     },
     "metadata": {},
     "output_type": "display_data"
    }
   ],
   "source": [
    "display(data)"
   ]
  },
  {
   "cell_type": "markdown",
   "metadata": {},
   "source": [
    "## Построение моделей на основе машинного обучения"
   ]
  },
  {
   "cell_type": "markdown",
   "metadata": {},
   "source": [
    "### Кодирование и масштабирование признаков"
   ]
  },
  {
   "cell_type": "code",
   "execution_count": 36,
   "metadata": {},
   "outputs": [],
   "source": [
    "encoder = OrdinalEncoder()\n",
    "\n",
    "data_B = data['Brand']\n",
    "columns_data_B = ['Brand']\n",
    "dataF_B = pd.DataFrame(data = data_B, columns = columns_data_B)\n",
    "data_ordinal1 = pd.DataFrame(encoder.fit_transform(dataF_B),\n",
    "                            columns=dataF_B.columns)\n",
    "data['brand_en'] = data_ordinal1['Brand']\n",
    "data = data.drop('Brand', axis=1)\n",
    "data['brand_en'] = data['brand_en'].astype('int')"
   ]
  },
  {
   "cell_type": "code",
   "execution_count": 37,
   "metadata": {},
   "outputs": [],
   "source": [
    "data_M = data['Model']\n",
    "columns_data_M = ['Model']\n",
    "dataF_M = pd.DataFrame(data = data_M, columns = columns_data_M)\n",
    "data_ordinal = pd.DataFrame(encoder.fit_transform(dataF_M),\n",
    "                            columns=dataF_M.columns)\n",
    "data['model_en'] = data_ordinal['Model']\n",
    "data = data.drop('Model', axis=1)\n",
    "data['model_en'] = data['model_en'].astype('int')"
   ]
  },
  {
   "cell_type": "code",
   "execution_count": 38,
   "metadata": {},
   "outputs": [],
   "source": [
    "df, dt = train_test_split(data, test_size=0.15, random_state=12345)"
   ]
  },
  {
   "cell_type": "code",
   "execution_count": 39,
   "metadata": {},
   "outputs": [],
   "source": [
    "dt1 = dt"
   ]
  },
  {
   "cell_type": "code",
   "execution_count": 40,
   "metadata": {},
   "outputs": [],
   "source": [
    "df1 = df"
   ]
  },
  {
   "cell_type": "code",
   "execution_count": 41,
   "metadata": {},
   "outputs": [],
   "source": [
    "cat_features = ['VehicleType', 'Gearbox', 'FuelType', 'NotRepaired']"
   ]
  },
  {
   "cell_type": "code",
   "execution_count": 42,
   "metadata": {},
   "outputs": [],
   "source": [
    "df = pd.get_dummies(df, drop_first=True)"
   ]
  },
  {
   "cell_type": "code",
   "execution_count": 43,
   "metadata": {},
   "outputs": [],
   "source": [
    "dt = pd.get_dummies(df, drop_first=True)"
   ]
  },
  {
   "cell_type": "markdown",
   "metadata": {},
   "source": [
    "Закодировал признаки прямым и порядковым кодированием, для того чтобы избежать большего количества однородных признаков.\n",
    "\n",
    "Так же кодирования важно для построения простых моделей обучения, у которых нет внутренних алгоритмов кодирования."
   ]
  },
  {
   "cell_type": "code",
   "execution_count": 44,
   "metadata": {},
   "outputs": [],
   "source": [
    "numeric = ['RegistrationYear_Category', 'Power', 'Kilometer', 'NumberOfPictures', 'brand_en', 'model_en']\n"
   ]
  },
  {
   "cell_type": "code",
   "execution_count": 45,
   "metadata": {},
   "outputs": [],
   "source": [
    "target_test = dt['Price']\n",
    "features_test = dt.drop('Price', axis=1) "
   ]
  },
  {
   "cell_type": "code",
   "execution_count": 46,
   "metadata": {},
   "outputs": [],
   "source": [
    "features_train, features_valid, target_train, target_valid = train_test_split(\n",
    "    df.drop('Price', axis=1), df['Price'], test_size=0.25, random_state=12345)"
   ]
  },
  {
   "cell_type": "code",
   "execution_count": 47,
   "metadata": {},
   "outputs": [],
   "source": [
    "scaler = StandardScaler()\n",
    "scaler.fit(features_train[numeric]) \n",
    "features_train[numeric] = scaler.transform(features_train[numeric])\n",
    "features_valid[numeric] = scaler.transform(features_valid[numeric])\n",
    "features_test[numeric] = scaler.transform(features_test[numeric])"
   ]
  },
  {
   "cell_type": "markdown",
   "metadata": {},
   "source": [
    "### Обучение моделей"
   ]
  },
  {
   "cell_type": "code",
   "execution_count": 48,
   "metadata": {},
   "outputs": [
    {
     "name": "stdout",
     "output_type": "stream",
     "text": [
      "Средняя цена на обучающей выборке: 4847.2165998894725\n"
     ]
    }
   ],
   "source": [
    "print('Средняя цена на обучающей выборке:', target_valid.sum() / len(target_valid))\n"
   ]
  },
  {
   "cell_type": "code",
   "execution_count": 49,
   "metadata": {},
   "outputs": [],
   "source": [
    "time_fit = []\n",
    "time_predict = []\n",
    "RMSE = []\n",
    "time_predict_t = []\n",
    "RMSE_t = []"
   ]
  },
  {
   "cell_type": "markdown",
   "metadata": {},
   "source": [
    "#### LinearRegression"
   ]
  },
  {
   "cell_type": "code",
   "execution_count": 50,
   "metadata": {},
   "outputs": [],
   "source": [
    "model = LinearRegression()\n"
   ]
  },
  {
   "cell_type": "markdown",
   "metadata": {},
   "source": [
    "**Обучение**"
   ]
  },
  {
   "cell_type": "code",
   "execution_count": 51,
   "metadata": {},
   "outputs": [
    {
     "name": "stdout",
     "output_type": "stream",
     "text": [
      "--- 0.379894495010376 seconds ---\n"
     ]
    }
   ],
   "source": [
    "start_time = time.time()\n",
    "\n",
    "model.fit(features_train, target_train)\n",
    "\n",
    "print(\"--- %s seconds ---\" % (time.time() - start_time))\n",
    "\n",
    "time_fit.append((time.time() - start_time))"
   ]
  },
  {
   "cell_type": "markdown",
   "metadata": {},
   "source": [
    "**Предсказание на валидационной выборке**"
   ]
  },
  {
   "cell_type": "code",
   "execution_count": 52,
   "metadata": {},
   "outputs": [
    {
     "name": "stdout",
     "output_type": "stream",
     "text": [
      "--- 0.008482933044433594 seconds ---\n"
     ]
    }
   ],
   "source": [
    "start_time = time.time()\n",
    "\n",
    "predictions_valid = model.predict(features_valid)\n",
    "\n",
    "print(\"--- %s seconds ---\" % (time.time() - start_time))\n",
    "\n",
    "time_predict.append((time.time() - start_time))\n"
   ]
  },
  {
   "cell_type": "code",
   "execution_count": 53,
   "metadata": {},
   "outputs": [
    {
     "name": "stdout",
     "output_type": "stream",
     "text": [
      "Средняя цена на предсказаниях: 4836.435303933031\n",
      "RMSE модели: 2894.4078522390323\n"
     ]
    }
   ],
   "source": [
    "rmse = mean_squared_error(target_valid, predictions_valid)**0.5\n",
    "\n",
    "mean_price = predictions_valid.sum() / len(predictions_valid)\n",
    "\n",
    "RMSE.append(rmse)\n",
    "\n",
    "\n",
    "print('Средняя цена на предсказаниях:', mean_price)\n",
    "print('RMSE модели:', rmse)\n"
   ]
  },
  {
   "cell_type": "markdown",
   "metadata": {},
   "source": [
    "**Предсказания на тестовой выборке**"
   ]
  },
  {
   "cell_type": "code",
   "execution_count": 54,
   "metadata": {},
   "outputs": [
    {
     "name": "stdout",
     "output_type": "stream",
     "text": [
      "--- 0.03603839874267578 seconds ---\n"
     ]
    }
   ],
   "source": [
    "start_time = time.time()\n",
    "\n",
    "predictions_valid = model.predict(features_test)\n",
    "\n",
    "print(\"--- %s seconds ---\" % (time.time() - start_time))\n",
    "\n",
    "time_predict_t.append((time.time() - start_time))\n"
   ]
  },
  {
   "cell_type": "code",
   "execution_count": 55,
   "metadata": {},
   "outputs": [
    {
     "name": "stdout",
     "output_type": "stream",
     "text": [
      "Средняя цена на предсказаниях: 4839.283797849613\n",
      "RMSE модели: 2862.5339826146624\n"
     ]
    }
   ],
   "source": [
    "rmse = mean_squared_error(target_test, predictions_valid)**0.5\n",
    "\n",
    "mean_price = predictions_valid.sum() / len(predictions_valid)\n",
    "\n",
    "RMSE_t.append(rmse)\n",
    "\n",
    "\n",
    "print('Средняя цена на предсказаниях:', mean_price)\n",
    "print('RMSE модели:', rmse)"
   ]
  },
  {
   "cell_type": "markdown",
   "metadata": {},
   "source": [
    "#### RandomForestRegressor"
   ]
  },
  {
   "cell_type": "markdown",
   "metadata": {},
   "source": [
    "**Подбор гиперпараметров** "
   ]
  },
  {
   "cell_type": "code",
   "execution_count": 56,
   "metadata": {},
   "outputs": [
    {
     "name": "stdout",
     "output_type": "stream",
     "text": [
      "RMSE модели: 3896.3995152198436 1 1\n",
      "RMSE модели: 3474.1835639575033 1 2\n",
      "RMSE модели: 3110.963826814246 1 3\n",
      "RMSE модели: 3896.382689034804 2 1\n",
      "RMSE модели: 3474.1175840785327 2 2\n",
      "RMSE модели: 3110.891646101179 2 3\n",
      "RMSE модели: 3896.3914213632615 3 1\n",
      "RMSE модели: 3474.1454552551154 3 2\n",
      "RMSE модели: 3110.958042741375 3 3\n"
     ]
    }
   ],
   "source": [
    "for est in range(1, 4):\n",
    "    for depth in range (1, 4):\n",
    "        model = RandomForestRegressor(random_state=12345, max_depth=depth, n_estimators=est)\n",
    "        model.fit(features_train, target_train)\n",
    "        predictions_valid = model.predict(features_valid)\n",
    "\n",
    "\n",
    "        rmse = mean_squared_error(target_valid, predictions_valid)**0.5\n",
    "        \n",
    "                    \n",
    "        print('RMSE модели:', rmse, est, depth)\n"
   ]
  },
  {
   "cell_type": "code",
   "execution_count": 57,
   "metadata": {},
   "outputs": [],
   "source": [
    "model = RandomForestRegressor(random_state=12345, max_depth=3, n_estimators=2)\n"
   ]
  },
  {
   "cell_type": "markdown",
   "metadata": {},
   "source": [
    "**Обучение**"
   ]
  },
  {
   "cell_type": "code",
   "execution_count": 58,
   "metadata": {},
   "outputs": [
    {
     "name": "stdout",
     "output_type": "stream",
     "text": [
      "--- 0.2094438076019287 seconds ---\n"
     ]
    }
   ],
   "source": [
    "start_time = time.time()\n",
    "\n",
    "model.fit(features_train, target_train)\n",
    "\n",
    "print(\"--- %s seconds ---\" % (time.time() - start_time))\n",
    "\n",
    "time_fit.append((time.time() - start_time))\n"
   ]
  },
  {
   "cell_type": "markdown",
   "metadata": {},
   "source": [
    "**Предсказание на валидационной выборке**"
   ]
  },
  {
   "cell_type": "code",
   "execution_count": 59,
   "metadata": {},
   "outputs": [
    {
     "name": "stdout",
     "output_type": "stream",
     "text": [
      "--- 0.009463310241699219 seconds ---\n"
     ]
    }
   ],
   "source": [
    "start_time = time.time()\n",
    "\n",
    "predictions_valid = model.predict(features_valid)\n",
    "\n",
    "print(\"--- %s seconds ---\" % (time.time() - start_time))\n",
    "\n",
    "time_predict.append((time.time() - start_time))\n"
   ]
  },
  {
   "cell_type": "code",
   "execution_count": 60,
   "metadata": {},
   "outputs": [
    {
     "name": "stdout",
     "output_type": "stream",
     "text": [
      "RMSE модели: 3110.891646101179\n"
     ]
    }
   ],
   "source": [
    "rmse = mean_squared_error(target_valid, predictions_valid)**0.5\n",
    "\n",
    "RMSE.append(rmse)\n",
    "\n",
    "print('RMSE модели:', rmse)\n"
   ]
  },
  {
   "cell_type": "code",
   "execution_count": 61,
   "metadata": {},
   "outputs": [
    {
     "data": {
      "text/plain": [
       "Text(0.5, 1.0, 'График важности факторов')"
      ]
     },
     "execution_count": 61,
     "metadata": {},
     "output_type": "execute_result"
    },
    {
     "data": {
      "image/png": "[encoded data removed]",
      "text/plain": [
       "<Figure size 720x360 with 1 Axes>"
      ]
     },
     "metadata": {
      "needs_background": "light"
     },
     "output_type": "display_data"
    }
   ],
   "source": [
    "pd.Series(model.feature_importances_, index=features_valid.columns).plot(kind='barh', figsize=(10, 5))\n",
    "plt.title('График важности факторов')"
   ]
  },
  {
   "cell_type": "markdown",
   "metadata": {},
   "source": [
    "**Предсказания на тестовой выборке**"
   ]
  },
  {
   "cell_type": "code",
   "execution_count": 62,
   "metadata": {},
   "outputs": [
    {
     "name": "stdout",
     "output_type": "stream",
     "text": [
      "--- 0.03796124458312988 seconds ---\n"
     ]
    }
   ],
   "source": [
    "start_time = time.time()\n",
    "\n",
    "predictions_valid = model.predict(features_test)\n",
    "\n",
    "print(\"--- %s seconds ---\" % (time.time() - start_time))\n",
    "\n",
    "time_predict_t.append((time.time() - start_time))\n"
   ]
  },
  {
   "cell_type": "code",
   "execution_count": 63,
   "metadata": {},
   "outputs": [
    {
     "name": "stdout",
     "output_type": "stream",
     "text": [
      "RMSE модели: 3099.388033096675\n"
     ]
    }
   ],
   "source": [
    "rmse = mean_squared_error(target_test, predictions_valid)**0.5\n",
    "\n",
    "RMSE_t.append(rmse)\n",
    "\n",
    "print('RMSE модели:', rmse)\n"
   ]
  },
  {
   "cell_type": "markdown",
   "metadata": {},
   "source": [
    "#### LGBMRegressor"
   ]
  },
  {
   "cell_type": "code",
   "execution_count": 64,
   "metadata": {},
   "outputs": [],
   "source": [
    "model = LGBMRegressor()\n"
   ]
  },
  {
   "cell_type": "markdown",
   "metadata": {},
   "source": [
    "**Обучение** "
   ]
  },
  {
   "cell_type": "code",
   "execution_count": 65,
   "metadata": {},
   "outputs": [
    {
     "name": "stdout",
     "output_type": "stream",
     "text": [
      "--- 344.80340218544006 seconds ---\n"
     ]
    }
   ],
   "source": [
    "start_time = time.time()\n",
    "\n",
    "model.fit(features_train, target_train)\n",
    "\n",
    "print(\"--- %s seconds ---\" % (time.time() - start_time))\n",
    "\n",
    "time_fit.append((time.time() - start_time))\n"
   ]
  },
  {
   "cell_type": "markdown",
   "metadata": {},
   "source": [
    "**Предсказание на валидационной выборке**"
   ]
  },
  {
   "cell_type": "code",
   "execution_count": 66,
   "metadata": {},
   "outputs": [
    {
     "name": "stdout",
     "output_type": "stream",
     "text": [
      "--- 0.39675211906433105 seconds ---\n"
     ]
    }
   ],
   "source": [
    "start_time = time.time()\n",
    "\n",
    "predictions_valid = model.predict(features_valid)\n",
    "\n",
    "print(\"--- %s seconds ---\" % (time.time() - start_time))\n",
    "\n",
    "time_predict.append((time.time() - start_time))\n"
   ]
  },
  {
   "cell_type": "code",
   "execution_count": 67,
   "metadata": {},
   "outputs": [
    {
     "name": "stdout",
     "output_type": "stream",
     "text": [
      "RMSE модели: 2054.1659682163368\n"
     ]
    }
   ],
   "source": [
    "rmse = mean_squared_error(target_valid, predictions_valid)**0.5\n",
    "\n",
    "RMSE.append(rmse)\n",
    "\n",
    "print('RMSE модели:', rmse)\n"
   ]
  },
  {
   "cell_type": "code",
   "execution_count": 68,
   "metadata": {},
   "outputs": [
    {
     "data": {
      "text/plain": [
       "Text(0.5, 1.0, 'График важности факторов')"
      ]
     },
     "execution_count": 68,
     "metadata": {},
     "output_type": "execute_result"
    },
    {
     "data": {
      "image/png": "[encoded data removed]",
      "text/plain": [
       "<Figure size 720x360 with 1 Axes>"
      ]
     },
     "metadata": {
      "needs_background": "light"
     },
     "output_type": "display_data"
    }
   ],
   "source": [
    "pd.Series(model.feature_importances_, index=features_valid.columns).plot(kind='barh', figsize=(10, 5))\n",
    "plt.title('График важности факторов')"
   ]
  },
  {
   "cell_type": "markdown",
   "metadata": {},
   "source": [
    "**Предсказания на тестовой выборке**"
   ]
  },
  {
   "cell_type": "code",
   "execution_count": 69,
   "metadata": {},
   "outputs": [
    {
     "name": "stdout",
     "output_type": "stream",
     "text": [
      "--- 1.530336618423462 seconds ---\n"
     ]
    }
   ],
   "source": [
    "start_time = time.time()\n",
    "\n",
    "predictions_valid = model.predict(features_test)\n",
    "\n",
    "print(\"--- %s seconds ---\" % (time.time() - start_time))\n",
    "\n",
    "time_predict_t.append((time.time() - start_time))\n"
   ]
  },
  {
   "cell_type": "code",
   "execution_count": 70,
   "metadata": {},
   "outputs": [
    {
     "name": "stdout",
     "output_type": "stream",
     "text": [
      "RMSE модели: 2017.6414344828304\n"
     ]
    }
   ],
   "source": [
    "rmse = mean_squared_error(target_test, predictions_valid)**0.5\n",
    "\n",
    "RMSE_t.append(rmse)\n",
    "\n",
    "print('RMSE модели:', rmse)\n"
   ]
  },
  {
   "cell_type": "markdown",
   "metadata": {},
   "source": [
    "#### CatBoostRegressor с закодированными категориальными призаками "
   ]
  },
  {
   "cell_type": "markdown",
   "metadata": {},
   "source": [
    "**Поиск оптимальных гиперпараметров**"
   ]
  },
  {
   "cell_type": "code",
   "execution_count": 71,
   "metadata": {},
   "outputs": [
    {
     "name": "stdout",
     "output_type": "stream",
     "text": [
      "RMSE модели: 2788.7371806872725 15\n",
      "RMSE модели: 2780.948330206659 16\n"
     ]
    }
   ],
   "source": [
    "for depth in range (15, 17):\n",
    "    model = CatBoostRegressor(iterations=100, learning_rate=0.01, depth=depth, verbose=False) \n",
    "    model.fit(features_train, target_train) \n",
    "    pred_valid = model.predict(features_valid) \n",
    "    rmse = mean_squared_error(target_valid, pred_valid)**0.5\n",
    "            \n",
    "    print('RMSE модели:', rmse, depth)"
   ]
  },
  {
   "cell_type": "code",
   "execution_count": 72,
   "metadata": {},
   "outputs": [
    {
     "name": "stdout",
     "output_type": "stream",
     "text": [
      "RMSE модели: 2292.1397299741648 0.02\n",
      "RMSE модели: 2146.7620231829214 0.03\n"
     ]
    }
   ],
   "source": [
    "learning_rate = [0.02, 0.03]\n",
    "for i in learning_rate:\n",
    "    model = CatBoostRegressor(iterations=100, learning_rate=i, depth=16, verbose=False) \n",
    "    model.fit(features_train, target_train) \n",
    "    pred_valid = model.predict(features_valid) \n",
    "    rmse = mean_squared_error(target_valid, pred_valid)**0.5\n",
    "            \n",
    "    print('RMSE модели:', rmse, i)"
   ]
  },
  {
   "cell_type": "code",
   "execution_count": 73,
   "metadata": {},
   "outputs": [],
   "source": [
    "model = CatBoostRegressor(iterations=100, learning_rate=0.04, depth=16, verbose=False) \n"
   ]
  },
  {
   "cell_type": "markdown",
   "metadata": {},
   "source": [
    "**Обучение**"
   ]
  },
  {
   "cell_type": "code",
   "execution_count": 74,
   "metadata": {},
   "outputs": [
    {
     "name": "stdout",
     "output_type": "stream",
     "text": [
      "--- 101.92275929450989 seconds ---\n"
     ]
    }
   ],
   "source": [
    "start_time = time.time()\n",
    "\n",
    "model.fit(features_train, target_train) \n",
    "\n",
    "print(\"--- %s seconds ---\" % (time.time() - start_time))\n",
    "\n",
    "time_fit.append((time.time() - start_time))\n"
   ]
  },
  {
   "cell_type": "markdown",
   "metadata": {},
   "source": [
    "**Предсказание на валидационной выборке** "
   ]
  },
  {
   "cell_type": "code",
   "execution_count": 75,
   "metadata": {},
   "outputs": [
    {
     "name": "stdout",
     "output_type": "stream",
     "text": [
      "--- 0.05013561248779297 seconds ---\n"
     ]
    }
   ],
   "source": [
    "start_time = time.time()\n",
    "\n",
    "pred_valid = model.predict(features_valid) \n",
    "\n",
    "print(\"--- %s seconds ---\" % (time.time() - start_time))\n",
    "\n",
    "time_predict.append((time.time() - start_time))\n"
   ]
  },
  {
   "cell_type": "code",
   "execution_count": 76,
   "metadata": {},
   "outputs": [
    {
     "name": "stdout",
     "output_type": "stream",
     "text": [
      "RMSE модели: 2082.1904160208146\n"
     ]
    }
   ],
   "source": [
    "rmse = mean_squared_error(target_valid, pred_valid)**0.5\n",
    "\n",
    "RMSE.append(rmse)\n",
    "\n",
    "print('RMSE модели:', rmse)\n"
   ]
  },
  {
   "cell_type": "code",
   "execution_count": 77,
   "metadata": {},
   "outputs": [
    {
     "data": {
      "text/plain": [
       "Text(0.5, 1.0, 'График важности факторов')"
      ]
     },
     "execution_count": 77,
     "metadata": {},
     "output_type": "execute_result"
    },
    {
     "data": {
      "image/png": "[encoded data removed]",
      "text/plain": [
       "<Figure size 720x360 with 1 Axes>"
      ]
     },
     "metadata": {
      "needs_background": "light"
     },
     "output_type": "display_data"
    }
   ],
   "source": [
    "pd.Series(model.feature_importances_, index=features_valid.columns).plot(kind='barh', figsize=(10, 5))\n",
    "plt.title('График важности факторов')"
   ]
  },
  {
   "cell_type": "markdown",
   "metadata": {},
   "source": [
    "**Предсказания на тестовой выборке**"
   ]
  },
  {
   "cell_type": "code",
   "execution_count": 78,
   "metadata": {},
   "outputs": [
    {
     "name": "stdout",
     "output_type": "stream",
     "text": [
      "--- 0.1851654052734375 seconds ---\n"
     ]
    }
   ],
   "source": [
    "start_time = time.time()\n",
    "\n",
    "pred_valid = model.predict(features_test) \n",
    "\n",
    "print(\"--- %s seconds ---\" % (time.time() - start_time))\n",
    "\n",
    "time_predict_t.append((time.time() - start_time))\n"
   ]
  },
  {
   "cell_type": "code",
   "execution_count": 79,
   "metadata": {},
   "outputs": [
    {
     "name": "stdout",
     "output_type": "stream",
     "text": [
      "RMSE модели: 2001.4014842112515\n"
     ]
    }
   ],
   "source": [
    "rmse = mean_squared_error(target_test, pred_valid)**0.5\n",
    "\n",
    "RMSE_t.append(rmse)\n",
    "\n",
    "print('RMSE модели:', rmse)\n"
   ]
  },
  {
   "cell_type": "markdown",
   "metadata": {},
   "source": [
    "#### CatBoostRegressor без кодировки категориальных признаков "
   ]
  },
  {
   "cell_type": "code",
   "execution_count": 80,
   "metadata": {},
   "outputs": [],
   "source": [
    "del features_train\n",
    "del features_valid\n",
    "del target_train\n",
    "del target_valid\n",
    "del features_test\n",
    "del target_test"
   ]
  },
  {
   "cell_type": "code",
   "execution_count": 81,
   "metadata": {},
   "outputs": [],
   "source": [
    "target_test = dt1['Price']\n",
    "features_test = dt1.drop('Price', axis=1) "
   ]
  },
  {
   "cell_type": "code",
   "execution_count": 82,
   "metadata": {},
   "outputs": [],
   "source": [
    "features_train, features_valid, target_train, target_valid = train_test_split(\n",
    "    df1.drop('Price', axis=1), df1['Price'], test_size=0.25, random_state=12345)"
   ]
  },
  {
   "cell_type": "code",
   "execution_count": 83,
   "metadata": {},
   "outputs": [],
   "source": [
    "model = CatBoostRegressor(iterations=100, learning_rate=0.04, depth=16, verbose=False) "
   ]
  },
  {
   "cell_type": "markdown",
   "metadata": {},
   "source": [
    "**Обучение**"
   ]
  },
  {
   "cell_type": "code",
   "execution_count": 84,
   "metadata": {},
   "outputs": [
    {
     "name": "stdout",
     "output_type": "stream",
     "text": [
      "--- 141.46974182128906 seconds ---\n"
     ]
    }
   ],
   "source": [
    "start_time = time.time()\n",
    "\n",
    "model.fit(features_train, target_train, cat_features=cat_features) \n",
    "\n",
    "print(\"--- %s seconds ---\" % (time.time() - start_time))\n",
    "\n",
    "time_fit.append((time.time() - start_time))\n"
   ]
  },
  {
   "cell_type": "markdown",
   "metadata": {},
   "source": [
    "**Предсказание на валидационной выборке** "
   ]
  },
  {
   "cell_type": "code",
   "execution_count": 85,
   "metadata": {},
   "outputs": [
    {
     "name": "stdout",
     "output_type": "stream",
     "text": [
      "--- 0.0795447826385498 seconds ---\n"
     ]
    }
   ],
   "source": [
    "start_time = time.time()\n",
    "\n",
    "pred_valid = model.predict(features_valid) \n",
    "\n",
    "print(\"--- %s seconds ---\" % (time.time() - start_time))\n",
    "\n",
    "time_predict.append((time.time() - start_time))"
   ]
  },
  {
   "cell_type": "code",
   "execution_count": 86,
   "metadata": {},
   "outputs": [
    {
     "name": "stdout",
     "output_type": "stream",
     "text": [
      "RMSE модели: 2114.2589214626123\n"
     ]
    }
   ],
   "source": [
    "rmse = mean_squared_error(target_valid, pred_valid)**0.5\n",
    "\n",
    "RMSE.append(rmse)\n",
    "\n",
    "print('RMSE модели:', rmse)"
   ]
  },
  {
   "cell_type": "code",
   "execution_count": 87,
   "metadata": {},
   "outputs": [
    {
     "data": {
      "text/plain": [
       "Text(0.5, 1.0, 'График важности факторов')"
      ]
     },
     "execution_count": 87,
     "metadata": {},
     "output_type": "execute_result"
    },
    {
     "data": {
      "image/png": "[encoded data removed]",
      "text/plain": [
       "<Figure size 720x360 with 1 Axes>"
      ]
     },
     "metadata": {
      "needs_background": "light"
     },
     "output_type": "display_data"
    }
   ],
   "source": [
    "pd.Series(model.feature_importances_, index=features_valid.columns).plot(kind='barh', figsize=(10, 5))\n",
    "plt.title('График важности факторов')"
   ]
  },
  {
   "cell_type": "markdown",
   "metadata": {},
   "source": [
    "**Предсказания на тестовой выборке**"
   ]
  },
  {
   "cell_type": "code",
   "execution_count": 88,
   "metadata": {},
   "outputs": [
    {
     "name": "stdout",
     "output_type": "stream",
     "text": [
      "--- 0.05714106559753418 seconds ---\n"
     ]
    }
   ],
   "source": [
    "start_time = time.time()\n",
    "\n",
    "pred_valid = model.predict(features_test) \n",
    "\n",
    "print(\"--- %s seconds ---\" % (time.time() - start_time))\n",
    "\n",
    "time_predict_t.append((time.time() - start_time))"
   ]
  },
  {
   "cell_type": "code",
   "execution_count": 89,
   "metadata": {},
   "outputs": [
    {
     "name": "stdout",
     "output_type": "stream",
     "text": [
      "RMSE модели: 2122.935888625295\n"
     ]
    }
   ],
   "source": [
    "rmse = mean_squared_error(target_test, pred_valid)**0.5\n",
    "\n",
    "RMSE_t.append(rmse)\n",
    "\n",
    "print('RMSE модели:', rmse)"
   ]
  },
  {
   "cell_type": "markdown",
   "metadata": {},
   "source": [
    "## Анализ моделей"
   ]
  },
  {
   "cell_type": "code",
   "execution_count": 90,
   "metadata": {},
   "outputs": [],
   "source": [
    "df_time = pd.DataFrame({'time_fit': time_fit, 'time_predict': time_predict, 'RMSE': RMSE})\n",
    "\n",
    "df_time.index = ['LinearRegression', 'RandomForestRegressor', 'LGBMRegressor', 'CatBoostRegressor_coding', 'CatBoostRegressor_none_coding']"
   ]
  },
  {
   "cell_type": "code",
   "execution_count": 91,
   "metadata": {},
   "outputs": [],
   "source": [
    "dt_time = pd.DataFrame({'time_fit': time_fit, 'time_predict': time_predict_t, 'RMSE': RMSE_t})\n",
    "\n",
    "dt_time.index = ['LinearRegression', 'RandomForestRegressor', 'LGBMRegressor', 'CatBoostRegressor_coding', 'CatBoostRegressor_none_coding']"
   ]
  },
  {
   "cell_type": "markdown",
   "metadata": {},
   "source": [
    "**На тренировочных данных:**"
   ]
  },
  {
   "cell_type": "code",
   "execution_count": 92,
   "metadata": {},
   "outputs": [
    {
     "data": {
      "text/html": [
       "<div>\n",
       "<style scoped>\n",
       "    .dataframe tbody tr th:only-of-type {\n",
       "        vertical-align: middle;\n",
       "    }\n",
       "\n",
       "    .dataframe tbody tr th {\n",
       "        vertical-align: top;\n",
       "    }\n",
       "\n",
       "    .dataframe thead th {\n",
       "        text-align: right;\n",
       "    }\n",
       "</style>\n",
       "<table border=\"1\" class=\"dataframe\">\n",
       "  <thead>\n",
       "    <tr style=\"text-align: right;\">\n",
       "      <th></th>\n",
       "      <th>time_fit</th>\n",
       "      <th>time_predict</th>\n",
       "      <th>RMSE</th>\n",
       "    </tr>\n",
       "  </thead>\n",
       "  <tbody>\n",
       "    <tr>\n",
       "      <th>LinearRegression</th>\n",
       "      <td>0.380128</td>\n",
       "      <td>0.008651</td>\n",
       "      <td>2894.407852</td>\n",
       "    </tr>\n",
       "    <tr>\n",
       "      <th>RandomForestRegressor</th>\n",
       "      <td>0.210059</td>\n",
       "      <td>0.009629</td>\n",
       "      <td>3110.891646</td>\n",
       "    </tr>\n",
       "    <tr>\n",
       "      <th>LGBMRegressor</th>\n",
       "      <td>344.803712</td>\n",
       "      <td>0.397256</td>\n",
       "      <td>2054.165968</td>\n",
       "    </tr>\n",
       "    <tr>\n",
       "      <th>CatBoostRegressor_coding</th>\n",
       "      <td>101.922935</td>\n",
       "      <td>0.050264</td>\n",
       "      <td>2082.190416</td>\n",
       "    </tr>\n",
       "    <tr>\n",
       "      <th>CatBoostRegressor_none_coding</th>\n",
       "      <td>141.469929</td>\n",
       "      <td>0.079683</td>\n",
       "      <td>2114.258921</td>\n",
       "    </tr>\n",
       "  </tbody>\n",
       "</table>\n",
       "</div>"
      ],
      "text/plain": [
       "                                 time_fit  time_predict         RMSE\n",
       "LinearRegression                 0.380128      0.008651  2894.407852\n",
       "RandomForestRegressor            0.210059      0.009629  3110.891646\n",
       "LGBMRegressor                  344.803712      0.397256  2054.165968\n",
       "CatBoostRegressor_coding       101.922935      0.050264  2082.190416\n",
       "CatBoostRegressor_none_coding  141.469929      0.079683  2114.258921"
      ]
     },
     "metadata": {},
     "output_type": "display_data"
    }
   ],
   "source": [
    "display(df_time)"
   ]
  },
  {
   "cell_type": "markdown",
   "metadata": {},
   "source": [
    "**На тестовых данных:**"
   ]
  },
  {
   "cell_type": "code",
   "execution_count": 93,
   "metadata": {},
   "outputs": [
    {
     "data": {
      "text/html": [
       "<div>\n",
       "<style scoped>\n",
       "    .dataframe tbody tr th:only-of-type {\n",
       "        vertical-align: middle;\n",
       "    }\n",
       "\n",
       "    .dataframe tbody tr th {\n",
       "        vertical-align: top;\n",
       "    }\n",
       "\n",
       "    .dataframe thead th {\n",
       "        text-align: right;\n",
       "    }\n",
       "</style>\n",
       "<table border=\"1\" class=\"dataframe\">\n",
       "  <thead>\n",
       "    <tr style=\"text-align: right;\">\n",
       "      <th></th>\n",
       "      <th>time_fit</th>\n",
       "      <th>time_predict</th>\n",
       "      <th>RMSE</th>\n",
       "    </tr>\n",
       "  </thead>\n",
       "  <tbody>\n",
       "    <tr>\n",
       "      <th>LinearRegression</th>\n",
       "      <td>0.380128</td>\n",
       "      <td>0.036731</td>\n",
       "      <td>2862.533983</td>\n",
       "    </tr>\n",
       "    <tr>\n",
       "      <th>RandomForestRegressor</th>\n",
       "      <td>0.210059</td>\n",
       "      <td>0.038125</td>\n",
       "      <td>3099.388033</td>\n",
       "    </tr>\n",
       "    <tr>\n",
       "      <th>LGBMRegressor</th>\n",
       "      <td>344.803712</td>\n",
       "      <td>1.530565</td>\n",
       "      <td>2017.641434</td>\n",
       "    </tr>\n",
       "    <tr>\n",
       "      <th>CatBoostRegressor_coding</th>\n",
       "      <td>101.922935</td>\n",
       "      <td>0.185329</td>\n",
       "      <td>2001.401484</td>\n",
       "    </tr>\n",
       "    <tr>\n",
       "      <th>CatBoostRegressor_none_coding</th>\n",
       "      <td>141.469929</td>\n",
       "      <td>0.057285</td>\n",
       "      <td>2122.935889</td>\n",
       "    </tr>\n",
       "  </tbody>\n",
       "</table>\n",
       "</div>"
      ],
      "text/plain": [
       "                                 time_fit  time_predict         RMSE\n",
       "LinearRegression                 0.380128      0.036731  2862.533983\n",
       "RandomForestRegressor            0.210059      0.038125  3099.388033\n",
       "LGBMRegressor                  344.803712      1.530565  2017.641434\n",
       "CatBoostRegressor_coding       101.922935      0.185329  2001.401484\n",
       "CatBoostRegressor_none_coding  141.469929      0.057285  2122.935889"
      ]
     },
     "metadata": {},
     "output_type": "display_data"
    }
   ],
   "source": [
    "display(dt_time)"
   ]
  },
  {
   "cell_type": "markdown",
   "metadata": {},
   "source": [
    "## Вывод"
   ]
  },
  {
   "cell_type": "markdown",
   "metadata": {},
   "source": [
    "**Самое быстрое обучение у RandomForestRegressor.**\n",
    "\n",
    "**Самое маленькое время на предсказания так же у RandomForestRegressor.**\n",
    "\n",
    "**Лучшая метрика качества у CatBoostRegressor_coding.**\n",
    "\n",
    "**Вот такие дела.**"
   ]
  }
 ],
 "metadata": {
  "ExecuteTimeLog": [
   {
    "duration": 778,
    "start_time": "2021-11-30T08:12:46.850Z"
   },
   {
    "duration": 1687,
    "start_time": "2021-11-30T08:12:47.631Z"
   },
   {
    "duration": 1347,
    "start_time": "2021-11-30T08:12:57.228Z"
   },
   {
    "duration": 255,
    "start_time": "2021-11-30T08:13:33.920Z"
   },
   {
    "duration": 256,
    "start_time": "2021-11-30T08:13:42.275Z"
   },
   {
    "duration": 667,
    "start_time": "2021-11-30T08:14:00.063Z"
   },
   {
    "duration": 1373,
    "start_time": "2021-11-30T08:14:43.611Z"
   },
   {
    "duration": 1363,
    "start_time": "2021-11-30T08:14:47.136Z"
   },
   {
    "duration": 181,
    "start_time": "2021-11-30T08:15:05.045Z"
   },
   {
    "duration": 43,
    "start_time": "2021-11-30T08:17:17.095Z"
   },
   {
    "duration": 44,
    "start_time": "2021-11-30T08:18:28.272Z"
   },
   {
    "duration": 44,
    "start_time": "2021-11-30T08:18:45.532Z"
   },
   {
    "duration": 66,
    "start_time": "2021-11-30T08:19:33.104Z"
   },
   {
    "duration": 67,
    "start_time": "2021-11-30T08:19:50.923Z"
   },
   {
    "duration": 27,
    "start_time": "2021-11-30T08:21:05.832Z"
   },
   {
    "duration": 23,
    "start_time": "2021-11-30T08:21:14.690Z"
   },
   {
    "duration": 64,
    "start_time": "2021-11-30T08:22:22.323Z"
   },
   {
    "duration": 27,
    "start_time": "2021-11-30T08:23:41.523Z"
   },
   {
    "duration": 70,
    "start_time": "2021-11-30T08:24:07.171Z"
   },
   {
    "duration": 45,
    "start_time": "2021-11-30T08:24:26.241Z"
   },
   {
    "duration": 26,
    "start_time": "2021-11-30T08:27:50.226Z"
   },
   {
    "duration": 65,
    "start_time": "2021-11-30T08:28:24.975Z"
   },
   {
    "duration": 38,
    "start_time": "2021-11-30T08:29:42.245Z"
   },
   {
    "duration": 70,
    "start_time": "2021-11-30T08:30:12.976Z"
   },
   {
    "duration": 29,
    "start_time": "2021-11-30T08:31:14.463Z"
   },
   {
    "duration": 149,
    "start_time": "2021-11-30T08:31:27.977Z"
   },
   {
    "duration": 189,
    "start_time": "2021-11-30T08:36:33.214Z"
   },
   {
    "duration": 444,
    "start_time": "2021-11-30T08:36:35.997Z"
   },
   {
    "duration": 105,
    "start_time": "2021-11-30T08:36:36.444Z"
   },
   {
    "duration": 60,
    "start_time": "2021-11-30T08:36:36.684Z"
   },
   {
    "duration": 25,
    "start_time": "2021-11-30T08:36:36.924Z"
   },
   {
    "duration": 60,
    "start_time": "2021-11-30T08:36:37.548Z"
   },
   {
    "duration": 24,
    "start_time": "2021-11-30T08:36:37.805Z"
   },
   {
    "duration": 43,
    "start_time": "2021-11-30T08:36:38.374Z"
   },
   {
    "duration": 24,
    "start_time": "2021-11-30T08:36:38.621Z"
   },
   {
    "duration": 100,
    "start_time": "2021-11-30T08:36:39.338Z"
   },
   {
    "duration": 37,
    "start_time": "2021-11-30T08:36:39.574Z"
   },
   {
    "duration": 66,
    "start_time": "2021-11-30T08:36:39.986Z"
   },
   {
    "duration": 26,
    "start_time": "2021-11-30T08:36:40.204Z"
   },
   {
    "duration": 110,
    "start_time": "2021-11-30T08:36:40.477Z"
   },
   {
    "duration": 1360,
    "start_time": "2021-11-30T08:40:08.732Z"
   },
   {
    "duration": 270,
    "start_time": "2021-11-30T08:43:16.431Z"
   },
   {
    "duration": 863,
    "start_time": "2021-11-30T08:43:20.363Z"
   },
   {
    "duration": 2087,
    "start_time": "2021-11-30T08:43:21.230Z"
   },
   {
    "duration": 304,
    "start_time": "2021-11-30T08:43:23.321Z"
   },
   {
    "duration": 915,
    "start_time": "2021-11-30T08:43:23.629Z"
   },
   {
    "duration": 164,
    "start_time": "2021-11-30T08:43:24.548Z"
   },
   {
    "duration": 83,
    "start_time": "2021-11-30T08:43:24.715Z"
   },
   {
    "duration": 27,
    "start_time": "2021-11-30T08:43:24.802Z"
   },
   {
    "duration": 90,
    "start_time": "2021-11-30T08:43:24.835Z"
   },
   {
    "duration": 46,
    "start_time": "2021-11-30T08:43:24.927Z"
   },
   {
    "duration": 46,
    "start_time": "2021-11-30T08:43:24.976Z"
   },
   {
    "duration": 47,
    "start_time": "2021-11-30T08:43:25.025Z"
   },
   {
    "duration": 66,
    "start_time": "2021-11-30T08:43:25.074Z"
   },
   {
    "duration": 45,
    "start_time": "2021-11-30T08:43:25.143Z"
   },
   {
    "duration": 63,
    "start_time": "2021-11-30T08:43:25.191Z"
   },
   {
    "duration": 28,
    "start_time": "2021-11-30T08:43:25.268Z"
   },
   {
    "duration": 114,
    "start_time": "2021-11-30T08:43:25.299Z"
   },
   {
    "duration": 1366,
    "start_time": "2021-11-30T08:43:25.416Z"
   },
   {
    "duration": 1160,
    "start_time": "2021-11-30T08:43:26.784Z"
   },
   {
    "duration": 4,
    "start_time": "2021-11-30T08:43:56.295Z"
   },
   {
    "duration": 1085,
    "start_time": "2021-11-30T08:44:10.564Z"
   },
   {
    "duration": 16,
    "start_time": "2021-11-30T08:44:11.651Z"
   },
   {
    "duration": 49,
    "start_time": "2021-11-30T08:48:20.543Z"
   },
   {
    "duration": 1318,
    "start_time": "2021-11-30T09:04:04.655Z"
   },
   {
    "duration": 1321,
    "start_time": "2021-11-30T09:04:05.976Z"
   },
   {
    "duration": 239,
    "start_time": "2021-11-30T09:04:07.300Z"
   },
   {
    "duration": 581,
    "start_time": "2021-11-30T09:04:07.541Z"
   },
   {
    "duration": 104,
    "start_time": "2021-11-30T09:04:08.125Z"
   },
   {
    "duration": 72,
    "start_time": "2021-11-30T09:04:08.231Z"
   },
   {
    "duration": 26,
    "start_time": "2021-11-30T09:04:08.306Z"
   },
   {
    "duration": 81,
    "start_time": "2021-11-30T09:04:08.336Z"
   },
   {
    "duration": 26,
    "start_time": "2021-11-30T09:04:08.420Z"
   },
   {
    "duration": 61,
    "start_time": "2021-11-30T09:04:08.449Z"
   },
   {
    "duration": 35,
    "start_time": "2021-11-30T09:04:08.513Z"
   },
   {
    "duration": 74,
    "start_time": "2021-11-30T09:04:08.551Z"
   },
   {
    "duration": 44,
    "start_time": "2021-11-30T09:04:08.627Z"
   },
   {
    "duration": 62,
    "start_time": "2021-11-30T09:04:08.674Z"
   },
   {
    "duration": 49,
    "start_time": "2021-11-30T09:04:08.739Z"
   },
   {
    "duration": 98,
    "start_time": "2021-11-30T09:04:10.237Z"
   },
   {
    "duration": 415,
    "start_time": "2021-11-30T09:04:10.843Z"
   },
   {
    "duration": 3,
    "start_time": "2021-11-30T09:04:28.945Z"
   },
   {
    "duration": 7,
    "start_time": "2021-11-30T09:04:50.544Z"
   },
   {
    "duration": 1280,
    "start_time": "2021-11-30T09:08:19.302Z"
   },
   {
    "duration": 1339,
    "start_time": "2021-11-30T09:08:20.585Z"
   },
   {
    "duration": 240,
    "start_time": "2021-11-30T09:08:21.927Z"
   },
   {
    "duration": 598,
    "start_time": "2021-11-30T09:08:22.169Z"
   },
   {
    "duration": 105,
    "start_time": "2021-11-30T09:08:22.769Z"
   },
   {
    "duration": 62,
    "start_time": "2021-11-30T09:08:22.877Z"
   },
   {
    "duration": 47,
    "start_time": "2021-11-30T09:08:22.942Z"
   },
   {
    "duration": 59,
    "start_time": "2021-11-30T09:08:22.992Z"
   },
   {
    "duration": 39,
    "start_time": "2021-11-30T09:08:23.055Z"
   },
   {
    "duration": 71,
    "start_time": "2021-11-30T09:08:23.096Z"
   },
   {
    "duration": 28,
    "start_time": "2021-11-30T09:08:23.170Z"
   },
   {
    "duration": 77,
    "start_time": "2021-11-30T09:08:23.201Z"
   },
   {
    "duration": 25,
    "start_time": "2021-11-30T09:08:23.280Z"
   },
   {
    "duration": 77,
    "start_time": "2021-11-30T09:08:23.307Z"
   },
   {
    "duration": 26,
    "start_time": "2021-11-30T09:08:23.387Z"
   },
   {
    "duration": 104,
    "start_time": "2021-11-30T09:08:23.415Z"
   },
   {
    "duration": 396,
    "start_time": "2021-11-30T09:08:23.521Z"
   },
   {
    "duration": 1233,
    "start_time": "2021-11-30T09:08:58.880Z"
   },
   {
    "duration": 1251,
    "start_time": "2021-11-30T09:09:27.472Z"
   },
   {
    "duration": 1423,
    "start_time": "2021-11-30T09:12:40.359Z"
   },
   {
    "duration": 1421,
    "start_time": "2021-11-30T09:12:41.785Z"
   },
   {
    "duration": 286,
    "start_time": "2021-11-30T09:12:43.213Z"
   },
   {
    "duration": 680,
    "start_time": "2021-11-30T09:12:43.502Z"
   },
   {
    "duration": 116,
    "start_time": "2021-11-30T09:12:44.185Z"
   },
   {
    "duration": 81,
    "start_time": "2021-11-30T09:12:44.304Z"
   },
   {
    "duration": 34,
    "start_time": "2021-11-30T09:12:44.388Z"
   },
   {
    "duration": 69,
    "start_time": "2021-11-30T09:12:44.425Z"
   },
   {
    "duration": 28,
    "start_time": "2021-11-30T09:12:44.496Z"
   },
   {
    "duration": 59,
    "start_time": "2021-11-30T09:12:44.527Z"
   },
   {
    "duration": 33,
    "start_time": "2021-11-30T09:12:44.589Z"
   },
   {
    "duration": 76,
    "start_time": "2021-11-30T09:12:44.625Z"
   },
   {
    "duration": 31,
    "start_time": "2021-11-30T09:12:44.704Z"
   },
   {
    "duration": 84,
    "start_time": "2021-11-30T09:12:44.738Z"
   },
   {
    "duration": 42,
    "start_time": "2021-11-30T09:12:44.825Z"
   },
   {
    "duration": 96,
    "start_time": "2021-11-30T09:12:45.861Z"
   },
   {
    "duration": 4,
    "start_time": "2021-11-30T09:12:46.440Z"
   },
   {
    "duration": 8,
    "start_time": "2021-11-30T09:12:47.140Z"
   },
   {
    "duration": 20,
    "start_time": "2021-11-30T09:13:00.241Z"
   },
   {
    "duration": 192,
    "start_time": "2021-11-30T09:13:53.344Z"
   },
   {
    "duration": 198,
    "start_time": "2021-11-30T09:13:59.429Z"
   },
   {
    "duration": 1322,
    "start_time": "2021-11-30T09:15:20.046Z"
   },
   {
    "duration": 1319,
    "start_time": "2021-11-30T09:15:21.371Z"
   },
   {
    "duration": 242,
    "start_time": "2021-11-30T09:15:22.694Z"
   },
   {
    "duration": 590,
    "start_time": "2021-11-30T09:15:22.939Z"
   },
   {
    "duration": 100,
    "start_time": "2021-11-30T09:15:23.531Z"
   },
   {
    "duration": 79,
    "start_time": "2021-11-30T09:15:23.634Z"
   },
   {
    "duration": 27,
    "start_time": "2021-11-30T09:15:23.716Z"
   },
   {
    "duration": 76,
    "start_time": "2021-11-30T09:15:23.747Z"
   },
   {
    "duration": 42,
    "start_time": "2021-11-30T09:15:23.825Z"
   },
   {
    "duration": 43,
    "start_time": "2021-11-30T09:15:23.869Z"
   },
   {
    "duration": 31,
    "start_time": "2021-11-30T09:15:23.914Z"
   },
   {
    "duration": 79,
    "start_time": "2021-11-30T09:15:23.947Z"
   },
   {
    "duration": 43,
    "start_time": "2021-11-30T09:15:24.028Z"
   },
   {
    "duration": 61,
    "start_time": "2021-11-30T09:15:24.073Z"
   },
   {
    "duration": 42,
    "start_time": "2021-11-30T09:15:24.136Z"
   },
   {
    "duration": 108,
    "start_time": "2021-11-30T09:15:24.181Z"
   },
   {
    "duration": 5,
    "start_time": "2021-11-30T09:15:24.293Z"
   },
   {
    "duration": 15,
    "start_time": "2021-11-30T09:15:27.464Z"
   },
   {
    "duration": 106,
    "start_time": "2021-11-30T09:15:28.509Z"
   },
   {
    "duration": 7,
    "start_time": "2021-11-30T09:15:42.547Z"
   },
   {
    "duration": 5,
    "start_time": "2021-11-30T09:16:16.451Z"
   },
   {
    "duration": 5,
    "start_time": "2021-11-30T09:17:26.884Z"
   },
   {
    "duration": 33,
    "start_time": "2021-11-30T09:17:35.783Z"
   },
   {
    "duration": 25,
    "start_time": "2021-11-30T09:18:49.999Z"
   },
   {
    "duration": 1336,
    "start_time": "2021-11-30T09:22:19.605Z"
   },
   {
    "duration": 1331,
    "start_time": "2021-11-30T09:22:20.944Z"
   },
   {
    "duration": 237,
    "start_time": "2021-11-30T09:22:22.279Z"
   },
   {
    "duration": 597,
    "start_time": "2021-11-30T09:22:22.519Z"
   },
   {
    "duration": 104,
    "start_time": "2021-11-30T09:22:23.119Z"
   },
   {
    "duration": 77,
    "start_time": "2021-11-30T09:22:23.225Z"
   },
   {
    "duration": 29,
    "start_time": "2021-11-30T09:22:23.305Z"
   },
   {
    "duration": 73,
    "start_time": "2021-11-30T09:22:23.338Z"
   },
   {
    "duration": 43,
    "start_time": "2021-11-30T09:22:23.415Z"
   },
   {
    "duration": 51,
    "start_time": "2021-11-30T09:22:23.461Z"
   },
   {
    "duration": 60,
    "start_time": "2021-11-30T09:22:23.516Z"
   },
   {
    "duration": 116,
    "start_time": "2021-11-30T09:22:23.579Z"
   },
   {
    "duration": 37,
    "start_time": "2021-11-30T09:22:23.698Z"
   },
   {
    "duration": 137,
    "start_time": "2021-11-30T09:22:23.739Z"
   },
   {
    "duration": 41,
    "start_time": "2021-11-30T09:22:23.879Z"
   },
   {
    "duration": 115,
    "start_time": "2021-11-30T09:22:23.923Z"
   },
   {
    "duration": 615,
    "start_time": "2021-11-30T09:22:24.040Z"
   },
   {
    "duration": -89,
    "start_time": "2021-11-30T09:22:24.747Z"
   },
   {
    "duration": -90,
    "start_time": "2021-11-30T09:22:24.749Z"
   },
   {
    "duration": -90,
    "start_time": "2021-11-30T09:22:24.750Z"
   },
   {
    "duration": -142,
    "start_time": "2021-11-30T09:22:24.804Z"
   },
   {
    "duration": 6680,
    "start_time": "2021-11-30T09:22:33.441Z"
   },
   {
    "duration": 7104,
    "start_time": "2021-11-30T09:23:07.858Z"
   },
   {
    "duration": 1274,
    "start_time": "2021-11-30T09:23:30.102Z"
   },
   {
    "duration": 1353,
    "start_time": "2021-11-30T09:23:31.378Z"
   },
   {
    "duration": 240,
    "start_time": "2021-11-30T09:23:32.735Z"
   },
   {
    "duration": 619,
    "start_time": "2021-11-30T09:23:32.978Z"
   },
   {
    "duration": 105,
    "start_time": "2021-11-30T09:23:33.600Z"
   },
   {
    "duration": 77,
    "start_time": "2021-11-30T09:23:33.708Z"
   },
   {
    "duration": 28,
    "start_time": "2021-11-30T09:23:33.787Z"
   },
   {
    "duration": 75,
    "start_time": "2021-11-30T09:23:33.819Z"
   },
   {
    "duration": 28,
    "start_time": "2021-11-30T09:23:33.897Z"
   },
   {
    "duration": 68,
    "start_time": "2021-11-30T09:23:33.927Z"
   },
   {
    "duration": 44,
    "start_time": "2021-11-30T09:23:33.999Z"
   },
   {
    "duration": 128,
    "start_time": "2021-11-30T09:23:34.047Z"
   },
   {
    "duration": 38,
    "start_time": "2021-11-30T09:23:34.178Z"
   },
   {
    "duration": 118,
    "start_time": "2021-11-30T09:23:34.219Z"
   },
   {
    "duration": 55,
    "start_time": "2021-11-30T09:23:34.340Z"
   },
   {
    "duration": 169,
    "start_time": "2021-11-30T09:23:34.398Z"
   },
   {
    "duration": 221,
    "start_time": "2021-11-30T09:23:34.570Z"
   },
   {
    "duration": 307,
    "start_time": "2021-11-30T09:23:34.794Z"
   },
   {
    "duration": 380,
    "start_time": "2021-11-30T09:23:35.105Z"
   },
   {
    "duration": 6,
    "start_time": "2021-11-30T09:23:37.221Z"
   },
   {
    "duration": 65,
    "start_time": "2021-11-30T09:23:37.541Z"
   },
   {
    "duration": 1377,
    "start_time": "2021-11-30T09:26:18.034Z"
   },
   {
    "duration": 1364,
    "start_time": "2021-11-30T09:26:19.414Z"
   },
   {
    "duration": 245,
    "start_time": "2021-11-30T09:26:20.781Z"
   },
   {
    "duration": 588,
    "start_time": "2021-11-30T09:26:21.029Z"
   },
   {
    "duration": 105,
    "start_time": "2021-11-30T09:26:21.620Z"
   },
   {
    "duration": 75,
    "start_time": "2021-11-30T09:26:21.727Z"
   },
   {
    "duration": 27,
    "start_time": "2021-11-30T09:26:21.804Z"
   },
   {
    "duration": 80,
    "start_time": "2021-11-30T09:26:21.835Z"
   },
   {
    "duration": 27,
    "start_time": "2021-11-30T09:26:21.918Z"
   },
   {
    "duration": 44,
    "start_time": "2021-11-30T09:26:24.185Z"
   },
   {
    "duration": 25,
    "start_time": "2021-11-30T09:26:24.447Z"
   },
   {
    "duration": 64,
    "start_time": "2021-11-30T09:26:24.924Z"
   },
   {
    "duration": 25,
    "start_time": "2021-11-30T09:26:25.216Z"
   },
   {
    "duration": 62,
    "start_time": "2021-11-30T09:26:26.059Z"
   },
   {
    "duration": 27,
    "start_time": "2021-11-30T09:26:27.084Z"
   },
   {
    "duration": 96,
    "start_time": "2021-11-30T09:26:27.482Z"
   },
   {
    "duration": 62,
    "start_time": "2021-11-30T09:26:30.559Z"
   },
   {
    "duration": 1320,
    "start_time": "2021-11-30T09:29:14.994Z"
   },
   {
    "duration": 1336,
    "start_time": "2021-11-30T09:29:16.317Z"
   },
   {
    "duration": 233,
    "start_time": "2021-11-30T09:29:17.655Z"
   },
   {
    "duration": 613,
    "start_time": "2021-11-30T09:29:17.891Z"
   },
   {
    "duration": 101,
    "start_time": "2021-11-30T09:29:18.506Z"
   },
   {
    "duration": 82,
    "start_time": "2021-11-30T09:29:18.609Z"
   },
   {
    "duration": 28,
    "start_time": "2021-11-30T09:29:18.694Z"
   },
   {
    "duration": 79,
    "start_time": "2021-11-30T09:29:18.726Z"
   },
   {
    "duration": 25,
    "start_time": "2021-11-30T09:29:18.809Z"
   },
   {
    "duration": 75,
    "start_time": "2021-11-30T09:29:18.838Z"
   },
   {
    "duration": 27,
    "start_time": "2021-11-30T09:29:18.916Z"
   },
   {
    "duration": 78,
    "start_time": "2021-11-30T09:29:18.946Z"
   },
   {
    "duration": 46,
    "start_time": "2021-11-30T09:29:19.027Z"
   },
   {
    "duration": 65,
    "start_time": "2021-11-30T09:29:19.075Z"
   },
   {
    "duration": 45,
    "start_time": "2021-11-30T09:29:19.142Z"
   },
   {
    "duration": 106,
    "start_time": "2021-11-30T09:29:19.189Z"
   },
   {
    "duration": 24,
    "start_time": "2021-11-30T09:29:19.298Z"
   },
   {
    "duration": 162,
    "start_time": "2021-11-30T09:29:19.325Z"
   },
   {
    "duration": 149,
    "start_time": "2021-11-30T09:29:19.489Z"
   },
   {
    "duration": 180,
    "start_time": "2021-11-30T09:29:19.641Z"
   },
   {
    "duration": 119,
    "start_time": "2021-11-30T09:29:19.824Z"
   },
   {
    "duration": 5,
    "start_time": "2021-11-30T09:29:19.945Z"
   },
   {
    "duration": 56,
    "start_time": "2021-11-30T09:29:19.966Z"
   },
   {
    "duration": 1293,
    "start_time": "2021-11-30T09:35:10.693Z"
   },
   {
    "duration": 1347,
    "start_time": "2021-11-30T09:35:11.989Z"
   },
   {
    "duration": 246,
    "start_time": "2021-11-30T09:35:13.339Z"
   },
   {
    "duration": 604,
    "start_time": "2021-11-30T09:35:13.589Z"
   },
   {
    "duration": 103,
    "start_time": "2021-11-30T09:35:14.196Z"
   },
   {
    "duration": 74,
    "start_time": "2021-11-30T09:35:14.301Z"
   },
   {
    "duration": 32,
    "start_time": "2021-11-30T09:35:14.378Z"
   },
   {
    "duration": 77,
    "start_time": "2021-11-30T09:35:14.415Z"
   },
   {
    "duration": 27,
    "start_time": "2021-11-30T09:35:14.496Z"
   },
   {
    "duration": 68,
    "start_time": "2021-11-30T09:35:14.526Z"
   },
   {
    "duration": 28,
    "start_time": "2021-11-30T09:35:14.597Z"
   },
   {
    "duration": 82,
    "start_time": "2021-11-30T09:35:14.628Z"
   },
   {
    "duration": 57,
    "start_time": "2021-11-30T09:35:14.713Z"
   },
   {
    "duration": 80,
    "start_time": "2021-11-30T09:35:14.773Z"
   },
   {
    "duration": 38,
    "start_time": "2021-11-30T09:35:14.856Z"
   },
   {
    "duration": 121,
    "start_time": "2021-11-30T09:35:14.897Z"
   },
   {
    "duration": 27,
    "start_time": "2021-11-30T09:35:15.021Z"
   },
   {
    "duration": 158,
    "start_time": "2021-11-30T09:35:15.051Z"
   },
   {
    "duration": 151,
    "start_time": "2021-11-30T09:35:15.211Z"
   },
   {
    "duration": 169,
    "start_time": "2021-11-30T09:35:15.364Z"
   },
   {
    "duration": 34,
    "start_time": "2021-11-30T09:35:15.873Z"
   },
   {
    "duration": 109,
    "start_time": "2021-11-30T09:35:17.289Z"
   },
   {
    "duration": 4,
    "start_time": "2021-11-30T09:37:50.448Z"
   },
   {
    "duration": 1336,
    "start_time": "2021-11-30T10:03:25.256Z"
   },
   {
    "duration": 1379,
    "start_time": "2021-11-30T10:03:26.595Z"
   },
   {
    "duration": 239,
    "start_time": "2021-11-30T10:03:27.978Z"
   },
   {
    "duration": 617,
    "start_time": "2021-11-30T10:03:28.220Z"
   },
   {
    "duration": 108,
    "start_time": "2021-11-30T10:03:28.839Z"
   },
   {
    "duration": 71,
    "start_time": "2021-11-30T10:03:28.949Z"
   },
   {
    "duration": 45,
    "start_time": "2021-11-30T10:03:29.022Z"
   },
   {
    "duration": 61,
    "start_time": "2021-11-30T10:03:29.072Z"
   },
   {
    "duration": 48,
    "start_time": "2021-11-30T10:03:29.136Z"
   },
   {
    "duration": 49,
    "start_time": "2021-11-30T10:03:29.186Z"
   },
   {
    "duration": 43,
    "start_time": "2021-11-30T10:03:29.238Z"
   },
   {
    "duration": 66,
    "start_time": "2021-11-30T10:03:29.284Z"
   },
   {
    "duration": 40,
    "start_time": "2021-11-30T10:03:29.352Z"
   },
   {
    "duration": 94,
    "start_time": "2021-11-30T10:03:29.395Z"
   },
   {
    "duration": 31,
    "start_time": "2021-11-30T10:03:29.492Z"
   },
   {
    "duration": 92,
    "start_time": "2021-11-30T10:03:29.573Z"
   },
   {
    "duration": 24,
    "start_time": "2021-11-30T10:03:30.173Z"
   },
   {
    "duration": 147,
    "start_time": "2021-11-30T10:03:30.433Z"
   },
   {
    "duration": 143,
    "start_time": "2021-11-30T10:03:30.653Z"
   },
   {
    "duration": 161,
    "start_time": "2021-11-30T10:03:30.881Z"
   },
   {
    "duration": 36,
    "start_time": "2021-11-30T10:03:31.875Z"
   },
   {
    "duration": 4,
    "start_time": "2021-11-30T10:03:32.676Z"
   },
   {
    "duration": 109,
    "start_time": "2021-11-30T10:03:33.306Z"
   },
   {
    "duration": 5,
    "start_time": "2021-11-30T10:03:33.939Z"
   },
   {
    "duration": 58,
    "start_time": "2021-11-30T10:03:34.775Z"
   },
   {
    "duration": 104,
    "start_time": "2021-11-30T10:03:36.318Z"
   },
   {
    "duration": 400,
    "start_time": "2021-11-30T10:03:37.089Z"
   },
   {
    "duration": 1397,
    "start_time": "2021-11-30T10:03:59.999Z"
   },
   {
    "duration": 1408,
    "start_time": "2021-11-30T10:04:01.398Z"
   },
   {
    "duration": 258,
    "start_time": "2021-11-30T10:04:02.809Z"
   },
   {
    "duration": 638,
    "start_time": "2021-11-30T10:04:03.070Z"
   },
   {
    "duration": 102,
    "start_time": "2021-11-30T10:04:03.710Z"
   },
   {
    "duration": 77,
    "start_time": "2021-11-30T10:04:03.815Z"
   },
   {
    "duration": 26,
    "start_time": "2021-11-30T10:04:03.894Z"
   },
   {
    "duration": 79,
    "start_time": "2021-11-30T10:04:03.923Z"
   },
   {
    "duration": 28,
    "start_time": "2021-11-30T10:04:04.005Z"
   },
   {
    "duration": 61,
    "start_time": "2021-11-30T10:04:04.036Z"
   },
   {
    "duration": 30,
    "start_time": "2021-11-30T10:04:04.099Z"
   },
   {
    "duration": 81,
    "start_time": "2021-11-30T10:04:04.131Z"
   },
   {
    "duration": 29,
    "start_time": "2021-11-30T10:04:04.214Z"
   },
   {
    "duration": 79,
    "start_time": "2021-11-30T10:04:04.245Z"
   },
   {
    "duration": 51,
    "start_time": "2021-11-30T10:04:04.326Z"
   },
   {
    "duration": 96,
    "start_time": "2021-11-30T10:04:04.380Z"
   },
   {
    "duration": 25,
    "start_time": "2021-11-30T10:04:04.479Z"
   },
   {
    "duration": 175,
    "start_time": "2021-11-30T10:04:04.507Z"
   },
   {
    "duration": 159,
    "start_time": "2021-11-30T10:04:04.684Z"
   },
   {
    "duration": 179,
    "start_time": "2021-11-30T10:04:04.846Z"
   },
   {
    "duration": 50,
    "start_time": "2021-11-30T10:04:05.028Z"
   },
   {
    "duration": 3,
    "start_time": "2021-11-30T10:04:05.081Z"
   },
   {
    "duration": 151,
    "start_time": "2021-11-30T10:04:05.089Z"
   },
   {
    "duration": 4,
    "start_time": "2021-11-30T10:04:05.243Z"
   },
   {
    "duration": 68,
    "start_time": "2021-11-30T10:04:05.249Z"
   },
   {
    "duration": 123,
    "start_time": "2021-11-30T10:04:05.319Z"
   },
   {
    "duration": 401,
    "start_time": "2021-11-30T10:04:05.444Z"
   },
   {
    "duration": 591,
    "start_time": "2021-11-30T10:04:08.181Z"
   },
   {
    "duration": 1358,
    "start_time": "2021-11-30T10:05:49.524Z"
   },
   {
    "duration": 1359,
    "start_time": "2021-11-30T10:05:50.885Z"
   },
   {
    "duration": 260,
    "start_time": "2021-11-30T10:05:52.247Z"
   },
   {
    "duration": 671,
    "start_time": "2021-11-30T10:05:52.509Z"
   },
   {
    "duration": 96,
    "start_time": "2021-11-30T10:05:53.183Z"
   },
   {
    "duration": 62,
    "start_time": "2021-11-30T10:05:53.281Z"
   },
   {
    "duration": 26,
    "start_time": "2021-11-30T10:05:53.368Z"
   },
   {
    "duration": 77,
    "start_time": "2021-11-30T10:05:53.398Z"
   },
   {
    "duration": 31,
    "start_time": "2021-11-30T10:05:53.478Z"
   },
   {
    "duration": 55,
    "start_time": "2021-11-30T10:05:53.512Z"
   },
   {
    "duration": 25,
    "start_time": "2021-11-30T10:05:53.570Z"
   },
   {
    "duration": 85,
    "start_time": "2021-11-30T10:05:53.598Z"
   },
   {
    "duration": 28,
    "start_time": "2021-11-30T10:05:53.687Z"
   },
   {
    "duration": 91,
    "start_time": "2021-11-30T10:05:53.718Z"
   },
   {
    "duration": 33,
    "start_time": "2021-11-30T10:05:53.812Z"
   },
   {
    "duration": 92,
    "start_time": "2021-11-30T10:05:54.429Z"
   },
   {
    "duration": 22,
    "start_time": "2021-11-30T10:05:54.824Z"
   },
   {
    "duration": 161,
    "start_time": "2021-11-30T10:05:55.140Z"
   },
   {
    "duration": 143,
    "start_time": "2021-11-30T10:05:55.515Z"
   },
   {
    "duration": 167,
    "start_time": "2021-11-30T10:05:55.924Z"
   },
   {
    "duration": 36,
    "start_time": "2021-11-30T10:05:56.299Z"
   },
   {
    "duration": 3,
    "start_time": "2021-11-30T10:05:56.760Z"
   },
   {
    "duration": 104,
    "start_time": "2021-11-30T10:05:57.271Z"
   },
   {
    "duration": 6,
    "start_time": "2021-11-30T10:05:57.591Z"
   },
   {
    "duration": 56,
    "start_time": "2021-11-30T10:05:57.886Z"
   },
   {
    "duration": 102,
    "start_time": "2021-11-30T10:05:58.576Z"
   },
   {
    "duration": 390,
    "start_time": "2021-11-30T10:05:58.891Z"
   },
   {
    "duration": 604,
    "start_time": "2021-11-30T10:06:00.188Z"
   },
   {
    "duration": 1373,
    "start_time": "2021-11-30T10:07:11.823Z"
   },
   {
    "duration": 1350,
    "start_time": "2021-11-30T10:07:13.199Z"
   },
   {
    "duration": 248,
    "start_time": "2021-11-30T10:07:14.552Z"
   },
   {
    "duration": 610,
    "start_time": "2021-11-30T10:07:14.803Z"
   },
   {
    "duration": 103,
    "start_time": "2021-11-30T10:07:15.416Z"
   },
   {
    "duration": 69,
    "start_time": "2021-11-30T10:07:15.522Z"
   },
   {
    "duration": 26,
    "start_time": "2021-11-30T10:07:15.594Z"
   },
   {
    "duration": 85,
    "start_time": "2021-11-30T10:07:15.624Z"
   },
   {
    "duration": 31,
    "start_time": "2021-11-30T10:07:15.712Z"
   },
   {
    "duration": 60,
    "start_time": "2021-11-30T10:07:15.745Z"
   },
   {
    "duration": 28,
    "start_time": "2021-11-30T10:07:15.809Z"
   },
   {
    "duration": 88,
    "start_time": "2021-11-30T10:07:15.840Z"
   },
   {
    "duration": 50,
    "start_time": "2021-11-30T10:07:15.931Z"
   },
   {
    "duration": 61,
    "start_time": "2021-11-30T10:07:16.510Z"
   },
   {
    "duration": 27,
    "start_time": "2021-11-30T10:07:16.804Z"
   },
   {
    "duration": 94,
    "start_time": "2021-11-30T10:07:17.000Z"
   },
   {
    "duration": 23,
    "start_time": "2021-11-30T10:07:17.188Z"
   },
   {
    "duration": 142,
    "start_time": "2021-11-30T10:07:17.397Z"
   },
   {
    "duration": 163,
    "start_time": "2021-11-30T10:07:17.654Z"
   },
   {
    "duration": 175,
    "start_time": "2021-11-30T10:07:17.896Z"
   },
   {
    "duration": 39,
    "start_time": "2021-11-30T10:07:18.239Z"
   },
   {
    "duration": 5,
    "start_time": "2021-11-30T10:07:18.593Z"
   },
   {
    "duration": 110,
    "start_time": "2021-11-30T10:07:18.966Z"
   },
   {
    "duration": 422,
    "start_time": "2021-11-30T10:07:19.344Z"
   },
   {
    "duration": 451,
    "start_time": "2021-11-30T10:07:19.809Z"
   },
   {
    "duration": 104,
    "start_time": "2021-11-30T10:07:20.591Z"
   },
   {
    "duration": 3,
    "start_time": "2021-11-30T10:07:21.894Z"
   },
   {
    "duration": 646,
    "start_time": "2021-11-30T10:07:22.925Z"
   },
   {
    "duration": 417,
    "start_time": "2021-11-30T10:07:30.484Z"
   },
   {
    "duration": 627,
    "start_time": "2021-11-30T10:07:32.150Z"
   },
   {
    "duration": 625,
    "start_time": "2021-11-30T10:10:05.344Z"
   },
   {
    "duration": 630,
    "start_time": "2021-11-30T10:12:58.038Z"
   },
   {
    "duration": 1410,
    "start_time": "2021-11-30T10:13:21.036Z"
   },
   {
    "duration": 1375,
    "start_time": "2021-11-30T10:13:22.449Z"
   },
   {
    "duration": 244,
    "start_time": "2021-11-30T10:13:23.827Z"
   },
   {
    "duration": 614,
    "start_time": "2021-11-30T10:13:24.074Z"
   },
   {
    "duration": 108,
    "start_time": "2021-11-30T10:13:24.691Z"
   },
   {
    "duration": 116,
    "start_time": "2021-11-30T10:13:24.802Z"
   },
   {
    "duration": 57,
    "start_time": "2021-11-30T10:13:24.921Z"
   },
   {
    "duration": 119,
    "start_time": "2021-11-30T10:13:24.983Z"
   },
   {
    "duration": 47,
    "start_time": "2021-11-30T10:13:25.106Z"
   },
   {
    "duration": 78,
    "start_time": "2021-11-30T10:13:25.169Z"
   },
   {
    "duration": 44,
    "start_time": "2021-11-30T10:13:25.250Z"
   },
   {
    "duration": 72,
    "start_time": "2021-11-30T10:13:25.296Z"
   },
   {
    "duration": 26,
    "start_time": "2021-11-30T10:13:25.371Z"
   },
   {
    "duration": 82,
    "start_time": "2021-11-30T10:13:25.400Z"
   },
   {
    "duration": 28,
    "start_time": "2021-11-30T10:13:25.485Z"
   },
   {
    "duration": 113,
    "start_time": "2021-11-30T10:13:25.516Z"
   },
   {
    "duration": 38,
    "start_time": "2021-11-30T10:13:25.632Z"
   },
   {
    "duration": 146,
    "start_time": "2021-11-30T10:13:25.672Z"
   },
   {
    "duration": 153,
    "start_time": "2021-11-30T10:13:25.820Z"
   },
   {
    "duration": 174,
    "start_time": "2021-11-30T10:13:25.975Z"
   },
   {
    "duration": 43,
    "start_time": "2021-11-30T10:13:26.152Z"
   },
   {
    "duration": 4,
    "start_time": "2021-11-30T10:13:26.198Z"
   },
   {
    "duration": 122,
    "start_time": "2021-11-30T10:13:26.206Z"
   },
   {
    "duration": 6,
    "start_time": "2021-11-30T10:13:26.330Z"
   },
   {
    "duration": 75,
    "start_time": "2021-11-30T10:13:26.339Z"
   },
   {
    "duration": 122,
    "start_time": "2021-11-30T10:13:26.416Z"
   },
   {
    "duration": 3,
    "start_time": "2021-11-30T10:13:26.540Z"
   },
   {
    "duration": 734,
    "start_time": "2021-11-30T10:13:26.546Z"
   },
   {
    "duration": 1354,
    "start_time": "2021-11-30T10:15:46.357Z"
   },
   {
    "duration": 1396,
    "start_time": "2021-11-30T10:15:47.717Z"
   },
   {
    "duration": 236,
    "start_time": "2021-11-30T10:15:49.116Z"
   },
   {
    "duration": 599,
    "start_time": "2021-11-30T10:15:49.354Z"
   },
   {
    "duration": 98,
    "start_time": "2021-11-30T10:15:49.955Z"
   },
   {
    "duration": 71,
    "start_time": "2021-11-30T10:15:50.055Z"
   },
   {
    "duration": 46,
    "start_time": "2021-11-30T10:15:50.130Z"
   },
   {
    "duration": 60,
    "start_time": "2021-11-30T10:15:50.179Z"
   },
   {
    "duration": 43,
    "start_time": "2021-11-30T10:15:50.243Z"
   },
   {
    "duration": 44,
    "start_time": "2021-11-30T10:15:50.288Z"
   },
   {
    "duration": 53,
    "start_time": "2021-11-30T10:15:50.335Z"
   },
   {
    "duration": 63,
    "start_time": "2021-11-30T10:15:50.391Z"
   },
   {
    "duration": 26,
    "start_time": "2021-11-30T10:15:50.468Z"
   },
   {
    "duration": 88,
    "start_time": "2021-11-30T10:15:50.496Z"
   },
   {
    "duration": 29,
    "start_time": "2021-11-30T10:15:50.587Z"
   },
   {
    "duration": 108,
    "start_time": "2021-11-30T10:15:50.618Z"
   },
   {
    "duration": 39,
    "start_time": "2021-11-30T10:15:50.728Z"
   },
   {
    "duration": 150,
    "start_time": "2021-11-30T10:15:50.769Z"
   },
   {
    "duration": 156,
    "start_time": "2021-11-30T10:15:50.922Z"
   },
   {
    "duration": 175,
    "start_time": "2021-11-30T10:15:51.080Z"
   },
   {
    "duration": 34,
    "start_time": "2021-11-30T10:15:51.258Z"
   },
   {
    "duration": 4,
    "start_time": "2021-11-30T10:15:51.297Z"
   },
   {
    "duration": 133,
    "start_time": "2021-11-30T10:15:51.303Z"
   },
   {
    "duration": 4,
    "start_time": "2021-11-30T10:15:51.439Z"
   },
   {
    "duration": 65,
    "start_time": "2021-11-30T10:15:51.445Z"
   },
   {
    "duration": 120,
    "start_time": "2021-11-30T10:15:51.512Z"
   },
   {
    "duration": 411,
    "start_time": "2021-11-30T10:15:51.634Z"
   },
   {
    "duration": 1152,
    "start_time": "2021-11-30T10:15:52.047Z"
   },
   {
    "duration": 981,
    "start_time": "2021-11-30T10:16:09.621Z"
   },
   {
    "duration": 1354,
    "start_time": "2021-11-30T10:21:47.188Z"
   },
   {
    "duration": 1366,
    "start_time": "2021-11-30T10:21:48.545Z"
   },
   {
    "duration": 237,
    "start_time": "2021-11-30T10:21:49.915Z"
   },
   {
    "duration": 606,
    "start_time": "2021-11-30T10:21:50.155Z"
   },
   {
    "duration": 108,
    "start_time": "2021-11-30T10:21:50.768Z"
   },
   {
    "duration": 64,
    "start_time": "2021-11-30T10:21:50.878Z"
   },
   {
    "duration": 42,
    "start_time": "2021-11-30T10:21:50.945Z"
   },
   {
    "duration": 81,
    "start_time": "2021-11-30T10:21:50.992Z"
   },
   {
    "duration": 30,
    "start_time": "2021-11-30T10:21:51.076Z"
   },
   {
    "duration": 60,
    "start_time": "2021-11-30T10:21:51.108Z"
   },
   {
    "duration": 31,
    "start_time": "2021-11-30T10:21:51.171Z"
   },
   {
    "duration": 74,
    "start_time": "2021-11-30T10:21:51.204Z"
   },
   {
    "duration": 25,
    "start_time": "2021-11-30T10:21:51.280Z"
   },
   {
    "duration": 81,
    "start_time": "2021-11-30T10:21:51.308Z"
   },
   {
    "duration": 29,
    "start_time": "2021-11-30T10:21:51.391Z"
   },
   {
    "duration": 115,
    "start_time": "2021-11-30T10:21:51.423Z"
   },
   {
    "duration": 37,
    "start_time": "2021-11-30T10:21:51.540Z"
   },
   {
    "duration": 158,
    "start_time": "2021-11-30T10:21:51.579Z"
   },
   {
    "duration": 151,
    "start_time": "2021-11-30T10:21:51.739Z"
   },
   {
    "duration": 175,
    "start_time": "2021-11-30T10:21:51.892Z"
   },
   {
    "duration": 38,
    "start_time": "2021-11-30T10:21:52.069Z"
   },
   {
    "duration": 6,
    "start_time": "2021-11-30T10:21:52.109Z"
   },
   {
    "duration": 139,
    "start_time": "2021-11-30T10:21:52.119Z"
   },
   {
    "duration": 7,
    "start_time": "2021-11-30T10:21:52.261Z"
   },
   {
    "duration": 55,
    "start_time": "2021-11-30T10:21:52.270Z"
   },
   {
    "duration": 134,
    "start_time": "2021-11-30T10:21:52.328Z"
   },
   {
    "duration": 400,
    "start_time": "2021-11-30T10:21:52.467Z"
   },
   {
    "duration": 605,
    "start_time": "2021-11-30T10:21:52.870Z"
   },
   {
    "duration": 511,
    "start_time": "2021-11-30T10:21:53.478Z"
   },
   {
    "duration": 1395,
    "start_time": "2021-11-30T10:22:45.619Z"
   },
   {
    "duration": 1346,
    "start_time": "2021-11-30T10:22:47.017Z"
   },
   {
    "duration": 240,
    "start_time": "2021-11-30T10:22:48.368Z"
   },
   {
    "duration": 608,
    "start_time": "2021-11-30T10:22:48.611Z"
   },
   {
    "duration": 104,
    "start_time": "2021-11-30T10:22:49.222Z"
   },
   {
    "duration": 70,
    "start_time": "2021-11-30T10:22:49.328Z"
   },
   {
    "duration": 29,
    "start_time": "2021-11-30T10:22:49.401Z"
   },
   {
    "duration": 82,
    "start_time": "2021-11-30T10:22:49.434Z"
   },
   {
    "duration": 28,
    "start_time": "2021-11-30T10:22:49.519Z"
   },
   {
    "duration": 44,
    "start_time": "2021-11-30T10:22:49.567Z"
   },
   {
    "duration": 28,
    "start_time": "2021-11-30T10:22:49.614Z"
   },
   {
    "duration": 65,
    "start_time": "2021-11-30T10:22:49.668Z"
   },
   {
    "duration": 51,
    "start_time": "2021-11-30T10:22:49.737Z"
   },
   {
    "duration": 69,
    "start_time": "2021-11-30T10:22:49.791Z"
   },
   {
    "duration": 30,
    "start_time": "2021-11-30T10:22:49.867Z"
   },
   {
    "duration": 110,
    "start_time": "2021-11-30T10:22:49.900Z"
   },
   {
    "duration": 31,
    "start_time": "2021-11-30T10:22:50.013Z"
   },
   {
    "duration": 167,
    "start_time": "2021-11-30T10:22:50.046Z"
   },
   {
    "duration": 147,
    "start_time": "2021-11-30T10:22:50.215Z"
   },
   {
    "duration": 168,
    "start_time": "2021-11-30T10:22:50.368Z"
   },
   {
    "duration": 42,
    "start_time": "2021-11-30T10:22:50.539Z"
   },
   {
    "duration": 4,
    "start_time": "2021-11-30T10:22:50.583Z"
   },
   {
    "duration": 124,
    "start_time": "2021-11-30T10:22:50.591Z"
   },
   {
    "duration": 4,
    "start_time": "2021-11-30T10:22:50.718Z"
   },
   {
    "duration": 64,
    "start_time": "2021-11-30T10:22:50.724Z"
   },
   {
    "duration": 119,
    "start_time": "2021-11-30T10:22:50.790Z"
   },
   {
    "duration": 395,
    "start_time": "2021-11-30T10:22:50.912Z"
   },
   {
    "duration": 657,
    "start_time": "2021-11-30T10:22:51.309Z"
   },
   {
    "duration": 2781,
    "start_time": "2021-11-30T10:22:51.971Z"
   },
   {
    "duration": 1384,
    "start_time": "2021-11-30T10:28:23.039Z"
   },
   {
    "duration": 1323,
    "start_time": "2021-11-30T10:28:24.426Z"
   },
   {
    "duration": 231,
    "start_time": "2021-11-30T10:28:25.751Z"
   },
   {
    "duration": 597,
    "start_time": "2021-11-30T10:28:25.985Z"
   },
   {
    "duration": 100,
    "start_time": "2021-11-30T10:28:26.584Z"
   },
   {
    "duration": 84,
    "start_time": "2021-11-30T10:28:26.686Z"
   },
   {
    "duration": 34,
    "start_time": "2021-11-30T10:28:26.773Z"
   },
   {
    "duration": 73,
    "start_time": "2021-11-30T10:28:26.811Z"
   },
   {
    "duration": 26,
    "start_time": "2021-11-30T10:28:26.887Z"
   },
   {
    "duration": 63,
    "start_time": "2021-11-30T10:28:26.915Z"
   },
   {
    "duration": 41,
    "start_time": "2021-11-30T10:28:26.980Z"
   },
   {
    "duration": 73,
    "start_time": "2021-11-30T10:28:27.024Z"
   },
   {
    "duration": 26,
    "start_time": "2021-11-30T10:28:27.100Z"
   },
   {
    "duration": 85,
    "start_time": "2021-11-30T10:28:27.128Z"
   },
   {
    "duration": 28,
    "start_time": "2021-11-30T10:28:27.216Z"
   },
   {
    "duration": 119,
    "start_time": "2021-11-30T10:28:27.248Z"
   },
   {
    "duration": 23,
    "start_time": "2021-11-30T10:28:27.404Z"
   },
   {
    "duration": 142,
    "start_time": "2021-11-30T10:28:28.188Z"
   },
   {
    "duration": 138,
    "start_time": "2021-11-30T10:28:28.536Z"
   },
   {
    "duration": 162,
    "start_time": "2021-11-30T10:28:29.042Z"
   },
   {
    "duration": 34,
    "start_time": "2021-11-30T10:28:29.207Z"
   },
   {
    "duration": 3,
    "start_time": "2021-11-30T10:28:29.244Z"
   },
   {
    "duration": 112,
    "start_time": "2021-11-30T10:28:29.289Z"
   },
   {
    "duration": 5,
    "start_time": "2021-11-30T10:28:29.404Z"
   },
   {
    "duration": 49,
    "start_time": "2021-11-30T10:28:30.057Z"
   },
   {
    "duration": 105,
    "start_time": "2021-11-30T10:28:31.145Z"
   },
   {
    "duration": 407,
    "start_time": "2021-11-30T10:28:31.560Z"
   },
   {
    "duration": 652,
    "start_time": "2021-11-30T10:28:33.221Z"
   },
   {
    "duration": 4,
    "start_time": "2021-11-30T10:29:48.120Z"
   },
   {
    "duration": 768,
    "start_time": "2021-11-30T10:30:02.029Z"
   },
   {
    "duration": 5,
    "start_time": "2021-11-30T10:30:12.637Z"
   },
   {
    "duration": 1649,
    "start_time": "2021-11-30T10:32:27.434Z"
   },
   {
    "duration": 1413,
    "start_time": "2021-11-30T10:32:29.087Z"
   },
   {
    "duration": 326,
    "start_time": "2021-11-30T10:32:30.503Z"
   },
   {
    "duration": 298,
    "start_time": "2021-11-30T10:32:41.758Z"
   },
   {
    "duration": 283,
    "start_time": "2021-11-30T10:33:21.884Z"
   },
   {
    "duration": 393,
    "start_time": "2021-11-30T10:34:06.166Z"
   },
   {
    "duration": 57,
    "start_time": "2021-11-30T10:36:23.485Z"
   },
   {
    "duration": 80,
    "start_time": "2021-11-30T10:37:12.153Z"
   },
   {
    "duration": 1371,
    "start_time": "2021-11-30T10:37:35.627Z"
   },
   {
    "duration": 1394,
    "start_time": "2021-11-30T10:37:37.001Z"
   },
   {
    "duration": 4,
    "start_time": "2021-11-30T10:37:38.398Z"
   },
   {
    "duration": 121,
    "start_time": "2021-11-30T10:37:38.405Z"
   },
   {
    "duration": 4,
    "start_time": "2021-11-30T10:37:38.528Z"
   },
   {
    "duration": 97,
    "start_time": "2021-11-30T10:38:15.595Z"
   },
   {
    "duration": 5,
    "start_time": "2021-11-30T10:38:16.033Z"
   },
   {
    "duration": 4,
    "start_time": "2021-11-30T10:38:18.972Z"
   },
   {
    "duration": 94,
    "start_time": "2021-11-30T10:38:20.014Z"
   },
   {
    "duration": 6,
    "start_time": "2021-11-30T10:38:20.408Z"
   },
   {
    "duration": 78,
    "start_time": "2021-11-30T10:38:25.343Z"
   },
   {
    "duration": 3,
    "start_time": "2021-11-30T10:38:25.711Z"
   },
   {
    "duration": 1359,
    "start_time": "2021-11-30T10:39:08.759Z"
   },
   {
    "duration": 1368,
    "start_time": "2021-11-30T10:39:10.120Z"
   },
   {
    "duration": 112,
    "start_time": "2021-11-30T10:39:11.491Z"
   },
   {
    "duration": 209,
    "start_time": "2021-11-30T10:39:11.606Z"
   },
   {
    "duration": 521,
    "start_time": "2021-11-30T10:39:11.817Z"
   },
   {
    "duration": 96,
    "start_time": "2021-11-30T10:39:12.341Z"
   },
   {
    "duration": 73,
    "start_time": "2021-11-30T10:39:12.440Z"
   },
   {
    "duration": 28,
    "start_time": "2021-11-30T10:39:12.516Z"
   },
   {
    "duration": 76,
    "start_time": "2021-11-30T10:39:12.546Z"
   },
   {
    "duration": 46,
    "start_time": "2021-11-30T10:39:12.625Z"
   },
   {
    "duration": 46,
    "start_time": "2021-11-30T10:39:12.674Z"
   },
   {
    "duration": 45,
    "start_time": "2021-11-30T10:39:12.722Z"
   },
   {
    "duration": 63,
    "start_time": "2021-11-30T10:39:12.769Z"
   },
   {
    "duration": 46,
    "start_time": "2021-11-30T10:39:12.834Z"
   },
   {
    "duration": 61,
    "start_time": "2021-11-30T10:39:12.905Z"
   },
   {
    "duration": 26,
    "start_time": "2021-11-30T10:39:12.989Z"
   },
   {
    "duration": 88,
    "start_time": "2021-11-30T10:39:13.074Z"
   },
   {
    "duration": 23,
    "start_time": "2021-11-30T10:39:13.167Z"
   },
   {
    "duration": 133,
    "start_time": "2021-11-30T10:39:13.240Z"
   },
   {
    "duration": 146,
    "start_time": "2021-11-30T10:39:13.376Z"
   },
   {
    "duration": 168,
    "start_time": "2021-11-30T10:39:13.525Z"
   },
   {
    "duration": 33,
    "start_time": "2021-11-30T10:39:13.696Z"
   },
   {
    "duration": 3,
    "start_time": "2021-11-30T10:39:13.732Z"
   },
   {
    "duration": 130,
    "start_time": "2021-11-30T10:39:13.738Z"
   },
   {
    "duration": 5,
    "start_time": "2021-11-30T10:39:13.870Z"
   },
   {
    "duration": 52,
    "start_time": "2021-11-30T10:39:13.877Z"
   },
   {
    "duration": 100,
    "start_time": "2021-11-30T10:39:13.993Z"
   },
   {
    "duration": 385,
    "start_time": "2021-11-30T10:39:14.095Z"
   },
   {
    "duration": 5,
    "start_time": "2021-11-30T10:39:14.482Z"
   },
   {
    "duration": 560,
    "start_time": "2021-11-30T10:39:15.113Z"
   },
   {
    "duration": 2793,
    "start_time": "2021-11-30T10:39:15.677Z"
   },
   {
    "duration": 1355,
    "start_time": "2021-11-30T10:40:07.880Z"
   },
   {
    "duration": 1367,
    "start_time": "2021-11-30T10:40:09.238Z"
   },
   {
    "duration": 111,
    "start_time": "2021-11-30T10:40:10.608Z"
   },
   {
    "duration": 221,
    "start_time": "2021-11-30T10:40:10.721Z"
   },
   {
    "duration": 530,
    "start_time": "2021-11-30T10:40:10.945Z"
   },
   {
    "duration": 100,
    "start_time": "2021-11-30T10:40:11.478Z"
   },
   {
    "duration": 60,
    "start_time": "2021-11-30T10:40:11.581Z"
   },
   {
    "duration": 46,
    "start_time": "2021-11-30T10:40:11.644Z"
   },
   {
    "duration": 75,
    "start_time": "2021-11-30T10:40:11.692Z"
   },
   {
    "duration": 25,
    "start_time": "2021-11-30T10:40:11.769Z"
   },
   {
    "duration": 42,
    "start_time": "2021-11-30T10:40:11.797Z"
   },
   {
    "duration": 49,
    "start_time": "2021-11-30T10:40:11.841Z"
   },
   {
    "duration": 82,
    "start_time": "2021-11-30T10:40:11.892Z"
   },
   {
    "duration": 26,
    "start_time": "2021-11-30T10:40:11.976Z"
   },
   {
    "duration": 79,
    "start_time": "2021-11-30T10:40:12.004Z"
   },
   {
    "duration": 29,
    "start_time": "2021-11-30T10:40:12.086Z"
   },
   {
    "duration": 112,
    "start_time": "2021-11-30T10:40:12.117Z"
   },
   {
    "duration": 35,
    "start_time": "2021-11-30T10:40:12.232Z"
   },
   {
    "duration": 141,
    "start_time": "2021-11-30T10:40:12.271Z"
   },
   {
    "duration": 157,
    "start_time": "2021-11-30T10:40:12.415Z"
   },
   {
    "duration": 165,
    "start_time": "2021-11-30T10:40:12.575Z"
   },
   {
    "duration": 43,
    "start_time": "2021-11-30T10:40:12.743Z"
   },
   {
    "duration": 4,
    "start_time": "2021-11-30T10:40:12.946Z"
   },
   {
    "duration": 99,
    "start_time": "2021-11-30T10:40:13.418Z"
   },
   {
    "duration": 5,
    "start_time": "2021-11-30T10:40:13.634Z"
   },
   {
    "duration": 47,
    "start_time": "2021-11-30T10:40:13.875Z"
   },
   {
    "duration": 100,
    "start_time": "2021-11-30T10:40:14.460Z"
   },
   {
    "duration": 3,
    "start_time": "2021-11-30T10:40:14.568Z"
   },
   {
    "duration": 5,
    "start_time": "2021-11-30T10:40:14.712Z"
   },
   {
    "duration": 540,
    "start_time": "2021-11-30T10:40:16.244Z"
   },
   {
    "duration": 2579,
    "start_time": "2021-11-30T10:40:16.967Z"
   },
   {
    "duration": 1328,
    "start_time": "2021-11-30T10:41:22.990Z"
   },
   {
    "duration": 1351,
    "start_time": "2021-11-30T10:41:24.321Z"
   },
   {
    "duration": 134,
    "start_time": "2021-11-30T10:41:25.676Z"
   },
   {
    "duration": 254,
    "start_time": "2021-11-30T10:41:25.814Z"
   },
   {
    "duration": 805,
    "start_time": "2021-11-30T10:41:26.071Z"
   },
   {
    "duration": 133,
    "start_time": "2021-11-30T10:41:26.880Z"
   },
   {
    "duration": 74,
    "start_time": "2021-11-30T10:41:27.016Z"
   },
   {
    "duration": 34,
    "start_time": "2021-11-30T10:41:27.094Z"
   },
   {
    "duration": 84,
    "start_time": "2021-11-30T10:41:27.132Z"
   },
   {
    "duration": 48,
    "start_time": "2021-11-30T10:41:27.220Z"
   },
   {
    "duration": 68,
    "start_time": "2021-11-30T10:41:27.270Z"
   },
   {
    "duration": 40,
    "start_time": "2021-11-30T10:41:27.342Z"
   },
   {
    "duration": 84,
    "start_time": "2021-11-30T10:41:27.384Z"
   },
   {
    "duration": 26,
    "start_time": "2021-11-30T10:41:27.470Z"
   },
   {
    "duration": 123,
    "start_time": "2021-11-30T10:41:27.499Z"
   },
   {
    "duration": 42,
    "start_time": "2021-11-30T10:41:27.625Z"
   },
   {
    "duration": 99,
    "start_time": "2021-11-30T10:41:27.670Z"
   },
   {
    "duration": 22,
    "start_time": "2021-11-30T10:41:27.772Z"
   },
   {
    "duration": 3,
    "start_time": "2021-11-30T10:41:27.797Z"
   },
   {
    "duration": 5,
    "start_time": "2021-11-30T10:41:27.803Z"
   },
   {
    "duration": 1346,
    "start_time": "2021-11-30T10:41:27.811Z"
   },
   {
    "duration": 127,
    "start_time": "2021-11-30T10:41:29.160Z"
   },
   {
    "duration": 4,
    "start_time": "2021-11-30T10:41:29.293Z"
   },
   {
    "duration": 1042,
    "start_time": "2021-11-30T10:41:29.300Z"
   },
   {
    "duration": 5,
    "start_time": "2021-11-30T10:41:30.345Z"
   },
   {
    "duration": 61,
    "start_time": "2021-11-30T10:41:30.352Z"
   },
   {
    "duration": 987,
    "start_time": "2021-11-30T10:41:30.416Z"
   },
   {
    "duration": 4,
    "start_time": "2021-11-30T10:41:31.406Z"
   },
   {
    "duration": 12,
    "start_time": "2021-11-30T10:41:31.413Z"
   },
   {
    "duration": 27448,
    "start_time": "2021-11-30T10:41:31.428Z"
   },
   {
    "duration": 17261,
    "start_time": "2021-11-30T10:41:58.967Z"
   },
   {
    "duration": 1440,
    "start_time": "2021-11-30T10:42:51.644Z"
   },
   {
    "duration": 1727,
    "start_time": "2021-11-30T10:42:53.087Z"
   },
   {
    "duration": 128,
    "start_time": "2021-11-30T10:42:54.818Z"
   },
   {
    "duration": 228,
    "start_time": "2021-11-30T10:42:54.949Z"
   },
   {
    "duration": 556,
    "start_time": "2021-11-30T10:42:55.180Z"
   },
   {
    "duration": 96,
    "start_time": "2021-11-30T10:42:55.739Z"
   },
   {
    "duration": 66,
    "start_time": "2021-11-30T10:42:55.838Z"
   },
   {
    "duration": 29,
    "start_time": "2021-11-30T10:42:55.908Z"
   },
   {
    "duration": 80,
    "start_time": "2021-11-30T10:42:55.940Z"
   },
   {
    "duration": 48,
    "start_time": "2021-11-30T10:42:56.023Z"
   },
   {
    "duration": 44,
    "start_time": "2021-11-30T10:42:56.073Z"
   },
   {
    "duration": 47,
    "start_time": "2021-11-30T10:42:56.120Z"
   },
   {
    "duration": 63,
    "start_time": "2021-11-30T10:42:56.169Z"
   },
   {
    "duration": 45,
    "start_time": "2021-11-30T10:42:56.236Z"
   },
   {
    "duration": 61,
    "start_time": "2021-11-30T10:42:56.819Z"
   },
   {
    "duration": 26,
    "start_time": "2021-11-30T10:42:57.070Z"
   },
   {
    "duration": 92,
    "start_time": "2021-11-30T10:42:57.282Z"
   },
   {
    "duration": 24,
    "start_time": "2021-11-30T10:42:57.784Z"
   },
   {
    "duration": 3,
    "start_time": "2021-11-30T10:42:57.866Z"
   },
   {
    "duration": 3,
    "start_time": "2021-11-30T10:42:57.955Z"
   },
   {
    "duration": 3,
    "start_time": "2021-11-30T10:42:58.037Z"
   },
   {
    "duration": 93,
    "start_time": "2021-11-30T10:42:58.118Z"
   },
   {
    "duration": 4,
    "start_time": "2021-11-30T10:42:58.215Z"
   },
   {
    "duration": 136,
    "start_time": "2021-11-30T10:42:58.286Z"
   },
   {
    "duration": 4,
    "start_time": "2021-11-30T10:42:58.425Z"
   },
   {
    "duration": 31,
    "start_time": "2021-11-30T10:42:58.454Z"
   },
   {
    "duration": 157,
    "start_time": "2021-11-30T10:42:58.620Z"
   },
   {
    "duration": 4,
    "start_time": "2021-11-30T10:42:58.890Z"
   },
   {
    "duration": 6,
    "start_time": "2021-11-30T10:42:59.476Z"
   },
   {
    "duration": 488,
    "start_time": "2021-11-30T10:42:59.778Z"
   },
   {
    "duration": 352,
    "start_time": "2021-11-30T10:43:00.388Z"
   },
   {
    "duration": 1391,
    "start_time": "2021-11-30T10:44:12.530Z"
   },
   {
    "duration": 1350,
    "start_time": "2021-11-30T10:44:13.924Z"
   },
   {
    "duration": 108,
    "start_time": "2021-11-30T10:44:15.277Z"
   },
   {
    "duration": 215,
    "start_time": "2021-11-30T10:44:15.389Z"
   },
   {
    "duration": 517,
    "start_time": "2021-11-30T10:44:15.607Z"
   },
   {
    "duration": 100,
    "start_time": "2021-11-30T10:44:16.127Z"
   },
   {
    "duration": 71,
    "start_time": "2021-11-30T10:44:16.229Z"
   },
   {
    "duration": 27,
    "start_time": "2021-11-30T10:44:16.307Z"
   },
   {
    "duration": 84,
    "start_time": "2021-11-30T10:44:16.337Z"
   },
   {
    "duration": 45,
    "start_time": "2021-11-30T10:44:16.423Z"
   },
   {
    "duration": 44,
    "start_time": "2021-11-30T10:44:16.471Z"
   },
   {
    "duration": 51,
    "start_time": "2021-11-30T10:44:16.518Z"
   },
   {
    "duration": 64,
    "start_time": "2021-11-30T10:44:16.572Z"
   },
   {
    "duration": 45,
    "start_time": "2021-11-30T10:44:16.639Z"
   },
   {
    "duration": 61,
    "start_time": "2021-11-30T10:44:16.687Z"
   },
   {
    "duration": 26,
    "start_time": "2021-11-30T10:44:16.767Z"
   },
   {
    "duration": 97,
    "start_time": "2021-11-30T10:44:16.795Z"
   },
   {
    "duration": 21,
    "start_time": "2021-11-30T10:44:16.894Z"
   },
   {
    "duration": 3,
    "start_time": "2021-11-30T10:44:16.917Z"
   },
   {
    "duration": 18,
    "start_time": "2021-11-30T10:44:16.923Z"
   },
   {
    "duration": 1290,
    "start_time": "2021-11-30T10:44:16.943Z"
   },
   {
    "duration": 130,
    "start_time": "2021-11-30T10:44:18.236Z"
   },
   {
    "duration": 4,
    "start_time": "2021-11-30T10:44:18.372Z"
   },
   {
    "duration": 1055,
    "start_time": "2021-11-30T10:44:18.378Z"
   },
   {
    "duration": 5,
    "start_time": "2021-11-30T10:44:19.437Z"
   },
   {
    "duration": 61,
    "start_time": "2021-11-30T10:44:19.445Z"
   },
   {
    "duration": 961,
    "start_time": "2021-11-30T10:44:19.508Z"
   },
   {
    "duration": 3,
    "start_time": "2021-11-30T10:44:20.472Z"
   },
   {
    "duration": 14,
    "start_time": "2021-11-30T10:44:20.477Z"
   },
   {
    "duration": 22479,
    "start_time": "2021-11-30T10:44:20.493Z"
   },
   {
    "duration": 16239,
    "start_time": "2021-11-30T10:44:42.976Z"
   },
   {
    "duration": 1361,
    "start_time": "2021-11-30T10:45:16.875Z"
   },
   {
    "duration": 1365,
    "start_time": "2021-11-30T10:45:18.239Z"
   },
   {
    "duration": 108,
    "start_time": "2021-11-30T10:45:19.607Z"
   },
   {
    "duration": 229,
    "start_time": "2021-11-30T10:45:19.717Z"
   },
   {
    "duration": 521,
    "start_time": "2021-11-30T10:45:19.949Z"
   },
   {
    "duration": 96,
    "start_time": "2021-11-30T10:45:20.472Z"
   },
   {
    "duration": 61,
    "start_time": "2021-11-30T10:45:20.571Z"
   },
   {
    "duration": 51,
    "start_time": "2021-11-30T10:45:20.636Z"
   },
   {
    "duration": 63,
    "start_time": "2021-11-30T10:45:20.689Z"
   },
   {
    "duration": 35,
    "start_time": "2021-11-30T10:45:20.754Z"
   },
   {
    "duration": 42,
    "start_time": "2021-11-30T10:45:20.791Z"
   },
   {
    "duration": 49,
    "start_time": "2021-11-30T10:45:20.836Z"
   },
   {
    "duration": 61,
    "start_time": "2021-11-30T10:45:20.888Z"
   },
   {
    "duration": 38,
    "start_time": "2021-11-30T10:45:20.952Z"
   },
   {
    "duration": 77,
    "start_time": "2021-11-30T10:45:20.992Z"
   },
   {
    "duration": 26,
    "start_time": "2021-11-30T10:45:21.071Z"
   },
   {
    "duration": 104,
    "start_time": "2021-11-30T10:45:21.099Z"
   },
   {
    "duration": 23,
    "start_time": "2021-11-30T10:45:21.206Z"
   },
   {
    "duration": 3,
    "start_time": "2021-11-30T10:45:21.231Z"
   },
   {
    "duration": 33,
    "start_time": "2021-11-30T10:45:21.236Z"
   },
   {
    "duration": 1270,
    "start_time": "2021-11-30T10:45:21.272Z"
   },
   {
    "duration": 125,
    "start_time": "2021-11-30T10:45:22.544Z"
   },
   {
    "duration": 3,
    "start_time": "2021-11-30T10:45:22.673Z"
   },
   {
    "duration": 1018,
    "start_time": "2021-11-30T10:45:22.679Z"
   },
   {
    "duration": 5,
    "start_time": "2021-11-30T10:45:23.699Z"
   },
   {
    "duration": 65,
    "start_time": "2021-11-30T10:45:23.706Z"
   },
   {
    "duration": 937,
    "start_time": "2021-11-30T10:45:23.773Z"
   },
   {
    "duration": 402,
    "start_time": "2021-11-30T10:45:24.712Z"
   },
   {
    "duration": -231,
    "start_time": "2021-11-30T10:45:25.347Z"
   },
   {
    "duration": -231,
    "start_time": "2021-11-30T10:45:25.349Z"
   },
   {
    "duration": -232,
    "start_time": "2021-11-30T10:45:25.351Z"
   },
   {
    "duration": 1397,
    "start_time": "2021-11-30T10:46:29.230Z"
   },
   {
    "duration": 1399,
    "start_time": "2021-11-30T10:46:30.630Z"
   },
   {
    "duration": 117,
    "start_time": "2021-11-30T10:46:32.033Z"
   },
   {
    "duration": 217,
    "start_time": "2021-11-30T10:46:32.152Z"
   },
   {
    "duration": 524,
    "start_time": "2021-11-30T10:46:32.372Z"
   },
   {
    "duration": 100,
    "start_time": "2021-11-30T10:46:32.899Z"
   },
   {
    "duration": 71,
    "start_time": "2021-11-30T10:46:33.002Z"
   },
   {
    "duration": 25,
    "start_time": "2021-11-30T10:46:33.077Z"
   },
   {
    "duration": 79,
    "start_time": "2021-11-30T10:46:33.105Z"
   },
   {
    "duration": 29,
    "start_time": "2021-11-30T10:46:33.187Z"
   },
   {
    "duration": 58,
    "start_time": "2021-11-30T10:46:33.219Z"
   },
   {
    "duration": 33,
    "start_time": "2021-11-30T10:46:33.280Z"
   },
   {
    "duration": 77,
    "start_time": "2021-11-30T10:46:33.315Z"
   },
   {
    "duration": 32,
    "start_time": "2021-11-30T10:46:33.395Z"
   },
   {
    "duration": 88,
    "start_time": "2021-11-30T10:46:33.430Z"
   },
   {
    "duration": 52,
    "start_time": "2021-11-30T10:46:33.521Z"
   },
   {
    "duration": 103,
    "start_time": "2021-11-30T10:46:33.575Z"
   },
   {
    "duration": 25,
    "start_time": "2021-11-30T10:46:33.681Z"
   },
   {
    "duration": 4,
    "start_time": "2021-11-30T10:46:33.709Z"
   },
   {
    "duration": 9,
    "start_time": "2021-11-30T10:46:33.716Z"
   },
   {
    "duration": 1235,
    "start_time": "2021-11-30T10:46:33.728Z"
   },
   {
    "duration": 132,
    "start_time": "2021-11-30T10:46:34.968Z"
   },
   {
    "duration": 3,
    "start_time": "2021-11-30T10:46:35.107Z"
   },
   {
    "duration": 1039,
    "start_time": "2021-11-30T10:46:35.114Z"
   },
   {
    "duration": 6,
    "start_time": "2021-11-30T10:46:36.155Z"
   },
   {
    "duration": 53,
    "start_time": "2021-11-30T10:46:36.168Z"
   },
   {
    "duration": 949,
    "start_time": "2021-11-30T10:46:36.225Z"
   },
   {
    "duration": 400,
    "start_time": "2021-11-30T10:46:37.177Z"
   },
   {
    "duration": -160,
    "start_time": "2021-11-30T10:46:37.741Z"
   },
   {
    "duration": -160,
    "start_time": "2021-11-30T10:46:37.743Z"
   },
   {
    "duration": -158,
    "start_time": "2021-11-30T10:46:37.744Z"
   },
   {
    "duration": 1350,
    "start_time": "2021-11-30T10:47:27.079Z"
   },
   {
    "duration": 1342,
    "start_time": "2021-11-30T10:47:28.432Z"
   },
   {
    "duration": 114,
    "start_time": "2021-11-30T10:47:29.776Z"
   },
   {
    "duration": 218,
    "start_time": "2021-11-30T10:47:29.893Z"
   },
   {
    "duration": 510,
    "start_time": "2021-11-30T10:47:30.113Z"
   },
   {
    "duration": 98,
    "start_time": "2021-11-30T10:47:30.625Z"
   },
   {
    "duration": 67,
    "start_time": "2021-11-30T10:47:30.725Z"
   },
   {
    "duration": 31,
    "start_time": "2021-11-30T10:47:30.796Z"
   },
   {
    "duration": 71,
    "start_time": "2021-11-30T10:47:30.830Z"
   },
   {
    "duration": 24,
    "start_time": "2021-11-30T10:47:30.904Z"
   },
   {
    "duration": 60,
    "start_time": "2021-11-30T10:47:30.931Z"
   },
   {
    "duration": 29,
    "start_time": "2021-11-30T10:47:30.994Z"
   },
   {
    "duration": 75,
    "start_time": "2021-11-30T10:47:31.025Z"
   },
   {
    "duration": 27,
    "start_time": "2021-11-30T10:47:31.103Z"
   },
   {
    "duration": 86,
    "start_time": "2021-11-30T10:47:31.132Z"
   },
   {
    "duration": 35,
    "start_time": "2021-11-30T10:47:31.221Z"
   },
   {
    "duration": 94,
    "start_time": "2021-11-30T10:47:31.259Z"
   },
   {
    "duration": 25,
    "start_time": "2021-11-30T10:47:31.368Z"
   },
   {
    "duration": 5,
    "start_time": "2021-11-30T10:47:31.396Z"
   },
   {
    "duration": 6,
    "start_time": "2021-11-30T10:47:31.404Z"
   },
   {
    "duration": 1348,
    "start_time": "2021-11-30T10:47:31.413Z"
   },
   {
    "duration": 131,
    "start_time": "2021-11-30T10:47:32.763Z"
   },
   {
    "duration": 3,
    "start_time": "2021-11-30T10:47:32.898Z"
   },
   {
    "duration": 1057,
    "start_time": "2021-11-30T10:47:32.904Z"
   },
   {
    "duration": 4,
    "start_time": "2021-11-30T10:47:33.964Z"
   },
   {
    "duration": 58,
    "start_time": "2021-11-30T10:47:33.971Z"
   },
   {
    "duration": 982,
    "start_time": "2021-11-30T10:47:34.032Z"
   },
   {
    "duration": 3,
    "start_time": "2021-11-30T10:47:35.016Z"
   },
   {
    "duration": 17,
    "start_time": "2021-11-30T10:47:35.021Z"
   },
   {
    "duration": 22631,
    "start_time": "2021-11-30T10:47:35.041Z"
   },
   {
    "duration": 17935,
    "start_time": "2021-11-30T10:47:57.676Z"
   },
   {
    "duration": 18,
    "start_time": "2021-11-30T10:48:29.500Z"
   },
   {
    "duration": 74,
    "start_time": "2021-11-30T10:48:46.560Z"
   },
   {
    "duration": 1353,
    "start_time": "2021-11-30T10:50:06.176Z"
   },
   {
    "duration": 1355,
    "start_time": "2021-11-30T10:50:07.532Z"
   },
   {
    "duration": 113,
    "start_time": "2021-11-30T10:50:08.890Z"
   },
   {
    "duration": 217,
    "start_time": "2021-11-30T10:50:09.006Z"
   },
   {
    "duration": 507,
    "start_time": "2021-11-30T10:50:09.225Z"
   },
   {
    "duration": 102,
    "start_time": "2021-11-30T10:50:09.735Z"
   },
   {
    "duration": 73,
    "start_time": "2021-11-30T10:50:09.839Z"
   },
   {
    "duration": 25,
    "start_time": "2021-11-30T10:50:09.916Z"
   },
   {
    "duration": 80,
    "start_time": "2021-11-30T10:50:09.945Z"
   },
   {
    "duration": 44,
    "start_time": "2021-11-30T10:50:10.028Z"
   },
   {
    "duration": 42,
    "start_time": "2021-11-30T10:50:10.074Z"
   },
   {
    "duration": 27,
    "start_time": "2021-11-30T10:50:10.119Z"
   },
   {
    "duration": 81,
    "start_time": "2021-11-30T10:50:10.148Z"
   },
   {
    "duration": 41,
    "start_time": "2021-11-30T10:50:10.231Z"
   },
   {
    "duration": 58,
    "start_time": "2021-11-30T10:50:10.275Z"
   },
   {
    "duration": 46,
    "start_time": "2021-11-30T10:50:10.335Z"
   },
   {
    "duration": 102,
    "start_time": "2021-11-30T10:50:10.383Z"
   },
   {
    "duration": 25,
    "start_time": "2021-11-30T10:50:10.488Z"
   },
   {
    "duration": 3,
    "start_time": "2021-11-30T10:50:10.515Z"
   },
   {
    "duration": 14,
    "start_time": "2021-11-30T10:50:10.520Z"
   },
   {
    "duration": 1227,
    "start_time": "2021-11-30T10:50:10.536Z"
   },
   {
    "duration": 170,
    "start_time": "2021-11-30T10:50:11.768Z"
   },
   {
    "duration": 3,
    "start_time": "2021-11-30T10:50:11.943Z"
   },
   {
    "duration": 1043,
    "start_time": "2021-11-30T10:50:11.948Z"
   },
   {
    "duration": 4,
    "start_time": "2021-11-30T10:50:12.994Z"
   },
   {
    "duration": 68,
    "start_time": "2021-11-30T10:50:13.001Z"
   },
   {
    "duration": 958,
    "start_time": "2021-11-30T10:50:13.072Z"
   },
   {
    "duration": 271,
    "start_time": "2021-11-30T10:50:14.032Z"
   },
   {
    "duration": 5,
    "start_time": "2021-11-30T10:50:14.305Z"
   },
   {
    "duration": 22664,
    "start_time": "2021-11-30T10:50:14.312Z"
   },
   {
    "duration": 15982,
    "start_time": "2021-11-30T10:50:37.069Z"
   },
   {
    "duration": 1351,
    "start_time": "2021-11-30T10:51:54.976Z"
   },
   {
    "duration": 1390,
    "start_time": "2021-11-30T10:51:56.330Z"
   },
   {
    "duration": 119,
    "start_time": "2021-11-30T10:51:57.724Z"
   },
   {
    "duration": 231,
    "start_time": "2021-11-30T10:51:57.846Z"
   },
   {
    "duration": 535,
    "start_time": "2021-11-30T10:51:58.080Z"
   },
   {
    "duration": 114,
    "start_time": "2021-11-30T10:51:58.618Z"
   },
   {
    "duration": 66,
    "start_time": "2021-11-30T10:51:58.735Z"
   },
   {
    "duration": 28,
    "start_time": "2021-11-30T10:51:58.807Z"
   },
   {
    "duration": 85,
    "start_time": "2021-11-30T10:51:58.839Z"
   },
   {
    "duration": 44,
    "start_time": "2021-11-30T10:51:58.926Z"
   },
   {
    "duration": 41,
    "start_time": "2021-11-30T10:51:58.973Z"
   },
   {
    "duration": 32,
    "start_time": "2021-11-30T10:51:59.016Z"
   },
   {
    "duration": 76,
    "start_time": "2021-11-30T10:51:59.050Z"
   },
   {
    "duration": 45,
    "start_time": "2021-11-30T10:51:59.129Z"
   },
   {
    "duration": 59,
    "start_time": "2021-11-30T10:51:59.176Z"
   },
   {
    "duration": 43,
    "start_time": "2021-11-30T10:51:59.237Z"
   },
   {
    "duration": 94,
    "start_time": "2021-11-30T10:51:59.283Z"
   },
   {
    "duration": 23,
    "start_time": "2021-11-30T10:51:59.380Z"
   },
   {
    "duration": 4,
    "start_time": "2021-11-30T10:51:59.406Z"
   },
   {
    "duration": 9,
    "start_time": "2021-11-30T10:51:59.413Z"
   },
   {
    "duration": 1358,
    "start_time": "2021-11-30T10:51:59.425Z"
   },
   {
    "duration": 180,
    "start_time": "2021-11-30T10:52:00.792Z"
   },
   {
    "duration": 4,
    "start_time": "2021-11-30T10:52:00.977Z"
   },
   {
    "duration": 1038,
    "start_time": "2021-11-30T10:52:00.983Z"
   },
   {
    "duration": 4,
    "start_time": "2021-11-30T10:52:02.024Z"
   },
   {
    "duration": 67,
    "start_time": "2021-11-30T10:52:02.031Z"
   },
   {
    "duration": 977,
    "start_time": "2021-11-30T10:52:02.101Z"
   },
   {
    "duration": 3,
    "start_time": "2021-11-30T10:52:03.080Z"
   },
   {
    "duration": 12,
    "start_time": "2021-11-30T10:52:03.085Z"
   },
   {
    "duration": 22777,
    "start_time": "2021-11-30T10:52:03.099Z"
   },
   {
    "duration": 1329,
    "start_time": "2021-11-30T10:52:35.792Z"
   },
   {
    "duration": 1359,
    "start_time": "2021-11-30T10:52:37.124Z"
   },
   {
    "duration": 105,
    "start_time": "2021-11-30T10:52:38.486Z"
   },
   {
    "duration": 215,
    "start_time": "2021-11-30T10:52:38.594Z"
   },
   {
    "duration": 517,
    "start_time": "2021-11-30T10:52:38.812Z"
   },
   {
    "duration": 100,
    "start_time": "2021-11-30T10:52:39.332Z"
   },
   {
    "duration": 70,
    "start_time": "2021-11-30T10:52:39.434Z"
   },
   {
    "duration": 24,
    "start_time": "2021-11-30T10:52:39.507Z"
   },
   {
    "duration": 74,
    "start_time": "2021-11-30T10:52:39.536Z"
   },
   {
    "duration": 27,
    "start_time": "2021-11-30T10:52:39.613Z"
   },
   {
    "duration": 58,
    "start_time": "2021-11-30T10:52:39.643Z"
   },
   {
    "duration": 31,
    "start_time": "2021-11-30T10:52:39.703Z"
   },
   {
    "duration": 78,
    "start_time": "2021-11-30T10:52:39.737Z"
   },
   {
    "duration": 36,
    "start_time": "2021-11-30T10:52:39.817Z"
   },
   {
    "duration": 64,
    "start_time": "2021-11-30T10:52:39.859Z"
   },
   {
    "duration": 54,
    "start_time": "2021-11-30T10:52:39.926Z"
   },
   {
    "duration": 95,
    "start_time": "2021-11-30T10:52:39.983Z"
   },
   {
    "duration": 29,
    "start_time": "2021-11-30T10:52:40.081Z"
   },
   {
    "duration": 3,
    "start_time": "2021-11-30T10:52:40.113Z"
   },
   {
    "duration": 10,
    "start_time": "2021-11-30T10:52:40.119Z"
   },
   {
    "duration": 1311,
    "start_time": "2021-11-30T10:52:40.132Z"
   },
   {
    "duration": 172,
    "start_time": "2021-11-30T10:52:41.446Z"
   },
   {
    "duration": 3,
    "start_time": "2021-11-30T10:52:41.621Z"
   },
   {
    "duration": 1032,
    "start_time": "2021-11-30T10:52:41.628Z"
   },
   {
    "duration": 4,
    "start_time": "2021-11-30T10:52:42.668Z"
   },
   {
    "duration": 58,
    "start_time": "2021-11-30T10:52:42.675Z"
   },
   {
    "duration": 1010,
    "start_time": "2021-11-30T10:52:42.735Z"
   },
   {
    "duration": 3,
    "start_time": "2021-11-30T10:52:43.747Z"
   },
   {
    "duration": 16,
    "start_time": "2021-11-30T10:52:43.752Z"
   },
   {
    "duration": 24411,
    "start_time": "2021-11-30T10:52:43.770Z"
   },
   {
    "duration": 15743,
    "start_time": "2021-11-30T10:53:08.269Z"
   },
   {
    "duration": 1381,
    "start_time": "2021-11-30T10:53:49.639Z"
   },
   {
    "duration": 1359,
    "start_time": "2021-11-30T10:53:51.022Z"
   },
   {
    "duration": 106,
    "start_time": "2021-11-30T10:53:52.384Z"
   },
   {
    "duration": 208,
    "start_time": "2021-11-30T10:53:52.493Z"
   },
   {
    "duration": 516,
    "start_time": "2021-11-30T10:53:52.703Z"
   },
   {
    "duration": 106,
    "start_time": "2021-11-30T10:53:53.221Z"
   },
   {
    "duration": 75,
    "start_time": "2021-11-30T10:53:53.329Z"
   },
   {
    "duration": 27,
    "start_time": "2021-11-30T10:53:53.408Z"
   },
   {
    "duration": 81,
    "start_time": "2021-11-30T10:53:53.438Z"
   },
   {
    "duration": 46,
    "start_time": "2021-11-30T10:53:53.521Z"
   },
   {
    "duration": 42,
    "start_time": "2021-11-30T10:53:53.569Z"
   },
   {
    "duration": 31,
    "start_time": "2021-11-30T10:53:53.613Z"
   },
   {
    "duration": 73,
    "start_time": "2021-11-30T10:53:53.646Z"
   },
   {
    "duration": 45,
    "start_time": "2021-11-30T10:53:53.722Z"
   },
   {
    "duration": 60,
    "start_time": "2021-11-30T10:53:53.770Z"
   },
   {
    "duration": 45,
    "start_time": "2021-11-30T10:53:53.833Z"
   },
   {
    "duration": 104,
    "start_time": "2021-11-30T10:53:53.880Z"
   },
   {
    "duration": 24,
    "start_time": "2021-11-30T10:53:53.987Z"
   },
   {
    "duration": 136,
    "start_time": "2021-11-30T10:53:54.161Z"
   },
   {
    "duration": 150,
    "start_time": "2021-11-30T10:53:54.300Z"
   },
   {
    "duration": 165,
    "start_time": "2021-11-30T10:53:54.453Z"
   },
   {
    "duration": 91,
    "start_time": "2021-11-30T10:53:54.621Z"
   },
   {
    "duration": 3,
    "start_time": "2021-11-30T10:53:54.714Z"
   },
   {
    "duration": 125,
    "start_time": "2021-11-30T10:53:54.720Z"
   },
   {
    "duration": 4,
    "start_time": "2021-11-30T10:53:54.912Z"
   },
   {
    "duration": 54,
    "start_time": "2021-11-30T10:53:55.415Z"
   },
   {
    "duration": 104,
    "start_time": "2021-11-30T10:53:55.579Z"
   },
   {
    "duration": 3,
    "start_time": "2021-11-30T10:53:55.853Z"
   },
   {
    "duration": 5,
    "start_time": "2021-11-30T10:53:56.345Z"
   },
   {
    "duration": 571,
    "start_time": "2021-11-30T10:53:56.802Z"
   },
   {
    "duration": 2834,
    "start_time": "2021-11-30T10:53:57.377Z"
   },
   {
    "duration": 1353,
    "start_time": "2021-11-30T10:57:57.299Z"
   },
   {
    "duration": 1357,
    "start_time": "2021-11-30T10:57:58.654Z"
   },
   {
    "duration": 108,
    "start_time": "2021-11-30T10:58:00.014Z"
   },
   {
    "duration": 226,
    "start_time": "2021-11-30T10:58:00.125Z"
   },
   {
    "duration": 520,
    "start_time": "2021-11-30T10:58:00.354Z"
   },
   {
    "duration": 103,
    "start_time": "2021-11-30T10:58:00.876Z"
   },
   {
    "duration": 64,
    "start_time": "2021-11-30T10:58:00.982Z"
   },
   {
    "duration": 25,
    "start_time": "2021-11-30T10:58:01.068Z"
   },
   {
    "duration": 100,
    "start_time": "2021-11-30T10:58:01.096Z"
   },
   {
    "duration": 42,
    "start_time": "2021-11-30T10:58:01.208Z"
   },
   {
    "duration": 54,
    "start_time": "2021-11-30T10:58:01.253Z"
   },
   {
    "duration": 52,
    "start_time": "2021-11-30T10:58:01.310Z"
   },
   {
    "duration": 72,
    "start_time": "2021-11-30T10:58:01.365Z"
   },
   {
    "duration": 30,
    "start_time": "2021-11-30T10:58:01.441Z"
   },
   {
    "duration": 86,
    "start_time": "2021-11-30T10:58:01.473Z"
   },
   {
    "duration": 26,
    "start_time": "2021-11-30T10:58:01.561Z"
   },
   {
    "duration": 104,
    "start_time": "2021-11-30T10:58:01.589Z"
   },
   {
    "duration": 24,
    "start_time": "2021-11-30T10:58:01.696Z"
   },
   {
    "duration": 161,
    "start_time": "2021-11-30T10:58:01.723Z"
   },
   {
    "duration": 149,
    "start_time": "2021-11-30T10:58:01.886Z"
   },
   {
    "duration": 162,
    "start_time": "2021-11-30T10:58:02.038Z"
   },
   {
    "duration": 93,
    "start_time": "2021-11-30T10:58:02.203Z"
   },
   {
    "duration": 4,
    "start_time": "2021-11-30T10:58:02.300Z"
   },
   {
    "duration": 121,
    "start_time": "2021-11-30T10:58:02.306Z"
   },
   {
    "duration": 4,
    "start_time": "2021-11-30T10:58:02.430Z"
   },
   {
    "duration": 63,
    "start_time": "2021-11-30T10:58:02.436Z"
   },
   {
    "duration": 111,
    "start_time": "2021-11-30T10:58:02.502Z"
   },
   {
    "duration": 2,
    "start_time": "2021-11-30T10:58:02.616Z"
   },
   {
    "duration": 13,
    "start_time": "2021-11-30T10:58:02.621Z"
   },
   {
    "duration": 633,
    "start_time": "2021-11-30T10:58:02.636Z"
   },
   {
    "duration": 124772,
    "start_time": "2021-11-30T10:58:03.272Z"
   },
   {
    "duration": 1524,
    "start_time": "2021-11-30T11:11:54.459Z"
   },
   {
    "duration": 1384,
    "start_time": "2021-11-30T11:11:55.986Z"
   },
   {
    "duration": 112,
    "start_time": "2021-11-30T11:11:57.372Z"
   },
   {
    "duration": 218,
    "start_time": "2021-11-30T11:11:57.487Z"
   },
   {
    "duration": 528,
    "start_time": "2021-11-30T11:11:57.707Z"
   },
   {
    "duration": 104,
    "start_time": "2021-11-30T11:11:58.237Z"
   },
   {
    "duration": 69,
    "start_time": "2021-11-30T11:11:58.343Z"
   },
   {
    "duration": 25,
    "start_time": "2021-11-30T11:11:58.416Z"
   },
   {
    "duration": 79,
    "start_time": "2021-11-30T11:11:58.444Z"
   },
   {
    "duration": 43,
    "start_time": "2021-11-30T11:11:58.526Z"
   },
   {
    "duration": 43,
    "start_time": "2021-11-30T11:11:58.571Z"
   },
   {
    "duration": 30,
    "start_time": "2021-11-30T11:11:58.616Z"
   },
   {
    "duration": 63,
    "start_time": "2021-11-30T11:11:58.668Z"
   },
   {
    "duration": 46,
    "start_time": "2021-11-30T11:11:58.734Z"
   },
   {
    "duration": 60,
    "start_time": "2021-11-30T11:11:58.782Z"
   },
   {
    "duration": 46,
    "start_time": "2021-11-30T11:11:58.845Z"
   },
   {
    "duration": 105,
    "start_time": "2021-11-30T11:11:58.894Z"
   },
   {
    "duration": 34,
    "start_time": "2021-11-30T11:11:59.002Z"
   },
   {
    "duration": 167,
    "start_time": "2021-11-30T11:11:59.038Z"
   },
   {
    "duration": 153,
    "start_time": "2021-11-30T11:11:59.207Z"
   },
   {
    "duration": 165,
    "start_time": "2021-11-30T11:11:59.362Z"
   },
   {
    "duration": 93,
    "start_time": "2021-11-30T11:11:59.530Z"
   },
   {
    "duration": 3,
    "start_time": "2021-11-30T11:11:59.628Z"
   },
   {
    "duration": 125,
    "start_time": "2021-11-30T11:11:59.634Z"
   },
   {
    "duration": 4,
    "start_time": "2021-11-30T11:11:59.762Z"
   },
   {
    "duration": 55,
    "start_time": "2021-11-30T11:11:59.768Z"
   },
   {
    "duration": 122,
    "start_time": "2021-11-30T11:11:59.825Z"
   },
   {
    "duration": 4,
    "start_time": "2021-11-30T11:11:59.949Z"
   },
   {
    "duration": 6,
    "start_time": "2021-11-30T11:11:59.967Z"
   },
   {
    "duration": 716,
    "start_time": "2021-11-30T11:11:59.976Z"
   },
   {
    "duration": 4,
    "start_time": "2021-11-30T11:12:00.769Z"
   },
   {
    "duration": 3769,
    "start_time": "2021-11-30T11:12:00.776Z"
   },
   {
    "duration": 1458,
    "start_time": "2021-11-30T11:15:07.627Z"
   },
   {
    "duration": 1394,
    "start_time": "2021-11-30T11:15:09.088Z"
   },
   {
    "duration": 114,
    "start_time": "2021-11-30T11:15:10.485Z"
   },
   {
    "duration": 219,
    "start_time": "2021-11-30T11:15:10.602Z"
   },
   {
    "duration": 533,
    "start_time": "2021-11-30T11:15:10.824Z"
   },
   {
    "duration": 112,
    "start_time": "2021-11-30T11:15:11.360Z"
   },
   {
    "duration": 62,
    "start_time": "2021-11-30T11:15:11.475Z"
   },
   {
    "duration": 46,
    "start_time": "2021-11-30T11:15:11.540Z"
   },
   {
    "duration": 60,
    "start_time": "2021-11-30T11:15:11.589Z"
   },
   {
    "duration": 26,
    "start_time": "2021-11-30T11:15:11.667Z"
   },
   {
    "duration": 43,
    "start_time": "2021-11-30T11:15:11.696Z"
   },
   {
    "duration": 26,
    "start_time": "2021-11-30T11:15:11.768Z"
   },
   {
    "duration": 82,
    "start_time": "2021-11-30T11:15:11.797Z"
   },
   {
    "duration": 27,
    "start_time": "2021-11-30T11:15:11.881Z"
   },
   {
    "duration": 73,
    "start_time": "2021-11-30T11:15:11.911Z"
   },
   {
    "duration": 30,
    "start_time": "2021-11-30T11:15:11.987Z"
   },
   {
    "duration": 108,
    "start_time": "2021-11-30T11:15:12.020Z"
   },
   {
    "duration": 49,
    "start_time": "2021-11-30T11:15:12.130Z"
   },
   {
    "duration": 151,
    "start_time": "2021-11-30T11:15:12.181Z"
   },
   {
    "duration": 154,
    "start_time": "2021-11-30T11:15:12.335Z"
   },
   {
    "duration": 219,
    "start_time": "2021-11-30T11:15:12.492Z"
   },
   {
    "duration": 112,
    "start_time": "2021-11-30T11:15:12.714Z"
   },
   {
    "duration": 4,
    "start_time": "2021-11-30T11:15:12.832Z"
   },
   {
    "duration": 178,
    "start_time": "2021-11-30T11:15:12.839Z"
   },
   {
    "duration": 5,
    "start_time": "2021-11-30T11:15:13.020Z"
   },
   {
    "duration": 69,
    "start_time": "2021-11-30T11:15:13.028Z"
   },
   {
    "duration": 118,
    "start_time": "2021-11-30T11:15:13.100Z"
   },
   {
    "duration": 3,
    "start_time": "2021-11-30T11:15:13.221Z"
   },
   {
    "duration": 27,
    "start_time": "2021-11-30T11:15:13.227Z"
   },
   {
    "duration": 721,
    "start_time": "2021-11-30T11:15:13.853Z"
   },
   {
    "duration": 4,
    "start_time": "2021-11-30T11:15:14.578Z"
   },
   {
    "duration": 39624,
    "start_time": "2021-11-30T11:15:14.767Z"
   },
   {
    "duration": 1995,
    "start_time": "2021-11-30T12:00:04.558Z"
   },
   {
    "duration": 1502,
    "start_time": "2021-11-30T12:00:06.567Z"
   },
   {
    "duration": 109,
    "start_time": "2021-11-30T12:00:08.072Z"
   },
   {
    "duration": 316,
    "start_time": "2021-11-30T12:00:08.184Z"
   },
   {
    "duration": 551,
    "start_time": "2021-11-30T12:00:08.503Z"
   },
   {
    "duration": 100,
    "start_time": "2021-11-30T12:00:14.035Z"
   },
   {
    "duration": 1723,
    "start_time": "2021-11-30T12:06:09.882Z"
   },
   {
    "duration": 1402,
    "start_time": "2021-11-30T12:06:11.608Z"
   },
   {
    "duration": 129,
    "start_time": "2021-11-30T12:06:13.013Z"
   },
   {
    "duration": 213,
    "start_time": "2021-11-30T12:06:13.146Z"
   },
   {
    "duration": 527,
    "start_time": "2021-11-30T12:06:13.366Z"
   },
   {
    "duration": 114,
    "start_time": "2021-11-30T12:06:13.896Z"
   },
   {
    "duration": 73,
    "start_time": "2021-11-30T12:06:14.012Z"
   },
   {
    "duration": 29,
    "start_time": "2021-11-30T12:06:14.089Z"
   },
   {
    "duration": 79,
    "start_time": "2021-11-30T12:06:14.120Z"
   },
   {
    "duration": 25,
    "start_time": "2021-11-30T12:06:14.571Z"
   },
   {
    "duration": 54,
    "start_time": "2021-11-30T12:06:15.497Z"
   },
   {
    "duration": 37,
    "start_time": "2021-11-30T12:06:16.275Z"
   },
   {
    "duration": 106,
    "start_time": "2021-11-30T12:06:17.299Z"
   },
   {
    "duration": 26,
    "start_time": "2021-11-30T12:06:17.968Z"
   },
   {
    "duration": 61,
    "start_time": "2021-11-30T12:06:18.925Z"
   },
   {
    "duration": 26,
    "start_time": "2021-11-30T12:06:19.171Z"
   },
   {
    "duration": 92,
    "start_time": "2021-11-30T12:06:19.434Z"
   },
   {
    "duration": 27,
    "start_time": "2021-11-30T12:06:19.831Z"
   },
   {
    "duration": 4,
    "start_time": "2021-11-30T12:06:20.752Z"
   },
   {
    "duration": 4,
    "start_time": "2021-11-30T12:06:21.269Z"
   },
   {
    "duration": 1267,
    "start_time": "2021-11-30T12:06:21.558Z"
   },
   {
    "duration": 216,
    "start_time": "2021-11-30T12:06:22.828Z"
   },
   {
    "duration": 4,
    "start_time": "2021-11-30T12:06:24.854Z"
   },
   {
    "duration": 1111,
    "start_time": "2021-11-30T12:06:26.199Z"
   },
   {
    "duration": 3,
    "start_time": "2021-11-30T12:06:27.996Z"
   },
   {
    "duration": 7,
    "start_time": "2021-11-30T12:06:29.103Z"
   },
   {
    "duration": 31040,
    "start_time": "2021-11-30T12:06:31.128Z"
   },
   {
    "duration": 4,
    "start_time": "2021-11-30T12:07:06.722Z"
   },
   {
    "duration": 47724,
    "start_time": "2021-11-30T12:07:07.762Z"
   },
   {
    "duration": 1456,
    "start_time": "2021-11-30T12:17:23.112Z"
   },
   {
    "duration": 1414,
    "start_time": "2021-11-30T12:17:24.571Z"
   },
   {
    "duration": 114,
    "start_time": "2021-11-30T12:17:25.989Z"
   },
   {
    "duration": 219,
    "start_time": "2021-11-30T12:17:26.107Z"
   },
   {
    "duration": 524,
    "start_time": "2021-11-30T12:17:26.329Z"
   },
   {
    "duration": 93,
    "start_time": "2021-11-30T12:17:26.856Z"
   },
   {
    "duration": 74,
    "start_time": "2021-11-30T12:17:26.952Z"
   },
   {
    "duration": 46,
    "start_time": "2021-11-30T12:17:27.030Z"
   },
   {
    "duration": 61,
    "start_time": "2021-11-30T12:17:27.079Z"
   },
   {
    "duration": 38,
    "start_time": "2021-11-30T12:17:27.142Z"
   },
   {
    "duration": 42,
    "start_time": "2021-11-30T12:17:27.183Z"
   },
   {
    "duration": 47,
    "start_time": "2021-11-30T12:17:27.228Z"
   },
   {
    "duration": 61,
    "start_time": "2021-11-30T12:17:27.278Z"
   },
   {
    "duration": 43,
    "start_time": "2021-11-30T12:17:27.342Z"
   },
   {
    "duration": 62,
    "start_time": "2021-11-30T12:17:27.388Z"
   },
   {
    "duration": 41,
    "start_time": "2021-11-30T12:17:27.452Z"
   },
   {
    "duration": 111,
    "start_time": "2021-11-30T12:17:27.495Z"
   },
   {
    "duration": 25,
    "start_time": "2021-11-30T12:17:27.609Z"
   },
   {
    "duration": 182,
    "start_time": "2021-11-30T12:17:27.637Z"
   },
   {
    "duration": 159,
    "start_time": "2021-11-30T12:17:27.821Z"
   },
   {
    "duration": 168,
    "start_time": "2021-11-30T12:17:27.983Z"
   },
   {
    "duration": 88,
    "start_time": "2021-11-30T12:17:28.153Z"
   },
   {
    "duration": 21,
    "start_time": "2021-11-30T12:17:28.246Z"
   },
   {
    "duration": 150,
    "start_time": "2021-11-30T12:17:28.270Z"
   },
   {
    "duration": 4,
    "start_time": "2021-11-30T12:17:28.422Z"
   },
   {
    "duration": 10,
    "start_time": "2021-11-30T12:17:28.428Z"
   },
   {
    "duration": 633,
    "start_time": "2021-11-30T12:17:28.441Z"
   },
   {
    "duration": 3412,
    "start_time": "2021-11-30T12:17:29.078Z"
   },
   {
    "duration": 401,
    "start_time": "2021-11-30T12:17:32.492Z"
   },
   {
    "duration": -160,
    "start_time": "2021-11-30T12:17:33.056Z"
   },
   {
    "duration": 43137,
    "start_time": "2021-11-30T12:18:30.548Z"
   },
   {
    "duration": 285,
    "start_time": "2021-11-30T12:20:27.638Z"
   },
   {
    "duration": 333,
    "start_time": "2021-11-30T12:20:33.344Z"
   },
   {
    "duration": 265,
    "start_time": "2021-11-30T12:22:28.597Z"
   },
   {
    "duration": 91,
    "start_time": "2021-11-30T12:22:58.245Z"
   },
   {
    "duration": 1594,
    "start_time": "2021-11-30T12:26:30.382Z"
   },
   {
    "duration": 1372,
    "start_time": "2021-11-30T12:26:31.979Z"
   },
   {
    "duration": 112,
    "start_time": "2021-11-30T12:26:33.355Z"
   },
   {
    "duration": 241,
    "start_time": "2021-11-30T12:26:33.471Z"
   },
   {
    "duration": 539,
    "start_time": "2021-11-30T12:26:33.715Z"
   },
   {
    "duration": 111,
    "start_time": "2021-11-30T12:26:34.256Z"
   },
   {
    "duration": 62,
    "start_time": "2021-11-30T12:26:34.369Z"
   },
   {
    "duration": 49,
    "start_time": "2021-11-30T12:26:34.435Z"
   },
   {
    "duration": 60,
    "start_time": "2021-11-30T12:26:34.487Z"
   },
   {
    "duration": 54,
    "start_time": "2021-11-30T12:26:34.551Z"
   },
   {
    "duration": 95,
    "start_time": "2021-11-30T12:26:34.608Z"
   },
   {
    "duration": 60,
    "start_time": "2021-11-30T12:26:34.707Z"
   },
   {
    "duration": 124,
    "start_time": "2021-11-30T12:26:34.771Z"
   },
   {
    "duration": 41,
    "start_time": "2021-11-30T12:26:34.898Z"
   },
   {
    "duration": 74,
    "start_time": "2021-11-30T12:26:34.942Z"
   },
   {
    "duration": 49,
    "start_time": "2021-11-30T12:26:35.018Z"
   },
   {
    "duration": 100,
    "start_time": "2021-11-30T12:26:35.069Z"
   },
   {
    "duration": 23,
    "start_time": "2021-11-30T12:26:35.172Z"
   },
   {
    "duration": 170,
    "start_time": "2021-11-30T12:26:35.197Z"
   },
   {
    "duration": 152,
    "start_time": "2021-11-30T12:26:35.369Z"
   },
   {
    "duration": 173,
    "start_time": "2021-11-30T12:26:35.523Z"
   },
   {
    "duration": 94,
    "start_time": "2021-11-30T12:26:35.698Z"
   },
   {
    "duration": 3,
    "start_time": "2021-11-30T12:26:35.796Z"
   },
   {
    "duration": 158,
    "start_time": "2021-11-30T12:26:35.802Z"
   },
   {
    "duration": 5,
    "start_time": "2021-11-30T12:26:35.962Z"
   },
   {
    "duration": 9,
    "start_time": "2021-11-30T12:26:35.969Z"
   },
   {
    "duration": 698,
    "start_time": "2021-11-30T12:26:35.981Z"
   },
   {
    "duration": 3364,
    "start_time": "2021-11-30T12:26:36.682Z"
   },
   {
    "duration": 1429,
    "start_time": "2021-11-30T12:33:07.004Z"
   },
   {
    "duration": 1441,
    "start_time": "2021-11-30T12:33:08.436Z"
   },
   {
    "duration": 117,
    "start_time": "2021-11-30T12:33:09.880Z"
   },
   {
    "duration": 222,
    "start_time": "2021-11-30T12:33:10.000Z"
   },
   {
    "duration": 531,
    "start_time": "2021-11-30T12:33:10.225Z"
   },
   {
    "duration": 108,
    "start_time": "2021-11-30T12:33:10.759Z"
   },
   {
    "duration": 112,
    "start_time": "2021-11-30T12:33:10.871Z"
   },
   {
    "duration": 28,
    "start_time": "2021-11-30T12:33:10.987Z"
   },
   {
    "duration": 84,
    "start_time": "2021-11-30T12:33:11.018Z"
   },
   {
    "duration": 26,
    "start_time": "2021-11-30T12:33:11.104Z"
   },
   {
    "duration": 71,
    "start_time": "2021-11-30T12:33:11.133Z"
   },
   {
    "duration": 26,
    "start_time": "2021-11-30T12:33:11.207Z"
   },
   {
    "duration": 94,
    "start_time": "2021-11-30T12:33:11.236Z"
   },
   {
    "duration": 49,
    "start_time": "2021-11-30T12:33:11.332Z"
   },
   {
    "duration": 66,
    "start_time": "2021-11-30T12:33:11.384Z"
   },
   {
    "duration": 35,
    "start_time": "2021-11-30T12:33:11.453Z"
   },
   {
    "duration": 110,
    "start_time": "2021-11-30T12:33:11.491Z"
   },
   {
    "duration": 25,
    "start_time": "2021-11-30T12:33:11.603Z"
   },
   {
    "duration": 165,
    "start_time": "2021-11-30T12:33:11.630Z"
   },
   {
    "duration": 156,
    "start_time": "2021-11-30T12:33:11.798Z"
   },
   {
    "duration": 174,
    "start_time": "2021-11-30T12:33:11.957Z"
   },
   {
    "duration": 95,
    "start_time": "2021-11-30T12:33:12.133Z"
   },
   {
    "duration": 3,
    "start_time": "2021-11-30T12:33:12.232Z"
   },
   {
    "duration": 148,
    "start_time": "2021-11-30T12:33:12.238Z"
   },
   {
    "duration": 2,
    "start_time": "2021-11-30T12:33:12.389Z"
   },
   {
    "duration": 10,
    "start_time": "2021-11-30T12:33:12.394Z"
   },
   {
    "duration": 762,
    "start_time": "2021-11-30T12:33:12.407Z"
   },
   {
    "duration": 5427,
    "start_time": "2021-11-30T12:33:13.173Z"
   },
   {
    "duration": 1514,
    "start_time": "2021-11-30T12:34:34.683Z"
   },
   {
    "duration": 1477,
    "start_time": "2021-11-30T12:34:36.200Z"
   },
   {
    "duration": 116,
    "start_time": "2021-11-30T12:34:37.680Z"
   },
   {
    "duration": 215,
    "start_time": "2021-11-30T12:34:37.799Z"
   },
   {
    "duration": 530,
    "start_time": "2021-11-30T12:34:38.016Z"
   },
   {
    "duration": 105,
    "start_time": "2021-11-30T12:34:38.549Z"
   },
   {
    "duration": 62,
    "start_time": "2021-11-30T12:34:38.668Z"
   },
   {
    "duration": 53,
    "start_time": "2021-11-30T12:34:38.734Z"
   },
   {
    "duration": 59,
    "start_time": "2021-11-30T12:34:38.790Z"
   },
   {
    "duration": 25,
    "start_time": "2021-11-30T12:34:38.868Z"
   },
   {
    "duration": 42,
    "start_time": "2021-11-30T12:34:38.896Z"
   },
   {
    "duration": 26,
    "start_time": "2021-11-30T12:34:38.968Z"
   },
   {
    "duration": 86,
    "start_time": "2021-11-30T12:34:38.996Z"
   },
   {
    "duration": 28,
    "start_time": "2021-11-30T12:34:39.085Z"
   },
   {
    "duration": 89,
    "start_time": "2021-11-30T12:34:39.116Z"
   },
   {
    "duration": 27,
    "start_time": "2021-11-30T12:34:39.208Z"
   },
   {
    "duration": 109,
    "start_time": "2021-11-30T12:34:39.238Z"
   },
   {
    "duration": 36,
    "start_time": "2021-11-30T12:34:39.349Z"
   },
   {
    "duration": 161,
    "start_time": "2021-11-30T12:34:39.387Z"
   },
   {
    "duration": 157,
    "start_time": "2021-11-30T12:34:39.550Z"
   },
   {
    "duration": 179,
    "start_time": "2021-11-30T12:34:39.709Z"
   },
   {
    "duration": 104,
    "start_time": "2021-11-30T12:34:39.891Z"
   },
   {
    "duration": 3,
    "start_time": "2021-11-30T12:34:40.002Z"
   },
   {
    "duration": 160,
    "start_time": "2021-11-30T12:34:40.007Z"
   },
   {
    "duration": 4,
    "start_time": "2021-11-30T12:34:40.170Z"
   },
   {
    "duration": 11,
    "start_time": "2021-11-30T12:34:40.177Z"
   },
   {
    "duration": 778,
    "start_time": "2021-11-30T12:34:40.191Z"
   },
   {
    "duration": 3323,
    "start_time": "2021-11-30T12:34:40.973Z"
   },
   {
    "duration": 36883,
    "start_time": "2021-11-30T12:34:44.300Z"
   },
   {
    "duration": 43904,
    "start_time": "2021-11-30T12:35:21.185Z"
   },
   {
    "duration": 95,
    "start_time": "2021-11-30T12:36:40.440Z"
   },
   {
    "duration": 117,
    "start_time": "2021-11-30T12:36:56.503Z"
   },
   {
    "duration": 149,
    "start_time": "2021-11-30T12:37:09.188Z"
   },
   {
    "duration": 499,
    "start_time": "2021-11-30T12:37:36.550Z"
   },
   {
    "duration": 1510,
    "start_time": "2021-11-30T12:37:57.126Z"
   },
   {
    "duration": 1429,
    "start_time": "2021-11-30T12:37:58.638Z"
   },
   {
    "duration": 109,
    "start_time": "2021-11-30T12:38:00.070Z"
   },
   {
    "duration": 211,
    "start_time": "2021-11-30T12:38:00.182Z"
   },
   {
    "duration": 541,
    "start_time": "2021-11-30T12:38:00.396Z"
   },
   {
    "duration": 103,
    "start_time": "2021-11-30T12:38:00.940Z"
   },
   {
    "duration": 139,
    "start_time": "2021-11-30T12:38:01.046Z"
   },
   {
    "duration": 43,
    "start_time": "2021-11-30T12:38:01.192Z"
   },
   {
    "duration": 79,
    "start_time": "2021-11-30T12:38:01.240Z"
   },
   {
    "duration": 48,
    "start_time": "2021-11-30T12:38:01.321Z"
   },
   {
    "duration": 48,
    "start_time": "2021-11-30T12:38:01.371Z"
   },
   {
    "duration": 51,
    "start_time": "2021-11-30T12:38:01.421Z"
   },
   {
    "duration": 59,
    "start_time": "2021-11-30T12:38:01.474Z"
   },
   {
    "duration": 52,
    "start_time": "2021-11-30T12:38:01.536Z"
   },
   {
    "duration": 58,
    "start_time": "2021-11-30T12:38:01.590Z"
   },
   {
    "duration": 40,
    "start_time": "2021-11-30T12:38:01.651Z"
   },
   {
    "duration": 105,
    "start_time": "2021-11-30T12:38:01.693Z"
   },
   {
    "duration": 22,
    "start_time": "2021-11-30T12:38:01.801Z"
   },
   {
    "duration": 155,
    "start_time": "2021-11-30T12:38:01.825Z"
   },
   {
    "duration": 143,
    "start_time": "2021-11-30T12:38:01.983Z"
   },
   {
    "duration": 161,
    "start_time": "2021-11-30T12:38:02.129Z"
   },
   {
    "duration": 97,
    "start_time": "2021-11-30T12:38:02.293Z"
   },
   {
    "duration": 3,
    "start_time": "2021-11-30T12:38:02.395Z"
   },
   {
    "duration": 146,
    "start_time": "2021-11-30T12:38:02.400Z"
   },
   {
    "duration": 3,
    "start_time": "2021-11-30T12:38:02.548Z"
   },
   {
    "duration": 16,
    "start_time": "2021-11-30T12:38:02.554Z"
   },
   {
    "duration": 709,
    "start_time": "2021-11-30T12:38:02.572Z"
   },
   {
    "duration": 3647,
    "start_time": "2021-11-30T12:38:03.373Z"
   },
   {
    "duration": 71649,
    "start_time": "2021-11-30T12:38:07.024Z"
   },
   {
    "duration": 42405,
    "start_time": "2021-11-30T12:39:18.677Z"
   },
   {
    "duration": 1468,
    "start_time": "2021-11-30T12:42:44.223Z"
   },
   {
    "duration": 1416,
    "start_time": "2021-11-30T12:42:45.693Z"
   },
   {
    "duration": 111,
    "start_time": "2021-11-30T12:42:47.113Z"
   },
   {
    "duration": 224,
    "start_time": "2021-11-30T12:42:47.227Z"
   },
   {
    "duration": 543,
    "start_time": "2021-11-30T12:42:47.454Z"
   },
   {
    "duration": 105,
    "start_time": "2021-11-30T12:42:48.000Z"
   },
   {
    "duration": 78,
    "start_time": "2021-11-30T12:42:48.107Z"
   },
   {
    "duration": 27,
    "start_time": "2021-11-30T12:42:48.189Z"
   },
   {
    "duration": 83,
    "start_time": "2021-11-30T12:42:48.219Z"
   },
   {
    "duration": 27,
    "start_time": "2021-11-30T12:42:48.305Z"
   },
   {
    "duration": 65,
    "start_time": "2021-11-30T12:42:48.335Z"
   },
   {
    "duration": 36,
    "start_time": "2021-11-30T12:42:48.403Z"
   },
   {
    "duration": 101,
    "start_time": "2021-11-30T12:42:48.443Z"
   },
   {
    "duration": 41,
    "start_time": "2021-11-30T12:42:48.547Z"
   },
   {
    "duration": 90,
    "start_time": "2021-11-30T12:42:48.591Z"
   },
   {
    "duration": 43,
    "start_time": "2021-11-30T12:42:48.683Z"
   },
   {
    "duration": 96,
    "start_time": "2021-11-30T12:42:48.729Z"
   },
   {
    "duration": 44,
    "start_time": "2021-11-30T12:42:48.829Z"
   },
   {
    "duration": 155,
    "start_time": "2021-11-30T12:42:48.876Z"
   },
   {
    "duration": 166,
    "start_time": "2021-11-30T12:42:49.034Z"
   },
   {
    "duration": 173,
    "start_time": "2021-11-30T12:42:49.202Z"
   },
   {
    "duration": 103,
    "start_time": "2021-11-30T12:42:49.378Z"
   },
   {
    "duration": 4,
    "start_time": "2021-11-30T12:42:49.488Z"
   },
   {
    "duration": 156,
    "start_time": "2021-11-30T12:42:49.495Z"
   },
   {
    "duration": 3,
    "start_time": "2021-11-30T12:42:49.654Z"
   },
   {
    "duration": 23,
    "start_time": "2021-11-30T12:42:49.668Z"
   },
   {
    "duration": 681,
    "start_time": "2021-11-30T12:42:49.812Z"
   },
   {
    "duration": 3224,
    "start_time": "2021-11-30T12:42:50.668Z"
   },
   {
    "duration": 112080,
    "start_time": "2021-11-30T12:42:53.895Z"
   },
   {
    "duration": 41315,
    "start_time": "2021-11-30T12:44:45.978Z"
   },
   {
    "duration": 3275,
    "start_time": "2021-11-30T12:45:27.296Z"
   },
   {
    "duration": 3392,
    "start_time": "2021-11-30T12:47:44.961Z"
   },
   {
    "duration": 3389,
    "start_time": "2021-11-30T12:48:45.518Z"
   },
   {
    "duration": 121890,
    "start_time": "2021-11-30T12:49:25.193Z"
   },
   {
    "duration": 121003,
    "start_time": "2021-11-30T12:51:56.679Z"
   },
   {
    "duration": 270194,
    "start_time": "2021-11-30T12:54:19.300Z"
   },
   {
    "duration": 2368,
    "start_time": "2021-11-30T13:00:43.805Z"
   },
   {
    "duration": 342908,
    "start_time": "2021-11-30T13:02:42.385Z"
   },
   {
    "duration": 427791,
    "start_time": "2021-11-30T13:10:04.392Z"
   },
   {
    "duration": 1589,
    "start_time": "2021-11-30T13:20:38.979Z"
   },
   {
    "duration": 1517,
    "start_time": "2021-11-30T13:20:42.216Z"
   },
   {
    "duration": 127,
    "start_time": "2021-11-30T13:20:43.736Z"
   },
   {
    "duration": 233,
    "start_time": "2021-11-30T13:20:43.869Z"
   },
   {
    "duration": 572,
    "start_time": "2021-11-30T13:20:44.104Z"
   },
   {
    "duration": 106,
    "start_time": "2021-11-30T13:20:44.680Z"
   },
   {
    "duration": 77,
    "start_time": "2021-11-30T13:20:44.789Z"
   },
   {
    "duration": 32,
    "start_time": "2021-11-30T13:20:44.870Z"
   },
   {
    "duration": 88,
    "start_time": "2021-11-30T13:20:44.906Z"
   },
   {
    "duration": 31,
    "start_time": "2021-11-30T13:20:44.997Z"
   },
   {
    "duration": 75,
    "start_time": "2021-11-30T13:20:45.031Z"
   },
   {
    "duration": 25,
    "start_time": "2021-11-30T13:20:45.109Z"
   },
   {
    "duration": 91,
    "start_time": "2021-11-30T13:20:45.136Z"
   },
   {
    "duration": 50,
    "start_time": "2021-11-30T13:20:45.230Z"
   },
   {
    "duration": 60,
    "start_time": "2021-11-30T13:20:45.283Z"
   },
   {
    "duration": 55,
    "start_time": "2021-11-30T13:20:45.345Z"
   },
   {
    "duration": 109,
    "start_time": "2021-11-30T13:20:45.402Z"
   },
   {
    "duration": 24,
    "start_time": "2021-11-30T13:20:45.513Z"
   },
   {
    "duration": 176,
    "start_time": "2021-11-30T13:20:45.539Z"
   },
   {
    "duration": 166,
    "start_time": "2021-11-30T13:20:45.718Z"
   },
   {
    "duration": 175,
    "start_time": "2021-11-30T13:20:45.887Z"
   },
   {
    "duration": 104,
    "start_time": "2021-11-30T13:20:46.065Z"
   },
   {
    "duration": 4,
    "start_time": "2021-11-30T13:20:46.173Z"
   },
   {
    "duration": 144,
    "start_time": "2021-11-30T13:20:46.230Z"
   },
   {
    "duration": 3,
    "start_time": "2021-11-30T13:20:46.454Z"
   },
   {
    "duration": 6,
    "start_time": "2021-11-30T13:20:48.843Z"
   },
   {
    "duration": 34455,
    "start_time": "2021-11-30T13:20:49.515Z"
   },
   {
    "duration": 3533,
    "start_time": "2021-11-30T13:24:54.463Z"
   },
   {
    "duration": 52383,
    "start_time": "2021-11-30T13:25:09.692Z"
   },
   {
    "duration": 68457,
    "start_time": "2021-11-30T13:26:15.710Z"
   },
   {
    "duration": 73552,
    "start_time": "2021-11-30T13:27:57.532Z"
   },
   {
    "duration": 43692,
    "start_time": "2021-11-30T13:29:45.810Z"
   },
   {
    "duration": 1508,
    "start_time": "2021-11-30T13:32:46.086Z"
   },
   {
    "duration": 1507,
    "start_time": "2021-11-30T13:32:47.600Z"
   },
   {
    "duration": 1578,
    "start_time": "2021-11-30T13:34:30.446Z"
   },
   {
    "duration": 1499,
    "start_time": "2021-11-30T13:34:32.027Z"
   },
   {
    "duration": 126,
    "start_time": "2021-11-30T13:34:33.529Z"
   },
   {
    "duration": 253,
    "start_time": "2021-11-30T13:34:33.658Z"
   },
   {
    "duration": 617,
    "start_time": "2021-11-30T13:34:33.913Z"
   },
   {
    "duration": 103,
    "start_time": "2021-11-30T13:34:34.532Z"
   },
   {
    "duration": 79,
    "start_time": "2021-11-30T13:34:34.637Z"
   },
   {
    "duration": 48,
    "start_time": "2021-11-30T13:34:34.720Z"
   },
   {
    "duration": 63,
    "start_time": "2021-11-30T13:34:34.776Z"
   },
   {
    "duration": 48,
    "start_time": "2021-11-30T13:34:34.842Z"
   },
   {
    "duration": 44,
    "start_time": "2021-11-30T13:34:34.893Z"
   },
   {
    "duration": 55,
    "start_time": "2021-11-30T13:34:34.940Z"
   },
   {
    "duration": 93,
    "start_time": "2021-11-30T13:34:34.998Z"
   },
   {
    "duration": 27,
    "start_time": "2021-11-30T13:34:35.094Z"
   },
   {
    "duration": 92,
    "start_time": "2021-11-30T13:34:35.124Z"
   },
   {
    "duration": 48,
    "start_time": "2021-11-30T13:34:35.219Z"
   },
   {
    "duration": 110,
    "start_time": "2021-11-30T13:34:35.270Z"
   },
   {
    "duration": 23,
    "start_time": "2021-11-30T13:34:35.383Z"
   },
   {
    "duration": 159,
    "start_time": "2021-11-30T13:34:35.408Z"
   },
   {
    "duration": 164,
    "start_time": "2021-11-30T13:34:35.572Z"
   },
   {
    "duration": 175,
    "start_time": "2021-11-30T13:34:35.739Z"
   },
   {
    "duration": 100,
    "start_time": "2021-11-30T13:34:35.916Z"
   },
   {
    "duration": 3,
    "start_time": "2021-11-30T13:34:38.294Z"
   },
   {
    "duration": 130,
    "start_time": "2021-11-30T13:34:38.517Z"
   },
   {
    "duration": 3,
    "start_time": "2021-11-30T13:34:38.707Z"
   },
   {
    "duration": 5,
    "start_time": "2021-11-30T13:34:39.150Z"
   },
   {
    "duration": 716,
    "start_time": "2021-11-30T13:34:39.556Z"
   },
   {
    "duration": 730,
    "start_time": "2021-11-30T13:34:56.737Z"
   },
   {
    "duration": 748,
    "start_time": "2021-11-30T13:35:11.527Z"
   },
   {
    "duration": 634,
    "start_time": "2021-11-30T13:35:16.455Z"
   },
   {
    "duration": 683,
    "start_time": "2021-11-30T13:35:23.785Z"
   },
   {
    "duration": 704,
    "start_time": "2021-11-30T13:35:26.362Z"
   },
   {
    "duration": 706,
    "start_time": "2021-11-30T13:35:34.872Z"
   },
   {
    "duration": 607,
    "start_time": "2021-11-30T13:35:39.179Z"
   },
   {
    "duration": 724,
    "start_time": "2021-11-30T13:35:42.256Z"
   },
   {
    "duration": 656,
    "start_time": "2021-11-30T13:35:45.434Z"
   },
   {
    "duration": 628,
    "start_time": "2021-11-30T13:35:54.558Z"
   },
   {
    "duration": 163,
    "start_time": "2021-11-30T13:36:10.128Z"
   },
   {
    "duration": 719,
    "start_time": "2021-11-30T13:36:16.573Z"
   },
   {
    "duration": 1576,
    "start_time": "2021-11-30T13:39:47.830Z"
   },
   {
    "duration": 1473,
    "start_time": "2021-11-30T13:39:49.409Z"
   },
   {
    "duration": 123,
    "start_time": "2021-11-30T13:39:50.886Z"
   },
   {
    "duration": 232,
    "start_time": "2021-11-30T13:39:51.012Z"
   },
   {
    "duration": 563,
    "start_time": "2021-11-30T13:39:51.246Z"
   },
   {
    "duration": 109,
    "start_time": "2021-11-30T13:39:51.812Z"
   },
   {
    "duration": 75,
    "start_time": "2021-11-30T13:39:51.923Z"
   },
   {
    "duration": 25,
    "start_time": "2021-11-30T13:39:52.002Z"
   },
   {
    "duration": 93,
    "start_time": "2021-11-30T13:39:52.030Z"
   },
   {
    "duration": 43,
    "start_time": "2021-11-30T13:39:52.127Z"
   },
   {
    "duration": 46,
    "start_time": "2021-11-30T13:39:52.175Z"
   },
   {
    "duration": 51,
    "start_time": "2021-11-30T13:39:52.223Z"
   },
   {
    "duration": 62,
    "start_time": "2021-11-30T13:39:52.279Z"
   },
   {
    "duration": 50,
    "start_time": "2021-11-30T13:39:52.343Z"
   },
   {
    "duration": 72,
    "start_time": "2021-11-30T13:39:52.395Z"
   },
   {
    "duration": 37,
    "start_time": "2021-11-30T13:39:52.471Z"
   },
   {
    "duration": 111,
    "start_time": "2021-11-30T13:39:52.510Z"
   },
   {
    "duration": 28,
    "start_time": "2021-11-30T13:39:52.623Z"
   },
   {
    "duration": 169,
    "start_time": "2021-11-30T13:39:52.669Z"
   },
   {
    "duration": 159,
    "start_time": "2021-11-30T13:39:52.840Z"
   },
   {
    "duration": 170,
    "start_time": "2021-11-30T13:39:53.002Z"
   },
   {
    "duration": 93,
    "start_time": "2021-11-30T13:39:53.176Z"
   },
   {
    "duration": 6,
    "start_time": "2021-11-30T13:39:53.276Z"
   },
   {
    "duration": 158,
    "start_time": "2021-11-30T13:39:53.285Z"
   },
   {
    "duration": 4,
    "start_time": "2021-11-30T13:39:53.446Z"
   },
   {
    "duration": 18,
    "start_time": "2021-11-30T13:39:53.453Z"
   },
   {
    "duration": 714,
    "start_time": "2021-11-30T13:39:53.473Z"
   },
   {
    "duration": 3361,
    "start_time": "2021-11-30T13:39:54.269Z"
   },
   {
    "duration": 538,
    "start_time": "2021-11-30T13:39:57.632Z"
   },
   {
    "duration": 154695,
    "start_time": "2021-11-30T13:39:58.174Z"
   },
   {
    "duration": 1554,
    "start_time": "2021-11-30T13:48:18.081Z"
   },
   {
    "duration": 1704,
    "start_time": "2021-11-30T13:48:23.160Z"
   },
   {
    "duration": 2091,
    "start_time": "2021-11-30T13:48:29.214Z"
   },
   {
    "duration": 5,
    "start_time": "2021-11-30T13:49:45.090Z"
   },
   {
    "duration": 1502,
    "start_time": "2021-11-30T13:49:45.470Z"
   },
   {
    "duration": 1599,
    "start_time": "2021-11-30T13:50:54.079Z"
   },
   {
    "duration": 1711,
    "start_time": "2021-11-30T13:50:55.876Z"
   },
   {
    "duration": 127,
    "start_time": "2021-11-30T13:50:57.590Z"
   },
   {
    "duration": 226,
    "start_time": "2021-11-30T13:50:57.720Z"
   },
   {
    "duration": 651,
    "start_time": "2021-11-30T13:50:57.949Z"
   },
   {
    "duration": 114,
    "start_time": "2021-11-30T13:50:58.603Z"
   },
   {
    "duration": 88,
    "start_time": "2021-11-30T13:50:58.719Z"
   },
   {
    "duration": 26,
    "start_time": "2021-11-30T13:50:58.810Z"
   },
   {
    "duration": 101,
    "start_time": "2021-11-30T13:50:58.840Z"
   },
   {
    "duration": 53,
    "start_time": "2021-11-30T13:50:58.943Z"
   },
   {
    "duration": 42,
    "start_time": "2021-11-30T13:50:59.001Z"
   },
   {
    "duration": 69,
    "start_time": "2021-11-30T13:50:59.045Z"
   },
   {
    "duration": 74,
    "start_time": "2021-11-30T13:50:59.876Z"
   },
   {
    "duration": 44,
    "start_time": "2021-11-30T13:50:59.957Z"
   },
   {
    "duration": 77,
    "start_time": "2021-11-30T13:51:00.125Z"
   },
   {
    "duration": 38,
    "start_time": "2021-11-30T13:51:00.209Z"
   },
   {
    "duration": 103,
    "start_time": "2021-11-30T13:51:00.294Z"
   },
   {
    "duration": 27,
    "start_time": "2021-11-30T13:51:00.400Z"
   },
   {
    "duration": 167,
    "start_time": "2021-11-30T13:51:00.462Z"
   },
   {
    "duration": 170,
    "start_time": "2021-11-30T13:51:00.631Z"
   },
   {
    "duration": 199,
    "start_time": "2021-11-30T13:51:00.805Z"
   },
   {
    "duration": 97,
    "start_time": "2021-11-30T13:51:01.006Z"
   },
   {
    "duration": 3,
    "start_time": "2021-11-30T13:51:01.106Z"
   },
   {
    "duration": 141,
    "start_time": "2021-11-30T13:51:01.211Z"
   },
   {
    "duration": 9,
    "start_time": "2021-11-30T13:51:03.483Z"
   },
   {
    "duration": 5,
    "start_time": "2021-11-30T13:51:04.230Z"
   },
   {
    "duration": 677,
    "start_time": "2021-11-30T13:51:05.614Z"
   },
   {
    "duration": 3539,
    "start_time": "2021-11-30T13:51:11.180Z"
   },
   {
    "duration": 562,
    "start_time": "2021-11-30T13:51:14.723Z"
   },
   {
    "duration": 1723,
    "start_time": "2021-11-30T13:52:08.062Z"
   },
   {
    "duration": 1431,
    "start_time": "2021-11-30T13:52:09.791Z"
   },
   {
    "duration": 125,
    "start_time": "2021-11-30T13:52:11.226Z"
   },
   {
    "duration": 230,
    "start_time": "2021-11-30T13:52:11.354Z"
   },
   {
    "duration": 555,
    "start_time": "2021-11-30T13:52:11.586Z"
   },
   {
    "duration": 111,
    "start_time": "2021-11-30T13:52:12.143Z"
   },
   {
    "duration": 78,
    "start_time": "2021-11-30T13:52:12.257Z"
   },
   {
    "duration": 48,
    "start_time": "2021-11-30T13:52:12.339Z"
   },
   {
    "duration": 80,
    "start_time": "2021-11-30T13:52:12.390Z"
   },
   {
    "duration": 29,
    "start_time": "2021-11-30T13:52:12.473Z"
   },
   {
    "duration": 68,
    "start_time": "2021-11-30T13:52:12.504Z"
   },
   {
    "duration": 29,
    "start_time": "2021-11-30T13:52:12.583Z"
   },
   {
    "duration": 97,
    "start_time": "2021-11-30T13:52:12.617Z"
   },
   {
    "duration": 26,
    "start_time": "2021-11-30T13:52:12.717Z"
   },
   {
    "duration": 89,
    "start_time": "2021-11-30T13:52:12.745Z"
   },
   {
    "duration": 52,
    "start_time": "2021-11-30T13:52:12.837Z"
   },
   {
    "duration": 99,
    "start_time": "2021-11-30T13:52:12.892Z"
   },
   {
    "duration": 24,
    "start_time": "2021-11-30T13:52:12.993Z"
   },
   {
    "duration": 172,
    "start_time": "2021-11-30T13:52:13.020Z"
   },
   {
    "duration": 159,
    "start_time": "2021-11-30T13:52:13.194Z"
   },
   {
    "duration": 172,
    "start_time": "2021-11-30T13:52:13.355Z"
   },
   {
    "duration": 94,
    "start_time": "2021-11-30T13:52:13.529Z"
   },
   {
    "duration": 3,
    "start_time": "2021-11-30T13:52:13.625Z"
   },
   {
    "duration": 161,
    "start_time": "2021-11-30T13:52:13.630Z"
   },
   {
    "duration": 3,
    "start_time": "2021-11-30T13:52:13.796Z"
   },
   {
    "duration": 14,
    "start_time": "2021-11-30T13:52:13.801Z"
   },
   {
    "duration": 730,
    "start_time": "2021-11-30T13:52:14.339Z"
   },
   {
    "duration": 844,
    "start_time": "2021-11-30T13:52:48.524Z"
   },
   {
    "duration": 3555,
    "start_time": "2021-11-30T13:52:51.940Z"
   },
   {
    "duration": 550,
    "start_time": "2021-11-30T13:52:56.830Z"
   },
   {
    "duration": 25889,
    "start_time": "2021-11-30T13:53:17.480Z"
   },
   {
    "duration": 397113,
    "start_time": "2021-11-30T13:59:19.174Z"
   },
   {
    "duration": 1052,
    "start_time": "2021-11-30T17:47:58.079Z"
   },
   {
    "duration": 793,
    "start_time": "2021-11-30T17:47:59.132Z"
   },
   {
    "duration": 48,
    "start_time": "2021-11-30T17:47:59.926Z"
   },
   {
    "duration": 118,
    "start_time": "2021-11-30T17:47:59.987Z"
   },
   {
    "duration": 304,
    "start_time": "2021-11-30T17:48:00.106Z"
   },
   {
    "duration": 65,
    "start_time": "2021-11-30T17:48:00.412Z"
   },
   {
    "duration": 41,
    "start_time": "2021-11-30T17:48:00.488Z"
   },
   {
    "duration": 19,
    "start_time": "2021-11-30T17:48:00.532Z"
   },
   {
    "duration": 51,
    "start_time": "2021-11-30T17:48:00.553Z"
   },
   {
    "duration": 18,
    "start_time": "2021-11-30T17:48:00.606Z"
   },
   {
    "duration": 30,
    "start_time": "2021-11-30T17:48:00.626Z"
   },
   {
    "duration": 34,
    "start_time": "2021-11-30T17:48:00.657Z"
   },
   {
    "duration": 39,
    "start_time": "2021-11-30T17:48:00.722Z"
   },
   {
    "duration": 15,
    "start_time": "2021-11-30T17:48:01.348Z"
   },
   {
    "duration": 39,
    "start_time": "2021-11-30T17:48:02.732Z"
   },
   {
    "duration": 16,
    "start_time": "2021-11-30T17:48:02.996Z"
   },
   {
    "duration": 63,
    "start_time": "2021-11-30T17:48:03.287Z"
   },
   {
    "duration": 14,
    "start_time": "2021-11-30T17:48:05.080Z"
   },
   {
    "duration": 10,
    "start_time": "2021-11-30T17:48:05.595Z"
   },
   {
    "duration": 8,
    "start_time": "2021-11-30T17:48:06.356Z"
   },
   {
    "duration": 1079,
    "start_time": "2021-11-30T17:52:02.549Z"
   },
   {
    "duration": 790,
    "start_time": "2021-11-30T17:52:03.630Z"
   },
   {
    "duration": 49,
    "start_time": "2021-11-30T17:52:04.422Z"
   },
   {
    "duration": 127,
    "start_time": "2021-11-30T17:52:04.473Z"
   },
   {
    "duration": 304,
    "start_time": "2021-11-30T17:52:04.601Z"
   },
   {
    "duration": 64,
    "start_time": "2021-11-30T17:52:04.907Z"
   },
   {
    "duration": 41,
    "start_time": "2021-11-30T17:52:04.997Z"
   },
   {
    "duration": 16,
    "start_time": "2021-11-30T17:52:05.192Z"
   },
   {
    "duration": 39,
    "start_time": "2021-11-30T17:52:05.637Z"
   },
   {
    "duration": 16,
    "start_time": "2021-11-30T17:52:05.812Z"
   },
   {
    "duration": 28,
    "start_time": "2021-11-30T17:52:06.205Z"
   },
   {
    "duration": 15,
    "start_time": "2021-11-30T17:52:06.459Z"
   },
   {
    "duration": 40,
    "start_time": "2021-11-30T17:52:07.313Z"
   },
   {
    "duration": 16,
    "start_time": "2021-11-30T17:52:07.673Z"
   },
   {
    "duration": 38,
    "start_time": "2021-11-30T17:52:08.545Z"
   },
   {
    "duration": 17,
    "start_time": "2021-11-30T17:52:08.881Z"
   },
   {
    "duration": 65,
    "start_time": "2021-11-30T17:52:09.236Z"
   },
   {
    "duration": 14,
    "start_time": "2021-11-30T17:52:10.168Z"
   },
   {
    "duration": 11,
    "start_time": "2021-11-30T17:52:10.511Z"
   },
   {
    "duration": 44,
    "start_time": "2021-11-30T17:52:11.418Z"
   },
   {
    "duration": 9,
    "start_time": "2021-11-30T17:52:12.003Z"
   },
   {
    "duration": 34,
    "start_time": "2021-11-30T17:52:13.438Z"
   },
   {
    "duration": 381,
    "start_time": "2021-11-30T17:52:15.074Z"
   },
   {
    "duration": 304,
    "start_time": "2021-11-30T17:52:15.479Z"
   },
   {
    "duration": 87,
    "start_time": "2021-11-30T17:52:16.336Z"
   },
   {
    "duration": 1070,
    "start_time": "2021-11-30T17:53:28.665Z"
   },
   {
    "duration": 776,
    "start_time": "2021-11-30T17:53:29.736Z"
   },
   {
    "duration": 49,
    "start_time": "2021-11-30T17:53:30.513Z"
   },
   {
    "duration": 106,
    "start_time": "2021-11-30T17:53:32.333Z"
   },
   {
    "duration": 300,
    "start_time": "2021-11-30T17:53:33.874Z"
   },
   {
    "duration": 62,
    "start_time": "2021-11-30T17:53:36.970Z"
   },
   {
    "duration": 39,
    "start_time": "2021-11-30T17:53:40.080Z"
   },
   {
    "duration": 15,
    "start_time": "2021-11-30T17:53:42.785Z"
   },
   {
    "duration": 39,
    "start_time": "2021-11-30T17:54:15.447Z"
   },
   {
    "duration": 16,
    "start_time": "2021-11-30T17:54:15.885Z"
   },
   {
    "duration": 27,
    "start_time": "2021-11-30T17:54:18.751Z"
   },
   {
    "duration": 17,
    "start_time": "2021-11-30T17:54:19.636Z"
   },
   {
    "duration": 40,
    "start_time": "2021-11-30T17:54:22.898Z"
   },
   {
    "duration": 16,
    "start_time": "2021-11-30T17:54:24.968Z"
   },
   {
    "duration": 39,
    "start_time": "2021-11-30T17:54:26.097Z"
   },
   {
    "duration": 16,
    "start_time": "2021-11-30T17:54:29.032Z"
   },
   {
    "duration": 62,
    "start_time": "2021-11-30T17:54:29.958Z"
   },
   {
    "duration": 15,
    "start_time": "2021-11-30T17:54:31.834Z"
   },
   {
    "duration": 11,
    "start_time": "2021-11-30T17:54:35.079Z"
   },
   {
    "duration": 45,
    "start_time": "2021-11-30T17:54:35.940Z"
   },
   {
    "duration": 11,
    "start_time": "2021-11-30T17:55:16.597Z"
   },
   {
    "duration": 34,
    "start_time": "2021-11-30T17:55:17.827Z"
   },
   {
    "duration": 74,
    "start_time": "2021-11-30T17:55:34.504Z"
   },
   {
    "duration": 385,
    "start_time": "2021-11-30T17:56:07.167Z"
   },
   {
    "duration": 457,
    "start_time": "2021-11-30T17:58:17.194Z"
   },
   {
    "duration": 5685,
    "start_time": "2021-11-30T17:58:18.110Z"
   },
   {
    "duration": -263,
    "start_time": "2021-11-30T17:58:24.060Z"
   },
   {
    "duration": 1041,
    "start_time": "2021-11-30T17:58:45.807Z"
   },
   {
    "duration": 808,
    "start_time": "2021-11-30T17:58:48.726Z"
   },
   {
    "duration": 54,
    "start_time": "2021-11-30T17:58:49.688Z"
   },
   {
    "duration": 115,
    "start_time": "2021-11-30T17:58:52.030Z"
   },
   {
    "duration": 299,
    "start_time": "2021-11-30T17:58:52.612Z"
   },
   {
    "duration": 64,
    "start_time": "2021-11-30T17:58:52.912Z"
   },
   {
    "duration": 45,
    "start_time": "2021-11-30T17:58:53.529Z"
   },
   {
    "duration": 16,
    "start_time": "2021-11-30T17:58:54.541Z"
   },
   {
    "duration": 40,
    "start_time": "2021-11-30T17:58:55.263Z"
   },
   {
    "duration": 16,
    "start_time": "2021-11-30T17:58:55.559Z"
   },
   {
    "duration": 28,
    "start_time": "2021-11-30T17:58:56.236Z"
   },
   {
    "duration": 16,
    "start_time": "2021-11-30T17:58:56.568Z"
   },
   {
    "duration": 40,
    "start_time": "2021-11-30T17:58:57.301Z"
   },
   {
    "duration": 16,
    "start_time": "2021-11-30T17:58:57.688Z"
   },
   {
    "duration": 38,
    "start_time": "2021-11-30T17:58:58.532Z"
   },
   {
    "duration": 21,
    "start_time": "2021-11-30T17:58:58.571Z"
   },
   {
    "duration": 61,
    "start_time": "2021-11-30T17:58:58.884Z"
   },
   {
    "duration": 13,
    "start_time": "2021-11-30T17:58:59.645Z"
   },
   {
    "duration": 10,
    "start_time": "2021-11-30T17:59:00.085Z"
   },
   {
    "duration": 49,
    "start_time": "2021-11-30T17:59:00.544Z"
   },
   {
    "duration": 9,
    "start_time": "2021-11-30T17:59:01.204Z"
   },
   {
    "duration": 37,
    "start_time": "2021-11-30T17:59:01.572Z"
   },
   {
    "duration": 74,
    "start_time": "2021-11-30T17:59:02.039Z"
   },
   {
    "duration": 145,
    "start_time": "2021-11-30T18:00:01.847Z"
   },
   {
    "duration": 403,
    "start_time": "2021-11-30T18:00:16.362Z"
   },
   {
    "duration": 5754,
    "start_time": "2021-11-30T18:00:27.540Z"
   },
   {
    "duration": 271,
    "start_time": "2021-11-30T18:00:45.834Z"
   },
   {
    "duration": -86,
    "start_time": "2021-11-30T18:00:46.193Z"
   },
   {
    "duration": -117,
    "start_time": "2021-11-30T18:00:46.225Z"
   },
   {
    "duration": 2,
    "start_time": "2021-11-30T18:00:46.190Z"
   },
   {
    "duration": 246,
    "start_time": "2021-11-30T18:00:46.271Z"
   },
   {
    "duration": -102,
    "start_time": "2021-11-30T18:00:46.620Z"
   },
   {
    "duration": 246,
    "start_time": "2021-11-30T18:00:46.615Z"
   },
   {
    "duration": -88,
    "start_time": "2021-11-30T18:00:46.951Z"
   },
   {
    "duration": 231,
    "start_time": "2021-11-30T18:00:46.944Z"
   },
   {
    "duration": -56,
    "start_time": "2021-11-30T18:00:47.233Z"
   },
   {
    "duration": 232,
    "start_time": "2021-11-30T18:00:47.196Z"
   },
   {
    "duration": 1001,
    "start_time": "2021-11-30T18:00:56.940Z"
   },
   {
    "duration": 807,
    "start_time": "2021-11-30T18:00:57.943Z"
   },
   {
    "duration": 59,
    "start_time": "2021-11-30T18:00:58.752Z"
   },
   {
    "duration": 117,
    "start_time": "2021-11-30T18:00:58.813Z"
   },
   {
    "duration": 298,
    "start_time": "2021-11-30T18:00:58.932Z"
   },
   {
    "duration": 71,
    "start_time": "2021-11-30T18:00:59.231Z"
   },
   {
    "duration": 39,
    "start_time": "2021-11-30T18:00:59.359Z"
   },
   {
    "duration": 16,
    "start_time": "2021-11-30T18:01:00.119Z"
   },
   {
    "duration": 40,
    "start_time": "2021-11-30T18:01:00.137Z"
   },
   {
    "duration": 15,
    "start_time": "2021-11-30T18:01:00.271Z"
   },
   {
    "duration": 29,
    "start_time": "2021-11-30T18:01:00.708Z"
   },
   {
    "duration": 16,
    "start_time": "2021-11-30T18:01:01.190Z"
   },
   {
    "duration": 44,
    "start_time": "2021-11-30T18:01:01.801Z"
   },
   {
    "duration": 21,
    "start_time": "2021-11-30T18:01:02.052Z"
   },
   {
    "duration": 43,
    "start_time": "2021-11-30T18:01:02.899Z"
   },
   {
    "duration": 18,
    "start_time": "2021-11-30T18:01:03.142Z"
   },
   {
    "duration": 66,
    "start_time": "2021-11-30T18:01:03.593Z"
   },
   {
    "duration": 14,
    "start_time": "2021-11-30T18:01:04.440Z"
   },
   {
    "duration": 10,
    "start_time": "2021-11-30T18:01:04.829Z"
   },
   {
    "duration": 45,
    "start_time": "2021-11-30T18:01:05.281Z"
   },
   {
    "duration": 8,
    "start_time": "2021-11-30T18:01:05.753Z"
   },
   {
    "duration": 34,
    "start_time": "2021-11-30T18:01:06.205Z"
   },
   {
    "duration": 75,
    "start_time": "2021-11-30T18:01:06.923Z"
   },
   {
    "duration": 152,
    "start_time": "2021-11-30T18:01:08.156Z"
   },
   {
    "duration": 78,
    "start_time": "2021-11-30T18:01:09.185Z"
   },
   {
    "duration": 78,
    "start_time": "2021-11-30T18:01:19.469Z"
   },
   {
    "duration": 18,
    "start_time": "2021-11-30T18:01:34.898Z"
   },
   {
    "duration": 1003,
    "start_time": "2021-11-30T18:04:25.237Z"
   },
   {
    "duration": 801,
    "start_time": "2021-11-30T18:04:26.242Z"
   },
   {
    "duration": 60,
    "start_time": "2021-11-30T18:04:27.045Z"
   },
   {
    "duration": 117,
    "start_time": "2021-11-30T18:04:27.106Z"
   },
   {
    "duration": 304,
    "start_time": "2021-11-30T18:04:27.225Z"
   },
   {
    "duration": 67,
    "start_time": "2021-11-30T18:04:27.531Z"
   },
   {
    "duration": 39,
    "start_time": "2021-11-30T18:04:27.599Z"
   },
   {
    "duration": 14,
    "start_time": "2021-11-30T18:04:27.640Z"
   },
   {
    "duration": 55,
    "start_time": "2021-11-30T18:04:27.656Z"
   },
   {
    "duration": 17,
    "start_time": "2021-11-30T18:04:27.712Z"
   },
   {
    "duration": 27,
    "start_time": "2021-11-30T18:04:27.793Z"
   },
   {
    "duration": 16,
    "start_time": "2021-11-30T18:04:27.877Z"
   },
   {
    "duration": 40,
    "start_time": "2021-11-30T18:04:28.849Z"
   },
   {
    "duration": 16,
    "start_time": "2021-11-30T18:04:28.931Z"
   },
   {
    "duration": 39,
    "start_time": "2021-11-30T18:04:29.100Z"
   },
   {
    "duration": 18,
    "start_time": "2021-11-30T18:04:29.183Z"
   },
   {
    "duration": 65,
    "start_time": "2021-11-30T18:04:29.266Z"
   },
   {
    "duration": 14,
    "start_time": "2021-11-30T18:04:29.433Z"
   },
   {
    "duration": 10,
    "start_time": "2021-11-30T18:04:29.902Z"
   },
   {
    "duration": 46,
    "start_time": "2021-11-30T18:04:30.363Z"
   },
   {
    "duration": 8,
    "start_time": "2021-11-30T18:04:30.603Z"
   },
   {
    "duration": 35,
    "start_time": "2021-11-30T18:04:30.859Z"
   },
   {
    "duration": 73,
    "start_time": "2021-11-30T18:04:31.335Z"
   },
   {
    "duration": 140,
    "start_time": "2021-11-30T18:04:31.938Z"
   },
   {
    "duration": 74,
    "start_time": "2021-11-30T18:04:33.208Z"
   },
   {
    "duration": 1040,
    "start_time": "2021-11-30T18:05:01.114Z"
   },
   {
    "duration": 905,
    "start_time": "2021-11-30T18:05:02.156Z"
   },
   {
    "duration": 60,
    "start_time": "2021-11-30T18:05:03.062Z"
   },
   {
    "duration": 110,
    "start_time": "2021-11-30T18:05:05.214Z"
   },
   {
    "duration": 304,
    "start_time": "2021-11-30T18:05:06.959Z"
   },
   {
    "duration": 68,
    "start_time": "2021-11-30T18:05:07.265Z"
   },
   {
    "duration": 39,
    "start_time": "2021-11-30T18:05:07.660Z"
   },
   {
    "duration": 15,
    "start_time": "2021-11-30T18:05:07.893Z"
   },
   {
    "duration": 39,
    "start_time": "2021-11-30T18:05:08.376Z"
   },
   {
    "duration": 16,
    "start_time": "2021-11-30T18:05:08.607Z"
   },
   {
    "duration": 29,
    "start_time": "2021-11-30T18:05:09.098Z"
   },
   {
    "duration": 16,
    "start_time": "2021-11-30T18:05:09.326Z"
   },
   {
    "duration": 40,
    "start_time": "2021-11-30T18:05:09.812Z"
   },
   {
    "duration": 15,
    "start_time": "2021-11-30T18:05:10.053Z"
   },
   {
    "duration": 42,
    "start_time": "2021-11-30T18:05:10.489Z"
   },
   {
    "duration": 17,
    "start_time": "2021-11-30T18:05:10.727Z"
   },
   {
    "duration": 65,
    "start_time": "2021-11-30T18:05:10.941Z"
   },
   {
    "duration": 15,
    "start_time": "2021-11-30T18:05:11.678Z"
   },
   {
    "duration": 11,
    "start_time": "2021-11-30T18:05:12.438Z"
   },
   {
    "duration": 46,
    "start_time": "2021-11-30T18:05:13.150Z"
   },
   {
    "duration": 9,
    "start_time": "2021-11-30T18:05:19.752Z"
   },
   {
    "duration": 34,
    "start_time": "2021-11-30T18:05:21.460Z"
   },
   {
    "duration": 72,
    "start_time": "2021-11-30T18:05:22.540Z"
   },
   {
    "duration": 141,
    "start_time": "2021-11-30T18:05:33.178Z"
   },
   {
    "duration": 258,
    "start_time": "2021-11-30T18:06:30.809Z"
   },
   {
    "duration": 245,
    "start_time": "2021-11-30T18:06:35.849Z"
   },
   {
    "duration": 70,
    "start_time": "2021-11-30T18:06:47.796Z"
   },
   {
    "duration": 83,
    "start_time": "2021-11-30T18:06:48.850Z"
   },
   {
    "duration": 18,
    "start_time": "2021-11-30T18:06:50.401Z"
   },
   {
    "duration": 86,
    "start_time": "2021-11-30T18:06:56.570Z"
   },
   {
    "duration": 48,
    "start_time": "2021-11-30T18:06:59.650Z"
   },
   {
    "duration": 70,
    "start_time": "2021-11-30T18:07:44.563Z"
   },
   {
    "duration": 1248,
    "start_time": "2021-12-01T07:28:15.966Z"
   },
   {
    "duration": 963,
    "start_time": "2021-12-01T07:28:17.215Z"
   },
   {
    "duration": 74,
    "start_time": "2021-12-01T07:28:18.180Z"
   },
   {
    "duration": 142,
    "start_time": "2021-12-01T07:28:18.256Z"
   },
   {
    "duration": 353,
    "start_time": "2021-12-01T07:28:18.400Z"
   },
   {
    "duration": 76,
    "start_time": "2021-12-01T07:28:18.755Z"
   },
   {
    "duration": 44,
    "start_time": "2021-12-01T07:28:18.833Z"
   },
   {
    "duration": 35,
    "start_time": "2021-12-01T07:28:18.878Z"
   },
   {
    "duration": 45,
    "start_time": "2021-12-01T07:28:19.435Z"
   },
   {
    "duration": 18,
    "start_time": "2021-12-01T07:28:19.653Z"
   },
   {
    "duration": 33,
    "start_time": "2021-12-01T07:28:20.240Z"
   },
   {
    "duration": 17,
    "start_time": "2021-12-01T07:28:20.326Z"
   },
   {
    "duration": 45,
    "start_time": "2021-12-01T07:28:20.967Z"
   },
   {
    "duration": 18,
    "start_time": "2021-12-01T07:28:21.467Z"
   },
   {
    "duration": 42,
    "start_time": "2021-12-01T07:28:21.638Z"
   },
   {
    "duration": 18,
    "start_time": "2021-12-01T07:28:21.719Z"
   },
   {
    "duration": 67,
    "start_time": "2021-12-01T07:28:21.802Z"
   },
   {
    "duration": 16,
    "start_time": "2021-12-01T07:28:21.971Z"
   },
   {
    "duration": 12,
    "start_time": "2021-12-01T07:28:22.519Z"
   },
   {
    "duration": 55,
    "start_time": "2021-12-01T07:28:23.185Z"
   },
   {
    "duration": 10,
    "start_time": "2021-12-01T07:28:24.065Z"
   },
   {
    "duration": 42,
    "start_time": "2021-12-01T07:28:24.786Z"
   },
   {
    "duration": 82,
    "start_time": "2021-12-01T07:28:25.419Z"
   },
   {
    "duration": 322,
    "start_time": "2021-12-01T07:28:42.316Z"
   },
   {
    "duration": 35,
    "start_time": "2021-12-01T07:28:52.769Z"
   },
   {
    "duration": 258,
    "start_time": "2021-12-01T07:31:03.711Z"
   },
   {
    "duration": 8,
    "start_time": "2021-12-01T07:31:43.951Z"
   },
   {
    "duration": 26,
    "start_time": "2021-12-01T07:32:04.805Z"
   },
   {
    "duration": 9,
    "start_time": "2021-12-01T07:32:05.463Z"
   },
   {
    "duration": 1072,
    "start_time": "2021-12-01T07:34:31.555Z"
   },
   {
    "duration": 893,
    "start_time": "2021-12-01T07:34:32.629Z"
   },
   {
    "duration": 8,
    "start_time": "2021-12-01T07:34:34.347Z"
   },
   {
    "duration": 57,
    "start_time": "2021-12-01T07:34:37.065Z"
   },
   {
    "duration": 14,
    "start_time": "2021-12-01T07:34:37.702Z"
   },
   {
    "duration": 1140,
    "start_time": "2021-12-01T07:35:32.581Z"
   },
   {
    "duration": 925,
    "start_time": "2021-12-01T07:35:33.723Z"
   },
   {
    "duration": 8,
    "start_time": "2021-12-01T07:35:35.369Z"
   },
   {
    "duration": 31,
    "start_time": "2021-12-01T07:35:36.667Z"
   },
   {
    "duration": 6,
    "start_time": "2021-12-01T07:35:37.211Z"
   },
   {
    "duration": 1260,
    "start_time": "2021-12-01T07:38:55.328Z"
   },
   {
    "duration": 772,
    "start_time": "2021-12-01T07:38:56.590Z"
   },
   {
    "duration": 12,
    "start_time": "2021-12-01T07:38:58.013Z"
   },
   {
    "duration": 108,
    "start_time": "2021-12-01T07:38:59.208Z"
   },
   {
    "duration": 1107,
    "start_time": "2021-12-01T07:39:14.488Z"
   },
   {
    "duration": 736,
    "start_time": "2021-12-01T07:39:15.597Z"
   },
   {
    "duration": 9,
    "start_time": "2021-12-01T07:39:16.335Z"
   },
   {
    "duration": 125,
    "start_time": "2021-12-01T07:39:17.275Z"
   },
   {
    "duration": 47,
    "start_time": "2021-12-01T07:39:32.927Z"
   },
   {
    "duration": 56,
    "start_time": "2021-12-01T07:39:39.711Z"
   },
   {
    "duration": 10,
    "start_time": "2021-12-01T07:39:42.677Z"
   },
   {
    "duration": 1180,
    "start_time": "2021-12-01T07:40:44.412Z"
   },
   {
    "duration": 746,
    "start_time": "2021-12-01T07:40:45.594Z"
   },
   {
    "duration": 9,
    "start_time": "2021-12-01T07:40:46.342Z"
   },
   {
    "duration": 3,
    "start_time": "2021-12-01T07:40:46.352Z"
   },
   {
    "duration": 62,
    "start_time": "2021-12-01T07:40:47.139Z"
   },
   {
    "duration": 12,
    "start_time": "2021-12-01T07:40:49.003Z"
   },
   {
    "duration": 3,
    "start_time": "2021-12-01T07:40:49.852Z"
   },
   {
    "duration": 50,
    "start_time": "2021-12-01T07:40:59.042Z"
   },
   {
    "duration": 12,
    "start_time": "2021-12-01T07:40:59.694Z"
   },
   {
    "duration": 3,
    "start_time": "2021-12-01T07:41:00.473Z"
   },
   {
    "duration": 1077,
    "start_time": "2021-12-01T07:43:17.610Z"
   },
   {
    "duration": 897,
    "start_time": "2021-12-01T07:43:18.689Z"
   },
   {
    "duration": 9,
    "start_time": "2021-12-01T07:43:20.339Z"
   },
   {
    "duration": 53,
    "start_time": "2021-12-01T07:43:21.891Z"
   },
   {
    "duration": 11,
    "start_time": "2021-12-01T07:43:22.288Z"
   },
   {
    "duration": 6,
    "start_time": "2021-12-01T07:43:57.020Z"
   },
   {
    "duration": 8,
    "start_time": "2021-12-01T07:44:49.054Z"
   },
   {
    "duration": 5,
    "start_time": "2021-12-01T07:45:04.703Z"
   },
   {
    "duration": 6,
    "start_time": "2021-12-01T07:45:13.129Z"
   },
   {
    "duration": 7,
    "start_time": "2021-12-01T07:47:00.232Z"
   },
   {
    "duration": 1143,
    "start_time": "2021-12-01T07:47:25.055Z"
   },
   {
    "duration": 929,
    "start_time": "2021-12-01T07:47:26.200Z"
   },
   {
    "duration": 9,
    "start_time": "2021-12-01T07:47:27.131Z"
   },
   {
    "duration": 75,
    "start_time": "2021-12-01T07:47:27.143Z"
   },
   {
    "duration": 138,
    "start_time": "2021-12-01T07:47:27.220Z"
   },
   {
    "duration": 363,
    "start_time": "2021-12-01T07:47:27.360Z"
   },
   {
    "duration": 67,
    "start_time": "2021-12-01T07:47:27.725Z"
   },
   {
    "duration": 42,
    "start_time": "2021-12-01T07:47:27.807Z"
   },
   {
    "duration": 17,
    "start_time": "2021-12-01T07:47:27.852Z"
   },
   {
    "duration": 58,
    "start_time": "2021-12-01T07:47:27.871Z"
   },
   {
    "duration": 22,
    "start_time": "2021-12-01T07:47:27.931Z"
   },
   {
    "duration": 31,
    "start_time": "2021-12-01T07:47:27.955Z"
   },
   {
    "duration": 32,
    "start_time": "2021-12-01T07:47:27.988Z"
   },
   {
    "duration": 46,
    "start_time": "2021-12-01T07:47:28.023Z"
   },
   {
    "duration": 41,
    "start_time": "2021-12-01T07:47:28.071Z"
   },
   {
    "duration": 43,
    "start_time": "2021-12-01T07:47:28.114Z"
   },
   {
    "duration": 19,
    "start_time": "2021-12-01T07:47:28.159Z"
   },
   {
    "duration": 88,
    "start_time": "2021-12-01T07:47:28.179Z"
   },
   {
    "duration": 15,
    "start_time": "2021-12-01T07:47:28.269Z"
   },
   {
    "duration": 28,
    "start_time": "2021-12-01T07:47:28.286Z"
   },
   {
    "duration": 52,
    "start_time": "2021-12-01T07:47:28.316Z"
   },
   {
    "duration": 9,
    "start_time": "2021-12-01T07:47:28.843Z"
   },
   {
    "duration": 39,
    "start_time": "2021-12-01T07:47:29.454Z"
   },
   {
    "duration": 79,
    "start_time": "2021-12-01T07:47:30.285Z"
   },
   {
    "duration": 290,
    "start_time": "2021-12-01T07:47:31.057Z"
   },
   {
    "duration": 19,
    "start_time": "2021-12-01T07:47:31.986Z"
   },
   {
    "duration": 5,
    "start_time": "2021-12-01T07:47:33.284Z"
   },
   {
    "duration": 7,
    "start_time": "2021-12-01T07:48:04.598Z"
   },
   {
    "duration": 2827,
    "start_time": "2021-12-01T07:52:18.647Z"
   },
   {
    "duration": 4349,
    "start_time": "2021-12-01T07:52:21.476Z"
   },
   {
    "duration": 7,
    "start_time": "2021-12-01T07:52:25.827Z"
   },
   {
    "duration": 71,
    "start_time": "2021-12-01T07:52:25.836Z"
   },
   {
    "duration": 136,
    "start_time": "2021-12-01T07:52:25.909Z"
   },
   {
    "duration": 344,
    "start_time": "2021-12-01T07:52:26.047Z"
   },
   {
    "duration": 77,
    "start_time": "2021-12-01T07:52:26.392Z"
   },
   {
    "duration": 64,
    "start_time": "2021-12-01T07:52:26.471Z"
   },
   {
    "duration": 17,
    "start_time": "2021-12-01T07:52:27.194Z"
   },
   {
    "duration": 44,
    "start_time": "2021-12-01T07:52:27.801Z"
   },
   {
    "duration": 18,
    "start_time": "2021-12-01T07:52:28.046Z"
   },
   {
    "duration": 35,
    "start_time": "2021-12-01T07:52:28.450Z"
   },
   {
    "duration": 20,
    "start_time": "2021-12-01T07:52:28.950Z"
   },
   {
    "duration": 45,
    "start_time": "2021-12-01T07:52:29.118Z"
   },
   {
    "duration": 18,
    "start_time": "2021-12-01T07:52:29.215Z"
   },
   {
    "duration": 55,
    "start_time": "2021-12-01T07:52:29.370Z"
   },
   {
    "duration": 18,
    "start_time": "2021-12-01T07:52:29.453Z"
   },
   {
    "duration": 65,
    "start_time": "2021-12-01T07:52:29.833Z"
   },
   {
    "duration": 17,
    "start_time": "2021-12-01T07:52:30.418Z"
   },
   {
    "duration": 10,
    "start_time": "2021-12-01T07:52:30.499Z"
   },
   {
    "duration": 48,
    "start_time": "2021-12-01T07:52:30.583Z"
   },
   {
    "duration": 9,
    "start_time": "2021-12-01T07:52:31.172Z"
   },
   {
    "duration": 44,
    "start_time": "2021-12-01T07:52:31.674Z"
   },
   {
    "duration": 82,
    "start_time": "2021-12-01T07:52:32.147Z"
   },
   {
    "duration": 289,
    "start_time": "2021-12-01T07:52:32.755Z"
   },
   {
    "duration": 18,
    "start_time": "2021-12-01T07:52:33.779Z"
   },
   {
    "duration": 5,
    "start_time": "2021-12-01T07:52:34.691Z"
   },
   {
    "duration": 9,
    "start_time": "2021-12-01T07:52:35.999Z"
   },
   {
    "duration": 273,
    "start_time": "2021-12-01T07:52:36.492Z"
   },
   {
    "duration": 1142,
    "start_time": "2021-12-01T07:52:48.615Z"
   },
   {
    "duration": 1192,
    "start_time": "2021-12-01T07:53:08.839Z"
   },
   {
    "duration": 1230,
    "start_time": "2021-12-01T07:53:20.547Z"
   },
   {
    "duration": 321,
    "start_time": "2021-12-01T07:53:34.059Z"
   },
   {
    "duration": 238,
    "start_time": "2021-12-01T07:53:39.901Z"
   },
   {
    "duration": 400,
    "start_time": "2021-12-01T07:53:44.618Z"
   },
   {
    "duration": 427,
    "start_time": "2021-12-01T07:53:53.716Z"
   },
   {
    "duration": 526,
    "start_time": "2021-12-01T07:54:18.210Z"
   },
   {
    "duration": 7,
    "start_time": "2021-12-01T07:55:48.730Z"
   },
   {
    "duration": 8,
    "start_time": "2021-12-01T07:56:45.436Z"
   },
   {
    "duration": 847,
    "start_time": "2021-12-01T07:56:52.889Z"
   },
   {
    "duration": 8,
    "start_time": "2021-12-01T07:56:57.600Z"
   },
   {
    "duration": 9,
    "start_time": "2021-12-01T07:57:41.540Z"
   },
   {
    "duration": 110,
    "start_time": "2021-12-01T07:57:53.820Z"
   },
   {
    "duration": 99,
    "start_time": "2021-12-01T07:58:01.581Z"
   },
   {
    "duration": 9,
    "start_time": "2021-12-01T07:58:05.831Z"
   },
   {
    "duration": 2206,
    "start_time": "2021-12-01T07:58:49.604Z"
   },
   {
    "duration": 240,
    "start_time": "2021-12-01T07:58:55.896Z"
   },
   {
    "duration": 816,
    "start_time": "2021-12-01T07:59:02.243Z"
   },
   {
    "duration": 1019,
    "start_time": "2021-12-01T07:59:52.765Z"
   },
   {
    "duration": 769,
    "start_time": "2021-12-01T08:00:31.960Z"
   },
   {
    "duration": 10,
    "start_time": "2021-12-01T08:02:04.620Z"
   },
   {
    "duration": 8,
    "start_time": "2021-12-01T08:02:27.908Z"
   },
   {
    "duration": 4,
    "start_time": "2021-12-01T08:04:56.384Z"
   },
   {
    "duration": 13,
    "start_time": "2021-12-01T08:05:10.790Z"
   },
   {
    "duration": 142,
    "start_time": "2021-12-01T08:11:07.406Z"
   },
   {
    "duration": 116,
    "start_time": "2021-12-01T08:11:21.605Z"
   },
   {
    "duration": 29079,
    "start_time": "2021-12-01T08:12:16.958Z"
   },
   {
    "duration": 18,
    "start_time": "2021-12-01T08:12:48.961Z"
   },
   {
    "duration": 1230,
    "start_time": "2021-12-01T08:14:57.337Z"
   },
   {
    "duration": 911,
    "start_time": "2021-12-01T08:14:58.568Z"
   },
   {
    "duration": 8,
    "start_time": "2021-12-01T08:14:59.481Z"
   },
   {
    "duration": 58,
    "start_time": "2021-12-01T08:14:59.506Z"
   },
   {
    "duration": 128,
    "start_time": "2021-12-01T08:14:59.566Z"
   },
   {
    "duration": 347,
    "start_time": "2021-12-01T08:14:59.696Z"
   },
   {
    "duration": 74,
    "start_time": "2021-12-01T08:15:00.045Z"
   },
   {
    "duration": 57,
    "start_time": "2021-12-01T08:15:00.122Z"
   },
   {
    "duration": 26,
    "start_time": "2021-12-01T08:15:00.181Z"
   },
   {
    "duration": 60,
    "start_time": "2021-12-01T08:15:00.208Z"
   },
   {
    "duration": 18,
    "start_time": "2021-12-01T08:15:00.270Z"
   },
   {
    "duration": 48,
    "start_time": "2021-12-01T08:15:00.289Z"
   },
   {
    "duration": 39,
    "start_time": "2021-12-01T08:15:00.339Z"
   },
   {
    "duration": 58,
    "start_time": "2021-12-01T08:15:00.380Z"
   },
   {
    "duration": 60,
    "start_time": "2021-12-01T08:15:00.439Z"
   },
   {
    "duration": 42,
    "start_time": "2021-12-01T08:15:00.634Z"
   },
   {
    "duration": 21,
    "start_time": "2021-12-01T08:15:00.836Z"
   },
   {
    "duration": 73,
    "start_time": "2021-12-01T08:15:01.073Z"
   },
   {
    "duration": 18,
    "start_time": "2021-12-01T08:15:01.507Z"
   },
   {
    "duration": 11,
    "start_time": "2021-12-01T08:15:01.741Z"
   },
   {
    "duration": 52,
    "start_time": "2021-12-01T08:15:01.986Z"
   },
   {
    "duration": 9,
    "start_time": "2021-12-01T08:15:02.249Z"
   },
   {
    "duration": 63,
    "start_time": "2021-12-01T08:15:02.726Z"
   },
   {
    "duration": 12,
    "start_time": "2021-12-01T08:15:03.111Z"
   },
   {
    "duration": 521,
    "start_time": "2021-12-01T08:15:03.492Z"
   },
   {
    "duration": 73,
    "start_time": "2021-12-01T08:15:04.031Z"
   },
   {
    "duration": 7,
    "start_time": "2021-12-01T08:15:04.469Z"
   },
   {
    "duration": 7,
    "start_time": "2021-12-01T08:15:05.336Z"
   },
   {
    "duration": 809,
    "start_time": "2021-12-01T08:15:05.855Z"
   },
   {
    "duration": 885,
    "start_time": "2021-12-01T08:15:06.667Z"
   },
   {
    "duration": 823,
    "start_time": "2021-12-01T08:15:07.554Z"
   },
   {
    "duration": 26184,
    "start_time": "2021-12-01T08:15:08.379Z"
   },
   {
    "duration": 450,
    "start_time": "2021-12-01T08:15:34.565Z"
   },
   {
    "duration": -143,
    "start_time": "2021-12-01T08:15:35.160Z"
   },
   {
    "duration": 339,
    "start_time": "2021-12-01T08:15:46.891Z"
   },
   {
    "duration": 1254,
    "start_time": "2021-12-01T08:15:56.992Z"
   },
   {
    "duration": 908,
    "start_time": "2021-12-01T08:15:58.248Z"
   },
   {
    "duration": 8,
    "start_time": "2021-12-01T08:15:59.158Z"
   },
   {
    "duration": 71,
    "start_time": "2021-12-01T08:15:59.169Z"
   },
   {
    "duration": 126,
    "start_time": "2021-12-01T08:15:59.241Z"
   },
   {
    "duration": 349,
    "start_time": "2021-12-01T08:15:59.369Z"
   },
   {
    "duration": 68,
    "start_time": "2021-12-01T08:15:59.720Z"
   },
   {
    "duration": 55,
    "start_time": "2021-12-01T08:15:59.790Z"
   },
   {
    "duration": 17,
    "start_time": "2021-12-01T08:15:59.847Z"
   },
   {
    "duration": 57,
    "start_time": "2021-12-01T08:15:59.866Z"
   },
   {
    "duration": 35,
    "start_time": "2021-12-01T08:15:59.925Z"
   },
   {
    "duration": 39,
    "start_time": "2021-12-01T08:15:59.962Z"
   },
   {
    "duration": 37,
    "start_time": "2021-12-01T08:16:00.003Z"
   },
   {
    "duration": 54,
    "start_time": "2021-12-01T08:16:00.042Z"
   },
   {
    "duration": 37,
    "start_time": "2021-12-01T08:16:00.098Z"
   },
   {
    "duration": 63,
    "start_time": "2021-12-01T08:16:00.137Z"
   },
   {
    "duration": 31,
    "start_time": "2021-12-01T08:16:00.202Z"
   },
   {
    "duration": 74,
    "start_time": "2021-12-01T08:16:00.235Z"
   },
   {
    "duration": 25,
    "start_time": "2021-12-01T08:16:00.335Z"
   },
   {
    "duration": 18,
    "start_time": "2021-12-01T08:16:00.641Z"
   },
   {
    "duration": 56,
    "start_time": "2021-12-01T08:16:01.073Z"
   },
   {
    "duration": 10,
    "start_time": "2021-12-01T08:16:01.424Z"
   },
   {
    "duration": 41,
    "start_time": "2021-12-01T08:16:01.825Z"
   },
   {
    "duration": 8,
    "start_time": "2021-12-01T08:16:02.440Z"
   },
   {
    "duration": 312,
    "start_time": "2021-12-01T08:16:02.852Z"
   },
   {
    "duration": 21,
    "start_time": "2021-12-01T08:16:03.276Z"
   },
   {
    "duration": 8,
    "start_time": "2021-12-01T08:16:04.100Z"
   },
   {
    "duration": 10,
    "start_time": "2021-12-01T08:16:07.765Z"
   },
   {
    "duration": 848,
    "start_time": "2021-12-01T08:16:08.235Z"
   },
   {
    "duration": 891,
    "start_time": "2021-12-01T08:16:09.085Z"
   },
   {
    "duration": 812,
    "start_time": "2021-12-01T08:16:09.978Z"
   },
   {
    "duration": 26802,
    "start_time": "2021-12-01T08:16:10.792Z"
   },
   {
    "duration": 30,
    "start_time": "2021-12-01T08:16:37.596Z"
   },
   {
    "duration": 18,
    "start_time": "2021-12-01T08:16:37.628Z"
   },
   {
    "duration": 488,
    "start_time": "2021-12-01T08:20:18.141Z"
   },
   {
    "duration": 109,
    "start_time": "2021-12-01T08:22:24.415Z"
   },
   {
    "duration": 1537,
    "start_time": "2021-12-01T08:30:49.985Z"
   },
   {
    "duration": 1484,
    "start_time": "2021-12-01T08:30:51.525Z"
   },
   {
    "duration": 12,
    "start_time": "2021-12-01T08:30:53.011Z"
   },
   {
    "duration": 82,
    "start_time": "2021-12-01T08:30:53.025Z"
   },
   {
    "duration": 153,
    "start_time": "2021-12-01T08:30:53.109Z"
   },
   {
    "duration": 442,
    "start_time": "2021-12-01T08:30:53.265Z"
   },
   {
    "duration": 75,
    "start_time": "2021-12-01T08:30:53.709Z"
   },
   {
    "duration": 73,
    "start_time": "2021-12-01T08:30:53.788Z"
   },
   {
    "duration": 46,
    "start_time": "2021-12-01T08:30:53.863Z"
   },
   {
    "duration": 62,
    "start_time": "2021-12-01T08:30:53.912Z"
   },
   {
    "duration": 35,
    "start_time": "2021-12-01T08:30:53.975Z"
   },
   {
    "duration": 47,
    "start_time": "2021-12-01T08:30:54.012Z"
   },
   {
    "duration": 21,
    "start_time": "2021-12-01T08:30:54.061Z"
   },
   {
    "duration": 97,
    "start_time": "2021-12-01T08:30:54.084Z"
   },
   {
    "duration": 29,
    "start_time": "2021-12-01T08:30:54.184Z"
   },
   {
    "duration": 46,
    "start_time": "2021-12-01T08:30:54.215Z"
   },
   {
    "duration": 22,
    "start_time": "2021-12-01T08:30:54.263Z"
   },
   {
    "duration": 88,
    "start_time": "2021-12-01T08:30:54.287Z"
   },
   {
    "duration": 42,
    "start_time": "2021-12-01T08:30:54.377Z"
   },
   {
    "duration": 12,
    "start_time": "2021-12-01T08:30:54.422Z"
   },
   {
    "duration": 85,
    "start_time": "2021-12-01T08:30:54.436Z"
   },
   {
    "duration": 14,
    "start_time": "2021-12-01T08:30:54.524Z"
   },
   {
    "duration": 48,
    "start_time": "2021-12-01T08:30:54.541Z"
   },
   {
    "duration": 8,
    "start_time": "2021-12-01T08:30:54.606Z"
   },
   {
    "duration": 341,
    "start_time": "2021-12-01T08:30:54.616Z"
   },
   {
    "duration": 6,
    "start_time": "2021-12-01T08:30:55.011Z"
   },
   {
    "duration": 9,
    "start_time": "2021-12-01T08:30:55.665Z"
   },
   {
    "duration": 882,
    "start_time": "2021-12-01T08:30:56.199Z"
   },
   {
    "duration": 1051,
    "start_time": "2021-12-01T08:30:57.083Z"
   },
   {
    "duration": 914,
    "start_time": "2021-12-01T08:30:58.136Z"
   },
   {
    "duration": 32069,
    "start_time": "2021-12-01T08:30:59.053Z"
   },
   {
    "duration": 37,
    "start_time": "2021-12-01T08:31:31.124Z"
   },
   {
    "duration": 101,
    "start_time": "2021-12-01T08:31:31.164Z"
   },
   {
    "duration": 110,
    "start_time": "2021-12-01T08:31:31.268Z"
   },
   {
    "duration": 116,
    "start_time": "2021-12-01T08:31:31.380Z"
   },
   {
    "duration": 57,
    "start_time": "2021-12-01T08:31:31.498Z"
   },
   {
    "duration": 3,
    "start_time": "2021-12-01T08:32:49.441Z"
   },
   {
    "duration": 77,
    "start_time": "2021-12-01T08:32:50.116Z"
   },
   {
    "duration": 445,
    "start_time": "2021-12-01T08:32:50.845Z"
   },
   {
    "duration": 2,
    "start_time": "2021-12-01T08:33:32.397Z"
   },
   {
    "duration": 78,
    "start_time": "2021-12-01T08:33:32.714Z"
   },
   {
    "duration": 241,
    "start_time": "2021-12-01T08:33:34.415Z"
   },
   {
    "duration": 5,
    "start_time": "2021-12-01T08:33:38.722Z"
   },
   {
    "duration": 487,
    "start_time": "2021-12-01T08:34:00.228Z"
   },
   {
    "duration": 2088,
    "start_time": "2021-12-01T08:34:07.343Z"
   },
   {
    "duration": 326,
    "start_time": "2021-12-01T08:34:12.106Z"
   },
   {
    "duration": 3,
    "start_time": "2021-12-01T08:34:32.026Z"
   },
   {
    "duration": 80,
    "start_time": "2021-12-01T08:34:32.334Z"
   },
   {
    "duration": 3,
    "start_time": "2021-12-01T08:34:33.395Z"
   },
   {
    "duration": 4,
    "start_time": "2021-12-01T08:34:34.567Z"
   },
   {
    "duration": 399,
    "start_time": "2021-12-01T08:34:36.013Z"
   },
   {
    "duration": 2335,
    "start_time": "2021-12-01T08:34:37.304Z"
   },
   {
    "duration": 408,
    "start_time": "2021-12-01T08:34:40.507Z"
   },
   {
    "duration": 1514,
    "start_time": "2021-12-01T08:34:53.857Z"
   },
   {
    "duration": 1049,
    "start_time": "2021-12-01T08:34:55.374Z"
   },
   {
    "duration": 10,
    "start_time": "2021-12-01T08:34:56.425Z"
   },
   {
    "duration": 83,
    "start_time": "2021-12-01T08:34:56.437Z"
   },
   {
    "duration": 144,
    "start_time": "2021-12-01T08:34:56.522Z"
   },
   {
    "duration": 443,
    "start_time": "2021-12-01T08:34:56.668Z"
   },
   {
    "duration": 73,
    "start_time": "2021-12-01T08:34:57.113Z"
   },
   {
    "duration": 58,
    "start_time": "2021-12-01T08:34:57.189Z"
   },
   {
    "duration": 26,
    "start_time": "2021-12-01T08:34:57.250Z"
   },
   {
    "duration": 70,
    "start_time": "2021-12-01T08:34:57.278Z"
   },
   {
    "duration": 25,
    "start_time": "2021-12-01T08:34:57.351Z"
   },
   {
    "duration": 57,
    "start_time": "2021-12-01T08:34:57.378Z"
   },
   {
    "duration": 20,
    "start_time": "2021-12-01T08:34:57.437Z"
   },
   {
    "duration": 77,
    "start_time": "2021-12-01T08:34:57.459Z"
   },
   {
    "duration": 29,
    "start_time": "2021-12-01T08:34:57.539Z"
   },
   {
    "duration": 76,
    "start_time": "2021-12-01T08:34:57.571Z"
   },
   {
    "duration": 22,
    "start_time": "2021-12-01T08:34:57.649Z"
   },
   {
    "duration": 99,
    "start_time": "2021-12-01T08:34:57.674Z"
   },
   {
    "duration": 17,
    "start_time": "2021-12-01T08:34:57.775Z"
   },
   {
    "duration": 11,
    "start_time": "2021-12-01T08:34:57.806Z"
   },
   {
    "duration": 61,
    "start_time": "2021-12-01T08:34:57.819Z"
   },
   {
    "duration": 23,
    "start_time": "2021-12-01T08:34:57.883Z"
   },
   {
    "duration": 62,
    "start_time": "2021-12-01T08:34:57.909Z"
   },
   {
    "duration": 6,
    "start_time": "2021-12-01T08:34:57.973Z"
   },
   {
    "duration": 354,
    "start_time": "2021-12-01T08:34:57.981Z"
   },
   {
    "duration": 8,
    "start_time": "2021-12-01T08:34:58.337Z"
   },
   {
    "duration": 8,
    "start_time": "2021-12-01T08:34:58.347Z"
   },
   {
    "duration": 996,
    "start_time": "2021-12-01T08:34:58.357Z"
   },
   {
    "duration": 1044,
    "start_time": "2021-12-01T08:34:59.356Z"
   },
   {
    "duration": 1089,
    "start_time": "2021-12-01T08:35:00.402Z"
   },
   {
    "duration": 33530,
    "start_time": "2021-12-01T08:35:01.494Z"
   },
   {
    "duration": 31,
    "start_time": "2021-12-01T08:35:35.026Z"
   },
   {
    "duration": 98,
    "start_time": "2021-12-01T08:35:35.059Z"
   },
   {
    "duration": 112,
    "start_time": "2021-12-01T08:35:35.159Z"
   },
   {
    "duration": 116,
    "start_time": "2021-12-01T08:35:35.273Z"
   },
   {
    "duration": 71,
    "start_time": "2021-12-01T08:35:35.392Z"
   },
   {
    "duration": 3,
    "start_time": "2021-12-01T08:35:35.465Z"
   },
   {
    "duration": 111,
    "start_time": "2021-12-01T08:35:35.471Z"
   },
   {
    "duration": 3,
    "start_time": "2021-12-01T08:35:35.585Z"
   },
   {
    "duration": 16,
    "start_time": "2021-12-01T08:35:35.590Z"
   },
   {
    "duration": 507,
    "start_time": "2021-12-01T08:35:35.608Z"
   },
   {
    "duration": 2674,
    "start_time": "2021-12-01T08:35:36.118Z"
   },
   {
    "duration": 385,
    "start_time": "2021-12-01T08:35:38.794Z"
   },
   {
    "duration": 233951,
    "start_time": "2021-12-01T08:36:03.492Z"
   },
   {
    "duration": 3,
    "start_time": "2021-12-01T09:28:32.250Z"
   },
   {
    "duration": 309,
    "start_time": "2021-12-01T09:28:32.517Z"
   },
   {
    "duration": 12,
    "start_time": "2021-12-01T09:28:33.948Z"
   },
   {
    "duration": 6,
    "start_time": "2021-12-01T09:28:35.524Z"
   },
   {
    "duration": 5,
    "start_time": "2021-12-01T09:31:27.704Z"
   },
   {
    "duration": 3,
    "start_time": "2021-12-01T09:31:28.799Z"
   },
   {
    "duration": 358,
    "start_time": "2021-12-01T09:31:29.151Z"
   },
   {
    "duration": 20,
    "start_time": "2021-12-01T09:31:30.810Z"
   },
   {
    "duration": 6,
    "start_time": "2021-12-01T09:31:31.260Z"
   },
   {
    "duration": 5,
    "start_time": "2021-12-01T09:31:43.314Z"
   },
   {
    "duration": 357,
    "start_time": "2021-12-01T09:31:52.666Z"
   },
   {
    "duration": 3,
    "start_time": "2021-12-01T09:37:02.713Z"
   },
   {
    "duration": 303,
    "start_time": "2021-12-01T09:37:02.927Z"
   },
   {
    "duration": 19,
    "start_time": "2021-12-01T09:37:03.307Z"
   },
   {
    "duration": 130,
    "start_time": "2021-12-01T09:37:04.213Z"
   },
   {
    "duration": 1488,
    "start_time": "2021-12-01T09:37:38.645Z"
   },
   {
    "duration": 606,
    "start_time": "2021-12-01T09:37:57.162Z"
   },
   {
    "duration": 4,
    "start_time": "2021-12-01T09:38:08.598Z"
   },
   {
    "duration": 341,
    "start_time": "2021-12-01T09:38:08.926Z"
   },
   {
    "duration": 14,
    "start_time": "2021-12-01T09:38:09.269Z"
   },
   {
    "duration": 298,
    "start_time": "2021-12-01T09:38:09.603Z"
   },
   {
    "duration": 673,
    "start_time": "2021-12-01T09:38:37.098Z"
   },
   {
    "duration": 379,
    "start_time": "2021-12-01T09:38:41.621Z"
   },
   {
    "duration": 3,
    "start_time": "2021-12-01T09:38:55.361Z"
   },
   {
    "duration": 39753,
    "start_time": "2021-12-01T09:38:55.574Z"
   },
   {
    "duration": 608,
    "start_time": "2021-12-01T09:39:35.329Z"
   },
   {
    "duration": 337,
    "start_time": "2021-12-01T09:39:36.008Z"
   },
   {
    "duration": 3,
    "start_time": "2021-12-01T09:41:26.671Z"
   },
   {
    "duration": 523,
    "start_time": "2021-12-01T09:41:26.906Z"
   },
   {
    "duration": 26,
    "start_time": "2021-12-01T09:41:27.439Z"
   },
   {
    "duration": 208,
    "start_time": "2021-12-01T09:41:27.470Z"
   },
   {
    "duration": 661,
    "start_time": "2021-12-01T09:42:25.308Z"
   },
   {
    "duration": 649,
    "start_time": "2021-12-01T09:42:46.648Z"
   },
   {
    "duration": 3,
    "start_time": "2021-12-01T09:43:19.829Z"
   },
   {
    "duration": 314,
    "start_time": "2021-12-01T09:43:20.085Z"
   },
   {
    "duration": 18,
    "start_time": "2021-12-01T09:43:20.406Z"
   },
   {
    "duration": 807,
    "start_time": "2021-12-01T09:43:21.057Z"
   },
   {
    "duration": 297,
    "start_time": "2021-12-01T09:43:57.795Z"
   },
   {
    "duration": 1488,
    "start_time": "2021-12-01T09:47:09.380Z"
   },
   {
    "duration": 1118,
    "start_time": "2021-12-01T09:47:10.870Z"
   },
   {
    "duration": 17,
    "start_time": "2021-12-01T09:47:11.991Z"
   },
   {
    "duration": 61,
    "start_time": "2021-12-01T09:47:12.010Z"
   },
   {
    "duration": 160,
    "start_time": "2021-12-01T09:47:12.073Z"
   },
   {
    "duration": 442,
    "start_time": "2021-12-01T09:47:12.235Z"
   },
   {
    "duration": 88,
    "start_time": "2021-12-01T09:47:12.679Z"
   },
   {
    "duration": 72,
    "start_time": "2021-12-01T09:47:12.770Z"
   },
   {
    "duration": 30,
    "start_time": "2021-12-01T09:47:12.845Z"
   },
   {
    "duration": 79,
    "start_time": "2021-12-01T09:47:12.876Z"
   },
   {
    "duration": 21,
    "start_time": "2021-12-01T09:47:12.957Z"
   },
   {
    "duration": 58,
    "start_time": "2021-12-01T09:47:12.980Z"
   },
   {
    "duration": 25,
    "start_time": "2021-12-01T09:47:13.041Z"
   },
   {
    "duration": 65,
    "start_time": "2021-12-01T09:47:13.068Z"
   },
   {
    "duration": 18,
    "start_time": "2021-12-01T09:47:13.135Z"
   },
   {
    "duration": 74,
    "start_time": "2021-12-01T09:47:13.155Z"
   },
   {
    "duration": 19,
    "start_time": "2021-12-01T09:47:13.231Z"
   },
   {
    "duration": 93,
    "start_time": "2021-12-01T09:47:13.251Z"
   },
   {
    "duration": 17,
    "start_time": "2021-12-01T09:47:13.346Z"
   },
   {
    "duration": 10,
    "start_time": "2021-12-01T09:47:13.365Z"
   },
   {
    "duration": 75,
    "start_time": "2021-12-01T09:47:13.377Z"
   },
   {
    "duration": 9,
    "start_time": "2021-12-01T09:47:13.453Z"
   },
   {
    "duration": 69,
    "start_time": "2021-12-01T09:47:13.466Z"
   },
   {
    "duration": 7,
    "start_time": "2021-12-01T09:47:13.537Z"
   },
   {
    "duration": 361,
    "start_time": "2021-12-01T09:47:13.546Z"
   },
   {
    "duration": 9,
    "start_time": "2021-12-01T09:47:13.910Z"
   },
   {
    "duration": 13,
    "start_time": "2021-12-01T09:47:13.922Z"
   },
   {
    "duration": 1040,
    "start_time": "2021-12-01T09:47:13.938Z"
   },
   {
    "duration": 1180,
    "start_time": "2021-12-01T09:47:14.979Z"
   },
   {
    "duration": 1039,
    "start_time": "2021-12-01T09:47:16.163Z"
   },
   {
    "duration": 29754,
    "start_time": "2021-12-01T09:47:17.207Z"
   },
   {
    "duration": 33,
    "start_time": "2021-12-01T09:47:46.963Z"
   },
   {
    "duration": 79,
    "start_time": "2021-12-01T09:47:47.006Z"
   },
   {
    "duration": 98,
    "start_time": "2021-12-01T09:47:47.087Z"
   },
   {
    "duration": 105,
    "start_time": "2021-12-01T09:47:47.187Z"
   },
   {
    "duration": 73,
    "start_time": "2021-12-01T09:47:47.294Z"
   },
   {
    "duration": 3,
    "start_time": "2021-12-01T09:47:47.369Z"
   },
   {
    "duration": 99,
    "start_time": "2021-12-01T09:47:47.374Z"
   },
   {
    "duration": 254,
    "start_time": "2021-12-01T09:47:47.475Z"
   },
   {
    "duration": 3,
    "start_time": "2021-12-01T09:47:47.731Z"
   },
   {
    "duration": 17,
    "start_time": "2021-12-01T09:47:47.736Z"
   },
   {
    "duration": 371,
    "start_time": "2021-12-01T09:47:47.755Z"
   },
   {
    "duration": 96,
    "start_time": "2021-12-01T09:47:48.128Z"
   },
   {
    "duration": 88,
    "start_time": "2021-12-01T09:47:48.227Z"
   },
   {
    "duration": 2210,
    "start_time": "2021-12-01T09:47:48.320Z"
   },
   {
    "duration": 3,
    "start_time": "2021-12-01T09:47:50.532Z"
   },
   {
    "duration": 340,
    "start_time": "2021-12-01T09:47:50.536Z"
   },
   {
    "duration": 14,
    "start_time": "2021-12-01T09:47:50.879Z"
   },
   {
    "duration": 16,
    "start_time": "2021-12-01T09:47:50.895Z"
   },
   {
    "duration": 330,
    "start_time": "2021-12-01T09:47:50.915Z"
   },
   {
    "duration": 4,
    "start_time": "2021-12-01T09:47:51.247Z"
   },
   {
    "duration": 35458,
    "start_time": "2021-12-01T09:47:51.253Z"
   },
   {
    "duration": 595,
    "start_time": "2021-12-01T09:48:26.714Z"
   },
   {
    "duration": 10,
    "start_time": "2021-12-01T09:48:27.313Z"
   },
   {
    "duration": 350,
    "start_time": "2021-12-01T09:48:27.326Z"
   },
   {
    "duration": 207744,
    "start_time": "2021-12-01T09:48:27.678Z"
   },
   {
    "duration": 259006,
    "start_time": "2021-12-01T09:51:55.424Z"
   },
   {
    "duration": 5,
    "start_time": "2021-12-01T09:56:14.432Z"
   },
   {
    "duration": 130918,
    "start_time": "2021-12-01T09:56:14.439Z"
   },
   {
    "duration": 62,
    "start_time": "2021-12-01T09:58:25.359Z"
   },
   {
    "duration": 4,
    "start_time": "2021-12-01T09:58:25.423Z"
   },
   {
    "duration": 342,
    "start_time": "2021-12-01T09:58:25.429Z"
   },
   {
    "duration": 1266,
    "start_time": "2021-12-01T10:02:35.561Z"
   },
   {
    "duration": 1013,
    "start_time": "2021-12-01T10:02:36.829Z"
   },
   {
    "duration": 8,
    "start_time": "2021-12-01T10:02:37.844Z"
   },
   {
    "duration": 83,
    "start_time": "2021-12-01T10:02:37.854Z"
   },
   {
    "duration": 140,
    "start_time": "2021-12-01T10:02:37.939Z"
   },
   {
    "duration": 363,
    "start_time": "2021-12-01T10:02:38.081Z"
   },
   {
    "duration": 86,
    "start_time": "2021-12-01T10:02:38.446Z"
   },
   {
    "duration": 54,
    "start_time": "2021-12-01T10:02:38.535Z"
   },
   {
    "duration": 44,
    "start_time": "2021-12-01T10:02:38.591Z"
   },
   {
    "duration": 54,
    "start_time": "2021-12-01T10:02:38.637Z"
   },
   {
    "duration": 32,
    "start_time": "2021-12-01T10:02:38.693Z"
   },
   {
    "duration": 49,
    "start_time": "2021-12-01T10:02:38.727Z"
   },
   {
    "duration": 49,
    "start_time": "2021-12-01T10:02:38.778Z"
   },
   {
    "duration": 70,
    "start_time": "2021-12-01T10:02:38.829Z"
   },
   {
    "duration": 40,
    "start_time": "2021-12-01T10:02:38.902Z"
   },
   {
    "duration": 61,
    "start_time": "2021-12-01T10:02:38.944Z"
   },
   {
    "duration": 41,
    "start_time": "2021-12-01T10:02:39.008Z"
   },
   {
    "duration": 102,
    "start_time": "2021-12-01T10:02:39.051Z"
   },
   {
    "duration": 27,
    "start_time": "2021-12-01T10:02:39.156Z"
   },
   {
    "duration": 28,
    "start_time": "2021-12-01T10:02:39.185Z"
   },
   {
    "duration": 73,
    "start_time": "2021-12-01T10:02:39.214Z"
   },
   {
    "duration": 9,
    "start_time": "2021-12-01T10:02:39.288Z"
   },
   {
    "duration": 50,
    "start_time": "2021-12-01T10:02:39.509Z"
   },
   {
    "duration": 6,
    "start_time": "2021-12-01T10:02:39.752Z"
   },
   {
    "duration": 311,
    "start_time": "2021-12-01T10:02:39.945Z"
   },
   {
    "duration": 10,
    "start_time": "2021-12-01T10:02:40.410Z"
   },
   {
    "duration": 7,
    "start_time": "2021-12-01T10:02:40.676Z"
   },
   {
    "duration": 948,
    "start_time": "2021-12-01T10:02:40.893Z"
   },
   {
    "duration": 1026,
    "start_time": "2021-12-01T10:02:41.843Z"
   },
   {
    "duration": 990,
    "start_time": "2021-12-01T10:02:42.871Z"
   },
   {
    "duration": 30388,
    "start_time": "2021-12-01T10:02:43.863Z"
   },
   {
    "duration": 30,
    "start_time": "2021-12-01T10:03:14.252Z"
   },
   {
    "duration": 100,
    "start_time": "2021-12-01T10:03:14.284Z"
   },
   {
    "duration": 105,
    "start_time": "2021-12-01T10:03:14.387Z"
   },
   {
    "duration": 115,
    "start_time": "2021-12-01T10:03:14.494Z"
   },
   {
    "duration": 62,
    "start_time": "2021-12-01T10:03:14.612Z"
   },
   {
    "duration": 2,
    "start_time": "2021-12-01T10:03:14.676Z"
   },
   {
    "duration": 108,
    "start_time": "2021-12-01T10:03:14.680Z"
   },
   {
    "duration": 319,
    "start_time": "2021-12-01T10:03:14.790Z"
   },
   {
    "duration": 5,
    "start_time": "2021-12-01T10:03:15.112Z"
   },
   {
    "duration": 8,
    "start_time": "2021-12-01T10:03:15.120Z"
   },
   {
    "duration": 492,
    "start_time": "2021-12-01T10:03:15.130Z"
   },
   {
    "duration": 93,
    "start_time": "2021-12-01T10:03:15.625Z"
   },
   {
    "duration": 103,
    "start_time": "2021-12-01T10:03:15.721Z"
   },
   {
    "duration": 1225,
    "start_time": "2021-12-01T10:23:52.750Z"
   },
   {
    "duration": 957,
    "start_time": "2021-12-01T10:23:53.977Z"
   },
   {
    "duration": 8,
    "start_time": "2021-12-01T10:23:54.937Z"
   },
   {
    "duration": 75,
    "start_time": "2021-12-01T10:23:54.947Z"
   },
   {
    "duration": 144,
    "start_time": "2021-12-01T10:23:55.024Z"
   },
   {
    "duration": 482,
    "start_time": "2021-12-01T10:23:55.170Z"
   },
   {
    "duration": 74,
    "start_time": "2021-12-01T10:23:55.654Z"
   },
   {
    "duration": 46,
    "start_time": "2021-12-01T10:23:55.731Z"
   },
   {
    "duration": 34,
    "start_time": "2021-12-01T10:23:55.779Z"
   },
   {
    "duration": 48,
    "start_time": "2021-12-01T10:23:55.815Z"
   },
   {
    "duration": 21,
    "start_time": "2021-12-01T10:23:55.865Z"
   },
   {
    "duration": 33,
    "start_time": "2021-12-01T10:23:55.906Z"
   },
   {
    "duration": 20,
    "start_time": "2021-12-01T10:23:55.941Z"
   },
   {
    "duration": 69,
    "start_time": "2021-12-01T10:23:55.963Z"
   },
   {
    "duration": 25,
    "start_time": "2021-12-01T10:23:56.034Z"
   },
   {
    "duration": 79,
    "start_time": "2021-12-01T10:23:56.061Z"
   },
   {
    "duration": 26,
    "start_time": "2021-12-01T10:23:56.142Z"
   },
   {
    "duration": 118,
    "start_time": "2021-12-01T10:23:56.170Z"
   },
   {
    "duration": 31,
    "start_time": "2021-12-01T10:23:56.291Z"
   },
   {
    "duration": 10,
    "start_time": "2021-12-01T10:23:56.324Z"
   },
   {
    "duration": 71,
    "start_time": "2021-12-01T10:23:56.336Z"
   },
   {
    "duration": 9,
    "start_time": "2021-12-01T10:23:56.408Z"
   },
   {
    "duration": 47,
    "start_time": "2021-12-01T10:23:56.419Z"
   },
   {
    "duration": 6,
    "start_time": "2021-12-01T10:23:56.468Z"
   },
   {
    "duration": 347,
    "start_time": "2021-12-01T10:23:56.476Z"
   },
   {
    "duration": 8,
    "start_time": "2021-12-01T10:23:56.825Z"
   },
   {
    "duration": 8,
    "start_time": "2021-12-01T10:23:56.835Z"
   },
   {
    "duration": 894,
    "start_time": "2021-12-01T10:23:56.846Z"
   },
   {
    "duration": 888,
    "start_time": "2021-12-01T10:23:57.743Z"
   },
   {
    "duration": 805,
    "start_time": "2021-12-01T10:23:58.633Z"
   },
   {
    "duration": 28339,
    "start_time": "2021-12-01T10:23:59.440Z"
   },
   {
    "duration": 46,
    "start_time": "2021-12-01T10:24:27.781Z"
   },
   {
    "duration": 89,
    "start_time": "2021-12-01T10:24:27.829Z"
   },
   {
    "duration": 95,
    "start_time": "2021-12-01T10:24:27.920Z"
   },
   {
    "duration": 97,
    "start_time": "2021-12-01T10:24:28.017Z"
   },
   {
    "duration": 53,
    "start_time": "2021-12-01T10:24:28.117Z"
   },
   {
    "duration": 3,
    "start_time": "2021-12-01T10:24:28.172Z"
   },
   {
    "duration": 96,
    "start_time": "2021-12-01T10:24:28.176Z"
   },
   {
    "duration": 249,
    "start_time": "2021-12-01T10:24:28.274Z"
   },
   {
    "duration": 4,
    "start_time": "2021-12-01T10:24:28.524Z"
   },
   {
    "duration": 12,
    "start_time": "2021-12-01T10:24:28.529Z"
   },
   {
    "duration": 5,
    "start_time": "2021-12-01T10:24:28.542Z"
   },
   {
    "duration": 367,
    "start_time": "2021-12-01T10:24:28.548Z"
   },
   {
    "duration": 93,
    "start_time": "2021-12-01T10:24:28.917Z"
   },
   {
    "duration": 96,
    "start_time": "2021-12-01T10:24:29.013Z"
   },
   {
    "duration": 2080,
    "start_time": "2021-12-01T10:24:29.111Z"
   },
   {
    "duration": 3,
    "start_time": "2021-12-01T10:24:31.193Z"
   },
   {
    "duration": 316,
    "start_time": "2021-12-01T10:24:31.206Z"
   },
   {
    "duration": 151,
    "start_time": "2021-12-01T10:24:31.524Z"
   },
   {
    "duration": -56,
    "start_time": "2021-12-01T10:24:31.733Z"
   },
   {
    "duration": -62,
    "start_time": "2021-12-01T10:24:31.740Z"
   },
   {
    "duration": -63,
    "start_time": "2021-12-01T10:24:31.743Z"
   },
   {
    "duration": -65,
    "start_time": "2021-12-01T10:24:31.746Z"
   },
   {
    "duration": 139,
    "start_time": "2021-12-01T10:25:58.413Z"
   },
   {
    "duration": 132,
    "start_time": "2021-12-01T10:26:44.367Z"
   },
   {
    "duration": 119,
    "start_time": "2021-12-01T10:27:16.053Z"
   },
   {
    "duration": 117,
    "start_time": "2021-12-01T10:27:23.117Z"
   },
   {
    "duration": 15,
    "start_time": "2021-12-01T10:27:42.352Z"
   },
   {
    "duration": 5,
    "start_time": "2021-12-01T10:27:44.740Z"
   },
   {
    "duration": 279,
    "start_time": "2021-12-01T10:27:45.035Z"
   },
   {
    "duration": 3,
    "start_time": "2021-12-01T10:27:46.133Z"
   },
   {
    "duration": 3,
    "start_time": "2021-12-01T10:27:47.056Z"
   },
   {
    "duration": 4,
    "start_time": "2021-12-01T10:28:10.111Z"
   },
   {
    "duration": 1255,
    "start_time": "2021-12-01T10:33:45.605Z"
   },
   {
    "duration": 961,
    "start_time": "2021-12-01T10:33:46.862Z"
   },
   {
    "duration": 9,
    "start_time": "2021-12-01T10:33:47.825Z"
   },
   {
    "duration": 71,
    "start_time": "2021-12-01T10:33:47.836Z"
   },
   {
    "duration": 132,
    "start_time": "2021-12-01T10:33:47.909Z"
   },
   {
    "duration": 348,
    "start_time": "2021-12-01T10:33:48.042Z"
   },
   {
    "duration": 78,
    "start_time": "2021-12-01T10:33:48.392Z"
   },
   {
    "duration": 59,
    "start_time": "2021-12-01T10:33:48.473Z"
   },
   {
    "duration": 18,
    "start_time": "2021-12-01T10:33:48.535Z"
   },
   {
    "duration": 60,
    "start_time": "2021-12-01T10:33:48.555Z"
   },
   {
    "duration": 20,
    "start_time": "2021-12-01T10:33:48.616Z"
   },
   {
    "duration": 31,
    "start_time": "2021-12-01T10:33:48.637Z"
   },
   {
    "duration": 36,
    "start_time": "2021-12-01T10:33:48.670Z"
   },
   {
    "duration": 46,
    "start_time": "2021-12-01T10:33:48.709Z"
   },
   {
    "duration": 21,
    "start_time": "2021-12-01T10:33:48.757Z"
   },
   {
    "duration": 62,
    "start_time": "2021-12-01T10:33:48.780Z"
   },
   {
    "duration": 21,
    "start_time": "2021-12-01T10:33:48.844Z"
   },
   {
    "duration": 83,
    "start_time": "2021-12-01T10:33:48.868Z"
   },
   {
    "duration": 18,
    "start_time": "2021-12-01T10:33:48.953Z"
   },
   {
    "duration": 32,
    "start_time": "2021-12-01T10:33:48.974Z"
   },
   {
    "duration": 50,
    "start_time": "2021-12-01T10:33:49.008Z"
   },
   {
    "duration": 8,
    "start_time": "2021-12-01T10:33:49.060Z"
   },
   {
    "duration": 46,
    "start_time": "2021-12-01T10:33:49.131Z"
   },
   {
    "duration": 7,
    "start_time": "2021-12-01T10:33:49.201Z"
   },
   {
    "duration": 293,
    "start_time": "2021-12-01T10:33:49.286Z"
   },
   {
    "duration": 6,
    "start_time": "2021-12-01T10:33:50.067Z"
   },
   {
    "duration": 9,
    "start_time": "2021-12-01T10:33:50.322Z"
   },
   {
    "duration": 803,
    "start_time": "2021-12-01T10:33:50.614Z"
   },
   {
    "duration": 869,
    "start_time": "2021-12-01T10:33:51.419Z"
   },
   {
    "duration": 819,
    "start_time": "2021-12-01T10:33:52.290Z"
   },
   {
    "duration": 29122,
    "start_time": "2021-12-01T10:33:53.111Z"
   },
   {
    "duration": 34,
    "start_time": "2021-12-01T10:34:22.235Z"
   },
   {
    "duration": 95,
    "start_time": "2021-12-01T10:34:22.271Z"
   },
   {
    "duration": 98,
    "start_time": "2021-12-01T10:34:22.367Z"
   },
   {
    "duration": 106,
    "start_time": "2021-12-01T10:34:22.468Z"
   },
   {
    "duration": 67,
    "start_time": "2021-12-01T10:34:22.576Z"
   },
   {
    "duration": 2,
    "start_time": "2021-12-01T10:34:22.645Z"
   },
   {
    "duration": 93,
    "start_time": "2021-12-01T10:34:22.649Z"
   },
   {
    "duration": 236,
    "start_time": "2021-12-01T10:34:22.744Z"
   },
   {
    "duration": 4,
    "start_time": "2021-12-01T10:34:22.982Z"
   },
   {
    "duration": 10,
    "start_time": "2021-12-01T10:34:22.987Z"
   },
   {
    "duration": 3,
    "start_time": "2021-12-01T10:34:23.006Z"
   },
   {
    "duration": 406,
    "start_time": "2021-12-01T10:34:23.010Z"
   },
   {
    "duration": 97,
    "start_time": "2021-12-01T10:34:23.418Z"
   },
   {
    "duration": 92,
    "start_time": "2021-12-01T10:34:23.517Z"
   },
   {
    "duration": 2273,
    "start_time": "2021-12-01T10:34:23.612Z"
   },
   {
    "duration": 4,
    "start_time": "2021-12-01T10:34:25.887Z"
   },
   {
    "duration": 422,
    "start_time": "2021-12-01T10:34:25.893Z"
   },
   {
    "duration": 16,
    "start_time": "2021-12-01T10:34:26.319Z"
   },
   {
    "duration": 5,
    "start_time": "2021-12-01T10:34:26.338Z"
   },
   {
    "duration": 323,
    "start_time": "2021-12-01T10:34:26.344Z"
   },
   {
    "duration": 3,
    "start_time": "2021-12-01T10:34:26.668Z"
   },
   {
    "duration": 10743,
    "start_time": "2021-12-01T10:34:26.672Z"
   },
   {
    "duration": 601,
    "start_time": "2021-12-01T10:34:37.417Z"
   },
   {
    "duration": 4,
    "start_time": "2021-12-01T10:34:38.019Z"
   },
   {
    "duration": 352,
    "start_time": "2021-12-01T10:34:38.025Z"
   },
   {
    "duration": 4,
    "start_time": "2021-12-01T10:34:38.379Z"
   },
   {
    "duration": 7,
    "start_time": "2021-12-01T10:34:38.386Z"
   },
   {
    "duration": 480,
    "start_time": "2021-12-01T10:39:05.791Z"
   },
   {
    "duration": 392,
    "start_time": "2021-12-01T10:39:29.149Z"
   },
   {
    "duration": 3,
    "start_time": "2021-12-01T10:39:47.777Z"
   },
   {
    "duration": 397,
    "start_time": "2021-12-01T10:40:00.471Z"
   },
   {
    "duration": 355,
    "start_time": "2021-12-01T10:44:52.686Z"
   },
   {
    "duration": 386,
    "start_time": "2021-12-01T10:45:06.141Z"
   },
   {
    "duration": 4,
    "start_time": "2021-12-01T10:45:27.387Z"
   },
   {
    "duration": 5,
    "start_time": "2021-12-01T10:45:36.846Z"
   },
   {
    "duration": 3,
    "start_time": "2021-12-01T10:45:52.438Z"
   },
   {
    "duration": 7,
    "start_time": "2021-12-01T10:45:52.912Z"
   },
   {
    "duration": 1343,
    "start_time": "2021-12-01T10:49:43.399Z"
   },
   {
    "duration": 1092,
    "start_time": "2021-12-01T10:49:44.744Z"
   },
   {
    "duration": 28,
    "start_time": "2021-12-01T10:49:45.838Z"
   },
   {
    "duration": 131,
    "start_time": "2021-12-01T10:49:45.878Z"
   },
   {
    "duration": 179,
    "start_time": "2021-12-01T10:49:46.012Z"
   },
   {
    "duration": 387,
    "start_time": "2021-12-01T10:49:46.193Z"
   },
   {
    "duration": 87,
    "start_time": "2021-12-01T10:49:46.582Z"
   },
   {
    "duration": 63,
    "start_time": "2021-12-01T10:49:46.672Z"
   },
   {
    "duration": 28,
    "start_time": "2021-12-01T10:49:46.737Z"
   },
   {
    "duration": 45,
    "start_time": "2021-12-01T10:49:46.767Z"
   },
   {
    "duration": 22,
    "start_time": "2021-12-01T10:49:46.815Z"
   },
   {
    "duration": 35,
    "start_time": "2021-12-01T10:49:46.839Z"
   },
   {
    "duration": 44,
    "start_time": "2021-12-01T10:49:46.876Z"
   },
   {
    "duration": 44,
    "start_time": "2021-12-01T10:49:46.923Z"
   },
   {
    "duration": 41,
    "start_time": "2021-12-01T10:49:46.969Z"
   },
   {
    "duration": 48,
    "start_time": "2021-12-01T10:49:47.014Z"
   },
   {
    "duration": 20,
    "start_time": "2021-12-01T10:49:47.064Z"
   },
   {
    "duration": 96,
    "start_time": "2021-12-01T10:49:47.085Z"
   },
   {
    "duration": 33,
    "start_time": "2021-12-01T10:49:47.182Z"
   },
   {
    "duration": 11,
    "start_time": "2021-12-01T10:49:47.218Z"
   },
   {
    "duration": 48,
    "start_time": "2021-12-01T10:49:47.232Z"
   },
   {
    "duration": 27,
    "start_time": "2021-12-01T10:49:47.282Z"
   },
   {
    "duration": 51,
    "start_time": "2021-12-01T10:49:47.312Z"
   },
   {
    "duration": 6,
    "start_time": "2021-12-01T10:49:47.364Z"
   },
   {
    "duration": 340,
    "start_time": "2021-12-01T10:49:47.372Z"
   },
   {
    "duration": 8,
    "start_time": "2021-12-01T10:49:47.715Z"
   },
   {
    "duration": 7,
    "start_time": "2021-12-01T10:49:47.725Z"
   },
   {
    "duration": 852,
    "start_time": "2021-12-01T10:49:47.734Z"
   },
   {
    "duration": 923,
    "start_time": "2021-12-01T10:49:48.587Z"
   },
   {
    "duration": 833,
    "start_time": "2021-12-01T10:49:49.513Z"
   },
   {
    "duration": 29970,
    "start_time": "2021-12-01T10:49:50.348Z"
   },
   {
    "duration": 33,
    "start_time": "2021-12-01T10:50:20.321Z"
   },
   {
    "duration": 99,
    "start_time": "2021-12-01T10:50:20.357Z"
   },
   {
    "duration": 109,
    "start_time": "2021-12-01T10:50:20.458Z"
   },
   {
    "duration": 104,
    "start_time": "2021-12-01T10:50:20.569Z"
   },
   {
    "duration": 68,
    "start_time": "2021-12-01T10:50:20.675Z"
   },
   {
    "duration": 3,
    "start_time": "2021-12-01T10:50:20.744Z"
   },
   {
    "duration": 124,
    "start_time": "2021-12-01T10:50:20.749Z"
   },
   {
    "duration": 353,
    "start_time": "2021-12-01T10:50:20.875Z"
   },
   {
    "duration": 4,
    "start_time": "2021-12-01T10:50:21.230Z"
   },
   {
    "duration": 14,
    "start_time": "2021-12-01T10:50:21.238Z"
   },
   {
    "duration": 7,
    "start_time": "2021-12-01T10:50:21.255Z"
   },
   {
    "duration": 363,
    "start_time": "2021-12-01T10:50:21.264Z"
   },
   {
    "duration": 106,
    "start_time": "2021-12-01T10:50:21.629Z"
   },
   {
    "duration": 83,
    "start_time": "2021-12-01T10:50:21.737Z"
   },
   {
    "duration": 2251,
    "start_time": "2021-12-01T10:50:21.824Z"
   },
   {
    "duration": 3,
    "start_time": "2021-12-01T10:50:24.077Z"
   },
   {
    "duration": 345,
    "start_time": "2021-12-01T10:50:24.082Z"
   },
   {
    "duration": 15,
    "start_time": "2021-12-01T10:50:24.429Z"
   },
   {
    "duration": 6,
    "start_time": "2021-12-01T10:50:24.446Z"
   },
   {
    "duration": 323,
    "start_time": "2021-12-01T10:50:24.454Z"
   },
   {
    "duration": 2,
    "start_time": "2021-12-01T10:50:24.779Z"
   },
   {
    "duration": 30829,
    "start_time": "2021-12-01T10:50:24.784Z"
   },
   {
    "duration": 615,
    "start_time": "2021-12-01T10:50:55.614Z"
   },
   {
    "duration": 6,
    "start_time": "2021-12-01T10:50:56.232Z"
   },
   {
    "duration": 381,
    "start_time": "2021-12-01T10:50:56.240Z"
   },
   {
    "duration": 215104,
    "start_time": "2021-12-01T10:50:56.623Z"
   },
   {
    "duration": 273787,
    "start_time": "2021-12-01T10:54:31.730Z"
   },
   {
    "duration": 9,
    "start_time": "2021-12-01T10:59:05.521Z"
   },
   {
    "duration": 136929,
    "start_time": "2021-12-01T10:59:05.531Z"
   },
   {
    "duration": 62,
    "start_time": "2021-12-01T11:01:22.462Z"
   },
   {
    "duration": 7,
    "start_time": "2021-12-01T11:01:22.526Z"
   },
   {
    "duration": 359,
    "start_time": "2021-12-01T11:01:22.536Z"
   },
   {
    "duration": 10,
    "start_time": "2021-12-01T11:01:22.897Z"
   },
   {
    "duration": -58,
    "start_time": "2021-12-01T11:01:23.500Z"
   },
   {
    "duration": 4,
    "start_time": "2021-12-01T11:01:39.961Z"
   },
   {
    "duration": 7,
    "start_time": "2021-12-01T11:01:40.267Z"
   },
   {
    "duration": 1276,
    "start_time": "2021-12-01T11:06:22.438Z"
   },
   {
    "duration": 1024,
    "start_time": "2021-12-01T11:06:23.717Z"
   },
   {
    "duration": 9,
    "start_time": "2021-12-01T11:06:24.743Z"
   },
   {
    "duration": 76,
    "start_time": "2021-12-01T11:06:24.754Z"
   },
   {
    "duration": 134,
    "start_time": "2021-12-01T11:06:24.831Z"
   },
   {
    "duration": 379,
    "start_time": "2021-12-01T11:06:24.967Z"
   },
   {
    "duration": 86,
    "start_time": "2021-12-01T11:06:25.347Z"
   },
   {
    "duration": 42,
    "start_time": "2021-12-01T11:06:25.436Z"
   },
   {
    "duration": 35,
    "start_time": "2021-12-01T11:06:25.480Z"
   },
   {
    "duration": 43,
    "start_time": "2021-12-01T11:06:25.518Z"
   },
   {
    "duration": 21,
    "start_time": "2021-12-01T11:06:25.563Z"
   },
   {
    "duration": 51,
    "start_time": "2021-12-01T11:06:25.586Z"
   },
   {
    "duration": 19,
    "start_time": "2021-12-01T11:06:25.638Z"
   },
   {
    "duration": 68,
    "start_time": "2021-12-01T11:06:25.658Z"
   },
   {
    "duration": 18,
    "start_time": "2021-12-01T11:06:25.728Z"
   },
   {
    "duration": 70,
    "start_time": "2021-12-01T11:06:25.748Z"
   },
   {
    "duration": 22,
    "start_time": "2021-12-01T11:06:25.820Z"
   },
   {
    "duration": 89,
    "start_time": "2021-12-01T11:06:25.844Z"
   },
   {
    "duration": 32,
    "start_time": "2021-12-01T11:06:25.936Z"
   },
   {
    "duration": 11,
    "start_time": "2021-12-01T11:06:25.970Z"
   },
   {
    "duration": 67,
    "start_time": "2021-12-01T11:06:25.983Z"
   },
   {
    "duration": 9,
    "start_time": "2021-12-01T11:06:26.052Z"
   },
   {
    "duration": 67,
    "start_time": "2021-12-01T11:06:26.063Z"
   },
   {
    "duration": 7,
    "start_time": "2021-12-01T11:06:26.132Z"
   },
   {
    "duration": 341,
    "start_time": "2021-12-01T11:06:26.142Z"
   },
   {
    "duration": 6,
    "start_time": "2021-12-01T11:06:26.715Z"
   },
   {
    "duration": 8,
    "start_time": "2021-12-01T11:06:26.970Z"
   },
   {
    "duration": 899,
    "start_time": "2021-12-01T11:06:27.270Z"
   },
   {
    "duration": 928,
    "start_time": "2021-12-01T11:06:28.171Z"
   },
   {
    "duration": 862,
    "start_time": "2021-12-01T11:06:29.101Z"
   },
   {
    "duration": 29375,
    "start_time": "2021-12-01T11:06:29.965Z"
   },
   {
    "duration": 38,
    "start_time": "2021-12-01T11:06:59.342Z"
   },
   {
    "duration": 38,
    "start_time": "2021-12-01T11:06:59.382Z"
   },
   {
    "duration": 83,
    "start_time": "2021-12-01T11:07:29.534Z"
   },
   {
    "duration": 96,
    "start_time": "2021-12-01T11:07:29.804Z"
   },
   {
    "duration": 18,
    "start_time": "2021-12-01T11:07:30.148Z"
   },
   {
    "duration": 1270,
    "start_time": "2021-12-01T11:09:38.917Z"
   },
   {
    "duration": 1033,
    "start_time": "2021-12-01T11:09:40.188Z"
   },
   {
    "duration": 9,
    "start_time": "2021-12-01T11:09:41.223Z"
   },
   {
    "duration": 77,
    "start_time": "2021-12-01T11:09:41.234Z"
   },
   {
    "duration": 132,
    "start_time": "2021-12-01T11:09:41.313Z"
   },
   {
    "duration": 470,
    "start_time": "2021-12-01T11:09:41.447Z"
   },
   {
    "duration": 69,
    "start_time": "2021-12-01T11:09:41.919Z"
   },
   {
    "duration": 63,
    "start_time": "2021-12-01T11:09:41.990Z"
   },
   {
    "duration": 19,
    "start_time": "2021-12-01T11:09:42.055Z"
   },
   {
    "duration": 61,
    "start_time": "2021-12-01T11:09:42.076Z"
   },
   {
    "duration": 19,
    "start_time": "2021-12-01T11:09:42.139Z"
   },
   {
    "duration": 59,
    "start_time": "2021-12-01T11:09:42.160Z"
   },
   {
    "duration": 19,
    "start_time": "2021-12-01T11:09:42.221Z"
   },
   {
    "duration": 57,
    "start_time": "2021-12-01T11:09:42.242Z"
   },
   {
    "duration": 27,
    "start_time": "2021-12-01T11:09:42.301Z"
   },
   {
    "duration": 47,
    "start_time": "2021-12-01T11:09:42.330Z"
   },
   {
    "duration": 28,
    "start_time": "2021-12-01T11:09:42.379Z"
   },
   {
    "duration": 73,
    "start_time": "2021-12-01T11:09:42.410Z"
   },
   {
    "duration": 34,
    "start_time": "2021-12-01T11:09:42.487Z"
   },
   {
    "duration": 17,
    "start_time": "2021-12-01T11:09:42.524Z"
   },
   {
    "duration": 81,
    "start_time": "2021-12-01T11:09:42.543Z"
   },
   {
    "duration": 12,
    "start_time": "2021-12-01T11:09:42.627Z"
   },
   {
    "duration": 70,
    "start_time": "2021-12-01T11:09:42.641Z"
   },
   {
    "duration": 10,
    "start_time": "2021-12-01T11:09:42.714Z"
   },
   {
    "duration": 325,
    "start_time": "2021-12-01T11:09:42.726Z"
   },
   {
    "duration": 5,
    "start_time": "2021-12-01T11:09:43.053Z"
   },
   {
    "duration": 12,
    "start_time": "2021-12-01T11:09:43.060Z"
   },
   {
    "duration": 850,
    "start_time": "2021-12-01T11:09:43.074Z"
   },
   {
    "duration": 894,
    "start_time": "2021-12-01T11:09:43.927Z"
   },
   {
    "duration": 859,
    "start_time": "2021-12-01T11:09:44.823Z"
   },
   {
    "duration": 29166,
    "start_time": "2021-12-01T11:09:45.683Z"
   },
   {
    "duration": 27,
    "start_time": "2021-12-01T11:10:14.851Z"
   },
   {
    "duration": 463,
    "start_time": "2021-12-01T11:10:14.880Z"
   },
   {
    "duration": -82,
    "start_time": "2021-12-01T11:10:15.427Z"
   },
   {
    "duration": -84,
    "start_time": "2021-12-01T11:10:15.430Z"
   },
   {
    "duration": -85,
    "start_time": "2021-12-01T11:10:15.432Z"
   },
   {
    "duration": -120,
    "start_time": "2021-12-01T11:10:15.468Z"
   },
   {
    "duration": 3,
    "start_time": "2021-12-01T11:10:33.001Z"
   },
   {
    "duration": 84,
    "start_time": "2021-12-01T11:10:35.923Z"
   },
   {
    "duration": 135,
    "start_time": "2021-12-01T11:10:36.616Z"
   },
   {
    "duration": 139,
    "start_time": "2021-12-01T11:10:37.183Z"
   },
   {
    "duration": 75,
    "start_time": "2021-12-01T11:10:38.582Z"
   },
   {
    "duration": 1283,
    "start_time": "2021-12-01T11:11:40.965Z"
   },
   {
    "duration": 986,
    "start_time": "2021-12-01T11:11:42.250Z"
   },
   {
    "duration": 8,
    "start_time": "2021-12-01T11:11:43.238Z"
   },
   {
    "duration": 73,
    "start_time": "2021-12-01T11:11:43.248Z"
   },
   {
    "duration": 136,
    "start_time": "2021-12-01T11:11:43.323Z"
   },
   {
    "duration": 580,
    "start_time": "2021-12-01T11:11:43.461Z"
   },
   {
    "duration": 77,
    "start_time": "2021-12-01T11:11:44.043Z"
   },
   {
    "duration": 46,
    "start_time": "2021-12-01T11:11:44.124Z"
   },
   {
    "duration": 41,
    "start_time": "2021-12-01T11:11:44.172Z"
   },
   {
    "duration": 49,
    "start_time": "2021-12-01T11:11:44.216Z"
   },
   {
    "duration": 20,
    "start_time": "2021-12-01T11:11:44.267Z"
   },
   {
    "duration": 51,
    "start_time": "2021-12-01T11:11:44.289Z"
   },
   {
    "duration": 16,
    "start_time": "2021-12-01T11:11:44.342Z"
   },
   {
    "duration": 65,
    "start_time": "2021-12-01T11:11:44.360Z"
   },
   {
    "duration": 19,
    "start_time": "2021-12-01T11:11:44.427Z"
   },
   {
    "duration": 61,
    "start_time": "2021-12-01T11:11:44.448Z"
   },
   {
    "duration": 33,
    "start_time": "2021-12-01T11:11:44.512Z"
   },
   {
    "duration": 83,
    "start_time": "2021-12-01T11:11:44.547Z"
   },
   {
    "duration": 17,
    "start_time": "2021-12-01T11:11:44.632Z"
   },
   {
    "duration": 11,
    "start_time": "2021-12-01T11:11:44.653Z"
   },
   {
    "duration": 80,
    "start_time": "2021-12-01T11:11:44.666Z"
   },
   {
    "duration": 10,
    "start_time": "2021-12-01T11:11:44.748Z"
   },
   {
    "duration": 62,
    "start_time": "2021-12-01T11:11:44.760Z"
   },
   {
    "duration": 9,
    "start_time": "2021-12-01T11:11:44.824Z"
   },
   {
    "duration": 334,
    "start_time": "2021-12-01T11:11:44.835Z"
   },
   {
    "duration": 5,
    "start_time": "2021-12-01T11:11:45.172Z"
   },
   {
    "duration": 20,
    "start_time": "2021-12-01T11:11:45.179Z"
   },
   {
    "duration": 905,
    "start_time": "2021-12-01T11:11:45.201Z"
   },
   {
    "duration": 975,
    "start_time": "2021-12-01T11:11:46.110Z"
   },
   {
    "duration": 950,
    "start_time": "2021-12-01T11:11:47.086Z"
   },
   {
    "duration": 33217,
    "start_time": "2021-12-01T11:11:48.038Z"
   },
   {
    "duration": 34,
    "start_time": "2021-12-01T11:12:21.257Z"
   },
   {
    "duration": 40,
    "start_time": "2021-12-01T11:12:21.293Z"
   },
   {
    "duration": 2,
    "start_time": "2021-12-01T11:12:21.335Z"
   },
   {
    "duration": 104,
    "start_time": "2021-12-01T11:12:21.339Z"
   },
   {
    "duration": 113,
    "start_time": "2021-12-01T11:12:21.445Z"
   },
   {
    "duration": 111,
    "start_time": "2021-12-01T11:12:21.560Z"
   },
   {
    "duration": 65,
    "start_time": "2021-12-01T11:12:21.673Z"
   },
   {
    "duration": 1321,
    "start_time": "2021-12-01T11:13:46.473Z"
   },
   {
    "duration": 996,
    "start_time": "2021-12-01T11:13:47.796Z"
   },
   {
    "duration": 25,
    "start_time": "2021-12-01T11:13:48.795Z"
   },
   {
    "duration": 77,
    "start_time": "2021-12-01T11:13:48.822Z"
   },
   {
    "duration": 126,
    "start_time": "2021-12-01T11:13:48.901Z"
   },
   {
    "duration": 357,
    "start_time": "2021-12-01T11:13:49.029Z"
   },
   {
    "duration": 85,
    "start_time": "2021-12-01T11:13:49.388Z"
   },
   {
    "duration": 61,
    "start_time": "2021-12-01T11:13:49.475Z"
   },
   {
    "duration": 23,
    "start_time": "2021-12-01T11:13:49.538Z"
   },
   {
    "duration": 66,
    "start_time": "2021-12-01T11:13:49.563Z"
   },
   {
    "duration": 18,
    "start_time": "2021-12-01T11:13:49.631Z"
   },
   {
    "duration": 43,
    "start_time": "2021-12-01T11:13:49.651Z"
   },
   {
    "duration": 49,
    "start_time": "2021-12-01T11:13:49.696Z"
   },
   {
    "duration": 71,
    "start_time": "2021-12-01T11:13:49.747Z"
   },
   {
    "duration": 27,
    "start_time": "2021-12-01T11:13:49.821Z"
   },
   {
    "duration": 70,
    "start_time": "2021-12-01T11:13:49.850Z"
   },
   {
    "duration": 23,
    "start_time": "2021-12-01T11:13:49.922Z"
   },
   {
    "duration": 87,
    "start_time": "2021-12-01T11:13:49.947Z"
   },
   {
    "duration": 17,
    "start_time": "2021-12-01T11:13:50.036Z"
   },
   {
    "duration": 12,
    "start_time": "2021-12-01T11:13:50.218Z"
   },
   {
    "duration": 53,
    "start_time": "2021-12-01T11:13:50.614Z"
   },
   {
    "duration": 9,
    "start_time": "2021-12-01T11:13:50.935Z"
   },
   {
    "duration": 43,
    "start_time": "2021-12-01T11:13:51.249Z"
   },
   {
    "duration": 7,
    "start_time": "2021-12-01T11:13:51.480Z"
   },
   {
    "duration": 320,
    "start_time": "2021-12-01T11:13:51.696Z"
   },
   {
    "duration": 5,
    "start_time": "2021-12-01T11:13:52.178Z"
   },
   {
    "duration": 11,
    "start_time": "2021-12-01T11:13:52.508Z"
   },
   {
    "duration": 979,
    "start_time": "2021-12-01T11:13:52.776Z"
   },
   {
    "duration": 1044,
    "start_time": "2021-12-01T11:13:53.762Z"
   },
   {
    "duration": 919,
    "start_time": "2021-12-01T11:13:54.810Z"
   },
   {
    "duration": 29031,
    "start_time": "2021-12-01T11:13:55.731Z"
   },
   {
    "duration": 28,
    "start_time": "2021-12-01T11:14:24.764Z"
   },
   {
    "duration": 101,
    "start_time": "2021-12-01T11:14:24.794Z"
   },
   {
    "duration": 101,
    "start_time": "2021-12-01T11:14:24.908Z"
   },
   {
    "duration": 23,
    "start_time": "2021-12-01T11:14:25.011Z"
   },
   {
    "duration": 2,
    "start_time": "2021-12-01T11:14:25.036Z"
   },
   {
    "duration": 123,
    "start_time": "2021-12-01T11:14:25.040Z"
   },
   {
    "duration": 66,
    "start_time": "2021-12-01T11:14:25.164Z"
   },
   {
    "duration": 1283,
    "start_time": "2021-12-01T11:21:04.423Z"
   },
   {
    "duration": 1034,
    "start_time": "2021-12-01T11:21:05.709Z"
   },
   {
    "duration": 9,
    "start_time": "2021-12-01T11:21:06.745Z"
   },
   {
    "duration": 79,
    "start_time": "2021-12-01T11:21:06.756Z"
   },
   {
    "duration": 133,
    "start_time": "2021-12-01T11:21:06.837Z"
   },
   {
    "duration": 382,
    "start_time": "2021-12-01T11:21:06.971Z"
   },
   {
    "duration": 88,
    "start_time": "2021-12-01T11:21:07.355Z"
   },
   {
    "duration": 67,
    "start_time": "2021-12-01T11:21:07.446Z"
   },
   {
    "duration": 21,
    "start_time": "2021-12-01T11:21:07.517Z"
   },
   {
    "duration": 49,
    "start_time": "2021-12-01T11:21:07.540Z"
   },
   {
    "duration": 40,
    "start_time": "2021-12-01T11:21:07.590Z"
   },
   {
    "duration": 32,
    "start_time": "2021-12-01T11:21:07.632Z"
   },
   {
    "duration": 22,
    "start_time": "2021-12-01T11:21:07.666Z"
   },
   {
    "duration": 53,
    "start_time": "2021-12-01T11:21:07.707Z"
   },
   {
    "duration": 22,
    "start_time": "2021-12-01T11:21:07.761Z"
   },
   {
    "duration": 64,
    "start_time": "2021-12-01T11:21:07.785Z"
   },
   {
    "duration": 30,
    "start_time": "2021-12-01T11:21:07.851Z"
   },
   {
    "duration": 88,
    "start_time": "2021-12-01T11:21:07.883Z"
   },
   {
    "duration": 19,
    "start_time": "2021-12-01T11:21:07.974Z"
   },
   {
    "duration": 26,
    "start_time": "2021-12-01T11:21:07.996Z"
   },
   {
    "duration": 51,
    "start_time": "2021-12-01T11:21:08.025Z"
   },
   {
    "duration": 31,
    "start_time": "2021-12-01T11:21:08.078Z"
   },
   {
    "duration": 51,
    "start_time": "2021-12-01T11:21:08.112Z"
   },
   {
    "duration": 7,
    "start_time": "2021-12-01T11:21:08.166Z"
   },
   {
    "duration": 365,
    "start_time": "2021-12-01T11:21:08.175Z"
   },
   {
    "duration": 7,
    "start_time": "2021-12-01T11:21:08.543Z"
   },
   {
    "duration": 7,
    "start_time": "2021-12-01T11:21:08.553Z"
   },
   {
    "duration": 909,
    "start_time": "2021-12-01T11:21:08.562Z"
   },
   {
    "duration": 948,
    "start_time": "2021-12-01T11:21:09.474Z"
   },
   {
    "duration": 873,
    "start_time": "2021-12-01T11:21:10.425Z"
   },
   {
    "duration": 30245,
    "start_time": "2021-12-01T11:21:11.299Z"
   },
   {
    "duration": 34,
    "start_time": "2021-12-01T11:21:41.546Z"
   },
   {
    "duration": 92,
    "start_time": "2021-12-01T11:21:41.582Z"
   },
   {
    "duration": 101,
    "start_time": "2021-12-01T11:21:41.676Z"
   },
   {
    "duration": 2,
    "start_time": "2021-12-01T11:21:41.779Z"
   },
   {
    "duration": 109,
    "start_time": "2021-12-01T11:21:41.783Z"
   },
   {
    "duration": 68,
    "start_time": "2021-12-01T11:21:41.894Z"
   },
   {
    "duration": 3,
    "start_time": "2021-12-01T11:21:41.965Z"
   },
   {
    "duration": 102,
    "start_time": "2021-12-01T11:21:41.970Z"
   },
   {
    "duration": 258,
    "start_time": "2021-12-01T11:21:42.074Z"
   },
   {
    "duration": 4,
    "start_time": "2021-12-01T11:21:42.334Z"
   },
   {
    "duration": 11,
    "start_time": "2021-12-01T11:21:42.340Z"
   },
   {
    "duration": 16,
    "start_time": "2021-12-01T11:21:42.352Z"
   },
   {
    "duration": 445,
    "start_time": "2021-12-01T11:21:42.369Z"
   },
   {
    "duration": 15,
    "start_time": "2021-12-01T11:21:42.816Z"
   },
   {
    "duration": 13,
    "start_time": "2021-12-01T11:21:42.908Z"
   },
   {
    "duration": 2198,
    "start_time": "2021-12-01T11:21:42.925Z"
   },
   {
    "duration": 3,
    "start_time": "2021-12-01T11:21:45.125Z"
   },
   {
    "duration": 357,
    "start_time": "2021-12-01T11:21:45.129Z"
   },
   {
    "duration": 21,
    "start_time": "2021-12-01T11:21:45.489Z"
   },
   {
    "duration": 7,
    "start_time": "2021-12-01T11:21:45.512Z"
   },
   {
    "duration": 309,
    "start_time": "2021-12-01T11:21:45.522Z"
   },
   {
    "duration": 3,
    "start_time": "2021-12-01T11:21:45.833Z"
   },
   {
    "duration": 27382,
    "start_time": "2021-12-01T11:21:45.837Z"
   },
   {
    "duration": 691,
    "start_time": "2021-12-01T11:22:13.223Z"
   },
   {
    "duration": 5,
    "start_time": "2021-12-01T11:22:13.922Z"
   },
   {
    "duration": 337,
    "start_time": "2021-12-01T11:22:13.929Z"
   },
   {
    "duration": 217055,
    "start_time": "2021-12-01T11:22:14.268Z"
   },
   {
    "duration": 260095,
    "start_time": "2021-12-01T11:25:51.325Z"
   },
   {
    "duration": 7,
    "start_time": "2021-12-01T11:30:11.422Z"
   },
   {
    "duration": 127339,
    "start_time": "2021-12-01T11:30:11.430Z"
   },
   {
    "duration": 51,
    "start_time": "2021-12-01T11:32:18.771Z"
   },
   {
    "duration": 5,
    "start_time": "2021-12-01T11:32:18.826Z"
   },
   {
    "duration": 302,
    "start_time": "2021-12-01T11:32:18.906Z"
   },
   {
    "duration": 3,
    "start_time": "2021-12-01T11:32:19.210Z"
   },
   {
    "duration": 66,
    "start_time": "2021-12-01T11:32:19.215Z"
   },
   {
    "duration": 7,
    "start_time": "2021-12-01T11:32:19.283Z"
   },
   {
    "duration": 10559,
    "start_time": "2021-12-01T11:32:19.292Z"
   },
   {
    "duration": -294,
    "start_time": "2021-12-01T11:32:30.147Z"
   },
   {
    "duration": -298,
    "start_time": "2021-12-01T11:32:30.153Z"
   },
   {
    "duration": -303,
    "start_time": "2021-12-01T11:32:30.159Z"
   },
   {
    "duration": -308,
    "start_time": "2021-12-01T11:32:30.165Z"
   },
   {
    "duration": -314,
    "start_time": "2021-12-01T11:32:30.172Z"
   },
   {
    "duration": 1248,
    "start_time": "2021-12-01T11:34:10.724Z"
   },
   {
    "duration": 979,
    "start_time": "2021-12-01T11:34:11.974Z"
   },
   {
    "duration": 9,
    "start_time": "2021-12-01T11:34:12.957Z"
   },
   {
    "duration": 80,
    "start_time": "2021-12-01T11:34:12.969Z"
   },
   {
    "duration": 138,
    "start_time": "2021-12-01T11:34:13.051Z"
   },
   {
    "duration": 355,
    "start_time": "2021-12-01T11:34:13.191Z"
   },
   {
    "duration": 81,
    "start_time": "2021-12-01T11:34:13.548Z"
   },
   {
    "duration": 43,
    "start_time": "2021-12-01T11:34:13.631Z"
   },
   {
    "duration": 36,
    "start_time": "2021-12-01T11:34:13.676Z"
   },
   {
    "duration": 43,
    "start_time": "2021-12-01T11:34:13.714Z"
   },
   {
    "duration": 21,
    "start_time": "2021-12-01T11:34:13.758Z"
   },
   {
    "duration": 44,
    "start_time": "2021-12-01T11:34:13.781Z"
   },
   {
    "duration": 19,
    "start_time": "2021-12-01T11:34:13.827Z"
   },
   {
    "duration": 60,
    "start_time": "2021-12-01T11:34:13.848Z"
   },
   {
    "duration": 18,
    "start_time": "2021-12-01T11:34:13.910Z"
   },
   {
    "duration": 45,
    "start_time": "2021-12-01T11:34:13.930Z"
   },
   {
    "duration": 43,
    "start_time": "2021-12-01T11:34:13.977Z"
   },
   {
    "duration": 84,
    "start_time": "2021-12-01T11:34:14.023Z"
   },
   {
    "duration": 16,
    "start_time": "2021-12-01T11:34:14.108Z"
   },
   {
    "duration": 11,
    "start_time": "2021-12-01T11:34:14.126Z"
   },
   {
    "duration": 50,
    "start_time": "2021-12-01T11:34:14.621Z"
   },
   {
    "duration": 10,
    "start_time": "2021-12-01T11:34:14.944Z"
   },
   {
    "duration": 50,
    "start_time": "2021-12-01T11:34:15.301Z"
   },
   {
    "duration": 7,
    "start_time": "2021-12-01T11:34:15.564Z"
   },
   {
    "duration": 294,
    "start_time": "2021-12-01T11:34:15.827Z"
   },
   {
    "duration": 6,
    "start_time": "2021-12-01T11:34:16.309Z"
   },
   {
    "duration": 7,
    "start_time": "2021-12-01T11:34:16.563Z"
   },
   {
    "duration": 802,
    "start_time": "2021-12-01T11:34:17.036Z"
   },
   {
    "duration": 870,
    "start_time": "2021-12-01T11:34:17.840Z"
   },
   {
    "duration": 821,
    "start_time": "2021-12-01T11:34:18.712Z"
   },
   {
    "duration": 29221,
    "start_time": "2021-12-01T11:34:19.536Z"
   },
   {
    "duration": 35,
    "start_time": "2021-12-01T11:34:48.758Z"
   },
   {
    "duration": 89,
    "start_time": "2021-12-01T11:34:48.795Z"
   },
   {
    "duration": 103,
    "start_time": "2021-12-01T11:34:48.886Z"
   },
   {
    "duration": 3,
    "start_time": "2021-12-01T11:34:48.991Z"
   },
   {
    "duration": 22,
    "start_time": "2021-12-01T11:34:49.006Z"
   },
   {
    "duration": 61,
    "start_time": "2021-12-01T11:36:08.975Z"
   },
   {
    "duration": 1527,
    "start_time": "2021-12-01T11:38:48.197Z"
   },
   {
    "duration": 1073,
    "start_time": "2021-12-01T11:38:49.727Z"
   },
   {
    "duration": 15,
    "start_time": "2021-12-01T11:38:50.806Z"
   },
   {
    "duration": 59,
    "start_time": "2021-12-01T11:38:50.824Z"
   },
   {
    "duration": 139,
    "start_time": "2021-12-01T11:38:50.910Z"
   },
   {
    "duration": 494,
    "start_time": "2021-12-01T11:38:51.051Z"
   },
   {
    "duration": 100,
    "start_time": "2021-12-01T11:38:51.548Z"
   },
   {
    "duration": 78,
    "start_time": "2021-12-01T11:38:51.651Z"
   },
   {
    "duration": 23,
    "start_time": "2021-12-01T11:38:51.732Z"
   },
   {
    "duration": 74,
    "start_time": "2021-12-01T11:38:51.756Z"
   },
   {
    "duration": 22,
    "start_time": "2021-12-01T11:38:51.833Z"
   },
   {
    "duration": 64,
    "start_time": "2021-12-01T11:38:51.857Z"
   },
   {
    "duration": 31,
    "start_time": "2021-12-01T11:38:51.924Z"
   },
   {
    "duration": 91,
    "start_time": "2021-12-01T11:38:51.957Z"
   },
   {
    "duration": 17,
    "start_time": "2021-12-01T11:38:52.050Z"
   },
   {
    "duration": 72,
    "start_time": "2021-12-01T11:38:52.068Z"
   },
   {
    "duration": 18,
    "start_time": "2021-12-01T11:38:52.143Z"
   },
   {
    "duration": 107,
    "start_time": "2021-12-01T11:38:52.163Z"
   },
   {
    "duration": 42,
    "start_time": "2021-12-01T11:38:52.272Z"
   },
   {
    "duration": 18,
    "start_time": "2021-12-01T11:38:52.317Z"
   },
   {
    "duration": 86,
    "start_time": "2021-12-01T11:38:52.337Z"
   },
   {
    "duration": 15,
    "start_time": "2021-12-01T11:38:52.427Z"
   },
   {
    "duration": 45,
    "start_time": "2021-12-01T11:38:52.446Z"
   },
   {
    "duration": 22,
    "start_time": "2021-12-01T11:38:52.493Z"
   },
   {
    "duration": 449,
    "start_time": "2021-12-01T11:38:52.518Z"
   },
   {
    "duration": 8,
    "start_time": "2021-12-01T11:38:52.969Z"
   },
   {
    "duration": 9,
    "start_time": "2021-12-01T11:38:52.979Z"
   },
   {
    "duration": 1387,
    "start_time": "2021-12-01T11:38:52.990Z"
   },
   {
    "duration": 1558,
    "start_time": "2021-12-01T11:38:54.380Z"
   },
   {
    "duration": 1074,
    "start_time": "2021-12-01T11:38:55.941Z"
   },
   {
    "duration": 35433,
    "start_time": "2021-12-01T11:38:57.017Z"
   },
   {
    "duration": 35,
    "start_time": "2021-12-01T11:39:32.453Z"
   },
   {
    "duration": 104,
    "start_time": "2021-12-01T11:39:32.491Z"
   },
   {
    "duration": 122,
    "start_time": "2021-12-01T11:39:32.598Z"
   },
   {
    "duration": 4,
    "start_time": "2021-12-01T11:39:32.722Z"
   },
   {
    "duration": 24,
    "start_time": "2021-12-01T11:39:32.728Z"
   },
   {
    "duration": 98,
    "start_time": "2021-12-01T11:39:32.754Z"
   },
   {
    "duration": 2,
    "start_time": "2021-12-01T11:39:32.854Z"
   },
   {
    "duration": 103,
    "start_time": "2021-12-01T11:39:32.858Z"
   },
   {
    "duration": 74,
    "start_time": "2021-12-01T11:39:32.963Z"
   },
   {
    "duration": 3,
    "start_time": "2021-12-01T11:39:33.040Z"
   },
   {
    "duration": 129,
    "start_time": "2021-12-01T11:39:33.046Z"
   },
   {
    "duration": 389,
    "start_time": "2021-12-01T11:39:33.177Z"
   },
   {
    "duration": 4,
    "start_time": "2021-12-01T11:39:33.568Z"
   },
   {
    "duration": 6,
    "start_time": "2021-12-01T11:39:33.574Z"
   },
   {
    "duration": 5,
    "start_time": "2021-12-01T11:39:33.582Z"
   },
   {
    "duration": 532,
    "start_time": "2021-12-01T11:39:33.589Z"
   },
   {
    "duration": 94,
    "start_time": "2021-12-01T11:39:34.124Z"
   },
   {
    "duration": 90,
    "start_time": "2021-12-01T11:39:34.220Z"
   },
   {
    "duration": 2430,
    "start_time": "2021-12-01T11:39:34.314Z"
   },
   {
    "duration": 3,
    "start_time": "2021-12-01T11:39:36.747Z"
   },
   {
    "duration": 363,
    "start_time": "2021-12-01T11:39:36.753Z"
   },
   {
    "duration": 20,
    "start_time": "2021-12-01T11:39:37.118Z"
   },
   {
    "duration": 5,
    "start_time": "2021-12-01T11:39:37.141Z"
   },
   {
    "duration": 381,
    "start_time": "2021-12-01T11:39:37.148Z"
   },
   {
    "duration": 8,
    "start_time": "2021-12-01T11:39:37.535Z"
   },
   {
    "duration": 146164,
    "start_time": "2021-12-01T11:39:37.547Z"
   },
   {
    "duration": 613,
    "start_time": "2021-12-01T11:42:03.715Z"
   },
   {
    "duration": 13,
    "start_time": "2021-12-01T11:42:04.335Z"
   },
   {
    "duration": 368,
    "start_time": "2021-12-01T11:42:04.350Z"
   },
   {
    "duration": 3,
    "start_time": "2021-12-01T11:42:04.721Z"
   },
   {
    "duration": 10,
    "start_time": "2021-12-01T11:42:04.726Z"
   },
   {
    "duration": 5,
    "start_time": "2021-12-01T11:42:04.739Z"
   },
   {
    "duration": 141072,
    "start_time": "2021-12-01T11:42:04.745Z"
   },
   {
    "duration": 229,
    "start_time": "2021-12-01T11:44:25.820Z"
   },
   {
    "duration": 6,
    "start_time": "2021-12-01T11:44:26.051Z"
   },
   {
    "duration": 343,
    "start_time": "2021-12-01T11:44:26.059Z"
   },
   {
    "duration": 7,
    "start_time": "2021-12-01T11:44:26.404Z"
   },
   {
    "duration": 85,
    "start_time": "2021-12-01T11:44:26.414Z"
   },
   {
    "duration": 7,
    "start_time": "2021-12-01T11:44:26.500Z"
   },
   {
    "duration": 485,
    "start_time": "2021-12-01T11:44:26.511Z"
   },
   {
    "duration": -207,
    "start_time": "2021-12-01T11:44:27.205Z"
   },
   {
    "duration": -210,
    "start_time": "2021-12-01T11:44:27.209Z"
   },
   {
    "duration": -212,
    "start_time": "2021-12-01T11:44:27.212Z"
   },
   {
    "duration": -214,
    "start_time": "2021-12-01T11:44:27.215Z"
   },
   {
    "duration": -216,
    "start_time": "2021-12-01T11:44:27.218Z"
   },
   {
    "duration": 1327,
    "start_time": "2021-12-01T11:46:35.722Z"
   },
   {
    "duration": 1056,
    "start_time": "2021-12-01T11:46:37.051Z"
   },
   {
    "duration": 12,
    "start_time": "2021-12-01T11:46:38.109Z"
   },
   {
    "duration": 86,
    "start_time": "2021-12-01T11:46:38.124Z"
   },
   {
    "duration": 152,
    "start_time": "2021-12-01T11:46:38.213Z"
   },
   {
    "duration": 403,
    "start_time": "2021-12-01T11:46:38.367Z"
   },
   {
    "duration": 89,
    "start_time": "2021-12-01T11:46:38.772Z"
   },
   {
    "duration": 70,
    "start_time": "2021-12-01T11:46:38.864Z"
   },
   {
    "duration": 21,
    "start_time": "2021-12-01T11:46:38.937Z"
   },
   {
    "duration": 76,
    "start_time": "2021-12-01T11:46:38.960Z"
   },
   {
    "duration": 17,
    "start_time": "2021-12-01T11:46:39.038Z"
   },
   {
    "duration": 39,
    "start_time": "2021-12-01T11:46:39.056Z"
   },
   {
    "duration": 43,
    "start_time": "2021-12-01T11:46:39.097Z"
   },
   {
    "duration": 45,
    "start_time": "2021-12-01T11:46:39.142Z"
   },
   {
    "duration": 37,
    "start_time": "2021-12-01T11:46:39.189Z"
   },
   {
    "duration": 46,
    "start_time": "2021-12-01T11:46:39.229Z"
   },
   {
    "duration": 43,
    "start_time": "2021-12-01T11:46:39.276Z"
   },
   {
    "duration": 75,
    "start_time": "2021-12-01T11:46:39.321Z"
   },
   {
    "duration": 22,
    "start_time": "2021-12-01T11:46:39.398Z"
   },
   {
    "duration": 16,
    "start_time": "2021-12-01T11:46:39.423Z"
   },
   {
    "duration": 80,
    "start_time": "2021-12-01T11:46:39.441Z"
   },
   {
    "duration": 11,
    "start_time": "2021-12-01T11:46:39.524Z"
   },
   {
    "duration": 69,
    "start_time": "2021-12-01T11:46:39.538Z"
   },
   {
    "duration": 8,
    "start_time": "2021-12-01T11:46:39.610Z"
   },
   {
    "duration": 349,
    "start_time": "2021-12-01T11:46:39.623Z"
   },
   {
    "duration": 6,
    "start_time": "2021-12-01T11:46:39.974Z"
   },
   {
    "duration": 8,
    "start_time": "2021-12-01T11:46:39.981Z"
   },
   {
    "duration": 949,
    "start_time": "2021-12-01T11:46:40.006Z"
   },
   {
    "duration": 1058,
    "start_time": "2021-12-01T11:46:40.957Z"
   },
   {
    "duration": 987,
    "start_time": "2021-12-01T11:46:42.019Z"
   },
   {
    "duration": 32588,
    "start_time": "2021-12-01T11:46:43.010Z"
   },
   {
    "duration": 36,
    "start_time": "2021-12-01T11:47:15.600Z"
   },
   {
    "duration": 108,
    "start_time": "2021-12-01T11:47:15.639Z"
   },
   {
    "duration": 104,
    "start_time": "2021-12-01T11:47:15.749Z"
   },
   {
    "duration": 2,
    "start_time": "2021-12-01T11:47:15.855Z"
   },
   {
    "duration": 24,
    "start_time": "2021-12-01T11:47:15.858Z"
   },
   {
    "duration": 79,
    "start_time": "2021-12-01T11:47:15.884Z"
   },
   {
    "duration": 2,
    "start_time": "2021-12-01T11:47:15.965Z"
   },
   {
    "duration": 120,
    "start_time": "2021-12-01T11:47:15.970Z"
   },
   {
    "duration": 80,
    "start_time": "2021-12-01T11:47:16.094Z"
   },
   {
    "duration": 3,
    "start_time": "2021-12-01T11:47:16.176Z"
   },
   {
    "duration": 112,
    "start_time": "2021-12-01T11:47:16.181Z"
   },
   {
    "duration": 290,
    "start_time": "2021-12-01T11:47:16.295Z"
   },
   {
    "duration": 6,
    "start_time": "2021-12-01T11:47:16.587Z"
   },
   {
    "duration": 10,
    "start_time": "2021-12-01T11:47:16.595Z"
   },
   {
    "duration": 11,
    "start_time": "2021-12-01T11:47:16.615Z"
   },
   {
    "duration": 497,
    "start_time": "2021-12-01T11:47:16.628Z"
   },
   {
    "duration": 103,
    "start_time": "2021-12-01T11:47:17.135Z"
   },
   {
    "duration": 16,
    "start_time": "2021-12-01T11:47:17.307Z"
   },
   {
    "duration": 2848,
    "start_time": "2021-12-01T11:47:17.325Z"
   },
   {
    "duration": 2,
    "start_time": "2021-12-01T11:47:20.175Z"
   },
   {
    "duration": 395,
    "start_time": "2021-12-01T11:47:20.179Z"
   },
   {
    "duration": 14,
    "start_time": "2021-12-01T11:47:20.576Z"
   },
   {
    "duration": 15,
    "start_time": "2021-12-01T11:47:20.592Z"
   },
   {
    "duration": 356,
    "start_time": "2021-12-01T11:47:20.609Z"
   },
   {
    "duration": 7,
    "start_time": "2021-12-01T11:47:20.967Z"
   },
   {
    "duration": 175666,
    "start_time": "2021-12-01T11:47:20.976Z"
   },
   {
    "duration": 691,
    "start_time": "2021-12-01T11:50:16.645Z"
   },
   {
    "duration": 7,
    "start_time": "2021-12-01T11:50:17.339Z"
   },
   {
    "duration": 395,
    "start_time": "2021-12-01T11:50:17.349Z"
   },
   {
    "duration": 3,
    "start_time": "2021-12-01T11:50:17.747Z"
   },
   {
    "duration": 10,
    "start_time": "2021-12-01T11:50:17.752Z"
   },
   {
    "duration": 7,
    "start_time": "2021-12-01T11:50:17.767Z"
   },
   {
    "duration": 144772,
    "start_time": "2021-12-01T11:50:17.777Z"
   },
   {
    "duration": 91,
    "start_time": "2021-12-01T11:52:42.551Z"
   },
   {
    "duration": 6,
    "start_time": "2021-12-01T11:52:42.643Z"
   },
   {
    "duration": 393,
    "start_time": "2021-12-01T11:52:42.707Z"
   },
   {
    "duration": 5,
    "start_time": "2021-12-01T11:52:43.106Z"
   },
   {
    "duration": 114,
    "start_time": "2021-12-01T11:52:43.113Z"
   },
   {
    "duration": 6,
    "start_time": "2021-12-01T11:52:43.229Z"
   },
   {
    "duration": 225768,
    "start_time": "2021-12-01T11:52:43.237Z"
   },
   {
    "duration": 215,
    "start_time": "2021-12-01T11:56:29.008Z"
   },
   {
    "duration": 5,
    "start_time": "2021-12-01T11:56:29.225Z"
   },
   {
    "duration": 214,
    "start_time": "2021-12-01T11:56:29.232Z"
   },
   {
    "duration": 4,
    "start_time": "2021-12-01T11:56:29.448Z"
   },
   {
    "duration": 12,
    "start_time": "2021-12-01T11:56:29.454Z"
   },
   {
    "duration": 1096,
    "start_time": "2021-12-01T13:44:26.500Z"
   },
   {
    "duration": 1154,
    "start_time": "2021-12-01T13:44:27.598Z"
   },
   {
    "duration": 9,
    "start_time": "2021-12-01T13:44:28.754Z"
   },
   {
    "duration": 61,
    "start_time": "2021-12-01T13:44:28.765Z"
   },
   {
    "duration": 119,
    "start_time": "2021-12-01T13:44:28.828Z"
   },
   {
    "duration": 309,
    "start_time": "2021-12-01T13:44:28.949Z"
   },
   {
    "duration": 69,
    "start_time": "2021-12-01T13:44:29.260Z"
   },
   {
    "duration": 40,
    "start_time": "2021-12-01T13:44:29.331Z"
   },
   {
    "duration": 17,
    "start_time": "2021-12-01T13:44:29.389Z"
   },
   {
    "duration": 42,
    "start_time": "2021-12-01T13:44:29.408Z"
   },
   {
    "duration": 39,
    "start_time": "2021-12-01T13:44:29.452Z"
   },
   {
    "duration": 29,
    "start_time": "2021-12-01T13:44:29.547Z"
   },
   {
    "duration": 17,
    "start_time": "2021-12-01T13:44:29.783Z"
   },
   {
    "duration": 41,
    "start_time": "2021-12-01T13:44:30.265Z"
   },
   {
    "duration": 15,
    "start_time": "2021-12-01T13:44:30.500Z"
   },
   {
    "duration": 39,
    "start_time": "2021-12-01T13:44:31.068Z"
   },
   {
    "duration": 17,
    "start_time": "2021-12-01T13:44:31.322Z"
   },
   {
    "duration": 61,
    "start_time": "2021-12-01T13:44:31.603Z"
   },
   {
    "duration": 14,
    "start_time": "2021-12-01T13:44:32.281Z"
   },
   {
    "duration": 10,
    "start_time": "2021-12-01T13:44:32.686Z"
   },
   {
    "duration": 43,
    "start_time": "2021-12-01T13:44:33.221Z"
   },
   {
    "duration": 6863,
    "start_time": "2021-12-01T13:44:34.116Z"
   },
   {
    "duration": 1171,
    "start_time": "2021-12-01T13:45:11.066Z"
   },
   {
    "duration": 839,
    "start_time": "2021-12-01T13:45:12.239Z"
   },
   {
    "duration": 13,
    "start_time": "2021-12-01T13:45:13.080Z"
   },
   {
    "duration": 49,
    "start_time": "2021-12-01T13:45:13.095Z"
   },
   {
    "duration": 148,
    "start_time": "2021-12-01T13:45:13.146Z"
   },
   {
    "duration": 315,
    "start_time": "2021-12-01T13:45:13.295Z"
   },
   {
    "duration": 64,
    "start_time": "2021-12-01T13:45:13.611Z"
   },
   {
    "duration": 42,
    "start_time": "2021-12-01T13:45:13.688Z"
   },
   {
    "duration": 17,
    "start_time": "2021-12-01T13:45:13.732Z"
   },
   {
    "duration": 53,
    "start_time": "2021-12-01T13:45:13.751Z"
   },
   {
    "duration": 17,
    "start_time": "2021-12-01T13:45:13.805Z"
   },
   {
    "duration": 31,
    "start_time": "2021-12-01T13:45:13.823Z"
   },
   {
    "duration": 37,
    "start_time": "2021-12-01T13:45:13.856Z"
   },
   {
    "duration": 41,
    "start_time": "2021-12-01T13:45:13.895Z"
   },
   {
    "duration": 20,
    "start_time": "2021-12-01T13:45:13.938Z"
   },
   {
    "duration": 38,
    "start_time": "2021-12-01T13:45:14.005Z"
   },
   {
    "duration": 16,
    "start_time": "2021-12-01T13:45:14.082Z"
   },
   {
    "duration": 62,
    "start_time": "2021-12-01T13:45:14.165Z"
   },
   {
    "duration": 14,
    "start_time": "2021-12-01T13:45:14.333Z"
   },
   {
    "duration": 10,
    "start_time": "2021-12-01T13:45:14.761Z"
   },
   {
    "duration": 45,
    "start_time": "2021-12-01T13:45:14.991Z"
   },
   {
    "duration": 6399,
    "start_time": "2021-12-01T13:45:15.312Z"
   },
   {
    "duration": 3,
    "start_time": "2021-12-01T13:45:43.138Z"
   },
   {
    "duration": 58,
    "start_time": "2021-12-01T13:46:07.021Z"
   },
   {
    "duration": 1093,
    "start_time": "2021-12-01T13:46:40.213Z"
   },
   {
    "duration": 786,
    "start_time": "2021-12-01T13:46:41.310Z"
   },
   {
    "duration": 6,
    "start_time": "2021-12-01T13:46:42.098Z"
   },
   {
    "duration": 48,
    "start_time": "2021-12-01T13:46:42.106Z"
   },
   {
    "duration": 107,
    "start_time": "2021-12-01T13:46:42.156Z"
   },
   {
    "duration": 500,
    "start_time": "2021-12-01T13:46:42.265Z"
   },
   {
    "duration": 86,
    "start_time": "2021-12-01T13:46:42.767Z"
   },
   {
    "duration": 52,
    "start_time": "2021-12-01T13:46:42.855Z"
   },
   {
    "duration": 16,
    "start_time": "2021-12-01T13:46:42.909Z"
   },
   {
    "duration": 46,
    "start_time": "2021-12-01T13:46:42.926Z"
   },
   {
    "duration": 16,
    "start_time": "2021-12-01T13:46:42.996Z"
   },
   {
    "duration": 29,
    "start_time": "2021-12-01T13:46:43.163Z"
   },
   {
    "duration": 16,
    "start_time": "2021-12-01T13:46:43.247Z"
   },
   {
    "duration": 42,
    "start_time": "2021-12-01T13:46:44.255Z"
   },
   {
    "duration": 23,
    "start_time": "2021-12-01T13:46:44.513Z"
   },
   {
    "duration": 41,
    "start_time": "2021-12-01T13:46:44.950Z"
   },
   {
    "duration": 17,
    "start_time": "2021-12-01T13:46:45.183Z"
   },
   {
    "duration": 86,
    "start_time": "2021-12-01T13:46:45.430Z"
   },
   {
    "duration": 15,
    "start_time": "2021-12-01T13:46:46.213Z"
   },
   {
    "duration": 10,
    "start_time": "2021-12-01T13:46:46.510Z"
   },
   {
    "duration": 59,
    "start_time": "2021-12-01T13:46:46.770Z"
   },
   {
    "duration": 73,
    "start_time": "2021-12-01T13:46:47.065Z"
   },
   {
    "duration": 177,
    "start_time": "2021-12-01T13:46:47.914Z"
   },
   {
    "duration": 26,
    "start_time": "2021-12-01T13:47:12.354Z"
   },
   {
    "duration": 1074,
    "start_time": "2021-12-01T13:49:50.421Z"
   },
   {
    "duration": 787,
    "start_time": "2021-12-01T13:49:51.497Z"
   },
   {
    "duration": 7,
    "start_time": "2021-12-01T13:49:52.286Z"
   },
   {
    "duration": 49,
    "start_time": "2021-12-01T13:49:52.295Z"
   },
   {
    "duration": 107,
    "start_time": "2021-12-01T13:49:52.345Z"
   },
   {
    "duration": 525,
    "start_time": "2021-12-01T13:49:52.453Z"
   },
   {
    "duration": 85,
    "start_time": "2021-12-01T13:49:52.980Z"
   },
   {
    "duration": 50,
    "start_time": "2021-12-01T13:49:53.067Z"
   },
   {
    "duration": 23,
    "start_time": "2021-12-01T13:49:53.119Z"
   },
   {
    "duration": 61,
    "start_time": "2021-12-01T13:49:53.144Z"
   },
   {
    "duration": 17,
    "start_time": "2021-12-01T13:49:53.206Z"
   },
   {
    "duration": 30,
    "start_time": "2021-12-01T13:49:53.224Z"
   },
   {
    "duration": 32,
    "start_time": "2021-12-01T13:49:53.255Z"
   },
   {
    "duration": 46,
    "start_time": "2021-12-01T13:49:53.289Z"
   },
   {
    "duration": 22,
    "start_time": "2021-12-01T13:49:53.337Z"
   },
   {
    "duration": 59,
    "start_time": "2021-12-01T13:49:53.361Z"
   },
   {
    "duration": 18,
    "start_time": "2021-12-01T13:49:53.444Z"
   },
   {
    "duration": 77,
    "start_time": "2021-12-01T13:49:53.517Z"
   },
   {
    "duration": 16,
    "start_time": "2021-12-01T13:49:53.696Z"
   },
   {
    "duration": 11,
    "start_time": "2021-12-01T13:49:53.772Z"
   },
   {
    "duration": 57,
    "start_time": "2021-12-01T13:49:53.854Z"
   },
   {
    "duration": 74,
    "start_time": "2021-12-01T13:49:53.933Z"
   },
   {
    "duration": 25,
    "start_time": "2021-12-01T13:49:54.021Z"
   },
   {
    "duration": 22,
    "start_time": "2021-12-01T13:49:54.100Z"
   },
   {
    "duration": 8,
    "start_time": "2021-12-01T13:50:05.843Z"
   },
   {
    "duration": 40,
    "start_time": "2021-12-01T13:50:06.188Z"
   },
   {
    "duration": 5,
    "start_time": "2021-12-01T13:50:06.540Z"
   },
   {
    "duration": 268,
    "start_time": "2021-12-01T13:50:06.863Z"
   },
   {
    "duration": 5,
    "start_time": "2021-12-01T13:50:07.512Z"
   },
   {
    "duration": 7,
    "start_time": "2021-12-01T13:50:08.117Z"
   },
   {
    "duration": 676,
    "start_time": "2021-12-01T13:50:08.493Z"
   },
   {
    "duration": 753,
    "start_time": "2021-12-01T13:50:09.170Z"
   },
   {
    "duration": 713,
    "start_time": "2021-12-01T13:50:09.925Z"
   },
   {
    "duration": 22684,
    "start_time": "2021-12-01T13:50:10.640Z"
   },
   {
    "duration": 24,
    "start_time": "2021-12-01T13:50:33.325Z"
   },
   {
    "duration": 75,
    "start_time": "2021-12-01T13:50:33.350Z"
   },
   {
    "duration": 84,
    "start_time": "2021-12-01T13:50:33.427Z"
   },
   {
    "duration": 2,
    "start_time": "2021-12-01T13:50:33.512Z"
   },
   {
    "duration": 20,
    "start_time": "2021-12-01T13:50:33.516Z"
   },
   {
    "duration": 60,
    "start_time": "2021-12-01T13:50:33.537Z"
   },
   {
    "duration": 3,
    "start_time": "2021-12-01T13:50:33.598Z"
   },
   {
    "duration": 70,
    "start_time": "2021-12-01T13:50:33.602Z"
   },
   {
    "duration": 61,
    "start_time": "2021-12-01T13:50:33.673Z"
   },
   {
    "duration": 4,
    "start_time": "2021-12-01T13:51:19.830Z"
   },
   {
    "duration": 745,
    "start_time": "2021-12-01T13:51:20.421Z"
   },
   {
    "duration": 6,
    "start_time": "2021-12-01T13:51:21.168Z"
   },
   {
    "duration": 38,
    "start_time": "2021-12-01T13:51:21.187Z"
   },
   {
    "duration": 95,
    "start_time": "2021-12-01T13:51:21.227Z"
   },
   {
    "duration": 463,
    "start_time": "2021-12-01T13:51:21.589Z"
   },
   {
    "duration": 82,
    "start_time": "2021-12-01T13:51:22.054Z"
   },
   {
    "duration": 41,
    "start_time": "2021-12-01T13:51:22.138Z"
   },
   {
    "duration": 16,
    "start_time": "2021-12-01T13:51:22.188Z"
   },
   {
    "duration": 41,
    "start_time": "2021-12-01T13:51:22.205Z"
   },
   {
    "duration": 18,
    "start_time": "2021-12-01T13:51:22.248Z"
   },
   {
    "duration": 41,
    "start_time": "2021-12-01T13:51:22.269Z"
   },
   {
    "duration": 16,
    "start_time": "2021-12-01T13:51:22.347Z"
   },
   {
    "duration": 43,
    "start_time": "2021-12-01T13:51:22.506Z"
   },
   {
    "duration": 16,
    "start_time": "2021-12-01T13:51:22.592Z"
   },
   {
    "duration": 42,
    "start_time": "2021-12-01T13:51:22.767Z"
   },
   {
    "duration": 18,
    "start_time": "2021-12-01T13:51:22.841Z"
   },
   {
    "duration": 81,
    "start_time": "2021-12-01T13:51:22.925Z"
   },
   {
    "duration": 15,
    "start_time": "2021-12-01T13:51:23.093Z"
   },
   {
    "duration": 9,
    "start_time": "2021-12-01T13:51:23.176Z"
   },
   {
    "duration": 62,
    "start_time": "2021-12-01T13:51:23.258Z"
   },
   {
    "duration": 71,
    "start_time": "2021-12-01T13:51:23.345Z"
   },
   {
    "duration": 25,
    "start_time": "2021-12-01T13:51:23.425Z"
   },
   {
    "duration": 21,
    "start_time": "2021-12-01T13:51:23.509Z"
   },
   {
    "duration": 8,
    "start_time": "2021-12-01T13:51:23.612Z"
   },
   {
    "duration": 37,
    "start_time": "2021-12-01T13:51:23.690Z"
   },
   {
    "duration": 6,
    "start_time": "2021-12-01T13:51:23.763Z"
   },
   {
    "duration": 255,
    "start_time": "2021-12-01T13:51:23.851Z"
   },
   {
    "duration": 7,
    "start_time": "2021-12-01T13:51:24.509Z"
   },
   {
    "duration": 6,
    "start_time": "2021-12-01T13:51:24.760Z"
   },
   {
    "duration": 784,
    "start_time": "2021-12-01T13:51:24.995Z"
   },
   {
    "duration": 695,
    "start_time": "2021-12-01T13:51:25.780Z"
   },
   {
    "duration": 699,
    "start_time": "2021-12-01T13:51:26.477Z"
   },
   {
    "duration": 22254,
    "start_time": "2021-12-01T13:51:27.178Z"
   },
   {
    "duration": 24,
    "start_time": "2021-12-01T13:51:49.433Z"
   },
   {
    "duration": 82,
    "start_time": "2021-12-01T13:51:49.459Z"
   },
   {
    "duration": 81,
    "start_time": "2021-12-01T13:51:49.543Z"
   },
   {
    "duration": 4,
    "start_time": "2021-12-01T13:51:49.626Z"
   },
   {
    "duration": 20,
    "start_time": "2021-12-01T13:51:49.631Z"
   },
   {
    "duration": 54,
    "start_time": "2021-12-01T13:51:49.653Z"
   },
   {
    "duration": 2,
    "start_time": "2021-12-01T13:51:49.709Z"
   },
   {
    "duration": 81,
    "start_time": "2021-12-01T13:51:49.712Z"
   },
   {
    "duration": 44,
    "start_time": "2021-12-01T13:51:49.794Z"
   },
   {
    "duration": 1071,
    "start_time": "2021-12-01T14:11:32.835Z"
   },
   {
    "duration": 811,
    "start_time": "2021-12-01T14:11:33.908Z"
   },
   {
    "duration": 9,
    "start_time": "2021-12-01T14:11:34.720Z"
   },
   {
    "duration": 305,
    "start_time": "2021-12-01T14:11:34.731Z"
   },
   {
    "duration": -151,
    "start_time": "2021-12-01T14:11:35.189Z"
   },
   {
    "duration": -153,
    "start_time": "2021-12-01T14:11:35.192Z"
   },
   {
    "duration": -155,
    "start_time": "2021-12-01T14:11:35.195Z"
   },
   {
    "duration": -157,
    "start_time": "2021-12-01T14:11:35.197Z"
   },
   {
    "duration": -159,
    "start_time": "2021-12-01T14:11:35.200Z"
   },
   {
    "duration": -161,
    "start_time": "2021-12-01T14:11:35.203Z"
   },
   {
    "duration": 18,
    "start_time": "2021-12-01T14:11:35.101Z"
   },
   {
    "duration": 31,
    "start_time": "2021-12-01T14:11:35.266Z"
   },
   {
    "duration": 16,
    "start_time": "2021-12-01T14:11:35.352Z"
   },
   {
    "duration": 44,
    "start_time": "2021-12-01T14:11:35.517Z"
   },
   {
    "duration": 18,
    "start_time": "2021-12-01T14:11:35.601Z"
   },
   {
    "duration": 42,
    "start_time": "2021-12-01T14:11:35.780Z"
   },
   {
    "duration": 19,
    "start_time": "2021-12-01T14:11:36.301Z"
   },
   {
    "duration": 101,
    "start_time": "2021-12-01T14:11:36.609Z"
   },
   {
    "duration": 16,
    "start_time": "2021-12-01T14:11:37.032Z"
   },
   {
    "duration": 10,
    "start_time": "2021-12-01T14:11:37.231Z"
   },
   {
    "duration": 114,
    "start_time": "2021-12-01T14:11:37.450Z"
   },
   {
    "duration": 97,
    "start_time": "2021-12-01T14:11:37.685Z"
   },
   {
    "duration": 35,
    "start_time": "2021-12-01T14:11:37.938Z"
   },
   {
    "duration": 40,
    "start_time": "2021-12-01T14:11:38.175Z"
   },
   {
    "duration": 9,
    "start_time": "2021-12-01T14:11:38.430Z"
   },
   {
    "duration": 55,
    "start_time": "2021-12-01T14:11:38.686Z"
   },
   {
    "duration": 9,
    "start_time": "2021-12-01T14:11:38.933Z"
   },
   {
    "duration": 607,
    "start_time": "2021-12-01T14:11:39.190Z"
   },
   {
    "duration": 5,
    "start_time": "2021-12-01T14:11:39.799Z"
   },
   {
    "duration": 7,
    "start_time": "2021-12-01T14:11:40.022Z"
   },
   {
    "duration": 725,
    "start_time": "2021-12-01T14:11:40.435Z"
   },
   {
    "duration": 781,
    "start_time": "2021-12-01T14:11:41.179Z"
   },
   {
    "duration": 712,
    "start_time": "2021-12-01T14:11:41.961Z"
   },
   {
    "duration": 26201,
    "start_time": "2021-12-01T14:11:42.675Z"
   },
   {
    "duration": 39,
    "start_time": "2021-12-01T14:12:08.878Z"
   },
   {
    "duration": 93,
    "start_time": "2021-12-01T14:12:08.919Z"
   },
   {
    "duration": 222,
    "start_time": "2021-12-01T14:12:09.013Z"
   },
   {
    "duration": -83,
    "start_time": "2021-12-01T14:12:09.320Z"
   },
   {
    "duration": -85,
    "start_time": "2021-12-01T14:12:09.323Z"
   },
   {
    "duration": 90,
    "start_time": "2021-12-01T14:12:23.623Z"
   },
   {
    "duration": 88,
    "start_time": "2021-12-01T14:12:25.809Z"
   },
   {
    "duration": 3,
    "start_time": "2021-12-01T14:12:26.544Z"
   },
   {
    "duration": 81,
    "start_time": "2021-12-01T14:32:47.981Z"
   },
   {
    "duration": 1142,
    "start_time": "2021-12-01T14:38:03.628Z"
   },
   {
    "duration": 817,
    "start_time": "2021-12-01T14:38:04.772Z"
   },
   {
    "duration": 6,
    "start_time": "2021-12-01T14:38:05.591Z"
   },
   {
    "duration": 383,
    "start_time": "2021-12-01T14:38:05.599Z"
   },
   {
    "duration": 107,
    "start_time": "2021-12-01T14:38:06.353Z"
   },
   {
    "duration": 514,
    "start_time": "2021-12-01T14:38:06.599Z"
   },
   {
    "duration": 88,
    "start_time": "2021-12-01T14:38:07.114Z"
   },
   {
    "duration": 44,
    "start_time": "2021-12-01T14:38:07.203Z"
   },
   {
    "duration": 19,
    "start_time": "2021-12-01T14:38:07.248Z"
   },
   {
    "duration": 55,
    "start_time": "2021-12-01T14:38:07.269Z"
   },
   {
    "duration": 17,
    "start_time": "2021-12-01T14:38:07.326Z"
   },
   {
    "duration": 31,
    "start_time": "2021-12-01T14:38:07.436Z"
   },
   {
    "duration": 16,
    "start_time": "2021-12-01T14:38:07.521Z"
   },
   {
    "duration": 45,
    "start_time": "2021-12-01T14:38:07.687Z"
   },
   {
    "duration": 17,
    "start_time": "2021-12-01T14:38:07.777Z"
   },
   {
    "duration": 42,
    "start_time": "2021-12-01T14:38:07.940Z"
   },
   {
    "duration": 18,
    "start_time": "2021-12-01T14:38:08.025Z"
   },
   {
    "duration": 81,
    "start_time": "2021-12-01T14:38:08.111Z"
   },
   {
    "duration": 16,
    "start_time": "2021-12-01T14:38:08.280Z"
   },
   {
    "duration": 10,
    "start_time": "2021-12-01T14:38:08.362Z"
   },
   {
    "duration": 61,
    "start_time": "2021-12-01T14:38:08.445Z"
   },
   {
    "duration": 77,
    "start_time": "2021-12-01T14:38:08.544Z"
   },
   {
    "duration": 27,
    "start_time": "2021-12-01T14:38:08.622Z"
   },
   {
    "duration": 23,
    "start_time": "2021-12-01T14:38:08.712Z"
   },
   {
    "duration": 9,
    "start_time": "2021-12-01T14:38:08.812Z"
   },
   {
    "duration": 41,
    "start_time": "2021-12-01T14:38:08.865Z"
   },
   {
    "duration": 6,
    "start_time": "2021-12-01T14:38:08.950Z"
   },
   {
    "duration": 274,
    "start_time": "2021-12-01T14:38:09.496Z"
   },
   {
    "duration": 4,
    "start_time": "2021-12-01T14:38:10.244Z"
   },
   {
    "duration": 6,
    "start_time": "2021-12-01T14:38:10.687Z"
   },
   {
    "duration": 708,
    "start_time": "2021-12-01T14:38:10.956Z"
   },
   {
    "duration": 757,
    "start_time": "2021-12-01T14:38:11.666Z"
   },
   {
    "duration": 721,
    "start_time": "2021-12-01T14:38:12.426Z"
   },
   {
    "duration": 23543,
    "start_time": "2021-12-01T14:38:13.149Z"
   },
   {
    "duration": 25,
    "start_time": "2021-12-01T14:38:36.693Z"
   },
   {
    "duration": 79,
    "start_time": "2021-12-01T14:38:36.720Z"
   },
   {
    "duration": 75,
    "start_time": "2021-12-01T14:38:36.801Z"
   },
   {
    "duration": 50,
    "start_time": "2021-12-01T14:38:36.878Z"
   },
   {
    "duration": 3,
    "start_time": "2021-12-01T14:38:36.930Z"
   },
   {
    "duration": 7,
    "start_time": "2021-12-01T14:38:36.934Z"
   },
   {
    "duration": 5,
    "start_time": "2021-12-01T14:38:36.942Z"
   },
   {
    "duration": 70,
    "start_time": "2021-12-01T14:38:36.948Z"
   },
   {
    "duration": 20,
    "start_time": "2021-12-01T14:38:37.019Z"
   },
   {
    "duration": 2,
    "start_time": "2021-12-01T14:38:37.041Z"
   },
   {
    "duration": 13,
    "start_time": "2021-12-01T14:38:37.044Z"
   },
   {
    "duration": 67,
    "start_time": "2021-12-01T14:38:37.059Z"
   },
   {
    "duration": 381,
    "start_time": "2021-12-01T14:38:37.127Z"
   },
   {
    "duration": 3,
    "start_time": "2021-12-01T14:38:37.510Z"
   },
   {
    "duration": 6,
    "start_time": "2021-12-01T14:38:37.515Z"
   },
   {
    "duration": 4,
    "start_time": "2021-12-01T14:38:37.522Z"
   },
   {
    "duration": 364,
    "start_time": "2021-12-01T14:38:37.528Z"
   },
   {
    "duration": 9,
    "start_time": "2021-12-01T14:38:37.893Z"
   },
   {
    "duration": 85,
    "start_time": "2021-12-01T14:38:37.906Z"
   },
   {
    "duration": 102,
    "start_time": "2021-12-01T14:38:38.087Z"
   },
   {
    "duration": 97,
    "start_time": "2021-12-01T14:38:38.191Z"
   },
   {
    "duration": 1090,
    "start_time": "2021-12-01T14:41:01.615Z"
   },
   {
    "duration": 797,
    "start_time": "2021-12-01T14:41:02.706Z"
   },
   {
    "duration": 7,
    "start_time": "2021-12-01T14:41:03.504Z"
   },
   {
    "duration": 314,
    "start_time": "2021-12-01T14:41:03.513Z"
   },
   {
    "duration": -67,
    "start_time": "2021-12-01T14:41:03.895Z"
   },
   {
    "duration": -72,
    "start_time": "2021-12-01T14:41:03.901Z"
   },
   {
    "duration": -73,
    "start_time": "2021-12-01T14:41:03.903Z"
   },
   {
    "duration": -75,
    "start_time": "2021-12-01T14:41:03.906Z"
   },
   {
    "duration": -76,
    "start_time": "2021-12-01T14:41:03.908Z"
   },
   {
    "duration": -78,
    "start_time": "2021-12-01T14:41:03.911Z"
   },
   {
    "duration": 17,
    "start_time": "2021-12-01T14:41:03.864Z"
   },
   {
    "duration": 30,
    "start_time": "2021-12-01T14:41:04.033Z"
   },
   {
    "duration": 17,
    "start_time": "2021-12-01T14:41:04.120Z"
   },
   {
    "duration": 44,
    "start_time": "2021-12-01T14:41:04.285Z"
   },
   {
    "duration": 16,
    "start_time": "2021-12-01T14:41:04.368Z"
   },
   {
    "duration": 42,
    "start_time": "2021-12-01T14:41:04.538Z"
   },
   {
    "duration": 19,
    "start_time": "2021-12-01T14:41:04.618Z"
   },
   {
    "duration": 107,
    "start_time": "2021-12-01T14:41:05.257Z"
   },
   {
    "duration": 16,
    "start_time": "2021-12-01T14:41:05.823Z"
   },
   {
    "duration": 10,
    "start_time": "2021-12-01T14:41:05.906Z"
   },
   {
    "duration": 89,
    "start_time": "2021-12-01T14:41:06.002Z"
   },
   {
    "duration": 95,
    "start_time": "2021-12-01T14:41:06.093Z"
   },
   {
    "duration": 44,
    "start_time": "2021-12-01T14:41:06.190Z"
   },
   {
    "duration": 41,
    "start_time": "2021-12-01T14:41:06.250Z"
   },
   {
    "duration": 9,
    "start_time": "2021-12-01T14:41:06.334Z"
   },
   {
    "duration": 56,
    "start_time": "2021-12-01T14:41:06.623Z"
   },
   {
    "duration": 6,
    "start_time": "2021-12-01T14:41:06.906Z"
   },
   {
    "duration": 494,
    "start_time": "2021-12-01T14:41:07.178Z"
   },
   {
    "duration": 5,
    "start_time": "2021-12-01T14:41:07.765Z"
   },
   {
    "duration": 8,
    "start_time": "2021-12-01T14:41:07.848Z"
   },
   {
    "duration": 715,
    "start_time": "2021-12-01T14:41:07.933Z"
   },
   {
    "duration": 771,
    "start_time": "2021-12-01T14:41:08.650Z"
   },
   {
    "duration": 711,
    "start_time": "2021-12-01T14:41:09.423Z"
   },
   {
    "duration": 27249,
    "start_time": "2021-12-01T14:41:10.136Z"
   },
   {
    "duration": 41,
    "start_time": "2021-12-01T14:41:37.391Z"
   },
   {
    "duration": 89,
    "start_time": "2021-12-01T14:41:37.434Z"
   },
   {
    "duration": 108,
    "start_time": "2021-12-01T14:41:37.525Z"
   },
   {
    "duration": 104,
    "start_time": "2021-12-01T14:41:37.635Z"
   },
   {
    "duration": 16,
    "start_time": "2021-12-01T14:41:37.741Z"
   },
   {
    "duration": 17,
    "start_time": "2021-12-01T14:41:37.759Z"
   },
   {
    "duration": 1072,
    "start_time": "2021-12-01T14:43:03.819Z"
   },
   {
    "duration": 789,
    "start_time": "2021-12-01T14:43:05.298Z"
   },
   {
    "duration": 10,
    "start_time": "2021-12-01T14:43:09.531Z"
   },
   {
    "duration": 53,
    "start_time": "2021-12-01T14:43:12.906Z"
   },
   {
    "duration": 95,
    "start_time": "2021-12-01T14:43:15.599Z"
   },
   {
    "duration": 503,
    "start_time": "2021-12-01T14:43:17.002Z"
   },
   {
    "duration": 78,
    "start_time": "2021-12-01T14:43:17.821Z"
   },
   {
    "duration": 75,
    "start_time": "2021-12-01T14:43:19.962Z"
   },
   {
    "duration": 17,
    "start_time": "2021-12-01T14:43:20.560Z"
   },
   {
    "duration": 42,
    "start_time": "2021-12-01T14:43:21.996Z"
   },
   {
    "duration": 18,
    "start_time": "2021-12-01T14:43:22.272Z"
   },
   {
    "duration": 30,
    "start_time": "2021-12-01T14:43:23.049Z"
   },
   {
    "duration": 16,
    "start_time": "2021-12-01T14:43:23.604Z"
   },
   {
    "duration": 44,
    "start_time": "2021-12-01T14:43:24.251Z"
   },
   {
    "duration": 17,
    "start_time": "2021-12-01T14:43:24.560Z"
   },
   {
    "duration": 48,
    "start_time": "2021-12-01T14:43:25.565Z"
   },
   {
    "duration": 21,
    "start_time": "2021-12-01T14:43:26.206Z"
   },
   {
    "duration": 78,
    "start_time": "2021-12-01T14:43:26.918Z"
   },
   {
    "duration": 16,
    "start_time": "2021-12-01T14:43:27.765Z"
   },
   {
    "duration": 11,
    "start_time": "2021-12-01T14:43:28.685Z"
   },
   {
    "duration": 61,
    "start_time": "2021-12-01T14:43:29.366Z"
   },
   {
    "duration": 79,
    "start_time": "2021-12-01T14:43:29.879Z"
   },
   {
    "duration": 26,
    "start_time": "2021-12-01T14:43:30.809Z"
   },
   {
    "duration": 22,
    "start_time": "2021-12-01T14:43:31.857Z"
   },
   {
    "duration": 8,
    "start_time": "2021-12-01T14:43:34.243Z"
   },
   {
    "duration": 37,
    "start_time": "2021-12-01T14:43:34.959Z"
   },
   {
    "duration": 9,
    "start_time": "2021-12-01T14:43:35.625Z"
   },
   {
    "duration": 265,
    "start_time": "2021-12-01T14:43:36.058Z"
   },
   {
    "duration": 6,
    "start_time": "2021-12-01T14:43:37.058Z"
   },
   {
    "duration": 7,
    "start_time": "2021-12-01T14:43:37.605Z"
   },
   {
    "duration": 686,
    "start_time": "2021-12-01T14:43:38.333Z"
   },
   {
    "duration": 751,
    "start_time": "2021-12-01T14:43:39.721Z"
   },
   {
    "duration": 690,
    "start_time": "2021-12-01T14:43:41.792Z"
   },
   {
    "duration": 22999,
    "start_time": "2021-12-01T14:43:44.502Z"
   },
   {
    "duration": 28,
    "start_time": "2021-12-01T14:44:07.502Z"
   },
   {
    "duration": 83,
    "start_time": "2021-12-01T14:44:07.532Z"
   },
   {
    "duration": 81,
    "start_time": "2021-12-01T14:44:07.617Z"
   },
   {
    "duration": 46,
    "start_time": "2021-12-01T14:44:07.700Z"
   },
   {
    "duration": 14,
    "start_time": "2021-12-01T14:44:07.748Z"
   },
   {
    "duration": 30,
    "start_time": "2021-12-01T14:44:07.763Z"
   },
   {
    "duration": 2,
    "start_time": "2021-12-01T14:45:42.666Z"
   },
   {
    "duration": 2,
    "start_time": "2021-12-01T14:45:43.059Z"
   },
   {
    "duration": 3,
    "start_time": "2021-12-01T14:45:43.460Z"
   },
   {
    "duration": 65,
    "start_time": "2021-12-01T14:45:43.888Z"
   },
   {
    "duration": 22,
    "start_time": "2021-12-01T14:45:44.384Z"
   },
   {
    "duration": 3,
    "start_time": "2021-12-01T14:45:46.964Z"
   },
   {
    "duration": 9,
    "start_time": "2021-12-01T14:45:47.580Z"
   },
   {
    "duration": 34,
    "start_time": "2021-12-01T14:45:48.241Z"
   },
   {
    "duration": 59,
    "start_time": "2021-12-01T14:45:49.137Z"
   },
   {
    "duration": 19,
    "start_time": "2021-12-01T14:45:49.858Z"
   },
   {
    "duration": 28,
    "start_time": "2021-12-01T14:45:50.190Z"
   },
   {
    "duration": 19,
    "start_time": "2021-12-01T14:46:24.606Z"
   },
   {
    "duration": 25,
    "start_time": "2021-12-01T14:46:26.123Z"
   },
   {
    "duration": 164,
    "start_time": "2021-12-01T14:46:27.162Z"
   },
   {
    "duration": 4,
    "start_time": "2021-12-01T14:46:29.016Z"
   },
   {
    "duration": 3,
    "start_time": "2021-12-01T14:46:30.009Z"
   },
   {
    "duration": 2,
    "start_time": "2021-12-01T14:46:31.847Z"
   },
   {
    "duration": 238,
    "start_time": "2021-12-01T14:46:33.760Z"
   },
   {
    "duration": 19,
    "start_time": "2021-12-01T14:46:39.089Z"
   },
   {
    "duration": 5,
    "start_time": "2021-12-01T14:46:42.159Z"
   },
   {
    "duration": 39,
    "start_time": "2021-12-01T14:46:47.859Z"
   },
   {
    "duration": 7,
    "start_time": "2021-12-01T14:46:48.578Z"
   },
   {
    "duration": 36,
    "start_time": "2021-12-01T14:47:53.763Z"
   },
   {
    "duration": 6,
    "start_time": "2021-12-01T14:47:54.460Z"
   },
   {
    "duration": 1133,
    "start_time": "2021-12-01T14:51:06.662Z"
   },
   {
    "duration": 818,
    "start_time": "2021-12-01T14:51:08.118Z"
   },
   {
    "duration": 6,
    "start_time": "2021-12-01T14:51:08.938Z"
   },
   {
    "duration": 68,
    "start_time": "2021-12-01T14:51:08.946Z"
   },
   {
    "duration": 103,
    "start_time": "2021-12-01T14:51:09.016Z"
   },
   {
    "duration": 516,
    "start_time": "2021-12-01T14:51:09.121Z"
   },
   {
    "duration": 89,
    "start_time": "2021-12-01T14:51:09.639Z"
   },
   {
    "duration": 43,
    "start_time": "2021-12-01T14:51:09.729Z"
   },
   {
    "duration": 30,
    "start_time": "2021-12-01T14:51:09.774Z"
   },
   {
    "duration": 70,
    "start_time": "2021-12-01T14:51:09.807Z"
   },
   {
    "duration": 16,
    "start_time": "2021-12-01T14:51:09.889Z"
   },
   {
    "duration": 29,
    "start_time": "2021-12-01T14:51:09.907Z"
   },
   {
    "duration": 17,
    "start_time": "2021-12-01T14:51:09.938Z"
   },
   {
    "duration": 68,
    "start_time": "2021-12-01T14:51:09.957Z"
   },
   {
    "duration": 19,
    "start_time": "2021-12-01T14:51:10.027Z"
   },
   {
    "duration": 61,
    "start_time": "2021-12-01T14:51:10.047Z"
   },
   {
    "duration": 18,
    "start_time": "2021-12-01T14:51:10.110Z"
   },
   {
    "duration": 97,
    "start_time": "2021-12-01T14:51:10.130Z"
   },
   {
    "duration": 16,
    "start_time": "2021-12-01T14:51:10.229Z"
   },
   {
    "duration": 10,
    "start_time": "2021-12-01T14:51:10.247Z"
   },
   {
    "duration": 84,
    "start_time": "2021-12-01T14:51:10.259Z"
   },
   {
    "duration": 88,
    "start_time": "2021-12-01T14:51:10.345Z"
   },
   {
    "duration": 38,
    "start_time": "2021-12-01T14:51:10.435Z"
   },
   {
    "duration": 21,
    "start_time": "2021-12-01T14:51:10.748Z"
   },
   {
    "duration": 11,
    "start_time": "2021-12-01T14:51:11.048Z"
   },
   {
    "duration": 40,
    "start_time": "2021-12-01T14:51:11.369Z"
   },
   {
    "duration": 7,
    "start_time": "2021-12-01T14:51:11.632Z"
   },
   {
    "duration": 265,
    "start_time": "2021-12-01T14:51:11.932Z"
   },
   {
    "duration": 5,
    "start_time": "2021-12-01T14:51:12.416Z"
   },
   {
    "duration": 6,
    "start_time": "2021-12-01T14:51:12.666Z"
   },
   {
    "duration": 704,
    "start_time": "2021-12-01T14:51:12.885Z"
   },
   {
    "duration": 856,
    "start_time": "2021-12-01T14:51:13.590Z"
   },
   {
    "duration": 701,
    "start_time": "2021-12-01T14:51:14.448Z"
   },
   {
    "duration": 23440,
    "start_time": "2021-12-01T14:51:15.151Z"
   },
   {
    "duration": 27,
    "start_time": "2021-12-01T14:51:38.592Z"
   },
   {
    "duration": 81,
    "start_time": "2021-12-01T14:51:38.621Z"
   },
   {
    "duration": 76,
    "start_time": "2021-12-01T14:51:38.703Z"
   },
   {
    "duration": 51,
    "start_time": "2021-12-01T14:51:38.781Z"
   },
   {
    "duration": 15,
    "start_time": "2021-12-01T14:51:38.834Z"
   },
   {
    "duration": 38,
    "start_time": "2021-12-01T14:51:38.851Z"
   },
   {
    "duration": 4,
    "start_time": "2021-12-01T14:51:38.890Z"
   },
   {
    "duration": 5,
    "start_time": "2021-12-01T14:51:38.896Z"
   },
   {
    "duration": 4,
    "start_time": "2021-12-01T14:51:38.903Z"
   },
   {
    "duration": 66,
    "start_time": "2021-12-01T14:51:38.909Z"
   },
   {
    "duration": 34,
    "start_time": "2021-12-01T14:51:38.977Z"
   },
   {
    "duration": 3,
    "start_time": "2021-12-01T14:51:39.013Z"
   },
   {
    "duration": 11,
    "start_time": "2021-12-01T14:51:39.018Z"
   },
   {
    "duration": 32,
    "start_time": "2021-12-01T14:51:39.030Z"
   },
   {
    "duration": 72,
    "start_time": "2021-12-01T14:51:39.064Z"
   },
   {
    "duration": 17,
    "start_time": "2021-12-01T14:51:39.138Z"
   },
   {
    "duration": 44,
    "start_time": "2021-12-01T14:51:39.157Z"
   },
   {
    "duration": 2,
    "start_time": "2021-12-01T14:51:39.202Z"
   },
   {
    "duration": 7,
    "start_time": "2021-12-01T14:51:39.207Z"
   },
   {
    "duration": 6,
    "start_time": "2021-12-01T14:51:39.215Z"
   },
   {
    "duration": 6,
    "start_time": "2021-12-01T14:51:39.223Z"
   },
   {
    "duration": 259,
    "start_time": "2021-12-01T14:51:39.230Z"
   },
   {
    "duration": 105,
    "start_time": "2021-12-01T14:51:39.491Z"
   },
   {
    "duration": 90,
    "start_time": "2021-12-01T14:51:39.599Z"
   },
   {
    "duration": 36,
    "start_time": "2021-12-01T14:51:39.690Z"
   },
   {
    "duration": 8,
    "start_time": "2021-12-01T14:51:39.789Z"
   },
   {
    "duration": 1150,
    "start_time": "2021-12-01T14:53:52.474Z"
   },
   {
    "duration": 771,
    "start_time": "2021-12-01T14:53:53.626Z"
   },
   {
    "duration": 7,
    "start_time": "2021-12-01T14:53:54.399Z"
   },
   {
    "duration": 48,
    "start_time": "2021-12-01T14:53:54.408Z"
   },
   {
    "duration": 118,
    "start_time": "2021-12-01T14:53:54.458Z"
   },
   {
    "duration": 544,
    "start_time": "2021-12-01T14:53:54.578Z"
   },
   {
    "duration": 85,
    "start_time": "2021-12-01T14:53:55.124Z"
   },
   {
    "duration": 46,
    "start_time": "2021-12-01T14:53:55.210Z"
   },
   {
    "duration": 17,
    "start_time": "2021-12-01T14:53:55.257Z"
   },
   {
    "duration": 48,
    "start_time": "2021-12-01T14:53:55.275Z"
   },
   {
    "duration": 24,
    "start_time": "2021-12-01T14:53:55.325Z"
   },
   {
    "duration": 46,
    "start_time": "2021-12-01T14:53:55.351Z"
   },
   {
    "duration": 38,
    "start_time": "2021-12-01T14:53:55.399Z"
   },
   {
    "duration": 61,
    "start_time": "2021-12-01T14:53:55.439Z"
   },
   {
    "duration": 20,
    "start_time": "2021-12-01T14:53:55.502Z"
   },
   {
    "duration": 49,
    "start_time": "2021-12-01T14:53:55.525Z"
   },
   {
    "duration": 20,
    "start_time": "2021-12-01T14:53:55.587Z"
   },
   {
    "duration": 98,
    "start_time": "2021-12-01T14:53:55.609Z"
   },
   {
    "duration": 16,
    "start_time": "2021-12-01T14:53:55.751Z"
   },
   {
    "duration": 10,
    "start_time": "2021-12-01T14:53:55.823Z"
   },
   {
    "duration": 58,
    "start_time": "2021-12-01T14:53:55.912Z"
   },
   {
    "duration": 77,
    "start_time": "2021-12-01T14:53:55.991Z"
   },
   {
    "duration": 26,
    "start_time": "2021-12-01T14:53:56.321Z"
   },
   {
    "duration": 21,
    "start_time": "2021-12-01T14:53:56.824Z"
   },
   {
    "duration": 9,
    "start_time": "2021-12-01T14:53:56.907Z"
   },
   {
    "duration": 41,
    "start_time": "2021-12-01T14:53:56.988Z"
   },
   {
    "duration": 6,
    "start_time": "2021-12-01T14:53:57.071Z"
   },
   {
    "duration": 263,
    "start_time": "2021-12-01T14:53:57.156Z"
   },
   {
    "duration": 5,
    "start_time": "2021-12-01T14:53:57.421Z"
   },
   {
    "duration": 7,
    "start_time": "2021-12-01T14:53:57.709Z"
   },
   {
    "duration": 667,
    "start_time": "2021-12-01T14:53:58.211Z"
   },
   {
    "duration": 748,
    "start_time": "2021-12-01T14:53:58.880Z"
   },
   {
    "duration": 722,
    "start_time": "2021-12-01T14:53:59.630Z"
   },
   {
    "duration": 23161,
    "start_time": "2021-12-01T14:54:00.355Z"
   },
   {
    "duration": 24,
    "start_time": "2021-12-01T14:54:23.518Z"
   },
   {
    "duration": 79,
    "start_time": "2021-12-01T14:54:23.544Z"
   },
   {
    "duration": 84,
    "start_time": "2021-12-01T14:54:23.625Z"
   },
   {
    "duration": 46,
    "start_time": "2021-12-01T14:54:23.711Z"
   },
   {
    "duration": 3,
    "start_time": "2021-12-01T14:54:23.759Z"
   },
   {
    "duration": 5,
    "start_time": "2021-12-01T14:54:23.763Z"
   },
   {
    "duration": 9,
    "start_time": "2021-12-01T14:54:23.769Z"
   },
   {
    "duration": 66,
    "start_time": "2021-12-01T14:54:23.787Z"
   },
   {
    "duration": 33,
    "start_time": "2021-12-01T14:54:23.855Z"
   },
   {
    "duration": 3,
    "start_time": "2021-12-01T14:54:23.889Z"
   },
   {
    "duration": 14,
    "start_time": "2021-12-01T14:54:23.893Z"
   },
   {
    "duration": 64,
    "start_time": "2021-12-01T14:54:23.908Z"
   },
   {
    "duration": 322,
    "start_time": "2021-12-01T14:54:23.974Z"
   },
   {
    "duration": 3,
    "start_time": "2021-12-01T14:54:24.298Z"
   },
   {
    "duration": 7,
    "start_time": "2021-12-01T14:54:24.302Z"
   },
   {
    "duration": 5,
    "start_time": "2021-12-01T14:54:24.310Z"
   },
   {
    "duration": 279,
    "start_time": "2021-12-01T14:54:24.316Z"
   },
   {
    "duration": 93,
    "start_time": "2021-12-01T14:54:24.597Z"
   },
   {
    "duration": 4,
    "start_time": "2021-12-01T14:54:24.694Z"
   },
   {
    "duration": 112,
    "start_time": "2021-12-01T14:54:24.700Z"
   },
   {
    "duration": 8,
    "start_time": "2021-12-01T14:54:24.887Z"
   },
   {
    "duration": 1372,
    "start_time": "2021-12-01T14:59:23.957Z"
   },
   {
    "duration": 2,
    "start_time": "2021-12-01T14:59:26.423Z"
   },
   {
    "duration": 210,
    "start_time": "2021-12-01T14:59:27.825Z"
   },
   {
    "duration": 12,
    "start_time": "2021-12-01T14:59:31.370Z"
   },
   {
    "duration": 5,
    "start_time": "2021-12-01T14:59:32.479Z"
   },
   {
    "duration": 233,
    "start_time": "2021-12-01T14:59:33.354Z"
   },
   {
    "duration": 42,
    "start_time": "2021-12-01T14:59:34.769Z"
   },
   {
    "duration": 5,
    "start_time": "2021-12-01T14:59:35.143Z"
   },
   {
    "duration": 12,
    "start_time": "2021-12-01T15:05:57.767Z"
   },
   {
    "duration": 1095,
    "start_time": "2021-12-01T15:14:24.115Z"
   },
   {
    "duration": 863,
    "start_time": "2021-12-01T15:14:25.212Z"
   },
   {
    "duration": 11,
    "start_time": "2021-12-01T15:14:26.077Z"
   },
   {
    "duration": 52,
    "start_time": "2021-12-01T15:14:26.090Z"
   },
   {
    "duration": 103,
    "start_time": "2021-12-01T15:14:26.144Z"
   },
   {
    "duration": 527,
    "start_time": "2021-12-01T15:14:26.248Z"
   },
   {
    "duration": 85,
    "start_time": "2021-12-01T15:14:26.776Z"
   },
   {
    "duration": 47,
    "start_time": "2021-12-01T15:14:26.863Z"
   },
   {
    "duration": 19,
    "start_time": "2021-12-01T15:14:26.912Z"
   },
   {
    "duration": 41,
    "start_time": "2021-12-01T15:14:26.932Z"
   },
   {
    "duration": 16,
    "start_time": "2021-12-01T15:14:26.988Z"
   },
   {
    "duration": 29,
    "start_time": "2021-12-01T15:14:27.006Z"
   },
   {
    "duration": 19,
    "start_time": "2021-12-01T15:14:27.036Z"
   },
   {
    "duration": 57,
    "start_time": "2021-12-01T15:14:27.057Z"
   },
   {
    "duration": 16,
    "start_time": "2021-12-01T15:14:27.116Z"
   },
   {
    "duration": 43,
    "start_time": "2021-12-01T15:14:27.181Z"
   },
   {
    "duration": 18,
    "start_time": "2021-12-01T15:14:27.226Z"
   },
   {
    "duration": 81,
    "start_time": "2021-12-01T15:14:27.332Z"
   },
   {
    "duration": 16,
    "start_time": "2021-12-01T15:14:27.415Z"
   },
   {
    "duration": 10,
    "start_time": "2021-12-01T15:14:27.504Z"
   },
   {
    "duration": 58,
    "start_time": "2021-12-01T15:14:27.544Z"
   },
   {
    "duration": 73,
    "start_time": "2021-12-01T15:14:27.675Z"
   },
   {
    "duration": 26,
    "start_time": "2021-12-01T15:14:27.846Z"
   },
   {
    "duration": 22,
    "start_time": "2021-12-01T15:14:27.873Z"
   },
   {
    "duration": 9,
    "start_time": "2021-12-01T15:14:27.897Z"
   },
   {
    "duration": 42,
    "start_time": "2021-12-01T15:14:28.019Z"
   },
   {
    "duration": 6,
    "start_time": "2021-12-01T15:14:28.165Z"
   },
   {
    "duration": 264,
    "start_time": "2021-12-01T15:14:28.173Z"
   },
   {
    "duration": 7,
    "start_time": "2021-12-01T15:14:28.607Z"
   },
   {
    "duration": 6,
    "start_time": "2021-12-01T15:14:28.974Z"
   },
   {
    "duration": 694,
    "start_time": "2021-12-01T15:14:29.222Z"
   },
   {
    "duration": 761,
    "start_time": "2021-12-01T15:14:29.918Z"
   },
   {
    "duration": 703,
    "start_time": "2021-12-01T15:14:30.681Z"
   },
   {
    "duration": 22866,
    "start_time": "2021-12-01T15:14:31.386Z"
   },
   {
    "duration": 34,
    "start_time": "2021-12-01T15:14:54.254Z"
   },
   {
    "duration": 70,
    "start_time": "2021-12-01T15:14:54.289Z"
   },
   {
    "duration": 88,
    "start_time": "2021-12-01T15:14:54.361Z"
   },
   {
    "duration": 55,
    "start_time": "2021-12-01T15:14:54.452Z"
   },
   {
    "duration": 3,
    "start_time": "2021-12-01T15:14:54.509Z"
   },
   {
    "duration": 7,
    "start_time": "2021-12-01T15:14:54.513Z"
   },
   {
    "duration": 5,
    "start_time": "2021-12-01T15:14:54.522Z"
   },
   {
    "duration": 75,
    "start_time": "2021-12-01T15:14:54.529Z"
   },
   {
    "duration": 23,
    "start_time": "2021-12-01T15:14:54.606Z"
   },
   {
    "duration": 2,
    "start_time": "2021-12-01T15:14:54.631Z"
   },
   {
    "duration": 9,
    "start_time": "2021-12-01T15:14:54.635Z"
   },
   {
    "duration": 77,
    "start_time": "2021-12-01T15:14:54.645Z"
   },
   {
    "duration": 322,
    "start_time": "2021-12-01T15:14:54.723Z"
   },
   {
    "duration": 3,
    "start_time": "2021-12-01T15:14:55.047Z"
   },
   {
    "duration": 5,
    "start_time": "2021-12-01T15:14:55.052Z"
   },
   {
    "duration": 5,
    "start_time": "2021-12-01T15:14:55.059Z"
   },
   {
    "duration": 325,
    "start_time": "2021-12-01T15:14:55.065Z"
   },
   {
    "duration": 104,
    "start_time": "2021-12-01T15:14:55.395Z"
   },
   {
    "duration": 90,
    "start_time": "2021-12-01T15:14:55.502Z"
   },
   {
    "duration": 94,
    "start_time": "2021-12-01T15:14:55.594Z"
   },
   {
    "duration": 8,
    "start_time": "2021-12-01T15:14:55.691Z"
   },
   {
    "duration": 1369,
    "start_time": "2021-12-01T15:14:55.789Z"
   },
   {
    "duration": 2,
    "start_time": "2021-12-01T15:14:57.160Z"
   },
   {
    "duration": 203,
    "start_time": "2021-12-01T15:14:57.164Z"
   },
   {
    "duration": 20,
    "start_time": "2021-12-01T15:14:57.369Z"
   },
   {
    "duration": 4,
    "start_time": "2021-12-01T15:14:57.390Z"
   },
   {
    "duration": 244,
    "start_time": "2021-12-01T15:14:57.395Z"
   },
   {
    "duration": 51,
    "start_time": "2021-12-01T15:14:57.640Z"
   },
   {
    "duration": 4,
    "start_time": "2021-12-01T15:14:57.692Z"
   },
   {
    "duration": 5,
    "start_time": "2021-12-01T15:14:57.698Z"
   },
   {
    "duration": 10393,
    "start_time": "2021-12-01T15:14:57.704Z"
   },
   {
    "duration": 499,
    "start_time": "2021-12-01T15:15:08.098Z"
   },
   {
    "duration": 4,
    "start_time": "2021-12-01T15:15:08.599Z"
   },
   {
    "duration": 276,
    "start_time": "2021-12-01T15:15:08.605Z"
   },
   {
    "duration": 1622,
    "start_time": "2021-12-01T15:15:08.883Z"
   },
   {
    "duration": 83,
    "start_time": "2021-12-01T15:15:10.507Z"
   },
   {
    "duration": 178800,
    "start_time": "2021-12-01T15:15:10.593Z"
   },
   {
    "duration": 228400,
    "start_time": "2021-12-01T15:18:09.395Z"
   },
   {
    "duration": 4,
    "start_time": "2021-12-01T15:21:57.797Z"
   },
   {
    "duration": 111634,
    "start_time": "2021-12-01T15:21:57.803Z"
   },
   {
    "duration": 59,
    "start_time": "2021-12-01T15:23:49.438Z"
   },
   {
    "duration": 4,
    "start_time": "2021-12-01T15:23:49.499Z"
   },
   {
    "duration": 274,
    "start_time": "2021-12-01T15:23:49.504Z"
   },
   {
    "duration": 76,
    "start_time": "2021-12-01T15:23:49.780Z"
   },
   {
    "duration": -274468,
    "start_time": "2021-12-01T15:28:24.325Z"
   },
   {
    "duration": -274471,
    "start_time": "2021-12-01T15:28:24.330Z"
   },
   {
    "duration": -274474,
    "start_time": "2021-12-01T15:28:24.334Z"
   },
   {
    "duration": -274477,
    "start_time": "2021-12-01T15:28:24.338Z"
   },
   {
    "duration": -274480,
    "start_time": "2021-12-01T15:28:24.342Z"
   },
   {
    "duration": -274484,
    "start_time": "2021-12-01T15:28:24.347Z"
   },
   {
    "duration": -274488,
    "start_time": "2021-12-01T15:28:24.352Z"
   },
   {
    "duration": -274491,
    "start_time": "2021-12-01T15:28:24.356Z"
   },
   {
    "duration": -274494,
    "start_time": "2021-12-01T15:28:24.360Z"
   },
   {
    "duration": -274497,
    "start_time": "2021-12-01T15:28:24.364Z"
   },
   {
    "duration": -274500,
    "start_time": "2021-12-01T15:28:24.368Z"
   },
   {
    "duration": -274503,
    "start_time": "2021-12-01T15:28:24.372Z"
   },
   {
    "duration": -274507,
    "start_time": "2021-12-01T15:28:24.377Z"
   },
   {
    "duration": -274509,
    "start_time": "2021-12-01T15:28:24.380Z"
   },
   {
    "duration": -274517,
    "start_time": "2021-12-01T15:28:24.389Z"
   },
   {
    "duration": 181,
    "start_time": "2021-12-01T15:31:52.026Z"
   },
   {
    "duration": 6,
    "start_time": "2021-12-01T15:31:53.205Z"
   },
   {
    "duration": 367,
    "start_time": "2021-12-01T15:31:54.442Z"
   },
   {
    "duration": 254,
    "start_time": "2021-12-01T15:31:55.063Z"
   },
   {
    "duration": 142,
    "start_time": "2021-12-01T15:33:35.663Z"
   },
   {
    "duration": 5,
    "start_time": "2021-12-01T15:33:36.831Z"
   },
   {
    "duration": 3,
    "start_time": "2021-12-01T15:33:38.186Z"
   },
   {
    "duration": 5,
    "start_time": "2021-12-01T15:33:39.136Z"
   },
   {
    "duration": 48,
    "start_time": "2021-12-01T15:33:39.926Z"
   },
   {
    "duration": 5,
    "start_time": "2021-12-01T15:33:40.803Z"
   },
   {
    "duration": 193032,
    "start_time": "2021-12-01T15:33:42.082Z"
   },
   {
    "duration": 93,
    "start_time": "2021-12-01T15:36:55.117Z"
   },
   {
    "duration": 78,
    "start_time": "2021-12-01T15:36:55.212Z"
   },
   {
    "duration": 198,
    "start_time": "2021-12-01T15:36:55.292Z"
   },
   {
    "duration": 107,
    "start_time": "2021-12-01T15:36:55.492Z"
   },
   {
    "duration": 4,
    "start_time": "2021-12-01T15:36:55.601Z"
   },
   {
    "duration": 245,
    "start_time": "2021-12-01T15:36:55.608Z"
   },
   {
    "duration": -123,
    "start_time": "2021-12-01T15:36:55.978Z"
   },
   {
    "duration": 301,
    "start_time": "2021-12-01T15:41:23.383Z"
   },
   {
    "duration": 3,
    "start_time": "2021-12-01T15:41:42.657Z"
   },
   {
    "duration": 3,
    "start_time": "2021-12-01T15:42:14.060Z"
   },
   {
    "duration": 4,
    "start_time": "2021-12-01T15:42:14.885Z"
   },
   {
    "duration": 4,
    "start_time": "2021-12-01T15:42:55.038Z"
   },
   {
    "duration": 3,
    "start_time": "2021-12-01T15:42:55.685Z"
   },
   {
    "duration": 1166,
    "start_time": "2021-12-01T15:45:53.973Z"
   },
   {
    "duration": 910,
    "start_time": "2021-12-01T15:45:55.142Z"
   },
   {
    "duration": 7,
    "start_time": "2021-12-01T15:45:56.054Z"
   },
   {
    "duration": 67,
    "start_time": "2021-12-01T15:45:56.063Z"
   },
   {
    "duration": 109,
    "start_time": "2021-12-01T15:45:56.132Z"
   },
   {
    "duration": 711,
    "start_time": "2021-12-01T15:45:56.242Z"
   },
   {
    "duration": 153,
    "start_time": "2021-12-01T15:45:56.955Z"
   },
   {
    "duration": 88,
    "start_time": "2021-12-01T15:45:57.111Z"
   },
   {
    "duration": 28,
    "start_time": "2021-12-01T15:45:57.202Z"
   },
   {
    "duration": 86,
    "start_time": "2021-12-01T15:45:57.232Z"
   },
   {
    "duration": 29,
    "start_time": "2021-12-01T15:45:57.320Z"
   },
   {
    "duration": 53,
    "start_time": "2021-12-01T15:45:57.351Z"
   },
   {
    "duration": 17,
    "start_time": "2021-12-01T15:45:57.406Z"
   },
   {
    "duration": 65,
    "start_time": "2021-12-01T15:45:57.425Z"
   },
   {
    "duration": 28,
    "start_time": "2021-12-01T15:45:57.492Z"
   },
   {
    "duration": 43,
    "start_time": "2021-12-01T15:45:57.522Z"
   },
   {
    "duration": 34,
    "start_time": "2021-12-01T15:45:57.567Z"
   },
   {
    "duration": 95,
    "start_time": "2021-12-01T15:45:57.602Z"
   },
   {
    "duration": 17,
    "start_time": "2021-12-01T15:45:57.700Z"
   },
   {
    "duration": 13,
    "start_time": "2021-12-01T15:45:57.719Z"
   },
   {
    "duration": 95,
    "start_time": "2021-12-01T15:45:57.733Z"
   },
   {
    "duration": 80,
    "start_time": "2021-12-01T15:45:57.829Z"
   },
   {
    "duration": 38,
    "start_time": "2021-12-01T15:45:57.910Z"
   },
   {
    "duration": 24,
    "start_time": "2021-12-01T15:45:57.950Z"
   },
   {
    "duration": 8,
    "start_time": "2021-12-01T15:45:57.988Z"
   },
   {
    "duration": 43,
    "start_time": "2021-12-01T15:45:57.998Z"
   },
   {
    "duration": 7,
    "start_time": "2021-12-01T15:45:58.042Z"
   },
   {
    "duration": 306,
    "start_time": "2021-12-01T15:45:58.050Z"
   },
   {
    "duration": 5,
    "start_time": "2021-12-01T15:45:58.358Z"
   },
   {
    "duration": 10,
    "start_time": "2021-12-01T15:45:58.364Z"
   },
   {
    "duration": 731,
    "start_time": "2021-12-01T15:45:58.387Z"
   },
   {
    "duration": 790,
    "start_time": "2021-12-01T15:45:59.120Z"
   },
   {
    "duration": 767,
    "start_time": "2021-12-01T15:45:59.912Z"
   },
   {
    "duration": 23093,
    "start_time": "2021-12-01T15:46:00.681Z"
   },
   {
    "duration": 32,
    "start_time": "2021-12-01T15:46:23.776Z"
   },
   {
    "duration": 78,
    "start_time": "2021-12-01T15:46:23.811Z"
   },
   {
    "duration": 78,
    "start_time": "2021-12-01T15:46:23.891Z"
   },
   {
    "duration": 60,
    "start_time": "2021-12-01T15:46:23.971Z"
   },
   {
    "duration": 2,
    "start_time": "2021-12-01T15:46:24.033Z"
   },
   {
    "duration": 6,
    "start_time": "2021-12-01T15:46:24.037Z"
   },
   {
    "duration": 4,
    "start_time": "2021-12-01T15:46:24.045Z"
   },
   {
    "duration": 89,
    "start_time": "2021-12-01T15:46:24.051Z"
   },
   {
    "duration": 26,
    "start_time": "2021-12-01T15:46:24.141Z"
   },
   {
    "duration": 2,
    "start_time": "2021-12-01T15:46:24.169Z"
   },
   {
    "duration": 22,
    "start_time": "2021-12-01T15:46:24.173Z"
   },
   {
    "duration": 103,
    "start_time": "2021-12-01T15:46:24.196Z"
   },
   {
    "duration": 547,
    "start_time": "2021-12-01T15:46:24.301Z"
   },
   {
    "duration": 5,
    "start_time": "2021-12-01T15:46:24.853Z"
   },
   {
    "duration": 4,
    "start_time": "2021-12-01T15:46:24.861Z"
   },
   {
    "duration": 8,
    "start_time": "2021-12-01T15:46:24.867Z"
   },
   {
    "duration": 329,
    "start_time": "2021-12-01T15:46:24.877Z"
   },
   {
    "duration": 180,
    "start_time": "2021-12-01T15:46:25.208Z"
   },
   {
    "duration": 101,
    "start_time": "2021-12-01T15:46:25.391Z"
   },
   {
    "duration": 97,
    "start_time": "2021-12-01T15:46:25.494Z"
   },
   {
    "duration": 94,
    "start_time": "2021-12-01T15:46:25.595Z"
   },
   {
    "duration": 1582,
    "start_time": "2021-12-01T15:46:25.691Z"
   },
   {
    "duration": 2,
    "start_time": "2021-12-01T15:46:27.275Z"
   },
   {
    "duration": 248,
    "start_time": "2021-12-01T15:46:27.279Z"
   },
   {
    "duration": 12,
    "start_time": "2021-12-01T15:46:27.529Z"
   },
   {
    "duration": 5,
    "start_time": "2021-12-01T15:46:27.542Z"
   },
   {
    "duration": 274,
    "start_time": "2021-12-01T15:46:27.548Z"
   },
   {
    "duration": 46,
    "start_time": "2021-12-01T15:46:27.824Z"
   },
   {
    "duration": 6,
    "start_time": "2021-12-01T15:46:27.887Z"
   },
   {
    "duration": 3,
    "start_time": "2021-12-01T15:46:27.894Z"
   },
   {
    "duration": 150898,
    "start_time": "2021-12-01T15:46:27.898Z"
   },
   {
    "duration": 519,
    "start_time": "2021-12-01T15:48:58.798Z"
   },
   {
    "duration": 4,
    "start_time": "2021-12-01T15:48:59.319Z"
   },
   {
    "duration": 288,
    "start_time": "2021-12-01T15:48:59.325Z"
   },
   {
    "duration": 1695,
    "start_time": "2021-12-01T15:48:59.615Z"
   },
   {
    "duration": 6,
    "start_time": "2021-12-01T15:49:01.312Z"
   },
   {
    "duration": 185187,
    "start_time": "2021-12-01T15:49:01.320Z"
   },
   {
    "duration": 235990,
    "start_time": "2021-12-01T15:52:06.509Z"
   },
   {
    "duration": 5,
    "start_time": "2021-12-01T15:56:02.501Z"
   },
   {
    "duration": 118588,
    "start_time": "2021-12-01T15:56:02.508Z"
   },
   {
    "duration": 94,
    "start_time": "2021-12-01T15:58:01.098Z"
   },
   {
    "duration": 4,
    "start_time": "2021-12-01T15:58:01.194Z"
   },
   {
    "duration": 270,
    "start_time": "2021-12-01T15:58:01.200Z"
   },
   {
    "duration": 248,
    "start_time": "2021-12-01T15:58:01.471Z"
   },
   {
    "duration": 4,
    "start_time": "2021-12-01T15:58:01.721Z"
   },
   {
    "duration": 61,
    "start_time": "2021-12-01T15:58:01.727Z"
   },
   {
    "duration": 7,
    "start_time": "2021-12-01T15:58:01.789Z"
   },
   {
    "duration": 69,
    "start_time": "2021-12-01T15:58:01.798Z"
   },
   {
    "duration": 6,
    "start_time": "2021-12-01T15:58:01.869Z"
   },
   {
    "duration": 200876,
    "start_time": "2021-12-01T15:58:01.879Z"
   },
   {
    "duration": 142,
    "start_time": "2021-12-01T16:01:22.757Z"
   },
   {
    "duration": 5,
    "start_time": "2021-12-01T16:01:22.901Z"
   },
   {
    "duration": 226,
    "start_time": "2021-12-01T16:01:22.908Z"
   },
   {
    "duration": 67,
    "start_time": "2021-12-01T16:01:23.136Z"
   },
   {
    "duration": 5,
    "start_time": "2021-12-01T16:01:23.205Z"
   },
   {
    "duration": 6,
    "start_time": "2021-12-01T16:01:23.212Z"
   },
   {
    "duration": 70,
    "start_time": "2021-12-01T16:01:23.219Z"
   },
   {
    "duration": 12,
    "start_time": "2021-12-01T16:01:23.292Z"
   },
   {
    "duration": 8,
    "start_time": "2021-12-01T16:01:23.306Z"
   },
   {
    "duration": 79,
    "start_time": "2022-05-19T07:26:39.928Z"
   },
   {
    "duration": 2568,
    "start_time": "2022-05-19T07:26:48.744Z"
   },
   {
    "duration": 3795,
    "start_time": "2022-05-19T07:26:51.315Z"
   },
   {
    "duration": 12,
    "start_time": "2022-05-19T07:26:55.114Z"
   },
   {
    "duration": 67,
    "start_time": "2022-05-19T07:26:55.129Z"
   },
   {
    "duration": 129,
    "start_time": "2022-05-19T07:26:55.199Z"
   },
   {
    "duration": 757,
    "start_time": "2022-05-19T07:26:55.330Z"
   },
   {
    "duration": 134,
    "start_time": "2022-05-19T07:26:56.090Z"
   },
   {
    "duration": 61,
    "start_time": "2022-05-19T07:26:56.226Z"
   },
   {
    "duration": 46,
    "start_time": "2022-05-19T07:26:56.289Z"
   },
   {
    "duration": 65,
    "start_time": "2022-05-19T07:26:56.338Z"
   },
   {
    "duration": 30,
    "start_time": "2022-05-19T07:26:56.405Z"
   },
   {
    "duration": 47,
    "start_time": "2022-05-19T07:26:56.437Z"
   },
   {
    "duration": 51,
    "start_time": "2022-05-19T07:26:56.486Z"
   },
   {
    "duration": 70,
    "start_time": "2022-05-19T07:26:56.539Z"
   },
   {
    "duration": 20,
    "start_time": "2022-05-19T07:26:56.611Z"
   },
   {
    "duration": 77,
    "start_time": "2022-05-19T07:26:56.633Z"
   },
   {
    "duration": 30,
    "start_time": "2022-05-19T07:26:56.719Z"
   },
   {
    "duration": 122,
    "start_time": "2022-05-19T07:26:56.752Z"
   },
   {
    "duration": 55,
    "start_time": "2022-05-19T07:26:56.882Z"
   },
   {
    "duration": 12,
    "start_time": "2022-05-19T07:26:56.939Z"
   },
   {
    "duration": 82,
    "start_time": "2022-05-19T07:26:56.953Z"
   },
   {
    "duration": 115,
    "start_time": "2022-05-19T07:26:57.037Z"
   },
   {
    "duration": 66,
    "start_time": "2022-05-19T07:26:57.154Z"
   },
   {
    "duration": 29,
    "start_time": "2022-05-19T07:26:57.222Z"
   },
   {
    "duration": 9,
    "start_time": "2022-05-19T07:26:57.252Z"
   },
   {
    "duration": 57,
    "start_time": "2022-05-19T07:26:57.262Z"
   },
   {
    "duration": 7,
    "start_time": "2022-05-19T07:26:57.320Z"
   },
   {
    "duration": 437,
    "start_time": "2022-05-19T07:26:57.330Z"
   },
   {
    "duration": 8,
    "start_time": "2022-05-19T07:26:57.769Z"
   },
   {
    "duration": 44,
    "start_time": "2022-05-19T07:26:57.779Z"
   },
   {
    "duration": 814,
    "start_time": "2022-05-19T07:26:57.826Z"
   },
   {
    "duration": 819,
    "start_time": "2022-05-19T07:26:58.642Z"
   },
   {
    "duration": 778,
    "start_time": "2022-05-19T07:27:06.690Z"
   },
   {
    "duration": 926,
    "start_time": "2022-05-19T07:28:14.330Z"
   },
   {
    "duration": 814,
    "start_time": "2022-05-19T07:28:21.738Z"
   },
   {
    "duration": 793,
    "start_time": "2022-05-19T07:28:30.870Z"
   },
   {
    "duration": 960,
    "start_time": "2022-05-19T07:28:46.862Z"
   },
   {
    "duration": 855,
    "start_time": "2022-05-19T07:28:52.401Z"
   },
   {
    "duration": 1168,
    "start_time": "2022-05-19T07:28:59.867Z"
   },
   {
    "duration": 855,
    "start_time": "2022-05-19T07:29:08.094Z"
   },
   {
    "duration": 1572,
    "start_time": "2022-05-19T07:40:39.619Z"
   },
   {
    "duration": 1607,
    "start_time": "2022-05-19T07:40:41.202Z"
   },
   {
    "duration": 22,
    "start_time": "2022-05-19T07:40:42.822Z"
   },
   {
    "duration": 80,
    "start_time": "2022-05-19T07:40:42.849Z"
   },
   {
    "duration": 153,
    "start_time": "2022-05-19T07:40:42.931Z"
   },
   {
    "duration": 896,
    "start_time": "2022-05-19T07:40:43.086Z"
   },
   {
    "duration": 159,
    "start_time": "2022-05-19T07:40:43.984Z"
   },
   {
    "duration": 95,
    "start_time": "2022-05-19T07:40:44.145Z"
   },
   {
    "duration": 25,
    "start_time": "2022-05-19T07:40:44.246Z"
   },
   {
    "duration": 90,
    "start_time": "2022-05-19T07:40:44.274Z"
   },
   {
    "duration": 34,
    "start_time": "2022-05-19T07:40:44.365Z"
   },
   {
    "duration": 65,
    "start_time": "2022-05-19T07:40:44.401Z"
   },
   {
    "duration": 31,
    "start_time": "2022-05-19T07:40:44.468Z"
   },
   {
    "duration": 102,
    "start_time": "2022-05-19T07:40:44.502Z"
   },
   {
    "duration": 41,
    "start_time": "2022-05-19T07:40:44.606Z"
   },
   {
    "duration": 72,
    "start_time": "2022-05-19T07:40:44.649Z"
   },
   {
    "duration": 27,
    "start_time": "2022-05-19T07:40:44.724Z"
   },
   {
    "duration": 152,
    "start_time": "2022-05-19T07:40:44.753Z"
   },
   {
    "duration": 67,
    "start_time": "2022-05-19T07:40:44.907Z"
   },
   {
    "duration": 23,
    "start_time": "2022-05-19T07:40:44.982Z"
   },
   {
    "duration": 116,
    "start_time": "2022-05-19T07:40:45.007Z"
   },
   {
    "duration": 138,
    "start_time": "2022-05-19T07:40:45.125Z"
   },
   {
    "duration": 45,
    "start_time": "2022-05-19T07:40:45.265Z"
   },
   {
    "duration": 66,
    "start_time": "2022-05-19T07:40:45.312Z"
   },
   {
    "duration": 60,
    "start_time": "2022-05-19T07:40:45.380Z"
   },
   {
    "duration": 73,
    "start_time": "2022-05-19T07:40:45.442Z"
   },
   {
    "duration": 22,
    "start_time": "2022-05-19T07:40:45.518Z"
   },
   {
    "duration": 491,
    "start_time": "2022-05-19T07:40:45.545Z"
   },
   {
    "duration": 7,
    "start_time": "2022-05-19T07:40:46.038Z"
   },
   {
    "duration": 10,
    "start_time": "2022-05-19T07:40:46.047Z"
   },
   {
    "duration": 1024,
    "start_time": "2022-05-19T07:40:46.078Z"
   },
   {
    "duration": 927,
    "start_time": "2022-05-19T07:40:47.104Z"
   },
   {
    "duration": 120268,
    "start_time": "2022-05-19T07:40:48.037Z"
   },
   {
    "duration": 46,
    "start_time": "2022-05-19T07:42:48.308Z"
   },
   {
    "duration": 131,
    "start_time": "2022-05-19T07:42:48.356Z"
   },
   {
    "duration": 162,
    "start_time": "2022-05-19T07:42:48.490Z"
   },
   {
    "duration": 80,
    "start_time": "2022-05-19T07:42:48.654Z"
   },
   {
    "duration": 3,
    "start_time": "2022-05-19T07:42:48.736Z"
   },
   {
    "duration": 7,
    "start_time": "2022-05-19T07:42:48.741Z"
   },
   {
    "duration": 6,
    "start_time": "2022-05-19T07:42:48.749Z"
   },
   {
    "duration": 139,
    "start_time": "2022-05-19T07:42:48.757Z"
   },
   {
    "duration": 34,
    "start_time": "2022-05-19T07:42:48.899Z"
   },
   {
    "duration": 11,
    "start_time": "2022-05-19T07:42:48.937Z"
   },
   {
    "duration": 13,
    "start_time": "2022-05-19T07:42:48.951Z"
   },
   {
    "duration": 96,
    "start_time": "2022-05-19T07:42:48.967Z"
   },
   {
    "duration": 609,
    "start_time": "2022-05-19T07:42:49.066Z"
   },
   {
    "duration": 5,
    "start_time": "2022-05-19T07:42:49.680Z"
   },
   {
    "duration": 50,
    "start_time": "2022-05-19T07:42:49.687Z"
   },
   {
    "duration": 5,
    "start_time": "2022-05-19T07:42:49.739Z"
   },
   {
    "duration": 347,
    "start_time": "2022-05-19T07:42:49.746Z"
   },
   {
    "duration": 143,
    "start_time": "2022-05-19T07:42:50.096Z"
   },
   {
    "duration": 36,
    "start_time": "2022-05-19T07:42:50.246Z"
   },
   {
    "duration": 145,
    "start_time": "2022-05-19T07:42:50.285Z"
   },
   {
    "duration": 55,
    "start_time": "2022-05-19T07:42:50.432Z"
   },
   {
    "duration": 2209,
    "start_time": "2022-05-19T07:42:50.507Z"
   },
   {
    "duration": 4,
    "start_time": "2022-05-19T07:42:52.717Z"
   },
   {
    "duration": 406,
    "start_time": "2022-05-19T07:42:52.724Z"
   },
   {
    "duration": 21,
    "start_time": "2022-05-19T07:42:53.131Z"
   },
   {
    "duration": 9,
    "start_time": "2022-05-19T07:42:53.154Z"
   },
   {
    "duration": 447,
    "start_time": "2022-05-19T07:42:53.180Z"
   },
   {
    "duration": 54,
    "start_time": "2022-05-19T07:42:53.632Z"
   },
   {
    "duration": 10,
    "start_time": "2022-05-19T07:42:53.693Z"
   },
   {
    "duration": 27,
    "start_time": "2022-05-19T07:42:53.708Z"
   },
   {
    "duration": 1612,
    "start_time": "2022-05-19T08:56:18.167Z"
   },
   {
    "duration": 1313,
    "start_time": "2022-05-19T08:56:19.781Z"
   },
   {
    "duration": 8,
    "start_time": "2022-05-19T08:56:21.095Z"
   },
   {
    "duration": 62,
    "start_time": "2022-05-19T08:56:21.106Z"
   },
   {
    "duration": 107,
    "start_time": "2022-05-19T08:56:21.169Z"
   },
   {
    "duration": 638,
    "start_time": "2022-05-19T08:56:21.278Z"
   },
   {
    "duration": 124,
    "start_time": "2022-05-19T08:56:21.918Z"
   },
   {
    "duration": 59,
    "start_time": "2022-05-19T08:56:22.044Z"
   },
   {
    "duration": 58,
    "start_time": "2022-05-19T08:56:22.105Z"
   },
   {
    "duration": 49,
    "start_time": "2022-05-19T08:56:22.167Z"
   },
   {
    "duration": 18,
    "start_time": "2022-05-19T08:56:22.218Z"
   },
   {
    "duration": 30,
    "start_time": "2022-05-19T08:56:22.237Z"
   },
   {
    "duration": 38,
    "start_time": "2022-05-19T08:56:22.269Z"
   },
   {
    "duration": 89,
    "start_time": "2022-05-19T08:56:22.309Z"
   },
   {
    "duration": 29,
    "start_time": "2022-05-19T08:56:22.400Z"
   },
   {
    "duration": 45,
    "start_time": "2022-05-19T08:56:22.431Z"
   },
   {
    "duration": 22,
    "start_time": "2022-05-19T08:56:22.494Z"
   },
   {
    "duration": 98,
    "start_time": "2022-05-19T08:56:22.518Z"
   },
   {
    "duration": 19,
    "start_time": "2022-05-19T08:56:22.618Z"
   },
   {
    "duration": 15,
    "start_time": "2022-05-19T08:56:22.639Z"
   },
   {
    "duration": 103,
    "start_time": "2022-05-19T08:56:22.655Z"
   },
   {
    "duration": 99,
    "start_time": "2022-05-19T08:56:22.760Z"
   },
   {
    "duration": 40,
    "start_time": "2022-05-19T08:56:22.861Z"
   },
   {
    "duration": 40,
    "start_time": "2022-05-19T08:56:22.903Z"
   },
   {
    "duration": 10,
    "start_time": "2022-05-19T08:56:22.945Z"
   },
   {
    "duration": 56,
    "start_time": "2022-05-19T08:56:22.957Z"
   },
   {
    "duration": 9,
    "start_time": "2022-05-19T08:56:23.016Z"
   },
   {
    "duration": 552,
    "start_time": "2022-05-19T08:56:23.029Z"
   },
   {
    "duration": 14,
    "start_time": "2022-05-19T08:56:23.584Z"
   },
   {
    "duration": 24,
    "start_time": "2022-05-19T08:56:23.599Z"
   },
   {
    "duration": 784,
    "start_time": "2022-05-19T08:56:23.625Z"
   },
   {
    "duration": 728,
    "start_time": "2022-05-19T08:56:24.411Z"
   },
   {
    "duration": 88225,
    "start_time": "2022-05-19T08:56:25.141Z"
   },
   {
    "duration": 46,
    "start_time": "2022-05-19T08:57:53.368Z"
   },
   {
    "duration": 83,
    "start_time": "2022-05-19T08:57:53.417Z"
   },
   {
    "duration": 102,
    "start_time": "2022-05-19T08:57:53.502Z"
   },
   {
    "duration": 47,
    "start_time": "2022-05-19T08:57:53.606Z"
   },
   {
    "duration": 3,
    "start_time": "2022-05-19T08:57:53.655Z"
   },
   {
    "duration": 6,
    "start_time": "2022-05-19T08:57:53.659Z"
   },
   {
    "duration": 11,
    "start_time": "2022-05-19T08:57:53.667Z"
   },
   {
    "duration": 80,
    "start_time": "2022-05-19T08:57:53.694Z"
   },
   {
    "duration": 29,
    "start_time": "2022-05-19T08:57:53.777Z"
   },
   {
    "duration": 4,
    "start_time": "2022-05-19T08:57:53.808Z"
   },
   {
    "duration": 18,
    "start_time": "2022-05-19T08:57:53.814Z"
   },
   {
    "duration": 86,
    "start_time": "2022-05-19T08:57:53.834Z"
   },
   {
    "duration": 702,
    "start_time": "2022-05-19T08:57:53.922Z"
   },
   {
    "duration": 4,
    "start_time": "2022-05-19T08:57:54.627Z"
   },
   {
    "duration": 21,
    "start_time": "2022-05-19T08:57:54.634Z"
   },
   {
    "duration": 7,
    "start_time": "2022-05-19T08:57:54.657Z"
   },
   {
    "duration": 337,
    "start_time": "2022-05-19T08:57:54.666Z"
   },
   {
    "duration": 93,
    "start_time": "2022-05-19T08:57:55.005Z"
   },
   {
    "duration": 9,
    "start_time": "2022-05-19T08:57:55.101Z"
   },
   {
    "duration": 209,
    "start_time": "2022-05-19T08:57:55.111Z"
   },
   {
    "duration": 77,
    "start_time": "2022-05-19T08:57:55.323Z"
   },
   {
    "duration": 1597,
    "start_time": "2022-05-19T08:57:55.414Z"
   },
   {
    "duration": 3,
    "start_time": "2022-05-19T08:57:57.013Z"
   },
   {
    "duration": 268,
    "start_time": "2022-05-19T08:57:57.018Z"
   },
   {
    "duration": 19,
    "start_time": "2022-05-19T08:57:57.289Z"
   },
   {
    "duration": 6,
    "start_time": "2022-05-19T08:57:57.310Z"
   },
   {
    "duration": 311,
    "start_time": "2022-05-19T08:57:57.318Z"
   },
   {
    "duration": 46,
    "start_time": "2022-05-19T08:57:57.630Z"
   },
   {
    "duration": 20,
    "start_time": "2022-05-19T08:57:57.678Z"
   },
   {
    "duration": 9,
    "start_time": "2022-05-19T08:57:57.702Z"
   },
   {
    "duration": 427290,
    "start_time": "2022-05-19T08:57:57.713Z"
   },
   {
    "duration": 413,
    "start_time": "2022-05-19T09:05:05.004Z"
   },
   {
    "duration": 77,
    "start_time": "2022-05-19T09:05:05.419Z"
   },
   {
    "duration": 255,
    "start_time": "2022-05-19T09:05:05.497Z"
   },
   {
    "duration": 1592,
    "start_time": "2022-05-19T09:05:05.754Z"
   },
   {
    "duration": 49,
    "start_time": "2022-05-19T09:05:07.348Z"
   },
   {
    "duration": 163075,
    "start_time": "2022-05-19T09:05:07.399Z"
   },
   {
    "duration": 207971,
    "start_time": "2022-05-19T09:07:50.475Z"
   },
   {
    "duration": 5,
    "start_time": "2022-05-19T09:11:18.449Z"
   },
   {
    "duration": 145012,
    "start_time": "2022-05-19T09:13:04.093Z"
   },
   {
    "duration": 112,
    "start_time": "2022-05-19T09:15:29.107Z"
   },
   {
    "duration": 5,
    "start_time": "2022-05-19T09:15:29.221Z"
   },
   {
    "duration": 167,
    "start_time": "2022-05-19T09:15:29.227Z"
   },
   {
    "duration": 59,
    "start_time": "2022-05-19T09:15:29.396Z"
   },
   {
    "duration": 4,
    "start_time": "2022-05-19T09:15:29.457Z"
   },
   {
    "duration": 8,
    "start_time": "2022-05-19T09:15:29.463Z"
   },
   {
    "duration": 5,
    "start_time": "2022-05-19T09:15:29.473Z"
   },
   {
    "duration": 12,
    "start_time": "2022-05-19T09:15:29.495Z"
   },
   {
    "duration": 13,
    "start_time": "2022-05-19T09:15:29.509Z"
   },
   {
    "duration": 989,
    "start_time": "2022-05-19T09:32:39.764Z"
   },
   {
    "duration": 3,
    "start_time": "2022-05-19T09:32:45.970Z"
   },
   {
    "duration": 1018,
    "start_time": "2022-05-19T09:32:46.900Z"
   },
   {
    "duration": 1249,
    "start_time": "2022-05-19T09:33:17.178Z"
   },
   {
    "duration": 1049,
    "start_time": "2022-05-19T09:33:19.662Z"
   },
   {
    "duration": 8,
    "start_time": "2022-05-19T09:33:21.799Z"
   },
   {
    "duration": 59,
    "start_time": "2022-05-19T09:33:22.688Z"
   },
   {
    "duration": 121,
    "start_time": "2022-05-19T09:33:26.292Z"
   },
   {
    "duration": 627,
    "start_time": "2022-05-19T09:33:27.672Z"
   },
   {
    "duration": 118,
    "start_time": "2022-05-19T09:33:28.823Z"
   },
   {
    "duration": 55,
    "start_time": "2022-05-19T09:33:30.318Z"
   },
   {
    "duration": 18,
    "start_time": "2022-05-19T09:33:30.955Z"
   },
   {
    "duration": 44,
    "start_time": "2022-05-19T09:33:32.195Z"
   },
   {
    "duration": 18,
    "start_time": "2022-05-19T09:33:32.752Z"
   },
   {
    "duration": 31,
    "start_time": "2022-05-19T09:33:33.510Z"
   },
   {
    "duration": 21,
    "start_time": "2022-05-19T09:33:34.067Z"
   },
   {
    "duration": 44,
    "start_time": "2022-05-19T09:33:34.756Z"
   },
   {
    "duration": 17,
    "start_time": "2022-05-19T09:33:35.358Z"
   },
   {
    "duration": 42,
    "start_time": "2022-05-19T09:33:36.191Z"
   },
   {
    "duration": 21,
    "start_time": "2022-05-19T09:33:37.017Z"
   },
   {
    "duration": 83,
    "start_time": "2022-05-19T09:33:37.061Z"
   },
   {
    "duration": 20,
    "start_time": "2022-05-19T09:33:38.332Z"
   },
   {
    "duration": 14,
    "start_time": "2022-05-19T09:33:39.029Z"
   },
   {
    "duration": 79,
    "start_time": "2022-05-19T09:33:39.699Z"
   },
   {
    "duration": 78,
    "start_time": "2022-05-19T09:33:40.491Z"
   },
   {
    "duration": 25,
    "start_time": "2022-05-19T09:33:41.450Z"
   },
   {
    "duration": 28,
    "start_time": "2022-05-19T09:33:41.651Z"
   },
   {
    "duration": 8,
    "start_time": "2022-05-19T09:33:42.270Z"
   },
   {
    "duration": 42,
    "start_time": "2022-05-19T09:33:43.048Z"
   },
   {
    "duration": 7,
    "start_time": "2022-05-19T09:33:43.562Z"
   },
   {
    "duration": 331,
    "start_time": "2022-05-19T09:33:44.287Z"
   },
   {
    "duration": 6,
    "start_time": "2022-05-19T09:33:45.785Z"
   },
   {
    "duration": 7,
    "start_time": "2022-05-19T09:33:46.492Z"
   },
   {
    "duration": 602,
    "start_time": "2022-05-19T09:33:47.550Z"
   },
   {
    "duration": 628,
    "start_time": "2022-05-19T09:33:48.871Z"
   },
   {
    "duration": 89509,
    "start_time": "2022-05-19T09:33:50.355Z"
   },
   {
    "duration": 45,
    "start_time": "2022-05-19T09:35:19.866Z"
   },
   {
    "duration": 17,
    "start_time": "2022-05-19T09:35:19.913Z"
   },
   {
    "duration": 108,
    "start_time": "2022-05-19T09:35:35.493Z"
   },
   {
    "duration": 135,
    "start_time": "2022-05-19T09:35:36.397Z"
   },
   {
    "duration": 52,
    "start_time": "2022-05-19T09:35:37.723Z"
   },
   {
    "duration": 3,
    "start_time": "2022-05-19T09:35:38.203Z"
   },
   {
    "duration": 2,
    "start_time": "2022-05-19T09:35:38.623Z"
   },
   {
    "duration": 2,
    "start_time": "2022-05-19T09:35:39.385Z"
   },
   {
    "duration": 89,
    "start_time": "2022-05-19T09:35:39.884Z"
   },
   {
    "duration": 29,
    "start_time": "2022-05-19T09:35:40.303Z"
   },
   {
    "duration": 3,
    "start_time": "2022-05-19T09:35:43.151Z"
   },
   {
    "duration": 9,
    "start_time": "2022-05-19T09:35:43.613Z"
   },
   {
    "duration": 58,
    "start_time": "2022-05-19T09:35:44.005Z"
   },
   {
    "duration": 375,
    "start_time": "2022-05-19T09:35:44.546Z"
   },
   {
    "duration": 3,
    "start_time": "2022-05-19T09:35:47.619Z"
   },
   {
    "duration": 3,
    "start_time": "2022-05-19T09:35:48.700Z"
   },
   {
    "duration": 3,
    "start_time": "2022-05-19T09:35:49.828Z"
   },
   {
    "duration": 384,
    "start_time": "2022-05-19T09:35:52.122Z"
   },
   {
    "duration": 12,
    "start_time": "2022-05-19T09:35:54.000Z"
   },
   {
    "duration": 5,
    "start_time": "2022-05-19T09:35:55.193Z"
   },
   {
    "duration": 40,
    "start_time": "2022-05-19T09:35:58.085Z"
   },
   {
    "duration": 6,
    "start_time": "2022-05-19T09:35:58.696Z"
   },
   {
    "duration": 1461,
    "start_time": "2022-05-19T09:36:01.379Z"
   },
   {
    "duration": 3,
    "start_time": "2022-05-19T09:36:04.807Z"
   },
   {
    "duration": 214,
    "start_time": "2022-05-19T09:36:06.112Z"
   },
   {
    "duration": 13,
    "start_time": "2022-05-19T09:36:08.488Z"
   },
   {
    "duration": 5,
    "start_time": "2022-05-19T09:36:09.588Z"
   },
   {
    "duration": 242,
    "start_time": "2022-05-19T09:36:10.625Z"
   },
   {
    "duration": 41,
    "start_time": "2022-05-19T09:36:12.625Z"
   },
   {
    "duration": 5,
    "start_time": "2022-05-19T09:36:13.540Z"
   },
   {
    "duration": 3,
    "start_time": "2022-05-19T09:36:15.259Z"
   },
   {
    "duration": 344886,
    "start_time": "2022-05-19T09:36:17.908Z"
   },
   {
    "duration": 400,
    "start_time": "2022-05-19T09:45:00.005Z"
   },
   {
    "duration": 5,
    "start_time": "2022-05-19T09:45:01.409Z"
   },
   {
    "duration": 263,
    "start_time": "2022-05-19T09:45:02.329Z"
   },
   {
    "duration": 1534,
    "start_time": "2022-05-19T09:45:05.080Z"
   },
   {
    "duration": 5,
    "start_time": "2022-05-19T09:45:08.542Z"
   },
   {
    "duration": 153721,
    "start_time": "2022-05-19T09:45:10.949Z"
   },
   {
    "duration": 205046,
    "start_time": "2022-05-19T09:47:55.685Z"
   },
   {
    "duration": 4,
    "start_time": "2022-05-19T09:51:48.437Z"
   },
   {
    "duration": 101925,
    "start_time": "2022-05-19T09:51:52.680Z"
   },
   {
    "duration": 53,
    "start_time": "2022-05-19T09:54:50.798Z"
   },
   {
    "duration": 4,
    "start_time": "2022-05-19T09:54:51.583Z"
   },
   {
    "duration": 231,
    "start_time": "2022-05-19T09:54:52.080Z"
   },
   {
    "duration": 189,
    "start_time": "2022-05-19T09:54:53.105Z"
   },
   {
    "duration": 5,
    "start_time": "2022-05-19T09:54:53.485Z"
   },
   {
    "duration": 3,
    "start_time": "2022-05-19T09:54:56.558Z"
   },
   {
    "duration": 6,
    "start_time": "2022-05-19T09:54:59.053Z"
   },
   {
    "duration": 46,
    "start_time": "2022-05-19T09:54:59.518Z"
   },
   {
    "duration": 3,
    "start_time": "2022-05-19T09:54:59.981Z"
   },
   {
    "duration": 141474,
    "start_time": "2022-05-19T09:55:00.999Z"
   },
   {
    "duration": 82,
    "start_time": "2022-05-19T09:59:08.226Z"
   },
   {
    "duration": 5,
    "start_time": "2022-05-19T09:59:08.783Z"
   },
   {
    "duration": 147,
    "start_time": "2022-05-19T09:59:09.580Z"
   },
   {
    "duration": 61,
    "start_time": "2022-05-19T09:59:12.206Z"
   },
   {
    "duration": 4,
    "start_time": "2022-05-19T09:59:12.691Z"
   },
   {
    "duration": 5,
    "start_time": "2022-05-19T09:59:14.482Z"
   },
   {
    "duration": 4,
    "start_time": "2022-05-19T09:59:15.776Z"
   },
   {
    "duration": 8,
    "start_time": "2022-05-19T09:59:16.601Z"
   },
   {
    "duration": 7,
    "start_time": "2022-05-19T09:59:17.854Z"
   }
  ],
  "kernelspec": {
   "display_name": "Python 3 (ipykernel)",
   "language": "python",
   "name": "python3"
  },
  "language_info": {
   "codemirror_mode": {
    "name": "ipython",
    "version": 3
   },
   "file_extension": ".py",
   "mimetype": "text/x-python",
   "name": "python",
   "nbconvert_exporter": "python",
   "pygments_lexer": "ipython3",
   "version": "3.7.0"
  },
  "toc": {
   "base_numbering": 1,
   "nav_menu": {},
   "number_sections": true,
   "sideBar": true,
   "skip_h1_title": true,
   "title_cell": "Содержание",
   "title_sidebar": "Contents",
   "toc_cell": true,
   "toc_position": {},
   "toc_section_display": true,
   "toc_window_display": true
  }
 },
 "nbformat": 4,
 "nbformat_minor": 2
}
