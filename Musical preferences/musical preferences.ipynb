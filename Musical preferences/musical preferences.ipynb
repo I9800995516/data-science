{
 "cells": [
  {
   "cell_type": "markdown",
   "metadata": {
    "toc": true
   },
   "source": [
    "<h1>Содержание<span class=\"tocSkip\"></span></h1>\n",
    "<div class=\"toc\"><ul class=\"toc-item\"><li><span><a href=\"#Получение-и-обзор-данных\" data-toc-modified-id=\"Получение-и-обзор-данных-1\"><span class=\"toc-item-num\">1&nbsp;&nbsp;</span>Получение и обзор данных</a></span></li><li><span><a href=\"#Предобработка-данных\" data-toc-modified-id=\"Предобработка-данных-2\"><span class=\"toc-item-num\">2&nbsp;&nbsp;</span>Предобработка данных</a></span><ul class=\"toc-item\"><li><span><a href=\"#Стиль-заголовков\" data-toc-modified-id=\"Стиль-заголовков-2.1\"><span class=\"toc-item-num\">2.1&nbsp;&nbsp;</span>Стиль заголовков</a></span></li><li><span><a href=\"#Пропуски-значений\" data-toc-modified-id=\"Пропуски-значений-2.2\"><span class=\"toc-item-num\">2.2&nbsp;&nbsp;</span>Пропуски значений</a></span></li><li><span><a href=\"#Дубликаты\" data-toc-modified-id=\"Дубликаты-2.3\"><span class=\"toc-item-num\">2.3&nbsp;&nbsp;</span>Дубликаты</a></span></li></ul></li><li><span><a href=\"#Проверка-гипотез\" data-toc-modified-id=\"Проверка-гипотез-3\"><span class=\"toc-item-num\">3&nbsp;&nbsp;</span>Проверка гипотез</a></span><ul class=\"toc-item\"><li><span><a href=\"#Сравнение-поведения-пользователей-двух-столиц\" data-toc-modified-id=\"Сравнение-поведения-пользователей-двух-столиц-3.1\"><span class=\"toc-item-num\">3.1&nbsp;&nbsp;</span>Сравнение поведения пользователей двух столиц</a></span></li><li><span><a href=\"#Музыка-в-начале-и-в-конце-недели\" data-toc-modified-id=\"Музыка-в-начале-и-в-конце-недели-3.2\"><span class=\"toc-item-num\">3.2&nbsp;&nbsp;</span>Музыка в начале и в конце недели</a></span></li><li><span><a href=\"#Жанровые-предпочтения-в-Москве-и-Петербурге\" data-toc-modified-id=\"Жанровые-предпочтения-в-Москве-и-Петербурге-3.3\"><span class=\"toc-item-num\">3.3&nbsp;&nbsp;</span>Жанровые предпочтения в Москве и Петербурге</a></span></li></ul></li><li><span><a href=\"#Итоги-исследования\" data-toc-modified-id=\"Итоги-исследования-4\"><span class=\"toc-item-num\">4&nbsp;&nbsp;</span>Итоги исследования</a></span></li></ul></div>"
   ]
  },
  {
   "cell_type": "markdown",
   "metadata": {},
   "source": [
    "# Сравнение музыкальных предпочтений жителей Москвы и Санкт-Петербурга"
   ]
  },
  {
   "cell_type": "markdown",
   "metadata": {},
   "source": [
    "В данном учебном задании предоставлен набор данных, собраный из прослушанных композиций музыкального сервиса. Данные собраны по двум городам: Москва и Санкт-Петербург.\n",
    "\n",
    "Выдвинуты три гипотезы:\n",
    "\n",
    "1. Активность пользователей зависит от дня недели. Причём в Москве и Петербурге это проявляется по-разному.\n",
    "2. Утром в понедельник в Москве преобладают одни жанры музыки, а в Петербурге — другие. Это верно и для вечера пятницы.\n",
    "3. Москва и Петербург предпочитают разные жанры музыки. В Москве чаще слушают поп-музыку, в Петербурге — русский рэп.\n",
    "\n",
    "Цель задания: используя предоставленные данные, проверить выдвинутые гипотезы.\n"
   ]
  },
  {
   "cell_type": "markdown",
   "metadata": {
    "id": "Ml1hmfXC_Zcs"
   },
   "source": [
    "## Получение и обзор данных\n",
    "\n",
    "\n",
    "\n",
    "\n"
   ]
  },
  {
   "cell_type": "code",
   "execution_count": 1,
   "metadata": {
    "id": "AXN7PHPN_Zcs"
   },
   "outputs": [],
   "source": [
    "import pandas as pd"
   ]
  },
  {
   "cell_type": "markdown",
   "metadata": {},
   "source": [
    "Получение и просмотр данных."
   ]
  },
  {
   "cell_type": "code",
   "execution_count": 2,
   "metadata": {
    "id": "fFVu7vqh_Zct"
   },
   "outputs": [],
   "source": [
    "df = pd.read_csv('/datasets/yandex_music_project.csv')"
   ]
  },
  {
   "cell_type": "code",
   "execution_count": 3,
   "metadata": {
    "id": "oWTVX3gW_Zct"
   },
   "outputs": [
    {
     "data": {
      "text/html": [
       "<div>\n",
       "<style scoped>\n",
       "    .dataframe tbody tr th:only-of-type {\n",
       "        vertical-align: middle;\n",
       "    }\n",
       "\n",
       "    .dataframe tbody tr th {\n",
       "        vertical-align: top;\n",
       "    }\n",
       "\n",
       "    .dataframe thead th {\n",
       "        text-align: right;\n",
       "    }\n",
       "</style>\n",
       "<table border=\"1\" class=\"dataframe\">\n",
       "  <thead>\n",
       "    <tr style=\"text-align: right;\">\n",
       "      <th></th>\n",
       "      <th>userID</th>\n",
       "      <th>Track</th>\n",
       "      <th>artist</th>\n",
       "      <th>genre</th>\n",
       "      <th>City</th>\n",
       "      <th>time</th>\n",
       "      <th>Day</th>\n",
       "    </tr>\n",
       "  </thead>\n",
       "  <tbody>\n",
       "    <tr>\n",
       "      <th>0</th>\n",
       "      <td>FFB692EC</td>\n",
       "      <td>Kamigata To Boots</td>\n",
       "      <td>The Mass Missile</td>\n",
       "      <td>rock</td>\n",
       "      <td>Saint-Petersburg</td>\n",
       "      <td>20:28:33</td>\n",
       "      <td>Wednesday</td>\n",
       "    </tr>\n",
       "    <tr>\n",
       "      <th>1</th>\n",
       "      <td>55204538</td>\n",
       "      <td>Delayed Because of Accident</td>\n",
       "      <td>Andreas Rönnberg</td>\n",
       "      <td>rock</td>\n",
       "      <td>Moscow</td>\n",
       "      <td>14:07:09</td>\n",
       "      <td>Friday</td>\n",
       "    </tr>\n",
       "    <tr>\n",
       "      <th>2</th>\n",
       "      <td>20EC38</td>\n",
       "      <td>Funiculì funiculà</td>\n",
       "      <td>Mario Lanza</td>\n",
       "      <td>pop</td>\n",
       "      <td>Saint-Petersburg</td>\n",
       "      <td>20:58:07</td>\n",
       "      <td>Wednesday</td>\n",
       "    </tr>\n",
       "    <tr>\n",
       "      <th>3</th>\n",
       "      <td>A3DD03C9</td>\n",
       "      <td>Dragons in the Sunset</td>\n",
       "      <td>Fire + Ice</td>\n",
       "      <td>folk</td>\n",
       "      <td>Saint-Petersburg</td>\n",
       "      <td>08:37:09</td>\n",
       "      <td>Monday</td>\n",
       "    </tr>\n",
       "    <tr>\n",
       "      <th>4</th>\n",
       "      <td>E2DC1FAE</td>\n",
       "      <td>Soul People</td>\n",
       "      <td>Space Echo</td>\n",
       "      <td>dance</td>\n",
       "      <td>Moscow</td>\n",
       "      <td>08:34:34</td>\n",
       "      <td>Monday</td>\n",
       "    </tr>\n",
       "    <tr>\n",
       "      <th>5</th>\n",
       "      <td>842029A1</td>\n",
       "      <td>Преданная</td>\n",
       "      <td>IMPERVTOR</td>\n",
       "      <td>rusrap</td>\n",
       "      <td>Saint-Petersburg</td>\n",
       "      <td>13:09:41</td>\n",
       "      <td>Friday</td>\n",
       "    </tr>\n",
       "    <tr>\n",
       "      <th>6</th>\n",
       "      <td>4CB90AA5</td>\n",
       "      <td>True</td>\n",
       "      <td>Roman Messer</td>\n",
       "      <td>dance</td>\n",
       "      <td>Moscow</td>\n",
       "      <td>13:00:07</td>\n",
       "      <td>Wednesday</td>\n",
       "    </tr>\n",
       "    <tr>\n",
       "      <th>7</th>\n",
       "      <td>F03E1C1F</td>\n",
       "      <td>Feeling This Way</td>\n",
       "      <td>Polina Griffith</td>\n",
       "      <td>dance</td>\n",
       "      <td>Moscow</td>\n",
       "      <td>20:47:49</td>\n",
       "      <td>Wednesday</td>\n",
       "    </tr>\n",
       "    <tr>\n",
       "      <th>8</th>\n",
       "      <td>8FA1D3BE</td>\n",
       "      <td>И вновь продолжается бой</td>\n",
       "      <td>NaN</td>\n",
       "      <td>ruspop</td>\n",
       "      <td>Moscow</td>\n",
       "      <td>09:17:40</td>\n",
       "      <td>Friday</td>\n",
       "    </tr>\n",
       "    <tr>\n",
       "      <th>9</th>\n",
       "      <td>E772D5C0</td>\n",
       "      <td>Pessimist</td>\n",
       "      <td>NaN</td>\n",
       "      <td>dance</td>\n",
       "      <td>Saint-Petersburg</td>\n",
       "      <td>21:20:49</td>\n",
       "      <td>Wednesday</td>\n",
       "    </tr>\n",
       "  </tbody>\n",
       "</table>\n",
       "</div>"
      ],
      "text/plain": [
       "     userID                        Track            artist   genre  \\\n",
       "0  FFB692EC            Kamigata To Boots  The Mass Missile    rock   \n",
       "1  55204538  Delayed Because of Accident  Andreas Rönnberg    rock   \n",
       "2    20EC38            Funiculì funiculà       Mario Lanza     pop   \n",
       "3  A3DD03C9        Dragons in the Sunset        Fire + Ice    folk   \n",
       "4  E2DC1FAE                  Soul People        Space Echo   dance   \n",
       "5  842029A1                    Преданная         IMPERVTOR  rusrap   \n",
       "6  4CB90AA5                         True      Roman Messer   dance   \n",
       "7  F03E1C1F             Feeling This Way   Polina Griffith   dance   \n",
       "8  8FA1D3BE     И вновь продолжается бой               NaN  ruspop   \n",
       "9  E772D5C0                    Pessimist               NaN   dance   \n",
       "\n",
       "             City        time        Day  \n",
       "0  Saint-Petersburg  20:28:33  Wednesday  \n",
       "1            Moscow  14:07:09     Friday  \n",
       "2  Saint-Petersburg  20:58:07  Wednesday  \n",
       "3  Saint-Petersburg  08:37:09     Monday  \n",
       "4            Moscow  08:34:34     Monday  \n",
       "5  Saint-Petersburg  13:09:41     Friday  \n",
       "6            Moscow  13:00:07  Wednesday  \n",
       "7            Moscow  20:47:49  Wednesday  \n",
       "8            Moscow  09:17:40     Friday  \n",
       "9  Saint-Petersburg  21:20:49  Wednesday  "
      ]
     },
     "metadata": {},
     "output_type": "display_data"
    }
   ],
   "source": [
    "display(df.head(10))"
   ]
  },
  {
   "cell_type": "code",
   "execution_count": 4,
   "metadata": {
    "id": "DSf2kIb-_Zct"
   },
   "outputs": [
    {
     "name": "stdout",
     "output_type": "stream",
     "text": [
      "<class 'pandas.core.frame.DataFrame'>\n",
      "RangeIndex: 65079 entries, 0 to 65078\n",
      "Data columns (total 7 columns):\n",
      " #   Column    Non-Null Count  Dtype \n",
      "---  ------    --------------  ----- \n",
      " 0     userID  65079 non-null  object\n",
      " 1   Track     63848 non-null  object\n",
      " 2   artist    57876 non-null  object\n",
      " 3   genre     63881 non-null  object\n",
      " 4     City    65079 non-null  object\n",
      " 5   time      65079 non-null  object\n",
      " 6   Day       65079 non-null  object\n",
      "dtypes: object(7)\n",
      "memory usage: 3.5+ MB\n"
     ]
    }
   ],
   "source": [
    "df.info()"
   ]
  },
  {
   "cell_type": "markdown",
   "metadata": {
    "id": "TaQ2Iwbr_Zct"
   },
   "source": [
    "В таблице 7 стобцов:\n",
    "\n",
    "* `userID` — идентификатор пользователя;\n",
    "* `Track` — название трека;  \n",
    "* `artist` — имя исполнителя;\n",
    "* `genre` — название жанра;\n",
    "* `City` — город пользователя;\n",
    "* `time` — время начала прослушивания;\n",
    "* `Day` — день недели.\n",
    "\n",
    "Тип всех столбцев - object, это текстовые или смешанные числовые и нечисловые значения.\n",
    "\n",
    "Количество значений разное, значит встречаются пропуски.\n",
    "\n",
    "Стиль названий столбцов разный, требует исправления. \n",
    "\n",
    "Каждая запись в таблице - это информация о прослушанном треке: описание самой композиции и описание пользователя, который эту композицию прослушал. \n",
    "\n",
    "Предварительно можно сказать, что данных для анализа достаточно. Но прежде они нуждаются в предобработке. \n"
   ]
  },
  {
   "cell_type": "markdown",
   "metadata": {
    "id": "SjYF6Ub9_Zct"
   },
   "source": [
    "## Предобработка данных\n"
   ]
  },
  {
   "cell_type": "markdown",
   "metadata": {
    "id": "dIaKXr29_Zct"
   },
   "source": [
    "### Стиль заголовков\n"
   ]
  },
  {
   "cell_type": "markdown",
   "metadata": {},
   "source": [
    "Замена названий столбцов."
   ]
  },
  {
   "cell_type": "code",
   "execution_count": 5,
   "metadata": {
    "id": "oKOTdF_Q_Zct"
   },
   "outputs": [],
   "source": [
    "df = df.rename(\n",
    "    columns={\n",
    "        '  userID': 'user_id',\n",
    "        'Track': 'track',\n",
    "        '  City  ': 'city',\n",
    "        'Day': 'day'\n",
    "    }\n",
    ")"
   ]
  },
  {
   "cell_type": "code",
   "execution_count": 6,
   "metadata": {
    "id": "d4NOAmTW_Zct"
   },
   "outputs": [
    {
     "name": "stdout",
     "output_type": "stream",
     "text": [
      "Index(['user_id', 'track', 'artist', 'genre', 'city', 'time', 'day'], dtype='object')\n"
     ]
    }
   ],
   "source": [
    "print(df.columns)"
   ]
  },
  {
   "cell_type": "markdown",
   "metadata": {
    "id": "5ISfbcfY_Zct"
   },
   "source": [
    "### Пропуски значений\n"
   ]
  },
  {
   "cell_type": "markdown",
   "metadata": {},
   "source": [
    "Замена пропущенных значений на значение 'unknown'.\n",
    "В данной работе эта замена является адекватной.\n",
    "В `track` и `artist` пропуски не важны, а пропуски в `genre` продиктованы особенностью цчебного проекта."
   ]
  },
  {
   "cell_type": "code",
   "execution_count": 7,
   "metadata": {
    "id": "RskX29qr_Zct"
   },
   "outputs": [
    {
     "name": "stdout",
     "output_type": "stream",
     "text": [
      "user_id       0\n",
      "track      1231\n",
      "artist     7203\n",
      "genre      1198\n",
      "city          0\n",
      "time          0\n",
      "day           0\n",
      "dtype: int64\n"
     ]
    }
   ],
   "source": [
    "print(df.isna().sum())"
   ]
  },
  {
   "cell_type": "code",
   "execution_count": 8,
   "metadata": {},
   "outputs": [],
   "source": [
    "df = df.fillna('unknown')"
   ]
  },
  {
   "cell_type": "code",
   "execution_count": 9,
   "metadata": {},
   "outputs": [
    {
     "name": "stdout",
     "output_type": "stream",
     "text": [
      "user_id    0\n",
      "track      0\n",
      "artist     0\n",
      "genre      0\n",
      "city       0\n",
      "time       0\n",
      "day        0\n",
      "dtype: int64\n"
     ]
    }
   ],
   "source": [
    "print(df.isna().sum())"
   ]
  },
  {
   "cell_type": "markdown",
   "metadata": {
    "id": "BWKRtBJ3_Zct"
   },
   "source": [
    "### Дубликаты\n"
   ]
  },
  {
   "cell_type": "markdown",
   "metadata": {},
   "source": [
    "Явные дубликаты, подсчет и удаление."
   ]
  },
  {
   "cell_type": "code",
   "execution_count": 10,
   "metadata": {
    "id": "36eES_S0_Zct"
   },
   "outputs": [
    {
     "name": "stdout",
     "output_type": "stream",
     "text": [
      "3826\n"
     ]
    }
   ],
   "source": [
    "print(df.duplicated().sum())"
   ]
  },
  {
   "cell_type": "code",
   "execution_count": 11,
   "metadata": {
    "id": "exFHq6tt_Zct"
   },
   "outputs": [],
   "source": [
    "df = df.drop_duplicates().reset_index(drop=True)"
   ]
  },
  {
   "cell_type": "code",
   "execution_count": 12,
   "metadata": {
    "id": "-8PuNWQ0_Zct"
   },
   "outputs": [
    {
     "name": "stdout",
     "output_type": "stream",
     "text": [
      "0\n"
     ]
    }
   ],
   "source": [
    "print(df.duplicated().sum())"
   ]
  },
  {
   "cell_type": "markdown",
   "metadata": {},
   "source": [
    "Для анализа данных в этом задании нам важен столбец `genre`, обработаем неявные дубликаты в этом столбце."
   ]
  },
  {
   "cell_type": "code",
   "execution_count": 13,
   "metadata": {
    "id": "JIUcqzZN_Zct"
   },
   "outputs": [
    {
     "name": "stdout",
     "output_type": "stream",
     "text": [
      "genre\n",
      "pop            8323\n",
      "dance          6367\n",
      "rock           5844\n",
      "electronic     5522\n",
      "hip            2975\n",
      "classical      2262\n",
      "alternative    2028\n",
      "world          1947\n",
      "ruspop         1910\n",
      "rusrap         1725\n",
      "Name: genre, dtype: int64\n"
     ]
    }
   ],
   "source": [
    "print(df.groupby(by='genre')['genre'].count().sort_values(ascending=False).head(10))\n"
   ]
  },
  {
   "cell_type": "code",
   "execution_count": 14,
   "metadata": {},
   "outputs": [
    {
     "name": "stdout",
     "output_type": "stream",
     "text": [
      "['acid' 'acoustic' 'action' 'adult' 'africa' 'afrikaans' 'alternative'\n",
      " 'alternativepunk' 'ambient' 'americana' 'animated' 'anime' 'arabesk'\n",
      " 'arabic' 'arena' 'argentinetango' 'art' 'audiobook' 'author' 'avantgarde'\n",
      " 'axé' 'baile' 'balkan' 'beats' 'bigroom' 'black' 'bluegrass' 'blues'\n",
      " 'bollywood' 'bossa' 'brazilian' 'breakbeat' 'breaks' 'broadway'\n",
      " 'cantautori' 'cantopop' 'canzone' 'caribbean' 'caucasian' 'celtic'\n",
      " 'chamber' 'chanson' 'children' 'chill' 'chinese' 'choral' 'christian'\n",
      " 'christmas' 'classical' 'classicmetal' 'club' 'colombian' 'comedy'\n",
      " 'conjazz' 'contemporary' 'country' 'cuban' 'dance' 'dancehall' 'dancepop'\n",
      " 'dark' 'death' 'deep' 'deutschrock' 'deutschspr' 'dirty' 'disco' 'dnb'\n",
      " 'documentary' 'downbeat' 'downtempo' 'drum' 'dub' 'dubstep' 'eastern'\n",
      " 'easy' 'electronic' 'electropop' 'emo' 'entehno' 'epicmetal' 'estrada'\n",
      " 'ethnic' 'eurofolk' 'european' 'experimental' 'extrememetal' 'fado'\n",
      " 'fairytail' 'film' 'fitness' 'flamenco' 'folk' 'folklore' 'folkmetal'\n",
      " 'folkrock' 'folktronica' 'forró' 'frankreich' 'französisch' 'french'\n",
      " 'funk' 'future' 'gangsta' 'garage' 'german' 'ghazal' 'gitarre' 'glitch'\n",
      " 'gospel' 'gothic' 'grime' 'grunge' 'gypsy' 'handsup' \"hard'n'heavy\"\n",
      " 'hardcore' 'hardstyle' 'hardtechno' 'hip' 'hip-hop' 'hiphop' 'historisch'\n",
      " 'holiday' 'hop' 'horror' 'house' 'hymn' 'idm' 'independent' 'indian'\n",
      " 'indie' 'indipop' 'industrial' 'inspirational' 'instrumental'\n",
      " 'international' 'irish' 'jam' 'japanese' 'jazz' 'jewish' 'jpop' 'jungle'\n",
      " 'k-pop' 'karadeniz' 'karaoke' 'kayokyoku' 'korean' 'laiko' 'latin'\n",
      " 'latino' 'leftfield' 'local' 'lounge' 'loungeelectronic' 'lovers'\n",
      " 'malaysian' 'mandopop' 'marschmusik' 'meditative' 'mediterranean'\n",
      " 'melodic' 'metal' 'metalcore' 'mexican' 'middle' 'minimal'\n",
      " 'miscellaneous' 'modern' 'mood' 'mpb' 'muslim' 'native' 'neoklassik'\n",
      " 'neue' 'new' 'newage' 'newwave' 'nu' 'nujazz' 'numetal' 'oceania' 'old'\n",
      " 'opera' 'orchestral' 'other' 'piano' 'podcasts' 'pop' 'popdance'\n",
      " 'popelectronic' 'popeurodance' 'poprussian' 'post' 'posthardcore'\n",
      " 'postrock' 'power' 'progmetal' 'progressive' 'psychedelic' 'punjabi'\n",
      " 'punk' 'quebecois' 'ragga' 'ram' 'rancheras' 'rap' 'rave' 'reggae'\n",
      " 'reggaeton' 'regional' 'relax' 'religious' 'retro' 'rhythm' 'rnb' 'rnr'\n",
      " 'rock' 'rockabilly' 'rockalternative' 'rockindie' 'rockother' 'romance'\n",
      " 'roots' 'ruspop' 'rusrap' 'rusrock' 'russian' 'salsa' 'samba' 'scenic'\n",
      " 'schlager' 'self' 'sertanejo' 'shanson' 'shoegazing' 'showtunes' 'singer'\n",
      " 'ska' 'skarock' 'slow' 'smooth' 'soft' 'soul' 'soulful' 'sound'\n",
      " 'soundtrack' 'southern' 'specialty' 'speech' 'spiritual' 'sport'\n",
      " 'stonerrock' 'surf' 'swing' 'synthpop' 'synthrock' 'sängerportrait'\n",
      " 'tango' 'tanzorchester' 'taraftar' 'tatar' 'tech' 'techno' 'teen'\n",
      " 'thrash' 'top' 'traditional' 'tradjazz' 'trance' 'tribal' 'trip'\n",
      " 'triphop' 'tropical' 'türk' 'türkçe' 'ukrrock' 'unknown' 'urban' 'uzbek'\n",
      " 'variété' 'vi' 'videogame' 'vocal' 'western' 'world' 'worldbeat' 'ïîï'\n",
      " 'электроника']\n"
     ]
    }
   ],
   "source": [
    "print(df['genre'].sort_values().unique())"
   ]
  },
  {
   "cell_type": "code",
   "execution_count": 15,
   "metadata": {},
   "outputs": [
    {
     "name": "stdout",
     "output_type": "stream",
     "text": [
      "290\n"
     ]
    }
   ],
   "source": [
    "print(len(df['genre'].sort_values().unique()))"
   ]
  },
  {
   "cell_type": "markdown",
   "metadata": {},
   "source": [
    "Заметны неявные дубликаты жанра `hiphop`.\n",
    "Это альтернативные названия этого жанра: \n",
    "* *hip*,\n",
    "* *hop*,\n",
    "* *hip-hop*.\n",
    "Заменим их на название `hiphop`."
   ]
  },
  {
   "cell_type": "code",
   "execution_count": 16,
   "metadata": {},
   "outputs": [],
   "source": [
    "wrong_genres = ('hip', 'hop', 'hip-hop')\n",
    "correct_genre = 'hiphop'"
   ]
  },
  {
   "cell_type": "code",
   "execution_count": 17,
   "metadata": {
    "id": "ErNDkmns_Zct"
   },
   "outputs": [],
   "source": [
    "def replace_wrong_genres(wrong, correct, column):\n",
    "    for i in range(len(column)):\n",
    "        if column[i] in wrong:\n",
    "            column[i] = correct\n",
    "    "
   ]
  },
  {
   "cell_type": "code",
   "execution_count": 18,
   "metadata": {},
   "outputs": [],
   "source": [
    "replace_wrong_genres(wrong_genres, correct_genre, df['genre'])"
   ]
  },
  {
   "cell_type": "code",
   "execution_count": 19,
   "metadata": {
    "id": "wvixALnFG15m"
   },
   "outputs": [
    {
     "name": "stdout",
     "output_type": "stream",
     "text": [
      "287\n"
     ]
    }
   ],
   "source": [
    "print(len(df['genre'].sort_values().unique()))"
   ]
  },
  {
   "cell_type": "markdown",
   "metadata": {},
   "source": [
    "Данные обработаны: пропуски заменены, название столбцов изменено на более подходящее, явные и неявные дубликаты обработаны. \n",
    "Далее проверим выдвинутые в начале исследования гипотезы."
   ]
  },
  {
   "cell_type": "markdown",
   "metadata": {
    "id": "WttZHXH0SqKk"
   },
   "source": [
    "## Проверка гипотез"
   ]
  },
  {
   "cell_type": "markdown",
   "metadata": {
    "id": "Im936VVi_Zcu"
   },
   "source": [
    "### Сравнение поведения пользователей двух столиц"
   ]
  },
  {
   "cell_type": "markdown",
   "metadata": {},
   "source": [
    "Первая гипотеза: пользователи по-разному слушают музыку в Москве и Санкт-Петербурге.\n",
    "Для ее проверки возьмем данные о трёх днях недели — понедельнике, среде и пятнице. Разделим пользователей по городам и сравним количество прослушиваний каждой группы в каждый из трех дней. "
   ]
  },
  {
   "cell_type": "markdown",
   "metadata": {},
   "source": [
    "Для начала посмотрим количество прослушиваний в Москве и Санкт-Петербурге во все представленные дни."
   ]
  },
  {
   "cell_type": "code",
   "execution_count": 20,
   "metadata": {
    "id": "0_Qs96oh_Zcu"
   },
   "outputs": [
    {
     "name": "stdout",
     "output_type": "stream",
     "text": [
      "42741\n"
     ]
    }
   ],
   "source": [
    "print((df['city'] == 'Moscow').sum())"
   ]
  },
  {
   "cell_type": "code",
   "execution_count": 21,
   "metadata": {},
   "outputs": [
    {
     "name": "stdout",
     "output_type": "stream",
     "text": [
      "18512\n"
     ]
    }
   ],
   "source": [
    "print((df['city'] == 'Saint-Petersburg').sum())"
   ]
  },
  {
   "cell_type": "markdown",
   "metadata": {},
   "source": [
    "В Москве прослушиваний больше, чем в Санкт-Петербурге. Но самих пользователей в Москве больше. Поэтому делать вывод об активности пользователей рано."
   ]
  },
  {
   "cell_type": "markdown",
   "metadata": {},
   "source": [
    "Посмотрим общее количество прослушиваний по дням."
   ]
  },
  {
   "cell_type": "code",
   "execution_count": 22,
   "metadata": {
    "id": "uZMKjiJz_Zcu"
   },
   "outputs": [
    {
     "name": "stdout",
     "output_type": "stream",
     "text": [
      "21354\n"
     ]
    }
   ],
   "source": [
    "print((df['day'] == 'Monday').sum())"
   ]
  },
  {
   "cell_type": "code",
   "execution_count": 23,
   "metadata": {},
   "outputs": [
    {
     "name": "stdout",
     "output_type": "stream",
     "text": [
      "18059\n"
     ]
    }
   ],
   "source": [
    "print((df['day'] == 'Wednesday').sum())"
   ]
  },
  {
   "cell_type": "code",
   "execution_count": 24,
   "metadata": {},
   "outputs": [
    {
     "name": "stdout",
     "output_type": "stream",
     "text": [
      "21840\n"
     ]
    }
   ],
   "source": [
    "print((df['day'] == 'Friday').sum())"
   ]
  },
  {
   "cell_type": "markdown",
   "metadata": {},
   "source": [
    "В среду пользователи менее активны."
   ]
  },
  {
   "cell_type": "markdown",
   "metadata": {},
   "source": [
    "Разделим прослушивание по городам и дням и посмотрим на результат.\n",
    "Для удобства данные соберем в таблицу."
   ]
  },
  {
   "cell_type": "code",
   "execution_count": 25,
   "metadata": {},
   "outputs": [],
   "source": [
    "def number_tracks(day, city):\n",
    "    count_track_list = len(df[(df['day'] == day) & (df['city'] == city)])\n",
    "    return count_track_list\n",
    "    "
   ]
  },
  {
   "cell_type": "code",
   "execution_count": 26,
   "metadata": {},
   "outputs": [],
   "source": [
    "count_track_list_df = pd.DataFrame(\n",
    "    data = (['Moscow', \n",
    "             number_tracks('Monday', 'Moscow'), \n",
    "             number_tracks('Wednesday', 'Moscow'), \n",
    "             number_tracks('Friday', 'Moscow')], \n",
    "            ['Saint-Petersburg', \n",
    "             number_tracks('Monday', 'Saint-Petersburg'), \n",
    "             number_tracks('Wednesday', 'Saint-Petersburg'), \n",
    "             number_tracks('Friday', 'Saint-Petersburg')]), \n",
    "    columns=['city', 'monday', 'wednesday', 'friday'])\n",
    "\n"
   ]
  },
  {
   "cell_type": "code",
   "execution_count": 27,
   "metadata": {},
   "outputs": [
    {
     "data": {
      "text/html": [
       "<div>\n",
       "<style scoped>\n",
       "    .dataframe tbody tr th:only-of-type {\n",
       "        vertical-align: middle;\n",
       "    }\n",
       "\n",
       "    .dataframe tbody tr th {\n",
       "        vertical-align: top;\n",
       "    }\n",
       "\n",
       "    .dataframe thead th {\n",
       "        text-align: right;\n",
       "    }\n",
       "</style>\n",
       "<table border=\"1\" class=\"dataframe\">\n",
       "  <thead>\n",
       "    <tr style=\"text-align: right;\">\n",
       "      <th></th>\n",
       "      <th>city</th>\n",
       "      <th>monday</th>\n",
       "      <th>wednesday</th>\n",
       "      <th>friday</th>\n",
       "    </tr>\n",
       "  </thead>\n",
       "  <tbody>\n",
       "    <tr>\n",
       "      <th>0</th>\n",
       "      <td>Moscow</td>\n",
       "      <td>15740</td>\n",
       "      <td>11056</td>\n",
       "      <td>15945</td>\n",
       "    </tr>\n",
       "    <tr>\n",
       "      <th>1</th>\n",
       "      <td>Saint-Petersburg</td>\n",
       "      <td>5614</td>\n",
       "      <td>7003</td>\n",
       "      <td>5895</td>\n",
       "    </tr>\n",
       "  </tbody>\n",
       "</table>\n",
       "</div>"
      ],
      "text/plain": [
       "               city  monday  wednesday  friday\n",
       "0            Moscow   15740      11056   15945\n",
       "1  Saint-Petersburg    5614       7003    5895"
      ]
     },
     "metadata": {},
     "output_type": "display_data"
    }
   ],
   "source": [
    "display(count_track_list_df)"
   ]
  },
  {
   "cell_type": "markdown",
   "metadata": {
    "id": "-EgPIHYu_Zcu"
   },
   "source": [
    "**Вывод**:\n",
    "\n",
    "* В Москве пик прослушиваний приходится на понедельник и пятницу, в среду же прослушивания заметно падают.\n",
    "* В Санкт-Петербурге, в отличии от Москвы, больше слушают музыку по среду, в понедельник и пятницу прослушивания снижаются. Наблюдается обратная пропорция по сравнению с Москвой. \n",
    "* Первая гипотеза подтверждена, музыку слушают по-разному."
   ]
  },
  {
   "cell_type": "markdown",
   "metadata": {
    "id": "atZAxtq4_Zcu"
   },
   "source": [
    "### Музыка в начале и в конце недели"
   ]
  },
  {
   "cell_type": "markdown",
   "metadata": {},
   "source": [
    "Вторая гипотеза: утром в понедельник в Москве преобладают одни жанры, а в Петербурге — другие. Так же и вечером пятницы преобладают разные жанры — в зависимости от города."
   ]
  },
  {
   "cell_type": "markdown",
   "metadata": {
    "id": "S8UcW6Hw_Zcu"
   },
   "source": [
    "Создадим две таблицы из данных исходной таблицы:\n",
    "* по Москве — в `moscow_general`;\n",
    "* по Санкт-Петербургу — в `spb_general`."
   ]
  },
  {
   "cell_type": "code",
   "execution_count": 28,
   "metadata": {},
   "outputs": [],
   "source": [
    "moscow_general = df[df['city'] == 'Moscow']"
   ]
  },
  {
   "cell_type": "code",
   "execution_count": 29,
   "metadata": {},
   "outputs": [],
   "source": [
    "spb_general = df[df['city'] == 'Saint-Petersburg']"
   ]
  },
  {
   "cell_type": "markdown",
   "metadata": {},
   "source": [
    "Найдем топ-10 предпочитаемых жанров утром (с 7:00 до 11:00) в понедельник и вечером (с 17:00 до 23:00) в пятницу по городам. \n"
   ]
  },
  {
   "cell_type": "code",
   "execution_count": 30,
   "metadata": {},
   "outputs": [],
   "source": [
    "def genre_weekday(table, day, time1, time2):\n",
    "    genre_df = table[(table['day'] == day) & (table['time'] > time1) & (table['time'] < time2)]\n",
    "    genre_df_count = genre_df.groupby('genre')['genre'].count() \n",
    "    genre_df_count = genre_df_count.sort_values(ascending=False)\n",
    "    return genre_df_count.head(10)\n",
    "    "
   ]
  },
  {
   "cell_type": "markdown",
   "metadata": {},
   "source": [
    "Москва, утро понедельника:"
   ]
  },
  {
   "cell_type": "code",
   "execution_count": 31,
   "metadata": {},
   "outputs": [
    {
     "name": "stdout",
     "output_type": "stream",
     "text": [
      "genre\n",
      "pop            781\n",
      "dance          549\n",
      "electronic     480\n",
      "rock           474\n",
      "hiphop         286\n",
      "ruspop         186\n",
      "world          181\n",
      "rusrap         175\n",
      "alternative    164\n",
      "unknown        161\n",
      "Name: genre, dtype: int64\n"
     ]
    }
   ],
   "source": [
    "print(genre_weekday(moscow_general, 'Monday', '07:00', '11:00'))"
   ]
  },
  {
   "cell_type": "markdown",
   "metadata": {
    "id": "kwUcHPdy_Zcu"
   },
   "source": [
    "Санкт-Петербург, утро понедельника:"
   ]
  },
  {
   "cell_type": "code",
   "execution_count": 32,
   "metadata": {},
   "outputs": [
    {
     "data": {
      "text/plain": [
       "genre\n",
       "pop            218\n",
       "dance          182\n",
       "rock           162\n",
       "electronic     147\n",
       "hiphop          80\n",
       "ruspop          64\n",
       "alternative     58\n",
       "rusrap          55\n",
       "jazz            44\n",
       "classical       40\n",
       "Name: genre, dtype: int64"
      ]
     },
     "execution_count": 32,
     "metadata": {},
     "output_type": "execute_result"
    }
   ],
   "source": [
    "genre_weekday(spb_general, 'Monday', '07:00', '11:00')"
   ]
  },
  {
   "cell_type": "code",
   "execution_count": 33,
   "metadata": {},
   "outputs": [
    {
     "name": "stdout",
     "output_type": "stream",
     "text": [
      "['alternative', 'dance', 'electronic', 'hiphop', 'pop', 'rock', 'ruspop', 'rusrap', 'unknown', 'world']\n",
      "\n",
      "['alternative', 'classical', 'dance', 'electronic', 'hiphop', 'jazz', 'pop', 'rock', 'ruspop', 'rusrap']\n"
     ]
    }
   ],
   "source": [
    "print(list((genre_weekday(moscow_general, 'Monday', '07:00', '11:00')).keys().sort_values()))\n",
    "print()\n",
    "print(list((genre_weekday(spb_general, 'Monday', '07:00', '11:00')).keys().sort_values()))\n"
   ]
  },
  {
   "cell_type": "markdown",
   "metadata": {
    "id": "EzXVRE1o_Zcu"
   },
   "source": [
    "Москва, вечер пятницы:"
   ]
  },
  {
   "cell_type": "code",
   "execution_count": 34,
   "metadata": {},
   "outputs": [
    {
     "data": {
      "text/plain": [
       "genre\n",
       "pop            713\n",
       "rock           517\n",
       "dance          495\n",
       "electronic     482\n",
       "hiphop         273\n",
       "world          208\n",
       "ruspop         170\n",
       "alternative    163\n",
       "classical      163\n",
       "rusrap         142\n",
       "Name: genre, dtype: int64"
      ]
     },
     "execution_count": 34,
     "metadata": {},
     "output_type": "execute_result"
    }
   ],
   "source": [
    "genre_weekday(moscow_general, 'Friday', '17:00', '23:00')"
   ]
  },
  {
   "cell_type": "markdown",
   "metadata": {
    "id": "JZaEKu5v_Zcu"
   },
   "source": [
    "Санкт-Петербург, вечер пятницы:"
   ]
  },
  {
   "cell_type": "code",
   "execution_count": 35,
   "metadata": {},
   "outputs": [
    {
     "data": {
      "text/plain": [
       "genre\n",
       "pop            256\n",
       "electronic     216\n",
       "rock           216\n",
       "dance          210\n",
       "hiphop          97\n",
       "alternative     63\n",
       "jazz            61\n",
       "classical       60\n",
       "rusrap          59\n",
       "world           54\n",
       "Name: genre, dtype: int64"
      ]
     },
     "execution_count": 35,
     "metadata": {},
     "output_type": "execute_result"
    }
   ],
   "source": [
    "genre_weekday(spb_general, 'Friday', '17:00', '23:00') "
   ]
  },
  {
   "cell_type": "code",
   "execution_count": 36,
   "metadata": {},
   "outputs": [
    {
     "name": "stdout",
     "output_type": "stream",
     "text": [
      "['alternative', 'classical', 'dance', 'electronic', 'hiphop', 'pop', 'rock', 'ruspop', 'rusrap', 'world']\n",
      "\n",
      "['alternative', 'classical', 'dance', 'electronic', 'hiphop', 'jazz', 'pop', 'rock', 'rusrap', 'world']\n"
     ]
    }
   ],
   "source": [
    "print(list((genre_weekday(moscow_general, 'Friday', '17:00', '23:00')).keys().sort_values()))\n",
    "print()\n",
    "print(list((genre_weekday(spb_general, 'Friday', '17:00', '23:00')).keys().sort_values()))"
   ]
  },
  {
   "cell_type": "markdown",
   "metadata": {
    "id": "wrCe4MNX_Zcu"
   },
   "source": [
    "**Выводы**:\n",
    "\n",
    "1. В Москве и Петербурге слушают похожую музыку. Единственное отличие — в московский рейтинг вошёл жанр “world”, а в петербургский — джаз и классика.\n",
    "\n",
    "2. В Москве пропущенных значений оказалось так много, что значение `'unknown'` заняло десятое место среди самых популярных жанров. Значит, пропущенные значения занимают существенную долю в данных и угрожают достоверности исследования.\n",
    "\n",
    "Вечер пятницы не меняет эту картину. Некоторые жанры поднимаются немного выше, другие спускаются, но в целом топ-10 остаётся тем же самым.\n",
    "\n",
    "Таким образом, вторая гипотеза подтвердилась лишь частично:\n",
    "* Пользователи слушают похожую музыку в начале недели и в конце.\n",
    "* Разница между Москвой и Петербургом не слишком выражена. В Москве чаще слушают русскую популярную музыку, в Петербурге — джаз.\n",
    "\n",
    "Однако пропуски в данных ставят под сомнение этот результат. В Москве их так много, что рейтинг топ-10 мог бы выглядеть иначе, если бы не утерянные  данные о жанрах."
   ]
  },
  {
   "cell_type": "markdown",
   "metadata": {
    "id": "JolODAqr_Zcu"
   },
   "source": [
    "### Жанровые предпочтения в Москве и Петербурге\n",
    "\n",
    "Тртья гипотеза: Санкт-Петербург — столица рэпа, музыку этого жанра там слушают чаще, чем в Москве.  А Москва — город контрастов, в котором, тем не менее, преобладает поп-музыка."
   ]
  },
  {
   "cell_type": "markdown",
   "metadata": {},
   "source": [
    "Найдет то-10 популярных жанров в Москве и Санкт-Петербурге."
   ]
  },
  {
   "cell_type": "code",
   "execution_count": 37,
   "metadata": {},
   "outputs": [],
   "source": [
    "moscow_genres = moscow_general.groupby('genre')['track'].count().sort_values(ascending=False)"
   ]
  },
  {
   "cell_type": "markdown",
   "metadata": {},
   "source": [
    "Для Москвы:"
   ]
  },
  {
   "cell_type": "code",
   "execution_count": 38,
   "metadata": {},
   "outputs": [
    {
     "name": "stdout",
     "output_type": "stream",
     "text": [
      "genre\n",
      "pop            5892\n",
      "dance          4435\n",
      "rock           3965\n",
      "electronic     3786\n",
      "hiphop         2096\n",
      "classical      1616\n",
      "world          1432\n",
      "alternative    1379\n",
      "ruspop         1372\n",
      "rusrap         1161\n",
      "Name: track, dtype: int64\n"
     ]
    }
   ],
   "source": [
    "print(moscow_genres.head(10))"
   ]
  },
  {
   "cell_type": "code",
   "execution_count": 39,
   "metadata": {},
   "outputs": [],
   "source": [
    "spb_genres = spb_general.groupby('genre')['track'].count().sort_values(ascending=False)"
   ]
  },
  {
   "cell_type": "markdown",
   "metadata": {
    "id": "5Doha_ODgyQ8"
   },
   "source": [
    "Выведите на экран первые десять строк `spb_genres`:"
   ]
  },
  {
   "cell_type": "markdown",
   "metadata": {},
   "source": [
    "Для Санкт-Петербурга:"
   ]
  },
  {
   "cell_type": "code",
   "execution_count": 40,
   "metadata": {},
   "outputs": [
    {
     "name": "stdout",
     "output_type": "stream",
     "text": [
      "genre\n",
      "pop            2431\n",
      "dance          1932\n",
      "rock           1879\n",
      "electronic     1736\n",
      "hiphop          960\n",
      "alternative     649\n",
      "classical       646\n",
      "rusrap          564\n",
      "ruspop          538\n",
      "world           515\n",
      "Name: track, dtype: int64\n"
     ]
    }
   ],
   "source": [
    "print(spb_genres.head(10))"
   ]
  },
  {
   "cell_type": "markdown",
   "metadata": {
    "id": "nVhnJEm__Zcv"
   },
   "source": [
    "**Вывод**\n",
    "\n",
    "\n",
    "Гипотеза частично подтвердилась:\n",
    "   - Поп-музыка — самый популярный жанр в Москве, как и предполагала гипотеза. Более того, в топ-10 жанров встречается близкий жанр — русская популярная музыка.\n",
    "   - Вопреки ожиданиям, рэп одинаково популярен в Москве и Петербурге. \n"
   ]
  },
  {
   "cell_type": "markdown",
   "metadata": {
    "id": "ykKQ0N65_Zcv"
   },
   "source": [
    "## Итоги исследования"
   ]
  },
  {
   "cell_type": "markdown",
   "metadata": {},
   "source": [
    "Было проверено три гипотезы о схожести и различии музыкальных предпочтений жителей Москвы и Санкт-Петербурга.\n",
    "На основании исследований можно сделать следующие выводы:\n",
    "\n",
    "  1. День недели по-разному влияет на активность пользователей в Москве и Петербурге. Первая гипотеза полностью подтвердилась.\n",
    "  \n",
    "    \n",
    "  2. Музыкальные предпочтения не сильно меняются в течение недели — будь то Москва или Петербург. Небольшие различия заметны в начале недели, по понедельникам: в Москве слушают музыку жанра “world”, в Петербурге — джаз и классику. Таким образом, вторая гипотеза подтвердилась лишь отчасти. Этот результат мог оказаться иным, если бы не пропуски в данных.\n",
    "    \n",
    "    \n",
    "  3. Во вкусах пользователей Москвы и Петербурга больше общего чем различий. Вопреки ожиданиям, предпочтения жанров в Петербурге напоминают московские. Третья гипотеза подтвердилась только лишь в том, что в слушатели Москвыпредпочитают \"популярную\" музыку. Если различия в предпочтениях и существуют, на основной массе пользователей они незаметны.\n",
    "  \n",
    "  4. Вот такие дела."
   ]
  }
 ],
 "metadata": {
  "ExecuteTimeLog": [
   {
    "duration": 47,
    "start_time": "2022-04-29T13:22:54.240Z"
   },
   {
    "duration": 11,
    "start_time": "2022-04-29T13:22:57.435Z"
   },
   {
    "duration": 420,
    "start_time": "2022-04-29T13:23:02.549Z"
   },
   {
    "duration": 156,
    "start_time": "2022-04-29T13:23:04.143Z"
   },
   {
    "duration": 31,
    "start_time": "2022-04-29T13:23:24.597Z"
   },
   {
    "duration": 32,
    "start_time": "2022-04-29T13:24:01.199Z"
   },
   {
    "duration": 25,
    "start_time": "2022-04-29T13:42:01.148Z"
   },
   {
    "duration": 172,
    "start_time": "2022-04-29T13:44:22.434Z"
   },
   {
    "duration": 33,
    "start_time": "2022-04-29T13:44:26.432Z"
   },
   {
    "duration": 3,
    "start_time": "2022-04-29T13:44:30.557Z"
   },
   {
    "duration": 17,
    "start_time": "2022-04-29T13:44:40.463Z"
   },
   {
    "duration": 4,
    "start_time": "2022-04-29T13:44:41.617Z"
   },
   {
    "duration": 31,
    "start_time": "2022-04-29T13:45:40.607Z"
   },
   {
    "duration": 31,
    "start_time": "2022-04-29T13:46:20.723Z"
   },
   {
    "duration": 8,
    "start_time": "2022-04-29T13:52:56.942Z"
   },
   {
    "duration": 27,
    "start_time": "2022-04-29T13:54:06.338Z"
   },
   {
    "duration": 379,
    "start_time": "2022-04-29T13:54:27.906Z"
   },
   {
    "duration": 45,
    "start_time": "2022-04-29T13:54:32.629Z"
   },
   {
    "duration": 44,
    "start_time": "2022-04-29T13:54:49.195Z"
   },
   {
    "duration": 189,
    "start_time": "2022-04-29T13:55:00.614Z"
   },
   {
    "duration": 43,
    "start_time": "2022-04-29T13:55:03.941Z"
   },
   {
    "duration": 44,
    "start_time": "2022-04-29T13:55:13.433Z"
   },
   {
    "duration": 367,
    "start_time": "2022-04-29T13:55:22.082Z"
   },
   {
    "duration": 15,
    "start_time": "2022-04-29T13:55:55.342Z"
   },
   {
    "duration": 6,
    "start_time": "2022-04-29T13:56:38.310Z"
   },
   {
    "duration": 159,
    "start_time": "2022-04-29T13:58:10.521Z"
   },
   {
    "duration": 31,
    "start_time": "2022-04-29T13:58:22.796Z"
   },
   {
    "duration": 25,
    "start_time": "2022-04-29T13:58:35.846Z"
   },
   {
    "duration": 10,
    "start_time": "2022-04-29T13:59:41.701Z"
   },
   {
    "duration": 63,
    "start_time": "2022-04-29T13:59:49.826Z"
   },
   {
    "duration": 96,
    "start_time": "2022-04-29T14:01:14.997Z"
   },
   {
    "duration": 66,
    "start_time": "2022-04-29T14:01:23.824Z"
   },
   {
    "duration": 10,
    "start_time": "2022-04-29T14:04:15.301Z"
   },
   {
    "duration": 35,
    "start_time": "2022-04-29T14:04:33.334Z"
   },
   {
    "duration": 64,
    "start_time": "2022-04-29T14:04:41.069Z"
   },
   {
    "duration": 45,
    "start_time": "2022-04-29T14:04:47.799Z"
   },
   {
    "duration": 5,
    "start_time": "2022-04-29T14:17:09.160Z"
   },
   {
    "duration": 7,
    "start_time": "2022-04-29T14:18:25.815Z"
   },
   {
    "duration": 3,
    "start_time": "2022-04-29T14:18:30.045Z"
   },
   {
    "duration": 3,
    "start_time": "2022-04-29T14:20:14.241Z"
   },
   {
    "duration": 4,
    "start_time": "2022-04-29T14:20:17.936Z"
   },
   {
    "duration": 7,
    "start_time": "2022-04-29T14:23:58.904Z"
   },
   {
    "duration": 4,
    "start_time": "2022-04-29T14:24:08.821Z"
   },
   {
    "duration": 3,
    "start_time": "2022-04-29T14:24:09.509Z"
   },
   {
    "duration": 701,
    "start_time": "2022-04-29T14:24:10.163Z"
   },
   {
    "duration": 88,
    "start_time": "2022-04-29T14:24:42.469Z"
   },
   {
    "duration": 409,
    "start_time": "2022-04-29T14:25:03.773Z"
   },
   {
    "duration": 197,
    "start_time": "2022-04-29T14:25:04.184Z"
   },
   {
    "duration": 19,
    "start_time": "2022-04-29T14:25:04.384Z"
   },
   {
    "duration": 30,
    "start_time": "2022-04-29T14:25:04.837Z"
   },
   {
    "duration": 13,
    "start_time": "2022-04-29T14:25:05.692Z"
   },
   {
    "duration": 4,
    "start_time": "2022-04-29T14:25:05.992Z"
   },
   {
    "duration": 25,
    "start_time": "2022-04-29T14:25:06.473Z"
   },
   {
    "duration": 38,
    "start_time": "2022-04-29T14:25:06.729Z"
   },
   {
    "duration": 44,
    "start_time": "2022-04-29T14:25:06.972Z"
   },
   {
    "duration": 2,
    "start_time": "2022-04-29T14:25:07.696Z"
   },
   {
    "duration": 5,
    "start_time": "2022-04-29T14:25:08.183Z"
   },
   {
    "duration": 77,
    "start_time": "2022-04-29T14:25:08.680Z"
   },
   {
    "duration": 114,
    "start_time": "2022-04-29T14:25:09.220Z"
   },
   {
    "duration": 65,
    "start_time": "2022-04-29T14:25:09.768Z"
   },
   {
    "duration": 75,
    "start_time": "2022-04-29T14:25:10.832Z"
   },
   {
    "duration": 3,
    "start_time": "2022-04-29T14:25:13.467Z"
   },
   {
    "duration": 3,
    "start_time": "2022-04-29T14:25:13.708Z"
   },
   {
    "duration": 624,
    "start_time": "2022-04-29T14:25:13.956Z"
   },
   {
    "duration": 3,
    "start_time": "2022-04-29T14:25:14.582Z"
   },
   {
    "duration": 45,
    "start_time": "2022-04-29T14:25:15.630Z"
   },
   {
    "duration": 6,
    "start_time": "2022-04-29T14:50:16.815Z"
   },
   {
    "duration": 17,
    "start_time": "2022-04-29T14:50:31.382Z"
   },
   {
    "duration": 811,
    "start_time": "2022-04-29T14:50:49.075Z"
   },
   {
    "duration": 9,
    "start_time": "2022-04-29T14:51:08.978Z"
   },
   {
    "duration": 6,
    "start_time": "2022-04-29T14:51:34.363Z"
   },
   {
    "duration": 6,
    "start_time": "2022-04-29T14:53:43.547Z"
   },
   {
    "duration": 7,
    "start_time": "2022-04-29T14:54:17.698Z"
   },
   {
    "duration": 13,
    "start_time": "2022-04-29T14:54:18.428Z"
   },
   {
    "duration": 7,
    "start_time": "2022-04-29T14:55:52.359Z"
   },
   {
    "duration": 6,
    "start_time": "2022-04-29T14:55:52.643Z"
   },
   {
    "duration": 11,
    "start_time": "2022-04-29T14:55:52.927Z"
   },
   {
    "duration": 3,
    "start_time": "2022-04-29T15:02:00.364Z"
   },
   {
    "duration": 4,
    "start_time": "2022-04-29T15:02:27.423Z"
   },
   {
    "duration": 3,
    "start_time": "2022-04-29T15:04:14.523Z"
   },
   {
    "duration": 3,
    "start_time": "2022-04-29T15:04:15.373Z"
   },
   {
    "duration": 74,
    "start_time": "2022-04-29T15:04:31.672Z"
   },
   {
    "duration": 14,
    "start_time": "2022-04-29T15:05:21.800Z"
   },
   {
    "duration": 18,
    "start_time": "2022-04-29T15:05:56.095Z"
   },
   {
    "duration": 17,
    "start_time": "2022-04-29T15:06:11.679Z"
   },
   {
    "duration": 27,
    "start_time": "2022-04-29T15:06:36.855Z"
   },
   {
    "duration": 25,
    "start_time": "2022-04-29T15:07:20.507Z"
   },
   {
    "duration": 15,
    "start_time": "2022-04-29T15:07:31.715Z"
   },
   {
    "duration": 30,
    "start_time": "2022-04-29T15:07:55.479Z"
   },
   {
    "duration": 19,
    "start_time": "2022-04-29T15:10:08.798Z"
   },
   {
    "duration": 177,
    "start_time": "2022-04-29T15:10:59.489Z"
   },
   {
    "duration": 14,
    "start_time": "2022-04-29T15:11:03.546Z"
   },
   {
    "duration": 735,
    "start_time": "2022-04-29T15:11:30.386Z"
   },
   {
    "duration": 21,
    "start_time": "2022-04-29T15:11:51.355Z"
   },
   {
    "duration": 33,
    "start_time": "2022-04-29T15:12:17.030Z"
   },
   {
    "duration": 459,
    "start_time": "2022-04-29T18:17:48.453Z"
   },
   {
    "duration": 194,
    "start_time": "2022-04-29T18:17:49.402Z"
   },
   {
    "duration": 23,
    "start_time": "2022-04-29T18:17:50.079Z"
   },
   {
    "duration": 42,
    "start_time": "2022-04-29T18:17:50.771Z"
   },
   {
    "duration": 14,
    "start_time": "2022-04-29T18:17:51.524Z"
   },
   {
    "duration": 4,
    "start_time": "2022-04-29T18:17:51.608Z"
   },
   {
    "duration": 34,
    "start_time": "2022-04-29T18:17:51.776Z"
   },
   {
    "duration": 39,
    "start_time": "2022-04-29T18:17:51.858Z"
   },
   {
    "duration": 36,
    "start_time": "2022-04-29T18:17:51.944Z"
   },
   {
    "duration": 5,
    "start_time": "2022-04-29T18:17:52.195Z"
   },
   {
    "duration": 2,
    "start_time": "2022-04-29T18:17:52.363Z"
   },
   {
    "duration": 78,
    "start_time": "2022-04-29T18:17:52.536Z"
   },
   {
    "duration": 82,
    "start_time": "2022-04-29T18:17:53.169Z"
   },
   {
    "duration": 55,
    "start_time": "2022-04-29T18:17:53.755Z"
   },
   {
    "duration": 71,
    "start_time": "2022-04-29T18:17:54.008Z"
   },
   {
    "duration": 3,
    "start_time": "2022-04-29T18:17:54.174Z"
   },
   {
    "duration": 3,
    "start_time": "2022-04-29T18:17:54.258Z"
   },
   {
    "duration": 944,
    "start_time": "2022-04-29T18:17:55.937Z"
   },
   {
    "duration": 3,
    "start_time": "2022-04-29T18:17:57.810Z"
   },
   {
    "duration": 33,
    "start_time": "2022-04-29T18:18:00.169Z"
   },
   {
    "duration": 6,
    "start_time": "2022-04-29T18:18:03.690Z"
   },
   {
    "duration": 8,
    "start_time": "2022-04-29T18:18:04.297Z"
   },
   {
    "duration": 7,
    "start_time": "2022-04-29T18:18:04.839Z"
   },
   {
    "duration": 7,
    "start_time": "2022-04-29T18:18:05.113Z"
   },
   {
    "duration": 7,
    "start_time": "2022-04-29T18:18:05.908Z"
   },
   {
    "duration": 7,
    "start_time": "2022-04-29T18:18:06.373Z"
   },
   {
    "duration": 7,
    "start_time": "2022-04-29T18:18:06.690Z"
   },
   {
    "duration": 3,
    "start_time": "2022-04-29T18:18:08.345Z"
   },
   {
    "duration": 3,
    "start_time": "2022-04-29T18:18:08.950Z"
   },
   {
    "duration": 3,
    "start_time": "2022-04-29T18:18:09.841Z"
   },
   {
    "duration": 34,
    "start_time": "2022-04-29T18:18:10.425Z"
   },
   {
    "duration": 21,
    "start_time": "2022-04-29T18:18:11.269Z"
   },
   {
    "duration": 19,
    "start_time": "2022-04-29T18:18:12.021Z"
   },
   {
    "duration": 17,
    "start_time": "2022-04-29T18:18:48.225Z"
   },
   {
    "duration": 13,
    "start_time": "2022-04-29T18:19:34.508Z"
   },
   {
    "duration": 12,
    "start_time": "2022-04-29T18:20:24.784Z"
   },
   {
    "duration": 3,
    "start_time": "2022-04-29T18:20:25.814Z"
   },
   {
    "duration": 21,
    "start_time": "2022-04-29T18:20:26.205Z"
   },
   {
    "duration": 3,
    "start_time": "2022-04-29T18:20:26.923Z"
   },
   {
    "duration": 13,
    "start_time": "2022-04-29T18:20:29.052Z"
   },
   {
    "duration": 3,
    "start_time": "2022-04-29T18:20:30.006Z"
   },
   {
    "duration": 13,
    "start_time": "2022-04-29T18:20:30.358Z"
   },
   {
    "duration": 2,
    "start_time": "2022-04-29T18:20:30.771Z"
   },
   {
    "duration": 20,
    "start_time": "2022-04-29T18:20:31.121Z"
   },
   {
    "duration": 3,
    "start_time": "2022-04-29T18:20:31.611Z"
   },
   {
    "duration": 11,
    "start_time": "2022-04-29T18:20:31.975Z"
   },
   {
    "duration": 69,
    "start_time": "2022-04-29T18:26:34.321Z"
   },
   {
    "duration": 5,
    "start_time": "2022-04-29T18:27:56.657Z"
   },
   {
    "duration": 8,
    "start_time": "2022-04-29T18:28:13.968Z"
   },
   {
    "duration": 59,
    "start_time": "2022-04-29T18:32:20.883Z"
   },
   {
    "duration": 7,
    "start_time": "2022-04-29T18:32:21.822Z"
   },
   {
    "duration": 10,
    "start_time": "2022-04-29T18:36:15.867Z"
   },
   {
    "duration": 2,
    "start_time": "2022-04-29T18:36:16.960Z"
   },
   {
    "duration": 9,
    "start_time": "2022-04-29T18:36:17.386Z"
   },
   {
    "duration": 4,
    "start_time": "2022-04-29T18:37:46.100Z"
   },
   {
    "duration": 4,
    "start_time": "2022-04-29T18:37:51.948Z"
   },
   {
    "duration": 3,
    "start_time": "2022-04-29T18:59:23.897Z"
   },
   {
    "duration": 12,
    "start_time": "2022-04-29T19:00:50.572Z"
   },
   {
    "duration": 3,
    "start_time": "2022-04-29T19:01:13.724Z"
   },
   {
    "duration": 3,
    "start_time": "2022-04-29T19:01:14.716Z"
   },
   {
    "duration": 2,
    "start_time": "2022-04-29T19:01:15.307Z"
   },
   {
    "duration": 13,
    "start_time": "2022-04-29T19:01:15.743Z"
   },
   {
    "duration": 23,
    "start_time": "2022-04-29T19:01:16.590Z"
   },
   {
    "duration": 3,
    "start_time": "2022-04-29T19:02:10.890Z"
   },
   {
    "duration": 2,
    "start_time": "2022-04-29T19:02:11.619Z"
   },
   {
    "duration": 3,
    "start_time": "2022-04-29T19:02:12.921Z"
   },
   {
    "duration": 11,
    "start_time": "2022-04-29T19:02:13.491Z"
   },
   {
    "duration": 18,
    "start_time": "2022-04-29T19:02:14.789Z"
   },
   {
    "duration": 6,
    "start_time": "2022-04-29T19:04:29.370Z"
   },
   {
    "duration": 7,
    "start_time": "2022-04-29T19:04:36.617Z"
   },
   {
    "duration": 17,
    "start_time": "2022-04-29T19:04:48.950Z"
   },
   {
    "duration": 13,
    "start_time": "2022-04-29T19:05:44.423Z"
   },
   {
    "duration": 18,
    "start_time": "2022-04-29T19:06:00.048Z"
   },
   {
    "duration": 24,
    "start_time": "2022-04-29T19:07:43.582Z"
   },
   {
    "duration": 13,
    "start_time": "2022-04-29T19:08:21.232Z"
   },
   {
    "duration": 13,
    "start_time": "2022-04-29T19:09:01.204Z"
   },
   {
    "duration": 14,
    "start_time": "2022-04-29T19:09:14.565Z"
   },
   {
    "duration": 16,
    "start_time": "2022-04-29T19:09:30.656Z"
   },
   {
    "duration": 15,
    "start_time": "2022-04-29T19:09:41.763Z"
   },
   {
    "duration": 15,
    "start_time": "2022-04-29T19:09:52.541Z"
   },
   {
    "duration": 3,
    "start_time": "2022-04-29T19:10:32.220Z"
   },
   {
    "duration": 2,
    "start_time": "2022-04-29T19:10:33.169Z"
   },
   {
    "duration": 2,
    "start_time": "2022-04-29T19:10:34.303Z"
   },
   {
    "duration": 19,
    "start_time": "2022-04-29T19:10:35.394Z"
   },
   {
    "duration": 18,
    "start_time": "2022-04-29T19:10:35.997Z"
   },
   {
    "duration": 16,
    "start_time": "2022-04-29T19:10:37.299Z"
   },
   {
    "duration": 22,
    "start_time": "2022-04-29T19:11:28.824Z"
   },
   {
    "duration": 16,
    "start_time": "2022-04-29T19:11:42.466Z"
   },
   {
    "duration": 35,
    "start_time": "2022-04-29T19:19:35.017Z"
   },
   {
    "duration": 9,
    "start_time": "2022-04-29T19:19:51.299Z"
   },
   {
    "duration": 11,
    "start_time": "2022-04-29T19:29:49.422Z"
   },
   {
    "duration": 2,
    "start_time": "2022-04-29T19:29:50.020Z"
   },
   {
    "duration": 17,
    "start_time": "2022-04-29T19:29:50.413Z"
   },
   {
    "duration": 2,
    "start_time": "2022-04-29T19:29:50.849Z"
   },
   {
    "duration": 11,
    "start_time": "2022-04-29T19:29:51.334Z"
   },
   {
    "duration": 11,
    "start_time": "2022-04-29T19:33:53.594Z"
   },
   {
    "duration": 4,
    "start_time": "2022-04-29T19:34:11.818Z"
   },
   {
    "duration": 8,
    "start_time": "2022-04-29T19:35:35.421Z"
   },
   {
    "duration": 2,
    "start_time": "2022-04-29T19:35:36.453Z"
   },
   {
    "duration": 4,
    "start_time": "2022-04-29T19:35:36.766Z"
   },
   {
    "duration": 97,
    "start_time": "2022-04-30T08:32:37.664Z"
   },
   {
    "duration": 94,
    "start_time": "2022-04-30T08:35:01.637Z"
   },
   {
    "duration": 1408,
    "start_time": "2022-04-30T08:41:30.675Z"
   },
   {
    "duration": 173,
    "start_time": "2022-04-30T08:41:32.085Z"
   },
   {
    "duration": 16,
    "start_time": "2022-04-30T08:41:32.260Z"
   },
   {
    "duration": 50,
    "start_time": "2022-04-30T08:41:32.278Z"
   },
   {
    "duration": 19,
    "start_time": "2022-04-30T08:41:32.702Z"
   },
   {
    "duration": 4,
    "start_time": "2022-04-30T08:41:33.046Z"
   },
   {
    "duration": 25,
    "start_time": "2022-04-30T08:41:33.942Z"
   },
   {
    "duration": 34,
    "start_time": "2022-04-30T08:41:34.178Z"
   },
   {
    "duration": 33,
    "start_time": "2022-04-30T08:41:34.405Z"
   },
   {
    "duration": 67,
    "start_time": "2022-04-30T08:41:35.132Z"
   },
   {
    "duration": 92,
    "start_time": "2022-04-30T08:41:35.351Z"
   },
   {
    "duration": 59,
    "start_time": "2022-04-30T08:41:35.610Z"
   },
   {
    "duration": 8,
    "start_time": "2022-04-30T08:41:42.853Z"
   },
   {
    "duration": 41,
    "start_time": "2022-04-30T08:42:34.929Z"
   },
   {
    "duration": 111,
    "start_time": "2022-04-30T08:43:12.426Z"
   },
   {
    "duration": 14,
    "start_time": "2022-04-30T08:43:36.020Z"
   },
   {
    "duration": 36,
    "start_time": "2022-04-30T08:43:48.418Z"
   },
   {
    "duration": 12,
    "start_time": "2022-04-30T08:43:58.049Z"
   },
   {
    "duration": 13,
    "start_time": "2022-04-30T08:44:19.330Z"
   },
   {
    "duration": 15,
    "start_time": "2022-04-30T08:44:38.920Z"
   },
   {
    "duration": 13,
    "start_time": "2022-04-30T08:44:54.526Z"
   },
   {
    "duration": 14,
    "start_time": "2022-04-30T08:45:03.754Z"
   },
   {
    "duration": 14,
    "start_time": "2022-04-30T08:45:08.742Z"
   },
   {
    "duration": 13,
    "start_time": "2022-04-30T08:45:32.361Z"
   },
   {
    "duration": 14,
    "start_time": "2022-04-30T08:45:40.025Z"
   },
   {
    "duration": 51,
    "start_time": "2022-04-30T08:46:11.624Z"
   },
   {
    "duration": 48,
    "start_time": "2022-04-30T08:46:29.989Z"
   },
   {
    "duration": 15,
    "start_time": "2022-04-30T08:47:01.612Z"
   },
   {
    "duration": 42,
    "start_time": "2022-04-30T08:47:02.932Z"
   },
   {
    "duration": 88,
    "start_time": "2022-04-30T08:48:16.002Z"
   },
   {
    "duration": 48,
    "start_time": "2022-04-30T08:49:52.109Z"
   },
   {
    "duration": 2,
    "start_time": "2022-04-30T08:49:53.341Z"
   },
   {
    "duration": 3,
    "start_time": "2022-04-30T08:49:53.837Z"
   },
   {
    "duration": 565,
    "start_time": "2022-04-30T08:49:54.186Z"
   },
   {
    "duration": 41,
    "start_time": "2022-04-30T08:49:54.753Z"
   },
   {
    "duration": 7,
    "start_time": "2022-04-30T09:02:55.995Z"
   },
   {
    "duration": 7,
    "start_time": "2022-04-30T09:02:59.639Z"
   },
   {
    "duration": 6,
    "start_time": "2022-04-30T09:03:30.433Z"
   },
   {
    "duration": 17,
    "start_time": "2022-04-30T09:03:42.384Z"
   },
   {
    "duration": 4,
    "start_time": "2022-04-30T09:03:58.292Z"
   },
   {
    "duration": 11,
    "start_time": "2022-04-30T09:04:07.338Z"
   },
   {
    "duration": 7,
    "start_time": "2022-04-30T09:04:12.592Z"
   },
   {
    "duration": 113,
    "start_time": "2022-04-30T09:07:44.261Z"
   },
   {
    "duration": 4,
    "start_time": "2022-04-30T09:07:49.781Z"
   },
   {
    "duration": 3,
    "start_time": "2022-04-30T09:07:52.253Z"
   },
   {
    "duration": 2,
    "start_time": "2022-04-30T09:07:54.234Z"
   },
   {
    "duration": 23,
    "start_time": "2022-04-30T09:07:54.465Z"
   },
   {
    "duration": 3,
    "start_time": "2022-04-30T09:07:54.687Z"
   },
   {
    "duration": 20,
    "start_time": "2022-04-30T09:07:54.944Z"
   },
   {
    "duration": 3,
    "start_time": "2022-04-30T09:07:55.184Z"
   },
   {
    "duration": 18,
    "start_time": "2022-04-30T09:07:55.615Z"
   },
   {
    "duration": 3,
    "start_time": "2022-04-30T09:07:55.823Z"
   },
   {
    "duration": 19,
    "start_time": "2022-04-30T09:07:56.033Z"
   },
   {
    "duration": 3,
    "start_time": "2022-04-30T09:07:56.228Z"
   },
   {
    "duration": 16,
    "start_time": "2022-04-30T09:07:56.432Z"
   },
   {
    "duration": 2,
    "start_time": "2022-04-30T09:07:56.660Z"
   },
   {
    "duration": 13,
    "start_time": "2022-04-30T09:07:57.037Z"
   },
   {
    "duration": 8,
    "start_time": "2022-04-30T09:07:58.309Z"
   },
   {
    "duration": 93,
    "start_time": "2022-04-30T09:07:59.412Z"
   },
   {
    "duration": 9,
    "start_time": "2022-04-30T09:07:59.817Z"
   },
   {
    "duration": 12,
    "start_time": "2022-04-30T09:21:27.451Z"
   },
   {
    "duration": 5,
    "start_time": "2022-04-30T09:21:30.868Z"
   },
   {
    "duration": 13,
    "start_time": "2022-04-30T09:21:31.897Z"
   },
   {
    "duration": 13,
    "start_time": "2022-04-30T09:21:34.484Z"
   },
   {
    "duration": 14,
    "start_time": "2022-04-30T09:21:34.902Z"
   },
   {
    "duration": 5,
    "start_time": "2022-04-30T09:21:35.612Z"
   },
   {
    "duration": 26,
    "start_time": "2022-04-30T09:21:36.204Z"
   },
   {
    "duration": 15,
    "start_time": "2022-04-30T09:23:13.368Z"
   },
   {
    "duration": 1089,
    "start_time": "2022-04-30T09:42:49.573Z"
   },
   {
    "duration": 172,
    "start_time": "2022-04-30T09:42:50.664Z"
   },
   {
    "duration": 15,
    "start_time": "2022-04-30T09:42:50.838Z"
   },
   {
    "duration": 31,
    "start_time": "2022-04-30T09:42:50.854Z"
   },
   {
    "duration": 36,
    "start_time": "2022-04-30T09:42:50.886Z"
   },
   {
    "duration": 4,
    "start_time": "2022-04-30T09:42:50.924Z"
   },
   {
    "duration": 32,
    "start_time": "2022-04-30T09:42:51.082Z"
   },
   {
    "duration": 33,
    "start_time": "2022-04-30T09:42:51.162Z"
   },
   {
    "duration": 26,
    "start_time": "2022-04-30T09:42:51.248Z"
   },
   {
    "duration": 70,
    "start_time": "2022-04-30T09:42:51.498Z"
   },
   {
    "duration": 93,
    "start_time": "2022-04-30T09:42:51.581Z"
   },
   {
    "duration": 66,
    "start_time": "2022-04-30T09:42:51.676Z"
   },
   {
    "duration": 12,
    "start_time": "2022-04-30T09:42:51.830Z"
   },
   {
    "duration": 40,
    "start_time": "2022-04-30T09:42:51.919Z"
   },
   {
    "duration": 46,
    "start_time": "2022-04-30T09:42:52.000Z"
   },
   {
    "duration": 3,
    "start_time": "2022-04-30T09:42:52.166Z"
   },
   {
    "duration": 4,
    "start_time": "2022-04-30T09:42:52.248Z"
   },
   {
    "duration": 619,
    "start_time": "2022-04-30T09:42:52.331Z"
   },
   {
    "duration": 40,
    "start_time": "2022-04-30T09:42:52.952Z"
   },
   {
    "duration": 30,
    "start_time": "2022-04-30T09:42:52.994Z"
   },
   {
    "duration": 12,
    "start_time": "2022-04-30T09:42:53.026Z"
   },
   {
    "duration": 8,
    "start_time": "2022-04-30T09:42:53.256Z"
   },
   {
    "duration": 7,
    "start_time": "2022-04-30T09:42:53.339Z"
   },
   {
    "duration": 7,
    "start_time": "2022-04-30T09:42:53.426Z"
   },
   {
    "duration": 3,
    "start_time": "2022-04-30T09:42:54.601Z"
   },
   {
    "duration": 69,
    "start_time": "2022-04-30T09:42:54.681Z"
   },
   {
    "duration": 6,
    "start_time": "2022-04-30T09:42:54.765Z"
   },
   {
    "duration": 11,
    "start_time": "2022-04-30T09:42:55.184Z"
   },
   {
    "duration": 9,
    "start_time": "2022-04-30T09:42:55.268Z"
   },
   {
    "duration": 3,
    "start_time": "2022-04-30T09:42:55.435Z"
   },
   {
    "duration": 24,
    "start_time": "2022-04-30T09:42:55.603Z"
   },
   {
    "duration": 12,
    "start_time": "2022-04-30T09:42:55.777Z"
   },
   {
    "duration": 17,
    "start_time": "2022-04-30T09:42:55.938Z"
   },
   {
    "duration": 18,
    "start_time": "2022-04-30T09:42:56.106Z"
   },
   {
    "duration": 11,
    "start_time": "2022-04-30T09:42:57.263Z"
   },
   {
    "duration": 4,
    "start_time": "2022-04-30T09:42:57.430Z"
   },
   {
    "duration": 9,
    "start_time": "2022-04-30T09:42:57.514Z"
   },
   {
    "duration": 4,
    "start_time": "2022-04-30T09:42:57.767Z"
   },
   {
    "duration": 4,
    "start_time": "2022-04-30T09:44:11.040Z"
   },
   {
    "duration": 15,
    "start_time": "2022-04-30T09:44:11.627Z"
   },
   {
    "duration": 20,
    "start_time": "2022-04-30T09:44:11.792Z"
   },
   {
    "duration": 17,
    "start_time": "2022-04-30T09:44:11.959Z"
   },
   {
    "duration": 14,
    "start_time": "2022-04-30T09:44:12.127Z"
   },
   {
    "duration": 12,
    "start_time": "2022-04-30T09:44:12.467Z"
   },
   {
    "duration": 4,
    "start_time": "2022-04-30T09:44:12.630Z"
   },
   {
    "duration": 9,
    "start_time": "2022-04-30T09:44:14.316Z"
   },
   {
    "duration": 1173,
    "start_time": "2022-04-30T09:44:32.880Z"
   },
   {
    "duration": 172,
    "start_time": "2022-04-30T09:44:34.055Z"
   },
   {
    "duration": 16,
    "start_time": "2022-04-30T09:44:34.230Z"
   },
   {
    "duration": 40,
    "start_time": "2022-04-30T09:44:34.249Z"
   },
   {
    "duration": 29,
    "start_time": "2022-04-30T09:44:34.292Z"
   },
   {
    "duration": 4,
    "start_time": "2022-04-30T09:44:34.322Z"
   },
   {
    "duration": 25,
    "start_time": "2022-04-30T09:44:34.387Z"
   },
   {
    "duration": 33,
    "start_time": "2022-04-30T09:44:34.469Z"
   },
   {
    "duration": 28,
    "start_time": "2022-04-30T09:44:34.552Z"
   },
   {
    "duration": 69,
    "start_time": "2022-04-30T09:44:34.804Z"
   },
   {
    "duration": 97,
    "start_time": "2022-04-30T09:44:34.887Z"
   },
   {
    "duration": 69,
    "start_time": "2022-04-30T09:44:34.986Z"
   },
   {
    "duration": 13,
    "start_time": "2022-04-30T09:44:35.136Z"
   },
   {
    "duration": 40,
    "start_time": "2022-04-30T09:44:35.221Z"
   },
   {
    "duration": 46,
    "start_time": "2022-04-30T09:44:35.306Z"
   },
   {
    "duration": 3,
    "start_time": "2022-04-30T09:44:35.473Z"
   },
   {
    "duration": 3,
    "start_time": "2022-04-30T09:44:35.558Z"
   },
   {
    "duration": 599,
    "start_time": "2022-04-30T09:44:35.639Z"
   },
   {
    "duration": 40,
    "start_time": "2022-04-30T09:44:36.240Z"
   },
   {
    "duration": 8,
    "start_time": "2022-04-30T09:44:36.282Z"
   },
   {
    "duration": 10,
    "start_time": "2022-04-30T09:44:36.312Z"
   },
   {
    "duration": 7,
    "start_time": "2022-04-30T09:44:36.562Z"
   },
   {
    "duration": 7,
    "start_time": "2022-04-30T09:44:36.647Z"
   },
   {
    "duration": 7,
    "start_time": "2022-04-30T09:44:36.728Z"
   },
   {
    "duration": 2,
    "start_time": "2022-04-30T09:44:36.981Z"
   },
   {
    "duration": 65,
    "start_time": "2022-04-30T09:44:37.064Z"
   },
   {
    "duration": 7,
    "start_time": "2022-04-30T09:44:37.322Z"
   },
   {
    "duration": 10,
    "start_time": "2022-04-30T09:44:38.159Z"
   },
   {
    "duration": 9,
    "start_time": "2022-04-30T09:44:38.240Z"
   },
   {
    "duration": 4,
    "start_time": "2022-04-30T09:44:38.520Z"
   },
   {
    "duration": 18,
    "start_time": "2022-04-30T09:44:39.287Z"
   },
   {
    "duration": 13,
    "start_time": "2022-04-30T09:44:39.456Z"
   },
   {
    "duration": 18,
    "start_time": "2022-04-30T09:44:39.621Z"
   },
   {
    "duration": 12,
    "start_time": "2022-04-30T09:44:40.399Z"
   },
   {
    "duration": 9,
    "start_time": "2022-04-30T09:44:40.732Z"
   },
   {
    "duration": 4,
    "start_time": "2022-04-30T09:44:41.487Z"
   },
   {
    "duration": 7,
    "start_time": "2022-04-30T09:44:41.570Z"
   },
   {
    "duration": 4,
    "start_time": "2022-04-30T09:44:41.819Z"
   },
   {
    "duration": 1176,
    "start_time": "2022-04-30T10:04:07.738Z"
   },
   {
    "duration": 169,
    "start_time": "2022-04-30T10:04:08.917Z"
   },
   {
    "duration": 25,
    "start_time": "2022-04-30T10:04:09.087Z"
   },
   {
    "duration": 39,
    "start_time": "2022-04-30T10:04:09.116Z"
   },
   {
    "duration": 14,
    "start_time": "2022-04-30T10:04:09.157Z"
   },
   {
    "duration": 5,
    "start_time": "2022-04-30T10:04:09.173Z"
   },
   {
    "duration": 27,
    "start_time": "2022-04-30T10:04:09.246Z"
   },
   {
    "duration": 33,
    "start_time": "2022-04-30T10:04:09.334Z"
   },
   {
    "duration": 34,
    "start_time": "2022-04-30T10:04:09.418Z"
   },
   {
    "duration": 78,
    "start_time": "2022-04-30T10:04:09.665Z"
   },
   {
    "duration": 102,
    "start_time": "2022-04-30T10:04:09.747Z"
   },
   {
    "duration": 74,
    "start_time": "2022-04-30T10:04:09.851Z"
   },
   {
    "duration": 13,
    "start_time": "2022-04-30T10:04:09.999Z"
   },
   {
    "duration": 57,
    "start_time": "2022-04-30T10:04:10.084Z"
   },
   {
    "duration": 52,
    "start_time": "2022-04-30T10:04:10.167Z"
   },
   {
    "duration": 3,
    "start_time": "2022-04-30T10:04:10.335Z"
   },
   {
    "duration": 4,
    "start_time": "2022-04-30T10:04:10.416Z"
   },
   {
    "duration": 601,
    "start_time": "2022-04-30T10:04:10.499Z"
   },
   {
    "duration": 58,
    "start_time": "2022-04-30T10:04:11.102Z"
   },
   {
    "duration": 8,
    "start_time": "2022-04-30T10:04:12.400Z"
   },
   {
    "duration": 11,
    "start_time": "2022-04-30T10:04:12.900Z"
   },
   {
    "duration": 8,
    "start_time": "2022-04-30T10:04:13.157Z"
   },
   {
    "duration": 8,
    "start_time": "2022-04-30T10:04:13.240Z"
   },
   {
    "duration": 14,
    "start_time": "2022-04-30T10:04:13.320Z"
   },
   {
    "duration": 3,
    "start_time": "2022-04-30T10:04:13.573Z"
   },
   {
    "duration": 72,
    "start_time": "2022-04-30T10:04:13.657Z"
   },
   {
    "duration": 8,
    "start_time": "2022-04-30T10:04:13.960Z"
   },
   {
    "duration": 13,
    "start_time": "2022-04-30T10:04:15.726Z"
   },
   {
    "duration": 9,
    "start_time": "2022-04-30T10:04:15.931Z"
   },
   {
    "duration": 4,
    "start_time": "2022-04-30T10:04:16.765Z"
   },
   {
    "duration": 25,
    "start_time": "2022-04-30T10:04:18.104Z"
   },
   {
    "duration": 123,
    "start_time": "2022-04-30T10:04:36.530Z"
   },
   {
    "duration": 19,
    "start_time": "2022-04-30T10:05:12.426Z"
   },
   {
    "duration": 16,
    "start_time": "2022-04-30T10:06:12.563Z"
   },
   {
    "duration": 4,
    "start_time": "2022-04-30T10:06:51.042Z"
   },
   {
    "duration": 24,
    "start_time": "2022-04-30T10:09:59.203Z"
   },
   {
    "duration": 24,
    "start_time": "2022-04-30T10:10:30.206Z"
   },
   {
    "duration": 16,
    "start_time": "2022-04-30T10:10:40.257Z"
   },
   {
    "duration": 21,
    "start_time": "2022-04-30T10:11:06.039Z"
   },
   {
    "duration": 24,
    "start_time": "2022-04-30T10:11:36.900Z"
   },
   {
    "duration": 15,
    "start_time": "2022-04-30T10:11:50.659Z"
   },
   {
    "duration": 16,
    "start_time": "2022-04-30T10:16:52.483Z"
   },
   {
    "duration": 22,
    "start_time": "2022-04-30T10:17:42.278Z"
   },
   {
    "duration": 24,
    "start_time": "2022-04-30T10:17:56.834Z"
   },
   {
    "duration": 27,
    "start_time": "2022-04-30T10:19:12.275Z"
   },
   {
    "duration": 436,
    "start_time": "2022-04-30T10:30:20.612Z"
   },
   {
    "duration": 163,
    "start_time": "2022-04-30T10:30:21.050Z"
   },
   {
    "duration": 25,
    "start_time": "2022-04-30T10:30:21.215Z"
   },
   {
    "duration": 32,
    "start_time": "2022-04-30T10:30:21.242Z"
   },
   {
    "duration": 14,
    "start_time": "2022-04-30T10:30:21.365Z"
   },
   {
    "duration": 3,
    "start_time": "2022-04-30T10:30:21.450Z"
   },
   {
    "duration": 39,
    "start_time": "2022-04-30T10:30:21.702Z"
   },
   {
    "duration": 36,
    "start_time": "2022-04-30T10:30:21.787Z"
   },
   {
    "duration": 29,
    "start_time": "2022-04-30T10:30:21.866Z"
   },
   {
    "duration": 82,
    "start_time": "2022-04-30T10:30:22.165Z"
   },
   {
    "duration": 108,
    "start_time": "2022-04-30T10:30:22.264Z"
   },
   {
    "duration": 78,
    "start_time": "2022-04-30T10:30:22.374Z"
   },
   {
    "duration": 13,
    "start_time": "2022-04-30T10:30:22.470Z"
   },
   {
    "duration": 47,
    "start_time": "2022-04-30T10:30:22.572Z"
   },
   {
    "duration": 47,
    "start_time": "2022-04-30T10:30:22.674Z"
   },
   {
    "duration": 3,
    "start_time": "2022-04-30T10:30:22.787Z"
   },
   {
    "duration": 3,
    "start_time": "2022-04-30T10:30:22.871Z"
   },
   {
    "duration": 626,
    "start_time": "2022-04-30T10:30:22.954Z"
   },
   {
    "duration": 63,
    "start_time": "2022-04-30T10:30:23.582Z"
   },
   {
    "duration": 8,
    "start_time": "2022-04-30T10:30:23.647Z"
   },
   {
    "duration": 8,
    "start_time": "2022-04-30T10:30:23.657Z"
   },
   {
    "duration": 8,
    "start_time": "2022-04-30T10:30:23.878Z"
   },
   {
    "duration": 8,
    "start_time": "2022-04-30T10:30:23.960Z"
   },
   {
    "duration": 8,
    "start_time": "2022-04-30T10:30:24.049Z"
   },
   {
    "duration": 3,
    "start_time": "2022-04-30T10:30:24.298Z"
   },
   {
    "duration": 78,
    "start_time": "2022-04-30T10:30:24.383Z"
   },
   {
    "duration": 7,
    "start_time": "2022-04-30T10:30:24.465Z"
   },
   {
    "duration": 11,
    "start_time": "2022-04-30T10:30:24.887Z"
   },
   {
    "duration": 9,
    "start_time": "2022-04-30T10:30:24.968Z"
   },
   {
    "duration": 4,
    "start_time": "2022-04-30T10:30:25.437Z"
   },
   {
    "duration": 16,
    "start_time": "2022-04-30T10:30:25.967Z"
   },
   {
    "duration": 12,
    "start_time": "2022-04-30T10:30:26.695Z"
   },
   {
    "duration": 23,
    "start_time": "2022-04-30T10:30:26.776Z"
   },
   {
    "duration": 16,
    "start_time": "2022-04-30T10:30:26.942Z"
   },
   {
    "duration": 17,
    "start_time": "2022-04-30T10:30:27.111Z"
   },
   {
    "duration": 41,
    "start_time": "2022-04-30T10:30:27.193Z"
   },
   {
    "duration": 10,
    "start_time": "2022-04-30T10:30:28.171Z"
   },
   {
    "duration": 4,
    "start_time": "2022-04-30T10:30:28.336Z"
   },
   {
    "duration": 7,
    "start_time": "2022-04-30T10:30:28.570Z"
   },
   {
    "duration": 7,
    "start_time": "2022-04-30T10:30:29.319Z"
   },
   {
    "duration": 415,
    "start_time": "2022-05-23T19:33:58.009Z"
   },
   {
    "duration": 504,
    "start_time": "2022-05-23T19:33:58.425Z"
   },
   {
    "duration": 15,
    "start_time": "2022-05-23T19:33:58.931Z"
   },
   {
    "duration": 30,
    "start_time": "2022-05-23T19:33:58.948Z"
   },
   {
    "duration": 14,
    "start_time": "2022-05-23T19:33:58.979Z"
   },
   {
    "duration": 9,
    "start_time": "2022-05-23T19:33:58.995Z"
   },
   {
    "duration": 40,
    "start_time": "2022-05-23T19:33:59.084Z"
   },
   {
    "duration": 30,
    "start_time": "2022-05-23T19:33:59.167Z"
   },
   {
    "duration": 32,
    "start_time": "2022-05-23T19:33:59.274Z"
   },
   {
    "duration": 60,
    "start_time": "2022-05-23T19:33:59.498Z"
   },
   {
    "duration": 77,
    "start_time": "2022-05-23T19:33:59.588Z"
   },
   {
    "duration": 60,
    "start_time": "2022-05-23T19:33:59.667Z"
   },
   {
    "duration": 11,
    "start_time": "2022-05-23T19:33:59.856Z"
   },
   {
    "duration": 42,
    "start_time": "2022-05-23T19:33:59.916Z"
   },
   {
    "duration": 36,
    "start_time": "2022-05-23T19:34:00.001Z"
   },
   {
    "duration": 2,
    "start_time": "2022-05-23T19:34:00.169Z"
   },
   {
    "duration": 3,
    "start_time": "2022-05-23T19:34:00.259Z"
   },
   {
    "duration": 549,
    "start_time": "2022-05-23T19:34:00.364Z"
   },
   {
    "duration": 37,
    "start_time": "2022-05-23T19:34:00.915Z"
   },
   {
    "duration": 7,
    "start_time": "2022-05-23T19:34:00.953Z"
   },
   {
    "duration": 7,
    "start_time": "2022-05-23T19:34:01.006Z"
   },
   {
    "duration": 7,
    "start_time": "2022-05-23T19:34:01.258Z"
   },
   {
    "duration": 7,
    "start_time": "2022-05-23T19:34:01.350Z"
   },
   {
    "duration": 7,
    "start_time": "2022-05-23T19:34:01.426Z"
   },
   {
    "duration": 4,
    "start_time": "2022-05-23T19:34:01.688Z"
   },
   {
    "duration": 72,
    "start_time": "2022-05-23T19:34:01.762Z"
   },
   {
    "duration": 7,
    "start_time": "2022-05-23T19:34:01.860Z"
   },
   {
    "duration": 12,
    "start_time": "2022-05-23T19:34:02.265Z"
   },
   {
    "duration": 15,
    "start_time": "2022-05-23T19:34:02.375Z"
   },
   {
    "duration": 4,
    "start_time": "2022-05-23T19:34:02.520Z"
   },
   {
    "duration": 14,
    "start_time": "2022-05-23T19:34:02.688Z"
   },
   {
    "duration": 17,
    "start_time": "2022-05-23T19:34:02.864Z"
   },
   {
    "duration": 29,
    "start_time": "2022-05-23T19:34:02.950Z"
   },
   {
    "duration": 15,
    "start_time": "2022-05-23T19:34:03.103Z"
   },
   {
    "duration": 20,
    "start_time": "2022-05-23T19:34:03.271Z"
   },
   {
    "duration": 29,
    "start_time": "2022-05-23T19:34:03.363Z"
   },
   {
    "duration": 9,
    "start_time": "2022-05-23T19:34:03.691Z"
   },
   {
    "duration": 3,
    "start_time": "2022-05-23T19:34:03.866Z"
   },
   {
    "duration": 9,
    "start_time": "2022-05-23T19:34:03.965Z"
   },
   {
    "duration": 4,
    "start_time": "2022-05-23T19:34:04.192Z"
   }
  ],
  "colab": {
   "collapsed_sections": [
    "E0vqbgi9ay0H",
    "VUC88oWjTJw2"
   ],
   "name": "yandex_music_project.ipynb",
   "provenance": []
  },
  "kernelspec": {
   "display_name": "Python 3 (ipykernel)",
   "language": "python",
   "name": "python3"
  },
  "language_info": {
   "codemirror_mode": {
    "name": "ipython",
    "version": 3
   },
   "file_extension": ".py",
   "mimetype": "text/x-python",
   "name": "python",
   "nbconvert_exporter": "python",
   "pygments_lexer": "ipython3",
   "version": "3.7.0"
  },
  "toc": {
   "base_numbering": 1,
   "nav_menu": {},
   "number_sections": true,
   "sideBar": true,
   "skip_h1_title": true,
   "title_cell": "Содержание",
   "title_sidebar": "Contents",
   "toc_cell": true,
   "toc_position": {
    "height": "678px",
    "left": "25px",
    "top": "111.141px",
    "width": "320.391px"
   },
   "toc_section_display": true,
   "toc_window_display": true
  }
 },
 "nbformat": 4,
 "nbformat_minor": 1
}
