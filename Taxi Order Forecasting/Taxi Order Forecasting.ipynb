{
 "cells": [
  {
   "cell_type": "markdown",
   "metadata": {
    "toc": true
   },
   "source": [
    "<h1>Содержание<span class=\"tocSkip\"></span></h1>\n",
    "<div class=\"toc\"><ul class=\"toc-item\"><li><span><a href=\"#Загрузка-и-просмотр-данных\" data-toc-modified-id=\"Загрузка-и-просмотр-данных-1\"><span class=\"toc-item-num\">1&nbsp;&nbsp;</span>Загрузка и просмотр данных</a></span></li><li><span><a href=\"#Подготовка-данных\" data-toc-modified-id=\"Подготовка-данных-2\"><span class=\"toc-item-num\">2&nbsp;&nbsp;</span>Подготовка данных</a></span><ul class=\"toc-item\"><li><span><a href=\"#Ресемплирование-временного-ряда\" data-toc-modified-id=\"Ресемплирование-временного-ряда-2.1\"><span class=\"toc-item-num\">2.1&nbsp;&nbsp;</span>Ресемплирование временного ряда</a></span></li></ul></li><li><span><a href=\"#Анализ-данных\" data-toc-modified-id=\"Анализ-данных-3\"><span class=\"toc-item-num\">3&nbsp;&nbsp;</span>Анализ данных</a></span><ul class=\"toc-item\"><li><span><a href=\"#Декомпозиция-данных,-проверка-на-тренды-и-сезонность\" data-toc-modified-id=\"Декомпозиция-данных,-проверка-на-тренды-и-сезонность-3.1\"><span class=\"toc-item-num\">3.1&nbsp;&nbsp;</span>Декомпозиция данных, проверка на тренды и сезонность</a></span></li></ul></li><li><span><a href=\"#Создание-и-обучение-моделей\" data-toc-modified-id=\"Создание-и-обучение-моделей-4\"><span class=\"toc-item-num\">4&nbsp;&nbsp;</span>Создание и обучение моделей</a></span><ul class=\"toc-item\"><li><span><a href=\"#Создание-признаков\" data-toc-modified-id=\"Создание-признаков-4.1\"><span class=\"toc-item-num\">4.1&nbsp;&nbsp;</span>Создание признаков</a></span></li><li><span><a href=\"#Обучение\" data-toc-modified-id=\"Обучение-4.2\"><span class=\"toc-item-num\">4.2&nbsp;&nbsp;</span>Обучение</a></span><ul class=\"toc-item\"><li><span><a href=\"#LinearRegression\" data-toc-modified-id=\"LinearRegression-4.2.1\"><span class=\"toc-item-num\">4.2.1&nbsp;&nbsp;</span>LinearRegression</a></span></li><li><span><a href=\"#RandomForestRegressor\" data-toc-modified-id=\"RandomForestRegressor-4.2.2\"><span class=\"toc-item-num\">4.2.2&nbsp;&nbsp;</span>RandomForestRegressor</a></span></li><li><span><a href=\"#LGBMRegressor\" data-toc-modified-id=\"LGBMRegressor-4.2.3\"><span class=\"toc-item-num\">4.2.3&nbsp;&nbsp;</span>LGBMRegressor</a></span></li><li><span><a href=\"#CatBoostRegressor\" data-toc-modified-id=\"CatBoostRegressor-4.2.4\"><span class=\"toc-item-num\">4.2.4&nbsp;&nbsp;</span>CatBoostRegressor</a></span></li></ul></li></ul></li><li><span><a href=\"#Тестирование-моделей,-выбор-лучшей\" data-toc-modified-id=\"Тестирование-моделей,-выбор-лучшей-5\"><span class=\"toc-item-num\">5&nbsp;&nbsp;</span>Тестирование моделей, выбор лучшей</a></span></li><li><span><a href=\"#Вывод\" data-toc-modified-id=\"Вывод-6\"><span class=\"toc-item-num\">6&nbsp;&nbsp;</span>Вывод</a></span></li></ul></div>"
   ]
  },
  {
   "cell_type": "markdown",
   "metadata": {},
   "source": [
    "#  Прогнозирование заказов такси"
   ]
  },
  {
   "cell_type": "markdown",
   "metadata": {},
   "source": [
    "У нас есть исторические данные о заказах такси в аэропортах. Чтобы привлекать больше водителей в период пиковой нагрузки, нужно спрогнозировать количество заказов такси на следующий час.\n",
    "\n",
    "Задача: постройте модель для такого предсказания.\n",
    "\n",
    "Значение метрики *RMSE* на тестовой выборке должно быть не больше 48.\n",
    "\n",
    "Этапы работы:\n",
    "\n",
    "1. Загрузка данных и выполнить их ресемплирование по одному часу.\n",
    "2. Анализ данных.\n",
    "3. Обучение нескольких моделей с различными гиперпараметрами (тестовую выборка - 10% от исходных данных).\n",
    "4. Проверка модели на тестовой выборке.\n",
    "5. Вывод.\n"
   ]
  },
  {
   "cell_type": "markdown",
   "metadata": {},
   "source": [
    "## Загрузка и просмотр данных"
   ]
  },
  {
   "cell_type": "code",
   "execution_count": 1,
   "metadata": {},
   "outputs": [],
   "source": [
    "import pandas as pd\n",
    "import numpy as np\n",
    "from sklearn.model_selection import train_test_split\n",
    "from sklearn.linear_model import LinearRegression\n",
    "from sklearn.metrics import mean_squared_error\n",
    "import matplotlib.pyplot as plt\n",
    "from sklearn.ensemble import RandomForestRegressor\n",
    "from catboost import CatBoostRegressor\n",
    "from lightgbm import LGBMRegressor\n",
    "from statsmodels.tsa.seasonal import seasonal_decompose\n",
    "\n",
    "\n",
    "pd.options.mode.chained_assignment = None\n",
    "\n",
    "\n"
   ]
  },
  {
   "cell_type": "code",
   "execution_count": 2,
   "metadata": {},
   "outputs": [
    {
     "name": "stdout",
     "output_type": "stream",
     "text": [
      "<class 'pandas.core.frame.DataFrame'>\n",
      "DatetimeIndex: 26496 entries, 2018-03-01 00:00:00 to 2018-08-31 23:50:00\n",
      "Data columns (total 1 columns):\n",
      " #   Column      Non-Null Count  Dtype\n",
      "---  ------      --------------  -----\n",
      " 0   num_orders  26496 non-null  int64\n",
      "dtypes: int64(1)\n",
      "memory usage: 414.0 KB\n",
      "\n"
     ]
    },
    {
     "data": {
      "text/html": [
       "<div>\n",
       "<style scoped>\n",
       "    .dataframe tbody tr th:only-of-type {\n",
       "        vertical-align: middle;\n",
       "    }\n",
       "\n",
       "    .dataframe tbody tr th {\n",
       "        vertical-align: top;\n",
       "    }\n",
       "\n",
       "    .dataframe thead th {\n",
       "        text-align: right;\n",
       "    }\n",
       "</style>\n",
       "<table border=\"1\" class=\"dataframe\">\n",
       "  <thead>\n",
       "    <tr style=\"text-align: right;\">\n",
       "      <th></th>\n",
       "      <th>num_orders</th>\n",
       "    </tr>\n",
       "    <tr>\n",
       "      <th>datetime</th>\n",
       "      <th></th>\n",
       "    </tr>\n",
       "  </thead>\n",
       "  <tbody>\n",
       "    <tr>\n",
       "      <th>2018-03-01 00:00:00</th>\n",
       "      <td>9</td>\n",
       "    </tr>\n",
       "    <tr>\n",
       "      <th>2018-03-01 00:10:00</th>\n",
       "      <td>14</td>\n",
       "    </tr>\n",
       "    <tr>\n",
       "      <th>2018-03-01 00:20:00</th>\n",
       "      <td>28</td>\n",
       "    </tr>\n",
       "    <tr>\n",
       "      <th>2018-03-01 00:30:00</th>\n",
       "      <td>20</td>\n",
       "    </tr>\n",
       "    <tr>\n",
       "      <th>2018-03-01 00:40:00</th>\n",
       "      <td>32</td>\n",
       "    </tr>\n",
       "    <tr>\n",
       "      <th>...</th>\n",
       "      <td>...</td>\n",
       "    </tr>\n",
       "    <tr>\n",
       "      <th>2018-08-31 23:10:00</th>\n",
       "      <td>32</td>\n",
       "    </tr>\n",
       "    <tr>\n",
       "      <th>2018-08-31 23:20:00</th>\n",
       "      <td>24</td>\n",
       "    </tr>\n",
       "    <tr>\n",
       "      <th>2018-08-31 23:30:00</th>\n",
       "      <td>27</td>\n",
       "    </tr>\n",
       "    <tr>\n",
       "      <th>2018-08-31 23:40:00</th>\n",
       "      <td>39</td>\n",
       "    </tr>\n",
       "    <tr>\n",
       "      <th>2018-08-31 23:50:00</th>\n",
       "      <td>53</td>\n",
       "    </tr>\n",
       "  </tbody>\n",
       "</table>\n",
       "<p>26496 rows × 1 columns</p>\n",
       "</div>"
      ],
      "text/plain": [
       "                     num_orders\n",
       "datetime                       \n",
       "2018-03-01 00:00:00           9\n",
       "2018-03-01 00:10:00          14\n",
       "2018-03-01 00:20:00          28\n",
       "2018-03-01 00:30:00          20\n",
       "2018-03-01 00:40:00          32\n",
       "...                         ...\n",
       "2018-08-31 23:10:00          32\n",
       "2018-08-31 23:20:00          24\n",
       "2018-08-31 23:30:00          27\n",
       "2018-08-31 23:40:00          39\n",
       "2018-08-31 23:50:00          53\n",
       "\n",
       "[26496 rows x 1 columns]"
      ]
     },
     "metadata": {},
     "output_type": "display_data"
    }
   ],
   "source": [
    "data = pd.read_csv('/datasets/taxi.csv', index_col=[0], parse_dates=[0])\n",
    "data.info()\n",
    "print()\n",
    "display(data)\n"
   ]
  },
  {
   "cell_type": "markdown",
   "metadata": {},
   "source": [
    "## Подготовка данных"
   ]
  },
  {
   "cell_type": "markdown",
   "metadata": {},
   "source": [
    "### Ресемплирование временного ряда"
   ]
  },
  {
   "cell_type": "code",
   "execution_count": 3,
   "metadata": {},
   "outputs": [],
   "source": [
    "data.sort_index(inplace=True)\n",
    "data = data.resample('1H').sum()"
   ]
  },
  {
   "cell_type": "code",
   "execution_count": 4,
   "metadata": {},
   "outputs": [
    {
     "name": "stdout",
     "output_type": "stream",
     "text": [
      "<class 'pandas.core.frame.DataFrame'>\n",
      "DatetimeIndex: 4416 entries, 2018-03-01 00:00:00 to 2018-08-31 23:00:00\n",
      "Freq: H\n",
      "Data columns (total 1 columns):\n",
      " #   Column      Non-Null Count  Dtype\n",
      "---  ------      --------------  -----\n",
      " 0   num_orders  4416 non-null   int64\n",
      "dtypes: int64(1)\n",
      "memory usage: 69.0 KB\n",
      "\n"
     ]
    },
    {
     "data": {
      "text/html": [
       "<div>\n",
       "<style scoped>\n",
       "    .dataframe tbody tr th:only-of-type {\n",
       "        vertical-align: middle;\n",
       "    }\n",
       "\n",
       "    .dataframe tbody tr th {\n",
       "        vertical-align: top;\n",
       "    }\n",
       "\n",
       "    .dataframe thead th {\n",
       "        text-align: right;\n",
       "    }\n",
       "</style>\n",
       "<table border=\"1\" class=\"dataframe\">\n",
       "  <thead>\n",
       "    <tr style=\"text-align: right;\">\n",
       "      <th></th>\n",
       "      <th>num_orders</th>\n",
       "    </tr>\n",
       "    <tr>\n",
       "      <th>datetime</th>\n",
       "      <th></th>\n",
       "    </tr>\n",
       "  </thead>\n",
       "  <tbody>\n",
       "    <tr>\n",
       "      <th>2018-03-01 00:00:00</th>\n",
       "      <td>124</td>\n",
       "    </tr>\n",
       "    <tr>\n",
       "      <th>2018-03-01 01:00:00</th>\n",
       "      <td>85</td>\n",
       "    </tr>\n",
       "    <tr>\n",
       "      <th>2018-03-01 02:00:00</th>\n",
       "      <td>71</td>\n",
       "    </tr>\n",
       "    <tr>\n",
       "      <th>2018-03-01 03:00:00</th>\n",
       "      <td>66</td>\n",
       "    </tr>\n",
       "    <tr>\n",
       "      <th>2018-03-01 04:00:00</th>\n",
       "      <td>43</td>\n",
       "    </tr>\n",
       "    <tr>\n",
       "      <th>...</th>\n",
       "      <td>...</td>\n",
       "    </tr>\n",
       "    <tr>\n",
       "      <th>2018-08-31 19:00:00</th>\n",
       "      <td>136</td>\n",
       "    </tr>\n",
       "    <tr>\n",
       "      <th>2018-08-31 20:00:00</th>\n",
       "      <td>154</td>\n",
       "    </tr>\n",
       "    <tr>\n",
       "      <th>2018-08-31 21:00:00</th>\n",
       "      <td>159</td>\n",
       "    </tr>\n",
       "    <tr>\n",
       "      <th>2018-08-31 22:00:00</th>\n",
       "      <td>223</td>\n",
       "    </tr>\n",
       "    <tr>\n",
       "      <th>2018-08-31 23:00:00</th>\n",
       "      <td>205</td>\n",
       "    </tr>\n",
       "  </tbody>\n",
       "</table>\n",
       "<p>4416 rows × 1 columns</p>\n",
       "</div>"
      ],
      "text/plain": [
       "                     num_orders\n",
       "datetime                       \n",
       "2018-03-01 00:00:00         124\n",
       "2018-03-01 01:00:00          85\n",
       "2018-03-01 02:00:00          71\n",
       "2018-03-01 03:00:00          66\n",
       "2018-03-01 04:00:00          43\n",
       "...                         ...\n",
       "2018-08-31 19:00:00         136\n",
       "2018-08-31 20:00:00         154\n",
       "2018-08-31 21:00:00         159\n",
       "2018-08-31 22:00:00         223\n",
       "2018-08-31 23:00:00         205\n",
       "\n",
       "[4416 rows x 1 columns]"
      ]
     },
     "metadata": {},
     "output_type": "display_data"
    }
   ],
   "source": [
    "data.info()\n",
    "print()\n",
    "display(data)"
   ]
  },
  {
   "cell_type": "code",
   "execution_count": 5,
   "metadata": {},
   "outputs": [
    {
     "name": "stdout",
     "output_type": "stream",
     "text": [
      "num_orders    0\n",
      "dtype: int64\n"
     ]
    }
   ],
   "source": [
    "print(data.isna().sum())\n"
   ]
  },
  {
   "cell_type": "markdown",
   "metadata": {},
   "source": [
    "## Анализ данных"
   ]
  },
  {
   "cell_type": "code",
   "execution_count": 6,
   "metadata": {},
   "outputs": [
    {
     "data": {
      "image/png": "[encoded data removed]",
      "text/plain": [
       "<Figure size 432x288 with 1 Axes>"
      ]
     },
     "metadata": {
      "needs_background": "light"
     },
     "output_type": "display_data"
    }
   ],
   "source": [
    "data.plot()\n",
    "plt.show()\n"
   ]
  },
  {
   "cell_type": "code",
   "execution_count": 7,
   "metadata": {},
   "outputs": [
    {
     "data": {
      "image/png": "[encoded data removed]",
      "text/plain": [
       "<Figure size 432x288 with 1 Axes>"
      ]
     },
     "metadata": {
      "needs_background": "light"
     },
     "output_type": "display_data"
    }
   ],
   "source": [
    "data.resample('1H').sum().plot()\n",
    "plt.show()"
   ]
  },
  {
   "cell_type": "code",
   "execution_count": 8,
   "metadata": {},
   "outputs": [
    {
     "data": {
      "image/png": "[encoded data removed]",
      "text/plain": [
       "<Figure size 432x288 with 1 Axes>"
      ]
     },
     "metadata": {
      "needs_background": "light"
     },
     "output_type": "display_data"
    }
   ],
   "source": [
    "data['rolling_mean'] = data.rolling(10).mean()\n",
    "data.plot()\n",
    "plt.show()"
   ]
  },
  {
   "cell_type": "markdown",
   "metadata": {},
   "source": [
    "### Декомпозиция данных, проверка на тренды и сезонность"
   ]
  },
  {
   "cell_type": "markdown",
   "metadata": {},
   "source": [
    "**Разделение по часу**"
   ]
  },
  {
   "cell_type": "code",
   "execution_count": 9,
   "metadata": {},
   "outputs": [
    {
     "data": {
      "image/png": "[encoded data removed]",
      "text/plain": [
       "<Figure size 432x576 with 2 Axes>"
      ]
     },
     "metadata": {
      "needs_background": "light"
     },
     "output_type": "display_data"
    }
   ],
   "source": [
    "decomposed = seasonal_decompose(data['num_orders'])\n",
    "plt.figure(figsize=(6, 8))\n",
    "plt.subplot(311)\n",
    "decomposed.trend.plot(ax=plt.gca())\n",
    "plt.title('Trend')\n",
    "plt.subplot(312)\n",
    "decomposed.resid.plot(ax=plt.gca())\n",
    "plt.title('Residuals')\n",
    "plt.tight_layout()\n"
   ]
  },
  {
   "cell_type": "markdown",
   "metadata": {},
   "source": [
    "**Разделение по дню**"
   ]
  },
  {
   "cell_type": "code",
   "execution_count": 10,
   "metadata": {},
   "outputs": [
    {
     "data": {
      "image/png": "[encoded data removed]",
      "text/plain": [
       "<Figure size 432x576 with 2 Axes>"
      ]
     },
     "metadata": {
      "needs_background": "light"
     },
     "output_type": "display_data"
    }
   ],
   "source": [
    "dec = seasonal_decompose(data.resample('1D')['num_orders'].sum())\n",
    "plt.figure(figsize=(6, 8))\n",
    "plt.subplot(311)\n",
    "dec.trend.plot(ax=plt.gca())\n",
    "plt.title('Trend')\n",
    "plt.subplot(312)\n",
    "dec.resid.plot(ax=plt.gca())\n",
    "plt.title('Residuals')\n",
    "plt.tight_layout()"
   ]
  },
  {
   "cell_type": "markdown",
   "metadata": {},
   "source": [
    "## Создание и обучение моделей"
   ]
  },
  {
   "cell_type": "markdown",
   "metadata": {},
   "source": [
    "### Создание признаков"
   ]
  },
  {
   "cell_type": "code",
   "execution_count": 11,
   "metadata": {},
   "outputs": [],
   "source": [
    "def make_features(data, max_lag, rolling_mean_size):\n",
    "    data['dayofweek'] = data.index.dayofweek\n",
    "    data['hour'] = data.index.hour\n",
    "    \n",
    "    for lag in range(1, max_lag + 1):\n",
    "        data['lag_{}'.format(lag)] = data['num_orders'].shift(lag)\n",
    "    data['rolling_mean'] = data['num_orders'].shift().rolling(rolling_mean_size).mean()\n",
    "\n",
    "make_features(data, 30, 24)"
   ]
  },
  {
   "cell_type": "code",
   "execution_count": 12,
   "metadata": {},
   "outputs": [
    {
     "data": {
      "text/html": [
       "<div>\n",
       "<style scoped>\n",
       "    .dataframe tbody tr th:only-of-type {\n",
       "        vertical-align: middle;\n",
       "    }\n",
       "\n",
       "    .dataframe tbody tr th {\n",
       "        vertical-align: top;\n",
       "    }\n",
       "\n",
       "    .dataframe thead th {\n",
       "        text-align: right;\n",
       "    }\n",
       "</style>\n",
       "<table border=\"1\" class=\"dataframe\">\n",
       "  <thead>\n",
       "    <tr style=\"text-align: right;\">\n",
       "      <th></th>\n",
       "      <th>num_orders</th>\n",
       "      <th>rolling_mean</th>\n",
       "      <th>dayofweek</th>\n",
       "      <th>hour</th>\n",
       "      <th>lag_1</th>\n",
       "      <th>lag_2</th>\n",
       "      <th>lag_3</th>\n",
       "      <th>lag_4</th>\n",
       "      <th>lag_5</th>\n",
       "      <th>lag_6</th>\n",
       "      <th>...</th>\n",
       "      <th>lag_21</th>\n",
       "      <th>lag_22</th>\n",
       "      <th>lag_23</th>\n",
       "      <th>lag_24</th>\n",
       "      <th>lag_25</th>\n",
       "      <th>lag_26</th>\n",
       "      <th>lag_27</th>\n",
       "      <th>lag_28</th>\n",
       "      <th>lag_29</th>\n",
       "      <th>lag_30</th>\n",
       "    </tr>\n",
       "    <tr>\n",
       "      <th>datetime</th>\n",
       "      <th></th>\n",
       "      <th></th>\n",
       "      <th></th>\n",
       "      <th></th>\n",
       "      <th></th>\n",
       "      <th></th>\n",
       "      <th></th>\n",
       "      <th></th>\n",
       "      <th></th>\n",
       "      <th></th>\n",
       "      <th></th>\n",
       "      <th></th>\n",
       "      <th></th>\n",
       "      <th></th>\n",
       "      <th></th>\n",
       "      <th></th>\n",
       "      <th></th>\n",
       "      <th></th>\n",
       "      <th></th>\n",
       "      <th></th>\n",
       "      <th></th>\n",
       "    </tr>\n",
       "  </thead>\n",
       "  <tbody>\n",
       "    <tr>\n",
       "      <th>2018-03-02 06:00:00</th>\n",
       "      <td>11</td>\n",
       "      <td>56.208333</td>\n",
       "      <td>4</td>\n",
       "      <td>6</td>\n",
       "      <td>11.0</td>\n",
       "      <td>20.0</td>\n",
       "      <td>64.0</td>\n",
       "      <td>75.0</td>\n",
       "      <td>120.0</td>\n",
       "      <td>90.0</td>\n",
       "      <td>...</td>\n",
       "      <td>69.0</td>\n",
       "      <td>34.0</td>\n",
       "      <td>15.0</td>\n",
       "      <td>12.0</td>\n",
       "      <td>6.0</td>\n",
       "      <td>43.0</td>\n",
       "      <td>66.0</td>\n",
       "      <td>71.0</td>\n",
       "      <td>85.0</td>\n",
       "      <td>124.0</td>\n",
       "    </tr>\n",
       "    <tr>\n",
       "      <th>2018-03-02 07:00:00</th>\n",
       "      <td>7</td>\n",
       "      <td>56.166667</td>\n",
       "      <td>4</td>\n",
       "      <td>7</td>\n",
       "      <td>11.0</td>\n",
       "      <td>11.0</td>\n",
       "      <td>20.0</td>\n",
       "      <td>64.0</td>\n",
       "      <td>75.0</td>\n",
       "      <td>120.0</td>\n",
       "      <td>...</td>\n",
       "      <td>64.0</td>\n",
       "      <td>69.0</td>\n",
       "      <td>34.0</td>\n",
       "      <td>15.0</td>\n",
       "      <td>12.0</td>\n",
       "      <td>6.0</td>\n",
       "      <td>43.0</td>\n",
       "      <td>66.0</td>\n",
       "      <td>71.0</td>\n",
       "      <td>85.0</td>\n",
       "    </tr>\n",
       "    <tr>\n",
       "      <th>2018-03-02 08:00:00</th>\n",
       "      <td>46</td>\n",
       "      <td>55.833333</td>\n",
       "      <td>4</td>\n",
       "      <td>8</td>\n",
       "      <td>7.0</td>\n",
       "      <td>11.0</td>\n",
       "      <td>11.0</td>\n",
       "      <td>20.0</td>\n",
       "      <td>64.0</td>\n",
       "      <td>75.0</td>\n",
       "      <td>...</td>\n",
       "      <td>96.0</td>\n",
       "      <td>64.0</td>\n",
       "      <td>69.0</td>\n",
       "      <td>34.0</td>\n",
       "      <td>15.0</td>\n",
       "      <td>12.0</td>\n",
       "      <td>6.0</td>\n",
       "      <td>43.0</td>\n",
       "      <td>66.0</td>\n",
       "      <td>71.0</td>\n",
       "    </tr>\n",
       "    <tr>\n",
       "      <th>2018-03-02 09:00:00</th>\n",
       "      <td>45</td>\n",
       "      <td>56.333333</td>\n",
       "      <td>4</td>\n",
       "      <td>9</td>\n",
       "      <td>46.0</td>\n",
       "      <td>7.0</td>\n",
       "      <td>11.0</td>\n",
       "      <td>11.0</td>\n",
       "      <td>20.0</td>\n",
       "      <td>64.0</td>\n",
       "      <td>...</td>\n",
       "      <td>30.0</td>\n",
       "      <td>96.0</td>\n",
       "      <td>64.0</td>\n",
       "      <td>69.0</td>\n",
       "      <td>34.0</td>\n",
       "      <td>15.0</td>\n",
       "      <td>12.0</td>\n",
       "      <td>6.0</td>\n",
       "      <td>43.0</td>\n",
       "      <td>66.0</td>\n",
       "    </tr>\n",
       "    <tr>\n",
       "      <th>2018-03-02 10:00:00</th>\n",
       "      <td>54</td>\n",
       "      <td>55.333333</td>\n",
       "      <td>4</td>\n",
       "      <td>10</td>\n",
       "      <td>45.0</td>\n",
       "      <td>46.0</td>\n",
       "      <td>7.0</td>\n",
       "      <td>11.0</td>\n",
       "      <td>11.0</td>\n",
       "      <td>20.0</td>\n",
       "      <td>...</td>\n",
       "      <td>32.0</td>\n",
       "      <td>30.0</td>\n",
       "      <td>96.0</td>\n",
       "      <td>64.0</td>\n",
       "      <td>69.0</td>\n",
       "      <td>34.0</td>\n",
       "      <td>15.0</td>\n",
       "      <td>12.0</td>\n",
       "      <td>6.0</td>\n",
       "      <td>43.0</td>\n",
       "    </tr>\n",
       "    <tr>\n",
       "      <th>...</th>\n",
       "      <td>...</td>\n",
       "      <td>...</td>\n",
       "      <td>...</td>\n",
       "      <td>...</td>\n",
       "      <td>...</td>\n",
       "      <td>...</td>\n",
       "      <td>...</td>\n",
       "      <td>...</td>\n",
       "      <td>...</td>\n",
       "      <td>...</td>\n",
       "      <td>...</td>\n",
       "      <td>...</td>\n",
       "      <td>...</td>\n",
       "      <td>...</td>\n",
       "      <td>...</td>\n",
       "      <td>...</td>\n",
       "      <td>...</td>\n",
       "      <td>...</td>\n",
       "      <td>...</td>\n",
       "      <td>...</td>\n",
       "      <td>...</td>\n",
       "    </tr>\n",
       "    <tr>\n",
       "      <th>2018-08-31 19:00:00</th>\n",
       "      <td>136</td>\n",
       "      <td>164.875000</td>\n",
       "      <td>4</td>\n",
       "      <td>19</td>\n",
       "      <td>207.0</td>\n",
       "      <td>217.0</td>\n",
       "      <td>197.0</td>\n",
       "      <td>116.0</td>\n",
       "      <td>133.0</td>\n",
       "      <td>166.0</td>\n",
       "      <td>...</td>\n",
       "      <td>158.0</td>\n",
       "      <td>198.0</td>\n",
       "      <td>142.0</td>\n",
       "      <td>72.0</td>\n",
       "      <td>177.0</td>\n",
       "      <td>342.0</td>\n",
       "      <td>254.0</td>\n",
       "      <td>156.0</td>\n",
       "      <td>91.0</td>\n",
       "      <td>154.0</td>\n",
       "    </tr>\n",
       "    <tr>\n",
       "      <th>2018-08-31 20:00:00</th>\n",
       "      <td>154</td>\n",
       "      <td>167.541667</td>\n",
       "      <td>4</td>\n",
       "      <td>20</td>\n",
       "      <td>136.0</td>\n",
       "      <td>207.0</td>\n",
       "      <td>217.0</td>\n",
       "      <td>197.0</td>\n",
       "      <td>116.0</td>\n",
       "      <td>133.0</td>\n",
       "      <td>...</td>\n",
       "      <td>246.0</td>\n",
       "      <td>158.0</td>\n",
       "      <td>198.0</td>\n",
       "      <td>142.0</td>\n",
       "      <td>72.0</td>\n",
       "      <td>177.0</td>\n",
       "      <td>342.0</td>\n",
       "      <td>254.0</td>\n",
       "      <td>156.0</td>\n",
       "      <td>91.0</td>\n",
       "    </tr>\n",
       "    <tr>\n",
       "      <th>2018-08-31 21:00:00</th>\n",
       "      <td>159</td>\n",
       "      <td>168.041667</td>\n",
       "      <td>4</td>\n",
       "      <td>21</td>\n",
       "      <td>154.0</td>\n",
       "      <td>136.0</td>\n",
       "      <td>207.0</td>\n",
       "      <td>217.0</td>\n",
       "      <td>197.0</td>\n",
       "      <td>116.0</td>\n",
       "      <td>...</td>\n",
       "      <td>276.0</td>\n",
       "      <td>246.0</td>\n",
       "      <td>158.0</td>\n",
       "      <td>198.0</td>\n",
       "      <td>142.0</td>\n",
       "      <td>72.0</td>\n",
       "      <td>177.0</td>\n",
       "      <td>342.0</td>\n",
       "      <td>254.0</td>\n",
       "      <td>156.0</td>\n",
       "    </tr>\n",
       "    <tr>\n",
       "      <th>2018-08-31 22:00:00</th>\n",
       "      <td>223</td>\n",
       "      <td>166.416667</td>\n",
       "      <td>4</td>\n",
       "      <td>22</td>\n",
       "      <td>159.0</td>\n",
       "      <td>154.0</td>\n",
       "      <td>136.0</td>\n",
       "      <td>207.0</td>\n",
       "      <td>217.0</td>\n",
       "      <td>197.0</td>\n",
       "      <td>...</td>\n",
       "      <td>194.0</td>\n",
       "      <td>276.0</td>\n",
       "      <td>246.0</td>\n",
       "      <td>158.0</td>\n",
       "      <td>198.0</td>\n",
       "      <td>142.0</td>\n",
       "      <td>72.0</td>\n",
       "      <td>177.0</td>\n",
       "      <td>342.0</td>\n",
       "      <td>254.0</td>\n",
       "    </tr>\n",
       "    <tr>\n",
       "      <th>2018-08-31 23:00:00</th>\n",
       "      <td>205</td>\n",
       "      <td>169.125000</td>\n",
       "      <td>4</td>\n",
       "      <td>23</td>\n",
       "      <td>223.0</td>\n",
       "      <td>159.0</td>\n",
       "      <td>154.0</td>\n",
       "      <td>136.0</td>\n",
       "      <td>207.0</td>\n",
       "      <td>217.0</td>\n",
       "      <td>...</td>\n",
       "      <td>230.0</td>\n",
       "      <td>194.0</td>\n",
       "      <td>276.0</td>\n",
       "      <td>246.0</td>\n",
       "      <td>158.0</td>\n",
       "      <td>198.0</td>\n",
       "      <td>142.0</td>\n",
       "      <td>72.0</td>\n",
       "      <td>177.0</td>\n",
       "      <td>342.0</td>\n",
       "    </tr>\n",
       "  </tbody>\n",
       "</table>\n",
       "<p>4386 rows × 34 columns</p>\n",
       "</div>"
      ],
      "text/plain": [
       "                     num_orders  rolling_mean  dayofweek  hour  lag_1  lag_2  \\\n",
       "datetime                                                                       \n",
       "2018-03-02 06:00:00          11     56.208333          4     6   11.0   20.0   \n",
       "2018-03-02 07:00:00           7     56.166667          4     7   11.0   11.0   \n",
       "2018-03-02 08:00:00          46     55.833333          4     8    7.0   11.0   \n",
       "2018-03-02 09:00:00          45     56.333333          4     9   46.0    7.0   \n",
       "2018-03-02 10:00:00          54     55.333333          4    10   45.0   46.0   \n",
       "...                         ...           ...        ...   ...    ...    ...   \n",
       "2018-08-31 19:00:00         136    164.875000          4    19  207.0  217.0   \n",
       "2018-08-31 20:00:00         154    167.541667          4    20  136.0  207.0   \n",
       "2018-08-31 21:00:00         159    168.041667          4    21  154.0  136.0   \n",
       "2018-08-31 22:00:00         223    166.416667          4    22  159.0  154.0   \n",
       "2018-08-31 23:00:00         205    169.125000          4    23  223.0  159.0   \n",
       "\n",
       "                     lag_3  lag_4  lag_5  lag_6  ...  lag_21  lag_22  lag_23  \\\n",
       "datetime                                         ...                           \n",
       "2018-03-02 06:00:00   64.0   75.0  120.0   90.0  ...    69.0    34.0    15.0   \n",
       "2018-03-02 07:00:00   20.0   64.0   75.0  120.0  ...    64.0    69.0    34.0   \n",
       "2018-03-02 08:00:00   11.0   20.0   64.0   75.0  ...    96.0    64.0    69.0   \n",
       "2018-03-02 09:00:00   11.0   11.0   20.0   64.0  ...    30.0    96.0    64.0   \n",
       "2018-03-02 10:00:00    7.0   11.0   11.0   20.0  ...    32.0    30.0    96.0   \n",
       "...                    ...    ...    ...    ...  ...     ...     ...     ...   \n",
       "2018-08-31 19:00:00  197.0  116.0  133.0  166.0  ...   158.0   198.0   142.0   \n",
       "2018-08-31 20:00:00  217.0  197.0  116.0  133.0  ...   246.0   158.0   198.0   \n",
       "2018-08-31 21:00:00  207.0  217.0  197.0  116.0  ...   276.0   246.0   158.0   \n",
       "2018-08-31 22:00:00  136.0  207.0  217.0  197.0  ...   194.0   276.0   246.0   \n",
       "2018-08-31 23:00:00  154.0  136.0  207.0  217.0  ...   230.0   194.0   276.0   \n",
       "\n",
       "                     lag_24  lag_25  lag_26  lag_27  lag_28  lag_29  lag_30  \n",
       "datetime                                                                     \n",
       "2018-03-02 06:00:00    12.0     6.0    43.0    66.0    71.0    85.0   124.0  \n",
       "2018-03-02 07:00:00    15.0    12.0     6.0    43.0    66.0    71.0    85.0  \n",
       "2018-03-02 08:00:00    34.0    15.0    12.0     6.0    43.0    66.0    71.0  \n",
       "2018-03-02 09:00:00    69.0    34.0    15.0    12.0     6.0    43.0    66.0  \n",
       "2018-03-02 10:00:00    64.0    69.0    34.0    15.0    12.0     6.0    43.0  \n",
       "...                     ...     ...     ...     ...     ...     ...     ...  \n",
       "2018-08-31 19:00:00    72.0   177.0   342.0   254.0   156.0    91.0   154.0  \n",
       "2018-08-31 20:00:00   142.0    72.0   177.0   342.0   254.0   156.0    91.0  \n",
       "2018-08-31 21:00:00   198.0   142.0    72.0   177.0   342.0   254.0   156.0  \n",
       "2018-08-31 22:00:00   158.0   198.0   142.0    72.0   177.0   342.0   254.0  \n",
       "2018-08-31 23:00:00   246.0   158.0   198.0   142.0    72.0   177.0   342.0  \n",
       "\n",
       "[4386 rows x 34 columns]"
      ]
     },
     "metadata": {},
     "output_type": "display_data"
    }
   ],
   "source": [
    "data = data.dropna()\n",
    "display(data)"
   ]
  },
  {
   "cell_type": "markdown",
   "metadata": {},
   "source": [
    "### Обучение"
   ]
  },
  {
   "cell_type": "code",
   "execution_count": 13,
   "metadata": {},
   "outputs": [],
   "source": [
    "train, test = train_test_split(data, shuffle=False, test_size=0.1)"
   ]
  },
  {
   "cell_type": "code",
   "execution_count": 14,
   "metadata": {},
   "outputs": [],
   "source": [
    "features = train.drop(['num_orders'], axis=1)\n",
    "target = train['num_orders']\n",
    "features_test = test.drop(['num_orders'], axis=1)\n",
    "target_test = test['num_orders']"
   ]
  },
  {
   "cell_type": "code",
   "execution_count": 15,
   "metadata": {},
   "outputs": [],
   "source": [
    "features_train, features_valid, target_train, target_valid = train_test_split(\n",
    "   features, target,  shuffle=False, test_size=0.2)"
   ]
  },
  {
   "cell_type": "markdown",
   "metadata": {},
   "source": [
    "#### LinearRegression"
   ]
  },
  {
   "cell_type": "code",
   "execution_count": 16,
   "metadata": {},
   "outputs": [
    {
     "name": "stdout",
     "output_type": "stream",
     "text": [
      "RMSE модели: 33.343059759765254\n"
     ]
    }
   ],
   "source": [
    "model = LinearRegression()\n",
    "model.fit(features_train, target_train)\n",
    "predictions_valid = model.predict(features_valid)\n",
    "rmse = mean_squared_error(target_valid, predictions_valid)**0.5\n",
    "print('RMSE модели:', rmse)"
   ]
  },
  {
   "cell_type": "markdown",
   "metadata": {},
   "source": [
    "#### RandomForestRegressor"
   ]
  },
  {
   "cell_type": "code",
   "execution_count": 26,
   "metadata": {},
   "outputs": [
    {
     "name": "stdout",
     "output_type": "stream",
     "text": [
      "Лучшее RMSE: 32.34018889471275 best_est: 21 best_depth: 13\n"
     ]
    }
   ],
   "source": [
    "best_result = 1000000\n",
    "best_est = 0\n",
    "best_depth = 0\n",
    "\n",
    "for est in range(15, 25):\n",
    "    for depth in range (10, 20):\n",
    "        model1 = RandomForestRegressor(random_state=12345, n_estimators=est, max_depth=depth)\n",
    "        model1.fit(features_train, target_train)\n",
    "        predictions_valid = model1.predict(features_valid)\n",
    "\n",
    "\n",
    "        rmse = mean_squared_error(target_valid, predictions_valid)**0.5        \n",
    "\n",
    "        result = rmse\n",
    "        \n",
    "        if result < best_result:\n",
    "            best_model = model1\n",
    "            best_result = result\n",
    "            best_est = est\n",
    "            best_depth = depth\n",
    "                    \n",
    "print('Лучшее RMSE:', best_result, 'best_est:', best_est, 'best_depth:', best_depth)"
   ]
  },
  {
   "cell_type": "code",
   "execution_count": 27,
   "metadata": {},
   "outputs": [
    {
     "name": "stdout",
     "output_type": "stream",
     "text": [
      "RMSE модели: 32.34018889471275\n"
     ]
    }
   ],
   "source": [
    "model1 = RandomForestRegressor(random_state=12345, n_estimators=21, max_depth=13)\n",
    "model1.fit(features_train, target_train)\n",
    "predictions_valid = model1.predict(features_valid)\n",
    "rmse = mean_squared_error(target_valid, predictions_valid)**0.5\n",
    "print('RMSE модели:', rmse)"
   ]
  },
  {
   "cell_type": "markdown",
   "metadata": {},
   "source": [
    "#### LGBMRegressor"
   ]
  },
  {
   "cell_type": "code",
   "execution_count": 19,
   "metadata": {},
   "outputs": [
    {
     "name": "stdout",
     "output_type": "stream",
     "text": [
      "RMSE модели: 32.413530214001725\n"
     ]
    }
   ],
   "source": [
    "model2 = LGBMRegressor()\n",
    "model2.fit(features_train, target_train)\n",
    "predictions_valid = model2.predict(features_valid)\n",
    "rmse = mean_squared_error(target_valid, predictions_valid)**0.5\n",
    "print('RMSE модели:', rmse)"
   ]
  },
  {
   "cell_type": "markdown",
   "metadata": {},
   "source": [
    "#### CatBoostRegressor"
   ]
  },
  {
   "cell_type": "code",
   "execution_count": 39,
   "metadata": {},
   "outputs": [
    {
     "name": "stdout",
     "output_type": "stream",
     "text": [
      "RMSE модели: 32.097766739339896 3\n",
      "RMSE модели: 32.25767197698645 4\n",
      "RMSE модели: 32.650879301824624 5\n",
      "RMSE модели: 32.614608428464905 6\n",
      "RMSE модели: 32.94176094821556 7\n",
      "RMSE модели: 33.25641665288994 8\n"
     ]
    }
   ],
   "source": [
    "for depth in range (3, 9):\n",
    "    model3 = CatBoostRegressor(iterations=100, learning_rate=0.26, depth=depth, verbose=False) \n",
    "    model3.fit(features_train, target_train) \n",
    "    pred_valid = model3.predict(features_valid) \n",
    "    rmse = mean_squared_error(target_valid, pred_valid)**0.5\n",
    "            \n",
    "    print('RMSE модели:', rmse, depth)"
   ]
  },
  {
   "cell_type": "code",
   "execution_count": 40,
   "metadata": {},
   "outputs": [
    {
     "name": "stdout",
     "output_type": "stream",
     "text": [
      "RMSE модели: 32.097766739339896\n"
     ]
    }
   ],
   "source": [
    "model3 = CatBoostRegressor(iterations=100, learning_rate=0.26, depth=3, verbose=False) \n",
    "model3.fit(features_train, target_train) \n",
    "pred_valid = model3.predict(features_valid) \n",
    "rmse = mean_squared_error(target_valid, pred_valid)**0.5\n",
    "            \n",
    "print('RMSE модели:', rmse)"
   ]
  },
  {
   "cell_type": "markdown",
   "metadata": {},
   "source": [
    "## Тестирование моделей, выбор лучшей"
   ]
  },
  {
   "cell_type": "markdown",
   "metadata": {},
   "source": [
    "LinearRegression"
   ]
  },
  {
   "cell_type": "code",
   "execution_count": 41,
   "metadata": {},
   "outputs": [
    {
     "name": "stdout",
     "output_type": "stream",
     "text": [
      "RMSE модели: 46.91945394258307\n"
     ]
    }
   ],
   "source": [
    "predictions_test = model.predict(features_test)\n",
    "rmse = mean_squared_error(target_test, predictions_test)**0.5\n",
    "print('RMSE модели:', rmse)"
   ]
  },
  {
   "cell_type": "markdown",
   "metadata": {},
   "source": [
    "RandomForestRegressor"
   ]
  },
  {
   "cell_type": "code",
   "execution_count": 42,
   "metadata": {},
   "outputs": [
    {
     "name": "stdout",
     "output_type": "stream",
     "text": [
      "RMSE модели: 54.43879714814619\n"
     ]
    }
   ],
   "source": [
    "predictions_test = model1.predict(features_test)\n",
    "rmse = mean_squared_error(target_test, predictions_test)**0.5\n",
    "print('RMSE модели:', rmse)"
   ]
  },
  {
   "cell_type": "markdown",
   "metadata": {},
   "source": [
    "LGBMRegressor"
   ]
  },
  {
   "cell_type": "code",
   "execution_count": 43,
   "metadata": {},
   "outputs": [
    {
     "name": "stdout",
     "output_type": "stream",
     "text": [
      "RMSE модели: 57.82719056798602\n"
     ]
    }
   ],
   "source": [
    "predictions_test = model2.predict(features_test)\n",
    "rmse = mean_squared_error(target_test, predictions_test)**0.5\n",
    "print('RMSE модели:', rmse)"
   ]
  },
  {
   "cell_type": "markdown",
   "metadata": {},
   "source": [
    "CatBoostRegressor"
   ]
  },
  {
   "cell_type": "code",
   "execution_count": 44,
   "metadata": {},
   "outputs": [
    {
     "name": "stdout",
     "output_type": "stream",
     "text": [
      "RMSE модели: 54.32735086170757\n"
     ]
    }
   ],
   "source": [
    "predictions_test = model3.predict(features_test)\n",
    "rmse = mean_squared_error(target_test, predictions_test)**0.5\n",
    "print('RMSE модели:', rmse)"
   ]
  },
  {
   "cell_type": "markdown",
   "metadata": {},
   "source": [
    "Лучшая модель - LinearRegression: "
   ]
  },
  {
   "cell_type": "code",
   "execution_count": 45,
   "metadata": {},
   "outputs": [
    {
     "name": "stdout",
     "output_type": "stream",
     "text": [
      "RMSE модели: 46.91945394258307\n"
     ]
    },
    {
     "data": {
      "image/png": "[encoded data removed]",
      "text/plain": [
       "<Figure size 432x288 with 1 Axes>"
      ]
     },
     "metadata": {
      "needs_background": "light"
     },
     "output_type": "display_data"
    }
   ],
   "source": [
    "predictions_test = model.predict(features_test)\n",
    "rmse = mean_squared_error(target_test, predictions_test)**0.5\n",
    "print('RMSE модели:', rmse)\n",
    "test['predictions_test'] = predictions_test \n",
    "test['predictions_test'].plot()\n",
    "target_test.plot()\n",
    "plt.show()"
   ]
  },
  {
   "cell_type": "markdown",
   "metadata": {},
   "source": [
    "## Вывод"
   ]
  },
  {
   "cell_type": "markdown",
   "metadata": {},
   "source": [
    "Модель для прогноза временного ряда из нашей задачи построена.\n",
    "\n",
    "Точность предсказания этой модели достаточная для решения нашей задачи (RMSE модели: 46.9).\n",
    "\n",
    "Вот такие дела."
   ]
  }
 ],
 "metadata": {
  "ExecuteTimeLog": [
   {
    "duration": 1040,
    "start_time": "2021-12-02T14:45:17.128Z"
   },
   {
    "duration": 47,
    "start_time": "2021-12-02T14:45:18.170Z"
   },
   {
    "duration": 328,
    "start_time": "2021-12-02T14:45:55.518Z"
   },
   {
    "duration": 466,
    "start_time": "2021-12-02T14:45:55.382Z"
   },
   {
    "duration": 4,
    "start_time": "2021-12-02T14:46:23.657Z"
   },
   {
    "duration": 50,
    "start_time": "2021-12-02T14:46:23.934Z"
   },
   {
    "duration": 9,
    "start_time": "2021-12-02T14:46:24.291Z"
   },
   {
    "duration": 13,
    "start_time": "2021-12-02T14:46:24.857Z"
   },
   {
    "duration": 280,
    "start_time": "2021-12-02T14:47:16.293Z"
   },
   {
    "duration": 5,
    "start_time": "2021-12-02T14:47:22.628Z"
   },
   {
    "duration": 49,
    "start_time": "2021-12-02T14:47:44.805Z"
   },
   {
    "duration": 1065,
    "start_time": "2021-12-02T14:48:42.882Z"
   },
   {
    "duration": 72,
    "start_time": "2021-12-02T14:48:43.950Z"
   },
   {
    "duration": 15,
    "start_time": "2021-12-02T14:48:44.024Z"
   },
   {
    "duration": 52,
    "start_time": "2021-12-02T14:49:07.668Z"
   },
   {
    "duration": 10,
    "start_time": "2021-12-02T14:49:07.722Z"
   },
   {
    "duration": 11,
    "start_time": "2021-12-02T14:49:07.790Z"
   },
   {
    "duration": 10,
    "start_time": "2021-12-02T14:49:07.977Z"
   },
   {
    "duration": 1220,
    "start_time": "2021-12-02T18:10:04.381Z"
   },
   {
    "duration": 33,
    "start_time": "2021-12-02T18:10:05.603Z"
   },
   {
    "duration": 20,
    "start_time": "2021-12-02T18:10:05.638Z"
   },
   {
    "duration": 43,
    "start_time": "2021-12-02T18:10:05.677Z"
   },
   {
    "duration": 9,
    "start_time": "2021-12-02T18:10:05.722Z"
   },
   {
    "duration": 39,
    "start_time": "2021-12-02T18:10:05.733Z"
   },
   {
    "duration": 7,
    "start_time": "2021-12-02T18:10:05.864Z"
   },
   {
    "duration": 426,
    "start_time": "2021-12-02T18:10:48.525Z"
   },
   {
    "duration": 849,
    "start_time": "2021-12-02T18:12:00.241Z"
   },
   {
    "duration": 547,
    "start_time": "2021-12-02T18:12:25.269Z"
   },
   {
    "duration": 717,
    "start_time": "2021-12-02T18:12:35.804Z"
   },
   {
    "duration": 536,
    "start_time": "2021-12-02T18:12:45.255Z"
   },
   {
    "duration": 316,
    "start_time": "2021-12-02T18:12:48.759Z"
   },
   {
    "duration": 216,
    "start_time": "2021-12-02T18:12:57.281Z"
   },
   {
    "duration": 291,
    "start_time": "2021-12-02T18:13:04.258Z"
   },
   {
    "duration": 570,
    "start_time": "2021-12-02T18:13:19.069Z"
   },
   {
    "duration": 1158,
    "start_time": "2021-12-02T18:13:40.440Z"
   },
   {
    "duration": 34,
    "start_time": "2021-12-02T18:13:41.600Z"
   },
   {
    "duration": 24,
    "start_time": "2021-12-02T18:13:41.638Z"
   },
   {
    "duration": 44,
    "start_time": "2021-12-02T18:13:41.665Z"
   },
   {
    "duration": 32,
    "start_time": "2021-12-02T18:13:41.713Z"
   },
   {
    "duration": 22,
    "start_time": "2021-12-02T18:13:41.750Z"
   },
   {
    "duration": 5,
    "start_time": "2021-12-02T18:13:41.775Z"
   },
   {
    "duration": 331,
    "start_time": "2021-12-02T18:13:41.895Z"
   },
   {
    "duration": 312,
    "start_time": "2021-12-02T18:15:14.447Z"
   },
   {
    "duration": 282,
    "start_time": "2021-12-02T18:15:25.538Z"
   },
   {
    "duration": 185,
    "start_time": "2021-12-02T18:15:37.224Z"
   },
   {
    "duration": 179,
    "start_time": "2021-12-02T18:15:43.644Z"
   },
   {
    "duration": 841,
    "start_time": "2021-12-02T18:17:26.077Z"
   },
   {
    "duration": 250,
    "start_time": "2021-12-02T18:17:49.655Z"
   },
   {
    "duration": 359,
    "start_time": "2021-12-02T18:17:59.930Z"
   },
   {
    "duration": 1585,
    "start_time": "2021-12-04T11:39:04.464Z"
   },
   {
    "duration": 213,
    "start_time": "2021-12-04T11:39:06.051Z"
   },
   {
    "duration": 24,
    "start_time": "2021-12-04T11:39:06.267Z"
   },
   {
    "duration": 64,
    "start_time": "2021-12-04T11:39:08.105Z"
   },
   {
    "duration": 16,
    "start_time": "2021-12-04T11:39:08.377Z"
   },
   {
    "duration": 17,
    "start_time": "2021-12-04T11:39:08.592Z"
   },
   {
    "duration": 7,
    "start_time": "2021-12-04T11:39:08.869Z"
   },
   {
    "duration": 457,
    "start_time": "2021-12-04T11:39:09.698Z"
   },
   {
    "duration": 450,
    "start_time": "2021-12-04T11:39:10.286Z"
   },
   {
    "duration": 737,
    "start_time": "2021-12-04T11:39:10.941Z"
   },
   {
    "duration": 12485,
    "start_time": "2021-12-04T11:39:21.767Z"
   },
   {
    "duration": 18,
    "start_time": "2021-12-04T11:40:03.635Z"
   },
   {
    "duration": 32,
    "start_time": "2021-12-04T11:40:55.484Z"
   },
   {
    "duration": 1498,
    "start_time": "2021-12-04T11:45:28.998Z"
   },
   {
    "duration": 39,
    "start_time": "2021-12-04T11:45:30.499Z"
   },
   {
    "duration": 21,
    "start_time": "2021-12-04T11:45:30.541Z"
   },
   {
    "duration": 54,
    "start_time": "2021-12-04T11:45:30.565Z"
   },
   {
    "duration": 13,
    "start_time": "2021-12-04T11:45:30.662Z"
   },
   {
    "duration": 17,
    "start_time": "2021-12-04T11:45:30.925Z"
   },
   {
    "duration": 6,
    "start_time": "2021-12-04T11:45:31.208Z"
   },
   {
    "duration": 450,
    "start_time": "2021-12-04T11:45:31.842Z"
   },
   {
    "duration": 462,
    "start_time": "2021-12-04T11:45:32.294Z"
   },
   {
    "duration": 492,
    "start_time": "2021-12-04T11:45:32.760Z"
   },
   {
    "duration": 25,
    "start_time": "2021-12-04T11:45:33.850Z"
   },
   {
    "duration": 33,
    "start_time": "2021-12-04T11:45:34.451Z"
   },
   {
    "duration": 1831,
    "start_time": "2021-12-04T11:55:19.358Z"
   },
   {
    "duration": 39,
    "start_time": "2021-12-04T11:55:21.192Z"
   },
   {
    "duration": 34,
    "start_time": "2021-12-04T11:55:21.235Z"
   },
   {
    "duration": 53,
    "start_time": "2021-12-04T11:55:21.272Z"
   },
   {
    "duration": 38,
    "start_time": "2021-12-04T11:55:21.328Z"
   },
   {
    "duration": 15,
    "start_time": "2021-12-04T11:55:21.368Z"
   },
   {
    "duration": 6,
    "start_time": "2021-12-04T11:55:21.386Z"
   },
   {
    "duration": 611,
    "start_time": "2021-12-04T11:55:21.396Z"
   },
   {
    "duration": 538,
    "start_time": "2021-12-04T11:55:22.011Z"
   },
   {
    "duration": 499,
    "start_time": "2021-12-04T11:55:22.552Z"
   },
   {
    "duration": 24,
    "start_time": "2021-12-04T11:55:23.058Z"
   },
   {
    "duration": 35,
    "start_time": "2021-12-04T11:55:23.085Z"
   },
   {
    "duration": 3241,
    "start_time": "2021-12-04T11:59:10.066Z"
   },
   {
    "duration": 53,
    "start_time": "2021-12-04T11:59:13.311Z"
   },
   {
    "duration": 33,
    "start_time": "2021-12-04T11:59:13.369Z"
   },
   {
    "duration": 108,
    "start_time": "2021-12-04T11:59:13.406Z"
   },
   {
    "duration": 20,
    "start_time": "2021-12-04T11:59:13.518Z"
   },
   {
    "duration": 40,
    "start_time": "2021-12-04T11:59:13.542Z"
   },
   {
    "duration": 9,
    "start_time": "2021-12-04T11:59:13.585Z"
   },
   {
    "duration": 846,
    "start_time": "2021-12-04T11:59:13.599Z"
   },
   {
    "duration": 804,
    "start_time": "2021-12-04T11:59:14.458Z"
   },
   {
    "duration": 875,
    "start_time": "2021-12-04T11:59:15.265Z"
   },
   {
    "duration": 49,
    "start_time": "2021-12-04T11:59:16.143Z"
   },
   {
    "duration": 65,
    "start_time": "2021-12-04T11:59:16.195Z"
   },
   {
    "duration": 16,
    "start_time": "2021-12-04T11:59:16.264Z"
   },
   {
    "duration": 10,
    "start_time": "2021-12-04T11:59:16.284Z"
   },
   {
    "duration": 761,
    "start_time": "2021-12-04T11:59:16.300Z"
   },
   {
    "duration": -301,
    "start_time": "2021-12-04T11:59:17.365Z"
   },
   {
    "duration": 1597,
    "start_time": "2021-12-04T12:01:45.544Z"
   },
   {
    "duration": 40,
    "start_time": "2021-12-04T12:01:47.143Z"
   },
   {
    "duration": 20,
    "start_time": "2021-12-04T12:01:47.186Z"
   },
   {
    "duration": 81,
    "start_time": "2021-12-04T12:01:47.209Z"
   },
   {
    "duration": 16,
    "start_time": "2021-12-04T12:01:47.293Z"
   },
   {
    "duration": 21,
    "start_time": "2021-12-04T12:01:47.311Z"
   },
   {
    "duration": 6,
    "start_time": "2021-12-04T12:01:47.359Z"
   },
   {
    "duration": 490,
    "start_time": "2021-12-04T12:01:47.369Z"
   },
   {
    "duration": 466,
    "start_time": "2021-12-04T12:01:47.862Z"
   },
   {
    "duration": 509,
    "start_time": "2021-12-04T12:01:48.331Z"
   },
   {
    "duration": 38,
    "start_time": "2021-12-04T12:01:48.842Z"
   },
   {
    "duration": 36,
    "start_time": "2021-12-04T12:01:48.883Z"
   },
   {
    "duration": 43,
    "start_time": "2021-12-04T12:01:48.922Z"
   },
   {
    "duration": 8,
    "start_time": "2021-12-04T12:01:48.967Z"
   },
   {
    "duration": 9,
    "start_time": "2021-12-04T12:01:48.979Z"
   },
   {
    "duration": 516,
    "start_time": "2021-12-04T12:01:48.992Z"
   },
   {
    "duration": -23,
    "start_time": "2021-12-04T12:01:49.534Z"
   },
   {
    "duration": 1510,
    "start_time": "2021-12-04T12:06:48.771Z"
   },
   {
    "duration": 41,
    "start_time": "2021-12-04T12:06:50.283Z"
   },
   {
    "duration": 21,
    "start_time": "2021-12-04T12:06:50.327Z"
   },
   {
    "duration": 55,
    "start_time": "2021-12-04T12:06:50.358Z"
   },
   {
    "duration": 15,
    "start_time": "2021-12-04T12:06:50.415Z"
   },
   {
    "duration": 42,
    "start_time": "2021-12-04T12:06:50.432Z"
   },
   {
    "duration": 7,
    "start_time": "2021-12-04T12:06:50.476Z"
   },
   {
    "duration": 495,
    "start_time": "2021-12-04T12:06:50.487Z"
   },
   {
    "duration": 480,
    "start_time": "2021-12-04T12:06:50.985Z"
   },
   {
    "duration": 517,
    "start_time": "2021-12-04T12:06:51.468Z"
   },
   {
    "duration": 24,
    "start_time": "2021-12-04T12:06:51.987Z"
   },
   {
    "duration": 50,
    "start_time": "2021-12-04T12:06:52.014Z"
   },
   {
    "duration": 10,
    "start_time": "2021-12-04T12:06:52.067Z"
   },
   {
    "duration": 7,
    "start_time": "2021-12-04T12:06:52.080Z"
   },
   {
    "duration": 10,
    "start_time": "2021-12-04T12:06:52.090Z"
   },
   {
    "duration": 125,
    "start_time": "2021-12-04T12:06:52.589Z"
   },
   {
    "duration": 517,
    "start_time": "2021-12-04T12:07:03.763Z"
   },
   {
    "duration": 2149,
    "start_time": "2021-12-04T12:08:29.366Z"
   },
   {
    "duration": 45,
    "start_time": "2021-12-04T12:08:31.517Z"
   },
   {
    "duration": 22,
    "start_time": "2021-12-04T12:08:31.566Z"
   },
   {
    "duration": 76,
    "start_time": "2021-12-04T12:08:31.591Z"
   },
   {
    "duration": 14,
    "start_time": "2021-12-04T12:08:31.669Z"
   },
   {
    "duration": 17,
    "start_time": "2021-12-04T12:08:31.686Z"
   },
   {
    "duration": 10,
    "start_time": "2021-12-04T12:08:31.705Z"
   },
   {
    "duration": 785,
    "start_time": "2021-12-04T12:08:31.720Z"
   },
   {
    "duration": 739,
    "start_time": "2021-12-04T12:08:32.509Z"
   },
   {
    "duration": 825,
    "start_time": "2021-12-04T12:08:33.251Z"
   },
   {
    "duration": 37,
    "start_time": "2021-12-04T12:08:34.079Z"
   },
   {
    "duration": 64,
    "start_time": "2021-12-04T12:08:34.119Z"
   },
   {
    "duration": 11,
    "start_time": "2021-12-04T12:08:34.186Z"
   },
   {
    "duration": 8,
    "start_time": "2021-12-04T12:08:34.199Z"
   },
   {
    "duration": 11,
    "start_time": "2021-12-04T12:08:34.210Z"
   },
   {
    "duration": 50,
    "start_time": "2021-12-04T12:08:34.226Z"
   },
   {
    "duration": 188,
    "start_time": "2021-12-04T12:08:34.280Z"
   },
   {
    "duration": 134,
    "start_time": "2021-12-07T07:53:25.746Z"
   },
   {
    "duration": 555,
    "start_time": "2021-12-07T07:53:26.226Z"
   },
   {
    "duration": 3095,
    "start_time": "2021-12-07T07:53:23.688Z"
   },
   {
    "duration": 3095,
    "start_time": "2021-12-07T07:53:23.689Z"
   },
   {
    "duration": 3094,
    "start_time": "2021-12-07T07:53:23.691Z"
   },
   {
    "duration": 3043,
    "start_time": "2021-12-07T07:53:23.742Z"
   },
   {
    "duration": 3042,
    "start_time": "2021-12-07T07:53:23.744Z"
   },
   {
    "duration": 1228,
    "start_time": "2021-12-07T07:53:40.096Z"
   },
   {
    "duration": 307,
    "start_time": "2021-12-07T07:53:41.326Z"
   },
   {
    "duration": 18,
    "start_time": "2021-12-07T07:53:42.195Z"
   },
   {
    "duration": 50,
    "start_time": "2021-12-07T07:53:42.452Z"
   },
   {
    "duration": 10,
    "start_time": "2021-12-07T07:53:42.955Z"
   },
   {
    "duration": 11,
    "start_time": "2021-12-07T07:53:43.035Z"
   },
   {
    "duration": 5,
    "start_time": "2021-12-07T07:53:43.122Z"
   },
   {
    "duration": 306,
    "start_time": "2021-12-07T07:53:43.287Z"
   },
   {
    "duration": 328,
    "start_time": "2021-12-07T07:53:43.594Z"
   },
   {
    "duration": 329,
    "start_time": "2021-12-07T07:53:43.924Z"
   },
   {
    "duration": 15,
    "start_time": "2021-12-07T07:53:44.256Z"
   },
   {
    "duration": 37,
    "start_time": "2021-12-07T07:53:44.272Z"
   },
   {
    "duration": 8,
    "start_time": "2021-12-07T07:53:44.310Z"
   },
   {
    "duration": 65,
    "start_time": "2021-12-07T07:53:44.320Z"
   },
   {
    "duration": 8,
    "start_time": "2021-12-07T07:53:44.408Z"
   },
   {
    "duration": 99,
    "start_time": "2021-12-07T07:53:44.419Z"
   },
   {
    "duration": 82,
    "start_time": "2021-12-07T07:53:44.528Z"
   },
   {
    "duration": 3017,
    "start_time": "2021-12-07T07:53:44.613Z"
   },
   {
    "duration": 1249,
    "start_time": "2021-12-07T08:00:20.300Z"
   },
   {
    "duration": 33,
    "start_time": "2021-12-07T08:00:21.551Z"
   },
   {
    "duration": 21,
    "start_time": "2021-12-07T08:00:21.586Z"
   },
   {
    "duration": 36,
    "start_time": "2021-12-07T08:00:21.610Z"
   },
   {
    "duration": 11,
    "start_time": "2021-12-07T08:00:21.648Z"
   },
   {
    "duration": 11,
    "start_time": "2021-12-07T08:00:21.661Z"
   },
   {
    "duration": 34,
    "start_time": "2021-12-07T08:00:21.674Z"
   },
   {
    "duration": 318,
    "start_time": "2021-12-07T08:00:21.712Z"
   },
   {
    "duration": 310,
    "start_time": "2021-12-07T08:00:22.032Z"
   },
   {
    "duration": 323,
    "start_time": "2021-12-07T08:00:22.344Z"
   },
   {
    "duration": 14,
    "start_time": "2021-12-07T08:00:22.669Z"
   },
   {
    "duration": 38,
    "start_time": "2021-12-07T08:00:22.685Z"
   },
   {
    "duration": 8,
    "start_time": "2021-12-07T08:00:22.724Z"
   },
   {
    "duration": 6,
    "start_time": "2021-12-07T08:00:22.733Z"
   },
   {
    "duration": 84,
    "start_time": "2021-12-07T08:00:22.741Z"
   },
   {
    "duration": 9,
    "start_time": "2021-12-07T08:00:22.827Z"
   },
   {
    "duration": 174,
    "start_time": "2021-12-07T08:00:22.838Z"
   },
   {
    "duration": 2676,
    "start_time": "2021-12-07T08:00:23.150Z"
   },
   {
    "duration": 4625,
    "start_time": "2021-12-07T08:01:26.196Z"
   },
   {
    "duration": 1243,
    "start_time": "2021-12-07T08:02:06.496Z"
   },
   {
    "duration": 33,
    "start_time": "2021-12-07T08:02:07.741Z"
   },
   {
    "duration": 15,
    "start_time": "2021-12-07T08:02:07.776Z"
   },
   {
    "duration": 51,
    "start_time": "2021-12-07T08:02:07.794Z"
   },
   {
    "duration": 10,
    "start_time": "2021-12-07T08:02:07.847Z"
   },
   {
    "duration": 11,
    "start_time": "2021-12-07T08:02:07.858Z"
   },
   {
    "duration": 5,
    "start_time": "2021-12-07T08:02:07.870Z"
   },
   {
    "duration": 337,
    "start_time": "2021-12-07T08:02:07.877Z"
   },
   {
    "duration": 349,
    "start_time": "2021-12-07T08:02:08.217Z"
   },
   {
    "duration": 331,
    "start_time": "2021-12-07T08:02:08.568Z"
   },
   {
    "duration": 19,
    "start_time": "2021-12-07T08:02:08.901Z"
   },
   {
    "duration": 25,
    "start_time": "2021-12-07T08:02:08.922Z"
   },
   {
    "duration": 8,
    "start_time": "2021-12-07T08:02:08.948Z"
   },
   {
    "duration": 6,
    "start_time": "2021-12-07T08:02:08.957Z"
   },
   {
    "duration": 7,
    "start_time": "2021-12-07T08:02:09.205Z"
   },
   {
    "duration": 2,
    "start_time": "2021-12-07T08:02:10.172Z"
   },
   {
    "duration": 3,
    "start_time": "2021-12-07T08:02:10.405Z"
   },
   {
    "duration": 545,
    "start_time": "2021-12-07T08:02:11.222Z"
   },
   {
    "duration": 352,
    "start_time": "2021-12-07T08:02:30.921Z"
   },
   {
    "duration": 1228,
    "start_time": "2021-12-07T08:03:26.095Z"
   },
   {
    "duration": 33,
    "start_time": "2021-12-07T08:03:27.325Z"
   },
   {
    "duration": 14,
    "start_time": "2021-12-07T08:03:27.360Z"
   },
   {
    "duration": 47,
    "start_time": "2021-12-07T08:03:27.376Z"
   },
   {
    "duration": 10,
    "start_time": "2021-12-07T08:03:27.425Z"
   },
   {
    "duration": 11,
    "start_time": "2021-12-07T08:03:27.436Z"
   },
   {
    "duration": 4,
    "start_time": "2021-12-07T08:03:27.449Z"
   },
   {
    "duration": 312,
    "start_time": "2021-12-07T08:03:27.455Z"
   },
   {
    "duration": 293,
    "start_time": "2021-12-07T08:03:27.770Z"
   },
   {
    "duration": 334,
    "start_time": "2021-12-07T08:03:28.065Z"
   },
   {
    "duration": 19,
    "start_time": "2021-12-07T08:03:28.408Z"
   },
   {
    "duration": 20,
    "start_time": "2021-12-07T08:03:28.429Z"
   },
   {
    "duration": 7,
    "start_time": "2021-12-07T08:03:28.451Z"
   },
   {
    "duration": 98,
    "start_time": "2021-12-07T08:03:28.459Z"
   },
   {
    "duration": 6,
    "start_time": "2021-12-07T08:03:28.559Z"
   },
   {
    "duration": 3,
    "start_time": "2021-12-07T08:03:29.405Z"
   },
   {
    "duration": 2,
    "start_time": "2021-12-07T08:03:29.698Z"
   },
   {
    "duration": 17781,
    "start_time": "2021-12-07T08:03:30.196Z"
   },
   {
    "duration": 18244,
    "start_time": "2021-12-07T08:04:34.562Z"
   },
   {
    "duration": 1227,
    "start_time": "2021-12-07T08:05:08.124Z"
   },
   {
    "duration": 36,
    "start_time": "2021-12-07T08:05:09.352Z"
   },
   {
    "duration": 18,
    "start_time": "2021-12-07T08:05:09.391Z"
   },
   {
    "duration": 42,
    "start_time": "2021-12-07T08:05:09.412Z"
   },
   {
    "duration": 11,
    "start_time": "2021-12-07T08:05:09.456Z"
   },
   {
    "duration": 20,
    "start_time": "2021-12-07T08:05:09.489Z"
   },
   {
    "duration": 8,
    "start_time": "2021-12-07T08:05:09.712Z"
   },
   {
    "duration": 306,
    "start_time": "2021-12-07T08:05:10.159Z"
   },
   {
    "duration": 299,
    "start_time": "2021-12-07T08:05:10.466Z"
   },
   {
    "duration": 334,
    "start_time": "2021-12-07T08:05:10.767Z"
   },
   {
    "duration": 21,
    "start_time": "2021-12-07T08:05:11.106Z"
   },
   {
    "duration": 21,
    "start_time": "2021-12-07T08:05:11.340Z"
   },
   {
    "duration": 7,
    "start_time": "2021-12-07T08:05:11.583Z"
   },
   {
    "duration": 6,
    "start_time": "2021-12-07T08:05:11.853Z"
   },
   {
    "duration": 67,
    "start_time": "2021-12-07T08:05:12.130Z"
   },
   {
    "duration": 68,
    "start_time": "2021-12-07T08:05:12.947Z"
   },
   {
    "duration": 5,
    "start_time": "2021-12-07T08:05:13.506Z"
   },
   {
    "duration": 17517,
    "start_time": "2021-12-07T08:05:14.371Z"
   },
   {
    "duration": 1267,
    "start_time": "2021-12-07T12:07:08.975Z"
   },
   {
    "duration": 36,
    "start_time": "2021-12-07T12:07:10.245Z"
   },
   {
    "duration": 24,
    "start_time": "2021-12-07T12:07:10.283Z"
   },
   {
    "duration": 44,
    "start_time": "2021-12-07T12:07:10.310Z"
   },
   {
    "duration": 13,
    "start_time": "2021-12-07T12:07:10.356Z"
   },
   {
    "duration": 43,
    "start_time": "2021-12-07T12:07:10.370Z"
   },
   {
    "duration": 14,
    "start_time": "2021-12-07T12:07:10.416Z"
   },
   {
    "duration": 314,
    "start_time": "2021-12-07T12:07:11.205Z"
   },
   {
    "duration": 308,
    "start_time": "2021-12-07T12:07:11.521Z"
   },
   {
    "duration": 348,
    "start_time": "2021-12-07T12:07:11.832Z"
   },
   {
    "duration": 26,
    "start_time": "2021-12-07T12:07:12.182Z"
   },
   {
    "duration": 22,
    "start_time": "2021-12-07T12:07:13.290Z"
   },
   {
    "duration": 1222,
    "start_time": "2021-12-07T12:07:56.502Z"
   },
   {
    "duration": 33,
    "start_time": "2021-12-07T12:07:57.726Z"
   },
   {
    "duration": 15,
    "start_time": "2021-12-07T12:07:57.761Z"
   },
   {
    "duration": 42,
    "start_time": "2021-12-07T12:07:57.778Z"
   },
   {
    "duration": 11,
    "start_time": "2021-12-07T12:07:57.822Z"
   },
   {
    "duration": 16,
    "start_time": "2021-12-07T12:07:57.835Z"
   },
   {
    "duration": 8,
    "start_time": "2021-12-07T12:07:57.853Z"
   },
   {
    "duration": 299,
    "start_time": "2021-12-07T12:07:58.256Z"
   },
   {
    "duration": 299,
    "start_time": "2021-12-07T12:07:58.556Z"
   },
   {
    "duration": 457,
    "start_time": "2021-12-07T12:07:58.857Z"
   },
   {
    "duration": 33,
    "start_time": "2021-12-07T12:07:59.317Z"
   },
   {
    "duration": 82,
    "start_time": "2021-12-07T12:07:59.353Z"
   },
   {
    "duration": 491,
    "start_time": "2021-12-07T12:08:27.543Z"
   },
   {
    "duration": 5,
    "start_time": "2021-12-07T12:08:30.475Z"
   },
   {
    "duration": 4,
    "start_time": "2021-12-07T12:09:01.365Z"
   },
   {
    "duration": 4,
    "start_time": "2021-12-07T12:09:05.812Z"
   },
   {
    "duration": 71,
    "start_time": "2021-12-07T12:09:13.338Z"
   },
   {
    "duration": 3,
    "start_time": "2021-12-07T12:09:16.255Z"
   },
   {
    "duration": 4,
    "start_time": "2021-12-07T12:09:21.512Z"
   },
   {
    "duration": 3,
    "start_time": "2021-12-07T12:09:27.844Z"
   },
   {
    "duration": 1233,
    "start_time": "2021-12-07T12:12:36.304Z"
   },
   {
    "duration": 36,
    "start_time": "2021-12-07T12:12:37.539Z"
   },
   {
    "duration": 17,
    "start_time": "2021-12-07T12:12:37.577Z"
   },
   {
    "duration": 48,
    "start_time": "2021-12-07T12:12:37.597Z"
   },
   {
    "duration": 11,
    "start_time": "2021-12-07T12:12:37.648Z"
   },
   {
    "duration": 21,
    "start_time": "2021-12-07T12:12:37.661Z"
   },
   {
    "duration": 26,
    "start_time": "2021-12-07T12:12:37.685Z"
   },
   {
    "duration": 299,
    "start_time": "2021-12-07T12:12:37.714Z"
   },
   {
    "duration": 291,
    "start_time": "2021-12-07T12:12:38.015Z"
   },
   {
    "duration": 319,
    "start_time": "2021-12-07T12:12:38.308Z"
   },
   {
    "duration": 17,
    "start_time": "2021-12-07T12:12:38.629Z"
   },
   {
    "duration": 21,
    "start_time": "2021-12-07T12:12:38.648Z"
   },
   {
    "duration": 2,
    "start_time": "2021-12-07T12:12:38.672Z"
   },
   {
    "duration": 33,
    "start_time": "2021-12-07T12:12:38.676Z"
   },
   {
    "duration": 5,
    "start_time": "2021-12-07T12:12:38.711Z"
   },
   {
    "duration": 78,
    "start_time": "2021-12-07T12:12:38.718Z"
   },
   {
    "duration": 102,
    "start_time": "2021-12-07T12:12:38.807Z"
   },
   {
    "duration": 40011,
    "start_time": "2021-12-07T12:12:38.912Z"
   },
   {
    "duration": 430,
    "start_time": "2021-12-07T12:13:18.925Z"
   },
   {
    "duration": 4656,
    "start_time": "2021-12-07T12:13:14.701Z"
   },
   {
    "duration": 1471,
    "start_time": "2021-12-07T12:14:09.125Z"
   },
   {
    "duration": 43,
    "start_time": "2021-12-07T12:14:10.607Z"
   },
   {
    "duration": 20,
    "start_time": "2021-12-07T12:14:10.652Z"
   },
   {
    "duration": 63,
    "start_time": "2021-12-07T12:14:10.675Z"
   },
   {
    "duration": 10,
    "start_time": "2021-12-07T12:14:10.740Z"
   },
   {
    "duration": 12,
    "start_time": "2021-12-07T12:14:10.753Z"
   },
   {
    "duration": 5,
    "start_time": "2021-12-07T12:14:10.767Z"
   },
   {
    "duration": 337,
    "start_time": "2021-12-07T12:14:10.774Z"
   },
   {
    "duration": 348,
    "start_time": "2021-12-07T12:14:11.113Z"
   },
   {
    "duration": 399,
    "start_time": "2021-12-07T12:14:11.463Z"
   },
   {
    "duration": 23,
    "start_time": "2021-12-07T12:14:11.865Z"
   },
   {
    "duration": 47,
    "start_time": "2021-12-07T12:14:11.890Z"
   },
   {
    "duration": 3,
    "start_time": "2021-12-07T12:14:11.939Z"
   },
   {
    "duration": 14,
    "start_time": "2021-12-07T12:14:11.944Z"
   },
   {
    "duration": 6,
    "start_time": "2021-12-07T12:14:11.960Z"
   },
   {
    "duration": 7,
    "start_time": "2021-12-07T12:14:11.968Z"
   },
   {
    "duration": 137,
    "start_time": "2021-12-07T12:14:11.977Z"
   },
   {
    "duration": 39589,
    "start_time": "2021-12-07T12:14:12.117Z"
   },
   {
    "duration": 1005,
    "start_time": "2021-12-07T12:14:51.708Z"
   },
   {
    "duration": 288810,
    "start_time": "2021-12-07T12:14:52.715Z"
   },
   {
    "duration": 1213,
    "start_time": "2021-12-07T12:20:23.856Z"
   },
   {
    "duration": 343,
    "start_time": "2021-12-07T12:20:25.071Z"
   },
   {
    "duration": 14,
    "start_time": "2021-12-07T12:20:25.416Z"
   },
   {
    "duration": 37,
    "start_time": "2021-12-07T12:20:25.432Z"
   },
   {
    "duration": 11,
    "start_time": "2021-12-07T12:20:25.471Z"
   },
   {
    "duration": 34,
    "start_time": "2021-12-07T12:20:25.484Z"
   },
   {
    "duration": 5,
    "start_time": "2021-12-07T12:20:25.520Z"
   },
   {
    "duration": 296,
    "start_time": "2021-12-07T12:20:25.527Z"
   },
   {
    "duration": 290,
    "start_time": "2021-12-07T12:20:25.825Z"
   },
   {
    "duration": 376,
    "start_time": "2021-12-07T12:20:26.117Z"
   },
   {
    "duration": 20,
    "start_time": "2021-12-07T12:20:26.495Z"
   },
   {
    "duration": 20,
    "start_time": "2021-12-07T12:20:26.516Z"
   },
   {
    "duration": 605,
    "start_time": "2021-12-07T12:20:26.537Z"
   },
   {
    "duration": 4550,
    "start_time": "2021-12-07T12:20:22.594Z"
   },
   {
    "duration": 4549,
    "start_time": "2021-12-07T12:20:22.596Z"
   },
   {
    "duration": 4549,
    "start_time": "2021-12-07T12:20:22.597Z"
   },
   {
    "duration": 4500,
    "start_time": "2021-12-07T12:20:22.647Z"
   },
   {
    "duration": 4495,
    "start_time": "2021-12-07T12:20:22.653Z"
   },
   {
    "duration": 4494,
    "start_time": "2021-12-07T12:20:22.655Z"
   },
   {
    "duration": 4489,
    "start_time": "2021-12-07T12:20:22.662Z"
   },
   {
    "duration": 1364,
    "start_time": "2021-12-07T12:21:09.430Z"
   },
   {
    "duration": 34,
    "start_time": "2021-12-07T12:21:10.796Z"
   },
   {
    "duration": 16,
    "start_time": "2021-12-07T12:21:10.832Z"
   },
   {
    "duration": 39,
    "start_time": "2021-12-07T12:21:10.850Z"
   },
   {
    "duration": 25,
    "start_time": "2021-12-07T12:21:10.890Z"
   },
   {
    "duration": 12,
    "start_time": "2021-12-07T12:21:10.917Z"
   },
   {
    "duration": 5,
    "start_time": "2021-12-07T12:21:11.058Z"
   },
   {
    "duration": 318,
    "start_time": "2021-12-07T12:21:11.477Z"
   },
   {
    "duration": 298,
    "start_time": "2021-12-07T12:21:11.797Z"
   },
   {
    "duration": 387,
    "start_time": "2021-12-07T12:21:12.097Z"
   },
   {
    "duration": 22,
    "start_time": "2021-12-07T12:21:12.486Z"
   },
   {
    "duration": 21,
    "start_time": "2021-12-07T12:21:12.510Z"
   },
   {
    "duration": 7,
    "start_time": "2021-12-07T12:21:13.681Z"
   },
   {
    "duration": 6,
    "start_time": "2021-12-07T12:21:13.930Z"
   },
   {
    "duration": 8,
    "start_time": "2021-12-07T12:21:14.532Z"
   },
   {
    "duration": 475,
    "start_time": "2021-12-07T12:21:15.299Z"
   },
   {
    "duration": 5,
    "start_time": "2021-12-07T12:22:11.413Z"
   },
   {
    "duration": 5,
    "start_time": "2021-12-07T12:23:08.618Z"
   },
   {
    "duration": 1308,
    "start_time": "2021-12-07T12:23:35.313Z"
   },
   {
    "duration": 36,
    "start_time": "2021-12-07T12:23:36.623Z"
   },
   {
    "duration": 17,
    "start_time": "2021-12-07T12:23:36.661Z"
   },
   {
    "duration": 55,
    "start_time": "2021-12-07T12:23:36.680Z"
   },
   {
    "duration": 11,
    "start_time": "2021-12-07T12:23:36.737Z"
   },
   {
    "duration": 13,
    "start_time": "2021-12-07T12:23:36.750Z"
   },
   {
    "duration": 4,
    "start_time": "2021-12-07T12:23:36.766Z"
   },
   {
    "duration": 294,
    "start_time": "2021-12-07T12:23:36.806Z"
   },
   {
    "duration": 291,
    "start_time": "2021-12-07T12:23:37.102Z"
   },
   {
    "duration": 390,
    "start_time": "2021-12-07T12:23:37.395Z"
   },
   {
    "duration": 24,
    "start_time": "2021-12-07T12:23:37.787Z"
   },
   {
    "duration": 21,
    "start_time": "2021-12-07T12:23:37.813Z"
   },
   {
    "duration": 4,
    "start_time": "2021-12-07T12:23:37.836Z"
   },
   {
    "duration": 7,
    "start_time": "2021-12-07T12:23:37.842Z"
   },
   {
    "duration": 14,
    "start_time": "2021-12-07T12:23:37.851Z"
   },
   {
    "duration": 48,
    "start_time": "2021-12-07T12:23:37.867Z"
   },
   {
    "duration": 11,
    "start_time": "2021-12-07T12:23:37.917Z"
   },
   {
    "duration": 4,
    "start_time": "2021-12-07T12:23:56.323Z"
   },
   {
    "duration": 32,
    "start_time": "2021-12-07T12:23:56.716Z"
   },
   {
    "duration": 16,
    "start_time": "2021-12-07T12:23:57.042Z"
   },
   {
    "duration": 1432,
    "start_time": "2021-12-07T12:24:02.645Z"
   },
   {
    "duration": 35,
    "start_time": "2021-12-07T12:24:04.079Z"
   },
   {
    "duration": 15,
    "start_time": "2021-12-07T12:24:04.116Z"
   },
   {
    "duration": 39,
    "start_time": "2021-12-07T12:24:04.134Z"
   },
   {
    "duration": 36,
    "start_time": "2021-12-07T12:24:04.175Z"
   },
   {
    "duration": 13,
    "start_time": "2021-12-07T12:24:04.213Z"
   },
   {
    "duration": 5,
    "start_time": "2021-12-07T12:24:04.228Z"
   },
   {
    "duration": 314,
    "start_time": "2021-12-07T12:24:04.236Z"
   },
   {
    "duration": 286,
    "start_time": "2021-12-07T12:24:04.552Z"
   },
   {
    "duration": 369,
    "start_time": "2021-12-07T12:24:04.840Z"
   },
   {
    "duration": 16,
    "start_time": "2021-12-07T12:24:05.211Z"
   },
   {
    "duration": 22,
    "start_time": "2021-12-07T12:24:05.229Z"
   },
   {
    "duration": 6,
    "start_time": "2021-12-07T12:24:05.253Z"
   },
   {
    "duration": 13,
    "start_time": "2021-12-07T12:24:05.261Z"
   },
   {
    "duration": 31,
    "start_time": "2021-12-07T12:24:05.276Z"
   },
   {
    "duration": 27,
    "start_time": "2021-12-07T12:24:05.309Z"
   },
   {
    "duration": 73,
    "start_time": "2021-12-07T12:24:05.338Z"
   },
   {
    "duration": 39545,
    "start_time": "2021-12-07T12:24:05.507Z"
   },
   {
    "duration": 1066,
    "start_time": "2021-12-07T12:24:45.055Z"
   },
   {
    "duration": 286934,
    "start_time": "2021-12-07T12:24:46.123Z"
   },
   {
    "duration": 21814,
    "start_time": "2021-12-07T13:09:31.338Z"
   },
   {
    "duration": 4374,
    "start_time": "2021-12-07T13:29:43.200Z"
   },
   {
    "duration": 3310,
    "start_time": "2021-12-07T13:30:00.785Z"
   },
   {
    "duration": 5086,
    "start_time": "2021-12-07T13:30:08.479Z"
   },
   {
    "duration": 3566,
    "start_time": "2021-12-07T13:30:20.843Z"
   },
   {
    "duration": 4073,
    "start_time": "2021-12-07T13:30:29.643Z"
   },
   {
    "duration": 3832,
    "start_time": "2021-12-07T13:30:38.404Z"
   },
   {
    "duration": 3635,
    "start_time": "2021-12-07T13:30:47.426Z"
   },
   {
    "duration": 3817,
    "start_time": "2021-12-07T13:30:58.686Z"
   },
   {
    "duration": 4546,
    "start_time": "2021-12-07T13:31:12.346Z"
   },
   {
    "duration": 3846,
    "start_time": "2021-12-07T13:31:23.319Z"
   },
   {
    "duration": 3878,
    "start_time": "2021-12-07T13:31:31.762Z"
   },
   {
    "duration": 4026,
    "start_time": "2021-12-07T13:31:41.223Z"
   },
   {
    "duration": 3672,
    "start_time": "2021-12-07T13:31:49.800Z"
   },
   {
    "duration": 3795,
    "start_time": "2021-12-07T13:31:57.063Z"
   },
   {
    "duration": 3737,
    "start_time": "2021-12-07T13:32:04.944Z"
   },
   {
    "duration": 3580,
    "start_time": "2021-12-07T13:32:12.989Z"
   },
   {
    "duration": 4413,
    "start_time": "2021-12-07T13:32:25.977Z"
   },
   {
    "duration": 3814,
    "start_time": "2021-12-07T13:32:34.867Z"
   },
   {
    "duration": 3870,
    "start_time": "2021-12-07T13:32:44.799Z"
   },
   {
    "duration": 3813,
    "start_time": "2021-12-07T13:32:53.420Z"
   },
   {
    "duration": 3079,
    "start_time": "2021-12-07T13:33:01.863Z"
   },
   {
    "duration": 4943,
    "start_time": "2021-12-07T13:33:10.442Z"
   },
   {
    "duration": 4713,
    "start_time": "2021-12-07T13:33:19.681Z"
   },
   {
    "duration": 12,
    "start_time": "2021-12-07T13:34:14.449Z"
   },
   {
    "duration": 5,
    "start_time": "2021-12-07T13:34:34.865Z"
   },
   {
    "duration": 8,
    "start_time": "2021-12-07T13:34:40.124Z"
   },
   {
    "duration": 12,
    "start_time": "2021-12-07T13:34:44.860Z"
   },
   {
    "duration": 9,
    "start_time": "2021-12-07T13:34:56.923Z"
   },
   {
    "duration": 14,
    "start_time": "2021-12-07T13:35:01.258Z"
   },
   {
    "duration": 9,
    "start_time": "2021-12-07T13:35:04.458Z"
   },
   {
    "duration": 5,
    "start_time": "2021-12-07T13:35:07.121Z"
   },
   {
    "duration": 1099,
    "start_time": "2021-12-07T18:20:43.145Z"
   },
   {
    "duration": 33,
    "start_time": "2021-12-07T18:20:44.246Z"
   },
   {
    "duration": 14,
    "start_time": "2021-12-07T18:20:44.281Z"
   },
   {
    "duration": 34,
    "start_time": "2021-12-07T18:20:44.297Z"
   },
   {
    "duration": 9,
    "start_time": "2021-12-07T18:20:44.332Z"
   },
   {
    "duration": 11,
    "start_time": "2021-12-07T18:20:44.342Z"
   },
   {
    "duration": 5,
    "start_time": "2021-12-07T18:20:44.354Z"
   },
   {
    "duration": 313,
    "start_time": "2021-12-07T18:20:44.361Z"
   },
   {
    "duration": 276,
    "start_time": "2021-12-07T18:20:44.676Z"
   },
   {
    "duration": 362,
    "start_time": "2021-12-07T18:20:44.954Z"
   },
   {
    "duration": 14,
    "start_time": "2021-12-07T18:20:45.318Z"
   },
   {
    "duration": 19,
    "start_time": "2021-12-07T18:20:45.333Z"
   },
   {
    "duration": 4,
    "start_time": "2021-12-07T18:20:45.353Z"
   },
   {
    "duration": 7,
    "start_time": "2021-12-07T18:20:45.359Z"
   },
   {
    "duration": 25,
    "start_time": "2021-12-07T18:20:45.368Z"
   },
   {
    "duration": 2,
    "start_time": "2021-12-07T18:20:45.395Z"
   },
   {
    "duration": 15,
    "start_time": "2021-12-07T18:20:45.399Z"
   },
   {
    "duration": 36497,
    "start_time": "2021-12-07T18:20:45.416Z"
   },
   {
    "duration": 1380,
    "start_time": "2021-12-07T18:21:21.916Z"
   },
   {
    "duration": 2,
    "start_time": "2021-12-07T18:21:23.298Z"
   },
   {
    "duration": 3410,
    "start_time": "2021-12-07T18:21:23.302Z"
   },
   {
    "duration": 6,
    "start_time": "2021-12-07T18:21:26.715Z"
   },
   {
    "duration": 8,
    "start_time": "2021-12-07T18:22:11.407Z"
   },
   {
    "duration": 11,
    "start_time": "2021-12-07T18:22:15.455Z"
   },
   {
    "duration": 265,
    "start_time": "2021-12-07T18:22:18.732Z"
   },
   {
    "duration": 6,
    "start_time": "2021-12-07T18:22:29.474Z"
   },
   {
    "duration": 5,
    "start_time": "2021-12-07T18:22:32.422Z"
   },
   {
    "duration": 1180,
    "start_time": "2021-12-07T18:34:57.372Z"
   },
   {
    "duration": 34,
    "start_time": "2021-12-07T18:34:58.554Z"
   },
   {
    "duration": 14,
    "start_time": "2021-12-07T18:34:58.590Z"
   },
   {
    "duration": 36,
    "start_time": "2021-12-07T18:34:58.606Z"
   },
   {
    "duration": 9,
    "start_time": "2021-12-07T18:34:58.643Z"
   },
   {
    "duration": 38,
    "start_time": "2021-12-07T18:34:58.653Z"
   },
   {
    "duration": 4,
    "start_time": "2021-12-07T18:34:58.693Z"
   },
   {
    "duration": 307,
    "start_time": "2021-12-07T18:34:58.699Z"
   },
   {
    "duration": 291,
    "start_time": "2021-12-07T18:34:59.008Z"
   },
   {
    "duration": 372,
    "start_time": "2021-12-07T18:34:59.300Z"
   },
   {
    "duration": 23,
    "start_time": "2021-12-07T18:34:59.674Z"
   },
   {
    "duration": 20,
    "start_time": "2021-12-07T18:34:59.699Z"
   },
   {
    "duration": 9,
    "start_time": "2021-12-07T18:34:59.721Z"
   },
   {
    "duration": 7,
    "start_time": "2021-12-07T18:34:59.731Z"
   },
   {
    "duration": 5,
    "start_time": "2021-12-07T18:34:59.739Z"
   },
   {
    "duration": 6,
    "start_time": "2021-12-07T18:34:59.745Z"
   },
   {
    "duration": 4,
    "start_time": "2021-12-07T18:34:59.753Z"
   },
   {
    "duration": 135,
    "start_time": "2021-12-07T18:34:59.758Z"
   },
   {
    "duration": 36643,
    "start_time": "2021-12-07T18:34:59.895Z"
   },
   {
    "duration": 963,
    "start_time": "2021-12-07T18:35:36.541Z"
   },
   {
    "duration": 2,
    "start_time": "2021-12-07T18:35:37.505Z"
   },
   {
    "duration": 3359,
    "start_time": "2021-12-07T18:35:37.509Z"
   },
   {
    "duration": 4,
    "start_time": "2021-12-07T18:35:40.870Z"
   },
   {
    "duration": 22,
    "start_time": "2021-12-07T18:37:22.676Z"
   },
   {
    "duration": 1136,
    "start_time": "2021-12-07T18:39:47.202Z"
   },
   {
    "duration": 33,
    "start_time": "2021-12-07T18:39:48.340Z"
   },
   {
    "duration": 14,
    "start_time": "2021-12-07T18:39:48.375Z"
   },
   {
    "duration": 36,
    "start_time": "2021-12-07T18:39:48.391Z"
   },
   {
    "duration": 9,
    "start_time": "2021-12-07T18:39:48.428Z"
   },
   {
    "duration": 11,
    "start_time": "2021-12-07T18:39:48.438Z"
   },
   {
    "duration": 5,
    "start_time": "2021-12-07T18:39:48.450Z"
   },
   {
    "duration": 327,
    "start_time": "2021-12-07T18:39:48.457Z"
   },
   {
    "duration": 289,
    "start_time": "2021-12-07T18:39:48.787Z"
   },
   {
    "duration": 382,
    "start_time": "2021-12-07T18:39:49.078Z"
   },
   {
    "duration": 34,
    "start_time": "2021-12-07T18:39:49.462Z"
   },
   {
    "duration": 19,
    "start_time": "2021-12-07T18:39:49.498Z"
   },
   {
    "duration": 8,
    "start_time": "2021-12-07T18:39:49.519Z"
   },
   {
    "duration": 21,
    "start_time": "2021-12-07T18:39:49.529Z"
   },
   {
    "duration": 5,
    "start_time": "2021-12-07T18:39:49.551Z"
   },
   {
    "duration": 6,
    "start_time": "2021-12-07T18:39:49.557Z"
   },
   {
    "duration": 6,
    "start_time": "2021-12-07T18:39:49.564Z"
   },
   {
    "duration": 28,
    "start_time": "2021-12-07T18:39:49.572Z"
   },
   {
    "duration": 88,
    "start_time": "2021-12-07T18:39:49.602Z"
   },
   {
    "duration": 36556,
    "start_time": "2021-12-07T18:39:50.210Z"
   },
   {
    "duration": 1233,
    "start_time": "2021-12-07T18:40:26.768Z"
   },
   {
    "duration": 2,
    "start_time": "2021-12-07T18:40:28.004Z"
   },
   {
    "duration": 3075,
    "start_time": "2021-12-07T18:40:28.008Z"
   },
   {
    "duration": 5,
    "start_time": "2021-12-07T18:40:31.085Z"
   },
   {
    "duration": 1094,
    "start_time": "2021-12-07T18:44:06.950Z"
   },
   {
    "duration": 34,
    "start_time": "2021-12-07T18:44:08.046Z"
   },
   {
    "duration": 14,
    "start_time": "2021-12-07T18:44:08.082Z"
   },
   {
    "duration": 51,
    "start_time": "2021-12-07T18:44:08.097Z"
   },
   {
    "duration": 8,
    "start_time": "2021-12-07T18:44:08.150Z"
   },
   {
    "duration": 23,
    "start_time": "2021-12-07T18:44:08.160Z"
   },
   {
    "duration": 19,
    "start_time": "2021-12-07T18:44:08.184Z"
   },
   {
    "duration": 293,
    "start_time": "2021-12-07T18:44:08.205Z"
   },
   {
    "duration": 282,
    "start_time": "2021-12-07T18:44:08.500Z"
   },
   {
    "duration": 360,
    "start_time": "2021-12-07T18:44:08.783Z"
   },
   {
    "duration": 14,
    "start_time": "2021-12-07T18:44:09.145Z"
   },
   {
    "duration": 30,
    "start_time": "2021-12-07T18:44:09.161Z"
   },
   {
    "duration": 8,
    "start_time": "2021-12-07T18:44:09.193Z"
   },
   {
    "duration": 20,
    "start_time": "2021-12-07T18:44:09.203Z"
   },
   {
    "duration": 4,
    "start_time": "2021-12-07T18:44:09.225Z"
   },
   {
    "duration": 7,
    "start_time": "2021-12-07T18:44:09.230Z"
   },
   {
    "duration": 6,
    "start_time": "2021-12-07T18:44:09.239Z"
   },
   {
    "duration": 50,
    "start_time": "2021-12-07T18:44:09.247Z"
   },
   {
    "duration": 9,
    "start_time": "2021-12-07T18:44:09.483Z"
   },
   {
    "duration": 36404,
    "start_time": "2021-12-07T18:44:09.912Z"
   },
   {
    "duration": 984,
    "start_time": "2021-12-07T18:44:46.318Z"
   },
   {
    "duration": 2,
    "start_time": "2021-12-07T18:44:47.304Z"
   },
   {
    "duration": 3387,
    "start_time": "2021-12-07T18:44:47.308Z"
   },
   {
    "duration": 431,
    "start_time": "2021-12-07T18:44:50.697Z"
   },
   {
    "duration": 3785,
    "start_time": "2021-12-07T18:44:47.345Z"
   },
   {
    "duration": 1147,
    "start_time": "2021-12-07T18:45:38.993Z"
   },
   {
    "duration": 35,
    "start_time": "2021-12-07T18:45:40.142Z"
   },
   {
    "duration": 18,
    "start_time": "2021-12-07T18:45:40.179Z"
   },
   {
    "duration": 36,
    "start_time": "2021-12-07T18:45:40.199Z"
   },
   {
    "duration": 9,
    "start_time": "2021-12-07T18:45:40.237Z"
   },
   {
    "duration": 11,
    "start_time": "2021-12-07T18:45:40.247Z"
   },
   {
    "duration": 32,
    "start_time": "2021-12-07T18:45:40.260Z"
   },
   {
    "duration": 291,
    "start_time": "2021-12-07T18:45:40.294Z"
   },
   {
    "duration": 291,
    "start_time": "2021-12-07T18:45:40.586Z"
   },
   {
    "duration": 373,
    "start_time": "2021-12-07T18:45:40.879Z"
   },
   {
    "duration": 16,
    "start_time": "2021-12-07T18:45:41.254Z"
   },
   {
    "duration": 33,
    "start_time": "2021-12-07T18:45:41.272Z"
   },
   {
    "duration": 9,
    "start_time": "2021-12-07T18:45:41.308Z"
   },
   {
    "duration": 21,
    "start_time": "2021-12-07T18:45:41.319Z"
   },
   {
    "duration": 6,
    "start_time": "2021-12-07T18:45:41.342Z"
   },
   {
    "duration": 9,
    "start_time": "2021-12-07T18:45:41.349Z"
   },
   {
    "duration": 34,
    "start_time": "2021-12-07T18:45:41.360Z"
   },
   {
    "duration": 27,
    "start_time": "2021-12-07T18:45:41.396Z"
   },
   {
    "duration": 70,
    "start_time": "2021-12-07T18:45:41.425Z"
   },
   {
    "duration": 36637,
    "start_time": "2021-12-07T18:45:41.497Z"
   },
   {
    "duration": 1156,
    "start_time": "2021-12-07T18:46:18.136Z"
   },
   {
    "duration": 4,
    "start_time": "2021-12-07T18:46:19.294Z"
   },
   {
    "duration": 3002,
    "start_time": "2021-12-07T18:46:19.299Z"
   },
   {
    "duration": 267,
    "start_time": "2021-12-07T18:46:22.302Z"
   },
   {
    "duration": 3772,
    "start_time": "2021-12-07T18:46:18.799Z"
   },
   {
    "duration": 1173,
    "start_time": "2021-12-07T18:50:48.676Z"
   },
   {
    "duration": 34,
    "start_time": "2021-12-07T18:50:49.851Z"
   },
   {
    "duration": 14,
    "start_time": "2021-12-07T18:50:49.887Z"
   },
   {
    "duration": 35,
    "start_time": "2021-12-07T18:50:49.903Z"
   },
   {
    "duration": 9,
    "start_time": "2021-12-07T18:50:49.940Z"
   },
   {
    "duration": 10,
    "start_time": "2021-12-07T18:50:49.951Z"
   },
   {
    "duration": 31,
    "start_time": "2021-12-07T18:50:49.963Z"
   },
   {
    "duration": 334,
    "start_time": "2021-12-07T18:50:49.996Z"
   },
   {
    "duration": 375,
    "start_time": "2021-12-07T18:50:50.333Z"
   },
   {
    "duration": 383,
    "start_time": "2021-12-07T18:50:50.709Z"
   },
   {
    "duration": 18,
    "start_time": "2021-12-07T18:50:51.094Z"
   },
   {
    "duration": 26,
    "start_time": "2021-12-07T18:50:51.114Z"
   },
   {
    "duration": 5,
    "start_time": "2021-12-07T18:50:51.143Z"
   },
   {
    "duration": 18,
    "start_time": "2021-12-07T18:50:51.149Z"
   },
   {
    "duration": 23,
    "start_time": "2021-12-07T18:50:51.168Z"
   },
   {
    "duration": 30,
    "start_time": "2021-12-07T18:50:51.193Z"
   },
   {
    "duration": 168,
    "start_time": "2021-12-07T18:50:51.224Z"
   },
   {
    "duration": 50655,
    "start_time": "2021-12-07T18:50:51.394Z"
   },
   {
    "duration": 1252,
    "start_time": "2021-12-07T18:51:42.051Z"
   },
   {
    "duration": 3,
    "start_time": "2021-12-07T18:51:43.306Z"
   },
   {
    "duration": 3663,
    "start_time": "2021-12-07T18:51:43.311Z"
   },
   {
    "duration": 5,
    "start_time": "2021-12-07T18:51:46.976Z"
   },
   {
    "duration": 9,
    "start_time": "2021-12-07T18:52:10.831Z"
   },
   {
    "duration": 14,
    "start_time": "2021-12-07T18:52:14.509Z"
   },
   {
    "duration": 7,
    "start_time": "2021-12-07T18:52:19.183Z"
   },
   {
    "duration": 6,
    "start_time": "2021-12-07T18:52:26.368Z"
   },
   {
    "duration": 7,
    "start_time": "2021-12-07T18:52:29.357Z"
   },
   {
    "duration": 11,
    "start_time": "2021-12-07T18:52:33.216Z"
   },
   {
    "duration": 1126,
    "start_time": "2021-12-07T18:52:58.820Z"
   },
   {
    "duration": 33,
    "start_time": "2021-12-07T18:52:59.948Z"
   },
   {
    "duration": 14,
    "start_time": "2021-12-07T18:52:59.983Z"
   },
   {
    "duration": 38,
    "start_time": "2021-12-07T18:52:59.998Z"
   },
   {
    "duration": 9,
    "start_time": "2021-12-07T18:53:00.038Z"
   },
   {
    "duration": 11,
    "start_time": "2021-12-07T18:53:00.049Z"
   },
   {
    "duration": 31,
    "start_time": "2021-12-07T18:53:00.061Z"
   },
   {
    "duration": 305,
    "start_time": "2021-12-07T18:53:00.095Z"
   },
   {
    "duration": 292,
    "start_time": "2021-12-07T18:53:00.402Z"
   },
   {
    "duration": 373,
    "start_time": "2021-12-07T18:53:00.696Z"
   },
   {
    "duration": 41,
    "start_time": "2021-12-07T18:53:01.071Z"
   },
   {
    "duration": 31,
    "start_time": "2021-12-07T18:53:01.114Z"
   },
   {
    "duration": 5,
    "start_time": "2021-12-07T18:53:01.147Z"
   },
   {
    "duration": 11,
    "start_time": "2021-12-07T18:53:01.154Z"
   },
   {
    "duration": 15,
    "start_time": "2021-12-07T18:53:01.167Z"
   },
   {
    "duration": 54,
    "start_time": "2021-12-07T18:53:01.192Z"
   },
   {
    "duration": 148,
    "start_time": "2021-12-07T18:53:01.248Z"
   },
   {
    "duration": 116000,
    "start_time": "2021-12-07T18:53:01.399Z"
   },
   {
    "duration": 1803,
    "start_time": "2021-12-07T18:54:57.401Z"
   },
   {
    "duration": 2,
    "start_time": "2021-12-07T18:54:59.206Z"
   },
   {
    "duration": 6404,
    "start_time": "2021-12-07T18:54:59.210Z"
   },
   {
    "duration": 6,
    "start_time": "2021-12-07T18:55:05.615Z"
   },
   {
    "duration": 10,
    "start_time": "2021-12-07T18:56:35.148Z"
   },
   {
    "duration": 14,
    "start_time": "2021-12-07T18:56:41.173Z"
   },
   {
    "duration": 8,
    "start_time": "2021-12-07T18:56:45.541Z"
   },
   {
    "duration": 1145,
    "start_time": "2021-12-07T18:57:24.111Z"
   },
   {
    "duration": 34,
    "start_time": "2021-12-07T18:57:25.258Z"
   },
   {
    "duration": 14,
    "start_time": "2021-12-07T18:57:25.294Z"
   },
   {
    "duration": 35,
    "start_time": "2021-12-07T18:57:25.310Z"
   },
   {
    "duration": 8,
    "start_time": "2021-12-07T18:57:25.347Z"
   },
   {
    "duration": 35,
    "start_time": "2021-12-07T18:57:25.357Z"
   },
   {
    "duration": 4,
    "start_time": "2021-12-07T18:57:25.394Z"
   },
   {
    "duration": 310,
    "start_time": "2021-12-07T18:57:25.400Z"
   },
   {
    "duration": 297,
    "start_time": "2021-12-07T18:57:25.712Z"
   },
   {
    "duration": 386,
    "start_time": "2021-12-07T18:57:26.011Z"
   },
   {
    "duration": 43,
    "start_time": "2021-12-07T18:57:26.400Z"
   },
   {
    "duration": 51,
    "start_time": "2021-12-07T18:57:26.446Z"
   },
   {
    "duration": 6,
    "start_time": "2021-12-07T18:57:26.500Z"
   },
   {
    "duration": 9,
    "start_time": "2021-12-07T18:57:26.508Z"
   },
   {
    "duration": 7,
    "start_time": "2021-12-07T18:57:26.519Z"
   },
   {
    "duration": 89,
    "start_time": "2021-12-07T18:57:26.527Z"
   },
   {
    "duration": 40,
    "start_time": "2021-12-07T18:57:26.655Z"
   },
   {
    "duration": 3,
    "start_time": "2021-12-07T18:57:26.891Z"
   },
   {
    "duration": 2271,
    "start_time": "2021-12-07T18:57:27.333Z"
   },
   {
    "duration": 2,
    "start_time": "2021-12-07T18:57:29.606Z"
   },
   {
    "duration": 10,
    "start_time": "2021-12-07T18:57:29.610Z"
   },
   {
    "duration": 71,
    "start_time": "2021-12-07T18:57:29.622Z"
   },
   {
    "duration": 1154,
    "start_time": "2021-12-07T18:58:13.200Z"
   },
   {
    "duration": 35,
    "start_time": "2021-12-07T18:58:14.356Z"
   },
   {
    "duration": 15,
    "start_time": "2021-12-07T18:58:14.393Z"
   },
   {
    "duration": 35,
    "start_time": "2021-12-07T18:58:14.410Z"
   },
   {
    "duration": 10,
    "start_time": "2021-12-07T18:58:14.447Z"
   },
   {
    "duration": 38,
    "start_time": "2021-12-07T18:58:14.459Z"
   },
   {
    "duration": 6,
    "start_time": "2021-12-07T18:58:14.499Z"
   },
   {
    "duration": 305,
    "start_time": "2021-12-07T18:58:14.507Z"
   },
   {
    "duration": 286,
    "start_time": "2021-12-07T18:58:14.814Z"
   },
   {
    "duration": 367,
    "start_time": "2021-12-07T18:58:15.102Z"
   },
   {
    "duration": 87,
    "start_time": "2021-12-07T18:58:15.471Z"
   },
   {
    "duration": 39,
    "start_time": "2021-12-07T18:58:15.560Z"
   },
   {
    "duration": 6,
    "start_time": "2021-12-07T18:58:15.601Z"
   },
   {
    "duration": 10,
    "start_time": "2021-12-07T18:58:15.608Z"
   },
   {
    "duration": 10,
    "start_time": "2021-12-07T18:58:15.619Z"
   },
   {
    "duration": 129,
    "start_time": "2021-12-07T18:58:15.630Z"
   },
   {
    "duration": 134,
    "start_time": "2021-12-07T18:58:15.761Z"
   },
   {
    "duration": 338708,
    "start_time": "2021-12-07T18:58:15.897Z"
   },
   {
    "duration": 3996,
    "start_time": "2021-12-07T19:03:54.607Z"
   },
   {
    "duration": 68069,
    "start_time": "2021-12-07T19:03:58.605Z"
   },
   {
    "duration": 14677,
    "start_time": "2021-12-07T19:05:06.676Z"
   },
   {
    "duration": 6,
    "start_time": "2021-12-07T19:05:21.355Z"
   },
   {
    "duration": 8,
    "start_time": "2021-12-07T19:05:45.550Z"
   },
   {
    "duration": 22,
    "start_time": "2021-12-07T19:05:48.472Z"
   },
   {
    "duration": 11,
    "start_time": "2021-12-07T19:05:51.143Z"
   },
   {
    "duration": 7,
    "start_time": "2021-12-07T19:05:53.686Z"
   },
   {
    "duration": 11,
    "start_time": "2021-12-07T19:06:05.170Z"
   },
   {
    "duration": 2005,
    "start_time": "2021-12-07T19:17:33.243Z"
   },
   {
    "duration": 52,
    "start_time": "2021-12-07T19:17:35.251Z"
   },
   {
    "duration": 31,
    "start_time": "2021-12-07T19:17:35.307Z"
   },
   {
    "duration": 91,
    "start_time": "2021-12-07T19:17:35.341Z"
   },
   {
    "duration": 17,
    "start_time": "2021-12-07T19:17:35.446Z"
   },
   {
    "duration": 17,
    "start_time": "2021-12-07T19:17:36.526Z"
   },
   {
    "duration": 6,
    "start_time": "2021-12-07T19:17:37.016Z"
   },
   {
    "duration": 451,
    "start_time": "2021-12-07T19:19:17.410Z"
   },
   {
    "duration": 449,
    "start_time": "2021-12-07T19:19:17.998Z"
   },
   {
    "duration": 542,
    "start_time": "2021-12-07T19:19:19.066Z"
   },
   {
    "duration": 148,
    "start_time": "2021-12-07T19:20:39.012Z"
   },
   {
    "duration": 57,
    "start_time": "2021-12-07T19:21:50.881Z"
   },
   {
    "duration": 9,
    "start_time": "2021-12-07T19:22:14.770Z"
   },
   {
    "duration": 10,
    "start_time": "2021-12-07T19:22:16.349Z"
   },
   {
    "duration": 10,
    "start_time": "2021-12-07T19:22:17.657Z"
   },
   {
    "duration": 189,
    "start_time": "2021-12-07T19:22:18.585Z"
   },
   {
    "duration": 349,
    "start_time": "2021-12-07T19:23:29.878Z"
   },
   {
    "duration": 1682,
    "start_time": "2021-12-08T10:08:29.237Z"
   },
   {
    "duration": 39,
    "start_time": "2021-12-08T10:08:30.922Z"
   },
   {
    "duration": 23,
    "start_time": "2021-12-08T10:08:30.964Z"
   },
   {
    "duration": 75,
    "start_time": "2021-12-08T10:08:30.990Z"
   },
   {
    "duration": 14,
    "start_time": "2021-12-08T10:08:31.067Z"
   },
   {
    "duration": 17,
    "start_time": "2021-12-08T10:08:31.083Z"
   },
   {
    "duration": 10,
    "start_time": "2021-12-08T10:08:31.103Z"
   },
   {
    "duration": 491,
    "start_time": "2021-12-08T10:08:31.116Z"
   },
   {
    "duration": 454,
    "start_time": "2021-12-08T10:08:31.609Z"
   },
   {
    "duration": 575,
    "start_time": "2021-12-08T10:08:32.066Z"
   },
   {
    "duration": 654,
    "start_time": "2021-12-08T10:08:32.643Z"
   },
   {
    "duration": 651,
    "start_time": "2021-12-08T10:10:19.086Z"
   },
   {
    "duration": 502,
    "start_time": "2021-12-08T10:13:34.952Z"
   },
   {
    "duration": 490,
    "start_time": "2021-12-08T10:15:47.470Z"
   },
   {
    "duration": 385,
    "start_time": "2021-12-08T10:15:59.264Z"
   },
   {
    "duration": 501,
    "start_time": "2021-12-08T10:16:48.948Z"
   },
   {
    "duration": 802,
    "start_time": "2021-12-08T10:16:54.792Z"
   },
   {
    "duration": 502,
    "start_time": "2021-12-08T10:17:03.008Z"
   },
   {
    "duration": 392,
    "start_time": "2021-12-08T10:17:24.028Z"
   },
   {
    "duration": 476,
    "start_time": "2021-12-08T10:17:43.955Z"
   },
   {
    "duration": 434,
    "start_time": "2021-12-08T10:17:49.054Z"
   },
   {
    "duration": 475,
    "start_time": "2021-12-08T10:18:13.223Z"
   },
   {
    "duration": 427,
    "start_time": "2021-12-08T10:18:23.077Z"
   },
   {
    "duration": 564,
    "start_time": "2021-12-08T10:18:36.197Z"
   },
   {
    "duration": 845,
    "start_time": "2021-12-08T10:18:55.764Z"
   },
   {
    "duration": 10,
    "start_time": "2021-12-08T10:21:04.843Z"
   },
   {
    "duration": 10327,
    "start_time": "2021-12-08T10:22:16.416Z"
   },
   {
    "duration": 9,
    "start_time": "2021-12-08T10:22:36.888Z"
   },
   {
    "duration": 1435,
    "start_time": "2021-12-08T10:22:58.681Z"
   },
   {
    "duration": 1100,
    "start_time": "2021-12-08T10:23:17.473Z"
   },
   {
    "duration": 1611,
    "start_time": "2021-12-08T10:23:51.467Z"
   },
   {
    "duration": 1224,
    "start_time": "2021-12-08T10:25:40.171Z"
   },
   {
    "duration": 1014,
    "start_time": "2021-12-08T10:25:46.506Z"
   },
   {
    "duration": 995,
    "start_time": "2021-12-08T10:25:57.981Z"
   },
   {
    "duration": 1558,
    "start_time": "2021-12-08T10:33:55.358Z"
   },
   {
    "duration": 41,
    "start_time": "2021-12-08T10:33:56.919Z"
   },
   {
    "duration": 21,
    "start_time": "2021-12-08T10:33:56.965Z"
   },
   {
    "duration": 75,
    "start_time": "2021-12-08T10:33:56.991Z"
   },
   {
    "duration": 13,
    "start_time": "2021-12-08T10:33:57.069Z"
   },
   {
    "duration": 16,
    "start_time": "2021-12-08T10:33:57.086Z"
   },
   {
    "duration": 6,
    "start_time": "2021-12-08T10:33:57.105Z"
   },
   {
    "duration": 490,
    "start_time": "2021-12-08T10:33:57.113Z"
   },
   {
    "duration": 468,
    "start_time": "2021-12-08T10:33:57.605Z"
   },
   {
    "duration": 579,
    "start_time": "2021-12-08T10:33:58.075Z"
   },
   {
    "duration": 1016,
    "start_time": "2021-12-08T10:33:58.660Z"
   },
   {
    "duration": 13,
    "start_time": "2021-12-08T10:33:59.678Z"
   },
   {
    "duration": 25,
    "start_time": "2021-12-08T10:33:59.694Z"
   },
   {
    "duration": 6,
    "start_time": "2021-12-08T10:33:59.721Z"
   },
   {
    "duration": 7,
    "start_time": "2021-12-08T10:33:59.759Z"
   },
   {
    "duration": 9,
    "start_time": "2021-12-08T10:33:59.768Z"
   },
   {
    "duration": 11,
    "start_time": "2021-12-08T10:33:59.779Z"
   },
   {
    "duration": 27828,
    "start_time": "2021-12-08T10:33:59.792Z"
   },
   {
    "duration": 1050,
    "start_time": "2021-12-08T10:34:27.622Z"
   },
   {
    "duration": 24943,
    "start_time": "2021-12-08T10:34:28.674Z"
   },
   {
    "duration": 4879,
    "start_time": "2021-12-08T10:34:53.619Z"
   },
   {
    "duration": 6,
    "start_time": "2021-12-08T10:34:58.502Z"
   },
   {
    "duration": 13,
    "start_time": "2021-12-08T10:36:17.994Z"
   },
   {
    "duration": 21,
    "start_time": "2021-12-08T10:36:21.986Z"
   },
   {
    "duration": 20,
    "start_time": "2021-12-08T10:36:24.692Z"
   },
   {
    "duration": 16,
    "start_time": "2021-12-08T10:36:27.766Z"
   },
   {
    "duration": 9,
    "start_time": "2021-12-08T10:36:30.726Z"
   },
   {
    "duration": 20,
    "start_time": "2021-12-08T10:36:50.822Z"
   },
   {
    "duration": 1678,
    "start_time": "2021-12-08T10:37:27.822Z"
   },
   {
    "duration": 43,
    "start_time": "2021-12-08T10:37:29.503Z"
   },
   {
    "duration": 25,
    "start_time": "2021-12-08T10:37:29.549Z"
   },
   {
    "duration": 53,
    "start_time": "2021-12-08T10:37:29.578Z"
   },
   {
    "duration": 15,
    "start_time": "2021-12-08T10:37:29.660Z"
   },
   {
    "duration": 19,
    "start_time": "2021-12-08T10:37:29.678Z"
   },
   {
    "duration": 6,
    "start_time": "2021-12-08T10:37:29.700Z"
   },
   {
    "duration": 509,
    "start_time": "2021-12-08T10:37:29.711Z"
   },
   {
    "duration": 470,
    "start_time": "2021-12-08T10:37:30.224Z"
   },
   {
    "duration": 700,
    "start_time": "2021-12-08T10:37:30.697Z"
   },
   {
    "duration": 1082,
    "start_time": "2021-12-08T10:37:31.399Z"
   },
   {
    "duration": 12,
    "start_time": "2021-12-08T10:37:32.484Z"
   },
   {
    "duration": 24,
    "start_time": "2021-12-08T10:37:32.500Z"
   },
   {
    "duration": 33,
    "start_time": "2021-12-08T10:37:32.527Z"
   },
   {
    "duration": 12,
    "start_time": "2021-12-08T10:37:32.563Z"
   },
   {
    "duration": 9,
    "start_time": "2021-12-08T10:37:32.578Z"
   },
   {
    "duration": 14,
    "start_time": "2021-12-08T10:37:32.590Z"
   },
   {
    "duration": 27410,
    "start_time": "2021-12-08T10:37:32.606Z"
   },
   {
    "duration": 1348,
    "start_time": "2021-12-08T10:38:00.019Z"
   },
   {
    "duration": 26903,
    "start_time": "2021-12-08T10:38:01.369Z"
   },
   {
    "duration": 4640,
    "start_time": "2021-12-08T10:38:28.274Z"
   },
   {
    "duration": 8,
    "start_time": "2021-12-08T10:38:32.917Z"
   },
   {
    "duration": 10,
    "start_time": "2021-12-08T10:38:53.198Z"
   },
   {
    "duration": 14,
    "start_time": "2021-12-08T10:38:56.741Z"
   },
   {
    "duration": 20,
    "start_time": "2021-12-08T10:39:01.133Z"
   },
   {
    "duration": 7,
    "start_time": "2021-12-08T10:39:03.733Z"
   },
   {
    "duration": 8,
    "start_time": "2021-12-08T10:39:09.238Z"
   },
   {
    "duration": 1715,
    "start_time": "2021-12-08T10:39:25.331Z"
   },
   {
    "duration": 48,
    "start_time": "2021-12-08T10:39:27.048Z"
   },
   {
    "duration": 20,
    "start_time": "2021-12-08T10:39:27.099Z"
   },
   {
    "duration": 64,
    "start_time": "2021-12-08T10:39:27.122Z"
   },
   {
    "duration": 12,
    "start_time": "2021-12-08T10:39:27.188Z"
   },
   {
    "duration": 15,
    "start_time": "2021-12-08T10:39:27.203Z"
   },
   {
    "duration": 39,
    "start_time": "2021-12-08T10:39:27.221Z"
   },
   {
    "duration": 462,
    "start_time": "2021-12-08T10:39:27.264Z"
   },
   {
    "duration": 470,
    "start_time": "2021-12-08T10:39:27.729Z"
   },
   {
    "duration": 3,
    "start_time": "2021-12-08T10:39:28.202Z"
   },
   {
    "duration": 1159,
    "start_time": "2021-12-08T10:39:28.207Z"
   },
   {
    "duration": 16,
    "start_time": "2021-12-08T10:39:29.368Z"
   },
   {
    "duration": 20,
    "start_time": "2021-12-08T10:39:29.388Z"
   },
   {
    "duration": 6,
    "start_time": "2021-12-08T10:39:29.410Z"
   },
   {
    "duration": 44,
    "start_time": "2021-12-08T10:39:29.418Z"
   },
   {
    "duration": 9,
    "start_time": "2021-12-08T10:39:29.464Z"
   },
   {
    "duration": 12,
    "start_time": "2021-12-08T10:39:29.476Z"
   },
   {
    "duration": 27377,
    "start_time": "2021-12-08T10:39:29.491Z"
   },
   {
    "duration": 1001,
    "start_time": "2021-12-08T10:39:56.870Z"
   },
   {
    "duration": 30607,
    "start_time": "2021-12-08T10:39:57.873Z"
   },
   {
    "duration": 6675,
    "start_time": "2021-12-08T10:40:28.484Z"
   },
   {
    "duration": 7,
    "start_time": "2021-12-08T10:40:35.162Z"
   },
   {
    "duration": 12,
    "start_time": "2021-12-08T10:40:53.145Z"
   },
   {
    "duration": 26,
    "start_time": "2021-12-08T10:40:56.150Z"
   },
   {
    "duration": 12,
    "start_time": "2021-12-08T10:40:58.502Z"
   },
   {
    "duration": 15,
    "start_time": "2021-12-08T10:41:00.918Z"
   },
   {
    "duration": 7,
    "start_time": "2021-12-08T10:43:35.783Z"
   },
   {
    "duration": 1232,
    "start_time": "2021-12-08T10:53:45.376Z"
   },
   {
    "duration": 1592,
    "start_time": "2021-12-08T11:06:04.036Z"
   },
   {
    "duration": 47,
    "start_time": "2021-12-08T11:06:05.631Z"
   },
   {
    "duration": 22,
    "start_time": "2021-12-08T11:06:05.681Z"
   },
   {
    "duration": 75,
    "start_time": "2021-12-08T11:06:05.705Z"
   },
   {
    "duration": 15,
    "start_time": "2021-12-08T11:06:05.788Z"
   },
   {
    "duration": 18,
    "start_time": "2021-12-08T11:06:05.805Z"
   },
   {
    "duration": 9,
    "start_time": "2021-12-08T11:06:05.860Z"
   },
   {
    "duration": 486,
    "start_time": "2021-12-08T11:06:05.871Z"
   },
   {
    "duration": 462,
    "start_time": "2021-12-08T11:06:06.359Z"
   },
   {
    "duration": 576,
    "start_time": "2021-12-08T11:06:06.824Z"
   },
   {
    "duration": 1240,
    "start_time": "2021-12-08T11:06:07.402Z"
   },
   {
    "duration": 25,
    "start_time": "2021-12-08T11:06:08.644Z"
   },
   {
    "duration": 25,
    "start_time": "2021-12-08T11:06:08.671Z"
   },
   {
    "duration": 6,
    "start_time": "2021-12-08T11:06:08.699Z"
   },
   {
    "duration": 9,
    "start_time": "2021-12-08T11:06:08.708Z"
   },
   {
    "duration": 42,
    "start_time": "2021-12-08T11:06:08.720Z"
   },
   {
    "duration": 12,
    "start_time": "2021-12-08T11:06:08.765Z"
   },
   {
    "duration": 33138,
    "start_time": "2021-12-08T11:06:08.780Z"
   },
   {
    "duration": 3339,
    "start_time": "2021-12-08T11:06:41.921Z"
   },
   {
    "duration": 27974,
    "start_time": "2021-12-08T11:06:45.263Z"
   },
   {
    "duration": 4470,
    "start_time": "2021-12-08T11:07:13.240Z"
   },
   {
    "duration": 7,
    "start_time": "2021-12-08T11:07:17.713Z"
   },
   {
    "duration": 11,
    "start_time": "2021-12-08T11:07:22.492Z"
   },
   {
    "duration": 15,
    "start_time": "2021-12-08T11:07:25.910Z"
   },
   {
    "duration": 8,
    "start_time": "2021-12-08T11:07:28.173Z"
   },
   {
    "duration": 8,
    "start_time": "2021-12-08T11:07:30.713Z"
   },
   {
    "duration": 1590,
    "start_time": "2021-12-08T11:08:01.103Z"
   },
   {
    "duration": 42,
    "start_time": "2021-12-08T11:08:02.696Z"
   },
   {
    "duration": 33,
    "start_time": "2021-12-08T11:08:02.741Z"
   },
   {
    "duration": 56,
    "start_time": "2021-12-08T11:08:02.778Z"
   },
   {
    "duration": 13,
    "start_time": "2021-12-08T11:08:02.859Z"
   },
   {
    "duration": 17,
    "start_time": "2021-12-08T11:08:02.874Z"
   },
   {
    "duration": 15,
    "start_time": "2021-12-08T11:08:02.894Z"
   },
   {
    "duration": 484,
    "start_time": "2021-12-08T11:08:02.914Z"
   },
   {
    "duration": 472,
    "start_time": "2021-12-08T11:08:03.401Z"
   },
   {
    "duration": 568,
    "start_time": "2021-12-08T11:08:03.876Z"
   },
   {
    "duration": 1131,
    "start_time": "2021-12-08T11:08:04.447Z"
   },
   {
    "duration": 19,
    "start_time": "2021-12-08T11:08:05.581Z"
   },
   {
    "duration": 27,
    "start_time": "2021-12-08T11:08:05.605Z"
   },
   {
    "duration": 7,
    "start_time": "2021-12-08T11:08:05.661Z"
   },
   {
    "duration": 10,
    "start_time": "2021-12-08T11:08:05.671Z"
   },
   {
    "duration": 9,
    "start_time": "2021-12-08T11:08:05.683Z"
   },
   {
    "duration": 12,
    "start_time": "2021-12-08T11:08:05.694Z"
   },
   {
    "duration": 30887,
    "start_time": "2021-12-08T11:08:05.708Z"
   },
   {
    "duration": 1563,
    "start_time": "2021-12-08T11:08:36.598Z"
   },
   {
    "duration": 26467,
    "start_time": "2021-12-08T11:08:38.164Z"
   },
   {
    "duration": 4903,
    "start_time": "2021-12-08T11:09:04.634Z"
   },
   {
    "duration": 10,
    "start_time": "2021-12-08T11:09:09.539Z"
   },
   {
    "duration": 8,
    "start_time": "2021-12-08T11:09:58.876Z"
   },
   {
    "duration": 11,
    "start_time": "2021-12-08T11:10:02.125Z"
   },
   {
    "duration": 17,
    "start_time": "2021-12-08T11:10:04.687Z"
   },
   {
    "duration": 7,
    "start_time": "2021-12-08T11:10:08.820Z"
   },
   {
    "duration": 23,
    "start_time": "2021-12-08T11:10:11.163Z"
   },
   {
    "duration": 8,
    "start_time": "2021-12-08T11:20:57.864Z"
   },
   {
    "duration": 8,
    "start_time": "2021-12-08T11:21:12.889Z"
   },
   {
    "duration": 7,
    "start_time": "2021-12-08T11:21:30.769Z"
   },
   {
    "duration": 8,
    "start_time": "2021-12-08T11:21:36.607Z"
   },
   {
    "duration": 7,
    "start_time": "2021-12-08T11:21:49.312Z"
   },
   {
    "duration": 633,
    "start_time": "2021-12-08T11:36:39.475Z"
   },
   {
    "duration": 746,
    "start_time": "2021-12-08T11:37:19.292Z"
   },
   {
    "duration": 1660,
    "start_time": "2021-12-08T11:37:48.200Z"
   },
   {
    "duration": 52,
    "start_time": "2021-12-08T11:37:49.863Z"
   },
   {
    "duration": 41,
    "start_time": "2021-12-08T11:37:49.918Z"
   },
   {
    "duration": 82,
    "start_time": "2021-12-08T11:37:49.962Z"
   },
   {
    "duration": 28,
    "start_time": "2021-12-08T11:37:50.047Z"
   },
   {
    "duration": 22,
    "start_time": "2021-12-08T11:37:50.079Z"
   },
   {
    "duration": 8,
    "start_time": "2021-12-08T11:37:50.103Z"
   },
   {
    "duration": 482,
    "start_time": "2021-12-08T11:37:50.161Z"
   },
   {
    "duration": 443,
    "start_time": "2021-12-08T11:37:50.658Z"
   },
   {
    "duration": 579,
    "start_time": "2021-12-08T11:37:51.104Z"
   },
   {
    "duration": 1075,
    "start_time": "2021-12-08T11:37:51.686Z"
   },
   {
    "duration": 476,
    "start_time": "2021-12-08T11:37:52.764Z"
   },
   {
    "duration": 24,
    "start_time": "2021-12-08T11:37:53.242Z"
   },
   {
    "duration": 579,
    "start_time": "2021-12-08T11:52:34.448Z"
   },
   {
    "duration": 543,
    "start_time": "2021-12-08T11:52:51.941Z"
   },
   {
    "duration": 1604,
    "start_time": "2021-12-08T11:53:04.008Z"
   },
   {
    "duration": 48,
    "start_time": "2021-12-08T11:53:05.621Z"
   },
   {
    "duration": 21,
    "start_time": "2021-12-08T11:53:05.672Z"
   },
   {
    "duration": 74,
    "start_time": "2021-12-08T11:53:05.695Z"
   },
   {
    "duration": 13,
    "start_time": "2021-12-08T11:53:05.772Z"
   },
   {
    "duration": 16,
    "start_time": "2021-12-08T11:53:05.787Z"
   },
   {
    "duration": 5,
    "start_time": "2021-12-08T11:53:05.807Z"
   },
   {
    "duration": 506,
    "start_time": "2021-12-08T11:53:05.815Z"
   },
   {
    "duration": 472,
    "start_time": "2021-12-08T11:53:06.323Z"
   },
   {
    "duration": 563,
    "start_time": "2021-12-08T11:53:06.798Z"
   },
   {
    "duration": 1185,
    "start_time": "2021-12-08T11:53:07.363Z"
   },
   {
    "duration": 17,
    "start_time": "2021-12-08T11:53:08.550Z"
   },
   {
    "duration": 24,
    "start_time": "2021-12-08T11:53:08.569Z"
   },
   {
    "duration": 5,
    "start_time": "2021-12-08T11:53:08.596Z"
   },
   {
    "duration": 9,
    "start_time": "2021-12-08T11:53:08.603Z"
   },
   {
    "duration": 9,
    "start_time": "2021-12-08T11:53:08.615Z"
   },
   {
    "duration": 11,
    "start_time": "2021-12-08T11:53:08.626Z"
   },
   {
    "duration": 27770,
    "start_time": "2021-12-08T11:53:08.639Z"
   },
   {
    "duration": 12862,
    "start_time": "2021-12-08T11:53:36.412Z"
   },
   {
    "duration": 30822,
    "start_time": "2021-12-08T11:53:49.277Z"
   },
   {
    "duration": 4128,
    "start_time": "2021-12-08T11:54:20.102Z"
   },
   {
    "duration": 650,
    "start_time": "2021-12-08T11:54:24.233Z"
   },
   {
    "duration": -133,
    "start_time": "2021-12-08T11:54:25.019Z"
   },
   {
    "duration": 419,
    "start_time": "2021-12-08T11:55:56.759Z"
   },
   {
    "duration": 754,
    "start_time": "2021-12-08T11:56:04.950Z"
   },
   {
    "duration": 13,
    "start_time": "2021-12-08T11:56:34.893Z"
   },
   {
    "duration": 385,
    "start_time": "2021-12-08T11:56:40.103Z"
   },
   {
    "duration": 826,
    "start_time": "2021-12-08T11:57:29.068Z"
   },
   {
    "duration": 398,
    "start_time": "2021-12-08T11:57:53.079Z"
   },
   {
    "duration": 463,
    "start_time": "2021-12-08T11:58:05.937Z"
   },
   {
    "duration": 13,
    "start_time": "2021-12-08T11:58:10.624Z"
   },
   {
    "duration": 452,
    "start_time": "2021-12-08T11:58:14.691Z"
   },
   {
    "duration": 390,
    "start_time": "2021-12-08T11:58:25.675Z"
   },
   {
    "duration": 367,
    "start_time": "2021-12-08T11:58:30.805Z"
   },
   {
    "duration": 394,
    "start_time": "2021-12-08T11:58:50.236Z"
   },
   {
    "duration": 375,
    "start_time": "2021-12-08T11:58:53.787Z"
   },
   {
    "duration": 1621,
    "start_time": "2021-12-08T12:00:28.573Z"
   },
   {
    "duration": 42,
    "start_time": "2021-12-08T12:00:30.197Z"
   },
   {
    "duration": 30,
    "start_time": "2021-12-08T12:00:30.243Z"
   },
   {
    "duration": 54,
    "start_time": "2021-12-08T12:00:30.276Z"
   },
   {
    "duration": 36,
    "start_time": "2021-12-08T12:00:30.333Z"
   },
   {
    "duration": 20,
    "start_time": "2021-12-08T12:00:30.371Z"
   },
   {
    "duration": 9,
    "start_time": "2021-12-08T12:00:30.394Z"
   },
   {
    "duration": 505,
    "start_time": "2021-12-08T12:00:30.407Z"
   },
   {
    "duration": 465,
    "start_time": "2021-12-08T12:00:30.914Z"
   },
   {
    "duration": 569,
    "start_time": "2021-12-08T12:00:31.382Z"
   },
   {
    "duration": 1049,
    "start_time": "2021-12-08T12:00:31.954Z"
   },
   {
    "duration": 15,
    "start_time": "2021-12-08T12:00:33.005Z"
   },
   {
    "duration": 45,
    "start_time": "2021-12-08T12:00:33.023Z"
   },
   {
    "duration": 6,
    "start_time": "2021-12-08T12:00:33.070Z"
   },
   {
    "duration": 7,
    "start_time": "2021-12-08T12:00:33.153Z"
   },
   {
    "duration": 7,
    "start_time": "2021-12-08T12:00:33.235Z"
   },
   {
    "duration": 11,
    "start_time": "2021-12-08T12:00:33.568Z"
   },
   {
    "duration": 31705,
    "start_time": "2021-12-08T12:00:33.733Z"
   },
   {
    "duration": 1537,
    "start_time": "2021-12-08T12:01:05.441Z"
   },
   {
    "duration": 26824,
    "start_time": "2021-12-08T12:01:06.981Z"
   },
   {
    "duration": 4304,
    "start_time": "2021-12-08T12:01:33.809Z"
   },
   {
    "duration": 382,
    "start_time": "2021-12-08T12:01:38.116Z"
   },
   {
    "duration": 630,
    "start_time": "2021-12-08T12:01:38.500Z"
   },
   {
    "duration": 399,
    "start_time": "2021-12-08T12:02:52.158Z"
   },
   {
    "duration": 389,
    "start_time": "2021-12-08T12:02:56.316Z"
   },
   {
    "duration": 387,
    "start_time": "2021-12-08T12:02:59.673Z"
   },
   {
    "duration": 393,
    "start_time": "2021-12-08T12:03:02.857Z"
   },
   {
    "duration": 483,
    "start_time": "2021-12-08T12:03:07.912Z"
   },
   {
    "duration": 1256,
    "start_time": "2021-12-08T20:31:22.535Z"
   },
   {
    "duration": 309,
    "start_time": "2021-12-08T20:31:23.793Z"
   },
   {
    "duration": 14,
    "start_time": "2021-12-08T20:31:24.104Z"
   },
   {
    "duration": 37,
    "start_time": "2021-12-08T20:31:24.120Z"
   },
   {
    "duration": 11,
    "start_time": "2021-12-08T20:31:24.159Z"
   },
   {
    "duration": 34,
    "start_time": "2021-12-08T20:31:24.172Z"
   },
   {
    "duration": 4,
    "start_time": "2021-12-08T20:31:24.208Z"
   },
   {
    "duration": 289,
    "start_time": "2021-12-08T20:31:24.216Z"
   },
   {
    "duration": 273,
    "start_time": "2021-12-08T20:31:24.507Z"
   },
   {
    "duration": 367,
    "start_time": "2021-12-08T20:31:24.781Z"
   },
   {
    "duration": 719,
    "start_time": "2021-12-08T20:31:25.150Z"
   },
   {
    "duration": 11,
    "start_time": "2021-12-08T20:31:25.871Z"
   },
   {
    "duration": 5,
    "start_time": "2021-12-08T20:31:25.884Z"
   },
   {
    "duration": 18,
    "start_time": "2021-12-08T20:31:31.191Z"
   },
   {
    "duration": 5,
    "start_time": "2021-12-08T20:31:41.866Z"
   },
   {
    "duration": 5,
    "start_time": "2021-12-08T20:31:41.953Z"
   },
   {
    "duration": 6,
    "start_time": "2021-12-08T20:31:42.036Z"
   },
   {
    "duration": 10,
    "start_time": "2021-12-08T20:31:42.583Z"
   },
   {
    "duration": 27427,
    "start_time": "2021-12-08T20:31:42.622Z"
   },
   {
    "duration": 2064,
    "start_time": "2021-12-08T20:32:10.051Z"
   },
   {
    "duration": 21134,
    "start_time": "2021-12-08T20:32:12.117Z"
   },
   {
    "duration": 3199,
    "start_time": "2021-12-08T20:32:33.253Z"
   },
   {
    "duration": 227,
    "start_time": "2021-12-08T20:32:36.454Z"
   },
   {
    "duration": 235,
    "start_time": "2021-12-08T20:32:42.373Z"
   },
   {
    "duration": 266,
    "start_time": "2021-12-08T20:32:47.405Z"
   },
   {
    "duration": 233,
    "start_time": "2021-12-08T20:32:52.802Z"
   },
   {
    "duration": 221,
    "start_time": "2021-12-08T20:32:55.737Z"
   },
   {
    "duration": 296,
    "start_time": "2021-12-08T20:32:59.610Z"
   },
   {
    "duration": 1304,
    "start_time": "2021-12-08T20:36:14.480Z"
   },
   {
    "duration": 33,
    "start_time": "2021-12-08T20:36:15.786Z"
   },
   {
    "duration": 16,
    "start_time": "2021-12-08T20:36:15.821Z"
   },
   {
    "duration": 38,
    "start_time": "2021-12-08T20:36:15.839Z"
   },
   {
    "duration": 30,
    "start_time": "2021-12-08T20:36:15.879Z"
   },
   {
    "duration": 12,
    "start_time": "2021-12-08T20:36:15.911Z"
   },
   {
    "duration": 4,
    "start_time": "2021-12-08T20:36:15.924Z"
   },
   {
    "duration": 309,
    "start_time": "2021-12-08T20:36:15.931Z"
   },
   {
    "duration": 286,
    "start_time": "2021-12-08T20:36:16.242Z"
   },
   {
    "duration": 359,
    "start_time": "2021-12-08T20:36:16.530Z"
   },
   {
    "duration": 679,
    "start_time": "2021-12-08T20:36:16.891Z"
   },
   {
    "duration": 10,
    "start_time": "2021-12-08T20:36:17.572Z"
   },
   {
    "duration": 457,
    "start_time": "2021-12-08T20:36:17.584Z"
   },
   {
    "duration": 4762,
    "start_time": "2021-12-08T20:36:44.929Z"
   },
   {
    "duration": 9,
    "start_time": "2021-12-08T20:39:10.755Z"
   },
   {
    "duration": 139,
    "start_time": "2021-12-08T20:39:11.122Z"
   },
   {
    "duration": 188,
    "start_time": "2021-12-08T20:39:20.696Z"
   },
   {
    "duration": 5,
    "start_time": "2021-12-08T20:39:21.573Z"
   },
   {
    "duration": 5,
    "start_time": "2021-12-08T20:39:21.657Z"
   },
   {
    "duration": 7,
    "start_time": "2021-12-08T20:39:21.741Z"
   },
   {
    "duration": 8,
    "start_time": "2021-12-08T20:39:22.162Z"
   },
   {
    "duration": 31637,
    "start_time": "2021-12-08T20:39:22.329Z"
   },
   {
    "duration": 3939,
    "start_time": "2021-12-08T20:39:53.968Z"
   },
   {
    "duration": 28787,
    "start_time": "2021-12-08T20:39:57.909Z"
   },
   {
    "duration": 4745,
    "start_time": "2021-12-08T20:40:26.697Z"
   },
   {
    "duration": 256,
    "start_time": "2021-12-08T20:40:31.444Z"
   },
   {
    "duration": 237,
    "start_time": "2021-12-08T20:40:37.056Z"
   },
   {
    "duration": 239,
    "start_time": "2021-12-08T20:40:41.742Z"
   },
   {
    "duration": 237,
    "start_time": "2021-12-08T20:40:45.755Z"
   },
   {
    "duration": 255,
    "start_time": "2021-12-08T20:40:48.555Z"
   },
   {
    "duration": 497,
    "start_time": "2021-12-08T20:40:51.623Z"
   },
   {
    "duration": 1392,
    "start_time": "2021-12-08T20:42:17.615Z"
   },
   {
    "duration": 33,
    "start_time": "2021-12-08T20:42:19.009Z"
   },
   {
    "duration": 14,
    "start_time": "2021-12-08T20:42:19.044Z"
   },
   {
    "duration": 50,
    "start_time": "2021-12-08T20:42:19.060Z"
   },
   {
    "duration": 9,
    "start_time": "2021-12-08T20:42:19.112Z"
   },
   {
    "duration": 11,
    "start_time": "2021-12-08T20:42:19.123Z"
   },
   {
    "duration": 5,
    "start_time": "2021-12-08T20:42:19.136Z"
   },
   {
    "duration": 367,
    "start_time": "2021-12-08T20:42:19.143Z"
   },
   {
    "duration": 327,
    "start_time": "2021-12-08T20:42:19.512Z"
   },
   {
    "duration": 372,
    "start_time": "2021-12-08T20:42:19.841Z"
   },
   {
    "duration": 719,
    "start_time": "2021-12-08T20:42:20.215Z"
   },
   {
    "duration": 16,
    "start_time": "2021-12-08T20:42:20.936Z"
   },
   {
    "duration": 83,
    "start_time": "2021-12-08T20:42:20.954Z"
   },
   {
    "duration": 22,
    "start_time": "2021-12-08T20:42:21.040Z"
   },
   {
    "duration": 5,
    "start_time": "2021-12-08T20:42:21.276Z"
   },
   {
    "duration": 6,
    "start_time": "2021-12-08T20:42:21.362Z"
   },
   {
    "duration": 5,
    "start_time": "2021-12-08T20:42:21.652Z"
   },
   {
    "duration": 8,
    "start_time": "2021-12-08T20:42:22.489Z"
   },
   {
    "duration": 29162,
    "start_time": "2021-12-08T20:42:22.662Z"
   },
   {
    "duration": 988,
    "start_time": "2021-12-08T20:42:51.826Z"
   },
   {
    "duration": 20784,
    "start_time": "2021-12-08T20:42:52.816Z"
   },
   {
    "duration": 3662,
    "start_time": "2021-12-08T20:43:13.602Z"
   },
   {
    "duration": 234,
    "start_time": "2021-12-08T20:43:17.266Z"
   },
   {
    "duration": 226,
    "start_time": "2021-12-08T20:43:23.556Z"
   },
   {
    "duration": 234,
    "start_time": "2021-12-08T20:43:26.963Z"
   },
   {
    "duration": 257,
    "start_time": "2021-12-08T20:43:30.026Z"
   },
   {
    "duration": 234,
    "start_time": "2021-12-08T20:43:32.659Z"
   },
   {
    "duration": 300,
    "start_time": "2021-12-08T20:43:35.167Z"
   },
   {
    "duration": 232,
    "start_time": "2021-12-08T20:43:37.562Z"
   },
   {
    "duration": 1313,
    "start_time": "2021-12-08T20:43:57.774Z"
   },
   {
    "duration": 33,
    "start_time": "2021-12-08T20:43:59.088Z"
   },
   {
    "duration": 16,
    "start_time": "2021-12-08T20:43:59.123Z"
   },
   {
    "duration": 39,
    "start_time": "2021-12-08T20:43:59.141Z"
   },
   {
    "duration": 27,
    "start_time": "2021-12-08T20:43:59.181Z"
   },
   {
    "duration": 12,
    "start_time": "2021-12-08T20:43:59.209Z"
   },
   {
    "duration": 6,
    "start_time": "2021-12-08T20:43:59.223Z"
   },
   {
    "duration": 308,
    "start_time": "2021-12-08T20:43:59.231Z"
   },
   {
    "duration": 284,
    "start_time": "2021-12-08T20:43:59.542Z"
   },
   {
    "duration": 380,
    "start_time": "2021-12-08T20:43:59.829Z"
   },
   {
    "duration": 672,
    "start_time": "2021-12-08T20:44:00.211Z"
   },
   {
    "duration": 21,
    "start_time": "2021-12-08T20:44:00.885Z"
   },
   {
    "duration": 16,
    "start_time": "2021-12-08T20:44:00.908Z"
   },
   {
    "duration": 38,
    "start_time": "2021-12-08T20:44:00.925Z"
   },
   {
    "duration": 4,
    "start_time": "2021-12-08T20:44:00.966Z"
   },
   {
    "duration": 6,
    "start_time": "2021-12-08T20:44:01.042Z"
   },
   {
    "duration": 6,
    "start_time": "2021-12-08T20:44:01.129Z"
   },
   {
    "duration": 7,
    "start_time": "2021-12-08T20:44:01.548Z"
   },
   {
    "duration": 27348,
    "start_time": "2021-12-08T20:44:01.714Z"
   },
   {
    "duration": 763,
    "start_time": "2021-12-08T20:44:29.063Z"
   },
   {
    "duration": 19706,
    "start_time": "2021-12-08T20:44:29.907Z"
   },
   {
    "duration": 4518,
    "start_time": "2021-12-08T20:44:49.615Z"
   },
   {
    "duration": 227,
    "start_time": "2021-12-08T20:44:54.135Z"
   },
   {
    "duration": 236,
    "start_time": "2021-12-08T20:45:00.501Z"
   },
   {
    "duration": 1144,
    "start_time": "2021-12-08T20:45:24.158Z"
   },
   {
    "duration": 31,
    "start_time": "2021-12-08T20:45:25.303Z"
   },
   {
    "duration": 14,
    "start_time": "2021-12-08T20:45:25.336Z"
   },
   {
    "duration": 38,
    "start_time": "2021-12-08T20:45:25.352Z"
   },
   {
    "duration": 24,
    "start_time": "2021-12-08T20:45:25.391Z"
   },
   {
    "duration": 11,
    "start_time": "2021-12-08T20:45:25.417Z"
   },
   {
    "duration": 5,
    "start_time": "2021-12-08T20:45:25.429Z"
   },
   {
    "duration": 277,
    "start_time": "2021-12-08T20:45:25.477Z"
   },
   {
    "duration": 279,
    "start_time": "2021-12-08T20:45:25.756Z"
   },
   {
    "duration": 400,
    "start_time": "2021-12-08T20:45:26.037Z"
   },
   {
    "duration": 699,
    "start_time": "2021-12-08T20:45:26.440Z"
   },
   {
    "duration": 11,
    "start_time": "2021-12-08T20:45:27.141Z"
   },
   {
    "duration": 3,
    "start_time": "2021-12-08T20:45:27.154Z"
   },
   {
    "duration": 22,
    "start_time": "2021-12-08T20:45:27.159Z"
   },
   {
    "duration": 5,
    "start_time": "2021-12-08T20:45:29.083Z"
   },
   {
    "duration": 6,
    "start_time": "2021-12-08T20:45:29.166Z"
   },
   {
    "duration": 5,
    "start_time": "2021-12-08T20:45:29.250Z"
   },
   {
    "duration": 8,
    "start_time": "2021-12-08T20:45:29.671Z"
   },
   {
    "duration": 21286,
    "start_time": "2021-12-08T20:45:29.838Z"
   },
   {
    "duration": 1491,
    "start_time": "2021-12-08T20:45:51.126Z"
   },
   {
    "duration": 20438,
    "start_time": "2021-12-08T20:45:52.619Z"
   },
   {
    "duration": 3363,
    "start_time": "2021-12-08T20:46:13.059Z"
   },
   {
    "duration": 251,
    "start_time": "2021-12-08T20:46:16.424Z"
   },
   {
    "duration": 252,
    "start_time": "2021-12-08T20:46:27.211Z"
   },
   {
    "duration": 267,
    "start_time": "2021-12-08T20:46:30.656Z"
   },
   {
    "duration": 254,
    "start_time": "2021-12-08T20:46:33.879Z"
   },
   {
    "duration": 248,
    "start_time": "2021-12-08T20:46:36.382Z"
   },
   {
    "duration": 305,
    "start_time": "2021-12-08T20:46:38.820Z"
   },
   {
    "duration": 1264,
    "start_time": "2021-12-08T20:46:59.331Z"
   },
   {
    "duration": 33,
    "start_time": "2021-12-08T20:47:00.597Z"
   },
   {
    "duration": 15,
    "start_time": "2021-12-08T20:47:00.632Z"
   },
   {
    "duration": 39,
    "start_time": "2021-12-08T20:47:00.649Z"
   },
   {
    "duration": 24,
    "start_time": "2021-12-08T20:47:00.690Z"
   },
   {
    "duration": 41,
    "start_time": "2021-12-08T20:47:00.715Z"
   },
   {
    "duration": 70,
    "start_time": "2021-12-08T20:47:00.758Z"
   },
   {
    "duration": 306,
    "start_time": "2021-12-08T20:47:00.830Z"
   },
   {
    "duration": 283,
    "start_time": "2021-12-08T20:47:01.138Z"
   },
   {
    "duration": 368,
    "start_time": "2021-12-08T20:47:01.423Z"
   },
   {
    "duration": 668,
    "start_time": "2021-12-08T20:47:01.793Z"
   },
   {
    "duration": 9,
    "start_time": "2021-12-08T20:47:02.463Z"
   },
   {
    "duration": 81,
    "start_time": "2021-12-08T20:47:02.474Z"
   },
   {
    "duration": 16,
    "start_time": "2021-12-08T20:47:02.557Z"
   },
   {
    "duration": 6,
    "start_time": "2021-12-08T20:47:03.410Z"
   },
   {
    "duration": 6,
    "start_time": "2021-12-08T20:47:03.493Z"
   },
   {
    "duration": 6,
    "start_time": "2021-12-08T20:47:03.577Z"
   },
   {
    "duration": 9,
    "start_time": "2021-12-08T20:47:03.997Z"
   },
   {
    "duration": 22527,
    "start_time": "2021-12-08T20:47:04.807Z"
   },
   {
    "duration": 889,
    "start_time": "2021-12-08T20:47:27.336Z"
   },
   {
    "duration": 21058,
    "start_time": "2021-12-08T20:47:28.307Z"
   },
   {
    "duration": 4298,
    "start_time": "2021-12-08T20:47:49.367Z"
   },
   {
    "duration": 341,
    "start_time": "2021-12-08T20:47:53.668Z"
   },
   {
    "duration": 1268,
    "start_time": "2021-12-08T20:48:31.585Z"
   },
   {
    "duration": 33,
    "start_time": "2021-12-08T20:48:32.855Z"
   },
   {
    "duration": 19,
    "start_time": "2021-12-08T20:48:32.891Z"
   },
   {
    "duration": 39,
    "start_time": "2021-12-08T20:48:32.913Z"
   },
   {
    "duration": 11,
    "start_time": "2021-12-08T20:48:32.954Z"
   },
   {
    "duration": 41,
    "start_time": "2021-12-08T20:48:32.966Z"
   },
   {
    "duration": 5,
    "start_time": "2021-12-08T20:48:33.009Z"
   },
   {
    "duration": 291,
    "start_time": "2021-12-08T20:48:33.017Z"
   },
   {
    "duration": 274,
    "start_time": "2021-12-08T20:48:33.310Z"
   },
   {
    "duration": 365,
    "start_time": "2021-12-08T20:48:33.585Z"
   },
   {
    "duration": 706,
    "start_time": "2021-12-08T20:48:33.952Z"
   },
   {
    "duration": 10,
    "start_time": "2021-12-08T20:48:34.660Z"
   },
   {
    "duration": 8,
    "start_time": "2021-12-08T20:48:34.671Z"
   },
   {
    "duration": 30,
    "start_time": "2021-12-08T20:48:34.680Z"
   },
   {
    "duration": 5,
    "start_time": "2021-12-08T20:48:34.768Z"
   },
   {
    "duration": 5,
    "start_time": "2021-12-08T20:48:35.113Z"
   },
   {
    "duration": 6,
    "start_time": "2021-12-08T20:48:35.616Z"
   },
   {
    "duration": 8,
    "start_time": "2021-12-08T20:48:36.034Z"
   },
   {
    "duration": 25137,
    "start_time": "2021-12-08T20:48:36.199Z"
   },
   {
    "duration": 780,
    "start_time": "2021-12-08T20:49:01.338Z"
   },
   {
    "duration": 24588,
    "start_time": "2021-12-08T20:49:02.120Z"
   },
   {
    "duration": 4138,
    "start_time": "2021-12-08T20:49:26.710Z"
   },
   {
    "duration": 249,
    "start_time": "2021-12-08T20:49:30.850Z"
   },
   {
    "duration": 1156,
    "start_time": "2021-12-09T09:23:46.631Z"
   },
   {
    "duration": 32,
    "start_time": "2021-12-09T09:23:47.948Z"
   },
   {
    "duration": 15,
    "start_time": "2021-12-09T09:23:48.272Z"
   },
   {
    "duration": 38,
    "start_time": "2021-12-09T09:23:48.512Z"
   },
   {
    "duration": 9,
    "start_time": "2021-12-09T09:23:48.765Z"
   },
   {
    "duration": 11,
    "start_time": "2021-12-09T09:23:49.015Z"
   },
   {
    "duration": 4,
    "start_time": "2021-12-09T09:23:49.290Z"
   },
   {
    "duration": 269,
    "start_time": "2021-12-09T09:23:50.762Z"
   },
   {
    "duration": 272,
    "start_time": "2021-12-09T09:23:51.277Z"
   },
   {
    "duration": 341,
    "start_time": "2021-12-09T09:23:51.578Z"
   },
   {
    "duration": 653,
    "start_time": "2021-12-09T09:23:51.928Z"
   },
   {
    "duration": 716,
    "start_time": "2021-12-09T09:23:52.583Z"
   },
   {
    "duration": 1236,
    "start_time": "2021-12-09T09:33:02.949Z"
   },
   {
    "duration": 32,
    "start_time": "2021-12-09T09:33:04.187Z"
   },
   {
    "duration": 15,
    "start_time": "2021-12-09T09:33:04.221Z"
   },
   {
    "duration": 39,
    "start_time": "2021-12-09T09:33:04.238Z"
   },
   {
    "duration": 29,
    "start_time": "2021-12-09T09:33:04.278Z"
   },
   {
    "duration": 12,
    "start_time": "2021-12-09T09:33:04.308Z"
   },
   {
    "duration": 5,
    "start_time": "2021-12-09T09:33:04.321Z"
   },
   {
    "duration": 309,
    "start_time": "2021-12-09T09:33:04.328Z"
   },
   {
    "duration": 288,
    "start_time": "2021-12-09T09:33:04.639Z"
   },
   {
    "duration": 381,
    "start_time": "2021-12-09T09:33:04.929Z"
   },
   {
    "duration": 677,
    "start_time": "2021-12-09T09:33:05.312Z"
   },
   {
    "duration": 716,
    "start_time": "2021-12-09T09:33:05.990Z"
   },
   {
    "duration": 12,
    "start_time": "2021-12-09T09:33:06.708Z"
   },
   {
    "duration": 69,
    "start_time": "2021-12-09T09:33:06.722Z"
   },
   {
    "duration": 30,
    "start_time": "2021-12-09T09:33:06.793Z"
   },
   {
    "duration": 4,
    "start_time": "2021-12-09T09:33:06.825Z"
   },
   {
    "duration": 8,
    "start_time": "2021-12-09T09:33:06.831Z"
   },
   {
    "duration": 8,
    "start_time": "2021-12-09T09:33:06.841Z"
   },
   {
    "duration": 7,
    "start_time": "2021-12-09T09:33:06.851Z"
   },
   {
    "duration": 29364,
    "start_time": "2021-12-09T09:33:06.978Z"
   },
   {
    "duration": 1176,
    "start_time": "2021-12-09T09:33:36.344Z"
   },
   {
    "duration": 21354,
    "start_time": "2021-12-09T09:33:37.522Z"
   },
   {
    "duration": 3521,
    "start_time": "2021-12-09T09:33:58.878Z"
   },
   {
    "duration": 246,
    "start_time": "2021-12-09T09:34:02.401Z"
   },
   {
    "duration": 238,
    "start_time": "2021-12-09T09:34:11.272Z"
   },
   {
    "duration": 243,
    "start_time": "2021-12-09T09:34:14.670Z"
   },
   {
    "duration": 307,
    "start_time": "2021-12-09T09:34:17.574Z"
   },
   {
    "duration": 233,
    "start_time": "2021-12-09T09:34:20.261Z"
   },
   {
    "duration": 1239,
    "start_time": "2021-12-09T09:34:48.239Z"
   },
   {
    "duration": 32,
    "start_time": "2021-12-09T09:34:49.480Z"
   },
   {
    "duration": 15,
    "start_time": "2021-12-09T09:34:49.514Z"
   },
   {
    "duration": 36,
    "start_time": "2021-12-09T09:34:49.531Z"
   },
   {
    "duration": 9,
    "start_time": "2021-12-09T09:34:49.569Z"
   },
   {
    "duration": 34,
    "start_time": "2021-12-09T09:34:49.579Z"
   },
   {
    "duration": 5,
    "start_time": "2021-12-09T09:34:49.615Z"
   },
   {
    "duration": 287,
    "start_time": "2021-12-09T09:34:49.622Z"
   },
   {
    "duration": 277,
    "start_time": "2021-12-09T09:34:49.911Z"
   },
   {
    "duration": 362,
    "start_time": "2021-12-09T09:34:50.190Z"
   },
   {
    "duration": 703,
    "start_time": "2021-12-09T09:34:50.554Z"
   },
   {
    "duration": 725,
    "start_time": "2021-12-09T09:34:51.259Z"
   },
   {
    "duration": 21,
    "start_time": "2021-12-09T09:34:51.986Z"
   },
   {
    "duration": 2,
    "start_time": "2021-12-09T09:34:52.010Z"
   },
   {
    "duration": 19,
    "start_time": "2021-12-09T09:34:52.014Z"
   },
   {
    "duration": 4,
    "start_time": "2021-12-09T09:34:52.035Z"
   },
   {
    "duration": 16,
    "start_time": "2021-12-09T09:34:52.040Z"
   },
   {
    "duration": 7,
    "start_time": "2021-12-09T09:34:52.058Z"
   },
   {
    "duration": 7,
    "start_time": "2021-12-09T09:34:52.102Z"
   },
   {
    "duration": 25827,
    "start_time": "2021-12-09T09:34:52.273Z"
   },
   {
    "duration": 1207,
    "start_time": "2021-12-09T09:35:18.106Z"
   },
   {
    "duration": 23518,
    "start_time": "2021-12-09T09:35:19.315Z"
   },
   {
    "duration": 4034,
    "start_time": "2021-12-09T09:35:42.835Z"
   },
   {
    "duration": 220,
    "start_time": "2021-12-09T09:35:46.871Z"
   },
   {
    "duration": 237,
    "start_time": "2021-12-09T09:36:23.860Z"
   },
   {
    "duration": 227,
    "start_time": "2021-12-09T09:36:27.685Z"
   },
   {
    "duration": 295,
    "start_time": "2021-12-09T09:36:30.354Z"
   },
   {
    "duration": 225,
    "start_time": "2021-12-09T09:36:32.752Z"
   },
   {
    "duration": 220,
    "start_time": "2021-12-09T09:36:36.295Z"
   },
   {
    "duration": 1271,
    "start_time": "2021-12-09T09:36:56.683Z"
   },
   {
    "duration": 32,
    "start_time": "2021-12-09T09:36:57.955Z"
   },
   {
    "duration": 18,
    "start_time": "2021-12-09T09:36:57.989Z"
   },
   {
    "duration": 37,
    "start_time": "2021-12-09T09:36:58.010Z"
   },
   {
    "duration": 10,
    "start_time": "2021-12-09T09:36:58.049Z"
   },
   {
    "duration": 11,
    "start_time": "2021-12-09T09:36:58.060Z"
   },
   {
    "duration": 35,
    "start_time": "2021-12-09T09:36:58.073Z"
   },
   {
    "duration": 281,
    "start_time": "2021-12-09T09:36:58.110Z"
   },
   {
    "duration": 296,
    "start_time": "2021-12-09T09:36:58.393Z"
   },
   {
    "duration": 367,
    "start_time": "2021-12-09T09:36:58.690Z"
   },
   {
    "duration": 685,
    "start_time": "2021-12-09T09:36:59.059Z"
   },
   {
    "duration": 760,
    "start_time": "2021-12-09T09:36:59.746Z"
   },
   {
    "duration": 13,
    "start_time": "2021-12-09T09:37:00.508Z"
   },
   {
    "duration": 74,
    "start_time": "2021-12-09T09:37:00.523Z"
   },
   {
    "duration": 25,
    "start_time": "2021-12-09T09:37:00.598Z"
   },
   {
    "duration": 4,
    "start_time": "2021-12-09T09:37:00.626Z"
   },
   {
    "duration": 15,
    "start_time": "2021-12-09T09:37:00.632Z"
   },
   {
    "duration": 12,
    "start_time": "2021-12-09T09:37:00.649Z"
   },
   {
    "duration": 22,
    "start_time": "2021-12-09T09:37:00.663Z"
   },
   {
    "duration": 26437,
    "start_time": "2021-12-09T09:37:00.708Z"
   },
   {
    "duration": 1064,
    "start_time": "2021-12-09T09:37:27.147Z"
   },
   {
    "duration": 21255,
    "start_time": "2021-12-09T09:37:28.213Z"
   },
   {
    "duration": 4167,
    "start_time": "2021-12-09T09:37:49.470Z"
   },
   {
    "duration": 215,
    "start_time": "2021-12-09T09:37:53.639Z"
   },
   {
    "duration": 235,
    "start_time": "2021-12-09T09:38:19.880Z"
   },
   {
    "duration": 1250,
    "start_time": "2021-12-09T09:38:41.177Z"
   },
   {
    "duration": 33,
    "start_time": "2021-12-09T09:38:42.429Z"
   },
   {
    "duration": 15,
    "start_time": "2021-12-09T09:38:42.465Z"
   },
   {
    "duration": 47,
    "start_time": "2021-12-09T09:38:42.482Z"
   },
   {
    "duration": 9,
    "start_time": "2021-12-09T09:38:42.531Z"
   },
   {
    "duration": 18,
    "start_time": "2021-12-09T09:38:42.542Z"
   },
   {
    "duration": 6,
    "start_time": "2021-12-09T09:38:42.562Z"
   },
   {
    "duration": 303,
    "start_time": "2021-12-09T09:38:42.570Z"
   },
   {
    "duration": 288,
    "start_time": "2021-12-09T09:38:42.875Z"
   },
   {
    "duration": 369,
    "start_time": "2021-12-09T09:38:43.165Z"
   },
   {
    "duration": 692,
    "start_time": "2021-12-09T09:38:43.536Z"
   },
   {
    "duration": 688,
    "start_time": "2021-12-09T09:38:44.230Z"
   },
   {
    "duration": 8,
    "start_time": "2021-12-09T09:38:44.920Z"
   },
   {
    "duration": 82,
    "start_time": "2021-12-09T09:38:44.931Z"
   },
   {
    "duration": 17,
    "start_time": "2021-12-09T09:38:45.015Z"
   },
   {
    "duration": 4,
    "start_time": "2021-12-09T09:38:45.034Z"
   },
   {
    "duration": 22,
    "start_time": "2021-12-09T09:38:45.040Z"
   },
   {
    "duration": 8,
    "start_time": "2021-12-09T09:38:45.064Z"
   },
   {
    "duration": 10,
    "start_time": "2021-12-09T09:38:45.074Z"
   },
   {
    "duration": 22074,
    "start_time": "2021-12-09T09:38:45.206Z"
   },
   {
    "duration": 1244,
    "start_time": "2021-12-09T09:39:07.283Z"
   },
   {
    "duration": 24578,
    "start_time": "2021-12-09T09:39:08.607Z"
   },
   {
    "duration": 3362,
    "start_time": "2021-12-09T09:39:33.187Z"
   },
   {
    "duration": 239,
    "start_time": "2021-12-09T09:39:36.551Z"
   },
   {
    "duration": 1295,
    "start_time": "2021-12-09T09:39:58.567Z"
   },
   {
    "duration": 33,
    "start_time": "2021-12-09T09:39:59.864Z"
   },
   {
    "duration": 15,
    "start_time": "2021-12-09T09:39:59.899Z"
   },
   {
    "duration": 44,
    "start_time": "2021-12-09T09:39:59.915Z"
   },
   {
    "duration": 12,
    "start_time": "2021-12-09T09:39:59.961Z"
   },
   {
    "duration": 44,
    "start_time": "2021-12-09T09:39:59.975Z"
   },
   {
    "duration": 5,
    "start_time": "2021-12-09T09:40:00.021Z"
   },
   {
    "duration": 308,
    "start_time": "2021-12-09T09:40:00.028Z"
   },
   {
    "duration": 303,
    "start_time": "2021-12-09T09:40:00.338Z"
   },
   {
    "duration": 404,
    "start_time": "2021-12-09T09:40:00.643Z"
   },
   {
    "duration": 852,
    "start_time": "2021-12-09T09:40:01.050Z"
   },
   {
    "duration": 711,
    "start_time": "2021-12-09T09:40:01.906Z"
   },
   {
    "duration": 9,
    "start_time": "2021-12-09T09:40:02.619Z"
   },
   {
    "duration": 2,
    "start_time": "2021-12-09T09:40:02.630Z"
   },
   {
    "duration": 21,
    "start_time": "2021-12-09T09:40:02.634Z"
   },
   {
    "duration": 6,
    "start_time": "2021-12-09T09:40:02.657Z"
   },
   {
    "duration": 6,
    "start_time": "2021-12-09T09:40:02.701Z"
   },
   {
    "duration": 6,
    "start_time": "2021-12-09T09:40:02.782Z"
   },
   {
    "duration": 9,
    "start_time": "2021-12-09T09:40:03.205Z"
   },
   {
    "duration": 21442,
    "start_time": "2021-12-09T09:40:04.028Z"
   },
   {
    "duration": 1043,
    "start_time": "2021-12-09T09:40:25.472Z"
   },
   {
    "duration": 18982,
    "start_time": "2021-12-09T09:40:26.517Z"
   },
   {
    "duration": 3123,
    "start_time": "2021-12-09T09:40:45.501Z"
   },
   {
    "duration": 250,
    "start_time": "2021-12-09T09:40:48.626Z"
   },
   {
    "duration": 247,
    "start_time": "2021-12-09T09:40:56.361Z"
   },
   {
    "duration": 250,
    "start_time": "2021-12-09T09:40:59.170Z"
   },
   {
    "duration": 307,
    "start_time": "2021-12-09T09:41:02.066Z"
   },
   {
    "duration": 249,
    "start_time": "2021-12-09T09:41:04.765Z"
   },
   {
    "duration": 251,
    "start_time": "2021-12-09T09:41:07.193Z"
   },
   {
    "duration": 1261,
    "start_time": "2021-12-09T09:41:31.460Z"
   },
   {
    "duration": 34,
    "start_time": "2021-12-09T09:41:32.723Z"
   },
   {
    "duration": 15,
    "start_time": "2021-12-09T09:41:32.759Z"
   },
   {
    "duration": 68,
    "start_time": "2021-12-09T09:41:32.777Z"
   },
   {
    "duration": 13,
    "start_time": "2021-12-09T09:41:32.847Z"
   },
   {
    "duration": 17,
    "start_time": "2021-12-09T09:41:32.863Z"
   },
   {
    "duration": 28,
    "start_time": "2021-12-09T09:41:32.882Z"
   },
   {
    "duration": 311,
    "start_time": "2021-12-09T09:41:32.913Z"
   },
   {
    "duration": 306,
    "start_time": "2021-12-09T09:41:33.226Z"
   },
   {
    "duration": 410,
    "start_time": "2021-12-09T09:41:33.535Z"
   },
   {
    "duration": 757,
    "start_time": "2021-12-09T09:41:33.947Z"
   },
   {
    "duration": 725,
    "start_time": "2021-12-09T09:41:34.707Z"
   },
   {
    "duration": 10,
    "start_time": "2021-12-09T09:41:35.434Z"
   },
   {
    "duration": 3,
    "start_time": "2021-12-09T09:41:35.447Z"
   },
   {
    "duration": 22,
    "start_time": "2021-12-09T09:41:35.452Z"
   },
   {
    "duration": 4,
    "start_time": "2021-12-09T09:41:35.476Z"
   },
   {
    "duration": 28,
    "start_time": "2021-12-09T09:41:35.482Z"
   },
   {
    "duration": 6,
    "start_time": "2021-12-09T09:41:35.512Z"
   },
   {
    "duration": 8,
    "start_time": "2021-12-09T09:41:35.520Z"
   },
   {
    "duration": 23697,
    "start_time": "2021-12-09T09:41:35.531Z"
   },
   {
    "duration": 1091,
    "start_time": "2021-12-09T09:41:59.230Z"
   },
   {
    "duration": 20688,
    "start_time": "2021-12-09T09:42:00.324Z"
   },
   {
    "duration": 3482,
    "start_time": "2021-12-09T09:42:21.014Z"
   },
   {
    "duration": 220,
    "start_time": "2021-12-09T09:42:24.498Z"
   },
   {
    "duration": 231,
    "start_time": "2021-12-09T09:42:30.776Z"
   },
   {
    "duration": 228,
    "start_time": "2021-12-09T09:42:35.765Z"
   },
   {
    "duration": 296,
    "start_time": "2021-12-09T09:42:39.633Z"
   },
   {
    "duration": 221,
    "start_time": "2021-12-09T09:42:43.074Z"
   },
   {
    "duration": 213,
    "start_time": "2021-12-09T09:42:46.571Z"
   },
   {
    "duration": 243,
    "start_time": "2021-12-09T09:43:44.439Z"
   },
   {
    "duration": 1239,
    "start_time": "2021-12-09T09:46:33.138Z"
   },
   {
    "duration": 35,
    "start_time": "2021-12-09T09:46:34.379Z"
   },
   {
    "duration": 14,
    "start_time": "2021-12-09T09:46:34.416Z"
   },
   {
    "duration": 36,
    "start_time": "2021-12-09T09:46:34.432Z"
   },
   {
    "duration": 9,
    "start_time": "2021-12-09T09:46:34.470Z"
   },
   {
    "duration": 33,
    "start_time": "2021-12-09T09:46:34.481Z"
   },
   {
    "duration": 4,
    "start_time": "2021-12-09T09:46:34.516Z"
   },
   {
    "duration": 274,
    "start_time": "2021-12-09T09:46:34.779Z"
   },
   {
    "duration": 283,
    "start_time": "2021-12-09T09:46:35.055Z"
   },
   {
    "duration": 371,
    "start_time": "2021-12-09T09:46:35.339Z"
   },
   {
    "duration": 680,
    "start_time": "2021-12-09T09:46:35.712Z"
   },
   {
    "duration": 688,
    "start_time": "2021-12-09T09:46:36.395Z"
   },
   {
    "duration": 8,
    "start_time": "2021-12-09T09:46:37.085Z"
   },
   {
    "duration": 127,
    "start_time": "2021-12-09T09:46:37.359Z"
   },
   {
    "duration": 16,
    "start_time": "2021-12-09T09:46:40.188Z"
   },
   {
    "duration": 5,
    "start_time": "2021-12-09T09:46:40.985Z"
   },
   {
    "duration": 6,
    "start_time": "2021-12-09T09:46:41.171Z"
   },
   {
    "duration": 6,
    "start_time": "2021-12-09T09:46:41.415Z"
   },
   {
    "duration": 9,
    "start_time": "2021-12-09T09:46:42.612Z"
   },
   {
    "duration": 20472,
    "start_time": "2021-12-09T09:46:42.778Z"
   },
   {
    "duration": 964,
    "start_time": "2021-12-09T09:47:03.252Z"
   },
   {
    "duration": 20351,
    "start_time": "2021-12-09T09:47:04.218Z"
   },
   {
    "duration": 3402,
    "start_time": "2021-12-09T09:47:24.571Z"
   },
   {
    "duration": 261,
    "start_time": "2021-12-09T09:47:27.975Z"
   },
   {
    "duration": 246,
    "start_time": "2021-12-09T09:47:32.972Z"
   },
   {
    "duration": 1392,
    "start_time": "2021-12-09T09:48:37.457Z"
   },
   {
    "duration": 32,
    "start_time": "2021-12-09T09:48:38.850Z"
   },
   {
    "duration": 15,
    "start_time": "2021-12-09T09:48:38.885Z"
   },
   {
    "duration": 38,
    "start_time": "2021-12-09T09:48:38.907Z"
   },
   {
    "duration": 10,
    "start_time": "2021-12-09T09:48:38.947Z"
   },
   {
    "duration": 18,
    "start_time": "2021-12-09T09:48:38.958Z"
   },
   {
    "duration": 31,
    "start_time": "2021-12-09T09:48:38.977Z"
   },
   {
    "duration": 299,
    "start_time": "2021-12-09T09:48:39.010Z"
   },
   {
    "duration": 284,
    "start_time": "2021-12-09T09:48:39.311Z"
   },
   {
    "duration": 387,
    "start_time": "2021-12-09T09:48:39.597Z"
   },
   {
    "duration": 671,
    "start_time": "2021-12-09T09:48:39.986Z"
   },
   {
    "duration": 749,
    "start_time": "2021-12-09T09:48:40.659Z"
   },
   {
    "duration": 9,
    "start_time": "2021-12-09T09:48:41.410Z"
   },
   {
    "duration": 143,
    "start_time": "2021-12-09T09:48:41.421Z"
   },
   {
    "duration": 16,
    "start_time": "2021-12-09T09:48:41.566Z"
   },
   {
    "duration": 4,
    "start_time": "2021-12-09T09:48:41.584Z"
   },
   {
    "duration": 19,
    "start_time": "2021-12-09T09:48:41.590Z"
   },
   {
    "duration": 9,
    "start_time": "2021-12-09T09:48:41.611Z"
   },
   {
    "duration": 8,
    "start_time": "2021-12-09T09:48:41.622Z"
   },
   {
    "duration": 20801,
    "start_time": "2021-12-09T09:48:41.632Z"
   },
   {
    "duration": 1073,
    "start_time": "2021-12-09T09:49:02.435Z"
   },
   {
    "duration": 19639,
    "start_time": "2021-12-09T09:49:03.510Z"
   },
   {
    "duration": 3188,
    "start_time": "2021-12-09T09:49:23.152Z"
   },
   {
    "duration": 235,
    "start_time": "2021-12-09T09:49:26.342Z"
   },
   {
    "duration": 1292,
    "start_time": "2021-12-09T09:50:18.894Z"
   },
   {
    "duration": 31,
    "start_time": "2021-12-09T09:50:20.188Z"
   },
   {
    "duration": 15,
    "start_time": "2021-12-09T09:50:20.221Z"
   },
   {
    "duration": 38,
    "start_time": "2021-12-09T09:50:20.238Z"
   },
   {
    "duration": 32,
    "start_time": "2021-12-09T09:50:20.278Z"
   },
   {
    "duration": 12,
    "start_time": "2021-12-09T09:50:20.312Z"
   },
   {
    "duration": 5,
    "start_time": "2021-12-09T09:50:20.326Z"
   },
   {
    "duration": 303,
    "start_time": "2021-12-09T09:50:20.334Z"
   },
   {
    "duration": 282,
    "start_time": "2021-12-09T09:50:20.639Z"
   },
   {
    "duration": 388,
    "start_time": "2021-12-09T09:50:20.923Z"
   },
   {
    "duration": 761,
    "start_time": "2021-12-09T09:50:21.314Z"
   },
   {
    "duration": 715,
    "start_time": "2021-12-09T09:50:22.077Z"
   },
   {
    "duration": 13,
    "start_time": "2021-12-09T09:50:22.794Z"
   },
   {
    "duration": 145,
    "start_time": "2021-12-09T09:50:22.808Z"
   },
   {
    "duration": 17,
    "start_time": "2021-12-09T09:50:22.955Z"
   },
   {
    "duration": 5,
    "start_time": "2021-12-09T09:50:22.975Z"
   },
   {
    "duration": 24,
    "start_time": "2021-12-09T09:50:22.983Z"
   },
   {
    "duration": 9,
    "start_time": "2021-12-09T09:50:23.009Z"
   },
   {
    "duration": 9,
    "start_time": "2021-12-09T09:50:23.393Z"
   },
   {
    "duration": 20712,
    "start_time": "2021-12-09T09:50:23.667Z"
   },
   {
    "duration": 834,
    "start_time": "2021-12-09T09:50:44.381Z"
   },
   {
    "duration": 20028,
    "start_time": "2021-12-09T09:50:45.217Z"
   },
   {
    "duration": 3596,
    "start_time": "2021-12-09T09:51:05.248Z"
   },
   {
    "duration": 279,
    "start_time": "2021-12-09T09:51:08.846Z"
   },
   {
    "duration": 1296,
    "start_time": "2021-12-09T09:52:13.989Z"
   },
   {
    "duration": 34,
    "start_time": "2021-12-09T09:52:15.287Z"
   },
   {
    "duration": 16,
    "start_time": "2021-12-09T09:52:15.323Z"
   },
   {
    "duration": 38,
    "start_time": "2021-12-09T09:52:15.342Z"
   },
   {
    "duration": 12,
    "start_time": "2021-12-09T09:52:15.406Z"
   },
   {
    "duration": 11,
    "start_time": "2021-12-09T09:52:15.420Z"
   },
   {
    "duration": 6,
    "start_time": "2021-12-09T09:52:15.433Z"
   },
   {
    "duration": 309,
    "start_time": "2021-12-09T09:52:15.441Z"
   },
   {
    "duration": 273,
    "start_time": "2021-12-09T09:52:15.752Z"
   },
   {
    "duration": 382,
    "start_time": "2021-12-09T09:52:16.027Z"
   },
   {
    "duration": 666,
    "start_time": "2021-12-09T09:52:16.412Z"
   },
   {
    "duration": 721,
    "start_time": "2021-12-09T09:52:17.080Z"
   },
   {
    "duration": 9,
    "start_time": "2021-12-09T09:52:17.806Z"
   },
   {
    "duration": 136,
    "start_time": "2021-12-09T09:52:17.817Z"
   },
   {
    "duration": 16,
    "start_time": "2021-12-09T09:52:17.954Z"
   },
   {
    "duration": 4,
    "start_time": "2021-12-09T09:52:17.972Z"
   },
   {
    "duration": 8,
    "start_time": "2021-12-09T09:52:17.978Z"
   },
   {
    "duration": 5,
    "start_time": "2021-12-09T09:52:18.007Z"
   },
   {
    "duration": 8,
    "start_time": "2021-12-09T09:52:18.014Z"
   },
   {
    "duration": 20649,
    "start_time": "2021-12-09T09:52:18.024Z"
   },
   {
    "duration": 1137,
    "start_time": "2021-12-09T09:52:38.675Z"
   },
   {
    "duration": 19240,
    "start_time": "2021-12-09T09:52:39.814Z"
   },
   {
    "duration": 3397,
    "start_time": "2021-12-09T09:52:59.056Z"
   },
   {
    "duration": 256,
    "start_time": "2021-12-09T09:53:02.455Z"
   },
   {
    "duration": 1272,
    "start_time": "2021-12-09T09:53:38.127Z"
   },
   {
    "duration": 33,
    "start_time": "2021-12-09T09:53:39.401Z"
   },
   {
    "duration": 15,
    "start_time": "2021-12-09T09:53:39.437Z"
   },
   {
    "duration": 54,
    "start_time": "2021-12-09T09:53:39.454Z"
   },
   {
    "duration": 10,
    "start_time": "2021-12-09T09:53:39.510Z"
   },
   {
    "duration": 11,
    "start_time": "2021-12-09T09:53:39.522Z"
   },
   {
    "duration": 6,
    "start_time": "2021-12-09T09:53:39.534Z"
   },
   {
    "duration": 323,
    "start_time": "2021-12-09T09:53:39.542Z"
   },
   {
    "duration": 292,
    "start_time": "2021-12-09T09:53:39.867Z"
   },
   {
    "duration": 369,
    "start_time": "2021-12-09T09:53:40.162Z"
   },
   {
    "duration": 726,
    "start_time": "2021-12-09T09:53:40.534Z"
   },
   {
    "duration": 707,
    "start_time": "2021-12-09T09:53:41.262Z"
   },
   {
    "duration": 11,
    "start_time": "2021-12-09T09:53:41.971Z"
   },
   {
    "duration": 22,
    "start_time": "2021-12-09T09:53:41.984Z"
   },
   {
    "duration": 18,
    "start_time": "2021-12-09T09:53:42.009Z"
   },
   {
    "duration": 5,
    "start_time": "2021-12-09T09:53:42.029Z"
   },
   {
    "duration": 21,
    "start_time": "2021-12-09T09:53:42.035Z"
   },
   {
    "duration": 7,
    "start_time": "2021-12-09T09:53:42.058Z"
   },
   {
    "duration": 9,
    "start_time": "2021-12-09T09:53:42.066Z"
   },
   {
    "duration": 21270,
    "start_time": "2021-12-09T09:53:42.154Z"
   },
   {
    "duration": 900,
    "start_time": "2021-12-09T09:54:03.426Z"
   },
   {
    "duration": 22029,
    "start_time": "2021-12-09T09:54:04.328Z"
   },
   {
    "duration": 3175,
    "start_time": "2021-12-09T09:54:26.359Z"
   },
   {
    "duration": 234,
    "start_time": "2021-12-09T09:54:29.536Z"
   },
   {
    "duration": 1297,
    "start_time": "2021-12-09T09:55:00.193Z"
   },
   {
    "duration": 34,
    "start_time": "2021-12-09T09:55:01.492Z"
   },
   {
    "duration": 16,
    "start_time": "2021-12-09T09:55:01.528Z"
   },
   {
    "duration": 37,
    "start_time": "2021-12-09T09:55:01.546Z"
   },
   {
    "duration": 11,
    "start_time": "2021-12-09T09:55:01.606Z"
   },
   {
    "duration": 11,
    "start_time": "2021-12-09T09:55:01.619Z"
   },
   {
    "duration": 12,
    "start_time": "2021-12-09T09:55:01.632Z"
   },
   {
    "duration": 307,
    "start_time": "2021-12-09T09:55:01.647Z"
   },
   {
    "duration": 285,
    "start_time": "2021-12-09T09:55:01.956Z"
   },
   {
    "duration": 371,
    "start_time": "2021-12-09T09:55:02.243Z"
   },
   {
    "duration": 694,
    "start_time": "2021-12-09T09:55:02.616Z"
   },
   {
    "duration": 718,
    "start_time": "2021-12-09T09:55:03.313Z"
   },
   {
    "duration": 18,
    "start_time": "2021-12-09T09:55:04.033Z"
   },
   {
    "duration": 11,
    "start_time": "2021-12-09T09:55:04.053Z"
   },
   {
    "duration": 37,
    "start_time": "2021-12-09T09:55:04.066Z"
   },
   {
    "duration": 5,
    "start_time": "2021-12-09T09:55:04.107Z"
   },
   {
    "duration": 16,
    "start_time": "2021-12-09T09:55:04.114Z"
   },
   {
    "duration": 7,
    "start_time": "2021-12-09T09:55:04.164Z"
   },
   {
    "duration": 10,
    "start_time": "2021-12-09T09:55:04.586Z"
   },
   {
    "duration": 55695,
    "start_time": "2021-12-09T09:55:04.807Z"
   },
   {
    "duration": 1121,
    "start_time": "2021-12-09T09:56:00.504Z"
   },
   {
    "duration": 23713,
    "start_time": "2021-12-09T09:56:01.627Z"
   },
   {
    "duration": 4087,
    "start_time": "2021-12-09T09:56:25.342Z"
   },
   {
    "duration": 237,
    "start_time": "2021-12-09T09:56:29.431Z"
   },
   {
    "duration": 1232,
    "start_time": "2021-12-09T09:57:29.842Z"
   },
   {
    "duration": 32,
    "start_time": "2021-12-09T09:57:31.076Z"
   },
   {
    "duration": 14,
    "start_time": "2021-12-09T09:57:31.111Z"
   },
   {
    "duration": 38,
    "start_time": "2021-12-09T09:57:31.127Z"
   },
   {
    "duration": 39,
    "start_time": "2021-12-09T09:57:31.168Z"
   },
   {
    "duration": 12,
    "start_time": "2021-12-09T09:57:31.209Z"
   },
   {
    "duration": 11,
    "start_time": "2021-12-09T09:57:31.222Z"
   },
   {
    "duration": 298,
    "start_time": "2021-12-09T09:57:31.235Z"
   },
   {
    "duration": 279,
    "start_time": "2021-12-09T09:57:31.535Z"
   },
   {
    "duration": 377,
    "start_time": "2021-12-09T09:57:31.816Z"
   },
   {
    "duration": 673,
    "start_time": "2021-12-09T09:57:32.195Z"
   },
   {
    "duration": 714,
    "start_time": "2021-12-09T09:57:32.871Z"
   },
   {
    "duration": 38,
    "start_time": "2021-12-09T09:57:33.587Z"
   },
   {
    "duration": 3,
    "start_time": "2021-12-09T09:57:33.627Z"
   },
   {
    "duration": 34,
    "start_time": "2021-12-09T09:57:33.632Z"
   },
   {
    "duration": 5,
    "start_time": "2021-12-09T09:57:33.668Z"
   },
   {
    "duration": 8,
    "start_time": "2021-12-09T09:57:33.675Z"
   },
   {
    "duration": 8,
    "start_time": "2021-12-09T09:57:33.707Z"
   },
   {
    "duration": 190,
    "start_time": "2021-12-09T09:57:33.717Z"
   },
   {
    "duration": 3,
    "start_time": "2021-12-09T09:57:33.910Z"
   },
   {
    "duration": 2,
    "start_time": "2021-12-09T09:57:34.048Z"
   },
   {
    "duration": 3,
    "start_time": "2021-12-09T09:57:34.208Z"
   },
   {
    "duration": 3,
    "start_time": "2021-12-09T09:57:34.292Z"
   },
   {
    "duration": 385,
    "start_time": "2021-12-09T09:57:34.543Z"
   },
   {
    "duration": 1249,
    "start_time": "2021-12-09T09:58:17.633Z"
   },
   {
    "duration": 38,
    "start_time": "2021-12-09T09:58:18.884Z"
   },
   {
    "duration": 15,
    "start_time": "2021-12-09T09:58:18.924Z"
   },
   {
    "duration": 38,
    "start_time": "2021-12-09T09:58:18.941Z"
   },
   {
    "duration": 26,
    "start_time": "2021-12-09T09:58:18.980Z"
   },
   {
    "duration": 11,
    "start_time": "2021-12-09T09:58:19.008Z"
   },
   {
    "duration": 6,
    "start_time": "2021-12-09T09:58:19.020Z"
   },
   {
    "duration": 300,
    "start_time": "2021-12-09T09:58:19.029Z"
   },
   {
    "duration": 287,
    "start_time": "2021-12-09T09:58:19.332Z"
   },
   {
    "duration": 362,
    "start_time": "2021-12-09T09:58:19.622Z"
   },
   {
    "duration": 693,
    "start_time": "2021-12-09T09:58:19.986Z"
   },
   {
    "duration": 715,
    "start_time": "2021-12-09T09:58:20.681Z"
   },
   {
    "duration": 25,
    "start_time": "2021-12-09T09:58:21.406Z"
   },
   {
    "duration": 3,
    "start_time": "2021-12-09T09:58:21.433Z"
   },
   {
    "duration": 36,
    "start_time": "2021-12-09T09:58:21.438Z"
   },
   {
    "duration": 4,
    "start_time": "2021-12-09T09:58:21.476Z"
   },
   {
    "duration": 28,
    "start_time": "2021-12-09T09:58:21.482Z"
   },
   {
    "duration": 6,
    "start_time": "2021-12-09T09:58:21.837Z"
   },
   {
    "duration": 133,
    "start_time": "2021-12-09T09:58:22.676Z"
   },
   {
    "duration": 3,
    "start_time": "2021-12-09T09:58:22.907Z"
   },
   {
    "duration": 3,
    "start_time": "2021-12-09T09:58:23.009Z"
   },
   {
    "duration": 3,
    "start_time": "2021-12-09T09:58:23.179Z"
   },
   {
    "duration": 2,
    "start_time": "2021-12-09T09:58:23.613Z"
   },
   {
    "duration": 385,
    "start_time": "2021-12-09T09:58:24.347Z"
   },
   {
    "duration": 14,
    "start_time": "2021-12-09T09:58:38.935Z"
   },
   {
    "duration": 2,
    "start_time": "2021-12-09T09:58:39.171Z"
   },
   {
    "duration": 32,
    "start_time": "2021-12-09T09:58:40.559Z"
   },
   {
    "duration": 11,
    "start_time": "2021-12-09T09:58:40.808Z"
   },
   {
    "duration": 10,
    "start_time": "2021-12-09T09:58:41.081Z"
   },
   {
    "duration": 6,
    "start_time": "2021-12-09T09:58:41.355Z"
   },
   {
    "duration": 115,
    "start_time": "2021-12-09T09:58:42.193Z"
   },
   {
    "duration": 3,
    "start_time": "2021-12-09T09:58:42.439Z"
   },
   {
    "duration": 3,
    "start_time": "2021-12-09T09:58:43.031Z"
   },
   {
    "duration": 3,
    "start_time": "2021-12-09T09:58:43.423Z"
   },
   {
    "duration": 2,
    "start_time": "2021-12-09T09:58:43.626Z"
   },
   {
    "duration": 416,
    "start_time": "2021-12-09T09:58:44.510Z"
   },
   {
    "duration": 11,
    "start_time": "2021-12-09T09:59:45.106Z"
   },
   {
    "duration": 2,
    "start_time": "2021-12-09T09:59:45.608Z"
   },
   {
    "duration": 32,
    "start_time": "2021-12-09T09:59:46.448Z"
   },
   {
    "duration": 6,
    "start_time": "2021-12-09T09:59:46.697Z"
   },
   {
    "duration": 6,
    "start_time": "2021-12-09T09:59:46.781Z"
   },
   {
    "duration": 5,
    "start_time": "2021-12-09T09:59:46.862Z"
   },
   {
    "duration": 18,
    "start_time": "2021-12-09T09:59:47.288Z"
   },
   {
    "duration": 3,
    "start_time": "2021-12-09T09:59:47.508Z"
   },
   {
    "duration": 2,
    "start_time": "2021-12-09T09:59:47.621Z"
   },
   {
    "duration": 3,
    "start_time": "2021-12-09T09:59:47.786Z"
   },
   {
    "duration": 3,
    "start_time": "2021-12-09T09:59:47.870Z"
   },
   {
    "duration": 394,
    "start_time": "2021-12-09T09:59:48.123Z"
   },
   {
    "duration": 1233,
    "start_time": "2021-12-09T09:59:59.563Z"
   },
   {
    "duration": 33,
    "start_time": "2021-12-09T10:00:00.797Z"
   },
   {
    "duration": 25,
    "start_time": "2021-12-09T10:00:00.832Z"
   },
   {
    "duration": 56,
    "start_time": "2021-12-09T10:00:00.859Z"
   },
   {
    "duration": 9,
    "start_time": "2021-12-09T10:00:00.917Z"
   },
   {
    "duration": 131,
    "start_time": "2021-12-09T10:00:00.928Z"
   },
   {
    "duration": 32,
    "start_time": "2021-12-09T10:00:01.061Z"
   },
   {
    "duration": 412,
    "start_time": "2021-12-09T10:00:01.096Z"
   },
   {
    "duration": 289,
    "start_time": "2021-12-09T10:00:01.511Z"
   },
   {
    "duration": 376,
    "start_time": "2021-12-09T10:00:01.802Z"
   },
   {
    "duration": 700,
    "start_time": "2021-12-09T10:00:02.180Z"
   },
   {
    "duration": 737,
    "start_time": "2021-12-09T10:00:02.882Z"
   },
   {
    "duration": 20,
    "start_time": "2021-12-09T10:00:03.622Z"
   },
   {
    "duration": 3,
    "start_time": "2021-12-09T10:00:03.643Z"
   },
   {
    "duration": 34,
    "start_time": "2021-12-09T10:00:03.648Z"
   },
   {
    "duration": 23,
    "start_time": "2021-12-09T10:00:03.683Z"
   },
   {
    "duration": 6,
    "start_time": "2021-12-09T10:00:03.708Z"
   },
   {
    "duration": 6,
    "start_time": "2021-12-09T10:00:03.717Z"
   },
   {
    "duration": 86,
    "start_time": "2021-12-09T10:00:03.725Z"
   },
   {
    "duration": 91,
    "start_time": "2021-12-09T10:00:03.816Z"
   },
   {
    "duration": 7,
    "start_time": "2021-12-09T10:00:03.910Z"
   },
   {
    "duration": 8,
    "start_time": "2021-12-09T10:00:03.920Z"
   },
   {
    "duration": 3,
    "start_time": "2021-12-09T10:00:03.995Z"
   },
   {
    "duration": 269,
    "start_time": "2021-12-09T10:00:04.246Z"
   },
   {
    "duration": 1371,
    "start_time": "2021-12-09T10:00:25.402Z"
   },
   {
    "duration": 31,
    "start_time": "2021-12-09T10:00:26.775Z"
   },
   {
    "duration": 14,
    "start_time": "2021-12-09T10:00:26.808Z"
   },
   {
    "duration": 37,
    "start_time": "2021-12-09T10:00:26.824Z"
   },
   {
    "duration": 9,
    "start_time": "2021-12-09T10:00:26.863Z"
   },
   {
    "duration": 37,
    "start_time": "2021-12-09T10:00:26.874Z"
   },
   {
    "duration": 6,
    "start_time": "2021-12-09T10:00:26.913Z"
   },
   {
    "duration": 291,
    "start_time": "2021-12-09T10:00:26.922Z"
   },
   {
    "duration": 285,
    "start_time": "2021-12-09T10:00:27.215Z"
   },
   {
    "duration": 370,
    "start_time": "2021-12-09T10:00:27.502Z"
   },
   {
    "duration": 683,
    "start_time": "2021-12-09T10:00:27.874Z"
   },
   {
    "duration": 694,
    "start_time": "2021-12-09T10:00:28.559Z"
   },
   {
    "duration": 22,
    "start_time": "2021-12-09T10:00:29.255Z"
   },
   {
    "duration": 2,
    "start_time": "2021-12-09T10:00:29.279Z"
   },
   {
    "duration": 51,
    "start_time": "2021-12-09T10:00:29.282Z"
   },
   {
    "duration": 5,
    "start_time": "2021-12-09T10:00:29.335Z"
   },
   {
    "duration": 9,
    "start_time": "2021-12-09T10:00:29.342Z"
   },
   {
    "duration": 7,
    "start_time": "2021-12-09T10:00:29.352Z"
   },
   {
    "duration": 54,
    "start_time": "2021-12-09T10:00:29.361Z"
   },
   {
    "duration": 3,
    "start_time": "2021-12-09T10:00:29.509Z"
   },
   {
    "duration": 2,
    "start_time": "2021-12-09T10:00:29.591Z"
   },
   {
    "duration": 2,
    "start_time": "2021-12-09T10:00:29.761Z"
   },
   {
    "duration": 3,
    "start_time": "2021-12-09T10:00:29.845Z"
   },
   {
    "duration": 455,
    "start_time": "2021-12-09T10:00:30.098Z"
   },
   {
    "duration": 1316,
    "start_time": "2021-12-09T10:01:08.625Z"
   },
   {
    "duration": 33,
    "start_time": "2021-12-09T10:01:09.943Z"
   },
   {
    "duration": 16,
    "start_time": "2021-12-09T10:01:09.978Z"
   },
   {
    "duration": 47,
    "start_time": "2021-12-09T10:01:09.996Z"
   },
   {
    "duration": 10,
    "start_time": "2021-12-09T10:01:10.045Z"
   },
   {
    "duration": 14,
    "start_time": "2021-12-09T10:01:10.057Z"
   },
   {
    "duration": 25,
    "start_time": "2021-12-09T10:01:10.072Z"
   },
   {
    "duration": 312,
    "start_time": "2021-12-09T10:01:10.099Z"
   },
   {
    "duration": 297,
    "start_time": "2021-12-09T10:01:10.413Z"
   },
   {
    "duration": 413,
    "start_time": "2021-12-09T10:01:10.711Z"
   },
   {
    "duration": 758,
    "start_time": "2021-12-09T10:01:11.127Z"
   },
   {
    "duration": 734,
    "start_time": "2021-12-09T10:01:11.886Z"
   },
   {
    "duration": 20,
    "start_time": "2021-12-09T10:01:12.622Z"
   },
   {
    "duration": 2,
    "start_time": "2021-12-09T10:01:12.644Z"
   },
   {
    "duration": 36,
    "start_time": "2021-12-09T10:01:12.647Z"
   },
   {
    "duration": 4,
    "start_time": "2021-12-09T10:01:12.685Z"
   },
   {
    "duration": 5,
    "start_time": "2021-12-09T10:01:12.706Z"
   },
   {
    "duration": 8,
    "start_time": "2021-12-09T10:01:12.713Z"
   },
   {
    "duration": 86,
    "start_time": "2021-12-09T10:01:12.723Z"
   },
   {
    "duration": 96,
    "start_time": "2021-12-09T10:01:12.811Z"
   },
   {
    "duration": 3,
    "start_time": "2021-12-09T10:01:12.911Z"
   },
   {
    "duration": 2,
    "start_time": "2021-12-09T10:01:12.985Z"
   },
   {
    "duration": 2,
    "start_time": "2021-12-09T10:01:13.068Z"
   },
   {
    "duration": 1225,
    "start_time": "2021-12-09T10:01:49.862Z"
   },
   {
    "duration": 34,
    "start_time": "2021-12-09T10:01:51.089Z"
   },
   {
    "duration": 16,
    "start_time": "2021-12-09T10:01:51.125Z"
   },
   {
    "duration": 40,
    "start_time": "2021-12-09T10:01:51.143Z"
   },
   {
    "duration": 11,
    "start_time": "2021-12-09T10:01:51.207Z"
   },
   {
    "duration": 12,
    "start_time": "2021-12-09T10:01:51.220Z"
   },
   {
    "duration": 5,
    "start_time": "2021-12-09T10:01:51.234Z"
   },
   {
    "duration": 312,
    "start_time": "2021-12-09T10:01:51.241Z"
   },
   {
    "duration": 286,
    "start_time": "2021-12-09T10:01:51.555Z"
   },
   {
    "duration": 368,
    "start_time": "2021-12-09T10:01:51.843Z"
   },
   {
    "duration": 678,
    "start_time": "2021-12-09T10:01:52.213Z"
   },
   {
    "duration": 693,
    "start_time": "2021-12-09T10:01:52.893Z"
   },
   {
    "duration": 28,
    "start_time": "2021-12-09T10:01:53.588Z"
   },
   {
    "duration": 3,
    "start_time": "2021-12-09T10:01:53.618Z"
   },
   {
    "duration": 33,
    "start_time": "2021-12-09T10:01:53.622Z"
   },
   {
    "duration": 4,
    "start_time": "2021-12-09T10:01:53.657Z"
   },
   {
    "duration": 7,
    "start_time": "2021-12-09T10:01:53.662Z"
   },
   {
    "duration": 6,
    "start_time": "2021-12-09T10:01:53.671Z"
   },
   {
    "duration": 93,
    "start_time": "2021-12-09T10:01:53.720Z"
   },
   {
    "duration": 2,
    "start_time": "2021-12-09T10:01:53.909Z"
   },
   {
    "duration": 2,
    "start_time": "2021-12-09T10:01:54.055Z"
   },
   {
    "duration": 2,
    "start_time": "2021-12-09T10:01:54.223Z"
   },
   {
    "duration": 3,
    "start_time": "2021-12-09T10:01:54.305Z"
   },
   {
    "duration": 242,
    "start_time": "2021-12-09T10:01:55.200Z"
   },
   {
    "duration": 1206,
    "start_time": "2021-12-09T10:02:24.086Z"
   },
   {
    "duration": 32,
    "start_time": "2021-12-09T10:02:25.294Z"
   },
   {
    "duration": 16,
    "start_time": "2021-12-09T10:02:25.328Z"
   },
   {
    "duration": 37,
    "start_time": "2021-12-09T10:02:25.346Z"
   },
   {
    "duration": 30,
    "start_time": "2021-12-09T10:02:25.385Z"
   },
   {
    "duration": 11,
    "start_time": "2021-12-09T10:02:25.417Z"
   },
   {
    "duration": 4,
    "start_time": "2021-12-09T10:02:25.431Z"
   },
   {
    "duration": 305,
    "start_time": "2021-12-09T10:02:25.438Z"
   },
   {
    "duration": 285,
    "start_time": "2021-12-09T10:02:25.745Z"
   },
   {
    "duration": 383,
    "start_time": "2021-12-09T10:02:26.033Z"
   },
   {
    "duration": 662,
    "start_time": "2021-12-09T10:02:26.418Z"
   },
   {
    "duration": 688,
    "start_time": "2021-12-09T10:02:27.082Z"
   },
   {
    "duration": 23,
    "start_time": "2021-12-09T10:02:27.772Z"
   },
   {
    "duration": 9,
    "start_time": "2021-12-09T10:02:27.797Z"
   },
   {
    "duration": 36,
    "start_time": "2021-12-09T10:02:27.808Z"
   },
   {
    "duration": 5,
    "start_time": "2021-12-09T10:02:27.845Z"
   },
   {
    "duration": 7,
    "start_time": "2021-12-09T10:02:27.851Z"
   },
   {
    "duration": 6,
    "start_time": "2021-12-09T10:02:27.860Z"
   },
   {
    "duration": 63,
    "start_time": "2021-12-09T10:02:27.945Z"
   },
   {
    "duration": 3,
    "start_time": "2021-12-09T10:02:28.111Z"
   },
   {
    "duration": 3,
    "start_time": "2021-12-09T10:02:28.279Z"
   },
   {
    "duration": 2,
    "start_time": "2021-12-09T10:02:28.446Z"
   },
   {
    "duration": 2,
    "start_time": "2021-12-09T10:02:28.529Z"
   },
   {
    "duration": 444,
    "start_time": "2021-12-09T10:02:28.783Z"
   },
   {
    "duration": 1296,
    "start_time": "2021-12-09T10:03:00.887Z"
   },
   {
    "duration": 31,
    "start_time": "2021-12-09T10:03:02.185Z"
   },
   {
    "duration": 14,
    "start_time": "2021-12-09T10:03:02.219Z"
   },
   {
    "duration": 36,
    "start_time": "2021-12-09T10:03:02.234Z"
   },
   {
    "duration": 9,
    "start_time": "2021-12-09T10:03:02.272Z"
   },
   {
    "duration": 32,
    "start_time": "2021-12-09T10:03:02.282Z"
   },
   {
    "duration": 16,
    "start_time": "2021-12-09T10:03:02.316Z"
   },
   {
    "duration": 297,
    "start_time": "2021-12-09T10:03:02.335Z"
   },
   {
    "duration": 301,
    "start_time": "2021-12-09T10:03:02.634Z"
   },
   {
    "duration": 394,
    "start_time": "2021-12-09T10:03:02.937Z"
   },
   {
    "duration": 730,
    "start_time": "2021-12-09T10:03:03.333Z"
   },
   {
    "duration": 765,
    "start_time": "2021-12-09T10:03:04.065Z"
   },
   {
    "duration": 25,
    "start_time": "2021-12-09T10:03:04.832Z"
   },
   {
    "duration": 2,
    "start_time": "2021-12-09T10:03:04.859Z"
   },
   {
    "duration": 60,
    "start_time": "2021-12-09T10:03:04.863Z"
   },
   {
    "duration": 6,
    "start_time": "2021-12-09T10:03:04.926Z"
   },
   {
    "duration": 9,
    "start_time": "2021-12-09T10:03:04.934Z"
   },
   {
    "duration": 6,
    "start_time": "2021-12-09T10:03:04.945Z"
   },
   {
    "duration": 153,
    "start_time": "2021-12-09T10:03:04.953Z"
   },
   {
    "duration": 3,
    "start_time": "2021-12-09T10:03:05.108Z"
   },
   {
    "duration": 7,
    "start_time": "2021-12-09T10:03:05.113Z"
   },
   {
    "duration": 2,
    "start_time": "2021-12-09T10:03:05.246Z"
   },
   {
    "duration": 3,
    "start_time": "2021-12-09T10:03:05.332Z"
   },
   {
    "duration": 443,
    "start_time": "2021-12-09T10:03:05.590Z"
   },
   {
    "duration": 1455,
    "start_time": "2021-12-09T10:07:08.634Z"
   },
   {
    "duration": 1273,
    "start_time": "2021-12-09T10:07:20.514Z"
   },
   {
    "duration": 32,
    "start_time": "2021-12-09T10:07:21.789Z"
   },
   {
    "duration": 15,
    "start_time": "2021-12-09T10:07:21.823Z"
   },
   {
    "duration": 36,
    "start_time": "2021-12-09T10:07:21.840Z"
   },
   {
    "duration": 34,
    "start_time": "2021-12-09T10:07:21.878Z"
   },
   {
    "duration": 11,
    "start_time": "2021-12-09T10:07:21.914Z"
   },
   {
    "duration": 6,
    "start_time": "2021-12-09T10:07:21.927Z"
   },
   {
    "duration": 302,
    "start_time": "2021-12-09T10:07:21.935Z"
   },
   {
    "duration": 277,
    "start_time": "2021-12-09T10:07:22.239Z"
   },
   {
    "duration": 367,
    "start_time": "2021-12-09T10:07:22.517Z"
   },
   {
    "duration": 700,
    "start_time": "2021-12-09T10:07:22.886Z"
   },
   {
    "duration": 714,
    "start_time": "2021-12-09T10:07:23.588Z"
   },
   {
    "duration": 22,
    "start_time": "2021-12-09T10:07:24.304Z"
   },
   {
    "duration": 3,
    "start_time": "2021-12-09T10:07:24.328Z"
   },
   {
    "duration": 1297,
    "start_time": "2021-12-09T10:07:47.281Z"
   },
   {
    "duration": 33,
    "start_time": "2021-12-09T10:07:48.580Z"
   },
   {
    "duration": 14,
    "start_time": "2021-12-09T10:07:48.615Z"
   },
   {
    "duration": 38,
    "start_time": "2021-12-09T10:07:48.631Z"
   },
   {
    "duration": 9,
    "start_time": "2021-12-09T10:07:48.671Z"
   },
   {
    "duration": 35,
    "start_time": "2021-12-09T10:07:48.681Z"
   },
   {
    "duration": 6,
    "start_time": "2021-12-09T10:07:48.717Z"
   },
   {
    "duration": 398,
    "start_time": "2021-12-09T10:07:48.726Z"
   },
   {
    "duration": 285,
    "start_time": "2021-12-09T10:07:49.127Z"
   },
   {
    "duration": 370,
    "start_time": "2021-12-09T10:07:49.414Z"
   },
   {
    "duration": 675,
    "start_time": "2021-12-09T10:07:49.786Z"
   },
   {
    "duration": 703,
    "start_time": "2021-12-09T10:07:50.463Z"
   },
   {
    "duration": 24,
    "start_time": "2021-12-09T10:07:51.169Z"
   },
   {
    "duration": 3,
    "start_time": "2021-12-09T10:07:51.207Z"
   },
   {
    "duration": 36,
    "start_time": "2021-12-09T10:07:51.212Z"
   },
   {
    "duration": 5,
    "start_time": "2021-12-09T10:07:51.251Z"
   },
   {
    "duration": 7,
    "start_time": "2021-12-09T10:07:51.258Z"
   },
   {
    "duration": 8,
    "start_time": "2021-12-09T10:07:51.267Z"
   },
   {
    "duration": 230,
    "start_time": "2021-12-09T10:07:51.277Z"
   },
   {
    "duration": 85556,
    "start_time": "2021-12-09T10:07:51.510Z"
   },
   {
    "duration": 1850,
    "start_time": "2021-12-09T10:09:17.068Z"
   },
   {
    "duration": 28201,
    "start_time": "2021-12-09T10:09:18.919Z"
   },
   {
    "duration": 5214,
    "start_time": "2021-12-09T10:09:47.123Z"
   },
   {
    "duration": 246,
    "start_time": "2021-12-09T10:09:52.339Z"
   },
   {
    "duration": 436,
    "start_time": "2021-12-09T10:09:57.903Z"
   },
   {
    "duration": 301,
    "start_time": "2021-12-09T10:10:01.892Z"
   },
   {
    "duration": 326,
    "start_time": "2021-12-09T10:10:04.485Z"
   },
   {
    "duration": 255,
    "start_time": "2021-12-09T10:10:07.195Z"
   },
   {
    "duration": 457,
    "start_time": "2021-12-09T10:10:09.484Z"
   },
   {
    "duration": 2589,
    "start_time": "2022-05-19T09:55:15.113Z"
   },
   {
    "duration": 130,
    "start_time": "2022-05-19T09:55:17.703Z"
   },
   {
    "duration": 8,
    "start_time": "2022-05-19T09:56:03.492Z"
   },
   {
    "duration": 33,
    "start_time": "2022-05-19T09:56:04.661Z"
   },
   {
    "duration": 5,
    "start_time": "2022-05-19T09:56:10.181Z"
   },
   {
    "duration": 502,
    "start_time": "2022-05-19T09:57:10.020Z"
   },
   {
    "duration": 578,
    "start_time": "2022-05-19T09:57:10.524Z"
   },
   {
    "duration": 490,
    "start_time": "2022-05-19T09:57:12.108Z"
   },
   {
    "duration": 562,
    "start_time": "2022-05-19T09:58:30.592Z"
   },
   {
    "duration": 128,
    "start_time": "2022-05-19T09:58:32.110Z"
   },
   {
    "duration": 1290,
    "start_time": "2022-05-19T10:01:08.558Z"
   },
   {
    "duration": 50,
    "start_time": "2022-05-19T10:01:09.850Z"
   },
   {
    "duration": 7,
    "start_time": "2022-05-19T10:01:09.902Z"
   },
   {
    "duration": 15,
    "start_time": "2022-05-19T10:01:10.322Z"
   },
   {
    "duration": 5,
    "start_time": "2022-05-19T10:01:10.927Z"
   },
   {
    "duration": 205,
    "start_time": "2022-05-19T10:01:11.153Z"
   },
   {
    "duration": 187,
    "start_time": "2022-05-19T10:01:11.382Z"
   },
   {
    "duration": 215,
    "start_time": "2022-05-19T10:01:11.605Z"
   },
   {
    "duration": 536,
    "start_time": "2022-05-19T10:01:12.146Z"
   },
   {
    "duration": 131,
    "start_time": "2022-05-19T10:01:12.683Z"
   },
   {
    "duration": 1287,
    "start_time": "2022-05-19T10:02:06.071Z"
   },
   {
    "duration": 45,
    "start_time": "2022-05-19T10:02:07.359Z"
   },
   {
    "duration": 49,
    "start_time": "2022-05-19T10:02:07.405Z"
   },
   {
    "duration": 13,
    "start_time": "2022-05-19T10:02:08.523Z"
   },
   {
    "duration": 18,
    "start_time": "2022-05-19T10:02:08.721Z"
   },
   {
    "duration": 6,
    "start_time": "2022-05-19T10:02:09.223Z"
   },
   {
    "duration": 285,
    "start_time": "2022-05-19T10:02:09.390Z"
   },
   {
    "duration": 226,
    "start_time": "2022-05-19T10:02:09.677Z"
   },
   {
    "duration": 263,
    "start_time": "2022-05-19T10:02:09.904Z"
   },
   {
    "duration": 629,
    "start_time": "2022-05-19T10:02:10.169Z"
   },
   {
    "duration": 137,
    "start_time": "2022-05-19T10:02:10.800Z"
   },
   {
    "duration": 20,
    "start_time": "2022-05-19T10:02:59.413Z"
   },
   {
    "duration": 2,
    "start_time": "2022-05-19T10:03:00.308Z"
   },
   {
    "duration": 38,
    "start_time": "2022-05-19T10:03:04.139Z"
   },
   {
    "duration": 5,
    "start_time": "2022-05-19T10:03:07.464Z"
   },
   {
    "duration": 7,
    "start_time": "2022-05-19T10:03:07.761Z"
   },
   {
    "duration": 6,
    "start_time": "2022-05-19T10:03:08.003Z"
   },
   {
    "duration": 87,
    "start_time": "2022-05-19T10:03:10.408Z"
   },
   {
    "duration": 76933,
    "start_time": "2022-05-19T10:03:11.525Z"
   },
   {
    "duration": 2045,
    "start_time": "2022-05-19T10:04:28.459Z"
   },
   {
    "duration": 7980,
    "start_time": "2022-05-19T10:09:37.906Z"
   },
   {
    "duration": 1392,
    "start_time": "2022-05-19T10:09:45.888Z"
   },
   {
    "duration": 370,
    "start_time": "2022-05-19T10:09:47.281Z"
   },
   {
    "duration": 348,
    "start_time": "2022-05-19T10:10:08.271Z"
   },
   {
    "duration": 33,
    "start_time": "2022-05-19T10:10:58.980Z"
   },
   {
    "duration": 463,
    "start_time": "2022-05-19T10:12:35.931Z"
   },
   {
    "duration": 1247,
    "start_time": "2022-05-19T11:16:02.825Z"
   },
   {
    "duration": 51,
    "start_time": "2022-05-19T11:16:04.074Z"
   },
   {
    "duration": 8,
    "start_time": "2022-05-19T11:16:04.127Z"
   },
   {
    "duration": 14,
    "start_time": "2022-05-19T11:16:04.137Z"
   },
   {
    "duration": 11,
    "start_time": "2022-05-19T11:16:04.153Z"
   },
   {
    "duration": 228,
    "start_time": "2022-05-19T11:16:04.166Z"
   },
   {
    "duration": 208,
    "start_time": "2022-05-19T11:16:04.396Z"
   },
   {
    "duration": 220,
    "start_time": "2022-05-19T11:16:04.605Z"
   },
   {
    "duration": 550,
    "start_time": "2022-05-19T11:16:04.827Z"
   },
   {
    "duration": 456,
    "start_time": "2022-05-19T11:16:05.380Z"
   },
   {
    "duration": 17,
    "start_time": "2022-05-19T11:16:05.837Z"
   },
   {
    "duration": 43,
    "start_time": "2022-05-19T11:16:05.856Z"
   },
   {
    "duration": 4,
    "start_time": "2022-05-19T11:16:05.901Z"
   },
   {
    "duration": 8,
    "start_time": "2022-05-19T11:16:05.906Z"
   },
   {
    "duration": 7,
    "start_time": "2022-05-19T11:16:05.915Z"
   },
   {
    "duration": 77,
    "start_time": "2022-05-19T11:16:05.923Z"
   },
   {
    "duration": 74427,
    "start_time": "2022-05-19T11:16:06.003Z"
   },
   {
    "duration": 75464,
    "start_time": "2022-05-19T11:17:20.431Z"
   },
   {
    "duration": 7274,
    "start_time": "2022-05-19T11:18:35.897Z"
   },
   {
    "duration": 1572,
    "start_time": "2022-05-19T11:18:43.174Z"
   },
   {
    "duration": 312,
    "start_time": "2022-05-19T11:18:44.748Z"
   },
   {
    "duration": 1712,
    "start_time": "2022-05-21T12:14:36.211Z"
   },
   {
    "duration": 184,
    "start_time": "2022-05-21T12:14:37.925Z"
   },
   {
    "duration": 10,
    "start_time": "2022-05-21T12:14:38.114Z"
   },
   {
    "duration": 21,
    "start_time": "2022-05-21T12:14:38.126Z"
   },
   {
    "duration": 5,
    "start_time": "2022-05-21T12:14:38.149Z"
   },
   {
    "duration": 277,
    "start_time": "2022-05-21T12:14:38.156Z"
   },
   {
    "duration": 257,
    "start_time": "2022-05-21T12:14:38.435Z"
   },
   {
    "duration": 285,
    "start_time": "2022-05-21T12:14:38.699Z"
   },
   {
    "duration": 747,
    "start_time": "2022-05-21T12:14:38.986Z"
   },
   {
    "duration": 601,
    "start_time": "2022-05-21T12:14:39.736Z"
   },
   {
    "duration": 18,
    "start_time": "2022-05-21T12:14:40.339Z"
   },
   {
    "duration": 69,
    "start_time": "2022-05-21T12:14:40.359Z"
   },
   {
    "duration": 5,
    "start_time": "2022-05-21T12:14:40.431Z"
   },
   {
    "duration": 9,
    "start_time": "2022-05-21T12:14:40.438Z"
   },
   {
    "duration": 20,
    "start_time": "2022-05-21T12:14:40.448Z"
   },
   {
    "duration": 160,
    "start_time": "2022-05-21T12:14:40.469Z"
   },
   {
    "duration": 1609,
    "start_time": "2022-05-21T12:20:32.702Z"
   },
   {
    "duration": 78,
    "start_time": "2022-05-21T12:20:34.313Z"
   },
   {
    "duration": 16,
    "start_time": "2022-05-21T12:20:34.393Z"
   },
   {
    "duration": 50,
    "start_time": "2022-05-21T12:20:34.411Z"
   },
   {
    "duration": 23,
    "start_time": "2022-05-21T12:20:34.462Z"
   },
   {
    "duration": 378,
    "start_time": "2022-05-21T12:20:34.487Z"
   },
   {
    "duration": 280,
    "start_time": "2022-05-21T12:20:34.867Z"
   },
   {
    "duration": 344,
    "start_time": "2022-05-21T12:20:35.149Z"
   },
   {
    "duration": 770,
    "start_time": "2022-05-21T12:20:35.497Z"
   },
   {
    "duration": 521,
    "start_time": "2022-05-21T12:20:36.271Z"
   },
   {
    "duration": 26,
    "start_time": "2022-05-21T12:20:36.798Z"
   },
   {
    "duration": 85,
    "start_time": "2022-05-21T12:20:36.826Z"
   },
   {
    "duration": 11,
    "start_time": "2022-05-21T12:20:36.921Z"
   },
   {
    "duration": 8,
    "start_time": "2022-05-21T12:20:36.935Z"
   },
   {
    "duration": 9,
    "start_time": "2022-05-21T12:20:36.946Z"
   },
   {
    "duration": 45,
    "start_time": "2022-05-21T12:20:36.958Z"
   },
   {
    "duration": 98783,
    "start_time": "2022-05-21T12:20:37.006Z"
   },
   {
    "duration": 817,
    "start_time": "2022-05-21T12:22:15.796Z"
   },
   {
    "duration": 1619,
    "start_time": "2022-05-21T12:29:06.426Z"
   },
   {
    "duration": 97,
    "start_time": "2022-05-21T12:29:08.047Z"
   },
   {
    "duration": 14,
    "start_time": "2022-05-21T12:29:08.146Z"
   },
   {
    "duration": 124,
    "start_time": "2022-05-21T12:29:08.163Z"
   },
   {
    "duration": 68,
    "start_time": "2022-05-21T12:29:08.289Z"
   },
   {
    "duration": 319,
    "start_time": "2022-05-21T12:29:08.359Z"
   },
   {
    "duration": 316,
    "start_time": "2022-05-21T12:29:08.680Z"
   },
   {
    "duration": 389,
    "start_time": "2022-05-21T12:29:09.000Z"
   },
   {
    "duration": 758,
    "start_time": "2022-05-21T12:29:09.393Z"
   },
   {
    "duration": 565,
    "start_time": "2022-05-21T12:29:10.154Z"
   },
   {
    "duration": 22,
    "start_time": "2022-05-21T12:29:10.727Z"
   },
   {
    "duration": 69,
    "start_time": "2022-05-21T12:29:10.750Z"
   },
   {
    "duration": 9,
    "start_time": "2022-05-21T12:29:10.826Z"
   },
   {
    "duration": 10,
    "start_time": "2022-05-21T12:29:10.837Z"
   },
   {
    "duration": 9,
    "start_time": "2022-05-21T12:29:10.850Z"
   },
   {
    "duration": 37,
    "start_time": "2022-05-21T12:29:10.861Z"
   },
   {
    "duration": 93224,
    "start_time": "2022-05-21T12:29:10.926Z"
   },
   {
    "duration": 727,
    "start_time": "2022-05-21T12:30:44.153Z"
   },
   {
    "duration": 205316,
    "start_time": "2022-05-21T12:30:44.882Z"
   },
   {
    "duration": 10852,
    "start_time": "2022-05-21T12:34:10.202Z"
   },
   {
    "duration": 2323,
    "start_time": "2022-05-21T12:34:21.056Z"
   },
   {
    "duration": 12,
    "start_time": "2022-05-21T12:34:23.381Z"
   },
   {
    "duration": 147,
    "start_time": "2022-05-21T12:34:23.408Z"
   },
   {
    "duration": 70,
    "start_time": "2022-05-21T12:34:23.557Z"
   },
   {
    "duration": 11,
    "start_time": "2022-05-21T12:34:23.629Z"
   },
   {
    "duration": 1456,
    "start_time": "2022-05-21T12:36:32.853Z"
   },
   {
    "duration": 85,
    "start_time": "2022-05-21T12:36:34.311Z"
   },
   {
    "duration": 10,
    "start_time": "2022-05-21T12:36:34.404Z"
   },
   {
    "duration": 51,
    "start_time": "2022-05-21T12:36:34.416Z"
   },
   {
    "duration": 8,
    "start_time": "2022-05-21T12:36:34.469Z"
   },
   {
    "duration": 283,
    "start_time": "2022-05-21T12:36:34.479Z"
   },
   {
    "duration": 284,
    "start_time": "2022-05-21T12:36:34.764Z"
   },
   {
    "duration": 318,
    "start_time": "2022-05-21T12:36:35.049Z"
   },
   {
    "duration": 795,
    "start_time": "2022-05-21T12:36:35.371Z"
   },
   {
    "duration": 559,
    "start_time": "2022-05-21T12:36:36.169Z"
   },
   {
    "duration": 12,
    "start_time": "2022-05-21T12:36:36.729Z"
   },
   {
    "duration": 30,
    "start_time": "2022-05-21T12:36:36.744Z"
   },
   {
    "duration": 5,
    "start_time": "2022-05-21T12:36:36.776Z"
   },
   {
    "duration": 8,
    "start_time": "2022-05-21T12:36:36.785Z"
   },
   {
    "duration": 49,
    "start_time": "2022-05-21T12:36:36.802Z"
   },
   {
    "duration": 11,
    "start_time": "2022-05-21T12:36:36.853Z"
   },
   {
    "duration": 26328,
    "start_time": "2022-05-21T12:36:36.865Z"
   },
   {
    "duration": 213,
    "start_time": "2022-05-21T12:37:03.195Z"
   },
   {
    "duration": 195928,
    "start_time": "2022-05-21T12:37:03.409Z"
   },
   {
    "duration": 11010,
    "start_time": "2022-05-21T12:40:19.339Z"
   },
   {
    "duration": 1000,
    "start_time": "2022-05-21T12:40:30.351Z"
   },
   {
    "duration": 7,
    "start_time": "2022-05-21T12:40:31.354Z"
   },
   {
    "duration": 20,
    "start_time": "2022-05-21T12:40:31.363Z"
   },
   {
    "duration": 30,
    "start_time": "2022-05-21T12:40:31.387Z"
   },
   {
    "duration": 40,
    "start_time": "2022-05-21T12:40:31.423Z"
   },
   {
    "duration": 1568,
    "start_time": "2022-05-21T12:43:29.751Z"
   },
   {
    "duration": 115,
    "start_time": "2022-05-21T12:43:31.322Z"
   },
   {
    "duration": 10,
    "start_time": "2022-05-21T12:43:31.444Z"
   },
   {
    "duration": 25,
    "start_time": "2022-05-21T12:43:31.457Z"
   },
   {
    "duration": 65,
    "start_time": "2022-05-21T12:43:31.484Z"
   },
   {
    "duration": 347,
    "start_time": "2022-05-21T12:43:31.733Z"
   },
   {
    "duration": 322,
    "start_time": "2022-05-21T12:43:32.082Z"
   },
   {
    "duration": 299,
    "start_time": "2022-05-21T12:43:32.409Z"
   },
   {
    "duration": 702,
    "start_time": "2022-05-21T12:43:32.922Z"
   },
   {
    "duration": 579,
    "start_time": "2022-05-21T12:43:33.626Z"
   },
   {
    "duration": 249,
    "start_time": "2022-05-21T12:43:34.209Z"
   },
   {
    "duration": 24,
    "start_time": "2022-05-21T12:43:56.114Z"
   },
   {
    "duration": 20,
    "start_time": "2022-05-21T12:44:52.119Z"
   },
   {
    "duration": 21,
    "start_time": "2022-05-21T12:45:09.526Z"
   },
   {
    "duration": 45,
    "start_time": "2022-05-21T12:45:10.725Z"
   },
   {
    "duration": 41,
    "start_time": "2022-05-21T12:45:21.824Z"
   },
   {
    "duration": 7,
    "start_time": "2022-05-21T12:45:23.228Z"
   },
   {
    "duration": 5,
    "start_time": "2022-05-21T12:45:23.769Z"
   },
   {
    "duration": 6,
    "start_time": "2022-05-21T12:45:24.072Z"
   },
   {
    "duration": 165,
    "start_time": "2022-05-21T12:45:24.857Z"
   },
   {
    "duration": 1539,
    "start_time": "2022-05-21T12:46:06.724Z"
   },
   {
    "duration": 78,
    "start_time": "2022-05-21T12:46:08.265Z"
   },
   {
    "duration": 9,
    "start_time": "2022-05-21T12:46:08.346Z"
   },
   {
    "duration": 17,
    "start_time": "2022-05-21T12:46:08.357Z"
   },
   {
    "duration": 31,
    "start_time": "2022-05-21T12:46:08.376Z"
   },
   {
    "duration": 280,
    "start_time": "2022-05-21T12:46:08.408Z"
   },
   {
    "duration": 257,
    "start_time": "2022-05-21T12:46:08.690Z"
   },
   {
    "duration": 292,
    "start_time": "2022-05-21T12:46:08.949Z"
   },
   {
    "duration": 785,
    "start_time": "2022-05-21T12:46:09.530Z"
   },
   {
    "duration": 522,
    "start_time": "2022-05-21T12:46:10.520Z"
   },
   {
    "duration": 25,
    "start_time": "2022-05-21T12:46:13.555Z"
   },
   {
    "duration": 59,
    "start_time": "2022-05-21T12:46:14.345Z"
   },
   {
    "duration": 5,
    "start_time": "2022-05-21T12:46:15.945Z"
   },
   {
    "duration": 6,
    "start_time": "2022-05-21T12:46:16.143Z"
   },
   {
    "duration": 6,
    "start_time": "2022-05-21T12:46:16.349Z"
   },
   {
    "duration": 138,
    "start_time": "2022-05-21T12:46:16.983Z"
   },
   {
    "duration": 1554,
    "start_time": "2022-05-21T12:46:30.750Z"
   },
   {
    "duration": 120,
    "start_time": "2022-05-21T12:46:32.307Z"
   },
   {
    "duration": 21,
    "start_time": "2022-05-21T12:46:32.436Z"
   },
   {
    "duration": 44,
    "start_time": "2022-05-21T12:46:32.466Z"
   },
   {
    "duration": 41,
    "start_time": "2022-05-21T12:46:32.514Z"
   },
   {
    "duration": 297,
    "start_time": "2022-05-21T12:46:32.557Z"
   },
   {
    "duration": 309,
    "start_time": "2022-05-21T12:46:32.857Z"
   },
   {
    "duration": 336,
    "start_time": "2022-05-21T12:46:33.177Z"
   },
   {
    "duration": 722,
    "start_time": "2022-05-21T12:46:33.516Z"
   },
   {
    "duration": 517,
    "start_time": "2022-05-21T12:46:34.240Z"
   },
   {
    "duration": 20,
    "start_time": "2022-05-21T12:46:34.759Z"
   },
   {
    "duration": 65,
    "start_time": "2022-05-21T12:46:34.781Z"
   },
   {
    "duration": 5,
    "start_time": "2022-05-21T12:46:34.847Z"
   },
   {
    "duration": 16,
    "start_time": "2022-05-21T12:46:34.854Z"
   },
   {
    "duration": 7,
    "start_time": "2022-05-21T12:46:34.872Z"
   },
   {
    "duration": 246,
    "start_time": "2022-05-21T12:46:35.497Z"
   },
   {
    "duration": 1478,
    "start_time": "2022-05-21T12:46:53.836Z"
   },
   {
    "duration": 98,
    "start_time": "2022-05-21T12:46:55.321Z"
   },
   {
    "duration": 13,
    "start_time": "2022-05-21T12:46:55.424Z"
   },
   {
    "duration": 58,
    "start_time": "2022-05-21T12:46:55.443Z"
   },
   {
    "duration": 82,
    "start_time": "2022-05-21T12:46:55.504Z"
   },
   {
    "duration": 349,
    "start_time": "2022-05-21T12:46:55.589Z"
   },
   {
    "duration": 234,
    "start_time": "2022-05-21T12:46:55.941Z"
   },
   {
    "duration": 352,
    "start_time": "2022-05-21T12:46:56.177Z"
   },
   {
    "duration": 757,
    "start_time": "2022-05-21T12:46:56.888Z"
   },
   {
    "duration": 558,
    "start_time": "2022-05-21T12:46:57.653Z"
   },
   {
    "duration": 21,
    "start_time": "2022-05-21T12:46:58.343Z"
   },
   {
    "duration": 41,
    "start_time": "2022-05-21T12:46:59.042Z"
   },
   {
    "duration": 6,
    "start_time": "2022-05-21T12:47:00.824Z"
   },
   {
    "duration": 6,
    "start_time": "2022-05-21T12:47:01.142Z"
   },
   {
    "duration": 7,
    "start_time": "2022-05-21T12:47:01.453Z"
   },
   {
    "duration": 136,
    "start_time": "2022-05-21T12:47:02.090Z"
   },
   {
    "duration": 1485,
    "start_time": "2022-05-21T12:47:22.649Z"
   },
   {
    "duration": 77,
    "start_time": "2022-05-21T12:47:24.136Z"
   },
   {
    "duration": 13,
    "start_time": "2022-05-21T12:47:24.218Z"
   },
   {
    "duration": 33,
    "start_time": "2022-05-21T12:47:24.233Z"
   },
   {
    "duration": 6,
    "start_time": "2022-05-21T12:47:24.268Z"
   },
   {
    "duration": 270,
    "start_time": "2022-05-21T12:47:24.276Z"
   },
   {
    "duration": 236,
    "start_time": "2022-05-21T12:47:24.548Z"
   },
   {
    "duration": 289,
    "start_time": "2022-05-21T12:47:24.786Z"
   },
   {
    "duration": 717,
    "start_time": "2022-05-21T12:47:25.077Z"
   },
   {
    "duration": 548,
    "start_time": "2022-05-21T12:47:25.801Z"
   },
   {
    "duration": 24,
    "start_time": "2022-05-21T12:47:26.352Z"
   },
   {
    "duration": 67,
    "start_time": "2022-05-21T12:47:26.378Z"
   },
   {
    "duration": 5,
    "start_time": "2022-05-21T12:47:26.447Z"
   },
   {
    "duration": 10,
    "start_time": "2022-05-21T12:47:26.456Z"
   },
   {
    "duration": 6,
    "start_time": "2022-05-21T12:47:26.468Z"
   },
   {
    "duration": 155,
    "start_time": "2022-05-21T12:47:26.543Z"
   },
   {
    "duration": 135759,
    "start_time": "2022-05-21T12:47:39.532Z"
   },
   {
    "duration": 1154,
    "start_time": "2022-05-21T12:49:55.293Z"
   },
   {
    "duration": 232680,
    "start_time": "2022-05-21T12:49:56.454Z"
   },
   {
    "duration": 14929,
    "start_time": "2022-05-21T12:53:49.141Z"
   },
   {
    "duration": 3168,
    "start_time": "2022-05-21T12:54:04.072Z"
   },
   {
    "duration": 57,
    "start_time": "2022-05-21T12:54:07.246Z"
   },
   {
    "duration": 162,
    "start_time": "2022-05-21T12:54:07.305Z"
   },
   {
    "duration": 28,
    "start_time": "2022-05-21T12:54:07.469Z"
   },
   {
    "duration": 61,
    "start_time": "2022-05-21T12:54:07.499Z"
   },
   {
    "duration": 97753,
    "start_time": "2022-05-21T12:55:58.337Z"
   },
   {
    "duration": 1041,
    "start_time": "2022-05-21T12:58:20.553Z"
   },
   {
    "duration": 0,
    "start_time": "2022-05-21T13:01:20.896Z"
   },
   {
    "duration": 0,
    "start_time": "2022-05-21T13:01:20.896Z"
   },
   {
    "duration": 0,
    "start_time": "2022-05-21T13:01:20.897Z"
   },
   {
    "duration": 11320,
    "start_time": "2022-05-21T13:01:25.324Z"
   },
   {
    "duration": 5368,
    "start_time": "2022-05-21T13:01:56.736Z"
   },
   {
    "duration": 2032,
    "start_time": "2022-05-21T13:02:12.339Z"
   },
   {
    "duration": 1395,
    "start_time": "2022-05-21T13:02:19.344Z"
   },
   {
    "duration": 898,
    "start_time": "2022-05-21T13:02:24.990Z"
   },
   {
    "duration": 453,
    "start_time": "2022-05-21T13:02:29.232Z"
   },
   {
    "duration": 541,
    "start_time": "2022-05-21T13:02:34.334Z"
   },
   {
    "duration": 641,
    "start_time": "2022-05-21T13:02:40.124Z"
   },
   {
    "duration": 794,
    "start_time": "2022-05-21T13:02:44.840Z"
   },
   {
    "duration": 1003,
    "start_time": "2022-05-21T13:02:49.586Z"
   },
   {
    "duration": 9781,
    "start_time": "2022-05-21T13:02:58.331Z"
   },
   {
    "duration": 953,
    "start_time": "2022-05-21T13:03:15.534Z"
   },
   {
    "duration": 19,
    "start_time": "2022-05-21T13:03:22.728Z"
   },
   {
    "duration": 23,
    "start_time": "2022-05-21T13:03:27.711Z"
   },
   {
    "duration": 53,
    "start_time": "2022-05-21T13:03:30.095Z"
   },
   {
    "duration": 21,
    "start_time": "2022-05-21T13:03:33.811Z"
   },
   {
    "duration": 460,
    "start_time": "2022-05-21T13:04:00.415Z"
   }
  ],
  "kernelspec": {
   "display_name": "Python 3 (ipykernel)",
   "language": "python",
   "name": "python3"
  },
  "language_info": {
   "codemirror_mode": {
    "name": "ipython",
    "version": 3
   },
   "file_extension": ".py",
   "mimetype": "text/x-python",
   "name": "python",
   "nbconvert_exporter": "python",
   "pygments_lexer": "ipython3",
   "version": "3.7.0"
  },
  "toc": {
   "base_numbering": 1,
   "nav_menu": {},
   "number_sections": true,
   "sideBar": true,
   "skip_h1_title": true,
   "title_cell": "Содержание",
   "title_sidebar": "Contents",
   "toc_cell": true,
   "toc_position": {
    "height": "calc(100% - 180px)",
    "left": "10px",
    "top": "150px",
    "width": "179px"
   },
   "toc_section_display": true,
   "toc_window_display": true
  }
 },
 "nbformat": 4,
 "nbformat_minor": 2
}
