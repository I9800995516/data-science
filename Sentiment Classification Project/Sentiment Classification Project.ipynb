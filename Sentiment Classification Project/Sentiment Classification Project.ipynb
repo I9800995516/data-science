{
 "cells": [
  {
   "cell_type": "markdown",
   "metadata": {
    "toc": true
   },
   "source": [
    "<h1>Содержание<span class=\"tocSkip\"></span></h1>\n",
    "<div class=\"toc\"><ul class=\"toc-item\"><li><span><a href=\"#Загрузка-и-просмотр-данных\" data-toc-modified-id=\"Загрузка-и-просмотр-данных-1\"><span class=\"toc-item-num\">1&nbsp;&nbsp;</span>Загрузка и просмотр данных</a></span></li><li><span><a href=\"#Обработка-данных\" data-toc-modified-id=\"Обработка-данных-2\"><span class=\"toc-item-num\">2&nbsp;&nbsp;</span>Обработка данных</a></span><ul class=\"toc-item\"><li><span><a href=\"#Функция-лемматизации-текста-и-создание-признака-из-лемм\" data-toc-modified-id=\"Функция-лемматизации-текста-и-создание-признака-из-лемм-2.1\"><span class=\"toc-item-num\">2.1&nbsp;&nbsp;</span>Функция лемматизации текста и создание признака из лемм</a></span></li><li><span><a href=\"#Разделение-выборки-на-train-и-test\" data-toc-modified-id=\"Разделение-выборки-на-train-и-test-2.2\"><span class=\"toc-item-num\">2.2&nbsp;&nbsp;</span>Разделение выборки на train и test</a></span></li></ul></li><li><span><a href=\"#Cоздание-Tf-idf-признаков\" data-toc-modified-id=\"Cоздание-Tf-idf-признаков-3\"><span class=\"toc-item-num\">3&nbsp;&nbsp;</span>Cоздание Tf-idf признаков</a></span></li><li><span><a href=\"#Обучение-и-проверка-моделей,-выбор-лучшей\" data-toc-modified-id=\"Обучение-и-проверка-моделей,-выбор-лучшей-4\"><span class=\"toc-item-num\">4&nbsp;&nbsp;</span>Обучение и проверка моделей, выбор лучшей</a></span><ul class=\"toc-item\"><li><span><a href=\"#Разделение-на-признаки-и-целевой-признак\" data-toc-modified-id=\"Разделение-на-признаки-и-целевой-признак-4.1\"><span class=\"toc-item-num\">4.1&nbsp;&nbsp;</span>Разделение на признаки и целевой признак</a></span></li><li><span><a href=\"#LogisticRegression\" data-toc-modified-id=\"LogisticRegression-4.2\"><span class=\"toc-item-num\">4.2&nbsp;&nbsp;</span>LogisticRegression</a></span></li><li><span><a href=\"#DecisionTreeClassifier\" data-toc-modified-id=\"DecisionTreeClassifier-4.3\"><span class=\"toc-item-num\">4.3&nbsp;&nbsp;</span>DecisionTreeClassifier</a></span></li><li><span><a href=\"#RandomForestClassifier\" data-toc-modified-id=\"RandomForestClassifier-4.4\"><span class=\"toc-item-num\">4.4&nbsp;&nbsp;</span>RandomForestClassifier</a></span></li></ul></li><li><span><a href=\"#Вывод\" data-toc-modified-id=\"Вывод-5\"><span class=\"toc-item-num\">5&nbsp;&nbsp;</span>Вывод</a></span></li></ul></div>"
   ]
  },
  {
   "cell_type": "markdown",
   "metadata": {},
   "source": [
    "# Проект по классификации тональности текстов"
   ]
  },
  {
   "cell_type": "markdown",
   "metadata": {},
   "source": [
    "Есть база данных интернет-магазина с комментариями на английском языке, каждому комментарию присвоена метка 0 или 1, где 0 - комментарий позитивный, 1 - комментарий негативный. Магазину нужен инструмент, который будет искать токсичные комментарии и отправлять их на модерацию. \n",
    "\n",
    "Задача: обучить модель классифицировать комментарии на позитивные и негативные.\n",
    "\n",
    "Метрика качества модели - *F1*, она должна быть не меньше 0.75."
   ]
  },
  {
   "cell_type": "markdown",
   "metadata": {},
   "source": [
    "## Загрузка и просмотр данных"
   ]
  },
  {
   "cell_type": "code",
   "execution_count": 1,
   "metadata": {},
   "outputs": [],
   "source": [
    "from tqdm import tqdm\n",
    "import pandas as pd\n",
    "import nltk\n",
    "from nltk.corpus import stopwords as nltk_stopwords\n",
    "from sklearn.feature_extraction.text import TfidfVectorizer \n",
    "import numpy as np\n",
    "from sklearn.linear_model import LogisticRegression\n",
    "from sklearn.model_selection import train_test_split\n",
    "from sklearn.metrics import accuracy_score\n",
    "pd.options.mode.chained_assignment = None\n",
    "from sklearn.metrics import f1_score\n",
    "from pymystem3 import Mystem\n",
    "m = Mystem()\n",
    "import re\n",
    "from sklearn.tree import DecisionTreeClassifier\n",
    "from sklearn.ensemble import RandomForestClassifier\n",
    "import spacy\n",
    "from sklearn.svm import SVC\n",
    "from sklearn.preprocessing import StandardScaler\n",
    "from sklearn.datasets import make_classification\n",
    "from sklearn.pipeline import Pipeline\n",
    "from sklearn.model_selection import cross_val_score\n",
    "from sklearn.feature_extraction.text import CountVectorizer\n",
    "import matplotlib.pyplot as plt"
   ]
  },
  {
   "cell_type": "code",
   "execution_count": 2,
   "metadata": {},
   "outputs": [],
   "source": [
    "df = pd.read_csv('/datasets/toxic_comments.csv')"
   ]
  },
  {
   "cell_type": "code",
   "execution_count": 3,
   "metadata": {},
   "outputs": [
    {
     "data": {
      "text/html": [
       "<div>\n",
       "<style scoped>\n",
       "    .dataframe tbody tr th:only-of-type {\n",
       "        vertical-align: middle;\n",
       "    }\n",
       "\n",
       "    .dataframe tbody tr th {\n",
       "        vertical-align: top;\n",
       "    }\n",
       "\n",
       "    .dataframe thead th {\n",
       "        text-align: right;\n",
       "    }\n",
       "</style>\n",
       "<table border=\"1\" class=\"dataframe\">\n",
       "  <thead>\n",
       "    <tr style=\"text-align: right;\">\n",
       "      <th></th>\n",
       "      <th>text</th>\n",
       "      <th>toxic</th>\n",
       "    </tr>\n",
       "  </thead>\n",
       "  <tbody>\n",
       "    <tr>\n",
       "      <th>0</th>\n",
       "      <td>Explanation\\nWhy the edits made under my usern...</td>\n",
       "      <td>0</td>\n",
       "    </tr>\n",
       "    <tr>\n",
       "      <th>1</th>\n",
       "      <td>D'aww! He matches this background colour I'm s...</td>\n",
       "      <td>0</td>\n",
       "    </tr>\n",
       "    <tr>\n",
       "      <th>2</th>\n",
       "      <td>Hey man, I'm really not trying to edit war. It...</td>\n",
       "      <td>0</td>\n",
       "    </tr>\n",
       "    <tr>\n",
       "      <th>3</th>\n",
       "      <td>\"\\nMore\\nI can't make any real suggestions on ...</td>\n",
       "      <td>0</td>\n",
       "    </tr>\n",
       "    <tr>\n",
       "      <th>4</th>\n",
       "      <td>You, sir, are my hero. Any chance you remember...</td>\n",
       "      <td>0</td>\n",
       "    </tr>\n",
       "    <tr>\n",
       "      <th>...</th>\n",
       "      <td>...</td>\n",
       "      <td>...</td>\n",
       "    </tr>\n",
       "    <tr>\n",
       "      <th>159566</th>\n",
       "      <td>\":::::And for the second time of asking, when ...</td>\n",
       "      <td>0</td>\n",
       "    </tr>\n",
       "    <tr>\n",
       "      <th>159567</th>\n",
       "      <td>You should be ashamed of yourself \\n\\nThat is ...</td>\n",
       "      <td>0</td>\n",
       "    </tr>\n",
       "    <tr>\n",
       "      <th>159568</th>\n",
       "      <td>Spitzer \\n\\nUmm, theres no actual article for ...</td>\n",
       "      <td>0</td>\n",
       "    </tr>\n",
       "    <tr>\n",
       "      <th>159569</th>\n",
       "      <td>And it looks like it was actually you who put ...</td>\n",
       "      <td>0</td>\n",
       "    </tr>\n",
       "    <tr>\n",
       "      <th>159570</th>\n",
       "      <td>\"\\nAnd ... I really don't think you understand...</td>\n",
       "      <td>0</td>\n",
       "    </tr>\n",
       "  </tbody>\n",
       "</table>\n",
       "<p>159571 rows × 2 columns</p>\n",
       "</div>"
      ],
      "text/plain": [
       "                                                     text  toxic\n",
       "0       Explanation\\nWhy the edits made under my usern...      0\n",
       "1       D'aww! He matches this background colour I'm s...      0\n",
       "2       Hey man, I'm really not trying to edit war. It...      0\n",
       "3       \"\\nMore\\nI can't make any real suggestions on ...      0\n",
       "4       You, sir, are my hero. Any chance you remember...      0\n",
       "...                                                   ...    ...\n",
       "159566  \":::::And for the second time of asking, when ...      0\n",
       "159567  You should be ashamed of yourself \\n\\nThat is ...      0\n",
       "159568  Spitzer \\n\\nUmm, theres no actual article for ...      0\n",
       "159569  And it looks like it was actually you who put ...      0\n",
       "159570  \"\\nAnd ... I really don't think you understand...      0\n",
       "\n",
       "[159571 rows x 2 columns]"
      ]
     },
     "metadata": {},
     "output_type": "display_data"
    }
   ],
   "source": [
    "display(df)"
   ]
  },
  {
   "cell_type": "markdown",
   "metadata": {},
   "source": [
    "## Обработка данных"
   ]
  },
  {
   "cell_type": "code",
   "execution_count": 4,
   "metadata": {},
   "outputs": [
    {
     "data": {
      "text/plain": [
       "text     0\n",
       "toxic    0\n",
       "dtype: int64"
      ]
     },
     "execution_count": 4,
     "metadata": {},
     "output_type": "execute_result"
    }
   ],
   "source": [
    "df.isna().sum()"
   ]
  },
  {
   "cell_type": "code",
   "execution_count": 5,
   "metadata": {},
   "outputs": [
    {
     "data": {
      "text/plain": [
       "0"
      ]
     },
     "execution_count": 5,
     "metadata": {},
     "output_type": "execute_result"
    }
   ],
   "source": [
    "df.duplicated().sum()"
   ]
  },
  {
   "cell_type": "markdown",
   "metadata": {},
   "source": [
    "### Функция лемматизации текста и создание признака из лемм"
   ]
  },
  {
   "cell_type": "code",
   "execution_count": 6,
   "metadata": {},
   "outputs": [],
   "source": [
    "nlp = spacy.load('en_core_web_sm')"
   ]
  },
  {
   "cell_type": "code",
   "execution_count": 7,
   "metadata": {},
   "outputs": [],
   "source": [
    "def LEMM(text):\n",
    "    sentence = nlp(text)\n",
    "    \n",
    "    T = []\n",
    "\n",
    "    for word in sentence:\n",
    "        T.append(word.lemma_)\n",
    "        \n",
    "    def clear_text(text):\n",
    "        return \" \".join(re.sub(r'[^a-zA-Z ]', ' ', text).split())\n",
    "    \n",
    "    Q = []\n",
    "\n",
    "    for i in range(len(T)):\n",
    "        Q.append(clear_text(T[i]))\n",
    "    \n",
    "    Q = ' '.join(Q)\n",
    "    \n",
    "    del T\n",
    "    \n",
    "    return Q"
   ]
  },
  {
   "cell_type": "code",
   "execution_count": 8,
   "metadata": {},
   "outputs": [
    {
     "name": "stderr",
     "output_type": "stream",
     "text": [
      "100%|██████████| 159571/159571 [48:27<00:00, 54.88it/s]  \n"
     ]
    }
   ],
   "source": [
    "\n",
    "\n",
    "W = []\n",
    "\n",
    "for i in tqdm(range(len(df['text']))):\n",
    "    W.append(LEMM(df['text'][i]))\n",
    "\n"
   ]
  },
  {
   "cell_type": "code",
   "execution_count": 11,
   "metadata": {},
   "outputs": [],
   "source": [
    "df['lemm'] = W"
   ]
  },
  {
   "cell_type": "code",
   "execution_count": 12,
   "metadata": {},
   "outputs": [],
   "source": [
    "del W"
   ]
  },
  {
   "cell_type": "code",
   "execution_count": 13,
   "metadata": {},
   "outputs": [],
   "source": [
    "df = df.drop('text', axis=1)"
   ]
  },
  {
   "cell_type": "code",
   "execution_count": 14,
   "metadata": {},
   "outputs": [
    {
     "data": {
      "text/html": [
       "<div>\n",
       "<style scoped>\n",
       "    .dataframe tbody tr th:only-of-type {\n",
       "        vertical-align: middle;\n",
       "    }\n",
       "\n",
       "    .dataframe tbody tr th {\n",
       "        vertical-align: top;\n",
       "    }\n",
       "\n",
       "    .dataframe thead th {\n",
       "        text-align: right;\n",
       "    }\n",
       "</style>\n",
       "<table border=\"1\" class=\"dataframe\">\n",
       "  <thead>\n",
       "    <tr style=\"text-align: right;\">\n",
       "      <th></th>\n",
       "      <th>toxic</th>\n",
       "      <th>lemm</th>\n",
       "    </tr>\n",
       "  </thead>\n",
       "  <tbody>\n",
       "    <tr>\n",
       "      <th>0</th>\n",
       "      <td>0</td>\n",
       "      <td>Explanation  why the edit make under my userna...</td>\n",
       "    </tr>\n",
       "    <tr>\n",
       "      <th>1</th>\n",
       "      <td>0</td>\n",
       "      <td>D aww  he match this background colour I be se...</td>\n",
       "    </tr>\n",
       "    <tr>\n",
       "      <th>2</th>\n",
       "      <td>0</td>\n",
       "      <td>hey man  I be really not try to edit war  it b...</td>\n",
       "    </tr>\n",
       "    <tr>\n",
       "      <th>3</th>\n",
       "      <td>0</td>\n",
       "      <td>More  I can not make any real suggestion on ...</td>\n",
       "    </tr>\n",
       "    <tr>\n",
       "      <th>4</th>\n",
       "      <td>0</td>\n",
       "      <td>you  sir  be my hero  any chance you remember ...</td>\n",
       "    </tr>\n",
       "    <tr>\n",
       "      <th>...</th>\n",
       "      <td>...</td>\n",
       "      <td>...</td>\n",
       "    </tr>\n",
       "    <tr>\n",
       "      <th>159566</th>\n",
       "      <td>0</td>\n",
       "      <td>and for the second time of asking  when ...</td>\n",
       "    </tr>\n",
       "    <tr>\n",
       "      <th>159567</th>\n",
       "      <td>0</td>\n",
       "      <td>you should be ashamed of yourself  that be a h...</td>\n",
       "    </tr>\n",
       "    <tr>\n",
       "      <th>159568</th>\n",
       "      <td>0</td>\n",
       "      <td>spitzer  Umm  there s no actual article for pr...</td>\n",
       "    </tr>\n",
       "    <tr>\n",
       "      <th>159569</th>\n",
       "      <td>0</td>\n",
       "      <td>and it look like it be actually you who put on...</td>\n",
       "    </tr>\n",
       "    <tr>\n",
       "      <th>159570</th>\n",
       "      <td>0</td>\n",
       "      <td>and  I really do not think you understand   ...</td>\n",
       "    </tr>\n",
       "  </tbody>\n",
       "</table>\n",
       "<p>159571 rows × 2 columns</p>\n",
       "</div>"
      ],
      "text/plain": [
       "        toxic                                               lemm\n",
       "0           0  Explanation  why the edit make under my userna...\n",
       "1           0  D aww  he match this background colour I be se...\n",
       "2           0  hey man  I be really not try to edit war  it b...\n",
       "3           0    More  I can not make any real suggestion on ...\n",
       "4           0  you  sir  be my hero  any chance you remember ...\n",
       "...       ...                                                ...\n",
       "159566      0        and for the second time of asking  when ...\n",
       "159567      0  you should be ashamed of yourself  that be a h...\n",
       "159568      0  spitzer  Umm  there s no actual article for pr...\n",
       "159569      0  and it look like it be actually you who put on...\n",
       "159570      0    and  I really do not think you understand   ...\n",
       "\n",
       "[159571 rows x 2 columns]"
      ]
     },
     "metadata": {},
     "output_type": "display_data"
    }
   ],
   "source": [
    "display(df)"
   ]
  },
  {
   "cell_type": "markdown",
   "metadata": {},
   "source": [
    "### Разделение выборки на train и test"
   ]
  },
  {
   "cell_type": "code",
   "execution_count": 15,
   "metadata": {},
   "outputs": [],
   "source": [
    "train, test = train_test_split(df, test_size=0.4, random_state=12345) "
   ]
  },
  {
   "cell_type": "markdown",
   "metadata": {},
   "source": [
    "## Cоздание Tf-idf признаков "
   ]
  },
  {
   "cell_type": "code",
   "execution_count": 16,
   "metadata": {},
   "outputs": [
    {
     "name": "stderr",
     "output_type": "stream",
     "text": [
      "[nltk_data] Downloading package stopwords to /home/jovyan/nltk_data...\n",
      "[nltk_data]   Package stopwords is already up-to-date!\n"
     ]
    }
   ],
   "source": [
    "nltk.download('stopwords')\n",
    "stopwords = set(nltk_stopwords.words('english'))\n",
    "\n",
    "vectorizer = TfidfVectorizer(stop_words=stopwords)\n",
    "\n",
    "\n",
    "\n",
    "tf_train = vectorizer.fit_transform(train['lemm'])\n",
    "\n",
    "\n",
    "tf_test = vectorizer.transform(test['lemm'])"
   ]
  },
  {
   "cell_type": "markdown",
   "metadata": {},
   "source": [
    "**vectorizer обучили на тренировочных данных**"
   ]
  },
  {
   "cell_type": "markdown",
   "metadata": {},
   "source": [
    "## Обучение и проверка моделей, выбор лучшей"
   ]
  },
  {
   "cell_type": "markdown",
   "metadata": {},
   "source": [
    "### Разделение на признаки и целевой признак"
   ]
  },
  {
   "cell_type": "code",
   "execution_count": 17,
   "metadata": {},
   "outputs": [],
   "source": [
    "features = tf_train\n",
    "target = train['toxic']"
   ]
  },
  {
   "cell_type": "code",
   "execution_count": 18,
   "metadata": {},
   "outputs": [],
   "source": [
    "features_train, features_valid, target_train, target_valid = train_test_split(\n",
    "    features, target, test_size=0.25, random_state=12345)"
   ]
  },
  {
   "cell_type": "code",
   "execution_count": 19,
   "metadata": {},
   "outputs": [],
   "source": [
    "features_test = tf_test\n",
    "target_test = test['toxic']"
   ]
  },
  {
   "cell_type": "markdown",
   "metadata": {},
   "source": [
    "**Модель с лучшими гиперпараметрами выбираем с помощью метода кросс-валидации, метрика *f1***"
   ]
  },
  {
   "cell_type": "markdown",
   "metadata": {},
   "source": [
    "### LogisticRegression"
   ]
  },
  {
   "cell_type": "markdown",
   "metadata": {},
   "source": [
    "Внутри кросс-валидации происходит разбиение переданной в нее выборки на части (треин и валидация). \n",
    "\n",
    "Нужно, чтобы при подборе параметров внутри кросс-валидации векторизатор не обучался на валидации. Для этого обучим его каждый раз только на треине (внутри кросс-валидации)."
   ]
  },
  {
   "cell_type": "markdown",
   "metadata": {},
   "source": [
    "**Подбор гиперпараметров:**"
   ]
  },
  {
   "cell_type": "code",
   "execution_count": 28,
   "metadata": {},
   "outputs": [
    {
     "name": "stdout",
     "output_type": "stream",
     "text": [
      "0.7718073369791507 6.0\n",
      "0.7720400518074783 6.1\n",
      "0.772379568622079 6.199999999999999\n",
      "Лучший скор: 0.772379568622079 При С: 6.199999999999999\n"
     ]
    }
   ],
   "source": [
    "scor_best = 0\n",
    "C_best = 0\n",
    "\n",
    "for C in np.arange(6.0, 6.2, 0.1):\n",
    "    pipe_lr = Pipeline([('tfidf', TfidfVectorizer(stop_words=stopwords)),\n",
    "     ('model', LogisticRegression(solver='liblinear', C=C, random_state=12345))])\n",
    "    scor = (cross_val_score(pipe_lr, train['lemm'], train['toxic'], scoring='f1', cv=20)).mean()\n",
    "    print(scor, C)\n",
    "    if scor > scor_best:\n",
    "        scor_best = scor\n",
    "        C_best = C\n",
    "\n",
    "        \n",
    "print('Лучший скор:', scor_best, 'При С:', C_best)"
   ]
  },
  {
   "cell_type": "markdown",
   "metadata": {},
   "source": [
    "Метрикой качества готовой модели служит f1 мера."
   ]
  },
  {
   "cell_type": "markdown",
   "metadata": {},
   "source": [
    "**Проверка модели на валидационных данных:**"
   ]
  },
  {
   "cell_type": "code",
   "execution_count": 30,
   "metadata": {},
   "outputs": [
    {
     "name": "stdout",
     "output_type": "stream",
     "text": [
      "f1: 0.7591549295774649\n"
     ]
    }
   ],
   "source": [
    "model = LogisticRegression(solver='liblinear', C=C_best, random_state=12345)\n",
    "model.fit(features_train, target_train)\n",
    "predicted_valid = model.predict(features_valid)\n",
    "print(\"f1:\", f1_score(predicted_valid, target_valid))"
   ]
  },
  {
   "cell_type": "markdown",
   "metadata": {},
   "source": [
    "**Проверка на тестовых данных:**"
   ]
  },
  {
   "cell_type": "code",
   "execution_count": 31,
   "metadata": {},
   "outputs": [
    {
     "name": "stdout",
     "output_type": "stream",
     "text": [
      "f1: 0.7643895989422653\n"
     ]
    }
   ],
   "source": [
    "predicted_test = model.predict(features_test)\n",
    "print(\"f1:\", f1_score(predicted_test, target_test))"
   ]
  },
  {
   "cell_type": "markdown",
   "metadata": {},
   "source": [
    "### DecisionTreeClassifier"
   ]
  },
  {
   "cell_type": "markdown",
   "metadata": {},
   "source": [
    "**Подбор гиперпараметров:**"
   ]
  },
  {
   "cell_type": "code",
   "execution_count": 32,
   "metadata": {},
   "outputs": [
    {
     "name": "stdout",
     "output_type": "stream",
     "text": [
      "0.47425334397304325 4\n",
      "0.49975442629023614 5\n",
      "Лучший скор: 0.49975442629023614 При depth: 5\n"
     ]
    }
   ],
   "source": [
    "scor_best = 0\n",
    "depth_best = 0\n",
    "\n",
    "for depth in range(4, 6):\n",
    "    \n",
    "    pipe_lr = Pipeline([('tfidf', TfidfVectorizer(stop_words=stopwords)),\n",
    "     ('model', DecisionTreeClassifier(random_state=12345, max_depth=depth))])\n",
    "    scor = (cross_val_score(pipe_lr, train['lemm'], train['toxic'], scoring='f1', cv=20)).mean()\n",
    "    print(scor, depth)\n",
    "    if scor > scor_best:\n",
    "        scor_best = scor\n",
    "        depth_best = depth\n",
    "        \n",
    "print('Лучший скор:', scor_best, 'При depth:', depth_best)"
   ]
  },
  {
   "cell_type": "markdown",
   "metadata": {},
   "source": [
    "**Проверка модели на валидационных данных:**"
   ]
  },
  {
   "cell_type": "code",
   "execution_count": 33,
   "metadata": {},
   "outputs": [
    {
     "name": "stdout",
     "output_type": "stream",
     "text": [
      "f1: 0.5111241217798594\n"
     ]
    }
   ],
   "source": [
    "model = DecisionTreeClassifier(random_state=12345, max_depth=depth_best)\n",
    "model.fit(features_train, target_train)\n",
    "predicted_valid = model.predict(features_valid)\n",
    "print(\"f1:\", f1_score(predicted_valid, target_valid))"
   ]
  },
  {
   "cell_type": "markdown",
   "metadata": {},
   "source": [
    "**Проверка на тестовых данных:**"
   ]
  },
  {
   "cell_type": "code",
   "execution_count": 34,
   "metadata": {},
   "outputs": [
    {
     "name": "stdout",
     "output_type": "stream",
     "text": [
      "f1: 0.5102086605339914\n"
     ]
    }
   ],
   "source": [
    "predicted_test = model.predict(features_test)\n",
    "print(\"f1:\", f1_score(predicted_test, target_test))"
   ]
  },
  {
   "cell_type": "markdown",
   "metadata": {},
   "source": [
    "### RandomForestClassifier"
   ]
  },
  {
   "cell_type": "markdown",
   "metadata": {},
   "source": [
    "**Подбор гиперпараметров:**"
   ]
  },
  {
   "cell_type": "code",
   "execution_count": 35,
   "metadata": {},
   "outputs": [
    {
     "name": "stdout",
     "output_type": "stream",
     "text": [
      "0.014599688295364125 1 1\n",
      "0.021175861152700003 1 2\n",
      "0.010040321637912136 2 1\n",
      "0.0164776450317159 2 2\n",
      "Лучший скор: 0.021175861152700003 При количестве деревьев: 1 Максимальной глубине: 2\n"
     ]
    }
   ],
   "source": [
    "best_result = 0\n",
    "best_est = 0\n",
    "best_depth = 0\n",
    "for est in range(1, 3):\n",
    "    for depth in range (1, 3):\n",
    "\n",
    "\n",
    "        pipe_lr = Pipeline([('tfidf', TfidfVectorizer(stop_words=stopwords)),\n",
    "         ('model', RandomForestClassifier(random_state=12345, n_estimators=est, max_depth=depth))])\n",
    "        scor = (cross_val_score(pipe_lr, train['lemm'], train['toxic'], scoring='f1', cv=20)).mean()\n",
    "        print(scor, est, depth)\n",
    "        if scor > best_result:\n",
    "            best_result = scor\n",
    "            best_est = est\n",
    "            best_depth = depth\n",
    "\n",
    "\n",
    "\n",
    "print(\"Лучший скор:\", best_result, \"При количестве деревьев:\", best_est, \"Максимальной глубине:\", best_depth)\n"
   ]
  },
  {
   "cell_type": "markdown",
   "metadata": {},
   "source": [
    "**Проверка модели на валидационных данных:**"
   ]
  },
  {
   "cell_type": "code",
   "execution_count": 36,
   "metadata": {},
   "outputs": [
    {
     "name": "stdout",
     "output_type": "stream",
     "text": [
      "f1: 0.00878594249201278\n"
     ]
    }
   ],
   "source": [
    "model = RandomForestClassifier(random_state=12345, n_estimators=best_est, max_depth=best_depth)\n",
    "model.fit(features_train, target_train)\n",
    "predicted_valid = model.predict(features_valid)\n",
    "print(\"f1:\", f1_score(predicted_valid, target_valid))"
   ]
  },
  {
   "cell_type": "markdown",
   "metadata": {},
   "source": [
    "**Проверка на тестовых данных:**"
   ]
  },
  {
   "cell_type": "code",
   "execution_count": 37,
   "metadata": {},
   "outputs": [
    {
     "name": "stdout",
     "output_type": "stream",
     "text": [
      "f1: 0.010705000764642912\n"
     ]
    }
   ],
   "source": [
    "predicted_test = model.predict(features_test)\n",
    "print(\"f1:\", f1_score(predicted_test, target_test))"
   ]
  },
  {
   "cell_type": "markdown",
   "metadata": {},
   "source": [
    "## Вывод"
   ]
  },
  {
   "cell_type": "markdown",
   "metadata": {},
   "source": [
    "Лучшее качество показала модель логистической регрессии с парметром С = 6.2.\n",
    "Достигнуто качество в 0.76 на тестовых данных, чего для решения данной задачи - достаточно.\n",
    "\n",
    "Вот такие дела."
   ]
  }
 ],
 "metadata": {
  "ExecuteTimeLog": [
   {
    "duration": 1573,
    "start_time": "2022-01-11T06:00:17.250Z"
   },
   {
    "duration": 718,
    "start_time": "2022-01-11T06:00:18.826Z"
   },
   {
    "duration": 22,
    "start_time": "2022-01-11T06:00:19.546Z"
   },
   {
    "duration": 5,
    "start_time": "2022-01-11T06:19:52.899Z"
   },
   {
    "duration": 775,
    "start_time": "2022-01-11T06:19:53.442Z"
   },
   {
    "duration": 13,
    "start_time": "2022-01-11T06:19:54.219Z"
   },
   {
    "duration": 29,
    "start_time": "2022-01-11T06:19:54.474Z"
   },
   {
    "duration": 6,
    "start_time": "2022-01-11T06:19:54.933Z"
   },
   {
    "duration": 48,
    "start_time": "2022-01-11T06:20:03.981Z"
   },
   {
    "duration": 6,
    "start_time": "2022-01-11T06:20:04.357Z"
   },
   {
    "duration": 1890,
    "start_time": "2022-01-11T06:24:23.221Z"
   },
   {
    "duration": 760,
    "start_time": "2022-01-11T06:24:25.115Z"
   },
   {
    "duration": 22,
    "start_time": "2022-01-11T06:24:25.881Z"
   },
   {
    "duration": 14556,
    "start_time": "2022-01-11T06:24:25.924Z"
   },
   {
    "duration": -119,
    "start_time": "2022-01-11T06:24:40.601Z"
   },
   {
    "duration": 1850,
    "start_time": "2022-01-11T06:50:08.821Z"
   },
   {
    "duration": 785,
    "start_time": "2022-01-11T06:50:10.673Z"
   },
   {
    "duration": 25,
    "start_time": "2022-01-11T06:50:11.461Z"
   },
   {
    "duration": 623,
    "start_time": "2022-01-11T06:50:11.489Z"
   },
   {
    "duration": 1547,
    "start_time": "2022-01-11T06:56:11.928Z"
   },
   {
    "duration": 1623,
    "start_time": "2022-01-11T06:57:15.514Z"
   },
   {
    "duration": 4,
    "start_time": "2022-01-11T06:57:17.140Z"
   },
   {
    "duration": 713,
    "start_time": "2022-01-11T06:57:19.197Z"
   },
   {
    "duration": 23,
    "start_time": "2022-01-11T06:57:20.839Z"
   },
   {
    "duration": 4,
    "start_time": "2022-01-11T06:57:22.814Z"
   },
   {
    "duration": 367,
    "start_time": "2022-01-11T06:57:30.820Z"
   },
   {
    "duration": 307,
    "start_time": "2022-01-11T06:58:41.836Z"
   },
   {
    "duration": 319,
    "start_time": "2022-01-11T06:58:44.713Z"
   },
   {
    "duration": 1524,
    "start_time": "2022-01-11T06:58:53.295Z"
   },
   {
    "duration": 4,
    "start_time": "2022-01-11T06:58:54.823Z"
   },
   {
    "duration": 830,
    "start_time": "2022-01-11T06:58:54.830Z"
   },
   {
    "duration": 21,
    "start_time": "2022-01-11T06:58:55.663Z"
   },
   {
    "duration": 4,
    "start_time": "2022-01-11T06:58:55.686Z"
   },
   {
    "duration": 1914,
    "start_time": "2022-01-11T07:01:59.497Z"
   },
   {
    "duration": 731,
    "start_time": "2022-01-11T07:02:01.423Z"
   },
   {
    "duration": 25,
    "start_time": "2022-01-11T07:02:02.158Z"
   },
   {
    "duration": 5,
    "start_time": "2022-01-11T07:02:50.418Z"
   },
   {
    "duration": 18,
    "start_time": "2022-01-11T07:03:59.477Z"
   },
   {
    "duration": 12,
    "start_time": "2022-01-11T07:05:06.579Z"
   },
   {
    "duration": 1510,
    "start_time": "2022-01-11T07:06:30.921Z"
   },
   {
    "duration": 749,
    "start_time": "2022-01-11T07:06:32.440Z"
   },
   {
    "duration": 36,
    "start_time": "2022-01-11T07:06:33.191Z"
   },
   {
    "duration": 6,
    "start_time": "2022-01-11T07:06:33.230Z"
   },
   {
    "duration": 364,
    "start_time": "2022-01-11T07:07:12.020Z"
   },
   {
    "duration": 1531,
    "start_time": "2022-01-11T07:07:18.926Z"
   },
   {
    "duration": 730,
    "start_time": "2022-01-11T07:07:20.459Z"
   },
   {
    "duration": 40,
    "start_time": "2022-01-11T07:07:21.192Z"
   },
   {
    "duration": 9,
    "start_time": "2022-01-11T07:07:21.235Z"
   },
   {
    "duration": 17,
    "start_time": "2022-01-11T07:07:21.247Z"
   },
   {
    "duration": 1462,
    "start_time": "2022-01-11T07:19:38.772Z"
   },
   {
    "duration": 711,
    "start_time": "2022-01-11T07:19:40.236Z"
   },
   {
    "duration": 21,
    "start_time": "2022-01-11T07:19:40.950Z"
   },
   {
    "duration": 2010,
    "start_time": "2022-01-11T07:32:20.449Z"
   },
   {
    "duration": 871,
    "start_time": "2022-01-11T07:32:22.462Z"
   },
   {
    "duration": 34,
    "start_time": "2022-01-11T07:32:23.337Z"
   },
   {
    "duration": 358,
    "start_time": "2022-01-11T07:33:56.781Z"
   },
   {
    "duration": 1502,
    "start_time": "2022-01-11T07:34:01.634Z"
   },
   {
    "duration": 768,
    "start_time": "2022-01-11T07:34:03.140Z"
   },
   {
    "duration": 25,
    "start_time": "2022-01-11T07:34:03.912Z"
   },
   {
    "duration": 33,
    "start_time": "2022-01-11T07:34:03.940Z"
   },
   {
    "duration": 1679,
    "start_time": "2022-01-11T07:34:14.934Z"
   },
   {
    "duration": 5,
    "start_time": "2022-01-11T07:34:58.734Z"
   },
   {
    "duration": 5,
    "start_time": "2022-01-11T07:35:11.167Z"
   },
   {
    "duration": 33,
    "start_time": "2022-01-11T07:35:17.935Z"
   },
   {
    "duration": 5,
    "start_time": "2022-01-11T07:35:18.251Z"
   },
   {
    "duration": 418,
    "start_time": "2022-01-11T07:35:46.100Z"
   },
   {
    "duration": 1499,
    "start_time": "2022-01-11T07:35:52.569Z"
   },
   {
    "duration": 712,
    "start_time": "2022-01-11T07:35:54.071Z"
   },
   {
    "duration": 40,
    "start_time": "2022-01-11T07:35:54.786Z"
   },
   {
    "duration": 37,
    "start_time": "2022-01-11T07:35:54.830Z"
   },
   {
    "duration": 5,
    "start_time": "2022-01-11T07:35:54.870Z"
   },
   {
    "duration": 1678,
    "start_time": "2022-01-11T07:36:01.078Z"
   },
   {
    "duration": 1540,
    "start_time": "2022-01-11T07:36:39.302Z"
   },
   {
    "duration": 741,
    "start_time": "2022-01-11T07:36:40.846Z"
   },
   {
    "duration": 37,
    "start_time": "2022-01-11T07:36:41.593Z"
   },
   {
    "duration": 28,
    "start_time": "2022-01-11T07:36:41.632Z"
   },
   {
    "duration": 5,
    "start_time": "2022-01-11T07:36:41.662Z"
   },
   {
    "duration": 1669,
    "start_time": "2022-01-11T07:36:41.669Z"
   },
   {
    "duration": 934,
    "start_time": "2022-01-11T07:41:13.546Z"
   },
   {
    "duration": 4,
    "start_time": "2022-01-11T07:41:17.178Z"
   },
   {
    "duration": 101563,
    "start_time": "2022-01-11T07:41:17.531Z"
   },
   {
    "duration": 1241,
    "start_time": "2022-01-11T07:44:56.099Z"
   },
   {
    "duration": 106,
    "start_time": "2022-01-11T07:45:39.614Z"
   },
   {
    "duration": 1175,
    "start_time": "2022-01-11T07:45:39.927Z"
   },
   {
    "duration": 118,
    "start_time": "2022-01-11T07:45:55.691Z"
   },
   {
    "duration": 112,
    "start_time": "2022-01-11T07:46:02.532Z"
   },
   {
    "duration": 10,
    "start_time": "2022-01-11T07:47:41.704Z"
   },
   {
    "duration": 18,
    "start_time": "2022-01-11T07:48:01.950Z"
   },
   {
    "duration": 10,
    "start_time": "2022-01-11T07:48:07.702Z"
   },
   {
    "duration": 7,
    "start_time": "2022-01-11T07:48:31.609Z"
   },
   {
    "duration": 17,
    "start_time": "2022-01-11T07:48:49.092Z"
   },
   {
    "duration": 4,
    "start_time": "2022-01-11T08:02:23.328Z"
   },
   {
    "duration": 112,
    "start_time": "2022-01-11T08:02:23.633Z"
   },
   {
    "duration": 525,
    "start_time": "2022-01-11T08:02:23.976Z"
   },
   {
    "duration": 4,
    "start_time": "2022-01-11T08:04:13.139Z"
   },
   {
    "duration": 7634,
    "start_time": "2022-01-11T08:04:14.791Z"
   },
   {
    "duration": 4,
    "start_time": "2022-01-11T08:05:51.679Z"
   },
   {
    "duration": 5,
    "start_time": "2022-01-11T08:05:56.590Z"
   },
   {
    "duration": 119,
    "start_time": "2022-01-11T08:06:23.827Z"
   },
   {
    "duration": 6,
    "start_time": "2022-01-11T08:06:28.732Z"
   },
   {
    "duration": 581,
    "start_time": "2022-01-11T08:07:56.549Z"
   },
   {
    "duration": 4,
    "start_time": "2022-01-11T08:08:00.937Z"
   },
   {
    "duration": 3,
    "start_time": "2022-01-11T08:08:01.692Z"
   },
   {
    "duration": 4,
    "start_time": "2022-01-11T08:08:01.996Z"
   },
   {
    "duration": 7097,
    "start_time": "2022-01-11T08:08:02.302Z"
   },
   {
    "duration": 659,
    "start_time": "2022-01-11T08:08:44.462Z"
   },
   {
    "duration": 4,
    "start_time": "2022-01-11T08:08:47.041Z"
   },
   {
    "duration": 3,
    "start_time": "2022-01-11T08:08:47.595Z"
   },
   {
    "duration": 3,
    "start_time": "2022-01-11T08:08:47.980Z"
   },
   {
    "duration": 5,
    "start_time": "2022-01-11T08:08:48.342Z"
   },
   {
    "duration": 4,
    "start_time": "2022-01-11T08:09:15.052Z"
   },
   {
    "duration": 114,
    "start_time": "2022-01-11T08:09:42.291Z"
   },
   {
    "duration": 4,
    "start_time": "2022-01-11T08:09:47.134Z"
   },
   {
    "duration": 5,
    "start_time": "2022-01-11T08:09:47.895Z"
   },
   {
    "duration": 4,
    "start_time": "2022-01-11T08:10:10.637Z"
   },
   {
    "duration": 3,
    "start_time": "2022-01-11T08:10:11.634Z"
   },
   {
    "duration": 4,
    "start_time": "2022-01-11T08:10:12.542Z"
   },
   {
    "duration": 4,
    "start_time": "2022-01-11T08:10:13.887Z"
   },
   {
    "duration": 3,
    "start_time": "2022-01-11T08:15:09.727Z"
   },
   {
    "duration": 4,
    "start_time": "2022-01-11T08:15:09.964Z"
   },
   {
    "duration": 716,
    "start_time": "2022-01-11T08:15:10.330Z"
   },
   {
    "duration": 1446,
    "start_time": "2022-01-11T08:22:10.618Z"
   },
   {
    "duration": 716,
    "start_time": "2022-01-11T08:22:12.853Z"
   },
   {
    "duration": 21,
    "start_time": "2022-01-11T08:22:13.571Z"
   },
   {
    "duration": 28,
    "start_time": "2022-01-11T08:22:14.379Z"
   },
   {
    "duration": 4,
    "start_time": "2022-01-11T08:22:15.127Z"
   },
   {
    "duration": 1649,
    "start_time": "2022-01-11T08:22:16.249Z"
   },
   {
    "duration": 4,
    "start_time": "2022-01-11T08:22:20.369Z"
   },
   {
    "duration": 1013,
    "start_time": "2022-01-11T08:22:25.890Z"
   },
   {
    "duration": 1511,
    "start_time": "2022-01-11T08:45:28.316Z"
   },
   {
    "duration": 732,
    "start_time": "2022-01-11T08:45:29.829Z"
   },
   {
    "duration": 22,
    "start_time": "2022-01-11T08:45:30.563Z"
   },
   {
    "duration": 7,
    "start_time": "2022-01-11T08:45:33.618Z"
   },
   {
    "duration": 5,
    "start_time": "2022-01-11T08:45:33.984Z"
   },
   {
    "duration": 10,
    "start_time": "2022-01-11T08:45:36.022Z"
   },
   {
    "duration": 5,
    "start_time": "2022-01-11T08:45:36.961Z"
   },
   {
    "duration": 952,
    "start_time": "2022-01-11T08:45:38.164Z"
   },
   {
    "duration": 1751,
    "start_time": "2022-01-11T08:47:22.577Z"
   },
   {
    "duration": 992,
    "start_time": "2022-01-11T08:47:24.332Z"
   },
   {
    "duration": 22,
    "start_time": "2022-01-11T08:47:25.330Z"
   },
   {
    "duration": 10,
    "start_time": "2022-01-11T08:47:25.355Z"
   },
   {
    "duration": 6,
    "start_time": "2022-01-11T08:47:25.369Z"
   },
   {
    "duration": 45,
    "start_time": "2022-01-11T08:47:25.378Z"
   },
   {
    "duration": 5,
    "start_time": "2022-01-11T08:47:25.426Z"
   },
   {
    "duration": 1017,
    "start_time": "2022-01-11T08:47:25.434Z"
   },
   {
    "duration": 22126,
    "start_time": "2022-01-11T08:47:26.455Z"
   },
   {
    "duration": 4,
    "start_time": "2022-01-11T08:48:09.989Z"
   },
   {
    "duration": 6,
    "start_time": "2022-01-11T08:48:59.326Z"
   },
   {
    "duration": 1111,
    "start_time": "2022-01-11T08:49:10.518Z"
   },
   {
    "duration": 14,
    "start_time": "2022-01-11T08:49:17.925Z"
   },
   {
    "duration": 5,
    "start_time": "2022-01-11T08:55:25.498Z"
   },
   {
    "duration": 765,
    "start_time": "2022-01-11T08:55:25.786Z"
   },
   {
    "duration": 376,
    "start_time": "2022-01-11T08:55:26.553Z"
   },
   {
    "duration": 4,
    "start_time": "2022-01-11T08:56:18.446Z"
   },
   {
    "duration": 14,
    "start_time": "2022-01-11T08:56:21.778Z"
   },
   {
    "duration": 5,
    "start_time": "2022-01-11T08:56:32.082Z"
   },
   {
    "duration": 12,
    "start_time": "2022-01-11T08:56:34.203Z"
   },
   {
    "duration": 339,
    "start_time": "2022-01-11T08:56:41.930Z"
   },
   {
    "duration": 11,
    "start_time": "2022-01-11T08:56:42.617Z"
   },
   {
    "duration": 1468,
    "start_time": "2022-01-11T08:56:58.407Z"
   },
   {
    "duration": 751,
    "start_time": "2022-01-11T08:56:59.878Z"
   },
   {
    "duration": 4,
    "start_time": "2022-01-11T08:57:00.632Z"
   },
   {
    "duration": 40,
    "start_time": "2022-01-11T08:57:00.639Z"
   },
   {
    "duration": 1496,
    "start_time": "2022-01-11T08:57:25.384Z"
   },
   {
    "duration": 1173,
    "start_time": "2022-01-11T08:57:26.883Z"
   },
   {
    "duration": 779,
    "start_time": "2022-01-11T08:57:34.795Z"
   },
   {
    "duration": 390,
    "start_time": "2022-01-11T08:57:35.627Z"
   },
   {
    "duration": 1508,
    "start_time": "2022-01-11T08:58:44.141Z"
   },
   {
    "duration": 748,
    "start_time": "2022-01-11T08:58:45.653Z"
   },
   {
    "duration": 481,
    "start_time": "2022-01-11T08:58:46.407Z"
   },
   {
    "duration": -106,
    "start_time": "2022-01-11T08:58:46.997Z"
   },
   {
    "duration": 454,
    "start_time": "2022-01-11T09:01:57.235Z"
   },
   {
    "duration": 333,
    "start_time": "2022-01-11T09:01:57.703Z"
   },
   {
    "duration": 1537,
    "start_time": "2022-01-11T09:02:01.191Z"
   },
   {
    "duration": 754,
    "start_time": "2022-01-11T09:02:02.731Z"
   },
   {
    "duration": 34,
    "start_time": "2022-01-11T09:02:03.488Z"
   },
   {
    "duration": 7,
    "start_time": "2022-01-11T09:02:03.526Z"
   },
   {
    "duration": 8,
    "start_time": "2022-01-11T09:02:03.535Z"
   },
   {
    "duration": 7,
    "start_time": "2022-01-11T09:02:03.545Z"
   },
   {
    "duration": 8,
    "start_time": "2022-01-11T09:02:03.555Z"
   },
   {
    "duration": 22514,
    "start_time": "2022-01-11T09:02:03.566Z"
   },
   {
    "duration": 5,
    "start_time": "2022-01-11T09:02:26.083Z"
   },
   {
    "duration": 32,
    "start_time": "2022-01-11T09:02:26.091Z"
   },
   {
    "duration": 1615,
    "start_time": "2022-01-11T09:06:56.643Z"
   },
   {
    "duration": 771,
    "start_time": "2022-01-11T09:06:58.261Z"
   },
   {
    "duration": 22,
    "start_time": "2022-01-11T09:06:59.035Z"
   },
   {
    "duration": 7,
    "start_time": "2022-01-11T09:06:59.061Z"
   },
   {
    "duration": 11,
    "start_time": "2022-01-11T09:06:59.070Z"
   },
   {
    "duration": 5,
    "start_time": "2022-01-11T09:06:59.084Z"
   },
   {
    "duration": 34,
    "start_time": "2022-01-11T09:06:59.091Z"
   },
   {
    "duration": 21987,
    "start_time": "2022-01-11T09:06:59.128Z"
   },
   {
    "duration": 7,
    "start_time": "2022-01-11T09:07:21.122Z"
   },
   {
    "duration": 23,
    "start_time": "2022-01-11T09:07:21.131Z"
   },
   {
    "duration": 14499,
    "start_time": "2022-01-11T09:07:21.156Z"
   },
   {
    "duration": 499,
    "start_time": "2022-01-11T09:07:35.658Z"
   },
   {
    "duration": -79,
    "start_time": "2022-01-11T09:07:36.239Z"
   },
   {
    "duration": -80,
    "start_time": "2022-01-11T09:07:36.241Z"
   },
   {
    "duration": -80,
    "start_time": "2022-01-11T09:07:36.243Z"
   },
   {
    "duration": 1751,
    "start_time": "2022-01-11T09:09:36.482Z"
   },
   {
    "duration": 797,
    "start_time": "2022-01-11T09:09:38.236Z"
   },
   {
    "duration": 24,
    "start_time": "2022-01-11T09:09:39.036Z"
   },
   {
    "duration": 6,
    "start_time": "2022-01-11T09:09:39.062Z"
   },
   {
    "duration": 10,
    "start_time": "2022-01-11T09:09:39.070Z"
   },
   {
    "duration": 9,
    "start_time": "2022-01-11T09:09:39.082Z"
   },
   {
    "duration": 30,
    "start_time": "2022-01-11T09:09:39.093Z"
   },
   {
    "duration": 22541,
    "start_time": "2022-01-11T09:09:39.126Z"
   },
   {
    "duration": 6,
    "start_time": "2022-01-11T09:10:01.671Z"
   },
   {
    "duration": 9,
    "start_time": "2022-01-11T09:10:01.680Z"
   },
   {
    "duration": 14923,
    "start_time": "2022-01-11T09:10:01.691Z"
   },
   {
    "duration": 12,
    "start_time": "2022-01-11T09:10:16.617Z"
   },
   {
    "duration": 19,
    "start_time": "2022-01-11T09:10:16.632Z"
   },
   {
    "duration": 14,
    "start_time": "2022-01-11T09:10:16.655Z"
   },
   {
    "duration": 136,
    "start_time": "2022-01-11T09:11:52.438Z"
   },
   {
    "duration": 8,
    "start_time": "2022-01-11T09:13:59.079Z"
   },
   {
    "duration": 11,
    "start_time": "2022-01-11T09:13:59.792Z"
   },
   {
    "duration": 1549,
    "start_time": "2022-01-11T09:14:28.444Z"
   },
   {
    "duration": 789,
    "start_time": "2022-01-11T09:14:29.996Z"
   },
   {
    "duration": 37,
    "start_time": "2022-01-11T09:14:30.788Z"
   },
   {
    "duration": 6,
    "start_time": "2022-01-11T09:14:30.829Z"
   },
   {
    "duration": 10,
    "start_time": "2022-01-11T09:14:30.837Z"
   },
   {
    "duration": 43,
    "start_time": "2022-01-11T09:14:30.849Z"
   },
   {
    "duration": 21,
    "start_time": "2022-01-11T09:14:30.895Z"
   },
   {
    "duration": 220136,
    "start_time": "2022-01-11T09:14:30.919Z"
   },
   {
    "duration": 6,
    "start_time": "2022-01-11T09:18:11.058Z"
   },
   {
    "duration": 18,
    "start_time": "2022-01-11T09:18:11.067Z"
   },
   {
    "duration": 146966,
    "start_time": "2022-01-11T09:18:11.087Z"
   },
   {
    "duration": 6,
    "start_time": "2022-01-11T09:20:38.056Z"
   },
   {
    "duration": 23,
    "start_time": "2022-01-11T09:20:38.064Z"
   },
   {
    "duration": 39,
    "start_time": "2022-01-11T09:20:38.090Z"
   },
   {
    "duration": 267,
    "start_time": "2022-01-11T09:20:38.132Z"
   },
   {
    "duration": 7,
    "start_time": "2022-01-11T09:20:38.403Z"
   },
   {
    "duration": 15,
    "start_time": "2022-01-11T09:20:38.412Z"
   },
   {
    "duration": 55,
    "start_time": "2022-01-11T09:22:47.214Z"
   },
   {
    "duration": 7,
    "start_time": "2022-01-11T09:23:10.161Z"
   },
   {
    "duration": 6,
    "start_time": "2022-01-11T09:23:10.691Z"
   },
   {
    "duration": 8,
    "start_time": "2022-01-11T09:23:38.281Z"
   },
   {
    "duration": 118,
    "start_time": "2022-01-11T09:24:06.804Z"
   },
   {
    "duration": 498,
    "start_time": "2022-01-11T09:24:13.583Z"
   },
   {
    "duration": 730,
    "start_time": "2022-01-11T09:24:20.978Z"
   },
   {
    "duration": 329,
    "start_time": "2022-01-11T09:24:37.981Z"
   },
   {
    "duration": 9,
    "start_time": "2022-01-11T09:24:45.879Z"
   },
   {
    "duration": 7,
    "start_time": "2022-01-11T09:25:19.094Z"
   },
   {
    "duration": 9,
    "start_time": "2022-01-11T09:25:40.337Z"
   },
   {
    "duration": 8,
    "start_time": "2022-01-11T09:25:48.769Z"
   },
   {
    "duration": 8,
    "start_time": "2022-01-11T09:26:52.232Z"
   },
   {
    "duration": 9,
    "start_time": "2022-01-11T09:27:12.386Z"
   },
   {
    "duration": 14,
    "start_time": "2022-01-11T09:28:23.049Z"
   },
   {
    "duration": 14,
    "start_time": "2022-01-11T09:28:39.289Z"
   },
   {
    "duration": 12,
    "start_time": "2022-01-11T09:29:05.348Z"
   },
   {
    "duration": 11,
    "start_time": "2022-01-11T09:29:25.412Z"
   },
   {
    "duration": 1501,
    "start_time": "2022-01-11T09:35:28.560Z"
   },
   {
    "duration": 785,
    "start_time": "2022-01-11T09:35:30.064Z"
   },
   {
    "duration": 23,
    "start_time": "2022-01-11T09:35:30.852Z"
   },
   {
    "duration": 7,
    "start_time": "2022-01-11T09:35:30.878Z"
   },
   {
    "duration": 18,
    "start_time": "2022-01-11T09:35:30.888Z"
   },
   {
    "duration": 51,
    "start_time": "2022-01-11T09:35:30.924Z"
   },
   {
    "duration": 13,
    "start_time": "2022-01-11T09:35:30.979Z"
   },
   {
    "duration": 2272027,
    "start_time": "2022-01-11T09:35:30.996Z"
   },
   {
    "duration": 7,
    "start_time": "2022-01-11T10:13:23.026Z"
   },
   {
    "duration": 7,
    "start_time": "2022-01-11T10:13:23.036Z"
   },
   {
    "duration": 7,
    "start_time": "2022-01-11T10:13:23.045Z"
   },
   {
    "duration": 6,
    "start_time": "2022-01-11T10:13:23.054Z"
   },
   {
    "duration": 19,
    "start_time": "2022-01-11T10:13:23.063Z"
   },
   {
    "duration": 4,
    "start_time": "2022-01-11T10:13:23.085Z"
   },
   {
    "duration": 548,
    "start_time": "2022-01-11T10:13:23.091Z"
   },
   {
    "duration": 7,
    "start_time": "2022-01-11T10:13:23.641Z"
   },
   {
    "duration": 11,
    "start_time": "2022-01-11T10:13:23.651Z"
   },
   {
    "duration": 360,
    "start_time": "2022-01-11T10:13:23.664Z"
   },
   {
    "duration": 29,
    "start_time": "2022-01-11T10:54:00.807Z"
   },
   {
    "duration": 37,
    "start_time": "2022-01-11T10:58:29.905Z"
   },
   {
    "duration": 339,
    "start_time": "2022-01-11T10:58:30.192Z"
   },
   {
    "duration": 370,
    "start_time": "2022-01-11T10:59:02.548Z"
   },
   {
    "duration": 3,
    "start_time": "2022-01-11T10:59:37.482Z"
   },
   {
    "duration": 313,
    "start_time": "2022-01-11T10:59:37.488Z"
   },
   {
    "duration": 463,
    "start_time": "2022-01-11T10:59:37.842Z"
   },
   {
    "duration": 6592,
    "start_time": "2022-01-11T11:00:29.116Z"
   },
   {
    "duration": 1493,
    "start_time": "2022-01-11T11:08:53.974Z"
   },
   {
    "duration": 783,
    "start_time": "2022-01-11T11:08:55.471Z"
   },
   {
    "duration": 33,
    "start_time": "2022-01-11T11:08:56.257Z"
   },
   {
    "duration": 7,
    "start_time": "2022-01-11T11:08:56.293Z"
   },
   {
    "duration": 5,
    "start_time": "2022-01-11T11:08:56.326Z"
   },
   {
    "duration": 5,
    "start_time": "2022-01-11T11:09:01.425Z"
   },
   {
    "duration": 4,
    "start_time": "2022-01-11T11:09:01.758Z"
   },
   {
    "duration": 24388,
    "start_time": "2022-01-11T11:09:01.969Z"
   },
   {
    "duration": 7,
    "start_time": "2022-01-11T11:09:26.360Z"
   },
   {
    "duration": 7,
    "start_time": "2022-01-11T11:09:26.370Z"
   },
   {
    "duration": 15643,
    "start_time": "2022-01-11T11:09:26.380Z"
   },
   {
    "duration": 6,
    "start_time": "2022-01-11T11:09:42.027Z"
   },
   {
    "duration": 20,
    "start_time": "2022-01-11T11:09:42.035Z"
   },
   {
    "duration": 17,
    "start_time": "2022-01-11T11:09:42.058Z"
   },
   {
    "duration": 110,
    "start_time": "2022-01-11T11:09:42.079Z"
   },
   {
    "duration": -40,
    "start_time": "2022-01-11T11:09:42.232Z"
   },
   {
    "duration": -40,
    "start_time": "2022-01-11T11:09:42.233Z"
   },
   {
    "duration": -39,
    "start_time": "2022-01-11T11:09:42.234Z"
   },
   {
    "duration": -40,
    "start_time": "2022-01-11T11:09:42.236Z"
   },
   {
    "duration": -39,
    "start_time": "2022-01-11T11:09:42.237Z"
   },
   {
    "duration": -49,
    "start_time": "2022-01-11T11:09:42.249Z"
   },
   {
    "duration": -50,
    "start_time": "2022-01-11T11:09:42.251Z"
   },
   {
    "duration": -50,
    "start_time": "2022-01-11T11:09:42.253Z"
   },
   {
    "duration": -49,
    "start_time": "2022-01-11T11:09:42.254Z"
   },
   {
    "duration": 133,
    "start_time": "2022-01-11T11:10:09.644Z"
   },
   {
    "duration": 7,
    "start_time": "2022-01-11T11:10:11.214Z"
   },
   {
    "duration": 6,
    "start_time": "2022-01-11T11:10:11.793Z"
   },
   {
    "duration": 12,
    "start_time": "2022-01-11T11:10:12.139Z"
   },
   {
    "duration": 4,
    "start_time": "2022-01-11T11:10:12.611Z"
   },
   {
    "duration": 42,
    "start_time": "2022-01-11T11:10:12.910Z"
   },
   {
    "duration": 39,
    "start_time": "2022-01-11T11:10:13.174Z"
   },
   {
    "duration": 3305,
    "start_time": "2022-01-11T11:10:13.834Z"
   },
   {
    "duration": 4,
    "start_time": "2022-01-11T11:10:17.142Z"
   },
   {
    "duration": 11,
    "start_time": "2022-01-11T11:10:17.150Z"
   },
   {
    "duration": 1795,
    "start_time": "2022-01-12T12:49:42.876Z"
   },
   {
    "duration": 3508,
    "start_time": "2022-01-12T12:49:44.682Z"
   },
   {
    "duration": 22,
    "start_time": "2022-01-12T12:49:48.193Z"
   },
   {
    "duration": 51,
    "start_time": "2022-01-12T12:49:48.218Z"
   },
   {
    "duration": 6,
    "start_time": "2022-01-12T12:49:48.274Z"
   },
   {
    "duration": 1908,
    "start_time": "2022-01-12T12:50:03.605Z"
   },
   {
    "duration": 4454,
    "start_time": "2022-01-12T12:50:07.148Z"
   },
   {
    "duration": 8682,
    "start_time": "2022-01-12T12:50:12.129Z"
   },
   {
    "duration": 4057,
    "start_time": "2022-01-12T12:50:23.052Z"
   },
   {
    "duration": 8,
    "start_time": "2022-01-12T12:52:29.725Z"
   },
   {
    "duration": 984,
    "start_time": "2022-01-12T12:52:30.535Z"
   },
   {
    "duration": 15,
    "start_time": "2022-01-12T12:52:31.521Z"
   },
   {
    "duration": 90,
    "start_time": "2022-01-12T12:52:31.539Z"
   },
   {
    "duration": 4,
    "start_time": "2022-01-12T12:52:31.721Z"
   },
   {
    "duration": 1558,
    "start_time": "2022-01-12T12:52:48.582Z"
   },
   {
    "duration": 3550,
    "start_time": "2022-01-12T12:52:50.143Z"
   },
   {
    "duration": 24,
    "start_time": "2022-01-12T12:52:53.696Z"
   },
   {
    "duration": 66,
    "start_time": "2022-01-12T12:52:53.723Z"
   },
   {
    "duration": 5,
    "start_time": "2022-01-12T12:52:53.791Z"
   },
   {
    "duration": 1757,
    "start_time": "2022-01-12T12:52:53.799Z"
   },
   {
    "duration": 4014,
    "start_time": "2022-01-12T12:52:58.022Z"
   },
   {
    "duration": 6863,
    "start_time": "2022-01-12T12:53:02.040Z"
   },
   {
    "duration": 1614,
    "start_time": "2022-01-12T12:55:41.179Z"
   },
   {
    "duration": 905,
    "start_time": "2022-01-12T12:55:42.796Z"
   },
   {
    "duration": 33,
    "start_time": "2022-01-12T12:55:43.705Z"
   },
   {
    "duration": 61,
    "start_time": "2022-01-12T12:55:43.741Z"
   },
   {
    "duration": 5,
    "start_time": "2022-01-12T12:55:43.805Z"
   },
   {
    "duration": 2040,
    "start_time": "2022-01-12T12:55:43.932Z"
   },
   {
    "duration": 1235,
    "start_time": "2022-01-12T12:55:45.976Z"
   },
   {
    "duration": 1605,
    "start_time": "2022-01-12T12:57:37.334Z"
   },
   {
    "duration": 783,
    "start_time": "2022-01-12T12:57:38.942Z"
   },
   {
    "duration": 43,
    "start_time": "2022-01-12T12:57:39.728Z"
   },
   {
    "duration": 55,
    "start_time": "2022-01-12T12:57:40.134Z"
   },
   {
    "duration": 6,
    "start_time": "2022-01-12T12:57:40.986Z"
   },
   {
    "duration": 1718,
    "start_time": "2022-01-12T12:57:41.774Z"
   },
   {
    "duration": 1598,
    "start_time": "2022-01-12T12:57:43.495Z"
   },
   {
    "duration": 1652,
    "start_time": "2022-01-12T12:59:56.176Z"
   },
   {
    "duration": 856,
    "start_time": "2022-01-12T12:59:57.831Z"
   },
   {
    "duration": 29,
    "start_time": "2022-01-12T12:59:58.691Z"
   },
   {
    "duration": 66,
    "start_time": "2022-01-12T12:59:58.723Z"
   },
   {
    "duration": 6,
    "start_time": "2022-01-12T12:59:58.791Z"
   },
   {
    "duration": 1919,
    "start_time": "2022-01-12T12:59:58.800Z"
   },
   {
    "duration": 3738,
    "start_time": "2022-01-12T13:00:00.722Z"
   },
   {
    "duration": 7524,
    "start_time": "2022-01-12T13:00:04.467Z"
   },
   {
    "duration": 1249,
    "start_time": "2022-01-12T13:00:11.994Z"
   },
   {
    "duration": 1017,
    "start_time": "2022-01-12T13:00:21.431Z"
   },
   {
    "duration": 1771,
    "start_time": "2022-01-12T13:23:20.426Z"
   },
   {
    "duration": 798,
    "start_time": "2022-01-12T13:23:22.199Z"
   },
   {
    "duration": 22,
    "start_time": "2022-01-12T13:23:23.000Z"
   },
   {
    "duration": 60,
    "start_time": "2022-01-12T13:23:23.025Z"
   },
   {
    "duration": 6,
    "start_time": "2022-01-12T13:23:23.088Z"
   },
   {
    "duration": 5,
    "start_time": "2022-01-12T13:23:23.096Z"
   },
   {
    "duration": 83,
    "start_time": "2022-01-12T13:23:23.880Z"
   },
   {
    "duration": 699,
    "start_time": "2022-01-12T13:23:48.515Z"
   },
   {
    "duration": 2078,
    "start_time": "2022-01-12T13:24:03.462Z"
   },
   {
    "duration": 909,
    "start_time": "2022-01-12T13:25:18.983Z"
   },
   {
    "duration": 2376,
    "start_time": "2022-01-12T13:26:30.453Z"
   },
   {
    "duration": 791,
    "start_time": "2022-01-12T13:26:32.832Z"
   },
   {
    "duration": 22,
    "start_time": "2022-01-12T13:26:33.626Z"
   },
   {
    "duration": 42,
    "start_time": "2022-01-12T13:26:33.663Z"
   },
   {
    "duration": 6,
    "start_time": "2022-01-12T13:26:33.708Z"
   },
   {
    "duration": 1774,
    "start_time": "2022-01-12T13:26:33.721Z"
   },
   {
    "duration": 4,
    "start_time": "2022-01-12T13:26:35.498Z"
   },
   {
    "duration": 4,
    "start_time": "2022-01-12T13:26:50.290Z"
   },
   {
    "duration": 695,
    "start_time": "2022-01-12T13:26:51.317Z"
   },
   {
    "duration": 1549,
    "start_time": "2022-01-12T13:26:52.483Z"
   },
   {
    "duration": 582,
    "start_time": "2022-01-12T13:26:54.558Z"
   },
   {
    "duration": 1664,
    "start_time": "2022-01-12T13:27:00.404Z"
   },
   {
    "duration": 436,
    "start_time": "2022-01-12T13:27:09.178Z"
   },
   {
    "duration": 563,
    "start_time": "2022-01-12T13:27:19.023Z"
   },
   {
    "duration": 1544,
    "start_time": "2022-01-12T13:28:35.504Z"
   },
   {
    "duration": 806,
    "start_time": "2022-01-12T13:28:37.051Z"
   },
   {
    "duration": 27,
    "start_time": "2022-01-12T13:28:37.868Z"
   },
   {
    "duration": 33,
    "start_time": "2022-01-12T13:28:37.899Z"
   },
   {
    "duration": 6,
    "start_time": "2022-01-12T13:28:37.934Z"
   },
   {
    "duration": 3,
    "start_time": "2022-01-12T13:28:37.964Z"
   },
   {
    "duration": 10,
    "start_time": "2022-01-12T13:28:40.489Z"
   },
   {
    "duration": 4653,
    "start_time": "2022-01-12T13:28:51.331Z"
   },
   {
    "duration": 6,
    "start_time": "2022-01-12T13:29:07.011Z"
   },
   {
    "duration": 8,
    "start_time": "2022-01-12T13:29:15.768Z"
   },
   {
    "duration": 4,
    "start_time": "2022-01-12T13:29:29.394Z"
   },
   {
    "duration": 724,
    "start_time": "2022-01-12T13:29:45.957Z"
   },
   {
    "duration": 1795,
    "start_time": "2022-01-12T13:29:46.898Z"
   },
   {
    "duration": 60,
    "start_time": "2022-01-12T13:29:49.442Z"
   },
   {
    "duration": 7,
    "start_time": "2022-01-12T13:29:59.951Z"
   },
   {
    "duration": 26,
    "start_time": "2022-01-12T13:30:32.284Z"
   },
   {
    "duration": 3,
    "start_time": "2022-01-12T13:35:07.994Z"
   },
   {
    "duration": 937,
    "start_time": "2022-01-12T13:35:08.508Z"
   },
   {
    "duration": 478,
    "start_time": "2022-01-12T13:35:09.448Z"
   },
   {
    "duration": 274,
    "start_time": "2022-01-12T13:36:08.759Z"
   },
   {
    "duration": 18,
    "start_time": "2022-01-12T13:36:33.704Z"
   },
   {
    "duration": 20,
    "start_time": "2022-01-12T13:36:41.595Z"
   },
   {
    "duration": 28,
    "start_time": "2022-01-12T13:36:59.966Z"
   },
   {
    "duration": 21,
    "start_time": "2022-01-12T13:37:03.490Z"
   },
   {
    "duration": 25,
    "start_time": "2022-01-12T13:37:38.875Z"
   },
   {
    "duration": 33,
    "start_time": "2022-01-12T13:37:54.887Z"
   },
   {
    "duration": 1548,
    "start_time": "2022-01-12T13:38:02.497Z"
   },
   {
    "duration": 814,
    "start_time": "2022-01-12T13:38:04.050Z"
   },
   {
    "duration": 25,
    "start_time": "2022-01-12T13:38:04.872Z"
   },
   {
    "duration": 37,
    "start_time": "2022-01-12T13:38:04.900Z"
   },
   {
    "duration": 29,
    "start_time": "2022-01-12T13:38:04.941Z"
   },
   {
    "duration": 7,
    "start_time": "2022-01-12T13:38:04.973Z"
   },
   {
    "duration": 11,
    "start_time": "2022-01-12T13:38:04.983Z"
   },
   {
    "duration": 5,
    "start_time": "2022-01-12T13:38:16.130Z"
   },
   {
    "duration": 740,
    "start_time": "2022-01-12T13:38:16.653Z"
   },
   {
    "duration": 2028,
    "start_time": "2022-01-12T13:38:17.396Z"
   },
   {
    "duration": 47,
    "start_time": "2022-01-12T13:38:19.428Z"
   },
   {
    "duration": 618,
    "start_time": "2022-01-12T13:38:19.478Z"
   },
   {
    "duration": 1770,
    "start_time": "2022-01-12T13:58:30.098Z"
   },
   {
    "duration": 858,
    "start_time": "2022-01-12T13:58:31.873Z"
   },
   {
    "duration": 37,
    "start_time": "2022-01-12T13:58:32.734Z"
   },
   {
    "duration": 32,
    "start_time": "2022-01-12T13:58:32.774Z"
   },
   {
    "duration": 5,
    "start_time": "2022-01-12T13:58:32.809Z"
   },
   {
    "duration": 9,
    "start_time": "2022-01-12T13:58:32.817Z"
   },
   {
    "duration": 10,
    "start_time": "2022-01-12T13:58:33.067Z"
   },
   {
    "duration": 737,
    "start_time": "2022-01-12T13:58:34.853Z"
   },
   {
    "duration": 1713,
    "start_time": "2022-01-12T13:58:35.593Z"
   },
   {
    "duration": 64,
    "start_time": "2022-01-12T13:58:37.309Z"
   },
   {
    "duration": 29,
    "start_time": "2022-01-12T13:59:06.145Z"
   },
   {
    "duration": 21,
    "start_time": "2022-01-12T13:59:52.796Z"
   },
   {
    "duration": 4,
    "start_time": "2022-01-12T14:00:14.932Z"
   },
   {
    "duration": 834,
    "start_time": "2022-01-12T14:00:43.450Z"
   },
   {
    "duration": 257,
    "start_time": "2022-01-12T14:00:52.361Z"
   },
   {
    "duration": 6,
    "start_time": "2022-01-12T14:01:03.332Z"
   },
   {
    "duration": 5,
    "start_time": "2022-01-12T14:01:11.181Z"
   },
   {
    "duration": 1523,
    "start_time": "2022-01-12T14:09:33.814Z"
   },
   {
    "duration": 802,
    "start_time": "2022-01-12T14:09:35.340Z"
   },
   {
    "duration": 23,
    "start_time": "2022-01-12T14:09:36.983Z"
   },
   {
    "duration": 32,
    "start_time": "2022-01-12T14:09:38.128Z"
   },
   {
    "duration": 5,
    "start_time": "2022-01-12T14:09:38.522Z"
   },
   {
    "duration": 3,
    "start_time": "2022-01-12T14:09:39.888Z"
   },
   {
    "duration": 10,
    "start_time": "2022-01-12T14:09:40.814Z"
   },
   {
    "duration": 1411,
    "start_time": "2022-01-12T14:09:42.491Z"
   },
   {
    "duration": 4,
    "start_time": "2022-01-12T14:09:44.598Z"
   },
   {
    "duration": 7,
    "start_time": "2022-01-12T14:09:45.369Z"
   },
   {
    "duration": 6,
    "start_time": "2022-01-12T14:09:46.453Z"
   },
   {
    "duration": 1788,
    "start_time": "2022-01-12T14:09:47.724Z"
   },
   {
    "duration": 99,
    "start_time": "2022-01-12T14:10:19.057Z"
   },
   {
    "duration": 104,
    "start_time": "2022-01-12T14:10:28.245Z"
   },
   {
    "duration": 6,
    "start_time": "2022-01-12T14:10:40.818Z"
   },
   {
    "duration": 5,
    "start_time": "2022-01-12T14:10:42.199Z"
   },
   {
    "duration": 875,
    "start_time": "2022-01-12T14:10:43.190Z"
   },
   {
    "duration": 1648,
    "start_time": "2022-01-12T14:13:22.277Z"
   },
   {
    "duration": 809,
    "start_time": "2022-01-12T14:13:23.928Z"
   },
   {
    "duration": 31,
    "start_time": "2022-01-12T14:13:24.740Z"
   },
   {
    "duration": 35,
    "start_time": "2022-01-12T14:13:24.776Z"
   },
   {
    "duration": 5,
    "start_time": "2022-01-12T14:13:24.814Z"
   },
   {
    "duration": 5,
    "start_time": "2022-01-12T14:13:24.822Z"
   },
   {
    "duration": 11,
    "start_time": "2022-01-12T14:13:24.874Z"
   },
   {
    "duration": 692,
    "start_time": "2022-01-12T14:13:25.682Z"
   },
   {
    "duration": 1575,
    "start_time": "2022-01-12T14:13:26.462Z"
   },
   {
    "duration": 3,
    "start_time": "2022-01-12T14:13:28.040Z"
   },
   {
    "duration": 4,
    "start_time": "2022-01-12T14:13:29.211Z"
   },
   {
    "duration": 4,
    "start_time": "2022-01-12T14:13:30.786Z"
   },
   {
    "duration": 25,
    "start_time": "2022-01-12T14:13:31.315Z"
   },
   {
    "duration": 4,
    "start_time": "2022-01-12T14:13:49.400Z"
   },
   {
    "duration": 1721,
    "start_time": "2022-01-12T14:14:17.966Z"
   },
   {
    "duration": 850,
    "start_time": "2022-01-12T14:14:19.694Z"
   },
   {
    "duration": 39,
    "start_time": "2022-01-12T14:14:20.547Z"
   },
   {
    "duration": 36,
    "start_time": "2022-01-12T14:14:20.589Z"
   },
   {
    "duration": 6,
    "start_time": "2022-01-12T14:14:20.627Z"
   },
   {
    "duration": 4,
    "start_time": "2022-01-12T14:14:20.635Z"
   },
   {
    "duration": 10,
    "start_time": "2022-01-12T14:14:21.584Z"
   },
   {
    "duration": 702,
    "start_time": "2022-01-12T14:14:22.373Z"
   },
   {
    "duration": 1635,
    "start_time": "2022-01-12T14:14:23.078Z"
   },
   {
    "duration": 3,
    "start_time": "2022-01-12T14:14:24.716Z"
   },
   {
    "duration": 10,
    "start_time": "2022-01-12T14:14:24.722Z"
   },
   {
    "duration": 942,
    "start_time": "2022-01-12T14:14:23.795Z"
   },
   {
    "duration": 820,
    "start_time": "2022-01-12T14:14:25.032Z"
   },
   {
    "duration": 3,
    "start_time": "2022-01-12T14:15:10.706Z"
   },
   {
    "duration": 992,
    "start_time": "2022-01-12T14:15:11.109Z"
   },
   {
    "duration": 3,
    "start_time": "2022-01-12T14:15:12.104Z"
   },
   {
    "duration": 6,
    "start_time": "2022-01-12T14:15:12.110Z"
   },
   {
    "duration": 5,
    "start_time": "2022-01-12T14:15:46.789Z"
   },
   {
    "duration": 4,
    "start_time": "2022-01-12T14:15:47.512Z"
   },
   {
    "duration": 605,
    "start_time": "2022-01-12T14:15:48.334Z"
   },
   {
    "duration": 20,
    "start_time": "2022-01-12T14:16:29.635Z"
   },
   {
    "duration": 5,
    "start_time": "2022-01-12T14:16:30.344Z"
   },
   {
    "duration": 4,
    "start_time": "2022-01-12T14:16:30.852Z"
   },
   {
    "duration": 4,
    "start_time": "2022-01-12T14:16:31.351Z"
   },
   {
    "duration": 6,
    "start_time": "2022-01-12T14:17:31.470Z"
   },
   {
    "duration": 5,
    "start_time": "2022-01-12T14:17:36.421Z"
   },
   {
    "duration": 4,
    "start_time": "2022-01-12T14:25:03.028Z"
   },
   {
    "duration": 4,
    "start_time": "2022-01-12T14:25:08.524Z"
   },
   {
    "duration": 2211,
    "start_time": "2022-01-12T14:33:11.512Z"
   },
   {
    "duration": 872,
    "start_time": "2022-01-12T14:33:13.726Z"
   },
   {
    "duration": 24,
    "start_time": "2022-01-12T14:33:14.601Z"
   },
   {
    "duration": 53,
    "start_time": "2022-01-12T14:33:14.627Z"
   },
   {
    "duration": 5,
    "start_time": "2022-01-12T14:33:14.683Z"
   },
   {
    "duration": 14,
    "start_time": "2022-01-12T14:33:14.691Z"
   },
   {
    "duration": 1631,
    "start_time": "2022-01-12T14:33:14.708Z"
   },
   {
    "duration": 41,
    "start_time": "2022-01-12T14:33:16.343Z"
   },
   {
    "duration": 5,
    "start_time": "2022-01-12T14:33:16.388Z"
   },
   {
    "duration": 9,
    "start_time": "2022-01-12T14:33:16.396Z"
   },
   {
    "duration": 5,
    "start_time": "2022-01-12T14:33:16.526Z"
   },
   {
    "duration": 2450,
    "start_time": "2022-01-12T14:37:14.206Z"
   },
   {
    "duration": 915,
    "start_time": "2022-01-12T14:37:16.659Z"
   },
   {
    "duration": 24,
    "start_time": "2022-01-12T14:37:17.578Z"
   },
   {
    "duration": 34,
    "start_time": "2022-01-12T14:37:17.604Z"
   },
   {
    "duration": 26,
    "start_time": "2022-01-12T14:37:17.640Z"
   },
   {
    "duration": 11,
    "start_time": "2022-01-12T14:37:17.669Z"
   },
   {
    "duration": 1600,
    "start_time": "2022-01-12T14:37:17.683Z"
   },
   {
    "duration": 7,
    "start_time": "2022-01-12T14:37:19.287Z"
   },
   {
    "duration": 30,
    "start_time": "2022-01-12T14:37:20.254Z"
   },
   {
    "duration": 2381,
    "start_time": "2022-01-12T14:40:17.162Z"
   },
   {
    "duration": 852,
    "start_time": "2022-01-12T14:40:19.547Z"
   },
   {
    "duration": 25,
    "start_time": "2022-01-12T14:40:20.403Z"
   },
   {
    "duration": 62,
    "start_time": "2022-01-12T14:40:20.431Z"
   },
   {
    "duration": 5,
    "start_time": "2022-01-12T14:40:20.496Z"
   },
   {
    "duration": 13,
    "start_time": "2022-01-12T14:40:20.504Z"
   },
   {
    "duration": 1772,
    "start_time": "2022-01-12T14:40:20.519Z"
   },
   {
    "duration": 7,
    "start_time": "2022-01-12T14:40:22.295Z"
   },
   {
    "duration": 39,
    "start_time": "2022-01-12T14:40:22.304Z"
   },
   {
    "duration": 6,
    "start_time": "2022-01-12T14:41:25.398Z"
   },
   {
    "duration": 20,
    "start_time": "2022-01-12T14:41:26.116Z"
   },
   {
    "duration": 6,
    "start_time": "2022-01-12T14:41:38.202Z"
   },
   {
    "duration": 20,
    "start_time": "2022-01-12T14:41:39.490Z"
   },
   {
    "duration": 7,
    "start_time": "2022-01-12T14:41:45.029Z"
   },
   {
    "duration": 19,
    "start_time": "2022-01-12T14:41:45.973Z"
   },
   {
    "duration": 6,
    "start_time": "2022-01-12T14:41:56.802Z"
   },
   {
    "duration": 25,
    "start_time": "2022-01-12T14:41:57.367Z"
   },
   {
    "duration": 468,
    "start_time": "2022-01-12T14:44:54.295Z"
   },
   {
    "duration": 2666,
    "start_time": "2022-01-12T14:46:25.182Z"
   },
   {
    "duration": 834,
    "start_time": "2022-01-12T14:46:28.593Z"
   },
   {
    "duration": 23,
    "start_time": "2022-01-12T14:46:30.039Z"
   },
   {
    "duration": 3,
    "start_time": "2022-01-12T14:46:31.945Z"
   },
   {
    "duration": 3,
    "start_time": "2022-01-12T14:46:32.242Z"
   },
   {
    "duration": 1532,
    "start_time": "2022-01-12T14:46:33.211Z"
   },
   {
    "duration": 6,
    "start_time": "2022-01-12T14:46:35.277Z"
   },
   {
    "duration": 963,
    "start_time": "2022-01-12T14:46:37.244Z"
   },
   {
    "duration": 5,
    "start_time": "2022-01-12T14:46:39.598Z"
   },
   {
    "duration": 10,
    "start_time": "2022-01-12T14:46:47.809Z"
   },
   {
    "duration": 19,
    "start_time": "2022-01-12T14:46:57.163Z"
   },
   {
    "duration": 2287,
    "start_time": "2022-01-12T14:47:40.507Z"
   },
   {
    "duration": 873,
    "start_time": "2022-01-12T14:47:42.797Z"
   },
   {
    "duration": 25,
    "start_time": "2022-01-12T14:47:43.674Z"
   },
   {
    "duration": 3,
    "start_time": "2022-01-12T14:47:43.703Z"
   },
   {
    "duration": 5,
    "start_time": "2022-01-12T14:47:43.708Z"
   },
   {
    "duration": 1734,
    "start_time": "2022-01-12T14:47:43.716Z"
   },
   {
    "duration": 10,
    "start_time": "2022-01-12T14:47:45.453Z"
   },
   {
    "duration": 9703,
    "start_time": "2022-01-12T14:47:45.472Z"
   },
   {
    "duration": 5,
    "start_time": "2022-01-12T14:47:55.177Z"
   },
   {
    "duration": 21,
    "start_time": "2022-01-12T14:47:55.184Z"
   },
   {
    "duration": 2496,
    "start_time": "2022-01-12T14:48:07.719Z"
   },
   {
    "duration": 853,
    "start_time": "2022-01-12T14:48:10.218Z"
   },
   {
    "duration": 26,
    "start_time": "2022-01-12T14:48:11.075Z"
   },
   {
    "duration": 4,
    "start_time": "2022-01-12T14:48:11.103Z"
   },
   {
    "duration": 7,
    "start_time": "2022-01-12T14:48:11.109Z"
   },
   {
    "duration": 1573,
    "start_time": "2022-01-12T14:48:11.118Z"
   },
   {
    "duration": 7,
    "start_time": "2022-01-12T14:48:12.695Z"
   },
   {
    "duration": 96176,
    "start_time": "2022-01-12T14:48:12.705Z"
   },
   {
    "duration": 6,
    "start_time": "2022-01-12T14:49:48.883Z"
   },
   {
    "duration": 28,
    "start_time": "2022-01-12T14:49:48.891Z"
   },
   {
    "duration": 2750,
    "start_time": "2022-01-12T15:05:12.733Z"
   },
   {
    "duration": 810,
    "start_time": "2022-01-12T15:05:15.486Z"
   },
   {
    "duration": 22,
    "start_time": "2022-01-12T15:05:16.299Z"
   },
   {
    "duration": 4,
    "start_time": "2022-01-12T15:05:16.324Z"
   },
   {
    "duration": 5,
    "start_time": "2022-01-12T15:05:16.331Z"
   },
   {
    "duration": 1580,
    "start_time": "2022-01-12T15:05:16.338Z"
   },
   {
    "duration": 6,
    "start_time": "2022-01-12T15:05:17.921Z"
   },
   {
    "duration": 9546,
    "start_time": "2022-01-12T15:05:17.930Z"
   },
   {
    "duration": 5,
    "start_time": "2022-01-12T15:05:27.479Z"
   },
   {
    "duration": 5,
    "start_time": "2022-01-12T15:05:27.487Z"
   },
   {
    "duration": 18,
    "start_time": "2022-01-12T15:05:27.495Z"
   },
   {
    "duration": 7,
    "start_time": "2022-01-12T15:05:27.515Z"
   },
   {
    "duration": 416,
    "start_time": "2022-01-12T15:05:27.525Z"
   },
   {
    "duration": 3,
    "start_time": "2022-01-12T15:05:27.944Z"
   },
   {
    "duration": 17,
    "start_time": "2022-01-12T15:05:27.950Z"
   },
   {
    "duration": 7,
    "start_time": "2022-01-12T15:05:27.970Z"
   },
   {
    "duration": 9,
    "start_time": "2022-01-12T15:05:27.979Z"
   },
   {
    "duration": 11,
    "start_time": "2022-01-12T15:05:27.990Z"
   },
   {
    "duration": 7,
    "start_time": "2022-01-12T15:05:28.004Z"
   },
   {
    "duration": 11,
    "start_time": "2022-01-12T15:05:28.013Z"
   },
   {
    "duration": 7,
    "start_time": "2022-01-12T15:05:28.026Z"
   },
   {
    "duration": 11,
    "start_time": "2022-01-12T15:05:28.036Z"
   },
   {
    "duration": 14,
    "start_time": "2022-01-12T15:05:28.049Z"
   },
   {
    "duration": 8,
    "start_time": "2022-01-12T15:05:28.072Z"
   },
   {
    "duration": 7,
    "start_time": "2022-01-12T15:05:29.525Z"
   },
   {
    "duration": 3,
    "start_time": "2022-01-12T15:05:29.975Z"
   },
   {
    "duration": 11,
    "start_time": "2022-01-12T15:05:32.277Z"
   },
   {
    "duration": 11,
    "start_time": "2022-01-12T15:05:56.394Z"
   },
   {
    "duration": 54,
    "start_time": "2022-01-12T15:05:59.070Z"
   },
   {
    "duration": 61,
    "start_time": "2022-01-12T15:06:04.250Z"
   },
   {
    "duration": 9,
    "start_time": "2022-01-12T15:06:10.970Z"
   },
   {
    "duration": 2453,
    "start_time": "2022-01-12T15:06:37.348Z"
   },
   {
    "duration": 819,
    "start_time": "2022-01-12T15:06:39.811Z"
   },
   {
    "duration": 30,
    "start_time": "2022-01-12T15:06:40.633Z"
   },
   {
    "duration": 4,
    "start_time": "2022-01-12T15:06:40.670Z"
   },
   {
    "duration": 5,
    "start_time": "2022-01-12T15:06:40.677Z"
   },
   {
    "duration": 1560,
    "start_time": "2022-01-12T15:06:40.685Z"
   },
   {
    "duration": 5,
    "start_time": "2022-01-12T15:06:42.249Z"
   },
   {
    "duration": 101816,
    "start_time": "2022-01-12T15:06:42.263Z"
   },
   {
    "duration": 7,
    "start_time": "2022-01-12T15:08:24.082Z"
   },
   {
    "duration": 4,
    "start_time": "2022-01-12T15:08:24.093Z"
   },
   {
    "duration": 31,
    "start_time": "2022-01-12T15:08:24.100Z"
   },
   {
    "duration": 9,
    "start_time": "2022-01-12T15:08:51.405Z"
   },
   {
    "duration": 518,
    "start_time": "2022-01-12T15:08:52.398Z"
   },
   {
    "duration": 4,
    "start_time": "2022-01-12T15:08:55.048Z"
   },
   {
    "duration": 3,
    "start_time": "2022-01-12T15:08:55.130Z"
   },
   {
    "duration": 3,
    "start_time": "2022-01-12T15:08:55.214Z"
   },
   {
    "duration": 3,
    "start_time": "2022-01-12T15:08:57.309Z"
   },
   {
    "duration": 3,
    "start_time": "2022-01-12T15:08:57.507Z"
   },
   {
    "duration": 5,
    "start_time": "2022-01-12T15:08:57.513Z"
   },
   {
    "duration": 3,
    "start_time": "2022-01-12T15:08:57.865Z"
   },
   {
    "duration": 4,
    "start_time": "2022-01-12T15:08:58.360Z"
   },
   {
    "duration": 3,
    "start_time": "2022-01-12T15:08:58.411Z"
   },
   {
    "duration": 4,
    "start_time": "2022-01-12T15:08:58.501Z"
   },
   {
    "duration": 3,
    "start_time": "2022-01-12T15:08:58.604Z"
   },
   {
    "duration": 8,
    "start_time": "2022-01-12T15:08:59.392Z"
   },
   {
    "duration": 8,
    "start_time": "2022-01-12T15:08:59.580Z"
   },
   {
    "duration": 449,
    "start_time": "2022-01-12T15:09:00.429Z"
   },
   {
    "duration": 276,
    "start_time": "2022-01-12T15:09:03.220Z"
   },
   {
    "duration": 323,
    "start_time": "2022-01-12T15:09:06.920Z"
   },
   {
    "duration": 7205,
    "start_time": "2022-01-12T15:09:16.938Z"
   },
   {
    "duration": 3,
    "start_time": "2022-01-12T15:09:24.146Z"
   },
   {
    "duration": 21,
    "start_time": "2022-01-12T15:09:24.164Z"
   },
   {
    "duration": 2356,
    "start_time": "2022-01-12T15:09:43.060Z"
   },
   {
    "duration": 828,
    "start_time": "2022-01-12T15:09:45.420Z"
   },
   {
    "duration": 31,
    "start_time": "2022-01-12T15:09:46.256Z"
   },
   {
    "duration": 3,
    "start_time": "2022-01-12T15:09:46.289Z"
   },
   {
    "duration": 5,
    "start_time": "2022-01-12T15:09:46.294Z"
   },
   {
    "duration": 1587,
    "start_time": "2022-01-12T15:09:46.301Z"
   },
   {
    "duration": 5,
    "start_time": "2022-01-12T15:09:47.892Z"
   },
   {
    "duration": 942186,
    "start_time": "2022-01-12T15:09:47.901Z"
   },
   {
    "duration": 13,
    "start_time": "2022-01-12T15:25:30.090Z"
   },
   {
    "duration": 32,
    "start_time": "2022-01-12T15:25:30.107Z"
   },
   {
    "duration": 53,
    "start_time": "2022-01-12T15:25:30.142Z"
   },
   {
    "duration": 38,
    "start_time": "2022-01-12T15:25:30.200Z"
   },
   {
    "duration": 4048,
    "start_time": "2022-01-12T15:25:30.241Z"
   },
   {
    "duration": 3,
    "start_time": "2022-01-12T15:25:34.292Z"
   },
   {
    "duration": 9,
    "start_time": "2022-01-12T15:25:34.297Z"
   },
   {
    "duration": 6,
    "start_time": "2022-01-12T15:25:34.308Z"
   },
   {
    "duration": 4,
    "start_time": "2022-01-12T15:25:34.316Z"
   },
   {
    "duration": 5,
    "start_time": "2022-01-12T15:25:34.323Z"
   },
   {
    "duration": 11,
    "start_time": "2022-01-12T15:25:34.362Z"
   },
   {
    "duration": 6,
    "start_time": "2022-01-12T15:25:34.376Z"
   },
   {
    "duration": 3,
    "start_time": "2022-01-12T15:25:34.385Z"
   },
   {
    "duration": 5,
    "start_time": "2022-01-12T15:25:34.392Z"
   },
   {
    "duration": 4,
    "start_time": "2022-01-12T15:25:34.400Z"
   },
   {
    "duration": 12,
    "start_time": "2022-01-12T15:25:34.408Z"
   },
   {
    "duration": 56,
    "start_time": "2022-01-12T15:25:34.427Z"
   },
   {
    "duration": 21,
    "start_time": "2022-01-12T15:25:34.486Z"
   },
   {
    "duration": 3473,
    "start_time": "2022-01-12T15:25:34.510Z"
   },
   {
    "duration": 6250,
    "start_time": "2022-01-12T15:25:37.985Z"
   },
   {
    "duration": 7256,
    "start_time": "2022-01-12T15:25:44.238Z"
   },
   {
    "duration": 57560,
    "start_time": "2022-01-12T15:25:51.497Z"
   },
   {
    "duration": 6,
    "start_time": "2022-01-12T15:26:49.061Z"
   },
   {
    "duration": 93,
    "start_time": "2022-01-12T15:26:49.073Z"
   },
   {
    "duration": 8,
    "start_time": "2022-01-12T15:28:45.742Z"
   },
   {
    "duration": 81,
    "start_time": "2022-01-12T15:30:11.992Z"
   },
   {
    "duration": 3198,
    "start_time": "2022-01-12T15:36:35.751Z"
   },
   {
    "duration": 943,
    "start_time": "2022-01-12T15:36:38.953Z"
   },
   {
    "duration": 23,
    "start_time": "2022-01-12T15:36:39.899Z"
   },
   {
    "duration": 2568,
    "start_time": "2022-01-12T15:36:39.926Z"
   },
   {
    "duration": 6,
    "start_time": "2022-01-12T15:36:42.496Z"
   },
   {
    "duration": 9974,
    "start_time": "2022-01-12T15:36:42.504Z"
   },
   {
    "duration": 5,
    "start_time": "2022-01-12T15:36:52.480Z"
   },
   {
    "duration": 13,
    "start_time": "2022-01-12T15:36:52.488Z"
   },
   {
    "duration": 20,
    "start_time": "2022-01-12T15:36:52.504Z"
   },
   {
    "duration": 7,
    "start_time": "2022-01-12T15:36:52.526Z"
   },
   {
    "duration": 276,
    "start_time": "2022-01-12T15:36:52.535Z"
   },
   {
    "duration": 8,
    "start_time": "2022-01-12T15:36:52.814Z"
   },
   {
    "duration": 9,
    "start_time": "2022-01-12T15:36:52.824Z"
   },
   {
    "duration": 34,
    "start_time": "2022-01-12T15:36:52.836Z"
   },
   {
    "duration": 53,
    "start_time": "2022-01-12T15:36:52.872Z"
   },
   {
    "duration": 84,
    "start_time": "2022-01-12T15:36:52.928Z"
   },
   {
    "duration": 4641,
    "start_time": "2022-01-12T15:36:53.015Z"
   },
   {
    "duration": 10,
    "start_time": "2022-01-12T15:36:57.664Z"
   },
   {
    "duration": 12,
    "start_time": "2022-01-12T15:36:57.677Z"
   },
   {
    "duration": 2692,
    "start_time": "2022-01-12T16:09:25.551Z"
   },
   {
    "duration": 855,
    "start_time": "2022-01-12T16:09:28.245Z"
   },
   {
    "duration": 23,
    "start_time": "2022-01-12T16:09:29.103Z"
   },
   {
    "duration": 1634,
    "start_time": "2022-01-12T16:09:29.129Z"
   },
   {
    "duration": 7,
    "start_time": "2022-01-12T16:09:30.769Z"
   },
   {
    "duration": 10725,
    "start_time": "2022-01-12T16:09:30.778Z"
   },
   {
    "duration": 5,
    "start_time": "2022-01-12T16:09:41.505Z"
   },
   {
    "duration": 12,
    "start_time": "2022-01-12T16:09:41.514Z"
   },
   {
    "duration": 50,
    "start_time": "2022-01-12T16:09:41.528Z"
   },
   {
    "duration": 8,
    "start_time": "2022-01-12T16:09:41.581Z"
   },
   {
    "duration": 155,
    "start_time": "2022-01-12T16:09:41.591Z"
   },
   {
    "duration": 7,
    "start_time": "2022-01-12T16:09:41.749Z"
   },
   {
    "duration": 12,
    "start_time": "2022-01-12T16:09:41.758Z"
   },
   {
    "duration": 15,
    "start_time": "2022-01-12T16:09:41.777Z"
   },
   {
    "duration": 84,
    "start_time": "2022-01-12T16:09:41.795Z"
   },
   {
    "duration": 4410,
    "start_time": "2022-01-12T16:09:41.882Z"
   },
   {
    "duration": 5,
    "start_time": "2022-01-12T16:09:46.295Z"
   },
   {
    "duration": 17,
    "start_time": "2022-01-12T16:09:46.303Z"
   },
   {
    "duration": 4,
    "start_time": "2022-01-12T16:09:46.323Z"
   },
   {
    "duration": 704,
    "start_time": "2022-01-12T16:09:46.330Z"
   },
   {
    "duration": 2857,
    "start_time": "2022-01-12T16:11:39.533Z"
   },
   {
    "duration": 948,
    "start_time": "2022-01-12T16:11:42.393Z"
   },
   {
    "duration": 28,
    "start_time": "2022-01-12T16:11:43.347Z"
   },
   {
    "duration": 1653,
    "start_time": "2022-01-12T16:11:43.378Z"
   },
   {
    "duration": 6,
    "start_time": "2022-01-12T16:11:45.034Z"
   },
   {
    "duration": 10932,
    "start_time": "2022-01-12T16:11:45.043Z"
   },
   {
    "duration": 9,
    "start_time": "2022-01-12T16:11:55.982Z"
   },
   {
    "duration": 4,
    "start_time": "2022-01-12T16:11:55.995Z"
   },
   {
    "duration": 19,
    "start_time": "2022-01-12T16:11:56.003Z"
   },
   {
    "duration": 44,
    "start_time": "2022-01-12T16:11:56.025Z"
   },
   {
    "duration": 254,
    "start_time": "2022-01-12T16:11:56.072Z"
   },
   {
    "duration": 6,
    "start_time": "2022-01-12T16:11:56.329Z"
   },
   {
    "duration": 12,
    "start_time": "2022-01-12T16:11:56.338Z"
   },
   {
    "duration": 31,
    "start_time": "2022-01-12T16:11:56.352Z"
   },
   {
    "duration": 83,
    "start_time": "2022-01-12T16:11:56.386Z"
   },
   {
    "duration": 4554,
    "start_time": "2022-01-12T16:11:56.475Z"
   },
   {
    "duration": 4,
    "start_time": "2022-01-12T16:12:01.032Z"
   },
   {
    "duration": 41,
    "start_time": "2022-01-12T16:12:01.038Z"
   },
   {
    "duration": 15,
    "start_time": "2022-01-12T16:12:01.083Z"
   },
   {
    "duration": 22,
    "start_time": "2022-01-12T16:12:01.101Z"
   },
   {
    "duration": 2107,
    "start_time": "2022-01-13T14:01:30.587Z"
   },
   {
    "duration": 549,
    "start_time": "2022-01-13T14:01:32.696Z"
   },
   {
    "duration": 13,
    "start_time": "2022-01-13T14:01:33.246Z"
   },
   {
    "duration": 1034,
    "start_time": "2022-01-13T14:01:33.261Z"
   },
   {
    "duration": 3,
    "start_time": "2022-01-13T14:01:34.297Z"
   },
   {
    "duration": 5388,
    "start_time": "2022-01-13T14:01:34.302Z"
   },
   {
    "duration": 3,
    "start_time": "2022-01-13T14:01:39.691Z"
   },
   {
    "duration": 4,
    "start_time": "2022-01-13T14:01:39.696Z"
   },
   {
    "duration": 11,
    "start_time": "2022-01-13T14:01:39.712Z"
   },
   {
    "duration": 4,
    "start_time": "2022-01-13T14:01:39.725Z"
   },
   {
    "duration": 1455,
    "start_time": "2022-01-13T14:07:00.428Z"
   },
   {
    "duration": 546,
    "start_time": "2022-01-13T14:07:01.885Z"
   },
   {
    "duration": 13,
    "start_time": "2022-01-13T14:07:02.433Z"
   },
   {
    "duration": 715,
    "start_time": "2022-01-13T14:07:03.233Z"
   },
   {
    "duration": 4,
    "start_time": "2022-01-13T14:07:03.949Z"
   },
   {
    "duration": 623,
    "start_time": "2022-01-13T14:07:03.955Z"
   },
   {
    "duration": 3,
    "start_time": "2022-01-13T14:07:04.580Z"
   },
   {
    "duration": 5,
    "start_time": "2022-01-13T14:07:04.584Z"
   },
   {
    "duration": 11,
    "start_time": "2022-01-13T14:07:04.590Z"
   },
   {
    "duration": 4,
    "start_time": "2022-01-13T14:07:04.612Z"
   },
   {
    "duration": 1483,
    "start_time": "2022-01-13T14:08:20.324Z"
   },
   {
    "duration": 552,
    "start_time": "2022-01-13T14:08:21.809Z"
   },
   {
    "duration": 13,
    "start_time": "2022-01-13T14:08:22.363Z"
   },
   {
    "duration": 766,
    "start_time": "2022-01-13T14:08:26.205Z"
   },
   {
    "duration": 4,
    "start_time": "2022-01-13T14:08:26.972Z"
   },
   {
    "duration": 557,
    "start_time": "2022-01-13T14:08:28.600Z"
   },
   {
    "duration": 3,
    "start_time": "2022-01-13T14:08:30.038Z"
   },
   {
    "duration": 2,
    "start_time": "2022-01-13T14:08:31.039Z"
   },
   {
    "duration": 9,
    "start_time": "2022-01-13T14:08:31.709Z"
   },
   {
    "duration": 5,
    "start_time": "2022-01-13T14:08:32.747Z"
   },
   {
    "duration": 1465,
    "start_time": "2022-01-13T14:16:03.273Z"
   },
   {
    "duration": 549,
    "start_time": "2022-01-13T14:16:07.493Z"
   },
   {
    "duration": 12,
    "start_time": "2022-01-13T14:16:08.044Z"
   },
   {
    "duration": 731,
    "start_time": "2022-01-13T14:16:09.918Z"
   },
   {
    "duration": 3,
    "start_time": "2022-01-13T14:16:10.651Z"
   },
   {
    "duration": 149,
    "start_time": "2022-01-13T14:16:10.656Z"
   },
   {
    "duration": 3,
    "start_time": "2022-01-13T14:16:10.807Z"
   },
   {
    "duration": 5,
    "start_time": "2022-01-13T14:16:10.811Z"
   },
   {
    "duration": 9,
    "start_time": "2022-01-13T14:16:10.818Z"
   },
   {
    "duration": 9,
    "start_time": "2022-01-13T14:16:10.828Z"
   },
   {
    "duration": 335,
    "start_time": "2022-01-13T14:16:10.839Z"
   },
   {
    "duration": 4,
    "start_time": "2022-01-13T14:16:11.176Z"
   },
   {
    "duration": 8,
    "start_time": "2022-01-13T14:16:11.181Z"
   },
   {
    "duration": 357,
    "start_time": "2022-01-13T14:16:11.190Z"
   },
   {
    "duration": 16,
    "start_time": "2022-01-13T14:16:11.533Z"
   },
   {
    "duration": 13,
    "start_time": "2022-01-13T14:16:11.537Z"
   },
   {
    "duration": 2,
    "start_time": "2022-01-13T14:16:11.564Z"
   },
   {
    "duration": 261,
    "start_time": "2022-01-13T14:16:11.646Z"
   },
   {
    "duration": -22,
    "start_time": "2022-01-13T14:16:11.931Z"
   },
   {
    "duration": -26,
    "start_time": "2022-01-13T14:16:11.936Z"
   },
   {
    "duration": -29,
    "start_time": "2022-01-13T14:16:11.940Z"
   },
   {
    "duration": 1507,
    "start_time": "2022-01-13T14:16:45.996Z"
   },
   {
    "duration": 576,
    "start_time": "2022-01-13T14:16:47.505Z"
   },
   {
    "duration": 12,
    "start_time": "2022-01-13T14:16:48.083Z"
   },
   {
    "duration": 791,
    "start_time": "2022-01-13T14:16:51.074Z"
   },
   {
    "duration": 3,
    "start_time": "2022-01-13T14:16:51.867Z"
   },
   {
    "duration": 5815,
    "start_time": "2022-01-13T14:16:52.407Z"
   },
   {
    "duration": 3,
    "start_time": "2022-01-13T14:16:58.224Z"
   },
   {
    "duration": 5,
    "start_time": "2022-01-13T14:16:58.228Z"
   },
   {
    "duration": 12,
    "start_time": "2022-01-13T14:16:58.234Z"
   },
   {
    "duration": 5,
    "start_time": "2022-01-13T14:16:58.247Z"
   },
   {
    "duration": 1473,
    "start_time": "2022-01-13T15:24:03.639Z"
   },
   {
    "duration": 564,
    "start_time": "2022-01-13T15:24:05.114Z"
   },
   {
    "duration": 14,
    "start_time": "2022-01-13T15:24:05.680Z"
   },
   {
    "duration": 761,
    "start_time": "2022-01-13T15:24:05.696Z"
   },
   {
    "duration": 4,
    "start_time": "2022-01-13T15:24:06.459Z"
   },
   {
    "duration": 5591,
    "start_time": "2022-01-13T15:24:06.465Z"
   },
   {
    "duration": 4,
    "start_time": "2022-01-13T15:24:12.058Z"
   },
   {
    "duration": 4,
    "start_time": "2022-01-13T15:24:12.064Z"
   },
   {
    "duration": 12,
    "start_time": "2022-01-13T15:24:12.070Z"
   },
   {
    "duration": 29,
    "start_time": "2022-01-13T15:24:12.084Z"
   },
   {
    "duration": 1482,
    "start_time": "2022-01-13T15:25:05.132Z"
   },
   {
    "duration": 580,
    "start_time": "2022-01-13T15:25:07.088Z"
   },
   {
    "duration": 14,
    "start_time": "2022-01-13T15:25:07.823Z"
   },
   {
    "duration": 767,
    "start_time": "2022-01-13T15:25:10.862Z"
   },
   {
    "duration": 4,
    "start_time": "2022-01-13T15:25:11.631Z"
   },
   {
    "duration": 768,
    "start_time": "2022-01-13T15:25:12.483Z"
   },
   {
    "duration": 4,
    "start_time": "2022-01-13T15:25:14.225Z"
   },
   {
    "duration": 2,
    "start_time": "2022-01-13T15:25:15.096Z"
   },
   {
    "duration": 9,
    "start_time": "2022-01-13T15:25:15.857Z"
   },
   {
    "duration": 5,
    "start_time": "2022-01-13T15:25:16.939Z"
   },
   {
    "duration": 1477,
    "start_time": "2022-01-13T15:53:41.409Z"
   },
   {
    "duration": 572,
    "start_time": "2022-01-13T15:53:44.745Z"
   },
   {
    "duration": 13,
    "start_time": "2022-01-13T15:53:45.319Z"
   },
   {
    "duration": 787,
    "start_time": "2022-01-13T15:53:46.510Z"
   },
   {
    "duration": 3,
    "start_time": "2022-01-13T15:53:47.299Z"
   },
   {
    "duration": 704,
    "start_time": "2022-01-13T15:53:47.608Z"
   },
   {
    "duration": 3,
    "start_time": "2022-01-13T15:53:48.313Z"
   },
   {
    "duration": 4,
    "start_time": "2022-01-13T15:53:48.318Z"
   },
   {
    "duration": 10,
    "start_time": "2022-01-13T15:53:48.324Z"
   },
   {
    "duration": 7,
    "start_time": "2022-01-13T15:53:48.335Z"
   },
   {
    "duration": 2783,
    "start_time": "2022-01-14T05:51:48.170Z"
   },
   {
    "duration": 3159,
    "start_time": "2022-01-14T05:51:50.955Z"
   },
   {
    "duration": 15,
    "start_time": "2022-01-14T05:51:54.115Z"
   },
   {
    "duration": 1312,
    "start_time": "2022-01-14T05:51:57.142Z"
   },
   {
    "duration": 4,
    "start_time": "2022-01-14T05:51:58.455Z"
   },
   {
    "duration": 587,
    "start_time": "2022-01-14T05:51:58.890Z"
   },
   {
    "duration": 3,
    "start_time": "2022-01-14T05:51:59.552Z"
   },
   {
    "duration": 2,
    "start_time": "2022-01-14T05:51:59.791Z"
   },
   {
    "duration": 10,
    "start_time": "2022-01-14T05:52:00.039Z"
   },
   {
    "duration": 5,
    "start_time": "2022-01-14T05:52:00.940Z"
   },
   {
    "duration": 412,
    "start_time": "2022-01-14T05:52:02.940Z"
   },
   {
    "duration": 4,
    "start_time": "2022-01-14T05:52:06.699Z"
   },
   {
    "duration": 5,
    "start_time": "2022-01-14T05:52:07.161Z"
   },
   {
    "duration": 7,
    "start_time": "2022-01-14T05:52:07.631Z"
   },
   {
    "duration": 20,
    "start_time": "2022-01-14T05:52:08.043Z"
   },
   {
    "duration": 1900,
    "start_time": "2022-01-14T05:52:08.453Z"
   },
   {
    "duration": 2,
    "start_time": "2022-01-14T05:52:10.355Z"
   },
   {
    "duration": 21,
    "start_time": "2022-01-14T05:52:10.359Z"
   },
   {
    "duration": 19,
    "start_time": "2022-01-14T05:52:10.382Z"
   },
   {
    "duration": 23,
    "start_time": "2022-01-14T05:52:10.402Z"
   },
   {
    "duration": 16,
    "start_time": "2022-01-14T05:52:10.427Z"
   },
   {
    "duration": 1528,
    "start_time": "2022-01-14T07:43:54.096Z"
   },
   {
    "duration": 587,
    "start_time": "2022-01-14T07:43:55.626Z"
   },
   {
    "duration": 13,
    "start_time": "2022-01-14T07:43:56.216Z"
   },
   {
    "duration": 861,
    "start_time": "2022-01-14T07:43:57.623Z"
   },
   {
    "duration": 4,
    "start_time": "2022-01-14T07:43:58.486Z"
   },
   {
    "duration": 742,
    "start_time": "2022-01-14T07:43:58.524Z"
   },
   {
    "duration": 3,
    "start_time": "2022-01-14T07:43:59.268Z"
   },
   {
    "duration": 5,
    "start_time": "2022-01-14T07:43:59.273Z"
   },
   {
    "duration": 14,
    "start_time": "2022-01-14T07:43:59.280Z"
   },
   {
    "duration": 5,
    "start_time": "2022-01-14T07:43:59.643Z"
   },
   {
    "duration": 190,
    "start_time": "2022-01-14T07:44:00.555Z"
   },
   {
    "duration": 5,
    "start_time": "2022-01-14T07:44:01.331Z"
   },
   {
    "duration": 5,
    "start_time": "2022-01-14T07:44:01.539Z"
   },
   {
    "duration": 8,
    "start_time": "2022-01-14T07:44:01.918Z"
   },
   {
    "duration": 23,
    "start_time": "2022-01-14T07:44:02.507Z"
   },
   {
    "duration": 1941,
    "start_time": "2022-01-14T07:44:03.739Z"
   },
   {
    "duration": 3,
    "start_time": "2022-01-14T07:44:05.682Z"
   },
   {
    "duration": 72,
    "start_time": "2022-01-14T07:44:05.686Z"
   },
   {
    "duration": 3,
    "start_time": "2022-01-14T07:44:06.955Z"
   },
   {
    "duration": 7,
    "start_time": "2022-01-14T07:44:07.843Z"
   },
   {
    "duration": 3,
    "start_time": "2022-01-14T07:44:08.522Z"
   },
   {
    "duration": 60,
    "start_time": "2022-01-14T07:44:09.330Z"
   },
   {
    "duration": 1628,
    "start_time": "2022-01-14T07:46:39.994Z"
   },
   {
    "duration": 592,
    "start_time": "2022-01-14T07:46:41.624Z"
   },
   {
    "duration": 13,
    "start_time": "2022-01-14T07:46:42.218Z"
   },
   {
    "duration": 844,
    "start_time": "2022-01-14T07:46:43.771Z"
   },
   {
    "duration": 4,
    "start_time": "2022-01-14T07:46:44.616Z"
   },
   {
    "duration": 591,
    "start_time": "2022-01-14T07:46:44.621Z"
   },
   {
    "duration": 3,
    "start_time": "2022-01-14T07:46:45.213Z"
   },
   {
    "duration": 23,
    "start_time": "2022-01-14T07:46:45.218Z"
   },
   {
    "duration": 30,
    "start_time": "2022-01-14T07:46:45.243Z"
   },
   {
    "duration": 22,
    "start_time": "2022-01-14T07:46:45.274Z"
   },
   {
    "duration": 202,
    "start_time": "2022-01-14T07:46:47.271Z"
   },
   {
    "duration": 5,
    "start_time": "2022-01-14T07:46:48.335Z"
   },
   {
    "duration": 4,
    "start_time": "2022-01-14T07:46:48.533Z"
   },
   {
    "duration": 8,
    "start_time": "2022-01-14T07:46:49.066Z"
   },
   {
    "duration": 23,
    "start_time": "2022-01-14T07:46:50.157Z"
   },
   {
    "duration": 1873,
    "start_time": "2022-01-14T07:46:50.971Z"
   },
   {
    "duration": 3,
    "start_time": "2022-01-14T07:46:52.846Z"
   },
   {
    "duration": 29,
    "start_time": "2022-01-14T07:46:52.851Z"
   },
   {
    "duration": 3,
    "start_time": "2022-01-14T07:46:53.681Z"
   },
   {
    "duration": 7,
    "start_time": "2022-01-14T07:46:54.134Z"
   },
   {
    "duration": 3,
    "start_time": "2022-01-14T07:46:54.550Z"
   },
   {
    "duration": 70,
    "start_time": "2022-01-14T07:46:55.446Z"
   },
   {
    "duration": 313,
    "start_time": "2022-01-14T07:47:27.907Z"
   },
   {
    "duration": 232,
    "start_time": "2022-01-14T07:47:44.938Z"
   },
   {
    "duration": 8,
    "start_time": "2022-01-14T07:50:45.599Z"
   },
   {
    "duration": 3,
    "start_time": "2022-01-14T07:50:46.120Z"
   },
   {
    "duration": 78,
    "start_time": "2022-01-14T07:50:46.627Z"
   },
   {
    "duration": 1745,
    "start_time": "2022-01-14T07:51:30.698Z"
   },
   {
    "duration": 646,
    "start_time": "2022-01-14T07:51:32.446Z"
   },
   {
    "duration": 15,
    "start_time": "2022-01-14T07:51:33.094Z"
   },
   {
    "duration": 1019,
    "start_time": "2022-01-14T07:51:34.627Z"
   },
   {
    "duration": 4,
    "start_time": "2022-01-14T07:51:35.648Z"
   },
   {
    "duration": 659,
    "start_time": "2022-01-14T07:51:35.654Z"
   },
   {
    "duration": 4,
    "start_time": "2022-01-14T07:51:36.315Z"
   },
   {
    "duration": 15,
    "start_time": "2022-01-14T07:51:36.321Z"
   },
   {
    "duration": 15,
    "start_time": "2022-01-14T07:51:36.341Z"
   },
   {
    "duration": 11,
    "start_time": "2022-01-14T07:51:36.358Z"
   },
   {
    "duration": 214,
    "start_time": "2022-01-14T07:51:36.372Z"
   },
   {
    "duration": 5,
    "start_time": "2022-01-14T07:51:36.588Z"
   },
   {
    "duration": 9,
    "start_time": "2022-01-14T07:51:36.595Z"
   },
   {
    "duration": 11,
    "start_time": "2022-01-14T07:51:36.605Z"
   },
   {
    "duration": 23,
    "start_time": "2022-01-14T07:51:36.784Z"
   },
   {
    "duration": 1968,
    "start_time": "2022-01-14T07:51:37.731Z"
   },
   {
    "duration": 3,
    "start_time": "2022-01-14T07:51:39.701Z"
   },
   {
    "duration": 9,
    "start_time": "2022-01-14T07:51:39.706Z"
   },
   {
    "duration": 3,
    "start_time": "2022-01-14T07:51:40.209Z"
   },
   {
    "duration": 3,
    "start_time": "2022-01-14T07:51:40.415Z"
   },
   {
    "duration": 2,
    "start_time": "2022-01-14T07:51:41.005Z"
   },
   {
    "duration": 63,
    "start_time": "2022-01-14T07:51:42.165Z"
   },
   {
    "duration": 333,
    "start_time": "2022-01-14T07:51:44.463Z"
   },
   {
    "duration": 1648,
    "start_time": "2022-01-14T07:53:07.902Z"
   },
   {
    "duration": 1661,
    "start_time": "2022-01-14T07:58:03.873Z"
   },
   {
    "duration": 683,
    "start_time": "2022-01-14T07:58:05.536Z"
   },
   {
    "duration": 24,
    "start_time": "2022-01-14T07:58:06.222Z"
   },
   {
    "duration": 992,
    "start_time": "2022-01-14T07:58:06.249Z"
   },
   {
    "duration": 5,
    "start_time": "2022-01-14T07:58:07.243Z"
   },
   {
    "duration": 691,
    "start_time": "2022-01-14T07:58:07.250Z"
   },
   {
    "duration": 4,
    "start_time": "2022-01-14T07:58:07.942Z"
   },
   {
    "duration": 9,
    "start_time": "2022-01-14T07:58:07.949Z"
   },
   {
    "duration": 12,
    "start_time": "2022-01-14T07:58:07.960Z"
   },
   {
    "duration": 15,
    "start_time": "2022-01-14T07:58:07.974Z"
   },
   {
    "duration": 196,
    "start_time": "2022-01-14T07:58:07.990Z"
   },
   {
    "duration": 4,
    "start_time": "2022-01-14T07:58:08.188Z"
   },
   {
    "duration": 6,
    "start_time": "2022-01-14T07:58:08.194Z"
   },
   {
    "duration": 9,
    "start_time": "2022-01-14T07:58:08.201Z"
   },
   {
    "duration": 21,
    "start_time": "2022-01-14T07:58:08.212Z"
   },
   {
    "duration": 2088,
    "start_time": "2022-01-14T07:58:08.234Z"
   },
   {
    "duration": 2,
    "start_time": "2022-01-14T07:58:10.323Z"
   },
   {
    "duration": 19,
    "start_time": "2022-01-14T07:58:10.327Z"
   },
   {
    "duration": 9,
    "start_time": "2022-01-14T07:58:10.348Z"
   },
   {
    "duration": 6,
    "start_time": "2022-01-14T07:58:10.358Z"
   },
   {
    "duration": 8,
    "start_time": "2022-01-14T07:58:10.366Z"
   },
   {
    "duration": 3,
    "start_time": "2022-01-14T07:58:10.376Z"
   },
   {
    "duration": 96,
    "start_time": "2022-01-14T07:58:10.381Z"
   },
   {
    "duration": -41,
    "start_time": "2022-01-14T07:58:10.520Z"
   },
   {
    "duration": -42,
    "start_time": "2022-01-14T07:58:10.522Z"
   },
   {
    "duration": -42,
    "start_time": "2022-01-14T07:58:10.523Z"
   },
   {
    "duration": 81,
    "start_time": "2022-01-14T07:58:20.461Z"
   },
   {
    "duration": 74,
    "start_time": "2022-01-14T07:58:49.073Z"
   },
   {
    "duration": 1615,
    "start_time": "2022-01-14T08:10:31.612Z"
   },
   {
    "duration": 612,
    "start_time": "2022-01-14T08:10:33.229Z"
   },
   {
    "duration": 14,
    "start_time": "2022-01-14T08:10:33.843Z"
   },
   {
    "duration": 913,
    "start_time": "2022-01-14T08:10:33.858Z"
   },
   {
    "duration": 4,
    "start_time": "2022-01-14T08:10:34.773Z"
   },
   {
    "duration": 738,
    "start_time": "2022-01-14T08:10:34.779Z"
   },
   {
    "duration": 3,
    "start_time": "2022-01-14T08:10:35.519Z"
   },
   {
    "duration": 10,
    "start_time": "2022-01-14T08:10:35.524Z"
   },
   {
    "duration": 14,
    "start_time": "2022-01-14T08:10:35.535Z"
   },
   {
    "duration": 10,
    "start_time": "2022-01-14T08:10:35.551Z"
   },
   {
    "duration": 219,
    "start_time": "2022-01-14T08:10:35.562Z"
   },
   {
    "duration": 5,
    "start_time": "2022-01-14T08:10:35.782Z"
   },
   {
    "duration": 14,
    "start_time": "2022-01-14T08:10:35.789Z"
   },
   {
    "duration": 14,
    "start_time": "2022-01-14T08:10:35.804Z"
   },
   {
    "duration": 31,
    "start_time": "2022-01-14T08:10:35.819Z"
   },
   {
    "duration": 2075,
    "start_time": "2022-01-14T08:10:35.851Z"
   },
   {
    "duration": 3,
    "start_time": "2022-01-14T08:10:37.928Z"
   },
   {
    "duration": 21,
    "start_time": "2022-01-14T08:10:37.932Z"
   },
   {
    "duration": 15,
    "start_time": "2022-01-14T08:10:37.955Z"
   },
   {
    "duration": 12,
    "start_time": "2022-01-14T08:10:37.971Z"
   },
   {
    "duration": 16,
    "start_time": "2022-01-14T08:10:37.985Z"
   },
   {
    "duration": 12,
    "start_time": "2022-01-14T08:10:38.003Z"
   },
   {
    "duration": 124,
    "start_time": "2022-01-14T08:10:38.019Z"
   },
   {
    "duration": -49,
    "start_time": "2022-01-14T08:10:38.194Z"
   },
   {
    "duration": -50,
    "start_time": "2022-01-14T08:10:38.196Z"
   },
   {
    "duration": -50,
    "start_time": "2022-01-14T08:10:38.198Z"
   },
   {
    "duration": 1671,
    "start_time": "2022-01-14T08:11:27.915Z"
   },
   {
    "duration": 636,
    "start_time": "2022-01-14T08:11:29.588Z"
   },
   {
    "duration": 21,
    "start_time": "2022-01-14T08:11:30.226Z"
   },
   {
    "duration": 901,
    "start_time": "2022-01-14T08:11:31.351Z"
   },
   {
    "duration": 5,
    "start_time": "2022-01-14T08:11:32.254Z"
   },
   {
    "duration": 724,
    "start_time": "2022-01-14T08:11:32.603Z"
   },
   {
    "duration": 5,
    "start_time": "2022-01-14T08:11:33.329Z"
   },
   {
    "duration": 6,
    "start_time": "2022-01-14T08:11:33.340Z"
   },
   {
    "duration": 11,
    "start_time": "2022-01-14T08:11:33.484Z"
   },
   {
    "duration": 6,
    "start_time": "2022-01-14T08:11:34.066Z"
   },
   {
    "duration": 69,
    "start_time": "2022-01-14T08:11:36.484Z"
   },
   {
    "duration": 64,
    "start_time": "2022-01-14T08:11:44.067Z"
   },
   {
    "duration": 69,
    "start_time": "2022-01-14T08:12:08.612Z"
   },
   {
    "duration": 65,
    "start_time": "2022-01-14T08:12:16.230Z"
   },
   {
    "duration": 324,
    "start_time": "2022-01-14T08:12:24.697Z"
   },
   {
    "duration": 1695,
    "start_time": "2022-01-14T08:14:07.714Z"
   },
   {
    "duration": 592,
    "start_time": "2022-01-14T08:14:09.411Z"
   },
   {
    "duration": 16,
    "start_time": "2022-01-14T08:14:10.005Z"
   },
   {
    "duration": 861,
    "start_time": "2022-01-14T08:14:11.219Z"
   },
   {
    "duration": 4,
    "start_time": "2022-01-14T08:14:12.083Z"
   },
   {
    "duration": 685,
    "start_time": "2022-01-14T08:14:12.089Z"
   },
   {
    "duration": 3,
    "start_time": "2022-01-14T08:14:12.776Z"
   },
   {
    "duration": 4,
    "start_time": "2022-01-14T08:14:12.781Z"
   },
   {
    "duration": 12,
    "start_time": "2022-01-14T08:14:12.786Z"
   },
   {
    "duration": 5,
    "start_time": "2022-01-14T08:14:13.395Z"
   },
   {
    "duration": 64,
    "start_time": "2022-01-14T08:14:15.715Z"
   },
   {
    "duration": 70,
    "start_time": "2022-01-14T08:14:23.616Z"
   },
   {
    "duration": 1663,
    "start_time": "2022-01-14T08:29:30.463Z"
   },
   {
    "duration": 609,
    "start_time": "2022-01-14T08:29:32.128Z"
   },
   {
    "duration": 17,
    "start_time": "2022-01-14T08:29:32.739Z"
   },
   {
    "duration": 865,
    "start_time": "2022-01-14T08:29:36.751Z"
   },
   {
    "duration": 4,
    "start_time": "2022-01-14T08:29:38.475Z"
   },
   {
    "duration": 285,
    "start_time": "2022-01-14T08:38:29.433Z"
   },
   {
    "duration": 173,
    "start_time": "2022-01-14T08:38:29.757Z"
   },
   {
    "duration": 1598,
    "start_time": "2022-01-14T08:38:36.814Z"
   },
   {
    "duration": 586,
    "start_time": "2022-01-14T08:38:38.413Z"
   },
   {
    "duration": 14,
    "start_time": "2022-01-14T08:38:39.001Z"
   },
   {
    "duration": 841,
    "start_time": "2022-01-14T08:38:39.487Z"
   },
   {
    "duration": 3,
    "start_time": "2022-01-14T08:38:40.330Z"
   },
   {
    "duration": 534,
    "start_time": "2022-01-14T08:38:40.341Z"
   },
   {
    "duration": 3,
    "start_time": "2022-01-14T08:38:40.877Z"
   },
   {
    "duration": 23,
    "start_time": "2022-01-14T08:38:40.882Z"
   },
   {
    "duration": 31,
    "start_time": "2022-01-14T08:38:40.907Z"
   },
   {
    "duration": 21,
    "start_time": "2022-01-14T08:38:40.939Z"
   },
   {
    "duration": 172,
    "start_time": "2022-01-14T08:38:40.962Z"
   },
   {
    "duration": 4,
    "start_time": "2022-01-14T08:38:41.135Z"
   },
   {
    "duration": 22,
    "start_time": "2022-01-14T08:38:41.141Z"
   },
   {
    "duration": 29,
    "start_time": "2022-01-14T08:38:41.165Z"
   },
   {
    "duration": 50,
    "start_time": "2022-01-14T08:38:41.195Z"
   },
   {
    "duration": 1968,
    "start_time": "2022-01-14T08:38:41.246Z"
   },
   {
    "duration": 2,
    "start_time": "2022-01-14T08:38:43.216Z"
   },
   {
    "duration": 7,
    "start_time": "2022-01-14T08:38:43.220Z"
   },
   {
    "duration": 2,
    "start_time": "2022-01-14T08:38:43.241Z"
   },
   {
    "duration": 4,
    "start_time": "2022-01-14T08:38:43.245Z"
   },
   {
    "duration": 5,
    "start_time": "2022-01-14T08:38:43.251Z"
   },
   {
    "duration": 8,
    "start_time": "2022-01-14T08:38:43.258Z"
   },
   {
    "duration": 8,
    "start_time": "2022-01-14T08:38:43.268Z"
   },
   {
    "duration": 2,
    "start_time": "2022-01-14T08:38:43.443Z"
   },
   {
    "duration": 4,
    "start_time": "2022-01-14T08:39:37.747Z"
   },
   {
    "duration": 2,
    "start_time": "2022-01-14T08:39:38.020Z"
   },
   {
    "duration": 3,
    "start_time": "2022-01-14T08:39:38.266Z"
   },
   {
    "duration": 3,
    "start_time": "2022-01-14T08:39:38.572Z"
   },
   {
    "duration": 66,
    "start_time": "2022-01-14T08:39:38.917Z"
   },
   {
    "duration": 3,
    "start_time": "2022-01-14T08:40:27.000Z"
   },
   {
    "duration": 3,
    "start_time": "2022-01-14T08:40:27.251Z"
   },
   {
    "duration": 6,
    "start_time": "2022-01-14T08:40:27.593Z"
   },
   {
    "duration": 3,
    "start_time": "2022-01-14T08:40:28.256Z"
   },
   {
    "duration": 117,
    "start_time": "2022-01-14T08:40:28.580Z"
   },
   {
    "duration": 3,
    "start_time": "2022-01-14T08:43:26.116Z"
   },
   {
    "duration": 2,
    "start_time": "2022-01-14T08:45:54.378Z"
   },
   {
    "duration": 2,
    "start_time": "2022-01-14T08:45:55.117Z"
   },
   {
    "duration": 6,
    "start_time": "2022-01-14T08:45:55.396Z"
   },
   {
    "duration": 2,
    "start_time": "2022-01-14T08:45:55.977Z"
   },
   {
    "duration": 82,
    "start_time": "2022-01-14T08:45:56.494Z"
   },
   {
    "duration": 317,
    "start_time": "2022-01-14T08:45:57.138Z"
   },
   {
    "duration": 3,
    "start_time": "2022-01-14T08:46:19.601Z"
   },
   {
    "duration": 2,
    "start_time": "2022-01-14T08:46:19.955Z"
   },
   {
    "duration": 3,
    "start_time": "2022-01-14T08:46:20.267Z"
   },
   {
    "duration": 3,
    "start_time": "2022-01-14T08:46:20.647Z"
   },
   {
    "duration": 3,
    "start_time": "2022-01-14T08:46:21.586Z"
   },
   {
    "duration": 215,
    "start_time": "2022-01-14T08:46:22.068Z"
   },
   {
    "duration": 199,
    "start_time": "2022-01-14T08:46:23.051Z"
   },
   {
    "duration": 2,
    "start_time": "2022-01-14T08:47:48.383Z"
   },
   {
    "duration": 3,
    "start_time": "2022-01-14T08:47:49.019Z"
   },
   {
    "duration": 3,
    "start_time": "2022-01-14T08:47:49.273Z"
   },
   {
    "duration": 3,
    "start_time": "2022-01-14T08:47:49.589Z"
   },
   {
    "duration": 3,
    "start_time": "2022-01-14T08:47:50.159Z"
   },
   {
    "duration": 201,
    "start_time": "2022-01-14T08:47:50.603Z"
   },
   {
    "duration": 230,
    "start_time": "2022-01-14T08:47:51.583Z"
   },
   {
    "duration": 2,
    "start_time": "2022-01-14T08:47:58.652Z"
   },
   {
    "duration": 3,
    "start_time": "2022-01-14T08:47:58.968Z"
   },
   {
    "duration": 6,
    "start_time": "2022-01-14T08:47:59.176Z"
   },
   {
    "duration": 3,
    "start_time": "2022-01-14T08:47:59.408Z"
   },
   {
    "duration": 3,
    "start_time": "2022-01-14T08:47:59.664Z"
   },
   {
    "duration": 219,
    "start_time": "2022-01-14T08:48:00.082Z"
   },
   {
    "duration": 376,
    "start_time": "2022-01-14T08:48:00.865Z"
   },
   {
    "duration": 187,
    "start_time": "2022-01-14T08:48:02.608Z"
   },
   {
    "duration": 2,
    "start_time": "2022-01-14T08:48:29.250Z"
   },
   {
    "duration": 3,
    "start_time": "2022-01-14T08:48:29.706Z"
   },
   {
    "duration": 6,
    "start_time": "2022-01-14T08:48:29.927Z"
   },
   {
    "duration": 3,
    "start_time": "2022-01-14T08:48:30.159Z"
   },
   {
    "duration": 3,
    "start_time": "2022-01-14T08:48:30.517Z"
   },
   {
    "duration": 210,
    "start_time": "2022-01-14T08:48:31.007Z"
   },
   {
    "duration": 191,
    "start_time": "2022-01-14T08:48:31.751Z"
   },
   {
    "duration": 236,
    "start_time": "2022-01-14T08:49:51.058Z"
   },
   {
    "duration": 212,
    "start_time": "2022-01-14T08:49:52.097Z"
   },
   {
    "duration": 214,
    "start_time": "2022-01-14T08:58:50.921Z"
   },
   {
    "duration": -48,
    "start_time": "2022-01-14T08:58:51.185Z"
   },
   {
    "duration": -88,
    "start_time": "2022-01-14T08:58:51.228Z"
   },
   {
    "duration": -93,
    "start_time": "2022-01-14T08:58:51.235Z"
   },
   {
    "duration": 177,
    "start_time": "2022-01-14T08:58:51.477Z"
   },
   {
    "duration": 190,
    "start_time": "2022-01-14T08:58:52.115Z"
   },
   {
    "duration": 1808,
    "start_time": "2022-01-14T08:59:00.869Z"
   },
   {
    "duration": 680,
    "start_time": "2022-01-14T08:59:02.679Z"
   },
   {
    "duration": 14,
    "start_time": "2022-01-14T08:59:03.361Z"
   },
   {
    "duration": 925,
    "start_time": "2022-01-14T08:59:03.377Z"
   },
   {
    "duration": 4,
    "start_time": "2022-01-14T08:59:04.304Z"
   },
   {
    "duration": 795,
    "start_time": "2022-01-14T08:59:04.309Z"
   },
   {
    "duration": 3,
    "start_time": "2022-01-14T08:59:05.106Z"
   },
   {
    "duration": 13,
    "start_time": "2022-01-14T08:59:05.111Z"
   },
   {
    "duration": 18,
    "start_time": "2022-01-14T08:59:05.126Z"
   },
   {
    "duration": 18,
    "start_time": "2022-01-14T08:59:05.145Z"
   },
   {
    "duration": 208,
    "start_time": "2022-01-14T08:59:05.165Z"
   },
   {
    "duration": 5,
    "start_time": "2022-01-14T08:59:05.374Z"
   },
   {
    "duration": 24,
    "start_time": "2022-01-14T08:59:05.380Z"
   },
   {
    "duration": 17,
    "start_time": "2022-01-14T08:59:05.406Z"
   },
   {
    "duration": 25,
    "start_time": "2022-01-14T08:59:05.424Z"
   },
   {
    "duration": 2052,
    "start_time": "2022-01-14T08:59:05.450Z"
   },
   {
    "duration": 2,
    "start_time": "2022-01-14T08:59:07.504Z"
   },
   {
    "duration": 10,
    "start_time": "2022-01-14T08:59:07.507Z"
   },
   {
    "duration": 3,
    "start_time": "2022-01-14T08:59:07.518Z"
   },
   {
    "duration": 5,
    "start_time": "2022-01-14T08:59:07.523Z"
   },
   {
    "duration": 7,
    "start_time": "2022-01-14T08:59:07.540Z"
   },
   {
    "duration": 4,
    "start_time": "2022-01-14T08:59:07.548Z"
   },
   {
    "duration": 3,
    "start_time": "2022-01-14T08:59:07.555Z"
   },
   {
    "duration": 61,
    "start_time": "2022-01-14T08:59:07.559Z"
   },
   {
    "duration": 3,
    "start_time": "2022-01-14T08:59:07.621Z"
   },
   {
    "duration": 6,
    "start_time": "2022-01-14T08:59:07.625Z"
   },
   {
    "duration": 2,
    "start_time": "2022-01-14T09:00:18.773Z"
   },
   {
    "duration": 3,
    "start_time": "2022-01-14T09:00:19.254Z"
   },
   {
    "duration": 3,
    "start_time": "2022-01-14T09:00:19.506Z"
   },
   {
    "duration": 3,
    "start_time": "2022-01-14T09:00:19.826Z"
   },
   {
    "duration": 3,
    "start_time": "2022-01-14T09:00:20.564Z"
   },
   {
    "duration": 34,
    "start_time": "2022-01-14T09:00:21.050Z"
   },
   {
    "duration": 3,
    "start_time": "2022-01-14T09:00:21.575Z"
   },
   {
    "duration": 3,
    "start_time": "2022-01-14T09:00:22.257Z"
   },
   {
    "duration": 2,
    "start_time": "2022-01-14T09:00:42.706Z"
   },
   {
    "duration": 2,
    "start_time": "2022-01-14T09:00:43.050Z"
   },
   {
    "duration": 3,
    "start_time": "2022-01-14T09:00:43.453Z"
   },
   {
    "duration": 34,
    "start_time": "2022-01-14T09:00:43.755Z"
   },
   {
    "duration": 3,
    "start_time": "2022-01-14T09:00:44.127Z"
   },
   {
    "duration": 3,
    "start_time": "2022-01-14T09:00:45.042Z"
   },
   {
    "duration": 3,
    "start_time": "2022-01-14T09:00:52.550Z"
   },
   {
    "duration": 2,
    "start_time": "2022-01-14T09:00:52.755Z"
   },
   {
    "duration": 3,
    "start_time": "2022-01-14T09:00:52.968Z"
   },
   {
    "duration": 107,
    "start_time": "2022-01-14T09:00:53.181Z"
   },
   {
    "duration": 3,
    "start_time": "2022-01-14T09:00:53.406Z"
   },
   {
    "duration": 3,
    "start_time": "2022-01-14T09:00:53.847Z"
   },
   {
    "duration": 294,
    "start_time": "2022-01-14T09:01:48.797Z"
   },
   {
    "duration": 238,
    "start_time": "2022-01-14T09:01:49.298Z"
   },
   {
    "duration": 232,
    "start_time": "2022-01-14T09:01:49.971Z"
   },
   {
    "duration": -49,
    "start_time": "2022-01-14T09:01:50.254Z"
   },
   {
    "duration": -51,
    "start_time": "2022-01-14T09:01:50.256Z"
   },
   {
    "duration": 223,
    "start_time": "2022-01-14T09:01:50.222Z"
   },
   {
    "duration": -43,
    "start_time": "2022-01-14T09:01:50.490Z"
   },
   {
    "duration": -44,
    "start_time": "2022-01-14T09:01:50.491Z"
   },
   {
    "duration": 235,
    "start_time": "2022-01-14T09:01:50.470Z"
   },
   {
    "duration": 218,
    "start_time": "2022-01-14T09:01:50.808Z"
   },
   {
    "duration": -45,
    "start_time": "2022-01-14T09:01:51.073Z"
   },
   {
    "duration": 226,
    "start_time": "2022-01-14T09:01:51.057Z"
   },
   {
    "duration": -38,
    "start_time": "2022-01-14T09:01:51.323Z"
   },
   {
    "duration": 273,
    "start_time": "2022-01-14T09:01:51.387Z"
   },
   {
    "duration": 309,
    "start_time": "2022-01-14T09:01:52.202Z"
   },
   {
    "duration": -55,
    "start_time": "2022-01-14T09:01:52.568Z"
   },
   {
    "duration": 247,
    "start_time": "2022-01-14T09:01:52.551Z"
   },
   {
    "duration": -49,
    "start_time": "2022-01-14T09:01:52.849Z"
   },
   {
    "duration": 242,
    "start_time": "2022-01-14T09:01:52.985Z"
   },
   {
    "duration": 296,
    "start_time": "2022-01-14T09:01:53.486Z"
   },
   {
    "duration": -38,
    "start_time": "2022-01-14T09:01:53.822Z"
   },
   {
    "duration": -46,
    "start_time": "2022-01-14T09:01:53.831Z"
   },
   {
    "duration": -88,
    "start_time": "2022-01-14T09:01:53.874Z"
   },
   {
    "duration": 1871,
    "start_time": "2022-01-14T09:02:05.705Z"
   },
   {
    "duration": 697,
    "start_time": "2022-01-14T09:02:07.578Z"
   },
   {
    "duration": 16,
    "start_time": "2022-01-14T09:02:08.277Z"
   },
   {
    "duration": 1027,
    "start_time": "2022-01-14T09:02:08.295Z"
   },
   {
    "duration": 3,
    "start_time": "2022-01-14T09:02:09.324Z"
   },
   {
    "duration": 59119,
    "start_time": "2022-01-14T09:02:09.329Z"
   },
   {
    "duration": 4,
    "start_time": "2022-01-14T09:03:08.449Z"
   },
   {
    "duration": 5,
    "start_time": "2022-01-14T09:03:08.455Z"
   },
   {
    "duration": 13,
    "start_time": "2022-01-14T09:03:08.462Z"
   },
   {
    "duration": 8,
    "start_time": "2022-01-14T09:03:08.477Z"
   },
   {
    "duration": 372,
    "start_time": "2022-01-14T09:03:08.487Z"
   },
   {
    "duration": 5,
    "start_time": "2022-01-14T09:03:08.861Z"
   },
   {
    "duration": 9,
    "start_time": "2022-01-14T09:03:08.867Z"
   },
   {
    "duration": 165,
    "start_time": "2022-01-14T09:03:08.877Z"
   },
   {
    "duration": 286,
    "start_time": "2022-01-14T09:03:09.045Z"
   },
   {
    "duration": 4105,
    "start_time": "2022-01-14T09:03:09.333Z"
   },
   {
    "duration": 2,
    "start_time": "2022-01-14T09:03:13.440Z"
   },
   {
    "duration": 40,
    "start_time": "2022-01-14T09:03:13.444Z"
   },
   {
    "duration": 8,
    "start_time": "2022-01-14T09:03:13.486Z"
   },
   {
    "duration": 22,
    "start_time": "2022-01-14T09:03:13.495Z"
   },
   {
    "duration": 22,
    "start_time": "2022-01-14T09:03:13.519Z"
   },
   {
    "duration": 9299,
    "start_time": "2022-01-14T09:03:13.543Z"
   },
   {
    "duration": 4,
    "start_time": "2022-01-14T09:03:22.845Z"
   },
   {
    "duration": 94,
    "start_time": "2022-01-14T09:03:22.855Z"
   },
   {
    "duration": 1731,
    "start_time": "2022-01-14T09:05:22.579Z"
   },
   {
    "duration": 876,
    "start_time": "2022-01-14T09:05:24.313Z"
   },
   {
    "duration": 22,
    "start_time": "2022-01-14T09:05:25.191Z"
   },
   {
    "duration": 1018,
    "start_time": "2022-01-14T09:05:25.216Z"
   },
   {
    "duration": 5,
    "start_time": "2022-01-14T09:05:26.236Z"
   },
   {
    "duration": 2302610,
    "start_time": "2022-01-14T09:05:26.242Z"
   },
   {
    "duration": 24,
    "start_time": "2022-01-14T09:43:48.854Z"
   },
   {
    "duration": 14,
    "start_time": "2022-01-14T09:43:48.881Z"
   },
   {
    "duration": 36,
    "start_time": "2022-01-14T09:43:48.897Z"
   },
   {
    "duration": 75,
    "start_time": "2022-01-14T09:43:48.935Z"
   },
   {
    "duration": 7224,
    "start_time": "2022-01-14T09:43:49.012Z"
   },
   {
    "duration": 32,
    "start_time": "2022-01-14T09:43:56.238Z"
   },
   {
    "duration": 33,
    "start_time": "2022-01-14T09:43:56.273Z"
   },
   {
    "duration": 8751,
    "start_time": "2022-01-14T09:43:56.308Z"
   },
   {
    "duration": 33832,
    "start_time": "2022-01-14T09:44:05.062Z"
   },
   {
    "duration": 160205,
    "start_time": "2022-01-14T09:44:38.896Z"
   },
   {
    "duration": 3,
    "start_time": "2022-01-14T09:47:19.102Z"
   },
   {
    "duration": 178,
    "start_time": "2022-01-14T09:47:19.106Z"
   },
   {
    "duration": 2,
    "start_time": "2022-01-14T09:47:19.286Z"
   },
   {
    "duration": 23,
    "start_time": "2022-01-14T09:47:19.290Z"
   },
   {
    "duration": 27,
    "start_time": "2022-01-14T09:47:19.315Z"
   },
   {
    "duration": 309176,
    "start_time": "2022-01-14T09:47:19.343Z"
   },
   {
    "duration": 3,
    "start_time": "2022-01-14T09:52:28.523Z"
   },
   {
    "duration": 15,
    "start_time": "2022-01-14T09:52:28.528Z"
   },
   {
    "duration": 2381,
    "start_time": "2022-01-15T08:40:12.001Z"
   },
   {
    "duration": 664,
    "start_time": "2022-01-15T08:40:14.384Z"
   },
   {
    "duration": 25,
    "start_time": "2022-01-15T08:40:15.051Z"
   },
   {
    "duration": 1307,
    "start_time": "2022-01-15T08:40:15.078Z"
   },
   {
    "duration": 3,
    "start_time": "2022-01-15T08:40:16.388Z"
   },
   {
    "duration": 67190,
    "start_time": "2022-01-15T08:40:16.393Z"
   },
   {
    "duration": 4,
    "start_time": "2022-01-15T08:41:23.584Z"
   },
   {
    "duration": 6,
    "start_time": "2022-01-15T08:41:23.591Z"
   },
   {
    "duration": 17,
    "start_time": "2022-01-15T08:41:23.599Z"
   },
   {
    "duration": 11,
    "start_time": "2022-01-15T08:41:23.617Z"
   },
   {
    "duration": 783,
    "start_time": "2022-01-15T08:41:23.629Z"
   },
   {
    "duration": 7,
    "start_time": "2022-01-15T08:41:24.415Z"
   },
   {
    "duration": 8,
    "start_time": "2022-01-15T08:41:24.425Z"
   },
   {
    "duration": 232,
    "start_time": "2022-01-15T08:41:24.435Z"
   },
   {
    "duration": 555,
    "start_time": "2022-01-15T08:41:24.669Z"
   },
   {
    "duration": 6171,
    "start_time": "2022-01-15T08:41:25.226Z"
   },
   {
    "duration": 3,
    "start_time": "2022-01-15T08:41:31.399Z"
   },
   {
    "duration": 17,
    "start_time": "2022-01-15T08:41:31.404Z"
   },
   {
    "duration": 12,
    "start_time": "2022-01-15T08:41:31.423Z"
   },
   {
    "duration": 20,
    "start_time": "2022-01-15T08:41:31.437Z"
   },
   {
    "duration": 8,
    "start_time": "2022-01-15T08:41:31.459Z"
   },
   {
    "duration": 11,
    "start_time": "2022-01-15T08:41:31.469Z"
   },
   {
    "duration": 11,
    "start_time": "2022-01-15T08:41:31.483Z"
   },
   {
    "duration": 10484,
    "start_time": "2022-01-15T08:41:31.496Z"
   },
   {
    "duration": 4,
    "start_time": "2022-01-15T08:41:42.062Z"
   },
   {
    "duration": 93,
    "start_time": "2022-01-15T08:41:42.068Z"
   },
   {
    "duration": 1764,
    "start_time": "2022-01-15T08:44:49.349Z"
   },
   {
    "duration": 660,
    "start_time": "2022-01-15T08:44:51.115Z"
   },
   {
    "duration": 15,
    "start_time": "2022-01-15T08:44:51.777Z"
   },
   {
    "duration": 973,
    "start_time": "2022-01-15T08:44:51.793Z"
   },
   {
    "duration": 4,
    "start_time": "2022-01-15T08:44:52.768Z"
   },
   {
    "duration": 65387,
    "start_time": "2022-01-15T08:44:52.774Z"
   },
   {
    "duration": 4,
    "start_time": "2022-01-15T08:45:58.162Z"
   },
   {
    "duration": 16,
    "start_time": "2022-01-15T08:45:58.169Z"
   },
   {
    "duration": 20,
    "start_time": "2022-01-15T08:45:58.187Z"
   },
   {
    "duration": 11,
    "start_time": "2022-01-15T08:45:58.209Z"
   },
   {
    "duration": 456,
    "start_time": "2022-01-15T08:45:58.221Z"
   },
   {
    "duration": 6,
    "start_time": "2022-01-15T08:45:58.679Z"
   },
   {
    "duration": 8,
    "start_time": "2022-01-15T08:45:58.686Z"
   },
   {
    "duration": 164,
    "start_time": "2022-01-15T08:45:58.696Z"
   },
   {
    "duration": 314,
    "start_time": "2022-01-15T08:45:58.864Z"
   },
   {
    "duration": 4749,
    "start_time": "2022-01-15T08:45:59.180Z"
   },
   {
    "duration": 3,
    "start_time": "2022-01-15T08:46:03.931Z"
   },
   {
    "duration": 32,
    "start_time": "2022-01-15T08:46:03.935Z"
   },
   {
    "duration": 27,
    "start_time": "2022-01-15T08:46:03.969Z"
   },
   {
    "duration": 14,
    "start_time": "2022-01-15T08:46:03.998Z"
   },
   {
    "duration": 20,
    "start_time": "2022-01-15T08:46:04.014Z"
   },
   {
    "duration": 29,
    "start_time": "2022-01-15T08:46:04.036Z"
   },
   {
    "duration": 30,
    "start_time": "2022-01-15T08:46:04.069Z"
   },
   {
    "duration": 9663,
    "start_time": "2022-01-15T08:46:04.101Z"
   },
   {
    "duration": 3,
    "start_time": "2022-01-15T08:46:13.766Z"
   },
   {
    "duration": 4,
    "start_time": "2022-01-15T08:46:13.861Z"
   },
   {
    "duration": 1685,
    "start_time": "2022-01-15T08:47:15.278Z"
   },
   {
    "duration": 636,
    "start_time": "2022-01-15T08:47:16.965Z"
   },
   {
    "duration": 16,
    "start_time": "2022-01-15T08:47:17.603Z"
   },
   {
    "duration": 990,
    "start_time": "2022-01-15T08:47:17.621Z"
   },
   {
    "duration": 4,
    "start_time": "2022-01-15T08:47:18.613Z"
   },
   {
    "duration": 2441571,
    "start_time": "2022-01-15T08:47:18.618Z"
   },
   {
    "duration": 29,
    "start_time": "2022-01-15T09:28:00.191Z"
   },
   {
    "duration": 15,
    "start_time": "2022-01-15T09:28:00.223Z"
   },
   {
    "duration": 26,
    "start_time": "2022-01-15T09:28:00.241Z"
   },
   {
    "duration": 71,
    "start_time": "2022-01-15T09:28:00.269Z"
   },
   {
    "duration": 7459,
    "start_time": "2022-01-15T09:28:00.342Z"
   },
   {
    "duration": 33,
    "start_time": "2022-01-15T09:28:07.803Z"
   },
   {
    "duration": 49,
    "start_time": "2022-01-15T09:28:07.838Z"
   },
   {
    "duration": 9295,
    "start_time": "2022-01-15T09:28:07.889Z"
   },
   {
    "duration": 36162,
    "start_time": "2022-01-15T09:28:17.186Z"
   },
   {
    "duration": 174177,
    "start_time": "2022-01-15T09:28:53.350Z"
   },
   {
    "duration": 3,
    "start_time": "2022-01-15T09:31:47.529Z"
   },
   {
    "duration": 42,
    "start_time": "2022-01-15T09:31:47.533Z"
   },
   {
    "duration": 53,
    "start_time": "2022-01-15T09:31:47.577Z"
   },
   {
    "duration": 175,
    "start_time": "2022-01-15T09:31:47.632Z"
   },
   {
    "duration": 2,
    "start_time": "2022-01-15T09:31:47.809Z"
   },
   {
    "duration": 6,
    "start_time": "2022-01-15T09:31:47.813Z"
   },
   {
    "duration": 8,
    "start_time": "2022-01-15T09:31:47.821Z"
   },
   {
    "duration": 300645,
    "start_time": "2022-01-15T09:31:47.830Z"
   },
   {
    "duration": 3,
    "start_time": "2022-01-15T09:36:48.477Z"
   },
   {
    "duration": 5,
    "start_time": "2022-01-15T09:36:48.482Z"
   },
   {
    "duration": 8117,
    "start_time": "2022-01-15T09:39:36.274Z"
   },
   {
    "duration": 8792,
    "start_time": "2022-01-15T09:39:50.096Z"
   },
   {
    "duration": 8845,
    "start_time": "2022-01-15T09:40:04.142Z"
   },
   {
    "duration": 9481,
    "start_time": "2022-01-15T09:40:18.805Z"
   },
   {
    "duration": 10088,
    "start_time": "2022-01-15T09:40:32.600Z"
   },
   {
    "duration": 10293,
    "start_time": "2022-01-15T09:40:46.675Z"
   },
   {
    "duration": 9863,
    "start_time": "2022-01-15T09:41:03.019Z"
   },
   {
    "duration": 10610,
    "start_time": "2022-01-15T09:41:19.675Z"
   },
   {
    "duration": 11850,
    "start_time": "2022-01-15T09:41:34.537Z"
   },
   {
    "duration": 11433,
    "start_time": "2022-01-15T09:41:51.752Z"
   },
   {
    "duration": 13193,
    "start_time": "2022-01-15T09:42:07.690Z"
   },
   {
    "duration": 15185,
    "start_time": "2022-01-15T09:42:26.000Z"
   },
   {
    "duration": 12611,
    "start_time": "2022-01-15T09:42:46.872Z"
   },
   {
    "duration": 2,
    "start_time": "2022-01-15T09:44:19.383Z"
   },
   {
    "duration": 3,
    "start_time": "2022-01-15T09:44:20.041Z"
   },
   {
    "duration": 401131,
    "start_time": "2022-01-15T09:44:20.735Z"
   },
   {
    "duration": 3,
    "start_time": "2022-01-15T09:51:01.869Z"
   },
   {
    "duration": 20,
    "start_time": "2022-01-15T09:51:01.874Z"
   },
   {
    "duration": 3,
    "start_time": "2022-01-15T09:53:34.616Z"
   },
   {
    "duration": 33,
    "start_time": "2022-01-15T09:53:35.028Z"
   },
   {
    "duration": 37,
    "start_time": "2022-01-15T09:53:40.179Z"
   },
   {
    "duration": 156,
    "start_time": "2022-01-15T09:53:40.566Z"
   },
   {
    "duration": 5090,
    "start_time": "2022-05-19T12:20:45.965Z"
   },
   {
    "duration": 2265,
    "start_time": "2022-05-19T12:20:53.445Z"
   },
   {
    "duration": 16,
    "start_time": "2022-05-19T12:20:55.712Z"
   },
   {
    "duration": 699,
    "start_time": "2022-05-19T12:20:58.794Z"
   },
   {
    "duration": 5,
    "start_time": "2022-05-19T12:21:00.122Z"
   },
   {
    "duration": 16083,
    "start_time": "2022-05-19T12:21:01.101Z"
   },
   {
    "duration": 3,
    "start_time": "2022-05-19T12:21:17.186Z"
   },
   {
    "duration": 13,
    "start_time": "2022-05-19T12:21:17.191Z"
   },
   {
    "duration": 18,
    "start_time": "2022-05-19T12:21:17.206Z"
   },
   {
    "duration": 5,
    "start_time": "2022-05-19T12:21:21.386Z"
   },
   {
    "duration": 250,
    "start_time": "2022-05-19T12:21:31.860Z"
   },
   {
    "duration": 339,
    "start_time": "2022-05-19T12:21:34.630Z"
   },
   {
    "duration": 6,
    "start_time": "2022-05-19T12:21:51.323Z"
   },
   {
    "duration": 6,
    "start_time": "2022-05-19T12:21:51.860Z"
   },
   {
    "duration": 9,
    "start_time": "2022-05-19T12:21:59.541Z"
   },
   {
    "duration": 2,
    "start_time": "2022-05-19T12:22:00.909Z"
   },
   {
    "duration": 10,
    "start_time": "2022-05-19T12:22:01.193Z"
   },
   {
    "duration": 760,
    "start_time": "2022-05-19T12:22:01.561Z"
   },
   {
    "duration": 3,
    "start_time": "2022-05-19T12:22:02.323Z"
   },
   {
    "duration": 4,
    "start_time": "2022-05-19T12:22:02.479Z"
   },
   {
    "duration": 17,
    "start_time": "2022-05-19T12:23:13.355Z"
   },
   {
    "duration": 3978,
    "start_time": "2022-05-19T12:24:12.875Z"
   },
   {
    "duration": 791,
    "start_time": "2022-05-19T12:24:18.020Z"
   },
   {
    "duration": 16,
    "start_time": "2022-05-19T12:24:18.813Z"
   },
   {
    "duration": 502,
    "start_time": "2022-05-19T12:24:19.663Z"
   },
   {
    "duration": 4,
    "start_time": "2022-05-19T12:24:20.167Z"
   },
   {
    "duration": 15700,
    "start_time": "2022-05-19T12:24:20.173Z"
   },
   {
    "duration": 4,
    "start_time": "2022-05-19T12:24:35.875Z"
   },
   {
    "duration": 13,
    "start_time": "2022-05-19T12:24:35.881Z"
   },
   {
    "duration": 30,
    "start_time": "2022-05-19T12:24:35.895Z"
   },
   {
    "duration": 12,
    "start_time": "2022-05-19T12:24:35.926Z"
   },
   {
    "duration": 180,
    "start_time": "2022-05-19T12:24:35.940Z"
   },
   {
    "duration": 2263,
    "start_time": "2022-05-19T12:24:36.122Z"
   },
   {
    "duration": 28096,
    "start_time": "2022-05-19T12:44:11.227Z"
   },
   {
    "duration": 727,
    "start_time": "2022-05-19T12:44:39.325Z"
   },
   {
    "duration": 17,
    "start_time": "2022-05-19T12:44:40.054Z"
   },
   {
    "duration": 7,
    "start_time": "2022-05-19T12:44:40.073Z"
   },
   {
    "duration": 8,
    "start_time": "2022-05-19T12:44:40.094Z"
   },
   {
    "duration": 546,
    "start_time": "2022-05-19T12:45:29.561Z"
   },
   {
    "duration": 3,
    "start_time": "2022-05-19T12:45:30.109Z"
   },
   {
    "duration": 16100,
    "start_time": "2022-05-19T12:45:30.654Z"
   },
   {
    "duration": 4,
    "start_time": "2022-05-19T12:45:46.756Z"
   },
   {
    "duration": 6,
    "start_time": "2022-05-19T12:45:46.761Z"
   },
   {
    "duration": 6,
    "start_time": "2022-05-19T12:45:46.768Z"
   },
   {
    "duration": 20,
    "start_time": "2022-05-19T12:45:46.776Z"
   },
   {
    "duration": 4,
    "start_time": "2022-05-19T12:46:23.686Z"
   },
   {
    "duration": 165,
    "start_time": "2022-05-19T12:46:24.486Z"
   },
   {
    "duration": 2420,
    "start_time": "2022-05-19T12:46:25.642Z"
   },
   {
    "duration": 4522,
    "start_time": "2022-05-19T13:11:00.076Z"
   },
   {
    "duration": 837,
    "start_time": "2022-05-19T13:11:04.600Z"
   },
   {
    "duration": 19,
    "start_time": "2022-05-19T13:11:05.439Z"
   },
   {
    "duration": 7,
    "start_time": "2022-05-19T13:11:05.460Z"
   },
   {
    "duration": 30,
    "start_time": "2022-05-19T13:11:05.469Z"
   },
   {
    "duration": 543,
    "start_time": "2022-05-19T13:11:05.501Z"
   },
   {
    "duration": 6,
    "start_time": "2022-05-19T13:11:06.046Z"
   },
   {
    "duration": 5288,
    "start_time": "2022-05-19T16:32:27.668Z"
   },
   {
    "duration": 2594,
    "start_time": "2022-05-19T16:32:32.960Z"
   },
   {
    "duration": 16,
    "start_time": "2022-05-19T16:32:35.556Z"
   },
   {
    "duration": 9,
    "start_time": "2022-05-19T16:32:35.574Z"
   },
   {
    "duration": 11,
    "start_time": "2022-05-19T16:32:35.584Z"
   },
   {
    "duration": 742,
    "start_time": "2022-05-19T16:32:35.597Z"
   },
   {
    "duration": 8,
    "start_time": "2022-05-19T16:32:36.341Z"
   },
   {
    "duration": 16970,
    "start_time": "2022-05-19T16:32:36.352Z"
   },
   {
    "duration": 5,
    "start_time": "2022-05-19T16:32:53.325Z"
   },
   {
    "duration": 8,
    "start_time": "2022-05-19T16:32:53.332Z"
   },
   {
    "duration": 18,
    "start_time": "2022-05-19T16:32:53.342Z"
   },
   {
    "duration": 21,
    "start_time": "2022-05-19T16:32:53.362Z"
   },
   {
    "duration": 8,
    "start_time": "2022-05-19T16:32:53.385Z"
   },
   {
    "duration": 290,
    "start_time": "2022-05-19T16:32:53.394Z"
   },
   {
    "duration": 4,
    "start_time": "2022-05-19T16:32:53.686Z"
   },
   {
    "duration": 11,
    "start_time": "2022-05-19T16:32:53.693Z"
   },
   {
    "duration": 8,
    "start_time": "2022-05-19T16:32:53.707Z"
   },
   {
    "duration": 7451,
    "start_time": "2022-05-19T16:32:53.717Z"
   },
   {
    "duration": 8,
    "start_time": "2022-05-19T16:33:01.170Z"
   },
   {
    "duration": 29,
    "start_time": "2022-05-19T16:33:01.179Z"
   },
   {
    "duration": 6778,
    "start_time": "2022-05-19T16:34:46.344Z"
   },
   {
    "duration": 8,
    "start_time": "2022-05-19T16:34:57.649Z"
   },
   {
    "duration": 6,
    "start_time": "2022-05-19T16:34:58.528Z"
   },
   {
    "duration": 4267,
    "start_time": "2022-05-19T16:35:44.173Z"
   },
   {
    "duration": 822,
    "start_time": "2022-05-19T16:35:48.442Z"
   },
   {
    "duration": 18,
    "start_time": "2022-05-19T16:35:49.267Z"
   },
   {
    "duration": 9,
    "start_time": "2022-05-19T16:35:49.287Z"
   },
   {
    "duration": 22,
    "start_time": "2022-05-19T16:35:49.298Z"
   },
   {
    "duration": 489,
    "start_time": "2022-05-19T16:35:49.333Z"
   },
   {
    "duration": 5,
    "start_time": "2022-05-19T16:35:49.823Z"
   },
   {
    "duration": 173092,
    "start_time": "2022-05-19T16:35:49.829Z"
   },
   {
    "duration": 5,
    "start_time": "2022-05-19T16:38:42.923Z"
   },
   {
    "duration": 15,
    "start_time": "2022-05-19T16:38:42.930Z"
   },
   {
    "duration": 13,
    "start_time": "2022-05-19T16:38:42.947Z"
   },
   {
    "duration": 20,
    "start_time": "2022-05-19T16:38:42.963Z"
   },
   {
    "duration": 11,
    "start_time": "2022-05-19T16:38:42.985Z"
   },
   {
    "duration": 587,
    "start_time": "2022-05-19T16:38:42.998Z"
   },
   {
    "duration": 3,
    "start_time": "2022-05-19T16:38:43.587Z"
   },
   {
    "duration": 9,
    "start_time": "2022-05-19T16:38:43.592Z"
   },
   {
    "duration": 9,
    "start_time": "2022-05-19T16:38:43.602Z"
   },
   {
    "duration": 195719,
    "start_time": "2022-05-19T16:38:43.612Z"
   },
   {
    "duration": 506,
    "start_time": "2022-05-19T16:41:59.333Z"
   },
   {
    "duration": 10,
    "start_time": "2022-05-19T16:41:59.927Z"
   },
   {
    "duration": 40226,
    "start_time": "2022-05-19T16:54:11.257Z"
   },
   {
    "duration": 181,
    "start_time": "2022-05-19T16:54:51.485Z"
   },
   {
    "duration": 9,
    "start_time": "2022-05-19T16:54:51.668Z"
   },
   {
    "duration": 1184662,
    "start_time": "2022-05-19T17:01:28.546Z"
   },
   {
    "duration": 28,
    "start_time": "2022-05-19T17:23:54.854Z"
   },
   {
    "duration": 8,
    "start_time": "2022-05-19T17:23:55.763Z"
   },
   {
    "duration": 4303,
    "start_time": "2022-05-19T18:28:00.622Z"
   },
   {
    "duration": 950,
    "start_time": "2022-05-19T18:28:04.930Z"
   },
   {
    "duration": 21,
    "start_time": "2022-05-19T18:28:05.882Z"
   },
   {
    "duration": 34,
    "start_time": "2022-05-19T18:28:05.906Z"
   },
   {
    "duration": 245,
    "start_time": "2022-05-19T18:28:05.942Z"
   },
   {
    "duration": 659,
    "start_time": "2022-05-19T18:28:06.190Z"
   },
   {
    "duration": 15,
    "start_time": "2022-05-19T18:28:06.852Z"
   },
   {
    "duration": 4125,
    "start_time": "2022-05-19T18:36:51.841Z"
   },
   {
    "duration": 894,
    "start_time": "2022-05-19T18:36:55.968Z"
   },
   {
    "duration": 19,
    "start_time": "2022-05-19T18:36:56.865Z"
   },
   {
    "duration": 27,
    "start_time": "2022-05-19T18:36:56.886Z"
   },
   {
    "duration": 245,
    "start_time": "2022-05-19T18:36:56.927Z"
   },
   {
    "duration": 590,
    "start_time": "2022-05-19T18:36:57.173Z"
   },
   {
    "duration": 6,
    "start_time": "2022-05-19T18:36:57.765Z"
   },
   {
    "duration": 4777,
    "start_time": "2022-05-19T19:15:51.251Z"
   },
   {
    "duration": 1109,
    "start_time": "2022-05-19T19:15:56.036Z"
   },
   {
    "duration": 27,
    "start_time": "2022-05-19T19:15:57.148Z"
   },
   {
    "duration": 11,
    "start_time": "2022-05-19T19:15:57.178Z"
   },
   {
    "duration": 22,
    "start_time": "2022-05-19T19:15:57.191Z"
   },
   {
    "duration": 636,
    "start_time": "2022-05-19T19:15:57.215Z"
   },
   {
    "duration": 6,
    "start_time": "2022-05-19T19:15:57.853Z"
   },
   {
    "duration": 19907,
    "start_time": "2022-05-19T19:15:57.860Z"
   },
   {
    "duration": 4,
    "start_time": "2022-05-19T19:16:17.768Z"
   },
   {
    "duration": 7,
    "start_time": "2022-05-19T19:16:17.775Z"
   },
   {
    "duration": 7,
    "start_time": "2022-05-19T19:16:17.784Z"
   },
   {
    "duration": 12,
    "start_time": "2022-05-19T19:16:17.792Z"
   },
   {
    "duration": 21,
    "start_time": "2022-05-19T19:16:17.806Z"
   },
   {
    "duration": 257,
    "start_time": "2022-05-19T19:16:17.836Z"
   },
   {
    "duration": 3,
    "start_time": "2022-05-19T19:16:18.095Z"
   },
   {
    "duration": 9,
    "start_time": "2022-05-19T19:16:18.099Z"
   },
   {
    "duration": 13,
    "start_time": "2022-05-19T19:16:18.109Z"
   },
   {
    "duration": 5475,
    "start_time": "2022-05-19T19:16:18.124Z"
   },
   {
    "duration": 10,
    "start_time": "2022-05-19T19:16:23.601Z"
   },
   {
    "duration": 35,
    "start_time": "2022-05-19T19:16:23.613Z"
   },
   {
    "duration": 11229,
    "start_time": "2022-05-19T19:16:23.650Z"
   },
   {
    "duration": 17,
    "start_time": "2022-05-19T19:16:34.881Z"
   },
   {
    "duration": 9,
    "start_time": "2022-05-19T19:16:34.900Z"
   },
   {
    "duration": 190883,
    "start_time": "2022-05-19T19:16:34.911Z"
   },
   {
    "duration": 11,
    "start_time": "2022-05-19T19:19:45.795Z"
   },
   {
    "duration": 5,
    "start_time": "2022-05-19T19:19:45.808Z"
   },
   {
    "duration": 337,
    "start_time": "2022-05-19T19:19:45.827Z"
   },
   {
    "duration": 0,
    "start_time": "2022-05-19T19:19:46.166Z"
   },
   {
    "duration": 0,
    "start_time": "2022-05-19T19:19:46.167Z"
   },
   {
    "duration": 0,
    "start_time": "2022-05-19T19:19:46.168Z"
   },
   {
    "duration": 38,
    "start_time": "2022-05-19T19:22:04.374Z"
   },
   {
    "duration": 288,
    "start_time": "2022-05-19T19:22:08.961Z"
   },
   {
    "duration": 787,
    "start_time": "2022-05-19T19:24:24.115Z"
   },
   {
    "duration": 160,
    "start_time": "2022-05-19T19:27:52.388Z"
   },
   {
    "duration": 180,
    "start_time": "2022-05-19T19:28:00.415Z"
   },
   {
    "duration": 8,
    "start_time": "2022-05-19T19:29:38.644Z"
   },
   {
    "duration": 13,
    "start_time": "2022-05-19T19:29:39.535Z"
   },
   {
    "duration": 190,
    "start_time": "2022-05-19T19:30:24.859Z"
   },
   {
    "duration": 271,
    "start_time": "2022-05-19T19:31:44.899Z"
   },
   {
    "duration": 146,
    "start_time": "2022-05-19T19:32:22.335Z"
   },
   {
    "duration": 5,
    "start_time": "2022-05-19T19:33:02.755Z"
   },
   {
    "duration": 958,
    "start_time": "2022-05-19T19:33:03.059Z"
   },
   {
    "duration": 16,
    "start_time": "2022-05-19T19:33:04.019Z"
   },
   {
    "duration": 146,
    "start_time": "2022-05-19T19:33:04.038Z"
   },
   {
    "duration": 170,
    "start_time": "2022-05-19T19:33:33.592Z"
   },
   {
    "duration": 152,
    "start_time": "2022-05-19T19:33:39.257Z"
   },
   {
    "duration": 160,
    "start_time": "2022-05-19T19:34:24.526Z"
   },
   {
    "duration": 4826,
    "start_time": "2022-05-19T19:34:32.795Z"
   },
   {
    "duration": 820,
    "start_time": "2022-05-19T19:34:37.624Z"
   },
   {
    "duration": 14,
    "start_time": "2022-05-19T19:34:38.446Z"
   },
   {
    "duration": 146,
    "start_time": "2022-05-19T19:34:38.464Z"
   },
   {
    "duration": 8,
    "start_time": "2022-05-19T19:34:39.918Z"
   },
   {
    "duration": 7,
    "start_time": "2022-05-19T19:34:40.674Z"
   },
   {
    "duration": 490,
    "start_time": "2022-05-19T19:34:41.144Z"
   },
   {
    "duration": 9,
    "start_time": "2022-05-19T19:34:41.639Z"
   },
   {
    "duration": 17374,
    "start_time": "2022-05-19T19:34:41.862Z"
   },
   {
    "duration": 6,
    "start_time": "2022-05-19T19:34:59.246Z"
   },
   {
    "duration": 15,
    "start_time": "2022-05-19T19:34:59.253Z"
   },
   {
    "duration": 7,
    "start_time": "2022-05-19T19:34:59.271Z"
   },
   {
    "duration": 13,
    "start_time": "2022-05-19T19:34:59.280Z"
   },
   {
    "duration": 6,
    "start_time": "2022-05-19T19:34:59.295Z"
   },
   {
    "duration": 268,
    "start_time": "2022-05-19T19:34:59.302Z"
   },
   {
    "duration": 3,
    "start_time": "2022-05-19T19:34:59.572Z"
   },
   {
    "duration": 17,
    "start_time": "2022-05-19T19:34:59.577Z"
   },
   {
    "duration": 3,
    "start_time": "2022-05-19T19:34:59.597Z"
   },
   {
    "duration": 5520,
    "start_time": "2022-05-19T19:34:59.601Z"
   },
   {
    "duration": 13,
    "start_time": "2022-05-19T19:35:05.130Z"
   },
   {
    "duration": 13,
    "start_time": "2022-05-19T19:35:05.148Z"
   },
   {
    "duration": 8,
    "start_time": "2022-05-19T19:37:38.538Z"
   },
   {
    "duration": 10368,
    "start_time": "2022-05-19T19:37:39.838Z"
   },
   {
    "duration": 21,
    "start_time": "2022-05-19T19:37:50.209Z"
   },
   {
    "duration": 23,
    "start_time": "2022-05-19T19:37:50.234Z"
   },
   {
    "duration": 196374,
    "start_time": "2022-05-19T19:37:50.260Z"
   },
   {
    "duration": 25,
    "start_time": "2022-05-19T19:41:06.636Z"
   },
   {
    "duration": 10,
    "start_time": "2022-05-19T19:41:06.663Z"
   },
   {
    "duration": 115,
    "start_time": "2022-05-19T19:42:32.643Z"
   },
   {
    "duration": 831,
    "start_time": "2022-05-19T19:42:36.043Z"
   },
   {
    "duration": 10,
    "start_time": "2022-05-19T19:42:36.877Z"
   },
   {
    "duration": 169,
    "start_time": "2022-05-19T19:42:37.004Z"
   },
   {
    "duration": 359,
    "start_time": "2022-05-19T19:43:09.389Z"
   },
   {
    "duration": 232,
    "start_time": "2022-05-19T19:43:25.781Z"
   },
   {
    "duration": 11,
    "start_time": "2022-05-19T20:03:03.643Z"
   },
   {
    "duration": 993,
    "start_time": "2022-05-19T20:03:05.525Z"
   },
   {
    "duration": 23,
    "start_time": "2022-05-19T20:03:06.522Z"
   },
   {
    "duration": 187,
    "start_time": "2022-05-19T20:03:06.553Z"
   },
   {
    "duration": 9,
    "start_time": "2022-05-19T20:03:06.746Z"
   },
   {
    "duration": 21,
    "start_time": "2022-05-19T20:03:06.757Z"
   },
   {
    "duration": 641,
    "start_time": "2022-05-19T20:03:06.782Z"
   },
   {
    "duration": 10,
    "start_time": "2022-05-19T20:03:07.427Z"
   },
   {
    "duration": 19959,
    "start_time": "2022-05-19T20:03:07.443Z"
   },
   {
    "duration": 4,
    "start_time": "2022-05-19T20:03:27.404Z"
   },
   {
    "duration": 41,
    "start_time": "2022-05-19T20:03:27.410Z"
   },
   {
    "duration": 17,
    "start_time": "2022-05-19T20:03:27.454Z"
   },
   {
    "duration": 15,
    "start_time": "2022-05-19T20:03:27.472Z"
   },
   {
    "duration": 8,
    "start_time": "2022-05-19T20:03:27.489Z"
   },
   {
    "duration": 80,
    "start_time": "2022-05-19T20:03:27.498Z"
   },
   {
    "duration": 3,
    "start_time": "2022-05-19T20:03:27.581Z"
   },
   {
    "duration": 11,
    "start_time": "2022-05-19T20:03:27.586Z"
   },
   {
    "duration": 14,
    "start_time": "2022-05-19T20:03:27.598Z"
   },
   {
    "duration": 6312,
    "start_time": "2022-05-19T20:03:27.615Z"
   },
   {
    "duration": 20,
    "start_time": "2022-05-19T20:03:33.929Z"
   },
   {
    "duration": 10,
    "start_time": "2022-05-19T20:03:33.954Z"
   },
   {
    "duration": 11274,
    "start_time": "2022-05-19T20:03:33.966Z"
   },
   {
    "duration": 28,
    "start_time": "2022-05-19T20:03:45.243Z"
   },
   {
    "duration": 11,
    "start_time": "2022-05-19T20:03:45.273Z"
   },
   {
    "duration": 228099,
    "start_time": "2022-05-19T20:03:45.287Z"
   },
   {
    "duration": 26,
    "start_time": "2022-05-19T20:07:33.387Z"
   },
   {
    "duration": 28,
    "start_time": "2022-05-19T20:07:33.415Z"
   },
   {
    "duration": 238,
    "start_time": "2022-05-19T20:11:29.486Z"
   },
   {
    "duration": 531,
    "start_time": "2022-05-19T20:11:30.668Z"
   },
   {
    "duration": 12316,
    "start_time": "2022-05-19T20:11:32.650Z"
   },
   {
    "duration": 404,
    "start_time": "2022-05-19T20:11:48.151Z"
   },
   {
    "duration": 732,
    "start_time": "2022-05-19T20:13:17.667Z"
   },
   {
    "duration": 1346,
    "start_time": "2022-05-19T20:14:17.154Z"
   },
   {
    "duration": 19,
    "start_time": "2022-05-19T20:14:22.266Z"
   },
   {
    "duration": 145,
    "start_time": "2022-05-19T20:19:13.512Z"
   },
   {
    "duration": 6574,
    "start_time": "2022-05-19T20:23:43.952Z"
   },
   {
    "duration": 2923,
    "start_time": "2022-05-19T20:23:51.251Z"
   },
   {
    "duration": 17,
    "start_time": "2022-05-19T20:23:54.177Z"
   },
   {
    "duration": 161,
    "start_time": "2022-05-19T20:23:54.196Z"
   },
   {
    "duration": 6,
    "start_time": "2022-05-19T20:23:54.360Z"
   },
   {
    "duration": 16,
    "start_time": "2022-05-19T20:23:54.368Z"
   },
   {
    "duration": 689,
    "start_time": "2022-05-19T20:23:54.386Z"
   },
   {
    "duration": 5,
    "start_time": "2022-05-19T20:23:55.078Z"
   },
   {
    "duration": 2411,
    "start_time": "2022-05-19T20:23:55.084Z"
   },
   {
    "duration": 5,
    "start_time": "2022-05-19T20:23:57.497Z"
   },
   {
    "duration": 4,
    "start_time": "2022-05-19T20:23:57.506Z"
   },
   {
    "duration": 19,
    "start_time": "2022-05-19T20:23:57.512Z"
   },
   {
    "duration": 46,
    "start_time": "2022-05-19T20:23:57.533Z"
   },
   {
    "duration": 8,
    "start_time": "2022-05-19T20:23:57.581Z"
   },
   {
    "duration": 188,
    "start_time": "2022-05-19T20:23:57.590Z"
   },
   {
    "duration": 3,
    "start_time": "2022-05-19T20:23:57.780Z"
   },
   {
    "duration": 13,
    "start_time": "2022-05-19T20:23:57.785Z"
   },
   {
    "duration": 7,
    "start_time": "2022-05-19T20:23:57.799Z"
   },
   {
    "duration": 1513,
    "start_time": "2022-05-19T20:23:57.948Z"
   },
   {
    "duration": 390,
    "start_time": "2022-05-19T20:23:59.463Z"
   },
   {
    "duration": 0,
    "start_time": "2022-05-19T20:23:59.855Z"
   },
   {
    "duration": 2923,
    "start_time": "2022-05-19T20:24:00.081Z"
   },
   {
    "duration": 9,
    "start_time": "2022-05-19T20:24:03.007Z"
   },
   {
    "duration": 27,
    "start_time": "2022-05-19T20:24:03.033Z"
   },
   {
    "duration": 4666,
    "start_time": "2022-05-19T20:24:45.904Z"
   },
   {
    "duration": 867,
    "start_time": "2022-05-19T20:24:50.573Z"
   },
   {
    "duration": 17,
    "start_time": "2022-05-19T20:24:51.450Z"
   },
   {
    "duration": 199,
    "start_time": "2022-05-19T20:24:51.470Z"
   },
   {
    "duration": 11,
    "start_time": "2022-05-19T20:24:51.673Z"
   },
   {
    "duration": 30,
    "start_time": "2022-05-19T20:24:51.686Z"
   },
   {
    "duration": 583,
    "start_time": "2022-05-19T20:24:51.718Z"
   },
   {
    "duration": 5,
    "start_time": "2022-05-19T20:24:52.303Z"
   },
   {
    "duration": 17984,
    "start_time": "2022-05-19T20:24:52.310Z"
   },
   {
    "duration": 4,
    "start_time": "2022-05-19T20:25:10.296Z"
   },
   {
    "duration": 11,
    "start_time": "2022-05-19T20:25:10.302Z"
   },
   {
    "duration": 12,
    "start_time": "2022-05-19T20:25:10.315Z"
   },
   {
    "duration": 34,
    "start_time": "2022-05-19T20:25:10.341Z"
   },
   {
    "duration": 7,
    "start_time": "2022-05-19T20:25:10.378Z"
   },
   {
    "duration": 294,
    "start_time": "2022-05-19T20:25:10.387Z"
   },
   {
    "duration": 4,
    "start_time": "2022-05-19T20:25:10.682Z"
   },
   {
    "duration": 10,
    "start_time": "2022-05-19T20:25:10.690Z"
   },
   {
    "duration": 8,
    "start_time": "2022-05-19T20:25:10.702Z"
   },
   {
    "duration": 6115,
    "start_time": "2022-05-19T20:25:10.711Z"
   },
   {
    "duration": 13,
    "start_time": "2022-05-19T20:25:16.831Z"
   },
   {
    "duration": 23,
    "start_time": "2022-05-19T20:25:16.852Z"
   },
   {
    "duration": 10419,
    "start_time": "2022-05-19T20:25:16.878Z"
   },
   {
    "duration": 37,
    "start_time": "2022-05-19T20:25:27.299Z"
   },
   {
    "duration": 14,
    "start_time": "2022-05-19T20:25:27.340Z"
   },
   {
    "duration": 212782,
    "start_time": "2022-05-19T20:25:27.357Z"
   },
   {
    "duration": 33,
    "start_time": "2022-05-19T20:29:00.145Z"
   },
   {
    "duration": 11,
    "start_time": "2022-05-19T20:29:00.180Z"
   },
   {
    "duration": 3,
    "start_time": "2022-05-19T20:29:43.886Z"
   },
   {
    "duration": 21,
    "start_time": "2022-05-19T20:29:44.647Z"
   },
   {
    "duration": 308,
    "start_time": "2022-05-19T20:29:51.380Z"
   },
   {
    "duration": 424,
    "start_time": "2022-05-19T20:29:52.473Z"
   },
   {
    "duration": 10245,
    "start_time": "2022-05-19T20:29:53.801Z"
   },
   {
    "duration": 5994,
    "start_time": "2022-05-19T20:30:58.586Z"
   },
   {
    "duration": 479,
    "start_time": "2022-05-19T20:31:07.463Z"
   },
   {
    "duration": 684,
    "start_time": "2022-05-19T20:31:09.488Z"
   },
   {
    "duration": 334,
    "start_time": "2022-05-19T20:36:55.042Z"
   },
   {
    "duration": 8,
    "start_time": "2022-05-19T20:37:05.101Z"
   },
   {
    "duration": 3,
    "start_time": "2022-05-19T20:37:18.081Z"
   },
   {
    "duration": 6,
    "start_time": "2022-05-19T20:37:28.385Z"
   },
   {
    "duration": 4,
    "start_time": "2022-05-19T20:37:32.638Z"
   },
   {
    "duration": 5,
    "start_time": "2022-05-19T20:37:40.990Z"
   },
   {
    "duration": 5,
    "start_time": "2022-05-19T20:37:45.207Z"
   },
   {
    "duration": 8,
    "start_time": "2022-05-19T20:38:00.363Z"
   },
   {
    "duration": 4,
    "start_time": "2022-05-19T20:38:24.827Z"
   },
   {
    "duration": 4,
    "start_time": "2022-05-19T20:38:31.842Z"
   },
   {
    "duration": 4,
    "start_time": "2022-05-19T20:38:35.077Z"
   },
   {
    "duration": 5,
    "start_time": "2022-05-19T20:40:19.928Z"
   },
   {
    "duration": 4,
    "start_time": "2022-05-19T20:40:21.246Z"
   },
   {
    "duration": 23,
    "start_time": "2022-05-19T20:41:01.879Z"
   },
   {
    "duration": 4,
    "start_time": "2022-05-19T20:41:11.669Z"
   },
   {
    "duration": 7,
    "start_time": "2022-05-19T20:41:52.026Z"
   },
   {
    "duration": 42,
    "start_time": "2022-05-19T20:41:58.361Z"
   },
   {
    "duration": 12,
    "start_time": "2022-05-19T20:42:28.521Z"
   },
   {
    "duration": 4,
    "start_time": "2022-05-19T20:42:34.723Z"
   },
   {
    "duration": 3,
    "start_time": "2022-05-19T20:43:11.457Z"
   },
   {
    "duration": 5,
    "start_time": "2022-05-19T20:43:12.271Z"
   },
   {
    "duration": 358,
    "start_time": "2022-05-19T20:44:20.802Z"
   },
   {
    "duration": 3,
    "start_time": "2022-05-19T20:44:22.888Z"
   },
   {
    "duration": 4,
    "start_time": "2022-05-19T20:44:23.598Z"
   },
   {
    "duration": 25,
    "start_time": "2022-05-19T20:44:25.604Z"
   },
   {
    "duration": 5,
    "start_time": "2022-05-19T20:44:26.370Z"
   },
   {
    "duration": 72,
    "start_time": "2022-05-19T20:44:29.212Z"
   },
   {
    "duration": 4157,
    "start_time": "2022-05-19T20:46:55.625Z"
   },
   {
    "duration": 775,
    "start_time": "2022-05-19T20:46:59.784Z"
   },
   {
    "duration": 14,
    "start_time": "2022-05-19T20:47:00.560Z"
   },
   {
    "duration": 180,
    "start_time": "2022-05-19T20:47:00.576Z"
   },
   {
    "duration": 26,
    "start_time": "2022-05-19T20:47:00.758Z"
   },
   {
    "duration": 246,
    "start_time": "2022-05-19T20:47:00.785Z"
   },
   {
    "duration": 503,
    "start_time": "2022-05-19T20:47:01.033Z"
   },
   {
    "duration": 4,
    "start_time": "2022-05-19T20:47:01.538Z"
   },
   {
    "duration": 2386575,
    "start_time": "2022-05-19T20:47:01.544Z"
   },
   {
    "duration": 28,
    "start_time": "2022-05-19T21:26:48.122Z"
   },
   {
    "duration": 11,
    "start_time": "2022-05-19T21:26:48.151Z"
   },
   {
    "duration": 52,
    "start_time": "2022-05-19T21:26:48.163Z"
   },
   {
    "duration": 17,
    "start_time": "2022-05-19T21:26:48.217Z"
   },
   {
    "duration": 29,
    "start_time": "2022-05-19T21:26:48.237Z"
   },
   {
    "duration": 6523,
    "start_time": "2022-05-19T21:26:48.268Z"
   },
   {
    "duration": 3,
    "start_time": "2022-05-19T21:26:54.793Z"
   },
   {
    "duration": 36,
    "start_time": "2022-05-19T21:26:54.798Z"
   },
   {
    "duration": 3,
    "start_time": "2022-05-19T21:26:54.836Z"
   },
   {
    "duration": 6063,
    "start_time": "2022-05-20T06:30:19.455Z"
   },
   {
    "duration": 4248,
    "start_time": "2022-05-20T06:30:25.521Z"
   },
   {
    "duration": 16,
    "start_time": "2022-05-20T06:30:29.771Z"
   },
   {
    "duration": 28,
    "start_time": "2022-05-20T06:30:29.790Z"
   },
   {
    "duration": 260,
    "start_time": "2022-05-20T06:30:29.821Z"
   },
   {
    "duration": 754,
    "start_time": "2022-05-20T06:30:30.082Z"
   },
   {
    "duration": 8,
    "start_time": "2022-05-20T06:30:30.838Z"
   },
   {
    "duration": 2660831,
    "start_time": "2022-05-20T06:30:30.856Z"
   },
   {
    "duration": 26,
    "start_time": "2022-05-20T07:14:51.689Z"
   },
   {
    "duration": 11,
    "start_time": "2022-05-20T07:14:51.717Z"
   },
   {
    "duration": 55,
    "start_time": "2022-05-20T07:14:51.729Z"
   },
   {
    "duration": 11,
    "start_time": "2022-05-20T07:14:51.786Z"
   },
   {
    "duration": 30,
    "start_time": "2022-05-20T07:14:51.799Z"
   },
   {
    "duration": 7271,
    "start_time": "2022-05-20T07:14:51.831Z"
   },
   {
    "duration": 3,
    "start_time": "2022-05-20T07:14:59.103Z"
   },
   {
    "duration": 45,
    "start_time": "2022-05-20T07:14:59.107Z"
   },
   {
    "duration": 2,
    "start_time": "2022-05-20T07:14:59.154Z"
   },
   {
    "duration": 7789,
    "start_time": "2022-05-20T07:25:12.423Z"
   },
   {
    "duration": 13,
    "start_time": "2022-05-20T07:25:26.099Z"
   },
   {
    "duration": 4,
    "start_time": "2022-05-20T07:25:48.761Z"
   },
   {
    "duration": 4090,
    "start_time": "2022-05-20T07:25:50.466Z"
   },
   {
    "duration": 6,
    "start_time": "2022-05-20T07:26:50.593Z"
   },
   {
    "duration": 2357,
    "start_time": "2022-05-20T07:26:51.815Z"
   },
   {
    "duration": 12,
    "start_time": "2022-05-20T07:26:54.174Z"
   },
   {
    "duration": 30,
    "start_time": "2022-05-20T07:26:56.121Z"
   },
   {
    "duration": 219,
    "start_time": "2022-05-20T07:26:56.392Z"
   },
   {
    "duration": 692,
    "start_time": "2022-05-20T07:26:57.531Z"
   },
   {
    "duration": 4,
    "start_time": "2022-05-20T07:26:58.225Z"
   },
   {
    "duration": 4610,
    "start_time": "2022-05-20T07:30:04.600Z"
   },
   {
    "duration": 7,
    "start_time": "2022-05-20T07:30:09.212Z"
   },
   {
    "duration": 873,
    "start_time": "2022-05-20T07:30:10.311Z"
   },
   {
    "duration": 15,
    "start_time": "2022-05-20T07:30:11.186Z"
   },
   {
    "duration": 35,
    "start_time": "2022-05-20T07:30:11.320Z"
   },
   {
    "duration": 226,
    "start_time": "2022-05-20T07:30:11.565Z"
   },
   {
    "duration": 556,
    "start_time": "2022-05-20T07:30:12.782Z"
   },
   {
    "duration": 10,
    "start_time": "2022-05-20T07:30:13.343Z"
   },
   {
    "duration": 4415,
    "start_time": "2022-05-20T07:31:18.035Z"
   },
   {
    "duration": 7,
    "start_time": "2022-05-20T07:31:22.455Z"
   },
   {
    "duration": 867,
    "start_time": "2022-05-20T07:31:22.464Z"
   },
   {
    "duration": 29,
    "start_time": "2022-05-20T07:31:23.334Z"
   },
   {
    "duration": 26,
    "start_time": "2022-05-20T07:31:23.365Z"
   },
   {
    "duration": 245,
    "start_time": "2022-05-20T07:31:23.392Z"
   },
   {
    "duration": 553,
    "start_time": "2022-05-20T07:31:23.640Z"
   },
   {
    "duration": 4,
    "start_time": "2022-05-20T07:31:24.194Z"
   },
   {
    "duration": 10,
    "start_time": "2022-05-20T07:31:54.454Z"
   },
   {
    "duration": 4647,
    "start_time": "2022-05-20T07:31:54.957Z"
   },
   {
    "duration": 8,
    "start_time": "2022-05-20T07:31:59.606Z"
   },
   {
    "duration": 985,
    "start_time": "2022-05-20T07:31:59.615Z"
   },
   {
    "duration": 14,
    "start_time": "2022-05-20T07:32:00.602Z"
   },
   {
    "duration": 48,
    "start_time": "2022-05-20T07:32:00.618Z"
   },
   {
    "duration": 297,
    "start_time": "2022-05-20T07:32:00.670Z"
   },
   {
    "duration": 702,
    "start_time": "2022-05-20T07:32:00.969Z"
   },
   {
    "duration": 4,
    "start_time": "2022-05-20T07:32:01.673Z"
   },
   {
    "duration": 433,
    "start_time": "2022-05-20T07:32:01.679Z"
   },
   {
    "duration": 4842,
    "start_time": "2022-05-20T07:36:29.967Z"
   },
   {
    "duration": 926,
    "start_time": "2022-05-20T07:36:36.699Z"
   },
   {
    "duration": 33,
    "start_time": "2022-05-20T07:36:37.627Z"
   },
   {
    "duration": 26,
    "start_time": "2022-05-20T07:36:37.902Z"
   },
   {
    "duration": 237,
    "start_time": "2022-05-20T07:36:38.154Z"
   },
   {
    "duration": 526,
    "start_time": "2022-05-20T07:36:38.610Z"
   },
   {
    "duration": 13,
    "start_time": "2022-05-20T07:36:39.138Z"
   },
   {
    "duration": 4168,
    "start_time": "2022-05-20T07:39:52.030Z"
   },
   {
    "duration": 1417,
    "start_time": "2022-05-20T07:39:57.019Z"
   },
   {
    "duration": 32,
    "start_time": "2022-05-20T07:39:58.438Z"
   },
   {
    "duration": 26,
    "start_time": "2022-05-20T07:39:58.472Z"
   },
   {
    "duration": 227,
    "start_time": "2022-05-20T07:39:58.500Z"
   },
   {
    "duration": 554,
    "start_time": "2022-05-20T07:39:58.809Z"
   },
   {
    "duration": 4,
    "start_time": "2022-05-20T07:39:59.503Z"
   },
   {
    "duration": 2907426,
    "start_time": "2022-05-20T07:39:59.997Z"
   },
   {
    "duration": 418,
    "start_time": "2022-05-20T08:37:01.454Z"
   },
   {
    "duration": 34,
    "start_time": "2022-05-20T08:37:11.598Z"
   },
   {
    "duration": 27,
    "start_time": "2022-05-20T08:37:56.784Z"
   },
   {
    "duration": 6,
    "start_time": "2022-05-20T08:37:58.030Z"
   },
   {
    "duration": 63,
    "start_time": "2022-05-20T08:37:58.729Z"
   },
   {
    "duration": 11,
    "start_time": "2022-05-20T08:37:59.297Z"
   },
   {
    "duration": 28,
    "start_time": "2022-05-20T08:38:11.053Z"
   },
   {
    "duration": 8759,
    "start_time": "2022-05-20T08:38:11.957Z"
   },
   {
    "duration": 3,
    "start_time": "2022-05-20T08:38:27.768Z"
   },
   {
    "duration": 30,
    "start_time": "2022-05-20T08:38:28.084Z"
   },
   {
    "duration": 3,
    "start_time": "2022-05-20T08:38:28.405Z"
   },
   {
    "duration": 19819,
    "start_time": "2022-05-20T08:38:43.068Z"
   },
   {
    "duration": 1007247,
    "start_time": "2022-05-20T08:40:23.922Z"
   },
   {
    "duration": 0,
    "start_time": "2022-05-20T09:09:05.534Z"
   },
   {
    "duration": 0,
    "start_time": "2022-05-20T09:09:05.543Z"
   },
   {
    "duration": 0,
    "start_time": "2022-05-20T09:09:05.544Z"
   },
   {
    "duration": 0,
    "start_time": "2022-05-20T09:09:05.546Z"
   },
   {
    "duration": 0,
    "start_time": "2022-05-20T09:09:05.549Z"
   },
   {
    "duration": 0,
    "start_time": "2022-05-20T09:09:05.550Z"
   },
   {
    "duration": 0,
    "start_time": "2022-05-20T09:09:05.553Z"
   },
   {
    "duration": 0,
    "start_time": "2022-05-20T09:09:05.554Z"
   },
   {
    "duration": 0,
    "start_time": "2022-05-20T09:09:05.556Z"
   },
   {
    "duration": 960,
    "start_time": "2022-05-20T09:09:22.263Z"
   },
   {
    "duration": 8,
    "start_time": "2022-05-20T09:09:29.083Z"
   },
   {
    "duration": 43,
    "start_time": "2022-05-20T09:10:07.271Z"
   },
   {
    "duration": 26,
    "start_time": "2022-05-20T09:10:24.778Z"
   },
   {
    "duration": 1061075,
    "start_time": "2022-05-20T09:10:42.963Z"
   },
   {
    "duration": 1077832,
    "start_time": "2022-05-20T09:29:09.372Z"
   },
   {
    "duration": 10782,
    "start_time": "2022-05-20T09:47:18.665Z"
   },
   {
    "duration": 34,
    "start_time": "2022-05-20T09:47:29.449Z"
   },
   {
    "duration": 293171,
    "start_time": "2022-05-20T09:51:42.537Z"
   },
   {
    "duration": 6765,
    "start_time": "2022-05-20T09:56:35.711Z"
   },
   {
    "duration": 51,
    "start_time": "2022-05-20T09:56:42.478Z"
   },
   {
    "duration": 465238,
    "start_time": "2022-05-20T10:00:03.569Z"
   },
   {
    "duration": 200,
    "start_time": "2022-05-20T10:07:48.810Z"
   },
   {
    "duration": 64,
    "start_time": "2022-05-20T10:07:49.013Z"
   }
  ],
  "kernelspec": {
   "display_name": "Python 3 (ipykernel)",
   "language": "python",
   "name": "python3"
  },
  "language_info": {
   "codemirror_mode": {
    "name": "ipython",
    "version": 3
   },
   "file_extension": ".py",
   "mimetype": "text/x-python",
   "name": "python",
   "nbconvert_exporter": "python",
   "pygments_lexer": "ipython3",
   "version": "3.7.0"
  },
  "toc": {
   "base_numbering": 1,
   "nav_menu": {},
   "number_sections": true,
   "sideBar": true,
   "skip_h1_title": true,
   "title_cell": "Содержание",
   "title_sidebar": "Contents",
   "toc_cell": true,
   "toc_position": {
    "height": "calc(100% - 180px)",
    "left": "10px",
    "top": "150px",
    "width": "302.391px"
   },
   "toc_section_display": true,
   "toc_window_display": true
  }
 },
 "nbformat": 4,
 "nbformat_minor": 2
}
